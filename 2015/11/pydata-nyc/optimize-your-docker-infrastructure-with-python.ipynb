{
 "cells": [
  {
   "cell_type": "markdown",
   "metadata": {
    "slideshow": {
     "slide_type": "slide"
    }
   },
   "source": [
    "# Optimize your Docker Infrastructure with Python\n",
    "\n",
    "## PyData NYC\n",
    "\n",
    "November 11, 2015\n",
    "\n",
    "[Ryan J. O'Neil](mailto:ryanjoneil@gmail.com)  \n",
    "Lead Engineer @ [Yhat, Inc.](https://yhathq.com/)  \n",
    "[SEOR](http://seor.gmu.edu) PhD Candidate @ George Mason University"
   ]
  },
  {
   "cell_type": "markdown",
   "metadata": {
    "slideshow": {
     "slide_type": "slide"
    }
   },
   "source": [
    "### Motivation\n",
    "\n",
    "Consider the DevOps Engineer."
   ]
  },
  {
   "cell_type": "markdown",
   "metadata": {
    "slideshow": {
     "slide_type": "subslide"
    }
   },
   "source": [
    "#### It's a noble group...\n",
    "\n",
    "![](images/scotty.jpg)"
   ]
  },
  {
   "cell_type": "markdown",
   "metadata": {
    "slideshow": {
     "slide_type": "subslide"
    }
   },
   "source": [
    "### ...with grave responsibilities.\n",
    "\n",
    "One of the important functions of DevOps is the creation of environments for:\n",
    "\n",
    "* Software development\n",
    "* Testing & quality assurance\n",
    "* Running operational systems\n",
    "* Whatever else you might need a computing environment for"
   ]
  },
  {
   "cell_type": "markdown",
   "metadata": {
    "slideshow": {
     "slide_type": "subslide"
    }
   },
   "source": [
    "#### There's even a Venn diagram about DevOps.\n",
    "\n",
    "And we all know how much we like Venn diagrams.\n",
    "\n",
    "![](images/devops-venn.svg)"
   ]
  },
  {
   "cell_type": "markdown",
   "metadata": {
    "slideshow": {
     "slide_type": "subslide"
    }
   },
   "source": [
    "#### A typical DevOps function\n",
    "\n",
    "Say you work on _Yet Another Enterprise Java Application (TM)_. YAEJA generates lots of \\$\\$\\$\\$ for _Yet Another Enterprise Software Company_ and it keeps you gainfully employed!\n",
    "\n",
    "Say you need to upgrade portions of the system YAEJA it runs _(and depends)_ on.\n",
    "\n",
    "Youo don't want to just upgrade the production instances without testing first. So you need two environments from your DevOps person.\n",
    "\n",
    "One for running the production instance:\n",
    "\n",
    "|     | Command                                                        |\n",
    "|-----|----------------------------------------------------------------|\n",
    "| $A$ | Install the Java compiler and runtime environment.             |\n",
    "| $B$ | Download a set of external dependencies.                       |\n",
    "| $C$ | Set up a an EntepriseDB (TM) schema and populate it with data. |"
   ]
  },
  {
   "cell_type": "markdown",
   "metadata": {
    "slideshow": {
     "slide_type": "subslide"
    }
   },
   "source": [
    "And another for testing it with the new version of the utility:\n",
    "\n",
    "|     | Command                                                        |\n",
    "|-----|----------------------------------------------------------------|\n",
    "| $A$ | Install the Java compiler and runtime environment.             |\n",
    "| $B$ | Download a set of external dependencies.                       |\n",
    "| $C$ | Set up a an EntepriseDB (TM) schema and populate it with data. |\n",
    "| $D$ | Update the underlying system utility.                          |\n",
    "\n",
    "If _Yet Another Enterprise Java Application (TM)_ integrates with a number of optional third party applications, you might need an additional test environment for each one.\n",
    "\n",
    "If those interact in interesting ways, you may need test environments for different combinations of third party integrations."
   ]
  },
  {
   "cell_type": "markdown",
   "metadata": {
    "slideshow": {
     "slide_type": "subslide"
    }
   },
   "source": [
    "#### Looks like your DevOps Engineer will be working all weekend\n",
    "\n",
    "![](images/saturday.png)"
   ]
  },
  {
   "cell_type": "markdown",
   "metadata": {
    "slideshow": {
     "slide_type": "subslide"
    }
   },
   "source": [
    "#### In the old days...\n",
    "\n",
    "At a big software shop, devops may be responsible for the continual setup and teardown of dozens (or _hundreds_) of system configurations for a single software project.\n",
    "\n",
    "This used to be done with physical hardware on _(sometimes)_ fresh operating system installs.\n",
    "\n",
    "Most medium-to-large software shops had an air conditioned room that looked like this.\n",
    "\n",
    "![](images/cable-spaghetti.jpg)"
   ]
  },
  {
   "cell_type": "markdown",
   "metadata": {
    "slideshow": {
     "slide_type": "slide"
    }
   },
   "source": [
    "### Background"
   ]
  },
  {
   "cell_type": "markdown",
   "metadata": {
    "slideshow": {
     "slide_type": "subslide"
    }
   },
   "source": [
    "#### Docker Cache Mechanics"
   ]
  },
  {
   "cell_type": "markdown",
   "metadata": {
    "slideshow": {
     "slide_type": "slide"
    }
   },
   "source": [
    "### Problem Formulation"
   ]
  }
 ],
 "metadata": {
  "celltoolbar": "Slideshow",
  "kernelspec": {
   "display_name": "Python 3",
   "language": "python",
   "name": "python3"
  },
  "language_info": {
   "codemirror_mode": {
    "name": "ipython",
    "version": 3
   },
   "file_extension": ".py",
   "mimetype": "text/x-python",
   "name": "python",
   "nbconvert_exporter": "python",
   "pygments_lexer": "ipython3",
   "version": "3.4.3"
  }
 },
 "nbformat": 4,
 "nbformat_minor": 0
}
