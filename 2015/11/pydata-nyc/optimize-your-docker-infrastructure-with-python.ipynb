{
 "cells": [
  {
   "cell_type": "markdown",
   "metadata": {
    "slideshow": {
     "slide_type": "slide"
    }
   },
   "source": [
    "# Optimize your Docker Infrastructure with Python\n",
    "\n",
    "## PyData NYC\n",
    "\n",
    "November 11, 2015\n",
    "\n",
    "Ryan J. O'Neil  \n",
    "<ryanjoneil@gmail.com>  "
   ]
  },
  {
   "cell_type": "markdown",
   "metadata": {
    "slideshow": {
     "slide_type": "slide"
    }
   },
   "source": [
    "### Intro\n",
    "\n",
    "By Day: Lead Engineer @ Yhat, Inc.  \n",
    "\n",
    "Formerly:\n",
    "* Simulation, modeling, optimization @ MITRE\n",
    "* Data Journo @ The Washington Post"
   ]
  },
  {
   "cell_type": "markdown",
   "metadata": {
    "slideshow": {
     "slide_type": "fragment"
    }
   },
   "source": [
    "By Night: PhD Candidate in SEOR @ George Mason University\n",
    "\n",
    "Research:\n",
    "* Combinatorial optimization\n",
    "* Scheduling problems\n",
    "* Cutting & packing problems"
   ]
  },
  {
   "cell_type": "markdown",
   "metadata": {
    "slideshow": {
     "slide_type": "slide"
    }
   },
   "source": [
    "### Motivation\n",
    "\n",
    "Consider the DevOps Engineer."
   ]
  },
  {
   "cell_type": "markdown",
   "metadata": {
    "slideshow": {
     "slide_type": "subslide"
    }
   },
   "source": [
    "#### It's a noble group...\n",
    "\n",
    "![](images/scotty.jpg)"
   ]
  },
  {
   "cell_type": "markdown",
   "metadata": {
    "slideshow": {
     "slide_type": "subslide"
    }
   },
   "source": [
    "### ...with grave responsibilities.\n",
    "\n",
    "One of the important functions of DevOps is the creation of environments for:\n",
    "\n",
    "* Software development\n",
    "* Testing & quality assurance\n",
    "* Running operational systems\n",
    "* Whatever else you might need a computing environment for"
   ]
  },
  {
   "cell_type": "markdown",
   "metadata": {
    "slideshow": {
     "slide_type": "subslide"
    }
   },
   "source": [
    "#### There's even a Venn diagram about DevOps.\n",
    "\n",
    "And we all know how much we like Venn diagrams.\n",
    "\n",
    "![](images/devops-venn.svg)"
   ]
  },
  {
   "cell_type": "markdown",
   "metadata": {
    "slideshow": {
     "slide_type": "subslide"
    }
   },
   "source": [
    "#### A typical DevOps function\n",
    "\n",
    "Say you work on _Yet Another Enterprise Java Application (TM)_. YAEJA generates lots of \\$\\$\\$\\$ for _Yet Another Enterprise Software Company_ and it keeps you gainfully employed!\n",
    "\n",
    "Say you need to upgrade portions of the system YAEJA it runs _(and depends)_ on.\n",
    "\n",
    "Youo don't want to just upgrade the production instances without testing first. So you need two environments from your DevOps person.\n",
    "\n",
    "One for running the production instance:\n",
    "\n",
    "|     | Command                                                        |\n",
    "|-----|----------------------------------------------------------------|\n",
    "| $A$ | Install the Java compiler and runtime environment.             |\n",
    "| $B$ | Download a set of external dependencies.                       |\n",
    "| $C$ | Set up a an EntepriseDB (TM) schema and populate it with data. |"
   ]
  },
  {
   "cell_type": "markdown",
   "metadata": {
    "slideshow": {
     "slide_type": "subslide"
    }
   },
   "source": [
    "And another for testing it with the new version of the utility:\n",
    "\n",
    "|     | Command                                                        |\n",
    "|-----|----------------------------------------------------------------|\n",
    "| $A$ | Install the Java compiler and runtime environment.             |\n",
    "| $B$ | Download a set of external dependencies.                       |\n",
    "| $C$ | Set up a an EntepriseDB (TM) schema and populate it with data. |\n",
    "| $D$ | Update the underlying system utility.                          |\n",
    "\n",
    "If _Yet Another Enterprise Java Application (TM)_ integrates with a number of optional third party applications, you might need an additional test environment for each one.\n",
    "\n",
    "If those interact in interesting ways, you may need test environments for different combinations of third party integrations."
   ]
  },
  {
   "cell_type": "markdown",
   "metadata": {
    "slideshow": {
     "slide_type": "subslide"
    }
   },
   "source": [
    "#### Looks like your DevOps person will be working all weekend\n",
    "\n",
    "![](images/saturday.png)"
   ]
  },
  {
   "cell_type": "markdown",
   "metadata": {
    "slideshow": {
     "slide_type": "subslide"
    }
   },
   "source": [
    "#### In the old days...\n",
    "\n",
    "At a big software shop, devops may be responsible for the continual setup and teardown of dozens (or _hundreds_) of system configurations for a single software project.\n",
    "\n",
    "This used to be done with physical hardware on _(sometimes)_ fresh operating system installs.\n",
    "\n",
    "Most medium-to-large software shops had an air conditioned room that looked like this.\n",
    "\n",
    "![](images/cable-spaghetti.jpg)"
   ]
  },
  {
   "cell_type": "markdown",
   "metadata": {
    "slideshow": {
     "slide_type": "subslide"
    }
   },
   "source": [
    "#### Environmental setup was often pretty manual\n",
    "\n",
    "If you had to reproduce an environment, you had a few options:\n",
    "\n",
    "* Start with a fresh install of the operating system\n",
    "\n",
    "\n",
    "* Save the results of your setup to a CD and load that onto a box\n",
    "\n",
    "\n",
    "* Hope that uninstalling and resintalling the relevant components is good enough  \n",
    "\n",
    "    + A _lot_ of people did this\n",
    "    + It's probably not good enough\n",
    "    + Most software leaves behind relics\n",
    "        - Logs...\n",
    "        - Data files...\n",
    "        - Configuration..."
   ]
  },
  {
   "cell_type": "markdown",
   "metadata": {
    "slideshow": {
     "slide_type": "subslide"
    }
   },
   "source": [
    "#### Nowadays...\n",
    "\n",
    "![](images/cloud-docker.png)"
   ]
  },
  {
   "cell_type": "markdown",
   "metadata": {
    "slideshow": {
     "slide_type": "slide"
    }
   },
   "source": [
    "### What's a container?\n",
    "\n",
    "Docker is so hot right now."
   ]
  },
  {
   "cell_type": "markdown",
   "metadata": {
    "slideshow": {
     "slide_type": "subslide"
    }
   },
   "source": [
    "Containers are lightweight virtualization. They make it seem like a process is in it own operating system on its own hardware, without loading up heavy stuff like a kernel."
   ]
  },
  {
   "cell_type": "markdown",
   "metadata": {
    "slideshow": {
     "slide_type": "fragment"
    }
   },
   "source": [
    "Container architectures have bveen around since `chroot` jails in V7 Unix.\n"
   ]
  },
  {
   "cell_type": "markdown",
   "metadata": {
    "slideshow": {
     "slide_type": "fragment"
    }
   },
   "source": [
    "They're not exactly _new_..."
   ]
  },
  {
   "cell_type": "markdown",
   "metadata": {
    "slideshow": {
     "slide_type": "fragment"
    }
   },
   "source": [
    "But now they're so convenient they feel _(and are raising venture capital)_ that way!"
   ]
  },
  {
   "cell_type": "markdown",
   "metadata": {
    "slideshow": {
     "slide_type": "subslide"
    }
   },
   "source": [
    "#### A tiny bit of history\n",
    "\n",
    "* 1979: `chroot` jails added to System 7 Unix at Bell Labs\n",
    "    + Last version of Unix before it was commercializated by AT&T\n",
    "    + Ran on a DEC PDP-11 minicomputer"
   ]
  },
  {
   "cell_type": "markdown",
   "metadata": {
    "slideshow": {
     "slide_type": "fragment"
    }
   },
   "source": [
    "* 1982: Bill Joy ports `chroot` to BSD"
   ]
  },
  {
   "cell_type": "markdown",
   "metadata": {
    "slideshow": {
     "slide_type": "fragment"
    }
   },
   "source": [
    "* 2005: Sun releases Solaris Containers\n",
    "    + Zones provide fully isolated virtual servers on a single host"
   ]
  },
  {
   "cell_type": "markdown",
   "metadata": {
    "slideshow": {
     "slide_type": "fragment"
    }
   },
   "source": [
    "* 2007: Initial implementation of `cgroups` by Google for Linux Kernel 2.6.24\n",
    "    + Isolation of system resources"
   ]
  },
  {
   "cell_type": "markdown",
   "metadata": {
    "slideshow": {
     "slide_type": "fragment"
    }
   },
   "source": [
    "* 2013: **Namespace isolation** introduced in Linux Kernels 3.15 & 3.16\n",
    "    + Process IDs\n",
    "    + Network interfaces, iptables, routing\n",
    "    + Inter-Process Communication\n",
    "    + etc..."
   ]
  },
  {
   "cell_type": "markdown",
   "metadata": {
    "slideshow": {
     "slide_type": "subslide"
    }
   },
   "source": [
    "#### Containers are about isolation...\n",
    "\n",
    "Processes and system resources behave as if the are on their own computers.\n",
    "\n",
    "##### Container 1\n",
    "\n",
    "```\n",
    "[ryan@localhost ~]$ docker run -it ubuntu:trusty /bin/bash\n",
    "root@19867869f71d:/# echo spam and eggs > /ingredients.txt\n",
    "root@19867869f71d:/# cat /ingredients.txt                         \n",
    "spam and eggs\n",
    "```"
   ]
  },
  {
   "cell_type": "markdown",
   "metadata": {
    "slideshow": {
     "slide_type": "fragment"
    }
   },
   "source": [
    "##### Container  2\n",
    "\n",
    "```\n",
    "[ryan@localhost ~]$ docker run ubuntu:trusty cat /ingredients.txt\n",
    "cat: /ingredients.txt: No such file or directory\n",
    "```"
   ]
  },
  {
   "cell_type": "markdown",
   "metadata": {
    "slideshow": {
     "slide_type": "subslide"
    }
   },
   "source": [
    "They have their own process spaces.\n",
    "\n",
    "```\n",
    "[ryan@localhost ~]$ docker run --cidfile=cid -it ubuntu:trusty\n",
    "root@fc347d97db8c:/# echo $$\n",
    "1\n",
    "```"
   ]
  },
  {
   "cell_type": "markdown",
   "metadata": {
    "slideshow": {
     "slide_type": "fragment"
    }
   },
   "source": [
    "And they are convinced they have their own hardware resources.\n",
    "\n",
    "```\n",
    "[ryan@localhost ~]$ docker stats --no-stream=true $(cat cid)\n",
    "\n",
    "CONTAINER\n",
    "fc347d97db8c7d02b870eff3e2d1e92747e8c0fc1cb7f9b1c76bf534fcd21ba0\n",
    "\n",
    "CPU %               MEM USAGE/LIMIT     MEM %               NET I/O\n",
    "0.00%               524.3 kB/7.945 GB   0.01%               648 B/648 B\n",
    "```"
   ]
  },
  {
   "cell_type": "markdown",
   "metadata": {
    "slideshow": {
     "slide_type": "subslide"
    }
   },
   "source": [
    "#### ...but containers are also about sharing.\n",
    "\n",
    "And this is what we care about today."
   ]
  },
  {
   "cell_type": "markdown",
   "metadata": {
    "slideshow": {
     "slide_type": "fragment"
    }
   },
   "source": [
    "Specifically, saving and retrieving the results of a computation from the Docker image cache."
   ]
  },
  {
   "cell_type": "markdown",
   "metadata": {
    "slideshow": {
     "slide_type": "fragment"
    }
   },
   "source": [
    "Why?\n",
    "\n",
    "Smart cache use == time saved building out environments!"
   ]
  },
  {
   "cell_type": "markdown",
   "metadata": {
    "slideshow": {
     "slide_type": "slide"
    }
   },
   "source": [
    "### Docker cache mechanics\n",
    "\n",
    "Maybe I should call this section UnionFS mechanics, but then Docker is so hot right now."
   ]
  },
  {
   "cell_type": "markdown",
   "metadata": {
    "slideshow": {
     "slide_type": "subslide"
    }
   },
   "source": [
    "#### A Tale of Two Dockerfiles\n",
    "\n",
    "Two similar dockerfiles here (ABC"
   ]
  },
  {
   "cell_type": "markdown",
   "metadata": {
    "slideshow": {
     "slide_type": "subslide"
    }
   },
   "source": [
    "#### What happens when build these into images?"
   ]
  },
  {
   "cell_type": "markdown",
   "metadata": {
    "slideshow": {
     "slide_type": "subslide"
    }
   },
   "source": [
    "#### "
   ]
  },
  {
   "cell_type": "markdown",
   "metadata": {
    "slideshow": {
     "slide_type": "subslide"
    }
   },
   "source": [
    "#### "
   ]
  },
  {
   "cell_type": "markdown",
   "metadata": {
    "slideshow": {
     "slide_type": "subslide"
    }
   },
   "source": [
    "#### "
   ]
  },
  {
   "cell_type": "markdown",
   "metadata": {
    "slideshow": {
     "slide_type": "subslide"
    }
   },
   "source": [
    "#### "
   ]
  },
  {
   "cell_type": "markdown",
   "metadata": {
    "slideshow": {
     "slide_type": "slide"
    }
   },
   "source": [
    "### Problem statement\n",
    "\n",
    "Let's write this thing in LaTeX!"
   ]
  },
  {
   "cell_type": "markdown",
   "metadata": {
    "slideshow": {
     "slide_type": "subslide"
    }
   },
   "source": []
  },
  {
   "cell_type": "markdown",
   "metadata": {
    "slideshow": {
     "slide_type": "subslide"
    }
   },
   "source": []
  },
  {
   "cell_type": "markdown",
   "metadata": {
    "slideshow": {
     "slide_type": "subslide"
    }
   },
   "source": []
  },
  {
   "cell_type": "markdown",
   "metadata": {
    "slideshow": {
     "slide_type": "slide"
    }
   },
   "source": [
    "### Partitioning sets with PuLP\n",
    "\n",
    "We'll start with a really easy NP-Complete problem..."
   ]
  },
  {
   "cell_type": "markdown",
   "metadata": {
    "slideshow": {
     "slide_type": "subslide"
    }
   },
   "source": []
  },
  {
   "cell_type": "markdown",
   "metadata": {
    "slideshow": {
     "slide_type": "subslide"
    }
   },
   "source": []
  },
  {
   "cell_type": "markdown",
   "metadata": {
    "slideshow": {
     "slide_type": "subslide"
    }
   },
   "source": []
  },
  {
   "cell_type": "markdown",
   "metadata": {
    "slideshow": {
     "slide_type": "slide"
    }
   },
   "source": [
    "### Finding maximal cliques with NetworkX\n",
    "\n",
    "...add another NP-Complete subproblem..."
   ]
  },
  {
   "cell_type": "markdown",
   "metadata": {
    "slideshow": {
     "slide_type": "subslide"
    }
   },
   "source": []
  },
  {
   "cell_type": "markdown",
   "metadata": {
    "slideshow": {
     "slide_type": "subslide"
    }
   },
   "source": []
  },
  {
   "cell_type": "markdown",
   "metadata": {
    "slideshow": {
     "slide_type": "subslide"
    }
   },
   "source": []
  },
  {
   "cell_type": "markdown",
   "metadata": {
    "slideshow": {
     "slide_type": "slide"
    }
   },
   "source": [
    "### Model construction\n",
    "\n",
    "...and then we'll solve both of them."
   ]
  },
  {
   "cell_type": "markdown",
   "metadata": {
    "slideshow": {
     "slide_type": "subslide"
    }
   },
   "source": []
  },
  {
   "cell_type": "markdown",
   "metadata": {
    "slideshow": {
     "slide_type": "subslide"
    }
   },
   "source": []
  },
  {
   "cell_type": "markdown",
   "metadata": {
    "slideshow": {
     "slide_type": "subslide"
    }
   },
   "source": []
  },
  {
   "cell_type": "markdown",
   "metadata": {
    "slideshow": {
     "slide_type": "slide"
    }
   },
   "source": [
    "### Results\n",
    "\n",
    "No, really. That's how we do this thing."
   ]
  },
  {
   "cell_type": "markdown",
   "metadata": {
    "slideshow": {
     "slide_type": "subslide"
    }
   },
   "source": []
  },
  {
   "cell_type": "markdown",
   "metadata": {
    "slideshow": {
     "slide_type": "subslide"
    }
   },
   "source": []
  },
  {
   "cell_type": "markdown",
   "metadata": {
    "slideshow": {
     "slide_type": "subslide"
    }
   },
   "source": []
  }
 ],
 "metadata": {
  "celltoolbar": "Slideshow",
  "kernelspec": {
   "display_name": "Python 3",
   "language": "python",
   "name": "python3"
  },
  "language_info": {
   "codemirror_mode": {
    "name": "ipython",
    "version": 3
   },
   "file_extension": ".py",
   "mimetype": "text/x-python",
   "name": "python",
   "nbconvert_exporter": "python",
   "pygments_lexer": "ipython3",
   "version": "3.4.3"
  }
 },
 "nbformat": 4,
 "nbformat_minor": 0
}
