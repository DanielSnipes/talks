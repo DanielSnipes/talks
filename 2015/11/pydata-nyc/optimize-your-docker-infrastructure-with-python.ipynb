{
 "cells": [
  {
   "cell_type": "markdown",
   "metadata": {
    "slideshow": {
     "slide_type": "slide"
    }
   },
   "source": [
    "# Optimize your Docker Infrastructure with Python\n",
    "\n",
    "## PyData NYC\n",
    "\n",
    "November 11, 2015\n",
    "\n",
    "Ryan J. O'Neil  \n",
    "<ryanjoneil@gmail.com>  "
   ]
  },
  {
   "cell_type": "markdown",
   "metadata": {
    "slideshow": {
     "slide_type": "slide"
    }
   },
   "source": [
    "### Intro\n",
    "\n",
    "By Day: Lead Engineer @ Yhat, Inc.  \n",
    "\n",
    "Formerly:\n",
    "* Simulation, modeling, optimization @ MITRE\n",
    "* Data Journo @ The Washington Post"
   ]
  },
  {
   "cell_type": "markdown",
   "metadata": {
    "slideshow": {
     "slide_type": "fragment"
    }
   },
   "source": [
    "By Night: PhD Candidate in SEOR @ George Mason University\n",
    "\n",
    "Research:\n",
    "* Combinatorial optimization\n",
    "* Scheduling problems\n",
    "* Cutting & packing problems"
   ]
  },
  {
   "cell_type": "markdown",
   "metadata": {
    "slideshow": {
     "slide_type": "slide"
    }
   },
   "source": [
    "### Motivation\n",
    "\n",
    "Consider the DevOps Engineer."
   ]
  },
  {
   "cell_type": "markdown",
   "metadata": {
    "slideshow": {
     "slide_type": "subslide"
    }
   },
   "source": [
    "#### It's a noble group...\n",
    "\n",
    "![](images/scotty.jpg)"
   ]
  },
  {
   "cell_type": "markdown",
   "metadata": {
    "slideshow": {
     "slide_type": "subslide"
    }
   },
   "source": [
    "### ...with grave responsibilities.\n",
    "\n",
    "One of the important functions of DevOps is the creation of environments for:\n",
    "\n",
    "* Software development\n",
    "* Testing & quality assurance\n",
    "* Running operational systems\n",
    "* Whatever else you might need a computing environment for"
   ]
  },
  {
   "cell_type": "markdown",
   "metadata": {
    "slideshow": {
     "slide_type": "subslide"
    }
   },
   "source": [
    "#### There's even a Venn diagram about DevOps.\n",
    "\n",
    "And we all know how much we like Venn diagrams.\n",
    "\n",
    "![](images/devops-venn.svg)"
   ]
  },
  {
   "cell_type": "markdown",
   "metadata": {
    "slideshow": {
     "slide_type": "subslide"
    }
   },
   "source": [
    "#### A typical DevOps function\n",
    "\n",
    "Say you work on _Yet Another Enterprise Java Application (TM)_. YAEJA generates lots of \\$\\$\\$\\$ for _Yet Another Enterprise Software Company_ and it keeps you gainfully employed!\n",
    "\n",
    "Say you need to upgrade portions of the system YAEJA it runs _(and depends)_ on.\n",
    "\n",
    "Youo don't want to just upgrade the production instances without testing first. So you need two environments from your DevOps person.\n",
    "\n",
    "One for running the production instance:\n",
    "\n",
    "|     | Command                                                        |\n",
    "|-----|----------------------------------------------------------------|\n",
    "| $A$ | Install the Java compiler and runtime environment.             |\n",
    "| $B$ | Download a set of external dependencies.                       |\n",
    "| $C$ | Set up a an EntepriseDB (TM) schema and populate it with data. |"
   ]
  },
  {
   "cell_type": "markdown",
   "metadata": {
    "slideshow": {
     "slide_type": "subslide"
    }
   },
   "source": [
    "And another for testing it with the new version of the utility:\n",
    "\n",
    "|     | Command                                                        |\n",
    "|-----|----------------------------------------------------------------|\n",
    "| $A$ | Install the Java compiler and runtime environment.             |\n",
    "| $B$ | Download a set of external dependencies.                       |\n",
    "| $C$ | Set up a an EntepriseDB (TM) schema and populate it with data. |\n",
    "| $D$ | Update the underlying system utility.                          |\n",
    "\n",
    "If _Yet Another Enterprise Java Application (TM)_ integrates with a number of optional third party applications, you might need an additional test environment for each one.\n",
    "\n",
    "If those interact in interesting ways, you may need test environments for different combinations of third party integrations."
   ]
  },
  {
   "cell_type": "markdown",
   "metadata": {
    "slideshow": {
     "slide_type": "subslide"
    }
   },
   "source": [
    "#### Looks like your DevOps person will be working all weekend\n",
    "\n",
    "![](images/saturday.png)"
   ]
  },
  {
   "cell_type": "markdown",
   "metadata": {
    "slideshow": {
     "slide_type": "subslide"
    }
   },
   "source": [
    "#### In the old days...\n",
    "\n",
    "At a big software shop, devops may be responsible for the continual setup and teardown of dozens (or _hundreds_) of system configurations for a single software project.\n",
    "\n",
    "This used to be done with physical hardware on _(sometimes)_ fresh operating system installs.\n",
    "\n",
    "Most medium-to-large software shops had an air conditioned room that looked like this.\n",
    "\n",
    "![](images/cable-spaghetti.jpg)"
   ]
  },
  {
   "cell_type": "markdown",
   "metadata": {
    "slideshow": {
     "slide_type": "subslide"
    }
   },
   "source": [
    "#### Environmental setup was often pretty manual\n",
    "\n",
    "If you had to reproduce an environment, you had a few options:\n",
    "\n",
    "* Start with a fresh install of the operating system\n",
    "\n",
    "\n",
    "* Save the results of your setup to a CD and load that onto a box\n",
    "\n",
    "\n",
    "* Hope that uninstalling and resintalling the relevant components is good enough  \n",
    "\n",
    "    + A _lot_ of people did this\n",
    "    + It's probably not good enough\n",
    "    + Most software leaves behind relics\n",
    "        - Logs...\n",
    "        - Data files...\n",
    "        - Configuration..."
   ]
  },
  {
   "cell_type": "markdown",
   "metadata": {
    "slideshow": {
     "slide_type": "subslide"
    }
   },
   "source": [
    "#### Nowadays...\n",
    "\n",
    "![](images/cloud-docker.png)"
   ]
  },
  {
   "cell_type": "markdown",
   "metadata": {
    "slideshow": {
     "slide_type": "slide"
    }
   },
   "source": [
    "### What's a container?\n",
    "\n",
    "Docker is so hot right now."
   ]
  },
  {
   "cell_type": "markdown",
   "metadata": {
    "slideshow": {
     "slide_type": "subslide"
    }
   },
   "source": [
    "Containers are lightweight virtualization. They make it seem like a process is in it own operating system on its own hardware, without loading up heavy stuff like a kernel."
   ]
  },
  {
   "cell_type": "markdown",
   "metadata": {
    "slideshow": {
     "slide_type": "fragment"
    }
   },
   "source": [
    "Container architectures have been around since `chroot` jails in V7 Unix."
   ]
  },
  {
   "cell_type": "markdown",
   "metadata": {
    "slideshow": {
     "slide_type": "fragment"
    }
   },
   "source": [
    "They're not exactly _new_..."
   ]
  },
  {
   "cell_type": "markdown",
   "metadata": {
    "slideshow": {
     "slide_type": "fragment"
    }
   },
   "source": [
    "But now they're so convenient they feel _(and are raising venture capital)_ that way!"
   ]
  },
  {
   "cell_type": "markdown",
   "metadata": {
    "slideshow": {
     "slide_type": "subslide"
    }
   },
   "source": [
    "#### A tiny bit of history\n",
    "\n",
    "* 1979: `chroot` jails added to System 7 Unix at Bell Labs\n",
    "    + Last version of Unix before it was commercializated by AT&T\n",
    "    + Ran on a DEC PDP-11 minicomputer"
   ]
  },
  {
   "cell_type": "markdown",
   "metadata": {
    "slideshow": {
     "slide_type": "fragment"
    }
   },
   "source": [
    "* 1982: Bill Joy ports `chroot` to BSD"
   ]
  },
  {
   "cell_type": "markdown",
   "metadata": {
    "slideshow": {
     "slide_type": "fragment"
    }
   },
   "source": [
    "* 2005: Sun releases Solaris Containers\n",
    "    + Zones provide fully isolated virtual servers on a single host"
   ]
  },
  {
   "cell_type": "markdown",
   "metadata": {
    "slideshow": {
     "slide_type": "fragment"
    }
   },
   "source": [
    "* 2007: Initial implementation of `cgroups` by Google for Linux Kernel 2.6.24\n",
    "    + Isolation of system resources"
   ]
  },
  {
   "cell_type": "markdown",
   "metadata": {
    "slideshow": {
     "slide_type": "fragment"
    }
   },
   "source": [
    "* 2013: **Namespace isolation** introduced in Linux Kernels 3.15 & 3.16\n",
    "    + Process IDs\n",
    "    + Network interfaces, iptables, routing\n",
    "    + Inter-Process Communication\n",
    "    + etc..."
   ]
  },
  {
   "cell_type": "markdown",
   "metadata": {
    "slideshow": {
     "slide_type": "subslide"
    }
   },
   "source": [
    "#### Containers are about isolation...\n",
    "\n",
    "Processes and system resources behave as if the are on their own computers.\n",
    "\n",
    "##### Container 1\n",
    "\n",
    "```\n",
    "[ryan@localhost ~]$ docker run -it ubuntu:trusty /bin/bash\n",
    "root@19867869f71d:/# echo spam and eggs > /ingredients.txt\n",
    "root@19867869f71d:/# cat /ingredients.txt                         \n",
    "spam and eggs\n",
    "```"
   ]
  },
  {
   "cell_type": "markdown",
   "metadata": {
    "slideshow": {
     "slide_type": "fragment"
    }
   },
   "source": [
    "##### Container  2\n",
    "\n",
    "```\n",
    "[ryan@localhost ~]$ docker run ubuntu:trusty cat /ingredients.txt\n",
    "cat: /ingredients.txt: No such file or directory\n",
    "```"
   ]
  },
  {
   "cell_type": "markdown",
   "metadata": {
    "slideshow": {
     "slide_type": "subslide"
    }
   },
   "source": [
    "They have their own process spaces.\n",
    "\n",
    "```\n",
    "[ryan@localhost ~]$ docker run --cidfile=cid -it ubuntu:trusty\n",
    "root@fc347d97db8c:/# echo $$\n",
    "1\n",
    "```"
   ]
  },
  {
   "cell_type": "markdown",
   "metadata": {
    "slideshow": {
     "slide_type": "fragment"
    }
   },
   "source": [
    "And they are convinced they have their own hardware resources.\n",
    "\n",
    "```\n",
    "[ryan@localhost ~]$ docker stats --no-stream=true $(cat cid)\n",
    "\n",
    "CONTAINER\n",
    "fc347d97db8c7d02b870eff3e2d1e92747e8c0fc1cb7f9b1c76bf534fcd21ba0\n",
    "\n",
    "CPU %               MEM USAGE/LIMIT     MEM %               NET I/O\n",
    "0.00%               524.3 kB/7.945 GB   0.01%               648 B/648 B\n",
    "```"
   ]
  },
  {
   "cell_type": "markdown",
   "metadata": {
    "slideshow": {
     "slide_type": "subslide"
    }
   },
   "source": [
    "#### ...but containers are also about sharing.\n",
    "\n",
    "And this is what we care about here."
   ]
  },
  {
   "cell_type": "markdown",
   "metadata": {
    "slideshow": {
     "slide_type": "fragment"
    }
   },
   "source": [
    "Specifically, saving and retrieving the results of a computation from the Docker image cache."
   ]
  },
  {
   "cell_type": "markdown",
   "metadata": {
    "slideshow": {
     "slide_type": "fragment"
    }
   },
   "source": [
    "Why?\n",
    "\n",
    "Smart cache use == time saved building out environments!"
   ]
  },
  {
   "cell_type": "markdown",
   "metadata": {
    "slideshow": {
     "slide_type": "subslide"
    }
   },
   "source": [
    "![](images/scotty-approved.jpg)"
   ]
  },
  {
   "cell_type": "markdown",
   "metadata": {
    "slideshow": {
     "slide_type": "slide"
    }
   },
   "source": [
    "### Docker cache mechanics\n",
    "\n",
    "Maybe I should call this section UnionFS mechanics, but then Docker is so hot right now."
   ]
  },
  {
   "cell_type": "markdown",
   "metadata": {
    "slideshow": {
     "slide_type": "subslide"
    }
   },
   "source": [
    "#### A Tale of Two Dockerfiles\n",
    "\n",
    "Let's say I collect old or non-standard revision control systems."
   ]
  },
  {
   "cell_type": "markdown",
   "metadata": {
    "slideshow": {
     "slide_type": "fragment"
    }
   },
   "source": [
    "Everyone needs a hobby."
   ]
  },
  {
   "cell_type": "markdown",
   "metadata": {
    "slideshow": {
     "slide_type": "fragment"
    }
   },
   "source": [
    "I set up an environment with a few RCSs in it to play around with.\n",
    "\n",
    "##### Dockerfile: rcs1\n",
    "  \n",
    "```\n",
    "FROM ubuntu:trusty\n",
    "RUN apt-get install -y bzr\n",
    "RUN apt-get install -y cvs\n",
    "```"
   ]
  },
  {
   "cell_type": "markdown",
   "metadata": {
    "slideshow": {
     "slide_type": "subslide"
    }
   },
   "source": [
    "#### Let's build out our non-standard RCS image!\n",
    "\n",
    "```\n",
    "[ryan@localhost dockerfiles]$ docker build --file=rcs1 --tag=rcs1 .\n",
    "```"
   ]
  },
  {
   "cell_type": "markdown",
   "metadata": {
    "slideshow": {
     "slide_type": "fragment"
    }
   },
   "source": [
    "Step 0 would download the base Ubuntu image, but I've already got it.\n",
    "\n",
    "```\n",
    "Sending build context to Docker daemon 24.58 kB\n",
    "Step 0 : FROM ubuntu:trusty\n",
    " ---> a5a467fddcb8\n",
    "```"
   ]
  },
  {
   "cell_type": "markdown",
   "metadata": {
    "slideshow": {
     "slide_type": "fragment"
    }
   },
   "source": [
    "`bzr` require a number of dependencies...\n",
    "\n",
    "```\n",
    "Step 1 : RUN apt-get install -y bzr\n",
    " ---> Running in 7679f0a1525e\n",
    "Reading package lists...\n",
    "Building dependency tree...\n",
    "Reading state information...\n",
    "The following extra packages will be installed:\n",
    "  ca-certificates dbus gir1.2-glib-2.0 libapparmor1 libassuan0\n",
    "  libdbus-glib-1-2 libgirepository-1.0-1 libglib2.0-0 libglib2.0-data libgmp10\n",
    "  [...snip...]\n",
    "```"
   ]
  },
  {
   "cell_type": "markdown",
   "metadata": {
    "slideshow": {
     "slide_type": "subslide"
    }
   },
   "source": [
    "As does `cvs`.\n",
    "\n",
    "```\n",
    "Step 2 : RUN apt-get install -y cvs\n",
    " ---> Running in 54229eef94d2\n",
    "Reading package lists...\n",
    "Building dependency tree...\n",
    "Reading state information...\n",
    "The following extra packages will be installed:\n",
    "  krb5-locales libedit2 libgssapi-krb5-2 libk5crypto3 libkeyutils1 libkrb5-3\n",
    "  libkrb5support0 libx11-6 libx11-data libxau6 libxcb1 libxdmcp6 libxext6\n",
    "  [...snip...]\n",
    "```"
   ]
  },
  {
   "cell_type": "markdown",
   "metadata": {
    "slideshow": {
     "slide_type": "subslide"
    }
   },
   "source": [
    "At the end of this I have a tagged image. I can easily use this to spin up new containers.\n",
    "\n",
    "```\n",
    "[ryan@localhost dockerfiles]$ docker run rcs1 bash -c \"which cvs && which bzr\"\n",
    "/usr/bin/cvs\n",
    "/usr/bin/bzr\n",
    "```"
   ]
  },
  {
   "cell_type": "markdown",
   "metadata": {
    "slideshow": {
     "slide_type": "subslide"
    }
   },
   "source": [
    "#### Oh snap.\n",
    "\n",
    "I found an old RCS repository from the 1980s I want to look at.\n",
    "\n",
    "![](images/rcs-sccs.jpg)"
   ]
  },
  {
   "cell_type": "markdown",
   "metadata": {
    "slideshow": {
     "slide_type": "subslide"
    }
   },
   "source": [
    "I don't have `rcs` installed. I guess I'll have to build a new image.\n",
    "\n",
    "##### Dockerfile: rcs2\n",
    "  \n",
    "```\n",
    "FROM ubuntu:trusty\n",
    "RUN apt-get install -y bzr\n",
    "RUN apt-get install -y cvs\n",
    "RUN apt-get install -y software-properties-common\n",
    "RUN add-apt-repository \"deb http://archive.ubuntu.com/ubuntu trusty universe\"\n",
    "RUN apt-get update\n",
    "RUN apt-get install -y rcs\n",
    "```"
   ]
  },
  {
   "cell_type": "markdown",
   "metadata": {
    "slideshow": {
     "slide_type": "subslide"
    }
   },
   "source": [
    "```\n",
    "[ryan@localhost dockerfiles]$ docker build --file=rcs2 --tag=rcs2 .\n",
    "```"
   ]
  },
  {
   "cell_type": "markdown",
   "metadata": {
    "slideshow": {
     "slide_type": "fragment"
    }
   },
   "source": [
    "\n",
    "The first few steps have already been run before and can use the Docker cache!\n",
    "```\n",
    "Step 0 : FROM ubuntu:trusty\n",
    " ---> a5a467fddcb8\n",
    "\n",
    "Step 1 : RUN apt-get install -y bzr\n",
    " ---> Using cache\n",
    " ---> ed8a8efd04cc\n",
    "\n",
    "Step 2 : RUN apt-get install -y cvs\n",
    " ---> Using cache\n",
    " ---> 61fe05c24a19\n",
    "```"
   ]
  },
  {
   "cell_type": "markdown",
   "metadata": {
    "slideshow": {
     "slide_type": "subslide"
    }
   },
   "source": [
    "After that it's business as usual.\n",
    "\n",
    "```\n",
    "Step 3 : RUN apt-get install -y software-properties-common\n",
    " ---> Running in 4adc2bb63a73\n",
    "The following extra packages will be installed:\n",
    "  iso-codes libasn1-8-heimdal libcurl3-gnutls libgssapi3-heimdal\n",
    "  libhcrypto4-heimdal libheimbase1-heimdal libheimntlm0-heimdal\n",
    "  [...snip...]\n",
    "\n",
    "Step 4 : RUN add-apt-repository \"deb http://archive.ubuntu.com/ubuntu trusty universe\"\n",
    " ---> Running in 5a023435448c\n",
    " ---> 02439f270099\n",
    "Removing intermediate container 5a023435448c\n",
    "\n",
    "Step 5 : RUN apt-get update\n",
    " ---> Running in 449c25ee3537\n",
    "Get:1 http://archive.ubuntu.com trusty-updates InRelease [64.4 kB]\n",
    "[...snip...]\n",
    "\n",
    "Step 6 : RUN apt-get install -y rcs\n",
    " ---> Running in 3574b94bbea3\n",
    "The following NEW packages will be installed:\n",
    "  rcs\n",
    "```"
   ]
  },
  {
   "cell_type": "markdown",
   "metadata": {
    "slideshow": {
     "slide_type": "subslide"
    }
   },
   "source": [
    "#### Adding to my stable of random revision control.\n",
    "\n",
    "_Also, why are they all three letters long?_\n",
    "\n",
    "So now I have `rcs` in addition to `bzr` and `cvs`. Note that my `rcs2` image was built off of my `rcs1` image. I didn't have to do any extra work to recreate those shared parts of it.\n",
    "\n",
    "```\n",
    "[ryan@localhost dockerfiles]$ docker run rcs2 bash -c \"which bzr && which cvs && which rcs\"\n",
    "/usr/bin/bzr\n",
    "/usr/bin/cvs\n",
    "/usr/bin/rcs\n",
    "```"
   ]
  },
  {
   "cell_type": "markdown",
   "metadata": {
    "slideshow": {
     "slide_type": "subslide"
    }
   },
   "source": [
    "#### What happens if I rebuild the image again?\n",
    "\n",
    "Omigosh everything is cached!\n",
    "\n",
    "```\n",
    "[ryan@localhost dockerfiles]$ docker build --file=rcs2 --tag=rcs2 .\n",
    "Sending build context to Docker daemon 3.072 kB\n",
    "Step 0 : FROM ubuntu:trusty\n",
    " ---> a5a467fddcb8\n",
    "Step 1 : RUN apt-get install -y bzr\n",
    " ---> Using cache\n",
    " ---> ed8a8efd04cc\n",
    "Step 2 : RUN apt-get install -y cvs\n",
    " ---> Using cache\n",
    " ---> 61fe05c24a19\n",
    "Step 3 : RUN apt-get install -y software-properties-common\n",
    " ---> Using cache\n",
    " ---> 942207de6f7f\n",
    "Step 4 : RUN add-apt-repository \"deb http://archive.ubuntu.com/ubuntu trusty universe\"\n",
    " ---> Using cache\n",
    " ---> 02439f270099\n",
    "Step 5 : RUN apt-get update\n",
    " ---> Using cache\n",
    " ---> 220536dfc3ff\n",
    "Step 6 : RUN apt-get install -y rcs\n",
    " ---> Using cache\n",
    " ---> 1a8cd22cb14d\n",
    "Successfully built 1a8cd22cb14d\n",
    "```"
   ]
  },
  {
   "cell_type": "markdown",
   "metadata": {
    "slideshow": {
     "slide_type": "subslide"
    }
   },
   "source": [
    "![](images/spock-logical-awesome.jpg)"
   ]
  },
  {
   "cell_type": "markdown",
   "metadata": {
    "slideshow": {
     "slide_type": "subslide"
    }
   },
   "source": [
    "#### What if I change the order of that Dockerfile?\n",
    "\n",
    "I'd really rather have the commands to add `universe` at the top.\n",
    "\n",
    "##### Dockerfile: rc3\n",
    "  \n",
    "```\n",
    "FROM ubuntu:trusty\n",
    "RUN apt-get install -y software-properties-common\n",
    "RUN add-apt-repository \"deb http://archive.ubuntu.com/ubuntu trusty universe\"\n",
    "RUN apt-get update\n",
    "RUN apt-get install -y bzr\n",
    "RUN apt-get install -y cvs\n",
    "RUN apt-get install -y rcs\n",
    "```"
   ]
  },
  {
   "cell_type": "markdown",
   "metadata": {
    "slideshow": {
     "slide_type": "subslide"
    }
   },
   "source": [
    "#### What happens when I build an image with the commands reordered?\n",
    "\n",
    "Nothing except the base image is cached!\n",
    "\n",
    "```\n",
    "[ryan@localhost dockerfiles]$ docker build --file=rcs3 --tag=rcs3 .\n",
    "Sending build context to Docker daemon 4.096 kB\n",
    "\n",
    "Step 0 : FROM ubuntu:trusty\n",
    " ---> a5a467fddcb8\n",
    "\n",
    "Step 1 : RUN apt-get install -y software-properties-common\n",
    " ---> Running in 713e49f1f323\n",
    "Reading package lists...\n",
    "Building dependency tree...\n",
    "Reading state information...\n",
    "The following extra packages will be installed:\n",
    "  ca-certificates gir1.2-glib-2.0 iso-codes krb5-locales libasn1-8-heimdal\n",
    "  libcurl3-gnutls libdbus-glib-1-2 libgirepository-1.0-1 libglib2.0-0\n",
    "  libglib2.0-data libgssapi-krb5-2 libgssapi3-heimdal libhcrypto4-heimdal\n",
    "  libheimbase1-heimdal libheimntlm0-heimdal libhx509-5-heimdal libidn11\n",
    "  libk5crypto3 libkeyutils1 libkrb5-26-heimdal libkrb5-3 libkrb5support0\n",
    "  libldap-2.4-2 libroken18-heim\n",
    "  [...etc...]\n",
    "```"
   ]
  },
  {
   "cell_type": "markdown",
   "metadata": {
    "slideshow": {
     "slide_type": "subslide"
    }
   },
   "source": [
    "#### So Docker can use the cache when...\n",
    "\n",
    "It has seen the exact same commands in _the same order_.\n",
    "\n",
    "If it sees something new, it stops using the cache.\n",
    "\n",
    "Although certain commands, like `COPY`, break the cache entirely."
   ]
  },
  {
   "cell_type": "markdown",
   "metadata": {
    "slideshow": {
     "slide_type": "subslide"
    }
   },
   "source": [
    "#### Docker caching examples\n",
    "\n",
    "Building two images that share three commands:\n",
    "\n",
    "![](images/fig01.png)"
   ]
  },
  {
   "cell_type": "markdown",
   "metadata": {
    "slideshow": {
     "slide_type": "fragment"
    }
   },
   "source": [
    "If we structure them as such, they share nothing:\n",
    "\n",
    "![](images/fig02.png)"
   ]
  },
  {
   "cell_type": "markdown",
   "metadata": {
    "slideshow": {
     "slide_type": "subslide"
    }
   },
   "source": [
    "#### Once images diverge, they can never merge back together\n",
    "\n",
    "This won't work:\n",
    "\n",
    "![](images/fig03.png)"
   ]
  },
  {
   "cell_type": "markdown",
   "metadata": {
    "slideshow": {
     "slide_type": "fragment"
    }
   },
   "source": [
    "This is what would really happen:\n",
    "\n",
    "![](images/fig04.png)"
   ]
  },
  {
   "cell_type": "markdown",
   "metadata": {
    "slideshow": {
     "slide_type": "subslide"
    }
   },
   "source": [
    "This would be better:\n",
    "\n",
    "![](images/fig05.png)"
   ]
  },
  {
   "cell_type": "markdown",
   "metadata": {
    "slideshow": {
     "slide_type": "slide"
    }
   },
   "source": [
    "### Problem formulation\n",
    "\n",
    "Let's write this thing in LaTeX!"
   ]
  },
  {
   "cell_type": "markdown",
   "metadata": {
    "slideshow": {
     "slide_type": "subslide"
    }
   },
   "source": [
    "#### What are we trying to do again?\n",
    "\n",
    "Given a set of Docker images to construct, each of which requires a series of commands, find the optimal order to run these commands such that we minimize required computing time.\n",
    "\n",
    "_Could also read: maximize use of the Docker cache._"
   ]
  },
  {
   "cell_type": "markdown",
   "metadata": {
    "slideshow": {
     "slide_type": "subslide"
    }
   },
   "source": [
    "#### Say we know a priori the time required by each command\n",
    "\n",
    "We could also use a prior.\n",
    "\n",
    "$$C = \\{\\text{set of commmands}\\}$$\n",
    "$$t_c > 0 = \\text{time required by command c}$$"
   ]
  },
  {
   "cell_type": "markdown",
   "metadata": {
    "slideshow": {
     "slide_type": "fragment"
    }
   },
   "source": [
    "We also know the images we need to create and the commands each one requires.\n",
    "\n",
    "$$I = \\{\\text{set of images}\\}$$\n",
    "$$C_i = \\{\\text{commands requires for image I}\\}$$"
   ]
  },
  {
   "cell_type": "markdown",
   "metadata": {
    "slideshow": {
     "slide_type": "subslide"
    }
   },
   "source": [
    "#### We need some decision variables\n",
    "\n",
    "We define a set $P$ of (image set, command set) pairs, starting with each image $i \\in I$ and, for each of these, every command $c \\in C_i$."
   ]
  },
  {
   "cell_type": "markdown",
   "metadata": {
    "slideshow": {
     "slide_type": "fragment"
    }
   },
   "source": [
    "In our first example we had two images, $I = \\{1, 2\\}$.\n",
    "\n",
    "The commands for the images were: \n",
    "\n",
    "$$C_1 = \\{A, B, C\\}$$\n",
    "$$C_2 = \\{A, B, C, D\\}$$"
   ]
  },
  {
   "cell_type": "markdown",
   "metadata": {
    "slideshow": {
     "slide_type": "subslide"
    }
   },
   "source": [
    "So our set $P$ initially contains:\n",
    "\n",
    "$$P = \\{(\\{1\\},\\{A\\}), (\\{1\\},\\{B\\}), (\\{1\\},\\{C\\}), (\\{2\\},\\{A\\}), (\\{2\\},\\{B\\}), (\\{2\\},\\{C\\}), (\\{2\\},\\{D\\})\\}$$"
   ]
  },
  {
   "cell_type": "markdown",
   "metadata": {
    "slideshow": {
     "slide_type": "fragment"
    }
   },
   "source": [
    "Now define $x_p \\in \\{0,1\\}$ for each $p \\in P$. \n",
    "\n",
    "If $x_p = 1$, then we run the commands in $p$ for the images in $p$."
   ]
  },
  {
   "cell_type": "markdown",
   "metadata": {
    "slideshow": {
     "slide_type": "subslide"
    }
   },
   "source": [
    "#### A first, misguided stab at our image construction model\n",
    "\n",
    "Find the minimum cost schedule based on our set $P$ and the requirements of our images. \n",
    "\n",
    "$$\n",
    "\\begin{array}{r l}\n",
    "    \\min        & t_a x_{1,a} + t_b x_{1,b} + t_c x_{1,c} + t_a x_{2,a} + t_b x_{2,b} + t_c x_{2,c} + t_c x_{2,d} \\\\  \n",
    "    \\text{s.t.} & x_{1,a} = 1 \\\\\n",
    "                & x_{1,b} = 1 \\\\\n",
    "                & x_{1,c} = 1 \\\\\n",
    "                & x_{2,a} = 1 \\\\\n",
    "                & x_{2,b} = 1 \\\\\n",
    "                & x_{2,c} = 1 \\\\\n",
    "                & x_{2,d} = 1 \\\\\n",
    "                & x_p \\in \\{0,1\\}\\, \\forall\\, p \\in P\n",
    "\\end{array}\n",
    "$$"
   ]
  },
  {
   "cell_type": "markdown",
   "metadata": {
    "slideshow": {
     "slide_type": "subslide"
    }
   },
   "source": [
    "Well that's just ridiculous."
   ]
  },
  {
   "cell_type": "markdown",
   "metadata": {
    "slideshow": {
     "slide_type": "fragment"
    }
   },
   "source": [
    "The solution is trivially:\n",
    "\n",
    "$$x_{1,a} =  x_{1,b} = x_{1,c} = x_{2,a} = x_{2,b} = x_{2,c} = x_{2,d} = 1$$"
   ]
  },
  {
   "cell_type": "markdown",
   "metadata": {
    "slideshow": {
     "slide_type": "fragment"
    }
   },
   "source": [
    "The cost of implementing this plan is actually the worst we could possibly do:\n",
    "\n",
    "$$2 \\left(t_a + t_b + t_c\\right) + t_d$$"
   ]
  },
  {
   "cell_type": "markdown",
   "metadata": {
    "slideshow": {
     "slide_type": "fragment"
    }
   },
   "source": [
    "In fact it looks pretty much like we did this:\n",
    "\n",
    "![](images/fig02.png)"
   ]
  },
  {
   "cell_type": "markdown",
   "metadata": {
    "slideshow": {
     "slide_type": "subslide"
    }
   },
   "source": [
    "#### We need a variable that allows us to use the Docker cache\n",
    "\n",
    "In this problem, commands $\\{A, B, C\\}$ are shared between images $\\{1,2\\}$. So let's make a variable for that and add it to $P$.\n",
    "\n",
    "$$x_{12,abc} \\in \\{0,1\\}$$"
   ]
  },
  {
   "cell_type": "markdown",
   "metadata": {
    "slideshow": {
     "slide_type": "fragment"
    }
   },
   "source": [
    "Of course this changes the constraints.\n",
    "\n",
    "$$x_{1,a} + x_{12,abc} = 1$$\n",
    "$$x_{1,b} + x_{12,abc} = 1$$\n",
    "$$x_{1,c} + x_{12,abc} = 1$$\n",
    "$$x_{2,a} + x_{12,abc} = 1$$\n",
    "$$x_{b,b} + x_{12,abc} = 1$$\n",
    "$$x_{c,c} + x_{12,abc} = 1$$"
   ]
  },
  {
   "cell_type": "markdown",
   "metadata": {
    "slideshow": {
     "slide_type": "subslide"
    }
   },
   "source": [
    "#### This time, with feeling\n",
    "\n",
    "This one actually allows us to share the time required to run commands between images.\n",
    "\n",
    "$$\n",
    "\\begin{array}{r l}\n",
    "    \\min        & t_a x_{1,a} + t_b x_{1,b} + t_c x_{1,c} + t_a x_{2,a} + t_b x_{2,b} + t_c x_{2,c} + t_c x_{2,d} + \\left(t_a + t_b + t_c\\right) x_{12,abc}\\\\  \n",
    "    \\text{s.t.} & x_{1,a} + x_{12,abc} = 1 \\\\\n",
    "                & x_{1,b} + x_{12,abc} = 1 \\\\\n",
    "                & x_{1,c} + x_{12,abc} = 1 \\\\\n",
    "                & x_{2,a} + x_{12,abc} = 1 \\\\\n",
    "                & x_{2,b} + x_{12,abc} = 1 \\\\\n",
    "                & x_{2,c} + x_{12,abc} = 1 \\\\\n",
    "                & x_{2,d} = 1 \\\\\n",
    "                & x_p \\in \\{0,1\\}\\, \\forall\\, p \\in P\n",
    "\\end{array}\n",
    "$$"
   ]
  },
  {
   "cell_type": "markdown",
   "metadata": {
    "slideshow": {
     "slide_type": "subslide"
    }
   },
   "source": [
    "This is much better. It gives us the correct solution.\n",
    "\n",
    "$$x_{1,a} =  x_{1,b} = x_{1,c} = x_{2,a} = x_{2,b} = x_{2,c} = 0$$\n",
    "$$x_{12,abc} = x_{2,d} = 1$$"
   ]
  },
  {
   "cell_type": "markdown",
   "metadata": {
    "collapsed": true,
    "slideshow": {
     "slide_type": "fragment"
    }
   },
   "source": [
    "The minimum time is:\n",
    "\n",
    "$$t_a + t_b + t_c + t_d$$"
   ]
  },
  {
   "cell_type": "markdown",
   "metadata": {
    "collapsed": true,
    "slideshow": {
     "slide_type": "fragment"
    }
   },
   "source": [
    "Visually this could be represented as:\n",
    "\n",
    "![](images/fig01.png)"
   ]
  },
  {
   "cell_type": "markdown",
   "metadata": {
    "slideshow": {
     "slide_type": "subslide"
    }
   },
   "source": [
    "#### But things are not always so simple.\n",
    "\n",
    "We created the variable $x_{12,abc}$ because it was obvious. $I_1 \\bigcap I_2 = \\{A, B, C\\}$, so it was the best possible option."
   ]
  },
  {
   "cell_type": "markdown",
   "metadata": {
    "slideshow": {
     "slide_type": "fragment"
    }
   },
   "source": [
    "But consider this set of 4 images:\n",
    "\n",
    "$$I_3 = \\{A, B, C\\}$$\n",
    "$$I_4 = \\{B, C, D\\}$$\n",
    "$$I_5 = \\{A, C, E\\}$$\n",
    "$$I_6 = \\{B, D, E\\}$$\n",
    "\n",
    "In this problem instance, the values $t_a, \\dots, t_e$ are what drive our final schedule."
   ]
  },
  {
   "cell_type": "markdown",
   "metadata": {
    "slideshow": {
     "slide_type": "subslide"
    }
   },
   "source": [
    "If $t_c$ is big enough, the optimal schedule might be:\n",
    "    \n",
    "```\n",
    "    I3:  C B A\n",
    "    I4:  C B D \n",
    "    I5:  C A E\n",
    "    I6:  B D E\n",
    "```"
   ]
  },
  {
   "cell_type": "markdown",
   "metadata": {
    "slideshow": {
     "slide_type": "fragment"
    }
   },
   "source": [
    "And if $t_a > t_b$ it might be:\n",
    "    \n",
    "```\n",
    "    I3:  C A B\n",
    "    I4:  C B D \n",
    "    I5:  C A E\n",
    "    I6:  B D E\n",
    "```"
   ]
  },
  {
   "cell_type": "markdown",
   "metadata": {
    "slideshow": {
     "slide_type": "subslide"
    }
   },
   "source": [
    "So if we set $x_{345,c} = 1$, we have the option to use two other variables to create our schedule:\n",
    "\n",
    "$$x_{345,c,34,b} \\in \\{0,1\\}$$\n",
    "$$x_{345,c,35,a} \\in \\{0,1\\}$$"
   ]
  },
  {
   "cell_type": "markdown",
   "metadata": {
    "slideshow": {
     "slide_type": "fragment"
    }
   },
   "source": [
    "But this can only happen if $x_{345,c} = 1$. That is, $x_{345,c,34,b}$ and $x_{345,c,35,a}$ are **dependent** on it.\n",
    "\n",
    "$$x_{345,c,34,b} \\le x_{345,c}$$\n",
    "$$x_{345,c,35,a} \\le x_{345,c}$$"
   ]
  },
  {
   "cell_type": "markdown",
   "metadata": {
    "slideshow": {
     "slide_type": "fragment"
    }
   },
   "source": [
    "We will represent these dependencies using another set, $R$. For all $\\left(x_m, x_n\\right) \\in R$, any feasible solution requires that $x_m \\le x_n$.\n",
    "\n",
    "Note that dependencies have structure. We may have:\n",
    "\n",
    "$$x_m \\le x_n$$\n",
    "$$x_n \\le x_o$$"
   ]
  },
  {
   "cell_type": "markdown",
   "metadata": {
    "slideshow": {
     "slide_type": "subslide"
    }
   },
   "source": [
    "#### We also have to worry about intersections...\n",
    "\n",
    "Recall our set of 4 images:\n",
    "\n",
    "$$I_3 = \\{A, B, C\\}$$\n",
    "$$I_4 = \\{B, C, D\\}$$\n",
    "$$I_5 = \\{A, C, E\\}$$\n",
    "$$I_6 = \\{B, D, E\\}$$\n",
    "\n",
    "In addition to the variables $x_{3,a}$, $x_{3,b}$, $\\dots$, $x_{6,e}$, we create $x_{345,c}$, $x_{34,bc}$, $\\dots$, $x_{56,e}$ and add the appropriate $\\left(\\text{images}, \\text{commands}\\right)$ pairs to $P$."
   ]
  },
  {
   "cell_type": "markdown",
   "metadata": {
    "slideshow": {
     "slide_type": "fragment"
    }
   },
   "source": [
    "For each image $i \\in I$, and command $c \\in C_i$, exactly one $x_p$ that provides $c$ for $i$ must be set to $1$. This restricts **intersections** in our schedule.\n",
    "\n",
    "$$\\sum_{p = \\left(p_i,p_c\\right) \\in P,\\, i \\in p_i,\\, c \\in p_c} x_p = 1\\, \\forall\\, i \\in I,\\, c \\in C_i$$ "
   ]
  },
  {
   "cell_type": "markdown",
   "metadata": {
    "slideshow": {
     "slide_type": "subslide"
    }
   },
   "source": [
    "Now we have everything we need to build our model!\n",
    "\n",
    "$$\n",
    "\\begin{array}{r l l l}\n",
    "    \\min        & \\sum_{p \\in I} \\sum_{c \\in C_i} t_c x_p & \\\\\n",
    "    \\text{s.t.} & \\sum_{p = \\left(p_i,p_c\\right) \\in P,\\, i \\in p_i,\\, c \\in p_c} x_p = 1 & \\forall & i \\in I,\\, c \\in C_i \\\\\n",
    "                & x_m \\le x_n & \\forall & \\left(m, n\\right) \\in R \\\\\n",
    "                & x_p \\in \\{0,1\\} & \\\\\n",
    "\\end{array}\n",
    "$$"
   ]
  },
  {
   "cell_type": "markdown",
   "metadata": {
    "slideshow": {
     "slide_type": "fragment"
    }
   },
   "source": [
    "All we have to do is generate $P$ and $R$!\n",
    "\n",
    "Right?"
   ]
  },
  {
   "cell_type": "markdown",
   "metadata": {
    "slideshow": {
     "slide_type": "slide"
    }
   },
   "source": [
    "### Finding maximal cliques with NetworkX\n",
    "\n",
    "At some point, somebody is going to write some code."
   ]
  },
  {
   "cell_type": "markdown",
   "metadata": {
    "slideshow": {
     "slide_type": "subslide"
    }
   },
   "source": [
    "So how do we generate $P$ and $R$?"
   ]
  },
  {
   "cell_type": "markdown",
   "metadata": {
    "slideshow": {
     "slide_type": "fragment"
    }
   },
   "source": [
    "Naive option:\n",
    "\n",
    "* Make a graph with all images and commands\n",
    "* Connect each image to its commands\n",
    "* Connect images to each other\n",
    "* Connect commands to each other\n",
    "* Find maximal cliques!"
   ]
  },
  {
   "cell_type": "markdown",
   "metadata": {
    "slideshow": {
     "slide_type": "subslide"
    }
   },
   "source": [
    "Q: What's a maximal clique?\n",
    "\n",
    "A: A subgraph where each pair of nodes is adjacent. If it can't be contained in another clique, it's maximal.\n",
    "\n",
    "![](images/clique.png)\n",
    "_A clique. Source: Wikipedia_"
   ]
  },
  {
   "cell_type": "markdown",
   "metadata": {
    "slideshow": {
     "slide_type": "subslide"
    }
   },
   "source": [
    "Creating a graph and connect every image to its commands.\n",
    "\n",
    "![](images/graph_1.png)"
   ]
  },
  {
   "cell_type": "markdown",
   "metadata": {
    "slideshow": {
     "slide_type": "subslide"
    }
   },
   "source": [
    "Now connect every pair of image, and every pair of commands.\n",
    "\n",
    "![](images/graph_2.png)"
   ]
  },
  {
   "cell_type": "code",
   "execution_count": 2,
   "metadata": {
    "collapsed": true,
    "slideshow": {
     "slide_type": "subslide"
    }
   },
   "outputs": [],
   "source": [
    "# Define the commands we have available.\n",
    "commands = ['A','B','C','D','E']\n",
    "\n",
    "# And the images we need to construct from them.\n",
    "images = [3,4,5,6]\n",
    "image_commands = {\n",
    "    3: ['A','B','C'],\n",
    "    4: ['B','C','D'],\n",
    "    5: ['A','C','E'],\n",
    "    6: ['B','D','E'],\n",
    "}"
   ]
  },
  {
   "cell_type": "code",
   "execution_count": 16,
   "metadata": {
    "collapsed": false
   },
   "outputs": [
    {
     "data": {
      "text/plain": [
       "['i5', 'cA', 'i6', 'i4', 'cB', 'cE', 'cD', 'i3', 'cC']"
      ]
     },
     "execution_count": 16,
     "metadata": {},
     "output_type": "execute_result"
    }
   ],
   "source": [
    "# Construct the graph shown above.\n",
    "# Prefix images with 'i' and commands with 'c'.\n",
    "\n",
    "from itertools import combinations\n",
    "import networkx as nx\n",
    "\n",
    "g = nx.Graph()\n",
    "\n",
    "for i, cmds in image_commands.items():\n",
    "    for c in cmds:\n",
    "        g.add_edge('i%d' % i, 'c%s' % c)\n",
    "\n",
    "for i1, i2 in combinations(images, 2):\n",
    "    g.add_edge('i%d' % i1, 'i%d' % i2)\n",
    "\n",
    "for c1, c2 in combinations(commands, 2):\n",
    "    g.add_edge('c%s' % c1, 'c%s' % c2)\n",
    "    \n",
    "g.nodes()"
   ]
  },
  {
   "cell_type": "code",
   "execution_count": 21,
   "metadata": {
    "collapsed": false,
    "slideshow": {
     "slide_type": "subslide"
    }
   },
   "outputs": [
    {
     "data": {
      "text/plain": [
       "[({4, 6}, {'B', 'D'}),\n",
       " ({3, 4, 6}, {'B'}),\n",
       " ({3, 4}, {'B', 'C'}),\n",
       " ({3, 5}, {'A', 'C'}),\n",
       " ({3, 4, 5}, {'C'}),\n",
       " ({5, 6}, {'E'})]"
      ]
     },
     "execution_count": 21,
     "metadata": {},
     "output_type": "execute_result"
    }
   ],
   "source": [
    "# Generate all maximal cliques with > 1 image and >= 1 command.\n",
    "\n",
    "from networkx.algorithms import find_cliques\n",
    "\n",
    "max_cliques = []\n",
    "\n",
    "for c in find_cliques(g):\n",
    "    imgs = set([int(x.replace('i','')) for x in c if x.startswith('i')])\n",
    "    cmds = set([x.replace('c','') for x in c if x.startswith('c')])\n",
    "    if len(imgs) > 1 and cmds:\n",
    "        max_cliques.append((imgs, cmds))\n",
    "        \n",
    "max_cliques"
   ]
  },
  {
   "cell_type": "markdown",
   "metadata": {
    "slideshow": {
     "slide_type": "subslide"
    }
   },
   "source": [
    "Add each of these to $P$.\n",
    "\n",
    "Now consider each maximal clique. Let's look at $\\{3,4,5,C\\}$.\n",
    "\n",
    "$x_{345,c} = 1$ if images $\\{3,4,5\\}$ share command $C$. \n",
    "\n",
    "Can they share anything further?"
   ]
  },
  {
   "cell_type": "markdown",
   "metadata": {
    "slideshow": {
     "slide_type": "subslide"
    }
   },
   "source": [
    "Repeat the process with remaining commands for images $\\{3,4,5\\}$. Leave out $C$.\n",
    "\n",
    "![](images/graph_3.png)"
   ]
  },
  {
   "cell_type": "markdown",
   "metadata": {
    "slideshow": {
     "slide_type": "subslide"
    }
   },
   "source": [
    "![](images/graph_4.png)"
   ]
  },
  {
   "cell_type": "markdown",
   "metadata": {
    "slideshow": {
     "slide_type": "subslide"
    }
   },
   "source": [
    "Max cliques:\n",
    "\n",
    "$$\\{3,4,B\\}$$\n",
    "$$\\{3,5,A\\}$$\n",
    "\n",
    "Add variables to $P$:\n",
    "\n",
    "$$x_{345,c,34,b} \\in \\{0,1\\}$$\n",
    "$$x_{345,c,35,a} \\in \\{0,1\\}$$\n",
    "\n",
    "Both depend on \"parent\" clique:\n",
    "\n",
    "$$x_{345,c,34,b} \\le x_{345,c}$$\n",
    "$$x_{345,c,35,a} \\le x_{345,c}$$\n",
    "\n",
    "So add dependencies to $R$:\n",
    "\n",
    "$$\\left(x_{345,c,34,b}, x_{345,c}\\right)$$\n",
    "$$\\left(x_{345,c,35,a}, x_{345,c}\\right)$$"
   ]
  },
  {
   "cell_type": "markdown",
   "metadata": {
    "slideshow": {
     "slide_type": "subslide"
    }
   },
   "source": [
    "Maximal clique detection is NP-complete.\n",
    "\n",
    "But it works _better than you might think!_ Why?\n",
    "\n",
    "$$\\text{THEORY} \\ne \\text{PRACTICE}$$\n",
    "\n",
    "There are more efficient ways, but that's for another day."
   ]
  },
  {
   "cell_type": "markdown",
   "metadata": {
    "slideshow": {
     "slide_type": "slide"
    }
   },
   "source": [
    "### Partitioning sets with PuLP\n",
    "\n",
    "\"NP-Complete\" is a term used to scare graduate students."
   ]
  },
  {
   "cell_type": "markdown",
   "metadata": {
    "slideshow": {
     "slide_type": "subslide"
    }
   },
   "source": []
  },
  {
   "cell_type": "markdown",
   "metadata": {
    "slideshow": {
     "slide_type": "subslide"
    }
   },
   "source": []
  },
  {
   "cell_type": "markdown",
   "metadata": {
    "slideshow": {
     "slide_type": "subslide"
    }
   },
   "source": []
  },
  {
   "cell_type": "markdown",
   "metadata": {
    "slideshow": {
     "slide_type": "subslide"
    }
   },
   "source": []
  },
  {
   "cell_type": "markdown",
   "metadata": {
    "slideshow": {
     "slide_type": "subslide"
    }
   },
   "source": []
  },
  {
   "cell_type": "markdown",
   "metadata": {
    "slideshow": {
     "slide_type": "slide"
    }
   },
   "source": [
    "### Computational example\n",
    "\n",
    "No, really. That's how we do this thing."
   ]
  },
  {
   "cell_type": "markdown",
   "metadata": {
    "slideshow": {
     "slide_type": "subslide"
    }
   },
   "source": []
  },
  {
   "cell_type": "markdown",
   "metadata": {
    "slideshow": {
     "slide_type": "subslide"
    }
   },
   "source": []
  },
  {
   "cell_type": "markdown",
   "metadata": {
    "slideshow": {
     "slide_type": "subslide"
    }
   },
   "source": []
  }
 ],
 "metadata": {
  "celltoolbar": "Slideshow",
  "kernelspec": {
   "display_name": "Python 3",
   "language": "python",
   "name": "python3"
  },
  "language_info": {
   "codemirror_mode": {
    "name": "ipython",
    "version": 3
   },
   "file_extension": ".py",
   "mimetype": "text/x-python",
   "name": "python",
   "nbconvert_exporter": "python",
   "pygments_lexer": "ipython3",
   "version": "3.4.3"
  }
 },
 "nbformat": 4,
 "nbformat_minor": 0
}
