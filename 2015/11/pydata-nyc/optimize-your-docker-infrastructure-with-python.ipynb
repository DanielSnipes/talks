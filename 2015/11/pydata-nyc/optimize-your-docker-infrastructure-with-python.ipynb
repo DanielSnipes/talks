{
 "cells": [
  {
   "cell_type": "markdown",
   "metadata": {
    "slideshow": {
     "slide_type": "slide"
    }
   },
   "source": [
    "# Optimize your Docker Infrastructure with Python\n",
    "\n",
    "## PyData NYC\n",
    "\n",
    "November 11, 2015\n",
    "\n",
    "Ryan J. O'Neil  \n",
    "<ryanjoneil@gmail.com>  "
   ]
  },
  {
   "cell_type": "markdown",
   "metadata": {
    "slideshow": {
     "slide_type": "slide"
    }
   },
   "source": [
    "### Who's this guy?\n",
    "\n",
    "By Day: Lead Engineer @ Yhat, Inc.  \n",
    "By Night: PhD Candidate in SEOR @ George Mason University\n",
    "\n",
    "Formerly:\n",
    "* Simulation, modeling, optimization @ MITRE\n",
    "* Data Journo @ The Washington Post\n",
    "\n",
    "Not a data scientist."
   ]
  },
  {
   "cell_type": "markdown",
   "metadata": {
    "slideshow": {
     "slide_type": "slide"
    }
   },
   "source": [
    "### Motivation\n",
    "\n",
    "Consider the DevOps Engineer."
   ]
  },
  {
   "cell_type": "markdown",
   "metadata": {
    "slideshow": {
     "slide_type": "subslide"
    }
   },
   "source": [
    "#### It's a noble group...\n",
    "\n",
    "![](images/scotty.jpg)"
   ]
  },
  {
   "cell_type": "markdown",
   "metadata": {
    "slideshow": {
     "slide_type": "subslide"
    }
   },
   "source": [
    "### ...with grave responsibilities.\n",
    "\n",
    "One of the important functions of DevOps is the creation of environments for:\n",
    "\n",
    "* Software development\n",
    "* Testing & quality assurance\n",
    "* Running operational systems\n",
    "* Whatever else you might need a computing environment for"
   ]
  },
  {
   "cell_type": "markdown",
   "metadata": {
    "slideshow": {
     "slide_type": "subslide"
    }
   },
   "source": [
    "#### There's even a Venn diagram about DevOps.\n",
    "\n",
    "And we all know how much we like Venn diagrams.\n",
    "\n",
    "![](images/devops-venn.svg)"
   ]
  },
  {
   "cell_type": "markdown",
   "metadata": {
    "slideshow": {
     "slide_type": "subslide"
    }
   },
   "source": [
    "#### A typical DevOps function\n",
    "\n",
    "Say you work on _Yet Another Enterprise Java Application (TM)_. YAEJA generates lots of \\$\\$\\$\\$ for _Yet Another Enterprise Software Company_ and it keeps you gainfully employed!\n",
    "\n",
    "Say you need to upgrade portions of the system YAEJA it runs _(and depends)_ on.\n",
    "\n",
    "Youo don't want to just upgrade the production instances without testing first. So you need two environments from your DevOps person.\n",
    "\n",
    "One for running the production instance:\n",
    "\n",
    "|     | Command                                                        |\n",
    "|-----|----------------------------------------------------------------|\n",
    "| $A$ | Install the Java compiler and runtime environment.             |\n",
    "| $B$ | Download a set of external dependencies.                       |\n",
    "| $C$ | Set up a an EntepriseDB (TM) schema and populate it with data. |"
   ]
  },
  {
   "cell_type": "markdown",
   "metadata": {
    "slideshow": {
     "slide_type": "subslide"
    }
   },
   "source": [
    "And another for testing it with the new version of the utility:\n",
    "\n",
    "|     | Command                                                        |\n",
    "|-----|----------------------------------------------------------------|\n",
    "| $A$ | Install the Java compiler and runtime environment.             |\n",
    "| $B$ | Download a set of external dependencies.                       |\n",
    "| $C$ | Set up a an EntepriseDB (TM) schema and populate it with data. |\n",
    "| $D$ | Update the underlying system utility.                          |\n",
    "\n",
    "If _Yet Another Enterprise Java Application (TM)_ integrates with a number of optional third party applications, you might need an additional test environment for each one.\n",
    "\n",
    "If those interact in interesting ways, you may need test environments for different combinations of third party integrations."
   ]
  },
  {
   "cell_type": "markdown",
   "metadata": {
    "slideshow": {
     "slide_type": "subslide"
    }
   },
   "source": [
    "#### Looks like your DevOps person will be working all weekend\n",
    "\n",
    "![](images/saturday.png)"
   ]
  },
  {
   "cell_type": "markdown",
   "metadata": {
    "slideshow": {
     "slide_type": "subslide"
    }
   },
   "source": [
    "#### In the old days...\n",
    "\n",
    "At a big software shop, devops may be responsible for the continual setup and teardown of dozens (or _hundreds_) of system configurations for a single software project.\n",
    "\n",
    "This used to be done with physical hardware on _(sometimes)_ fresh operating system installs.\n",
    "\n",
    "Most medium-to-large software shops had an air conditioned room that looked like this.\n",
    "\n",
    "![](images/cable-spaghetti.jpg)"
   ]
  },
  {
   "cell_type": "markdown",
   "metadata": {
    "slideshow": {
     "slide_type": "subslide"
    }
   },
   "source": [
    "#### I'm dating myself here\n",
    "\n",
    "If you had to reproduce an environment, you had a few options:\n",
    "\n",
    "* Start with a fresh install of the operating system\n",
    "* Save the results of your setup to a CD (?!?!) and load that onto a box\n",
    "* Hope that uninstalling and resintalling the relevant components is good enough\n",
    "    + A _lot_ of people did this\n",
    "    + It's a _really_ bad idea\n",
    "    + Most software leaves behind relics\n",
    "        - Logs...\n",
    "        - Data files...\n",
    "        - Configuration..."
   ]
  },
  {
   "cell_type": "markdown",
   "metadata": {
    "slideshow": {
     "slide_type": "slide"
    }
   },
   "source": [
    "### What's a container?\n",
    "\n",
    "Docker is so hot right now."
   ]
  },
  {
   "cell_type": "markdown",
   "metadata": {
    "slideshow": {
     "slide_type": "subslide"
    }
   },
   "source": [
    "#### Disclaimer\n",
    "\n",
    "Nothing in this section is actually new.\n",
    "\n",
    "Container architectures have been around since `chroot` jails in V7 Unix.\n",
    "\n",
    "But now they're so convenient they feel _(and are raising venture capital)_ that way!"
   ]
  },
  {
   "cell_type": "markdown",
   "metadata": {
    "slideshow": {
     "slide_type": "subslide"
    }
   },
   "source": [
    "#### On second though, let's have that history lesson\n",
    "\n",
    "This might go back to the paleolithic era, but Wikipedia isn't aware of it.\n",
    "\n",
    "* 1979: `chroot` jails added to System 7 Unix at Bell Labs\n",
    "    + Last version of Unix before it was commercializated by AT&T\n",
    "    + Ran on a DEC PDP-11 minicomputer\n",
    "* 1982: Bill Joy ports `chroot` jails in BSD\n",
    "    + \n",
    "* "
   ]
  },
  {
   "cell_type": "markdown",
   "metadata": {
    "slideshow": {
     "slide_type": "subslide"
    }
   },
   "source": [
    "#### Different kinds of virtualization\n",
    "\n",
    "I don't actually know much about this but it sounds cool.\n",
    "\n",
    "* Hardware level\n",
    "    \n",
    "* Software level"
   ]
  },
  {
   "cell_type": "markdown",
   "metadata": {
    "slideshow": {
     "slide_type": "slide"
    }
   },
   "source": [
    "### Docker cache mechanics\n",
    "\n",
    "Maybe I should call this section UnionFS mechanics, but then Docker is so hot right now."
   ]
  },
  {
   "cell_type": "markdown",
   "metadata": {
    "slideshow": {
     "slide_type": "subslide"
    }
   },
   "source": [
    "#### A Tale of Two Dockerfiles\n",
    "\n",
    "Two similar dockerfiles here (ABC"
   ]
  },
  {
   "cell_type": "markdown",
   "metadata": {
    "slideshow": {
     "slide_type": "subslide"
    }
   },
   "source": [
    "#### What happens when build these into images?"
   ]
  },
  {
   "cell_type": "markdown",
   "metadata": {
    "slideshow": {
     "slide_type": "subslide"
    }
   },
   "source": [
    "#### "
   ]
  },
  {
   "cell_type": "markdown",
   "metadata": {
    "slideshow": {
     "slide_type": "subslide"
    }
   },
   "source": [
    "#### "
   ]
  },
  {
   "cell_type": "markdown",
   "metadata": {
    "slideshow": {
     "slide_type": "subslide"
    }
   },
   "source": [
    "#### "
   ]
  },
  {
   "cell_type": "markdown",
   "metadata": {
    "slideshow": {
     "slide_type": "subslide"
    }
   },
   "source": [
    "#### "
   ]
  },
  {
   "cell_type": "markdown",
   "metadata": {
    "slideshow": {
     "slide_type": "slide"
    }
   },
   "source": [
    "### Problem statement\n",
    "\n",
    "Let's write this thing in LaTeX!"
   ]
  },
  {
   "cell_type": "markdown",
   "metadata": {
    "slideshow": {
     "slide_type": "subslide"
    }
   },
   "source": []
  },
  {
   "cell_type": "markdown",
   "metadata": {
    "slideshow": {
     "slide_type": "subslide"
    }
   },
   "source": []
  },
  {
   "cell_type": "markdown",
   "metadata": {
    "slideshow": {
     "slide_type": "subslide"
    }
   },
   "source": []
  },
  {
   "cell_type": "markdown",
   "metadata": {
    "slideshow": {
     "slide_type": "slide"
    }
   },
   "source": [
    "### Partitioning sets with PuLP\n",
    "\n",
    "We'll start with a really easy NP-Complete problem..."
   ]
  },
  {
   "cell_type": "markdown",
   "metadata": {
    "slideshow": {
     "slide_type": "subslide"
    }
   },
   "source": []
  },
  {
   "cell_type": "markdown",
   "metadata": {
    "slideshow": {
     "slide_type": "subslide"
    }
   },
   "source": []
  },
  {
   "cell_type": "markdown",
   "metadata": {
    "slideshow": {
     "slide_type": "subslide"
    }
   },
   "source": []
  },
  {
   "cell_type": "markdown",
   "metadata": {
    "slideshow": {
     "slide_type": "slide"
    }
   },
   "source": [
    "### Finding maximal cliques with NetworkX\n",
    "\n",
    "...add another NP-Complete subproblem..."
   ]
  },
  {
   "cell_type": "markdown",
   "metadata": {
    "slideshow": {
     "slide_type": "subslide"
    }
   },
   "source": []
  },
  {
   "cell_type": "markdown",
   "metadata": {
    "slideshow": {
     "slide_type": "subslide"
    }
   },
   "source": []
  },
  {
   "cell_type": "markdown",
   "metadata": {
    "slideshow": {
     "slide_type": "subslide"
    }
   },
   "source": []
  },
  {
   "cell_type": "markdown",
   "metadata": {
    "slideshow": {
     "slide_type": "slide"
    }
   },
   "source": [
    "### Model construction\n",
    "\n",
    "...and then we'll solve both of them."
   ]
  },
  {
   "cell_type": "markdown",
   "metadata": {
    "slideshow": {
     "slide_type": "subslide"
    }
   },
   "source": []
  },
  {
   "cell_type": "markdown",
   "metadata": {
    "slideshow": {
     "slide_type": "subslide"
    }
   },
   "source": []
  },
  {
   "cell_type": "markdown",
   "metadata": {
    "slideshow": {
     "slide_type": "subslide"
    }
   },
   "source": []
  },
  {
   "cell_type": "markdown",
   "metadata": {
    "slideshow": {
     "slide_type": "slide"
    }
   },
   "source": [
    "### Results\n",
    "\n",
    "No, really. That's how we do this thing."
   ]
  },
  {
   "cell_type": "markdown",
   "metadata": {
    "slideshow": {
     "slide_type": "subslide"
    }
   },
   "source": []
  },
  {
   "cell_type": "markdown",
   "metadata": {
    "slideshow": {
     "slide_type": "subslide"
    }
   },
   "source": []
  },
  {
   "cell_type": "markdown",
   "metadata": {
    "slideshow": {
     "slide_type": "subslide"
    }
   },
   "source": []
  }
 ],
 "metadata": {
  "celltoolbar": "Slideshow",
  "kernelspec": {
   "display_name": "Python 3",
   "language": "python",
   "name": "python3"
  },
  "language_info": {
   "codemirror_mode": {
    "name": "ipython",
    "version": 3
   },
   "file_extension": ".py",
   "mimetype": "text/x-python",
   "name": "python",
   "nbconvert_exporter": "python",
   "pygments_lexer": "ipython3",
   "version": "3.4.3"
  }
 },
 "nbformat": 4,
 "nbformat_minor": 0
}
