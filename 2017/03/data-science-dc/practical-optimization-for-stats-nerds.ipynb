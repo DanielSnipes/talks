{
 "cells": [
  {
   "cell_type": "markdown",
   "metadata": {
    "deletable": true,
    "editable": true,
    "slideshow": {
     "slide_type": "slide"
    }
   },
   "source": [
    "# Practical Optimization for Stats Nerds\n",
    "\n",
    "Ryan J. O'Neil  \n",
    "Data Science DC  \n",
    "March 20, 2017\n",
    "\n",
    "[ryanjoneil@gmail.com](mailto:ryanjoneil@gmail.com)  \n",
    "[https://ryanjoneil.github.io](https://ryanjoneil.github.io)  \n",
    "[@ryanjoneil](https://twitter.com/ryanjoneil)"
   ]
  },
  {
   "cell_type": "markdown",
   "metadata": {
    "deletable": true,
    "editable": true,
    "slideshow": {
     "slide_type": "subslide"
    }
   },
   "source": [
    "## What to expect\n",
    "  \n",
    "  \n",
    "* We'll take familiar models, show how they work from an optimization perspective, then show applications.  \n"
   ]
  },
  {
   "cell_type": "markdown",
   "metadata": {
    "deletable": true,
    "editable": true,
    "slideshow": {
     "slide_type": "fragment"
    }
   },
   "source": [
    "\n",
    "* This talk is (mostly) about model formulation.  \n",
    "  "
   ]
  },
  {
   "cell_type": "markdown",
   "metadata": {
    "deletable": true,
    "editable": true,
    "slideshow": {
     "slide_type": "fragment"
    }
   },
   "source": [
    "\n",
    "* It might get a little technical, so...  \n",
    "  "
   ]
  },
  {
   "cell_type": "markdown",
   "metadata": {
    "deletable": true,
    "editable": true,
    "slideshow": {
     "slide_type": "subslide"
    }
   },
   "source": [
    "## Take-aways\n",
    "  \n",
    "  \n",
    "* Many statistical techniques are based on some sort of optimization.\n",
    "  "
   ]
  },
  {
   "cell_type": "markdown",
   "metadata": {
    "deletable": true,
    "editable": true,
    "slideshow": {
     "slide_type": "fragment"
    }
   },
   "source": [
    "\n",
    "* Optimization has lots of uses, such as solving decision models.\n",
    "  "
   ]
  },
  {
   "cell_type": "markdown",
   "metadata": {
    "deletable": true,
    "editable": true,
    "slideshow": {
     "slide_type": "fragment"
    }
   },
   "source": [
    "\n",
    "* Learning to structure problems you already know for optimization solvers is a great way to understand them!\n"
   ]
  },
  {
   "cell_type": "markdown",
   "metadata": {
    "deletable": true,
    "editable": true,
    "slideshow": {
     "slide_type": "slide"
    }
   },
   "source": [
    "## Model 1: Least Squares\n",
    "\n",
    "We observe noisy data from an unknown function. We want to infer that function."
   ]
  },
  {
   "cell_type": "markdown",
   "metadata": {
    "deletable": true,
    "editable": true,
    "slideshow": {
     "slide_type": "subslide"
    }
   },
   "source": [
    "But let's assume that, deep down, we actually know the function. That way we can generate noisy data and see if our techniques work right.\n",
    "\n",
    "#### Function:\n",
    "$$y = 3x^2 - 2x + 10 + \\epsilon$$\n",
    "\n",
    "#### Noise:\n",
    "$$\\epsilon \\sim N\\left(0, 25\\right)$$"
   ]
  },
  {
   "cell_type": "code",
   "execution_count": 1,
   "metadata": {
    "collapsed": false,
    "deletable": true,
    "editable": true,
    "slideshow": {
     "slide_type": "subslide"
    }
   },
   "outputs": [],
   "source": [
    "# Generate some random data.\n",
    "import numpy as np\n",
    "import random\n",
    "\n",
    "# Sort the data so they're easier to plot later.\n",
    "x = [random.uniform(-10, 10) for _ in range(500)]\n",
    "x.sort()\n",
    "\n",
    "y = []\n",
    "for xi in x:\n",
    "    eps = random.normalvariate(0, 25)\n",
    "    yi = 3*xi**2 - 2*xi + 10 + eps\n",
    "    y.append(yi)\n",
    "    \n",
    "x = np.array(x)\n",
    "y = np.array(y)"
   ]
  },
  {
   "cell_type": "code",
   "execution_count": 2,
   "metadata": {
    "collapsed": false,
    "deletable": true,
    "editable": true,
    "scrolled": true,
    "slideshow": {
     "slide_type": "subslide"
    }
   },
   "outputs": [
    {
     "data": {
      "text/html": [
       "\n",
       "    <div class=\"bk-root\">\n",
       "        <a href=\"http://bokeh.pydata.org\" target=\"_blank\" class=\"bk-logo bk-logo-small bk-logo-notebook\"></a>\n",
       "        <span id=\"a1ac23c5-66b4-47e3-a400-3879ed326818\">Loading BokehJS ...</span>\n",
       "    </div>"
      ]
     },
     "metadata": {},
     "output_type": "display_data"
    },
    {
     "data": {
      "application/javascript": [
       "\n",
       "(function(global) {\n",
       "  function now() {\n",
       "    return new Date();\n",
       "  }\n",
       "\n",
       "  var force = true;\n",
       "\n",
       "  if (typeof (window._bokeh_onload_callbacks) === \"undefined\" || force === true) {\n",
       "    window._bokeh_onload_callbacks = [];\n",
       "    window._bokeh_is_loading = undefined;\n",
       "  }\n",
       "\n",
       "\n",
       "  \n",
       "  if (typeof (window._bokeh_timeout) === \"undefined\" || force === true) {\n",
       "    window._bokeh_timeout = Date.now() + 5000;\n",
       "    window._bokeh_failed_load = false;\n",
       "  }\n",
       "\n",
       "  var NB_LOAD_WARNING = {'data': {'text/html':\n",
       "     \"<div style='background-color: #fdd'>\\n\"+\n",
       "     \"<p>\\n\"+\n",
       "     \"BokehJS does not appear to have successfully loaded. If loading BokehJS from CDN, this \\n\"+\n",
       "     \"may be due to a slow or bad network connection. Possible fixes:\\n\"+\n",
       "     \"</p>\\n\"+\n",
       "     \"<ul>\\n\"+\n",
       "     \"<li>re-rerun `output_notebook()` to attempt to load from CDN again, or</li>\\n\"+\n",
       "     \"<li>use INLINE resources instead, as so:</li>\\n\"+\n",
       "     \"</ul>\\n\"+\n",
       "     \"<code>\\n\"+\n",
       "     \"from bokeh.resources import INLINE\\n\"+\n",
       "     \"output_notebook(resources=INLINE)\\n\"+\n",
       "     \"</code>\\n\"+\n",
       "     \"</div>\"}};\n",
       "\n",
       "  function display_loaded() {\n",
       "    if (window.Bokeh !== undefined) {\n",
       "      document.getElementById(\"a1ac23c5-66b4-47e3-a400-3879ed326818\").textContent = \"BokehJS successfully loaded.\";\n",
       "    } else if (Date.now() < window._bokeh_timeout) {\n",
       "      setTimeout(display_loaded, 100)\n",
       "    }\n",
       "  }\n",
       "\n",
       "  function run_callbacks() {\n",
       "    window._bokeh_onload_callbacks.forEach(function(callback) { callback() });\n",
       "    delete window._bokeh_onload_callbacks\n",
       "    console.info(\"Bokeh: all callbacks have finished\");\n",
       "  }\n",
       "\n",
       "  function load_libs(js_urls, callback) {\n",
       "    window._bokeh_onload_callbacks.push(callback);\n",
       "    if (window._bokeh_is_loading > 0) {\n",
       "      console.log(\"Bokeh: BokehJS is being loaded, scheduling callback at\", now());\n",
       "      return null;\n",
       "    }\n",
       "    if (js_urls == null || js_urls.length === 0) {\n",
       "      run_callbacks();\n",
       "      return null;\n",
       "    }\n",
       "    console.log(\"Bokeh: BokehJS not loaded, scheduling load and callback at\", now());\n",
       "    window._bokeh_is_loading = js_urls.length;\n",
       "    for (var i = 0; i < js_urls.length; i++) {\n",
       "      var url = js_urls[i];\n",
       "      var s = document.createElement('script');\n",
       "      s.src = url;\n",
       "      s.async = false;\n",
       "      s.onreadystatechange = s.onload = function() {\n",
       "        window._bokeh_is_loading--;\n",
       "        if (window._bokeh_is_loading === 0) {\n",
       "          console.log(\"Bokeh: all BokehJS libraries loaded\");\n",
       "          run_callbacks()\n",
       "        }\n",
       "      };\n",
       "      s.onerror = function() {\n",
       "        console.warn(\"failed to load library \" + url);\n",
       "      };\n",
       "      console.log(\"Bokeh: injecting script tag for BokehJS library: \", url);\n",
       "      document.getElementsByTagName(\"head\")[0].appendChild(s);\n",
       "    }\n",
       "  };var element = document.getElementById(\"a1ac23c5-66b4-47e3-a400-3879ed326818\");\n",
       "  if (element == null) {\n",
       "    console.log(\"Bokeh: ERROR: autoload.js configured with elementid 'a1ac23c5-66b4-47e3-a400-3879ed326818' but no matching script tag was found. \")\n",
       "    return false;\n",
       "  }\n",
       "\n",
       "  var js_urls = [\"https://cdn.pydata.org/bokeh/release/bokeh-0.12.4.min.js\", \"https://cdn.pydata.org/bokeh/release/bokeh-widgets-0.12.4.min.js\"];\n",
       "\n",
       "  var inline_js = [\n",
       "    function(Bokeh) {\n",
       "      Bokeh.set_log_level(\"info\");\n",
       "    },\n",
       "    \n",
       "    function(Bokeh) {\n",
       "      \n",
       "      document.getElementById(\"a1ac23c5-66b4-47e3-a400-3879ed326818\").textContent = \"BokehJS is loading...\";\n",
       "    },\n",
       "    function(Bokeh) {\n",
       "      console.log(\"Bokeh: injecting CSS: https://cdn.pydata.org/bokeh/release/bokeh-0.12.4.min.css\");\n",
       "      Bokeh.embed.inject_css(\"https://cdn.pydata.org/bokeh/release/bokeh-0.12.4.min.css\");\n",
       "      console.log(\"Bokeh: injecting CSS: https://cdn.pydata.org/bokeh/release/bokeh-widgets-0.12.4.min.css\");\n",
       "      Bokeh.embed.inject_css(\"https://cdn.pydata.org/bokeh/release/bokeh-widgets-0.12.4.min.css\");\n",
       "    }\n",
       "  ];\n",
       "\n",
       "  function run_inline_js() {\n",
       "    \n",
       "    if ((window.Bokeh !== undefined) || (force === true)) {\n",
       "      for (var i = 0; i < inline_js.length; i++) {\n",
       "        inline_js[i](window.Bokeh);\n",
       "      }if (force === true) {\n",
       "        display_loaded();\n",
       "      }} else if (Date.now() < window._bokeh_timeout) {\n",
       "      setTimeout(run_inline_js, 100);\n",
       "    } else if (!window._bokeh_failed_load) {\n",
       "      console.log(\"Bokeh: BokehJS failed to load within specified timeout.\");\n",
       "      window._bokeh_failed_load = true;\n",
       "    } else if (force !== true) {\n",
       "      var cell = $(document.getElementById(\"a1ac23c5-66b4-47e3-a400-3879ed326818\")).parents('.cell').data().cell;\n",
       "      cell.output_area.append_execute_result(NB_LOAD_WARNING)\n",
       "    }\n",
       "\n",
       "  }\n",
       "\n",
       "  if (window._bokeh_is_loading === 0) {\n",
       "    console.log(\"Bokeh: BokehJS loaded, going straight to plotting\");\n",
       "    run_inline_js();\n",
       "  } else {\n",
       "    load_libs(js_urls, function() {\n",
       "      console.log(\"Bokeh: BokehJS plotting callback run at\", now());\n",
       "      run_inline_js();\n",
       "    });\n",
       "  }\n",
       "}(this));"
      ]
     },
     "metadata": {},
     "output_type": "display_data"
    },
    {
     "data": {
      "text/html": [
       "\n",
       "\n",
       "    <div class=\"bk-root\">\n",
       "        <div class=\"bk-plotdiv\" id=\"5183dfbc-587f-45c5-a843-8500ee3e98b4\"></div>\n",
       "    </div>\n",
       "<script type=\"text/javascript\">\n",
       "  \n",
       "  (function(global) {\n",
       "    function now() {\n",
       "      return new Date();\n",
       "    }\n",
       "  \n",
       "    var force = false;\n",
       "  \n",
       "    if (typeof (window._bokeh_onload_callbacks) === \"undefined\" || force === true) {\n",
       "      window._bokeh_onload_callbacks = [];\n",
       "      window._bokeh_is_loading = undefined;\n",
       "    }\n",
       "  \n",
       "  \n",
       "    \n",
       "    if (typeof (window._bokeh_timeout) === \"undefined\" || force === true) {\n",
       "      window._bokeh_timeout = Date.now() + 0;\n",
       "      window._bokeh_failed_load = false;\n",
       "    }\n",
       "  \n",
       "    var NB_LOAD_WARNING = {'data': {'text/html':\n",
       "       \"<div style='background-color: #fdd'>\\n\"+\n",
       "       \"<p>\\n\"+\n",
       "       \"BokehJS does not appear to have successfully loaded. If loading BokehJS from CDN, this \\n\"+\n",
       "       \"may be due to a slow or bad network connection. Possible fixes:\\n\"+\n",
       "       \"</p>\\n\"+\n",
       "       \"<ul>\\n\"+\n",
       "       \"<li>re-rerun `output_notebook()` to attempt to load from CDN again, or</li>\\n\"+\n",
       "       \"<li>use INLINE resources instead, as so:</li>\\n\"+\n",
       "       \"</ul>\\n\"+\n",
       "       \"<code>\\n\"+\n",
       "       \"from bokeh.resources import INLINE\\n\"+\n",
       "       \"output_notebook(resources=INLINE)\\n\"+\n",
       "       \"</code>\\n\"+\n",
       "       \"</div>\"}};\n",
       "  \n",
       "    function display_loaded() {\n",
       "      if (window.Bokeh !== undefined) {\n",
       "        document.getElementById(\"5183dfbc-587f-45c5-a843-8500ee3e98b4\").textContent = \"BokehJS successfully loaded.\";\n",
       "      } else if (Date.now() < window._bokeh_timeout) {\n",
       "        setTimeout(display_loaded, 100)\n",
       "      }\n",
       "    }\n",
       "  \n",
       "    function run_callbacks() {\n",
       "      window._bokeh_onload_callbacks.forEach(function(callback) { callback() });\n",
       "      delete window._bokeh_onload_callbacks\n",
       "      console.info(\"Bokeh: all callbacks have finished\");\n",
       "    }\n",
       "  \n",
       "    function load_libs(js_urls, callback) {\n",
       "      window._bokeh_onload_callbacks.push(callback);\n",
       "      if (window._bokeh_is_loading > 0) {\n",
       "        console.log(\"Bokeh: BokehJS is being loaded, scheduling callback at\", now());\n",
       "        return null;\n",
       "      }\n",
       "      if (js_urls == null || js_urls.length === 0) {\n",
       "        run_callbacks();\n",
       "        return null;\n",
       "      }\n",
       "      console.log(\"Bokeh: BokehJS not loaded, scheduling load and callback at\", now());\n",
       "      window._bokeh_is_loading = js_urls.length;\n",
       "      for (var i = 0; i < js_urls.length; i++) {\n",
       "        var url = js_urls[i];\n",
       "        var s = document.createElement('script');\n",
       "        s.src = url;\n",
       "        s.async = false;\n",
       "        s.onreadystatechange = s.onload = function() {\n",
       "          window._bokeh_is_loading--;\n",
       "          if (window._bokeh_is_loading === 0) {\n",
       "            console.log(\"Bokeh: all BokehJS libraries loaded\");\n",
       "            run_callbacks()\n",
       "          }\n",
       "        };\n",
       "        s.onerror = function() {\n",
       "          console.warn(\"failed to load library \" + url);\n",
       "        };\n",
       "        console.log(\"Bokeh: injecting script tag for BokehJS library: \", url);\n",
       "        document.getElementsByTagName(\"head\")[0].appendChild(s);\n",
       "      }\n",
       "    };var element = document.getElementById(\"5183dfbc-587f-45c5-a843-8500ee3e98b4\");\n",
       "    if (element == null) {\n",
       "      console.log(\"Bokeh: ERROR: autoload.js configured with elementid '5183dfbc-587f-45c5-a843-8500ee3e98b4' but no matching script tag was found. \")\n",
       "      return false;\n",
       "    }\n",
       "  \n",
       "    var js_urls = [];\n",
       "  \n",
       "    var inline_js = [\n",
       "      function(Bokeh) {\n",
       "        (function() {\n",
       "          var fn = function() {\n",
       "            var docs_json = {\"8aaee254-1e1c-4ca7-8a2e-7476975300d2\":{\"roots\":{\"references\":[{\"attributes\":{},\"id\":\"89d26749-ff52-4529-a7cd-9b3fdec67d28\",\"type\":\"BasicTicker\"},{\"attributes\":{\"callback\":null,\"end\":406.4632319419957,\"start\":-80.39532548763725},\"id\":\"7459c2fa-7b2d-49ae-bd63-a0d53c9ffbfe\",\"type\":\"Range1d\"},{\"attributes\":{},\"id\":\"2e942338-3800-4bf5-8bd5-75054a7560aa\",\"type\":\"BasicTickFormatter\"},{\"attributes\":{\"bottom_units\":\"screen\",\"fill_alpha\":{\"value\":0.5},\"fill_color\":{\"value\":\"lightgrey\"},\"left_units\":\"screen\",\"level\":\"overlay\",\"line_alpha\":{\"value\":1.0},\"line_color\":{\"value\":\"black\"},\"line_dash\":[4,4],\"line_width\":{\"value\":2},\"plot\":null,\"render_mode\":\"css\",\"right_units\":\"screen\",\"top_units\":\"screen\"},\"id\":\"fcf3a8e9-ad28-45c8-a250-f1f70ef68102\",\"type\":\"BoxAnnotation\"},{\"attributes\":{\"plot\":{\"id\":\"29b73247-3dc7-4abe-b3f2-a9c45b9fdf47\",\"subtype\":\"Chart\",\"type\":\"Plot\"},\"ticker\":{\"id\":\"89d26749-ff52-4529-a7cd-9b3fdec67d28\",\"type\":\"BasicTicker\"}},\"id\":\"5e9a6fd4-554e-4c84-83a5-158c0df4c447\",\"type\":\"Grid\"},{\"attributes\":{},\"id\":\"f2a7cf66-9803-47ba-ae86-e7f4fdc44d60\",\"type\":\"BasicTicker\"},{\"attributes\":{\"callback\":null,\"end\":11.98005878565538,\"start\":-11.935570201024728},\"id\":\"87c38551-34bc-464d-9a20-8a1ee4176064\",\"type\":\"Range1d\"},{\"attributes\":{\"dimension\":1,\"plot\":{\"id\":\"29b73247-3dc7-4abe-b3f2-a9c45b9fdf47\",\"subtype\":\"Chart\",\"type\":\"Plot\"},\"ticker\":{\"id\":\"f2a7cf66-9803-47ba-ae86-e7f4fdc44d60\",\"type\":\"BasicTicker\"}},\"id\":\"2e046fc1-5289-4288-bac6-a639a440ab83\",\"type\":\"Grid\"},{\"attributes\":{\"plot\":null,\"text\":null},\"id\":\"6c20473c-86ce-448c-be3e-97c0810360be\",\"type\":\"Title\"},{\"attributes\":{\"axis_label\":\"y\",\"formatter\":{\"id\":\"2e942338-3800-4bf5-8bd5-75054a7560aa\",\"type\":\"BasicTickFormatter\"},\"plot\":{\"id\":\"29b73247-3dc7-4abe-b3f2-a9c45b9fdf47\",\"subtype\":\"Chart\",\"type\":\"Plot\"},\"ticker\":{\"id\":\"f2a7cf66-9803-47ba-ae86-e7f4fdc44d60\",\"type\":\"BasicTicker\"}},\"id\":\"08440199-6f1f-4e6a-9147-8f3455b96b2b\",\"type\":\"LinearAxis\"},{\"attributes\":{\"callback\":null,\"column_names\":[\"x_values\",\"y_values\"],\"data\":{\"chart_index\":[null,null,null,null,null,null,null,null,null,null,null,null,null,null,null,null,null,null,null,null,null,null,null,null,null,null,null,null,null,null,null,null,null,null,null,null,null,null,null,null,null,null,null,null,null,null,null,null,null,null,null,null,null,null,null,null,null,null,null,null,null,null,null,null,null,null,null,null,null,null,null,null,null,null,null,null,null,null,null,null,null,null,null,null,null,null,null,null,null,null,null,null,null,null,null,null,null,null,null,null,null,null,null,null,null,null,null,null,null,null,null,null,null,null,null,null,null,null,null,null,null,null,null,null,null,null,null,null,null,null,null,null,null,null,null,null,null,null,null,null,null,null,null,null,null,null,null,null,null,null,null,null,null,null,null,null,null,null,null,null,null,null,null,null,null,null,null,null,null,null,null,null,null,null,null,null,null,null,null,null,null,null,null,null,null,null,null,null,null,null,null,null,null,null,null,null,null,null,null,null,null,null,null,null,null,null,null,null,null,null,null,null,null,null,null,null,null,null,null,null,null,null,null,null,null,null,null,null,null,null,null,null,null,null,null,null,null,null,null,null,null,null,null,null,null,null,null,null,null,null,null,null,null,null,null,null,null,null,null,null,null,null,null,null,null,null,null,null,null,null,null,null,null,null,null,null,null,null,null,null,null,null,null,null,null,null,null,null,null,null,null,null,null,null,null,null,null,null,null,null,null,null,null,null,null,null,null,null,null,null,null,null,null,null,null,null,null,null,null,null,null,null,null,null,null,null,null,null,null,null,null,null,null,null,null,null,null,null,null,null,null,null,null,null,null,null,null,null,null,null,null,null,null,null,null,null,null,null,null,null,null,null,null,null,null,null,null,null,null,null,null,null,null,null,null,null,null,null,null,null,null,null,null,null,null,null,null,null,null,null,null,null,null,null,null,null,null,null,null,null,null,null,null,null,null,null,null,null,null,null,null,null,null,null,null,null,null,null,null,null,null,null,null,null,null,null,null,null,null,null,null,null,null,null,null,null,null,null,null,null,null,null,null,null,null,null,null,null,null,null,null,null,null,null,null,null,null,null,null,null,null,null,null,null,null,null,null,null,null,null,null,null,null,null,null,null,null,null,null,null,null,null,null,null,null,null,null,null,null,null,null,null,null,null,null,null,null,null,null,null],\"x_values\":{\"__ndarray__\":\"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\",\"dtype\":\"float64\",\"shape\":[500]},\"y_values\":{\"__ndarray__\":\"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\",\"dtype\":\"float64\",\"shape\":[500]}}},\"id\":\"fd4b383c-9950-4a92-bb10-5cbafca25800\",\"type\":\"ColumnDataSource\"},{\"attributes\":{},\"id\":\"90b4e521-83d4-4fc6-abf7-3d8fe52aeea7\",\"type\":\"BasicTickFormatter\"},{\"attributes\":{\"plot\":{\"id\":\"29b73247-3dc7-4abe-b3f2-a9c45b9fdf47\",\"subtype\":\"Chart\",\"type\":\"Plot\"}},\"id\":\"781a62e2-7593-4b07-8086-528b28f5d81e\",\"type\":\"PanTool\"},{\"attributes\":{\"plot\":{\"id\":\"29b73247-3dc7-4abe-b3f2-a9c45b9fdf47\",\"subtype\":\"Chart\",\"type\":\"Plot\"}},\"id\":\"e03eda42-25c4-445b-8302-f3461069bda1\",\"type\":\"WheelZoomTool\"},{\"attributes\":{\"overlay\":{\"id\":\"fcf3a8e9-ad28-45c8-a250-f1f70ef68102\",\"type\":\"BoxAnnotation\"},\"plot\":{\"id\":\"29b73247-3dc7-4abe-b3f2-a9c45b9fdf47\",\"subtype\":\"Chart\",\"type\":\"Plot\"}},\"id\":\"ac5e1de8-ce17-4647-bc14-d3081f7e1571\",\"type\":\"BoxZoomTool\"},{\"attributes\":{\"data_source\":{\"id\":\"fd4b383c-9950-4a92-bb10-5cbafca25800\",\"type\":\"ColumnDataSource\"},\"glyph\":{\"id\":\"d51ed43b-6f16-4bf5-9a47-b380d93f6f9c\",\"type\":\"Circle\"},\"hover_glyph\":null,\"nonselection_glyph\":null,\"selection_glyph\":null},\"id\":\"7c82d847-4855-4918-8fa4-c6e8a5ff3d0e\",\"type\":\"GlyphRenderer\"},{\"attributes\":{\"plot\":{\"id\":\"29b73247-3dc7-4abe-b3f2-a9c45b9fdf47\",\"subtype\":\"Chart\",\"type\":\"Plot\"}},\"id\":\"67447979-076b-472f-acd4-93d1e7b1ba16\",\"type\":\"SaveTool\"},{\"attributes\":{\"plot\":{\"id\":\"29b73247-3dc7-4abe-b3f2-a9c45b9fdf47\",\"subtype\":\"Chart\",\"type\":\"Plot\"}},\"id\":\"2c8fbf88-6ce9-42b1-ba2f-398339e5b332\",\"type\":\"ResetTool\"},{\"attributes\":{},\"id\":\"65add4ee-0ed6-4d78-bedb-eff98b5d94db\",\"type\":\"ToolEvents\"},{\"attributes\":{\"plot\":{\"id\":\"29b73247-3dc7-4abe-b3f2-a9c45b9fdf47\",\"subtype\":\"Chart\",\"type\":\"Plot\"}},\"id\":\"c8c01394-85f9-4f0c-9b95-44c2159d784d\",\"type\":\"HelpTool\"},{\"attributes\":{\"active_drag\":\"auto\",\"active_scroll\":\"auto\",\"active_tap\":\"auto\",\"tools\":[{\"id\":\"781a62e2-7593-4b07-8086-528b28f5d81e\",\"type\":\"PanTool\"},{\"id\":\"e03eda42-25c4-445b-8302-f3461069bda1\",\"type\":\"WheelZoomTool\"},{\"id\":\"ac5e1de8-ce17-4647-bc14-d3081f7e1571\",\"type\":\"BoxZoomTool\"},{\"id\":\"67447979-076b-472f-acd4-93d1e7b1ba16\",\"type\":\"SaveTool\"},{\"id\":\"2c8fbf88-6ce9-42b1-ba2f-398339e5b332\",\"type\":\"ResetTool\"},{\"id\":\"c8c01394-85f9-4f0c-9b95-44c2159d784d\",\"type\":\"HelpTool\"}]},\"id\":\"12a6718d-923a-494e-9958-2ac4dac58973\",\"type\":\"Toolbar\"},{\"attributes\":{\"axis_label\":\"x\",\"formatter\":{\"id\":\"90b4e521-83d4-4fc6-abf7-3d8fe52aeea7\",\"type\":\"BasicTickFormatter\"},\"plot\":{\"id\":\"29b73247-3dc7-4abe-b3f2-a9c45b9fdf47\",\"subtype\":\"Chart\",\"type\":\"Plot\"},\"ticker\":{\"id\":\"89d26749-ff52-4529-a7cd-9b3fdec67d28\",\"type\":\"BasicTicker\"}},\"id\":\"730731d0-fd72-4877-82c3-fc4e20d11d43\",\"type\":\"LinearAxis\"},{\"attributes\":{\"below\":[{\"id\":\"730731d0-fd72-4877-82c3-fc4e20d11d43\",\"type\":\"LinearAxis\"}],\"css_classes\":null,\"height\":400,\"left\":[{\"id\":\"08440199-6f1f-4e6a-9147-8f3455b96b2b\",\"type\":\"LinearAxis\"}],\"renderers\":[{\"id\":\"fcf3a8e9-ad28-45c8-a250-f1f70ef68102\",\"type\":\"BoxAnnotation\"},{\"id\":\"7c82d847-4855-4918-8fa4-c6e8a5ff3d0e\",\"type\":\"GlyphRenderer\"},{\"id\":\"0a89441e-1d3c-4d78-af9c-d68ab3e1c86d\",\"type\":\"Legend\"},{\"id\":\"730731d0-fd72-4877-82c3-fc4e20d11d43\",\"type\":\"LinearAxis\"},{\"id\":\"08440199-6f1f-4e6a-9147-8f3455b96b2b\",\"type\":\"LinearAxis\"},{\"id\":\"5e9a6fd4-554e-4c84-83a5-158c0df4c447\",\"type\":\"Grid\"},{\"id\":\"2e046fc1-5289-4288-bac6-a639a440ab83\",\"type\":\"Grid\"}],\"title\":{\"id\":\"6c20473c-86ce-448c-be3e-97c0810360be\",\"type\":\"Title\"},\"tool_events\":{\"id\":\"65add4ee-0ed6-4d78-bedb-eff98b5d94db\",\"type\":\"ToolEvents\"},\"toolbar\":{\"id\":\"12a6718d-923a-494e-9958-2ac4dac58973\",\"type\":\"Toolbar\"},\"width\":750,\"x_mapper_type\":\"auto\",\"x_range\":{\"id\":\"87c38551-34bc-464d-9a20-8a1ee4176064\",\"type\":\"Range1d\"},\"y_mapper_type\":\"auto\",\"y_range\":{\"id\":\"7459c2fa-7b2d-49ae-bd63-a0d53c9ffbfe\",\"type\":\"Range1d\"}},\"id\":\"29b73247-3dc7-4abe-b3f2-a9c45b9fdf47\",\"subtype\":\"Chart\",\"type\":\"Plot\"},{\"attributes\":{\"fill_alpha\":{\"value\":0.7},\"fill_color\":{\"value\":\"#f22c40\"},\"line_color\":{\"value\":\"#f22c40\"},\"size\":{\"units\":\"screen\",\"value\":8},\"x\":{\"field\":\"x_values\"},\"y\":{\"field\":\"y_values\"}},\"id\":\"d51ed43b-6f16-4bf5-9a47-b380d93f6f9c\",\"type\":\"Circle\"},{\"attributes\":{\"location\":\"top_left\",\"plot\":{\"id\":\"29b73247-3dc7-4abe-b3f2-a9c45b9fdf47\",\"subtype\":\"Chart\",\"type\":\"Plot\"}},\"id\":\"0a89441e-1d3c-4d78-af9c-d68ab3e1c86d\",\"type\":\"Legend\"}],\"root_ids\":[\"29b73247-3dc7-4abe-b3f2-a9c45b9fdf47\"]},\"title\":\"Bokeh Application\",\"version\":\"0.12.4\"}};\n",
       "            var render_items = [{\"docid\":\"8aaee254-1e1c-4ca7-8a2e-7476975300d2\",\"elementid\":\"5183dfbc-587f-45c5-a843-8500ee3e98b4\",\"modelid\":\"29b73247-3dc7-4abe-b3f2-a9c45b9fdf47\"}];\n",
       "            \n",
       "            Bokeh.embed.embed_items(docs_json, render_items);\n",
       "          };\n",
       "          if (document.readyState != \"loading\") fn();\n",
       "          else document.addEventListener(\"DOMContentLoaded\", fn);\n",
       "        })();\n",
       "      },\n",
       "      function(Bokeh) {\n",
       "      }\n",
       "    ];\n",
       "  \n",
       "    function run_inline_js() {\n",
       "      \n",
       "      if ((window.Bokeh !== undefined) || (force === true)) {\n",
       "        for (var i = 0; i < inline_js.length; i++) {\n",
       "          inline_js[i](window.Bokeh);\n",
       "        }if (force === true) {\n",
       "          display_loaded();\n",
       "        }} else if (Date.now() < window._bokeh_timeout) {\n",
       "        setTimeout(run_inline_js, 100);\n",
       "      } else if (!window._bokeh_failed_load) {\n",
       "        console.log(\"Bokeh: BokehJS failed to load within specified timeout.\");\n",
       "        window._bokeh_failed_load = true;\n",
       "      } else if (force !== true) {\n",
       "        var cell = $(document.getElementById(\"5183dfbc-587f-45c5-a843-8500ee3e98b4\")).parents('.cell').data().cell;\n",
       "        cell.output_area.append_execute_result(NB_LOAD_WARNING)\n",
       "      }\n",
       "  \n",
       "    }\n",
       "  \n",
       "    if (window._bokeh_is_loading === 0) {\n",
       "      console.log(\"Bokeh: BokehJS loaded, going straight to plotting\");\n",
       "      run_inline_js();\n",
       "    } else {\n",
       "      load_libs(js_urls, function() {\n",
       "        console.log(\"Bokeh: BokehJS plotting callback run at\", now());\n",
       "        run_inline_js();\n",
       "      });\n",
       "    }\n",
       "  }(this));\n",
       "</script>"
      ]
     },
     "metadata": {},
     "output_type": "display_data"
    }
   ],
   "source": [
    "from bokeh.charts import Scatter, output_notebook, show\n",
    "output_notebook()\n",
    "\n",
    "scatter = Scatter({'x': x, 'y': y}, width=750, height=400)\n",
    "show(scatter)"
   ]
  },
  {
   "cell_type": "markdown",
   "metadata": {
    "deletable": true,
    "editable": true,
    "slideshow": {
     "slide_type": "slide"
    }
   },
   "source": [
    "### Least Squares the way _you_ do it...\n",
    "\n",
    "...assuming you use `scikit-learn` like every other sane Python programmer."
   ]
  },
  {
   "cell_type": "markdown",
   "metadata": {
    "deletable": true,
    "editable": true,
    "slideshow": {
     "slide_type": "subslide"
    }
   },
   "source": [
    "We looked at a chart of our data and decided to describe it with:\n",
    "\n",
    "* A quadratic term  \n",
    "* A linear term\n",
    "* An offset"
   ]
  },
  {
   "cell_type": "code",
   "execution_count": 3,
   "metadata": {
    "collapsed": false,
    "deletable": true,
    "editable": true,
    "slideshow": {
     "slide_type": "subslide"
    }
   },
   "outputs": [
    {
     "name": "stdout",
     "output_type": "stream",
     "text": [
      "[ 3.02074271 -2.20182717  7.45017984]\n"
     ]
    },
    {
     "name": "stderr",
     "output_type": "stream",
     "text": [
      "/Users/roneil/src/github.com/ryanjoneil/talks/2017/03/data-science-dc/lib/python3.6/site-packages/scipy/linalg/basic.py:884: RuntimeWarning: internal gelsd driver lwork query error, required iwork dimension not returned. This is likely the result of LAPACK bug 0038, fixed in LAPACK 3.2.2 (released July 21, 2010). Falling back to 'gelss' driver.\n",
      "  warnings.warn(mesg, RuntimeWarning)\n"
     ]
    }
   ],
   "source": [
    "from sklearn.linear_model import LinearRegression\n",
    "\n",
    "# Note: A is our feature matrix.\n",
    "#       We intentionally add a \"1\" for the offset, instead of letting \n",
    "#       sklearn do that for us. This will make sense soon.\n",
    "\n",
    "X = np.array([[xi**2, xi, 1] for xi in x])\n",
    "\n",
    "lin = LinearRegression(fit_intercept=False)\n",
    "lin.fit(X, y)\n",
    "\n",
    "print(lin.coef_)"
   ]
  },
  {
   "cell_type": "markdown",
   "metadata": {
    "deletable": true,
    "editable": true,
    "slideshow": {
     "slide_type": "subslide"
    }
   },
   "source": [
    "How'd we do?"
   ]
  },
  {
   "cell_type": "code",
   "execution_count": 4,
   "metadata": {
    "collapsed": false,
    "deletable": true,
    "editable": true,
    "slideshow": {
     "slide_type": "-"
    }
   },
   "outputs": [
    {
     "data": {
      "text/html": [
       "\n",
       "\n",
       "    <div class=\"bk-root\">\n",
       "        <div class=\"bk-plotdiv\" id=\"11113de8-8f03-4b7f-bda9-a56f72550c3e\"></div>\n",
       "    </div>\n",
       "<script type=\"text/javascript\">\n",
       "  \n",
       "  (function(global) {\n",
       "    function now() {\n",
       "      return new Date();\n",
       "    }\n",
       "  \n",
       "    var force = false;\n",
       "  \n",
       "    if (typeof (window._bokeh_onload_callbacks) === \"undefined\" || force === true) {\n",
       "      window._bokeh_onload_callbacks = [];\n",
       "      window._bokeh_is_loading = undefined;\n",
       "    }\n",
       "  \n",
       "  \n",
       "    \n",
       "    if (typeof (window._bokeh_timeout) === \"undefined\" || force === true) {\n",
       "      window._bokeh_timeout = Date.now() + 0;\n",
       "      window._bokeh_failed_load = false;\n",
       "    }\n",
       "  \n",
       "    var NB_LOAD_WARNING = {'data': {'text/html':\n",
       "       \"<div style='background-color: #fdd'>\\n\"+\n",
       "       \"<p>\\n\"+\n",
       "       \"BokehJS does not appear to have successfully loaded. If loading BokehJS from CDN, this \\n\"+\n",
       "       \"may be due to a slow or bad network connection. Possible fixes:\\n\"+\n",
       "       \"</p>\\n\"+\n",
       "       \"<ul>\\n\"+\n",
       "       \"<li>re-rerun `output_notebook()` to attempt to load from CDN again, or</li>\\n\"+\n",
       "       \"<li>use INLINE resources instead, as so:</li>\\n\"+\n",
       "       \"</ul>\\n\"+\n",
       "       \"<code>\\n\"+\n",
       "       \"from bokeh.resources import INLINE\\n\"+\n",
       "       \"output_notebook(resources=INLINE)\\n\"+\n",
       "       \"</code>\\n\"+\n",
       "       \"</div>\"}};\n",
       "  \n",
       "    function display_loaded() {\n",
       "      if (window.Bokeh !== undefined) {\n",
       "        document.getElementById(\"11113de8-8f03-4b7f-bda9-a56f72550c3e\").textContent = \"BokehJS successfully loaded.\";\n",
       "      } else if (Date.now() < window._bokeh_timeout) {\n",
       "        setTimeout(display_loaded, 100)\n",
       "      }\n",
       "    }\n",
       "  \n",
       "    function run_callbacks() {\n",
       "      window._bokeh_onload_callbacks.forEach(function(callback) { callback() });\n",
       "      delete window._bokeh_onload_callbacks\n",
       "      console.info(\"Bokeh: all callbacks have finished\");\n",
       "    }\n",
       "  \n",
       "    function load_libs(js_urls, callback) {\n",
       "      window._bokeh_onload_callbacks.push(callback);\n",
       "      if (window._bokeh_is_loading > 0) {\n",
       "        console.log(\"Bokeh: BokehJS is being loaded, scheduling callback at\", now());\n",
       "        return null;\n",
       "      }\n",
       "      if (js_urls == null || js_urls.length === 0) {\n",
       "        run_callbacks();\n",
       "        return null;\n",
       "      }\n",
       "      console.log(\"Bokeh: BokehJS not loaded, scheduling load and callback at\", now());\n",
       "      window._bokeh_is_loading = js_urls.length;\n",
       "      for (var i = 0; i < js_urls.length; i++) {\n",
       "        var url = js_urls[i];\n",
       "        var s = document.createElement('script');\n",
       "        s.src = url;\n",
       "        s.async = false;\n",
       "        s.onreadystatechange = s.onload = function() {\n",
       "          window._bokeh_is_loading--;\n",
       "          if (window._bokeh_is_loading === 0) {\n",
       "            console.log(\"Bokeh: all BokehJS libraries loaded\");\n",
       "            run_callbacks()\n",
       "          }\n",
       "        };\n",
       "        s.onerror = function() {\n",
       "          console.warn(\"failed to load library \" + url);\n",
       "        };\n",
       "        console.log(\"Bokeh: injecting script tag for BokehJS library: \", url);\n",
       "        document.getElementsByTagName(\"head\")[0].appendChild(s);\n",
       "      }\n",
       "    };var element = document.getElementById(\"11113de8-8f03-4b7f-bda9-a56f72550c3e\");\n",
       "    if (element == null) {\n",
       "      console.log(\"Bokeh: ERROR: autoload.js configured with elementid '11113de8-8f03-4b7f-bda9-a56f72550c3e' but no matching script tag was found. \")\n",
       "      return false;\n",
       "    }\n",
       "  \n",
       "    var js_urls = [];\n",
       "  \n",
       "    var inline_js = [\n",
       "      function(Bokeh) {\n",
       "        (function() {\n",
       "          var fn = function() {\n",
       "            var docs_json = {\"f5580238-14f9-4b5b-85ed-40cea720a996\":{\"roots\":{\"references\":[{\"attributes\":{\"callback\":null,\"end\":360.04950410133546,\"start\":-25.04197778686357},\"id\":\"a927517e-23af-448e-beb9-11442439210a\",\"type\":\"Range1d\"},{\"attributes\":{\"axis_label\":\"x\",\"formatter\":{\"id\":\"56ec120a-fd6c-495c-b27b-b1dee43e5b2c\",\"type\":\"BasicTickFormatter\"},\"plot\":{\"id\":\"819540ff-f2da-428f-8330-e78c7434196c\",\"subtype\":\"Chart\",\"type\":\"Plot\"},\"ticker\":{\"id\":\"63ccffb3-f127-4926-907d-ddbc6a420f0d\",\"type\":\"BasicTicker\"}},\"id\":\"830c9e10-3d47-4adc-812c-666e29b8b739\",\"type\":\"LinearAxis\"},{\"attributes\":{\"bottom_units\":\"screen\",\"fill_alpha\":{\"value\":0.5},\"fill_color\":{\"value\":\"lightgrey\"},\"left_units\":\"screen\",\"level\":\"overlay\",\"line_alpha\":{\"value\":1.0},\"line_color\":{\"value\":\"black\"},\"line_dash\":[4,4],\"line_width\":{\"value\":2},\"plot\":null,\"render_mode\":\"css\",\"right_units\":\"screen\",\"top_units\":\"screen\"},\"id\":\"0ed30053-01b7-434a-9a7a-fcff4eaab174\",\"type\":\"BoxAnnotation\"},{\"attributes\":{\"plot\":{\"id\":\"819540ff-f2da-428f-8330-e78c7434196c\",\"subtype\":\"Chart\",\"type\":\"Plot\"}},\"id\":\"f928c8ff-c325-477c-8dd7-d19cb1f13449\",\"type\":\"PanTool\"},{\"attributes\":{\"plot\":{\"id\":\"819540ff-f2da-428f-8330-e78c7434196c\",\"subtype\":\"Chart\",\"type\":\"Plot\"}},\"id\":\"5db00631-4d2b-4ab6-85a4-9eaad5db5814\",\"type\":\"WheelZoomTool\"},{\"attributes\":{\"overlay\":{\"id\":\"0ed30053-01b7-434a-9a7a-fcff4eaab174\",\"type\":\"BoxAnnotation\"},\"plot\":{\"id\":\"819540ff-f2da-428f-8330-e78c7434196c\",\"subtype\":\"Chart\",\"type\":\"Plot\"}},\"id\":\"35f9d56d-6b5b-4b0a-83e0-10e7382d0d25\",\"type\":\"BoxZoomTool\"},{\"attributes\":{\"plot\":{\"id\":\"819540ff-f2da-428f-8330-e78c7434196c\",\"subtype\":\"Chart\",\"type\":\"Plot\"}},\"id\":\"a97ecd2d-2e8f-4a10-8776-8cfcb7097a28\",\"type\":\"SaveTool\"},{\"attributes\":{\"plot\":{\"id\":\"819540ff-f2da-428f-8330-e78c7434196c\",\"subtype\":\"Chart\",\"type\":\"Plot\"}},\"id\":\"18fddf8c-55ac-42e0-abea-ffaf30babc15\",\"type\":\"ResetTool\"},{\"attributes\":{\"plot\":{\"id\":\"819540ff-f2da-428f-8330-e78c7434196c\",\"subtype\":\"Chart\",\"type\":\"Plot\"}},\"id\":\"f1963c3a-bbc6-4dec-a987-d4f053d48874\",\"type\":\"HelpTool\"},{\"attributes\":{\"callback\":null,\"column_names\":[\"x_values\",\"y_values\"],\"data\":{\"chart_index\":[null,null,null,null,null,null,null,null,null,null,null,null,null,null,null,null,null,null,null,null,null,null,null,null,null,null,null,null,null,null,null,null,null,null,null,null,null,null,null,null,null,null,null,null,null,null,null,null,null,null,null,null,null,null,null,null,null,null,null,null,null,null,null,null,null,null,null,null,null,null,null,null,null,null,null,null,null,null,null,null,null,null,null,null,null,null,null,null,null,null,null,null,null,null,null,null,null,null,null,null,null,null,null,null,null,null,null,null,null,null,null,null,null,null,null,null,null,null,null,null,null,null,null,null,null,null,null,null,null,null,null,null,null,null,null,null,null,null,null,null,null,null,null,null,null,null,null,null,null,null,null,null,null,null,null,null,null,null,null,null,null,null,null,null,null,null,null,null,null,null,null,null,null,null,null,null,null,null,null,null,null,null,null,null,null,null,null,null,null,null,null,null,null,null,null,null,null,null,null,null,null,null,null,null,null,null,null,null,null,null,null,null,null,null,null,null,null,null,null,null,null,null,null,null,null,null,null,null,null,null,null,null,null,null,null,null,null,null,null,null,null,null,null,null,null,null,null,null,null,null,null,null,null,null,null,null,null,null,null,null,null,null,null,null,null,null,null,null,null,null,null,null,null,null,null,null,null,null,null,null,null,null,null,null,null,null,null,null,null,null,null,null,null,null,null,null,null,null,null,null,null,null,null,null,null,null,null,null,null,null,null,null,null,null,null,null,null,null,null,null,null,null,null,null,null,null,null,null,null,null,null,null,null,null,null,null,null,null,null,null,null,null,null,null,null,null,null,null,null,null,null,null,null,null,null,null,null,null,null,null,null,null,null,null,null,null,null,null,null,null,null,null,null,null,null,null,null,null,null,null,null,null,null,null,null,null,null,null,null,null,null,null,null,null,null,null,null,null,null,null,null,null,null,null,null,null,null,null,null,null,null,null,null,null,null,null,null,null,null,null,null,null,null,null,null,null,null,null,null,null,null,null,null,null,null,null,null,null,null,null,null,null,null,null,null,null,null,null,null,null,null,null,null,null,null,null,null,null,null,null,null,null,null,null,null,null,null,null,null,null,null,null,null,null,null,null,null,null,null,null,null,null,null,null,null,null,null,null,null,null,null,null,null,null,null,null,null,null,null,null],\"x_values\":{\"__ndarray__\":\"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\",\"dtype\":\"float64\",\"shape\":[500]},\"y_values\":{\"__ndarray__\":\"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\",\"dtype\":\"float64\",\"shape\":[500]}}},\"id\":\"125698a2-6b8b-4185-81d4-ba8ae9ae7ab5\",\"type\":\"ColumnDataSource\"},{\"attributes\":{\"data_source\":{\"id\":\"125698a2-6b8b-4185-81d4-ba8ae9ae7ab5\",\"type\":\"ColumnDataSource\"},\"glyph\":{\"id\":\"ae5f90cb-10fa-4110-909e-f7ab74575b06\",\"type\":\"Line\"},\"hover_glyph\":null,\"nonselection_glyph\":null,\"selection_glyph\":null},\"id\":\"5372d982-f72f-4b90-8f2d-a769868d2e12\",\"type\":\"GlyphRenderer\"},{\"attributes\":{\"line_color\":{\"value\":\"#f22c40\"},\"line_width\":{\"value\":2},\"x\":{\"field\":\"x_values\"},\"y\":{\"field\":\"y_values\"}},\"id\":\"ae5f90cb-10fa-4110-909e-f7ab74575b06\",\"type\":\"Line\"},{\"attributes\":{\"callback\":null,\"end\":11.98005878565538,\"start\":-11.935570201024728},\"id\":\"6ede0174-e5f4-4ff6-b8c6-6ace9d9ca591\",\"type\":\"Range1d\"},{\"attributes\":{\"axis_label\":\"y\",\"formatter\":{\"id\":\"bb894621-5afd-4a9e-b454-8fdee4898e93\",\"type\":\"BasicTickFormatter\"},\"plot\":{\"id\":\"819540ff-f2da-428f-8330-e78c7434196c\",\"subtype\":\"Chart\",\"type\":\"Plot\"},\"ticker\":{\"id\":\"52196ddd-085f-41a8-92fb-9fd4284fdde0\",\"type\":\"BasicTicker\"}},\"id\":\"70c0bad2-fb4a-48c7-acfa-16864b5806fa\",\"type\":\"LinearAxis\"},{\"attributes\":{\"location\":\"top_left\",\"plot\":{\"id\":\"819540ff-f2da-428f-8330-e78c7434196c\",\"subtype\":\"Chart\",\"type\":\"Plot\"}},\"id\":\"9787f6a5-f2b7-49a2-a977-a11a67106b4c\",\"type\":\"Legend\"},{\"attributes\":{\"active_drag\":\"auto\",\"active_scroll\":\"auto\",\"active_tap\":\"auto\",\"tools\":[{\"id\":\"f928c8ff-c325-477c-8dd7-d19cb1f13449\",\"type\":\"PanTool\"},{\"id\":\"5db00631-4d2b-4ab6-85a4-9eaad5db5814\",\"type\":\"WheelZoomTool\"},{\"id\":\"35f9d56d-6b5b-4b0a-83e0-10e7382d0d25\",\"type\":\"BoxZoomTool\"},{\"id\":\"a97ecd2d-2e8f-4a10-8776-8cfcb7097a28\",\"type\":\"SaveTool\"},{\"id\":\"18fddf8c-55ac-42e0-abea-ffaf30babc15\",\"type\":\"ResetTool\"},{\"id\":\"f1963c3a-bbc6-4dec-a987-d4f053d48874\",\"type\":\"HelpTool\"}]},\"id\":\"17341327-d338-4e59-9620-0178220f09cf\",\"type\":\"Toolbar\"},{\"attributes\":{},\"id\":\"56ec120a-fd6c-495c-b27b-b1dee43e5b2c\",\"type\":\"BasicTickFormatter\"},{\"attributes\":{},\"id\":\"63ccffb3-f127-4926-907d-ddbc6a420f0d\",\"type\":\"BasicTicker\"},{\"attributes\":{},\"id\":\"bb894621-5afd-4a9e-b454-8fdee4898e93\",\"type\":\"BasicTickFormatter\"},{\"attributes\":{},\"id\":\"b69028fd-b65e-4d2d-bb08-928a9ef77301\",\"type\":\"ToolEvents\"},{\"attributes\":{\"plot\":{\"id\":\"819540ff-f2da-428f-8330-e78c7434196c\",\"subtype\":\"Chart\",\"type\":\"Plot\"},\"ticker\":{\"id\":\"63ccffb3-f127-4926-907d-ddbc6a420f0d\",\"type\":\"BasicTicker\"}},\"id\":\"1bbb01a6-d844-4381-be8e-cfd4b3010093\",\"type\":\"Grid\"},{\"attributes\":{},\"id\":\"52196ddd-085f-41a8-92fb-9fd4284fdde0\",\"type\":\"BasicTicker\"},{\"attributes\":{\"plot\":null,\"text\":null},\"id\":\"b3021ef7-19df-452a-a6f1-2e9a95c729eb\",\"type\":\"Title\"},{\"attributes\":{\"dimension\":1,\"plot\":{\"id\":\"819540ff-f2da-428f-8330-e78c7434196c\",\"subtype\":\"Chart\",\"type\":\"Plot\"},\"ticker\":{\"id\":\"52196ddd-085f-41a8-92fb-9fd4284fdde0\",\"type\":\"BasicTicker\"}},\"id\":\"f4cedef9-6158-453a-873d-58b5de15d1aa\",\"type\":\"Grid\"},{\"attributes\":{\"below\":[{\"id\":\"830c9e10-3d47-4adc-812c-666e29b8b739\",\"type\":\"LinearAxis\"}],\"css_classes\":null,\"height\":400,\"left\":[{\"id\":\"70c0bad2-fb4a-48c7-acfa-16864b5806fa\",\"type\":\"LinearAxis\"}],\"renderers\":[{\"id\":\"0ed30053-01b7-434a-9a7a-fcff4eaab174\",\"type\":\"BoxAnnotation\"},{\"id\":\"5372d982-f72f-4b90-8f2d-a769868d2e12\",\"type\":\"GlyphRenderer\"},{\"id\":\"9787f6a5-f2b7-49a2-a977-a11a67106b4c\",\"type\":\"Legend\"},{\"id\":\"830c9e10-3d47-4adc-812c-666e29b8b739\",\"type\":\"LinearAxis\"},{\"id\":\"70c0bad2-fb4a-48c7-acfa-16864b5806fa\",\"type\":\"LinearAxis\"},{\"id\":\"1bbb01a6-d844-4381-be8e-cfd4b3010093\",\"type\":\"Grid\"},{\"id\":\"f4cedef9-6158-453a-873d-58b5de15d1aa\",\"type\":\"Grid\"}],\"title\":{\"id\":\"b3021ef7-19df-452a-a6f1-2e9a95c729eb\",\"type\":\"Title\"},\"tool_events\":{\"id\":\"b69028fd-b65e-4d2d-bb08-928a9ef77301\",\"type\":\"ToolEvents\"},\"toolbar\":{\"id\":\"17341327-d338-4e59-9620-0178220f09cf\",\"type\":\"Toolbar\"},\"width\":750,\"x_mapper_type\":\"auto\",\"x_range\":{\"id\":\"6ede0174-e5f4-4ff6-b8c6-6ace9d9ca591\",\"type\":\"Range1d\"},\"y_mapper_type\":\"auto\",\"y_range\":{\"id\":\"a927517e-23af-448e-beb9-11442439210a\",\"type\":\"Range1d\"}},\"id\":\"819540ff-f2da-428f-8330-e78c7434196c\",\"subtype\":\"Chart\",\"type\":\"Plot\"}],\"root_ids\":[\"819540ff-f2da-428f-8330-e78c7434196c\"]},\"title\":\"Bokeh Application\",\"version\":\"0.12.4\"}};\n",
       "            var render_items = [{\"docid\":\"f5580238-14f9-4b5b-85ed-40cea720a996\",\"elementid\":\"11113de8-8f03-4b7f-bda9-a56f72550c3e\",\"modelid\":\"819540ff-f2da-428f-8330-e78c7434196c\"}];\n",
       "            \n",
       "            Bokeh.embed.embed_items(docs_json, render_items);\n",
       "          };\n",
       "          if (document.readyState != \"loading\") fn();\n",
       "          else document.addEventListener(\"DOMContentLoaded\", fn);\n",
       "        })();\n",
       "      },\n",
       "      function(Bokeh) {\n",
       "      }\n",
       "    ];\n",
       "  \n",
       "    function run_inline_js() {\n",
       "      \n",
       "      if ((window.Bokeh !== undefined) || (force === true)) {\n",
       "        for (var i = 0; i < inline_js.length; i++) {\n",
       "          inline_js[i](window.Bokeh);\n",
       "        }if (force === true) {\n",
       "          display_loaded();\n",
       "        }} else if (Date.now() < window._bokeh_timeout) {\n",
       "        setTimeout(run_inline_js, 100);\n",
       "      } else if (!window._bokeh_failed_load) {\n",
       "        console.log(\"Bokeh: BokehJS failed to load within specified timeout.\");\n",
       "        window._bokeh_failed_load = true;\n",
       "      } else if (force !== true) {\n",
       "        var cell = $(document.getElementById(\"11113de8-8f03-4b7f-bda9-a56f72550c3e\")).parents('.cell').data().cell;\n",
       "        cell.output_area.append_execute_result(NB_LOAD_WARNING)\n",
       "      }\n",
       "  \n",
       "    }\n",
       "  \n",
       "    if (window._bokeh_is_loading === 0) {\n",
       "      console.log(\"Bokeh: BokehJS loaded, going straight to plotting\");\n",
       "      run_inline_js();\n",
       "    } else {\n",
       "      load_libs(js_urls, function() {\n",
       "        console.log(\"Bokeh: BokehJS plotting callback run at\", now());\n",
       "        run_inline_js();\n",
       "      });\n",
       "    }\n",
       "  }(this));\n",
       "</script>"
      ]
     },
     "metadata": {},
     "output_type": "display_data"
    }
   ],
   "source": [
    "from bokeh.charts import Line\n",
    "y_hat = lin.predict(X)\n",
    "show(Line({'x': x, 'y': y_hat}, x='x', y='y', width=750, height=400))"
   ]
  },
  {
   "cell_type": "markdown",
   "metadata": {
    "deletable": true,
    "editable": true,
    "slideshow": {
     "slide_type": "slide"
    }
   },
   "source": [
    "### Least Squares the way your _grandparents_ did it...\n",
    "\n",
    "...with chalk and a slab of slate."
   ]
  },
  {
   "cell_type": "markdown",
   "metadata": {
    "deletable": true,
    "editable": true,
    "slideshow": {
     "slide_type": "subslide"
    }
   },
   "source": [
    "Construct a function to calculate the sum of squared residuals...\n",
    "\n",
    "$$\n",
    "\\begin{align}\n",
    "    \\text{min}\\ f(\\beta) & = \\frac{1}{2} ||y - X \\beta||^2 \\\\\n",
    "                         & \\\\\n",
    "                         & = \\frac{1}{2} (y - X \\beta)'(y - X \\beta) \\\\\n",
    "                         & \\\\\n",
    "                         & = \\frac{1}{2} y'y - y'X\\beta + \\frac{1}{2} \\beta'X'X\\beta \\\\\n",
    "                         & \\\\\n",
    "                         & = \\frac{1}{2} y'y - y'X\\beta + \\frac{1}{2} \\beta'X'X\\beta \\\\\n",
    "                         & \\\\\n",
    "\\end{align}\n",
    "$$"
   ]
  },
  {
   "cell_type": "markdown",
   "metadata": {
    "deletable": true,
    "editable": true,
    "slideshow": {
     "slide_type": "subslide"
    }
   },
   "source": [
    "#### First Order Necessary Conditions\n",
    "\n",
    "...and take its derivative to find a closed-form solution.\n",
    "\n",
    "$$\\nabla f(\\beta) = X'X\\beta - y'X\\beta = 0$$  \n",
    "$$\\beta = (X'X)^{-1}X'y$$"
   ]
  },
  {
   "cell_type": "code",
   "execution_count": 5,
   "metadata": {
    "collapsed": false,
    "deletable": true,
    "editable": true,
    "slideshow": {
     "slide_type": "subslide"
    }
   },
   "outputs": [
    {
     "name": "stdout",
     "output_type": "stream",
     "text": [
      "[ 3.02074271 -2.20182717  7.45017984]\n"
     ]
    }
   ],
   "source": [
    "from numpy.linalg import inv\n",
    "\n",
    "# beta = (X'X)^-1 * X * y\n",
    "Xt = X.transpose()\n",
    "pseudo_inv = inv(np.matmul(Xt, X))\n",
    "beta = np.matmul(np.matmul(pseudo_inv, Xt), y)\n",
    "print(beta)"
   ]
  },
  {
   "cell_type": "markdown",
   "metadata": {
    "deletable": true,
    "editable": true,
    "slideshow": {
     "slide_type": "subslide"
    }
   },
   "source": [
    "How'd grandma and grandpa do?"
   ]
  },
  {
   "cell_type": "code",
   "execution_count": 6,
   "metadata": {
    "collapsed": false,
    "deletable": true,
    "editable": true,
    "slideshow": {
     "slide_type": "-"
    }
   },
   "outputs": [
    {
     "data": {
      "text/html": [
       "\n",
       "\n",
       "    <div class=\"bk-root\">\n",
       "        <div class=\"bk-plotdiv\" id=\"8c83f556-1b29-4301-af5c-14b6a132476a\"></div>\n",
       "    </div>\n",
       "<script type=\"text/javascript\">\n",
       "  \n",
       "  (function(global) {\n",
       "    function now() {\n",
       "      return new Date();\n",
       "    }\n",
       "  \n",
       "    var force = false;\n",
       "  \n",
       "    if (typeof (window._bokeh_onload_callbacks) === \"undefined\" || force === true) {\n",
       "      window._bokeh_onload_callbacks = [];\n",
       "      window._bokeh_is_loading = undefined;\n",
       "    }\n",
       "  \n",
       "  \n",
       "    \n",
       "    if (typeof (window._bokeh_timeout) === \"undefined\" || force === true) {\n",
       "      window._bokeh_timeout = Date.now() + 0;\n",
       "      window._bokeh_failed_load = false;\n",
       "    }\n",
       "  \n",
       "    var NB_LOAD_WARNING = {'data': {'text/html':\n",
       "       \"<div style='background-color: #fdd'>\\n\"+\n",
       "       \"<p>\\n\"+\n",
       "       \"BokehJS does not appear to have successfully loaded. If loading BokehJS from CDN, this \\n\"+\n",
       "       \"may be due to a slow or bad network connection. Possible fixes:\\n\"+\n",
       "       \"</p>\\n\"+\n",
       "       \"<ul>\\n\"+\n",
       "       \"<li>re-rerun `output_notebook()` to attempt to load from CDN again, or</li>\\n\"+\n",
       "       \"<li>use INLINE resources instead, as so:</li>\\n\"+\n",
       "       \"</ul>\\n\"+\n",
       "       \"<code>\\n\"+\n",
       "       \"from bokeh.resources import INLINE\\n\"+\n",
       "       \"output_notebook(resources=INLINE)\\n\"+\n",
       "       \"</code>\\n\"+\n",
       "       \"</div>\"}};\n",
       "  \n",
       "    function display_loaded() {\n",
       "      if (window.Bokeh !== undefined) {\n",
       "        document.getElementById(\"8c83f556-1b29-4301-af5c-14b6a132476a\").textContent = \"BokehJS successfully loaded.\";\n",
       "      } else if (Date.now() < window._bokeh_timeout) {\n",
       "        setTimeout(display_loaded, 100)\n",
       "      }\n",
       "    }\n",
       "  \n",
       "    function run_callbacks() {\n",
       "      window._bokeh_onload_callbacks.forEach(function(callback) { callback() });\n",
       "      delete window._bokeh_onload_callbacks\n",
       "      console.info(\"Bokeh: all callbacks have finished\");\n",
       "    }\n",
       "  \n",
       "    function load_libs(js_urls, callback) {\n",
       "      window._bokeh_onload_callbacks.push(callback);\n",
       "      if (window._bokeh_is_loading > 0) {\n",
       "        console.log(\"Bokeh: BokehJS is being loaded, scheduling callback at\", now());\n",
       "        return null;\n",
       "      }\n",
       "      if (js_urls == null || js_urls.length === 0) {\n",
       "        run_callbacks();\n",
       "        return null;\n",
       "      }\n",
       "      console.log(\"Bokeh: BokehJS not loaded, scheduling load and callback at\", now());\n",
       "      window._bokeh_is_loading = js_urls.length;\n",
       "      for (var i = 0; i < js_urls.length; i++) {\n",
       "        var url = js_urls[i];\n",
       "        var s = document.createElement('script');\n",
       "        s.src = url;\n",
       "        s.async = false;\n",
       "        s.onreadystatechange = s.onload = function() {\n",
       "          window._bokeh_is_loading--;\n",
       "          if (window._bokeh_is_loading === 0) {\n",
       "            console.log(\"Bokeh: all BokehJS libraries loaded\");\n",
       "            run_callbacks()\n",
       "          }\n",
       "        };\n",
       "        s.onerror = function() {\n",
       "          console.warn(\"failed to load library \" + url);\n",
       "        };\n",
       "        console.log(\"Bokeh: injecting script tag for BokehJS library: \", url);\n",
       "        document.getElementsByTagName(\"head\")[0].appendChild(s);\n",
       "      }\n",
       "    };var element = document.getElementById(\"8c83f556-1b29-4301-af5c-14b6a132476a\");\n",
       "    if (element == null) {\n",
       "      console.log(\"Bokeh: ERROR: autoload.js configured with elementid '8c83f556-1b29-4301-af5c-14b6a132476a' but no matching script tag was found. \")\n",
       "      return false;\n",
       "    }\n",
       "  \n",
       "    var js_urls = [];\n",
       "  \n",
       "    var inline_js = [\n",
       "      function(Bokeh) {\n",
       "        (function() {\n",
       "          var fn = function() {\n",
       "            var docs_json = {\"10c22aeb-3d27-4b19-89e9-6f972a0876e4\":{\"roots\":{\"references\":[{\"attributes\":{\"bottom_units\":\"screen\",\"fill_alpha\":{\"value\":0.5},\"fill_color\":{\"value\":\"lightgrey\"},\"left_units\":\"screen\",\"level\":\"overlay\",\"line_alpha\":{\"value\":1.0},\"line_color\":{\"value\":\"black\"},\"line_dash\":[4,4],\"line_width\":{\"value\":2},\"plot\":null,\"render_mode\":\"css\",\"right_units\":\"screen\",\"top_units\":\"screen\"},\"id\":\"2310ef9f-4084-499e-bb3d-4e3eed26615c\",\"type\":\"BoxAnnotation\"},{\"attributes\":{\"plot\":{\"id\":\"f2ae874d-61d1-4011-b489-13fd4542e22b\",\"subtype\":\"Chart\",\"type\":\"Plot\"}},\"id\":\"77374467-24ef-408a-a69f-9409d2300f5a\",\"type\":\"SaveTool\"},{\"attributes\":{\"plot\":{\"id\":\"f2ae874d-61d1-4011-b489-13fd4542e22b\",\"subtype\":\"Chart\",\"type\":\"Plot\"}},\"id\":\"a54b9545-3ada-4c7c-a924-962f91351a43\",\"type\":\"ResetTool\"},{\"attributes\":{\"plot\":{\"id\":\"f2ae874d-61d1-4011-b489-13fd4542e22b\",\"subtype\":\"Chart\",\"type\":\"Plot\"}},\"id\":\"c3200b6a-2adb-4ce3-bc6a-eb0e833be9de\",\"type\":\"PanTool\"},{\"attributes\":{\"plot\":{\"id\":\"f2ae874d-61d1-4011-b489-13fd4542e22b\",\"subtype\":\"Chart\",\"type\":\"Plot\"}},\"id\":\"97ca563f-b3c2-44fb-99e0-948bd1671e1d\",\"type\":\"HelpTool\"},{\"attributes\":{\"active_drag\":\"auto\",\"active_scroll\":\"auto\",\"active_tap\":\"auto\",\"tools\":[{\"id\":\"c3200b6a-2adb-4ce3-bc6a-eb0e833be9de\",\"type\":\"PanTool\"},{\"id\":\"ac3c9b4a-411e-4bbc-8fd5-d3f1eb843489\",\"type\":\"WheelZoomTool\"},{\"id\":\"21e95ef9-3e8d-4e60-83fd-4a5978a63fad\",\"type\":\"BoxZoomTool\"},{\"id\":\"77374467-24ef-408a-a69f-9409d2300f5a\",\"type\":\"SaveTool\"},{\"id\":\"a54b9545-3ada-4c7c-a924-962f91351a43\",\"type\":\"ResetTool\"},{\"id\":\"97ca563f-b3c2-44fb-99e0-948bd1671e1d\",\"type\":\"HelpTool\"}]},\"id\":\"83fc724b-7890-48ac-a381-ff1119299a66\",\"type\":\"Toolbar\"},{\"attributes\":{\"callback\":null,\"column_names\":[\"x_values\",\"y_values\"],\"data\":{\"chart_index\":[null,null,null,null,null,null,null,null,null,null,null,null,null,null,null,null,null,null,null,null,null,null,null,null,null,null,null,null,null,null,null,null,null,null,null,null,null,null,null,null,null,null,null,null,null,null,null,null,null,null,null,null,null,null,null,null,null,null,null,null,null,null,null,null,null,null,null,null,null,null,null,null,null,null,null,null,null,null,null,null,null,null,null,null,null,null,null,null,null,null,null,null,null,null,null,null,null,null,null,null,null,null,null,null,null,null,null,null,null,null,null,null,null,null,null,null,null,null,null,null,null,null,null,null,null,null,null,null,null,null,null,null,null,null,null,null,null,null,null,null,null,null,null,null,null,null,null,null,null,null,null,null,null,null,null,null,null,null,null,null,null,null,null,null,null,null,null,null,null,null,null,null,null,null,null,null,null,null,null,null,null,null,null,null,null,null,null,null,null,null,null,null,null,null,null,null,null,null,null,null,null,null,null,null,null,null,null,null,null,null,null,null,null,null,null,null,null,null,null,null,null,null,null,null,null,null,null,null,null,null,null,null,null,null,null,null,null,null,null,null,null,null,null,null,null,null,null,null,null,null,null,null,null,null,null,null,null,null,null,null,null,null,null,null,null,null,null,null,null,null,null,null,null,null,null,null,null,null,null,null,null,null,null,null,null,null,null,null,null,null,null,null,null,null,null,null,null,null,null,null,null,null,null,null,null,null,null,null,null,null,null,null,null,null,null,null,null,null,null,null,null,null,null,null,null,null,null,null,null,null,null,null,null,null,null,null,null,null,null,null,null,null,null,null,null,null,null,null,null,null,null,null,null,null,null,null,null,null,null,null,null,null,null,null,null,null,null,null,null,null,null,null,null,null,null,null,null,null,null,null,null,null,null,null,null,null,null,null,null,null,null,null,null,null,null,null,null,null,null,null,null,null,null,null,null,null,null,null,null,null,null,null,null,null,null,null,null,null,null,null,null,null,null,null,null,null,null,null,null,null,null,null,null,null,null,null,null,null,null,null,null,null,null,null,null,null,null,null,null,null,null,null,null,null,null,null,null,null,null,null,null,null,null,null,null,null,null,null,null,null,null,null,null,null,null,null,null,null,null,null,null,null,null,null,null,null,null,null,null,null,null,null,null,null,null,null,null,null,null,null],\"x_values\":{\"__ndarray__\":\"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\",\"dtype\":\"float64\",\"shape\":[500]},\"y_values\":{\"__ndarray__\":\"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\",\"dtype\":\"float64\",\"shape\":[500]}}},\"id\":\"7e400e0f-4974-4be9-aa38-8956a0a8ff26\",\"type\":\"ColumnDataSource\"},{\"attributes\":{\"data_source\":{\"id\":\"7e400e0f-4974-4be9-aa38-8956a0a8ff26\",\"type\":\"ColumnDataSource\"},\"glyph\":{\"id\":\"52ebc51b-c7dd-4c69-81cd-df35d595bcca\",\"type\":\"Line\"},\"hover_glyph\":null,\"nonselection_glyph\":null,\"selection_glyph\":null},\"id\":\"7f754b7e-a051-46c5-9b6a-85952a121978\",\"type\":\"GlyphRenderer\"},{\"attributes\":{\"line_color\":{\"value\":\"#f22c40\"},\"line_width\":{\"value\":2},\"x\":{\"field\":\"x_values\"},\"y\":{\"field\":\"y_values\"}},\"id\":\"52ebc51b-c7dd-4c69-81cd-df35d595bcca\",\"type\":\"Line\"},{\"attributes\":{\"callback\":null,\"end\":360.04950410133546,\"start\":-25.041977786863544},\"id\":\"c9fa2999-41cd-4984-9f39-e7be1f392222\",\"type\":\"Range1d\"},{\"attributes\":{\"axis_label\":\"x\",\"formatter\":{\"id\":\"d020e1dc-cf3e-4425-a57d-30d253739b70\",\"type\":\"BasicTickFormatter\"},\"plot\":{\"id\":\"f2ae874d-61d1-4011-b489-13fd4542e22b\",\"subtype\":\"Chart\",\"type\":\"Plot\"},\"ticker\":{\"id\":\"fd0925ef-6feb-4824-be71-878b83812dd4\",\"type\":\"BasicTicker\"}},\"id\":\"b696a35b-8096-43ab-be8a-f34d988f0dee\",\"type\":\"LinearAxis\"},{\"attributes\":{\"plot\":null,\"text\":null},\"id\":\"a5b08082-ea8e-49be-b82a-7e3b4e26818e\",\"type\":\"Title\"},{\"attributes\":{\"location\":\"top_left\",\"plot\":{\"id\":\"f2ae874d-61d1-4011-b489-13fd4542e22b\",\"subtype\":\"Chart\",\"type\":\"Plot\"}},\"id\":\"cc5cd055-477b-492a-94b4-223b2dc4d5e9\",\"type\":\"Legend\"},{\"attributes\":{\"callback\":null,\"end\":11.98005878565538,\"start\":-11.935570201024728},\"id\":\"13735478-bd6c-4b67-a380-b9a72f17ded2\",\"type\":\"Range1d\"},{\"attributes\":{\"axis_label\":\"y\",\"formatter\":{\"id\":\"9998a80f-7f38-4d2a-bf50-5373eaae0595\",\"type\":\"BasicTickFormatter\"},\"plot\":{\"id\":\"f2ae874d-61d1-4011-b489-13fd4542e22b\",\"subtype\":\"Chart\",\"type\":\"Plot\"},\"ticker\":{\"id\":\"38bb570c-c2a4-40dd-bceb-d60416b42665\",\"type\":\"BasicTicker\"}},\"id\":\"63be07d2-a7f9-4742-8190-31489804c193\",\"type\":\"LinearAxis\"},{\"attributes\":{},\"id\":\"d020e1dc-cf3e-4425-a57d-30d253739b70\",\"type\":\"BasicTickFormatter\"},{\"attributes\":{},\"id\":\"fd0925ef-6feb-4824-be71-878b83812dd4\",\"type\":\"BasicTicker\"},{\"attributes\":{},\"id\":\"9998a80f-7f38-4d2a-bf50-5373eaae0595\",\"type\":\"BasicTickFormatter\"},{\"attributes\":{\"plot\":{\"id\":\"f2ae874d-61d1-4011-b489-13fd4542e22b\",\"subtype\":\"Chart\",\"type\":\"Plot\"},\"ticker\":{\"id\":\"fd0925ef-6feb-4824-be71-878b83812dd4\",\"type\":\"BasicTicker\"}},\"id\":\"48148a4c-02ac-43ee-8b94-e10e511e5b5b\",\"type\":\"Grid\"},{\"attributes\":{},\"id\":\"f8d14474-4193-4cc8-8e6a-adff6b4d8535\",\"type\":\"ToolEvents\"},{\"attributes\":{},\"id\":\"38bb570c-c2a4-40dd-bceb-d60416b42665\",\"type\":\"BasicTicker\"},{\"attributes\":{\"dimension\":1,\"plot\":{\"id\":\"f2ae874d-61d1-4011-b489-13fd4542e22b\",\"subtype\":\"Chart\",\"type\":\"Plot\"},\"ticker\":{\"id\":\"38bb570c-c2a4-40dd-bceb-d60416b42665\",\"type\":\"BasicTicker\"}},\"id\":\"3fa3ccee-b743-4351-8920-a25d7b587c0a\",\"type\":\"Grid\"},{\"attributes\":{\"below\":[{\"id\":\"b696a35b-8096-43ab-be8a-f34d988f0dee\",\"type\":\"LinearAxis\"}],\"css_classes\":null,\"height\":400,\"left\":[{\"id\":\"63be07d2-a7f9-4742-8190-31489804c193\",\"type\":\"LinearAxis\"}],\"renderers\":[{\"id\":\"2310ef9f-4084-499e-bb3d-4e3eed26615c\",\"type\":\"BoxAnnotation\"},{\"id\":\"7f754b7e-a051-46c5-9b6a-85952a121978\",\"type\":\"GlyphRenderer\"},{\"id\":\"cc5cd055-477b-492a-94b4-223b2dc4d5e9\",\"type\":\"Legend\"},{\"id\":\"b696a35b-8096-43ab-be8a-f34d988f0dee\",\"type\":\"LinearAxis\"},{\"id\":\"63be07d2-a7f9-4742-8190-31489804c193\",\"type\":\"LinearAxis\"},{\"id\":\"48148a4c-02ac-43ee-8b94-e10e511e5b5b\",\"type\":\"Grid\"},{\"id\":\"3fa3ccee-b743-4351-8920-a25d7b587c0a\",\"type\":\"Grid\"}],\"title\":{\"id\":\"a5b08082-ea8e-49be-b82a-7e3b4e26818e\",\"type\":\"Title\"},\"tool_events\":{\"id\":\"f8d14474-4193-4cc8-8e6a-adff6b4d8535\",\"type\":\"ToolEvents\"},\"toolbar\":{\"id\":\"83fc724b-7890-48ac-a381-ff1119299a66\",\"type\":\"Toolbar\"},\"width\":750,\"x_mapper_type\":\"auto\",\"x_range\":{\"id\":\"13735478-bd6c-4b67-a380-b9a72f17ded2\",\"type\":\"Range1d\"},\"y_mapper_type\":\"auto\",\"y_range\":{\"id\":\"c9fa2999-41cd-4984-9f39-e7be1f392222\",\"type\":\"Range1d\"}},\"id\":\"f2ae874d-61d1-4011-b489-13fd4542e22b\",\"subtype\":\"Chart\",\"type\":\"Plot\"},{\"attributes\":{\"plot\":{\"id\":\"f2ae874d-61d1-4011-b489-13fd4542e22b\",\"subtype\":\"Chart\",\"type\":\"Plot\"}},\"id\":\"ac3c9b4a-411e-4bbc-8fd5-d3f1eb843489\",\"type\":\"WheelZoomTool\"},{\"attributes\":{\"overlay\":{\"id\":\"2310ef9f-4084-499e-bb3d-4e3eed26615c\",\"type\":\"BoxAnnotation\"},\"plot\":{\"id\":\"f2ae874d-61d1-4011-b489-13fd4542e22b\",\"subtype\":\"Chart\",\"type\":\"Plot\"}},\"id\":\"21e95ef9-3e8d-4e60-83fd-4a5978a63fad\",\"type\":\"BoxZoomTool\"}],\"root_ids\":[\"f2ae874d-61d1-4011-b489-13fd4542e22b\"]},\"title\":\"Bokeh Application\",\"version\":\"0.12.4\"}};\n",
       "            var render_items = [{\"docid\":\"10c22aeb-3d27-4b19-89e9-6f972a0876e4\",\"elementid\":\"8c83f556-1b29-4301-af5c-14b6a132476a\",\"modelid\":\"f2ae874d-61d1-4011-b489-13fd4542e22b\"}];\n",
       "            \n",
       "            Bokeh.embed.embed_items(docs_json, render_items);\n",
       "          };\n",
       "          if (document.readyState != \"loading\") fn();\n",
       "          else document.addEventListener(\"DOMContentLoaded\", fn);\n",
       "        })();\n",
       "      },\n",
       "      function(Bokeh) {\n",
       "      }\n",
       "    ];\n",
       "  \n",
       "    function run_inline_js() {\n",
       "      \n",
       "      if ((window.Bokeh !== undefined) || (force === true)) {\n",
       "        for (var i = 0; i < inline_js.length; i++) {\n",
       "          inline_js[i](window.Bokeh);\n",
       "        }if (force === true) {\n",
       "          display_loaded();\n",
       "        }} else if (Date.now() < window._bokeh_timeout) {\n",
       "        setTimeout(run_inline_js, 100);\n",
       "      } else if (!window._bokeh_failed_load) {\n",
       "        console.log(\"Bokeh: BokehJS failed to load within specified timeout.\");\n",
       "        window._bokeh_failed_load = true;\n",
       "      } else if (force !== true) {\n",
       "        var cell = $(document.getElementById(\"8c83f556-1b29-4301-af5c-14b6a132476a\")).parents('.cell').data().cell;\n",
       "        cell.output_area.append_execute_result(NB_LOAD_WARNING)\n",
       "      }\n",
       "  \n",
       "    }\n",
       "  \n",
       "    if (window._bokeh_is_loading === 0) {\n",
       "      console.log(\"Bokeh: BokehJS loaded, going straight to plotting\");\n",
       "      run_inline_js();\n",
       "    } else {\n",
       "      load_libs(js_urls, function() {\n",
       "        console.log(\"Bokeh: BokehJS plotting callback run at\", now());\n",
       "        run_inline_js();\n",
       "      });\n",
       "    }\n",
       "  }(this));\n",
       "</script>"
      ]
     },
     "metadata": {},
     "output_type": "display_data"
    }
   ],
   "source": [
    "y_hat = [beta[0]*xi**2 + beta[1]*xi + beta[2] for xi in x]\n",
    "show(Line({'x': x, 'y': y_hat}, x='x', y='y', width=750, height=400))"
   ]
  },
  {
   "cell_type": "markdown",
   "metadata": {
    "deletable": true,
    "editable": true,
    "slideshow": {
     "slide_type": "slide"
    }
   },
   "source": [
    "### Least Squares the way your _crazy uncle Eddie_ does it...\n",
    "\n",
    "...'cause he used to work at NASA and code in Forth."
   ]
  },
  {
   "cell_type": "markdown",
   "metadata": {
    "deletable": true,
    "editable": true,
    "slideshow": {
     "slide_type": "subslide"
    }
   },
   "source": [
    "[`cvxopt`](http://cvxopt.org/) provides a [`qp`](http://cvxopt.org/userguide/coneprog.html#quadratic-programming) method that can solve anything of this form.\n",
    "\n",
    "$$\n",
    "\\begin{align}\n",
    "    \\text{min}  \\ \\ \\ & \\ \\frac{1}{2} \\beta'P\\beta + q'\\beta \\\\\n",
    "                      & \\\\\n",
    "    \\text{s.t.} \\ \\ \\ & \\ G\\beta \\preceq h \\\\\n",
    "                      & \\\\\n",
    "                      & \\ A\\beta = b\n",
    "\\end{align}\n",
    "$$\n"
   ]
  },
  {
   "cell_type": "markdown",
   "metadata": {
    "deletable": true,
    "editable": true,
    "slideshow": {
     "slide_type": "subslide"
    }
   },
   "source": [
    "So we need to convert from \n",
    "\n",
    "$$\\frac{1}{2} \\beta'X'X\\beta - y'X\\beta + \\frac{1}{2} y'y $$\n",
    "\n",
    "to another form\n",
    "\n",
    "$$\\frac{1}{2} \\beta'P\\beta + q'\\beta$$"
   ]
  },
  {
   "cell_type": "markdown",
   "metadata": {
    "deletable": true,
    "editable": true,
    "slideshow": {
     "slide_type": "fragment"
    }
   },
   "source": [
    "which is simply\n",
    "\n",
    "$$P = X'X, q = -y$$"
   ]
  },
  {
   "cell_type": "code",
   "execution_count": 7,
   "metadata": {
    "collapsed": false,
    "deletable": true,
    "editable": true,
    "slideshow": {
     "slide_type": "subslide"
    }
   },
   "outputs": [
    {
     "name": "stdout",
     "output_type": "stream",
     "text": [
      "[ 3.02e+00]\n",
      "[-2.20e+00]\n",
      "[ 7.45e+00]\n",
      "\n"
     ]
    }
   ],
   "source": [
    "import cvxopt as cvx\n",
    "\n",
    "P = cvx.matrix(np.matmul(Xt, X))\n",
    "q = cvx.matrix(-1 * np.matmul(y.transpose(), X))\n",
    "solution = cvx.solvers.qp(P, q)\n",
    "beta = solution['x'] # unrelated to our x\n",
    "print(beta)"
   ]
  },
  {
   "cell_type": "markdown",
   "metadata": {
    "deletable": true,
    "editable": true,
    "slideshow": {
     "slide_type": "subslide"
    }
   },
   "source": [
    "How'd Crazy Uncle Eddie do?"
   ]
  },
  {
   "cell_type": "code",
   "execution_count": 8,
   "metadata": {
    "collapsed": false,
    "deletable": true,
    "editable": true,
    "slideshow": {
     "slide_type": "-"
    }
   },
   "outputs": [
    {
     "data": {
      "text/html": [
       "\n",
       "\n",
       "    <div class=\"bk-root\">\n",
       "        <div class=\"bk-plotdiv\" id=\"75e3ff7c-b99a-42ea-815b-f4d3cd924103\"></div>\n",
       "    </div>\n",
       "<script type=\"text/javascript\">\n",
       "  \n",
       "  (function(global) {\n",
       "    function now() {\n",
       "      return new Date();\n",
       "    }\n",
       "  \n",
       "    var force = false;\n",
       "  \n",
       "    if (typeof (window._bokeh_onload_callbacks) === \"undefined\" || force === true) {\n",
       "      window._bokeh_onload_callbacks = [];\n",
       "      window._bokeh_is_loading = undefined;\n",
       "    }\n",
       "  \n",
       "  \n",
       "    \n",
       "    if (typeof (window._bokeh_timeout) === \"undefined\" || force === true) {\n",
       "      window._bokeh_timeout = Date.now() + 0;\n",
       "      window._bokeh_failed_load = false;\n",
       "    }\n",
       "  \n",
       "    var NB_LOAD_WARNING = {'data': {'text/html':\n",
       "       \"<div style='background-color: #fdd'>\\n\"+\n",
       "       \"<p>\\n\"+\n",
       "       \"BokehJS does not appear to have successfully loaded. If loading BokehJS from CDN, this \\n\"+\n",
       "       \"may be due to a slow or bad network connection. Possible fixes:\\n\"+\n",
       "       \"</p>\\n\"+\n",
       "       \"<ul>\\n\"+\n",
       "       \"<li>re-rerun `output_notebook()` to attempt to load from CDN again, or</li>\\n\"+\n",
       "       \"<li>use INLINE resources instead, as so:</li>\\n\"+\n",
       "       \"</ul>\\n\"+\n",
       "       \"<code>\\n\"+\n",
       "       \"from bokeh.resources import INLINE\\n\"+\n",
       "       \"output_notebook(resources=INLINE)\\n\"+\n",
       "       \"</code>\\n\"+\n",
       "       \"</div>\"}};\n",
       "  \n",
       "    function display_loaded() {\n",
       "      if (window.Bokeh !== undefined) {\n",
       "        document.getElementById(\"75e3ff7c-b99a-42ea-815b-f4d3cd924103\").textContent = \"BokehJS successfully loaded.\";\n",
       "      } else if (Date.now() < window._bokeh_timeout) {\n",
       "        setTimeout(display_loaded, 100)\n",
       "      }\n",
       "    }\n",
       "  \n",
       "    function run_callbacks() {\n",
       "      window._bokeh_onload_callbacks.forEach(function(callback) { callback() });\n",
       "      delete window._bokeh_onload_callbacks\n",
       "      console.info(\"Bokeh: all callbacks have finished\");\n",
       "    }\n",
       "  \n",
       "    function load_libs(js_urls, callback) {\n",
       "      window._bokeh_onload_callbacks.push(callback);\n",
       "      if (window._bokeh_is_loading > 0) {\n",
       "        console.log(\"Bokeh: BokehJS is being loaded, scheduling callback at\", now());\n",
       "        return null;\n",
       "      }\n",
       "      if (js_urls == null || js_urls.length === 0) {\n",
       "        run_callbacks();\n",
       "        return null;\n",
       "      }\n",
       "      console.log(\"Bokeh: BokehJS not loaded, scheduling load and callback at\", now());\n",
       "      window._bokeh_is_loading = js_urls.length;\n",
       "      for (var i = 0; i < js_urls.length; i++) {\n",
       "        var url = js_urls[i];\n",
       "        var s = document.createElement('script');\n",
       "        s.src = url;\n",
       "        s.async = false;\n",
       "        s.onreadystatechange = s.onload = function() {\n",
       "          window._bokeh_is_loading--;\n",
       "          if (window._bokeh_is_loading === 0) {\n",
       "            console.log(\"Bokeh: all BokehJS libraries loaded\");\n",
       "            run_callbacks()\n",
       "          }\n",
       "        };\n",
       "        s.onerror = function() {\n",
       "          console.warn(\"failed to load library \" + url);\n",
       "        };\n",
       "        console.log(\"Bokeh: injecting script tag for BokehJS library: \", url);\n",
       "        document.getElementsByTagName(\"head\")[0].appendChild(s);\n",
       "      }\n",
       "    };var element = document.getElementById(\"75e3ff7c-b99a-42ea-815b-f4d3cd924103\");\n",
       "    if (element == null) {\n",
       "      console.log(\"Bokeh: ERROR: autoload.js configured with elementid '75e3ff7c-b99a-42ea-815b-f4d3cd924103' but no matching script tag was found. \")\n",
       "      return false;\n",
       "    }\n",
       "  \n",
       "    var js_urls = [];\n",
       "  \n",
       "    var inline_js = [\n",
       "      function(Bokeh) {\n",
       "        (function() {\n",
       "          var fn = function() {\n",
       "            var docs_json = {\"942de88e-58fe-4311-ac26-fef9622cc595\":{\"roots\":{\"references\":[{\"attributes\":{\"below\":[{\"id\":\"cb535cd2-aa60-438e-b04b-86b6d1ac85eb\",\"type\":\"LinearAxis\"}],\"css_classes\":null,\"height\":400,\"left\":[{\"id\":\"24e129b2-dce3-4c06-b0af-b88f89ffaa0d\",\"type\":\"LinearAxis\"}],\"renderers\":[{\"id\":\"92ad842d-c7ca-4742-a8e1-5020671a2d52\",\"type\":\"BoxAnnotation\"},{\"id\":\"ef41a31c-387f-41db-8e47-abc01715a9f8\",\"type\":\"GlyphRenderer\"},{\"id\":\"b2f75e98-4109-4ab1-b6ea-fca633f7156e\",\"type\":\"Legend\"},{\"id\":\"cb535cd2-aa60-438e-b04b-86b6d1ac85eb\",\"type\":\"LinearAxis\"},{\"id\":\"24e129b2-dce3-4c06-b0af-b88f89ffaa0d\",\"type\":\"LinearAxis\"},{\"id\":\"0af76023-307d-4171-ba45-3a438fc3d548\",\"type\":\"Grid\"},{\"id\":\"3c8338cf-6545-4168-8a55-7ac9f9cf27f9\",\"type\":\"Grid\"}],\"title\":{\"id\":\"441f69f2-ba11-48ff-aa27-c886e6c8b7f7\",\"type\":\"Title\"},\"tool_events\":{\"id\":\"6baf3c6f-1a75-4a28-83c2-e5afb0a32836\",\"type\":\"ToolEvents\"},\"toolbar\":{\"id\":\"c7350a89-dd4a-4608-abda-686685cd51f8\",\"type\":\"Toolbar\"},\"width\":750,\"x_mapper_type\":\"auto\",\"x_range\":{\"id\":\"df04c159-8702-4146-a375-4ad868752392\",\"type\":\"Range1d\"},\"y_mapper_type\":\"auto\",\"y_range\":{\"id\":\"ada45c9e-ec51-4ffd-8e57-bdcc6d8d3c12\",\"type\":\"Range1d\"}},\"id\":\"7b83bbd9-f124-4933-9c05-f1e851a6595d\",\"subtype\":\"Chart\",\"type\":\"Plot\"},{\"attributes\":{\"bottom_units\":\"screen\",\"fill_alpha\":{\"value\":0.5},\"fill_color\":{\"value\":\"lightgrey\"},\"left_units\":\"screen\",\"level\":\"overlay\",\"line_alpha\":{\"value\":1.0},\"line_color\":{\"value\":\"black\"},\"line_dash\":[4,4],\"line_width\":{\"value\":2},\"plot\":null,\"render_mode\":\"css\",\"right_units\":\"screen\",\"top_units\":\"screen\"},\"id\":\"92ad842d-c7ca-4742-a8e1-5020671a2d52\",\"type\":\"BoxAnnotation\"},{\"attributes\":{},\"id\":\"a978594f-2ba6-4f17-947a-19f9a6c8106c\",\"type\":\"BasicTickFormatter\"},{\"attributes\":{\"plot\":{\"id\":\"7b83bbd9-f124-4933-9c05-f1e851a6595d\",\"subtype\":\"Chart\",\"type\":\"Plot\"}},\"id\":\"0f5c3435-4931-424a-b9f2-3f34d6037729\",\"type\":\"PanTool\"},{\"attributes\":{\"location\":\"top_left\",\"plot\":{\"id\":\"7b83bbd9-f124-4933-9c05-f1e851a6595d\",\"subtype\":\"Chart\",\"type\":\"Plot\"}},\"id\":\"b2f75e98-4109-4ab1-b6ea-fca633f7156e\",\"type\":\"Legend\"},{\"attributes\":{\"plot\":{\"id\":\"7b83bbd9-f124-4933-9c05-f1e851a6595d\",\"subtype\":\"Chart\",\"type\":\"Plot\"}},\"id\":\"b4cc177c-634e-4020-870a-d7ecc8f4a176\",\"type\":\"WheelZoomTool\"},{\"attributes\":{\"overlay\":{\"id\":\"92ad842d-c7ca-4742-a8e1-5020671a2d52\",\"type\":\"BoxAnnotation\"},\"plot\":{\"id\":\"7b83bbd9-f124-4933-9c05-f1e851a6595d\",\"subtype\":\"Chart\",\"type\":\"Plot\"}},\"id\":\"9dcce690-ca2d-4d11-ba8a-a8c13b0be8a1\",\"type\":\"BoxZoomTool\"},{\"attributes\":{\"plot\":{\"id\":\"7b83bbd9-f124-4933-9c05-f1e851a6595d\",\"subtype\":\"Chart\",\"type\":\"Plot\"}},\"id\":\"f8e07be6-8c34-41b2-9a9e-f79ab932a385\",\"type\":\"SaveTool\"},{\"attributes\":{\"plot\":{\"id\":\"7b83bbd9-f124-4933-9c05-f1e851a6595d\",\"subtype\":\"Chart\",\"type\":\"Plot\"}},\"id\":\"b600f01f-fbba-4624-8044-a56aac0ca537\",\"type\":\"ResetTool\"},{\"attributes\":{\"plot\":{\"id\":\"7b83bbd9-f124-4933-9c05-f1e851a6595d\",\"subtype\":\"Chart\",\"type\":\"Plot\"}},\"id\":\"ed44cf8c-f00f-42dc-b921-4c44df1cd077\",\"type\":\"HelpTool\"},{\"attributes\":{\"callback\":null,\"column_names\":[\"x_values\",\"y_values\"],\"data\":{\"chart_index\":[null,null,null,null,null,null,null,null,null,null,null,null,null,null,null,null,null,null,null,null,null,null,null,null,null,null,null,null,null,null,null,null,null,null,null,null,null,null,null,null,null,null,null,null,null,null,null,null,null,null,null,null,null,null,null,null,null,null,null,null,null,null,null,null,null,null,null,null,null,null,null,null,null,null,null,null,null,null,null,null,null,null,null,null,null,null,null,null,null,null,null,null,null,null,null,null,null,null,null,null,null,null,null,null,null,null,null,null,null,null,null,null,null,null,null,null,null,null,null,null,null,null,null,null,null,null,null,null,null,null,null,null,null,null,null,null,null,null,null,null,null,null,null,null,null,null,null,null,null,null,null,null,null,null,null,null,null,null,null,null,null,null,null,null,null,null,null,null,null,null,null,null,null,null,null,null,null,null,null,null,null,null,null,null,null,null,null,null,null,null,null,null,null,null,null,null,null,null,null,null,null,null,null,null,null,null,null,null,null,null,null,null,null,null,null,null,null,null,null,null,null,null,null,null,null,null,null,null,null,null,null,null,null,null,null,null,null,null,null,null,null,null,null,null,null,null,null,null,null,null,null,null,null,null,null,null,null,null,null,null,null,null,null,null,null,null,null,null,null,null,null,null,null,null,null,null,null,null,null,null,null,null,null,null,null,null,null,null,null,null,null,null,null,null,null,null,null,null,null,null,null,null,null,null,null,null,null,null,null,null,null,null,null,null,null,null,null,null,null,null,null,null,null,null,null,null,null,null,null,null,null,null,null,null,null,null,null,null,null,null,null,null,null,null,null,null,null,null,null,null,null,null,null,null,null,null,null,null,null,null,null,null,null,null,null,null,null,null,null,null,null,null,null,null,null,null,null,null,null,null,null,null,null,null,null,null,null,null,null,null,null,null,null,null,null,null,null,null,null,null,null,null,null,null,null,null,null,null,null,null,null,null,null,null,null,null,null,null,null,null,null,null,null,null,null,null,null,null,null,null,null,null,null,null,null,null,null,null,null,null,null,null,null,null,null,null,null,null,null,null,null,null,null,null,null,null,null,null,null,null,null,null,null,null,null,null,null,null,null,null,null,null,null,null,null,null,null,null,null,null,null,null,null,null,null,null,null,null,null,null,null,null,null,null,null,null,null,null,null,null],\"x_values\":{\"__ndarray__\":\"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\",\"dtype\":\"float64\",\"shape\":[500]},\"y_values\":{\"__ndarray__\":\"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\",\"dtype\":\"float64\",\"shape\":[500]}}},\"id\":\"a9ec61b9-a987-4de6-b620-f5d03f387259\",\"type\":\"ColumnDataSource\"},{\"attributes\":{\"data_source\":{\"id\":\"a9ec61b9-a987-4de6-b620-f5d03f387259\",\"type\":\"ColumnDataSource\"},\"glyph\":{\"id\":\"ba057ff9-2aa4-45da-bcf2-3acc259d8dc5\",\"type\":\"Line\"},\"hover_glyph\":null,\"nonselection_glyph\":null,\"selection_glyph\":null},\"id\":\"ef41a31c-387f-41db-8e47-abc01715a9f8\",\"type\":\"GlyphRenderer\"},{\"attributes\":{\"callback\":null,\"end\":11.98005878565538,\"start\":-11.935570201024728},\"id\":\"df04c159-8702-4146-a375-4ad868752392\",\"type\":\"Range1d\"},{\"attributes\":{\"line_color\":{\"value\":\"#f22c40\"},\"line_width\":{\"value\":2},\"x\":{\"field\":\"x_values\"},\"y\":{\"field\":\"y_values\"}},\"id\":\"ba057ff9-2aa4-45da-bcf2-3acc259d8dc5\",\"type\":\"Line\"},{\"attributes\":{\"callback\":null,\"end\":360.0495041013358,\"start\":-25.041977786863974},\"id\":\"ada45c9e-ec51-4ffd-8e57-bdcc6d8d3c12\",\"type\":\"Range1d\"},{\"attributes\":{},\"id\":\"6baf3c6f-1a75-4a28-83c2-e5afb0a32836\",\"type\":\"ToolEvents\"},{\"attributes\":{\"axis_label\":\"y\",\"formatter\":{\"id\":\"a978594f-2ba6-4f17-947a-19f9a6c8106c\",\"type\":\"BasicTickFormatter\"},\"plot\":{\"id\":\"7b83bbd9-f124-4933-9c05-f1e851a6595d\",\"subtype\":\"Chart\",\"type\":\"Plot\"},\"ticker\":{\"id\":\"85f01325-dab6-4824-93b2-c1f4628c1c07\",\"type\":\"BasicTicker\"}},\"id\":\"24e129b2-dce3-4c06-b0af-b88f89ffaa0d\",\"type\":\"LinearAxis\"},{\"attributes\":{\"plot\":null,\"text\":null},\"id\":\"441f69f2-ba11-48ff-aa27-c886e6c8b7f7\",\"type\":\"Title\"},{\"attributes\":{},\"id\":\"3e5ce373-7745-44c8-bba0-783fbe2cb8d6\",\"type\":\"BasicTicker\"},{\"attributes\":{\"active_drag\":\"auto\",\"active_scroll\":\"auto\",\"active_tap\":\"auto\",\"tools\":[{\"id\":\"0f5c3435-4931-424a-b9f2-3f34d6037729\",\"type\":\"PanTool\"},{\"id\":\"b4cc177c-634e-4020-870a-d7ecc8f4a176\",\"type\":\"WheelZoomTool\"},{\"id\":\"9dcce690-ca2d-4d11-ba8a-a8c13b0be8a1\",\"type\":\"BoxZoomTool\"},{\"id\":\"f8e07be6-8c34-41b2-9a9e-f79ab932a385\",\"type\":\"SaveTool\"},{\"id\":\"b600f01f-fbba-4624-8044-a56aac0ca537\",\"type\":\"ResetTool\"},{\"id\":\"ed44cf8c-f00f-42dc-b921-4c44df1cd077\",\"type\":\"HelpTool\"}]},\"id\":\"c7350a89-dd4a-4608-abda-686685cd51f8\",\"type\":\"Toolbar\"},{\"attributes\":{\"axis_label\":\"x\",\"formatter\":{\"id\":\"1f666877-ecdb-4d2b-b9f8-dad2d6a0eea3\",\"type\":\"BasicTickFormatter\"},\"plot\":{\"id\":\"7b83bbd9-f124-4933-9c05-f1e851a6595d\",\"subtype\":\"Chart\",\"type\":\"Plot\"},\"ticker\":{\"id\":\"3e5ce373-7745-44c8-bba0-783fbe2cb8d6\",\"type\":\"BasicTicker\"}},\"id\":\"cb535cd2-aa60-438e-b04b-86b6d1ac85eb\",\"type\":\"LinearAxis\"},{\"attributes\":{\"plot\":{\"id\":\"7b83bbd9-f124-4933-9c05-f1e851a6595d\",\"subtype\":\"Chart\",\"type\":\"Plot\"},\"ticker\":{\"id\":\"3e5ce373-7745-44c8-bba0-783fbe2cb8d6\",\"type\":\"BasicTicker\"}},\"id\":\"0af76023-307d-4171-ba45-3a438fc3d548\",\"type\":\"Grid\"},{\"attributes\":{},\"id\":\"85f01325-dab6-4824-93b2-c1f4628c1c07\",\"type\":\"BasicTicker\"},{\"attributes\":{\"dimension\":1,\"plot\":{\"id\":\"7b83bbd9-f124-4933-9c05-f1e851a6595d\",\"subtype\":\"Chart\",\"type\":\"Plot\"},\"ticker\":{\"id\":\"85f01325-dab6-4824-93b2-c1f4628c1c07\",\"type\":\"BasicTicker\"}},\"id\":\"3c8338cf-6545-4168-8a55-7ac9f9cf27f9\",\"type\":\"Grid\"},{\"attributes\":{},\"id\":\"1f666877-ecdb-4d2b-b9f8-dad2d6a0eea3\",\"type\":\"BasicTickFormatter\"}],\"root_ids\":[\"7b83bbd9-f124-4933-9c05-f1e851a6595d\"]},\"title\":\"Bokeh Application\",\"version\":\"0.12.4\"}};\n",
       "            var render_items = [{\"docid\":\"942de88e-58fe-4311-ac26-fef9622cc595\",\"elementid\":\"75e3ff7c-b99a-42ea-815b-f4d3cd924103\",\"modelid\":\"7b83bbd9-f124-4933-9c05-f1e851a6595d\"}];\n",
       "            \n",
       "            Bokeh.embed.embed_items(docs_json, render_items);\n",
       "          };\n",
       "          if (document.readyState != \"loading\") fn();\n",
       "          else document.addEventListener(\"DOMContentLoaded\", fn);\n",
       "        })();\n",
       "      },\n",
       "      function(Bokeh) {\n",
       "      }\n",
       "    ];\n",
       "  \n",
       "    function run_inline_js() {\n",
       "      \n",
       "      if ((window.Bokeh !== undefined) || (force === true)) {\n",
       "        for (var i = 0; i < inline_js.length; i++) {\n",
       "          inline_js[i](window.Bokeh);\n",
       "        }if (force === true) {\n",
       "          display_loaded();\n",
       "        }} else if (Date.now() < window._bokeh_timeout) {\n",
       "        setTimeout(run_inline_js, 100);\n",
       "      } else if (!window._bokeh_failed_load) {\n",
       "        console.log(\"Bokeh: BokehJS failed to load within specified timeout.\");\n",
       "        window._bokeh_failed_load = true;\n",
       "      } else if (force !== true) {\n",
       "        var cell = $(document.getElementById(\"75e3ff7c-b99a-42ea-815b-f4d3cd924103\")).parents('.cell').data().cell;\n",
       "        cell.output_area.append_execute_result(NB_LOAD_WARNING)\n",
       "      }\n",
       "  \n",
       "    }\n",
       "  \n",
       "    if (window._bokeh_is_loading === 0) {\n",
       "      console.log(\"Bokeh: BokehJS loaded, going straight to plotting\");\n",
       "      run_inline_js();\n",
       "    } else {\n",
       "      load_libs(js_urls, function() {\n",
       "        console.log(\"Bokeh: BokehJS plotting callback run at\", now());\n",
       "        run_inline_js();\n",
       "      });\n",
       "    }\n",
       "  }(this));\n",
       "</script>"
      ]
     },
     "metadata": {},
     "output_type": "display_data"
    }
   ],
   "source": [
    "y_hat = [beta[0]*xi**2 + beta[1]*xi + beta[2] for xi in x]\n",
    "show(Line({'x': x, 'y': y_hat}, x='x', y='y', width=750, height=400))"
   ]
  },
  {
   "cell_type": "markdown",
   "metadata": {
    "deletable": true,
    "editable": true,
    "slideshow": {
     "slide_type": "subslide"
    }
   },
   "source": [
    "#### So what's different about Crazy Uncle Eddie?"
   ]
  },
  {
   "cell_type": "markdown",
   "metadata": {
    "deletable": true,
    "editable": true,
    "slideshow": {
     "slide_type": "fragment"
    }
   },
   "source": [
    "Well, besides the obvious.\n",
    "\n",
    "![](images/crazy-uncle-eddie.jpg)"
   ]
  },
  {
   "cell_type": "markdown",
   "metadata": {
    "deletable": true,
    "editable": true,
    "slideshow": {
     "slide_type": "subslide"
    }
   },
   "source": [
    "While all three techniques produced the _same result_, Crazy Uncle Eddie's is interesting because it is more general than the others.\n",
    "\n",
    "Crazy Eddie can solve any quadratic optimization problem, of which Least Squares is _just one instance_."
   ]
  },
  {
   "cell_type": "markdown",
   "metadata": {
    "deletable": true,
    "editable": true,
    "slideshow": {
     "slide_type": "fragment"
    }
   },
   "source": [
    "If we change the structure of the problem slightly:\n",
    "\n",
    "* We probably can't solve it with `scikit-learn`\n",
    "* Grams and Gramps have to go back to their chalkboard\n",
    "* Crazy Eddie can update the inputs to his problem and reoptimize"
   ]
  },
  {
   "cell_type": "markdown",
   "metadata": {
    "deletable": true,
    "editable": true,
    "slideshow": {
     "slide_type": "slide"
    }
   },
   "source": [
    "## Application 1: Portfolio Optimization\n",
    "\n",
    "We have a big pot of money to allocate among different investments. Lucky us!"
   ]
  },
  {
   "cell_type": "markdown",
   "metadata": {
    "deletable": true,
    "editable": true,
    "slideshow": {
     "slide_type": "fragment"
    }
   },
   "source": [
    "Some investment returns are correlated. They go up and down together.\n",
    "\n",
    "Other returns are anticorrelated. They tend to do the opposite things."
   ]
  },
  {
   "cell_type": "markdown",
   "metadata": {
    "deletable": true,
    "editable": true,
    "slideshow": {
     "slide_type": "fragment"
    }
   },
   "source": [
    "How do we allocate our money to maximize our expected return, subject to our tolerance for risk?"
   ]
  },
  {
   "cell_type": "markdown",
   "metadata": {
    "deletable": true,
    "editable": true,
    "slideshow": {
     "slide_type": "subslide"
    }
   },
   "source": [
    "We'll use 100 months of [exchange rate data](http://www.federalreserve.gov/datadownload/Build.aspx?rel=H10) from the Fed, circa 2014.\n",
    "\n",
    "Since this talk isn't about data wrangling, I've already cleaned it up into the important pieces.\n",
    "\n",
    "* Expected monthly return data for each foreign currency\n",
    "* A covariance matrix for those investments"
   ]
  },
  {
   "cell_type": "markdown",
   "metadata": {
    "deletable": true,
    "editable": true,
    "slideshow": {
     "slide_type": "subslide"
    }
   },
   "source": [
    "### The Markowitz Porfolio Optimization Model\n",
    "\n",
    "#### Inputs:\n",
    "\n",
    "$$\\mu = \\text{vector of expected investment returns}$$\n",
    "\n",
    "$$\\Sigma = \\text{covariance matrix for returns}$$\n",
    "\n",
    "$$\\alpha = \\text{unitless measure of risk aversion}$$"
   ]
  },
  {
   "cell_type": "markdown",
   "metadata": {
    "deletable": true,
    "editable": true,
    "slideshow": {
     "slide_type": "fragment"
    }
   },
   "source": [
    "#### Model:\n",
    "\n",
    "$x$ tells me how much of my total budget to put in each investment.\n",
    "\n",
    "$$\n",
    "\\begin{align}\n",
    "    \\text{max}  \\ \\ \\ & \\ \\mu'x - \\alpha x \\Sigma x \\\\\n",
    "    \\text{s.t.} \\ \\ \\ & \\ e'x = 1 \\\\\n",
    "                      & \\ x \\ge 0\n",
    "\\end{align}\n",
    "$$"
   ]
  },
  {
   "cell_type": "markdown",
   "metadata": {
    "deletable": true,
    "editable": true,
    "slideshow": {
     "slide_type": "fragment"
    }
   },
   "source": [
    "But wait! This is a _maximization_ problem! The last model used $\\text{min}$.\n",
    "\n",
    "$$\n",
    "\\begin{align}\n",
    "    \\text{min}  \\ \\ \\ & \\ \\alpha x \\Sigma x - \\mu'x \\\\\n",
    "    \\text{s.t.} \\ \\ \\ & \\ e'x = 1 \\\\\n",
    "                      & \\ x \\ge 0\n",
    "\\end{align}\n",
    "$$"
   ]
  },
  {
   "cell_type": "markdown",
   "metadata": {
    "deletable": true,
    "editable": true,
    "slideshow": {
     "slide_type": "subslide"
    }
   },
   "source": [
    "The only differences between this model and the least squares model are the constraints we've added.\n",
    "\n",
    "This one forces the model to allocate all of my budget into investments:\n",
    "\n",
    "$$e'x = 1$$\n",
    "\n",
    "This one disallows the model from making negative investments:\n",
    "\n",
    "$$x \\ge 0$$"
   ]
  },
  {
   "cell_type": "code",
   "execution_count": 9,
   "metadata": {
    "collapsed": false,
    "deletable": true,
    "editable": true,
    "slideshow": {
     "slide_type": "subslide"
    }
   },
   "outputs": [
    {
     "data": {
      "text/html": [
       "<div>\n",
       "<table border=\"1\" class=\"dataframe\">\n",
       "  <thead>\n",
       "    <tr style=\"text-align: right;\">\n",
       "      <th></th>\n",
       "      <th>Unnamed: 0</th>\n",
       "      <th>mean</th>\n",
       "      <th>variance</th>\n",
       "    </tr>\n",
       "  </thead>\n",
       "  <tbody>\n",
       "    <tr>\n",
       "      <th>0</th>\n",
       "      <td>RXI$US_N.M.AL</td>\n",
       "      <td>0.152151</td>\n",
       "      <td>10.996718</td>\n",
       "    </tr>\n",
       "    <tr>\n",
       "      <th>1</th>\n",
       "      <td>RXI$US_N.M.EU</td>\n",
       "      <td>0.002683</td>\n",
       "      <td>5.928188</td>\n",
       "    </tr>\n",
       "    <tr>\n",
       "      <th>2</th>\n",
       "      <td>RXI$US_N.M.NZ</td>\n",
       "      <td>0.220217</td>\n",
       "      <td>9.690793</td>\n",
       "    </tr>\n",
       "    <tr>\n",
       "      <th>3</th>\n",
       "      <td>RXI$US_N.M.UK</td>\n",
       "      <td>-0.159779</td>\n",
       "      <td>5.098969</td>\n",
       "    </tr>\n",
       "    <tr>\n",
       "      <th>4</th>\n",
       "      <td>RXI_N.M.BZ</td>\n",
       "      <td>-0.128507</td>\n",
       "      <td>12.743632</td>\n",
       "    </tr>\n",
       "  </tbody>\n",
       "</table>\n",
       "</div>"
      ],
      "text/plain": [
       "      Unnamed: 0      mean   variance\n",
       "0  RXI$US_N.M.AL  0.152151  10.996718\n",
       "1  RXI$US_N.M.EU  0.002683   5.928188\n",
       "2  RXI$US_N.M.NZ  0.220217   9.690793\n",
       "3  RXI$US_N.M.UK -0.159779   5.098969\n",
       "4     RXI_N.M.BZ -0.128507  12.743632"
      ]
     },
     "execution_count": 9,
     "metadata": {},
     "output_type": "execute_result"
    }
   ],
   "source": [
    "# Read in the returns and covariance data.\n",
    "import pandas as pd\n",
    "exp_returns = pd.read_csv('portfolio-optimization/currency-returns.csv')\n",
    "exp_returns.head()"
   ]
  },
  {
   "cell_type": "code",
   "execution_count": 10,
   "metadata": {
    "collapsed": false,
    "deletable": true,
    "editable": true,
    "slideshow": {
     "slide_type": "subslide"
    }
   },
   "outputs": [
    {
     "data": {
      "text/html": [
       "<div>\n",
       "<table border=\"1\" class=\"dataframe\">\n",
       "  <thead>\n",
       "    <tr style=\"text-align: right;\">\n",
       "      <th></th>\n",
       "      <th>0</th>\n",
       "      <th>1</th>\n",
       "      <th>2</th>\n",
       "      <th>3</th>\n",
       "      <th>4</th>\n",
       "      <th>5</th>\n",
       "      <th>6</th>\n",
       "      <th>7</th>\n",
       "      <th>8</th>\n",
       "      <th>9</th>\n",
       "      <th>...</th>\n",
       "      <th>13</th>\n",
       "      <th>14</th>\n",
       "      <th>15</th>\n",
       "      <th>16</th>\n",
       "      <th>17</th>\n",
       "      <th>18</th>\n",
       "      <th>19</th>\n",
       "      <th>20</th>\n",
       "      <th>21</th>\n",
       "      <th>22</th>\n",
       "    </tr>\n",
       "  </thead>\n",
       "  <tbody>\n",
       "    <tr>\n",
       "      <th>0</th>\n",
       "      <td>10.996718</td>\n",
       "      <td>5.181782</td>\n",
       "      <td>8.654762</td>\n",
       "      <td>4.457704</td>\n",
       "      <td>9.789818</td>\n",
       "      <td>5.421746</td>\n",
       "      <td>0.194428</td>\n",
       "      <td>5.166875</td>\n",
       "      <td>0.028496</td>\n",
       "      <td>4.379632</td>\n",
       "      <td>...</td>\n",
       "      <td>6.494732</td>\n",
       "      <td>7.078498</td>\n",
       "      <td>7.083824</td>\n",
       "      <td>8.574515</td>\n",
       "      <td>3.287411</td>\n",
       "      <td>0.343673</td>\n",
       "      <td>4.163674</td>\n",
       "      <td>2.450772</td>\n",
       "      <td>2.381722</td>\n",
       "      <td>0.542450</td>\n",
       "    </tr>\n",
       "    <tr>\n",
       "      <th>1</th>\n",
       "      <td>5.181782</td>\n",
       "      <td>5.928188</td>\n",
       "      <td>4.487890</td>\n",
       "      <td>3.659548</td>\n",
       "      <td>4.686754</td>\n",
       "      <td>2.467804</td>\n",
       "      <td>0.313081</td>\n",
       "      <td>5.867674</td>\n",
       "      <td>0.038117</td>\n",
       "      <td>2.545200</td>\n",
       "      <td>...</td>\n",
       "      <td>2.894461</td>\n",
       "      <td>5.350733</td>\n",
       "      <td>5.515164</td>\n",
       "      <td>4.314480</td>\n",
       "      <td>2.265781</td>\n",
       "      <td>0.418269</td>\n",
       "      <td>5.173168</td>\n",
       "      <td>1.559857</td>\n",
       "      <td>1.351946</td>\n",
       "      <td>1.776855</td>\n",
       "    </tr>\n",
       "    <tr>\n",
       "      <th>2</th>\n",
       "      <td>8.654762</td>\n",
       "      <td>4.487890</td>\n",
       "      <td>9.690793</td>\n",
       "      <td>4.330531</td>\n",
       "      <td>8.130412</td>\n",
       "      <td>4.268307</td>\n",
       "      <td>0.129303</td>\n",
       "      <td>4.466514</td>\n",
       "      <td>0.017975</td>\n",
       "      <td>3.919170</td>\n",
       "      <td>...</td>\n",
       "      <td>5.536301</td>\n",
       "      <td>5.602586</td>\n",
       "      <td>6.054567</td>\n",
       "      <td>6.733828</td>\n",
       "      <td>2.811946</td>\n",
       "      <td>0.451742</td>\n",
       "      <td>3.903260</td>\n",
       "      <td>2.135899</td>\n",
       "      <td>2.569281</td>\n",
       "      <td>0.379954</td>\n",
       "    </tr>\n",
       "    <tr>\n",
       "      <th>3</th>\n",
       "      <td>4.457704</td>\n",
       "      <td>3.659548</td>\n",
       "      <td>4.330531</td>\n",
       "      <td>5.098969</td>\n",
       "      <td>4.301933</td>\n",
       "      <td>2.573100</td>\n",
       "      <td>0.137068</td>\n",
       "      <td>3.632088</td>\n",
       "      <td>0.012420</td>\n",
       "      <td>1.821456</td>\n",
       "      <td>...</td>\n",
       "      <td>2.775715</td>\n",
       "      <td>4.081803</td>\n",
       "      <td>4.233658</td>\n",
       "      <td>3.749874</td>\n",
       "      <td>1.780620</td>\n",
       "      <td>0.326828</td>\n",
       "      <td>3.335175</td>\n",
       "      <td>1.356927</td>\n",
       "      <td>1.014109</td>\n",
       "      <td>1.584577</td>\n",
       "    </tr>\n",
       "    <tr>\n",
       "      <th>4</th>\n",
       "      <td>9.789818</td>\n",
       "      <td>4.686754</td>\n",
       "      <td>8.130412</td>\n",
       "      <td>4.301933</td>\n",
       "      <td>12.743632</td>\n",
       "      <td>5.433992</td>\n",
       "      <td>0.279201</td>\n",
       "      <td>4.689891</td>\n",
       "      <td>-0.034405</td>\n",
       "      <td>5.567318</td>\n",
       "      <td>...</td>\n",
       "      <td>7.177333</td>\n",
       "      <td>7.288341</td>\n",
       "      <td>6.774689</td>\n",
       "      <td>8.761299</td>\n",
       "      <td>2.999360</td>\n",
       "      <td>0.843294</td>\n",
       "      <td>4.269524</td>\n",
       "      <td>2.163251</td>\n",
       "      <td>2.439204</td>\n",
       "      <td>0.496304</td>\n",
       "    </tr>\n",
       "  </tbody>\n",
       "</table>\n",
       "<p>5 rows × 23 columns</p>\n",
       "</div>"
      ],
      "text/plain": [
       "          0         1         2         3          4         5         6   \\\n",
       "0  10.996718  5.181782  8.654762  4.457704   9.789818  5.421746  0.194428   \n",
       "1   5.181782  5.928188  4.487890  3.659548   4.686754  2.467804  0.313081   \n",
       "2   8.654762  4.487890  9.690793  4.330531   8.130412  4.268307  0.129303   \n",
       "3   4.457704  3.659548  4.330531  5.098969   4.301933  2.573100  0.137068   \n",
       "4   9.789818  4.686754  8.130412  4.301933  12.743632  5.433992  0.279201   \n",
       "\n",
       "         7         8         9     ...           13        14        15  \\\n",
       "0  5.166875  0.028496  4.379632    ...     6.494732  7.078498  7.083824   \n",
       "1  5.867674  0.038117  2.545200    ...     2.894461  5.350733  5.515164   \n",
       "2  4.466514  0.017975  3.919170    ...     5.536301  5.602586  6.054567   \n",
       "3  3.632088  0.012420  1.821456    ...     2.775715  4.081803  4.233658   \n",
       "4  4.689891 -0.034405  5.567318    ...     7.177333  7.288341  6.774689   \n",
       "\n",
       "         16        17        18        19        20        21        22  \n",
       "0  8.574515  3.287411  0.343673  4.163674  2.450772  2.381722  0.542450  \n",
       "1  4.314480  2.265781  0.418269  5.173168  1.559857  1.351946  1.776855  \n",
       "2  6.733828  2.811946  0.451742  3.903260  2.135899  2.569281  0.379954  \n",
       "3  3.749874  1.780620  0.326828  3.335175  1.356927  1.014109  1.584577  \n",
       "4  8.761299  2.999360  0.843294  4.269524  2.163251  2.439204  0.496304  \n",
       "\n",
       "[5 rows x 23 columns]"
      ]
     },
     "execution_count": 10,
     "metadata": {},
     "output_type": "execute_result"
    }
   ],
   "source": [
    "returns_cov = pd.read_csv('portfolio-optimization/currency-covariance.csv', header=None)\n",
    "returns_cov.head()"
   ]
  },
  {
   "cell_type": "code",
   "execution_count": 11,
   "metadata": {
    "collapsed": false,
    "deletable": true,
    "editable": true,
    "slideshow": {
     "slide_type": "subslide"
    }
   },
   "outputs": [],
   "source": [
    "# A model that will return an optimal portfolio for any risk aversion.\n",
    "def portfolio(alpha):\n",
    "    P = cvx.matrix(alpha * returns_cov.as_matrix())\n",
    "    q = cvx.matrix(-exp_returns['mean'].as_matrix())\n",
    "    G = cvx.matrix(0.0, (len(q),len(q)))\n",
    "    G[::len(q)+1] = -1.0\n",
    "    h = cvx.matrix(0.0, (len(q),1))\n",
    "    A = cvx.matrix(1.0, (1,len(q)))\n",
    "    b = cvx.matrix(1.0)\n",
    "\n",
    "    solution = cvx.solvers.qp(P, q, G, h, A, b)\n",
    "    return exp_returns['mean'].dot(solution['x'])[0]"
   ]
  },
  {
   "cell_type": "code",
   "execution_count": 12,
   "metadata": {
    "collapsed": false,
    "deletable": true,
    "editable": true,
    "slideshow": {
     "slide_type": "subslide"
    }
   },
   "outputs": [
    {
     "name": "stdout",
     "output_type": "stream",
     "text": [
      "     pcost       dcost       gap    pres   dres\n",
      " 0: -1.4109e+00 -1.2870e+00  6e+01  9e+00  5e+00\n",
      " 1: -1.8207e-02 -1.2285e+00  1e+00  5e-15  8e-16\n",
      " 2: -6.2411e-02 -2.9637e-01  2e-01  7e-16  7e-16\n",
      " 3: -1.4238e-01 -3.5309e-01  2e-01  8e-16  5e-16\n",
      " 4: -2.8201e-01 -2.9496e-01  1e-02  4e-16  5e-16\n",
      " 5: -2.8688e-01 -2.8703e-01  2e-04  1e-16  3e-16\n",
      " 6: -2.8695e-01 -2.8695e-01  2e-06  3e-16  2e-16\n",
      " 7: -2.8695e-01 -2.8695e-01  2e-08  1e-16  5e-16\n",
      "Optimal solution found.\n",
      "     pcost       dcost       gap    pres   dres\n",
      " 0: -2.6295e-01 -1.3019e+00  4e+01  5e+00  6e+00\n",
      " 1: -3.1048e-02 -1.0159e+00  2e+00  2e-01  2e-01\n",
      " 2:  3.3465e-02 -3.1889e-01  5e-01  3e-02  3e-02\n",
      " 3: -1.3476e-01 -2.5385e-01  1e-01  2e-17  7e-16\n",
      " 4: -1.9154e-01 -2.0318e-01  1e-02  2e-16  6e-16\n",
      " 5: -2.0001e-01 -2.0086e-01  9e-04  2e-16  4e-16\n",
      " 6: -2.0070e-01 -2.0074e-01  4e-05  6e-17  5e-16\n",
      " 7: -2.0073e-01 -2.0073e-01  1e-06  2e-16  1e-15\n",
      " 8: -2.0073e-01 -2.0073e-01  1e-08  4e-16  5e-16\n",
      "Optimal solution found.\n",
      "     pcost       dcost       gap    pres   dres\n",
      " 0: -1.7310e-01 -1.2428e+00  4e+01  5e+00  6e+00\n",
      " 1: -4.7542e-03 -9.2263e-01  2e+00  2e-01  2e-01\n",
      " 2:  3.8252e-02 -2.6797e-01  4e-01  3e-02  3e-02\n",
      " 3: -9.4620e-02 -1.8481e-01  9e-02  1e-16  1e-15\n",
      " 4: -1.4057e-01 -1.5061e-01  1e-02  2e-16  7e-16\n",
      " 5: -1.4747e-01 -1.4833e-01  9e-04  2e-16  6e-16\n",
      " 6: -1.4822e-01 -1.4825e-01  3e-05  1e-16  4e-16\n",
      " 7: -1.4825e-01 -1.4825e-01  1e-06  2e-16  5e-16\n",
      " 8: -1.4825e-01 -1.4825e-01  2e-08  2e-16  4e-16\n",
      "Optimal solution found.\n",
      "     pcost       dcost       gap    pres   dres\n",
      " 0: -1.3049e-01 -1.1978e+00  4e+01  5e+00  6e+00\n",
      " 1:  1.0823e-02 -8.5585e-01  2e+00  2e-01  2e-01\n",
      " 2:  4.1508e-02 -2.1689e-01  4e-01  3e-02  3e-02\n",
      " 3: -6.4792e-02 -1.2939e-01  6e-02  2e-16  8e-16\n",
      " 4: -9.7828e-02 -1.0446e-01  7e-03  3e-16  9e-16\n",
      " 5: -1.0228e-01 -1.0300e-01  7e-04  2e-16  5e-16\n",
      " 6: -1.0293e-01 -1.0295e-01  2e-05  1e-16  4e-16\n",
      " 7: -1.0295e-01 -1.0295e-01  3e-07  1e-16  5e-16\n",
      " 8: -1.0295e-01 -1.0295e-01  3e-09  1e-16  3e-16\n",
      "Optimal solution found.\n",
      "     pcost       dcost       gap    pres   dres\n",
      " 0: -1.0337e-01 -1.1595e+00  3e+01  5e+00  6e+00\n",
      " 1:  2.2165e-02 -8.0202e-01  2e+00  2e-01  2e-01\n",
      " 2:  4.3501e-02 -1.6970e-01  3e-01  2e-02  2e-02\n",
      " 3: -4.8964e-02 -9.2477e-02  4e-02  2e-16  1e-15\n",
      " 4: -7.3350e-02 -7.7843e-02  4e-03  5e-17  1e-15\n",
      " 5: -7.6465e-02 -7.6904e-02  4e-04  1e-16  6e-16\n",
      " 6: -7.6868e-02 -7.6878e-02  1e-05  3e-16  3e-16\n",
      " 7: -7.6877e-02 -7.6878e-02  1e-07  1e-16  5e-16\n",
      "Optimal solution found.\n",
      "     pcost       dcost       gap    pres   dres\n",
      " 0: -8.3552e-02 -1.1256e+00  3e+01  5e+00  6e+00\n",
      " 1:  3.1025e-02 -7.5646e-01  2e+00  2e-01  2e-01\n",
      " 2:  4.4428e-02 -1.3898e-01  3e-01  2e-02  2e-02\n",
      " 3: -3.7424e-02 -7.1497e-02  3e-02  7e-17  8e-16\n",
      " 4: -5.7093e-02 -6.0638e-02  4e-03  2e-16  7e-16\n",
      " 5: -5.9609e-02 -5.9920e-02  3e-04  4e-16  7e-16\n",
      " 6: -5.9898e-02 -5.9904e-02  5e-06  2e-16  7e-16\n",
      " 7: -5.9904e-02 -5.9904e-02  5e-08  2e-16  7e-16\n",
      "Optimal solution found.\n",
      "     pcost       dcost       gap    pres   dres\n",
      " 0: -6.7880e-02 -1.0982e+00  3e+01  5e+00  6e+00\n",
      " 1:  3.8514e-02 -7.1915e-01  2e+00  2e-01  2e-01\n",
      " 2:  4.4486e-02 -1.3048e-01  3e-01  2e-02  2e-02\n",
      " 3: -2.3873e-02 -6.0193e-02  4e-02  4e-04  5e-04\n",
      " 4: -4.4365e-02 -4.8338e-02  4e-03  2e-16  7e-16\n",
      " 5: -4.7131e-02 -4.7498e-02  4e-04  6e-17  7e-16\n",
      " 6: -4.7472e-02 -4.7478e-02  6e-06  3e-16  5e-16\n",
      " 7: -4.7478e-02 -4.7478e-02  6e-08  3e-16  4e-16\n",
      "Optimal solution found.\n",
      "     pcost       dcost       gap    pres   dres\n",
      " 0: -5.4871e-02 -1.0978e+00  3e+01  5e+00  6e+00\n",
      " 1:  4.6908e-02 -7.0310e-01  2e+00  2e-01  2e-01\n",
      " 2:  4.7530e-02 -1.2405e-01  3e-01  2e-02  2e-02\n",
      " 3: -1.4964e-02 -5.0020e-02  4e-02  2e-04  3e-04\n",
      " 4: -3.4679e-02 -3.8443e-02  4e-03  1e-16  7e-16\n",
      " 5: -3.7331e-02 -3.7669e-02  3e-04  2e-16  5e-16\n",
      " 6: -3.7646e-02 -3.7652e-02  5e-06  1e-16  4e-16\n",
      " 7: -3.7651e-02 -3.7651e-02  5e-08  1e-16  4e-16\n",
      "Optimal solution found.\n",
      "     pcost       dcost       gap    pres   dres\n",
      " 0: -4.3716e-02 -1.0974e+00  3e+01  5e+00  6e+00\n",
      " 1:  5.4196e-02 -6.8865e-01  2e+00  2e-01  2e-01\n",
      " 2:  5.0246e-02 -1.1735e-01  3e-01  2e-02  2e-02\n",
      " 3: -7.9683e-03 -4.1274e-02  3e-02  1e-17  1e-15\n",
      " 4: -2.6682e-02 -3.0144e-02  3e-03  1e-16  7e-16\n",
      " 5: -2.9169e-02 -2.9464e-02  3e-04  1e-16  9e-16\n",
      " 6: -2.9445e-02 -2.9449e-02  4e-06  2e-16  5e-16\n",
      " 7: -2.9449e-02 -2.9449e-02  4e-08  2e-16  5e-16\n",
      "Optimal solution found.\n",
      "     pcost       dcost       gap    pres   dres\n",
      " 0: -3.3930e-02 -1.0969e+00  4e+01  5e+00  6e+00\n",
      " 1:  6.0601e-02 -6.7563e-01  2e+00  2e-01  2e-01\n",
      " 2:  5.2718e-02 -1.1058e-01  3e-01  2e-02  2e-02\n",
      " 3: -1.7058e-03 -3.4171e-02  3e-02  1e-16  1e-15\n",
      " 4: -1.9669e-02 -2.2968e-02  3e-03  2e-16  1e-15\n",
      " 5: -2.2073e-02 -2.2343e-02  3e-04  1e-16  5e-16\n",
      " 6: -2.2327e-02 -2.2330e-02  4e-06  1e-16  4e-16\n",
      " 7: -2.2330e-02 -2.2330e-02  4e-08  1e-16  6e-16\n",
      "Optimal solution found.\n",
      "     pcost       dcost       gap    pres   dres\n",
      " 0: -2.5201e-02 -1.0963e+00  4e+01  5e+00  6e+00\n",
      " 1:  6.6299e-02 -6.6378e-01  2e+00  2e-01  2e-01\n",
      " 2:  5.5021e-02 -1.0386e-01  3e-01  2e-02  2e-02\n",
      " 3:  3.7272e-03 -2.7715e-02  3e-02  1e-16  1e-15\n",
      " 4: -1.3351e-02 -1.6585e-02  3e-03  1e-16  8e-16\n",
      " 5: -1.5724e-02 -1.5981e-02  3e-04  2e-16  7e-16\n",
      " 6: -1.5966e-02 -1.5969e-02  4e-06  3e-16  5e-16\n",
      " 7: -1.5969e-02 -1.5969e-02  4e-08  2e-16  4e-16\n",
      "Optimal solution found.\n",
      "     pcost       dcost       gap    pres   dres\n",
      " 0: -1.7311e-02 -1.0955e+00  4e+01  5e+00  6e+00\n",
      " 1:  7.1360e-02 -6.5307e-01  2e+00  1e-01  2e-01\n",
      " 2:  5.7368e-02 -9.7504e-02  3e-01  2e-02  2e-02\n",
      " 3:  8.8197e-03 -2.1891e-02  3e-02  2e-16  1e-15\n",
      " 4: -7.5622e-03 -1.0767e-02  3e-03  2e-16  8e-16\n",
      " 5: -9.9228e-03 -1.0171e-02  2e-04  3e-16  1e-15\n",
      " 6: -1.0156e-02 -1.0160e-02  4e-06  2e-16  1e-15\n",
      " 7: -1.0159e-02 -1.0159e-02  4e-08  2e-16  6e-16\n",
      "Optimal solution found.\n",
      "     pcost       dcost       gap    pres   dres\n",
      " 0: -1.0105e-02 -1.0946e+00  4e+01  5e+00  6e+00\n",
      " 1:  7.5884e-02 -6.4354e-01  2e+00  1e-01  2e-01\n",
      " 2:  5.9679e-02 -9.1465e-02  3e-01  2e-02  2e-02\n",
      " 3:  1.3652e-02 -1.6538e-02  3e-02  2e-16  1e-15\n",
      " 4: -2.1949e-03 -5.3577e-03  3e-03  1e-16  1e-15\n",
      " 5: -4.5359e-03 -4.7750e-03  2e-04  1e-16  1e-15\n",
      " 6: -4.7597e-03 -4.7633e-03  4e-06  8e-17  1e-15\n",
      " 7: -4.7632e-03 -4.7632e-03  4e-08  1e-16  7e-16\n",
      "Optimal solution found.\n",
      "     pcost       dcost       gap    pres   dres\n",
      " 0: -3.4681e-03 -1.0935e+00  4e+01  5e+00  6e+00\n",
      " 1:  8.0049e-02 -6.3465e-01  2e+00  1e-01  2e-01\n",
      " 2:  6.1857e-02 -8.5535e-02  3e-01  2e-02  2e-02\n",
      " 3:  1.8143e-02 -1.1436e-02  3e-02  3e-16  1e-15\n",
      " 4:  2.8321e-03 -2.5884e-04  3e-03  3e-16  6e-16\n",
      " 5:  5.3004e-04  3.0346e-04  2e-04  2e-16  6e-16\n",
      " 6:  3.1844e-04  3.1486e-04  4e-06  1e-16  8e-16\n",
      " 7:  3.1496e-04  3.1492e-04  4e-08  5e-17  5e-16\n",
      "Optimal solution found.\n",
      "     pcost       dcost       gap    pres   dres\n",
      " 0:  2.6898e-03 -1.0922e+00  4e+01  5e+00  6e+00\n",
      " 1:  8.3930e-02 -6.2618e-01  2e+00  1e-01  2e-01\n",
      " 2:  6.3951e-02 -7.9724e-02  2e-01  2e-02  2e-02\n",
      " 3:  2.2378e-02 -6.5347e-03  3e-02  2e-16  1e-15\n",
      " 4:  7.5962e-03  4.5940e-03  3e-03  2e-16  9e-16\n",
      " 5:  5.3448e-03  5.1321e-03  2e-04  2e-16  6e-16\n",
      " 6:  5.1467e-03  5.1431e-03  4e-06  2e-16  5e-16\n",
      " 7:  5.1432e-03  5.1432e-03  4e-08  1e-16  6e-16\n",
      "Optimal solution found.\n",
      "     pcost       dcost       gap    pres   dres\n",
      " 0:  8.4393e-03 -1.0909e+00  4e+01  5e+00  6e+00\n",
      " 1:  8.7571e-02 -6.1808e-01  2e+00  1e-01  2e-01\n",
      " 2:  6.5997e-02 -7.4045e-02  2e-01  2e-02  2e-02\n",
      " 3:  2.6417e-02 -1.7979e-03  3e-02  8e-17  9e-16\n",
      " 4:  1.2153e-02  9.2485e-03  3e-03  1e-16  1e-15\n",
      " 5:  9.9593e-03  9.7607e-03  2e-04  8e-17  6e-16\n",
      " 6:  9.7750e-03  9.7715e-03  4e-06  2e-16  5e-16\n",
      " 7:  9.7715e-03  9.7715e-03  4e-08  1e-16  7e-16\n",
      "Optimal solution found.\n",
      "     pcost       dcost       gap    pres   dres\n",
      " 0:  1.3837e-02 -1.0893e+00  4e+01  5e+00  6e+00\n",
      " 1:  9.1007e-02 -6.1030e-01  2e+00  1e-01  2e-01\n",
      " 2:  6.8019e-02 -6.8500e-02  2e-01  2e-02  2e-02\n",
      " 3:  3.0306e-02  2.8000e-03  3e-02  1e-16  1e-15\n",
      " 4:  1.6544e-02  1.3741e-02  3e-03  1e-16  9e-16\n",
      " 5:  1.4412e-02  1.4227e-02  2e-04  3e-18  6e-16\n",
      " 6:  1.4241e-02  1.4237e-02  4e-06  1e-16  5e-16\n",
      " 7:  1.4237e-02  1.4237e-02  4e-08  1e-16  5e-16\n",
      "Optimal solution found.\n",
      "     pcost       dcost       gap    pres   dres\n",
      " 0:  1.8930e-02 -1.0877e+00  4e+01  5e+00  6e+00\n",
      " 1:  9.4269e-02 -6.0282e-01  2e+00  1e-01  2e-01\n",
      " 2:  7.0033e-02 -6.3089e-02  2e-01  1e-02  2e-02\n",
      " 3:  3.4079e-02  7.2789e-03  3e-02  1e-16  6e-16\n",
      " 4:  2.0799e-02  1.8098e-02  3e-03  2e-16  9e-16\n",
      " 5:  1.8731e-02  1.8559e-02  2e-04  6e-17  1e-15\n",
      " 6:  1.8573e-02  1.8569e-02  4e-06  2e-16  6e-16\n",
      " 7:  1.8570e-02  1.8570e-02  4e-08  2e-16  6e-16\n",
      "Optimal solution found.\n",
      "     pcost       dcost       gap    pres   dres\n",
      " 0:  2.3755e-02 -1.0860e+00  4e+01  5e+00  6e+00\n",
      " 1:  9.7380e-02 -5.9561e-01  2e+00  1e-01  2e-01\n",
      " 2:  7.2051e-02 -5.7806e-02  2e-01  1e-02  2e-02\n",
      " 3:  3.7759e-02  1.1655e-02  3e-02  3e-16  1e-15\n",
      " 4:  2.4943e-02  2.2343e-02  3e-03  1e-16  1e-15\n",
      " 5:  2.2939e-02  2.2780e-02  2e-04  8e-17  7e-16\n",
      " 6:  2.2794e-02  2.2790e-02  4e-06  7e-17  5e-16\n",
      " 7:  2.2790e-02  2.2790e-02  4e-08  2e-16  1e-15\n",
      "Optimal solution found.\n",
      "     pcost       dcost       gap    pres   dres\n",
      " 0:  2.8347e-02 -1.0842e+00  4e+01  5e+00  6e+00\n",
      " 1:  1.0036e-01 -5.8864e-01  2e+00  1e-01  2e-01\n",
      " 2:  7.4080e-02 -5.2647e-02  2e-01  1e-02  2e-02\n",
      " 3:  4.1366e-02  1.5941e-02  3e-02  3e-16  2e-15\n",
      " 4:  2.8994e-02  2.6492e-02  3e-03  2e-16  8e-16\n",
      " 5:  2.7055e-02  2.6906e-02  1e-04  9e-17  1e-15\n",
      " 6:  2.6921e-02  2.6917e-02  4e-06  1e-16  9e-16\n",
      " 7:  2.6917e-02  2.6917e-02  4e-08  4e-18  8e-16\n",
      "Optimal solution found.\n",
      "     pcost       dcost       gap    pres   dres\n",
      " 0:  3.2731e-02 -1.0823e+00  4e+01  5e+00  6e+00\n",
      " 1:  1.0323e-01 -5.8189e-01  2e+00  1e-01  2e-01\n",
      " 2:  7.6124e-02 -4.7604e-02  2e-01  1e-02  2e-02\n",
      " 3:  4.4914e-02  2.0148e-02  2e-02  1e-16  2e-15\n",
      " 4:  3.2967e-02  3.0559e-02  2e-03  1e-16  1e-15\n",
      " 5:  3.1091e-02  3.0953e-02  1e-04  8e-17  1e-15\n",
      " 6:  3.0968e-02  3.0964e-02  4e-06  1e-16  6e-16\n",
      " 7:  3.0964e-02  3.0964e-02  5e-08  3e-16  6e-16\n",
      "Optimal solution found.\n",
      "     pcost       dcost       gap    pres   dres\n",
      " 0:  3.6932e-02 -1.0803e+00  4e+01  5e+00  6e+00\n",
      " 1:  1.0601e-01 -5.7535e-01  2e+00  1e-01  2e-01\n",
      " 2:  7.8188e-02 -4.2671e-02  2e-01  1e-02  2e-02\n",
      " 3:  4.8414e-02  2.4285e-02  2e-02  1e-16  1e-15\n",
      " 4:  3.6873e-02  3.4556e-02  2e-03  1e-16  1e-15\n",
      " 5:  3.5060e-02  3.4931e-02  1e-04  1e-16  9e-16\n",
      " 6:  3.4947e-02  3.4942e-02  5e-06  1e-16  7e-16\n",
      " 7:  3.4942e-02  3.4942e-02  7e-08  3e-16  2e-15\n",
      "Optimal solution found.\n",
      "     pcost       dcost       gap    pres   dres\n",
      " 0:  4.0970e-02 -1.0782e+00  4e+01  5e+00  6e+00\n",
      " 1:  1.0870e-01 -5.6899e-01  2e+00  1e-01  2e-01\n",
      " 2:  8.0272e-02 -3.7840e-02  2e-01  1e-02  2e-02\n",
      " 3:  5.1876e-02  2.8359e-02  2e-02  2e-16  2e-15\n",
      " 4:  4.0722e-02  3.8492e-02  2e-03  3e-16  1e-15\n",
      " 5:  3.8970e-02  3.8850e-02  1e-04  2e-16  1e-15\n",
      " 6:  3.8866e-02  3.8862e-02  5e-06  6e-17  7e-16\n",
      " 7:  3.8862e-02  3.8862e-02  1e-07  2e-16  5e-16\n",
      " 8:  3.8862e-02  3.8862e-02  1e-09  1e-16  7e-16\n",
      "Optimal solution found.\n",
      "     pcost       dcost       gap    pres   dres\n",
      " 0:  4.4862e-02 -1.0761e+00  4e+01  5e+00  6e+00\n",
      " 1:  1.1131e-01 -5.6281e-01  2e+00  1e-01  2e-01\n",
      " 2:  8.2437e-02 -3.3137e-02  2e-01  1e-02  2e-02\n",
      " 3:  5.5312e-02  3.2376e-02  2e-02  2e-16  2e-15\n",
      " 4:  4.4523e-02  4.2375e-02  2e-03  6e-17  1e-15\n",
      " 5:  4.2829e-02  4.2718e-02  1e-04  3e-17  1e-15\n",
      " 6:  4.2735e-02  4.2730e-02  5e-06  3e-17  1e-15\n",
      " 7:  4.2730e-02  4.2730e-02  2e-07  1e-16  8e-16\n",
      " 8:  4.2730e-02  4.2730e-02  2e-09  2e-16  8e-16\n",
      "Optimal solution found.\n",
      "     pcost       dcost       gap    pres   dres\n",
      " 0:  4.8622e-02 -1.0739e+00  4e+01  5e+00  6e+00\n",
      " 1:  1.1386e-01 -5.5678e-01  2e+00  1e-01  2e-01\n",
      " 2:  8.4714e-02 -2.8572e-02  2e-01  1e-02  2e-02\n",
      " 3:  5.8731e-02  3.6341e-02  2e-02  1e-16  2e-15\n",
      " 4:  4.8283e-02  4.6211e-02  2e-03  2e-16  1e-15\n",
      " 5:  4.6644e-02  4.6540e-02  1e-04  1e-17  1e-15\n",
      " 6:  4.6558e-02  4.6553e-02  5e-06  3e-17  1e-15\n",
      " 7:  4.6553e-02  4.6553e-02  3e-07  2e-16  8e-16\n",
      " 8:  4.6553e-02  4.6553e-02  3e-09  2e-16  7e-16\n",
      "Optimal solution found.\n",
      "     pcost       dcost       gap    pres   dres\n",
      " 0:  5.2265e-02 -1.0717e+00  4e+01  5e+00  6e+00\n",
      " 1:  1.1636e-01 -5.5091e-01  2e+00  1e-01  2e-01\n",
      " 2:  8.7006e-02 -2.4082e-02  2e-01  1e-02  2e-02\n",
      " 3:  6.2126e-02  4.0262e-02  2e-02  4e-16  2e-15\n",
      " 4:  5.2005e-02  5.0005e-02  2e-03  3e-16  2e-15\n",
      " 5:  5.0419e-02  5.0323e-02  1e-04  1e-16  1e-15\n",
      " 6:  5.0341e-02  5.0336e-02  5e-06  1e-16  9e-16\n",
      " 7:  5.0337e-02  5.0337e-02  4e-07  2e-16  8e-16\n",
      " 8:  5.0337e-02  5.0337e-02  1e-08  1e-16  1e-15\n",
      "Optimal solution found.\n",
      "     pcost       dcost       gap    pres   dres\n",
      " 0:  5.5803e-02 -1.0694e+00  4e+01  5e+00  6e+00\n",
      " 1:  1.1880e-01 -5.4517e-01  2e+00  1e-01  2e-01\n",
      " 2:  8.9312e-02 -1.9664e-02  2e-01  1e-02  2e-02\n",
      " 3:  6.5569e-02  4.4089e-02  2e-02  2e-16  2e-15\n",
      " 4:  5.5705e-02  5.3761e-02  2e-03  3e-17  1e-15\n",
      " 5:  5.4160e-02  5.4070e-02  9e-05  1e-16  8e-16\n",
      " 6:  5.4089e-02  5.4084e-02  5e-06  2e-16  9e-16\n",
      " 7:  5.4086e-02  5.4085e-02  6e-07  2e-16  1e-15\n",
      " 8:  5.4085e-02  5.4085e-02  6e-08  1e-16  1e-15\n",
      "Optimal solution found.\n",
      "     pcost       dcost       gap    pres   dres\n",
      " 0:  5.9244e-02 -1.0671e+00  4e+01  5e+00  6e+00\n",
      " 1:  1.2120e-01 -5.3956e-01  2e+00  1e-01  2e-01\n",
      " 2:  9.1634e-02 -1.5312e-02  2e-01  1e-02  2e-02\n",
      " 3:  6.8996e-02  4.7879e-02  2e-02  2e-16  2e-15\n",
      " 4:  5.9375e-02  5.7484e-02  2e-03  3e-16  1e-15\n",
      " 5:  5.7872e-02  5.7786e-02  9e-05  1e-16  1e-15\n",
      " 6:  5.7806e-02  5.7801e-02  5e-06  2e-16  1e-15\n",
      " 7:  5.7803e-02  5.7803e-02  6e-07  1e-16  1e-15\n",
      " 8:  5.7803e-02  5.7803e-02  7e-08  2e-16  1e-15\n",
      "Optimal solution found.\n",
      "     pcost       dcost       gap    pres   dres\n",
      " 0:  6.2599e-02 -1.0647e+00  4e+01  5e+00  6e+00\n",
      " 1:  1.2357e-01 -5.3408e-01  2e+00  1e-01  2e-01\n",
      " 2:  9.3970e-02 -1.1021e-02  2e-01  1e-02  1e-02\n",
      " 3:  7.2411e-02  5.1637e-02  2e-02  4e-16  3e-15\n",
      " 4:  6.3019e-02  6.1178e-02  2e-03  8e-17  2e-15\n",
      " 5:  6.1557e-02  6.1473e-02  8e-05  3e-16  8e-16\n",
      " 6:  6.1494e-02  6.1489e-02  5e-06  2e-16  1e-15\n",
      " 7:  6.1492e-02  6.1492e-02  4e-07  7e-17  1e-15\n",
      " 8:  6.1492e-02  6.1492e-02  1e-08  6e-17  1e-15\n",
      "Optimal solution found.\n",
      "     pcost       dcost       gap    pres   dres\n",
      " 0:  6.5876e-02 -1.0623e+00  4e+01  5e+00  6e+00\n",
      " 1:  1.2589e-01 -5.2871e-01  2e+00  1e-01  2e-01\n",
      " 2:  9.6320e-02 -6.7889e-03  2e-01  1e-02  1e-02\n",
      " 3:  7.5815e-02  5.5365e-02  2e-02  2e-16  2e-15\n",
      " 4:  6.6652e-02  6.4833e-02  2e-03  1e-16  1e-15\n",
      " 5:  6.5218e-02  6.5136e-02  8e-05  1e-16  1e-15\n",
      " 6:  6.5157e-02  6.5153e-02  4e-06  1e-16  7e-16\n",
      " 7:  6.5155e-02  6.5155e-02  3e-07  3e-16  8e-16\n",
      " 8:  6.5155e-02  6.5155e-02  3e-09  1e-16  1e-15\n",
      "Optimal solution found.\n",
      "     pcost       dcost       gap    pres   dres\n",
      " 0:  6.9081e-02 -1.0599e+00  4e+01  5e+00  7e+00\n",
      " 1:  1.2820e-01 -5.2344e-01  2e+00  1e-01  2e-01\n",
      " 2:  9.8683e-02 -2.6104e-03  2e-01  1e-02  1e-02\n",
      " 3:  7.9211e-02  5.9065e-02  2e-02  2e-16  4e-15\n",
      " 4:  7.0265e-02  6.8463e-02  2e-03  1e-16  2e-15\n",
      " 5:  6.8856e-02  6.8775e-02  8e-05  1e-16  2e-15\n",
      " 6:  6.8797e-02  6.8793e-02  4e-06  2e-16  8e-16\n",
      " 7:  6.8796e-02  6.8796e-02  1e-07  3e-16  9e-16\n",
      " 8:  6.8796e-02  6.8796e-02  1e-09  3e-17  2e-15\n",
      "Optimal solution found.\n",
      "     pcost       dcost       gap    pres   dres\n",
      " 0:  7.2221e-02 -1.0574e+00  4e+01  5e+00  7e+00\n",
      " 1:  1.3047e-01 -5.1827e-01  2e+00  1e-01  2e-01\n",
      " 2:  1.0106e-01  1.5175e-03  2e-01  1e-02  1e-02\n",
      " 3:  8.2601e-02  6.2739e-02  2e-02  6e-17  5e-15\n",
      " 4:  7.3858e-02  7.2073e-02  2e-03  2e-16  1e-15\n",
      " 5:  7.2476e-02  7.2394e-02  8e-05  2e-16  8e-16\n",
      " 6:  7.2416e-02  7.2413e-02  3e-06  2e-16  9e-16\n",
      " 7:  7.2415e-02  7.2415e-02  8e-08  1e-16  1e-15\n",
      "Optimal solution found.\n",
      "     pcost       dcost       gap    pres   dres\n",
      " 0:  7.5302e-02 -1.0549e+00  4e+01  5e+00  7e+00\n",
      " 1:  1.3272e-01 -5.1320e-01  2e+00  1e-01  2e-01\n",
      " 2:  1.0342e-01  4.4485e-03  2e-01  1e-02  1e-02\n",
      " 3:  8.6093e-02  6.6277e-02  2e-02  1e-16  3e-15\n",
      " 4:  7.7451e-02  7.5661e-02  2e-03  2e-16  1e-15\n",
      " 5:  7.6078e-02  7.5995e-02  8e-05  1e-16  2e-15\n",
      " 6:  7.6017e-02  7.6014e-02  3e-06  1e-16  1e-15\n",
      " 7:  7.6016e-02  7.6016e-02  5e-08  2e-16  1e-15\n",
      "Optimal solution found.\n",
      "     pcost       dcost       gap    pres   dres\n",
      " 0:  7.8329e-02 -1.0524e+00  4e+01  5e+00  7e+00\n",
      " 1:  1.3495e-01 -5.0821e-01  2e+00  1e-01  2e-01\n",
      " 2:  1.0576e-01  6.5317e-03  2e-01  1e-02  1e-02\n",
      " 3:  8.9647e-02  6.9716e-02  2e-02  3e-16  9e-15\n",
      " 4:  8.1040e-02  7.9229e-02  2e-03  1e-16  2e-15\n",
      " 5:  7.9665e-02  7.9578e-02  9e-05  1e-16  1e-15\n",
      " 6:  7.9600e-02  7.9597e-02  3e-06  2e-16  9e-16\n",
      " 7:  7.9599e-02  7.9599e-02  3e-08  2e-16  7e-16\n",
      "Optimal solution found.\n",
      "     pcost       dcost       gap    pres   dres\n",
      " 0:  8.1307e-02 -1.0499e+00  4e+01  5e+00  7e+00\n",
      " 1:  1.3717e-01 -5.0331e-01  2e+00  1e-01  2e-01\n",
      " 2:  1.0811e-01  8.6551e-03  2e-01  1e-02  1e-02\n",
      " 3:  9.3182e-02  7.3146e-02  2e-02  2e-16  5e-15\n",
      " 4:  8.4612e-02  8.2783e-02  2e-03  2e-16  2e-15\n",
      " 5:  8.3235e-02  8.3145e-02  9e-05  2e-16  1e-15\n",
      " 6:  8.3168e-02  8.3165e-02  2e-06  2e-16  9e-16\n",
      " 7:  8.3167e-02  8.3167e-02  2e-08  1e-16  1e-15\n",
      "Optimal solution found.\n",
      "     pcost       dcost       gap    pres   dres\n",
      " 0:  8.4239e-02 -1.0473e+00  4e+01  5e+00  7e+00\n",
      " 1:  1.3937e-01 -4.9849e-01  2e+00  1e-01  2e-01\n",
      " 2:  1.1048e-01  1.0815e-02  2e-01  1e-02  1e-02\n",
      " 3:  9.6699e-02  7.6568e-02  2e-02  3e-16  4e-15\n",
      " 4:  8.8168e-02  8.6322e-02  2e-03  1e-16  1e-15\n",
      " 5:  8.6792e-02  8.6699e-02  9e-05  2e-16  1e-15\n",
      " 6:  8.6721e-02  8.6719e-02  2e-06  1e-16  1e-15\n",
      " 7:  8.6720e-02  8.6720e-02  2e-08  2e-16  9e-16\n",
      "Optimal solution found.\n",
      "     pcost       dcost       gap    pres   dres\n",
      " 0:  8.7131e-02 -1.0447e+00  4e+01  5e+00  7e+00\n",
      " 1:  1.4155e-01 -4.9374e-01  2e+00  1e-01  2e-01\n",
      " 2:  1.1285e-01  1.3010e-02  2e-01  1e-02  2e-02\n",
      " 3:  1.0020e-01  7.9982e-02  2e-02  6e-16  4e-15\n",
      " 4:  9.1709e-02  8.9848e-02  2e-03  1e-16  1e-15\n",
      " 5:  9.0335e-02  9.0239e-02  1e-04  3e-17  1e-15\n",
      " 6:  9.0261e-02  9.0260e-02  2e-06  2e-16  1e-15\n",
      " 7:  9.0260e-02  9.0260e-02  2e-08  2e-16  1e-15\n",
      "Optimal solution found.\n",
      "     pcost       dcost       gap    pres   dres\n",
      " 0:  8.9984e-02 -1.0421e+00  4e+01  5e+00  7e+00\n",
      " 1:  1.4373e-01 -4.8906e-01  2e+00  1e-01  2e-01\n",
      " 2:  1.1523e-01  1.5235e-02  2e-01  1e-02  2e-02\n",
      " 3:  1.0368e-01  8.3385e-02  2e-02  7e-07  9e-07\n",
      " 4:  9.5237e-02  9.3362e-02  2e-03  2e-08  3e-08\n",
      " 5:  9.3867e-02  9.3768e-02  1e-04  1e-10  1e-10\n",
      " 6:  9.3790e-02  9.3788e-02  2e-06  9e-13  1e-12\n",
      " 7:  9.3789e-02  9.3789e-02  2e-08  9e-15  1e-14\n",
      "Optimal solution found.\n",
      "     pcost       dcost       gap    pres   dres\n",
      " 0:  9.2802e-02 -1.0395e+00  4e+01  5e+00  7e+00\n",
      " 1:  1.4589e-01 -4.8445e-01  2e+00  1e-01  2e-01\n",
      " 2:  1.1762e-01  1.7488e-02  2e-01  1e-02  2e-02\n",
      " 3:  1.0715e-01  8.6703e-02  2e-02  2e-05  2e-05\n",
      " 4:  9.8757e-02  9.6865e-02  2e-03  6e-07  8e-07\n",
      " 5:  9.7387e-02  9.7285e-02  1e-04  3e-09  4e-09\n",
      " 6:  9.7307e-02  9.7305e-02  1e-06  3e-11  3e-11\n",
      " 7:  9.7306e-02  9.7306e-02  1e-08  3e-13  3e-13\n",
      "Optimal solution found.\n",
      "     pcost       dcost       gap    pres   dres\n",
      " 0:  9.5589e-02 -1.0369e+00  4e+01  5e+00  7e+00\n",
      " 1:  1.4804e-01 -4.7990e-01  2e+00  1e-01  2e-01\n",
      " 2:  1.2002e-01  1.9769e-02  2e-01  1e-02  2e-02\n",
      " 3:  1.1060e-01  9.0031e-02  2e-02  3e-05  4e-05\n",
      " 4:  1.0226e-01  1.0036e-01  2e-03  1e-06  1e-06\n",
      " 5:  1.0090e-01  1.0079e-01  1e-04  5e-09  7e-09\n",
      " 6:  1.0081e-01  1.0081e-01  1e-06  5e-11  6e-11\n",
      " 7:  1.0081e-01  1.0081e-01  1e-08  5e-13  6e-13\n",
      "Optimal solution found.\n",
      "     pcost       dcost       gap    pres   dres\n",
      " 0:  9.8346e-02 -1.0343e+00  4e+01  5e+00  7e+00\n",
      " 1:  1.5019e-01 -4.7542e-01  2e+00  1e-01  2e-01\n",
      " 2:  1.2243e-01  2.2073e-02  2e-01  1e-02  2e-02\n",
      " 3:  1.1404e-01  9.3364e-02  2e-02  4e-05  6e-05\n",
      " 4:  1.0576e-01  1.0384e-01  2e-03  1e-06  2e-06\n",
      " 5:  1.0440e-01  1.0429e-01  1e-04  7e-09  1e-08\n",
      " 6:  1.0431e-01  1.0431e-01  1e-06  7e-11  9e-11\n",
      " 7:  1.0431e-01  1.0431e-01  1e-08  7e-13  9e-13\n",
      "Optimal solution found.\n"
     ]
    }
   ],
   "source": [
    "risk_aversion = [ra/2.0 for ra in range(41)]\n",
    "returns = [portfolio(alpha) for alpha in risk_aversion]"
   ]
  },
  {
   "cell_type": "code",
   "execution_count": 13,
   "metadata": {
    "collapsed": false,
    "deletable": true,
    "editable": true,
    "scrolled": true,
    "slideshow": {
     "slide_type": "subslide"
    }
   },
   "outputs": [
    {
     "data": {
      "text/html": [
       "\n",
       "\n",
       "    <div class=\"bk-root\">\n",
       "        <div class=\"bk-plotdiv\" id=\"f41f6feb-f0a1-4bb2-9083-e6e958e3a20d\"></div>\n",
       "    </div>\n",
       "<script type=\"text/javascript\">\n",
       "  \n",
       "  (function(global) {\n",
       "    function now() {\n",
       "      return new Date();\n",
       "    }\n",
       "  \n",
       "    var force = false;\n",
       "  \n",
       "    if (typeof (window._bokeh_onload_callbacks) === \"undefined\" || force === true) {\n",
       "      window._bokeh_onload_callbacks = [];\n",
       "      window._bokeh_is_loading = undefined;\n",
       "    }\n",
       "  \n",
       "  \n",
       "    \n",
       "    if (typeof (window._bokeh_timeout) === \"undefined\" || force === true) {\n",
       "      window._bokeh_timeout = Date.now() + 0;\n",
       "      window._bokeh_failed_load = false;\n",
       "    }\n",
       "  \n",
       "    var NB_LOAD_WARNING = {'data': {'text/html':\n",
       "       \"<div style='background-color: #fdd'>\\n\"+\n",
       "       \"<p>\\n\"+\n",
       "       \"BokehJS does not appear to have successfully loaded. If loading BokehJS from CDN, this \\n\"+\n",
       "       \"may be due to a slow or bad network connection. Possible fixes:\\n\"+\n",
       "       \"</p>\\n\"+\n",
       "       \"<ul>\\n\"+\n",
       "       \"<li>re-rerun `output_notebook()` to attempt to load from CDN again, or</li>\\n\"+\n",
       "       \"<li>use INLINE resources instead, as so:</li>\\n\"+\n",
       "       \"</ul>\\n\"+\n",
       "       \"<code>\\n\"+\n",
       "       \"from bokeh.resources import INLINE\\n\"+\n",
       "       \"output_notebook(resources=INLINE)\\n\"+\n",
       "       \"</code>\\n\"+\n",
       "       \"</div>\"}};\n",
       "  \n",
       "    function display_loaded() {\n",
       "      if (window.Bokeh !== undefined) {\n",
       "        document.getElementById(\"f41f6feb-f0a1-4bb2-9083-e6e958e3a20d\").textContent = \"BokehJS successfully loaded.\";\n",
       "      } else if (Date.now() < window._bokeh_timeout) {\n",
       "        setTimeout(display_loaded, 100)\n",
       "      }\n",
       "    }\n",
       "  \n",
       "    function run_callbacks() {\n",
       "      window._bokeh_onload_callbacks.forEach(function(callback) { callback() });\n",
       "      delete window._bokeh_onload_callbacks\n",
       "      console.info(\"Bokeh: all callbacks have finished\");\n",
       "    }\n",
       "  \n",
       "    function load_libs(js_urls, callback) {\n",
       "      window._bokeh_onload_callbacks.push(callback);\n",
       "      if (window._bokeh_is_loading > 0) {\n",
       "        console.log(\"Bokeh: BokehJS is being loaded, scheduling callback at\", now());\n",
       "        return null;\n",
       "      }\n",
       "      if (js_urls == null || js_urls.length === 0) {\n",
       "        run_callbacks();\n",
       "        return null;\n",
       "      }\n",
       "      console.log(\"Bokeh: BokehJS not loaded, scheduling load and callback at\", now());\n",
       "      window._bokeh_is_loading = js_urls.length;\n",
       "      for (var i = 0; i < js_urls.length; i++) {\n",
       "        var url = js_urls[i];\n",
       "        var s = document.createElement('script');\n",
       "        s.src = url;\n",
       "        s.async = false;\n",
       "        s.onreadystatechange = s.onload = function() {\n",
       "          window._bokeh_is_loading--;\n",
       "          if (window._bokeh_is_loading === 0) {\n",
       "            console.log(\"Bokeh: all BokehJS libraries loaded\");\n",
       "            run_callbacks()\n",
       "          }\n",
       "        };\n",
       "        s.onerror = function() {\n",
       "          console.warn(\"failed to load library \" + url);\n",
       "        };\n",
       "        console.log(\"Bokeh: injecting script tag for BokehJS library: \", url);\n",
       "        document.getElementsByTagName(\"head\")[0].appendChild(s);\n",
       "      }\n",
       "    };var element = document.getElementById(\"f41f6feb-f0a1-4bb2-9083-e6e958e3a20d\");\n",
       "    if (element == null) {\n",
       "      console.log(\"Bokeh: ERROR: autoload.js configured with elementid 'f41f6feb-f0a1-4bb2-9083-e6e958e3a20d' but no matching script tag was found. \")\n",
       "      return false;\n",
       "    }\n",
       "  \n",
       "    var js_urls = [];\n",
       "  \n",
       "    var inline_js = [\n",
       "      function(Bokeh) {\n",
       "        (function() {\n",
       "          var fn = function() {\n",
       "            var docs_json = {\"bbd67d40-023e-4270-8bcf-7247302f713f\":{\"roots\":{\"references\":[{\"attributes\":{\"axis_label\":\"risk aversion\",\"formatter\":{\"id\":\"58954a6a-d619-4573-a496-69cc9f4bd7bf\",\"type\":\"BasicTickFormatter\"},\"plot\":{\"id\":\"1e4e66ed-95c5-426c-beb1-86b30ed04d90\",\"subtype\":\"Chart\",\"type\":\"Plot\"},\"ticker\":{\"id\":\"56a46c57-66e7-41bb-af99-b33bdde07c10\",\"type\":\"BasicTicker\"}},\"id\":\"2d1c47bf-8fe6-4713-b298-96ccabc450f6\",\"type\":\"LinearAxis\"},{\"attributes\":{\"plot\":{\"id\":\"1e4e66ed-95c5-426c-beb1-86b30ed04d90\",\"subtype\":\"Chart\",\"type\":\"Plot\"}},\"id\":\"e74a2b5c-395a-498d-a5d1-9a1f7d6adfbe\",\"type\":\"PanTool\"},{\"attributes\":{\"dimension\":1,\"plot\":{\"id\":\"1e4e66ed-95c5-426c-beb1-86b30ed04d90\",\"subtype\":\"Chart\",\"type\":\"Plot\"},\"ticker\":{\"id\":\"189e599a-944a-4a06-8119-85582ec35c8a\",\"type\":\"BasicTicker\"}},\"id\":\"4ba3da09-33b4-450f-9b60-c80c45c4a165\",\"type\":\"Grid\"},{\"attributes\":{},\"id\":\"56a46c57-66e7-41bb-af99-b33bdde07c10\",\"type\":\"BasicTicker\"},{\"attributes\":{\"callback\":null,\"end\":22.0,\"start\":-2.0},\"id\":\"60352a51-fc13-4b5c-8d48-1e6f27949370\",\"type\":\"Range1d\"},{\"attributes\":{\"bottom_units\":\"screen\",\"fill_alpha\":{\"value\":0.5},\"fill_color\":{\"value\":\"lightgrey\"},\"left_units\":\"screen\",\"level\":\"overlay\",\"line_alpha\":{\"value\":1.0},\"line_color\":{\"value\":\"black\"},\"line_dash\":[4,4],\"line_width\":{\"value\":2},\"plot\":null,\"render_mode\":\"css\",\"right_units\":\"screen\",\"top_units\":\"screen\"},\"id\":\"55ea385e-f85d-423f-bf7c-24a2ca81b1c5\",\"type\":\"BoxAnnotation\"},{\"attributes\":{},\"id\":\"58954a6a-d619-4573-a496-69cc9f4bd7bf\",\"type\":\"BasicTickFormatter\"},{\"attributes\":{},\"id\":\"958bf54a-5ffa-4b9f-a4fb-878f52b360af\",\"type\":\"ToolEvents\"},{\"attributes\":{\"below\":[{\"id\":\"2d1c47bf-8fe6-4713-b298-96ccabc450f6\",\"type\":\"LinearAxis\"}],\"css_classes\":null,\"height\":400,\"left\":[{\"id\":\"08ab1dd7-414d-4e1a-8ba0-5d049eb2da01\",\"type\":\"LinearAxis\"}],\"renderers\":[{\"id\":\"55ea385e-f85d-423f-bf7c-24a2ca81b1c5\",\"type\":\"BoxAnnotation\"},{\"id\":\"169565d3-bf94-4e53-91eb-9c558d212354\",\"type\":\"GlyphRenderer\"},{\"id\":\"6715544f-7ff2-4007-9105-94d40b88dfda\",\"type\":\"Legend\"},{\"id\":\"2d1c47bf-8fe6-4713-b298-96ccabc450f6\",\"type\":\"LinearAxis\"},{\"id\":\"08ab1dd7-414d-4e1a-8ba0-5d049eb2da01\",\"type\":\"LinearAxis\"},{\"id\":\"d99a1130-385a-4237-8284-9a7bac12b191\",\"type\":\"Grid\"},{\"id\":\"4ba3da09-33b4-450f-9b60-c80c45c4a165\",\"type\":\"Grid\"}],\"title\":{\"id\":\"373ba2e7-4fc8-4d9a-b847-ffe12414e4f3\",\"type\":\"Title\"},\"tool_events\":{\"id\":\"958bf54a-5ffa-4b9f-a4fb-878f52b360af\",\"type\":\"ToolEvents\"},\"toolbar\":{\"id\":\"67ed5612-d2d6-40b1-85d7-7f902f0a69b5\",\"type\":\"Toolbar\"},\"width\":750,\"x_mapper_type\":\"auto\",\"x_range\":{\"id\":\"60352a51-fc13-4b5c-8d48-1e6f27949370\",\"type\":\"Range1d\"},\"y_mapper_type\":\"auto\",\"y_range\":{\"id\":\"99b1f1cf-607a-4a0a-a118-3e7001577731\",\"type\":\"Range1d\"}},\"id\":\"1e4e66ed-95c5-426c-beb1-86b30ed04d90\",\"subtype\":\"Chart\",\"type\":\"Plot\"},{\"attributes\":{},\"id\":\"189e599a-944a-4a06-8119-85582ec35c8a\",\"type\":\"BasicTicker\"},{\"attributes\":{\"plot\":null,\"text\":null},\"id\":\"373ba2e7-4fc8-4d9a-b847-ffe12414e4f3\",\"type\":\"Title\"},{\"attributes\":{\"location\":\"top_left\",\"plot\":{\"id\":\"1e4e66ed-95c5-426c-beb1-86b30ed04d90\",\"subtype\":\"Chart\",\"type\":\"Plot\"}},\"id\":\"6715544f-7ff2-4007-9105-94d40b88dfda\",\"type\":\"Legend\"},{\"attributes\":{\"plot\":{\"id\":\"1e4e66ed-95c5-426c-beb1-86b30ed04d90\",\"subtype\":\"Chart\",\"type\":\"Plot\"}},\"id\":\"03fd6493-5ccd-4d19-b08e-c063d2ae275a\",\"type\":\"WheelZoomTool\"},{\"attributes\":{\"plot\":{\"id\":\"1e4e66ed-95c5-426c-beb1-86b30ed04d90\",\"subtype\":\"Chart\",\"type\":\"Plot\"},\"ticker\":{\"id\":\"56a46c57-66e7-41bb-af99-b33bdde07c10\",\"type\":\"BasicTicker\"}},\"id\":\"d99a1130-385a-4237-8284-9a7bac12b191\",\"type\":\"Grid\"},{\"attributes\":{\"plot\":{\"id\":\"1e4e66ed-95c5-426c-beb1-86b30ed04d90\",\"subtype\":\"Chart\",\"type\":\"Plot\"}},\"id\":\"5972fe63-289c-4836-af6a-f532a762cc13\",\"type\":\"ResetTool\"},{\"attributes\":{\"axis_label\":\"expected return\",\"formatter\":{\"id\":\"92307460-9120-4148-979d-181ea1a04cea\",\"type\":\"BasicTickFormatter\"},\"plot\":{\"id\":\"1e4e66ed-95c5-426c-beb1-86b30ed04d90\",\"subtype\":\"Chart\",\"type\":\"Plot\"},\"ticker\":{\"id\":\"189e599a-944a-4a06-8119-85582ec35c8a\",\"type\":\"BasicTicker\"}},\"id\":\"08ab1dd7-414d-4e1a-8ba0-5d049eb2da01\",\"type\":\"LinearAxis\"},{\"attributes\":{},\"id\":\"92307460-9120-4148-979d-181ea1a04cea\",\"type\":\"BasicTickFormatter\"},{\"attributes\":{\"callback\":null,\"column_names\":[\"x_values\",\"y_values\"],\"data\":{\"chart_index\":[null,null,null,null,null,null,null,null,null,null,null,null,null,null,null,null,null,null,null,null,null,null,null,null,null,null,null,null,null,null,null,null,null,null,null,null,null,null,null,null,null],\"x_values\":{\"__ndarray__\":\"AAAAAAAAAAAAAAAAAADgPwAAAAAAAPA/AAAAAAAA+D8AAAAAAAAAQAAAAAAAAARAAAAAAAAACEAAAAAAAAAMQAAAAAAAABBAAAAAAAAAEkAAAAAAAAAUQAAAAAAAABZAAAAAAAAAGEAAAAAAAAAaQAAAAAAAABxAAAAAAAAAHkAAAAAAAAAgQAAAAAAAACFAAAAAAAAAIkAAAAAAAAAjQAAAAAAAACRAAAAAAAAAJUAAAAAAAAAmQAAAAAAAACdAAAAAAAAAKEAAAAAAAAApQAAAAAAAACpAAAAAAAAAK0AAAAAAAAAsQAAAAAAAAC1AAAAAAAAALkAAAAAAAAAvQAAAAAAAADBAAAAAAACAMEAAAAAAAAAxQAAAAAAAgDFAAAAAAAAAMkAAAAAAAIAyQAAAAAAAADNAAAAAAACAM0AAAAAAAAA0QA==\",\"dtype\":\"float64\",\"shape\":[41]},\"y_values\":{\"__ndarray__\":\"4rDpOWld0j/Kcwq9FUDQP4W02Q5FF9A/jgomY30Zyj84+MwYEUfEP5weWGLQyMA/HCpNPUrpvD/5piTVnpW5P3uQZ0/eFrc/vQZYpw8mtT/Qsn+AnZizPzsoJ6FuU7I/6xUZOHJEsT99tiB5Jl+wP7pZIsQ4Na8/QCy7nI3grT8YSJDCd7asP0u0omZzr6s/7JK/MqjFqj8tpPW5ePSpP6SeZZEzOKk/5fnMotqNqD/TWA6QCfOnP2qj5RGnZac/wKf/Twzkpj/Z4O87zGymP2W4t6CB/qU/9eC8/lCXpT/7z4+JNzalP6qCNsty26Q/YsLUyLSGpD8Tnu/xXzekP4SP8OgU7aM/jw7cQEanoz80j1dMkWWjP1KfhfmcJ6M/HGzJiBntoj9ZWKekv7WiP0GgLXBPgaI/0EAck49Poj/ZwMVqTCCiPw==\",\"dtype\":\"float64\",\"shape\":[41]}}},\"id\":\"96c3a5d5-ca25-46dc-ad97-c33f9e64ae40\",\"type\":\"ColumnDataSource\"},{\"attributes\":{\"line_color\":{\"value\":\"#f22c40\"},\"line_width\":{\"value\":2},\"x\":{\"field\":\"x_values\"},\"y\":{\"field\":\"y_values\"}},\"id\":\"3dbb3bb3-578d-4aa6-b127-ecf025bd00fb\",\"type\":\"Line\"},{\"attributes\":{\"data_source\":{\"id\":\"96c3a5d5-ca25-46dc-ad97-c33f9e64ae40\",\"type\":\"ColumnDataSource\"},\"glyph\":{\"id\":\"3dbb3bb3-578d-4aa6-b127-ecf025bd00fb\",\"type\":\"Line\"},\"hover_glyph\":null,\"nonselection_glyph\":null,\"selection_glyph\":null},\"id\":\"169565d3-bf94-4e53-91eb-9c558d212354\",\"type\":\"GlyphRenderer\"},{\"attributes\":{\"plot\":{\"id\":\"1e4e66ed-95c5-426c-beb1-86b30ed04d90\",\"subtype\":\"Chart\",\"type\":\"Plot\"}},\"id\":\"3792a56b-4d15-4edb-8e4f-c9224fb959c9\",\"type\":\"HelpTool\"},{\"attributes\":{\"overlay\":{\"id\":\"55ea385e-f85d-423f-bf7c-24a2ca81b1c5\",\"type\":\"BoxAnnotation\"},\"plot\":{\"id\":\"1e4e66ed-95c5-426c-beb1-86b30ed04d90\",\"subtype\":\"Chart\",\"type\":\"Plot\"}},\"id\":\"01f55913-4c33-4bd1-b666-7fad34b03f8c\",\"type\":\"BoxZoomTool\"},{\"attributes\":{\"plot\":{\"id\":\"1e4e66ed-95c5-426c-beb1-86b30ed04d90\",\"subtype\":\"Chart\",\"type\":\"Plot\"}},\"id\":\"fc12b131-118f-4643-a67d-90d23e29e2db\",\"type\":\"SaveTool\"},{\"attributes\":{\"callback\":null,\"end\":0.3121062263562203,\"start\":0.010247799092838194},\"id\":\"99b1f1cf-607a-4a0a-a118-3e7001577731\",\"type\":\"Range1d\"},{\"attributes\":{\"active_drag\":\"auto\",\"active_scroll\":\"auto\",\"active_tap\":\"auto\",\"tools\":[{\"id\":\"e74a2b5c-395a-498d-a5d1-9a1f7d6adfbe\",\"type\":\"PanTool\"},{\"id\":\"03fd6493-5ccd-4d19-b08e-c063d2ae275a\",\"type\":\"WheelZoomTool\"},{\"id\":\"01f55913-4c33-4bd1-b666-7fad34b03f8c\",\"type\":\"BoxZoomTool\"},{\"id\":\"fc12b131-118f-4643-a67d-90d23e29e2db\",\"type\":\"SaveTool\"},{\"id\":\"5972fe63-289c-4836-af6a-f532a762cc13\",\"type\":\"ResetTool\"},{\"id\":\"3792a56b-4d15-4edb-8e4f-c9224fb959c9\",\"type\":\"HelpTool\"}]},\"id\":\"67ed5612-d2d6-40b1-85d7-7f902f0a69b5\",\"type\":\"Toolbar\"}],\"root_ids\":[\"1e4e66ed-95c5-426c-beb1-86b30ed04d90\"]},\"title\":\"Bokeh Application\",\"version\":\"0.12.4\"}};\n",
       "            var render_items = [{\"docid\":\"bbd67d40-023e-4270-8bcf-7247302f713f\",\"elementid\":\"f41f6feb-f0a1-4bb2-9083-e6e958e3a20d\",\"modelid\":\"1e4e66ed-95c5-426c-beb1-86b30ed04d90\"}];\n",
       "            \n",
       "            Bokeh.embed.embed_items(docs_json, render_items);\n",
       "          };\n",
       "          if (document.readyState != \"loading\") fn();\n",
       "          else document.addEventListener(\"DOMContentLoaded\", fn);\n",
       "        })();\n",
       "      },\n",
       "      function(Bokeh) {\n",
       "      }\n",
       "    ];\n",
       "  \n",
       "    function run_inline_js() {\n",
       "      \n",
       "      if ((window.Bokeh !== undefined) || (force === true)) {\n",
       "        for (var i = 0; i < inline_js.length; i++) {\n",
       "          inline_js[i](window.Bokeh);\n",
       "        }if (force === true) {\n",
       "          display_loaded();\n",
       "        }} else if (Date.now() < window._bokeh_timeout) {\n",
       "        setTimeout(run_inline_js, 100);\n",
       "      } else if (!window._bokeh_failed_load) {\n",
       "        console.log(\"Bokeh: BokehJS failed to load within specified timeout.\");\n",
       "        window._bokeh_failed_load = true;\n",
       "      } else if (force !== true) {\n",
       "        var cell = $(document.getElementById(\"f41f6feb-f0a1-4bb2-9083-e6e958e3a20d\")).parents('.cell').data().cell;\n",
       "        cell.output_area.append_execute_result(NB_LOAD_WARNING)\n",
       "      }\n",
       "  \n",
       "    }\n",
       "  \n",
       "    if (window._bokeh_is_loading === 0) {\n",
       "      console.log(\"Bokeh: BokehJS loaded, going straight to plotting\");\n",
       "      run_inline_js();\n",
       "    } else {\n",
       "      load_libs(js_urls, function() {\n",
       "        console.log(\"Bokeh: BokehJS plotting callback run at\", now());\n",
       "        run_inline_js();\n",
       "      });\n",
       "    }\n",
       "  }(this));\n",
       "</script>"
      ]
     },
     "metadata": {},
     "output_type": "display_data"
    }
   ],
   "source": [
    "show(Line(\n",
    "    {'risk aversion': risk_aversion, 'expected return': returns}, \n",
    "    x='risk aversion', \n",
    "    y='expected return', \n",
    "    width=750, \n",
    "    height=400\n",
    "))"
   ]
  },
  {
   "cell_type": "markdown",
   "metadata": {
    "deletable": true,
    "editable": true,
    "slideshow": {
     "slide_type": "slide"
    }
   },
   "source": [
    "## Model 2: Support Vector Machines\n",
    "\n",
    "We want to draw a line that separates two sets with as little misclassification as possible."
   ]
  },
  {
   "cell_type": "markdown",
   "metadata": {
    "deletable": true,
    "editable": true,
    "slideshow": {
     "slide_type": "subslide"
    }
   },
   "source": [
    "If $f(x) \\le 5$, the point is of type $-1$, otherwise it is type $+1$.\n",
    "\n",
    "$$f(x) = (x_1 + \\epsilon_1) - (x_2+ \\epsilon_2)$$  \n",
    "  \n",
    "$$\\epsilon_i \\sim N\\left(0, 1.25^2\\right)\\ \\forall\\ i \\in {1, 2}$$\n"
   ]
  },
  {
   "cell_type": "code",
   "execution_count": 14,
   "metadata": {
    "collapsed": false,
    "deletable": true,
    "editable": true,
    "slideshow": {
     "slide_type": "subslide"
    }
   },
   "outputs": [],
   "source": [
    "x1 = [random.uniform(0, 10) for _ in range(150)]\n",
    "x2 = [random.uniform(0, 10) for _ in range(150)]\n",
    "\n",
    "y = []\n",
    "for xi_1, xi_2 in zip(x1, x2):\n",
    "    eps_1 = random.normalvariate(0, 1.25)\n",
    "    eps_2 = random.normalvariate(0, 1.25)\n",
    "    \n",
    "    if (xi_1 + eps_1) - (xi_2 + eps_2) <= 5:\n",
    "        y.append(-1)\n",
    "    else:\n",
    "        y.append(+1)\n",
    "        \n",
    "X = np.array(list(zip(x1, x2)))\n",
    "y = np.array(y)"
   ]
  },
  {
   "cell_type": "code",
   "execution_count": 15,
   "metadata": {
    "collapsed": false,
    "deletable": true,
    "editable": true,
    "scrolled": false,
    "slideshow": {
     "slide_type": "subslide"
    }
   },
   "outputs": [
    {
     "data": {
      "text/html": [
       "\n",
       "\n",
       "    <div class=\"bk-root\">\n",
       "        <div class=\"bk-plotdiv\" id=\"c24fe04e-b700-4397-b2a6-e25f48f4d352\"></div>\n",
       "    </div>\n",
       "<script type=\"text/javascript\">\n",
       "  \n",
       "  (function(global) {\n",
       "    function now() {\n",
       "      return new Date();\n",
       "    }\n",
       "  \n",
       "    var force = false;\n",
       "  \n",
       "    if (typeof (window._bokeh_onload_callbacks) === \"undefined\" || force === true) {\n",
       "      window._bokeh_onload_callbacks = [];\n",
       "      window._bokeh_is_loading = undefined;\n",
       "    }\n",
       "  \n",
       "  \n",
       "    \n",
       "    if (typeof (window._bokeh_timeout) === \"undefined\" || force === true) {\n",
       "      window._bokeh_timeout = Date.now() + 0;\n",
       "      window._bokeh_failed_load = false;\n",
       "    }\n",
       "  \n",
       "    var NB_LOAD_WARNING = {'data': {'text/html':\n",
       "       \"<div style='background-color: #fdd'>\\n\"+\n",
       "       \"<p>\\n\"+\n",
       "       \"BokehJS does not appear to have successfully loaded. If loading BokehJS from CDN, this \\n\"+\n",
       "       \"may be due to a slow or bad network connection. Possible fixes:\\n\"+\n",
       "       \"</p>\\n\"+\n",
       "       \"<ul>\\n\"+\n",
       "       \"<li>re-rerun `output_notebook()` to attempt to load from CDN again, or</li>\\n\"+\n",
       "       \"<li>use INLINE resources instead, as so:</li>\\n\"+\n",
       "       \"</ul>\\n\"+\n",
       "       \"<code>\\n\"+\n",
       "       \"from bokeh.resources import INLINE\\n\"+\n",
       "       \"output_notebook(resources=INLINE)\\n\"+\n",
       "       \"</code>\\n\"+\n",
       "       \"</div>\"}};\n",
       "  \n",
       "    function display_loaded() {\n",
       "      if (window.Bokeh !== undefined) {\n",
       "        document.getElementById(\"c24fe04e-b700-4397-b2a6-e25f48f4d352\").textContent = \"BokehJS successfully loaded.\";\n",
       "      } else if (Date.now() < window._bokeh_timeout) {\n",
       "        setTimeout(display_loaded, 100)\n",
       "      }\n",
       "    }\n",
       "  \n",
       "    function run_callbacks() {\n",
       "      window._bokeh_onload_callbacks.forEach(function(callback) { callback() });\n",
       "      delete window._bokeh_onload_callbacks\n",
       "      console.info(\"Bokeh: all callbacks have finished\");\n",
       "    }\n",
       "  \n",
       "    function load_libs(js_urls, callback) {\n",
       "      window._bokeh_onload_callbacks.push(callback);\n",
       "      if (window._bokeh_is_loading > 0) {\n",
       "        console.log(\"Bokeh: BokehJS is being loaded, scheduling callback at\", now());\n",
       "        return null;\n",
       "      }\n",
       "      if (js_urls == null || js_urls.length === 0) {\n",
       "        run_callbacks();\n",
       "        return null;\n",
       "      }\n",
       "      console.log(\"Bokeh: BokehJS not loaded, scheduling load and callback at\", now());\n",
       "      window._bokeh_is_loading = js_urls.length;\n",
       "      for (var i = 0; i < js_urls.length; i++) {\n",
       "        var url = js_urls[i];\n",
       "        var s = document.createElement('script');\n",
       "        s.src = url;\n",
       "        s.async = false;\n",
       "        s.onreadystatechange = s.onload = function() {\n",
       "          window._bokeh_is_loading--;\n",
       "          if (window._bokeh_is_loading === 0) {\n",
       "            console.log(\"Bokeh: all BokehJS libraries loaded\");\n",
       "            run_callbacks()\n",
       "          }\n",
       "        };\n",
       "        s.onerror = function() {\n",
       "          console.warn(\"failed to load library \" + url);\n",
       "        };\n",
       "        console.log(\"Bokeh: injecting script tag for BokehJS library: \", url);\n",
       "        document.getElementsByTagName(\"head\")[0].appendChild(s);\n",
       "      }\n",
       "    };var element = document.getElementById(\"c24fe04e-b700-4397-b2a6-e25f48f4d352\");\n",
       "    if (element == null) {\n",
       "      console.log(\"Bokeh: ERROR: autoload.js configured with elementid 'c24fe04e-b700-4397-b2a6-e25f48f4d352' but no matching script tag was found. \")\n",
       "      return false;\n",
       "    }\n",
       "  \n",
       "    var js_urls = [];\n",
       "  \n",
       "    var inline_js = [\n",
       "      function(Bokeh) {\n",
       "        (function() {\n",
       "          var fn = function() {\n",
       "            var docs_json = {\"79333e87-aa13-42fa-970b-754bcb7c7ac5\":{\"roots\":{\"references\":[{\"attributes\":{\"below\":[{\"id\":\"812e6de4-4288-4a6f-a609-359767b56e4b\",\"type\":\"LinearAxis\"}],\"css_classes\":null,\"height\":500,\"left\":[{\"id\":\"eeee5051-4fe3-416b-9fc5-4f1b96275f92\",\"type\":\"LinearAxis\"}],\"renderers\":[{\"id\":\"6dd50811-b3be-430b-ab3d-a1203bd88567\",\"type\":\"BoxAnnotation\"},{\"id\":\"ecfe059c-fccc-49f4-a3c5-cf8f00587e73\",\"type\":\"GlyphRenderer\"},{\"id\":\"d12c5d4f-9dcb-45eb-a8de-90a195ec9783\",\"type\":\"GlyphRenderer\"},{\"id\":\"e0bae6ba-0039-40e6-a65c-cacada4fbef4\",\"type\":\"Legend\"},{\"id\":\"812e6de4-4288-4a6f-a609-359767b56e4b\",\"type\":\"LinearAxis\"},{\"id\":\"eeee5051-4fe3-416b-9fc5-4f1b96275f92\",\"type\":\"LinearAxis\"},{\"id\":\"8ca6ad7d-7857-49dc-a3de-0b1384565d9b\",\"type\":\"Grid\"},{\"id\":\"817da575-14cd-4841-8344-62a48ab7218c\",\"type\":\"Grid\"}],\"title\":{\"id\":\"3071770c-fec7-4dda-aa44-2c89b45f730a\",\"type\":\"Title\"},\"tool_events\":{\"id\":\"7edbad57-f764-4cf3-bb3b-fc743e988b57\",\"type\":\"ToolEvents\"},\"toolbar\":{\"id\":\"2a0d7fd2-912d-44de-be34-c5a391637dc9\",\"type\":\"Toolbar\"},\"width\":500,\"x_mapper_type\":\"auto\",\"x_range\":{\"id\":\"baeea093-bd1f-416f-a3c3-ed4b2bd678eb\",\"type\":\"Range1d\"},\"y_mapper_type\":\"auto\",\"y_range\":{\"id\":\"664aaa6b-553a-4eff-8275-5def8b6846d5\",\"type\":\"Range1d\"}},\"id\":\"9394f219-46f5-4ad7-a4d4-8fc8e651d9f0\",\"subtype\":\"Chart\",\"type\":\"Plot\"},{\"attributes\":{\"callback\":null,\"end\":10.977726039447822,\"start\":-0.97551268942296},\"id\":\"664aaa6b-553a-4eff-8275-5def8b6846d5\",\"type\":\"Range1d\"},{\"attributes\":{},\"id\":\"8c08cc7f-cb69-47b6-a36f-ea0de0ff7f50\",\"type\":\"BasicTicker\"},{\"attributes\":{},\"id\":\"21771328-fd26-4ff9-9a8f-94819157ac51\",\"type\":\"BasicTickFormatter\"},{\"attributes\":{\"plot\":{\"id\":\"9394f219-46f5-4ad7-a4d4-8fc8e651d9f0\",\"subtype\":\"Chart\",\"type\":\"Plot\"}},\"id\":\"b9161e0b-fdb4-4717-9f71-8d39e4038584\",\"type\":\"HelpTool\"},{\"attributes\":{\"axis_label\":\"x2\",\"formatter\":{\"id\":\"35109af3-d044-4fa7-a5e9-212ce67a18a9\",\"type\":\"BasicTickFormatter\"},\"plot\":{\"id\":\"9394f219-46f5-4ad7-a4d4-8fc8e651d9f0\",\"subtype\":\"Chart\",\"type\":\"Plot\"},\"ticker\":{\"id\":\"25d5b67a-6203-423f-8978-1e0287cd6de9\",\"type\":\"BasicTicker\"}},\"id\":\"eeee5051-4fe3-416b-9fc5-4f1b96275f92\",\"type\":\"LinearAxis\"},{\"attributes\":{\"data_source\":{\"id\":\"b5756f1e-55f1-42db-bb16-3766402c6175\",\"type\":\"ColumnDataSource\"},\"glyph\":{\"id\":\"be28e0c9-375f-4a57-932b-1d92a34ce0ff\",\"type\":\"Circle\"},\"hover_glyph\":null,\"nonselection_glyph\":null,\"selection_glyph\":null},\"id\":\"ecfe059c-fccc-49f4-a3c5-cf8f00587e73\",\"type\":\"GlyphRenderer\"},{\"attributes\":{\"items\":[{\"id\":\"3f144551-20bd-472e-95df-50be7d5464f3\",\"type\":\"LegendItem\"},{\"id\":\"bc542f49-d5c6-4220-a3bf-34835dd9d447\",\"type\":\"LegendItem\"}],\"location\":\"top_left\",\"plot\":{\"id\":\"9394f219-46f5-4ad7-a4d4-8fc8e651d9f0\",\"subtype\":\"Chart\",\"type\":\"Plot\"}},\"id\":\"e0bae6ba-0039-40e6-a65c-cacada4fbef4\",\"type\":\"Legend\"},{\"attributes\":{\"callback\":null,\"column_names\":[\"x_values\",\"y_values\"],\"data\":{\"chart_index\":[{\"y\":1},{\"y\":1},{\"y\":1},{\"y\":1},{\"y\":1},{\"y\":1},{\"y\":1},{\"y\":1},{\"y\":1},{\"y\":1},{\"y\":1},{\"y\":1},{\"y\":1},{\"y\":1},{\"y\":1},{\"y\":1},{\"y\":1},{\"y\":1},{\"y\":1},{\"y\":1},{\"y\":1}],\"x_values\":{\"__ndarray__\":\"d+wvCIJQIED6HUyCBlkdQOHNqDnl1CFAL9fLbNHGGUCiT/dSCRQiQJSWF3J/4hhAai05Rk3LI0BGLpeek3oYQLJlJ0GNQxlAFFhIPVimIUAg+HK1RM4jQH+NAYmX/hlA1J/n30SMIUCSzljWvUggQBRQXTn7gh1AZdhEagJLIUBnRM+z+64bQEdMPoK0VBpA9OYb1riUIkDzvpYhwqggQGGX5BZsWhxA\",\"dtype\":\"float64\",\"shape\":[21]},\"y\":[1,1,1,1,1,1,1,1,1,1,1,1,1,1,1,1,1,1,1,1,1],\"y_values\":{\"__ndarray__\":\"IOrF/ransz8a5CoxgAbqP4Vmpm+qcghAiCn6UsIQ6j/fb2X2BJf4PyRlJ6Tqa9g/zTvfnfjdC0AGhbClN2XzP1TX/yuJgwZA4JFtsQqkBUD7nna2uYwPQKLwRig/n+A/mmfKzkMY8z8AnvmcrxWVP5amEa8jlOM/4JaMh1H52j+2O+afO88FQB4ejZDdiAxAjPpShQeJ+j+4Nd85WeX5Pxad+lwbsAJA\",\"dtype\":\"float64\",\"shape\":[21]}}},\"id\":\"70d48d06-1bb7-4275-a6c6-f6d35dafcb5c\",\"type\":\"ColumnDataSource\"},{\"attributes\":{\"label\":{\"value\":\"-1\"},\"renderers\":[{\"id\":\"ecfe059c-fccc-49f4-a3c5-cf8f00587e73\",\"type\":\"GlyphRenderer\"}]},\"id\":\"3f144551-20bd-472e-95df-50be7d5464f3\",\"type\":\"LegendItem\"},{\"attributes\":{\"plot\":{\"id\":\"9394f219-46f5-4ad7-a4d4-8fc8e651d9f0\",\"subtype\":\"Chart\",\"type\":\"Plot\"}},\"id\":\"53c108e3-48a1-4c69-8202-a4912816e52b\",\"type\":\"ResetTool\"},{\"attributes\":{},\"id\":\"35109af3-d044-4fa7-a5e9-212ce67a18a9\",\"type\":\"BasicTickFormatter\"},{\"attributes\":{},\"id\":\"7edbad57-f764-4cf3-bb3b-fc743e988b57\",\"type\":\"ToolEvents\"},{\"attributes\":{\"callback\":null,\"column_names\":[\"x_values\",\"y_values\"],\"data\":{\"chart_index\":[{\"y\":-1},{\"y\":-1},{\"y\":-1},{\"y\":-1},{\"y\":-1},{\"y\":-1},{\"y\":-1},{\"y\":-1},{\"y\":-1},{\"y\":-1},{\"y\":-1},{\"y\":-1},{\"y\":-1},{\"y\":-1},{\"y\":-1},{\"y\":-1},{\"y\":-1},{\"y\":-1},{\"y\":-1},{\"y\":-1},{\"y\":-1},{\"y\":-1},{\"y\":-1},{\"y\":-1},{\"y\":-1},{\"y\":-1},{\"y\":-1},{\"y\":-1},{\"y\":-1},{\"y\":-1},{\"y\":-1},{\"y\":-1},{\"y\":-1},{\"y\":-1},{\"y\":-1},{\"y\":-1},{\"y\":-1},{\"y\":-1},{\"y\":-1},{\"y\":-1},{\"y\":-1},{\"y\":-1},{\"y\":-1},{\"y\":-1},{\"y\":-1},{\"y\":-1},{\"y\":-1},{\"y\":-1},{\"y\":-1},{\"y\":-1},{\"y\":-1},{\"y\":-1},{\"y\":-1},{\"y\":-1},{\"y\":-1},{\"y\":-1},{\"y\":-1},{\"y\":-1},{\"y\":-1},{\"y\":-1},{\"y\":-1},{\"y\":-1},{\"y\":-1},{\"y\":-1},{\"y\":-1},{\"y\":-1},{\"y\":-1},{\"y\":-1},{\"y\":-1},{\"y\":-1},{\"y\":-1},{\"y\":-1},{\"y\":-1},{\"y\":-1},{\"y\":-1},{\"y\":-1},{\"y\":-1},{\"y\":-1},{\"y\":-1},{\"y\":-1},{\"y\":-1},{\"y\":-1},{\"y\":-1},{\"y\":-1},{\"y\":-1},{\"y\":-1},{\"y\":-1},{\"y\":-1},{\"y\":-1},{\"y\":-1},{\"y\":-1},{\"y\":-1},{\"y\":-1},{\"y\":-1},{\"y\":-1},{\"y\":-1},{\"y\":-1},{\"y\":-1},{\"y\":-1},{\"y\":-1},{\"y\":-1},{\"y\":-1},{\"y\":-1},{\"y\":-1},{\"y\":-1},{\"y\":-1},{\"y\":-1},{\"y\":-1},{\"y\":-1},{\"y\":-1},{\"y\":-1},{\"y\":-1},{\"y\":-1},{\"y\":-1},{\"y\":-1},{\"y\":-1},{\"y\":-1},{\"y\":-1},{\"y\":-1},{\"y\":-1},{\"y\":-1},{\"y\":-1},{\"y\":-1},{\"y\":-1},{\"y\":-1},{\"y\":-1},{\"y\":-1},{\"y\":-1},{\"y\":-1}],\"x_values\":{\"__ndarray__\":\"vSwKvhgKG0AJ5Suyoo8fQInCDsNejBtAjqss3ymUCECdpsebwHQjQHq7gO2NPBtALYnFjz5CHUBS+4YE8DcKQAG6c2ooZhRAcoqH2Jcd+z/JGQCtwYMLQFLxW82xjRpA2G0f3cyj2j8jPFX1j/v6P8RsxGsNzd4/UhoOTwIq/j/usU1PEHsfQH4+/UEXKBVAiDWY61dGIUDCvlqqp0ALQJDj6RotAtc/WU7A0lCsA0DSfDl2zeEiQFiO9yhPbyBAJyrSliABAECoIZcprDsUQIu5x63IDBFAUkoSV3LNDECp7T0mTYEeQGCw4GLPmqQ/DmEVOm4aCECCoSD/1UsAQHNQBjqkEyNAUIFv1e9iIkAT/M/5qxoFQKT1E/TgtgtA4AONVEgYIECTKYBgTmQeQJdQgRLLWhJA5M7rSGMu/T/cHNsT4MMeQLzgR/gzOAtAoxfE80Y8BEAnKf6kA70jQNqambLAq/M/E7AfPgrSHECXsoOQ8CcbQKPa7W7TsRRAcHQEmW3XD0AY6s2OrTsJQLrzwtkcpgJAaHplhi0g5j9csFWNCA0OQJO7Y2BbThFAU4HcknWaBUCqwa47xBTyP/JJ7lyz4xBAg57UZHFsGEB8u+f4lTDSPwDpISoeyX8/QzdrcwwxFUAyWkNahwMCQMrTCSdGJCNARe0okuvuCUByAp03FXkRQOsGheDlvfg/ZfeHWcRLH0AQkoXNe069P3IHPZ6tlBBA5Khw9eBNFUAmXwnsKBAUQN0jLFjMWxVAGpRBH9nSH0ACjJ/dpTQiQDUN6sCDbxpAViFR4HgCBkDmP1GnikUDQBRy2M+GtgNAfa4ixxLiHkCWLd/EUwkgQP5+IZE4eg1Ax5m+ugIxG0DE4AslsnkXQMTblGT/5BtAiuzB1pHAEEDWC54m8UUIQESsSJx93v4/9P2E/Bt+G0DzXzfECckPQM7LAyb1ABtAZ2htM7Ve/D+WVxGNNd8gQPd7K8XVUx5AFsTfbUr0DkCvpXuigOkIQO9uRqBlFxZA/iox41FBGkB0nC+1s/3cP+w+NNDf8BNA2s5GUlONI0BBooOgeHIbQAuMnbCzPRVA6qFMVuyj8z80qUyMcRAGQPOBWpC1Yh1APnJ4WcoQGkBlC1yJPSsOQBxJoN7ttB1ACURzzdpP/z/N4K25NW8gQBKc3TCm5CFABGsp3XcCAkBwT4oDYy0cQKJmM+UAeRhAKj1N/CLJ/D9vvApR7D33P2unZGY8+BpAdgaHziaGE0CAq+mokcAcQGSlhSHnwRtAu06xzLxKIEDG+vNX/w0DQLUKqx7GGCFAgdxLSLDb+D9MG8xvgwwPQP42q2SjghVAPkk8bPizG0C9MTZpDBgcQG2RUo5vWgBA\",\"dtype\":\"float64\",\"shape\":[129]},\"y\":[-1,-1,-1,-1,-1,-1,-1,-1,-1,-1,-1,-1,-1,-1,-1,-1,-1,-1,-1,-1,-1,-1,-1,-1,-1,-1,-1,-1,-1,-1,-1,-1,-1,-1,-1,-1,-1,-1,-1,-1,-1,-1,-1,-1,-1,-1,-1,-1,-1,-1,-1,-1,-1,-1,-1,-1,-1,-1,-1,-1,-1,-1,-1,-1,-1,-1,-1,-1,-1,-1,-1,-1,-1,-1,-1,-1,-1,-1,-1,-1,-1,-1,-1,-1,-1,-1,-1,-1,-1,-1,-1,-1,-1,-1,-1,-1,-1,-1,-1,-1,-1,-1,-1,-1,-1,-1,-1,-1,-1,-1,-1,-1,-1,-1,-1,-1,-1,-1,-1,-1,-1,-1,-1,-1,-1,-1,-1,-1,-1],\"y_values\":{\"__ndarray__\":\"ioRmjyDOIEDK7RnkU30jQFJDyrUzUOY/3BhVw/PTIUA+M0K6gHAJQPKKjAqhGSFAEFADuC3hIUB+qs+MSmgZQK2674lZoRlALJybHWw4HkD8eUNxCbvQP7BNHJb5lRtAUpzT37y1CkDaHjxFHJsiQEU5r6eAPxRA85TYGXWfEEDt7Nsex7b7P60M9Ni+ISBA1xJgfSg3I0A6K8hq2WnlP7JrAOLjRBBAFDqF4L2ZIEDIQkR6vbUcQJh7uLugPhZADJS7eCD5IEAs4KFLqkgQQAV/f/R5DB5AinTlQ5f2I0Ao/J+Cmf0dQLZzM7BxAOc/LqxnsBneI0BrFlbdlkv9P35JM8JRKSJAIgrlS8PMF0AYdbG4/3H0PxsR3RmoqxtA7CmqvKL9IECIxwNIP1MZQDboiRTZIBRAN+vFqbm+8z98VQ/3r5kWQIxNBawgOhlAwKkv6301IECwRCPOJucgQLB5kCHq+iBAjXOTjC+LI0BynXaY/hAWQOdoqHT06wtAgCwJd4zpHUDM4MgVFbX9PxG0rO6l9B5ARhvhTZ26B0C+aSKeqKT1P0w44aVSfR1ACip9IV5GIUAvEsS36YX+P/rFnXfueyNAEoPWXeJtEEAgiST/0KQeQDPH00oMEfo/MsADxtTZHkBzMS/Jog8fQMJiBdWxTSJAMoRU61E4I0CFsWTSGIoHQHnqAmkv7xdAzWzMZNq8F0B8a59p1xEaQEh2x2/aWBJAkKk6KVfgwT96Vv0fWg8XQDL5st81lhBASNWBXnVVBEAGxkL+52YSQCMHaqVn9gxAK2m4iCkkIEBxa2pR0wojQJkAhSTT5CBA8v/e0AKLI0BWXpNHjp0UQIobO8S6ByBADV0f3nlmEUBS6e9axPwEQHKr7tfPKBpA9XOEos11IkAaADJoZy8gQLHHEgxReyBAmrBwckqkAkCR9hhm6TIUQFoAJ+QMHSFATVxA1fJ+FEAcSGRZZr8JQJ0Y+hUD2hBAGL8B5q8EB0BwpckAiS8HQMhy6Ra9dd4/PE6PysOmD0AATGUce0XsP3KN2m95AiJAe/TlJGc6I0BShfDzFMPhPwBeXNS8Kx5AQPBBL2CaHkDbrNzD5bvyP7wg3az9OwxAJLwWSWH68z98LSkj0/gYQNr92CVx4hJAGmSChe8vGECgFg6WPxMeQMnrYIb+rBNAegpZ8koRGkAYuV7bVq8jQNw6P/ObAiBAcL7zqQeuF0Cq13qSR4AgQEwUpKwp3BxAoiKxJlRUFkBwurmOqJAhQK2ke9uPDB9APX9d/+SAF0AjtNI6AMwYQKJ/K60wYxpAaICRhW+fDECK9joSGJQHQBmeBsEcaxhA1D97ckM5FkBWwiQYpJwBQNLNcm6WAgZA\",\"dtype\":\"float64\",\"shape\":[129]}}},\"id\":\"b5756f1e-55f1-42db-bb16-3766402c6175\",\"type\":\"ColumnDataSource\"},{\"attributes\":{\"plot\":{\"id\":\"9394f219-46f5-4ad7-a4d4-8fc8e651d9f0\",\"subtype\":\"Chart\",\"type\":\"Plot\"}},\"id\":\"7e9e8a46-176b-4529-b9b6-5e4d7523c27e\",\"type\":\"SaveTool\"},{\"attributes\":{\"callback\":null,\"end\":10.892378736047483,\"start\":-0.9817506193304097},\"id\":\"baeea093-bd1f-416f-a3c3-ed4b2bd678eb\",\"type\":\"Range1d\"},{\"attributes\":{\"fill_alpha\":{\"value\":0.7},\"fill_color\":{\"value\":\"orange\"},\"line_color\":{\"value\":\"orange\"},\"size\":{\"units\":\"screen\",\"value\":8},\"x\":{\"field\":\"x_values\"},\"y\":{\"field\":\"y_values\"}},\"id\":\"9e7c5e32-772a-4e31-ae90-9897d3aa9e28\",\"type\":\"Square\"},{\"attributes\":{\"plot\":{\"id\":\"9394f219-46f5-4ad7-a4d4-8fc8e651d9f0\",\"subtype\":\"Chart\",\"type\":\"Plot\"}},\"id\":\"56ce0a22-788a-42d8-bd26-4524201bb98b\",\"type\":\"WheelZoomTool\"},{\"attributes\":{\"axis_label\":\"x1\",\"formatter\":{\"id\":\"21771328-fd26-4ff9-9a8f-94819157ac51\",\"type\":\"BasicTickFormatter\"},\"plot\":{\"id\":\"9394f219-46f5-4ad7-a4d4-8fc8e651d9f0\",\"subtype\":\"Chart\",\"type\":\"Plot\"},\"ticker\":{\"id\":\"8c08cc7f-cb69-47b6-a36f-ea0de0ff7f50\",\"type\":\"BasicTicker\"}},\"id\":\"812e6de4-4288-4a6f-a609-359767b56e4b\",\"type\":\"LinearAxis\"},{\"attributes\":{\"overlay\":{\"id\":\"6dd50811-b3be-430b-ab3d-a1203bd88567\",\"type\":\"BoxAnnotation\"},\"plot\":{\"id\":\"9394f219-46f5-4ad7-a4d4-8fc8e651d9f0\",\"subtype\":\"Chart\",\"type\":\"Plot\"}},\"id\":\"0b5143cf-e80e-410d-bce6-8bcb07671091\",\"type\":\"BoxZoomTool\"},{\"attributes\":{\"plot\":{\"id\":\"9394f219-46f5-4ad7-a4d4-8fc8e651d9f0\",\"subtype\":\"Chart\",\"type\":\"Plot\"}},\"id\":\"536c384a-bbef-4fd9-9d09-d3f55060c28b\",\"type\":\"PanTool\"},{\"attributes\":{\"data_source\":{\"id\":\"70d48d06-1bb7-4275-a6c6-f6d35dafcb5c\",\"type\":\"ColumnDataSource\"},\"glyph\":{\"id\":\"9e7c5e32-772a-4e31-ae90-9897d3aa9e28\",\"type\":\"Square\"},\"hover_glyph\":null,\"nonselection_glyph\":null,\"selection_glyph\":null},\"id\":\"d12c5d4f-9dcb-45eb-a8de-90a195ec9783\",\"type\":\"GlyphRenderer\"},{\"attributes\":{\"plot\":{\"id\":\"9394f219-46f5-4ad7-a4d4-8fc8e651d9f0\",\"subtype\":\"Chart\",\"type\":\"Plot\"},\"ticker\":{\"id\":\"8c08cc7f-cb69-47b6-a36f-ea0de0ff7f50\",\"type\":\"BasicTicker\"}},\"id\":\"8ca6ad7d-7857-49dc-a3de-0b1384565d9b\",\"type\":\"Grid\"},{\"attributes\":{\"active_drag\":\"auto\",\"active_scroll\":\"auto\",\"active_tap\":\"auto\",\"tools\":[{\"id\":\"536c384a-bbef-4fd9-9d09-d3f55060c28b\",\"type\":\"PanTool\"},{\"id\":\"56ce0a22-788a-42d8-bd26-4524201bb98b\",\"type\":\"WheelZoomTool\"},{\"id\":\"0b5143cf-e80e-410d-bce6-8bcb07671091\",\"type\":\"BoxZoomTool\"},{\"id\":\"7e9e8a46-176b-4529-b9b6-5e4d7523c27e\",\"type\":\"SaveTool\"},{\"id\":\"53c108e3-48a1-4c69-8202-a4912816e52b\",\"type\":\"ResetTool\"},{\"id\":\"b9161e0b-fdb4-4717-9f71-8d39e4038584\",\"type\":\"HelpTool\"}]},\"id\":\"2a0d7fd2-912d-44de-be34-c5a391637dc9\",\"type\":\"Toolbar\"},{\"attributes\":{\"bottom_units\":\"screen\",\"fill_alpha\":{\"value\":0.5},\"fill_color\":{\"value\":\"lightgrey\"},\"left_units\":\"screen\",\"level\":\"overlay\",\"line_alpha\":{\"value\":1.0},\"line_color\":{\"value\":\"black\"},\"line_dash\":[4,4],\"line_width\":{\"value\":2},\"plot\":null,\"render_mode\":\"css\",\"right_units\":\"screen\",\"top_units\":\"screen\"},\"id\":\"6dd50811-b3be-430b-ab3d-a1203bd88567\",\"type\":\"BoxAnnotation\"},{\"attributes\":{\"plot\":null,\"text\":null},\"id\":\"3071770c-fec7-4dda-aa44-2c89b45f730a\",\"type\":\"Title\"},{\"attributes\":{\"label\":{\"value\":\"1\"},\"renderers\":[{\"id\":\"d12c5d4f-9dcb-45eb-a8de-90a195ec9783\",\"type\":\"GlyphRenderer\"}]},\"id\":\"bc542f49-d5c6-4220-a3bf-34835dd9d447\",\"type\":\"LegendItem\"},{\"attributes\":{\"dimension\":1,\"plot\":{\"id\":\"9394f219-46f5-4ad7-a4d4-8fc8e651d9f0\",\"subtype\":\"Chart\",\"type\":\"Plot\"},\"ticker\":{\"id\":\"25d5b67a-6203-423f-8978-1e0287cd6de9\",\"type\":\"BasicTicker\"}},\"id\":\"817da575-14cd-4841-8344-62a48ab7218c\",\"type\":\"Grid\"},{\"attributes\":{},\"id\":\"25d5b67a-6203-423f-8978-1e0287cd6de9\",\"type\":\"BasicTicker\"},{\"attributes\":{\"fill_alpha\":{\"value\":0.7},\"fill_color\":{\"value\":\"lightblue\"},\"line_color\":{\"value\":\"lightblue\"},\"size\":{\"units\":\"screen\",\"value\":8},\"x\":{\"field\":\"x_values\"},\"y\":{\"field\":\"y_values\"}},\"id\":\"be28e0c9-375f-4a57-932b-1d92a34ce0ff\",\"type\":\"Circle\"}],\"root_ids\":[\"9394f219-46f5-4ad7-a4d4-8fc8e651d9f0\"]},\"title\":\"Bokeh Application\",\"version\":\"0.12.4\"}};\n",
       "            var render_items = [{\"docid\":\"79333e87-aa13-42fa-970b-754bcb7c7ac5\",\"elementid\":\"c24fe04e-b700-4397-b2a6-e25f48f4d352\",\"modelid\":\"9394f219-46f5-4ad7-a4d4-8fc8e651d9f0\"}];\n",
       "            \n",
       "            Bokeh.embed.embed_items(docs_json, render_items);\n",
       "          };\n",
       "          if (document.readyState != \"loading\") fn();\n",
       "          else document.addEventListener(\"DOMContentLoaded\", fn);\n",
       "        })();\n",
       "      },\n",
       "      function(Bokeh) {\n",
       "      }\n",
       "    ];\n",
       "  \n",
       "    function run_inline_js() {\n",
       "      \n",
       "      if ((window.Bokeh !== undefined) || (force === true)) {\n",
       "        for (var i = 0; i < inline_js.length; i++) {\n",
       "          inline_js[i](window.Bokeh);\n",
       "        }if (force === true) {\n",
       "          display_loaded();\n",
       "        }} else if (Date.now() < window._bokeh_timeout) {\n",
       "        setTimeout(run_inline_js, 100);\n",
       "      } else if (!window._bokeh_failed_load) {\n",
       "        console.log(\"Bokeh: BokehJS failed to load within specified timeout.\");\n",
       "        window._bokeh_failed_load = true;\n",
       "      } else if (force !== true) {\n",
       "        var cell = $(document.getElementById(\"c24fe04e-b700-4397-b2a6-e25f48f4d352\")).parents('.cell').data().cell;\n",
       "        cell.output_area.append_execute_result(NB_LOAD_WARNING)\n",
       "      }\n",
       "  \n",
       "    }\n",
       "  \n",
       "    if (window._bokeh_is_loading === 0) {\n",
       "      console.log(\"Bokeh: BokehJS loaded, going straight to plotting\");\n",
       "      run_inline_js();\n",
       "    } else {\n",
       "      load_libs(js_urls, function() {\n",
       "        console.log(\"Bokeh: BokehJS plotting callback run at\", now());\n",
       "        run_inline_js();\n",
       "      });\n",
       "    }\n",
       "  }(this));\n",
       "</script>"
      ]
     },
     "metadata": {},
     "output_type": "display_data"
    }
   ],
   "source": [
    "show(Scatter(\n",
    "    {'x1': x1, 'x2': x2, 'y': y}, \n",
    "    x='x1', y='x2', color='y', marker='y', palette=['lightblue', 'orange'],\n",
    "    width=500, height=500\n",
    "))"
   ]
  },
  {
   "cell_type": "markdown",
   "metadata": {
    "deletable": true,
    "editable": true,
    "slideshow": {
     "slide_type": "slide"
    }
   },
   "source": [
    "### Support Vector Machines a la `scikit-learn`"
   ]
  },
  {
   "cell_type": "code",
   "execution_count": 16,
   "metadata": {
    "collapsed": false,
    "deletable": true,
    "editable": true,
    "scrolled": true,
    "slideshow": {
     "slide_type": "subslide"
    }
   },
   "outputs": [
    {
     "data": {
      "text/plain": [
       "SVC(C=1.0, cache_size=200, class_weight=None, coef0=0.0,\n",
       "  decision_function_shape=None, degree=3, gamma='auto', kernel='linear',\n",
       "  max_iter=-1, probability=False, random_state=None, shrinking=True,\n",
       "  tol=0.001, verbose=False)"
      ]
     },
     "execution_count": 16,
     "metadata": {},
     "output_type": "execute_result"
    }
   ],
   "source": [
    "from sklearn import svm\n",
    "clf = svm.SVC(kernel='linear')\n",
    "clf.fit(X, y)"
   ]
  },
  {
   "cell_type": "markdown",
   "metadata": {
    "deletable": true,
    "editable": true,
    "slideshow": {
     "slide_type": "subslide"
    }
   },
   "source": [
    "The SVM coefficients give us a separating hyperplane with minimum classification error.\n",
    "\n",
    "$$b + w'x = 0$$"
   ]
  },
  {
   "cell_type": "code",
   "execution_count": 17,
   "metadata": {
    "collapsed": false,
    "deletable": true,
    "editable": true,
    "slideshow": {
     "slide_type": "fragment"
    }
   },
   "outputs": [
    {
     "name": "stdout",
     "output_type": "stream",
     "text": [
      "b = -3.3292058936\n",
      "w = [ 0.65738794 -0.70842241]\n"
     ]
    }
   ],
   "source": [
    "print('b =', clf.intercept_[0])\n",
    "print('w =', clf.coef_[0])"
   ]
  },
  {
   "cell_type": "markdown",
   "metadata": {
    "deletable": true,
    "editable": true,
    "slideshow": {
     "slide_type": "subslide"
    }
   },
   "source": [
    "We classify a point $x = (x_1, x_2)'$ based on which side of that hyperplane it is on.  \n",
    "  \n",
    "\n",
    "$$b + w'x \\ge 0\\ \\rightarrow\\ \\text{Type +1}$$  \n",
    "$$b + w'x < 0\\ \\rightarrow\\ \\text{Type -1}$$ "
   ]
  },
  {
   "cell_type": "code",
   "execution_count": 18,
   "metadata": {
    "collapsed": false,
    "deletable": true,
    "editable": true,
    "slideshow": {
     "slide_type": "fragment"
    }
   },
   "outputs": [
    {
     "name": "stdout",
     "output_type": "stream",
     "text": [
      "confusion matrix:\n"
     ]
    },
    {
     "data": {
      "text/plain": [
       "array([[122,   7],\n",
       "       [  5,  16]])"
      ]
     },
     "execution_count": 18,
     "metadata": {},
     "output_type": "execute_result"
    }
   ],
   "source": [
    "from sklearn import metrics\n",
    "\n",
    "y_hat = clf.predict(X)\n",
    "\n",
    "print('confusion matrix:')\n",
    "metrics.confusion_matrix(y_true=y, y_pred=y_hat)"
   ]
  },
  {
   "cell_type": "code",
   "execution_count": 19,
   "metadata": {
    "collapsed": false,
    "deletable": true,
    "editable": true,
    "slideshow": {
     "slide_type": "subslide"
    }
   },
   "outputs": [],
   "source": [
    "# We need a function to plot classifications and the separating hyperplane.\n",
    "def plot_svm_results(correct, b_val, w1_val, w2_val):\n",
    "    # Classifications\n",
    "    plot = Scatter(\n",
    "        {'x1': x1, 'x2': x2, 'y': y, 'correct': correct}, \n",
    "        x='x1', y='x2', \n",
    "        color='correct', palette=['lightgrey', 'darkred'], marker='correct',\n",
    "        width=500, height=500\n",
    "    )\n",
    "\n",
    "    # Separating hyperplane: x2 = -(b + (w1*x1)) / w2\n",
    "    hyperplane_x1 = np.linspace(0, 10)\n",
    "    hyperplane_x2 = [\n",
    "        -(b_val + (w1_val * x1_i)) / w2_val for x1_i in hyperplane_x1\n",
    "    ]\n",
    "    plot.line(hyperplane_x1, hyperplane_x2, color='darkblue')\n",
    "    show(plot)"
   ]
  },
  {
   "cell_type": "markdown",
   "metadata": {
    "deletable": true,
    "editable": true,
    "slideshow": {
     "slide_type": "subslide"
    }
   },
   "source": [
    "How'd scikit-learn do?"
   ]
  },
  {
   "cell_type": "code",
   "execution_count": 20,
   "metadata": {
    "collapsed": false,
    "deletable": true,
    "editable": true,
    "slideshow": {
     "slide_type": "-"
    }
   },
   "outputs": [
    {
     "data": {
      "text/html": [
       "\n",
       "\n",
       "    <div class=\"bk-root\">\n",
       "        <div class=\"bk-plotdiv\" id=\"2ddece27-b2a0-4908-a244-f205209744b9\"></div>\n",
       "    </div>\n",
       "<script type=\"text/javascript\">\n",
       "  \n",
       "  (function(global) {\n",
       "    function now() {\n",
       "      return new Date();\n",
       "    }\n",
       "  \n",
       "    var force = false;\n",
       "  \n",
       "    if (typeof (window._bokeh_onload_callbacks) === \"undefined\" || force === true) {\n",
       "      window._bokeh_onload_callbacks = [];\n",
       "      window._bokeh_is_loading = undefined;\n",
       "    }\n",
       "  \n",
       "  \n",
       "    \n",
       "    if (typeof (window._bokeh_timeout) === \"undefined\" || force === true) {\n",
       "      window._bokeh_timeout = Date.now() + 0;\n",
       "      window._bokeh_failed_load = false;\n",
       "    }\n",
       "  \n",
       "    var NB_LOAD_WARNING = {'data': {'text/html':\n",
       "       \"<div style='background-color: #fdd'>\\n\"+\n",
       "       \"<p>\\n\"+\n",
       "       \"BokehJS does not appear to have successfully loaded. If loading BokehJS from CDN, this \\n\"+\n",
       "       \"may be due to a slow or bad network connection. Possible fixes:\\n\"+\n",
       "       \"</p>\\n\"+\n",
       "       \"<ul>\\n\"+\n",
       "       \"<li>re-rerun `output_notebook()` to attempt to load from CDN again, or</li>\\n\"+\n",
       "       \"<li>use INLINE resources instead, as so:</li>\\n\"+\n",
       "       \"</ul>\\n\"+\n",
       "       \"<code>\\n\"+\n",
       "       \"from bokeh.resources import INLINE\\n\"+\n",
       "       \"output_notebook(resources=INLINE)\\n\"+\n",
       "       \"</code>\\n\"+\n",
       "       \"</div>\"}};\n",
       "  \n",
       "    function display_loaded() {\n",
       "      if (window.Bokeh !== undefined) {\n",
       "        document.getElementById(\"2ddece27-b2a0-4908-a244-f205209744b9\").textContent = \"BokehJS successfully loaded.\";\n",
       "      } else if (Date.now() < window._bokeh_timeout) {\n",
       "        setTimeout(display_loaded, 100)\n",
       "      }\n",
       "    }\n",
       "  \n",
       "    function run_callbacks() {\n",
       "      window._bokeh_onload_callbacks.forEach(function(callback) { callback() });\n",
       "      delete window._bokeh_onload_callbacks\n",
       "      console.info(\"Bokeh: all callbacks have finished\");\n",
       "    }\n",
       "  \n",
       "    function load_libs(js_urls, callback) {\n",
       "      window._bokeh_onload_callbacks.push(callback);\n",
       "      if (window._bokeh_is_loading > 0) {\n",
       "        console.log(\"Bokeh: BokehJS is being loaded, scheduling callback at\", now());\n",
       "        return null;\n",
       "      }\n",
       "      if (js_urls == null || js_urls.length === 0) {\n",
       "        run_callbacks();\n",
       "        return null;\n",
       "      }\n",
       "      console.log(\"Bokeh: BokehJS not loaded, scheduling load and callback at\", now());\n",
       "      window._bokeh_is_loading = js_urls.length;\n",
       "      for (var i = 0; i < js_urls.length; i++) {\n",
       "        var url = js_urls[i];\n",
       "        var s = document.createElement('script');\n",
       "        s.src = url;\n",
       "        s.async = false;\n",
       "        s.onreadystatechange = s.onload = function() {\n",
       "          window._bokeh_is_loading--;\n",
       "          if (window._bokeh_is_loading === 0) {\n",
       "            console.log(\"Bokeh: all BokehJS libraries loaded\");\n",
       "            run_callbacks()\n",
       "          }\n",
       "        };\n",
       "        s.onerror = function() {\n",
       "          console.warn(\"failed to load library \" + url);\n",
       "        };\n",
       "        console.log(\"Bokeh: injecting script tag for BokehJS library: \", url);\n",
       "        document.getElementsByTagName(\"head\")[0].appendChild(s);\n",
       "      }\n",
       "    };var element = document.getElementById(\"2ddece27-b2a0-4908-a244-f205209744b9\");\n",
       "    if (element == null) {\n",
       "      console.log(\"Bokeh: ERROR: autoload.js configured with elementid '2ddece27-b2a0-4908-a244-f205209744b9' but no matching script tag was found. \")\n",
       "      return false;\n",
       "    }\n",
       "  \n",
       "    var js_urls = [];\n",
       "  \n",
       "    var inline_js = [\n",
       "      function(Bokeh) {\n",
       "        (function() {\n",
       "          var fn = function() {\n",
       "            var docs_json = {\"2d6e594d-82c5-4097-a5fc-82630fcdb56b\":{\"roots\":{\"references\":[{\"attributes\":{\"active_drag\":\"auto\",\"active_scroll\":\"auto\",\"active_tap\":\"auto\",\"tools\":[{\"id\":\"ea767f9f-f422-4990-a245-2c03844febff\",\"type\":\"PanTool\"},{\"id\":\"3c52770f-fd53-4a5d-9e9c-619d4891e682\",\"type\":\"WheelZoomTool\"},{\"id\":\"fd8e4be7-e29c-43ff-a389-b386ead7403a\",\"type\":\"BoxZoomTool\"},{\"id\":\"bed363db-35c8-444a-a612-ccaf7b4df512\",\"type\":\"SaveTool\"},{\"id\":\"552700dc-88d8-4050-be61-e159e3bea8fb\",\"type\":\"ResetTool\"},{\"id\":\"c561ddc1-6416-4362-a1c6-8c5475ffdaf5\",\"type\":\"HelpTool\"}]},\"id\":\"ba2ac541-ea0f-48be-9406-c8d7d8cd2201\",\"type\":\"Toolbar\"},{\"attributes\":{\"overlay\":{\"id\":\"448b08a5-1c67-4df5-ab9d-787881873cb7\",\"type\":\"BoxAnnotation\"},\"plot\":{\"id\":\"5d3001de-d730-4055-b615-acde773c1e1b\",\"subtype\":\"Chart\",\"type\":\"Plot\"}},\"id\":\"fd8e4be7-e29c-43ff-a389-b386ead7403a\",\"type\":\"BoxZoomTool\"},{\"attributes\":{\"bottom_units\":\"screen\",\"fill_alpha\":{\"value\":0.5},\"fill_color\":{\"value\":\"lightgrey\"},\"left_units\":\"screen\",\"level\":\"overlay\",\"line_alpha\":{\"value\":1.0},\"line_color\":{\"value\":\"black\"},\"line_dash\":[4,4],\"line_width\":{\"value\":2},\"plot\":null,\"render_mode\":\"css\",\"right_units\":\"screen\",\"top_units\":\"screen\"},\"id\":\"448b08a5-1c67-4df5-ab9d-787881873cb7\",\"type\":\"BoxAnnotation\"},{\"attributes\":{\"data_source\":{\"id\":\"6e4285a8-0a44-4835-90ad-bd780633ab55\",\"type\":\"ColumnDataSource\"},\"glyph\":{\"id\":\"ef88db81-24f9-4c39-a42c-4535e987ef48\",\"type\":\"Line\"},\"hover_glyph\":null,\"nonselection_glyph\":{\"id\":\"fb0129ab-2c1e-4d14-94f0-40be7fd239fb\",\"type\":\"Line\"},\"selection_glyph\":null},\"id\":\"5a2131a4-b6b6-4038-b379-464b61feaff4\",\"type\":\"GlyphRenderer\"},{\"attributes\":{\"plot\":{\"id\":\"5d3001de-d730-4055-b615-acde773c1e1b\",\"subtype\":\"Chart\",\"type\":\"Plot\"}},\"id\":\"552700dc-88d8-4050-be61-e159e3bea8fb\",\"type\":\"ResetTool\"},{\"attributes\":{\"plot\":{\"id\":\"5d3001de-d730-4055-b615-acde773c1e1b\",\"subtype\":\"Chart\",\"type\":\"Plot\"}},\"id\":\"3c52770f-fd53-4a5d-9e9c-619d4891e682\",\"type\":\"WheelZoomTool\"},{\"attributes\":{\"axis_label\":\"x1\",\"formatter\":{\"id\":\"4504b2e5-1f9b-4b7d-b61f-74293d6ffabf\",\"type\":\"BasicTickFormatter\"},\"plot\":{\"id\":\"5d3001de-d730-4055-b615-acde773c1e1b\",\"subtype\":\"Chart\",\"type\":\"Plot\"},\"ticker\":{\"id\":\"695e50e9-496e-4b6a-afd4-d4c61a792b89\",\"type\":\"BasicTicker\"}},\"id\":\"619821d3-6475-4e47-970b-77d7d01e2b08\",\"type\":\"LinearAxis\"},{\"attributes\":{\"callback\":null,\"end\":10.977726039447822,\"start\":-0.97551268942296},\"id\":\"28c91960-4f9c-4529-b8a7-20cf617c7c91\",\"type\":\"Range1d\"},{\"attributes\":{\"fill_alpha\":{\"value\":0.7},\"fill_color\":{\"value\":\"lightgrey\"},\"line_color\":{\"value\":\"lightgrey\"},\"size\":{\"units\":\"screen\",\"value\":8},\"x\":{\"field\":\"x_values\"},\"y\":{\"field\":\"y_values\"}},\"id\":\"82a31654-f60f-45bc-a313-6a0b93239a7d\",\"type\":\"Circle\"},{\"attributes\":{\"plot\":{\"id\":\"5d3001de-d730-4055-b615-acde773c1e1b\",\"subtype\":\"Chart\",\"type\":\"Plot\"}},\"id\":\"bed363db-35c8-444a-a612-ccaf7b4df512\",\"type\":\"SaveTool\"},{\"attributes\":{\"label\":{\"value\":\"Correct\"},\"renderers\":[{\"id\":\"66cbb4ba-6387-4934-9865-8c343fb06315\",\"type\":\"GlyphRenderer\"}]},\"id\":\"dc50e75a-8623-4ae6-92e1-39ba1b44bea7\",\"type\":\"LegendItem\"},{\"attributes\":{\"dimension\":1,\"plot\":{\"id\":\"5d3001de-d730-4055-b615-acde773c1e1b\",\"subtype\":\"Chart\",\"type\":\"Plot\"},\"ticker\":{\"id\":\"cd90ce25-a0de-4f55-b29e-a52afd8cfbc3\",\"type\":\"BasicTicker\"}},\"id\":\"49621f24-5d4d-406f-80e5-cb0b44a25659\",\"type\":\"Grid\"},{\"attributes\":{},\"id\":\"695e50e9-496e-4b6a-afd4-d4c61a792b89\",\"type\":\"BasicTicker\"},{\"attributes\":{\"plot\":{\"id\":\"5d3001de-d730-4055-b615-acde773c1e1b\",\"subtype\":\"Chart\",\"type\":\"Plot\"}},\"id\":\"ea767f9f-f422-4990-a245-2c03844febff\",\"type\":\"PanTool\"},{\"attributes\":{\"items\":[{\"id\":\"dc50e75a-8623-4ae6-92e1-39ba1b44bea7\",\"type\":\"LegendItem\"},{\"id\":\"7e2d9089-8dc7-4ea3-9439-717079c1130f\",\"type\":\"LegendItem\"}],\"location\":\"top_left\",\"plot\":{\"id\":\"5d3001de-d730-4055-b615-acde773c1e1b\",\"subtype\":\"Chart\",\"type\":\"Plot\"}},\"id\":\"555a49a9-f05f-4679-b571-93fe8982677a\",\"type\":\"Legend\"},{\"attributes\":{},\"id\":\"cd90ce25-a0de-4f55-b29e-a52afd8cfbc3\",\"type\":\"BasicTicker\"},{\"attributes\":{\"callback\":null,\"column_names\":[\"x_values\",\"y_values\"],\"data\":{\"chart_index\":[{\"correct\":\"Incorrect\"},{\"correct\":\"Incorrect\"},{\"correct\":\"Incorrect\"},{\"correct\":\"Incorrect\"},{\"correct\":\"Incorrect\"},{\"correct\":\"Incorrect\"},{\"correct\":\"Incorrect\"},{\"correct\":\"Incorrect\"},{\"correct\":\"Incorrect\"},{\"correct\":\"Incorrect\"},{\"correct\":\"Incorrect\"},{\"correct\":\"Incorrect\"}],\"correct\":[\"Incorrect\",\"Incorrect\",\"Incorrect\",\"Incorrect\",\"Incorrect\",\"Incorrect\",\"Incorrect\",\"Incorrect\",\"Incorrect\",\"Incorrect\",\"Incorrect\",\"Incorrect\"],\"x_values\":{\"__ndarray__\":\"icIOw16MG0CdpsebwHQjQO6xTU8Qex9ARi6XnpN6GECyZSdBjUMZQOSocPXgTRVAGpRBH9nSH0BBooOgeHIbQD5yeFnKEBpAZ0TPs/uuG0BHTD6CtFQaQGGX5BZsWhxA\",\"dtype\":\"float64\",\"shape\":[12]},\"y_values\":{\"__ndarray__\":\"UkPKtTNQ5j8+M0K6gHAJQO3s2x7Htvs/BoWwpTdl8z9U1/8riYMGQJCpOilX4ME/SNWBXnVVBEBShfDzFMPhPyS8Fklh+vM/tjvmnzvPBUAeHo2Q3YgMQBad+lwbsAJA\",\"dtype\":\"float64\",\"shape\":[12]}}},\"id\":\"9cafaa73-e4a6-4cfd-88ac-11dfc2da14ae\",\"type\":\"ColumnDataSource\"},{\"attributes\":{\"callback\":null,\"end\":10.892378736047483,\"start\":-0.9817506193304097},\"id\":\"37e557d5-04f9-4416-b958-7f7a4fee4093\",\"type\":\"Range1d\"},{\"attributes\":{\"data_source\":{\"id\":\"9cafaa73-e4a6-4cfd-88ac-11dfc2da14ae\",\"type\":\"ColumnDataSource\"},\"glyph\":{\"id\":\"a61a12ab-de26-4d02-a5ae-990265087ecd\",\"type\":\"Square\"},\"hover_glyph\":null,\"nonselection_glyph\":null,\"selection_glyph\":null},\"id\":\"34c74c7c-f300-4aaa-8dd5-b9a446874186\",\"type\":\"GlyphRenderer\"},{\"attributes\":{\"axis_label\":\"x2\",\"formatter\":{\"id\":\"991fab7e-5a91-4006-a8a5-5ef7119d1566\",\"type\":\"BasicTickFormatter\"},\"plot\":{\"id\":\"5d3001de-d730-4055-b615-acde773c1e1b\",\"subtype\":\"Chart\",\"type\":\"Plot\"},\"ticker\":{\"id\":\"cd90ce25-a0de-4f55-b29e-a52afd8cfbc3\",\"type\":\"BasicTicker\"}},\"id\":\"3e8f77eb-df35-4a95-b742-bdc403586430\",\"type\":\"LinearAxis\"},{\"attributes\":{\"plot\":{\"id\":\"5d3001de-d730-4055-b615-acde773c1e1b\",\"subtype\":\"Chart\",\"type\":\"Plot\"},\"ticker\":{\"id\":\"695e50e9-496e-4b6a-afd4-d4c61a792b89\",\"type\":\"BasicTicker\"}},\"id\":\"37b6a804-a901-4664-96d7-14996ce97919\",\"type\":\"Grid\"},{\"attributes\":{\"label\":{\"value\":\"Incorrect\"},\"renderers\":[{\"id\":\"34c74c7c-f300-4aaa-8dd5-b9a446874186\",\"type\":\"GlyphRenderer\"}]},\"id\":\"7e2d9089-8dc7-4ea3-9439-717079c1130f\",\"type\":\"LegendItem\"},{\"attributes\":{\"fill_alpha\":{\"value\":0.7},\"fill_color\":{\"value\":\"darkred\"},\"line_color\":{\"value\":\"darkred\"},\"size\":{\"units\":\"screen\",\"value\":8},\"x\":{\"field\":\"x_values\"},\"y\":{\"field\":\"y_values\"}},\"id\":\"a61a12ab-de26-4d02-a5ae-990265087ecd\",\"type\":\"Square\"},{\"attributes\":{\"callback\":null,\"column_names\":[\"x_values\",\"y_values\"],\"data\":{\"chart_index\":[{\"correct\":\"Correct\"},{\"correct\":\"Correct\"},{\"correct\":\"Correct\"},{\"correct\":\"Correct\"},{\"correct\":\"Correct\"},{\"correct\":\"Correct\"},{\"correct\":\"Correct\"},{\"correct\":\"Correct\"},{\"correct\":\"Correct\"},{\"correct\":\"Correct\"},{\"correct\":\"Correct\"},{\"correct\":\"Correct\"},{\"correct\":\"Correct\"},{\"correct\":\"Correct\"},{\"correct\":\"Correct\"},{\"correct\":\"Correct\"},{\"correct\":\"Correct\"},{\"correct\":\"Correct\"},{\"correct\":\"Correct\"},{\"correct\":\"Correct\"},{\"correct\":\"Correct\"},{\"correct\":\"Correct\"},{\"correct\":\"Correct\"},{\"correct\":\"Correct\"},{\"correct\":\"Correct\"},{\"correct\":\"Correct\"},{\"correct\":\"Correct\"},{\"correct\":\"Correct\"},{\"correct\":\"Correct\"},{\"correct\":\"Correct\"},{\"correct\":\"Correct\"},{\"correct\":\"Correct\"},{\"correct\":\"Correct\"},{\"correct\":\"Correct\"},{\"correct\":\"Correct\"},{\"correct\":\"Correct\"},{\"correct\":\"Correct\"},{\"correct\":\"Correct\"},{\"correct\":\"Correct\"},{\"correct\":\"Correct\"},{\"correct\":\"Correct\"},{\"correct\":\"Correct\"},{\"correct\":\"Correct\"},{\"correct\":\"Correct\"},{\"correct\":\"Correct\"},{\"correct\":\"Correct\"},{\"correct\":\"Correct\"},{\"correct\":\"Correct\"},{\"correct\":\"Correct\"},{\"correct\":\"Correct\"},{\"correct\":\"Correct\"},{\"correct\":\"Correct\"},{\"correct\":\"Correct\"},{\"correct\":\"Correct\"},{\"correct\":\"Correct\"},{\"correct\":\"Correct\"},{\"correct\":\"Correct\"},{\"correct\":\"Correct\"},{\"correct\":\"Correct\"},{\"correct\":\"Correct\"},{\"correct\":\"Correct\"},{\"correct\":\"Correct\"},{\"correct\":\"Correct\"},{\"correct\":\"Correct\"},{\"correct\":\"Correct\"},{\"correct\":\"Correct\"},{\"correct\":\"Correct\"},{\"correct\":\"Correct\"},{\"correct\":\"Correct\"},{\"correct\":\"Correct\"},{\"correct\":\"Correct\"},{\"correct\":\"Correct\"},{\"correct\":\"Correct\"},{\"correct\":\"Correct\"},{\"correct\":\"Correct\"},{\"correct\":\"Correct\"},{\"correct\":\"Correct\"},{\"correct\":\"Correct\"},{\"correct\":\"Correct\"},{\"correct\":\"Correct\"},{\"correct\":\"Correct\"},{\"correct\":\"Correct\"},{\"correct\":\"Correct\"},{\"correct\":\"Correct\"},{\"correct\":\"Correct\"},{\"correct\":\"Correct\"},{\"correct\":\"Correct\"},{\"correct\":\"Correct\"},{\"correct\":\"Correct\"},{\"correct\":\"Correct\"},{\"correct\":\"Correct\"},{\"correct\":\"Correct\"},{\"correct\":\"Correct\"},{\"correct\":\"Correct\"},{\"correct\":\"Correct\"},{\"correct\":\"Correct\"},{\"correct\":\"Correct\"},{\"correct\":\"Correct\"},{\"correct\":\"Correct\"},{\"correct\":\"Correct\"},{\"correct\":\"Correct\"},{\"correct\":\"Correct\"},{\"correct\":\"Correct\"},{\"correct\":\"Correct\"},{\"correct\":\"Correct\"},{\"correct\":\"Correct\"},{\"correct\":\"Correct\"},{\"correct\":\"Correct\"},{\"correct\":\"Correct\"},{\"correct\":\"Correct\"},{\"correct\":\"Correct\"},{\"correct\":\"Correct\"},{\"correct\":\"Correct\"},{\"correct\":\"Correct\"},{\"correct\":\"Correct\"},{\"correct\":\"Correct\"},{\"correct\":\"Correct\"},{\"correct\":\"Correct\"},{\"correct\":\"Correct\"},{\"correct\":\"Correct\"},{\"correct\":\"Correct\"},{\"correct\":\"Correct\"},{\"correct\":\"Correct\"},{\"correct\":\"Correct\"},{\"correct\":\"Correct\"},{\"correct\":\"Correct\"},{\"correct\":\"Correct\"},{\"correct\":\"Correct\"},{\"correct\":\"Correct\"},{\"correct\":\"Correct\"},{\"correct\":\"Correct\"},{\"correct\":\"Correct\"},{\"correct\":\"Correct\"},{\"correct\":\"Correct\"},{\"correct\":\"Correct\"},{\"correct\":\"Correct\"},{\"correct\":\"Correct\"},{\"correct\":\"Correct\"}],\"correct\":[\"Correct\",\"Correct\",\"Correct\",\"Correct\",\"Correct\",\"Correct\",\"Correct\",\"Correct\",\"Correct\",\"Correct\",\"Correct\",\"Correct\",\"Correct\",\"Correct\",\"Correct\",\"Correct\",\"Correct\",\"Correct\",\"Correct\",\"Correct\",\"Correct\",\"Correct\",\"Correct\",\"Correct\",\"Correct\",\"Correct\",\"Correct\",\"Correct\",\"Correct\",\"Correct\",\"Correct\",\"Correct\",\"Correct\",\"Correct\",\"Correct\",\"Correct\",\"Correct\",\"Correct\",\"Correct\",\"Correct\",\"Correct\",\"Correct\",\"Correct\",\"Correct\",\"Correct\",\"Correct\",\"Correct\",\"Correct\",\"Correct\",\"Correct\",\"Correct\",\"Correct\",\"Correct\",\"Correct\",\"Correct\",\"Correct\",\"Correct\",\"Correct\",\"Correct\",\"Correct\",\"Correct\",\"Correct\",\"Correct\",\"Correct\",\"Correct\",\"Correct\",\"Correct\",\"Correct\",\"Correct\",\"Correct\",\"Correct\",\"Correct\",\"Correct\",\"Correct\",\"Correct\",\"Correct\",\"Correct\",\"Correct\",\"Correct\",\"Correct\",\"Correct\",\"Correct\",\"Correct\",\"Correct\",\"Correct\",\"Correct\",\"Correct\",\"Correct\",\"Correct\",\"Correct\",\"Correct\",\"Correct\",\"Correct\",\"Correct\",\"Correct\",\"Correct\",\"Correct\",\"Correct\",\"Correct\",\"Correct\",\"Correct\",\"Correct\",\"Correct\",\"Correct\",\"Correct\",\"Correct\",\"Correct\",\"Correct\",\"Correct\",\"Correct\",\"Correct\",\"Correct\",\"Correct\",\"Correct\",\"Correct\",\"Correct\",\"Correct\",\"Correct\",\"Correct\",\"Correct\",\"Correct\",\"Correct\",\"Correct\",\"Correct\",\"Correct\",\"Correct\",\"Correct\",\"Correct\",\"Correct\",\"Correct\",\"Correct\",\"Correct\",\"Correct\",\"Correct\",\"Correct\",\"Correct\",\"Correct\",\"Correct\"],\"x_values\":{\"__ndarray__\":\"vSwKvhgKG0AJ5Suyoo8fQI6rLN8plAhAeruA7Y08G0AticWPPkIdQHfsLwiCUCBA+h1MggZZHUBS+4YE8DcKQAG6c2ooZhRAcoqH2Jcd+z/JGQCtwYMLQFLxW82xjRpA2G0f3cyj2j8jPFX1j/v6P8RsxGsNzd4/UhoOTwIq/j9+Pv1BFygVQIg1mOtXRiFAwr5aqqdAC0Dhzag55dQhQJDj6RotAtc/WU7A0lCsA0DSfDl2zeEiQFiO9yhPbyBAL9fLbNHGGUAnKtKWIAEAQKghlymsOxRAi7nHrcgMEUBSShJXcs0MQKJP91IJFCJAqe09Jk2BHkCUlhdyf+IYQGCw4GLPmqQ/DmEVOm4aCECCoSD/1UsAQHNQBjqkEyNAUIFv1e9iIkAT/M/5qxoFQKT1E/TgtgtA4AONVEgYIECTKYBgTmQeQJdQgRLLWhJA5M7rSGMu/T/cHNsT4MMeQLzgR/gzOAtAoxfE80Y8BEAnKf6kA70jQNqambLAq/M/E7AfPgrSHECXsoOQ8CcbQKPa7W7TsRRAcHQEmW3XD0AY6s2OrTsJQLrzwtkcpgJAaHplhi0g5j9qLTlGTcsjQFywVY0IDQ5Ak7tjYFtOEUBTgdySdZoFQKrBrjvEFPI/8knuXLPjEECDntRkcWwYQHy75/iVMNI/AOkhKh7Jfz9DN2tzDDEVQDJaQ1qHAwJAytMJJ0YkI0BF7SiS6+4JQBRYSD1YpiFAcgKdNxV5EUDrBoXg5b34P2X3h1nESx9AEJKFzXtOvT9yBz2erZQQQCD4crVEziNAJl8J7CgQFEDdIyxYzFsVQH+NAYmX/hlAAoyf3aU0IkA1DerAg28aQFYhUeB4AgZA5j9Rp4pFA0DUn+ffRIwhQBRy2M+GtgNAfa4ixxLiHkCWLd/EUwkgQP5+IZE4eg1Ax5m+ugIxG0CSzljWvUggQMTgCyWyeRdAxNuUZP/kG0CK7MHWkcAQQNYLnibxRQhARKxInH3e/j/0/YT8G34bQPNfN8QJyQ9AzssDJvUAG0BnaG0ztV78P5ZXEY013yBA93srxdVTHkAWxN9tSvQOQK+le6KA6QhAFFBdOfuCHUDvbkagZRcWQP4qMeNRQRpAdJwvtbP93D/sPjTQ3/ATQNrORlJTjSNAC4ydsLM9FUDqoUxW7KPzPzSpTIxxEAZAZdhEagJLIUDzgVqQtWIdQGULXIk9Kw5AHEmg3u20HUAJRHPN2k//P83grbk1byBAEpzdMKbkIUAEaynddwICQHBPigNjLRxAomYz5QB5GEAqPU38Isn8P2+8ClHsPfc/a6dkZjz4GkB2BofOJoYTQICr6aiRwBxAZKWFIefBG0C7TrHMvEogQMb681f/DQNAtQqrHsYYIUCB3EtIsNv4P0wbzG+DDA9A/jarZKOCFUD05hvWuJQiQD5JPGz4sxtA876WIcKoIEC9MTZpDBgcQG2RUo5vWgBA\",\"dtype\":\"float64\",\"shape\":[138]},\"y_values\":{\"__ndarray__\":\"ioRmjyDOIEDK7RnkU30jQNwYVcPz0yFA8oqMCqEZIUAQUAO4LeEhQCDqxf62p7M/GuQqMYAG6j9+qs+MSmgZQK2674lZoRlALJybHWw4HkD8eUNxCbvQP7BNHJb5lRtAUpzT37y1CkDaHjxFHJsiQEU5r6eAPxRA85TYGXWfEECtDPTYviEgQNcSYH0oNyNAOivIatlp5T+FZqZvqnIIQLJrAOLjRBBAFDqF4L2ZIEDIQkR6vbUcQJh7uLugPhZAiCn6UsIQ6j8MlLt4IPkgQCzgoUuqSBBABX9/9HkMHkCKdOVDl/YjQN9vZfYEl/g/KPyfgpn9HUAkZSek6mvYP7ZzM7BxAOc/LqxnsBneI0BrFlbdlkv9P35JM8JRKSJAIgrlS8PMF0AYdbG4/3H0PxsR3RmoqxtA7CmqvKL9IECIxwNIP1MZQDboiRTZIBRAN+vFqbm+8z98VQ/3r5kWQIxNBawgOhlAwKkv6301IECwRCPOJucgQLB5kCHq+iBAjXOTjC+LI0BynXaY/hAWQOdoqHT06wtAgCwJd4zpHUDM4MgVFbX9PxG0rO6l9B5ARhvhTZ26B0DNO9+d+N0LQL5pIp6opPU/TDjhpVJ9HUAKKn0hXkYhQC8SxLfphf4/+sWdd+57I0ASg9Zd4m0QQCCJJP/QpB5AM8fTSgwR+j8ywAPG1NkeQHMxL8miDx9AwmIF1bFNIkAyhFTrUTgjQOCRbbEKpAVAhbFk0hiKB0B56gJpL+8XQM1szGTavBdAfGufadcRGkBIdsdv2lgSQPuedra5jA9Aelb9H1oPF0Ay+bLfNZYQQKLwRig/n+A/BsZC/udmEkAjB2qlZ/YMQCtpuIgpJCBAcWtqUdMKI0CaZ8rOQxjzP5kAhSTT5CBA8v/e0AKLI0BWXpNHjp0UQIobO8S6ByBADV0f3nlmEUAAnvmcrxWVP1Lp71rE/ARAcqvu188oGkD1c4SizXUiQBoAMmhnLyBAsccSDFF7IECasHBySqQCQJH2GGbpMhRAWgAn5AwdIUBNXEDV8n4UQBxIZFlmvwlAnRj6FQPaEEAYvwHmrwQHQHClyQCJLwdAlqYRryOU4z/IcukWvXXePzxOj8rDpg9AAExlHHtF7D9yjdpveQIiQHv05SRnOiNAAF5c1LwrHkBA8EEvYJoeQNus3MPlu/I/4JaMh1H52j+8IN2s/TsMQHwtKSPT+BhA2v3YJXHiEkAaZIKF7y8YQKAWDpY/Ex5Ayetghv6sE0B6ClnyShEaQBi5XttWryNA3Do/85sCIEBwvvOpB64XQKrXepJHgCBATBSkrCncHECiIrEmVFQWQHC6uY6okCFAraR7248MH0A9f13/5IAXQCO00joAzBhAon8rrTBjGkBogJGFb58MQIr2OhIYlAdAGZ4GwRxrGECM+lKFB4n6P9Q/e3JDORZAuDXfOVnl+T9WwiQYpJwBQNLNcm6WAgZA\",\"dtype\":\"float64\",\"shape\":[138]}}},\"id\":\"708cbc6b-13cc-4694-b530-8201842ab347\",\"type\":\"ColumnDataSource\"},{\"attributes\":{\"line_alpha\":{\"value\":0.1},\"line_color\":{\"value\":\"#1f77b4\"},\"x\":{\"field\":\"x\"},\"y\":{\"field\":\"y\"}},\"id\":\"fb0129ab-2c1e-4d14-94f0-40be7fd239fb\",\"type\":\"Line\"},{\"attributes\":{\"callback\":null,\"column_names\":[\"x\",\"y\"],\"data\":{\"x\":{\"__ndarray__\":\"AAAAAAAAAACIxvrQWB/KP4jG+tBYH9o/5hS8nIKX4z+IxvrQWB/qPxW8nIKXU/A/5hS8nIKX8z+3bdu2bdv2P4jG+tBYH/o/WR8a60Nj/T8VvJyCl1MAQH5orA+N9QFA5hS8nIKXA0BOwcspeDkFQLdt27Zt2wZAIBrrQ2N9CECIxvrQWB8KQPByCl5OwQtAWR8a60NjDUDCyyl4OQUPQBW8nIKXUxBASZIkSZIkEUB+aKwPjfURQLI+NNaHxhJA5hS8nIKXE0Aa60NjfWgUQE7Byyl4ORVAg5dT8HIKFkC3bdu2bdsWQOtDY31orBdAIBrrQ2N9GEBU8HIKXk4ZQIjG+tBYHxpAvJyCl1PwGkDwcgpeTsEbQCVJkiRJkhxAWR8a60NjHUCN9aGxPjQeQMLLKXg5BR9A9qGxPjTWH0AVvJyCl1MgQC+n4OUUvCBASZIkSZIkIUBjfWisD40hQH5orA+N9SFAmFPwcgpeIkCyPjTWh8YiQMwpeDkFLyNA5hS8nIKXI0AAAAAAAAAkQA==\",\"dtype\":\"float64\",\"shape\":[50]},\"y\":[-4.699464376767789,-4.510084706161679,-4.320705035555569,-4.1313253649494595,-3.941945694343349,-3.752566023737239,-3.5631863531311287,-3.373806682525019,-3.184427011918909,-2.995047341312799,-2.8056676707066885,-2.616288000100578,-2.426908329494468,-2.2375286588883587,-2.0481489882822483,-1.8587693176761377,-1.6693896470700282,-1.4800099764639183,-1.2906303058578081,-1.1012506352516975,-0.9118709646455875,-0.722491294039478,-0.5331116234333674,-0.34373195282725727,-0.15435228222114722,0.03502738838496223,0.2244070589910723,0.413786729597183,0.603166400203293,0.7925460708094024,0.9819257414155138,1.1713054120216233,1.3606850826277326,1.5500647532338434,1.7394444238399527,1.9288240944460635,2.118203765052173,2.3075834356582834,2.496963106264394,2.6863427768705037,2.8757224474766145,3.065102118082724,3.254481788688833,3.443861459294944,3.6332411299010547,3.822620800507165,4.012000471113275,4.201380141719384,4.390759812325495,4.580139482931604]}},\"id\":\"6e4285a8-0a44-4835-90ad-bd780633ab55\",\"type\":\"ColumnDataSource\"},{\"attributes\":{},\"id\":\"4504b2e5-1f9b-4b7d-b61f-74293d6ffabf\",\"type\":\"BasicTickFormatter\"},{\"attributes\":{\"plot\":{\"id\":\"5d3001de-d730-4055-b615-acde773c1e1b\",\"subtype\":\"Chart\",\"type\":\"Plot\"}},\"id\":\"c561ddc1-6416-4362-a1c6-8c5475ffdaf5\",\"type\":\"HelpTool\"},{\"attributes\":{\"line_color\":{\"value\":\"darkblue\"},\"x\":{\"field\":\"x\"},\"y\":{\"field\":\"y\"}},\"id\":\"ef88db81-24f9-4c39-a42c-4535e987ef48\",\"type\":\"Line\"},{\"attributes\":{\"plot\":null,\"text\":null},\"id\":\"79ee74f5-145b-4cb9-86e9-a621f71a3ea3\",\"type\":\"Title\"},{\"attributes\":{},\"id\":\"ebb3fdf0-e34d-4177-865f-051747501baf\",\"type\":\"ToolEvents\"},{\"attributes\":{},\"id\":\"991fab7e-5a91-4006-a8a5-5ef7119d1566\",\"type\":\"BasicTickFormatter\"},{\"attributes\":{\"below\":[{\"id\":\"619821d3-6475-4e47-970b-77d7d01e2b08\",\"type\":\"LinearAxis\"}],\"css_classes\":null,\"height\":500,\"left\":[{\"id\":\"3e8f77eb-df35-4a95-b742-bdc403586430\",\"type\":\"LinearAxis\"}],\"renderers\":[{\"id\":\"448b08a5-1c67-4df5-ab9d-787881873cb7\",\"type\":\"BoxAnnotation\"},{\"id\":\"66cbb4ba-6387-4934-9865-8c343fb06315\",\"type\":\"GlyphRenderer\"},{\"id\":\"34c74c7c-f300-4aaa-8dd5-b9a446874186\",\"type\":\"GlyphRenderer\"},{\"id\":\"555a49a9-f05f-4679-b571-93fe8982677a\",\"type\":\"Legend\"},{\"id\":\"619821d3-6475-4e47-970b-77d7d01e2b08\",\"type\":\"LinearAxis\"},{\"id\":\"3e8f77eb-df35-4a95-b742-bdc403586430\",\"type\":\"LinearAxis\"},{\"id\":\"37b6a804-a901-4664-96d7-14996ce97919\",\"type\":\"Grid\"},{\"id\":\"49621f24-5d4d-406f-80e5-cb0b44a25659\",\"type\":\"Grid\"},{\"id\":\"5a2131a4-b6b6-4038-b379-464b61feaff4\",\"type\":\"GlyphRenderer\"}],\"title\":{\"id\":\"79ee74f5-145b-4cb9-86e9-a621f71a3ea3\",\"type\":\"Title\"},\"tool_events\":{\"id\":\"ebb3fdf0-e34d-4177-865f-051747501baf\",\"type\":\"ToolEvents\"},\"toolbar\":{\"id\":\"ba2ac541-ea0f-48be-9406-c8d7d8cd2201\",\"type\":\"Toolbar\"},\"width\":500,\"x_mapper_type\":\"auto\",\"x_range\":{\"id\":\"37e557d5-04f9-4416-b958-7f7a4fee4093\",\"type\":\"Range1d\"},\"y_mapper_type\":\"auto\",\"y_range\":{\"id\":\"28c91960-4f9c-4529-b8a7-20cf617c7c91\",\"type\":\"Range1d\"}},\"id\":\"5d3001de-d730-4055-b615-acde773c1e1b\",\"subtype\":\"Chart\",\"type\":\"Plot\"},{\"attributes\":{\"data_source\":{\"id\":\"708cbc6b-13cc-4694-b530-8201842ab347\",\"type\":\"ColumnDataSource\"},\"glyph\":{\"id\":\"82a31654-f60f-45bc-a313-6a0b93239a7d\",\"type\":\"Circle\"},\"hover_glyph\":null,\"nonselection_glyph\":null,\"selection_glyph\":null},\"id\":\"66cbb4ba-6387-4934-9865-8c343fb06315\",\"type\":\"GlyphRenderer\"}],\"root_ids\":[\"5d3001de-d730-4055-b615-acde773c1e1b\"]},\"title\":\"Bokeh Application\",\"version\":\"0.12.4\"}};\n",
       "            var render_items = [{\"docid\":\"2d6e594d-82c5-4097-a5fc-82630fcdb56b\",\"elementid\":\"2ddece27-b2a0-4908-a244-f205209744b9\",\"modelid\":\"5d3001de-d730-4055-b615-acde773c1e1b\"}];\n",
       "            \n",
       "            Bokeh.embed.embed_items(docs_json, render_items);\n",
       "          };\n",
       "          if (document.readyState != \"loading\") fn();\n",
       "          else document.addEventListener(\"DOMContentLoaded\", fn);\n",
       "        })();\n",
       "      },\n",
       "      function(Bokeh) {\n",
       "      }\n",
       "    ];\n",
       "  \n",
       "    function run_inline_js() {\n",
       "      \n",
       "      if ((window.Bokeh !== undefined) || (force === true)) {\n",
       "        for (var i = 0; i < inline_js.length; i++) {\n",
       "          inline_js[i](window.Bokeh);\n",
       "        }if (force === true) {\n",
       "          display_loaded();\n",
       "        }} else if (Date.now() < window._bokeh_timeout) {\n",
       "        setTimeout(run_inline_js, 100);\n",
       "      } else if (!window._bokeh_failed_load) {\n",
       "        console.log(\"Bokeh: BokehJS failed to load within specified timeout.\");\n",
       "        window._bokeh_failed_load = true;\n",
       "      } else if (force !== true) {\n",
       "        var cell = $(document.getElementById(\"2ddece27-b2a0-4908-a244-f205209744b9\")).parents('.cell').data().cell;\n",
       "        cell.output_area.append_execute_result(NB_LOAD_WARNING)\n",
       "      }\n",
       "  \n",
       "    }\n",
       "  \n",
       "    if (window._bokeh_is_loading === 0) {\n",
       "      console.log(\"Bokeh: BokehJS loaded, going straight to plotting\");\n",
       "      run_inline_js();\n",
       "    } else {\n",
       "      load_libs(js_urls, function() {\n",
       "        console.log(\"Bokeh: BokehJS plotting callback run at\", now());\n",
       "        run_inline_js();\n",
       "      });\n",
       "    }\n",
       "  }(this));\n",
       "</script>"
      ]
     },
     "metadata": {},
     "output_type": "display_data"
    }
   ],
   "source": [
    "correct = ['Correct' if yi == yh_i else 'Incorrect' for yi, yh_i in zip(y, y_hat)]\n",
    "plot_svm_results(correct, clf.intercept_[0], clf.coef_[0][0], clf.coef_[0][1])"
   ]
  },
  {
   "cell_type": "markdown",
   "metadata": {
    "deletable": true,
    "editable": true,
    "slideshow": {
     "slide_type": "slide"
    }
   },
   "source": [
    "### Support Vector Machines a la Linear Optimization"
   ]
  },
  {
   "cell_type": "markdown",
   "metadata": {
    "deletable": true,
    "editable": true,
    "slideshow": {
     "slide_type": "subslide"
    }
   },
   "source": [
    "[`PuLP`](https://github.com/coin-or/pulp/) is a modeling tool that lets us solve anything of this form.\n",
    "\n",
    "$$\n",
    "\\begin{align}\n",
    "    \\text{min}  \\ \\ \\ & \\ c'x \\\\\n",
    "    \\text{s.t.} \\ \\ \\ & \\ A x = b \\\\\n",
    "                      & \\ x \\ge 0\n",
    "\\end{align}\n",
    "$$\n",
    "\n",
    "Where $c$ and $b$ are input vectors, $A$ is an input matrix, and $x$ is a vector of real-valued decision variables."
   ]
  },
  {
   "cell_type": "markdown",
   "metadata": {
    "deletable": true,
    "editable": true,
    "slideshow": {
     "slide_type": "fragment"
    }
   },
   "source": [
    "Linear Optimization is well solved. You can assume that a linear optimizer is robust and fast for any model in that form."
   ]
  },
  {
   "cell_type": "markdown",
   "metadata": {
    "deletable": true,
    "editable": true,
    "slideshow": {
     "slide_type": "fragment"
    }
   },
   "source": [
    "PuLP can also solve discrete models, which are not so computationally easy."
   ]
  },
  {
   "cell_type": "markdown",
   "metadata": {
    "deletable": true,
    "editable": true,
    "slideshow": {
     "slide_type": "subslide"
    }
   },
   "source": [
    "How do we get our SVM problem into a linear optimizer?\n",
    "\n",
    "#### Inputs:\n",
    "\n",
    "$$(x_{i1}, x_{i2})' = \\text{column vector of inputs for observation}\\ i$$  \n",
    "  \n",
    "$$y_i \\in \\{+1, -1\\} = \\text{known classification of observation}\\ i $$ "
   ]
  },
  {
   "cell_type": "markdown",
   "metadata": {
    "deletable": true,
    "editable": true,
    "slideshow": {
     "slide_type": "fragment"
    }
   },
   "source": [
    "#### Model:\n",
    "\n",
    "The decision variables $b$, $w_1$, and $w_2$, give us a separating hyperplane $b + w'x = 0$.\n",
    "\n",
    "For each _misclassified_ observation $i$, $\\xi_i$ is its classification error. We find the best hyperplane by minimizing total error.\n",
    "\n",
    "$$\n",
    "\\begin{align}\n",
    "    \\text{min}  \\ \\ \\ & \\ \\sum_i \\xi_i \\ & \\ \\\\\n",
    "    \\text{s.t.} \\ \\ \\ & \\ b + w_1 x_{i1} + w_2 x_{i2} \\le -1 + \\xi_i\\ & \\ \\forall\\ y_i = -1 \\\\\n",
    "                      & \\ b + w_1 x_{i1} + w_2 x_{i2} \\ge +1 - \\xi_i\\ & \\ \\forall\\ y_i = +1 \\\\\n",
    "                      & \\ \\xi \\ge 0\n",
    "\\end{align}\n",
    "$$"
   ]
  },
  {
   "cell_type": "markdown",
   "metadata": {
    "deletable": true,
    "editable": true,
    "slideshow": {
     "slide_type": "subslide"
    }
   },
   "source": [
    "We can simplify the model by multiplying each constraint by $y_i$.\n",
    "\n",
    "$$\n",
    "\\begin{align}\n",
    "    \\text{min}  \\ \\ \\ & \\ \\sum_i \\xi_i \\\\\n",
    "    \\text{s.t.} \\ \\ \\ & \\ y_i (b + w_1 x_{i1} + w_2 x_{i2}) \\ge 1 - \\xi_i\\ \\forall\\ i \\\\\n",
    "                      & \\ \\xi \\ge 0\n",
    "\\end{align}\n",
    "$$"
   ]
  },
  {
   "cell_type": "markdown",
   "metadata": {
    "deletable": true,
    "editable": true,
    "slideshow": {
     "slide_type": "subslide"
    }
   },
   "source": [
    "But wait! Constraints like $a'x \\ge b$ aren't in the form you gave us!"
   ]
  },
  {
   "cell_type": "markdown",
   "metadata": {
    "deletable": true,
    "editable": true,
    "slideshow": {
     "slide_type": "fragment"
    }
   },
   "source": [
    "That's OK. They get converted by the optimizer.\n",
    "\n",
    "$$a'x - e = b$$\n",
    "$$e \\ge 0$$"
   ]
  },
  {
   "cell_type": "markdown",
   "metadata": {
    "deletable": true,
    "editable": true,
    "slideshow": {
     "slide_type": "fragment"
    }
   },
   "source": [
    "So do constraints of the form $a'x \\le b$.\n",
    "\n",
    "$$a'x + s = b$$\n",
    "$$s \\ge 0$$"
   ]
  },
  {
   "cell_type": "markdown",
   "metadata": {
    "deletable": true,
    "editable": true,
    "slideshow": {
     "slide_type": "fragment"
    }
   },
   "source": [
    "As do any variables that are unrestricted in sign.\n",
    "\n",
    "$$x_i = x_i^+ - x_i^-$$\n",
    "$$x_i^+, x_i^- \\ge 0$$"
   ]
  },
  {
   "cell_type": "markdown",
   "metadata": {
    "deletable": true,
    "editable": true,
    "slideshow": {
     "slide_type": "fragment"
    }
   },
   "source": [
    "As long as your objective function is linear and your constraints are linear and of the form $=$, $\\le$, or $\\ge$, you can solve it with a linear optimizer."
   ]
  },
  {
   "cell_type": "markdown",
   "metadata": {
    "deletable": true,
    "editable": true,
    "slideshow": {
     "slide_type": "subslide"
    }
   },
   "source": [
    "Let's get hacking. First make variables for the separating hyperplane.\n",
    "\n",
    "Note these are _unrestricted in sign_."
   ]
  },
  {
   "cell_type": "code",
   "execution_count": 21,
   "metadata": {
    "collapsed": true,
    "deletable": true,
    "editable": true
   },
   "outputs": [],
   "source": [
    "import pulp\n",
    "\n",
    "b = pulp.LpVariable('b')\n",
    "w1 = pulp.LpVariable('w1')\n",
    "w2 = pulp.LpVariable('w2')"
   ]
  },
  {
   "cell_type": "markdown",
   "metadata": {
    "deletable": true,
    "editable": true,
    "slideshow": {
     "slide_type": "subslide"
    }
   },
   "source": [
    "We also need variables for the classification errors. \n",
    "\n",
    "These are nonnegative since we only want to penalize errors, not reward the model for correct classifiations."
   ]
  },
  {
   "cell_type": "code",
   "execution_count": 22,
   "metadata": {
    "collapsed": false,
    "deletable": true,
    "editable": true
   },
   "outputs": [],
   "source": [
    "errors = []\n",
    "for i in range(len(y)):\n",
    "    e = pulp.LpVariable('e_%d' % i, lowBound=0) # lowBound=0 means >=0\n",
    "    errors.append(e)"
   ]
  },
  {
   "cell_type": "markdown",
   "metadata": {
    "deletable": true,
    "editable": true,
    "slideshow": {
     "slide_type": "subslide"
    }
   },
   "source": [
    "Build a model that records classification error based on the separating hyperplane in the appropriate variables."
   ]
  },
  {
   "cell_type": "code",
   "execution_count": 23,
   "metadata": {
    "collapsed": true,
    "deletable": true,
    "editable": true
   },
   "outputs": [],
   "source": [
    "m = pulp.LpProblem(sense=pulp.LpMinimize)\n",
    "\n",
    "for x_i1, x_i2, y_i, e_i in zip(x1, x2, y, errors):\n",
    "    m += y_i * (b + w1 * x_i1 + w2 * x_i2) >= (1 - e_i)"
   ]
  },
  {
   "cell_type": "markdown",
   "metadata": {
    "deletable": true,
    "editable": true,
    "slideshow": {
     "slide_type": "subslide"
    }
   },
   "source": [
    "So far the model represents the feasible region of all possible separating hyperplanes.\n",
    "\n",
    "We want the _best_ one."
   ]
  },
  {
   "cell_type": "code",
   "execution_count": 24,
   "metadata": {
    "collapsed": false,
    "deletable": true,
    "editable": true
   },
   "outputs": [
    {
     "name": "stdout",
     "output_type": "stream",
     "text": [
      "b = -4.2808072\n",
      "w = [0.77191687, -0.67718945]\n"
     ]
    }
   ],
   "source": [
    "m.setObjective(sum(errors))\n",
    "assert m.solve() == pulp.LpStatusOptimal\n",
    "\n",
    "print('b =', b.value())\n",
    "print('w =', [w1.value(), w2.value()])"
   ]
  },
  {
   "cell_type": "markdown",
   "metadata": {
    "deletable": true,
    "editable": true,
    "slideshow": {
     "slide_type": "subslide"
    }
   },
   "source": [
    "We don't have a predict function, so let's build one."
   ]
  },
  {
   "cell_type": "code",
   "execution_count": 25,
   "metadata": {
    "collapsed": false,
    "deletable": true,
    "editable": true
   },
   "outputs": [
    {
     "name": "stdout",
     "output_type": "stream",
     "text": [
      "confusion matrix:\n"
     ]
    },
    {
     "data": {
      "text/plain": [
       "array([[123,   6],\n",
       "       [  5,  16]])"
      ]
     },
     "execution_count": 25,
     "metadata": {},
     "output_type": "execute_result"
    }
   ],
   "source": [
    "def classify(xi_1, xi_2):\n",
    "    if b.value() + (w1.value() * xi_1) + (w2.value() * xi_2) >= 0:\n",
    "        return +1\n",
    "    return -1\n",
    "\n",
    "y_hat = [classify(xi_1, xi_2) for xi_1, xi_2 in zip(x1, x2)]\n",
    "\n",
    "print('confusion matrix:')\n",
    "metrics.confusion_matrix(y_true=y, y_pred=y_hat)"
   ]
  },
  {
   "cell_type": "markdown",
   "metadata": {
    "deletable": true,
    "editable": true,
    "slideshow": {
     "slide_type": "subslide"
    }
   },
   "source": [
    "How'd the linear optimizer do?"
   ]
  },
  {
   "cell_type": "code",
   "execution_count": 26,
   "metadata": {
    "collapsed": false,
    "deletable": true,
    "editable": true
   },
   "outputs": [
    {
     "data": {
      "text/html": [
       "\n",
       "\n",
       "    <div class=\"bk-root\">\n",
       "        <div class=\"bk-plotdiv\" id=\"fcfa6866-fe5e-4d0b-af8c-4261e3b6c5fe\"></div>\n",
       "    </div>\n",
       "<script type=\"text/javascript\">\n",
       "  \n",
       "  (function(global) {\n",
       "    function now() {\n",
       "      return new Date();\n",
       "    }\n",
       "  \n",
       "    var force = false;\n",
       "  \n",
       "    if (typeof (window._bokeh_onload_callbacks) === \"undefined\" || force === true) {\n",
       "      window._bokeh_onload_callbacks = [];\n",
       "      window._bokeh_is_loading = undefined;\n",
       "    }\n",
       "  \n",
       "  \n",
       "    \n",
       "    if (typeof (window._bokeh_timeout) === \"undefined\" || force === true) {\n",
       "      window._bokeh_timeout = Date.now() + 0;\n",
       "      window._bokeh_failed_load = false;\n",
       "    }\n",
       "  \n",
       "    var NB_LOAD_WARNING = {'data': {'text/html':\n",
       "       \"<div style='background-color: #fdd'>\\n\"+\n",
       "       \"<p>\\n\"+\n",
       "       \"BokehJS does not appear to have successfully loaded. If loading BokehJS from CDN, this \\n\"+\n",
       "       \"may be due to a slow or bad network connection. Possible fixes:\\n\"+\n",
       "       \"</p>\\n\"+\n",
       "       \"<ul>\\n\"+\n",
       "       \"<li>re-rerun `output_notebook()` to attempt to load from CDN again, or</li>\\n\"+\n",
       "       \"<li>use INLINE resources instead, as so:</li>\\n\"+\n",
       "       \"</ul>\\n\"+\n",
       "       \"<code>\\n\"+\n",
       "       \"from bokeh.resources import INLINE\\n\"+\n",
       "       \"output_notebook(resources=INLINE)\\n\"+\n",
       "       \"</code>\\n\"+\n",
       "       \"</div>\"}};\n",
       "  \n",
       "    function display_loaded() {\n",
       "      if (window.Bokeh !== undefined) {\n",
       "        document.getElementById(\"fcfa6866-fe5e-4d0b-af8c-4261e3b6c5fe\").textContent = \"BokehJS successfully loaded.\";\n",
       "      } else if (Date.now() < window._bokeh_timeout) {\n",
       "        setTimeout(display_loaded, 100)\n",
       "      }\n",
       "    }\n",
       "  \n",
       "    function run_callbacks() {\n",
       "      window._bokeh_onload_callbacks.forEach(function(callback) { callback() });\n",
       "      delete window._bokeh_onload_callbacks\n",
       "      console.info(\"Bokeh: all callbacks have finished\");\n",
       "    }\n",
       "  \n",
       "    function load_libs(js_urls, callback) {\n",
       "      window._bokeh_onload_callbacks.push(callback);\n",
       "      if (window._bokeh_is_loading > 0) {\n",
       "        console.log(\"Bokeh: BokehJS is being loaded, scheduling callback at\", now());\n",
       "        return null;\n",
       "      }\n",
       "      if (js_urls == null || js_urls.length === 0) {\n",
       "        run_callbacks();\n",
       "        return null;\n",
       "      }\n",
       "      console.log(\"Bokeh: BokehJS not loaded, scheduling load and callback at\", now());\n",
       "      window._bokeh_is_loading = js_urls.length;\n",
       "      for (var i = 0; i < js_urls.length; i++) {\n",
       "        var url = js_urls[i];\n",
       "        var s = document.createElement('script');\n",
       "        s.src = url;\n",
       "        s.async = false;\n",
       "        s.onreadystatechange = s.onload = function() {\n",
       "          window._bokeh_is_loading--;\n",
       "          if (window._bokeh_is_loading === 0) {\n",
       "            console.log(\"Bokeh: all BokehJS libraries loaded\");\n",
       "            run_callbacks()\n",
       "          }\n",
       "        };\n",
       "        s.onerror = function() {\n",
       "          console.warn(\"failed to load library \" + url);\n",
       "        };\n",
       "        console.log(\"Bokeh: injecting script tag for BokehJS library: \", url);\n",
       "        document.getElementsByTagName(\"head\")[0].appendChild(s);\n",
       "      }\n",
       "    };var element = document.getElementById(\"fcfa6866-fe5e-4d0b-af8c-4261e3b6c5fe\");\n",
       "    if (element == null) {\n",
       "      console.log(\"Bokeh: ERROR: autoload.js configured with elementid 'fcfa6866-fe5e-4d0b-af8c-4261e3b6c5fe' but no matching script tag was found. \")\n",
       "      return false;\n",
       "    }\n",
       "  \n",
       "    var js_urls = [];\n",
       "  \n",
       "    var inline_js = [\n",
       "      function(Bokeh) {\n",
       "        (function() {\n",
       "          var fn = function() {\n",
       "            var docs_json = {\"ac3606d7-0336-4d93-b85a-f3574c508bd2\":{\"roots\":{\"references\":[{\"attributes\":{},\"id\":\"92c84226-9e71-48d8-9391-3dde0a5c555d\",\"type\":\"BasicTicker\"},{\"attributes\":{\"data_source\":{\"id\":\"a70f0dd5-4888-45f9-bd1d-ba4978183de2\",\"type\":\"ColumnDataSource\"},\"glyph\":{\"id\":\"c87cb5b3-df8c-4d01-a0e0-6336e4bc0979\",\"type\":\"Square\"},\"hover_glyph\":null,\"nonselection_glyph\":null,\"selection_glyph\":null},\"id\":\"5d4f3691-c6cb-4e4f-a34d-01f9d8b6776b\",\"type\":\"GlyphRenderer\"},{\"attributes\":{\"fill_alpha\":{\"value\":0.7},\"fill_color\":{\"value\":\"lightgrey\"},\"line_color\":{\"value\":\"lightgrey\"},\"size\":{\"units\":\"screen\",\"value\":8},\"x\":{\"field\":\"x_values\"},\"y\":{\"field\":\"y_values\"}},\"id\":\"f73f130e-fccc-4143-8849-378447741aa4\",\"type\":\"Circle\"},{\"attributes\":{\"data_source\":{\"id\":\"90065667-0872-4301-879d-1d3b671d6b73\",\"type\":\"ColumnDataSource\"},\"glyph\":{\"id\":\"3a911964-fb4b-445d-a30d-02dac431bb29\",\"type\":\"Line\"},\"hover_glyph\":null,\"nonselection_glyph\":{\"id\":\"97bb9d4d-34e2-4946-9fea-524188a7c47a\",\"type\":\"Line\"},\"selection_glyph\":null},\"id\":\"c32ae11e-8a45-4cc0-9dd3-0b4802fe58ec\",\"type\":\"GlyphRenderer\"},{\"attributes\":{},\"id\":\"131823e5-deef-49b2-9d01-9bc19398ed1f\",\"type\":\"BasicTickFormatter\"},{\"attributes\":{\"line_alpha\":{\"value\":0.1},\"line_color\":{\"value\":\"#1f77b4\"},\"x\":{\"field\":\"x\"},\"y\":{\"field\":\"y\"}},\"id\":\"97bb9d4d-34e2-4946-9fea-524188a7c47a\",\"type\":\"Line\"},{\"attributes\":{\"callback\":null,\"column_names\":[\"x_values\",\"y_values\"],\"data\":{\"chart_index\":[{\"correct\":\"Incorrect\"},{\"correct\":\"Incorrect\"},{\"correct\":\"Incorrect\"},{\"correct\":\"Incorrect\"},{\"correct\":\"Incorrect\"},{\"correct\":\"Incorrect\"},{\"correct\":\"Incorrect\"},{\"correct\":\"Incorrect\"},{\"correct\":\"Incorrect\"},{\"correct\":\"Incorrect\"},{\"correct\":\"Incorrect\"}],\"correct\":[\"Incorrect\",\"Incorrect\",\"Incorrect\",\"Incorrect\",\"Incorrect\",\"Incorrect\",\"Incorrect\",\"Incorrect\",\"Incorrect\",\"Incorrect\",\"Incorrect\"],\"x_values\":{\"__ndarray__\":\"icIOw16MG0CdpsebwHQjQO6xTU8Qex9ARi6XnpN6GECyZSdBjUMZQBqUQR/Z0h9AllcRjTXfIEBBooOgeHIbQGdEz7P7rhtAR0w+grRUGkBhl+QWbFocQA==\",\"dtype\":\"float64\",\"shape\":[11]},\"y_values\":{\"__ndarray__\":\"UkPKtTNQ5j8+M0K6gHAJQO3s2x7Htvs/BoWwpTdl8z9U1/8riYMGQEjVgV51VQRAHEhkWWa/CUBShfDzFMPhP7Y75p87zwVAHh6NkN2IDEAWnfpcG7ACQA==\",\"dtype\":\"float64\",\"shape\":[11]}}},\"id\":\"a70f0dd5-4888-45f9-bd1d-ba4978183de2\",\"type\":\"ColumnDataSource\"},{\"attributes\":{\"fill_alpha\":{\"value\":0.7},\"fill_color\":{\"value\":\"darkred\"},\"line_color\":{\"value\":\"darkred\"},\"size\":{\"units\":\"screen\",\"value\":8},\"x\":{\"field\":\"x_values\"},\"y\":{\"field\":\"y_values\"}},\"id\":\"c87cb5b3-df8c-4d01-a0e0-6336e4bc0979\",\"type\":\"Square\"},{\"attributes\":{\"bottom_units\":\"screen\",\"fill_alpha\":{\"value\":0.5},\"fill_color\":{\"value\":\"lightgrey\"},\"left_units\":\"screen\",\"level\":\"overlay\",\"line_alpha\":{\"value\":1.0},\"line_color\":{\"value\":\"black\"},\"line_dash\":[4,4],\"line_width\":{\"value\":2},\"plot\":null,\"render_mode\":\"css\",\"right_units\":\"screen\",\"top_units\":\"screen\"},\"id\":\"bbbb73f0-dcfa-4d3b-9564-44e0178c7e6e\",\"type\":\"BoxAnnotation\"},{\"attributes\":{\"active_drag\":\"auto\",\"active_scroll\":\"auto\",\"active_tap\":\"auto\",\"tools\":[{\"id\":\"24b5603b-c73a-4437-b116-b75122bd444b\",\"type\":\"PanTool\"},{\"id\":\"31efb32e-1a60-49dc-83dd-2f7b9dd44477\",\"type\":\"WheelZoomTool\"},{\"id\":\"b6a6a97d-5609-4b30-abef-218ae4326af1\",\"type\":\"BoxZoomTool\"},{\"id\":\"b2590d4b-5aa2-419d-a4c5-62c8b67a6dc1\",\"type\":\"SaveTool\"},{\"id\":\"fbf1c8cd-48b7-431d-8eae-89522c5b3da5\",\"type\":\"ResetTool\"},{\"id\":\"a0982169-3720-4fb6-af8b-bf206dfd48a9\",\"type\":\"HelpTool\"}]},\"id\":\"897a4a8a-21b1-4ddc-9ff8-504ed30c7ace\",\"type\":\"Toolbar\"},{\"attributes\":{\"callback\":null,\"column_names\":[\"x_values\",\"y_values\"],\"data\":{\"chart_index\":[{\"correct\":\"Correct\"},{\"correct\":\"Correct\"},{\"correct\":\"Correct\"},{\"correct\":\"Correct\"},{\"correct\":\"Correct\"},{\"correct\":\"Correct\"},{\"correct\":\"Correct\"},{\"correct\":\"Correct\"},{\"correct\":\"Correct\"},{\"correct\":\"Correct\"},{\"correct\":\"Correct\"},{\"correct\":\"Correct\"},{\"correct\":\"Correct\"},{\"correct\":\"Correct\"},{\"correct\":\"Correct\"},{\"correct\":\"Correct\"},{\"correct\":\"Correct\"},{\"correct\":\"Correct\"},{\"correct\":\"Correct\"},{\"correct\":\"Correct\"},{\"correct\":\"Correct\"},{\"correct\":\"Correct\"},{\"correct\":\"Correct\"},{\"correct\":\"Correct\"},{\"correct\":\"Correct\"},{\"correct\":\"Correct\"},{\"correct\":\"Correct\"},{\"correct\":\"Correct\"},{\"correct\":\"Correct\"},{\"correct\":\"Correct\"},{\"correct\":\"Correct\"},{\"correct\":\"Correct\"},{\"correct\":\"Correct\"},{\"correct\":\"Correct\"},{\"correct\":\"Correct\"},{\"correct\":\"Correct\"},{\"correct\":\"Correct\"},{\"correct\":\"Correct\"},{\"correct\":\"Correct\"},{\"correct\":\"Correct\"},{\"correct\":\"Correct\"},{\"correct\":\"Correct\"},{\"correct\":\"Correct\"},{\"correct\":\"Correct\"},{\"correct\":\"Correct\"},{\"correct\":\"Correct\"},{\"correct\":\"Correct\"},{\"correct\":\"Correct\"},{\"correct\":\"Correct\"},{\"correct\":\"Correct\"},{\"correct\":\"Correct\"},{\"correct\":\"Correct\"},{\"correct\":\"Correct\"},{\"correct\":\"Correct\"},{\"correct\":\"Correct\"},{\"correct\":\"Correct\"},{\"correct\":\"Correct\"},{\"correct\":\"Correct\"},{\"correct\":\"Correct\"},{\"correct\":\"Correct\"},{\"correct\":\"Correct\"},{\"correct\":\"Correct\"},{\"correct\":\"Correct\"},{\"correct\":\"Correct\"},{\"correct\":\"Correct\"},{\"correct\":\"Correct\"},{\"correct\":\"Correct\"},{\"correct\":\"Correct\"},{\"correct\":\"Correct\"},{\"correct\":\"Correct\"},{\"correct\":\"Correct\"},{\"correct\":\"Correct\"},{\"correct\":\"Correct\"},{\"correct\":\"Correct\"},{\"correct\":\"Correct\"},{\"correct\":\"Correct\"},{\"correct\":\"Correct\"},{\"correct\":\"Correct\"},{\"correct\":\"Correct\"},{\"correct\":\"Correct\"},{\"correct\":\"Correct\"},{\"correct\":\"Correct\"},{\"correct\":\"Correct\"},{\"correct\":\"Correct\"},{\"correct\":\"Correct\"},{\"correct\":\"Correct\"},{\"correct\":\"Correct\"},{\"correct\":\"Correct\"},{\"correct\":\"Correct\"},{\"correct\":\"Correct\"},{\"correct\":\"Correct\"},{\"correct\":\"Correct\"},{\"correct\":\"Correct\"},{\"correct\":\"Correct\"},{\"correct\":\"Correct\"},{\"correct\":\"Correct\"},{\"correct\":\"Correct\"},{\"correct\":\"Correct\"},{\"correct\":\"Correct\"},{\"correct\":\"Correct\"},{\"correct\":\"Correct\"},{\"correct\":\"Correct\"},{\"correct\":\"Correct\"},{\"correct\":\"Correct\"},{\"correct\":\"Correct\"},{\"correct\":\"Correct\"},{\"correct\":\"Correct\"},{\"correct\":\"Correct\"},{\"correct\":\"Correct\"},{\"correct\":\"Correct\"},{\"correct\":\"Correct\"},{\"correct\":\"Correct\"},{\"correct\":\"Correct\"},{\"correct\":\"Correct\"},{\"correct\":\"Correct\"},{\"correct\":\"Correct\"},{\"correct\":\"Correct\"},{\"correct\":\"Correct\"},{\"correct\":\"Correct\"},{\"correct\":\"Correct\"},{\"correct\":\"Correct\"},{\"correct\":\"Correct\"},{\"correct\":\"Correct\"},{\"correct\":\"Correct\"},{\"correct\":\"Correct\"},{\"correct\":\"Correct\"},{\"correct\":\"Correct\"},{\"correct\":\"Correct\"},{\"correct\":\"Correct\"},{\"correct\":\"Correct\"},{\"correct\":\"Correct\"},{\"correct\":\"Correct\"},{\"correct\":\"Correct\"},{\"correct\":\"Correct\"},{\"correct\":\"Correct\"},{\"correct\":\"Correct\"},{\"correct\":\"Correct\"},{\"correct\":\"Correct\"},{\"correct\":\"Correct\"}],\"correct\":[\"Correct\",\"Correct\",\"Correct\",\"Correct\",\"Correct\",\"Correct\",\"Correct\",\"Correct\",\"Correct\",\"Correct\",\"Correct\",\"Correct\",\"Correct\",\"Correct\",\"Correct\",\"Correct\",\"Correct\",\"Correct\",\"Correct\",\"Correct\",\"Correct\",\"Correct\",\"Correct\",\"Correct\",\"Correct\",\"Correct\",\"Correct\",\"Correct\",\"Correct\",\"Correct\",\"Correct\",\"Correct\",\"Correct\",\"Correct\",\"Correct\",\"Correct\",\"Correct\",\"Correct\",\"Correct\",\"Correct\",\"Correct\",\"Correct\",\"Correct\",\"Correct\",\"Correct\",\"Correct\",\"Correct\",\"Correct\",\"Correct\",\"Correct\",\"Correct\",\"Correct\",\"Correct\",\"Correct\",\"Correct\",\"Correct\",\"Correct\",\"Correct\",\"Correct\",\"Correct\",\"Correct\",\"Correct\",\"Correct\",\"Correct\",\"Correct\",\"Correct\",\"Correct\",\"Correct\",\"Correct\",\"Correct\",\"Correct\",\"Correct\",\"Correct\",\"Correct\",\"Correct\",\"Correct\",\"Correct\",\"Correct\",\"Correct\",\"Correct\",\"Correct\",\"Correct\",\"Correct\",\"Correct\",\"Correct\",\"Correct\",\"Correct\",\"Correct\",\"Correct\",\"Correct\",\"Correct\",\"Correct\",\"Correct\",\"Correct\",\"Correct\",\"Correct\",\"Correct\",\"Correct\",\"Correct\",\"Correct\",\"Correct\",\"Correct\",\"Correct\",\"Correct\",\"Correct\",\"Correct\",\"Correct\",\"Correct\",\"Correct\",\"Correct\",\"Correct\",\"Correct\",\"Correct\",\"Correct\",\"Correct\",\"Correct\",\"Correct\",\"Correct\",\"Correct\",\"Correct\",\"Correct\",\"Correct\",\"Correct\",\"Correct\",\"Correct\",\"Correct\",\"Correct\",\"Correct\",\"Correct\",\"Correct\",\"Correct\",\"Correct\",\"Correct\",\"Correct\",\"Correct\",\"Correct\",\"Correct\",\"Correct\",\"Correct\"],\"x_values\":{\"__ndarray__\":\"vSwKvhgKG0AJ5Suyoo8fQI6rLN8plAhAeruA7Y08G0AticWPPkIdQHfsLwiCUCBA+h1MggZZHUBS+4YE8DcKQAG6c2ooZhRAcoqH2Jcd+z/JGQCtwYMLQFLxW82xjRpA2G0f3cyj2j8jPFX1j/v6P8RsxGsNzd4/UhoOTwIq/j9+Pv1BFygVQIg1mOtXRiFAwr5aqqdAC0Dhzag55dQhQJDj6RotAtc/WU7A0lCsA0DSfDl2zeEiQFiO9yhPbyBAL9fLbNHGGUAnKtKWIAEAQKghlymsOxRAi7nHrcgMEUBSShJXcs0MQKJP91IJFCJAqe09Jk2BHkCUlhdyf+IYQGCw4GLPmqQ/DmEVOm4aCECCoSD/1UsAQHNQBjqkEyNAUIFv1e9iIkAT/M/5qxoFQKT1E/TgtgtA4AONVEgYIECTKYBgTmQeQJdQgRLLWhJA5M7rSGMu/T/cHNsT4MMeQLzgR/gzOAtAoxfE80Y8BEAnKf6kA70jQNqambLAq/M/E7AfPgrSHECXsoOQ8CcbQKPa7W7TsRRAcHQEmW3XD0AY6s2OrTsJQLrzwtkcpgJAaHplhi0g5j9qLTlGTcsjQFywVY0IDQ5Ak7tjYFtOEUBTgdySdZoFQKrBrjvEFPI/8knuXLPjEECDntRkcWwYQHy75/iVMNI/AOkhKh7Jfz9DN2tzDDEVQDJaQ1qHAwJAytMJJ0YkI0BF7SiS6+4JQBRYSD1YpiFAcgKdNxV5EUDrBoXg5b34P2X3h1nESx9AEJKFzXtOvT9yBz2erZQQQOSocPXgTRVAIPhytUTOI0AmXwnsKBAUQN0jLFjMWxVAf40BiZf+GUACjJ/dpTQiQDUN6sCDbxpAViFR4HgCBkDmP1GnikUDQNSf599EjCFAFHLYz4a2A0B9riLHEuIeQJYt38RTCSBA/n4hkTh6DUDHmb66AjEbQJLOWNa9SCBAxOALJbJ5F0DE25Rk/+QbQIrswdaRwBBA1gueJvFFCEBErEicfd7+P/T9hPwbfhtA8183xAnJD0DOywMm9QAbQGdobTO1Xvw/93srxdVTHkAWxN9tSvQOQK+le6KA6QhAFFBdOfuCHUDvbkagZRcWQP4qMeNRQRpAdJwvtbP93D/sPjTQ3/ATQNrORlJTjSNAC4ydsLM9FUDqoUxW7KPzPzSpTIxxEAZAZdhEagJLIUDzgVqQtWIdQD5yeFnKEBpAZQtciT0rDkAcSaDe7bQdQAlEc83aT/8/zeCtuTVvIEASnN0wpuQhQARrKd13AgJAcE+KA2MtHECiZjPlAHkYQCo9Tfwiyfw/b7wKUew99z9rp2RmPPgaQHYGh84mhhNAgKvpqJHAHEBkpYUh58EbQLtOscy8SiBAxvrzV/8NA0C1CqsexhghQIHcS0iw2/g/TBvMb4MMD0D+Nqtko4IVQPTmG9a4lCJAPkk8bPizG0DzvpYhwqggQL0xNmkMGBxAbZFSjm9aAEA=\",\"dtype\":\"float64\",\"shape\":[139]},\"y_values\":{\"__ndarray__\":\"ioRmjyDOIEDK7RnkU30jQNwYVcPz0yFA8oqMCqEZIUAQUAO4LeEhQCDqxf62p7M/GuQqMYAG6j9+qs+MSmgZQK2674lZoRlALJybHWw4HkD8eUNxCbvQP7BNHJb5lRtAUpzT37y1CkDaHjxFHJsiQEU5r6eAPxRA85TYGXWfEECtDPTYviEgQNcSYH0oNyNAOivIatlp5T+FZqZvqnIIQLJrAOLjRBBAFDqF4L2ZIEDIQkR6vbUcQJh7uLugPhZAiCn6UsIQ6j8MlLt4IPkgQCzgoUuqSBBABX9/9HkMHkCKdOVDl/YjQN9vZfYEl/g/KPyfgpn9HUAkZSek6mvYP7ZzM7BxAOc/LqxnsBneI0BrFlbdlkv9P35JM8JRKSJAIgrlS8PMF0AYdbG4/3H0PxsR3RmoqxtA7CmqvKL9IECIxwNIP1MZQDboiRTZIBRAN+vFqbm+8z98VQ/3r5kWQIxNBawgOhlAwKkv6301IECwRCPOJucgQLB5kCHq+iBAjXOTjC+LI0BynXaY/hAWQOdoqHT06wtAgCwJd4zpHUDM4MgVFbX9PxG0rO6l9B5ARhvhTZ26B0DNO9+d+N0LQL5pIp6opPU/TDjhpVJ9HUAKKn0hXkYhQC8SxLfphf4/+sWdd+57I0ASg9Zd4m0QQCCJJP/QpB5AM8fTSgwR+j8ywAPG1NkeQHMxL8miDx9AwmIF1bFNIkAyhFTrUTgjQOCRbbEKpAVAhbFk0hiKB0B56gJpL+8XQM1szGTavBdAfGufadcRGkBIdsdv2lgSQJCpOilX4ME/+552trmMD0B6Vv0fWg8XQDL5st81lhBAovBGKD+f4D8GxkL+52YSQCMHaqVn9gxAK2m4iCkkIEBxa2pR0wojQJpnys5DGPM/mQCFJNPkIEDy/97QAosjQFZek0eOnRRAihs7xLoHIEANXR/eeWYRQACe+ZyvFZU/UunvWsT8BEByq+7XzygaQPVzhKLNdSJAGgAyaGcvIECxxxIMUXsgQJqwcHJKpAJAkfYYZukyFEBaACfkDB0hQE1cQNXyfhRAnRj6FQPaEEAYvwHmrwQHQHClyQCJLwdAlqYRryOU4z/IcukWvXXePzxOj8rDpg9AAExlHHtF7D9yjdpveQIiQHv05SRnOiNAAF5c1LwrHkBA8EEvYJoeQNus3MPlu/I/4JaMh1H52j+8IN2s/TsMQCS8Fklh+vM/fC0pI9P4GEDa/dglceISQBpkgoXvLxhAoBYOlj8THkDJ62CG/qwTQHoKWfJKERpAGLle21avI0DcOj/zmwIgQHC+86kHrhdAqtd6kkeAIEBMFKSsKdwcQKIisSZUVBZAcLq5jqiQIUCtpHvbjwwfQD1/Xf/kgBdAI7TSOgDMGECifyutMGMaQGiAkYVvnwxAivY6EhiUB0AZngbBHGsYQIz6UoUHifo/1D97ckM5FkC4Nd85WeX5P1bCJBiknAFA0s1ybpYCBkA=\",\"dtype\":\"float64\",\"shape\":[139]}}},\"id\":\"0e625a4d-f989-4c03-95b0-068841689e0b\",\"type\":\"ColumnDataSource\"},{\"attributes\":{\"plot\":null,\"text\":null},\"id\":\"3ce2c376-7eaa-4419-bf65-6f2b4f2d4e8e\",\"type\":\"Title\"},{\"attributes\":{\"below\":[{\"id\":\"0b573a6f-f80c-4523-947c-c79f9c8f721d\",\"type\":\"LinearAxis\"}],\"css_classes\":null,\"height\":500,\"left\":[{\"id\":\"626e7514-5628-49d3-9de8-f8a14b83acf6\",\"type\":\"LinearAxis\"}],\"renderers\":[{\"id\":\"bbbb73f0-dcfa-4d3b-9564-44e0178c7e6e\",\"type\":\"BoxAnnotation\"},{\"id\":\"61e01940-6c32-411b-a3fd-7d1def2d2607\",\"type\":\"GlyphRenderer\"},{\"id\":\"5d4f3691-c6cb-4e4f-a34d-01f9d8b6776b\",\"type\":\"GlyphRenderer\"},{\"id\":\"04f91b94-9fc6-4f39-912c-921d0440b55d\",\"type\":\"Legend\"},{\"id\":\"0b573a6f-f80c-4523-947c-c79f9c8f721d\",\"type\":\"LinearAxis\"},{\"id\":\"626e7514-5628-49d3-9de8-f8a14b83acf6\",\"type\":\"LinearAxis\"},{\"id\":\"fc662eb2-15b9-4088-8dec-ed51bd7c02de\",\"type\":\"Grid\"},{\"id\":\"495c863e-0842-4e83-810b-0465dcbbd5bd\",\"type\":\"Grid\"},{\"id\":\"c32ae11e-8a45-4cc0-9dd3-0b4802fe58ec\",\"type\":\"GlyphRenderer\"}],\"title\":{\"id\":\"3ce2c376-7eaa-4419-bf65-6f2b4f2d4e8e\",\"type\":\"Title\"},\"tool_events\":{\"id\":\"52228c4a-94a7-4002-b732-6c9b4b514872\",\"type\":\"ToolEvents\"},\"toolbar\":{\"id\":\"897a4a8a-21b1-4ddc-9ff8-504ed30c7ace\",\"type\":\"Toolbar\"},\"width\":500,\"x_mapper_type\":\"auto\",\"x_range\":{\"id\":\"74e13d04-bd67-433f-9f1b-cfe16fb782e6\",\"type\":\"Range1d\"},\"y_mapper_type\":\"auto\",\"y_range\":{\"id\":\"78a13f76-4558-4f5e-8512-46dd55db4d5b\",\"type\":\"Range1d\"}},\"id\":\"4960cd17-4ccf-48e4-bf2c-9baaa4c211e6\",\"subtype\":\"Chart\",\"type\":\"Plot\"},{\"attributes\":{\"callback\":null,\"column_names\":[\"x\",\"y\"],\"data\":{\"x\":{\"__ndarray__\":\"AAAAAAAAAACIxvrQWB/KP4jG+tBYH9o/5hS8nIKX4z+IxvrQWB/qPxW8nIKXU/A/5hS8nIKX8z+3bdu2bdv2P4jG+tBYH/o/WR8a60Nj/T8VvJyCl1MAQH5orA+N9QFA5hS8nIKXA0BOwcspeDkFQLdt27Zt2wZAIBrrQ2N9CECIxvrQWB8KQPByCl5OwQtAWR8a60NjDUDCyyl4OQUPQBW8nIKXUxBASZIkSZIkEUB+aKwPjfURQLI+NNaHxhJA5hS8nIKXE0Aa60NjfWgUQE7Byyl4ORVAg5dT8HIKFkC3bdu2bdsWQOtDY31orBdAIBrrQ2N9GEBU8HIKXk4ZQIjG+tBYHxpAvJyCl1PwGkDwcgpeTsEbQCVJkiRJkhxAWR8a60NjHUCN9aGxPjQeQMLLKXg5BR9A9qGxPjTWH0AVvJyCl1MgQC+n4OUUvCBASZIkSZIkIUBjfWisD40hQH5orA+N9SFAmFPwcgpeIkCyPjTWh8YiQMwpeDkFLyNA5hS8nIKXI0AAAAAAAAAkQA==\",\"dtype\":\"float64\",\"shape\":[50]},\"y\":[-4.699464376767789,-4.510084706161679,-4.320705035555569,-4.1313253649494595,-3.941945694343349,-3.752566023737239,-3.5631863531311287,-3.373806682525019,-3.184427011918909,-2.995047341312799,-2.8056676707066885,-2.616288000100578,-2.426908329494468,-2.2375286588883587,-2.0481489882822483,-1.8587693176761377,-1.6693896470700282,-1.4800099764639183,-1.2906303058578081,-1.1012506352516975,-0.9118709646455875,-0.722491294039478,-0.5331116234333674,-0.34373195282725727,-0.15435228222114722,0.03502738838496223,0.2244070589910723,0.413786729597183,0.603166400203293,0.7925460708094024,0.9819257414155138,1.1713054120216233,1.3606850826277326,1.5500647532338434,1.7394444238399527,1.9288240944460635,2.118203765052173,2.3075834356582834,2.496963106264394,2.6863427768705037,2.8757224474766145,3.065102118082724,3.254481788688833,3.443861459294944,3.6332411299010547,3.822620800507165,4.012000471113275,4.201380141719384,4.390759812325495,4.580139482931604]}},\"id\":\"90065667-0872-4301-879d-1d3b671d6b73\",\"type\":\"ColumnDataSource\"},{\"attributes\":{\"line_color\":{\"value\":\"darkblue\"},\"x\":{\"field\":\"x\"},\"y\":{\"field\":\"y\"}},\"id\":\"3a911964-fb4b-445d-a30d-02dac431bb29\",\"type\":\"Line\"},{\"attributes\":{\"plot\":{\"id\":\"4960cd17-4ccf-48e4-bf2c-9baaa4c211e6\",\"subtype\":\"Chart\",\"type\":\"Plot\"},\"ticker\":{\"id\":\"8b95bd88-10b7-405a-a2c0-96d20cad0f97\",\"type\":\"BasicTicker\"}},\"id\":\"fc662eb2-15b9-4088-8dec-ed51bd7c02de\",\"type\":\"Grid\"},{\"attributes\":{\"callback\":null,\"end\":10.977726039447822,\"start\":-0.97551268942296},\"id\":\"78a13f76-4558-4f5e-8512-46dd55db4d5b\",\"type\":\"Range1d\"},{\"attributes\":{},\"id\":\"52228c4a-94a7-4002-b732-6c9b4b514872\",\"type\":\"ToolEvents\"},{\"attributes\":{\"callback\":null,\"end\":10.892378736047483,\"start\":-0.9817506193304097},\"id\":\"74e13d04-bd67-433f-9f1b-cfe16fb782e6\",\"type\":\"Range1d\"},{\"attributes\":{\"label\":{\"value\":\"Incorrect\"},\"renderers\":[{\"id\":\"5d4f3691-c6cb-4e4f-a34d-01f9d8b6776b\",\"type\":\"GlyphRenderer\"}]},\"id\":\"bcdd9f81-74dd-4658-a5c2-36ae9461c76b\",\"type\":\"LegendItem\"},{\"attributes\":{\"plot\":{\"id\":\"4960cd17-4ccf-48e4-bf2c-9baaa4c211e6\",\"subtype\":\"Chart\",\"type\":\"Plot\"}},\"id\":\"24b5603b-c73a-4437-b116-b75122bd444b\",\"type\":\"PanTool\"},{\"attributes\":{\"items\":[{\"id\":\"ff33d04d-239c-4a85-9274-6eeb9301221f\",\"type\":\"LegendItem\"},{\"id\":\"bcdd9f81-74dd-4658-a5c2-36ae9461c76b\",\"type\":\"LegendItem\"}],\"location\":\"top_left\",\"plot\":{\"id\":\"4960cd17-4ccf-48e4-bf2c-9baaa4c211e6\",\"subtype\":\"Chart\",\"type\":\"Plot\"}},\"id\":\"04f91b94-9fc6-4f39-912c-921d0440b55d\",\"type\":\"Legend\"},{\"attributes\":{\"axis_label\":\"x2\",\"formatter\":{\"id\":\"a35514fb-9bc4-47c6-adde-776a4bc93b7b\",\"type\":\"BasicTickFormatter\"},\"plot\":{\"id\":\"4960cd17-4ccf-48e4-bf2c-9baaa4c211e6\",\"subtype\":\"Chart\",\"type\":\"Plot\"},\"ticker\":{\"id\":\"92c84226-9e71-48d8-9391-3dde0a5c555d\",\"type\":\"BasicTicker\"}},\"id\":\"626e7514-5628-49d3-9de8-f8a14b83acf6\",\"type\":\"LinearAxis\"},{\"attributes\":{\"plot\":{\"id\":\"4960cd17-4ccf-48e4-bf2c-9baaa4c211e6\",\"subtype\":\"Chart\",\"type\":\"Plot\"}},\"id\":\"31efb32e-1a60-49dc-83dd-2f7b9dd44477\",\"type\":\"WheelZoomTool\"},{\"attributes\":{\"overlay\":{\"id\":\"bbbb73f0-dcfa-4d3b-9564-44e0178c7e6e\",\"type\":\"BoxAnnotation\"},\"plot\":{\"id\":\"4960cd17-4ccf-48e4-bf2c-9baaa4c211e6\",\"subtype\":\"Chart\",\"type\":\"Plot\"}},\"id\":\"b6a6a97d-5609-4b30-abef-218ae4326af1\",\"type\":\"BoxZoomTool\"},{\"attributes\":{\"plot\":{\"id\":\"4960cd17-4ccf-48e4-bf2c-9baaa4c211e6\",\"subtype\":\"Chart\",\"type\":\"Plot\"}},\"id\":\"b2590d4b-5aa2-419d-a4c5-62c8b67a6dc1\",\"type\":\"SaveTool\"},{\"attributes\":{\"plot\":{\"id\":\"4960cd17-4ccf-48e4-bf2c-9baaa4c211e6\",\"subtype\":\"Chart\",\"type\":\"Plot\"}},\"id\":\"fbf1c8cd-48b7-431d-8eae-89522c5b3da5\",\"type\":\"ResetTool\"},{\"attributes\":{\"plot\":{\"id\":\"4960cd17-4ccf-48e4-bf2c-9baaa4c211e6\",\"subtype\":\"Chart\",\"type\":\"Plot\"}},\"id\":\"a0982169-3720-4fb6-af8b-bf206dfd48a9\",\"type\":\"HelpTool\"},{\"attributes\":{\"axis_label\":\"x1\",\"formatter\":{\"id\":\"131823e5-deef-49b2-9d01-9bc19398ed1f\",\"type\":\"BasicTickFormatter\"},\"plot\":{\"id\":\"4960cd17-4ccf-48e4-bf2c-9baaa4c211e6\",\"subtype\":\"Chart\",\"type\":\"Plot\"},\"ticker\":{\"id\":\"8b95bd88-10b7-405a-a2c0-96d20cad0f97\",\"type\":\"BasicTicker\"}},\"id\":\"0b573a6f-f80c-4523-947c-c79f9c8f721d\",\"type\":\"LinearAxis\"},{\"attributes\":{},\"id\":\"8b95bd88-10b7-405a-a2c0-96d20cad0f97\",\"type\":\"BasicTicker\"},{\"attributes\":{},\"id\":\"a35514fb-9bc4-47c6-adde-776a4bc93b7b\",\"type\":\"BasicTickFormatter\"},{\"attributes\":{\"label\":{\"value\":\"Correct\"},\"renderers\":[{\"id\":\"61e01940-6c32-411b-a3fd-7d1def2d2607\",\"type\":\"GlyphRenderer\"}]},\"id\":\"ff33d04d-239c-4a85-9274-6eeb9301221f\",\"type\":\"LegendItem\"},{\"attributes\":{\"dimension\":1,\"plot\":{\"id\":\"4960cd17-4ccf-48e4-bf2c-9baaa4c211e6\",\"subtype\":\"Chart\",\"type\":\"Plot\"},\"ticker\":{\"id\":\"92c84226-9e71-48d8-9391-3dde0a5c555d\",\"type\":\"BasicTicker\"}},\"id\":\"495c863e-0842-4e83-810b-0465dcbbd5bd\",\"type\":\"Grid\"},{\"attributes\":{\"data_source\":{\"id\":\"0e625a4d-f989-4c03-95b0-068841689e0b\",\"type\":\"ColumnDataSource\"},\"glyph\":{\"id\":\"f73f130e-fccc-4143-8849-378447741aa4\",\"type\":\"Circle\"},\"hover_glyph\":null,\"nonselection_glyph\":null,\"selection_glyph\":null},\"id\":\"61e01940-6c32-411b-a3fd-7d1def2d2607\",\"type\":\"GlyphRenderer\"}],\"root_ids\":[\"4960cd17-4ccf-48e4-bf2c-9baaa4c211e6\"]},\"title\":\"Bokeh Application\",\"version\":\"0.12.4\"}};\n",
       "            var render_items = [{\"docid\":\"ac3606d7-0336-4d93-b85a-f3574c508bd2\",\"elementid\":\"fcfa6866-fe5e-4d0b-af8c-4261e3b6c5fe\",\"modelid\":\"4960cd17-4ccf-48e4-bf2c-9baaa4c211e6\"}];\n",
       "            \n",
       "            Bokeh.embed.embed_items(docs_json, render_items);\n",
       "          };\n",
       "          if (document.readyState != \"loading\") fn();\n",
       "          else document.addEventListener(\"DOMContentLoaded\", fn);\n",
       "        })();\n",
       "      },\n",
       "      function(Bokeh) {\n",
       "      }\n",
       "    ];\n",
       "  \n",
       "    function run_inline_js() {\n",
       "      \n",
       "      if ((window.Bokeh !== undefined) || (force === true)) {\n",
       "        for (var i = 0; i < inline_js.length; i++) {\n",
       "          inline_js[i](window.Bokeh);\n",
       "        }if (force === true) {\n",
       "          display_loaded();\n",
       "        }} else if (Date.now() < window._bokeh_timeout) {\n",
       "        setTimeout(run_inline_js, 100);\n",
       "      } else if (!window._bokeh_failed_load) {\n",
       "        console.log(\"Bokeh: BokehJS failed to load within specified timeout.\");\n",
       "        window._bokeh_failed_load = true;\n",
       "      } else if (force !== true) {\n",
       "        var cell = $(document.getElementById(\"fcfa6866-fe5e-4d0b-af8c-4261e3b6c5fe\")).parents('.cell').data().cell;\n",
       "        cell.output_area.append_execute_result(NB_LOAD_WARNING)\n",
       "      }\n",
       "  \n",
       "    }\n",
       "  \n",
       "    if (window._bokeh_is_loading === 0) {\n",
       "      console.log(\"Bokeh: BokehJS loaded, going straight to plotting\");\n",
       "      run_inline_js();\n",
       "    } else {\n",
       "      load_libs(js_urls, function() {\n",
       "        console.log(\"Bokeh: BokehJS plotting callback run at\", now());\n",
       "        run_inline_js();\n",
       "      });\n",
       "    }\n",
       "  }(this));\n",
       "</script>"
      ]
     },
     "metadata": {},
     "output_type": "display_data"
    }
   ],
   "source": [
    "correct = ['Correct' if yi == yh_i else 'Incorrect' for yi, yh_i in zip(y, y_hat)]\n",
    "plot_svm_results(correct, clf.intercept_[0], clf.coef_[0][0], clf.coef_[0][1])"
   ]
  },
  {
   "cell_type": "markdown",
   "metadata": {
    "deletable": true,
    "editable": true,
    "slideshow": {
     "slide_type": "slide"
    }
   },
   "source": [
    "## Interlude: Problem Shapes"
   ]
  },
  {
   "cell_type": "markdown",
   "metadata": {
    "slideshow": {
     "slide_type": "subslide"
    }
   },
   "source": [
    "In Linear Algebra 101 we learned to solve problems that look like this.\n",
    "\n",
    "$$Ax = b$$\n",
    "\n",
    "$$\n",
    "\\begin{bmatrix} \\cdot & \\cdot \\\\ \\cdot & \\cdot \\end{bmatrix}\n",
    "\\begin{bmatrix} \\cdot \\\\ \\cdot \\end{bmatrix}\n",
    "=\n",
    "\\begin{bmatrix} \\cdot \\\\ \\cdot \\end{bmatrix}\n",
    "$$"
   ]
  },
  {
   "cell_type": "markdown",
   "metadata": {
    "deletable": true,
    "editable": true,
    "slideshow": {
     "slide_type": "subslide"
    }
   },
   "source": [
    "Many statistical inference problems are overdetermined and unsolvable directly.\n",
    "\n",
    "$$\n",
    "\\begin{bmatrix} \n",
    "    \\cdot & \\cdot \\\\ \n",
    "    \\cdot & \\cdot \\\\ \n",
    "    \\cdot & \\cdot \\\\ \n",
    "    \\cdot & \\cdot \\\\ \n",
    "    \\cdot & \\cdot \\\\ \n",
    "    \\cdot & \\cdot \\\\ \n",
    "    \\cdot & \\cdot \\\\ \n",
    "    \\cdot & \\cdot \\\\ \n",
    "    \\cdot & \\cdot \\\\ \n",
    "    \\cdot & \\cdot\n",
    "\\end{bmatrix}\n",
    "\\begin{bmatrix} \\cdot \\\\ \\cdot \\end{bmatrix}\n",
    "=\n",
    "\\begin{bmatrix} \n",
    "    \\cdot \\\\ \n",
    "    \\cdot \\\\ \n",
    "    \\cdot \\\\ \n",
    "    \\cdot \\\\ \n",
    "    \\cdot \\\\ \n",
    "    \\cdot \\\\ \n",
    "    \\cdot \\\\ \n",
    "    \\cdot \\\\ \n",
    "    \\cdot \\\\ \n",
    "    \\cdot \n",
    "\\end{bmatrix}\n",
    "$$"
   ]
  },
  {
   "cell_type": "markdown",
   "metadata": {
    "deletable": true,
    "editable": true,
    "slideshow": {
     "slide_type": "subslide"
    }
   },
   "source": [
    "Decision models tend to involve a large number of potential actions in relation to the constraint set.\n",
    "\n",
    "$$\n",
    "\\begin{bmatrix} \n",
    "    \\cdot & \\cdot & \\cdot & \\cdot & \\cdot & \\cdot & \\cdot & \\cdot & \\cdot & \\cdot \\\\ \n",
    "    \\cdot & \\cdot & \\cdot & \\cdot & \\cdot & \\cdot & \\cdot & \\cdot & \\cdot & \\cdot\n",
    "\\end{bmatrix}\n",
    "\\begin{bmatrix} \n",
    "    \\cdot \\\\ \n",
    "    \\cdot \\\\ \n",
    "    \\cdot \\\\ \n",
    "    \\cdot \\\\ \n",
    "    \\cdot \\\\ \n",
    "    \\cdot \\\\ \n",
    "    \\cdot \\\\ \n",
    "    \\cdot \\\\ \n",
    "    \\cdot \\\\ \n",
    "    \\cdot \n",
    "\\end{bmatrix}\n",
    "=\n",
    "\\begin{bmatrix} \n",
    "    \\cdot \\\\ \n",
    "    \\cdot\n",
    "\\end{bmatrix}\n",
    "$$"
   ]
  },
  {
   "cell_type": "markdown",
   "metadata": {
    "slideshow": {
     "slide_type": "subslide"
    }
   },
   "source": [
    "In both cases, we start with a problem we can't solve easily and reformulate it as something we can.\n",
    "\n",
    "For statistical inference, we solve a secondary problem that minimizes error against the observed data.\n",
    "\n",
    "For decision models, we choose a set of actions to take _(i.e. a basis)_ and solve the remaining system."
   ]
  },
  {
   "cell_type": "markdown",
   "metadata": {
    "deletable": true,
    "editable": true,
    "slideshow": {
     "slide_type": "slide"
    }
   },
   "source": [
    "## Model 3: Clustering\n",
    "\n",
    "We have a set of unclassified data and we want to cluster it around logical centers."
   ]
  },
  {
   "cell_type": "markdown",
   "metadata": {
    "deletable": true,
    "editable": true,
    "slideshow": {
     "slide_type": "subslide"
    }
   },
   "source": [
    "We generate 25 points around each center $(x_{10}, x_{20}) \\in \\{(0.3, 0.3), (0.3, 0.7), (0.7, 0.7)\\}$.\n",
    "\n",
    "$$x_{1i} = x_{10} + \\epsilon$$  \n",
    "  \n",
    "$$x_{2i} = x_{20} + \\epsilon$$\n",
    "  \n",
    "$$\\epsilon \\sim N\\left(0, 0.2^2\\right)$$\n"
   ]
  },
  {
   "cell_type": "code",
   "execution_count": 27,
   "metadata": {
    "collapsed": false,
    "deletable": true,
    "editable": true,
    "slideshow": {
     "slide_type": "subslide"
    }
   },
   "outputs": [],
   "source": [
    "centers = [(0.3, 0.3), (0.3, 0.7), (0.7, 0.7)]\n",
    "\n",
    "x1 = []\n",
    "x2 = []\n",
    "for x10, x20 in centers:\n",
    "    for _ in range(7):\n",
    "        eps_x1 = random.normalvariate(0, 0.2)\n",
    "        eps_x2 = random.normalvariate(0, 0.2)\n",
    "\n",
    "        x1i = min(max(0.0, x10+eps_x1), 1.0)\n",
    "        x2i = min(max(0.0, x20+eps_x2), 1.0)\n",
    "        \n",
    "        x1.append(x1i)\n",
    "        x2.append(x2i)\n",
    "        \n",
    "X = np.array(list(zip(x1, x2)))"
   ]
  },
  {
   "cell_type": "code",
   "execution_count": 28,
   "metadata": {
    "collapsed": false,
    "deletable": true,
    "editable": true,
    "scrolled": true,
    "slideshow": {
     "slide_type": "subslide"
    }
   },
   "outputs": [
    {
     "data": {
      "text/html": [
       "\n",
       "\n",
       "    <div class=\"bk-root\">\n",
       "        <div class=\"bk-plotdiv\" id=\"abd72432-fb95-4e95-b040-4e62bbd00c3a\"></div>\n",
       "    </div>\n",
       "<script type=\"text/javascript\">\n",
       "  \n",
       "  (function(global) {\n",
       "    function now() {\n",
       "      return new Date();\n",
       "    }\n",
       "  \n",
       "    var force = false;\n",
       "  \n",
       "    if (typeof (window._bokeh_onload_callbacks) === \"undefined\" || force === true) {\n",
       "      window._bokeh_onload_callbacks = [];\n",
       "      window._bokeh_is_loading = undefined;\n",
       "    }\n",
       "  \n",
       "  \n",
       "    \n",
       "    if (typeof (window._bokeh_timeout) === \"undefined\" || force === true) {\n",
       "      window._bokeh_timeout = Date.now() + 0;\n",
       "      window._bokeh_failed_load = false;\n",
       "    }\n",
       "  \n",
       "    var NB_LOAD_WARNING = {'data': {'text/html':\n",
       "       \"<div style='background-color: #fdd'>\\n\"+\n",
       "       \"<p>\\n\"+\n",
       "       \"BokehJS does not appear to have successfully loaded. If loading BokehJS from CDN, this \\n\"+\n",
       "       \"may be due to a slow or bad network connection. Possible fixes:\\n\"+\n",
       "       \"</p>\\n\"+\n",
       "       \"<ul>\\n\"+\n",
       "       \"<li>re-rerun `output_notebook()` to attempt to load from CDN again, or</li>\\n\"+\n",
       "       \"<li>use INLINE resources instead, as so:</li>\\n\"+\n",
       "       \"</ul>\\n\"+\n",
       "       \"<code>\\n\"+\n",
       "       \"from bokeh.resources import INLINE\\n\"+\n",
       "       \"output_notebook(resources=INLINE)\\n\"+\n",
       "       \"</code>\\n\"+\n",
       "       \"</div>\"}};\n",
       "  \n",
       "    function display_loaded() {\n",
       "      if (window.Bokeh !== undefined) {\n",
       "        document.getElementById(\"abd72432-fb95-4e95-b040-4e62bbd00c3a\").textContent = \"BokehJS successfully loaded.\";\n",
       "      } else if (Date.now() < window._bokeh_timeout) {\n",
       "        setTimeout(display_loaded, 100)\n",
       "      }\n",
       "    }\n",
       "  \n",
       "    function run_callbacks() {\n",
       "      window._bokeh_onload_callbacks.forEach(function(callback) { callback() });\n",
       "      delete window._bokeh_onload_callbacks\n",
       "      console.info(\"Bokeh: all callbacks have finished\");\n",
       "    }\n",
       "  \n",
       "    function load_libs(js_urls, callback) {\n",
       "      window._bokeh_onload_callbacks.push(callback);\n",
       "      if (window._bokeh_is_loading > 0) {\n",
       "        console.log(\"Bokeh: BokehJS is being loaded, scheduling callback at\", now());\n",
       "        return null;\n",
       "      }\n",
       "      if (js_urls == null || js_urls.length === 0) {\n",
       "        run_callbacks();\n",
       "        return null;\n",
       "      }\n",
       "      console.log(\"Bokeh: BokehJS not loaded, scheduling load and callback at\", now());\n",
       "      window._bokeh_is_loading = js_urls.length;\n",
       "      for (var i = 0; i < js_urls.length; i++) {\n",
       "        var url = js_urls[i];\n",
       "        var s = document.createElement('script');\n",
       "        s.src = url;\n",
       "        s.async = false;\n",
       "        s.onreadystatechange = s.onload = function() {\n",
       "          window._bokeh_is_loading--;\n",
       "          if (window._bokeh_is_loading === 0) {\n",
       "            console.log(\"Bokeh: all BokehJS libraries loaded\");\n",
       "            run_callbacks()\n",
       "          }\n",
       "        };\n",
       "        s.onerror = function() {\n",
       "          console.warn(\"failed to load library \" + url);\n",
       "        };\n",
       "        console.log(\"Bokeh: injecting script tag for BokehJS library: \", url);\n",
       "        document.getElementsByTagName(\"head\")[0].appendChild(s);\n",
       "      }\n",
       "    };var element = document.getElementById(\"abd72432-fb95-4e95-b040-4e62bbd00c3a\");\n",
       "    if (element == null) {\n",
       "      console.log(\"Bokeh: ERROR: autoload.js configured with elementid 'abd72432-fb95-4e95-b040-4e62bbd00c3a' but no matching script tag was found. \")\n",
       "      return false;\n",
       "    }\n",
       "  \n",
       "    var js_urls = [];\n",
       "  \n",
       "    var inline_js = [\n",
       "      function(Bokeh) {\n",
       "        (function() {\n",
       "          var fn = function() {\n",
       "            var docs_json = {\"5c2a6516-6b01-4486-8b18-483a585ed377\":{\"roots\":{\"references\":[{\"attributes\":{\"callback\":null,\"end\":0.994337704650453,\"start\":-0.09039433678640482},\"id\":\"12056f26-70b3-4c7f-adce-0148fa526964\",\"type\":\"Range1d\"},{\"attributes\":{},\"id\":\"61abfcb5-b231-4022-8b9c-883cd53c7b27\",\"type\":\"BasicTickFormatter\"},{\"attributes\":{\"axis_label\":\"x2\",\"formatter\":{\"id\":\"61abfcb5-b231-4022-8b9c-883cd53c7b27\",\"type\":\"BasicTickFormatter\"},\"plot\":{\"id\":\"c2235d17-033b-4457-904a-66b3775d46ae\",\"subtype\":\"Chart\",\"type\":\"Plot\"},\"ticker\":{\"id\":\"56c41587-c958-4c6c-ada8-6b900b7c52f1\",\"type\":\"BasicTicker\"}},\"id\":\"ebc1fd4d-1a79-4849-9418-dcfccd4e4fee\",\"type\":\"LinearAxis\"},{\"attributes\":{\"below\":[{\"id\":\"e566eefe-cd12-423b-a868-79bd7bbb5de2\",\"type\":\"LinearAxis\"}],\"css_classes\":null,\"height\":500,\"left\":[{\"id\":\"ebc1fd4d-1a79-4849-9418-dcfccd4e4fee\",\"type\":\"LinearAxis\"}],\"renderers\":[{\"id\":\"32adc3ff-1315-4b7a-a88d-b7d6d09384db\",\"type\":\"BoxAnnotation\"},{\"id\":\"e9721499-fcd1-4720-957c-0c19bc66fab9\",\"type\":\"GlyphRenderer\"},{\"id\":\"58bc1c52-a0c0-446a-8b12-9f67119f8e7c\",\"type\":\"Legend\"},{\"id\":\"e566eefe-cd12-423b-a868-79bd7bbb5de2\",\"type\":\"LinearAxis\"},{\"id\":\"ebc1fd4d-1a79-4849-9418-dcfccd4e4fee\",\"type\":\"LinearAxis\"},{\"id\":\"475207f9-8567-485d-9add-52f60840677e\",\"type\":\"Grid\"},{\"id\":\"5fc7c9a8-e17a-4f6a-80af-af6d27bdbff6\",\"type\":\"Grid\"}],\"title\":{\"id\":\"c8b0c2ce-0536-4b68-91ab-b8304b635a3b\",\"type\":\"Title\"},\"tool_events\":{\"id\":\"72b33cd7-bf3f-4fb9-995c-c8ae20f28974\",\"type\":\"ToolEvents\"},\"toolbar\":{\"id\":\"993bdd54-40eb-4c53-9790-a513bd55cbc1\",\"type\":\"Toolbar\"},\"width\":500,\"x_mapper_type\":\"auto\",\"x_range\":{\"id\":\"aec88ea5-1539-44ec-8a58-6defcb15354e\",\"type\":\"Range1d\"},\"y_mapper_type\":\"auto\",\"y_range\":{\"id\":\"12056f26-70b3-4c7f-adce-0148fa526964\",\"type\":\"Range1d\"}},\"id\":\"c2235d17-033b-4457-904a-66b3775d46ae\",\"subtype\":\"Chart\",\"type\":\"Plot\"},{\"attributes\":{\"plot\":null,\"text\":null},\"id\":\"c8b0c2ce-0536-4b68-91ab-b8304b635a3b\",\"type\":\"Title\"},{\"attributes\":{},\"id\":\"72b33cd7-bf3f-4fb9-995c-c8ae20f28974\",\"type\":\"ToolEvents\"},{\"attributes\":{\"active_drag\":\"auto\",\"active_scroll\":\"auto\",\"active_tap\":\"auto\",\"tools\":[{\"id\":\"f1855dc0-aaba-4f70-a805-aecc30128a4d\",\"type\":\"PanTool\"},{\"id\":\"53f1d3d6-4871-44de-9753-7c3dc88ad6dc\",\"type\":\"WheelZoomTool\"},{\"id\":\"fabb3121-0978-4ba1-bc28-2e5696ef7ee5\",\"type\":\"BoxZoomTool\"},{\"id\":\"f76dcf40-faba-40bb-8410-2a5148b4173e\",\"type\":\"SaveTool\"},{\"id\":\"4f068760-4a83-4dbc-b984-95c0710bd096\",\"type\":\"ResetTool\"},{\"id\":\"aad95321-0637-4a05-8f72-ce3b8fb37dd7\",\"type\":\"HelpTool\"}]},\"id\":\"993bdd54-40eb-4c53-9790-a513bd55cbc1\",\"type\":\"Toolbar\"},{\"attributes\":{\"callback\":null,\"end\":1.1,\"start\":-0.1},\"id\":\"aec88ea5-1539-44ec-8a58-6defcb15354e\",\"type\":\"Range1d\"},{\"attributes\":{\"dimension\":1,\"plot\":{\"id\":\"c2235d17-033b-4457-904a-66b3775d46ae\",\"subtype\":\"Chart\",\"type\":\"Plot\"},\"ticker\":{\"id\":\"56c41587-c958-4c6c-ada8-6b900b7c52f1\",\"type\":\"BasicTicker\"}},\"id\":\"5fc7c9a8-e17a-4f6a-80af-af6d27bdbff6\",\"type\":\"Grid\"},{\"attributes\":{\"axis_label\":\"x1\",\"formatter\":{\"id\":\"4cf7f8b5-b5b5-4051-aa66-c339e7be9faf\",\"type\":\"BasicTickFormatter\"},\"plot\":{\"id\":\"c2235d17-033b-4457-904a-66b3775d46ae\",\"subtype\":\"Chart\",\"type\":\"Plot\"},\"ticker\":{\"id\":\"53bf245b-516e-4959-a0dc-231aba5dac3f\",\"type\":\"BasicTicker\"}},\"id\":\"e566eefe-cd12-423b-a868-79bd7bbb5de2\",\"type\":\"LinearAxis\"},{\"attributes\":{\"fill_alpha\":{\"value\":0.7},\"fill_color\":{\"value\":\"#f22c40\"},\"line_color\":{\"value\":\"#f22c40\"},\"size\":{\"units\":\"screen\",\"value\":8},\"x\":{\"field\":\"x_values\"},\"y\":{\"field\":\"y_values\"}},\"id\":\"07f86552-0b99-473a-976c-e1416ab1c50e\",\"type\":\"Circle\"},{\"attributes\":{\"plot\":{\"id\":\"c2235d17-033b-4457-904a-66b3775d46ae\",\"subtype\":\"Chart\",\"type\":\"Plot\"},\"ticker\":{\"id\":\"53bf245b-516e-4959-a0dc-231aba5dac3f\",\"type\":\"BasicTicker\"}},\"id\":\"475207f9-8567-485d-9add-52f60840677e\",\"type\":\"Grid\"},{\"attributes\":{\"bottom_units\":\"screen\",\"fill_alpha\":{\"value\":0.5},\"fill_color\":{\"value\":\"lightgrey\"},\"left_units\":\"screen\",\"level\":\"overlay\",\"line_alpha\":{\"value\":1.0},\"line_color\":{\"value\":\"black\"},\"line_dash\":[4,4],\"line_width\":{\"value\":2},\"plot\":null,\"render_mode\":\"css\",\"right_units\":\"screen\",\"top_units\":\"screen\"},\"id\":\"32adc3ff-1315-4b7a-a88d-b7d6d09384db\",\"type\":\"BoxAnnotation\"},{\"attributes\":{\"plot\":{\"id\":\"c2235d17-033b-4457-904a-66b3775d46ae\",\"subtype\":\"Chart\",\"type\":\"Plot\"}},\"id\":\"f1855dc0-aaba-4f70-a805-aecc30128a4d\",\"type\":\"PanTool\"},{\"attributes\":{},\"id\":\"53bf245b-516e-4959-a0dc-231aba5dac3f\",\"type\":\"BasicTicker\"},{\"attributes\":{\"plot\":{\"id\":\"c2235d17-033b-4457-904a-66b3775d46ae\",\"subtype\":\"Chart\",\"type\":\"Plot\"}},\"id\":\"53f1d3d6-4871-44de-9753-7c3dc88ad6dc\",\"type\":\"WheelZoomTool\"},{\"attributes\":{\"data_source\":{\"id\":\"d2584ad6-8ff0-4aa5-a8c2-d863a064cc43\",\"type\":\"ColumnDataSource\"},\"glyph\":{\"id\":\"07f86552-0b99-473a-976c-e1416ab1c50e\",\"type\":\"Circle\"},\"hover_glyph\":null,\"nonselection_glyph\":null,\"selection_glyph\":null},\"id\":\"e9721499-fcd1-4720-957c-0c19bc66fab9\",\"type\":\"GlyphRenderer\"},{\"attributes\":{},\"id\":\"56c41587-c958-4c6c-ada8-6b900b7c52f1\",\"type\":\"BasicTicker\"},{\"attributes\":{\"overlay\":{\"id\":\"32adc3ff-1315-4b7a-a88d-b7d6d09384db\",\"type\":\"BoxAnnotation\"},\"plot\":{\"id\":\"c2235d17-033b-4457-904a-66b3775d46ae\",\"subtype\":\"Chart\",\"type\":\"Plot\"}},\"id\":\"fabb3121-0978-4ba1-bc28-2e5696ef7ee5\",\"type\":\"BoxZoomTool\"},{\"attributes\":{\"plot\":{\"id\":\"c2235d17-033b-4457-904a-66b3775d46ae\",\"subtype\":\"Chart\",\"type\":\"Plot\"}},\"id\":\"f76dcf40-faba-40bb-8410-2a5148b4173e\",\"type\":\"SaveTool\"},{\"attributes\":{\"plot\":{\"id\":\"c2235d17-033b-4457-904a-66b3775d46ae\",\"subtype\":\"Chart\",\"type\":\"Plot\"}},\"id\":\"4f068760-4a83-4dbc-b984-95c0710bd096\",\"type\":\"ResetTool\"},{\"attributes\":{\"plot\":{\"id\":\"c2235d17-033b-4457-904a-66b3775d46ae\",\"subtype\":\"Chart\",\"type\":\"Plot\"}},\"id\":\"aad95321-0637-4a05-8f72-ce3b8fb37dd7\",\"type\":\"HelpTool\"},{\"attributes\":{},\"id\":\"4cf7f8b5-b5b5-4051-aa66-c339e7be9faf\",\"type\":\"BasicTickFormatter\"},{\"attributes\":{\"location\":\"top_left\",\"plot\":{\"id\":\"c2235d17-033b-4457-904a-66b3775d46ae\",\"subtype\":\"Chart\",\"type\":\"Plot\"}},\"id\":\"58bc1c52-a0c0-446a-8b12-9f67119f8e7c\",\"type\":\"Legend\"},{\"attributes\":{\"callback\":null,\"column_names\":[\"x_values\",\"y_values\"],\"data\":{\"chart_index\":[null,null,null,null,null,null,null,null,null,null,null,null,null,null,null,null,null,null,null,null,null],\"x_values\":{\"__ndarray__\":\"AAAAAAAAAAA12bDY24TUPxU7h01fxNs/eeFv1n9V1z8AAAAAAAAAAIPZZR5dY9g/tBfU7b+ttT9uAVWa2YbgP5LWeT1pidc/yMavhO463j+46bQ1ylLfP53I1TMcVNI/RggTmuSw1j/mFDQrJFvYP200Izbw0+4/6/mXr8rg4j+0YbMwO/vePyZtgC3c1N0/AAAAAAAA8D/yz2QJScvkP3dgtUnOcec/\",\"dtype\":\"float64\",\"shape\":[21]},\"y_values\":{\"__ndarray__\":\"EBNkfIIqkT8AAAAAAAAAANSVu2CZ99s/WPfJAPbuyz/rQ9F2HrbaP7yus9M2ttE/aTwac3VM3T9c3k0AJnzeP91u3nei3+U/nTBNpBrt7D8SyDlsvtHmP4th7pG1z94/rzuDIV0c5j+yVKpovlzrPwvTc8YLC9Y/xFV/hv5H4j9ch1CnCOXdP+Q6Dr3vp+o/2ZlRXwZv4T/XhB++dnHmP65lbxWIjuQ/\",\"dtype\":\"float64\",\"shape\":[21]}}},\"id\":\"d2584ad6-8ff0-4aa5-a8c2-d863a064cc43\",\"type\":\"ColumnDataSource\"}],\"root_ids\":[\"c2235d17-033b-4457-904a-66b3775d46ae\"]},\"title\":\"Bokeh Application\",\"version\":\"0.12.4\"}};\n",
       "            var render_items = [{\"docid\":\"5c2a6516-6b01-4486-8b18-483a585ed377\",\"elementid\":\"abd72432-fb95-4e95-b040-4e62bbd00c3a\",\"modelid\":\"c2235d17-033b-4457-904a-66b3775d46ae\"}];\n",
       "            \n",
       "            Bokeh.embed.embed_items(docs_json, render_items);\n",
       "          };\n",
       "          if (document.readyState != \"loading\") fn();\n",
       "          else document.addEventListener(\"DOMContentLoaded\", fn);\n",
       "        })();\n",
       "      },\n",
       "      function(Bokeh) {\n",
       "      }\n",
       "    ];\n",
       "  \n",
       "    function run_inline_js() {\n",
       "      \n",
       "      if ((window.Bokeh !== undefined) || (force === true)) {\n",
       "        for (var i = 0; i < inline_js.length; i++) {\n",
       "          inline_js[i](window.Bokeh);\n",
       "        }if (force === true) {\n",
       "          display_loaded();\n",
       "        }} else if (Date.now() < window._bokeh_timeout) {\n",
       "        setTimeout(run_inline_js, 100);\n",
       "      } else if (!window._bokeh_failed_load) {\n",
       "        console.log(\"Bokeh: BokehJS failed to load within specified timeout.\");\n",
       "        window._bokeh_failed_load = true;\n",
       "      } else if (force !== true) {\n",
       "        var cell = $(document.getElementById(\"abd72432-fb95-4e95-b040-4e62bbd00c3a\")).parents('.cell').data().cell;\n",
       "        cell.output_area.append_execute_result(NB_LOAD_WARNING)\n",
       "      }\n",
       "  \n",
       "    }\n",
       "  \n",
       "    if (window._bokeh_is_loading === 0) {\n",
       "      console.log(\"Bokeh: BokehJS loaded, going straight to plotting\");\n",
       "      run_inline_js();\n",
       "    } else {\n",
       "      load_libs(js_urls, function() {\n",
       "        console.log(\"Bokeh: BokehJS plotting callback run at\", now());\n",
       "        run_inline_js();\n",
       "      });\n",
       "    }\n",
       "  }(this));\n",
       "</script>"
      ]
     },
     "metadata": {},
     "output_type": "display_data"
    }
   ],
   "source": [
    "show(Scatter({'x1': x1, 'x2': x2}, x='x1', y='x2', width=500, height=500))"
   ]
  },
  {
   "cell_type": "markdown",
   "metadata": {
    "collapsed": true,
    "deletable": true,
    "editable": true,
    "slideshow": {
     "slide_type": "slide"
    }
   },
   "source": [
    "### Clustering a la `scikit-learn`"
   ]
  },
  {
   "cell_type": "markdown",
   "metadata": {
    "slideshow": {
     "slide_type": "subslide"
    }
   },
   "source": [
    "Assume we know a prioi how many clusters there are."
   ]
  },
  {
   "cell_type": "code",
   "execution_count": 29,
   "metadata": {
    "collapsed": false,
    "deletable": true,
    "editable": true,
    "slideshow": {
     "slide_type": "-"
    }
   },
   "outputs": [
    {
     "data": {
      "text/plain": [
       "KMeans(algorithm='auto', copy_x=True, init='k-means++', max_iter=300,\n",
       "    n_clusters=3, n_init=10, n_jobs=1, precompute_distances='auto',\n",
       "    random_state=None, tol=0.0001, verbose=0)"
      ]
     },
     "execution_count": 29,
     "metadata": {},
     "output_type": "execute_result"
    }
   ],
   "source": [
    "from sklearn.cluster import KMeans\n",
    "clust = KMeans(n_clusters=3)\n",
    "clust.fit(X)"
   ]
  },
  {
   "cell_type": "markdown",
   "metadata": {
    "slideshow": {
     "slide_type": "subslide"
    }
   },
   "source": [
    "The `KMeans` model has two outputs:\n",
    "\n",
    "* The center point of each cluster\n",
    "* Which cluster each point is assigned to"
   ]
  },
  {
   "cell_type": "code",
   "execution_count": 30,
   "metadata": {
    "collapsed": false,
    "deletable": true,
    "editable": true,
    "slideshow": {
     "slide_type": "-"
    }
   },
   "outputs": [
    {
     "data": {
      "text/plain": [
       "array([[ 0.98168569,  0.44461352],\n",
       "       [ 0.20533333,  0.26690359],\n",
       "       [ 0.49479724,  0.66459052]])"
      ]
     },
     "execution_count": 30,
     "metadata": {},
     "output_type": "execute_result"
    }
   ],
   "source": [
    "clust.cluster_centers_"
   ]
  },
  {
   "cell_type": "markdown",
   "metadata": {
    "deletable": true,
    "editable": true,
    "slideshow": {
     "slide_type": "subslide"
    }
   },
   "source": [
    "We need a function to easily plot clustering results."
   ]
  },
  {
   "cell_type": "code",
   "execution_count": 31,
   "metadata": {
    "collapsed": true,
    "deletable": true,
    "editable": true,
    "slideshow": {
     "slide_type": "-"
    }
   },
   "outputs": [],
   "source": [
    "def plot_clusters(clusters, cluster_centers):\n",
    "    plot = Scatter(\n",
    "        {'x1': x1, 'x2': x2, 'clusters': clusters},\n",
    "        x='x1', y='x2',\n",
    "        color='clusters', marker='clusters', \n",
    "        width=500, height=500\n",
    "    )\n",
    "\n",
    "    for x10, x20 in cluster_centers:\n",
    "        plot.circle(x10, x20, alpha=0.5, color='grey', size=15)\n",
    "\n",
    "    show(plot)"
   ]
  },
  {
   "cell_type": "markdown",
   "metadata": {
    "deletable": true,
    "editable": true,
    "slideshow": {
     "slide_type": "subslide"
    }
   },
   "source": [
    "How'd `scikit-learn` do?"
   ]
  },
  {
   "cell_type": "code",
   "execution_count": 32,
   "metadata": {
    "collapsed": false,
    "deletable": true,
    "editable": true,
    "slideshow": {
     "slide_type": "-"
    }
   },
   "outputs": [
    {
     "data": {
      "text/html": [
       "\n",
       "\n",
       "    <div class=\"bk-root\">\n",
       "        <div class=\"bk-plotdiv\" id=\"3c5ff263-d4bc-48e1-846a-c63ba662a5b5\"></div>\n",
       "    </div>\n",
       "<script type=\"text/javascript\">\n",
       "  \n",
       "  (function(global) {\n",
       "    function now() {\n",
       "      return new Date();\n",
       "    }\n",
       "  \n",
       "    var force = false;\n",
       "  \n",
       "    if (typeof (window._bokeh_onload_callbacks) === \"undefined\" || force === true) {\n",
       "      window._bokeh_onload_callbacks = [];\n",
       "      window._bokeh_is_loading = undefined;\n",
       "    }\n",
       "  \n",
       "  \n",
       "    \n",
       "    if (typeof (window._bokeh_timeout) === \"undefined\" || force === true) {\n",
       "      window._bokeh_timeout = Date.now() + 0;\n",
       "      window._bokeh_failed_load = false;\n",
       "    }\n",
       "  \n",
       "    var NB_LOAD_WARNING = {'data': {'text/html':\n",
       "       \"<div style='background-color: #fdd'>\\n\"+\n",
       "       \"<p>\\n\"+\n",
       "       \"BokehJS does not appear to have successfully loaded. If loading BokehJS from CDN, this \\n\"+\n",
       "       \"may be due to a slow or bad network connection. Possible fixes:\\n\"+\n",
       "       \"</p>\\n\"+\n",
       "       \"<ul>\\n\"+\n",
       "       \"<li>re-rerun `output_notebook()` to attempt to load from CDN again, or</li>\\n\"+\n",
       "       \"<li>use INLINE resources instead, as so:</li>\\n\"+\n",
       "       \"</ul>\\n\"+\n",
       "       \"<code>\\n\"+\n",
       "       \"from bokeh.resources import INLINE\\n\"+\n",
       "       \"output_notebook(resources=INLINE)\\n\"+\n",
       "       \"</code>\\n\"+\n",
       "       \"</div>\"}};\n",
       "  \n",
       "    function display_loaded() {\n",
       "      if (window.Bokeh !== undefined) {\n",
       "        document.getElementById(\"3c5ff263-d4bc-48e1-846a-c63ba662a5b5\").textContent = \"BokehJS successfully loaded.\";\n",
       "      } else if (Date.now() < window._bokeh_timeout) {\n",
       "        setTimeout(display_loaded, 100)\n",
       "      }\n",
       "    }\n",
       "  \n",
       "    function run_callbacks() {\n",
       "      window._bokeh_onload_callbacks.forEach(function(callback) { callback() });\n",
       "      delete window._bokeh_onload_callbacks\n",
       "      console.info(\"Bokeh: all callbacks have finished\");\n",
       "    }\n",
       "  \n",
       "    function load_libs(js_urls, callback) {\n",
       "      window._bokeh_onload_callbacks.push(callback);\n",
       "      if (window._bokeh_is_loading > 0) {\n",
       "        console.log(\"Bokeh: BokehJS is being loaded, scheduling callback at\", now());\n",
       "        return null;\n",
       "      }\n",
       "      if (js_urls == null || js_urls.length === 0) {\n",
       "        run_callbacks();\n",
       "        return null;\n",
       "      }\n",
       "      console.log(\"Bokeh: BokehJS not loaded, scheduling load and callback at\", now());\n",
       "      window._bokeh_is_loading = js_urls.length;\n",
       "      for (var i = 0; i < js_urls.length; i++) {\n",
       "        var url = js_urls[i];\n",
       "        var s = document.createElement('script');\n",
       "        s.src = url;\n",
       "        s.async = false;\n",
       "        s.onreadystatechange = s.onload = function() {\n",
       "          window._bokeh_is_loading--;\n",
       "          if (window._bokeh_is_loading === 0) {\n",
       "            console.log(\"Bokeh: all BokehJS libraries loaded\");\n",
       "            run_callbacks()\n",
       "          }\n",
       "        };\n",
       "        s.onerror = function() {\n",
       "          console.warn(\"failed to load library \" + url);\n",
       "        };\n",
       "        console.log(\"Bokeh: injecting script tag for BokehJS library: \", url);\n",
       "        document.getElementsByTagName(\"head\")[0].appendChild(s);\n",
       "      }\n",
       "    };var element = document.getElementById(\"3c5ff263-d4bc-48e1-846a-c63ba662a5b5\");\n",
       "    if (element == null) {\n",
       "      console.log(\"Bokeh: ERROR: autoload.js configured with elementid '3c5ff263-d4bc-48e1-846a-c63ba662a5b5' but no matching script tag was found. \")\n",
       "      return false;\n",
       "    }\n",
       "  \n",
       "    var js_urls = [];\n",
       "  \n",
       "    var inline_js = [\n",
       "      function(Bokeh) {\n",
       "        (function() {\n",
       "          var fn = function() {\n",
       "            var docs_json = {\"07bf1566-df00-4a37-a3f1-7afa3e839c06\":{\"roots\":{\"references\":[{\"attributes\":{\"data_source\":{\"id\":\"38445379-5c4d-4d71-8693-702a34a1bc26\",\"type\":\"ColumnDataSource\"},\"glyph\":{\"id\":\"a2487362-8a27-4775-a782-38c819e51d06\",\"type\":\"Circle\"},\"hover_glyph\":null,\"nonselection_glyph\":null,\"selection_glyph\":null},\"id\":\"f9488e8e-944c-4243-bf47-29f70702b9dc\",\"type\":\"GlyphRenderer\"},{\"attributes\":{},\"id\":\"95814d8a-d29d-4c09-a969-f115b7dcdfcc\",\"type\":\"BasicTicker\"},{\"attributes\":{\"data_source\":{\"id\":\"8714b5dd-a429-4d3a-9d59-4433270cb414\",\"type\":\"ColumnDataSource\"},\"glyph\":{\"id\":\"c3a179c1-1220-4b0c-aa6b-31965408ead2\",\"type\":\"Triangle\"},\"hover_glyph\":null,\"nonselection_glyph\":null,\"selection_glyph\":null},\"id\":\"7e963bc2-0549-4d63-9ec1-c683c9ae262c\",\"type\":\"GlyphRenderer\"},{\"attributes\":{\"axis_label\":\"x1\",\"formatter\":{\"id\":\"6904213c-c02d-448e-b181-eea199232619\",\"type\":\"BasicTickFormatter\"},\"plot\":{\"id\":\"31bd22dd-3bf4-48f4-bfd4-6e5d40e5adbe\",\"subtype\":\"Chart\",\"type\":\"Plot\"},\"ticker\":{\"id\":\"95814d8a-d29d-4c09-a969-f115b7dcdfcc\",\"type\":\"BasicTicker\"}},\"id\":\"1582a7d0-e20c-4970-8ea6-eaa533e2721c\",\"type\":\"LinearAxis\"},{\"attributes\":{\"dimension\":1,\"plot\":{\"id\":\"31bd22dd-3bf4-48f4-bfd4-6e5d40e5adbe\",\"subtype\":\"Chart\",\"type\":\"Plot\"},\"ticker\":{\"id\":\"2ff659b0-71ee-472d-acd5-d0ec3c6fc3f1\",\"type\":\"BasicTicker\"}},\"id\":\"823c8c64-b12c-4bb4-a99f-8eccd9327eec\",\"type\":\"Grid\"},{\"attributes\":{\"fill_alpha\":{\"value\":0.7},\"fill_color\":{\"value\":\"#f22c40\"},\"line_color\":{\"value\":\"#f22c40\"},\"size\":{\"units\":\"screen\",\"value\":8},\"x\":{\"field\":\"x_values\"},\"y\":{\"field\":\"y_values\"}},\"id\":\"a2487362-8a27-4775-a782-38c819e51d06\",\"type\":\"Circle\"},{\"attributes\":{\"fill_alpha\":{\"value\":0.5},\"fill_color\":{\"value\":\"grey\"},\"line_alpha\":{\"value\":0.5},\"line_color\":{\"value\":\"grey\"},\"size\":{\"units\":\"screen\",\"value\":15},\"x\":{\"value\":0.20533333463566544},\"y\":{\"value\":0.26690358664865543}},\"id\":\"2e91f1c7-98f9-4c7f-ba31-0c33dd21986e\",\"type\":\"Circle\"},{\"attributes\":{\"callback\":null},\"id\":\"2643ae0e-fefc-42f5-bd02-9c9b48eaa921\",\"type\":\"ColumnDataSource\"},{\"attributes\":{\"callback\":null,\"column_names\":[\"x_values\",\"y_values\"],\"data\":{\"chart_index\":[{\"clusters\":0},{\"clusters\":0}],\"clusters\":[0,0],\"x_values\":{\"__ndarray__\":\"bTQjNvDT7j8AAAAAAADwPw==\",\"dtype\":\"float64\",\"shape\":[2]},\"y_values\":{\"__ndarray__\":\"C9NzxgsL1j/ZmVFfBm/hPw==\",\"dtype\":\"float64\",\"shape\":[2]}}},\"id\":\"38445379-5c4d-4d71-8693-702a34a1bc26\",\"type\":\"ColumnDataSource\"},{\"attributes\":{},\"id\":\"dc788624-f05c-492b-9326-6866fefc662e\",\"type\":\"BasicTickFormatter\"},{\"attributes\":{},\"id\":\"6904213c-c02d-448e-b181-eea199232619\",\"type\":\"BasicTickFormatter\"},{\"attributes\":{\"callback\":null},\"id\":\"a7316445-bb50-472f-8a58-e547e8719a65\",\"type\":\"ColumnDataSource\"},{\"attributes\":{\"plot\":{\"id\":\"31bd22dd-3bf4-48f4-bfd4-6e5d40e5adbe\",\"subtype\":\"Chart\",\"type\":\"Plot\"},\"ticker\":{\"id\":\"95814d8a-d29d-4c09-a969-f115b7dcdfcc\",\"type\":\"BasicTicker\"}},\"id\":\"a9bac60a-a5e4-491a-8f29-82d89290ba7b\",\"type\":\"Grid\"},{\"attributes\":{\"fill_alpha\":{\"value\":0.1},\"fill_color\":{\"value\":\"#1f77b4\"},\"line_alpha\":{\"value\":0.1},\"line_color\":{\"value\":\"#1f77b4\"},\"size\":{\"units\":\"screen\",\"value\":15},\"x\":{\"value\":0.20533333463566544},\"y\":{\"value\":0.26690358664865543}},\"id\":\"3df1c101-5f00-4c5e-bfee-af1c565351c5\",\"type\":\"Circle\"},{\"attributes\":{\"data_source\":{\"id\":\"ce86707d-73fb-415b-b029-1405e87e5a85\",\"type\":\"ColumnDataSource\"},\"glyph\":{\"id\":\"f36c571f-86e2-4b98-91cd-fffba0b3c1f7\",\"type\":\"Circle\"},\"hover_glyph\":null,\"nonselection_glyph\":{\"id\":\"8f4f8cc9-4753-47c4-8b1f-55e6ce3942b8\",\"type\":\"Circle\"},\"selection_glyph\":null},\"id\":\"819c82d7-09da-4608-9bfb-eec38e2091a1\",\"type\":\"GlyphRenderer\"},{\"attributes\":{\"axis_label\":\"x2\",\"formatter\":{\"id\":\"dc788624-f05c-492b-9326-6866fefc662e\",\"type\":\"BasicTickFormatter\"},\"plot\":{\"id\":\"31bd22dd-3bf4-48f4-bfd4-6e5d40e5adbe\",\"subtype\":\"Chart\",\"type\":\"Plot\"},\"ticker\":{\"id\":\"2ff659b0-71ee-472d-acd5-d0ec3c6fc3f1\",\"type\":\"BasicTicker\"}},\"id\":\"27470a1b-1da2-446e-b30f-006e7a16650c\",\"type\":\"LinearAxis\"},{\"attributes\":{\"fill_alpha\":{\"value\":0.1},\"fill_color\":{\"value\":\"#1f77b4\"},\"line_alpha\":{\"value\":0.1},\"line_color\":{\"value\":\"#1f77b4\"},\"size\":{\"units\":\"screen\",\"value\":15},\"x\":{\"value\":0.9816856888472276},\"y\":{\"value\":0.44461351870091004}},\"id\":\"eb4dc6f0-103a-46dd-94f9-d68b0098c0b8\",\"type\":\"Circle\"},{\"attributes\":{\"callback\":null,\"end\":1.1,\"start\":-0.1},\"id\":\"80235601-a0cb-4404-9088-5735bf7ac5cb\",\"type\":\"Range1d\"},{\"attributes\":{\"label\":{\"value\":\"0\"},\"renderers\":[{\"id\":\"f9488e8e-944c-4243-bf47-29f70702b9dc\",\"type\":\"GlyphRenderer\"}]},\"id\":\"16bcffe5-ce40-4906-88ad-79813423264c\",\"type\":\"LegendItem\"},{\"attributes\":{\"callback\":null},\"id\":\"ce86707d-73fb-415b-b029-1405e87e5a85\",\"type\":\"ColumnDataSource\"},{\"attributes\":{\"fill_alpha\":{\"value\":0.5},\"fill_color\":{\"value\":\"grey\"},\"line_alpha\":{\"value\":0.5},\"line_color\":{\"value\":\"grey\"},\"size\":{\"units\":\"screen\",\"value\":15},\"x\":{\"value\":0.4947972424121636},\"y\":{\"value\":0.6645905247984294}},\"id\":\"f36c571f-86e2-4b98-91cd-fffba0b3c1f7\",\"type\":\"Circle\"},{\"attributes\":{\"data_source\":{\"id\":\"dc5e0062-6b15-490c-9168-1074b54dc4a8\",\"type\":\"ColumnDataSource\"},\"glyph\":{\"id\":\"f7cee301-c021-4640-8c8c-04b4e3fac125\",\"type\":\"Square\"},\"hover_glyph\":null,\"nonselection_glyph\":null,\"selection_glyph\":null},\"id\":\"12d5d0e1-8b1b-49cf-ad3f-64a9b263fe66\",\"type\":\"GlyphRenderer\"},{\"attributes\":{},\"id\":\"7d29afb1-e98d-469f-b9b2-2132259a62b1\",\"type\":\"ToolEvents\"},{\"attributes\":{\"callback\":null,\"column_names\":[\"x_values\",\"y_values\"],\"data\":{\"chart_index\":[{\"clusters\":2},{\"clusters\":2},{\"clusters\":2},{\"clusters\":2},{\"clusters\":2},{\"clusters\":2},{\"clusters\":2},{\"clusters\":2},{\"clusters\":2},{\"clusters\":2},{\"clusters\":2},{\"clusters\":2}],\"clusters\":[2,2,2,2,2,2,2,2,2,2,2,2],\"x_values\":{\"__ndarray__\":\"FTuHTV/E2z9uAVWa2YbgP5LWeT1pidc/yMavhO463j+46bQ1ylLfP0YIE5rksNY/5hQ0KyRb2D/r+ZevyuDiP7RhszA7+94/Jm2ALdzU3T/yz2QJScvkP3dgtUnOcec/\",\"dtype\":\"float64\",\"shape\":[12]},\"y_values\":{\"__ndarray__\":\"1JW7YJn32z9c3k0AJnzeP91u3nei3+U/nTBNpBrt7D8SyDlsvtHmP687gyFdHOY/slSqaL5c6z/EVX+G/kfiP1yHUKcI5d0/5DoOve+n6j/XhB++dnHmP65lbxWIjuQ/\",\"dtype\":\"float64\",\"shape\":[12]}}},\"id\":\"8714b5dd-a429-4d3a-9d59-4433270cb414\",\"type\":\"ColumnDataSource\"},{\"attributes\":{\"fill_alpha\":{\"value\":0.7},\"fill_color\":{\"value\":\"#5ab738\"},\"line_color\":{\"value\":\"#5ab738\"},\"size\":{\"units\":\"screen\",\"value\":8},\"x\":{\"field\":\"x_values\"},\"y\":{\"field\":\"y_values\"}},\"id\":\"f7cee301-c021-4640-8c8c-04b4e3fac125\",\"type\":\"Square\"},{\"attributes\":{\"plot\":null,\"text\":null},\"id\":\"895e1272-06ec-43f5-a540-15f5e3ba6317\",\"type\":\"Title\"},{\"attributes\":{\"below\":[{\"id\":\"1582a7d0-e20c-4970-8ea6-eaa533e2721c\",\"type\":\"LinearAxis\"}],\"css_classes\":null,\"height\":500,\"left\":[{\"id\":\"27470a1b-1da2-446e-b30f-006e7a16650c\",\"type\":\"LinearAxis\"}],\"renderers\":[{\"id\":\"a21a1524-7d83-4548-abb8-b922607f531c\",\"type\":\"BoxAnnotation\"},{\"id\":\"12d5d0e1-8b1b-49cf-ad3f-64a9b263fe66\",\"type\":\"GlyphRenderer\"},{\"id\":\"7e963bc2-0549-4d63-9ec1-c683c9ae262c\",\"type\":\"GlyphRenderer\"},{\"id\":\"f9488e8e-944c-4243-bf47-29f70702b9dc\",\"type\":\"GlyphRenderer\"},{\"id\":\"32374ff6-45df-427c-820f-e89fc83f0acb\",\"type\":\"Legend\"},{\"id\":\"1582a7d0-e20c-4970-8ea6-eaa533e2721c\",\"type\":\"LinearAxis\"},{\"id\":\"27470a1b-1da2-446e-b30f-006e7a16650c\",\"type\":\"LinearAxis\"},{\"id\":\"a9bac60a-a5e4-491a-8f29-82d89290ba7b\",\"type\":\"Grid\"},{\"id\":\"823c8c64-b12c-4bb4-a99f-8eccd9327eec\",\"type\":\"Grid\"},{\"id\":\"e59f886b-0edf-4277-949c-3cb6318b8a69\",\"type\":\"GlyphRenderer\"},{\"id\":\"af23114b-ff92-45d5-967d-1ed5685d0fb2\",\"type\":\"GlyphRenderer\"},{\"id\":\"819c82d7-09da-4608-9bfb-eec38e2091a1\",\"type\":\"GlyphRenderer\"}],\"title\":{\"id\":\"895e1272-06ec-43f5-a540-15f5e3ba6317\",\"type\":\"Title\"},\"tool_events\":{\"id\":\"7d29afb1-e98d-469f-b9b2-2132259a62b1\",\"type\":\"ToolEvents\"},\"toolbar\":{\"id\":\"5dffd6ea-afd3-4bd8-adf6-40ededd9cf6a\",\"type\":\"Toolbar\"},\"width\":500,\"x_mapper_type\":\"auto\",\"x_range\":{\"id\":\"80235601-a0cb-4404-9088-5735bf7ac5cb\",\"type\":\"Range1d\"},\"y_mapper_type\":\"auto\",\"y_range\":{\"id\":\"6ea24b1c-bd3b-4af8-af75-39162eb71772\",\"type\":\"Range1d\"}},\"id\":\"31bd22dd-3bf4-48f4-bfd4-6e5d40e5adbe\",\"subtype\":\"Chart\",\"type\":\"Plot\"},{\"attributes\":{},\"id\":\"2ff659b0-71ee-472d-acd5-d0ec3c6fc3f1\",\"type\":\"BasicTicker\"},{\"attributes\":{\"callback\":null,\"column_names\":[\"x_values\",\"y_values\"],\"data\":{\"chart_index\":[{\"clusters\":1},{\"clusters\":1},{\"clusters\":1},{\"clusters\":1},{\"clusters\":1},{\"clusters\":1},{\"clusters\":1}],\"clusters\":[1,1,1,1,1,1,1],\"x_values\":{\"__ndarray__\":\"AAAAAAAAAAA12bDY24TUP3nhb9Z/Vdc/AAAAAAAAAACD2WUeXWPYP7QX1O2/rbU/ncjVMxxU0j8=\",\"dtype\":\"float64\",\"shape\":[7]},\"y_values\":{\"__ndarray__\":\"EBNkfIIqkT8AAAAAAAAAAFj3yQD27ss/60PRdh622j+8rrPTNrbRP2k8GnN1TN0/i2HukbXP3j8=\",\"dtype\":\"float64\",\"shape\":[7]}}},\"id\":\"dc5e0062-6b15-490c-9168-1074b54dc4a8\",\"type\":\"ColumnDataSource\"},{\"attributes\":{\"overlay\":{\"id\":\"a21a1524-7d83-4548-abb8-b922607f531c\",\"type\":\"BoxAnnotation\"},\"plot\":{\"id\":\"31bd22dd-3bf4-48f4-bfd4-6e5d40e5adbe\",\"subtype\":\"Chart\",\"type\":\"Plot\"}},\"id\":\"ce5d2e3c-2070-44ba-baf8-0caf061d0839\",\"type\":\"BoxZoomTool\"},{\"attributes\":{\"plot\":{\"id\":\"31bd22dd-3bf4-48f4-bfd4-6e5d40e5adbe\",\"subtype\":\"Chart\",\"type\":\"Plot\"}},\"id\":\"662c8941-1c61-4949-8e8c-2e46c378bed4\",\"type\":\"WheelZoomTool\"},{\"attributes\":{\"active_drag\":\"auto\",\"active_scroll\":\"auto\",\"active_tap\":\"auto\",\"tools\":[{\"id\":\"9784eb9b-1c6c-46a5-83ac-0d49bd293eed\",\"type\":\"PanTool\"},{\"id\":\"662c8941-1c61-4949-8e8c-2e46c378bed4\",\"type\":\"WheelZoomTool\"},{\"id\":\"ce5d2e3c-2070-44ba-baf8-0caf061d0839\",\"type\":\"BoxZoomTool\"},{\"id\":\"4cf63b1e-3278-41de-86b8-001171d06b98\",\"type\":\"SaveTool\"},{\"id\":\"eabb8228-bf41-441d-9d38-8addb9adfe15\",\"type\":\"ResetTool\"},{\"id\":\"1bfc926b-50ef-4f09-a4df-5643a0e9fe93\",\"type\":\"HelpTool\"}]},\"id\":\"5dffd6ea-afd3-4bd8-adf6-40ededd9cf6a\",\"type\":\"Toolbar\"},{\"attributes\":{\"items\":[{\"id\":\"55772a61-7a45-4abc-bb5f-b01568197e74\",\"type\":\"LegendItem\"},{\"id\":\"b8a81eb8-59f0-458c-a4ad-c44a057d04d5\",\"type\":\"LegendItem\"},{\"id\":\"16bcffe5-ce40-4906-88ad-79813423264c\",\"type\":\"LegendItem\"}],\"location\":\"top_left\",\"plot\":{\"id\":\"31bd22dd-3bf4-48f4-bfd4-6e5d40e5adbe\",\"subtype\":\"Chart\",\"type\":\"Plot\"}},\"id\":\"32374ff6-45df-427c-820f-e89fc83f0acb\",\"type\":\"Legend\"},{\"attributes\":{\"data_source\":{\"id\":\"2643ae0e-fefc-42f5-bd02-9c9b48eaa921\",\"type\":\"ColumnDataSource\"},\"glyph\":{\"id\":\"2e91f1c7-98f9-4c7f-ba31-0c33dd21986e\",\"type\":\"Circle\"},\"hover_glyph\":null,\"nonselection_glyph\":{\"id\":\"3df1c101-5f00-4c5e-bfee-af1c565351c5\",\"type\":\"Circle\"},\"selection_glyph\":null},\"id\":\"af23114b-ff92-45d5-967d-1ed5685d0fb2\",\"type\":\"GlyphRenderer\"},{\"attributes\":{\"label\":{\"value\":\"1\"},\"renderers\":[{\"id\":\"12d5d0e1-8b1b-49cf-ad3f-64a9b263fe66\",\"type\":\"GlyphRenderer\"}]},\"id\":\"55772a61-7a45-4abc-bb5f-b01568197e74\",\"type\":\"LegendItem\"},{\"attributes\":{\"callback\":null,\"end\":0.994337704650453,\"start\":-0.09039433678640482},\"id\":\"6ea24b1c-bd3b-4af8-af75-39162eb71772\",\"type\":\"Range1d\"},{\"attributes\":{\"label\":{\"value\":\"2\"},\"renderers\":[{\"id\":\"7e963bc2-0549-4d63-9ec1-c683c9ae262c\",\"type\":\"GlyphRenderer\"}]},\"id\":\"b8a81eb8-59f0-458c-a4ad-c44a057d04d5\",\"type\":\"LegendItem\"},{\"attributes\":{\"fill_alpha\":{\"value\":0.7},\"fill_color\":{\"value\":\"#407ee7\"},\"line_color\":{\"value\":\"#407ee7\"},\"size\":{\"units\":\"screen\",\"value\":8},\"x\":{\"field\":\"x_values\"},\"y\":{\"field\":\"y_values\"}},\"id\":\"c3a179c1-1220-4b0c-aa6b-31965408ead2\",\"type\":\"Triangle\"},{\"attributes\":{\"fill_alpha\":{\"value\":0.5},\"fill_color\":{\"value\":\"grey\"},\"line_alpha\":{\"value\":0.5},\"line_color\":{\"value\":\"grey\"},\"size\":{\"units\":\"screen\",\"value\":15},\"x\":{\"value\":0.9816856888472276},\"y\":{\"value\":0.44461351870091004}},\"id\":\"4f7712e9-3cfc-42ca-a96c-4aa679853772\",\"type\":\"Circle\"},{\"attributes\":{\"plot\":{\"id\":\"31bd22dd-3bf4-48f4-bfd4-6e5d40e5adbe\",\"subtype\":\"Chart\",\"type\":\"Plot\"}},\"id\":\"9784eb9b-1c6c-46a5-83ac-0d49bd293eed\",\"type\":\"PanTool\"},{\"attributes\":{\"bottom_units\":\"screen\",\"fill_alpha\":{\"value\":0.5},\"fill_color\":{\"value\":\"lightgrey\"},\"left_units\":\"screen\",\"level\":\"overlay\",\"line_alpha\":{\"value\":1.0},\"line_color\":{\"value\":\"black\"},\"line_dash\":[4,4],\"line_width\":{\"value\":2},\"plot\":null,\"render_mode\":\"css\",\"right_units\":\"screen\",\"top_units\":\"screen\"},\"id\":\"a21a1524-7d83-4548-abb8-b922607f531c\",\"type\":\"BoxAnnotation\"},{\"attributes\":{\"data_source\":{\"id\":\"a7316445-bb50-472f-8a58-e547e8719a65\",\"type\":\"ColumnDataSource\"},\"glyph\":{\"id\":\"4f7712e9-3cfc-42ca-a96c-4aa679853772\",\"type\":\"Circle\"},\"hover_glyph\":null,\"nonselection_glyph\":{\"id\":\"eb4dc6f0-103a-46dd-94f9-d68b0098c0b8\",\"type\":\"Circle\"},\"selection_glyph\":null},\"id\":\"e59f886b-0edf-4277-949c-3cb6318b8a69\",\"type\":\"GlyphRenderer\"},{\"attributes\":{\"fill_alpha\":{\"value\":0.1},\"fill_color\":{\"value\":\"#1f77b4\"},\"line_alpha\":{\"value\":0.1},\"line_color\":{\"value\":\"#1f77b4\"},\"size\":{\"units\":\"screen\",\"value\":15},\"x\":{\"value\":0.4947972424121636},\"y\":{\"value\":0.6645905247984294}},\"id\":\"8f4f8cc9-4753-47c4-8b1f-55e6ce3942b8\",\"type\":\"Circle\"},{\"attributes\":{\"plot\":{\"id\":\"31bd22dd-3bf4-48f4-bfd4-6e5d40e5adbe\",\"subtype\":\"Chart\",\"type\":\"Plot\"}},\"id\":\"4cf63b1e-3278-41de-86b8-001171d06b98\",\"type\":\"SaveTool\"},{\"attributes\":{\"plot\":{\"id\":\"31bd22dd-3bf4-48f4-bfd4-6e5d40e5adbe\",\"subtype\":\"Chart\",\"type\":\"Plot\"}},\"id\":\"eabb8228-bf41-441d-9d38-8addb9adfe15\",\"type\":\"ResetTool\"},{\"attributes\":{\"plot\":{\"id\":\"31bd22dd-3bf4-48f4-bfd4-6e5d40e5adbe\",\"subtype\":\"Chart\",\"type\":\"Plot\"}},\"id\":\"1bfc926b-50ef-4f09-a4df-5643a0e9fe93\",\"type\":\"HelpTool\"}],\"root_ids\":[\"31bd22dd-3bf4-48f4-bfd4-6e5d40e5adbe\"]},\"title\":\"Bokeh Application\",\"version\":\"0.12.4\"}};\n",
       "            var render_items = [{\"docid\":\"07bf1566-df00-4a37-a3f1-7afa3e839c06\",\"elementid\":\"3c5ff263-d4bc-48e1-846a-c63ba662a5b5\",\"modelid\":\"31bd22dd-3bf4-48f4-bfd4-6e5d40e5adbe\"}];\n",
       "            \n",
       "            Bokeh.embed.embed_items(docs_json, render_items);\n",
       "          };\n",
       "          if (document.readyState != \"loading\") fn();\n",
       "          else document.addEventListener(\"DOMContentLoaded\", fn);\n",
       "        })();\n",
       "      },\n",
       "      function(Bokeh) {\n",
       "      }\n",
       "    ];\n",
       "  \n",
       "    function run_inline_js() {\n",
       "      \n",
       "      if ((window.Bokeh !== undefined) || (force === true)) {\n",
       "        for (var i = 0; i < inline_js.length; i++) {\n",
       "          inline_js[i](window.Bokeh);\n",
       "        }if (force === true) {\n",
       "          display_loaded();\n",
       "        }} else if (Date.now() < window._bokeh_timeout) {\n",
       "        setTimeout(run_inline_js, 100);\n",
       "      } else if (!window._bokeh_failed_load) {\n",
       "        console.log(\"Bokeh: BokehJS failed to load within specified timeout.\");\n",
       "        window._bokeh_failed_load = true;\n",
       "      } else if (force !== true) {\n",
       "        var cell = $(document.getElementById(\"3c5ff263-d4bc-48e1-846a-c63ba662a5b5\")).parents('.cell').data().cell;\n",
       "        cell.output_area.append_execute_result(NB_LOAD_WARNING)\n",
       "      }\n",
       "  \n",
       "    }\n",
       "  \n",
       "    if (window._bokeh_is_loading === 0) {\n",
       "      console.log(\"Bokeh: BokehJS loaded, going straight to plotting\");\n",
       "      run_inline_js();\n",
       "    } else {\n",
       "      load_libs(js_urls, function() {\n",
       "        console.log(\"Bokeh: BokehJS plotting callback run at\", now());\n",
       "        run_inline_js();\n",
       "      });\n",
       "    }\n",
       "  }(this));\n",
       "</script>"
      ]
     },
     "metadata": {},
     "output_type": "display_data"
    }
   ],
   "source": [
    "plot_clusters(clust.predict(X), clust.cluster_centers_)"
   ]
  },
  {
   "cell_type": "markdown",
   "metadata": {
    "collapsed": true,
    "deletable": true,
    "editable": true,
    "slideshow": {
     "slide_type": "slide"
    }
   },
   "source": [
    "### Clustering a la Mixed Integer Linear Optimization"
   ]
  },
  {
   "cell_type": "markdown",
   "metadata": {
    "deletable": true,
    "editable": true,
    "slideshow": {
     "slide_type": "subslide"
    }
   },
   "source": [
    "Let's extend the linar optimization model support the concept of binary variables.\n",
    "\n",
    "$$\n",
    "\\begin{align}\n",
    "    \\text{min}  \\ \\ \\ & \\ c'x + d'y \\\\\n",
    "    \\text{s.t.} \\ \\ \\ & \\ A x + D y = b \\\\\n",
    "                      & \\ x \\ge 0 \\\\\n",
    "                      & \\ y \\in \\{0, 1\\}\n",
    "\\end{align}\n",
    "$$\n",
    "\n",
    "$y$ is a vector of variables which can only take values $0$ or $1$. These represent discrete decisions and allow logical relationships among them."
   ]
  },
  {
   "cell_type": "markdown",
   "metadata": {
    "deletable": true,
    "editable": true,
    "slideshow": {
     "slide_type": "fragment"
    }
   },
   "source": [
    "Discrete optimization is very powerful, but not well solved the way linear optimization is. Model solvability is highly dependent on formulation."
   ]
  },
  {
   "cell_type": "markdown",
   "metadata": {
    "deletable": true,
    "editable": true,
    "slideshow": {
     "slide_type": "subslide"
    }
   },
   "source": [
    "What's a clustering model look like with binary variables?\n",
    "\n",
    "#### Inputs:\n",
    "\n",
    "$$(x_{1i}, x_{2i}) = \\text{location of observed point} \\in [0, 1]\\ \\forall\\ i$$\n"
   ]
  },
  {
   "cell_type": "markdown",
   "metadata": {
    "deletable": true,
    "editable": true,
    "slideshow": {
     "slide_type": "fragment"
    }
   },
   "source": [
    "#### Model:\n",
    "\n",
    "We need to make two major types of decisions:\n",
    "\n",
    "* Where are the cluster centers, $\\{w_1, w_2, w_3\\}$?\n",
    "* Which cluster is each point assigned to? $v_{ij} = 1$ if point $i$ is part of cluster $j$, $0$ if not."
   ]
  },
  {
   "cell_type": "markdown",
   "metadata": {
    "slideshow": {
     "slide_type": "subslide"
    }
   },
   "source": [
    "We minimize total [taxicab distance](https://en.wikipedia.org/wiki/Taxicab_geometry) from each point to its assigned cluster\n",
    "\n",
    "* $d_{x_{1}i}$ is the distance from point $i$ to its cluster center along the $x_1$ axis\n",
    "* $d_{x_{2}i}$ is the distance from point $i$ to its cluster center along the $x_2$ axis\n",
    "\n",
    "$$\n",
    "\\begin{align}\n",
    "    \\text{min}  \\ \\ \\ & \\ \\sum_i (d_{x_{1}i} + d_{x_{2}i}) \\ & \\ \\\\\n",
    "    \\text{s.t.} \\ \\ \\ & \\ \\sum_j v_{ij} = 1 & \\ \\forall\\ i \\\\\n",
    "                      & \\ d_{x_{1}i} \\ge (x_{1i} - w_{j1}) - (1 - v_{ij}) & \\ \\forall\\ i, j \\\\\n",
    "                      & \\ d_{x_{1}i} \\ge (w_{j1} - x_{1i}) - (1 - v_{ij}) & \\ \\forall\\ i, j \\\\\n",
    "                      & \\ d_{x_{2}i} \\ge (x_{2i} - w_{j2}) - (1 - v_{ij}) & \\ \\forall\\ i, j \\\\\n",
    "                      & \\ d_{x_{2}i} \\ge (w_{j2} - x_{2i}) - (1 - v_{ij}) & \\ \\forall\\ i, j \\\\\n",
    "                      & \\ 0 \\le d_x \\le 1 \\\\\n",
    "                      & v_{ij} \\in \\{0, 1\\}\n",
    "\\end{align}\n",
    "$$"
   ]
  },
  {
   "cell_type": "markdown",
   "metadata": {
    "slideshow": {
     "slide_type": "subslide"
    }
   },
   "source": [
    "Primary decision variables = locations of cluster centers"
   ]
  },
  {
   "cell_type": "code",
   "execution_count": 33,
   "metadata": {
    "collapsed": false,
    "deletable": true,
    "editable": true,
    "slideshow": {
     "slide_type": "-"
    }
   },
   "outputs": [],
   "source": [
    "w = []\n",
    "for j in range(len(centers)):\n",
    "    x10 = pulp.LpVariable('x_10%d' % j, lowBound=0, upBound=1)\n",
    "    x20 = pulp.LpVariable('x_20%d' % j, lowBound=0, upBound=1)\n",
    "    w.append([x10, x20])"
   ]
  },
  {
   "cell_type": "markdown",
   "metadata": {
    "slideshow": {
     "slide_type": "subslide"
    }
   },
   "source": [
    "Secondary decision variables = do we associate point $i$ with cluster $j$?"
   ]
  },
  {
   "cell_type": "code",
   "execution_count": 34,
   "metadata": {
    "collapsed": false,
    "deletable": true,
    "editable": true,
    "slideshow": {
     "slide_type": "-"
    }
   },
   "outputs": [],
   "source": [
    "v = []\n",
    "for i in range(len(x1)):\n",
    "    vi = []\n",
    "    for j in range(len(w)):\n",
    "        vij = pulp.LpVariable('v_%d%d' % (i, j), cat=pulp.LpBinary)\n",
    "        vi.append(vij)\n",
    "    v.append(vi)"
   ]
  },
  {
   "cell_type": "markdown",
   "metadata": {
    "deletable": true,
    "editable": true,
    "slideshow": {
     "slide_type": "subslide"
    }
   },
   "source": [
    "Each point is associated with exactly one cluster."
   ]
  },
  {
   "cell_type": "code",
   "execution_count": 35,
   "metadata": {
    "collapsed": true,
    "deletable": true,
    "editable": true,
    "slideshow": {
     "slide_type": "-"
    }
   },
   "outputs": [],
   "source": [
    "m = pulp.LpProblem(sense=pulp.LpMinimize)\n",
    "for vi in v:\n",
    "    m += sum(vi) == 1"
   ]
  },
  {
   "cell_type": "markdown",
   "metadata": {
    "deletable": true,
    "editable": true,
    "slideshow": {
     "slide_type": "subslide"
    }
   },
   "source": [
    "Make a list of taxicab distance variables to guide the optimizer."
   ]
  },
  {
   "cell_type": "code",
   "execution_count": 36,
   "metadata": {
    "collapsed": false,
    "deletable": true,
    "editable": true,
    "slideshow": {
     "slide_type": "-"
    }
   },
   "outputs": [],
   "source": [
    "distances = []\n",
    "for i, (vi, x1i, x2i), in enumerate(zip(v, x1, x2)):\n",
    "    for j, (wj, vij) in enumerate(zip(w, vi)):\n",
    "        x10, x20 = wj\n",
    "        \n",
    "        dx1 = pulp.LpVariable('dx_1%d%d' % (i, j), lowBound=0, upBound=1)\n",
    "        dx2 = pulp.LpVariable('dx_2%d%d' % (i, j), lowBound=0, upBound=1)\n",
    "    \n",
    "        m += dx1 >= (x1i - x10) - (1 - vij)\n",
    "        m += dx1 >= (x10 - x1i) - (1 - vij)\n",
    "\n",
    "        m += dx2 >= (x2i - x20) - (1 - vij)\n",
    "        m += dx2 >= (x20 - x2i) - (1 - vij)\n",
    "        \n",
    "        distances.extend([dx1, dx2])"
   ]
  },
  {
   "cell_type": "markdown",
   "metadata": {
    "slideshow": {
     "slide_type": "subslide"
    }
   },
   "source": [
    "__WARNING WARNING WARNING__\n",
    "\n",
    "Symmetry elimination is beyond the scope of this talk.\n",
    "\n",
    "We don't technically need it to solve this model, but it sure can help."
   ]
  },
  {
   "cell_type": "code",
   "execution_count": 37,
   "metadata": {
    "collapsed": true,
    "deletable": true,
    "editable": true,
    "slideshow": {
     "slide_type": "-"
    }
   },
   "outputs": [],
   "source": [
    "for j, (x01_1, x02_1) in enumerate(w):\n",
    "    for x01_2, x02_2 in w[j+1:]:\n",
    "        m += x01_1 + x02_1 <= x01_2 + x02_2"
   ]
  },
  {
   "cell_type": "markdown",
   "metadata": {
    "deletable": true,
    "editable": true,
    "slideshow": {
     "slide_type": "subslide"
    }
   },
   "source": [
    "Total distance from points to their cluster centers is our objective function."
   ]
  },
  {
   "cell_type": "code",
   "execution_count": 38,
   "metadata": {
    "collapsed": false,
    "deletable": true,
    "editable": true,
    "slideshow": {
     "slide_type": "-"
    }
   },
   "outputs": [],
   "source": [
    "m.setObjective(sum(distances))\n",
    "assert m.solve() == pulp.LpStatusOptimal"
   ]
  },
  {
   "cell_type": "code",
   "execution_count": 39,
   "metadata": {
    "collapsed": false,
    "deletable": true,
    "editable": true,
    "slideshow": {
     "slide_type": "fragment"
    }
   },
   "outputs": [
    {
     "name": "stdout",
     "output_type": "stream",
     "text": [
      "[0.32060906, 0.43698725]\n",
      "[0.47234691, 0.70135057]\n",
      "[0.96337138, 0.54480284]\n"
     ]
    }
   ],
   "source": [
    "cluster_centers = []\n",
    "for wj in w:\n",
    "    cluster_centers.append([wj[0].value(), wj[1].value()])\n",
    "\n",
    "for c in cluster_centers:\n",
    "    print(c)"
   ]
  },
  {
   "cell_type": "markdown",
   "metadata": {
    "deletable": true,
    "editable": true,
    "slideshow": {
     "slide_type": "subslide"
    }
   },
   "source": [
    "There's no predict method, so we yank that information out of the $v_{ij}$ variables."
   ]
  },
  {
   "cell_type": "code",
   "execution_count": 40,
   "metadata": {
    "collapsed": false,
    "deletable": true,
    "editable": true,
    "slideshow": {
     "slide_type": "-"
    }
   },
   "outputs": [],
   "source": [
    "clusters = []\n",
    "for vi in v:\n",
    "    for c, vij in zip([0, 1, 2], vi):\n",
    "        if vij.value() > 0.5:\n",
    "            clusters.append(c)\n",
    "            break"
   ]
  },
  {
   "cell_type": "markdown",
   "metadata": {
    "slideshow": {
     "slide_type": "subslide"
    }
   },
   "source": [
    "How'd mixed integer optimization do?"
   ]
  },
  {
   "cell_type": "code",
   "execution_count": 41,
   "metadata": {
    "collapsed": false,
    "deletable": true,
    "editable": true,
    "slideshow": {
     "slide_type": "-"
    }
   },
   "outputs": [
    {
     "data": {
      "text/html": [
       "\n",
       "\n",
       "    <div class=\"bk-root\">\n",
       "        <div class=\"bk-plotdiv\" id=\"cd2f39e3-176a-4f46-883c-21cdfa01784d\"></div>\n",
       "    </div>\n",
       "<script type=\"text/javascript\">\n",
       "  \n",
       "  (function(global) {\n",
       "    function now() {\n",
       "      return new Date();\n",
       "    }\n",
       "  \n",
       "    var force = false;\n",
       "  \n",
       "    if (typeof (window._bokeh_onload_callbacks) === \"undefined\" || force === true) {\n",
       "      window._bokeh_onload_callbacks = [];\n",
       "      window._bokeh_is_loading = undefined;\n",
       "    }\n",
       "  \n",
       "  \n",
       "    \n",
       "    if (typeof (window._bokeh_timeout) === \"undefined\" || force === true) {\n",
       "      window._bokeh_timeout = Date.now() + 0;\n",
       "      window._bokeh_failed_load = false;\n",
       "    }\n",
       "  \n",
       "    var NB_LOAD_WARNING = {'data': {'text/html':\n",
       "       \"<div style='background-color: #fdd'>\\n\"+\n",
       "       \"<p>\\n\"+\n",
       "       \"BokehJS does not appear to have successfully loaded. If loading BokehJS from CDN, this \\n\"+\n",
       "       \"may be due to a slow or bad network connection. Possible fixes:\\n\"+\n",
       "       \"</p>\\n\"+\n",
       "       \"<ul>\\n\"+\n",
       "       \"<li>re-rerun `output_notebook()` to attempt to load from CDN again, or</li>\\n\"+\n",
       "       \"<li>use INLINE resources instead, as so:</li>\\n\"+\n",
       "       \"</ul>\\n\"+\n",
       "       \"<code>\\n\"+\n",
       "       \"from bokeh.resources import INLINE\\n\"+\n",
       "       \"output_notebook(resources=INLINE)\\n\"+\n",
       "       \"</code>\\n\"+\n",
       "       \"</div>\"}};\n",
       "  \n",
       "    function display_loaded() {\n",
       "      if (window.Bokeh !== undefined) {\n",
       "        document.getElementById(\"cd2f39e3-176a-4f46-883c-21cdfa01784d\").textContent = \"BokehJS successfully loaded.\";\n",
       "      } else if (Date.now() < window._bokeh_timeout) {\n",
       "        setTimeout(display_loaded, 100)\n",
       "      }\n",
       "    }\n",
       "  \n",
       "    function run_callbacks() {\n",
       "      window._bokeh_onload_callbacks.forEach(function(callback) { callback() });\n",
       "      delete window._bokeh_onload_callbacks\n",
       "      console.info(\"Bokeh: all callbacks have finished\");\n",
       "    }\n",
       "  \n",
       "    function load_libs(js_urls, callback) {\n",
       "      window._bokeh_onload_callbacks.push(callback);\n",
       "      if (window._bokeh_is_loading > 0) {\n",
       "        console.log(\"Bokeh: BokehJS is being loaded, scheduling callback at\", now());\n",
       "        return null;\n",
       "      }\n",
       "      if (js_urls == null || js_urls.length === 0) {\n",
       "        run_callbacks();\n",
       "        return null;\n",
       "      }\n",
       "      console.log(\"Bokeh: BokehJS not loaded, scheduling load and callback at\", now());\n",
       "      window._bokeh_is_loading = js_urls.length;\n",
       "      for (var i = 0; i < js_urls.length; i++) {\n",
       "        var url = js_urls[i];\n",
       "        var s = document.createElement('script');\n",
       "        s.src = url;\n",
       "        s.async = false;\n",
       "        s.onreadystatechange = s.onload = function() {\n",
       "          window._bokeh_is_loading--;\n",
       "          if (window._bokeh_is_loading === 0) {\n",
       "            console.log(\"Bokeh: all BokehJS libraries loaded\");\n",
       "            run_callbacks()\n",
       "          }\n",
       "        };\n",
       "        s.onerror = function() {\n",
       "          console.warn(\"failed to load library \" + url);\n",
       "        };\n",
       "        console.log(\"Bokeh: injecting script tag for BokehJS library: \", url);\n",
       "        document.getElementsByTagName(\"head\")[0].appendChild(s);\n",
       "      }\n",
       "    };var element = document.getElementById(\"cd2f39e3-176a-4f46-883c-21cdfa01784d\");\n",
       "    if (element == null) {\n",
       "      console.log(\"Bokeh: ERROR: autoload.js configured with elementid 'cd2f39e3-176a-4f46-883c-21cdfa01784d' but no matching script tag was found. \")\n",
       "      return false;\n",
       "    }\n",
       "  \n",
       "    var js_urls = [];\n",
       "  \n",
       "    var inline_js = [\n",
       "      function(Bokeh) {\n",
       "        (function() {\n",
       "          var fn = function() {\n",
       "            var docs_json = {\"32430de7-d56e-41dc-95ec-884ba1b87af2\":{\"roots\":{\"references\":[{\"attributes\":{\"axis_label\":\"x2\",\"formatter\":{\"id\":\"8fc9e933-fe4f-4c59-be45-95eaa42f45c5\",\"type\":\"BasicTickFormatter\"},\"plot\":{\"id\":\"0dfaf81c-9580-4c25-8e83-f9b2747d62ac\",\"subtype\":\"Chart\",\"type\":\"Plot\"},\"ticker\":{\"id\":\"8630c9dc-45b0-4a9f-90cc-f92a391c0099\",\"type\":\"BasicTicker\"}},\"id\":\"c69c4450-a9e4-4451-8682-0bfea2d9ea46\",\"type\":\"LinearAxis\"},{\"attributes\":{\"plot\":{\"id\":\"0dfaf81c-9580-4c25-8e83-f9b2747d62ac\",\"subtype\":\"Chart\",\"type\":\"Plot\"}},\"id\":\"d9655b4f-d22d-4f20-af6f-31c135945592\",\"type\":\"WheelZoomTool\"},{\"attributes\":{\"fill_alpha\":{\"value\":0.1},\"fill_color\":{\"value\":\"#1f77b4\"},\"line_alpha\":{\"value\":0.1},\"line_color\":{\"value\":\"#1f77b4\"},\"size\":{\"units\":\"screen\",\"value\":15},\"x\":{\"value\":0.47234691},\"y\":{\"value\":0.70135057}},\"id\":\"d5a8ecd5-8bb5-444e-a517-0fdae298d507\",\"type\":\"Circle\"},{\"attributes\":{\"fill_alpha\":{\"value\":0.5},\"fill_color\":{\"value\":\"grey\"},\"line_alpha\":{\"value\":0.5},\"line_color\":{\"value\":\"grey\"},\"size\":{\"units\":\"screen\",\"value\":15},\"x\":{\"value\":0.96337138},\"y\":{\"value\":0.54480284}},\"id\":\"171a6b9b-44cc-4f70-a710-2138256acef1\",\"type\":\"Circle\"},{\"attributes\":{\"data_source\":{\"id\":\"bb669141-ed43-428c-a68b-5383ccddc832\",\"type\":\"ColumnDataSource\"},\"glyph\":{\"id\":\"171a6b9b-44cc-4f70-a710-2138256acef1\",\"type\":\"Circle\"},\"hover_glyph\":null,\"nonselection_glyph\":{\"id\":\"292e50d5-e766-46fa-8269-57c8078bdb64\",\"type\":\"Circle\"},\"selection_glyph\":null},\"id\":\"fc8ab198-adbe-49f4-9f96-b5de5a369574\",\"type\":\"GlyphRenderer\"},{\"attributes\":{},\"id\":\"f142df2e-9864-40bb-a669-ced865c05a99\",\"type\":\"BasicTickFormatter\"},{\"attributes\":{\"callback\":null},\"id\":\"bb669141-ed43-428c-a68b-5383ccddc832\",\"type\":\"ColumnDataSource\"},{\"attributes\":{\"fill_alpha\":{\"value\":0.1},\"fill_color\":{\"value\":\"#1f77b4\"},\"line_alpha\":{\"value\":0.1},\"line_color\":{\"value\":\"#1f77b4\"},\"size\":{\"units\":\"screen\",\"value\":15},\"x\":{\"value\":0.96337138},\"y\":{\"value\":0.54480284}},\"id\":\"292e50d5-e766-46fa-8269-57c8078bdb64\",\"type\":\"Circle\"},{\"attributes\":{\"plot\":{\"id\":\"0dfaf81c-9580-4c25-8e83-f9b2747d62ac\",\"subtype\":\"Chart\",\"type\":\"Plot\"}},\"id\":\"8ed79211-f1ae-4395-892c-e9c12528f879\",\"type\":\"HelpTool\"},{\"attributes\":{\"fill_alpha\":{\"value\":0.5},\"fill_color\":{\"value\":\"grey\"},\"line_alpha\":{\"value\":0.5},\"line_color\":{\"value\":\"grey\"},\"size\":{\"units\":\"screen\",\"value\":15},\"x\":{\"value\":0.32060906},\"y\":{\"value\":0.43698725}},\"id\":\"681a4947-ef31-4afc-85a1-3be7b51f855e\",\"type\":\"Circle\"},{\"attributes\":{\"callback\":null},\"id\":\"3782608f-2468-4270-906a-7c589317fa3d\",\"type\":\"ColumnDataSource\"},{\"attributes\":{\"fill_alpha\":{\"value\":0.1},\"fill_color\":{\"value\":\"#1f77b4\"},\"line_alpha\":{\"value\":0.1},\"line_color\":{\"value\":\"#1f77b4\"},\"size\":{\"units\":\"screen\",\"value\":15},\"x\":{\"value\":0.32060906},\"y\":{\"value\":0.43698725}},\"id\":\"e2a51ddd-64d9-4941-b915-bdd8971ae179\",\"type\":\"Circle\"},{\"attributes\":{\"data_source\":{\"id\":\"3782608f-2468-4270-906a-7c589317fa3d\",\"type\":\"ColumnDataSource\"},\"glyph\":{\"id\":\"8b7efcc9-4a6b-4bf2-9272-dae398038f59\",\"type\":\"Circle\"},\"hover_glyph\":null,\"nonselection_glyph\":{\"id\":\"d5a8ecd5-8bb5-444e-a517-0fdae298d507\",\"type\":\"Circle\"},\"selection_glyph\":null},\"id\":\"42430420-e6e2-4659-a85c-9277517ceb25\",\"type\":\"GlyphRenderer\"},{\"attributes\":{\"callback\":null},\"id\":\"ff6162d8-eb23-4aad-978f-7d8459c39d48\",\"type\":\"ColumnDataSource\"},{\"attributes\":{\"data_source\":{\"id\":\"ff6162d8-eb23-4aad-978f-7d8459c39d48\",\"type\":\"ColumnDataSource\"},\"glyph\":{\"id\":\"681a4947-ef31-4afc-85a1-3be7b51f855e\",\"type\":\"Circle\"},\"hover_glyph\":null,\"nonselection_glyph\":{\"id\":\"e2a51ddd-64d9-4941-b915-bdd8971ae179\",\"type\":\"Circle\"},\"selection_glyph\":null},\"id\":\"67abb306-53a1-448b-8273-23c76b52229d\",\"type\":\"GlyphRenderer\"},{\"attributes\":{\"fill_alpha\":{\"value\":0.5},\"fill_color\":{\"value\":\"grey\"},\"line_alpha\":{\"value\":0.5},\"line_color\":{\"value\":\"grey\"},\"size\":{\"units\":\"screen\",\"value\":15},\"x\":{\"value\":0.47234691},\"y\":{\"value\":0.70135057}},\"id\":\"8b7efcc9-4a6b-4bf2-9272-dae398038f59\",\"type\":\"Circle\"},{\"attributes\":{\"axis_label\":\"x1\",\"formatter\":{\"id\":\"f142df2e-9864-40bb-a669-ced865c05a99\",\"type\":\"BasicTickFormatter\"},\"plot\":{\"id\":\"0dfaf81c-9580-4c25-8e83-f9b2747d62ac\",\"subtype\":\"Chart\",\"type\":\"Plot\"},\"ticker\":{\"id\":\"c773d43b-0d00-46c2-a86d-25285437803e\",\"type\":\"BasicTicker\"}},\"id\":\"a82e9399-7414-44f6-83ea-ad65b20c13f7\",\"type\":\"LinearAxis\"},{\"attributes\":{\"below\":[{\"id\":\"a82e9399-7414-44f6-83ea-ad65b20c13f7\",\"type\":\"LinearAxis\"}],\"css_classes\":null,\"height\":500,\"left\":[{\"id\":\"c69c4450-a9e4-4451-8682-0bfea2d9ea46\",\"type\":\"LinearAxis\"}],\"renderers\":[{\"id\":\"37adcb9f-e4f1-4ecd-af03-b5c99ede5d75\",\"type\":\"BoxAnnotation\"},{\"id\":\"67d758f4-fcb1-4d0d-92f8-1a36efae3480\",\"type\":\"GlyphRenderer\"},{\"id\":\"2a53e186-e306-4c14-92d5-f4bb3da60091\",\"type\":\"GlyphRenderer\"},{\"id\":\"125786e9-725c-4995-ae38-969d68b5c8e6\",\"type\":\"GlyphRenderer\"},{\"id\":\"15bcaa8d-cd8b-4452-bbf7-fdd288a41427\",\"type\":\"Legend\"},{\"id\":\"a82e9399-7414-44f6-83ea-ad65b20c13f7\",\"type\":\"LinearAxis\"},{\"id\":\"c69c4450-a9e4-4451-8682-0bfea2d9ea46\",\"type\":\"LinearAxis\"},{\"id\":\"8b5d09b7-8ae9-4431-8297-9b08abd7d688\",\"type\":\"Grid\"},{\"id\":\"f80d7996-7c06-406f-a031-2404a2cafcb5\",\"type\":\"Grid\"},{\"id\":\"67abb306-53a1-448b-8273-23c76b52229d\",\"type\":\"GlyphRenderer\"},{\"id\":\"42430420-e6e2-4659-a85c-9277517ceb25\",\"type\":\"GlyphRenderer\"},{\"id\":\"fc8ab198-adbe-49f4-9f96-b5de5a369574\",\"type\":\"GlyphRenderer\"}],\"title\":{\"id\":\"c5dba5cf-dd4b-448f-a035-c546f417af7b\",\"type\":\"Title\"},\"tool_events\":{\"id\":\"9e2f30ed-8f1e-4830-9fc4-5ffce125207a\",\"type\":\"ToolEvents\"},\"toolbar\":{\"id\":\"47a005e4-010d-42bf-9e52-3201b46af803\",\"type\":\"Toolbar\"},\"width\":500,\"x_mapper_type\":\"auto\",\"x_range\":{\"id\":\"fdb8c45f-aaab-4f0b-8fb7-9e3e7c2ca6dd\",\"type\":\"Range1d\"},\"y_mapper_type\":\"auto\",\"y_range\":{\"id\":\"393940ca-5584-486f-90db-60d70b22dd62\",\"type\":\"Range1d\"}},\"id\":\"0dfaf81c-9580-4c25-8e83-f9b2747d62ac\",\"subtype\":\"Chart\",\"type\":\"Plot\"},{\"attributes\":{\"callback\":null,\"column_names\":[\"x_values\",\"y_values\"],\"data\":{\"chart_index\":[{\"clusters\":2},{\"clusters\":2}],\"clusters\":[2,2],\"x_values\":{\"__ndarray__\":\"bTQjNvDT7j8AAAAAAADwPw==\",\"dtype\":\"float64\",\"shape\":[2]},\"y_values\":{\"__ndarray__\":\"C9NzxgsL1j/ZmVFfBm/hPw==\",\"dtype\":\"float64\",\"shape\":[2]}}},\"id\":\"40f5893e-1302-4938-a946-7b2f655a7243\",\"type\":\"ColumnDataSource\"},{\"attributes\":{\"data_source\":{\"id\":\"81400764-b9bc-4341-bc45-33ac015512b3\",\"type\":\"ColumnDataSource\"},\"glyph\":{\"id\":\"27771d81-b216-40f6-8c01-fab471c18f11\",\"type\":\"Square\"},\"hover_glyph\":null,\"nonselection_glyph\":null,\"selection_glyph\":null},\"id\":\"2a53e186-e306-4c14-92d5-f4bb3da60091\",\"type\":\"GlyphRenderer\"},{\"attributes\":{\"dimension\":1,\"plot\":{\"id\":\"0dfaf81c-9580-4c25-8e83-f9b2747d62ac\",\"subtype\":\"Chart\",\"type\":\"Plot\"},\"ticker\":{\"id\":\"8630c9dc-45b0-4a9f-90cc-f92a391c0099\",\"type\":\"BasicTicker\"}},\"id\":\"f80d7996-7c06-406f-a031-2404a2cafcb5\",\"type\":\"Grid\"},{\"attributes\":{\"overlay\":{\"id\":\"37adcb9f-e4f1-4ecd-af03-b5c99ede5d75\",\"type\":\"BoxAnnotation\"},\"plot\":{\"id\":\"0dfaf81c-9580-4c25-8e83-f9b2747d62ac\",\"subtype\":\"Chart\",\"type\":\"Plot\"}},\"id\":\"75ddb26f-69e0-4b78-ac74-e6347fcd2997\",\"type\":\"BoxZoomTool\"},{\"attributes\":{\"data_source\":{\"id\":\"40f5893e-1302-4938-a946-7b2f655a7243\",\"type\":\"ColumnDataSource\"},\"glyph\":{\"id\":\"77c7e611-d216-49cc-aabb-e86d80d16c31\",\"type\":\"Triangle\"},\"hover_glyph\":null,\"nonselection_glyph\":null,\"selection_glyph\":null},\"id\":\"125786e9-725c-4995-ae38-969d68b5c8e6\",\"type\":\"GlyphRenderer\"},{\"attributes\":{\"plot\":{\"id\":\"0dfaf81c-9580-4c25-8e83-f9b2747d62ac\",\"subtype\":\"Chart\",\"type\":\"Plot\"},\"ticker\":{\"id\":\"c773d43b-0d00-46c2-a86d-25285437803e\",\"type\":\"BasicTicker\"}},\"id\":\"8b5d09b7-8ae9-4431-8297-9b08abd7d688\",\"type\":\"Grid\"},{\"attributes\":{\"label\":{\"value\":\"2\"},\"renderers\":[{\"id\":\"125786e9-725c-4995-ae38-969d68b5c8e6\",\"type\":\"GlyphRenderer\"}]},\"id\":\"b0266340-f3c9-4874-9633-0baecf2d345f\",\"type\":\"LegendItem\"},{\"attributes\":{\"label\":{\"value\":\"1\"},\"renderers\":[{\"id\":\"2a53e186-e306-4c14-92d5-f4bb3da60091\",\"type\":\"GlyphRenderer\"}]},\"id\":\"a27f29ae-59a8-4cc5-b838-27bf0f6d44e4\",\"type\":\"LegendItem\"},{\"attributes\":{\"label\":{\"value\":\"0\"},\"renderers\":[{\"id\":\"67d758f4-fcb1-4d0d-92f8-1a36efae3480\",\"type\":\"GlyphRenderer\"}]},\"id\":\"009bd242-81ff-4387-a572-faf13c3bc312\",\"type\":\"LegendItem\"},{\"attributes\":{\"items\":[{\"id\":\"009bd242-81ff-4387-a572-faf13c3bc312\",\"type\":\"LegendItem\"},{\"id\":\"a27f29ae-59a8-4cc5-b838-27bf0f6d44e4\",\"type\":\"LegendItem\"},{\"id\":\"b0266340-f3c9-4874-9633-0baecf2d345f\",\"type\":\"LegendItem\"}],\"location\":\"top_left\",\"plot\":{\"id\":\"0dfaf81c-9580-4c25-8e83-f9b2747d62ac\",\"subtype\":\"Chart\",\"type\":\"Plot\"}},\"id\":\"15bcaa8d-cd8b-4452-bbf7-fdd288a41427\",\"type\":\"Legend\"},{\"attributes\":{\"fill_alpha\":{\"value\":0.7},\"fill_color\":{\"value\":\"#5ab738\"},\"line_color\":{\"value\":\"#5ab738\"},\"size\":{\"units\":\"screen\",\"value\":8},\"x\":{\"field\":\"x_values\"},\"y\":{\"field\":\"y_values\"}},\"id\":\"27771d81-b216-40f6-8c01-fab471c18f11\",\"type\":\"Square\"},{\"attributes\":{\"plot\":{\"id\":\"0dfaf81c-9580-4c25-8e83-f9b2747d62ac\",\"subtype\":\"Chart\",\"type\":\"Plot\"}},\"id\":\"b0759618-afac-4909-a846-8e1a367f0a50\",\"type\":\"SaveTool\"},{\"attributes\":{},\"id\":\"c773d43b-0d00-46c2-a86d-25285437803e\",\"type\":\"BasicTicker\"},{\"attributes\":{},\"id\":\"8630c9dc-45b0-4a9f-90cc-f92a391c0099\",\"type\":\"BasicTicker\"},{\"attributes\":{\"callback\":null,\"column_names\":[\"x_values\",\"y_values\"],\"data\":{\"chart_index\":[{\"clusters\":0},{\"clusters\":0},{\"clusters\":0},{\"clusters\":0},{\"clusters\":0},{\"clusters\":0},{\"clusters\":0},{\"clusters\":0},{\"clusters\":0},{\"clusters\":0}],\"clusters\":[0,0,0,0,0,0,0,0,0,0],\"x_values\":{\"__ndarray__\":\"AAAAAAAAAAA12bDY24TUPxU7h01fxNs/eeFv1n9V1z8AAAAAAAAAAIPZZR5dY9g/tBfU7b+ttT9uAVWa2YbgP53I1TMcVNI/tGGzMDv73j8=\",\"dtype\":\"float64\",\"shape\":[10]},\"y_values\":{\"__ndarray__\":\"EBNkfIIqkT8AAAAAAAAAANSVu2CZ99s/WPfJAPbuyz/rQ9F2HrbaP7yus9M2ttE/aTwac3VM3T9c3k0AJnzeP4th7pG1z94/XIdQpwjl3T8=\",\"dtype\":\"float64\",\"shape\":[10]}}},\"id\":\"906a96fd-5a3a-4463-bef2-1fb6ef66b217\",\"type\":\"ColumnDataSource\"},{\"attributes\":{\"bottom_units\":\"screen\",\"fill_alpha\":{\"value\":0.5},\"fill_color\":{\"value\":\"lightgrey\"},\"left_units\":\"screen\",\"level\":\"overlay\",\"line_alpha\":{\"value\":1.0},\"line_color\":{\"value\":\"black\"},\"line_dash\":[4,4],\"line_width\":{\"value\":2},\"plot\":null,\"render_mode\":\"css\",\"right_units\":\"screen\",\"top_units\":\"screen\"},\"id\":\"37adcb9f-e4f1-4ecd-af03-b5c99ede5d75\",\"type\":\"BoxAnnotation\"},{\"attributes\":{\"plot\":{\"id\":\"0dfaf81c-9580-4c25-8e83-f9b2747d62ac\",\"subtype\":\"Chart\",\"type\":\"Plot\"}},\"id\":\"7cd62f13-ab15-4d72-b9ce-6ddf4522136c\",\"type\":\"PanTool\"},{\"attributes\":{\"callback\":null,\"end\":0.994337704650453,\"start\":-0.09039433678640482},\"id\":\"393940ca-5584-486f-90db-60d70b22dd62\",\"type\":\"Range1d\"},{\"attributes\":{\"callback\":null,\"column_names\":[\"x_values\",\"y_values\"],\"data\":{\"chart_index\":[{\"clusters\":1},{\"clusters\":1},{\"clusters\":1},{\"clusters\":1},{\"clusters\":1},{\"clusters\":1},{\"clusters\":1},{\"clusters\":1},{\"clusters\":1}],\"clusters\":[1,1,1,1,1,1,1,1,1],\"x_values\":{\"__ndarray__\":\"ktZ5PWmJ1z/Ixq+E7jreP7jptDXKUt8/RggTmuSw1j/mFDQrJFvYP+v5l6/K4OI/Jm2ALdzU3T/yz2QJScvkP3dgtUnOcec/\",\"dtype\":\"float64\",\"shape\":[9]},\"y_values\":{\"__ndarray__\":\"3W7ed6Lf5T+dME2kGu3sPxLIOWy+0eY/rzuDIV0c5j+yVKpovlzrP8RVf4b+R+I/5DoOve+n6j/XhB++dnHmP65lbxWIjuQ/\",\"dtype\":\"float64\",\"shape\":[9]}}},\"id\":\"81400764-b9bc-4341-bc45-33ac015512b3\",\"type\":\"ColumnDataSource\"},{\"attributes\":{\"fill_alpha\":{\"value\":0.7},\"fill_color\":{\"value\":\"#f22c40\"},\"line_color\":{\"value\":\"#f22c40\"},\"size\":{\"units\":\"screen\",\"value\":8},\"x\":{\"field\":\"x_values\"},\"y\":{\"field\":\"y_values\"}},\"id\":\"f26c1c09-8985-444a-8fc1-5f06e596f1c2\",\"type\":\"Circle\"},{\"attributes\":{\"data_source\":{\"id\":\"906a96fd-5a3a-4463-bef2-1fb6ef66b217\",\"type\":\"ColumnDataSource\"},\"glyph\":{\"id\":\"f26c1c09-8985-444a-8fc1-5f06e596f1c2\",\"type\":\"Circle\"},\"hover_glyph\":null,\"nonselection_glyph\":null,\"selection_glyph\":null},\"id\":\"67d758f4-fcb1-4d0d-92f8-1a36efae3480\",\"type\":\"GlyphRenderer\"},{\"attributes\":{\"plot\":{\"id\":\"0dfaf81c-9580-4c25-8e83-f9b2747d62ac\",\"subtype\":\"Chart\",\"type\":\"Plot\"}},\"id\":\"0074ecf4-9a87-40d1-aced-d2e5ec97d239\",\"type\":\"ResetTool\"},{\"attributes\":{\"fill_alpha\":{\"value\":0.7},\"fill_color\":{\"value\":\"#407ee7\"},\"line_color\":{\"value\":\"#407ee7\"},\"size\":{\"units\":\"screen\",\"value\":8},\"x\":{\"field\":\"x_values\"},\"y\":{\"field\":\"y_values\"}},\"id\":\"77c7e611-d216-49cc-aabb-e86d80d16c31\",\"type\":\"Triangle\"},{\"attributes\":{\"active_drag\":\"auto\",\"active_scroll\":\"auto\",\"active_tap\":\"auto\",\"tools\":[{\"id\":\"7cd62f13-ab15-4d72-b9ce-6ddf4522136c\",\"type\":\"PanTool\"},{\"id\":\"d9655b4f-d22d-4f20-af6f-31c135945592\",\"type\":\"WheelZoomTool\"},{\"id\":\"75ddb26f-69e0-4b78-ac74-e6347fcd2997\",\"type\":\"BoxZoomTool\"},{\"id\":\"b0759618-afac-4909-a846-8e1a367f0a50\",\"type\":\"SaveTool\"},{\"id\":\"0074ecf4-9a87-40d1-aced-d2e5ec97d239\",\"type\":\"ResetTool\"},{\"id\":\"8ed79211-f1ae-4395-892c-e9c12528f879\",\"type\":\"HelpTool\"}]},\"id\":\"47a005e4-010d-42bf-9e52-3201b46af803\",\"type\":\"Toolbar\"},{\"attributes\":{},\"id\":\"9e2f30ed-8f1e-4830-9fc4-5ffce125207a\",\"type\":\"ToolEvents\"},{\"attributes\":{\"callback\":null,\"end\":1.1,\"start\":-0.1},\"id\":\"fdb8c45f-aaab-4f0b-8fb7-9e3e7c2ca6dd\",\"type\":\"Range1d\"},{\"attributes\":{},\"id\":\"8fc9e933-fe4f-4c59-be45-95eaa42f45c5\",\"type\":\"BasicTickFormatter\"},{\"attributes\":{\"plot\":null,\"text\":null},\"id\":\"c5dba5cf-dd4b-448f-a035-c546f417af7b\",\"type\":\"Title\"}],\"root_ids\":[\"0dfaf81c-9580-4c25-8e83-f9b2747d62ac\"]},\"title\":\"Bokeh Application\",\"version\":\"0.12.4\"}};\n",
       "            var render_items = [{\"docid\":\"32430de7-d56e-41dc-95ec-884ba1b87af2\",\"elementid\":\"cd2f39e3-176a-4f46-883c-21cdfa01784d\",\"modelid\":\"0dfaf81c-9580-4c25-8e83-f9b2747d62ac\"}];\n",
       "            \n",
       "            Bokeh.embed.embed_items(docs_json, render_items);\n",
       "          };\n",
       "          if (document.readyState != \"loading\") fn();\n",
       "          else document.addEventListener(\"DOMContentLoaded\", fn);\n",
       "        })();\n",
       "      },\n",
       "      function(Bokeh) {\n",
       "      }\n",
       "    ];\n",
       "  \n",
       "    function run_inline_js() {\n",
       "      \n",
       "      if ((window.Bokeh !== undefined) || (force === true)) {\n",
       "        for (var i = 0; i < inline_js.length; i++) {\n",
       "          inline_js[i](window.Bokeh);\n",
       "        }if (force === true) {\n",
       "          display_loaded();\n",
       "        }} else if (Date.now() < window._bokeh_timeout) {\n",
       "        setTimeout(run_inline_js, 100);\n",
       "      } else if (!window._bokeh_failed_load) {\n",
       "        console.log(\"Bokeh: BokehJS failed to load within specified timeout.\");\n",
       "        window._bokeh_failed_load = true;\n",
       "      } else if (force !== true) {\n",
       "        var cell = $(document.getElementById(\"cd2f39e3-176a-4f46-883c-21cdfa01784d\")).parents('.cell').data().cell;\n",
       "        cell.output_area.append_execute_result(NB_LOAD_WARNING)\n",
       "      }\n",
       "  \n",
       "    }\n",
       "  \n",
       "    if (window._bokeh_is_loading === 0) {\n",
       "      console.log(\"Bokeh: BokehJS loaded, going straight to plotting\");\n",
       "      run_inline_js();\n",
       "    } else {\n",
       "      load_libs(js_urls, function() {\n",
       "        console.log(\"Bokeh: BokehJS plotting callback run at\", now());\n",
       "        run_inline_js();\n",
       "      });\n",
       "    }\n",
       "  }(this));\n",
       "</script>"
      ]
     },
     "metadata": {},
     "output_type": "display_data"
    }
   ],
   "source": [
    "plot_clusters(clusters, cluster_centers)"
   ]
  },
  {
   "cell_type": "markdown",
   "metadata": {
    "slideshow": {
     "slide_type": "subslide"
    }
   },
   "source": [
    "Hmmm. That model took a while to solve. What gives?\n",
    "\n",
    "* When we introduce discrete choices into models, we lose the characteristics that make them easy to solve.\n",
    "* This matter a _lot less_ now that it did in the 90s.\n",
    "* But effective formulation of discrete models is still _(may always be?)_ an art.\n",
    "\n",
    "Let's look at something more realistic."
   ]
  },
  {
   "cell_type": "markdown",
   "metadata": {
    "deletable": true,
    "editable": true,
    "slideshow": {
     "slide_type": "slide"
    }
   },
   "source": [
    "## Application 2: Pedicab Sharing\n",
    "\n",
    "Peuber is the Uber of pedicabs."
   ]
  },
  {
   "cell_type": "markdown",
   "metadata": {
    "slideshow": {
     "slide_type": "subslide"
    }
   },
   "source": [
    "We have 7 pedicabs in our fleet and 11 customer requesting service. It's a prime day for Peuber!"
   ]
  },
  {
   "cell_type": "code",
   "execution_count": 42,
   "metadata": {
    "collapsed": true,
    "deletable": true,
    "editable": true
   },
   "outputs": [],
   "source": [
    "pedicabs = range(7)\n",
    "customers = range(11)"
   ]
  },
  {
   "cell_type": "markdown",
   "metadata": {
    "slideshow": {
     "slide_type": "subslide"
    }
   },
   "source": [
    "Generate locations for each of these."
   ]
  },
  {
   "cell_type": "code",
   "execution_count": 43,
   "metadata": {
    "collapsed": false,
    "slideshow": {
     "slide_type": "-"
    }
   },
   "outputs": [],
   "source": [
    "rng = lambda: random.uniform(0, 100)\n",
    "\n",
    "pedicab_locations = [(rng(), rng()) for _ in pedicabs]\n",
    "pickup_locations = [(rng(), rng()) for _ in customers]\n",
    "dropoff_locations = [(rng(), rng()) for _ in customers]"
   ]
  },
  {
   "cell_type": "markdown",
   "metadata": {
    "deletable": true,
    "editable": true,
    "slideshow": {
     "slide_type": "subslide"
    }
   },
   "source": [
    "This function will help us visualize the routing problem and its solutions."
   ]
  },
  {
   "cell_type": "code",
   "execution_count": 44,
   "metadata": {
    "collapsed": true
   },
   "outputs": [],
   "source": [
    "from bokeh.models import Range1d\n",
    "\n",
    "def build_pedicabs_and_customers_plot():\n",
    "    all_points = pedicab_locations + pickup_locations + dropoff_locations\n",
    "    point_types = ['Pedicab'] * len(pedicabs) + \\\n",
    "                  ['Pickup'] * len(customers) + \\\n",
    "                  ['Dropoff'] * len(customers)\n",
    "\n",
    "    plot = Scatter(\n",
    "        {\n",
    "            'x': [l[0] for l in all_points],\n",
    "            'y': [l[1] for l in all_points],\n",
    "            'type': point_types\n",
    "        },\n",
    "        x='x', y='y',\n",
    "        color='type', marker='type',\n",
    "        width=600, height=600\n",
    "    )\n",
    "\n",
    "    plot.legend.orientation = \"horizontal\"\n",
    "    plot.x_range = plot.y_range = Range1d(-15, 115)\n",
    "\n",
    "    return plot"
   ]
  },
  {
   "cell_type": "markdown",
   "metadata": {
    "deletable": true,
    "editable": true,
    "slideshow": {
     "slide_type": "subslide"
    }
   },
   "source": [
    "So what's our problem look like right now?"
   ]
  },
  {
   "cell_type": "code",
   "execution_count": 45,
   "metadata": {
    "collapsed": false
   },
   "outputs": [],
   "source": [
    "plot = build_pedicabs_and_customers_plot()\n",
    "\n",
    "# Connect pickups to dropoffs\n",
    "for p, d in zip(pickup_locations, dropoff_locations):\n",
    "    plot.line(\n",
    "        [p[0], d[0]], [p[1], d[1]], \n",
    "        line_alpha=0.5, \n",
    "        line_color='grey', \n",
    "        line_dash='dashed'\n",
    "    )"
   ]
  },
  {
   "cell_type": "code",
   "execution_count": 46,
   "metadata": {
    "collapsed": false,
    "slideshow": {
     "slide_type": "subslide"
    }
   },
   "outputs": [
    {
     "data": {
      "text/html": [
       "\n",
       "\n",
       "    <div class=\"bk-root\">\n",
       "        <div class=\"bk-plotdiv\" id=\"424aa0a2-2d59-4bc5-a626-bf2f5eac2d58\"></div>\n",
       "    </div>\n",
       "<script type=\"text/javascript\">\n",
       "  \n",
       "  (function(global) {\n",
       "    function now() {\n",
       "      return new Date();\n",
       "    }\n",
       "  \n",
       "    var force = false;\n",
       "  \n",
       "    if (typeof (window._bokeh_onload_callbacks) === \"undefined\" || force === true) {\n",
       "      window._bokeh_onload_callbacks = [];\n",
       "      window._bokeh_is_loading = undefined;\n",
       "    }\n",
       "  \n",
       "  \n",
       "    \n",
       "    if (typeof (window._bokeh_timeout) === \"undefined\" || force === true) {\n",
       "      window._bokeh_timeout = Date.now() + 0;\n",
       "      window._bokeh_failed_load = false;\n",
       "    }\n",
       "  \n",
       "    var NB_LOAD_WARNING = {'data': {'text/html':\n",
       "       \"<div style='background-color: #fdd'>\\n\"+\n",
       "       \"<p>\\n\"+\n",
       "       \"BokehJS does not appear to have successfully loaded. If loading BokehJS from CDN, this \\n\"+\n",
       "       \"may be due to a slow or bad network connection. Possible fixes:\\n\"+\n",
       "       \"</p>\\n\"+\n",
       "       \"<ul>\\n\"+\n",
       "       \"<li>re-rerun `output_notebook()` to attempt to load from CDN again, or</li>\\n\"+\n",
       "       \"<li>use INLINE resources instead, as so:</li>\\n\"+\n",
       "       \"</ul>\\n\"+\n",
       "       \"<code>\\n\"+\n",
       "       \"from bokeh.resources import INLINE\\n\"+\n",
       "       \"output_notebook(resources=INLINE)\\n\"+\n",
       "       \"</code>\\n\"+\n",
       "       \"</div>\"}};\n",
       "  \n",
       "    function display_loaded() {\n",
       "      if (window.Bokeh !== undefined) {\n",
       "        document.getElementById(\"424aa0a2-2d59-4bc5-a626-bf2f5eac2d58\").textContent = \"BokehJS successfully loaded.\";\n",
       "      } else if (Date.now() < window._bokeh_timeout) {\n",
       "        setTimeout(display_loaded, 100)\n",
       "      }\n",
       "    }\n",
       "  \n",
       "    function run_callbacks() {\n",
       "      window._bokeh_onload_callbacks.forEach(function(callback) { callback() });\n",
       "      delete window._bokeh_onload_callbacks\n",
       "      console.info(\"Bokeh: all callbacks have finished\");\n",
       "    }\n",
       "  \n",
       "    function load_libs(js_urls, callback) {\n",
       "      window._bokeh_onload_callbacks.push(callback);\n",
       "      if (window._bokeh_is_loading > 0) {\n",
       "        console.log(\"Bokeh: BokehJS is being loaded, scheduling callback at\", now());\n",
       "        return null;\n",
       "      }\n",
       "      if (js_urls == null || js_urls.length === 0) {\n",
       "        run_callbacks();\n",
       "        return null;\n",
       "      }\n",
       "      console.log(\"Bokeh: BokehJS not loaded, scheduling load and callback at\", now());\n",
       "      window._bokeh_is_loading = js_urls.length;\n",
       "      for (var i = 0; i < js_urls.length; i++) {\n",
       "        var url = js_urls[i];\n",
       "        var s = document.createElement('script');\n",
       "        s.src = url;\n",
       "        s.async = false;\n",
       "        s.onreadystatechange = s.onload = function() {\n",
       "          window._bokeh_is_loading--;\n",
       "          if (window._bokeh_is_loading === 0) {\n",
       "            console.log(\"Bokeh: all BokehJS libraries loaded\");\n",
       "            run_callbacks()\n",
       "          }\n",
       "        };\n",
       "        s.onerror = function() {\n",
       "          console.warn(\"failed to load library \" + url);\n",
       "        };\n",
       "        console.log(\"Bokeh: injecting script tag for BokehJS library: \", url);\n",
       "        document.getElementsByTagName(\"head\")[0].appendChild(s);\n",
       "      }\n",
       "    };var element = document.getElementById(\"424aa0a2-2d59-4bc5-a626-bf2f5eac2d58\");\n",
       "    if (element == null) {\n",
       "      console.log(\"Bokeh: ERROR: autoload.js configured with elementid '424aa0a2-2d59-4bc5-a626-bf2f5eac2d58' but no matching script tag was found. \")\n",
       "      return false;\n",
       "    }\n",
       "  \n",
       "    var js_urls = [];\n",
       "  \n",
       "    var inline_js = [\n",
       "      function(Bokeh) {\n",
       "        (function() {\n",
       "          var fn = function() {\n",
       "            var docs_json = {\"3680d00a-dbf4-427d-9ae5-b4c15222c01e\":{\"roots\":{\"references\":[{\"attributes\":{},\"id\":\"1e17625e-6a7b-4776-83db-0463f6fc9b29\",\"type\":\"BasicTicker\"},{\"attributes\":{},\"id\":\"643d6bdb-45a7-4c3c-9408-2a730bb5a002\",\"type\":\"ToolEvents\"},{\"attributes\":{\"data_source\":{\"id\":\"b957e258-42f3-40ed-87a7-7a81590e8695\",\"type\":\"ColumnDataSource\"},\"glyph\":{\"id\":\"156e0947-41ed-41df-aa32-da599ef5fcfd\",\"type\":\"Line\"},\"hover_glyph\":null,\"nonselection_glyph\":{\"id\":\"6791a7da-3c08-4ea7-ae14-e32649183e4d\",\"type\":\"Line\"},\"selection_glyph\":null},\"id\":\"bcfba959-c1e1-4954-bf73-75773cb919f1\",\"type\":\"GlyphRenderer\"},{\"attributes\":{\"line_alpha\":{\"value\":0.1},\"line_color\":{\"value\":\"#1f77b4\"},\"line_dash\":[6],\"x\":{\"field\":\"x\"},\"y\":{\"field\":\"y\"}},\"id\":\"5021e79e-ae80-4b54-851c-555eda13df20\",\"type\":\"Line\"},{\"attributes\":{\"line_alpha\":{\"value\":0.5},\"line_color\":{\"value\":\"grey\"},\"line_dash\":[6],\"x\":{\"field\":\"x\"},\"y\":{\"field\":\"y\"}},\"id\":\"325065e5-35b7-49d5-a394-fe34885bff1b\",\"type\":\"Line\"},{\"attributes\":{},\"id\":\"9ebfeb6f-bcbe-4475-a0c7-3c55f36a1f25\",\"type\":\"BasicTickFormatter\"},{\"attributes\":{\"callback\":null,\"column_names\":[\"x\",\"y\"],\"data\":{\"x\":[61.530125477230726,81.88302035747061],\"y\":[29.996044113346485,28.495082105608716]}},\"id\":\"fd459472-e79e-4aa3-bae8-987799681431\",\"type\":\"ColumnDataSource\"},{\"attributes\":{\"data_source\":{\"id\":\"140c58c7-3c37-4924-8515-301f4ba72ee7\",\"type\":\"ColumnDataSource\"},\"glyph\":{\"id\":\"325065e5-35b7-49d5-a394-fe34885bff1b\",\"type\":\"Line\"},\"hover_glyph\":null,\"nonselection_glyph\":{\"id\":\"5021e79e-ae80-4b54-851c-555eda13df20\",\"type\":\"Line\"},\"selection_glyph\":null},\"id\":\"61958d86-28c4-4dbb-838b-df24c0c50ba8\",\"type\":\"GlyphRenderer\"},{\"attributes\":{\"callback\":null,\"column_names\":[\"x\",\"y\"],\"data\":{\"x\":[29.146097046593443,21.410507625498088],\"y\":[60.570050826766106,19.941334309207313]}},\"id\":\"b957e258-42f3-40ed-87a7-7a81590e8695\",\"type\":\"ColumnDataSource\"},{\"attributes\":{\"line_alpha\":{\"value\":0.5},\"line_color\":{\"value\":\"grey\"},\"line_dash\":[6],\"x\":{\"field\":\"x\"},\"y\":{\"field\":\"y\"}},\"id\":\"156e0947-41ed-41df-aa32-da599ef5fcfd\",\"type\":\"Line\"},{\"attributes\":{},\"id\":\"4ce94af7-0ab0-4946-8452-c92900db54fe\",\"type\":\"BasicTickFormatter\"},{\"attributes\":{\"callback\":null,\"column_names\":[\"x\",\"y\"],\"data\":{\"x\":[52.318196020298416,93.64314372250668],\"y\":[44.48887280885233,51.18322484078358]}},\"id\":\"964f2ed3-3377-4dfe-bbf4-e5dc52788d06\",\"type\":\"ColumnDataSource\"},{\"attributes\":{\"data_source\":{\"id\":\"957e0cc3-abc8-4b7c-8d06-5155b71f9785\",\"type\":\"ColumnDataSource\"},\"glyph\":{\"id\":\"a8844fc7-ee42-44bb-bb85-2c9a2ae9be85\",\"type\":\"Line\"},\"hover_glyph\":null,\"nonselection_glyph\":{\"id\":\"2504e9ec-4046-4ae5-8064-46c2eca45241\",\"type\":\"Line\"},\"selection_glyph\":null},\"id\":\"1015607c-f2b1-4829-a49d-1b24745b4beb\",\"type\":\"GlyphRenderer\"},{\"attributes\":{\"callback\":null,\"column_names\":[\"x\",\"y\"],\"data\":{\"x\":[8.539861759883339,87.17406730554713],\"y\":[12.134039785278716,42.55380847430226]}},\"id\":\"140c58c7-3c37-4924-8515-301f4ba72ee7\",\"type\":\"ColumnDataSource\"},{\"attributes\":{\"below\":[{\"id\":\"f2ddf010-1bac-4aa0-acaa-b86656394eab\",\"type\":\"LinearAxis\"}],\"css_classes\":null,\"height\":600,\"left\":[{\"id\":\"8087b4b8-8158-4c79-be40-ce0c00fe4bac\",\"type\":\"LinearAxis\"}],\"renderers\":[{\"id\":\"1853d59a-c278-466d-9a76-59b72e1620a8\",\"type\":\"BoxAnnotation\"},{\"id\":\"e23723a5-fe2e-4328-b4ae-40da203fec3d\",\"type\":\"GlyphRenderer\"},{\"id\":\"9907a993-74e6-438c-8bc9-73f6ad5cbd9d\",\"type\":\"GlyphRenderer\"},{\"id\":\"355f5831-11b4-4a65-859c-b93e5f7d4f38\",\"type\":\"GlyphRenderer\"},{\"id\":\"97732d08-d08d-45e3-ab9b-9cd5c4632593\",\"type\":\"Legend\"},{\"id\":\"f2ddf010-1bac-4aa0-acaa-b86656394eab\",\"type\":\"LinearAxis\"},{\"id\":\"8087b4b8-8158-4c79-be40-ce0c00fe4bac\",\"type\":\"LinearAxis\"},{\"id\":\"d0437dfa-b2b7-4e77-b9b5-0b5e8db0e077\",\"type\":\"Grid\"},{\"id\":\"359f4546-941a-4f6b-8bb4-bab9d57b9318\",\"type\":\"Grid\"},{\"id\":\"bcfba959-c1e1-4954-bf73-75773cb919f1\",\"type\":\"GlyphRenderer\"},{\"id\":\"ed948d82-0e34-40c2-8cf3-79003f987315\",\"type\":\"GlyphRenderer\"},{\"id\":\"059565d7-76b2-4563-922c-4c813f699542\",\"type\":\"GlyphRenderer\"},{\"id\":\"440a530c-9cc2-44ce-be0d-ed03def89933\",\"type\":\"GlyphRenderer\"},{\"id\":\"56c1537e-b4e7-4402-a1c8-4269e6536ed0\",\"type\":\"GlyphRenderer\"},{\"id\":\"398ebb60-816e-4971-a92c-e1b0607e8645\",\"type\":\"GlyphRenderer\"},{\"id\":\"f106fd26-f09e-4af2-a589-7baa41bbc650\",\"type\":\"GlyphRenderer\"},{\"id\":\"adfe690c-b949-4aac-8880-397bf4b214d3\",\"type\":\"GlyphRenderer\"},{\"id\":\"5540285b-c4b1-4bff-ad25-c60c0043e94f\",\"type\":\"GlyphRenderer\"},{\"id\":\"1015607c-f2b1-4829-a49d-1b24745b4beb\",\"type\":\"GlyphRenderer\"},{\"id\":\"61958d86-28c4-4dbb-838b-df24c0c50ba8\",\"type\":\"GlyphRenderer\"}],\"title\":{\"id\":\"75c3d493-201e-4d83-89d6-fefc7042e24b\",\"type\":\"Title\"},\"tool_events\":{\"id\":\"643d6bdb-45a7-4c3c-9408-2a730bb5a002\",\"type\":\"ToolEvents\"},\"toolbar\":{\"id\":\"65335877-2feb-4391-802c-ee0452544d2f\",\"type\":\"Toolbar\"},\"width\":600,\"x_mapper_type\":\"auto\",\"x_range\":{\"id\":\"5a6c9329-12b3-42b2-8b30-454d28842584\",\"type\":\"Range1d\"},\"y_mapper_type\":\"auto\",\"y_range\":{\"id\":\"5a6c9329-12b3-42b2-8b30-454d28842584\",\"type\":\"Range1d\"}},\"id\":\"3960a436-e443-4cbf-b694-26b2c73332d0\",\"subtype\":\"Chart\",\"type\":\"Plot\"},{\"attributes\":{\"callback\":null,\"column_names\":[\"x_values\",\"y_values\"],\"data\":{\"chart_index\":[{\"type\":\"Pickup\"},{\"type\":\"Pickup\"},{\"type\":\"Pickup\"},{\"type\":\"Pickup\"},{\"type\":\"Pickup\"},{\"type\":\"Pickup\"},{\"type\":\"Pickup\"},{\"type\":\"Pickup\"},{\"type\":\"Pickup\"},{\"type\":\"Pickup\"},{\"type\":\"Pickup\"}],\"type\":[\"Pickup\",\"Pickup\",\"Pickup\",\"Pickup\",\"Pickup\",\"Pickup\",\"Pickup\",\"Pickup\",\"Pickup\",\"Pickup\",\"Pickup\"],\"x_values\":{\"__ndarray__\":\"OSm1nWYlPUC+vdEm28NOQJbv4D5VyFFAgFz/4MpznT8K2CZf+3dNQPmibYnI4ShAFHOupbooSkBSQEax/n1WQKkXuvQPiU5A56ilSOx6NkCxHrbCaBQhQA==\",\"dtype\":\"float64\",\"shape\":[11]},\"y_values\":{\"__ndarray__\":\"VALtbPdITkBMMjy//P49QJKepnhssEJAABTkfCY8LkC/4VAqFgkxQIOlPLnSQVhAU/ZaYpM+RkDD81DZpilAQOIPwuT5lU5AhNxTxZa7PUAYRdzcoEQoQA==\",\"dtype\":\"float64\",\"shape\":[11]}}},\"id\":\"fbe98e3f-895a-4b55-8b66-9aaa8176b440\",\"type\":\"ColumnDataSource\"},{\"attributes\":{\"line_alpha\":{\"value\":0.5},\"line_color\":{\"value\":\"grey\"},\"line_dash\":[6],\"x\":{\"field\":\"x\"},\"y\":{\"field\":\"y\"}},\"id\":\"ea679eac-09e9-406c-9a87-8f01f5955f39\",\"type\":\"Line\"},{\"attributes\":{\"data_source\":{\"id\":\"fd459472-e79e-4aa3-bae8-987799681431\",\"type\":\"ColumnDataSource\"},\"glyph\":{\"id\":\"ea679eac-09e9-406c-9a87-8f01f5955f39\",\"type\":\"Line\"},\"hover_glyph\":null,\"nonselection_glyph\":{\"id\":\"411a14b5-5411-4830-b447-067513cd2edc\",\"type\":\"Line\"},\"selection_glyph\":null},\"id\":\"ed948d82-0e34-40c2-8cf3-79003f987315\",\"type\":\"GlyphRenderer\"},{\"attributes\":{\"line_alpha\":{\"value\":0.1},\"line_color\":{\"value\":\"#1f77b4\"},\"line_dash\":[6],\"x\":{\"field\":\"x\"},\"y\":{\"field\":\"y\"}},\"id\":\"3cd14e24-62a2-499b-af32-9dc2b5948c35\",\"type\":\"Line\"},{\"attributes\":{\"plot\":{\"id\":\"3960a436-e443-4cbf-b694-26b2c73332d0\",\"subtype\":\"Chart\",\"type\":\"Plot\"}},\"id\":\"526bb0d3-36a2-4389-bd93-31719fc4da3a\",\"type\":\"HelpTool\"},{\"attributes\":{\"line_alpha\":{\"value\":0.1},\"line_color\":{\"value\":\"#1f77b4\"},\"line_dash\":[6],\"x\":{\"field\":\"x\"},\"y\":{\"field\":\"y\"}},\"id\":\"411a14b5-5411-4830-b447-067513cd2edc\",\"type\":\"Line\"},{\"attributes\":{\"line_alpha\":{\"value\":0.5},\"line_color\":{\"value\":\"grey\"},\"line_dash\":[6],\"x\":{\"field\":\"x\"},\"y\":{\"field\":\"y\"}},\"id\":\"10ea60b8-f0fd-4684-b60a-709122e75105\",\"type\":\"Line\"},{\"attributes\":{\"line_alpha\":{\"value\":0.1},\"line_color\":{\"value\":\"#1f77b4\"},\"line_dash\":[6],\"x\":{\"field\":\"x\"},\"y\":{\"field\":\"y\"}},\"id\":\"dfd372cd-6552-49ad-8b9a-d50c11499361\",\"type\":\"Line\"},{\"attributes\":{\"line_alpha\":{\"value\":0.1},\"line_color\":{\"value\":\"#1f77b4\"},\"line_dash\":[6],\"x\":{\"field\":\"x\"},\"y\":{\"field\":\"y\"}},\"id\":\"2360990d-5147-4fcd-b7e9-6277cb7ceb64\",\"type\":\"Line\"},{\"attributes\":{\"data_source\":{\"id\":\"635291ec-6549-4694-ad3e-f7da53a0e4ac\",\"type\":\"ColumnDataSource\"},\"glyph\":{\"id\":\"10ea60b8-f0fd-4684-b60a-709122e75105\",\"type\":\"Line\"},\"hover_glyph\":null,\"nonselection_glyph\":{\"id\":\"2360990d-5147-4fcd-b7e9-6277cb7ceb64\",\"type\":\"Line\"},\"selection_glyph\":null},\"id\":\"059565d7-76b2-4563-922c-4c813f699542\",\"type\":\"GlyphRenderer\"},{\"attributes\":{\"callback\":null,\"column_names\":[\"x\",\"y\"],\"data\":{\"x\":[71.13020297972102,77.26728721249384],\"y\":[37.37831028114046,54.689637627512255]}},\"id\":\"635291ec-6549-4694-ad3e-f7da53a0e4ac\",\"type\":\"ColumnDataSource\"},{\"attributes\":{\"bottom_units\":\"screen\",\"fill_alpha\":{\"value\":0.5},\"fill_color\":{\"value\":\"lightgrey\"},\"left_units\":\"screen\",\"level\":\"overlay\",\"line_alpha\":{\"value\":1.0},\"line_color\":{\"value\":\"black\"},\"line_dash\":[4,4],\"line_width\":{\"value\":2},\"plot\":null,\"render_mode\":\"css\",\"right_units\":\"screen\",\"top_units\":\"screen\"},\"id\":\"1853d59a-c278-466d-9a76-59b72e1620a8\",\"type\":\"BoxAnnotation\"},{\"attributes\":{\"callback\":null,\"column_names\":[\"x\",\"y\"],\"data\":{\"x\":[0.02876202581668652,37.66286312419672],\"y\":[15.117481139031952,85.7374900448338]}},\"id\":\"0e88c2b4-07b8-4f06-bafe-30fc6a7444e4\",\"type\":\"ColumnDataSource\"},{\"attributes\":{\"data_source\":{\"id\":\"fbf8f6cb-c38a-40fe-a536-81b8adb58e3b\",\"type\":\"ColumnDataSource\"},\"glyph\":{\"id\":\"6aba04bf-6028-44b3-bcea-b18dbcaa0660\",\"type\":\"Line\"},\"hover_glyph\":null,\"nonselection_glyph\":{\"id\":\"3cd14e24-62a2-499b-af32-9dc2b5948c35\",\"type\":\"Line\"},\"selection_glyph\":null},\"id\":\"adfe690c-b949-4aac-8880-397bf4b214d3\",\"type\":\"GlyphRenderer\"},{\"attributes\":{\"plot\":null,\"text\":null},\"id\":\"75c3d493-201e-4d83-89d6-fefc7042e24b\",\"type\":\"Title\"},{\"attributes\":{\"callback\":null,\"column_names\":[\"x\",\"y\"],\"data\":{\"x\":[61.07079943739456,28.93948544169973],\"y\":[61.17168864703832,30.13580643951674]}},\"id\":\"d050f47f-70d4-4e94-88a4-75798c492949\",\"type\":\"ColumnDataSource\"},{\"attributes\":{\"line_alpha\":{\"value\":0.5},\"line_color\":{\"value\":\"grey\"},\"line_dash\":[6],\"x\":{\"field\":\"x\"},\"y\":{\"field\":\"y\"}},\"id\":\"b8299c16-ef4b-4d36-91a3-dfad823643c9\",\"type\":\"Line\"},{\"attributes\":{\"data_source\":{\"id\":\"86d700b0-acba-41ba-a464-4190c5b965e3\",\"type\":\"ColumnDataSource\"},\"glyph\":{\"id\":\"84de8152-c205-4d36-bede-537c69335791\",\"type\":\"Line\"},\"hover_glyph\":null,\"nonselection_glyph\":{\"id\":\"9393d41b-e8e5-4e17-a25d-5d99361a79cb\",\"type\":\"Line\"},\"selection_glyph\":null},\"id\":\"398ebb60-816e-4971-a92c-e1b0607e8645\",\"type\":\"GlyphRenderer\"},{\"attributes\":{\"line_alpha\":{\"value\":0.1},\"line_color\":{\"value\":\"#1f77b4\"},\"line_dash\":[6],\"x\":{\"field\":\"x\"},\"y\":{\"field\":\"y\"}},\"id\":\"e6a1af5c-d94a-486f-be98-893565945c22\",\"type\":\"Line\"},{\"attributes\":{\"line_alpha\":{\"value\":0.5},\"line_color\":{\"value\":\"grey\"},\"line_dash\":[6],\"x\":{\"field\":\"x\"},\"y\":{\"field\":\"y\"}},\"id\":\"565d8eac-6f2d-45e3-9501-d9aca33657df\",\"type\":\"Line\"},{\"attributes\":{\"line_alpha\":{\"value\":0.1},\"line_color\":{\"value\":\"#1f77b4\"},\"line_dash\":[6],\"x\":{\"field\":\"x\"},\"y\":{\"field\":\"y\"}},\"id\":\"2504e9ec-4046-4ae5-8064-46c2eca45241\",\"type\":\"Line\"},{\"attributes\":{\"plot\":{\"id\":\"3960a436-e443-4cbf-b694-26b2c73332d0\",\"subtype\":\"Chart\",\"type\":\"Plot\"}},\"id\":\"17e6190a-4d26-47da-991f-568af146def7\",\"type\":\"SaveTool\"},{\"attributes\":{\"line_alpha\":{\"value\":0.1},\"line_color\":{\"value\":\"#1f77b4\"},\"line_dash\":[6],\"x\":{\"field\":\"x\"},\"y\":{\"field\":\"y\"}},\"id\":\"9bce39ae-31d8-4515-8bcf-d183a8cf8702\",\"type\":\"Line\"},{\"attributes\":{\"data_source\":{\"id\":\"0e88c2b4-07b8-4f06-bafe-30fc6a7444e4\",\"type\":\"ColumnDataSource\"},\"glyph\":{\"id\":\"565d8eac-6f2d-45e3-9501-d9aca33657df\",\"type\":\"Line\"},\"hover_glyph\":null,\"nonselection_glyph\":{\"id\":\"9bce39ae-31d8-4515-8bcf-d183a8cf8702\",\"type\":\"Line\"},\"selection_glyph\":null},\"id\":\"440a530c-9cc2-44ce-be0d-ed03def89933\",\"type\":\"GlyphRenderer\"},{\"attributes\":{\"line_alpha\":{\"value\":0.1},\"line_color\":{\"value\":\"#1f77b4\"},\"line_dash\":[6],\"x\":{\"field\":\"x\"},\"y\":{\"field\":\"y\"}},\"id\":\"159fb488-bc76-45d4-b1db-db95cfbe2ea6\",\"type\":\"Line\"},{\"attributes\":{\"callback\":null,\"column_names\":[\"x\",\"y\"],\"data\":{\"x\":[58.937358755079984,51.88629510995546],\"y\":[17.035494465586222,7.913791631961676]}},\"id\":\"313826cd-1aa0-441e-b8a3-971ab8b8cc3a\",\"type\":\"ColumnDataSource\"},{\"attributes\":{\"data_source\":{\"id\":\"d050f47f-70d4-4e94-88a4-75798c492949\",\"type\":\"ColumnDataSource\"},\"glyph\":{\"id\":\"b8299c16-ef4b-4d36-91a3-dfad823643c9\",\"type\":\"Line\"},\"hover_glyph\":null,\"nonselection_glyph\":{\"id\":\"e6a1af5c-d94a-486f-be98-893565945c22\",\"type\":\"Line\"},\"selection_glyph\":null},\"id\":\"5540285b-c4b1-4bff-ad25-c60c0043e94f\",\"type\":\"GlyphRenderer\"},{\"attributes\":{\"callback\":null,\"column_names\":[\"x\",\"y\"],\"data\":{\"x\":[22.480167904323846,39.91878898636229],\"y\":[29.732769329999897,97.03810519813581]}},\"id\":\"957e0cc3-abc8-4b7c-8d06-5155b71f9785\",\"type\":\"ColumnDataSource\"},{\"attributes\":{\"line_alpha\":{\"value\":0.5},\"line_color\":{\"value\":\"grey\"},\"line_dash\":[6],\"x\":{\"field\":\"x\"},\"y\":{\"field\":\"y\"}},\"id\":\"6aba04bf-6028-44b3-bcea-b18dbcaa0660\",\"type\":\"Line\"},{\"attributes\":{\"line_alpha\":{\"value\":0.5},\"line_color\":{\"value\":\"grey\"},\"line_dash\":[6],\"x\":{\"field\":\"x\"},\"y\":{\"field\":\"y\"}},\"id\":\"a8844fc7-ee42-44bb-bb85-2c9a2ae9be85\",\"type\":\"Line\"},{\"attributes\":{\"items\":[{\"id\":\"39707d3f-18e7-4dde-8f7e-f865e652b31e\",\"type\":\"LegendItem\"},{\"id\":\"2452bf53-63f5-435f-b720-054f1193f2f6\",\"type\":\"LegendItem\"},{\"id\":\"c95639b9-ace4-492c-b48d-e0904715d430\",\"type\":\"LegendItem\"}],\"location\":\"top_left\",\"orientation\":\"horizontal\",\"plot\":{\"id\":\"3960a436-e443-4cbf-b694-26b2c73332d0\",\"subtype\":\"Chart\",\"type\":\"Plot\"}},\"id\":\"97732d08-d08d-45e3-ab9b-9cd5c4632593\",\"type\":\"Legend\"},{\"attributes\":{\"line_alpha\":{\"value\":0.5},\"line_color\":{\"value\":\"grey\"},\"line_dash\":[6],\"x\":{\"field\":\"x\"},\"y\":{\"field\":\"y\"}},\"id\":\"84de8152-c205-4d36-bede-537c69335791\",\"type\":\"Line\"},{\"attributes\":{\"callback\":null,\"column_names\":[\"x\",\"y\"],\"data\":{\"x\":[89.96867019520258,79.87320874843284],\"y\":[32.325404324080885,74.19450828214835]}},\"id\":\"fbf8f6cb-c38a-40fe-a536-81b8adb58e3b\",\"type\":\"ColumnDataSource\"},{\"attributes\":{\"line_alpha\":{\"value\":0.1},\"line_color\":{\"value\":\"#1f77b4\"},\"line_dash\":[6],\"x\":{\"field\":\"x\"},\"y\":{\"field\":\"y\"}},\"id\":\"9393d41b-e8e5-4e17-a25d-5d99361a79cb\",\"type\":\"Line\"},{\"attributes\":{\"callback\":null,\"end\":115,\"start\":-15},\"id\":\"5a6c9329-12b3-42b2-8b30-454d28842584\",\"type\":\"Range1d\"},{\"attributes\":{\"plot\":{\"id\":\"3960a436-e443-4cbf-b694-26b2c73332d0\",\"subtype\":\"Chart\",\"type\":\"Plot\"}},\"id\":\"a94748a2-e7bc-439d-bbad-c0453111eb7d\",\"type\":\"ResetTool\"},{\"attributes\":{\"label\":{\"value\":\"Pickup\"},\"renderers\":[{\"id\":\"9907a993-74e6-438c-8bc9-73f6ad5cbd9d\",\"type\":\"GlyphRenderer\"}]},\"id\":\"2452bf53-63f5-435f-b720-054f1193f2f6\",\"type\":\"LegendItem\"},{\"attributes\":{\"label\":{\"value\":\"Dropoff\"},\"renderers\":[{\"id\":\"355f5831-11b4-4a65-859c-b93e5f7d4f38\",\"type\":\"GlyphRenderer\"}]},\"id\":\"c95639b9-ace4-492c-b48d-e0904715d430\",\"type\":\"LegendItem\"},{\"attributes\":{\"line_alpha\":{\"value\":0.1},\"line_color\":{\"value\":\"#1f77b4\"},\"line_dash\":[6],\"x\":{\"field\":\"x\"},\"y\":{\"field\":\"y\"}},\"id\":\"6791a7da-3c08-4ea7-ae14-e32649183e4d\",\"type\":\"Line\"},{\"attributes\":{},\"id\":\"e980a625-c683-4c64-9d87-8ccf12e9d059\",\"type\":\"BasicTicker\"},{\"attributes\":{\"axis_label\":\"y\",\"formatter\":{\"id\":\"9ebfeb6f-bcbe-4475-a0c7-3c55f36a1f25\",\"type\":\"BasicTickFormatter\"},\"plot\":{\"id\":\"3960a436-e443-4cbf-b694-26b2c73332d0\",\"subtype\":\"Chart\",\"type\":\"Plot\"},\"ticker\":{\"id\":\"1e17625e-6a7b-4776-83db-0463f6fc9b29\",\"type\":\"BasicTicker\"}},\"id\":\"8087b4b8-8158-4c79-be40-ce0c00fe4bac\",\"type\":\"LinearAxis\"},{\"attributes\":{\"axis_label\":\"x\",\"formatter\":{\"id\":\"4ce94af7-0ab0-4946-8452-c92900db54fe\",\"type\":\"BasicTickFormatter\"},\"plot\":{\"id\":\"3960a436-e443-4cbf-b694-26b2c73332d0\",\"subtype\":\"Chart\",\"type\":\"Plot\"},\"ticker\":{\"id\":\"e980a625-c683-4c64-9d87-8ccf12e9d059\",\"type\":\"BasicTicker\"}},\"id\":\"f2ddf010-1bac-4aa0-acaa-b86656394eab\",\"type\":\"LinearAxis\"},{\"attributes\":{\"plot\":{\"id\":\"3960a436-e443-4cbf-b694-26b2c73332d0\",\"subtype\":\"Chart\",\"type\":\"Plot\"}},\"id\":\"70c136e1-a6be-4626-b903-2a1e2f1cfe6d\",\"type\":\"WheelZoomTool\"},{\"attributes\":{\"line_alpha\":{\"value\":0.5},\"line_color\":{\"value\":\"grey\"},\"line_dash\":[6],\"x\":{\"field\":\"x\"},\"y\":{\"field\":\"y\"}},\"id\":\"a6d53330-cddf-4c67-a09d-6f40e7756429\",\"type\":\"Line\"},{\"attributes\":{\"overlay\":{\"id\":\"1853d59a-c278-466d-9a76-59b72e1620a8\",\"type\":\"BoxAnnotation\"},\"plot\":{\"id\":\"3960a436-e443-4cbf-b694-26b2c73332d0\",\"subtype\":\"Chart\",\"type\":\"Plot\"}},\"id\":\"79949247-c220-4bd7-a45d-09b832f78fce\",\"type\":\"BoxZoomTool\"},{\"attributes\":{\"dimension\":1,\"plot\":{\"id\":\"3960a436-e443-4cbf-b694-26b2c73332d0\",\"subtype\":\"Chart\",\"type\":\"Plot\"},\"ticker\":{\"id\":\"1e17625e-6a7b-4776-83db-0463f6fc9b29\",\"type\":\"BasicTicker\"}},\"id\":\"359f4546-941a-4f6b-8bb4-bab9d57b9318\",\"type\":\"Grid\"},{\"attributes\":{\"plot\":{\"id\":\"3960a436-e443-4cbf-b694-26b2c73332d0\",\"subtype\":\"Chart\",\"type\":\"Plot\"}},\"id\":\"ccd1cab0-f692-41a9-8dad-5d1338650c4f\",\"type\":\"PanTool\"},{\"attributes\":{\"data_source\":{\"id\":\"feeff464-d366-4a54-95bb-aad9f2cd27e5\",\"type\":\"ColumnDataSource\"},\"glyph\":{\"id\":\"9df3aca1-c24b-4a3c-a22a-174e0a697d54\",\"type\":\"Circle\"},\"hover_glyph\":null,\"nonselection_glyph\":null,\"selection_glyph\":null},\"id\":\"355f5831-11b4-4a65-859c-b93e5f7d4f38\",\"type\":\"GlyphRenderer\"},{\"attributes\":{\"data_source\":{\"id\":\"e9bbf2bb-66b4-41a7-8010-a6d858b05689\",\"type\":\"ColumnDataSource\"},\"glyph\":{\"id\":\"64a0baea-9d69-4993-ba23-ed35c0be915e\",\"type\":\"Square\"},\"hover_glyph\":null,\"nonselection_glyph\":null,\"selection_glyph\":null},\"id\":\"e23723a5-fe2e-4328-b4ae-40da203fec3d\",\"type\":\"GlyphRenderer\"},{\"attributes\":{\"active_drag\":\"auto\",\"active_scroll\":\"auto\",\"active_tap\":\"auto\",\"tools\":[{\"id\":\"ccd1cab0-f692-41a9-8dad-5d1338650c4f\",\"type\":\"PanTool\"},{\"id\":\"70c136e1-a6be-4626-b903-2a1e2f1cfe6d\",\"type\":\"WheelZoomTool\"},{\"id\":\"79949247-c220-4bd7-a45d-09b832f78fce\",\"type\":\"BoxZoomTool\"},{\"id\":\"17e6190a-4d26-47da-991f-568af146def7\",\"type\":\"SaveTool\"},{\"id\":\"a94748a2-e7bc-439d-bbad-c0453111eb7d\",\"type\":\"ResetTool\"},{\"id\":\"526bb0d3-36a2-4389-bd93-31719fc4da3a\",\"type\":\"HelpTool\"}]},\"id\":\"65335877-2feb-4391-802c-ee0452544d2f\",\"type\":\"Toolbar\"},{\"attributes\":{\"fill_alpha\":{\"value\":0.7},\"fill_color\":{\"value\":\"#407ee7\"},\"line_color\":{\"value\":\"#407ee7\"},\"size\":{\"units\":\"screen\",\"value\":8},\"x\":{\"field\":\"x_values\"},\"y\":{\"field\":\"y_values\"}},\"id\":\"7e744e61-d391-4955-a9c4-437e29d059f5\",\"type\":\"Triangle\"},{\"attributes\":{\"fill_alpha\":{\"value\":0.7},\"fill_color\":{\"value\":\"#5ab738\"},\"line_color\":{\"value\":\"#5ab738\"},\"size\":{\"units\":\"screen\",\"value\":8},\"x\":{\"field\":\"x_values\"},\"y\":{\"field\":\"y_values\"}},\"id\":\"64a0baea-9d69-4993-ba23-ed35c0be915e\",\"type\":\"Square\"},{\"attributes\":{\"label\":{\"value\":\"Pedicab\"},\"renderers\":[{\"id\":\"e23723a5-fe2e-4328-b4ae-40da203fec3d\",\"type\":\"GlyphRenderer\"}]},\"id\":\"39707d3f-18e7-4dde-8f7e-f865e652b31e\",\"type\":\"LegendItem\"},{\"attributes\":{\"data_source\":{\"id\":\"fbe98e3f-895a-4b55-8b66-9aaa8176b440\",\"type\":\"ColumnDataSource\"},\"glyph\":{\"id\":\"7e744e61-d391-4955-a9c4-437e29d059f5\",\"type\":\"Triangle\"},\"hover_glyph\":null,\"nonselection_glyph\":null,\"selection_glyph\":null},\"id\":\"9907a993-74e6-438c-8bc9-73f6ad5cbd9d\",\"type\":\"GlyphRenderer\"},{\"attributes\":{\"callback\":null,\"column_names\":[\"x\",\"y\"],\"data\":{\"x\":[12.440983099587799,45.77750495582161],\"y\":[97.02848654673112,55.04185848609181]}},\"id\":\"86d700b0-acba-41ba-a464-4190c5b965e3\",\"type\":\"ColumnDataSource\"},{\"attributes\":{\"callback\":null,\"column_names\":[\"x_values\",\"y_values\"],\"data\":{\"chart_index\":[{\"type\":\"Pedicab\"},{\"type\":\"Pedicab\"},{\"type\":\"Pedicab\"},{\"type\":\"Pedicab\"},{\"type\":\"Pedicab\"},{\"type\":\"Pedicab\"},{\"type\":\"Pedicab\"}],\"type\":[\"Pedicab\",\"Pedicab\",\"Pedicab\",\"Pedicab\",\"Pedicab\",\"Pedicab\",\"Pedicab\"],\"x_values\":{\"__ndarray__\":\"Wl8TeIurPkBQPcESaZpSQFMbupB9ikNARssEw/tgS0BdZT/Tr2NVQLhrU0f7n1VAfaWCt4GZO0A=\",\"dtype\":\"float64\",\"shape\":[7]},\"y_values\":{\"__ndarray__\":\"o61r4MU4UUA2Jg4FTac5QKWGPHU4oEBAfpezyf3FVkDXjpnJiMNJQPCctu4zclVA1lfoubmxS0A=\",\"dtype\":\"float64\",\"shape\":[7]}}},\"id\":\"e9bbf2bb-66b4-41a7-8010-a6d858b05689\",\"type\":\"ColumnDataSource\"},{\"attributes\":{\"data_source\":{\"id\":\"964f2ed3-3377-4dfe-bbf4-e5dc52788d06\",\"type\":\"ColumnDataSource\"},\"glyph\":{\"id\":\"a6d53330-cddf-4c67-a09d-6f40e7756429\",\"type\":\"Line\"},\"hover_glyph\":null,\"nonselection_glyph\":{\"id\":\"159fb488-bc76-45d4-b1db-db95cfbe2ea6\",\"type\":\"Line\"},\"selection_glyph\":null},\"id\":\"f106fd26-f09e-4af2-a589-7baa41bbc650\",\"type\":\"GlyphRenderer\"},{\"attributes\":{\"line_alpha\":{\"value\":0.5},\"line_color\":{\"value\":\"grey\"},\"line_dash\":[6],\"x\":{\"field\":\"x\"},\"y\":{\"field\":\"y\"}},\"id\":\"d8e6aa84-17dd-4fec-a0fc-3a8015a7de7e\",\"type\":\"Line\"},{\"attributes\":{\"data_source\":{\"id\":\"313826cd-1aa0-441e-b8a3-971ab8b8cc3a\",\"type\":\"ColumnDataSource\"},\"glyph\":{\"id\":\"d8e6aa84-17dd-4fec-a0fc-3a8015a7de7e\",\"type\":\"Line\"},\"hover_glyph\":null,\"nonselection_glyph\":{\"id\":\"dfd372cd-6552-49ad-8b9a-d50c11499361\",\"type\":\"Line\"},\"selection_glyph\":null},\"id\":\"56c1537e-b4e7-4402-a1c8-4269e6536ed0\",\"type\":\"GlyphRenderer\"},{\"attributes\":{\"plot\":{\"id\":\"3960a436-e443-4cbf-b694-26b2c73332d0\",\"subtype\":\"Chart\",\"type\":\"Plot\"},\"ticker\":{\"id\":\"e980a625-c683-4c64-9d87-8ccf12e9d059\",\"type\":\"BasicTicker\"}},\"id\":\"d0437dfa-b2b7-4e77-b9b5-0b5e8db0e077\",\"type\":\"Grid\"},{\"attributes\":{\"callback\":null,\"column_names\":[\"x_values\",\"y_values\"],\"data\":{\"chart_index\":[{\"type\":\"Dropoff\"},{\"type\":\"Dropoff\"},{\"type\":\"Dropoff\"},{\"type\":\"Dropoff\"},{\"type\":\"Dropoff\"},{\"type\":\"Dropoff\"},{\"type\":\"Dropoff\"},{\"type\":\"Dropoff\"},{\"type\":\"Dropoff\"},{\"type\":\"Dropoff\"},{\"type\":\"Dropoff\"}],\"type\":[\"Dropoff\",\"Dropoff\",\"Dropoff\",\"Dropoff\",\"Dropoff\",\"Dropoff\",\"Dropoff\",\"Dropoff\",\"Dropoff\",\"Dropoff\",\"Dropoff\"],\"x_values\":{\"__ndarray__\":\"3UUaBxdpNUB3QtFng3hUQDQT0zsbUVNAHBPostjUQkCF7j8ecvFJQKrdSkiF40ZAz7JJRClpV0BpRvKm4vdTQCArLx6C8DxA7iyk4Jr1Q0AtKDLrI8tVQA==\",\"dtype\":\"float64\",\"shape\":[11]},\"y_values\":{\"__ndarray__\":\"7qUISfvwM0CcbGyzvX48QMoguAtGWEtA9OtxCTNvVUAUiVr+uKcfQIZpbp5bhUtAen1d6XOXSUA2qN3ScoxSQIRP+DXEIj5AQvPIUHBCWEAcsDIy40ZFQA==\",\"dtype\":\"float64\",\"shape\":[11]}}},\"id\":\"feeff464-d366-4a54-95bb-aad9f2cd27e5\",\"type\":\"ColumnDataSource\"},{\"attributes\":{\"fill_alpha\":{\"value\":0.7},\"fill_color\":{\"value\":\"#f22c40\"},\"line_color\":{\"value\":\"#f22c40\"},\"size\":{\"units\":\"screen\",\"value\":8},\"x\":{\"field\":\"x_values\"},\"y\":{\"field\":\"y_values\"}},\"id\":\"9df3aca1-c24b-4a3c-a22a-174e0a697d54\",\"type\":\"Circle\"}],\"root_ids\":[\"3960a436-e443-4cbf-b694-26b2c73332d0\"]},\"title\":\"Bokeh Application\",\"version\":\"0.12.4\"}};\n",
       "            var render_items = [{\"docid\":\"3680d00a-dbf4-427d-9ae5-b4c15222c01e\",\"elementid\":\"424aa0a2-2d59-4bc5-a626-bf2f5eac2d58\",\"modelid\":\"3960a436-e443-4cbf-b694-26b2c73332d0\"}];\n",
       "            \n",
       "            Bokeh.embed.embed_items(docs_json, render_items);\n",
       "          };\n",
       "          if (document.readyState != \"loading\") fn();\n",
       "          else document.addEventListener(\"DOMContentLoaded\", fn);\n",
       "        })();\n",
       "      },\n",
       "      function(Bokeh) {\n",
       "      }\n",
       "    ];\n",
       "  \n",
       "    function run_inline_js() {\n",
       "      \n",
       "      if ((window.Bokeh !== undefined) || (force === true)) {\n",
       "        for (var i = 0; i < inline_js.length; i++) {\n",
       "          inline_js[i](window.Bokeh);\n",
       "        }if (force === true) {\n",
       "          display_loaded();\n",
       "        }} else if (Date.now() < window._bokeh_timeout) {\n",
       "        setTimeout(run_inline_js, 100);\n",
       "      } else if (!window._bokeh_failed_load) {\n",
       "        console.log(\"Bokeh: BokehJS failed to load within specified timeout.\");\n",
       "        window._bokeh_failed_load = true;\n",
       "      } else if (force !== true) {\n",
       "        var cell = $(document.getElementById(\"424aa0a2-2d59-4bc5-a626-bf2f5eac2d58\")).parents('.cell').data().cell;\n",
       "        cell.output_area.append_execute_result(NB_LOAD_WARNING)\n",
       "      }\n",
       "  \n",
       "    }\n",
       "  \n",
       "    if (window._bokeh_is_loading === 0) {\n",
       "      console.log(\"Bokeh: BokehJS loaded, going straight to plotting\");\n",
       "      run_inline_js();\n",
       "    } else {\n",
       "      load_libs(js_urls, function() {\n",
       "        console.log(\"Bokeh: BokehJS plotting callback run at\", now());\n",
       "        run_inline_js();\n",
       "      });\n",
       "    }\n",
       "  }(this));\n",
       "</script>"
      ]
     },
     "metadata": {},
     "output_type": "display_data"
    }
   ],
   "source": [
    "show(plot)"
   ]
  },
  {
   "cell_type": "markdown",
   "metadata": {
    "slideshow": {
     "slide_type": "subslide"
    }
   },
   "source": [
    "[Column generation](https://en.wikipedia.org/wiki/Column_generation) is a popular technique for solving problems like this. We generate columns _(i.e. binary variables)_ which are pre-defined routes.\n",
    "\n",
    "* $\\Omega = \\{\\text{set of allowable routes}\\}$\n",
    "* $\\Omega_i = \\{\\text{set of routes covering customer i}\\}$\n",
    "* $\\Omega_j = \\{\\text{set of routes involving pedicab j}\\}$\n",
    "* $c_r = \\{\\text{cost of route r}\\}$\n",
    "* $x_r = 1$ if we use route $r$, and $0$ otherwise."
   ]
  },
  {
   "cell_type": "markdown",
   "metadata": {
    "deletable": true,
    "editable": true,
    "slideshow": {
     "slide_type": "fragment"
    }
   },
   "source": [
    "Our model minimizes overall cost while covering each customer and assigning no more than one route to each pedicab.\n",
    "\n",
    "$$\n",
    "\\begin{align}\n",
    "    \\text{min}  \\ \\ \\ & \\ \\sum_r c_r x_r \\ & \\ \\\\\n",
    "    \\text{s.t.} \\ \\ \\ & \\ \\sum_{r \\in \\Omega_i} x_r = 1 & \\ \\forall\\ i \\\\\n",
    "                      & \\ \\sum_{r \\in \\Omega_j} x_r \\le 1 & \\ \\forall\\ j \\\\\n",
    "                      & x_r \\in \\{0, 1\\}\n",
    "\\end{align}\n",
    "$$"
   ]
  },
  {
   "cell_type": "markdown",
   "metadata": {
    "slideshow": {
     "slide_type": "subslide"
    }
   },
   "source": [
    "We need to track routes, their costs, and what actors they are associated with."
   ]
  },
  {
   "cell_type": "code",
   "execution_count": 47,
   "metadata": {
    "collapsed": false
   },
   "outputs": [],
   "source": [
    "from collections import defaultdict\n",
    "import math\n",
    "\n",
    "l2 = lambda pt1, pt2: math.sqrt(sum((x1-x2)**2 for x1, x2 in zip(pt1, pt2)))\n",
    "\n",
    "routes = []\n",
    "route_costs = {}\n",
    "\n",
    "routes_by_pedicab = defaultdict(list)\n",
    "routes_by_customer = defaultdict(list)\n",
    "\n",
    "def add_route(pedicab, customers, locations):\n",
    "    stops = [pedicab_locations[pedicab]] + list(locations)\n",
    "    \n",
    "    route_num = len(routes)\n",
    "    \n",
    "    routes.append(stops)\n",
    "    route_costs[route_num] = sum(l2(s1, s2) for s1, s2 in zip(stops, stops[1:]))\n",
    "    \n",
    "    routes_by_pedicab[pedicab].append(route_num)\n",
    "    for cust in customers:\n",
    "        routes_by_customer[cust].append(route_num)"
   ]
  },
  {
   "cell_type": "markdown",
   "metadata": {
    "slideshow": {
     "slide_type": "subslide"
    }
   },
   "source": [
    "Generate $\\Omega$! Let's assume we're not interested in assigning more than 2 customers to any pedicab."
   ]
  },
  {
   "cell_type": "code",
   "execution_count": 48,
   "metadata": {
    "collapsed": false
   },
   "outputs": [
    {
     "data": {
      "text/plain": [
       "2387"
      ]
     },
     "execution_count": 48,
     "metadata": {},
     "output_type": "execute_result"
    }
   ],
   "source": [
    "from itertools import permutations\n",
    "\n",
    "pickups_dropoffs = list(zip(pickup_locations, dropoff_locations))\n",
    "\n",
    "for cab in pedicabs:\n",
    "    # Single-customer routes\n",
    "    for cust in customers:\n",
    "        add_route(cab, [cust], pickups_dropoffs[cust])\n",
    "\n",
    "    # Doubles\n",
    "    for c1, c2 in permutations(customers, 2):\n",
    "        p1, d1 = pickups_dropoffs[c1]\n",
    "        p2, d2 = pickups_dropoffs[c2]\n",
    "        \n",
    "        add_route(cab, [c1, c2], [p1, p2, d1, d2])\n",
    "        add_route(cab, [c1, c2], [p1, p2, d2, d1])\n",
    "        add_route(cab, [c1, c2], [p1, d1, p2, d2])\n",
    "     \n",
    "len(routes)"
   ]
  },
  {
   "cell_type": "markdown",
   "metadata": {
    "slideshow": {
     "slide_type": "subslide"
    }
   },
   "source": [
    "Binary variables indicate which routes to use."
   ]
  },
  {
   "cell_type": "code",
   "execution_count": 49,
   "metadata": {
    "collapsed": false
   },
   "outputs": [],
   "source": [
    "x = []\n",
    "for r in range(len(routes)):\n",
    "    x.append(pulp.LpVariable('x%d' % r, cat=pulp.LpBinary))"
   ]
  },
  {
   "cell_type": "markdown",
   "metadata": {
    "slideshow": {
     "slide_type": "subslide"
    }
   },
   "source": [
    "The entire constraint set to the problem:"
   ]
  },
  {
   "cell_type": "code",
   "execution_count": 50,
   "metadata": {
    "collapsed": false
   },
   "outputs": [],
   "source": [
    "prm = pulp.LpProblem('Pedicab Routing Model', sense=pulp.LpMinimize)\n",
    "\n",
    "# No more than one route assigned to each cab\n",
    "for cab_routes in routes_by_pedicab.values():\n",
    "    prm += sum(x[r] for r in cab_routes) <= 1\n",
    "    \n",
    "# Each customer is picked up by exactly one pedicab\n",
    "for cust_routes in routes_by_customer.values():\n",
    "    prm += sum(x[r] for r in cust_routes) == 1"
   ]
  },
  {
   "cell_type": "markdown",
   "metadata": {
    "deletable": true,
    "editable": true,
    "slideshow": {
     "slide_type": "subslide"
    }
   },
   "source": [
    "Objective = minimize total distance."
   ]
  },
  {
   "cell_type": "code",
   "execution_count": 51,
   "metadata": {
    "collapsed": false
   },
   "outputs": [
    {
     "name": "stdout",
     "output_type": "stream",
     "text": [
      "total cost: 622.9524\n"
     ]
    }
   ],
   "source": [
    "z = pulp.LpVariable('z', lowBound=0)\n",
    "prm += z == sum(route_costs[r] * x[r] for r in range(len(routes)))\n",
    "\n",
    "prm.setObjective(z)\n",
    "assert prm.solve() == pulp.LpStatusOptimal\n",
    "\n",
    "best_total_cost = z.value()\n",
    "print('total cost:', best_total_cost)"
   ]
  },
  {
   "cell_type": "markdown",
   "metadata": {
    "deletable": true,
    "editable": true,
    "slideshow": {
     "slide_type": "subslide"
    }
   },
   "source": [
    "We need a function to plot solutions."
   ]
  },
  {
   "cell_type": "code",
   "execution_count": 52,
   "metadata": {
    "collapsed": true
   },
   "outputs": [],
   "source": [
    "def plot_routes():\n",
    "    plot = build_pedicabs_and_customers_plot()\n",
    "\n",
    "    # Show \n",
    "    for r, stops in enumerate(routes):\n",
    "        if x[r].value() < 0.5:\n",
    "            continue\n",
    "\n",
    "        plot.line(\n",
    "            [s[0] for s in stops], \n",
    "            [s[1] for s in stops], \n",
    "            line_alpha=0.5, \n",
    "            line_color='grey', \n",
    "            line_dash='dashed'\n",
    "        )\n",
    "    \n",
    "    show(plot)"
   ]
  },
  {
   "cell_type": "code",
   "execution_count": 53,
   "metadata": {
    "collapsed": false,
    "slideshow": {
     "slide_type": "subslide"
    }
   },
   "outputs": [
    {
     "data": {
      "text/html": [
       "\n",
       "\n",
       "    <div class=\"bk-root\">\n",
       "        <div class=\"bk-plotdiv\" id=\"1142328f-db4e-443b-bc2d-acc66130e65b\"></div>\n",
       "    </div>\n",
       "<script type=\"text/javascript\">\n",
       "  \n",
       "  (function(global) {\n",
       "    function now() {\n",
       "      return new Date();\n",
       "    }\n",
       "  \n",
       "    var force = false;\n",
       "  \n",
       "    if (typeof (window._bokeh_onload_callbacks) === \"undefined\" || force === true) {\n",
       "      window._bokeh_onload_callbacks = [];\n",
       "      window._bokeh_is_loading = undefined;\n",
       "    }\n",
       "  \n",
       "  \n",
       "    \n",
       "    if (typeof (window._bokeh_timeout) === \"undefined\" || force === true) {\n",
       "      window._bokeh_timeout = Date.now() + 0;\n",
       "      window._bokeh_failed_load = false;\n",
       "    }\n",
       "  \n",
       "    var NB_LOAD_WARNING = {'data': {'text/html':\n",
       "       \"<div style='background-color: #fdd'>\\n\"+\n",
       "       \"<p>\\n\"+\n",
       "       \"BokehJS does not appear to have successfully loaded. If loading BokehJS from CDN, this \\n\"+\n",
       "       \"may be due to a slow or bad network connection. Possible fixes:\\n\"+\n",
       "       \"</p>\\n\"+\n",
       "       \"<ul>\\n\"+\n",
       "       \"<li>re-rerun `output_notebook()` to attempt to load from CDN again, or</li>\\n\"+\n",
       "       \"<li>use INLINE resources instead, as so:</li>\\n\"+\n",
       "       \"</ul>\\n\"+\n",
       "       \"<code>\\n\"+\n",
       "       \"from bokeh.resources import INLINE\\n\"+\n",
       "       \"output_notebook(resources=INLINE)\\n\"+\n",
       "       \"</code>\\n\"+\n",
       "       \"</div>\"}};\n",
       "  \n",
       "    function display_loaded() {\n",
       "      if (window.Bokeh !== undefined) {\n",
       "        document.getElementById(\"1142328f-db4e-443b-bc2d-acc66130e65b\").textContent = \"BokehJS successfully loaded.\";\n",
       "      } else if (Date.now() < window._bokeh_timeout) {\n",
       "        setTimeout(display_loaded, 100)\n",
       "      }\n",
       "    }\n",
       "  \n",
       "    function run_callbacks() {\n",
       "      window._bokeh_onload_callbacks.forEach(function(callback) { callback() });\n",
       "      delete window._bokeh_onload_callbacks\n",
       "      console.info(\"Bokeh: all callbacks have finished\");\n",
       "    }\n",
       "  \n",
       "    function load_libs(js_urls, callback) {\n",
       "      window._bokeh_onload_callbacks.push(callback);\n",
       "      if (window._bokeh_is_loading > 0) {\n",
       "        console.log(\"Bokeh: BokehJS is being loaded, scheduling callback at\", now());\n",
       "        return null;\n",
       "      }\n",
       "      if (js_urls == null || js_urls.length === 0) {\n",
       "        run_callbacks();\n",
       "        return null;\n",
       "      }\n",
       "      console.log(\"Bokeh: BokehJS not loaded, scheduling load and callback at\", now());\n",
       "      window._bokeh_is_loading = js_urls.length;\n",
       "      for (var i = 0; i < js_urls.length; i++) {\n",
       "        var url = js_urls[i];\n",
       "        var s = document.createElement('script');\n",
       "        s.src = url;\n",
       "        s.async = false;\n",
       "        s.onreadystatechange = s.onload = function() {\n",
       "          window._bokeh_is_loading--;\n",
       "          if (window._bokeh_is_loading === 0) {\n",
       "            console.log(\"Bokeh: all BokehJS libraries loaded\");\n",
       "            run_callbacks()\n",
       "          }\n",
       "        };\n",
       "        s.onerror = function() {\n",
       "          console.warn(\"failed to load library \" + url);\n",
       "        };\n",
       "        console.log(\"Bokeh: injecting script tag for BokehJS library: \", url);\n",
       "        document.getElementsByTagName(\"head\")[0].appendChild(s);\n",
       "      }\n",
       "    };var element = document.getElementById(\"1142328f-db4e-443b-bc2d-acc66130e65b\");\n",
       "    if (element == null) {\n",
       "      console.log(\"Bokeh: ERROR: autoload.js configured with elementid '1142328f-db4e-443b-bc2d-acc66130e65b' but no matching script tag was found. \")\n",
       "      return false;\n",
       "    }\n",
       "  \n",
       "    var js_urls = [];\n",
       "  \n",
       "    var inline_js = [\n",
       "      function(Bokeh) {\n",
       "        (function() {\n",
       "          var fn = function() {\n",
       "            var docs_json = {\"75cabd2b-65eb-4e86-9195-39a5bc374466\":{\"roots\":{\"references\":[{\"attributes\":{\"label\":{\"value\":\"Pedicab\"},\"renderers\":[{\"id\":\"7838ebbe-826d-4268-bf5d-5af78fc20916\",\"type\":\"GlyphRenderer\"}]},\"id\":\"8d60ec73-4ad2-42e1-99f5-efc3f8457a44\",\"type\":\"LegendItem\"},{\"attributes\":{\"callback\":null,\"column_names\":[\"x\",\"y\"],\"data\":{\"x\":[27.59963557185755,22.480167904323846,0.02876202581668652,37.66286312419672,39.91878898636229],\"y\":[55.38848041386488,29.732769329999897,15.117481139031952,85.7374900448338,97.03810519813581]}},\"id\":\"639697dd-98fc-40b0-b8ec-41236109eb7a\",\"type\":\"ColumnDataSource\"},{\"attributes\":{\"axis_label\":\"y\",\"formatter\":{\"id\":\"449be1bc-99be-4155-99e4-272bf8cad0d2\",\"type\":\"BasicTickFormatter\"},\"plot\":{\"id\":\"305f0da4-82de-447d-a8a5-edcacc1ded07\",\"subtype\":\"Chart\",\"type\":\"Plot\"},\"ticker\":{\"id\":\"7a59dd62-bb67-4ffe-80c4-e0ec6ee0144b\",\"type\":\"BasicTicker\"}},\"id\":\"e9bc702c-fd8b-42d7-88cd-bafb347167e5\",\"type\":\"LinearAxis\"},{\"attributes\":{\"bottom_units\":\"screen\",\"fill_alpha\":{\"value\":0.5},\"fill_color\":{\"value\":\"lightgrey\"},\"left_units\":\"screen\",\"level\":\"overlay\",\"line_alpha\":{\"value\":1.0},\"line_color\":{\"value\":\"black\"},\"line_dash\":[4,4],\"line_width\":{\"value\":2},\"plot\":null,\"render_mode\":\"css\",\"right_units\":\"screen\",\"top_units\":\"screen\"},\"id\":\"85b925a1-8082-457e-9d7e-5779c9e73ba0\",\"type\":\"BoxAnnotation\"},{\"attributes\":{\"callback\":null,\"column_names\":[\"x_values\",\"y_values\"],\"data\":{\"chart_index\":[{\"type\":\"Pedicab\"},{\"type\":\"Pedicab\"},{\"type\":\"Pedicab\"},{\"type\":\"Pedicab\"},{\"type\":\"Pedicab\"},{\"type\":\"Pedicab\"},{\"type\":\"Pedicab\"}],\"type\":[\"Pedicab\",\"Pedicab\",\"Pedicab\",\"Pedicab\",\"Pedicab\",\"Pedicab\",\"Pedicab\"],\"x_values\":{\"__ndarray__\":\"Wl8TeIurPkBQPcESaZpSQFMbupB9ikNARssEw/tgS0BdZT/Tr2NVQLhrU0f7n1VAfaWCt4GZO0A=\",\"dtype\":\"float64\",\"shape\":[7]},\"y_values\":{\"__ndarray__\":\"o61r4MU4UUA2Jg4FTac5QKWGPHU4oEBAfpezyf3FVkDXjpnJiMNJQPCctu4zclVA1lfoubmxS0A=\",\"dtype\":\"float64\",\"shape\":[7]}}},\"id\":\"f915943e-4430-4d4c-bd3e-9ccb8cea3ea4\",\"type\":\"ColumnDataSource\"},{\"attributes\":{\"label\":{\"value\":\"Pickup\"},\"renderers\":[{\"id\":\"c34e46a8-2b01-4f21-8504-22e29184d64f\",\"type\":\"GlyphRenderer\"}]},\"id\":\"276965fe-5cd2-45d1-a062-4b304b9733e5\",\"type\":\"LegendItem\"},{\"attributes\":{},\"id\":\"1be22e0c-e2ed-435b-aa24-afef8c850370\",\"type\":\"BasicTickFormatter\"},{\"attributes\":{\"callback\":null,\"column_names\":[\"x\",\"y\"],\"data\":{\"x\":[39.08195695006602,8.539861759883339,52.318196020298416,87.17406730554713,93.64314372250668],\"y\":[33.25172296004647,12.134039785278716,44.48887280885233,42.55380847430226,51.18322484078358]}},\"id\":\"c8ac7545-5e92-4c95-899b-c376203899bb\",\"type\":\"ColumnDataSource\"},{\"attributes\":{\"data_source\":{\"id\":\"5f367593-f12d-4904-955f-235102e14331\",\"type\":\"ColumnDataSource\"},\"glyph\":{\"id\":\"1d5921b7-ce01-4aed-8056-76d5da91b3d2\",\"type\":\"Circle\"},\"hover_glyph\":null,\"nonselection_glyph\":null,\"selection_glyph\":null},\"id\":\"af344548-735f-4202-b1ba-1e864ddc573d\",\"type\":\"GlyphRenderer\"},{\"attributes\":{\"plot\":{\"id\":\"305f0da4-82de-447d-a8a5-edcacc1ded07\",\"subtype\":\"Chart\",\"type\":\"Plot\"}},\"id\":\"9e1fd4a4-0219-4567-b3c3-4a3ed4f7d4aa\",\"type\":\"PanTool\"},{\"attributes\":{\"callback\":null,\"column_names\":[\"x_values\",\"y_values\"],\"data\":{\"chart_index\":[{\"type\":\"Dropoff\"},{\"type\":\"Dropoff\"},{\"type\":\"Dropoff\"},{\"type\":\"Dropoff\"},{\"type\":\"Dropoff\"},{\"type\":\"Dropoff\"},{\"type\":\"Dropoff\"},{\"type\":\"Dropoff\"},{\"type\":\"Dropoff\"},{\"type\":\"Dropoff\"},{\"type\":\"Dropoff\"}],\"type\":[\"Dropoff\",\"Dropoff\",\"Dropoff\",\"Dropoff\",\"Dropoff\",\"Dropoff\",\"Dropoff\",\"Dropoff\",\"Dropoff\",\"Dropoff\",\"Dropoff\"],\"x_values\":{\"__ndarray__\":\"3UUaBxdpNUB3QtFng3hUQDQT0zsbUVNAHBPostjUQkCF7j8ecvFJQKrdSkiF40ZAz7JJRClpV0BpRvKm4vdTQCArLx6C8DxA7iyk4Jr1Q0AtKDLrI8tVQA==\",\"dtype\":\"float64\",\"shape\":[11]},\"y_values\":{\"__ndarray__\":\"7qUISfvwM0CcbGyzvX48QMoguAtGWEtA9OtxCTNvVUAUiVr+uKcfQIZpbp5bhUtAen1d6XOXSUA2qN3ScoxSQIRP+DXEIj5AQvPIUHBCWEAcsDIy40ZFQA==\",\"dtype\":\"float64\",\"shape\":[11]}}},\"id\":\"5f367593-f12d-4904-955f-235102e14331\",\"type\":\"ColumnDataSource\"},{\"attributes\":{\"callback\":null,\"column_names\":[\"x\",\"y\"],\"data\":{\"x\":[85.55760651770602,89.96867019520258,71.13020297972102,77.26728721249384,79.87320874843284],\"y\":[51.5276119231982,32.325404324080885,37.37831028114046,54.689637627512255,74.19450828214835]}},\"id\":\"45a61f00-d671-4141-84ee-66dd98522894\",\"type\":\"ColumnDataSource\"},{\"attributes\":{},\"id\":\"449be1bc-99be-4155-99e4-272bf8cad0d2\",\"type\":\"BasicTickFormatter\"},{\"attributes\":{\"label\":{\"value\":\"Dropoff\"},\"renderers\":[{\"id\":\"af344548-735f-4202-b1ba-1e864ddc573d\",\"type\":\"GlyphRenderer\"}]},\"id\":\"fa8127bb-c984-4fec-8c69-c2ac681acee1\",\"type\":\"LegendItem\"},{\"attributes\":{\"callback\":null,\"column_names\":[\"x\",\"y\"],\"data\":{\"x\":[74.41266316290898,61.530125477230726,81.88302035747061,58.937358755079984,51.88629510995546],\"y\":[25.653518978075418,29.996044113346485,28.495082105608716,17.035494465586222,7.913791631961676]}},\"id\":\"ec447c2a-6f68-4800-ad02-3bc5395cd49b\",\"type\":\"ColumnDataSource\"},{\"attributes\":{\"callback\":null,\"column_names\":[\"x\",\"y\"],\"data\":{\"x\":[30.670096878747565,12.440983099587799,45.77750495582161],\"y\":[68.88707743182617,97.02848654673112,55.04185848609181]}},\"id\":\"1f29bdfa-f60c-400e-973f-4eb1f5a79bab\",\"type\":\"ColumnDataSource\"},{\"attributes\":{\"plot\":{\"id\":\"305f0da4-82de-447d-a8a5-edcacc1ded07\",\"subtype\":\"Chart\",\"type\":\"Plot\"}},\"id\":\"657f7b4b-5e0d-4c93-b5e2-a0eca7537949\",\"type\":\"WheelZoomTool\"},{\"attributes\":{\"callback\":null,\"end\":115,\"start\":-15},\"id\":\"06f336ed-48f0-4c84-a144-efb9f7d9a43e\",\"type\":\"Range1d\"},{\"attributes\":{\"overlay\":{\"id\":\"85b925a1-8082-457e-9d7e-5779c9e73ba0\",\"type\":\"BoxAnnotation\"},\"plot\":{\"id\":\"305f0da4-82de-447d-a8a5-edcacc1ded07\",\"subtype\":\"Chart\",\"type\":\"Plot\"}},\"id\":\"931023fc-6168-460b-b7f1-fd2a9d8a4cfb\",\"type\":\"BoxZoomTool\"},{\"attributes\":{},\"id\":\"c5a22487-37a6-488b-a92c-54be9d434567\",\"type\":\"BasicTicker\"},{\"attributes\":{\"plot\":{\"id\":\"305f0da4-82de-447d-a8a5-edcacc1ded07\",\"subtype\":\"Chart\",\"type\":\"Plot\"}},\"id\":\"9cde72b5-5182-4636-9d74-334033996c4c\",\"type\":\"SaveTool\"},{\"attributes\":{\"dimension\":1,\"plot\":{\"id\":\"305f0da4-82de-447d-a8a5-edcacc1ded07\",\"subtype\":\"Chart\",\"type\":\"Plot\"},\"ticker\":{\"id\":\"7a59dd62-bb67-4ffe-80c4-e0ec6ee0144b\",\"type\":\"BasicTicker\"}},\"id\":\"fcc01956-d6d1-4a41-a253-0316716e0fd9\",\"type\":\"Grid\"},{\"attributes\":{\"plot\":{\"id\":\"305f0da4-82de-447d-a8a5-edcacc1ded07\",\"subtype\":\"Chart\",\"type\":\"Plot\"}},\"id\":\"7da0b306-2204-4f0d-bb1a-20d114f216c1\",\"type\":\"ResetTool\"},{\"attributes\":{\"plot\":{\"id\":\"305f0da4-82de-447d-a8a5-edcacc1ded07\",\"subtype\":\"Chart\",\"type\":\"Plot\"}},\"id\":\"34d5f7a0-d167-45b5-863e-ba7e553baf36\",\"type\":\"HelpTool\"},{\"attributes\":{\"plot\":{\"id\":\"305f0da4-82de-447d-a8a5-edcacc1ded07\",\"subtype\":\"Chart\",\"type\":\"Plot\"},\"ticker\":{\"id\":\"c5a22487-37a6-488b-a92c-54be9d434567\",\"type\":\"BasicTicker\"}},\"id\":\"7b251324-996e-42ef-ba21-12e1d1be568a\",\"type\":\"Grid\"},{\"attributes\":{\"active_drag\":\"auto\",\"active_scroll\":\"auto\",\"active_tap\":\"auto\",\"tools\":[{\"id\":\"9e1fd4a4-0219-4567-b3c3-4a3ed4f7d4aa\",\"type\":\"PanTool\"},{\"id\":\"657f7b4b-5e0d-4c93-b5e2-a0eca7537949\",\"type\":\"WheelZoomTool\"},{\"id\":\"931023fc-6168-460b-b7f1-fd2a9d8a4cfb\",\"type\":\"BoxZoomTool\"},{\"id\":\"9cde72b5-5182-4636-9d74-334033996c4c\",\"type\":\"SaveTool\"},{\"id\":\"7da0b306-2204-4f0d-bb1a-20d114f216c1\",\"type\":\"ResetTool\"},{\"id\":\"34d5f7a0-d167-45b5-863e-ba7e553baf36\",\"type\":\"HelpTool\"}]},\"id\":\"8a77c085-2277-40e4-85a3-38c5d1fe68c3\",\"type\":\"Toolbar\"},{\"attributes\":{\"data_source\":{\"id\":\"639697dd-98fc-40b0-b8ec-41236109eb7a\",\"type\":\"ColumnDataSource\"},\"glyph\":{\"id\":\"5c7f9576-1e9e-4dd8-92e9-b30a5943e4c2\",\"type\":\"Line\"},\"hover_glyph\":null,\"nonselection_glyph\":{\"id\":\"88c232a3-dbb5-42cd-88ab-d2ba9f732a3f\",\"type\":\"Line\"},\"selection_glyph\":null},\"id\":\"62a9b5c9-b93e-4b1d-b0fc-1b78e2cdb263\",\"type\":\"GlyphRenderer\"},{\"attributes\":{\"data_source\":{\"id\":\"45a61f00-d671-4141-84ee-66dd98522894\",\"type\":\"ColumnDataSource\"},\"glyph\":{\"id\":\"883968b3-c120-4f25-96e3-ba57c6094fbf\",\"type\":\"Line\"},\"hover_glyph\":null,\"nonselection_glyph\":{\"id\":\"3e03039b-7ad6-4c3a-a138-4aa32592fac8\",\"type\":\"Line\"},\"selection_glyph\":null},\"id\":\"9c5c527e-5c3b-435f-a00f-b5a4721198ec\",\"type\":\"GlyphRenderer\"},{\"attributes\":{\"line_alpha\":{\"value\":0.5},\"line_color\":{\"value\":\"grey\"},\"line_dash\":[6],\"x\":{\"field\":\"x\"},\"y\":{\"field\":\"y\"}},\"id\":\"d63d539c-b4d7-4d7e-b83c-701fd689232c\",\"type\":\"Line\"},{\"attributes\":{\"data_source\":{\"id\":\"ec447c2a-6f68-4800-ad02-3bc5395cd49b\",\"type\":\"ColumnDataSource\"},\"glyph\":{\"id\":\"043d1bf5-6659-4646-b4c5-c48a6c755c0e\",\"type\":\"Line\"},\"hover_glyph\":null,\"nonselection_glyph\":{\"id\":\"b3f1af9e-a853-4d5b-9890-96c2bbf123f9\",\"type\":\"Line\"},\"selection_glyph\":null},\"id\":\"79881a17-0ee0-4232-92d3-3c164d661821\",\"type\":\"GlyphRenderer\"},{\"attributes\":{\"line_alpha\":{\"value\":0.1},\"line_color\":{\"value\":\"#1f77b4\"},\"line_dash\":[6],\"x\":{\"field\":\"x\"},\"y\":{\"field\":\"y\"}},\"id\":\"b3f1af9e-a853-4d5b-9890-96c2bbf123f9\",\"type\":\"Line\"},{\"attributes\":{\"line_alpha\":{\"value\":0.5},\"line_color\":{\"value\":\"grey\"},\"line_dash\":[6],\"x\":{\"field\":\"x\"},\"y\":{\"field\":\"y\"}},\"id\":\"883968b3-c120-4f25-96e3-ba57c6094fbf\",\"type\":\"Line\"},{\"attributes\":{\"data_source\":{\"id\":\"60f159c5-76d0-49da-b90b-00d23b3821ed\",\"type\":\"ColumnDataSource\"},\"glyph\":{\"id\":\"ca982195-d00a-4450-9fe2-6753fa927597\",\"type\":\"Triangle\"},\"hover_glyph\":null,\"nonselection_glyph\":null,\"selection_glyph\":null},\"id\":\"c34e46a8-2b01-4f21-8504-22e29184d64f\",\"type\":\"GlyphRenderer\"},{\"attributes\":{\"data_source\":{\"id\":\"70851075-8863-4869-ae3a-36277d27aefc\",\"type\":\"ColumnDataSource\"},\"glyph\":{\"id\":\"d63d539c-b4d7-4d7e-b83c-701fd689232c\",\"type\":\"Line\"},\"hover_glyph\":null,\"nonselection_glyph\":{\"id\":\"f5777b96-41c2-47af-8617-1739bce62756\",\"type\":\"Line\"},\"selection_glyph\":null},\"id\":\"10fe3bb8-8c8a-4e8f-a092-0453150f1642\",\"type\":\"GlyphRenderer\"},{\"attributes\":{\"fill_alpha\":{\"value\":0.7},\"fill_color\":{\"value\":\"#407ee7\"},\"line_color\":{\"value\":\"#407ee7\"},\"size\":{\"units\":\"screen\",\"value\":8},\"x\":{\"field\":\"x_values\"},\"y\":{\"field\":\"y_values\"}},\"id\":\"ca982195-d00a-4450-9fe2-6753fa927597\",\"type\":\"Triangle\"},{\"attributes\":{\"callback\":null,\"column_names\":[\"x\",\"y\"],\"data\":{\"x\":[54.757683160153235,61.07079943739456,29.146097046593443,28.93948544169973,21.410507625498088],\"y\":[91.09361498392352,61.17168864703832,60.570050826766106,30.13580643951674,19.941334309207313]}},\"id\":\"70851075-8863-4869-ae3a-36277d27aefc\",\"type\":\"ColumnDataSource\"},{\"attributes\":{\"fill_alpha\":{\"value\":0.7},\"fill_color\":{\"value\":\"#5ab738\"},\"line_color\":{\"value\":\"#5ab738\"},\"size\":{\"units\":\"screen\",\"value\":8},\"x\":{\"field\":\"x_values\"},\"y\":{\"field\":\"y_values\"}},\"id\":\"259eea7b-1c6a-4f1b-ae4b-f907ceaebf57\",\"type\":\"Square\"},{\"attributes\":{\"plot\":null,\"text\":null},\"id\":\"a0f17afd-ab82-40c5-88bf-7d789b8a7e58\",\"type\":\"Title\"},{\"attributes\":{},\"id\":\"21c1a67e-9ae3-4592-a9da-052dd7b832db\",\"type\":\"ToolEvents\"},{\"attributes\":{\"line_alpha\":{\"value\":0.5},\"line_color\":{\"value\":\"grey\"},\"line_dash\":[6],\"x\":{\"field\":\"x\"},\"y\":{\"field\":\"y\"}},\"id\":\"6cc948b8-ccf5-4355-a37f-880720f0b4b5\",\"type\":\"Line\"},{\"attributes\":{\"callback\":null,\"column_names\":[\"x_values\",\"y_values\"],\"data\":{\"chart_index\":[{\"type\":\"Pickup\"},{\"type\":\"Pickup\"},{\"type\":\"Pickup\"},{\"type\":\"Pickup\"},{\"type\":\"Pickup\"},{\"type\":\"Pickup\"},{\"type\":\"Pickup\"},{\"type\":\"Pickup\"},{\"type\":\"Pickup\"},{\"type\":\"Pickup\"},{\"type\":\"Pickup\"}],\"type\":[\"Pickup\",\"Pickup\",\"Pickup\",\"Pickup\",\"Pickup\",\"Pickup\",\"Pickup\",\"Pickup\",\"Pickup\",\"Pickup\",\"Pickup\"],\"x_values\":{\"__ndarray__\":\"OSm1nWYlPUC+vdEm28NOQJbv4D5VyFFAgFz/4MpznT8K2CZf+3dNQPmibYnI4ShAFHOupbooSkBSQEax/n1WQKkXuvQPiU5A56ilSOx6NkCxHrbCaBQhQA==\",\"dtype\":\"float64\",\"shape\":[11]},\"y_values\":{\"__ndarray__\":\"VALtbPdITkBMMjy//P49QJKepnhssEJAABTkfCY8LkC/4VAqFgkxQIOlPLnSQVhAU/ZaYpM+RkDD81DZpilAQOIPwuT5lU5AhNxTxZa7PUAYRdzcoEQoQA==\",\"dtype\":\"float64\",\"shape\":[11]}}},\"id\":\"60f159c5-76d0-49da-b90b-00d23b3821ed\",\"type\":\"ColumnDataSource\"},{\"attributes\":{\"line_alpha\":{\"value\":0.1},\"line_color\":{\"value\":\"#1f77b4\"},\"line_dash\":[6],\"x\":{\"field\":\"x\"},\"y\":{\"field\":\"y\"}},\"id\":\"645b0b46-ce4f-49e3-82e3-197541032c57\",\"type\":\"Line\"},{\"attributes\":{\"items\":[{\"id\":\"8d60ec73-4ad2-42e1-99f5-efc3f8457a44\",\"type\":\"LegendItem\"},{\"id\":\"276965fe-5cd2-45d1-a062-4b304b9733e5\",\"type\":\"LegendItem\"},{\"id\":\"fa8127bb-c984-4fec-8c69-c2ac681acee1\",\"type\":\"LegendItem\"}],\"location\":\"top_left\",\"orientation\":\"horizontal\",\"plot\":{\"id\":\"305f0da4-82de-447d-a8a5-edcacc1ded07\",\"subtype\":\"Chart\",\"type\":\"Plot\"}},\"id\":\"8585a690-f492-439b-8439-a9226c04e001\",\"type\":\"Legend\"},{\"attributes\":{\"line_alpha\":{\"value\":0.5},\"line_color\":{\"value\":\"grey\"},\"line_dash\":[6],\"x\":{\"field\":\"x\"},\"y\":{\"field\":\"y\"}},\"id\":\"2d65cdf8-ca54-4b2b-ab54-278de4b76a4d\",\"type\":\"Line\"},{\"attributes\":{\"below\":[{\"id\":\"4b00e416-35c1-44f6-9fd2-1b77f8f7d7b6\",\"type\":\"LinearAxis\"}],\"css_classes\":null,\"height\":600,\"left\":[{\"id\":\"e9bc702c-fd8b-42d7-88cd-bafb347167e5\",\"type\":\"LinearAxis\"}],\"renderers\":[{\"id\":\"85b925a1-8082-457e-9d7e-5779c9e73ba0\",\"type\":\"BoxAnnotation\"},{\"id\":\"7838ebbe-826d-4268-bf5d-5af78fc20916\",\"type\":\"GlyphRenderer\"},{\"id\":\"c34e46a8-2b01-4f21-8504-22e29184d64f\",\"type\":\"GlyphRenderer\"},{\"id\":\"af344548-735f-4202-b1ba-1e864ddc573d\",\"type\":\"GlyphRenderer\"},{\"id\":\"8585a690-f492-439b-8439-a9226c04e001\",\"type\":\"Legend\"},{\"id\":\"4b00e416-35c1-44f6-9fd2-1b77f8f7d7b6\",\"type\":\"LinearAxis\"},{\"id\":\"e9bc702c-fd8b-42d7-88cd-bafb347167e5\",\"type\":\"LinearAxis\"},{\"id\":\"7b251324-996e-42ef-ba21-12e1d1be568a\",\"type\":\"Grid\"},{\"id\":\"fcc01956-d6d1-4a41-a253-0316716e0fd9\",\"type\":\"Grid\"},{\"id\":\"8ca7a1db-483b-404f-b633-72f8d9f9186d\",\"type\":\"GlyphRenderer\"},{\"id\":\"79881a17-0ee0-4232-92d3-3c164d661821\",\"type\":\"GlyphRenderer\"},{\"id\":\"97ad1a82-0c73-4d5f-858c-371aa87f7d5a\",\"type\":\"GlyphRenderer\"},{\"id\":\"10fe3bb8-8c8a-4e8f-a092-0453150f1642\",\"type\":\"GlyphRenderer\"},{\"id\":\"9c5c527e-5c3b-435f-a00f-b5a4721198ec\",\"type\":\"GlyphRenderer\"},{\"id\":\"62a9b5c9-b93e-4b1d-b0fc-1b78e2cdb263\",\"type\":\"GlyphRenderer\"}],\"title\":{\"id\":\"a0f17afd-ab82-40c5-88bf-7d789b8a7e58\",\"type\":\"Title\"},\"tool_events\":{\"id\":\"21c1a67e-9ae3-4592-a9da-052dd7b832db\",\"type\":\"ToolEvents\"},\"toolbar\":{\"id\":\"8a77c085-2277-40e4-85a3-38c5d1fe68c3\",\"type\":\"Toolbar\"},\"width\":600,\"x_mapper_type\":\"auto\",\"x_range\":{\"id\":\"06f336ed-48f0-4c84-a144-efb9f7d9a43e\",\"type\":\"Range1d\"},\"y_mapper_type\":\"auto\",\"y_range\":{\"id\":\"06f336ed-48f0-4c84-a144-efb9f7d9a43e\",\"type\":\"Range1d\"}},\"id\":\"305f0da4-82de-447d-a8a5-edcacc1ded07\",\"subtype\":\"Chart\",\"type\":\"Plot\"},{\"attributes\":{\"data_source\":{\"id\":\"f915943e-4430-4d4c-bd3e-9ccb8cea3ea4\",\"type\":\"ColumnDataSource\"},\"glyph\":{\"id\":\"259eea7b-1c6a-4f1b-ae4b-f907ceaebf57\",\"type\":\"Square\"},\"hover_glyph\":null,\"nonselection_glyph\":null,\"selection_glyph\":null},\"id\":\"7838ebbe-826d-4268-bf5d-5af78fc20916\",\"type\":\"GlyphRenderer\"},{\"attributes\":{\"line_alpha\":{\"value\":0.1},\"line_color\":{\"value\":\"#1f77b4\"},\"line_dash\":[6],\"x\":{\"field\":\"x\"},\"y\":{\"field\":\"y\"}},\"id\":\"3e03039b-7ad6-4c3a-a138-4aa32592fac8\",\"type\":\"Line\"},{\"attributes\":{\"line_alpha\":{\"value\":0.1},\"line_color\":{\"value\":\"#1f77b4\"},\"line_dash\":[6],\"x\":{\"field\":\"x\"},\"y\":{\"field\":\"y\"}},\"id\":\"f5777b96-41c2-47af-8617-1739bce62756\",\"type\":\"Line\"},{\"attributes\":{\"line_alpha\":{\"value\":0.5},\"line_color\":{\"value\":\"grey\"},\"line_dash\":[6],\"x\":{\"field\":\"x\"},\"y\":{\"field\":\"y\"}},\"id\":\"5c7f9576-1e9e-4dd8-92e9-b30a5943e4c2\",\"type\":\"Line\"},{\"attributes\":{},\"id\":\"7a59dd62-bb67-4ffe-80c4-e0ec6ee0144b\",\"type\":\"BasicTicker\"},{\"attributes\":{\"line_alpha\":{\"value\":0.1},\"line_color\":{\"value\":\"#1f77b4\"},\"line_dash\":[6],\"x\":{\"field\":\"x\"},\"y\":{\"field\":\"y\"}},\"id\":\"88c232a3-dbb5-42cd-88ab-d2ba9f732a3f\",\"type\":\"Line\"},{\"attributes\":{\"data_source\":{\"id\":\"1f29bdfa-f60c-400e-973f-4eb1f5a79bab\",\"type\":\"ColumnDataSource\"},\"glyph\":{\"id\":\"2d65cdf8-ca54-4b2b-ab54-278de4b76a4d\",\"type\":\"Line\"},\"hover_glyph\":null,\"nonselection_glyph\":{\"id\":\"645b0b46-ce4f-49e3-82e3-197541032c57\",\"type\":\"Line\"},\"selection_glyph\":null},\"id\":\"8ca7a1db-483b-404f-b633-72f8d9f9186d\",\"type\":\"GlyphRenderer\"},{\"attributes\":{\"line_alpha\":{\"value\":0.1},\"line_color\":{\"value\":\"#1f77b4\"},\"line_dash\":[6],\"x\":{\"field\":\"x\"},\"y\":{\"field\":\"y\"}},\"id\":\"9c279d99-4c19-4e46-9948-18d5e15b1027\",\"type\":\"Line\"},{\"attributes\":{\"data_source\":{\"id\":\"c8ac7545-5e92-4c95-899b-c376203899bb\",\"type\":\"ColumnDataSource\"},\"glyph\":{\"id\":\"6cc948b8-ccf5-4355-a37f-880720f0b4b5\",\"type\":\"Line\"},\"hover_glyph\":null,\"nonselection_glyph\":{\"id\":\"9c279d99-4c19-4e46-9948-18d5e15b1027\",\"type\":\"Line\"},\"selection_glyph\":null},\"id\":\"97ad1a82-0c73-4d5f-858c-371aa87f7d5a\",\"type\":\"GlyphRenderer\"},{\"attributes\":{\"fill_alpha\":{\"value\":0.7},\"fill_color\":{\"value\":\"#f22c40\"},\"line_color\":{\"value\":\"#f22c40\"},\"size\":{\"units\":\"screen\",\"value\":8},\"x\":{\"field\":\"x_values\"},\"y\":{\"field\":\"y_values\"}},\"id\":\"1d5921b7-ce01-4aed-8056-76d5da91b3d2\",\"type\":\"Circle\"},{\"attributes\":{\"axis_label\":\"x\",\"formatter\":{\"id\":\"1be22e0c-e2ed-435b-aa24-afef8c850370\",\"type\":\"BasicTickFormatter\"},\"plot\":{\"id\":\"305f0da4-82de-447d-a8a5-edcacc1ded07\",\"subtype\":\"Chart\",\"type\":\"Plot\"},\"ticker\":{\"id\":\"c5a22487-37a6-488b-a92c-54be9d434567\",\"type\":\"BasicTicker\"}},\"id\":\"4b00e416-35c1-44f6-9fd2-1b77f8f7d7b6\",\"type\":\"LinearAxis\"},{\"attributes\":{\"line_alpha\":{\"value\":0.5},\"line_color\":{\"value\":\"grey\"},\"line_dash\":[6],\"x\":{\"field\":\"x\"},\"y\":{\"field\":\"y\"}},\"id\":\"043d1bf5-6659-4646-b4c5-c48a6c755c0e\",\"type\":\"Line\"}],\"root_ids\":[\"305f0da4-82de-447d-a8a5-edcacc1ded07\"]},\"title\":\"Bokeh Application\",\"version\":\"0.12.4\"}};\n",
       "            var render_items = [{\"docid\":\"75cabd2b-65eb-4e86-9195-39a5bc374466\",\"elementid\":\"1142328f-db4e-443b-bc2d-acc66130e65b\",\"modelid\":\"305f0da4-82de-447d-a8a5-edcacc1ded07\"}];\n",
       "            \n",
       "            Bokeh.embed.embed_items(docs_json, render_items);\n",
       "          };\n",
       "          if (document.readyState != \"loading\") fn();\n",
       "          else document.addEventListener(\"DOMContentLoaded\", fn);\n",
       "        })();\n",
       "      },\n",
       "      function(Bokeh) {\n",
       "      }\n",
       "    ];\n",
       "  \n",
       "    function run_inline_js() {\n",
       "      \n",
       "      if ((window.Bokeh !== undefined) || (force === true)) {\n",
       "        for (var i = 0; i < inline_js.length; i++) {\n",
       "          inline_js[i](window.Bokeh);\n",
       "        }if (force === true) {\n",
       "          display_loaded();\n",
       "        }} else if (Date.now() < window._bokeh_timeout) {\n",
       "        setTimeout(run_inline_js, 100);\n",
       "      } else if (!window._bokeh_failed_load) {\n",
       "        console.log(\"Bokeh: BokehJS failed to load within specified timeout.\");\n",
       "        window._bokeh_failed_load = true;\n",
       "      } else if (force !== true) {\n",
       "        var cell = $(document.getElementById(\"1142328f-db4e-443b-bc2d-acc66130e65b\")).parents('.cell').data().cell;\n",
       "        cell.output_area.append_execute_result(NB_LOAD_WARNING)\n",
       "      }\n",
       "  \n",
       "    }\n",
       "  \n",
       "    if (window._bokeh_is_loading === 0) {\n",
       "      console.log(\"Bokeh: BokehJS loaded, going straight to plotting\");\n",
       "      run_inline_js();\n",
       "    } else {\n",
       "      load_libs(js_urls, function() {\n",
       "        console.log(\"Bokeh: BokehJS plotting callback run at\", now());\n",
       "        run_inline_js();\n",
       "      });\n",
       "    }\n",
       "  }(this));\n",
       "</script>"
      ]
     },
     "metadata": {},
     "output_type": "display_data"
    }
   ],
   "source": [
    "plot_routes()"
   ]
  },
  {
   "cell_type": "markdown",
   "metadata": {
    "slideshow": {
     "slide_type": "subslide"
    }
   },
   "source": [
    "Some of our pedicabs complain that they have to travel much farther than others. Let's fix that by minimizing the maximum trip length."
   ]
  },
  {
   "cell_type": "code",
   "execution_count": 54,
   "metadata": {
    "collapsed": false
   },
   "outputs": [
    {
     "name": "stdout",
     "output_type": "stream",
     "text": [
      "total cost: 822.20021\n",
      "max route length: 128.82672\n"
     ]
    }
   ],
   "source": [
    "z2 = pulp.LpVariable('z2', lowBound=0)\n",
    "for r in range(len(routes)):\n",
    "    prm += z2 >= route_costs[r] * x[r]\n",
    "\n",
    "prm.setObjective(z2)\n",
    "assert prm.solve() == pulp.LpStatusOptimal\n",
    "\n",
    "print('total cost:', z.value())\n",
    "print('max route length:', z2.value())"
   ]
  },
  {
   "cell_type": "code",
   "execution_count": 55,
   "metadata": {
    "collapsed": false,
    "slideshow": {
     "slide_type": "subslide"
    }
   },
   "outputs": [
    {
     "data": {
      "text/html": [
       "\n",
       "\n",
       "    <div class=\"bk-root\">\n",
       "        <div class=\"bk-plotdiv\" id=\"1c3daa44-d377-4da5-9ce5-1b119cbce6d9\"></div>\n",
       "    </div>\n",
       "<script type=\"text/javascript\">\n",
       "  \n",
       "  (function(global) {\n",
       "    function now() {\n",
       "      return new Date();\n",
       "    }\n",
       "  \n",
       "    var force = false;\n",
       "  \n",
       "    if (typeof (window._bokeh_onload_callbacks) === \"undefined\" || force === true) {\n",
       "      window._bokeh_onload_callbacks = [];\n",
       "      window._bokeh_is_loading = undefined;\n",
       "    }\n",
       "  \n",
       "  \n",
       "    \n",
       "    if (typeof (window._bokeh_timeout) === \"undefined\" || force === true) {\n",
       "      window._bokeh_timeout = Date.now() + 0;\n",
       "      window._bokeh_failed_load = false;\n",
       "    }\n",
       "  \n",
       "    var NB_LOAD_WARNING = {'data': {'text/html':\n",
       "       \"<div style='background-color: #fdd'>\\n\"+\n",
       "       \"<p>\\n\"+\n",
       "       \"BokehJS does not appear to have successfully loaded. If loading BokehJS from CDN, this \\n\"+\n",
       "       \"may be due to a slow or bad network connection. Possible fixes:\\n\"+\n",
       "       \"</p>\\n\"+\n",
       "       \"<ul>\\n\"+\n",
       "       \"<li>re-rerun `output_notebook()` to attempt to load from CDN again, or</li>\\n\"+\n",
       "       \"<li>use INLINE resources instead, as so:</li>\\n\"+\n",
       "       \"</ul>\\n\"+\n",
       "       \"<code>\\n\"+\n",
       "       \"from bokeh.resources import INLINE\\n\"+\n",
       "       \"output_notebook(resources=INLINE)\\n\"+\n",
       "       \"</code>\\n\"+\n",
       "       \"</div>\"}};\n",
       "  \n",
       "    function display_loaded() {\n",
       "      if (window.Bokeh !== undefined) {\n",
       "        document.getElementById(\"1c3daa44-d377-4da5-9ce5-1b119cbce6d9\").textContent = \"BokehJS successfully loaded.\";\n",
       "      } else if (Date.now() < window._bokeh_timeout) {\n",
       "        setTimeout(display_loaded, 100)\n",
       "      }\n",
       "    }\n",
       "  \n",
       "    function run_callbacks() {\n",
       "      window._bokeh_onload_callbacks.forEach(function(callback) { callback() });\n",
       "      delete window._bokeh_onload_callbacks\n",
       "      console.info(\"Bokeh: all callbacks have finished\");\n",
       "    }\n",
       "  \n",
       "    function load_libs(js_urls, callback) {\n",
       "      window._bokeh_onload_callbacks.push(callback);\n",
       "      if (window._bokeh_is_loading > 0) {\n",
       "        console.log(\"Bokeh: BokehJS is being loaded, scheduling callback at\", now());\n",
       "        return null;\n",
       "      }\n",
       "      if (js_urls == null || js_urls.length === 0) {\n",
       "        run_callbacks();\n",
       "        return null;\n",
       "      }\n",
       "      console.log(\"Bokeh: BokehJS not loaded, scheduling load and callback at\", now());\n",
       "      window._bokeh_is_loading = js_urls.length;\n",
       "      for (var i = 0; i < js_urls.length; i++) {\n",
       "        var url = js_urls[i];\n",
       "        var s = document.createElement('script');\n",
       "        s.src = url;\n",
       "        s.async = false;\n",
       "        s.onreadystatechange = s.onload = function() {\n",
       "          window._bokeh_is_loading--;\n",
       "          if (window._bokeh_is_loading === 0) {\n",
       "            console.log(\"Bokeh: all BokehJS libraries loaded\");\n",
       "            run_callbacks()\n",
       "          }\n",
       "        };\n",
       "        s.onerror = function() {\n",
       "          console.warn(\"failed to load library \" + url);\n",
       "        };\n",
       "        console.log(\"Bokeh: injecting script tag for BokehJS library: \", url);\n",
       "        document.getElementsByTagName(\"head\")[0].appendChild(s);\n",
       "      }\n",
       "    };var element = document.getElementById(\"1c3daa44-d377-4da5-9ce5-1b119cbce6d9\");\n",
       "    if (element == null) {\n",
       "      console.log(\"Bokeh: ERROR: autoload.js configured with elementid '1c3daa44-d377-4da5-9ce5-1b119cbce6d9' but no matching script tag was found. \")\n",
       "      return false;\n",
       "    }\n",
       "  \n",
       "    var js_urls = [];\n",
       "  \n",
       "    var inline_js = [\n",
       "      function(Bokeh) {\n",
       "        (function() {\n",
       "          var fn = function() {\n",
       "            var docs_json = {\"df1caec9-47ba-4fb0-bf12-06a5ee1acbcb\":{\"roots\":{\"references\":[{\"attributes\":{\"callback\":null,\"column_names\":[\"x\",\"y\"],\"data\":{\"x\":[30.670096878747565,12.440983099587799,45.77750495582161],\"y\":[68.88707743182617,97.02848654673112,55.04185848609181]}},\"id\":\"ab6fbe05-d72e-42ef-8791-87fcbaf4ed0a\",\"type\":\"ColumnDataSource\"},{\"attributes\":{\"plot\":{\"id\":\"7b78fec8-4c6f-46eb-b4ac-c3c79f20c062\",\"subtype\":\"Chart\",\"type\":\"Plot\"}},\"id\":\"3f4f77c2-ba8d-4204-bc72-5fedf8ba7077\",\"type\":\"SaveTool\"},{\"attributes\":{\"data_source\":{\"id\":\"dc0380a7-ccd4-4010-a6d6-2e0d8e7c9216\",\"type\":\"ColumnDataSource\"},\"glyph\":{\"id\":\"263e8a77-2b87-49e4-beec-525fc82fbccd\",\"type\":\"Circle\"},\"hover_glyph\":null,\"nonselection_glyph\":null,\"selection_glyph\":null},\"id\":\"551e3198-55b5-4606-b716-784fcb678a7f\",\"type\":\"GlyphRenderer\"},{\"attributes\":{},\"id\":\"cea7ee63-23ad-49e1-84ac-e17313ef458b\",\"type\":\"ToolEvents\"},{\"attributes\":{\"plot\":{\"id\":\"7b78fec8-4c6f-46eb-b4ac-c3c79f20c062\",\"subtype\":\"Chart\",\"type\":\"Plot\"}},\"id\":\"98578607-c3d2-48dd-bd91-4c02b1bc20a2\",\"type\":\"HelpTool\"},{\"attributes\":{\"plot\":{\"id\":\"7b78fec8-4c6f-46eb-b4ac-c3c79f20c062\",\"subtype\":\"Chart\",\"type\":\"Plot\"}},\"id\":\"e72b11db-f924-485f-bd8a-81f2b17c8b81\",\"type\":\"ResetTool\"},{\"attributes\":{\"overlay\":{\"id\":\"2f1533b2-9973-4294-84b6-f24518fcf7ad\",\"type\":\"BoxAnnotation\"},\"plot\":{\"id\":\"7b78fec8-4c6f-46eb-b4ac-c3c79f20c062\",\"subtype\":\"Chart\",\"type\":\"Plot\"}},\"id\":\"0ce8a088-cfe5-4385-a333-06a35acaca82\",\"type\":\"BoxZoomTool\"},{\"attributes\":{\"data_source\":{\"id\":\"ab6fbe05-d72e-42ef-8791-87fcbaf4ed0a\",\"type\":\"ColumnDataSource\"},\"glyph\":{\"id\":\"1eb5a9d3-bf83-4cfb-b6a0-dd11514601ba\",\"type\":\"Line\"},\"hover_glyph\":null,\"nonselection_glyph\":{\"id\":\"395b2594-d01a-40a7-ad61-eff68d204e37\",\"type\":\"Line\"},\"selection_glyph\":null},\"id\":\"bb3de562-4aec-4873-a89a-d24322e57d6f\",\"type\":\"GlyphRenderer\"},{\"attributes\":{\"plot\":{\"id\":\"7b78fec8-4c6f-46eb-b4ac-c3c79f20c062\",\"subtype\":\"Chart\",\"type\":\"Plot\"},\"ticker\":{\"id\":\"0939148e-3de5-4f1f-b893-8491ade2c467\",\"type\":\"BasicTicker\"}},\"id\":\"e0c85cb3-0899-4b3a-8b87-bbe097404773\",\"type\":\"Grid\"},{\"attributes\":{\"bottom_units\":\"screen\",\"fill_alpha\":{\"value\":0.5},\"fill_color\":{\"value\":\"lightgrey\"},\"left_units\":\"screen\",\"level\":\"overlay\",\"line_alpha\":{\"value\":1.0},\"line_color\":{\"value\":\"black\"},\"line_dash\":[4,4],\"line_width\":{\"value\":2},\"plot\":null,\"render_mode\":\"css\",\"right_units\":\"screen\",\"top_units\":\"screen\"},\"id\":\"2f1533b2-9973-4294-84b6-f24518fcf7ad\",\"type\":\"BoxAnnotation\"},{\"attributes\":{\"plot\":null,\"text\":null},\"id\":\"918da381-a769-45b7-96e4-a401008c6c1f\",\"type\":\"Title\"},{\"attributes\":{\"line_alpha\":{\"value\":0.1},\"line_color\":{\"value\":\"#1f77b4\"},\"line_dash\":[6],\"x\":{\"field\":\"x\"},\"y\":{\"field\":\"y\"}},\"id\":\"d0dd5e84-17a7-43fe-a7ed-2f748d8c91cf\",\"type\":\"Line\"},{\"attributes\":{\"data_source\":{\"id\":\"5fb1f777-6b9b-4906-99ee-6deb57430b8b\",\"type\":\"ColumnDataSource\"},\"glyph\":{\"id\":\"a66c3cc6-7a88-4ea3-b3f7-1e314154adad\",\"type\":\"Line\"},\"hover_glyph\":null,\"nonselection_glyph\":{\"id\":\"a58a8c14-3533-4f21-b69a-1ba87942e08a\",\"type\":\"Line\"},\"selection_glyph\":null},\"id\":\"e9480613-4076-4daf-a9e4-267c6673dca2\",\"type\":\"GlyphRenderer\"},{\"attributes\":{\"fill_alpha\":{\"value\":0.7},\"fill_color\":{\"value\":\"#5ab738\"},\"line_color\":{\"value\":\"#5ab738\"},\"size\":{\"units\":\"screen\",\"value\":8},\"x\":{\"field\":\"x_values\"},\"y\":{\"field\":\"y_values\"}},\"id\":\"fab847fe-f2eb-4d28-894a-78d0981dda54\",\"type\":\"Square\"},{\"attributes\":{\"fill_alpha\":{\"value\":0.7},\"fill_color\":{\"value\":\"#407ee7\"},\"line_color\":{\"value\":\"#407ee7\"},\"size\":{\"units\":\"screen\",\"value\":8},\"x\":{\"field\":\"x_values\"},\"y\":{\"field\":\"y_values\"}},\"id\":\"e0b85cac-2274-4fa0-9884-40d28c643945\",\"type\":\"Triangle\"},{\"attributes\":{\"line_alpha\":{\"value\":0.1},\"line_color\":{\"value\":\"#1f77b4\"},\"line_dash\":[6],\"x\":{\"field\":\"x\"},\"y\":{\"field\":\"y\"}},\"id\":\"1d24557c-5dc6-449d-bc7b-5d9c52421114\",\"type\":\"Line\"},{\"attributes\":{\"callback\":null,\"column_names\":[\"x_values\",\"y_values\"],\"data\":{\"chart_index\":[{\"type\":\"Pedicab\"},{\"type\":\"Pedicab\"},{\"type\":\"Pedicab\"},{\"type\":\"Pedicab\"},{\"type\":\"Pedicab\"},{\"type\":\"Pedicab\"},{\"type\":\"Pedicab\"}],\"type\":[\"Pedicab\",\"Pedicab\",\"Pedicab\",\"Pedicab\",\"Pedicab\",\"Pedicab\",\"Pedicab\"],\"x_values\":{\"__ndarray__\":\"Wl8TeIurPkBQPcESaZpSQFMbupB9ikNARssEw/tgS0BdZT/Tr2NVQLhrU0f7n1VAfaWCt4GZO0A=\",\"dtype\":\"float64\",\"shape\":[7]},\"y_values\":{\"__ndarray__\":\"o61r4MU4UUA2Jg4FTac5QKWGPHU4oEBAfpezyf3FVkDXjpnJiMNJQPCctu4zclVA1lfoubmxS0A=\",\"dtype\":\"float64\",\"shape\":[7]}}},\"id\":\"15786b1b-9871-420c-8d15-41580197166b\",\"type\":\"ColumnDataSource\"},{\"attributes\":{\"line_alpha\":{\"value\":0.5},\"line_color\":{\"value\":\"grey\"},\"line_dash\":[6],\"x\":{\"field\":\"x\"},\"y\":{\"field\":\"y\"}},\"id\":\"7b324d57-fbc6-4840-97ef-c76082886a40\",\"type\":\"Line\"},{\"attributes\":{\"axis_label\":\"y\",\"formatter\":{\"id\":\"e226c514-8aac-4451-912e-a2af30aa5faa\",\"type\":\"BasicTickFormatter\"},\"plot\":{\"id\":\"7b78fec8-4c6f-46eb-b4ac-c3c79f20c062\",\"subtype\":\"Chart\",\"type\":\"Plot\"},\"ticker\":{\"id\":\"046900b3-f7c8-4a00-a43a-56ba30879159\",\"type\":\"BasicTicker\"}},\"id\":\"fdff2678-fd43-4ee2-81e4-8a62b119c768\",\"type\":\"LinearAxis\"},{\"attributes\":{\"callback\":null,\"column_names\":[\"x\",\"y\"],\"data\":{\"x\":[54.757683160153235,61.07079943739456,29.146097046593443,28.93948544169973,21.410507625498088],\"y\":[91.09361498392352,61.17168864703832,60.570050826766106,30.13580643951674,19.941334309207313]}},\"id\":\"a4d17290-17ce-4838-b20c-559db8dbcc52\",\"type\":\"ColumnDataSource\"},{\"attributes\":{\"data_source\":{\"id\":\"15786b1b-9871-420c-8d15-41580197166b\",\"type\":\"ColumnDataSource\"},\"glyph\":{\"id\":\"fab847fe-f2eb-4d28-894a-78d0981dda54\",\"type\":\"Square\"},\"hover_glyph\":null,\"nonselection_glyph\":null,\"selection_glyph\":null},\"id\":\"efd98ef7-eee7-48fe-89c8-3ed8ef7eeabf\",\"type\":\"GlyphRenderer\"},{\"attributes\":{\"dimension\":1,\"plot\":{\"id\":\"7b78fec8-4c6f-46eb-b4ac-c3c79f20c062\",\"subtype\":\"Chart\",\"type\":\"Plot\"},\"ticker\":{\"id\":\"046900b3-f7c8-4a00-a43a-56ba30879159\",\"type\":\"BasicTicker\"}},\"id\":\"5a6c327b-ec5e-4df0-98f8-93d1d28ff680\",\"type\":\"Grid\"},{\"attributes\":{\"callback\":null,\"column_names\":[\"x\",\"y\"],\"data\":{\"x\":[39.08195695006602,8.539861759883339,61.530125477230726,81.88302035747061,87.17406730554713],\"y\":[33.25172296004647,12.134039785278716,29.996044113346485,28.495082105608716,42.55380847430226]}},\"id\":\"5fb1f777-6b9b-4906-99ee-6deb57430b8b\",\"type\":\"ColumnDataSource\"},{\"attributes\":{\"callback\":null,\"column_names\":[\"x_values\",\"y_values\"],\"data\":{\"chart_index\":[{\"type\":\"Dropoff\"},{\"type\":\"Dropoff\"},{\"type\":\"Dropoff\"},{\"type\":\"Dropoff\"},{\"type\":\"Dropoff\"},{\"type\":\"Dropoff\"},{\"type\":\"Dropoff\"},{\"type\":\"Dropoff\"},{\"type\":\"Dropoff\"},{\"type\":\"Dropoff\"},{\"type\":\"Dropoff\"}],\"type\":[\"Dropoff\",\"Dropoff\",\"Dropoff\",\"Dropoff\",\"Dropoff\",\"Dropoff\",\"Dropoff\",\"Dropoff\",\"Dropoff\",\"Dropoff\",\"Dropoff\"],\"x_values\":{\"__ndarray__\":\"3UUaBxdpNUB3QtFng3hUQDQT0zsbUVNAHBPostjUQkCF7j8ecvFJQKrdSkiF40ZAz7JJRClpV0BpRvKm4vdTQCArLx6C8DxA7iyk4Jr1Q0AtKDLrI8tVQA==\",\"dtype\":\"float64\",\"shape\":[11]},\"y_values\":{\"__ndarray__\":\"7qUISfvwM0CcbGyzvX48QMoguAtGWEtA9OtxCTNvVUAUiVr+uKcfQIZpbp5bhUtAen1d6XOXSUA2qN3ScoxSQIRP+DXEIj5AQvPIUHBCWEAcsDIy40ZFQA==\",\"dtype\":\"float64\",\"shape\":[11]}}},\"id\":\"dc0380a7-ccd4-4010-a6d6-2e0d8e7c9216\",\"type\":\"ColumnDataSource\"},{\"attributes\":{\"below\":[{\"id\":\"5fcbe7bb-0735-4f37-b038-2e663c587ecf\",\"type\":\"LinearAxis\"}],\"css_classes\":null,\"height\":600,\"left\":[{\"id\":\"fdff2678-fd43-4ee2-81e4-8a62b119c768\",\"type\":\"LinearAxis\"}],\"renderers\":[{\"id\":\"2f1533b2-9973-4294-84b6-f24518fcf7ad\",\"type\":\"BoxAnnotation\"},{\"id\":\"efd98ef7-eee7-48fe-89c8-3ed8ef7eeabf\",\"type\":\"GlyphRenderer\"},{\"id\":\"0ae399a9-d4a6-4434-aaee-ff98e5d68d9b\",\"type\":\"GlyphRenderer\"},{\"id\":\"551e3198-55b5-4606-b716-784fcb678a7f\",\"type\":\"GlyphRenderer\"},{\"id\":\"2950b372-221d-4d05-b2c7-47e0e899d2ad\",\"type\":\"Legend\"},{\"id\":\"5fcbe7bb-0735-4f37-b038-2e663c587ecf\",\"type\":\"LinearAxis\"},{\"id\":\"fdff2678-fd43-4ee2-81e4-8a62b119c768\",\"type\":\"LinearAxis\"},{\"id\":\"e0c85cb3-0899-4b3a-8b87-bbe097404773\",\"type\":\"Grid\"},{\"id\":\"5a6c327b-ec5e-4df0-98f8-93d1d28ff680\",\"type\":\"Grid\"},{\"id\":\"bb3de562-4aec-4873-a89a-d24322e57d6f\",\"type\":\"GlyphRenderer\"},{\"id\":\"d7ce6e4a-4a8b-44a5-a862-5f4308a452a5\",\"type\":\"GlyphRenderer\"},{\"id\":\"e9480613-4076-4daf-a9e4-267c6673dca2\",\"type\":\"GlyphRenderer\"},{\"id\":\"531e9007-afc6-4411-992e-fdcbf10a9898\",\"type\":\"GlyphRenderer\"},{\"id\":\"d61bd5bc-31b8-4ba2-89ad-e570fc9778ad\",\"type\":\"GlyphRenderer\"},{\"id\":\"6c03a5e1-4ed3-492d-b0f5-b7679c79940e\",\"type\":\"GlyphRenderer\"},{\"id\":\"d52ce39c-2324-47da-a399-9f415ff590ec\",\"type\":\"GlyphRenderer\"}],\"title\":{\"id\":\"918da381-a769-45b7-96e4-a401008c6c1f\",\"type\":\"Title\"},\"tool_events\":{\"id\":\"cea7ee63-23ad-49e1-84ac-e17313ef458b\",\"type\":\"ToolEvents\"},\"toolbar\":{\"id\":\"17cfd043-c41d-45bf-9dee-086f4b001ce9\",\"type\":\"Toolbar\"},\"width\":600,\"x_mapper_type\":\"auto\",\"x_range\":{\"id\":\"73292cf6-9a6f-4d3f-aa3f-cbaa24098ca8\",\"type\":\"Range1d\"},\"y_mapper_type\":\"auto\",\"y_range\":{\"id\":\"73292cf6-9a6f-4d3f-aa3f-cbaa24098ca8\",\"type\":\"Range1d\"}},\"id\":\"7b78fec8-4c6f-46eb-b4ac-c3c79f20c062\",\"subtype\":\"Chart\",\"type\":\"Plot\"},{\"attributes\":{\"callback\":null,\"column_names\":[\"x\",\"y\"],\"data\":{\"x\":[74.41266316290898,22.480167904323846,39.91878898636229],\"y\":[25.653518978075418,29.732769329999897,97.03810519813581]}},\"id\":\"66bd7b84-c4c4-4efb-9b96-0b143f38df49\",\"type\":\"ColumnDataSource\"},{\"attributes\":{\"data_source\":{\"id\":\"159ae82f-7729-4e01-9dfb-a12e80fbbf9b\",\"type\":\"ColumnDataSource\"},\"glyph\":{\"id\":\"e0b85cac-2274-4fa0-9884-40d28c643945\",\"type\":\"Triangle\"},\"hover_glyph\":null,\"nonselection_glyph\":null,\"selection_glyph\":null},\"id\":\"0ae399a9-d4a6-4434-aaee-ff98e5d68d9b\",\"type\":\"GlyphRenderer\"},{\"attributes\":{\"callback\":null,\"column_names\":[\"x\",\"y\"],\"data\":{\"x\":[85.55760651770602,89.96867019520258,52.318196020298416,93.64314372250668,79.87320874843284],\"y\":[51.5276119231982,32.325404324080885,44.48887280885233,51.18322484078358,74.19450828214835]}},\"id\":\"814ef3a8-9e79-42a0-8d44-cfcd3d4a78bf\",\"type\":\"ColumnDataSource\"},{\"attributes\":{\"line_alpha\":{\"value\":0.5},\"line_color\":{\"value\":\"grey\"},\"line_dash\":[6],\"x\":{\"field\":\"x\"},\"y\":{\"field\":\"y\"}},\"id\":\"a66c3cc6-7a88-4ea3-b3f7-1e314154adad\",\"type\":\"Line\"},{\"attributes\":{\"fill_alpha\":{\"value\":0.7},\"fill_color\":{\"value\":\"#f22c40\"},\"line_color\":{\"value\":\"#f22c40\"},\"size\":{\"units\":\"screen\",\"value\":8},\"x\":{\"field\":\"x_values\"},\"y\":{\"field\":\"y_values\"}},\"id\":\"263e8a77-2b87-49e4-beec-525fc82fbccd\",\"type\":\"Circle\"},{\"attributes\":{\"line_alpha\":{\"value\":0.1},\"line_color\":{\"value\":\"#1f77b4\"},\"line_dash\":[6],\"x\":{\"field\":\"x\"},\"y\":{\"field\":\"y\"}},\"id\":\"a58a8c14-3533-4f21-b69a-1ba87942e08a\",\"type\":\"Line\"},{\"attributes\":{},\"id\":\"0939148e-3de5-4f1f-b893-8491ade2c467\",\"type\":\"BasicTicker\"},{\"attributes\":{\"line_alpha\":{\"value\":0.1},\"line_color\":{\"value\":\"#1f77b4\"},\"line_dash\":[6],\"x\":{\"field\":\"x\"},\"y\":{\"field\":\"y\"}},\"id\":\"c0bc8291-f357-4449-a517-20d1afe1b375\",\"type\":\"Line\"},{\"attributes\":{\"data_source\":{\"id\":\"814ef3a8-9e79-42a0-8d44-cfcd3d4a78bf\",\"type\":\"ColumnDataSource\"},\"glyph\":{\"id\":\"95ffe935-3c9c-496d-bc82-57bcfa57e9a3\",\"type\":\"Line\"},\"hover_glyph\":null,\"nonselection_glyph\":{\"id\":\"c0bc8291-f357-4449-a517-20d1afe1b375\",\"type\":\"Line\"},\"selection_glyph\":null},\"id\":\"d61bd5bc-31b8-4ba2-89ad-e570fc9778ad\",\"type\":\"GlyphRenderer\"},{\"attributes\":{\"label\":{\"value\":\"Pedicab\"},\"renderers\":[{\"id\":\"efd98ef7-eee7-48fe-89c8-3ed8ef7eeabf\",\"type\":\"GlyphRenderer\"}]},\"id\":\"63a3012c-7ef2-470e-bb22-4e826378230a\",\"type\":\"LegendItem\"},{\"attributes\":{},\"id\":\"2a40de18-06ee-49b2-ba8e-0c95af33cd8e\",\"type\":\"BasicTickFormatter\"},{\"attributes\":{},\"id\":\"e226c514-8aac-4451-912e-a2af30aa5faa\",\"type\":\"BasicTickFormatter\"},{\"attributes\":{\"line_alpha\":{\"value\":0.5},\"line_color\":{\"value\":\"grey\"},\"line_dash\":[6],\"x\":{\"field\":\"x\"},\"y\":{\"field\":\"y\"}},\"id\":\"27371134-f7c0-4873-aeb9-b29af62f07b7\",\"type\":\"Line\"},{\"attributes\":{\"data_source\":{\"id\":\"66bd7b84-c4c4-4efb-9b96-0b143f38df49\",\"type\":\"ColumnDataSource\"},\"glyph\":{\"id\":\"27371134-f7c0-4873-aeb9-b29af62f07b7\",\"type\":\"Line\"},\"hover_glyph\":null,\"nonselection_glyph\":{\"id\":\"d0dd5e84-17a7-43fe-a7ed-2f748d8c91cf\",\"type\":\"Line\"},\"selection_glyph\":null},\"id\":\"d7ce6e4a-4a8b-44a5-a862-5f4308a452a5\",\"type\":\"GlyphRenderer\"},{\"attributes\":{\"line_alpha\":{\"value\":0.1},\"line_color\":{\"value\":\"#1f77b4\"},\"line_dash\":[6],\"x\":{\"field\":\"x\"},\"y\":{\"field\":\"y\"}},\"id\":\"395b2594-d01a-40a7-ad61-eff68d204e37\",\"type\":\"Line\"},{\"attributes\":{\"data_source\":{\"id\":\"a4d17290-17ce-4838-b20c-559db8dbcc52\",\"type\":\"ColumnDataSource\"},\"glyph\":{\"id\":\"7b324d57-fbc6-4840-97ef-c76082886a40\",\"type\":\"Line\"},\"hover_glyph\":null,\"nonselection_glyph\":{\"id\":\"1d24557c-5dc6-449d-bc7b-5d9c52421114\",\"type\":\"Line\"},\"selection_glyph\":null},\"id\":\"531e9007-afc6-4411-992e-fdcbf10a9898\",\"type\":\"GlyphRenderer\"},{\"attributes\":{\"label\":{\"value\":\"Dropoff\"},\"renderers\":[{\"id\":\"551e3198-55b5-4606-b716-784fcb678a7f\",\"type\":\"GlyphRenderer\"}]},\"id\":\"4ba5cae0-12cc-44c8-8baa-39fb2cd55b3c\",\"type\":\"LegendItem\"},{\"attributes\":{\"line_alpha\":{\"value\":0.5},\"line_color\":{\"value\":\"grey\"},\"line_dash\":[6],\"x\":{\"field\":\"x\"},\"y\":{\"field\":\"y\"}},\"id\":\"1eb5a9d3-bf83-4cfb-b6a0-dd11514601ba\",\"type\":\"Line\"},{\"attributes\":{\"data_source\":{\"id\":\"0f345e80-b4ca-414c-ab2b-e5adf7383bc8\",\"type\":\"ColumnDataSource\"},\"glyph\":{\"id\":\"f05ba427-e2be-4b71-8664-c897b89c1ba0\",\"type\":\"Line\"},\"hover_glyph\":null,\"nonselection_glyph\":{\"id\":\"b31737aa-fdb5-4584-80f2-4b50e3f367f8\",\"type\":\"Line\"},\"selection_glyph\":null},\"id\":\"d52ce39c-2324-47da-a399-9f415ff590ec\",\"type\":\"GlyphRenderer\"},{\"attributes\":{\"callback\":null,\"end\":115,\"start\":-15},\"id\":\"73292cf6-9a6f-4d3f-aa3f-cbaa24098ca8\",\"type\":\"Range1d\"},{\"attributes\":{\"callback\":null,\"column_names\":[\"x_values\",\"y_values\"],\"data\":{\"chart_index\":[{\"type\":\"Pickup\"},{\"type\":\"Pickup\"},{\"type\":\"Pickup\"},{\"type\":\"Pickup\"},{\"type\":\"Pickup\"},{\"type\":\"Pickup\"},{\"type\":\"Pickup\"},{\"type\":\"Pickup\"},{\"type\":\"Pickup\"},{\"type\":\"Pickup\"},{\"type\":\"Pickup\"}],\"type\":[\"Pickup\",\"Pickup\",\"Pickup\",\"Pickup\",\"Pickup\",\"Pickup\",\"Pickup\",\"Pickup\",\"Pickup\",\"Pickup\",\"Pickup\"],\"x_values\":{\"__ndarray__\":\"OSm1nWYlPUC+vdEm28NOQJbv4D5VyFFAgFz/4MpznT8K2CZf+3dNQPmibYnI4ShAFHOupbooSkBSQEax/n1WQKkXuvQPiU5A56ilSOx6NkCxHrbCaBQhQA==\",\"dtype\":\"float64\",\"shape\":[11]},\"y_values\":{\"__ndarray__\":\"VALtbPdITkBMMjy//P49QJKepnhssEJAABTkfCY8LkC/4VAqFgkxQIOlPLnSQVhAU/ZaYpM+RkDD81DZpilAQOIPwuT5lU5AhNxTxZa7PUAYRdzcoEQoQA==\",\"dtype\":\"float64\",\"shape\":[11]}}},\"id\":\"159ae82f-7729-4e01-9dfb-a12e80fbbf9b\",\"type\":\"ColumnDataSource\"},{\"attributes\":{\"line_alpha\":{\"value\":0.5},\"line_color\":{\"value\":\"grey\"},\"line_dash\":[6],\"x\":{\"field\":\"x\"},\"y\":{\"field\":\"y\"}},\"id\":\"95ffe935-3c9c-496d-bc82-57bcfa57e9a3\",\"type\":\"Line\"},{\"attributes\":{\"callback\":null,\"column_names\":[\"x\",\"y\"],\"data\":{\"x\":[86.49971182962952,71.13020297972102,77.26728721249384,58.937358755079984,51.88629510995546],\"y\":[85.78441970666222,37.37831028114046,54.689637627512255,17.035494465586222,7.913791631961676]}},\"id\":\"066f1bb1-3e60-4d1a-a85b-db23a4cb31d2\",\"type\":\"ColumnDataSource\"},{\"attributes\":{},\"id\":\"046900b3-f7c8-4a00-a43a-56ba30879159\",\"type\":\"BasicTicker\"},{\"attributes\":{\"line_alpha\":{\"value\":0.5},\"line_color\":{\"value\":\"grey\"},\"line_dash\":[6],\"x\":{\"field\":\"x\"},\"y\":{\"field\":\"y\"}},\"id\":\"8a073287-89d2-46d9-b536-d966f0128887\",\"type\":\"Line\"},{\"attributes\":{\"line_alpha\":{\"value\":0.1},\"line_color\":{\"value\":\"#1f77b4\"},\"line_dash\":[6],\"x\":{\"field\":\"x\"},\"y\":{\"field\":\"y\"}},\"id\":\"83414db6-24eb-420e-bd55-7282e4768b54\",\"type\":\"Line\"},{\"attributes\":{\"plot\":{\"id\":\"7b78fec8-4c6f-46eb-b4ac-c3c79f20c062\",\"subtype\":\"Chart\",\"type\":\"Plot\"}},\"id\":\"272426f1-42e4-49a3-ac7b-f51e929f752e\",\"type\":\"PanTool\"},{\"attributes\":{\"data_source\":{\"id\":\"066f1bb1-3e60-4d1a-a85b-db23a4cb31d2\",\"type\":\"ColumnDataSource\"},\"glyph\":{\"id\":\"8a073287-89d2-46d9-b536-d966f0128887\",\"type\":\"Line\"},\"hover_glyph\":null,\"nonselection_glyph\":{\"id\":\"83414db6-24eb-420e-bd55-7282e4768b54\",\"type\":\"Line\"},\"selection_glyph\":null},\"id\":\"6c03a5e1-4ed3-492d-b0f5-b7679c79940e\",\"type\":\"GlyphRenderer\"},{\"attributes\":{\"callback\":null,\"column_names\":[\"x\",\"y\"],\"data\":{\"x\":[27.59963557185755,0.02876202581668652,37.66286312419672],\"y\":[55.38848041386488,15.117481139031952,85.7374900448338]}},\"id\":\"0f345e80-b4ca-414c-ab2b-e5adf7383bc8\",\"type\":\"ColumnDataSource\"},{\"attributes\":{\"active_drag\":\"auto\",\"active_scroll\":\"auto\",\"active_tap\":\"auto\",\"tools\":[{\"id\":\"272426f1-42e4-49a3-ac7b-f51e929f752e\",\"type\":\"PanTool\"},{\"id\":\"5936d4f0-e343-4ba7-abf1-e7df29cd3f97\",\"type\":\"WheelZoomTool\"},{\"id\":\"0ce8a088-cfe5-4385-a333-06a35acaca82\",\"type\":\"BoxZoomTool\"},{\"id\":\"3f4f77c2-ba8d-4204-bc72-5fedf8ba7077\",\"type\":\"SaveTool\"},{\"id\":\"e72b11db-f924-485f-bd8a-81f2b17c8b81\",\"type\":\"ResetTool\"},{\"id\":\"98578607-c3d2-48dd-bd91-4c02b1bc20a2\",\"type\":\"HelpTool\"}]},\"id\":\"17cfd043-c41d-45bf-9dee-086f4b001ce9\",\"type\":\"Toolbar\"},{\"attributes\":{\"line_alpha\":{\"value\":0.5},\"line_color\":{\"value\":\"grey\"},\"line_dash\":[6],\"x\":{\"field\":\"x\"},\"y\":{\"field\":\"y\"}},\"id\":\"f05ba427-e2be-4b71-8664-c897b89c1ba0\",\"type\":\"Line\"},{\"attributes\":{\"line_alpha\":{\"value\":0.1},\"line_color\":{\"value\":\"#1f77b4\"},\"line_dash\":[6],\"x\":{\"field\":\"x\"},\"y\":{\"field\":\"y\"}},\"id\":\"b31737aa-fdb5-4584-80f2-4b50e3f367f8\",\"type\":\"Line\"},{\"attributes\":{\"label\":{\"value\":\"Pickup\"},\"renderers\":[{\"id\":\"0ae399a9-d4a6-4434-aaee-ff98e5d68d9b\",\"type\":\"GlyphRenderer\"}]},\"id\":\"e27c537e-cb87-4c4c-bd35-6e8d181df4b6\",\"type\":\"LegendItem\"},{\"attributes\":{\"axis_label\":\"x\",\"formatter\":{\"id\":\"2a40de18-06ee-49b2-ba8e-0c95af33cd8e\",\"type\":\"BasicTickFormatter\"},\"plot\":{\"id\":\"7b78fec8-4c6f-46eb-b4ac-c3c79f20c062\",\"subtype\":\"Chart\",\"type\":\"Plot\"},\"ticker\":{\"id\":\"0939148e-3de5-4f1f-b893-8491ade2c467\",\"type\":\"BasicTicker\"}},\"id\":\"5fcbe7bb-0735-4f37-b038-2e663c587ecf\",\"type\":\"LinearAxis\"},{\"attributes\":{\"plot\":{\"id\":\"7b78fec8-4c6f-46eb-b4ac-c3c79f20c062\",\"subtype\":\"Chart\",\"type\":\"Plot\"}},\"id\":\"5936d4f0-e343-4ba7-abf1-e7df29cd3f97\",\"type\":\"WheelZoomTool\"},{\"attributes\":{\"items\":[{\"id\":\"63a3012c-7ef2-470e-bb22-4e826378230a\",\"type\":\"LegendItem\"},{\"id\":\"e27c537e-cb87-4c4c-bd35-6e8d181df4b6\",\"type\":\"LegendItem\"},{\"id\":\"4ba5cae0-12cc-44c8-8baa-39fb2cd55b3c\",\"type\":\"LegendItem\"}],\"location\":\"top_left\",\"orientation\":\"horizontal\",\"plot\":{\"id\":\"7b78fec8-4c6f-46eb-b4ac-c3c79f20c062\",\"subtype\":\"Chart\",\"type\":\"Plot\"}},\"id\":\"2950b372-221d-4d05-b2c7-47e0e899d2ad\",\"type\":\"Legend\"}],\"root_ids\":[\"7b78fec8-4c6f-46eb-b4ac-c3c79f20c062\"]},\"title\":\"Bokeh Application\",\"version\":\"0.12.4\"}};\n",
       "            var render_items = [{\"docid\":\"df1caec9-47ba-4fb0-bf12-06a5ee1acbcb\",\"elementid\":\"1c3daa44-d377-4da5-9ce5-1b119cbce6d9\",\"modelid\":\"7b78fec8-4c6f-46eb-b4ac-c3c79f20c062\"}];\n",
       "            \n",
       "            Bokeh.embed.embed_items(docs_json, render_items);\n",
       "          };\n",
       "          if (document.readyState != \"loading\") fn();\n",
       "          else document.addEventListener(\"DOMContentLoaded\", fn);\n",
       "        })();\n",
       "      },\n",
       "      function(Bokeh) {\n",
       "      }\n",
       "    ];\n",
       "  \n",
       "    function run_inline_js() {\n",
       "      \n",
       "      if ((window.Bokeh !== undefined) || (force === true)) {\n",
       "        for (var i = 0; i < inline_js.length; i++) {\n",
       "          inline_js[i](window.Bokeh);\n",
       "        }if (force === true) {\n",
       "          display_loaded();\n",
       "        }} else if (Date.now() < window._bokeh_timeout) {\n",
       "        setTimeout(run_inline_js, 100);\n",
       "      } else if (!window._bokeh_failed_load) {\n",
       "        console.log(\"Bokeh: BokehJS failed to load within specified timeout.\");\n",
       "        window._bokeh_failed_load = true;\n",
       "      } else if (force !== true) {\n",
       "        var cell = $(document.getElementById(\"1c3daa44-d377-4da5-9ce5-1b119cbce6d9\")).parents('.cell').data().cell;\n",
       "        cell.output_area.append_execute_result(NB_LOAD_WARNING)\n",
       "      }\n",
       "  \n",
       "    }\n",
       "  \n",
       "    if (window._bokeh_is_loading === 0) {\n",
       "      console.log(\"Bokeh: BokehJS loaded, going straight to plotting\");\n",
       "      run_inline_js();\n",
       "    } else {\n",
       "      load_libs(js_urls, function() {\n",
       "        console.log(\"Bokeh: BokehJS plotting callback run at\", now());\n",
       "        run_inline_js();\n",
       "      });\n",
       "    }\n",
       "  }(this));\n",
       "</script>"
      ]
     },
     "metadata": {},
     "output_type": "display_data"
    }
   ],
   "source": [
    "plot_routes()"
   ]
  },
  {
   "cell_type": "markdown",
   "metadata": {
    "deletable": true,
    "editable": true,
    "slideshow": {
     "slide_type": "subslide"
    }
   },
   "source": [
    "That can hurt our global solution a lot. What if we are willing to accept a 10% cut to the global solution for more balance among individual routes?"
   ]
  },
  {
   "cell_type": "code",
   "execution_count": 56,
   "metadata": {
    "collapsed": false
   },
   "outputs": [
    {
     "name": "stdout",
     "output_type": "stream",
     "text": [
      "total cost: 675.90442\n",
      "max route length: 135.30557\n"
     ]
    }
   ],
   "source": [
    "# Only willing to accept 10% degradation in global optimality\n",
    "prm += z <= best_total_cost * 1.1\n",
    "assert prm.solve() == pulp.LpStatusOptimal\n",
    "\n",
    "print('total cost:', z.value())\n",
    "print('max route length:', z2.value())"
   ]
  },
  {
   "cell_type": "code",
   "execution_count": 57,
   "metadata": {
    "collapsed": false,
    "slideshow": {
     "slide_type": "subslide"
    }
   },
   "outputs": [
    {
     "data": {
      "text/html": [
       "\n",
       "\n",
       "    <div class=\"bk-root\">\n",
       "        <div class=\"bk-plotdiv\" id=\"6a413f05-b63a-447e-ba80-e60de934cc57\"></div>\n",
       "    </div>\n",
       "<script type=\"text/javascript\">\n",
       "  \n",
       "  (function(global) {\n",
       "    function now() {\n",
       "      return new Date();\n",
       "    }\n",
       "  \n",
       "    var force = false;\n",
       "  \n",
       "    if (typeof (window._bokeh_onload_callbacks) === \"undefined\" || force === true) {\n",
       "      window._bokeh_onload_callbacks = [];\n",
       "      window._bokeh_is_loading = undefined;\n",
       "    }\n",
       "  \n",
       "  \n",
       "    \n",
       "    if (typeof (window._bokeh_timeout) === \"undefined\" || force === true) {\n",
       "      window._bokeh_timeout = Date.now() + 0;\n",
       "      window._bokeh_failed_load = false;\n",
       "    }\n",
       "  \n",
       "    var NB_LOAD_WARNING = {'data': {'text/html':\n",
       "       \"<div style='background-color: #fdd'>\\n\"+\n",
       "       \"<p>\\n\"+\n",
       "       \"BokehJS does not appear to have successfully loaded. If loading BokehJS from CDN, this \\n\"+\n",
       "       \"may be due to a slow or bad network connection. Possible fixes:\\n\"+\n",
       "       \"</p>\\n\"+\n",
       "       \"<ul>\\n\"+\n",
       "       \"<li>re-rerun `output_notebook()` to attempt to load from CDN again, or</li>\\n\"+\n",
       "       \"<li>use INLINE resources instead, as so:</li>\\n\"+\n",
       "       \"</ul>\\n\"+\n",
       "       \"<code>\\n\"+\n",
       "       \"from bokeh.resources import INLINE\\n\"+\n",
       "       \"output_notebook(resources=INLINE)\\n\"+\n",
       "       \"</code>\\n\"+\n",
       "       \"</div>\"}};\n",
       "  \n",
       "    function display_loaded() {\n",
       "      if (window.Bokeh !== undefined) {\n",
       "        document.getElementById(\"6a413f05-b63a-447e-ba80-e60de934cc57\").textContent = \"BokehJS successfully loaded.\";\n",
       "      } else if (Date.now() < window._bokeh_timeout) {\n",
       "        setTimeout(display_loaded, 100)\n",
       "      }\n",
       "    }\n",
       "  \n",
       "    function run_callbacks() {\n",
       "      window._bokeh_onload_callbacks.forEach(function(callback) { callback() });\n",
       "      delete window._bokeh_onload_callbacks\n",
       "      console.info(\"Bokeh: all callbacks have finished\");\n",
       "    }\n",
       "  \n",
       "    function load_libs(js_urls, callback) {\n",
       "      window._bokeh_onload_callbacks.push(callback);\n",
       "      if (window._bokeh_is_loading > 0) {\n",
       "        console.log(\"Bokeh: BokehJS is being loaded, scheduling callback at\", now());\n",
       "        return null;\n",
       "      }\n",
       "      if (js_urls == null || js_urls.length === 0) {\n",
       "        run_callbacks();\n",
       "        return null;\n",
       "      }\n",
       "      console.log(\"Bokeh: BokehJS not loaded, scheduling load and callback at\", now());\n",
       "      window._bokeh_is_loading = js_urls.length;\n",
       "      for (var i = 0; i < js_urls.length; i++) {\n",
       "        var url = js_urls[i];\n",
       "        var s = document.createElement('script');\n",
       "        s.src = url;\n",
       "        s.async = false;\n",
       "        s.onreadystatechange = s.onload = function() {\n",
       "          window._bokeh_is_loading--;\n",
       "          if (window._bokeh_is_loading === 0) {\n",
       "            console.log(\"Bokeh: all BokehJS libraries loaded\");\n",
       "            run_callbacks()\n",
       "          }\n",
       "        };\n",
       "        s.onerror = function() {\n",
       "          console.warn(\"failed to load library \" + url);\n",
       "        };\n",
       "        console.log(\"Bokeh: injecting script tag for BokehJS library: \", url);\n",
       "        document.getElementsByTagName(\"head\")[0].appendChild(s);\n",
       "      }\n",
       "    };var element = document.getElementById(\"6a413f05-b63a-447e-ba80-e60de934cc57\");\n",
       "    if (element == null) {\n",
       "      console.log(\"Bokeh: ERROR: autoload.js configured with elementid '6a413f05-b63a-447e-ba80-e60de934cc57' but no matching script tag was found. \")\n",
       "      return false;\n",
       "    }\n",
       "  \n",
       "    var js_urls = [];\n",
       "  \n",
       "    var inline_js = [\n",
       "      function(Bokeh) {\n",
       "        (function() {\n",
       "          var fn = function() {\n",
       "            var docs_json = {\"40fc1218-bf2c-4afb-9b1f-84d67a0861d1\":{\"roots\":{\"references\":[{\"attributes\":{\"line_alpha\":{\"value\":0.1},\"line_color\":{\"value\":\"#1f77b4\"},\"line_dash\":[6],\"x\":{\"field\":\"x\"},\"y\":{\"field\":\"y\"}},\"id\":\"7f289f39-dc7b-41ec-974e-b59cceaca2b1\",\"type\":\"Line\"},{\"attributes\":{\"fill_alpha\":{\"value\":0.7},\"fill_color\":{\"value\":\"#5ab738\"},\"line_color\":{\"value\":\"#5ab738\"},\"size\":{\"units\":\"screen\",\"value\":8},\"x\":{\"field\":\"x_values\"},\"y\":{\"field\":\"y_values\"}},\"id\":\"7fe97e0d-6823-4a73-bc48-1ec9caf2e942\",\"type\":\"Square\"},{\"attributes\":{\"fill_alpha\":{\"value\":0.7},\"fill_color\":{\"value\":\"#407ee7\"},\"line_color\":{\"value\":\"#407ee7\"},\"size\":{\"units\":\"screen\",\"value\":8},\"x\":{\"field\":\"x_values\"},\"y\":{\"field\":\"y_values\"}},\"id\":\"4ad578e7-a2dd-4276-b878-b696f29c10b4\",\"type\":\"Triangle\"},{\"attributes\":{},\"id\":\"68741a16-5d46-4135-b567-21ef1054cb17\",\"type\":\"BasicTicker\"},{\"attributes\":{\"line_alpha\":{\"value\":0.1},\"line_color\":{\"value\":\"#1f77b4\"},\"line_dash\":[6],\"x\":{\"field\":\"x\"},\"y\":{\"field\":\"y\"}},\"id\":\"3c0b8a69-5c7e-4655-816f-5251d5aa5e8b\",\"type\":\"Line\"},{\"attributes\":{\"data_source\":{\"id\":\"90b40190-a2fa-4561-b857-3c3a74513ee3\",\"type\":\"ColumnDataSource\"},\"glyph\":{\"id\":\"4ad578e7-a2dd-4276-b878-b696f29c10b4\",\"type\":\"Triangle\"},\"hover_glyph\":null,\"nonselection_glyph\":null,\"selection_glyph\":null},\"id\":\"a520ff96-a072-419e-bd8b-09e0691410c0\",\"type\":\"GlyphRenderer\"},{\"attributes\":{\"callback\":null,\"column_names\":[\"x\",\"y\"],\"data\":{\"x\":[86.49971182962952,61.07079943739456,29.146097046593443,28.93948544169973,21.410507625498088],\"y\":[85.78441970666222,61.17168864703832,60.570050826766106,30.13580643951674,19.941334309207313]}},\"id\":\"bfb27e41-ea22-4721-9298-c84600c86a5d\",\"type\":\"ColumnDataSource\"},{\"attributes\":{\"data_source\":{\"id\":\"e37d3013-2579-4fba-b7dc-ab4ab3df2507\",\"type\":\"ColumnDataSource\"},\"glyph\":{\"id\":\"bdc95e47-2f1c-438c-ad51-9d6f15a87e70\",\"type\":\"Line\"},\"hover_glyph\":null,\"nonselection_glyph\":{\"id\":\"ae2e3a5b-c77c-45a3-b98d-f8be53f76072\",\"type\":\"Line\"},\"selection_glyph\":null},\"id\":\"f59fcf8c-ef14-485d-abb9-f4d2ae696088\",\"type\":\"GlyphRenderer\"},{\"attributes\":{\"callback\":null,\"column_names\":[\"x\",\"y\"],\"data\":{\"x\":[39.08195695006602,22.480167904323846,0.02876202581668652,37.66286312419672,39.91878898636229],\"y\":[33.25172296004647,29.732769329999897,15.117481139031952,85.7374900448338,97.03810519813581]}},\"id\":\"0d598f22-f222-43e2-92d4-8caeb082ed69\",\"type\":\"ColumnDataSource\"},{\"attributes\":{\"plot\":null,\"text\":null},\"id\":\"c6fae1bb-0d5b-47d2-9e37-73ff8f682330\",\"type\":\"Title\"},{\"attributes\":{},\"id\":\"a54c67da-640d-4a5d-828d-49792366b0d9\",\"type\":\"ToolEvents\"},{\"attributes\":{\"below\":[{\"id\":\"a55fcea4-b682-4ea4-96bd-1ae99c73bf77\",\"type\":\"LinearAxis\"}],\"css_classes\":null,\"height\":600,\"left\":[{\"id\":\"a5f9fbcb-713a-4f8f-9827-e6cf4453da9b\",\"type\":\"LinearAxis\"}],\"renderers\":[{\"id\":\"e0908845-ad43-489a-8a87-dec3e5e81c52\",\"type\":\"BoxAnnotation\"},{\"id\":\"d506e77a-13d9-490b-bc4d-a365937efb5f\",\"type\":\"GlyphRenderer\"},{\"id\":\"a520ff96-a072-419e-bd8b-09e0691410c0\",\"type\":\"GlyphRenderer\"},{\"id\":\"ed22310b-5ce7-4581-9186-ed03cd9e0f18\",\"type\":\"GlyphRenderer\"},{\"id\":\"eb8ae45c-da7f-44f5-bbc4-f628546ab057\",\"type\":\"Legend\"},{\"id\":\"a55fcea4-b682-4ea4-96bd-1ae99c73bf77\",\"type\":\"LinearAxis\"},{\"id\":\"a5f9fbcb-713a-4f8f-9827-e6cf4453da9b\",\"type\":\"LinearAxis\"},{\"id\":\"4e4e0e9f-48e9-4141-928c-3c5693d82b04\",\"type\":\"Grid\"},{\"id\":\"e9763a5a-c24e-4596-b6e6-b9aac1d3c650\",\"type\":\"Grid\"},{\"id\":\"fd381a88-1803-4895-8243-d7d8af7a9ec7\",\"type\":\"GlyphRenderer\"},{\"id\":\"2867ab9c-19a4-45d6-ad1d-10380ecd3c36\",\"type\":\"GlyphRenderer\"},{\"id\":\"6b5e8b71-1259-45e3-ac3c-aec92c9c2499\",\"type\":\"GlyphRenderer\"},{\"id\":\"f59fcf8c-ef14-485d-abb9-f4d2ae696088\",\"type\":\"GlyphRenderer\"},{\"id\":\"8251cb8f-25f9-4366-8779-6aa1202e50f2\",\"type\":\"GlyphRenderer\"},{\"id\":\"ba719f04-54b2-4ac4-936e-d102b551e487\",\"type\":\"GlyphRenderer\"},{\"id\":\"4b8bf656-2064-484a-a5eb-bbc6161b692f\",\"type\":\"GlyphRenderer\"}],\"title\":{\"id\":\"c6fae1bb-0d5b-47d2-9e37-73ff8f682330\",\"type\":\"Title\"},\"tool_events\":{\"id\":\"a54c67da-640d-4a5d-828d-49792366b0d9\",\"type\":\"ToolEvents\"},\"toolbar\":{\"id\":\"723a7dfd-ffaa-4083-b8e8-51835fa6c2ff\",\"type\":\"Toolbar\"},\"width\":600,\"x_mapper_type\":\"auto\",\"x_range\":{\"id\":\"b08b389c-0e48-4710-ab08-7bdf8a366cc2\",\"type\":\"Range1d\"},\"y_mapper_type\":\"auto\",\"y_range\":{\"id\":\"b08b389c-0e48-4710-ab08-7bdf8a366cc2\",\"type\":\"Range1d\"}},\"id\":\"87b570bc-9bfd-4e40-bb2e-eb8ef488e936\",\"subtype\":\"Chart\",\"type\":\"Plot\"},{\"attributes\":{\"line_alpha\":{\"value\":0.1},\"line_color\":{\"value\":\"#1f77b4\"},\"line_dash\":[6],\"x\":{\"field\":\"x\"},\"y\":{\"field\":\"y\"}},\"id\":\"f8aa36c7-9fba-4e6c-b814-7bdd2b8ebe25\",\"type\":\"Line\"},{\"attributes\":{\"data_source\":{\"id\":\"bfb27e41-ea22-4721-9298-c84600c86a5d\",\"type\":\"ColumnDataSource\"},\"glyph\":{\"id\":\"32679164-ac76-4e57-ae9c-b5e9153f6088\",\"type\":\"Line\"},\"hover_glyph\":null,\"nonselection_glyph\":{\"id\":\"f8aa36c7-9fba-4e6c-b814-7bdd2b8ebe25\",\"type\":\"Line\"},\"selection_glyph\":null},\"id\":\"ba719f04-54b2-4ac4-936e-d102b551e487\",\"type\":\"GlyphRenderer\"},{\"attributes\":{\"line_alpha\":{\"value\":0.5},\"line_color\":{\"value\":\"grey\"},\"line_dash\":[6],\"x\":{\"field\":\"x\"},\"y\":{\"field\":\"y\"}},\"id\":\"02bafcc6-e395-44d7-a764-e2ae5d0fc3e6\",\"type\":\"Line\"},{\"attributes\":{\"data_source\":{\"id\":\"0d598f22-f222-43e2-92d4-8caeb082ed69\",\"type\":\"ColumnDataSource\"},\"glyph\":{\"id\":\"60dfd610-a846-4406-ae62-1136711f395b\",\"type\":\"Line\"},\"hover_glyph\":null,\"nonselection_glyph\":{\"id\":\"3c0b8a69-5c7e-4655-816f-5251d5aa5e8b\",\"type\":\"Line\"},\"selection_glyph\":null},\"id\":\"6b5e8b71-1259-45e3-ac3c-aec92c9c2499\",\"type\":\"GlyphRenderer\"},{\"attributes\":{\"line_alpha\":{\"value\":0.1},\"line_color\":{\"value\":\"#1f77b4\"},\"line_dash\":[6],\"x\":{\"field\":\"x\"},\"y\":{\"field\":\"y\"}},\"id\":\"f7df5890-65a2-417d-b1a1-fa13e738470a\",\"type\":\"Line\"},{\"attributes\":{\"callback\":null,\"column_names\":[\"x\",\"y\"],\"data\":{\"x\":[54.757683160153235,12.440983099587799,45.77750495582161],\"y\":[91.09361498392352,97.02848654673112,55.04185848609181]}},\"id\":\"e37d3013-2579-4fba-b7dc-ab4ab3df2507\",\"type\":\"ColumnDataSource\"},{\"attributes\":{\"line_alpha\":{\"value\":0.5},\"line_color\":{\"value\":\"grey\"},\"line_dash\":[6],\"x\":{\"field\":\"x\"},\"y\":{\"field\":\"y\"}},\"id\":\"bdc95e47-2f1c-438c-ad51-9d6f15a87e70\",\"type\":\"Line\"},{\"attributes\":{\"line_alpha\":{\"value\":0.1},\"line_color\":{\"value\":\"#1f77b4\"},\"line_dash\":[6],\"x\":{\"field\":\"x\"},\"y\":{\"field\":\"y\"}},\"id\":\"ae2e3a5b-c77c-45a3-b98d-f8be53f76072\",\"type\":\"Line\"},{\"attributes\":{\"data_source\":{\"id\":\"8a99b462-c635-4c29-bfbb-930ef2e77d60\",\"type\":\"ColumnDataSource\"},\"glyph\":{\"id\":\"3abf9983-dd3c-49a7-b933-3b21c3edc47d\",\"type\":\"Line\"},\"hover_glyph\":null,\"nonselection_glyph\":{\"id\":\"7f289f39-dc7b-41ec-974e-b59cceaca2b1\",\"type\":\"Line\"},\"selection_glyph\":null},\"id\":\"8251cb8f-25f9-4366-8779-6aa1202e50f2\",\"type\":\"GlyphRenderer\"},{\"attributes\":{\"line_alpha\":{\"value\":0.5},\"line_color\":{\"value\":\"grey\"},\"line_dash\":[6],\"x\":{\"field\":\"x\"},\"y\":{\"field\":\"y\"}},\"id\":\"60dfd610-a846-4406-ae62-1136711f395b\",\"type\":\"Line\"},{\"attributes\":{\"callback\":null,\"column_names\":[\"x_values\",\"y_values\"],\"data\":{\"chart_index\":[{\"type\":\"Dropoff\"},{\"type\":\"Dropoff\"},{\"type\":\"Dropoff\"},{\"type\":\"Dropoff\"},{\"type\":\"Dropoff\"},{\"type\":\"Dropoff\"},{\"type\":\"Dropoff\"},{\"type\":\"Dropoff\"},{\"type\":\"Dropoff\"},{\"type\":\"Dropoff\"},{\"type\":\"Dropoff\"}],\"type\":[\"Dropoff\",\"Dropoff\",\"Dropoff\",\"Dropoff\",\"Dropoff\",\"Dropoff\",\"Dropoff\",\"Dropoff\",\"Dropoff\",\"Dropoff\",\"Dropoff\"],\"x_values\":{\"__ndarray__\":\"3UUaBxdpNUB3QtFng3hUQDQT0zsbUVNAHBPostjUQkCF7j8ecvFJQKrdSkiF40ZAz7JJRClpV0BpRvKm4vdTQCArLx6C8DxA7iyk4Jr1Q0AtKDLrI8tVQA==\",\"dtype\":\"float64\",\"shape\":[11]},\"y_values\":{\"__ndarray__\":\"7qUISfvwM0CcbGyzvX48QMoguAtGWEtA9OtxCTNvVUAUiVr+uKcfQIZpbp5bhUtAen1d6XOXSUA2qN3ScoxSQIRP+DXEIj5AQvPIUHBCWEAcsDIy40ZFQA==\",\"dtype\":\"float64\",\"shape\":[11]}}},\"id\":\"7bc46ad1-a6cc-479e-bbf6-578773649e57\",\"type\":\"ColumnDataSource\"},{\"attributes\":{\"callback\":null,\"column_names\":[\"x_values\",\"y_values\"],\"data\":{\"chart_index\":[{\"type\":\"Pickup\"},{\"type\":\"Pickup\"},{\"type\":\"Pickup\"},{\"type\":\"Pickup\"},{\"type\":\"Pickup\"},{\"type\":\"Pickup\"},{\"type\":\"Pickup\"},{\"type\":\"Pickup\"},{\"type\":\"Pickup\"},{\"type\":\"Pickup\"},{\"type\":\"Pickup\"}],\"type\":[\"Pickup\",\"Pickup\",\"Pickup\",\"Pickup\",\"Pickup\",\"Pickup\",\"Pickup\",\"Pickup\",\"Pickup\",\"Pickup\",\"Pickup\"],\"x_values\":{\"__ndarray__\":\"OSm1nWYlPUC+vdEm28NOQJbv4D5VyFFAgFz/4MpznT8K2CZf+3dNQPmibYnI4ShAFHOupbooSkBSQEax/n1WQKkXuvQPiU5A56ilSOx6NkCxHrbCaBQhQA==\",\"dtype\":\"float64\",\"shape\":[11]},\"y_values\":{\"__ndarray__\":\"VALtbPdITkBMMjy//P49QJKepnhssEJAABTkfCY8LkC/4VAqFgkxQIOlPLnSQVhAU/ZaYpM+RkDD81DZpilAQOIPwuT5lU5AhNxTxZa7PUAYRdzcoEQoQA==\",\"dtype\":\"float64\",\"shape\":[11]}}},\"id\":\"90b40190-a2fa-4561-b857-3c3a74513ee3\",\"type\":\"ColumnDataSource\"},{\"attributes\":{},\"id\":\"73559310-2977-4b09-80e0-37571ca20c22\",\"type\":\"BasicTickFormatter\"},{\"attributes\":{\"line_alpha\":{\"value\":0.5},\"line_color\":{\"value\":\"grey\"},\"line_dash\":[6],\"x\":{\"field\":\"x\"},\"y\":{\"field\":\"y\"}},\"id\":\"32679164-ac76-4e57-ae9c-b5e9153f6088\",\"type\":\"Line\"},{\"attributes\":{\"callback\":null,\"column_names\":[\"x\",\"y\"],\"data\":{\"x\":[27.59963557185755,8.539861759883339,87.17406730554713],\"y\":[55.38848041386488,12.134039785278716,42.55380847430226]}},\"id\":\"42e8dfb9-d1a5-417a-a25d-0e2d2cce1d1f\",\"type\":\"ColumnDataSource\"},{\"attributes\":{\"data_source\":{\"id\":\"55eceb79-58a1-4817-af45-dbb91e61e7f5\",\"type\":\"ColumnDataSource\"},\"glyph\":{\"id\":\"02bafcc6-e395-44d7-a764-e2ae5d0fc3e6\",\"type\":\"Line\"},\"hover_glyph\":null,\"nonselection_glyph\":{\"id\":\"f7df5890-65a2-417d-b1a1-fa13e738470a\",\"type\":\"Line\"},\"selection_glyph\":null},\"id\":\"fd381a88-1803-4895-8243-d7d8af7a9ec7\",\"type\":\"GlyphRenderer\"},{\"attributes\":{\"line_alpha\":{\"value\":0.5},\"line_color\":{\"value\":\"grey\"},\"line_dash\":[6],\"x\":{\"field\":\"x\"},\"y\":{\"field\":\"y\"}},\"id\":\"52ce22ae-d5ef-4c85-be33-93b6172ecbf0\",\"type\":\"Line\"},{\"attributes\":{\"line_alpha\":{\"value\":0.1},\"line_color\":{\"value\":\"#1f77b4\"},\"line_dash\":[6],\"x\":{\"field\":\"x\"},\"y\":{\"field\":\"y\"}},\"id\":\"62d55588-3e3f-4b64-ae4f-5f2337a0386f\",\"type\":\"Line\"},{\"attributes\":{\"data_source\":{\"id\":\"42e8dfb9-d1a5-417a-a25d-0e2d2cce1d1f\",\"type\":\"ColumnDataSource\"},\"glyph\":{\"id\":\"52ce22ae-d5ef-4c85-be33-93b6172ecbf0\",\"type\":\"Line\"},\"hover_glyph\":null,\"nonselection_glyph\":{\"id\":\"62d55588-3e3f-4b64-ae4f-5f2337a0386f\",\"type\":\"Line\"},\"selection_glyph\":null},\"id\":\"4b8bf656-2064-484a-a5eb-bbc6161b692f\",\"type\":\"GlyphRenderer\"},{\"attributes\":{\"callback\":null,\"column_names\":[\"x\",\"y\"],\"data\":{\"x\":[85.55760651770602,89.96867019520258,71.13020297972102,77.26728721249384,79.87320874843284],\"y\":[51.5276119231982,32.325404324080885,37.37831028114046,54.689637627512255,74.19450828214835]}},\"id\":\"8a99b462-c635-4c29-bfbb-930ef2e77d60\",\"type\":\"ColumnDataSource\"},{\"attributes\":{\"data_source\":{\"id\":\"eb0e7a5c-7efe-456c-bcaa-726a56303922\",\"type\":\"ColumnDataSource\"},\"glyph\":{\"id\":\"e768da1b-89bc-4ec9-8b85-88984e1d5709\",\"type\":\"Line\"},\"hover_glyph\":null,\"nonselection_glyph\":{\"id\":\"f68bc5c7-587a-41d3-a26a-ce1b8c604a59\",\"type\":\"Line\"},\"selection_glyph\":null},\"id\":\"2867ab9c-19a4-45d6-ad1d-10380ecd3c36\",\"type\":\"GlyphRenderer\"},{\"attributes\":{\"line_alpha\":{\"value\":0.1},\"line_color\":{\"value\":\"#1f77b4\"},\"line_dash\":[6],\"x\":{\"field\":\"x\"},\"y\":{\"field\":\"y\"}},\"id\":\"f68bc5c7-587a-41d3-a26a-ce1b8c604a59\",\"type\":\"Line\"},{\"attributes\":{\"line_alpha\":{\"value\":0.5},\"line_color\":{\"value\":\"grey\"},\"line_dash\":[6],\"x\":{\"field\":\"x\"},\"y\":{\"field\":\"y\"}},\"id\":\"3abf9983-dd3c-49a7-b933-3b21c3edc47d\",\"type\":\"Line\"},{\"attributes\":{\"callback\":null,\"column_names\":[\"x\",\"y\"],\"data\":{\"x\":[30.670096878747565,52.318196020298416,61.530125477230726,81.88302035747061,93.64314372250668],\"y\":[68.88707743182617,44.48887280885233,29.996044113346485,28.495082105608716,51.18322484078358]}},\"id\":\"55eceb79-58a1-4817-af45-dbb91e61e7f5\",\"type\":\"ColumnDataSource\"},{\"attributes\":{\"callback\":null,\"end\":115,\"start\":-15},\"id\":\"b08b389c-0e48-4710-ab08-7bdf8a366cc2\",\"type\":\"Range1d\"},{\"attributes\":{\"plot\":{\"id\":\"87b570bc-9bfd-4e40-bb2e-eb8ef488e936\",\"subtype\":\"Chart\",\"type\":\"Plot\"}},\"id\":\"cdb10c10-ee81-4fed-9904-4b31c2fd043d\",\"type\":\"PanTool\"},{\"attributes\":{\"plot\":{\"id\":\"87b570bc-9bfd-4e40-bb2e-eb8ef488e936\",\"subtype\":\"Chart\",\"type\":\"Plot\"},\"ticker\":{\"id\":\"0c1e9554-2832-432f-ade6-9d865e90d757\",\"type\":\"BasicTicker\"}},\"id\":\"4e4e0e9f-48e9-4141-928c-3c5693d82b04\",\"type\":\"Grid\"},{\"attributes\":{\"line_alpha\":{\"value\":0.5},\"line_color\":{\"value\":\"grey\"},\"line_dash\":[6],\"x\":{\"field\":\"x\"},\"y\":{\"field\":\"y\"}},\"id\":\"e768da1b-89bc-4ec9-8b85-88984e1d5709\",\"type\":\"Line\"},{\"attributes\":{\"dimension\":1,\"plot\":{\"id\":\"87b570bc-9bfd-4e40-bb2e-eb8ef488e936\",\"subtype\":\"Chart\",\"type\":\"Plot\"},\"ticker\":{\"id\":\"68741a16-5d46-4135-b567-21ef1054cb17\",\"type\":\"BasicTicker\"}},\"id\":\"e9763a5a-c24e-4596-b6e6-b9aac1d3c650\",\"type\":\"Grid\"},{\"attributes\":{\"data_source\":{\"id\":\"7bc46ad1-a6cc-479e-bbf6-578773649e57\",\"type\":\"ColumnDataSource\"},\"glyph\":{\"id\":\"7ce1957a-c1e2-4c60-91ad-3d854a8e091b\",\"type\":\"Circle\"},\"hover_glyph\":null,\"nonselection_glyph\":null,\"selection_glyph\":null},\"id\":\"ed22310b-5ce7-4581-9186-ed03cd9e0f18\",\"type\":\"GlyphRenderer\"},{\"attributes\":{\"callback\":null,\"column_names\":[\"x\",\"y\"],\"data\":{\"x\":[74.41266316290898,58.937358755079984,51.88629510995546],\"y\":[25.653518978075418,17.035494465586222,7.913791631961676]}},\"id\":\"eb0e7a5c-7efe-456c-bcaa-726a56303922\",\"type\":\"ColumnDataSource\"},{\"attributes\":{\"fill_alpha\":{\"value\":0.7},\"fill_color\":{\"value\":\"#f22c40\"},\"line_color\":{\"value\":\"#f22c40\"},\"size\":{\"units\":\"screen\",\"value\":8},\"x\":{\"field\":\"x_values\"},\"y\":{\"field\":\"y_values\"}},\"id\":\"7ce1957a-c1e2-4c60-91ad-3d854a8e091b\",\"type\":\"Circle\"},{\"attributes\":{\"axis_label\":\"y\",\"formatter\":{\"id\":\"7204e66b-b114-45e2-b049-0481731540e3\",\"type\":\"BasicTickFormatter\"},\"plot\":{\"id\":\"87b570bc-9bfd-4e40-bb2e-eb8ef488e936\",\"subtype\":\"Chart\",\"type\":\"Plot\"},\"ticker\":{\"id\":\"68741a16-5d46-4135-b567-21ef1054cb17\",\"type\":\"BasicTicker\"}},\"id\":\"a5f9fbcb-713a-4f8f-9827-e6cf4453da9b\",\"type\":\"LinearAxis\"},{\"attributes\":{\"active_drag\":\"auto\",\"active_scroll\":\"auto\",\"active_tap\":\"auto\",\"tools\":[{\"id\":\"cdb10c10-ee81-4fed-9904-4b31c2fd043d\",\"type\":\"PanTool\"},{\"id\":\"aa82ff78-119d-46e1-81e6-10f5c67fb7f3\",\"type\":\"WheelZoomTool\"},{\"id\":\"9458eef7-c8a7-4e8a-a6d4-d741d4ad29d6\",\"type\":\"BoxZoomTool\"},{\"id\":\"bf92d6a8-e1d6-4aa9-aab9-3e86373497a4\",\"type\":\"SaveTool\"},{\"id\":\"54b9c1f1-2fdb-4463-ac98-6cab621dcbdc\",\"type\":\"ResetTool\"},{\"id\":\"64cb8f30-f958-4b56-850a-7ed43c43b0e0\",\"type\":\"HelpTool\"}]},\"id\":\"723a7dfd-ffaa-4083-b8e8-51835fa6c2ff\",\"type\":\"Toolbar\"},{\"attributes\":{\"bottom_units\":\"screen\",\"fill_alpha\":{\"value\":0.5},\"fill_color\":{\"value\":\"lightgrey\"},\"left_units\":\"screen\",\"level\":\"overlay\",\"line_alpha\":{\"value\":1.0},\"line_color\":{\"value\":\"black\"},\"line_dash\":[4,4],\"line_width\":{\"value\":2},\"plot\":null,\"render_mode\":\"css\",\"right_units\":\"screen\",\"top_units\":\"screen\"},\"id\":\"e0908845-ad43-489a-8a87-dec3e5e81c52\",\"type\":\"BoxAnnotation\"},{\"attributes\":{\"axis_label\":\"x\",\"formatter\":{\"id\":\"73559310-2977-4b09-80e0-37571ca20c22\",\"type\":\"BasicTickFormatter\"},\"plot\":{\"id\":\"87b570bc-9bfd-4e40-bb2e-eb8ef488e936\",\"subtype\":\"Chart\",\"type\":\"Plot\"},\"ticker\":{\"id\":\"0c1e9554-2832-432f-ade6-9d865e90d757\",\"type\":\"BasicTicker\"}},\"id\":\"a55fcea4-b682-4ea4-96bd-1ae99c73bf77\",\"type\":\"LinearAxis\"},{\"attributes\":{\"label\":{\"value\":\"Pickup\"},\"renderers\":[{\"id\":\"a520ff96-a072-419e-bd8b-09e0691410c0\",\"type\":\"GlyphRenderer\"}]},\"id\":\"15c92f9a-8d21-48fe-9779-0f68e72e012c\",\"type\":\"LegendItem\"},{\"attributes\":{\"label\":{\"value\":\"Pedicab\"},\"renderers\":[{\"id\":\"d506e77a-13d9-490b-bc4d-a365937efb5f\",\"type\":\"GlyphRenderer\"}]},\"id\":\"066ecb75-6cd2-4e1c-8ec1-f27f93b45271\",\"type\":\"LegendItem\"},{\"attributes\":{\"items\":[{\"id\":\"066ecb75-6cd2-4e1c-8ec1-f27f93b45271\",\"type\":\"LegendItem\"},{\"id\":\"15c92f9a-8d21-48fe-9779-0f68e72e012c\",\"type\":\"LegendItem\"},{\"id\":\"aa756820-5ae5-4007-b5c1-3fdbab349dc7\",\"type\":\"LegendItem\"}],\"location\":\"top_left\",\"orientation\":\"horizontal\",\"plot\":{\"id\":\"87b570bc-9bfd-4e40-bb2e-eb8ef488e936\",\"subtype\":\"Chart\",\"type\":\"Plot\"}},\"id\":\"eb8ae45c-da7f-44f5-bbc4-f628546ab057\",\"type\":\"Legend\"},{\"attributes\":{\"plot\":{\"id\":\"87b570bc-9bfd-4e40-bb2e-eb8ef488e936\",\"subtype\":\"Chart\",\"type\":\"Plot\"}},\"id\":\"aa82ff78-119d-46e1-81e6-10f5c67fb7f3\",\"type\":\"WheelZoomTool\"},{\"attributes\":{\"overlay\":{\"id\":\"e0908845-ad43-489a-8a87-dec3e5e81c52\",\"type\":\"BoxAnnotation\"},\"plot\":{\"id\":\"87b570bc-9bfd-4e40-bb2e-eb8ef488e936\",\"subtype\":\"Chart\",\"type\":\"Plot\"}},\"id\":\"9458eef7-c8a7-4e8a-a6d4-d741d4ad29d6\",\"type\":\"BoxZoomTool\"},{\"attributes\":{\"plot\":{\"id\":\"87b570bc-9bfd-4e40-bb2e-eb8ef488e936\",\"subtype\":\"Chart\",\"type\":\"Plot\"}},\"id\":\"bf92d6a8-e1d6-4aa9-aab9-3e86373497a4\",\"type\":\"SaveTool\"},{\"attributes\":{\"plot\":{\"id\":\"87b570bc-9bfd-4e40-bb2e-eb8ef488e936\",\"subtype\":\"Chart\",\"type\":\"Plot\"}},\"id\":\"54b9c1f1-2fdb-4463-ac98-6cab621dcbdc\",\"type\":\"ResetTool\"},{\"attributes\":{\"plot\":{\"id\":\"87b570bc-9bfd-4e40-bb2e-eb8ef488e936\",\"subtype\":\"Chart\",\"type\":\"Plot\"}},\"id\":\"64cb8f30-f958-4b56-850a-7ed43c43b0e0\",\"type\":\"HelpTool\"},{\"attributes\":{},\"id\":\"7204e66b-b114-45e2-b049-0481731540e3\",\"type\":\"BasicTickFormatter\"},{\"attributes\":{\"callback\":null,\"column_names\":[\"x_values\",\"y_values\"],\"data\":{\"chart_index\":[{\"type\":\"Pedicab\"},{\"type\":\"Pedicab\"},{\"type\":\"Pedicab\"},{\"type\":\"Pedicab\"},{\"type\":\"Pedicab\"},{\"type\":\"Pedicab\"},{\"type\":\"Pedicab\"}],\"type\":[\"Pedicab\",\"Pedicab\",\"Pedicab\",\"Pedicab\",\"Pedicab\",\"Pedicab\",\"Pedicab\"],\"x_values\":{\"__ndarray__\":\"Wl8TeIurPkBQPcESaZpSQFMbupB9ikNARssEw/tgS0BdZT/Tr2NVQLhrU0f7n1VAfaWCt4GZO0A=\",\"dtype\":\"float64\",\"shape\":[7]},\"y_values\":{\"__ndarray__\":\"o61r4MU4UUA2Jg4FTac5QKWGPHU4oEBAfpezyf3FVkDXjpnJiMNJQPCctu4zclVA1lfoubmxS0A=\",\"dtype\":\"float64\",\"shape\":[7]}}},\"id\":\"0cde4f8c-6eea-4d68-a485-67fd651dcec4\",\"type\":\"ColumnDataSource\"},{\"attributes\":{\"label\":{\"value\":\"Dropoff\"},\"renderers\":[{\"id\":\"ed22310b-5ce7-4581-9186-ed03cd9e0f18\",\"type\":\"GlyphRenderer\"}]},\"id\":\"aa756820-5ae5-4007-b5c1-3fdbab349dc7\",\"type\":\"LegendItem\"},{\"attributes\":{},\"id\":\"0c1e9554-2832-432f-ade6-9d865e90d757\",\"type\":\"BasicTicker\"},{\"attributes\":{\"data_source\":{\"id\":\"0cde4f8c-6eea-4d68-a485-67fd651dcec4\",\"type\":\"ColumnDataSource\"},\"glyph\":{\"id\":\"7fe97e0d-6823-4a73-bc48-1ec9caf2e942\",\"type\":\"Square\"},\"hover_glyph\":null,\"nonselection_glyph\":null,\"selection_glyph\":null},\"id\":\"d506e77a-13d9-490b-bc4d-a365937efb5f\",\"type\":\"GlyphRenderer\"}],\"root_ids\":[\"87b570bc-9bfd-4e40-bb2e-eb8ef488e936\"]},\"title\":\"Bokeh Application\",\"version\":\"0.12.4\"}};\n",
       "            var render_items = [{\"docid\":\"40fc1218-bf2c-4afb-9b1f-84d67a0861d1\",\"elementid\":\"6a413f05-b63a-447e-ba80-e60de934cc57\",\"modelid\":\"87b570bc-9bfd-4e40-bb2e-eb8ef488e936\"}];\n",
       "            \n",
       "            Bokeh.embed.embed_items(docs_json, render_items);\n",
       "          };\n",
       "          if (document.readyState != \"loading\") fn();\n",
       "          else document.addEventListener(\"DOMContentLoaded\", fn);\n",
       "        })();\n",
       "      },\n",
       "      function(Bokeh) {\n",
       "      }\n",
       "    ];\n",
       "  \n",
       "    function run_inline_js() {\n",
       "      \n",
       "      if ((window.Bokeh !== undefined) || (force === true)) {\n",
       "        for (var i = 0; i < inline_js.length; i++) {\n",
       "          inline_js[i](window.Bokeh);\n",
       "        }if (force === true) {\n",
       "          display_loaded();\n",
       "        }} else if (Date.now() < window._bokeh_timeout) {\n",
       "        setTimeout(run_inline_js, 100);\n",
       "      } else if (!window._bokeh_failed_load) {\n",
       "        console.log(\"Bokeh: BokehJS failed to load within specified timeout.\");\n",
       "        window._bokeh_failed_load = true;\n",
       "      } else if (force !== true) {\n",
       "        var cell = $(document.getElementById(\"6a413f05-b63a-447e-ba80-e60de934cc57\")).parents('.cell').data().cell;\n",
       "        cell.output_area.append_execute_result(NB_LOAD_WARNING)\n",
       "      }\n",
       "  \n",
       "    }\n",
       "  \n",
       "    if (window._bokeh_is_loading === 0) {\n",
       "      console.log(\"Bokeh: BokehJS loaded, going straight to plotting\");\n",
       "      run_inline_js();\n",
       "    } else {\n",
       "      load_libs(js_urls, function() {\n",
       "        console.log(\"Bokeh: BokehJS plotting callback run at\", now());\n",
       "        run_inline_js();\n",
       "      });\n",
       "    }\n",
       "  }(this));\n",
       "</script>"
      ]
     },
     "metadata": {},
     "output_type": "display_data"
    }
   ],
   "source": [
    "plot_routes()"
   ]
  },
  {
   "cell_type": "markdown",
   "metadata": {
    "slideshow": {
     "slide_type": "slide"
    }
   },
   "source": [
    "## Where to find more information\n",
    "\n",
    "* [Introduction to Operations Research](http://www.mheducation.com/highered/product/M1259162982.html) by Hillier and Lieberman\n",
    "* [Linear and Nonlinear Optimization](http://bookstore.siam.org/ot108/) by Griva, Nash, and Softer\n",
    "* [Applied Integer Programming](http://www.wiley.com/WileyCDA/WileyTitle/productCd-0470373067.html) by Chen, Batson, and Dang\n",
    "* [Model Building in Mathematical Programming](http://www.wiley.com/WileyCDA/WileyTitle/productCd-1118443330.html) by Williams"
   ]
  }
 ],
 "metadata": {
  "celltoolbar": "Slideshow",
  "kernelspec": {
   "display_name": "Python 3",
   "language": "python",
   "name": "python3"
  },
  "language_info": {
   "codemirror_mode": {
    "name": "ipython",
    "version": 3
   },
   "file_extension": ".py",
   "mimetype": "text/x-python",
   "name": "python",
   "nbconvert_exporter": "python",
   "pygments_lexer": "ipython3",
   "version": "3.6.0"
  }
 },
 "nbformat": 4,
 "nbformat_minor": 2
}
