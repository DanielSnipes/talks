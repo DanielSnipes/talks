{
 "cells": [
  {
   "cell_type": "markdown",
   "metadata": {
    "deletable": true,
    "editable": true,
    "slideshow": {
     "slide_type": "slide"
    }
   },
   "source": [
    "# Practical Optimization for Stats Nerds\n",
    "\n",
    "Ryan J. O'Neil  \n",
    "Data Science DC  \n",
    "March 20, 2017\n",
    "\n",
    "[ryanjoneil@gmail.com](mailto:ryanjoneil@gmail.com)  \n",
    "[https://ryanjoneil.github.io](https://ryanjoneil.github.io)  \n",
    "[@ryanjoneil](https://twitter.com/ryanjoneil)"
   ]
  },
  {
   "cell_type": "markdown",
   "metadata": {
    "deletable": true,
    "editable": true,
    "slideshow": {
     "slide_type": "subslide"
    }
   },
   "source": [
    "## What to expect\n",
    "  \n",
    "  \n",
    "* We'll take familiar models, show how they work from an optimization perspective, then show applications.  \n"
   ]
  },
  {
   "cell_type": "markdown",
   "metadata": {
    "deletable": true,
    "editable": true,
    "slideshow": {
     "slide_type": "fragment"
    }
   },
   "source": [
    "\n",
    "* Everything uses Python 3.6 and related libraries.  \n",
    "  "
   ]
  },
  {
   "cell_type": "markdown",
   "metadata": {
    "deletable": true,
    "editable": true,
    "slideshow": {
     "slide_type": "fragment"
    }
   },
   "source": [
    "\n",
    "* It might get a little technical, so...  \n",
    "  "
   ]
  },
  {
   "cell_type": "markdown",
   "metadata": {
    "deletable": true,
    "editable": true,
    "slideshow": {
     "slide_type": "subslide"
    }
   },
   "source": [
    "## Take-aways\n",
    "  \n",
    "  \n",
    "* Many statistical techniques are based on some sort of optimization.\n",
    "  "
   ]
  },
  {
   "cell_type": "markdown",
   "metadata": {
    "deletable": true,
    "editable": true,
    "slideshow": {
     "slide_type": "fragment"
    }
   },
   "source": [
    "\n",
    "* Optimization has lots of uses, such as solving decision models.\n",
    "  "
   ]
  },
  {
   "cell_type": "markdown",
   "metadata": {
    "deletable": true,
    "editable": true,
    "slideshow": {
     "slide_type": "fragment"
    }
   },
   "source": [
    "\n",
    "* Learning to structure problems you already know for optimization solvers is a great way to understand them!\n"
   ]
  },
  {
   "cell_type": "markdown",
   "metadata": {
    "deletable": true,
    "editable": true,
    "slideshow": {
     "slide_type": "slide"
    }
   },
   "source": [
    "## Least Squares\n",
    "\n",
    "We observe noisy data from an unknown function. We want to infer that function."
   ]
  },
  {
   "cell_type": "markdown",
   "metadata": {
    "deletable": true,
    "editable": true,
    "slideshow": {
     "slide_type": "subslide"
    }
   },
   "source": [
    "But let's assume that, deep down, we actually know the function. That way we can generate noisy data and see if our techniques work right.\n",
    "\n",
    "#### Function:\n",
    "$$y = 3x^2 - 2x + 10 + \\epsilon$$\n",
    "\n",
    "#### Noise:\n",
    "$$\\epsilon \\sim N\\left(0, 25\\right)$$"
   ]
  },
  {
   "cell_type": "code",
   "execution_count": 1,
   "metadata": {
    "collapsed": false,
    "deletable": true,
    "editable": true,
    "slideshow": {
     "slide_type": "subslide"
    }
   },
   "outputs": [],
   "source": [
    "# Generate some random data.\n",
    "import numpy as np\n",
    "import random\n",
    "\n",
    "# Sort the data so they're easier to plot later.\n",
    "x = [random.uniform(-10, 10) for _ in range(500)]\n",
    "x.sort()\n",
    "\n",
    "y = []\n",
    "for xi in x:\n",
    "    eps = random.normalvariate(0, 25)\n",
    "    yi = 3*xi**2 - 2*xi + 10 + eps\n",
    "    y.append(yi)\n",
    "    \n",
    "x = np.array(x)\n",
    "y = np.array(y)"
   ]
  },
  {
   "cell_type": "code",
   "execution_count": 2,
   "metadata": {
    "collapsed": false,
    "deletable": true,
    "editable": true,
    "scrolled": true,
    "slideshow": {
     "slide_type": "subslide"
    }
   },
   "outputs": [
    {
     "data": {
      "text/html": [
       "\n",
       "    <div class=\"bk-root\">\n",
       "        <a href=\"http://bokeh.pydata.org\" target=\"_blank\" class=\"bk-logo bk-logo-small bk-logo-notebook\"></a>\n",
       "        <span id=\"d29f69ff-5025-447e-af0d-cab5a2523832\">Loading BokehJS ...</span>\n",
       "    </div>"
      ]
     },
     "metadata": {},
     "output_type": "display_data"
    },
    {
     "data": {
      "application/javascript": [
       "\n",
       "(function(global) {\n",
       "  function now() {\n",
       "    return new Date();\n",
       "  }\n",
       "\n",
       "  var force = true;\n",
       "\n",
       "  if (typeof (window._bokeh_onload_callbacks) === \"undefined\" || force === true) {\n",
       "    window._bokeh_onload_callbacks = [];\n",
       "    window._bokeh_is_loading = undefined;\n",
       "  }\n",
       "\n",
       "\n",
       "  \n",
       "  if (typeof (window._bokeh_timeout) === \"undefined\" || force === true) {\n",
       "    window._bokeh_timeout = Date.now() + 5000;\n",
       "    window._bokeh_failed_load = false;\n",
       "  }\n",
       "\n",
       "  var NB_LOAD_WARNING = {'data': {'text/html':\n",
       "     \"<div style='background-color: #fdd'>\\n\"+\n",
       "     \"<p>\\n\"+\n",
       "     \"BokehJS does not appear to have successfully loaded. If loading BokehJS from CDN, this \\n\"+\n",
       "     \"may be due to a slow or bad network connection. Possible fixes:\\n\"+\n",
       "     \"</p>\\n\"+\n",
       "     \"<ul>\\n\"+\n",
       "     \"<li>re-rerun `output_notebook()` to attempt to load from CDN again, or</li>\\n\"+\n",
       "     \"<li>use INLINE resources instead, as so:</li>\\n\"+\n",
       "     \"</ul>\\n\"+\n",
       "     \"<code>\\n\"+\n",
       "     \"from bokeh.resources import INLINE\\n\"+\n",
       "     \"output_notebook(resources=INLINE)\\n\"+\n",
       "     \"</code>\\n\"+\n",
       "     \"</div>\"}};\n",
       "\n",
       "  function display_loaded() {\n",
       "    if (window.Bokeh !== undefined) {\n",
       "      document.getElementById(\"d29f69ff-5025-447e-af0d-cab5a2523832\").textContent = \"BokehJS successfully loaded.\";\n",
       "    } else if (Date.now() < window._bokeh_timeout) {\n",
       "      setTimeout(display_loaded, 100)\n",
       "    }\n",
       "  }\n",
       "\n",
       "  function run_callbacks() {\n",
       "    window._bokeh_onload_callbacks.forEach(function(callback) { callback() });\n",
       "    delete window._bokeh_onload_callbacks\n",
       "    console.info(\"Bokeh: all callbacks have finished\");\n",
       "  }\n",
       "\n",
       "  function load_libs(js_urls, callback) {\n",
       "    window._bokeh_onload_callbacks.push(callback);\n",
       "    if (window._bokeh_is_loading > 0) {\n",
       "      console.log(\"Bokeh: BokehJS is being loaded, scheduling callback at\", now());\n",
       "      return null;\n",
       "    }\n",
       "    if (js_urls == null || js_urls.length === 0) {\n",
       "      run_callbacks();\n",
       "      return null;\n",
       "    }\n",
       "    console.log(\"Bokeh: BokehJS not loaded, scheduling load and callback at\", now());\n",
       "    window._bokeh_is_loading = js_urls.length;\n",
       "    for (var i = 0; i < js_urls.length; i++) {\n",
       "      var url = js_urls[i];\n",
       "      var s = document.createElement('script');\n",
       "      s.src = url;\n",
       "      s.async = false;\n",
       "      s.onreadystatechange = s.onload = function() {\n",
       "        window._bokeh_is_loading--;\n",
       "        if (window._bokeh_is_loading === 0) {\n",
       "          console.log(\"Bokeh: all BokehJS libraries loaded\");\n",
       "          run_callbacks()\n",
       "        }\n",
       "      };\n",
       "      s.onerror = function() {\n",
       "        console.warn(\"failed to load library \" + url);\n",
       "      };\n",
       "      console.log(\"Bokeh: injecting script tag for BokehJS library: \", url);\n",
       "      document.getElementsByTagName(\"head\")[0].appendChild(s);\n",
       "    }\n",
       "  };var element = document.getElementById(\"d29f69ff-5025-447e-af0d-cab5a2523832\");\n",
       "  if (element == null) {\n",
       "    console.log(\"Bokeh: ERROR: autoload.js configured with elementid 'd29f69ff-5025-447e-af0d-cab5a2523832' but no matching script tag was found. \")\n",
       "    return false;\n",
       "  }\n",
       "\n",
       "  var js_urls = [\"https://cdn.pydata.org/bokeh/release/bokeh-0.12.4.min.js\", \"https://cdn.pydata.org/bokeh/release/bokeh-widgets-0.12.4.min.js\"];\n",
       "\n",
       "  var inline_js = [\n",
       "    function(Bokeh) {\n",
       "      Bokeh.set_log_level(\"info\");\n",
       "    },\n",
       "    \n",
       "    function(Bokeh) {\n",
       "      \n",
       "      document.getElementById(\"d29f69ff-5025-447e-af0d-cab5a2523832\").textContent = \"BokehJS is loading...\";\n",
       "    },\n",
       "    function(Bokeh) {\n",
       "      console.log(\"Bokeh: injecting CSS: https://cdn.pydata.org/bokeh/release/bokeh-0.12.4.min.css\");\n",
       "      Bokeh.embed.inject_css(\"https://cdn.pydata.org/bokeh/release/bokeh-0.12.4.min.css\");\n",
       "      console.log(\"Bokeh: injecting CSS: https://cdn.pydata.org/bokeh/release/bokeh-widgets-0.12.4.min.css\");\n",
       "      Bokeh.embed.inject_css(\"https://cdn.pydata.org/bokeh/release/bokeh-widgets-0.12.4.min.css\");\n",
       "    }\n",
       "  ];\n",
       "\n",
       "  function run_inline_js() {\n",
       "    \n",
       "    if ((window.Bokeh !== undefined) || (force === true)) {\n",
       "      for (var i = 0; i < inline_js.length; i++) {\n",
       "        inline_js[i](window.Bokeh);\n",
       "      }if (force === true) {\n",
       "        display_loaded();\n",
       "      }} else if (Date.now() < window._bokeh_timeout) {\n",
       "      setTimeout(run_inline_js, 100);\n",
       "    } else if (!window._bokeh_failed_load) {\n",
       "      console.log(\"Bokeh: BokehJS failed to load within specified timeout.\");\n",
       "      window._bokeh_failed_load = true;\n",
       "    } else if (force !== true) {\n",
       "      var cell = $(document.getElementById(\"d29f69ff-5025-447e-af0d-cab5a2523832\")).parents('.cell').data().cell;\n",
       "      cell.output_area.append_execute_result(NB_LOAD_WARNING)\n",
       "    }\n",
       "\n",
       "  }\n",
       "\n",
       "  if (window._bokeh_is_loading === 0) {\n",
       "    console.log(\"Bokeh: BokehJS loaded, going straight to plotting\");\n",
       "    run_inline_js();\n",
       "  } else {\n",
       "    load_libs(js_urls, function() {\n",
       "      console.log(\"Bokeh: BokehJS plotting callback run at\", now());\n",
       "      run_inline_js();\n",
       "    });\n",
       "  }\n",
       "}(this));"
      ]
     },
     "metadata": {},
     "output_type": "display_data"
    },
    {
     "data": {
      "text/html": [
       "\n",
       "\n",
       "    <div class=\"bk-root\">\n",
       "        <div class=\"bk-plotdiv\" id=\"d993f1ed-9f4f-4769-80f7-b26927f4f9bc\"></div>\n",
       "    </div>\n",
       "<script type=\"text/javascript\">\n",
       "  \n",
       "  (function(global) {\n",
       "    function now() {\n",
       "      return new Date();\n",
       "    }\n",
       "  \n",
       "    var force = false;\n",
       "  \n",
       "    if (typeof (window._bokeh_onload_callbacks) === \"undefined\" || force === true) {\n",
       "      window._bokeh_onload_callbacks = [];\n",
       "      window._bokeh_is_loading = undefined;\n",
       "    }\n",
       "  \n",
       "  \n",
       "    \n",
       "    if (typeof (window._bokeh_timeout) === \"undefined\" || force === true) {\n",
       "      window._bokeh_timeout = Date.now() + 0;\n",
       "      window._bokeh_failed_load = false;\n",
       "    }\n",
       "  \n",
       "    var NB_LOAD_WARNING = {'data': {'text/html':\n",
       "       \"<div style='background-color: #fdd'>\\n\"+\n",
       "       \"<p>\\n\"+\n",
       "       \"BokehJS does not appear to have successfully loaded. If loading BokehJS from CDN, this \\n\"+\n",
       "       \"may be due to a slow or bad network connection. Possible fixes:\\n\"+\n",
       "       \"</p>\\n\"+\n",
       "       \"<ul>\\n\"+\n",
       "       \"<li>re-rerun `output_notebook()` to attempt to load from CDN again, or</li>\\n\"+\n",
       "       \"<li>use INLINE resources instead, as so:</li>\\n\"+\n",
       "       \"</ul>\\n\"+\n",
       "       \"<code>\\n\"+\n",
       "       \"from bokeh.resources import INLINE\\n\"+\n",
       "       \"output_notebook(resources=INLINE)\\n\"+\n",
       "       \"</code>\\n\"+\n",
       "       \"</div>\"}};\n",
       "  \n",
       "    function display_loaded() {\n",
       "      if (window.Bokeh !== undefined) {\n",
       "        document.getElementById(\"d993f1ed-9f4f-4769-80f7-b26927f4f9bc\").textContent = \"BokehJS successfully loaded.\";\n",
       "      } else if (Date.now() < window._bokeh_timeout) {\n",
       "        setTimeout(display_loaded, 100)\n",
       "      }\n",
       "    }\n",
       "  \n",
       "    function run_callbacks() {\n",
       "      window._bokeh_onload_callbacks.forEach(function(callback) { callback() });\n",
       "      delete window._bokeh_onload_callbacks\n",
       "      console.info(\"Bokeh: all callbacks have finished\");\n",
       "    }\n",
       "  \n",
       "    function load_libs(js_urls, callback) {\n",
       "      window._bokeh_onload_callbacks.push(callback);\n",
       "      if (window._bokeh_is_loading > 0) {\n",
       "        console.log(\"Bokeh: BokehJS is being loaded, scheduling callback at\", now());\n",
       "        return null;\n",
       "      }\n",
       "      if (js_urls == null || js_urls.length === 0) {\n",
       "        run_callbacks();\n",
       "        return null;\n",
       "      }\n",
       "      console.log(\"Bokeh: BokehJS not loaded, scheduling load and callback at\", now());\n",
       "      window._bokeh_is_loading = js_urls.length;\n",
       "      for (var i = 0; i < js_urls.length; i++) {\n",
       "        var url = js_urls[i];\n",
       "        var s = document.createElement('script');\n",
       "        s.src = url;\n",
       "        s.async = false;\n",
       "        s.onreadystatechange = s.onload = function() {\n",
       "          window._bokeh_is_loading--;\n",
       "          if (window._bokeh_is_loading === 0) {\n",
       "            console.log(\"Bokeh: all BokehJS libraries loaded\");\n",
       "            run_callbacks()\n",
       "          }\n",
       "        };\n",
       "        s.onerror = function() {\n",
       "          console.warn(\"failed to load library \" + url);\n",
       "        };\n",
       "        console.log(\"Bokeh: injecting script tag for BokehJS library: \", url);\n",
       "        document.getElementsByTagName(\"head\")[0].appendChild(s);\n",
       "      }\n",
       "    };var element = document.getElementById(\"d993f1ed-9f4f-4769-80f7-b26927f4f9bc\");\n",
       "    if (element == null) {\n",
       "      console.log(\"Bokeh: ERROR: autoload.js configured with elementid 'd993f1ed-9f4f-4769-80f7-b26927f4f9bc' but no matching script tag was found. \")\n",
       "      return false;\n",
       "    }\n",
       "  \n",
       "    var js_urls = [];\n",
       "  \n",
       "    var inline_js = [\n",
       "      function(Bokeh) {\n",
       "        (function() {\n",
       "          var fn = function() {\n",
       "            var docs_json = {\"5ef4e3ed-1b10-44de-9ec0-1402a0a9539c\":{\"roots\":{\"references\":[{\"attributes\":{\"bottom_units\":\"screen\",\"fill_alpha\":{\"value\":0.5},\"fill_color\":{\"value\":\"lightgrey\"},\"left_units\":\"screen\",\"level\":\"overlay\",\"line_alpha\":{\"value\":1.0},\"line_color\":{\"value\":\"black\"},\"line_dash\":[4,4],\"line_width\":{\"value\":2},\"plot\":null,\"render_mode\":\"css\",\"right_units\":\"screen\",\"top_units\":\"screen\"},\"id\":\"fa972155-46b7-48cc-b21e-5c8b4d2de5f6\",\"type\":\"BoxAnnotation\"},{\"attributes\":{},\"id\":\"b5037a7a-ec2d-4bfe-89ee-45b6901fcc78\",\"type\":\"BasicTicker\"},{\"attributes\":{},\"id\":\"e3db4599-1e5d-4af9-9fc9-2d48e8d6b774\",\"type\":\"BasicTickFormatter\"},{\"attributes\":{\"plot\":{\"id\":\"4dd37013-acb2-4c9a-bef0-bd69a4a34b41\",\"subtype\":\"Chart\",\"type\":\"Plot\"},\"ticker\":{\"id\":\"b5037a7a-ec2d-4bfe-89ee-45b6901fcc78\",\"type\":\"BasicTicker\"}},\"id\":\"39ae6e45-196d-41b1-b392-df40c4d7c815\",\"type\":\"Grid\"},{\"attributes\":{\"callback\":null,\"end\":386.8217024453223,\"start\":-82.40224562475537},\"id\":\"30b1d146-060e-4284-a901-a4c4fc6cd697\",\"type\":\"Range1d\"},{\"attributes\":{\"callback\":null,\"end\":11.923087906205232,\"start\":-11.932134357870844},\"id\":\"6dd01848-80e4-4e40-b6a8-4675de2838a4\",\"type\":\"Range1d\"},{\"attributes\":{},\"id\":\"bff1dc63-f3f0-4440-b027-36fa60333937\",\"type\":\"BasicTicker\"},{\"attributes\":{\"dimension\":1,\"plot\":{\"id\":\"4dd37013-acb2-4c9a-bef0-bd69a4a34b41\",\"subtype\":\"Chart\",\"type\":\"Plot\"},\"ticker\":{\"id\":\"bff1dc63-f3f0-4440-b027-36fa60333937\",\"type\":\"BasicTicker\"}},\"id\":\"4cf8cc07-4989-48b3-8054-1dfc4f316a77\",\"type\":\"Grid\"},{\"attributes\":{\"axis_label\":\"y\",\"formatter\":{\"id\":\"e3db4599-1e5d-4af9-9fc9-2d48e8d6b774\",\"type\":\"BasicTickFormatter\"},\"plot\":{\"id\":\"4dd37013-acb2-4c9a-bef0-bd69a4a34b41\",\"subtype\":\"Chart\",\"type\":\"Plot\"},\"ticker\":{\"id\":\"bff1dc63-f3f0-4440-b027-36fa60333937\",\"type\":\"BasicTicker\"}},\"id\":\"e4f6c2ab-1578-46e0-adfc-800c27b6c479\",\"type\":\"LinearAxis\"},{\"attributes\":{\"plot\":{\"id\":\"4dd37013-acb2-4c9a-bef0-bd69a4a34b41\",\"subtype\":\"Chart\",\"type\":\"Plot\"}},\"id\":\"b3e51118-f919-4b7e-92d4-5ddaa25fa4ed\",\"type\":\"PanTool\"},{\"attributes\":{\"callback\":null,\"column_names\":[\"x_values\",\"y_values\"],\"data\":{\"chart_index\":[null,null,null,null,null,null,null,null,null,null,null,null,null,null,null,null,null,null,null,null,null,null,null,null,null,null,null,null,null,null,null,null,null,null,null,null,null,null,null,null,null,null,null,null,null,null,null,null,null,null,null,null,null,null,null,null,null,null,null,null,null,null,null,null,null,null,null,null,null,null,null,null,null,null,null,null,null,null,null,null,null,null,null,null,null,null,null,null,null,null,null,null,null,null,null,null,null,null,null,null,null,null,null,null,null,null,null,null,null,null,null,null,null,null,null,null,null,null,null,null,null,null,null,null,null,null,null,null,null,null,null,null,null,null,null,null,null,null,null,null,null,null,null,null,null,null,null,null,null,null,null,null,null,null,null,null,null,null,null,null,null,null,null,null,null,null,null,null,null,null,null,null,null,null,null,null,null,null,null,null,null,null,null,null,null,null,null,null,null,null,null,null,null,null,null,null,null,null,null,null,null,null,null,null,null,null,null,null,null,null,null,null,null,null,null,null,null,null,null,null,null,null,null,null,null,null,null,null,null,null,null,null,null,null,null,null,null,null,null,null,null,null,null,null,null,null,null,null,null,null,null,null,null,null,null,null,null,null,null,null,null,null,null,null,null,null,null,null,null,null,null,null,null,null,null,null,null,null,null,null,null,null,null,null,null,null,null,null,null,null,null,null,null,null,null,null,null,null,null,null,null,null,null,null,null,null,null,null,null,null,null,null,null,null,null,null,null,null,null,null,null,null,null,null,null,null,null,null,null,null,null,null,null,null,null,null,null,null,null,null,null,null,null,null,null,null,null,null,null,null,null,null,null,null,null,null,null,null,null,null,null,null,null,null,null,null,null,null,null,null,null,null,null,null,null,null,null,null,null,null,null,null,null,null,null,null,null,null,null,null,null,null,null,null,null,null,null,null,null,null,null,null,null,null,null,null,null,null,null,null,null,null,null,null,null,null,null,null,null,null,null,null,null,null,null,null,null,null,null,null,null,null,null,null,null,null,null,null,null,null,null,null,null,null,null,null,null,null,null,null,null,null,null,null,null,null,null,null,null,null,null,null,null,null,null,null,null,null,null,null,null,null,null,null,null,null,null,null,null,null,null,null,null,null,null,null,null,null,null,null,null,null,null,null,null,null,null,null,null,null],\"x_values\":{\"__ndarray__\":\"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\",\"dtype\":\"float64\",\"shape\":[500]},\"y_values\":{\"__ndarray__\":\"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\",\"dtype\":\"float64\",\"shape\":[500]}}},\"id\":\"0a65486d-fa3e-4c18-8610-4dc7322770c5\",\"type\":\"ColumnDataSource\"},{\"attributes\":{},\"id\":\"97b80798-5b6d-4421-a906-908ab4cc2c29\",\"type\":\"BasicTickFormatter\"},{\"attributes\":{\"active_drag\":\"auto\",\"active_scroll\":\"auto\",\"active_tap\":\"auto\",\"tools\":[{\"id\":\"b3e51118-f919-4b7e-92d4-5ddaa25fa4ed\",\"type\":\"PanTool\"},{\"id\":\"e3f617ca-102c-43ec-b9da-a64ae4ca2f99\",\"type\":\"WheelZoomTool\"},{\"id\":\"844ab26f-f632-40bb-a2ed-788585cd3185\",\"type\":\"BoxZoomTool\"},{\"id\":\"668c0efc-799d-401c-be20-1b6cf89ae273\",\"type\":\"SaveTool\"},{\"id\":\"404712ee-4b76-4ae7-859a-f90ba8d87477\",\"type\":\"ResetTool\"},{\"id\":\"7ef2e7df-3140-40ea-bcca-bf7413e21053\",\"type\":\"HelpTool\"}]},\"id\":\"7b0e8a30-4d2e-467e-8a46-dedca50bd9bc\",\"type\":\"Toolbar\"},{\"attributes\":{\"plot\":{\"id\":\"4dd37013-acb2-4c9a-bef0-bd69a4a34b41\",\"subtype\":\"Chart\",\"type\":\"Plot\"}},\"id\":\"e3f617ca-102c-43ec-b9da-a64ae4ca2f99\",\"type\":\"WheelZoomTool\"},{\"attributes\":{\"overlay\":{\"id\":\"fa972155-46b7-48cc-b21e-5c8b4d2de5f6\",\"type\":\"BoxAnnotation\"},\"plot\":{\"id\":\"4dd37013-acb2-4c9a-bef0-bd69a4a34b41\",\"subtype\":\"Chart\",\"type\":\"Plot\"}},\"id\":\"844ab26f-f632-40bb-a2ed-788585cd3185\",\"type\":\"BoxZoomTool\"},{\"attributes\":{\"plot\":{\"id\":\"4dd37013-acb2-4c9a-bef0-bd69a4a34b41\",\"subtype\":\"Chart\",\"type\":\"Plot\"}},\"id\":\"668c0efc-799d-401c-be20-1b6cf89ae273\",\"type\":\"SaveTool\"},{\"attributes\":{\"plot\":{\"id\":\"4dd37013-acb2-4c9a-bef0-bd69a4a34b41\",\"subtype\":\"Chart\",\"type\":\"Plot\"}},\"id\":\"404712ee-4b76-4ae7-859a-f90ba8d87477\",\"type\":\"ResetTool\"},{\"attributes\":{\"data_source\":{\"id\":\"0a65486d-fa3e-4c18-8610-4dc7322770c5\",\"type\":\"ColumnDataSource\"},\"glyph\":{\"id\":\"3e18a111-8f3a-4bcc-9736-e070ff75ecf0\",\"type\":\"Circle\"},\"hover_glyph\":null,\"nonselection_glyph\":null,\"selection_glyph\":null},\"id\":\"d9225f25-5070-494a-bbc9-3fb1ac6c584a\",\"type\":\"GlyphRenderer\"},{\"attributes\":{},\"id\":\"f654fe78-02fe-4b40-86a6-5ac7d2f5d035\",\"type\":\"ToolEvents\"},{\"attributes\":{\"plot\":{\"id\":\"4dd37013-acb2-4c9a-bef0-bd69a4a34b41\",\"subtype\":\"Chart\",\"type\":\"Plot\"}},\"id\":\"7ef2e7df-3140-40ea-bcca-bf7413e21053\",\"type\":\"HelpTool\"},{\"attributes\":{\"plot\":null,\"text\":null},\"id\":\"c5c68227-36d4-48f1-994d-c59550c961d0\",\"type\":\"Title\"},{\"attributes\":{\"below\":[{\"id\":\"a5a0f27e-459d-40ad-a439-4a5548f07118\",\"type\":\"LinearAxis\"}],\"css_classes\":null,\"height\":400,\"left\":[{\"id\":\"e4f6c2ab-1578-46e0-adfc-800c27b6c479\",\"type\":\"LinearAxis\"}],\"renderers\":[{\"id\":\"fa972155-46b7-48cc-b21e-5c8b4d2de5f6\",\"type\":\"BoxAnnotation\"},{\"id\":\"d9225f25-5070-494a-bbc9-3fb1ac6c584a\",\"type\":\"GlyphRenderer\"},{\"id\":\"70670765-b6ae-426a-918f-4a9cba080d4d\",\"type\":\"Legend\"},{\"id\":\"a5a0f27e-459d-40ad-a439-4a5548f07118\",\"type\":\"LinearAxis\"},{\"id\":\"e4f6c2ab-1578-46e0-adfc-800c27b6c479\",\"type\":\"LinearAxis\"},{\"id\":\"39ae6e45-196d-41b1-b392-df40c4d7c815\",\"type\":\"Grid\"},{\"id\":\"4cf8cc07-4989-48b3-8054-1dfc4f316a77\",\"type\":\"Grid\"}],\"title\":{\"id\":\"c5c68227-36d4-48f1-994d-c59550c961d0\",\"type\":\"Title\"},\"tool_events\":{\"id\":\"f654fe78-02fe-4b40-86a6-5ac7d2f5d035\",\"type\":\"ToolEvents\"},\"toolbar\":{\"id\":\"7b0e8a30-4d2e-467e-8a46-dedca50bd9bc\",\"type\":\"Toolbar\"},\"width\":750,\"x_mapper_type\":\"auto\",\"x_range\":{\"id\":\"6dd01848-80e4-4e40-b6a8-4675de2838a4\",\"type\":\"Range1d\"},\"y_mapper_type\":\"auto\",\"y_range\":{\"id\":\"30b1d146-060e-4284-a901-a4c4fc6cd697\",\"type\":\"Range1d\"}},\"id\":\"4dd37013-acb2-4c9a-bef0-bd69a4a34b41\",\"subtype\":\"Chart\",\"type\":\"Plot\"},{\"attributes\":{\"fill_alpha\":{\"value\":0.7},\"fill_color\":{\"value\":\"#f22c40\"},\"line_color\":{\"value\":\"#f22c40\"},\"size\":{\"units\":\"screen\",\"value\":8},\"x\":{\"field\":\"x_values\"},\"y\":{\"field\":\"y_values\"}},\"id\":\"3e18a111-8f3a-4bcc-9736-e070ff75ecf0\",\"type\":\"Circle\"},{\"attributes\":{\"location\":\"top_left\",\"plot\":{\"id\":\"4dd37013-acb2-4c9a-bef0-bd69a4a34b41\",\"subtype\":\"Chart\",\"type\":\"Plot\"}},\"id\":\"70670765-b6ae-426a-918f-4a9cba080d4d\",\"type\":\"Legend\"},{\"attributes\":{\"axis_label\":\"x\",\"formatter\":{\"id\":\"97b80798-5b6d-4421-a906-908ab4cc2c29\",\"type\":\"BasicTickFormatter\"},\"plot\":{\"id\":\"4dd37013-acb2-4c9a-bef0-bd69a4a34b41\",\"subtype\":\"Chart\",\"type\":\"Plot\"},\"ticker\":{\"id\":\"b5037a7a-ec2d-4bfe-89ee-45b6901fcc78\",\"type\":\"BasicTicker\"}},\"id\":\"a5a0f27e-459d-40ad-a439-4a5548f07118\",\"type\":\"LinearAxis\"}],\"root_ids\":[\"4dd37013-acb2-4c9a-bef0-bd69a4a34b41\"]},\"title\":\"Bokeh Application\",\"version\":\"0.12.4\"}};\n",
       "            var render_items = [{\"docid\":\"5ef4e3ed-1b10-44de-9ec0-1402a0a9539c\",\"elementid\":\"d993f1ed-9f4f-4769-80f7-b26927f4f9bc\",\"modelid\":\"4dd37013-acb2-4c9a-bef0-bd69a4a34b41\"}];\n",
       "            \n",
       "            Bokeh.embed.embed_items(docs_json, render_items);\n",
       "          };\n",
       "          if (document.readyState != \"loading\") fn();\n",
       "          else document.addEventListener(\"DOMContentLoaded\", fn);\n",
       "        })();\n",
       "      },\n",
       "      function(Bokeh) {\n",
       "      }\n",
       "    ];\n",
       "  \n",
       "    function run_inline_js() {\n",
       "      \n",
       "      if ((window.Bokeh !== undefined) || (force === true)) {\n",
       "        for (var i = 0; i < inline_js.length; i++) {\n",
       "          inline_js[i](window.Bokeh);\n",
       "        }if (force === true) {\n",
       "          display_loaded();\n",
       "        }} else if (Date.now() < window._bokeh_timeout) {\n",
       "        setTimeout(run_inline_js, 100);\n",
       "      } else if (!window._bokeh_failed_load) {\n",
       "        console.log(\"Bokeh: BokehJS failed to load within specified timeout.\");\n",
       "        window._bokeh_failed_load = true;\n",
       "      } else if (force !== true) {\n",
       "        var cell = $(document.getElementById(\"d993f1ed-9f4f-4769-80f7-b26927f4f9bc\")).parents('.cell').data().cell;\n",
       "        cell.output_area.append_execute_result(NB_LOAD_WARNING)\n",
       "      }\n",
       "  \n",
       "    }\n",
       "  \n",
       "    if (window._bokeh_is_loading === 0) {\n",
       "      console.log(\"Bokeh: BokehJS loaded, going straight to plotting\");\n",
       "      run_inline_js();\n",
       "    } else {\n",
       "      load_libs(js_urls, function() {\n",
       "        console.log(\"Bokeh: BokehJS plotting callback run at\", now());\n",
       "        run_inline_js();\n",
       "      });\n",
       "    }\n",
       "  }(this));\n",
       "</script>"
      ]
     },
     "metadata": {},
     "output_type": "display_data"
    }
   ],
   "source": [
    "from bokeh.charts import Scatter, output_notebook, show\n",
    "output_notebook()\n",
    "\n",
    "scatter = Scatter({'x': x, 'y': y}, width=750, height=400)\n",
    "show(scatter)"
   ]
  },
  {
   "cell_type": "markdown",
   "metadata": {
    "deletable": true,
    "editable": true,
    "slideshow": {
     "slide_type": "slide"
    }
   },
   "source": [
    "### Least Squares the way _you_ do it...\n",
    "\n",
    "...assuming you use `scikit-learn` like every other sane Python programmer."
   ]
  },
  {
   "cell_type": "markdown",
   "metadata": {
    "deletable": true,
    "editable": true,
    "slideshow": {
     "slide_type": "subslide"
    }
   },
   "source": [
    "We looked at a chart of our data and decided to describe it with:\n",
    "\n",
    "* A quadratic term  \n",
    "* A linear term\n",
    "* An offset"
   ]
  },
  {
   "cell_type": "code",
   "execution_count": 3,
   "metadata": {
    "collapsed": false,
    "deletable": true,
    "editable": true,
    "slideshow": {
     "slide_type": "subslide"
    }
   },
   "outputs": [
    {
     "name": "stdout",
     "output_type": "stream",
     "text": [
      "[ 3.07656564 -1.85778333  6.21592918]\n"
     ]
    },
    {
     "name": "stderr",
     "output_type": "stream",
     "text": [
      "/Users/roneil/src/github.com/ryanjoneil/talks/2017/03/data-science-dc/lib/python3.6/site-packages/scipy/linalg/basic.py:884: RuntimeWarning: internal gelsd driver lwork query error, required iwork dimension not returned. This is likely the result of LAPACK bug 0038, fixed in LAPACK 3.2.2 (released July 21, 2010). Falling back to 'gelss' driver.\n",
      "  warnings.warn(mesg, RuntimeWarning)\n"
     ]
    }
   ],
   "source": [
    "from sklearn.linear_model import LinearRegression\n",
    "\n",
    "# Note: A is our feature matrix.\n",
    "#       We intentionally add a \"1\" for the offset, instead of letting \n",
    "#       sklearn do that for us. This will make sense soon.\n",
    "\n",
    "X = np.array([[xi**2, xi, 1] for xi in x])\n",
    "\n",
    "lin = LinearRegression(fit_intercept=False)\n",
    "lin.fit(X, y)\n",
    "\n",
    "print(lin.coef_)"
   ]
  },
  {
   "cell_type": "markdown",
   "metadata": {
    "slideshow": {
     "slide_type": "subslide"
    }
   },
   "source": [
    "How'd we do?"
   ]
  },
  {
   "cell_type": "code",
   "execution_count": 4,
   "metadata": {
    "collapsed": false,
    "deletable": true,
    "editable": true,
    "slideshow": {
     "slide_type": "-"
    }
   },
   "outputs": [
    {
     "data": {
      "text/html": [
       "\n",
       "\n",
       "    <div class=\"bk-root\">\n",
       "        <div class=\"bk-plotdiv\" id=\"34d22263-57b9-4651-b277-ee711b94dc34\"></div>\n",
       "    </div>\n",
       "<script type=\"text/javascript\">\n",
       "  \n",
       "  (function(global) {\n",
       "    function now() {\n",
       "      return new Date();\n",
       "    }\n",
       "  \n",
       "    var force = false;\n",
       "  \n",
       "    if (typeof (window._bokeh_onload_callbacks) === \"undefined\" || force === true) {\n",
       "      window._bokeh_onload_callbacks = [];\n",
       "      window._bokeh_is_loading = undefined;\n",
       "    }\n",
       "  \n",
       "  \n",
       "    \n",
       "    if (typeof (window._bokeh_timeout) === \"undefined\" || force === true) {\n",
       "      window._bokeh_timeout = Date.now() + 0;\n",
       "      window._bokeh_failed_load = false;\n",
       "    }\n",
       "  \n",
       "    var NB_LOAD_WARNING = {'data': {'text/html':\n",
       "       \"<div style='background-color: #fdd'>\\n\"+\n",
       "       \"<p>\\n\"+\n",
       "       \"BokehJS does not appear to have successfully loaded. If loading BokehJS from CDN, this \\n\"+\n",
       "       \"may be due to a slow or bad network connection. Possible fixes:\\n\"+\n",
       "       \"</p>\\n\"+\n",
       "       \"<ul>\\n\"+\n",
       "       \"<li>re-rerun `output_notebook()` to attempt to load from CDN again, or</li>\\n\"+\n",
       "       \"<li>use INLINE resources instead, as so:</li>\\n\"+\n",
       "       \"</ul>\\n\"+\n",
       "       \"<code>\\n\"+\n",
       "       \"from bokeh.resources import INLINE\\n\"+\n",
       "       \"output_notebook(resources=INLINE)\\n\"+\n",
       "       \"</code>\\n\"+\n",
       "       \"</div>\"}};\n",
       "  \n",
       "    function display_loaded() {\n",
       "      if (window.Bokeh !== undefined) {\n",
       "        document.getElementById(\"34d22263-57b9-4651-b277-ee711b94dc34\").textContent = \"BokehJS successfully loaded.\";\n",
       "      } else if (Date.now() < window._bokeh_timeout) {\n",
       "        setTimeout(display_loaded, 100)\n",
       "      }\n",
       "    }\n",
       "  \n",
       "    function run_callbacks() {\n",
       "      window._bokeh_onload_callbacks.forEach(function(callback) { callback() });\n",
       "      delete window._bokeh_onload_callbacks\n",
       "      console.info(\"Bokeh: all callbacks have finished\");\n",
       "    }\n",
       "  \n",
       "    function load_libs(js_urls, callback) {\n",
       "      window._bokeh_onload_callbacks.push(callback);\n",
       "      if (window._bokeh_is_loading > 0) {\n",
       "        console.log(\"Bokeh: BokehJS is being loaded, scheduling callback at\", now());\n",
       "        return null;\n",
       "      }\n",
       "      if (js_urls == null || js_urls.length === 0) {\n",
       "        run_callbacks();\n",
       "        return null;\n",
       "      }\n",
       "      console.log(\"Bokeh: BokehJS not loaded, scheduling load and callback at\", now());\n",
       "      window._bokeh_is_loading = js_urls.length;\n",
       "      for (var i = 0; i < js_urls.length; i++) {\n",
       "        var url = js_urls[i];\n",
       "        var s = document.createElement('script');\n",
       "        s.src = url;\n",
       "        s.async = false;\n",
       "        s.onreadystatechange = s.onload = function() {\n",
       "          window._bokeh_is_loading--;\n",
       "          if (window._bokeh_is_loading === 0) {\n",
       "            console.log(\"Bokeh: all BokehJS libraries loaded\");\n",
       "            run_callbacks()\n",
       "          }\n",
       "        };\n",
       "        s.onerror = function() {\n",
       "          console.warn(\"failed to load library \" + url);\n",
       "        };\n",
       "        console.log(\"Bokeh: injecting script tag for BokehJS library: \", url);\n",
       "        document.getElementsByTagName(\"head\")[0].appendChild(s);\n",
       "      }\n",
       "    };var element = document.getElementById(\"34d22263-57b9-4651-b277-ee711b94dc34\");\n",
       "    if (element == null) {\n",
       "      console.log(\"Bokeh: ERROR: autoload.js configured with elementid '34d22263-57b9-4651-b277-ee711b94dc34' but no matching script tag was found. \")\n",
       "      return false;\n",
       "    }\n",
       "  \n",
       "    var js_urls = [];\n",
       "  \n",
       "    var inline_js = [\n",
       "      function(Bokeh) {\n",
       "        (function() {\n",
       "          var fn = function() {\n",
       "            var docs_json = {\"0010063f-600b-47bb-8010-cc7c1f28b19d\":{\"roots\":{\"references\":[{\"attributes\":{\"axis_label\":\"x\",\"formatter\":{\"id\":\"dfa91132-1589-4a08-aacb-db5bdf8363be\",\"type\":\"BasicTickFormatter\"},\"plot\":{\"id\":\"5b29b448-8f00-4de9-a348-df51e584d432\",\"subtype\":\"Chart\",\"type\":\"Plot\"},\"ticker\":{\"id\":\"52675bab-ffc2-47bc-8555-6b1373d81851\",\"type\":\"BasicTicker\"}},\"id\":\"caa50f2b-baee-460a-92cf-9e333a376d04\",\"type\":\"LinearAxis\"},{\"attributes\":{\"bottom_units\":\"screen\",\"fill_alpha\":{\"value\":0.5},\"fill_color\":{\"value\":\"lightgrey\"},\"left_units\":\"screen\",\"level\":\"overlay\",\"line_alpha\":{\"value\":1.0},\"line_color\":{\"value\":\"black\"},\"line_dash\":[4,4],\"line_width\":{\"value\":2},\"plot\":null,\"render_mode\":\"css\",\"right_units\":\"screen\",\"top_units\":\"screen\"},\"id\":\"b89a0434-c0e4-4fb7-a135-30bf2d7cc597\",\"type\":\"BoxAnnotation\"},{\"attributes\":{\"plot\":{\"id\":\"5b29b448-8f00-4de9-a348-df51e584d432\",\"subtype\":\"Chart\",\"type\":\"Plot\"}},\"id\":\"dd1be758-6af0-44dd-b5fa-912cec483424\",\"type\":\"PanTool\"},{\"attributes\":{\"location\":\"top_left\",\"plot\":{\"id\":\"5b29b448-8f00-4de9-a348-df51e584d432\",\"subtype\":\"Chart\",\"type\":\"Plot\"}},\"id\":\"efa3c7a4-b448-4c16-a4d2-a4662d4b0e77\",\"type\":\"Legend\"},{\"attributes\":{\"plot\":{\"id\":\"5b29b448-8f00-4de9-a348-df51e584d432\",\"subtype\":\"Chart\",\"type\":\"Plot\"}},\"id\":\"a0e360cc-4897-41a3-ab9b-14727887486c\",\"type\":\"WheelZoomTool\"},{\"attributes\":{\"overlay\":{\"id\":\"b89a0434-c0e4-4fb7-a135-30bf2d7cc597\",\"type\":\"BoxAnnotation\"},\"plot\":{\"id\":\"5b29b448-8f00-4de9-a348-df51e584d432\",\"subtype\":\"Chart\",\"type\":\"Plot\"}},\"id\":\"74bfb990-6e73-4bd1-9be6-f2a618032331\",\"type\":\"BoxZoomTool\"},{\"attributes\":{\"plot\":null,\"text\":null},\"id\":\"a65acc69-86a0-4fd1-96eb-8e15940d1e9a\",\"type\":\"Title\"},{\"attributes\":{\"plot\":{\"id\":\"5b29b448-8f00-4de9-a348-df51e584d432\",\"subtype\":\"Chart\",\"type\":\"Plot\"}},\"id\":\"79693579-2fc6-4596-a976-833d2c1e56f4\",\"type\":\"SaveTool\"},{\"attributes\":{\"plot\":{\"id\":\"5b29b448-8f00-4de9-a348-df51e584d432\",\"subtype\":\"Chart\",\"type\":\"Plot\"}},\"id\":\"c912d9b4-21a1-49df-9260-6ae886c19b1f\",\"type\":\"ResetTool\"},{\"attributes\":{\"plot\":{\"id\":\"5b29b448-8f00-4de9-a348-df51e584d432\",\"subtype\":\"Chart\",\"type\":\"Plot\"}},\"id\":\"f5b13afe-27cd-43c4-b873-9affa1a52eca\",\"type\":\"HelpTool\"},{\"attributes\":{\"callback\":null,\"end\":11.923087906205232,\"start\":-11.932134357870844},\"id\":\"cd1893d6-df74-4e18-a5e2-d869c446a0f6\",\"type\":\"Range1d\"},{\"attributes\":{\"active_drag\":\"auto\",\"active_scroll\":\"auto\",\"active_tap\":\"auto\",\"tools\":[{\"id\":\"dd1be758-6af0-44dd-b5fa-912cec483424\",\"type\":\"PanTool\"},{\"id\":\"a0e360cc-4897-41a3-ab9b-14727887486c\",\"type\":\"WheelZoomTool\"},{\"id\":\"74bfb990-6e73-4bd1-9be6-f2a618032331\",\"type\":\"BoxZoomTool\"},{\"id\":\"79693579-2fc6-4596-a976-833d2c1e56f4\",\"type\":\"SaveTool\"},{\"id\":\"c912d9b4-21a1-49df-9260-6ae886c19b1f\",\"type\":\"ResetTool\"},{\"id\":\"f5b13afe-27cd-43c4-b873-9affa1a52eca\",\"type\":\"HelpTool\"}]},\"id\":\"5140b3cc-8762-439e-a36e-431ae97e75fc\",\"type\":\"Toolbar\"},{\"attributes\":{\"below\":[{\"id\":\"caa50f2b-baee-460a-92cf-9e333a376d04\",\"type\":\"LinearAxis\"}],\"css_classes\":null,\"height\":400,\"left\":[{\"id\":\"256b89bb-9b88-4894-9276-23d93ccffdcc\",\"type\":\"LinearAxis\"}],\"renderers\":[{\"id\":\"b89a0434-c0e4-4fb7-a135-30bf2d7cc597\",\"type\":\"BoxAnnotation\"},{\"id\":\"268688b7-8442-41ab-b99f-700fa3512384\",\"type\":\"GlyphRenderer\"},{\"id\":\"efa3c7a4-b448-4c16-a4d2-a4662d4b0e77\",\"type\":\"Legend\"},{\"id\":\"caa50f2b-baee-460a-92cf-9e333a376d04\",\"type\":\"LinearAxis\"},{\"id\":\"256b89bb-9b88-4894-9276-23d93ccffdcc\",\"type\":\"LinearAxis\"},{\"id\":\"1e864545-1ed4-49c5-aab3-29c768ad53c6\",\"type\":\"Grid\"},{\"id\":\"93cc473d-ccfb-462f-80ac-8c5927870eef\",\"type\":\"Grid\"}],\"title\":{\"id\":\"a65acc69-86a0-4fd1-96eb-8e15940d1e9a\",\"type\":\"Title\"},\"tool_events\":{\"id\":\"f4ecebdf-cd17-401a-9850-03ddad7890e9\",\"type\":\"ToolEvents\"},\"toolbar\":{\"id\":\"5140b3cc-8762-439e-a36e-431ae97e75fc\",\"type\":\"Toolbar\"},\"width\":750,\"x_mapper_type\":\"auto\",\"x_range\":{\"id\":\"cd1893d6-df74-4e18-a5e2-d869c446a0f6\",\"type\":\"Range1d\"},\"y_mapper_type\":\"auto\",\"y_range\":{\"id\":\"da5b5771-1e06-45ca-9ca2-c3f30a913b6c\",\"type\":\"Range1d\"}},\"id\":\"5b29b448-8f00-4de9-a348-df51e584d432\",\"subtype\":\"Chart\",\"type\":\"Plot\"},{\"attributes\":{\"line_color\":{\"value\":\"#f22c40\"},\"line_width\":{\"value\":2},\"x\":{\"field\":\"x_values\"},\"y\":{\"field\":\"y_values\"}},\"id\":\"8930819d-f5d8-4b7b-8c83-afa6ce631874\",\"type\":\"Line\"},{\"attributes\":{\"callback\":null,\"column_names\":[\"x_values\",\"y_values\"],\"data\":{\"chart_index\":[null,null,null,null,null,null,null,null,null,null,null,null,null,null,null,null,null,null,null,null,null,null,null,null,null,null,null,null,null,null,null,null,null,null,null,null,null,null,null,null,null,null,null,null,null,null,null,null,null,null,null,null,null,null,null,null,null,null,null,null,null,null,null,null,null,null,null,null,null,null,null,null,null,null,null,null,null,null,null,null,null,null,null,null,null,null,null,null,null,null,null,null,null,null,null,null,null,null,null,null,null,null,null,null,null,null,null,null,null,null,null,null,null,null,null,null,null,null,null,null,null,null,null,null,null,null,null,null,null,null,null,null,null,null,null,null,null,null,null,null,null,null,null,null,null,null,null,null,null,null,null,null,null,null,null,null,null,null,null,null,null,null,null,null,null,null,null,null,null,null,null,null,null,null,null,null,null,null,null,null,null,null,null,null,null,null,null,null,null,null,null,null,null,null,null,null,null,null,null,null,null,null,null,null,null,null,null,null,null,null,null,null,null,null,null,null,null,null,null,null,null,null,null,null,null,null,null,null,null,null,null,null,null,null,null,null,null,null,null,null,null,null,null,null,null,null,null,null,null,null,null,null,null,null,null,null,null,null,null,null,null,null,null,null,null,null,null,null,null,null,null,null,null,null,null,null,null,null,null,null,null,null,null,null,null,null,null,null,null,null,null,null,null,null,null,null,null,null,null,null,null,null,null,null,null,null,null,null,null,null,null,null,null,null,null,null,null,null,null,null,null,null,null,null,null,null,null,null,null,null,null,null,null,null,null,null,null,null,null,null,null,null,null,null,null,null,null,null,null,null,null,null,null,null,null,null,null,null,null,null,null,null,null,null,null,null,null,null,null,null,null,null,null,null,null,null,null,null,null,null,null,null,null,null,null,null,null,null,null,null,null,null,null,null,null,null,null,null,null,null,null,null,null,null,null,null,null,null,null,null,null,null,null,null,null,null,null,null,null,null,null,null,null,null,null,null,null,null,null,null,null,null,null,null,null,null,null,null,null,null,null,null,null,null,null,null,null,null,null,null,null,null,null,null,null,null,null,null,null,null,null,null,null,null,null,null,null,null,null,null,null,null,null,null,null,null,null,null,null,null,null,null,null,null,null,null,null,null,null,null,null,null,null,null,null,null,null,null,null,null],\"x_values\":{\"__ndarray__\":\"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\",\"dtype\":\"float64\",\"shape\":[500]},\"y_values\":{\"__ndarray__\":\"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\",\"dtype\":\"float64\",\"shape\":[500]}}},\"id\":\"cd583e8c-ec67-46a2-add7-ae3c8e614865\",\"type\":\"ColumnDataSource\"},{\"attributes\":{\"data_source\":{\"id\":\"cd583e8c-ec67-46a2-add7-ae3c8e614865\",\"type\":\"ColumnDataSource\"},\"glyph\":{\"id\":\"8930819d-f5d8-4b7b-8c83-afa6ce631874\",\"type\":\"Line\"},\"hover_glyph\":null,\"nonselection_glyph\":null,\"selection_glyph\":null},\"id\":\"268688b7-8442-41ab-b99f-700fa3512384\",\"type\":\"GlyphRenderer\"},{\"attributes\":{\"callback\":null,\"end\":361.2214097597009,\"start\":-26.362600866898287},\"id\":\"da5b5771-1e06-45ca-9ca2-c3f30a913b6c\",\"type\":\"Range1d\"},{\"attributes\":{},\"id\":\"f4ecebdf-cd17-401a-9850-03ddad7890e9\",\"type\":\"ToolEvents\"},{\"attributes\":{\"axis_label\":\"y\",\"formatter\":{\"id\":\"e12c6fae-deb6-4a3a-a593-99ab04a2209b\",\"type\":\"BasicTickFormatter\"},\"plot\":{\"id\":\"5b29b448-8f00-4de9-a348-df51e584d432\",\"subtype\":\"Chart\",\"type\":\"Plot\"},\"ticker\":{\"id\":\"51aa884d-7dfe-482d-afee-10ea40ec9bec\",\"type\":\"BasicTicker\"}},\"id\":\"256b89bb-9b88-4894-9276-23d93ccffdcc\",\"type\":\"LinearAxis\"},{\"attributes\":{},\"id\":\"52675bab-ffc2-47bc-8555-6b1373d81851\",\"type\":\"BasicTicker\"},{\"attributes\":{},\"id\":\"e12c6fae-deb6-4a3a-a593-99ab04a2209b\",\"type\":\"BasicTickFormatter\"},{\"attributes\":{\"plot\":{\"id\":\"5b29b448-8f00-4de9-a348-df51e584d432\",\"subtype\":\"Chart\",\"type\":\"Plot\"},\"ticker\":{\"id\":\"52675bab-ffc2-47bc-8555-6b1373d81851\",\"type\":\"BasicTicker\"}},\"id\":\"1e864545-1ed4-49c5-aab3-29c768ad53c6\",\"type\":\"Grid\"},{\"attributes\":{},\"id\":\"51aa884d-7dfe-482d-afee-10ea40ec9bec\",\"type\":\"BasicTicker\"},{\"attributes\":{\"dimension\":1,\"plot\":{\"id\":\"5b29b448-8f00-4de9-a348-df51e584d432\",\"subtype\":\"Chart\",\"type\":\"Plot\"},\"ticker\":{\"id\":\"51aa884d-7dfe-482d-afee-10ea40ec9bec\",\"type\":\"BasicTicker\"}},\"id\":\"93cc473d-ccfb-462f-80ac-8c5927870eef\",\"type\":\"Grid\"},{\"attributes\":{},\"id\":\"dfa91132-1589-4a08-aacb-db5bdf8363be\",\"type\":\"BasicTickFormatter\"}],\"root_ids\":[\"5b29b448-8f00-4de9-a348-df51e584d432\"]},\"title\":\"Bokeh Application\",\"version\":\"0.12.4\"}};\n",
       "            var render_items = [{\"docid\":\"0010063f-600b-47bb-8010-cc7c1f28b19d\",\"elementid\":\"34d22263-57b9-4651-b277-ee711b94dc34\",\"modelid\":\"5b29b448-8f00-4de9-a348-df51e584d432\"}];\n",
       "            \n",
       "            Bokeh.embed.embed_items(docs_json, render_items);\n",
       "          };\n",
       "          if (document.readyState != \"loading\") fn();\n",
       "          else document.addEventListener(\"DOMContentLoaded\", fn);\n",
       "        })();\n",
       "      },\n",
       "      function(Bokeh) {\n",
       "      }\n",
       "    ];\n",
       "  \n",
       "    function run_inline_js() {\n",
       "      \n",
       "      if ((window.Bokeh !== undefined) || (force === true)) {\n",
       "        for (var i = 0; i < inline_js.length; i++) {\n",
       "          inline_js[i](window.Bokeh);\n",
       "        }if (force === true) {\n",
       "          display_loaded();\n",
       "        }} else if (Date.now() < window._bokeh_timeout) {\n",
       "        setTimeout(run_inline_js, 100);\n",
       "      } else if (!window._bokeh_failed_load) {\n",
       "        console.log(\"Bokeh: BokehJS failed to load within specified timeout.\");\n",
       "        window._bokeh_failed_load = true;\n",
       "      } else if (force !== true) {\n",
       "        var cell = $(document.getElementById(\"34d22263-57b9-4651-b277-ee711b94dc34\")).parents('.cell').data().cell;\n",
       "        cell.output_area.append_execute_result(NB_LOAD_WARNING)\n",
       "      }\n",
       "  \n",
       "    }\n",
       "  \n",
       "    if (window._bokeh_is_loading === 0) {\n",
       "      console.log(\"Bokeh: BokehJS loaded, going straight to plotting\");\n",
       "      run_inline_js();\n",
       "    } else {\n",
       "      load_libs(js_urls, function() {\n",
       "        console.log(\"Bokeh: BokehJS plotting callback run at\", now());\n",
       "        run_inline_js();\n",
       "      });\n",
       "    }\n",
       "  }(this));\n",
       "</script>"
      ]
     },
     "metadata": {},
     "output_type": "display_data"
    }
   ],
   "source": [
    "from bokeh.charts import Line\n",
    "y_hat = lin.predict(X)\n",
    "show(Line({'x': x, 'y': y_hat}, x='x', y='y', width=750, height=400))"
   ]
  },
  {
   "cell_type": "markdown",
   "metadata": {
    "deletable": true,
    "editable": true,
    "slideshow": {
     "slide_type": "slide"
    }
   },
   "source": [
    "### Least Squares the way your _grandparents_ did it...\n",
    "\n",
    "...with chalk and a slab of slate."
   ]
  },
  {
   "cell_type": "markdown",
   "metadata": {
    "deletable": true,
    "editable": true,
    "slideshow": {
     "slide_type": "subslide"
    }
   },
   "source": [
    "Construct a function to calculate the sum of squared residuals...\n",
    "\n",
    "$$\n",
    "\\begin{align}\n",
    "    \\text{min}\\ f(\\beta) & = \\frac{1}{2} ||y - X \\beta||^2 \\\\\n",
    "                         & \\\\\n",
    "                         & = \\frac{1}{2} (y - X \\beta)'(y - X \\beta) \\\\\n",
    "                         & \\\\\n",
    "                         & = \\frac{1}{2} y'y - y'X\\beta + \\frac{1}{2} \\beta'X'X\\beta \\\\\n",
    "                         & \\\\\n",
    "                         & = \\frac{1}{2} y'y - y'X\\beta + \\frac{1}{2} \\beta'X'X\\beta \\\\\n",
    "                         & \\\\\n",
    "\\end{align}\n",
    "$$"
   ]
  },
  {
   "cell_type": "markdown",
   "metadata": {
    "deletable": true,
    "editable": true,
    "slideshow": {
     "slide_type": "subslide"
    }
   },
   "source": [
    "#### First Order Necessary Conditions\n",
    "\n",
    "...and take its derivative to find a closed-form solution.\n",
    "\n",
    "$$\\nabla f(\\beta) = X'X\\beta - y'X\\beta = 0$$  \n",
    "$$\\beta = (X'X)^{-1}X'y$$"
   ]
  },
  {
   "cell_type": "code",
   "execution_count": 5,
   "metadata": {
    "collapsed": false,
    "deletable": true,
    "editable": true,
    "slideshow": {
     "slide_type": "subslide"
    }
   },
   "outputs": [
    {
     "name": "stdout",
     "output_type": "stream",
     "text": [
      "[ 3.07656564 -1.85778333  6.21592918]\n"
     ]
    }
   ],
   "source": [
    "from numpy.linalg import inv\n",
    "\n",
    "# beta = (X'X)^-1 * X * y\n",
    "Xt = X.transpose()\n",
    "pseudo_inv = inv(np.matmul(Xt, X))\n",
    "beta = np.matmul(np.matmul(pseudo_inv, Xt), y)\n",
    "print(beta)"
   ]
  },
  {
   "cell_type": "markdown",
   "metadata": {
    "slideshow": {
     "slide_type": "subslide"
    }
   },
   "source": [
    "How'd grandma and grandpa do?"
   ]
  },
  {
   "cell_type": "code",
   "execution_count": 6,
   "metadata": {
    "collapsed": false,
    "deletable": true,
    "editable": true,
    "slideshow": {
     "slide_type": "-"
    }
   },
   "outputs": [
    {
     "data": {
      "text/html": [
       "\n",
       "\n",
       "    <div class=\"bk-root\">\n",
       "        <div class=\"bk-plotdiv\" id=\"ac133b82-f558-417f-b2fc-ea8fdc81c23e\"></div>\n",
       "    </div>\n",
       "<script type=\"text/javascript\">\n",
       "  \n",
       "  (function(global) {\n",
       "    function now() {\n",
       "      return new Date();\n",
       "    }\n",
       "  \n",
       "    var force = false;\n",
       "  \n",
       "    if (typeof (window._bokeh_onload_callbacks) === \"undefined\" || force === true) {\n",
       "      window._bokeh_onload_callbacks = [];\n",
       "      window._bokeh_is_loading = undefined;\n",
       "    }\n",
       "  \n",
       "  \n",
       "    \n",
       "    if (typeof (window._bokeh_timeout) === \"undefined\" || force === true) {\n",
       "      window._bokeh_timeout = Date.now() + 0;\n",
       "      window._bokeh_failed_load = false;\n",
       "    }\n",
       "  \n",
       "    var NB_LOAD_WARNING = {'data': {'text/html':\n",
       "       \"<div style='background-color: #fdd'>\\n\"+\n",
       "       \"<p>\\n\"+\n",
       "       \"BokehJS does not appear to have successfully loaded. If loading BokehJS from CDN, this \\n\"+\n",
       "       \"may be due to a slow or bad network connection. Possible fixes:\\n\"+\n",
       "       \"</p>\\n\"+\n",
       "       \"<ul>\\n\"+\n",
       "       \"<li>re-rerun `output_notebook()` to attempt to load from CDN again, or</li>\\n\"+\n",
       "       \"<li>use INLINE resources instead, as so:</li>\\n\"+\n",
       "       \"</ul>\\n\"+\n",
       "       \"<code>\\n\"+\n",
       "       \"from bokeh.resources import INLINE\\n\"+\n",
       "       \"output_notebook(resources=INLINE)\\n\"+\n",
       "       \"</code>\\n\"+\n",
       "       \"</div>\"}};\n",
       "  \n",
       "    function display_loaded() {\n",
       "      if (window.Bokeh !== undefined) {\n",
       "        document.getElementById(\"ac133b82-f558-417f-b2fc-ea8fdc81c23e\").textContent = \"BokehJS successfully loaded.\";\n",
       "      } else if (Date.now() < window._bokeh_timeout) {\n",
       "        setTimeout(display_loaded, 100)\n",
       "      }\n",
       "    }\n",
       "  \n",
       "    function run_callbacks() {\n",
       "      window._bokeh_onload_callbacks.forEach(function(callback) { callback() });\n",
       "      delete window._bokeh_onload_callbacks\n",
       "      console.info(\"Bokeh: all callbacks have finished\");\n",
       "    }\n",
       "  \n",
       "    function load_libs(js_urls, callback) {\n",
       "      window._bokeh_onload_callbacks.push(callback);\n",
       "      if (window._bokeh_is_loading > 0) {\n",
       "        console.log(\"Bokeh: BokehJS is being loaded, scheduling callback at\", now());\n",
       "        return null;\n",
       "      }\n",
       "      if (js_urls == null || js_urls.length === 0) {\n",
       "        run_callbacks();\n",
       "        return null;\n",
       "      }\n",
       "      console.log(\"Bokeh: BokehJS not loaded, scheduling load and callback at\", now());\n",
       "      window._bokeh_is_loading = js_urls.length;\n",
       "      for (var i = 0; i < js_urls.length; i++) {\n",
       "        var url = js_urls[i];\n",
       "        var s = document.createElement('script');\n",
       "        s.src = url;\n",
       "        s.async = false;\n",
       "        s.onreadystatechange = s.onload = function() {\n",
       "          window._bokeh_is_loading--;\n",
       "          if (window._bokeh_is_loading === 0) {\n",
       "            console.log(\"Bokeh: all BokehJS libraries loaded\");\n",
       "            run_callbacks()\n",
       "          }\n",
       "        };\n",
       "        s.onerror = function() {\n",
       "          console.warn(\"failed to load library \" + url);\n",
       "        };\n",
       "        console.log(\"Bokeh: injecting script tag for BokehJS library: \", url);\n",
       "        document.getElementsByTagName(\"head\")[0].appendChild(s);\n",
       "      }\n",
       "    };var element = document.getElementById(\"ac133b82-f558-417f-b2fc-ea8fdc81c23e\");\n",
       "    if (element == null) {\n",
       "      console.log(\"Bokeh: ERROR: autoload.js configured with elementid 'ac133b82-f558-417f-b2fc-ea8fdc81c23e' but no matching script tag was found. \")\n",
       "      return false;\n",
       "    }\n",
       "  \n",
       "    var js_urls = [];\n",
       "  \n",
       "    var inline_js = [\n",
       "      function(Bokeh) {\n",
       "        (function() {\n",
       "          var fn = function() {\n",
       "            var docs_json = {\"d84e77e7-6089-4bbd-a926-7e78be8fc1f2\":{\"roots\":{\"references\":[{\"attributes\":{\"overlay\":{\"id\":\"88d0a25e-e51d-49de-8aa3-e4ca0db79321\",\"type\":\"BoxAnnotation\"},\"plot\":{\"id\":\"c5808d8e-4303-499c-a3b0-c327170813be\",\"subtype\":\"Chart\",\"type\":\"Plot\"}},\"id\":\"64793ae4-595a-457c-93c4-b6aab4f97ce3\",\"type\":\"BoxZoomTool\"},{\"attributes\":{\"bottom_units\":\"screen\",\"fill_alpha\":{\"value\":0.5},\"fill_color\":{\"value\":\"lightgrey\"},\"left_units\":\"screen\",\"level\":\"overlay\",\"line_alpha\":{\"value\":1.0},\"line_color\":{\"value\":\"black\"},\"line_dash\":[4,4],\"line_width\":{\"value\":2},\"plot\":null,\"render_mode\":\"css\",\"right_units\":\"screen\",\"top_units\":\"screen\"},\"id\":\"88d0a25e-e51d-49de-8aa3-e4ca0db79321\",\"type\":\"BoxAnnotation\"},{\"attributes\":{\"plot\":{\"id\":\"c5808d8e-4303-499c-a3b0-c327170813be\",\"subtype\":\"Chart\",\"type\":\"Plot\"}},\"id\":\"28b94938-324a-4430-b555-b60ff181c238\",\"type\":\"WheelZoomTool\"},{\"attributes\":{\"plot\":{\"id\":\"c5808d8e-4303-499c-a3b0-c327170813be\",\"subtype\":\"Chart\",\"type\":\"Plot\"}},\"id\":\"5afe08f0-89b7-4b49-b726-b3921fdb3cc7\",\"type\":\"HelpTool\"},{\"attributes\":{\"plot\":{\"id\":\"c5808d8e-4303-499c-a3b0-c327170813be\",\"subtype\":\"Chart\",\"type\":\"Plot\"}},\"id\":\"765c5924-341d-4703-b875-7f102f06c17e\",\"type\":\"SaveTool\"},{\"attributes\":{\"plot\":{\"id\":\"c5808d8e-4303-499c-a3b0-c327170813be\",\"subtype\":\"Chart\",\"type\":\"Plot\"}},\"id\":\"9c7af345-d5cf-4957-b8b2-c1f7ed8b4e20\",\"type\":\"PanTool\"},{\"attributes\":{\"location\":\"top_left\",\"plot\":{\"id\":\"c5808d8e-4303-499c-a3b0-c327170813be\",\"subtype\":\"Chart\",\"type\":\"Plot\"}},\"id\":\"b770ffa7-ca9e-4ce2-aabb-47297c2b93ae\",\"type\":\"Legend\"},{\"attributes\":{\"plot\":{\"id\":\"c5808d8e-4303-499c-a3b0-c327170813be\",\"subtype\":\"Chart\",\"type\":\"Plot\"}},\"id\":\"c6967ad7-6424-46ec-a705-57d1133f274d\",\"type\":\"ResetTool\"},{\"attributes\":{\"callback\":null,\"column_names\":[\"x_values\",\"y_values\"],\"data\":{\"chart_index\":[null,null,null,null,null,null,null,null,null,null,null,null,null,null,null,null,null,null,null,null,null,null,null,null,null,null,null,null,null,null,null,null,null,null,null,null,null,null,null,null,null,null,null,null,null,null,null,null,null,null,null,null,null,null,null,null,null,null,null,null,null,null,null,null,null,null,null,null,null,null,null,null,null,null,null,null,null,null,null,null,null,null,null,null,null,null,null,null,null,null,null,null,null,null,null,null,null,null,null,null,null,null,null,null,null,null,null,null,null,null,null,null,null,null,null,null,null,null,null,null,null,null,null,null,null,null,null,null,null,null,null,null,null,null,null,null,null,null,null,null,null,null,null,null,null,null,null,null,null,null,null,null,null,null,null,null,null,null,null,null,null,null,null,null,null,null,null,null,null,null,null,null,null,null,null,null,null,null,null,null,null,null,null,null,null,null,null,null,null,null,null,null,null,null,null,null,null,null,null,null,null,null,null,null,null,null,null,null,null,null,null,null,null,null,null,null,null,null,null,null,null,null,null,null,null,null,null,null,null,null,null,null,null,null,null,null,null,null,null,null,null,null,null,null,null,null,null,null,null,null,null,null,null,null,null,null,null,null,null,null,null,null,null,null,null,null,null,null,null,null,null,null,null,null,null,null,null,null,null,null,null,null,null,null,null,null,null,null,null,null,null,null,null,null,null,null,null,null,null,null,null,null,null,null,null,null,null,null,null,null,null,null,null,null,null,null,null,null,null,null,null,null,null,null,null,null,null,null,null,null,null,null,null,null,null,null,null,null,null,null,null,null,null,null,null,null,null,null,null,null,null,null,null,null,null,null,null,null,null,null,null,null,null,null,null,null,null,null,null,null,null,null,null,null,null,null,null,null,null,null,null,null,null,null,null,null,null,null,null,null,null,null,null,null,null,null,null,null,null,null,null,null,null,null,null,null,null,null,null,null,null,null,null,null,null,null,null,null,null,null,null,null,null,null,null,null,null,null,null,null,null,null,null,null,null,null,null,null,null,null,null,null,null,null,null,null,null,null,null,null,null,null,null,null,null,null,null,null,null,null,null,null,null,null,null,null,null,null,null,null,null,null,null,null,null,null,null,null,null,null,null,null,null,null,null,null,null,null,null,null,null,null,null,null,null,null,null,null,null,null],\"x_values\":{\"__ndarray__\":\"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\",\"dtype\":\"float64\",\"shape\":[500]},\"y_values\":{\"__ndarray__\":\"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\",\"dtype\":\"float64\",\"shape\":[500]}}},\"id\":\"96420326-4d5d-414d-9127-1dcc55f9a858\",\"type\":\"ColumnDataSource\"},{\"attributes\":{\"axis_label\":\"x\",\"formatter\":{\"id\":\"c8e33f6c-84e9-4a09-8bff-3f352ef4f099\",\"type\":\"BasicTickFormatter\"},\"plot\":{\"id\":\"c5808d8e-4303-499c-a3b0-c327170813be\",\"subtype\":\"Chart\",\"type\":\"Plot\"},\"ticker\":{\"id\":\"38641df4-2873-491d-a496-80464813e779\",\"type\":\"BasicTicker\"}},\"id\":\"8db72514-ac22-41de-96c5-3e1608209c36\",\"type\":\"LinearAxis\"},{\"attributes\":{\"data_source\":{\"id\":\"96420326-4d5d-414d-9127-1dcc55f9a858\",\"type\":\"ColumnDataSource\"},\"glyph\":{\"id\":\"3c6beb52-0ce7-405d-af39-8841c19a3a2a\",\"type\":\"Line\"},\"hover_glyph\":null,\"nonselection_glyph\":null,\"selection_glyph\":null},\"id\":\"02e65e82-a8fb-41f8-a85e-7f667e8cfbcf\",\"type\":\"GlyphRenderer\"},{\"attributes\":{\"line_color\":{\"value\":\"#f22c40\"},\"line_width\":{\"value\":2},\"x\":{\"field\":\"x_values\"},\"y\":{\"field\":\"y_values\"}},\"id\":\"3c6beb52-0ce7-405d-af39-8841c19a3a2a\",\"type\":\"Line\"},{\"attributes\":{\"callback\":null,\"end\":11.923087906205232,\"start\":-11.932134357870844},\"id\":\"7697530b-043f-4389-895d-7d97f36d2eb1\",\"type\":\"Range1d\"},{\"attributes\":{\"plot\":null,\"text\":null},\"id\":\"6516867d-6e94-49c8-a237-4d38f808146b\",\"type\":\"Title\"},{\"attributes\":{\"axis_label\":\"y\",\"formatter\":{\"id\":\"80bb7fa5-6793-4efc-a765-7a268247da6e\",\"type\":\"BasicTickFormatter\"},\"plot\":{\"id\":\"c5808d8e-4303-499c-a3b0-c327170813be\",\"subtype\":\"Chart\",\"type\":\"Plot\"},\"ticker\":{\"id\":\"bceae44e-52cd-4914-9b0d-70cc6e2e7c26\",\"type\":\"BasicTicker\"}},\"id\":\"fcc24e18-9deb-48ab-8fd1-ad8e778a45e4\",\"type\":\"LinearAxis\"},{\"attributes\":{},\"id\":\"38641df4-2873-491d-a496-80464813e779\",\"type\":\"BasicTicker\"},{\"attributes\":{},\"id\":\"80bb7fa5-6793-4efc-a765-7a268247da6e\",\"type\":\"BasicTickFormatter\"},{\"attributes\":{\"plot\":{\"id\":\"c5808d8e-4303-499c-a3b0-c327170813be\",\"subtype\":\"Chart\",\"type\":\"Plot\"},\"ticker\":{\"id\":\"38641df4-2873-491d-a496-80464813e779\",\"type\":\"BasicTicker\"}},\"id\":\"fc284e7a-11fa-484c-942e-360087ad71c8\",\"type\":\"Grid\"},{\"attributes\":{},\"id\":\"bceae44e-52cd-4914-9b0d-70cc6e2e7c26\",\"type\":\"BasicTicker\"},{\"attributes\":{\"dimension\":1,\"plot\":{\"id\":\"c5808d8e-4303-499c-a3b0-c327170813be\",\"subtype\":\"Chart\",\"type\":\"Plot\"},\"ticker\":{\"id\":\"bceae44e-52cd-4914-9b0d-70cc6e2e7c26\",\"type\":\"BasicTicker\"}},\"id\":\"418376dd-5a20-41cd-bd95-05f86462894a\",\"type\":\"Grid\"},{\"attributes\":{\"callback\":null,\"end\":361.221409759701,\"start\":-26.362600866898322},\"id\":\"f04a037e-f871-4e00-8c08-c34f8a73f279\",\"type\":\"Range1d\"},{\"attributes\":{},\"id\":\"c8e33f6c-84e9-4a09-8bff-3f352ef4f099\",\"type\":\"BasicTickFormatter\"},{\"attributes\":{},\"id\":\"2e647fb8-bafe-4ca7-89ca-35cc00131141\",\"type\":\"ToolEvents\"},{\"attributes\":{\"below\":[{\"id\":\"8db72514-ac22-41de-96c5-3e1608209c36\",\"type\":\"LinearAxis\"}],\"css_classes\":null,\"height\":400,\"left\":[{\"id\":\"fcc24e18-9deb-48ab-8fd1-ad8e778a45e4\",\"type\":\"LinearAxis\"}],\"renderers\":[{\"id\":\"88d0a25e-e51d-49de-8aa3-e4ca0db79321\",\"type\":\"BoxAnnotation\"},{\"id\":\"02e65e82-a8fb-41f8-a85e-7f667e8cfbcf\",\"type\":\"GlyphRenderer\"},{\"id\":\"b770ffa7-ca9e-4ce2-aabb-47297c2b93ae\",\"type\":\"Legend\"},{\"id\":\"8db72514-ac22-41de-96c5-3e1608209c36\",\"type\":\"LinearAxis\"},{\"id\":\"fcc24e18-9deb-48ab-8fd1-ad8e778a45e4\",\"type\":\"LinearAxis\"},{\"id\":\"fc284e7a-11fa-484c-942e-360087ad71c8\",\"type\":\"Grid\"},{\"id\":\"418376dd-5a20-41cd-bd95-05f86462894a\",\"type\":\"Grid\"}],\"title\":{\"id\":\"6516867d-6e94-49c8-a237-4d38f808146b\",\"type\":\"Title\"},\"tool_events\":{\"id\":\"2e647fb8-bafe-4ca7-89ca-35cc00131141\",\"type\":\"ToolEvents\"},\"toolbar\":{\"id\":\"9c3c3d94-9b4e-40c6-afce-a46fe4484e00\",\"type\":\"Toolbar\"},\"width\":750,\"x_mapper_type\":\"auto\",\"x_range\":{\"id\":\"7697530b-043f-4389-895d-7d97f36d2eb1\",\"type\":\"Range1d\"},\"y_mapper_type\":\"auto\",\"y_range\":{\"id\":\"f04a037e-f871-4e00-8c08-c34f8a73f279\",\"type\":\"Range1d\"}},\"id\":\"c5808d8e-4303-499c-a3b0-c327170813be\",\"subtype\":\"Chart\",\"type\":\"Plot\"},{\"attributes\":{\"active_drag\":\"auto\",\"active_scroll\":\"auto\",\"active_tap\":\"auto\",\"tools\":[{\"id\":\"9c7af345-d5cf-4957-b8b2-c1f7ed8b4e20\",\"type\":\"PanTool\"},{\"id\":\"28b94938-324a-4430-b555-b60ff181c238\",\"type\":\"WheelZoomTool\"},{\"id\":\"64793ae4-595a-457c-93c4-b6aab4f97ce3\",\"type\":\"BoxZoomTool\"},{\"id\":\"765c5924-341d-4703-b875-7f102f06c17e\",\"type\":\"SaveTool\"},{\"id\":\"c6967ad7-6424-46ec-a705-57d1133f274d\",\"type\":\"ResetTool\"},{\"id\":\"5afe08f0-89b7-4b49-b726-b3921fdb3cc7\",\"type\":\"HelpTool\"}]},\"id\":\"9c3c3d94-9b4e-40c6-afce-a46fe4484e00\",\"type\":\"Toolbar\"}],\"root_ids\":[\"c5808d8e-4303-499c-a3b0-c327170813be\"]},\"title\":\"Bokeh Application\",\"version\":\"0.12.4\"}};\n",
       "            var render_items = [{\"docid\":\"d84e77e7-6089-4bbd-a926-7e78be8fc1f2\",\"elementid\":\"ac133b82-f558-417f-b2fc-ea8fdc81c23e\",\"modelid\":\"c5808d8e-4303-499c-a3b0-c327170813be\"}];\n",
       "            \n",
       "            Bokeh.embed.embed_items(docs_json, render_items);\n",
       "          };\n",
       "          if (document.readyState != \"loading\") fn();\n",
       "          else document.addEventListener(\"DOMContentLoaded\", fn);\n",
       "        })();\n",
       "      },\n",
       "      function(Bokeh) {\n",
       "      }\n",
       "    ];\n",
       "  \n",
       "    function run_inline_js() {\n",
       "      \n",
       "      if ((window.Bokeh !== undefined) || (force === true)) {\n",
       "        for (var i = 0; i < inline_js.length; i++) {\n",
       "          inline_js[i](window.Bokeh);\n",
       "        }if (force === true) {\n",
       "          display_loaded();\n",
       "        }} else if (Date.now() < window._bokeh_timeout) {\n",
       "        setTimeout(run_inline_js, 100);\n",
       "      } else if (!window._bokeh_failed_load) {\n",
       "        console.log(\"Bokeh: BokehJS failed to load within specified timeout.\");\n",
       "        window._bokeh_failed_load = true;\n",
       "      } else if (force !== true) {\n",
       "        var cell = $(document.getElementById(\"ac133b82-f558-417f-b2fc-ea8fdc81c23e\")).parents('.cell').data().cell;\n",
       "        cell.output_area.append_execute_result(NB_LOAD_WARNING)\n",
       "      }\n",
       "  \n",
       "    }\n",
       "  \n",
       "    if (window._bokeh_is_loading === 0) {\n",
       "      console.log(\"Bokeh: BokehJS loaded, going straight to plotting\");\n",
       "      run_inline_js();\n",
       "    } else {\n",
       "      load_libs(js_urls, function() {\n",
       "        console.log(\"Bokeh: BokehJS plotting callback run at\", now());\n",
       "        run_inline_js();\n",
       "      });\n",
       "    }\n",
       "  }(this));\n",
       "</script>"
      ]
     },
     "metadata": {},
     "output_type": "display_data"
    }
   ],
   "source": [
    "y_hat = [beta[0]*xi**2 + beta[1]*xi + beta[2] for xi in x]\n",
    "show(Line({'x': x, 'y': y_hat}, x='x', y='y', width=750, height=400))"
   ]
  },
  {
   "cell_type": "markdown",
   "metadata": {
    "deletable": true,
    "editable": true,
    "slideshow": {
     "slide_type": "slide"
    }
   },
   "source": [
    "### Least Squares the way your _crazy uncle Eddie_ does it...\n",
    "\n",
    "...'cause he used to work at NASA and code in Forth."
   ]
  },
  {
   "cell_type": "markdown",
   "metadata": {
    "deletable": true,
    "editable": true,
    "slideshow": {
     "slide_type": "subslide"
    }
   },
   "source": [
    "[`cvxopt`](http://cvxopt.org/) provides a [`qp`](http://cvxopt.org/userguide/coneprog.html#quadratic-programming) method that can solve anything of this form.\n",
    "\n",
    "$$\n",
    "\\begin{align}\n",
    "    \\text{min}  \\ \\ \\ & \\ \\frac{1}{2} \\beta'P\\beta + q'\\beta \\\\\n",
    "                      & \\\\\n",
    "    \\text{s.t.} \\ \\ \\ & \\ G\\beta \\preceq h \\\\\n",
    "                      & \\\\\n",
    "                      & \\ A\\beta = b\n",
    "\\end{align}\n",
    "$$\n"
   ]
  },
  {
   "cell_type": "markdown",
   "metadata": {
    "deletable": true,
    "editable": true,
    "slideshow": {
     "slide_type": "subslide"
    }
   },
   "source": [
    "So we need to convert from \n",
    "\n",
    "$$\\frac{1}{2} \\beta'X'X\\beta - y'X\\beta + \\frac{1}{2} y'y $$\n",
    "\n",
    "to another form\n",
    "\n",
    "$$\\frac{1}{2} \\beta'P\\beta + q'\\beta$$"
   ]
  },
  {
   "cell_type": "markdown",
   "metadata": {
    "deletable": true,
    "editable": true,
    "slideshow": {
     "slide_type": "fragment"
    }
   },
   "source": [
    "which is simply\n",
    "\n",
    "$$P = X'X, q = -y$$"
   ]
  },
  {
   "cell_type": "code",
   "execution_count": 7,
   "metadata": {
    "collapsed": false,
    "deletable": true,
    "editable": true,
    "slideshow": {
     "slide_type": "subslide"
    }
   },
   "outputs": [
    {
     "name": "stdout",
     "output_type": "stream",
     "text": [
      "[ 3.08e+00]\n",
      "[-1.86e+00]\n",
      "[ 6.22e+00]\n",
      "\n"
     ]
    }
   ],
   "source": [
    "import cvxopt as cvx\n",
    "\n",
    "P = cvx.matrix(np.matmul(Xt, X))\n",
    "q = cvx.matrix(-1 * np.matmul(y.transpose(), X))\n",
    "solution = cvx.solvers.qp(P, q)\n",
    "beta = solution['x'] # unrelated to our x\n",
    "print(beta)"
   ]
  },
  {
   "cell_type": "markdown",
   "metadata": {
    "slideshow": {
     "slide_type": "subslide"
    }
   },
   "source": [
    "How'd Crazy Uncle Eddie do?"
   ]
  },
  {
   "cell_type": "code",
   "execution_count": 8,
   "metadata": {
    "collapsed": false,
    "deletable": true,
    "editable": true,
    "slideshow": {
     "slide_type": "-"
    }
   },
   "outputs": [
    {
     "data": {
      "text/html": [
       "\n",
       "\n",
       "    <div class=\"bk-root\">\n",
       "        <div class=\"bk-plotdiv\" id=\"9fb41786-cf89-45bd-b8a7-224d9b00b143\"></div>\n",
       "    </div>\n",
       "<script type=\"text/javascript\">\n",
       "  \n",
       "  (function(global) {\n",
       "    function now() {\n",
       "      return new Date();\n",
       "    }\n",
       "  \n",
       "    var force = false;\n",
       "  \n",
       "    if (typeof (window._bokeh_onload_callbacks) === \"undefined\" || force === true) {\n",
       "      window._bokeh_onload_callbacks = [];\n",
       "      window._bokeh_is_loading = undefined;\n",
       "    }\n",
       "  \n",
       "  \n",
       "    \n",
       "    if (typeof (window._bokeh_timeout) === \"undefined\" || force === true) {\n",
       "      window._bokeh_timeout = Date.now() + 0;\n",
       "      window._bokeh_failed_load = false;\n",
       "    }\n",
       "  \n",
       "    var NB_LOAD_WARNING = {'data': {'text/html':\n",
       "       \"<div style='background-color: #fdd'>\\n\"+\n",
       "       \"<p>\\n\"+\n",
       "       \"BokehJS does not appear to have successfully loaded. If loading BokehJS from CDN, this \\n\"+\n",
       "       \"may be due to a slow or bad network connection. Possible fixes:\\n\"+\n",
       "       \"</p>\\n\"+\n",
       "       \"<ul>\\n\"+\n",
       "       \"<li>re-rerun `output_notebook()` to attempt to load from CDN again, or</li>\\n\"+\n",
       "       \"<li>use INLINE resources instead, as so:</li>\\n\"+\n",
       "       \"</ul>\\n\"+\n",
       "       \"<code>\\n\"+\n",
       "       \"from bokeh.resources import INLINE\\n\"+\n",
       "       \"output_notebook(resources=INLINE)\\n\"+\n",
       "       \"</code>\\n\"+\n",
       "       \"</div>\"}};\n",
       "  \n",
       "    function display_loaded() {\n",
       "      if (window.Bokeh !== undefined) {\n",
       "        document.getElementById(\"9fb41786-cf89-45bd-b8a7-224d9b00b143\").textContent = \"BokehJS successfully loaded.\";\n",
       "      } else if (Date.now() < window._bokeh_timeout) {\n",
       "        setTimeout(display_loaded, 100)\n",
       "      }\n",
       "    }\n",
       "  \n",
       "    function run_callbacks() {\n",
       "      window._bokeh_onload_callbacks.forEach(function(callback) { callback() });\n",
       "      delete window._bokeh_onload_callbacks\n",
       "      console.info(\"Bokeh: all callbacks have finished\");\n",
       "    }\n",
       "  \n",
       "    function load_libs(js_urls, callback) {\n",
       "      window._bokeh_onload_callbacks.push(callback);\n",
       "      if (window._bokeh_is_loading > 0) {\n",
       "        console.log(\"Bokeh: BokehJS is being loaded, scheduling callback at\", now());\n",
       "        return null;\n",
       "      }\n",
       "      if (js_urls == null || js_urls.length === 0) {\n",
       "        run_callbacks();\n",
       "        return null;\n",
       "      }\n",
       "      console.log(\"Bokeh: BokehJS not loaded, scheduling load and callback at\", now());\n",
       "      window._bokeh_is_loading = js_urls.length;\n",
       "      for (var i = 0; i < js_urls.length; i++) {\n",
       "        var url = js_urls[i];\n",
       "        var s = document.createElement('script');\n",
       "        s.src = url;\n",
       "        s.async = false;\n",
       "        s.onreadystatechange = s.onload = function() {\n",
       "          window._bokeh_is_loading--;\n",
       "          if (window._bokeh_is_loading === 0) {\n",
       "            console.log(\"Bokeh: all BokehJS libraries loaded\");\n",
       "            run_callbacks()\n",
       "          }\n",
       "        };\n",
       "        s.onerror = function() {\n",
       "          console.warn(\"failed to load library \" + url);\n",
       "        };\n",
       "        console.log(\"Bokeh: injecting script tag for BokehJS library: \", url);\n",
       "        document.getElementsByTagName(\"head\")[0].appendChild(s);\n",
       "      }\n",
       "    };var element = document.getElementById(\"9fb41786-cf89-45bd-b8a7-224d9b00b143\");\n",
       "    if (element == null) {\n",
       "      console.log(\"Bokeh: ERROR: autoload.js configured with elementid '9fb41786-cf89-45bd-b8a7-224d9b00b143' but no matching script tag was found. \")\n",
       "      return false;\n",
       "    }\n",
       "  \n",
       "    var js_urls = [];\n",
       "  \n",
       "    var inline_js = [\n",
       "      function(Bokeh) {\n",
       "        (function() {\n",
       "          var fn = function() {\n",
       "            var docs_json = {\"7421b5ff-4bb3-4840-9ca7-1f4580d35630\":{\"roots\":{\"references\":[{\"attributes\":{\"overlay\":{\"id\":\"6a0f9846-609c-4059-9ae5-1467a57c590f\",\"type\":\"BoxAnnotation\"},\"plot\":{\"id\":\"574d740f-5cca-4362-b747-c0e0ba3a6db2\",\"subtype\":\"Chart\",\"type\":\"Plot\"}},\"id\":\"996af546-7c51-45d2-90d1-33a6079501a5\",\"type\":\"BoxZoomTool\"},{\"attributes\":{\"callback\":null,\"column_names\":[\"x_values\",\"y_values\"],\"data\":{\"chart_index\":[null,null,null,null,null,null,null,null,null,null,null,null,null,null,null,null,null,null,null,null,null,null,null,null,null,null,null,null,null,null,null,null,null,null,null,null,null,null,null,null,null,null,null,null,null,null,null,null,null,null,null,null,null,null,null,null,null,null,null,null,null,null,null,null,null,null,null,null,null,null,null,null,null,null,null,null,null,null,null,null,null,null,null,null,null,null,null,null,null,null,null,null,null,null,null,null,null,null,null,null,null,null,null,null,null,null,null,null,null,null,null,null,null,null,null,null,null,null,null,null,null,null,null,null,null,null,null,null,null,null,null,null,null,null,null,null,null,null,null,null,null,null,null,null,null,null,null,null,null,null,null,null,null,null,null,null,null,null,null,null,null,null,null,null,null,null,null,null,null,null,null,null,null,null,null,null,null,null,null,null,null,null,null,null,null,null,null,null,null,null,null,null,null,null,null,null,null,null,null,null,null,null,null,null,null,null,null,null,null,null,null,null,null,null,null,null,null,null,null,null,null,null,null,null,null,null,null,null,null,null,null,null,null,null,null,null,null,null,null,null,null,null,null,null,null,null,null,null,null,null,null,null,null,null,null,null,null,null,null,null,null,null,null,null,null,null,null,null,null,null,null,null,null,null,null,null,null,null,null,null,null,null,null,null,null,null,null,null,null,null,null,null,null,null,null,null,null,null,null,null,null,null,null,null,null,null,null,null,null,null,null,null,null,null,null,null,null,null,null,null,null,null,null,null,null,null,null,null,null,null,null,null,null,null,null,null,null,null,null,null,null,null,null,null,null,null,null,null,null,null,null,null,null,null,null,null,null,null,null,null,null,null,null,null,null,null,null,null,null,null,null,null,null,null,null,null,null,null,null,null,null,null,null,null,null,null,null,null,null,null,null,null,null,null,null,null,null,null,null,null,null,null,null,null,null,null,null,null,null,null,null,null,null,null,null,null,null,null,null,null,null,null,null,null,null,null,null,null,null,null,null,null,null,null,null,null,null,null,null,null,null,null,null,null,null,null,null,null,null,null,null,null,null,null,null,null,null,null,null,null,null,null,null,null,null,null,null,null,null,null,null,null,null,null,null,null,null,null,null,null,null,null,null,null,null,null,null,null,null,null,null,null,null,null,null,null,null,null,null,null],\"x_values\":{\"__ndarray__\":\"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\",\"dtype\":\"float64\",\"shape\":[500]},\"y_values\":{\"__ndarray__\":\"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\",\"dtype\":\"float64\",\"shape\":[500]}}},\"id\":\"8592e6c6-aef3-43a3-879d-aabb222234d4\",\"type\":\"ColumnDataSource\"},{\"attributes\":{\"plot\":{\"id\":\"574d740f-5cca-4362-b747-c0e0ba3a6db2\",\"subtype\":\"Chart\",\"type\":\"Plot\"}},\"id\":\"0ad5cb3f-e662-4f92-aee1-1717e4f28d41\",\"type\":\"SaveTool\"},{\"attributes\":{\"plot\":{\"id\":\"574d740f-5cca-4362-b747-c0e0ba3a6db2\",\"subtype\":\"Chart\",\"type\":\"Plot\"}},\"id\":\"726dee6a-3728-4184-be1e-3b0cd5ac2434\",\"type\":\"ResetTool\"},{\"attributes\":{\"plot\":{\"id\":\"574d740f-5cca-4362-b747-c0e0ba3a6db2\",\"subtype\":\"Chart\",\"type\":\"Plot\"}},\"id\":\"9e1b88fb-0e07-41f3-a90f-389aad456fe2\",\"type\":\"HelpTool\"},{\"attributes\":{\"axis_label\":\"x\",\"formatter\":{\"id\":\"f172b4ec-cd7e-4452-adf8-7f02cb35d6c7\",\"type\":\"BasicTickFormatter\"},\"plot\":{\"id\":\"574d740f-5cca-4362-b747-c0e0ba3a6db2\",\"subtype\":\"Chart\",\"type\":\"Plot\"},\"ticker\":{\"id\":\"5957cfe1-2344-4bb9-9ada-4c4214033673\",\"type\":\"BasicTicker\"}},\"id\":\"42d03f68-60f5-42ba-8db4-29dd1c2a6740\",\"type\":\"LinearAxis\"},{\"attributes\":{\"data_source\":{\"id\":\"8592e6c6-aef3-43a3-879d-aabb222234d4\",\"type\":\"ColumnDataSource\"},\"glyph\":{\"id\":\"b47502e8-ca29-44b1-accc-60dc2bdd0090\",\"type\":\"Line\"},\"hover_glyph\":null,\"nonselection_glyph\":null,\"selection_glyph\":null},\"id\":\"42a7d04a-8ba9-4dcf-9fb6-8c3a946578b7\",\"type\":\"GlyphRenderer\"},{\"attributes\":{\"callback\":null,\"end\":11.923087906205232,\"start\":-11.932134357870844},\"id\":\"81006a7f-2d9f-4339-975c-e38ba32f71bd\",\"type\":\"Range1d\"},{\"attributes\":{},\"id\":\"64dba07c-c6ec-42a0-ba1d-564fb760510f\",\"type\":\"BasicTickFormatter\"},{\"attributes\":{\"below\":[{\"id\":\"42d03f68-60f5-42ba-8db4-29dd1c2a6740\",\"type\":\"LinearAxis\"}],\"css_classes\":null,\"height\":400,\"left\":[{\"id\":\"0fd3b367-982b-49b3-8b1d-a3088a847ed2\",\"type\":\"LinearAxis\"}],\"renderers\":[{\"id\":\"6a0f9846-609c-4059-9ae5-1467a57c590f\",\"type\":\"BoxAnnotation\"},{\"id\":\"42a7d04a-8ba9-4dcf-9fb6-8c3a946578b7\",\"type\":\"GlyphRenderer\"},{\"id\":\"a3bad2b9-41af-4286-ab2e-50e3f56974d9\",\"type\":\"Legend\"},{\"id\":\"42d03f68-60f5-42ba-8db4-29dd1c2a6740\",\"type\":\"LinearAxis\"},{\"id\":\"0fd3b367-982b-49b3-8b1d-a3088a847ed2\",\"type\":\"LinearAxis\"},{\"id\":\"40c105c2-a288-4c0f-8073-7bd54b7c197f\",\"type\":\"Grid\"},{\"id\":\"d11494d3-7c0a-4a38-ad69-7106fb092b34\",\"type\":\"Grid\"}],\"title\":{\"id\":\"9758e655-3ccd-4138-a207-47e0163b2b97\",\"type\":\"Title\"},\"tool_events\":{\"id\":\"f1f6f44e-c83e-4f07-a4f2-6b9539d0df36\",\"type\":\"ToolEvents\"},\"toolbar\":{\"id\":\"b031ec6e-c6f6-47b4-ba26-35a84c5c9ec4\",\"type\":\"Toolbar\"},\"width\":750,\"x_mapper_type\":\"auto\",\"x_range\":{\"id\":\"81006a7f-2d9f-4339-975c-e38ba32f71bd\",\"type\":\"Range1d\"},\"y_mapper_type\":\"auto\",\"y_range\":{\"id\":\"0a012985-df9f-4ebb-adaa-c7bf16cae02d\",\"type\":\"Range1d\"}},\"id\":\"574d740f-5cca-4362-b747-c0e0ba3a6db2\",\"subtype\":\"Chart\",\"type\":\"Plot\"},{\"attributes\":{},\"id\":\"f172b4ec-cd7e-4452-adf8-7f02cb35d6c7\",\"type\":\"BasicTickFormatter\"},{\"attributes\":{\"line_color\":{\"value\":\"#f22c40\"},\"line_width\":{\"value\":2},\"x\":{\"field\":\"x_values\"},\"y\":{\"field\":\"y_values\"}},\"id\":\"b47502e8-ca29-44b1-accc-60dc2bdd0090\",\"type\":\"Line\"},{\"attributes\":{\"callback\":null,\"end\":361.2214097597003,\"start\":-26.362600866897694},\"id\":\"0a012985-df9f-4ebb-adaa-c7bf16cae02d\",\"type\":\"Range1d\"},{\"attributes\":{},\"id\":\"f1f6f44e-c83e-4f07-a4f2-6b9539d0df36\",\"type\":\"ToolEvents\"},{\"attributes\":{\"axis_label\":\"y\",\"formatter\":{\"id\":\"64dba07c-c6ec-42a0-ba1d-564fb760510f\",\"type\":\"BasicTickFormatter\"},\"plot\":{\"id\":\"574d740f-5cca-4362-b747-c0e0ba3a6db2\",\"subtype\":\"Chart\",\"type\":\"Plot\"},\"ticker\":{\"id\":\"38c5fb1e-60ff-4540-9d4a-5954a805880e\",\"type\":\"BasicTicker\"}},\"id\":\"0fd3b367-982b-49b3-8b1d-a3088a847ed2\",\"type\":\"LinearAxis\"},{\"attributes\":{},\"id\":\"5957cfe1-2344-4bb9-9ada-4c4214033673\",\"type\":\"BasicTicker\"},{\"attributes\":{\"plot\":null,\"text\":null},\"id\":\"9758e655-3ccd-4138-a207-47e0163b2b97\",\"type\":\"Title\"},{\"attributes\":{\"plot\":{\"id\":\"574d740f-5cca-4362-b747-c0e0ba3a6db2\",\"subtype\":\"Chart\",\"type\":\"Plot\"},\"ticker\":{\"id\":\"5957cfe1-2344-4bb9-9ada-4c4214033673\",\"type\":\"BasicTicker\"}},\"id\":\"40c105c2-a288-4c0f-8073-7bd54b7c197f\",\"type\":\"Grid\"},{\"attributes\":{},\"id\":\"38c5fb1e-60ff-4540-9d4a-5954a805880e\",\"type\":\"BasicTicker\"},{\"attributes\":{\"location\":\"top_left\",\"plot\":{\"id\":\"574d740f-5cca-4362-b747-c0e0ba3a6db2\",\"subtype\":\"Chart\",\"type\":\"Plot\"}},\"id\":\"a3bad2b9-41af-4286-ab2e-50e3f56974d9\",\"type\":\"Legend\"},{\"attributes\":{\"dimension\":1,\"plot\":{\"id\":\"574d740f-5cca-4362-b747-c0e0ba3a6db2\",\"subtype\":\"Chart\",\"type\":\"Plot\"},\"ticker\":{\"id\":\"38c5fb1e-60ff-4540-9d4a-5954a805880e\",\"type\":\"BasicTicker\"}},\"id\":\"d11494d3-7c0a-4a38-ad69-7106fb092b34\",\"type\":\"Grid\"},{\"attributes\":{\"active_drag\":\"auto\",\"active_scroll\":\"auto\",\"active_tap\":\"auto\",\"tools\":[{\"id\":\"11cfe98c-7aab-41bf-a268-e6efd9e71ecb\",\"type\":\"PanTool\"},{\"id\":\"fe792b8c-94a1-4119-ab52-c55473f8ece4\",\"type\":\"WheelZoomTool\"},{\"id\":\"996af546-7c51-45d2-90d1-33a6079501a5\",\"type\":\"BoxZoomTool\"},{\"id\":\"0ad5cb3f-e662-4f92-aee1-1717e4f28d41\",\"type\":\"SaveTool\"},{\"id\":\"726dee6a-3728-4184-be1e-3b0cd5ac2434\",\"type\":\"ResetTool\"},{\"id\":\"9e1b88fb-0e07-41f3-a90f-389aad456fe2\",\"type\":\"HelpTool\"}]},\"id\":\"b031ec6e-c6f6-47b4-ba26-35a84c5c9ec4\",\"type\":\"Toolbar\"},{\"attributes\":{\"bottom_units\":\"screen\",\"fill_alpha\":{\"value\":0.5},\"fill_color\":{\"value\":\"lightgrey\"},\"left_units\":\"screen\",\"level\":\"overlay\",\"line_alpha\":{\"value\":1.0},\"line_color\":{\"value\":\"black\"},\"line_dash\":[4,4],\"line_width\":{\"value\":2},\"plot\":null,\"render_mode\":\"css\",\"right_units\":\"screen\",\"top_units\":\"screen\"},\"id\":\"6a0f9846-609c-4059-9ae5-1467a57c590f\",\"type\":\"BoxAnnotation\"},{\"attributes\":{\"plot\":{\"id\":\"574d740f-5cca-4362-b747-c0e0ba3a6db2\",\"subtype\":\"Chart\",\"type\":\"Plot\"}},\"id\":\"11cfe98c-7aab-41bf-a268-e6efd9e71ecb\",\"type\":\"PanTool\"},{\"attributes\":{\"plot\":{\"id\":\"574d740f-5cca-4362-b747-c0e0ba3a6db2\",\"subtype\":\"Chart\",\"type\":\"Plot\"}},\"id\":\"fe792b8c-94a1-4119-ab52-c55473f8ece4\",\"type\":\"WheelZoomTool\"}],\"root_ids\":[\"574d740f-5cca-4362-b747-c0e0ba3a6db2\"]},\"title\":\"Bokeh Application\",\"version\":\"0.12.4\"}};\n",
       "            var render_items = [{\"docid\":\"7421b5ff-4bb3-4840-9ca7-1f4580d35630\",\"elementid\":\"9fb41786-cf89-45bd-b8a7-224d9b00b143\",\"modelid\":\"574d740f-5cca-4362-b747-c0e0ba3a6db2\"}];\n",
       "            \n",
       "            Bokeh.embed.embed_items(docs_json, render_items);\n",
       "          };\n",
       "          if (document.readyState != \"loading\") fn();\n",
       "          else document.addEventListener(\"DOMContentLoaded\", fn);\n",
       "        })();\n",
       "      },\n",
       "      function(Bokeh) {\n",
       "      }\n",
       "    ];\n",
       "  \n",
       "    function run_inline_js() {\n",
       "      \n",
       "      if ((window.Bokeh !== undefined) || (force === true)) {\n",
       "        for (var i = 0; i < inline_js.length; i++) {\n",
       "          inline_js[i](window.Bokeh);\n",
       "        }if (force === true) {\n",
       "          display_loaded();\n",
       "        }} else if (Date.now() < window._bokeh_timeout) {\n",
       "        setTimeout(run_inline_js, 100);\n",
       "      } else if (!window._bokeh_failed_load) {\n",
       "        console.log(\"Bokeh: BokehJS failed to load within specified timeout.\");\n",
       "        window._bokeh_failed_load = true;\n",
       "      } else if (force !== true) {\n",
       "        var cell = $(document.getElementById(\"9fb41786-cf89-45bd-b8a7-224d9b00b143\")).parents('.cell').data().cell;\n",
       "        cell.output_area.append_execute_result(NB_LOAD_WARNING)\n",
       "      }\n",
       "  \n",
       "    }\n",
       "  \n",
       "    if (window._bokeh_is_loading === 0) {\n",
       "      console.log(\"Bokeh: BokehJS loaded, going straight to plotting\");\n",
       "      run_inline_js();\n",
       "    } else {\n",
       "      load_libs(js_urls, function() {\n",
       "        console.log(\"Bokeh: BokehJS plotting callback run at\", now());\n",
       "        run_inline_js();\n",
       "      });\n",
       "    }\n",
       "  }(this));\n",
       "</script>"
      ]
     },
     "metadata": {},
     "output_type": "display_data"
    }
   ],
   "source": [
    "y_hat = [beta[0]*xi**2 + beta[1]*xi + beta[2] for xi in x]\n",
    "show(Line({'x': x, 'y': y_hat}, x='x', y='y', width=750, height=400))"
   ]
  },
  {
   "cell_type": "markdown",
   "metadata": {
    "deletable": true,
    "editable": true,
    "slideshow": {
     "slide_type": "subslide"
    }
   },
   "source": [
    "#### So what's different about Crazy Uncle Eddie?"
   ]
  },
  {
   "cell_type": "markdown",
   "metadata": {
    "deletable": true,
    "editable": true,
    "slideshow": {
     "slide_type": "fragment"
    }
   },
   "source": [
    "Well, besides the obvious.\n",
    "\n",
    "![](images/crazy-uncle-eddie.jpg)"
   ]
  },
  {
   "cell_type": "markdown",
   "metadata": {
    "deletable": true,
    "editable": true,
    "slideshow": {
     "slide_type": "subslide"
    }
   },
   "source": [
    "While all three techniques produced the _same result_, Crazy Uncle Eddie's is interesting because it is more general than the others.\n",
    "\n",
    "Crazy Eddie can solve any quadratic optimization problem, of which Least Squares is _just one instance_."
   ]
  },
  {
   "cell_type": "markdown",
   "metadata": {
    "deletable": true,
    "editable": true,
    "slideshow": {
     "slide_type": "fragment"
    }
   },
   "source": [
    "If we change the structure of the problem slightly:\n",
    "\n",
    "* We probably can't solve it with `scikit-learn`\n",
    "* Grams and Gramps have to go back to their chalkboard\n",
    "* Crazy Eddie can update the inputs to his problem and reoptimize"
   ]
  },
  {
   "cell_type": "markdown",
   "metadata": {
    "deletable": true,
    "editable": true,
    "slideshow": {
     "slide_type": "slide"
    }
   },
   "source": [
    "## Example: Portfolio Optimization\n",
    "\n",
    "We have a big pot of money to allocate among different investments. Lucky us!"
   ]
  },
  {
   "cell_type": "markdown",
   "metadata": {
    "deletable": true,
    "editable": true,
    "slideshow": {
     "slide_type": "fragment"
    }
   },
   "source": [
    "Some investment returns are correlated. They go up and down together.\n",
    "\n",
    "Other returns are anticorrelated. They tend to do the opposite things."
   ]
  },
  {
   "cell_type": "markdown",
   "metadata": {
    "deletable": true,
    "editable": true,
    "slideshow": {
     "slide_type": "fragment"
    }
   },
   "source": [
    "How do we allocate our money to maximize our expected return, subject to our tolerance for risk?"
   ]
  },
  {
   "cell_type": "markdown",
   "metadata": {
    "deletable": true,
    "editable": true,
    "slideshow": {
     "slide_type": "subslide"
    }
   },
   "source": [
    "We'll use 100 months of [exchange rate data](http://www.federalreserve.gov/datadownload/Build.aspx?rel=H10) from the Fed, circa 2014.\n",
    "\n",
    "Since this talk isn't about data wrangling, I've already cleaned it up into the important pieces.\n",
    "\n",
    "* Expected monthly return data for each foreign currency\n",
    "* A covariance matrix for those investments"
   ]
  },
  {
   "cell_type": "markdown",
   "metadata": {
    "deletable": true,
    "editable": true,
    "slideshow": {
     "slide_type": "subslide"
    }
   },
   "source": [
    "### The Markowitz Porfolio Optimization Model\n",
    "\n",
    "#### Inputs:\n",
    "\n",
    "$$\\mu = \\text{vector of expected investment returns}$$\n",
    "\n",
    "$$\\Sigma = \\text{covariance matrix for returns}$$\n",
    "\n",
    "$$\\alpha = \\text{unitless measure of risk aversion}$$"
   ]
  },
  {
   "cell_type": "markdown",
   "metadata": {
    "deletable": true,
    "editable": true,
    "slideshow": {
     "slide_type": "fragment"
    }
   },
   "source": [
    "#### Model:\n",
    "\n",
    "$x$ tells me how much of my total budget to put in each investment.\n",
    "\n",
    "$$\n",
    "\\begin{align}\n",
    "    \\text{max}  \\ \\ \\ & \\ \\mu'x - \\alpha x \\Sigma x \\\\\n",
    "    \\text{s.t.} \\ \\ \\ & \\ e'x = 1 \\\\\n",
    "                      & \\ x \\ge 0\n",
    "\\end{align}\n",
    "$$"
   ]
  },
  {
   "cell_type": "markdown",
   "metadata": {
    "deletable": true,
    "editable": true,
    "slideshow": {
     "slide_type": "fragment"
    }
   },
   "source": [
    "But wait! This is a _maximization_ problem! The last model used $\\text{min}$.\n",
    "\n",
    "$$\n",
    "\\begin{align}\n",
    "    \\text{min}  \\ \\ \\ & \\ \\alpha x \\Sigma x - \\mu'x \\\\\n",
    "    \\text{s.t.} \\ \\ \\ & \\ e'x = 1 \\\\\n",
    "                      & \\ x \\ge 0\n",
    "\\end{align}\n",
    "$$"
   ]
  },
  {
   "cell_type": "markdown",
   "metadata": {
    "deletable": true,
    "editable": true,
    "slideshow": {
     "slide_type": "subslide"
    }
   },
   "source": [
    "The only differences between this model and the least squares model are the constraints we've added.\n",
    "\n",
    "This one forces the model to allocate all of my budget into investments:\n",
    "\n",
    "$$e'x = 1$$\n",
    "\n",
    "This one disallows the model from making negative investments:\n",
    "\n",
    "$$x \\ge 0$$"
   ]
  },
  {
   "cell_type": "code",
   "execution_count": 9,
   "metadata": {
    "collapsed": false,
    "deletable": true,
    "editable": true,
    "slideshow": {
     "slide_type": "subslide"
    }
   },
   "outputs": [
    {
     "data": {
      "text/html": [
       "<div>\n",
       "<table border=\"1\" class=\"dataframe\">\n",
       "  <thead>\n",
       "    <tr style=\"text-align: right;\">\n",
       "      <th></th>\n",
       "      <th>Unnamed: 0</th>\n",
       "      <th>mean</th>\n",
       "      <th>variance</th>\n",
       "    </tr>\n",
       "  </thead>\n",
       "  <tbody>\n",
       "    <tr>\n",
       "      <th>0</th>\n",
       "      <td>RXI$US_N.M.AL</td>\n",
       "      <td>0.152151</td>\n",
       "      <td>10.996718</td>\n",
       "    </tr>\n",
       "    <tr>\n",
       "      <th>1</th>\n",
       "      <td>RXI$US_N.M.EU</td>\n",
       "      <td>0.002683</td>\n",
       "      <td>5.928188</td>\n",
       "    </tr>\n",
       "    <tr>\n",
       "      <th>2</th>\n",
       "      <td>RXI$US_N.M.NZ</td>\n",
       "      <td>0.220217</td>\n",
       "      <td>9.690793</td>\n",
       "    </tr>\n",
       "    <tr>\n",
       "      <th>3</th>\n",
       "      <td>RXI$US_N.M.UK</td>\n",
       "      <td>-0.159779</td>\n",
       "      <td>5.098969</td>\n",
       "    </tr>\n",
       "    <tr>\n",
       "      <th>4</th>\n",
       "      <td>RXI_N.M.BZ</td>\n",
       "      <td>-0.128507</td>\n",
       "      <td>12.743632</td>\n",
       "    </tr>\n",
       "  </tbody>\n",
       "</table>\n",
       "</div>"
      ],
      "text/plain": [
       "      Unnamed: 0      mean   variance\n",
       "0  RXI$US_N.M.AL  0.152151  10.996718\n",
       "1  RXI$US_N.M.EU  0.002683   5.928188\n",
       "2  RXI$US_N.M.NZ  0.220217   9.690793\n",
       "3  RXI$US_N.M.UK -0.159779   5.098969\n",
       "4     RXI_N.M.BZ -0.128507  12.743632"
      ]
     },
     "execution_count": 9,
     "metadata": {},
     "output_type": "execute_result"
    }
   ],
   "source": [
    "# Read in the returns and covariance data.\n",
    "import pandas as pd\n",
    "exp_returns = pd.read_csv('portfolio-optimization/currency-returns.csv')\n",
    "exp_returns.head()"
   ]
  },
  {
   "cell_type": "code",
   "execution_count": 10,
   "metadata": {
    "collapsed": false,
    "deletable": true,
    "editable": true,
    "slideshow": {
     "slide_type": "subslide"
    }
   },
   "outputs": [
    {
     "data": {
      "text/html": [
       "<div>\n",
       "<table border=\"1\" class=\"dataframe\">\n",
       "  <thead>\n",
       "    <tr style=\"text-align: right;\">\n",
       "      <th></th>\n",
       "      <th>0</th>\n",
       "      <th>1</th>\n",
       "      <th>2</th>\n",
       "      <th>3</th>\n",
       "      <th>4</th>\n",
       "      <th>5</th>\n",
       "      <th>6</th>\n",
       "      <th>7</th>\n",
       "      <th>8</th>\n",
       "      <th>9</th>\n",
       "      <th>...</th>\n",
       "      <th>13</th>\n",
       "      <th>14</th>\n",
       "      <th>15</th>\n",
       "      <th>16</th>\n",
       "      <th>17</th>\n",
       "      <th>18</th>\n",
       "      <th>19</th>\n",
       "      <th>20</th>\n",
       "      <th>21</th>\n",
       "      <th>22</th>\n",
       "    </tr>\n",
       "  </thead>\n",
       "  <tbody>\n",
       "    <tr>\n",
       "      <th>0</th>\n",
       "      <td>10.996718</td>\n",
       "      <td>5.181782</td>\n",
       "      <td>8.654762</td>\n",
       "      <td>4.457704</td>\n",
       "      <td>9.789818</td>\n",
       "      <td>5.421746</td>\n",
       "      <td>0.194428</td>\n",
       "      <td>5.166875</td>\n",
       "      <td>0.028496</td>\n",
       "      <td>4.379632</td>\n",
       "      <td>...</td>\n",
       "      <td>6.494732</td>\n",
       "      <td>7.078498</td>\n",
       "      <td>7.083824</td>\n",
       "      <td>8.574515</td>\n",
       "      <td>3.287411</td>\n",
       "      <td>0.343673</td>\n",
       "      <td>4.163674</td>\n",
       "      <td>2.450772</td>\n",
       "      <td>2.381722</td>\n",
       "      <td>0.542450</td>\n",
       "    </tr>\n",
       "    <tr>\n",
       "      <th>1</th>\n",
       "      <td>5.181782</td>\n",
       "      <td>5.928188</td>\n",
       "      <td>4.487890</td>\n",
       "      <td>3.659548</td>\n",
       "      <td>4.686754</td>\n",
       "      <td>2.467804</td>\n",
       "      <td>0.313081</td>\n",
       "      <td>5.867674</td>\n",
       "      <td>0.038117</td>\n",
       "      <td>2.545200</td>\n",
       "      <td>...</td>\n",
       "      <td>2.894461</td>\n",
       "      <td>5.350733</td>\n",
       "      <td>5.515164</td>\n",
       "      <td>4.314480</td>\n",
       "      <td>2.265781</td>\n",
       "      <td>0.418269</td>\n",
       "      <td>5.173168</td>\n",
       "      <td>1.559857</td>\n",
       "      <td>1.351946</td>\n",
       "      <td>1.776855</td>\n",
       "    </tr>\n",
       "    <tr>\n",
       "      <th>2</th>\n",
       "      <td>8.654762</td>\n",
       "      <td>4.487890</td>\n",
       "      <td>9.690793</td>\n",
       "      <td>4.330531</td>\n",
       "      <td>8.130412</td>\n",
       "      <td>4.268307</td>\n",
       "      <td>0.129303</td>\n",
       "      <td>4.466514</td>\n",
       "      <td>0.017975</td>\n",
       "      <td>3.919170</td>\n",
       "      <td>...</td>\n",
       "      <td>5.536301</td>\n",
       "      <td>5.602586</td>\n",
       "      <td>6.054567</td>\n",
       "      <td>6.733828</td>\n",
       "      <td>2.811946</td>\n",
       "      <td>0.451742</td>\n",
       "      <td>3.903260</td>\n",
       "      <td>2.135899</td>\n",
       "      <td>2.569281</td>\n",
       "      <td>0.379954</td>\n",
       "    </tr>\n",
       "    <tr>\n",
       "      <th>3</th>\n",
       "      <td>4.457704</td>\n",
       "      <td>3.659548</td>\n",
       "      <td>4.330531</td>\n",
       "      <td>5.098969</td>\n",
       "      <td>4.301933</td>\n",
       "      <td>2.573100</td>\n",
       "      <td>0.137068</td>\n",
       "      <td>3.632088</td>\n",
       "      <td>0.012420</td>\n",
       "      <td>1.821456</td>\n",
       "      <td>...</td>\n",
       "      <td>2.775715</td>\n",
       "      <td>4.081803</td>\n",
       "      <td>4.233658</td>\n",
       "      <td>3.749874</td>\n",
       "      <td>1.780620</td>\n",
       "      <td>0.326828</td>\n",
       "      <td>3.335175</td>\n",
       "      <td>1.356927</td>\n",
       "      <td>1.014109</td>\n",
       "      <td>1.584577</td>\n",
       "    </tr>\n",
       "    <tr>\n",
       "      <th>4</th>\n",
       "      <td>9.789818</td>\n",
       "      <td>4.686754</td>\n",
       "      <td>8.130412</td>\n",
       "      <td>4.301933</td>\n",
       "      <td>12.743632</td>\n",
       "      <td>5.433992</td>\n",
       "      <td>0.279201</td>\n",
       "      <td>4.689891</td>\n",
       "      <td>-0.034405</td>\n",
       "      <td>5.567318</td>\n",
       "      <td>...</td>\n",
       "      <td>7.177333</td>\n",
       "      <td>7.288341</td>\n",
       "      <td>6.774689</td>\n",
       "      <td>8.761299</td>\n",
       "      <td>2.999360</td>\n",
       "      <td>0.843294</td>\n",
       "      <td>4.269524</td>\n",
       "      <td>2.163251</td>\n",
       "      <td>2.439204</td>\n",
       "      <td>0.496304</td>\n",
       "    </tr>\n",
       "  </tbody>\n",
       "</table>\n",
       "<p>5 rows × 23 columns</p>\n",
       "</div>"
      ],
      "text/plain": [
       "          0         1         2         3          4         5         6   \\\n",
       "0  10.996718  5.181782  8.654762  4.457704   9.789818  5.421746  0.194428   \n",
       "1   5.181782  5.928188  4.487890  3.659548   4.686754  2.467804  0.313081   \n",
       "2   8.654762  4.487890  9.690793  4.330531   8.130412  4.268307  0.129303   \n",
       "3   4.457704  3.659548  4.330531  5.098969   4.301933  2.573100  0.137068   \n",
       "4   9.789818  4.686754  8.130412  4.301933  12.743632  5.433992  0.279201   \n",
       "\n",
       "         7         8         9     ...           13        14        15  \\\n",
       "0  5.166875  0.028496  4.379632    ...     6.494732  7.078498  7.083824   \n",
       "1  5.867674  0.038117  2.545200    ...     2.894461  5.350733  5.515164   \n",
       "2  4.466514  0.017975  3.919170    ...     5.536301  5.602586  6.054567   \n",
       "3  3.632088  0.012420  1.821456    ...     2.775715  4.081803  4.233658   \n",
       "4  4.689891 -0.034405  5.567318    ...     7.177333  7.288341  6.774689   \n",
       "\n",
       "         16        17        18        19        20        21        22  \n",
       "0  8.574515  3.287411  0.343673  4.163674  2.450772  2.381722  0.542450  \n",
       "1  4.314480  2.265781  0.418269  5.173168  1.559857  1.351946  1.776855  \n",
       "2  6.733828  2.811946  0.451742  3.903260  2.135899  2.569281  0.379954  \n",
       "3  3.749874  1.780620  0.326828  3.335175  1.356927  1.014109  1.584577  \n",
       "4  8.761299  2.999360  0.843294  4.269524  2.163251  2.439204  0.496304  \n",
       "\n",
       "[5 rows x 23 columns]"
      ]
     },
     "execution_count": 10,
     "metadata": {},
     "output_type": "execute_result"
    }
   ],
   "source": [
    "returns_cov = pd.read_csv('portfolio-optimization/currency-covariance.csv', header=None)\n",
    "returns_cov.head()"
   ]
  },
  {
   "cell_type": "code",
   "execution_count": 11,
   "metadata": {
    "collapsed": false,
    "deletable": true,
    "editable": true,
    "slideshow": {
     "slide_type": "subslide"
    }
   },
   "outputs": [],
   "source": [
    "# A model that will return an optimal portfolio for any risk aversion.\n",
    "def portfolio(alpha):\n",
    "    P = cvx.matrix(alpha * returns_cov.as_matrix())\n",
    "    q = cvx.matrix(-exp_returns['mean'].as_matrix())\n",
    "    G = cvx.matrix(0.0, (len(q),len(q)))\n",
    "    G[::len(q)+1] = -1.0\n",
    "    h = cvx.matrix(0.0, (len(q),1))\n",
    "    A = cvx.matrix(1.0, (1,len(q)))\n",
    "    b = cvx.matrix(1.0)\n",
    "\n",
    "    solution = cvx.solvers.qp(P, q, G, h, A, b)\n",
    "    return exp_returns['mean'].dot(solution['x'])[0]"
   ]
  },
  {
   "cell_type": "code",
   "execution_count": 12,
   "metadata": {
    "collapsed": false,
    "deletable": true,
    "editable": true,
    "slideshow": {
     "slide_type": "subslide"
    }
   },
   "outputs": [
    {
     "name": "stdout",
     "output_type": "stream",
     "text": [
      "     pcost       dcost       gap    pres   dres\n",
      " 0: -1.4109e+00 -1.2870e+00  6e+01  9e+00  5e+00\n",
      " 1: -1.8207e-02 -1.2285e+00  1e+00  5e-15  8e-16\n",
      " 2: -6.2411e-02 -2.9637e-01  2e-01  7e-16  7e-16\n",
      " 3: -1.4238e-01 -3.5309e-01  2e-01  8e-16  5e-16\n",
      " 4: -2.8201e-01 -2.9496e-01  1e-02  4e-16  5e-16\n",
      " 5: -2.8688e-01 -2.8703e-01  2e-04  1e-16  3e-16\n",
      " 6: -2.8695e-01 -2.8695e-01  2e-06  3e-16  2e-16\n",
      " 7: -2.8695e-01 -2.8695e-01  2e-08  1e-16  5e-16\n",
      "Optimal solution found.\n",
      "     pcost       dcost       gap    pres   dres\n",
      " 0: -2.6295e-01 -1.3019e+00  4e+01  5e+00  6e+00\n",
      " 1: -3.1048e-02 -1.0159e+00  2e+00  2e-01  2e-01\n",
      " 2:  3.3465e-02 -3.1889e-01  5e-01  3e-02  3e-02\n",
      " 3: -1.3476e-01 -2.5385e-01  1e-01  2e-17  1e-15\n",
      " 4: -1.9154e-01 -2.0318e-01  1e-02  2e-16  6e-16\n",
      " 5: -2.0001e-01 -2.0086e-01  9e-04  2e-16  5e-16\n",
      " 6: -2.0070e-01 -2.0074e-01  4e-05  6e-17  8e-16\n",
      " 7: -2.0073e-01 -2.0073e-01  1e-06  2e-16  1e-15\n",
      " 8: -2.0073e-01 -2.0073e-01  1e-08  4e-16  4e-16\n",
      "Optimal solution found.\n",
      "     pcost       dcost       gap    pres   dres\n",
      " 0: -1.7310e-01 -1.2428e+00  4e+01  5e+00  6e+00\n",
      " 1: -4.7542e-03 -9.2263e-01  2e+00  2e-01  2e-01\n",
      " 2:  3.8252e-02 -2.6797e-01  4e-01  3e-02  3e-02\n",
      " 3: -9.4620e-02 -1.8481e-01  9e-02  1e-16  1e-15\n",
      " 4: -1.4057e-01 -1.5061e-01  1e-02  3e-16  5e-16\n",
      " 5: -1.4747e-01 -1.4833e-01  9e-04  1e-16  6e-16\n",
      " 6: -1.4822e-01 -1.4825e-01  3e-05  1e-16  5e-16\n",
      " 7: -1.4825e-01 -1.4825e-01  1e-06  2e-16  4e-16\n",
      " 8: -1.4825e-01 -1.4825e-01  2e-08  2e-16  5e-16\n",
      "Optimal solution found.\n",
      "     pcost       dcost       gap    pres   dres\n",
      " 0: -1.3049e-01 -1.1978e+00  4e+01  5e+00  6e+00\n",
      " 1:  1.0823e-02 -8.5585e-01  2e+00  2e-01  2e-01\n",
      " 2:  4.1508e-02 -2.1689e-01  4e-01  3e-02  3e-02\n",
      " 3: -6.4792e-02 -1.2939e-01  6e-02  3e-16  9e-16\n",
      " 4: -9.7828e-02 -1.0446e-01  7e-03  3e-16  1e-15\n",
      " 5: -1.0228e-01 -1.0300e-01  7e-04  2e-16  6e-16\n",
      " 6: -1.0293e-01 -1.0295e-01  2e-05  1e-16  5e-16\n",
      " 7: -1.0295e-01 -1.0295e-01  3e-07  2e-16  4e-16\n",
      " 8: -1.0295e-01 -1.0295e-01  3e-09  2e-16  4e-16\n",
      "Optimal solution found.\n",
      "     pcost       dcost       gap    pres   dres\n",
      " 0: -1.0337e-01 -1.1595e+00  3e+01  5e+00  6e+00\n",
      " 1:  2.2165e-02 -8.0202e-01  2e+00  2e-01  2e-01\n",
      " 2:  4.3501e-02 -1.6970e-01  3e-01  2e-02  2e-02\n",
      " 3: -4.8964e-02 -9.2477e-02  4e-02  2e-16  1e-15\n",
      " 4: -7.3350e-02 -7.7843e-02  4e-03  5e-17  9e-16\n",
      " 5: -7.6465e-02 -7.6904e-02  4e-04  1e-16  5e-16\n",
      " 6: -7.6868e-02 -7.6878e-02  1e-05  3e-16  3e-16\n",
      " 7: -7.6877e-02 -7.6878e-02  1e-07  1e-16  4e-16\n",
      "Optimal solution found.\n",
      "     pcost       dcost       gap    pres   dres\n",
      " 0: -8.3552e-02 -1.1256e+00  3e+01  5e+00  6e+00\n",
      " 1:  3.1025e-02 -7.5646e-01  2e+00  2e-01  2e-01\n",
      " 2:  4.4428e-02 -1.3898e-01  3e-01  2e-02  2e-02\n",
      " 3: -3.7424e-02 -7.1497e-02  3e-02  8e-17  9e-16\n",
      " 4: -5.7093e-02 -6.0638e-02  4e-03  1e-16  8e-16\n",
      " 5: -5.9609e-02 -5.9920e-02  3e-04  4e-16  5e-16\n",
      " 6: -5.9898e-02 -5.9904e-02  5e-06  2e-16  8e-16\n",
      " 7: -5.9904e-02 -5.9904e-02  5e-08  2e-16  6e-16\n",
      "Optimal solution found.\n",
      "     pcost       dcost       gap    pres   dres\n",
      " 0: -6.7880e-02 -1.0982e+00  3e+01  5e+00  6e+00\n",
      " 1:  3.8514e-02 -7.1915e-01  2e+00  2e-01  2e-01\n",
      " 2:  4.4486e-02 -1.3048e-01  3e-01  2e-02  2e-02\n",
      " 3: -2.3873e-02 -6.0193e-02  4e-02  4e-04  5e-04\n",
      " 4: -4.4365e-02 -4.8338e-02  4e-03  1e-16  7e-16\n",
      " 5: -4.7131e-02 -4.7498e-02  4e-04  1e-16  5e-16\n",
      " 6: -4.7472e-02 -4.7478e-02  6e-06  3e-16  4e-16\n",
      " 7: -4.7478e-02 -4.7478e-02  6e-08  3e-16  4e-16\n",
      "Optimal solution found.\n",
      "     pcost       dcost       gap    pres   dres\n",
      " 0: -5.4871e-02 -1.0978e+00  3e+01  5e+00  6e+00\n",
      " 1:  4.6908e-02 -7.0310e-01  2e+00  2e-01  2e-01\n",
      " 2:  4.7530e-02 -1.2405e-01  3e-01  2e-02  2e-02\n",
      " 3: -1.4964e-02 -5.0020e-02  4e-02  2e-04  3e-04\n",
      " 4: -3.4679e-02 -3.8443e-02  4e-03  1e-16  7e-16\n",
      " 5: -3.7331e-02 -3.7669e-02  3e-04  2e-16  6e-16\n",
      " 6: -3.7646e-02 -3.7652e-02  5e-06  1e-16  6e-16\n",
      " 7: -3.7651e-02 -3.7651e-02  5e-08  2e-16  4e-16\n",
      "Optimal solution found.\n",
      "     pcost       dcost       gap    pres   dres\n",
      " 0: -4.3716e-02 -1.0974e+00  3e+01  5e+00  6e+00\n",
      " 1:  5.4196e-02 -6.8865e-01  2e+00  2e-01  2e-01\n",
      " 2:  5.0246e-02 -1.1735e-01  3e-01  2e-02  2e-02\n",
      " 3: -7.9683e-03 -4.1274e-02  3e-02  1e-17  1e-15\n",
      " 4: -2.6682e-02 -3.0144e-02  3e-03  1e-16  7e-16\n",
      " 5: -2.9169e-02 -2.9464e-02  3e-04  1e-16  9e-16\n",
      " 6: -2.9445e-02 -2.9449e-02  4e-06  2e-16  5e-16\n",
      " 7: -2.9449e-02 -2.9449e-02  4e-08  2e-16  5e-16\n",
      "Optimal solution found.\n",
      "     pcost       dcost       gap    pres   dres\n",
      " 0: -3.3930e-02 -1.0969e+00  4e+01  5e+00  6e+00\n",
      " 1:  6.0601e-02 -6.7563e-01  2e+00  2e-01  2e-01\n",
      " 2:  5.2718e-02 -1.1058e-01  3e-01  2e-02  2e-02\n",
      " 3: -1.7058e-03 -3.4171e-02  3e-02  1e-16  1e-15\n",
      " 4: -1.9669e-02 -2.2968e-02  3e-03  2e-16  1e-15\n",
      " 5: -2.2073e-02 -2.2343e-02  3e-04  1e-16  5e-16\n",
      " 6: -2.2327e-02 -2.2330e-02  4e-06  1e-16  4e-16\n",
      " 7: -2.2330e-02 -2.2330e-02  4e-08  1e-16  6e-16\n",
      "Optimal solution found.\n",
      "     pcost       dcost       gap    pres   dres\n",
      " 0: -2.5201e-02 -1.0963e+00  4e+01  5e+00  6e+00\n",
      " 1:  6.6299e-02 -6.6378e-01  2e+00  2e-01  2e-01\n",
      " 2:  5.5021e-02 -1.0386e-01  3e-01  2e-02  2e-02\n",
      " 3:  3.7272e-03 -2.7715e-02  3e-02  1e-16  1e-15\n",
      " 4: -1.3351e-02 -1.6585e-02  3e-03  1e-16  8e-16\n",
      " 5: -1.5724e-02 -1.5981e-02  3e-04  2e-16  7e-16\n",
      " 6: -1.5966e-02 -1.5969e-02  4e-06  3e-16  5e-16\n",
      " 7: -1.5969e-02 -1.5969e-02  4e-08  2e-16  4e-16\n",
      "Optimal solution found.\n",
      "     pcost       dcost       gap    pres   dres\n",
      " 0: -1.7311e-02 -1.0955e+00  4e+01  5e+00  6e+00\n",
      " 1:  7.1360e-02 -6.5307e-01  2e+00  1e-01  2e-01\n",
      " 2:  5.7368e-02 -9.7504e-02  3e-01  2e-02  2e-02\n",
      " 3:  8.8197e-03 -2.1891e-02  3e-02  2e-16  1e-15\n",
      " 4: -7.5622e-03 -1.0767e-02  3e-03  1e-16  8e-16\n",
      " 5: -9.9228e-03 -1.0171e-02  2e-04  3e-16  8e-16\n",
      " 6: -1.0156e-02 -1.0160e-02  4e-06  2e-16  6e-16\n",
      " 7: -1.0159e-02 -1.0159e-02  4e-08  2e-16  6e-16\n",
      "Optimal solution found.\n",
      "     pcost       dcost       gap    pres   dres\n",
      " 0: -1.0105e-02 -1.0946e+00  4e+01  5e+00  6e+00\n",
      " 1:  7.5884e-02 -6.4354e-01  2e+00  1e-01  2e-01\n",
      " 2:  5.9679e-02 -9.1465e-02  3e-01  2e-02  2e-02\n",
      " 3:  1.3652e-02 -1.6538e-02  3e-02  2e-16  1e-15\n",
      " 4: -2.1949e-03 -5.3577e-03  3e-03  1e-16  1e-15\n",
      " 5: -4.5359e-03 -4.7750e-03  2e-04  1e-16  1e-15\n",
      " 6: -4.7597e-03 -4.7633e-03  4e-06  8e-17  1e-15\n",
      " 7: -4.7632e-03 -4.7632e-03  4e-08  1e-16  7e-16\n",
      "Optimal solution found.\n",
      "     pcost       dcost       gap    pres   dres\n",
      " 0: -3.4681e-03 -1.0935e+00  4e+01  5e+00  6e+00\n",
      " 1:  8.0049e-02 -6.3465e-01  2e+00  1e-01  2e-01\n",
      " 2:  6.1857e-02 -8.5535e-02  3e-01  2e-02  2e-02\n",
      " 3:  1.8143e-02 -1.1436e-02  3e-02  3e-16  1e-15\n",
      " 4:  2.8321e-03 -2.5884e-04  3e-03  2e-16  8e-16\n",
      " 5:  5.3004e-04  3.0346e-04  2e-04  2e-16  5e-16\n",
      " 6:  3.1844e-04  3.1486e-04  4e-06  1e-16  8e-16\n",
      " 7:  3.1496e-04  3.1492e-04  4e-08  5e-17  6e-16\n",
      "Optimal solution found.\n",
      "     pcost       dcost       gap    pres   dres\n",
      " 0:  2.6898e-03 -1.0922e+00  4e+01  5e+00  6e+00\n",
      " 1:  8.3930e-02 -6.2618e-01  2e+00  1e-01  2e-01\n",
      " 2:  6.3951e-02 -7.9724e-02  2e-01  2e-02  2e-02\n",
      " 3:  2.2378e-02 -6.5347e-03  3e-02  2e-16  1e-15\n",
      " 4:  7.5962e-03  4.5940e-03  3e-03  2e-16  7e-16\n",
      " 5:  5.3448e-03  5.1321e-03  2e-04  3e-16  9e-16\n",
      " 6:  5.1467e-03  5.1431e-03  4e-06  3e-16  6e-16\n",
      " 7:  5.1432e-03  5.1432e-03  4e-08  2e-16  7e-16\n",
      "Optimal solution found.\n",
      "     pcost       dcost       gap    pres   dres\n",
      " 0:  8.4393e-03 -1.0909e+00  4e+01  5e+00  6e+00\n",
      " 1:  8.7571e-02 -6.1808e-01  2e+00  1e-01  2e-01\n",
      " 2:  6.5997e-02 -7.4045e-02  2e-01  2e-02  2e-02\n",
      " 3:  2.6417e-02 -1.7979e-03  3e-02  7e-17  1e-15\n",
      " 4:  1.2153e-02  9.2485e-03  3e-03  5e-17  1e-15\n",
      " 5:  9.9593e-03  9.7607e-03  2e-04  2e-16  8e-16\n",
      " 6:  9.7750e-03  9.7715e-03  4e-06  1e-16  9e-16\n",
      " 7:  9.7715e-03  9.7715e-03  4e-08  8e-17  7e-16\n",
      "Optimal solution found.\n",
      "     pcost       dcost       gap    pres   dres\n",
      " 0:  1.3837e-02 -1.0893e+00  4e+01  5e+00  6e+00\n",
      " 1:  9.1007e-02 -6.1030e-01  2e+00  1e-01  2e-01\n",
      " 2:  6.8019e-02 -6.8500e-02  2e-01  2e-02  2e-02\n",
      " 3:  3.0306e-02  2.8000e-03  3e-02  1e-16  1e-15\n",
      " 4:  1.6544e-02  1.3741e-02  3e-03  1e-16  8e-16\n",
      " 5:  1.4412e-02  1.4227e-02  2e-04  3e-16  7e-16\n",
      " 6:  1.4241e-02  1.4237e-02  4e-06  2e-16  8e-16\n",
      " 7:  1.4237e-02  1.4237e-02  4e-08  2e-16  5e-16\n",
      "Optimal solution found.\n",
      "     pcost       dcost       gap    pres   dres\n",
      " 0:  1.8930e-02 -1.0877e+00  4e+01  5e+00  6e+00\n",
      " 1:  9.4269e-02 -6.0282e-01  2e+00  1e-01  2e-01\n",
      " 2:  7.0033e-02 -6.3089e-02  2e-01  1e-02  2e-02\n",
      " 3:  3.4079e-02  7.2789e-03  3e-02  1e-16  1e-15\n",
      " 4:  2.0799e-02  1.8098e-02  3e-03  1e-16  1e-15\n",
      " 5:  1.8731e-02  1.8559e-02  2e-04  5e-17  1e-15\n",
      " 6:  1.8573e-02  1.8569e-02  4e-06  2e-16  7e-16\n",
      " 7:  1.8570e-02  1.8570e-02  4e-08  2e-16  7e-16\n",
      "Optimal solution found.\n",
      "     pcost       dcost       gap    pres   dres\n",
      " 0:  2.3755e-02 -1.0860e+00  4e+01  5e+00  6e+00\n",
      " 1:  9.7380e-02 -5.9561e-01  2e+00  1e-01  2e-01\n",
      " 2:  7.2051e-02 -5.7806e-02  2e-01  1e-02  2e-02\n",
      " 3:  3.7759e-02  1.1655e-02  3e-02  3e-16  1e-15\n",
      " 4:  2.4943e-02  2.2343e-02  3e-03  1e-16  1e-15\n",
      " 5:  2.2939e-02  2.2780e-02  2e-04  8e-17  7e-16\n",
      " 6:  2.2794e-02  2.2790e-02  4e-06  7e-17  5e-16\n",
      " 7:  2.2790e-02  2.2790e-02  4e-08  2e-16  1e-15\n",
      "Optimal solution found.\n",
      "     pcost       dcost       gap    pres   dres\n",
      " 0:  2.8347e-02 -1.0842e+00  4e+01  5e+00  6e+00\n",
      " 1:  1.0036e-01 -5.8864e-01  2e+00  1e-01  2e-01\n",
      " 2:  7.4080e-02 -5.2647e-02  2e-01  1e-02  2e-02\n",
      " 3:  4.1366e-02  1.5941e-02  3e-02  3e-16  2e-15\n",
      " 4:  2.8994e-02  2.6492e-02  3e-03  2e-16  8e-16\n",
      " 5:  2.7055e-02  2.6906e-02  1e-04  2e-16  1e-15\n",
      " 6:  2.6921e-02  2.6917e-02  4e-06  1e-16  5e-16\n",
      " 7:  2.6917e-02  2.6917e-02  4e-08  2e-16  6e-16\n",
      "Optimal solution found.\n",
      "     pcost       dcost       gap    pres   dres\n",
      " 0:  3.2731e-02 -1.0823e+00  4e+01  5e+00  6e+00\n",
      " 1:  1.0323e-01 -5.8189e-01  2e+00  1e-01  2e-01\n",
      " 2:  7.6124e-02 -4.7604e-02  2e-01  1e-02  2e-02\n",
      " 3:  4.4914e-02  2.0148e-02  2e-02  1e-16  2e-15\n",
      " 4:  3.2967e-02  3.0559e-02  2e-03  1e-16  1e-15\n",
      " 5:  3.1091e-02  3.0953e-02  1e-04  8e-17  1e-15\n",
      " 6:  3.0968e-02  3.0964e-02  4e-06  1e-16  6e-16\n",
      " 7:  3.0964e-02  3.0964e-02  5e-08  3e-16  6e-16\n",
      "Optimal solution found.\n",
      "     pcost       dcost       gap    pres   dres\n",
      " 0:  3.6932e-02 -1.0803e+00  4e+01  5e+00  6e+00\n",
      " 1:  1.0601e-01 -5.7535e-01  2e+00  1e-01  2e-01\n",
      " 2:  7.8188e-02 -4.2671e-02  2e-01  1e-02  2e-02\n",
      " 3:  4.8414e-02  2.4285e-02  2e-02  1e-16  1e-15\n",
      " 4:  3.6873e-02  3.4556e-02  2e-03  1e-16  1e-15\n",
      " 5:  3.5060e-02  3.4931e-02  1e-04  1e-16  9e-16\n",
      " 6:  3.4947e-02  3.4942e-02  5e-06  1e-16  7e-16\n",
      " 7:  3.4942e-02  3.4942e-02  7e-08  3e-16  2e-15\n",
      "Optimal solution found.\n",
      "     pcost       dcost       gap    pres   dres\n",
      " 0:  4.0970e-02 -1.0782e+00  4e+01  5e+00  6e+00\n",
      " 1:  1.0870e-01 -5.6899e-01  2e+00  1e-01  2e-01\n",
      " 2:  8.0272e-02 -3.7840e-02  2e-01  1e-02  2e-02\n",
      " 3:  5.1876e-02  2.8359e-02  2e-02  2e-16  2e-15\n",
      " 4:  4.0722e-02  3.8492e-02  2e-03  3e-16  1e-15\n",
      " 5:  3.8970e-02  3.8850e-02  1e-04  2e-16  1e-15\n",
      " 6:  3.8866e-02  3.8862e-02  5e-06  6e-17  7e-16\n",
      " 7:  3.8862e-02  3.8862e-02  1e-07  2e-16  5e-16\n",
      " 8:  3.8862e-02  3.8862e-02  1e-09  1e-16  7e-16\n",
      "Optimal solution found.\n",
      "     pcost       dcost       gap    pres   dres\n",
      " 0:  4.4862e-02 -1.0761e+00  4e+01  5e+00  6e+00\n",
      " 1:  1.1131e-01 -5.6281e-01  2e+00  1e-01  2e-01\n",
      " 2:  8.2437e-02 -3.3137e-02  2e-01  1e-02  2e-02\n",
      " 3:  5.5312e-02  3.2376e-02  2e-02  6e-17  1e-15\n",
      " 4:  4.4523e-02  4.2375e-02  2e-03  6e-17  9e-16\n",
      " 5:  4.2829e-02  4.2718e-02  1e-04  1e-16  1e-15\n",
      " 6:  4.2735e-02  4.2730e-02  5e-06  1e-16  1e-15\n",
      " 7:  4.2730e-02  4.2730e-02  2e-07  1e-16  6e-16\n",
      " 8:  4.2730e-02  4.2730e-02  2e-09  1e-16  1e-15\n",
      "Optimal solution found.\n",
      "     pcost       dcost       gap    pres   dres\n",
      " 0:  4.8622e-02 -1.0739e+00  4e+01  5e+00  6e+00\n",
      " 1:  1.1386e-01 -5.5678e-01  2e+00  1e-01  2e-01\n",
      " 2:  8.4714e-02 -2.8572e-02  2e-01  1e-02  2e-02\n",
      " 3:  5.8731e-02  3.6341e-02  2e-02  1e-16  2e-15\n",
      " 4:  4.8283e-02  4.6211e-02  2e-03  2e-16  1e-15\n",
      " 5:  4.6644e-02  4.6540e-02  1e-04  1e-17  1e-15\n",
      " 6:  4.6558e-02  4.6553e-02  5e-06  3e-17  1e-15\n",
      " 7:  4.6553e-02  4.6553e-02  3e-07  2e-16  8e-16\n",
      " 8:  4.6553e-02  4.6553e-02  3e-09  2e-16  7e-16\n",
      "Optimal solution found.\n",
      "     pcost       dcost       gap    pres   dres\n",
      " 0:  5.2265e-02 -1.0717e+00  4e+01  5e+00  6e+00\n",
      " 1:  1.1636e-01 -5.5091e-01  2e+00  1e-01  2e-01\n",
      " 2:  8.7006e-02 -2.4082e-02  2e-01  1e-02  2e-02\n",
      " 3:  6.2126e-02  4.0262e-02  2e-02  4e-16  3e-15\n",
      " 4:  5.2005e-02  5.0005e-02  2e-03  3e-16  1e-15\n",
      " 5:  5.0419e-02  5.0323e-02  1e-04  9e-17  8e-16\n",
      " 6:  5.0341e-02  5.0336e-02  5e-06  1e-16  1e-15\n",
      " 7:  5.0337e-02  5.0337e-02  4e-07  1e-16  1e-15\n",
      " 8:  5.0337e-02  5.0337e-02  1e-08  3e-16  5e-16\n",
      "Optimal solution found.\n",
      "     pcost       dcost       gap    pres   dres\n",
      " 0:  5.5803e-02 -1.0694e+00  4e+01  5e+00  6e+00\n",
      " 1:  1.1880e-01 -5.4517e-01  2e+00  1e-01  2e-01\n",
      " 2:  8.9312e-02 -1.9664e-02  2e-01  1e-02  2e-02\n",
      " 3:  6.5569e-02  4.4089e-02  2e-02  4e-16  2e-15\n",
      " 4:  5.5705e-02  5.3761e-02  2e-03  1e-16  1e-15\n",
      " 5:  5.4160e-02  5.4070e-02  9e-05  1e-16  8e-16\n",
      " 6:  5.4089e-02  5.4084e-02  5e-06  2e-16  9e-16\n",
      " 7:  5.4086e-02  5.4085e-02  6e-07  1e-16  1e-15\n",
      " 8:  5.4085e-02  5.4085e-02  6e-08  3e-16  1e-15\n",
      "Optimal solution found.\n",
      "     pcost       dcost       gap    pres   dres\n",
      " 0:  5.9244e-02 -1.0671e+00  4e+01  5e+00  6e+00\n",
      " 1:  1.2120e-01 -5.3956e-01  2e+00  1e-01  2e-01\n",
      " 2:  9.1634e-02 -1.5312e-02  2e-01  1e-02  2e-02\n",
      " 3:  6.8996e-02  4.7879e-02  2e-02  3e-16  2e-15\n",
      " 4:  5.9375e-02  5.7484e-02  2e-03  1e-16  2e-15\n",
      " 5:  5.7872e-02  5.7786e-02  9e-05  1e-16  1e-15\n",
      " 6:  5.7806e-02  5.7801e-02  5e-06  2e-16  7e-16\n",
      " 7:  5.7803e-02  5.7803e-02  6e-07  1e-16  1e-15\n",
      " 8:  5.7803e-02  5.7803e-02  7e-08  2e-16  1e-15\n",
      "Optimal solution found.\n",
      "     pcost       dcost       gap    pres   dres\n",
      " 0:  6.2599e-02 -1.0647e+00  4e+01  5e+00  6e+00\n",
      " 1:  1.2357e-01 -5.3408e-01  2e+00  1e-01  2e-01\n",
      " 2:  9.3970e-02 -1.1021e-02  2e-01  1e-02  1e-02\n",
      " 3:  7.2411e-02  5.1637e-02  2e-02  4e-16  3e-15\n",
      " 4:  6.3019e-02  6.1178e-02  2e-03  8e-17  2e-15\n",
      " 5:  6.1557e-02  6.1473e-02  8e-05  3e-16  8e-16\n",
      " 6:  6.1494e-02  6.1489e-02  5e-06  2e-16  1e-15\n",
      " 7:  6.1492e-02  6.1492e-02  4e-07  7e-17  1e-15\n",
      " 8:  6.1492e-02  6.1492e-02  1e-08  6e-17  1e-15\n",
      "Optimal solution found.\n",
      "     pcost       dcost       gap    pres   dres\n",
      " 0:  6.5876e-02 -1.0623e+00  4e+01  5e+00  6e+00\n",
      " 1:  1.2589e-01 -5.2871e-01  2e+00  1e-01  2e-01\n",
      " 2:  9.6320e-02 -6.7889e-03  2e-01  1e-02  1e-02\n",
      " 3:  7.5815e-02  5.5365e-02  2e-02  2e-16  3e-15\n",
      " 4:  6.6652e-02  6.4833e-02  2e-03  1e-16  1e-15\n",
      " 5:  6.5218e-02  6.5136e-02  8e-05  2e-16  1e-15\n",
      " 6:  6.5157e-02  6.5153e-02  4e-06  1e-16  1e-15\n",
      " 7:  6.5155e-02  6.5155e-02  3e-07  2e-16  8e-16\n",
      " 8:  6.5155e-02  6.5155e-02  3e-09  6e-17  1e-15\n",
      "Optimal solution found.\n",
      "     pcost       dcost       gap    pres   dres\n",
      " 0:  6.9081e-02 -1.0599e+00  4e+01  5e+00  7e+00\n",
      " 1:  1.2820e-01 -5.2344e-01  2e+00  1e-01  2e-01\n",
      " 2:  9.8683e-02 -2.6104e-03  2e-01  1e-02  1e-02\n",
      " 3:  7.9211e-02  5.9065e-02  2e-02  2e-16  4e-15\n",
      " 4:  7.0265e-02  6.8463e-02  2e-03  2e-16  2e-15\n",
      " 5:  6.8856e-02  6.8775e-02  8e-05  2e-16  2e-15\n",
      " 6:  6.8797e-02  6.8793e-02  4e-06  2e-16  8e-16\n",
      " 7:  6.8796e-02  6.8796e-02  1e-07  1e-16  8e-16\n",
      " 8:  6.8796e-02  6.8796e-02  1e-09  4e-18  1e-15\n",
      "Optimal solution found.\n",
      "     pcost       dcost       gap    pres   dres\n",
      " 0:  7.2221e-02 -1.0574e+00  4e+01  5e+00  7e+00\n",
      " 1:  1.3047e-01 -5.1827e-01  2e+00  1e-01  2e-01\n",
      " 2:  1.0106e-01  1.5175e-03  2e-01  1e-02  1e-02\n",
      " 3:  8.2601e-02  6.2739e-02  2e-02  6e-17  5e-15\n",
      " 4:  7.3858e-02  7.2073e-02  2e-03  2e-16  1e-15\n",
      " 5:  7.2476e-02  7.2394e-02  8e-05  2e-16  8e-16\n",
      " 6:  7.2416e-02  7.2413e-02  3e-06  2e-16  9e-16\n",
      " 7:  7.2415e-02  7.2415e-02  8e-08  1e-16  1e-15\n",
      "Optimal solution found.\n",
      "     pcost       dcost       gap    pres   dres\n",
      " 0:  7.5302e-02 -1.0549e+00  4e+01  5e+00  7e+00\n",
      " 1:  1.3272e-01 -5.1320e-01  2e+00  1e-01  2e-01\n",
      " 2:  1.0342e-01  4.4485e-03  2e-01  1e-02  1e-02\n",
      " 3:  8.6093e-02  6.6277e-02  2e-02  3e-17  3e-15\n",
      " 4:  7.7451e-02  7.5661e-02  2e-03  2e-16  1e-15\n",
      " 5:  7.6078e-02  7.5995e-02  8e-05  1e-16  2e-15\n",
      " 6:  7.6017e-02  7.6014e-02  3e-06  2e-16  1e-15\n",
      " 7:  7.6016e-02  7.6016e-02  5e-08  2e-16  8e-16\n",
      "Optimal solution found.\n",
      "     pcost       dcost       gap    pres   dres\n",
      " 0:  7.8329e-02 -1.0524e+00  4e+01  5e+00  7e+00\n",
      " 1:  1.3495e-01 -5.0821e-01  2e+00  1e-01  2e-01\n",
      " 2:  1.0576e-01  6.5317e-03  2e-01  1e-02  1e-02\n",
      " 3:  8.9647e-02  6.9716e-02  2e-02  3e-16  9e-15\n",
      " 4:  8.1040e-02  7.9229e-02  2e-03  1e-16  2e-15\n",
      " 5:  7.9665e-02  7.9578e-02  9e-05  1e-16  1e-15\n",
      " 6:  7.9600e-02  7.9597e-02  3e-06  2e-16  1e-15\n",
      " 7:  7.9599e-02  7.9599e-02  3e-08  2e-16  9e-16\n",
      "Optimal solution found.\n",
      "     pcost       dcost       gap    pres   dres\n",
      " 0:  8.1307e-02 -1.0499e+00  4e+01  5e+00  7e+00\n",
      " 1:  1.3717e-01 -5.0331e-01  2e+00  1e-01  2e-01\n",
      " 2:  1.0811e-01  8.6551e-03  2e-01  1e-02  1e-02\n",
      " 3:  9.3182e-02  7.3146e-02  2e-02  2e-16  5e-15\n",
      " 4:  8.4612e-02  8.2783e-02  2e-03  2e-16  2e-15\n",
      " 5:  8.3235e-02  8.3145e-02  9e-05  2e-16  1e-15\n",
      " 6:  8.3168e-02  8.3165e-02  2e-06  2e-16  9e-16\n",
      " 7:  8.3167e-02  8.3167e-02  2e-08  1e-16  1e-15\n",
      "Optimal solution found.\n",
      "     pcost       dcost       gap    pres   dres\n",
      " 0:  8.4239e-02 -1.0473e+00  4e+01  5e+00  7e+00\n",
      " 1:  1.3937e-01 -4.9849e-01  2e+00  1e-01  2e-01\n",
      " 2:  1.1048e-01  1.0815e-02  2e-01  1e-02  1e-02\n",
      " 3:  9.6699e-02  7.6568e-02  2e-02  3e-16  6e-15\n",
      " 4:  8.8168e-02  8.6322e-02  2e-03  4e-17  1e-15\n",
      " 5:  8.6792e-02  8.6699e-02  9e-05  2e-16  1e-15\n",
      " 6:  8.6721e-02  8.6719e-02  2e-06  2e-16  9e-16\n",
      " 7:  8.6720e-02  8.6720e-02  2e-08  7e-17  1e-15\n",
      "Optimal solution found.\n",
      "     pcost       dcost       gap    pres   dres\n",
      " 0:  8.7131e-02 -1.0447e+00  4e+01  5e+00  7e+00\n",
      " 1:  1.4155e-01 -4.9374e-01  2e+00  1e-01  2e-01\n",
      " 2:  1.1285e-01  1.3010e-02  2e-01  1e-02  2e-02\n",
      " 3:  1.0020e-01  7.9982e-02  2e-02  5e-16  4e-15\n",
      " 4:  9.1709e-02  8.9848e-02  2e-03  1e-16  1e-15\n",
      " 5:  9.0335e-02  9.0239e-02  1e-04  5e-18  1e-15\n",
      " 6:  9.0261e-02  9.0260e-02  2e-06  6e-17  8e-16\n",
      " 7:  9.0260e-02  9.0260e-02  2e-08  4e-16  1e-15\n",
      "Optimal solution found.\n",
      "     pcost       dcost       gap    pres   dres\n",
      " 0:  8.9984e-02 -1.0421e+00  4e+01  5e+00  7e+00\n",
      " 1:  1.4373e-01 -4.8906e-01  2e+00  1e-01  2e-01\n",
      " 2:  1.1523e-01  1.5235e-02  2e-01  1e-02  2e-02\n",
      " 3:  1.0368e-01  8.3385e-02  2e-02  7e-07  9e-07\n",
      " 4:  9.5237e-02  9.3362e-02  2e-03  2e-08  3e-08\n",
      " 5:  9.3867e-02  9.3768e-02  1e-04  1e-10  1e-10\n",
      " 6:  9.3790e-02  9.3788e-02  2e-06  9e-13  1e-12\n",
      " 7:  9.3789e-02  9.3789e-02  2e-08  9e-15  1e-14\n",
      "Optimal solution found.\n",
      "     pcost       dcost       gap    pres   dres\n",
      " 0:  9.2802e-02 -1.0395e+00  4e+01  5e+00  7e+00\n",
      " 1:  1.4589e-01 -4.8445e-01  2e+00  1e-01  2e-01\n",
      " 2:  1.1762e-01  1.7488e-02  2e-01  1e-02  2e-02\n",
      " 3:  1.0715e-01  8.6703e-02  2e-02  2e-05  2e-05\n",
      " 4:  9.8757e-02  9.6865e-02  2e-03  6e-07  8e-07\n",
      " 5:  9.7387e-02  9.7285e-02  1e-04  3e-09  4e-09\n",
      " 6:  9.7307e-02  9.7305e-02  1e-06  3e-11  3e-11\n",
      " 7:  9.7306e-02  9.7306e-02  1e-08  3e-13  3e-13\n",
      "Optimal solution found.\n",
      "     pcost       dcost       gap    pres   dres\n",
      " 0:  9.5589e-02 -1.0369e+00  4e+01  5e+00  7e+00\n",
      " 1:  1.4804e-01 -4.7990e-01  2e+00  1e-01  2e-01\n",
      " 2:  1.2002e-01  1.9769e-02  2e-01  1e-02  2e-02\n",
      " 3:  1.1060e-01  9.0031e-02  2e-02  3e-05  4e-05\n",
      " 4:  1.0226e-01  1.0036e-01  2e-03  1e-06  1e-06\n",
      " 5:  1.0090e-01  1.0079e-01  1e-04  5e-09  7e-09\n",
      " 6:  1.0081e-01  1.0081e-01  1e-06  5e-11  6e-11\n",
      " 7:  1.0081e-01  1.0081e-01  1e-08  5e-13  6e-13\n",
      "Optimal solution found.\n",
      "     pcost       dcost       gap    pres   dres\n",
      " 0:  9.8346e-02 -1.0343e+00  4e+01  5e+00  7e+00\n",
      " 1:  1.5019e-01 -4.7542e-01  2e+00  1e-01  2e-01\n",
      " 2:  1.2243e-01  2.2073e-02  2e-01  1e-02  2e-02\n",
      " 3:  1.1404e-01  9.3364e-02  2e-02  4e-05  6e-05\n",
      " 4:  1.0576e-01  1.0384e-01  2e-03  1e-06  2e-06\n",
      " 5:  1.0440e-01  1.0429e-01  1e-04  7e-09  1e-08\n",
      " 6:  1.0431e-01  1.0431e-01  1e-06  7e-11  9e-11\n",
      " 7:  1.0431e-01  1.0431e-01  1e-08  7e-13  9e-13\n",
      "Optimal solution found.\n"
     ]
    }
   ],
   "source": [
    "risk_aversion = [ra/2.0 for ra in range(41)]\n",
    "returns = [portfolio(alpha) for alpha in risk_aversion]"
   ]
  },
  {
   "cell_type": "code",
   "execution_count": 13,
   "metadata": {
    "collapsed": false,
    "deletable": true,
    "editable": true,
    "scrolled": true,
    "slideshow": {
     "slide_type": "subslide"
    }
   },
   "outputs": [
    {
     "data": {
      "text/html": [
       "\n",
       "\n",
       "    <div class=\"bk-root\">\n",
       "        <div class=\"bk-plotdiv\" id=\"95511947-6133-4535-a206-c85c5fd4bc14\"></div>\n",
       "    </div>\n",
       "<script type=\"text/javascript\">\n",
       "  \n",
       "  (function(global) {\n",
       "    function now() {\n",
       "      return new Date();\n",
       "    }\n",
       "  \n",
       "    var force = false;\n",
       "  \n",
       "    if (typeof (window._bokeh_onload_callbacks) === \"undefined\" || force === true) {\n",
       "      window._bokeh_onload_callbacks = [];\n",
       "      window._bokeh_is_loading = undefined;\n",
       "    }\n",
       "  \n",
       "  \n",
       "    \n",
       "    if (typeof (window._bokeh_timeout) === \"undefined\" || force === true) {\n",
       "      window._bokeh_timeout = Date.now() + 0;\n",
       "      window._bokeh_failed_load = false;\n",
       "    }\n",
       "  \n",
       "    var NB_LOAD_WARNING = {'data': {'text/html':\n",
       "       \"<div style='background-color: #fdd'>\\n\"+\n",
       "       \"<p>\\n\"+\n",
       "       \"BokehJS does not appear to have successfully loaded. If loading BokehJS from CDN, this \\n\"+\n",
       "       \"may be due to a slow or bad network connection. Possible fixes:\\n\"+\n",
       "       \"</p>\\n\"+\n",
       "       \"<ul>\\n\"+\n",
       "       \"<li>re-rerun `output_notebook()` to attempt to load from CDN again, or</li>\\n\"+\n",
       "       \"<li>use INLINE resources instead, as so:</li>\\n\"+\n",
       "       \"</ul>\\n\"+\n",
       "       \"<code>\\n\"+\n",
       "       \"from bokeh.resources import INLINE\\n\"+\n",
       "       \"output_notebook(resources=INLINE)\\n\"+\n",
       "       \"</code>\\n\"+\n",
       "       \"</div>\"}};\n",
       "  \n",
       "    function display_loaded() {\n",
       "      if (window.Bokeh !== undefined) {\n",
       "        document.getElementById(\"95511947-6133-4535-a206-c85c5fd4bc14\").textContent = \"BokehJS successfully loaded.\";\n",
       "      } else if (Date.now() < window._bokeh_timeout) {\n",
       "        setTimeout(display_loaded, 100)\n",
       "      }\n",
       "    }\n",
       "  \n",
       "    function run_callbacks() {\n",
       "      window._bokeh_onload_callbacks.forEach(function(callback) { callback() });\n",
       "      delete window._bokeh_onload_callbacks\n",
       "      console.info(\"Bokeh: all callbacks have finished\");\n",
       "    }\n",
       "  \n",
       "    function load_libs(js_urls, callback) {\n",
       "      window._bokeh_onload_callbacks.push(callback);\n",
       "      if (window._bokeh_is_loading > 0) {\n",
       "        console.log(\"Bokeh: BokehJS is being loaded, scheduling callback at\", now());\n",
       "        return null;\n",
       "      }\n",
       "      if (js_urls == null || js_urls.length === 0) {\n",
       "        run_callbacks();\n",
       "        return null;\n",
       "      }\n",
       "      console.log(\"Bokeh: BokehJS not loaded, scheduling load and callback at\", now());\n",
       "      window._bokeh_is_loading = js_urls.length;\n",
       "      for (var i = 0; i < js_urls.length; i++) {\n",
       "        var url = js_urls[i];\n",
       "        var s = document.createElement('script');\n",
       "        s.src = url;\n",
       "        s.async = false;\n",
       "        s.onreadystatechange = s.onload = function() {\n",
       "          window._bokeh_is_loading--;\n",
       "          if (window._bokeh_is_loading === 0) {\n",
       "            console.log(\"Bokeh: all BokehJS libraries loaded\");\n",
       "            run_callbacks()\n",
       "          }\n",
       "        };\n",
       "        s.onerror = function() {\n",
       "          console.warn(\"failed to load library \" + url);\n",
       "        };\n",
       "        console.log(\"Bokeh: injecting script tag for BokehJS library: \", url);\n",
       "        document.getElementsByTagName(\"head\")[0].appendChild(s);\n",
       "      }\n",
       "    };var element = document.getElementById(\"95511947-6133-4535-a206-c85c5fd4bc14\");\n",
       "    if (element == null) {\n",
       "      console.log(\"Bokeh: ERROR: autoload.js configured with elementid '95511947-6133-4535-a206-c85c5fd4bc14' but no matching script tag was found. \")\n",
       "      return false;\n",
       "    }\n",
       "  \n",
       "    var js_urls = [];\n",
       "  \n",
       "    var inline_js = [\n",
       "      function(Bokeh) {\n",
       "        (function() {\n",
       "          var fn = function() {\n",
       "            var docs_json = {\"d071d8ab-07c4-4985-88d9-9a063c5f4ccd\":{\"roots\":{\"references\":[{\"attributes\":{\"plot\":{\"id\":\"ad933370-29e8-40e1-b731-a2193f4b9586\",\"subtype\":\"Chart\",\"type\":\"Plot\"}},\"id\":\"15a784fc-73a5-4e60-afd9-d7468c983718\",\"type\":\"HelpTool\"},{\"attributes\":{\"plot\":{\"id\":\"ad933370-29e8-40e1-b731-a2193f4b9586\",\"subtype\":\"Chart\",\"type\":\"Plot\"}},\"id\":\"7da0c55c-2388-4b77-b1c8-5f7cf2d18575\",\"type\":\"ResetTool\"},{\"attributes\":{\"bottom_units\":\"screen\",\"fill_alpha\":{\"value\":0.5},\"fill_color\":{\"value\":\"lightgrey\"},\"left_units\":\"screen\",\"level\":\"overlay\",\"line_alpha\":{\"value\":1.0},\"line_color\":{\"value\":\"black\"},\"line_dash\":[4,4],\"line_width\":{\"value\":2},\"plot\":null,\"render_mode\":\"css\",\"right_units\":\"screen\",\"top_units\":\"screen\"},\"id\":\"94a75103-688d-45eb-ad2a-fe7c4377448a\",\"type\":\"BoxAnnotation\"},{\"attributes\":{\"callback\":null,\"column_names\":[\"x_values\",\"y_values\"],\"data\":{\"chart_index\":[null,null,null,null,null,null,null,null,null,null,null,null,null,null,null,null,null,null,null,null,null,null,null,null,null,null,null,null,null,null,null,null,null,null,null,null,null,null,null,null,null],\"x_values\":{\"__ndarray__\":\"AAAAAAAAAAAAAAAAAADgPwAAAAAAAPA/AAAAAAAA+D8AAAAAAAAAQAAAAAAAAARAAAAAAAAACEAAAAAAAAAMQAAAAAAAABBAAAAAAAAAEkAAAAAAAAAUQAAAAAAAABZAAAAAAAAAGEAAAAAAAAAaQAAAAAAAABxAAAAAAAAAHkAAAAAAAAAgQAAAAAAAACFAAAAAAAAAIkAAAAAAAAAjQAAAAAAAACRAAAAAAAAAJUAAAAAAAAAmQAAAAAAAACdAAAAAAAAAKEAAAAAAAAApQAAAAAAAACpAAAAAAAAAK0AAAAAAAAAsQAAAAAAAAC1AAAAAAAAALkAAAAAAAAAvQAAAAAAAADBAAAAAAACAMEAAAAAAAAAxQAAAAAAAgDFAAAAAAAAAMkAAAAAAAIAyQAAAAAAAADNAAAAAAACAM0AAAAAAAAA0QA==\",\"dtype\":\"float64\",\"shape\":[41]},\"y_values\":{\"__ndarray__\":\"4rDpOWld0j/Kcwq9FUDQP4W02Q5FF9A/jQomY30Zyj84+MwYEUfEP5seWGLQyMA/HCpNPUrpvD/4piTVnpW5P3uQZ0/eFrc/vQZYpw8mtT/Qsn+AnZizPzsoJ6FuU7I/6xUZOHJEsT9+tiB5Jl+wP7pZIsQ4Na8/QCy7nI3grT8YSJDCd7asP0u0omZzr6s/7JK/MqjFqj8tpPW5ePSpP6SeZZEzOKk/5fnMotqNqD/TWA6QCfOnP2mj5RGnZac/wKf/Twzkpj/Z4O87zGymP2S4t6CB/qU/9eC8/lCXpT/7z4+JNzalP6uCNsty26Q/Y8LUyLSGpD8Tnu/xXzekP4OP8OgU7aM/jw7cQEanoz80j1dMkWWjP1KfhfmcJ6M/HGzJiBntoj9ZWKekv7WiP0GgLXBPgaI/0EAck49Poj/awMVqTCCiPw==\",\"dtype\":\"float64\",\"shape\":[41]}}},\"id\":\"264bb2cd-abe9-463a-b4ba-42328e2f186b\",\"type\":\"ColumnDataSource\"},{\"attributes\":{\"dimension\":1,\"plot\":{\"id\":\"ad933370-29e8-40e1-b731-a2193f4b9586\",\"subtype\":\"Chart\",\"type\":\"Plot\"},\"ticker\":{\"id\":\"32e545bb-e504-4d64-acc7-ad72d388758d\",\"type\":\"BasicTicker\"}},\"id\":\"5ea41efe-117b-4559-a4b3-6b46c919f5b1\",\"type\":\"Grid\"},{\"attributes\":{},\"id\":\"1d37cfbf-2ab8-4cb4-a1fb-5189bd03f791\",\"type\":\"BasicTickFormatter\"},{\"attributes\":{},\"id\":\"32e545bb-e504-4d64-acc7-ad72d388758d\",\"type\":\"BasicTicker\"},{\"attributes\":{},\"id\":\"d8052c5b-bd22-4ce2-97dd-76689a423c78\",\"type\":\"ToolEvents\"},{\"attributes\":{\"below\":[{\"id\":\"8bbf60ab-d5e6-4d8d-a579-bc9713864442\",\"type\":\"LinearAxis\"}],\"css_classes\":null,\"height\":400,\"left\":[{\"id\":\"794deb33-d18a-4c53-866f-24410e8d5f86\",\"type\":\"LinearAxis\"}],\"renderers\":[{\"id\":\"94a75103-688d-45eb-ad2a-fe7c4377448a\",\"type\":\"BoxAnnotation\"},{\"id\":\"37bce2ad-954e-4e88-952d-e11b832017bd\",\"type\":\"GlyphRenderer\"},{\"id\":\"b4ec2272-1ca4-4d62-87df-caf63287443c\",\"type\":\"Legend\"},{\"id\":\"8bbf60ab-d5e6-4d8d-a579-bc9713864442\",\"type\":\"LinearAxis\"},{\"id\":\"794deb33-d18a-4c53-866f-24410e8d5f86\",\"type\":\"LinearAxis\"},{\"id\":\"0f66be60-d87b-4f63-a602-7a84b9f28c5a\",\"type\":\"Grid\"},{\"id\":\"5ea41efe-117b-4559-a4b3-6b46c919f5b1\",\"type\":\"Grid\"}],\"title\":{\"id\":\"69953caa-4aab-4d14-94c5-36543d47de37\",\"type\":\"Title\"},\"tool_events\":{\"id\":\"d8052c5b-bd22-4ce2-97dd-76689a423c78\",\"type\":\"ToolEvents\"},\"toolbar\":{\"id\":\"7f69af05-a3c5-4e57-9116-cf0ada079724\",\"type\":\"Toolbar\"},\"width\":750,\"x_mapper_type\":\"auto\",\"x_range\":{\"id\":\"2ec2030d-d0da-4bc5-a309-5e6a0913cfa7\",\"type\":\"Range1d\"},\"y_mapper_type\":\"auto\",\"y_range\":{\"id\":\"d1e9d454-c922-4ccf-9dbc-05785015f4f6\",\"type\":\"Range1d\"}},\"id\":\"ad933370-29e8-40e1-b731-a2193f4b9586\",\"subtype\":\"Chart\",\"type\":\"Plot\"},{\"attributes\":{\"axis_label\":\"risk aversion\",\"formatter\":{\"id\":\"9083b93e-bdf8-4d28-982c-a5e0dda4203a\",\"type\":\"BasicTickFormatter\"},\"plot\":{\"id\":\"ad933370-29e8-40e1-b731-a2193f4b9586\",\"subtype\":\"Chart\",\"type\":\"Plot\"},\"ticker\":{\"id\":\"390f00d9-91a8-4852-b854-c5c5c9758946\",\"type\":\"BasicTicker\"}},\"id\":\"8bbf60ab-d5e6-4d8d-a579-bc9713864442\",\"type\":\"LinearAxis\"},{\"attributes\":{\"plot\":null,\"text\":null},\"id\":\"69953caa-4aab-4d14-94c5-36543d47de37\",\"type\":\"Title\"},{\"attributes\":{\"active_drag\":\"auto\",\"active_scroll\":\"auto\",\"active_tap\":\"auto\",\"tools\":[{\"id\":\"6c4fff6e-7433-46eb-9c01-6ccff8bbd9c7\",\"type\":\"PanTool\"},{\"id\":\"88f14375-000a-47be-984f-dac959d85509\",\"type\":\"WheelZoomTool\"},{\"id\":\"bf7d65b6-c469-4d9a-82e2-d049ea9734e6\",\"type\":\"BoxZoomTool\"},{\"id\":\"5257f4c2-7a55-4f36-9b51-ec9b6822f2b7\",\"type\":\"SaveTool\"},{\"id\":\"7da0c55c-2388-4b77-b1c8-5f7cf2d18575\",\"type\":\"ResetTool\"},{\"id\":\"15a784fc-73a5-4e60-afd9-d7468c983718\",\"type\":\"HelpTool\"}]},\"id\":\"7f69af05-a3c5-4e57-9116-cf0ada079724\",\"type\":\"Toolbar\"},{\"attributes\":{\"plot\":{\"id\":\"ad933370-29e8-40e1-b731-a2193f4b9586\",\"subtype\":\"Chart\",\"type\":\"Plot\"},\"ticker\":{\"id\":\"390f00d9-91a8-4852-b854-c5c5c9758946\",\"type\":\"BasicTicker\"}},\"id\":\"0f66be60-d87b-4f63-a602-7a84b9f28c5a\",\"type\":\"Grid\"},{\"attributes\":{\"plot\":{\"id\":\"ad933370-29e8-40e1-b731-a2193f4b9586\",\"subtype\":\"Chart\",\"type\":\"Plot\"}},\"id\":\"6c4fff6e-7433-46eb-9c01-6ccff8bbd9c7\",\"type\":\"PanTool\"},{\"attributes\":{\"location\":\"top_left\",\"plot\":{\"id\":\"ad933370-29e8-40e1-b731-a2193f4b9586\",\"subtype\":\"Chart\",\"type\":\"Plot\"}},\"id\":\"b4ec2272-1ca4-4d62-87df-caf63287443c\",\"type\":\"Legend\"},{\"attributes\":{},\"id\":\"390f00d9-91a8-4852-b854-c5c5c9758946\",\"type\":\"BasicTicker\"},{\"attributes\":{\"overlay\":{\"id\":\"94a75103-688d-45eb-ad2a-fe7c4377448a\",\"type\":\"BoxAnnotation\"},\"plot\":{\"id\":\"ad933370-29e8-40e1-b731-a2193f4b9586\",\"subtype\":\"Chart\",\"type\":\"Plot\"}},\"id\":\"bf7d65b6-c469-4d9a-82e2-d049ea9734e6\",\"type\":\"BoxZoomTool\"},{\"attributes\":{\"callback\":null,\"end\":0.3121062263562203,\"start\":0.0102477990928382},\"id\":\"d1e9d454-c922-4ccf-9dbc-05785015f4f6\",\"type\":\"Range1d\"},{\"attributes\":{\"plot\":{\"id\":\"ad933370-29e8-40e1-b731-a2193f4b9586\",\"subtype\":\"Chart\",\"type\":\"Plot\"}},\"id\":\"5257f4c2-7a55-4f36-9b51-ec9b6822f2b7\",\"type\":\"SaveTool\"},{\"attributes\":{\"line_color\":{\"value\":\"#f22c40\"},\"line_width\":{\"value\":2},\"x\":{\"field\":\"x_values\"},\"y\":{\"field\":\"y_values\"}},\"id\":\"3921085b-dedd-4b31-a2ed-1afd84987f9c\",\"type\":\"Line\"},{\"attributes\":{\"plot\":{\"id\":\"ad933370-29e8-40e1-b731-a2193f4b9586\",\"subtype\":\"Chart\",\"type\":\"Plot\"}},\"id\":\"88f14375-000a-47be-984f-dac959d85509\",\"type\":\"WheelZoomTool\"},{\"attributes\":{},\"id\":\"9083b93e-bdf8-4d28-982c-a5e0dda4203a\",\"type\":\"BasicTickFormatter\"},{\"attributes\":{\"callback\":null,\"end\":22.0,\"start\":-2.0},\"id\":\"2ec2030d-d0da-4bc5-a309-5e6a0913cfa7\",\"type\":\"Range1d\"},{\"attributes\":{\"axis_label\":\"expected return\",\"formatter\":{\"id\":\"1d37cfbf-2ab8-4cb4-a1fb-5189bd03f791\",\"type\":\"BasicTickFormatter\"},\"plot\":{\"id\":\"ad933370-29e8-40e1-b731-a2193f4b9586\",\"subtype\":\"Chart\",\"type\":\"Plot\"},\"ticker\":{\"id\":\"32e545bb-e504-4d64-acc7-ad72d388758d\",\"type\":\"BasicTicker\"}},\"id\":\"794deb33-d18a-4c53-866f-24410e8d5f86\",\"type\":\"LinearAxis\"},{\"attributes\":{\"data_source\":{\"id\":\"264bb2cd-abe9-463a-b4ba-42328e2f186b\",\"type\":\"ColumnDataSource\"},\"glyph\":{\"id\":\"3921085b-dedd-4b31-a2ed-1afd84987f9c\",\"type\":\"Line\"},\"hover_glyph\":null,\"nonselection_glyph\":null,\"selection_glyph\":null},\"id\":\"37bce2ad-954e-4e88-952d-e11b832017bd\",\"type\":\"GlyphRenderer\"}],\"root_ids\":[\"ad933370-29e8-40e1-b731-a2193f4b9586\"]},\"title\":\"Bokeh Application\",\"version\":\"0.12.4\"}};\n",
       "            var render_items = [{\"docid\":\"d071d8ab-07c4-4985-88d9-9a063c5f4ccd\",\"elementid\":\"95511947-6133-4535-a206-c85c5fd4bc14\",\"modelid\":\"ad933370-29e8-40e1-b731-a2193f4b9586\"}];\n",
       "            \n",
       "            Bokeh.embed.embed_items(docs_json, render_items);\n",
       "          };\n",
       "          if (document.readyState != \"loading\") fn();\n",
       "          else document.addEventListener(\"DOMContentLoaded\", fn);\n",
       "        })();\n",
       "      },\n",
       "      function(Bokeh) {\n",
       "      }\n",
       "    ];\n",
       "  \n",
       "    function run_inline_js() {\n",
       "      \n",
       "      if ((window.Bokeh !== undefined) || (force === true)) {\n",
       "        for (var i = 0; i < inline_js.length; i++) {\n",
       "          inline_js[i](window.Bokeh);\n",
       "        }if (force === true) {\n",
       "          display_loaded();\n",
       "        }} else if (Date.now() < window._bokeh_timeout) {\n",
       "        setTimeout(run_inline_js, 100);\n",
       "      } else if (!window._bokeh_failed_load) {\n",
       "        console.log(\"Bokeh: BokehJS failed to load within specified timeout.\");\n",
       "        window._bokeh_failed_load = true;\n",
       "      } else if (force !== true) {\n",
       "        var cell = $(document.getElementById(\"95511947-6133-4535-a206-c85c5fd4bc14\")).parents('.cell').data().cell;\n",
       "        cell.output_area.append_execute_result(NB_LOAD_WARNING)\n",
       "      }\n",
       "  \n",
       "    }\n",
       "  \n",
       "    if (window._bokeh_is_loading === 0) {\n",
       "      console.log(\"Bokeh: BokehJS loaded, going straight to plotting\");\n",
       "      run_inline_js();\n",
       "    } else {\n",
       "      load_libs(js_urls, function() {\n",
       "        console.log(\"Bokeh: BokehJS plotting callback run at\", now());\n",
       "        run_inline_js();\n",
       "      });\n",
       "    }\n",
       "  }(this));\n",
       "</script>"
      ]
     },
     "metadata": {},
     "output_type": "display_data"
    }
   ],
   "source": [
    "show(Line(\n",
    "    {'risk aversion': risk_aversion, 'expected return': returns}, \n",
    "    x='risk aversion', \n",
    "    y='expected return', \n",
    "    width=750, \n",
    "    height=400\n",
    "))"
   ]
  },
  {
   "cell_type": "markdown",
   "metadata": {
    "deletable": true,
    "editable": true,
    "slideshow": {
     "slide_type": "slide"
    }
   },
   "source": [
    "## Support Vector Machines\n",
    "\n",
    "We want to draw a line that separates two sets with as little misclassification as possible."
   ]
  },
  {
   "cell_type": "markdown",
   "metadata": {
    "deletable": true,
    "editable": true,
    "slideshow": {
     "slide_type": "subslide"
    }
   },
   "source": [
    "If $f(x) \\le 5$, the point is of type $-1$, otherwise it is type $+1$.\n",
    "\n",
    "$$f(x) = (x_1 + \\epsilon_1) - (x_2+ \\epsilon_2)$$  \n",
    "  \n",
    "$$\\epsilon_i \\sim N\\left(0, 1.25^2\\right)\\ \\forall\\ i \\in {1, 2}$$\n"
   ]
  },
  {
   "cell_type": "code",
   "execution_count": 14,
   "metadata": {
    "collapsed": false,
    "deletable": true,
    "editable": true,
    "slideshow": {
     "slide_type": "subslide"
    }
   },
   "outputs": [],
   "source": [
    "x1 = [random.uniform(0, 10) for _ in range(150)]\n",
    "x2 = [random.uniform(0, 10) for _ in range(150)]\n",
    "\n",
    "y = []\n",
    "for xi_1, xi_2 in zip(x1, x2):\n",
    "    eps_1 = random.normalvariate(0, 1.25)\n",
    "    eps_2 = random.normalvariate(0, 1.25)\n",
    "    \n",
    "    if (xi_1 + eps_1) - (xi_2 + eps_2) <= 5:\n",
    "        y.append(-1)\n",
    "    else:\n",
    "        y.append(+1)\n",
    "        \n",
    "X = np.array(list(zip(x1, x2)))\n",
    "y = np.array(y)"
   ]
  },
  {
   "cell_type": "code",
   "execution_count": 15,
   "metadata": {
    "collapsed": false,
    "deletable": true,
    "editable": true,
    "scrolled": false,
    "slideshow": {
     "slide_type": "subslide"
    }
   },
   "outputs": [
    {
     "data": {
      "text/html": [
       "\n",
       "\n",
       "    <div class=\"bk-root\">\n",
       "        <div class=\"bk-plotdiv\" id=\"605887f8-8576-4ad6-9bfb-60e595e3e608\"></div>\n",
       "    </div>\n",
       "<script type=\"text/javascript\">\n",
       "  \n",
       "  (function(global) {\n",
       "    function now() {\n",
       "      return new Date();\n",
       "    }\n",
       "  \n",
       "    var force = false;\n",
       "  \n",
       "    if (typeof (window._bokeh_onload_callbacks) === \"undefined\" || force === true) {\n",
       "      window._bokeh_onload_callbacks = [];\n",
       "      window._bokeh_is_loading = undefined;\n",
       "    }\n",
       "  \n",
       "  \n",
       "    \n",
       "    if (typeof (window._bokeh_timeout) === \"undefined\" || force === true) {\n",
       "      window._bokeh_timeout = Date.now() + 0;\n",
       "      window._bokeh_failed_load = false;\n",
       "    }\n",
       "  \n",
       "    var NB_LOAD_WARNING = {'data': {'text/html':\n",
       "       \"<div style='background-color: #fdd'>\\n\"+\n",
       "       \"<p>\\n\"+\n",
       "       \"BokehJS does not appear to have successfully loaded. If loading BokehJS from CDN, this \\n\"+\n",
       "       \"may be due to a slow or bad network connection. Possible fixes:\\n\"+\n",
       "       \"</p>\\n\"+\n",
       "       \"<ul>\\n\"+\n",
       "       \"<li>re-rerun `output_notebook()` to attempt to load from CDN again, or</li>\\n\"+\n",
       "       \"<li>use INLINE resources instead, as so:</li>\\n\"+\n",
       "       \"</ul>\\n\"+\n",
       "       \"<code>\\n\"+\n",
       "       \"from bokeh.resources import INLINE\\n\"+\n",
       "       \"output_notebook(resources=INLINE)\\n\"+\n",
       "       \"</code>\\n\"+\n",
       "       \"</div>\"}};\n",
       "  \n",
       "    function display_loaded() {\n",
       "      if (window.Bokeh !== undefined) {\n",
       "        document.getElementById(\"605887f8-8576-4ad6-9bfb-60e595e3e608\").textContent = \"BokehJS successfully loaded.\";\n",
       "      } else if (Date.now() < window._bokeh_timeout) {\n",
       "        setTimeout(display_loaded, 100)\n",
       "      }\n",
       "    }\n",
       "  \n",
       "    function run_callbacks() {\n",
       "      window._bokeh_onload_callbacks.forEach(function(callback) { callback() });\n",
       "      delete window._bokeh_onload_callbacks\n",
       "      console.info(\"Bokeh: all callbacks have finished\");\n",
       "    }\n",
       "  \n",
       "    function load_libs(js_urls, callback) {\n",
       "      window._bokeh_onload_callbacks.push(callback);\n",
       "      if (window._bokeh_is_loading > 0) {\n",
       "        console.log(\"Bokeh: BokehJS is being loaded, scheduling callback at\", now());\n",
       "        return null;\n",
       "      }\n",
       "      if (js_urls == null || js_urls.length === 0) {\n",
       "        run_callbacks();\n",
       "        return null;\n",
       "      }\n",
       "      console.log(\"Bokeh: BokehJS not loaded, scheduling load and callback at\", now());\n",
       "      window._bokeh_is_loading = js_urls.length;\n",
       "      for (var i = 0; i < js_urls.length; i++) {\n",
       "        var url = js_urls[i];\n",
       "        var s = document.createElement('script');\n",
       "        s.src = url;\n",
       "        s.async = false;\n",
       "        s.onreadystatechange = s.onload = function() {\n",
       "          window._bokeh_is_loading--;\n",
       "          if (window._bokeh_is_loading === 0) {\n",
       "            console.log(\"Bokeh: all BokehJS libraries loaded\");\n",
       "            run_callbacks()\n",
       "          }\n",
       "        };\n",
       "        s.onerror = function() {\n",
       "          console.warn(\"failed to load library \" + url);\n",
       "        };\n",
       "        console.log(\"Bokeh: injecting script tag for BokehJS library: \", url);\n",
       "        document.getElementsByTagName(\"head\")[0].appendChild(s);\n",
       "      }\n",
       "    };var element = document.getElementById(\"605887f8-8576-4ad6-9bfb-60e595e3e608\");\n",
       "    if (element == null) {\n",
       "      console.log(\"Bokeh: ERROR: autoload.js configured with elementid '605887f8-8576-4ad6-9bfb-60e595e3e608' but no matching script tag was found. \")\n",
       "      return false;\n",
       "    }\n",
       "  \n",
       "    var js_urls = [];\n",
       "  \n",
       "    var inline_js = [\n",
       "      function(Bokeh) {\n",
       "        (function() {\n",
       "          var fn = function() {\n",
       "            var docs_json = {\"eba8e621-ab7a-4ce5-b67c-87c1279038dc\":{\"roots\":{\"references\":[{\"attributes\":{\"fill_alpha\":{\"value\":0.7},\"fill_color\":{\"value\":\"orange\"},\"line_color\":{\"value\":\"orange\"},\"size\":{\"units\":\"screen\",\"value\":8},\"x\":{\"field\":\"x_values\"},\"y\":{\"field\":\"y_values\"}},\"id\":\"fb0d4406-8ac5-4114-97ea-733e8f97638b\",\"type\":\"Square\"},{\"attributes\":{\"plot\":{\"id\":\"dd287e43-90f0-4c19-9bd7-bf3b734cea06\",\"subtype\":\"Chart\",\"type\":\"Plot\"}},\"id\":\"4cea87f7-301a-45ed-8a7b-115c3ab7e33e\",\"type\":\"WheelZoomTool\"},{\"attributes\":{\"axis_label\":\"x1\",\"formatter\":{\"id\":\"2a8d2471-138f-4c45-8d80-5830c2721bbb\",\"type\":\"BasicTickFormatter\"},\"plot\":{\"id\":\"dd287e43-90f0-4c19-9bd7-bf3b734cea06\",\"subtype\":\"Chart\",\"type\":\"Plot\"},\"ticker\":{\"id\":\"df634ec3-f239-4159-bdbe-d78449e8d4d1\",\"type\":\"BasicTicker\"}},\"id\":\"04c0a0ea-b1e5-4987-818c-d5ccae1483d7\",\"type\":\"LinearAxis\"},{\"attributes\":{\"plot\":{\"id\":\"dd287e43-90f0-4c19-9bd7-bf3b734cea06\",\"subtype\":\"Chart\",\"type\":\"Plot\"}},\"id\":\"2da524c2-0d94-4b4d-a845-1c00ed8b1691\",\"type\":\"HelpTool\"},{\"attributes\":{},\"id\":\"e5fbcd1a-2d81-4e05-8027-5fb8795d34d6\",\"type\":\"BasicTicker\"},{\"attributes\":{\"plot\":{\"id\":\"dd287e43-90f0-4c19-9bd7-bf3b734cea06\",\"subtype\":\"Chart\",\"type\":\"Plot\"}},\"id\":\"bc260606-6c27-45cc-9670-c14c0c3a0e31\",\"type\":\"SaveTool\"},{\"attributes\":{},\"id\":\"2a8d2471-138f-4c45-8d80-5830c2721bbb\",\"type\":\"BasicTickFormatter\"},{\"attributes\":{\"fill_alpha\":{\"value\":0.7},\"fill_color\":{\"value\":\"lightblue\"},\"line_color\":{\"value\":\"lightblue\"},\"size\":{\"units\":\"screen\",\"value\":8},\"x\":{\"field\":\"x_values\"},\"y\":{\"field\":\"y_values\"}},\"id\":\"3c0903f2-3526-415a-8ab2-00d4d7e5b11e\",\"type\":\"Circle\"},{\"attributes\":{\"label\":{\"value\":\"-1\"},\"renderers\":[{\"id\":\"00a95f78-bee6-4cb2-b89e-f76be3b9300a\",\"type\":\"GlyphRenderer\"}]},\"id\":\"3e73e4ee-89a1-4a47-ae70-387f70e24ea7\",\"type\":\"LegendItem\"},{\"attributes\":{\"plot\":{\"id\":\"dd287e43-90f0-4c19-9bd7-bf3b734cea06\",\"subtype\":\"Chart\",\"type\":\"Plot\"}},\"id\":\"6e040774-28be-44ea-bd78-8e76ea48cd58\",\"type\":\"ResetTool\"},{\"attributes\":{\"bottom_units\":\"screen\",\"fill_alpha\":{\"value\":0.5},\"fill_color\":{\"value\":\"lightgrey\"},\"left_units\":\"screen\",\"level\":\"overlay\",\"line_alpha\":{\"value\":1.0},\"line_color\":{\"value\":\"black\"},\"line_dash\":[4,4],\"line_width\":{\"value\":2},\"plot\":null,\"render_mode\":\"css\",\"right_units\":\"screen\",\"top_units\":\"screen\"},\"id\":\"07e556de-8430-4b0b-b6f7-0f07f9fd7dda\",\"type\":\"BoxAnnotation\"},{\"attributes\":{},\"id\":\"ec1e3858-072c-4b85-b027-56aad38d90f3\",\"type\":\"BasicTickFormatter\"},{\"attributes\":{\"plot\":{\"id\":\"dd287e43-90f0-4c19-9bd7-bf3b734cea06\",\"subtype\":\"Chart\",\"type\":\"Plot\"}},\"id\":\"494173f0-a075-450b-a140-5e4086958f88\",\"type\":\"PanTool\"},{\"attributes\":{\"below\":[{\"id\":\"04c0a0ea-b1e5-4987-818c-d5ccae1483d7\",\"type\":\"LinearAxis\"}],\"css_classes\":null,\"height\":400,\"left\":[{\"id\":\"e785990e-109f-448a-8348-3da2121e961e\",\"type\":\"LinearAxis\"}],\"renderers\":[{\"id\":\"07e556de-8430-4b0b-b6f7-0f07f9fd7dda\",\"type\":\"BoxAnnotation\"},{\"id\":\"00a95f78-bee6-4cb2-b89e-f76be3b9300a\",\"type\":\"GlyphRenderer\"},{\"id\":\"e78410a6-0f78-4e20-9a5d-cf136277b2f2\",\"type\":\"GlyphRenderer\"},{\"id\":\"82fbfaa4-2c20-409d-b4f1-b09470bb4f58\",\"type\":\"Legend\"},{\"id\":\"04c0a0ea-b1e5-4987-818c-d5ccae1483d7\",\"type\":\"LinearAxis\"},{\"id\":\"e785990e-109f-448a-8348-3da2121e961e\",\"type\":\"LinearAxis\"},{\"id\":\"73fc194f-635d-41bb-bd71-b824007cb66f\",\"type\":\"Grid\"},{\"id\":\"5ee0b23a-a1a7-49da-abb1-b57b17ea6573\",\"type\":\"Grid\"}],\"title\":{\"id\":\"60c164b5-9df1-4f0b-936a-337b1396dbad\",\"type\":\"Title\"},\"tool_events\":{\"id\":\"f6e816ab-1c8e-4f4d-9f14-41faa36004b5\",\"type\":\"ToolEvents\"},\"toolbar\":{\"id\":\"32cefc26-5463-4ca4-9681-d39125871429\",\"type\":\"Toolbar\"},\"width\":750,\"x_mapper_type\":\"auto\",\"x_range\":{\"id\":\"03695b48-0419-4357-a89a-96265a2f5996\",\"type\":\"Range1d\"},\"y_mapper_type\":\"auto\",\"y_range\":{\"id\":\"7bd244bc-89ad-4e22-b8c2-b297422c21c3\",\"type\":\"Range1d\"}},\"id\":\"dd287e43-90f0-4c19-9bd7-bf3b734cea06\",\"subtype\":\"Chart\",\"type\":\"Plot\"},{\"attributes\":{},\"id\":\"f6e816ab-1c8e-4f4d-9f14-41faa36004b5\",\"type\":\"ToolEvents\"},{\"attributes\":{\"callback\":null,\"end\":10.947253095889321,\"start\":-0.843425845035905},\"id\":\"7bd244bc-89ad-4e22-b8c2-b297422c21c3\",\"type\":\"Range1d\"},{\"attributes\":{\"data_source\":{\"id\":\"acb2b05c-d958-452d-831f-6fdc620ae6b5\",\"type\":\"ColumnDataSource\"},\"glyph\":{\"id\":\"fb0d4406-8ac5-4114-97ea-733e8f97638b\",\"type\":\"Square\"},\"hover_glyph\":null,\"nonselection_glyph\":null,\"selection_glyph\":null},\"id\":\"e78410a6-0f78-4e20-9a5d-cf136277b2f2\",\"type\":\"GlyphRenderer\"},{\"attributes\":{\"dimension\":1,\"plot\":{\"id\":\"dd287e43-90f0-4c19-9bd7-bf3b734cea06\",\"subtype\":\"Chart\",\"type\":\"Plot\"},\"ticker\":{\"id\":\"e5fbcd1a-2d81-4e05-8027-5fb8795d34d6\",\"type\":\"BasicTicker\"}},\"id\":\"5ee0b23a-a1a7-49da-abb1-b57b17ea6573\",\"type\":\"Grid\"},{\"attributes\":{\"overlay\":{\"id\":\"07e556de-8430-4b0b-b6f7-0f07f9fd7dda\",\"type\":\"BoxAnnotation\"},\"plot\":{\"id\":\"dd287e43-90f0-4c19-9bd7-bf3b734cea06\",\"subtype\":\"Chart\",\"type\":\"Plot\"}},\"id\":\"820a40de-b39e-4847-8c83-cba30291550d\",\"type\":\"BoxZoomTool\"},{\"attributes\":{\"label\":{\"value\":\"1\"},\"renderers\":[{\"id\":\"e78410a6-0f78-4e20-9a5d-cf136277b2f2\",\"type\":\"GlyphRenderer\"}]},\"id\":\"6f8e7d95-7eff-4096-9fb3-eab0602efb07\",\"type\":\"LegendItem\"},{\"attributes\":{\"data_source\":{\"id\":\"01d33166-e931-4d92-9c85-3d5e9e60a4d3\",\"type\":\"ColumnDataSource\"},\"glyph\":{\"id\":\"3c0903f2-3526-415a-8ab2-00d4d7e5b11e\",\"type\":\"Circle\"},\"hover_glyph\":null,\"nonselection_glyph\":null,\"selection_glyph\":null},\"id\":\"00a95f78-bee6-4cb2-b89e-f76be3b9300a\",\"type\":\"GlyphRenderer\"},{\"attributes\":{\"axis_label\":\"x2\",\"formatter\":{\"id\":\"ec1e3858-072c-4b85-b027-56aad38d90f3\",\"type\":\"BasicTickFormatter\"},\"plot\":{\"id\":\"dd287e43-90f0-4c19-9bd7-bf3b734cea06\",\"subtype\":\"Chart\",\"type\":\"Plot\"},\"ticker\":{\"id\":\"e5fbcd1a-2d81-4e05-8027-5fb8795d34d6\",\"type\":\"BasicTicker\"}},\"id\":\"e785990e-109f-448a-8348-3da2121e961e\",\"type\":\"LinearAxis\"},{\"attributes\":{\"plot\":{\"id\":\"dd287e43-90f0-4c19-9bd7-bf3b734cea06\",\"subtype\":\"Chart\",\"type\":\"Plot\"},\"ticker\":{\"id\":\"df634ec3-f239-4159-bdbe-d78449e8d4d1\",\"type\":\"BasicTicker\"}},\"id\":\"73fc194f-635d-41bb-bd71-b824007cb66f\",\"type\":\"Grid\"},{\"attributes\":{},\"id\":\"df634ec3-f239-4159-bdbe-d78449e8d4d1\",\"type\":\"BasicTicker\"},{\"attributes\":{\"callback\":null,\"column_names\":[\"x_values\",\"y_values\"],\"data\":{\"chart_index\":[{\"y\":1},{\"y\":1},{\"y\":1},{\"y\":1},{\"y\":1},{\"y\":1},{\"y\":1},{\"y\":1},{\"y\":1},{\"y\":1},{\"y\":1},{\"y\":1},{\"y\":1},{\"y\":1},{\"y\":1},{\"y\":1},{\"y\":1},{\"y\":1},{\"y\":1},{\"y\":1},{\"y\":1},{\"y\":1},{\"y\":1}],\"x_values\":{\"__ndarray__\":\"de4cUEHrHEBQkb0lfuwNQCPTk0wYIyJAS0hx2KihIECXi8ObpisiQORC3/UuaxlAhm466WmjI0BgaoSfmgkiQDiaypdX9iFApLBof0c1HkAQ+jOME50hQOquOZYSVSJAV9VJo560FUDiMGfEsqEgQGuptZb77yJAZp2S+aOcI0BuwlQBNrQiQES33MqQ4SBAuER8rI1RHUAQgCqvLVEfQIOaLdokURhALe6VS+kOFUCDDrxWftYhQA==\",\"dtype\":\"float64\",\"shape\":[23]},\"y\":[1,1,1,1,1,1,1,1,1,1,1,1,1,1,1,1,1,1,1,1,1,1,1],\"y_values\":{\"__ndarray__\":\"NqYM4BWLBUBYl3UfiQLYP/IxFdNUSApAPOTkeFTTA0BAdyBTTHnEP17Zp/SofO8/A6/aJAnT8j/npGCe9VEOQGozOUg2gwpAa0vzW2NPGUDJO2ecla0IQB6HNhkEogRAWgLYsK9D+D8EFPEqnhzWP1L6VfopVRtAS8D/IlpmEkA17dlv0OwHQBRh1x60G/8/WP38lE8Y7z+0TIH06CniP2UyNZcmIgdAhZc0COSD8T/cDkI0njULQA==\",\"dtype\":\"float64\",\"shape\":[23]}}},\"id\":\"acb2b05c-d958-452d-831f-6fdc620ae6b5\",\"type\":\"ColumnDataSource\"},{\"attributes\":{\"plot\":null,\"text\":null},\"id\":\"60c164b5-9df1-4f0b-936a-337b1396dbad\",\"type\":\"Title\"},{\"attributes\":{\"items\":[{\"id\":\"3e73e4ee-89a1-4a47-ae70-387f70e24ea7\",\"type\":\"LegendItem\"},{\"id\":\"6f8e7d95-7eff-4096-9fb3-eab0602efb07\",\"type\":\"LegendItem\"}],\"location\":\"top_left\",\"plot\":{\"id\":\"dd287e43-90f0-4c19-9bd7-bf3b734cea06\",\"subtype\":\"Chart\",\"type\":\"Plot\"}},\"id\":\"82fbfaa4-2c20-409d-b4f1-b09470bb4f58\",\"type\":\"Legend\"},{\"attributes\":{\"callback\":null,\"end\":10.934416125787005,\"start\":-0.853462703905562},\"id\":\"03695b48-0419-4357-a89a-96265a2f5996\",\"type\":\"Range1d\"},{\"attributes\":{\"callback\":null,\"column_names\":[\"x_values\",\"y_values\"],\"data\":{\"chart_index\":[{\"y\":-1},{\"y\":-1},{\"y\":-1},{\"y\":-1},{\"y\":-1},{\"y\":-1},{\"y\":-1},{\"y\":-1},{\"y\":-1},{\"y\":-1},{\"y\":-1},{\"y\":-1},{\"y\":-1},{\"y\":-1},{\"y\":-1},{\"y\":-1},{\"y\":-1},{\"y\":-1},{\"y\":-1},{\"y\":-1},{\"y\":-1},{\"y\":-1},{\"y\":-1},{\"y\":-1},{\"y\":-1},{\"y\":-1},{\"y\":-1},{\"y\":-1},{\"y\":-1},{\"y\":-1},{\"y\":-1},{\"y\":-1},{\"y\":-1},{\"y\":-1},{\"y\":-1},{\"y\":-1},{\"y\":-1},{\"y\":-1},{\"y\":-1},{\"y\":-1},{\"y\":-1},{\"y\":-1},{\"y\":-1},{\"y\":-1},{\"y\":-1},{\"y\":-1},{\"y\":-1},{\"y\":-1},{\"y\":-1},{\"y\":-1},{\"y\":-1},{\"y\":-1},{\"y\":-1},{\"y\":-1},{\"y\":-1},{\"y\":-1},{\"y\":-1},{\"y\":-1},{\"y\":-1},{\"y\":-1},{\"y\":-1},{\"y\":-1},{\"y\":-1},{\"y\":-1},{\"y\":-1},{\"y\":-1},{\"y\":-1},{\"y\":-1},{\"y\":-1},{\"y\":-1},{\"y\":-1},{\"y\":-1},{\"y\":-1},{\"y\":-1},{\"y\":-1},{\"y\":-1},{\"y\":-1},{\"y\":-1},{\"y\":-1},{\"y\":-1},{\"y\":-1},{\"y\":-1},{\"y\":-1},{\"y\":-1},{\"y\":-1},{\"y\":-1},{\"y\":-1},{\"y\":-1},{\"y\":-1},{\"y\":-1},{\"y\":-1},{\"y\":-1},{\"y\":-1},{\"y\":-1},{\"y\":-1},{\"y\":-1},{\"y\":-1},{\"y\":-1},{\"y\":-1},{\"y\":-1},{\"y\":-1},{\"y\":-1},{\"y\":-1},{\"y\":-1},{\"y\":-1},{\"y\":-1},{\"y\":-1},{\"y\":-1},{\"y\":-1},{\"y\":-1},{\"y\":-1},{\"y\":-1},{\"y\":-1},{\"y\":-1},{\"y\":-1},{\"y\":-1},{\"y\":-1},{\"y\":-1},{\"y\":-1},{\"y\":-1},{\"y\":-1},{\"y\":-1},{\"y\":-1},{\"y\":-1},{\"y\":-1},{\"y\":-1},{\"y\":-1}],\"x_values\":{\"__ndarray__\":\"HluT0sBdDkDY/8xuVeAKQEhTgEbOmfI/ttLUwdegF0CRu3cVQo4hQEQnRxkm49E/pFBFrb+l5z+PX5ie+csUQE07y7hS8BhA2s6YUv5IEUAT3C1FG3n4PzhEAsRtZwVAito0c299A0Aa+H3gAPT8PyLm7TdHQQdAkkVftpDuFUCdiNu52BUaQBOvqxFBKvU/Bh0nH/ylIUAeGjshc/rxP1aPuhZyR+w/gF9hYDkTDEAIkWbwP43lP1xhgSBtGRVAYPMFUWieDEC4oGHARrUiQHWwuG45RxNA/yTHskIe/z/8o15VfuTWPx6DNlS2QhdAdYy2I27w8D+etvkTigzxP7kaljy1UQtAW8ite3D0IkAgjN2aRe0gQOQneh7pPQZAoI5IhIq8FkBi+H2fox8VQJh9iaHCD+o/0TsV+ToBGED8PKinMEAfQCaSMrrdDBJAbCprAAINDkAYJN0gY6vmP0xUxrRK6v0/EIOzUUcpxT/Gg0hQrX4HQMGxxj4MY/M/LJAVeGRvB0BSWlsiIwMLQAA8iaJFlcI/7nUS0x96FUA4hQFhVjMQQDn0zkf84BRAblv9kNDYAED+WrkXBL0iQFW5Sj5adRxAImpH1jIFAUAgxHOBKz3NP9ee8EjWrBhA0gQGw1uyIUAMgN2tmVfwPybOFUgPzew/ckLnjo+AB0A6w1DsXj4HQLc3NuTjgfg/mmn4rsd/EECzoJIOcSEjQKgpjpShEQRAmckyofC7AkB46CF9gH7AP0cJLLaFbiNASEasu9uoFEA9qUZKlMgMQNGwivbtfP4/byuyoagHFUACjBG1F1fpP87PxGR6rBtAV0+JVNGnG0DsFV4FLKogQIl6zQ1nkwdA9fNvYJu5GkDJdzEMwdwUQK7hcgntiuc/J89lBAOYGEBA17HwKcTRP4gj7uQ+XQ9AUDNT/5lTDkAcFnK2hZXmP6B4D1vM+MY///M74siLE0AsbiK4eOcjQIi1fbBMfAZA8jQv7OcMEEA0ihCgtpMMQGlVNTKWvfc/gLAKVanzHUAkvLQ5jxwOQKoNZ/rIZ/A/3gQb2mATF0BGSs5MgNgOQEoSpfa7APk/nk3i+LwqG0DgNpo5rMMVQGCCbv5V/B5AmASX3b72EkA6m8lfK/wCQMvhDfXDjAhAewHEeje6I0C4h26MBjUJQJHKYXnVaCNAJBjpm/6PHEDwSzt8vD7GP8hBurJ+Gug/bCXh8i/OI0AmlUUKiJ8gQLPLvX/XER1A9CmndiFmE0C1Fc2oDtoHQHxHuIX8lxJAZMIuMCFL+D+srRDLxVTuPyw0bqn/NQtATi2dFT3J+z+BAjL9hiH4P/Dgk8L0SCFA/J2WjjE3EEA=\",\"dtype\":\"float64\",\"shape\":[127]},\"y\":[-1,-1,-1,-1,-1,-1,-1,-1,-1,-1,-1,-1,-1,-1,-1,-1,-1,-1,-1,-1,-1,-1,-1,-1,-1,-1,-1,-1,-1,-1,-1,-1,-1,-1,-1,-1,-1,-1,-1,-1,-1,-1,-1,-1,-1,-1,-1,-1,-1,-1,-1,-1,-1,-1,-1,-1,-1,-1,-1,-1,-1,-1,-1,-1,-1,-1,-1,-1,-1,-1,-1,-1,-1,-1,-1,-1,-1,-1,-1,-1,-1,-1,-1,-1,-1,-1,-1,-1,-1,-1,-1,-1,-1,-1,-1,-1,-1,-1,-1,-1,-1,-1,-1,-1,-1,-1,-1,-1,-1,-1,-1,-1,-1,-1,-1,-1,-1,-1,-1,-1,-1,-1,-1,-1,-1,-1,-1],\"y_values\":{\"__ndarray__\":\"62MGVBmuIkAy024t8CUiQCQx6ASIx+0/4BQkMnbi9T8wyfgJ6loUQLO5mP723BRAsy44dDVX/D+6aNqxvzIGQAg0JDLDqCJAzb4+UoO0HUBiELB7sLoQQB6U2u72hw5A2TAKkdqNBUA29NmQjlfrP8G04NcZOhNAVAy6kYfyAECPSXnXNjYgQD7G6VQz0eI/LmzKm5wfIkA1pW9onc8XQMKeH5BMauA/smE6n0oOC0CySUMKxfQXQLhuqqWO7ARAfPT+C1uNCUBG/U41roMaQFtWuBW0xBBAkAdME25E7z+smWG4J3QLQHeojOJ8fwpAqq47nK3cD0ADBbHe548YQAIrb+9UTP4/wgN53VydHUD9JU2weIASQHQp97lAp94/YiSoSISwAkAc88zlZl4EQEAm2y4Jz8E/GUays+ztI0C1Sr49gzkfQNW5bWxeyB5A7g0kfA9Y5T/tl7gbdBADQDxGFk34Ce0/r8As1R+ZHECvWzmUk3kPQEzHaMRKAApAfJQe+wX0H0BkseRNfsoJQPnyqW91CBxA4Yx4fzUlE0C8CG5yheYWQJYsbr3xFCFAXnq1TD2THkDA8BvLF8UeQEP9mgsWyxNAvkmq9xUSEUBwP1tu2V3dPxSMZw+LJxpA2nTMFc4+AEBCPHgN5xQJQOqwTvodffc/NIhXiNr/HkCIjJiIXXAVQGdt3fAFTBFAhkk8fk1m/D8MqTN1BZ8SQOrzwgJEMPo/NcXGPcunBUCGx21UWagcQPKlZVABxRVAxtiB7j498D9HIANYCR0TQH9p0o9wXPU/Trw0Q0wYHkClXd8qMRgDQKy2SvvtshtAu6C3b6gFIUC+NvLYaMUgQGJJN0mVVvU/SHMrteFFIkCUQt3Gu478P6Nt6zUFIPI/IqWvThCkIkDSpF8+gUztP3LS/jq+MR5AeNyOsoTI4j8Ig69wSLUCQAYlPCd4OxBA6iu/Qy39IEAKmIijD5cbQI6r807MhCBAzN7inwlAIEBwV6M0eHQbQFiUa3SOz/s/RkbMrwVQHUCQIIBOBJoQQAIGNq6hAQlA707AwK8KIECMxycBTUrZP147ytYmyBFAAoqnuG0HIUAPHekqKiwTQDDRWsESvRNAYMODA6og9z8nhNBkxYD1P+aOC+A0aCFAqurjsO/zIkBEVhfpg1kLQFzclnJFkiBAouX96tQ8GUAptpFnhWTwP6+QPwNUhiBAzyk464EZFkCGITdcmJEeQPJdfvDSYiJALp3ZStswFUDg1VTrdzggQEb5Q7/gsh5A6DmV2u+AFUBhvrcicrAhQAtST05rKw5AuIrzLulHxD+SlU7SHOkdQF7HwASy9BVAuQy6tCArIEA=\",\"dtype\":\"float64\",\"shape\":[127]}}},\"id\":\"01d33166-e931-4d92-9c85-3d5e9e60a4d3\",\"type\":\"ColumnDataSource\"},{\"attributes\":{\"active_drag\":\"auto\",\"active_scroll\":\"auto\",\"active_tap\":\"auto\",\"tools\":[{\"id\":\"494173f0-a075-450b-a140-5e4086958f88\",\"type\":\"PanTool\"},{\"id\":\"4cea87f7-301a-45ed-8a7b-115c3ab7e33e\",\"type\":\"WheelZoomTool\"},{\"id\":\"820a40de-b39e-4847-8c83-cba30291550d\",\"type\":\"BoxZoomTool\"},{\"id\":\"bc260606-6c27-45cc-9670-c14c0c3a0e31\",\"type\":\"SaveTool\"},{\"id\":\"6e040774-28be-44ea-bd78-8e76ea48cd58\",\"type\":\"ResetTool\"},{\"id\":\"2da524c2-0d94-4b4d-a845-1c00ed8b1691\",\"type\":\"HelpTool\"}]},\"id\":\"32cefc26-5463-4ca4-9681-d39125871429\",\"type\":\"Toolbar\"}],\"root_ids\":[\"dd287e43-90f0-4c19-9bd7-bf3b734cea06\"]},\"title\":\"Bokeh Application\",\"version\":\"0.12.4\"}};\n",
       "            var render_items = [{\"docid\":\"eba8e621-ab7a-4ce5-b67c-87c1279038dc\",\"elementid\":\"605887f8-8576-4ad6-9bfb-60e595e3e608\",\"modelid\":\"dd287e43-90f0-4c19-9bd7-bf3b734cea06\"}];\n",
       "            \n",
       "            Bokeh.embed.embed_items(docs_json, render_items);\n",
       "          };\n",
       "          if (document.readyState != \"loading\") fn();\n",
       "          else document.addEventListener(\"DOMContentLoaded\", fn);\n",
       "        })();\n",
       "      },\n",
       "      function(Bokeh) {\n",
       "      }\n",
       "    ];\n",
       "  \n",
       "    function run_inline_js() {\n",
       "      \n",
       "      if ((window.Bokeh !== undefined) || (force === true)) {\n",
       "        for (var i = 0; i < inline_js.length; i++) {\n",
       "          inline_js[i](window.Bokeh);\n",
       "        }if (force === true) {\n",
       "          display_loaded();\n",
       "        }} else if (Date.now() < window._bokeh_timeout) {\n",
       "        setTimeout(run_inline_js, 100);\n",
       "      } else if (!window._bokeh_failed_load) {\n",
       "        console.log(\"Bokeh: BokehJS failed to load within specified timeout.\");\n",
       "        window._bokeh_failed_load = true;\n",
       "      } else if (force !== true) {\n",
       "        var cell = $(document.getElementById(\"605887f8-8576-4ad6-9bfb-60e595e3e608\")).parents('.cell').data().cell;\n",
       "        cell.output_area.append_execute_result(NB_LOAD_WARNING)\n",
       "      }\n",
       "  \n",
       "    }\n",
       "  \n",
       "    if (window._bokeh_is_loading === 0) {\n",
       "      console.log(\"Bokeh: BokehJS loaded, going straight to plotting\");\n",
       "      run_inline_js();\n",
       "    } else {\n",
       "      load_libs(js_urls, function() {\n",
       "        console.log(\"Bokeh: BokehJS plotting callback run at\", now());\n",
       "        run_inline_js();\n",
       "      });\n",
       "    }\n",
       "  }(this));\n",
       "</script>"
      ]
     },
     "metadata": {},
     "output_type": "display_data"
    }
   ],
   "source": [
    "show(Scatter(\n",
    "    {'x1': x1, 'x2': x2, 'y': y}, \n",
    "    x='x1', y='x2', color='y', marker='y', palette=['lightblue', 'orange'],\n",
    "    width=750, height=400\n",
    "))"
   ]
  },
  {
   "cell_type": "markdown",
   "metadata": {
    "slideshow": {
     "slide_type": "slide"
    }
   },
   "source": [
    "### Support Vector Machines a la `scikit-learn`"
   ]
  },
  {
   "cell_type": "code",
   "execution_count": 16,
   "metadata": {
    "collapsed": false,
    "scrolled": true,
    "slideshow": {
     "slide_type": "subslide"
    }
   },
   "outputs": [
    {
     "data": {
      "text/plain": [
       "SVC(C=1.0, cache_size=200, class_weight=None, coef0=0.0,\n",
       "  decision_function_shape=None, degree=3, gamma='auto', kernel='linear',\n",
       "  max_iter=-1, probability=False, random_state=None, shrinking=True,\n",
       "  tol=0.001, verbose=False)"
      ]
     },
     "execution_count": 16,
     "metadata": {},
     "output_type": "execute_result"
    }
   ],
   "source": [
    "from sklearn import svm\n",
    "clf = svm.SVC(kernel='linear')\n",
    "clf.fit(X, y)"
   ]
  },
  {
   "cell_type": "markdown",
   "metadata": {
    "slideshow": {
     "slide_type": "subslide"
    }
   },
   "source": [
    "The SVM coefficients give us a separating hyperplane with minimum classification error.\n",
    "\n",
    "$$b + w'x = 0$$"
   ]
  },
  {
   "cell_type": "code",
   "execution_count": 17,
   "metadata": {
    "collapsed": false,
    "slideshow": {
     "slide_type": "fragment"
    }
   },
   "outputs": [
    {
     "name": "stdout",
     "output_type": "stream",
     "text": [
      "b = -3.87524349067\n",
      "w = [ 0.82524377 -0.77557944]\n"
     ]
    }
   ],
   "source": [
    "print('b =', clf.intercept_[0])\n",
    "print('w =', clf.coef_[0])"
   ]
  },
  {
   "cell_type": "markdown",
   "metadata": {
    "slideshow": {
     "slide_type": "subslide"
    }
   },
   "source": [
    "We classify a point $x = (x_1, x_2)'$ based on which side of that hyperplane it is on.  \n",
    "  \n",
    "\n",
    "$$b + w'x \\ge 0\\ \\rightarrow\\ \\text{Type +1}$$  \n",
    "$$b + w'x < 0\\ \\rightarrow\\ \\text{Type -1}$$ "
   ]
  },
  {
   "cell_type": "code",
   "execution_count": 18,
   "metadata": {
    "collapsed": false,
    "slideshow": {
     "slide_type": "fragment"
    }
   },
   "outputs": [
    {
     "name": "stdout",
     "output_type": "stream",
     "text": [
      "confusion matrix:\n"
     ]
    },
    {
     "data": {
      "text/plain": [
       "array([[124,   3],\n",
       "       [  6,  17]])"
      ]
     },
     "execution_count": 18,
     "metadata": {},
     "output_type": "execute_result"
    }
   ],
   "source": [
    "from sklearn import metrics\n",
    "\n",
    "y_hat = clf.predict(X)\n",
    "\n",
    "print('confusion matrix:')\n",
    "metrics.confusion_matrix(y_true=y, y_pred=y_hat)"
   ]
  },
  {
   "cell_type": "code",
   "execution_count": 19,
   "metadata": {
    "collapsed": false,
    "slideshow": {
     "slide_type": "subslide"
    }
   },
   "outputs": [],
   "source": [
    "# We need a function to plot classifications and the separating hyperplane.\n",
    "def plot_svm_results(correct, b_val, w1_val, w2_val):\n",
    "    # Classifications\n",
    "    plot = Scatter(\n",
    "        {'x1': x1, 'x2': x2, 'y': y, 'correct': correct}, \n",
    "        x='x1', y='x2', \n",
    "        color='correct', palette=['lightgrey', 'darkred'], marker='correct',\n",
    "        width=750, height=400\n",
    "    )\n",
    "\n",
    "    # Separating hyperplane: x2 = -(b + (w1*x1)) / w2\n",
    "    hyperplane_x1 = np.linspace(0, 10)\n",
    "    hyperplane_x2 = [\n",
    "        -(b_val + (w1_val * x1_i)) / w2_val for x1_i in hyperplane_x1\n",
    "    ]\n",
    "    plot.line(hyperplane_x1, hyperplane_x2, color='darkblue')\n",
    "    show(plot)"
   ]
  },
  {
   "cell_type": "markdown",
   "metadata": {
    "slideshow": {
     "slide_type": "subslide"
    }
   },
   "source": [
    "How'd scikit-learn do?"
   ]
  },
  {
   "cell_type": "code",
   "execution_count": 20,
   "metadata": {
    "collapsed": false,
    "slideshow": {
     "slide_type": "-"
    }
   },
   "outputs": [
    {
     "data": {
      "text/html": [
       "\n",
       "\n",
       "    <div class=\"bk-root\">\n",
       "        <div class=\"bk-plotdiv\" id=\"7e14b411-bf95-49f7-9e03-ebf388701c77\"></div>\n",
       "    </div>\n",
       "<script type=\"text/javascript\">\n",
       "  \n",
       "  (function(global) {\n",
       "    function now() {\n",
       "      return new Date();\n",
       "    }\n",
       "  \n",
       "    var force = false;\n",
       "  \n",
       "    if (typeof (window._bokeh_onload_callbacks) === \"undefined\" || force === true) {\n",
       "      window._bokeh_onload_callbacks = [];\n",
       "      window._bokeh_is_loading = undefined;\n",
       "    }\n",
       "  \n",
       "  \n",
       "    \n",
       "    if (typeof (window._bokeh_timeout) === \"undefined\" || force === true) {\n",
       "      window._bokeh_timeout = Date.now() + 0;\n",
       "      window._bokeh_failed_load = false;\n",
       "    }\n",
       "  \n",
       "    var NB_LOAD_WARNING = {'data': {'text/html':\n",
       "       \"<div style='background-color: #fdd'>\\n\"+\n",
       "       \"<p>\\n\"+\n",
       "       \"BokehJS does not appear to have successfully loaded. If loading BokehJS from CDN, this \\n\"+\n",
       "       \"may be due to a slow or bad network connection. Possible fixes:\\n\"+\n",
       "       \"</p>\\n\"+\n",
       "       \"<ul>\\n\"+\n",
       "       \"<li>re-rerun `output_notebook()` to attempt to load from CDN again, or</li>\\n\"+\n",
       "       \"<li>use INLINE resources instead, as so:</li>\\n\"+\n",
       "       \"</ul>\\n\"+\n",
       "       \"<code>\\n\"+\n",
       "       \"from bokeh.resources import INLINE\\n\"+\n",
       "       \"output_notebook(resources=INLINE)\\n\"+\n",
       "       \"</code>\\n\"+\n",
       "       \"</div>\"}};\n",
       "  \n",
       "    function display_loaded() {\n",
       "      if (window.Bokeh !== undefined) {\n",
       "        document.getElementById(\"7e14b411-bf95-49f7-9e03-ebf388701c77\").textContent = \"BokehJS successfully loaded.\";\n",
       "      } else if (Date.now() < window._bokeh_timeout) {\n",
       "        setTimeout(display_loaded, 100)\n",
       "      }\n",
       "    }\n",
       "  \n",
       "    function run_callbacks() {\n",
       "      window._bokeh_onload_callbacks.forEach(function(callback) { callback() });\n",
       "      delete window._bokeh_onload_callbacks\n",
       "      console.info(\"Bokeh: all callbacks have finished\");\n",
       "    }\n",
       "  \n",
       "    function load_libs(js_urls, callback) {\n",
       "      window._bokeh_onload_callbacks.push(callback);\n",
       "      if (window._bokeh_is_loading > 0) {\n",
       "        console.log(\"Bokeh: BokehJS is being loaded, scheduling callback at\", now());\n",
       "        return null;\n",
       "      }\n",
       "      if (js_urls == null || js_urls.length === 0) {\n",
       "        run_callbacks();\n",
       "        return null;\n",
       "      }\n",
       "      console.log(\"Bokeh: BokehJS not loaded, scheduling load and callback at\", now());\n",
       "      window._bokeh_is_loading = js_urls.length;\n",
       "      for (var i = 0; i < js_urls.length; i++) {\n",
       "        var url = js_urls[i];\n",
       "        var s = document.createElement('script');\n",
       "        s.src = url;\n",
       "        s.async = false;\n",
       "        s.onreadystatechange = s.onload = function() {\n",
       "          window._bokeh_is_loading--;\n",
       "          if (window._bokeh_is_loading === 0) {\n",
       "            console.log(\"Bokeh: all BokehJS libraries loaded\");\n",
       "            run_callbacks()\n",
       "          }\n",
       "        };\n",
       "        s.onerror = function() {\n",
       "          console.warn(\"failed to load library \" + url);\n",
       "        };\n",
       "        console.log(\"Bokeh: injecting script tag for BokehJS library: \", url);\n",
       "        document.getElementsByTagName(\"head\")[0].appendChild(s);\n",
       "      }\n",
       "    };var element = document.getElementById(\"7e14b411-bf95-49f7-9e03-ebf388701c77\");\n",
       "    if (element == null) {\n",
       "      console.log(\"Bokeh: ERROR: autoload.js configured with elementid '7e14b411-bf95-49f7-9e03-ebf388701c77' but no matching script tag was found. \")\n",
       "      return false;\n",
       "    }\n",
       "  \n",
       "    var js_urls = [];\n",
       "  \n",
       "    var inline_js = [\n",
       "      function(Bokeh) {\n",
       "        (function() {\n",
       "          var fn = function() {\n",
       "            var docs_json = {\"5cf84854-3f0c-408a-a6e5-0b4c49a3105d\":{\"roots\":{\"references\":[{\"attributes\":{\"items\":[{\"id\":\"804380fd-2235-4c2d-87f7-b7aa176e4ceb\",\"type\":\"LegendItem\"},{\"id\":\"3d4362c7-3c3f-425c-9ffe-1a15d9c6a1d4\",\"type\":\"LegendItem\"}],\"location\":\"top_left\",\"plot\":{\"id\":\"c2978284-24e8-4454-9085-78ff57edff1a\",\"subtype\":\"Chart\",\"type\":\"Plot\"}},\"id\":\"818c8ae5-180d-483e-9143-1b3cf9948ef8\",\"type\":\"Legend\"},{\"attributes\":{\"active_drag\":\"auto\",\"active_scroll\":\"auto\",\"active_tap\":\"auto\",\"tools\":[{\"id\":\"aeffa3b4-7ab8-4237-8431-475ffb5f530b\",\"type\":\"PanTool\"},{\"id\":\"567c6f3e-1030-4011-b44b-20d9c0016f32\",\"type\":\"WheelZoomTool\"},{\"id\":\"a7326950-bf94-4b51-873a-6a1d5f0a4837\",\"type\":\"BoxZoomTool\"},{\"id\":\"e573c340-2144-4a8e-8488-846754fc240f\",\"type\":\"SaveTool\"},{\"id\":\"0a244963-6d5f-49f1-88de-1d258b6ccc88\",\"type\":\"ResetTool\"},{\"id\":\"cde7b06b-aa71-45d0-be06-412590a5eba8\",\"type\":\"HelpTool\"}]},\"id\":\"2479d116-72a0-4ac2-b67d-8793d2e2e27a\",\"type\":\"Toolbar\"},{\"attributes\":{\"plot\":{\"id\":\"c2978284-24e8-4454-9085-78ff57edff1a\",\"subtype\":\"Chart\",\"type\":\"Plot\"}},\"id\":\"aeffa3b4-7ab8-4237-8431-475ffb5f530b\",\"type\":\"PanTool\"},{\"attributes\":{\"plot\":{\"id\":\"c2978284-24e8-4454-9085-78ff57edff1a\",\"subtype\":\"Chart\",\"type\":\"Plot\"}},\"id\":\"e573c340-2144-4a8e-8488-846754fc240f\",\"type\":\"SaveTool\"},{\"attributes\":{\"data_source\":{\"id\":\"fc368fd3-c7cb-4007-bf7a-0b70cc81f3f7\",\"type\":\"ColumnDataSource\"},\"glyph\":{\"id\":\"4d9328b3-34b0-43ab-8eda-bfe20a88b2c8\",\"type\":\"Line\"},\"hover_glyph\":null,\"nonselection_glyph\":{\"id\":\"b7606672-77a6-4868-9d44-1a082c3fd2a5\",\"type\":\"Line\"},\"selection_glyph\":null},\"id\":\"fa45e138-c5b8-42ab-824d-54cd2022b9e9\",\"type\":\"GlyphRenderer\"},{\"attributes\":{\"axis_label\":\"x2\",\"formatter\":{\"id\":\"2d89b2e7-c05e-4804-88f5-088e17f7f2aa\",\"type\":\"BasicTickFormatter\"},\"plot\":{\"id\":\"c2978284-24e8-4454-9085-78ff57edff1a\",\"subtype\":\"Chart\",\"type\":\"Plot\"},\"ticker\":{\"id\":\"c4274e97-b781-467a-ae7d-1946a9280d8f\",\"type\":\"BasicTicker\"}},\"id\":\"9479ea8b-036c-46e2-9bd9-93cca322ac43\",\"type\":\"LinearAxis\"},{\"attributes\":{\"data_source\":{\"id\":\"a6c1f07b-b93e-40af-8d2c-004b870f286f\",\"type\":\"ColumnDataSource\"},\"glyph\":{\"id\":\"dc33d077-caf6-4bb9-bd4b-b1818a24867e\",\"type\":\"Circle\"},\"hover_glyph\":null,\"nonselection_glyph\":null,\"selection_glyph\":null},\"id\":\"8786add1-e124-48b4-af8d-c1d74b3d02c2\",\"type\":\"GlyphRenderer\"},{\"attributes\":{},\"id\":\"4286e10c-d8eb-419c-ad92-f2d4babd5f37\",\"type\":\"BasicTicker\"},{\"attributes\":{},\"id\":\"c4274e97-b781-467a-ae7d-1946a9280d8f\",\"type\":\"BasicTicker\"},{\"attributes\":{\"label\":{\"value\":\"Incorrect\"},\"renderers\":[{\"id\":\"9a842615-7d9a-4ce0-bbc5-940c89818c19\",\"type\":\"GlyphRenderer\"}]},\"id\":\"3d4362c7-3c3f-425c-9ffe-1a15d9c6a1d4\",\"type\":\"LegendItem\"},{\"attributes\":{\"callback\":null,\"column_names\":[\"x_values\",\"y_values\"],\"data\":{\"chart_index\":[{\"correct\":\"Correct\"},{\"correct\":\"Correct\"},{\"correct\":\"Correct\"},{\"correct\":\"Correct\"},{\"correct\":\"Correct\"},{\"correct\":\"Correct\"},{\"correct\":\"Correct\"},{\"correct\":\"Correct\"},{\"correct\":\"Correct\"},{\"correct\":\"Correct\"},{\"correct\":\"Correct\"},{\"correct\":\"Correct\"},{\"correct\":\"Correct\"},{\"correct\":\"Correct\"},{\"correct\":\"Correct\"},{\"correct\":\"Correct\"},{\"correct\":\"Correct\"},{\"correct\":\"Correct\"},{\"correct\":\"Correct\"},{\"correct\":\"Correct\"},{\"correct\":\"Correct\"},{\"correct\":\"Correct\"},{\"correct\":\"Correct\"},{\"correct\":\"Correct\"},{\"correct\":\"Correct\"},{\"correct\":\"Correct\"},{\"correct\":\"Correct\"},{\"correct\":\"Correct\"},{\"correct\":\"Correct\"},{\"correct\":\"Correct\"},{\"correct\":\"Correct\"},{\"correct\":\"Correct\"},{\"correct\":\"Correct\"},{\"correct\":\"Correct\"},{\"correct\":\"Correct\"},{\"correct\":\"Correct\"},{\"correct\":\"Correct\"},{\"correct\":\"Correct\"},{\"correct\":\"Correct\"},{\"correct\":\"Correct\"},{\"correct\":\"Correct\"},{\"correct\":\"Correct\"},{\"correct\":\"Correct\"},{\"correct\":\"Correct\"},{\"correct\":\"Correct\"},{\"correct\":\"Correct\"},{\"correct\":\"Correct\"},{\"correct\":\"Correct\"},{\"correct\":\"Correct\"},{\"correct\":\"Correct\"},{\"correct\":\"Correct\"},{\"correct\":\"Correct\"},{\"correct\":\"Correct\"},{\"correct\":\"Correct\"},{\"correct\":\"Correct\"},{\"correct\":\"Correct\"},{\"correct\":\"Correct\"},{\"correct\":\"Correct\"},{\"correct\":\"Correct\"},{\"correct\":\"Correct\"},{\"correct\":\"Correct\"},{\"correct\":\"Correct\"},{\"correct\":\"Correct\"},{\"correct\":\"Correct\"},{\"correct\":\"Correct\"},{\"correct\":\"Correct\"},{\"correct\":\"Correct\"},{\"correct\":\"Correct\"},{\"correct\":\"Correct\"},{\"correct\":\"Correct\"},{\"correct\":\"Correct\"},{\"correct\":\"Correct\"},{\"correct\":\"Correct\"},{\"correct\":\"Correct\"},{\"correct\":\"Correct\"},{\"correct\":\"Correct\"},{\"correct\":\"Correct\"},{\"correct\":\"Correct\"},{\"correct\":\"Correct\"},{\"correct\":\"Correct\"},{\"correct\":\"Correct\"},{\"correct\":\"Correct\"},{\"correct\":\"Correct\"},{\"correct\":\"Correct\"},{\"correct\":\"Correct\"},{\"correct\":\"Correct\"},{\"correct\":\"Correct\"},{\"correct\":\"Correct\"},{\"correct\":\"Correct\"},{\"correct\":\"Correct\"},{\"correct\":\"Correct\"},{\"correct\":\"Correct\"},{\"correct\":\"Correct\"},{\"correct\":\"Correct\"},{\"correct\":\"Correct\"},{\"correct\":\"Correct\"},{\"correct\":\"Correct\"},{\"correct\":\"Correct\"},{\"correct\":\"Correct\"},{\"correct\":\"Correct\"},{\"correct\":\"Correct\"},{\"correct\":\"Correct\"},{\"correct\":\"Correct\"},{\"correct\":\"Correct\"},{\"correct\":\"Correct\"},{\"correct\":\"Correct\"},{\"correct\":\"Correct\"},{\"correct\":\"Correct\"},{\"correct\":\"Correct\"},{\"correct\":\"Correct\"},{\"correct\":\"Correct\"},{\"correct\":\"Correct\"},{\"correct\":\"Correct\"},{\"correct\":\"Correct\"},{\"correct\":\"Correct\"},{\"correct\":\"Correct\"},{\"correct\":\"Correct\"},{\"correct\":\"Correct\"},{\"correct\":\"Correct\"},{\"correct\":\"Correct\"},{\"correct\":\"Correct\"},{\"correct\":\"Correct\"},{\"correct\":\"Correct\"},{\"correct\":\"Correct\"},{\"correct\":\"Correct\"},{\"correct\":\"Correct\"},{\"correct\":\"Correct\"},{\"correct\":\"Correct\"},{\"correct\":\"Correct\"},{\"correct\":\"Correct\"},{\"correct\":\"Correct\"},{\"correct\":\"Correct\"},{\"correct\":\"Correct\"},{\"correct\":\"Correct\"},{\"correct\":\"Correct\"},{\"correct\":\"Correct\"},{\"correct\":\"Correct\"},{\"correct\":\"Correct\"},{\"correct\":\"Correct\"},{\"correct\":\"Correct\"},{\"correct\":\"Correct\"}],\"correct\":[\"Correct\",\"Correct\",\"Correct\",\"Correct\",\"Correct\",\"Correct\",\"Correct\",\"Correct\",\"Correct\",\"Correct\",\"Correct\",\"Correct\",\"Correct\",\"Correct\",\"Correct\",\"Correct\",\"Correct\",\"Correct\",\"Correct\",\"Correct\",\"Correct\",\"Correct\",\"Correct\",\"Correct\",\"Correct\",\"Correct\",\"Correct\",\"Correct\",\"Correct\",\"Correct\",\"Correct\",\"Correct\",\"Correct\",\"Correct\",\"Correct\",\"Correct\",\"Correct\",\"Correct\",\"Correct\",\"Correct\",\"Correct\",\"Correct\",\"Correct\",\"Correct\",\"Correct\",\"Correct\",\"Correct\",\"Correct\",\"Correct\",\"Correct\",\"Correct\",\"Correct\",\"Correct\",\"Correct\",\"Correct\",\"Correct\",\"Correct\",\"Correct\",\"Correct\",\"Correct\",\"Correct\",\"Correct\",\"Correct\",\"Correct\",\"Correct\",\"Correct\",\"Correct\",\"Correct\",\"Correct\",\"Correct\",\"Correct\",\"Correct\",\"Correct\",\"Correct\",\"Correct\",\"Correct\",\"Correct\",\"Correct\",\"Correct\",\"Correct\",\"Correct\",\"Correct\",\"Correct\",\"Correct\",\"Correct\",\"Correct\",\"Correct\",\"Correct\",\"Correct\",\"Correct\",\"Correct\",\"Correct\",\"Correct\",\"Correct\",\"Correct\",\"Correct\",\"Correct\",\"Correct\",\"Correct\",\"Correct\",\"Correct\",\"Correct\",\"Correct\",\"Correct\",\"Correct\",\"Correct\",\"Correct\",\"Correct\",\"Correct\",\"Correct\",\"Correct\",\"Correct\",\"Correct\",\"Correct\",\"Correct\",\"Correct\",\"Correct\",\"Correct\",\"Correct\",\"Correct\",\"Correct\",\"Correct\",\"Correct\",\"Correct\",\"Correct\",\"Correct\",\"Correct\",\"Correct\",\"Correct\",\"Correct\",\"Correct\",\"Correct\",\"Correct\",\"Correct\",\"Correct\",\"Correct\",\"Correct\",\"Correct\",\"Correct\",\"Correct\",\"Correct\"],\"x_values\":{\"__ndarray__\":\"HluT0sBdDkDY/8xuVeAKQHXuHFBB6xxASFOARs6Z8j+20tTB16AXQJG7dxVCjiFARCdHGSbj0T+kUEWtv6XnP49fmJ75yxRATTvLuFLwGEDazphS/kgRQBPcLUUbefg/OEQCxG1nBUCK2jRzb30DQBr4feAA9Pw/IubtN0dBB0CSRV+2kO4VQJ2I27nYFRpAE6+rEUEq9T8GHScf/KUhQCPTk0wYIyJAHho7IXP68T9Wj7oWckfsP4BfYWA5EwxACJFm8D+N5T9cYYEgbRkVQGDzBVFongxAuKBhwEa1IkB1sLhuOUcTQP8kx7JCHv8//KNeVX7k1j8egzZUtkIXQHWMtiNu8PA/nrb5E4oM8T+5GpY8tVELQFvIrXtw9CJAIIzdmkXtIEDkJ3oe6T0GQKCOSISKvBZAYvh9n6MfFUCYfYmhwg/qP0tIcdiooSBA0TsV+ToBGED8PKinMEAfQJeLw5umKyJAJpIyut0MEkBsKmsAAg0OQBgk3SBjq+Y/TFTGtErq/T8Qg7NRRynFP8aDSFCtfgdAwbHGPgxj8z8skBV4ZG8HQFJaWyIjAwtAADyJokWVwj/udRLTH3oVQDiFAWFWMxBAOfTOR/zgFEBuW/2Q0NgAQP5auRcEvSJAVblKPlp1HEAiakfWMgUBQCDEc4ErPc0/157wSNasGEAMgN2tmVfwPybOFUgPzew/ckLnjo+AB0A6w1DsXj4HQLc3NuTjgfg/mmn4rsd/EEDkQt/1LmsZQIZuOulpoyNAqCmOlKERBECZyTKh8LsCQHjoIX2AfsA/YGqEn5oJIkBHCSy2hW4jQDiaypdX9iFASEasu9uoFEA9qUZKlMgMQNGwivbtfP4/byuyoagHFUACjBG1F1fpP87PxGR6rBtAEPozjBOdIUBXT4lU0acbQOquOZYSVSJA7BVeBSyqIECJes0NZ5MHQPXzb2CbuRpAyXcxDMHcFECu4XIJ7YrnPyfPZQQDmBhA4jBnxLKhIEBA17HwKcTRP4gj7uQ+XQ9AUDNT/5lTDkAcFnK2hZXmP2adkvmjnCNAoHgPW8z4xj//8zviyIsTQCxuIrh45yNAiLV9sEx8BkDyNC/s5wwQQDSKEKC2kwxAaVU1Mpa99z+AsApVqfMdQCS8tDmPHA5Aqg1n+shn8D9uwlQBNrQiQN4EG9pgExdARkrOTIDYDkBKEqX2uwD5P55N4vi8KhtA4DaaOazDFUBEt9zKkOEgQLhEfKyNUR1AYIJu/lX8HkCYBJfdvvYSQDqbyV8r/AJAy+EN9cOMCEB7AcR6N7ojQLiHbowGNQlAkcphedVoI0AkGOmb/o8cQPBLO3y8PsY/yEG6sn4a6D8QgCqvLVEfQCaVRQqInyBAs8u9f9cRHUD0Kad2IWYTQLUVzagO2gdAfEe4hfyXEkBkwi4wIUv4P6ytEMvFVO4/LDRuqf81C0BOLZ0VPcn7P4ECMv2GIfg/8OCTwvRIIUD8nZaOMTcQQIMOvFZ+1iFA\",\"dtype\":\"float64\",\"shape\":[141]},\"y_values\":{\"__ndarray__\":\"62MGVBmuIkAy024t8CUiQDamDOAViwVAJDHoBIjH7T/gFCQyduL1PzDJ+AnqWhRAs7mY/vbcFECzLjh0NVf8P7po2rG/MgZACDQkMsOoIkDNvj5Sg7QdQGIQsHuwuhBAHpTa7vaHDkDZMAqR2o0FQDb02ZCOV+s/wbTg1xk6E0BUDLqRh/IAQI9Jedc2NiBAPsbpVDPR4j8ubMqbnB8iQPIxFdNUSApANaVvaJ3PF0DCnh+QTGrgP7JhOp9KDgtAsklDCsX0F0C4bqqljuwEQHz0/gtbjQlARv1ONa6DGkBbVrgVtMQQQJAHTBNuRO8/rJlhuCd0C0B3qIzifH8KQKquO5yt3A9AAwWx3uePGEACK2/vVEz+P8IDed1cnR1A/SVNsHiAEkB0Kfe5QKfeP2IkqEiEsAJAHPPM5WZeBEBAJtsuCc/BPzzk5HhU0wNAGUays+ztI0C1Sr49gzkfQEB3IFNMecQ/1bltbF7IHkDuDSR8D1jlP+2XuBt0EANAPEYWTfgJ7T+vwCzVH5kcQK9bOZSTeQ9ATMdoxEoACkB8lB77BfQfQGSx5E1+yglA+fKpb3UIHEDhjHh/NSUTQLwIbnKF5hZAlixuvfEUIUBeerVMPZMeQMDwG8sXxR5AQ/2aCxbLE0C+Sar3FRIRQHA/W27ZXd0/FIxnD4snGkBCPHgN5xQJQOqwTvodffc/NIhXiNr/HkCIjJiIXXAVQGdt3fAFTBFAhkk8fk1m/D9e2af0qHzvPwOv2iQJ0/I/6vPCAkQw+j81xcY9y6cFQIbHbVRZqBxA56RgnvVRDkDypWVQAcUVQGozOUg2gwpAxtiB7j498D9HIANYCR0TQH9p0o9wXPU/Trw0Q0wYHkClXd8qMRgDQKy2SvvtshtAyTtnnJWtCEC7oLdvqAUhQB6HNhkEogRAvjby2GjFIEBiSTdJlVb1P0hzK7XhRSJAlELdxruO/D+jbes1BSDyPyKlr04QpCJABBTxKp4c1j/SpF8+gUztP3LS/jq+MR5AeNyOsoTI4j8Ig69wSLUCQEvA/yJaZhJABiU8J3g7EEDqK79DLf0gQAqYiKMPlxtAjqvzTsyEIEDM3uKfCUAgQHBXozR4dBtAWJRrdI7P+z9GRsyvBVAdQJAggE4EmhBAAgY2rqEBCUA17dlv0OwHQO9OwMCvCiBAjMcnAU1K2T9eO8rWJsgRQAKKp7htByFADx3pKiosE0AUYdcetBv/P1j9/JRPGO8/MNFawRK9E0Bgw4MDqiD3PyeE0GTFgPU/5o4L4DRoIUCq6uOw7/MiQERWF+mDWQtAXNyWckWSIECi5f3q1DwZQCm2kWeFZPA/r5A/A1SGIEC0TIH06CniP4YhN1yYkR5A8l1+8NJiIkAundlK2zAVQODVVOt3OCBARvlDv+CyHkDoOZXa74AVQGG+tyJysCFAC1JPTmsrDkC4ivMu6UfEP5KVTtIc6R1AXsfABLL0FUC5DLq0ICsgQNwOQjSeNQtA\",\"dtype\":\"float64\",\"shape\":[141]}}},\"id\":\"a6c1f07b-b93e-40af-8d2c-004b870f286f\",\"type\":\"ColumnDataSource\"},{\"attributes\":{\"dimension\":1,\"plot\":{\"id\":\"c2978284-24e8-4454-9085-78ff57edff1a\",\"subtype\":\"Chart\",\"type\":\"Plot\"},\"ticker\":{\"id\":\"c4274e97-b781-467a-ae7d-1946a9280d8f\",\"type\":\"BasicTicker\"}},\"id\":\"245575b3-73f8-4366-b1bb-692dbbdc1b73\",\"type\":\"Grid\"},{\"attributes\":{\"data_source\":{\"id\":\"5feba715-b221-4077-b212-922a87db417b\",\"type\":\"ColumnDataSource\"},\"glyph\":{\"id\":\"3666bffb-ac9f-48a1-a00b-d0d0f38fbfdf\",\"type\":\"Square\"},\"hover_glyph\":null,\"nonselection_glyph\":null,\"selection_glyph\":null},\"id\":\"9a842615-7d9a-4ce0-bbc5-940c89818c19\",\"type\":\"GlyphRenderer\"},{\"attributes\":{\"line_alpha\":{\"value\":0.1},\"line_color\":{\"value\":\"#1f77b4\"},\"x\":{\"field\":\"x\"},\"y\":{\"field\":\"y\"}},\"id\":\"b7606672-77a6-4868-9d44-1a082c3fd2a5\",\"type\":\"Line\"},{\"attributes\":{\"plot\":{\"id\":\"c2978284-24e8-4454-9085-78ff57edff1a\",\"subtype\":\"Chart\",\"type\":\"Plot\"}},\"id\":\"0a244963-6d5f-49f1-88de-1d258b6ccc88\",\"type\":\"ResetTool\"},{\"attributes\":{\"callback\":null,\"end\":10.934416125787005,\"start\":-0.853462703905562},\"id\":\"c6d366ab-99c1-4fa6-9c61-da23f1023f42\",\"type\":\"Range1d\"},{\"attributes\":{},\"id\":\"2d89b2e7-c05e-4804-88f5-088e17f7f2aa\",\"type\":\"BasicTickFormatter\"},{\"attributes\":{\"label\":{\"value\":\"Correct\"},\"renderers\":[{\"id\":\"8786add1-e124-48b4-af8d-c1d74b3d02c2\",\"type\":\"GlyphRenderer\"}]},\"id\":\"804380fd-2235-4c2d-87f7-b7aa176e4ceb\",\"type\":\"LegendItem\"},{\"attributes\":{\"plot\":null,\"text\":null},\"id\":\"4430134a-bbca-412a-8b6f-274416ea739b\",\"type\":\"Title\"},{\"attributes\":{\"fill_alpha\":{\"value\":0.7},\"fill_color\":{\"value\":\"darkred\"},\"line_color\":{\"value\":\"darkred\"},\"size\":{\"units\":\"screen\",\"value\":8},\"x\":{\"field\":\"x_values\"},\"y\":{\"field\":\"y_values\"}},\"id\":\"3666bffb-ac9f-48a1-a00b-d0d0f38fbfdf\",\"type\":\"Square\"},{\"attributes\":{\"line_color\":{\"value\":\"darkblue\"},\"x\":{\"field\":\"x\"},\"y\":{\"field\":\"y\"}},\"id\":\"4d9328b3-34b0-43ab-8eda-bfe20a88b2c8\",\"type\":\"Line\"},{\"attributes\":{},\"id\":\"f0333194-1a5e-4918-b5d2-e4ec4d9edf04\",\"type\":\"BasicTickFormatter\"},{\"attributes\":{\"plot\":{\"id\":\"c2978284-24e8-4454-9085-78ff57edff1a\",\"subtype\":\"Chart\",\"type\":\"Plot\"}},\"id\":\"cde7b06b-aa71-45d0-be06-412590a5eba8\",\"type\":\"HelpTool\"},{\"attributes\":{\"callback\":null,\"column_names\":[\"x\",\"y\"],\"data\":{\"x\":{\"__ndarray__\":\"AAAAAAAAAACIxvrQWB/KP4jG+tBYH9o/5hS8nIKX4z+IxvrQWB/qPxW8nIKXU/A/5hS8nIKX8z+3bdu2bdv2P4jG+tBYH/o/WR8a60Nj/T8VvJyCl1MAQH5orA+N9QFA5hS8nIKXA0BOwcspeDkFQLdt27Zt2wZAIBrrQ2N9CECIxvrQWB8KQPByCl5OwQtAWR8a60NjDUDCyyl4OQUPQBW8nIKXUxBASZIkSZIkEUB+aKwPjfURQLI+NNaHxhJA5hS8nIKXE0Aa60NjfWgUQE7Byyl4ORVAg5dT8HIKFkC3bdu2bdsWQOtDY31orBdAIBrrQ2N9GEBU8HIKXk4ZQIjG+tBYHxpAvJyCl1PwGkDwcgpeTsEbQCVJkiRJkhxAWR8a60NjHUCN9aGxPjQeQMLLKXg5BR9A9qGxPjTWH0AVvJyCl1MgQC+n4OUUvCBASZIkSZIkIUBjfWisD40hQH5orA+N9SFAmFPwcgpeIkCyPjTWh8YiQMwpeDkFLyNA5hS8nIKXI0AAAAAAAAAkQA==\",\"dtype\":\"float64\",\"shape\":[50]},\"y\":[-4.996578400321781,-4.77942837403989,-4.562278347757999,-4.345128321476109,-4.127978295194218,-3.910828268912327,-3.693678242630437,-3.476528216348546,-3.2593781900666547,-3.0422281637847646,-2.825078137502874,-2.6079281112209833,-2.3907780849390923,-2.1736280586572017,-1.9564780323753108,-1.73932800609342,-1.5221779798115296,-1.3050279535296392,-1.0878779272477483,-0.8707279009658573,-0.653577874683967,-0.4364278484020766,-0.21927782212018507,-0.00212779583829471,0.21502223044359622,0.43217225672548604,0.6493222830073769,0.8664723092892679,1.083622335571159,1.3007723618530487,1.5179223881349406,1.7350724144168306,1.9522224406987214,2.1693724669806125,2.386522493262502,2.6036725195443933,2.820822545826284,3.037972572108175,3.255122598390066,3.472272624671957,3.689422650953847,3.9065726772357374,4.123722703517627,4.340872729799519,4.55802275608141,4.775172782363302,4.992322808645191,5.209472834927083,5.426622861208973,5.643772887490862]}},\"id\":\"fc368fd3-c7cb-4007-bf7a-0b70cc81f3f7\",\"type\":\"ColumnDataSource\"},{\"attributes\":{\"fill_alpha\":{\"value\":0.7},\"fill_color\":{\"value\":\"lightgrey\"},\"line_color\":{\"value\":\"lightgrey\"},\"size\":{\"units\":\"screen\",\"value\":8},\"x\":{\"field\":\"x_values\"},\"y\":{\"field\":\"y_values\"}},\"id\":\"dc33d077-caf6-4bb9-bd4b-b1818a24867e\",\"type\":\"Circle\"},{\"attributes\":{\"below\":[{\"id\":\"465ec082-cb86-40ec-a118-4ceafbd136c0\",\"type\":\"LinearAxis\"}],\"css_classes\":null,\"height\":400,\"left\":[{\"id\":\"9479ea8b-036c-46e2-9bd9-93cca322ac43\",\"type\":\"LinearAxis\"}],\"renderers\":[{\"id\":\"f6e1da9d-7b57-4dd1-beec-a7672c9ae6da\",\"type\":\"BoxAnnotation\"},{\"id\":\"8786add1-e124-48b4-af8d-c1d74b3d02c2\",\"type\":\"GlyphRenderer\"},{\"id\":\"9a842615-7d9a-4ce0-bbc5-940c89818c19\",\"type\":\"GlyphRenderer\"},{\"id\":\"818c8ae5-180d-483e-9143-1b3cf9948ef8\",\"type\":\"Legend\"},{\"id\":\"465ec082-cb86-40ec-a118-4ceafbd136c0\",\"type\":\"LinearAxis\"},{\"id\":\"9479ea8b-036c-46e2-9bd9-93cca322ac43\",\"type\":\"LinearAxis\"},{\"id\":\"5012a1f4-e9d7-4a76-9c56-152dacffb3cd\",\"type\":\"Grid\"},{\"id\":\"245575b3-73f8-4366-b1bb-692dbbdc1b73\",\"type\":\"Grid\"},{\"id\":\"fa45e138-c5b8-42ab-824d-54cd2022b9e9\",\"type\":\"GlyphRenderer\"}],\"title\":{\"id\":\"4430134a-bbca-412a-8b6f-274416ea739b\",\"type\":\"Title\"},\"tool_events\":{\"id\":\"5f50e03f-162b-45d1-af77-d1c1625ca54c\",\"type\":\"ToolEvents\"},\"toolbar\":{\"id\":\"2479d116-72a0-4ac2-b67d-8793d2e2e27a\",\"type\":\"Toolbar\"},\"width\":750,\"x_mapper_type\":\"auto\",\"x_range\":{\"id\":\"c6d366ab-99c1-4fa6-9c61-da23f1023f42\",\"type\":\"Range1d\"},\"y_mapper_type\":\"auto\",\"y_range\":{\"id\":\"e591ca1f-1ee5-4be5-a403-10e8e0e572ac\",\"type\":\"Range1d\"}},\"id\":\"c2978284-24e8-4454-9085-78ff57edff1a\",\"subtype\":\"Chart\",\"type\":\"Plot\"},{\"attributes\":{\"callback\":null,\"end\":10.947253095889321,\"start\":-0.843425845035905},\"id\":\"e591ca1f-1ee5-4be5-a403-10e8e0e572ac\",\"type\":\"Range1d\"},{\"attributes\":{\"plot\":{\"id\":\"c2978284-24e8-4454-9085-78ff57edff1a\",\"subtype\":\"Chart\",\"type\":\"Plot\"}},\"id\":\"567c6f3e-1030-4011-b44b-20d9c0016f32\",\"type\":\"WheelZoomTool\"},{\"attributes\":{\"axis_label\":\"x1\",\"formatter\":{\"id\":\"f0333194-1a5e-4918-b5d2-e4ec4d9edf04\",\"type\":\"BasicTickFormatter\"},\"plot\":{\"id\":\"c2978284-24e8-4454-9085-78ff57edff1a\",\"subtype\":\"Chart\",\"type\":\"Plot\"},\"ticker\":{\"id\":\"4286e10c-d8eb-419c-ad92-f2d4babd5f37\",\"type\":\"BasicTicker\"}},\"id\":\"465ec082-cb86-40ec-a118-4ceafbd136c0\",\"type\":\"LinearAxis\"},{\"attributes\":{\"bottom_units\":\"screen\",\"fill_alpha\":{\"value\":0.5},\"fill_color\":{\"value\":\"lightgrey\"},\"left_units\":\"screen\",\"level\":\"overlay\",\"line_alpha\":{\"value\":1.0},\"line_color\":{\"value\":\"black\"},\"line_dash\":[4,4],\"line_width\":{\"value\":2},\"plot\":null,\"render_mode\":\"css\",\"right_units\":\"screen\",\"top_units\":\"screen\"},\"id\":\"f6e1da9d-7b57-4dd1-beec-a7672c9ae6da\",\"type\":\"BoxAnnotation\"},{\"attributes\":{},\"id\":\"5f50e03f-162b-45d1-af77-d1c1625ca54c\",\"type\":\"ToolEvents\"},{\"attributes\":{\"callback\":null,\"column_names\":[\"x_values\",\"y_values\"],\"data\":{\"chart_index\":[{\"correct\":\"Incorrect\"},{\"correct\":\"Incorrect\"},{\"correct\":\"Incorrect\"},{\"correct\":\"Incorrect\"},{\"correct\":\"Incorrect\"},{\"correct\":\"Incorrect\"},{\"correct\":\"Incorrect\"},{\"correct\":\"Incorrect\"},{\"correct\":\"Incorrect\"}],\"correct\":[\"Incorrect\",\"Incorrect\",\"Incorrect\",\"Incorrect\",\"Incorrect\",\"Incorrect\",\"Incorrect\",\"Incorrect\",\"Incorrect\"],\"x_values\":{\"__ndarray__\":\"UJG9JX7sDUDSBAbDW7IhQLOgkg5xISNApLBof0c1HkBX1UmjnrQVQGuptZb77yJAbCXh8i/OI0CDmi3aJFEYQC3ulUvpDhVA\",\"dtype\":\"float64\",\"shape\":[9]},\"y_values\":{\"__ndarray__\":\"WJd1H4kC2D/adMwVzj4AQAypM3UFnxJAa0vzW2NPGUBaAtiwr0P4P1L6VfopVRtAzyk464EZFkBlMjWXJiIHQIWXNAjkg/E/\",\"dtype\":\"float64\",\"shape\":[9]}}},\"id\":\"5feba715-b221-4077-b212-922a87db417b\",\"type\":\"ColumnDataSource\"},{\"attributes\":{\"overlay\":{\"id\":\"f6e1da9d-7b57-4dd1-beec-a7672c9ae6da\",\"type\":\"BoxAnnotation\"},\"plot\":{\"id\":\"c2978284-24e8-4454-9085-78ff57edff1a\",\"subtype\":\"Chart\",\"type\":\"Plot\"}},\"id\":\"a7326950-bf94-4b51-873a-6a1d5f0a4837\",\"type\":\"BoxZoomTool\"},{\"attributes\":{\"plot\":{\"id\":\"c2978284-24e8-4454-9085-78ff57edff1a\",\"subtype\":\"Chart\",\"type\":\"Plot\"},\"ticker\":{\"id\":\"4286e10c-d8eb-419c-ad92-f2d4babd5f37\",\"type\":\"BasicTicker\"}},\"id\":\"5012a1f4-e9d7-4a76-9c56-152dacffb3cd\",\"type\":\"Grid\"}],\"root_ids\":[\"c2978284-24e8-4454-9085-78ff57edff1a\"]},\"title\":\"Bokeh Application\",\"version\":\"0.12.4\"}};\n",
       "            var render_items = [{\"docid\":\"5cf84854-3f0c-408a-a6e5-0b4c49a3105d\",\"elementid\":\"7e14b411-bf95-49f7-9e03-ebf388701c77\",\"modelid\":\"c2978284-24e8-4454-9085-78ff57edff1a\"}];\n",
       "            \n",
       "            Bokeh.embed.embed_items(docs_json, render_items);\n",
       "          };\n",
       "          if (document.readyState != \"loading\") fn();\n",
       "          else document.addEventListener(\"DOMContentLoaded\", fn);\n",
       "        })();\n",
       "      },\n",
       "      function(Bokeh) {\n",
       "      }\n",
       "    ];\n",
       "  \n",
       "    function run_inline_js() {\n",
       "      \n",
       "      if ((window.Bokeh !== undefined) || (force === true)) {\n",
       "        for (var i = 0; i < inline_js.length; i++) {\n",
       "          inline_js[i](window.Bokeh);\n",
       "        }if (force === true) {\n",
       "          display_loaded();\n",
       "        }} else if (Date.now() < window._bokeh_timeout) {\n",
       "        setTimeout(run_inline_js, 100);\n",
       "      } else if (!window._bokeh_failed_load) {\n",
       "        console.log(\"Bokeh: BokehJS failed to load within specified timeout.\");\n",
       "        window._bokeh_failed_load = true;\n",
       "      } else if (force !== true) {\n",
       "        var cell = $(document.getElementById(\"7e14b411-bf95-49f7-9e03-ebf388701c77\")).parents('.cell').data().cell;\n",
       "        cell.output_area.append_execute_result(NB_LOAD_WARNING)\n",
       "      }\n",
       "  \n",
       "    }\n",
       "  \n",
       "    if (window._bokeh_is_loading === 0) {\n",
       "      console.log(\"Bokeh: BokehJS loaded, going straight to plotting\");\n",
       "      run_inline_js();\n",
       "    } else {\n",
       "      load_libs(js_urls, function() {\n",
       "        console.log(\"Bokeh: BokehJS plotting callback run at\", now());\n",
       "        run_inline_js();\n",
       "      });\n",
       "    }\n",
       "  }(this));\n",
       "</script>"
      ]
     },
     "metadata": {},
     "output_type": "display_data"
    }
   ],
   "source": [
    "correct = ['Correct' if yi == yh_i else 'Incorrect' for yi, yh_i in zip(y, y_hat)]\n",
    "plot_svm_results(correct, clf.intercept_[0], clf.coef_[0][0], clf.coef_[0][1])"
   ]
  },
  {
   "cell_type": "markdown",
   "metadata": {
    "slideshow": {
     "slide_type": "slide"
    }
   },
   "source": [
    "### Support Vector Machines a la Linear Optimization"
   ]
  },
  {
   "cell_type": "markdown",
   "metadata": {
    "deletable": true,
    "editable": true,
    "slideshow": {
     "slide_type": "subslide"
    }
   },
   "source": [
    "[`PuLP`](https://github.com/coin-or/pulp/) is a modeling tool that lets us solve anything of this form.\n",
    "\n",
    "$$\n",
    "\\begin{align}\n",
    "    \\text{min}  \\ \\ \\ & \\ c'x \\\\\n",
    "    \\text{s.t.} \\ \\ \\ & \\ A x = b \\\\\n",
    "                      & \\ x \\ge 0\n",
    "\\end{align}\n",
    "$$\n",
    "\n",
    "Where $c$ and $b$ are input vectors, $A$ is an input matrix, and $x$ is a vector of real-valued decision variables."
   ]
  },
  {
   "cell_type": "markdown",
   "metadata": {
    "slideshow": {
     "slide_type": "fragment"
    }
   },
   "source": [
    "Linear Optimization is well solved. You can assume that a linear optimizer is robust and fast for any model in that form."
   ]
  },
  {
   "cell_type": "markdown",
   "metadata": {
    "deletable": true,
    "editable": true,
    "slideshow": {
     "slide_type": "fragment"
    }
   },
   "source": [
    "PuLP can also solve discrete models, which are not so computationally easy."
   ]
  },
  {
   "cell_type": "markdown",
   "metadata": {
    "deletable": true,
    "editable": true,
    "slideshow": {
     "slide_type": "subslide"
    }
   },
   "source": [
    "How do we get our SVM problem into a linear optimizer?\n",
    "\n",
    "#### Inputs:\n",
    "\n",
    "$$(x_{i1}, x_{i2})' = \\text{column vector of inputs for observation}\\ i$$  \n",
    "  \n",
    "$$y_i \\in \\{+1, -1\\} = \\text{known classification of observation}\\ i $$ "
   ]
  },
  {
   "cell_type": "markdown",
   "metadata": {
    "deletable": true,
    "editable": true,
    "slideshow": {
     "slide_type": "fragment"
    }
   },
   "source": [
    "#### Model:\n",
    "\n",
    "The decision variables $b$, $w_1$, and $w_2$, give us a separating hyperplane $b + w'x = 0$.\n",
    "\n",
    "For each _misclassified_ observation $i$, $\\xi_i$ is its classification error. We find the best hyperplane by minimizing total error.\n",
    "\n",
    "$$\n",
    "\\begin{align}\n",
    "    \\text{min}  \\ \\ \\ & \\ \\sum_i \\xi_i \\ & \\ \\\\\n",
    "    \\text{s.t.} \\ \\ \\ & \\ b + w_1 x_{i1} + w_2 x_{i2} \\le -1 + \\xi_i\\ & \\ \\forall\\ y_i = -1 \\\\\n",
    "                      & \\ b + w_1 x_{i1} + w_2 x_{i2} \\ge +1 - \\xi_i\\ & \\ \\forall\\ y_i = +1 \\\\\n",
    "                      & \\ \\xi \\ge 0\n",
    "\\end{align}\n",
    "$$"
   ]
  },
  {
   "cell_type": "markdown",
   "metadata": {
    "deletable": true,
    "editable": true,
    "slideshow": {
     "slide_type": "subslide"
    }
   },
   "source": [
    "We can simplify the model by multiplying each constraint by $y_i$.\n",
    "\n",
    "$$\n",
    "\\begin{align}\n",
    "    \\text{min}  \\ \\ \\ & \\ \\sum_i \\xi_i \\\\\n",
    "    \\text{s.t.} \\ \\ \\ & \\ y_i (b + w_1 x_{i1} + w_2 x_{i2}) \\ge 1 - \\xi_i\\ \\forall\\ i \\\\\n",
    "                      & \\ \\xi \\ge 0\n",
    "\\end{align}\n",
    "$$"
   ]
  },
  {
   "cell_type": "markdown",
   "metadata": {
    "slideshow": {
     "slide_type": "subslide"
    }
   },
   "source": [
    "But wait! Constraints like $a'x \\ge b$ aren't in the form you gave us!"
   ]
  },
  {
   "cell_type": "markdown",
   "metadata": {
    "slideshow": {
     "slide_type": "fragment"
    }
   },
   "source": [
    "That's OK. They get converted by the optimizer.\n",
    "\n",
    "$$a'x - e = b$$\n",
    "$$e \\ge 0$$"
   ]
  },
  {
   "cell_type": "markdown",
   "metadata": {
    "deletable": true,
    "editable": true,
    "slideshow": {
     "slide_type": "fragment"
    }
   },
   "source": [
    "So do constraints of the form $a'x \\le b$.\n",
    "\n",
    "$$a'x + s = b$$\n",
    "$$s \\ge 0$$"
   ]
  },
  {
   "cell_type": "markdown",
   "metadata": {
    "deletable": true,
    "editable": true,
    "slideshow": {
     "slide_type": "fragment"
    }
   },
   "source": [
    "As do any variables that are unrestricted in sign.\n",
    "\n",
    "$$x_i = x_i^+ - x_i^-$$\n",
    "$$x_i^+, x_i^- \\ge 0$$"
   ]
  },
  {
   "cell_type": "markdown",
   "metadata": {
    "slideshow": {
     "slide_type": "fragment"
    }
   },
   "source": [
    "As long as your objective function is linear and your constraints are linear and of the form $=$, $\\le$, or $\\ge$, you can solve it with a linear optimizer."
   ]
  },
  {
   "cell_type": "markdown",
   "metadata": {
    "slideshow": {
     "slide_type": "subslide"
    }
   },
   "source": [
    "Let's get hacking. First make variables for the separating hyperplane.\n",
    "\n",
    "Note these are _unrestricted in sign_."
   ]
  },
  {
   "cell_type": "code",
   "execution_count": 21,
   "metadata": {
    "collapsed": true
   },
   "outputs": [],
   "source": [
    "import pulp\n",
    "\n",
    "b = pulp.LpVariable('b')\n",
    "w1 = pulp.LpVariable('w1')\n",
    "w2 = pulp.LpVariable('w2')"
   ]
  },
  {
   "cell_type": "markdown",
   "metadata": {
    "slideshow": {
     "slide_type": "subslide"
    }
   },
   "source": [
    "We also need variables for the classification errors. \n",
    "\n",
    "These are nonnegative since we only want to penalize errors, not reward the model for correct classifiations."
   ]
  },
  {
   "cell_type": "code",
   "execution_count": 22,
   "metadata": {
    "collapsed": false,
    "deletable": true,
    "editable": true
   },
   "outputs": [],
   "source": [
    "errors = []\n",
    "for i in range(len(y)):\n",
    "    e = pulp.LpVariable('e_%d' % i, lowBound=0) # lowBound=0 means >=0\n",
    "    errors.append(e)"
   ]
  },
  {
   "cell_type": "markdown",
   "metadata": {
    "slideshow": {
     "slide_type": "subslide"
    }
   },
   "source": [
    "Build a model that records classification error based on the separating hyperplane in the appropriate variables."
   ]
  },
  {
   "cell_type": "code",
   "execution_count": 23,
   "metadata": {
    "collapsed": true
   },
   "outputs": [],
   "source": [
    "m = pulp.LpProblem(sense=pulp.LpMinimize)\n",
    "\n",
    "for x_i1, x_i2, y_i, e_i in zip(x1, x2, y, errors):\n",
    "    m += y_i * (b + w1 * x_i1 + w2 * x_i2) >= (1 - e_i)"
   ]
  },
  {
   "cell_type": "markdown",
   "metadata": {
    "slideshow": {
     "slide_type": "subslide"
    }
   },
   "source": [
    "So far the model represents the feasible region of all possible separating hyperplanes.\n",
    "\n",
    "We want the _best_ one."
   ]
  },
  {
   "cell_type": "code",
   "execution_count": 24,
   "metadata": {
    "collapsed": false
   },
   "outputs": [
    {
     "name": "stdout",
     "output_type": "stream",
     "text": [
      "b = -3.8753802\n",
      "w = [0.82522213, -0.77548305]\n"
     ]
    }
   ],
   "source": [
    "m.setObjective(sum(errors))\n",
    "assert m.solve() == pulp.LpStatusOptimal\n",
    "\n",
    "print('b =', b.value())\n",
    "print('w =', [w1.value(), w2.value()])"
   ]
  },
  {
   "cell_type": "markdown",
   "metadata": {
    "slideshow": {
     "slide_type": "subslide"
    }
   },
   "source": [
    "We don't have a predict function, so let's build one."
   ]
  },
  {
   "cell_type": "code",
   "execution_count": 25,
   "metadata": {
    "collapsed": false
   },
   "outputs": [
    {
     "name": "stdout",
     "output_type": "stream",
     "text": [
      "confusion matrix:\n"
     ]
    },
    {
     "data": {
      "text/plain": [
       "array([[124,   3],\n",
       "       [  6,  17]])"
      ]
     },
     "execution_count": 25,
     "metadata": {},
     "output_type": "execute_result"
    }
   ],
   "source": [
    "def classify(xi_1, xi_2):\n",
    "    if b.value() + (w1.value() * xi_1) + (w2.value() * xi_2) >= 0:\n",
    "        return +1\n",
    "    return -1\n",
    "\n",
    "y_hat = [classify(xi_1, xi_2) for xi_1, xi_2 in zip(x1, x2)]\n",
    "\n",
    "print('confusion matrix:')\n",
    "metrics.confusion_matrix(y_true=y, y_pred=y_hat)"
   ]
  },
  {
   "cell_type": "markdown",
   "metadata": {
    "slideshow": {
     "slide_type": "subslide"
    }
   },
   "source": [
    "How'd the linear optimizer do?"
   ]
  },
  {
   "cell_type": "code",
   "execution_count": 26,
   "metadata": {
    "collapsed": false
   },
   "outputs": [
    {
     "data": {
      "text/html": [
       "\n",
       "\n",
       "    <div class=\"bk-root\">\n",
       "        <div class=\"bk-plotdiv\" id=\"df5c6125-a196-4b1a-84f7-38bda78b67b6\"></div>\n",
       "    </div>\n",
       "<script type=\"text/javascript\">\n",
       "  \n",
       "  (function(global) {\n",
       "    function now() {\n",
       "      return new Date();\n",
       "    }\n",
       "  \n",
       "    var force = false;\n",
       "  \n",
       "    if (typeof (window._bokeh_onload_callbacks) === \"undefined\" || force === true) {\n",
       "      window._bokeh_onload_callbacks = [];\n",
       "      window._bokeh_is_loading = undefined;\n",
       "    }\n",
       "  \n",
       "  \n",
       "    \n",
       "    if (typeof (window._bokeh_timeout) === \"undefined\" || force === true) {\n",
       "      window._bokeh_timeout = Date.now() + 0;\n",
       "      window._bokeh_failed_load = false;\n",
       "    }\n",
       "  \n",
       "    var NB_LOAD_WARNING = {'data': {'text/html':\n",
       "       \"<div style='background-color: #fdd'>\\n\"+\n",
       "       \"<p>\\n\"+\n",
       "       \"BokehJS does not appear to have successfully loaded. If loading BokehJS from CDN, this \\n\"+\n",
       "       \"may be due to a slow or bad network connection. Possible fixes:\\n\"+\n",
       "       \"</p>\\n\"+\n",
       "       \"<ul>\\n\"+\n",
       "       \"<li>re-rerun `output_notebook()` to attempt to load from CDN again, or</li>\\n\"+\n",
       "       \"<li>use INLINE resources instead, as so:</li>\\n\"+\n",
       "       \"</ul>\\n\"+\n",
       "       \"<code>\\n\"+\n",
       "       \"from bokeh.resources import INLINE\\n\"+\n",
       "       \"output_notebook(resources=INLINE)\\n\"+\n",
       "       \"</code>\\n\"+\n",
       "       \"</div>\"}};\n",
       "  \n",
       "    function display_loaded() {\n",
       "      if (window.Bokeh !== undefined) {\n",
       "        document.getElementById(\"df5c6125-a196-4b1a-84f7-38bda78b67b6\").textContent = \"BokehJS successfully loaded.\";\n",
       "      } else if (Date.now() < window._bokeh_timeout) {\n",
       "        setTimeout(display_loaded, 100)\n",
       "      }\n",
       "    }\n",
       "  \n",
       "    function run_callbacks() {\n",
       "      window._bokeh_onload_callbacks.forEach(function(callback) { callback() });\n",
       "      delete window._bokeh_onload_callbacks\n",
       "      console.info(\"Bokeh: all callbacks have finished\");\n",
       "    }\n",
       "  \n",
       "    function load_libs(js_urls, callback) {\n",
       "      window._bokeh_onload_callbacks.push(callback);\n",
       "      if (window._bokeh_is_loading > 0) {\n",
       "        console.log(\"Bokeh: BokehJS is being loaded, scheduling callback at\", now());\n",
       "        return null;\n",
       "      }\n",
       "      if (js_urls == null || js_urls.length === 0) {\n",
       "        run_callbacks();\n",
       "        return null;\n",
       "      }\n",
       "      console.log(\"Bokeh: BokehJS not loaded, scheduling load and callback at\", now());\n",
       "      window._bokeh_is_loading = js_urls.length;\n",
       "      for (var i = 0; i < js_urls.length; i++) {\n",
       "        var url = js_urls[i];\n",
       "        var s = document.createElement('script');\n",
       "        s.src = url;\n",
       "        s.async = false;\n",
       "        s.onreadystatechange = s.onload = function() {\n",
       "          window._bokeh_is_loading--;\n",
       "          if (window._bokeh_is_loading === 0) {\n",
       "            console.log(\"Bokeh: all BokehJS libraries loaded\");\n",
       "            run_callbacks()\n",
       "          }\n",
       "        };\n",
       "        s.onerror = function() {\n",
       "          console.warn(\"failed to load library \" + url);\n",
       "        };\n",
       "        console.log(\"Bokeh: injecting script tag for BokehJS library: \", url);\n",
       "        document.getElementsByTagName(\"head\")[0].appendChild(s);\n",
       "      }\n",
       "    };var element = document.getElementById(\"df5c6125-a196-4b1a-84f7-38bda78b67b6\");\n",
       "    if (element == null) {\n",
       "      console.log(\"Bokeh: ERROR: autoload.js configured with elementid 'df5c6125-a196-4b1a-84f7-38bda78b67b6' but no matching script tag was found. \")\n",
       "      return false;\n",
       "    }\n",
       "  \n",
       "    var js_urls = [];\n",
       "  \n",
       "    var inline_js = [\n",
       "      function(Bokeh) {\n",
       "        (function() {\n",
       "          var fn = function() {\n",
       "            var docs_json = {\"36fa1092-2578-4a8d-9ea1-0f7d1d776596\":{\"roots\":{\"references\":[{\"attributes\":{\"callback\":null,\"end\":10.934416125787005,\"start\":-0.853462703905562},\"id\":\"9c60f72f-9647-49e2-8fc1-4c623aa63009\",\"type\":\"Range1d\"},{\"attributes\":{\"active_drag\":\"auto\",\"active_scroll\":\"auto\",\"active_tap\":\"auto\",\"tools\":[{\"id\":\"a79bd57c-0422-4ebc-96b2-8955a3122738\",\"type\":\"PanTool\"},{\"id\":\"62900d43-b75c-42d7-b196-8725a1e59de4\",\"type\":\"WheelZoomTool\"},{\"id\":\"f9a5280c-1361-48dd-8908-807376b4a54c\",\"type\":\"BoxZoomTool\"},{\"id\":\"194ac5a0-8c5d-4ef8-9d2b-3ddb2c1975b1\",\"type\":\"SaveTool\"},{\"id\":\"136be9aa-ebbd-4202-8795-1c6ac2f02d9c\",\"type\":\"ResetTool\"},{\"id\":\"b70489a0-b443-48e9-bd19-20b3c4f887aa\",\"type\":\"HelpTool\"}]},\"id\":\"f7bfedb4-1b7e-4a7c-803c-4ccd094397ad\",\"type\":\"Toolbar\"},{\"attributes\":{\"plot\":null,\"text\":null},\"id\":\"fbf37e00-4d89-4394-a342-339304f8c45b\",\"type\":\"Title\"},{\"attributes\":{\"dimension\":1,\"plot\":{\"id\":\"bd4d557c-8df1-4476-82e4-dfafde239dbe\",\"subtype\":\"Chart\",\"type\":\"Plot\"},\"ticker\":{\"id\":\"5a34364a-a173-4c70-9fcf-17381ab75f8c\",\"type\":\"BasicTicker\"}},\"id\":\"e64640f7-17b3-40a3-bad2-45f5bf95b6dd\",\"type\":\"Grid\"},{\"attributes\":{\"data_source\":{\"id\":\"6ee721ba-9923-4121-9191-a451051b249d\",\"type\":\"ColumnDataSource\"},\"glyph\":{\"id\":\"657d6bc1-28eb-40b5-9349-a72cc55dc440\",\"type\":\"Line\"},\"hover_glyph\":null,\"nonselection_glyph\":{\"id\":\"b08e5fbc-97ff-40b6-afb4-c42fd136cf2c\",\"type\":\"Line\"},\"selection_glyph\":null},\"id\":\"b263526a-672c-4b11-bd14-597f112d4126\",\"type\":\"GlyphRenderer\"},{\"attributes\":{},\"id\":\"5ad11703-679b-4798-ba3e-78db89ff502e\",\"type\":\"BasicTickFormatter\"},{\"attributes\":{},\"id\":\"af279d60-2246-47ce-ba04-59792e9c4535\",\"type\":\"BasicTickFormatter\"},{\"attributes\":{\"line_alpha\":{\"value\":0.1},\"line_color\":{\"value\":\"#1f77b4\"},\"x\":{\"field\":\"x\"},\"y\":{\"field\":\"y\"}},\"id\":\"b08e5fbc-97ff-40b6-afb4-c42fd136cf2c\",\"type\":\"Line\"},{\"attributes\":{\"data_source\":{\"id\":\"abcb24b2-75d2-412c-a417-7e0b5dcc53e7\",\"type\":\"ColumnDataSource\"},\"glyph\":{\"id\":\"00bdd0f9-0146-42c1-a227-cd12be684a30\",\"type\":\"Square\"},\"hover_glyph\":null,\"nonselection_glyph\":null,\"selection_glyph\":null},\"id\":\"551825f9-4bb9-4e14-b07d-850b3f06934a\",\"type\":\"GlyphRenderer\"},{\"attributes\":{\"line_color\":{\"value\":\"darkblue\"},\"x\":{\"field\":\"x\"},\"y\":{\"field\":\"y\"}},\"id\":\"657d6bc1-28eb-40b5-9349-a72cc55dc440\",\"type\":\"Line\"},{\"attributes\":{\"plot\":{\"id\":\"bd4d557c-8df1-4476-82e4-dfafde239dbe\",\"subtype\":\"Chart\",\"type\":\"Plot\"},\"ticker\":{\"id\":\"ac95613e-ec6f-4907-be78-73327f6cf4de\",\"type\":\"BasicTicker\"}},\"id\":\"f6a1ab5f-3cf8-4005-9d25-f5bc914b0175\",\"type\":\"Grid\"},{\"attributes\":{\"fill_alpha\":{\"value\":0.7},\"fill_color\":{\"value\":\"darkred\"},\"line_color\":{\"value\":\"darkred\"},\"size\":{\"units\":\"screen\",\"value\":8},\"x\":{\"field\":\"x_values\"},\"y\":{\"field\":\"y_values\"}},\"id\":\"00bdd0f9-0146-42c1-a227-cd12be684a30\",\"type\":\"Square\"},{\"attributes\":{\"plot\":{\"id\":\"bd4d557c-8df1-4476-82e4-dfafde239dbe\",\"subtype\":\"Chart\",\"type\":\"Plot\"}},\"id\":\"a79bd57c-0422-4ebc-96b2-8955a3122738\",\"type\":\"PanTool\"},{\"attributes\":{},\"id\":\"06bb580e-115b-4788-bb4d-41961401ab4f\",\"type\":\"ToolEvents\"},{\"attributes\":{\"bottom_units\":\"screen\",\"fill_alpha\":{\"value\":0.5},\"fill_color\":{\"value\":\"lightgrey\"},\"left_units\":\"screen\",\"level\":\"overlay\",\"line_alpha\":{\"value\":1.0},\"line_color\":{\"value\":\"black\"},\"line_dash\":[4,4],\"line_width\":{\"value\":2},\"plot\":null,\"render_mode\":\"css\",\"right_units\":\"screen\",\"top_units\":\"screen\"},\"id\":\"2dcf733e-3560-4f1e-adf0-ec5359f6fcd9\",\"type\":\"BoxAnnotation\"},{\"attributes\":{\"label\":{\"value\":\"Incorrect\"},\"renderers\":[{\"id\":\"551825f9-4bb9-4e14-b07d-850b3f06934a\",\"type\":\"GlyphRenderer\"}]},\"id\":\"3f5d521d-d8e0-4d67-9c1b-8dcaea6e3833\",\"type\":\"LegendItem\"},{\"attributes\":{\"axis_label\":\"x2\",\"formatter\":{\"id\":\"af279d60-2246-47ce-ba04-59792e9c4535\",\"type\":\"BasicTickFormatter\"},\"plot\":{\"id\":\"bd4d557c-8df1-4476-82e4-dfafde239dbe\",\"subtype\":\"Chart\",\"type\":\"Plot\"},\"ticker\":{\"id\":\"5a34364a-a173-4c70-9fcf-17381ab75f8c\",\"type\":\"BasicTicker\"}},\"id\":\"32b84f98-fbc9-43b6-93bd-dd127699598b\",\"type\":\"LinearAxis\"},{\"attributes\":{\"items\":[{\"id\":\"5ad3eaf2-8780-407b-83bf-d7110fae421f\",\"type\":\"LegendItem\"},{\"id\":\"3f5d521d-d8e0-4d67-9c1b-8dcaea6e3833\",\"type\":\"LegendItem\"}],\"location\":\"top_left\",\"plot\":{\"id\":\"bd4d557c-8df1-4476-82e4-dfafde239dbe\",\"subtype\":\"Chart\",\"type\":\"Plot\"}},\"id\":\"c53ffbb3-4e30-4b90-997c-07f71adf4a9e\",\"type\":\"Legend\"},{\"attributes\":{\"callback\":null,\"column_names\":[\"x_values\",\"y_values\"],\"data\":{\"chart_index\":[{\"correct\":\"Incorrect\"},{\"correct\":\"Incorrect\"},{\"correct\":\"Incorrect\"},{\"correct\":\"Incorrect\"},{\"correct\":\"Incorrect\"},{\"correct\":\"Incorrect\"},{\"correct\":\"Incorrect\"},{\"correct\":\"Incorrect\"},{\"correct\":\"Incorrect\"}],\"correct\":[\"Incorrect\",\"Incorrect\",\"Incorrect\",\"Incorrect\",\"Incorrect\",\"Incorrect\",\"Incorrect\",\"Incorrect\",\"Incorrect\"],\"x_values\":{\"__ndarray__\":\"UJG9JX7sDUDSBAbDW7IhQLOgkg5xISNApLBof0c1HkBX1UmjnrQVQGuptZb77yJAbCXh8i/OI0CDmi3aJFEYQC3ulUvpDhVA\",\"dtype\":\"float64\",\"shape\":[9]},\"y_values\":{\"__ndarray__\":\"WJd1H4kC2D/adMwVzj4AQAypM3UFnxJAa0vzW2NPGUBaAtiwr0P4P1L6VfopVRtAzyk464EZFkBlMjWXJiIHQIWXNAjkg/E/\",\"dtype\":\"float64\",\"shape\":[9]}}},\"id\":\"abcb24b2-75d2-412c-a417-7e0b5dcc53e7\",\"type\":\"ColumnDataSource\"},{\"attributes\":{\"plot\":{\"id\":\"bd4d557c-8df1-4476-82e4-dfafde239dbe\",\"subtype\":\"Chart\",\"type\":\"Plot\"}},\"id\":\"62900d43-b75c-42d7-b196-8725a1e59de4\",\"type\":\"WheelZoomTool\"},{\"attributes\":{\"overlay\":{\"id\":\"2dcf733e-3560-4f1e-adf0-ec5359f6fcd9\",\"type\":\"BoxAnnotation\"},\"plot\":{\"id\":\"bd4d557c-8df1-4476-82e4-dfafde239dbe\",\"subtype\":\"Chart\",\"type\":\"Plot\"}},\"id\":\"f9a5280c-1361-48dd-8908-807376b4a54c\",\"type\":\"BoxZoomTool\"},{\"attributes\":{\"plot\":{\"id\":\"bd4d557c-8df1-4476-82e4-dfafde239dbe\",\"subtype\":\"Chart\",\"type\":\"Plot\"}},\"id\":\"194ac5a0-8c5d-4ef8-9d2b-3ddb2c1975b1\",\"type\":\"SaveTool\"},{\"attributes\":{\"plot\":{\"id\":\"bd4d557c-8df1-4476-82e4-dfafde239dbe\",\"subtype\":\"Chart\",\"type\":\"Plot\"}},\"id\":\"136be9aa-ebbd-4202-8795-1c6ac2f02d9c\",\"type\":\"ResetTool\"},{\"attributes\":{\"plot\":{\"id\":\"bd4d557c-8df1-4476-82e4-dfafde239dbe\",\"subtype\":\"Chart\",\"type\":\"Plot\"}},\"id\":\"b70489a0-b443-48e9-bd19-20b3c4f887aa\",\"type\":\"HelpTool\"},{\"attributes\":{\"axis_label\":\"x1\",\"formatter\":{\"id\":\"5ad11703-679b-4798-ba3e-78db89ff502e\",\"type\":\"BasicTickFormatter\"},\"plot\":{\"id\":\"bd4d557c-8df1-4476-82e4-dfafde239dbe\",\"subtype\":\"Chart\",\"type\":\"Plot\"},\"ticker\":{\"id\":\"ac95613e-ec6f-4907-be78-73327f6cf4de\",\"type\":\"BasicTicker\"}},\"id\":\"e9ac5466-9d30-4589-96a4-ff5c82d9e967\",\"type\":\"LinearAxis\"},{\"attributes\":{},\"id\":\"ac95613e-ec6f-4907-be78-73327f6cf4de\",\"type\":\"BasicTicker\"},{\"attributes\":{\"label\":{\"value\":\"Correct\"},\"renderers\":[{\"id\":\"bcbb266f-dd25-4c13-9f37-e70e806453b9\",\"type\":\"GlyphRenderer\"}]},\"id\":\"5ad3eaf2-8780-407b-83bf-d7110fae421f\",\"type\":\"LegendItem\"},{\"attributes\":{\"data_source\":{\"id\":\"ce57ca01-d795-48ca-84c6-ce3419f6f9da\",\"type\":\"ColumnDataSource\"},\"glyph\":{\"id\":\"a1c391cf-2b62-46a0-8cb1-5a272fffbeae\",\"type\":\"Circle\"},\"hover_glyph\":null,\"nonselection_glyph\":null,\"selection_glyph\":null},\"id\":\"bcbb266f-dd25-4c13-9f37-e70e806453b9\",\"type\":\"GlyphRenderer\"},{\"attributes\":{\"callback\":null,\"column_names\":[\"x\",\"y\"],\"data\":{\"x\":{\"__ndarray__\":\"AAAAAAAAAACIxvrQWB/KP4jG+tBYH9o/5hS8nIKX4z+IxvrQWB/qPxW8nIKXU/A/5hS8nIKX8z+3bdu2bdv2P4jG+tBYH/o/WR8a60Nj/T8VvJyCl1MAQH5orA+N9QFA5hS8nIKXA0BOwcspeDkFQLdt27Zt2wZAIBrrQ2N9CECIxvrQWB8KQPByCl5OwQtAWR8a60NjDUDCyyl4OQUPQBW8nIKXUxBASZIkSZIkEUB+aKwPjfURQLI+NNaHxhJA5hS8nIKXE0Aa60NjfWgUQE7Byyl4ORVAg5dT8HIKFkC3bdu2bdsWQOtDY31orBdAIBrrQ2N9GEBU8HIKXk4ZQIjG+tBYHxpAvJyCl1PwGkDwcgpeTsEbQCVJkiRJkhxAWR8a60NjHUCN9aGxPjQeQMLLKXg5BR9A9qGxPjTWH0AVvJyCl1MgQC+n4OUUvCBASZIkSZIkIUBjfWisD40hQH5orA+N9SFAmFPwcgpeIkCyPjTWh8YiQMwpeDkFLyNA5hS8nIKXI0AAAAAAAAAkQA==\",\"dtype\":\"float64\",\"shape\":[50]},\"y\":[-4.996578400321781,-4.77942837403989,-4.562278347757999,-4.345128321476109,-4.127978295194218,-3.910828268912327,-3.693678242630437,-3.476528216348546,-3.2593781900666547,-3.0422281637847646,-2.825078137502874,-2.6079281112209833,-2.3907780849390923,-2.1736280586572017,-1.9564780323753108,-1.73932800609342,-1.5221779798115296,-1.3050279535296392,-1.0878779272477483,-0.8707279009658573,-0.653577874683967,-0.4364278484020766,-0.21927782212018507,-0.00212779583829471,0.21502223044359622,0.43217225672548604,0.6493222830073769,0.8664723092892679,1.083622335571159,1.3007723618530487,1.5179223881349406,1.7350724144168306,1.9522224406987214,2.1693724669806125,2.386522493262502,2.6036725195443933,2.820822545826284,3.037972572108175,3.255122598390066,3.472272624671957,3.689422650953847,3.9065726772357374,4.123722703517627,4.340872729799519,4.55802275608141,4.775172782363302,4.992322808645191,5.209472834927083,5.426622861208973,5.643772887490862]}},\"id\":\"6ee721ba-9923-4121-9191-a451051b249d\",\"type\":\"ColumnDataSource\"},{\"attributes\":{},\"id\":\"5a34364a-a173-4c70-9fcf-17381ab75f8c\",\"type\":\"BasicTicker\"},{\"attributes\":{\"fill_alpha\":{\"value\":0.7},\"fill_color\":{\"value\":\"lightgrey\"},\"line_color\":{\"value\":\"lightgrey\"},\"size\":{\"units\":\"screen\",\"value\":8},\"x\":{\"field\":\"x_values\"},\"y\":{\"field\":\"y_values\"}},\"id\":\"a1c391cf-2b62-46a0-8cb1-5a272fffbeae\",\"type\":\"Circle\"},{\"attributes\":{\"callback\":null,\"column_names\":[\"x_values\",\"y_values\"],\"data\":{\"chart_index\":[{\"correct\":\"Correct\"},{\"correct\":\"Correct\"},{\"correct\":\"Correct\"},{\"correct\":\"Correct\"},{\"correct\":\"Correct\"},{\"correct\":\"Correct\"},{\"correct\":\"Correct\"},{\"correct\":\"Correct\"},{\"correct\":\"Correct\"},{\"correct\":\"Correct\"},{\"correct\":\"Correct\"},{\"correct\":\"Correct\"},{\"correct\":\"Correct\"},{\"correct\":\"Correct\"},{\"correct\":\"Correct\"},{\"correct\":\"Correct\"},{\"correct\":\"Correct\"},{\"correct\":\"Correct\"},{\"correct\":\"Correct\"},{\"correct\":\"Correct\"},{\"correct\":\"Correct\"},{\"correct\":\"Correct\"},{\"correct\":\"Correct\"},{\"correct\":\"Correct\"},{\"correct\":\"Correct\"},{\"correct\":\"Correct\"},{\"correct\":\"Correct\"},{\"correct\":\"Correct\"},{\"correct\":\"Correct\"},{\"correct\":\"Correct\"},{\"correct\":\"Correct\"},{\"correct\":\"Correct\"},{\"correct\":\"Correct\"},{\"correct\":\"Correct\"},{\"correct\":\"Correct\"},{\"correct\":\"Correct\"},{\"correct\":\"Correct\"},{\"correct\":\"Correct\"},{\"correct\":\"Correct\"},{\"correct\":\"Correct\"},{\"correct\":\"Correct\"},{\"correct\":\"Correct\"},{\"correct\":\"Correct\"},{\"correct\":\"Correct\"},{\"correct\":\"Correct\"},{\"correct\":\"Correct\"},{\"correct\":\"Correct\"},{\"correct\":\"Correct\"},{\"correct\":\"Correct\"},{\"correct\":\"Correct\"},{\"correct\":\"Correct\"},{\"correct\":\"Correct\"},{\"correct\":\"Correct\"},{\"correct\":\"Correct\"},{\"correct\":\"Correct\"},{\"correct\":\"Correct\"},{\"correct\":\"Correct\"},{\"correct\":\"Correct\"},{\"correct\":\"Correct\"},{\"correct\":\"Correct\"},{\"correct\":\"Correct\"},{\"correct\":\"Correct\"},{\"correct\":\"Correct\"},{\"correct\":\"Correct\"},{\"correct\":\"Correct\"},{\"correct\":\"Correct\"},{\"correct\":\"Correct\"},{\"correct\":\"Correct\"},{\"correct\":\"Correct\"},{\"correct\":\"Correct\"},{\"correct\":\"Correct\"},{\"correct\":\"Correct\"},{\"correct\":\"Correct\"},{\"correct\":\"Correct\"},{\"correct\":\"Correct\"},{\"correct\":\"Correct\"},{\"correct\":\"Correct\"},{\"correct\":\"Correct\"},{\"correct\":\"Correct\"},{\"correct\":\"Correct\"},{\"correct\":\"Correct\"},{\"correct\":\"Correct\"},{\"correct\":\"Correct\"},{\"correct\":\"Correct\"},{\"correct\":\"Correct\"},{\"correct\":\"Correct\"},{\"correct\":\"Correct\"},{\"correct\":\"Correct\"},{\"correct\":\"Correct\"},{\"correct\":\"Correct\"},{\"correct\":\"Correct\"},{\"correct\":\"Correct\"},{\"correct\":\"Correct\"},{\"correct\":\"Correct\"},{\"correct\":\"Correct\"},{\"correct\":\"Correct\"},{\"correct\":\"Correct\"},{\"correct\":\"Correct\"},{\"correct\":\"Correct\"},{\"correct\":\"Correct\"},{\"correct\":\"Correct\"},{\"correct\":\"Correct\"},{\"correct\":\"Correct\"},{\"correct\":\"Correct\"},{\"correct\":\"Correct\"},{\"correct\":\"Correct\"},{\"correct\":\"Correct\"},{\"correct\":\"Correct\"},{\"correct\":\"Correct\"},{\"correct\":\"Correct\"},{\"correct\":\"Correct\"},{\"correct\":\"Correct\"},{\"correct\":\"Correct\"},{\"correct\":\"Correct\"},{\"correct\":\"Correct\"},{\"correct\":\"Correct\"},{\"correct\":\"Correct\"},{\"correct\":\"Correct\"},{\"correct\":\"Correct\"},{\"correct\":\"Correct\"},{\"correct\":\"Correct\"},{\"correct\":\"Correct\"},{\"correct\":\"Correct\"},{\"correct\":\"Correct\"},{\"correct\":\"Correct\"},{\"correct\":\"Correct\"},{\"correct\":\"Correct\"},{\"correct\":\"Correct\"},{\"correct\":\"Correct\"},{\"correct\":\"Correct\"},{\"correct\":\"Correct\"},{\"correct\":\"Correct\"},{\"correct\":\"Correct\"},{\"correct\":\"Correct\"},{\"correct\":\"Correct\"},{\"correct\":\"Correct\"},{\"correct\":\"Correct\"},{\"correct\":\"Correct\"},{\"correct\":\"Correct\"},{\"correct\":\"Correct\"},{\"correct\":\"Correct\"}],\"correct\":[\"Correct\",\"Correct\",\"Correct\",\"Correct\",\"Correct\",\"Correct\",\"Correct\",\"Correct\",\"Correct\",\"Correct\",\"Correct\",\"Correct\",\"Correct\",\"Correct\",\"Correct\",\"Correct\",\"Correct\",\"Correct\",\"Correct\",\"Correct\",\"Correct\",\"Correct\",\"Correct\",\"Correct\",\"Correct\",\"Correct\",\"Correct\",\"Correct\",\"Correct\",\"Correct\",\"Correct\",\"Correct\",\"Correct\",\"Correct\",\"Correct\",\"Correct\",\"Correct\",\"Correct\",\"Correct\",\"Correct\",\"Correct\",\"Correct\",\"Correct\",\"Correct\",\"Correct\",\"Correct\",\"Correct\",\"Correct\",\"Correct\",\"Correct\",\"Correct\",\"Correct\",\"Correct\",\"Correct\",\"Correct\",\"Correct\",\"Correct\",\"Correct\",\"Correct\",\"Correct\",\"Correct\",\"Correct\",\"Correct\",\"Correct\",\"Correct\",\"Correct\",\"Correct\",\"Correct\",\"Correct\",\"Correct\",\"Correct\",\"Correct\",\"Correct\",\"Correct\",\"Correct\",\"Correct\",\"Correct\",\"Correct\",\"Correct\",\"Correct\",\"Correct\",\"Correct\",\"Correct\",\"Correct\",\"Correct\",\"Correct\",\"Correct\",\"Correct\",\"Correct\",\"Correct\",\"Correct\",\"Correct\",\"Correct\",\"Correct\",\"Correct\",\"Correct\",\"Correct\",\"Correct\",\"Correct\",\"Correct\",\"Correct\",\"Correct\",\"Correct\",\"Correct\",\"Correct\",\"Correct\",\"Correct\",\"Correct\",\"Correct\",\"Correct\",\"Correct\",\"Correct\",\"Correct\",\"Correct\",\"Correct\",\"Correct\",\"Correct\",\"Correct\",\"Correct\",\"Correct\",\"Correct\",\"Correct\",\"Correct\",\"Correct\",\"Correct\",\"Correct\",\"Correct\",\"Correct\",\"Correct\",\"Correct\",\"Correct\",\"Correct\",\"Correct\",\"Correct\",\"Correct\",\"Correct\",\"Correct\",\"Correct\",\"Correct\",\"Correct\",\"Correct\"],\"x_values\":{\"__ndarray__\":\"HluT0sBdDkDY/8xuVeAKQHXuHFBB6xxASFOARs6Z8j+20tTB16AXQJG7dxVCjiFARCdHGSbj0T+kUEWtv6XnP49fmJ75yxRATTvLuFLwGEDazphS/kgRQBPcLUUbefg/OEQCxG1nBUCK2jRzb30DQBr4feAA9Pw/IubtN0dBB0CSRV+2kO4VQJ2I27nYFRpAE6+rEUEq9T8GHScf/KUhQCPTk0wYIyJAHho7IXP68T9Wj7oWckfsP4BfYWA5EwxACJFm8D+N5T9cYYEgbRkVQGDzBVFongxAuKBhwEa1IkB1sLhuOUcTQP8kx7JCHv8//KNeVX7k1j8egzZUtkIXQHWMtiNu8PA/nrb5E4oM8T+5GpY8tVELQFvIrXtw9CJAIIzdmkXtIEDkJ3oe6T0GQKCOSISKvBZAYvh9n6MfFUCYfYmhwg/qP0tIcdiooSBA0TsV+ToBGED8PKinMEAfQJeLw5umKyJAJpIyut0MEkBsKmsAAg0OQBgk3SBjq+Y/TFTGtErq/T8Qg7NRRynFP8aDSFCtfgdAwbHGPgxj8z8skBV4ZG8HQFJaWyIjAwtAADyJokWVwj/udRLTH3oVQDiFAWFWMxBAOfTOR/zgFEBuW/2Q0NgAQP5auRcEvSJAVblKPlp1HEAiakfWMgUBQCDEc4ErPc0/157wSNasGEAMgN2tmVfwPybOFUgPzew/ckLnjo+AB0A6w1DsXj4HQLc3NuTjgfg/mmn4rsd/EEDkQt/1LmsZQIZuOulpoyNAqCmOlKERBECZyTKh8LsCQHjoIX2AfsA/YGqEn5oJIkBHCSy2hW4jQDiaypdX9iFASEasu9uoFEA9qUZKlMgMQNGwivbtfP4/byuyoagHFUACjBG1F1fpP87PxGR6rBtAEPozjBOdIUBXT4lU0acbQOquOZYSVSJA7BVeBSyqIECJes0NZ5MHQPXzb2CbuRpAyXcxDMHcFECu4XIJ7YrnPyfPZQQDmBhA4jBnxLKhIEBA17HwKcTRP4gj7uQ+XQ9AUDNT/5lTDkAcFnK2hZXmP2adkvmjnCNAoHgPW8z4xj//8zviyIsTQCxuIrh45yNAiLV9sEx8BkDyNC/s5wwQQDSKEKC2kwxAaVU1Mpa99z+AsApVqfMdQCS8tDmPHA5Aqg1n+shn8D9uwlQBNrQiQN4EG9pgExdARkrOTIDYDkBKEqX2uwD5P55N4vi8KhtA4DaaOazDFUBEt9zKkOEgQLhEfKyNUR1AYIJu/lX8HkCYBJfdvvYSQDqbyV8r/AJAy+EN9cOMCEB7AcR6N7ojQLiHbowGNQlAkcphedVoI0AkGOmb/o8cQPBLO3y8PsY/yEG6sn4a6D8QgCqvLVEfQCaVRQqInyBAs8u9f9cRHUD0Kad2IWYTQLUVzagO2gdAfEe4hfyXEkBkwi4wIUv4P6ytEMvFVO4/LDRuqf81C0BOLZ0VPcn7P4ECMv2GIfg/8OCTwvRIIUD8nZaOMTcQQIMOvFZ+1iFA\",\"dtype\":\"float64\",\"shape\":[141]},\"y_values\":{\"__ndarray__\":\"62MGVBmuIkAy024t8CUiQDamDOAViwVAJDHoBIjH7T/gFCQyduL1PzDJ+AnqWhRAs7mY/vbcFECzLjh0NVf8P7po2rG/MgZACDQkMsOoIkDNvj5Sg7QdQGIQsHuwuhBAHpTa7vaHDkDZMAqR2o0FQDb02ZCOV+s/wbTg1xk6E0BUDLqRh/IAQI9Jedc2NiBAPsbpVDPR4j8ubMqbnB8iQPIxFdNUSApANaVvaJ3PF0DCnh+QTGrgP7JhOp9KDgtAsklDCsX0F0C4bqqljuwEQHz0/gtbjQlARv1ONa6DGkBbVrgVtMQQQJAHTBNuRO8/rJlhuCd0C0B3qIzifH8KQKquO5yt3A9AAwWx3uePGEACK2/vVEz+P8IDed1cnR1A/SVNsHiAEkB0Kfe5QKfeP2IkqEiEsAJAHPPM5WZeBEBAJtsuCc/BPzzk5HhU0wNAGUays+ztI0C1Sr49gzkfQEB3IFNMecQ/1bltbF7IHkDuDSR8D1jlP+2XuBt0EANAPEYWTfgJ7T+vwCzVH5kcQK9bOZSTeQ9ATMdoxEoACkB8lB77BfQfQGSx5E1+yglA+fKpb3UIHEDhjHh/NSUTQLwIbnKF5hZAlixuvfEUIUBeerVMPZMeQMDwG8sXxR5AQ/2aCxbLE0C+Sar3FRIRQHA/W27ZXd0/FIxnD4snGkBCPHgN5xQJQOqwTvodffc/NIhXiNr/HkCIjJiIXXAVQGdt3fAFTBFAhkk8fk1m/D9e2af0qHzvPwOv2iQJ0/I/6vPCAkQw+j81xcY9y6cFQIbHbVRZqBxA56RgnvVRDkDypWVQAcUVQGozOUg2gwpAxtiB7j498D9HIANYCR0TQH9p0o9wXPU/Trw0Q0wYHkClXd8qMRgDQKy2SvvtshtAyTtnnJWtCEC7oLdvqAUhQB6HNhkEogRAvjby2GjFIEBiSTdJlVb1P0hzK7XhRSJAlELdxruO/D+jbes1BSDyPyKlr04QpCJABBTxKp4c1j/SpF8+gUztP3LS/jq+MR5AeNyOsoTI4j8Ig69wSLUCQEvA/yJaZhJABiU8J3g7EEDqK79DLf0gQAqYiKMPlxtAjqvzTsyEIEDM3uKfCUAgQHBXozR4dBtAWJRrdI7P+z9GRsyvBVAdQJAggE4EmhBAAgY2rqEBCUA17dlv0OwHQO9OwMCvCiBAjMcnAU1K2T9eO8rWJsgRQAKKp7htByFADx3pKiosE0AUYdcetBv/P1j9/JRPGO8/MNFawRK9E0Bgw4MDqiD3PyeE0GTFgPU/5o4L4DRoIUCq6uOw7/MiQERWF+mDWQtAXNyWckWSIECi5f3q1DwZQCm2kWeFZPA/r5A/A1SGIEC0TIH06CniP4YhN1yYkR5A8l1+8NJiIkAundlK2zAVQODVVOt3OCBARvlDv+CyHkDoOZXa74AVQGG+tyJysCFAC1JPTmsrDkC4ivMu6UfEP5KVTtIc6R1AXsfABLL0FUC5DLq0ICsgQNwOQjSeNQtA\",\"dtype\":\"float64\",\"shape\":[141]}}},\"id\":\"ce57ca01-d795-48ca-84c6-ce3419f6f9da\",\"type\":\"ColumnDataSource\"},{\"attributes\":{\"callback\":null,\"end\":10.947253095889321,\"start\":-0.843425845035905},\"id\":\"e6ef7696-2007-49a2-8246-57e92999e032\",\"type\":\"Range1d\"},{\"attributes\":{\"below\":[{\"id\":\"e9ac5466-9d30-4589-96a4-ff5c82d9e967\",\"type\":\"LinearAxis\"}],\"css_classes\":null,\"height\":400,\"left\":[{\"id\":\"32b84f98-fbc9-43b6-93bd-dd127699598b\",\"type\":\"LinearAxis\"}],\"renderers\":[{\"id\":\"2dcf733e-3560-4f1e-adf0-ec5359f6fcd9\",\"type\":\"BoxAnnotation\"},{\"id\":\"bcbb266f-dd25-4c13-9f37-e70e806453b9\",\"type\":\"GlyphRenderer\"},{\"id\":\"551825f9-4bb9-4e14-b07d-850b3f06934a\",\"type\":\"GlyphRenderer\"},{\"id\":\"c53ffbb3-4e30-4b90-997c-07f71adf4a9e\",\"type\":\"Legend\"},{\"id\":\"e9ac5466-9d30-4589-96a4-ff5c82d9e967\",\"type\":\"LinearAxis\"},{\"id\":\"32b84f98-fbc9-43b6-93bd-dd127699598b\",\"type\":\"LinearAxis\"},{\"id\":\"f6a1ab5f-3cf8-4005-9d25-f5bc914b0175\",\"type\":\"Grid\"},{\"id\":\"e64640f7-17b3-40a3-bad2-45f5bf95b6dd\",\"type\":\"Grid\"},{\"id\":\"b263526a-672c-4b11-bd14-597f112d4126\",\"type\":\"GlyphRenderer\"}],\"title\":{\"id\":\"fbf37e00-4d89-4394-a342-339304f8c45b\",\"type\":\"Title\"},\"tool_events\":{\"id\":\"06bb580e-115b-4788-bb4d-41961401ab4f\",\"type\":\"ToolEvents\"},\"toolbar\":{\"id\":\"f7bfedb4-1b7e-4a7c-803c-4ccd094397ad\",\"type\":\"Toolbar\"},\"width\":750,\"x_mapper_type\":\"auto\",\"x_range\":{\"id\":\"9c60f72f-9647-49e2-8fc1-4c623aa63009\",\"type\":\"Range1d\"},\"y_mapper_type\":\"auto\",\"y_range\":{\"id\":\"e6ef7696-2007-49a2-8246-57e92999e032\",\"type\":\"Range1d\"}},\"id\":\"bd4d557c-8df1-4476-82e4-dfafde239dbe\",\"subtype\":\"Chart\",\"type\":\"Plot\"}],\"root_ids\":[\"bd4d557c-8df1-4476-82e4-dfafde239dbe\"]},\"title\":\"Bokeh Application\",\"version\":\"0.12.4\"}};\n",
       "            var render_items = [{\"docid\":\"36fa1092-2578-4a8d-9ea1-0f7d1d776596\",\"elementid\":\"df5c6125-a196-4b1a-84f7-38bda78b67b6\",\"modelid\":\"bd4d557c-8df1-4476-82e4-dfafde239dbe\"}];\n",
       "            \n",
       "            Bokeh.embed.embed_items(docs_json, render_items);\n",
       "          };\n",
       "          if (document.readyState != \"loading\") fn();\n",
       "          else document.addEventListener(\"DOMContentLoaded\", fn);\n",
       "        })();\n",
       "      },\n",
       "      function(Bokeh) {\n",
       "      }\n",
       "    ];\n",
       "  \n",
       "    function run_inline_js() {\n",
       "      \n",
       "      if ((window.Bokeh !== undefined) || (force === true)) {\n",
       "        for (var i = 0; i < inline_js.length; i++) {\n",
       "          inline_js[i](window.Bokeh);\n",
       "        }if (force === true) {\n",
       "          display_loaded();\n",
       "        }} else if (Date.now() < window._bokeh_timeout) {\n",
       "        setTimeout(run_inline_js, 100);\n",
       "      } else if (!window._bokeh_failed_load) {\n",
       "        console.log(\"Bokeh: BokehJS failed to load within specified timeout.\");\n",
       "        window._bokeh_failed_load = true;\n",
       "      } else if (force !== true) {\n",
       "        var cell = $(document.getElementById(\"df5c6125-a196-4b1a-84f7-38bda78b67b6\")).parents('.cell').data().cell;\n",
       "        cell.output_area.append_execute_result(NB_LOAD_WARNING)\n",
       "      }\n",
       "  \n",
       "    }\n",
       "  \n",
       "    if (window._bokeh_is_loading === 0) {\n",
       "      console.log(\"Bokeh: BokehJS loaded, going straight to plotting\");\n",
       "      run_inline_js();\n",
       "    } else {\n",
       "      load_libs(js_urls, function() {\n",
       "        console.log(\"Bokeh: BokehJS plotting callback run at\", now());\n",
       "        run_inline_js();\n",
       "      });\n",
       "    }\n",
       "  }(this));\n",
       "</script>"
      ]
     },
     "metadata": {},
     "output_type": "display_data"
    }
   ],
   "source": [
    "correct = ['Correct' if yi == yh_i else 'Incorrect' for yi, yh_i in zip(y, y_hat)]\n",
    "plot_svm_results(correct, clf.intercept_[0], clf.coef_[0][0], clf.coef_[0][1])"
   ]
  },
  {
   "cell_type": "markdown",
   "metadata": {
    "slideshow": {
     "slide_type": "slide"
    }
   },
   "source": [
    "## Example: TODO"
   ]
  },
  {
   "cell_type": "markdown",
   "metadata": {
    "deletable": true,
    "editable": true,
    "slideshow": {
     "slide_type": "slide"
    }
   },
   "source": [
    "## Clustering"
   ]
  },
  {
   "cell_type": "markdown",
   "metadata": {
    "collapsed": true,
    "deletable": true,
    "editable": true,
    "slideshow": {
     "slide_type": "slide"
    }
   },
   "source": [
    "### Clustering a la `scikit-learn`"
   ]
  },
  {
   "cell_type": "markdown",
   "metadata": {
    "collapsed": true,
    "deletable": true,
    "editable": true,
    "slideshow": {
     "slide_type": "slide"
    }
   },
   "source": [
    "### Clustering a la Combinatorial Optimization"
   ]
  },
  {
   "cell_type": "markdown",
   "metadata": {
    "deletable": true,
    "editable": true,
    "slideshow": {
     "slide_type": "slide"
    }
   },
   "source": [
    "## Example: Ride Sharing"
   ]
  }
 ],
 "metadata": {
  "celltoolbar": "Slideshow",
  "kernelspec": {
   "display_name": "Python 3",
   "language": "python",
   "name": "python3"
  },
  "language_info": {
   "codemirror_mode": {
    "name": "ipython",
    "version": 3
   },
   "file_extension": ".py",
   "mimetype": "text/x-python",
   "name": "python",
   "nbconvert_exporter": "python",
   "pygments_lexer": "ipython3",
   "version": "3.6.0"
  }
 },
 "nbformat": 4,
 "nbformat_minor": 2
}
