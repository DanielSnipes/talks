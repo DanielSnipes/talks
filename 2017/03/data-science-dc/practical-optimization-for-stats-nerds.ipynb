{
 "cells": [
  {
   "cell_type": "markdown",
   "metadata": {
    "deletable": true,
    "editable": true,
    "slideshow": {
     "slide_type": "slide"
    }
   },
   "source": [
    "# Practical Optimization for Stats Nerds\n",
    "\n",
    "Ryan J. O'Neil  \n",
    "Data Science DC  \n",
    "March 20, 2017\n",
    "\n",
    "[ryanjoneil@gmail.com](mailto:ryanjoneil@gmail.com)  \n",
    "[https://ryanjoneil.github.io](https://ryanjoneil.github.io)  \n",
    "[@ryanjoneil](https://twitter.com/ryanjoneil)"
   ]
  },
  {
   "cell_type": "markdown",
   "metadata": {
    "deletable": true,
    "editable": true,
    "slideshow": {
     "slide_type": "subslide"
    }
   },
   "source": [
    "## What to expect\n",
    "  \n",
    "  \n",
    "* We'll take familiar models, show how they work from an optimization perspective, then show applications.  \n"
   ]
  },
  {
   "cell_type": "markdown",
   "metadata": {
    "deletable": true,
    "editable": true,
    "slideshow": {
     "slide_type": "fragment"
    }
   },
   "source": [
    "\n",
    "* This talk is (mostly) about model formulation.  \n",
    "  "
   ]
  },
  {
   "cell_type": "markdown",
   "metadata": {
    "deletable": true,
    "editable": true,
    "slideshow": {
     "slide_type": "fragment"
    }
   },
   "source": [
    "\n",
    "* It might get a little technical, so...  \n",
    "  "
   ]
  },
  {
   "cell_type": "markdown",
   "metadata": {
    "deletable": true,
    "editable": true,
    "slideshow": {
     "slide_type": "subslide"
    }
   },
   "source": [
    "## Take-aways\n",
    "  \n",
    "  \n",
    "* Many statistical techniques are based on some sort of optimization.\n",
    "  "
   ]
  },
  {
   "cell_type": "markdown",
   "metadata": {
    "deletable": true,
    "editable": true,
    "slideshow": {
     "slide_type": "fragment"
    }
   },
   "source": [
    "\n",
    "* Optimization has lots of uses, such as solving decision models.\n",
    "  "
   ]
  },
  {
   "cell_type": "markdown",
   "metadata": {
    "deletable": true,
    "editable": true,
    "slideshow": {
     "slide_type": "fragment"
    }
   },
   "source": [
    "\n",
    "* Learning to structure problems you already know for optimization solvers is a great way to understand them!\n"
   ]
  },
  {
   "cell_type": "markdown",
   "metadata": {
    "deletable": true,
    "editable": true,
    "slideshow": {
     "slide_type": "slide"
    }
   },
   "source": [
    "## Least Squares\n",
    "\n",
    "We observe noisy data from an unknown function. We want to infer that function."
   ]
  },
  {
   "cell_type": "markdown",
   "metadata": {
    "deletable": true,
    "editable": true,
    "slideshow": {
     "slide_type": "subslide"
    }
   },
   "source": [
    "But let's assume that, deep down, we actually know the function. That way we can generate noisy data and see if our techniques work right.\n",
    "\n",
    "#### Function:\n",
    "$$y = 3x^2 - 2x + 10 + \\epsilon$$\n",
    "\n",
    "#### Noise:\n",
    "$$\\epsilon \\sim N\\left(0, 25\\right)$$"
   ]
  },
  {
   "cell_type": "code",
   "execution_count": 1,
   "metadata": {
    "collapsed": false,
    "deletable": true,
    "editable": true,
    "slideshow": {
     "slide_type": "subslide"
    }
   },
   "outputs": [],
   "source": [
    "# Generate some random data.\n",
    "import numpy as np\n",
    "import random\n",
    "\n",
    "# Sort the data so they're easier to plot later.\n",
    "x = [random.uniform(-10, 10) for _ in range(500)]\n",
    "x.sort()\n",
    "\n",
    "y = []\n",
    "for xi in x:\n",
    "    eps = random.normalvariate(0, 25)\n",
    "    yi = 3*xi**2 - 2*xi + 10 + eps\n",
    "    y.append(yi)\n",
    "    \n",
    "x = np.array(x)\n",
    "y = np.array(y)"
   ]
  },
  {
   "cell_type": "code",
   "execution_count": 2,
   "metadata": {
    "collapsed": false,
    "deletable": true,
    "editable": true,
    "scrolled": true,
    "slideshow": {
     "slide_type": "subslide"
    }
   },
   "outputs": [
    {
     "data": {
      "text/html": [
       "\n",
       "    <div class=\"bk-root\">\n",
       "        <a href=\"http://bokeh.pydata.org\" target=\"_blank\" class=\"bk-logo bk-logo-small bk-logo-notebook\"></a>\n",
       "        <span id=\"5fa7e101-a1da-42ce-9bbc-2ff5dc987893\">Loading BokehJS ...</span>\n",
       "    </div>"
      ]
     },
     "metadata": {},
     "output_type": "display_data"
    },
    {
     "data": {
      "application/javascript": [
       "\n",
       "(function(global) {\n",
       "  function now() {\n",
       "    return new Date();\n",
       "  }\n",
       "\n",
       "  var force = true;\n",
       "\n",
       "  if (typeof (window._bokeh_onload_callbacks) === \"undefined\" || force === true) {\n",
       "    window._bokeh_onload_callbacks = [];\n",
       "    window._bokeh_is_loading = undefined;\n",
       "  }\n",
       "\n",
       "\n",
       "  \n",
       "  if (typeof (window._bokeh_timeout) === \"undefined\" || force === true) {\n",
       "    window._bokeh_timeout = Date.now() + 5000;\n",
       "    window._bokeh_failed_load = false;\n",
       "  }\n",
       "\n",
       "  var NB_LOAD_WARNING = {'data': {'text/html':\n",
       "     \"<div style='background-color: #fdd'>\\n\"+\n",
       "     \"<p>\\n\"+\n",
       "     \"BokehJS does not appear to have successfully loaded. If loading BokehJS from CDN, this \\n\"+\n",
       "     \"may be due to a slow or bad network connection. Possible fixes:\\n\"+\n",
       "     \"</p>\\n\"+\n",
       "     \"<ul>\\n\"+\n",
       "     \"<li>re-rerun `output_notebook()` to attempt to load from CDN again, or</li>\\n\"+\n",
       "     \"<li>use INLINE resources instead, as so:</li>\\n\"+\n",
       "     \"</ul>\\n\"+\n",
       "     \"<code>\\n\"+\n",
       "     \"from bokeh.resources import INLINE\\n\"+\n",
       "     \"output_notebook(resources=INLINE)\\n\"+\n",
       "     \"</code>\\n\"+\n",
       "     \"</div>\"}};\n",
       "\n",
       "  function display_loaded() {\n",
       "    if (window.Bokeh !== undefined) {\n",
       "      document.getElementById(\"5fa7e101-a1da-42ce-9bbc-2ff5dc987893\").textContent = \"BokehJS successfully loaded.\";\n",
       "    } else if (Date.now() < window._bokeh_timeout) {\n",
       "      setTimeout(display_loaded, 100)\n",
       "    }\n",
       "  }\n",
       "\n",
       "  function run_callbacks() {\n",
       "    window._bokeh_onload_callbacks.forEach(function(callback) { callback() });\n",
       "    delete window._bokeh_onload_callbacks\n",
       "    console.info(\"Bokeh: all callbacks have finished\");\n",
       "  }\n",
       "\n",
       "  function load_libs(js_urls, callback) {\n",
       "    window._bokeh_onload_callbacks.push(callback);\n",
       "    if (window._bokeh_is_loading > 0) {\n",
       "      console.log(\"Bokeh: BokehJS is being loaded, scheduling callback at\", now());\n",
       "      return null;\n",
       "    }\n",
       "    if (js_urls == null || js_urls.length === 0) {\n",
       "      run_callbacks();\n",
       "      return null;\n",
       "    }\n",
       "    console.log(\"Bokeh: BokehJS not loaded, scheduling load and callback at\", now());\n",
       "    window._bokeh_is_loading = js_urls.length;\n",
       "    for (var i = 0; i < js_urls.length; i++) {\n",
       "      var url = js_urls[i];\n",
       "      var s = document.createElement('script');\n",
       "      s.src = url;\n",
       "      s.async = false;\n",
       "      s.onreadystatechange = s.onload = function() {\n",
       "        window._bokeh_is_loading--;\n",
       "        if (window._bokeh_is_loading === 0) {\n",
       "          console.log(\"Bokeh: all BokehJS libraries loaded\");\n",
       "          run_callbacks()\n",
       "        }\n",
       "      };\n",
       "      s.onerror = function() {\n",
       "        console.warn(\"failed to load library \" + url);\n",
       "      };\n",
       "      console.log(\"Bokeh: injecting script tag for BokehJS library: \", url);\n",
       "      document.getElementsByTagName(\"head\")[0].appendChild(s);\n",
       "    }\n",
       "  };var element = document.getElementById(\"5fa7e101-a1da-42ce-9bbc-2ff5dc987893\");\n",
       "  if (element == null) {\n",
       "    console.log(\"Bokeh: ERROR: autoload.js configured with elementid '5fa7e101-a1da-42ce-9bbc-2ff5dc987893' but no matching script tag was found. \")\n",
       "    return false;\n",
       "  }\n",
       "\n",
       "  var js_urls = [\"https://cdn.pydata.org/bokeh/release/bokeh-0.12.4.min.js\", \"https://cdn.pydata.org/bokeh/release/bokeh-widgets-0.12.4.min.js\"];\n",
       "\n",
       "  var inline_js = [\n",
       "    function(Bokeh) {\n",
       "      Bokeh.set_log_level(\"info\");\n",
       "    },\n",
       "    \n",
       "    function(Bokeh) {\n",
       "      \n",
       "      document.getElementById(\"5fa7e101-a1da-42ce-9bbc-2ff5dc987893\").textContent = \"BokehJS is loading...\";\n",
       "    },\n",
       "    function(Bokeh) {\n",
       "      console.log(\"Bokeh: injecting CSS: https://cdn.pydata.org/bokeh/release/bokeh-0.12.4.min.css\");\n",
       "      Bokeh.embed.inject_css(\"https://cdn.pydata.org/bokeh/release/bokeh-0.12.4.min.css\");\n",
       "      console.log(\"Bokeh: injecting CSS: https://cdn.pydata.org/bokeh/release/bokeh-widgets-0.12.4.min.css\");\n",
       "      Bokeh.embed.inject_css(\"https://cdn.pydata.org/bokeh/release/bokeh-widgets-0.12.4.min.css\");\n",
       "    }\n",
       "  ];\n",
       "\n",
       "  function run_inline_js() {\n",
       "    \n",
       "    if ((window.Bokeh !== undefined) || (force === true)) {\n",
       "      for (var i = 0; i < inline_js.length; i++) {\n",
       "        inline_js[i](window.Bokeh);\n",
       "      }if (force === true) {\n",
       "        display_loaded();\n",
       "      }} else if (Date.now() < window._bokeh_timeout) {\n",
       "      setTimeout(run_inline_js, 100);\n",
       "    } else if (!window._bokeh_failed_load) {\n",
       "      console.log(\"Bokeh: BokehJS failed to load within specified timeout.\");\n",
       "      window._bokeh_failed_load = true;\n",
       "    } else if (force !== true) {\n",
       "      var cell = $(document.getElementById(\"5fa7e101-a1da-42ce-9bbc-2ff5dc987893\")).parents('.cell').data().cell;\n",
       "      cell.output_area.append_execute_result(NB_LOAD_WARNING)\n",
       "    }\n",
       "\n",
       "  }\n",
       "\n",
       "  if (window._bokeh_is_loading === 0) {\n",
       "    console.log(\"Bokeh: BokehJS loaded, going straight to plotting\");\n",
       "    run_inline_js();\n",
       "  } else {\n",
       "    load_libs(js_urls, function() {\n",
       "      console.log(\"Bokeh: BokehJS plotting callback run at\", now());\n",
       "      run_inline_js();\n",
       "    });\n",
       "  }\n",
       "}(this));"
      ]
     },
     "metadata": {},
     "output_type": "display_data"
    },
    {
     "data": {
      "text/html": [
       "\n",
       "\n",
       "    <div class=\"bk-root\">\n",
       "        <div class=\"bk-plotdiv\" id=\"0fd9c4ce-ef88-4c66-b135-60fbe1ee50d0\"></div>\n",
       "    </div>\n",
       "<script type=\"text/javascript\">\n",
       "  \n",
       "  (function(global) {\n",
       "    function now() {\n",
       "      return new Date();\n",
       "    }\n",
       "  \n",
       "    var force = false;\n",
       "  \n",
       "    if (typeof (window._bokeh_onload_callbacks) === \"undefined\" || force === true) {\n",
       "      window._bokeh_onload_callbacks = [];\n",
       "      window._bokeh_is_loading = undefined;\n",
       "    }\n",
       "  \n",
       "  \n",
       "    \n",
       "    if (typeof (window._bokeh_timeout) === \"undefined\" || force === true) {\n",
       "      window._bokeh_timeout = Date.now() + 0;\n",
       "      window._bokeh_failed_load = false;\n",
       "    }\n",
       "  \n",
       "    var NB_LOAD_WARNING = {'data': {'text/html':\n",
       "       \"<div style='background-color: #fdd'>\\n\"+\n",
       "       \"<p>\\n\"+\n",
       "       \"BokehJS does not appear to have successfully loaded. If loading BokehJS from CDN, this \\n\"+\n",
       "       \"may be due to a slow or bad network connection. Possible fixes:\\n\"+\n",
       "       \"</p>\\n\"+\n",
       "       \"<ul>\\n\"+\n",
       "       \"<li>re-rerun `output_notebook()` to attempt to load from CDN again, or</li>\\n\"+\n",
       "       \"<li>use INLINE resources instead, as so:</li>\\n\"+\n",
       "       \"</ul>\\n\"+\n",
       "       \"<code>\\n\"+\n",
       "       \"from bokeh.resources import INLINE\\n\"+\n",
       "       \"output_notebook(resources=INLINE)\\n\"+\n",
       "       \"</code>\\n\"+\n",
       "       \"</div>\"}};\n",
       "  \n",
       "    function display_loaded() {\n",
       "      if (window.Bokeh !== undefined) {\n",
       "        document.getElementById(\"0fd9c4ce-ef88-4c66-b135-60fbe1ee50d0\").textContent = \"BokehJS successfully loaded.\";\n",
       "      } else if (Date.now() < window._bokeh_timeout) {\n",
       "        setTimeout(display_loaded, 100)\n",
       "      }\n",
       "    }\n",
       "  \n",
       "    function run_callbacks() {\n",
       "      window._bokeh_onload_callbacks.forEach(function(callback) { callback() });\n",
       "      delete window._bokeh_onload_callbacks\n",
       "      console.info(\"Bokeh: all callbacks have finished\");\n",
       "    }\n",
       "  \n",
       "    function load_libs(js_urls, callback) {\n",
       "      window._bokeh_onload_callbacks.push(callback);\n",
       "      if (window._bokeh_is_loading > 0) {\n",
       "        console.log(\"Bokeh: BokehJS is being loaded, scheduling callback at\", now());\n",
       "        return null;\n",
       "      }\n",
       "      if (js_urls == null || js_urls.length === 0) {\n",
       "        run_callbacks();\n",
       "        return null;\n",
       "      }\n",
       "      console.log(\"Bokeh: BokehJS not loaded, scheduling load and callback at\", now());\n",
       "      window._bokeh_is_loading = js_urls.length;\n",
       "      for (var i = 0; i < js_urls.length; i++) {\n",
       "        var url = js_urls[i];\n",
       "        var s = document.createElement('script');\n",
       "        s.src = url;\n",
       "        s.async = false;\n",
       "        s.onreadystatechange = s.onload = function() {\n",
       "          window._bokeh_is_loading--;\n",
       "          if (window._bokeh_is_loading === 0) {\n",
       "            console.log(\"Bokeh: all BokehJS libraries loaded\");\n",
       "            run_callbacks()\n",
       "          }\n",
       "        };\n",
       "        s.onerror = function() {\n",
       "          console.warn(\"failed to load library \" + url);\n",
       "        };\n",
       "        console.log(\"Bokeh: injecting script tag for BokehJS library: \", url);\n",
       "        document.getElementsByTagName(\"head\")[0].appendChild(s);\n",
       "      }\n",
       "    };var element = document.getElementById(\"0fd9c4ce-ef88-4c66-b135-60fbe1ee50d0\");\n",
       "    if (element == null) {\n",
       "      console.log(\"Bokeh: ERROR: autoload.js configured with elementid '0fd9c4ce-ef88-4c66-b135-60fbe1ee50d0' but no matching script tag was found. \")\n",
       "      return false;\n",
       "    }\n",
       "  \n",
       "    var js_urls = [];\n",
       "  \n",
       "    var inline_js = [\n",
       "      function(Bokeh) {\n",
       "        (function() {\n",
       "          var fn = function() {\n",
       "            var docs_json = {\"a97bccdb-0eae-449f-8645-b32220dd8fdf\":{\"roots\":{\"references\":[{\"attributes\":{},\"id\":\"1c0caff5-60b4-4a07-893e-1ebb81008a94\",\"type\":\"BasicTicker\"},{\"attributes\":{\"callback\":null,\"end\":377.53172042924035,\"start\":-84.2543014988096},\"id\":\"5c48ed40-b9de-417e-8de5-b375cb4cb0af\",\"type\":\"Range1d\"},{\"attributes\":{},\"id\":\"2162cc51-8a60-4e66-b3a1-97ee6912036f\",\"type\":\"BasicTickFormatter\"},{\"attributes\":{\"bottom_units\":\"screen\",\"fill_alpha\":{\"value\":0.5},\"fill_color\":{\"value\":\"lightgrey\"},\"left_units\":\"screen\",\"level\":\"overlay\",\"line_alpha\":{\"value\":1.0},\"line_color\":{\"value\":\"black\"},\"line_dash\":[4,4],\"line_width\":{\"value\":2},\"plot\":null,\"render_mode\":\"css\",\"right_units\":\"screen\",\"top_units\":\"screen\"},\"id\":\"ce7ccdf2-cec0-4960-9b4a-009de5f4bada\",\"type\":\"BoxAnnotation\"},{\"attributes\":{\"plot\":{\"id\":\"02ac1206-badf-43fc-8abb-8df824a65b22\",\"subtype\":\"Chart\",\"type\":\"Plot\"},\"ticker\":{\"id\":\"1c0caff5-60b4-4a07-893e-1ebb81008a94\",\"type\":\"BasicTicker\"}},\"id\":\"51e97ac2-289c-4bd5-b6cb-08684c4efc2a\",\"type\":\"Grid\"},{\"attributes\":{},\"id\":\"1c2f1014-2031-42b5-a5ac-0658baab5627\",\"type\":\"BasicTicker\"},{\"attributes\":{\"callback\":null,\"end\":11.879947829395787,\"start\":-11.933193120493147},\"id\":\"27fcc3c0-fd97-4a32-822f-affe0aa43542\",\"type\":\"Range1d\"},{\"attributes\":{\"dimension\":1,\"plot\":{\"id\":\"02ac1206-badf-43fc-8abb-8df824a65b22\",\"subtype\":\"Chart\",\"type\":\"Plot\"},\"ticker\":{\"id\":\"1c2f1014-2031-42b5-a5ac-0658baab5627\",\"type\":\"BasicTicker\"}},\"id\":\"4d1e1c2e-d89a-41a7-9f19-51a046283b89\",\"type\":\"Grid\"},{\"attributes\":{\"plot\":null,\"text\":null},\"id\":\"2f033f4b-53ca-4723-a719-f11a7adc33ce\",\"type\":\"Title\"},{\"attributes\":{},\"id\":\"62977160-80e2-46c6-b9e6-f7fddbed1878\",\"type\":\"BasicTickFormatter\"},{\"attributes\":{\"callback\":null,\"column_names\":[\"x_values\",\"y_values\"],\"data\":{\"chart_index\":[null,null,null,null,null,null,null,null,null,null,null,null,null,null,null,null,null,null,null,null,null,null,null,null,null,null,null,null,null,null,null,null,null,null,null,null,null,null,null,null,null,null,null,null,null,null,null,null,null,null,null,null,null,null,null,null,null,null,null,null,null,null,null,null,null,null,null,null,null,null,null,null,null,null,null,null,null,null,null,null,null,null,null,null,null,null,null,null,null,null,null,null,null,null,null,null,null,null,null,null,null,null,null,null,null,null,null,null,null,null,null,null,null,null,null,null,null,null,null,null,null,null,null,null,null,null,null,null,null,null,null,null,null,null,null,null,null,null,null,null,null,null,null,null,null,null,null,null,null,null,null,null,null,null,null,null,null,null,null,null,null,null,null,null,null,null,null,null,null,null,null,null,null,null,null,null,null,null,null,null,null,null,null,null,null,null,null,null,null,null,null,null,null,null,null,null,null,null,null,null,null,null,null,null,null,null,null,null,null,null,null,null,null,null,null,null,null,null,null,null,null,null,null,null,null,null,null,null,null,null,null,null,null,null,null,null,null,null,null,null,null,null,null,null,null,null,null,null,null,null,null,null,null,null,null,null,null,null,null,null,null,null,null,null,null,null,null,null,null,null,null,null,null,null,null,null,null,null,null,null,null,null,null,null,null,null,null,null,null,null,null,null,null,null,null,null,null,null,null,null,null,null,null,null,null,null,null,null,null,null,null,null,null,null,null,null,null,null,null,null,null,null,null,null,null,null,null,null,null,null,null,null,null,null,null,null,null,null,null,null,null,null,null,null,null,null,null,null,null,null,null,null,null,null,null,null,null,null,null,null,null,null,null,null,null,null,null,null,null,null,null,null,null,null,null,null,null,null,null,null,null,null,null,null,null,null,null,null,null,null,null,null,null,null,null,null,null,null,null,null,null,null,null,null,null,null,null,null,null,null,null,null,null,null,null,null,null,null,null,null,null,null,null,null,null,null,null,null,null,null,null,null,null,null,null,null,null,null,null,null,null,null,null,null,null,null,null,null,null,null,null,null,null,null,null,null,null,null,null,null,null,null,null,null,null,null,null,null,null,null,null,null,null,null,null,null,null,null,null,null,null,null,null,null,null,null,null,null,null,null,null,null,null,null,null,null,null,null,null,null],\"x_values\":{\"__ndarray__\":\"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\",\"dtype\":\"float64\",\"shape\":[500]},\"y_values\":{\"__ndarray__\":\"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\",\"dtype\":\"float64\",\"shape\":[500]}}},\"id\":\"dce8d7a6-3b6c-4dee-92b4-e2929373a7b3\",\"type\":\"ColumnDataSource\"},{\"attributes\":{\"axis_label\":\"y\",\"formatter\":{\"id\":\"62977160-80e2-46c6-b9e6-f7fddbed1878\",\"type\":\"BasicTickFormatter\"},\"plot\":{\"id\":\"02ac1206-badf-43fc-8abb-8df824a65b22\",\"subtype\":\"Chart\",\"type\":\"Plot\"},\"ticker\":{\"id\":\"1c2f1014-2031-42b5-a5ac-0658baab5627\",\"type\":\"BasicTicker\"}},\"id\":\"06eefccf-b305-451c-bf83-eaa02a316962\",\"type\":\"LinearAxis\"},{\"attributes\":{\"plot\":{\"id\":\"02ac1206-badf-43fc-8abb-8df824a65b22\",\"subtype\":\"Chart\",\"type\":\"Plot\"}},\"id\":\"12e19750-38f2-4090-8256-4fcf919b9d60\",\"type\":\"PanTool\"},{\"attributes\":{\"plot\":{\"id\":\"02ac1206-badf-43fc-8abb-8df824a65b22\",\"subtype\":\"Chart\",\"type\":\"Plot\"}},\"id\":\"554d96e5-a9cb-471e-9ff4-93248f06c3bb\",\"type\":\"WheelZoomTool\"},{\"attributes\":{\"overlay\":{\"id\":\"ce7ccdf2-cec0-4960-9b4a-009de5f4bada\",\"type\":\"BoxAnnotation\"},\"plot\":{\"id\":\"02ac1206-badf-43fc-8abb-8df824a65b22\",\"subtype\":\"Chart\",\"type\":\"Plot\"}},\"id\":\"ea8749c2-81eb-49ed-90cd-7c06593a1233\",\"type\":\"BoxZoomTool\"},{\"attributes\":{\"plot\":{\"id\":\"02ac1206-badf-43fc-8abb-8df824a65b22\",\"subtype\":\"Chart\",\"type\":\"Plot\"}},\"id\":\"235a2686-8408-43f3-ba7d-2f961e16825d\",\"type\":\"SaveTool\"},{\"attributes\":{\"plot\":{\"id\":\"02ac1206-badf-43fc-8abb-8df824a65b22\",\"subtype\":\"Chart\",\"type\":\"Plot\"}},\"id\":\"c5b9efd9-827c-49d9-906c-3f91b4ad60b3\",\"type\":\"ResetTool\"},{\"attributes\":{},\"id\":\"5b0a3606-2df5-4d26-b4c0-54260f25097d\",\"type\":\"ToolEvents\"},{\"attributes\":{\"plot\":{\"id\":\"02ac1206-badf-43fc-8abb-8df824a65b22\",\"subtype\":\"Chart\",\"type\":\"Plot\"}},\"id\":\"18b5d943-132d-4687-8db7-587fa81b9a44\",\"type\":\"HelpTool\"},{\"attributes\":{\"data_source\":{\"id\":\"dce8d7a6-3b6c-4dee-92b4-e2929373a7b3\",\"type\":\"ColumnDataSource\"},\"glyph\":{\"id\":\"84a6379a-d3fd-424f-93bf-b47d9219b770\",\"type\":\"Circle\"},\"hover_glyph\":null,\"nonselection_glyph\":null,\"selection_glyph\":null},\"id\":\"c086ba40-e168-4d9c-a1a9-807ac176fd3c\",\"type\":\"GlyphRenderer\"},{\"attributes\":{\"active_drag\":\"auto\",\"active_scroll\":\"auto\",\"active_tap\":\"auto\",\"tools\":[{\"id\":\"12e19750-38f2-4090-8256-4fcf919b9d60\",\"type\":\"PanTool\"},{\"id\":\"554d96e5-a9cb-471e-9ff4-93248f06c3bb\",\"type\":\"WheelZoomTool\"},{\"id\":\"ea8749c2-81eb-49ed-90cd-7c06593a1233\",\"type\":\"BoxZoomTool\"},{\"id\":\"235a2686-8408-43f3-ba7d-2f961e16825d\",\"type\":\"SaveTool\"},{\"id\":\"c5b9efd9-827c-49d9-906c-3f91b4ad60b3\",\"type\":\"ResetTool\"},{\"id\":\"18b5d943-132d-4687-8db7-587fa81b9a44\",\"type\":\"HelpTool\"}]},\"id\":\"cf45398b-1a6a-43d8-866a-74b9b8b04187\",\"type\":\"Toolbar\"},{\"attributes\":{\"axis_label\":\"x\",\"formatter\":{\"id\":\"2162cc51-8a60-4e66-b3a1-97ee6912036f\",\"type\":\"BasicTickFormatter\"},\"plot\":{\"id\":\"02ac1206-badf-43fc-8abb-8df824a65b22\",\"subtype\":\"Chart\",\"type\":\"Plot\"},\"ticker\":{\"id\":\"1c0caff5-60b4-4a07-893e-1ebb81008a94\",\"type\":\"BasicTicker\"}},\"id\":\"0ff806b0-77d1-4c02-a20f-4b09c0559041\",\"type\":\"LinearAxis\"},{\"attributes\":{\"below\":[{\"id\":\"0ff806b0-77d1-4c02-a20f-4b09c0559041\",\"type\":\"LinearAxis\"}],\"css_classes\":null,\"height\":400,\"left\":[{\"id\":\"06eefccf-b305-451c-bf83-eaa02a316962\",\"type\":\"LinearAxis\"}],\"renderers\":[{\"id\":\"ce7ccdf2-cec0-4960-9b4a-009de5f4bada\",\"type\":\"BoxAnnotation\"},{\"id\":\"c086ba40-e168-4d9c-a1a9-807ac176fd3c\",\"type\":\"GlyphRenderer\"},{\"id\":\"a3f2a8a5-3d38-4e87-b911-1500603db8a4\",\"type\":\"Legend\"},{\"id\":\"0ff806b0-77d1-4c02-a20f-4b09c0559041\",\"type\":\"LinearAxis\"},{\"id\":\"06eefccf-b305-451c-bf83-eaa02a316962\",\"type\":\"LinearAxis\"},{\"id\":\"51e97ac2-289c-4bd5-b6cb-08684c4efc2a\",\"type\":\"Grid\"},{\"id\":\"4d1e1c2e-d89a-41a7-9f19-51a046283b89\",\"type\":\"Grid\"}],\"title\":{\"id\":\"2f033f4b-53ca-4723-a719-f11a7adc33ce\",\"type\":\"Title\"},\"tool_events\":{\"id\":\"5b0a3606-2df5-4d26-b4c0-54260f25097d\",\"type\":\"ToolEvents\"},\"toolbar\":{\"id\":\"cf45398b-1a6a-43d8-866a-74b9b8b04187\",\"type\":\"Toolbar\"},\"width\":750,\"x_mapper_type\":\"auto\",\"x_range\":{\"id\":\"27fcc3c0-fd97-4a32-822f-affe0aa43542\",\"type\":\"Range1d\"},\"y_mapper_type\":\"auto\",\"y_range\":{\"id\":\"5c48ed40-b9de-417e-8de5-b375cb4cb0af\",\"type\":\"Range1d\"}},\"id\":\"02ac1206-badf-43fc-8abb-8df824a65b22\",\"subtype\":\"Chart\",\"type\":\"Plot\"},{\"attributes\":{\"fill_alpha\":{\"value\":0.7},\"fill_color\":{\"value\":\"#f22c40\"},\"line_color\":{\"value\":\"#f22c40\"},\"size\":{\"units\":\"screen\",\"value\":8},\"x\":{\"field\":\"x_values\"},\"y\":{\"field\":\"y_values\"}},\"id\":\"84a6379a-d3fd-424f-93bf-b47d9219b770\",\"type\":\"Circle\"},{\"attributes\":{\"location\":\"top_left\",\"plot\":{\"id\":\"02ac1206-badf-43fc-8abb-8df824a65b22\",\"subtype\":\"Chart\",\"type\":\"Plot\"}},\"id\":\"a3f2a8a5-3d38-4e87-b911-1500603db8a4\",\"type\":\"Legend\"}],\"root_ids\":[\"02ac1206-badf-43fc-8abb-8df824a65b22\"]},\"title\":\"Bokeh Application\",\"version\":\"0.12.4\"}};\n",
       "            var render_items = [{\"docid\":\"a97bccdb-0eae-449f-8645-b32220dd8fdf\",\"elementid\":\"0fd9c4ce-ef88-4c66-b135-60fbe1ee50d0\",\"modelid\":\"02ac1206-badf-43fc-8abb-8df824a65b22\"}];\n",
       "            \n",
       "            Bokeh.embed.embed_items(docs_json, render_items);\n",
       "          };\n",
       "          if (document.readyState != \"loading\") fn();\n",
       "          else document.addEventListener(\"DOMContentLoaded\", fn);\n",
       "        })();\n",
       "      },\n",
       "      function(Bokeh) {\n",
       "      }\n",
       "    ];\n",
       "  \n",
       "    function run_inline_js() {\n",
       "      \n",
       "      if ((window.Bokeh !== undefined) || (force === true)) {\n",
       "        for (var i = 0; i < inline_js.length; i++) {\n",
       "          inline_js[i](window.Bokeh);\n",
       "        }if (force === true) {\n",
       "          display_loaded();\n",
       "        }} else if (Date.now() < window._bokeh_timeout) {\n",
       "        setTimeout(run_inline_js, 100);\n",
       "      } else if (!window._bokeh_failed_load) {\n",
       "        console.log(\"Bokeh: BokehJS failed to load within specified timeout.\");\n",
       "        window._bokeh_failed_load = true;\n",
       "      } else if (force !== true) {\n",
       "        var cell = $(document.getElementById(\"0fd9c4ce-ef88-4c66-b135-60fbe1ee50d0\")).parents('.cell').data().cell;\n",
       "        cell.output_area.append_execute_result(NB_LOAD_WARNING)\n",
       "      }\n",
       "  \n",
       "    }\n",
       "  \n",
       "    if (window._bokeh_is_loading === 0) {\n",
       "      console.log(\"Bokeh: BokehJS loaded, going straight to plotting\");\n",
       "      run_inline_js();\n",
       "    } else {\n",
       "      load_libs(js_urls, function() {\n",
       "        console.log(\"Bokeh: BokehJS plotting callback run at\", now());\n",
       "        run_inline_js();\n",
       "      });\n",
       "    }\n",
       "  }(this));\n",
       "</script>"
      ]
     },
     "metadata": {},
     "output_type": "display_data"
    }
   ],
   "source": [
    "from bokeh.charts import Scatter, output_notebook, show\n",
    "output_notebook()\n",
    "\n",
    "scatter = Scatter({'x': x, 'y': y}, width=750, height=400)\n",
    "show(scatter)"
   ]
  },
  {
   "cell_type": "markdown",
   "metadata": {
    "deletable": true,
    "editable": true,
    "slideshow": {
     "slide_type": "slide"
    }
   },
   "source": [
    "### Least Squares the way _you_ do it...\n",
    "\n",
    "...assuming you use `scikit-learn` like every other sane Python programmer."
   ]
  },
  {
   "cell_type": "markdown",
   "metadata": {
    "deletable": true,
    "editable": true,
    "slideshow": {
     "slide_type": "subslide"
    }
   },
   "source": [
    "We looked at a chart of our data and decided to describe it with:\n",
    "\n",
    "* A quadratic term  \n",
    "* A linear term\n",
    "* An offset"
   ]
  },
  {
   "cell_type": "code",
   "execution_count": 3,
   "metadata": {
    "collapsed": false,
    "deletable": true,
    "editable": true,
    "slideshow": {
     "slide_type": "subslide"
    }
   },
   "outputs": [
    {
     "name": "stdout",
     "output_type": "stream",
     "text": [
      "[ 3.0258123  -1.71766419  8.96963665]\n"
     ]
    },
    {
     "name": "stderr",
     "output_type": "stream",
     "text": [
      "/Users/roneil/src/github.com/ryanjoneil/talks/2017/03/data-science-dc/lib/python3.6/site-packages/scipy/linalg/basic.py:884: RuntimeWarning: internal gelsd driver lwork query error, required iwork dimension not returned. This is likely the result of LAPACK bug 0038, fixed in LAPACK 3.2.2 (released July 21, 2010). Falling back to 'gelss' driver.\n",
      "  warnings.warn(mesg, RuntimeWarning)\n"
     ]
    }
   ],
   "source": [
    "from sklearn.linear_model import LinearRegression\n",
    "\n",
    "# Note: A is our feature matrix.\n",
    "#       We intentionally add a \"1\" for the offset, instead of letting \n",
    "#       sklearn do that for us. This will make sense soon.\n",
    "\n",
    "X = np.array([[xi**2, xi, 1] for xi in x])\n",
    "\n",
    "lin = LinearRegression(fit_intercept=False)\n",
    "lin.fit(X, y)\n",
    "\n",
    "print(lin.coef_)"
   ]
  },
  {
   "cell_type": "markdown",
   "metadata": {
    "deletable": true,
    "editable": true,
    "slideshow": {
     "slide_type": "subslide"
    }
   },
   "source": [
    "How'd we do?"
   ]
  },
  {
   "cell_type": "code",
   "execution_count": 4,
   "metadata": {
    "collapsed": false,
    "deletable": true,
    "editable": true,
    "slideshow": {
     "slide_type": "-"
    }
   },
   "outputs": [
    {
     "data": {
      "text/html": [
       "\n",
       "\n",
       "    <div class=\"bk-root\">\n",
       "        <div class=\"bk-plotdiv\" id=\"69e67c9c-6658-4220-995a-c13ebe490ce1\"></div>\n",
       "    </div>\n",
       "<script type=\"text/javascript\">\n",
       "  \n",
       "  (function(global) {\n",
       "    function now() {\n",
       "      return new Date();\n",
       "    }\n",
       "  \n",
       "    var force = false;\n",
       "  \n",
       "    if (typeof (window._bokeh_onload_callbacks) === \"undefined\" || force === true) {\n",
       "      window._bokeh_onload_callbacks = [];\n",
       "      window._bokeh_is_loading = undefined;\n",
       "    }\n",
       "  \n",
       "  \n",
       "    \n",
       "    if (typeof (window._bokeh_timeout) === \"undefined\" || force === true) {\n",
       "      window._bokeh_timeout = Date.now() + 0;\n",
       "      window._bokeh_failed_load = false;\n",
       "    }\n",
       "  \n",
       "    var NB_LOAD_WARNING = {'data': {'text/html':\n",
       "       \"<div style='background-color: #fdd'>\\n\"+\n",
       "       \"<p>\\n\"+\n",
       "       \"BokehJS does not appear to have successfully loaded. If loading BokehJS from CDN, this \\n\"+\n",
       "       \"may be due to a slow or bad network connection. Possible fixes:\\n\"+\n",
       "       \"</p>\\n\"+\n",
       "       \"<ul>\\n\"+\n",
       "       \"<li>re-rerun `output_notebook()` to attempt to load from CDN again, or</li>\\n\"+\n",
       "       \"<li>use INLINE resources instead, as so:</li>\\n\"+\n",
       "       \"</ul>\\n\"+\n",
       "       \"<code>\\n\"+\n",
       "       \"from bokeh.resources import INLINE\\n\"+\n",
       "       \"output_notebook(resources=INLINE)\\n\"+\n",
       "       \"</code>\\n\"+\n",
       "       \"</div>\"}};\n",
       "  \n",
       "    function display_loaded() {\n",
       "      if (window.Bokeh !== undefined) {\n",
       "        document.getElementById(\"69e67c9c-6658-4220-995a-c13ebe490ce1\").textContent = \"BokehJS successfully loaded.\";\n",
       "      } else if (Date.now() < window._bokeh_timeout) {\n",
       "        setTimeout(display_loaded, 100)\n",
       "      }\n",
       "    }\n",
       "  \n",
       "    function run_callbacks() {\n",
       "      window._bokeh_onload_callbacks.forEach(function(callback) { callback() });\n",
       "      delete window._bokeh_onload_callbacks\n",
       "      console.info(\"Bokeh: all callbacks have finished\");\n",
       "    }\n",
       "  \n",
       "    function load_libs(js_urls, callback) {\n",
       "      window._bokeh_onload_callbacks.push(callback);\n",
       "      if (window._bokeh_is_loading > 0) {\n",
       "        console.log(\"Bokeh: BokehJS is being loaded, scheduling callback at\", now());\n",
       "        return null;\n",
       "      }\n",
       "      if (js_urls == null || js_urls.length === 0) {\n",
       "        run_callbacks();\n",
       "        return null;\n",
       "      }\n",
       "      console.log(\"Bokeh: BokehJS not loaded, scheduling load and callback at\", now());\n",
       "      window._bokeh_is_loading = js_urls.length;\n",
       "      for (var i = 0; i < js_urls.length; i++) {\n",
       "        var url = js_urls[i];\n",
       "        var s = document.createElement('script');\n",
       "        s.src = url;\n",
       "        s.async = false;\n",
       "        s.onreadystatechange = s.onload = function() {\n",
       "          window._bokeh_is_loading--;\n",
       "          if (window._bokeh_is_loading === 0) {\n",
       "            console.log(\"Bokeh: all BokehJS libraries loaded\");\n",
       "            run_callbacks()\n",
       "          }\n",
       "        };\n",
       "        s.onerror = function() {\n",
       "          console.warn(\"failed to load library \" + url);\n",
       "        };\n",
       "        console.log(\"Bokeh: injecting script tag for BokehJS library: \", url);\n",
       "        document.getElementsByTagName(\"head\")[0].appendChild(s);\n",
       "      }\n",
       "    };var element = document.getElementById(\"69e67c9c-6658-4220-995a-c13ebe490ce1\");\n",
       "    if (element == null) {\n",
       "      console.log(\"Bokeh: ERROR: autoload.js configured with elementid '69e67c9c-6658-4220-995a-c13ebe490ce1' but no matching script tag was found. \")\n",
       "      return false;\n",
       "    }\n",
       "  \n",
       "    var js_urls = [];\n",
       "  \n",
       "    var inline_js = [\n",
       "      function(Bokeh) {\n",
       "        (function() {\n",
       "          var fn = function() {\n",
       "            var docs_json = {\"16fab8ee-db6e-4578-9b41-217fc6aa993f\":{\"roots\":{\"references\":[{\"attributes\":{},\"id\":\"41307c57-f391-4c7a-bd31-e38c8805ca0d\",\"type\":\"ToolEvents\"},{\"attributes\":{\"below\":[{\"id\":\"8cac6287-11c2-41a5-8338-f14e38b73ea9\",\"type\":\"LinearAxis\"}],\"css_classes\":null,\"height\":400,\"left\":[{\"id\":\"d26abf48-8a07-4ba3-a860-f12286ae4227\",\"type\":\"LinearAxis\"}],\"renderers\":[{\"id\":\"89575448-4022-4025-8e52-8fab47388840\",\"type\":\"BoxAnnotation\"},{\"id\":\"0177ec6a-1dd7-4055-b0ac-00e4328875e8\",\"type\":\"GlyphRenderer\"},{\"id\":\"464f0977-2233-4e22-8597-a9dc3e0c54f0\",\"type\":\"Legend\"},{\"id\":\"8cac6287-11c2-41a5-8338-f14e38b73ea9\",\"type\":\"LinearAxis\"},{\"id\":\"d26abf48-8a07-4ba3-a860-f12286ae4227\",\"type\":\"LinearAxis\"},{\"id\":\"aba9ded6-720b-4d57-97d1-22c239ef12d2\",\"type\":\"Grid\"},{\"id\":\"ca4096ff-5358-48d5-95dd-40df2110a5aa\",\"type\":\"Grid\"}],\"title\":{\"id\":\"3f80f5f5-e42f-4e9d-bfe5-54e0718336f4\",\"type\":\"Title\"},\"tool_events\":{\"id\":\"41307c57-f391-4c7a-bd31-e38c8805ca0d\",\"type\":\"ToolEvents\"},\"toolbar\":{\"id\":\"77cdc21b-032d-4d22-bf19-116614bda70c\",\"type\":\"Toolbar\"},\"width\":750,\"x_mapper_type\":\"auto\",\"x_range\":{\"id\":\"5d8531b4-b0f4-496c-979e-26f2a486c924\",\"type\":\"Range1d\"},\"y_mapper_type\":\"auto\",\"y_range\":{\"id\":\"1d71fec2-1c37-4ad4-a9a8-9908d0e77324\",\"type\":\"Range1d\"}},\"id\":\"04d803b4-9546-4c36-a63e-ef17e7e13a18\",\"subtype\":\"Chart\",\"type\":\"Plot\"},{\"attributes\":{},\"id\":\"52bc81a4-e651-4dcf-96cf-b12de5fd42c8\",\"type\":\"BasicTickFormatter\"},{\"attributes\":{\"plot\":null,\"text\":null},\"id\":\"3f80f5f5-e42f-4e9d-bfe5-54e0718336f4\",\"type\":\"Title\"},{\"attributes\":{\"active_drag\":\"auto\",\"active_scroll\":\"auto\",\"active_tap\":\"auto\",\"tools\":[{\"id\":\"e3ab0f13-049d-4bda-b3f9-8d76927d383b\",\"type\":\"PanTool\"},{\"id\":\"40919208-5b25-4b26-92c1-19843d90f771\",\"type\":\"WheelZoomTool\"},{\"id\":\"bd86dab3-5add-4021-8bbc-e012e0bac281\",\"type\":\"BoxZoomTool\"},{\"id\":\"1a4f47fe-d337-443f-8df1-a8079e533b1e\",\"type\":\"SaveTool\"},{\"id\":\"b6a55278-b87f-4d8d-95a0-5aeff676e80e\",\"type\":\"ResetTool\"},{\"id\":\"9744e6fc-fa67-432b-9229-2900f4dd05d1\",\"type\":\"HelpTool\"}]},\"id\":\"77cdc21b-032d-4d22-bf19-116614bda70c\",\"type\":\"Toolbar\"},{\"attributes\":{\"axis_label\":\"x\",\"formatter\":{\"id\":\"1c6ee6a9-5dbb-4f2b-874c-7771595f8838\",\"type\":\"BasicTickFormatter\"},\"plot\":{\"id\":\"04d803b4-9546-4c36-a63e-ef17e7e13a18\",\"subtype\":\"Chart\",\"type\":\"Plot\"},\"ticker\":{\"id\":\"388bcc27-e333-4897-b7f5-4736ce9dd06a\",\"type\":\"BasicTicker\"}},\"id\":\"8cac6287-11c2-41a5-8338-f14e38b73ea9\",\"type\":\"LinearAxis\"},{\"attributes\":{\"bottom_units\":\"screen\",\"fill_alpha\":{\"value\":0.5},\"fill_color\":{\"value\":\"lightgrey\"},\"left_units\":\"screen\",\"level\":\"overlay\",\"line_alpha\":{\"value\":1.0},\"line_color\":{\"value\":\"black\"},\"line_dash\":[4,4],\"line_width\":{\"value\":2},\"plot\":null,\"render_mode\":\"css\",\"right_units\":\"screen\",\"top_units\":\"screen\"},\"id\":\"89575448-4022-4025-8e52-8fab47388840\",\"type\":\"BoxAnnotation\"},{\"attributes\":{\"plot\":{\"id\":\"04d803b4-9546-4c36-a63e-ef17e7e13a18\",\"subtype\":\"Chart\",\"type\":\"Plot\"}},\"id\":\"e3ab0f13-049d-4bda-b3f9-8d76927d383b\",\"type\":\"PanTool\"},{\"attributes\":{\"location\":\"top_left\",\"plot\":{\"id\":\"04d803b4-9546-4c36-a63e-ef17e7e13a18\",\"subtype\":\"Chart\",\"type\":\"Plot\"}},\"id\":\"464f0977-2233-4e22-8597-a9dc3e0c54f0\",\"type\":\"Legend\"},{\"attributes\":{\"plot\":{\"id\":\"04d803b4-9546-4c36-a63e-ef17e7e13a18\",\"subtype\":\"Chart\",\"type\":\"Plot\"}},\"id\":\"40919208-5b25-4b26-92c1-19843d90f771\",\"type\":\"WheelZoomTool\"},{\"attributes\":{\"overlay\":{\"id\":\"89575448-4022-4025-8e52-8fab47388840\",\"type\":\"BoxAnnotation\"},\"plot\":{\"id\":\"04d803b4-9546-4c36-a63e-ef17e7e13a18\",\"subtype\":\"Chart\",\"type\":\"Plot\"}},\"id\":\"bd86dab3-5add-4021-8bbc-e012e0bac281\",\"type\":\"BoxZoomTool\"},{\"attributes\":{\"plot\":{\"id\":\"04d803b4-9546-4c36-a63e-ef17e7e13a18\",\"subtype\":\"Chart\",\"type\":\"Plot\"}},\"id\":\"1a4f47fe-d337-443f-8df1-a8079e533b1e\",\"type\":\"SaveTool\"},{\"attributes\":{\"plot\":{\"id\":\"04d803b4-9546-4c36-a63e-ef17e7e13a18\",\"subtype\":\"Chart\",\"type\":\"Plot\"}},\"id\":\"b6a55278-b87f-4d8d-95a0-5aeff676e80e\",\"type\":\"ResetTool\"},{\"attributes\":{\"plot\":{\"id\":\"04d803b4-9546-4c36-a63e-ef17e7e13a18\",\"subtype\":\"Chart\",\"type\":\"Plot\"}},\"id\":\"9744e6fc-fa67-432b-9229-2900f4dd05d1\",\"type\":\"HelpTool\"},{\"attributes\":{\"callback\":null,\"end\":11.879947829395787,\"start\":-11.933193120493147},\"id\":\"5d8531b4-b0f4-496c-979e-26f2a486c924\",\"type\":\"Range1d\"},{\"attributes\":{\"callback\":null,\"column_names\":[\"x_values\",\"y_values\"],\"data\":{\"chart_index\":[null,null,null,null,null,null,null,null,null,null,null,null,null,null,null,null,null,null,null,null,null,null,null,null,null,null,null,null,null,null,null,null,null,null,null,null,null,null,null,null,null,null,null,null,null,null,null,null,null,null,null,null,null,null,null,null,null,null,null,null,null,null,null,null,null,null,null,null,null,null,null,null,null,null,null,null,null,null,null,null,null,null,null,null,null,null,null,null,null,null,null,null,null,null,null,null,null,null,null,null,null,null,null,null,null,null,null,null,null,null,null,null,null,null,null,null,null,null,null,null,null,null,null,null,null,null,null,null,null,null,null,null,null,null,null,null,null,null,null,null,null,null,null,null,null,null,null,null,null,null,null,null,null,null,null,null,null,null,null,null,null,null,null,null,null,null,null,null,null,null,null,null,null,null,null,null,null,null,null,null,null,null,null,null,null,null,null,null,null,null,null,null,null,null,null,null,null,null,null,null,null,null,null,null,null,null,null,null,null,null,null,null,null,null,null,null,null,null,null,null,null,null,null,null,null,null,null,null,null,null,null,null,null,null,null,null,null,null,null,null,null,null,null,null,null,null,null,null,null,null,null,null,null,null,null,null,null,null,null,null,null,null,null,null,null,null,null,null,null,null,null,null,null,null,null,null,null,null,null,null,null,null,null,null,null,null,null,null,null,null,null,null,null,null,null,null,null,null,null,null,null,null,null,null,null,null,null,null,null,null,null,null,null,null,null,null,null,null,null,null,null,null,null,null,null,null,null,null,null,null,null,null,null,null,null,null,null,null,null,null,null,null,null,null,null,null,null,null,null,null,null,null,null,null,null,null,null,null,null,null,null,null,null,null,null,null,null,null,null,null,null,null,null,null,null,null,null,null,null,null,null,null,null,null,null,null,null,null,null,null,null,null,null,null,null,null,null,null,null,null,null,null,null,null,null,null,null,null,null,null,null,null,null,null,null,null,null,null,null,null,null,null,null,null,null,null,null,null,null,null,null,null,null,null,null,null,null,null,null,null,null,null,null,null,null,null,null,null,null,null,null,null,null,null,null,null,null,null,null,null,null,null,null,null,null,null,null,null,null,null,null,null,null,null,null,null,null,null,null,null,null,null,null,null,null,null,null,null,null,null,null,null,null,null,null,null,null,null,null,null],\"x_values\":{\"__ndarray__\":\"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\",\"dtype\":\"float64\",\"shape\":[500]},\"y_values\":{\"__ndarray__\":\"4JibBMBYdECmIUi6pcBzQMxtOBi5rHNAou6Lh+5oc0DBprNO1TdzQGZuFj4AGXNAU5EIUvb2ckB7If4y9dByQAORdfP+p3JA+Gr0D0dYckDeR0HjOVFyQOgaQO3NrHFAYSad/WyZcUBzc/eJm3lxQCuqShFjbXFAnA3rTFVGcUD6TYomYCpxQD5sUCpOHHFAc/EmyekDcUBMSoUZCvNwQGK+nRD+g3BAJolUyNxwcEDq0caITF9wQCy2rzqcVXBAyNIvyHVPcECkKZkWedBvQCnfoc3DsG9AGG8Gd9bfbkCeZSY6w6JuQITsub+igm5A47/zNyYHbkCLdM1ID9ZtQOTqt7DEgWxACOlvJv9gbEC2MkbX+UZsQO6QF+UvEGxA1nPQUGSKa0CR1N8NXVhrQGP2YP68+GpA29mOIf3eakC+dZYLNddqQJhrpD+9ZGpANWPjNhA9akAopk50/ztqQN+oK6K4HWpA5lPX0RDEaUCiUXXBSrhpQK9Z3b2Pn2lAWE75Afx9aUAbR/pWX2FpQLXdXF0nMGlAPxVqKArtaECKvbvVDqpoQAq6mLPcmWhAmTnQkdd8aEDwd2II7xRoQBZ3HDsB/2dAWpbTaUKqZ0DL+wbYfQ1nQPrDKvprXWZA+sifbrYoZkC0HHdDbSFmQLYrzezy12VAoZOWb4u/ZUDu3ZbC+a5lQOlDVRvvPWVAoIUBV0wTZUDZnLMWRftkQJ+UuYu80WRAshVYgb3LZEB0D3Cwma9kQAb8g+MLc2RAPGnOrB1lZEDskFH3MkxkQKtNFv0eKmNAzSw3gG9iYkAQQF5HUjFiQBvmjotrKGJAMlbXj0AnYkC/QuyscJNhQCgA9jEGjGFAOlXhMW4dYUC9dVi5VwthQAtfUAPHAGFAcnXx8oqcYEDgpdP5zn1gQNIQwtNGV2BAXZmN5yc/YEC6y9Jmxg1gQNwQmURsGF9At6aZwPn3XkB/V1JI9NxdQCo75PWCvF1A9HDBFwmiXUAJcI5B7jtdQP0XzYjnNl1Au2xDhaodXUBxvMBVhLxcQGTCpEJrplxAsYUPJGKQXEAZ+ovO/YNcQN7qjAmHd1xAdPEJQAvyW0A8TXel5IlbQHNR8DD4E1tATDWT5rS+WUBdMnu2KolZQHp2jOBXFllAGfDty8oDWUDMqhmnWn5YQCWn/1WVVlhAb9qLY1ntV0B2cJIHRM9XQIKJAiAuA1dAfXkqNv+mVkDsVlDqmT9WQPXpuPd5M1ZAaJSFxiNvVUCirZ8P/1BVQMKIlcou6VRA0n7HogDjVECtyxThqWxUQA2XeUfmMlRAYaq8lAD1U0AFsYwnfOVTQKeAqmnl1FNAMAvCvKsvU0A3uBS9xBhTQOPPq92X31JAEfzLxafiUUBEdfCyUtRRQMGpngWak1FA77BvfqhxUUBu+H45WW5RQBqMs3mB4FBAQjb/TM3VUEBnjwBhtcBQQIYeMmIRqFBAc1nV7vZkUEDHNDIL4lZQQNByPSOYElBAqyFM8X5hTkCe8U6hpSNOQAImqYv4801AoPKMHcvpTUBo17VPZOdNQDCPfBZ00E1AGc1PyRILTUDIV/FpuApNQKA/mfgqCU1AZqvm7JD/TEAvIb7hAcpMQNokxkJdKExATxrrdY4lTEBOWl0msxlMQMpC1ELGDkxAUZfKUBK5S0BjypVHYKBKQFiAkTi/hUpA/diTajr9SUBOsfk+88pJQPUd8db/LklA6dWDFQ3pSECQS+1eJaVIQFmEzl33AEhA9l17Q+DdR0Aidn7O6pVHQMxTy83dKEdAQ3+n2J/1RkCC3tnXK9RGQElFQG39WUZA2uMzexMyRkBEwzOl+ENFQAMzDw5t2URAPboOWujCQ0ASwVcN76JDQIiXTynQKkNA8l1eqV/6QkBmy6evcyNCQF70G3fbG0JAl2Xo9ezTQUCWsY1GcYVBQEhYxxYIY0FABE2UjL4+QUApEnTuEz9AQEiAMSAHjD5ANrsbwyHlPUCsbi5f2Vo9QOoc2VnYjTxAmEa2ZS8DPEDAVaHDmOQ6QOow6CBeoDpAktNolkCbOkCEW/6DBrw4QBAXsbAhmThAzNWhBduVOEBbBR+TqXg4QAi6c5PUBzhAbFev0cAON0C4Q34UxJQ2QN8R6Hz8GTVA2pcywjUNNUDm7oBLmus0QAzJ9ndNfzRAbuLyQEpPNEBGLkgVZPkzQAzMSJs9xzNAVNyepptvM0A8OeXT7ykzQCowJTLI2jJAdJk2hLzIMkDml7l++lcyQNaykpL9PDJATry428AMMkDj3SjsbrMxQF7S4bsbljFAFo1VNKAnMUBX2f2YlMwwQOF/YX+KtTBAady/RppVLkCoyffLDU4uQDIBvmYj+y1A3/S5dmzBLUA/KBXJHLgsQJDMtCtbCixA9nWvdQPuKUByQ+rSoHYoQNC5JKqAYihAqPmOYxMHKEDI/ukcWKsnQFBY1lngJCdAZa0Vb47UJkBUL9C2JKEmQDGdZHfDxCVAozLPgB+SJUC8ZezGxXklQFy5apx7RiVAzZGdKOUkJUBUy4hrXPAkQEipmjxwqCRAoK8qfKLhI0DzxsuCN84jQAH3SxEOtyNAFE8cnW2XI0DguG3dQ5QjQPFCTcJ8hiNAssQRWs5xIkAZ5bUTBjMiQJSTYrAO+CFA+W9tkAPGIUC/J+Skh7EhQIV3cU+zpyFAk6/q3/+dIUCaCkeBiJwhQLSiLoHxkCFAhV+o9wSIIUAYIo3G3XshQFxwV5xXdiFA+Jvvksh5IUDdYatANoYhQAJStxgBnyFAH+50B/qlIUBHa4b6HbwhQB8wkntt3SFAwDA1q+ZCIkDc+ppPSeEiQLaTO3jm3SNAeRkmrhwKJED5ccy5lRclQCHAeprt4yVAHHTOcQ3vJUDwyfX9nj8mQNFJG3cZqyZA+To7Wt3KJ0BuYrDnePMnQJaXuJoucihAyJx5w5LPKUArAKFm93QqQDLkYWQXwipA2l7nDULQKkCq6a6FjO4qQIG/j4EAVitAwQTmxXq4K0D3QI4V8lYsQMYdZSNzrC1ACMehE0vMLUCqeG7pWJ8uQNJ8FVfctS5A3GwiYMO1L0A9YMNCMUgwQPXyLdd78DBAYgbsWRTSMUAZeTOQ3h4yQPTriXXfnTJAQIphTmXpMkCOn9S3CiMzQII5caX8eDNA6v80jHD/M0CsS/UH5jw0QFuIKudryDRAVI74QhHZNEC2noq66+U0QMiOl+zsHjZAsiifpTQoNkBPeGM+hFE2QBhN1nU86jZABI38nb4ON0BqYCs7d0k3QFofflNrPDhA7FfzWPCdOEDiAKQdWrM4QKbgyL9muThAbNWWacvBOECsSScoFT05QHY6gRiq7DpAClzSlFO7O0DGnzrjG2s9QNSCwh7RwT1AOhukyLqLPkBeZlwJKwo/QIxviQPVQj9ABM2t/FfTP0DYRs/krx5AQAKqiKocR0BA/RpkeTxQQEBxytbegFZAQFJ8qbS/mUBAQ5Ve0glRQUBvPbtAIoxBQG28+umDsEFALfy310h8QkBrWJTg39hCQMVM2P9k70JANoEd9kIBQ0C8GWGcnSBDQBZOtqihsENAkpie1nLLQ0DNS1Fe1fxDQNMbarGXNURAqFub3LXcREBgNDSzMOxEQBAHtwfwBUVAoziLqnUyRUDQGA7Fd59FQFufieBRyUVALSoHlJXlRUDr6UMZhv1FQAYMKYIbekZAiJ5gOlsoR0A+S55d/xVIQGKfUXZluEhAS/FM+J5BSUARPn3w3MNJQIaYx7ZYK0pANgLq8H6QSkDxMhtx88NKQBUmv5276UpA0DhRobxGTEAqEhpikVBNQJhIXStBoU1A/+jw2wi3TUBxCkFfXLhNQGAW2/C5+U1AnnlzEuFvT0A4niXZQqVPQMQzZAL9WFBAtP7p1LGUUEA3H1nE7UpRQF1c0Zr3hVFA7+dlvMCyUUCXajKDOQdSQJhI+mFmalJAcXZhBE0XU0BPP91PEm1TQA1KnLoWdlNAgVgG3oqxU0BjwX9CuzNUQApSUbzpPlRA4l8LemhAVEAyFbpiY0xUQObhRe6XwlRAG8p68uL7VECGyP6uTBJVQA9ChS1ZglVA53zvssCXVUDgiwOtlZhVQAQRKV4v3FVAO2eC5ObiVUDUSgExMrNWQCm5pPt41FZA+JTFEYhoV0BMt3QmbpVXQNVHOz8YqVdAuhs0XDfFV0BVOpGcCpVYQFoWEhumm1hA27q+aemxWEBiyV3fs9JYQNWH8/STRFlAP8MVrHZwWUCmd+eh4cFZQKHVQYnK71lAgF8ZdTsSWkCgjeYRtDBaQM9vPTMip1pAOUPVe7W9WkCnDyC1qepaQPwbDgBeQVtA3W/ZxkIIXEADo+/S5yhcQKwYrzMGX1xAiKaaJbtxXEAKFkBJ8IBcQMvdgzEnsl1AUmGc8rP3XUAZjkaCN3peQLjKYCjTh15AXbps3aM3X0DceCsL1JBfQKzfANeOll9ADRGbJS0UYEDuhh4RG2RgQLxQpStgkmBApP72x9GyYECpOgK2awZhQJ8wTy3GHWFAqdiH71lKYUBl+2WEQlthQJ7jFg3JjGFA2Vopa1LQYUCXL2Ygk+xhQDW4L2nq/GFA/WSOjtg6YkCB/DDN0kBiQGy8IrU5d2JAp0lZosmaYkA4wDqfYbNiQOGAd/ScBGNAYeKtqecbY0A1eBCPAXBjQORtgpyLcGNA4e+SWaakY0A4NwKveg1kQHX7YbGKgmRAzG3xEX4EZUDaXUSnECRlQM2FgvD0imVAawCAqFMFZkBVuRG1khBmQDhTLJxTQWZA/I15of9EZkD3y9aGUlpmQLe03b1xXmZA1TKineCjZkAe8bbZJM5mQBtx1MEn3GZA1W4ZacDtZkBKyeNFV/hmQP+AulOZA2dAjaf8ATo1Z0CWEWhMjVpnQANedj+QW2dAzCtul5BmZ0CzKWqS1mpnQACNZ/YVemdArBdnc6p+Z0Cm1RL/zKFoQMgGkyFN3WhA3Jk7mhj7aECp3L9n7hVpQK8zl3QWH2lAQG8onBlmaUDAxmPFoQBqQHBQsL6YB2pAMQpYo+JtakC/gvhq/X5qQNqdlGxGmmpAhNJ5UHP9akClOa5kKCZrQJntM4xDsGtApBitikicbEA8WgF5eMFsQCWYjgWKwmxAe4rahtT6bEDwCU2nRlttQDfJZmhYl21A6daEZrKtbUAdfMc0SdptQKzEXm9axG5AuYDP5SKXb0CFZi+xBCBwQGIepfC7LXBAk38n+eY+cEBXuNO1d/xwQJdMKmn9DXFAK4O6Ak5VcUC/LRmOUJdxQNGNxt6Ur3FAYo4YxKXUcUBOTtceOQRyQA==\",\"dtype\":\"float64\",\"shape\":[500]}}},\"id\":\"4f5a0a76-cb38-41b4-b311-e9081d8232a0\",\"type\":\"ColumnDataSource\"},{\"attributes\":{\"data_source\":{\"id\":\"4f5a0a76-cb38-41b4-b311-e9081d8232a0\",\"type\":\"ColumnDataSource\"},\"glyph\":{\"id\":\"c99c51de-1801-4c4b-bacb-8423acb709e9\",\"type\":\"Line\"},\"hover_glyph\":null,\"nonselection_glyph\":null,\"selection_glyph\":null},\"id\":\"0177ec6a-1dd7-4055-b0ac-00e4328875e8\",\"type\":\"GlyphRenderer\"},{\"attributes\":{\"line_color\":{\"value\":\"#f22c40\"},\"line_width\":{\"value\":2},\"x\":{\"field\":\"x_values\"},\"y\":{\"field\":\"y_values\"}},\"id\":\"c99c51de-1801-4c4b-bacb-8423acb709e9\",\"type\":\"Line\"},{\"attributes\":{\"callback\":null,\"end\":357.2284536171095,\"start\":-22.950437056101876},\"id\":\"1d71fec2-1c37-4ad4-a9a8-9908d0e77324\",\"type\":\"Range1d\"},{\"attributes\":{\"axis_label\":\"y\",\"formatter\":{\"id\":\"52bc81a4-e651-4dcf-96cf-b12de5fd42c8\",\"type\":\"BasicTickFormatter\"},\"plot\":{\"id\":\"04d803b4-9546-4c36-a63e-ef17e7e13a18\",\"subtype\":\"Chart\",\"type\":\"Plot\"},\"ticker\":{\"id\":\"316f7161-88b4-4548-9a9c-73367c011a88\",\"type\":\"BasicTicker\"}},\"id\":\"d26abf48-8a07-4ba3-a860-f12286ae4227\",\"type\":\"LinearAxis\"},{\"attributes\":{},\"id\":\"388bcc27-e333-4897-b7f5-4736ce9dd06a\",\"type\":\"BasicTicker\"},{\"attributes\":{},\"id\":\"1c6ee6a9-5dbb-4f2b-874c-7771595f8838\",\"type\":\"BasicTickFormatter\"},{\"attributes\":{\"plot\":{\"id\":\"04d803b4-9546-4c36-a63e-ef17e7e13a18\",\"subtype\":\"Chart\",\"type\":\"Plot\"},\"ticker\":{\"id\":\"388bcc27-e333-4897-b7f5-4736ce9dd06a\",\"type\":\"BasicTicker\"}},\"id\":\"aba9ded6-720b-4d57-97d1-22c239ef12d2\",\"type\":\"Grid\"},{\"attributes\":{},\"id\":\"316f7161-88b4-4548-9a9c-73367c011a88\",\"type\":\"BasicTicker\"},{\"attributes\":{\"dimension\":1,\"plot\":{\"id\":\"04d803b4-9546-4c36-a63e-ef17e7e13a18\",\"subtype\":\"Chart\",\"type\":\"Plot\"},\"ticker\":{\"id\":\"316f7161-88b4-4548-9a9c-73367c011a88\",\"type\":\"BasicTicker\"}},\"id\":\"ca4096ff-5358-48d5-95dd-40df2110a5aa\",\"type\":\"Grid\"}],\"root_ids\":[\"04d803b4-9546-4c36-a63e-ef17e7e13a18\"]},\"title\":\"Bokeh Application\",\"version\":\"0.12.4\"}};\n",
       "            var render_items = [{\"docid\":\"16fab8ee-db6e-4578-9b41-217fc6aa993f\",\"elementid\":\"69e67c9c-6658-4220-995a-c13ebe490ce1\",\"modelid\":\"04d803b4-9546-4c36-a63e-ef17e7e13a18\"}];\n",
       "            \n",
       "            Bokeh.embed.embed_items(docs_json, render_items);\n",
       "          };\n",
       "          if (document.readyState != \"loading\") fn();\n",
       "          else document.addEventListener(\"DOMContentLoaded\", fn);\n",
       "        })();\n",
       "      },\n",
       "      function(Bokeh) {\n",
       "      }\n",
       "    ];\n",
       "  \n",
       "    function run_inline_js() {\n",
       "      \n",
       "      if ((window.Bokeh !== undefined) || (force === true)) {\n",
       "        for (var i = 0; i < inline_js.length; i++) {\n",
       "          inline_js[i](window.Bokeh);\n",
       "        }if (force === true) {\n",
       "          display_loaded();\n",
       "        }} else if (Date.now() < window._bokeh_timeout) {\n",
       "        setTimeout(run_inline_js, 100);\n",
       "      } else if (!window._bokeh_failed_load) {\n",
       "        console.log(\"Bokeh: BokehJS failed to load within specified timeout.\");\n",
       "        window._bokeh_failed_load = true;\n",
       "      } else if (force !== true) {\n",
       "        var cell = $(document.getElementById(\"69e67c9c-6658-4220-995a-c13ebe490ce1\")).parents('.cell').data().cell;\n",
       "        cell.output_area.append_execute_result(NB_LOAD_WARNING)\n",
       "      }\n",
       "  \n",
       "    }\n",
       "  \n",
       "    if (window._bokeh_is_loading === 0) {\n",
       "      console.log(\"Bokeh: BokehJS loaded, going straight to plotting\");\n",
       "      run_inline_js();\n",
       "    } else {\n",
       "      load_libs(js_urls, function() {\n",
       "        console.log(\"Bokeh: BokehJS plotting callback run at\", now());\n",
       "        run_inline_js();\n",
       "      });\n",
       "    }\n",
       "  }(this));\n",
       "</script>"
      ]
     },
     "metadata": {},
     "output_type": "display_data"
    }
   ],
   "source": [
    "from bokeh.charts import Line\n",
    "y_hat = lin.predict(X)\n",
    "show(Line({'x': x, 'y': y_hat}, x='x', y='y', width=750, height=400))"
   ]
  },
  {
   "cell_type": "markdown",
   "metadata": {
    "deletable": true,
    "editable": true,
    "slideshow": {
     "slide_type": "slide"
    }
   },
   "source": [
    "### Least Squares the way your _grandparents_ did it...\n",
    "\n",
    "...with chalk and a slab of slate."
   ]
  },
  {
   "cell_type": "markdown",
   "metadata": {
    "deletable": true,
    "editable": true,
    "slideshow": {
     "slide_type": "subslide"
    }
   },
   "source": [
    "Construct a function to calculate the sum of squared residuals...\n",
    "\n",
    "$$\n",
    "\\begin{align}\n",
    "    \\text{min}\\ f(\\beta) & = \\frac{1}{2} ||y - X \\beta||^2 \\\\\n",
    "                         & \\\\\n",
    "                         & = \\frac{1}{2} (y - X \\beta)'(y - X \\beta) \\\\\n",
    "                         & \\\\\n",
    "                         & = \\frac{1}{2} y'y - y'X\\beta + \\frac{1}{2} \\beta'X'X\\beta \\\\\n",
    "                         & \\\\\n",
    "                         & = \\frac{1}{2} y'y - y'X\\beta + \\frac{1}{2} \\beta'X'X\\beta \\\\\n",
    "                         & \\\\\n",
    "\\end{align}\n",
    "$$"
   ]
  },
  {
   "cell_type": "markdown",
   "metadata": {
    "deletable": true,
    "editable": true,
    "slideshow": {
     "slide_type": "subslide"
    }
   },
   "source": [
    "#### First Order Necessary Conditions\n",
    "\n",
    "...and take its derivative to find a closed-form solution.\n",
    "\n",
    "$$\\nabla f(\\beta) = X'X\\beta - y'X\\beta = 0$$  \n",
    "$$\\beta = (X'X)^{-1}X'y$$"
   ]
  },
  {
   "cell_type": "code",
   "execution_count": 5,
   "metadata": {
    "collapsed": false,
    "deletable": true,
    "editable": true,
    "slideshow": {
     "slide_type": "subslide"
    }
   },
   "outputs": [
    {
     "name": "stdout",
     "output_type": "stream",
     "text": [
      "[ 3.0258123  -1.71766419  8.96963665]\n"
     ]
    }
   ],
   "source": [
    "from numpy.linalg import inv\n",
    "\n",
    "# beta = (X'X)^-1 * X * y\n",
    "Xt = X.transpose()\n",
    "pseudo_inv = inv(np.matmul(Xt, X))\n",
    "beta = np.matmul(np.matmul(pseudo_inv, Xt), y)\n",
    "print(beta)"
   ]
  },
  {
   "cell_type": "markdown",
   "metadata": {
    "deletable": true,
    "editable": true,
    "slideshow": {
     "slide_type": "subslide"
    }
   },
   "source": [
    "How'd grandma and grandpa do?"
   ]
  },
  {
   "cell_type": "code",
   "execution_count": 6,
   "metadata": {
    "collapsed": false,
    "deletable": true,
    "editable": true,
    "slideshow": {
     "slide_type": "-"
    }
   },
   "outputs": [
    {
     "data": {
      "text/html": [
       "\n",
       "\n",
       "    <div class=\"bk-root\">\n",
       "        <div class=\"bk-plotdiv\" id=\"6118a71c-3674-4d30-b66e-a005d9f95daa\"></div>\n",
       "    </div>\n",
       "<script type=\"text/javascript\">\n",
       "  \n",
       "  (function(global) {\n",
       "    function now() {\n",
       "      return new Date();\n",
       "    }\n",
       "  \n",
       "    var force = false;\n",
       "  \n",
       "    if (typeof (window._bokeh_onload_callbacks) === \"undefined\" || force === true) {\n",
       "      window._bokeh_onload_callbacks = [];\n",
       "      window._bokeh_is_loading = undefined;\n",
       "    }\n",
       "  \n",
       "  \n",
       "    \n",
       "    if (typeof (window._bokeh_timeout) === \"undefined\" || force === true) {\n",
       "      window._bokeh_timeout = Date.now() + 0;\n",
       "      window._bokeh_failed_load = false;\n",
       "    }\n",
       "  \n",
       "    var NB_LOAD_WARNING = {'data': {'text/html':\n",
       "       \"<div style='background-color: #fdd'>\\n\"+\n",
       "       \"<p>\\n\"+\n",
       "       \"BokehJS does not appear to have successfully loaded. If loading BokehJS from CDN, this \\n\"+\n",
       "       \"may be due to a slow or bad network connection. Possible fixes:\\n\"+\n",
       "       \"</p>\\n\"+\n",
       "       \"<ul>\\n\"+\n",
       "       \"<li>re-rerun `output_notebook()` to attempt to load from CDN again, or</li>\\n\"+\n",
       "       \"<li>use INLINE resources instead, as so:</li>\\n\"+\n",
       "       \"</ul>\\n\"+\n",
       "       \"<code>\\n\"+\n",
       "       \"from bokeh.resources import INLINE\\n\"+\n",
       "       \"output_notebook(resources=INLINE)\\n\"+\n",
       "       \"</code>\\n\"+\n",
       "       \"</div>\"}};\n",
       "  \n",
       "    function display_loaded() {\n",
       "      if (window.Bokeh !== undefined) {\n",
       "        document.getElementById(\"6118a71c-3674-4d30-b66e-a005d9f95daa\").textContent = \"BokehJS successfully loaded.\";\n",
       "      } else if (Date.now() < window._bokeh_timeout) {\n",
       "        setTimeout(display_loaded, 100)\n",
       "      }\n",
       "    }\n",
       "  \n",
       "    function run_callbacks() {\n",
       "      window._bokeh_onload_callbacks.forEach(function(callback) { callback() });\n",
       "      delete window._bokeh_onload_callbacks\n",
       "      console.info(\"Bokeh: all callbacks have finished\");\n",
       "    }\n",
       "  \n",
       "    function load_libs(js_urls, callback) {\n",
       "      window._bokeh_onload_callbacks.push(callback);\n",
       "      if (window._bokeh_is_loading > 0) {\n",
       "        console.log(\"Bokeh: BokehJS is being loaded, scheduling callback at\", now());\n",
       "        return null;\n",
       "      }\n",
       "      if (js_urls == null || js_urls.length === 0) {\n",
       "        run_callbacks();\n",
       "        return null;\n",
       "      }\n",
       "      console.log(\"Bokeh: BokehJS not loaded, scheduling load and callback at\", now());\n",
       "      window._bokeh_is_loading = js_urls.length;\n",
       "      for (var i = 0; i < js_urls.length; i++) {\n",
       "        var url = js_urls[i];\n",
       "        var s = document.createElement('script');\n",
       "        s.src = url;\n",
       "        s.async = false;\n",
       "        s.onreadystatechange = s.onload = function() {\n",
       "          window._bokeh_is_loading--;\n",
       "          if (window._bokeh_is_loading === 0) {\n",
       "            console.log(\"Bokeh: all BokehJS libraries loaded\");\n",
       "            run_callbacks()\n",
       "          }\n",
       "        };\n",
       "        s.onerror = function() {\n",
       "          console.warn(\"failed to load library \" + url);\n",
       "        };\n",
       "        console.log(\"Bokeh: injecting script tag for BokehJS library: \", url);\n",
       "        document.getElementsByTagName(\"head\")[0].appendChild(s);\n",
       "      }\n",
       "    };var element = document.getElementById(\"6118a71c-3674-4d30-b66e-a005d9f95daa\");\n",
       "    if (element == null) {\n",
       "      console.log(\"Bokeh: ERROR: autoload.js configured with elementid '6118a71c-3674-4d30-b66e-a005d9f95daa' but no matching script tag was found. \")\n",
       "      return false;\n",
       "    }\n",
       "  \n",
       "    var js_urls = [];\n",
       "  \n",
       "    var inline_js = [\n",
       "      function(Bokeh) {\n",
       "        (function() {\n",
       "          var fn = function() {\n",
       "            var docs_json = {\"00cc4797-8bf5-4224-9358-7ef00272ab88\":{\"roots\":{\"references\":[{\"attributes\":{\"bottom_units\":\"screen\",\"fill_alpha\":{\"value\":0.5},\"fill_color\":{\"value\":\"lightgrey\"},\"left_units\":\"screen\",\"level\":\"overlay\",\"line_alpha\":{\"value\":1.0},\"line_color\":{\"value\":\"black\"},\"line_dash\":[4,4],\"line_width\":{\"value\":2},\"plot\":null,\"render_mode\":\"css\",\"right_units\":\"screen\",\"top_units\":\"screen\"},\"id\":\"f85ef59a-f774-49ce-9ee6-ea529bb44d74\",\"type\":\"BoxAnnotation\"},{\"attributes\":{\"overlay\":{\"id\":\"f85ef59a-f774-49ce-9ee6-ea529bb44d74\",\"type\":\"BoxAnnotation\"},\"plot\":{\"id\":\"5b55157d-c969-4de3-a48b-40f145ac1ae8\",\"subtype\":\"Chart\",\"type\":\"Plot\"}},\"id\":\"4b99a9f6-2548-4f98-b083-0ababf0fe385\",\"type\":\"BoxZoomTool\"},{\"attributes\":{\"plot\":{\"id\":\"5b55157d-c969-4de3-a48b-40f145ac1ae8\",\"subtype\":\"Chart\",\"type\":\"Plot\"}},\"id\":\"fc83e20c-0f5c-4177-9326-528d5991f771\",\"type\":\"ResetTool\"},{\"attributes\":{\"plot\":{\"id\":\"5b55157d-c969-4de3-a48b-40f145ac1ae8\",\"subtype\":\"Chart\",\"type\":\"Plot\"}},\"id\":\"ff304353-ad6e-47eb-ae70-b50f96a93889\",\"type\":\"HelpTool\"},{\"attributes\":{\"plot\":{\"id\":\"5b55157d-c969-4de3-a48b-40f145ac1ae8\",\"subtype\":\"Chart\",\"type\":\"Plot\"}},\"id\":\"91457e7d-2fb4-4079-aad1-24d140367aa3\",\"type\":\"WheelZoomTool\"},{\"attributes\":{\"plot\":{\"id\":\"5b55157d-c969-4de3-a48b-40f145ac1ae8\",\"subtype\":\"Chart\",\"type\":\"Plot\"}},\"id\":\"f861ac7e-5c48-496b-9305-9a120ce1b375\",\"type\":\"SaveTool\"},{\"attributes\":{\"callback\":null,\"column_names\":[\"x_values\",\"y_values\"],\"data\":{\"chart_index\":[null,null,null,null,null,null,null,null,null,null,null,null,null,null,null,null,null,null,null,null,null,null,null,null,null,null,null,null,null,null,null,null,null,null,null,null,null,null,null,null,null,null,null,null,null,null,null,null,null,null,null,null,null,null,null,null,null,null,null,null,null,null,null,null,null,null,null,null,null,null,null,null,null,null,null,null,null,null,null,null,null,null,null,null,null,null,null,null,null,null,null,null,null,null,null,null,null,null,null,null,null,null,null,null,null,null,null,null,null,null,null,null,null,null,null,null,null,null,null,null,null,null,null,null,null,null,null,null,null,null,null,null,null,null,null,null,null,null,null,null,null,null,null,null,null,null,null,null,null,null,null,null,null,null,null,null,null,null,null,null,null,null,null,null,null,null,null,null,null,null,null,null,null,null,null,null,null,null,null,null,null,null,null,null,null,null,null,null,null,null,null,null,null,null,null,null,null,null,null,null,null,null,null,null,null,null,null,null,null,null,null,null,null,null,null,null,null,null,null,null,null,null,null,null,null,null,null,null,null,null,null,null,null,null,null,null,null,null,null,null,null,null,null,null,null,null,null,null,null,null,null,null,null,null,null,null,null,null,null,null,null,null,null,null,null,null,null,null,null,null,null,null,null,null,null,null,null,null,null,null,null,null,null,null,null,null,null,null,null,null,null,null,null,null,null,null,null,null,null,null,null,null,null,null,null,null,null,null,null,null,null,null,null,null,null,null,null,null,null,null,null,null,null,null,null,null,null,null,null,null,null,null,null,null,null,null,null,null,null,null,null,null,null,null,null,null,null,null,null,null,null,null,null,null,null,null,null,null,null,null,null,null,null,null,null,null,null,null,null,null,null,null,null,null,null,null,null,null,null,null,null,null,null,null,null,null,null,null,null,null,null,null,null,null,null,null,null,null,null,null,null,null,null,null,null,null,null,null,null,null,null,null,null,null,null,null,null,null,null,null,null,null,null,null,null,null,null,null,null,null,null,null,null,null,null,null,null,null,null,null,null,null,null,null,null,null,null,null,null,null,null,null,null,null,null,null,null,null,null,null,null,null,null,null,null,null,null,null,null,null,null,null,null,null,null,null,null,null,null,null,null,null,null,null,null,null,null,null,null,null,null,null,null,null,null,null,null,null,null,null],\"x_values\":{\"__ndarray__\":\"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\",\"dtype\":\"float64\",\"shape\":[500]},\"y_values\":{\"__ndarray__\":\"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\",\"dtype\":\"float64\",\"shape\":[500]}}},\"id\":\"59743c93-f63d-4ace-8e17-4816b478b1e7\",\"type\":\"ColumnDataSource\"},{\"attributes\":{},\"id\":\"2f931fe1-df25-4043-8026-dc3d09fc34d6\",\"type\":\"BasicTicker\"},{\"attributes\":{\"plot\":{\"id\":\"5b55157d-c969-4de3-a48b-40f145ac1ae8\",\"subtype\":\"Chart\",\"type\":\"Plot\"}},\"id\":\"33009d3a-84b5-48af-8ab8-fa470b23c2ec\",\"type\":\"PanTool\"},{\"attributes\":{\"data_source\":{\"id\":\"59743c93-f63d-4ace-8e17-4816b478b1e7\",\"type\":\"ColumnDataSource\"},\"glyph\":{\"id\":\"4a83f637-47f5-41d6-9850-8156541b25e7\",\"type\":\"Line\"},\"hover_glyph\":null,\"nonselection_glyph\":null,\"selection_glyph\":null},\"id\":\"994b6ee5-bf11-4ccb-b8b5-4a2c3ce9288a\",\"type\":\"GlyphRenderer\"},{\"attributes\":{\"axis_label\":\"x\",\"formatter\":{\"id\":\"8ddbcd7c-175c-4d85-830f-49ca0785b8a3\",\"type\":\"BasicTickFormatter\"},\"plot\":{\"id\":\"5b55157d-c969-4de3-a48b-40f145ac1ae8\",\"subtype\":\"Chart\",\"type\":\"Plot\"},\"ticker\":{\"id\":\"2f931fe1-df25-4043-8026-dc3d09fc34d6\",\"type\":\"BasicTicker\"}},\"id\":\"00d3189e-e8b4-4175-8760-651e28c8e687\",\"type\":\"LinearAxis\"},{\"attributes\":{\"axis_label\":\"y\",\"formatter\":{\"id\":\"05bbb421-b846-455d-905b-dc3c71a1e005\",\"type\":\"BasicTickFormatter\"},\"plot\":{\"id\":\"5b55157d-c969-4de3-a48b-40f145ac1ae8\",\"subtype\":\"Chart\",\"type\":\"Plot\"},\"ticker\":{\"id\":\"0b149059-7a1c-415e-ab8e-306df3ca5c56\",\"type\":\"BasicTicker\"}},\"id\":\"5175e2c5-dbb2-44df-b61f-3186d8b67e80\",\"type\":\"LinearAxis\"},{\"attributes\":{\"line_color\":{\"value\":\"#f22c40\"},\"line_width\":{\"value\":2},\"x\":{\"field\":\"x_values\"},\"y\":{\"field\":\"y_values\"}},\"id\":\"4a83f637-47f5-41d6-9850-8156541b25e7\",\"type\":\"Line\"},{\"attributes\":{\"plot\":null,\"text\":null},\"id\":\"4203f3e8-cc83-4409-8c89-06e7d6473659\",\"type\":\"Title\"},{\"attributes\":{},\"id\":\"8ddbcd7c-175c-4d85-830f-49ca0785b8a3\",\"type\":\"BasicTickFormatter\"},{\"attributes\":{},\"id\":\"05bbb421-b846-455d-905b-dc3c71a1e005\",\"type\":\"BasicTickFormatter\"},{\"attributes\":{\"plot\":{\"id\":\"5b55157d-c969-4de3-a48b-40f145ac1ae8\",\"subtype\":\"Chart\",\"type\":\"Plot\"},\"ticker\":{\"id\":\"2f931fe1-df25-4043-8026-dc3d09fc34d6\",\"type\":\"BasicTicker\"}},\"id\":\"99b240be-fe6b-43f7-b070-7d11bd88220d\",\"type\":\"Grid\"},{\"attributes\":{},\"id\":\"0b149059-7a1c-415e-ab8e-306df3ca5c56\",\"type\":\"BasicTicker\"},{\"attributes\":{\"dimension\":1,\"plot\":{\"id\":\"5b55157d-c969-4de3-a48b-40f145ac1ae8\",\"subtype\":\"Chart\",\"type\":\"Plot\"},\"ticker\":{\"id\":\"0b149059-7a1c-415e-ab8e-306df3ca5c56\",\"type\":\"BasicTicker\"}},\"id\":\"08ef73aa-4826-49ee-9363-b76598142ddb\",\"type\":\"Grid\"},{\"attributes\":{\"callback\":null,\"end\":357.22845361710927,\"start\":-22.950437056101897},\"id\":\"8fcd19f4-8322-42ee-926a-c9a9dede0dcf\",\"type\":\"Range1d\"},{\"attributes\":{\"location\":\"top_left\",\"plot\":{\"id\":\"5b55157d-c969-4de3-a48b-40f145ac1ae8\",\"subtype\":\"Chart\",\"type\":\"Plot\"}},\"id\":\"17e1c34a-0525-4abc-a842-2ff83ffc4afa\",\"type\":\"Legend\"},{\"attributes\":{\"below\":[{\"id\":\"00d3189e-e8b4-4175-8760-651e28c8e687\",\"type\":\"LinearAxis\"}],\"css_classes\":null,\"height\":400,\"left\":[{\"id\":\"5175e2c5-dbb2-44df-b61f-3186d8b67e80\",\"type\":\"LinearAxis\"}],\"renderers\":[{\"id\":\"f85ef59a-f774-49ce-9ee6-ea529bb44d74\",\"type\":\"BoxAnnotation\"},{\"id\":\"994b6ee5-bf11-4ccb-b8b5-4a2c3ce9288a\",\"type\":\"GlyphRenderer\"},{\"id\":\"17e1c34a-0525-4abc-a842-2ff83ffc4afa\",\"type\":\"Legend\"},{\"id\":\"00d3189e-e8b4-4175-8760-651e28c8e687\",\"type\":\"LinearAxis\"},{\"id\":\"5175e2c5-dbb2-44df-b61f-3186d8b67e80\",\"type\":\"LinearAxis\"},{\"id\":\"99b240be-fe6b-43f7-b070-7d11bd88220d\",\"type\":\"Grid\"},{\"id\":\"08ef73aa-4826-49ee-9363-b76598142ddb\",\"type\":\"Grid\"}],\"title\":{\"id\":\"4203f3e8-cc83-4409-8c89-06e7d6473659\",\"type\":\"Title\"},\"tool_events\":{\"id\":\"f1e073fa-64a3-45f4-926d-bf8055159091\",\"type\":\"ToolEvents\"},\"toolbar\":{\"id\":\"5f4fb49a-b1ba-4352-9e72-aa63fe89c1df\",\"type\":\"Toolbar\"},\"width\":750,\"x_mapper_type\":\"auto\",\"x_range\":{\"id\":\"04408acc-2ca3-4124-9c7a-a602412b07b5\",\"type\":\"Range1d\"},\"y_mapper_type\":\"auto\",\"y_range\":{\"id\":\"8fcd19f4-8322-42ee-926a-c9a9dede0dcf\",\"type\":\"Range1d\"}},\"id\":\"5b55157d-c969-4de3-a48b-40f145ac1ae8\",\"subtype\":\"Chart\",\"type\":\"Plot\"},{\"attributes\":{},\"id\":\"f1e073fa-64a3-45f4-926d-bf8055159091\",\"type\":\"ToolEvents\"},{\"attributes\":{\"callback\":null,\"end\":11.879947829395787,\"start\":-11.933193120493147},\"id\":\"04408acc-2ca3-4124-9c7a-a602412b07b5\",\"type\":\"Range1d\"},{\"attributes\":{\"active_drag\":\"auto\",\"active_scroll\":\"auto\",\"active_tap\":\"auto\",\"tools\":[{\"id\":\"33009d3a-84b5-48af-8ab8-fa470b23c2ec\",\"type\":\"PanTool\"},{\"id\":\"91457e7d-2fb4-4079-aad1-24d140367aa3\",\"type\":\"WheelZoomTool\"},{\"id\":\"4b99a9f6-2548-4f98-b083-0ababf0fe385\",\"type\":\"BoxZoomTool\"},{\"id\":\"f861ac7e-5c48-496b-9305-9a120ce1b375\",\"type\":\"SaveTool\"},{\"id\":\"fc83e20c-0f5c-4177-9326-528d5991f771\",\"type\":\"ResetTool\"},{\"id\":\"ff304353-ad6e-47eb-ae70-b50f96a93889\",\"type\":\"HelpTool\"}]},\"id\":\"5f4fb49a-b1ba-4352-9e72-aa63fe89c1df\",\"type\":\"Toolbar\"}],\"root_ids\":[\"5b55157d-c969-4de3-a48b-40f145ac1ae8\"]},\"title\":\"Bokeh Application\",\"version\":\"0.12.4\"}};\n",
       "            var render_items = [{\"docid\":\"00cc4797-8bf5-4224-9358-7ef00272ab88\",\"elementid\":\"6118a71c-3674-4d30-b66e-a005d9f95daa\",\"modelid\":\"5b55157d-c969-4de3-a48b-40f145ac1ae8\"}];\n",
       "            \n",
       "            Bokeh.embed.embed_items(docs_json, render_items);\n",
       "          };\n",
       "          if (document.readyState != \"loading\") fn();\n",
       "          else document.addEventListener(\"DOMContentLoaded\", fn);\n",
       "        })();\n",
       "      },\n",
       "      function(Bokeh) {\n",
       "      }\n",
       "    ];\n",
       "  \n",
       "    function run_inline_js() {\n",
       "      \n",
       "      if ((window.Bokeh !== undefined) || (force === true)) {\n",
       "        for (var i = 0; i < inline_js.length; i++) {\n",
       "          inline_js[i](window.Bokeh);\n",
       "        }if (force === true) {\n",
       "          display_loaded();\n",
       "        }} else if (Date.now() < window._bokeh_timeout) {\n",
       "        setTimeout(run_inline_js, 100);\n",
       "      } else if (!window._bokeh_failed_load) {\n",
       "        console.log(\"Bokeh: BokehJS failed to load within specified timeout.\");\n",
       "        window._bokeh_failed_load = true;\n",
       "      } else if (force !== true) {\n",
       "        var cell = $(document.getElementById(\"6118a71c-3674-4d30-b66e-a005d9f95daa\")).parents('.cell').data().cell;\n",
       "        cell.output_area.append_execute_result(NB_LOAD_WARNING)\n",
       "      }\n",
       "  \n",
       "    }\n",
       "  \n",
       "    if (window._bokeh_is_loading === 0) {\n",
       "      console.log(\"Bokeh: BokehJS loaded, going straight to plotting\");\n",
       "      run_inline_js();\n",
       "    } else {\n",
       "      load_libs(js_urls, function() {\n",
       "        console.log(\"Bokeh: BokehJS plotting callback run at\", now());\n",
       "        run_inline_js();\n",
       "      });\n",
       "    }\n",
       "  }(this));\n",
       "</script>"
      ]
     },
     "metadata": {},
     "output_type": "display_data"
    }
   ],
   "source": [
    "y_hat = [beta[0]*xi**2 + beta[1]*xi + beta[2] for xi in x]\n",
    "show(Line({'x': x, 'y': y_hat}, x='x', y='y', width=750, height=400))"
   ]
  },
  {
   "cell_type": "markdown",
   "metadata": {
    "deletable": true,
    "editable": true,
    "slideshow": {
     "slide_type": "slide"
    }
   },
   "source": [
    "### Least Squares the way your _crazy uncle Eddie_ does it...\n",
    "\n",
    "...'cause he used to work at NASA and code in Forth."
   ]
  },
  {
   "cell_type": "markdown",
   "metadata": {
    "deletable": true,
    "editable": true,
    "slideshow": {
     "slide_type": "subslide"
    }
   },
   "source": [
    "[`cvxopt`](http://cvxopt.org/) provides a [`qp`](http://cvxopt.org/userguide/coneprog.html#quadratic-programming) method that can solve anything of this form.\n",
    "\n",
    "$$\n",
    "\\begin{align}\n",
    "    \\text{min}  \\ \\ \\ & \\ \\frac{1}{2} \\beta'P\\beta + q'\\beta \\\\\n",
    "                      & \\\\\n",
    "    \\text{s.t.} \\ \\ \\ & \\ G\\beta \\preceq h \\\\\n",
    "                      & \\\\\n",
    "                      & \\ A\\beta = b\n",
    "\\end{align}\n",
    "$$\n"
   ]
  },
  {
   "cell_type": "markdown",
   "metadata": {
    "deletable": true,
    "editable": true,
    "slideshow": {
     "slide_type": "subslide"
    }
   },
   "source": [
    "So we need to convert from \n",
    "\n",
    "$$\\frac{1}{2} \\beta'X'X\\beta - y'X\\beta + \\frac{1}{2} y'y $$\n",
    "\n",
    "to another form\n",
    "\n",
    "$$\\frac{1}{2} \\beta'P\\beta + q'\\beta$$"
   ]
  },
  {
   "cell_type": "markdown",
   "metadata": {
    "deletable": true,
    "editable": true,
    "slideshow": {
     "slide_type": "fragment"
    }
   },
   "source": [
    "which is simply\n",
    "\n",
    "$$P = X'X, q = -y$$"
   ]
  },
  {
   "cell_type": "code",
   "execution_count": 7,
   "metadata": {
    "collapsed": false,
    "deletable": true,
    "editable": true,
    "slideshow": {
     "slide_type": "subslide"
    }
   },
   "outputs": [
    {
     "name": "stdout",
     "output_type": "stream",
     "text": [
      "[ 3.03e+00]\n",
      "[-1.72e+00]\n",
      "[ 8.97e+00]\n",
      "\n"
     ]
    }
   ],
   "source": [
    "import cvxopt as cvx\n",
    "\n",
    "P = cvx.matrix(np.matmul(Xt, X))\n",
    "q = cvx.matrix(-1 * np.matmul(y.transpose(), X))\n",
    "solution = cvx.solvers.qp(P, q)\n",
    "beta = solution['x'] # unrelated to our x\n",
    "print(beta)"
   ]
  },
  {
   "cell_type": "markdown",
   "metadata": {
    "deletable": true,
    "editable": true,
    "slideshow": {
     "slide_type": "subslide"
    }
   },
   "source": [
    "How'd Crazy Uncle Eddie do?"
   ]
  },
  {
   "cell_type": "code",
   "execution_count": 8,
   "metadata": {
    "collapsed": false,
    "deletable": true,
    "editable": true,
    "slideshow": {
     "slide_type": "-"
    }
   },
   "outputs": [
    {
     "data": {
      "text/html": [
       "\n",
       "\n",
       "    <div class=\"bk-root\">\n",
       "        <div class=\"bk-plotdiv\" id=\"56cdd0d5-f8ae-4373-9153-2cb94b579687\"></div>\n",
       "    </div>\n",
       "<script type=\"text/javascript\">\n",
       "  \n",
       "  (function(global) {\n",
       "    function now() {\n",
       "      return new Date();\n",
       "    }\n",
       "  \n",
       "    var force = false;\n",
       "  \n",
       "    if (typeof (window._bokeh_onload_callbacks) === \"undefined\" || force === true) {\n",
       "      window._bokeh_onload_callbacks = [];\n",
       "      window._bokeh_is_loading = undefined;\n",
       "    }\n",
       "  \n",
       "  \n",
       "    \n",
       "    if (typeof (window._bokeh_timeout) === \"undefined\" || force === true) {\n",
       "      window._bokeh_timeout = Date.now() + 0;\n",
       "      window._bokeh_failed_load = false;\n",
       "    }\n",
       "  \n",
       "    var NB_LOAD_WARNING = {'data': {'text/html':\n",
       "       \"<div style='background-color: #fdd'>\\n\"+\n",
       "       \"<p>\\n\"+\n",
       "       \"BokehJS does not appear to have successfully loaded. If loading BokehJS from CDN, this \\n\"+\n",
       "       \"may be due to a slow or bad network connection. Possible fixes:\\n\"+\n",
       "       \"</p>\\n\"+\n",
       "       \"<ul>\\n\"+\n",
       "       \"<li>re-rerun `output_notebook()` to attempt to load from CDN again, or</li>\\n\"+\n",
       "       \"<li>use INLINE resources instead, as so:</li>\\n\"+\n",
       "       \"</ul>\\n\"+\n",
       "       \"<code>\\n\"+\n",
       "       \"from bokeh.resources import INLINE\\n\"+\n",
       "       \"output_notebook(resources=INLINE)\\n\"+\n",
       "       \"</code>\\n\"+\n",
       "       \"</div>\"}};\n",
       "  \n",
       "    function display_loaded() {\n",
       "      if (window.Bokeh !== undefined) {\n",
       "        document.getElementById(\"56cdd0d5-f8ae-4373-9153-2cb94b579687\").textContent = \"BokehJS successfully loaded.\";\n",
       "      } else if (Date.now() < window._bokeh_timeout) {\n",
       "        setTimeout(display_loaded, 100)\n",
       "      }\n",
       "    }\n",
       "  \n",
       "    function run_callbacks() {\n",
       "      window._bokeh_onload_callbacks.forEach(function(callback) { callback() });\n",
       "      delete window._bokeh_onload_callbacks\n",
       "      console.info(\"Bokeh: all callbacks have finished\");\n",
       "    }\n",
       "  \n",
       "    function load_libs(js_urls, callback) {\n",
       "      window._bokeh_onload_callbacks.push(callback);\n",
       "      if (window._bokeh_is_loading > 0) {\n",
       "        console.log(\"Bokeh: BokehJS is being loaded, scheduling callback at\", now());\n",
       "        return null;\n",
       "      }\n",
       "      if (js_urls == null || js_urls.length === 0) {\n",
       "        run_callbacks();\n",
       "        return null;\n",
       "      }\n",
       "      console.log(\"Bokeh: BokehJS not loaded, scheduling load and callback at\", now());\n",
       "      window._bokeh_is_loading = js_urls.length;\n",
       "      for (var i = 0; i < js_urls.length; i++) {\n",
       "        var url = js_urls[i];\n",
       "        var s = document.createElement('script');\n",
       "        s.src = url;\n",
       "        s.async = false;\n",
       "        s.onreadystatechange = s.onload = function() {\n",
       "          window._bokeh_is_loading--;\n",
       "          if (window._bokeh_is_loading === 0) {\n",
       "            console.log(\"Bokeh: all BokehJS libraries loaded\");\n",
       "            run_callbacks()\n",
       "          }\n",
       "        };\n",
       "        s.onerror = function() {\n",
       "          console.warn(\"failed to load library \" + url);\n",
       "        };\n",
       "        console.log(\"Bokeh: injecting script tag for BokehJS library: \", url);\n",
       "        document.getElementsByTagName(\"head\")[0].appendChild(s);\n",
       "      }\n",
       "    };var element = document.getElementById(\"56cdd0d5-f8ae-4373-9153-2cb94b579687\");\n",
       "    if (element == null) {\n",
       "      console.log(\"Bokeh: ERROR: autoload.js configured with elementid '56cdd0d5-f8ae-4373-9153-2cb94b579687' but no matching script tag was found. \")\n",
       "      return false;\n",
       "    }\n",
       "  \n",
       "    var js_urls = [];\n",
       "  \n",
       "    var inline_js = [\n",
       "      function(Bokeh) {\n",
       "        (function() {\n",
       "          var fn = function() {\n",
       "            var docs_json = {\"baf9a1da-d9c3-42bb-b778-646bae31eebd\":{\"roots\":{\"references\":[{\"attributes\":{\"active_drag\":\"auto\",\"active_scroll\":\"auto\",\"active_tap\":\"auto\",\"tools\":[{\"id\":\"46ba51f3-6af8-4afd-8ed8-a826c47aefa0\",\"type\":\"PanTool\"},{\"id\":\"43c3e460-a8f3-4ff5-bd52-98efa62cd6b1\",\"type\":\"WheelZoomTool\"},{\"id\":\"97ce6977-9836-4cac-a4b1-024ad1d1709d\",\"type\":\"BoxZoomTool\"},{\"id\":\"f95c3bbe-3ae8-47db-af00-49dba761b644\",\"type\":\"SaveTool\"},{\"id\":\"12c2c3e9-a3a9-470e-a535-b021f0a120b7\",\"type\":\"ResetTool\"},{\"id\":\"7b42c473-df5c-4b13-a4a7-1037400822d5\",\"type\":\"HelpTool\"}]},\"id\":\"e775d0bf-5d36-47d5-993d-fe3db50b02e7\",\"type\":\"Toolbar\"},{\"attributes\":{\"callback\":null,\"end\":11.879947829395787,\"start\":-11.933193120493147},\"id\":\"642acbe0-6338-4376-b725-9268c11ac11d\",\"type\":\"Range1d\"},{\"attributes\":{},\"id\":\"a09bd463-a033-4ff5-a853-86c44b3f5055\",\"type\":\"BasicTickFormatter\"},{\"attributes\":{\"plot\":{\"id\":\"91715838-fcbd-4a5c-a7f6-53177cc0a0c5\",\"subtype\":\"Chart\",\"type\":\"Plot\"}},\"id\":\"f95c3bbe-3ae8-47db-af00-49dba761b644\",\"type\":\"SaveTool\"},{\"attributes\":{\"plot\":{\"id\":\"91715838-fcbd-4a5c-a7f6-53177cc0a0c5\",\"subtype\":\"Chart\",\"type\":\"Plot\"}},\"id\":\"12c2c3e9-a3a9-470e-a535-b021f0a120b7\",\"type\":\"ResetTool\"},{\"attributes\":{\"plot\":{\"id\":\"91715838-fcbd-4a5c-a7f6-53177cc0a0c5\",\"subtype\":\"Chart\",\"type\":\"Plot\"}},\"id\":\"7b42c473-df5c-4b13-a4a7-1037400822d5\",\"type\":\"HelpTool\"},{\"attributes\":{\"axis_label\":\"x\",\"formatter\":{\"id\":\"a09bd463-a033-4ff5-a853-86c44b3f5055\",\"type\":\"BasicTickFormatter\"},\"plot\":{\"id\":\"91715838-fcbd-4a5c-a7f6-53177cc0a0c5\",\"subtype\":\"Chart\",\"type\":\"Plot\"},\"ticker\":{\"id\":\"bbe5c37d-b53e-4924-b8fd-54050d6b468e\",\"type\":\"BasicTicker\"}},\"id\":\"bdfcbf7e-9693-467e-84b2-ff27e1a39ded\",\"type\":\"LinearAxis\"},{\"attributes\":{\"callback\":null,\"end\":357.2284536171093,\"start\":-22.950437056101748},\"id\":\"3d191e97-5b04-48e3-ada1-30bf1e66f753\",\"type\":\"Range1d\"},{\"attributes\":{\"line_color\":{\"value\":\"#f22c40\"},\"line_width\":{\"value\":2},\"x\":{\"field\":\"x_values\"},\"y\":{\"field\":\"y_values\"}},\"id\":\"8d2067a1-4064-4414-b991-fbee62f16c09\",\"type\":\"Line\"},{\"attributes\":{\"location\":\"top_left\",\"plot\":{\"id\":\"91715838-fcbd-4a5c-a7f6-53177cc0a0c5\",\"subtype\":\"Chart\",\"type\":\"Plot\"}},\"id\":\"4a229746-347c-417f-87a9-fc874311f46b\",\"type\":\"Legend\"},{\"attributes\":{\"below\":[{\"id\":\"bdfcbf7e-9693-467e-84b2-ff27e1a39ded\",\"type\":\"LinearAxis\"}],\"css_classes\":null,\"height\":400,\"left\":[{\"id\":\"6ac405df-5eef-4962-a702-60f8fdea8755\",\"type\":\"LinearAxis\"}],\"renderers\":[{\"id\":\"3eb45b8f-d938-4ea8-ba93-1cb90d276008\",\"type\":\"BoxAnnotation\"},{\"id\":\"c2848dfd-1d1f-4644-a08c-bffc8251fb92\",\"type\":\"GlyphRenderer\"},{\"id\":\"4a229746-347c-417f-87a9-fc874311f46b\",\"type\":\"Legend\"},{\"id\":\"bdfcbf7e-9693-467e-84b2-ff27e1a39ded\",\"type\":\"LinearAxis\"},{\"id\":\"6ac405df-5eef-4962-a702-60f8fdea8755\",\"type\":\"LinearAxis\"},{\"id\":\"6993f353-682f-41a4-92ca-431ee904d015\",\"type\":\"Grid\"},{\"id\":\"fcb76210-4f76-4343-8e08-36e147cf4686\",\"type\":\"Grid\"}],\"title\":{\"id\":\"31a987e0-0e3b-427a-b646-58bf9ca9f87d\",\"type\":\"Title\"},\"tool_events\":{\"id\":\"c829cf14-41b5-41bc-9716-8d0149e5dfa5\",\"type\":\"ToolEvents\"},\"toolbar\":{\"id\":\"e775d0bf-5d36-47d5-993d-fe3db50b02e7\",\"type\":\"Toolbar\"},\"width\":750,\"x_mapper_type\":\"auto\",\"x_range\":{\"id\":\"642acbe0-6338-4376-b725-9268c11ac11d\",\"type\":\"Range1d\"},\"y_mapper_type\":\"auto\",\"y_range\":{\"id\":\"3d191e97-5b04-48e3-ada1-30bf1e66f753\",\"type\":\"Range1d\"}},\"id\":\"91715838-fcbd-4a5c-a7f6-53177cc0a0c5\",\"subtype\":\"Chart\",\"type\":\"Plot\"},{\"attributes\":{\"callback\":null,\"column_names\":[\"x_values\",\"y_values\"],\"data\":{\"chart_index\":[null,null,null,null,null,null,null,null,null,null,null,null,null,null,null,null,null,null,null,null,null,null,null,null,null,null,null,null,null,null,null,null,null,null,null,null,null,null,null,null,null,null,null,null,null,null,null,null,null,null,null,null,null,null,null,null,null,null,null,null,null,null,null,null,null,null,null,null,null,null,null,null,null,null,null,null,null,null,null,null,null,null,null,null,null,null,null,null,null,null,null,null,null,null,null,null,null,null,null,null,null,null,null,null,null,null,null,null,null,null,null,null,null,null,null,null,null,null,null,null,null,null,null,null,null,null,null,null,null,null,null,null,null,null,null,null,null,null,null,null,null,null,null,null,null,null,null,null,null,null,null,null,null,null,null,null,null,null,null,null,null,null,null,null,null,null,null,null,null,null,null,null,null,null,null,null,null,null,null,null,null,null,null,null,null,null,null,null,null,null,null,null,null,null,null,null,null,null,null,null,null,null,null,null,null,null,null,null,null,null,null,null,null,null,null,null,null,null,null,null,null,null,null,null,null,null,null,null,null,null,null,null,null,null,null,null,null,null,null,null,null,null,null,null,null,null,null,null,null,null,null,null,null,null,null,null,null,null,null,null,null,null,null,null,null,null,null,null,null,null,null,null,null,null,null,null,null,null,null,null,null,null,null,null,null,null,null,null,null,null,null,null,null,null,null,null,null,null,null,null,null,null,null,null,null,null,null,null,null,null,null,null,null,null,null,null,null,null,null,null,null,null,null,null,null,null,null,null,null,null,null,null,null,null,null,null,null,null,null,null,null,null,null,null,null,null,null,null,null,null,null,null,null,null,null,null,null,null,null,null,null,null,null,null,null,null,null,null,null,null,null,null,null,null,null,null,null,null,null,null,null,null,null,null,null,null,null,null,null,null,null,null,null,null,null,null,null,null,null,null,null,null,null,null,null,null,null,null,null,null,null,null,null,null,null,null,null,null,null,null,null,null,null,null,null,null,null,null,null,null,null,null,null,null,null,null,null,null,null,null,null,null,null,null,null,null,null,null,null,null,null,null,null,null,null,null,null,null,null,null,null,null,null,null,null,null,null,null,null,null,null,null,null,null,null,null,null,null,null,null,null,null,null,null,null,null,null,null,null,null,null,null,null,null,null,null,null,null,null,null],\"x_values\":{\"__ndarray__\":\"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\",\"dtype\":\"float64\",\"shape\":[500]},\"y_values\":{\"__ndarray__\":\"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\",\"dtype\":\"float64\",\"shape\":[500]}}},\"id\":\"059d04bc-38a0-4ee7-a50e-a71fabd23b92\",\"type\":\"ColumnDataSource\"},{\"attributes\":{\"data_source\":{\"id\":\"059d04bc-38a0-4ee7-a50e-a71fabd23b92\",\"type\":\"ColumnDataSource\"},\"glyph\":{\"id\":\"8d2067a1-4064-4414-b991-fbee62f16c09\",\"type\":\"Line\"},\"hover_glyph\":null,\"nonselection_glyph\":null,\"selection_glyph\":null},\"id\":\"c2848dfd-1d1f-4644-a08c-bffc8251fb92\",\"type\":\"GlyphRenderer\"},{\"attributes\":{},\"id\":\"c829cf14-41b5-41bc-9716-8d0149e5dfa5\",\"type\":\"ToolEvents\"},{\"attributes\":{},\"id\":\"bbe5c37d-b53e-4924-b8fd-54050d6b468e\",\"type\":\"BasicTicker\"},{\"attributes\":{\"plot\":{\"id\":\"91715838-fcbd-4a5c-a7f6-53177cc0a0c5\",\"subtype\":\"Chart\",\"type\":\"Plot\"},\"ticker\":{\"id\":\"bbe5c37d-b53e-4924-b8fd-54050d6b468e\",\"type\":\"BasicTicker\"}},\"id\":\"6993f353-682f-41a4-92ca-431ee904d015\",\"type\":\"Grid\"},{\"attributes\":{},\"id\":\"35c701dd-3d94-4495-9c49-9543c648711a\",\"type\":\"BasicTicker\"},{\"attributes\":{\"dimension\":1,\"plot\":{\"id\":\"91715838-fcbd-4a5c-a7f6-53177cc0a0c5\",\"subtype\":\"Chart\",\"type\":\"Plot\"},\"ticker\":{\"id\":\"35c701dd-3d94-4495-9c49-9543c648711a\",\"type\":\"BasicTicker\"}},\"id\":\"fcb76210-4f76-4343-8e08-36e147cf4686\",\"type\":\"Grid\"},{\"attributes\":{\"bottom_units\":\"screen\",\"fill_alpha\":{\"value\":0.5},\"fill_color\":{\"value\":\"lightgrey\"},\"left_units\":\"screen\",\"level\":\"overlay\",\"line_alpha\":{\"value\":1.0},\"line_color\":{\"value\":\"black\"},\"line_dash\":[4,4],\"line_width\":{\"value\":2},\"plot\":null,\"render_mode\":\"css\",\"right_units\":\"screen\",\"top_units\":\"screen\"},\"id\":\"3eb45b8f-d938-4ea8-ba93-1cb90d276008\",\"type\":\"BoxAnnotation\"},{\"attributes\":{\"plot\":null,\"text\":null},\"id\":\"31a987e0-0e3b-427a-b646-58bf9ca9f87d\",\"type\":\"Title\"},{\"attributes\":{\"plot\":{\"id\":\"91715838-fcbd-4a5c-a7f6-53177cc0a0c5\",\"subtype\":\"Chart\",\"type\":\"Plot\"}},\"id\":\"46ba51f3-6af8-4afd-8ed8-a826c47aefa0\",\"type\":\"PanTool\"},{\"attributes\":{\"axis_label\":\"y\",\"formatter\":{\"id\":\"a5b846bc-8f3d-4e5d-a66e-2526d88fdccb\",\"type\":\"BasicTickFormatter\"},\"plot\":{\"id\":\"91715838-fcbd-4a5c-a7f6-53177cc0a0c5\",\"subtype\":\"Chart\",\"type\":\"Plot\"},\"ticker\":{\"id\":\"35c701dd-3d94-4495-9c49-9543c648711a\",\"type\":\"BasicTicker\"}},\"id\":\"6ac405df-5eef-4962-a702-60f8fdea8755\",\"type\":\"LinearAxis\"},{\"attributes\":{},\"id\":\"a5b846bc-8f3d-4e5d-a66e-2526d88fdccb\",\"type\":\"BasicTickFormatter\"},{\"attributes\":{\"plot\":{\"id\":\"91715838-fcbd-4a5c-a7f6-53177cc0a0c5\",\"subtype\":\"Chart\",\"type\":\"Plot\"}},\"id\":\"43c3e460-a8f3-4ff5-bd52-98efa62cd6b1\",\"type\":\"WheelZoomTool\"},{\"attributes\":{\"overlay\":{\"id\":\"3eb45b8f-d938-4ea8-ba93-1cb90d276008\",\"type\":\"BoxAnnotation\"},\"plot\":{\"id\":\"91715838-fcbd-4a5c-a7f6-53177cc0a0c5\",\"subtype\":\"Chart\",\"type\":\"Plot\"}},\"id\":\"97ce6977-9836-4cac-a4b1-024ad1d1709d\",\"type\":\"BoxZoomTool\"}],\"root_ids\":[\"91715838-fcbd-4a5c-a7f6-53177cc0a0c5\"]},\"title\":\"Bokeh Application\",\"version\":\"0.12.4\"}};\n",
       "            var render_items = [{\"docid\":\"baf9a1da-d9c3-42bb-b778-646bae31eebd\",\"elementid\":\"56cdd0d5-f8ae-4373-9153-2cb94b579687\",\"modelid\":\"91715838-fcbd-4a5c-a7f6-53177cc0a0c5\"}];\n",
       "            \n",
       "            Bokeh.embed.embed_items(docs_json, render_items);\n",
       "          };\n",
       "          if (document.readyState != \"loading\") fn();\n",
       "          else document.addEventListener(\"DOMContentLoaded\", fn);\n",
       "        })();\n",
       "      },\n",
       "      function(Bokeh) {\n",
       "      }\n",
       "    ];\n",
       "  \n",
       "    function run_inline_js() {\n",
       "      \n",
       "      if ((window.Bokeh !== undefined) || (force === true)) {\n",
       "        for (var i = 0; i < inline_js.length; i++) {\n",
       "          inline_js[i](window.Bokeh);\n",
       "        }if (force === true) {\n",
       "          display_loaded();\n",
       "        }} else if (Date.now() < window._bokeh_timeout) {\n",
       "        setTimeout(run_inline_js, 100);\n",
       "      } else if (!window._bokeh_failed_load) {\n",
       "        console.log(\"Bokeh: BokehJS failed to load within specified timeout.\");\n",
       "        window._bokeh_failed_load = true;\n",
       "      } else if (force !== true) {\n",
       "        var cell = $(document.getElementById(\"56cdd0d5-f8ae-4373-9153-2cb94b579687\")).parents('.cell').data().cell;\n",
       "        cell.output_area.append_execute_result(NB_LOAD_WARNING)\n",
       "      }\n",
       "  \n",
       "    }\n",
       "  \n",
       "    if (window._bokeh_is_loading === 0) {\n",
       "      console.log(\"Bokeh: BokehJS loaded, going straight to plotting\");\n",
       "      run_inline_js();\n",
       "    } else {\n",
       "      load_libs(js_urls, function() {\n",
       "        console.log(\"Bokeh: BokehJS plotting callback run at\", now());\n",
       "        run_inline_js();\n",
       "      });\n",
       "    }\n",
       "  }(this));\n",
       "</script>"
      ]
     },
     "metadata": {},
     "output_type": "display_data"
    }
   ],
   "source": [
    "y_hat = [beta[0]*xi**2 + beta[1]*xi + beta[2] for xi in x]\n",
    "show(Line({'x': x, 'y': y_hat}, x='x', y='y', width=750, height=400))"
   ]
  },
  {
   "cell_type": "markdown",
   "metadata": {
    "deletable": true,
    "editable": true,
    "slideshow": {
     "slide_type": "subslide"
    }
   },
   "source": [
    "#### So what's different about Crazy Uncle Eddie?"
   ]
  },
  {
   "cell_type": "markdown",
   "metadata": {
    "deletable": true,
    "editable": true,
    "slideshow": {
     "slide_type": "fragment"
    }
   },
   "source": [
    "Well, besides the obvious.\n",
    "\n",
    "![](images/crazy-uncle-eddie.jpg)"
   ]
  },
  {
   "cell_type": "markdown",
   "metadata": {
    "deletable": true,
    "editable": true,
    "slideshow": {
     "slide_type": "subslide"
    }
   },
   "source": [
    "While all three techniques produced the _same result_, Crazy Uncle Eddie's is interesting because it is more general than the others.\n",
    "\n",
    "Crazy Eddie can solve any quadratic optimization problem, of which Least Squares is _just one instance_."
   ]
  },
  {
   "cell_type": "markdown",
   "metadata": {
    "deletable": true,
    "editable": true,
    "slideshow": {
     "slide_type": "fragment"
    }
   },
   "source": [
    "If we change the structure of the problem slightly:\n",
    "\n",
    "* We probably can't solve it with `scikit-learn`\n",
    "* Grams and Gramps have to go back to their chalkboard\n",
    "* Crazy Eddie can update the inputs to his problem and reoptimize"
   ]
  },
  {
   "cell_type": "markdown",
   "metadata": {
    "deletable": true,
    "editable": true,
    "slideshow": {
     "slide_type": "slide"
    }
   },
   "source": [
    "## Example: Portfolio Optimization\n",
    "\n",
    "We have a big pot of money to allocate among different investments. Lucky us!"
   ]
  },
  {
   "cell_type": "markdown",
   "metadata": {
    "deletable": true,
    "editable": true,
    "slideshow": {
     "slide_type": "fragment"
    }
   },
   "source": [
    "Some investment returns are correlated. They go up and down together.\n",
    "\n",
    "Other returns are anticorrelated. They tend to do the opposite things."
   ]
  },
  {
   "cell_type": "markdown",
   "metadata": {
    "deletable": true,
    "editable": true,
    "slideshow": {
     "slide_type": "fragment"
    }
   },
   "source": [
    "How do we allocate our money to maximize our expected return, subject to our tolerance for risk?"
   ]
  },
  {
   "cell_type": "markdown",
   "metadata": {
    "deletable": true,
    "editable": true,
    "slideshow": {
     "slide_type": "subslide"
    }
   },
   "source": [
    "We'll use 100 months of [exchange rate data](http://www.federalreserve.gov/datadownload/Build.aspx?rel=H10) from the Fed, circa 2014.\n",
    "\n",
    "Since this talk isn't about data wrangling, I've already cleaned it up into the important pieces.\n",
    "\n",
    "* Expected monthly return data for each foreign currency\n",
    "* A covariance matrix for those investments"
   ]
  },
  {
   "cell_type": "markdown",
   "metadata": {
    "deletable": true,
    "editable": true,
    "slideshow": {
     "slide_type": "subslide"
    }
   },
   "source": [
    "### The Markowitz Porfolio Optimization Model\n",
    "\n",
    "#### Inputs:\n",
    "\n",
    "$$\\mu = \\text{vector of expected investment returns}$$\n",
    "\n",
    "$$\\Sigma = \\text{covariance matrix for returns}$$\n",
    "\n",
    "$$\\alpha = \\text{unitless measure of risk aversion}$$"
   ]
  },
  {
   "cell_type": "markdown",
   "metadata": {
    "deletable": true,
    "editable": true,
    "slideshow": {
     "slide_type": "fragment"
    }
   },
   "source": [
    "#### Model:\n",
    "\n",
    "$x$ tells me how much of my total budget to put in each investment.\n",
    "\n",
    "$$\n",
    "\\begin{align}\n",
    "    \\text{max}  \\ \\ \\ & \\ \\mu'x - \\alpha x \\Sigma x \\\\\n",
    "    \\text{s.t.} \\ \\ \\ & \\ e'x = 1 \\\\\n",
    "                      & \\ x \\ge 0\n",
    "\\end{align}\n",
    "$$"
   ]
  },
  {
   "cell_type": "markdown",
   "metadata": {
    "deletable": true,
    "editable": true,
    "slideshow": {
     "slide_type": "fragment"
    }
   },
   "source": [
    "But wait! This is a _maximization_ problem! The last model used $\\text{min}$.\n",
    "\n",
    "$$\n",
    "\\begin{align}\n",
    "    \\text{min}  \\ \\ \\ & \\ \\alpha x \\Sigma x - \\mu'x \\\\\n",
    "    \\text{s.t.} \\ \\ \\ & \\ e'x = 1 \\\\\n",
    "                      & \\ x \\ge 0\n",
    "\\end{align}\n",
    "$$"
   ]
  },
  {
   "cell_type": "markdown",
   "metadata": {
    "deletable": true,
    "editable": true,
    "slideshow": {
     "slide_type": "subslide"
    }
   },
   "source": [
    "The only differences between this model and the least squares model are the constraints we've added.\n",
    "\n",
    "This one forces the model to allocate all of my budget into investments:\n",
    "\n",
    "$$e'x = 1$$\n",
    "\n",
    "This one disallows the model from making negative investments:\n",
    "\n",
    "$$x \\ge 0$$"
   ]
  },
  {
   "cell_type": "code",
   "execution_count": 9,
   "metadata": {
    "collapsed": false,
    "deletable": true,
    "editable": true,
    "slideshow": {
     "slide_type": "subslide"
    }
   },
   "outputs": [
    {
     "data": {
      "text/html": [
       "<div>\n",
       "<table border=\"1\" class=\"dataframe\">\n",
       "  <thead>\n",
       "    <tr style=\"text-align: right;\">\n",
       "      <th></th>\n",
       "      <th>Unnamed: 0</th>\n",
       "      <th>mean</th>\n",
       "      <th>variance</th>\n",
       "    </tr>\n",
       "  </thead>\n",
       "  <tbody>\n",
       "    <tr>\n",
       "      <th>0</th>\n",
       "      <td>RXI$US_N.M.AL</td>\n",
       "      <td>0.152151</td>\n",
       "      <td>10.996718</td>\n",
       "    </tr>\n",
       "    <tr>\n",
       "      <th>1</th>\n",
       "      <td>RXI$US_N.M.EU</td>\n",
       "      <td>0.002683</td>\n",
       "      <td>5.928188</td>\n",
       "    </tr>\n",
       "    <tr>\n",
       "      <th>2</th>\n",
       "      <td>RXI$US_N.M.NZ</td>\n",
       "      <td>0.220217</td>\n",
       "      <td>9.690793</td>\n",
       "    </tr>\n",
       "    <tr>\n",
       "      <th>3</th>\n",
       "      <td>RXI$US_N.M.UK</td>\n",
       "      <td>-0.159779</td>\n",
       "      <td>5.098969</td>\n",
       "    </tr>\n",
       "    <tr>\n",
       "      <th>4</th>\n",
       "      <td>RXI_N.M.BZ</td>\n",
       "      <td>-0.128507</td>\n",
       "      <td>12.743632</td>\n",
       "    </tr>\n",
       "  </tbody>\n",
       "</table>\n",
       "</div>"
      ],
      "text/plain": [
       "      Unnamed: 0      mean   variance\n",
       "0  RXI$US_N.M.AL  0.152151  10.996718\n",
       "1  RXI$US_N.M.EU  0.002683   5.928188\n",
       "2  RXI$US_N.M.NZ  0.220217   9.690793\n",
       "3  RXI$US_N.M.UK -0.159779   5.098969\n",
       "4     RXI_N.M.BZ -0.128507  12.743632"
      ]
     },
     "execution_count": 9,
     "metadata": {},
     "output_type": "execute_result"
    }
   ],
   "source": [
    "# Read in the returns and covariance data.\n",
    "import pandas as pd\n",
    "exp_returns = pd.read_csv('portfolio-optimization/currency-returns.csv')\n",
    "exp_returns.head()"
   ]
  },
  {
   "cell_type": "code",
   "execution_count": 10,
   "metadata": {
    "collapsed": false,
    "deletable": true,
    "editable": true,
    "slideshow": {
     "slide_type": "subslide"
    }
   },
   "outputs": [
    {
     "data": {
      "text/html": [
       "<div>\n",
       "<table border=\"1\" class=\"dataframe\">\n",
       "  <thead>\n",
       "    <tr style=\"text-align: right;\">\n",
       "      <th></th>\n",
       "      <th>0</th>\n",
       "      <th>1</th>\n",
       "      <th>2</th>\n",
       "      <th>3</th>\n",
       "      <th>4</th>\n",
       "      <th>5</th>\n",
       "      <th>6</th>\n",
       "      <th>7</th>\n",
       "      <th>8</th>\n",
       "      <th>9</th>\n",
       "      <th>...</th>\n",
       "      <th>13</th>\n",
       "      <th>14</th>\n",
       "      <th>15</th>\n",
       "      <th>16</th>\n",
       "      <th>17</th>\n",
       "      <th>18</th>\n",
       "      <th>19</th>\n",
       "      <th>20</th>\n",
       "      <th>21</th>\n",
       "      <th>22</th>\n",
       "    </tr>\n",
       "  </thead>\n",
       "  <tbody>\n",
       "    <tr>\n",
       "      <th>0</th>\n",
       "      <td>10.996718</td>\n",
       "      <td>5.181782</td>\n",
       "      <td>8.654762</td>\n",
       "      <td>4.457704</td>\n",
       "      <td>9.789818</td>\n",
       "      <td>5.421746</td>\n",
       "      <td>0.194428</td>\n",
       "      <td>5.166875</td>\n",
       "      <td>0.028496</td>\n",
       "      <td>4.379632</td>\n",
       "      <td>...</td>\n",
       "      <td>6.494732</td>\n",
       "      <td>7.078498</td>\n",
       "      <td>7.083824</td>\n",
       "      <td>8.574515</td>\n",
       "      <td>3.287411</td>\n",
       "      <td>0.343673</td>\n",
       "      <td>4.163674</td>\n",
       "      <td>2.450772</td>\n",
       "      <td>2.381722</td>\n",
       "      <td>0.542450</td>\n",
       "    </tr>\n",
       "    <tr>\n",
       "      <th>1</th>\n",
       "      <td>5.181782</td>\n",
       "      <td>5.928188</td>\n",
       "      <td>4.487890</td>\n",
       "      <td>3.659548</td>\n",
       "      <td>4.686754</td>\n",
       "      <td>2.467804</td>\n",
       "      <td>0.313081</td>\n",
       "      <td>5.867674</td>\n",
       "      <td>0.038117</td>\n",
       "      <td>2.545200</td>\n",
       "      <td>...</td>\n",
       "      <td>2.894461</td>\n",
       "      <td>5.350733</td>\n",
       "      <td>5.515164</td>\n",
       "      <td>4.314480</td>\n",
       "      <td>2.265781</td>\n",
       "      <td>0.418269</td>\n",
       "      <td>5.173168</td>\n",
       "      <td>1.559857</td>\n",
       "      <td>1.351946</td>\n",
       "      <td>1.776855</td>\n",
       "    </tr>\n",
       "    <tr>\n",
       "      <th>2</th>\n",
       "      <td>8.654762</td>\n",
       "      <td>4.487890</td>\n",
       "      <td>9.690793</td>\n",
       "      <td>4.330531</td>\n",
       "      <td>8.130412</td>\n",
       "      <td>4.268307</td>\n",
       "      <td>0.129303</td>\n",
       "      <td>4.466514</td>\n",
       "      <td>0.017975</td>\n",
       "      <td>3.919170</td>\n",
       "      <td>...</td>\n",
       "      <td>5.536301</td>\n",
       "      <td>5.602586</td>\n",
       "      <td>6.054567</td>\n",
       "      <td>6.733828</td>\n",
       "      <td>2.811946</td>\n",
       "      <td>0.451742</td>\n",
       "      <td>3.903260</td>\n",
       "      <td>2.135899</td>\n",
       "      <td>2.569281</td>\n",
       "      <td>0.379954</td>\n",
       "    </tr>\n",
       "    <tr>\n",
       "      <th>3</th>\n",
       "      <td>4.457704</td>\n",
       "      <td>3.659548</td>\n",
       "      <td>4.330531</td>\n",
       "      <td>5.098969</td>\n",
       "      <td>4.301933</td>\n",
       "      <td>2.573100</td>\n",
       "      <td>0.137068</td>\n",
       "      <td>3.632088</td>\n",
       "      <td>0.012420</td>\n",
       "      <td>1.821456</td>\n",
       "      <td>...</td>\n",
       "      <td>2.775715</td>\n",
       "      <td>4.081803</td>\n",
       "      <td>4.233658</td>\n",
       "      <td>3.749874</td>\n",
       "      <td>1.780620</td>\n",
       "      <td>0.326828</td>\n",
       "      <td>3.335175</td>\n",
       "      <td>1.356927</td>\n",
       "      <td>1.014109</td>\n",
       "      <td>1.584577</td>\n",
       "    </tr>\n",
       "    <tr>\n",
       "      <th>4</th>\n",
       "      <td>9.789818</td>\n",
       "      <td>4.686754</td>\n",
       "      <td>8.130412</td>\n",
       "      <td>4.301933</td>\n",
       "      <td>12.743632</td>\n",
       "      <td>5.433992</td>\n",
       "      <td>0.279201</td>\n",
       "      <td>4.689891</td>\n",
       "      <td>-0.034405</td>\n",
       "      <td>5.567318</td>\n",
       "      <td>...</td>\n",
       "      <td>7.177333</td>\n",
       "      <td>7.288341</td>\n",
       "      <td>6.774689</td>\n",
       "      <td>8.761299</td>\n",
       "      <td>2.999360</td>\n",
       "      <td>0.843294</td>\n",
       "      <td>4.269524</td>\n",
       "      <td>2.163251</td>\n",
       "      <td>2.439204</td>\n",
       "      <td>0.496304</td>\n",
       "    </tr>\n",
       "  </tbody>\n",
       "</table>\n",
       "<p>5 rows × 23 columns</p>\n",
       "</div>"
      ],
      "text/plain": [
       "          0         1         2         3          4         5         6   \\\n",
       "0  10.996718  5.181782  8.654762  4.457704   9.789818  5.421746  0.194428   \n",
       "1   5.181782  5.928188  4.487890  3.659548   4.686754  2.467804  0.313081   \n",
       "2   8.654762  4.487890  9.690793  4.330531   8.130412  4.268307  0.129303   \n",
       "3   4.457704  3.659548  4.330531  5.098969   4.301933  2.573100  0.137068   \n",
       "4   9.789818  4.686754  8.130412  4.301933  12.743632  5.433992  0.279201   \n",
       "\n",
       "         7         8         9     ...           13        14        15  \\\n",
       "0  5.166875  0.028496  4.379632    ...     6.494732  7.078498  7.083824   \n",
       "1  5.867674  0.038117  2.545200    ...     2.894461  5.350733  5.515164   \n",
       "2  4.466514  0.017975  3.919170    ...     5.536301  5.602586  6.054567   \n",
       "3  3.632088  0.012420  1.821456    ...     2.775715  4.081803  4.233658   \n",
       "4  4.689891 -0.034405  5.567318    ...     7.177333  7.288341  6.774689   \n",
       "\n",
       "         16        17        18        19        20        21        22  \n",
       "0  8.574515  3.287411  0.343673  4.163674  2.450772  2.381722  0.542450  \n",
       "1  4.314480  2.265781  0.418269  5.173168  1.559857  1.351946  1.776855  \n",
       "2  6.733828  2.811946  0.451742  3.903260  2.135899  2.569281  0.379954  \n",
       "3  3.749874  1.780620  0.326828  3.335175  1.356927  1.014109  1.584577  \n",
       "4  8.761299  2.999360  0.843294  4.269524  2.163251  2.439204  0.496304  \n",
       "\n",
       "[5 rows x 23 columns]"
      ]
     },
     "execution_count": 10,
     "metadata": {},
     "output_type": "execute_result"
    }
   ],
   "source": [
    "returns_cov = pd.read_csv('portfolio-optimization/currency-covariance.csv', header=None)\n",
    "returns_cov.head()"
   ]
  },
  {
   "cell_type": "code",
   "execution_count": 11,
   "metadata": {
    "collapsed": false,
    "deletable": true,
    "editable": true,
    "slideshow": {
     "slide_type": "subslide"
    }
   },
   "outputs": [],
   "source": [
    "# A model that will return an optimal portfolio for any risk aversion.\n",
    "def portfolio(alpha):\n",
    "    P = cvx.matrix(alpha * returns_cov.as_matrix())\n",
    "    q = cvx.matrix(-exp_returns['mean'].as_matrix())\n",
    "    G = cvx.matrix(0.0, (len(q),len(q)))\n",
    "    G[::len(q)+1] = -1.0\n",
    "    h = cvx.matrix(0.0, (len(q),1))\n",
    "    A = cvx.matrix(1.0, (1,len(q)))\n",
    "    b = cvx.matrix(1.0)\n",
    "\n",
    "    solution = cvx.solvers.qp(P, q, G, h, A, b)\n",
    "    return exp_returns['mean'].dot(solution['x'])[0]"
   ]
  },
  {
   "cell_type": "code",
   "execution_count": 12,
   "metadata": {
    "collapsed": false,
    "deletable": true,
    "editable": true,
    "slideshow": {
     "slide_type": "subslide"
    }
   },
   "outputs": [
    {
     "name": "stdout",
     "output_type": "stream",
     "text": [
      "     pcost       dcost       gap    pres   dres\n",
      " 0: -1.4109e+00 -1.2870e+00  6e+01  9e+00  5e+00\n",
      " 1: -1.8207e-02 -1.2285e+00  1e+00  5e-15  8e-16\n",
      " 2: -6.2411e-02 -2.9637e-01  2e-01  7e-16  7e-16\n",
      " 3: -1.4238e-01 -3.5309e-01  2e-01  8e-16  5e-16\n",
      " 4: -2.8201e-01 -2.9496e-01  1e-02  4e-16  5e-16\n",
      " 5: -2.8688e-01 -2.8703e-01  2e-04  1e-16  3e-16\n",
      " 6: -2.8695e-01 -2.8695e-01  2e-06  3e-16  2e-16\n",
      " 7: -2.8695e-01 -2.8695e-01  2e-08  1e-16  5e-16\n",
      "Optimal solution found.\n",
      "     pcost       dcost       gap    pres   dres\n",
      " 0: -2.6295e-01 -1.3019e+00  4e+01  5e+00  6e+00\n",
      " 1: -3.1048e-02 -1.0159e+00  2e+00  2e-01  2e-01\n",
      " 2:  3.3465e-02 -3.1889e-01  5e-01  3e-02  3e-02\n",
      " 3: -1.3476e-01 -2.5385e-01  1e-01  3e-16  7e-16\n",
      " 4: -1.9154e-01 -2.0318e-01  1e-02  1e-16  7e-16\n",
      " 5: -2.0001e-01 -2.0086e-01  9e-04  5e-17  3e-16\n",
      " 6: -2.0070e-01 -2.0074e-01  4e-05  6e-17  6e-16\n",
      " 7: -2.0073e-01 -2.0073e-01  1e-06  2e-16  1e-15\n",
      " 8: -2.0073e-01 -2.0073e-01  1e-08  3e-16  5e-16\n",
      "Optimal solution found.\n",
      "     pcost       dcost       gap    pres   dres\n",
      " 0: -1.7310e-01 -1.2428e+00  4e+01  5e+00  6e+00\n",
      " 1: -4.7542e-03 -9.2263e-01  2e+00  2e-01  2e-01\n",
      " 2:  3.8252e-02 -2.6797e-01  4e-01  3e-02  3e-02\n",
      " 3: -9.4620e-02 -1.8481e-01  9e-02  1e-16  1e-15\n",
      " 4: -1.4057e-01 -1.5061e-01  1e-02  2e-16  7e-16\n",
      " 5: -1.4747e-01 -1.4833e-01  9e-04  2e-16  6e-16\n",
      " 6: -1.4822e-01 -1.4825e-01  3e-05  1e-16  4e-16\n",
      " 7: -1.4825e-01 -1.4825e-01  1e-06  2e-16  5e-16\n",
      " 8: -1.4825e-01 -1.4825e-01  2e-08  2e-16  4e-16\n",
      "Optimal solution found.\n",
      "     pcost       dcost       gap    pres   dres\n",
      " 0: -1.3049e-01 -1.1978e+00  4e+01  5e+00  6e+00\n",
      " 1:  1.0823e-02 -8.5585e-01  2e+00  2e-01  2e-01\n",
      " 2:  4.1508e-02 -2.1689e-01  4e-01  3e-02  3e-02\n",
      " 3: -6.4792e-02 -1.2939e-01  6e-02  2e-16  8e-16\n",
      " 4: -9.7828e-02 -1.0446e-01  7e-03  3e-16  9e-16\n",
      " 5: -1.0228e-01 -1.0300e-01  7e-04  2e-16  5e-16\n",
      " 6: -1.0293e-01 -1.0295e-01  2e-05  1e-16  4e-16\n",
      " 7: -1.0295e-01 -1.0295e-01  3e-07  1e-16  5e-16\n",
      " 8: -1.0295e-01 -1.0295e-01  3e-09  1e-16  3e-16\n",
      "Optimal solution found.\n",
      "     pcost       dcost       gap    pres   dres\n",
      " 0: -1.0337e-01 -1.1595e+00  3e+01  5e+00  6e+00\n",
      " 1:  2.2165e-02 -8.0202e-01  2e+00  2e-01  2e-01\n",
      " 2:  4.3501e-02 -1.6970e-01  3e-01  2e-02  2e-02\n",
      " 3: -4.8964e-02 -9.2477e-02  4e-02  2e-16  1e-15\n",
      " 4: -7.3350e-02 -7.7843e-02  4e-03  5e-17  9e-16\n",
      " 5: -7.6465e-02 -7.6904e-02  4e-04  1e-16  5e-16\n",
      " 6: -7.6868e-02 -7.6878e-02  1e-05  3e-16  3e-16\n",
      " 7: -7.6877e-02 -7.6878e-02  1e-07  1e-16  4e-16\n",
      "Optimal solution found.\n",
      "     pcost       dcost       gap    pres   dres\n",
      " 0: -8.3552e-02 -1.1256e+00  3e+01  5e+00  6e+00\n",
      " 1:  3.1025e-02 -7.5646e-01  2e+00  2e-01  2e-01\n",
      " 2:  4.4428e-02 -1.3898e-01  3e-01  2e-02  2e-02\n",
      " 3: -3.7424e-02 -7.1497e-02  3e-02  8e-17  9e-16\n",
      " 4: -5.7093e-02 -6.0638e-02  4e-03  1e-16  8e-16\n",
      " 5: -5.9609e-02 -5.9920e-02  3e-04  4e-16  5e-16\n",
      " 6: -5.9898e-02 -5.9904e-02  5e-06  2e-16  8e-16\n",
      " 7: -5.9904e-02 -5.9904e-02  5e-08  2e-16  6e-16\n",
      "Optimal solution found.\n",
      "     pcost       dcost       gap    pres   dres\n",
      " 0: -6.7880e-02 -1.0982e+00  3e+01  5e+00  6e+00\n",
      " 1:  3.8514e-02 -7.1915e-01  2e+00  2e-01  2e-01\n",
      " 2:  4.4486e-02 -1.3048e-01  3e-01  2e-02  2e-02\n",
      " 3: -2.3873e-02 -6.0193e-02  4e-02  4e-04  5e-04\n",
      " 4: -4.4365e-02 -4.8338e-02  4e-03  1e-16  7e-16\n",
      " 5: -4.7131e-02 -4.7498e-02  4e-04  1e-16  5e-16\n",
      " 6: -4.7472e-02 -4.7478e-02  6e-06  3e-16  4e-16\n",
      " 7: -4.7478e-02 -4.7478e-02  6e-08  3e-16  4e-16\n",
      "Optimal solution found.\n",
      "     pcost       dcost       gap    pres   dres\n",
      " 0: -5.4871e-02 -1.0978e+00  3e+01  5e+00  6e+00\n",
      " 1:  4.6908e-02 -7.0310e-01  2e+00  2e-01  2e-01\n",
      " 2:  4.7530e-02 -1.2405e-01  3e-01  2e-02  2e-02\n",
      " 3: -1.4964e-02 -5.0020e-02  4e-02  2e-04  3e-04\n",
      " 4: -3.4679e-02 -3.8443e-02  4e-03  1e-16  7e-16\n",
      " 5: -3.7331e-02 -3.7669e-02  3e-04  2e-16  5e-16\n",
      " 6: -3.7646e-02 -3.7652e-02  5e-06  1e-16  4e-16\n",
      " 7: -3.7651e-02 -3.7651e-02  5e-08  1e-16  4e-16\n",
      "Optimal solution found.\n",
      "     pcost       dcost       gap    pres   dres\n",
      " 0: -4.3716e-02 -1.0974e+00  3e+01  5e+00  6e+00\n",
      " 1:  5.4196e-02 -6.8865e-01  2e+00  2e-01  2e-01\n",
      " 2:  5.0246e-02 -1.1735e-01  3e-01  2e-02  2e-02\n",
      " 3: -7.9683e-03 -4.1274e-02  3e-02  1e-17  1e-15\n",
      " 4: -2.6682e-02 -3.0144e-02  3e-03  1e-16  7e-16\n",
      " 5: -2.9169e-02 -2.9464e-02  3e-04  1e-16  9e-16\n",
      " 6: -2.9445e-02 -2.9449e-02  4e-06  2e-16  5e-16\n",
      " 7: -2.9449e-02 -2.9449e-02  4e-08  2e-16  5e-16\n",
      "Optimal solution found.\n",
      "     pcost       dcost       gap    pres   dres\n",
      " 0: -3.3930e-02 -1.0969e+00  4e+01  5e+00  6e+00\n",
      " 1:  6.0601e-02 -6.7563e-01  2e+00  2e-01  2e-01\n",
      " 2:  5.2718e-02 -1.1058e-01  3e-01  2e-02  2e-02\n",
      " 3: -1.7058e-03 -3.4171e-02  3e-02  1e-16  1e-15\n",
      " 4: -1.9669e-02 -2.2968e-02  3e-03  2e-16  1e-15\n",
      " 5: -2.2073e-02 -2.2343e-02  3e-04  1e-16  9e-16\n",
      " 6: -2.2327e-02 -2.2330e-02  4e-06  1e-16  7e-16\n",
      " 7: -2.2330e-02 -2.2330e-02  4e-08  2e-16  5e-16\n",
      "Optimal solution found.\n",
      "     pcost       dcost       gap    pres   dres\n",
      " 0: -2.5201e-02 -1.0963e+00  4e+01  5e+00  6e+00\n",
      " 1:  6.6299e-02 -6.6378e-01  2e+00  2e-01  2e-01\n",
      " 2:  5.5021e-02 -1.0386e-01  3e-01  2e-02  2e-02\n",
      " 3:  3.7272e-03 -2.7715e-02  3e-02  1e-16  1e-15\n",
      " 4: -1.3351e-02 -1.6585e-02  3e-03  1e-16  8e-16\n",
      " 5: -1.5724e-02 -1.5981e-02  3e-04  2e-16  7e-16\n",
      " 6: -1.5966e-02 -1.5969e-02  4e-06  3e-16  5e-16\n",
      " 7: -1.5969e-02 -1.5969e-02  4e-08  2e-16  4e-16\n",
      "Optimal solution found.\n",
      "     pcost       dcost       gap    pres   dres\n",
      " 0: -1.7311e-02 -1.0955e+00  4e+01  5e+00  6e+00\n",
      " 1:  7.1360e-02 -6.5307e-01  2e+00  1e-01  2e-01\n",
      " 2:  5.7368e-02 -9.7504e-02  3e-01  2e-02  2e-02\n",
      " 3:  8.8197e-03 -2.1891e-02  3e-02  2e-16  1e-15\n",
      " 4: -7.5622e-03 -1.0767e-02  3e-03  1e-16  8e-16\n",
      " 5: -9.9228e-03 -1.0171e-02  2e-04  3e-16  2e-15\n",
      " 6: -1.0156e-02 -1.0160e-02  4e-06  2e-16  6e-16\n",
      " 7: -1.0159e-02 -1.0159e-02  4e-08  2e-16  6e-16\n",
      "Optimal solution found.\n",
      "     pcost       dcost       gap    pres   dres\n",
      " 0: -1.0105e-02 -1.0946e+00  4e+01  5e+00  6e+00\n",
      " 1:  7.5884e-02 -6.4354e-01  2e+00  1e-01  2e-01\n",
      " 2:  5.9679e-02 -9.1465e-02  3e-01  2e-02  2e-02\n",
      " 3:  1.3652e-02 -1.6538e-02  3e-02  2e-16  1e-15\n",
      " 4: -2.1949e-03 -5.3577e-03  3e-03  1e-16  1e-15\n",
      " 5: -4.5359e-03 -4.7750e-03  2e-04  1e-16  1e-15\n",
      " 6: -4.7597e-03 -4.7633e-03  4e-06  8e-17  1e-15\n",
      " 7: -4.7632e-03 -4.7632e-03  4e-08  1e-16  7e-16\n",
      "Optimal solution found.\n",
      "     pcost       dcost       gap    pres   dres\n",
      " 0: -3.4681e-03 -1.0935e+00  4e+01  5e+00  6e+00\n",
      " 1:  8.0049e-02 -6.3465e-01  2e+00  1e-01  2e-01\n",
      " 2:  6.1857e-02 -8.5535e-02  3e-01  2e-02  2e-02\n",
      " 3:  1.8143e-02 -1.1436e-02  3e-02  3e-16  1e-15\n",
      " 4:  2.8321e-03 -2.5884e-04  3e-03  2e-16  8e-16\n",
      " 5:  5.3004e-04  3.0346e-04  2e-04  2e-16  5e-16\n",
      " 6:  3.1844e-04  3.1486e-04  4e-06  1e-16  8e-16\n",
      " 7:  3.1496e-04  3.1492e-04  4e-08  5e-17  6e-16\n",
      "Optimal solution found.\n",
      "     pcost       dcost       gap    pres   dres\n",
      " 0:  2.6898e-03 -1.0922e+00  4e+01  5e+00  6e+00\n",
      " 1:  8.3930e-02 -6.2618e-01  2e+00  1e-01  2e-01\n",
      " 2:  6.3951e-02 -7.9724e-02  2e-01  2e-02  2e-02\n",
      " 3:  2.2378e-02 -6.5347e-03  3e-02  2e-16  1e-15\n",
      " 4:  7.5962e-03  4.5940e-03  3e-03  2e-16  1e-15\n",
      " 5:  5.3448e-03  5.1321e-03  2e-04  1e-16  6e-16\n",
      " 6:  5.1467e-03  5.1431e-03  4e-06  7e-17  7e-16\n",
      " 7:  5.1432e-03  5.1432e-03  4e-08  2e-16  6e-16\n",
      "Optimal solution found.\n",
      "     pcost       dcost       gap    pres   dres\n",
      " 0:  8.4393e-03 -1.0909e+00  4e+01  5e+00  6e+00\n",
      " 1:  8.7571e-02 -6.1808e-01  2e+00  1e-01  2e-01\n",
      " 2:  6.5997e-02 -7.4045e-02  2e-01  2e-02  2e-02\n",
      " 3:  2.6417e-02 -1.7979e-03  3e-02  7e-17  1e-15\n",
      " 4:  1.2153e-02  9.2485e-03  3e-03  5e-17  1e-15\n",
      " 5:  9.9593e-03  9.7607e-03  2e-04  2e-16  8e-16\n",
      " 6:  9.7750e-03  9.7715e-03  4e-06  1e-16  9e-16\n",
      " 7:  9.7715e-03  9.7715e-03  4e-08  8e-17  7e-16\n",
      "Optimal solution found.\n",
      "     pcost       dcost       gap    pres   dres\n",
      " 0:  1.3837e-02 -1.0893e+00  4e+01  5e+00  6e+00\n",
      " 1:  9.1007e-02 -6.1030e-01  2e+00  1e-01  2e-01\n",
      " 2:  6.8019e-02 -6.8500e-02  2e-01  2e-02  2e-02\n",
      " 3:  3.0306e-02  2.8000e-03  3e-02  1e-16  1e-15\n",
      " 4:  1.6544e-02  1.3741e-02  3e-03  1e-16  8e-16\n",
      " 5:  1.4412e-02  1.4227e-02  2e-04  3e-16  7e-16\n",
      " 6:  1.4241e-02  1.4237e-02  4e-06  2e-16  8e-16\n",
      " 7:  1.4237e-02  1.4237e-02  4e-08  2e-16  5e-16\n",
      "Optimal solution found.\n",
      "     pcost       dcost       gap    pres   dres\n",
      " 0:  1.8930e-02 -1.0877e+00  4e+01  5e+00  6e+00\n",
      " 1:  9.4269e-02 -6.0282e-01  2e+00  1e-01  2e-01\n",
      " 2:  7.0033e-02 -6.3089e-02  2e-01  1e-02  2e-02\n",
      " 3:  3.4079e-02  7.2789e-03  3e-02  1e-16  6e-16\n",
      " 4:  2.0799e-02  1.8098e-02  3e-03  2e-16  9e-16\n",
      " 5:  1.8731e-02  1.8559e-02  2e-04  6e-17  1e-15\n",
      " 6:  1.8573e-02  1.8569e-02  4e-06  2e-16  6e-16\n",
      " 7:  1.8570e-02  1.8570e-02  4e-08  2e-16  6e-16\n",
      "Optimal solution found.\n",
      "     pcost       dcost       gap    pres   dres\n",
      " 0:  2.3755e-02 -1.0860e+00  4e+01  5e+00  6e+00\n",
      " 1:  9.7380e-02 -5.9561e-01  2e+00  1e-01  2e-01\n",
      " 2:  7.2051e-02 -5.7806e-02  2e-01  1e-02  2e-02\n",
      " 3:  3.7759e-02  1.1655e-02  3e-02  3e-16  1e-15\n",
      " 4:  2.4943e-02  2.2343e-02  3e-03  1e-16  1e-15\n",
      " 5:  2.2939e-02  2.2780e-02  2e-04  8e-17  7e-16\n",
      " 6:  2.2794e-02  2.2790e-02  4e-06  7e-17  5e-16\n",
      " 7:  2.2790e-02  2.2790e-02  4e-08  2e-16  1e-15\n",
      "Optimal solution found.\n",
      "     pcost       dcost       gap    pres   dres\n",
      " 0:  2.8347e-02 -1.0842e+00  4e+01  5e+00  6e+00\n",
      " 1:  1.0036e-01 -5.8864e-01  2e+00  1e-01  2e-01\n",
      " 2:  7.4080e-02 -5.2647e-02  2e-01  1e-02  2e-02\n",
      " 3:  4.1366e-02  1.5941e-02  3e-02  3e-16  2e-15\n",
      " 4:  2.8994e-02  2.6492e-02  3e-03  2e-16  8e-16\n",
      " 5:  2.7055e-02  2.6906e-02  1e-04  1e-16  2e-15\n",
      " 6:  2.6921e-02  2.6917e-02  4e-06  6e-17  8e-16\n",
      " 7:  2.6917e-02  2.6917e-02  4e-08  3e-17  8e-16\n",
      "Optimal solution found.\n",
      "     pcost       dcost       gap    pres   dres\n",
      " 0:  3.2731e-02 -1.0823e+00  4e+01  5e+00  6e+00\n",
      " 1:  1.0323e-01 -5.8189e-01  2e+00  1e-01  2e-01\n",
      " 2:  7.6124e-02 -4.7604e-02  2e-01  1e-02  2e-02\n",
      " 3:  4.4914e-02  2.0148e-02  2e-02  1e-16  1e-15\n",
      " 4:  3.2967e-02  3.0559e-02  2e-03  1e-16  1e-15\n",
      " 5:  3.1091e-02  3.0953e-02  1e-04  2e-16  1e-15\n",
      " 6:  3.0968e-02  3.0964e-02  4e-06  4e-17  7e-16\n",
      " 7:  3.0964e-02  3.0964e-02  5e-08  1e-16  9e-16\n",
      "Optimal solution found.\n",
      "     pcost       dcost       gap    pres   dres\n",
      " 0:  3.6932e-02 -1.0803e+00  4e+01  5e+00  6e+00\n",
      " 1:  1.0601e-01 -5.7535e-01  2e+00  1e-01  2e-01\n",
      " 2:  7.8188e-02 -4.2671e-02  2e-01  1e-02  2e-02\n",
      " 3:  4.8414e-02  2.4285e-02  2e-02  1e-16  1e-15\n",
      " 4:  3.6873e-02  3.4556e-02  2e-03  1e-16  1e-15\n",
      " 5:  3.5060e-02  3.4931e-02  1e-04  1e-16  9e-16\n",
      " 6:  3.4947e-02  3.4942e-02  5e-06  1e-16  7e-16\n",
      " 7:  3.4942e-02  3.4942e-02  7e-08  3e-16  2e-15\n",
      "Optimal solution found.\n",
      "     pcost       dcost       gap    pres   dres\n",
      " 0:  4.0970e-02 -1.0782e+00  4e+01  5e+00  6e+00\n",
      " 1:  1.0870e-01 -5.6899e-01  2e+00  1e-01  2e-01\n",
      " 2:  8.0272e-02 -3.7840e-02  2e-01  1e-02  2e-02\n",
      " 3:  5.1876e-02  2.8359e-02  2e-02  2e-16  2e-15\n",
      " 4:  4.0722e-02  3.8492e-02  2e-03  3e-16  1e-15\n",
      " 5:  3.8970e-02  3.8850e-02  1e-04  2e-16  1e-15\n",
      " 6:  3.8866e-02  3.8862e-02  5e-06  6e-17  7e-16\n",
      " 7:  3.8862e-02  3.8862e-02  1e-07  2e-16  5e-16\n",
      " 8:  3.8862e-02  3.8862e-02  1e-09  1e-16  7e-16\n",
      "Optimal solution found.\n",
      "     pcost       dcost       gap    pres   dres\n",
      " 0:  4.4862e-02 -1.0761e+00  4e+01  5e+00  6e+00\n",
      " 1:  1.1131e-01 -5.6281e-01  2e+00  1e-01  2e-01\n",
      " 2:  8.2437e-02 -3.3137e-02  2e-01  1e-02  2e-02\n",
      " 3:  5.5312e-02  3.2376e-02  2e-02  6e-17  1e-15\n",
      " 4:  4.4523e-02  4.2375e-02  2e-03  6e-17  9e-16\n",
      " 5:  4.2829e-02  4.2718e-02  1e-04  1e-16  1e-15\n",
      " 6:  4.2735e-02  4.2730e-02  5e-06  1e-16  1e-15\n",
      " 7:  4.2730e-02  4.2730e-02  2e-07  1e-16  6e-16\n",
      " 8:  4.2730e-02  4.2730e-02  2e-09  1e-16  1e-15\n",
      "Optimal solution found.\n",
      "     pcost       dcost       gap    pres   dres\n",
      " 0:  4.8622e-02 -1.0739e+00  4e+01  5e+00  6e+00\n",
      " 1:  1.1386e-01 -5.5678e-01  2e+00  1e-01  2e-01\n",
      " 2:  8.4714e-02 -2.8572e-02  2e-01  1e-02  2e-02\n",
      " 3:  5.8731e-02  3.6341e-02  2e-02  1e-16  2e-15\n",
      " 4:  4.8283e-02  4.6211e-02  2e-03  1e-16  1e-15\n",
      " 5:  4.6644e-02  4.6540e-02  1e-04  1e-16  1e-15\n",
      " 6:  4.6558e-02  4.6553e-02  5e-06  2e-16  1e-15\n",
      " 7:  4.6553e-02  4.6553e-02  3e-07  2e-16  1e-15\n",
      " 8:  4.6553e-02  4.6553e-02  3e-09  2e-16  1e-15\n",
      "Optimal solution found.\n",
      "     pcost       dcost       gap    pres   dres\n",
      " 0:  5.2265e-02 -1.0717e+00  4e+01  5e+00  6e+00\n",
      " 1:  1.1636e-01 -5.5091e-01  2e+00  1e-01  2e-01\n",
      " 2:  8.7006e-02 -2.4082e-02  2e-01  1e-02  2e-02\n",
      " 3:  6.2126e-02  4.0262e-02  2e-02  4e-16  2e-15\n",
      " 4:  5.2005e-02  5.0005e-02  2e-03  3e-16  1e-15\n",
      " 5:  5.0419e-02  5.0323e-02  1e-04  9e-17  8e-16\n",
      " 6:  5.0341e-02  5.0336e-02  5e-06  1e-16  1e-15\n",
      " 7:  5.0337e-02  5.0337e-02  4e-07  1e-16  1e-15\n",
      " 8:  5.0337e-02  5.0337e-02  1e-08  2e-16  8e-16\n",
      "Optimal solution found.\n",
      "     pcost       dcost       gap    pres   dres\n",
      " 0:  5.5803e-02 -1.0694e+00  4e+01  5e+00  6e+00\n",
      " 1:  1.1880e-01 -5.4517e-01  2e+00  1e-01  2e-01\n",
      " 2:  8.9312e-02 -1.9664e-02  2e-01  1e-02  2e-02\n",
      " 3:  6.5569e-02  4.4089e-02  2e-02  4e-16  2e-15\n",
      " 4:  5.5705e-02  5.3761e-02  2e-03  1e-16  1e-15\n",
      " 5:  5.4160e-02  5.4070e-02  9e-05  1e-16  9e-16\n",
      " 6:  5.4089e-02  5.4084e-02  5e-06  2e-16  1e-15\n",
      " 7:  5.4086e-02  5.4085e-02  6e-07  3e-16  9e-16\n",
      " 8:  5.4085e-02  5.4085e-02  6e-08  2e-16  5e-16\n",
      "Optimal solution found.\n",
      "     pcost       dcost       gap    pres   dres\n",
      " 0:  5.9244e-02 -1.0671e+00  4e+01  5e+00  6e+00\n",
      " 1:  1.2120e-01 -5.3956e-01  2e+00  1e-01  2e-01\n",
      " 2:  9.1634e-02 -1.5312e-02  2e-01  1e-02  2e-02\n",
      " 3:  6.8996e-02  4.7879e-02  2e-02  3e-16  2e-15\n",
      " 4:  5.9375e-02  5.7484e-02  2e-03  1e-16  1e-15\n",
      " 5:  5.7872e-02  5.7786e-02  9e-05  1e-16  1e-15\n",
      " 6:  5.7806e-02  5.7801e-02  5e-06  3e-17  1e-15\n",
      " 7:  5.7803e-02  5.7803e-02  6e-07  1e-16  1e-15\n",
      " 8:  5.7803e-02  5.7803e-02  7e-08  2e-16  2e-15\n",
      "Optimal solution found.\n",
      "     pcost       dcost       gap    pres   dres\n",
      " 0:  6.2599e-02 -1.0647e+00  4e+01  5e+00  6e+00\n",
      " 1:  1.2357e-01 -5.3408e-01  2e+00  1e-01  2e-01\n",
      " 2:  9.3970e-02 -1.1021e-02  2e-01  1e-02  1e-02\n",
      " 3:  7.2411e-02  5.1637e-02  2e-02  5e-16  2e-15\n",
      " 4:  6.3019e-02  6.1178e-02  2e-03  8e-17  2e-15\n",
      " 5:  6.1557e-02  6.1473e-02  8e-05  2e-16  8e-16\n",
      " 6:  6.1494e-02  6.1489e-02  5e-06  2e-16  8e-16\n",
      " 7:  6.1492e-02  6.1492e-02  4e-07  7e-17  1e-15\n",
      " 8:  6.1492e-02  6.1492e-02  1e-08  6e-17  1e-15\n",
      "Optimal solution found.\n",
      "     pcost       dcost       gap    pres   dres\n",
      " 0:  6.5876e-02 -1.0623e+00  4e+01  5e+00  6e+00\n",
      " 1:  1.2589e-01 -5.2871e-01  2e+00  1e-01  2e-01\n",
      " 2:  9.6320e-02 -6.7889e-03  2e-01  1e-02  1e-02\n",
      " 3:  7.5815e-02  5.5365e-02  2e-02  2e-16  2e-15\n",
      " 4:  6.6652e-02  6.4833e-02  2e-03  1e-16  1e-15\n",
      " 5:  6.5218e-02  6.5136e-02  8e-05  1e-16  1e-15\n",
      " 6:  6.5157e-02  6.5153e-02  4e-06  1e-16  7e-16\n",
      " 7:  6.5155e-02  6.5155e-02  3e-07  3e-16  8e-16\n",
      " 8:  6.5155e-02  6.5155e-02  3e-09  1e-16  1e-15\n",
      "Optimal solution found.\n",
      "     pcost       dcost       gap    pres   dres\n",
      " 0:  6.9081e-02 -1.0599e+00  4e+01  5e+00  7e+00\n",
      " 1:  1.2820e-01 -5.2344e-01  2e+00  1e-01  2e-01\n",
      " 2:  9.8683e-02 -2.6104e-03  2e-01  1e-02  1e-02\n",
      " 3:  7.9211e-02  5.9065e-02  2e-02  2e-16  4e-15\n",
      " 4:  7.0265e-02  6.8463e-02  2e-03  2e-16  2e-15\n",
      " 5:  6.8856e-02  6.8775e-02  8e-05  2e-16  1e-15\n",
      " 6:  6.8797e-02  6.8793e-02  4e-06  2e-16  7e-16\n",
      " 7:  6.8796e-02  6.8796e-02  1e-07  1e-16  9e-16\n",
      " 8:  6.8796e-02  6.8796e-02  1e-09  4e-18  1e-15\n",
      "Optimal solution found.\n",
      "     pcost       dcost       gap    pres   dres\n",
      " 0:  7.2221e-02 -1.0574e+00  4e+01  5e+00  7e+00\n",
      " 1:  1.3047e-01 -5.1827e-01  2e+00  1e-01  2e-01\n",
      " 2:  1.0106e-01  1.5175e-03  2e-01  1e-02  1e-02\n",
      " 3:  8.2601e-02  6.2739e-02  2e-02  6e-17  5e-15\n",
      " 4:  7.3858e-02  7.2073e-02  2e-03  2e-16  1e-15\n",
      " 5:  7.2476e-02  7.2394e-02  8e-05  2e-16  8e-16\n",
      " 6:  7.2416e-02  7.2413e-02  3e-06  2e-16  9e-16\n",
      " 7:  7.2415e-02  7.2415e-02  8e-08  1e-16  1e-15\n",
      "Optimal solution found.\n",
      "     pcost       dcost       gap    pres   dres\n",
      " 0:  7.5302e-02 -1.0549e+00  4e+01  5e+00  7e+00\n",
      " 1:  1.3272e-01 -5.1320e-01  2e+00  1e-01  2e-01\n",
      " 2:  1.0342e-01  4.4485e-03  2e-01  1e-02  1e-02\n",
      " 3:  8.6093e-02  6.6277e-02  2e-02  1e-16  3e-15\n",
      " 4:  7.7451e-02  7.5661e-02  2e-03  2e-16  1e-15\n",
      " 5:  7.6078e-02  7.5995e-02  8e-05  1e-16  2e-15\n",
      " 6:  7.6017e-02  7.6014e-02  3e-06  1e-16  1e-15\n",
      " 7:  7.6016e-02  7.6016e-02  5e-08  2e-16  1e-15\n",
      "Optimal solution found.\n",
      "     pcost       dcost       gap    pres   dres\n",
      " 0:  7.8329e-02 -1.0524e+00  4e+01  5e+00  7e+00\n",
      " 1:  1.3495e-01 -5.0821e-01  2e+00  1e-01  2e-01\n",
      " 2:  1.0576e-01  6.5317e-03  2e-01  1e-02  1e-02\n",
      " 3:  8.9647e-02  6.9716e-02  2e-02  3e-16  9e-15\n",
      " 4:  8.1040e-02  7.9229e-02  2e-03  1e-16  2e-15\n",
      " 5:  7.9665e-02  7.9578e-02  9e-05  1e-16  1e-15\n",
      " 6:  7.9600e-02  7.9597e-02  3e-06  2e-16  1e-15\n",
      " 7:  7.9599e-02  7.9599e-02  3e-08  2e-16  9e-16\n",
      "Optimal solution found.\n",
      "     pcost       dcost       gap    pres   dres\n",
      " 0:  8.1307e-02 -1.0499e+00  4e+01  5e+00  7e+00\n",
      " 1:  1.3717e-01 -5.0331e-01  2e+00  1e-01  2e-01\n",
      " 2:  1.0811e-01  8.6551e-03  2e-01  1e-02  1e-02\n",
      " 3:  9.3182e-02  7.3146e-02  2e-02  1e-16  6e-15\n",
      " 4:  8.4612e-02  8.2783e-02  2e-03  2e-16  1e-15\n",
      " 5:  8.3235e-02  8.3145e-02  9e-05  1e-16  1e-15\n",
      " 6:  8.3168e-02  8.3165e-02  2e-06  2e-16  2e-15\n",
      " 7:  8.3167e-02  8.3167e-02  2e-08  1e-16  9e-16\n",
      "Optimal solution found.\n",
      "     pcost       dcost       gap    pres   dres\n",
      " 0:  8.4239e-02 -1.0473e+00  4e+01  5e+00  7e+00\n",
      " 1:  1.3937e-01 -4.9849e-01  2e+00  1e-01  2e-01\n",
      " 2:  1.1048e-01  1.0815e-02  2e-01  1e-02  1e-02\n",
      " 3:  9.6699e-02  7.6568e-02  2e-02  3e-16  6e-15\n",
      " 4:  8.8168e-02  8.6322e-02  2e-03  4e-17  1e-15\n",
      " 5:  8.6792e-02  8.6699e-02  9e-05  2e-16  1e-15\n",
      " 6:  8.6721e-02  8.6719e-02  2e-06  2e-16  9e-16\n",
      " 7:  8.6720e-02  8.6720e-02  2e-08  7e-17  1e-15\n",
      "Optimal solution found.\n",
      "     pcost       dcost       gap    pres   dres\n",
      " 0:  8.7131e-02 -1.0447e+00  4e+01  5e+00  7e+00\n",
      " 1:  1.4155e-01 -4.9374e-01  2e+00  1e-01  2e-01\n",
      " 2:  1.1285e-01  1.3010e-02  2e-01  1e-02  2e-02\n",
      " 3:  1.0020e-01  7.9982e-02  2e-02  5e-16  4e-15\n",
      " 4:  9.1709e-02  8.9848e-02  2e-03  1e-16  1e-15\n",
      " 5:  9.0335e-02  9.0239e-02  1e-04  5e-18  1e-15\n",
      " 6:  9.0261e-02  9.0260e-02  2e-06  2e-16  1e-15\n",
      " 7:  9.0260e-02  9.0260e-02  2e-08  2e-16  1e-15\n",
      "Optimal solution found.\n",
      "     pcost       dcost       gap    pres   dres\n",
      " 0:  8.9984e-02 -1.0421e+00  4e+01  5e+00  7e+00\n",
      " 1:  1.4373e-01 -4.8906e-01  2e+00  1e-01  2e-01\n",
      " 2:  1.1523e-01  1.5235e-02  2e-01  1e-02  2e-02\n",
      " 3:  1.0368e-01  8.3385e-02  2e-02  7e-07  9e-07\n",
      " 4:  9.5237e-02  9.3362e-02  2e-03  2e-08  3e-08\n",
      " 5:  9.3867e-02  9.3768e-02  1e-04  1e-10  1e-10\n",
      " 6:  9.3790e-02  9.3788e-02  2e-06  9e-13  1e-12\n",
      " 7:  9.3789e-02  9.3789e-02  2e-08  9e-15  1e-14\n",
      "Optimal solution found.\n",
      "     pcost       dcost       gap    pres   dres\n",
      " 0:  9.2802e-02 -1.0395e+00  4e+01  5e+00  7e+00\n",
      " 1:  1.4589e-01 -4.8445e-01  2e+00  1e-01  2e-01\n",
      " 2:  1.1762e-01  1.7488e-02  2e-01  1e-02  2e-02\n",
      " 3:  1.0715e-01  8.6703e-02  2e-02  2e-05  2e-05\n",
      " 4:  9.8757e-02  9.6865e-02  2e-03  6e-07  8e-07\n",
      " 5:  9.7387e-02  9.7285e-02  1e-04  3e-09  4e-09\n",
      " 6:  9.7307e-02  9.7305e-02  1e-06  3e-11  3e-11\n",
      " 7:  9.7306e-02  9.7306e-02  1e-08  3e-13  3e-13\n",
      "Optimal solution found.\n",
      "     pcost       dcost       gap    pres   dres\n",
      " 0:  9.5589e-02 -1.0369e+00  4e+01  5e+00  7e+00\n",
      " 1:  1.4804e-01 -4.7990e-01  2e+00  1e-01  2e-01\n",
      " 2:  1.2002e-01  1.9769e-02  2e-01  1e-02  2e-02\n",
      " 3:  1.1060e-01  9.0031e-02  2e-02  3e-05  4e-05\n",
      " 4:  1.0226e-01  1.0036e-01  2e-03  1e-06  1e-06\n",
      " 5:  1.0090e-01  1.0079e-01  1e-04  5e-09  7e-09\n",
      " 6:  1.0081e-01  1.0081e-01  1e-06  5e-11  6e-11\n",
      " 7:  1.0081e-01  1.0081e-01  1e-08  5e-13  6e-13\n",
      "Optimal solution found.\n",
      "     pcost       dcost       gap    pres   dres\n",
      " 0:  9.8346e-02 -1.0343e+00  4e+01  5e+00  7e+00\n",
      " 1:  1.5019e-01 -4.7542e-01  2e+00  1e-01  2e-01\n",
      " 2:  1.2243e-01  2.2073e-02  2e-01  1e-02  2e-02\n",
      " 3:  1.1404e-01  9.3364e-02  2e-02  4e-05  6e-05\n",
      " 4:  1.0576e-01  1.0384e-01  2e-03  1e-06  2e-06\n",
      " 5:  1.0440e-01  1.0429e-01  1e-04  7e-09  1e-08\n",
      " 6:  1.0431e-01  1.0431e-01  1e-06  7e-11  9e-11\n",
      " 7:  1.0431e-01  1.0431e-01  1e-08  7e-13  9e-13\n",
      "Optimal solution found.\n"
     ]
    }
   ],
   "source": [
    "risk_aversion = [ra/2.0 for ra in range(41)]\n",
    "returns = [portfolio(alpha) for alpha in risk_aversion]"
   ]
  },
  {
   "cell_type": "code",
   "execution_count": 13,
   "metadata": {
    "collapsed": false,
    "deletable": true,
    "editable": true,
    "scrolled": true,
    "slideshow": {
     "slide_type": "subslide"
    }
   },
   "outputs": [
    {
     "data": {
      "text/html": [
       "\n",
       "\n",
       "    <div class=\"bk-root\">\n",
       "        <div class=\"bk-plotdiv\" id=\"efd283e8-413b-4210-a298-e229e9458e73\"></div>\n",
       "    </div>\n",
       "<script type=\"text/javascript\">\n",
       "  \n",
       "  (function(global) {\n",
       "    function now() {\n",
       "      return new Date();\n",
       "    }\n",
       "  \n",
       "    var force = false;\n",
       "  \n",
       "    if (typeof (window._bokeh_onload_callbacks) === \"undefined\" || force === true) {\n",
       "      window._bokeh_onload_callbacks = [];\n",
       "      window._bokeh_is_loading = undefined;\n",
       "    }\n",
       "  \n",
       "  \n",
       "    \n",
       "    if (typeof (window._bokeh_timeout) === \"undefined\" || force === true) {\n",
       "      window._bokeh_timeout = Date.now() + 0;\n",
       "      window._bokeh_failed_load = false;\n",
       "    }\n",
       "  \n",
       "    var NB_LOAD_WARNING = {'data': {'text/html':\n",
       "       \"<div style='background-color: #fdd'>\\n\"+\n",
       "       \"<p>\\n\"+\n",
       "       \"BokehJS does not appear to have successfully loaded. If loading BokehJS from CDN, this \\n\"+\n",
       "       \"may be due to a slow or bad network connection. Possible fixes:\\n\"+\n",
       "       \"</p>\\n\"+\n",
       "       \"<ul>\\n\"+\n",
       "       \"<li>re-rerun `output_notebook()` to attempt to load from CDN again, or</li>\\n\"+\n",
       "       \"<li>use INLINE resources instead, as so:</li>\\n\"+\n",
       "       \"</ul>\\n\"+\n",
       "       \"<code>\\n\"+\n",
       "       \"from bokeh.resources import INLINE\\n\"+\n",
       "       \"output_notebook(resources=INLINE)\\n\"+\n",
       "       \"</code>\\n\"+\n",
       "       \"</div>\"}};\n",
       "  \n",
       "    function display_loaded() {\n",
       "      if (window.Bokeh !== undefined) {\n",
       "        document.getElementById(\"efd283e8-413b-4210-a298-e229e9458e73\").textContent = \"BokehJS successfully loaded.\";\n",
       "      } else if (Date.now() < window._bokeh_timeout) {\n",
       "        setTimeout(display_loaded, 100)\n",
       "      }\n",
       "    }\n",
       "  \n",
       "    function run_callbacks() {\n",
       "      window._bokeh_onload_callbacks.forEach(function(callback) { callback() });\n",
       "      delete window._bokeh_onload_callbacks\n",
       "      console.info(\"Bokeh: all callbacks have finished\");\n",
       "    }\n",
       "  \n",
       "    function load_libs(js_urls, callback) {\n",
       "      window._bokeh_onload_callbacks.push(callback);\n",
       "      if (window._bokeh_is_loading > 0) {\n",
       "        console.log(\"Bokeh: BokehJS is being loaded, scheduling callback at\", now());\n",
       "        return null;\n",
       "      }\n",
       "      if (js_urls == null || js_urls.length === 0) {\n",
       "        run_callbacks();\n",
       "        return null;\n",
       "      }\n",
       "      console.log(\"Bokeh: BokehJS not loaded, scheduling load and callback at\", now());\n",
       "      window._bokeh_is_loading = js_urls.length;\n",
       "      for (var i = 0; i < js_urls.length; i++) {\n",
       "        var url = js_urls[i];\n",
       "        var s = document.createElement('script');\n",
       "        s.src = url;\n",
       "        s.async = false;\n",
       "        s.onreadystatechange = s.onload = function() {\n",
       "          window._bokeh_is_loading--;\n",
       "          if (window._bokeh_is_loading === 0) {\n",
       "            console.log(\"Bokeh: all BokehJS libraries loaded\");\n",
       "            run_callbacks()\n",
       "          }\n",
       "        };\n",
       "        s.onerror = function() {\n",
       "          console.warn(\"failed to load library \" + url);\n",
       "        };\n",
       "        console.log(\"Bokeh: injecting script tag for BokehJS library: \", url);\n",
       "        document.getElementsByTagName(\"head\")[0].appendChild(s);\n",
       "      }\n",
       "    };var element = document.getElementById(\"efd283e8-413b-4210-a298-e229e9458e73\");\n",
       "    if (element == null) {\n",
       "      console.log(\"Bokeh: ERROR: autoload.js configured with elementid 'efd283e8-413b-4210-a298-e229e9458e73' but no matching script tag was found. \")\n",
       "      return false;\n",
       "    }\n",
       "  \n",
       "    var js_urls = [];\n",
       "  \n",
       "    var inline_js = [\n",
       "      function(Bokeh) {\n",
       "        (function() {\n",
       "          var fn = function() {\n",
       "            var docs_json = {\"c7b23983-e89c-4fb9-94a8-ea1561e4f022\":{\"roots\":{\"references\":[{\"attributes\":{\"callback\":null,\"column_names\":[\"x_values\",\"y_values\"],\"data\":{\"chart_index\":[null,null,null,null,null,null,null,null,null,null,null,null,null,null,null,null,null,null,null,null,null,null,null,null,null,null,null,null,null,null,null,null,null,null,null,null,null,null,null,null,null],\"x_values\":{\"__ndarray__\":\"AAAAAAAAAAAAAAAAAADgPwAAAAAAAPA/AAAAAAAA+D8AAAAAAAAAQAAAAAAAAARAAAAAAAAACEAAAAAAAAAMQAAAAAAAABBAAAAAAAAAEkAAAAAAAAAUQAAAAAAAABZAAAAAAAAAGEAAAAAAAAAaQAAAAAAAABxAAAAAAAAAHkAAAAAAAAAgQAAAAAAAACFAAAAAAAAAIkAAAAAAAAAjQAAAAAAAACRAAAAAAAAAJUAAAAAAAAAmQAAAAAAAACdAAAAAAAAAKEAAAAAAAAApQAAAAAAAACpAAAAAAAAAK0AAAAAAAAAsQAAAAAAAAC1AAAAAAAAALkAAAAAAAAAvQAAAAAAAADBAAAAAAACAMEAAAAAAAAAxQAAAAAAAgDFAAAAAAAAAMkAAAAAAAIAyQAAAAAAAADNAAAAAAACAM0AAAAAAAAA0QA==\",\"dtype\":\"float64\",\"shape\":[41]},\"y_values\":{\"__ndarray__\":\"4rDpOWld0j/Lcwq9FUDQP4W02Q5FF9A/jgomY30Zyj84+MwYEUfEP5seWGLQyMA/HCpNPUrpvD/5piTVnpW5P3uQZ0/eFrc/vQZYpw8mtT/Qsn+AnZizPzsoJ6FuU7I/6xUZOHJEsT9+tiB5Jl+wP7pZIsQ4Na8/QCy7nI3grT8YSJDCd7asP0u0omZzr6s/7JK/MqjFqj8tpPW5ePSpP6SeZZEzOKk/5fnMotqNqD/TWA6QCfOnP2mj5RGnZac/wKf/Twzkpj/Z4O87zGymP2W4t6CB/qU/9eC8/lCXpT/7z4+JNzalP6qCNsty26Q/Y8LUyLSGpD8Tnu/xXzekP4SP8OgU7aM/jw7cQEanoz8zj1dMkWWjP1KfhfmcJ6M/HGzJiBntoj9ZWKekv7WiP0GgLXBPgaI/z0Ack49Poj/ZwMVqTCCiPw==\",\"dtype\":\"float64\",\"shape\":[41]}}},\"id\":\"dd579e83-adb4-4e95-8ade-e4295b6b63cf\",\"type\":\"ColumnDataSource\"},{\"attributes\":{\"below\":[{\"id\":\"693cc201-4e54-4058-acea-cd3a4327c758\",\"type\":\"LinearAxis\"}],\"css_classes\":null,\"height\":400,\"left\":[{\"id\":\"28b3eb03-2e50-4277-94df-b18a756ff1de\",\"type\":\"LinearAxis\"}],\"renderers\":[{\"id\":\"a194b949-b52b-474f-bb79-a7e9d3f2200a\",\"type\":\"BoxAnnotation\"},{\"id\":\"60cd1e05-6f7f-44cc-b73b-37338ab8d744\",\"type\":\"GlyphRenderer\"},{\"id\":\"cc048cb7-4069-4eeb-a694-0382bebaef05\",\"type\":\"Legend\"},{\"id\":\"693cc201-4e54-4058-acea-cd3a4327c758\",\"type\":\"LinearAxis\"},{\"id\":\"28b3eb03-2e50-4277-94df-b18a756ff1de\",\"type\":\"LinearAxis\"},{\"id\":\"4bac6367-174b-4aae-886d-5b0243e5cc2d\",\"type\":\"Grid\"},{\"id\":\"62bdf236-52c1-4aa1-92ed-0620c436bd76\",\"type\":\"Grid\"}],\"title\":{\"id\":\"112c30d0-bae2-400f-9fb9-638567d08e9b\",\"type\":\"Title\"},\"tool_events\":{\"id\":\"145fdb0d-937e-4a4b-be47-50ebc4331e05\",\"type\":\"ToolEvents\"},\"toolbar\":{\"id\":\"0760e899-90fa-4c22-8d6c-82da9d9c2ee7\",\"type\":\"Toolbar\"},\"width\":750,\"x_mapper_type\":\"auto\",\"x_range\":{\"id\":\"04f7b31b-46e0-4c08-976e-e32eedf04baa\",\"type\":\"Range1d\"},\"y_mapper_type\":\"auto\",\"y_range\":{\"id\":\"b326797a-faa6-474b-bbc4-2907b48a7f02\",\"type\":\"Range1d\"}},\"id\":\"b39f03e2-8904-4dbf-bc19-10db54729500\",\"subtype\":\"Chart\",\"type\":\"Plot\"},{\"attributes\":{},\"id\":\"145fdb0d-937e-4a4b-be47-50ebc4331e05\",\"type\":\"ToolEvents\"},{\"attributes\":{\"location\":\"top_left\",\"plot\":{\"id\":\"b39f03e2-8904-4dbf-bc19-10db54729500\",\"subtype\":\"Chart\",\"type\":\"Plot\"}},\"id\":\"cc048cb7-4069-4eeb-a694-0382bebaef05\",\"type\":\"Legend\"},{\"attributes\":{\"axis_label\":\"expected return\",\"formatter\":{\"id\":\"153395af-4291-474e-ace8-ecdd5cbd285a\",\"type\":\"BasicTickFormatter\"},\"plot\":{\"id\":\"b39f03e2-8904-4dbf-bc19-10db54729500\",\"subtype\":\"Chart\",\"type\":\"Plot\"},\"ticker\":{\"id\":\"a3491891-1980-4fed-a327-ee62e769e05c\",\"type\":\"BasicTicker\"}},\"id\":\"28b3eb03-2e50-4277-94df-b18a756ff1de\",\"type\":\"LinearAxis\"},{\"attributes\":{\"callback\":null,\"end\":0.3121062263562203,\"start\":0.010247799092838194},\"id\":\"b326797a-faa6-474b-bbc4-2907b48a7f02\",\"type\":\"Range1d\"},{\"attributes\":{\"bottom_units\":\"screen\",\"fill_alpha\":{\"value\":0.5},\"fill_color\":{\"value\":\"lightgrey\"},\"left_units\":\"screen\",\"level\":\"overlay\",\"line_alpha\":{\"value\":1.0},\"line_color\":{\"value\":\"black\"},\"line_dash\":[4,4],\"line_width\":{\"value\":2},\"plot\":null,\"render_mode\":\"css\",\"right_units\":\"screen\",\"top_units\":\"screen\"},\"id\":\"a194b949-b52b-474f-bb79-a7e9d3f2200a\",\"type\":\"BoxAnnotation\"},{\"attributes\":{},\"id\":\"35039a52-a4c0-4472-b4d2-545115920dc1\",\"type\":\"BasicTicker\"},{\"attributes\":{\"active_drag\":\"auto\",\"active_scroll\":\"auto\",\"active_tap\":\"auto\",\"tools\":[{\"id\":\"80f50477-f35b-432b-99e2-b7ec1f79ce60\",\"type\":\"PanTool\"},{\"id\":\"7e787031-085d-4573-8ba8-9b3089cf2a64\",\"type\":\"WheelZoomTool\"},{\"id\":\"1da1f6ba-4db5-4935-8fed-2498337cf8c1\",\"type\":\"BoxZoomTool\"},{\"id\":\"aa10e984-8f59-428f-8fb7-8e926d9a4030\",\"type\":\"SaveTool\"},{\"id\":\"acb73b25-39ea-4657-922c-206120bf0c72\",\"type\":\"ResetTool\"},{\"id\":\"cdd09946-6449-45ec-9834-f3639adb9431\",\"type\":\"HelpTool\"}]},\"id\":\"0760e899-90fa-4c22-8d6c-82da9d9c2ee7\",\"type\":\"Toolbar\"},{\"attributes\":{},\"id\":\"9f8166a7-4a17-4bf5-b1f8-65a9c494e66b\",\"type\":\"BasicTickFormatter\"},{\"attributes\":{\"plot\":{\"id\":\"b39f03e2-8904-4dbf-bc19-10db54729500\",\"subtype\":\"Chart\",\"type\":\"Plot\"},\"ticker\":{\"id\":\"35039a52-a4c0-4472-b4d2-545115920dc1\",\"type\":\"BasicTicker\"}},\"id\":\"4bac6367-174b-4aae-886d-5b0243e5cc2d\",\"type\":\"Grid\"},{\"attributes\":{},\"id\":\"a3491891-1980-4fed-a327-ee62e769e05c\",\"type\":\"BasicTicker\"},{\"attributes\":{\"dimension\":1,\"plot\":{\"id\":\"b39f03e2-8904-4dbf-bc19-10db54729500\",\"subtype\":\"Chart\",\"type\":\"Plot\"},\"ticker\":{\"id\":\"a3491891-1980-4fed-a327-ee62e769e05c\",\"type\":\"BasicTicker\"}},\"id\":\"62bdf236-52c1-4aa1-92ed-0620c436bd76\",\"type\":\"Grid\"},{\"attributes\":{\"data_source\":{\"id\":\"dd579e83-adb4-4e95-8ade-e4295b6b63cf\",\"type\":\"ColumnDataSource\"},\"glyph\":{\"id\":\"f7909b81-a339-4585-9e11-dea08f9f874f\",\"type\":\"Line\"},\"hover_glyph\":null,\"nonselection_glyph\":null,\"selection_glyph\":null},\"id\":\"60cd1e05-6f7f-44cc-b73b-37338ab8d744\",\"type\":\"GlyphRenderer\"},{\"attributes\":{\"plot\":null,\"text\":null},\"id\":\"112c30d0-bae2-400f-9fb9-638567d08e9b\",\"type\":\"Title\"},{\"attributes\":{\"plot\":{\"id\":\"b39f03e2-8904-4dbf-bc19-10db54729500\",\"subtype\":\"Chart\",\"type\":\"Plot\"}},\"id\":\"80f50477-f35b-432b-99e2-b7ec1f79ce60\",\"type\":\"PanTool\"},{\"attributes\":{},\"id\":\"153395af-4291-474e-ace8-ecdd5cbd285a\",\"type\":\"BasicTickFormatter\"},{\"attributes\":{\"line_color\":{\"value\":\"#f22c40\"},\"line_width\":{\"value\":2},\"x\":{\"field\":\"x_values\"},\"y\":{\"field\":\"y_values\"}},\"id\":\"f7909b81-a339-4585-9e11-dea08f9f874f\",\"type\":\"Line\"},{\"attributes\":{\"plot\":{\"id\":\"b39f03e2-8904-4dbf-bc19-10db54729500\",\"subtype\":\"Chart\",\"type\":\"Plot\"}},\"id\":\"cdd09946-6449-45ec-9834-f3639adb9431\",\"type\":\"HelpTool\"},{\"attributes\":{\"callback\":null,\"end\":22.0,\"start\":-2.0},\"id\":\"04f7b31b-46e0-4c08-976e-e32eedf04baa\",\"type\":\"Range1d\"},{\"attributes\":{\"plot\":{\"id\":\"b39f03e2-8904-4dbf-bc19-10db54729500\",\"subtype\":\"Chart\",\"type\":\"Plot\"}},\"id\":\"acb73b25-39ea-4657-922c-206120bf0c72\",\"type\":\"ResetTool\"},{\"attributes\":{\"plot\":{\"id\":\"b39f03e2-8904-4dbf-bc19-10db54729500\",\"subtype\":\"Chart\",\"type\":\"Plot\"}},\"id\":\"aa10e984-8f59-428f-8fb7-8e926d9a4030\",\"type\":\"SaveTool\"},{\"attributes\":{\"overlay\":{\"id\":\"a194b949-b52b-474f-bb79-a7e9d3f2200a\",\"type\":\"BoxAnnotation\"},\"plot\":{\"id\":\"b39f03e2-8904-4dbf-bc19-10db54729500\",\"subtype\":\"Chart\",\"type\":\"Plot\"}},\"id\":\"1da1f6ba-4db5-4935-8fed-2498337cf8c1\",\"type\":\"BoxZoomTool\"},{\"attributes\":{\"axis_label\":\"risk aversion\",\"formatter\":{\"id\":\"9f8166a7-4a17-4bf5-b1f8-65a9c494e66b\",\"type\":\"BasicTickFormatter\"},\"plot\":{\"id\":\"b39f03e2-8904-4dbf-bc19-10db54729500\",\"subtype\":\"Chart\",\"type\":\"Plot\"},\"ticker\":{\"id\":\"35039a52-a4c0-4472-b4d2-545115920dc1\",\"type\":\"BasicTicker\"}},\"id\":\"693cc201-4e54-4058-acea-cd3a4327c758\",\"type\":\"LinearAxis\"},{\"attributes\":{\"plot\":{\"id\":\"b39f03e2-8904-4dbf-bc19-10db54729500\",\"subtype\":\"Chart\",\"type\":\"Plot\"}},\"id\":\"7e787031-085d-4573-8ba8-9b3089cf2a64\",\"type\":\"WheelZoomTool\"}],\"root_ids\":[\"b39f03e2-8904-4dbf-bc19-10db54729500\"]},\"title\":\"Bokeh Application\",\"version\":\"0.12.4\"}};\n",
       "            var render_items = [{\"docid\":\"c7b23983-e89c-4fb9-94a8-ea1561e4f022\",\"elementid\":\"efd283e8-413b-4210-a298-e229e9458e73\",\"modelid\":\"b39f03e2-8904-4dbf-bc19-10db54729500\"}];\n",
       "            \n",
       "            Bokeh.embed.embed_items(docs_json, render_items);\n",
       "          };\n",
       "          if (document.readyState != \"loading\") fn();\n",
       "          else document.addEventListener(\"DOMContentLoaded\", fn);\n",
       "        })();\n",
       "      },\n",
       "      function(Bokeh) {\n",
       "      }\n",
       "    ];\n",
       "  \n",
       "    function run_inline_js() {\n",
       "      \n",
       "      if ((window.Bokeh !== undefined) || (force === true)) {\n",
       "        for (var i = 0; i < inline_js.length; i++) {\n",
       "          inline_js[i](window.Bokeh);\n",
       "        }if (force === true) {\n",
       "          display_loaded();\n",
       "        }} else if (Date.now() < window._bokeh_timeout) {\n",
       "        setTimeout(run_inline_js, 100);\n",
       "      } else if (!window._bokeh_failed_load) {\n",
       "        console.log(\"Bokeh: BokehJS failed to load within specified timeout.\");\n",
       "        window._bokeh_failed_load = true;\n",
       "      } else if (force !== true) {\n",
       "        var cell = $(document.getElementById(\"efd283e8-413b-4210-a298-e229e9458e73\")).parents('.cell').data().cell;\n",
       "        cell.output_area.append_execute_result(NB_LOAD_WARNING)\n",
       "      }\n",
       "  \n",
       "    }\n",
       "  \n",
       "    if (window._bokeh_is_loading === 0) {\n",
       "      console.log(\"Bokeh: BokehJS loaded, going straight to plotting\");\n",
       "      run_inline_js();\n",
       "    } else {\n",
       "      load_libs(js_urls, function() {\n",
       "        console.log(\"Bokeh: BokehJS plotting callback run at\", now());\n",
       "        run_inline_js();\n",
       "      });\n",
       "    }\n",
       "  }(this));\n",
       "</script>"
      ]
     },
     "metadata": {},
     "output_type": "display_data"
    }
   ],
   "source": [
    "show(Line(\n",
    "    {'risk aversion': risk_aversion, 'expected return': returns}, \n",
    "    x='risk aversion', \n",
    "    y='expected return', \n",
    "    width=750, \n",
    "    height=400\n",
    "))"
   ]
  },
  {
   "cell_type": "markdown",
   "metadata": {
    "deletable": true,
    "editable": true,
    "slideshow": {
     "slide_type": "slide"
    }
   },
   "source": [
    "## Support Vector Machines\n",
    "\n",
    "We want to draw a line that separates two sets with as little misclassification as possible."
   ]
  },
  {
   "cell_type": "markdown",
   "metadata": {
    "deletable": true,
    "editable": true,
    "slideshow": {
     "slide_type": "subslide"
    }
   },
   "source": [
    "If $f(x) \\le 5$, the point is of type $-1$, otherwise it is type $+1$.\n",
    "\n",
    "$$f(x) = (x_1 + \\epsilon_1) - (x_2+ \\epsilon_2)$$  \n",
    "  \n",
    "$$\\epsilon_i \\sim N\\left(0, 1.25^2\\right)\\ \\forall\\ i \\in {1, 2}$$\n"
   ]
  },
  {
   "cell_type": "code",
   "execution_count": 14,
   "metadata": {
    "collapsed": false,
    "deletable": true,
    "editable": true,
    "slideshow": {
     "slide_type": "subslide"
    }
   },
   "outputs": [],
   "source": [
    "x1 = [random.uniform(0, 10) for _ in range(150)]\n",
    "x2 = [random.uniform(0, 10) for _ in range(150)]\n",
    "\n",
    "y = []\n",
    "for xi_1, xi_2 in zip(x1, x2):\n",
    "    eps_1 = random.normalvariate(0, 1.25)\n",
    "    eps_2 = random.normalvariate(0, 1.25)\n",
    "    \n",
    "    if (xi_1 + eps_1) - (xi_2 + eps_2) <= 5:\n",
    "        y.append(-1)\n",
    "    else:\n",
    "        y.append(+1)\n",
    "        \n",
    "X = np.array(list(zip(x1, x2)))\n",
    "y = np.array(y)"
   ]
  },
  {
   "cell_type": "code",
   "execution_count": 15,
   "metadata": {
    "collapsed": false,
    "deletable": true,
    "editable": true,
    "scrolled": false,
    "slideshow": {
     "slide_type": "subslide"
    }
   },
   "outputs": [
    {
     "data": {
      "text/html": [
       "\n",
       "\n",
       "    <div class=\"bk-root\">\n",
       "        <div class=\"bk-plotdiv\" id=\"11811dc7-a1e6-41a2-88f4-bf533da3934f\"></div>\n",
       "    </div>\n",
       "<script type=\"text/javascript\">\n",
       "  \n",
       "  (function(global) {\n",
       "    function now() {\n",
       "      return new Date();\n",
       "    }\n",
       "  \n",
       "    var force = false;\n",
       "  \n",
       "    if (typeof (window._bokeh_onload_callbacks) === \"undefined\" || force === true) {\n",
       "      window._bokeh_onload_callbacks = [];\n",
       "      window._bokeh_is_loading = undefined;\n",
       "    }\n",
       "  \n",
       "  \n",
       "    \n",
       "    if (typeof (window._bokeh_timeout) === \"undefined\" || force === true) {\n",
       "      window._bokeh_timeout = Date.now() + 0;\n",
       "      window._bokeh_failed_load = false;\n",
       "    }\n",
       "  \n",
       "    var NB_LOAD_WARNING = {'data': {'text/html':\n",
       "       \"<div style='background-color: #fdd'>\\n\"+\n",
       "       \"<p>\\n\"+\n",
       "       \"BokehJS does not appear to have successfully loaded. If loading BokehJS from CDN, this \\n\"+\n",
       "       \"may be due to a slow or bad network connection. Possible fixes:\\n\"+\n",
       "       \"</p>\\n\"+\n",
       "       \"<ul>\\n\"+\n",
       "       \"<li>re-rerun `output_notebook()` to attempt to load from CDN again, or</li>\\n\"+\n",
       "       \"<li>use INLINE resources instead, as so:</li>\\n\"+\n",
       "       \"</ul>\\n\"+\n",
       "       \"<code>\\n\"+\n",
       "       \"from bokeh.resources import INLINE\\n\"+\n",
       "       \"output_notebook(resources=INLINE)\\n\"+\n",
       "       \"</code>\\n\"+\n",
       "       \"</div>\"}};\n",
       "  \n",
       "    function display_loaded() {\n",
       "      if (window.Bokeh !== undefined) {\n",
       "        document.getElementById(\"11811dc7-a1e6-41a2-88f4-bf533da3934f\").textContent = \"BokehJS successfully loaded.\";\n",
       "      } else if (Date.now() < window._bokeh_timeout) {\n",
       "        setTimeout(display_loaded, 100)\n",
       "      }\n",
       "    }\n",
       "  \n",
       "    function run_callbacks() {\n",
       "      window._bokeh_onload_callbacks.forEach(function(callback) { callback() });\n",
       "      delete window._bokeh_onload_callbacks\n",
       "      console.info(\"Bokeh: all callbacks have finished\");\n",
       "    }\n",
       "  \n",
       "    function load_libs(js_urls, callback) {\n",
       "      window._bokeh_onload_callbacks.push(callback);\n",
       "      if (window._bokeh_is_loading > 0) {\n",
       "        console.log(\"Bokeh: BokehJS is being loaded, scheduling callback at\", now());\n",
       "        return null;\n",
       "      }\n",
       "      if (js_urls == null || js_urls.length === 0) {\n",
       "        run_callbacks();\n",
       "        return null;\n",
       "      }\n",
       "      console.log(\"Bokeh: BokehJS not loaded, scheduling load and callback at\", now());\n",
       "      window._bokeh_is_loading = js_urls.length;\n",
       "      for (var i = 0; i < js_urls.length; i++) {\n",
       "        var url = js_urls[i];\n",
       "        var s = document.createElement('script');\n",
       "        s.src = url;\n",
       "        s.async = false;\n",
       "        s.onreadystatechange = s.onload = function() {\n",
       "          window._bokeh_is_loading--;\n",
       "          if (window._bokeh_is_loading === 0) {\n",
       "            console.log(\"Bokeh: all BokehJS libraries loaded\");\n",
       "            run_callbacks()\n",
       "          }\n",
       "        };\n",
       "        s.onerror = function() {\n",
       "          console.warn(\"failed to load library \" + url);\n",
       "        };\n",
       "        console.log(\"Bokeh: injecting script tag for BokehJS library: \", url);\n",
       "        document.getElementsByTagName(\"head\")[0].appendChild(s);\n",
       "      }\n",
       "    };var element = document.getElementById(\"11811dc7-a1e6-41a2-88f4-bf533da3934f\");\n",
       "    if (element == null) {\n",
       "      console.log(\"Bokeh: ERROR: autoload.js configured with elementid '11811dc7-a1e6-41a2-88f4-bf533da3934f' but no matching script tag was found. \")\n",
       "      return false;\n",
       "    }\n",
       "  \n",
       "    var js_urls = [];\n",
       "  \n",
       "    var inline_js = [\n",
       "      function(Bokeh) {\n",
       "        (function() {\n",
       "          var fn = function() {\n",
       "            var docs_json = {\"fd4c6890-f235-4792-9962-962a94384829\":{\"roots\":{\"references\":[{\"attributes\":{\"label\":{\"value\":\"1\"},\"renderers\":[{\"id\":\"a8b13e10-bef5-488e-9f36-483ea9ee9eaf\",\"type\":\"GlyphRenderer\"}]},\"id\":\"5800876b-cce6-4776-8245-f8acbdbbd676\",\"type\":\"LegendItem\"},{\"attributes\":{\"items\":[{\"id\":\"43e4b0b9-4e33-412e-b67b-555a0d75bd09\",\"type\":\"LegendItem\"},{\"id\":\"5800876b-cce6-4776-8245-f8acbdbbd676\",\"type\":\"LegendItem\"}],\"location\":\"top_left\",\"plot\":{\"id\":\"c1b8f7de-fd13-460e-b2f3-36406e99724c\",\"subtype\":\"Chart\",\"type\":\"Plot\"}},\"id\":\"2b16fbe0-d2eb-4176-9bbe-7ff29ceda76a\",\"type\":\"Legend\"},{\"attributes\":{\"fill_alpha\":{\"value\":0.7},\"fill_color\":{\"value\":\"orange\"},\"line_color\":{\"value\":\"orange\"},\"size\":{\"units\":\"screen\",\"value\":8},\"x\":{\"field\":\"x_values\"},\"y\":{\"field\":\"y_values\"}},\"id\":\"b6d153e4-1cd2-4d18-9ecf-1ca2cb385156\",\"type\":\"Square\"},{\"attributes\":{\"callback\":null,\"end\":10.89932850171301,\"start\":-0.9881206624090173},\"id\":\"cdcca5f1-7df5-4651-8e65-a2083303b26a\",\"type\":\"Range1d\"},{\"attributes\":{\"plot\":{\"id\":\"c1b8f7de-fd13-460e-b2f3-36406e99724c\",\"subtype\":\"Chart\",\"type\":\"Plot\"}},\"id\":\"fba7ee05-9bc1-4d18-a724-14796a873eb1\",\"type\":\"PanTool\"},{\"attributes\":{\"overlay\":{\"id\":\"eb5f6a2c-0334-40d6-a796-db0005cd300a\",\"type\":\"BoxAnnotation\"},\"plot\":{\"id\":\"c1b8f7de-fd13-460e-b2f3-36406e99724c\",\"subtype\":\"Chart\",\"type\":\"Plot\"}},\"id\":\"1af9401a-9fb3-45e8-a34f-875e943087ee\",\"type\":\"BoxZoomTool\"},{\"attributes\":{},\"id\":\"f2079219-6572-4bc3-8e07-629030f1af30\",\"type\":\"ToolEvents\"},{\"attributes\":{\"plot\":{\"id\":\"c1b8f7de-fd13-460e-b2f3-36406e99724c\",\"subtype\":\"Chart\",\"type\":\"Plot\"},\"ticker\":{\"id\":\"0e9e5469-04a6-4814-a3ab-0ca14c4f6770\",\"type\":\"BasicTicker\"}},\"id\":\"e87fe12f-4f86-4445-8af0-83fae3593642\",\"type\":\"Grid\"},{\"attributes\":{\"below\":[{\"id\":\"bd2d8069-675a-42de-ae63-65856f9786ea\",\"type\":\"LinearAxis\"}],\"css_classes\":null,\"height\":500,\"left\":[{\"id\":\"67afa28b-82d9-4aa4-81ce-1267f3268e50\",\"type\":\"LinearAxis\"}],\"renderers\":[{\"id\":\"eb5f6a2c-0334-40d6-a796-db0005cd300a\",\"type\":\"BoxAnnotation\"},{\"id\":\"fd95ab53-cd6c-46d2-9f0f-1aad62978dc9\",\"type\":\"GlyphRenderer\"},{\"id\":\"a8b13e10-bef5-488e-9f36-483ea9ee9eaf\",\"type\":\"GlyphRenderer\"},{\"id\":\"2b16fbe0-d2eb-4176-9bbe-7ff29ceda76a\",\"type\":\"Legend\"},{\"id\":\"bd2d8069-675a-42de-ae63-65856f9786ea\",\"type\":\"LinearAxis\"},{\"id\":\"67afa28b-82d9-4aa4-81ce-1267f3268e50\",\"type\":\"LinearAxis\"},{\"id\":\"e87fe12f-4f86-4445-8af0-83fae3593642\",\"type\":\"Grid\"},{\"id\":\"ee4d4e0e-0a5c-4a00-996d-4df43c38cbd1\",\"type\":\"Grid\"}],\"title\":{\"id\":\"ddfb97e6-847a-4bf4-a549-0a046bdf742a\",\"type\":\"Title\"},\"tool_events\":{\"id\":\"f2079219-6572-4bc3-8e07-629030f1af30\",\"type\":\"ToolEvents\"},\"toolbar\":{\"id\":\"1404a34e-3ae5-49c4-8b8c-8d39e8dfaf03\",\"type\":\"Toolbar\"},\"width\":500,\"x_mapper_type\":\"auto\",\"x_range\":{\"id\":\"2ec2d799-2948-43b9-bac4-b567337c3d41\",\"type\":\"Range1d\"},\"y_mapper_type\":\"auto\",\"y_range\":{\"id\":\"cdcca5f1-7df5-4651-8e65-a2083303b26a\",\"type\":\"Range1d\"}},\"id\":\"c1b8f7de-fd13-460e-b2f3-36406e99724c\",\"subtype\":\"Chart\",\"type\":\"Plot\"},{\"attributes\":{\"callback\":null,\"end\":10.948300922074747,\"start\":-0.9212677615230811},\"id\":\"2ec2d799-2948-43b9-bac4-b567337c3d41\",\"type\":\"Range1d\"},{\"attributes\":{},\"id\":\"2f7a5963-885e-43dd-93ff-6832e0897e70\",\"type\":\"BasicTicker\"},{\"attributes\":{\"fill_alpha\":{\"value\":0.7},\"fill_color\":{\"value\":\"lightblue\"},\"line_color\":{\"value\":\"lightblue\"},\"size\":{\"units\":\"screen\",\"value\":8},\"x\":{\"field\":\"x_values\"},\"y\":{\"field\":\"y_values\"}},\"id\":\"39fd551c-7094-4dc4-8623-52862e3cbf36\",\"type\":\"Circle\"},{\"attributes\":{\"label\":{\"value\":\"-1\"},\"renderers\":[{\"id\":\"fd95ab53-cd6c-46d2-9f0f-1aad62978dc9\",\"type\":\"GlyphRenderer\"}]},\"id\":\"43e4b0b9-4e33-412e-b67b-555a0d75bd09\",\"type\":\"LegendItem\"},{\"attributes\":{\"plot\":{\"id\":\"c1b8f7de-fd13-460e-b2f3-36406e99724c\",\"subtype\":\"Chart\",\"type\":\"Plot\"}},\"id\":\"8fb345d7-a30b-492d-a86d-fdcd479d2395\",\"type\":\"WheelZoomTool\"},{\"attributes\":{\"dimension\":1,\"plot\":{\"id\":\"c1b8f7de-fd13-460e-b2f3-36406e99724c\",\"subtype\":\"Chart\",\"type\":\"Plot\"},\"ticker\":{\"id\":\"2f7a5963-885e-43dd-93ff-6832e0897e70\",\"type\":\"BasicTicker\"}},\"id\":\"ee4d4e0e-0a5c-4a00-996d-4df43c38cbd1\",\"type\":\"Grid\"},{\"attributes\":{\"bottom_units\":\"screen\",\"fill_alpha\":{\"value\":0.5},\"fill_color\":{\"value\":\"lightgrey\"},\"left_units\":\"screen\",\"level\":\"overlay\",\"line_alpha\":{\"value\":1.0},\"line_color\":{\"value\":\"black\"},\"line_dash\":[4,4],\"line_width\":{\"value\":2},\"plot\":null,\"render_mode\":\"css\",\"right_units\":\"screen\",\"top_units\":\"screen\"},\"id\":\"eb5f6a2c-0334-40d6-a796-db0005cd300a\",\"type\":\"BoxAnnotation\"},{\"attributes\":{\"plot\":{\"id\":\"c1b8f7de-fd13-460e-b2f3-36406e99724c\",\"subtype\":\"Chart\",\"type\":\"Plot\"}},\"id\":\"d8085be9-46f8-4484-a08d-523927381feb\",\"type\":\"HelpTool\"},{\"attributes\":{\"plot\":null,\"text\":null},\"id\":\"ddfb97e6-847a-4bf4-a549-0a046bdf742a\",\"type\":\"Title\"},{\"attributes\":{},\"id\":\"7190093a-f3cb-4623-91c1-6bb14903f247\",\"type\":\"BasicTickFormatter\"},{\"attributes\":{},\"id\":\"0e9e5469-04a6-4814-a3ab-0ca14c4f6770\",\"type\":\"BasicTicker\"},{\"attributes\":{\"plot\":{\"id\":\"c1b8f7de-fd13-460e-b2f3-36406e99724c\",\"subtype\":\"Chart\",\"type\":\"Plot\"}},\"id\":\"02e26c60-ec04-475e-90f5-0875756fb8e7\",\"type\":\"SaveTool\"},{\"attributes\":{\"callback\":null,\"column_names\":[\"x_values\",\"y_values\"],\"data\":{\"chart_index\":[{\"y\":1},{\"y\":1},{\"y\":1},{\"y\":1},{\"y\":1},{\"y\":1},{\"y\":1},{\"y\":1},{\"y\":1},{\"y\":1},{\"y\":1},{\"y\":1},{\"y\":1},{\"y\":1},{\"y\":1},{\"y\":1},{\"y\":1},{\"y\":1}],\"x_values\":{\"__ndarray__\":\"vAwNKY6XIEB2VYMVxu4iQLZozuKLwSBAZo+ndSMGIUAuyl3yUCshQG7Dp345GRNAmqY/FgHEF0AiQB5AlWohQCAgFETM6BVAVLzgmTUFFkABjfEk/LYjQBQ+gganGSNAN0yEjze8GkD0CSzU4IkQQAGXZFOzgCFAdvvp6uRSIEDAaUxwR7IiQDU6PqBXxB5A\",\"dtype\":\"float64\",\"shape\":[18]},\"y\":[1,1,1,1,1,1,1,1,1,1,1,1,1,1,1,1,1,1],\"y_values\":{\"__ndarray__\":\"/BBABQMHFkBGvoBL+xrkP15+NgYAius//E/lEKnhC0AvjmRJvasCQJTQbrN88No/N/C5vrA3/T+3ai4RvKj7P6+o15KJtvs/XDOn1ziA/z/W4yODdWIFQNIUU5m/qARAEKy6Z1y1BEDc4DvpNJbWP5u8c5iv1hFAAIu32yF9jz9E/ncTS6ruP9oSDjBmAOk/\",\"dtype\":\"float64\",\"shape\":[18]}}},\"id\":\"f4dae141-ee34-496a-acfc-76eb098a61c8\",\"type\":\"ColumnDataSource\"},{\"attributes\":{},\"id\":\"8656b071-0fb8-46ef-b21d-0b63a525892b\",\"type\":\"BasicTickFormatter\"},{\"attributes\":{\"callback\":null,\"column_names\":[\"x_values\",\"y_values\"],\"data\":{\"chart_index\":[{\"y\":-1},{\"y\":-1},{\"y\":-1},{\"y\":-1},{\"y\":-1},{\"y\":-1},{\"y\":-1},{\"y\":-1},{\"y\":-1},{\"y\":-1},{\"y\":-1},{\"y\":-1},{\"y\":-1},{\"y\":-1},{\"y\":-1},{\"y\":-1},{\"y\":-1},{\"y\":-1},{\"y\":-1},{\"y\":-1},{\"y\":-1},{\"y\":-1},{\"y\":-1},{\"y\":-1},{\"y\":-1},{\"y\":-1},{\"y\":-1},{\"y\":-1},{\"y\":-1},{\"y\":-1},{\"y\":-1},{\"y\":-1},{\"y\":-1},{\"y\":-1},{\"y\":-1},{\"y\":-1},{\"y\":-1},{\"y\":-1},{\"y\":-1},{\"y\":-1},{\"y\":-1},{\"y\":-1},{\"y\":-1},{\"y\":-1},{\"y\":-1},{\"y\":-1},{\"y\":-1},{\"y\":-1},{\"y\":-1},{\"y\":-1},{\"y\":-1},{\"y\":-1},{\"y\":-1},{\"y\":-1},{\"y\":-1},{\"y\":-1},{\"y\":-1},{\"y\":-1},{\"y\":-1},{\"y\":-1},{\"y\":-1},{\"y\":-1},{\"y\":-1},{\"y\":-1},{\"y\":-1},{\"y\":-1},{\"y\":-1},{\"y\":-1},{\"y\":-1},{\"y\":-1},{\"y\":-1},{\"y\":-1},{\"y\":-1},{\"y\":-1},{\"y\":-1},{\"y\":-1},{\"y\":-1},{\"y\":-1},{\"y\":-1},{\"y\":-1},{\"y\":-1},{\"y\":-1},{\"y\":-1},{\"y\":-1},{\"y\":-1},{\"y\":-1},{\"y\":-1},{\"y\":-1},{\"y\":-1},{\"y\":-1},{\"y\":-1},{\"y\":-1},{\"y\":-1},{\"y\":-1},{\"y\":-1},{\"y\":-1},{\"y\":-1},{\"y\":-1},{\"y\":-1},{\"y\":-1},{\"y\":-1},{\"y\":-1},{\"y\":-1},{\"y\":-1},{\"y\":-1},{\"y\":-1},{\"y\":-1},{\"y\":-1},{\"y\":-1},{\"y\":-1},{\"y\":-1},{\"y\":-1},{\"y\":-1},{\"y\":-1},{\"y\":-1},{\"y\":-1},{\"y\":-1},{\"y\":-1},{\"y\":-1},{\"y\":-1},{\"y\":-1},{\"y\":-1},{\"y\":-1},{\"y\":-1},{\"y\":-1},{\"y\":-1},{\"y\":-1},{\"y\":-1},{\"y\":-1},{\"y\":-1},{\"y\":-1},{\"y\":-1}],\"x_values\":{\"__ndarray__\":\"zl4pLURa6j/ZjdfRl1b1P5OvnwXu5xRAvvNEkio/HEA2Jt6PuKcQQPq+oL3SIQlADWFTnnQL+z+ANIUkBxsdQFDcWPGj0+E/ufpJvvyo8T+L6iEpWXQhQEyHSXsjlwhAujFzcygVG0BUy9IFhDwFQG6jWaAWlg1A9qKwkPP4EkBufjhh90btP/Aen3nzgMg/XsP40brdBECZdiU6rq3xP2OrSu6gZCNANm/Wa8uoGEAAnT8DlMIMQAAhU7FK9cc/tIDEXSC6FEDGxLivuRr1P/plS27MnwhALO1iqSp6AEBwWN+Sd1+xPzhuNsbURNE/FZcempJjA0Bk3Qd5wngZQDWv9A/GzyNAuC+oG6OM1T8919lJ5AT2P0HuQQlDGvQ/eVMqzreKEUAA6QcK6wEKQPzZm9JoKR1AsuJHyBzzHUBhCkSYLnAUQNlj9vYSSRRABG0XuuPpFUB6wcf1t3EgQPAj8iqT0NA/KJ+uD9Rx+z8dTSQs8ocGQAzxLaK9Ix1AumEI15ETHkBjri7cdUUhQOVOKi/SZ/8/FM11ZQBSGUAQ4EbZZt8XQL7/4bPM6hRAWz+aXQ73IEDSQZbB/qj0P0SbR+ARCeU/bmcCRZB9GkAHnZ53lGoTQO5fjF0EnAZAQUPCuFmiGEBYQ7RT9OcJQArYS4QWcxJAUDpxFxHi/D/uiJ7NwcD8P5j9NwBebs8/IIr3ImpqCUBAoa76iTv5P1jbwpSVnwlA+rqSH4Yb6j8aXBgTVR8iQEky05z9t/M/1nZNG0THIUDzBx/8q4cKQKKCmFGTnyFA9g/UCyUMGECSCXNGNwAbQJ4rEWIObxpAw4oK9Vm8EEDwQDvJE+K/P1FZjudXmBdAPw4DXLUEI0DUoLaF8nIEQDuPxue9nQdAlzzk05j/B0D9AqSmqFYAQLKZmbGldg1A0gcbIc12CUBcT9vgBpMJQMoNwjdInBNAOnqCy3h1DkA6KuSQzsEFQGxwXeBIDiNA8BUJH90Q0T/ibHC54qgEQIih5XTDb9s/dk+FPPUTI0B4r+5V3TQiQJItemmmZhVADjYjZ32/EkCupnwpiUIXQJj8/J+POhBAwiZE4DzP/T/XLovighsaQK1esCt/ZBpAfjUzWxjrI0BVYe1whuLzP2n21kY91BxAZ+STK+G2FkB697Gg11EeQMAlpo8IcwBADODKscq+DkDgiGBPmlzoP12fKJOduiNAJFnGuEbyG0D+LBiqi6odQEkV+Hpbmw5AEqse0ria4j8SykJ566fgP5T8rYcbbBZA2kHrqEcRIUARmHPnQcYSQCynN/S7mQJAJfsSgirGIkA5+3PPzEMNQBykXR+MXhVAVeF0TfYXDECL4bsNIx8UQBfr5i3AYyNAQrguyN08DEAXgi16CoT3P61Ex5cSaPE/\",\"dtype\":\"float64\",\"shape\":[132]},\"y\":[-1,-1,-1,-1,-1,-1,-1,-1,-1,-1,-1,-1,-1,-1,-1,-1,-1,-1,-1,-1,-1,-1,-1,-1,-1,-1,-1,-1,-1,-1,-1,-1,-1,-1,-1,-1,-1,-1,-1,-1,-1,-1,-1,-1,-1,-1,-1,-1,-1,-1,-1,-1,-1,-1,-1,-1,-1,-1,-1,-1,-1,-1,-1,-1,-1,-1,-1,-1,-1,-1,-1,-1,-1,-1,-1,-1,-1,-1,-1,-1,-1,-1,-1,-1,-1,-1,-1,-1,-1,-1,-1,-1,-1,-1,-1,-1,-1,-1,-1,-1,-1,-1,-1,-1,-1,-1,-1,-1,-1,-1,-1,-1,-1,-1,-1,-1,-1,-1,-1,-1,-1,-1,-1,-1,-1,-1,-1,-1,-1,-1,-1,-1],\"y_values\":{\"__ndarray__\":\"SLwzg3g6AkAWRgjh+ysgQOXWMvMeFxlAcxji6n1iIUATa3pIAiojQDUk0DJ/xRJAO4n8kWugFUCsboqEa5kgQIgNPVyvC8Y/BhcX407mCkCpKqZP+SEbQGPi6b0exyJAQsy7NI5eH0Dseec/r6EHQDb15aEW1xpAMBJslB1oI0Cu5xMgyWUQQPpVQ/sIpP4/prAEr23yDECAu0KGK6uwP7M/yD/atCJAv+WHXnygFUCE5zXBDg3jPwjyHMpnMBFAgexdz8CRHEDjUZRmsrMiQAh9Sf5ddA9AGmfVtl927D/t9DPP7xEeQKDmOmmcpeA/AK7SpRd7ZD94kEBMW+IXQEbJwKAYOyFAFrF9ANTfIED8htUvGa4eQIUxRsJVFyFAwj/0vf9kGkC4goDpqVkcQGUq71vOaSFAZX6hJRLUEEBHOiGEf48WQIFpGZhkixVAIMOB0WKRGkD8NWy/KOIJQO47T701vRxAmPbcCbCTBECEkDqUqRoKQM4Og8Fkq/Q/eFyD7z1ZG0D9VBJhGQkXQIi0XzMnWwRAoGBLKMZMFECAscWX2KrQP11a8xmMC/I/mKhK24BoGkCTvLi1Iu4WQBBYethr/tY/rSXQWa8LG0CzHPuAvb8TQLFuG1y0GBNAsGNW829OHEBQ7E/8vWMjQMA3QSvITfI/caZB90zQEECTcgCAt3wdQA4j/48dAhxAkD8BWQopwT+m/ecc9aoNQEQHQoUGjQtA1b2lDAAtBUCtYRXSB7AhQK203g4BmyNAOQONMtGJF0D7FwgwTIkGQIo8DFk4FRVAufLyIidZIkAj0yTEMWv/P1hMuvwH6tE/hnOIw1YLF0Cb+7Khf4f3P/JKAWT7RCJAhdrzB6gLDkCaBtS0TvgfQA/ZgCjiVRNANcUt6ueN8z8k5JnxglrmP2itkd5URg1AsbPExZ3cDUDW/1Ri2OkJQLB6KTh+RPA/2DnnV7lmFkBMG0dvElQcQP5wZ2NwmR9APOA2reilDUCRRHcuTtMCQCqME9x8ahdA0tueepwSEUADHFjZFD4XQHh+96+oBQBAw/0DtwkQCkAt6Bkq9G0HQG4NKxnASxtAeqPSyeewFkBOBH+2B6UVQJr5ACRC0SNA6KWAjv6kIkBQhLeNpm7yP885kNAy0xZAryj87GzCGUAli3vlFkEjQK4dyNOi5xdAysgNX/p6GEBsSvza1z8dQDYDRCqOVR1AuTZHbKO2IkCZoDRNdScgQHbqxtmuYBlAzFaddJ0JD0DYC5QElV8GQNRr4zkFhwZAalx9ZzSaHEB0JobDlWwBQAIIQNiXjhFAcBMx7XuyCEBSKfm6MA4QQHttveI4MBdAh8GDd6ZpGUCbU37G55DyPykruKhZNhlAAKpVTH4r9D9HjrrUTiQZQN5BvWPKWBBA\",\"dtype\":\"float64\",\"shape\":[132]}}},\"id\":\"d887404d-e691-43d4-a1ce-b5fb6feed8cc\",\"type\":\"ColumnDataSource\"},{\"attributes\":{\"axis_label\":\"x1\",\"formatter\":{\"id\":\"7190093a-f3cb-4623-91c1-6bb14903f247\",\"type\":\"BasicTickFormatter\"},\"plot\":{\"id\":\"c1b8f7de-fd13-460e-b2f3-36406e99724c\",\"subtype\":\"Chart\",\"type\":\"Plot\"},\"ticker\":{\"id\":\"0e9e5469-04a6-4814-a3ab-0ca14c4f6770\",\"type\":\"BasicTicker\"}},\"id\":\"bd2d8069-675a-42de-ae63-65856f9786ea\",\"type\":\"LinearAxis\"},{\"attributes\":{\"data_source\":{\"id\":\"d887404d-e691-43d4-a1ce-b5fb6feed8cc\",\"type\":\"ColumnDataSource\"},\"glyph\":{\"id\":\"39fd551c-7094-4dc4-8623-52862e3cbf36\",\"type\":\"Circle\"},\"hover_glyph\":null,\"nonselection_glyph\":null,\"selection_glyph\":null},\"id\":\"fd95ab53-cd6c-46d2-9f0f-1aad62978dc9\",\"type\":\"GlyphRenderer\"},{\"attributes\":{\"axis_label\":\"x2\",\"formatter\":{\"id\":\"8656b071-0fb8-46ef-b21d-0b63a525892b\",\"type\":\"BasicTickFormatter\"},\"plot\":{\"id\":\"c1b8f7de-fd13-460e-b2f3-36406e99724c\",\"subtype\":\"Chart\",\"type\":\"Plot\"},\"ticker\":{\"id\":\"2f7a5963-885e-43dd-93ff-6832e0897e70\",\"type\":\"BasicTicker\"}},\"id\":\"67afa28b-82d9-4aa4-81ce-1267f3268e50\",\"type\":\"LinearAxis\"},{\"attributes\":{\"active_drag\":\"auto\",\"active_scroll\":\"auto\",\"active_tap\":\"auto\",\"tools\":[{\"id\":\"fba7ee05-9bc1-4d18-a724-14796a873eb1\",\"type\":\"PanTool\"},{\"id\":\"8fb345d7-a30b-492d-a86d-fdcd479d2395\",\"type\":\"WheelZoomTool\"},{\"id\":\"1af9401a-9fb3-45e8-a34f-875e943087ee\",\"type\":\"BoxZoomTool\"},{\"id\":\"02e26c60-ec04-475e-90f5-0875756fb8e7\",\"type\":\"SaveTool\"},{\"id\":\"69a16545-3d3d-4249-9fe9-6c877b386c4f\",\"type\":\"ResetTool\"},{\"id\":\"d8085be9-46f8-4484-a08d-523927381feb\",\"type\":\"HelpTool\"}]},\"id\":\"1404a34e-3ae5-49c4-8b8c-8d39e8dfaf03\",\"type\":\"Toolbar\"},{\"attributes\":{\"data_source\":{\"id\":\"f4dae141-ee34-496a-acfc-76eb098a61c8\",\"type\":\"ColumnDataSource\"},\"glyph\":{\"id\":\"b6d153e4-1cd2-4d18-9ecf-1ca2cb385156\",\"type\":\"Square\"},\"hover_glyph\":null,\"nonselection_glyph\":null,\"selection_glyph\":null},\"id\":\"a8b13e10-bef5-488e-9f36-483ea9ee9eaf\",\"type\":\"GlyphRenderer\"},{\"attributes\":{\"plot\":{\"id\":\"c1b8f7de-fd13-460e-b2f3-36406e99724c\",\"subtype\":\"Chart\",\"type\":\"Plot\"}},\"id\":\"69a16545-3d3d-4249-9fe9-6c877b386c4f\",\"type\":\"ResetTool\"}],\"root_ids\":[\"c1b8f7de-fd13-460e-b2f3-36406e99724c\"]},\"title\":\"Bokeh Application\",\"version\":\"0.12.4\"}};\n",
       "            var render_items = [{\"docid\":\"fd4c6890-f235-4792-9962-962a94384829\",\"elementid\":\"11811dc7-a1e6-41a2-88f4-bf533da3934f\",\"modelid\":\"c1b8f7de-fd13-460e-b2f3-36406e99724c\"}];\n",
       "            \n",
       "            Bokeh.embed.embed_items(docs_json, render_items);\n",
       "          };\n",
       "          if (document.readyState != \"loading\") fn();\n",
       "          else document.addEventListener(\"DOMContentLoaded\", fn);\n",
       "        })();\n",
       "      },\n",
       "      function(Bokeh) {\n",
       "      }\n",
       "    ];\n",
       "  \n",
       "    function run_inline_js() {\n",
       "      \n",
       "      if ((window.Bokeh !== undefined) || (force === true)) {\n",
       "        for (var i = 0; i < inline_js.length; i++) {\n",
       "          inline_js[i](window.Bokeh);\n",
       "        }if (force === true) {\n",
       "          display_loaded();\n",
       "        }} else if (Date.now() < window._bokeh_timeout) {\n",
       "        setTimeout(run_inline_js, 100);\n",
       "      } else if (!window._bokeh_failed_load) {\n",
       "        console.log(\"Bokeh: BokehJS failed to load within specified timeout.\");\n",
       "        window._bokeh_failed_load = true;\n",
       "      } else if (force !== true) {\n",
       "        var cell = $(document.getElementById(\"11811dc7-a1e6-41a2-88f4-bf533da3934f\")).parents('.cell').data().cell;\n",
       "        cell.output_area.append_execute_result(NB_LOAD_WARNING)\n",
       "      }\n",
       "  \n",
       "    }\n",
       "  \n",
       "    if (window._bokeh_is_loading === 0) {\n",
       "      console.log(\"Bokeh: BokehJS loaded, going straight to plotting\");\n",
       "      run_inline_js();\n",
       "    } else {\n",
       "      load_libs(js_urls, function() {\n",
       "        console.log(\"Bokeh: BokehJS plotting callback run at\", now());\n",
       "        run_inline_js();\n",
       "      });\n",
       "    }\n",
       "  }(this));\n",
       "</script>"
      ]
     },
     "metadata": {},
     "output_type": "display_data"
    }
   ],
   "source": [
    "show(Scatter(\n",
    "    {'x1': x1, 'x2': x2, 'y': y}, \n",
    "    x='x1', y='x2', color='y', marker='y', palette=['lightblue', 'orange'],\n",
    "    width=500, height=500\n",
    "))"
   ]
  },
  {
   "cell_type": "markdown",
   "metadata": {
    "deletable": true,
    "editable": true,
    "slideshow": {
     "slide_type": "slide"
    }
   },
   "source": [
    "### Support Vector Machines a la `scikit-learn`"
   ]
  },
  {
   "cell_type": "code",
   "execution_count": 16,
   "metadata": {
    "collapsed": false,
    "deletable": true,
    "editable": true,
    "scrolled": true,
    "slideshow": {
     "slide_type": "subslide"
    }
   },
   "outputs": [
    {
     "data": {
      "text/plain": [
       "SVC(C=1.0, cache_size=200, class_weight=None, coef0=0.0,\n",
       "  decision_function_shape=None, degree=3, gamma='auto', kernel='linear',\n",
       "  max_iter=-1, probability=False, random_state=None, shrinking=True,\n",
       "  tol=0.001, verbose=False)"
      ]
     },
     "execution_count": 16,
     "metadata": {},
     "output_type": "execute_result"
    }
   ],
   "source": [
    "from sklearn import svm\n",
    "clf = svm.SVC(kernel='linear')\n",
    "clf.fit(X, y)"
   ]
  },
  {
   "cell_type": "markdown",
   "metadata": {
    "deletable": true,
    "editable": true,
    "slideshow": {
     "slide_type": "subslide"
    }
   },
   "source": [
    "The SVM coefficients give us a separating hyperplane with minimum classification error.\n",
    "\n",
    "$$b + w'x = 0$$"
   ]
  },
  {
   "cell_type": "code",
   "execution_count": 17,
   "metadata": {
    "collapsed": false,
    "deletable": true,
    "editable": true,
    "slideshow": {
     "slide_type": "fragment"
    }
   },
   "outputs": [
    {
     "name": "stdout",
     "output_type": "stream",
     "text": [
      "b = -2.86459350499\n",
      "w = [ 0.53492583 -0.52691936]\n"
     ]
    }
   ],
   "source": [
    "print('b =', clf.intercept_[0])\n",
    "print('w =', clf.coef_[0])"
   ]
  },
  {
   "cell_type": "markdown",
   "metadata": {
    "deletable": true,
    "editable": true,
    "slideshow": {
     "slide_type": "subslide"
    }
   },
   "source": [
    "We classify a point $x = (x_1, x_2)'$ based on which side of that hyperplane it is on.  \n",
    "  \n",
    "\n",
    "$$b + w'x \\ge 0\\ \\rightarrow\\ \\text{Type +1}$$  \n",
    "$$b + w'x < 0\\ \\rightarrow\\ \\text{Type -1}$$ "
   ]
  },
  {
   "cell_type": "code",
   "execution_count": 18,
   "metadata": {
    "collapsed": false,
    "deletable": true,
    "editable": true,
    "slideshow": {
     "slide_type": "fragment"
    }
   },
   "outputs": [
    {
     "name": "stdout",
     "output_type": "stream",
     "text": [
      "confusion matrix:\n"
     ]
    },
    {
     "data": {
      "text/plain": [
       "array([[127,   5],\n",
       "       [  9,   9]])"
      ]
     },
     "execution_count": 18,
     "metadata": {},
     "output_type": "execute_result"
    }
   ],
   "source": [
    "from sklearn import metrics\n",
    "\n",
    "y_hat = clf.predict(X)\n",
    "\n",
    "print('confusion matrix:')\n",
    "metrics.confusion_matrix(y_true=y, y_pred=y_hat)"
   ]
  },
  {
   "cell_type": "code",
   "execution_count": 19,
   "metadata": {
    "collapsed": false,
    "deletable": true,
    "editable": true,
    "slideshow": {
     "slide_type": "subslide"
    }
   },
   "outputs": [],
   "source": [
    "# We need a function to plot classifications and the separating hyperplane.\n",
    "def plot_svm_results(correct, b_val, w1_val, w2_val):\n",
    "    # Classifications\n",
    "    plot = Scatter(\n",
    "        {'x1': x1, 'x2': x2, 'y': y, 'correct': correct}, \n",
    "        x='x1', y='x2', \n",
    "        color='correct', palette=['lightgrey', 'darkred'], marker='correct',\n",
    "        width=500, height=500\n",
    "    )\n",
    "\n",
    "    # Separating hyperplane: x2 = -(b + (w1*x1)) / w2\n",
    "    hyperplane_x1 = np.linspace(0, 10)\n",
    "    hyperplane_x2 = [\n",
    "        -(b_val + (w1_val * x1_i)) / w2_val for x1_i in hyperplane_x1\n",
    "    ]\n",
    "    plot.line(hyperplane_x1, hyperplane_x2, color='darkblue')\n",
    "    show(plot)"
   ]
  },
  {
   "cell_type": "markdown",
   "metadata": {
    "deletable": true,
    "editable": true,
    "slideshow": {
     "slide_type": "subslide"
    }
   },
   "source": [
    "How'd scikit-learn do?"
   ]
  },
  {
   "cell_type": "code",
   "execution_count": 20,
   "metadata": {
    "collapsed": false,
    "deletable": true,
    "editable": true,
    "slideshow": {
     "slide_type": "-"
    }
   },
   "outputs": [
    {
     "data": {
      "text/html": [
       "\n",
       "\n",
       "    <div class=\"bk-root\">\n",
       "        <div class=\"bk-plotdiv\" id=\"95446b5b-06d1-40ce-8a43-66ec81bcbf5c\"></div>\n",
       "    </div>\n",
       "<script type=\"text/javascript\">\n",
       "  \n",
       "  (function(global) {\n",
       "    function now() {\n",
       "      return new Date();\n",
       "    }\n",
       "  \n",
       "    var force = false;\n",
       "  \n",
       "    if (typeof (window._bokeh_onload_callbacks) === \"undefined\" || force === true) {\n",
       "      window._bokeh_onload_callbacks = [];\n",
       "      window._bokeh_is_loading = undefined;\n",
       "    }\n",
       "  \n",
       "  \n",
       "    \n",
       "    if (typeof (window._bokeh_timeout) === \"undefined\" || force === true) {\n",
       "      window._bokeh_timeout = Date.now() + 0;\n",
       "      window._bokeh_failed_load = false;\n",
       "    }\n",
       "  \n",
       "    var NB_LOAD_WARNING = {'data': {'text/html':\n",
       "       \"<div style='background-color: #fdd'>\\n\"+\n",
       "       \"<p>\\n\"+\n",
       "       \"BokehJS does not appear to have successfully loaded. If loading BokehJS from CDN, this \\n\"+\n",
       "       \"may be due to a slow or bad network connection. Possible fixes:\\n\"+\n",
       "       \"</p>\\n\"+\n",
       "       \"<ul>\\n\"+\n",
       "       \"<li>re-rerun `output_notebook()` to attempt to load from CDN again, or</li>\\n\"+\n",
       "       \"<li>use INLINE resources instead, as so:</li>\\n\"+\n",
       "       \"</ul>\\n\"+\n",
       "       \"<code>\\n\"+\n",
       "       \"from bokeh.resources import INLINE\\n\"+\n",
       "       \"output_notebook(resources=INLINE)\\n\"+\n",
       "       \"</code>\\n\"+\n",
       "       \"</div>\"}};\n",
       "  \n",
       "    function display_loaded() {\n",
       "      if (window.Bokeh !== undefined) {\n",
       "        document.getElementById(\"95446b5b-06d1-40ce-8a43-66ec81bcbf5c\").textContent = \"BokehJS successfully loaded.\";\n",
       "      } else if (Date.now() < window._bokeh_timeout) {\n",
       "        setTimeout(display_loaded, 100)\n",
       "      }\n",
       "    }\n",
       "  \n",
       "    function run_callbacks() {\n",
       "      window._bokeh_onload_callbacks.forEach(function(callback) { callback() });\n",
       "      delete window._bokeh_onload_callbacks\n",
       "      console.info(\"Bokeh: all callbacks have finished\");\n",
       "    }\n",
       "  \n",
       "    function load_libs(js_urls, callback) {\n",
       "      window._bokeh_onload_callbacks.push(callback);\n",
       "      if (window._bokeh_is_loading > 0) {\n",
       "        console.log(\"Bokeh: BokehJS is being loaded, scheduling callback at\", now());\n",
       "        return null;\n",
       "      }\n",
       "      if (js_urls == null || js_urls.length === 0) {\n",
       "        run_callbacks();\n",
       "        return null;\n",
       "      }\n",
       "      console.log(\"Bokeh: BokehJS not loaded, scheduling load and callback at\", now());\n",
       "      window._bokeh_is_loading = js_urls.length;\n",
       "      for (var i = 0; i < js_urls.length; i++) {\n",
       "        var url = js_urls[i];\n",
       "        var s = document.createElement('script');\n",
       "        s.src = url;\n",
       "        s.async = false;\n",
       "        s.onreadystatechange = s.onload = function() {\n",
       "          window._bokeh_is_loading--;\n",
       "          if (window._bokeh_is_loading === 0) {\n",
       "            console.log(\"Bokeh: all BokehJS libraries loaded\");\n",
       "            run_callbacks()\n",
       "          }\n",
       "        };\n",
       "        s.onerror = function() {\n",
       "          console.warn(\"failed to load library \" + url);\n",
       "        };\n",
       "        console.log(\"Bokeh: injecting script tag for BokehJS library: \", url);\n",
       "        document.getElementsByTagName(\"head\")[0].appendChild(s);\n",
       "      }\n",
       "    };var element = document.getElementById(\"95446b5b-06d1-40ce-8a43-66ec81bcbf5c\");\n",
       "    if (element == null) {\n",
       "      console.log(\"Bokeh: ERROR: autoload.js configured with elementid '95446b5b-06d1-40ce-8a43-66ec81bcbf5c' but no matching script tag was found. \")\n",
       "      return false;\n",
       "    }\n",
       "  \n",
       "    var js_urls = [];\n",
       "  \n",
       "    var inline_js = [\n",
       "      function(Bokeh) {\n",
       "        (function() {\n",
       "          var fn = function() {\n",
       "            var docs_json = {\"c0fadb24-9467-466d-b095-85b4dafcfa42\":{\"roots\":{\"references\":[{\"attributes\":{\"data_source\":{\"id\":\"a2b51c67-3389-4668-b793-2ad05f941189\",\"type\":\"ColumnDataSource\"},\"glyph\":{\"id\":\"ea4a7614-04df-43e7-8d81-9c9dffa0dcac\",\"type\":\"Line\"},\"hover_glyph\":null,\"nonselection_glyph\":{\"id\":\"dbfff6ca-e713-4b0c-8191-7706dbaa6140\",\"type\":\"Line\"},\"selection_glyph\":null},\"id\":\"b2a4bd3e-40d0-4977-87ab-a1d48675f24f\",\"type\":\"GlyphRenderer\"},{\"attributes\":{\"callback\":null,\"column_names\":[\"x\",\"y\"],\"data\":{\"x\":{\"__ndarray__\":\"AAAAAAAAAACIxvrQWB/KP4jG+tBYH9o/5hS8nIKX4z+IxvrQWB/qPxW8nIKXU/A/5hS8nIKX8z+3bdu2bdv2P4jG+tBYH/o/WR8a60Nj/T8VvJyCl1MAQH5orA+N9QFA5hS8nIKXA0BOwcspeDkFQLdt27Zt2wZAIBrrQ2N9CECIxvrQWB8KQPByCl5OwQtAWR8a60NjDUDCyyl4OQUPQBW8nIKXUxBASZIkSZIkEUB+aKwPjfURQLI+NNaHxhJA5hS8nIKXE0Aa60NjfWgUQE7Byyl4ORVAg5dT8HIKFkC3bdu2bdsWQOtDY31orBdAIBrrQ2N9GEBU8HIKXk4ZQIjG+tBYHxpAvJyCl1PwGkDwcgpeTsEbQCVJkiRJkhxAWR8a60NjHUCN9aGxPjQeQMLLKXg5BR9A9qGxPjTWH0AVvJyCl1MgQC+n4OUUvCBASZIkSZIkIUBjfWisD40hQH5orA+N9SFAmFPwcgpeIkCyPjTWh8YiQMwpeDkFLyNA5hS8nIKXI0AAAAAAAAAkQA==\",\"dtype\":\"float64\",\"shape\":[50]},\"y\":[-5.436493221300785,-5.229310594035054,-5.022127966769323,-4.814945339503591,-4.607762712237859,-4.400580084972127,-4.1933974577063955,-3.986214830440664,-3.779032203174933,-3.571849575909201,-3.3646669486434693,-3.157484321377738,-2.950301694112006,-2.743119066846275,-2.535936439580543,-2.3287538123148113,-2.12157118504908,-1.9143885577833486,-1.7072059305176166,-1.5000233032518846,-1.2928406759861533,-1.0856580487204226,-0.8784754214546903,-0.6712927941889587,-0.46411016692322726,-0.25692753965749576,-0.049744912391764304,0.15743771487396802,0.3646203421396995,0.5718029694054302,0.7789855966711625,0.986168223936894,1.1933508512026254,1.400533478468357,1.6077161057340885,1.8148987329998207,2.022081360265552,2.229263987531283,2.436446614797016,2.6436292420627474,2.850811869328479,3.0579944965942087,3.26517712385994,3.472359751125672,3.679542378391405,3.8867250056571363,4.093907632922868,4.301090260188599,4.508272887454331,4.7154555147200625]}},\"id\":\"a2b51c67-3389-4668-b793-2ad05f941189\",\"type\":\"ColumnDataSource\"},{\"attributes\":{\"plot\":{\"id\":\"343c18c8-7416-4bf5-b471-686002e35d5b\",\"subtype\":\"Chart\",\"type\":\"Plot\"},\"ticker\":{\"id\":\"20847ed1-7520-46bf-be75-9f4a34e263fa\",\"type\":\"BasicTicker\"}},\"id\":\"509f779a-bb9f-41eb-a0c2-ce35372b69e6\",\"type\":\"Grid\"},{\"attributes\":{\"active_drag\":\"auto\",\"active_scroll\":\"auto\",\"active_tap\":\"auto\",\"tools\":[{\"id\":\"42f125aa-9124-4f05-aee8-eeef32207f80\",\"type\":\"PanTool\"},{\"id\":\"f483a700-1b2d-4e50-a387-bb42eb1907e9\",\"type\":\"WheelZoomTool\"},{\"id\":\"8443f6f1-c5cf-4941-8d69-c7dd4467a73e\",\"type\":\"BoxZoomTool\"},{\"id\":\"390a536f-1e37-4e8b-950f-4fbbe5be4a9f\",\"type\":\"SaveTool\"},{\"id\":\"2af30950-d68f-41a6-a967-89424b37df90\",\"type\":\"ResetTool\"},{\"id\":\"315a5187-fd63-4f79-ac6e-bb5b15d61e56\",\"type\":\"HelpTool\"}]},\"id\":\"44c529fa-583a-4b64-936a-ce9bbe44c92b\",\"type\":\"Toolbar\"},{\"attributes\":{\"overlay\":{\"id\":\"e699a1bf-e087-4ee8-a304-fbdc8af12ee2\",\"type\":\"BoxAnnotation\"},\"plot\":{\"id\":\"343c18c8-7416-4bf5-b471-686002e35d5b\",\"subtype\":\"Chart\",\"type\":\"Plot\"}},\"id\":\"8443f6f1-c5cf-4941-8d69-c7dd4467a73e\",\"type\":\"BoxZoomTool\"},{\"attributes\":{},\"id\":\"20847ed1-7520-46bf-be75-9f4a34e263fa\",\"type\":\"BasicTicker\"},{\"attributes\":{\"plot\":null,\"text\":null},\"id\":\"b5dbfd16-2ca6-427b-9c90-0885f26e435b\",\"type\":\"Title\"},{\"attributes\":{\"plot\":{\"id\":\"343c18c8-7416-4bf5-b471-686002e35d5b\",\"subtype\":\"Chart\",\"type\":\"Plot\"}},\"id\":\"2af30950-d68f-41a6-a967-89424b37df90\",\"type\":\"ResetTool\"},{\"attributes\":{\"fill_alpha\":{\"value\":0.7},\"fill_color\":{\"value\":\"lightgrey\"},\"line_color\":{\"value\":\"lightgrey\"},\"size\":{\"units\":\"screen\",\"value\":8},\"x\":{\"field\":\"x_values\"},\"y\":{\"field\":\"y_values\"}},\"id\":\"f5f7e3ef-ded4-4eb2-8aa8-2862b489e05e\",\"type\":\"Circle\"},{\"attributes\":{\"items\":[{\"id\":\"c5c67e54-f150-4a85-bdd4-043913b82d0c\",\"type\":\"LegendItem\"},{\"id\":\"ed45abf2-7bc5-416d-855b-90d773076670\",\"type\":\"LegendItem\"}],\"location\":\"top_left\",\"plot\":{\"id\":\"343c18c8-7416-4bf5-b471-686002e35d5b\",\"subtype\":\"Chart\",\"type\":\"Plot\"}},\"id\":\"e514bce6-0de8-4a44-9dbd-59d1fd2d1b71\",\"type\":\"Legend\"},{\"attributes\":{},\"id\":\"c230f3ae-6392-4bdd-a098-eb78f4056e20\",\"type\":\"BasicTicker\"},{\"attributes\":{\"plot\":{\"id\":\"343c18c8-7416-4bf5-b471-686002e35d5b\",\"subtype\":\"Chart\",\"type\":\"Plot\"}},\"id\":\"315a5187-fd63-4f79-ac6e-bb5b15d61e56\",\"type\":\"HelpTool\"},{\"attributes\":{\"plot\":{\"id\":\"343c18c8-7416-4bf5-b471-686002e35d5b\",\"subtype\":\"Chart\",\"type\":\"Plot\"}},\"id\":\"390a536f-1e37-4e8b-950f-4fbbe5be4a9f\",\"type\":\"SaveTool\"},{\"attributes\":{\"callback\":null,\"column_names\":[\"x_values\",\"y_values\"],\"data\":{\"chart_index\":[{\"correct\":\"Incorrect\"},{\"correct\":\"Incorrect\"},{\"correct\":\"Incorrect\"},{\"correct\":\"Incorrect\"},{\"correct\":\"Incorrect\"},{\"correct\":\"Incorrect\"},{\"correct\":\"Incorrect\"},{\"correct\":\"Incorrect\"},{\"correct\":\"Incorrect\"},{\"correct\":\"Incorrect\"},{\"correct\":\"Incorrect\"},{\"correct\":\"Incorrect\"},{\"correct\":\"Incorrect\"},{\"correct\":\"Incorrect\"}],\"correct\":[\"Incorrect\",\"Incorrect\",\"Incorrect\",\"Incorrect\",\"Incorrect\",\"Incorrect\",\"Incorrect\",\"Incorrect\",\"Incorrect\",\"Incorrect\",\"Incorrect\",\"Incorrect\",\"Incorrect\",\"Incorrect\"],\"x_values\":{\"__ndarray__\":\"vAwNKY6XIEBmj6d1IwYhQG7Dp345GRNADPEtor0jHUAQ4EbZZt8XQJqmPxYBxBdAICAURMzoFUCeKxFiDm8aQFS84Jk1BRZAPw4DXLUEI0A3TISPN7waQPQJLNTgiRBAAZdkU7OAIUAl+xKCKsYiQA==\",\"dtype\":\"float64\",\"shape\":[14]},\"y_values\":{\"__ndarray__\":\"/BBABQMHFkD8T+UQqeELQJTQbrN88No/zg6DwWSr9D+AscWX2KrQPzfwub6wN/0/r6jXkom2+z9YTLr8B+rRP1wzp9c4gP8/hdrzB6gLDkAQrLpnXLUEQNzgO+k0ltY/m7xzmK/WEUBwEzHte7IIQA==\",\"dtype\":\"float64\",\"shape\":[14]}}},\"id\":\"1f84a9a0-9dc6-4941-b3d4-8a56fd68237c\",\"type\":\"ColumnDataSource\"},{\"attributes\":{\"axis_label\":\"x1\",\"formatter\":{\"id\":\"b6a24bbe-3a62-47ac-a8c7-f41f77836b1f\",\"type\":\"BasicTickFormatter\"},\"plot\":{\"id\":\"343c18c8-7416-4bf5-b471-686002e35d5b\",\"subtype\":\"Chart\",\"type\":\"Plot\"},\"ticker\":{\"id\":\"20847ed1-7520-46bf-be75-9f4a34e263fa\",\"type\":\"BasicTicker\"}},\"id\":\"d7608e33-8bbb-4a40-a80e-1d59651b9d73\",\"type\":\"LinearAxis\"},{\"attributes\":{\"below\":[{\"id\":\"d7608e33-8bbb-4a40-a80e-1d59651b9d73\",\"type\":\"LinearAxis\"}],\"css_classes\":null,\"height\":500,\"left\":[{\"id\":\"5322b2e1-ee87-4667-ab8f-9af01fff588b\",\"type\":\"LinearAxis\"}],\"renderers\":[{\"id\":\"e699a1bf-e087-4ee8-a304-fbdc8af12ee2\",\"type\":\"BoxAnnotation\"},{\"id\":\"9aee3054-457e-4aaa-8b5c-74994fdf27e1\",\"type\":\"GlyphRenderer\"},{\"id\":\"7a862113-b420-467b-9b5a-5af5319bfff3\",\"type\":\"GlyphRenderer\"},{\"id\":\"e514bce6-0de8-4a44-9dbd-59d1fd2d1b71\",\"type\":\"Legend\"},{\"id\":\"d7608e33-8bbb-4a40-a80e-1d59651b9d73\",\"type\":\"LinearAxis\"},{\"id\":\"5322b2e1-ee87-4667-ab8f-9af01fff588b\",\"type\":\"LinearAxis\"},{\"id\":\"509f779a-bb9f-41eb-a0c2-ce35372b69e6\",\"type\":\"Grid\"},{\"id\":\"7b9720c0-8355-4c20-b4ac-429fe49fc29c\",\"type\":\"Grid\"},{\"id\":\"b2a4bd3e-40d0-4977-87ab-a1d48675f24f\",\"type\":\"GlyphRenderer\"}],\"title\":{\"id\":\"b5dbfd16-2ca6-427b-9c90-0885f26e435b\",\"type\":\"Title\"},\"tool_events\":{\"id\":\"c6115d36-10be-40e0-875f-36b72b34ef4d\",\"type\":\"ToolEvents\"},\"toolbar\":{\"id\":\"44c529fa-583a-4b64-936a-ce9bbe44c92b\",\"type\":\"Toolbar\"},\"width\":500,\"x_mapper_type\":\"auto\",\"x_range\":{\"id\":\"65210d00-9f86-4527-ba8e-52efb5914791\",\"type\":\"Range1d\"},\"y_mapper_type\":\"auto\",\"y_range\":{\"id\":\"01f1f2f3-d27f-4580-9ab0-888d7acaba92\",\"type\":\"Range1d\"}},\"id\":\"343c18c8-7416-4bf5-b471-686002e35d5b\",\"subtype\":\"Chart\",\"type\":\"Plot\"},{\"attributes\":{\"plot\":{\"id\":\"343c18c8-7416-4bf5-b471-686002e35d5b\",\"subtype\":\"Chart\",\"type\":\"Plot\"}},\"id\":\"42f125aa-9124-4f05-aee8-eeef32207f80\",\"type\":\"PanTool\"},{\"attributes\":{\"callback\":null,\"end\":10.948300922074747,\"start\":-0.9212677615230811},\"id\":\"65210d00-9f86-4527-ba8e-52efb5914791\",\"type\":\"Range1d\"},{\"attributes\":{\"bottom_units\":\"screen\",\"fill_alpha\":{\"value\":0.5},\"fill_color\":{\"value\":\"lightgrey\"},\"left_units\":\"screen\",\"level\":\"overlay\",\"line_alpha\":{\"value\":1.0},\"line_color\":{\"value\":\"black\"},\"line_dash\":[4,4],\"line_width\":{\"value\":2},\"plot\":null,\"render_mode\":\"css\",\"right_units\":\"screen\",\"top_units\":\"screen\"},\"id\":\"e699a1bf-e087-4ee8-a304-fbdc8af12ee2\",\"type\":\"BoxAnnotation\"},{\"attributes\":{\"line_alpha\":{\"value\":0.1},\"line_color\":{\"value\":\"#1f77b4\"},\"x\":{\"field\":\"x\"},\"y\":{\"field\":\"y\"}},\"id\":\"dbfff6ca-e713-4b0c-8191-7706dbaa6140\",\"type\":\"Line\"},{\"attributes\":{\"callback\":null,\"column_names\":[\"x_values\",\"y_values\"],\"data\":{\"chart_index\":[{\"correct\":\"Correct\"},{\"correct\":\"Correct\"},{\"correct\":\"Correct\"},{\"correct\":\"Correct\"},{\"correct\":\"Correct\"},{\"correct\":\"Correct\"},{\"correct\":\"Correct\"},{\"correct\":\"Correct\"},{\"correct\":\"Correct\"},{\"correct\":\"Correct\"},{\"correct\":\"Correct\"},{\"correct\":\"Correct\"},{\"correct\":\"Correct\"},{\"correct\":\"Correct\"},{\"correct\":\"Correct\"},{\"correct\":\"Correct\"},{\"correct\":\"Correct\"},{\"correct\":\"Correct\"},{\"correct\":\"Correct\"},{\"correct\":\"Correct\"},{\"correct\":\"Correct\"},{\"correct\":\"Correct\"},{\"correct\":\"Correct\"},{\"correct\":\"Correct\"},{\"correct\":\"Correct\"},{\"correct\":\"Correct\"},{\"correct\":\"Correct\"},{\"correct\":\"Correct\"},{\"correct\":\"Correct\"},{\"correct\":\"Correct\"},{\"correct\":\"Correct\"},{\"correct\":\"Correct\"},{\"correct\":\"Correct\"},{\"correct\":\"Correct\"},{\"correct\":\"Correct\"},{\"correct\":\"Correct\"},{\"correct\":\"Correct\"},{\"correct\":\"Correct\"},{\"correct\":\"Correct\"},{\"correct\":\"Correct\"},{\"correct\":\"Correct\"},{\"correct\":\"Correct\"},{\"correct\":\"Correct\"},{\"correct\":\"Correct\"},{\"correct\":\"Correct\"},{\"correct\":\"Correct\"},{\"correct\":\"Correct\"},{\"correct\":\"Correct\"},{\"correct\":\"Correct\"},{\"correct\":\"Correct\"},{\"correct\":\"Correct\"},{\"correct\":\"Correct\"},{\"correct\":\"Correct\"},{\"correct\":\"Correct\"},{\"correct\":\"Correct\"},{\"correct\":\"Correct\"},{\"correct\":\"Correct\"},{\"correct\":\"Correct\"},{\"correct\":\"Correct\"},{\"correct\":\"Correct\"},{\"correct\":\"Correct\"},{\"correct\":\"Correct\"},{\"correct\":\"Correct\"},{\"correct\":\"Correct\"},{\"correct\":\"Correct\"},{\"correct\":\"Correct\"},{\"correct\":\"Correct\"},{\"correct\":\"Correct\"},{\"correct\":\"Correct\"},{\"correct\":\"Correct\"},{\"correct\":\"Correct\"},{\"correct\":\"Correct\"},{\"correct\":\"Correct\"},{\"correct\":\"Correct\"},{\"correct\":\"Correct\"},{\"correct\":\"Correct\"},{\"correct\":\"Correct\"},{\"correct\":\"Correct\"},{\"correct\":\"Correct\"},{\"correct\":\"Correct\"},{\"correct\":\"Correct\"},{\"correct\":\"Correct\"},{\"correct\":\"Correct\"},{\"correct\":\"Correct\"},{\"correct\":\"Correct\"},{\"correct\":\"Correct\"},{\"correct\":\"Correct\"},{\"correct\":\"Correct\"},{\"correct\":\"Correct\"},{\"correct\":\"Correct\"},{\"correct\":\"Correct\"},{\"correct\":\"Correct\"},{\"correct\":\"Correct\"},{\"correct\":\"Correct\"},{\"correct\":\"Correct\"},{\"correct\":\"Correct\"},{\"correct\":\"Correct\"},{\"correct\":\"Correct\"},{\"correct\":\"Correct\"},{\"correct\":\"Correct\"},{\"correct\":\"Correct\"},{\"correct\":\"Correct\"},{\"correct\":\"Correct\"},{\"correct\":\"Correct\"},{\"correct\":\"Correct\"},{\"correct\":\"Correct\"},{\"correct\":\"Correct\"},{\"correct\":\"Correct\"},{\"correct\":\"Correct\"},{\"correct\":\"Correct\"},{\"correct\":\"Correct\"},{\"correct\":\"Correct\"},{\"correct\":\"Correct\"},{\"correct\":\"Correct\"},{\"correct\":\"Correct\"},{\"correct\":\"Correct\"},{\"correct\":\"Correct\"},{\"correct\":\"Correct\"},{\"correct\":\"Correct\"},{\"correct\":\"Correct\"},{\"correct\":\"Correct\"},{\"correct\":\"Correct\"},{\"correct\":\"Correct\"},{\"correct\":\"Correct\"},{\"correct\":\"Correct\"},{\"correct\":\"Correct\"},{\"correct\":\"Correct\"},{\"correct\":\"Correct\"},{\"correct\":\"Correct\"},{\"correct\":\"Correct\"},{\"correct\":\"Correct\"},{\"correct\":\"Correct\"},{\"correct\":\"Correct\"},{\"correct\":\"Correct\"},{\"correct\":\"Correct\"},{\"correct\":\"Correct\"}],\"correct\":[\"Correct\",\"Correct\",\"Correct\",\"Correct\",\"Correct\",\"Correct\",\"Correct\",\"Correct\",\"Correct\",\"Correct\",\"Correct\",\"Correct\",\"Correct\",\"Correct\",\"Correct\",\"Correct\",\"Correct\",\"Correct\",\"Correct\",\"Correct\",\"Correct\",\"Correct\",\"Correct\",\"Correct\",\"Correct\",\"Correct\",\"Correct\",\"Correct\",\"Correct\",\"Correct\",\"Correct\",\"Correct\",\"Correct\",\"Correct\",\"Correct\",\"Correct\",\"Correct\",\"Correct\",\"Correct\",\"Correct\",\"Correct\",\"Correct\",\"Correct\",\"Correct\",\"Correct\",\"Correct\",\"Correct\",\"Correct\",\"Correct\",\"Correct\",\"Correct\",\"Correct\",\"Correct\",\"Correct\",\"Correct\",\"Correct\",\"Correct\",\"Correct\",\"Correct\",\"Correct\",\"Correct\",\"Correct\",\"Correct\",\"Correct\",\"Correct\",\"Correct\",\"Correct\",\"Correct\",\"Correct\",\"Correct\",\"Correct\",\"Correct\",\"Correct\",\"Correct\",\"Correct\",\"Correct\",\"Correct\",\"Correct\",\"Correct\",\"Correct\",\"Correct\",\"Correct\",\"Correct\",\"Correct\",\"Correct\",\"Correct\",\"Correct\",\"Correct\",\"Correct\",\"Correct\",\"Correct\",\"Correct\",\"Correct\",\"Correct\",\"Correct\",\"Correct\",\"Correct\",\"Correct\",\"Correct\",\"Correct\",\"Correct\",\"Correct\",\"Correct\",\"Correct\",\"Correct\",\"Correct\",\"Correct\",\"Correct\",\"Correct\",\"Correct\",\"Correct\",\"Correct\",\"Correct\",\"Correct\",\"Correct\",\"Correct\",\"Correct\",\"Correct\",\"Correct\",\"Correct\",\"Correct\",\"Correct\",\"Correct\",\"Correct\",\"Correct\",\"Correct\",\"Correct\",\"Correct\",\"Correct\",\"Correct\",\"Correct\",\"Correct\",\"Correct\",\"Correct\",\"Correct\",\"Correct\"],\"x_values\":{\"__ndarray__\":\"zl4pLURa6j/ZjdfRl1b1P5OvnwXu5xRAvvNEkio/HEA2Jt6PuKcQQPq+oL3SIQlADWFTnnQL+z+ANIUkBxsdQFDcWPGj0+E/ufpJvvyo8T+L6iEpWXQhQHZVgxXG7iJATIdJeyOXCEC6MXNzKBUbQFTL0gWEPAVAbqNZoBaWDUD2orCQ8/gSQG5+OGH3Ru0/8B6fefOAyD9ew/jRut0EQJl2JTqurfE/Y6tK7qBkI0A2b9Zry6gYQLZozuKLwSBAAJ0/A5TCDEAAIVOxSvXHP7SAxF0guhRAxsS4r7ka9T/6ZUtuzJ8IQCztYqkqegBAcFjfkndfsT84bjbG1ETRPxWXHpqSYwNAZN0HecJ4GUA1r/QPxs8jQC7KXfJQKyFAuC+oG6OM1T8919lJ5AT2P0HuQQlDGvQ/eVMqzreKEUAA6QcK6wEKQPzZm9JoKR1AsuJHyBzzHUBhCkSYLnAUQNlj9vYSSRRABG0XuuPpFUB6wcf1t3EgQPAj8iqT0NA/KJ+uD9Rx+z8dTSQs8ocGQLphCNeREx5AY64u3HVFIUDlTiov0mf/PxTNdWUAUhlAvv/hs8zqFEBbP5pdDvcgQNJBlsH+qPQ/RJtH4BEJ5T9uZwJFkH0aQAednneUahNAIkAeQJVqIUDuX4xdBJwGQEFDwrhZohhAWEO0U/TnCUAK2EuEFnMSQFA6cRcR4vw/7oiezcHA/D+Y/TcAXm7PPyCK9yJqaglAQKGu+ok7+T9Y28KUlZ8JQPq6kh+GG+o/GlwYE1UfIkBJMtOc/bfzP9Z2TRtExyFA8wcf/KuHCkCigphRk58hQPYP1AslDBhAkglzRjcAG0DDigr1WbwQQPBAO8kT4r8/AY3xJPy2I0BRWY7nV5gXQNSgtoXycgRAFD6CBqcZI0A7j8bnvZ0HQJc85NOY/wdA/QKkpqhWAECymZmxpXYNQNIHGyHNdglAXE/b4AaTCUDKDcI3SJwTQDp6gst4dQ5AOirkkM7BBUBscF3gSA4jQPAVCR/dENE/4mxwueKoBECIoeV0w2/bP3ZPhTz1EyNAeK/uVd00IkCSLXpppmYVQA42I2d9vxJArqZ8KYlCF0CY/PyfjzoQQHb76erkUiBAwiZE4DzP/T/XLovighsaQK1esCt/ZBpAfjUzWxjrI0BVYe1whuLzP2n21kY91BxAZ+STK+G2FkB697Gg11EeQMAlpo8IcwBADODKscq+DkDgiGBPmlzoP12fKJOduiNAJFnGuEbyG0D+LBiqi6odQEkV+Hpbmw5AEqse0ria4j8SykJ566fgP5T8rYcbbBZA2kHrqEcRIUARmHPnQcYSQCynN/S7mQJAOftzz8xDDUAcpF0fjF4VQFXhdE32FwxAi+G7DSMfFEAX6+YtwGMjQMBpTHBHsiJAQrguyN08DEAXgi16CoT3P61Ex5cSaPE/NTo+oFfEHkA=\",\"dtype\":\"float64\",\"shape\":[136]},\"y_values\":{\"__ndarray__\":\"SLwzg3g6AkAWRgjh+ysgQOXWMvMeFxlAcxji6n1iIUATa3pIAiojQDUk0DJ/xRJAO4n8kWugFUCsboqEa5kgQIgNPVyvC8Y/BhcX407mCkCpKqZP+SEbQEa+gEv7GuQ/Y+LpvR7HIkBCzLs0jl4fQOx55z+voQdANvXloRbXGkAwEmyUHWgjQK7nEyDJZRBA+lVD+wik/j+msASvbfIMQIC7QoYrq7A/sz/IP9q0IkC/5YdefKAVQF5+NgYAius/hOc1wQ4N4z8I8hzKZzARQIHsXc/AkRxA41GUZrKzIkAIfUn+XXQPQBpn1bZfduw/7fQzz+8RHkCg5jppnKXgPwCu0qUXe2Q/eJBATFviF0BGycCgGDshQC+OZEm9qwJAFrF9ANTfIED8htUvGa4eQIUxRsJVFyFAwj/0vf9kGkC4goDpqVkcQGUq71vOaSFAZX6hJRLUEEBHOiGEf48WQIFpGZhkixVAIMOB0WKRGkD8NWy/KOIJQO47T701vRxAmPbcCbCTBECEkDqUqRoKQHhcg+89WRtA/VQSYRkJF0CItF8zJ1sEQKBgSyjGTBRAXVrzGYwL8j+YqErbgGgaQJO8uLUi7hZAEFh62Gv+1j+tJdBZrwsbQLMc+4C9vxNAt2ouEbyo+z+xbhtctBgTQLBjVvNvThxAUOxP/L1jI0DAN0EryE3yP3GmQfdM0BBAk3IAgLd8HUAOI/+PHQIcQJA/AVkKKcE/pv3nHPWqDUBEB0KFBo0LQNW9pQwALQVArWEV0gewIUCttN4OAZsjQDkDjTLRiRdA+xcIMEyJBkCKPAxZOBUVQLny8iInWSJAI9MkxDFr/z+Gc4jDVgsXQJv7sqF/h/c/1uMjg3ViBUDySgFk+0QiQJoG1LRO+B9A0hRTmb+oBEAP2YAo4lUTQDXFLernjfM/JOSZ8YJa5j9orZHeVEYNQLGzxMWd3A1A1v9UYtjpCUCweik4fkTwP9g551e5ZhZATBtHbxJUHED+cGdjcJkfQDzgNq3opQ1AkUR3Lk7TAkAqjBPcfGoXQNLbnnqcEhFAAxxY2RQ+F0B4fvevqAUAQMP9A7cJEApALegZKvRtB0BuDSsZwEsbQACLt9shfY8/eqPSyeewFkBOBH+2B6UVQJr5ACRC0SNA6KWAjv6kIkBQhLeNpm7yP885kNAy0xZAryj87GzCGUAli3vlFkEjQK4dyNOi5xdAysgNX/p6GEBsSvza1z8dQDYDRCqOVR1AuTZHbKO2IkCZoDRNdScgQHbqxtmuYBlAzFaddJ0JD0DYC5QElV8GQNRr4zkFhwZAalx9ZzSaHEB0JobDlWwBQAIIQNiXjhFAUin5ujAOEEB7bb3iODAXQIfBg3emaRlAm1N+xueQ8j8pK7ioWTYZQET+dxNLqu4/AKpVTH4r9D9HjrrUTiQZQN5BvWPKWBBA2hIOMGYA6T8=\",\"dtype\":\"float64\",\"shape\":[136]}}},\"id\":\"53d9bfe1-f4c6-40de-bb03-bc4d466f8859\",\"type\":\"ColumnDataSource\"},{\"attributes\":{},\"id\":\"09316b86-930d-49e7-a4e2-117dcd232ce2\",\"type\":\"BasicTickFormatter\"},{\"attributes\":{\"fill_alpha\":{\"value\":0.7},\"fill_color\":{\"value\":\"darkred\"},\"line_color\":{\"value\":\"darkred\"},\"size\":{\"units\":\"screen\",\"value\":8},\"x\":{\"field\":\"x_values\"},\"y\":{\"field\":\"y_values\"}},\"id\":\"facb586e-7dd5-4f39-9dc0-a4ace4e6ca24\",\"type\":\"Square\"},{\"attributes\":{},\"id\":\"c6115d36-10be-40e0-875f-36b72b34ef4d\",\"type\":\"ToolEvents\"},{\"attributes\":{\"line_color\":{\"value\":\"darkblue\"},\"x\":{\"field\":\"x\"},\"y\":{\"field\":\"y\"}},\"id\":\"ea4a7614-04df-43e7-8d81-9c9dffa0dcac\",\"type\":\"Line\"},{\"attributes\":{\"data_source\":{\"id\":\"53d9bfe1-f4c6-40de-bb03-bc4d466f8859\",\"type\":\"ColumnDataSource\"},\"glyph\":{\"id\":\"f5f7e3ef-ded4-4eb2-8aa8-2862b489e05e\",\"type\":\"Circle\"},\"hover_glyph\":null,\"nonselection_glyph\":null,\"selection_glyph\":null},\"id\":\"9aee3054-457e-4aaa-8b5c-74994fdf27e1\",\"type\":\"GlyphRenderer\"},{\"attributes\":{\"callback\":null,\"end\":10.89932850171301,\"start\":-0.9881206624090173},\"id\":\"01f1f2f3-d27f-4580-9ab0-888d7acaba92\",\"type\":\"Range1d\"},{\"attributes\":{\"plot\":{\"id\":\"343c18c8-7416-4bf5-b471-686002e35d5b\",\"subtype\":\"Chart\",\"type\":\"Plot\"}},\"id\":\"f483a700-1b2d-4e50-a387-bb42eb1907e9\",\"type\":\"WheelZoomTool\"},{\"attributes\":{\"axis_label\":\"x2\",\"formatter\":{\"id\":\"09316b86-930d-49e7-a4e2-117dcd232ce2\",\"type\":\"BasicTickFormatter\"},\"plot\":{\"id\":\"343c18c8-7416-4bf5-b471-686002e35d5b\",\"subtype\":\"Chart\",\"type\":\"Plot\"},\"ticker\":{\"id\":\"c230f3ae-6392-4bdd-a098-eb78f4056e20\",\"type\":\"BasicTicker\"}},\"id\":\"5322b2e1-ee87-4667-ab8f-9af01fff588b\",\"type\":\"LinearAxis\"},{\"attributes\":{},\"id\":\"b6a24bbe-3a62-47ac-a8c7-f41f77836b1f\",\"type\":\"BasicTickFormatter\"},{\"attributes\":{\"label\":{\"value\":\"Correct\"},\"renderers\":[{\"id\":\"9aee3054-457e-4aaa-8b5c-74994fdf27e1\",\"type\":\"GlyphRenderer\"}]},\"id\":\"c5c67e54-f150-4a85-bdd4-043913b82d0c\",\"type\":\"LegendItem\"},{\"attributes\":{\"dimension\":1,\"plot\":{\"id\":\"343c18c8-7416-4bf5-b471-686002e35d5b\",\"subtype\":\"Chart\",\"type\":\"Plot\"},\"ticker\":{\"id\":\"c230f3ae-6392-4bdd-a098-eb78f4056e20\",\"type\":\"BasicTicker\"}},\"id\":\"7b9720c0-8355-4c20-b4ac-429fe49fc29c\",\"type\":\"Grid\"},{\"attributes\":{\"label\":{\"value\":\"Incorrect\"},\"renderers\":[{\"id\":\"7a862113-b420-467b-9b5a-5af5319bfff3\",\"type\":\"GlyphRenderer\"}]},\"id\":\"ed45abf2-7bc5-416d-855b-90d773076670\",\"type\":\"LegendItem\"},{\"attributes\":{\"data_source\":{\"id\":\"1f84a9a0-9dc6-4941-b3d4-8a56fd68237c\",\"type\":\"ColumnDataSource\"},\"glyph\":{\"id\":\"facb586e-7dd5-4f39-9dc0-a4ace4e6ca24\",\"type\":\"Square\"},\"hover_glyph\":null,\"nonselection_glyph\":null,\"selection_glyph\":null},\"id\":\"7a862113-b420-467b-9b5a-5af5319bfff3\",\"type\":\"GlyphRenderer\"}],\"root_ids\":[\"343c18c8-7416-4bf5-b471-686002e35d5b\"]},\"title\":\"Bokeh Application\",\"version\":\"0.12.4\"}};\n",
       "            var render_items = [{\"docid\":\"c0fadb24-9467-466d-b095-85b4dafcfa42\",\"elementid\":\"95446b5b-06d1-40ce-8a43-66ec81bcbf5c\",\"modelid\":\"343c18c8-7416-4bf5-b471-686002e35d5b\"}];\n",
       "            \n",
       "            Bokeh.embed.embed_items(docs_json, render_items);\n",
       "          };\n",
       "          if (document.readyState != \"loading\") fn();\n",
       "          else document.addEventListener(\"DOMContentLoaded\", fn);\n",
       "        })();\n",
       "      },\n",
       "      function(Bokeh) {\n",
       "      }\n",
       "    ];\n",
       "  \n",
       "    function run_inline_js() {\n",
       "      \n",
       "      if ((window.Bokeh !== undefined) || (force === true)) {\n",
       "        for (var i = 0; i < inline_js.length; i++) {\n",
       "          inline_js[i](window.Bokeh);\n",
       "        }if (force === true) {\n",
       "          display_loaded();\n",
       "        }} else if (Date.now() < window._bokeh_timeout) {\n",
       "        setTimeout(run_inline_js, 100);\n",
       "      } else if (!window._bokeh_failed_load) {\n",
       "        console.log(\"Bokeh: BokehJS failed to load within specified timeout.\");\n",
       "        window._bokeh_failed_load = true;\n",
       "      } else if (force !== true) {\n",
       "        var cell = $(document.getElementById(\"95446b5b-06d1-40ce-8a43-66ec81bcbf5c\")).parents('.cell').data().cell;\n",
       "        cell.output_area.append_execute_result(NB_LOAD_WARNING)\n",
       "      }\n",
       "  \n",
       "    }\n",
       "  \n",
       "    if (window._bokeh_is_loading === 0) {\n",
       "      console.log(\"Bokeh: BokehJS loaded, going straight to plotting\");\n",
       "      run_inline_js();\n",
       "    } else {\n",
       "      load_libs(js_urls, function() {\n",
       "        console.log(\"Bokeh: BokehJS plotting callback run at\", now());\n",
       "        run_inline_js();\n",
       "      });\n",
       "    }\n",
       "  }(this));\n",
       "</script>"
      ]
     },
     "metadata": {},
     "output_type": "display_data"
    }
   ],
   "source": [
    "correct = ['Correct' if yi == yh_i else 'Incorrect' for yi, yh_i in zip(y, y_hat)]\n",
    "plot_svm_results(correct, clf.intercept_[0], clf.coef_[0][0], clf.coef_[0][1])"
   ]
  },
  {
   "cell_type": "markdown",
   "metadata": {
    "deletable": true,
    "editable": true,
    "slideshow": {
     "slide_type": "slide"
    }
   },
   "source": [
    "### Support Vector Machines a la Linear Optimization"
   ]
  },
  {
   "cell_type": "markdown",
   "metadata": {
    "deletable": true,
    "editable": true,
    "slideshow": {
     "slide_type": "subslide"
    }
   },
   "source": [
    "[`PuLP`](https://github.com/coin-or/pulp/) is a modeling tool that lets us solve anything of this form.\n",
    "\n",
    "$$\n",
    "\\begin{align}\n",
    "    \\text{min}  \\ \\ \\ & \\ c'x \\\\\n",
    "    \\text{s.t.} \\ \\ \\ & \\ A x = b \\\\\n",
    "                      & \\ x \\ge 0\n",
    "\\end{align}\n",
    "$$\n",
    "\n",
    "Where $c$ and $b$ are input vectors, $A$ is an input matrix, and $x$ is a vector of real-valued decision variables."
   ]
  },
  {
   "cell_type": "markdown",
   "metadata": {
    "deletable": true,
    "editable": true,
    "slideshow": {
     "slide_type": "fragment"
    }
   },
   "source": [
    "Linear Optimization is well solved. You can assume that a linear optimizer is robust and fast for any model in that form."
   ]
  },
  {
   "cell_type": "markdown",
   "metadata": {
    "deletable": true,
    "editable": true,
    "slideshow": {
     "slide_type": "fragment"
    }
   },
   "source": [
    "PuLP can also solve discrete models, which are not so computationally easy."
   ]
  },
  {
   "cell_type": "markdown",
   "metadata": {
    "deletable": true,
    "editable": true,
    "slideshow": {
     "slide_type": "subslide"
    }
   },
   "source": [
    "How do we get our SVM problem into a linear optimizer?\n",
    "\n",
    "#### Inputs:\n",
    "\n",
    "$$(x_{i1}, x_{i2})' = \\text{column vector of inputs for observation}\\ i$$  \n",
    "  \n",
    "$$y_i \\in \\{+1, -1\\} = \\text{known classification of observation}\\ i $$ "
   ]
  },
  {
   "cell_type": "markdown",
   "metadata": {
    "deletable": true,
    "editable": true,
    "slideshow": {
     "slide_type": "fragment"
    }
   },
   "source": [
    "#### Model:\n",
    "\n",
    "The decision variables $b$, $w_1$, and $w_2$, give us a separating hyperplane $b + w'x = 0$.\n",
    "\n",
    "For each _misclassified_ observation $i$, $\\xi_i$ is its classification error. We find the best hyperplane by minimizing total error.\n",
    "\n",
    "$$\n",
    "\\begin{align}\n",
    "    \\text{min}  \\ \\ \\ & \\ \\sum_i \\xi_i \\ & \\ \\\\\n",
    "    \\text{s.t.} \\ \\ \\ & \\ b + w_1 x_{i1} + w_2 x_{i2} \\le -1 + \\xi_i\\ & \\ \\forall\\ y_i = -1 \\\\\n",
    "                      & \\ b + w_1 x_{i1} + w_2 x_{i2} \\ge +1 - \\xi_i\\ & \\ \\forall\\ y_i = +1 \\\\\n",
    "                      & \\ \\xi \\ge 0\n",
    "\\end{align}\n",
    "$$"
   ]
  },
  {
   "cell_type": "markdown",
   "metadata": {
    "deletable": true,
    "editable": true,
    "slideshow": {
     "slide_type": "subslide"
    }
   },
   "source": [
    "We can simplify the model by multiplying each constraint by $y_i$.\n",
    "\n",
    "$$\n",
    "\\begin{align}\n",
    "    \\text{min}  \\ \\ \\ & \\ \\sum_i \\xi_i \\\\\n",
    "    \\text{s.t.} \\ \\ \\ & \\ y_i (b + w_1 x_{i1} + w_2 x_{i2}) \\ge 1 - \\xi_i\\ \\forall\\ i \\\\\n",
    "                      & \\ \\xi \\ge 0\n",
    "\\end{align}\n",
    "$$"
   ]
  },
  {
   "cell_type": "markdown",
   "metadata": {
    "deletable": true,
    "editable": true,
    "slideshow": {
     "slide_type": "subslide"
    }
   },
   "source": [
    "But wait! Constraints like $a'x \\ge b$ aren't in the form you gave us!"
   ]
  },
  {
   "cell_type": "markdown",
   "metadata": {
    "deletable": true,
    "editable": true,
    "slideshow": {
     "slide_type": "fragment"
    }
   },
   "source": [
    "That's OK. They get converted by the optimizer.\n",
    "\n",
    "$$a'x - e = b$$\n",
    "$$e \\ge 0$$"
   ]
  },
  {
   "cell_type": "markdown",
   "metadata": {
    "deletable": true,
    "editable": true,
    "slideshow": {
     "slide_type": "fragment"
    }
   },
   "source": [
    "So do constraints of the form $a'x \\le b$.\n",
    "\n",
    "$$a'x + s = b$$\n",
    "$$s \\ge 0$$"
   ]
  },
  {
   "cell_type": "markdown",
   "metadata": {
    "deletable": true,
    "editable": true,
    "slideshow": {
     "slide_type": "fragment"
    }
   },
   "source": [
    "As do any variables that are unrestricted in sign.\n",
    "\n",
    "$$x_i = x_i^+ - x_i^-$$\n",
    "$$x_i^+, x_i^- \\ge 0$$"
   ]
  },
  {
   "cell_type": "markdown",
   "metadata": {
    "deletable": true,
    "editable": true,
    "slideshow": {
     "slide_type": "fragment"
    }
   },
   "source": [
    "As long as your objective function is linear and your constraints are linear and of the form $=$, $\\le$, or $\\ge$, you can solve it with a linear optimizer."
   ]
  },
  {
   "cell_type": "markdown",
   "metadata": {
    "deletable": true,
    "editable": true,
    "slideshow": {
     "slide_type": "subslide"
    }
   },
   "source": [
    "Let's get hacking. First make variables for the separating hyperplane.\n",
    "\n",
    "Note these are _unrestricted in sign_."
   ]
  },
  {
   "cell_type": "code",
   "execution_count": 21,
   "metadata": {
    "collapsed": true,
    "deletable": true,
    "editable": true
   },
   "outputs": [],
   "source": [
    "import pulp\n",
    "\n",
    "b = pulp.LpVariable('b')\n",
    "w1 = pulp.LpVariable('w1')\n",
    "w2 = pulp.LpVariable('w2')"
   ]
  },
  {
   "cell_type": "markdown",
   "metadata": {
    "deletable": true,
    "editable": true,
    "slideshow": {
     "slide_type": "subslide"
    }
   },
   "source": [
    "We also need variables for the classification errors. \n",
    "\n",
    "These are nonnegative since we only want to penalize errors, not reward the model for correct classifiations."
   ]
  },
  {
   "cell_type": "code",
   "execution_count": 22,
   "metadata": {
    "collapsed": false,
    "deletable": true,
    "editable": true
   },
   "outputs": [],
   "source": [
    "errors = []\n",
    "for i in range(len(y)):\n",
    "    e = pulp.LpVariable('e_%d' % i, lowBound=0) # lowBound=0 means >=0\n",
    "    errors.append(e)"
   ]
  },
  {
   "cell_type": "markdown",
   "metadata": {
    "deletable": true,
    "editable": true,
    "slideshow": {
     "slide_type": "subslide"
    }
   },
   "source": [
    "Build a model that records classification error based on the separating hyperplane in the appropriate variables."
   ]
  },
  {
   "cell_type": "code",
   "execution_count": 23,
   "metadata": {
    "collapsed": true,
    "deletable": true,
    "editable": true
   },
   "outputs": [],
   "source": [
    "m = pulp.LpProblem(sense=pulp.LpMinimize)\n",
    "\n",
    "for x_i1, x_i2, y_i, e_i in zip(x1, x2, y, errors):\n",
    "    m += y_i * (b + w1 * x_i1 + w2 * x_i2) >= (1 - e_i)"
   ]
  },
  {
   "cell_type": "markdown",
   "metadata": {
    "deletable": true,
    "editable": true,
    "slideshow": {
     "slide_type": "subslide"
    }
   },
   "source": [
    "So far the model represents the feasible region of all possible separating hyperplanes.\n",
    "\n",
    "We want the _best_ one."
   ]
  },
  {
   "cell_type": "code",
   "execution_count": 24,
   "metadata": {
    "collapsed": false,
    "deletable": true,
    "editable": true
   },
   "outputs": [
    {
     "name": "stdout",
     "output_type": "stream",
     "text": [
      "b = -2.8645299\n",
      "w = [0.53495468, -0.52700654]\n"
     ]
    }
   ],
   "source": [
    "m.setObjective(sum(errors))\n",
    "assert m.solve() == pulp.LpStatusOptimal\n",
    "\n",
    "print('b =', b.value())\n",
    "print('w =', [w1.value(), w2.value()])"
   ]
  },
  {
   "cell_type": "markdown",
   "metadata": {
    "deletable": true,
    "editable": true,
    "slideshow": {
     "slide_type": "subslide"
    }
   },
   "source": [
    "We don't have a predict function, so let's build one."
   ]
  },
  {
   "cell_type": "code",
   "execution_count": 25,
   "metadata": {
    "collapsed": false,
    "deletable": true,
    "editable": true
   },
   "outputs": [
    {
     "name": "stdout",
     "output_type": "stream",
     "text": [
      "confusion matrix:\n"
     ]
    },
    {
     "data": {
      "text/plain": [
       "array([[127,   5],\n",
       "       [  9,   9]])"
      ]
     },
     "execution_count": 25,
     "metadata": {},
     "output_type": "execute_result"
    }
   ],
   "source": [
    "def classify(xi_1, xi_2):\n",
    "    if b.value() + (w1.value() * xi_1) + (w2.value() * xi_2) >= 0:\n",
    "        return +1\n",
    "    return -1\n",
    "\n",
    "y_hat = [classify(xi_1, xi_2) for xi_1, xi_2 in zip(x1, x2)]\n",
    "\n",
    "print('confusion matrix:')\n",
    "metrics.confusion_matrix(y_true=y, y_pred=y_hat)"
   ]
  },
  {
   "cell_type": "markdown",
   "metadata": {
    "deletable": true,
    "editable": true,
    "slideshow": {
     "slide_type": "subslide"
    }
   },
   "source": [
    "How'd the linear optimizer do?"
   ]
  },
  {
   "cell_type": "code",
   "execution_count": 26,
   "metadata": {
    "collapsed": false,
    "deletable": true,
    "editable": true
   },
   "outputs": [
    {
     "data": {
      "text/html": [
       "\n",
       "\n",
       "    <div class=\"bk-root\">\n",
       "        <div class=\"bk-plotdiv\" id=\"975d33e2-633a-41ae-970a-ee0968a77bd0\"></div>\n",
       "    </div>\n",
       "<script type=\"text/javascript\">\n",
       "  \n",
       "  (function(global) {\n",
       "    function now() {\n",
       "      return new Date();\n",
       "    }\n",
       "  \n",
       "    var force = false;\n",
       "  \n",
       "    if (typeof (window._bokeh_onload_callbacks) === \"undefined\" || force === true) {\n",
       "      window._bokeh_onload_callbacks = [];\n",
       "      window._bokeh_is_loading = undefined;\n",
       "    }\n",
       "  \n",
       "  \n",
       "    \n",
       "    if (typeof (window._bokeh_timeout) === \"undefined\" || force === true) {\n",
       "      window._bokeh_timeout = Date.now() + 0;\n",
       "      window._bokeh_failed_load = false;\n",
       "    }\n",
       "  \n",
       "    var NB_LOAD_WARNING = {'data': {'text/html':\n",
       "       \"<div style='background-color: #fdd'>\\n\"+\n",
       "       \"<p>\\n\"+\n",
       "       \"BokehJS does not appear to have successfully loaded. If loading BokehJS from CDN, this \\n\"+\n",
       "       \"may be due to a slow or bad network connection. Possible fixes:\\n\"+\n",
       "       \"</p>\\n\"+\n",
       "       \"<ul>\\n\"+\n",
       "       \"<li>re-rerun `output_notebook()` to attempt to load from CDN again, or</li>\\n\"+\n",
       "       \"<li>use INLINE resources instead, as so:</li>\\n\"+\n",
       "       \"</ul>\\n\"+\n",
       "       \"<code>\\n\"+\n",
       "       \"from bokeh.resources import INLINE\\n\"+\n",
       "       \"output_notebook(resources=INLINE)\\n\"+\n",
       "       \"</code>\\n\"+\n",
       "       \"</div>\"}};\n",
       "  \n",
       "    function display_loaded() {\n",
       "      if (window.Bokeh !== undefined) {\n",
       "        document.getElementById(\"975d33e2-633a-41ae-970a-ee0968a77bd0\").textContent = \"BokehJS successfully loaded.\";\n",
       "      } else if (Date.now() < window._bokeh_timeout) {\n",
       "        setTimeout(display_loaded, 100)\n",
       "      }\n",
       "    }\n",
       "  \n",
       "    function run_callbacks() {\n",
       "      window._bokeh_onload_callbacks.forEach(function(callback) { callback() });\n",
       "      delete window._bokeh_onload_callbacks\n",
       "      console.info(\"Bokeh: all callbacks have finished\");\n",
       "    }\n",
       "  \n",
       "    function load_libs(js_urls, callback) {\n",
       "      window._bokeh_onload_callbacks.push(callback);\n",
       "      if (window._bokeh_is_loading > 0) {\n",
       "        console.log(\"Bokeh: BokehJS is being loaded, scheduling callback at\", now());\n",
       "        return null;\n",
       "      }\n",
       "      if (js_urls == null || js_urls.length === 0) {\n",
       "        run_callbacks();\n",
       "        return null;\n",
       "      }\n",
       "      console.log(\"Bokeh: BokehJS not loaded, scheduling load and callback at\", now());\n",
       "      window._bokeh_is_loading = js_urls.length;\n",
       "      for (var i = 0; i < js_urls.length; i++) {\n",
       "        var url = js_urls[i];\n",
       "        var s = document.createElement('script');\n",
       "        s.src = url;\n",
       "        s.async = false;\n",
       "        s.onreadystatechange = s.onload = function() {\n",
       "          window._bokeh_is_loading--;\n",
       "          if (window._bokeh_is_loading === 0) {\n",
       "            console.log(\"Bokeh: all BokehJS libraries loaded\");\n",
       "            run_callbacks()\n",
       "          }\n",
       "        };\n",
       "        s.onerror = function() {\n",
       "          console.warn(\"failed to load library \" + url);\n",
       "        };\n",
       "        console.log(\"Bokeh: injecting script tag for BokehJS library: \", url);\n",
       "        document.getElementsByTagName(\"head\")[0].appendChild(s);\n",
       "      }\n",
       "    };var element = document.getElementById(\"975d33e2-633a-41ae-970a-ee0968a77bd0\");\n",
       "    if (element == null) {\n",
       "      console.log(\"Bokeh: ERROR: autoload.js configured with elementid '975d33e2-633a-41ae-970a-ee0968a77bd0' but no matching script tag was found. \")\n",
       "      return false;\n",
       "    }\n",
       "  \n",
       "    var js_urls = [];\n",
       "  \n",
       "    var inline_js = [\n",
       "      function(Bokeh) {\n",
       "        (function() {\n",
       "          var fn = function() {\n",
       "            var docs_json = {\"1c5a3d1b-781d-4509-adf7-2215262a3356\":{\"roots\":{\"references\":[{\"attributes\":{\"callback\":null,\"column_names\":[\"x_values\",\"y_values\"],\"data\":{\"chart_index\":[{\"correct\":\"Incorrect\"},{\"correct\":\"Incorrect\"},{\"correct\":\"Incorrect\"},{\"correct\":\"Incorrect\"},{\"correct\":\"Incorrect\"},{\"correct\":\"Incorrect\"},{\"correct\":\"Incorrect\"},{\"correct\":\"Incorrect\"},{\"correct\":\"Incorrect\"},{\"correct\":\"Incorrect\"},{\"correct\":\"Incorrect\"},{\"correct\":\"Incorrect\"},{\"correct\":\"Incorrect\"},{\"correct\":\"Incorrect\"}],\"correct\":[\"Incorrect\",\"Incorrect\",\"Incorrect\",\"Incorrect\",\"Incorrect\",\"Incorrect\",\"Incorrect\",\"Incorrect\",\"Incorrect\",\"Incorrect\",\"Incorrect\",\"Incorrect\",\"Incorrect\",\"Incorrect\"],\"x_values\":{\"__ndarray__\":\"vAwNKY6XIEBmj6d1IwYhQG7Dp345GRNADPEtor0jHUAQ4EbZZt8XQJqmPxYBxBdAICAURMzoFUCeKxFiDm8aQFS84Jk1BRZAPw4DXLUEI0A3TISPN7waQPQJLNTgiRBAAZdkU7OAIUAl+xKCKsYiQA==\",\"dtype\":\"float64\",\"shape\":[14]},\"y_values\":{\"__ndarray__\":\"/BBABQMHFkD8T+UQqeELQJTQbrN88No/zg6DwWSr9D+AscWX2KrQPzfwub6wN/0/r6jXkom2+z9YTLr8B+rRP1wzp9c4gP8/hdrzB6gLDkAQrLpnXLUEQNzgO+k0ltY/m7xzmK/WEUBwEzHte7IIQA==\",\"dtype\":\"float64\",\"shape\":[14]}}},\"id\":\"ca7dd27c-3d77-4dc4-b178-45a5e3965c4b\",\"type\":\"ColumnDataSource\"},{\"attributes\":{\"plot\":{\"id\":\"b2c37f46-9a58-45cf-a5a9-3a28c8becef9\",\"subtype\":\"Chart\",\"type\":\"Plot\"},\"ticker\":{\"id\":\"fd33dba9-67ab-4cd2-89bd-3d50c12886ba\",\"type\":\"BasicTicker\"}},\"id\":\"636daf8d-2ae9-494d-af0f-2865f6dcb716\",\"type\":\"Grid\"},{\"attributes\":{},\"id\":\"54dcf04f-be06-40f8-8543-2c76c7fd9f9e\",\"type\":\"ToolEvents\"},{\"attributes\":{\"label\":{\"value\":\"Incorrect\"},\"renderers\":[{\"id\":\"9bad6b41-0050-4757-9dd8-facb6f4d0420\",\"type\":\"GlyphRenderer\"}]},\"id\":\"3453d57b-14b4-4e0c-86c0-6f933b902008\",\"type\":\"LegendItem\"},{\"attributes\":{\"items\":[{\"id\":\"3ce61724-6f92-4f8b-882e-c26ae5f3f97a\",\"type\":\"LegendItem\"},{\"id\":\"3453d57b-14b4-4e0c-86c0-6f933b902008\",\"type\":\"LegendItem\"}],\"location\":\"top_left\",\"plot\":{\"id\":\"b2c37f46-9a58-45cf-a5a9-3a28c8becef9\",\"subtype\":\"Chart\",\"type\":\"Plot\"}},\"id\":\"f2290683-8a10-4e9d-ae04-e250ce074e9f\",\"type\":\"Legend\"},{\"attributes\":{\"dimension\":1,\"plot\":{\"id\":\"b2c37f46-9a58-45cf-a5a9-3a28c8becef9\",\"subtype\":\"Chart\",\"type\":\"Plot\"},\"ticker\":{\"id\":\"7fc8c122-8202-4ff0-9387-ce717de50bdf\",\"type\":\"BasicTicker\"}},\"id\":\"0256b0be-f7f4-45b6-841d-5b969b6e3647\",\"type\":\"Grid\"},{\"attributes\":{\"fill_alpha\":{\"value\":0.7},\"fill_color\":{\"value\":\"darkred\"},\"line_color\":{\"value\":\"darkred\"},\"size\":{\"units\":\"screen\",\"value\":8},\"x\":{\"field\":\"x_values\"},\"y\":{\"field\":\"y_values\"}},\"id\":\"02459a2a-ff63-4e5a-beb2-71e7f26c60cb\",\"type\":\"Square\"},{\"attributes\":{\"data_source\":{\"id\":\"ca7dd27c-3d77-4dc4-b178-45a5e3965c4b\",\"type\":\"ColumnDataSource\"},\"glyph\":{\"id\":\"02459a2a-ff63-4e5a-beb2-71e7f26c60cb\",\"type\":\"Square\"},\"hover_glyph\":null,\"nonselection_glyph\":null,\"selection_glyph\":null},\"id\":\"9bad6b41-0050-4757-9dd8-facb6f4d0420\",\"type\":\"GlyphRenderer\"},{\"attributes\":{\"callback\":null,\"end\":10.948300922074747,\"start\":-0.9212677615230811},\"id\":\"940fa085-07fa-4211-b88d-a7fbaee8f325\",\"type\":\"Range1d\"},{\"attributes\":{\"data_source\":{\"id\":\"6ec8176e-aa9a-4353-a806-642fa4505e55\",\"type\":\"ColumnDataSource\"},\"glyph\":{\"id\":\"efc69ee2-b5bd-46b6-a5b3-0d8d9735d6fb\",\"type\":\"Line\"},\"hover_glyph\":null,\"nonselection_glyph\":{\"id\":\"d2e0528b-ad62-42ae-b088-eb56bdc37021\",\"type\":\"Line\"},\"selection_glyph\":null},\"id\":\"0fe740cb-addc-4bb8-a79e-f8d4ac67eb4a\",\"type\":\"GlyphRenderer\"},{\"attributes\":{},\"id\":\"1c639d54-3c8b-4826-8305-02a3432521af\",\"type\":\"BasicTickFormatter\"},{\"attributes\":{\"bottom_units\":\"screen\",\"fill_alpha\":{\"value\":0.5},\"fill_color\":{\"value\":\"lightgrey\"},\"left_units\":\"screen\",\"level\":\"overlay\",\"line_alpha\":{\"value\":1.0},\"line_color\":{\"value\":\"black\"},\"line_dash\":[4,4],\"line_width\":{\"value\":2},\"plot\":null,\"render_mode\":\"css\",\"right_units\":\"screen\",\"top_units\":\"screen\"},\"id\":\"19a8ab1c-d8de-4654-a597-6bd0a1ca7a67\",\"type\":\"BoxAnnotation\"},{\"attributes\":{},\"id\":\"7fc8c122-8202-4ff0-9387-ce717de50bdf\",\"type\":\"BasicTicker\"},{\"attributes\":{\"fill_alpha\":{\"value\":0.7},\"fill_color\":{\"value\":\"lightgrey\"},\"line_color\":{\"value\":\"lightgrey\"},\"size\":{\"units\":\"screen\",\"value\":8},\"x\":{\"field\":\"x_values\"},\"y\":{\"field\":\"y_values\"}},\"id\":\"17454c23-afab-4512-84d0-1518542ab353\",\"type\":\"Circle\"},{\"attributes\":{\"callback\":null,\"column_names\":[\"x_values\",\"y_values\"],\"data\":{\"chart_index\":[{\"correct\":\"Correct\"},{\"correct\":\"Correct\"},{\"correct\":\"Correct\"},{\"correct\":\"Correct\"},{\"correct\":\"Correct\"},{\"correct\":\"Correct\"},{\"correct\":\"Correct\"},{\"correct\":\"Correct\"},{\"correct\":\"Correct\"},{\"correct\":\"Correct\"},{\"correct\":\"Correct\"},{\"correct\":\"Correct\"},{\"correct\":\"Correct\"},{\"correct\":\"Correct\"},{\"correct\":\"Correct\"},{\"correct\":\"Correct\"},{\"correct\":\"Correct\"},{\"correct\":\"Correct\"},{\"correct\":\"Correct\"},{\"correct\":\"Correct\"},{\"correct\":\"Correct\"},{\"correct\":\"Correct\"},{\"correct\":\"Correct\"},{\"correct\":\"Correct\"},{\"correct\":\"Correct\"},{\"correct\":\"Correct\"},{\"correct\":\"Correct\"},{\"correct\":\"Correct\"},{\"correct\":\"Correct\"},{\"correct\":\"Correct\"},{\"correct\":\"Correct\"},{\"correct\":\"Correct\"},{\"correct\":\"Correct\"},{\"correct\":\"Correct\"},{\"correct\":\"Correct\"},{\"correct\":\"Correct\"},{\"correct\":\"Correct\"},{\"correct\":\"Correct\"},{\"correct\":\"Correct\"},{\"correct\":\"Correct\"},{\"correct\":\"Correct\"},{\"correct\":\"Correct\"},{\"correct\":\"Correct\"},{\"correct\":\"Correct\"},{\"correct\":\"Correct\"},{\"correct\":\"Correct\"},{\"correct\":\"Correct\"},{\"correct\":\"Correct\"},{\"correct\":\"Correct\"},{\"correct\":\"Correct\"},{\"correct\":\"Correct\"},{\"correct\":\"Correct\"},{\"correct\":\"Correct\"},{\"correct\":\"Correct\"},{\"correct\":\"Correct\"},{\"correct\":\"Correct\"},{\"correct\":\"Correct\"},{\"correct\":\"Correct\"},{\"correct\":\"Correct\"},{\"correct\":\"Correct\"},{\"correct\":\"Correct\"},{\"correct\":\"Correct\"},{\"correct\":\"Correct\"},{\"correct\":\"Correct\"},{\"correct\":\"Correct\"},{\"correct\":\"Correct\"},{\"correct\":\"Correct\"},{\"correct\":\"Correct\"},{\"correct\":\"Correct\"},{\"correct\":\"Correct\"},{\"correct\":\"Correct\"},{\"correct\":\"Correct\"},{\"correct\":\"Correct\"},{\"correct\":\"Correct\"},{\"correct\":\"Correct\"},{\"correct\":\"Correct\"},{\"correct\":\"Correct\"},{\"correct\":\"Correct\"},{\"correct\":\"Correct\"},{\"correct\":\"Correct\"},{\"correct\":\"Correct\"},{\"correct\":\"Correct\"},{\"correct\":\"Correct\"},{\"correct\":\"Correct\"},{\"correct\":\"Correct\"},{\"correct\":\"Correct\"},{\"correct\":\"Correct\"},{\"correct\":\"Correct\"},{\"correct\":\"Correct\"},{\"correct\":\"Correct\"},{\"correct\":\"Correct\"},{\"correct\":\"Correct\"},{\"correct\":\"Correct\"},{\"correct\":\"Correct\"},{\"correct\":\"Correct\"},{\"correct\":\"Correct\"},{\"correct\":\"Correct\"},{\"correct\":\"Correct\"},{\"correct\":\"Correct\"},{\"correct\":\"Correct\"},{\"correct\":\"Correct\"},{\"correct\":\"Correct\"},{\"correct\":\"Correct\"},{\"correct\":\"Correct\"},{\"correct\":\"Correct\"},{\"correct\":\"Correct\"},{\"correct\":\"Correct\"},{\"correct\":\"Correct\"},{\"correct\":\"Correct\"},{\"correct\":\"Correct\"},{\"correct\":\"Correct\"},{\"correct\":\"Correct\"},{\"correct\":\"Correct\"},{\"correct\":\"Correct\"},{\"correct\":\"Correct\"},{\"correct\":\"Correct\"},{\"correct\":\"Correct\"},{\"correct\":\"Correct\"},{\"correct\":\"Correct\"},{\"correct\":\"Correct\"},{\"correct\":\"Correct\"},{\"correct\":\"Correct\"},{\"correct\":\"Correct\"},{\"correct\":\"Correct\"},{\"correct\":\"Correct\"},{\"correct\":\"Correct\"},{\"correct\":\"Correct\"},{\"correct\":\"Correct\"},{\"correct\":\"Correct\"},{\"correct\":\"Correct\"},{\"correct\":\"Correct\"},{\"correct\":\"Correct\"},{\"correct\":\"Correct\"},{\"correct\":\"Correct\"},{\"correct\":\"Correct\"},{\"correct\":\"Correct\"}],\"correct\":[\"Correct\",\"Correct\",\"Correct\",\"Correct\",\"Correct\",\"Correct\",\"Correct\",\"Correct\",\"Correct\",\"Correct\",\"Correct\",\"Correct\",\"Correct\",\"Correct\",\"Correct\",\"Correct\",\"Correct\",\"Correct\",\"Correct\",\"Correct\",\"Correct\",\"Correct\",\"Correct\",\"Correct\",\"Correct\",\"Correct\",\"Correct\",\"Correct\",\"Correct\",\"Correct\",\"Correct\",\"Correct\",\"Correct\",\"Correct\",\"Correct\",\"Correct\",\"Correct\",\"Correct\",\"Correct\",\"Correct\",\"Correct\",\"Correct\",\"Correct\",\"Correct\",\"Correct\",\"Correct\",\"Correct\",\"Correct\",\"Correct\",\"Correct\",\"Correct\",\"Correct\",\"Correct\",\"Correct\",\"Correct\",\"Correct\",\"Correct\",\"Correct\",\"Correct\",\"Correct\",\"Correct\",\"Correct\",\"Correct\",\"Correct\",\"Correct\",\"Correct\",\"Correct\",\"Correct\",\"Correct\",\"Correct\",\"Correct\",\"Correct\",\"Correct\",\"Correct\",\"Correct\",\"Correct\",\"Correct\",\"Correct\",\"Correct\",\"Correct\",\"Correct\",\"Correct\",\"Correct\",\"Correct\",\"Correct\",\"Correct\",\"Correct\",\"Correct\",\"Correct\",\"Correct\",\"Correct\",\"Correct\",\"Correct\",\"Correct\",\"Correct\",\"Correct\",\"Correct\",\"Correct\",\"Correct\",\"Correct\",\"Correct\",\"Correct\",\"Correct\",\"Correct\",\"Correct\",\"Correct\",\"Correct\",\"Correct\",\"Correct\",\"Correct\",\"Correct\",\"Correct\",\"Correct\",\"Correct\",\"Correct\",\"Correct\",\"Correct\",\"Correct\",\"Correct\",\"Correct\",\"Correct\",\"Correct\",\"Correct\",\"Correct\",\"Correct\",\"Correct\",\"Correct\",\"Correct\",\"Correct\",\"Correct\",\"Correct\",\"Correct\",\"Correct\",\"Correct\",\"Correct\",\"Correct\"],\"x_values\":{\"__ndarray__\":\"zl4pLURa6j/ZjdfRl1b1P5OvnwXu5xRAvvNEkio/HEA2Jt6PuKcQQPq+oL3SIQlADWFTnnQL+z+ANIUkBxsdQFDcWPGj0+E/ufpJvvyo8T+L6iEpWXQhQHZVgxXG7iJATIdJeyOXCEC6MXNzKBUbQFTL0gWEPAVAbqNZoBaWDUD2orCQ8/gSQG5+OGH3Ru0/8B6fefOAyD9ew/jRut0EQJl2JTqurfE/Y6tK7qBkI0A2b9Zry6gYQLZozuKLwSBAAJ0/A5TCDEAAIVOxSvXHP7SAxF0guhRAxsS4r7ka9T/6ZUtuzJ8IQCztYqkqegBAcFjfkndfsT84bjbG1ETRPxWXHpqSYwNAZN0HecJ4GUA1r/QPxs8jQC7KXfJQKyFAuC+oG6OM1T8919lJ5AT2P0HuQQlDGvQ/eVMqzreKEUAA6QcK6wEKQPzZm9JoKR1AsuJHyBzzHUBhCkSYLnAUQNlj9vYSSRRABG0XuuPpFUB6wcf1t3EgQPAj8iqT0NA/KJ+uD9Rx+z8dTSQs8ocGQLphCNeREx5AY64u3HVFIUDlTiov0mf/PxTNdWUAUhlAvv/hs8zqFEBbP5pdDvcgQNJBlsH+qPQ/RJtH4BEJ5T9uZwJFkH0aQAednneUahNAIkAeQJVqIUDuX4xdBJwGQEFDwrhZohhAWEO0U/TnCUAK2EuEFnMSQFA6cRcR4vw/7oiezcHA/D+Y/TcAXm7PPyCK9yJqaglAQKGu+ok7+T9Y28KUlZ8JQPq6kh+GG+o/GlwYE1UfIkBJMtOc/bfzP9Z2TRtExyFA8wcf/KuHCkCigphRk58hQPYP1AslDBhAkglzRjcAG0DDigr1WbwQQPBAO8kT4r8/AY3xJPy2I0BRWY7nV5gXQNSgtoXycgRAFD6CBqcZI0A7j8bnvZ0HQJc85NOY/wdA/QKkpqhWAECymZmxpXYNQNIHGyHNdglAXE/b4AaTCUDKDcI3SJwTQDp6gst4dQ5AOirkkM7BBUBscF3gSA4jQPAVCR/dENE/4mxwueKoBECIoeV0w2/bP3ZPhTz1EyNAeK/uVd00IkCSLXpppmYVQA42I2d9vxJArqZ8KYlCF0CY/PyfjzoQQHb76erkUiBAwiZE4DzP/T/XLovighsaQK1esCt/ZBpAfjUzWxjrI0BVYe1whuLzP2n21kY91BxAZ+STK+G2FkB697Gg11EeQMAlpo8IcwBADODKscq+DkDgiGBPmlzoP12fKJOduiNAJFnGuEbyG0D+LBiqi6odQEkV+Hpbmw5AEqse0ria4j8SykJ566fgP5T8rYcbbBZA2kHrqEcRIUARmHPnQcYSQCynN/S7mQJAOftzz8xDDUAcpF0fjF4VQFXhdE32FwxAi+G7DSMfFEAX6+YtwGMjQMBpTHBHsiJAQrguyN08DEAXgi16CoT3P61Ex5cSaPE/NTo+oFfEHkA=\",\"dtype\":\"float64\",\"shape\":[136]},\"y_values\":{\"__ndarray__\":\"SLwzg3g6AkAWRgjh+ysgQOXWMvMeFxlAcxji6n1iIUATa3pIAiojQDUk0DJ/xRJAO4n8kWugFUCsboqEa5kgQIgNPVyvC8Y/BhcX407mCkCpKqZP+SEbQEa+gEv7GuQ/Y+LpvR7HIkBCzLs0jl4fQOx55z+voQdANvXloRbXGkAwEmyUHWgjQK7nEyDJZRBA+lVD+wik/j+msASvbfIMQIC7QoYrq7A/sz/IP9q0IkC/5YdefKAVQF5+NgYAius/hOc1wQ4N4z8I8hzKZzARQIHsXc/AkRxA41GUZrKzIkAIfUn+XXQPQBpn1bZfduw/7fQzz+8RHkCg5jppnKXgPwCu0qUXe2Q/eJBATFviF0BGycCgGDshQC+OZEm9qwJAFrF9ANTfIED8htUvGa4eQIUxRsJVFyFAwj/0vf9kGkC4goDpqVkcQGUq71vOaSFAZX6hJRLUEEBHOiGEf48WQIFpGZhkixVAIMOB0WKRGkD8NWy/KOIJQO47T701vRxAmPbcCbCTBECEkDqUqRoKQHhcg+89WRtA/VQSYRkJF0CItF8zJ1sEQKBgSyjGTBRAXVrzGYwL8j+YqErbgGgaQJO8uLUi7hZAEFh62Gv+1j+tJdBZrwsbQLMc+4C9vxNAt2ouEbyo+z+xbhtctBgTQLBjVvNvThxAUOxP/L1jI0DAN0EryE3yP3GmQfdM0BBAk3IAgLd8HUAOI/+PHQIcQJA/AVkKKcE/pv3nHPWqDUBEB0KFBo0LQNW9pQwALQVArWEV0gewIUCttN4OAZsjQDkDjTLRiRdA+xcIMEyJBkCKPAxZOBUVQLny8iInWSJAI9MkxDFr/z+Gc4jDVgsXQJv7sqF/h/c/1uMjg3ViBUDySgFk+0QiQJoG1LRO+B9A0hRTmb+oBEAP2YAo4lUTQDXFLernjfM/JOSZ8YJa5j9orZHeVEYNQLGzxMWd3A1A1v9UYtjpCUCweik4fkTwP9g551e5ZhZATBtHbxJUHED+cGdjcJkfQDzgNq3opQ1AkUR3Lk7TAkAqjBPcfGoXQNLbnnqcEhFAAxxY2RQ+F0B4fvevqAUAQMP9A7cJEApALegZKvRtB0BuDSsZwEsbQACLt9shfY8/eqPSyeewFkBOBH+2B6UVQJr5ACRC0SNA6KWAjv6kIkBQhLeNpm7yP885kNAy0xZAryj87GzCGUAli3vlFkEjQK4dyNOi5xdAysgNX/p6GEBsSvza1z8dQDYDRCqOVR1AuTZHbKO2IkCZoDRNdScgQHbqxtmuYBlAzFaddJ0JD0DYC5QElV8GQNRr4zkFhwZAalx9ZzSaHEB0JobDlWwBQAIIQNiXjhFAUin5ujAOEEB7bb3iODAXQIfBg3emaRlAm1N+xueQ8j8pK7ioWTYZQET+dxNLqu4/AKpVTH4r9D9HjrrUTiQZQN5BvWPKWBBA2hIOMGYA6T8=\",\"dtype\":\"float64\",\"shape\":[136]}}},\"id\":\"91ed7d15-f4f7-457e-8b76-042c21bced67\",\"type\":\"ColumnDataSource\"},{\"attributes\":{\"plot\":{\"id\":\"b2c37f46-9a58-45cf-a5a9-3a28c8becef9\",\"subtype\":\"Chart\",\"type\":\"Plot\"}},\"id\":\"a7f2fcb3-1e3b-4d1e-ad6a-806e7cbeaf08\",\"type\":\"SaveTool\"},{\"attributes\":{\"below\":[{\"id\":\"3a0c509e-e4d3-4453-8ddb-f92b63fdb76f\",\"type\":\"LinearAxis\"}],\"css_classes\":null,\"height\":500,\"left\":[{\"id\":\"94fcb444-5f8c-4f91-b24a-acf3917dd4d7\",\"type\":\"LinearAxis\"}],\"renderers\":[{\"id\":\"19a8ab1c-d8de-4654-a597-6bd0a1ca7a67\",\"type\":\"BoxAnnotation\"},{\"id\":\"7006bec7-71a7-4d34-ac30-2a60151215f0\",\"type\":\"GlyphRenderer\"},{\"id\":\"9bad6b41-0050-4757-9dd8-facb6f4d0420\",\"type\":\"GlyphRenderer\"},{\"id\":\"f2290683-8a10-4e9d-ae04-e250ce074e9f\",\"type\":\"Legend\"},{\"id\":\"3a0c509e-e4d3-4453-8ddb-f92b63fdb76f\",\"type\":\"LinearAxis\"},{\"id\":\"94fcb444-5f8c-4f91-b24a-acf3917dd4d7\",\"type\":\"LinearAxis\"},{\"id\":\"636daf8d-2ae9-494d-af0f-2865f6dcb716\",\"type\":\"Grid\"},{\"id\":\"0256b0be-f7f4-45b6-841d-5b969b6e3647\",\"type\":\"Grid\"},{\"id\":\"0fe740cb-addc-4bb8-a79e-f8d4ac67eb4a\",\"type\":\"GlyphRenderer\"}],\"title\":{\"id\":\"1d6ed706-56df-48e6-8548-28002f965467\",\"type\":\"Title\"},\"tool_events\":{\"id\":\"54dcf04f-be06-40f8-8543-2c76c7fd9f9e\",\"type\":\"ToolEvents\"},\"toolbar\":{\"id\":\"ca351f13-dd5d-441c-ad40-cf70e690b969\",\"type\":\"Toolbar\"},\"width\":500,\"x_mapper_type\":\"auto\",\"x_range\":{\"id\":\"940fa085-07fa-4211-b88d-a7fbaee8f325\",\"type\":\"Range1d\"},\"y_mapper_type\":\"auto\",\"y_range\":{\"id\":\"42724b49-0910-42b3-937f-faec8ac5ee58\",\"type\":\"Range1d\"}},\"id\":\"b2c37f46-9a58-45cf-a5a9-3a28c8becef9\",\"subtype\":\"Chart\",\"type\":\"Plot\"},{\"attributes\":{\"overlay\":{\"id\":\"19a8ab1c-d8de-4654-a597-6bd0a1ca7a67\",\"type\":\"BoxAnnotation\"},\"plot\":{\"id\":\"b2c37f46-9a58-45cf-a5a9-3a28c8becef9\",\"subtype\":\"Chart\",\"type\":\"Plot\"}},\"id\":\"93bb7985-c19c-4d8b-824c-68812bfea8b7\",\"type\":\"BoxZoomTool\"},{\"attributes\":{\"plot\":{\"id\":\"b2c37f46-9a58-45cf-a5a9-3a28c8becef9\",\"subtype\":\"Chart\",\"type\":\"Plot\"}},\"id\":\"0f04c4cf-39c8-42f3-a8a4-ed2ce2bbf6c5\",\"type\":\"WheelZoomTool\"},{\"attributes\":{\"plot\":{\"id\":\"b2c37f46-9a58-45cf-a5a9-3a28c8becef9\",\"subtype\":\"Chart\",\"type\":\"Plot\"}},\"id\":\"f49042af-e260-4206-94be-8177da3ec7aa\",\"type\":\"ResetTool\"},{\"attributes\":{\"axis_label\":\"x2\",\"formatter\":{\"id\":\"1c639d54-3c8b-4826-8305-02a3432521af\",\"type\":\"BasicTickFormatter\"},\"plot\":{\"id\":\"b2c37f46-9a58-45cf-a5a9-3a28c8becef9\",\"subtype\":\"Chart\",\"type\":\"Plot\"},\"ticker\":{\"id\":\"7fc8c122-8202-4ff0-9387-ce717de50bdf\",\"type\":\"BasicTicker\"}},\"id\":\"94fcb444-5f8c-4f91-b24a-acf3917dd4d7\",\"type\":\"LinearAxis\"},{\"attributes\":{\"plot\":{\"id\":\"b2c37f46-9a58-45cf-a5a9-3a28c8becef9\",\"subtype\":\"Chart\",\"type\":\"Plot\"}},\"id\":\"551e49ef-d183-4c23-a0ff-43e26b670fff\",\"type\":\"PanTool\"},{\"attributes\":{\"plot\":null,\"text\":null},\"id\":\"1d6ed706-56df-48e6-8548-28002f965467\",\"type\":\"Title\"},{\"attributes\":{\"plot\":{\"id\":\"b2c37f46-9a58-45cf-a5a9-3a28c8becef9\",\"subtype\":\"Chart\",\"type\":\"Plot\"}},\"id\":\"18569912-30d5-41aa-9780-f74fa0f3d730\",\"type\":\"HelpTool\"},{\"attributes\":{\"axis_label\":\"x1\",\"formatter\":{\"id\":\"aeae09ad-8fe7-4a50-b996-c04c02f76d43\",\"type\":\"BasicTickFormatter\"},\"plot\":{\"id\":\"b2c37f46-9a58-45cf-a5a9-3a28c8becef9\",\"subtype\":\"Chart\",\"type\":\"Plot\"},\"ticker\":{\"id\":\"fd33dba9-67ab-4cd2-89bd-3d50c12886ba\",\"type\":\"BasicTicker\"}},\"id\":\"3a0c509e-e4d3-4453-8ddb-f92b63fdb76f\",\"type\":\"LinearAxis\"},{\"attributes\":{},\"id\":\"fd33dba9-67ab-4cd2-89bd-3d50c12886ba\",\"type\":\"BasicTicker\"},{\"attributes\":{\"active_drag\":\"auto\",\"active_scroll\":\"auto\",\"active_tap\":\"auto\",\"tools\":[{\"id\":\"551e49ef-d183-4c23-a0ff-43e26b670fff\",\"type\":\"PanTool\"},{\"id\":\"0f04c4cf-39c8-42f3-a8a4-ed2ce2bbf6c5\",\"type\":\"WheelZoomTool\"},{\"id\":\"93bb7985-c19c-4d8b-824c-68812bfea8b7\",\"type\":\"BoxZoomTool\"},{\"id\":\"a7f2fcb3-1e3b-4d1e-ad6a-806e7cbeaf08\",\"type\":\"SaveTool\"},{\"id\":\"f49042af-e260-4206-94be-8177da3ec7aa\",\"type\":\"ResetTool\"},{\"id\":\"18569912-30d5-41aa-9780-f74fa0f3d730\",\"type\":\"HelpTool\"}]},\"id\":\"ca351f13-dd5d-441c-ad40-cf70e690b969\",\"type\":\"Toolbar\"},{\"attributes\":{\"callback\":null,\"end\":10.89932850171301,\"start\":-0.9881206624090173},\"id\":\"42724b49-0910-42b3-937f-faec8ac5ee58\",\"type\":\"Range1d\"},{\"attributes\":{\"label\":{\"value\":\"Correct\"},\"renderers\":[{\"id\":\"7006bec7-71a7-4d34-ac30-2a60151215f0\",\"type\":\"GlyphRenderer\"}]},\"id\":\"3ce61724-6f92-4f8b-882e-c26ae5f3f97a\",\"type\":\"LegendItem\"},{\"attributes\":{},\"id\":\"aeae09ad-8fe7-4a50-b996-c04c02f76d43\",\"type\":\"BasicTickFormatter\"},{\"attributes\":{\"line_color\":{\"value\":\"darkblue\"},\"x\":{\"field\":\"x\"},\"y\":{\"field\":\"y\"}},\"id\":\"efc69ee2-b5bd-46b6-a5b3-0d8d9735d6fb\",\"type\":\"Line\"},{\"attributes\":{\"callback\":null,\"column_names\":[\"x\",\"y\"],\"data\":{\"x\":{\"__ndarray__\":\"AAAAAAAAAACIxvrQWB/KP4jG+tBYH9o/5hS8nIKX4z+IxvrQWB/qPxW8nIKXU/A/5hS8nIKX8z+3bdu2bdv2P4jG+tBYH/o/WR8a60Nj/T8VvJyCl1MAQH5orA+N9QFA5hS8nIKXA0BOwcspeDkFQLdt27Zt2wZAIBrrQ2N9CECIxvrQWB8KQPByCl5OwQtAWR8a60NjDUDCyyl4OQUPQBW8nIKXUxBASZIkSZIkEUB+aKwPjfURQLI+NNaHxhJA5hS8nIKXE0Aa60NjfWgUQE7Byyl4ORVAg5dT8HIKFkC3bdu2bdsWQOtDY31orBdAIBrrQ2N9GEBU8HIKXk4ZQIjG+tBYHxpAvJyCl1PwGkDwcgpeTsEbQCVJkiRJkhxAWR8a60NjHUCN9aGxPjQeQMLLKXg5BR9A9qGxPjTWH0AVvJyCl1MgQC+n4OUUvCBASZIkSZIkIUBjfWisD40hQH5orA+N9SFAmFPwcgpeIkCyPjTWh8YiQMwpeDkFLyNA5hS8nIKXI0AAAAAAAAAkQA==\",\"dtype\":\"float64\",\"shape\":[50]},\"y\":[-5.436493221300785,-5.229310594035054,-5.022127966769323,-4.814945339503591,-4.607762712237859,-4.400580084972127,-4.1933974577063955,-3.986214830440664,-3.779032203174933,-3.571849575909201,-3.3646669486434693,-3.157484321377738,-2.950301694112006,-2.743119066846275,-2.535936439580543,-2.3287538123148113,-2.12157118504908,-1.9143885577833486,-1.7072059305176166,-1.5000233032518846,-1.2928406759861533,-1.0856580487204226,-0.8784754214546903,-0.6712927941889587,-0.46411016692322726,-0.25692753965749576,-0.049744912391764304,0.15743771487396802,0.3646203421396995,0.5718029694054302,0.7789855966711625,0.986168223936894,1.1933508512026254,1.400533478468357,1.6077161057340885,1.8148987329998207,2.022081360265552,2.229263987531283,2.436446614797016,2.6436292420627474,2.850811869328479,3.0579944965942087,3.26517712385994,3.472359751125672,3.679542378391405,3.8867250056571363,4.093907632922868,4.301090260188599,4.508272887454331,4.7154555147200625]}},\"id\":\"6ec8176e-aa9a-4353-a806-642fa4505e55\",\"type\":\"ColumnDataSource\"},{\"attributes\":{\"line_alpha\":{\"value\":0.1},\"line_color\":{\"value\":\"#1f77b4\"},\"x\":{\"field\":\"x\"},\"y\":{\"field\":\"y\"}},\"id\":\"d2e0528b-ad62-42ae-b088-eb56bdc37021\",\"type\":\"Line\"},{\"attributes\":{\"data_source\":{\"id\":\"91ed7d15-f4f7-457e-8b76-042c21bced67\",\"type\":\"ColumnDataSource\"},\"glyph\":{\"id\":\"17454c23-afab-4512-84d0-1518542ab353\",\"type\":\"Circle\"},\"hover_glyph\":null,\"nonselection_glyph\":null,\"selection_glyph\":null},\"id\":\"7006bec7-71a7-4d34-ac30-2a60151215f0\",\"type\":\"GlyphRenderer\"}],\"root_ids\":[\"b2c37f46-9a58-45cf-a5a9-3a28c8becef9\"]},\"title\":\"Bokeh Application\",\"version\":\"0.12.4\"}};\n",
       "            var render_items = [{\"docid\":\"1c5a3d1b-781d-4509-adf7-2215262a3356\",\"elementid\":\"975d33e2-633a-41ae-970a-ee0968a77bd0\",\"modelid\":\"b2c37f46-9a58-45cf-a5a9-3a28c8becef9\"}];\n",
       "            \n",
       "            Bokeh.embed.embed_items(docs_json, render_items);\n",
       "          };\n",
       "          if (document.readyState != \"loading\") fn();\n",
       "          else document.addEventListener(\"DOMContentLoaded\", fn);\n",
       "        })();\n",
       "      },\n",
       "      function(Bokeh) {\n",
       "      }\n",
       "    ];\n",
       "  \n",
       "    function run_inline_js() {\n",
       "      \n",
       "      if ((window.Bokeh !== undefined) || (force === true)) {\n",
       "        for (var i = 0; i < inline_js.length; i++) {\n",
       "          inline_js[i](window.Bokeh);\n",
       "        }if (force === true) {\n",
       "          display_loaded();\n",
       "        }} else if (Date.now() < window._bokeh_timeout) {\n",
       "        setTimeout(run_inline_js, 100);\n",
       "      } else if (!window._bokeh_failed_load) {\n",
       "        console.log(\"Bokeh: BokehJS failed to load within specified timeout.\");\n",
       "        window._bokeh_failed_load = true;\n",
       "      } else if (force !== true) {\n",
       "        var cell = $(document.getElementById(\"975d33e2-633a-41ae-970a-ee0968a77bd0\")).parents('.cell').data().cell;\n",
       "        cell.output_area.append_execute_result(NB_LOAD_WARNING)\n",
       "      }\n",
       "  \n",
       "    }\n",
       "  \n",
       "    if (window._bokeh_is_loading === 0) {\n",
       "      console.log(\"Bokeh: BokehJS loaded, going straight to plotting\");\n",
       "      run_inline_js();\n",
       "    } else {\n",
       "      load_libs(js_urls, function() {\n",
       "        console.log(\"Bokeh: BokehJS plotting callback run at\", now());\n",
       "        run_inline_js();\n",
       "      });\n",
       "    }\n",
       "  }(this));\n",
       "</script>"
      ]
     },
     "metadata": {},
     "output_type": "display_data"
    }
   ],
   "source": [
    "correct = ['Correct' if yi == yh_i else 'Incorrect' for yi, yh_i in zip(y, y_hat)]\n",
    "plot_svm_results(correct, clf.intercept_[0], clf.coef_[0][0], clf.coef_[0][1])"
   ]
  },
  {
   "cell_type": "markdown",
   "metadata": {
    "deletable": true,
    "editable": true,
    "slideshow": {
     "slide_type": "slide"
    }
   },
   "source": [
    "## Interlude: Problem Shapes"
   ]
  },
  {
   "cell_type": "markdown",
   "metadata": {
    "slideshow": {
     "slide_type": "subslide"
    }
   },
   "source": [
    "In Linear Algebra 101 we learned to solve problems that look like this.\n",
    "\n",
    "$$Ax = b$$\n",
    "\n",
    "$$\n",
    "\\begin{bmatrix} \\cdot & \\cdot \\\\ \\cdot & \\cdot \\end{bmatrix}\n",
    "\\begin{bmatrix} \\cdot \\\\ \\cdot \\end{bmatrix}\n",
    "=\n",
    "\\begin{bmatrix} \\cdot \\\\ \\cdot \\end{bmatrix}\n",
    "$$"
   ]
  },
  {
   "cell_type": "markdown",
   "metadata": {
    "deletable": true,
    "editable": true,
    "slideshow": {
     "slide_type": "subslide"
    }
   },
   "source": [
    "Many statistical inference problems are overdetermined and unsolvable directly.\n",
    "\n",
    "$$Ax = b$$\n",
    "\n",
    "$$\n",
    "\\begin{bmatrix} \n",
    "    \\cdot & \\cdot \\\\ \n",
    "    \\cdot & \\cdot \\\\ \n",
    "    \\cdot & \\cdot \\\\ \n",
    "    \\cdot & \\cdot \\\\ \n",
    "    \\cdot & \\cdot \\\\ \n",
    "    \\cdot & \\cdot \\\\ \n",
    "    \\cdot & \\cdot \\\\ \n",
    "    \\cdot & \\cdot \\\\ \n",
    "    \\cdot & \\cdot \\\\ \n",
    "    \\cdot & \\cdot\n",
    "\\end{bmatrix}\n",
    "\\begin{bmatrix} \\cdot \\\\ \\cdot \\end{bmatrix}\n",
    "=\n",
    "\\begin{bmatrix} \n",
    "    \\cdot \\\\ \n",
    "    \\cdot \\\\ \n",
    "    \\cdot \\\\ \n",
    "    \\cdot \\\\ \n",
    "    \\cdot \\\\ \n",
    "    \\cdot \\\\ \n",
    "    \\cdot \\\\ \n",
    "    \\cdot \\\\ \n",
    "    \\cdot \\\\ \n",
    "    \\cdot \n",
    "\\end{bmatrix}\n",
    "$$"
   ]
  },
  {
   "cell_type": "markdown",
   "metadata": {
    "deletable": true,
    "editable": true,
    "slideshow": {
     "slide_type": "subslide"
    }
   },
   "source": [
    "Decision models tend to involve a large number of potential actions in relation to the constraint set.\n",
    "\n",
    "$$Ax = b$$\n",
    "\n",
    "$$\n",
    "\\begin{bmatrix} \n",
    "    \\cdot & \\cdot & \\cdot & \\cdot & \\cdot & \\cdot & \\cdot & \\cdot & \\cdot & \\cdot \\\\ \n",
    "    \\cdot & \\cdot & \\cdot & \\cdot & \\cdot & \\cdot & \\cdot & \\cdot & \\cdot & \\cdot\n",
    "\\end{bmatrix}\n",
    "\\begin{bmatrix} \n",
    "    \\cdot \\\\ \n",
    "    \\cdot \\\\ \n",
    "    \\cdot \\\\ \n",
    "    \\cdot \\\\ \n",
    "    \\cdot \\\\ \n",
    "    \\cdot \\\\ \n",
    "    \\cdot \\\\ \n",
    "    \\cdot \\\\ \n",
    "    \\cdot \\\\ \n",
    "    \\cdot \n",
    "\\end{bmatrix}\n",
    "=\n",
    "\\begin{bmatrix} \n",
    "    \\cdot \\\\ \n",
    "    \\cdot\n",
    "\\end{bmatrix}\n",
    "$$"
   ]
  },
  {
   "cell_type": "markdown",
   "metadata": {
    "slideshow": {
     "slide_type": "subslide"
    }
   },
   "source": [
    "In both cases, we start with a problem we can't solve easily and reformulate it as something we can.\n",
    "\n",
    "For statistical inference, we solve a secondary problem that minimizes error against the observed data.\n",
    "\n",
    "For decision models, we choose a set of actions to take _(i.e. a basis)_ and solve the remaining system."
   ]
  },
  {
   "cell_type": "markdown",
   "metadata": {
    "deletable": true,
    "editable": true,
    "slideshow": {
     "slide_type": "slide"
    }
   },
   "source": [
    "## Clustering\n",
    "\n",
    "We have a set of unclassified data and we want to cluster it around logical centers."
   ]
  },
  {
   "cell_type": "markdown",
   "metadata": {
    "deletable": true,
    "editable": true,
    "slideshow": {
     "slide_type": "subslide"
    }
   },
   "source": [
    "We generate 25 points around each center $(x_{10}, x_{20}) \\in \\{(0.3, 0.3), (0.3, 0.7), (0.7, 0.7)\\}$.\n",
    "\n",
    "$$x_{1i} = x_{10} + \\epsilon$$  \n",
    "  \n",
    "$$x_{2i} = x_{20} + \\epsilon$$\n",
    "  \n",
    "$$\\epsilon \\sim N\\left(0, 0.2^2\\right)$$\n"
   ]
  },
  {
   "cell_type": "code",
   "execution_count": 27,
   "metadata": {
    "collapsed": false,
    "deletable": true,
    "editable": true,
    "slideshow": {
     "slide_type": "subslide"
    }
   },
   "outputs": [],
   "source": [
    "centers = [(0.3, 0.3), (0.3, 0.7), (0.7, 0.7)]\n",
    "\n",
    "x1 = []\n",
    "x2 = []\n",
    "for x10, x20 in centers:\n",
    "    for _ in range(7):\n",
    "        eps_x1 = random.normalvariate(0, 0.2)\n",
    "        eps_x2 = random.normalvariate(0, 0.2)\n",
    "\n",
    "        x1i = min(max(0.0, x10+eps_x1), 1.0)\n",
    "        x2i = min(max(0.0, x20+eps_x2), 1.0)\n",
    "        \n",
    "        x1.append(x1i)\n",
    "        x2.append(x2i)\n",
    "        \n",
    "X = np.array(list(zip(x1, x2)))"
   ]
  },
  {
   "cell_type": "code",
   "execution_count": 28,
   "metadata": {
    "collapsed": false,
    "deletable": true,
    "editable": true,
    "scrolled": true,
    "slideshow": {
     "slide_type": "subslide"
    }
   },
   "outputs": [
    {
     "data": {
      "text/html": [
       "\n",
       "\n",
       "    <div class=\"bk-root\">\n",
       "        <div class=\"bk-plotdiv\" id=\"f4201044-db2d-4a18-95d8-95873eb434da\"></div>\n",
       "    </div>\n",
       "<script type=\"text/javascript\">\n",
       "  \n",
       "  (function(global) {\n",
       "    function now() {\n",
       "      return new Date();\n",
       "    }\n",
       "  \n",
       "    var force = false;\n",
       "  \n",
       "    if (typeof (window._bokeh_onload_callbacks) === \"undefined\" || force === true) {\n",
       "      window._bokeh_onload_callbacks = [];\n",
       "      window._bokeh_is_loading = undefined;\n",
       "    }\n",
       "  \n",
       "  \n",
       "    \n",
       "    if (typeof (window._bokeh_timeout) === \"undefined\" || force === true) {\n",
       "      window._bokeh_timeout = Date.now() + 0;\n",
       "      window._bokeh_failed_load = false;\n",
       "    }\n",
       "  \n",
       "    var NB_LOAD_WARNING = {'data': {'text/html':\n",
       "       \"<div style='background-color: #fdd'>\\n\"+\n",
       "       \"<p>\\n\"+\n",
       "       \"BokehJS does not appear to have successfully loaded. If loading BokehJS from CDN, this \\n\"+\n",
       "       \"may be due to a slow or bad network connection. Possible fixes:\\n\"+\n",
       "       \"</p>\\n\"+\n",
       "       \"<ul>\\n\"+\n",
       "       \"<li>re-rerun `output_notebook()` to attempt to load from CDN again, or</li>\\n\"+\n",
       "       \"<li>use INLINE resources instead, as so:</li>\\n\"+\n",
       "       \"</ul>\\n\"+\n",
       "       \"<code>\\n\"+\n",
       "       \"from bokeh.resources import INLINE\\n\"+\n",
       "       \"output_notebook(resources=INLINE)\\n\"+\n",
       "       \"</code>\\n\"+\n",
       "       \"</div>\"}};\n",
       "  \n",
       "    function display_loaded() {\n",
       "      if (window.Bokeh !== undefined) {\n",
       "        document.getElementById(\"f4201044-db2d-4a18-95d8-95873eb434da\").textContent = \"BokehJS successfully loaded.\";\n",
       "      } else if (Date.now() < window._bokeh_timeout) {\n",
       "        setTimeout(display_loaded, 100)\n",
       "      }\n",
       "    }\n",
       "  \n",
       "    function run_callbacks() {\n",
       "      window._bokeh_onload_callbacks.forEach(function(callback) { callback() });\n",
       "      delete window._bokeh_onload_callbacks\n",
       "      console.info(\"Bokeh: all callbacks have finished\");\n",
       "    }\n",
       "  \n",
       "    function load_libs(js_urls, callback) {\n",
       "      window._bokeh_onload_callbacks.push(callback);\n",
       "      if (window._bokeh_is_loading > 0) {\n",
       "        console.log(\"Bokeh: BokehJS is being loaded, scheduling callback at\", now());\n",
       "        return null;\n",
       "      }\n",
       "      if (js_urls == null || js_urls.length === 0) {\n",
       "        run_callbacks();\n",
       "        return null;\n",
       "      }\n",
       "      console.log(\"Bokeh: BokehJS not loaded, scheduling load and callback at\", now());\n",
       "      window._bokeh_is_loading = js_urls.length;\n",
       "      for (var i = 0; i < js_urls.length; i++) {\n",
       "        var url = js_urls[i];\n",
       "        var s = document.createElement('script');\n",
       "        s.src = url;\n",
       "        s.async = false;\n",
       "        s.onreadystatechange = s.onload = function() {\n",
       "          window._bokeh_is_loading--;\n",
       "          if (window._bokeh_is_loading === 0) {\n",
       "            console.log(\"Bokeh: all BokehJS libraries loaded\");\n",
       "            run_callbacks()\n",
       "          }\n",
       "        };\n",
       "        s.onerror = function() {\n",
       "          console.warn(\"failed to load library \" + url);\n",
       "        };\n",
       "        console.log(\"Bokeh: injecting script tag for BokehJS library: \", url);\n",
       "        document.getElementsByTagName(\"head\")[0].appendChild(s);\n",
       "      }\n",
       "    };var element = document.getElementById(\"f4201044-db2d-4a18-95d8-95873eb434da\");\n",
       "    if (element == null) {\n",
       "      console.log(\"Bokeh: ERROR: autoload.js configured with elementid 'f4201044-db2d-4a18-95d8-95873eb434da' but no matching script tag was found. \")\n",
       "      return false;\n",
       "    }\n",
       "  \n",
       "    var js_urls = [];\n",
       "  \n",
       "    var inline_js = [\n",
       "      function(Bokeh) {\n",
       "        (function() {\n",
       "          var fn = function() {\n",
       "            var docs_json = {\"f0b75378-66af-4827-8967-6f58dd8d9151\":{\"roots\":{\"references\":[{\"attributes\":{},\"id\":\"c0a92270-87cc-413b-92aa-eec5f45aeecd\",\"type\":\"BasicTickFormatter\"},{\"attributes\":{},\"id\":\"b4c6b781-a4bd-4f0e-860c-3f694ef996ad\",\"type\":\"BasicTickFormatter\"},{\"attributes\":{\"axis_label\":\"x2\",\"formatter\":{\"id\":\"c0a92270-87cc-413b-92aa-eec5f45aeecd\",\"type\":\"BasicTickFormatter\"},\"plot\":{\"id\":\"a44b4ac6-c1b3-4354-aaae-8e60c9ca53ba\",\"subtype\":\"Chart\",\"type\":\"Plot\"},\"ticker\":{\"id\":\"4dd572c8-38dd-4eee-abeb-ace6113ba797\",\"type\":\"BasicTicker\"}},\"id\":\"fcc3b728-0cca-4e6b-851c-0708d98d4fa7\",\"type\":\"LinearAxis\"},{\"attributes\":{\"callback\":null,\"end\":0.9358784818322384,\"start\":-0.08507986198474896},\"id\":\"8cbdda5e-76a6-4082-b13f-5697d24663be\",\"type\":\"Range1d\"},{\"attributes\":{\"location\":\"top_left\",\"plot\":{\"id\":\"a44b4ac6-c1b3-4354-aaae-8e60c9ca53ba\",\"subtype\":\"Chart\",\"type\":\"Plot\"}},\"id\":\"f8dfee59-3217-46bf-a22a-42f07b0ae1f4\",\"type\":\"Legend\"},{\"attributes\":{\"axis_label\":\"x1\",\"formatter\":{\"id\":\"b4c6b781-a4bd-4f0e-860c-3f694ef996ad\",\"type\":\"BasicTickFormatter\"},\"plot\":{\"id\":\"a44b4ac6-c1b3-4354-aaae-8e60c9ca53ba\",\"subtype\":\"Chart\",\"type\":\"Plot\"},\"ticker\":{\"id\":\"d55315ab-e1f7-430e-9e68-fa1d70796a6a\",\"type\":\"BasicTicker\"}},\"id\":\"71c5fc1c-5341-43e1-8167-06e6af962ce9\",\"type\":\"LinearAxis\"},{\"attributes\":{\"below\":[{\"id\":\"71c5fc1c-5341-43e1-8167-06e6af962ce9\",\"type\":\"LinearAxis\"}],\"css_classes\":null,\"height\":500,\"left\":[{\"id\":\"fcc3b728-0cca-4e6b-851c-0708d98d4fa7\",\"type\":\"LinearAxis\"}],\"renderers\":[{\"id\":\"97610c4b-be07-4a1d-83e7-a0a59eb7fc6c\",\"type\":\"BoxAnnotation\"},{\"id\":\"d72eb9cd-028d-4dcb-a2e0-ac866e976a4d\",\"type\":\"GlyphRenderer\"},{\"id\":\"f8dfee59-3217-46bf-a22a-42f07b0ae1f4\",\"type\":\"Legend\"},{\"id\":\"71c5fc1c-5341-43e1-8167-06e6af962ce9\",\"type\":\"LinearAxis\"},{\"id\":\"fcc3b728-0cca-4e6b-851c-0708d98d4fa7\",\"type\":\"LinearAxis\"},{\"id\":\"66e46669-7043-4b9d-8fe2-6a425d891f02\",\"type\":\"Grid\"},{\"id\":\"aa96f5f4-f91d-4688-b439-8d0a66a04899\",\"type\":\"Grid\"}],\"title\":{\"id\":\"467bdfff-905f-4e1c-a94d-9d845ee059b6\",\"type\":\"Title\"},\"tool_events\":{\"id\":\"aaacb2c4-4c1a-4543-965b-bfdbf052dfc3\",\"type\":\"ToolEvents\"},\"toolbar\":{\"id\":\"1e97781d-8a2d-402d-9140-aeea73e65fd2\",\"type\":\"Toolbar\"},\"width\":500,\"x_mapper_type\":\"auto\",\"x_range\":{\"id\":\"8cbdda5e-76a6-4082-b13f-5697d24663be\",\"type\":\"Range1d\"},\"y_mapper_type\":\"auto\",\"y_range\":{\"id\":\"257ef3bf-d19b-4b59-a6a6-744eb7f304dd\",\"type\":\"Range1d\"}},\"id\":\"a44b4ac6-c1b3-4354-aaae-8e60c9ca53ba\",\"subtype\":\"Chart\",\"type\":\"Plot\"},{\"attributes\":{},\"id\":\"d55315ab-e1f7-430e-9e68-fa1d70796a6a\",\"type\":\"BasicTicker\"},{\"attributes\":{\"fill_alpha\":{\"value\":0.7},\"fill_color\":{\"value\":\"#f22c40\"},\"line_color\":{\"value\":\"#f22c40\"},\"size\":{\"units\":\"screen\",\"value\":8},\"x\":{\"field\":\"x_values\"},\"y\":{\"field\":\"y_values\"}},\"id\":\"0e69de75-e4f2-489f-abc3-6f78eab8ff55\",\"type\":\"Circle\"},{\"attributes\":{\"plot\":null,\"text\":null},\"id\":\"467bdfff-905f-4e1c-a94d-9d845ee059b6\",\"type\":\"Title\"},{\"attributes\":{\"callback\":null,\"column_names\":[\"x_values\",\"y_values\"],\"data\":{\"chart_index\":[null,null,null,null,null,null,null,null,null,null,null,null,null,null,null,null,null,null,null,null,null],\"x_values\":{\"__ndarray__\":\"XLIs3pj91T8AAAAAAAAAAA68UlpH6dc/+PUHwtYNtz/wQ/DOIM2nP9UFWgFjetI/WbdcDPze5D+yrz1uV8TIP/Bo4twnYNI/IZQHYHJ/1D/HgMmiqc/RP9zi/j0NBa0/Rkul7Miq2T/P1PMK7QvaP9UExc2Yedc/sLcbIcen0D/wI5ea1EDpP/c4BNQgEeA/zEL3Br456z8MVlYKiIzUPxyY+61hI94/\",\"dtype\":\"float64\",\"shape\":[21]},\"y_values\":{\"__ndarray__\":\"YEWuQHNVoD/+pazw6uTZP4qeF/ZFgNg/aOdI0gj8tz+o6Z6nvV/gP0Hx634xz9E/jsdY+IK+yz/05A1m1QHlP4MrtdInnO0/uv1/jorV4D8DEi/40kDnP2iU5+/kmt0/Srl4x05c6z/oeP4f+ovoP1J9dUdv8+k/WsSt8ddf5j9nZlpXA7noP2TNoxIcauc/KLaof3ae4j+mjfSs/9bhP+LTlWRmL+g/\",\"dtype\":\"float64\",\"shape\":[21]}}},\"id\":\"8c18335f-70d1-4848-9d9e-dd4c064fb913\",\"type\":\"ColumnDataSource\"},{\"attributes\":{},\"id\":\"aaacb2c4-4c1a-4543-965b-bfdbf052dfc3\",\"type\":\"ToolEvents\"},{\"attributes\":{\"dimension\":1,\"plot\":{\"id\":\"a44b4ac6-c1b3-4354-aaae-8e60c9ca53ba\",\"subtype\":\"Chart\",\"type\":\"Plot\"},\"ticker\":{\"id\":\"4dd572c8-38dd-4eee-abeb-ace6113ba797\",\"type\":\"BasicTicker\"}},\"id\":\"aa96f5f4-f91d-4688-b439-8d0a66a04899\",\"type\":\"Grid\"},{\"attributes\":{\"callback\":null,\"end\":1.0146529603269139,\"start\":-0.05743906912201685},\"id\":\"257ef3bf-d19b-4b59-a6a6-744eb7f304dd\",\"type\":\"Range1d\"},{\"attributes\":{\"active_drag\":\"auto\",\"active_scroll\":\"auto\",\"active_tap\":\"auto\",\"tools\":[{\"id\":\"658c8001-ebb2-4785-815d-7ae924f2c36f\",\"type\":\"PanTool\"},{\"id\":\"5192f320-8386-42e2-879e-213f0f01c264\",\"type\":\"WheelZoomTool\"},{\"id\":\"ef4a4690-b294-49b2-a27c-45818c0fbd61\",\"type\":\"BoxZoomTool\"},{\"id\":\"f5f47788-67bd-408a-868f-2a4cca1b1ac2\",\"type\":\"SaveTool\"},{\"id\":\"f7fd0829-a05a-4962-ab2e-e1e7625db502\",\"type\":\"ResetTool\"},{\"id\":\"dfc3fcad-7659-4a48-ac21-6c978439f73f\",\"type\":\"HelpTool\"}]},\"id\":\"1e97781d-8a2d-402d-9140-aeea73e65fd2\",\"type\":\"Toolbar\"},{\"attributes\":{\"data_source\":{\"id\":\"8c18335f-70d1-4848-9d9e-dd4c064fb913\",\"type\":\"ColumnDataSource\"},\"glyph\":{\"id\":\"0e69de75-e4f2-489f-abc3-6f78eab8ff55\",\"type\":\"Circle\"},\"hover_glyph\":null,\"nonselection_glyph\":null,\"selection_glyph\":null},\"id\":\"d72eb9cd-028d-4dcb-a2e0-ac866e976a4d\",\"type\":\"GlyphRenderer\"},{\"attributes\":{\"bottom_units\":\"screen\",\"fill_alpha\":{\"value\":0.5},\"fill_color\":{\"value\":\"lightgrey\"},\"left_units\":\"screen\",\"level\":\"overlay\",\"line_alpha\":{\"value\":1.0},\"line_color\":{\"value\":\"black\"},\"line_dash\":[4,4],\"line_width\":{\"value\":2},\"plot\":null,\"render_mode\":\"css\",\"right_units\":\"screen\",\"top_units\":\"screen\"},\"id\":\"97610c4b-be07-4a1d-83e7-a0a59eb7fc6c\",\"type\":\"BoxAnnotation\"},{\"attributes\":{\"plot\":{\"id\":\"a44b4ac6-c1b3-4354-aaae-8e60c9ca53ba\",\"subtype\":\"Chart\",\"type\":\"Plot\"}},\"id\":\"658c8001-ebb2-4785-815d-7ae924f2c36f\",\"type\":\"PanTool\"},{\"attributes\":{\"plot\":{\"id\":\"a44b4ac6-c1b3-4354-aaae-8e60c9ca53ba\",\"subtype\":\"Chart\",\"type\":\"Plot\"},\"ticker\":{\"id\":\"d55315ab-e1f7-430e-9e68-fa1d70796a6a\",\"type\":\"BasicTicker\"}},\"id\":\"66e46669-7043-4b9d-8fe2-6a425d891f02\",\"type\":\"Grid\"},{\"attributes\":{},\"id\":\"4dd572c8-38dd-4eee-abeb-ace6113ba797\",\"type\":\"BasicTicker\"},{\"attributes\":{\"plot\":{\"id\":\"a44b4ac6-c1b3-4354-aaae-8e60c9ca53ba\",\"subtype\":\"Chart\",\"type\":\"Plot\"}},\"id\":\"5192f320-8386-42e2-879e-213f0f01c264\",\"type\":\"WheelZoomTool\"},{\"attributes\":{\"overlay\":{\"id\":\"97610c4b-be07-4a1d-83e7-a0a59eb7fc6c\",\"type\":\"BoxAnnotation\"},\"plot\":{\"id\":\"a44b4ac6-c1b3-4354-aaae-8e60c9ca53ba\",\"subtype\":\"Chart\",\"type\":\"Plot\"}},\"id\":\"ef4a4690-b294-49b2-a27c-45818c0fbd61\",\"type\":\"BoxZoomTool\"},{\"attributes\":{\"plot\":{\"id\":\"a44b4ac6-c1b3-4354-aaae-8e60c9ca53ba\",\"subtype\":\"Chart\",\"type\":\"Plot\"}},\"id\":\"f5f47788-67bd-408a-868f-2a4cca1b1ac2\",\"type\":\"SaveTool\"},{\"attributes\":{\"plot\":{\"id\":\"a44b4ac6-c1b3-4354-aaae-8e60c9ca53ba\",\"subtype\":\"Chart\",\"type\":\"Plot\"}},\"id\":\"f7fd0829-a05a-4962-ab2e-e1e7625db502\",\"type\":\"ResetTool\"},{\"attributes\":{\"plot\":{\"id\":\"a44b4ac6-c1b3-4354-aaae-8e60c9ca53ba\",\"subtype\":\"Chart\",\"type\":\"Plot\"}},\"id\":\"dfc3fcad-7659-4a48-ac21-6c978439f73f\",\"type\":\"HelpTool\"}],\"root_ids\":[\"a44b4ac6-c1b3-4354-aaae-8e60c9ca53ba\"]},\"title\":\"Bokeh Application\",\"version\":\"0.12.4\"}};\n",
       "            var render_items = [{\"docid\":\"f0b75378-66af-4827-8967-6f58dd8d9151\",\"elementid\":\"f4201044-db2d-4a18-95d8-95873eb434da\",\"modelid\":\"a44b4ac6-c1b3-4354-aaae-8e60c9ca53ba\"}];\n",
       "            \n",
       "            Bokeh.embed.embed_items(docs_json, render_items);\n",
       "          };\n",
       "          if (document.readyState != \"loading\") fn();\n",
       "          else document.addEventListener(\"DOMContentLoaded\", fn);\n",
       "        })();\n",
       "      },\n",
       "      function(Bokeh) {\n",
       "      }\n",
       "    ];\n",
       "  \n",
       "    function run_inline_js() {\n",
       "      \n",
       "      if ((window.Bokeh !== undefined) || (force === true)) {\n",
       "        for (var i = 0; i < inline_js.length; i++) {\n",
       "          inline_js[i](window.Bokeh);\n",
       "        }if (force === true) {\n",
       "          display_loaded();\n",
       "        }} else if (Date.now() < window._bokeh_timeout) {\n",
       "        setTimeout(run_inline_js, 100);\n",
       "      } else if (!window._bokeh_failed_load) {\n",
       "        console.log(\"Bokeh: BokehJS failed to load within specified timeout.\");\n",
       "        window._bokeh_failed_load = true;\n",
       "      } else if (force !== true) {\n",
       "        var cell = $(document.getElementById(\"f4201044-db2d-4a18-95d8-95873eb434da\")).parents('.cell').data().cell;\n",
       "        cell.output_area.append_execute_result(NB_LOAD_WARNING)\n",
       "      }\n",
       "  \n",
       "    }\n",
       "  \n",
       "    if (window._bokeh_is_loading === 0) {\n",
       "      console.log(\"Bokeh: BokehJS loaded, going straight to plotting\");\n",
       "      run_inline_js();\n",
       "    } else {\n",
       "      load_libs(js_urls, function() {\n",
       "        console.log(\"Bokeh: BokehJS plotting callback run at\", now());\n",
       "        run_inline_js();\n",
       "      });\n",
       "    }\n",
       "  }(this));\n",
       "</script>"
      ]
     },
     "metadata": {},
     "output_type": "display_data"
    }
   ],
   "source": [
    "show(Scatter({'x1': x1, 'x2': x2}, x='x1', y='x2', width=500, height=500))"
   ]
  },
  {
   "cell_type": "markdown",
   "metadata": {
    "collapsed": true,
    "deletable": true,
    "editable": true,
    "slideshow": {
     "slide_type": "slide"
    }
   },
   "source": [
    "### Clustering a la `scikit-learn`"
   ]
  },
  {
   "cell_type": "code",
   "execution_count": 29,
   "metadata": {
    "collapsed": false,
    "deletable": true,
    "editable": true,
    "slideshow": {
     "slide_type": "subslide"
    }
   },
   "outputs": [
    {
     "data": {
      "text/plain": [
       "KMeans(algorithm='auto', copy_x=True, init='k-means++', max_iter=300,\n",
       "    n_clusters=3, n_init=10, n_jobs=1, precompute_distances='auto',\n",
       "    random_state=None, tol=0.0001, verbose=0)"
      ]
     },
     "execution_count": 29,
     "metadata": {},
     "output_type": "execute_result"
    }
   ],
   "source": [
    "from sklearn.cluster import KMeans\n",
    "clust = KMeans(n_clusters=3)\n",
    "clust.fit(X)"
   ]
  },
  {
   "cell_type": "code",
   "execution_count": 30,
   "metadata": {
    "collapsed": false,
    "deletable": true,
    "editable": true,
    "slideshow": {
     "slide_type": "subslide"
    }
   },
   "outputs": [
    {
     "data": {
      "text/plain": [
       "array([[ 0.76406076,  0.52372656],\n",
       "       [ 0.34621189,  0.72834279],\n",
       "       [ 0.1713082 ,  0.30936497]])"
      ]
     },
     "execution_count": 30,
     "metadata": {},
     "output_type": "execute_result"
    }
   ],
   "source": [
    "clust.cluster_centers_"
   ]
  },
  {
   "cell_type": "code",
   "execution_count": 31,
   "metadata": {
    "collapsed": true,
    "deletable": true,
    "editable": true,
    "slideshow": {
     "slide_type": "subslide"
    }
   },
   "outputs": [],
   "source": [
    "def plot_clusters(clusters, cluster_centers):\n",
    "    plot = Scatter(\n",
    "        {'x1': x1, 'x2': x2, 'clusters': clusters},\n",
    "        x='x1', y='x2',\n",
    "        color='clusters', marker='clusters', \n",
    "        width=500, height=500\n",
    "    )\n",
    "\n",
    "    for x10, x20 in cluster_centers:\n",
    "        plot.circle(x10, x20, alpha=0.5, color='grey', size=15)\n",
    "\n",
    "    show(plot)"
   ]
  },
  {
   "cell_type": "code",
   "execution_count": 32,
   "metadata": {
    "collapsed": false,
    "deletable": true,
    "editable": true,
    "slideshow": {
     "slide_type": "subslide"
    }
   },
   "outputs": [
    {
     "data": {
      "text/html": [
       "\n",
       "\n",
       "    <div class=\"bk-root\">\n",
       "        <div class=\"bk-plotdiv\" id=\"a0cdb70b-a318-4b26-9573-0b0d8c82b8ba\"></div>\n",
       "    </div>\n",
       "<script type=\"text/javascript\">\n",
       "  \n",
       "  (function(global) {\n",
       "    function now() {\n",
       "      return new Date();\n",
       "    }\n",
       "  \n",
       "    var force = false;\n",
       "  \n",
       "    if (typeof (window._bokeh_onload_callbacks) === \"undefined\" || force === true) {\n",
       "      window._bokeh_onload_callbacks = [];\n",
       "      window._bokeh_is_loading = undefined;\n",
       "    }\n",
       "  \n",
       "  \n",
       "    \n",
       "    if (typeof (window._bokeh_timeout) === \"undefined\" || force === true) {\n",
       "      window._bokeh_timeout = Date.now() + 0;\n",
       "      window._bokeh_failed_load = false;\n",
       "    }\n",
       "  \n",
       "    var NB_LOAD_WARNING = {'data': {'text/html':\n",
       "       \"<div style='background-color: #fdd'>\\n\"+\n",
       "       \"<p>\\n\"+\n",
       "       \"BokehJS does not appear to have successfully loaded. If loading BokehJS from CDN, this \\n\"+\n",
       "       \"may be due to a slow or bad network connection. Possible fixes:\\n\"+\n",
       "       \"</p>\\n\"+\n",
       "       \"<ul>\\n\"+\n",
       "       \"<li>re-rerun `output_notebook()` to attempt to load from CDN again, or</li>\\n\"+\n",
       "       \"<li>use INLINE resources instead, as so:</li>\\n\"+\n",
       "       \"</ul>\\n\"+\n",
       "       \"<code>\\n\"+\n",
       "       \"from bokeh.resources import INLINE\\n\"+\n",
       "       \"output_notebook(resources=INLINE)\\n\"+\n",
       "       \"</code>\\n\"+\n",
       "       \"</div>\"}};\n",
       "  \n",
       "    function display_loaded() {\n",
       "      if (window.Bokeh !== undefined) {\n",
       "        document.getElementById(\"a0cdb70b-a318-4b26-9573-0b0d8c82b8ba\").textContent = \"BokehJS successfully loaded.\";\n",
       "      } else if (Date.now() < window._bokeh_timeout) {\n",
       "        setTimeout(display_loaded, 100)\n",
       "      }\n",
       "    }\n",
       "  \n",
       "    function run_callbacks() {\n",
       "      window._bokeh_onload_callbacks.forEach(function(callback) { callback() });\n",
       "      delete window._bokeh_onload_callbacks\n",
       "      console.info(\"Bokeh: all callbacks have finished\");\n",
       "    }\n",
       "  \n",
       "    function load_libs(js_urls, callback) {\n",
       "      window._bokeh_onload_callbacks.push(callback);\n",
       "      if (window._bokeh_is_loading > 0) {\n",
       "        console.log(\"Bokeh: BokehJS is being loaded, scheduling callback at\", now());\n",
       "        return null;\n",
       "      }\n",
       "      if (js_urls == null || js_urls.length === 0) {\n",
       "        run_callbacks();\n",
       "        return null;\n",
       "      }\n",
       "      console.log(\"Bokeh: BokehJS not loaded, scheduling load and callback at\", now());\n",
       "      window._bokeh_is_loading = js_urls.length;\n",
       "      for (var i = 0; i < js_urls.length; i++) {\n",
       "        var url = js_urls[i];\n",
       "        var s = document.createElement('script');\n",
       "        s.src = url;\n",
       "        s.async = false;\n",
       "        s.onreadystatechange = s.onload = function() {\n",
       "          window._bokeh_is_loading--;\n",
       "          if (window._bokeh_is_loading === 0) {\n",
       "            console.log(\"Bokeh: all BokehJS libraries loaded\");\n",
       "            run_callbacks()\n",
       "          }\n",
       "        };\n",
       "        s.onerror = function() {\n",
       "          console.warn(\"failed to load library \" + url);\n",
       "        };\n",
       "        console.log(\"Bokeh: injecting script tag for BokehJS library: \", url);\n",
       "        document.getElementsByTagName(\"head\")[0].appendChild(s);\n",
       "      }\n",
       "    };var element = document.getElementById(\"a0cdb70b-a318-4b26-9573-0b0d8c82b8ba\");\n",
       "    if (element == null) {\n",
       "      console.log(\"Bokeh: ERROR: autoload.js configured with elementid 'a0cdb70b-a318-4b26-9573-0b0d8c82b8ba' but no matching script tag was found. \")\n",
       "      return false;\n",
       "    }\n",
       "  \n",
       "    var js_urls = [];\n",
       "  \n",
       "    var inline_js = [\n",
       "      function(Bokeh) {\n",
       "        (function() {\n",
       "          var fn = function() {\n",
       "            var docs_json = {\"22bdc704-04cf-4ea7-af9f-0f233e71603a\":{\"roots\":{\"references\":[{\"attributes\":{\"fill_alpha\":{\"value\":0.7},\"fill_color\":{\"value\":\"#f22c40\"},\"line_color\":{\"value\":\"#f22c40\"},\"size\":{\"units\":\"screen\",\"value\":8},\"x\":{\"field\":\"x_values\"},\"y\":{\"field\":\"y_values\"}},\"id\":\"149a3fbc-597b-4105-8c7e-03a55e5056b2\",\"type\":\"Circle\"},{\"attributes\":{\"callback\":null,\"column_names\":[\"x_values\",\"y_values\"],\"data\":{\"chart_index\":[{\"clusters\":2},{\"clusters\":2},{\"clusters\":2},{\"clusters\":2},{\"clusters\":2},{\"clusters\":2},{\"clusters\":2}],\"clusters\":[2,2,2,2,2,2,2],\"x_values\":{\"__ndarray__\":\"XLIs3pj91T8AAAAAAAAAAA68UlpH6dc/+PUHwtYNtz/wQ/DOIM2nP9UFWgFjetI/3OL+PQ0FrT8=\",\"dtype\":\"float64\",\"shape\":[7]},\"y_values\":{\"__ndarray__\":\"YEWuQHNVoD/+pazw6uTZP4qeF/ZFgNg/aOdI0gj8tz+o6Z6nvV/gP0Hx634xz9E/aJTn7+Sa3T8=\",\"dtype\":\"float64\",\"shape\":[7]}}},\"id\":\"62b9c4a2-31a7-4052-aeea-13f855097ec6\",\"type\":\"ColumnDataSource\"},{\"attributes\":{\"data_source\":{\"id\":\"62b9c4a2-31a7-4052-aeea-13f855097ec6\",\"type\":\"ColumnDataSource\"},\"glyph\":{\"id\":\"392be0f7-a822-446e-8e36-c5e48d216522\",\"type\":\"Triangle\"},\"hover_glyph\":null,\"nonselection_glyph\":null,\"selection_glyph\":null},\"id\":\"af35ecbd-c178-4b01-ba5e-ce34eaf63072\",\"type\":\"GlyphRenderer\"},{\"attributes\":{\"fill_alpha\":{\"value\":0.7},\"fill_color\":{\"value\":\"#407ee7\"},\"line_color\":{\"value\":\"#407ee7\"},\"size\":{\"units\":\"screen\",\"value\":8},\"x\":{\"field\":\"x_values\"},\"y\":{\"field\":\"y_values\"}},\"id\":\"392be0f7-a822-446e-8e36-c5e48d216522\",\"type\":\"Triangle\"},{\"attributes\":{\"callback\":null,\"column_names\":[\"x_values\",\"y_values\"],\"data\":{\"chart_index\":[{\"clusters\":1},{\"clusters\":1},{\"clusters\":1},{\"clusters\":1},{\"clusters\":1},{\"clusters\":1},{\"clusters\":1},{\"clusters\":1},{\"clusters\":1},{\"clusters\":1},{\"clusters\":1}],\"clusters\":[1,1,1,1,1,1,1,1,1,1,1],\"x_values\":{\"__ndarray__\":\"sq89blfEyD/waOLcJ2DSPyGUB2Byf9Q/x4DJoqnP0T9GS6XsyKrZP8/U8wrtC9o/1QTFzZh51z+wtxshx6fQP/c4BNQgEeA/DFZWCoiM1D8cmPutYSPePw==\",\"dtype\":\"float64\",\"shape\":[11]},\"y_values\":{\"__ndarray__\":\"9OQNZtUB5T+DK7XSJ5ztP7r9f46K1eA/AxIv+NJA5z9KuXjHTlzrP+h4/h/6i+g/Un11R2/z6T9axK3x11/mP2TNoxIcauc/po30rP/W4T/i05VkZi/oPw==\",\"dtype\":\"float64\",\"shape\":[11]}}},\"id\":\"e024ade8-82d5-4e4c-b4fa-723644d76636\",\"type\":\"ColumnDataSource\"},{\"attributes\":{\"callback\":null,\"column_names\":[\"x_values\",\"y_values\"],\"data\":{\"chart_index\":[{\"clusters\":0},{\"clusters\":0},{\"clusters\":0}],\"clusters\":[0,0,0],\"x_values\":{\"__ndarray__\":\"WbdcDPze5D/wI5ea1EDpP8xC9wa+Oes/\",\"dtype\":\"float64\",\"shape\":[3]},\"y_values\":{\"__ndarray__\":\"jsdY+IK+yz9nZlpXA7noPyi2qH92nuI/\",\"dtype\":\"float64\",\"shape\":[3]}}},\"id\":\"beb59d46-eb00-4a6d-9119-ab3b917a2d9c\",\"type\":\"ColumnDataSource\"},{\"attributes\":{\"data_source\":{\"id\":\"beb59d46-eb00-4a6d-9119-ab3b917a2d9c\",\"type\":\"ColumnDataSource\"},\"glyph\":{\"id\":\"149a3fbc-597b-4105-8c7e-03a55e5056b2\",\"type\":\"Circle\"},\"hover_glyph\":null,\"nonselection_glyph\":null,\"selection_glyph\":null},\"id\":\"cdb193c7-8223-4561-b3e0-9b5fbc23e261\",\"type\":\"GlyphRenderer\"},{\"attributes\":{\"data_source\":{\"id\":\"e712fffd-6d35-4230-bd18-fa58ec235abe\",\"type\":\"ColumnDataSource\"},\"glyph\":{\"id\":\"afb61cbb-e73c-4596-9656-d53edca37698\",\"type\":\"Circle\"},\"hover_glyph\":null,\"nonselection_glyph\":{\"id\":\"53aaa566-c0fb-43e7-b956-e19d4f9bb61a\",\"type\":\"Circle\"},\"selection_glyph\":null},\"id\":\"cbe4215d-4749-4f6a-aeb3-9b1fa49d51f4\",\"type\":\"GlyphRenderer\"},{\"attributes\":{\"axis_label\":\"x1\",\"formatter\":{\"id\":\"0ed41d6e-6a85-40db-b61d-1dd43e52428a\",\"type\":\"BasicTickFormatter\"},\"plot\":{\"id\":\"2786ed20-eb2b-4cbc-91a5-29f67c25892f\",\"subtype\":\"Chart\",\"type\":\"Plot\"},\"ticker\":{\"id\":\"6772d786-8789-4091-aa33-0f0cbff4cad3\",\"type\":\"BasicTicker\"}},\"id\":\"416befb7-727e-486c-a9a4-d807579c34bd\",\"type\":\"LinearAxis\"},{\"attributes\":{\"callback\":null,\"end\":0.9358784818322384,\"start\":-0.08507986198474896},\"id\":\"6b5f9a1d-3636-46be-9408-073b4eac9fca\",\"type\":\"Range1d\"},{\"attributes\":{\"fill_alpha\":{\"value\":0.1},\"fill_color\":{\"value\":\"#1f77b4\"},\"line_alpha\":{\"value\":0.1},\"line_color\":{\"value\":\"#1f77b4\"},\"size\":{\"units\":\"screen\",\"value\":15},\"x\":{\"value\":0.34621188566517686},\"y\":{\"value\":0.7283427939207612}},\"id\":\"26120e68-58e3-478c-bb33-3fc143568048\",\"type\":\"Circle\"},{\"attributes\":{\"data_source\":{\"id\":\"603b1c94-f761-4317-b8eb-ff16b3e64416\",\"type\":\"ColumnDataSource\"},\"glyph\":{\"id\":\"60b64478-c8af-4f09-b8cf-12e403ca0c9f\",\"type\":\"Circle\"},\"hover_glyph\":null,\"nonselection_glyph\":{\"id\":\"475a53e6-bdd9-47ac-9e98-08e236710e7c\",\"type\":\"Circle\"},\"selection_glyph\":null},\"id\":\"6bb0c471-8547-4887-bb56-2b918ae54cf1\",\"type\":\"GlyphRenderer\"},{\"attributes\":{\"callback\":null},\"id\":\"35402d6d-1079-4796-a170-c3bfa4f433c5\",\"type\":\"ColumnDataSource\"},{\"attributes\":{\"axis_label\":\"x2\",\"formatter\":{\"id\":\"8b6a93f8-5476-4546-b812-036b9b38aed8\",\"type\":\"BasicTickFormatter\"},\"plot\":{\"id\":\"2786ed20-eb2b-4cbc-91a5-29f67c25892f\",\"subtype\":\"Chart\",\"type\":\"Plot\"},\"ticker\":{\"id\":\"4a0decb5-8c85-4ab1-a629-9755df1fe41a\",\"type\":\"BasicTicker\"}},\"id\":\"e1d0b432-8668-4e03-ade9-3969e960142f\",\"type\":\"LinearAxis\"},{\"attributes\":{\"plot\":{\"id\":\"2786ed20-eb2b-4cbc-91a5-29f67c25892f\",\"subtype\":\"Chart\",\"type\":\"Plot\"},\"ticker\":{\"id\":\"6772d786-8789-4091-aa33-0f0cbff4cad3\",\"type\":\"BasicTicker\"}},\"id\":\"2461f384-d271-4135-81f5-36c3fddc678f\",\"type\":\"Grid\"},{\"attributes\":{\"data_source\":{\"id\":\"35402d6d-1079-4796-a170-c3bfa4f433c5\",\"type\":\"ColumnDataSource\"},\"glyph\":{\"id\":\"5779e87a-980f-483d-8a8c-66fbc801739c\",\"type\":\"Circle\"},\"hover_glyph\":null,\"nonselection_glyph\":{\"id\":\"26120e68-58e3-478c-bb33-3fc143568048\",\"type\":\"Circle\"},\"selection_glyph\":null},\"id\":\"4d0fe5a8-75d5-4f68-92eb-e00c6b5d8946\",\"type\":\"GlyphRenderer\"},{\"attributes\":{\"fill_alpha\":{\"value\":0.7},\"fill_color\":{\"value\":\"#5ab738\"},\"line_color\":{\"value\":\"#5ab738\"},\"size\":{\"units\":\"screen\",\"value\":8},\"x\":{\"field\":\"x_values\"},\"y\":{\"field\":\"y_values\"}},\"id\":\"aa53aaaf-3c46-4239-af35-765f846ccaec\",\"type\":\"Square\"},{\"attributes\":{\"callback\":null},\"id\":\"e712fffd-6d35-4230-bd18-fa58ec235abe\",\"type\":\"ColumnDataSource\"},{\"attributes\":{\"fill_alpha\":{\"value\":0.1},\"fill_color\":{\"value\":\"#1f77b4\"},\"line_alpha\":{\"value\":0.1},\"line_color\":{\"value\":\"#1f77b4\"},\"size\":{\"units\":\"screen\",\"value\":15},\"x\":{\"value\":0.17130819973854847},\"y\":{\"value\":0.3093649746970837}},\"id\":\"53aaa566-c0fb-43e7-b956-e19d4f9bb61a\",\"type\":\"Circle\"},{\"attributes\":{},\"id\":\"6772d786-8789-4091-aa33-0f0cbff4cad3\",\"type\":\"BasicTicker\"},{\"attributes\":{\"fill_alpha\":{\"value\":0.5},\"fill_color\":{\"value\":\"grey\"},\"line_alpha\":{\"value\":0.5},\"line_color\":{\"value\":\"grey\"},\"size\":{\"units\":\"screen\",\"value\":15},\"x\":{\"value\":0.34621188566517686},\"y\":{\"value\":0.7283427939207612}},\"id\":\"5779e87a-980f-483d-8a8c-66fbc801739c\",\"type\":\"Circle\"},{\"attributes\":{\"callback\":null},\"id\":\"603b1c94-f761-4317-b8eb-ff16b3e64416\",\"type\":\"ColumnDataSource\"},{\"attributes\":{\"fill_alpha\":{\"value\":0.5},\"fill_color\":{\"value\":\"grey\"},\"line_alpha\":{\"value\":0.5},\"line_color\":{\"value\":\"grey\"},\"size\":{\"units\":\"screen\",\"value\":15},\"x\":{\"value\":0.7640607642124269},\"y\":{\"value\":0.523726555890623}},\"id\":\"60b64478-c8af-4f09-b8cf-12e403ca0c9f\",\"type\":\"Circle\"},{\"attributes\":{\"dimension\":1,\"plot\":{\"id\":\"2786ed20-eb2b-4cbc-91a5-29f67c25892f\",\"subtype\":\"Chart\",\"type\":\"Plot\"},\"ticker\":{\"id\":\"4a0decb5-8c85-4ab1-a629-9755df1fe41a\",\"type\":\"BasicTicker\"}},\"id\":\"db73d7a9-bf19-4ff6-9e23-8fc2d4a58051\",\"type\":\"Grid\"},{\"attributes\":{\"fill_alpha\":{\"value\":0.1},\"fill_color\":{\"value\":\"#1f77b4\"},\"line_alpha\":{\"value\":0.1},\"line_color\":{\"value\":\"#1f77b4\"},\"size\":{\"units\":\"screen\",\"value\":15},\"x\":{\"value\":0.7640607642124269},\"y\":{\"value\":0.523726555890623}},\"id\":\"475a53e6-bdd9-47ac-9e98-08e236710e7c\",\"type\":\"Circle\"},{\"attributes\":{\"label\":{\"value\":\"0\"},\"renderers\":[{\"id\":\"cdb193c7-8223-4561-b3e0-9b5fbc23e261\",\"type\":\"GlyphRenderer\"}]},\"id\":\"3012c244-7bb9-4531-a8eb-e42b23c6b6bb\",\"type\":\"LegendItem\"},{\"attributes\":{\"data_source\":{\"id\":\"e024ade8-82d5-4e4c-b4fa-723644d76636\",\"type\":\"ColumnDataSource\"},\"glyph\":{\"id\":\"aa53aaaf-3c46-4239-af35-765f846ccaec\",\"type\":\"Square\"},\"hover_glyph\":null,\"nonselection_glyph\":null,\"selection_glyph\":null},\"id\":\"ca6d85f3-94be-4328-84d1-cd45df4a6569\",\"type\":\"GlyphRenderer\"},{\"attributes\":{\"plot\":{\"id\":\"2786ed20-eb2b-4cbc-91a5-29f67c25892f\",\"subtype\":\"Chart\",\"type\":\"Plot\"}},\"id\":\"4ef92329-36b7-4408-9db8-58d2688689f9\",\"type\":\"HelpTool\"},{\"attributes\":{\"plot\":{\"id\":\"2786ed20-eb2b-4cbc-91a5-29f67c25892f\",\"subtype\":\"Chart\",\"type\":\"Plot\"}},\"id\":\"92432552-fa6f-48af-8d71-f4d18cd8b444\",\"type\":\"SaveTool\"},{\"attributes\":{\"plot\":{\"id\":\"2786ed20-eb2b-4cbc-91a5-29f67c25892f\",\"subtype\":\"Chart\",\"type\":\"Plot\"}},\"id\":\"0ed77040-12e2-4e3d-8b77-24583737c595\",\"type\":\"ResetTool\"},{\"attributes\":{\"fill_alpha\":{\"value\":0.5},\"fill_color\":{\"value\":\"grey\"},\"line_alpha\":{\"value\":0.5},\"line_color\":{\"value\":\"grey\"},\"size\":{\"units\":\"screen\",\"value\":15},\"x\":{\"value\":0.17130819973854847},\"y\":{\"value\":0.3093649746970837}},\"id\":\"afb61cbb-e73c-4596-9656-d53edca37698\",\"type\":\"Circle\"},{\"attributes\":{\"label\":{\"value\":\"2\"},\"renderers\":[{\"id\":\"af35ecbd-c178-4b01-ba5e-ce34eaf63072\",\"type\":\"GlyphRenderer\"}]},\"id\":\"3d45f3e9-2b5c-4575-b2dc-f6d2502d219e\",\"type\":\"LegendItem\"},{\"attributes\":{},\"id\":\"0ed41d6e-6a85-40db-b61d-1dd43e52428a\",\"type\":\"BasicTickFormatter\"},{\"attributes\":{\"plot\":null,\"text\":null},\"id\":\"4f1d4bb5-1576-4887-be21-fe2375d0c84d\",\"type\":\"Title\"},{\"attributes\":{\"below\":[{\"id\":\"416befb7-727e-486c-a9a4-d807579c34bd\",\"type\":\"LinearAxis\"}],\"css_classes\":null,\"height\":500,\"left\":[{\"id\":\"e1d0b432-8668-4e03-ade9-3969e960142f\",\"type\":\"LinearAxis\"}],\"renderers\":[{\"id\":\"483a12f5-ce73-4563-adb9-d279dbba167f\",\"type\":\"BoxAnnotation\"},{\"id\":\"af35ecbd-c178-4b01-ba5e-ce34eaf63072\",\"type\":\"GlyphRenderer\"},{\"id\":\"cdb193c7-8223-4561-b3e0-9b5fbc23e261\",\"type\":\"GlyphRenderer\"},{\"id\":\"ca6d85f3-94be-4328-84d1-cd45df4a6569\",\"type\":\"GlyphRenderer\"},{\"id\":\"7a27a438-1329-41dc-89be-5259a853abb8\",\"type\":\"Legend\"},{\"id\":\"416befb7-727e-486c-a9a4-d807579c34bd\",\"type\":\"LinearAxis\"},{\"id\":\"e1d0b432-8668-4e03-ade9-3969e960142f\",\"type\":\"LinearAxis\"},{\"id\":\"2461f384-d271-4135-81f5-36c3fddc678f\",\"type\":\"Grid\"},{\"id\":\"db73d7a9-bf19-4ff6-9e23-8fc2d4a58051\",\"type\":\"Grid\"},{\"id\":\"6bb0c471-8547-4887-bb56-2b918ae54cf1\",\"type\":\"GlyphRenderer\"},{\"id\":\"4d0fe5a8-75d5-4f68-92eb-e00c6b5d8946\",\"type\":\"GlyphRenderer\"},{\"id\":\"cbe4215d-4749-4f6a-aeb3-9b1fa49d51f4\",\"type\":\"GlyphRenderer\"}],\"title\":{\"id\":\"4f1d4bb5-1576-4887-be21-fe2375d0c84d\",\"type\":\"Title\"},\"tool_events\":{\"id\":\"3a31f34c-85da-4f87-9445-52536c64cd17\",\"type\":\"ToolEvents\"},\"toolbar\":{\"id\":\"2f9234f6-5e81-4369-b016-d5f1e263bcd6\",\"type\":\"Toolbar\"},\"width\":500,\"x_mapper_type\":\"auto\",\"x_range\":{\"id\":\"6b5f9a1d-3636-46be-9408-073b4eac9fca\",\"type\":\"Range1d\"},\"y_mapper_type\":\"auto\",\"y_range\":{\"id\":\"351342aa-0160-4f89-9c5d-cc3108b1fe43\",\"type\":\"Range1d\"}},\"id\":\"2786ed20-eb2b-4cbc-91a5-29f67c25892f\",\"subtype\":\"Chart\",\"type\":\"Plot\"},{\"attributes\":{},\"id\":\"3a31f34c-85da-4f87-9445-52536c64cd17\",\"type\":\"ToolEvents\"},{\"attributes\":{\"active_drag\":\"auto\",\"active_scroll\":\"auto\",\"active_tap\":\"auto\",\"tools\":[{\"id\":\"5f54b045-fbdd-45a4-b653-3b7749c4038a\",\"type\":\"PanTool\"},{\"id\":\"d9aae253-2050-41cf-a6fc-7789251f2727\",\"type\":\"WheelZoomTool\"},{\"id\":\"3379613b-1152-40cd-a0a6-bd43a61f0693\",\"type\":\"BoxZoomTool\"},{\"id\":\"92432552-fa6f-48af-8d71-f4d18cd8b444\",\"type\":\"SaveTool\"},{\"id\":\"0ed77040-12e2-4e3d-8b77-24583737c595\",\"type\":\"ResetTool\"},{\"id\":\"4ef92329-36b7-4408-9db8-58d2688689f9\",\"type\":\"HelpTool\"}]},\"id\":\"2f9234f6-5e81-4369-b016-d5f1e263bcd6\",\"type\":\"Toolbar\"},{\"attributes\":{},\"id\":\"8b6a93f8-5476-4546-b812-036b9b38aed8\",\"type\":\"BasicTickFormatter\"},{\"attributes\":{},\"id\":\"4a0decb5-8c85-4ab1-a629-9755df1fe41a\",\"type\":\"BasicTicker\"},{\"attributes\":{\"label\":{\"value\":\"1\"},\"renderers\":[{\"id\":\"ca6d85f3-94be-4328-84d1-cd45df4a6569\",\"type\":\"GlyphRenderer\"}]},\"id\":\"be55acda-486e-4cce-b1fc-1dff3e3eba47\",\"type\":\"LegendItem\"},{\"attributes\":{\"callback\":null,\"end\":1.0146529603269139,\"start\":-0.05743906912201685},\"id\":\"351342aa-0160-4f89-9c5d-cc3108b1fe43\",\"type\":\"Range1d\"},{\"attributes\":{\"bottom_units\":\"screen\",\"fill_alpha\":{\"value\":0.5},\"fill_color\":{\"value\":\"lightgrey\"},\"left_units\":\"screen\",\"level\":\"overlay\",\"line_alpha\":{\"value\":1.0},\"line_color\":{\"value\":\"black\"},\"line_dash\":[4,4],\"line_width\":{\"value\":2},\"plot\":null,\"render_mode\":\"css\",\"right_units\":\"screen\",\"top_units\":\"screen\"},\"id\":\"483a12f5-ce73-4563-adb9-d279dbba167f\",\"type\":\"BoxAnnotation\"},{\"attributes\":{\"plot\":{\"id\":\"2786ed20-eb2b-4cbc-91a5-29f67c25892f\",\"subtype\":\"Chart\",\"type\":\"Plot\"}},\"id\":\"5f54b045-fbdd-45a4-b653-3b7749c4038a\",\"type\":\"PanTool\"},{\"attributes\":{\"items\":[{\"id\":\"3d45f3e9-2b5c-4575-b2dc-f6d2502d219e\",\"type\":\"LegendItem\"},{\"id\":\"3012c244-7bb9-4531-a8eb-e42b23c6b6bb\",\"type\":\"LegendItem\"},{\"id\":\"be55acda-486e-4cce-b1fc-1dff3e3eba47\",\"type\":\"LegendItem\"}],\"location\":\"top_left\",\"plot\":{\"id\":\"2786ed20-eb2b-4cbc-91a5-29f67c25892f\",\"subtype\":\"Chart\",\"type\":\"Plot\"}},\"id\":\"7a27a438-1329-41dc-89be-5259a853abb8\",\"type\":\"Legend\"},{\"attributes\":{\"plot\":{\"id\":\"2786ed20-eb2b-4cbc-91a5-29f67c25892f\",\"subtype\":\"Chart\",\"type\":\"Plot\"}},\"id\":\"d9aae253-2050-41cf-a6fc-7789251f2727\",\"type\":\"WheelZoomTool\"},{\"attributes\":{\"overlay\":{\"id\":\"483a12f5-ce73-4563-adb9-d279dbba167f\",\"type\":\"BoxAnnotation\"},\"plot\":{\"id\":\"2786ed20-eb2b-4cbc-91a5-29f67c25892f\",\"subtype\":\"Chart\",\"type\":\"Plot\"}},\"id\":\"3379613b-1152-40cd-a0a6-bd43a61f0693\",\"type\":\"BoxZoomTool\"}],\"root_ids\":[\"2786ed20-eb2b-4cbc-91a5-29f67c25892f\"]},\"title\":\"Bokeh Application\",\"version\":\"0.12.4\"}};\n",
       "            var render_items = [{\"docid\":\"22bdc704-04cf-4ea7-af9f-0f233e71603a\",\"elementid\":\"a0cdb70b-a318-4b26-9573-0b0d8c82b8ba\",\"modelid\":\"2786ed20-eb2b-4cbc-91a5-29f67c25892f\"}];\n",
       "            \n",
       "            Bokeh.embed.embed_items(docs_json, render_items);\n",
       "          };\n",
       "          if (document.readyState != \"loading\") fn();\n",
       "          else document.addEventListener(\"DOMContentLoaded\", fn);\n",
       "        })();\n",
       "      },\n",
       "      function(Bokeh) {\n",
       "      }\n",
       "    ];\n",
       "  \n",
       "    function run_inline_js() {\n",
       "      \n",
       "      if ((window.Bokeh !== undefined) || (force === true)) {\n",
       "        for (var i = 0; i < inline_js.length; i++) {\n",
       "          inline_js[i](window.Bokeh);\n",
       "        }if (force === true) {\n",
       "          display_loaded();\n",
       "        }} else if (Date.now() < window._bokeh_timeout) {\n",
       "        setTimeout(run_inline_js, 100);\n",
       "      } else if (!window._bokeh_failed_load) {\n",
       "        console.log(\"Bokeh: BokehJS failed to load within specified timeout.\");\n",
       "        window._bokeh_failed_load = true;\n",
       "      } else if (force !== true) {\n",
       "        var cell = $(document.getElementById(\"a0cdb70b-a318-4b26-9573-0b0d8c82b8ba\")).parents('.cell').data().cell;\n",
       "        cell.output_area.append_execute_result(NB_LOAD_WARNING)\n",
       "      }\n",
       "  \n",
       "    }\n",
       "  \n",
       "    if (window._bokeh_is_loading === 0) {\n",
       "      console.log(\"Bokeh: BokehJS loaded, going straight to plotting\");\n",
       "      run_inline_js();\n",
       "    } else {\n",
       "      load_libs(js_urls, function() {\n",
       "        console.log(\"Bokeh: BokehJS plotting callback run at\", now());\n",
       "        run_inline_js();\n",
       "      });\n",
       "    }\n",
       "  }(this));\n",
       "</script>"
      ]
     },
     "metadata": {},
     "output_type": "display_data"
    }
   ],
   "source": [
    "plot_clusters(clust.predict(X), clust.cluster_centers_)"
   ]
  },
  {
   "cell_type": "markdown",
   "metadata": {
    "collapsed": true,
    "deletable": true,
    "editable": true,
    "slideshow": {
     "slide_type": "slide"
    }
   },
   "source": [
    "### Clustering a la Mixed Integer Linear Optimization"
   ]
  },
  {
   "cell_type": "code",
   "execution_count": 33,
   "metadata": {
    "collapsed": false,
    "deletable": true,
    "editable": true,
    "slideshow": {
     "slide_type": "subslide"
    }
   },
   "outputs": [],
   "source": [
    "# Decision variables = locations of cluster centers\n",
    "w = []\n",
    "for j in range(len(centers)):\n",
    "    x10 = pulp.LpVariable('x_10%d' % j, lowBound=0, upBound=1)\n",
    "    x20 = pulp.LpVariable('x_20%d' % j, lowBound=0, upBound=1)\n",
    "    w.append([x10, x20])"
   ]
  },
  {
   "cell_type": "code",
   "execution_count": 34,
   "metadata": {
    "collapsed": false,
    "deletable": true,
    "editable": true,
    "slideshow": {
     "slide_type": "subslide"
    }
   },
   "outputs": [],
   "source": [
    "# Decision variables = do we associate point i with cluster j?\n",
    "v = []\n",
    "for i in range(len(x1)):\n",
    "    vi = []\n",
    "    for j in range(len(w)):\n",
    "        vij = pulp.LpVariable('v_%d%d' % (i, j), cat=pulp.LpBinary)\n",
    "        vi.append(vij)\n",
    "    v.append(vi)"
   ]
  },
  {
   "cell_type": "code",
   "execution_count": 35,
   "metadata": {
    "collapsed": true,
    "deletable": true,
    "editable": true,
    "slideshow": {
     "slide_type": "subslide"
    }
   },
   "outputs": [],
   "source": [
    "# Each point is associated with exactly one cluster\n",
    "m = pulp.LpProblem(sense=pulp.LpMinimize)\n",
    "for vi in v:\n",
    "    m += sum(vi) == 1"
   ]
  },
  {
   "cell_type": "code",
   "execution_count": 36,
   "metadata": {
    "collapsed": false,
    "deletable": true,
    "editable": true,
    "slideshow": {
     "slide_type": "subslide"
    }
   },
   "outputs": [],
   "source": [
    "distances = []\n",
    "for i, (vi, x1i, x2i), in enumerate(zip(v, x1, x2)):\n",
    "    for j, (wj, vij) in enumerate(zip(w, vi)):\n",
    "        x10, x20 = wj\n",
    "        \n",
    "        dx1 = pulp.LpVariable('dx_1%d%d' % (i, j), lowBound=0, upBound=1)\n",
    "        dx2 = pulp.LpVariable('dx_2%d%d' % (i, j), lowBound=0, upBound=1)\n",
    "    \n",
    "        m += dx1 >= (x1i - x10) - (1 - vij)\n",
    "        m += dx1 >= (x10 - x1i) - (1 - vij)\n",
    "\n",
    "        m += dx2 >= (x2i - x20) - (1 - vij)\n",
    "        m += dx2 >= (x20 - x2i) - (1 - vij)\n",
    "        \n",
    "        distances.extend([dx1, dx2])"
   ]
  },
  {
   "cell_type": "code",
   "execution_count": 37,
   "metadata": {
    "collapsed": true,
    "deletable": true,
    "editable": true,
    "slideshow": {
     "slide_type": "subslide"
    }
   },
   "outputs": [],
   "source": [
    "# Symmetry elimination\n",
    "for j, (x01_1, x02_1) in enumerate(w):\n",
    "    for x01_2, x02_2 in w[j+1:]:\n",
    "        m += x01_1 + x02_1 <= x01_2 + x02_2"
   ]
  },
  {
   "cell_type": "code",
   "execution_count": 38,
   "metadata": {
    "collapsed": false,
    "deletable": true,
    "editable": true,
    "slideshow": {
     "slide_type": "subslide"
    }
   },
   "outputs": [],
   "source": [
    "m.setObjective(sum(distances))\n",
    "assert m.solve() == pulp.LpStatusOptimal"
   ]
  },
  {
   "cell_type": "code",
   "execution_count": 39,
   "metadata": {
    "collapsed": false,
    "deletable": true,
    "editable": true,
    "slideshow": {
     "slide_type": "subslide"
    }
   },
   "outputs": [
    {
     "name": "stdout",
     "output_type": "stream",
     "text": [
      "[0.046486879, 0.462579]\n",
      "[0.34360334, 0.21675145]\n",
      "[0.36679669, 0.73170284]\n"
     ]
    }
   ],
   "source": [
    "cluster_centers = []\n",
    "for wj in w:\n",
    "    cluster_centers.append([wj[0].value(), wj[1].value()])\n",
    "\n",
    "for c in cluster_centers:\n",
    "    print(c)"
   ]
  },
  {
   "cell_type": "code",
   "execution_count": 40,
   "metadata": {
    "collapsed": false,
    "deletable": true,
    "editable": true,
    "slideshow": {
     "slide_type": "subslide"
    }
   },
   "outputs": [],
   "source": [
    "clusters = []\n",
    "for vi in v:\n",
    "    for c, vij in zip([0, 1, 2], vi):\n",
    "        if vij.value() > 0.5:\n",
    "            clusters.append(c)\n",
    "            break"
   ]
  },
  {
   "cell_type": "code",
   "execution_count": 41,
   "metadata": {
    "collapsed": false,
    "deletable": true,
    "editable": true,
    "slideshow": {
     "slide_type": "subslide"
    }
   },
   "outputs": [
    {
     "data": {
      "text/html": [
       "\n",
       "\n",
       "    <div class=\"bk-root\">\n",
       "        <div class=\"bk-plotdiv\" id=\"a8ef614b-000f-4275-9b15-c8d20376686d\"></div>\n",
       "    </div>\n",
       "<script type=\"text/javascript\">\n",
       "  \n",
       "  (function(global) {\n",
       "    function now() {\n",
       "      return new Date();\n",
       "    }\n",
       "  \n",
       "    var force = false;\n",
       "  \n",
       "    if (typeof (window._bokeh_onload_callbacks) === \"undefined\" || force === true) {\n",
       "      window._bokeh_onload_callbacks = [];\n",
       "      window._bokeh_is_loading = undefined;\n",
       "    }\n",
       "  \n",
       "  \n",
       "    \n",
       "    if (typeof (window._bokeh_timeout) === \"undefined\" || force === true) {\n",
       "      window._bokeh_timeout = Date.now() + 0;\n",
       "      window._bokeh_failed_load = false;\n",
       "    }\n",
       "  \n",
       "    var NB_LOAD_WARNING = {'data': {'text/html':\n",
       "       \"<div style='background-color: #fdd'>\\n\"+\n",
       "       \"<p>\\n\"+\n",
       "       \"BokehJS does not appear to have successfully loaded. If loading BokehJS from CDN, this \\n\"+\n",
       "       \"may be due to a slow or bad network connection. Possible fixes:\\n\"+\n",
       "       \"</p>\\n\"+\n",
       "       \"<ul>\\n\"+\n",
       "       \"<li>re-rerun `output_notebook()` to attempt to load from CDN again, or</li>\\n\"+\n",
       "       \"<li>use INLINE resources instead, as so:</li>\\n\"+\n",
       "       \"</ul>\\n\"+\n",
       "       \"<code>\\n\"+\n",
       "       \"from bokeh.resources import INLINE\\n\"+\n",
       "       \"output_notebook(resources=INLINE)\\n\"+\n",
       "       \"</code>\\n\"+\n",
       "       \"</div>\"}};\n",
       "  \n",
       "    function display_loaded() {\n",
       "      if (window.Bokeh !== undefined) {\n",
       "        document.getElementById(\"a8ef614b-000f-4275-9b15-c8d20376686d\").textContent = \"BokehJS successfully loaded.\";\n",
       "      } else if (Date.now() < window._bokeh_timeout) {\n",
       "        setTimeout(display_loaded, 100)\n",
       "      }\n",
       "    }\n",
       "  \n",
       "    function run_callbacks() {\n",
       "      window._bokeh_onload_callbacks.forEach(function(callback) { callback() });\n",
       "      delete window._bokeh_onload_callbacks\n",
       "      console.info(\"Bokeh: all callbacks have finished\");\n",
       "    }\n",
       "  \n",
       "    function load_libs(js_urls, callback) {\n",
       "      window._bokeh_onload_callbacks.push(callback);\n",
       "      if (window._bokeh_is_loading > 0) {\n",
       "        console.log(\"Bokeh: BokehJS is being loaded, scheduling callback at\", now());\n",
       "        return null;\n",
       "      }\n",
       "      if (js_urls == null || js_urls.length === 0) {\n",
       "        run_callbacks();\n",
       "        return null;\n",
       "      }\n",
       "      console.log(\"Bokeh: BokehJS not loaded, scheduling load and callback at\", now());\n",
       "      window._bokeh_is_loading = js_urls.length;\n",
       "      for (var i = 0; i < js_urls.length; i++) {\n",
       "        var url = js_urls[i];\n",
       "        var s = document.createElement('script');\n",
       "        s.src = url;\n",
       "        s.async = false;\n",
       "        s.onreadystatechange = s.onload = function() {\n",
       "          window._bokeh_is_loading--;\n",
       "          if (window._bokeh_is_loading === 0) {\n",
       "            console.log(\"Bokeh: all BokehJS libraries loaded\");\n",
       "            run_callbacks()\n",
       "          }\n",
       "        };\n",
       "        s.onerror = function() {\n",
       "          console.warn(\"failed to load library \" + url);\n",
       "        };\n",
       "        console.log(\"Bokeh: injecting script tag for BokehJS library: \", url);\n",
       "        document.getElementsByTagName(\"head\")[0].appendChild(s);\n",
       "      }\n",
       "    };var element = document.getElementById(\"a8ef614b-000f-4275-9b15-c8d20376686d\");\n",
       "    if (element == null) {\n",
       "      console.log(\"Bokeh: ERROR: autoload.js configured with elementid 'a8ef614b-000f-4275-9b15-c8d20376686d' but no matching script tag was found. \")\n",
       "      return false;\n",
       "    }\n",
       "  \n",
       "    var js_urls = [];\n",
       "  \n",
       "    var inline_js = [\n",
       "      function(Bokeh) {\n",
       "        (function() {\n",
       "          var fn = function() {\n",
       "            var docs_json = {\"69acb6a0-ec29-48b0-8543-1c2f72a3cd1e\":{\"roots\":{\"references\":[{\"attributes\":{\"plot\":{\"id\":\"e6823158-c773-4489-b21c-ab81f646b911\",\"subtype\":\"Chart\",\"type\":\"Plot\"}},\"id\":\"8dca2104-c6bd-4d98-a8e0-16c291af82bb\",\"type\":\"ResetTool\"},{\"attributes\":{\"plot\":{\"id\":\"e6823158-c773-4489-b21c-ab81f646b911\",\"subtype\":\"Chart\",\"type\":\"Plot\"}},\"id\":\"b1e3b06a-8e6c-471d-85fe-379a03074a1c\",\"type\":\"SaveTool\"},{\"attributes\":{\"items\":[{\"id\":\"8607efa0-7b1f-41e5-8972-0cc8ce81c886\",\"type\":\"LegendItem\"},{\"id\":\"c936663b-f711-4f04-967d-c48e2b741492\",\"type\":\"LegendItem\"},{\"id\":\"1c410813-cbda-46a0-9b5c-8c5474a13683\",\"type\":\"LegendItem\"}],\"location\":\"top_left\",\"plot\":{\"id\":\"e6823158-c773-4489-b21c-ab81f646b911\",\"subtype\":\"Chart\",\"type\":\"Plot\"}},\"id\":\"9b4c292d-378e-4d05-b570-e44e24e64145\",\"type\":\"Legend\"},{\"attributes\":{},\"id\":\"77370e0d-5d14-4977-a8a3-245d63a6f769\",\"type\":\"BasicTicker\"},{\"attributes\":{\"label\":{\"value\":\"1\"},\"renderers\":[{\"id\":\"a6915629-eb69-4494-9432-4274a5d22024\",\"type\":\"GlyphRenderer\"}]},\"id\":\"8607efa0-7b1f-41e5-8972-0cc8ce81c886\",\"type\":\"LegendItem\"},{\"attributes\":{\"plot\":{\"id\":\"e6823158-c773-4489-b21c-ab81f646b911\",\"subtype\":\"Chart\",\"type\":\"Plot\"}},\"id\":\"1aae475d-01cf-4235-bfc6-7879c537254a\",\"type\":\"PanTool\"},{\"attributes\":{\"fill_alpha\":{\"value\":0.7},\"fill_color\":{\"value\":\"#5ab738\"},\"line_color\":{\"value\":\"#5ab738\"},\"size\":{\"units\":\"screen\",\"value\":8},\"x\":{\"field\":\"x_values\"},\"y\":{\"field\":\"y_values\"}},\"id\":\"09d32953-5709-405e-b941-f18ea41bd0e8\",\"type\":\"Square\"},{\"attributes\":{\"callback\":null,\"end\":1.0146529603269139,\"start\":-0.05743906912201685},\"id\":\"7554abf0-23ff-456b-ac81-924de817a6ef\",\"type\":\"Range1d\"},{\"attributes\":{\"axis_label\":\"x2\",\"formatter\":{\"id\":\"f581e822-fd57-49a7-8c9b-94f07b898d9d\",\"type\":\"BasicTickFormatter\"},\"plot\":{\"id\":\"e6823158-c773-4489-b21c-ab81f646b911\",\"subtype\":\"Chart\",\"type\":\"Plot\"},\"ticker\":{\"id\":\"77370e0d-5d14-4977-a8a3-245d63a6f769\",\"type\":\"BasicTicker\"}},\"id\":\"dbe90383-7887-40e3-bde7-a3e37b776471\",\"type\":\"LinearAxis\"},{\"attributes\":{\"data_source\":{\"id\":\"79371adf-b730-4114-bd62-bc06914800fd\",\"type\":\"ColumnDataSource\"},\"glyph\":{\"id\":\"83ce8ffd-341d-43f4-9a71-df647d39773e\",\"type\":\"Circle\"},\"hover_glyph\":null,\"nonselection_glyph\":null,\"selection_glyph\":null},\"id\":\"41573886-baff-474b-941a-6252d138d12e\",\"type\":\"GlyphRenderer\"},{\"attributes\":{\"overlay\":{\"id\":\"df582fbc-55f8-4c7d-9e53-f19dff6437b0\",\"type\":\"BoxAnnotation\"},\"plot\":{\"id\":\"e6823158-c773-4489-b21c-ab81f646b911\",\"subtype\":\"Chart\",\"type\":\"Plot\"}},\"id\":\"2afb8091-e6ad-406d-8585-2ff81c27787c\",\"type\":\"BoxZoomTool\"},{\"attributes\":{\"fill_alpha\":{\"value\":0.7},\"fill_color\":{\"value\":\"#f22c40\"},\"line_color\":{\"value\":\"#f22c40\"},\"size\":{\"units\":\"screen\",\"value\":8},\"x\":{\"field\":\"x_values\"},\"y\":{\"field\":\"y_values\"}},\"id\":\"83ce8ffd-341d-43f4-9a71-df647d39773e\",\"type\":\"Circle\"},{\"attributes\":{\"plot\":{\"id\":\"e6823158-c773-4489-b21c-ab81f646b911\",\"subtype\":\"Chart\",\"type\":\"Plot\"}},\"id\":\"1111b884-05d0-4724-ae74-2b7670a78773\",\"type\":\"HelpTool\"},{\"attributes\":{\"active_drag\":\"auto\",\"active_scroll\":\"auto\",\"active_tap\":\"auto\",\"tools\":[{\"id\":\"1aae475d-01cf-4235-bfc6-7879c537254a\",\"type\":\"PanTool\"},{\"id\":\"dfb6c829-d989-48f4-8b94-2b968e8c2354\",\"type\":\"WheelZoomTool\"},{\"id\":\"2afb8091-e6ad-406d-8585-2ff81c27787c\",\"type\":\"BoxZoomTool\"},{\"id\":\"b1e3b06a-8e6c-471d-85fe-379a03074a1c\",\"type\":\"SaveTool\"},{\"id\":\"8dca2104-c6bd-4d98-a8e0-16c291af82bb\",\"type\":\"ResetTool\"},{\"id\":\"1111b884-05d0-4724-ae74-2b7670a78773\",\"type\":\"HelpTool\"}]},\"id\":\"19168657-0e6f-42bd-b2f3-c852d450b285\",\"type\":\"Toolbar\"},{\"attributes\":{\"label\":{\"value\":\"2\"},\"renderers\":[{\"id\":\"f2a05be6-676a-4b45-b956-a06795614afe\",\"type\":\"GlyphRenderer\"}]},\"id\":\"1c410813-cbda-46a0-9b5c-8c5474a13683\",\"type\":\"LegendItem\"},{\"attributes\":{\"callback\":null,\"end\":0.9358784818322384,\"start\":-0.08507986198474896},\"id\":\"4fa2a8a1-5f17-41c3-8184-bb6fb2cd87b1\",\"type\":\"Range1d\"},{\"attributes\":{\"callback\":null,\"column_names\":[\"x_values\",\"y_values\"],\"data\":{\"chart_index\":[{\"clusters\":1},{\"clusters\":1},{\"clusters\":1},{\"clusters\":1},{\"clusters\":1}],\"clusters\":[1,1,1,1,1],\"x_values\":{\"__ndarray__\":\"XLIs3pj91T8OvFJaR+nXP/j1B8LWDbc/1QVaAWN60j9Zt1wM/N7kPw==\",\"dtype\":\"float64\",\"shape\":[5]},\"y_values\":{\"__ndarray__\":\"YEWuQHNVoD+Knhf2RYDYP2jnSNII/Lc/QfHrfjHP0T+Ox1j4gr7LPw==\",\"dtype\":\"float64\",\"shape\":[5]}}},\"id\":\"6cb8c7b1-e943-4424-9160-6fedf57c6a2c\",\"type\":\"ColumnDataSource\"},{\"attributes\":{\"plot\":{\"id\":\"e6823158-c773-4489-b21c-ab81f646b911\",\"subtype\":\"Chart\",\"type\":\"Plot\"}},\"id\":\"dfb6c829-d989-48f4-8b94-2b968e8c2354\",\"type\":\"WheelZoomTool\"},{\"attributes\":{\"data_source\":{\"id\":\"6cb8c7b1-e943-4424-9160-6fedf57c6a2c\",\"type\":\"ColumnDataSource\"},\"glyph\":{\"id\":\"09d32953-5709-405e-b941-f18ea41bd0e8\",\"type\":\"Square\"},\"hover_glyph\":null,\"nonselection_glyph\":null,\"selection_glyph\":null},\"id\":\"a6915629-eb69-4494-9432-4274a5d22024\",\"type\":\"GlyphRenderer\"},{\"attributes\":{\"plot\":null,\"text\":null},\"id\":\"269f9c28-5660-4b16-8163-722110e63118\",\"type\":\"Title\"},{\"attributes\":{},\"id\":\"f0c6b298-105c-4965-ac4c-48f7086b647d\",\"type\":\"ToolEvents\"},{\"attributes\":{\"label\":{\"value\":\"0\"},\"renderers\":[{\"id\":\"41573886-baff-474b-941a-6252d138d12e\",\"type\":\"GlyphRenderer\"}]},\"id\":\"c936663b-f711-4f04-967d-c48e2b741492\",\"type\":\"LegendItem\"},{\"attributes\":{\"bottom_units\":\"screen\",\"fill_alpha\":{\"value\":0.5},\"fill_color\":{\"value\":\"lightgrey\"},\"left_units\":\"screen\",\"level\":\"overlay\",\"line_alpha\":{\"value\":1.0},\"line_color\":{\"value\":\"black\"},\"line_dash\":[4,4],\"line_width\":{\"value\":2},\"plot\":null,\"render_mode\":\"css\",\"right_units\":\"screen\",\"top_units\":\"screen\"},\"id\":\"df582fbc-55f8-4c7d-9e53-f19dff6437b0\",\"type\":\"BoxAnnotation\"},{\"attributes\":{\"data_source\":{\"id\":\"2dae8ba8-f430-4606-9a9a-ee6b2937e766\",\"type\":\"ColumnDataSource\"},\"glyph\":{\"id\":\"6575678e-5c58-40ca-a496-9dafd67cc2a0\",\"type\":\"Circle\"},\"hover_glyph\":null,\"nonselection_glyph\":{\"id\":\"97aeb24c-5f20-47ae-8c9b-8f6d0e386d07\",\"type\":\"Circle\"},\"selection_glyph\":null},\"id\":\"f2e48d83-b9ad-498b-a58e-88e0bad414a2\",\"type\":\"GlyphRenderer\"},{\"attributes\":{\"fill_alpha\":{\"value\":0.5},\"fill_color\":{\"value\":\"grey\"},\"line_alpha\":{\"value\":0.5},\"line_color\":{\"value\":\"grey\"},\"size\":{\"units\":\"screen\",\"value\":15},\"x\":{\"value\":0.34360334},\"y\":{\"value\":0.21675145}},\"id\":\"6575678e-5c58-40ca-a496-9dafd67cc2a0\",\"type\":\"Circle\"},{\"attributes\":{\"fill_alpha\":{\"value\":0.7},\"fill_color\":{\"value\":\"#407ee7\"},\"line_color\":{\"value\":\"#407ee7\"},\"size\":{\"units\":\"screen\",\"value\":8},\"x\":{\"field\":\"x_values\"},\"y\":{\"field\":\"y_values\"}},\"id\":\"f87ff9f8-ed45-440d-8b65-890506c48550\",\"type\":\"Triangle\"},{\"attributes\":{\"axis_label\":\"x1\",\"formatter\":{\"id\":\"f83188d5-a971-442c-90f1-e51900891ad2\",\"type\":\"BasicTickFormatter\"},\"plot\":{\"id\":\"e6823158-c773-4489-b21c-ab81f646b911\",\"subtype\":\"Chart\",\"type\":\"Plot\"},\"ticker\":{\"id\":\"161785b3-9fe2-4e27-b7f3-1389c5cb6c8d\",\"type\":\"BasicTicker\"}},\"id\":\"0fa5b89b-426b-469f-a582-58fb13baa317\",\"type\":\"LinearAxis\"},{\"attributes\":{\"fill_alpha\":{\"value\":0.1},\"fill_color\":{\"value\":\"#1f77b4\"},\"line_alpha\":{\"value\":0.1},\"line_color\":{\"value\":\"#1f77b4\"},\"size\":{\"units\":\"screen\",\"value\":15},\"x\":{\"value\":0.046486879},\"y\":{\"value\":0.462579}},\"id\":\"0a1dc392-9845-41fa-8f6d-f11ba226b57e\",\"type\":\"Circle\"},{\"attributes\":{},\"id\":\"161785b3-9fe2-4e27-b7f3-1389c5cb6c8d\",\"type\":\"BasicTicker\"},{\"attributes\":{\"data_source\":{\"id\":\"77ef109a-591a-4143-a745-ecc9d904186e\",\"type\":\"ColumnDataSource\"},\"glyph\":{\"id\":\"f9acdb11-24e7-41c4-9020-039062a404bf\",\"type\":\"Circle\"},\"hover_glyph\":null,\"nonselection_glyph\":{\"id\":\"0a1dc392-9845-41fa-8f6d-f11ba226b57e\",\"type\":\"Circle\"},\"selection_glyph\":null},\"id\":\"39d815d7-2b47-4f38-9c7e-b7a001632186\",\"type\":\"GlyphRenderer\"},{\"attributes\":{\"fill_alpha\":{\"value\":0.5},\"fill_color\":{\"value\":\"grey\"},\"line_alpha\":{\"value\":0.5},\"line_color\":{\"value\":\"grey\"},\"size\":{\"units\":\"screen\",\"value\":15},\"x\":{\"value\":0.046486879},\"y\":{\"value\":0.462579}},\"id\":\"f9acdb11-24e7-41c4-9020-039062a404bf\",\"type\":\"Circle\"},{\"attributes\":{\"plot\":{\"id\":\"e6823158-c773-4489-b21c-ab81f646b911\",\"subtype\":\"Chart\",\"type\":\"Plot\"},\"ticker\":{\"id\":\"161785b3-9fe2-4e27-b7f3-1389c5cb6c8d\",\"type\":\"BasicTicker\"}},\"id\":\"f1bc3e57-e6b3-47cc-9938-275cc0ae1750\",\"type\":\"Grid\"},{\"attributes\":{\"callback\":null},\"id\":\"3aee3092-630e-4afb-8e16-d42f9e098679\",\"type\":\"ColumnDataSource\"},{\"attributes\":{\"callback\":null},\"id\":\"2dae8ba8-f430-4606-9a9a-ee6b2937e766\",\"type\":\"ColumnDataSource\"},{\"attributes\":{\"dimension\":1,\"plot\":{\"id\":\"e6823158-c773-4489-b21c-ab81f646b911\",\"subtype\":\"Chart\",\"type\":\"Plot\"},\"ticker\":{\"id\":\"77370e0d-5d14-4977-a8a3-245d63a6f769\",\"type\":\"BasicTicker\"}},\"id\":\"3c99c8ac-0c91-4fb2-a9f6-c4c7efecbc60\",\"type\":\"Grid\"},{\"attributes\":{\"data_source\":{\"id\":\"3aee3092-630e-4afb-8e16-d42f9e098679\",\"type\":\"ColumnDataSource\"},\"glyph\":{\"id\":\"8190262f-5e15-4e00-8e40-17f467ca8d1b\",\"type\":\"Circle\"},\"hover_glyph\":null,\"nonselection_glyph\":{\"id\":\"646324ef-db3f-48d1-b9d0-616c500e19ca\",\"type\":\"Circle\"},\"selection_glyph\":null},\"id\":\"9e65339f-1899-4375-827b-8c3565ab9150\",\"type\":\"GlyphRenderer\"},{\"attributes\":{\"callback\":null},\"id\":\"77ef109a-591a-4143-a745-ecc9d904186e\",\"type\":\"ColumnDataSource\"},{\"attributes\":{\"fill_alpha\":{\"value\":0.1},\"fill_color\":{\"value\":\"#1f77b4\"},\"line_alpha\":{\"value\":0.1},\"line_color\":{\"value\":\"#1f77b4\"},\"size\":{\"units\":\"screen\",\"value\":15},\"x\":{\"value\":0.34360334},\"y\":{\"value\":0.21675145}},\"id\":\"97aeb24c-5f20-47ae-8c9b-8f6d0e386d07\",\"type\":\"Circle\"},{\"attributes\":{},\"id\":\"f83188d5-a971-442c-90f1-e51900891ad2\",\"type\":\"BasicTickFormatter\"},{\"attributes\":{\"callback\":null,\"column_names\":[\"x_values\",\"y_values\"],\"data\":{\"chart_index\":[{\"clusters\":0},{\"clusters\":0},{\"clusters\":0}],\"clusters\":[0,0,0],\"x_values\":{\"__ndarray__\":\"AAAAAAAAAADwQ/DOIM2nP9zi/j0NBa0/\",\"dtype\":\"float64\",\"shape\":[3]},\"y_values\":{\"__ndarray__\":\"/qWs8Ork2T+o6Z6nvV/gP2iU5+/kmt0/\",\"dtype\":\"float64\",\"shape\":[3]}}},\"id\":\"79371adf-b730-4114-bd62-bc06914800fd\",\"type\":\"ColumnDataSource\"},{\"attributes\":{},\"id\":\"f581e822-fd57-49a7-8c9b-94f07b898d9d\",\"type\":\"BasicTickFormatter\"},{\"attributes\":{\"data_source\":{\"id\":\"e93c1ba5-81f2-412e-bf63-f2cbb6c071d7\",\"type\":\"ColumnDataSource\"},\"glyph\":{\"id\":\"f87ff9f8-ed45-440d-8b65-890506c48550\",\"type\":\"Triangle\"},\"hover_glyph\":null,\"nonselection_glyph\":null,\"selection_glyph\":null},\"id\":\"f2a05be6-676a-4b45-b956-a06795614afe\",\"type\":\"GlyphRenderer\"},{\"attributes\":{\"below\":[{\"id\":\"0fa5b89b-426b-469f-a582-58fb13baa317\",\"type\":\"LinearAxis\"}],\"css_classes\":null,\"height\":500,\"left\":[{\"id\":\"dbe90383-7887-40e3-bde7-a3e37b776471\",\"type\":\"LinearAxis\"}],\"renderers\":[{\"id\":\"df582fbc-55f8-4c7d-9e53-f19dff6437b0\",\"type\":\"BoxAnnotation\"},{\"id\":\"a6915629-eb69-4494-9432-4274a5d22024\",\"type\":\"GlyphRenderer\"},{\"id\":\"41573886-baff-474b-941a-6252d138d12e\",\"type\":\"GlyphRenderer\"},{\"id\":\"f2a05be6-676a-4b45-b956-a06795614afe\",\"type\":\"GlyphRenderer\"},{\"id\":\"9b4c292d-378e-4d05-b570-e44e24e64145\",\"type\":\"Legend\"},{\"id\":\"0fa5b89b-426b-469f-a582-58fb13baa317\",\"type\":\"LinearAxis\"},{\"id\":\"dbe90383-7887-40e3-bde7-a3e37b776471\",\"type\":\"LinearAxis\"},{\"id\":\"f1bc3e57-e6b3-47cc-9938-275cc0ae1750\",\"type\":\"Grid\"},{\"id\":\"3c99c8ac-0c91-4fb2-a9f6-c4c7efecbc60\",\"type\":\"Grid\"},{\"id\":\"39d815d7-2b47-4f38-9c7e-b7a001632186\",\"type\":\"GlyphRenderer\"},{\"id\":\"f2e48d83-b9ad-498b-a58e-88e0bad414a2\",\"type\":\"GlyphRenderer\"},{\"id\":\"9e65339f-1899-4375-827b-8c3565ab9150\",\"type\":\"GlyphRenderer\"}],\"title\":{\"id\":\"269f9c28-5660-4b16-8163-722110e63118\",\"type\":\"Title\"},\"tool_events\":{\"id\":\"f0c6b298-105c-4965-ac4c-48f7086b647d\",\"type\":\"ToolEvents\"},\"toolbar\":{\"id\":\"19168657-0e6f-42bd-b2f3-c852d450b285\",\"type\":\"Toolbar\"},\"width\":500,\"x_mapper_type\":\"auto\",\"x_range\":{\"id\":\"4fa2a8a1-5f17-41c3-8184-bb6fb2cd87b1\",\"type\":\"Range1d\"},\"y_mapper_type\":\"auto\",\"y_range\":{\"id\":\"7554abf0-23ff-456b-ac81-924de817a6ef\",\"type\":\"Range1d\"}},\"id\":\"e6823158-c773-4489-b21c-ab81f646b911\",\"subtype\":\"Chart\",\"type\":\"Plot\"},{\"attributes\":{\"fill_alpha\":{\"value\":0.5},\"fill_color\":{\"value\":\"grey\"},\"line_alpha\":{\"value\":0.5},\"line_color\":{\"value\":\"grey\"},\"size\":{\"units\":\"screen\",\"value\":15},\"x\":{\"value\":0.36679669},\"y\":{\"value\":0.73170284}},\"id\":\"8190262f-5e15-4e00-8e40-17f467ca8d1b\",\"type\":\"Circle\"},{\"attributes\":{\"callback\":null,\"column_names\":[\"x_values\",\"y_values\"],\"data\":{\"chart_index\":[{\"clusters\":2},{\"clusters\":2},{\"clusters\":2},{\"clusters\":2},{\"clusters\":2},{\"clusters\":2},{\"clusters\":2},{\"clusters\":2},{\"clusters\":2},{\"clusters\":2},{\"clusters\":2},{\"clusters\":2},{\"clusters\":2}],\"clusters\":[2,2,2,2,2,2,2,2,2,2,2,2,2],\"x_values\":{\"__ndarray__\":\"sq89blfEyD/waOLcJ2DSPyGUB2Byf9Q/x4DJoqnP0T9GS6XsyKrZP8/U8wrtC9o/1QTFzZh51z+wtxshx6fQP/Ajl5rUQOk/9zgE1CAR4D/MQvcGvjnrPwxWVgqIjNQ/HJj7rWEj3j8=\",\"dtype\":\"float64\",\"shape\":[13]},\"y_values\":{\"__ndarray__\":\"9OQNZtUB5T+DK7XSJ5ztP7r9f46K1eA/AxIv+NJA5z9KuXjHTlzrP+h4/h/6i+g/Un11R2/z6T9axK3x11/mP2dmWlcDueg/ZM2jEhxq5z8otqh/dp7iP6aN9Kz/1uE/4tOVZGYv6D8=\",\"dtype\":\"float64\",\"shape\":[13]}}},\"id\":\"e93c1ba5-81f2-412e-bf63-f2cbb6c071d7\",\"type\":\"ColumnDataSource\"},{\"attributes\":{\"fill_alpha\":{\"value\":0.1},\"fill_color\":{\"value\":\"#1f77b4\"},\"line_alpha\":{\"value\":0.1},\"line_color\":{\"value\":\"#1f77b4\"},\"size\":{\"units\":\"screen\",\"value\":15},\"x\":{\"value\":0.36679669},\"y\":{\"value\":0.73170284}},\"id\":\"646324ef-db3f-48d1-b9d0-616c500e19ca\",\"type\":\"Circle\"}],\"root_ids\":[\"e6823158-c773-4489-b21c-ab81f646b911\"]},\"title\":\"Bokeh Application\",\"version\":\"0.12.4\"}};\n",
       "            var render_items = [{\"docid\":\"69acb6a0-ec29-48b0-8543-1c2f72a3cd1e\",\"elementid\":\"a8ef614b-000f-4275-9b15-c8d20376686d\",\"modelid\":\"e6823158-c773-4489-b21c-ab81f646b911\"}];\n",
       "            \n",
       "            Bokeh.embed.embed_items(docs_json, render_items);\n",
       "          };\n",
       "          if (document.readyState != \"loading\") fn();\n",
       "          else document.addEventListener(\"DOMContentLoaded\", fn);\n",
       "        })();\n",
       "      },\n",
       "      function(Bokeh) {\n",
       "      }\n",
       "    ];\n",
       "  \n",
       "    function run_inline_js() {\n",
       "      \n",
       "      if ((window.Bokeh !== undefined) || (force === true)) {\n",
       "        for (var i = 0; i < inline_js.length; i++) {\n",
       "          inline_js[i](window.Bokeh);\n",
       "        }if (force === true) {\n",
       "          display_loaded();\n",
       "        }} else if (Date.now() < window._bokeh_timeout) {\n",
       "        setTimeout(run_inline_js, 100);\n",
       "      } else if (!window._bokeh_failed_load) {\n",
       "        console.log(\"Bokeh: BokehJS failed to load within specified timeout.\");\n",
       "        window._bokeh_failed_load = true;\n",
       "      } else if (force !== true) {\n",
       "        var cell = $(document.getElementById(\"a8ef614b-000f-4275-9b15-c8d20376686d\")).parents('.cell').data().cell;\n",
       "        cell.output_area.append_execute_result(NB_LOAD_WARNING)\n",
       "      }\n",
       "  \n",
       "    }\n",
       "  \n",
       "    if (window._bokeh_is_loading === 0) {\n",
       "      console.log(\"Bokeh: BokehJS loaded, going straight to plotting\");\n",
       "      run_inline_js();\n",
       "    } else {\n",
       "      load_libs(js_urls, function() {\n",
       "        console.log(\"Bokeh: BokehJS plotting callback run at\", now());\n",
       "        run_inline_js();\n",
       "      });\n",
       "    }\n",
       "  }(this));\n",
       "</script>"
      ]
     },
     "metadata": {},
     "output_type": "display_data"
    }
   ],
   "source": [
    "plot_clusters(clusters, cluster_centers)"
   ]
  },
  {
   "cell_type": "markdown",
   "metadata": {
    "deletable": true,
    "editable": true,
    "slideshow": {
     "slide_type": "slide"
    }
   },
   "source": [
    "## Example: Pedicab Sharing"
   ]
  },
  {
   "cell_type": "code",
   "execution_count": 42,
   "metadata": {
    "collapsed": true
   },
   "outputs": [],
   "source": [
    "pedicabs = range(7)\n",
    "customers = range(11)"
   ]
  },
  {
   "cell_type": "code",
   "execution_count": 43,
   "metadata": {
    "collapsed": false,
    "slideshow": {
     "slide_type": "subslide"
    }
   },
   "outputs": [],
   "source": [
    "rng = lambda: random.uniform(0, 100)\n",
    "\n",
    "pedicab_locations = [(rng(), rng()) for _ in pedicabs]\n",
    "pickup_locations = [(rng(), rng()) for _ in customers]\n",
    "dropoff_locations = [(rng(), rng()) for _ in customers]"
   ]
  },
  {
   "cell_type": "code",
   "execution_count": 44,
   "metadata": {
    "collapsed": true
   },
   "outputs": [],
   "source": [
    "from bokeh.models import Range1d\n",
    "\n",
    "def build_pedicabs_and_customers_plot():\n",
    "    all_points = pedicab_locations + pickup_locations + dropoff_locations\n",
    "    point_types = ['Pedicab'] * len(pedicabs) + ['Pickup'] * len(customers) + ['Dropoff'] * len(customers)\n",
    "\n",
    "    plot = Scatter(\n",
    "        {\n",
    "            'x': [l[0] for l in all_points],\n",
    "            'y': [l[1] for l in all_points],\n",
    "            'type': point_types\n",
    "        },\n",
    "        x='x', y='y',\n",
    "        color='type', marker='type',\n",
    "        width=600, height=600\n",
    "    )\n",
    "\n",
    "    plot.legend.orientation = \"horizontal\"\n",
    "    plot.x_range = plot.y_range = Range1d(-15, 115)\n",
    "\n",
    "    return plot"
   ]
  },
  {
   "cell_type": "code",
   "execution_count": 45,
   "metadata": {
    "collapsed": false
   },
   "outputs": [
    {
     "data": {
      "text/html": [
       "\n",
       "\n",
       "    <div class=\"bk-root\">\n",
       "        <div class=\"bk-plotdiv\" id=\"dc2a8b1c-0ef9-46e5-aa7e-fd586d000c62\"></div>\n",
       "    </div>\n",
       "<script type=\"text/javascript\">\n",
       "  \n",
       "  (function(global) {\n",
       "    function now() {\n",
       "      return new Date();\n",
       "    }\n",
       "  \n",
       "    var force = false;\n",
       "  \n",
       "    if (typeof (window._bokeh_onload_callbacks) === \"undefined\" || force === true) {\n",
       "      window._bokeh_onload_callbacks = [];\n",
       "      window._bokeh_is_loading = undefined;\n",
       "    }\n",
       "  \n",
       "  \n",
       "    \n",
       "    if (typeof (window._bokeh_timeout) === \"undefined\" || force === true) {\n",
       "      window._bokeh_timeout = Date.now() + 0;\n",
       "      window._bokeh_failed_load = false;\n",
       "    }\n",
       "  \n",
       "    var NB_LOAD_WARNING = {'data': {'text/html':\n",
       "       \"<div style='background-color: #fdd'>\\n\"+\n",
       "       \"<p>\\n\"+\n",
       "       \"BokehJS does not appear to have successfully loaded. If loading BokehJS from CDN, this \\n\"+\n",
       "       \"may be due to a slow or bad network connection. Possible fixes:\\n\"+\n",
       "       \"</p>\\n\"+\n",
       "       \"<ul>\\n\"+\n",
       "       \"<li>re-rerun `output_notebook()` to attempt to load from CDN again, or</li>\\n\"+\n",
       "       \"<li>use INLINE resources instead, as so:</li>\\n\"+\n",
       "       \"</ul>\\n\"+\n",
       "       \"<code>\\n\"+\n",
       "       \"from bokeh.resources import INLINE\\n\"+\n",
       "       \"output_notebook(resources=INLINE)\\n\"+\n",
       "       \"</code>\\n\"+\n",
       "       \"</div>\"}};\n",
       "  \n",
       "    function display_loaded() {\n",
       "      if (window.Bokeh !== undefined) {\n",
       "        document.getElementById(\"dc2a8b1c-0ef9-46e5-aa7e-fd586d000c62\").textContent = \"BokehJS successfully loaded.\";\n",
       "      } else if (Date.now() < window._bokeh_timeout) {\n",
       "        setTimeout(display_loaded, 100)\n",
       "      }\n",
       "    }\n",
       "  \n",
       "    function run_callbacks() {\n",
       "      window._bokeh_onload_callbacks.forEach(function(callback) { callback() });\n",
       "      delete window._bokeh_onload_callbacks\n",
       "      console.info(\"Bokeh: all callbacks have finished\");\n",
       "    }\n",
       "  \n",
       "    function load_libs(js_urls, callback) {\n",
       "      window._bokeh_onload_callbacks.push(callback);\n",
       "      if (window._bokeh_is_loading > 0) {\n",
       "        console.log(\"Bokeh: BokehJS is being loaded, scheduling callback at\", now());\n",
       "        return null;\n",
       "      }\n",
       "      if (js_urls == null || js_urls.length === 0) {\n",
       "        run_callbacks();\n",
       "        return null;\n",
       "      }\n",
       "      console.log(\"Bokeh: BokehJS not loaded, scheduling load and callback at\", now());\n",
       "      window._bokeh_is_loading = js_urls.length;\n",
       "      for (var i = 0; i < js_urls.length; i++) {\n",
       "        var url = js_urls[i];\n",
       "        var s = document.createElement('script');\n",
       "        s.src = url;\n",
       "        s.async = false;\n",
       "        s.onreadystatechange = s.onload = function() {\n",
       "          window._bokeh_is_loading--;\n",
       "          if (window._bokeh_is_loading === 0) {\n",
       "            console.log(\"Bokeh: all BokehJS libraries loaded\");\n",
       "            run_callbacks()\n",
       "          }\n",
       "        };\n",
       "        s.onerror = function() {\n",
       "          console.warn(\"failed to load library \" + url);\n",
       "        };\n",
       "        console.log(\"Bokeh: injecting script tag for BokehJS library: \", url);\n",
       "        document.getElementsByTagName(\"head\")[0].appendChild(s);\n",
       "      }\n",
       "    };var element = document.getElementById(\"dc2a8b1c-0ef9-46e5-aa7e-fd586d000c62\");\n",
       "    if (element == null) {\n",
       "      console.log(\"Bokeh: ERROR: autoload.js configured with elementid 'dc2a8b1c-0ef9-46e5-aa7e-fd586d000c62' but no matching script tag was found. \")\n",
       "      return false;\n",
       "    }\n",
       "  \n",
       "    var js_urls = [];\n",
       "  \n",
       "    var inline_js = [\n",
       "      function(Bokeh) {\n",
       "        (function() {\n",
       "          var fn = function() {\n",
       "            var docs_json = {\"755ad1e7-ae63-4533-a28e-5adf42c2ddbd\":{\"roots\":{\"references\":[{\"attributes\":{\"line_alpha\":{\"value\":0.5},\"line_color\":{\"value\":\"grey\"},\"line_dash\":[6],\"x\":{\"field\":\"x\"},\"y\":{\"field\":\"y\"}},\"id\":\"4bc2a442-8278-48bc-9501-891925f31671\",\"type\":\"Line\"},{\"attributes\":{\"data_source\":{\"id\":\"83d6dea2-41ef-4754-ac82-e1493e3a9cfb\",\"type\":\"ColumnDataSource\"},\"glyph\":{\"id\":\"98a38292-f5e8-4ec3-99cc-fa3703f88477\",\"type\":\"Line\"},\"hover_glyph\":null,\"nonselection_glyph\":{\"id\":\"128d44fb-f9f2-458f-99c3-030b750d0085\",\"type\":\"Line\"},\"selection_glyph\":null},\"id\":\"2e812014-cc0d-410c-b231-cf0a9f44ed9b\",\"type\":\"GlyphRenderer\"},{\"attributes\":{\"data_source\":{\"id\":\"4801cd46-9cf1-417f-9a63-b6908f7861a8\",\"type\":\"ColumnDataSource\"},\"glyph\":{\"id\":\"4bc2a442-8278-48bc-9501-891925f31671\",\"type\":\"Line\"},\"hover_glyph\":null,\"nonselection_glyph\":{\"id\":\"a6a03258-f3cf-408a-8db4-bcd273dc3e42\",\"type\":\"Line\"},\"selection_glyph\":null},\"id\":\"add52a16-b558-46b1-8de3-c0f27c9860dc\",\"type\":\"GlyphRenderer\"},{\"attributes\":{\"callback\":null,\"column_names\":[\"x\",\"y\"],\"data\":{\"x\":[22.265795881815954,40.650987145521576],\"y\":[94.45977174681988,39.78762587774145]}},\"id\":\"4801cd46-9cf1-417f-9a63-b6908f7861a8\",\"type\":\"ColumnDataSource\"},{\"attributes\":{\"line_alpha\":{\"value\":0.1},\"line_color\":{\"value\":\"#1f77b4\"},\"line_dash\":[6],\"x\":{\"field\":\"x\"},\"y\":{\"field\":\"y\"}},\"id\":\"128d44fb-f9f2-458f-99c3-030b750d0085\",\"type\":\"Line\"},{\"attributes\":{\"callback\":null,\"column_names\":[\"x\",\"y\"],\"data\":{\"x\":[65.51259935509492,71.88178540211736],\"y\":[91.10739006092449,3.6298247843655096]}},\"id\":\"3fe4d163-3792-48b0-a20a-74307d17b3da\",\"type\":\"ColumnDataSource\"},{\"attributes\":{\"line_alpha\":{\"value\":0.1},\"line_color\":{\"value\":\"#1f77b4\"},\"line_dash\":[6],\"x\":{\"field\":\"x\"},\"y\":{\"field\":\"y\"}},\"id\":\"a6a03258-f3cf-408a-8db4-bcd273dc3e42\",\"type\":\"Line\"},{\"attributes\":{\"line_alpha\":{\"value\":0.1},\"line_color\":{\"value\":\"#1f77b4\"},\"line_dash\":[6],\"x\":{\"field\":\"x\"},\"y\":{\"field\":\"y\"}},\"id\":\"8dee8378-6fb4-4221-a792-9e885e353c0a\",\"type\":\"Line\"},{\"attributes\":{\"line_alpha\":{\"value\":0.5},\"line_color\":{\"value\":\"grey\"},\"line_dash\":[6],\"x\":{\"field\":\"x\"},\"y\":{\"field\":\"y\"}},\"id\":\"debbf25a-fbe5-4dcf-abed-25c4cabfd8c8\",\"type\":\"Line\"},{\"attributes\":{\"data_source\":{\"id\":\"de1825ed-054d-4481-ba3f-9487f5e98d3a\",\"type\":\"ColumnDataSource\"},\"glyph\":{\"id\":\"c12ee2cf-d494-4277-87af-497fcde4473b\",\"type\":\"Circle\"},\"hover_glyph\":null,\"nonselection_glyph\":null,\"selection_glyph\":null},\"id\":\"eaa1d4f3-2ea6-4102-a2d1-eb1edb20702c\",\"type\":\"GlyphRenderer\"},{\"attributes\":{\"line_alpha\":{\"value\":0.5},\"line_color\":{\"value\":\"grey\"},\"line_dash\":[6],\"x\":{\"field\":\"x\"},\"y\":{\"field\":\"y\"}},\"id\":\"98a38292-f5e8-4ec3-99cc-fa3703f88477\",\"type\":\"Line\"},{\"attributes\":{\"line_alpha\":{\"value\":0.5},\"line_color\":{\"value\":\"grey\"},\"line_dash\":[6],\"x\":{\"field\":\"x\"},\"y\":{\"field\":\"y\"}},\"id\":\"6b3c68da-102b-4714-931a-08b11fbaea85\",\"type\":\"Line\"},{\"attributes\":{\"data_source\":{\"id\":\"d3ac8c6a-d587-45ea-bf3e-a485cc1f3da3\",\"type\":\"ColumnDataSource\"},\"glyph\":{\"id\":\"a0e1b72c-2f79-4e34-9da8-316b12587866\",\"type\":\"Line\"},\"hover_glyph\":null,\"nonselection_glyph\":{\"id\":\"b5e9c1d3-dd55-4541-a9fe-af62c27d5aee\",\"type\":\"Line\"},\"selection_glyph\":null},\"id\":\"78587ded-26e9-4cf2-86ae-f956e14139c8\",\"type\":\"GlyphRenderer\"},{\"attributes\":{\"plot\":{\"id\":\"2a7dc640-c012-4a15-9595-5fa3dec0988c\",\"subtype\":\"Chart\",\"type\":\"Plot\"},\"ticker\":{\"id\":\"2f904ef6-c37c-4d6d-a571-58b671bec871\",\"type\":\"BasicTicker\"}},\"id\":\"d6011ff9-6c15-4946-a4f3-0b9af9815d55\",\"type\":\"Grid\"},{\"attributes\":{\"dimension\":1,\"plot\":{\"id\":\"2a7dc640-c012-4a15-9595-5fa3dec0988c\",\"subtype\":\"Chart\",\"type\":\"Plot\"},\"ticker\":{\"id\":\"191da764-7bf9-47ef-b338-a3a5da045643\",\"type\":\"BasicTicker\"}},\"id\":\"94393f9b-0e82-4662-b782-de539a17c141\",\"type\":\"Grid\"},{\"attributes\":{\"data_source\":{\"id\":\"3fe4d163-3792-48b0-a20a-74307d17b3da\",\"type\":\"ColumnDataSource\"},\"glyph\":{\"id\":\"debbf25a-fbe5-4dcf-abed-25c4cabfd8c8\",\"type\":\"Line\"},\"hover_glyph\":null,\"nonselection_glyph\":{\"id\":\"8dee8378-6fb4-4221-a792-9e885e353c0a\",\"type\":\"Line\"},\"selection_glyph\":null},\"id\":\"32c36135-d4bd-44f6-ac6f-6a1940c7d6be\",\"type\":\"GlyphRenderer\"},{\"attributes\":{\"callback\":null,\"column_names\":[\"x\",\"y\"],\"data\":{\"x\":[42.55523197755131,84.7961621759334],\"y\":[21.50852980524145,87.02662379107106]}},\"id\":\"5e4d87e0-1a2a-4504-bdcf-c8925c00fdde\",\"type\":\"ColumnDataSource\"},{\"attributes\":{\"fill_alpha\":{\"value\":0.7},\"fill_color\":{\"value\":\"#407ee7\"},\"line_color\":{\"value\":\"#407ee7\"},\"size\":{\"units\":\"screen\",\"value\":8},\"x\":{\"field\":\"x_values\"},\"y\":{\"field\":\"y_values\"}},\"id\":\"60e8afb6-7a66-4145-b165-2535e4de7bda\",\"type\":\"Triangle\"},{\"attributes\":{\"line_alpha\":{\"value\":0.5},\"line_color\":{\"value\":\"grey\"},\"line_dash\":[6],\"x\":{\"field\":\"x\"},\"y\":{\"field\":\"y\"}},\"id\":\"a0e1b72c-2f79-4e34-9da8-316b12587866\",\"type\":\"Line\"},{\"attributes\":{\"callback\":null,\"column_names\":[\"x\",\"y\"],\"data\":{\"x\":[46.92047929785891,51.1791762468915],\"y\":[81.18308840223743,32.375741576338434]}},\"id\":\"83d6dea2-41ef-4754-ac82-e1493e3a9cfb\",\"type\":\"ColumnDataSource\"},{\"attributes\":{\"line_alpha\":{\"value\":0.1},\"line_color\":{\"value\":\"#1f77b4\"},\"line_dash\":[6],\"x\":{\"field\":\"x\"},\"y\":{\"field\":\"y\"}},\"id\":\"67d5ec96-7db8-4acb-a2ee-48f5c05cbafd\",\"type\":\"Line\"},{\"attributes\":{\"callback\":null,\"column_names\":[\"x\",\"y\"],\"data\":{\"x\":[90.11659375522616,34.179097284014134],\"y\":[40.14839361951466,76.69512875154297]}},\"id\":\"ab5cf78b-b950-4092-ab50-7eb07415b5bb\",\"type\":\"ColumnDataSource\"},{\"attributes\":{\"data_source\":{\"id\":\"f908efdb-c337-46d4-8f6b-0526d0f335d1\",\"type\":\"ColumnDataSource\"},\"glyph\":{\"id\":\"60e8afb6-7a66-4145-b165-2535e4de7bda\",\"type\":\"Triangle\"},\"hover_glyph\":null,\"nonselection_glyph\":null,\"selection_glyph\":null},\"id\":\"10bd6ffb-69d7-4cbd-a213-8ba901fed4cb\",\"type\":\"GlyphRenderer\"},{\"attributes\":{\"line_alpha\":{\"value\":0.5},\"line_color\":{\"value\":\"grey\"},\"line_dash\":[6],\"x\":{\"field\":\"x\"},\"y\":{\"field\":\"y\"}},\"id\":\"e081c87b-244e-4cdf-b170-059455329fca\",\"type\":\"Line\"},{\"attributes\":{\"line_alpha\":{\"value\":0.1},\"line_color\":{\"value\":\"#1f77b4\"},\"line_dash\":[6],\"x\":{\"field\":\"x\"},\"y\":{\"field\":\"y\"}},\"id\":\"a6788257-bde3-431e-9fee-21e015d0e446\",\"type\":\"Line\"},{\"attributes\":{\"data_source\":{\"id\":\"5566cc41-32ee-4940-b9fa-8ee412295ec7\",\"type\":\"ColumnDataSource\"},\"glyph\":{\"id\":\"e081c87b-244e-4cdf-b170-059455329fca\",\"type\":\"Line\"},\"hover_glyph\":null,\"nonselection_glyph\":{\"id\":\"a6788257-bde3-431e-9fee-21e015d0e446\",\"type\":\"Line\"},\"selection_glyph\":null},\"id\":\"6d6108d0-3d78-423e-9034-c294f2ba4762\",\"type\":\"GlyphRenderer\"},{\"attributes\":{\"line_alpha\":{\"value\":0.5},\"line_color\":{\"value\":\"grey\"},\"line_dash\":[6],\"x\":{\"field\":\"x\"},\"y\":{\"field\":\"y\"}},\"id\":\"8e0c071b-0086-403e-8b76-4d3ade5bd79a\",\"type\":\"Line\"},{\"attributes\":{\"line_alpha\":{\"value\":0.1},\"line_color\":{\"value\":\"#1f77b4\"},\"line_dash\":[6],\"x\":{\"field\":\"x\"},\"y\":{\"field\":\"y\"}},\"id\":\"b5e9c1d3-dd55-4541-a9fe-af62c27d5aee\",\"type\":\"Line\"},{\"attributes\":{\"line_alpha\":{\"value\":0.1},\"line_color\":{\"value\":\"#1f77b4\"},\"line_dash\":[6],\"x\":{\"field\":\"x\"},\"y\":{\"field\":\"y\"}},\"id\":\"ca80baa4-2250-4b0b-8320-a146e99de308\",\"type\":\"Line\"},{\"attributes\":{\"callback\":null,\"end\":115,\"start\":-15},\"id\":\"a496b178-6b39-4d33-92b6-d5ee0feebb4a\",\"type\":\"Range1d\"},{\"attributes\":{\"callback\":null,\"column_names\":[\"x\",\"y\"],\"data\":{\"x\":[0.6030845309366706,9.819204533512217],\"y\":[32.575753260995256,0.33731800755657515]}},\"id\":\"5566cc41-32ee-4940-b9fa-8ee412295ec7\",\"type\":\"ColumnDataSource\"},{\"attributes\":{\"data_source\":{\"id\":\"ab5cf78b-b950-4092-ab50-7eb07415b5bb\",\"type\":\"ColumnDataSource\"},\"glyph\":{\"id\":\"c3290521-2c16-400d-979a-2536e670699b\",\"type\":\"Line\"},\"hover_glyph\":null,\"nonselection_glyph\":{\"id\":\"0362575c-2b84-4ecd-9e29-8d9f11ca62fa\",\"type\":\"Line\"},\"selection_glyph\":null},\"id\":\"265599b7-e1dd-4aed-ab3c-76cc7ef2a367\",\"type\":\"GlyphRenderer\"},{\"attributes\":{\"data_source\":{\"id\":\"5e4d87e0-1a2a-4504-bdcf-c8925c00fdde\",\"type\":\"ColumnDataSource\"},\"glyph\":{\"id\":\"8e0c071b-0086-403e-8b76-4d3ade5bd79a\",\"type\":\"Line\"},\"hover_glyph\":null,\"nonselection_glyph\":{\"id\":\"67d5ec96-7db8-4acb-a2ee-48f5c05cbafd\",\"type\":\"Line\"},\"selection_glyph\":null},\"id\":\"3354bef0-e2bc-47ac-9283-4752df69aa0e\",\"type\":\"GlyphRenderer\"},{\"attributes\":{\"callback\":null,\"column_names\":[\"x\",\"y\"],\"data\":{\"x\":[79.76060358972966,54.34323678238591],\"y\":[73.88187019689299,97.42423301273055]}},\"id\":\"b640f960-3478-436e-94ad-7a3fcfdc5872\",\"type\":\"ColumnDataSource\"},{\"attributes\":{\"line_alpha\":{\"value\":0.1},\"line_color\":{\"value\":\"#1f77b4\"},\"line_dash\":[6],\"x\":{\"field\":\"x\"},\"y\":{\"field\":\"y\"}},\"id\":\"0362575c-2b84-4ecd-9e29-8d9f11ca62fa\",\"type\":\"Line\"},{\"attributes\":{},\"id\":\"2f904ef6-c37c-4d6d-a571-58b671bec871\",\"type\":\"BasicTicker\"},{\"attributes\":{\"callback\":null,\"column_names\":[\"x\",\"y\"],\"data\":{\"x\":[40.767521003568554,82.29666159847685],\"y\":[72.4449296073933,66.85152620789309]}},\"id\":\"e59767a6-495e-4b62-998a-6a1b5dca66fe\",\"type\":\"ColumnDataSource\"},{\"attributes\":{\"data_source\":{\"id\":\"e59767a6-495e-4b62-998a-6a1b5dca66fe\",\"type\":\"ColumnDataSource\"},\"glyph\":{\"id\":\"6b3c68da-102b-4714-931a-08b11fbaea85\",\"type\":\"Line\"},\"hover_glyph\":null,\"nonselection_glyph\":{\"id\":\"ca80baa4-2250-4b0b-8320-a146e99de308\",\"type\":\"Line\"},\"selection_glyph\":null},\"id\":\"dce3232a-8279-458f-a651-533a1d9ba28d\",\"type\":\"GlyphRenderer\"},{\"attributes\":{\"line_alpha\":{\"value\":0.5},\"line_color\":{\"value\":\"grey\"},\"line_dash\":[6],\"x\":{\"field\":\"x\"},\"y\":{\"field\":\"y\"}},\"id\":\"c3290521-2c16-400d-979a-2536e670699b\",\"type\":\"Line\"},{\"attributes\":{},\"id\":\"4c0de13d-f769-4300-9061-c176edb6aad3\",\"type\":\"BasicTickFormatter\"},{\"attributes\":{},\"id\":\"4eae9b79-0940-4e6f-9c01-9a74f8a219ee\",\"type\":\"BasicTickFormatter\"},{\"attributes\":{\"axis_label\":\"y\",\"formatter\":{\"id\":\"4c0de13d-f769-4300-9061-c176edb6aad3\",\"type\":\"BasicTickFormatter\"},\"plot\":{\"id\":\"2a7dc640-c012-4a15-9595-5fa3dec0988c\",\"subtype\":\"Chart\",\"type\":\"Plot\"},\"ticker\":{\"id\":\"191da764-7bf9-47ef-b338-a3a5da045643\",\"type\":\"BasicTicker\"}},\"id\":\"756c2822-1166-410c-ac8b-6540877d3f4f\",\"type\":\"LinearAxis\"},{\"attributes\":{\"label\":{\"value\":\"Dropoff\"},\"renderers\":[{\"id\":\"eaa1d4f3-2ea6-4102-a2d1-eb1edb20702c\",\"type\":\"GlyphRenderer\"}]},\"id\":\"011e7ecc-4069-4ee6-86ee-5338e1334418\",\"type\":\"LegendItem\"},{\"attributes\":{\"callback\":null,\"column_names\":[\"x\",\"y\"],\"data\":{\"x\":[7.846650339782624,55.209895988696644],\"y\":[67.43213556945513,19.134664338260855]}},\"id\":\"bf8449bd-c664-436f-8201-76ff1227b918\",\"type\":\"ColumnDataSource\"},{\"attributes\":{\"label\":{\"value\":\"Pickup\"},\"renderers\":[{\"id\":\"10bd6ffb-69d7-4cbd-a213-8ba901fed4cb\",\"type\":\"GlyphRenderer\"}]},\"id\":\"a8b7931b-5618-4ecb-b7d5-2541bc715f30\",\"type\":\"LegendItem\"},{\"attributes\":{\"line_alpha\":{\"value\":0.1},\"line_color\":{\"value\":\"#1f77b4\"},\"line_dash\":[6],\"x\":{\"field\":\"x\"},\"y\":{\"field\":\"y\"}},\"id\":\"39de2375-c261-4adc-82a1-a78bde670b68\",\"type\":\"Line\"},{\"attributes\":{\"data_source\":{\"id\":\"b7e97573-b6f6-4204-88af-f9df0dcc55c6\",\"type\":\"ColumnDataSource\"},\"glyph\":{\"id\":\"2a6be3e1-0b99-4e62-a4d5-69ba43785fc3\",\"type\":\"Square\"},\"hover_glyph\":null,\"nonselection_glyph\":null,\"selection_glyph\":null},\"id\":\"e4bedf58-8cce-4494-bda3-bcb586d6a5fb\",\"type\":\"GlyphRenderer\"},{\"attributes\":{\"below\":[{\"id\":\"6c2c29e4-a0a8-44ff-96bf-f6b17e288edb\",\"type\":\"LinearAxis\"}],\"css_classes\":null,\"height\":600,\"left\":[{\"id\":\"756c2822-1166-410c-ac8b-6540877d3f4f\",\"type\":\"LinearAxis\"}],\"renderers\":[{\"id\":\"e832f38e-0324-4af0-9386-b5027e24c067\",\"type\":\"BoxAnnotation\"},{\"id\":\"e4bedf58-8cce-4494-bda3-bcb586d6a5fb\",\"type\":\"GlyphRenderer\"},{\"id\":\"10bd6ffb-69d7-4cbd-a213-8ba901fed4cb\",\"type\":\"GlyphRenderer\"},{\"id\":\"eaa1d4f3-2ea6-4102-a2d1-eb1edb20702c\",\"type\":\"GlyphRenderer\"},{\"id\":\"4e3840b1-f911-424f-8b05-ac062a72724f\",\"type\":\"Legend\"},{\"id\":\"6c2c29e4-a0a8-44ff-96bf-f6b17e288edb\",\"type\":\"LinearAxis\"},{\"id\":\"756c2822-1166-410c-ac8b-6540877d3f4f\",\"type\":\"LinearAxis\"},{\"id\":\"d6011ff9-6c15-4946-a4f3-0b9af9815d55\",\"type\":\"Grid\"},{\"id\":\"94393f9b-0e82-4662-b782-de539a17c141\",\"type\":\"Grid\"},{\"id\":\"265599b7-e1dd-4aed-ab3c-76cc7ef2a367\",\"type\":\"GlyphRenderer\"},{\"id\":\"dce3232a-8279-458f-a651-533a1d9ba28d\",\"type\":\"GlyphRenderer\"},{\"id\":\"6d6108d0-3d78-423e-9034-c294f2ba4762\",\"type\":\"GlyphRenderer\"},{\"id\":\"3354bef0-e2bc-47ac-9283-4752df69aa0e\",\"type\":\"GlyphRenderer\"},{\"id\":\"c22b2fca-f28a-415a-9d90-2a41267dfe3d\",\"type\":\"GlyphRenderer\"},{\"id\":\"b78df94f-bfeb-447d-880f-6dc1b23faa51\",\"type\":\"GlyphRenderer\"},{\"id\":\"097f3704-ad1b-4314-be2c-8464fd2174d4\",\"type\":\"GlyphRenderer\"},{\"id\":\"78587ded-26e9-4cf2-86ae-f956e14139c8\",\"type\":\"GlyphRenderer\"},{\"id\":\"2e812014-cc0d-410c-b231-cf0a9f44ed9b\",\"type\":\"GlyphRenderer\"},{\"id\":\"add52a16-b558-46b1-8de3-c0f27c9860dc\",\"type\":\"GlyphRenderer\"},{\"id\":\"32c36135-d4bd-44f6-ac6f-6a1940c7d6be\",\"type\":\"GlyphRenderer\"}],\"title\":{\"id\":\"90cad54b-e509-4995-a786-ec4b3492632c\",\"type\":\"Title\"},\"tool_events\":{\"id\":\"e2e8b777-f1ad-4469-9ffc-d710c5ed3035\",\"type\":\"ToolEvents\"},\"toolbar\":{\"id\":\"1460a996-badb-46d5-9e71-514ed8c542e2\",\"type\":\"Toolbar\"},\"width\":600,\"x_mapper_type\":\"auto\",\"x_range\":{\"id\":\"a496b178-6b39-4d33-92b6-d5ee0feebb4a\",\"type\":\"Range1d\"},\"y_mapper_type\":\"auto\",\"y_range\":{\"id\":\"a496b178-6b39-4d33-92b6-d5ee0feebb4a\",\"type\":\"Range1d\"}},\"id\":\"2a7dc640-c012-4a15-9595-5fa3dec0988c\",\"subtype\":\"Chart\",\"type\":\"Plot\"},{\"attributes\":{\"label\":{\"value\":\"Pedicab\"},\"renderers\":[{\"id\":\"e4bedf58-8cce-4494-bda3-bcb586d6a5fb\",\"type\":\"GlyphRenderer\"}]},\"id\":\"8d77313f-4921-4171-b81e-ee9ffe5c863b\",\"type\":\"LegendItem\"},{\"attributes\":{\"fill_alpha\":{\"value\":0.7},\"fill_color\":{\"value\":\"#5ab738\"},\"line_color\":{\"value\":\"#5ab738\"},\"size\":{\"units\":\"screen\",\"value\":8},\"x\":{\"field\":\"x_values\"},\"y\":{\"field\":\"y_values\"}},\"id\":\"2a6be3e1-0b99-4e62-a4d5-69ba43785fc3\",\"type\":\"Square\"},{\"attributes\":{\"data_source\":{\"id\":\"b640f960-3478-436e-94ad-7a3fcfdc5872\",\"type\":\"ColumnDataSource\"},\"glyph\":{\"id\":\"fb8326e6-49fa-4cf2-9928-ca5b5f3a82aa\",\"type\":\"Line\"},\"hover_glyph\":null,\"nonselection_glyph\":{\"id\":\"39de2375-c261-4adc-82a1-a78bde670b68\",\"type\":\"Line\"},\"selection_glyph\":null},\"id\":\"c22b2fca-f28a-415a-9d90-2a41267dfe3d\",\"type\":\"GlyphRenderer\"},{\"attributes\":{},\"id\":\"191da764-7bf9-47ef-b338-a3a5da045643\",\"type\":\"BasicTicker\"},{\"attributes\":{\"callback\":null,\"column_names\":[\"x_values\",\"y_values\"],\"data\":{\"chart_index\":[{\"type\":\"Pedicab\"},{\"type\":\"Pedicab\"},{\"type\":\"Pedicab\"},{\"type\":\"Pedicab\"},{\"type\":\"Pedicab\"},{\"type\":\"Pedicab\"},{\"type\":\"Pedicab\"}],\"type\":[\"Pedicab\",\"Pedicab\",\"Pedicab\",\"Pedicab\",\"Pedicab\",\"Pedicab\",\"Pedicab\"],\"x_values\":{\"__ndarray__\":\"5uf5g3IdJkAGDwtmkQ5FQGkUcufs71ZAIWOnZvHkRUCAmUv6+OFUQLQlDseFRlNAHH5Za+BYQkA=\",\"dtype\":\"float64\",\"shape\":[7]},\"y_values\":{\"__ndarray__\":\"y68rkQk4UUCOADyfH5FIQEr0A8+C1UhARE1tU652TUCek+4r5odTQJXgjCP4JCdAFnuj4SS9UkA=\",\"dtype\":\"float64\",\"shape\":[7]}}},\"id\":\"b7e97573-b6f6-4204-88af-f9df0dcc55c6\",\"type\":\"ColumnDataSource\"},{\"attributes\":{\"callback\":null,\"column_names\":[\"x_values\",\"y_values\"],\"data\":{\"chart_index\":[{\"type\":\"Pickup\"},{\"type\":\"Pickup\"},{\"type\":\"Pickup\"},{\"type\":\"Pickup\"},{\"type\":\"Pickup\"},{\"type\":\"Pickup\"},{\"type\":\"Pickup\"},{\"type\":\"Pickup\"},{\"type\":\"Pickup\"},{\"type\":\"Pickup\"},{\"type\":\"Pickup\"}],\"type\":[\"Pickup\",\"Pickup\",\"Pickup\",\"Pickup\",\"Pickup\",\"Pickup\",\"Pickup\",\"Pickup\",\"Pickup\",\"Pickup\",\"Pickup\"],\"x_values\":{\"__ndarray__\":\"T2enRXaHVkD3qNQgPmJEQIgWI+53TOM/XaNo1xFHRUD7xq26rfBTQPwNgk74Yh9AIp2DCjQZGEBuF1jRFawhQHt5AETSdUdAns/rMgtENkBWhYZtzmBQQA==\",\"dtype\":\"float64\",\"shape\":[11]},\"y_values\":{\"__ndarray__\":\"EWDnj/4SRECwMQi6eRxSQB5FaUiySUBApI1iAi+CNUA9vrGPcHhSQOGP8huo21BAXuCUbbE7P0C5LB07Kd5AQL/4ari3S1RA1g165mydV0CD5Y9638ZWQA==\",\"dtype\":\"float64\",\"shape\":[11]}}},\"id\":\"f908efdb-c337-46d4-8f6b-0526d0f335d1\",\"type\":\"ColumnDataSource\"},{\"attributes\":{\"bottom_units\":\"screen\",\"fill_alpha\":{\"value\":0.5},\"fill_color\":{\"value\":\"lightgrey\"},\"left_units\":\"screen\",\"level\":\"overlay\",\"line_alpha\":{\"value\":1.0},\"line_color\":{\"value\":\"black\"},\"line_dash\":[4,4],\"line_width\":{\"value\":2},\"plot\":null,\"render_mode\":\"css\",\"right_units\":\"screen\",\"top_units\":\"screen\"},\"id\":\"e832f38e-0324-4af0-9386-b5027e24c067\",\"type\":\"BoxAnnotation\"},{\"attributes\":{\"fill_alpha\":{\"value\":0.7},\"fill_color\":{\"value\":\"#f22c40\"},\"line_color\":{\"value\":\"#f22c40\"},\"size\":{\"units\":\"screen\",\"value\":8},\"x\":{\"field\":\"x_values\"},\"y\":{\"field\":\"y_values\"}},\"id\":\"c12ee2cf-d494-4277-87af-497fcde4473b\",\"type\":\"Circle\"},{\"attributes\":{\"plot\":{\"id\":\"2a7dc640-c012-4a15-9595-5fa3dec0988c\",\"subtype\":\"Chart\",\"type\":\"Plot\"}},\"id\":\"0b182bcd-1899-4a06-88ac-4610922cde69\",\"type\":\"SaveTool\"},{\"attributes\":{\"plot\":null,\"text\":null},\"id\":\"90cad54b-e509-4995-a786-ec4b3492632c\",\"type\":\"Title\"},{\"attributes\":{\"callback\":null,\"column_names\":[\"x_values\",\"y_values\"],\"data\":{\"chart_index\":[{\"type\":\"Dropoff\"},{\"type\":\"Dropoff\"},{\"type\":\"Dropoff\"},{\"type\":\"Dropoff\"},{\"type\":\"Dropoff\"},{\"type\":\"Dropoff\"},{\"type\":\"Dropoff\"},{\"type\":\"Dropoff\"},{\"type\":\"Dropoff\"},{\"type\":\"Dropoff\"},{\"type\":\"Dropoff\"}],\"type\":[\"Dropoff\",\"Dropoff\",\"Dropoff\",\"Dropoff\",\"Dropoff\",\"Dropoff\",\"Dropoff\",\"Dropoff\",\"Dropoff\",\"Dropoff\",\"Dropoff\"],\"x_values\":{\"__ndarray__\":\"UtLoqOwWQUD62+2A/JJUQP5W0MZuoyNAjvwyUvQyVUDdkNEu7ytLQMCBK9/dmktAw18kkJ2fWED5fQKm1SEzQDxPTD/vlklA1xD6i1NTREDLCwosb/hRQA==\",\"dtype\":\"float64\",\"shape\":[11]},\"y_values\":{\"__ndarray__\":\"uphN/XwsU0Cdpcdnf7ZQQPirs0SeltU/h/xFNLTBVUDs4ziiJltYQJLEsFx5IjNA9hOil02QSUDALMYmHyENQH8Py0wYMEBAADG97NDkQ0Aee5iT4QkNQA==\",\"dtype\":\"float64\",\"shape\":[11]}}},\"id\":\"de1825ed-054d-4481-ba3f-9487f5e98d3a\",\"type\":\"ColumnDataSource\"},{\"attributes\":{\"items\":[{\"id\":\"8d77313f-4921-4171-b81e-ee9ffe5c863b\",\"type\":\"LegendItem\"},{\"id\":\"a8b7931b-5618-4ecb-b7d5-2541bc715f30\",\"type\":\"LegendItem\"},{\"id\":\"011e7ecc-4069-4ee6-86ee-5338e1334418\",\"type\":\"LegendItem\"}],\"location\":\"top_left\",\"orientation\":\"horizontal\",\"plot\":{\"id\":\"2a7dc640-c012-4a15-9595-5fa3dec0988c\",\"subtype\":\"Chart\",\"type\":\"Plot\"}},\"id\":\"4e3840b1-f911-424f-8b05-ac062a72724f\",\"type\":\"Legend\"},{\"attributes\":{\"line_alpha\":{\"value\":0.5},\"line_color\":{\"value\":\"grey\"},\"line_dash\":[6],\"x\":{\"field\":\"x\"},\"y\":{\"field\":\"y\"}},\"id\":\"fb8326e6-49fa-4cf2-9928-ca5b5f3a82aa\",\"type\":\"Line\"},{\"attributes\":{\"data_source\":{\"id\":\"bf8449bd-c664-436f-8201-76ff1227b918\",\"type\":\"ColumnDataSource\"},\"glyph\":{\"id\":\"fbc96680-98fb-424a-96b6-ca7b0ac7c13c\",\"type\":\"Line\"},\"hover_glyph\":null,\"nonselection_glyph\":{\"id\":\"3aa303c9-b1c7-4620-9ba5-6c573e626970\",\"type\":\"Line\"},\"selection_glyph\":null},\"id\":\"b78df94f-bfeb-447d-880f-6dc1b23faa51\",\"type\":\"GlyphRenderer\"},{\"attributes\":{\"plot\":{\"id\":\"2a7dc640-c012-4a15-9595-5fa3dec0988c\",\"subtype\":\"Chart\",\"type\":\"Plot\"}},\"id\":\"8fb127ec-5f2f-4b76-8ac6-f22b81552bb9\",\"type\":\"WheelZoomTool\"},{\"attributes\":{\"line_alpha\":{\"value\":0.1},\"line_color\":{\"value\":\"#1f77b4\"},\"line_dash\":[6],\"x\":{\"field\":\"x\"},\"y\":{\"field\":\"y\"}},\"id\":\"3aa303c9-b1c7-4620-9ba5-6c573e626970\",\"type\":\"Line\"},{\"attributes\":{\"plot\":{\"id\":\"2a7dc640-c012-4a15-9595-5fa3dec0988c\",\"subtype\":\"Chart\",\"type\":\"Plot\"}},\"id\":\"54b59fbe-8af8-4fb4-8ef2-af85d77cdc32\",\"type\":\"HelpTool\"},{\"attributes\":{\"axis_label\":\"x\",\"formatter\":{\"id\":\"4eae9b79-0940-4e6f-9c01-9a74f8a219ee\",\"type\":\"BasicTickFormatter\"},\"plot\":{\"id\":\"2a7dc640-c012-4a15-9595-5fa3dec0988c\",\"subtype\":\"Chart\",\"type\":\"Plot\"},\"ticker\":{\"id\":\"2f904ef6-c37c-4d6d-a571-58b671bec871\",\"type\":\"BasicTicker\"}},\"id\":\"6c2c29e4-a0a8-44ff-96bf-f6b17e288edb\",\"type\":\"LinearAxis\"},{\"attributes\":{\"plot\":{\"id\":\"2a7dc640-c012-4a15-9595-5fa3dec0988c\",\"subtype\":\"Chart\",\"type\":\"Plot\"}},\"id\":\"fed9f948-6699-4003-859d-e486cf08f32f\",\"type\":\"ResetTool\"},{\"attributes\":{\"plot\":{\"id\":\"2a7dc640-c012-4a15-9595-5fa3dec0988c\",\"subtype\":\"Chart\",\"type\":\"Plot\"}},\"id\":\"64ba3f03-f832-46a4-a265-351767bac196\",\"type\":\"PanTool\"},{\"attributes\":{\"callback\":null,\"column_names\":[\"x\",\"y\"],\"data\":{\"x\":[6.024612583430356,98.49399188568263],\"y\":[31.23317608723334,51.127367929591784]}},\"id\":\"fbc5e7a0-3802-4334-b1a2-e19e08ebcf15\",\"type\":\"ColumnDataSource\"},{\"attributes\":{\"data_source\":{\"id\":\"fbc5e7a0-3802-4334-b1a2-e19e08ebcf15\",\"type\":\"ColumnDataSource\"},\"glyph\":{\"id\":\"137475d1-a14f-4fa2-b747-c40beee64500\",\"type\":\"Line\"},\"hover_glyph\":null,\"nonselection_glyph\":{\"id\":\"e65fc91b-0b66-4f91-b366-9ae303f09799\",\"type\":\"Line\"},\"selection_glyph\":null},\"id\":\"097f3704-ad1b-4314-be2c-8464fd2174d4\",\"type\":\"GlyphRenderer\"},{\"attributes\":{\"line_alpha\":{\"value\":0.5},\"line_color\":{\"value\":\"grey\"},\"line_dash\":[6],\"x\":{\"field\":\"x\"},\"y\":{\"field\":\"y\"}},\"id\":\"137475d1-a14f-4fa2-b747-c40beee64500\",\"type\":\"Line\"},{\"attributes\":{\"overlay\":{\"id\":\"e832f38e-0324-4af0-9386-b5027e24c067\",\"type\":\"BoxAnnotation\"},\"plot\":{\"id\":\"2a7dc640-c012-4a15-9595-5fa3dec0988c\",\"subtype\":\"Chart\",\"type\":\"Plot\"}},\"id\":\"1baaf797-7fb1-4436-a286-bc4c7165c015\",\"type\":\"BoxZoomTool\"},{\"attributes\":{\"line_alpha\":{\"value\":0.1},\"line_color\":{\"value\":\"#1f77b4\"},\"line_dash\":[6],\"x\":{\"field\":\"x\"},\"y\":{\"field\":\"y\"}},\"id\":\"e65fc91b-0b66-4f91-b366-9ae303f09799\",\"type\":\"Line\"},{\"attributes\":{\"callback\":null,\"column_names\":[\"x\",\"y\"],\"data\":{\"x\":[8.836103956225738,19.132166267021578],\"y\":[33.735633267636736,3.641172697947326]}},\"id\":\"d3ac8c6a-d587-45ea-bf3e-a485cc1f3da3\",\"type\":\"ColumnDataSource\"},{\"attributes\":{\"line_alpha\":{\"value\":0.5},\"line_color\":{\"value\":\"grey\"},\"line_dash\":[6],\"x\":{\"field\":\"x\"},\"y\":{\"field\":\"y\"}},\"id\":\"fbc96680-98fb-424a-96b6-ca7b0ac7c13c\",\"type\":\"Line\"},{\"attributes\":{\"active_drag\":\"auto\",\"active_scroll\":\"auto\",\"active_tap\":\"auto\",\"tools\":[{\"id\":\"64ba3f03-f832-46a4-a265-351767bac196\",\"type\":\"PanTool\"},{\"id\":\"8fb127ec-5f2f-4b76-8ac6-f22b81552bb9\",\"type\":\"WheelZoomTool\"},{\"id\":\"1baaf797-7fb1-4436-a286-bc4c7165c015\",\"type\":\"BoxZoomTool\"},{\"id\":\"0b182bcd-1899-4a06-88ac-4610922cde69\",\"type\":\"SaveTool\"},{\"id\":\"fed9f948-6699-4003-859d-e486cf08f32f\",\"type\":\"ResetTool\"},{\"id\":\"54b59fbe-8af8-4fb4-8ef2-af85d77cdc32\",\"type\":\"HelpTool\"}]},\"id\":\"1460a996-badb-46d5-9e71-514ed8c542e2\",\"type\":\"Toolbar\"},{\"attributes\":{},\"id\":\"e2e8b777-f1ad-4469-9ffc-d710c5ed3035\",\"type\":\"ToolEvents\"}],\"root_ids\":[\"2a7dc640-c012-4a15-9595-5fa3dec0988c\"]},\"title\":\"Bokeh Application\",\"version\":\"0.12.4\"}};\n",
       "            var render_items = [{\"docid\":\"755ad1e7-ae63-4533-a28e-5adf42c2ddbd\",\"elementid\":\"dc2a8b1c-0ef9-46e5-aa7e-fd586d000c62\",\"modelid\":\"2a7dc640-c012-4a15-9595-5fa3dec0988c\"}];\n",
       "            \n",
       "            Bokeh.embed.embed_items(docs_json, render_items);\n",
       "          };\n",
       "          if (document.readyState != \"loading\") fn();\n",
       "          else document.addEventListener(\"DOMContentLoaded\", fn);\n",
       "        })();\n",
       "      },\n",
       "      function(Bokeh) {\n",
       "      }\n",
       "    ];\n",
       "  \n",
       "    function run_inline_js() {\n",
       "      \n",
       "      if ((window.Bokeh !== undefined) || (force === true)) {\n",
       "        for (var i = 0; i < inline_js.length; i++) {\n",
       "          inline_js[i](window.Bokeh);\n",
       "        }if (force === true) {\n",
       "          display_loaded();\n",
       "        }} else if (Date.now() < window._bokeh_timeout) {\n",
       "        setTimeout(run_inline_js, 100);\n",
       "      } else if (!window._bokeh_failed_load) {\n",
       "        console.log(\"Bokeh: BokehJS failed to load within specified timeout.\");\n",
       "        window._bokeh_failed_load = true;\n",
       "      } else if (force !== true) {\n",
       "        var cell = $(document.getElementById(\"dc2a8b1c-0ef9-46e5-aa7e-fd586d000c62\")).parents('.cell').data().cell;\n",
       "        cell.output_area.append_execute_result(NB_LOAD_WARNING)\n",
       "      }\n",
       "  \n",
       "    }\n",
       "  \n",
       "    if (window._bokeh_is_loading === 0) {\n",
       "      console.log(\"Bokeh: BokehJS loaded, going straight to plotting\");\n",
       "      run_inline_js();\n",
       "    } else {\n",
       "      load_libs(js_urls, function() {\n",
       "        console.log(\"Bokeh: BokehJS plotting callback run at\", now());\n",
       "        run_inline_js();\n",
       "      });\n",
       "    }\n",
       "  }(this));\n",
       "</script>"
      ]
     },
     "metadata": {},
     "output_type": "display_data"
    }
   ],
   "source": [
    "plot = build_pedicabs_and_customers_plot()\n",
    "\n",
    "# Connect pickups to dropoffs\n",
    "for p, d in zip(pickup_locations, dropoff_locations):\n",
    "    plot.line([p[0], d[0]], [p[1], d[1]], line_alpha=0.5, line_color='grey', line_dash='dashed')\n",
    "    \n",
    "show(plot)"
   ]
  },
  {
   "cell_type": "code",
   "execution_count": 46,
   "metadata": {
    "collapsed": false
   },
   "outputs": [],
   "source": [
    "from collections import defaultdict\n",
    "import math\n",
    "\n",
    "l2 = lambda pt1, pt2: math.sqrt(sum((x1-x2)**2 for x1, x2 in zip(pt1, pt2)))\n",
    "\n",
    "routes = []\n",
    "route_costs = {}\n",
    "\n",
    "routes_by_pedicab = defaultdict(list)\n",
    "routes_by_customer = defaultdict(list)\n",
    "\n",
    "def add_route(pedicab, customers, locations):\n",
    "    stops = [pedicab_locations[pedicab]] + list(locations)\n",
    "    \n",
    "    route_num = len(routes)\n",
    "    \n",
    "    routes.append(stops)\n",
    "    route_costs[route_num] = sum(l2(s1, s2) for s1, s2 in zip(stops, stops[1:]))\n",
    "    \n",
    "    routes_by_pedicab[pedicab].append(route_num)\n",
    "    for cust in customers:\n",
    "        routes_by_customer[cust].append(route_num)"
   ]
  },
  {
   "cell_type": "code",
   "execution_count": 47,
   "metadata": {
    "collapsed": false
   },
   "outputs": [
    {
     "data": {
      "text/plain": [
       "2387"
      ]
     },
     "execution_count": 47,
     "metadata": {},
     "output_type": "execute_result"
    }
   ],
   "source": [
    "from itertools import permutations\n",
    "\n",
    "pickups_dropoffs = list(zip(pickup_locations, dropoff_locations))\n",
    "\n",
    "for cab in pedicabs:\n",
    "    # Single-customer routes\n",
    "    for cust in customers:\n",
    "        add_route(cab, [cust], pickups_dropoffs[cust])\n",
    "\n",
    "    # Doubles\n",
    "    for c1, c2 in permutations(customers, 2):\n",
    "        p1, d1 = pickups_dropoffs[c1]\n",
    "        p2, d2 = pickups_dropoffs[c2]\n",
    "        \n",
    "        add_route(cab, [c1, c2], [p1, p2, d1, d2])\n",
    "        add_route(cab, [c1, c2], [p1, p2, d2, d1])\n",
    "        add_route(cab, [c1, c2], [p1, d1, p2, d2])\n",
    "     \n",
    "len(routes)"
   ]
  },
  {
   "cell_type": "code",
   "execution_count": 48,
   "metadata": {
    "collapsed": false
   },
   "outputs": [],
   "source": [
    "x = []\n",
    "for r in range(len(routes)):\n",
    "    x.append(pulp.LpVariable('x%d' % r, cat=pulp.LpBinary))"
   ]
  },
  {
   "cell_type": "code",
   "execution_count": 49,
   "metadata": {
    "collapsed": false
   },
   "outputs": [],
   "source": [
    "prm = pulp.LpProblem('Pedicab Routing Model', sense=pulp.LpMinimize)\n",
    "\n",
    "# No more than one route assigned to each cab\n",
    "for cab_routes in routes_by_pedicab.values():\n",
    "    prm += sum(x[r] for r in cab_routes) <= 1\n",
    "    \n",
    "# Each customer is picked up by exactly one pedicab\n",
    "for cust_routes in routes_by_customer.values():\n",
    "    prm += sum(x[r] for r in cust_routes) == 1"
   ]
  },
  {
   "cell_type": "code",
   "execution_count": 50,
   "metadata": {
    "collapsed": false
   },
   "outputs": [
    {
     "name": "stdout",
     "output_type": "stream",
     "text": [
      "total cost: 674.62164\n"
     ]
    }
   ],
   "source": [
    "z = pulp.LpVariable('z', lowBound=0)\n",
    "prm += z == sum(route_costs[r] * x[r] for r in range(len(routes)))\n",
    "\n",
    "prm.setObjective(z)\n",
    "assert prm.solve() == pulp.LpStatusOptimal\n",
    "\n",
    "best_total_cost = z.value()\n",
    "print('total cost:', best_total_cost)"
   ]
  },
  {
   "cell_type": "code",
   "execution_count": 51,
   "metadata": {
    "collapsed": true
   },
   "outputs": [],
   "source": [
    "def plot_routes():\n",
    "    plot = build_pedicabs_and_customers_plot()\n",
    "\n",
    "    # Show \n",
    "    for r, stops in enumerate(routes):\n",
    "        if x[r].value() < 0.5:\n",
    "            continue\n",
    "\n",
    "        plot.line(\n",
    "            [s[0] for s in stops], \n",
    "            [s[1] for s in stops], \n",
    "            line_alpha=0.5, \n",
    "            line_color='grey', \n",
    "            line_dash='dashed'\n",
    "        )\n",
    "    \n",
    "    show(plot)"
   ]
  },
  {
   "cell_type": "code",
   "execution_count": 52,
   "metadata": {
    "collapsed": false
   },
   "outputs": [
    {
     "data": {
      "text/html": [
       "\n",
       "\n",
       "    <div class=\"bk-root\">\n",
       "        <div class=\"bk-plotdiv\" id=\"95b919ae-7460-4caa-8d80-eb515513ed47\"></div>\n",
       "    </div>\n",
       "<script type=\"text/javascript\">\n",
       "  \n",
       "  (function(global) {\n",
       "    function now() {\n",
       "      return new Date();\n",
       "    }\n",
       "  \n",
       "    var force = false;\n",
       "  \n",
       "    if (typeof (window._bokeh_onload_callbacks) === \"undefined\" || force === true) {\n",
       "      window._bokeh_onload_callbacks = [];\n",
       "      window._bokeh_is_loading = undefined;\n",
       "    }\n",
       "  \n",
       "  \n",
       "    \n",
       "    if (typeof (window._bokeh_timeout) === \"undefined\" || force === true) {\n",
       "      window._bokeh_timeout = Date.now() + 0;\n",
       "      window._bokeh_failed_load = false;\n",
       "    }\n",
       "  \n",
       "    var NB_LOAD_WARNING = {'data': {'text/html':\n",
       "       \"<div style='background-color: #fdd'>\\n\"+\n",
       "       \"<p>\\n\"+\n",
       "       \"BokehJS does not appear to have successfully loaded. If loading BokehJS from CDN, this \\n\"+\n",
       "       \"may be due to a slow or bad network connection. Possible fixes:\\n\"+\n",
       "       \"</p>\\n\"+\n",
       "       \"<ul>\\n\"+\n",
       "       \"<li>re-rerun `output_notebook()` to attempt to load from CDN again, or</li>\\n\"+\n",
       "       \"<li>use INLINE resources instead, as so:</li>\\n\"+\n",
       "       \"</ul>\\n\"+\n",
       "       \"<code>\\n\"+\n",
       "       \"from bokeh.resources import INLINE\\n\"+\n",
       "       \"output_notebook(resources=INLINE)\\n\"+\n",
       "       \"</code>\\n\"+\n",
       "       \"</div>\"}};\n",
       "  \n",
       "    function display_loaded() {\n",
       "      if (window.Bokeh !== undefined) {\n",
       "        document.getElementById(\"95b919ae-7460-4caa-8d80-eb515513ed47\").textContent = \"BokehJS successfully loaded.\";\n",
       "      } else if (Date.now() < window._bokeh_timeout) {\n",
       "        setTimeout(display_loaded, 100)\n",
       "      }\n",
       "    }\n",
       "  \n",
       "    function run_callbacks() {\n",
       "      window._bokeh_onload_callbacks.forEach(function(callback) { callback() });\n",
       "      delete window._bokeh_onload_callbacks\n",
       "      console.info(\"Bokeh: all callbacks have finished\");\n",
       "    }\n",
       "  \n",
       "    function load_libs(js_urls, callback) {\n",
       "      window._bokeh_onload_callbacks.push(callback);\n",
       "      if (window._bokeh_is_loading > 0) {\n",
       "        console.log(\"Bokeh: BokehJS is being loaded, scheduling callback at\", now());\n",
       "        return null;\n",
       "      }\n",
       "      if (js_urls == null || js_urls.length === 0) {\n",
       "        run_callbacks();\n",
       "        return null;\n",
       "      }\n",
       "      console.log(\"Bokeh: BokehJS not loaded, scheduling load and callback at\", now());\n",
       "      window._bokeh_is_loading = js_urls.length;\n",
       "      for (var i = 0; i < js_urls.length; i++) {\n",
       "        var url = js_urls[i];\n",
       "        var s = document.createElement('script');\n",
       "        s.src = url;\n",
       "        s.async = false;\n",
       "        s.onreadystatechange = s.onload = function() {\n",
       "          window._bokeh_is_loading--;\n",
       "          if (window._bokeh_is_loading === 0) {\n",
       "            console.log(\"Bokeh: all BokehJS libraries loaded\");\n",
       "            run_callbacks()\n",
       "          }\n",
       "        };\n",
       "        s.onerror = function() {\n",
       "          console.warn(\"failed to load library \" + url);\n",
       "        };\n",
       "        console.log(\"Bokeh: injecting script tag for BokehJS library: \", url);\n",
       "        document.getElementsByTagName(\"head\")[0].appendChild(s);\n",
       "      }\n",
       "    };var element = document.getElementById(\"95b919ae-7460-4caa-8d80-eb515513ed47\");\n",
       "    if (element == null) {\n",
       "      console.log(\"Bokeh: ERROR: autoload.js configured with elementid '95b919ae-7460-4caa-8d80-eb515513ed47' but no matching script tag was found. \")\n",
       "      return false;\n",
       "    }\n",
       "  \n",
       "    var js_urls = [];\n",
       "  \n",
       "    var inline_js = [\n",
       "      function(Bokeh) {\n",
       "        (function() {\n",
       "          var fn = function() {\n",
       "            var docs_json = {\"facfbf7b-fb00-41d3-ae0f-eb7699bd9c92\":{\"roots\":{\"references\":[{\"attributes\":{},\"id\":\"bf2d4a2e-4697-47b6-aa84-870f12e9418d\",\"type\":\"BasicTicker\"},{\"attributes\":{\"data_source\":{\"id\":\"9f4dfd39-44fc-49ee-afee-c89de0a76da9\",\"type\":\"ColumnDataSource\"},\"glyph\":{\"id\":\"ef9181a6-3e4c-4392-b617-b4d98e6485a4\",\"type\":\"Circle\"},\"hover_glyph\":null,\"nonselection_glyph\":null,\"selection_glyph\":null},\"id\":\"e08e1bf9-9211-4d47-849f-5b299d03cc20\",\"type\":\"GlyphRenderer\"},{\"attributes\":{\"plot\":{\"id\":\"b992f1e7-8c50-4367-a603-5578e85e4ca8\",\"subtype\":\"Chart\",\"type\":\"Plot\"}},\"id\":\"a8315d03-f4af-4f21-bc9d-6245cdda6b14\",\"type\":\"PanTool\"},{\"attributes\":{\"callback\":null,\"column_names\":[\"x_values\",\"y_values\"],\"data\":{\"chart_index\":[{\"type\":\"Dropoff\"},{\"type\":\"Dropoff\"},{\"type\":\"Dropoff\"},{\"type\":\"Dropoff\"},{\"type\":\"Dropoff\"},{\"type\":\"Dropoff\"},{\"type\":\"Dropoff\"},{\"type\":\"Dropoff\"},{\"type\":\"Dropoff\"},{\"type\":\"Dropoff\"},{\"type\":\"Dropoff\"}],\"type\":[\"Dropoff\",\"Dropoff\",\"Dropoff\",\"Dropoff\",\"Dropoff\",\"Dropoff\",\"Dropoff\",\"Dropoff\",\"Dropoff\",\"Dropoff\",\"Dropoff\"],\"x_values\":{\"__ndarray__\":\"UtLoqOwWQUD62+2A/JJUQP5W0MZuoyNAjvwyUvQyVUDdkNEu7ytLQMCBK9/dmktAw18kkJ2fWED5fQKm1SEzQDxPTD/vlklA1xD6i1NTREDLCwosb/hRQA==\",\"dtype\":\"float64\",\"shape\":[11]},\"y_values\":{\"__ndarray__\":\"uphN/XwsU0Cdpcdnf7ZQQPirs0SeltU/h/xFNLTBVUDs4ziiJltYQJLEsFx5IjNA9hOil02QSUDALMYmHyENQH8Py0wYMEBAADG97NDkQ0Aee5iT4QkNQA==\",\"dtype\":\"float64\",\"shape\":[11]}}},\"id\":\"9f4dfd39-44fc-49ee-afee-c89de0a76da9\",\"type\":\"ColumnDataSource\"},{\"attributes\":{\"label\":{\"value\":\"Dropoff\"},\"renderers\":[{\"id\":\"e08e1bf9-9211-4d47-849f-5b299d03cc20\",\"type\":\"GlyphRenderer\"}]},\"id\":\"2d8bf746-70b2-42ac-aee9-92671282fabf\",\"type\":\"LegendItem\"},{\"attributes\":{},\"id\":\"b1595321-78ea-4715-a762-40ac4504695b\",\"type\":\"BasicTicker\"},{\"attributes\":{\"callback\":null,\"column_names\":[\"x\",\"y\"],\"data\":{\"x\":[42.11381221332526,6.024612583430356,42.55523197755131,98.49399188568263,84.7961621759334],\"y\":[49.1337775271396,31.23317608723334,21.50852980524145,51.127367929591784,87.02662379107106]}},\"id\":\"e0d2c1e1-946b-4e80-aa19-e316c06fd41a\",\"type\":\"ColumnDataSource\"},{\"attributes\":{\"plot\":null,\"text\":null},\"id\":\"be5b2d45-df67-4ff9-881d-284e47b2c1a5\",\"type\":\"Title\"},{\"attributes\":{\"fill_alpha\":{\"value\":0.7},\"fill_color\":{\"value\":\"#5ab738\"},\"line_color\":{\"value\":\"#5ab738\"},\"size\":{\"units\":\"screen\",\"value\":8},\"x\":{\"field\":\"x_values\"},\"y\":{\"field\":\"y_values\"}},\"id\":\"7833deda-775f-4729-9240-185a0bdad926\",\"type\":\"Square\"},{\"attributes\":{\"line_alpha\":{\"value\":0.1},\"line_color\":{\"value\":\"#1f77b4\"},\"line_dash\":[6],\"x\":{\"field\":\"x\"},\"y\":{\"field\":\"y\"}},\"id\":\"2f785bbf-52b2-400b-9f9c-1625c0cd0f7d\",\"type\":\"Line\"},{\"attributes\":{\"bottom_units\":\"screen\",\"fill_alpha\":{\"value\":0.5},\"fill_color\":{\"value\":\"lightgrey\"},\"left_units\":\"screen\",\"level\":\"overlay\",\"line_alpha\":{\"value\":1.0},\"line_color\":{\"value\":\"black\"},\"line_dash\":[4,4],\"line_width\":{\"value\":2},\"plot\":null,\"render_mode\":\"css\",\"right_units\":\"screen\",\"top_units\":\"screen\"},\"id\":\"a6c4d28f-5cf1-4a4d-b35d-b6b70ad7d9c6\",\"type\":\"BoxAnnotation\"},{\"attributes\":{\"dimension\":1,\"plot\":{\"id\":\"b992f1e7-8c50-4367-a603-5578e85e4ca8\",\"subtype\":\"Chart\",\"type\":\"Plot\"},\"ticker\":{\"id\":\"bf2d4a2e-4697-47b6-aa84-870f12e9418d\",\"type\":\"BasicTicker\"}},\"id\":\"f0ea7289-0ce9-46df-a92c-a188900cb5fc\",\"type\":\"Grid\"},{\"attributes\":{\"line_alpha\":{\"value\":0.5},\"line_color\":{\"value\":\"grey\"},\"line_dash\":[6],\"x\":{\"field\":\"x\"},\"y\":{\"field\":\"y\"}},\"id\":\"56ef4c01-ab23-4006-8b6c-973317277965\",\"type\":\"Line\"},{\"attributes\":{\"callback\":null,\"end\":115,\"start\":-15},\"id\":\"ace0f4b8-1d69-4e18-965a-b076ddbd463d\",\"type\":\"Range1d\"},{\"attributes\":{\"items\":[{\"id\":\"c6378914-0816-4f95-bfae-c1da370236bf\",\"type\":\"LegendItem\"},{\"id\":\"5eac6a9a-8624-4eba-960b-ef6aff9fe149\",\"type\":\"LegendItem\"},{\"id\":\"2d8bf746-70b2-42ac-aee9-92671282fabf\",\"type\":\"LegendItem\"}],\"location\":\"top_left\",\"orientation\":\"horizontal\",\"plot\":{\"id\":\"b992f1e7-8c50-4367-a603-5578e85e4ca8\",\"subtype\":\"Chart\",\"type\":\"Plot\"}},\"id\":\"aeac738c-0027-4c06-b34d-90f8253d710f\",\"type\":\"Legend\"},{\"attributes\":{\"plot\":{\"id\":\"b992f1e7-8c50-4367-a603-5578e85e4ca8\",\"subtype\":\"Chart\",\"type\":\"Plot\"}},\"id\":\"0cf8551b-cc2e-4a0f-867d-fb791f6130be\",\"type\":\"WheelZoomTool\"},{\"attributes\":{\"overlay\":{\"id\":\"a6c4d28f-5cf1-4a4d-b35d-b6b70ad7d9c6\",\"type\":\"BoxAnnotation\"},\"plot\":{\"id\":\"b992f1e7-8c50-4367-a603-5578e85e4ca8\",\"subtype\":\"Chart\",\"type\":\"Plot\"}},\"id\":\"5cbbd737-b167-4ebe-b96c-a9efbe8f8cca\",\"type\":\"BoxZoomTool\"},{\"attributes\":{\"plot\":{\"id\":\"b992f1e7-8c50-4367-a603-5578e85e4ca8\",\"subtype\":\"Chart\",\"type\":\"Plot\"},\"ticker\":{\"id\":\"b1595321-78ea-4715-a762-40ac4504695b\",\"type\":\"BasicTicker\"}},\"id\":\"3b59c4a1-4048-4800-b598-981d576a3b69\",\"type\":\"Grid\"},{\"attributes\":{\"plot\":{\"id\":\"b992f1e7-8c50-4367-a603-5578e85e4ca8\",\"subtype\":\"Chart\",\"type\":\"Plot\"}},\"id\":\"f60746fb-2b41-41bd-a13d-d967f24a4cdf\",\"type\":\"SaveTool\"},{\"attributes\":{\"plot\":{\"id\":\"b992f1e7-8c50-4367-a603-5578e85e4ca8\",\"subtype\":\"Chart\",\"type\":\"Plot\"}},\"id\":\"db755a3a-5cdb-4482-9d16-44eac88b5513\",\"type\":\"ResetTool\"},{\"attributes\":{\"plot\":{\"id\":\"b992f1e7-8c50-4367-a603-5578e85e4ca8\",\"subtype\":\"Chart\",\"type\":\"Plot\"}},\"id\":\"4a776286-6a80-40d7-9cae-d542d56d2133\",\"type\":\"HelpTool\"},{\"attributes\":{\"label\":{\"value\":\"Pedicab\"},\"renderers\":[{\"id\":\"7dfd3fce-c23c-45e1-8249-4e9cee6e345e\",\"type\":\"GlyphRenderer\"}]},\"id\":\"c6378914-0816-4f95-bfae-c1da370236bf\",\"type\":\"LegendItem\"},{\"attributes\":{\"callback\":null,\"column_names\":[\"x\",\"y\"],\"data\":{\"x\":[11.057514309173666,7.846650339782624,22.265795881815954,40.650987145521576,55.209895988696644],\"y\":[68.87558392778662,67.43213556945513,94.45977174681988,39.78762587774145,19.134664338260855]}},\"id\":\"5564914c-35c6-4401-a43d-c3b974bf77e9\",\"type\":\"ColumnDataSource\"},{\"attributes\":{\"data_source\":{\"id\":\"a5cc7515-6782-4317-bf8a-71374bdac305\",\"type\":\"ColumnDataSource\"},\"glyph\":{\"id\":\"a7f70190-6f2d-4b75-ae8c-e516365b5442\",\"type\":\"Triangle\"},\"hover_glyph\":null,\"nonselection_glyph\":null,\"selection_glyph\":null},\"id\":\"ede5a443-85f8-43f0-9a45-4af4690d1bb0\",\"type\":\"GlyphRenderer\"},{\"attributes\":{\"data_source\":{\"id\":\"67377d42-096f-4b87-ade0-fe2aafbe811d\",\"type\":\"ColumnDataSource\"},\"glyph\":{\"id\":\"08e7c5b5-fce6-4bd4-ba89-ec9b22c1507c\",\"type\":\"Line\"},\"hover_glyph\":null,\"nonselection_glyph\":{\"id\":\"975c4dde-4e75-4abb-bac3-0c1840795f0f\",\"type\":\"Line\"},\"selection_glyph\":null},\"id\":\"bfd38ff7-f73c-4dfb-afd8-f29e6ce4216a\",\"type\":\"GlyphRenderer\"},{\"attributes\":{\"callback\":null,\"column_names\":[\"x\",\"y\"],\"data\":{\"x\":[83.5308213938024,65.51259935509492,46.92047929785891,51.1791762468915,71.88178540211736],\"y\":[78.1234235601282,91.10739006092449,81.18308840223743,32.375741576338434,3.6298247843655096]}},\"id\":\"355081d6-a4d7-4c14-9d21-0e3f1708c08c\",\"type\":\"ColumnDataSource\"},{\"attributes\":{\"data_source\":{\"id\":\"e0d2c1e1-946b-4e80-aa19-e316c06fd41a\",\"type\":\"ColumnDataSource\"},\"glyph\":{\"id\":\"a28681f5-4998-4f3f-80ed-bd18154d8664\",\"type\":\"Line\"},\"hover_glyph\":null,\"nonselection_glyph\":{\"id\":\"82c5b4ca-1a5a-4644-b50e-b310c02b7251\",\"type\":\"Line\"},\"selection_glyph\":null},\"id\":\"6d7bce9e-1ed5-4dc6-95e3-4d0c0e4b51db\",\"type\":\"GlyphRenderer\"},{\"attributes\":{\"callback\":null,\"column_names\":[\"x\",\"y\"],\"data\":{\"x\":[91.7488344778118,90.11659375522616,79.76060358972966,54.34323678238591,34.179097284014134],\"y\":[49.66805446332053,40.14839361951466,73.88187019689299,97.42423301273055,76.69512875154297]}},\"id\":\"7d6dfb54-b25f-47a0-9f30-b6e0f2168d0c\",\"type\":\"ColumnDataSource\"},{\"attributes\":{\"line_alpha\":{\"value\":0.5},\"line_color\":{\"value\":\"grey\"},\"line_dash\":[6],\"x\":{\"field\":\"x\"},\"y\":{\"field\":\"y\"}},\"id\":\"8cc291da-f115-440f-a852-25c8ba91bc3a\",\"type\":\"Line\"},{\"attributes\":{},\"id\":\"62812b43-168b-4579-923b-4bd390ffe636\",\"type\":\"ToolEvents\"},{\"attributes\":{\"data_source\":{\"id\":\"355081d6-a4d7-4c14-9d21-0e3f1708c08c\",\"type\":\"ColumnDataSource\"},\"glyph\":{\"id\":\"a52e0ed0-36b9-4fab-bd86-0ce04134c63a\",\"type\":\"Line\"},\"hover_glyph\":null,\"nonselection_glyph\":{\"id\":\"1149992c-e1c0-4fd7-974c-34d2517ea20e\",\"type\":\"Line\"},\"selection_glyph\":null},\"id\":\"ef98b016-e694-42e1-93af-6ad78661e37d\",\"type\":\"GlyphRenderer\"},{\"attributes\":{\"line_alpha\":{\"value\":0.5},\"line_color\":{\"value\":\"grey\"},\"line_dash\":[6],\"x\":{\"field\":\"x\"},\"y\":{\"field\":\"y\"}},\"id\":\"465b5580-e04f-4ae6-8376-4c0bf24b98a1\",\"type\":\"Line\"},{\"attributes\":{\"fill_alpha\":{\"value\":0.7},\"fill_color\":{\"value\":\"#407ee7\"},\"line_color\":{\"value\":\"#407ee7\"},\"size\":{\"units\":\"screen\",\"value\":8},\"x\":{\"field\":\"x_values\"},\"y\":{\"field\":\"y_values\"}},\"id\":\"a7f70190-6f2d-4b75-ae8c-e516365b5442\",\"type\":\"Triangle\"},{\"attributes\":{\"callback\":null,\"column_names\":[\"x_values\",\"y_values\"],\"data\":{\"chart_index\":[{\"type\":\"Pickup\"},{\"type\":\"Pickup\"},{\"type\":\"Pickup\"},{\"type\":\"Pickup\"},{\"type\":\"Pickup\"},{\"type\":\"Pickup\"},{\"type\":\"Pickup\"},{\"type\":\"Pickup\"},{\"type\":\"Pickup\"},{\"type\":\"Pickup\"},{\"type\":\"Pickup\"}],\"type\":[\"Pickup\",\"Pickup\",\"Pickup\",\"Pickup\",\"Pickup\",\"Pickup\",\"Pickup\",\"Pickup\",\"Pickup\",\"Pickup\",\"Pickup\"],\"x_values\":{\"__ndarray__\":\"T2enRXaHVkD3qNQgPmJEQIgWI+53TOM/XaNo1xFHRUD7xq26rfBTQPwNgk74Yh9AIp2DCjQZGEBuF1jRFawhQHt5AETSdUdAns/rMgtENkBWhYZtzmBQQA==\",\"dtype\":\"float64\",\"shape\":[11]},\"y_values\":{\"__ndarray__\":\"EWDnj/4SRECwMQi6eRxSQB5FaUiySUBApI1iAi+CNUA9vrGPcHhSQOGP8huo21BAXuCUbbE7P0C5LB07Kd5AQL/4ari3S1RA1g165mydV0CD5Y9638ZWQA==\",\"dtype\":\"float64\",\"shape\":[11]}}},\"id\":\"a5cc7515-6782-4317-bf8a-71374bdac305\",\"type\":\"ColumnDataSource\"},{\"attributes\":{\"line_alpha\":{\"value\":0.5},\"line_color\":{\"value\":\"grey\"},\"line_dash\":[6],\"x\":{\"field\":\"x\"},\"y\":{\"field\":\"y\"}},\"id\":\"08e7c5b5-fce6-4bd4-ba89-ec9b22c1507c\",\"type\":\"Line\"},{\"attributes\":{\"line_alpha\":{\"value\":0.1},\"line_color\":{\"value\":\"#1f77b4\"},\"line_dash\":[6],\"x\":{\"field\":\"x\"},\"y\":{\"field\":\"y\"}},\"id\":\"1149992c-e1c0-4fd7-974c-34d2517ea20e\",\"type\":\"Line\"},{\"attributes\":{\"below\":[{\"id\":\"4bc74851-367f-4d38-8531-3a7785012a59\",\"type\":\"LinearAxis\"}],\"css_classes\":null,\"height\":600,\"left\":[{\"id\":\"162ca87c-563b-42b0-83fb-14fa5e18eb4e\",\"type\":\"LinearAxis\"}],\"renderers\":[{\"id\":\"a6c4d28f-5cf1-4a4d-b35d-b6b70ad7d9c6\",\"type\":\"BoxAnnotation\"},{\"id\":\"7dfd3fce-c23c-45e1-8249-4e9cee6e345e\",\"type\":\"GlyphRenderer\"},{\"id\":\"ede5a443-85f8-43f0-9a45-4af4690d1bb0\",\"type\":\"GlyphRenderer\"},{\"id\":\"e08e1bf9-9211-4d47-849f-5b299d03cc20\",\"type\":\"GlyphRenderer\"},{\"id\":\"aeac738c-0027-4c06-b34d-90f8253d710f\",\"type\":\"Legend\"},{\"id\":\"4bc74851-367f-4d38-8531-3a7785012a59\",\"type\":\"LinearAxis\"},{\"id\":\"162ca87c-563b-42b0-83fb-14fa5e18eb4e\",\"type\":\"LinearAxis\"},{\"id\":\"3b59c4a1-4048-4800-b598-981d576a3b69\",\"type\":\"Grid\"},{\"id\":\"f0ea7289-0ce9-46df-a92c-a188900cb5fc\",\"type\":\"Grid\"},{\"id\":\"13c2272a-4a6f-467b-88ad-cb82dbfc501c\",\"type\":\"GlyphRenderer\"},{\"id\":\"6d7bce9e-1ed5-4dc6-95e3-4d0c0e4b51db\",\"type\":\"GlyphRenderer\"},{\"id\":\"ca2abeef-f271-4863-9e50-1f40b70e6a6f\",\"type\":\"GlyphRenderer\"},{\"id\":\"6e349360-c46d-42f0-aa3d-29a75e329309\",\"type\":\"GlyphRenderer\"},{\"id\":\"ef98b016-e694-42e1-93af-6ad78661e37d\",\"type\":\"GlyphRenderer\"},{\"id\":\"bfd38ff7-f73c-4dfb-afd8-f29e6ce4216a\",\"type\":\"GlyphRenderer\"}],\"title\":{\"id\":\"be5b2d45-df67-4ff9-881d-284e47b2c1a5\",\"type\":\"Title\"},\"tool_events\":{\"id\":\"62812b43-168b-4579-923b-4bd390ffe636\",\"type\":\"ToolEvents\"},\"toolbar\":{\"id\":\"b2613240-29e3-4cbb-82b5-46f4c9e61c6a\",\"type\":\"Toolbar\"},\"width\":600,\"x_mapper_type\":\"auto\",\"x_range\":{\"id\":\"ace0f4b8-1d69-4e18-965a-b076ddbd463d\",\"type\":\"Range1d\"},\"y_mapper_type\":\"auto\",\"y_range\":{\"id\":\"ace0f4b8-1d69-4e18-965a-b076ddbd463d\",\"type\":\"Range1d\"}},\"id\":\"b992f1e7-8c50-4367-a603-5578e85e4ca8\",\"subtype\":\"Chart\",\"type\":\"Plot\"},{\"attributes\":{\"data_source\":{\"id\":\"a914aec1-5905-408e-87c6-2d31db37e937\",\"type\":\"ColumnDataSource\"},\"glyph\":{\"id\":\"7833deda-775f-4729-9240-185a0bdad926\",\"type\":\"Square\"},\"hover_glyph\":null,\"nonselection_glyph\":null,\"selection_glyph\":null},\"id\":\"7dfd3fce-c23c-45e1-8249-4e9cee6e345e\",\"type\":\"GlyphRenderer\"},{\"attributes\":{\"active_drag\":\"auto\",\"active_scroll\":\"auto\",\"active_tap\":\"auto\",\"tools\":[{\"id\":\"a8315d03-f4af-4f21-bc9d-6245cdda6b14\",\"type\":\"PanTool\"},{\"id\":\"0cf8551b-cc2e-4a0f-867d-fb791f6130be\",\"type\":\"WheelZoomTool\"},{\"id\":\"5cbbd737-b167-4ebe-b96c-a9efbe8f8cca\",\"type\":\"BoxZoomTool\"},{\"id\":\"f60746fb-2b41-41bd-a13d-d967f24a4cdf\",\"type\":\"SaveTool\"},{\"id\":\"db755a3a-5cdb-4482-9d16-44eac88b5513\",\"type\":\"ResetTool\"},{\"id\":\"4a776286-6a80-40d7-9cae-d542d56d2133\",\"type\":\"HelpTool\"}]},\"id\":\"b2613240-29e3-4cbb-82b5-46f4c9e61c6a\",\"type\":\"Toolbar\"},{\"attributes\":{\"line_alpha\":{\"value\":0.5},\"line_color\":{\"value\":\"grey\"},\"line_dash\":[6],\"x\":{\"field\":\"x\"},\"y\":{\"field\":\"y\"}},\"id\":\"a52e0ed0-36b9-4fab-bd86-0ce04134c63a\",\"type\":\"Line\"},{\"attributes\":{},\"id\":\"82230580-0282-47f4-b883-5873a3adda64\",\"type\":\"BasicTickFormatter\"},{\"attributes\":{\"callback\":null,\"column_names\":[\"x\",\"y\"],\"data\":{\"x\":[36.69434873456723,40.767521003568554,82.29666159847685],\"y\":[74.95537606205866,72.4449296073933,66.85152620789309]}},\"id\":\"67377d42-096f-4b87-ade0-fe2aafbe811d\",\"type\":\"ColumnDataSource\"},{\"attributes\":{},\"id\":\"aca05b9a-50f2-4ea5-b757-334f80fcab35\",\"type\":\"BasicTickFormatter\"},{\"attributes\":{\"callback\":null,\"column_names\":[\"x\",\"y\"],\"data\":{\"x\":[43.78861697362141,8.836103956225738,0.6030845309366706,9.819204533512217,19.132166267021578],\"y\":[58.92719500386241,33.735633267636736,32.575753260995256,0.33731800755657515,3.641172697947326]}},\"id\":\"044ede87-6062-4b7f-b06d-b733f6a9066b\",\"type\":\"ColumnDataSource\"},{\"attributes\":{\"axis_label\":\"y\",\"formatter\":{\"id\":\"82230580-0282-47f4-b883-5873a3adda64\",\"type\":\"BasicTickFormatter\"},\"plot\":{\"id\":\"b992f1e7-8c50-4367-a603-5578e85e4ca8\",\"subtype\":\"Chart\",\"type\":\"Plot\"},\"ticker\":{\"id\":\"bf2d4a2e-4697-47b6-aa84-870f12e9418d\",\"type\":\"BasicTicker\"}},\"id\":\"162ca87c-563b-42b0-83fb-14fa5e18eb4e\",\"type\":\"LinearAxis\"},{\"attributes\":{\"data_source\":{\"id\":\"7d6dfb54-b25f-47a0-9f30-b6e0f2168d0c\",\"type\":\"ColumnDataSource\"},\"glyph\":{\"id\":\"8cc291da-f115-440f-a852-25c8ba91bc3a\",\"type\":\"Line\"},\"hover_glyph\":null,\"nonselection_glyph\":{\"id\":\"ba06ce49-4c7e-42d7-b560-3bb5e473f918\",\"type\":\"Line\"},\"selection_glyph\":null},\"id\":\"ca2abeef-f271-4863-9e50-1f40b70e6a6f\",\"type\":\"GlyphRenderer\"},{\"attributes\":{\"axis_label\":\"x\",\"formatter\":{\"id\":\"aca05b9a-50f2-4ea5-b757-334f80fcab35\",\"type\":\"BasicTickFormatter\"},\"plot\":{\"id\":\"b992f1e7-8c50-4367-a603-5578e85e4ca8\",\"subtype\":\"Chart\",\"type\":\"Plot\"},\"ticker\":{\"id\":\"b1595321-78ea-4715-a762-40ac4504695b\",\"type\":\"BasicTicker\"}},\"id\":\"4bc74851-367f-4d38-8531-3a7785012a59\",\"type\":\"LinearAxis\"},{\"attributes\":{\"data_source\":{\"id\":\"044ede87-6062-4b7f-b06d-b733f6a9066b\",\"type\":\"ColumnDataSource\"},\"glyph\":{\"id\":\"465b5580-e04f-4ae6-8376-4c0bf24b98a1\",\"type\":\"Line\"},\"hover_glyph\":null,\"nonselection_glyph\":{\"id\":\"712076e0-940d-4129-871a-5d3546d42c9f\",\"type\":\"Line\"},\"selection_glyph\":null},\"id\":\"6e349360-c46d-42f0-aa3d-29a75e329309\",\"type\":\"GlyphRenderer\"},{\"attributes\":{\"line_alpha\":{\"value\":0.1},\"line_color\":{\"value\":\"#1f77b4\"},\"line_dash\":[6],\"x\":{\"field\":\"x\"},\"y\":{\"field\":\"y\"}},\"id\":\"82c5b4ca-1a5a-4644-b50e-b310c02b7251\",\"type\":\"Line\"},{\"attributes\":{\"data_source\":{\"id\":\"5564914c-35c6-4401-a43d-c3b974bf77e9\",\"type\":\"ColumnDataSource\"},\"glyph\":{\"id\":\"56ef4c01-ab23-4006-8b6c-973317277965\",\"type\":\"Line\"},\"hover_glyph\":null,\"nonselection_glyph\":{\"id\":\"2f785bbf-52b2-400b-9f9c-1625c0cd0f7d\",\"type\":\"Line\"},\"selection_glyph\":null},\"id\":\"13c2272a-4a6f-467b-88ad-cb82dbfc501c\",\"type\":\"GlyphRenderer\"},{\"attributes\":{\"line_alpha\":{\"value\":0.1},\"line_color\":{\"value\":\"#1f77b4\"},\"line_dash\":[6],\"x\":{\"field\":\"x\"},\"y\":{\"field\":\"y\"}},\"id\":\"ba06ce49-4c7e-42d7-b560-3bb5e473f918\",\"type\":\"Line\"},{\"attributes\":{\"line_alpha\":{\"value\":0.1},\"line_color\":{\"value\":\"#1f77b4\"},\"line_dash\":[6],\"x\":{\"field\":\"x\"},\"y\":{\"field\":\"y\"}},\"id\":\"712076e0-940d-4129-871a-5d3546d42c9f\",\"type\":\"Line\"},{\"attributes\":{\"callback\":null,\"column_names\":[\"x_values\",\"y_values\"],\"data\":{\"chart_index\":[{\"type\":\"Pedicab\"},{\"type\":\"Pedicab\"},{\"type\":\"Pedicab\"},{\"type\":\"Pedicab\"},{\"type\":\"Pedicab\"},{\"type\":\"Pedicab\"},{\"type\":\"Pedicab\"}],\"type\":[\"Pedicab\",\"Pedicab\",\"Pedicab\",\"Pedicab\",\"Pedicab\",\"Pedicab\",\"Pedicab\"],\"x_values\":{\"__ndarray__\":\"5uf5g3IdJkAGDwtmkQ5FQGkUcufs71ZAIWOnZvHkRUCAmUv6+OFUQLQlDseFRlNAHH5Za+BYQkA=\",\"dtype\":\"float64\",\"shape\":[7]},\"y_values\":{\"__ndarray__\":\"y68rkQk4UUCOADyfH5FIQEr0A8+C1UhARE1tU652TUCek+4r5odTQJXgjCP4JCdAFnuj4SS9UkA=\",\"dtype\":\"float64\",\"shape\":[7]}}},\"id\":\"a914aec1-5905-408e-87c6-2d31db37e937\",\"type\":\"ColumnDataSource\"},{\"attributes\":{\"line_alpha\":{\"value\":0.5},\"line_color\":{\"value\":\"grey\"},\"line_dash\":[6],\"x\":{\"field\":\"x\"},\"y\":{\"field\":\"y\"}},\"id\":\"a28681f5-4998-4f3f-80ed-bd18154d8664\",\"type\":\"Line\"},{\"attributes\":{\"line_alpha\":{\"value\":0.1},\"line_color\":{\"value\":\"#1f77b4\"},\"line_dash\":[6],\"x\":{\"field\":\"x\"},\"y\":{\"field\":\"y\"}},\"id\":\"975c4dde-4e75-4abb-bac3-0c1840795f0f\",\"type\":\"Line\"},{\"attributes\":{\"label\":{\"value\":\"Pickup\"},\"renderers\":[{\"id\":\"ede5a443-85f8-43f0-9a45-4af4690d1bb0\",\"type\":\"GlyphRenderer\"}]},\"id\":\"5eac6a9a-8624-4eba-960b-ef6aff9fe149\",\"type\":\"LegendItem\"},{\"attributes\":{\"fill_alpha\":{\"value\":0.7},\"fill_color\":{\"value\":\"#f22c40\"},\"line_color\":{\"value\":\"#f22c40\"},\"size\":{\"units\":\"screen\",\"value\":8},\"x\":{\"field\":\"x_values\"},\"y\":{\"field\":\"y_values\"}},\"id\":\"ef9181a6-3e4c-4392-b617-b4d98e6485a4\",\"type\":\"Circle\"}],\"root_ids\":[\"b992f1e7-8c50-4367-a603-5578e85e4ca8\"]},\"title\":\"Bokeh Application\",\"version\":\"0.12.4\"}};\n",
       "            var render_items = [{\"docid\":\"facfbf7b-fb00-41d3-ae0f-eb7699bd9c92\",\"elementid\":\"95b919ae-7460-4caa-8d80-eb515513ed47\",\"modelid\":\"b992f1e7-8c50-4367-a603-5578e85e4ca8\"}];\n",
       "            \n",
       "            Bokeh.embed.embed_items(docs_json, render_items);\n",
       "          };\n",
       "          if (document.readyState != \"loading\") fn();\n",
       "          else document.addEventListener(\"DOMContentLoaded\", fn);\n",
       "        })();\n",
       "      },\n",
       "      function(Bokeh) {\n",
       "      }\n",
       "    ];\n",
       "  \n",
       "    function run_inline_js() {\n",
       "      \n",
       "      if ((window.Bokeh !== undefined) || (force === true)) {\n",
       "        for (var i = 0; i < inline_js.length; i++) {\n",
       "          inline_js[i](window.Bokeh);\n",
       "        }if (force === true) {\n",
       "          display_loaded();\n",
       "        }} else if (Date.now() < window._bokeh_timeout) {\n",
       "        setTimeout(run_inline_js, 100);\n",
       "      } else if (!window._bokeh_failed_load) {\n",
       "        console.log(\"Bokeh: BokehJS failed to load within specified timeout.\");\n",
       "        window._bokeh_failed_load = true;\n",
       "      } else if (force !== true) {\n",
       "        var cell = $(document.getElementById(\"95b919ae-7460-4caa-8d80-eb515513ed47\")).parents('.cell').data().cell;\n",
       "        cell.output_area.append_execute_result(NB_LOAD_WARNING)\n",
       "      }\n",
       "  \n",
       "    }\n",
       "  \n",
       "    if (window._bokeh_is_loading === 0) {\n",
       "      console.log(\"Bokeh: BokehJS loaded, going straight to plotting\");\n",
       "      run_inline_js();\n",
       "    } else {\n",
       "      load_libs(js_urls, function() {\n",
       "        console.log(\"Bokeh: BokehJS plotting callback run at\", now());\n",
       "        run_inline_js();\n",
       "      });\n",
       "    }\n",
       "  }(this));\n",
       "</script>"
      ]
     },
     "metadata": {},
     "output_type": "display_data"
    }
   ],
   "source": [
    "plot_routes()"
   ]
  },
  {
   "cell_type": "code",
   "execution_count": 53,
   "metadata": {
    "collapsed": false
   },
   "outputs": [
    {
     "name": "stdout",
     "output_type": "stream",
     "text": [
      "total cost: 875.03075\n",
      "max route length: 132.5626\n"
     ]
    }
   ],
   "source": [
    "z2 = pulp.LpVariable('z2', lowBound=0)\n",
    "for r in range(len(routes)):\n",
    "    prm += z2 >= route_costs[r] * x[r]\n",
    "\n",
    "prm.setObjective(z2)\n",
    "assert prm.solve() == pulp.LpStatusOptimal\n",
    "\n",
    "print('total cost:', z.value())\n",
    "print('max route length:', z2.value())"
   ]
  },
  {
   "cell_type": "code",
   "execution_count": 54,
   "metadata": {
    "collapsed": false
   },
   "outputs": [
    {
     "data": {
      "text/html": [
       "\n",
       "\n",
       "    <div class=\"bk-root\">\n",
       "        <div class=\"bk-plotdiv\" id=\"2c087963-2034-44ee-91a6-652bbdfd9f3d\"></div>\n",
       "    </div>\n",
       "<script type=\"text/javascript\">\n",
       "  \n",
       "  (function(global) {\n",
       "    function now() {\n",
       "      return new Date();\n",
       "    }\n",
       "  \n",
       "    var force = false;\n",
       "  \n",
       "    if (typeof (window._bokeh_onload_callbacks) === \"undefined\" || force === true) {\n",
       "      window._bokeh_onload_callbacks = [];\n",
       "      window._bokeh_is_loading = undefined;\n",
       "    }\n",
       "  \n",
       "  \n",
       "    \n",
       "    if (typeof (window._bokeh_timeout) === \"undefined\" || force === true) {\n",
       "      window._bokeh_timeout = Date.now() + 0;\n",
       "      window._bokeh_failed_load = false;\n",
       "    }\n",
       "  \n",
       "    var NB_LOAD_WARNING = {'data': {'text/html':\n",
       "       \"<div style='background-color: #fdd'>\\n\"+\n",
       "       \"<p>\\n\"+\n",
       "       \"BokehJS does not appear to have successfully loaded. If loading BokehJS from CDN, this \\n\"+\n",
       "       \"may be due to a slow or bad network connection. Possible fixes:\\n\"+\n",
       "       \"</p>\\n\"+\n",
       "       \"<ul>\\n\"+\n",
       "       \"<li>re-rerun `output_notebook()` to attempt to load from CDN again, or</li>\\n\"+\n",
       "       \"<li>use INLINE resources instead, as so:</li>\\n\"+\n",
       "       \"</ul>\\n\"+\n",
       "       \"<code>\\n\"+\n",
       "       \"from bokeh.resources import INLINE\\n\"+\n",
       "       \"output_notebook(resources=INLINE)\\n\"+\n",
       "       \"</code>\\n\"+\n",
       "       \"</div>\"}};\n",
       "  \n",
       "    function display_loaded() {\n",
       "      if (window.Bokeh !== undefined) {\n",
       "        document.getElementById(\"2c087963-2034-44ee-91a6-652bbdfd9f3d\").textContent = \"BokehJS successfully loaded.\";\n",
       "      } else if (Date.now() < window._bokeh_timeout) {\n",
       "        setTimeout(display_loaded, 100)\n",
       "      }\n",
       "    }\n",
       "  \n",
       "    function run_callbacks() {\n",
       "      window._bokeh_onload_callbacks.forEach(function(callback) { callback() });\n",
       "      delete window._bokeh_onload_callbacks\n",
       "      console.info(\"Bokeh: all callbacks have finished\");\n",
       "    }\n",
       "  \n",
       "    function load_libs(js_urls, callback) {\n",
       "      window._bokeh_onload_callbacks.push(callback);\n",
       "      if (window._bokeh_is_loading > 0) {\n",
       "        console.log(\"Bokeh: BokehJS is being loaded, scheduling callback at\", now());\n",
       "        return null;\n",
       "      }\n",
       "      if (js_urls == null || js_urls.length === 0) {\n",
       "        run_callbacks();\n",
       "        return null;\n",
       "      }\n",
       "      console.log(\"Bokeh: BokehJS not loaded, scheduling load and callback at\", now());\n",
       "      window._bokeh_is_loading = js_urls.length;\n",
       "      for (var i = 0; i < js_urls.length; i++) {\n",
       "        var url = js_urls[i];\n",
       "        var s = document.createElement('script');\n",
       "        s.src = url;\n",
       "        s.async = false;\n",
       "        s.onreadystatechange = s.onload = function() {\n",
       "          window._bokeh_is_loading--;\n",
       "          if (window._bokeh_is_loading === 0) {\n",
       "            console.log(\"Bokeh: all BokehJS libraries loaded\");\n",
       "            run_callbacks()\n",
       "          }\n",
       "        };\n",
       "        s.onerror = function() {\n",
       "          console.warn(\"failed to load library \" + url);\n",
       "        };\n",
       "        console.log(\"Bokeh: injecting script tag for BokehJS library: \", url);\n",
       "        document.getElementsByTagName(\"head\")[0].appendChild(s);\n",
       "      }\n",
       "    };var element = document.getElementById(\"2c087963-2034-44ee-91a6-652bbdfd9f3d\");\n",
       "    if (element == null) {\n",
       "      console.log(\"Bokeh: ERROR: autoload.js configured with elementid '2c087963-2034-44ee-91a6-652bbdfd9f3d' but no matching script tag was found. \")\n",
       "      return false;\n",
       "    }\n",
       "  \n",
       "    var js_urls = [];\n",
       "  \n",
       "    var inline_js = [\n",
       "      function(Bokeh) {\n",
       "        (function() {\n",
       "          var fn = function() {\n",
       "            var docs_json = {\"57ff348c-4fc0-4a84-8393-4e8611fc4db7\":{\"roots\":{\"references\":[{\"attributes\":{\"plot\":{\"id\":\"eb4d14a0-c639-4cf3-9726-5c4ada4e2d43\",\"subtype\":\"Chart\",\"type\":\"Plot\"}},\"id\":\"372e47ad-c548-447e-a34e-e86d93f52adc\",\"type\":\"HelpTool\"},{\"attributes\":{\"overlay\":{\"id\":\"78aa8aba-dc4e-46fd-ac25-4a3ea0cc0f51\",\"type\":\"BoxAnnotation\"},\"plot\":{\"id\":\"eb4d14a0-c639-4cf3-9726-5c4ada4e2d43\",\"subtype\":\"Chart\",\"type\":\"Plot\"}},\"id\":\"95d6c445-ed7c-4441-9023-d2efafa70033\",\"type\":\"BoxZoomTool\"},{\"attributes\":{\"plot\":null,\"text\":null},\"id\":\"b793cd30-2304-4268-88a8-b90def26eb51\",\"type\":\"Title\"},{\"attributes\":{\"plot\":{\"id\":\"eb4d14a0-c639-4cf3-9726-5c4ada4e2d43\",\"subtype\":\"Chart\",\"type\":\"Plot\"}},\"id\":\"314d49b7-449d-4114-8723-f8d3304bad6a\",\"type\":\"ResetTool\"},{\"attributes\":{\"plot\":{\"id\":\"eb4d14a0-c639-4cf3-9726-5c4ada4e2d43\",\"subtype\":\"Chart\",\"type\":\"Plot\"}},\"id\":\"82e56c01-8314-4e6e-8456-1335675bc518\",\"type\":\"SaveTool\"},{\"attributes\":{\"plot\":{\"id\":\"eb4d14a0-c639-4cf3-9726-5c4ada4e2d43\",\"subtype\":\"Chart\",\"type\":\"Plot\"}},\"id\":\"0f34f2d3-3e4d-4199-801c-be30751ddd87\",\"type\":\"WheelZoomTool\"},{\"attributes\":{},\"id\":\"373839e0-8cff-4928-b16e-1f8f5e7bd875\",\"type\":\"BasicTicker\"},{\"attributes\":{\"line_alpha\":{\"value\":0.5},\"line_color\":{\"value\":\"grey\"},\"line_dash\":[6],\"x\":{\"field\":\"x\"},\"y\":{\"field\":\"y\"}},\"id\":\"a227966c-15cc-48d1-bae3-2c6bb1dc4088\",\"type\":\"Line\"},{\"attributes\":{\"bottom_units\":\"screen\",\"fill_alpha\":{\"value\":0.5},\"fill_color\":{\"value\":\"lightgrey\"},\"left_units\":\"screen\",\"level\":\"overlay\",\"line_alpha\":{\"value\":1.0},\"line_color\":{\"value\":\"black\"},\"line_dash\":[4,4],\"line_width\":{\"value\":2},\"plot\":null,\"render_mode\":\"css\",\"right_units\":\"screen\",\"top_units\":\"screen\"},\"id\":\"78aa8aba-dc4e-46fd-ac25-4a3ea0cc0f51\",\"type\":\"BoxAnnotation\"},{\"attributes\":{\"plot\":{\"id\":\"eb4d14a0-c639-4cf3-9726-5c4ada4e2d43\",\"subtype\":\"Chart\",\"type\":\"Plot\"},\"ticker\":{\"id\":\"373839e0-8cff-4928-b16e-1f8f5e7bd875\",\"type\":\"BasicTicker\"}},\"id\":\"27440237-f7fa-48a2-a6b1-2d48ea7b12fd\",\"type\":\"Grid\"},{\"attributes\":{\"callback\":null,\"column_names\":[\"x\",\"y\"],\"data\":{\"x\":[11.057514309173666,6.024612583430356,98.49399188568263],\"y\":[68.87558392778662,31.23317608723334,51.127367929591784]}},\"id\":\"48ebf492-0832-4197-8445-4e8cd3e18fdf\",\"type\":\"ColumnDataSource\"},{\"attributes\":{\"below\":[{\"id\":\"6916aa9d-8c52-4ae3-8eca-9fbdb1a92d9a\",\"type\":\"LinearAxis\"}],\"css_classes\":null,\"height\":600,\"left\":[{\"id\":\"2f7b6e6c-941c-4345-9bf5-7d3480296804\",\"type\":\"LinearAxis\"}],\"renderers\":[{\"id\":\"78aa8aba-dc4e-46fd-ac25-4a3ea0cc0f51\",\"type\":\"BoxAnnotation\"},{\"id\":\"a0a45757-94b1-4045-bbcb-f4f950295177\",\"type\":\"GlyphRenderer\"},{\"id\":\"cb957447-79ec-4855-9d22-ab3c26a958fb\",\"type\":\"GlyphRenderer\"},{\"id\":\"fe30e7fc-6637-4ec9-af1b-75fa6c83cc7c\",\"type\":\"GlyphRenderer\"},{\"id\":\"763ec67e-604b-4ef2-9fc7-6960f25aa260\",\"type\":\"Legend\"},{\"id\":\"6916aa9d-8c52-4ae3-8eca-9fbdb1a92d9a\",\"type\":\"LinearAxis\"},{\"id\":\"2f7b6e6c-941c-4345-9bf5-7d3480296804\",\"type\":\"LinearAxis\"},{\"id\":\"27440237-f7fa-48a2-a6b1-2d48ea7b12fd\",\"type\":\"Grid\"},{\"id\":\"413f826c-c80b-4949-b253-0194905f386f\",\"type\":\"Grid\"},{\"id\":\"b16a8fe2-a815-48df-aed2-8a36ee57ac71\",\"type\":\"GlyphRenderer\"},{\"id\":\"94ac1017-b379-445a-8268-16ff142e2ca1\",\"type\":\"GlyphRenderer\"},{\"id\":\"87242151-63b7-406a-a556-b855886f3d03\",\"type\":\"GlyphRenderer\"},{\"id\":\"31508230-acf4-4eee-adcb-b51585b1c9f2\",\"type\":\"GlyphRenderer\"},{\"id\":\"83ff51e4-034e-4a8b-ba79-fdee55bacb53\",\"type\":\"GlyphRenderer\"},{\"id\":\"619204e1-ddf6-4ff4-900a-c9e6d23e612c\",\"type\":\"GlyphRenderer\"},{\"id\":\"b7b1d7f1-ee48-45e8-9825-25ed1dc30dd7\",\"type\":\"GlyphRenderer\"}],\"title\":{\"id\":\"b793cd30-2304-4268-88a8-b90def26eb51\",\"type\":\"Title\"},\"tool_events\":{\"id\":\"fc37f5b0-65d7-4896-8a09-99898e765d3a\",\"type\":\"ToolEvents\"},\"toolbar\":{\"id\":\"0ffd99bf-fb0b-4239-b2c6-55977453f6b4\",\"type\":\"Toolbar\"},\"width\":600,\"x_mapper_type\":\"auto\",\"x_range\":{\"id\":\"9c79adde-0bd2-45bc-b38d-faed5e398434\",\"type\":\"Range1d\"},\"y_mapper_type\":\"auto\",\"y_range\":{\"id\":\"9c79adde-0bd2-45bc-b38d-faed5e398434\",\"type\":\"Range1d\"}},\"id\":\"eb4d14a0-c639-4cf3-9726-5c4ada4e2d43\",\"subtype\":\"Chart\",\"type\":\"Plot\"},{\"attributes\":{\"label\":{\"value\":\"Dropoff\"},\"renderers\":[{\"id\":\"fe30e7fc-6637-4ec9-af1b-75fa6c83cc7c\",\"type\":\"GlyphRenderer\"}]},\"id\":\"3d955d7c-4530-4437-951c-b1ad0e4e6c52\",\"type\":\"LegendItem\"},{\"attributes\":{\"fill_alpha\":{\"value\":0.7},\"fill_color\":{\"value\":\"#f22c40\"},\"line_color\":{\"value\":\"#f22c40\"},\"size\":{\"units\":\"screen\",\"value\":8},\"x\":{\"field\":\"x_values\"},\"y\":{\"field\":\"y_values\"}},\"id\":\"43addd3d-004b-4044-b8df-454be1b13777\",\"type\":\"Circle\"},{\"attributes\":{},\"id\":\"cfb8416e-50db-439b-ace0-ecf3d51ade1d\",\"type\":\"BasicTicker\"},{\"attributes\":{\"callback\":null,\"column_names\":[\"x\",\"y\"],\"data\":{\"x\":[43.78861697362141,65.51259935509492,71.88178540211736],\"y\":[58.92719500386241,91.10739006092449,3.6298247843655096]}},\"id\":\"0ce17303-e6cd-43f7-9b61-0fe4879af6ce\",\"type\":\"ColumnDataSource\"},{\"attributes\":{\"fill_alpha\":{\"value\":0.7},\"fill_color\":{\"value\":\"#5ab738\"},\"line_color\":{\"value\":\"#5ab738\"},\"size\":{\"units\":\"screen\",\"value\":8},\"x\":{\"field\":\"x_values\"},\"y\":{\"field\":\"y_values\"}},\"id\":\"291b7861-ca53-434e-bae8-1511554a0f64\",\"type\":\"Square\"},{\"attributes\":{\"line_alpha\":{\"value\":0.1},\"line_color\":{\"value\":\"#1f77b4\"},\"line_dash\":[6],\"x\":{\"field\":\"x\"},\"y\":{\"field\":\"y\"}},\"id\":\"88c4d3b1-663b-4e6f-bf58-3f7b15cce55c\",\"type\":\"Line\"},{\"attributes\":{\"line_alpha\":{\"value\":0.5},\"line_color\":{\"value\":\"grey\"},\"line_dash\":[6],\"x\":{\"field\":\"x\"},\"y\":{\"field\":\"y\"}},\"id\":\"cfe8bef2-7c11-468c-aae2-a26b0a9b593e\",\"type\":\"Line\"},{\"attributes\":{\"data_source\":{\"id\":\"0ce17303-e6cd-43f7-9b61-0fe4879af6ce\",\"type\":\"ColumnDataSource\"},\"glyph\":{\"id\":\"cfe8bef2-7c11-468c-aae2-a26b0a9b593e\",\"type\":\"Line\"},\"hover_glyph\":null,\"nonselection_glyph\":{\"id\":\"889d86e3-67dd-4ea2-9e9d-3b37abbd54b1\",\"type\":\"Line\"},\"selection_glyph\":null},\"id\":\"31508230-acf4-4eee-adcb-b51585b1c9f2\",\"type\":\"GlyphRenderer\"},{\"attributes\":{\"axis_label\":\"y\",\"formatter\":{\"id\":\"3a19aa69-a3d6-44d7-a4ee-9cff6fafbd00\",\"type\":\"BasicTickFormatter\"},\"plot\":{\"id\":\"eb4d14a0-c639-4cf3-9726-5c4ada4e2d43\",\"subtype\":\"Chart\",\"type\":\"Plot\"},\"ticker\":{\"id\":\"cfb8416e-50db-439b-ace0-ecf3d51ade1d\",\"type\":\"BasicTicker\"}},\"id\":\"2f7b6e6c-941c-4345-9bf5-7d3480296804\",\"type\":\"LinearAxis\"},{\"attributes\":{\"data_source\":{\"id\":\"85ed5184-64e0-4a1f-8150-f7053ae33c85\",\"type\":\"ColumnDataSource\"},\"glyph\":{\"id\":\"291b7861-ca53-434e-bae8-1511554a0f64\",\"type\":\"Square\"},\"hover_glyph\":null,\"nonselection_glyph\":null,\"selection_glyph\":null},\"id\":\"a0a45757-94b1-4045-bbcb-f4f950295177\",\"type\":\"GlyphRenderer\"},{\"attributes\":{\"line_alpha\":{\"value\":0.1},\"line_color\":{\"value\":\"#1f77b4\"},\"line_dash\":[6],\"x\":{\"field\":\"x\"},\"y\":{\"field\":\"y\"}},\"id\":\"889d86e3-67dd-4ea2-9e9d-3b37abbd54b1\",\"type\":\"Line\"},{\"attributes\":{\"callback\":null,\"end\":115,\"start\":-15},\"id\":\"9c79adde-0bd2-45bc-b38d-faed5e398434\",\"type\":\"Range1d\"},{\"attributes\":{},\"id\":\"fc37f5b0-65d7-4896-8a09-99898e765d3a\",\"type\":\"ToolEvents\"},{\"attributes\":{\"callback\":null,\"column_names\":[\"x\",\"y\"],\"data\":{\"x\":[91.7488344778118,90.11659375522616,34.179097284014134,40.767521003568554,82.29666159847685],\"y\":[49.66805446332053,40.14839361951466,76.69512875154297,72.4449296073933,66.85152620789309]}},\"id\":\"751ed786-3b93-4c8e-a3d6-c669d6385883\",\"type\":\"ColumnDataSource\"},{\"attributes\":{\"fill_alpha\":{\"value\":0.7},\"fill_color\":{\"value\":\"#407ee7\"},\"line_color\":{\"value\":\"#407ee7\"},\"size\":{\"units\":\"screen\",\"value\":8},\"x\":{\"field\":\"x_values\"},\"y\":{\"field\":\"y_values\"}},\"id\":\"8a6d3d35-296f-4759-b7a5-8cb651eaece4\",\"type\":\"Triangle\"},{\"attributes\":{\"dimension\":1,\"plot\":{\"id\":\"eb4d14a0-c639-4cf3-9726-5c4ada4e2d43\",\"subtype\":\"Chart\",\"type\":\"Plot\"},\"ticker\":{\"id\":\"cfb8416e-50db-439b-ace0-ecf3d51ade1d\",\"type\":\"BasicTicker\"}},\"id\":\"413f826c-c80b-4949-b253-0194905f386f\",\"type\":\"Grid\"},{\"attributes\":{},\"id\":\"3a19aa69-a3d6-44d7-a4ee-9cff6fafbd00\",\"type\":\"BasicTickFormatter\"},{\"attributes\":{\"line_alpha\":{\"value\":0.5},\"line_color\":{\"value\":\"grey\"},\"line_dash\":[6],\"x\":{\"field\":\"x\"},\"y\":{\"field\":\"y\"}},\"id\":\"cc088156-2ea7-421e-a8da-05989ec6cc01\",\"type\":\"Line\"},{\"attributes\":{\"data_source\":{\"id\":\"7abfd1b4-7ed4-4b11-a6d2-15cbc2d25819\",\"type\":\"ColumnDataSource\"},\"glyph\":{\"id\":\"8a6d3d35-296f-4759-b7a5-8cb651eaece4\",\"type\":\"Triangle\"},\"hover_glyph\":null,\"nonselection_glyph\":null,\"selection_glyph\":null},\"id\":\"cb957447-79ec-4855-9d22-ab3c26a958fb\",\"type\":\"GlyphRenderer\"},{\"attributes\":{\"callback\":null,\"column_names\":[\"x_values\",\"y_values\"],\"data\":{\"chart_index\":[{\"type\":\"Dropoff\"},{\"type\":\"Dropoff\"},{\"type\":\"Dropoff\"},{\"type\":\"Dropoff\"},{\"type\":\"Dropoff\"},{\"type\":\"Dropoff\"},{\"type\":\"Dropoff\"},{\"type\":\"Dropoff\"},{\"type\":\"Dropoff\"},{\"type\":\"Dropoff\"},{\"type\":\"Dropoff\"}],\"type\":[\"Dropoff\",\"Dropoff\",\"Dropoff\",\"Dropoff\",\"Dropoff\",\"Dropoff\",\"Dropoff\",\"Dropoff\",\"Dropoff\",\"Dropoff\",\"Dropoff\"],\"x_values\":{\"__ndarray__\":\"UtLoqOwWQUD62+2A/JJUQP5W0MZuoyNAjvwyUvQyVUDdkNEu7ytLQMCBK9/dmktAw18kkJ2fWED5fQKm1SEzQDxPTD/vlklA1xD6i1NTREDLCwosb/hRQA==\",\"dtype\":\"float64\",\"shape\":[11]},\"y_values\":{\"__ndarray__\":\"uphN/XwsU0Cdpcdnf7ZQQPirs0SeltU/h/xFNLTBVUDs4ziiJltYQJLEsFx5IjNA9hOil02QSUDALMYmHyENQH8Py0wYMEBAADG97NDkQ0Aee5iT4QkNQA==\",\"dtype\":\"float64\",\"shape\":[11]}}},\"id\":\"f93fec68-d692-4a6c-81fe-7a57f7f73985\",\"type\":\"ColumnDataSource\"},{\"attributes\":{\"data_source\":{\"id\":\"f93fec68-d692-4a6c-81fe-7a57f7f73985\",\"type\":\"ColumnDataSource\"},\"glyph\":{\"id\":\"43addd3d-004b-4044-b8df-454be1b13777\",\"type\":\"Circle\"},\"hover_glyph\":null,\"nonselection_glyph\":null,\"selection_glyph\":null},\"id\":\"fe30e7fc-6637-4ec9-af1b-75fa6c83cc7c\",\"type\":\"GlyphRenderer\"},{\"attributes\":{\"line_alpha\":{\"value\":0.5},\"line_color\":{\"value\":\"grey\"},\"line_dash\":[6],\"x\":{\"field\":\"x\"},\"y\":{\"field\":\"y\"}},\"id\":\"0e01c8f4-843a-4600-8c7a-6369d5732b2b\",\"type\":\"Line\"},{\"attributes\":{\"data_source\":{\"id\":\"751ed786-3b93-4c8e-a3d6-c669d6385883\",\"type\":\"ColumnDataSource\"},\"glyph\":{\"id\":\"81322e7f-f09f-481f-b831-613b9a710f38\",\"type\":\"Line\"},\"hover_glyph\":null,\"nonselection_glyph\":{\"id\":\"88c4d3b1-663b-4e6f-bf58-3f7b15cce55c\",\"type\":\"Line\"},\"selection_glyph\":null},\"id\":\"87242151-63b7-406a-a556-b855886f3d03\",\"type\":\"GlyphRenderer\"},{\"attributes\":{\"data_source\":{\"id\":\"224138cf-7534-48ec-ae20-35ffda4f10ae\",\"type\":\"ColumnDataSource\"},\"glyph\":{\"id\":\"0e01c8f4-843a-4600-8c7a-6369d5732b2b\",\"type\":\"Line\"},\"hover_glyph\":null,\"nonselection_glyph\":{\"id\":\"69707321-8e36-4e31-8313-b3acbb84f977\",\"type\":\"Line\"},\"selection_glyph\":null},\"id\":\"83ff51e4-034e-4a8b-ba79-fdee55bacb53\",\"type\":\"GlyphRenderer\"},{\"attributes\":{\"callback\":null,\"column_names\":[\"x\",\"y\"],\"data\":{\"x\":[77.10191513425417,0.6030845309366706,8.836103956225738,9.819204533512217,19.132166267021578],\"y\":[11.572205649325307,32.575753260995256,33.735633267636736,0.33731800755657515,3.641172697947326]}},\"id\":\"69fc0487-fd97-4f67-9407-924b33a378e0\",\"type\":\"ColumnDataSource\"},{\"attributes\":{\"line_alpha\":{\"value\":0.1},\"line_color\":{\"value\":\"#1f77b4\"},\"line_dash\":[6],\"x\":{\"field\":\"x\"},\"y\":{\"field\":\"y\"}},\"id\":\"cbb72c0a-4d1e-4330-a580-430455ec0ccc\",\"type\":\"Line\"},{\"attributes\":{\"data_source\":{\"id\":\"48ebf492-0832-4197-8445-4e8cd3e18fdf\",\"type\":\"ColumnDataSource\"},\"glyph\":{\"id\":\"cc088156-2ea7-421e-a8da-05989ec6cc01\",\"type\":\"Line\"},\"hover_glyph\":null,\"nonselection_glyph\":{\"id\":\"cbb72c0a-4d1e-4330-a580-430455ec0ccc\",\"type\":\"Line\"},\"selection_glyph\":null},\"id\":\"b16a8fe2-a815-48df-aed2-8a36ee57ac71\",\"type\":\"GlyphRenderer\"},{\"attributes\":{},\"id\":\"4bdcc011-6ebc-4810-9a22-ddcb028531b8\",\"type\":\"BasicTickFormatter\"},{\"attributes\":{\"data_source\":{\"id\":\"1477e7a4-e28b-49ae-ad3d-4dc855921ecb\",\"type\":\"ColumnDataSource\"},\"glyph\":{\"id\":\"a227966c-15cc-48d1-bae3-2c6bb1dc4088\",\"type\":\"Line\"},\"hover_glyph\":null,\"nonselection_glyph\":{\"id\":\"e993c80f-0dbe-4669-9ddc-0d5862b03adc\",\"type\":\"Line\"},\"selection_glyph\":null},\"id\":\"94ac1017-b379-445a-8268-16ff142e2ca1\",\"type\":\"GlyphRenderer\"},{\"attributes\":{\"label\":{\"value\":\"Pickup\"},\"renderers\":[{\"id\":\"cb957447-79ec-4855-9d22-ab3c26a958fb\",\"type\":\"GlyphRenderer\"}]},\"id\":\"63a8b2aa-da7c-4958-9d36-f7d1733668ed\",\"type\":\"LegendItem\"},{\"attributes\":{\"line_alpha\":{\"value\":0.5},\"line_color\":{\"value\":\"grey\"},\"line_dash\":[6],\"x\":{\"field\":\"x\"},\"y\":{\"field\":\"y\"}},\"id\":\"81322e7f-f09f-481f-b831-613b9a710f38\",\"type\":\"Line\"},{\"attributes\":{\"line_alpha\":{\"value\":0.1},\"line_color\":{\"value\":\"#1f77b4\"},\"line_dash\":[6],\"x\":{\"field\":\"x\"},\"y\":{\"field\":\"y\"}},\"id\":\"e993c80f-0dbe-4669-9ddc-0d5862b03adc\",\"type\":\"Line\"},{\"attributes\":{\"callback\":null,\"column_names\":[\"x\",\"y\"],\"data\":{\"x\":[83.5308213938024,79.76060358972966,54.34323678238591,22.265795881815954,40.650987145521576],\"y\":[78.1234235601282,73.88187019689299,97.42423301273055,94.45977174681988,39.78762587774145]}},\"id\":\"224138cf-7534-48ec-ae20-35ffda4f10ae\",\"type\":\"ColumnDataSource\"},{\"attributes\":{\"callback\":null,\"column_names\":[\"x_values\",\"y_values\"],\"data\":{\"chart_index\":[{\"type\":\"Pickup\"},{\"type\":\"Pickup\"},{\"type\":\"Pickup\"},{\"type\":\"Pickup\"},{\"type\":\"Pickup\"},{\"type\":\"Pickup\"},{\"type\":\"Pickup\"},{\"type\":\"Pickup\"},{\"type\":\"Pickup\"},{\"type\":\"Pickup\"},{\"type\":\"Pickup\"}],\"type\":[\"Pickup\",\"Pickup\",\"Pickup\",\"Pickup\",\"Pickup\",\"Pickup\",\"Pickup\",\"Pickup\",\"Pickup\",\"Pickup\",\"Pickup\"],\"x_values\":{\"__ndarray__\":\"T2enRXaHVkD3qNQgPmJEQIgWI+53TOM/XaNo1xFHRUD7xq26rfBTQPwNgk74Yh9AIp2DCjQZGEBuF1jRFawhQHt5AETSdUdAns/rMgtENkBWhYZtzmBQQA==\",\"dtype\":\"float64\",\"shape\":[11]},\"y_values\":{\"__ndarray__\":\"EWDnj/4SRECwMQi6eRxSQB5FaUiySUBApI1iAi+CNUA9vrGPcHhSQOGP8huo21BAXuCUbbE7P0C5LB07Kd5AQL/4ari3S1RA1g165mydV0CD5Y9638ZWQA==\",\"dtype\":\"float64\",\"shape\":[11]}}},\"id\":\"7abfd1b4-7ed4-4b11-a6d2-15cbc2d25819\",\"type\":\"ColumnDataSource\"},{\"attributes\":{\"callback\":null,\"column_names\":[\"x\",\"y\"],\"data\":{\"x\":[42.11381221332526,42.55523197755131,84.7961621759334],\"y\":[49.1337775271396,21.50852980524145,87.02662379107106]}},\"id\":\"1477e7a4-e28b-49ae-ad3d-4dc855921ecb\",\"type\":\"ColumnDataSource\"},{\"attributes\":{\"line_alpha\":{\"value\":0.1},\"line_color\":{\"value\":\"#1f77b4\"},\"line_dash\":[6],\"x\":{\"field\":\"x\"},\"y\":{\"field\":\"y\"}},\"id\":\"69707321-8e36-4e31-8313-b3acbb84f977\",\"type\":\"Line\"},{\"attributes\":{\"active_drag\":\"auto\",\"active_scroll\":\"auto\",\"active_tap\":\"auto\",\"tools\":[{\"id\":\"91b039b2-c5f4-447a-a9d4-a84530646228\",\"type\":\"PanTool\"},{\"id\":\"0f34f2d3-3e4d-4199-801c-be30751ddd87\",\"type\":\"WheelZoomTool\"},{\"id\":\"95d6c445-ed7c-4441-9023-d2efafa70033\",\"type\":\"BoxZoomTool\"},{\"id\":\"82e56c01-8314-4e6e-8456-1335675bc518\",\"type\":\"SaveTool\"},{\"id\":\"314d49b7-449d-4114-8723-f8d3304bad6a\",\"type\":\"ResetTool\"},{\"id\":\"372e47ad-c548-447e-a34e-e86d93f52adc\",\"type\":\"HelpTool\"}]},\"id\":\"0ffd99bf-fb0b-4239-b2c6-55977453f6b4\",\"type\":\"Toolbar\"},{\"attributes\":{\"line_alpha\":{\"value\":0.5},\"line_color\":{\"value\":\"grey\"},\"line_dash\":[6],\"x\":{\"field\":\"x\"},\"y\":{\"field\":\"y\"}},\"id\":\"4e117863-7ca0-4aa8-bec6-43b3795bcf6c\",\"type\":\"Line\"},{\"attributes\":{\"line_alpha\":{\"value\":0.1},\"line_color\":{\"value\":\"#1f77b4\"},\"line_dash\":[6],\"x\":{\"field\":\"x\"},\"y\":{\"field\":\"y\"}},\"id\":\"67850cb6-e021-4553-9c3a-bb8c48ed0f26\",\"type\":\"Line\"},{\"attributes\":{\"axis_label\":\"x\",\"formatter\":{\"id\":\"4bdcc011-6ebc-4810-9a22-ddcb028531b8\",\"type\":\"BasicTickFormatter\"},\"plot\":{\"id\":\"eb4d14a0-c639-4cf3-9726-5c4ada4e2d43\",\"subtype\":\"Chart\",\"type\":\"Plot\"},\"ticker\":{\"id\":\"373839e0-8cff-4928-b16e-1f8f5e7bd875\",\"type\":\"BasicTicker\"}},\"id\":\"6916aa9d-8c52-4ae3-8eca-9fbdb1a92d9a\",\"type\":\"LinearAxis\"},{\"attributes\":{\"data_source\":{\"id\":\"69fc0487-fd97-4f67-9407-924b33a378e0\",\"type\":\"ColumnDataSource\"},\"glyph\":{\"id\":\"4e117863-7ca0-4aa8-bec6-43b3795bcf6c\",\"type\":\"Line\"},\"hover_glyph\":null,\"nonselection_glyph\":{\"id\":\"67850cb6-e021-4553-9c3a-bb8c48ed0f26\",\"type\":\"Line\"},\"selection_glyph\":null},\"id\":\"619204e1-ddf6-4ff4-900a-c9e6d23e612c\",\"type\":\"GlyphRenderer\"},{\"attributes\":{\"callback\":null,\"column_names\":[\"x_values\",\"y_values\"],\"data\":{\"chart_index\":[{\"type\":\"Pedicab\"},{\"type\":\"Pedicab\"},{\"type\":\"Pedicab\"},{\"type\":\"Pedicab\"},{\"type\":\"Pedicab\"},{\"type\":\"Pedicab\"},{\"type\":\"Pedicab\"}],\"type\":[\"Pedicab\",\"Pedicab\",\"Pedicab\",\"Pedicab\",\"Pedicab\",\"Pedicab\",\"Pedicab\"],\"x_values\":{\"__ndarray__\":\"5uf5g3IdJkAGDwtmkQ5FQGkUcufs71ZAIWOnZvHkRUCAmUv6+OFUQLQlDseFRlNAHH5Za+BYQkA=\",\"dtype\":\"float64\",\"shape\":[7]},\"y_values\":{\"__ndarray__\":\"y68rkQk4UUCOADyfH5FIQEr0A8+C1UhARE1tU652TUCek+4r5odTQJXgjCP4JCdAFnuj4SS9UkA=\",\"dtype\":\"float64\",\"shape\":[7]}}},\"id\":\"85ed5184-64e0-4a1f-8150-f7053ae33c85\",\"type\":\"ColumnDataSource\"},{\"attributes\":{\"callback\":null,\"column_names\":[\"x\",\"y\"],\"data\":{\"x\":[36.69434873456723,46.92047929785891,7.846650339782624,51.1791762468915,55.209895988696644],\"y\":[74.95537606205866,81.18308840223743,67.43213556945513,32.375741576338434,19.134664338260855]}},\"id\":\"9cad36fe-e992-48a1-8d07-ba7e32ee0efc\",\"type\":\"ColumnDataSource\"},{\"attributes\":{\"line_alpha\":{\"value\":0.5},\"line_color\":{\"value\":\"grey\"},\"line_dash\":[6],\"x\":{\"field\":\"x\"},\"y\":{\"field\":\"y\"}},\"id\":\"d2bb91a3-b9d1-4ace-93e2-8702f77ab11c\",\"type\":\"Line\"},{\"attributes\":{\"label\":{\"value\":\"Pedicab\"},\"renderers\":[{\"id\":\"a0a45757-94b1-4045-bbcb-f4f950295177\",\"type\":\"GlyphRenderer\"}]},\"id\":\"6500380a-f126-47a4-9d95-07d9423471e4\",\"type\":\"LegendItem\"},{\"attributes\":{\"line_alpha\":{\"value\":0.1},\"line_color\":{\"value\":\"#1f77b4\"},\"line_dash\":[6],\"x\":{\"field\":\"x\"},\"y\":{\"field\":\"y\"}},\"id\":\"b13be829-b29e-4138-aa45-1b2d6575b59a\",\"type\":\"Line\"},{\"attributes\":{\"items\":[{\"id\":\"6500380a-f126-47a4-9d95-07d9423471e4\",\"type\":\"LegendItem\"},{\"id\":\"63a8b2aa-da7c-4958-9d36-f7d1733668ed\",\"type\":\"LegendItem\"},{\"id\":\"3d955d7c-4530-4437-951c-b1ad0e4e6c52\",\"type\":\"LegendItem\"}],\"location\":\"top_left\",\"orientation\":\"horizontal\",\"plot\":{\"id\":\"eb4d14a0-c639-4cf3-9726-5c4ada4e2d43\",\"subtype\":\"Chart\",\"type\":\"Plot\"}},\"id\":\"763ec67e-604b-4ef2-9fc7-6960f25aa260\",\"type\":\"Legend\"},{\"attributes\":{\"data_source\":{\"id\":\"9cad36fe-e992-48a1-8d07-ba7e32ee0efc\",\"type\":\"ColumnDataSource\"},\"glyph\":{\"id\":\"d2bb91a3-b9d1-4ace-93e2-8702f77ab11c\",\"type\":\"Line\"},\"hover_glyph\":null,\"nonselection_glyph\":{\"id\":\"b13be829-b29e-4138-aa45-1b2d6575b59a\",\"type\":\"Line\"},\"selection_glyph\":null},\"id\":\"b7b1d7f1-ee48-45e8-9825-25ed1dc30dd7\",\"type\":\"GlyphRenderer\"},{\"attributes\":{\"plot\":{\"id\":\"eb4d14a0-c639-4cf3-9726-5c4ada4e2d43\",\"subtype\":\"Chart\",\"type\":\"Plot\"}},\"id\":\"91b039b2-c5f4-447a-a9d4-a84530646228\",\"type\":\"PanTool\"}],\"root_ids\":[\"eb4d14a0-c639-4cf3-9726-5c4ada4e2d43\"]},\"title\":\"Bokeh Application\",\"version\":\"0.12.4\"}};\n",
       "            var render_items = [{\"docid\":\"57ff348c-4fc0-4a84-8393-4e8611fc4db7\",\"elementid\":\"2c087963-2034-44ee-91a6-652bbdfd9f3d\",\"modelid\":\"eb4d14a0-c639-4cf3-9726-5c4ada4e2d43\"}];\n",
       "            \n",
       "            Bokeh.embed.embed_items(docs_json, render_items);\n",
       "          };\n",
       "          if (document.readyState != \"loading\") fn();\n",
       "          else document.addEventListener(\"DOMContentLoaded\", fn);\n",
       "        })();\n",
       "      },\n",
       "      function(Bokeh) {\n",
       "      }\n",
       "    ];\n",
       "  \n",
       "    function run_inline_js() {\n",
       "      \n",
       "      if ((window.Bokeh !== undefined) || (force === true)) {\n",
       "        for (var i = 0; i < inline_js.length; i++) {\n",
       "          inline_js[i](window.Bokeh);\n",
       "        }if (force === true) {\n",
       "          display_loaded();\n",
       "        }} else if (Date.now() < window._bokeh_timeout) {\n",
       "        setTimeout(run_inline_js, 100);\n",
       "      } else if (!window._bokeh_failed_load) {\n",
       "        console.log(\"Bokeh: BokehJS failed to load within specified timeout.\");\n",
       "        window._bokeh_failed_load = true;\n",
       "      } else if (force !== true) {\n",
       "        var cell = $(document.getElementById(\"2c087963-2034-44ee-91a6-652bbdfd9f3d\")).parents('.cell').data().cell;\n",
       "        cell.output_area.append_execute_result(NB_LOAD_WARNING)\n",
       "      }\n",
       "  \n",
       "    }\n",
       "  \n",
       "    if (window._bokeh_is_loading === 0) {\n",
       "      console.log(\"Bokeh: BokehJS loaded, going straight to plotting\");\n",
       "      run_inline_js();\n",
       "    } else {\n",
       "      load_libs(js_urls, function() {\n",
       "        console.log(\"Bokeh: BokehJS plotting callback run at\", now());\n",
       "        run_inline_js();\n",
       "      });\n",
       "    }\n",
       "  }(this));\n",
       "</script>"
      ]
     },
     "metadata": {},
     "output_type": "display_data"
    }
   ],
   "source": [
    "plot_routes()"
   ]
  },
  {
   "cell_type": "code",
   "execution_count": 55,
   "metadata": {
    "collapsed": false
   },
   "outputs": [
    {
     "name": "stdout",
     "output_type": "stream",
     "text": [
      "total cost: 730.39405\n",
      "max route length: 136.37579\n"
     ]
    }
   ],
   "source": [
    "# Only willing to accept 10% degradation in global optimality\n",
    "prm += z <= best_total_cost * 1.1\n",
    "assert prm.solve() == pulp.LpStatusOptimal\n",
    "\n",
    "print('total cost:', z.value())\n",
    "print('max route length:', z2.value())"
   ]
  },
  {
   "cell_type": "code",
   "execution_count": 56,
   "metadata": {
    "collapsed": false
   },
   "outputs": [
    {
     "data": {
      "text/html": [
       "\n",
       "\n",
       "    <div class=\"bk-root\">\n",
       "        <div class=\"bk-plotdiv\" id=\"b7cae09a-d1ba-48fe-8a94-25e6b5b88e55\"></div>\n",
       "    </div>\n",
       "<script type=\"text/javascript\">\n",
       "  \n",
       "  (function(global) {\n",
       "    function now() {\n",
       "      return new Date();\n",
       "    }\n",
       "  \n",
       "    var force = false;\n",
       "  \n",
       "    if (typeof (window._bokeh_onload_callbacks) === \"undefined\" || force === true) {\n",
       "      window._bokeh_onload_callbacks = [];\n",
       "      window._bokeh_is_loading = undefined;\n",
       "    }\n",
       "  \n",
       "  \n",
       "    \n",
       "    if (typeof (window._bokeh_timeout) === \"undefined\" || force === true) {\n",
       "      window._bokeh_timeout = Date.now() + 0;\n",
       "      window._bokeh_failed_load = false;\n",
       "    }\n",
       "  \n",
       "    var NB_LOAD_WARNING = {'data': {'text/html':\n",
       "       \"<div style='background-color: #fdd'>\\n\"+\n",
       "       \"<p>\\n\"+\n",
       "       \"BokehJS does not appear to have successfully loaded. If loading BokehJS from CDN, this \\n\"+\n",
       "       \"may be due to a slow or bad network connection. Possible fixes:\\n\"+\n",
       "       \"</p>\\n\"+\n",
       "       \"<ul>\\n\"+\n",
       "       \"<li>re-rerun `output_notebook()` to attempt to load from CDN again, or</li>\\n\"+\n",
       "       \"<li>use INLINE resources instead, as so:</li>\\n\"+\n",
       "       \"</ul>\\n\"+\n",
       "       \"<code>\\n\"+\n",
       "       \"from bokeh.resources import INLINE\\n\"+\n",
       "       \"output_notebook(resources=INLINE)\\n\"+\n",
       "       \"</code>\\n\"+\n",
       "       \"</div>\"}};\n",
       "  \n",
       "    function display_loaded() {\n",
       "      if (window.Bokeh !== undefined) {\n",
       "        document.getElementById(\"b7cae09a-d1ba-48fe-8a94-25e6b5b88e55\").textContent = \"BokehJS successfully loaded.\";\n",
       "      } else if (Date.now() < window._bokeh_timeout) {\n",
       "        setTimeout(display_loaded, 100)\n",
       "      }\n",
       "    }\n",
       "  \n",
       "    function run_callbacks() {\n",
       "      window._bokeh_onload_callbacks.forEach(function(callback) { callback() });\n",
       "      delete window._bokeh_onload_callbacks\n",
       "      console.info(\"Bokeh: all callbacks have finished\");\n",
       "    }\n",
       "  \n",
       "    function load_libs(js_urls, callback) {\n",
       "      window._bokeh_onload_callbacks.push(callback);\n",
       "      if (window._bokeh_is_loading > 0) {\n",
       "        console.log(\"Bokeh: BokehJS is being loaded, scheduling callback at\", now());\n",
       "        return null;\n",
       "      }\n",
       "      if (js_urls == null || js_urls.length === 0) {\n",
       "        run_callbacks();\n",
       "        return null;\n",
       "      }\n",
       "      console.log(\"Bokeh: BokehJS not loaded, scheduling load and callback at\", now());\n",
       "      window._bokeh_is_loading = js_urls.length;\n",
       "      for (var i = 0; i < js_urls.length; i++) {\n",
       "        var url = js_urls[i];\n",
       "        var s = document.createElement('script');\n",
       "        s.src = url;\n",
       "        s.async = false;\n",
       "        s.onreadystatechange = s.onload = function() {\n",
       "          window._bokeh_is_loading--;\n",
       "          if (window._bokeh_is_loading === 0) {\n",
       "            console.log(\"Bokeh: all BokehJS libraries loaded\");\n",
       "            run_callbacks()\n",
       "          }\n",
       "        };\n",
       "        s.onerror = function() {\n",
       "          console.warn(\"failed to load library \" + url);\n",
       "        };\n",
       "        console.log(\"Bokeh: injecting script tag for BokehJS library: \", url);\n",
       "        document.getElementsByTagName(\"head\")[0].appendChild(s);\n",
       "      }\n",
       "    };var element = document.getElementById(\"b7cae09a-d1ba-48fe-8a94-25e6b5b88e55\");\n",
       "    if (element == null) {\n",
       "      console.log(\"Bokeh: ERROR: autoload.js configured with elementid 'b7cae09a-d1ba-48fe-8a94-25e6b5b88e55' but no matching script tag was found. \")\n",
       "      return false;\n",
       "    }\n",
       "  \n",
       "    var js_urls = [];\n",
       "  \n",
       "    var inline_js = [\n",
       "      function(Bokeh) {\n",
       "        (function() {\n",
       "          var fn = function() {\n",
       "            var docs_json = {\"72ff51dd-d0a2-40e0-882c-6732732dad8d\":{\"roots\":{\"references\":[{\"attributes\":{\"callback\":null,\"column_names\":[\"x\",\"y\"],\"data\":{\"x\":[91.7488344778118,90.11659375522616,79.76060358972966,34.179097284014134,54.34323678238591],\"y\":[49.66805446332053,40.14839361951466,73.88187019689299,76.69512875154297,97.42423301273055]}},\"id\":\"1e700016-abc8-4b66-804a-60316a42653e\",\"type\":\"ColumnDataSource\"},{\"attributes\":{\"fill_alpha\":{\"value\":0.7},\"fill_color\":{\"value\":\"#407ee7\"},\"line_color\":{\"value\":\"#407ee7\"},\"size\":{\"units\":\"screen\",\"value\":8},\"x\":{\"field\":\"x_values\"},\"y\":{\"field\":\"y_values\"}},\"id\":\"ac4a83f8-69d6-4a26-8a8c-97d9ecf4aa98\",\"type\":\"Triangle\"},{\"attributes\":{\"callback\":null,\"column_names\":[\"x_values\",\"y_values\"],\"data\":{\"chart_index\":[{\"type\":\"Pickup\"},{\"type\":\"Pickup\"},{\"type\":\"Pickup\"},{\"type\":\"Pickup\"},{\"type\":\"Pickup\"},{\"type\":\"Pickup\"},{\"type\":\"Pickup\"},{\"type\":\"Pickup\"},{\"type\":\"Pickup\"},{\"type\":\"Pickup\"},{\"type\":\"Pickup\"}],\"type\":[\"Pickup\",\"Pickup\",\"Pickup\",\"Pickup\",\"Pickup\",\"Pickup\",\"Pickup\",\"Pickup\",\"Pickup\",\"Pickup\",\"Pickup\"],\"x_values\":{\"__ndarray__\":\"T2enRXaHVkD3qNQgPmJEQIgWI+53TOM/XaNo1xFHRUD7xq26rfBTQPwNgk74Yh9AIp2DCjQZGEBuF1jRFawhQHt5AETSdUdAns/rMgtENkBWhYZtzmBQQA==\",\"dtype\":\"float64\",\"shape\":[11]},\"y_values\":{\"__ndarray__\":\"EWDnj/4SRECwMQi6eRxSQB5FaUiySUBApI1iAi+CNUA9vrGPcHhSQOGP8huo21BAXuCUbbE7P0C5LB07Kd5AQL/4ari3S1RA1g165mydV0CD5Y9638ZWQA==\",\"dtype\":\"float64\",\"shape\":[11]}}},\"id\":\"c2fb6122-76c5-4022-8403-692986141edd\",\"type\":\"ColumnDataSource\"},{\"attributes\":{\"data_source\":{\"id\":\"c2fb6122-76c5-4022-8403-692986141edd\",\"type\":\"ColumnDataSource\"},\"glyph\":{\"id\":\"ac4a83f8-69d6-4a26-8a8c-97d9ecf4aa98\",\"type\":\"Triangle\"},\"hover_glyph\":null,\"nonselection_glyph\":null,\"selection_glyph\":null},\"id\":\"77a6409f-5f2b-4bb2-a1ec-d440bf33ce05\",\"type\":\"GlyphRenderer\"},{\"attributes\":{\"data_source\":{\"id\":\"2a6a4199-7d6e-483e-af74-46fd55bd364e\",\"type\":\"ColumnDataSource\"},\"glyph\":{\"id\":\"a383579e-b82c-45ef-b6d3-361e8609964b\",\"type\":\"Line\"},\"hover_glyph\":null,\"nonselection_glyph\":{\"id\":\"3234596a-6a7f-465a-b69f-f5143fb8443c\",\"type\":\"Line\"},\"selection_glyph\":null},\"id\":\"b0100779-fa1f-4008-9d57-5c5ee8df05ef\",\"type\":\"GlyphRenderer\"},{\"attributes\":{\"plot\":{\"id\":\"20480e17-9c6d-443c-8f7c-9e23a0997e67\",\"subtype\":\"Chart\",\"type\":\"Plot\"}},\"id\":\"63a38a24-5b0d-4d19-9519-e10b0569887c\",\"type\":\"PanTool\"},{\"attributes\":{},\"id\":\"59054a1b-db92-4b3e-8259-36dd42a81a1b\",\"type\":\"ToolEvents\"},{\"attributes\":{\"callback\":null,\"column_names\":[\"x\",\"y\"],\"data\":{\"x\":[36.69434873456723,40.767521003568554,42.55523197755131,82.29666159847685,84.7961621759334],\"y\":[74.95537606205866,72.4449296073933,21.50852980524145,66.85152620789309,87.02662379107106]}},\"id\":\"38a5c1d1-f57a-4ee7-912d-48dedaec6698\",\"type\":\"ColumnDataSource\"},{\"attributes\":{\"line_alpha\":{\"value\":0.5},\"line_color\":{\"value\":\"grey\"},\"line_dash\":[6],\"x\":{\"field\":\"x\"},\"y\":{\"field\":\"y\"}},\"id\":\"d2e4e9be-a826-48a2-ac6b-11bf06560928\",\"type\":\"Line\"},{\"attributes\":{\"line_alpha\":{\"value\":0.1},\"line_color\":{\"value\":\"#1f77b4\"},\"line_dash\":[6],\"x\":{\"field\":\"x\"},\"y\":{\"field\":\"y\"}},\"id\":\"efb2468b-aa62-4c9c-9527-29dfbe690e4e\",\"type\":\"Line\"},{\"attributes\":{\"active_drag\":\"auto\",\"active_scroll\":\"auto\",\"active_tap\":\"auto\",\"tools\":[{\"id\":\"63a38a24-5b0d-4d19-9519-e10b0569887c\",\"type\":\"PanTool\"},{\"id\":\"27b60547-5e51-4b3f-8c8a-49aa2df50703\",\"type\":\"WheelZoomTool\"},{\"id\":\"1ff845cd-5ab1-43cd-a3fd-47b9c5170f1b\",\"type\":\"BoxZoomTool\"},{\"id\":\"95891a42-ddfc-41f0-8ebd-fa7656eef31d\",\"type\":\"SaveTool\"},{\"id\":\"9db83c6b-1a25-4cc1-9cd8-f5f9eb3f406f\",\"type\":\"ResetTool\"},{\"id\":\"1b309ba2-8ade-4c9d-96f2-15fb52b95cb2\",\"type\":\"HelpTool\"}]},\"id\":\"034feb9b-1ac3-494f-9c6f-06ba63a61beb\",\"type\":\"Toolbar\"},{\"attributes\":{\"data_source\":{\"id\":\"38a5c1d1-f57a-4ee7-912d-48dedaec6698\",\"type\":\"ColumnDataSource\"},\"glyph\":{\"id\":\"d2e4e9be-a826-48a2-ac6b-11bf06560928\",\"type\":\"Line\"},\"hover_glyph\":null,\"nonselection_glyph\":{\"id\":\"efb2468b-aa62-4c9c-9527-29dfbe690e4e\",\"type\":\"Line\"},\"selection_glyph\":null},\"id\":\"e81c928a-48ac-44de-9759-fa69505ee921\",\"type\":\"GlyphRenderer\"},{\"attributes\":{\"plot\":null,\"text\":null},\"id\":\"3438d283-593f-4013-9d70-d2cb9efd30e5\",\"type\":\"Title\"},{\"attributes\":{\"items\":[{\"id\":\"134e806f-3698-4b6a-9518-a85e8acd05c4\",\"type\":\"LegendItem\"},{\"id\":\"8bbed6d9-68e4-41b0-99a2-81946deba27f\",\"type\":\"LegendItem\"},{\"id\":\"7c8edc07-f16a-4918-981a-c8edd1832531\",\"type\":\"LegendItem\"}],\"location\":\"top_left\",\"orientation\":\"horizontal\",\"plot\":{\"id\":\"20480e17-9c6d-443c-8f7c-9e23a0997e67\",\"subtype\":\"Chart\",\"type\":\"Plot\"}},\"id\":\"8c4b9c97-8032-4358-a01b-4f2063bf7566\",\"type\":\"Legend\"},{\"attributes\":{\"fill_alpha\":{\"value\":0.7},\"fill_color\":{\"value\":\"#f22c40\"},\"line_color\":{\"value\":\"#f22c40\"},\"size\":{\"units\":\"screen\",\"value\":8},\"x\":{\"field\":\"x_values\"},\"y\":{\"field\":\"y_values\"}},\"id\":\"48ec9b32-3720-48a0-a6ef-d894f1bc6711\",\"type\":\"Circle\"},{\"attributes\":{\"callback\":null,\"column_names\":[\"x\",\"y\"],\"data\":{\"x\":[83.5308213938024,65.51259935509492,46.92047929785891,51.1791762468915,71.88178540211736],\"y\":[78.1234235601282,91.10739006092449,81.18308840223743,32.375741576338434,3.6298247843655096]}},\"id\":\"2a6a4199-7d6e-483e-af74-46fd55bd364e\",\"type\":\"ColumnDataSource\"},{\"attributes\":{\"dimension\":1,\"plot\":{\"id\":\"20480e17-9c6d-443c-8f7c-9e23a0997e67\",\"subtype\":\"Chart\",\"type\":\"Plot\"},\"ticker\":{\"id\":\"cafd1908-f8e7-4724-8270-cc5eda8f33d6\",\"type\":\"BasicTicker\"}},\"id\":\"58b845b3-793a-4fa7-9358-a930ca6062a2\",\"type\":\"Grid\"},{\"attributes\":{},\"id\":\"cafd1908-f8e7-4724-8270-cc5eda8f33d6\",\"type\":\"BasicTicker\"},{\"attributes\":{\"line_alpha\":{\"value\":0.5},\"line_color\":{\"value\":\"grey\"},\"line_dash\":[6],\"x\":{\"field\":\"x\"},\"y\":{\"field\":\"y\"}},\"id\":\"a383579e-b82c-45ef-b6d3-361e8609964b\",\"type\":\"Line\"},{\"attributes\":{\"line_alpha\":{\"value\":0.1},\"line_color\":{\"value\":\"#1f77b4\"},\"line_dash\":[6],\"x\":{\"field\":\"x\"},\"y\":{\"field\":\"y\"}},\"id\":\"3234596a-6a7f-465a-b69f-f5143fb8443c\",\"type\":\"Line\"},{\"attributes\":{\"callback\":null,\"end\":115,\"start\":-15},\"id\":\"c9654fa3-4671-4f04-8349-5ffebbc8338e\",\"type\":\"Range1d\"},{\"attributes\":{\"line_alpha\":{\"value\":0.5},\"line_color\":{\"value\":\"grey\"},\"line_dash\":[6],\"x\":{\"field\":\"x\"},\"y\":{\"field\":\"y\"}},\"id\":\"b4c314a3-d086-496c-8baf-4f6542e337f7\",\"type\":\"Line\"},{\"attributes\":{\"line_alpha\":{\"value\":0.1},\"line_color\":{\"value\":\"#1f77b4\"},\"line_dash\":[6],\"x\":{\"field\":\"x\"},\"y\":{\"field\":\"y\"}},\"id\":\"78a04bde-55d0-488d-b942-ad924aaf9220\",\"type\":\"Line\"},{\"attributes\":{\"data_source\":{\"id\":\"1e700016-abc8-4b66-804a-60316a42653e\",\"type\":\"ColumnDataSource\"},\"glyph\":{\"id\":\"b4c314a3-d086-496c-8baf-4f6542e337f7\",\"type\":\"Line\"},\"hover_glyph\":null,\"nonselection_glyph\":{\"id\":\"78a04bde-55d0-488d-b942-ad924aaf9220\",\"type\":\"Line\"},\"selection_glyph\":null},\"id\":\"60f8658d-a8fc-49f6-a61f-87e3f46c91bf\",\"type\":\"GlyphRenderer\"},{\"attributes\":{\"callback\":null,\"column_names\":[\"x\",\"y\"],\"data\":{\"x\":[43.78861697362141,8.836103956225738,0.6030845309366706,9.819204533512217,19.132166267021578],\"y\":[58.92719500386241,33.735633267636736,32.575753260995256,0.33731800755657515,3.641172697947326]}},\"id\":\"f8f8f3f2-276b-4270-867f-03f1f4595826\",\"type\":\"ColumnDataSource\"},{\"attributes\":{\"callback\":null,\"column_names\":[\"x\",\"y\"],\"data\":{\"x\":[42.11381221332526,6.024612583430356,98.49399188568263],\"y\":[49.1337775271396,31.23317608723334,51.127367929591784]}},\"id\":\"659b0bc3-5186-4325-9eeb-d588aba4b9b6\",\"type\":\"ColumnDataSource\"},{\"attributes\":{\"line_alpha\":{\"value\":0.5},\"line_color\":{\"value\":\"grey\"},\"line_dash\":[6],\"x\":{\"field\":\"x\"},\"y\":{\"field\":\"y\"}},\"id\":\"9ddd0f45-108b-4a1d-a1fb-7448c576d1e9\",\"type\":\"Line\"},{\"attributes\":{\"data_source\":{\"id\":\"7e2f91fb-f47c-4baa-85ed-7bec889c04df\",\"type\":\"ColumnDataSource\"},\"glyph\":{\"id\":\"48ec9b32-3720-48a0-a6ef-d894f1bc6711\",\"type\":\"Circle\"},\"hover_glyph\":null,\"nonselection_glyph\":null,\"selection_glyph\":null},\"id\":\"35fc4660-a0ee-4e12-ad05-a14de2131577\",\"type\":\"GlyphRenderer\"},{\"attributes\":{\"line_alpha\":{\"value\":0.1},\"line_color\":{\"value\":\"#1f77b4\"},\"line_dash\":[6],\"x\":{\"field\":\"x\"},\"y\":{\"field\":\"y\"}},\"id\":\"ee754e0f-e29f-4acb-b18f-0ed07536bb65\",\"type\":\"Line\"},{\"attributes\":{\"data_source\":{\"id\":\"f8f8f3f2-276b-4270-867f-03f1f4595826\",\"type\":\"ColumnDataSource\"},\"glyph\":{\"id\":\"9ddd0f45-108b-4a1d-a1fb-7448c576d1e9\",\"type\":\"Line\"},\"hover_glyph\":null,\"nonselection_glyph\":{\"id\":\"ee754e0f-e29f-4acb-b18f-0ed07536bb65\",\"type\":\"Line\"},\"selection_glyph\":null},\"id\":\"12adcaa3-c138-43aa-9b53-edbda6f7b17a\",\"type\":\"GlyphRenderer\"},{\"attributes\":{\"callback\":null,\"column_names\":[\"x\",\"y\"],\"data\":{\"x\":[11.057514309173666,7.846650339782624,22.265795881815954,40.650987145521576,55.209895988696644],\"y\":[68.87558392778662,67.43213556945513,94.45977174681988,39.78762587774145,19.134664338260855]}},\"id\":\"0bd8dc0d-c0c2-4593-965f-ad7a03db3569\",\"type\":\"ColumnDataSource\"},{\"attributes\":{\"axis_label\":\"y\",\"formatter\":{\"id\":\"cf322960-a6ae-4830-b5cb-c4248ee3203f\",\"type\":\"BasicTickFormatter\"},\"plot\":{\"id\":\"20480e17-9c6d-443c-8f7c-9e23a0997e67\",\"subtype\":\"Chart\",\"type\":\"Plot\"},\"ticker\":{\"id\":\"cafd1908-f8e7-4724-8270-cc5eda8f33d6\",\"type\":\"BasicTicker\"}},\"id\":\"1db40a1a-9d28-4ea6-887f-94d67c26c0b9\",\"type\":\"LinearAxis\"},{\"attributes\":{\"line_alpha\":{\"value\":0.5},\"line_color\":{\"value\":\"grey\"},\"line_dash\":[6],\"x\":{\"field\":\"x\"},\"y\":{\"field\":\"y\"}},\"id\":\"592ae3ea-7f6d-4bc5-91e8-7e346e8076ae\",\"type\":\"Line\"},{\"attributes\":{},\"id\":\"cf322960-a6ae-4830-b5cb-c4248ee3203f\",\"type\":\"BasicTickFormatter\"},{\"attributes\":{\"line_alpha\":{\"value\":0.1},\"line_color\":{\"value\":\"#1f77b4\"},\"line_dash\":[6],\"x\":{\"field\":\"x\"},\"y\":{\"field\":\"y\"}},\"id\":\"48c9554f-0d8f-414e-b96c-3b35594cf068\",\"type\":\"Line\"},{\"attributes\":{\"data_source\":{\"id\":\"0bd8dc0d-c0c2-4593-965f-ad7a03db3569\",\"type\":\"ColumnDataSource\"},\"glyph\":{\"id\":\"b6644e6a-7d94-42da-92e0-9b416da9b537\",\"type\":\"Line\"},\"hover_glyph\":null,\"nonselection_glyph\":{\"id\":\"0356c4a0-bfa8-48f5-84e2-51fb57b92e72\",\"type\":\"Line\"},\"selection_glyph\":null},\"id\":\"391442f8-1446-48a4-b781-240ebf9fad9c\",\"type\":\"GlyphRenderer\"},{\"attributes\":{\"line_alpha\":{\"value\":0.1},\"line_color\":{\"value\":\"#1f77b4\"},\"line_dash\":[6],\"x\":{\"field\":\"x\"},\"y\":{\"field\":\"y\"}},\"id\":\"0356c4a0-bfa8-48f5-84e2-51fb57b92e72\",\"type\":\"Line\"},{\"attributes\":{\"line_alpha\":{\"value\":0.5},\"line_color\":{\"value\":\"grey\"},\"line_dash\":[6],\"x\":{\"field\":\"x\"},\"y\":{\"field\":\"y\"}},\"id\":\"b6644e6a-7d94-42da-92e0-9b416da9b537\",\"type\":\"Line\"},{\"attributes\":{},\"id\":\"ae214402-a39c-409e-ad15-172f210ceede\",\"type\":\"BasicTickFormatter\"},{\"attributes\":{\"bottom_units\":\"screen\",\"fill_alpha\":{\"value\":0.5},\"fill_color\":{\"value\":\"lightgrey\"},\"left_units\":\"screen\",\"level\":\"overlay\",\"line_alpha\":{\"value\":1.0},\"line_color\":{\"value\":\"black\"},\"line_dash\":[4,4],\"line_width\":{\"value\":2},\"plot\":null,\"render_mode\":\"css\",\"right_units\":\"screen\",\"top_units\":\"screen\"},\"id\":\"c4c87718-d026-4d6f-a0a1-9b8f27421170\",\"type\":\"BoxAnnotation\"},{\"attributes\":{\"data_source\":{\"id\":\"ff3c9d54-1dcb-47cb-937b-69bf41f84ae2\",\"type\":\"ColumnDataSource\"},\"glyph\":{\"id\":\"610c40d6-ec88-4a1b-b6cf-5a5e2f33a894\",\"type\":\"Square\"},\"hover_glyph\":null,\"nonselection_glyph\":null,\"selection_glyph\":null},\"id\":\"5a9f068d-7e90-4c11-b332-d63437112dcb\",\"type\":\"GlyphRenderer\"},{\"attributes\":{\"label\":{\"value\":\"Pickup\"},\"renderers\":[{\"id\":\"77a6409f-5f2b-4bb2-a1ec-d440bf33ce05\",\"type\":\"GlyphRenderer\"}]},\"id\":\"8bbed6d9-68e4-41b0-99a2-81946deba27f\",\"type\":\"LegendItem\"},{\"attributes\":{\"label\":{\"value\":\"Pedicab\"},\"renderers\":[{\"id\":\"5a9f068d-7e90-4c11-b332-d63437112dcb\",\"type\":\"GlyphRenderer\"}]},\"id\":\"134e806f-3698-4b6a-9518-a85e8acd05c4\",\"type\":\"LegendItem\"},{\"attributes\":{\"plot\":{\"id\":\"20480e17-9c6d-443c-8f7c-9e23a0997e67\",\"subtype\":\"Chart\",\"type\":\"Plot\"},\"ticker\":{\"id\":\"6e1c0a6a-b3c6-4651-99b2-929ad7af1d67\",\"type\":\"BasicTicker\"}},\"id\":\"58b2540b-6b7b-4fc0-bd9f-0a2608ec1b34\",\"type\":\"Grid\"},{\"attributes\":{\"data_source\":{\"id\":\"659b0bc3-5186-4325-9eeb-d588aba4b9b6\",\"type\":\"ColumnDataSource\"},\"glyph\":{\"id\":\"592ae3ea-7f6d-4bc5-91e8-7e346e8076ae\",\"type\":\"Line\"},\"hover_glyph\":null,\"nonselection_glyph\":{\"id\":\"48c9554f-0d8f-414e-b96c-3b35594cf068\",\"type\":\"Line\"},\"selection_glyph\":null},\"id\":\"434dc350-1d7f-45ff-bb08-07f2684328f2\",\"type\":\"GlyphRenderer\"},{\"attributes\":{\"below\":[{\"id\":\"daa25ff1-8b69-40a6-88b7-1ab27b755613\",\"type\":\"LinearAxis\"}],\"css_classes\":null,\"height\":600,\"left\":[{\"id\":\"1db40a1a-9d28-4ea6-887f-94d67c26c0b9\",\"type\":\"LinearAxis\"}],\"renderers\":[{\"id\":\"c4c87718-d026-4d6f-a0a1-9b8f27421170\",\"type\":\"BoxAnnotation\"},{\"id\":\"5a9f068d-7e90-4c11-b332-d63437112dcb\",\"type\":\"GlyphRenderer\"},{\"id\":\"77a6409f-5f2b-4bb2-a1ec-d440bf33ce05\",\"type\":\"GlyphRenderer\"},{\"id\":\"35fc4660-a0ee-4e12-ad05-a14de2131577\",\"type\":\"GlyphRenderer\"},{\"id\":\"8c4b9c97-8032-4358-a01b-4f2063bf7566\",\"type\":\"Legend\"},{\"id\":\"daa25ff1-8b69-40a6-88b7-1ab27b755613\",\"type\":\"LinearAxis\"},{\"id\":\"1db40a1a-9d28-4ea6-887f-94d67c26c0b9\",\"type\":\"LinearAxis\"},{\"id\":\"58b2540b-6b7b-4fc0-bd9f-0a2608ec1b34\",\"type\":\"Grid\"},{\"id\":\"58b845b3-793a-4fa7-9358-a930ca6062a2\",\"type\":\"Grid\"},{\"id\":\"391442f8-1446-48a4-b781-240ebf9fad9c\",\"type\":\"GlyphRenderer\"},{\"id\":\"434dc350-1d7f-45ff-bb08-07f2684328f2\",\"type\":\"GlyphRenderer\"},{\"id\":\"60f8658d-a8fc-49f6-a61f-87e3f46c91bf\",\"type\":\"GlyphRenderer\"},{\"id\":\"12adcaa3-c138-43aa-9b53-edbda6f7b17a\",\"type\":\"GlyphRenderer\"},{\"id\":\"b0100779-fa1f-4008-9d57-5c5ee8df05ef\",\"type\":\"GlyphRenderer\"},{\"id\":\"e81c928a-48ac-44de-9759-fa69505ee921\",\"type\":\"GlyphRenderer\"}],\"title\":{\"id\":\"3438d283-593f-4013-9d70-d2cb9efd30e5\",\"type\":\"Title\"},\"tool_events\":{\"id\":\"59054a1b-db92-4b3e-8259-36dd42a81a1b\",\"type\":\"ToolEvents\"},\"toolbar\":{\"id\":\"034feb9b-1ac3-494f-9c6f-06ba63a61beb\",\"type\":\"Toolbar\"},\"width\":600,\"x_mapper_type\":\"auto\",\"x_range\":{\"id\":\"c9654fa3-4671-4f04-8349-5ffebbc8338e\",\"type\":\"Range1d\"},\"y_mapper_type\":\"auto\",\"y_range\":{\"id\":\"c9654fa3-4671-4f04-8349-5ffebbc8338e\",\"type\":\"Range1d\"}},\"id\":\"20480e17-9c6d-443c-8f7c-9e23a0997e67\",\"subtype\":\"Chart\",\"type\":\"Plot\"},{\"attributes\":{\"axis_label\":\"x\",\"formatter\":{\"id\":\"ae214402-a39c-409e-ad15-172f210ceede\",\"type\":\"BasicTickFormatter\"},\"plot\":{\"id\":\"20480e17-9c6d-443c-8f7c-9e23a0997e67\",\"subtype\":\"Chart\",\"type\":\"Plot\"},\"ticker\":{\"id\":\"6e1c0a6a-b3c6-4651-99b2-929ad7af1d67\",\"type\":\"BasicTicker\"}},\"id\":\"daa25ff1-8b69-40a6-88b7-1ab27b755613\",\"type\":\"LinearAxis\"},{\"attributes\":{\"plot\":{\"id\":\"20480e17-9c6d-443c-8f7c-9e23a0997e67\",\"subtype\":\"Chart\",\"type\":\"Plot\"}},\"id\":\"27b60547-5e51-4b3f-8c8a-49aa2df50703\",\"type\":\"WheelZoomTool\"},{\"attributes\":{\"overlay\":{\"id\":\"c4c87718-d026-4d6f-a0a1-9b8f27421170\",\"type\":\"BoxAnnotation\"},\"plot\":{\"id\":\"20480e17-9c6d-443c-8f7c-9e23a0997e67\",\"subtype\":\"Chart\",\"type\":\"Plot\"}},\"id\":\"1ff845cd-5ab1-43cd-a3fd-47b9c5170f1b\",\"type\":\"BoxZoomTool\"},{\"attributes\":{\"plot\":{\"id\":\"20480e17-9c6d-443c-8f7c-9e23a0997e67\",\"subtype\":\"Chart\",\"type\":\"Plot\"}},\"id\":\"95891a42-ddfc-41f0-8ebd-fa7656eef31d\",\"type\":\"SaveTool\"},{\"attributes\":{\"plot\":{\"id\":\"20480e17-9c6d-443c-8f7c-9e23a0997e67\",\"subtype\":\"Chart\",\"type\":\"Plot\"}},\"id\":\"9db83c6b-1a25-4cc1-9cd8-f5f9eb3f406f\",\"type\":\"ResetTool\"},{\"attributes\":{\"plot\":{\"id\":\"20480e17-9c6d-443c-8f7c-9e23a0997e67\",\"subtype\":\"Chart\",\"type\":\"Plot\"}},\"id\":\"1b309ba2-8ade-4c9d-96f2-15fb52b95cb2\",\"type\":\"HelpTool\"},{\"attributes\":{\"label\":{\"value\":\"Dropoff\"},\"renderers\":[{\"id\":\"35fc4660-a0ee-4e12-ad05-a14de2131577\",\"type\":\"GlyphRenderer\"}]},\"id\":\"7c8edc07-f16a-4918-981a-c8edd1832531\",\"type\":\"LegendItem\"},{\"attributes\":{},\"id\":\"6e1c0a6a-b3c6-4651-99b2-929ad7af1d67\",\"type\":\"BasicTicker\"},{\"attributes\":{\"callback\":null,\"column_names\":[\"x_values\",\"y_values\"],\"data\":{\"chart_index\":[{\"type\":\"Dropoff\"},{\"type\":\"Dropoff\"},{\"type\":\"Dropoff\"},{\"type\":\"Dropoff\"},{\"type\":\"Dropoff\"},{\"type\":\"Dropoff\"},{\"type\":\"Dropoff\"},{\"type\":\"Dropoff\"},{\"type\":\"Dropoff\"},{\"type\":\"Dropoff\"},{\"type\":\"Dropoff\"}],\"type\":[\"Dropoff\",\"Dropoff\",\"Dropoff\",\"Dropoff\",\"Dropoff\",\"Dropoff\",\"Dropoff\",\"Dropoff\",\"Dropoff\",\"Dropoff\",\"Dropoff\"],\"x_values\":{\"__ndarray__\":\"UtLoqOwWQUD62+2A/JJUQP5W0MZuoyNAjvwyUvQyVUDdkNEu7ytLQMCBK9/dmktAw18kkJ2fWED5fQKm1SEzQDxPTD/vlklA1xD6i1NTREDLCwosb/hRQA==\",\"dtype\":\"float64\",\"shape\":[11]},\"y_values\":{\"__ndarray__\":\"uphN/XwsU0Cdpcdnf7ZQQPirs0SeltU/h/xFNLTBVUDs4ziiJltYQJLEsFx5IjNA9hOil02QSUDALMYmHyENQH8Py0wYMEBAADG97NDkQ0Aee5iT4QkNQA==\",\"dtype\":\"float64\",\"shape\":[11]}}},\"id\":\"7e2f91fb-f47c-4baa-85ed-7bec889c04df\",\"type\":\"ColumnDataSource\"},{\"attributes\":{\"fill_alpha\":{\"value\":0.7},\"fill_color\":{\"value\":\"#5ab738\"},\"line_color\":{\"value\":\"#5ab738\"},\"size\":{\"units\":\"screen\",\"value\":8},\"x\":{\"field\":\"x_values\"},\"y\":{\"field\":\"y_values\"}},\"id\":\"610c40d6-ec88-4a1b-b6cf-5a5e2f33a894\",\"type\":\"Square\"},{\"attributes\":{\"callback\":null,\"column_names\":[\"x_values\",\"y_values\"],\"data\":{\"chart_index\":[{\"type\":\"Pedicab\"},{\"type\":\"Pedicab\"},{\"type\":\"Pedicab\"},{\"type\":\"Pedicab\"},{\"type\":\"Pedicab\"},{\"type\":\"Pedicab\"},{\"type\":\"Pedicab\"}],\"type\":[\"Pedicab\",\"Pedicab\",\"Pedicab\",\"Pedicab\",\"Pedicab\",\"Pedicab\",\"Pedicab\"],\"x_values\":{\"__ndarray__\":\"5uf5g3IdJkAGDwtmkQ5FQGkUcufs71ZAIWOnZvHkRUCAmUv6+OFUQLQlDseFRlNAHH5Za+BYQkA=\",\"dtype\":\"float64\",\"shape\":[7]},\"y_values\":{\"__ndarray__\":\"y68rkQk4UUCOADyfH5FIQEr0A8+C1UhARE1tU652TUCek+4r5odTQJXgjCP4JCdAFnuj4SS9UkA=\",\"dtype\":\"float64\",\"shape\":[7]}}},\"id\":\"ff3c9d54-1dcb-47cb-937b-69bf41f84ae2\",\"type\":\"ColumnDataSource\"}],\"root_ids\":[\"20480e17-9c6d-443c-8f7c-9e23a0997e67\"]},\"title\":\"Bokeh Application\",\"version\":\"0.12.4\"}};\n",
       "            var render_items = [{\"docid\":\"72ff51dd-d0a2-40e0-882c-6732732dad8d\",\"elementid\":\"b7cae09a-d1ba-48fe-8a94-25e6b5b88e55\",\"modelid\":\"20480e17-9c6d-443c-8f7c-9e23a0997e67\"}];\n",
       "            \n",
       "            Bokeh.embed.embed_items(docs_json, render_items);\n",
       "          };\n",
       "          if (document.readyState != \"loading\") fn();\n",
       "          else document.addEventListener(\"DOMContentLoaded\", fn);\n",
       "        })();\n",
       "      },\n",
       "      function(Bokeh) {\n",
       "      }\n",
       "    ];\n",
       "  \n",
       "    function run_inline_js() {\n",
       "      \n",
       "      if ((window.Bokeh !== undefined) || (force === true)) {\n",
       "        for (var i = 0; i < inline_js.length; i++) {\n",
       "          inline_js[i](window.Bokeh);\n",
       "        }if (force === true) {\n",
       "          display_loaded();\n",
       "        }} else if (Date.now() < window._bokeh_timeout) {\n",
       "        setTimeout(run_inline_js, 100);\n",
       "      } else if (!window._bokeh_failed_load) {\n",
       "        console.log(\"Bokeh: BokehJS failed to load within specified timeout.\");\n",
       "        window._bokeh_failed_load = true;\n",
       "      } else if (force !== true) {\n",
       "        var cell = $(document.getElementById(\"b7cae09a-d1ba-48fe-8a94-25e6b5b88e55\")).parents('.cell').data().cell;\n",
       "        cell.output_area.append_execute_result(NB_LOAD_WARNING)\n",
       "      }\n",
       "  \n",
       "    }\n",
       "  \n",
       "    if (window._bokeh_is_loading === 0) {\n",
       "      console.log(\"Bokeh: BokehJS loaded, going straight to plotting\");\n",
       "      run_inline_js();\n",
       "    } else {\n",
       "      load_libs(js_urls, function() {\n",
       "        console.log(\"Bokeh: BokehJS plotting callback run at\", now());\n",
       "        run_inline_js();\n",
       "      });\n",
       "    }\n",
       "  }(this));\n",
       "</script>"
      ]
     },
     "metadata": {},
     "output_type": "display_data"
    }
   ],
   "source": [
    "plot_routes()"
   ]
  },
  {
   "cell_type": "markdown",
   "metadata": {
    "slideshow": {
     "slide_type": "slide"
    }
   },
   "source": [
    "## Where to find more information\n",
    "\n",
    "* [Introduction to Operations Research](http://www.mheducation.com/highered/product/M1259162982.html) by Frederick S. Hillier and Gerald J. Lieberman\n",
    "* [Linear and Nonlinear Optimization](http://bookstore.siam.org/ot108/) by Igor Griva, Stephen G. Nash, and Ariela Softer\n",
    "* [Applied Integer Programming](http://www.wiley.com/WileyCDA/WileyTitle/productCd-0470373067.html) by Der-San Chen, Robert G. Batson, and Yu Dang\n",
    "* [Model Building in Mathematical Programming](http://www.wiley.com/WileyCDA/WileyTitle/productCd-1118443330.html) by H. Paul Williams"
   ]
  }
 ],
 "metadata": {
  "celltoolbar": "Slideshow",
  "kernelspec": {
   "display_name": "Python 3",
   "language": "python",
   "name": "python3"
  },
  "language_info": {
   "codemirror_mode": {
    "name": "ipython",
    "version": 3
   },
   "file_extension": ".py",
   "mimetype": "text/x-python",
   "name": "python",
   "nbconvert_exporter": "python",
   "pygments_lexer": "ipython3",
   "version": "3.6.0"
  }
 },
 "nbformat": 4,
 "nbformat_minor": 2
}
