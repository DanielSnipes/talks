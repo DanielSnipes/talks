{
 "cells": [
  {
   "cell_type": "markdown",
   "metadata": {
    "deletable": true,
    "editable": true,
    "slideshow": {
     "slide_type": "slide"
    }
   },
   "source": [
    "# Practical Optimization for Stats Nerds\n",
    "\n",
    "Ryan J. O'Neil  \n",
    "Data Science DC  \n",
    "March 20, 2017\n",
    "\n",
    "[ryanjoneil@gmail.com](mailto:ryanjoneil@gmail.com)  \n",
    "[https://ryanjoneil.github.io](https://ryanjoneil.github.io)  \n",
    "[@ryanjoneil](https://twitter.com/ryanjoneil)"
   ]
  },
  {
   "cell_type": "markdown",
   "metadata": {
    "deletable": true,
    "editable": true,
    "slideshow": {
     "slide_type": "subslide"
    }
   },
   "source": [
    "## What to expect\n",
    "  \n",
    "  \n",
    "* We'll take familiar models, show how they work from an optimization perspective, then show applications.  \n"
   ]
  },
  {
   "cell_type": "markdown",
   "metadata": {
    "deletable": true,
    "editable": true,
    "slideshow": {
     "slide_type": "fragment"
    }
   },
   "source": [
    "\n",
    "* This talk is (mostly) about model formulation.  \n",
    "  "
   ]
  },
  {
   "cell_type": "markdown",
   "metadata": {
    "deletable": true,
    "editable": true,
    "slideshow": {
     "slide_type": "fragment"
    }
   },
   "source": [
    "\n",
    "* It might get a little technical, so...  \n",
    "  "
   ]
  },
  {
   "cell_type": "markdown",
   "metadata": {
    "deletable": true,
    "editable": true,
    "slideshow": {
     "slide_type": "subslide"
    }
   },
   "source": [
    "## Take-aways\n",
    "  \n",
    "  \n",
    "* Many statistical techniques are based on some sort of optimization.\n",
    "  "
   ]
  },
  {
   "cell_type": "markdown",
   "metadata": {
    "deletable": true,
    "editable": true,
    "slideshow": {
     "slide_type": "fragment"
    }
   },
   "source": [
    "\n",
    "* Optimization has lots of uses, such as solving decision models.\n",
    "  "
   ]
  },
  {
   "cell_type": "markdown",
   "metadata": {
    "deletable": true,
    "editable": true,
    "slideshow": {
     "slide_type": "fragment"
    }
   },
   "source": [
    "\n",
    "* Learning to structure problems you already know for optimization solvers is a great way to understand them!\n"
   ]
  },
  {
   "cell_type": "markdown",
   "metadata": {
    "deletable": true,
    "editable": true,
    "slideshow": {
     "slide_type": "slide"
    }
   },
   "source": [
    "## Model 1: Least Squares\n",
    "\n",
    "We observe noisy data from an unknown function. We want to infer that function."
   ]
  },
  {
   "cell_type": "markdown",
   "metadata": {
    "deletable": true,
    "editable": true,
    "slideshow": {
     "slide_type": "subslide"
    }
   },
   "source": [
    "But let's assume that, deep down, we actually know the function. That way we can generate noisy data and see if our techniques work right.\n",
    "\n",
    "#### Function:\n",
    "$$y = 3x^2 - 2x + 10 + \\epsilon$$\n",
    "\n",
    "#### Noise:\n",
    "$$\\epsilon \\sim N\\left(0, 25\\right)$$"
   ]
  },
  {
   "cell_type": "code",
   "execution_count": 60,
   "metadata": {
    "collapsed": false,
    "deletable": true,
    "editable": true,
    "slideshow": {
     "slide_type": "subslide"
    }
   },
   "outputs": [],
   "source": [
    "# Generate some random data.\n",
    "import numpy as np\n",
    "import random\n",
    "\n",
    "# Sort the data so they're easier to plot later.\n",
    "x = [random.uniform(-10, 10) for _ in range(500)]\n",
    "x.sort()\n",
    "\n",
    "y = []\n",
    "for xi in x:\n",
    "    eps = random.normalvariate(0, 25)\n",
    "    yi = 3*xi**2 - 2*xi + 10 + eps\n",
    "    y.append(yi)\n",
    "    \n",
    "x = np.array(x)\n",
    "y = np.array(y)"
   ]
  },
  {
   "cell_type": "code",
   "execution_count": 61,
   "metadata": {
    "collapsed": false,
    "deletable": true,
    "editable": true,
    "scrolled": true,
    "slideshow": {
     "slide_type": "subslide"
    }
   },
   "outputs": [
    {
     "data": {
      "text/html": [
       "\n",
       "    <div class=\"bk-root\">\n",
       "        <a href=\"http://bokeh.pydata.org\" target=\"_blank\" class=\"bk-logo bk-logo-small bk-logo-notebook\"></a>\n",
       "        <span id=\"4a66c624-a6fe-42f1-b7c9-a4db90223983\">Loading BokehJS ...</span>\n",
       "    </div>"
      ]
     },
     "metadata": {},
     "output_type": "display_data"
    },
    {
     "data": {
      "application/javascript": [
       "\n",
       "(function(global) {\n",
       "  function now() {\n",
       "    return new Date();\n",
       "  }\n",
       "\n",
       "  var force = true;\n",
       "\n",
       "  if (typeof (window._bokeh_onload_callbacks) === \"undefined\" || force === true) {\n",
       "    window._bokeh_onload_callbacks = [];\n",
       "    window._bokeh_is_loading = undefined;\n",
       "  }\n",
       "\n",
       "\n",
       "  \n",
       "  if (typeof (window._bokeh_timeout) === \"undefined\" || force === true) {\n",
       "    window._bokeh_timeout = Date.now() + 5000;\n",
       "    window._bokeh_failed_load = false;\n",
       "  }\n",
       "\n",
       "  var NB_LOAD_WARNING = {'data': {'text/html':\n",
       "     \"<div style='background-color: #fdd'>\\n\"+\n",
       "     \"<p>\\n\"+\n",
       "     \"BokehJS does not appear to have successfully loaded. If loading BokehJS from CDN, this \\n\"+\n",
       "     \"may be due to a slow or bad network connection. Possible fixes:\\n\"+\n",
       "     \"</p>\\n\"+\n",
       "     \"<ul>\\n\"+\n",
       "     \"<li>re-rerun `output_notebook()` to attempt to load from CDN again, or</li>\\n\"+\n",
       "     \"<li>use INLINE resources instead, as so:</li>\\n\"+\n",
       "     \"</ul>\\n\"+\n",
       "     \"<code>\\n\"+\n",
       "     \"from bokeh.resources import INLINE\\n\"+\n",
       "     \"output_notebook(resources=INLINE)\\n\"+\n",
       "     \"</code>\\n\"+\n",
       "     \"</div>\"}};\n",
       "\n",
       "  function display_loaded() {\n",
       "    if (window.Bokeh !== undefined) {\n",
       "      document.getElementById(\"4a66c624-a6fe-42f1-b7c9-a4db90223983\").textContent = \"BokehJS successfully loaded.\";\n",
       "    } else if (Date.now() < window._bokeh_timeout) {\n",
       "      setTimeout(display_loaded, 100)\n",
       "    }\n",
       "  }\n",
       "\n",
       "  function run_callbacks() {\n",
       "    window._bokeh_onload_callbacks.forEach(function(callback) { callback() });\n",
       "    delete window._bokeh_onload_callbacks\n",
       "    console.info(\"Bokeh: all callbacks have finished\");\n",
       "  }\n",
       "\n",
       "  function load_libs(js_urls, callback) {\n",
       "    window._bokeh_onload_callbacks.push(callback);\n",
       "    if (window._bokeh_is_loading > 0) {\n",
       "      console.log(\"Bokeh: BokehJS is being loaded, scheduling callback at\", now());\n",
       "      return null;\n",
       "    }\n",
       "    if (js_urls == null || js_urls.length === 0) {\n",
       "      run_callbacks();\n",
       "      return null;\n",
       "    }\n",
       "    console.log(\"Bokeh: BokehJS not loaded, scheduling load and callback at\", now());\n",
       "    window._bokeh_is_loading = js_urls.length;\n",
       "    for (var i = 0; i < js_urls.length; i++) {\n",
       "      var url = js_urls[i];\n",
       "      var s = document.createElement('script');\n",
       "      s.src = url;\n",
       "      s.async = false;\n",
       "      s.onreadystatechange = s.onload = function() {\n",
       "        window._bokeh_is_loading--;\n",
       "        if (window._bokeh_is_loading === 0) {\n",
       "          console.log(\"Bokeh: all BokehJS libraries loaded\");\n",
       "          run_callbacks()\n",
       "        }\n",
       "      };\n",
       "      s.onerror = function() {\n",
       "        console.warn(\"failed to load library \" + url);\n",
       "      };\n",
       "      console.log(\"Bokeh: injecting script tag for BokehJS library: \", url);\n",
       "      document.getElementsByTagName(\"head\")[0].appendChild(s);\n",
       "    }\n",
       "  };var element = document.getElementById(\"4a66c624-a6fe-42f1-b7c9-a4db90223983\");\n",
       "  if (element == null) {\n",
       "    console.log(\"Bokeh: ERROR: autoload.js configured with elementid '4a66c624-a6fe-42f1-b7c9-a4db90223983' but no matching script tag was found. \")\n",
       "    return false;\n",
       "  }\n",
       "\n",
       "  var js_urls = [\"https://cdn.pydata.org/bokeh/release/bokeh-0.12.4.min.js\", \"https://cdn.pydata.org/bokeh/release/bokeh-widgets-0.12.4.min.js\"];\n",
       "\n",
       "  var inline_js = [\n",
       "    function(Bokeh) {\n",
       "      Bokeh.set_log_level(\"info\");\n",
       "    },\n",
       "    \n",
       "    function(Bokeh) {\n",
       "      \n",
       "      document.getElementById(\"4a66c624-a6fe-42f1-b7c9-a4db90223983\").textContent = \"BokehJS is loading...\";\n",
       "    },\n",
       "    function(Bokeh) {\n",
       "      console.log(\"Bokeh: injecting CSS: https://cdn.pydata.org/bokeh/release/bokeh-0.12.4.min.css\");\n",
       "      Bokeh.embed.inject_css(\"https://cdn.pydata.org/bokeh/release/bokeh-0.12.4.min.css\");\n",
       "      console.log(\"Bokeh: injecting CSS: https://cdn.pydata.org/bokeh/release/bokeh-widgets-0.12.4.min.css\");\n",
       "      Bokeh.embed.inject_css(\"https://cdn.pydata.org/bokeh/release/bokeh-widgets-0.12.4.min.css\");\n",
       "    }\n",
       "  ];\n",
       "\n",
       "  function run_inline_js() {\n",
       "    \n",
       "    if ((window.Bokeh !== undefined) || (force === true)) {\n",
       "      for (var i = 0; i < inline_js.length; i++) {\n",
       "        inline_js[i](window.Bokeh);\n",
       "      }if (force === true) {\n",
       "        display_loaded();\n",
       "      }} else if (Date.now() < window._bokeh_timeout) {\n",
       "      setTimeout(run_inline_js, 100);\n",
       "    } else if (!window._bokeh_failed_load) {\n",
       "      console.log(\"Bokeh: BokehJS failed to load within specified timeout.\");\n",
       "      window._bokeh_failed_load = true;\n",
       "    } else if (force !== true) {\n",
       "      var cell = $(document.getElementById(\"4a66c624-a6fe-42f1-b7c9-a4db90223983\")).parents('.cell').data().cell;\n",
       "      cell.output_area.append_execute_result(NB_LOAD_WARNING)\n",
       "    }\n",
       "\n",
       "  }\n",
       "\n",
       "  if (window._bokeh_is_loading === 0) {\n",
       "    console.log(\"Bokeh: BokehJS loaded, going straight to plotting\");\n",
       "    run_inline_js();\n",
       "  } else {\n",
       "    load_libs(js_urls, function() {\n",
       "      console.log(\"Bokeh: BokehJS plotting callback run at\", now());\n",
       "      run_inline_js();\n",
       "    });\n",
       "  }\n",
       "}(this));"
      ]
     },
     "metadata": {},
     "output_type": "display_data"
    },
    {
     "data": {
      "text/html": [
       "\n",
       "\n",
       "    <div class=\"bk-root\">\n",
       "        <div class=\"bk-plotdiv\" id=\"42acc710-0551-4675-ba12-210107e70257\"></div>\n",
       "    </div>\n",
       "<script type=\"text/javascript\">\n",
       "  \n",
       "  (function(global) {\n",
       "    function now() {\n",
       "      return new Date();\n",
       "    }\n",
       "  \n",
       "    var force = false;\n",
       "  \n",
       "    if (typeof (window._bokeh_onload_callbacks) === \"undefined\" || force === true) {\n",
       "      window._bokeh_onload_callbacks = [];\n",
       "      window._bokeh_is_loading = undefined;\n",
       "    }\n",
       "  \n",
       "  \n",
       "    \n",
       "    if (typeof (window._bokeh_timeout) === \"undefined\" || force === true) {\n",
       "      window._bokeh_timeout = Date.now() + 0;\n",
       "      window._bokeh_failed_load = false;\n",
       "    }\n",
       "  \n",
       "    var NB_LOAD_WARNING = {'data': {'text/html':\n",
       "       \"<div style='background-color: #fdd'>\\n\"+\n",
       "       \"<p>\\n\"+\n",
       "       \"BokehJS does not appear to have successfully loaded. If loading BokehJS from CDN, this \\n\"+\n",
       "       \"may be due to a slow or bad network connection. Possible fixes:\\n\"+\n",
       "       \"</p>\\n\"+\n",
       "       \"<ul>\\n\"+\n",
       "       \"<li>re-rerun `output_notebook()` to attempt to load from CDN again, or</li>\\n\"+\n",
       "       \"<li>use INLINE resources instead, as so:</li>\\n\"+\n",
       "       \"</ul>\\n\"+\n",
       "       \"<code>\\n\"+\n",
       "       \"from bokeh.resources import INLINE\\n\"+\n",
       "       \"output_notebook(resources=INLINE)\\n\"+\n",
       "       \"</code>\\n\"+\n",
       "       \"</div>\"}};\n",
       "  \n",
       "    function display_loaded() {\n",
       "      if (window.Bokeh !== undefined) {\n",
       "        document.getElementById(\"42acc710-0551-4675-ba12-210107e70257\").textContent = \"BokehJS successfully loaded.\";\n",
       "      } else if (Date.now() < window._bokeh_timeout) {\n",
       "        setTimeout(display_loaded, 100)\n",
       "      }\n",
       "    }\n",
       "  \n",
       "    function run_callbacks() {\n",
       "      window._bokeh_onload_callbacks.forEach(function(callback) { callback() });\n",
       "      delete window._bokeh_onload_callbacks\n",
       "      console.info(\"Bokeh: all callbacks have finished\");\n",
       "    }\n",
       "  \n",
       "    function load_libs(js_urls, callback) {\n",
       "      window._bokeh_onload_callbacks.push(callback);\n",
       "      if (window._bokeh_is_loading > 0) {\n",
       "        console.log(\"Bokeh: BokehJS is being loaded, scheduling callback at\", now());\n",
       "        return null;\n",
       "      }\n",
       "      if (js_urls == null || js_urls.length === 0) {\n",
       "        run_callbacks();\n",
       "        return null;\n",
       "      }\n",
       "      console.log(\"Bokeh: BokehJS not loaded, scheduling load and callback at\", now());\n",
       "      window._bokeh_is_loading = js_urls.length;\n",
       "      for (var i = 0; i < js_urls.length; i++) {\n",
       "        var url = js_urls[i];\n",
       "        var s = document.createElement('script');\n",
       "        s.src = url;\n",
       "        s.async = false;\n",
       "        s.onreadystatechange = s.onload = function() {\n",
       "          window._bokeh_is_loading--;\n",
       "          if (window._bokeh_is_loading === 0) {\n",
       "            console.log(\"Bokeh: all BokehJS libraries loaded\");\n",
       "            run_callbacks()\n",
       "          }\n",
       "        };\n",
       "        s.onerror = function() {\n",
       "          console.warn(\"failed to load library \" + url);\n",
       "        };\n",
       "        console.log(\"Bokeh: injecting script tag for BokehJS library: \", url);\n",
       "        document.getElementsByTagName(\"head\")[0].appendChild(s);\n",
       "      }\n",
       "    };var element = document.getElementById(\"42acc710-0551-4675-ba12-210107e70257\");\n",
       "    if (element == null) {\n",
       "      console.log(\"Bokeh: ERROR: autoload.js configured with elementid '42acc710-0551-4675-ba12-210107e70257' but no matching script tag was found. \")\n",
       "      return false;\n",
       "    }\n",
       "  \n",
       "    var js_urls = [];\n",
       "  \n",
       "    var inline_js = [\n",
       "      function(Bokeh) {\n",
       "        (function() {\n",
       "          var fn = function() {\n",
       "            var docs_json = {\"97483c4b-b2b9-4251-9d27-63c4262c83ae\":{\"roots\":{\"references\":[{\"attributes\":{\"axis_label\":\"y\",\"formatter\":{\"id\":\"01d205cb-6266-42f0-a0b7-5151d708567e\",\"type\":\"BasicTickFormatter\"},\"plot\":{\"id\":\"935d45af-5b42-424b-817b-72cb106b88e0\",\"subtype\":\"Chart\",\"type\":\"Plot\"},\"ticker\":{\"id\":\"5472e3e9-6008-49cb-97a8-027cdc145ca6\",\"type\":\"BasicTicker\"}},\"id\":\"4873fca2-0acf-430f-8d89-d8d214f7af13\",\"type\":\"LinearAxis\"},{\"attributes\":{\"below\":[{\"id\":\"62735c4a-ae97-440f-8421-65bf8120e84c\",\"type\":\"LinearAxis\"}],\"css_classes\":null,\"height\":400,\"left\":[{\"id\":\"4873fca2-0acf-430f-8d89-d8d214f7af13\",\"type\":\"LinearAxis\"}],\"renderers\":[{\"id\":\"cfc066f5-68a9-4632-8675-cde25a0ab079\",\"type\":\"BoxAnnotation\"},{\"id\":\"2d31119e-732a-4596-a729-c59996cf2335\",\"type\":\"GlyphRenderer\"},{\"id\":\"a4bec915-a03d-40e5-9871-9e155b7ec00b\",\"type\":\"Legend\"},{\"id\":\"62735c4a-ae97-440f-8421-65bf8120e84c\",\"type\":\"LinearAxis\"},{\"id\":\"4873fca2-0acf-430f-8d89-d8d214f7af13\",\"type\":\"LinearAxis\"},{\"id\":\"ccf9ab35-56ce-4989-8c13-fb44f2bb8c5a\",\"type\":\"Grid\"},{\"id\":\"360d5fc8-b311-4f2f-af72-25fa55bac82e\",\"type\":\"Grid\"}],\"title\":{\"id\":\"fd057635-3e3f-44d3-b419-55f32bb56b37\",\"type\":\"Title\"},\"tool_events\":{\"id\":\"44426d8f-e91b-474a-9bb2-265a056b0f26\",\"type\":\"ToolEvents\"},\"toolbar\":{\"id\":\"79119c19-58ab-4e9a-ac80-71538ab4bc10\",\"type\":\"Toolbar\"},\"width\":750,\"x_mapper_type\":\"auto\",\"x_range\":{\"id\":\"dc18e977-1f48-4372-8751-6a8fde1faa4d\",\"type\":\"Range1d\"},\"y_mapper_type\":\"auto\",\"y_range\":{\"id\":\"5017cf4b-3db5-4175-a9da-034050e845f7\",\"type\":\"Range1d\"}},\"id\":\"935d45af-5b42-424b-817b-72cb106b88e0\",\"subtype\":\"Chart\",\"type\":\"Plot\"},{\"attributes\":{\"axis_label\":\"x\",\"formatter\":{\"id\":\"342c3b5b-cac1-4f32-86de-57078c2ea2bd\",\"type\":\"BasicTickFormatter\"},\"plot\":{\"id\":\"935d45af-5b42-424b-817b-72cb106b88e0\",\"subtype\":\"Chart\",\"type\":\"Plot\"},\"ticker\":{\"id\":\"3240c66e-7df3-4b42-bd8b-4e5d8573c48d\",\"type\":\"BasicTicker\"}},\"id\":\"62735c4a-ae97-440f-8421-65bf8120e84c\",\"type\":\"LinearAxis\"},{\"attributes\":{\"plot\":{\"id\":\"935d45af-5b42-424b-817b-72cb106b88e0\",\"subtype\":\"Chart\",\"type\":\"Plot\"}},\"id\":\"76dd34fe-3c96-4d2a-8835-7f37e80cae4f\",\"type\":\"PanTool\"},{\"attributes\":{},\"id\":\"3240c66e-7df3-4b42-bd8b-4e5d8573c48d\",\"type\":\"BasicTicker\"},{\"attributes\":{\"bottom_units\":\"screen\",\"fill_alpha\":{\"value\":0.5},\"fill_color\":{\"value\":\"lightgrey\"},\"left_units\":\"screen\",\"level\":\"overlay\",\"line_alpha\":{\"value\":1.0},\"line_color\":{\"value\":\"black\"},\"line_dash\":[4,4],\"line_width\":{\"value\":2},\"plot\":null,\"render_mode\":\"css\",\"right_units\":\"screen\",\"top_units\":\"screen\"},\"id\":\"cfc066f5-68a9-4632-8675-cde25a0ab079\",\"type\":\"BoxAnnotation\"},{\"attributes\":{\"active_drag\":\"auto\",\"active_scroll\":\"auto\",\"active_tap\":\"auto\",\"tools\":[{\"id\":\"76dd34fe-3c96-4d2a-8835-7f37e80cae4f\",\"type\":\"PanTool\"},{\"id\":\"14cc426d-40b1-4d69-8df7-0d6aacbd1717\",\"type\":\"WheelZoomTool\"},{\"id\":\"cf7b3b5a-17cb-43b9-812a-7aedcd1b1771\",\"type\":\"BoxZoomTool\"},{\"id\":\"2b0d2189-13bb-45a3-ad4e-0ae7f55314db\",\"type\":\"SaveTool\"},{\"id\":\"08896da8-9b5f-4e3b-b466-eec8078ad5ae\",\"type\":\"ResetTool\"},{\"id\":\"407b2c43-1fd0-446d-8906-2321a9f07e95\",\"type\":\"HelpTool\"}]},\"id\":\"79119c19-58ab-4e9a-ac80-71538ab4bc10\",\"type\":\"Toolbar\"},{\"attributes\":{\"plot\":null,\"text\":null},\"id\":\"fd057635-3e3f-44d3-b419-55f32bb56b37\",\"type\":\"Title\"},{\"attributes\":{\"plot\":{\"id\":\"935d45af-5b42-424b-817b-72cb106b88e0\",\"subtype\":\"Chart\",\"type\":\"Plot\"},\"ticker\":{\"id\":\"3240c66e-7df3-4b42-bd8b-4e5d8573c48d\",\"type\":\"BasicTicker\"}},\"id\":\"ccf9ab35-56ce-4989-8c13-fb44f2bb8c5a\",\"type\":\"Grid\"},{\"attributes\":{\"plot\":{\"id\":\"935d45af-5b42-424b-817b-72cb106b88e0\",\"subtype\":\"Chart\",\"type\":\"Plot\"}},\"id\":\"407b2c43-1fd0-446d-8906-2321a9f07e95\",\"type\":\"HelpTool\"},{\"attributes\":{\"callback\":null,\"column_names\":[\"x_values\",\"y_values\"],\"data\":{\"chart_index\":[null,null,null,null,null,null,null,null,null,null,null,null,null,null,null,null,null,null,null,null,null,null,null,null,null,null,null,null,null,null,null,null,null,null,null,null,null,null,null,null,null,null,null,null,null,null,null,null,null,null,null,null,null,null,null,null,null,null,null,null,null,null,null,null,null,null,null,null,null,null,null,null,null,null,null,null,null,null,null,null,null,null,null,null,null,null,null,null,null,null,null,null,null,null,null,null,null,null,null,null,null,null,null,null,null,null,null,null,null,null,null,null,null,null,null,null,null,null,null,null,null,null,null,null,null,null,null,null,null,null,null,null,null,null,null,null,null,null,null,null,null,null,null,null,null,null,null,null,null,null,null,null,null,null,null,null,null,null,null,null,null,null,null,null,null,null,null,null,null,null,null,null,null,null,null,null,null,null,null,null,null,null,null,null,null,null,null,null,null,null,null,null,null,null,null,null,null,null,null,null,null,null,null,null,null,null,null,null,null,null,null,null,null,null,null,null,null,null,null,null,null,null,null,null,null,null,null,null,null,null,null,null,null,null,null,null,null,null,null,null,null,null,null,null,null,null,null,null,null,null,null,null,null,null,null,null,null,null,null,null,null,null,null,null,null,null,null,null,null,null,null,null,null,null,null,null,null,null,null,null,null,null,null,null,null,null,null,null,null,null,null,null,null,null,null,null,null,null,null,null,null,null,null,null,null,null,null,null,null,null,null,null,null,null,null,null,null,null,null,null,null,null,null,null,null,null,null,null,null,null,null,null,null,null,null,null,null,null,null,null,null,null,null,null,null,null,null,null,null,null,null,null,null,null,null,null,null,null,null,null,null,null,null,null,null,null,null,null,null,null,null,null,null,null,null,null,null,null,null,null,null,null,null,null,null,null,null,null,null,null,null,null,null,null,null,null,null,null,null,null,null,null,null,null,null,null,null,null,null,null,null,null,null,null,null,null,null,null,null,null,null,null,null,null,null,null,null,null,null,null,null,null,null,null,null,null,null,null,null,null,null,null,null,null,null,null,null,null,null,null,null,null,null,null,null,null,null,null,null,null,null,null,null,null,null,null,null,null,null,null,null,null,null,null,null,null,null,null,null,null,null,null,null,null,null,null,null,null,null,null,null,null,null,null,null,null,null,null,null,null],\"x_values\":{\"__ndarray__\":\"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\",\"dtype\":\"float64\",\"shape\":[500]},\"y_values\":{\"__ndarray__\":\"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\",\"dtype\":\"float64\",\"shape\":[500]}}},\"id\":\"a0ced0ba-76de-42b6-8081-1f7cdd6a09db\",\"type\":\"ColumnDataSource\"},{\"attributes\":{\"overlay\":{\"id\":\"cfc066f5-68a9-4632-8675-cde25a0ab079\",\"type\":\"BoxAnnotation\"},\"plot\":{\"id\":\"935d45af-5b42-424b-817b-72cb106b88e0\",\"subtype\":\"Chart\",\"type\":\"Plot\"}},\"id\":\"cf7b3b5a-17cb-43b9-812a-7aedcd1b1771\",\"type\":\"BoxZoomTool\"},{\"attributes\":{},\"id\":\"5472e3e9-6008-49cb-97a8-027cdc145ca6\",\"type\":\"BasicTicker\"},{\"attributes\":{\"fill_alpha\":{\"value\":0.7},\"fill_color\":{\"value\":\"#f22c40\"},\"line_color\":{\"value\":\"#f22c40\"},\"size\":{\"units\":\"screen\",\"value\":8},\"x\":{\"field\":\"x_values\"},\"y\":{\"field\":\"y_values\"}},\"id\":\"47e97e7b-4dcf-4443-8e67-6abaf644af2f\",\"type\":\"Circle\"},{\"attributes\":{\"callback\":null,\"end\":386.68507371141095,\"start\":-87.58064607687608},\"id\":\"5017cf4b-3db5-4175-a9da-034050e845f7\",\"type\":\"Range1d\"},{\"attributes\":{\"dimension\":1,\"plot\":{\"id\":\"935d45af-5b42-424b-817b-72cb106b88e0\",\"subtype\":\"Chart\",\"type\":\"Plot\"},\"ticker\":{\"id\":\"5472e3e9-6008-49cb-97a8-027cdc145ca6\",\"type\":\"BasicTicker\"}},\"id\":\"360d5fc8-b311-4f2f-af72-25fa55bac82e\",\"type\":\"Grid\"},{\"attributes\":{\"location\":\"top_left\",\"plot\":{\"id\":\"935d45af-5b42-424b-817b-72cb106b88e0\",\"subtype\":\"Chart\",\"type\":\"Plot\"}},\"id\":\"a4bec915-a03d-40e5-9871-9e155b7ec00b\",\"type\":\"Legend\"},{\"attributes\":{\"data_source\":{\"id\":\"a0ced0ba-76de-42b6-8081-1f7cdd6a09db\",\"type\":\"ColumnDataSource\"},\"glyph\":{\"id\":\"47e97e7b-4dcf-4443-8e67-6abaf644af2f\",\"type\":\"Circle\"},\"hover_glyph\":null,\"nonselection_glyph\":null,\"selection_glyph\":null},\"id\":\"2d31119e-732a-4596-a729-c59996cf2335\",\"type\":\"GlyphRenderer\"},{\"attributes\":{},\"id\":\"44426d8f-e91b-474a-9bb2-265a056b0f26\",\"type\":\"ToolEvents\"},{\"attributes\":{},\"id\":\"342c3b5b-cac1-4f32-86de-57078c2ea2bd\",\"type\":\"BasicTickFormatter\"},{\"attributes\":{\"callback\":null,\"end\":11.962327363597893,\"start\":-11.922594268640811},\"id\":\"dc18e977-1f48-4372-8751-6a8fde1faa4d\",\"type\":\"Range1d\"},{\"attributes\":{},\"id\":\"01d205cb-6266-42f0-a0b7-5151d708567e\",\"type\":\"BasicTickFormatter\"},{\"attributes\":{\"plot\":{\"id\":\"935d45af-5b42-424b-817b-72cb106b88e0\",\"subtype\":\"Chart\",\"type\":\"Plot\"}},\"id\":\"08896da8-9b5f-4e3b-b466-eec8078ad5ae\",\"type\":\"ResetTool\"},{\"attributes\":{\"plot\":{\"id\":\"935d45af-5b42-424b-817b-72cb106b88e0\",\"subtype\":\"Chart\",\"type\":\"Plot\"}},\"id\":\"2b0d2189-13bb-45a3-ad4e-0ae7f55314db\",\"type\":\"SaveTool\"},{\"attributes\":{\"plot\":{\"id\":\"935d45af-5b42-424b-817b-72cb106b88e0\",\"subtype\":\"Chart\",\"type\":\"Plot\"}},\"id\":\"14cc426d-40b1-4d69-8df7-0d6aacbd1717\",\"type\":\"WheelZoomTool\"}],\"root_ids\":[\"935d45af-5b42-424b-817b-72cb106b88e0\"]},\"title\":\"Bokeh Application\",\"version\":\"0.12.4\"}};\n",
       "            var render_items = [{\"docid\":\"97483c4b-b2b9-4251-9d27-63c4262c83ae\",\"elementid\":\"42acc710-0551-4675-ba12-210107e70257\",\"modelid\":\"935d45af-5b42-424b-817b-72cb106b88e0\"}];\n",
       "            \n",
       "            Bokeh.embed.embed_items(docs_json, render_items);\n",
       "          };\n",
       "          if (document.readyState != \"loading\") fn();\n",
       "          else document.addEventListener(\"DOMContentLoaded\", fn);\n",
       "        })();\n",
       "      },\n",
       "      function(Bokeh) {\n",
       "      }\n",
       "    ];\n",
       "  \n",
       "    function run_inline_js() {\n",
       "      \n",
       "      if ((window.Bokeh !== undefined) || (force === true)) {\n",
       "        for (var i = 0; i < inline_js.length; i++) {\n",
       "          inline_js[i](window.Bokeh);\n",
       "        }if (force === true) {\n",
       "          display_loaded();\n",
       "        }} else if (Date.now() < window._bokeh_timeout) {\n",
       "        setTimeout(run_inline_js, 100);\n",
       "      } else if (!window._bokeh_failed_load) {\n",
       "        console.log(\"Bokeh: BokehJS failed to load within specified timeout.\");\n",
       "        window._bokeh_failed_load = true;\n",
       "      } else if (force !== true) {\n",
       "        var cell = $(document.getElementById(\"42acc710-0551-4675-ba12-210107e70257\")).parents('.cell').data().cell;\n",
       "        cell.output_area.append_execute_result(NB_LOAD_WARNING)\n",
       "      }\n",
       "  \n",
       "    }\n",
       "  \n",
       "    if (window._bokeh_is_loading === 0) {\n",
       "      console.log(\"Bokeh: BokehJS loaded, going straight to plotting\");\n",
       "      run_inline_js();\n",
       "    } else {\n",
       "      load_libs(js_urls, function() {\n",
       "        console.log(\"Bokeh: BokehJS plotting callback run at\", now());\n",
       "        run_inline_js();\n",
       "      });\n",
       "    }\n",
       "  }(this));\n",
       "</script>"
      ]
     },
     "metadata": {},
     "output_type": "display_data"
    }
   ],
   "source": [
    "from bokeh.charts import Scatter, output_notebook, show\n",
    "output_notebook()\n",
    "\n",
    "scatter = Scatter({'x': x, 'y': y}, width=750, height=400)\n",
    "show(scatter)"
   ]
  },
  {
   "cell_type": "markdown",
   "metadata": {
    "deletable": true,
    "editable": true,
    "slideshow": {
     "slide_type": "slide"
    }
   },
   "source": [
    "### Least Squares the way _you_ do it...\n",
    "\n",
    "...assuming you use `scikit-learn` like every other sane Python programmer."
   ]
  },
  {
   "cell_type": "markdown",
   "metadata": {
    "deletable": true,
    "editable": true,
    "slideshow": {
     "slide_type": "subslide"
    }
   },
   "source": [
    "We looked at a chart of our data and decided to describe it with:\n",
    "\n",
    "* A quadratic term  \n",
    "* A linear term\n",
    "* An offset"
   ]
  },
  {
   "cell_type": "code",
   "execution_count": 62,
   "metadata": {
    "collapsed": false,
    "deletable": true,
    "editable": true,
    "slideshow": {
     "slide_type": "subslide"
    }
   },
   "outputs": [
    {
     "name": "stdout",
     "output_type": "stream",
     "text": [
      "[ 2.99459337 -1.86434284  9.50423425]\n"
     ]
    }
   ],
   "source": [
    "from sklearn.linear_model import LinearRegression\n",
    "\n",
    "# Note: A is our feature matrix.\n",
    "#       We intentionally add a \"1\" for the offset, instead of letting \n",
    "#       sklearn do that for us. This will make sense soon.\n",
    "\n",
    "X = np.array([[xi**2, xi, 1] for xi in x])\n",
    "\n",
    "lin = LinearRegression(fit_intercept=False)\n",
    "lin.fit(X, y)\n",
    "\n",
    "print(lin.coef_)"
   ]
  },
  {
   "cell_type": "markdown",
   "metadata": {
    "deletable": true,
    "editable": true,
    "slideshow": {
     "slide_type": "subslide"
    }
   },
   "source": [
    "How'd we do?"
   ]
  },
  {
   "cell_type": "code",
   "execution_count": 63,
   "metadata": {
    "collapsed": false,
    "deletable": true,
    "editable": true,
    "slideshow": {
     "slide_type": "-"
    }
   },
   "outputs": [
    {
     "data": {
      "text/html": [
       "\n",
       "\n",
       "    <div class=\"bk-root\">\n",
       "        <div class=\"bk-plotdiv\" id=\"a308dc9f-1e16-4b40-a661-30845e60db96\"></div>\n",
       "    </div>\n",
       "<script type=\"text/javascript\">\n",
       "  \n",
       "  (function(global) {\n",
       "    function now() {\n",
       "      return new Date();\n",
       "    }\n",
       "  \n",
       "    var force = false;\n",
       "  \n",
       "    if (typeof (window._bokeh_onload_callbacks) === \"undefined\" || force === true) {\n",
       "      window._bokeh_onload_callbacks = [];\n",
       "      window._bokeh_is_loading = undefined;\n",
       "    }\n",
       "  \n",
       "  \n",
       "    \n",
       "    if (typeof (window._bokeh_timeout) === \"undefined\" || force === true) {\n",
       "      window._bokeh_timeout = Date.now() + 0;\n",
       "      window._bokeh_failed_load = false;\n",
       "    }\n",
       "  \n",
       "    var NB_LOAD_WARNING = {'data': {'text/html':\n",
       "       \"<div style='background-color: #fdd'>\\n\"+\n",
       "       \"<p>\\n\"+\n",
       "       \"BokehJS does not appear to have successfully loaded. If loading BokehJS from CDN, this \\n\"+\n",
       "       \"may be due to a slow or bad network connection. Possible fixes:\\n\"+\n",
       "       \"</p>\\n\"+\n",
       "       \"<ul>\\n\"+\n",
       "       \"<li>re-rerun `output_notebook()` to attempt to load from CDN again, or</li>\\n\"+\n",
       "       \"<li>use INLINE resources instead, as so:</li>\\n\"+\n",
       "       \"</ul>\\n\"+\n",
       "       \"<code>\\n\"+\n",
       "       \"from bokeh.resources import INLINE\\n\"+\n",
       "       \"output_notebook(resources=INLINE)\\n\"+\n",
       "       \"</code>\\n\"+\n",
       "       \"</div>\"}};\n",
       "  \n",
       "    function display_loaded() {\n",
       "      if (window.Bokeh !== undefined) {\n",
       "        document.getElementById(\"a308dc9f-1e16-4b40-a661-30845e60db96\").textContent = \"BokehJS successfully loaded.\";\n",
       "      } else if (Date.now() < window._bokeh_timeout) {\n",
       "        setTimeout(display_loaded, 100)\n",
       "      }\n",
       "    }\n",
       "  \n",
       "    function run_callbacks() {\n",
       "      window._bokeh_onload_callbacks.forEach(function(callback) { callback() });\n",
       "      delete window._bokeh_onload_callbacks\n",
       "      console.info(\"Bokeh: all callbacks have finished\");\n",
       "    }\n",
       "  \n",
       "    function load_libs(js_urls, callback) {\n",
       "      window._bokeh_onload_callbacks.push(callback);\n",
       "      if (window._bokeh_is_loading > 0) {\n",
       "        console.log(\"Bokeh: BokehJS is being loaded, scheduling callback at\", now());\n",
       "        return null;\n",
       "      }\n",
       "      if (js_urls == null || js_urls.length === 0) {\n",
       "        run_callbacks();\n",
       "        return null;\n",
       "      }\n",
       "      console.log(\"Bokeh: BokehJS not loaded, scheduling load and callback at\", now());\n",
       "      window._bokeh_is_loading = js_urls.length;\n",
       "      for (var i = 0; i < js_urls.length; i++) {\n",
       "        var url = js_urls[i];\n",
       "        var s = document.createElement('script');\n",
       "        s.src = url;\n",
       "        s.async = false;\n",
       "        s.onreadystatechange = s.onload = function() {\n",
       "          window._bokeh_is_loading--;\n",
       "          if (window._bokeh_is_loading === 0) {\n",
       "            console.log(\"Bokeh: all BokehJS libraries loaded\");\n",
       "            run_callbacks()\n",
       "          }\n",
       "        };\n",
       "        s.onerror = function() {\n",
       "          console.warn(\"failed to load library \" + url);\n",
       "        };\n",
       "        console.log(\"Bokeh: injecting script tag for BokehJS library: \", url);\n",
       "        document.getElementsByTagName(\"head\")[0].appendChild(s);\n",
       "      }\n",
       "    };var element = document.getElementById(\"a308dc9f-1e16-4b40-a661-30845e60db96\");\n",
       "    if (element == null) {\n",
       "      console.log(\"Bokeh: ERROR: autoload.js configured with elementid 'a308dc9f-1e16-4b40-a661-30845e60db96' but no matching script tag was found. \")\n",
       "      return false;\n",
       "    }\n",
       "  \n",
       "    var js_urls = [];\n",
       "  \n",
       "    var inline_js = [\n",
       "      function(Bokeh) {\n",
       "        (function() {\n",
       "          var fn = function() {\n",
       "            var docs_json = {\"7b794e07-8c2e-47b6-b597-a03be598ec7e\":{\"roots\":{\"references\":[{\"attributes\":{\"overlay\":{\"id\":\"f4a2b8c4-539b-48d1-9429-a1f52af3bfb5\",\"type\":\"BoxAnnotation\"},\"plot\":{\"id\":\"c9d42bbc-2ff0-4664-9e3f-f741b9880b0a\",\"subtype\":\"Chart\",\"type\":\"Plot\"}},\"id\":\"40d3ed2f-608a-407b-9e95-4f7a9bf11144\",\"type\":\"BoxZoomTool\"},{\"attributes\":{\"plot\":{\"id\":\"c9d42bbc-2ff0-4664-9e3f-f741b9880b0a\",\"subtype\":\"Chart\",\"type\":\"Plot\"},\"ticker\":{\"id\":\"d6352a09-e5ab-412c-a9b4-35ef15db5ca5\",\"type\":\"BasicTicker\"}},\"id\":\"2407c9f8-e32b-45a3-80bb-5233fd59e50a\",\"type\":\"Grid\"},{\"attributes\":{\"axis_label\":\"y\",\"formatter\":{\"id\":\"7bb0bf52-ce22-487f-8dd9-1786791a3e04\",\"type\":\"BasicTickFormatter\"},\"plot\":{\"id\":\"c9d42bbc-2ff0-4664-9e3f-f741b9880b0a\",\"subtype\":\"Chart\",\"type\":\"Plot\"},\"ticker\":{\"id\":\"aae4f37d-c0e6-43f3-972e-ba9ffadae62c\",\"type\":\"BasicTicker\"}},\"id\":\"87d22eba-5996-4189-bbf5-2b54c08666f2\",\"type\":\"LinearAxis\"},{\"attributes\":{},\"id\":\"aae4f37d-c0e6-43f3-972e-ba9ffadae62c\",\"type\":\"BasicTicker\"},{\"attributes\":{\"axis_label\":\"x\",\"formatter\":{\"id\":\"9abd68c4-a199-430d-92b8-68303dd15ef7\",\"type\":\"BasicTickFormatter\"},\"plot\":{\"id\":\"c9d42bbc-2ff0-4664-9e3f-f741b9880b0a\",\"subtype\":\"Chart\",\"type\":\"Plot\"},\"ticker\":{\"id\":\"d6352a09-e5ab-412c-a9b4-35ef15db5ca5\",\"type\":\"BasicTicker\"}},\"id\":\"caeafea8-11c3-4a43-b17f-49acc29b66c2\",\"type\":\"LinearAxis\"},{\"attributes\":{},\"id\":\"7bb0bf52-ce22-487f-8dd9-1786791a3e04\",\"type\":\"BasicTickFormatter\"},{\"attributes\":{},\"id\":\"9abd68c4-a199-430d-92b8-68303dd15ef7\",\"type\":\"BasicTickFormatter\"},{\"attributes\":{\"dimension\":1,\"plot\":{\"id\":\"c9d42bbc-2ff0-4664-9e3f-f741b9880b0a\",\"subtype\":\"Chart\",\"type\":\"Plot\"},\"ticker\":{\"id\":\"aae4f37d-c0e6-43f3-972e-ba9ffadae62c\",\"type\":\"BasicTicker\"}},\"id\":\"1aab9c81-8b54-4411-81a6-1f928b79aeba\",\"type\":\"Grid\"},{\"attributes\":{\"location\":\"top_left\",\"plot\":{\"id\":\"c9d42bbc-2ff0-4664-9e3f-f741b9880b0a\",\"subtype\":\"Chart\",\"type\":\"Plot\"}},\"id\":\"9dd005f4-2226-4dfb-a148-4483f0e2d24c\",\"type\":\"Legend\"},{\"attributes\":{\"data_source\":{\"id\":\"d52e842f-c64c-4406-97ec-8e6bb6dde7c4\",\"type\":\"ColumnDataSource\"},\"glyph\":{\"id\":\"770dda09-e4d2-4fa1-955c-e2ef7b3c014b\",\"type\":\"Line\"},\"hover_glyph\":null,\"nonselection_glyph\":null,\"selection_glyph\":null},\"id\":\"16a384bd-f363-4ccb-bdab-8694ff3c3728\",\"type\":\"GlyphRenderer\"},{\"attributes\":{\"below\":[{\"id\":\"caeafea8-11c3-4a43-b17f-49acc29b66c2\",\"type\":\"LinearAxis\"}],\"css_classes\":null,\"height\":400,\"left\":[{\"id\":\"87d22eba-5996-4189-bbf5-2b54c08666f2\",\"type\":\"LinearAxis\"}],\"renderers\":[{\"id\":\"f4a2b8c4-539b-48d1-9429-a1f52af3bfb5\",\"type\":\"BoxAnnotation\"},{\"id\":\"16a384bd-f363-4ccb-bdab-8694ff3c3728\",\"type\":\"GlyphRenderer\"},{\"id\":\"9dd005f4-2226-4dfb-a148-4483f0e2d24c\",\"type\":\"Legend\"},{\"id\":\"caeafea8-11c3-4a43-b17f-49acc29b66c2\",\"type\":\"LinearAxis\"},{\"id\":\"87d22eba-5996-4189-bbf5-2b54c08666f2\",\"type\":\"LinearAxis\"},{\"id\":\"2407c9f8-e32b-45a3-80bb-5233fd59e50a\",\"type\":\"Grid\"},{\"id\":\"1aab9c81-8b54-4411-81a6-1f928b79aeba\",\"type\":\"Grid\"}],\"title\":{\"id\":\"de6020e9-5b56-40ed-9ab1-0b826455f0e3\",\"type\":\"Title\"},\"tool_events\":{\"id\":\"dcc1e1a7-8d5e-40b5-8f73-36b5da24656f\",\"type\":\"ToolEvents\"},\"toolbar\":{\"id\":\"b1f67407-bf39-49ad-9d44-1d94024650d7\",\"type\":\"Toolbar\"},\"width\":750,\"x_mapper_type\":\"auto\",\"x_range\":{\"id\":\"e1453ecb-a17d-4d58-8cb3-2faf98d77dde\",\"type\":\"Range1d\"},\"y_mapper_type\":\"auto\",\"y_range\":{\"id\":\"1e131ea8-793a-4a4b-97b4-6833a4e567e9\",\"type\":\"Range1d\"}},\"id\":\"c9d42bbc-2ff0-4664-9e3f-f741b9880b0a\",\"subtype\":\"Chart\",\"type\":\"Plot\"},{\"attributes\":{\"plot\":{\"id\":\"c9d42bbc-2ff0-4664-9e3f-f741b9880b0a\",\"subtype\":\"Chart\",\"type\":\"Plot\"}},\"id\":\"fb18de99-20c4-42a1-a388-ca15214df849\",\"type\":\"ResetTool\"},{\"attributes\":{},\"id\":\"dcc1e1a7-8d5e-40b5-8f73-36b5da24656f\",\"type\":\"ToolEvents\"},{\"attributes\":{\"callback\":null,\"end\":354.8545439254506,\"start\":-22.207337962424376},\"id\":\"1e131ea8-793a-4a4b-97b4-6833a4e567e9\",\"type\":\"Range1d\"},{\"attributes\":{},\"id\":\"d6352a09-e5ab-412c-a9b4-35ef15db5ca5\",\"type\":\"BasicTicker\"},{\"attributes\":{\"bottom_units\":\"screen\",\"fill_alpha\":{\"value\":0.5},\"fill_color\":{\"value\":\"lightgrey\"},\"left_units\":\"screen\",\"level\":\"overlay\",\"line_alpha\":{\"value\":1.0},\"line_color\":{\"value\":\"black\"},\"line_dash\":[4,4],\"line_width\":{\"value\":2},\"plot\":null,\"render_mode\":\"css\",\"right_units\":\"screen\",\"top_units\":\"screen\"},\"id\":\"f4a2b8c4-539b-48d1-9429-a1f52af3bfb5\",\"type\":\"BoxAnnotation\"},{\"attributes\":{\"plot\":{\"id\":\"c9d42bbc-2ff0-4664-9e3f-f741b9880b0a\",\"subtype\":\"Chart\",\"type\":\"Plot\"}},\"id\":\"c834d231-7fdd-4e48-88ab-d651aafa89b4\",\"type\":\"PanTool\"},{\"attributes\":{\"plot\":null,\"text\":null},\"id\":\"de6020e9-5b56-40ed-9ab1-0b826455f0e3\",\"type\":\"Title\"},{\"attributes\":{\"plot\":{\"id\":\"c9d42bbc-2ff0-4664-9e3f-f741b9880b0a\",\"subtype\":\"Chart\",\"type\":\"Plot\"}},\"id\":\"bb2714d1-5b47-459f-8a14-1af2cb38b7ef\",\"type\":\"SaveTool\"},{\"attributes\":{\"plot\":{\"id\":\"c9d42bbc-2ff0-4664-9e3f-f741b9880b0a\",\"subtype\":\"Chart\",\"type\":\"Plot\"}},\"id\":\"5566b9bd-c1f9-4979-a05a-1be81ccaa4c2\",\"type\":\"HelpTool\"},{\"attributes\":{\"callback\":null,\"column_names\":[\"x_values\",\"y_values\"],\"data\":{\"chart_index\":[null,null,null,null,null,null,null,null,null,null,null,null,null,null,null,null,null,null,null,null,null,null,null,null,null,null,null,null,null,null,null,null,null,null,null,null,null,null,null,null,null,null,null,null,null,null,null,null,null,null,null,null,null,null,null,null,null,null,null,null,null,null,null,null,null,null,null,null,null,null,null,null,null,null,null,null,null,null,null,null,null,null,null,null,null,null,null,null,null,null,null,null,null,null,null,null,null,null,null,null,null,null,null,null,null,null,null,null,null,null,null,null,null,null,null,null,null,null,null,null,null,null,null,null,null,null,null,null,null,null,null,null,null,null,null,null,null,null,null,null,null,null,null,null,null,null,null,null,null,null,null,null,null,null,null,null,null,null,null,null,null,null,null,null,null,null,null,null,null,null,null,null,null,null,null,null,null,null,null,null,null,null,null,null,null,null,null,null,null,null,null,null,null,null,null,null,null,null,null,null,null,null,null,null,null,null,null,null,null,null,null,null,null,null,null,null,null,null,null,null,null,null,null,null,null,null,null,null,null,null,null,null,null,null,null,null,null,null,null,null,null,null,null,null,null,null,null,null,null,null,null,null,null,null,null,null,null,null,null,null,null,null,null,null,null,null,null,null,null,null,null,null,null,null,null,null,null,null,null,null,null,null,null,null,null,null,null,null,null,null,null,null,null,null,null,null,null,null,null,null,null,null,null,null,null,null,null,null,null,null,null,null,null,null,null,null,null,null,null,null,null,null,null,null,null,null,null,null,null,null,null,null,null,null,null,null,null,null,null,null,null,null,null,null,null,null,null,null,null,null,null,null,null,null,null,null,null,null,null,null,null,null,null,null,null,null,null,null,null,null,null,null,null,null,null,null,null,null,null,null,null,null,null,null,null,null,null,null,null,null,null,null,null,null,null,null,null,null,null,null,null,null,null,null,null,null,null,null,null,null,null,null,null,null,null,null,null,null,null,null,null,null,null,null,null,null,null,null,null,null,null,null,null,null,null,null,null,null,null,null,null,null,null,null,null,null,null,null,null,null,null,null,null,null,null,null,null,null,null,null,null,null,null,null,null,null,null,null,null,null,null,null,null,null,null,null,null,null,null,null,null,null,null,null,null,null,null,null,null,null,null,null,null,null,null,null,null,null,null,null],\"x_values\":{\"__ndarray__\":\"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\",\"dtype\":\"float64\",\"shape\":[500]},\"y_values\":{\"__ndarray__\":\"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\",\"dtype\":\"float64\",\"shape\":[500]}}},\"id\":\"d52e842f-c64c-4406-97ec-8e6bb6dde7c4\",\"type\":\"ColumnDataSource\"},{\"attributes\":{\"line_color\":{\"value\":\"#f22c40\"},\"line_width\":{\"value\":2},\"x\":{\"field\":\"x_values\"},\"y\":{\"field\":\"y_values\"}},\"id\":\"770dda09-e4d2-4fa1-955c-e2ef7b3c014b\",\"type\":\"Line\"},{\"attributes\":{\"callback\":null,\"end\":11.962327363597893,\"start\":-11.922594268640811},\"id\":\"e1453ecb-a17d-4d58-8cb3-2faf98d77dde\",\"type\":\"Range1d\"},{\"attributes\":{\"active_drag\":\"auto\",\"active_scroll\":\"auto\",\"active_tap\":\"auto\",\"tools\":[{\"id\":\"c834d231-7fdd-4e48-88ab-d651aafa89b4\",\"type\":\"PanTool\"},{\"id\":\"a9fbb152-be7b-477b-85d2-02d1be020089\",\"type\":\"WheelZoomTool\"},{\"id\":\"40d3ed2f-608a-407b-9e95-4f7a9bf11144\",\"type\":\"BoxZoomTool\"},{\"id\":\"bb2714d1-5b47-459f-8a14-1af2cb38b7ef\",\"type\":\"SaveTool\"},{\"id\":\"fb18de99-20c4-42a1-a388-ca15214df849\",\"type\":\"ResetTool\"},{\"id\":\"5566b9bd-c1f9-4979-a05a-1be81ccaa4c2\",\"type\":\"HelpTool\"}]},\"id\":\"b1f67407-bf39-49ad-9d44-1d94024650d7\",\"type\":\"Toolbar\"},{\"attributes\":{\"plot\":{\"id\":\"c9d42bbc-2ff0-4664-9e3f-f741b9880b0a\",\"subtype\":\"Chart\",\"type\":\"Plot\"}},\"id\":\"a9fbb152-be7b-477b-85d2-02d1be020089\",\"type\":\"WheelZoomTool\"}],\"root_ids\":[\"c9d42bbc-2ff0-4664-9e3f-f741b9880b0a\"]},\"title\":\"Bokeh Application\",\"version\":\"0.12.4\"}};\n",
       "            var render_items = [{\"docid\":\"7b794e07-8c2e-47b6-b597-a03be598ec7e\",\"elementid\":\"a308dc9f-1e16-4b40-a661-30845e60db96\",\"modelid\":\"c9d42bbc-2ff0-4664-9e3f-f741b9880b0a\"}];\n",
       "            \n",
       "            Bokeh.embed.embed_items(docs_json, render_items);\n",
       "          };\n",
       "          if (document.readyState != \"loading\") fn();\n",
       "          else document.addEventListener(\"DOMContentLoaded\", fn);\n",
       "        })();\n",
       "      },\n",
       "      function(Bokeh) {\n",
       "      }\n",
       "    ];\n",
       "  \n",
       "    function run_inline_js() {\n",
       "      \n",
       "      if ((window.Bokeh !== undefined) || (force === true)) {\n",
       "        for (var i = 0; i < inline_js.length; i++) {\n",
       "          inline_js[i](window.Bokeh);\n",
       "        }if (force === true) {\n",
       "          display_loaded();\n",
       "        }} else if (Date.now() < window._bokeh_timeout) {\n",
       "        setTimeout(run_inline_js, 100);\n",
       "      } else if (!window._bokeh_failed_load) {\n",
       "        console.log(\"Bokeh: BokehJS failed to load within specified timeout.\");\n",
       "        window._bokeh_failed_load = true;\n",
       "      } else if (force !== true) {\n",
       "        var cell = $(document.getElementById(\"a308dc9f-1e16-4b40-a661-30845e60db96\")).parents('.cell').data().cell;\n",
       "        cell.output_area.append_execute_result(NB_LOAD_WARNING)\n",
       "      }\n",
       "  \n",
       "    }\n",
       "  \n",
       "    if (window._bokeh_is_loading === 0) {\n",
       "      console.log(\"Bokeh: BokehJS loaded, going straight to plotting\");\n",
       "      run_inline_js();\n",
       "    } else {\n",
       "      load_libs(js_urls, function() {\n",
       "        console.log(\"Bokeh: BokehJS plotting callback run at\", now());\n",
       "        run_inline_js();\n",
       "      });\n",
       "    }\n",
       "  }(this));\n",
       "</script>"
      ]
     },
     "metadata": {},
     "output_type": "display_data"
    }
   ],
   "source": [
    "from bokeh.charts import Line\n",
    "y_hat = lin.predict(X)\n",
    "show(Line({'x': x, 'y': y_hat}, x='x', y='y', width=750, height=400))"
   ]
  },
  {
   "cell_type": "markdown",
   "metadata": {
    "deletable": true,
    "editable": true,
    "slideshow": {
     "slide_type": "slide"
    }
   },
   "source": [
    "### Least Squares the way your _grandparents_ did it...\n",
    "\n",
    "...with chalk and a slab of slate."
   ]
  },
  {
   "cell_type": "markdown",
   "metadata": {
    "deletable": true,
    "editable": true,
    "slideshow": {
     "slide_type": "subslide"
    }
   },
   "source": [
    "Construct a function to calculate the sum of squared residuals...\n",
    "\n",
    "$$\n",
    "\\begin{align}\n",
    "    \\text{min}\\ f(\\beta) & = \\frac{1}{2} ||y - X \\beta||^2 \\\\\n",
    "                         & \\\\\n",
    "                         & = \\frac{1}{2} (y - X \\beta)'(y - X \\beta) \\\\\n",
    "                         & \\\\\n",
    "                         & = \\frac{1}{2} y'y - y'X\\beta + \\frac{1}{2} \\beta'X'X\\beta \\\\\n",
    "                         & \\\\\n",
    "                         & = \\frac{1}{2} y'y - y'X\\beta + \\frac{1}{2} \\beta'X'X\\beta \\\\\n",
    "                         & \\\\\n",
    "\\end{align}\n",
    "$$"
   ]
  },
  {
   "cell_type": "markdown",
   "metadata": {
    "deletable": true,
    "editable": true,
    "slideshow": {
     "slide_type": "subslide"
    }
   },
   "source": [
    "#### First Order Necessary Conditions\n",
    "\n",
    "...and take its derivative to find a closed-form solution.\n",
    "\n",
    "$$\\nabla f(\\beta) = X'X\\beta - y'X\\beta = 0$$  \n",
    "$$\\beta = (X'X)^{-1}X'y$$"
   ]
  },
  {
   "cell_type": "code",
   "execution_count": 64,
   "metadata": {
    "collapsed": false,
    "deletable": true,
    "editable": true,
    "slideshow": {
     "slide_type": "subslide"
    }
   },
   "outputs": [
    {
     "name": "stdout",
     "output_type": "stream",
     "text": [
      "[ 2.99459337 -1.86434284  9.50423425]\n"
     ]
    }
   ],
   "source": [
    "from numpy.linalg import inv\n",
    "\n",
    "# beta = (X'X)^-1 * X * y\n",
    "Xt = X.transpose()\n",
    "pseudo_inv = inv(np.matmul(Xt, X))\n",
    "beta = np.matmul(np.matmul(pseudo_inv, Xt), y)\n",
    "print(beta)"
   ]
  },
  {
   "cell_type": "markdown",
   "metadata": {
    "deletable": true,
    "editable": true,
    "slideshow": {
     "slide_type": "subslide"
    }
   },
   "source": [
    "How'd grandma and grandpa do?"
   ]
  },
  {
   "cell_type": "code",
   "execution_count": 65,
   "metadata": {
    "collapsed": false,
    "deletable": true,
    "editable": true,
    "slideshow": {
     "slide_type": "-"
    }
   },
   "outputs": [
    {
     "data": {
      "text/html": [
       "\n",
       "\n",
       "    <div class=\"bk-root\">\n",
       "        <div class=\"bk-plotdiv\" id=\"56d1c8ea-f863-4024-9c0a-fe2fb9201e32\"></div>\n",
       "    </div>\n",
       "<script type=\"text/javascript\">\n",
       "  \n",
       "  (function(global) {\n",
       "    function now() {\n",
       "      return new Date();\n",
       "    }\n",
       "  \n",
       "    var force = false;\n",
       "  \n",
       "    if (typeof (window._bokeh_onload_callbacks) === \"undefined\" || force === true) {\n",
       "      window._bokeh_onload_callbacks = [];\n",
       "      window._bokeh_is_loading = undefined;\n",
       "    }\n",
       "  \n",
       "  \n",
       "    \n",
       "    if (typeof (window._bokeh_timeout) === \"undefined\" || force === true) {\n",
       "      window._bokeh_timeout = Date.now() + 0;\n",
       "      window._bokeh_failed_load = false;\n",
       "    }\n",
       "  \n",
       "    var NB_LOAD_WARNING = {'data': {'text/html':\n",
       "       \"<div style='background-color: #fdd'>\\n\"+\n",
       "       \"<p>\\n\"+\n",
       "       \"BokehJS does not appear to have successfully loaded. If loading BokehJS from CDN, this \\n\"+\n",
       "       \"may be due to a slow or bad network connection. Possible fixes:\\n\"+\n",
       "       \"</p>\\n\"+\n",
       "       \"<ul>\\n\"+\n",
       "       \"<li>re-rerun `output_notebook()` to attempt to load from CDN again, or</li>\\n\"+\n",
       "       \"<li>use INLINE resources instead, as so:</li>\\n\"+\n",
       "       \"</ul>\\n\"+\n",
       "       \"<code>\\n\"+\n",
       "       \"from bokeh.resources import INLINE\\n\"+\n",
       "       \"output_notebook(resources=INLINE)\\n\"+\n",
       "       \"</code>\\n\"+\n",
       "       \"</div>\"}};\n",
       "  \n",
       "    function display_loaded() {\n",
       "      if (window.Bokeh !== undefined) {\n",
       "        document.getElementById(\"56d1c8ea-f863-4024-9c0a-fe2fb9201e32\").textContent = \"BokehJS successfully loaded.\";\n",
       "      } else if (Date.now() < window._bokeh_timeout) {\n",
       "        setTimeout(display_loaded, 100)\n",
       "      }\n",
       "    }\n",
       "  \n",
       "    function run_callbacks() {\n",
       "      window._bokeh_onload_callbacks.forEach(function(callback) { callback() });\n",
       "      delete window._bokeh_onload_callbacks\n",
       "      console.info(\"Bokeh: all callbacks have finished\");\n",
       "    }\n",
       "  \n",
       "    function load_libs(js_urls, callback) {\n",
       "      window._bokeh_onload_callbacks.push(callback);\n",
       "      if (window._bokeh_is_loading > 0) {\n",
       "        console.log(\"Bokeh: BokehJS is being loaded, scheduling callback at\", now());\n",
       "        return null;\n",
       "      }\n",
       "      if (js_urls == null || js_urls.length === 0) {\n",
       "        run_callbacks();\n",
       "        return null;\n",
       "      }\n",
       "      console.log(\"Bokeh: BokehJS not loaded, scheduling load and callback at\", now());\n",
       "      window._bokeh_is_loading = js_urls.length;\n",
       "      for (var i = 0; i < js_urls.length; i++) {\n",
       "        var url = js_urls[i];\n",
       "        var s = document.createElement('script');\n",
       "        s.src = url;\n",
       "        s.async = false;\n",
       "        s.onreadystatechange = s.onload = function() {\n",
       "          window._bokeh_is_loading--;\n",
       "          if (window._bokeh_is_loading === 0) {\n",
       "            console.log(\"Bokeh: all BokehJS libraries loaded\");\n",
       "            run_callbacks()\n",
       "          }\n",
       "        };\n",
       "        s.onerror = function() {\n",
       "          console.warn(\"failed to load library \" + url);\n",
       "        };\n",
       "        console.log(\"Bokeh: injecting script tag for BokehJS library: \", url);\n",
       "        document.getElementsByTagName(\"head\")[0].appendChild(s);\n",
       "      }\n",
       "    };var element = document.getElementById(\"56d1c8ea-f863-4024-9c0a-fe2fb9201e32\");\n",
       "    if (element == null) {\n",
       "      console.log(\"Bokeh: ERROR: autoload.js configured with elementid '56d1c8ea-f863-4024-9c0a-fe2fb9201e32' but no matching script tag was found. \")\n",
       "      return false;\n",
       "    }\n",
       "  \n",
       "    var js_urls = [];\n",
       "  \n",
       "    var inline_js = [\n",
       "      function(Bokeh) {\n",
       "        (function() {\n",
       "          var fn = function() {\n",
       "            var docs_json = {\"d2503ae3-3971-4982-9fd5-4418aea65b8e\":{\"roots\":{\"references\":[{\"attributes\":{\"dimension\":1,\"plot\":{\"id\":\"39ae3f78-6ad9-46d1-a266-f0dfe071baf1\",\"subtype\":\"Chart\",\"type\":\"Plot\"},\"ticker\":{\"id\":\"2ec3ac17-d238-4606-9eab-4289fb4467c5\",\"type\":\"BasicTicker\"}},\"id\":\"53e69eca-e769-4564-9f40-816fd7fa9b0c\",\"type\":\"Grid\"},{\"attributes\":{\"callback\":null,\"end\":354.8545439254507,\"start\":-22.20733796242434},\"id\":\"003e57d5-fa80-4041-a5d0-740d2da2e73a\",\"type\":\"Range1d\"},{\"attributes\":{},\"id\":\"63ec67ef-c683-41c6-96c8-de5f57775679\",\"type\":\"BasicTickFormatter\"},{\"attributes\":{},\"id\":\"d71b2040-264d-498c-8f39-c4c7c5a9104f\",\"type\":\"BasicTickFormatter\"},{\"attributes\":{\"callback\":null,\"column_names\":[\"x_values\",\"y_values\"],\"data\":{\"chart_index\":[null,null,null,null,null,null,null,null,null,null,null,null,null,null,null,null,null,null,null,null,null,null,null,null,null,null,null,null,null,null,null,null,null,null,null,null,null,null,null,null,null,null,null,null,null,null,null,null,null,null,null,null,null,null,null,null,null,null,null,null,null,null,null,null,null,null,null,null,null,null,null,null,null,null,null,null,null,null,null,null,null,null,null,null,null,null,null,null,null,null,null,null,null,null,null,null,null,null,null,null,null,null,null,null,null,null,null,null,null,null,null,null,null,null,null,null,null,null,null,null,null,null,null,null,null,null,null,null,null,null,null,null,null,null,null,null,null,null,null,null,null,null,null,null,null,null,null,null,null,null,null,null,null,null,null,null,null,null,null,null,null,null,null,null,null,null,null,null,null,null,null,null,null,null,null,null,null,null,null,null,null,null,null,null,null,null,null,null,null,null,null,null,null,null,null,null,null,null,null,null,null,null,null,null,null,null,null,null,null,null,null,null,null,null,null,null,null,null,null,null,null,null,null,null,null,null,null,null,null,null,null,null,null,null,null,null,null,null,null,null,null,null,null,null,null,null,null,null,null,null,null,null,null,null,null,null,null,null,null,null,null,null,null,null,null,null,null,null,null,null,null,null,null,null,null,null,null,null,null,null,null,null,null,null,null,null,null,null,null,null,null,null,null,null,null,null,null,null,null,null,null,null,null,null,null,null,null,null,null,null,null,null,null,null,null,null,null,null,null,null,null,null,null,null,null,null,null,null,null,null,null,null,null,null,null,null,null,null,null,null,null,null,null,null,null,null,null,null,null,null,null,null,null,null,null,null,null,null,null,null,null,null,null,null,null,null,null,null,null,null,null,null,null,null,null,null,null,null,null,null,null,null,null,null,null,null,null,null,null,null,null,null,null,null,null,null,null,null,null,null,null,null,null,null,null,null,null,null,null,null,null,null,null,null,null,null,null,null,null,null,null,null,null,null,null,null,null,null,null,null,null,null,null,null,null,null,null,null,null,null,null,null,null,null,null,null,null,null,null,null,null,null,null,null,null,null,null,null,null,null,null,null,null,null,null,null,null,null,null,null,null,null,null,null,null,null,null,null,null,null,null,null,null,null,null,null,null,null,null,null,null,null,null,null,null,null,null,null,null,null],\"x_values\":{\"__ndarray__\":\"+OkWPUfdI8CTMjQAU5kjwHmKEMZXiCPARSBr5nx7I8D762zS4nMjwKStCOUfbyPAe9I+bVJoI8CyuATmBWYjwNK6wVlKOCPA7yEQxyc4I8A8MvIaVCQjwI2wPIvqICPAuDX2m6v5IsAUhmwKpo8iwGd9ZsbxhiLA9Fokrn12IsDda9g+nk4iwFWRLPKRQyLAHhMB6SskIsAFBv1+PQsiwHr0SsckCSLAUpccwLXxIcDM9p5OTMMhwEVDjafVuSHAlKxJPJeBIcCWz8K1xnshwEeLyQDseiHAj+sCBmBwIcAOxkFe+WMhwMV4DKQQ+iDA5hSCF+DuIMCDCMifHOUgwBnEh1GD0iDAmUOJV3/GIMCeq4b44IMgwGN0XXgqgiDAcAq8kuBzIMDINaZUalsgwBXZ7ZyhTSDAYtT0nFQ/IMBq+/01HT4gwJohuxafLSDAxhARw27cH8CAdRgDt5wfwPqBrpMsUh/ATDPTwGBEH8D+CrITPjEfwN8UOtUpJx/AzADAPnMOH8A4lGqP//kewHC7flC8yB7ABjP75f9zHsCu3vTg724ewCQ4ONp9ax7A5rNCVJpSHsAiXhwQgE4ewGBzlt229x3AdwjpoFzHHcAMIoQ5OqAdwCoGQ/tKkh3AMQ7OPP+EHcDu/GyFiW4dwHFBwPrgTR3A09t7WzhHHcDaQN+ztjUdwP5/iJP2FR3AaOEIrDrzHMA62crGVdEcwIF2hwVktBzA6MC5q+OlHMBSAEgyb2McwAExiMl3RxzADjTck22SG8DGZrDeYiAbwKrcMuwQDRvA5DaS+iT/GsA6gUdMsO8awGoeNY4Y7BrAQVIiJyPCGsDWD8gn8KgawHsChlarOhrAEYZkuSg6GsBAkEGpPKsZwMYK1+VhbBnA9gpyzC1jGcDMvbsZw84YwP9KjAQCvxjAAWV3MCetGMBuezjHNToYwFWfdezmJxjAoWlXbU8eGMAH9nSOCh4YwN+1DUcWsRfAnqUKK+7jFsByaH73lrgWwESbnMgi4hXAo1qi5JbdFcCPdP2oNNkVwFVPgfQjwBXAmb0/pcBmFcA41o7ATU4VwDiqEUU6PhXAuDNFTm4RFcAKyDPmxPAUwN9+FsYv1hTAyMSLR7/VFMCKzDObMVoUwMu5ZOqsRxTApTuk38k6FMCanvb+fB8UwIMgYOyW7BPAYQgt6cXYE8AyxQrY/q4TwLqUovfQbhPAHxk8kvFiE8CyC/yZJRITwCBOX0uvixLAmgsRP7NBEsDWDJ+CKxsSwCImD6VbBxLALvh5JwquEcDk2S2i1YARwLZJuxMnexHAi4r7JHF5EcA+jOajv9gQwGZkVdTixxDAFlkwQd1hEMCdtYi8pWEQwI4xqcWuYBDAXsp0UjJIEMCi87l1zzQQwMyiedFG6g/AiC8ywZd1D8BAJ5946hEPwHwS7KdYYA7AjAWw/ewdDsDMk5MxHxcOwBhbdC+AAw7AmBxRRAj2DMCYWd5q/JwMwG4IcoSvgAzAwFxIAVY8DMC4VlvnFbULwGwdG2lbkAvAoInwuX54C8Dapw41eG8LwCZQibCAWQvAPCh/Hko1CsDMMTdzoFwJwKR0em8VFgnAcHk6p+XwCMBKidJ8OccIwJynXXL8lgjA+OCDKNaKCMAAgHk10W0IwLB57FGBawjA+Ii/C9FSCMBgP7i2uVEIwIiZPzAMQQjAKMVPn080CMAeuLX6vqcHwPToTYwhagfAyPrhA8NGB8Dweqz82Q8HwLyh67sB4QbAjjxtCYZoBsAAWwdUAggGwAiDYGIZ5gXALPQGnqbeBcDUlqbD4IQFwMKTxcRBGQXAHjUNJ6H+BMCMUDZAtvoEwKxZaJUV+QTAlLkElIDTBMCuE2+FhJwEwGzGjKYnNQTAwH4qoZz+A8BsWPCybvsDwJjQNs+V1APAqIU2wy2JA8DoW5X773MDwPjnznG8zwLADn5s1Qh7AsAs6gaz9W4CwOyHYThKRALA+Pclgoc2AsAUFyuHQAICwFDuY3WbmQHAnFzC3TseAcAgA5dZVdcAwLznSUuWzgDA+I5yCI9KAMCQXzuqKf//v5gU692/6f6/gCwYMqHM/b84cQbc4o/9v8hq7QirVv2/kKoYVX9H/b8gFe6DuST9v+i7PKl+ufy/MO5Ow/9W/L+Qy2gJabv6v6BDl+bPqvq/eF3BIJR0978g0QC+k0v3vxCoAtyfJPe/OM2/DE3q9L8gUafLgcb0v1BSB/yg5vO/6NVEuyqt8r+Ax3gkWJPxv8hv1sc3fvG/sJySJ30M8b9wTCRvqvrwv4je/6kSyvC/YLGb+akD8L+guKaM0dHvv1A+K2vQyO6/IJkQods77r+gdbTs6f/rvwBNueAG8+u/YMmP2xk/679A5bzg86nqv8C83ENck+q/oM51rpdr6L/wDlngmnTnv4BkuD+t7OK/4CcXabuK4L+A5s8jAVfgvwBgfVqfN96/gPzQvI6f3L+APGiWD9zav2BgDa0NXNm/QIRSzMzX1L/gvqh7rN/Sv8Dkf67ZbtC/wHlYYhs5y78AvjDM9RTJv4AzFBgeZMW/ACqN9Wbxrb8AwHGnkORQPwC4QpWb6Z0/ALHWphmoqT8AqrODZ8ixP4CE+gMKN8s/gN/5JKyLzT8ges20oCjQP+ABdvxlItE/wMl2RSAy0T9AQmRoXXrRP0D0HkbjrNE/wN5AX5qu1D9gQceFjMPYP4CWRqBKc9k/oA9D77UK2j9A/5CjY4/aP8CBMMoYbeE/EIEYZSx84j9w9R1l3nXjP/AXTB5bC+Q/IKsQRdgX5D+QhaYcwh3kP6DmhkzKmuQ/kGx3Dwg65z8wCfDckabnP4Cy30VNPug/wBhqU6dN6j8wiMJBmkLrP5BoFW51KO0/sMsxpVBN7T/QhCrfYHvuP7B5kE2bLvA/gK0lVnBF8D/QbDg5Fl7wP0jlit0jsfA/EFuBsLzW8D/gD+rIkfXwP4AnAQkY9vA/8NI25LD48D/wpFhZRE3zP0CQARkplfQ/KEdmQABt9T+AGXNDroP1P1DVYTOt3/U/2C5iWVM69j8g7nebq5T2P4hGI3Uwj/c/AMXtMALN9z8oY9pelXT4P2A+W02phvg/EM55UH1/+T+IO8rWiSn6P6DhOwlRF/w/WFRmyBkp/D+AK3E7tWP8P9DIsTn6x/w/kFa3UaRa/T945Ghj/Jf9P+D8NKxY8P0/QLLcUyEJ/j/AMg/HNgr+P7BByA5BsP8/zFHcmclLAED0k0kBImkAQHAWb00T2wBAsDOuwUYAAUAoE0Ik6DYCQHRRGPz4UQJAsCtBoMmNAkA8opgbnb0CQGCiaqpWxAJAwPTv7kzXAkBY7vBGZgIDQAjOeUa2RwNANLYQ9nFVBEBMAdp5zb0EQFi3KLmUrAVAwO5Zg0LSBUBU4/TB+9IFQJhfGWVxAgZAUK/2+JjpBkAYupjb2Q0IQGDlF6sxFghAiNmUu9uwCEDoghvBd8UIQCBQdBGcNQlApOeXXy1ECUAQneIHgm4JQIATHrK33glAxNAWTNzoCUAwUKbuOOkJQMidAf+UGgpAZOH/iFIoC0CIHsirt1sLQIx//PUIkQtAyJLr6UHoC0BQCOiEwO8LQMgwwDLF+QtAuGB4zmEDDECwkaOfOycMQEA2iI3IVgxAQJWEvImdDEDQNzKNmuUMQMQYVVGu5wxApHCrraIdDUBc3yCFwCgNQOTKEaIZow1ADF3m8MWkDUCIMo+6CHcOQCCarnQ6kw5AWHvp6qiTDkB4XGnXVLEOQIAVlohasw5AeIonQJ30DkBe5jA5HCwQQDyq3/SMLBBAULOywhRTEEBekytb6oQQQGQ+0jSH1RBAYNrAIEjdEECS3R+a5fAQQPxI92UbDhFAXBiYlFlsEUASFOAUpJERQMyUO78pnhFA9Kn+f9qpEUBw8Bqn1LsRQPrRynvQKxJAyl4nnBxCEkBqCTnnYlESQPCTgp/IZxJA3Is1JVu7EkB02PKs09sSQB7sPBU96BJAUAouIZ3+EkA0HyeR/28TQOAf2mNK7RNA4tIk55YTFEDmV/EYgXUUQKDq5J3xgBRACJ9XnwPbFEBuBsO6LfsUQNSW1Nd1AhVATpxCfsodFUC0PjRpcYEVQM5kjDf43hVAWAMo+BXjFUC0QhEeCQIWQIB+EIKWChZAuFwtKMILFkCori//vBAWQIy14kMhJRZAiM70GGIyFkBg58g0gDwWQALiJxxAPhZAOHDd7l5DFkBQtoFfKW0WQCiugnJNshZAOrbf9JDvFkDosjmvG/wWQJCsAF68ERdAMDFQ7cwUF0CWWZwZvksXQGZVVs0OUBdAxnDfP15kF0Cm22wtK58XQLpZuJH/oBdAssMirUm/F0CwR4MqL8sXQGiZvGtEKxhANOCHG/QyGEDgWOyaCGsYQDwOKq0JbRhAEFsO4nR5GEAQ5UU7DcgYQJBl6fZU8hhAQID0SLYSGUBstJnI5DIZQKif7qb+tRlA6HoYqgtJGkAMHlKB2VYaQKgdcRjrZRpA5Pum0EquGkBARWDA6LcaQDDzphhNOBtApNq0ri2eG0Dg+EIszh8cQABfWRWLIhxAFLk56616HEBkpnJ33pgcQIgiVlFtvRxA5B61DOXEHECM6sHMVEEdQGQPw4SuSR1AzARDOzR9HUDgtwzcw98dQCxsEpg/6B1ARIllJwoJHkBgH8WxpwoeQEgbc7rUUh5AqNNXd8jEHkAQD7uQ/fceQFi9P07V/h5A+A5LhHoGH0A4CFoJukQfQLxTSkXYcx9A5G68jJkFIEBag0q54AcgQEDLK/JGDiBAIiRvte4iIEBSbHe561EgQGg8GCXbcCBArK5p/ip+IEA+20K5D4wgQEBhiD0BtSBADp8DmJa4IEBUSxXtirsgQFLpe8IMyiBAvptb2p7cIEB+A/4l/OcgQFKB7+ZTAyFAZkpbh7QPIUCC9JIE9h4hQBgqNvACZiFAMs3v6215IUA+CaYUPoAhQKByhyqGrSFAxG7NmmK/IUC85NVcttchQMpLi4Y32yFAxPKVSVDgIUCcmdMCmOchQJjrrjufFiJAfM/xHVwmIkBA4wvwiSgiQEBDDdznKiJAdBVX7tAuIkD4y7d46i8iQKBG2H4+NyJA7iAk0bVdIkD0KSITm2giQNoSq1O1aCJABGhS5254IkAeQnp5a3kiQMoTSujVfiJAxBuIsM6UIkCk4Fwh+7kiQDQfrxM+zyJA7K5+L4rfIkBeMdLdDeAiQDhUbF6s4yJA1pn8DI/0IkA+e7Sbbv8iQLyrcnwvIiNAfEX6hLNaI0B83cJUH2QjQEDW8ATqxiNAsvhbURDgI0Cmu4Uin/EjQA==\",\"dtype\":\"float64\",\"shape\":[500]},\"y_values\":{\"__ndarray__\":\"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\",\"dtype\":\"float64\",\"shape\":[500]}}},\"id\":\"079244c2-0eb0-460d-85b9-f22db8aea884\",\"type\":\"ColumnDataSource\"},{\"attributes\":{},\"id\":\"b3c1c917-bbb5-47d8-9dce-d8a6dafa546a\",\"type\":\"ToolEvents\"},{\"attributes\":{\"below\":[{\"id\":\"58b90534-18a0-4141-8ea2-1aeff203f92b\",\"type\":\"LinearAxis\"}],\"css_classes\":null,\"height\":400,\"left\":[{\"id\":\"61ea7faf-5fd5-4bf9-8b99-a5c109c7df32\",\"type\":\"LinearAxis\"}],\"renderers\":[{\"id\":\"f1e0a411-394c-4c63-9891-831505c75fa9\",\"type\":\"BoxAnnotation\"},{\"id\":\"73ac9028-2bde-41ac-aa51-dd86152fc0be\",\"type\":\"GlyphRenderer\"},{\"id\":\"049700df-6d5a-40ea-99eb-f7648e3f310f\",\"type\":\"Legend\"},{\"id\":\"58b90534-18a0-4141-8ea2-1aeff203f92b\",\"type\":\"LinearAxis\"},{\"id\":\"61ea7faf-5fd5-4bf9-8b99-a5c109c7df32\",\"type\":\"LinearAxis\"},{\"id\":\"f0449095-6565-4548-b472-fb6f6fead4ee\",\"type\":\"Grid\"},{\"id\":\"53e69eca-e769-4564-9f40-816fd7fa9b0c\",\"type\":\"Grid\"}],\"title\":{\"id\":\"672599e9-ce27-4246-8684-7adacba0292a\",\"type\":\"Title\"},\"tool_events\":{\"id\":\"b3c1c917-bbb5-47d8-9dce-d8a6dafa546a\",\"type\":\"ToolEvents\"},\"toolbar\":{\"id\":\"1f2ed6c5-a8d2-4cd9-98fb-1f84f34f9d92\",\"type\":\"Toolbar\"},\"width\":750,\"x_mapper_type\":\"auto\",\"x_range\":{\"id\":\"08989661-8d91-40ea-9b8f-f019ece01c12\",\"type\":\"Range1d\"},\"y_mapper_type\":\"auto\",\"y_range\":{\"id\":\"003e57d5-fa80-4041-a5d0-740d2da2e73a\",\"type\":\"Range1d\"}},\"id\":\"39ae3f78-6ad9-46d1-a266-f0dfe071baf1\",\"subtype\":\"Chart\",\"type\":\"Plot\"},{\"attributes\":{\"plot\":null,\"text\":null},\"id\":\"672599e9-ce27-4246-8684-7adacba0292a\",\"type\":\"Title\"},{\"attributes\":{\"active_drag\":\"auto\",\"active_scroll\":\"auto\",\"active_tap\":\"auto\",\"tools\":[{\"id\":\"cfef7554-b270-41d4-ac81-3473f9ceb048\",\"type\":\"PanTool\"},{\"id\":\"a0046b1f-ef8d-47f6-958f-4e7759e62d76\",\"type\":\"WheelZoomTool\"},{\"id\":\"0db70086-5da8-4070-a52c-4181d1967abf\",\"type\":\"BoxZoomTool\"},{\"id\":\"f3a44a06-32b5-49f6-8bf1-ad4a0041f74c\",\"type\":\"SaveTool\"},{\"id\":\"268fa4cc-6a45-4330-bee1-1514c479badc\",\"type\":\"ResetTool\"},{\"id\":\"c2e7a2f5-1e25-4de9-b8cf-5fe727c9365b\",\"type\":\"HelpTool\"}]},\"id\":\"1f2ed6c5-a8d2-4cd9-98fb-1f84f34f9d92\",\"type\":\"Toolbar\"},{\"attributes\":{\"location\":\"top_left\",\"plot\":{\"id\":\"39ae3f78-6ad9-46d1-a266-f0dfe071baf1\",\"subtype\":\"Chart\",\"type\":\"Plot\"}},\"id\":\"049700df-6d5a-40ea-99eb-f7648e3f310f\",\"type\":\"Legend\"},{\"attributes\":{\"bottom_units\":\"screen\",\"fill_alpha\":{\"value\":0.5},\"fill_color\":{\"value\":\"lightgrey\"},\"left_units\":\"screen\",\"level\":\"overlay\",\"line_alpha\":{\"value\":1.0},\"line_color\":{\"value\":\"black\"},\"line_dash\":[4,4],\"line_width\":{\"value\":2},\"plot\":null,\"render_mode\":\"css\",\"right_units\":\"screen\",\"top_units\":\"screen\"},\"id\":\"f1e0a411-394c-4c63-9891-831505c75fa9\",\"type\":\"BoxAnnotation\"},{\"attributes\":{\"plot\":{\"id\":\"39ae3f78-6ad9-46d1-a266-f0dfe071baf1\",\"subtype\":\"Chart\",\"type\":\"Plot\"}},\"id\":\"cfef7554-b270-41d4-ac81-3473f9ceb048\",\"type\":\"PanTool\"},{\"attributes\":{\"plot\":{\"id\":\"39ae3f78-6ad9-46d1-a266-f0dfe071baf1\",\"subtype\":\"Chart\",\"type\":\"Plot\"}},\"id\":\"a0046b1f-ef8d-47f6-958f-4e7759e62d76\",\"type\":\"WheelZoomTool\"},{\"attributes\":{\"overlay\":{\"id\":\"f1e0a411-394c-4c63-9891-831505c75fa9\",\"type\":\"BoxAnnotation\"},\"plot\":{\"id\":\"39ae3f78-6ad9-46d1-a266-f0dfe071baf1\",\"subtype\":\"Chart\",\"type\":\"Plot\"}},\"id\":\"0db70086-5da8-4070-a52c-4181d1967abf\",\"type\":\"BoxZoomTool\"},{\"attributes\":{\"plot\":{\"id\":\"39ae3f78-6ad9-46d1-a266-f0dfe071baf1\",\"subtype\":\"Chart\",\"type\":\"Plot\"}},\"id\":\"f3a44a06-32b5-49f6-8bf1-ad4a0041f74c\",\"type\":\"SaveTool\"},{\"attributes\":{\"plot\":{\"id\":\"39ae3f78-6ad9-46d1-a266-f0dfe071baf1\",\"subtype\":\"Chart\",\"type\":\"Plot\"}},\"id\":\"268fa4cc-6a45-4330-bee1-1514c479badc\",\"type\":\"ResetTool\"},{\"attributes\":{\"plot\":{\"id\":\"39ae3f78-6ad9-46d1-a266-f0dfe071baf1\",\"subtype\":\"Chart\",\"type\":\"Plot\"}},\"id\":\"c2e7a2f5-1e25-4de9-b8cf-5fe727c9365b\",\"type\":\"HelpTool\"},{\"attributes\":{\"callback\":null,\"end\":11.962327363597893,\"start\":-11.922594268640811},\"id\":\"08989661-8d91-40ea-9b8f-f019ece01c12\",\"type\":\"Range1d\"},{\"attributes\":{\"axis_label\":\"x\",\"formatter\":{\"id\":\"63ec67ef-c683-41c6-96c8-de5f57775679\",\"type\":\"BasicTickFormatter\"},\"plot\":{\"id\":\"39ae3f78-6ad9-46d1-a266-f0dfe071baf1\",\"subtype\":\"Chart\",\"type\":\"Plot\"},\"ticker\":{\"id\":\"5160f931-dd36-42b4-a4c1-17438967c74a\",\"type\":\"BasicTicker\"}},\"id\":\"58b90534-18a0-4141-8ea2-1aeff203f92b\",\"type\":\"LinearAxis\"},{\"attributes\":{\"data_source\":{\"id\":\"079244c2-0eb0-460d-85b9-f22db8aea884\",\"type\":\"ColumnDataSource\"},\"glyph\":{\"id\":\"2a88b15b-6e58-43e1-aecf-1ec1b9c82fbd\",\"type\":\"Line\"},\"hover_glyph\":null,\"nonselection_glyph\":null,\"selection_glyph\":null},\"id\":\"73ac9028-2bde-41ac-aa51-dd86152fc0be\",\"type\":\"GlyphRenderer\"},{\"attributes\":{\"axis_label\":\"y\",\"formatter\":{\"id\":\"d71b2040-264d-498c-8f39-c4c7c5a9104f\",\"type\":\"BasicTickFormatter\"},\"plot\":{\"id\":\"39ae3f78-6ad9-46d1-a266-f0dfe071baf1\",\"subtype\":\"Chart\",\"type\":\"Plot\"},\"ticker\":{\"id\":\"2ec3ac17-d238-4606-9eab-4289fb4467c5\",\"type\":\"BasicTicker\"}},\"id\":\"61ea7faf-5fd5-4bf9-8b99-a5c109c7df32\",\"type\":\"LinearAxis\"},{\"attributes\":{\"line_color\":{\"value\":\"#f22c40\"},\"line_width\":{\"value\":2},\"x\":{\"field\":\"x_values\"},\"y\":{\"field\":\"y_values\"}},\"id\":\"2a88b15b-6e58-43e1-aecf-1ec1b9c82fbd\",\"type\":\"Line\"},{\"attributes\":{},\"id\":\"5160f931-dd36-42b4-a4c1-17438967c74a\",\"type\":\"BasicTicker\"},{\"attributes\":{\"plot\":{\"id\":\"39ae3f78-6ad9-46d1-a266-f0dfe071baf1\",\"subtype\":\"Chart\",\"type\":\"Plot\"},\"ticker\":{\"id\":\"5160f931-dd36-42b4-a4c1-17438967c74a\",\"type\":\"BasicTicker\"}},\"id\":\"f0449095-6565-4548-b472-fb6f6fead4ee\",\"type\":\"Grid\"},{\"attributes\":{},\"id\":\"2ec3ac17-d238-4606-9eab-4289fb4467c5\",\"type\":\"BasicTicker\"}],\"root_ids\":[\"39ae3f78-6ad9-46d1-a266-f0dfe071baf1\"]},\"title\":\"Bokeh Application\",\"version\":\"0.12.4\"}};\n",
       "            var render_items = [{\"docid\":\"d2503ae3-3971-4982-9fd5-4418aea65b8e\",\"elementid\":\"56d1c8ea-f863-4024-9c0a-fe2fb9201e32\",\"modelid\":\"39ae3f78-6ad9-46d1-a266-f0dfe071baf1\"}];\n",
       "            \n",
       "            Bokeh.embed.embed_items(docs_json, render_items);\n",
       "          };\n",
       "          if (document.readyState != \"loading\") fn();\n",
       "          else document.addEventListener(\"DOMContentLoaded\", fn);\n",
       "        })();\n",
       "      },\n",
       "      function(Bokeh) {\n",
       "      }\n",
       "    ];\n",
       "  \n",
       "    function run_inline_js() {\n",
       "      \n",
       "      if ((window.Bokeh !== undefined) || (force === true)) {\n",
       "        for (var i = 0; i < inline_js.length; i++) {\n",
       "          inline_js[i](window.Bokeh);\n",
       "        }if (force === true) {\n",
       "          display_loaded();\n",
       "        }} else if (Date.now() < window._bokeh_timeout) {\n",
       "        setTimeout(run_inline_js, 100);\n",
       "      } else if (!window._bokeh_failed_load) {\n",
       "        console.log(\"Bokeh: BokehJS failed to load within specified timeout.\");\n",
       "        window._bokeh_failed_load = true;\n",
       "      } else if (force !== true) {\n",
       "        var cell = $(document.getElementById(\"56d1c8ea-f863-4024-9c0a-fe2fb9201e32\")).parents('.cell').data().cell;\n",
       "        cell.output_area.append_execute_result(NB_LOAD_WARNING)\n",
       "      }\n",
       "  \n",
       "    }\n",
       "  \n",
       "    if (window._bokeh_is_loading === 0) {\n",
       "      console.log(\"Bokeh: BokehJS loaded, going straight to plotting\");\n",
       "      run_inline_js();\n",
       "    } else {\n",
       "      load_libs(js_urls, function() {\n",
       "        console.log(\"Bokeh: BokehJS plotting callback run at\", now());\n",
       "        run_inline_js();\n",
       "      });\n",
       "    }\n",
       "  }(this));\n",
       "</script>"
      ]
     },
     "metadata": {},
     "output_type": "display_data"
    }
   ],
   "source": [
    "y_hat = [beta[0]*xi**2 + beta[1]*xi + beta[2] for xi in x]\n",
    "show(Line({'x': x, 'y': y_hat}, x='x', y='y', width=750, height=400))"
   ]
  },
  {
   "cell_type": "markdown",
   "metadata": {
    "deletable": true,
    "editable": true,
    "slideshow": {
     "slide_type": "slide"
    }
   },
   "source": [
    "### Least Squares the way your _crazy uncle Eddie_ does it...\n",
    "\n",
    "...'cause he used to work at NASA and code in Forth."
   ]
  },
  {
   "cell_type": "markdown",
   "metadata": {
    "deletable": true,
    "editable": true,
    "slideshow": {
     "slide_type": "subslide"
    }
   },
   "source": [
    "[`cvxopt`](http://cvxopt.org/) provides a [`qp`](http://cvxopt.org/userguide/coneprog.html#quadratic-programming) method that can solve anything of this form.\n",
    "\n",
    "$$\n",
    "\\begin{align}\n",
    "    \\text{min}  \\ \\ \\ & \\ \\frac{1}{2} \\beta'P\\beta + q'\\beta \\\\\n",
    "                      & \\\\\n",
    "    \\text{s.t.} \\ \\ \\ & \\ G\\beta \\preceq h \\\\\n",
    "                      & \\\\\n",
    "                      & \\ A\\beta = b\n",
    "\\end{align}\n",
    "$$\n"
   ]
  },
  {
   "cell_type": "markdown",
   "metadata": {
    "deletable": true,
    "editable": true,
    "slideshow": {
     "slide_type": "subslide"
    }
   },
   "source": [
    "So we need to convert from \n",
    "\n",
    "$$\\frac{1}{2} \\beta'X'X\\beta - y'X\\beta + \\frac{1}{2} y'y $$\n",
    "\n",
    "to another form\n",
    "\n",
    "$$\\frac{1}{2} \\beta'P\\beta + q'\\beta$$"
   ]
  },
  {
   "cell_type": "markdown",
   "metadata": {
    "deletable": true,
    "editable": true,
    "slideshow": {
     "slide_type": "fragment"
    }
   },
   "source": [
    "which is simply\n",
    "\n",
    "$$P = X'X, q = -y$$"
   ]
  },
  {
   "cell_type": "code",
   "execution_count": 66,
   "metadata": {
    "collapsed": false,
    "deletable": true,
    "editable": true,
    "slideshow": {
     "slide_type": "subslide"
    }
   },
   "outputs": [
    {
     "name": "stdout",
     "output_type": "stream",
     "text": [
      "[ 2.99e+00]\n",
      "[-1.86e+00]\n",
      "[ 9.50e+00]\n",
      "\n"
     ]
    }
   ],
   "source": [
    "import cvxopt as cvx\n",
    "\n",
    "P = cvx.matrix(np.matmul(Xt, X))\n",
    "q = cvx.matrix(-1 * np.matmul(y.transpose(), X))\n",
    "solution = cvx.solvers.qp(P, q)\n",
    "beta = solution['x'] # unrelated to our x\n",
    "print(beta)"
   ]
  },
  {
   "cell_type": "markdown",
   "metadata": {
    "deletable": true,
    "editable": true,
    "slideshow": {
     "slide_type": "subslide"
    }
   },
   "source": [
    "How'd Crazy Uncle Eddie do?"
   ]
  },
  {
   "cell_type": "code",
   "execution_count": 67,
   "metadata": {
    "collapsed": false,
    "deletable": true,
    "editable": true,
    "slideshow": {
     "slide_type": "-"
    }
   },
   "outputs": [
    {
     "data": {
      "text/html": [
       "\n",
       "\n",
       "    <div class=\"bk-root\">\n",
       "        <div class=\"bk-plotdiv\" id=\"9ead400d-27c1-44e1-bbbc-a88321bf793b\"></div>\n",
       "    </div>\n",
       "<script type=\"text/javascript\">\n",
       "  \n",
       "  (function(global) {\n",
       "    function now() {\n",
       "      return new Date();\n",
       "    }\n",
       "  \n",
       "    var force = false;\n",
       "  \n",
       "    if (typeof (window._bokeh_onload_callbacks) === \"undefined\" || force === true) {\n",
       "      window._bokeh_onload_callbacks = [];\n",
       "      window._bokeh_is_loading = undefined;\n",
       "    }\n",
       "  \n",
       "  \n",
       "    \n",
       "    if (typeof (window._bokeh_timeout) === \"undefined\" || force === true) {\n",
       "      window._bokeh_timeout = Date.now() + 0;\n",
       "      window._bokeh_failed_load = false;\n",
       "    }\n",
       "  \n",
       "    var NB_LOAD_WARNING = {'data': {'text/html':\n",
       "       \"<div style='background-color: #fdd'>\\n\"+\n",
       "       \"<p>\\n\"+\n",
       "       \"BokehJS does not appear to have successfully loaded. If loading BokehJS from CDN, this \\n\"+\n",
       "       \"may be due to a slow or bad network connection. Possible fixes:\\n\"+\n",
       "       \"</p>\\n\"+\n",
       "       \"<ul>\\n\"+\n",
       "       \"<li>re-rerun `output_notebook()` to attempt to load from CDN again, or</li>\\n\"+\n",
       "       \"<li>use INLINE resources instead, as so:</li>\\n\"+\n",
       "       \"</ul>\\n\"+\n",
       "       \"<code>\\n\"+\n",
       "       \"from bokeh.resources import INLINE\\n\"+\n",
       "       \"output_notebook(resources=INLINE)\\n\"+\n",
       "       \"</code>\\n\"+\n",
       "       \"</div>\"}};\n",
       "  \n",
       "    function display_loaded() {\n",
       "      if (window.Bokeh !== undefined) {\n",
       "        document.getElementById(\"9ead400d-27c1-44e1-bbbc-a88321bf793b\").textContent = \"BokehJS successfully loaded.\";\n",
       "      } else if (Date.now() < window._bokeh_timeout) {\n",
       "        setTimeout(display_loaded, 100)\n",
       "      }\n",
       "    }\n",
       "  \n",
       "    function run_callbacks() {\n",
       "      window._bokeh_onload_callbacks.forEach(function(callback) { callback() });\n",
       "      delete window._bokeh_onload_callbacks\n",
       "      console.info(\"Bokeh: all callbacks have finished\");\n",
       "    }\n",
       "  \n",
       "    function load_libs(js_urls, callback) {\n",
       "      window._bokeh_onload_callbacks.push(callback);\n",
       "      if (window._bokeh_is_loading > 0) {\n",
       "        console.log(\"Bokeh: BokehJS is being loaded, scheduling callback at\", now());\n",
       "        return null;\n",
       "      }\n",
       "      if (js_urls == null || js_urls.length === 0) {\n",
       "        run_callbacks();\n",
       "        return null;\n",
       "      }\n",
       "      console.log(\"Bokeh: BokehJS not loaded, scheduling load and callback at\", now());\n",
       "      window._bokeh_is_loading = js_urls.length;\n",
       "      for (var i = 0; i < js_urls.length; i++) {\n",
       "        var url = js_urls[i];\n",
       "        var s = document.createElement('script');\n",
       "        s.src = url;\n",
       "        s.async = false;\n",
       "        s.onreadystatechange = s.onload = function() {\n",
       "          window._bokeh_is_loading--;\n",
       "          if (window._bokeh_is_loading === 0) {\n",
       "            console.log(\"Bokeh: all BokehJS libraries loaded\");\n",
       "            run_callbacks()\n",
       "          }\n",
       "        };\n",
       "        s.onerror = function() {\n",
       "          console.warn(\"failed to load library \" + url);\n",
       "        };\n",
       "        console.log(\"Bokeh: injecting script tag for BokehJS library: \", url);\n",
       "        document.getElementsByTagName(\"head\")[0].appendChild(s);\n",
       "      }\n",
       "    };var element = document.getElementById(\"9ead400d-27c1-44e1-bbbc-a88321bf793b\");\n",
       "    if (element == null) {\n",
       "      console.log(\"Bokeh: ERROR: autoload.js configured with elementid '9ead400d-27c1-44e1-bbbc-a88321bf793b' but no matching script tag was found. \")\n",
       "      return false;\n",
       "    }\n",
       "  \n",
       "    var js_urls = [];\n",
       "  \n",
       "    var inline_js = [\n",
       "      function(Bokeh) {\n",
       "        (function() {\n",
       "          var fn = function() {\n",
       "            var docs_json = {\"6997f468-d855-4ab2-bc0b-580d8941fa93\":{\"roots\":{\"references\":[{\"attributes\":{\"axis_label\":\"x\",\"formatter\":{\"id\":\"a93364a1-0c26-4fd6-9921-9b61f7a0ccda\",\"type\":\"BasicTickFormatter\"},\"plot\":{\"id\":\"7541f13c-9e7c-4cd8-8785-d7cd6ce82e7a\",\"subtype\":\"Chart\",\"type\":\"Plot\"},\"ticker\":{\"id\":\"722f29cc-19d6-449e-9b5e-a7382af531ae\",\"type\":\"BasicTicker\"}},\"id\":\"0eea7e18-f1ef-4e5d-8b13-cffe0dee8d9a\",\"type\":\"LinearAxis\"},{\"attributes\":{\"location\":\"top_left\",\"plot\":{\"id\":\"7541f13c-9e7c-4cd8-8785-d7cd6ce82e7a\",\"subtype\":\"Chart\",\"type\":\"Plot\"}},\"id\":\"cbb770d3-56dd-49ca-a423-5a37d75959d2\",\"type\":\"Legend\"},{\"attributes\":{\"axis_label\":\"y\",\"formatter\":{\"id\":\"3f23babe-591c-4ccf-a566-2b7eae982677\",\"type\":\"BasicTickFormatter\"},\"plot\":{\"id\":\"7541f13c-9e7c-4cd8-8785-d7cd6ce82e7a\",\"subtype\":\"Chart\",\"type\":\"Plot\"},\"ticker\":{\"id\":\"3c4b0bec-214c-4cf9-8d6a-7ed16fdbe806\",\"type\":\"BasicTicker\"}},\"id\":\"874e4f71-8271-4824-a099-887ca51637c2\",\"type\":\"LinearAxis\"},{\"attributes\":{},\"id\":\"722f29cc-19d6-449e-9b5e-a7382af531ae\",\"type\":\"BasicTicker\"},{\"attributes\":{\"plot\":{\"id\":\"7541f13c-9e7c-4cd8-8785-d7cd6ce82e7a\",\"subtype\":\"Chart\",\"type\":\"Plot\"},\"ticker\":{\"id\":\"722f29cc-19d6-449e-9b5e-a7382af531ae\",\"type\":\"BasicTicker\"}},\"id\":\"80bafb0e-a438-4c17-b19e-c90ab2e2259c\",\"type\":\"Grid\"},{\"attributes\":{},\"id\":\"3c4b0bec-214c-4cf9-8d6a-7ed16fdbe806\",\"type\":\"BasicTicker\"},{\"attributes\":{\"plot\":{\"id\":\"7541f13c-9e7c-4cd8-8785-d7cd6ce82e7a\",\"subtype\":\"Chart\",\"type\":\"Plot\"}},\"id\":\"12ee243f-a314-4051-ad53-b0e317b1aaee\",\"type\":\"WheelZoomTool\"},{\"attributes\":{\"dimension\":1,\"plot\":{\"id\":\"7541f13c-9e7c-4cd8-8785-d7cd6ce82e7a\",\"subtype\":\"Chart\",\"type\":\"Plot\"},\"ticker\":{\"id\":\"3c4b0bec-214c-4cf9-8d6a-7ed16fdbe806\",\"type\":\"BasicTicker\"}},\"id\":\"58531391-1641-4c65-bacc-b5608a3b6bc3\",\"type\":\"Grid\"},{\"attributes\":{\"data_source\":{\"id\":\"26051608-ea3c-497d-8c0b-ab6b7b0ddcd9\",\"type\":\"ColumnDataSource\"},\"glyph\":{\"id\":\"7dd8d0bb-5fbd-4ee9-ba75-a4767bc7ba13\",\"type\":\"Line\"},\"hover_glyph\":null,\"nonselection_glyph\":null,\"selection_glyph\":null},\"id\":\"2666a627-68f9-4a0d-acbd-547d40b3f549\",\"type\":\"GlyphRenderer\"},{\"attributes\":{},\"id\":\"fa882ae9-5fd2-475b-84fb-ee5fff0e65ad\",\"type\":\"ToolEvents\"},{\"attributes\":{\"bottom_units\":\"screen\",\"fill_alpha\":{\"value\":0.5},\"fill_color\":{\"value\":\"lightgrey\"},\"left_units\":\"screen\",\"level\":\"overlay\",\"line_alpha\":{\"value\":1.0},\"line_color\":{\"value\":\"black\"},\"line_dash\":[4,4],\"line_width\":{\"value\":2},\"plot\":null,\"render_mode\":\"css\",\"right_units\":\"screen\",\"top_units\":\"screen\"},\"id\":\"d907eb22-ffd7-4751-93dd-7399b7a87139\",\"type\":\"BoxAnnotation\"},{\"attributes\":{\"plot\":null,\"text\":null},\"id\":\"b0a09609-aa79-4def-ad75-7c4c5c9268ee\",\"type\":\"Title\"},{\"attributes\":{\"plot\":{\"id\":\"7541f13c-9e7c-4cd8-8785-d7cd6ce82e7a\",\"subtype\":\"Chart\",\"type\":\"Plot\"}},\"id\":\"70613986-1942-41c1-a6f2-63d52654b5ed\",\"type\":\"ResetTool\"},{\"attributes\":{\"plot\":{\"id\":\"7541f13c-9e7c-4cd8-8785-d7cd6ce82e7a\",\"subtype\":\"Chart\",\"type\":\"Plot\"}},\"id\":\"82c2cc68-dc32-45aa-9bf4-1f109eaedf9c\",\"type\":\"SaveTool\"},{\"attributes\":{\"plot\":{\"id\":\"7541f13c-9e7c-4cd8-8785-d7cd6ce82e7a\",\"subtype\":\"Chart\",\"type\":\"Plot\"}},\"id\":\"2f3b59c0-e446-43e4-8c5a-160aa974bdf6\",\"type\":\"PanTool\"},{\"attributes\":{\"callback\":null,\"end\":11.962327363597893,\"start\":-11.922594268640811},\"id\":\"38f71302-2204-4db4-86dd-488f2650ccef\",\"type\":\"Range1d\"},{\"attributes\":{\"overlay\":{\"id\":\"d907eb22-ffd7-4751-93dd-7399b7a87139\",\"type\":\"BoxAnnotation\"},\"plot\":{\"id\":\"7541f13c-9e7c-4cd8-8785-d7cd6ce82e7a\",\"subtype\":\"Chart\",\"type\":\"Plot\"}},\"id\":\"6a4b3d9f-73ba-4e3e-826c-e805c2dd4694\",\"type\":\"BoxZoomTool\"},{\"attributes\":{},\"id\":\"3f23babe-591c-4ccf-a566-2b7eae982677\",\"type\":\"BasicTickFormatter\"},{\"attributes\":{\"below\":[{\"id\":\"0eea7e18-f1ef-4e5d-8b13-cffe0dee8d9a\",\"type\":\"LinearAxis\"}],\"css_classes\":null,\"height\":400,\"left\":[{\"id\":\"874e4f71-8271-4824-a099-887ca51637c2\",\"type\":\"LinearAxis\"}],\"renderers\":[{\"id\":\"d907eb22-ffd7-4751-93dd-7399b7a87139\",\"type\":\"BoxAnnotation\"},{\"id\":\"2666a627-68f9-4a0d-acbd-547d40b3f549\",\"type\":\"GlyphRenderer\"},{\"id\":\"cbb770d3-56dd-49ca-a423-5a37d75959d2\",\"type\":\"Legend\"},{\"id\":\"0eea7e18-f1ef-4e5d-8b13-cffe0dee8d9a\",\"type\":\"LinearAxis\"},{\"id\":\"874e4f71-8271-4824-a099-887ca51637c2\",\"type\":\"LinearAxis\"},{\"id\":\"80bafb0e-a438-4c17-b19e-c90ab2e2259c\",\"type\":\"Grid\"},{\"id\":\"58531391-1641-4c65-bacc-b5608a3b6bc3\",\"type\":\"Grid\"}],\"title\":{\"id\":\"b0a09609-aa79-4def-ad75-7c4c5c9268ee\",\"type\":\"Title\"},\"tool_events\":{\"id\":\"fa882ae9-5fd2-475b-84fb-ee5fff0e65ad\",\"type\":\"ToolEvents\"},\"toolbar\":{\"id\":\"60bba278-1938-463e-a93c-7673205fe4db\",\"type\":\"Toolbar\"},\"width\":750,\"x_mapper_type\":\"auto\",\"x_range\":{\"id\":\"38f71302-2204-4db4-86dd-488f2650ccef\",\"type\":\"Range1d\"},\"y_mapper_type\":\"auto\",\"y_range\":{\"id\":\"e2048d69-7568-43ff-98bc-3ab7302de8ad\",\"type\":\"Range1d\"}},\"id\":\"7541f13c-9e7c-4cd8-8785-d7cd6ce82e7a\",\"subtype\":\"Chart\",\"type\":\"Plot\"},{\"attributes\":{\"plot\":{\"id\":\"7541f13c-9e7c-4cd8-8785-d7cd6ce82e7a\",\"subtype\":\"Chart\",\"type\":\"Plot\"}},\"id\":\"fc430730-7461-42f1-a748-adbef69c2564\",\"type\":\"HelpTool\"},{\"attributes\":{\"active_drag\":\"auto\",\"active_scroll\":\"auto\",\"active_tap\":\"auto\",\"tools\":[{\"id\":\"2f3b59c0-e446-43e4-8c5a-160aa974bdf6\",\"type\":\"PanTool\"},{\"id\":\"12ee243f-a314-4051-ad53-b0e317b1aaee\",\"type\":\"WheelZoomTool\"},{\"id\":\"6a4b3d9f-73ba-4e3e-826c-e805c2dd4694\",\"type\":\"BoxZoomTool\"},{\"id\":\"82c2cc68-dc32-45aa-9bf4-1f109eaedf9c\",\"type\":\"SaveTool\"},{\"id\":\"70613986-1942-41c1-a6f2-63d52654b5ed\",\"type\":\"ResetTool\"},{\"id\":\"fc430730-7461-42f1-a748-adbef69c2564\",\"type\":\"HelpTool\"}]},\"id\":\"60bba278-1938-463e-a93c-7673205fe4db\",\"type\":\"Toolbar\"},{\"attributes\":{\"callback\":null,\"column_names\":[\"x_values\",\"y_values\"],\"data\":{\"chart_index\":[null,null,null,null,null,null,null,null,null,null,null,null,null,null,null,null,null,null,null,null,null,null,null,null,null,null,null,null,null,null,null,null,null,null,null,null,null,null,null,null,null,null,null,null,null,null,null,null,null,null,null,null,null,null,null,null,null,null,null,null,null,null,null,null,null,null,null,null,null,null,null,null,null,null,null,null,null,null,null,null,null,null,null,null,null,null,null,null,null,null,null,null,null,null,null,null,null,null,null,null,null,null,null,null,null,null,null,null,null,null,null,null,null,null,null,null,null,null,null,null,null,null,null,null,null,null,null,null,null,null,null,null,null,null,null,null,null,null,null,null,null,null,null,null,null,null,null,null,null,null,null,null,null,null,null,null,null,null,null,null,null,null,null,null,null,null,null,null,null,null,null,null,null,null,null,null,null,null,null,null,null,null,null,null,null,null,null,null,null,null,null,null,null,null,null,null,null,null,null,null,null,null,null,null,null,null,null,null,null,null,null,null,null,null,null,null,null,null,null,null,null,null,null,null,null,null,null,null,null,null,null,null,null,null,null,null,null,null,null,null,null,null,null,null,null,null,null,null,null,null,null,null,null,null,null,null,null,null,null,null,null,null,null,null,null,null,null,null,null,null,null,null,null,null,null,null,null,null,null,null,null,null,null,null,null,null,null,null,null,null,null,null,null,null,null,null,null,null,null,null,null,null,null,null,null,null,null,null,null,null,null,null,null,null,null,null,null,null,null,null,null,null,null,null,null,null,null,null,null,null,null,null,null,null,null,null,null,null,null,null,null,null,null,null,null,null,null,null,null,null,null,null,null,null,null,null,null,null,null,null,null,null,null,null,null,null,null,null,null,null,null,null,null,null,null,null,null,null,null,null,null,null,null,null,null,null,null,null,null,null,null,null,null,null,null,null,null,null,null,null,null,null,null,null,null,null,null,null,null,null,null,null,null,null,null,null,null,null,null,null,null,null,null,null,null,null,null,null,null,null,null,null,null,null,null,null,null,null,null,null,null,null,null,null,null,null,null,null,null,null,null,null,null,null,null,null,null,null,null,null,null,null,null,null,null,null,null,null,null,null,null,null,null,null,null,null,null,null,null,null,null,null,null,null,null,null,null,null,null,null,null,null,null,null,null,null,null,null,null,null],\"x_values\":{\"__ndarray__\":\"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\",\"dtype\":\"float64\",\"shape\":[500]},\"y_values\":{\"__ndarray__\":\"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\",\"dtype\":\"float64\",\"shape\":[500]}}},\"id\":\"26051608-ea3c-497d-8c0b-ab6b7b0ddcd9\",\"type\":\"ColumnDataSource\"},{\"attributes\":{\"callback\":null,\"end\":354.8545439254497,\"start\":-22.207337962423935},\"id\":\"e2048d69-7568-43ff-98bc-3ab7302de8ad\",\"type\":\"Range1d\"},{\"attributes\":{\"line_color\":{\"value\":\"#f22c40\"},\"line_width\":{\"value\":2},\"x\":{\"field\":\"x_values\"},\"y\":{\"field\":\"y_values\"}},\"id\":\"7dd8d0bb-5fbd-4ee9-ba75-a4767bc7ba13\",\"type\":\"Line\"},{\"attributes\":{},\"id\":\"a93364a1-0c26-4fd6-9921-9b61f7a0ccda\",\"type\":\"BasicTickFormatter\"}],\"root_ids\":[\"7541f13c-9e7c-4cd8-8785-d7cd6ce82e7a\"]},\"title\":\"Bokeh Application\",\"version\":\"0.12.4\"}};\n",
       "            var render_items = [{\"docid\":\"6997f468-d855-4ab2-bc0b-580d8941fa93\",\"elementid\":\"9ead400d-27c1-44e1-bbbc-a88321bf793b\",\"modelid\":\"7541f13c-9e7c-4cd8-8785-d7cd6ce82e7a\"}];\n",
       "            \n",
       "            Bokeh.embed.embed_items(docs_json, render_items);\n",
       "          };\n",
       "          if (document.readyState != \"loading\") fn();\n",
       "          else document.addEventListener(\"DOMContentLoaded\", fn);\n",
       "        })();\n",
       "      },\n",
       "      function(Bokeh) {\n",
       "      }\n",
       "    ];\n",
       "  \n",
       "    function run_inline_js() {\n",
       "      \n",
       "      if ((window.Bokeh !== undefined) || (force === true)) {\n",
       "        for (var i = 0; i < inline_js.length; i++) {\n",
       "          inline_js[i](window.Bokeh);\n",
       "        }if (force === true) {\n",
       "          display_loaded();\n",
       "        }} else if (Date.now() < window._bokeh_timeout) {\n",
       "        setTimeout(run_inline_js, 100);\n",
       "      } else if (!window._bokeh_failed_load) {\n",
       "        console.log(\"Bokeh: BokehJS failed to load within specified timeout.\");\n",
       "        window._bokeh_failed_load = true;\n",
       "      } else if (force !== true) {\n",
       "        var cell = $(document.getElementById(\"9ead400d-27c1-44e1-bbbc-a88321bf793b\")).parents('.cell').data().cell;\n",
       "        cell.output_area.append_execute_result(NB_LOAD_WARNING)\n",
       "      }\n",
       "  \n",
       "    }\n",
       "  \n",
       "    if (window._bokeh_is_loading === 0) {\n",
       "      console.log(\"Bokeh: BokehJS loaded, going straight to plotting\");\n",
       "      run_inline_js();\n",
       "    } else {\n",
       "      load_libs(js_urls, function() {\n",
       "        console.log(\"Bokeh: BokehJS plotting callback run at\", now());\n",
       "        run_inline_js();\n",
       "      });\n",
       "    }\n",
       "  }(this));\n",
       "</script>"
      ]
     },
     "metadata": {},
     "output_type": "display_data"
    }
   ],
   "source": [
    "y_hat = [beta[0]*xi**2 + beta[1]*xi + beta[2] for xi in x]\n",
    "show(Line({'x': x, 'y': y_hat}, x='x', y='y', width=750, height=400))"
   ]
  },
  {
   "cell_type": "markdown",
   "metadata": {
    "deletable": true,
    "editable": true,
    "slideshow": {
     "slide_type": "subslide"
    }
   },
   "source": [
    "#### So what's different about Crazy Uncle Eddie?"
   ]
  },
  {
   "cell_type": "markdown",
   "metadata": {
    "deletable": true,
    "editable": true,
    "slideshow": {
     "slide_type": "fragment"
    }
   },
   "source": [
    "Well, besides the obvious.\n",
    "\n",
    "![](images/crazy-uncle-eddie.jpg)"
   ]
  },
  {
   "cell_type": "markdown",
   "metadata": {
    "deletable": true,
    "editable": true,
    "slideshow": {
     "slide_type": "subslide"
    }
   },
   "source": [
    "While all three techniques produced the _same result_, Crazy Uncle Eddie's is interesting because it is more general than the others.\n",
    "\n",
    "Crazy Eddie can solve any quadratic optimization problem, of which Least Squares is _just one instance_."
   ]
  },
  {
   "cell_type": "markdown",
   "metadata": {
    "deletable": true,
    "editable": true,
    "slideshow": {
     "slide_type": "fragment"
    }
   },
   "source": [
    "If we change the structure of the problem slightly:\n",
    "\n",
    "* We probably can't solve it with `scikit-learn`\n",
    "* Grams and Gramps have to go back to their chalkboard\n",
    "* Crazy Eddie can update the inputs to his problem and reoptimize"
   ]
  },
  {
   "cell_type": "markdown",
   "metadata": {
    "deletable": true,
    "editable": true,
    "slideshow": {
     "slide_type": "slide"
    }
   },
   "source": [
    "## Application 1: Portfolio Optimization\n",
    "\n",
    "We have a big pot of money to allocate among different investments. Lucky us!"
   ]
  },
  {
   "cell_type": "markdown",
   "metadata": {
    "deletable": true,
    "editable": true,
    "slideshow": {
     "slide_type": "fragment"
    }
   },
   "source": [
    "Some investment returns are correlated. They go up and down together.\n",
    "\n",
    "Other returns are anticorrelated. They tend to do the opposite things."
   ]
  },
  {
   "cell_type": "markdown",
   "metadata": {
    "deletable": true,
    "editable": true,
    "slideshow": {
     "slide_type": "fragment"
    }
   },
   "source": [
    "How do we allocate our money to maximize our expected return, subject to our tolerance for risk?"
   ]
  },
  {
   "cell_type": "markdown",
   "metadata": {
    "deletable": true,
    "editable": true,
    "slideshow": {
     "slide_type": "subslide"
    }
   },
   "source": [
    "We'll use 100 months of [exchange rate data](http://www.federalreserve.gov/datadownload/Build.aspx?rel=H10) from the Fed, circa 2014.\n",
    "\n",
    "Since this talk isn't about data wrangling, I've already cleaned it up into the important pieces.\n",
    "\n",
    "* Expected monthly return data for each foreign currency\n",
    "* A covariance matrix for those investments"
   ]
  },
  {
   "cell_type": "markdown",
   "metadata": {
    "deletable": true,
    "editable": true,
    "slideshow": {
     "slide_type": "subslide"
    }
   },
   "source": [
    "### The Markowitz Porfolio Optimization Model\n",
    "\n",
    "#### Inputs:\n",
    "\n",
    "$$\\mu = \\text{vector of expected investment returns}$$\n",
    "\n",
    "$$\\Sigma = \\text{covariance matrix for returns}$$\n",
    "\n",
    "$$\\alpha = \\text{unitless measure of risk aversion}$$"
   ]
  },
  {
   "cell_type": "markdown",
   "metadata": {
    "deletable": true,
    "editable": true,
    "slideshow": {
     "slide_type": "fragment"
    }
   },
   "source": [
    "#### Model:\n",
    "\n",
    "$x$ tells me how much of my total budget to put in each investment.\n",
    "\n",
    "$$\n",
    "\\begin{align}\n",
    "    \\text{max}  \\ \\ \\ & \\ \\mu'x - \\alpha x \\Sigma x \\\\\n",
    "    \\text{s.t.} \\ \\ \\ & \\ e'x = 1 \\\\\n",
    "                      & \\ x \\ge 0\n",
    "\\end{align}\n",
    "$$"
   ]
  },
  {
   "cell_type": "markdown",
   "metadata": {
    "deletable": true,
    "editable": true,
    "slideshow": {
     "slide_type": "fragment"
    }
   },
   "source": [
    "But wait! This is a _maximization_ problem! The last model used $\\text{min}$.\n",
    "\n",
    "$$\n",
    "\\begin{align}\n",
    "    \\text{min}  \\ \\ \\ & \\ \\alpha x \\Sigma x - \\mu'x \\\\\n",
    "    \\text{s.t.} \\ \\ \\ & \\ e'x = 1 \\\\\n",
    "                      & \\ x \\ge 0\n",
    "\\end{align}\n",
    "$$"
   ]
  },
  {
   "cell_type": "markdown",
   "metadata": {
    "deletable": true,
    "editable": true,
    "slideshow": {
     "slide_type": "subslide"
    }
   },
   "source": [
    "The only differences between this model and the least squares model are the constraints we've added.\n",
    "\n",
    "This one forces the model to allocate all of my budget into investments:\n",
    "\n",
    "$$e'x = 1$$\n",
    "\n",
    "This one disallows the model from making negative investments:\n",
    "\n",
    "$$x \\ge 0$$"
   ]
  },
  {
   "cell_type": "code",
   "execution_count": 68,
   "metadata": {
    "collapsed": false,
    "deletable": true,
    "editable": true,
    "slideshow": {
     "slide_type": "subslide"
    }
   },
   "outputs": [
    {
     "data": {
      "text/html": [
       "<div>\n",
       "<table border=\"1\" class=\"dataframe\">\n",
       "  <thead>\n",
       "    <tr style=\"text-align: right;\">\n",
       "      <th></th>\n",
       "      <th>Unnamed: 0</th>\n",
       "      <th>mean</th>\n",
       "      <th>variance</th>\n",
       "    </tr>\n",
       "  </thead>\n",
       "  <tbody>\n",
       "    <tr>\n",
       "      <th>0</th>\n",
       "      <td>RXI$US_N.M.AL</td>\n",
       "      <td>0.152151</td>\n",
       "      <td>10.996718</td>\n",
       "    </tr>\n",
       "    <tr>\n",
       "      <th>1</th>\n",
       "      <td>RXI$US_N.M.EU</td>\n",
       "      <td>0.002683</td>\n",
       "      <td>5.928188</td>\n",
       "    </tr>\n",
       "    <tr>\n",
       "      <th>2</th>\n",
       "      <td>RXI$US_N.M.NZ</td>\n",
       "      <td>0.220217</td>\n",
       "      <td>9.690793</td>\n",
       "    </tr>\n",
       "    <tr>\n",
       "      <th>3</th>\n",
       "      <td>RXI$US_N.M.UK</td>\n",
       "      <td>-0.159779</td>\n",
       "      <td>5.098969</td>\n",
       "    </tr>\n",
       "    <tr>\n",
       "      <th>4</th>\n",
       "      <td>RXI_N.M.BZ</td>\n",
       "      <td>-0.128507</td>\n",
       "      <td>12.743632</td>\n",
       "    </tr>\n",
       "  </tbody>\n",
       "</table>\n",
       "</div>"
      ],
      "text/plain": [
       "      Unnamed: 0      mean   variance\n",
       "0  RXI$US_N.M.AL  0.152151  10.996718\n",
       "1  RXI$US_N.M.EU  0.002683   5.928188\n",
       "2  RXI$US_N.M.NZ  0.220217   9.690793\n",
       "3  RXI$US_N.M.UK -0.159779   5.098969\n",
       "4     RXI_N.M.BZ -0.128507  12.743632"
      ]
     },
     "execution_count": 68,
     "metadata": {},
     "output_type": "execute_result"
    }
   ],
   "source": [
    "# Read in the returns and covariance data.\n",
    "import pandas as pd\n",
    "exp_returns = pd.read_csv('portfolio-optimization/currency-returns.csv')\n",
    "exp_returns.head()"
   ]
  },
  {
   "cell_type": "code",
   "execution_count": 69,
   "metadata": {
    "collapsed": false,
    "deletable": true,
    "editable": true,
    "slideshow": {
     "slide_type": "subslide"
    }
   },
   "outputs": [
    {
     "data": {
      "text/html": [
       "<div>\n",
       "<table border=\"1\" class=\"dataframe\">\n",
       "  <thead>\n",
       "    <tr style=\"text-align: right;\">\n",
       "      <th></th>\n",
       "      <th>0</th>\n",
       "      <th>1</th>\n",
       "      <th>2</th>\n",
       "      <th>3</th>\n",
       "      <th>4</th>\n",
       "      <th>5</th>\n",
       "      <th>6</th>\n",
       "      <th>7</th>\n",
       "      <th>8</th>\n",
       "      <th>9</th>\n",
       "      <th>...</th>\n",
       "      <th>13</th>\n",
       "      <th>14</th>\n",
       "      <th>15</th>\n",
       "      <th>16</th>\n",
       "      <th>17</th>\n",
       "      <th>18</th>\n",
       "      <th>19</th>\n",
       "      <th>20</th>\n",
       "      <th>21</th>\n",
       "      <th>22</th>\n",
       "    </tr>\n",
       "  </thead>\n",
       "  <tbody>\n",
       "    <tr>\n",
       "      <th>0</th>\n",
       "      <td>10.996718</td>\n",
       "      <td>5.181782</td>\n",
       "      <td>8.654762</td>\n",
       "      <td>4.457704</td>\n",
       "      <td>9.789818</td>\n",
       "      <td>5.421746</td>\n",
       "      <td>0.194428</td>\n",
       "      <td>5.166875</td>\n",
       "      <td>0.028496</td>\n",
       "      <td>4.379632</td>\n",
       "      <td>...</td>\n",
       "      <td>6.494732</td>\n",
       "      <td>7.078498</td>\n",
       "      <td>7.083824</td>\n",
       "      <td>8.574515</td>\n",
       "      <td>3.287411</td>\n",
       "      <td>0.343673</td>\n",
       "      <td>4.163674</td>\n",
       "      <td>2.450772</td>\n",
       "      <td>2.381722</td>\n",
       "      <td>0.542450</td>\n",
       "    </tr>\n",
       "    <tr>\n",
       "      <th>1</th>\n",
       "      <td>5.181782</td>\n",
       "      <td>5.928188</td>\n",
       "      <td>4.487890</td>\n",
       "      <td>3.659548</td>\n",
       "      <td>4.686754</td>\n",
       "      <td>2.467804</td>\n",
       "      <td>0.313081</td>\n",
       "      <td>5.867674</td>\n",
       "      <td>0.038117</td>\n",
       "      <td>2.545200</td>\n",
       "      <td>...</td>\n",
       "      <td>2.894461</td>\n",
       "      <td>5.350733</td>\n",
       "      <td>5.515164</td>\n",
       "      <td>4.314480</td>\n",
       "      <td>2.265781</td>\n",
       "      <td>0.418269</td>\n",
       "      <td>5.173168</td>\n",
       "      <td>1.559857</td>\n",
       "      <td>1.351946</td>\n",
       "      <td>1.776855</td>\n",
       "    </tr>\n",
       "    <tr>\n",
       "      <th>2</th>\n",
       "      <td>8.654762</td>\n",
       "      <td>4.487890</td>\n",
       "      <td>9.690793</td>\n",
       "      <td>4.330531</td>\n",
       "      <td>8.130412</td>\n",
       "      <td>4.268307</td>\n",
       "      <td>0.129303</td>\n",
       "      <td>4.466514</td>\n",
       "      <td>0.017975</td>\n",
       "      <td>3.919170</td>\n",
       "      <td>...</td>\n",
       "      <td>5.536301</td>\n",
       "      <td>5.602586</td>\n",
       "      <td>6.054567</td>\n",
       "      <td>6.733828</td>\n",
       "      <td>2.811946</td>\n",
       "      <td>0.451742</td>\n",
       "      <td>3.903260</td>\n",
       "      <td>2.135899</td>\n",
       "      <td>2.569281</td>\n",
       "      <td>0.379954</td>\n",
       "    </tr>\n",
       "    <tr>\n",
       "      <th>3</th>\n",
       "      <td>4.457704</td>\n",
       "      <td>3.659548</td>\n",
       "      <td>4.330531</td>\n",
       "      <td>5.098969</td>\n",
       "      <td>4.301933</td>\n",
       "      <td>2.573100</td>\n",
       "      <td>0.137068</td>\n",
       "      <td>3.632088</td>\n",
       "      <td>0.012420</td>\n",
       "      <td>1.821456</td>\n",
       "      <td>...</td>\n",
       "      <td>2.775715</td>\n",
       "      <td>4.081803</td>\n",
       "      <td>4.233658</td>\n",
       "      <td>3.749874</td>\n",
       "      <td>1.780620</td>\n",
       "      <td>0.326828</td>\n",
       "      <td>3.335175</td>\n",
       "      <td>1.356927</td>\n",
       "      <td>1.014109</td>\n",
       "      <td>1.584577</td>\n",
       "    </tr>\n",
       "    <tr>\n",
       "      <th>4</th>\n",
       "      <td>9.789818</td>\n",
       "      <td>4.686754</td>\n",
       "      <td>8.130412</td>\n",
       "      <td>4.301933</td>\n",
       "      <td>12.743632</td>\n",
       "      <td>5.433992</td>\n",
       "      <td>0.279201</td>\n",
       "      <td>4.689891</td>\n",
       "      <td>-0.034405</td>\n",
       "      <td>5.567318</td>\n",
       "      <td>...</td>\n",
       "      <td>7.177333</td>\n",
       "      <td>7.288341</td>\n",
       "      <td>6.774689</td>\n",
       "      <td>8.761299</td>\n",
       "      <td>2.999360</td>\n",
       "      <td>0.843294</td>\n",
       "      <td>4.269524</td>\n",
       "      <td>2.163251</td>\n",
       "      <td>2.439204</td>\n",
       "      <td>0.496304</td>\n",
       "    </tr>\n",
       "  </tbody>\n",
       "</table>\n",
       "<p>5 rows × 23 columns</p>\n",
       "</div>"
      ],
      "text/plain": [
       "          0         1         2         3          4         5         6   \\\n",
       "0  10.996718  5.181782  8.654762  4.457704   9.789818  5.421746  0.194428   \n",
       "1   5.181782  5.928188  4.487890  3.659548   4.686754  2.467804  0.313081   \n",
       "2   8.654762  4.487890  9.690793  4.330531   8.130412  4.268307  0.129303   \n",
       "3   4.457704  3.659548  4.330531  5.098969   4.301933  2.573100  0.137068   \n",
       "4   9.789818  4.686754  8.130412  4.301933  12.743632  5.433992  0.279201   \n",
       "\n",
       "         7         8         9     ...           13        14        15  \\\n",
       "0  5.166875  0.028496  4.379632    ...     6.494732  7.078498  7.083824   \n",
       "1  5.867674  0.038117  2.545200    ...     2.894461  5.350733  5.515164   \n",
       "2  4.466514  0.017975  3.919170    ...     5.536301  5.602586  6.054567   \n",
       "3  3.632088  0.012420  1.821456    ...     2.775715  4.081803  4.233658   \n",
       "4  4.689891 -0.034405  5.567318    ...     7.177333  7.288341  6.774689   \n",
       "\n",
       "         16        17        18        19        20        21        22  \n",
       "0  8.574515  3.287411  0.343673  4.163674  2.450772  2.381722  0.542450  \n",
       "1  4.314480  2.265781  0.418269  5.173168  1.559857  1.351946  1.776855  \n",
       "2  6.733828  2.811946  0.451742  3.903260  2.135899  2.569281  0.379954  \n",
       "3  3.749874  1.780620  0.326828  3.335175  1.356927  1.014109  1.584577  \n",
       "4  8.761299  2.999360  0.843294  4.269524  2.163251  2.439204  0.496304  \n",
       "\n",
       "[5 rows x 23 columns]"
      ]
     },
     "execution_count": 69,
     "metadata": {},
     "output_type": "execute_result"
    }
   ],
   "source": [
    "returns_cov = pd.read_csv('portfolio-optimization/currency-covariance.csv', header=None)\n",
    "returns_cov.head()"
   ]
  },
  {
   "cell_type": "code",
   "execution_count": 70,
   "metadata": {
    "collapsed": false,
    "deletable": true,
    "editable": true,
    "slideshow": {
     "slide_type": "subslide"
    }
   },
   "outputs": [],
   "source": [
    "# A model that will return an optimal portfolio for any risk aversion.\n",
    "def portfolio(alpha):\n",
    "    P = cvx.matrix(alpha * returns_cov.as_matrix())\n",
    "    q = cvx.matrix(-exp_returns['mean'].as_matrix())\n",
    "    G = cvx.matrix(0.0, (len(q),len(q)))\n",
    "    G[::len(q)+1] = -1.0\n",
    "    h = cvx.matrix(0.0, (len(q),1))\n",
    "    A = cvx.matrix(1.0, (1,len(q)))\n",
    "    b = cvx.matrix(1.0)\n",
    "\n",
    "    solution = cvx.solvers.qp(P, q, G, h, A, b)\n",
    "    return exp_returns['mean'].dot(solution['x'])[0]"
   ]
  },
  {
   "cell_type": "code",
   "execution_count": 71,
   "metadata": {
    "collapsed": false,
    "deletable": true,
    "editable": true,
    "slideshow": {
     "slide_type": "subslide"
    }
   },
   "outputs": [
    {
     "name": "stdout",
     "output_type": "stream",
     "text": [
      "     pcost       dcost       gap    pres   dres\n",
      " 0: -1.4109e+00 -1.2870e+00  6e+01  9e+00  5e+00\n",
      " 1: -1.8207e-02 -1.2285e+00  1e+00  5e-15  8e-16\n",
      " 2: -6.2411e-02 -2.9637e-01  2e-01  7e-16  7e-16\n",
      " 3: -1.4238e-01 -3.5309e-01  2e-01  8e-16  5e-16\n",
      " 4: -2.8201e-01 -2.9496e-01  1e-02  4e-16  5e-16\n",
      " 5: -2.8688e-01 -2.8703e-01  2e-04  1e-16  3e-16\n",
      " 6: -2.8695e-01 -2.8695e-01  2e-06  3e-16  2e-16\n",
      " 7: -2.8695e-01 -2.8695e-01  2e-08  1e-16  5e-16\n",
      "Optimal solution found.\n",
      "     pcost       dcost       gap    pres   dres\n",
      " 0: -2.6295e-01 -1.3019e+00  4e+01  5e+00  6e+00\n",
      " 1: -3.1048e-02 -1.0159e+00  2e+00  2e-01  2e-01\n",
      " 2:  3.3465e-02 -3.1889e-01  5e-01  3e-02  3e-02\n",
      " 3: -1.3476e-01 -2.5385e-01  1e-01  2e-17  5e-16\n",
      " 4: -1.9154e-01 -2.0318e-01  1e-02  2e-16  6e-16\n",
      " 5: -2.0001e-01 -2.0086e-01  9e-04  2e-16  5e-16\n",
      " 6: -2.0070e-01 -2.0074e-01  4e-05  1e-16  8e-16\n",
      " 7: -2.0073e-01 -2.0073e-01  1e-06  2e-16  1e-15\n",
      " 8: -2.0073e-01 -2.0073e-01  1e-08  1e-16  3e-16\n",
      "Optimal solution found.\n",
      "     pcost       dcost       gap    pres   dres\n",
      " 0: -1.7310e-01 -1.2428e+00  4e+01  5e+00  6e+00\n",
      " 1: -4.7542e-03 -9.2263e-01  2e+00  2e-01  2e-01\n",
      " 2:  3.8252e-02 -2.6797e-01  4e-01  3e-02  3e-02\n",
      " 3: -9.4620e-02 -1.8481e-01  9e-02  1e-16  1e-15\n",
      " 4: -1.4057e-01 -1.5061e-01  1e-02  3e-16  5e-16\n",
      " 5: -1.4747e-01 -1.4833e-01  9e-04  1e-16  6e-16\n",
      " 6: -1.4822e-01 -1.4825e-01  3e-05  1e-16  5e-16\n",
      " 7: -1.4825e-01 -1.4825e-01  1e-06  2e-16  4e-16\n",
      " 8: -1.4825e-01 -1.4825e-01  2e-08  2e-16  5e-16\n",
      "Optimal solution found.\n",
      "     pcost       dcost       gap    pres   dres\n",
      " 0: -1.3049e-01 -1.1978e+00  4e+01  5e+00  6e+00\n",
      " 1:  1.0823e-02 -8.5585e-01  2e+00  2e-01  2e-01\n",
      " 2:  4.1508e-02 -2.1689e-01  4e-01  3e-02  3e-02\n",
      " 3: -6.4792e-02 -1.2939e-01  6e-02  3e-16  9e-16\n",
      " 4: -9.7828e-02 -1.0446e-01  7e-03  3e-16  1e-15\n",
      " 5: -1.0228e-01 -1.0300e-01  7e-04  2e-16  6e-16\n",
      " 6: -1.0293e-01 -1.0295e-01  2e-05  1e-16  5e-16\n",
      " 7: -1.0295e-01 -1.0295e-01  3e-07  2e-16  4e-16\n",
      " 8: -1.0295e-01 -1.0295e-01  3e-09  2e-16  5e-16\n",
      "Optimal solution found.\n",
      "     pcost       dcost       gap    pres   dres\n",
      " 0: -1.0337e-01 -1.1595e+00  3e+01  5e+00  6e+00\n",
      " 1:  2.2165e-02 -8.0202e-01  2e+00  2e-01  2e-01\n",
      " 2:  4.3501e-02 -1.6970e-01  3e-01  2e-02  2e-02\n",
      " 3: -4.8964e-02 -9.2477e-02  4e-02  2e-16  9e-16\n",
      " 4: -7.3350e-02 -7.7843e-02  4e-03  1e-16  5e-16\n",
      " 5: -7.6465e-02 -7.6904e-02  4e-04  1e-16  4e-16\n",
      " 6: -7.6868e-02 -7.6878e-02  1e-05  3e-16  6e-16\n",
      " 7: -7.6877e-02 -7.6878e-02  1e-07  1e-16  4e-16\n",
      "Optimal solution found.\n",
      "     pcost       dcost       gap    pres   dres\n",
      " 0: -8.3552e-02 -1.1256e+00  3e+01  5e+00  6e+00\n",
      " 1:  3.1025e-02 -7.5646e-01  2e+00  2e-01  2e-01\n",
      " 2:  4.4428e-02 -1.3898e-01  3e-01  2e-02  2e-02\n",
      " 3: -3.7424e-02 -7.1497e-02  3e-02  7e-17  8e-16\n",
      " 4: -5.7093e-02 -6.0638e-02  4e-03  2e-16  7e-16\n",
      " 5: -5.9609e-02 -5.9920e-02  3e-04  4e-16  7e-16\n",
      " 6: -5.9898e-02 -5.9904e-02  5e-06  2e-16  7e-16\n",
      " 7: -5.9904e-02 -5.9904e-02  5e-08  2e-16  7e-16\n",
      "Optimal solution found.\n",
      "     pcost       dcost       gap    pres   dres\n",
      " 0: -6.7880e-02 -1.0982e+00  3e+01  5e+00  6e+00\n",
      " 1:  3.8514e-02 -7.1915e-01  2e+00  2e-01  2e-01\n",
      " 2:  4.4486e-02 -1.3048e-01  3e-01  2e-02  2e-02\n",
      " 3: -2.3873e-02 -6.0193e-02  4e-02  4e-04  5e-04\n",
      " 4: -4.4365e-02 -4.8338e-02  4e-03  1e-16  7e-16\n",
      " 5: -4.7131e-02 -4.7498e-02  4e-04  1e-16  5e-16\n",
      " 6: -4.7472e-02 -4.7478e-02  6e-06  3e-16  4e-16\n",
      " 7: -4.7478e-02 -4.7478e-02  6e-08  3e-16  4e-16\n",
      "Optimal solution found.\n",
      "     pcost       dcost       gap    pres   dres\n",
      " 0: -5.4871e-02 -1.0978e+00  3e+01  5e+00  6e+00\n",
      " 1:  4.6908e-02 -7.0310e-01  2e+00  2e-01  2e-01\n",
      " 2:  4.7530e-02 -1.2405e-01  3e-01  2e-02  2e-02\n",
      " 3: -1.4964e-02 -5.0020e-02  4e-02  2e-04  3e-04\n",
      " 4: -3.4679e-02 -3.8443e-02  4e-03  1e-16  7e-16\n",
      " 5: -3.7331e-02 -3.7669e-02  3e-04  2e-16  5e-16\n",
      " 6: -3.7646e-02 -3.7652e-02  5e-06  1e-16  4e-16\n",
      " 7: -3.7651e-02 -3.7651e-02  5e-08  6e-17  4e-16\n",
      "Optimal solution found.\n",
      "     pcost       dcost       gap    pres   dres\n",
      " 0: -4.3716e-02 -1.0974e+00  3e+01  5e+00  6e+00\n",
      " 1:  5.4196e-02 -6.8865e-01  2e+00  2e-01  2e-01\n",
      " 2:  5.0246e-02 -1.1735e-01  3e-01  2e-02  2e-02\n",
      " 3: -7.9683e-03 -4.1274e-02  3e-02  1e-17  1e-15\n",
      " 4: -2.6682e-02 -3.0144e-02  3e-03  1e-16  1e-15\n",
      " 5: -2.9169e-02 -2.9464e-02  3e-04  1e-16  1e-15\n",
      " 6: -2.9445e-02 -2.9449e-02  4e-06  2e-16  7e-16\n",
      " 7: -2.9449e-02 -2.9449e-02  4e-08  8e-17  8e-16\n",
      "Optimal solution found.\n",
      "     pcost       dcost       gap    pres   dres\n",
      " 0: -3.3930e-02 -1.0969e+00  4e+01  5e+00  6e+00\n",
      " 1:  6.0601e-02 -6.7563e-01  2e+00  2e-01  2e-01\n",
      " 2:  5.2718e-02 -1.1058e-01  3e-01  2e-02  2e-02\n",
      " 3: -1.7058e-03 -3.4171e-02  3e-02  1e-16  1e-15\n",
      " 4: -1.9669e-02 -2.2968e-02  3e-03  2e-16  1e-15\n",
      " 5: -2.2073e-02 -2.2343e-02  3e-04  3e-16  7e-16\n",
      " 6: -2.2327e-02 -2.2330e-02  4e-06  6e-17  5e-16\n",
      " 7: -2.2330e-02 -2.2330e-02  4e-08  1e-16  6e-16\n",
      "Optimal solution found.\n",
      "     pcost       dcost       gap    pres   dres\n",
      " 0: -2.5201e-02 -1.0963e+00  4e+01  5e+00  6e+00\n",
      " 1:  6.6299e-02 -6.6378e-01  2e+00  2e-01  2e-01\n",
      " 2:  5.5021e-02 -1.0386e-01  3e-01  2e-02  2e-02\n",
      " 3:  3.7272e-03 -2.7715e-02  3e-02  1e-16  1e-15\n",
      " 4: -1.3351e-02 -1.6585e-02  3e-03  1e-16  8e-16\n",
      " 5: -1.5724e-02 -1.5981e-02  3e-04  2e-16  7e-16\n",
      " 6: -1.5966e-02 -1.5969e-02  4e-06  3e-16  5e-16\n",
      " 7: -1.5969e-02 -1.5969e-02  4e-08  2e-16  4e-16\n",
      "Optimal solution found.\n",
      "     pcost       dcost       gap    pres   dres\n",
      " 0: -1.7311e-02 -1.0955e+00  4e+01  5e+00  6e+00\n",
      " 1:  7.1360e-02 -6.5307e-01  2e+00  1e-01  2e-01\n",
      " 2:  5.7368e-02 -9.7504e-02  3e-01  2e-02  2e-02\n",
      " 3:  8.8197e-03 -2.1891e-02  3e-02  2e-16  1e-15\n",
      " 4: -7.5622e-03 -1.0767e-02  3e-03  2e-16  8e-16\n",
      " 5: -9.9228e-03 -1.0171e-02  2e-04  3e-16  1e-15\n",
      " 6: -1.0156e-02 -1.0160e-02  4e-06  2e-16  1e-15\n",
      " 7: -1.0159e-02 -1.0159e-02  4e-08  2e-16  6e-16\n",
      "Optimal solution found.\n",
      "     pcost       dcost       gap    pres   dres\n",
      " 0: -1.0105e-02 -1.0946e+00  4e+01  5e+00  6e+00\n",
      " 1:  7.5884e-02 -6.4354e-01  2e+00  1e-01  2e-01\n",
      " 2:  5.9679e-02 -9.1465e-02  3e-01  2e-02  2e-02\n",
      " 3:  1.3652e-02 -1.6538e-02  3e-02  4e-16  1e-15\n",
      " 4: -2.1949e-03 -5.3577e-03  3e-03  1e-16  1e-15\n",
      " 5: -4.5359e-03 -4.7750e-03  2e-04  2e-16  6e-16\n",
      " 6: -4.7597e-03 -4.7633e-03  4e-06  2e-16  5e-16\n",
      " 7: -4.7632e-03 -4.7632e-03  4e-08  1e-16  8e-16\n",
      "Optimal solution found.\n",
      "     pcost       dcost       gap    pres   dres\n",
      " 0: -3.4681e-03 -1.0935e+00  4e+01  5e+00  6e+00\n",
      " 1:  8.0049e-02 -6.3465e-01  2e+00  1e-01  2e-01\n",
      " 2:  6.1857e-02 -8.5535e-02  3e-01  2e-02  2e-02\n",
      " 3:  1.8143e-02 -1.1436e-02  3e-02  3e-16  1e-15\n",
      " 4:  2.8321e-03 -2.5884e-04  3e-03  2e-16  8e-16\n",
      " 5:  5.3004e-04  3.0346e-04  2e-04  2e-16  5e-16\n",
      " 6:  3.1844e-04  3.1486e-04  4e-06  1e-16  8e-16\n",
      " 7:  3.1496e-04  3.1492e-04  4e-08  5e-17  6e-16\n",
      "Optimal solution found.\n",
      "     pcost       dcost       gap    pres   dres\n",
      " 0:  2.6898e-03 -1.0922e+00  4e+01  5e+00  6e+00\n",
      " 1:  8.3930e-02 -6.2618e-01  2e+00  1e-01  2e-01\n",
      " 2:  6.3951e-02 -7.9724e-02  2e-01  2e-02  2e-02\n",
      " 3:  2.2378e-02 -6.5347e-03  3e-02  2e-16  1e-15\n",
      " 4:  7.5962e-03  4.5940e-03  3e-03  2e-16  7e-16\n",
      " 5:  5.3448e-03  5.1321e-03  2e-04  3e-16  9e-16\n",
      " 6:  5.1467e-03  5.1431e-03  4e-06  3e-16  6e-16\n",
      " 7:  5.1432e-03  5.1432e-03  4e-08  2e-16  7e-16\n",
      "Optimal solution found.\n",
      "     pcost       dcost       gap    pres   dres\n",
      " 0:  8.4393e-03 -1.0909e+00  4e+01  5e+00  6e+00\n",
      " 1:  8.7571e-02 -6.1808e-01  2e+00  1e-01  2e-01\n",
      " 2:  6.5997e-02 -7.4045e-02  2e-01  2e-02  2e-02\n",
      " 3:  2.6417e-02 -1.7979e-03  3e-02  7e-17  1e-15\n",
      " 4:  1.2153e-02  9.2485e-03  3e-03  5e-17  1e-15\n",
      " 5:  9.9593e-03  9.7607e-03  2e-04  2e-16  8e-16\n",
      " 6:  9.7750e-03  9.7715e-03  4e-06  1e-16  9e-16\n",
      " 7:  9.7715e-03  9.7715e-03  4e-08  8e-17  7e-16\n",
      "Optimal solution found.\n",
      "     pcost       dcost       gap    pres   dres\n",
      " 0:  1.3837e-02 -1.0893e+00  4e+01  5e+00  6e+00\n",
      " 1:  9.1007e-02 -6.1030e-01  2e+00  1e-01  2e-01\n",
      " 2:  6.8019e-02 -6.8500e-02  2e-01  2e-02  2e-02\n",
      " 3:  3.0306e-02  2.8000e-03  3e-02  1e-16  1e-15\n",
      " 4:  1.6544e-02  1.3741e-02  3e-03  1e-16  8e-16\n",
      " 5:  1.4412e-02  1.4227e-02  2e-04  3e-16  7e-16\n",
      " 6:  1.4241e-02  1.4237e-02  4e-06  2e-16  8e-16\n",
      " 7:  1.4237e-02  1.4237e-02  4e-08  2e-16  5e-16\n",
      "Optimal solution found.\n",
      "     pcost       dcost       gap    pres   dres\n",
      " 0:  1.8930e-02 -1.0877e+00  4e+01  5e+00  6e+00\n",
      " 1:  9.4269e-02 -6.0282e-01  2e+00  1e-01  2e-01\n",
      " 2:  7.0033e-02 -6.3089e-02  2e-01  1e-02  2e-02\n",
      " 3:  3.4079e-02  7.2789e-03  3e-02  1e-16  1e-15\n",
      " 4:  2.0799e-02  1.8098e-02  3e-03  1e-16  1e-15\n",
      " 5:  1.8731e-02  1.8559e-02  2e-04  1e-16  8e-16\n",
      " 6:  1.8573e-02  1.8569e-02  4e-06  2e-16  8e-16\n",
      " 7:  1.8570e-02  1.8570e-02  4e-08  2e-16  6e-16\n",
      "Optimal solution found.\n",
      "     pcost       dcost       gap    pres   dres\n",
      " 0:  2.3755e-02 -1.0860e+00  4e+01  5e+00  6e+00\n",
      " 1:  9.7380e-02 -5.9561e-01  2e+00  1e-01  2e-01\n",
      " 2:  7.2051e-02 -5.7806e-02  2e-01  1e-02  2e-02\n",
      " 3:  3.7759e-02  1.1655e-02  3e-02  3e-16  1e-15\n",
      " 4:  2.4943e-02  2.2343e-02  3e-03  1e-16  1e-15\n",
      " 5:  2.2939e-02  2.2780e-02  2e-04  8e-17  7e-16\n",
      " 6:  2.2794e-02  2.2790e-02  4e-06  7e-17  5e-16\n",
      " 7:  2.2790e-02  2.2790e-02  4e-08  2e-16  1e-15\n",
      "Optimal solution found.\n",
      "     pcost       dcost       gap    pres   dres\n",
      " 0:  2.8347e-02 -1.0842e+00  4e+01  5e+00  6e+00\n",
      " 1:  1.0036e-01 -5.8864e-01  2e+00  1e-01  2e-01\n",
      " 2:  7.4080e-02 -5.2647e-02  2e-01  1e-02  2e-02\n",
      " 3:  4.1366e-02  1.5941e-02  3e-02  3e-16  2e-15\n",
      " 4:  2.8994e-02  2.6492e-02  3e-03  2e-16  8e-16\n",
      " 5:  2.7055e-02  2.6906e-02  1e-04  1e-16  2e-15\n",
      " 6:  2.6921e-02  2.6917e-02  4e-06  6e-17  8e-16\n",
      " 7:  2.6917e-02  2.6917e-02  4e-08  3e-17  8e-16\n",
      "Optimal solution found.\n",
      "     pcost       dcost       gap    pres   dres\n",
      " 0:  3.2731e-02 -1.0823e+00  4e+01  5e+00  6e+00\n",
      " 1:  1.0323e-01 -5.8189e-01  2e+00  1e-01  2e-01\n",
      " 2:  7.6124e-02 -4.7604e-02  2e-01  1e-02  2e-02\n",
      " 3:  4.4914e-02  2.0148e-02  2e-02  1e-16  2e-15\n",
      " 4:  3.2967e-02  3.0559e-02  2e-03  1e-16  1e-15\n",
      " 5:  3.1091e-02  3.0953e-02  1e-04  8e-17  1e-15\n",
      " 6:  3.0968e-02  3.0964e-02  4e-06  1e-16  6e-16\n",
      " 7:  3.0964e-02  3.0964e-02  5e-08  3e-16  6e-16\n",
      "Optimal solution found.\n",
      "     pcost       dcost       gap    pres   dres\n",
      " 0:  3.6932e-02 -1.0803e+00  4e+01  5e+00  6e+00\n",
      " 1:  1.0601e-01 -5.7535e-01  2e+00  1e-01  2e-01\n",
      " 2:  7.8188e-02 -4.2671e-02  2e-01  1e-02  2e-02\n",
      " 3:  4.8414e-02  2.4285e-02  2e-02  1e-16  1e-15\n",
      " 4:  3.6873e-02  3.4556e-02  2e-03  1e-16  9e-16\n",
      " 5:  3.5060e-02  3.4931e-02  1e-04  1e-16  7e-16\n",
      " 6:  3.4947e-02  3.4942e-02  5e-06  1e-16  7e-16\n",
      " 7:  3.4942e-02  3.4942e-02  7e-08  3e-16  2e-15\n",
      "Optimal solution found.\n",
      "     pcost       dcost       gap    pres   dres\n",
      " 0:  4.0970e-02 -1.0782e+00  4e+01  5e+00  6e+00\n",
      " 1:  1.0870e-01 -5.6899e-01  2e+00  1e-01  2e-01\n",
      " 2:  8.0272e-02 -3.7840e-02  2e-01  1e-02  2e-02\n",
      " 3:  5.1876e-02  2.8359e-02  2e-02  5e-17  2e-15\n",
      " 4:  4.0722e-02  3.8492e-02  2e-03  3e-16  1e-15\n",
      " 5:  3.8970e-02  3.8850e-02  1e-04  1e-16  7e-16\n",
      " 6:  3.8866e-02  3.8862e-02  5e-06  6e-17  1e-15\n",
      " 7:  3.8862e-02  3.8862e-02  1e-07  2e-16  7e-16\n",
      " 8:  3.8862e-02  3.8862e-02  1e-09  1e-16  6e-16\n",
      "Optimal solution found.\n",
      "     pcost       dcost       gap    pres   dres\n",
      " 0:  4.4862e-02 -1.0761e+00  4e+01  5e+00  6e+00\n",
      " 1:  1.1131e-01 -5.6281e-01  2e+00  1e-01  2e-01\n",
      " 2:  8.2437e-02 -3.3137e-02  2e-01  1e-02  2e-02\n",
      " 3:  5.5312e-02  3.2376e-02  2e-02  6e-17  1e-15\n",
      " 4:  4.4523e-02  4.2375e-02  2e-03  6e-17  9e-16\n",
      " 5:  4.2829e-02  4.2718e-02  1e-04  1e-16  1e-15\n",
      " 6:  4.2735e-02  4.2730e-02  5e-06  1e-16  1e-15\n",
      " 7:  4.2730e-02  4.2730e-02  2e-07  1e-16  6e-16\n",
      " 8:  4.2730e-02  4.2730e-02  2e-09  1e-16  1e-15\n",
      "Optimal solution found.\n",
      "     pcost       dcost       gap    pres   dres\n",
      " 0:  4.8622e-02 -1.0739e+00  4e+01  5e+00  6e+00\n",
      " 1:  1.1386e-01 -5.5678e-01  2e+00  1e-01  2e-01\n",
      " 2:  8.4714e-02 -2.8572e-02  2e-01  1e-02  2e-02\n",
      " 3:  5.8731e-02  3.6341e-02  2e-02  1e-16  2e-15\n",
      " 4:  4.8283e-02  4.6211e-02  2e-03  2e-16  1e-15\n",
      " 5:  4.6644e-02  4.6540e-02  1e-04  1e-17  1e-15\n",
      " 6:  4.6558e-02  4.6553e-02  5e-06  3e-17  1e-15\n",
      " 7:  4.6553e-02  4.6553e-02  3e-07  2e-16  8e-16\n",
      " 8:  4.6553e-02  4.6553e-02  3e-09  2e-16  7e-16\n",
      "Optimal solution found.\n",
      "     pcost       dcost       gap    pres   dres\n",
      " 0:  5.2265e-02 -1.0717e+00  4e+01  5e+00  6e+00\n",
      " 1:  1.1636e-01 -5.5091e-01  2e+00  1e-01  2e-01\n",
      " 2:  8.7006e-02 -2.4082e-02  2e-01  1e-02  2e-02\n",
      " 3:  6.2126e-02  4.0262e-02  2e-02  4e-16  3e-15\n",
      " 4:  5.2005e-02  5.0005e-02  2e-03  3e-16  1e-15\n",
      " 5:  5.0419e-02  5.0323e-02  1e-04  9e-17  8e-16\n",
      " 6:  5.0341e-02  5.0336e-02  5e-06  1e-16  1e-15\n",
      " 7:  5.0337e-02  5.0337e-02  4e-07  1e-16  1e-15\n",
      " 8:  5.0337e-02  5.0337e-02  1e-08  3e-16  5e-16\n",
      "Optimal solution found.\n",
      "     pcost       dcost       gap    pres   dres\n",
      " 0:  5.5803e-02 -1.0694e+00  4e+01  5e+00  6e+00\n",
      " 1:  1.1880e-01 -5.4517e-01  2e+00  1e-01  2e-01\n",
      " 2:  8.9312e-02 -1.9664e-02  2e-01  1e-02  2e-02\n",
      " 3:  6.5569e-02  4.4089e-02  2e-02  4e-16  2e-15\n",
      " 4:  5.5705e-02  5.3761e-02  2e-03  1e-16  1e-15\n",
      " 5:  5.4160e-02  5.4070e-02  9e-05  1e-16  8e-16\n",
      " 6:  5.4089e-02  5.4084e-02  5e-06  2e-16  9e-16\n",
      " 7:  5.4086e-02  5.4085e-02  6e-07  1e-16  1e-15\n",
      " 8:  5.4085e-02  5.4085e-02  6e-08  3e-16  1e-15\n",
      "Optimal solution found.\n",
      "     pcost       dcost       gap    pres   dres\n",
      " 0:  5.9244e-02 -1.0671e+00  4e+01  5e+00  6e+00\n",
      " 1:  1.2120e-01 -5.3956e-01  2e+00  1e-01  2e-01\n",
      " 2:  9.1634e-02 -1.5312e-02  2e-01  1e-02  2e-02\n",
      " 3:  6.8996e-02  4.7879e-02  2e-02  3e-16  2e-15\n",
      " 4:  5.9375e-02  5.7484e-02  2e-03  1e-16  1e-15\n",
      " 5:  5.7872e-02  5.7786e-02  9e-05  1e-16  1e-15\n",
      " 6:  5.7806e-02  5.7801e-02  5e-06  3e-17  1e-15\n",
      " 7:  5.7803e-02  5.7803e-02  6e-07  1e-16  1e-15\n",
      " 8:  5.7803e-02  5.7803e-02  7e-08  2e-16  2e-15\n",
      "Optimal solution found.\n",
      "     pcost       dcost       gap    pres   dres\n",
      " 0:  6.2599e-02 -1.0647e+00  4e+01  5e+00  6e+00\n",
      " 1:  1.2357e-01 -5.3408e-01  2e+00  1e-01  2e-01\n",
      " 2:  9.3970e-02 -1.1021e-02  2e-01  1e-02  1e-02\n",
      " 3:  7.2411e-02  5.1637e-02  2e-02  5e-16  3e-15\n",
      " 4:  6.3019e-02  6.1178e-02  2e-03  2e-16  2e-15\n",
      " 5:  6.1557e-02  6.1473e-02  8e-05  2e-16  8e-16\n",
      " 6:  6.1494e-02  6.1489e-02  5e-06  2e-16  1e-15\n",
      " 7:  6.1492e-02  6.1492e-02  4e-07  7e-17  1e-15\n",
      " 8:  6.1492e-02  6.1492e-02  1e-08  1e-16  9e-16\n",
      "Optimal solution found.\n",
      "     pcost       dcost       gap    pres   dres\n",
      " 0:  6.5876e-02 -1.0623e+00  4e+01  5e+00  6e+00\n",
      " 1:  1.2589e-01 -5.2871e-01  2e+00  1e-01  2e-01\n",
      " 2:  9.6320e-02 -6.7889e-03  2e-01  1e-02  1e-02\n",
      " 3:  7.5815e-02  5.5365e-02  2e-02  2e-16  3e-15\n",
      " 4:  6.6652e-02  6.4833e-02  2e-03  1e-16  1e-15\n",
      " 5:  6.5218e-02  6.5136e-02  8e-05  2e-16  9e-16\n",
      " 6:  6.5157e-02  6.5153e-02  4e-06  1e-16  1e-15\n",
      " 7:  6.5155e-02  6.5155e-02  3e-07  2e-16  8e-16\n",
      " 8:  6.5155e-02  6.5155e-02  3e-09  6e-17  1e-15\n",
      "Optimal solution found.\n",
      "     pcost       dcost       gap    pres   dres\n",
      " 0:  6.9081e-02 -1.0599e+00  4e+01  5e+00  7e+00\n",
      " 1:  1.2820e-01 -5.2344e-01  2e+00  1e-01  2e-01\n",
      " 2:  9.8683e-02 -2.6104e-03  2e-01  1e-02  1e-02\n",
      " 3:  7.9211e-02  5.9065e-02  2e-02  2e-16  4e-15\n",
      " 4:  7.0265e-02  6.8463e-02  2e-03  1e-16  2e-15\n",
      " 5:  6.8856e-02  6.8775e-02  8e-05  1e-16  2e-15\n",
      " 6:  6.8797e-02  6.8793e-02  4e-06  2e-16  8e-16\n",
      " 7:  6.8796e-02  6.8796e-02  1e-07  3e-16  9e-16\n",
      " 8:  6.8796e-02  6.8796e-02  1e-09  3e-17  2e-15\n",
      "Optimal solution found.\n",
      "     pcost       dcost       gap    pres   dres\n",
      " 0:  7.2221e-02 -1.0574e+00  4e+01  5e+00  7e+00\n",
      " 1:  1.3047e-01 -5.1827e-01  2e+00  1e-01  2e-01\n",
      " 2:  1.0106e-01  1.5175e-03  2e-01  1e-02  1e-02\n",
      " 3:  8.2601e-02  6.2739e-02  2e-02  6e-17  5e-15\n",
      " 4:  7.3858e-02  7.2073e-02  2e-03  2e-16  1e-15\n",
      " 5:  7.2476e-02  7.2394e-02  8e-05  2e-16  8e-16\n",
      " 6:  7.2416e-02  7.2413e-02  3e-06  2e-16  9e-16\n",
      " 7:  7.2415e-02  7.2415e-02  8e-08  1e-16  1e-15\n",
      "Optimal solution found.\n",
      "     pcost       dcost       gap    pres   dres\n",
      " 0:  7.5302e-02 -1.0549e+00  4e+01  5e+00  7e+00\n",
      " 1:  1.3272e-01 -5.1320e-01  2e+00  1e-01  2e-01\n",
      " 2:  1.0342e-01  4.4485e-03  2e-01  1e-02  1e-02\n",
      " 3:  8.6093e-02  6.6277e-02  2e-02  1e-16  3e-15\n",
      " 4:  7.7451e-02  7.5661e-02  2e-03  2e-16  1e-15\n",
      " 5:  7.6078e-02  7.5995e-02  8e-05  1e-16  2e-15\n",
      " 6:  7.6017e-02  7.6014e-02  3e-06  1e-16  1e-15\n",
      " 7:  7.6016e-02  7.6016e-02  5e-08  2e-16  1e-15\n",
      "Optimal solution found.\n",
      "     pcost       dcost       gap    pres   dres\n",
      " 0:  7.8329e-02 -1.0524e+00  4e+01  5e+00  7e+00\n",
      " 1:  1.3495e-01 -5.0821e-01  2e+00  1e-01  2e-01\n",
      " 2:  1.0576e-01  6.5317e-03  2e-01  1e-02  1e-02\n",
      " 3:  8.9647e-02  6.9716e-02  2e-02  3e-16  9e-15\n",
      " 4:  8.1040e-02  7.9229e-02  2e-03  1e-16  2e-15\n",
      " 5:  7.9665e-02  7.9578e-02  9e-05  1e-16  1e-15\n",
      " 6:  7.9600e-02  7.9597e-02  3e-06  2e-16  1e-15\n",
      " 7:  7.9599e-02  7.9599e-02  3e-08  2e-16  9e-16\n",
      "Optimal solution found.\n",
      "     pcost       dcost       gap    pres   dres\n",
      " 0:  8.1307e-02 -1.0499e+00  4e+01  5e+00  7e+00\n",
      " 1:  1.3717e-01 -5.0331e-01  2e+00  1e-01  2e-01\n",
      " 2:  1.0811e-01  8.6551e-03  2e-01  1e-02  1e-02\n",
      " 3:  9.3182e-02  7.3146e-02  2e-02  1e-16  6e-15\n",
      " 4:  8.4612e-02  8.2783e-02  2e-03  2e-16  1e-15\n",
      " 5:  8.3235e-02  8.3145e-02  9e-05  1e-16  1e-15\n",
      " 6:  8.3168e-02  8.3165e-02  2e-06  2e-16  2e-15\n",
      " 7:  8.3167e-02  8.3167e-02  2e-08  1e-16  9e-16\n",
      "Optimal solution found.\n",
      "     pcost       dcost       gap    pres   dres\n",
      " 0:  8.4239e-02 -1.0473e+00  4e+01  5e+00  7e+00\n",
      " 1:  1.3937e-01 -4.9849e-01  2e+00  1e-01  2e-01\n",
      " 2:  1.1048e-01  1.0815e-02  2e-01  1e-02  1e-02\n",
      " 3:  9.6699e-02  7.6568e-02  2e-02  3e-16  6e-15\n",
      " 4:  8.8168e-02  8.6322e-02  2e-03  4e-17  1e-15\n",
      " 5:  8.6792e-02  8.6699e-02  9e-05  2e-16  1e-15\n",
      " 6:  8.6721e-02  8.6719e-02  2e-06  2e-16  9e-16\n",
      " 7:  8.6720e-02  8.6720e-02  2e-08  7e-17  1e-15\n",
      "Optimal solution found.\n",
      "     pcost       dcost       gap    pres   dres\n",
      " 0:  8.7131e-02 -1.0447e+00  4e+01  5e+00  7e+00\n",
      " 1:  1.4155e-01 -4.9374e-01  2e+00  1e-01  2e-01\n",
      " 2:  1.1285e-01  1.3010e-02  2e-01  1e-02  2e-02\n",
      " 3:  1.0020e-01  7.9982e-02  2e-02  5e-16  4e-15\n",
      " 4:  9.1709e-02  8.9848e-02  2e-03  1e-16  1e-15\n",
      " 5:  9.0335e-02  9.0239e-02  1e-04  5e-18  1e-15\n",
      " 6:  9.0261e-02  9.0260e-02  2e-06  2e-16  1e-15\n",
      " 7:  9.0260e-02  9.0260e-02  2e-08  2e-16  1e-15\n",
      "Optimal solution found.\n",
      "     pcost       dcost       gap    pres   dres\n",
      " 0:  8.9984e-02 -1.0421e+00  4e+01  5e+00  7e+00\n",
      " 1:  1.4373e-01 -4.8906e-01  2e+00  1e-01  2e-01\n",
      " 2:  1.1523e-01  1.5235e-02  2e-01  1e-02  2e-02\n",
      " 3:  1.0368e-01  8.3385e-02  2e-02  7e-07  9e-07\n",
      " 4:  9.5237e-02  9.3362e-02  2e-03  2e-08  3e-08\n",
      " 5:  9.3867e-02  9.3768e-02  1e-04  1e-10  1e-10\n",
      " 6:  9.3790e-02  9.3788e-02  2e-06  9e-13  1e-12\n",
      " 7:  9.3789e-02  9.3789e-02  2e-08  9e-15  1e-14\n",
      "Optimal solution found.\n",
      "     pcost       dcost       gap    pres   dres\n",
      " 0:  9.2802e-02 -1.0395e+00  4e+01  5e+00  7e+00\n",
      " 1:  1.4589e-01 -4.8445e-01  2e+00  1e-01  2e-01\n",
      " 2:  1.1762e-01  1.7488e-02  2e-01  1e-02  2e-02\n",
      " 3:  1.0715e-01  8.6703e-02  2e-02  2e-05  2e-05\n",
      " 4:  9.8757e-02  9.6865e-02  2e-03  6e-07  8e-07\n",
      " 5:  9.7387e-02  9.7285e-02  1e-04  3e-09  4e-09\n",
      " 6:  9.7307e-02  9.7305e-02  1e-06  3e-11  3e-11\n",
      " 7:  9.7306e-02  9.7306e-02  1e-08  3e-13  3e-13\n",
      "Optimal solution found.\n",
      "     pcost       dcost       gap    pres   dres\n",
      " 0:  9.5589e-02 -1.0369e+00  4e+01  5e+00  7e+00\n",
      " 1:  1.4804e-01 -4.7990e-01  2e+00  1e-01  2e-01\n",
      " 2:  1.2002e-01  1.9769e-02  2e-01  1e-02  2e-02\n",
      " 3:  1.1060e-01  9.0031e-02  2e-02  3e-05  4e-05\n",
      " 4:  1.0226e-01  1.0036e-01  2e-03  1e-06  1e-06\n",
      " 5:  1.0090e-01  1.0079e-01  1e-04  5e-09  7e-09\n",
      " 6:  1.0081e-01  1.0081e-01  1e-06  5e-11  6e-11\n",
      " 7:  1.0081e-01  1.0081e-01  1e-08  5e-13  6e-13\n",
      "Optimal solution found.\n",
      "     pcost       dcost       gap    pres   dres\n",
      " 0:  9.8346e-02 -1.0343e+00  4e+01  5e+00  7e+00\n",
      " 1:  1.5019e-01 -4.7542e-01  2e+00  1e-01  2e-01\n",
      " 2:  1.2243e-01  2.2073e-02  2e-01  1e-02  2e-02\n",
      " 3:  1.1404e-01  9.3364e-02  2e-02  4e-05  6e-05\n",
      " 4:  1.0576e-01  1.0384e-01  2e-03  1e-06  2e-06\n",
      " 5:  1.0440e-01  1.0429e-01  1e-04  7e-09  1e-08\n",
      " 6:  1.0431e-01  1.0431e-01  1e-06  7e-11  9e-11\n",
      " 7:  1.0431e-01  1.0431e-01  1e-08  7e-13  9e-13\n",
      "Optimal solution found.\n"
     ]
    }
   ],
   "source": [
    "risk_aversion = [ra/2.0 for ra in range(41)]\n",
    "returns = [portfolio(alpha) for alpha in risk_aversion]"
   ]
  },
  {
   "cell_type": "code",
   "execution_count": 72,
   "metadata": {
    "collapsed": false,
    "deletable": true,
    "editable": true,
    "scrolled": true,
    "slideshow": {
     "slide_type": "subslide"
    }
   },
   "outputs": [
    {
     "data": {
      "text/html": [
       "\n",
       "\n",
       "    <div class=\"bk-root\">\n",
       "        <div class=\"bk-plotdiv\" id=\"023406e4-67d3-4271-ac65-b182bc62a1b0\"></div>\n",
       "    </div>\n",
       "<script type=\"text/javascript\">\n",
       "  \n",
       "  (function(global) {\n",
       "    function now() {\n",
       "      return new Date();\n",
       "    }\n",
       "  \n",
       "    var force = false;\n",
       "  \n",
       "    if (typeof (window._bokeh_onload_callbacks) === \"undefined\" || force === true) {\n",
       "      window._bokeh_onload_callbacks = [];\n",
       "      window._bokeh_is_loading = undefined;\n",
       "    }\n",
       "  \n",
       "  \n",
       "    \n",
       "    if (typeof (window._bokeh_timeout) === \"undefined\" || force === true) {\n",
       "      window._bokeh_timeout = Date.now() + 0;\n",
       "      window._bokeh_failed_load = false;\n",
       "    }\n",
       "  \n",
       "    var NB_LOAD_WARNING = {'data': {'text/html':\n",
       "       \"<div style='background-color: #fdd'>\\n\"+\n",
       "       \"<p>\\n\"+\n",
       "       \"BokehJS does not appear to have successfully loaded. If loading BokehJS from CDN, this \\n\"+\n",
       "       \"may be due to a slow or bad network connection. Possible fixes:\\n\"+\n",
       "       \"</p>\\n\"+\n",
       "       \"<ul>\\n\"+\n",
       "       \"<li>re-rerun `output_notebook()` to attempt to load from CDN again, or</li>\\n\"+\n",
       "       \"<li>use INLINE resources instead, as so:</li>\\n\"+\n",
       "       \"</ul>\\n\"+\n",
       "       \"<code>\\n\"+\n",
       "       \"from bokeh.resources import INLINE\\n\"+\n",
       "       \"output_notebook(resources=INLINE)\\n\"+\n",
       "       \"</code>\\n\"+\n",
       "       \"</div>\"}};\n",
       "  \n",
       "    function display_loaded() {\n",
       "      if (window.Bokeh !== undefined) {\n",
       "        document.getElementById(\"023406e4-67d3-4271-ac65-b182bc62a1b0\").textContent = \"BokehJS successfully loaded.\";\n",
       "      } else if (Date.now() < window._bokeh_timeout) {\n",
       "        setTimeout(display_loaded, 100)\n",
       "      }\n",
       "    }\n",
       "  \n",
       "    function run_callbacks() {\n",
       "      window._bokeh_onload_callbacks.forEach(function(callback) { callback() });\n",
       "      delete window._bokeh_onload_callbacks\n",
       "      console.info(\"Bokeh: all callbacks have finished\");\n",
       "    }\n",
       "  \n",
       "    function load_libs(js_urls, callback) {\n",
       "      window._bokeh_onload_callbacks.push(callback);\n",
       "      if (window._bokeh_is_loading > 0) {\n",
       "        console.log(\"Bokeh: BokehJS is being loaded, scheduling callback at\", now());\n",
       "        return null;\n",
       "      }\n",
       "      if (js_urls == null || js_urls.length === 0) {\n",
       "        run_callbacks();\n",
       "        return null;\n",
       "      }\n",
       "      console.log(\"Bokeh: BokehJS not loaded, scheduling load and callback at\", now());\n",
       "      window._bokeh_is_loading = js_urls.length;\n",
       "      for (var i = 0; i < js_urls.length; i++) {\n",
       "        var url = js_urls[i];\n",
       "        var s = document.createElement('script');\n",
       "        s.src = url;\n",
       "        s.async = false;\n",
       "        s.onreadystatechange = s.onload = function() {\n",
       "          window._bokeh_is_loading--;\n",
       "          if (window._bokeh_is_loading === 0) {\n",
       "            console.log(\"Bokeh: all BokehJS libraries loaded\");\n",
       "            run_callbacks()\n",
       "          }\n",
       "        };\n",
       "        s.onerror = function() {\n",
       "          console.warn(\"failed to load library \" + url);\n",
       "        };\n",
       "        console.log(\"Bokeh: injecting script tag for BokehJS library: \", url);\n",
       "        document.getElementsByTagName(\"head\")[0].appendChild(s);\n",
       "      }\n",
       "    };var element = document.getElementById(\"023406e4-67d3-4271-ac65-b182bc62a1b0\");\n",
       "    if (element == null) {\n",
       "      console.log(\"Bokeh: ERROR: autoload.js configured with elementid '023406e4-67d3-4271-ac65-b182bc62a1b0' but no matching script tag was found. \")\n",
       "      return false;\n",
       "    }\n",
       "  \n",
       "    var js_urls = [];\n",
       "  \n",
       "    var inline_js = [\n",
       "      function(Bokeh) {\n",
       "        (function() {\n",
       "          var fn = function() {\n",
       "            var docs_json = {\"eb27bd14-a716-40af-8c46-ee1e863bd386\":{\"roots\":{\"references\":[{\"attributes\":{\"plot\":{\"id\":\"ba2ad50b-f163-42b3-8afd-fa8b7acd6273\",\"subtype\":\"Chart\",\"type\":\"Plot\"}},\"id\":\"13c203cf-d438-4301-b209-6cbd0f82d71d\",\"type\":\"SaveTool\"},{\"attributes\":{\"plot\":{\"id\":\"ba2ad50b-f163-42b3-8afd-fa8b7acd6273\",\"subtype\":\"Chart\",\"type\":\"Plot\"}},\"id\":\"889bd474-4c35-466c-b544-e2633aea5135\",\"type\":\"PanTool\"},{\"attributes\":{},\"id\":\"ffa28c69-f59d-4972-a8b1-2ebf9b629c54\",\"type\":\"ToolEvents\"},{\"attributes\":{\"bottom_units\":\"screen\",\"fill_alpha\":{\"value\":0.5},\"fill_color\":{\"value\":\"lightgrey\"},\"left_units\":\"screen\",\"level\":\"overlay\",\"line_alpha\":{\"value\":1.0},\"line_color\":{\"value\":\"black\"},\"line_dash\":[4,4],\"line_width\":{\"value\":2},\"plot\":null,\"render_mode\":\"css\",\"right_units\":\"screen\",\"top_units\":\"screen\"},\"id\":\"73d63fc3-ae48-4fab-aa2e-180a11f10eb9\",\"type\":\"BoxAnnotation\"},{\"attributes\":{\"plot\":{\"id\":\"ba2ad50b-f163-42b3-8afd-fa8b7acd6273\",\"subtype\":\"Chart\",\"type\":\"Plot\"}},\"id\":\"ccb748f0-eaa1-4565-bf5f-c10382f461fa\",\"type\":\"ResetTool\"},{\"attributes\":{\"plot\":{\"id\":\"ba2ad50b-f163-42b3-8afd-fa8b7acd6273\",\"subtype\":\"Chart\",\"type\":\"Plot\"}},\"id\":\"74bc8701-cb9a-400d-a2dc-5eeedabdefdc\",\"type\":\"HelpTool\"},{\"attributes\":{\"callback\":null,\"end\":0.3121062263562204,\"start\":0.010247799092838197},\"id\":\"d84605ec-9781-43c8-a127-0a3374f12b72\",\"type\":\"Range1d\"},{\"attributes\":{\"below\":[{\"id\":\"8f34a4ad-56b3-437f-9c28-5c76d99fb2bf\",\"type\":\"LinearAxis\"}],\"css_classes\":null,\"height\":400,\"left\":[{\"id\":\"e79d9572-b5f0-4c41-82fe-b068c0130f08\",\"type\":\"LinearAxis\"}],\"renderers\":[{\"id\":\"73d63fc3-ae48-4fab-aa2e-180a11f10eb9\",\"type\":\"BoxAnnotation\"},{\"id\":\"5800be2c-c7b3-420a-bfbe-5cd95881630e\",\"type\":\"GlyphRenderer\"},{\"id\":\"bbb551bf-d8a4-4020-a8e3-4f58f96a2bdf\",\"type\":\"Legend\"},{\"id\":\"8f34a4ad-56b3-437f-9c28-5c76d99fb2bf\",\"type\":\"LinearAxis\"},{\"id\":\"e79d9572-b5f0-4c41-82fe-b068c0130f08\",\"type\":\"LinearAxis\"},{\"id\":\"742f5c78-8686-4c12-813b-83186e6d6045\",\"type\":\"Grid\"},{\"id\":\"238ad341-7835-4a2d-8a84-fd5889685d2c\",\"type\":\"Grid\"}],\"title\":{\"id\":\"cd7b9fc4-170e-4a5e-9487-b67328ee8599\",\"type\":\"Title\"},\"tool_events\":{\"id\":\"ffa28c69-f59d-4972-a8b1-2ebf9b629c54\",\"type\":\"ToolEvents\"},\"toolbar\":{\"id\":\"def54cd9-b52f-431b-a560-d933cfed8609\",\"type\":\"Toolbar\"},\"width\":750,\"x_mapper_type\":\"auto\",\"x_range\":{\"id\":\"ede109d4-0991-4aa8-a2b9-356738a0d490\",\"type\":\"Range1d\"},\"y_mapper_type\":\"auto\",\"y_range\":{\"id\":\"d84605ec-9781-43c8-a127-0a3374f12b72\",\"type\":\"Range1d\"}},\"id\":\"ba2ad50b-f163-42b3-8afd-fa8b7acd6273\",\"subtype\":\"Chart\",\"type\":\"Plot\"},{\"attributes\":{\"location\":\"top_left\",\"plot\":{\"id\":\"ba2ad50b-f163-42b3-8afd-fa8b7acd6273\",\"subtype\":\"Chart\",\"type\":\"Plot\"}},\"id\":\"bbb551bf-d8a4-4020-a8e3-4f58f96a2bdf\",\"type\":\"Legend\"},{\"attributes\":{\"axis_label\":\"expected return\",\"formatter\":{\"id\":\"1dc72a07-0d12-40d5-9a0f-4a63ee773bd9\",\"type\":\"BasicTickFormatter\"},\"plot\":{\"id\":\"ba2ad50b-f163-42b3-8afd-fa8b7acd6273\",\"subtype\":\"Chart\",\"type\":\"Plot\"},\"ticker\":{\"id\":\"9b444e89-f6d3-47bb-8cee-071437cad862\",\"type\":\"BasicTicker\"}},\"id\":\"e79d9572-b5f0-4c41-82fe-b068c0130f08\",\"type\":\"LinearAxis\"},{\"attributes\":{\"plot\":null,\"text\":null},\"id\":\"cd7b9fc4-170e-4a5e-9487-b67328ee8599\",\"type\":\"Title\"},{\"attributes\":{},\"id\":\"13860a25-9556-41c1-b44f-f90b627e934b\",\"type\":\"BasicTicker\"},{\"attributes\":{\"overlay\":{\"id\":\"73d63fc3-ae48-4fab-aa2e-180a11f10eb9\",\"type\":\"BoxAnnotation\"},\"plot\":{\"id\":\"ba2ad50b-f163-42b3-8afd-fa8b7acd6273\",\"subtype\":\"Chart\",\"type\":\"Plot\"}},\"id\":\"c4c9b86e-c0f7-48d1-ba69-ea2aa670f238\",\"type\":\"BoxZoomTool\"},{\"attributes\":{\"active_drag\":\"auto\",\"active_scroll\":\"auto\",\"active_tap\":\"auto\",\"tools\":[{\"id\":\"889bd474-4c35-466c-b544-e2633aea5135\",\"type\":\"PanTool\"},{\"id\":\"97666080-1e5c-4e7f-867e-511548d561b0\",\"type\":\"WheelZoomTool\"},{\"id\":\"c4c9b86e-c0f7-48d1-ba69-ea2aa670f238\",\"type\":\"BoxZoomTool\"},{\"id\":\"13c203cf-d438-4301-b209-6cbd0f82d71d\",\"type\":\"SaveTool\"},{\"id\":\"ccb748f0-eaa1-4565-bf5f-c10382f461fa\",\"type\":\"ResetTool\"},{\"id\":\"74bc8701-cb9a-400d-a2dc-5eeedabdefdc\",\"type\":\"HelpTool\"}]},\"id\":\"def54cd9-b52f-431b-a560-d933cfed8609\",\"type\":\"Toolbar\"},{\"attributes\":{\"plot\":{\"id\":\"ba2ad50b-f163-42b3-8afd-fa8b7acd6273\",\"subtype\":\"Chart\",\"type\":\"Plot\"}},\"id\":\"97666080-1e5c-4e7f-867e-511548d561b0\",\"type\":\"WheelZoomTool\"},{\"attributes\":{\"axis_label\":\"risk aversion\",\"formatter\":{\"id\":\"b38715a2-ead6-4de7-85b0-214f6ae7ee94\",\"type\":\"BasicTickFormatter\"},\"plot\":{\"id\":\"ba2ad50b-f163-42b3-8afd-fa8b7acd6273\",\"subtype\":\"Chart\",\"type\":\"Plot\"},\"ticker\":{\"id\":\"13860a25-9556-41c1-b44f-f90b627e934b\",\"type\":\"BasicTicker\"}},\"id\":\"8f34a4ad-56b3-437f-9c28-5c76d99fb2bf\",\"type\":\"LinearAxis\"},{\"attributes\":{\"callback\":null,\"end\":22.0,\"start\":-2.0},\"id\":\"ede109d4-0991-4aa8-a2b9-356738a0d490\",\"type\":\"Range1d\"},{\"attributes\":{\"callback\":null,\"column_names\":[\"x_values\",\"y_values\"],\"data\":{\"chart_index\":[null,null,null,null,null,null,null,null,null,null,null,null,null,null,null,null,null,null,null,null,null,null,null,null,null,null,null,null,null,null,null,null,null,null,null,null,null,null,null,null,null],\"x_values\":{\"__ndarray__\":\"AAAAAAAAAAAAAAAAAADgPwAAAAAAAPA/AAAAAAAA+D8AAAAAAAAAQAAAAAAAAARAAAAAAAAACEAAAAAAAAAMQAAAAAAAABBAAAAAAAAAEkAAAAAAAAAUQAAAAAAAABZAAAAAAAAAGEAAAAAAAAAaQAAAAAAAABxAAAAAAAAAHkAAAAAAAAAgQAAAAAAAACFAAAAAAAAAIkAAAAAAAAAjQAAAAAAAACRAAAAAAAAAJUAAAAAAAAAmQAAAAAAAACdAAAAAAAAAKEAAAAAAAAApQAAAAAAAACpAAAAAAAAAK0AAAAAAAAAsQAAAAAAAAC1AAAAAAAAALkAAAAAAAAAvQAAAAAAAADBAAAAAAACAMEAAAAAAAAAxQAAAAAAAgDFAAAAAAAAAMkAAAAAAAIAyQAAAAAAAADNAAAAAAACAM0AAAAAAAAA0QA==\",\"dtype\":\"float64\",\"shape\":[41]},\"y_values\":{\"__ndarray__\":\"47DpOWld0j/Kcwq9FUDQP4W02Q5FF9A/jQomY30Zyj84+MwYEUfEP5weWGLQyMA/HCpNPUrpvD/5piTVnpW5P3uQZ0/eFrc/vQZYpw8mtT/Qsn+AnZizPzsoJ6FuU7I/7BUZOHJEsT9+tiB5Jl+wP7pZIsQ4Na8/QCy7nI3grT8YSJDCd7asP0u0omZzr6s/7JK/MqjFqj8tpPW5ePSpP6SeZZEzOKk/5fnMotqNqD/TWA6QCfOnP2mj5RGnZac/wKf/Twzkpj/Z4O87zGymP2S4t6CB/qU/9eC8/lCXpT/6z4+JNzalP6uCNsty26Q/YsLUyLSGpD8Tnu/xXzekP4SP8OgU7aM/jw7cQEanoz8zj1dMkWWjP1KfhfmcJ6M/HGzJiBntoj9ZWKekv7WiP0GgLXBPgaI/z0Ack49Poj/awMVqTCCiPw==\",\"dtype\":\"float64\",\"shape\":[41]}}},\"id\":\"705d67b6-9218-4901-a14b-eb13c3ba74bf\",\"type\":\"ColumnDataSource\"},{\"attributes\":{\"dimension\":1,\"plot\":{\"id\":\"ba2ad50b-f163-42b3-8afd-fa8b7acd6273\",\"subtype\":\"Chart\",\"type\":\"Plot\"},\"ticker\":{\"id\":\"9b444e89-f6d3-47bb-8cee-071437cad862\",\"type\":\"BasicTicker\"}},\"id\":\"238ad341-7835-4a2d-8a84-fd5889685d2c\",\"type\":\"Grid\"},{\"attributes\":{\"line_color\":{\"value\":\"#f22c40\"},\"line_width\":{\"value\":2},\"x\":{\"field\":\"x_values\"},\"y\":{\"field\":\"y_values\"}},\"id\":\"72b3f8e9-2674-49c9-b702-8dd8e915c4aa\",\"type\":\"Line\"},{\"attributes\":{},\"id\":\"b38715a2-ead6-4de7-85b0-214f6ae7ee94\",\"type\":\"BasicTickFormatter\"},{\"attributes\":{\"plot\":{\"id\":\"ba2ad50b-f163-42b3-8afd-fa8b7acd6273\",\"subtype\":\"Chart\",\"type\":\"Plot\"},\"ticker\":{\"id\":\"13860a25-9556-41c1-b44f-f90b627e934b\",\"type\":\"BasicTicker\"}},\"id\":\"742f5c78-8686-4c12-813b-83186e6d6045\",\"type\":\"Grid\"},{\"attributes\":{},\"id\":\"9b444e89-f6d3-47bb-8cee-071437cad862\",\"type\":\"BasicTicker\"},{\"attributes\":{},\"id\":\"1dc72a07-0d12-40d5-9a0f-4a63ee773bd9\",\"type\":\"BasicTickFormatter\"},{\"attributes\":{\"data_source\":{\"id\":\"705d67b6-9218-4901-a14b-eb13c3ba74bf\",\"type\":\"ColumnDataSource\"},\"glyph\":{\"id\":\"72b3f8e9-2674-49c9-b702-8dd8e915c4aa\",\"type\":\"Line\"},\"hover_glyph\":null,\"nonselection_glyph\":null,\"selection_glyph\":null},\"id\":\"5800be2c-c7b3-420a-bfbe-5cd95881630e\",\"type\":\"GlyphRenderer\"}],\"root_ids\":[\"ba2ad50b-f163-42b3-8afd-fa8b7acd6273\"]},\"title\":\"Bokeh Application\",\"version\":\"0.12.4\"}};\n",
       "            var render_items = [{\"docid\":\"eb27bd14-a716-40af-8c46-ee1e863bd386\",\"elementid\":\"023406e4-67d3-4271-ac65-b182bc62a1b0\",\"modelid\":\"ba2ad50b-f163-42b3-8afd-fa8b7acd6273\"}];\n",
       "            \n",
       "            Bokeh.embed.embed_items(docs_json, render_items);\n",
       "          };\n",
       "          if (document.readyState != \"loading\") fn();\n",
       "          else document.addEventListener(\"DOMContentLoaded\", fn);\n",
       "        })();\n",
       "      },\n",
       "      function(Bokeh) {\n",
       "      }\n",
       "    ];\n",
       "  \n",
       "    function run_inline_js() {\n",
       "      \n",
       "      if ((window.Bokeh !== undefined) || (force === true)) {\n",
       "        for (var i = 0; i < inline_js.length; i++) {\n",
       "          inline_js[i](window.Bokeh);\n",
       "        }if (force === true) {\n",
       "          display_loaded();\n",
       "        }} else if (Date.now() < window._bokeh_timeout) {\n",
       "        setTimeout(run_inline_js, 100);\n",
       "      } else if (!window._bokeh_failed_load) {\n",
       "        console.log(\"Bokeh: BokehJS failed to load within specified timeout.\");\n",
       "        window._bokeh_failed_load = true;\n",
       "      } else if (force !== true) {\n",
       "        var cell = $(document.getElementById(\"023406e4-67d3-4271-ac65-b182bc62a1b0\")).parents('.cell').data().cell;\n",
       "        cell.output_area.append_execute_result(NB_LOAD_WARNING)\n",
       "      }\n",
       "  \n",
       "    }\n",
       "  \n",
       "    if (window._bokeh_is_loading === 0) {\n",
       "      console.log(\"Bokeh: BokehJS loaded, going straight to plotting\");\n",
       "      run_inline_js();\n",
       "    } else {\n",
       "      load_libs(js_urls, function() {\n",
       "        console.log(\"Bokeh: BokehJS plotting callback run at\", now());\n",
       "        run_inline_js();\n",
       "      });\n",
       "    }\n",
       "  }(this));\n",
       "</script>"
      ]
     },
     "metadata": {},
     "output_type": "display_data"
    }
   ],
   "source": [
    "show(Line(\n",
    "    {'risk aversion': risk_aversion, 'expected return': returns}, \n",
    "    x='risk aversion', \n",
    "    y='expected return', \n",
    "    width=750, \n",
    "    height=400\n",
    "))"
   ]
  },
  {
   "cell_type": "markdown",
   "metadata": {
    "deletable": true,
    "editable": true,
    "slideshow": {
     "slide_type": "slide"
    }
   },
   "source": [
    "## Model 2: Support Vector Machines\n",
    "\n",
    "We want to draw a line that separates two sets with as little misclassification as possible."
   ]
  },
  {
   "cell_type": "markdown",
   "metadata": {
    "deletable": true,
    "editable": true,
    "slideshow": {
     "slide_type": "subslide"
    }
   },
   "source": [
    "If $f(x) \\le 5$, the point is of type $-1$, otherwise it is type $+1$.\n",
    "\n",
    "$$f(x) = (x_1 + \\epsilon_1) - (x_2+ \\epsilon_2)$$  \n",
    "  \n",
    "$$\\epsilon_i \\sim N\\left(0, 1.25^2\\right)\\ \\forall\\ i \\in {1, 2}$$\n"
   ]
  },
  {
   "cell_type": "code",
   "execution_count": 73,
   "metadata": {
    "collapsed": false,
    "deletable": true,
    "editable": true,
    "slideshow": {
     "slide_type": "subslide"
    }
   },
   "outputs": [],
   "source": [
    "x1 = [random.uniform(0, 10) for _ in range(150)]\n",
    "x2 = [random.uniform(0, 10) for _ in range(150)]\n",
    "\n",
    "y = []\n",
    "for xi_1, xi_2 in zip(x1, x2):\n",
    "    eps_1 = random.normalvariate(0, 1.25)\n",
    "    eps_2 = random.normalvariate(0, 1.25)\n",
    "    \n",
    "    if (xi_1 + eps_1) - (xi_2 + eps_2) <= 5:\n",
    "        y.append(-1)\n",
    "    else:\n",
    "        y.append(+1)\n",
    "        \n",
    "X = np.array(list(zip(x1, x2)))\n",
    "y = np.array(y)"
   ]
  },
  {
   "cell_type": "code",
   "execution_count": 74,
   "metadata": {
    "collapsed": false,
    "deletable": true,
    "editable": true,
    "scrolled": false,
    "slideshow": {
     "slide_type": "subslide"
    }
   },
   "outputs": [
    {
     "data": {
      "text/html": [
       "\n",
       "\n",
       "    <div class=\"bk-root\">\n",
       "        <div class=\"bk-plotdiv\" id=\"dee866ef-c4e5-41d6-befd-96682f4ae501\"></div>\n",
       "    </div>\n",
       "<script type=\"text/javascript\">\n",
       "  \n",
       "  (function(global) {\n",
       "    function now() {\n",
       "      return new Date();\n",
       "    }\n",
       "  \n",
       "    var force = false;\n",
       "  \n",
       "    if (typeof (window._bokeh_onload_callbacks) === \"undefined\" || force === true) {\n",
       "      window._bokeh_onload_callbacks = [];\n",
       "      window._bokeh_is_loading = undefined;\n",
       "    }\n",
       "  \n",
       "  \n",
       "    \n",
       "    if (typeof (window._bokeh_timeout) === \"undefined\" || force === true) {\n",
       "      window._bokeh_timeout = Date.now() + 0;\n",
       "      window._bokeh_failed_load = false;\n",
       "    }\n",
       "  \n",
       "    var NB_LOAD_WARNING = {'data': {'text/html':\n",
       "       \"<div style='background-color: #fdd'>\\n\"+\n",
       "       \"<p>\\n\"+\n",
       "       \"BokehJS does not appear to have successfully loaded. If loading BokehJS from CDN, this \\n\"+\n",
       "       \"may be due to a slow or bad network connection. Possible fixes:\\n\"+\n",
       "       \"</p>\\n\"+\n",
       "       \"<ul>\\n\"+\n",
       "       \"<li>re-rerun `output_notebook()` to attempt to load from CDN again, or</li>\\n\"+\n",
       "       \"<li>use INLINE resources instead, as so:</li>\\n\"+\n",
       "       \"</ul>\\n\"+\n",
       "       \"<code>\\n\"+\n",
       "       \"from bokeh.resources import INLINE\\n\"+\n",
       "       \"output_notebook(resources=INLINE)\\n\"+\n",
       "       \"</code>\\n\"+\n",
       "       \"</div>\"}};\n",
       "  \n",
       "    function display_loaded() {\n",
       "      if (window.Bokeh !== undefined) {\n",
       "        document.getElementById(\"dee866ef-c4e5-41d6-befd-96682f4ae501\").textContent = \"BokehJS successfully loaded.\";\n",
       "      } else if (Date.now() < window._bokeh_timeout) {\n",
       "        setTimeout(display_loaded, 100)\n",
       "      }\n",
       "    }\n",
       "  \n",
       "    function run_callbacks() {\n",
       "      window._bokeh_onload_callbacks.forEach(function(callback) { callback() });\n",
       "      delete window._bokeh_onload_callbacks\n",
       "      console.info(\"Bokeh: all callbacks have finished\");\n",
       "    }\n",
       "  \n",
       "    function load_libs(js_urls, callback) {\n",
       "      window._bokeh_onload_callbacks.push(callback);\n",
       "      if (window._bokeh_is_loading > 0) {\n",
       "        console.log(\"Bokeh: BokehJS is being loaded, scheduling callback at\", now());\n",
       "        return null;\n",
       "      }\n",
       "      if (js_urls == null || js_urls.length === 0) {\n",
       "        run_callbacks();\n",
       "        return null;\n",
       "      }\n",
       "      console.log(\"Bokeh: BokehJS not loaded, scheduling load and callback at\", now());\n",
       "      window._bokeh_is_loading = js_urls.length;\n",
       "      for (var i = 0; i < js_urls.length; i++) {\n",
       "        var url = js_urls[i];\n",
       "        var s = document.createElement('script');\n",
       "        s.src = url;\n",
       "        s.async = false;\n",
       "        s.onreadystatechange = s.onload = function() {\n",
       "          window._bokeh_is_loading--;\n",
       "          if (window._bokeh_is_loading === 0) {\n",
       "            console.log(\"Bokeh: all BokehJS libraries loaded\");\n",
       "            run_callbacks()\n",
       "          }\n",
       "        };\n",
       "        s.onerror = function() {\n",
       "          console.warn(\"failed to load library \" + url);\n",
       "        };\n",
       "        console.log(\"Bokeh: injecting script tag for BokehJS library: \", url);\n",
       "        document.getElementsByTagName(\"head\")[0].appendChild(s);\n",
       "      }\n",
       "    };var element = document.getElementById(\"dee866ef-c4e5-41d6-befd-96682f4ae501\");\n",
       "    if (element == null) {\n",
       "      console.log(\"Bokeh: ERROR: autoload.js configured with elementid 'dee866ef-c4e5-41d6-befd-96682f4ae501' but no matching script tag was found. \")\n",
       "      return false;\n",
       "    }\n",
       "  \n",
       "    var js_urls = [];\n",
       "  \n",
       "    var inline_js = [\n",
       "      function(Bokeh) {\n",
       "        (function() {\n",
       "          var fn = function() {\n",
       "            var docs_json = {\"d5361f6d-3af8-45a9-b6c2-3add2f1cfffc\":{\"roots\":{\"references\":[{\"attributes\":{},\"id\":\"7c5e4fb0-43f5-4da7-befd-b1ccdc8187d8\",\"type\":\"BasicTicker\"},{\"attributes\":{},\"id\":\"59b19efb-bb88-4c06-9e4d-0be5c7512621\",\"type\":\"BasicTicker\"},{\"attributes\":{\"active_drag\":\"auto\",\"active_scroll\":\"auto\",\"active_tap\":\"auto\",\"tools\":[{\"id\":\"66da2f74-e330-4d5c-844f-0dfc050c7254\",\"type\":\"PanTool\"},{\"id\":\"605f6667-8ba3-4ecf-8f37-225be4ad5083\",\"type\":\"WheelZoomTool\"},{\"id\":\"597e93ab-cf3e-4106-851e-2d883d1f0175\",\"type\":\"BoxZoomTool\"},{\"id\":\"2b9f7847-964b-4923-a3e0-8fe7d2750f1e\",\"type\":\"SaveTool\"},{\"id\":\"f28d23ad-9357-4b5f-83e1-a3c62a1f339d\",\"type\":\"ResetTool\"},{\"id\":\"49ad3a5a-f2c0-4c7e-96a3-39f7563917c4\",\"type\":\"HelpTool\"}]},\"id\":\"caaedbee-e9c5-491a-b371-5ff4d459c3fa\",\"type\":\"Toolbar\"},{\"attributes\":{},\"id\":\"af91d27e-8b35-4e0c-98d3-f96f542ce9a6\",\"type\":\"BasicTickFormatter\"},{\"attributes\":{\"below\":[{\"id\":\"b942f5e7-f407-446e-9803-6d5e53da998e\",\"type\":\"LinearAxis\"}],\"css_classes\":null,\"height\":500,\"left\":[{\"id\":\"b250f474-7c6b-43a3-aeae-af14e76e4466\",\"type\":\"LinearAxis\"}],\"renderers\":[{\"id\":\"3c65e316-29b8-4eea-a8cd-961070e63798\",\"type\":\"BoxAnnotation\"},{\"id\":\"e6e8c8e3-7a0d-4bcf-a3ee-bffe885ec536\",\"type\":\"GlyphRenderer\"},{\"id\":\"4df365a5-858f-447b-b706-cd873f99cd2b\",\"type\":\"GlyphRenderer\"},{\"id\":\"0c66ae29-ebb4-465b-b37a-4aecc9e938e0\",\"type\":\"Legend\"},{\"id\":\"b942f5e7-f407-446e-9803-6d5e53da998e\",\"type\":\"LinearAxis\"},{\"id\":\"b250f474-7c6b-43a3-aeae-af14e76e4466\",\"type\":\"LinearAxis\"},{\"id\":\"0d02096b-4721-4451-8134-128cc77a3620\",\"type\":\"Grid\"},{\"id\":\"04224712-5ef5-47df-8c49-55ac53db3a35\",\"type\":\"Grid\"}],\"title\":{\"id\":\"17515ca8-56c9-494f-9c52-457cff6d3fc2\",\"type\":\"Title\"},\"tool_events\":{\"id\":\"a6081368-fb18-4f62-94c0-c39b35d4ae4a\",\"type\":\"ToolEvents\"},\"toolbar\":{\"id\":\"caaedbee-e9c5-491a-b371-5ff4d459c3fa\",\"type\":\"Toolbar\"},\"width\":500,\"x_mapper_type\":\"auto\",\"x_range\":{\"id\":\"7f07bd80-71c4-4310-8973-90c19d59e752\",\"type\":\"Range1d\"},\"y_mapper_type\":\"auto\",\"y_range\":{\"id\":\"64f88d52-4543-4ac8-96ad-ef422d1faff1\",\"type\":\"Range1d\"}},\"id\":\"d0b72f7d-13af-4f87-bc7e-e56ba2aaad91\",\"subtype\":\"Chart\",\"type\":\"Plot\"},{\"attributes\":{\"plot\":{\"id\":\"d0b72f7d-13af-4f87-bc7e-e56ba2aaad91\",\"subtype\":\"Chart\",\"type\":\"Plot\"}},\"id\":\"f28d23ad-9357-4b5f-83e1-a3c62a1f339d\",\"type\":\"ResetTool\"},{\"attributes\":{\"axis_label\":\"x1\",\"formatter\":{\"id\":\"c0cd1c9a-9b70-4ab7-bbf4-edbc5b82222b\",\"type\":\"BasicTickFormatter\"},\"plot\":{\"id\":\"d0b72f7d-13af-4f87-bc7e-e56ba2aaad91\",\"subtype\":\"Chart\",\"type\":\"Plot\"},\"ticker\":{\"id\":\"7c5e4fb0-43f5-4da7-befd-b1ccdc8187d8\",\"type\":\"BasicTicker\"}},\"id\":\"b942f5e7-f407-446e-9803-6d5e53da998e\",\"type\":\"LinearAxis\"},{\"attributes\":{\"callback\":null,\"end\":10.915039821484783,\"start\":-0.840775904244327},\"id\":\"7f07bd80-71c4-4310-8973-90c19d59e752\",\"type\":\"Range1d\"},{\"attributes\":{\"data_source\":{\"id\":\"2b563a1e-6e84-48ec-9ab8-96474e8cbe27\",\"type\":\"ColumnDataSource\"},\"glyph\":{\"id\":\"1251af3b-238a-4ecb-96b2-1ad98f4e4703\",\"type\":\"Square\"},\"hover_glyph\":null,\"nonselection_glyph\":null,\"selection_glyph\":null},\"id\":\"4df365a5-858f-447b-b706-cd873f99cd2b\",\"type\":\"GlyphRenderer\"},{\"attributes\":{},\"id\":\"a6081368-fb18-4f62-94c0-c39b35d4ae4a\",\"type\":\"ToolEvents\"},{\"attributes\":{\"data_source\":{\"id\":\"0c434e6d-6575-4672-9e13-869530a8299b\",\"type\":\"ColumnDataSource\"},\"glyph\":{\"id\":\"db9fc828-0ee8-40cb-9e1a-52f356b113a9\",\"type\":\"Circle\"},\"hover_glyph\":null,\"nonselection_glyph\":null,\"selection_glyph\":null},\"id\":\"e6e8c8e3-7a0d-4bcf-a3ee-bffe885ec536\",\"type\":\"GlyphRenderer\"},{\"attributes\":{\"bottom_units\":\"screen\",\"fill_alpha\":{\"value\":0.5},\"fill_color\":{\"value\":\"lightgrey\"},\"left_units\":\"screen\",\"level\":\"overlay\",\"line_alpha\":{\"value\":1.0},\"line_color\":{\"value\":\"black\"},\"line_dash\":[4,4],\"line_width\":{\"value\":2},\"plot\":null,\"render_mode\":\"css\",\"right_units\":\"screen\",\"top_units\":\"screen\"},\"id\":\"3c65e316-29b8-4eea-a8cd-961070e63798\",\"type\":\"BoxAnnotation\"},{\"attributes\":{\"plot\":{\"id\":\"d0b72f7d-13af-4f87-bc7e-e56ba2aaad91\",\"subtype\":\"Chart\",\"type\":\"Plot\"}},\"id\":\"605f6667-8ba3-4ecf-8f37-225be4ad5083\",\"type\":\"WheelZoomTool\"},{\"attributes\":{\"axis_label\":\"x2\",\"formatter\":{\"id\":\"af91d27e-8b35-4e0c-98d3-f96f542ce9a6\",\"type\":\"BasicTickFormatter\"},\"plot\":{\"id\":\"d0b72f7d-13af-4f87-bc7e-e56ba2aaad91\",\"subtype\":\"Chart\",\"type\":\"Plot\"},\"ticker\":{\"id\":\"59b19efb-bb88-4c06-9e4d-0be5c7512621\",\"type\":\"BasicTicker\"}},\"id\":\"b250f474-7c6b-43a3-aeae-af14e76e4466\",\"type\":\"LinearAxis\"},{\"attributes\":{\"plot\":{\"id\":\"d0b72f7d-13af-4f87-bc7e-e56ba2aaad91\",\"subtype\":\"Chart\",\"type\":\"Plot\"}},\"id\":\"2b9f7847-964b-4923-a3e0-8fe7d2750f1e\",\"type\":\"SaveTool\"},{\"attributes\":{\"overlay\":{\"id\":\"3c65e316-29b8-4eea-a8cd-961070e63798\",\"type\":\"BoxAnnotation\"},\"plot\":{\"id\":\"d0b72f7d-13af-4f87-bc7e-e56ba2aaad91\",\"subtype\":\"Chart\",\"type\":\"Plot\"}},\"id\":\"597e93ab-cf3e-4106-851e-2d883d1f0175\",\"type\":\"BoxZoomTool\"},{\"attributes\":{\"plot\":{\"id\":\"d0b72f7d-13af-4f87-bc7e-e56ba2aaad91\",\"subtype\":\"Chart\",\"type\":\"Plot\"},\"ticker\":{\"id\":\"7c5e4fb0-43f5-4da7-befd-b1ccdc8187d8\",\"type\":\"BasicTicker\"}},\"id\":\"0d02096b-4721-4451-8134-128cc77a3620\",\"type\":\"Grid\"},{\"attributes\":{\"plot\":{\"id\":\"d0b72f7d-13af-4f87-bc7e-e56ba2aaad91\",\"subtype\":\"Chart\",\"type\":\"Plot\"}},\"id\":\"49ad3a5a-f2c0-4c7e-96a3-39f7563917c4\",\"type\":\"HelpTool\"},{\"attributes\":{\"plot\":{\"id\":\"d0b72f7d-13af-4f87-bc7e-e56ba2aaad91\",\"subtype\":\"Chart\",\"type\":\"Plot\"}},\"id\":\"66da2f74-e330-4d5c-844f-0dfc050c7254\",\"type\":\"PanTool\"},{\"attributes\":{\"fill_alpha\":{\"value\":0.7},\"fill_color\":{\"value\":\"lightblue\"},\"line_color\":{\"value\":\"lightblue\"},\"size\":{\"units\":\"screen\",\"value\":8},\"x\":{\"field\":\"x_values\"},\"y\":{\"field\":\"y_values\"}},\"id\":\"db9fc828-0ee8-40cb-9e1a-52f356b113a9\",\"type\":\"Circle\"},{\"attributes\":{\"plot\":null,\"text\":null},\"id\":\"17515ca8-56c9-494f-9c52-457cff6d3fc2\",\"type\":\"Title\"},{\"attributes\":{\"fill_alpha\":{\"value\":0.7},\"fill_color\":{\"value\":\"orange\"},\"line_color\":{\"value\":\"orange\"},\"size\":{\"units\":\"screen\",\"value\":8},\"x\":{\"field\":\"x_values\"},\"y\":{\"field\":\"y_values\"}},\"id\":\"1251af3b-238a-4ecb-96b2-1ad98f4e4703\",\"type\":\"Square\"},{\"attributes\":{\"label\":{\"value\":\"-1\"},\"renderers\":[{\"id\":\"e6e8c8e3-7a0d-4bcf-a3ee-bffe885ec536\",\"type\":\"GlyphRenderer\"}]},\"id\":\"3be7d5d3-8a3e-4232-beb6-9539f279811c\",\"type\":\"LegendItem\"},{\"attributes\":{\"callback\":null,\"end\":10.916644686317353,\"start\":-0.8544118014373772},\"id\":\"64f88d52-4543-4ac8-96ad-ef422d1faff1\",\"type\":\"Range1d\"},{\"attributes\":{\"dimension\":1,\"plot\":{\"id\":\"d0b72f7d-13af-4f87-bc7e-e56ba2aaad91\",\"subtype\":\"Chart\",\"type\":\"Plot\"},\"ticker\":{\"id\":\"59b19efb-bb88-4c06-9e4d-0be5c7512621\",\"type\":\"BasicTicker\"}},\"id\":\"04224712-5ef5-47df-8c49-55ac53db3a35\",\"type\":\"Grid\"},{\"attributes\":{\"callback\":null,\"column_names\":[\"x_values\",\"y_values\"],\"data\":{\"chart_index\":[{\"y\":-1},{\"y\":-1},{\"y\":-1},{\"y\":-1},{\"y\":-1},{\"y\":-1},{\"y\":-1},{\"y\":-1},{\"y\":-1},{\"y\":-1},{\"y\":-1},{\"y\":-1},{\"y\":-1},{\"y\":-1},{\"y\":-1},{\"y\":-1},{\"y\":-1},{\"y\":-1},{\"y\":-1},{\"y\":-1},{\"y\":-1},{\"y\":-1},{\"y\":-1},{\"y\":-1},{\"y\":-1},{\"y\":-1},{\"y\":-1},{\"y\":-1},{\"y\":-1},{\"y\":-1},{\"y\":-1},{\"y\":-1},{\"y\":-1},{\"y\":-1},{\"y\":-1},{\"y\":-1},{\"y\":-1},{\"y\":-1},{\"y\":-1},{\"y\":-1},{\"y\":-1},{\"y\":-1},{\"y\":-1},{\"y\":-1},{\"y\":-1},{\"y\":-1},{\"y\":-1},{\"y\":-1},{\"y\":-1},{\"y\":-1},{\"y\":-1},{\"y\":-1},{\"y\":-1},{\"y\":-1},{\"y\":-1},{\"y\":-1},{\"y\":-1},{\"y\":-1},{\"y\":-1},{\"y\":-1},{\"y\":-1},{\"y\":-1},{\"y\":-1},{\"y\":-1},{\"y\":-1},{\"y\":-1},{\"y\":-1},{\"y\":-1},{\"y\":-1},{\"y\":-1},{\"y\":-1},{\"y\":-1},{\"y\":-1},{\"y\":-1},{\"y\":-1},{\"y\":-1},{\"y\":-1},{\"y\":-1},{\"y\":-1},{\"y\":-1},{\"y\":-1},{\"y\":-1},{\"y\":-1},{\"y\":-1},{\"y\":-1},{\"y\":-1},{\"y\":-1},{\"y\":-1},{\"y\":-1},{\"y\":-1},{\"y\":-1},{\"y\":-1},{\"y\":-1},{\"y\":-1},{\"y\":-1},{\"y\":-1},{\"y\":-1},{\"y\":-1},{\"y\":-1},{\"y\":-1},{\"y\":-1},{\"y\":-1},{\"y\":-1},{\"y\":-1},{\"y\":-1},{\"y\":-1},{\"y\":-1},{\"y\":-1},{\"y\":-1},{\"y\":-1},{\"y\":-1},{\"y\":-1},{\"y\":-1},{\"y\":-1},{\"y\":-1},{\"y\":-1},{\"y\":-1},{\"y\":-1},{\"y\":-1},{\"y\":-1},{\"y\":-1},{\"y\":-1},{\"y\":-1},{\"y\":-1},{\"y\":-1},{\"y\":-1},{\"y\":-1},{\"y\":-1},{\"y\":-1},{\"y\":-1},{\"y\":-1},{\"y\":-1},{\"y\":-1},{\"y\":-1}],\"x_values\":{\"__ndarray__\":\"uBy+a91fIUBUJtF/JKYRQDJ1AngqGAtAbDIWDSOhGEBmCpcU4lwGQK6mOROffyBAny/qnTGS8j+MwElrEtcJQKnbuj+5zxtAJGjXW4Ea4z9RcebxDF8jQCt8IW/SgCBAfvXyoUykFUAWsyYZeeT7Px2oi+8+mPo/sNNQu/TuIECKHYokIBIUQC7mmO8aJek/g0sUrI8+FUD93i6Na1ohQBvjfGabohFA8OZ3UGfY+z8YIrqIzZEUQJY8rFD0uRhA3sCsHvCXIECZZFNYnp4EQIQFkOgDNOs/f3etKe3HF0C9fGyuxsIjQEL9JlqSN/Y/yCxwdBMiC0C7XTYz5poUQLxpc214XxFAvkxbvOiSHEBJVaH3ewceQHeBFgvR4Q5A8H8l+db04z8S9io5q2oCQFAJtrzSxcg/AV374Ib9A0CILWkDyGAjQJFpri0K7CFAkoj4z3n6IEBgJPd4ifMAQKZ4iFF9WwhAMG6YMC54IUAmzVQ26PYFQGaDKJiinCBA0ujduyeu4T/l0XJ9VN4jQNz1gLd7guA/dSdyH6N8FkApF/AgR6L6P06uQdvnSxxA4NtOBtajAkDgq5is/FcOQGpmHZ7jLPg/8o9KsViJFUC1dydKK28dQNBopW6QyxpA2CIkjYatA0C/FMr3KYf4P/WOTFDyYgZAEhybpYP4BEA9+hitdx4RQICqtXGdNABAO2NqvtqCEUCtDcjpFaIjQOxyA/1uSQNAgKpNheySzj8k6i8qgX8BQJ6F7xTz0R5ASA5TgT919j/UbOmdPOAeQKoog8tBhh9A6VbbNXLSHUDEp55MY3YXQNg3fpEg6gZAOGZpBOR+HkD4BRkZpWf4P/G3qRXuKCJAGIRoZMVRFEDPjPs6KfgYQLrIrltShyJAcsDN4aEJDUDXnMNIlMQCQBZxvdj5l/k/oCxtYfTHGkAMAOwkQ68hQEyZDlCilhlA+7tH3STEAkCE7lerOxEDQDCV3n/WTwdAy223KKeY9T9MZS+bamgNQOSjQ9sPohFAuaUgmm+tHUBWawmUlIwIQDa6BC+kQR9AH+hdafzq8j/JTa/YstoaQHu9jOzAgf8/ihagSvbc5D+1po/wE0gUQGKd7E7LtBVA/uXRgsolA0DLhb4BOG0CQBbrVfvE5fE/grxRdRO66D8MvG/iVYIgQJkmafz0bhhAOrqjNhbTFkBpXOE3rBr5P/gKR2EoU8o/WhrAoune7j9F3LudPLsZQFtQu9gOXgdApJpPBhkt5j8wtP5Xq8bBP9IOE1+XCw5ABRFMLP4CFkDeMuByla4UQJYFzL4MQRRAjFnLPtcNG0BqT/ZNIogWQCK+PxQw3hVABb+ss1DvHEAdt2i9xYYiQMv/rz8X/fw/9Udk4RjiIkDMmAqs5/ECQJYxMOTPhyNAm7XyzzCoFEAMHBLev+kQQA==\",\"dtype\":\"float64\",\"shape\":[134]},\"y\":[-1,-1,-1,-1,-1,-1,-1,-1,-1,-1,-1,-1,-1,-1,-1,-1,-1,-1,-1,-1,-1,-1,-1,-1,-1,-1,-1,-1,-1,-1,-1,-1,-1,-1,-1,-1,-1,-1,-1,-1,-1,-1,-1,-1,-1,-1,-1,-1,-1,-1,-1,-1,-1,-1,-1,-1,-1,-1,-1,-1,-1,-1,-1,-1,-1,-1,-1,-1,-1,-1,-1,-1,-1,-1,-1,-1,-1,-1,-1,-1,-1,-1,-1,-1,-1,-1,-1,-1,-1,-1,-1,-1,-1,-1,-1,-1,-1,-1,-1,-1,-1,-1,-1,-1,-1,-1,-1,-1,-1,-1,-1,-1,-1,-1,-1,-1,-1,-1,-1,-1,-1,-1,-1,-1,-1,-1,-1,-1,-1,-1,-1,-1,-1,-1],\"y_values\":{\"__ndarray__\":\"/R0tjH72FkD0qT99HzkYQK9c/g38RBRAGizr2UrDC0A118DS0IwgQCT/AO7XCiNABraZ0VSfBEBM6LNCL6bzP4yvrCvRxhRAciqeH9ytHUDxWkX2ogQiQJDUJJMjOxhAOpnUpSfdI0Aiij/LfU/yP/fw1qwdMgxA0iluEbHpIUCGYWQAxGPjP8zOjjvUphxAzmLojUEsIkDCAwRtatkcQCSGZVJUXOU/MPZTAkayIEBU3PLIoa4LQGKyX39kyQhA1goKiRsAIkD0MEEgF98jQPCfpLlUKh1ApjPaJ2adFUCr4ngNK7kVQKvulx+sYBpA6wfk78iyIUD+iZ6jNAwDQPgIeQCm1c0/5m7rrSYkI0AqyLq5cf0NQEISEWqWXAVACsV7oEzyAUAqHoz39JwcQLp3+J7ighNAUrYYV92B7j/fYLjJihYRQGwSBQBDrxNAu7t88YqmFUAynkHhGnQhQKgqvFi9QNA/pv9WPRzeGkBkIraXsOIiQERGgiFM4yBAZ6Ch2wjPEUBiyLUDXU4OQD1eijS2xiJAUXJxzcC9GkAYuzkP8jseQKzk4fPF0htAxOJIHSu30D9jaKpfOWgVQMTIdvDMpfY/Dx9IWRV0G0BsbAnvxmojQCKYHtbPZiJA277sWRevI0BaMxbaEWAUQAKx/AXaoiFApLY+v/z9IEC5X3CWPsX4P0vzcQP4XB9A+pXYRq8k+D98q1iug00dQDdKz6HpoCBAe38gJu10IkCkrrFJt54IQCjoJTgOcRtAAIEArxSxC0CuNXK0ki8RQBeX5NBZ1xFA7EWSNNfaA0DVK5mtKLkhQJbkp+CTjhlAcGXoAQ6SGUDCxgCX/J8VQAK1y/rL/g1Adspj+fK/G0AaeruwL7YHQB9IrutOwSNARqLushQAEECCZFpi/4ILQHwHv8jAD+U/lDjVB5uXG0DCwXDdzdEYQHkWY83xZyNAtvH4G2t7IEAfbqa4RZr1P+myToVnBvg/yIOo/GaHFEDqU+9hn74fQI4u4j/48+Y/9DWi8VGaFUDoQYrW/zDXP4meVP+FqhhA8gA2oeRXFEA+XkbaZxIRQPeJfbXOCB5AuoJNRJahIEA1hZQMW0sYQKidrhqlXSNAJNI6Qn3nIUAkc4628wALQMkcVOToAQVAXg7BWaAiGkCyS/Gg/dIjQB+oGQCozSNAV8qmWRYCEkAPhkFSdfALQCCNWTZ3McA/v5YLTw3z8j8MscxVrRkfQFOI/tSl+x5AP1HlPxXVEEBT1ZurPcEYQATFh7wb0BZAmkyCBRzD8T9CFW7OaHoIQIZpopPrWRxA3DRWqEoCIED7/T5TblgHQG+n8qHtcRRAgmEc026aE0AuKiB0ZkgiQDxktaHquBdAqOlfsSBYG0AqE2CUjmAUQHJXP5uDTRdAy/d9Eym28j+wgb2MKNAWQA==\",\"dtype\":\"float64\",\"shape\":[134]}}},\"id\":\"0c434e6d-6575-4672-9e13-869530a8299b\",\"type\":\"ColumnDataSource\"},{\"attributes\":{\"callback\":null,\"column_names\":[\"x_values\",\"y_values\"],\"data\":{\"chart_index\":[{\"y\":1},{\"y\":1},{\"y\":1},{\"y\":1},{\"y\":1},{\"y\":1},{\"y\":1},{\"y\":1},{\"y\":1},{\"y\":1},{\"y\":1},{\"y\":1},{\"y\":1},{\"y\":1},{\"y\":1},{\"y\":1}],\"x_values\":{\"__ndarray__\":\"cHCjQ+B+FkCcMJ1AI/UhQHTd7pHU7SFAMvpl8a53F0DlgHjTkAUhQE03Ae3ruxZAzfIUnwu3IEAtOyetJgMgQJNv95iGdSBAXLeazp1+FkB23JdPnbcbQEOsW3P83iBAu6DFne0oF0BkQ45jg6YaQFapLz7r3iNA5KrWqL3jIkA=\",\"dtype\":\"float64\",\"shape\":[16]},\"y\":[1,1,1,1,1,1,1,1,1,1,1,1,1,1,1,1],\"y_values\":{\"__ndarray__\":\"JgiwumBN+D8YtTJlVnMPQK9Ry3sB6fg/QzUybqrg8D8f2RPtbnr4P0fmcx7CsPM/DJthX4deDUASpS6uoJDiP9tjMh1j8Pg/IDIvDWvT1D9s/jiT5pYCQF6yTNsRt+w/IdcH4TJ29j9zzFVZO3v0P7zQKIFz8xtA6X5quUPsEkA=\",\"dtype\":\"float64\",\"shape\":[16]}}},\"id\":\"2b563a1e-6e84-48ec-9ab8-96474e8cbe27\",\"type\":\"ColumnDataSource\"},{\"attributes\":{\"items\":[{\"id\":\"3be7d5d3-8a3e-4232-beb6-9539f279811c\",\"type\":\"LegendItem\"},{\"id\":\"146bcf43-e26f-4c3a-8400-85ff9e8312eb\",\"type\":\"LegendItem\"}],\"location\":\"top_left\",\"plot\":{\"id\":\"d0b72f7d-13af-4f87-bc7e-e56ba2aaad91\",\"subtype\":\"Chart\",\"type\":\"Plot\"}},\"id\":\"0c66ae29-ebb4-465b-b37a-4aecc9e938e0\",\"type\":\"Legend\"},{\"attributes\":{},\"id\":\"c0cd1c9a-9b70-4ab7-bbf4-edbc5b82222b\",\"type\":\"BasicTickFormatter\"},{\"attributes\":{\"label\":{\"value\":\"1\"},\"renderers\":[{\"id\":\"4df365a5-858f-447b-b706-cd873f99cd2b\",\"type\":\"GlyphRenderer\"}]},\"id\":\"146bcf43-e26f-4c3a-8400-85ff9e8312eb\",\"type\":\"LegendItem\"}],\"root_ids\":[\"d0b72f7d-13af-4f87-bc7e-e56ba2aaad91\"]},\"title\":\"Bokeh Application\",\"version\":\"0.12.4\"}};\n",
       "            var render_items = [{\"docid\":\"d5361f6d-3af8-45a9-b6c2-3add2f1cfffc\",\"elementid\":\"dee866ef-c4e5-41d6-befd-96682f4ae501\",\"modelid\":\"d0b72f7d-13af-4f87-bc7e-e56ba2aaad91\"}];\n",
       "            \n",
       "            Bokeh.embed.embed_items(docs_json, render_items);\n",
       "          };\n",
       "          if (document.readyState != \"loading\") fn();\n",
       "          else document.addEventListener(\"DOMContentLoaded\", fn);\n",
       "        })();\n",
       "      },\n",
       "      function(Bokeh) {\n",
       "      }\n",
       "    ];\n",
       "  \n",
       "    function run_inline_js() {\n",
       "      \n",
       "      if ((window.Bokeh !== undefined) || (force === true)) {\n",
       "        for (var i = 0; i < inline_js.length; i++) {\n",
       "          inline_js[i](window.Bokeh);\n",
       "        }if (force === true) {\n",
       "          display_loaded();\n",
       "        }} else if (Date.now() < window._bokeh_timeout) {\n",
       "        setTimeout(run_inline_js, 100);\n",
       "      } else if (!window._bokeh_failed_load) {\n",
       "        console.log(\"Bokeh: BokehJS failed to load within specified timeout.\");\n",
       "        window._bokeh_failed_load = true;\n",
       "      } else if (force !== true) {\n",
       "        var cell = $(document.getElementById(\"dee866ef-c4e5-41d6-befd-96682f4ae501\")).parents('.cell').data().cell;\n",
       "        cell.output_area.append_execute_result(NB_LOAD_WARNING)\n",
       "      }\n",
       "  \n",
       "    }\n",
       "  \n",
       "    if (window._bokeh_is_loading === 0) {\n",
       "      console.log(\"Bokeh: BokehJS loaded, going straight to plotting\");\n",
       "      run_inline_js();\n",
       "    } else {\n",
       "      load_libs(js_urls, function() {\n",
       "        console.log(\"Bokeh: BokehJS plotting callback run at\", now());\n",
       "        run_inline_js();\n",
       "      });\n",
       "    }\n",
       "  }(this));\n",
       "</script>"
      ]
     },
     "metadata": {},
     "output_type": "display_data"
    }
   ],
   "source": [
    "show(Scatter(\n",
    "    {'x1': x1, 'x2': x2, 'y': y}, \n",
    "    x='x1', y='x2', color='y', marker='y', palette=['lightblue', 'orange'],\n",
    "    width=500, height=500\n",
    "))"
   ]
  },
  {
   "cell_type": "markdown",
   "metadata": {
    "deletable": true,
    "editable": true,
    "slideshow": {
     "slide_type": "slide"
    }
   },
   "source": [
    "### Support Vector Machines a la `scikit-learn`"
   ]
  },
  {
   "cell_type": "code",
   "execution_count": 75,
   "metadata": {
    "collapsed": false,
    "deletable": true,
    "editable": true,
    "scrolled": true,
    "slideshow": {
     "slide_type": "subslide"
    }
   },
   "outputs": [
    {
     "data": {
      "text/plain": [
       "SVC(C=1.0, cache_size=200, class_weight=None, coef0=0.0,\n",
       "  decision_function_shape=None, degree=3, gamma='auto', kernel='linear',\n",
       "  max_iter=-1, probability=False, random_state=None, shrinking=True,\n",
       "  tol=0.001, verbose=False)"
      ]
     },
     "execution_count": 75,
     "metadata": {},
     "output_type": "execute_result"
    }
   ],
   "source": [
    "from sklearn import svm\n",
    "clf = svm.SVC(kernel='linear')\n",
    "clf.fit(X, y)"
   ]
  },
  {
   "cell_type": "markdown",
   "metadata": {
    "deletable": true,
    "editable": true,
    "slideshow": {
     "slide_type": "subslide"
    }
   },
   "source": [
    "The SVM coefficients give us a separating hyperplane with minimum classification error.\n",
    "\n",
    "$$b + w'x = 0$$"
   ]
  },
  {
   "cell_type": "code",
   "execution_count": 76,
   "metadata": {
    "collapsed": false,
    "deletable": true,
    "editable": true,
    "slideshow": {
     "slide_type": "fragment"
    }
   },
   "outputs": [
    {
     "name": "stdout",
     "output_type": "stream",
     "text": [
      "b = -3.48890142428\n",
      "w = [ 0.68065342 -0.71368271]\n"
     ]
    }
   ],
   "source": [
    "print('b =', clf.intercept_[0])\n",
    "print('w =', clf.coef_[0])"
   ]
  },
  {
   "cell_type": "markdown",
   "metadata": {
    "deletable": true,
    "editable": true,
    "slideshow": {
     "slide_type": "subslide"
    }
   },
   "source": [
    "We classify a point $x = (x_1, x_2)'$ based on which side of that hyperplane it is on.  \n",
    "  \n",
    "\n",
    "$$b + w'x \\ge 0\\ \\rightarrow\\ \\text{Type +1}$$  \n",
    "$$b + w'x < 0\\ \\rightarrow\\ \\text{Type -1}$$ "
   ]
  },
  {
   "cell_type": "code",
   "execution_count": 77,
   "metadata": {
    "collapsed": false,
    "deletable": true,
    "editable": true,
    "slideshow": {
     "slide_type": "fragment"
    }
   },
   "outputs": [
    {
     "name": "stdout",
     "output_type": "stream",
     "text": [
      "confusion matrix:\n"
     ]
    },
    {
     "data": {
      "text/plain": [
       "array([[131,   3],\n",
       "       [  9,   7]])"
      ]
     },
     "execution_count": 77,
     "metadata": {},
     "output_type": "execute_result"
    }
   ],
   "source": [
    "from sklearn import metrics\n",
    "\n",
    "y_hat = clf.predict(X)\n",
    "\n",
    "print('confusion matrix:')\n",
    "metrics.confusion_matrix(y_true=y, y_pred=y_hat)"
   ]
  },
  {
   "cell_type": "code",
   "execution_count": 78,
   "metadata": {
    "collapsed": false,
    "deletable": true,
    "editable": true,
    "slideshow": {
     "slide_type": "subslide"
    }
   },
   "outputs": [],
   "source": [
    "# We need a function to plot classifications and the separating hyperplane.\n",
    "def plot_svm_results(correct, b_val, w1_val, w2_val):\n",
    "    # Classifications\n",
    "    plot = Scatter(\n",
    "        {'x1': x1, 'x2': x2, 'y': y, 'correct': correct}, \n",
    "        x='x1', y='x2', \n",
    "        color='correct', palette=['lightgrey', 'darkred'], marker='correct',\n",
    "        width=500, height=500\n",
    "    )\n",
    "\n",
    "    # Separating hyperplane: x2 = -(b + (w1*x1)) / w2\n",
    "    hyperplane_x1 = np.linspace(0, 10)\n",
    "    hyperplane_x2 = [\n",
    "        -(b_val + (w1_val * x1_i)) / w2_val for x1_i in hyperplane_x1\n",
    "    ]\n",
    "    plot.line(hyperplane_x1, hyperplane_x2, color='darkblue')\n",
    "    show(plot)"
   ]
  },
  {
   "cell_type": "markdown",
   "metadata": {
    "deletable": true,
    "editable": true,
    "slideshow": {
     "slide_type": "subslide"
    }
   },
   "source": [
    "How'd scikit-learn do?"
   ]
  },
  {
   "cell_type": "code",
   "execution_count": 79,
   "metadata": {
    "collapsed": false,
    "deletable": true,
    "editable": true,
    "slideshow": {
     "slide_type": "-"
    }
   },
   "outputs": [
    {
     "data": {
      "text/html": [
       "\n",
       "\n",
       "    <div class=\"bk-root\">\n",
       "        <div class=\"bk-plotdiv\" id=\"8f8c1bf2-d3f0-46e7-b49b-80b129dce939\"></div>\n",
       "    </div>\n",
       "<script type=\"text/javascript\">\n",
       "  \n",
       "  (function(global) {\n",
       "    function now() {\n",
       "      return new Date();\n",
       "    }\n",
       "  \n",
       "    var force = false;\n",
       "  \n",
       "    if (typeof (window._bokeh_onload_callbacks) === \"undefined\" || force === true) {\n",
       "      window._bokeh_onload_callbacks = [];\n",
       "      window._bokeh_is_loading = undefined;\n",
       "    }\n",
       "  \n",
       "  \n",
       "    \n",
       "    if (typeof (window._bokeh_timeout) === \"undefined\" || force === true) {\n",
       "      window._bokeh_timeout = Date.now() + 0;\n",
       "      window._bokeh_failed_load = false;\n",
       "    }\n",
       "  \n",
       "    var NB_LOAD_WARNING = {'data': {'text/html':\n",
       "       \"<div style='background-color: #fdd'>\\n\"+\n",
       "       \"<p>\\n\"+\n",
       "       \"BokehJS does not appear to have successfully loaded. If loading BokehJS from CDN, this \\n\"+\n",
       "       \"may be due to a slow or bad network connection. Possible fixes:\\n\"+\n",
       "       \"</p>\\n\"+\n",
       "       \"<ul>\\n\"+\n",
       "       \"<li>re-rerun `output_notebook()` to attempt to load from CDN again, or</li>\\n\"+\n",
       "       \"<li>use INLINE resources instead, as so:</li>\\n\"+\n",
       "       \"</ul>\\n\"+\n",
       "       \"<code>\\n\"+\n",
       "       \"from bokeh.resources import INLINE\\n\"+\n",
       "       \"output_notebook(resources=INLINE)\\n\"+\n",
       "       \"</code>\\n\"+\n",
       "       \"</div>\"}};\n",
       "  \n",
       "    function display_loaded() {\n",
       "      if (window.Bokeh !== undefined) {\n",
       "        document.getElementById(\"8f8c1bf2-d3f0-46e7-b49b-80b129dce939\").textContent = \"BokehJS successfully loaded.\";\n",
       "      } else if (Date.now() < window._bokeh_timeout) {\n",
       "        setTimeout(display_loaded, 100)\n",
       "      }\n",
       "    }\n",
       "  \n",
       "    function run_callbacks() {\n",
       "      window._bokeh_onload_callbacks.forEach(function(callback) { callback() });\n",
       "      delete window._bokeh_onload_callbacks\n",
       "      console.info(\"Bokeh: all callbacks have finished\");\n",
       "    }\n",
       "  \n",
       "    function load_libs(js_urls, callback) {\n",
       "      window._bokeh_onload_callbacks.push(callback);\n",
       "      if (window._bokeh_is_loading > 0) {\n",
       "        console.log(\"Bokeh: BokehJS is being loaded, scheduling callback at\", now());\n",
       "        return null;\n",
       "      }\n",
       "      if (js_urls == null || js_urls.length === 0) {\n",
       "        run_callbacks();\n",
       "        return null;\n",
       "      }\n",
       "      console.log(\"Bokeh: BokehJS not loaded, scheduling load and callback at\", now());\n",
       "      window._bokeh_is_loading = js_urls.length;\n",
       "      for (var i = 0; i < js_urls.length; i++) {\n",
       "        var url = js_urls[i];\n",
       "        var s = document.createElement('script');\n",
       "        s.src = url;\n",
       "        s.async = false;\n",
       "        s.onreadystatechange = s.onload = function() {\n",
       "          window._bokeh_is_loading--;\n",
       "          if (window._bokeh_is_loading === 0) {\n",
       "            console.log(\"Bokeh: all BokehJS libraries loaded\");\n",
       "            run_callbacks()\n",
       "          }\n",
       "        };\n",
       "        s.onerror = function() {\n",
       "          console.warn(\"failed to load library \" + url);\n",
       "        };\n",
       "        console.log(\"Bokeh: injecting script tag for BokehJS library: \", url);\n",
       "        document.getElementsByTagName(\"head\")[0].appendChild(s);\n",
       "      }\n",
       "    };var element = document.getElementById(\"8f8c1bf2-d3f0-46e7-b49b-80b129dce939\");\n",
       "    if (element == null) {\n",
       "      console.log(\"Bokeh: ERROR: autoload.js configured with elementid '8f8c1bf2-d3f0-46e7-b49b-80b129dce939' but no matching script tag was found. \")\n",
       "      return false;\n",
       "    }\n",
       "  \n",
       "    var js_urls = [];\n",
       "  \n",
       "    var inline_js = [\n",
       "      function(Bokeh) {\n",
       "        (function() {\n",
       "          var fn = function() {\n",
       "            var docs_json = {\"d5c1b5a2-f5ee-4ef3-a28f-e490332fa7f0\":{\"roots\":{\"references\":[{\"attributes\":{\"plot\":null,\"text\":null},\"id\":\"c59a302c-a7ce-405c-829c-868336b8ceff\",\"type\":\"Title\"},{\"attributes\":{\"callback\":null,\"column_names\":[\"x_values\",\"y_values\"],\"data\":{\"chart_index\":[{\"correct\":\"Incorrect\"},{\"correct\":\"Incorrect\"},{\"correct\":\"Incorrect\"},{\"correct\":\"Incorrect\"},{\"correct\":\"Incorrect\"},{\"correct\":\"Incorrect\"},{\"correct\":\"Incorrect\"},{\"correct\":\"Incorrect\"},{\"correct\":\"Incorrect\"},{\"correct\":\"Incorrect\"},{\"correct\":\"Incorrect\"},{\"correct\":\"Incorrect\"}],\"correct\":[\"Incorrect\",\"Incorrect\",\"Incorrect\",\"Incorrect\",\"Incorrect\",\"Incorrect\",\"Incorrect\",\"Incorrect\",\"Incorrect\",\"Incorrect\",\"Incorrect\",\"Incorrect\"],\"x_values\":{\"__ndarray__\":\"cHCjQ+B+FkCcMJ1AI/UhQIgtaQPIYCNAMvpl8a53F0BNNwHt67sWQM3yFJ8LtyBA5dFyfVTeI0B23JdPnbcbQLugxZ3tKBdA8bepFe4oIkBWqS8+694jQOSq1qi94yJA\",\"dtype\":\"float64\",\"shape\":[12]},\"y_values\":{\"__ndarray__\":\"JgiwumBN+D8YtTJlVnMPQN9guMmKFhFAQzUybqrg8D9H5nMewrDzPwybYV+HXg1AYsi1A11ODkBs/jiT5pYCQCHXB+EydvY/ArXL+sv+DUC80CiBc/MbQOl+arlD7BJA\",\"dtype\":\"float64\",\"shape\":[12]}}},\"id\":\"e749e2d1-62b1-4e82-a24f-6f5fa2da02af\",\"type\":\"ColumnDataSource\"},{\"attributes\":{},\"id\":\"78c8f7ee-8a50-49eb-a70c-e3ff9ba48abd\",\"type\":\"BasicTicker\"},{\"attributes\":{\"data_source\":{\"id\":\"fd2cafaa-a387-4ec9-9d1d-3ba689f1c284\",\"type\":\"ColumnDataSource\"},\"glyph\":{\"id\":\"b853722c-8213-42b2-bddf-cb19a7b89814\",\"type\":\"Circle\"},\"hover_glyph\":null,\"nonselection_glyph\":null,\"selection_glyph\":null},\"id\":\"2f959613-efe8-4ef1-a505-e8ec7861ce06\",\"type\":\"GlyphRenderer\"},{\"attributes\":{\"axis_label\":\"x2\",\"formatter\":{\"id\":\"a34a24cf-bdf4-44f3-86cb-439ed7684e74\",\"type\":\"BasicTickFormatter\"},\"plot\":{\"id\":\"17b3e89e-65f8-457a-8d10-b4230c163c06\",\"subtype\":\"Chart\",\"type\":\"Plot\"},\"ticker\":{\"id\":\"de6df585-79fd-4b2f-8e91-84fe5a7af9f6\",\"type\":\"BasicTicker\"}},\"id\":\"0965fd84-dde7-4a92-a57a-a514615d1f98\",\"type\":\"LinearAxis\"},{\"attributes\":{\"fill_alpha\":{\"value\":0.7},\"fill_color\":{\"value\":\"darkred\"},\"line_color\":{\"value\":\"darkred\"},\"size\":{\"units\":\"screen\",\"value\":8},\"x\":{\"field\":\"x_values\"},\"y\":{\"field\":\"y_values\"}},\"id\":\"fa25a2d7-fc32-43f0-ab07-5912788dd386\",\"type\":\"Square\"},{\"attributes\":{},\"id\":\"a34a24cf-bdf4-44f3-86cb-439ed7684e74\",\"type\":\"BasicTickFormatter\"},{\"attributes\":{\"fill_alpha\":{\"value\":0.7},\"fill_color\":{\"value\":\"lightgrey\"},\"line_color\":{\"value\":\"lightgrey\"},\"size\":{\"units\":\"screen\",\"value\":8},\"x\":{\"field\":\"x_values\"},\"y\":{\"field\":\"y_values\"}},\"id\":\"b853722c-8213-42b2-bddf-cb19a7b89814\",\"type\":\"Circle\"},{\"attributes\":{\"dimension\":1,\"plot\":{\"id\":\"17b3e89e-65f8-457a-8d10-b4230c163c06\",\"subtype\":\"Chart\",\"type\":\"Plot\"},\"ticker\":{\"id\":\"de6df585-79fd-4b2f-8e91-84fe5a7af9f6\",\"type\":\"BasicTicker\"}},\"id\":\"04db3e60-32f7-42e1-bff6-972c9058188a\",\"type\":\"Grid\"},{\"attributes\":{\"overlay\":{\"id\":\"a87f9e60-16ac-42a2-83ed-8b70ad0c9cb5\",\"type\":\"BoxAnnotation\"},\"plot\":{\"id\":\"17b3e89e-65f8-457a-8d10-b4230c163c06\",\"subtype\":\"Chart\",\"type\":\"Plot\"}},\"id\":\"46b0e932-e8ad-41e9-91a3-f391587d5f49\",\"type\":\"BoxZoomTool\"},{\"attributes\":{\"callback\":null,\"column_names\":[\"x\",\"y\"],\"data\":{\"x\":{\"__ndarray__\":\"AAAAAAAAAACIxvrQWB/KP4jG+tBYH9o/5hS8nIKX4z+IxvrQWB/qPxW8nIKXU/A/5hS8nIKX8z+3bdu2bdv2P4jG+tBYH/o/WR8a60Nj/T8VvJyCl1MAQH5orA+N9QFA5hS8nIKXA0BOwcspeDkFQLdt27Zt2wZAIBrrQ2N9CECIxvrQWB8KQPByCl5OwQtAWR8a60NjDUDCyyl4OQUPQBW8nIKXUxBASZIkSZIkEUB+aKwPjfURQLI+NNaHxhJA5hS8nIKXE0Aa60NjfWgUQE7Byyl4ORVAg5dT8HIKFkC3bdu2bdsWQOtDY31orBdAIBrrQ2N9GEBU8HIKXk4ZQIjG+tBYHxpAvJyCl1PwGkDwcgpeTsEbQCVJkiRJkhxAWR8a60NjHUCN9aGxPjQeQMLLKXg5BR9A9qGxPjTWH0AVvJyCl1MgQC+n4OUUvCBASZIkSZIkIUBjfWisD40hQH5orA+N9SFAmFPwcgpeIkCyPjTWh8YiQMwpeDkFLyNA5hS8nIKXI0AAAAAAAAAkQA==\",\"dtype\":\"float64\",\"shape\":[50]},\"y\":[-4.888588957646232,-4.693952239198982,-4.499315520751733,-4.304678802304483,-4.110042083857233,-3.915405365409983,-3.7207686469627332,-3.526131928515484,-3.331495210068234,-3.136858491620984,-2.9422217731737343,-2.747585054726484,-2.5529483362792345,-2.358311617831985,-2.163674899384735,-1.9690381809374848,-1.7744014624902356,-1.5797647440429856,-1.3851280255957357,-1.1904913071484857,-0.9958545887012363,-0.8012178702539864,-0.6065811518067364,-0.4119444333594865,-0.2173077149122372,-0.022670996464987228,0.1719657219822621,0.3666024404295127,0.561239158876762,0.7558758773240113,0.9505125957712625,1.1451493142185112,1.3397860326657611,1.534422751113011,1.729059469560261,1.923696188007511,2.118332906454761,2.3129696249020095,2.507606343349261,2.7022430617965107,2.8968797802437596,3.0915164986910093,3.2861532171382595,3.480789935585508,3.6754266540327594,3.870063372480009,4.064700090927259,4.259336809374509,4.453973527821757,4.6486102462690075]}},\"id\":\"fb39e8ef-fc0a-430b-92b4-0237100e92a8\",\"type\":\"ColumnDataSource\"},{\"attributes\":{\"items\":[{\"id\":\"05bcbd1c-40dc-444f-b42c-4bd5b382df95\",\"type\":\"LegendItem\"},{\"id\":\"c66e663f-9c84-4cb2-83a5-d1aab35e9291\",\"type\":\"LegendItem\"}],\"location\":\"top_left\",\"plot\":{\"id\":\"17b3e89e-65f8-457a-8d10-b4230c163c06\",\"subtype\":\"Chart\",\"type\":\"Plot\"}},\"id\":\"b2bff653-faba-4bfe-bbc9-aa707c779f5c\",\"type\":\"Legend\"},{\"attributes\":{\"data_source\":{\"id\":\"fb39e8ef-fc0a-430b-92b4-0237100e92a8\",\"type\":\"ColumnDataSource\"},\"glyph\":{\"id\":\"99e212c4-0298-4cb4-9bcf-5e8b43d0ef5a\",\"type\":\"Line\"},\"hover_glyph\":null,\"nonselection_glyph\":{\"id\":\"7e3011e5-3508-4df7-9fbf-1ddc4f4833c5\",\"type\":\"Line\"},\"selection_glyph\":null},\"id\":\"84a256d1-2565-444f-8bd7-18cf538a402a\",\"type\":\"GlyphRenderer\"},{\"attributes\":{\"bottom_units\":\"screen\",\"fill_alpha\":{\"value\":0.5},\"fill_color\":{\"value\":\"lightgrey\"},\"left_units\":\"screen\",\"level\":\"overlay\",\"line_alpha\":{\"value\":1.0},\"line_color\":{\"value\":\"black\"},\"line_dash\":[4,4],\"line_width\":{\"value\":2},\"plot\":null,\"render_mode\":\"css\",\"right_units\":\"screen\",\"top_units\":\"screen\"},\"id\":\"a87f9e60-16ac-42a2-83ed-8b70ad0c9cb5\",\"type\":\"BoxAnnotation\"},{\"attributes\":{\"plot\":{\"id\":\"17b3e89e-65f8-457a-8d10-b4230c163c06\",\"subtype\":\"Chart\",\"type\":\"Plot\"}},\"id\":\"a427069d-1b6b-41c4-b9f2-d18249ae9a7b\",\"type\":\"ResetTool\"},{\"attributes\":{\"plot\":{\"id\":\"17b3e89e-65f8-457a-8d10-b4230c163c06\",\"subtype\":\"Chart\",\"type\":\"Plot\"}},\"id\":\"21844a5b-40ce-425e-8eb6-8059ee72497b\",\"type\":\"SaveTool\"},{\"attributes\":{\"plot\":{\"id\":\"17b3e89e-65f8-457a-8d10-b4230c163c06\",\"subtype\":\"Chart\",\"type\":\"Plot\"}},\"id\":\"856903d9-9984-4e2f-ae23-5a2d1a0ad0cb\",\"type\":\"WheelZoomTool\"},{\"attributes\":{\"callback\":null,\"end\":10.916644686317353,\"start\":-0.8544118014373772},\"id\":\"aa0a8dcc-bc00-4cd5-9be9-d17e91c9e412\",\"type\":\"Range1d\"},{\"attributes\":{\"label\":{\"value\":\"Incorrect\"},\"renderers\":[{\"id\":\"566c3f76-19a3-4522-b555-9f90b7f24fe1\",\"type\":\"GlyphRenderer\"}]},\"id\":\"c66e663f-9c84-4cb2-83a5-d1aab35e9291\",\"type\":\"LegendItem\"},{\"attributes\":{\"callback\":null,\"end\":10.915039821484783,\"start\":-0.840775904244327},\"id\":\"7374ab04-ffb7-420a-bf88-4c857be33a9b\",\"type\":\"Range1d\"},{\"attributes\":{\"plot\":{\"id\":\"17b3e89e-65f8-457a-8d10-b4230c163c06\",\"subtype\":\"Chart\",\"type\":\"Plot\"}},\"id\":\"ab151aa7-aac9-4c38-b730-757b3420ebd6\",\"type\":\"HelpTool\"},{\"attributes\":{\"axis_label\":\"x1\",\"formatter\":{\"id\":\"989fb497-c50d-44aa-8efb-eca3cc0b2c8e\",\"type\":\"BasicTickFormatter\"},\"plot\":{\"id\":\"17b3e89e-65f8-457a-8d10-b4230c163c06\",\"subtype\":\"Chart\",\"type\":\"Plot\"},\"ticker\":{\"id\":\"78c8f7ee-8a50-49eb-a70c-e3ff9ba48abd\",\"type\":\"BasicTicker\"}},\"id\":\"aa81aa10-604e-439b-b38a-d62184bab67d\",\"type\":\"LinearAxis\"},{\"attributes\":{\"label\":{\"value\":\"Correct\"},\"renderers\":[{\"id\":\"2f959613-efe8-4ef1-a505-e8ec7861ce06\",\"type\":\"GlyphRenderer\"}]},\"id\":\"05bcbd1c-40dc-444f-b42c-4bd5b382df95\",\"type\":\"LegendItem\"},{\"attributes\":{\"active_drag\":\"auto\",\"active_scroll\":\"auto\",\"active_tap\":\"auto\",\"tools\":[{\"id\":\"60b846ff-ce87-4cc4-8a8b-adeea85fc8a7\",\"type\":\"PanTool\"},{\"id\":\"856903d9-9984-4e2f-ae23-5a2d1a0ad0cb\",\"type\":\"WheelZoomTool\"},{\"id\":\"46b0e932-e8ad-41e9-91a3-f391587d5f49\",\"type\":\"BoxZoomTool\"},{\"id\":\"21844a5b-40ce-425e-8eb6-8059ee72497b\",\"type\":\"SaveTool\"},{\"id\":\"a427069d-1b6b-41c4-b9f2-d18249ae9a7b\",\"type\":\"ResetTool\"},{\"id\":\"ab151aa7-aac9-4c38-b730-757b3420ebd6\",\"type\":\"HelpTool\"}]},\"id\":\"53f584bb-9959-4cea-8fe3-5261a6198cbb\",\"type\":\"Toolbar\"},{\"attributes\":{},\"id\":\"989fb497-c50d-44aa-8efb-eca3cc0b2c8e\",\"type\":\"BasicTickFormatter\"},{\"attributes\":{\"line_color\":{\"value\":\"darkblue\"},\"x\":{\"field\":\"x\"},\"y\":{\"field\":\"y\"}},\"id\":\"99e212c4-0298-4cb4-9bcf-5e8b43d0ef5a\",\"type\":\"Line\"},{\"attributes\":{\"plot\":{\"id\":\"17b3e89e-65f8-457a-8d10-b4230c163c06\",\"subtype\":\"Chart\",\"type\":\"Plot\"}},\"id\":\"60b846ff-ce87-4cc4-8a8b-adeea85fc8a7\",\"type\":\"PanTool\"},{\"attributes\":{},\"id\":\"76099103-c52a-4781-920a-2d1fd5e5d841\",\"type\":\"ToolEvents\"},{\"attributes\":{\"callback\":null,\"column_names\":[\"x_values\",\"y_values\"],\"data\":{\"chart_index\":[{\"correct\":\"Correct\"},{\"correct\":\"Correct\"},{\"correct\":\"Correct\"},{\"correct\":\"Correct\"},{\"correct\":\"Correct\"},{\"correct\":\"Correct\"},{\"correct\":\"Correct\"},{\"correct\":\"Correct\"},{\"correct\":\"Correct\"},{\"correct\":\"Correct\"},{\"correct\":\"Correct\"},{\"correct\":\"Correct\"},{\"correct\":\"Correct\"},{\"correct\":\"Correct\"},{\"correct\":\"Correct\"},{\"correct\":\"Correct\"},{\"correct\":\"Correct\"},{\"correct\":\"Correct\"},{\"correct\":\"Correct\"},{\"correct\":\"Correct\"},{\"correct\":\"Correct\"},{\"correct\":\"Correct\"},{\"correct\":\"Correct\"},{\"correct\":\"Correct\"},{\"correct\":\"Correct\"},{\"correct\":\"Correct\"},{\"correct\":\"Correct\"},{\"correct\":\"Correct\"},{\"correct\":\"Correct\"},{\"correct\":\"Correct\"},{\"correct\":\"Correct\"},{\"correct\":\"Correct\"},{\"correct\":\"Correct\"},{\"correct\":\"Correct\"},{\"correct\":\"Correct\"},{\"correct\":\"Correct\"},{\"correct\":\"Correct\"},{\"correct\":\"Correct\"},{\"correct\":\"Correct\"},{\"correct\":\"Correct\"},{\"correct\":\"Correct\"},{\"correct\":\"Correct\"},{\"correct\":\"Correct\"},{\"correct\":\"Correct\"},{\"correct\":\"Correct\"},{\"correct\":\"Correct\"},{\"correct\":\"Correct\"},{\"correct\":\"Correct\"},{\"correct\":\"Correct\"},{\"correct\":\"Correct\"},{\"correct\":\"Correct\"},{\"correct\":\"Correct\"},{\"correct\":\"Correct\"},{\"correct\":\"Correct\"},{\"correct\":\"Correct\"},{\"correct\":\"Correct\"},{\"correct\":\"Correct\"},{\"correct\":\"Correct\"},{\"correct\":\"Correct\"},{\"correct\":\"Correct\"},{\"correct\":\"Correct\"},{\"correct\":\"Correct\"},{\"correct\":\"Correct\"},{\"correct\":\"Correct\"},{\"correct\":\"Correct\"},{\"correct\":\"Correct\"},{\"correct\":\"Correct\"},{\"correct\":\"Correct\"},{\"correct\":\"Correct\"},{\"correct\":\"Correct\"},{\"correct\":\"Correct\"},{\"correct\":\"Correct\"},{\"correct\":\"Correct\"},{\"correct\":\"Correct\"},{\"correct\":\"Correct\"},{\"correct\":\"Correct\"},{\"correct\":\"Correct\"},{\"correct\":\"Correct\"},{\"correct\":\"Correct\"},{\"correct\":\"Correct\"},{\"correct\":\"Correct\"},{\"correct\":\"Correct\"},{\"correct\":\"Correct\"},{\"correct\":\"Correct\"},{\"correct\":\"Correct\"},{\"correct\":\"Correct\"},{\"correct\":\"Correct\"},{\"correct\":\"Correct\"},{\"correct\":\"Correct\"},{\"correct\":\"Correct\"},{\"correct\":\"Correct\"},{\"correct\":\"Correct\"},{\"correct\":\"Correct\"},{\"correct\":\"Correct\"},{\"correct\":\"Correct\"},{\"correct\":\"Correct\"},{\"correct\":\"Correct\"},{\"correct\":\"Correct\"},{\"correct\":\"Correct\"},{\"correct\":\"Correct\"},{\"correct\":\"Correct\"},{\"correct\":\"Correct\"},{\"correct\":\"Correct\"},{\"correct\":\"Correct\"},{\"correct\":\"Correct\"},{\"correct\":\"Correct\"},{\"correct\":\"Correct\"},{\"correct\":\"Correct\"},{\"correct\":\"Correct\"},{\"correct\":\"Correct\"},{\"correct\":\"Correct\"},{\"correct\":\"Correct\"},{\"correct\":\"Correct\"},{\"correct\":\"Correct\"},{\"correct\":\"Correct\"},{\"correct\":\"Correct\"},{\"correct\":\"Correct\"},{\"correct\":\"Correct\"},{\"correct\":\"Correct\"},{\"correct\":\"Correct\"},{\"correct\":\"Correct\"},{\"correct\":\"Correct\"},{\"correct\":\"Correct\"},{\"correct\":\"Correct\"},{\"correct\":\"Correct\"},{\"correct\":\"Correct\"},{\"correct\":\"Correct\"},{\"correct\":\"Correct\"},{\"correct\":\"Correct\"},{\"correct\":\"Correct\"},{\"correct\":\"Correct\"},{\"correct\":\"Correct\"},{\"correct\":\"Correct\"},{\"correct\":\"Correct\"},{\"correct\":\"Correct\"},{\"correct\":\"Correct\"},{\"correct\":\"Correct\"},{\"correct\":\"Correct\"}],\"correct\":[\"Correct\",\"Correct\",\"Correct\",\"Correct\",\"Correct\",\"Correct\",\"Correct\",\"Correct\",\"Correct\",\"Correct\",\"Correct\",\"Correct\",\"Correct\",\"Correct\",\"Correct\",\"Correct\",\"Correct\",\"Correct\",\"Correct\",\"Correct\",\"Correct\",\"Correct\",\"Correct\",\"Correct\",\"Correct\",\"Correct\",\"Correct\",\"Correct\",\"Correct\",\"Correct\",\"Correct\",\"Correct\",\"Correct\",\"Correct\",\"Correct\",\"Correct\",\"Correct\",\"Correct\",\"Correct\",\"Correct\",\"Correct\",\"Correct\",\"Correct\",\"Correct\",\"Correct\",\"Correct\",\"Correct\",\"Correct\",\"Correct\",\"Correct\",\"Correct\",\"Correct\",\"Correct\",\"Correct\",\"Correct\",\"Correct\",\"Correct\",\"Correct\",\"Correct\",\"Correct\",\"Correct\",\"Correct\",\"Correct\",\"Correct\",\"Correct\",\"Correct\",\"Correct\",\"Correct\",\"Correct\",\"Correct\",\"Correct\",\"Correct\",\"Correct\",\"Correct\",\"Correct\",\"Correct\",\"Correct\",\"Correct\",\"Correct\",\"Correct\",\"Correct\",\"Correct\",\"Correct\",\"Correct\",\"Correct\",\"Correct\",\"Correct\",\"Correct\",\"Correct\",\"Correct\",\"Correct\",\"Correct\",\"Correct\",\"Correct\",\"Correct\",\"Correct\",\"Correct\",\"Correct\",\"Correct\",\"Correct\",\"Correct\",\"Correct\",\"Correct\",\"Correct\",\"Correct\",\"Correct\",\"Correct\",\"Correct\",\"Correct\",\"Correct\",\"Correct\",\"Correct\",\"Correct\",\"Correct\",\"Correct\",\"Correct\",\"Correct\",\"Correct\",\"Correct\",\"Correct\",\"Correct\",\"Correct\",\"Correct\",\"Correct\",\"Correct\",\"Correct\",\"Correct\",\"Correct\",\"Correct\",\"Correct\",\"Correct\",\"Correct\",\"Correct\",\"Correct\",\"Correct\",\"Correct\",\"Correct\",\"Correct\"],\"x_values\":{\"__ndarray__\":\"uBy+a91fIUBUJtF/JKYRQDJ1AngqGAtAbDIWDSOhGEBmCpcU4lwGQK6mOROffyBAny/qnTGS8j+MwElrEtcJQKnbuj+5zxtAJGjXW4Ea4z9RcebxDF8jQCt8IW/SgCBAfvXyoUykFUAWsyYZeeT7Px2oi+8+mPo/sNNQu/TuIECKHYokIBIUQC7mmO8aJek/g0sUrI8+FUD93i6Na1ohQBvjfGabohFA8OZ3UGfY+z8YIrqIzZEUQJY8rFD0uRhA3sCsHvCXIECZZFNYnp4EQIQFkOgDNOs/f3etKe3HF0C9fGyuxsIjQEL9JlqSN/Y/yCxwdBMiC0C7XTYz5poUQLxpc214XxFAvkxbvOiSHEBJVaH3ewceQHTd7pHU7SFAd4EWC9HhDkDwfyX51vTjPxL2KjmragJAUAm2vNLFyD8BXfvghv0DQOWAeNOQBSFAkWmuLQrsIUCSiPjPefogQGAk93iJ8wBApniIUX1bCEAwbpgwLnghQCbNVDbo9gVAZoMomKKcIEDS6N27J67hP9z1gLd7guA/dSdyH6N8FkApF/AgR6L6P06uQdvnSxxA4NtOBtajAkDgq5is/FcOQGpmHZ7jLPg/8o9KsViJFUC1dydKK28dQC07J60mAyBAk2/3mIZ1IEDQaKVukMsaQNgiJI2GrQNAvxTK9ymH+D/1jkxQ8mIGQBIcm6WD+ARAPfoYrXceEUCAqrVxnTQAQDtjar7aghFArQ3I6RWiI0DscgP9bkkDQICqTYXsks4/XLeazp1+FkAk6i8qgX8BQJ6F7xTz0R5ASA5TgT919j/UbOmdPOAeQKoog8tBhh9A6VbbNXLSHUDEp55MY3YXQEOsW3P83iBA2Dd+kSDqBkA4ZmkE5H4eQPgFGRmlZ/g/GIRoZMVRFEDPjPs6KfgYQLrIrltShyJAcsDN4aEJDUDXnMNIlMQCQBZxvdj5l/k/oCxtYfTHGkAMAOwkQ68hQEyZDlCilhlA+7tH3STEAkCE7lerOxEDQDCV3n/WTwdAy223KKeY9T9MZS+bamgNQOSjQ9sPohFAZEOOY4OmGkC5pSCab60dQFZrCZSUjAhANroEL6RBH0Af6F1p/OryP8lNr9iy2hpAe72M7MCB/z+KFqBK9tzkP7Wmj/ATSBRAYp3sTsu0FUD+5dGCyiUDQMuFvgE4bQJAFutV+8Tl8T+CvFF1E7roPwy8b+JVgiBAmSZp/PRuGEA6uqM2FtMWQGlc4TesGvk/+ApHYShTyj9aGsCi6d7uP0Xcu508uxlAW1C72A5eB0Ckmk8GGS3mPzC0/lerxsE/0g4TX5cLDkAFEUws/gIWQN4y4HKVrhRAlgXMvgxBFECMWcs+1w0bQGpP9k0iiBZAIr4/FDDeFUAFv6yzUO8cQB23aL3FhiJAy/+vPxf9/D/1R2ThGOIiQMyYCqzn8QJAljEw5M+HI0CbtfLPMKgUQAwcEt6/6RBA\",\"dtype\":\"float64\",\"shape\":[138]},\"y_values\":{\"__ndarray__\":\"/R0tjH72FkD0qT99HzkYQK9c/g38RBRAGizr2UrDC0A118DS0IwgQCT/AO7XCiNABraZ0VSfBEBM6LNCL6bzP4yvrCvRxhRAciqeH9ytHUDxWkX2ogQiQJDUJJMjOxhAOpnUpSfdI0Aiij/LfU/yP/fw1qwdMgxA0iluEbHpIUCGYWQAxGPjP8zOjjvUphxAzmLojUEsIkDCAwRtatkcQCSGZVJUXOU/MPZTAkayIEBU3PLIoa4LQGKyX39kyQhA1goKiRsAIkD0MEEgF98jQPCfpLlUKh1ApjPaJ2adFUCr4ngNK7kVQKvulx+sYBpA6wfk78iyIUD+iZ6jNAwDQPgIeQCm1c0/5m7rrSYkI0AqyLq5cf0NQK9Ry3sB6fg/QhIRapZcBUAKxXugTPIBQCoejPf0nBxAunf4nuKCE0BSthhX3YHuPx/ZE+1uevg/bBIFAEOvE0C7u3zxiqYVQDKeQeEadCFAqCq8WL1A0D+m/1Y9HN4aQGQitpew4iJAREaCIUzjIEBnoKHbCM8RQD1eijS2xiJAUXJxzcC9GkAYuzkP8jseQKzk4fPF0htAxOJIHSu30D9jaKpfOWgVQMTIdvDMpfY/Dx9IWRV0G0BsbAnvxmojQBKlLq6gkOI/22MyHWPw+D8imB7Wz2YiQNu+7FkXryNAWjMW2hFgFEACsfwF2qIhQKS2Pr/8/SBAuV9wlj7F+D9L83ED+FwfQPqV2EavJPg/fKtYroNNHUA3Ss+h6aAgQHt/ICbtdCJAIDIvDWvT1D+krrFJt54IQCjoJTgOcRtAAIEArxSxC0CuNXK0ki8RQBeX5NBZ1xFA7EWSNNfaA0DVK5mtKLkhQF6yTNsRt+w/luSn4JOOGUBwZegBDpIZQMLGAJf8nxVAdspj+fK/G0AaeruwL7YHQB9IrutOwSNARqLushQAEECCZFpi/4ILQHwHv8jAD+U/lDjVB5uXG0DCwXDdzdEYQHkWY83xZyNAtvH4G2t7IEAfbqa4RZr1P+myToVnBvg/yIOo/GaHFEDqU+9hn74fQI4u4j/48+Y/c8xVWTt79D/0NaLxUZoVQOhBitb/MNc/iZ5U/4WqGEDyADah5FcUQD5eRtpnEhFA94l9tc4IHkC6gk1ElqEgQDWFlAxbSxhAqJ2uGqVdI0Ak0jpCfechQCRzjrbzAAtAyRxU5OgBBUBeDsFZoCIaQLJL8aD90iNAH6gZAKjNI0BXyqZZFgISQA+GQVJ18AtAII1ZNncxwD+/lgtPDfPyPwyxzFWtGR9AU4j+1KX7HkA/UeU/FdUQQFPVm6s9wRhABMWHvBvQFkCaTIIFHMPxP0IVbs5oeghAhmmik+tZHEDcNFaoSgIgQPv9PlNuWAdAb6fyoe1xFECCYRzTbpoTQC4qIHRmSCJAPGS1oeq4F0Co6V+xIFgbQCoTYJSOYBRAclc/m4NNF0DL930TKbbyP7CBvYwo0BZA\",\"dtype\":\"float64\",\"shape\":[138]}}},\"id\":\"fd2cafaa-a387-4ec9-9d1d-3ba689f1c284\",\"type\":\"ColumnDataSource\"},{\"attributes\":{\"data_source\":{\"id\":\"e749e2d1-62b1-4e82-a24f-6f5fa2da02af\",\"type\":\"ColumnDataSource\"},\"glyph\":{\"id\":\"fa25a2d7-fc32-43f0-ab07-5912788dd386\",\"type\":\"Square\"},\"hover_glyph\":null,\"nonselection_glyph\":null,\"selection_glyph\":null},\"id\":\"566c3f76-19a3-4522-b555-9f90b7f24fe1\",\"type\":\"GlyphRenderer\"},{\"attributes\":{\"plot\":{\"id\":\"17b3e89e-65f8-457a-8d10-b4230c163c06\",\"subtype\":\"Chart\",\"type\":\"Plot\"},\"ticker\":{\"id\":\"78c8f7ee-8a50-49eb-a70c-e3ff9ba48abd\",\"type\":\"BasicTicker\"}},\"id\":\"802ed6e6-41e2-41ad-b55e-41f5137dee66\",\"type\":\"Grid\"},{\"attributes\":{},\"id\":\"de6df585-79fd-4b2f-8e91-84fe5a7af9f6\",\"type\":\"BasicTicker\"},{\"attributes\":{\"below\":[{\"id\":\"aa81aa10-604e-439b-b38a-d62184bab67d\",\"type\":\"LinearAxis\"}],\"css_classes\":null,\"height\":500,\"left\":[{\"id\":\"0965fd84-dde7-4a92-a57a-a514615d1f98\",\"type\":\"LinearAxis\"}],\"renderers\":[{\"id\":\"a87f9e60-16ac-42a2-83ed-8b70ad0c9cb5\",\"type\":\"BoxAnnotation\"},{\"id\":\"2f959613-efe8-4ef1-a505-e8ec7861ce06\",\"type\":\"GlyphRenderer\"},{\"id\":\"566c3f76-19a3-4522-b555-9f90b7f24fe1\",\"type\":\"GlyphRenderer\"},{\"id\":\"b2bff653-faba-4bfe-bbc9-aa707c779f5c\",\"type\":\"Legend\"},{\"id\":\"aa81aa10-604e-439b-b38a-d62184bab67d\",\"type\":\"LinearAxis\"},{\"id\":\"0965fd84-dde7-4a92-a57a-a514615d1f98\",\"type\":\"LinearAxis\"},{\"id\":\"802ed6e6-41e2-41ad-b55e-41f5137dee66\",\"type\":\"Grid\"},{\"id\":\"04db3e60-32f7-42e1-bff6-972c9058188a\",\"type\":\"Grid\"},{\"id\":\"84a256d1-2565-444f-8bd7-18cf538a402a\",\"type\":\"GlyphRenderer\"}],\"title\":{\"id\":\"c59a302c-a7ce-405c-829c-868336b8ceff\",\"type\":\"Title\"},\"tool_events\":{\"id\":\"76099103-c52a-4781-920a-2d1fd5e5d841\",\"type\":\"ToolEvents\"},\"toolbar\":{\"id\":\"53f584bb-9959-4cea-8fe3-5261a6198cbb\",\"type\":\"Toolbar\"},\"width\":500,\"x_mapper_type\":\"auto\",\"x_range\":{\"id\":\"7374ab04-ffb7-420a-bf88-4c857be33a9b\",\"type\":\"Range1d\"},\"y_mapper_type\":\"auto\",\"y_range\":{\"id\":\"aa0a8dcc-bc00-4cd5-9be9-d17e91c9e412\",\"type\":\"Range1d\"}},\"id\":\"17b3e89e-65f8-457a-8d10-b4230c163c06\",\"subtype\":\"Chart\",\"type\":\"Plot\"},{\"attributes\":{\"line_alpha\":{\"value\":0.1},\"line_color\":{\"value\":\"#1f77b4\"},\"x\":{\"field\":\"x\"},\"y\":{\"field\":\"y\"}},\"id\":\"7e3011e5-3508-4df7-9fbf-1ddc4f4833c5\",\"type\":\"Line\"}],\"root_ids\":[\"17b3e89e-65f8-457a-8d10-b4230c163c06\"]},\"title\":\"Bokeh Application\",\"version\":\"0.12.4\"}};\n",
       "            var render_items = [{\"docid\":\"d5c1b5a2-f5ee-4ef3-a28f-e490332fa7f0\",\"elementid\":\"8f8c1bf2-d3f0-46e7-b49b-80b129dce939\",\"modelid\":\"17b3e89e-65f8-457a-8d10-b4230c163c06\"}];\n",
       "            \n",
       "            Bokeh.embed.embed_items(docs_json, render_items);\n",
       "          };\n",
       "          if (document.readyState != \"loading\") fn();\n",
       "          else document.addEventListener(\"DOMContentLoaded\", fn);\n",
       "        })();\n",
       "      },\n",
       "      function(Bokeh) {\n",
       "      }\n",
       "    ];\n",
       "  \n",
       "    function run_inline_js() {\n",
       "      \n",
       "      if ((window.Bokeh !== undefined) || (force === true)) {\n",
       "        for (var i = 0; i < inline_js.length; i++) {\n",
       "          inline_js[i](window.Bokeh);\n",
       "        }if (force === true) {\n",
       "          display_loaded();\n",
       "        }} else if (Date.now() < window._bokeh_timeout) {\n",
       "        setTimeout(run_inline_js, 100);\n",
       "      } else if (!window._bokeh_failed_load) {\n",
       "        console.log(\"Bokeh: BokehJS failed to load within specified timeout.\");\n",
       "        window._bokeh_failed_load = true;\n",
       "      } else if (force !== true) {\n",
       "        var cell = $(document.getElementById(\"8f8c1bf2-d3f0-46e7-b49b-80b129dce939\")).parents('.cell').data().cell;\n",
       "        cell.output_area.append_execute_result(NB_LOAD_WARNING)\n",
       "      }\n",
       "  \n",
       "    }\n",
       "  \n",
       "    if (window._bokeh_is_loading === 0) {\n",
       "      console.log(\"Bokeh: BokehJS loaded, going straight to plotting\");\n",
       "      run_inline_js();\n",
       "    } else {\n",
       "      load_libs(js_urls, function() {\n",
       "        console.log(\"Bokeh: BokehJS plotting callback run at\", now());\n",
       "        run_inline_js();\n",
       "      });\n",
       "    }\n",
       "  }(this));\n",
       "</script>"
      ]
     },
     "metadata": {},
     "output_type": "display_data"
    }
   ],
   "source": [
    "correct = ['Correct' if yi == yh_i else 'Incorrect' for yi, yh_i in zip(y, y_hat)]\n",
    "plot_svm_results(correct, clf.intercept_[0], clf.coef_[0][0], clf.coef_[0][1])"
   ]
  },
  {
   "cell_type": "markdown",
   "metadata": {
    "deletable": true,
    "editable": true,
    "slideshow": {
     "slide_type": "slide"
    }
   },
   "source": [
    "### Support Vector Machines a la Linear Optimization"
   ]
  },
  {
   "cell_type": "markdown",
   "metadata": {
    "deletable": true,
    "editable": true,
    "slideshow": {
     "slide_type": "subslide"
    }
   },
   "source": [
    "[`PuLP`](https://github.com/coin-or/pulp/) is a modeling tool that lets us solve anything of this form.\n",
    "\n",
    "$$\n",
    "\\begin{align}\n",
    "    \\text{min}  \\ \\ \\ & \\ c'x \\\\\n",
    "    \\text{s.t.} \\ \\ \\ & \\ A x = b \\\\\n",
    "                      & \\ x \\ge 0\n",
    "\\end{align}\n",
    "$$\n",
    "\n",
    "Where $c$ and $b$ are input vectors, $A$ is an input matrix, and $x$ is a vector of real-valued decision variables."
   ]
  },
  {
   "cell_type": "markdown",
   "metadata": {
    "deletable": true,
    "editable": true,
    "slideshow": {
     "slide_type": "fragment"
    }
   },
   "source": [
    "Linear Optimization is well solved. You can assume that a linear optimizer is robust and fast for any model in that form."
   ]
  },
  {
   "cell_type": "markdown",
   "metadata": {
    "deletable": true,
    "editable": true,
    "slideshow": {
     "slide_type": "fragment"
    }
   },
   "source": [
    "PuLP can also solve discrete models, which are not so computationally easy."
   ]
  },
  {
   "cell_type": "markdown",
   "metadata": {
    "deletable": true,
    "editable": true,
    "slideshow": {
     "slide_type": "subslide"
    }
   },
   "source": [
    "How do we get our SVM problem into a linear optimizer?\n",
    "\n",
    "#### Inputs:\n",
    "\n",
    "$$(x_{i1}, x_{i2})' = \\text{column vector of inputs for observation}\\ i$$  \n",
    "  \n",
    "$$y_i \\in \\{+1, -1\\} = \\text{known classification of observation}\\ i $$ "
   ]
  },
  {
   "cell_type": "markdown",
   "metadata": {
    "deletable": true,
    "editable": true,
    "slideshow": {
     "slide_type": "fragment"
    }
   },
   "source": [
    "#### Model:\n",
    "\n",
    "The decision variables $b$, $w_1$, and $w_2$, give us a separating hyperplane $b + w'x = 0$.\n",
    "\n",
    "For each _misclassified_ observation $i$, $\\xi_i$ is its classification error. We find the best hyperplane by minimizing total error.\n",
    "\n",
    "$$\n",
    "\\begin{align}\n",
    "    \\text{min}  \\ \\ \\ & \\ \\sum_i \\xi_i \\ & \\ \\\\\n",
    "    \\text{s.t.} \\ \\ \\ & \\ b + w_1 x_{i1} + w_2 x_{i2} \\le -1 + \\xi_i\\ & \\ \\forall\\ y_i = -1 \\\\\n",
    "                      & \\ b + w_1 x_{i1} + w_2 x_{i2} \\ge +1 - \\xi_i\\ & \\ \\forall\\ y_i = +1 \\\\\n",
    "                      & \\ \\xi \\ge 0\n",
    "\\end{align}\n",
    "$$"
   ]
  },
  {
   "cell_type": "markdown",
   "metadata": {
    "deletable": true,
    "editable": true,
    "slideshow": {
     "slide_type": "subslide"
    }
   },
   "source": [
    "We can simplify the model by multiplying each constraint by $y_i$.\n",
    "\n",
    "$$\n",
    "\\begin{align}\n",
    "    \\text{min}  \\ \\ \\ & \\ \\sum_i \\xi_i \\\\\n",
    "    \\text{s.t.} \\ \\ \\ & \\ y_i (b + w_1 x_{i1} + w_2 x_{i2}) \\ge 1 - \\xi_i\\ \\forall\\ i \\\\\n",
    "                      & \\ \\xi \\ge 0\n",
    "\\end{align}\n",
    "$$"
   ]
  },
  {
   "cell_type": "markdown",
   "metadata": {
    "deletable": true,
    "editable": true,
    "slideshow": {
     "slide_type": "subslide"
    }
   },
   "source": [
    "But wait! Constraints like $a'x \\ge b$ aren't in the form you gave us!"
   ]
  },
  {
   "cell_type": "markdown",
   "metadata": {
    "deletable": true,
    "editable": true,
    "slideshow": {
     "slide_type": "fragment"
    }
   },
   "source": [
    "That's OK. They get converted by the optimizer.\n",
    "\n",
    "$$a'x - e = b$$\n",
    "$$e \\ge 0$$"
   ]
  },
  {
   "cell_type": "markdown",
   "metadata": {
    "deletable": true,
    "editable": true,
    "slideshow": {
     "slide_type": "fragment"
    }
   },
   "source": [
    "So do constraints of the form $a'x \\le b$.\n",
    "\n",
    "$$a'x + s = b$$\n",
    "$$s \\ge 0$$"
   ]
  },
  {
   "cell_type": "markdown",
   "metadata": {
    "deletable": true,
    "editable": true,
    "slideshow": {
     "slide_type": "fragment"
    }
   },
   "source": [
    "As do any variables that are unrestricted in sign.\n",
    "\n",
    "$$x_i = x_i^+ - x_i^-$$\n",
    "$$x_i^+, x_i^- \\ge 0$$"
   ]
  },
  {
   "cell_type": "markdown",
   "metadata": {
    "deletable": true,
    "editable": true,
    "slideshow": {
     "slide_type": "fragment"
    }
   },
   "source": [
    "As long as your objective function is linear and your constraints are linear and of the form $=$, $\\le$, or $\\ge$, you can solve it with a linear optimizer."
   ]
  },
  {
   "cell_type": "markdown",
   "metadata": {
    "deletable": true,
    "editable": true,
    "slideshow": {
     "slide_type": "subslide"
    }
   },
   "source": [
    "Let's get hacking. First make variables for the separating hyperplane.\n",
    "\n",
    "Note these are _unrestricted in sign_."
   ]
  },
  {
   "cell_type": "code",
   "execution_count": 80,
   "metadata": {
    "collapsed": true,
    "deletable": true,
    "editable": true
   },
   "outputs": [],
   "source": [
    "import pulp\n",
    "\n",
    "b = pulp.LpVariable('b')\n",
    "w1 = pulp.LpVariable('w1')\n",
    "w2 = pulp.LpVariable('w2')"
   ]
  },
  {
   "cell_type": "markdown",
   "metadata": {
    "deletable": true,
    "editable": true,
    "slideshow": {
     "slide_type": "subslide"
    }
   },
   "source": [
    "We also need variables for the classification errors. \n",
    "\n",
    "These are nonnegative since we only want to penalize errors, not reward the model for correct classifiations."
   ]
  },
  {
   "cell_type": "code",
   "execution_count": 81,
   "metadata": {
    "collapsed": false,
    "deletable": true,
    "editable": true
   },
   "outputs": [],
   "source": [
    "errors = []\n",
    "for i in range(len(y)):\n",
    "    e = pulp.LpVariable('e_%d' % i, lowBound=0) # lowBound=0 means >=0\n",
    "    errors.append(e)"
   ]
  },
  {
   "cell_type": "markdown",
   "metadata": {
    "deletable": true,
    "editable": true,
    "slideshow": {
     "slide_type": "subslide"
    }
   },
   "source": [
    "Build a model that records classification error based on the separating hyperplane in the appropriate variables."
   ]
  },
  {
   "cell_type": "code",
   "execution_count": 82,
   "metadata": {
    "collapsed": true,
    "deletable": true,
    "editable": true
   },
   "outputs": [],
   "source": [
    "m = pulp.LpProblem(sense=pulp.LpMinimize)\n",
    "\n",
    "for x_i1, x_i2, y_i, e_i in zip(x1, x2, y, errors):\n",
    "    m += y_i * (b + w1 * x_i1 + w2 * x_i2) >= (1 - e_i)"
   ]
  },
  {
   "cell_type": "markdown",
   "metadata": {
    "deletable": true,
    "editable": true,
    "slideshow": {
     "slide_type": "subslide"
    }
   },
   "source": [
    "So far the model represents the feasible region of all possible separating hyperplanes.\n",
    "\n",
    "We want the _best_ one."
   ]
  },
  {
   "cell_type": "code",
   "execution_count": 83,
   "metadata": {
    "collapsed": false,
    "deletable": true,
    "editable": true
   },
   "outputs": [
    {
     "name": "stdout",
     "output_type": "stream",
     "text": [
      "b = -3.488035\n",
      "w = [0.68052007, -0.71363457]\n"
     ]
    }
   ],
   "source": [
    "m.setObjective(sum(errors))\n",
    "assert m.solve() == pulp.LpStatusOptimal\n",
    "\n",
    "print('b =', b.value())\n",
    "print('w =', [w1.value(), w2.value()])"
   ]
  },
  {
   "cell_type": "markdown",
   "metadata": {
    "deletable": true,
    "editable": true,
    "slideshow": {
     "slide_type": "subslide"
    }
   },
   "source": [
    "We don't have a predict function, so let's build one."
   ]
  },
  {
   "cell_type": "code",
   "execution_count": 84,
   "metadata": {
    "collapsed": false,
    "deletable": true,
    "editable": true
   },
   "outputs": [
    {
     "name": "stdout",
     "output_type": "stream",
     "text": [
      "confusion matrix:\n"
     ]
    },
    {
     "data": {
      "text/plain": [
       "array([[131,   3],\n",
       "       [  9,   7]])"
      ]
     },
     "execution_count": 84,
     "metadata": {},
     "output_type": "execute_result"
    }
   ],
   "source": [
    "def classify(xi_1, xi_2):\n",
    "    if b.value() + (w1.value() * xi_1) + (w2.value() * xi_2) >= 0:\n",
    "        return +1\n",
    "    return -1\n",
    "\n",
    "y_hat = [classify(xi_1, xi_2) for xi_1, xi_2 in zip(x1, x2)]\n",
    "\n",
    "print('confusion matrix:')\n",
    "metrics.confusion_matrix(y_true=y, y_pred=y_hat)"
   ]
  },
  {
   "cell_type": "markdown",
   "metadata": {
    "deletable": true,
    "editable": true,
    "slideshow": {
     "slide_type": "subslide"
    }
   },
   "source": [
    "How'd the linear optimizer do?"
   ]
  },
  {
   "cell_type": "code",
   "execution_count": 85,
   "metadata": {
    "collapsed": false,
    "deletable": true,
    "editable": true
   },
   "outputs": [
    {
     "data": {
      "text/html": [
       "\n",
       "\n",
       "    <div class=\"bk-root\">\n",
       "        <div class=\"bk-plotdiv\" id=\"91e0bcc8-7fd9-438f-8602-8aad5900a652\"></div>\n",
       "    </div>\n",
       "<script type=\"text/javascript\">\n",
       "  \n",
       "  (function(global) {\n",
       "    function now() {\n",
       "      return new Date();\n",
       "    }\n",
       "  \n",
       "    var force = false;\n",
       "  \n",
       "    if (typeof (window._bokeh_onload_callbacks) === \"undefined\" || force === true) {\n",
       "      window._bokeh_onload_callbacks = [];\n",
       "      window._bokeh_is_loading = undefined;\n",
       "    }\n",
       "  \n",
       "  \n",
       "    \n",
       "    if (typeof (window._bokeh_timeout) === \"undefined\" || force === true) {\n",
       "      window._bokeh_timeout = Date.now() + 0;\n",
       "      window._bokeh_failed_load = false;\n",
       "    }\n",
       "  \n",
       "    var NB_LOAD_WARNING = {'data': {'text/html':\n",
       "       \"<div style='background-color: #fdd'>\\n\"+\n",
       "       \"<p>\\n\"+\n",
       "       \"BokehJS does not appear to have successfully loaded. If loading BokehJS from CDN, this \\n\"+\n",
       "       \"may be due to a slow or bad network connection. Possible fixes:\\n\"+\n",
       "       \"</p>\\n\"+\n",
       "       \"<ul>\\n\"+\n",
       "       \"<li>re-rerun `output_notebook()` to attempt to load from CDN again, or</li>\\n\"+\n",
       "       \"<li>use INLINE resources instead, as so:</li>\\n\"+\n",
       "       \"</ul>\\n\"+\n",
       "       \"<code>\\n\"+\n",
       "       \"from bokeh.resources import INLINE\\n\"+\n",
       "       \"output_notebook(resources=INLINE)\\n\"+\n",
       "       \"</code>\\n\"+\n",
       "       \"</div>\"}};\n",
       "  \n",
       "    function display_loaded() {\n",
       "      if (window.Bokeh !== undefined) {\n",
       "        document.getElementById(\"91e0bcc8-7fd9-438f-8602-8aad5900a652\").textContent = \"BokehJS successfully loaded.\";\n",
       "      } else if (Date.now() < window._bokeh_timeout) {\n",
       "        setTimeout(display_loaded, 100)\n",
       "      }\n",
       "    }\n",
       "  \n",
       "    function run_callbacks() {\n",
       "      window._bokeh_onload_callbacks.forEach(function(callback) { callback() });\n",
       "      delete window._bokeh_onload_callbacks\n",
       "      console.info(\"Bokeh: all callbacks have finished\");\n",
       "    }\n",
       "  \n",
       "    function load_libs(js_urls, callback) {\n",
       "      window._bokeh_onload_callbacks.push(callback);\n",
       "      if (window._bokeh_is_loading > 0) {\n",
       "        console.log(\"Bokeh: BokehJS is being loaded, scheduling callback at\", now());\n",
       "        return null;\n",
       "      }\n",
       "      if (js_urls == null || js_urls.length === 0) {\n",
       "        run_callbacks();\n",
       "        return null;\n",
       "      }\n",
       "      console.log(\"Bokeh: BokehJS not loaded, scheduling load and callback at\", now());\n",
       "      window._bokeh_is_loading = js_urls.length;\n",
       "      for (var i = 0; i < js_urls.length; i++) {\n",
       "        var url = js_urls[i];\n",
       "        var s = document.createElement('script');\n",
       "        s.src = url;\n",
       "        s.async = false;\n",
       "        s.onreadystatechange = s.onload = function() {\n",
       "          window._bokeh_is_loading--;\n",
       "          if (window._bokeh_is_loading === 0) {\n",
       "            console.log(\"Bokeh: all BokehJS libraries loaded\");\n",
       "            run_callbacks()\n",
       "          }\n",
       "        };\n",
       "        s.onerror = function() {\n",
       "          console.warn(\"failed to load library \" + url);\n",
       "        };\n",
       "        console.log(\"Bokeh: injecting script tag for BokehJS library: \", url);\n",
       "        document.getElementsByTagName(\"head\")[0].appendChild(s);\n",
       "      }\n",
       "    };var element = document.getElementById(\"91e0bcc8-7fd9-438f-8602-8aad5900a652\");\n",
       "    if (element == null) {\n",
       "      console.log(\"Bokeh: ERROR: autoload.js configured with elementid '91e0bcc8-7fd9-438f-8602-8aad5900a652' but no matching script tag was found. \")\n",
       "      return false;\n",
       "    }\n",
       "  \n",
       "    var js_urls = [];\n",
       "  \n",
       "    var inline_js = [\n",
       "      function(Bokeh) {\n",
       "        (function() {\n",
       "          var fn = function() {\n",
       "            var docs_json = {\"94721be2-d3ff-44ca-95c6-8412a65a3dc5\":{\"roots\":{\"references\":[{\"attributes\":{\"callback\":null,\"column_names\":[\"x_values\",\"y_values\"],\"data\":{\"chart_index\":[{\"correct\":\"Incorrect\"},{\"correct\":\"Incorrect\"},{\"correct\":\"Incorrect\"},{\"correct\":\"Incorrect\"},{\"correct\":\"Incorrect\"},{\"correct\":\"Incorrect\"},{\"correct\":\"Incorrect\"},{\"correct\":\"Incorrect\"},{\"correct\":\"Incorrect\"},{\"correct\":\"Incorrect\"},{\"correct\":\"Incorrect\"},{\"correct\":\"Incorrect\"}],\"correct\":[\"Incorrect\",\"Incorrect\",\"Incorrect\",\"Incorrect\",\"Incorrect\",\"Incorrect\",\"Incorrect\",\"Incorrect\",\"Incorrect\",\"Incorrect\",\"Incorrect\",\"Incorrect\"],\"x_values\":{\"__ndarray__\":\"cHCjQ+B+FkCcMJ1AI/UhQIgtaQPIYCNAMvpl8a53F0BNNwHt67sWQM3yFJ8LtyBA5dFyfVTeI0B23JdPnbcbQLugxZ3tKBdA8bepFe4oIkBWqS8+694jQOSq1qi94yJA\",\"dtype\":\"float64\",\"shape\":[12]},\"y_values\":{\"__ndarray__\":\"JgiwumBN+D8YtTJlVnMPQN9guMmKFhFAQzUybqrg8D9H5nMewrDzPwybYV+HXg1AYsi1A11ODkBs/jiT5pYCQCHXB+EydvY/ArXL+sv+DUC80CiBc/MbQOl+arlD7BJA\",\"dtype\":\"float64\",\"shape\":[12]}}},\"id\":\"a4681e30-56b8-4498-a800-2c32896b9936\",\"type\":\"ColumnDataSource\"},{\"attributes\":{\"plot\":{\"id\":\"496035b5-4d62-470d-ae4c-46e281f68404\",\"subtype\":\"Chart\",\"type\":\"Plot\"},\"ticker\":{\"id\":\"bea9455a-a529-44d6-b1b0-ab9c0152935d\",\"type\":\"BasicTicker\"}},\"id\":\"f1c1d070-88a8-4986-88fd-7ea4e232d5ad\",\"type\":\"Grid\"},{\"attributes\":{\"fill_alpha\":{\"value\":0.7},\"fill_color\":{\"value\":\"lightgrey\"},\"line_color\":{\"value\":\"lightgrey\"},\"size\":{\"units\":\"screen\",\"value\":8},\"x\":{\"field\":\"x_values\"},\"y\":{\"field\":\"y_values\"}},\"id\":\"1afcb479-28ee-472c-a0ce-abda3376aa6e\",\"type\":\"Circle\"},{\"attributes\":{\"axis_label\":\"x1\",\"formatter\":{\"id\":\"2c4389a7-bbd7-4b7b-a09b-bd5ddb008312\",\"type\":\"BasicTickFormatter\"},\"plot\":{\"id\":\"496035b5-4d62-470d-ae4c-46e281f68404\",\"subtype\":\"Chart\",\"type\":\"Plot\"},\"ticker\":{\"id\":\"bea9455a-a529-44d6-b1b0-ab9c0152935d\",\"type\":\"BasicTicker\"}},\"id\":\"7db45224-c00d-4e96-889f-711cf9dcec63\",\"type\":\"LinearAxis\"},{\"attributes\":{\"data_source\":{\"id\":\"7d4c160b-200b-4a48-9568-a281bf6d23eb\",\"type\":\"ColumnDataSource\"},\"glyph\":{\"id\":\"1afcb479-28ee-472c-a0ce-abda3376aa6e\",\"type\":\"Circle\"},\"hover_glyph\":null,\"nonselection_glyph\":null,\"selection_glyph\":null},\"id\":\"f5f8bff9-8195-4956-a33d-b5669c0d04b3\",\"type\":\"GlyphRenderer\"},{\"attributes\":{},\"id\":\"0f4419b7-9739-46d7-b84f-f941d25531c8\",\"type\":\"BasicTickFormatter\"},{\"attributes\":{},\"id\":\"bea9455a-a529-44d6-b1b0-ab9c0152935d\",\"type\":\"BasicTicker\"},{\"attributes\":{\"axis_label\":\"x2\",\"formatter\":{\"id\":\"0f4419b7-9739-46d7-b84f-f941d25531c8\",\"type\":\"BasicTickFormatter\"},\"plot\":{\"id\":\"496035b5-4d62-470d-ae4c-46e281f68404\",\"subtype\":\"Chart\",\"type\":\"Plot\"},\"ticker\":{\"id\":\"df3a1001-5538-4bbb-bbab-88b3195670e4\",\"type\":\"BasicTicker\"}},\"id\":\"e6ade889-a58c-4c56-9e04-18c4e065c582\",\"type\":\"LinearAxis\"},{\"attributes\":{\"callback\":null,\"end\":10.916644686317353,\"start\":-0.8544118014373772},\"id\":\"30e3e025-50c1-44ed-b2cd-e0bdeb3350aa\",\"type\":\"Range1d\"},{\"attributes\":{},\"id\":\"2c4389a7-bbd7-4b7b-a09b-bd5ddb008312\",\"type\":\"BasicTickFormatter\"},{\"attributes\":{\"overlay\":{\"id\":\"bb6796ba-6ea2-4a2b-a3cf-549b68fee0e9\",\"type\":\"BoxAnnotation\"},\"plot\":{\"id\":\"496035b5-4d62-470d-ae4c-46e281f68404\",\"subtype\":\"Chart\",\"type\":\"Plot\"}},\"id\":\"7a2d171c-87f1-40a9-a2d6-9991d97579ea\",\"type\":\"BoxZoomTool\"},{\"attributes\":{\"line_alpha\":{\"value\":0.1},\"line_color\":{\"value\":\"#1f77b4\"},\"x\":{\"field\":\"x\"},\"y\":{\"field\":\"y\"}},\"id\":\"3fffc6a4-d3b4-46f4-8ef5-6e0351bc6319\",\"type\":\"Line\"},{\"attributes\":{\"plot\":{\"id\":\"496035b5-4d62-470d-ae4c-46e281f68404\",\"subtype\":\"Chart\",\"type\":\"Plot\"}},\"id\":\"b30b254b-9594-48a3-b753-9e4c382756aa\",\"type\":\"WheelZoomTool\"},{\"attributes\":{\"active_drag\":\"auto\",\"active_scroll\":\"auto\",\"active_tap\":\"auto\",\"tools\":[{\"id\":\"baead419-e2bd-4255-923a-5bb7e1627e50\",\"type\":\"PanTool\"},{\"id\":\"b30b254b-9594-48a3-b753-9e4c382756aa\",\"type\":\"WheelZoomTool\"},{\"id\":\"7a2d171c-87f1-40a9-a2d6-9991d97579ea\",\"type\":\"BoxZoomTool\"},{\"id\":\"84c34121-f244-4f04-84c0-920c53eb70f8\",\"type\":\"SaveTool\"},{\"id\":\"ebc4d977-248a-4eab-895f-4e7b270714d9\",\"type\":\"ResetTool\"},{\"id\":\"80f15866-2bea-4f22-87d8-8dda81ac9c62\",\"type\":\"HelpTool\"}]},\"id\":\"1d49528d-6383-4b35-a418-6eb306a57960\",\"type\":\"Toolbar\"},{\"attributes\":{\"items\":[{\"id\":\"cbae73c5-60aa-4751-8d04-b87da84a9ab8\",\"type\":\"LegendItem\"},{\"id\":\"a964a4bd-429e-4a24-aace-628ef89ff09b\",\"type\":\"LegendItem\"}],\"location\":\"top_left\",\"plot\":{\"id\":\"496035b5-4d62-470d-ae4c-46e281f68404\",\"subtype\":\"Chart\",\"type\":\"Plot\"}},\"id\":\"8f3b15e4-439d-44de-a425-5fd6eefffaeb\",\"type\":\"Legend\"},{\"attributes\":{\"callback\":null,\"end\":10.915039821484783,\"start\":-0.840775904244327},\"id\":\"c062b58b-bcf1-4716-9729-65530a49d963\",\"type\":\"Range1d\"},{\"attributes\":{},\"id\":\"750ac011-928a-46a6-90a8-50532c16f391\",\"type\":\"ToolEvents\"},{\"attributes\":{\"callback\":null,\"column_names\":[\"x_values\",\"y_values\"],\"data\":{\"chart_index\":[{\"correct\":\"Correct\"},{\"correct\":\"Correct\"},{\"correct\":\"Correct\"},{\"correct\":\"Correct\"},{\"correct\":\"Correct\"},{\"correct\":\"Correct\"},{\"correct\":\"Correct\"},{\"correct\":\"Correct\"},{\"correct\":\"Correct\"},{\"correct\":\"Correct\"},{\"correct\":\"Correct\"},{\"correct\":\"Correct\"},{\"correct\":\"Correct\"},{\"correct\":\"Correct\"},{\"correct\":\"Correct\"},{\"correct\":\"Correct\"},{\"correct\":\"Correct\"},{\"correct\":\"Correct\"},{\"correct\":\"Correct\"},{\"correct\":\"Correct\"},{\"correct\":\"Correct\"},{\"correct\":\"Correct\"},{\"correct\":\"Correct\"},{\"correct\":\"Correct\"},{\"correct\":\"Correct\"},{\"correct\":\"Correct\"},{\"correct\":\"Correct\"},{\"correct\":\"Correct\"},{\"correct\":\"Correct\"},{\"correct\":\"Correct\"},{\"correct\":\"Correct\"},{\"correct\":\"Correct\"},{\"correct\":\"Correct\"},{\"correct\":\"Correct\"},{\"correct\":\"Correct\"},{\"correct\":\"Correct\"},{\"correct\":\"Correct\"},{\"correct\":\"Correct\"},{\"correct\":\"Correct\"},{\"correct\":\"Correct\"},{\"correct\":\"Correct\"},{\"correct\":\"Correct\"},{\"correct\":\"Correct\"},{\"correct\":\"Correct\"},{\"correct\":\"Correct\"},{\"correct\":\"Correct\"},{\"correct\":\"Correct\"},{\"correct\":\"Correct\"},{\"correct\":\"Correct\"},{\"correct\":\"Correct\"},{\"correct\":\"Correct\"},{\"correct\":\"Correct\"},{\"correct\":\"Correct\"},{\"correct\":\"Correct\"},{\"correct\":\"Correct\"},{\"correct\":\"Correct\"},{\"correct\":\"Correct\"},{\"correct\":\"Correct\"},{\"correct\":\"Correct\"},{\"correct\":\"Correct\"},{\"correct\":\"Correct\"},{\"correct\":\"Correct\"},{\"correct\":\"Correct\"},{\"correct\":\"Correct\"},{\"correct\":\"Correct\"},{\"correct\":\"Correct\"},{\"correct\":\"Correct\"},{\"correct\":\"Correct\"},{\"correct\":\"Correct\"},{\"correct\":\"Correct\"},{\"correct\":\"Correct\"},{\"correct\":\"Correct\"},{\"correct\":\"Correct\"},{\"correct\":\"Correct\"},{\"correct\":\"Correct\"},{\"correct\":\"Correct\"},{\"correct\":\"Correct\"},{\"correct\":\"Correct\"},{\"correct\":\"Correct\"},{\"correct\":\"Correct\"},{\"correct\":\"Correct\"},{\"correct\":\"Correct\"},{\"correct\":\"Correct\"},{\"correct\":\"Correct\"},{\"correct\":\"Correct\"},{\"correct\":\"Correct\"},{\"correct\":\"Correct\"},{\"correct\":\"Correct\"},{\"correct\":\"Correct\"},{\"correct\":\"Correct\"},{\"correct\":\"Correct\"},{\"correct\":\"Correct\"},{\"correct\":\"Correct\"},{\"correct\":\"Correct\"},{\"correct\":\"Correct\"},{\"correct\":\"Correct\"},{\"correct\":\"Correct\"},{\"correct\":\"Correct\"},{\"correct\":\"Correct\"},{\"correct\":\"Correct\"},{\"correct\":\"Correct\"},{\"correct\":\"Correct\"},{\"correct\":\"Correct\"},{\"correct\":\"Correct\"},{\"correct\":\"Correct\"},{\"correct\":\"Correct\"},{\"correct\":\"Correct\"},{\"correct\":\"Correct\"},{\"correct\":\"Correct\"},{\"correct\":\"Correct\"},{\"correct\":\"Correct\"},{\"correct\":\"Correct\"},{\"correct\":\"Correct\"},{\"correct\":\"Correct\"},{\"correct\":\"Correct\"},{\"correct\":\"Correct\"},{\"correct\":\"Correct\"},{\"correct\":\"Correct\"},{\"correct\":\"Correct\"},{\"correct\":\"Correct\"},{\"correct\":\"Correct\"},{\"correct\":\"Correct\"},{\"correct\":\"Correct\"},{\"correct\":\"Correct\"},{\"correct\":\"Correct\"},{\"correct\":\"Correct\"},{\"correct\":\"Correct\"},{\"correct\":\"Correct\"},{\"correct\":\"Correct\"},{\"correct\":\"Correct\"},{\"correct\":\"Correct\"},{\"correct\":\"Correct\"},{\"correct\":\"Correct\"},{\"correct\":\"Correct\"},{\"correct\":\"Correct\"},{\"correct\":\"Correct\"},{\"correct\":\"Correct\"},{\"correct\":\"Correct\"}],\"correct\":[\"Correct\",\"Correct\",\"Correct\",\"Correct\",\"Correct\",\"Correct\",\"Correct\",\"Correct\",\"Correct\",\"Correct\",\"Correct\",\"Correct\",\"Correct\",\"Correct\",\"Correct\",\"Correct\",\"Correct\",\"Correct\",\"Correct\",\"Correct\",\"Correct\",\"Correct\",\"Correct\",\"Correct\",\"Correct\",\"Correct\",\"Correct\",\"Correct\",\"Correct\",\"Correct\",\"Correct\",\"Correct\",\"Correct\",\"Correct\",\"Correct\",\"Correct\",\"Correct\",\"Correct\",\"Correct\",\"Correct\",\"Correct\",\"Correct\",\"Correct\",\"Correct\",\"Correct\",\"Correct\",\"Correct\",\"Correct\",\"Correct\",\"Correct\",\"Correct\",\"Correct\",\"Correct\",\"Correct\",\"Correct\",\"Correct\",\"Correct\",\"Correct\",\"Correct\",\"Correct\",\"Correct\",\"Correct\",\"Correct\",\"Correct\",\"Correct\",\"Correct\",\"Correct\",\"Correct\",\"Correct\",\"Correct\",\"Correct\",\"Correct\",\"Correct\",\"Correct\",\"Correct\",\"Correct\",\"Correct\",\"Correct\",\"Correct\",\"Correct\",\"Correct\",\"Correct\",\"Correct\",\"Correct\",\"Correct\",\"Correct\",\"Correct\",\"Correct\",\"Correct\",\"Correct\",\"Correct\",\"Correct\",\"Correct\",\"Correct\",\"Correct\",\"Correct\",\"Correct\",\"Correct\",\"Correct\",\"Correct\",\"Correct\",\"Correct\",\"Correct\",\"Correct\",\"Correct\",\"Correct\",\"Correct\",\"Correct\",\"Correct\",\"Correct\",\"Correct\",\"Correct\",\"Correct\",\"Correct\",\"Correct\",\"Correct\",\"Correct\",\"Correct\",\"Correct\",\"Correct\",\"Correct\",\"Correct\",\"Correct\",\"Correct\",\"Correct\",\"Correct\",\"Correct\",\"Correct\",\"Correct\",\"Correct\",\"Correct\",\"Correct\",\"Correct\",\"Correct\",\"Correct\",\"Correct\",\"Correct\",\"Correct\"],\"x_values\":{\"__ndarray__\":\"uBy+a91fIUBUJtF/JKYRQDJ1AngqGAtAbDIWDSOhGEBmCpcU4lwGQK6mOROffyBAny/qnTGS8j+MwElrEtcJQKnbuj+5zxtAJGjXW4Ea4z9RcebxDF8jQCt8IW/SgCBAfvXyoUykFUAWsyYZeeT7Px2oi+8+mPo/sNNQu/TuIECKHYokIBIUQC7mmO8aJek/g0sUrI8+FUD93i6Na1ohQBvjfGabohFA8OZ3UGfY+z8YIrqIzZEUQJY8rFD0uRhA3sCsHvCXIECZZFNYnp4EQIQFkOgDNOs/f3etKe3HF0C9fGyuxsIjQEL9JlqSN/Y/yCxwdBMiC0C7XTYz5poUQLxpc214XxFAvkxbvOiSHEBJVaH3ewceQHTd7pHU7SFAd4EWC9HhDkDwfyX51vTjPxL2KjmragJAUAm2vNLFyD8BXfvghv0DQOWAeNOQBSFAkWmuLQrsIUCSiPjPefogQGAk93iJ8wBApniIUX1bCEAwbpgwLnghQCbNVDbo9gVAZoMomKKcIEDS6N27J67hP9z1gLd7guA/dSdyH6N8FkApF/AgR6L6P06uQdvnSxxA4NtOBtajAkDgq5is/FcOQGpmHZ7jLPg/8o9KsViJFUC1dydKK28dQC07J60mAyBAk2/3mIZ1IEDQaKVukMsaQNgiJI2GrQNAvxTK9ymH+D/1jkxQ8mIGQBIcm6WD+ARAPfoYrXceEUCAqrVxnTQAQDtjar7aghFArQ3I6RWiI0DscgP9bkkDQICqTYXsks4/XLeazp1+FkAk6i8qgX8BQJ6F7xTz0R5ASA5TgT919j/UbOmdPOAeQKoog8tBhh9A6VbbNXLSHUDEp55MY3YXQEOsW3P83iBA2Dd+kSDqBkA4ZmkE5H4eQPgFGRmlZ/g/GIRoZMVRFEDPjPs6KfgYQLrIrltShyJAcsDN4aEJDUDXnMNIlMQCQBZxvdj5l/k/oCxtYfTHGkAMAOwkQ68hQEyZDlCilhlA+7tH3STEAkCE7lerOxEDQDCV3n/WTwdAy223KKeY9T9MZS+bamgNQOSjQ9sPohFAZEOOY4OmGkC5pSCab60dQFZrCZSUjAhANroEL6RBH0Af6F1p/OryP8lNr9iy2hpAe72M7MCB/z+KFqBK9tzkP7Wmj/ATSBRAYp3sTsu0FUD+5dGCyiUDQMuFvgE4bQJAFutV+8Tl8T+CvFF1E7roPwy8b+JVgiBAmSZp/PRuGEA6uqM2FtMWQGlc4TesGvk/+ApHYShTyj9aGsCi6d7uP0Xcu508uxlAW1C72A5eB0Ckmk8GGS3mPzC0/lerxsE/0g4TX5cLDkAFEUws/gIWQN4y4HKVrhRAlgXMvgxBFECMWcs+1w0bQGpP9k0iiBZAIr4/FDDeFUAFv6yzUO8cQB23aL3FhiJAy/+vPxf9/D/1R2ThGOIiQMyYCqzn8QJAljEw5M+HI0CbtfLPMKgUQAwcEt6/6RBA\",\"dtype\":\"float64\",\"shape\":[138]},\"y_values\":{\"__ndarray__\":\"/R0tjH72FkD0qT99HzkYQK9c/g38RBRAGizr2UrDC0A118DS0IwgQCT/AO7XCiNABraZ0VSfBEBM6LNCL6bzP4yvrCvRxhRAciqeH9ytHUDxWkX2ogQiQJDUJJMjOxhAOpnUpSfdI0Aiij/LfU/yP/fw1qwdMgxA0iluEbHpIUCGYWQAxGPjP8zOjjvUphxAzmLojUEsIkDCAwRtatkcQCSGZVJUXOU/MPZTAkayIEBU3PLIoa4LQGKyX39kyQhA1goKiRsAIkD0MEEgF98jQPCfpLlUKh1ApjPaJ2adFUCr4ngNK7kVQKvulx+sYBpA6wfk78iyIUD+iZ6jNAwDQPgIeQCm1c0/5m7rrSYkI0AqyLq5cf0NQK9Ry3sB6fg/QhIRapZcBUAKxXugTPIBQCoejPf0nBxAunf4nuKCE0BSthhX3YHuPx/ZE+1uevg/bBIFAEOvE0C7u3zxiqYVQDKeQeEadCFAqCq8WL1A0D+m/1Y9HN4aQGQitpew4iJAREaCIUzjIEBnoKHbCM8RQD1eijS2xiJAUXJxzcC9GkAYuzkP8jseQKzk4fPF0htAxOJIHSu30D9jaKpfOWgVQMTIdvDMpfY/Dx9IWRV0G0BsbAnvxmojQBKlLq6gkOI/22MyHWPw+D8imB7Wz2YiQNu+7FkXryNAWjMW2hFgFEACsfwF2qIhQKS2Pr/8/SBAuV9wlj7F+D9L83ED+FwfQPqV2EavJPg/fKtYroNNHUA3Ss+h6aAgQHt/ICbtdCJAIDIvDWvT1D+krrFJt54IQCjoJTgOcRtAAIEArxSxC0CuNXK0ki8RQBeX5NBZ1xFA7EWSNNfaA0DVK5mtKLkhQF6yTNsRt+w/luSn4JOOGUBwZegBDpIZQMLGAJf8nxVAdspj+fK/G0AaeruwL7YHQB9IrutOwSNARqLushQAEECCZFpi/4ILQHwHv8jAD+U/lDjVB5uXG0DCwXDdzdEYQHkWY83xZyNAtvH4G2t7IEAfbqa4RZr1P+myToVnBvg/yIOo/GaHFEDqU+9hn74fQI4u4j/48+Y/c8xVWTt79D/0NaLxUZoVQOhBitb/MNc/iZ5U/4WqGEDyADah5FcUQD5eRtpnEhFA94l9tc4IHkC6gk1ElqEgQDWFlAxbSxhAqJ2uGqVdI0Ak0jpCfechQCRzjrbzAAtAyRxU5OgBBUBeDsFZoCIaQLJL8aD90iNAH6gZAKjNI0BXyqZZFgISQA+GQVJ18AtAII1ZNncxwD+/lgtPDfPyPwyxzFWtGR9AU4j+1KX7HkA/UeU/FdUQQFPVm6s9wRhABMWHvBvQFkCaTIIFHMPxP0IVbs5oeghAhmmik+tZHEDcNFaoSgIgQPv9PlNuWAdAb6fyoe1xFECCYRzTbpoTQC4qIHRmSCJAPGS1oeq4F0Co6V+xIFgbQCoTYJSOYBRAclc/m4NNF0DL930TKbbyP7CBvYwo0BZA\",\"dtype\":\"float64\",\"shape\":[138]}}},\"id\":\"7d4c160b-200b-4a48-9568-a281bf6d23eb\",\"type\":\"ColumnDataSource\"},{\"attributes\":{\"data_source\":{\"id\":\"28c61e5a-90d3-47ae-9801-9daf08202672\",\"type\":\"ColumnDataSource\"},\"glyph\":{\"id\":\"ba1a358a-7ca0-46d0-880d-5bfa55cfd8f1\",\"type\":\"Line\"},\"hover_glyph\":null,\"nonselection_glyph\":{\"id\":\"3fffc6a4-d3b4-46f4-8ef5-6e0351bc6319\",\"type\":\"Line\"},\"selection_glyph\":null},\"id\":\"151ccac9-5b61-4a53-b285-84c5106e629e\",\"type\":\"GlyphRenderer\"},{\"attributes\":{\"plot\":null,\"text\":null},\"id\":\"f6b1e7af-2e1a-4614-9ec0-0ea4e4315eff\",\"type\":\"Title\"},{\"attributes\":{\"label\":{\"value\":\"Correct\"},\"renderers\":[{\"id\":\"f5f8bff9-8195-4956-a33d-b5669c0d04b3\",\"type\":\"GlyphRenderer\"}]},\"id\":\"cbae73c5-60aa-4751-8d04-b87da84a9ab8\",\"type\":\"LegendItem\"},{\"attributes\":{\"plot\":{\"id\":\"496035b5-4d62-470d-ae4c-46e281f68404\",\"subtype\":\"Chart\",\"type\":\"Plot\"}},\"id\":\"baead419-e2bd-4255-923a-5bb7e1627e50\",\"type\":\"PanTool\"},{\"attributes\":{\"line_color\":{\"value\":\"darkblue\"},\"x\":{\"field\":\"x\"},\"y\":{\"field\":\"y\"}},\"id\":\"ba1a358a-7ca0-46d0-880d-5bfa55cfd8f1\",\"type\":\"Line\"},{\"attributes\":{\"callback\":null,\"column_names\":[\"x\",\"y\"],\"data\":{\"x\":{\"__ndarray__\":\"AAAAAAAAAACIxvrQWB/KP4jG+tBYH9o/5hS8nIKX4z+IxvrQWB/qPxW8nIKXU/A/5hS8nIKX8z+3bdu2bdv2P4jG+tBYH/o/WR8a60Nj/T8VvJyCl1MAQH5orA+N9QFA5hS8nIKXA0BOwcspeDkFQLdt27Zt2wZAIBrrQ2N9CECIxvrQWB8KQPByCl5OwQtAWR8a60NjDUDCyyl4OQUPQBW8nIKXUxBASZIkSZIkEUB+aKwPjfURQLI+NNaHxhJA5hS8nIKXE0Aa60NjfWgUQE7Byyl4ORVAg5dT8HIKFkC3bdu2bdsWQOtDY31orBdAIBrrQ2N9GEBU8HIKXk4ZQIjG+tBYHxpAvJyCl1PwGkDwcgpeTsEbQCVJkiRJkhxAWR8a60NjHUCN9aGxPjQeQMLLKXg5BR9A9qGxPjTWH0AVvJyCl1MgQC+n4OUUvCBASZIkSZIkIUBjfWisD40hQH5orA+N9SFAmFPwcgpeIkCyPjTWh8YiQMwpeDkFLyNA5hS8nIKXI0AAAAAAAAAkQA==\",\"dtype\":\"float64\",\"shape\":[50]},\"y\":[-4.888588957646232,-4.693952239198982,-4.499315520751733,-4.304678802304483,-4.110042083857233,-3.915405365409983,-3.7207686469627332,-3.526131928515484,-3.331495210068234,-3.136858491620984,-2.9422217731737343,-2.747585054726484,-2.5529483362792345,-2.358311617831985,-2.163674899384735,-1.9690381809374848,-1.7744014624902356,-1.5797647440429856,-1.3851280255957357,-1.1904913071484857,-0.9958545887012363,-0.8012178702539864,-0.6065811518067364,-0.4119444333594865,-0.2173077149122372,-0.022670996464987228,0.1719657219822621,0.3666024404295127,0.561239158876762,0.7558758773240113,0.9505125957712625,1.1451493142185112,1.3397860326657611,1.534422751113011,1.729059469560261,1.923696188007511,2.118332906454761,2.3129696249020095,2.507606343349261,2.7022430617965107,2.8968797802437596,3.0915164986910093,3.2861532171382595,3.480789935585508,3.6754266540327594,3.870063372480009,4.064700090927259,4.259336809374509,4.453973527821757,4.6486102462690075]}},\"id\":\"28c61e5a-90d3-47ae-9801-9daf08202672\",\"type\":\"ColumnDataSource\"},{\"attributes\":{\"fill_alpha\":{\"value\":0.7},\"fill_color\":{\"value\":\"darkred\"},\"line_color\":{\"value\":\"darkred\"},\"size\":{\"units\":\"screen\",\"value\":8},\"x\":{\"field\":\"x_values\"},\"y\":{\"field\":\"y_values\"}},\"id\":\"42ac43d5-b4ae-4bdc-972d-5f94e2e996c6\",\"type\":\"Square\"},{\"attributes\":{\"plot\":{\"id\":\"496035b5-4d62-470d-ae4c-46e281f68404\",\"subtype\":\"Chart\",\"type\":\"Plot\"}},\"id\":\"80f15866-2bea-4f22-87d8-8dda81ac9c62\",\"type\":\"HelpTool\"},{\"attributes\":{},\"id\":\"df3a1001-5538-4bbb-bbab-88b3195670e4\",\"type\":\"BasicTicker\"},{\"attributes\":{\"label\":{\"value\":\"Incorrect\"},\"renderers\":[{\"id\":\"39c4d3ff-5ee2-4516-9c96-aa7da5eedbf3\",\"type\":\"GlyphRenderer\"}]},\"id\":\"a964a4bd-429e-4a24-aace-628ef89ff09b\",\"type\":\"LegendItem\"},{\"attributes\":{\"plot\":{\"id\":\"496035b5-4d62-470d-ae4c-46e281f68404\",\"subtype\":\"Chart\",\"type\":\"Plot\"}},\"id\":\"ebc4d977-248a-4eab-895f-4e7b270714d9\",\"type\":\"ResetTool\"},{\"attributes\":{\"plot\":{\"id\":\"496035b5-4d62-470d-ae4c-46e281f68404\",\"subtype\":\"Chart\",\"type\":\"Plot\"}},\"id\":\"84c34121-f244-4f04-84c0-920c53eb70f8\",\"type\":\"SaveTool\"},{\"attributes\":{\"below\":[{\"id\":\"7db45224-c00d-4e96-889f-711cf9dcec63\",\"type\":\"LinearAxis\"}],\"css_classes\":null,\"height\":500,\"left\":[{\"id\":\"e6ade889-a58c-4c56-9e04-18c4e065c582\",\"type\":\"LinearAxis\"}],\"renderers\":[{\"id\":\"bb6796ba-6ea2-4a2b-a3cf-549b68fee0e9\",\"type\":\"BoxAnnotation\"},{\"id\":\"f5f8bff9-8195-4956-a33d-b5669c0d04b3\",\"type\":\"GlyphRenderer\"},{\"id\":\"39c4d3ff-5ee2-4516-9c96-aa7da5eedbf3\",\"type\":\"GlyphRenderer\"},{\"id\":\"8f3b15e4-439d-44de-a425-5fd6eefffaeb\",\"type\":\"Legend\"},{\"id\":\"7db45224-c00d-4e96-889f-711cf9dcec63\",\"type\":\"LinearAxis\"},{\"id\":\"e6ade889-a58c-4c56-9e04-18c4e065c582\",\"type\":\"LinearAxis\"},{\"id\":\"f1c1d070-88a8-4986-88fd-7ea4e232d5ad\",\"type\":\"Grid\"},{\"id\":\"ac364c5d-ba9e-440c-84c4-43f4058e1c2e\",\"type\":\"Grid\"},{\"id\":\"151ccac9-5b61-4a53-b285-84c5106e629e\",\"type\":\"GlyphRenderer\"}],\"title\":{\"id\":\"f6b1e7af-2e1a-4614-9ec0-0ea4e4315eff\",\"type\":\"Title\"},\"tool_events\":{\"id\":\"750ac011-928a-46a6-90a8-50532c16f391\",\"type\":\"ToolEvents\"},\"toolbar\":{\"id\":\"1d49528d-6383-4b35-a418-6eb306a57960\",\"type\":\"Toolbar\"},\"width\":500,\"x_mapper_type\":\"auto\",\"x_range\":{\"id\":\"c062b58b-bcf1-4716-9729-65530a49d963\",\"type\":\"Range1d\"},\"y_mapper_type\":\"auto\",\"y_range\":{\"id\":\"30e3e025-50c1-44ed-b2cd-e0bdeb3350aa\",\"type\":\"Range1d\"}},\"id\":\"496035b5-4d62-470d-ae4c-46e281f68404\",\"subtype\":\"Chart\",\"type\":\"Plot\"},{\"attributes\":{\"bottom_units\":\"screen\",\"fill_alpha\":{\"value\":0.5},\"fill_color\":{\"value\":\"lightgrey\"},\"left_units\":\"screen\",\"level\":\"overlay\",\"line_alpha\":{\"value\":1.0},\"line_color\":{\"value\":\"black\"},\"line_dash\":[4,4],\"line_width\":{\"value\":2},\"plot\":null,\"render_mode\":\"css\",\"right_units\":\"screen\",\"top_units\":\"screen\"},\"id\":\"bb6796ba-6ea2-4a2b-a3cf-549b68fee0e9\",\"type\":\"BoxAnnotation\"},{\"attributes\":{\"data_source\":{\"id\":\"a4681e30-56b8-4498-a800-2c32896b9936\",\"type\":\"ColumnDataSource\"},\"glyph\":{\"id\":\"42ac43d5-b4ae-4bdc-972d-5f94e2e996c6\",\"type\":\"Square\"},\"hover_glyph\":null,\"nonselection_glyph\":null,\"selection_glyph\":null},\"id\":\"39c4d3ff-5ee2-4516-9c96-aa7da5eedbf3\",\"type\":\"GlyphRenderer\"},{\"attributes\":{\"dimension\":1,\"plot\":{\"id\":\"496035b5-4d62-470d-ae4c-46e281f68404\",\"subtype\":\"Chart\",\"type\":\"Plot\"},\"ticker\":{\"id\":\"df3a1001-5538-4bbb-bbab-88b3195670e4\",\"type\":\"BasicTicker\"}},\"id\":\"ac364c5d-ba9e-440c-84c4-43f4058e1c2e\",\"type\":\"Grid\"}],\"root_ids\":[\"496035b5-4d62-470d-ae4c-46e281f68404\"]},\"title\":\"Bokeh Application\",\"version\":\"0.12.4\"}};\n",
       "            var render_items = [{\"docid\":\"94721be2-d3ff-44ca-95c6-8412a65a3dc5\",\"elementid\":\"91e0bcc8-7fd9-438f-8602-8aad5900a652\",\"modelid\":\"496035b5-4d62-470d-ae4c-46e281f68404\"}];\n",
       "            \n",
       "            Bokeh.embed.embed_items(docs_json, render_items);\n",
       "          };\n",
       "          if (document.readyState != \"loading\") fn();\n",
       "          else document.addEventListener(\"DOMContentLoaded\", fn);\n",
       "        })();\n",
       "      },\n",
       "      function(Bokeh) {\n",
       "      }\n",
       "    ];\n",
       "  \n",
       "    function run_inline_js() {\n",
       "      \n",
       "      if ((window.Bokeh !== undefined) || (force === true)) {\n",
       "        for (var i = 0; i < inline_js.length; i++) {\n",
       "          inline_js[i](window.Bokeh);\n",
       "        }if (force === true) {\n",
       "          display_loaded();\n",
       "        }} else if (Date.now() < window._bokeh_timeout) {\n",
       "        setTimeout(run_inline_js, 100);\n",
       "      } else if (!window._bokeh_failed_load) {\n",
       "        console.log(\"Bokeh: BokehJS failed to load within specified timeout.\");\n",
       "        window._bokeh_failed_load = true;\n",
       "      } else if (force !== true) {\n",
       "        var cell = $(document.getElementById(\"91e0bcc8-7fd9-438f-8602-8aad5900a652\")).parents('.cell').data().cell;\n",
       "        cell.output_area.append_execute_result(NB_LOAD_WARNING)\n",
       "      }\n",
       "  \n",
       "    }\n",
       "  \n",
       "    if (window._bokeh_is_loading === 0) {\n",
       "      console.log(\"Bokeh: BokehJS loaded, going straight to plotting\");\n",
       "      run_inline_js();\n",
       "    } else {\n",
       "      load_libs(js_urls, function() {\n",
       "        console.log(\"Bokeh: BokehJS plotting callback run at\", now());\n",
       "        run_inline_js();\n",
       "      });\n",
       "    }\n",
       "  }(this));\n",
       "</script>"
      ]
     },
     "metadata": {},
     "output_type": "display_data"
    }
   ],
   "source": [
    "correct = ['Correct' if yi == yh_i else 'Incorrect' for yi, yh_i in zip(y, y_hat)]\n",
    "plot_svm_results(correct, clf.intercept_[0], clf.coef_[0][0], clf.coef_[0][1])"
   ]
  },
  {
   "cell_type": "markdown",
   "metadata": {
    "deletable": true,
    "editable": true,
    "slideshow": {
     "slide_type": "slide"
    }
   },
   "source": [
    "## Interlude: Problem Shapes"
   ]
  },
  {
   "cell_type": "markdown",
   "metadata": {
    "slideshow": {
     "slide_type": "subslide"
    }
   },
   "source": [
    "In Linear Algebra 101 we learned to solve problems that look like this.\n",
    "\n",
    "$$Ax = b$$\n",
    "\n",
    "$$\n",
    "\\begin{bmatrix} \\cdot & \\cdot \\\\ \\cdot & \\cdot \\end{bmatrix}\n",
    "\\begin{bmatrix} \\cdot \\\\ \\cdot \\end{bmatrix}\n",
    "=\n",
    "\\begin{bmatrix} \\cdot \\\\ \\cdot \\end{bmatrix}\n",
    "$$"
   ]
  },
  {
   "cell_type": "markdown",
   "metadata": {
    "deletable": true,
    "editable": true,
    "slideshow": {
     "slide_type": "subslide"
    }
   },
   "source": [
    "Many statistical inference problems are overdetermined and unsolvable directly.\n",
    "\n",
    "$$\n",
    "\\begin{bmatrix} \n",
    "    \\cdot & \\cdot \\\\ \n",
    "    \\cdot & \\cdot \\\\ \n",
    "    \\cdot & \\cdot \\\\ \n",
    "    \\cdot & \\cdot \\\\ \n",
    "    \\cdot & \\cdot \\\\ \n",
    "    \\cdot & \\cdot \\\\ \n",
    "    \\cdot & \\cdot \\\\ \n",
    "    \\cdot & \\cdot \\\\ \n",
    "    \\cdot & \\cdot \\\\ \n",
    "    \\cdot & \\cdot\n",
    "\\end{bmatrix}\n",
    "\\begin{bmatrix} \\cdot \\\\ \\cdot \\end{bmatrix}\n",
    "=\n",
    "\\begin{bmatrix} \n",
    "    \\cdot \\\\ \n",
    "    \\cdot \\\\ \n",
    "    \\cdot \\\\ \n",
    "    \\cdot \\\\ \n",
    "    \\cdot \\\\ \n",
    "    \\cdot \\\\ \n",
    "    \\cdot \\\\ \n",
    "    \\cdot \\\\ \n",
    "    \\cdot \\\\ \n",
    "    \\cdot \n",
    "\\end{bmatrix}\n",
    "$$"
   ]
  },
  {
   "cell_type": "markdown",
   "metadata": {
    "deletable": true,
    "editable": true,
    "slideshow": {
     "slide_type": "subslide"
    }
   },
   "source": [
    "Decision models tend to involve a large number of potential actions in relation to the constraint set.\n",
    "\n",
    "$$\n",
    "\\begin{bmatrix} \n",
    "    \\cdot & \\cdot & \\cdot & \\cdot & \\cdot & \\cdot & \\cdot & \\cdot & \\cdot & \\cdot \\\\ \n",
    "    \\cdot & \\cdot & \\cdot & \\cdot & \\cdot & \\cdot & \\cdot & \\cdot & \\cdot & \\cdot\n",
    "\\end{bmatrix}\n",
    "\\begin{bmatrix} \n",
    "    \\cdot \\\\ \n",
    "    \\cdot \\\\ \n",
    "    \\cdot \\\\ \n",
    "    \\cdot \\\\ \n",
    "    \\cdot \\\\ \n",
    "    \\cdot \\\\ \n",
    "    \\cdot \\\\ \n",
    "    \\cdot \\\\ \n",
    "    \\cdot \\\\ \n",
    "    \\cdot \n",
    "\\end{bmatrix}\n",
    "=\n",
    "\\begin{bmatrix} \n",
    "    \\cdot \\\\ \n",
    "    \\cdot\n",
    "\\end{bmatrix}\n",
    "$$"
   ]
  },
  {
   "cell_type": "markdown",
   "metadata": {
    "slideshow": {
     "slide_type": "subslide"
    }
   },
   "source": [
    "In both cases, we start with a problem we can't solve easily and reformulate it as something we can.\n",
    "\n",
    "For statistical inference, we solve a secondary problem that minimizes error against the observed data.\n",
    "\n",
    "For decision models, we choose a set of actions to take _(i.e. a basis)_ and solve the remaining system."
   ]
  },
  {
   "cell_type": "markdown",
   "metadata": {
    "deletable": true,
    "editable": true,
    "slideshow": {
     "slide_type": "slide"
    }
   },
   "source": [
    "## Model 3: Clustering\n",
    "\n",
    "We have a set of unclassified data and we want to cluster it around logical centers."
   ]
  },
  {
   "cell_type": "markdown",
   "metadata": {
    "deletable": true,
    "editable": true,
    "slideshow": {
     "slide_type": "subslide"
    }
   },
   "source": [
    "We generate 25 points around each center $(x_{10}, x_{20}) \\in \\{(0.3, 0.3), (0.3, 0.7), (0.7, 0.7)\\}$.\n",
    "\n",
    "$$x_{1i} = x_{10} + \\epsilon$$  \n",
    "  \n",
    "$$x_{2i} = x_{20} + \\epsilon$$\n",
    "  \n",
    "$$\\epsilon \\sim N\\left(0, 0.2^2\\right)$$\n"
   ]
  },
  {
   "cell_type": "code",
   "execution_count": 86,
   "metadata": {
    "collapsed": false,
    "deletable": true,
    "editable": true,
    "slideshow": {
     "slide_type": "subslide"
    }
   },
   "outputs": [],
   "source": [
    "centers = [(0.3, 0.3), (0.3, 0.7), (0.7, 0.7)]\n",
    "\n",
    "x1 = []\n",
    "x2 = []\n",
    "for x10, x20 in centers:\n",
    "    for _ in range(7):\n",
    "        eps_x1 = random.normalvariate(0, 0.2)\n",
    "        eps_x2 = random.normalvariate(0, 0.2)\n",
    "\n",
    "        x1i = min(max(0.0, x10+eps_x1), 1.0)\n",
    "        x2i = min(max(0.0, x20+eps_x2), 1.0)\n",
    "        \n",
    "        x1.append(x1i)\n",
    "        x2.append(x2i)\n",
    "        \n",
    "X = np.array(list(zip(x1, x2)))"
   ]
  },
  {
   "cell_type": "code",
   "execution_count": 87,
   "metadata": {
    "collapsed": false,
    "deletable": true,
    "editable": true,
    "scrolled": true,
    "slideshow": {
     "slide_type": "subslide"
    }
   },
   "outputs": [
    {
     "data": {
      "text/html": [
       "\n",
       "\n",
       "    <div class=\"bk-root\">\n",
       "        <div class=\"bk-plotdiv\" id=\"795f71a7-f8f8-43fb-8522-514d67058138\"></div>\n",
       "    </div>\n",
       "<script type=\"text/javascript\">\n",
       "  \n",
       "  (function(global) {\n",
       "    function now() {\n",
       "      return new Date();\n",
       "    }\n",
       "  \n",
       "    var force = false;\n",
       "  \n",
       "    if (typeof (window._bokeh_onload_callbacks) === \"undefined\" || force === true) {\n",
       "      window._bokeh_onload_callbacks = [];\n",
       "      window._bokeh_is_loading = undefined;\n",
       "    }\n",
       "  \n",
       "  \n",
       "    \n",
       "    if (typeof (window._bokeh_timeout) === \"undefined\" || force === true) {\n",
       "      window._bokeh_timeout = Date.now() + 0;\n",
       "      window._bokeh_failed_load = false;\n",
       "    }\n",
       "  \n",
       "    var NB_LOAD_WARNING = {'data': {'text/html':\n",
       "       \"<div style='background-color: #fdd'>\\n\"+\n",
       "       \"<p>\\n\"+\n",
       "       \"BokehJS does not appear to have successfully loaded. If loading BokehJS from CDN, this \\n\"+\n",
       "       \"may be due to a slow or bad network connection. Possible fixes:\\n\"+\n",
       "       \"</p>\\n\"+\n",
       "       \"<ul>\\n\"+\n",
       "       \"<li>re-rerun `output_notebook()` to attempt to load from CDN again, or</li>\\n\"+\n",
       "       \"<li>use INLINE resources instead, as so:</li>\\n\"+\n",
       "       \"</ul>\\n\"+\n",
       "       \"<code>\\n\"+\n",
       "       \"from bokeh.resources import INLINE\\n\"+\n",
       "       \"output_notebook(resources=INLINE)\\n\"+\n",
       "       \"</code>\\n\"+\n",
       "       \"</div>\"}};\n",
       "  \n",
       "    function display_loaded() {\n",
       "      if (window.Bokeh !== undefined) {\n",
       "        document.getElementById(\"795f71a7-f8f8-43fb-8522-514d67058138\").textContent = \"BokehJS successfully loaded.\";\n",
       "      } else if (Date.now() < window._bokeh_timeout) {\n",
       "        setTimeout(display_loaded, 100)\n",
       "      }\n",
       "    }\n",
       "  \n",
       "    function run_callbacks() {\n",
       "      window._bokeh_onload_callbacks.forEach(function(callback) { callback() });\n",
       "      delete window._bokeh_onload_callbacks\n",
       "      console.info(\"Bokeh: all callbacks have finished\");\n",
       "    }\n",
       "  \n",
       "    function load_libs(js_urls, callback) {\n",
       "      window._bokeh_onload_callbacks.push(callback);\n",
       "      if (window._bokeh_is_loading > 0) {\n",
       "        console.log(\"Bokeh: BokehJS is being loaded, scheduling callback at\", now());\n",
       "        return null;\n",
       "      }\n",
       "      if (js_urls == null || js_urls.length === 0) {\n",
       "        run_callbacks();\n",
       "        return null;\n",
       "      }\n",
       "      console.log(\"Bokeh: BokehJS not loaded, scheduling load and callback at\", now());\n",
       "      window._bokeh_is_loading = js_urls.length;\n",
       "      for (var i = 0; i < js_urls.length; i++) {\n",
       "        var url = js_urls[i];\n",
       "        var s = document.createElement('script');\n",
       "        s.src = url;\n",
       "        s.async = false;\n",
       "        s.onreadystatechange = s.onload = function() {\n",
       "          window._bokeh_is_loading--;\n",
       "          if (window._bokeh_is_loading === 0) {\n",
       "            console.log(\"Bokeh: all BokehJS libraries loaded\");\n",
       "            run_callbacks()\n",
       "          }\n",
       "        };\n",
       "        s.onerror = function() {\n",
       "          console.warn(\"failed to load library \" + url);\n",
       "        };\n",
       "        console.log(\"Bokeh: injecting script tag for BokehJS library: \", url);\n",
       "        document.getElementsByTagName(\"head\")[0].appendChild(s);\n",
       "      }\n",
       "    };var element = document.getElementById(\"795f71a7-f8f8-43fb-8522-514d67058138\");\n",
       "    if (element == null) {\n",
       "      console.log(\"Bokeh: ERROR: autoload.js configured with elementid '795f71a7-f8f8-43fb-8522-514d67058138' but no matching script tag was found. \")\n",
       "      return false;\n",
       "    }\n",
       "  \n",
       "    var js_urls = [];\n",
       "  \n",
       "    var inline_js = [\n",
       "      function(Bokeh) {\n",
       "        (function() {\n",
       "          var fn = function() {\n",
       "            var docs_json = {\"4a74fe8d-b1d3-4b6a-a29d-19a773d6a44f\":{\"roots\":{\"references\":[{\"attributes\":{},\"id\":\"b36eb9fb-5954-4319-827a-e3adb0eea283\",\"type\":\"BasicTicker\"},{\"attributes\":{\"data_source\":{\"id\":\"4d1ec4e3-491c-4862-b6ed-6edb472227b1\",\"type\":\"ColumnDataSource\"},\"glyph\":{\"id\":\"f660d5c9-5084-4f9b-a504-8141e6bbaa92\",\"type\":\"Circle\"},\"hover_glyph\":null,\"nonselection_glyph\":null,\"selection_glyph\":null},\"id\":\"1e1344b5-a5d0-4435-b0d6-7533498ae370\",\"type\":\"GlyphRenderer\"},{\"attributes\":{\"active_drag\":\"auto\",\"active_scroll\":\"auto\",\"active_tap\":\"auto\",\"tools\":[{\"id\":\"c580774b-ddd4-48a3-896b-5e27c561a91d\",\"type\":\"PanTool\"},{\"id\":\"d728a2a7-7807-44e2-b588-ad7f7309f220\",\"type\":\"WheelZoomTool\"},{\"id\":\"67d6b969-f7bd-4330-b8f8-84138c6d1557\",\"type\":\"BoxZoomTool\"},{\"id\":\"a9e1c294-5577-4867-b8f6-efcabe7f03e5\",\"type\":\"SaveTool\"},{\"id\":\"f3c241ba-4e25-4d67-aaed-2789884ff3ce\",\"type\":\"ResetTool\"},{\"id\":\"cee2b575-114f-48c7-8cfe-cbf4bb032695\",\"type\":\"HelpTool\"}]},\"id\":\"7394ae21-995c-4b57-87fe-b7cc7502d05b\",\"type\":\"Toolbar\"},{\"attributes\":{\"bottom_units\":\"screen\",\"fill_alpha\":{\"value\":0.5},\"fill_color\":{\"value\":\"lightgrey\"},\"left_units\":\"screen\",\"level\":\"overlay\",\"line_alpha\":{\"value\":1.0},\"line_color\":{\"value\":\"black\"},\"line_dash\":[4,4],\"line_width\":{\"value\":2},\"plot\":null,\"render_mode\":\"css\",\"right_units\":\"screen\",\"top_units\":\"screen\"},\"id\":\"9adb6ab5-56fc-4ba7-a3f9-0c3b4d982c66\",\"type\":\"BoxAnnotation\"},{\"attributes\":{\"axis_label\":\"x2\",\"formatter\":{\"id\":\"c1636745-7da1-4748-b254-f750b62fe862\",\"type\":\"BasicTickFormatter\"},\"plot\":{\"id\":\"52ae7961-0775-4d47-899e-323e84e6ba02\",\"subtype\":\"Chart\",\"type\":\"Plot\"},\"ticker\":{\"id\":\"b36eb9fb-5954-4319-827a-e3adb0eea283\",\"type\":\"BasicTicker\"}},\"id\":\"8ec3e109-dbb2-4818-be32-0ec42f309505\",\"type\":\"LinearAxis\"},{\"attributes\":{\"fill_alpha\":{\"value\":0.7},\"fill_color\":{\"value\":\"#f22c40\"},\"line_color\":{\"value\":\"#f22c40\"},\"size\":{\"units\":\"screen\",\"value\":8},\"x\":{\"field\":\"x_values\"},\"y\":{\"field\":\"y_values\"}},\"id\":\"f660d5c9-5084-4f9b-a504-8141e6bbaa92\",\"type\":\"Circle\"},{\"attributes\":{\"plot\":{\"id\":\"52ae7961-0775-4d47-899e-323e84e6ba02\",\"subtype\":\"Chart\",\"type\":\"Plot\"}},\"id\":\"c580774b-ddd4-48a3-896b-5e27c561a91d\",\"type\":\"PanTool\"},{\"attributes\":{\"callback\":null,\"end\":1.0896346101504701,\"start\":0.014019288344827727},\"id\":\"a426b79d-7366-4870-8ebb-7d5644c602ea\",\"type\":\"Range1d\"},{\"attributes\":{\"location\":\"top_left\",\"plot\":{\"id\":\"52ae7961-0775-4d47-899e-323e84e6ba02\",\"subtype\":\"Chart\",\"type\":\"Plot\"}},\"id\":\"61665e9d-f2a5-4ec8-87bf-ca50d2f926b8\",\"type\":\"Legend\"},{\"attributes\":{},\"id\":\"c1636745-7da1-4748-b254-f750b62fe862\",\"type\":\"BasicTickFormatter\"},{\"attributes\":{\"plot\":{\"id\":\"52ae7961-0775-4d47-899e-323e84e6ba02\",\"subtype\":\"Chart\",\"type\":\"Plot\"}},\"id\":\"d728a2a7-7807-44e2-b588-ad7f7309f220\",\"type\":\"WheelZoomTool\"},{\"attributes\":{\"plot\":{\"id\":\"52ae7961-0775-4d47-899e-323e84e6ba02\",\"subtype\":\"Chart\",\"type\":\"Plot\"}},\"id\":\"a9e1c294-5577-4867-b8f6-efcabe7f03e5\",\"type\":\"SaveTool\"},{\"attributes\":{\"overlay\":{\"id\":\"9adb6ab5-56fc-4ba7-a3f9-0c3b4d982c66\",\"type\":\"BoxAnnotation\"},\"plot\":{\"id\":\"52ae7961-0775-4d47-899e-323e84e6ba02\",\"subtype\":\"Chart\",\"type\":\"Plot\"}},\"id\":\"67d6b969-f7bd-4330-b8f8-84138c6d1557\",\"type\":\"BoxZoomTool\"},{\"attributes\":{\"plot\":{\"id\":\"52ae7961-0775-4d47-899e-323e84e6ba02\",\"subtype\":\"Chart\",\"type\":\"Plot\"}},\"id\":\"cee2b575-114f-48c7-8cfe-cbf4bb032695\",\"type\":\"HelpTool\"},{\"attributes\":{\"dimension\":1,\"plot\":{\"id\":\"52ae7961-0775-4d47-899e-323e84e6ba02\",\"subtype\":\"Chart\",\"type\":\"Plot\"},\"ticker\":{\"id\":\"b36eb9fb-5954-4319-827a-e3adb0eea283\",\"type\":\"BasicTicker\"}},\"id\":\"fcf6fe39-6a47-4044-9ce7-5a80e3b5f438\",\"type\":\"Grid\"},{\"attributes\":{\"below\":[{\"id\":\"0870285f-e0a3-4f5e-9512-adec0441065b\",\"type\":\"LinearAxis\"}],\"css_classes\":null,\"height\":500,\"left\":[{\"id\":\"8ec3e109-dbb2-4818-be32-0ec42f309505\",\"type\":\"LinearAxis\"}],\"renderers\":[{\"id\":\"9adb6ab5-56fc-4ba7-a3f9-0c3b4d982c66\",\"type\":\"BoxAnnotation\"},{\"id\":\"1e1344b5-a5d0-4435-b0d6-7533498ae370\",\"type\":\"GlyphRenderer\"},{\"id\":\"61665e9d-f2a5-4ec8-87bf-ca50d2f926b8\",\"type\":\"Legend\"},{\"id\":\"0870285f-e0a3-4f5e-9512-adec0441065b\",\"type\":\"LinearAxis\"},{\"id\":\"8ec3e109-dbb2-4818-be32-0ec42f309505\",\"type\":\"LinearAxis\"},{\"id\":\"015f9622-319f-49d3-9296-0becb3a81bdc\",\"type\":\"Grid\"},{\"id\":\"fcf6fe39-6a47-4044-9ce7-5a80e3b5f438\",\"type\":\"Grid\"}],\"title\":{\"id\":\"b2e250f7-fd65-421c-992c-987fbdff1453\",\"type\":\"Title\"},\"tool_events\":{\"id\":\"2afb6649-c4db-4bfc-9548-17d9e647bacb\",\"type\":\"ToolEvents\"},\"toolbar\":{\"id\":\"7394ae21-995c-4b57-87fe-b7cc7502d05b\",\"type\":\"Toolbar\"},\"width\":500,\"x_mapper_type\":\"auto\",\"x_range\":{\"id\":\"bf276b06-c51a-4b6d-80f5-e542686facde\",\"type\":\"Range1d\"},\"y_mapper_type\":\"auto\",\"y_range\":{\"id\":\"a426b79d-7366-4870-8ebb-7d5644c602ea\",\"type\":\"Range1d\"}},\"id\":\"52ae7961-0775-4d47-899e-323e84e6ba02\",\"subtype\":\"Chart\",\"type\":\"Plot\"},{\"attributes\":{},\"id\":\"d8771b1b-e19e-457b-9744-061ecbf09bad\",\"type\":\"BasicTicker\"},{\"attributes\":{\"plot\":{\"id\":\"52ae7961-0775-4d47-899e-323e84e6ba02\",\"subtype\":\"Chart\",\"type\":\"Plot\"}},\"id\":\"f3c241ba-4e25-4d67-aaed-2789884ff3ce\",\"type\":\"ResetTool\"},{\"attributes\":{\"axis_label\":\"x1\",\"formatter\":{\"id\":\"dabd78e4-f859-4da7-bb42-bba4892d6d41\",\"type\":\"BasicTickFormatter\"},\"plot\":{\"id\":\"52ae7961-0775-4d47-899e-323e84e6ba02\",\"subtype\":\"Chart\",\"type\":\"Plot\"},\"ticker\":{\"id\":\"d8771b1b-e19e-457b-9744-061ecbf09bad\",\"type\":\"BasicTicker\"}},\"id\":\"0870285f-e0a3-4f5e-9512-adec0441065b\",\"type\":\"LinearAxis\"},{\"attributes\":{},\"id\":\"2afb6649-c4db-4bfc-9548-17d9e647bacb\",\"type\":\"ToolEvents\"},{\"attributes\":{\"plot\":{\"id\":\"52ae7961-0775-4d47-899e-323e84e6ba02\",\"subtype\":\"Chart\",\"type\":\"Plot\"},\"ticker\":{\"id\":\"d8771b1b-e19e-457b-9744-061ecbf09bad\",\"type\":\"BasicTicker\"}},\"id\":\"015f9622-319f-49d3-9296-0becb3a81bdc\",\"type\":\"Grid\"},{\"attributes\":{\"plot\":null,\"text\":null},\"id\":\"b2e250f7-fd65-421c-992c-987fbdff1453\",\"type\":\"Title\"},{\"attributes\":{\"callback\":null,\"end\":1.0937357038043722,\"start\":-0.031092741848093686},\"id\":\"bf276b06-c51a-4b6d-80f5-e542686facde\",\"type\":\"Range1d\"},{\"attributes\":{},\"id\":\"dabd78e4-f859-4da7-bb42-bba4892d6d41\",\"type\":\"BasicTickFormatter\"},{\"attributes\":{\"callback\":null,\"column_names\":[\"x_values\",\"y_values\"],\"data\":{\"chart_index\":[null,null,null,null,null,null,null,null,null,null,null,null,null,null,null,null,null,null,null,null,null],\"x_values\":{\"__ndarray__\":\"XaY+YdtM3z9g0nLn2uDjP1Y/BSZjr7k/1yS0K8PW3D8nJsU5KvnWPyHv5TfdNNo/TjAZTYqh0T/+Qe2AXgmwPx5+XqxEWtE/KSSsh30X0j8uf1qqkrOxP37H5D6agsE/cO6kwCoM4z+cpKIpDnXQPymk9gRR5Ok/crXx3sGE7j/QYsyMG/PVPwAAAAAAAPA/ngwyIabP6z/E+Yai+mPkP05GrGQuV+g/\",\"dtype\":\"float64\",\"shape\":[21]},\"y_values\":{\"__ndarray__\":\"ZevrExeJyj/eYpnBg7XiPwWy9Gyml80/sOQj2A+Juj8stcStMnO9P6YUAzpoktw/BBkKCYfo5j/f9hvbnbbpP4dI2cmgfeo/tWUqOucE4D/xiivQbSbsP8d23gxyIec/yh+mlG1c6j+Eav2a8+blPwAAAAAAAPA/rEiQ+TqR5T/72wyT3RDqP6J4+4NHgek/MqgBfwRz5D+MT2qZUpLlPxGVJUeEXOw/\",\"dtype\":\"float64\",\"shape\":[21]}}},\"id\":\"4d1ec4e3-491c-4862-b6ed-6edb472227b1\",\"type\":\"ColumnDataSource\"}],\"root_ids\":[\"52ae7961-0775-4d47-899e-323e84e6ba02\"]},\"title\":\"Bokeh Application\",\"version\":\"0.12.4\"}};\n",
       "            var render_items = [{\"docid\":\"4a74fe8d-b1d3-4b6a-a29d-19a773d6a44f\",\"elementid\":\"795f71a7-f8f8-43fb-8522-514d67058138\",\"modelid\":\"52ae7961-0775-4d47-899e-323e84e6ba02\"}];\n",
       "            \n",
       "            Bokeh.embed.embed_items(docs_json, render_items);\n",
       "          };\n",
       "          if (document.readyState != \"loading\") fn();\n",
       "          else document.addEventListener(\"DOMContentLoaded\", fn);\n",
       "        })();\n",
       "      },\n",
       "      function(Bokeh) {\n",
       "      }\n",
       "    ];\n",
       "  \n",
       "    function run_inline_js() {\n",
       "      \n",
       "      if ((window.Bokeh !== undefined) || (force === true)) {\n",
       "        for (var i = 0; i < inline_js.length; i++) {\n",
       "          inline_js[i](window.Bokeh);\n",
       "        }if (force === true) {\n",
       "          display_loaded();\n",
       "        }} else if (Date.now() < window._bokeh_timeout) {\n",
       "        setTimeout(run_inline_js, 100);\n",
       "      } else if (!window._bokeh_failed_load) {\n",
       "        console.log(\"Bokeh: BokehJS failed to load within specified timeout.\");\n",
       "        window._bokeh_failed_load = true;\n",
       "      } else if (force !== true) {\n",
       "        var cell = $(document.getElementById(\"795f71a7-f8f8-43fb-8522-514d67058138\")).parents('.cell').data().cell;\n",
       "        cell.output_area.append_execute_result(NB_LOAD_WARNING)\n",
       "      }\n",
       "  \n",
       "    }\n",
       "  \n",
       "    if (window._bokeh_is_loading === 0) {\n",
       "      console.log(\"Bokeh: BokehJS loaded, going straight to plotting\");\n",
       "      run_inline_js();\n",
       "    } else {\n",
       "      load_libs(js_urls, function() {\n",
       "        console.log(\"Bokeh: BokehJS plotting callback run at\", now());\n",
       "        run_inline_js();\n",
       "      });\n",
       "    }\n",
       "  }(this));\n",
       "</script>"
      ]
     },
     "metadata": {},
     "output_type": "display_data"
    }
   ],
   "source": [
    "show(Scatter({'x1': x1, 'x2': x2}, x='x1', y='x2', width=500, height=500))"
   ]
  },
  {
   "cell_type": "markdown",
   "metadata": {
    "collapsed": true,
    "deletable": true,
    "editable": true,
    "slideshow": {
     "slide_type": "slide"
    }
   },
   "source": [
    "### Clustering a la `scikit-learn`"
   ]
  },
  {
   "cell_type": "markdown",
   "metadata": {
    "slideshow": {
     "slide_type": "subslide"
    }
   },
   "source": [
    "Assume we know a prioi how many clusters there are."
   ]
  },
  {
   "cell_type": "code",
   "execution_count": 88,
   "metadata": {
    "collapsed": false,
    "deletable": true,
    "editable": true,
    "slideshow": {
     "slide_type": "-"
    }
   },
   "outputs": [
    {
     "data": {
      "text/plain": [
       "KMeans(algorithm='auto', copy_x=True, init='k-means++', max_iter=300,\n",
       "    n_clusters=3, n_init=10, n_jobs=1, precompute_distances='auto',\n",
       "    random_state=None, tol=0.0001, verbose=0)"
      ]
     },
     "execution_count": 88,
     "metadata": {},
     "output_type": "execute_result"
    }
   ],
   "source": [
    "from sklearn.cluster import KMeans\n",
    "clust = KMeans(n_clusters=3)\n",
    "clust.fit(X)"
   ]
  },
  {
   "cell_type": "markdown",
   "metadata": {
    "slideshow": {
     "slide_type": "subslide"
    }
   },
   "source": [
    "The `KMeans` model has two outputs:\n",
    "\n",
    "* The center point of each cluster\n",
    "* Which cluster each point is assigned to"
   ]
  },
  {
   "cell_type": "code",
   "execution_count": 89,
   "metadata": {
    "collapsed": false,
    "deletable": true,
    "editable": true,
    "slideshow": {
     "slide_type": "-"
    }
   },
   "outputs": [
    {
     "data": {
      "text/plain": [
       "array([[ 0.78077553,  0.7598619 ],\n",
       "       [ 0.34852077,  0.2673711 ],\n",
       "       [ 0.20218775,  0.77839815]])"
      ]
     },
     "execution_count": 89,
     "metadata": {},
     "output_type": "execute_result"
    }
   ],
   "source": [
    "clust.cluster_centers_"
   ]
  },
  {
   "cell_type": "markdown",
   "metadata": {
    "deletable": true,
    "editable": true,
    "slideshow": {
     "slide_type": "subslide"
    }
   },
   "source": [
    "We need a function to easily plot clustering results."
   ]
  },
  {
   "cell_type": "code",
   "execution_count": 90,
   "metadata": {
    "collapsed": true,
    "deletable": true,
    "editable": true,
    "slideshow": {
     "slide_type": "-"
    }
   },
   "outputs": [],
   "source": [
    "def plot_clusters(clusters, cluster_centers):\n",
    "    plot = Scatter(\n",
    "        {'x1': x1, 'x2': x2, 'clusters': clusters},\n",
    "        x='x1', y='x2',\n",
    "        color='clusters', marker='clusters', \n",
    "        width=500, height=500\n",
    "    )\n",
    "\n",
    "    for x10, x20 in cluster_centers:\n",
    "        plot.circle(x10, x20, alpha=0.5, color='grey', size=15)\n",
    "\n",
    "    show(plot)"
   ]
  },
  {
   "cell_type": "markdown",
   "metadata": {
    "deletable": true,
    "editable": true,
    "slideshow": {
     "slide_type": "subslide"
    }
   },
   "source": [
    "How'd `scikit-learn` do?"
   ]
  },
  {
   "cell_type": "code",
   "execution_count": 91,
   "metadata": {
    "collapsed": false,
    "deletable": true,
    "editable": true,
    "slideshow": {
     "slide_type": "-"
    }
   },
   "outputs": [
    {
     "data": {
      "text/html": [
       "\n",
       "\n",
       "    <div class=\"bk-root\">\n",
       "        <div class=\"bk-plotdiv\" id=\"ef8bad6a-9925-42d3-9ea2-671172c13739\"></div>\n",
       "    </div>\n",
       "<script type=\"text/javascript\">\n",
       "  \n",
       "  (function(global) {\n",
       "    function now() {\n",
       "      return new Date();\n",
       "    }\n",
       "  \n",
       "    var force = false;\n",
       "  \n",
       "    if (typeof (window._bokeh_onload_callbacks) === \"undefined\" || force === true) {\n",
       "      window._bokeh_onload_callbacks = [];\n",
       "      window._bokeh_is_loading = undefined;\n",
       "    }\n",
       "  \n",
       "  \n",
       "    \n",
       "    if (typeof (window._bokeh_timeout) === \"undefined\" || force === true) {\n",
       "      window._bokeh_timeout = Date.now() + 0;\n",
       "      window._bokeh_failed_load = false;\n",
       "    }\n",
       "  \n",
       "    var NB_LOAD_WARNING = {'data': {'text/html':\n",
       "       \"<div style='background-color: #fdd'>\\n\"+\n",
       "       \"<p>\\n\"+\n",
       "       \"BokehJS does not appear to have successfully loaded. If loading BokehJS from CDN, this \\n\"+\n",
       "       \"may be due to a slow or bad network connection. Possible fixes:\\n\"+\n",
       "       \"</p>\\n\"+\n",
       "       \"<ul>\\n\"+\n",
       "       \"<li>re-rerun `output_notebook()` to attempt to load from CDN again, or</li>\\n\"+\n",
       "       \"<li>use INLINE resources instead, as so:</li>\\n\"+\n",
       "       \"</ul>\\n\"+\n",
       "       \"<code>\\n\"+\n",
       "       \"from bokeh.resources import INLINE\\n\"+\n",
       "       \"output_notebook(resources=INLINE)\\n\"+\n",
       "       \"</code>\\n\"+\n",
       "       \"</div>\"}};\n",
       "  \n",
       "    function display_loaded() {\n",
       "      if (window.Bokeh !== undefined) {\n",
       "        document.getElementById(\"ef8bad6a-9925-42d3-9ea2-671172c13739\").textContent = \"BokehJS successfully loaded.\";\n",
       "      } else if (Date.now() < window._bokeh_timeout) {\n",
       "        setTimeout(display_loaded, 100)\n",
       "      }\n",
       "    }\n",
       "  \n",
       "    function run_callbacks() {\n",
       "      window._bokeh_onload_callbacks.forEach(function(callback) { callback() });\n",
       "      delete window._bokeh_onload_callbacks\n",
       "      console.info(\"Bokeh: all callbacks have finished\");\n",
       "    }\n",
       "  \n",
       "    function load_libs(js_urls, callback) {\n",
       "      window._bokeh_onload_callbacks.push(callback);\n",
       "      if (window._bokeh_is_loading > 0) {\n",
       "        console.log(\"Bokeh: BokehJS is being loaded, scheduling callback at\", now());\n",
       "        return null;\n",
       "      }\n",
       "      if (js_urls == null || js_urls.length === 0) {\n",
       "        run_callbacks();\n",
       "        return null;\n",
       "      }\n",
       "      console.log(\"Bokeh: BokehJS not loaded, scheduling load and callback at\", now());\n",
       "      window._bokeh_is_loading = js_urls.length;\n",
       "      for (var i = 0; i < js_urls.length; i++) {\n",
       "        var url = js_urls[i];\n",
       "        var s = document.createElement('script');\n",
       "        s.src = url;\n",
       "        s.async = false;\n",
       "        s.onreadystatechange = s.onload = function() {\n",
       "          window._bokeh_is_loading--;\n",
       "          if (window._bokeh_is_loading === 0) {\n",
       "            console.log(\"Bokeh: all BokehJS libraries loaded\");\n",
       "            run_callbacks()\n",
       "          }\n",
       "        };\n",
       "        s.onerror = function() {\n",
       "          console.warn(\"failed to load library \" + url);\n",
       "        };\n",
       "        console.log(\"Bokeh: injecting script tag for BokehJS library: \", url);\n",
       "        document.getElementsByTagName(\"head\")[0].appendChild(s);\n",
       "      }\n",
       "    };var element = document.getElementById(\"ef8bad6a-9925-42d3-9ea2-671172c13739\");\n",
       "    if (element == null) {\n",
       "      console.log(\"Bokeh: ERROR: autoload.js configured with elementid 'ef8bad6a-9925-42d3-9ea2-671172c13739' but no matching script tag was found. \")\n",
       "      return false;\n",
       "    }\n",
       "  \n",
       "    var js_urls = [];\n",
       "  \n",
       "    var inline_js = [\n",
       "      function(Bokeh) {\n",
       "        (function() {\n",
       "          var fn = function() {\n",
       "            var docs_json = {\"9e6fab8d-aed2-4623-b6a7-f02e40ce2f27\":{\"roots\":{\"references\":[{\"attributes\":{\"fill_alpha\":{\"value\":0.7},\"fill_color\":{\"value\":\"#407ee7\"},\"line_color\":{\"value\":\"#407ee7\"},\"size\":{\"units\":\"screen\",\"value\":8},\"x\":{\"field\":\"x_values\"},\"y\":{\"field\":\"y_values\"}},\"id\":\"79fee6f4-e9f5-479c-a6f6-a17ba8f4142a\",\"type\":\"Triangle\"},{\"attributes\":{\"data_source\":{\"id\":\"b9f99d3b-61c3-4b0f-a78b-87eef9af39f5\",\"type\":\"ColumnDataSource\"},\"glyph\":{\"id\":\"48dc827c-f2d3-4f81-8f0b-50dede51a679\",\"type\":\"Circle\"},\"hover_glyph\":null,\"nonselection_glyph\":{\"id\":\"67a35801-4bd3-4858-b8a7-4a9f5c77b57c\",\"type\":\"Circle\"},\"selection_glyph\":null},\"id\":\"519ed105-5838-44de-b87a-ce1808bb2a80\",\"type\":\"GlyphRenderer\"},{\"attributes\":{\"dimension\":1,\"plot\":{\"id\":\"eb669d32-ce89-4b23-b3e5-6106492b5f03\",\"subtype\":\"Chart\",\"type\":\"Plot\"},\"ticker\":{\"id\":\"77a74a5a-d692-4890-96cd-c0b6880d6e67\",\"type\":\"BasicTicker\"}},\"id\":\"e04a096b-4d28-4ee8-b910-e604c55ba826\",\"type\":\"Grid\"},{\"attributes\":{\"callback\":null,\"column_names\":[\"x_values\",\"y_values\"],\"data\":{\"chart_index\":[{\"clusters\":0},{\"clusters\":0},{\"clusters\":0},{\"clusters\":0},{\"clusters\":0},{\"clusters\":0},{\"clusters\":0},{\"clusters\":0}],\"clusters\":[0,0,0,0,0,0,0,0],\"x_values\":{\"__ndarray__\":\"YNJy59rg4z9w7qTAKgzjPymk9gRR5Ok/crXx3sGE7j8AAAAAAADwP54MMiGmz+s/xPmGovpj5D9ORqxkLlfoPw==\",\"dtype\":\"float64\",\"shape\":[8]},\"y_values\":{\"__ndarray__\":\"3mKZwYO14j/KH6aUbVzqPwAAAAAAAPA/rEiQ+TqR5T+iePuDR4HpPzKoAX8Ec+Q/jE9qmVKS5T8RlSVHhFzsPw==\",\"dtype\":\"float64\",\"shape\":[8]}}},\"id\":\"bb94396c-ac2b-4e9f-b831-d2f8033b7826\",\"type\":\"ColumnDataSource\"},{\"attributes\":{\"callback\":null,\"end\":1.0896346101504701,\"start\":0.014019288344827727},\"id\":\"9445dad1-40e7-4740-ae23-2160c1317007\",\"type\":\"Range1d\"},{\"attributes\":{\"data_source\":{\"id\":\"60beae41-7634-42c1-a586-a2fe3e8d9e29\",\"type\":\"ColumnDataSource\"},\"glyph\":{\"id\":\"c75ba156-4004-4853-80c0-a98f9530fe6c\",\"type\":\"Circle\"},\"hover_glyph\":null,\"nonselection_glyph\":{\"id\":\"8134ea91-b141-494a-b3f0-5cec857b8d95\",\"type\":\"Circle\"},\"selection_glyph\":null},\"id\":\"6a55d2d6-5f02-40e6-a419-a00836500574\",\"type\":\"GlyphRenderer\"},{\"attributes\":{\"callback\":null},\"id\":\"b9f99d3b-61c3-4b0f-a78b-87eef9af39f5\",\"type\":\"ColumnDataSource\"},{\"attributes\":{\"callback\":null},\"id\":\"60beae41-7634-42c1-a586-a2fe3e8d9e29\",\"type\":\"ColumnDataSource\"},{\"attributes\":{\"data_source\":{\"id\":\"bb94396c-ac2b-4e9f-b831-d2f8033b7826\",\"type\":\"ColumnDataSource\"},\"glyph\":{\"id\":\"6cc601d5-e8ed-4e6c-9151-bbc97c5ff98c\",\"type\":\"Circle\"},\"hover_glyph\":null,\"nonselection_glyph\":null,\"selection_glyph\":null},\"id\":\"ad2eb48e-06dd-4623-b539-53d011b78ceb\",\"type\":\"GlyphRenderer\"},{\"attributes\":{\"label\":{\"value\":\"1\"},\"renderers\":[{\"id\":\"4e5f984e-a3d5-4d4a-9170-c4d1ac3a9f3a\",\"type\":\"GlyphRenderer\"}]},\"id\":\"c379ec91-bfdc-4e82-aa2b-771331a350bb\",\"type\":\"LegendItem\"},{\"attributes\":{\"fill_alpha\":{\"value\":0.7},\"fill_color\":{\"value\":\"#f22c40\"},\"line_color\":{\"value\":\"#f22c40\"},\"size\":{\"units\":\"screen\",\"value\":8},\"x\":{\"field\":\"x_values\"},\"y\":{\"field\":\"y_values\"}},\"id\":\"6cc601d5-e8ed-4e6c-9151-bbc97c5ff98c\",\"type\":\"Circle\"},{\"attributes\":{},\"id\":\"77a74a5a-d692-4890-96cd-c0b6880d6e67\",\"type\":\"BasicTicker\"},{\"attributes\":{\"data_source\":{\"id\":\"21105296-a49f-4de3-aa5b-6502065b2027\",\"type\":\"ColumnDataSource\"},\"glyph\":{\"id\":\"503e41bc-92ed-43e3-b3cc-ecd331a6da24\",\"type\":\"Square\"},\"hover_glyph\":null,\"nonselection_glyph\":null,\"selection_glyph\":null},\"id\":\"4e5f984e-a3d5-4d4a-9170-c4d1ac3a9f3a\",\"type\":\"GlyphRenderer\"},{\"attributes\":{\"below\":[{\"id\":\"3425fc40-d310-4191-929e-79bbd4bd57ce\",\"type\":\"LinearAxis\"}],\"css_classes\":null,\"height\":500,\"left\":[{\"id\":\"78c6a5c9-ca8c-4880-a334-66c500951902\",\"type\":\"LinearAxis\"}],\"renderers\":[{\"id\":\"0daafc56-f78a-4604-a1e7-19f45019529f\",\"type\":\"BoxAnnotation\"},{\"id\":\"4e5f984e-a3d5-4d4a-9170-c4d1ac3a9f3a\",\"type\":\"GlyphRenderer\"},{\"id\":\"ad2eb48e-06dd-4623-b539-53d011b78ceb\",\"type\":\"GlyphRenderer\"},{\"id\":\"f6b64199-eb3e-4d1d-97b3-81c184004a83\",\"type\":\"GlyphRenderer\"},{\"id\":\"6535e1af-3c9f-4ad8-9439-261fb9213c64\",\"type\":\"Legend\"},{\"id\":\"3425fc40-d310-4191-929e-79bbd4bd57ce\",\"type\":\"LinearAxis\"},{\"id\":\"78c6a5c9-ca8c-4880-a334-66c500951902\",\"type\":\"LinearAxis\"},{\"id\":\"2d3225da-6992-4198-9033-be3744e119a3\",\"type\":\"Grid\"},{\"id\":\"e04a096b-4d28-4ee8-b910-e604c55ba826\",\"type\":\"Grid\"},{\"id\":\"6a55d2d6-5f02-40e6-a419-a00836500574\",\"type\":\"GlyphRenderer\"},{\"id\":\"209f979c-126b-4811-8a11-1e9240af1704\",\"type\":\"GlyphRenderer\"},{\"id\":\"519ed105-5838-44de-b87a-ce1808bb2a80\",\"type\":\"GlyphRenderer\"}],\"title\":{\"id\":\"32df0d0b-7bd6-43f9-b0c1-93261bc99d39\",\"type\":\"Title\"},\"tool_events\":{\"id\":\"3cc85fb2-4101-4df6-9b67-5246b17e7b1a\",\"type\":\"ToolEvents\"},\"toolbar\":{\"id\":\"58469036-ed8c-41a4-88e2-b0b17eb56f43\",\"type\":\"Toolbar\"},\"width\":500,\"x_mapper_type\":\"auto\",\"x_range\":{\"id\":\"ecb30ed1-11fe-4063-b137-43efd8a05472\",\"type\":\"Range1d\"},\"y_mapper_type\":\"auto\",\"y_range\":{\"id\":\"9445dad1-40e7-4740-ae23-2160c1317007\",\"type\":\"Range1d\"}},\"id\":\"eb669d32-ce89-4b23-b3e5-6106492b5f03\",\"subtype\":\"Chart\",\"type\":\"Plot\"},{\"attributes\":{\"fill_alpha\":{\"value\":0.1},\"fill_color\":{\"value\":\"#1f77b4\"},\"line_alpha\":{\"value\":0.1},\"line_color\":{\"value\":\"#1f77b4\"},\"size\":{\"units\":\"screen\",\"value\":15},\"x\":{\"value\":0.7807755294246843},\"y\":{\"value\":0.7598618984600902}},\"id\":\"8134ea91-b141-494a-b3f0-5cec857b8d95\",\"type\":\"Circle\"},{\"attributes\":{\"axis_label\":\"x2\",\"formatter\":{\"id\":\"afa74465-628a-4966-b869-6c1ee592375a\",\"type\":\"BasicTickFormatter\"},\"plot\":{\"id\":\"eb669d32-ce89-4b23-b3e5-6106492b5f03\",\"subtype\":\"Chart\",\"type\":\"Plot\"},\"ticker\":{\"id\":\"77a74a5a-d692-4890-96cd-c0b6880d6e67\",\"type\":\"BasicTicker\"}},\"id\":\"78c6a5c9-ca8c-4880-a334-66c500951902\",\"type\":\"LinearAxis\"},{\"attributes\":{\"fill_alpha\":{\"value\":0.5},\"fill_color\":{\"value\":\"grey\"},\"line_alpha\":{\"value\":0.5},\"line_color\":{\"value\":\"grey\"},\"size\":{\"units\":\"screen\",\"value\":15},\"x\":{\"value\":0.3485207681535212},\"y\":{\"value\":0.2673711007242266}},\"id\":\"b7eaec02-8ddb-468f-b09b-1154aed15252\",\"type\":\"Circle\"},{\"attributes\":{\"label\":{\"value\":\"2\"},\"renderers\":[{\"id\":\"f6b64199-eb3e-4d1d-97b3-81c184004a83\",\"type\":\"GlyphRenderer\"}]},\"id\":\"f057f431-6d22-459d-8522-93f02bc2c3d8\",\"type\":\"LegendItem\"},{\"attributes\":{},\"id\":\"236d27a1-018d-4cd7-9487-e4f04cb7a426\",\"type\":\"BasicTickFormatter\"},{\"attributes\":{\"data_source\":{\"id\":\"683d91e7-ff94-4bf6-8388-428a45d7b777\",\"type\":\"ColumnDataSource\"},\"glyph\":{\"id\":\"79fee6f4-e9f5-479c-a6f6-a17ba8f4142a\",\"type\":\"Triangle\"},\"hover_glyph\":null,\"nonselection_glyph\":null,\"selection_glyph\":null},\"id\":\"f6b64199-eb3e-4d1d-97b3-81c184004a83\",\"type\":\"GlyphRenderer\"},{\"attributes\":{\"fill_alpha\":{\"value\":0.7},\"fill_color\":{\"value\":\"#5ab738\"},\"line_color\":{\"value\":\"#5ab738\"},\"size\":{\"units\":\"screen\",\"value\":8},\"x\":{\"field\":\"x_values\"},\"y\":{\"field\":\"y_values\"}},\"id\":\"503e41bc-92ed-43e3-b3cc-ecd331a6da24\",\"type\":\"Square\"},{\"attributes\":{\"fill_alpha\":{\"value\":0.1},\"fill_color\":{\"value\":\"#1f77b4\"},\"line_alpha\":{\"value\":0.1},\"line_color\":{\"value\":\"#1f77b4\"},\"size\":{\"units\":\"screen\",\"value\":15},\"x\":{\"value\":0.3485207681535212},\"y\":{\"value\":0.2673711007242266}},\"id\":\"d55bd44c-6eb6-416b-b250-e5faf54c5f7c\",\"type\":\"Circle\"},{\"attributes\":{\"plot\":null,\"text\":null},\"id\":\"32df0d0b-7bd6-43f9-b0c1-93261bc99d39\",\"type\":\"Title\"},{\"attributes\":{\"data_source\":{\"id\":\"c5717dde-5dcd-46f9-97ab-a2cdc9772593\",\"type\":\"ColumnDataSource\"},\"glyph\":{\"id\":\"b7eaec02-8ddb-468f-b09b-1154aed15252\",\"type\":\"Circle\"},\"hover_glyph\":null,\"nonselection_glyph\":{\"id\":\"d55bd44c-6eb6-416b-b250-e5faf54c5f7c\",\"type\":\"Circle\"},\"selection_glyph\":null},\"id\":\"209f979c-126b-4811-8a11-1e9240af1704\",\"type\":\"GlyphRenderer\"},{\"attributes\":{\"plot\":{\"id\":\"eb669d32-ce89-4b23-b3e5-6106492b5f03\",\"subtype\":\"Chart\",\"type\":\"Plot\"}},\"id\":\"cdadbac1-836c-4307-b362-31de218a13ba\",\"type\":\"PanTool\"},{\"attributes\":{\"axis_label\":\"x1\",\"formatter\":{\"id\":\"236d27a1-018d-4cd7-9487-e4f04cb7a426\",\"type\":\"BasicTickFormatter\"},\"plot\":{\"id\":\"eb669d32-ce89-4b23-b3e5-6106492b5f03\",\"subtype\":\"Chart\",\"type\":\"Plot\"},\"ticker\":{\"id\":\"5695a263-6734-4a1c-bd51-d17cafc4cd5d\",\"type\":\"BasicTicker\"}},\"id\":\"3425fc40-d310-4191-929e-79bbd4bd57ce\",\"type\":\"LinearAxis\"},{\"attributes\":{\"bottom_units\":\"screen\",\"fill_alpha\":{\"value\":0.5},\"fill_color\":{\"value\":\"lightgrey\"},\"left_units\":\"screen\",\"level\":\"overlay\",\"line_alpha\":{\"value\":1.0},\"line_color\":{\"value\":\"black\"},\"line_dash\":[4,4],\"line_width\":{\"value\":2},\"plot\":null,\"render_mode\":\"css\",\"right_units\":\"screen\",\"top_units\":\"screen\"},\"id\":\"0daafc56-f78a-4604-a1e7-19f45019529f\",\"type\":\"BoxAnnotation\"},{\"attributes\":{},\"id\":\"afa74465-628a-4966-b869-6c1ee592375a\",\"type\":\"BasicTickFormatter\"},{\"attributes\":{\"plot\":{\"id\":\"eb669d32-ce89-4b23-b3e5-6106492b5f03\",\"subtype\":\"Chart\",\"type\":\"Plot\"}},\"id\":\"a1aa211b-2a74-4f84-9e68-dd5735eb1f99\",\"type\":\"ResetTool\"},{\"attributes\":{\"plot\":{\"id\":\"eb669d32-ce89-4b23-b3e5-6106492b5f03\",\"subtype\":\"Chart\",\"type\":\"Plot\"}},\"id\":\"4f0dff47-2484-488c-8c51-0c51cbd328c4\",\"type\":\"WheelZoomTool\"},{\"attributes\":{\"label\":{\"value\":\"0\"},\"renderers\":[{\"id\":\"ad2eb48e-06dd-4623-b539-53d011b78ceb\",\"type\":\"GlyphRenderer\"}]},\"id\":\"76e1e65b-5995-46ba-8494-12143a7e7a44\",\"type\":\"LegendItem\"},{\"attributes\":{\"items\":[{\"id\":\"c379ec91-bfdc-4e82-aa2b-771331a350bb\",\"type\":\"LegendItem\"},{\"id\":\"76e1e65b-5995-46ba-8494-12143a7e7a44\",\"type\":\"LegendItem\"},{\"id\":\"f057f431-6d22-459d-8522-93f02bc2c3d8\",\"type\":\"LegendItem\"}],\"location\":\"top_left\",\"plot\":{\"id\":\"eb669d32-ce89-4b23-b3e5-6106492b5f03\",\"subtype\":\"Chart\",\"type\":\"Plot\"}},\"id\":\"6535e1af-3c9f-4ad8-9439-261fb9213c64\",\"type\":\"Legend\"},{\"attributes\":{\"plot\":{\"id\":\"eb669d32-ce89-4b23-b3e5-6106492b5f03\",\"subtype\":\"Chart\",\"type\":\"Plot\"},\"ticker\":{\"id\":\"5695a263-6734-4a1c-bd51-d17cafc4cd5d\",\"type\":\"BasicTicker\"}},\"id\":\"2d3225da-6992-4198-9033-be3744e119a3\",\"type\":\"Grid\"},{\"attributes\":{\"fill_alpha\":{\"value\":0.5},\"fill_color\":{\"value\":\"grey\"},\"line_alpha\":{\"value\":0.5},\"line_color\":{\"value\":\"grey\"},\"size\":{\"units\":\"screen\",\"value\":15},\"x\":{\"value\":0.20218774598732053},\"y\":{\"value\":0.7783981543238327}},\"id\":\"48dc827c-f2d3-4f81-8f0b-50dede51a679\",\"type\":\"Circle\"},{\"attributes\":{},\"id\":\"5695a263-6734-4a1c-bd51-d17cafc4cd5d\",\"type\":\"BasicTicker\"},{\"attributes\":{\"callback\":null,\"column_names\":[\"x_values\",\"y_values\"],\"data\":{\"chart_index\":[{\"clusters\":2},{\"clusters\":2},{\"clusters\":2},{\"clusters\":2},{\"clusters\":2},{\"clusters\":2},{\"clusters\":2}],\"clusters\":[2,2,2,2,2,2,2],\"x_values\":{\"__ndarray__\":\"TjAZTYqh0T/+Qe2AXgmwPx5+XqxEWtE/Ln9aqpKzsT9+x+Q+moLBP5ykoikOddA/0GLMjBvz1T8=\",\"dtype\":\"float64\",\"shape\":[7]},\"y_values\":{\"__ndarray__\":\"BBkKCYfo5j/f9hvbnbbpP4dI2cmgfeo/8Yor0G0m7D/Hdt4MciHnP4Rq/Zrz5uU/+9sMk90Q6j8=\",\"dtype\":\"float64\",\"shape\":[7]}}},\"id\":\"683d91e7-ff94-4bf6-8388-428a45d7b777\",\"type\":\"ColumnDataSource\"},{\"attributes\":{\"active_drag\":\"auto\",\"active_scroll\":\"auto\",\"active_tap\":\"auto\",\"tools\":[{\"id\":\"cdadbac1-836c-4307-b362-31de218a13ba\",\"type\":\"PanTool\"},{\"id\":\"4f0dff47-2484-488c-8c51-0c51cbd328c4\",\"type\":\"WheelZoomTool\"},{\"id\":\"1927ec10-45b5-412a-b69f-ee360dbd8a35\",\"type\":\"BoxZoomTool\"},{\"id\":\"53ae07d2-58d8-459b-a12c-3889558280b6\",\"type\":\"SaveTool\"},{\"id\":\"a1aa211b-2a74-4f84-9e68-dd5735eb1f99\",\"type\":\"ResetTool\"},{\"id\":\"ffc8f0cc-3f37-4f41-972c-39b8168482e4\",\"type\":\"HelpTool\"}]},\"id\":\"58469036-ed8c-41a4-88e2-b0b17eb56f43\",\"type\":\"Toolbar\"},{\"attributes\":{\"fill_alpha\":{\"value\":0.1},\"fill_color\":{\"value\":\"#1f77b4\"},\"line_alpha\":{\"value\":0.1},\"line_color\":{\"value\":\"#1f77b4\"},\"size\":{\"units\":\"screen\",\"value\":15},\"x\":{\"value\":0.20218774598732053},\"y\":{\"value\":0.7783981543238327}},\"id\":\"67a35801-4bd3-4858-b8a7-4a9f5c77b57c\",\"type\":\"Circle\"},{\"attributes\":{\"callback\":null,\"end\":1.0937357038043722,\"start\":-0.031092741848093686},\"id\":\"ecb30ed1-11fe-4063-b137-43efd8a05472\",\"type\":\"Range1d\"},{\"attributes\":{\"plot\":{\"id\":\"eb669d32-ce89-4b23-b3e5-6106492b5f03\",\"subtype\":\"Chart\",\"type\":\"Plot\"}},\"id\":\"ffc8f0cc-3f37-4f41-972c-39b8168482e4\",\"type\":\"HelpTool\"},{\"attributes\":{},\"id\":\"3cc85fb2-4101-4df6-9b67-5246b17e7b1a\",\"type\":\"ToolEvents\"},{\"attributes\":{\"callback\":null,\"column_names\":[\"x_values\",\"y_values\"],\"data\":{\"chart_index\":[{\"clusters\":1},{\"clusters\":1},{\"clusters\":1},{\"clusters\":1},{\"clusters\":1},{\"clusters\":1}],\"clusters\":[1,1,1,1,1,1],\"x_values\":{\"__ndarray__\":\"XaY+YdtM3z9WPwUmY6+5P9cktCvD1tw/JybFOSr51j8h7+U33TTaPykkrId9F9I/\",\"dtype\":\"float64\",\"shape\":[6]},\"y_values\":{\"__ndarray__\":\"ZevrExeJyj8FsvRsppfNP7DkI9gPibo/LLXErTJzvT+mFAM6aJLcP7VlKjrnBOA/\",\"dtype\":\"float64\",\"shape\":[6]}}},\"id\":\"21105296-a49f-4de3-aa5b-6502065b2027\",\"type\":\"ColumnDataSource\"},{\"attributes\":{\"fill_alpha\":{\"value\":0.5},\"fill_color\":{\"value\":\"grey\"},\"line_alpha\":{\"value\":0.5},\"line_color\":{\"value\":\"grey\"},\"size\":{\"units\":\"screen\",\"value\":15},\"x\":{\"value\":0.7807755294246843},\"y\":{\"value\":0.7598618984600902}},\"id\":\"c75ba156-4004-4853-80c0-a98f9530fe6c\",\"type\":\"Circle\"},{\"attributes\":{\"plot\":{\"id\":\"eb669d32-ce89-4b23-b3e5-6106492b5f03\",\"subtype\":\"Chart\",\"type\":\"Plot\"}},\"id\":\"53ae07d2-58d8-459b-a12c-3889558280b6\",\"type\":\"SaveTool\"},{\"attributes\":{\"callback\":null},\"id\":\"c5717dde-5dcd-46f9-97ab-a2cdc9772593\",\"type\":\"ColumnDataSource\"},{\"attributes\":{\"overlay\":{\"id\":\"0daafc56-f78a-4604-a1e7-19f45019529f\",\"type\":\"BoxAnnotation\"},\"plot\":{\"id\":\"eb669d32-ce89-4b23-b3e5-6106492b5f03\",\"subtype\":\"Chart\",\"type\":\"Plot\"}},\"id\":\"1927ec10-45b5-412a-b69f-ee360dbd8a35\",\"type\":\"BoxZoomTool\"}],\"root_ids\":[\"eb669d32-ce89-4b23-b3e5-6106492b5f03\"]},\"title\":\"Bokeh Application\",\"version\":\"0.12.4\"}};\n",
       "            var render_items = [{\"docid\":\"9e6fab8d-aed2-4623-b6a7-f02e40ce2f27\",\"elementid\":\"ef8bad6a-9925-42d3-9ea2-671172c13739\",\"modelid\":\"eb669d32-ce89-4b23-b3e5-6106492b5f03\"}];\n",
       "            \n",
       "            Bokeh.embed.embed_items(docs_json, render_items);\n",
       "          };\n",
       "          if (document.readyState != \"loading\") fn();\n",
       "          else document.addEventListener(\"DOMContentLoaded\", fn);\n",
       "        })();\n",
       "      },\n",
       "      function(Bokeh) {\n",
       "      }\n",
       "    ];\n",
       "  \n",
       "    function run_inline_js() {\n",
       "      \n",
       "      if ((window.Bokeh !== undefined) || (force === true)) {\n",
       "        for (var i = 0; i < inline_js.length; i++) {\n",
       "          inline_js[i](window.Bokeh);\n",
       "        }if (force === true) {\n",
       "          display_loaded();\n",
       "        }} else if (Date.now() < window._bokeh_timeout) {\n",
       "        setTimeout(run_inline_js, 100);\n",
       "      } else if (!window._bokeh_failed_load) {\n",
       "        console.log(\"Bokeh: BokehJS failed to load within specified timeout.\");\n",
       "        window._bokeh_failed_load = true;\n",
       "      } else if (force !== true) {\n",
       "        var cell = $(document.getElementById(\"ef8bad6a-9925-42d3-9ea2-671172c13739\")).parents('.cell').data().cell;\n",
       "        cell.output_area.append_execute_result(NB_LOAD_WARNING)\n",
       "      }\n",
       "  \n",
       "    }\n",
       "  \n",
       "    if (window._bokeh_is_loading === 0) {\n",
       "      console.log(\"Bokeh: BokehJS loaded, going straight to plotting\");\n",
       "      run_inline_js();\n",
       "    } else {\n",
       "      load_libs(js_urls, function() {\n",
       "        console.log(\"Bokeh: BokehJS plotting callback run at\", now());\n",
       "        run_inline_js();\n",
       "      });\n",
       "    }\n",
       "  }(this));\n",
       "</script>"
      ]
     },
     "metadata": {},
     "output_type": "display_data"
    }
   ],
   "source": [
    "plot_clusters(clust.predict(X), clust.cluster_centers_)"
   ]
  },
  {
   "cell_type": "markdown",
   "metadata": {
    "collapsed": true,
    "deletable": true,
    "editable": true,
    "slideshow": {
     "slide_type": "slide"
    }
   },
   "source": [
    "### Clustering a la Mixed Integer Linear Optimization"
   ]
  },
  {
   "cell_type": "markdown",
   "metadata": {
    "deletable": true,
    "editable": true,
    "slideshow": {
     "slide_type": "subslide"
    }
   },
   "source": [
    "Let's extend the linar optimization model support the concept of binary variables.\n",
    "\n",
    "$$\n",
    "\\begin{align}\n",
    "    \\text{min}  \\ \\ \\ & \\ c'x + d'y \\\\\n",
    "    \\text{s.t.} \\ \\ \\ & \\ A x + D y = b \\\\\n",
    "                      & \\ x \\ge 0 \\\\\n",
    "                      & \\ y \\in \\{0, 1\\}\n",
    "\\end{align}\n",
    "$$\n",
    "\n",
    "$y$ is a vector of variables which can only take values $0$ or $1$. These represent discrete decisions and allow logical relationships among them."
   ]
  },
  {
   "cell_type": "markdown",
   "metadata": {
    "deletable": true,
    "editable": true,
    "slideshow": {
     "slide_type": "fragment"
    }
   },
   "source": [
    "Discrete optimization is very powerful, but not well solved the way linear optimization is. Model solvability is highly dependent on formulation."
   ]
  },
  {
   "cell_type": "markdown",
   "metadata": {
    "deletable": true,
    "editable": true,
    "slideshow": {
     "slide_type": "subslide"
    }
   },
   "source": [
    "What's a clustering model look like with binary variables?\n",
    "\n",
    "#### Inputs:\n",
    "\n",
    "$$(x_{1i}, x_{2i}) = \\text{location of observed point} \\in [0, 1]\\ \\forall\\ i$$\n"
   ]
  },
  {
   "cell_type": "markdown",
   "metadata": {
    "deletable": true,
    "editable": true,
    "slideshow": {
     "slide_type": "fragment"
    }
   },
   "source": [
    "#### Model:\n",
    "\n",
    "We need to make two major types of decisions:\n",
    "\n",
    "* Where are the cluster centers, $\\{w_1, w_2, w_3\\}$?\n",
    "* Which cluster is each point assigned to? $v_{ij} = 1$ if point $i$ is part of cluster $j$, $0$ if not."
   ]
  },
  {
   "cell_type": "markdown",
   "metadata": {
    "slideshow": {
     "slide_type": "subslide"
    }
   },
   "source": [
    "We minimize total [taxicab distance](https://en.wikipedia.org/wiki/Taxicab_geometry) from each point to its assigned cluster\n",
    "\n",
    "* $d_{x_{1}i}$ is the distance from point $i$ to its cluster center along the $x_1$ axis\n",
    "* $d_{x_{2}i}$ is the distance from point $i$ to its cluster center along the $x_2$ axis\n",
    "\n",
    "$$\n",
    "\\begin{align}\n",
    "    \\text{min}  \\ \\ \\ & \\ \\sum_i (d_{x_{1}i} + d_{x_{2}i}) \\ & \\ \\\\\n",
    "    \\text{s.t.} \\ \\ \\ & \\ \\sum_j v_{ij} = 1 & \\ \\forall\\ i \\\\\n",
    "                      & \\ d_{x_{1}i} \\ge (x_{1i} - w_{j1}) - (1 - v_{ij}) & \\ \\forall\\ i, j \\\\\n",
    "                      & \\ d_{x_{1}i} \\ge (w_{j1} - x_{1i}) - (1 - v_{ij}) & \\ \\forall\\ i, j \\\\\n",
    "                      & \\ d_{x_{2}i} \\ge (x_{2i} - w_{j2}) - (1 - v_{ij}) & \\ \\forall\\ i, j \\\\\n",
    "                      & \\ d_{x_{2}i} \\ge (w_{j2} - x_{2i}) - (1 - v_{ij}) & \\ \\forall\\ i, j \\\\\n",
    "                      & \\ 0 \\le d_x \\le 1 \\\\\n",
    "                      & v_{ij} \\in \\{0, 1\\}\n",
    "\\end{align}\n",
    "$$"
   ]
  },
  {
   "cell_type": "markdown",
   "metadata": {
    "slideshow": {
     "slide_type": "subslide"
    }
   },
   "source": [
    "Primary decision variables = locations of cluster centers"
   ]
  },
  {
   "cell_type": "code",
   "execution_count": 93,
   "metadata": {
    "collapsed": false,
    "deletable": true,
    "editable": true,
    "slideshow": {
     "slide_type": "-"
    }
   },
   "outputs": [],
   "source": [
    "w = []\n",
    "for j in range(len(centers)):\n",
    "    x10 = pulp.LpVariable('x_10%d' % j, lowBound=0, upBound=1)\n",
    "    x20 = pulp.LpVariable('x_20%d' % j, lowBound=0, upBound=1)\n",
    "    w.append([x10, x20])"
   ]
  },
  {
   "cell_type": "markdown",
   "metadata": {
    "slideshow": {
     "slide_type": "subslide"
    }
   },
   "source": [
    "Secondary decision variables = do we associate point $i$ with cluster $j$?"
   ]
  },
  {
   "cell_type": "code",
   "execution_count": 94,
   "metadata": {
    "collapsed": false,
    "deletable": true,
    "editable": true,
    "slideshow": {
     "slide_type": "-"
    }
   },
   "outputs": [],
   "source": [
    "v = []\n",
    "for i in range(len(x1)):\n",
    "    vi = []\n",
    "    for j in range(len(w)):\n",
    "        vij = pulp.LpVariable('v_%d%d' % (i, j), cat=pulp.LpBinary)\n",
    "        vi.append(vij)\n",
    "    v.append(vi)"
   ]
  },
  {
   "cell_type": "markdown",
   "metadata": {
    "deletable": true,
    "editable": true,
    "slideshow": {
     "slide_type": "subslide"
    }
   },
   "source": [
    "Each point is associated with exactly one cluster."
   ]
  },
  {
   "cell_type": "code",
   "execution_count": 95,
   "metadata": {
    "collapsed": true,
    "deletable": true,
    "editable": true,
    "slideshow": {
     "slide_type": "-"
    }
   },
   "outputs": [],
   "source": [
    "m = pulp.LpProblem(sense=pulp.LpMinimize)\n",
    "for vi in v:\n",
    "    m += sum(vi) == 1"
   ]
  },
  {
   "cell_type": "markdown",
   "metadata": {
    "deletable": true,
    "editable": true,
    "slideshow": {
     "slide_type": "subslide"
    }
   },
   "source": [
    "Make a list of taxicab distance variables to guide the optimizer."
   ]
  },
  {
   "cell_type": "code",
   "execution_count": 96,
   "metadata": {
    "collapsed": false,
    "deletable": true,
    "editable": true,
    "slideshow": {
     "slide_type": "-"
    }
   },
   "outputs": [],
   "source": [
    "distances = []\n",
    "for i, (vi, x1i, x2i), in enumerate(zip(v, x1, x2)):\n",
    "    for j, (wj, vij) in enumerate(zip(w, vi)):\n",
    "        x10, x20 = wj\n",
    "        \n",
    "        dx1 = pulp.LpVariable('dx_1%d%d' % (i, j), lowBound=0, upBound=1)\n",
    "        dx2 = pulp.LpVariable('dx_2%d%d' % (i, j), lowBound=0, upBound=1)\n",
    "    \n",
    "        m += dx1 >= (x1i - x10) - (1 - vij)\n",
    "        m += dx1 >= (x10 - x1i) - (1 - vij)\n",
    "\n",
    "        m += dx2 >= (x2i - x20) - (1 - vij)\n",
    "        m += dx2 >= (x20 - x2i) - (1 - vij)\n",
    "        \n",
    "        distances.extend([dx1, dx2])"
   ]
  },
  {
   "cell_type": "markdown",
   "metadata": {
    "slideshow": {
     "slide_type": "subslide"
    }
   },
   "source": [
    "__WARNING WARNING WARNING__\n",
    "\n",
    "Symmetry elimination is beyond the scope of this talk.\n",
    "\n",
    "We don't technically need it to solve this model, but it sure can help."
   ]
  },
  {
   "cell_type": "code",
   "execution_count": 97,
   "metadata": {
    "collapsed": true,
    "deletable": true,
    "editable": true,
    "slideshow": {
     "slide_type": "-"
    }
   },
   "outputs": [],
   "source": [
    "for j, (x01_1, x02_1) in enumerate(w):\n",
    "    for x01_2, x02_2 in w[j+1:]:\n",
    "        m += x01_1 + x02_1 <= x01_2 + x02_2"
   ]
  },
  {
   "cell_type": "markdown",
   "metadata": {
    "deletable": true,
    "editable": true,
    "slideshow": {
     "slide_type": "subslide"
    }
   },
   "source": [
    "Total distance from points to their cluster centers is our objective function."
   ]
  },
  {
   "cell_type": "code",
   "execution_count": 98,
   "metadata": {
    "collapsed": false,
    "deletable": true,
    "editable": true,
    "slideshow": {
     "slide_type": "-"
    }
   },
   "outputs": [],
   "source": [
    "m.setObjective(sum(distances))\n",
    "assert m.solve() == pulp.LpStatusOptimal"
   ]
  },
  {
   "cell_type": "code",
   "execution_count": 99,
   "metadata": {
    "collapsed": false,
    "deletable": true,
    "editable": true,
    "slideshow": {
     "slide_type": "fragment"
    }
   },
   "outputs": [
    {
     "name": "stdout",
     "output_type": "stream",
     "text": [
      "[0.40947657, 0.20730866]\n",
      "[0.27113454, 0.80354207]\n",
      "[0.80912066, 0.67411165]\n"
     ]
    }
   ],
   "source": [
    "cluster_centers = []\n",
    "for wj in w:\n",
    "    cluster_centers.append([wj[0].value(), wj[1].value()])\n",
    "\n",
    "for c in cluster_centers:\n",
    "    print(c)"
   ]
  },
  {
   "cell_type": "markdown",
   "metadata": {
    "deletable": true,
    "editable": true,
    "slideshow": {
     "slide_type": "subslide"
    }
   },
   "source": [
    "There's no predict method, so we yank that information out of the $v_{ij}$ variables."
   ]
  },
  {
   "cell_type": "code",
   "execution_count": 100,
   "metadata": {
    "collapsed": false,
    "deletable": true,
    "editable": true,
    "slideshow": {
     "slide_type": "-"
    }
   },
   "outputs": [],
   "source": [
    "clusters = []\n",
    "for vi in v:\n",
    "    for c, vij in zip([0, 1, 2], vi):\n",
    "        if vij.value() > 0.5:\n",
    "            clusters.append(c)\n",
    "            break"
   ]
  },
  {
   "cell_type": "markdown",
   "metadata": {
    "slideshow": {
     "slide_type": "subslide"
    }
   },
   "source": [
    "How'd mixed integer optimization do?"
   ]
  },
  {
   "cell_type": "code",
   "execution_count": 101,
   "metadata": {
    "collapsed": false,
    "deletable": true,
    "editable": true,
    "slideshow": {
     "slide_type": "-"
    }
   },
   "outputs": [
    {
     "data": {
      "text/html": [
       "\n",
       "\n",
       "    <div class=\"bk-root\">\n",
       "        <div class=\"bk-plotdiv\" id=\"08a27920-c80b-41d4-a93b-b03fb32d654a\"></div>\n",
       "    </div>\n",
       "<script type=\"text/javascript\">\n",
       "  \n",
       "  (function(global) {\n",
       "    function now() {\n",
       "      return new Date();\n",
       "    }\n",
       "  \n",
       "    var force = false;\n",
       "  \n",
       "    if (typeof (window._bokeh_onload_callbacks) === \"undefined\" || force === true) {\n",
       "      window._bokeh_onload_callbacks = [];\n",
       "      window._bokeh_is_loading = undefined;\n",
       "    }\n",
       "  \n",
       "  \n",
       "    \n",
       "    if (typeof (window._bokeh_timeout) === \"undefined\" || force === true) {\n",
       "      window._bokeh_timeout = Date.now() + 0;\n",
       "      window._bokeh_failed_load = false;\n",
       "    }\n",
       "  \n",
       "    var NB_LOAD_WARNING = {'data': {'text/html':\n",
       "       \"<div style='background-color: #fdd'>\\n\"+\n",
       "       \"<p>\\n\"+\n",
       "       \"BokehJS does not appear to have successfully loaded. If loading BokehJS from CDN, this \\n\"+\n",
       "       \"may be due to a slow or bad network connection. Possible fixes:\\n\"+\n",
       "       \"</p>\\n\"+\n",
       "       \"<ul>\\n\"+\n",
       "       \"<li>re-rerun `output_notebook()` to attempt to load from CDN again, or</li>\\n\"+\n",
       "       \"<li>use INLINE resources instead, as so:</li>\\n\"+\n",
       "       \"</ul>\\n\"+\n",
       "       \"<code>\\n\"+\n",
       "       \"from bokeh.resources import INLINE\\n\"+\n",
       "       \"output_notebook(resources=INLINE)\\n\"+\n",
       "       \"</code>\\n\"+\n",
       "       \"</div>\"}};\n",
       "  \n",
       "    function display_loaded() {\n",
       "      if (window.Bokeh !== undefined) {\n",
       "        document.getElementById(\"08a27920-c80b-41d4-a93b-b03fb32d654a\").textContent = \"BokehJS successfully loaded.\";\n",
       "      } else if (Date.now() < window._bokeh_timeout) {\n",
       "        setTimeout(display_loaded, 100)\n",
       "      }\n",
       "    }\n",
       "  \n",
       "    function run_callbacks() {\n",
       "      window._bokeh_onload_callbacks.forEach(function(callback) { callback() });\n",
       "      delete window._bokeh_onload_callbacks\n",
       "      console.info(\"Bokeh: all callbacks have finished\");\n",
       "    }\n",
       "  \n",
       "    function load_libs(js_urls, callback) {\n",
       "      window._bokeh_onload_callbacks.push(callback);\n",
       "      if (window._bokeh_is_loading > 0) {\n",
       "        console.log(\"Bokeh: BokehJS is being loaded, scheduling callback at\", now());\n",
       "        return null;\n",
       "      }\n",
       "      if (js_urls == null || js_urls.length === 0) {\n",
       "        run_callbacks();\n",
       "        return null;\n",
       "      }\n",
       "      console.log(\"Bokeh: BokehJS not loaded, scheduling load and callback at\", now());\n",
       "      window._bokeh_is_loading = js_urls.length;\n",
       "      for (var i = 0; i < js_urls.length; i++) {\n",
       "        var url = js_urls[i];\n",
       "        var s = document.createElement('script');\n",
       "        s.src = url;\n",
       "        s.async = false;\n",
       "        s.onreadystatechange = s.onload = function() {\n",
       "          window._bokeh_is_loading--;\n",
       "          if (window._bokeh_is_loading === 0) {\n",
       "            console.log(\"Bokeh: all BokehJS libraries loaded\");\n",
       "            run_callbacks()\n",
       "          }\n",
       "        };\n",
       "        s.onerror = function() {\n",
       "          console.warn(\"failed to load library \" + url);\n",
       "        };\n",
       "        console.log(\"Bokeh: injecting script tag for BokehJS library: \", url);\n",
       "        document.getElementsByTagName(\"head\")[0].appendChild(s);\n",
       "      }\n",
       "    };var element = document.getElementById(\"08a27920-c80b-41d4-a93b-b03fb32d654a\");\n",
       "    if (element == null) {\n",
       "      console.log(\"Bokeh: ERROR: autoload.js configured with elementid '08a27920-c80b-41d4-a93b-b03fb32d654a' but no matching script tag was found. \")\n",
       "      return false;\n",
       "    }\n",
       "  \n",
       "    var js_urls = [];\n",
       "  \n",
       "    var inline_js = [\n",
       "      function(Bokeh) {\n",
       "        (function() {\n",
       "          var fn = function() {\n",
       "            var docs_json = {\"19f06e72-bf9f-48f8-bae0-a157f3f8165a\":{\"roots\":{\"references\":[{\"attributes\":{\"data_source\":{\"id\":\"a913efc6-23ea-4c50-8636-9b684d0bcac0\",\"type\":\"ColumnDataSource\"},\"glyph\":{\"id\":\"24d87fdc-355c-4fb8-8bed-4eb06224b63b\",\"type\":\"Square\"},\"hover_glyph\":null,\"nonselection_glyph\":null,\"selection_glyph\":null},\"id\":\"ffc3c4be-705c-4d0a-8e3a-834cb664bd17\",\"type\":\"GlyphRenderer\"},{\"attributes\":{\"data_source\":{\"id\":\"d6d4f76a-3b18-4d8c-a019-250c74319974\",\"type\":\"ColumnDataSource\"},\"glyph\":{\"id\":\"375a7e68-1bd9-4bfa-b6ee-86d042048273\",\"type\":\"Circle\"},\"hover_glyph\":null,\"nonselection_glyph\":{\"id\":\"7946a74e-fa58-4a0e-b4ec-8396c634267c\",\"type\":\"Circle\"},\"selection_glyph\":null},\"id\":\"119b8484-faf0-4d53-8402-9cf9a9f183cc\",\"type\":\"GlyphRenderer\"},{\"attributes\":{\"fill_alpha\":{\"value\":0.1},\"fill_color\":{\"value\":\"#1f77b4\"},\"line_alpha\":{\"value\":0.1},\"line_color\":{\"value\":\"#1f77b4\"},\"size\":{\"units\":\"screen\",\"value\":15},\"x\":{\"value\":0.40947657},\"y\":{\"value\":0.20730866}},\"id\":\"356f25f0-c40a-4e81-8fea-ad5a75ac2fec\",\"type\":\"Circle\"},{\"attributes\":{\"callback\":null},\"id\":\"752777af-c42f-416d-aba8-20161d3063e9\",\"type\":\"ColumnDataSource\"},{\"attributes\":{\"data_source\":{\"id\":\"940c06cc-52cd-4c2e-ac1c-7101a6432b1f\",\"type\":\"ColumnDataSource\"},\"glyph\":{\"id\":\"2dec8b28-7b36-424d-9414-fbb4dcbb230b\",\"type\":\"Circle\"},\"hover_glyph\":null,\"nonselection_glyph\":{\"id\":\"356f25f0-c40a-4e81-8fea-ad5a75ac2fec\",\"type\":\"Circle\"},\"selection_glyph\":null},\"id\":\"9e071801-d568-40f8-8290-97744e6bf9a7\",\"type\":\"GlyphRenderer\"},{\"attributes\":{\"data_source\":{\"id\":\"6abeec8d-d947-4a1d-b125-d4784b4873be\",\"type\":\"ColumnDataSource\"},\"glyph\":{\"id\":\"92c06406-f1b7-43c5-ab42-a3de138f9621\",\"type\":\"Circle\"},\"hover_glyph\":null,\"nonselection_glyph\":null,\"selection_glyph\":null},\"id\":\"6875b47b-2f02-4dde-80d1-d3a5cec13bc9\",\"type\":\"GlyphRenderer\"},{\"attributes\":{\"fill_alpha\":{\"value\":0.5},\"fill_color\":{\"value\":\"grey\"},\"line_alpha\":{\"value\":0.5},\"line_color\":{\"value\":\"grey\"},\"size\":{\"units\":\"screen\",\"value\":15},\"x\":{\"value\":0.80912066},\"y\":{\"value\":0.67411165}},\"id\":\"375a7e68-1bd9-4bfa-b6ee-86d042048273\",\"type\":\"Circle\"},{\"attributes\":{\"fill_alpha\":{\"value\":0.7},\"fill_color\":{\"value\":\"#5ab738\"},\"line_color\":{\"value\":\"#5ab738\"},\"size\":{\"units\":\"screen\",\"value\":8},\"x\":{\"field\":\"x_values\"},\"y\":{\"field\":\"y_values\"}},\"id\":\"24d87fdc-355c-4fb8-8bed-4eb06224b63b\",\"type\":\"Square\"},{\"attributes\":{\"fill_alpha\":{\"value\":0.1},\"fill_color\":{\"value\":\"#1f77b4\"},\"line_alpha\":{\"value\":0.1},\"line_color\":{\"value\":\"#1f77b4\"},\"size\":{\"units\":\"screen\",\"value\":15},\"x\":{\"value\":0.80912066},\"y\":{\"value\":0.67411165}},\"id\":\"7946a74e-fa58-4a0e-b4ec-8396c634267c\",\"type\":\"Circle\"},{\"attributes\":{\"fill_alpha\":{\"value\":0.5},\"fill_color\":{\"value\":\"grey\"},\"line_alpha\":{\"value\":0.5},\"line_color\":{\"value\":\"grey\"},\"size\":{\"units\":\"screen\",\"value\":15},\"x\":{\"value\":0.27113454},\"y\":{\"value\":0.80354207}},\"id\":\"8f950794-7917-4cd3-9683-a2b5f29ec777\",\"type\":\"Circle\"},{\"attributes\":{\"callback\":null,\"column_names\":[\"x_values\",\"y_values\"],\"data\":{\"chart_index\":[{\"clusters\":2},{\"clusters\":2},{\"clusters\":2},{\"clusters\":2},{\"clusters\":2},{\"clusters\":2},{\"clusters\":2}],\"clusters\":[2,2,2,2,2,2,2],\"x_values\":{\"__ndarray__\":\"YNJy59rg4z8ppPYEUeTpP3K18d7BhO4/AAAAAAAA8D+eDDIhps/rP8T5hqL6Y+Q/TkasZC5X6D8=\",\"dtype\":\"float64\",\"shape\":[7]},\"y_values\":{\"__ndarray__\":\"3mKZwYO14j8AAAAAAADwP6xIkPk6keU/onj7g0eB6T8yqAF/BHPkP4xPaplSkuU/EZUlR4Rc7D8=\",\"dtype\":\"float64\",\"shape\":[7]}}},\"id\":\"5ad5729e-1276-483a-bfaf-66da744af0e2\",\"type\":\"ColumnDataSource\"},{\"attributes\":{\"plot\":{\"id\":\"c513000c-f988-46b2-84d9-3b8f24c5afb7\",\"subtype\":\"Chart\",\"type\":\"Plot\"},\"ticker\":{\"id\":\"9ab85dc8-1a52-4de6-8a6d-aa50b1ad7c85\",\"type\":\"BasicTicker\"}},\"id\":\"c20d5427-0867-4e32-8802-cfad5de445b9\",\"type\":\"Grid\"},{\"attributes\":{\"data_source\":{\"id\":\"752777af-c42f-416d-aba8-20161d3063e9\",\"type\":\"ColumnDataSource\"},\"glyph\":{\"id\":\"8f950794-7917-4cd3-9683-a2b5f29ec777\",\"type\":\"Circle\"},\"hover_glyph\":null,\"nonselection_glyph\":{\"id\":\"d4c52142-6744-4899-b38d-db8cb3ceddb5\",\"type\":\"Circle\"},\"selection_glyph\":null},\"id\":\"18f790e9-9260-4d57-a46a-aa96b7ffe068\",\"type\":\"GlyphRenderer\"},{\"attributes\":{},\"id\":\"22c990ab-8059-4535-9fe9-3fb28efc55d5\",\"type\":\"BasicTickFormatter\"},{\"attributes\":{\"callback\":null,\"column_names\":[\"x_values\",\"y_values\"],\"data\":{\"chart_index\":[{\"clusters\":1},{\"clusters\":1},{\"clusters\":1},{\"clusters\":1},{\"clusters\":1},{\"clusters\":1},{\"clusters\":1},{\"clusters\":1},{\"clusters\":1}],\"clusters\":[1,1,1,1,1,1,1,1,1],\"x_values\":{\"__ndarray__\":\"TjAZTYqh0T/+Qe2AXgmwPx5+XqxEWtE/KSSsh30X0j8uf1qqkrOxP37H5D6agsE/cO6kwCoM4z+cpKIpDnXQP9BizIwb89U/\",\"dtype\":\"float64\",\"shape\":[9]},\"y_values\":{\"__ndarray__\":\"BBkKCYfo5j/f9hvbnbbpP4dI2cmgfeo/tWUqOucE4D/xiivQbSbsP8d23gxyIec/yh+mlG1c6j+Eav2a8+blP/vbDJPdEOo/\",\"dtype\":\"float64\",\"shape\":[9]}}},\"id\":\"a913efc6-23ea-4c50-8636-9b684d0bcac0\",\"type\":\"ColumnDataSource\"},{\"attributes\":{\"data_source\":{\"id\":\"5ad5729e-1276-483a-bfaf-66da744af0e2\",\"type\":\"ColumnDataSource\"},\"glyph\":{\"id\":\"b68477a7-720d-4cf9-bd8d-bc5e03ee414a\",\"type\":\"Triangle\"},\"hover_glyph\":null,\"nonselection_glyph\":null,\"selection_glyph\":null},\"id\":\"3193cd6f-edac-425e-842e-21e62a5a804f\",\"type\":\"GlyphRenderer\"},{\"attributes\":{\"callback\":null,\"end\":1.0937357038043722,\"start\":-0.031092741848093686},\"id\":\"062df5a3-bbf7-4f0a-b6ac-26bd9d77ab0a\",\"type\":\"Range1d\"},{\"attributes\":{\"label\":{\"value\":\"2\"},\"renderers\":[{\"id\":\"3193cd6f-edac-425e-842e-21e62a5a804f\",\"type\":\"GlyphRenderer\"}]},\"id\":\"33534fc8-e4da-4662-9b8d-f88da705bf22\",\"type\":\"LegendItem\"},{\"attributes\":{\"items\":[{\"id\":\"41e9c65a-9068-409e-b367-9cdea5436d1c\",\"type\":\"LegendItem\"},{\"id\":\"33534fc8-e4da-4662-9b8d-f88da705bf22\",\"type\":\"LegendItem\"},{\"id\":\"faf3b5a2-215f-4aa4-b81f-88360bda9df2\",\"type\":\"LegendItem\"}],\"location\":\"top_left\",\"plot\":{\"id\":\"c513000c-f988-46b2-84d9-3b8f24c5afb7\",\"subtype\":\"Chart\",\"type\":\"Plot\"}},\"id\":\"b3b23bc1-6bff-4c1d-b454-8e05a2a443f6\",\"type\":\"Legend\"},{\"attributes\":{},\"id\":\"4c1622c3-e92b-442c-988d-beef444889f3\",\"type\":\"ToolEvents\"},{\"attributes\":{\"callback\":null,\"end\":1.0896346101504701,\"start\":0.014019288344827727},\"id\":\"dd13ccdc-f023-4860-a04f-5edc6f11d1a1\",\"type\":\"Range1d\"},{\"attributes\":{\"plot\":{\"id\":\"c513000c-f988-46b2-84d9-3b8f24c5afb7\",\"subtype\":\"Chart\",\"type\":\"Plot\"}},\"id\":\"c9f37474-cd22-4c12-b695-ec84c7a7db11\",\"type\":\"WheelZoomTool\"},{\"attributes\":{\"overlay\":{\"id\":\"38308cd5-f0bc-414c-a1d8-6862294012f3\",\"type\":\"BoxAnnotation\"},\"plot\":{\"id\":\"c513000c-f988-46b2-84d9-3b8f24c5afb7\",\"subtype\":\"Chart\",\"type\":\"Plot\"}},\"id\":\"9c25e8e4-1fbe-44da-b946-b0e4dbfa2963\",\"type\":\"BoxZoomTool\"},{\"attributes\":{\"axis_label\":\"x2\",\"formatter\":{\"id\":\"22c990ab-8059-4535-9fe9-3fb28efc55d5\",\"type\":\"BasicTickFormatter\"},\"plot\":{\"id\":\"c513000c-f988-46b2-84d9-3b8f24c5afb7\",\"subtype\":\"Chart\",\"type\":\"Plot\"},\"ticker\":{\"id\":\"8c52dd8b-6b62-4269-96ac-b628a0f16dc0\",\"type\":\"BasicTicker\"}},\"id\":\"fab03b6b-2230-421b-bbea-b666f1d5396d\",\"type\":\"LinearAxis\"},{\"attributes\":{\"callback\":null,\"column_names\":[\"x_values\",\"y_values\"],\"data\":{\"chart_index\":[{\"clusters\":0},{\"clusters\":0},{\"clusters\":0},{\"clusters\":0},{\"clusters\":0}],\"clusters\":[0,0,0,0,0],\"x_values\":{\"__ndarray__\":\"XaY+YdtM3z9WPwUmY6+5P9cktCvD1tw/JybFOSr51j8h7+U33TTaPw==\",\"dtype\":\"float64\",\"shape\":[5]},\"y_values\":{\"__ndarray__\":\"ZevrExeJyj8FsvRsppfNP7DkI9gPibo/LLXErTJzvT+mFAM6aJLcPw==\",\"dtype\":\"float64\",\"shape\":[5]}}},\"id\":\"6abeec8d-d947-4a1d-b125-d4784b4873be\",\"type\":\"ColumnDataSource\"},{\"attributes\":{\"plot\":{\"id\":\"c513000c-f988-46b2-84d9-3b8f24c5afb7\",\"subtype\":\"Chart\",\"type\":\"Plot\"}},\"id\":\"671b0cb0-165d-4fff-9cee-7be2728fb713\",\"type\":\"HelpTool\"},{\"attributes\":{\"plot\":{\"id\":\"c513000c-f988-46b2-84d9-3b8f24c5afb7\",\"subtype\":\"Chart\",\"type\":\"Plot\"}},\"id\":\"2667ac8b-0aec-4456-adb5-876b73d3ddf7\",\"type\":\"PanTool\"},{\"attributes\":{\"active_drag\":\"auto\",\"active_scroll\":\"auto\",\"active_tap\":\"auto\",\"tools\":[{\"id\":\"2667ac8b-0aec-4456-adb5-876b73d3ddf7\",\"type\":\"PanTool\"},{\"id\":\"c9f37474-cd22-4c12-b695-ec84c7a7db11\",\"type\":\"WheelZoomTool\"},{\"id\":\"9c25e8e4-1fbe-44da-b946-b0e4dbfa2963\",\"type\":\"BoxZoomTool\"},{\"id\":\"7c369f5d-64a9-4093-a0ba-7fab190a93aa\",\"type\":\"SaveTool\"},{\"id\":\"d2de5e4d-4a02-4e5b-b854-2b4bd49b0cf0\",\"type\":\"ResetTool\"},{\"id\":\"671b0cb0-165d-4fff-9cee-7be2728fb713\",\"type\":\"HelpTool\"}]},\"id\":\"a493254c-12ee-403c-8a5d-f74eaca1655e\",\"type\":\"Toolbar\"},{\"attributes\":{\"plot\":null,\"text\":null},\"id\":\"d347e94a-36ee-42da-80d3-94c1a34ab5da\",\"type\":\"Title\"},{\"attributes\":{\"fill_alpha\":{\"value\":0.7},\"fill_color\":{\"value\":\"#407ee7\"},\"line_color\":{\"value\":\"#407ee7\"},\"size\":{\"units\":\"screen\",\"value\":8},\"x\":{\"field\":\"x_values\"},\"y\":{\"field\":\"y_values\"}},\"id\":\"b68477a7-720d-4cf9-bd8d-bc5e03ee414a\",\"type\":\"Triangle\"},{\"attributes\":{\"callback\":null},\"id\":\"d6d4f76a-3b18-4d8c-a019-250c74319974\",\"type\":\"ColumnDataSource\"},{\"attributes\":{},\"id\":\"4246bc33-f371-4f65-9813-bf1925022d11\",\"type\":\"BasicTickFormatter\"},{\"attributes\":{\"label\":{\"value\":\"0\"},\"renderers\":[{\"id\":\"6875b47b-2f02-4dde-80d1-d3a5cec13bc9\",\"type\":\"GlyphRenderer\"}]},\"id\":\"41e9c65a-9068-409e-b367-9cdea5436d1c\",\"type\":\"LegendItem\"},{\"attributes\":{},\"id\":\"9ab85dc8-1a52-4de6-8a6d-aa50b1ad7c85\",\"type\":\"BasicTicker\"},{\"attributes\":{\"bottom_units\":\"screen\",\"fill_alpha\":{\"value\":0.5},\"fill_color\":{\"value\":\"lightgrey\"},\"left_units\":\"screen\",\"level\":\"overlay\",\"line_alpha\":{\"value\":1.0},\"line_color\":{\"value\":\"black\"},\"line_dash\":[4,4],\"line_width\":{\"value\":2},\"plot\":null,\"render_mode\":\"css\",\"right_units\":\"screen\",\"top_units\":\"screen\"},\"id\":\"38308cd5-f0bc-414c-a1d8-6862294012f3\",\"type\":\"BoxAnnotation\"},{\"attributes\":{\"callback\":null},\"id\":\"940c06cc-52cd-4c2e-ac1c-7101a6432b1f\",\"type\":\"ColumnDataSource\"},{\"attributes\":{\"plot\":{\"id\":\"c513000c-f988-46b2-84d9-3b8f24c5afb7\",\"subtype\":\"Chart\",\"type\":\"Plot\"}},\"id\":\"d2de5e4d-4a02-4e5b-b854-2b4bd49b0cf0\",\"type\":\"ResetTool\"},{\"attributes\":{\"plot\":{\"id\":\"c513000c-f988-46b2-84d9-3b8f24c5afb7\",\"subtype\":\"Chart\",\"type\":\"Plot\"}},\"id\":\"7c369f5d-64a9-4093-a0ba-7fab190a93aa\",\"type\":\"SaveTool\"},{\"attributes\":{\"below\":[{\"id\":\"74de76f3-7e57-47a9-acc8-0feb21f67597\",\"type\":\"LinearAxis\"}],\"css_classes\":null,\"height\":500,\"left\":[{\"id\":\"fab03b6b-2230-421b-bbea-b666f1d5396d\",\"type\":\"LinearAxis\"}],\"renderers\":[{\"id\":\"38308cd5-f0bc-414c-a1d8-6862294012f3\",\"type\":\"BoxAnnotation\"},{\"id\":\"6875b47b-2f02-4dde-80d1-d3a5cec13bc9\",\"type\":\"GlyphRenderer\"},{\"id\":\"3193cd6f-edac-425e-842e-21e62a5a804f\",\"type\":\"GlyphRenderer\"},{\"id\":\"ffc3c4be-705c-4d0a-8e3a-834cb664bd17\",\"type\":\"GlyphRenderer\"},{\"id\":\"b3b23bc1-6bff-4c1d-b454-8e05a2a443f6\",\"type\":\"Legend\"},{\"id\":\"74de76f3-7e57-47a9-acc8-0feb21f67597\",\"type\":\"LinearAxis\"},{\"id\":\"fab03b6b-2230-421b-bbea-b666f1d5396d\",\"type\":\"LinearAxis\"},{\"id\":\"c20d5427-0867-4e32-8802-cfad5de445b9\",\"type\":\"Grid\"},{\"id\":\"e97ccf0a-cb54-4249-be33-ed5785467b74\",\"type\":\"Grid\"},{\"id\":\"9e071801-d568-40f8-8290-97744e6bf9a7\",\"type\":\"GlyphRenderer\"},{\"id\":\"18f790e9-9260-4d57-a46a-aa96b7ffe068\",\"type\":\"GlyphRenderer\"},{\"id\":\"119b8484-faf0-4d53-8402-9cf9a9f183cc\",\"type\":\"GlyphRenderer\"}],\"title\":{\"id\":\"d347e94a-36ee-42da-80d3-94c1a34ab5da\",\"type\":\"Title\"},\"tool_events\":{\"id\":\"4c1622c3-e92b-442c-988d-beef444889f3\",\"type\":\"ToolEvents\"},\"toolbar\":{\"id\":\"a493254c-12ee-403c-8a5d-f74eaca1655e\",\"type\":\"Toolbar\"},\"width\":500,\"x_mapper_type\":\"auto\",\"x_range\":{\"id\":\"062df5a3-bbf7-4f0a-b6ac-26bd9d77ab0a\",\"type\":\"Range1d\"},\"y_mapper_type\":\"auto\",\"y_range\":{\"id\":\"dd13ccdc-f023-4860-a04f-5edc6f11d1a1\",\"type\":\"Range1d\"}},\"id\":\"c513000c-f988-46b2-84d9-3b8f24c5afb7\",\"subtype\":\"Chart\",\"type\":\"Plot\"},{\"attributes\":{},\"id\":\"8c52dd8b-6b62-4269-96ac-b628a0f16dc0\",\"type\":\"BasicTicker\"},{\"attributes\":{\"dimension\":1,\"plot\":{\"id\":\"c513000c-f988-46b2-84d9-3b8f24c5afb7\",\"subtype\":\"Chart\",\"type\":\"Plot\"},\"ticker\":{\"id\":\"8c52dd8b-6b62-4269-96ac-b628a0f16dc0\",\"type\":\"BasicTicker\"}},\"id\":\"e97ccf0a-cb54-4249-be33-ed5785467b74\",\"type\":\"Grid\"},{\"attributes\":{\"axis_label\":\"x1\",\"formatter\":{\"id\":\"4246bc33-f371-4f65-9813-bf1925022d11\",\"type\":\"BasicTickFormatter\"},\"plot\":{\"id\":\"c513000c-f988-46b2-84d9-3b8f24c5afb7\",\"subtype\":\"Chart\",\"type\":\"Plot\"},\"ticker\":{\"id\":\"9ab85dc8-1a52-4de6-8a6d-aa50b1ad7c85\",\"type\":\"BasicTicker\"}},\"id\":\"74de76f3-7e57-47a9-acc8-0feb21f67597\",\"type\":\"LinearAxis\"},{\"attributes\":{\"label\":{\"value\":\"1\"},\"renderers\":[{\"id\":\"ffc3c4be-705c-4d0a-8e3a-834cb664bd17\",\"type\":\"GlyphRenderer\"}]},\"id\":\"faf3b5a2-215f-4aa4-b81f-88360bda9df2\",\"type\":\"LegendItem\"},{\"attributes\":{\"fill_alpha\":{\"value\":0.7},\"fill_color\":{\"value\":\"#f22c40\"},\"line_color\":{\"value\":\"#f22c40\"},\"size\":{\"units\":\"screen\",\"value\":8},\"x\":{\"field\":\"x_values\"},\"y\":{\"field\":\"y_values\"}},\"id\":\"92c06406-f1b7-43c5-ab42-a3de138f9621\",\"type\":\"Circle\"},{\"attributes\":{\"fill_alpha\":{\"value\":0.5},\"fill_color\":{\"value\":\"grey\"},\"line_alpha\":{\"value\":0.5},\"line_color\":{\"value\":\"grey\"},\"size\":{\"units\":\"screen\",\"value\":15},\"x\":{\"value\":0.40947657},\"y\":{\"value\":0.20730866}},\"id\":\"2dec8b28-7b36-424d-9414-fbb4dcbb230b\",\"type\":\"Circle\"},{\"attributes\":{\"fill_alpha\":{\"value\":0.1},\"fill_color\":{\"value\":\"#1f77b4\"},\"line_alpha\":{\"value\":0.1},\"line_color\":{\"value\":\"#1f77b4\"},\"size\":{\"units\":\"screen\",\"value\":15},\"x\":{\"value\":0.27113454},\"y\":{\"value\":0.80354207}},\"id\":\"d4c52142-6744-4899-b38d-db8cb3ceddb5\",\"type\":\"Circle\"}],\"root_ids\":[\"c513000c-f988-46b2-84d9-3b8f24c5afb7\"]},\"title\":\"Bokeh Application\",\"version\":\"0.12.4\"}};\n",
       "            var render_items = [{\"docid\":\"19f06e72-bf9f-48f8-bae0-a157f3f8165a\",\"elementid\":\"08a27920-c80b-41d4-a93b-b03fb32d654a\",\"modelid\":\"c513000c-f988-46b2-84d9-3b8f24c5afb7\"}];\n",
       "            \n",
       "            Bokeh.embed.embed_items(docs_json, render_items);\n",
       "          };\n",
       "          if (document.readyState != \"loading\") fn();\n",
       "          else document.addEventListener(\"DOMContentLoaded\", fn);\n",
       "        })();\n",
       "      },\n",
       "      function(Bokeh) {\n",
       "      }\n",
       "    ];\n",
       "  \n",
       "    function run_inline_js() {\n",
       "      \n",
       "      if ((window.Bokeh !== undefined) || (force === true)) {\n",
       "        for (var i = 0; i < inline_js.length; i++) {\n",
       "          inline_js[i](window.Bokeh);\n",
       "        }if (force === true) {\n",
       "          display_loaded();\n",
       "        }} else if (Date.now() < window._bokeh_timeout) {\n",
       "        setTimeout(run_inline_js, 100);\n",
       "      } else if (!window._bokeh_failed_load) {\n",
       "        console.log(\"Bokeh: BokehJS failed to load within specified timeout.\");\n",
       "        window._bokeh_failed_load = true;\n",
       "      } else if (force !== true) {\n",
       "        var cell = $(document.getElementById(\"08a27920-c80b-41d4-a93b-b03fb32d654a\")).parents('.cell').data().cell;\n",
       "        cell.output_area.append_execute_result(NB_LOAD_WARNING)\n",
       "      }\n",
       "  \n",
       "    }\n",
       "  \n",
       "    if (window._bokeh_is_loading === 0) {\n",
       "      console.log(\"Bokeh: BokehJS loaded, going straight to plotting\");\n",
       "      run_inline_js();\n",
       "    } else {\n",
       "      load_libs(js_urls, function() {\n",
       "        console.log(\"Bokeh: BokehJS plotting callback run at\", now());\n",
       "        run_inline_js();\n",
       "      });\n",
       "    }\n",
       "  }(this));\n",
       "</script>"
      ]
     },
     "metadata": {},
     "output_type": "display_data"
    }
   ],
   "source": [
    "plot_clusters(clusters, cluster_centers)"
   ]
  },
  {
   "cell_type": "markdown",
   "metadata": {
    "slideshow": {
     "slide_type": "subslide"
    }
   },
   "source": [
    "Hmmm. That model took a while to solve. What gives?\n",
    "\n",
    "* When we introduce discrete choices into models, we lose the characteristics that make them easy to solve.\n",
    "* This matter a _lot less_ now that it did in the 90s.\n",
    "* But effective formulation of discrete models is still _(may always be?)_ an art.\n",
    "\n",
    "Let's look at something more realistic."
   ]
  },
  {
   "cell_type": "markdown",
   "metadata": {
    "deletable": true,
    "editable": true,
    "slideshow": {
     "slide_type": "slide"
    }
   },
   "source": [
    "## Application 2: Pedicab Sharing\n",
    "\n",
    "Peuber is the Uber of pedicabs."
   ]
  },
  {
   "cell_type": "code",
   "execution_count": 102,
   "metadata": {
    "collapsed": true
   },
   "outputs": [],
   "source": [
    "pedicabs = range(7)\n",
    "customers = range(11)"
   ]
  },
  {
   "cell_type": "code",
   "execution_count": 103,
   "metadata": {
    "collapsed": false,
    "slideshow": {
     "slide_type": "subslide"
    }
   },
   "outputs": [],
   "source": [
    "rng = lambda: random.uniform(0, 100)\n",
    "\n",
    "pedicab_locations = [(rng(), rng()) for _ in pedicabs]\n",
    "pickup_locations = [(rng(), rng()) for _ in customers]\n",
    "dropoff_locations = [(rng(), rng()) for _ in customers]"
   ]
  },
  {
   "cell_type": "code",
   "execution_count": 104,
   "metadata": {
    "collapsed": true
   },
   "outputs": [],
   "source": [
    "from bokeh.models import Range1d\n",
    "\n",
    "def build_pedicabs_and_customers_plot():\n",
    "    all_points = pedicab_locations + pickup_locations + dropoff_locations\n",
    "    point_types = ['Pedicab'] * len(pedicabs) + ['Pickup'] * len(customers) + ['Dropoff'] * len(customers)\n",
    "\n",
    "    plot = Scatter(\n",
    "        {\n",
    "            'x': [l[0] for l in all_points],\n",
    "            'y': [l[1] for l in all_points],\n",
    "            'type': point_types\n",
    "        },\n",
    "        x='x', y='y',\n",
    "        color='type', marker='type',\n",
    "        width=600, height=600\n",
    "    )\n",
    "\n",
    "    plot.legend.orientation = \"horizontal\"\n",
    "    plot.x_range = plot.y_range = Range1d(-15, 115)\n",
    "\n",
    "    return plot"
   ]
  },
  {
   "cell_type": "code",
   "execution_count": 105,
   "metadata": {
    "collapsed": false
   },
   "outputs": [
    {
     "data": {
      "text/html": [
       "\n",
       "\n",
       "    <div class=\"bk-root\">\n",
       "        <div class=\"bk-plotdiv\" id=\"423dfd57-b9b0-4b47-b5c9-d3425688b31a\"></div>\n",
       "    </div>\n",
       "<script type=\"text/javascript\">\n",
       "  \n",
       "  (function(global) {\n",
       "    function now() {\n",
       "      return new Date();\n",
       "    }\n",
       "  \n",
       "    var force = false;\n",
       "  \n",
       "    if (typeof (window._bokeh_onload_callbacks) === \"undefined\" || force === true) {\n",
       "      window._bokeh_onload_callbacks = [];\n",
       "      window._bokeh_is_loading = undefined;\n",
       "    }\n",
       "  \n",
       "  \n",
       "    \n",
       "    if (typeof (window._bokeh_timeout) === \"undefined\" || force === true) {\n",
       "      window._bokeh_timeout = Date.now() + 0;\n",
       "      window._bokeh_failed_load = false;\n",
       "    }\n",
       "  \n",
       "    var NB_LOAD_WARNING = {'data': {'text/html':\n",
       "       \"<div style='background-color: #fdd'>\\n\"+\n",
       "       \"<p>\\n\"+\n",
       "       \"BokehJS does not appear to have successfully loaded. If loading BokehJS from CDN, this \\n\"+\n",
       "       \"may be due to a slow or bad network connection. Possible fixes:\\n\"+\n",
       "       \"</p>\\n\"+\n",
       "       \"<ul>\\n\"+\n",
       "       \"<li>re-rerun `output_notebook()` to attempt to load from CDN again, or</li>\\n\"+\n",
       "       \"<li>use INLINE resources instead, as so:</li>\\n\"+\n",
       "       \"</ul>\\n\"+\n",
       "       \"<code>\\n\"+\n",
       "       \"from bokeh.resources import INLINE\\n\"+\n",
       "       \"output_notebook(resources=INLINE)\\n\"+\n",
       "       \"</code>\\n\"+\n",
       "       \"</div>\"}};\n",
       "  \n",
       "    function display_loaded() {\n",
       "      if (window.Bokeh !== undefined) {\n",
       "        document.getElementById(\"423dfd57-b9b0-4b47-b5c9-d3425688b31a\").textContent = \"BokehJS successfully loaded.\";\n",
       "      } else if (Date.now() < window._bokeh_timeout) {\n",
       "        setTimeout(display_loaded, 100)\n",
       "      }\n",
       "    }\n",
       "  \n",
       "    function run_callbacks() {\n",
       "      window._bokeh_onload_callbacks.forEach(function(callback) { callback() });\n",
       "      delete window._bokeh_onload_callbacks\n",
       "      console.info(\"Bokeh: all callbacks have finished\");\n",
       "    }\n",
       "  \n",
       "    function load_libs(js_urls, callback) {\n",
       "      window._bokeh_onload_callbacks.push(callback);\n",
       "      if (window._bokeh_is_loading > 0) {\n",
       "        console.log(\"Bokeh: BokehJS is being loaded, scheduling callback at\", now());\n",
       "        return null;\n",
       "      }\n",
       "      if (js_urls == null || js_urls.length === 0) {\n",
       "        run_callbacks();\n",
       "        return null;\n",
       "      }\n",
       "      console.log(\"Bokeh: BokehJS not loaded, scheduling load and callback at\", now());\n",
       "      window._bokeh_is_loading = js_urls.length;\n",
       "      for (var i = 0; i < js_urls.length; i++) {\n",
       "        var url = js_urls[i];\n",
       "        var s = document.createElement('script');\n",
       "        s.src = url;\n",
       "        s.async = false;\n",
       "        s.onreadystatechange = s.onload = function() {\n",
       "          window._bokeh_is_loading--;\n",
       "          if (window._bokeh_is_loading === 0) {\n",
       "            console.log(\"Bokeh: all BokehJS libraries loaded\");\n",
       "            run_callbacks()\n",
       "          }\n",
       "        };\n",
       "        s.onerror = function() {\n",
       "          console.warn(\"failed to load library \" + url);\n",
       "        };\n",
       "        console.log(\"Bokeh: injecting script tag for BokehJS library: \", url);\n",
       "        document.getElementsByTagName(\"head\")[0].appendChild(s);\n",
       "      }\n",
       "    };var element = document.getElementById(\"423dfd57-b9b0-4b47-b5c9-d3425688b31a\");\n",
       "    if (element == null) {\n",
       "      console.log(\"Bokeh: ERROR: autoload.js configured with elementid '423dfd57-b9b0-4b47-b5c9-d3425688b31a' but no matching script tag was found. \")\n",
       "      return false;\n",
       "    }\n",
       "  \n",
       "    var js_urls = [];\n",
       "  \n",
       "    var inline_js = [\n",
       "      function(Bokeh) {\n",
       "        (function() {\n",
       "          var fn = function() {\n",
       "            var docs_json = {\"3059bdc6-3f87-4eb5-b28d-09bff8a55c7d\":{\"roots\":{\"references\":[{\"attributes\":{\"items\":[{\"id\":\"b3357606-d841-4f49-8edd-909229546976\",\"type\":\"LegendItem\"},{\"id\":\"925cd21f-2f22-4f82-a7bc-764b8aed425f\",\"type\":\"LegendItem\"},{\"id\":\"aa478cf7-840e-40f6-9bd8-89bdbd387672\",\"type\":\"LegendItem\"}],\"location\":\"top_left\",\"orientation\":\"horizontal\",\"plot\":{\"id\":\"5b06d1f7-65ba-4680-ac89-6aa676db181d\",\"subtype\":\"Chart\",\"type\":\"Plot\"}},\"id\":\"80cb39cf-4628-40c7-839b-c800a1c78069\",\"type\":\"Legend\"},{\"attributes\":{\"active_drag\":\"auto\",\"active_scroll\":\"auto\",\"active_tap\":\"auto\",\"tools\":[{\"id\":\"bc156de9-3398-4aa8-ac8b-788172a5edef\",\"type\":\"PanTool\"},{\"id\":\"64d577a6-2d44-4cdc-b61e-2d2c97c34d71\",\"type\":\"WheelZoomTool\"},{\"id\":\"2d366483-c0ca-4436-a7b5-160a04d94c9d\",\"type\":\"BoxZoomTool\"},{\"id\":\"bb2e1922-cedb-470f-9afa-6de9313499b9\",\"type\":\"SaveTool\"},{\"id\":\"7f2cecf4-4a60-4ade-a70a-e00475cb014b\",\"type\":\"ResetTool\"},{\"id\":\"7713d350-2b8e-4cfc-ba97-9d7044851f88\",\"type\":\"HelpTool\"}]},\"id\":\"c45aa0fb-81ae-4d5d-8142-7764b77cefef\",\"type\":\"Toolbar\"},{\"attributes\":{\"label\":{\"value\":\"Pedicab\"},\"renderers\":[{\"id\":\"3a7012ff-0c91-4260-9ba3-61914de3a874\",\"type\":\"GlyphRenderer\"}]},\"id\":\"b3357606-d841-4f49-8edd-909229546976\",\"type\":\"LegendItem\"},{\"attributes\":{\"plot\":{\"id\":\"5b06d1f7-65ba-4680-ac89-6aa676db181d\",\"subtype\":\"Chart\",\"type\":\"Plot\"}},\"id\":\"7f2cecf4-4a60-4ade-a70a-e00475cb014b\",\"type\":\"ResetTool\"},{\"attributes\":{},\"id\":\"4c5ba500-00df-48ea-b4ec-a17c7dcf0e0d\",\"type\":\"BasicTickFormatter\"},{\"attributes\":{\"plot\":{\"id\":\"5b06d1f7-65ba-4680-ac89-6aa676db181d\",\"subtype\":\"Chart\",\"type\":\"Plot\"}},\"id\":\"64d577a6-2d44-4cdc-b61e-2d2c97c34d71\",\"type\":\"WheelZoomTool\"},{\"attributes\":{\"axis_label\":\"y\",\"formatter\":{\"id\":\"4c5ba500-00df-48ea-b4ec-a17c7dcf0e0d\",\"type\":\"BasicTickFormatter\"},\"plot\":{\"id\":\"5b06d1f7-65ba-4680-ac89-6aa676db181d\",\"subtype\":\"Chart\",\"type\":\"Plot\"},\"ticker\":{\"id\":\"40a127ee-475f-46e3-a6f1-5b0c215797b0\",\"type\":\"BasicTicker\"}},\"id\":\"5570afc4-c430-4efd-af8e-d741d31fe8ce\",\"type\":\"LinearAxis\"},{\"attributes\":{\"overlay\":{\"id\":\"c1826580-e809-468f-9cdf-f08987cf4d17\",\"type\":\"BoxAnnotation\"},\"plot\":{\"id\":\"5b06d1f7-65ba-4680-ac89-6aa676db181d\",\"subtype\":\"Chart\",\"type\":\"Plot\"}},\"id\":\"2d366483-c0ca-4436-a7b5-160a04d94c9d\",\"type\":\"BoxZoomTool\"},{\"attributes\":{\"plot\":{\"id\":\"5b06d1f7-65ba-4680-ac89-6aa676db181d\",\"subtype\":\"Chart\",\"type\":\"Plot\"},\"ticker\":{\"id\":\"07711616-ae2c-44bf-8731-af3f82257d97\",\"type\":\"BasicTicker\"}},\"id\":\"843f9f8d-7abc-4779-b4cb-416047a8bb94\",\"type\":\"Grid\"},{\"attributes\":{},\"id\":\"bba67f63-ac68-4776-8d09-57983ef20cf6\",\"type\":\"ToolEvents\"},{\"attributes\":{\"data_source\":{\"id\":\"8b8afa12-ea1f-44d7-837d-27037935aa41\",\"type\":\"ColumnDataSource\"},\"glyph\":{\"id\":\"274f9de7-cb7f-47fd-a307-b97db9884829\",\"type\":\"Triangle\"},\"hover_glyph\":null,\"nonselection_glyph\":null,\"selection_glyph\":null},\"id\":\"ad3a019d-b26b-42ec-8af1-72c6d1cb844a\",\"type\":\"GlyphRenderer\"},{\"attributes\":{\"plot\":{\"id\":\"5b06d1f7-65ba-4680-ac89-6aa676db181d\",\"subtype\":\"Chart\",\"type\":\"Plot\"}},\"id\":\"7713d350-2b8e-4cfc-ba97-9d7044851f88\",\"type\":\"HelpTool\"},{\"attributes\":{\"callback\":null,\"column_names\":[\"x\",\"y\"],\"data\":{\"x\":[68.65165236206843,68.4427486334092],\"y\":[38.6526214012872,62.588358933103414]}},\"id\":\"5927cf4e-e21c-4e73-9957-2c0aef70497a\",\"type\":\"ColumnDataSource\"},{\"attributes\":{\"below\":[{\"id\":\"3e207f23-199c-4ed3-86d7-ac866f343446\",\"type\":\"LinearAxis\"}],\"css_classes\":null,\"height\":600,\"left\":[{\"id\":\"5570afc4-c430-4efd-af8e-d741d31fe8ce\",\"type\":\"LinearAxis\"}],\"renderers\":[{\"id\":\"c1826580-e809-468f-9cdf-f08987cf4d17\",\"type\":\"BoxAnnotation\"},{\"id\":\"3a7012ff-0c91-4260-9ba3-61914de3a874\",\"type\":\"GlyphRenderer\"},{\"id\":\"ad3a019d-b26b-42ec-8af1-72c6d1cb844a\",\"type\":\"GlyphRenderer\"},{\"id\":\"e3471b8d-8efa-4213-aa85-7efd3a12b20f\",\"type\":\"GlyphRenderer\"},{\"id\":\"80cb39cf-4628-40c7-839b-c800a1c78069\",\"type\":\"Legend\"},{\"id\":\"3e207f23-199c-4ed3-86d7-ac866f343446\",\"type\":\"LinearAxis\"},{\"id\":\"5570afc4-c430-4efd-af8e-d741d31fe8ce\",\"type\":\"LinearAxis\"},{\"id\":\"843f9f8d-7abc-4779-b4cb-416047a8bb94\",\"type\":\"Grid\"},{\"id\":\"ca106f46-6f0a-4caf-aa44-33782f045276\",\"type\":\"Grid\"},{\"id\":\"62c31e62-790c-4e7b-893e-5ea07bca87e7\",\"type\":\"GlyphRenderer\"},{\"id\":\"cbc95e99-529c-472c-80c3-55ae688a4e27\",\"type\":\"GlyphRenderer\"},{\"id\":\"69477d14-edc7-4247-b11d-d442080408ed\",\"type\":\"GlyphRenderer\"},{\"id\":\"562aa55d-a12c-4b5a-9ef8-e8e785892625\",\"type\":\"GlyphRenderer\"},{\"id\":\"3affc227-ba17-41d8-91c5-cf83b25ac8f4\",\"type\":\"GlyphRenderer\"},{\"id\":\"7cb06fe5-7aac-44e2-afa6-d685758cc9c0\",\"type\":\"GlyphRenderer\"},{\"id\":\"54d95e42-cb67-46e0-8486-d5b8484e7c3a\",\"type\":\"GlyphRenderer\"},{\"id\":\"1d8faa6f-49ef-41e7-89ed-a10c80180c74\",\"type\":\"GlyphRenderer\"},{\"id\":\"97aeeb8c-a828-4bee-9c69-ee6ad66f7aa2\",\"type\":\"GlyphRenderer\"},{\"id\":\"8f96633d-4176-4af9-bf17-5a60ac7a4d82\",\"type\":\"GlyphRenderer\"},{\"id\":\"d785bdfb-c860-47df-89a0-259419c959d8\",\"type\":\"GlyphRenderer\"}],\"title\":{\"id\":\"5f944064-ef0f-459a-b45d-f9cb4d191daa\",\"type\":\"Title\"},\"tool_events\":{\"id\":\"bba67f63-ac68-4776-8d09-57983ef20cf6\",\"type\":\"ToolEvents\"},\"toolbar\":{\"id\":\"c45aa0fb-81ae-4d5d-8142-7764b77cefef\",\"type\":\"Toolbar\"},\"width\":600,\"x_mapper_type\":\"auto\",\"x_range\":{\"id\":\"8be1ba55-1f5c-431b-9726-dae79ed73f4b\",\"type\":\"Range1d\"},\"y_mapper_type\":\"auto\",\"y_range\":{\"id\":\"8be1ba55-1f5c-431b-9726-dae79ed73f4b\",\"type\":\"Range1d\"}},\"id\":\"5b06d1f7-65ba-4680-ac89-6aa676db181d\",\"subtype\":\"Chart\",\"type\":\"Plot\"},{\"attributes\":{\"fill_alpha\":{\"value\":0.7},\"fill_color\":{\"value\":\"#f22c40\"},\"line_color\":{\"value\":\"#f22c40\"},\"size\":{\"units\":\"screen\",\"value\":8},\"x\":{\"field\":\"x_values\"},\"y\":{\"field\":\"y_values\"}},\"id\":\"ff51afde-932c-465b-aa89-99e3ede135a2\",\"type\":\"Circle\"},{\"attributes\":{\"label\":{\"value\":\"Pickup\"},\"renderers\":[{\"id\":\"ad3a019d-b26b-42ec-8af1-72c6d1cb844a\",\"type\":\"GlyphRenderer\"}]},\"id\":\"925cd21f-2f22-4f82-a7bc-764b8aed425f\",\"type\":\"LegendItem\"},{\"attributes\":{\"plot\":null,\"text\":null},\"id\":\"5f944064-ef0f-459a-b45d-f9cb4d191daa\",\"type\":\"Title\"},{\"attributes\":{\"line_alpha\":{\"value\":0.5},\"line_color\":{\"value\":\"grey\"},\"line_dash\":[6],\"x\":{\"field\":\"x\"},\"y\":{\"field\":\"y\"}},\"id\":\"3962c471-23fd-45c5-914c-29a7df02dcd2\",\"type\":\"Line\"},{\"attributes\":{},\"id\":\"07711616-ae2c-44bf-8731-af3f82257d97\",\"type\":\"BasicTicker\"},{\"attributes\":{\"plot\":{\"id\":\"5b06d1f7-65ba-4680-ac89-6aa676db181d\",\"subtype\":\"Chart\",\"type\":\"Plot\"}},\"id\":\"bb2e1922-cedb-470f-9afa-6de9313499b9\",\"type\":\"SaveTool\"},{\"attributes\":{\"data_source\":{\"id\":\"510aa057-fdd1-4c4a-b514-ea04ca79ebc2\",\"type\":\"ColumnDataSource\"},\"glyph\":{\"id\":\"5dd4fe5a-15d2-4583-9247-710dcbc1de35\",\"type\":\"Line\"},\"hover_glyph\":null,\"nonselection_glyph\":{\"id\":\"5fc2be14-a66a-4409-9708-f2d6fc2d1fad\",\"type\":\"Line\"},\"selection_glyph\":null},\"id\":\"54d95e42-cb67-46e0-8486-d5b8484e7c3a\",\"type\":\"GlyphRenderer\"},{\"attributes\":{\"bottom_units\":\"screen\",\"fill_alpha\":{\"value\":0.5},\"fill_color\":{\"value\":\"lightgrey\"},\"left_units\":\"screen\",\"level\":\"overlay\",\"line_alpha\":{\"value\":1.0},\"line_color\":{\"value\":\"black\"},\"line_dash\":[4,4],\"line_width\":{\"value\":2},\"plot\":null,\"render_mode\":\"css\",\"right_units\":\"screen\",\"top_units\":\"screen\"},\"id\":\"c1826580-e809-468f-9cdf-f08987cf4d17\",\"type\":\"BoxAnnotation\"},{\"attributes\":{\"callback\":null,\"end\":115,\"start\":-15},\"id\":\"8be1ba55-1f5c-431b-9726-dae79ed73f4b\",\"type\":\"Range1d\"},{\"attributes\":{\"line_alpha\":{\"value\":0.5},\"line_color\":{\"value\":\"grey\"},\"line_dash\":[6],\"x\":{\"field\":\"x\"},\"y\":{\"field\":\"y\"}},\"id\":\"430dffea-8962-4edf-ae3c-4c12aa880273\",\"type\":\"Line\"},{\"attributes\":{\"data_source\":{\"id\":\"3fb6c34e-4177-4347-86e6-a9ff559860d9\",\"type\":\"ColumnDataSource\"},\"glyph\":{\"id\":\"e7f28e28-7b29-4727-8246-f918763d1db6\",\"type\":\"Line\"},\"hover_glyph\":null,\"nonselection_glyph\":{\"id\":\"8e04056c-bfd4-46ef-b34d-14ff096716b2\",\"type\":\"Line\"},\"selection_glyph\":null},\"id\":\"7cb06fe5-7aac-44e2-afa6-d685758cc9c0\",\"type\":\"GlyphRenderer\"},{\"attributes\":{\"plot\":{\"id\":\"5b06d1f7-65ba-4680-ac89-6aa676db181d\",\"subtype\":\"Chart\",\"type\":\"Plot\"}},\"id\":\"bc156de9-3398-4aa8-ac8b-788172a5edef\",\"type\":\"PanTool\"},{\"attributes\":{\"callback\":null,\"column_names\":[\"x\",\"y\"],\"data\":{\"x\":[28.704803455833115,9.77278108829861],\"y\":[83.23269822658048,62.7105132818115]}},\"id\":\"510aa057-fdd1-4c4a-b514-ea04ca79ebc2\",\"type\":\"ColumnDataSource\"},{\"attributes\":{\"callback\":null,\"column_names\":[\"x\",\"y\"],\"data\":{\"x\":[31.549619406524787,25.334695798500316],\"y\":[11.659373624266467,70.2965898218795]}},\"id\":\"8eda78cb-f31a-4ddb-9928-a9fc9f78f1ff\",\"type\":\"ColumnDataSource\"},{\"attributes\":{\"label\":{\"value\":\"Dropoff\"},\"renderers\":[{\"id\":\"e3471b8d-8efa-4213-aa85-7efd3a12b20f\",\"type\":\"GlyphRenderer\"}]},\"id\":\"aa478cf7-840e-40f6-9bd8-89bdbd387672\",\"type\":\"LegendItem\"},{\"attributes\":{\"line_alpha\":{\"value\":0.1},\"line_color\":{\"value\":\"#1f77b4\"},\"line_dash\":[6],\"x\":{\"field\":\"x\"},\"y\":{\"field\":\"y\"}},\"id\":\"ee341315-5043-47a3-ba69-5a1dbe05ab29\",\"type\":\"Line\"},{\"attributes\":{\"data_source\":{\"id\":\"4da86fc0-c80c-4430-b51e-c9c9f3341df3\",\"type\":\"ColumnDataSource\"},\"glyph\":{\"id\":\"cee6d037-196e-41f9-9cb9-8675960aa0ec\",\"type\":\"Square\"},\"hover_glyph\":null,\"nonselection_glyph\":null,\"selection_glyph\":null},\"id\":\"3a7012ff-0c91-4260-9ba3-61914de3a874\",\"type\":\"GlyphRenderer\"},{\"attributes\":{\"dimension\":1,\"plot\":{\"id\":\"5b06d1f7-65ba-4680-ac89-6aa676db181d\",\"subtype\":\"Chart\",\"type\":\"Plot\"},\"ticker\":{\"id\":\"40a127ee-475f-46e3-a6f1-5b0c215797b0\",\"type\":\"BasicTicker\"}},\"id\":\"ca106f46-6f0a-4caf-aa44-33782f045276\",\"type\":\"Grid\"},{\"attributes\":{\"callback\":null,\"column_names\":[\"x_values\",\"y_values\"],\"data\":{\"chart_index\":[{\"type\":\"Pickup\"},{\"type\":\"Pickup\"},{\"type\":\"Pickup\"},{\"type\":\"Pickup\"},{\"type\":\"Pickup\"},{\"type\":\"Pickup\"},{\"type\":\"Pickup\"},{\"type\":\"Pickup\"},{\"type\":\"Pickup\"},{\"type\":\"Pickup\"},{\"type\":\"Pickup\"}],\"type\":[\"Pickup\",\"Pickup\",\"Pickup\",\"Pickup\",\"Pickup\",\"Pickup\",\"Pickup\",\"Pickup\",\"Pickup\",\"Pickup\",\"Pickup\"],\"x_values\":{\"__ndarray__\":\"TGTH9ryaUkB83BustClRQK61P8R2HD5A4APBFHlsQkCV+rPIXwQ+QHt/4F2pNVVAOOnQ/220PEBZRYDbs4w/QIwarZMHuEdAMnQUtePBOEBf66Ed9SZCQA==\",\"dtype\":\"float64\",\"shape\":[11]},\"y_values\":{\"__ndarray__\":\"ulLmpA4vR0BfmRsZiVNDQP4SnwNqqTtAalXfXGMwVED2x0AzKhtPQOBUQuK1eFZABkAah+TOVECRI3BrmVEnQMM/2h+1vUxAWay7f9lkIkBQMBKh02RUQA==\",\"dtype\":\"float64\",\"shape\":[11]}}},\"id\":\"8b8afa12-ea1f-44d7-837d-27037935aa41\",\"type\":\"ColumnDataSource\"},{\"attributes\":{\"callback\":null,\"column_names\":[\"x\",\"y\"],\"data\":{\"x\":[36.30435533910963,64.63482803629847],\"y\":[81.57541682029955,11.16555885149909]}},\"id\":\"c407c676-dc16-484f-96de-491d386be5b9\",\"type\":\"ColumnDataSource\"},{\"attributes\":{\"line_alpha\":{\"value\":0.5},\"line_color\":{\"value\":\"grey\"},\"line_dash\":[6],\"x\":{\"field\":\"x\"},\"y\":{\"field\":\"y\"}},\"id\":\"e7f28e28-7b29-4727-8246-f918763d1db6\",\"type\":\"Line\"},{\"attributes\":{\"line_alpha\":{\"value\":0.5},\"line_color\":{\"value\":\"grey\"},\"line_dash\":[6],\"x\":{\"field\":\"x\"},\"y\":{\"field\":\"y\"}},\"id\":\"5dd4fe5a-15d2-4583-9247-710dcbc1de35\",\"type\":\"Line\"},{\"attributes\":{\"line_alpha\":{\"value\":0.5},\"line_color\":{\"value\":\"grey\"},\"line_dash\":[6],\"x\":{\"field\":\"x\"},\"y\":{\"field\":\"y\"}},\"id\":\"74e77552-9785-439e-add1-5a25bbf413a1\",\"type\":\"Line\"},{\"attributes\":{\"line_alpha\":{\"value\":0.1},\"line_color\":{\"value\":\"#1f77b4\"},\"line_dash\":[6],\"x\":{\"field\":\"x\"},\"y\":{\"field\":\"y\"}},\"id\":\"5fc2be14-a66a-4409-9708-f2d6fc2d1fad\",\"type\":\"Line\"},{\"attributes\":{\"line_alpha\":{\"value\":0.5},\"line_color\":{\"value\":\"grey\"},\"line_dash\":[6],\"x\":{\"field\":\"x\"},\"y\":{\"field\":\"y\"}},\"id\":\"f393c64a-f46b-4d25-bf67-106d2097fc34\",\"type\":\"Line\"},{\"attributes\":{\"fill_alpha\":{\"value\":0.7},\"fill_color\":{\"value\":\"#407ee7\"},\"line_color\":{\"value\":\"#407ee7\"},\"size\":{\"units\":\"screen\",\"value\":8},\"x\":{\"field\":\"x_values\"},\"y\":{\"field\":\"y_values\"}},\"id\":\"274f9de7-cb7f-47fd-a307-b97db9884829\",\"type\":\"Triangle\"},{\"attributes\":{\"data_source\":{\"id\":\"6b0bbe1a-9152-42f7-8c8f-66afbf2725be\",\"type\":\"ColumnDataSource\"},\"glyph\":{\"id\":\"430dffea-8962-4edf-ae3c-4c12aa880273\",\"type\":\"Line\"},\"hover_glyph\":null,\"nonselection_glyph\":{\"id\":\"ee341315-5043-47a3-ba69-5a1dbe05ab29\",\"type\":\"Line\"},\"selection_glyph\":null},\"id\":\"62c31e62-790c-4e7b-893e-5ea07bca87e7\",\"type\":\"GlyphRenderer\"},{\"attributes\":{\"data_source\":{\"id\":\"375ca1b8-fe10-4757-b150-00c5d3a61079\",\"type\":\"ColumnDataSource\"},\"glyph\":{\"id\":\"ff51afde-932c-465b-aa89-99e3ede135a2\",\"type\":\"Circle\"},\"hover_glyph\":null,\"nonselection_glyph\":null,\"selection_glyph\":null},\"id\":\"e3471b8d-8efa-4213-aa85-7efd3a12b20f\",\"type\":\"GlyphRenderer\"},{\"attributes\":{\"line_alpha\":{\"value\":0.1},\"line_color\":{\"value\":\"#1f77b4\"},\"line_dash\":[6],\"x\":{\"field\":\"x\"},\"y\":{\"field\":\"y\"}},\"id\":\"b000b1e8-963a-4a90-927f-9002ea2e40ba\",\"type\":\"Line\"},{\"attributes\":{\"callback\":null,\"column_names\":[\"x\",\"y\"],\"data\":{\"x\":[24.757380788320184,80.44094620350461],\"y\":[9.196971885356264,87.50410079365795]}},\"id\":\"90b2b968-7592-42fe-b5f7-56825bbe9a6a\",\"type\":\"ColumnDataSource\"},{\"attributes\":{\"line_alpha\":{\"value\":0.5},\"line_color\":{\"value\":\"grey\"},\"line_dash\":[6],\"x\":{\"field\":\"x\"},\"y\":{\"field\":\"y\"}},\"id\":\"ebc48ce7-420d-4f89-8dc4-ed1e0583506d\",\"type\":\"Line\"},{\"attributes\":{\"fill_alpha\":{\"value\":0.7},\"fill_color\":{\"value\":\"#5ab738\"},\"line_color\":{\"value\":\"#5ab738\"},\"size\":{\"units\":\"screen\",\"value\":8},\"x\":{\"field\":\"x_values\"},\"y\":{\"field\":\"y_values\"}},\"id\":\"cee6d037-196e-41f9-9cb9-8675960aa0ec\",\"type\":\"Square\"},{\"attributes\":{\"line_alpha\":{\"value\":0.1},\"line_color\":{\"value\":\"#1f77b4\"},\"line_dash\":[6],\"x\":{\"field\":\"x\"},\"y\":{\"field\":\"y\"}},\"id\":\"b9506603-3f85-4861-9227-0a95b91c8843\",\"type\":\"Line\"},{\"attributes\":{\"callback\":null,\"column_names\":[\"x\",\"y\"],\"data\":{\"x\":[74.41778344604353,90.30669927904661],\"y\":[46.36763440366981,81.97433103862963]}},\"id\":\"6b0bbe1a-9152-42f7-8c8f-66afbf2725be\",\"type\":\"ColumnDataSource\"},{\"attributes\":{},\"id\":\"4f3ad1a1-53dd-43df-9329-c07a98824483\",\"type\":\"BasicTickFormatter\"},{\"attributes\":{\"callback\":null,\"column_names\":[\"x_values\",\"y_values\"],\"data\":{\"chart_index\":[{\"type\":\"Pedicab\"},{\"type\":\"Pedicab\"},{\"type\":\"Pedicab\"},{\"type\":\"Pedicab\"},{\"type\":\"Pedicab\"},{\"type\":\"Pedicab\"},{\"type\":\"Pedicab\"}],\"type\":[\"Pedicab\",\"Pedicab\",\"Pedicab\",\"Pedicab\",\"Pedicab\",\"Pedicab\",\"Pedicab\"],\"x_values\":{\"__ndarray__\":\"dZ12Ve9fT0DM4wyfZ5JTQELWpcKRVFJAJamX//aUQ0BlT4bZ9s4mQMgurCAQTeY/amCNPDGsWEA=\",\"dtype\":\"float64\",\"shape\":[7]},\"y_values\":{\"__ndarray__\":\"TGQhxpDTMEBcy3YvHKMzQGvIVtll9khANDDr+walMEBSlpH3te5WQG65o5uG0k9A3l/9ju5MVEA=\",\"dtype\":\"float64\",\"shape\":[7]}}},\"id\":\"4da86fc0-c80c-4430-b51e-c9c9f3341df3\",\"type\":\"ColumnDataSource\"},{\"attributes\":{},\"id\":\"40a127ee-475f-46e3-a6f1-5b0c215797b0\",\"type\":\"BasicTicker\"},{\"attributes\":{\"callback\":null,\"column_names\":[\"x\",\"y\"],\"data\":{\"x\":[84.83846232341413,40.46757740385476],\"y\":[89.88610130765619,46.52509761210176]}},\"id\":\"3fb6c34e-4177-4347-86e6-a9ff559860d9\",\"type\":\"ColumnDataSource\"},{\"attributes\":{\"data_source\":{\"id\":\"44fe95fb-19c6-4c96-be6a-d43c508be440\",\"type\":\"ColumnDataSource\"},\"glyph\":{\"id\":\"3962c471-23fd-45c5-914c-29a7df02dcd2\",\"type\":\"Line\"},\"hover_glyph\":null,\"nonselection_glyph\":{\"id\":\"b000b1e8-963a-4a90-927f-9002ea2e40ba\",\"type\":\"Line\"},\"selection_glyph\":null},\"id\":\"3affc227-ba17-41d8-91c5-cf83b25ac8f4\",\"type\":\"GlyphRenderer\"},{\"attributes\":{\"line_alpha\":{\"value\":0.5},\"line_color\":{\"value\":\"grey\"},\"line_dash\":[6],\"x\":{\"field\":\"x\"},\"y\":{\"field\":\"y\"}},\"id\":\"2ca34a31-d8ac-445e-91bf-ffff1d60206f\",\"type\":\"Line\"},{\"attributes\":{\"data_source\":{\"id\":\"90b2b968-7592-42fe-b5f7-56825bbe9a6a\",\"type\":\"ColumnDataSource\"},\"glyph\":{\"id\":\"2ca34a31-d8ac-445e-91bf-ffff1d60206f\",\"type\":\"Line\"},\"hover_glyph\":null,\"nonselection_glyph\":{\"id\":\"b9506603-3f85-4861-9227-0a95b91c8843\",\"type\":\"Line\"},\"selection_glyph\":null},\"id\":\"8f96633d-4176-4af9-bf17-5a60ac7a4d82\",\"type\":\"GlyphRenderer\"},{\"attributes\":{\"axis_label\":\"x\",\"formatter\":{\"id\":\"4f3ad1a1-53dd-43df-9329-c07a98824483\",\"type\":\"BasicTickFormatter\"},\"plot\":{\"id\":\"5b06d1f7-65ba-4680-ac89-6aa676db181d\",\"subtype\":\"Chart\",\"type\":\"Plot\"},\"ticker\":{\"id\":\"07711616-ae2c-44bf-8731-af3f82257d97\",\"type\":\"BasicTicker\"}},\"id\":\"3e207f23-199c-4ed3-86d7-ac866f343446\",\"type\":\"LinearAxis\"},{\"attributes\":{\"line_alpha\":{\"value\":0.1},\"line_color\":{\"value\":\"#1f77b4\"},\"line_dash\":[6],\"x\":{\"field\":\"x\"},\"y\":{\"field\":\"y\"}},\"id\":\"8e04056c-bfd4-46ef-b34d-14ff096716b2\",\"type\":\"Line\"},{\"attributes\":{\"line_alpha\":{\"value\":0.1},\"line_color\":{\"value\":\"#1f77b4\"},\"line_dash\":[6],\"x\":{\"field\":\"x\"},\"y\":{\"field\":\"y\"}},\"id\":\"9f7676ea-37c2-4358-8256-f899306b8c6b\",\"type\":\"Line\"},{\"attributes\":{\"callback\":null,\"column_names\":[\"x_values\",\"y_values\"],\"data\":{\"chart_index\":[{\"type\":\"Dropoff\"},{\"type\":\"Dropoff\"},{\"type\":\"Dropoff\"},{\"type\":\"Dropoff\"},{\"type\":\"Dropoff\"},{\"type\":\"Dropoff\"},{\"type\":\"Dropoff\"},{\"type\":\"Dropoff\"},{\"type\":\"Dropoff\"},{\"type\":\"Dropoff\"},{\"type\":\"Dropoff\"}],\"type\":[\"Dropoff\",\"Dropoff\",\"Dropoff\",\"Dropoff\",\"Dropoff\",\"Dropoff\",\"Dropoff\",\"Dropoff\",\"Dropoff\",\"Dropoff\",\"Dropoff\"],\"x_values\":{\"__ndarray__\":\"kU0D9qCTVkDWNV3+VRxRQANGnFcq30tAZvdfLCcxHUAuHi5L/LxHQNDzjJPZO0RAbWt69qmLI0DfqrSfrlU5QIy5asYKQ0NAQNZsdjgcVEAYn8UFoShQQA==\",\"dtype\":\"float64\",\"shape\":[11]},\"y_values\":{\"__ndarray__\":\"FpmScFt+VECL/nNYT0tPQNhaaBlm6VBAw43RJbwyVkAzlJSMkaI+QKaXB2Y2Q0dAhGBmGfJaT0AhU+BT+5JRQPRfUZmAcwhAgqn5L0PgVUD7gDkhxFQmQA==\",\"dtype\":\"float64\",\"shape\":[11]}}},\"id\":\"375ca1b8-fe10-4757-b150-00c5d3a61079\",\"type\":\"ColumnDataSource\"},{\"attributes\":{\"data_source\":{\"id\":\"8eda78cb-f31a-4ddb-9928-a9fc9f78f1ff\",\"type\":\"ColumnDataSource\"},\"glyph\":{\"id\":\"f393c64a-f46b-4d25-bf67-106d2097fc34\",\"type\":\"Line\"},\"hover_glyph\":null,\"nonselection_glyph\":{\"id\":\"0d7899ca-8c4a-443f-a446-f2d0982c8f7f\",\"type\":\"Line\"},\"selection_glyph\":null},\"id\":\"1d8faa6f-49ef-41e7-89ed-a10c80180c74\",\"type\":\"GlyphRenderer\"},{\"attributes\":{\"callback\":null,\"column_names\":[\"x\",\"y\"],\"data\":{\"x\":[36.84744510101859,7.298000996930432],\"y\":[80.7560646229737,88.79273362602457]}},\"id\":\"ee6ee55c-119f-4a27-accb-69db13158f34\",\"type\":\"ColumnDataSource\"},{\"attributes\":{\"data_source\":{\"id\":\"f2d5df33-c1ea-4bf7-a155-eb6582e1a767\",\"type\":\"ColumnDataSource\"},\"glyph\":{\"id\":\"3d68bd04-5460-4917-b7d1-596b431a3bdd\",\"type\":\"Line\"},\"hover_glyph\":null,\"nonselection_glyph\":{\"id\":\"1eaaf701-fcb4-43c3-80fc-4f79b1c6f0d3\",\"type\":\"Line\"},\"selection_glyph\":null},\"id\":\"97aeeb8c-a828-4bee-9c69-ee6ad66f7aa2\",\"type\":\"GlyphRenderer\"},{\"attributes\":{\"data_source\":{\"id\":\"c407c676-dc16-484f-96de-491d386be5b9\",\"type\":\"ColumnDataSource\"},\"glyph\":{\"id\":\"ebc48ce7-420d-4f89-8dc4-ed1e0583506d\",\"type\":\"Line\"},\"hover_glyph\":null,\"nonselection_glyph\":{\"id\":\"9f7676ea-37c2-4358-8256-f899306b8c6b\",\"type\":\"Line\"},\"selection_glyph\":null},\"id\":\"d785bdfb-c860-47df-89a0-259419c959d8\",\"type\":\"GlyphRenderer\"},{\"attributes\":{\"data_source\":{\"id\":\"ee6ee55c-119f-4a27-accb-69db13158f34\",\"type\":\"ColumnDataSource\"},\"glyph\":{\"id\":\"9a1386b9-dd95-4535-b016-b2684bab5cff\",\"type\":\"Line\"},\"hover_glyph\":null,\"nonselection_glyph\":{\"id\":\"50a9ab00-323a-4e3a-9bf3-0a4bb481e55e\",\"type\":\"Line\"},\"selection_glyph\":null},\"id\":\"562aa55d-a12c-4b5a-9ef8-e8e785892625\",\"type\":\"GlyphRenderer\"},{\"attributes\":{\"line_alpha\":{\"value\":0.1},\"line_color\":{\"value\":\"#1f77b4\"},\"line_dash\":[6],\"x\":{\"field\":\"x\"},\"y\":{\"field\":\"y\"}},\"id\":\"50a9ab00-323a-4e3a-9bf3-0a4bb481e55e\",\"type\":\"Line\"},{\"attributes\":{\"line_alpha\":{\"value\":0.1},\"line_color\":{\"value\":\"#1f77b4\"},\"line_dash\":[6],\"x\":{\"field\":\"x\"},\"y\":{\"field\":\"y\"}},\"id\":\"fc2286a5-bf12-4d35-b68e-35c3cbb7e035\",\"type\":\"Line\"},{\"attributes\":{\"line_alpha\":{\"value\":0.1},\"line_color\":{\"value\":\"#1f77b4\"},\"line_dash\":[6],\"x\":{\"field\":\"x\"},\"y\":{\"field\":\"y\"}},\"id\":\"624b3fd7-4ad2-4b46-b9de-311280dbe90e\",\"type\":\"Line\"},{\"attributes\":{\"line_alpha\":{\"value\":0.5},\"line_color\":{\"value\":\"grey\"},\"line_dash\":[6],\"x\":{\"field\":\"x\"},\"y\":{\"field\":\"y\"}},\"id\":\"f35398aa-91f0-48d8-8c93-1c4cdab0eeaa\",\"type\":\"Line\"},{\"attributes\":{\"callback\":null,\"column_names\":[\"x\",\"y\"],\"data\":{\"x\":[47.43773122742013,38.523766328918185],\"y\":[57.482089978758744,3.05639762668215]}},\"id\":\"f2d5df33-c1ea-4bf7-a155-eb6582e1a767\",\"type\":\"ColumnDataSource\"},{\"attributes\":{\"line_alpha\":{\"value\":0.5},\"line_color\":{\"value\":\"grey\"},\"line_dash\":[6],\"x\":{\"field\":\"x\"},\"y\":{\"field\":\"y\"}},\"id\":\"9a1386b9-dd95-4535-b016-b2684bab5cff\",\"type\":\"Line\"},{\"attributes\":{\"line_alpha\":{\"value\":0.5},\"line_color\":{\"value\":\"grey\"},\"line_dash\":[6],\"x\":{\"field\":\"x\"},\"y\":{\"field\":\"y\"}},\"id\":\"3d68bd04-5460-4917-b7d1-596b431a3bdd\",\"type\":\"Line\"},{\"attributes\":{\"data_source\":{\"id\":\"5927cf4e-e21c-4e73-9957-2c0aef70497a\",\"type\":\"ColumnDataSource\"},\"glyph\":{\"id\":\"74e77552-9785-439e-add1-5a25bbf413a1\",\"type\":\"Line\"},\"hover_glyph\":null,\"nonselection_glyph\":{\"id\":\"624b3fd7-4ad2-4b46-b9de-311280dbe90e\",\"type\":\"Line\"},\"selection_glyph\":null},\"id\":\"cbc95e99-529c-472c-80c3-55ae688a4e27\",\"type\":\"GlyphRenderer\"},{\"attributes\":{\"data_source\":{\"id\":\"5678dd08-1233-4df5-8f84-85cdd01c6150\",\"type\":\"ColumnDataSource\"},\"glyph\":{\"id\":\"f35398aa-91f0-48d8-8c93-1c4cdab0eeaa\",\"type\":\"Line\"},\"hover_glyph\":null,\"nonselection_glyph\":{\"id\":\"fc2286a5-bf12-4d35-b68e-35c3cbb7e035\",\"type\":\"Line\"},\"selection_glyph\":null},\"id\":\"69477d14-edc7-4247-b11d-d442080408ed\",\"type\":\"GlyphRenderer\"},{\"attributes\":{\"callback\":null,\"column_names\":[\"x\",\"y\"],\"data\":{\"x\":[30.11118723445332,55.74347968225995],\"y\":[27.661773897491905,67.64685664359001]}},\"id\":\"5678dd08-1233-4df5-8f84-85cdd01c6150\",\"type\":\"ColumnDataSource\"},{\"attributes\":{\"callback\":null,\"column_names\":[\"x\",\"y\"],\"data\":{\"x\":[30.01708654779448,47.47644939185953],\"y\":[62.212225348121066,30.635033403658053]}},\"id\":\"44fe95fb-19c6-4c96-be6a-d43c508be440\",\"type\":\"ColumnDataSource\"},{\"attributes\":{\"line_alpha\":{\"value\":0.1},\"line_color\":{\"value\":\"#1f77b4\"},\"line_dash\":[6],\"x\":{\"field\":\"x\"},\"y\":{\"field\":\"y\"}},\"id\":\"0d7899ca-8c4a-443f-a446-f2d0982c8f7f\",\"type\":\"Line\"},{\"attributes\":{\"line_alpha\":{\"value\":0.1},\"line_color\":{\"value\":\"#1f77b4\"},\"line_dash\":[6],\"x\":{\"field\":\"x\"},\"y\":{\"field\":\"y\"}},\"id\":\"1eaaf701-fcb4-43c3-80fc-4f79b1c6f0d3\",\"type\":\"Line\"}],\"root_ids\":[\"5b06d1f7-65ba-4680-ac89-6aa676db181d\"]},\"title\":\"Bokeh Application\",\"version\":\"0.12.4\"}};\n",
       "            var render_items = [{\"docid\":\"3059bdc6-3f87-4eb5-b28d-09bff8a55c7d\",\"elementid\":\"423dfd57-b9b0-4b47-b5c9-d3425688b31a\",\"modelid\":\"5b06d1f7-65ba-4680-ac89-6aa676db181d\"}];\n",
       "            \n",
       "            Bokeh.embed.embed_items(docs_json, render_items);\n",
       "          };\n",
       "          if (document.readyState != \"loading\") fn();\n",
       "          else document.addEventListener(\"DOMContentLoaded\", fn);\n",
       "        })();\n",
       "      },\n",
       "      function(Bokeh) {\n",
       "      }\n",
       "    ];\n",
       "  \n",
       "    function run_inline_js() {\n",
       "      \n",
       "      if ((window.Bokeh !== undefined) || (force === true)) {\n",
       "        for (var i = 0; i < inline_js.length; i++) {\n",
       "          inline_js[i](window.Bokeh);\n",
       "        }if (force === true) {\n",
       "          display_loaded();\n",
       "        }} else if (Date.now() < window._bokeh_timeout) {\n",
       "        setTimeout(run_inline_js, 100);\n",
       "      } else if (!window._bokeh_failed_load) {\n",
       "        console.log(\"Bokeh: BokehJS failed to load within specified timeout.\");\n",
       "        window._bokeh_failed_load = true;\n",
       "      } else if (force !== true) {\n",
       "        var cell = $(document.getElementById(\"423dfd57-b9b0-4b47-b5c9-d3425688b31a\")).parents('.cell').data().cell;\n",
       "        cell.output_area.append_execute_result(NB_LOAD_WARNING)\n",
       "      }\n",
       "  \n",
       "    }\n",
       "  \n",
       "    if (window._bokeh_is_loading === 0) {\n",
       "      console.log(\"Bokeh: BokehJS loaded, going straight to plotting\");\n",
       "      run_inline_js();\n",
       "    } else {\n",
       "      load_libs(js_urls, function() {\n",
       "        console.log(\"Bokeh: BokehJS plotting callback run at\", now());\n",
       "        run_inline_js();\n",
       "      });\n",
       "    }\n",
       "  }(this));\n",
       "</script>"
      ]
     },
     "metadata": {},
     "output_type": "display_data"
    }
   ],
   "source": [
    "plot = build_pedicabs_and_customers_plot()\n",
    "\n",
    "# Connect pickups to dropoffs\n",
    "for p, d in zip(pickup_locations, dropoff_locations):\n",
    "    plot.line([p[0], d[0]], [p[1], d[1]], line_alpha=0.5, line_color='grey', line_dash='dashed')\n",
    "    \n",
    "show(plot)"
   ]
  },
  {
   "cell_type": "code",
   "execution_count": 106,
   "metadata": {
    "collapsed": false
   },
   "outputs": [],
   "source": [
    "from collections import defaultdict\n",
    "import math\n",
    "\n",
    "l2 = lambda pt1, pt2: math.sqrt(sum((x1-x2)**2 for x1, x2 in zip(pt1, pt2)))\n",
    "\n",
    "routes = []\n",
    "route_costs = {}\n",
    "\n",
    "routes_by_pedicab = defaultdict(list)\n",
    "routes_by_customer = defaultdict(list)\n",
    "\n",
    "def add_route(pedicab, customers, locations):\n",
    "    stops = [pedicab_locations[pedicab]] + list(locations)\n",
    "    \n",
    "    route_num = len(routes)\n",
    "    \n",
    "    routes.append(stops)\n",
    "    route_costs[route_num] = sum(l2(s1, s2) for s1, s2 in zip(stops, stops[1:]))\n",
    "    \n",
    "    routes_by_pedicab[pedicab].append(route_num)\n",
    "    for cust in customers:\n",
    "        routes_by_customer[cust].append(route_num)"
   ]
  },
  {
   "cell_type": "code",
   "execution_count": 107,
   "metadata": {
    "collapsed": false
   },
   "outputs": [
    {
     "data": {
      "text/plain": [
       "2387"
      ]
     },
     "execution_count": 107,
     "metadata": {},
     "output_type": "execute_result"
    }
   ],
   "source": [
    "from itertools import permutations\n",
    "\n",
    "pickups_dropoffs = list(zip(pickup_locations, dropoff_locations))\n",
    "\n",
    "for cab in pedicabs:\n",
    "    # Single-customer routes\n",
    "    for cust in customers:\n",
    "        add_route(cab, [cust], pickups_dropoffs[cust])\n",
    "\n",
    "    # Doubles\n",
    "    for c1, c2 in permutations(customers, 2):\n",
    "        p1, d1 = pickups_dropoffs[c1]\n",
    "        p2, d2 = pickups_dropoffs[c2]\n",
    "        \n",
    "        add_route(cab, [c1, c2], [p1, p2, d1, d2])\n",
    "        add_route(cab, [c1, c2], [p1, p2, d2, d1])\n",
    "        add_route(cab, [c1, c2], [p1, d1, p2, d2])\n",
    "     \n",
    "len(routes)"
   ]
  },
  {
   "cell_type": "code",
   "execution_count": 108,
   "metadata": {
    "collapsed": false
   },
   "outputs": [],
   "source": [
    "x = []\n",
    "for r in range(len(routes)):\n",
    "    x.append(pulp.LpVariable('x%d' % r, cat=pulp.LpBinary))"
   ]
  },
  {
   "cell_type": "code",
   "execution_count": 109,
   "metadata": {
    "collapsed": false
   },
   "outputs": [],
   "source": [
    "prm = pulp.LpProblem('Pedicab Routing Model', sense=pulp.LpMinimize)\n",
    "\n",
    "# No more than one route assigned to each cab\n",
    "for cab_routes in routes_by_pedicab.values():\n",
    "    prm += sum(x[r] for r in cab_routes) <= 1\n",
    "    \n",
    "# Each customer is picked up by exactly one pedicab\n",
    "for cust_routes in routes_by_customer.values():\n",
    "    prm += sum(x[r] for r in cust_routes) == 1"
   ]
  },
  {
   "cell_type": "code",
   "execution_count": 110,
   "metadata": {
    "collapsed": false
   },
   "outputs": [
    {
     "name": "stdout",
     "output_type": "stream",
     "text": [
      "total cost: 600.17012\n"
     ]
    }
   ],
   "source": [
    "z = pulp.LpVariable('z', lowBound=0)\n",
    "prm += z == sum(route_costs[r] * x[r] for r in range(len(routes)))\n",
    "\n",
    "prm.setObjective(z)\n",
    "assert prm.solve() == pulp.LpStatusOptimal\n",
    "\n",
    "best_total_cost = z.value()\n",
    "print('total cost:', best_total_cost)"
   ]
  },
  {
   "cell_type": "code",
   "execution_count": 111,
   "metadata": {
    "collapsed": true
   },
   "outputs": [],
   "source": [
    "def plot_routes():\n",
    "    plot = build_pedicabs_and_customers_plot()\n",
    "\n",
    "    # Show \n",
    "    for r, stops in enumerate(routes):\n",
    "        if x[r].value() < 0.5:\n",
    "            continue\n",
    "\n",
    "        plot.line(\n",
    "            [s[0] for s in stops], \n",
    "            [s[1] for s in stops], \n",
    "            line_alpha=0.5, \n",
    "            line_color='grey', \n",
    "            line_dash='dashed'\n",
    "        )\n",
    "    \n",
    "    show(plot)"
   ]
  },
  {
   "cell_type": "code",
   "execution_count": 112,
   "metadata": {
    "collapsed": false
   },
   "outputs": [
    {
     "data": {
      "text/html": [
       "\n",
       "\n",
       "    <div class=\"bk-root\">\n",
       "        <div class=\"bk-plotdiv\" id=\"6a049527-7672-42a6-bd67-b914d339ea1c\"></div>\n",
       "    </div>\n",
       "<script type=\"text/javascript\">\n",
       "  \n",
       "  (function(global) {\n",
       "    function now() {\n",
       "      return new Date();\n",
       "    }\n",
       "  \n",
       "    var force = false;\n",
       "  \n",
       "    if (typeof (window._bokeh_onload_callbacks) === \"undefined\" || force === true) {\n",
       "      window._bokeh_onload_callbacks = [];\n",
       "      window._bokeh_is_loading = undefined;\n",
       "    }\n",
       "  \n",
       "  \n",
       "    \n",
       "    if (typeof (window._bokeh_timeout) === \"undefined\" || force === true) {\n",
       "      window._bokeh_timeout = Date.now() + 0;\n",
       "      window._bokeh_failed_load = false;\n",
       "    }\n",
       "  \n",
       "    var NB_LOAD_WARNING = {'data': {'text/html':\n",
       "       \"<div style='background-color: #fdd'>\\n\"+\n",
       "       \"<p>\\n\"+\n",
       "       \"BokehJS does not appear to have successfully loaded. If loading BokehJS from CDN, this \\n\"+\n",
       "       \"may be due to a slow or bad network connection. Possible fixes:\\n\"+\n",
       "       \"</p>\\n\"+\n",
       "       \"<ul>\\n\"+\n",
       "       \"<li>re-rerun `output_notebook()` to attempt to load from CDN again, or</li>\\n\"+\n",
       "       \"<li>use INLINE resources instead, as so:</li>\\n\"+\n",
       "       \"</ul>\\n\"+\n",
       "       \"<code>\\n\"+\n",
       "       \"from bokeh.resources import INLINE\\n\"+\n",
       "       \"output_notebook(resources=INLINE)\\n\"+\n",
       "       \"</code>\\n\"+\n",
       "       \"</div>\"}};\n",
       "  \n",
       "    function display_loaded() {\n",
       "      if (window.Bokeh !== undefined) {\n",
       "        document.getElementById(\"6a049527-7672-42a6-bd67-b914d339ea1c\").textContent = \"BokehJS successfully loaded.\";\n",
       "      } else if (Date.now() < window._bokeh_timeout) {\n",
       "        setTimeout(display_loaded, 100)\n",
       "      }\n",
       "    }\n",
       "  \n",
       "    function run_callbacks() {\n",
       "      window._bokeh_onload_callbacks.forEach(function(callback) { callback() });\n",
       "      delete window._bokeh_onload_callbacks\n",
       "      console.info(\"Bokeh: all callbacks have finished\");\n",
       "    }\n",
       "  \n",
       "    function load_libs(js_urls, callback) {\n",
       "      window._bokeh_onload_callbacks.push(callback);\n",
       "      if (window._bokeh_is_loading > 0) {\n",
       "        console.log(\"Bokeh: BokehJS is being loaded, scheduling callback at\", now());\n",
       "        return null;\n",
       "      }\n",
       "      if (js_urls == null || js_urls.length === 0) {\n",
       "        run_callbacks();\n",
       "        return null;\n",
       "      }\n",
       "      console.log(\"Bokeh: BokehJS not loaded, scheduling load and callback at\", now());\n",
       "      window._bokeh_is_loading = js_urls.length;\n",
       "      for (var i = 0; i < js_urls.length; i++) {\n",
       "        var url = js_urls[i];\n",
       "        var s = document.createElement('script');\n",
       "        s.src = url;\n",
       "        s.async = false;\n",
       "        s.onreadystatechange = s.onload = function() {\n",
       "          window._bokeh_is_loading--;\n",
       "          if (window._bokeh_is_loading === 0) {\n",
       "            console.log(\"Bokeh: all BokehJS libraries loaded\");\n",
       "            run_callbacks()\n",
       "          }\n",
       "        };\n",
       "        s.onerror = function() {\n",
       "          console.warn(\"failed to load library \" + url);\n",
       "        };\n",
       "        console.log(\"Bokeh: injecting script tag for BokehJS library: \", url);\n",
       "        document.getElementsByTagName(\"head\")[0].appendChild(s);\n",
       "      }\n",
       "    };var element = document.getElementById(\"6a049527-7672-42a6-bd67-b914d339ea1c\");\n",
       "    if (element == null) {\n",
       "      console.log(\"Bokeh: ERROR: autoload.js configured with elementid '6a049527-7672-42a6-bd67-b914d339ea1c' but no matching script tag was found. \")\n",
       "      return false;\n",
       "    }\n",
       "  \n",
       "    var js_urls = [];\n",
       "  \n",
       "    var inline_js = [\n",
       "      function(Bokeh) {\n",
       "        (function() {\n",
       "          var fn = function() {\n",
       "            var docs_json = {\"068e00cf-dc7e-4bfd-8b7c-5f15cf1529dc\":{\"roots\":{\"references\":[{\"attributes\":{\"data_source\":{\"id\":\"a78994b9-5276-4305-b05f-f80a1ff447c0\",\"type\":\"ColumnDataSource\"},\"glyph\":{\"id\":\"644727fe-bcd2-4d10-9340-592b4a995723\",\"type\":\"Line\"},\"hover_glyph\":null,\"nonselection_glyph\":{\"id\":\"cd5525ae-c43d-4dee-ab5a-3ef1e92a1cc7\",\"type\":\"Line\"},\"selection_glyph\":null},\"id\":\"77126042-318e-4ee1-8e3b-5025a98594f9\",\"type\":\"GlyphRenderer\"},{\"attributes\":{\"label\":{\"value\":\"Pickup\"},\"renderers\":[{\"id\":\"7a97c0a7-0f01-498d-945b-2e99d8ee33b3\",\"type\":\"GlyphRenderer\"}]},\"id\":\"075a5341-36b2-464d-a2cc-a57782c6e48f\",\"type\":\"LegendItem\"},{\"attributes\":{},\"id\":\"509a9154-1b96-4a05-9897-e60fb264f57c\",\"type\":\"BasicTickFormatter\"},{\"attributes\":{\"line_alpha\":{\"value\":0.5},\"line_color\":{\"value\":\"grey\"},\"line_dash\":[6],\"x\":{\"field\":\"x\"},\"y\":{\"field\":\"y\"}},\"id\":\"2e46069e-77e2-486d-813b-ee4a9857229e\",\"type\":\"Line\"},{\"attributes\":{\"overlay\":{\"id\":\"8ec1aa47-8dfd-42f8-8fc4-55c299d5aa5d\",\"type\":\"BoxAnnotation\"},\"plot\":{\"id\":\"49bd2303-4fc5-4d4c-b742-18539bf60467\",\"subtype\":\"Chart\",\"type\":\"Plot\"}},\"id\":\"737f2bbb-c4f9-49da-b30d-09eafa44c01c\",\"type\":\"BoxZoomTool\"},{\"attributes\":{\"callback\":null,\"column_names\":[\"x\",\"y\"],\"data\":{\"x\":[98.69050515943823,84.83846232341413,47.43773122742013,40.46757740385476,38.523766328918185],\"y\":[81.2020604585991,89.88610130765619,57.482089978758744,46.52509761210176,3.05639762668215]}},\"id\":\"647d29c5-5760-4c23-b26a-3a69eec1fc99\",\"type\":\"ColumnDataSource\"},{\"attributes\":{\"data_source\":{\"id\":\"647d29c5-5760-4c23-b26a-3a69eec1fc99\",\"type\":\"ColumnDataSource\"},\"glyph\":{\"id\":\"28d42a6f-7bd9-419a-933a-234216e67901\",\"type\":\"Line\"},\"hover_glyph\":null,\"nonselection_glyph\":{\"id\":\"cd085c20-9f85-48b4-9ce0-f708d3330837\",\"type\":\"Line\"},\"selection_glyph\":null},\"id\":\"589cf92f-c18e-43cf-89a6-ab17a95ed94b\",\"type\":\"GlyphRenderer\"},{\"attributes\":{\"plot\":{\"id\":\"49bd2303-4fc5-4d4c-b742-18539bf60467\",\"subtype\":\"Chart\",\"type\":\"Plot\"}},\"id\":\"e461bcc6-54df-4833-bdf5-bac0ce90fdbe\",\"type\":\"ResetTool\"},{\"attributes\":{\"bottom_units\":\"screen\",\"fill_alpha\":{\"value\":0.5},\"fill_color\":{\"value\":\"lightgrey\"},\"left_units\":\"screen\",\"level\":\"overlay\",\"line_alpha\":{\"value\":1.0},\"line_color\":{\"value\":\"black\"},\"line_dash\":[4,4],\"line_width\":{\"value\":2},\"plot\":null,\"render_mode\":\"css\",\"right_units\":\"screen\",\"top_units\":\"screen\"},\"id\":\"8ec1aa47-8dfd-42f8-8fc4-55c299d5aa5d\",\"type\":\"BoxAnnotation\"},{\"attributes\":{\"label\":{\"value\":\"Dropoff\"},\"renderers\":[{\"id\":\"81fd0052-6fd3-4b19-98f4-b4bd3e74f26b\",\"type\":\"GlyphRenderer\"}]},\"id\":\"e0c300b1-b11e-4362-9b80-807526999272\",\"type\":\"LegendItem\"},{\"attributes\":{\"plot\":{\"id\":\"49bd2303-4fc5-4d4c-b742-18539bf60467\",\"subtype\":\"Chart\",\"type\":\"Plot\"}},\"id\":\"0d505f5b-23fe-4de4-943b-51659eed0a77\",\"type\":\"WheelZoomTool\"},{\"attributes\":{},\"id\":\"667b43eb-1015-4f15-a45b-f4b4190dba0f\",\"type\":\"BasicTicker\"},{\"attributes\":{\"callback\":null,\"column_names\":[\"x\",\"y\"],\"data\":{\"x\":[0.6969071043144703,36.84744510101859,28.704803455833115,7.298000996930432,9.77278108829861],\"y\":[63.644732909148715,80.7560646229737,83.23269822658048,88.79273362602457,62.7105132818115]}},\"id\":\"8d2271bc-5545-420a-9f11-1e32ab30432a\",\"type\":\"ColumnDataSource\"},{\"attributes\":{\"dimension\":1,\"plot\":{\"id\":\"49bd2303-4fc5-4d4c-b742-18539bf60467\",\"subtype\":\"Chart\",\"type\":\"Plot\"},\"ticker\":{\"id\":\"667b43eb-1015-4f15-a45b-f4b4190dba0f\",\"type\":\"BasicTicker\"}},\"id\":\"910552f4-66ef-4ea5-97b1-7f9595982072\",\"type\":\"Grid\"},{\"attributes\":{\"data_source\":{\"id\":\"8d2271bc-5545-420a-9f11-1e32ab30432a\",\"type\":\"ColumnDataSource\"},\"glyph\":{\"id\":\"2e46069e-77e2-486d-813b-ee4a9857229e\",\"type\":\"Line\"},\"hover_glyph\":null,\"nonselection_glyph\":{\"id\":\"c8d2838c-260d-4a18-9376-b9dd1ce92258\",\"type\":\"Line\"},\"selection_glyph\":null},\"id\":\"cbfd2913-3c53-41ca-bf4c-17dea53eaffa\",\"type\":\"GlyphRenderer\"},{\"attributes\":{\"data_source\":{\"id\":\"3b98a3db-0f71-441b-beed-682f9d20411d\",\"type\":\"ColumnDataSource\"},\"glyph\":{\"id\":\"9fee90a1-9998-438e-910c-be936fe28384\",\"type\":\"Line\"},\"hover_glyph\":null,\"nonselection_glyph\":{\"id\":\"6071fe7f-58e1-4d6f-9876-caef51088f6a\",\"type\":\"Line\"},\"selection_glyph\":null},\"id\":\"0e212c07-6ba2-41d7-a6be-9a35251e5783\",\"type\":\"GlyphRenderer\"},{\"attributes\":{\"callback\":null,\"column_names\":[\"x_values\",\"y_values\"],\"data\":{\"chart_index\":[{\"type\":\"Pickup\"},{\"type\":\"Pickup\"},{\"type\":\"Pickup\"},{\"type\":\"Pickup\"},{\"type\":\"Pickup\"},{\"type\":\"Pickup\"},{\"type\":\"Pickup\"},{\"type\":\"Pickup\"},{\"type\":\"Pickup\"},{\"type\":\"Pickup\"},{\"type\":\"Pickup\"}],\"type\":[\"Pickup\",\"Pickup\",\"Pickup\",\"Pickup\",\"Pickup\",\"Pickup\",\"Pickup\",\"Pickup\",\"Pickup\",\"Pickup\",\"Pickup\"],\"x_values\":{\"__ndarray__\":\"TGTH9ryaUkB83BustClRQK61P8R2HD5A4APBFHlsQkCV+rPIXwQ+QHt/4F2pNVVAOOnQ/220PEBZRYDbs4w/QIwarZMHuEdAMnQUtePBOEBf66Ed9SZCQA==\",\"dtype\":\"float64\",\"shape\":[11]},\"y_values\":{\"__ndarray__\":\"ulLmpA4vR0BfmRsZiVNDQP4SnwNqqTtAalXfXGMwVED2x0AzKhtPQOBUQuK1eFZABkAah+TOVECRI3BrmVEnQMM/2h+1vUxAWay7f9lkIkBQMBKh02RUQA==\",\"dtype\":\"float64\",\"shape\":[11]}}},\"id\":\"6beead09-fa0e-4638-a07a-33a250203758\",\"type\":\"ColumnDataSource\"},{\"attributes\":{\"line_alpha\":{\"value\":0.1},\"line_color\":{\"value\":\"#1f77b4\"},\"line_dash\":[6],\"x\":{\"field\":\"x\"},\"y\":{\"field\":\"y\"}},\"id\":\"cd085c20-9f85-48b4-9ce0-f708d3330837\",\"type\":\"Line\"},{\"attributes\":{\"data_source\":{\"id\":\"b0428fb4-681c-4052-b73f-bced2d25992b\",\"type\":\"ColumnDataSource\"},\"glyph\":{\"id\":\"b42584c4-5104-4a56-af1e-f7eddb35d1aa\",\"type\":\"Line\"},\"hover_glyph\":null,\"nonselection_glyph\":{\"id\":\"f47d698c-e85a-4ed8-ad7c-1f9d18d5779b\",\"type\":\"Line\"},\"selection_glyph\":null},\"id\":\"44c159ab-c253-4009-82ef-0fb66319c389\",\"type\":\"GlyphRenderer\"},{\"attributes\":{\"active_drag\":\"auto\",\"active_scroll\":\"auto\",\"active_tap\":\"auto\",\"tools\":[{\"id\":\"6397ac5a-85d4-402c-8aeb-6cfa5cc211a0\",\"type\":\"PanTool\"},{\"id\":\"0d505f5b-23fe-4de4-943b-51659eed0a77\",\"type\":\"WheelZoomTool\"},{\"id\":\"737f2bbb-c4f9-49da-b30d-09eafa44c01c\",\"type\":\"BoxZoomTool\"},{\"id\":\"686a3de8-1788-41f2-b88f-8174f3f66022\",\"type\":\"SaveTool\"},{\"id\":\"e461bcc6-54df-4833-bdf5-bac0ce90fdbe\",\"type\":\"ResetTool\"},{\"id\":\"7683b02e-6b1a-47df-9e56-c5a4d6b26d35\",\"type\":\"HelpTool\"}]},\"id\":\"71dec7e3-0406-4f9e-a060-25df0f8b4e8a\",\"type\":\"Toolbar\"},{\"attributes\":{\"plot\":{\"id\":\"49bd2303-4fc5-4d4c-b742-18539bf60467\",\"subtype\":\"Chart\",\"type\":\"Plot\"},\"ticker\":{\"id\":\"c7b3275e-29a0-4659-8a08-857977cd74db\",\"type\":\"BasicTicker\"}},\"id\":\"37bc7142-3bf0-441c-89c1-83de4015792f\",\"type\":\"Grid\"},{\"attributes\":{\"data_source\":{\"id\":\"e349b21e-2f72-48b5-8169-e6137093ed8b\",\"type\":\"ColumnDataSource\"},\"glyph\":{\"id\":\"2691db39-17d5-44ac-bfe4-bbb0ad476897\",\"type\":\"Circle\"},\"hover_glyph\":null,\"nonselection_glyph\":null,\"selection_glyph\":null},\"id\":\"81fd0052-6fd3-4b19-98f4-b4bd3e74f26b\",\"type\":\"GlyphRenderer\"},{\"attributes\":{\"fill_alpha\":{\"value\":0.7},\"fill_color\":{\"value\":\"#5ab738\"},\"line_color\":{\"value\":\"#5ab738\"},\"size\":{\"units\":\"screen\",\"value\":8},\"x\":{\"field\":\"x_values\"},\"y\":{\"field\":\"y_values\"}},\"id\":\"1a16c4fd-4c23-4ce1-aceb-39c55a68af3b\",\"type\":\"Square\"},{\"attributes\":{\"plot\":{\"id\":\"49bd2303-4fc5-4d4c-b742-18539bf60467\",\"subtype\":\"Chart\",\"type\":\"Plot\"}},\"id\":\"6397ac5a-85d4-402c-8aeb-6cfa5cc211a0\",\"type\":\"PanTool\"},{\"attributes\":{\"line_alpha\":{\"value\":0.1},\"line_color\":{\"value\":\"#1f77b4\"},\"line_dash\":[6],\"x\":{\"field\":\"x\"},\"y\":{\"field\":\"y\"}},\"id\":\"f47d698c-e85a-4ed8-ad7c-1f9d18d5779b\",\"type\":\"Line\"},{\"attributes\":{\"callback\":null,\"column_names\":[\"x\",\"y\"],\"data\":{\"x\":[73.32139650530829,74.41778344604353,68.65165236206843,68.4427486334092,90.30669927904661],\"y\":[49.924983184217886,46.36763440366981,38.6526214012872,62.588358933103414,81.97433103862963]}},\"id\":\"a78994b9-5276-4305-b05f-f80a1ff447c0\",\"type\":\"ColumnDataSource\"},{\"attributes\":{\"line_alpha\":{\"value\":0.5},\"line_color\":{\"value\":\"grey\"},\"line_dash\":[6],\"x\":{\"field\":\"x\"},\"y\":{\"field\":\"y\"}},\"id\":\"9fee90a1-9998-438e-910c-be936fe28384\",\"type\":\"Line\"},{\"attributes\":{\"fill_alpha\":{\"value\":0.7},\"fill_color\":{\"value\":\"#407ee7\"},\"line_color\":{\"value\":\"#407ee7\"},\"size\":{\"units\":\"screen\",\"value\":8},\"x\":{\"field\":\"x_values\"},\"y\":{\"field\":\"y_values\"}},\"id\":\"d122a005-8717-43c2-9cdf-6d2ca703467d\",\"type\":\"Triangle\"},{\"attributes\":{\"plot\":{\"id\":\"49bd2303-4fc5-4d4c-b742-18539bf60467\",\"subtype\":\"Chart\",\"type\":\"Plot\"}},\"id\":\"7683b02e-6b1a-47df-9e56-c5a4d6b26d35\",\"type\":\"HelpTool\"},{\"attributes\":{\"items\":[{\"id\":\"c3fa2555-015e-4b45-980c-908ca6feb308\",\"type\":\"LegendItem\"},{\"id\":\"075a5341-36b2-464d-a2cc-a57782c6e48f\",\"type\":\"LegendItem\"},{\"id\":\"e0c300b1-b11e-4362-9b80-807526999272\",\"type\":\"LegendItem\"}],\"location\":\"top_left\",\"orientation\":\"horizontal\",\"plot\":{\"id\":\"49bd2303-4fc5-4d4c-b742-18539bf60467\",\"subtype\":\"Chart\",\"type\":\"Plot\"}},\"id\":\"d68f0c73-4259-4a8b-b615-9d7ac1e5eab7\",\"type\":\"Legend\"},{\"attributes\":{\"line_alpha\":{\"value\":0.5},\"line_color\":{\"value\":\"grey\"},\"line_dash\":[6],\"x\":{\"field\":\"x\"},\"y\":{\"field\":\"y\"}},\"id\":\"28d42a6f-7bd9-419a-933a-234216e67901\",\"type\":\"Line\"},{\"attributes\":{\"callback\":null,\"column_names\":[\"x_values\",\"y_values\"],\"data\":{\"chart_index\":[{\"type\":\"Pedicab\"},{\"type\":\"Pedicab\"},{\"type\":\"Pedicab\"},{\"type\":\"Pedicab\"},{\"type\":\"Pedicab\"},{\"type\":\"Pedicab\"},{\"type\":\"Pedicab\"}],\"type\":[\"Pedicab\",\"Pedicab\",\"Pedicab\",\"Pedicab\",\"Pedicab\",\"Pedicab\",\"Pedicab\"],\"x_values\":{\"__ndarray__\":\"dZ12Ve9fT0DM4wyfZ5JTQELWpcKRVFJAJamX//aUQ0BlT4bZ9s4mQMgurCAQTeY/amCNPDGsWEA=\",\"dtype\":\"float64\",\"shape\":[7]},\"y_values\":{\"__ndarray__\":\"TGQhxpDTMEBcy3YvHKMzQGvIVtll9khANDDr+walMEBSlpH3te5WQG65o5uG0k9A3l/9ju5MVEA=\",\"dtype\":\"float64\",\"shape\":[7]}}},\"id\":\"320d2478-7d4c-444a-a00f-45ebc43b4d8e\",\"type\":\"ColumnDataSource\"},{\"attributes\":{\"axis_label\":\"x\",\"formatter\":{\"id\":\"af670e2a-4f71-47c2-b540-15121bff722f\",\"type\":\"BasicTickFormatter\"},\"plot\":{\"id\":\"49bd2303-4fc5-4d4c-b742-18539bf60467\",\"subtype\":\"Chart\",\"type\":\"Plot\"},\"ticker\":{\"id\":\"c7b3275e-29a0-4659-8a08-857977cd74db\",\"type\":\"BasicTicker\"}},\"id\":\"ed9c938d-e656-4bb6-945c-efd156991bec\",\"type\":\"LinearAxis\"},{\"attributes\":{\"line_alpha\":{\"value\":0.5},\"line_color\":{\"value\":\"grey\"},\"line_dash\":[6],\"x\":{\"field\":\"x\"},\"y\":{\"field\":\"y\"}},\"id\":\"644727fe-bcd2-4d10-9340-592b4a995723\",\"type\":\"Line\"},{\"attributes\":{\"callback\":null,\"column_names\":[\"x\",\"y\"],\"data\":{\"x\":[39.16378779321011,24.757380788320184,30.11118723445332,55.74347968225995,80.44094620350461],\"y\":[16.644637818259255,9.196971885356264,27.661773897491905,67.64685664359001,87.50410079365795]}},\"id\":\"b52f98bf-5166-4189-93c0-b39afad5da86\",\"type\":\"ColumnDataSource\"},{\"attributes\":{\"label\":{\"value\":\"Pedicab\"},\"renderers\":[{\"id\":\"8b146b25-64d3-4d51-b8f1-56bb4677a8fd\",\"type\":\"GlyphRenderer\"}]},\"id\":\"c3fa2555-015e-4b45-980c-908ca6feb308\",\"type\":\"LegendItem\"},{\"attributes\":{\"line_alpha\":{\"value\":0.1},\"line_color\":{\"value\":\"#1f77b4\"},\"line_dash\":[6],\"x\":{\"field\":\"x\"},\"y\":{\"field\":\"y\"}},\"id\":\"cd5525ae-c43d-4dee-ab5a-3ef1e92a1cc7\",\"type\":\"Line\"},{\"attributes\":{\"data_source\":{\"id\":\"320d2478-7d4c-444a-a00f-45ebc43b4d8e\",\"type\":\"ColumnDataSource\"},\"glyph\":{\"id\":\"1a16c4fd-4c23-4ce1-aceb-39c55a68af3b\",\"type\":\"Square\"},\"hover_glyph\":null,\"nonselection_glyph\":null,\"selection_glyph\":null},\"id\":\"8b146b25-64d3-4d51-b8f1-56bb4677a8fd\",\"type\":\"GlyphRenderer\"},{\"attributes\":{\"line_alpha\":{\"value\":0.5},\"line_color\":{\"value\":\"grey\"},\"line_dash\":[6],\"x\":{\"field\":\"x\"},\"y\":{\"field\":\"y\"}},\"id\":\"3826e328-0b63-4f51-b6de-ab6ab18a7fa4\",\"type\":\"Line\"},{\"attributes\":{\"plot\":{\"id\":\"49bd2303-4fc5-4d4c-b742-18539bf60467\",\"subtype\":\"Chart\",\"type\":\"Plot\"}},\"id\":\"686a3de8-1788-41f2-b88f-8174f3f66022\",\"type\":\"SaveTool\"},{\"attributes\":{\"below\":[{\"id\":\"ed9c938d-e656-4bb6-945c-efd156991bec\",\"type\":\"LinearAxis\"}],\"css_classes\":null,\"height\":600,\"left\":[{\"id\":\"c6d1970e-f71c-423b-a5cc-9c38675e5296\",\"type\":\"LinearAxis\"}],\"renderers\":[{\"id\":\"8ec1aa47-8dfd-42f8-8fc4-55c299d5aa5d\",\"type\":\"BoxAnnotation\"},{\"id\":\"8b146b25-64d3-4d51-b8f1-56bb4677a8fd\",\"type\":\"GlyphRenderer\"},{\"id\":\"7a97c0a7-0f01-498d-945b-2e99d8ee33b3\",\"type\":\"GlyphRenderer\"},{\"id\":\"81fd0052-6fd3-4b19-98f4-b4bd3e74f26b\",\"type\":\"GlyphRenderer\"},{\"id\":\"d68f0c73-4259-4a8b-b615-9d7ac1e5eab7\",\"type\":\"Legend\"},{\"id\":\"ed9c938d-e656-4bb6-945c-efd156991bec\",\"type\":\"LinearAxis\"},{\"id\":\"c6d1970e-f71c-423b-a5cc-9c38675e5296\",\"type\":\"LinearAxis\"},{\"id\":\"37bc7142-3bf0-441c-89c1-83de4015792f\",\"type\":\"Grid\"},{\"id\":\"910552f4-66ef-4ea5-97b1-7f9595982072\",\"type\":\"Grid\"},{\"id\":\"44c159ab-c253-4009-82ef-0fb66319c389\",\"type\":\"GlyphRenderer\"},{\"id\":\"77126042-318e-4ee1-8e3b-5025a98594f9\",\"type\":\"GlyphRenderer\"},{\"id\":\"dfdc35b1-58ab-40ec-a3b8-07eb9e3aab03\",\"type\":\"GlyphRenderer\"},{\"id\":\"0e212c07-6ba2-41d7-a6be-9a35251e5783\",\"type\":\"GlyphRenderer\"},{\"id\":\"cbfd2913-3c53-41ca-bf4c-17dea53eaffa\",\"type\":\"GlyphRenderer\"},{\"id\":\"589cf92f-c18e-43cf-89a6-ab17a95ed94b\",\"type\":\"GlyphRenderer\"}],\"title\":{\"id\":\"3c189b24-7e3d-4e7d-bfdd-dbe15e8686c0\",\"type\":\"Title\"},\"tool_events\":{\"id\":\"3d6b5bc4-c3ed-4b5b-a123-b45e7a07d189\",\"type\":\"ToolEvents\"},\"toolbar\":{\"id\":\"71dec7e3-0406-4f9e-a060-25df0f8b4e8a\",\"type\":\"Toolbar\"},\"width\":600,\"x_mapper_type\":\"auto\",\"x_range\":{\"id\":\"21d3e024-02f4-4c45-a5c4-a1d14c5ee5d4\",\"type\":\"Range1d\"},\"y_mapper_type\":\"auto\",\"y_range\":{\"id\":\"21d3e024-02f4-4c45-a5c4-a1d14c5ee5d4\",\"type\":\"Range1d\"}},\"id\":\"49bd2303-4fc5-4d4c-b742-18539bf60467\",\"subtype\":\"Chart\",\"type\":\"Plot\"},{\"attributes\":{\"line_alpha\":{\"value\":0.1},\"line_color\":{\"value\":\"#1f77b4\"},\"line_dash\":[6],\"x\":{\"field\":\"x\"},\"y\":{\"field\":\"y\"}},\"id\":\"6071fe7f-58e1-4d6f-9876-caef51088f6a\",\"type\":\"Line\"},{\"attributes\":{},\"id\":\"3d6b5bc4-c3ed-4b5b-a123-b45e7a07d189\",\"type\":\"ToolEvents\"},{\"attributes\":{\"line_alpha\":{\"value\":0.1},\"line_color\":{\"value\":\"#1f77b4\"},\"line_dash\":[6],\"x\":{\"field\":\"x\"},\"y\":{\"field\":\"y\"}},\"id\":\"452cfe67-c576-4622-b9ab-cb54bc0c756e\",\"type\":\"Line\"},{\"attributes\":{\"plot\":null,\"text\":null},\"id\":\"3c189b24-7e3d-4e7d-bfdd-dbe15e8686c0\",\"type\":\"Title\"},{\"attributes\":{\"line_alpha\":{\"value\":0.5},\"line_color\":{\"value\":\"grey\"},\"line_dash\":[6],\"x\":{\"field\":\"x\"},\"y\":{\"field\":\"y\"}},\"id\":\"b42584c4-5104-4a56-af1e-f7eddb35d1aa\",\"type\":\"Line\"},{\"attributes\":{\"fill_alpha\":{\"value\":0.7},\"fill_color\":{\"value\":\"#f22c40\"},\"line_color\":{\"value\":\"#f22c40\"},\"size\":{\"units\":\"screen\",\"value\":8},\"x\":{\"field\":\"x_values\"},\"y\":{\"field\":\"y_values\"}},\"id\":\"2691db39-17d5-44ac-bfe4-bbb0ad476897\",\"type\":\"Circle\"},{\"attributes\":{\"callback\":null,\"column_names\":[\"x_values\",\"y_values\"],\"data\":{\"chart_index\":[{\"type\":\"Dropoff\"},{\"type\":\"Dropoff\"},{\"type\":\"Dropoff\"},{\"type\":\"Dropoff\"},{\"type\":\"Dropoff\"},{\"type\":\"Dropoff\"},{\"type\":\"Dropoff\"},{\"type\":\"Dropoff\"},{\"type\":\"Dropoff\"},{\"type\":\"Dropoff\"},{\"type\":\"Dropoff\"}],\"type\":[\"Dropoff\",\"Dropoff\",\"Dropoff\",\"Dropoff\",\"Dropoff\",\"Dropoff\",\"Dropoff\",\"Dropoff\",\"Dropoff\",\"Dropoff\",\"Dropoff\"],\"x_values\":{\"__ndarray__\":\"kU0D9qCTVkDWNV3+VRxRQANGnFcq30tAZvdfLCcxHUAuHi5L/LxHQNDzjJPZO0RAbWt69qmLI0DfqrSfrlU5QIy5asYKQ0NAQNZsdjgcVEAYn8UFoShQQA==\",\"dtype\":\"float64\",\"shape\":[11]},\"y_values\":{\"__ndarray__\":\"FpmScFt+VECL/nNYT0tPQNhaaBlm6VBAw43RJbwyVkAzlJSMkaI+QKaXB2Y2Q0dAhGBmGfJaT0AhU+BT+5JRQPRfUZmAcwhAgqn5L0PgVUD7gDkhxFQmQA==\",\"dtype\":\"float64\",\"shape\":[11]}}},\"id\":\"e349b21e-2f72-48b5-8169-e6137093ed8b\",\"type\":\"ColumnDataSource\"},{\"attributes\":{\"callback\":null,\"end\":115,\"start\":-15},\"id\":\"21d3e024-02f4-4c45-a5c4-a1d14c5ee5d4\",\"type\":\"Range1d\"},{\"attributes\":{\"data_source\":{\"id\":\"6beead09-fa0e-4638-a07a-33a250203758\",\"type\":\"ColumnDataSource\"},\"glyph\":{\"id\":\"d122a005-8717-43c2-9cdf-6d2ca703467d\",\"type\":\"Triangle\"},\"hover_glyph\":null,\"nonselection_glyph\":null,\"selection_glyph\":null},\"id\":\"7a97c0a7-0f01-498d-945b-2e99d8ee33b3\",\"type\":\"GlyphRenderer\"},{\"attributes\":{},\"id\":\"af670e2a-4f71-47c2-b540-15121bff722f\",\"type\":\"BasicTickFormatter\"},{\"attributes\":{\"axis_label\":\"y\",\"formatter\":{\"id\":\"509a9154-1b96-4a05-9897-e60fb264f57c\",\"type\":\"BasicTickFormatter\"},\"plot\":{\"id\":\"49bd2303-4fc5-4d4c-b742-18539bf60467\",\"subtype\":\"Chart\",\"type\":\"Plot\"},\"ticker\":{\"id\":\"667b43eb-1015-4f15-a45b-f4b4190dba0f\",\"type\":\"BasicTicker\"}},\"id\":\"c6d1970e-f71c-423b-a5cc-9c38675e5296\",\"type\":\"LinearAxis\"},{\"attributes\":{\"callback\":null,\"column_names\":[\"x\",\"y\"],\"data\":{\"x\":[11.404227063794403,36.30435533910963,30.01708654779448,47.47644939185953,64.63482803629847],\"y\":[91.72985638825892,81.57541682029955,62.212225348121066,30.635033403658053,11.16555885149909]}},\"id\":\"3b98a3db-0f71-441b-beed-682f9d20411d\",\"type\":\"ColumnDataSource\"},{\"attributes\":{\"line_alpha\":{\"value\":0.1},\"line_color\":{\"value\":\"#1f77b4\"},\"line_dash\":[6],\"x\":{\"field\":\"x\"},\"y\":{\"field\":\"y\"}},\"id\":\"c8d2838c-260d-4a18-9376-b9dd1ce92258\",\"type\":\"Line\"},{\"attributes\":{\"data_source\":{\"id\":\"b52f98bf-5166-4189-93c0-b39afad5da86\",\"type\":\"ColumnDataSource\"},\"glyph\":{\"id\":\"3826e328-0b63-4f51-b6de-ab6ab18a7fa4\",\"type\":\"Line\"},\"hover_glyph\":null,\"nonselection_glyph\":{\"id\":\"452cfe67-c576-4622-b9ab-cb54bc0c756e\",\"type\":\"Line\"},\"selection_glyph\":null},\"id\":\"dfdc35b1-58ab-40ec-a3b8-07eb9e3aab03\",\"type\":\"GlyphRenderer\"},{\"attributes\":{\"callback\":null,\"column_names\":[\"x\",\"y\"],\"data\":{\"x\":[62.74949138919593,31.549619406524787,25.334695798500316],\"y\":[16.826427825119296,11.659373624266467,70.2965898218795]}},\"id\":\"b0428fb4-681c-4052-b73f-bced2d25992b\",\"type\":\"ColumnDataSource\"},{\"attributes\":{},\"id\":\"c7b3275e-29a0-4659-8a08-857977cd74db\",\"type\":\"BasicTicker\"}],\"root_ids\":[\"49bd2303-4fc5-4d4c-b742-18539bf60467\"]},\"title\":\"Bokeh Application\",\"version\":\"0.12.4\"}};\n",
       "            var render_items = [{\"docid\":\"068e00cf-dc7e-4bfd-8b7c-5f15cf1529dc\",\"elementid\":\"6a049527-7672-42a6-bd67-b914d339ea1c\",\"modelid\":\"49bd2303-4fc5-4d4c-b742-18539bf60467\"}];\n",
       "            \n",
       "            Bokeh.embed.embed_items(docs_json, render_items);\n",
       "          };\n",
       "          if (document.readyState != \"loading\") fn();\n",
       "          else document.addEventListener(\"DOMContentLoaded\", fn);\n",
       "        })();\n",
       "      },\n",
       "      function(Bokeh) {\n",
       "      }\n",
       "    ];\n",
       "  \n",
       "    function run_inline_js() {\n",
       "      \n",
       "      if ((window.Bokeh !== undefined) || (force === true)) {\n",
       "        for (var i = 0; i < inline_js.length; i++) {\n",
       "          inline_js[i](window.Bokeh);\n",
       "        }if (force === true) {\n",
       "          display_loaded();\n",
       "        }} else if (Date.now() < window._bokeh_timeout) {\n",
       "        setTimeout(run_inline_js, 100);\n",
       "      } else if (!window._bokeh_failed_load) {\n",
       "        console.log(\"Bokeh: BokehJS failed to load within specified timeout.\");\n",
       "        window._bokeh_failed_load = true;\n",
       "      } else if (force !== true) {\n",
       "        var cell = $(document.getElementById(\"6a049527-7672-42a6-bd67-b914d339ea1c\")).parents('.cell').data().cell;\n",
       "        cell.output_area.append_execute_result(NB_LOAD_WARNING)\n",
       "      }\n",
       "  \n",
       "    }\n",
       "  \n",
       "    if (window._bokeh_is_loading === 0) {\n",
       "      console.log(\"Bokeh: BokehJS loaded, going straight to plotting\");\n",
       "      run_inline_js();\n",
       "    } else {\n",
       "      load_libs(js_urls, function() {\n",
       "        console.log(\"Bokeh: BokehJS plotting callback run at\", now());\n",
       "        run_inline_js();\n",
       "      });\n",
       "    }\n",
       "  }(this));\n",
       "</script>"
      ]
     },
     "metadata": {},
     "output_type": "display_data"
    }
   ],
   "source": [
    "plot_routes()"
   ]
  },
  {
   "cell_type": "code",
   "execution_count": 113,
   "metadata": {
    "collapsed": false
   },
   "outputs": [
    {
     "name": "stdout",
     "output_type": "stream",
     "text": [
      "total cost: 768.66477\n",
      "max route length: 114.37092\n"
     ]
    }
   ],
   "source": [
    "z2 = pulp.LpVariable('z2', lowBound=0)\n",
    "for r in range(len(routes)):\n",
    "    prm += z2 >= route_costs[r] * x[r]\n",
    "\n",
    "prm.setObjective(z2)\n",
    "assert prm.solve() == pulp.LpStatusOptimal\n",
    "\n",
    "print('total cost:', z.value())\n",
    "print('max route length:', z2.value())"
   ]
  },
  {
   "cell_type": "code",
   "execution_count": 114,
   "metadata": {
    "collapsed": false
   },
   "outputs": [
    {
     "data": {
      "text/html": [
       "\n",
       "\n",
       "    <div class=\"bk-root\">\n",
       "        <div class=\"bk-plotdiv\" id=\"a7e633f1-36dc-4264-85ce-f909fab4c124\"></div>\n",
       "    </div>\n",
       "<script type=\"text/javascript\">\n",
       "  \n",
       "  (function(global) {\n",
       "    function now() {\n",
       "      return new Date();\n",
       "    }\n",
       "  \n",
       "    var force = false;\n",
       "  \n",
       "    if (typeof (window._bokeh_onload_callbacks) === \"undefined\" || force === true) {\n",
       "      window._bokeh_onload_callbacks = [];\n",
       "      window._bokeh_is_loading = undefined;\n",
       "    }\n",
       "  \n",
       "  \n",
       "    \n",
       "    if (typeof (window._bokeh_timeout) === \"undefined\" || force === true) {\n",
       "      window._bokeh_timeout = Date.now() + 0;\n",
       "      window._bokeh_failed_load = false;\n",
       "    }\n",
       "  \n",
       "    var NB_LOAD_WARNING = {'data': {'text/html':\n",
       "       \"<div style='background-color: #fdd'>\\n\"+\n",
       "       \"<p>\\n\"+\n",
       "       \"BokehJS does not appear to have successfully loaded. If loading BokehJS from CDN, this \\n\"+\n",
       "       \"may be due to a slow or bad network connection. Possible fixes:\\n\"+\n",
       "       \"</p>\\n\"+\n",
       "       \"<ul>\\n\"+\n",
       "       \"<li>re-rerun `output_notebook()` to attempt to load from CDN again, or</li>\\n\"+\n",
       "       \"<li>use INLINE resources instead, as so:</li>\\n\"+\n",
       "       \"</ul>\\n\"+\n",
       "       \"<code>\\n\"+\n",
       "       \"from bokeh.resources import INLINE\\n\"+\n",
       "       \"output_notebook(resources=INLINE)\\n\"+\n",
       "       \"</code>\\n\"+\n",
       "       \"</div>\"}};\n",
       "  \n",
       "    function display_loaded() {\n",
       "      if (window.Bokeh !== undefined) {\n",
       "        document.getElementById(\"a7e633f1-36dc-4264-85ce-f909fab4c124\").textContent = \"BokehJS successfully loaded.\";\n",
       "      } else if (Date.now() < window._bokeh_timeout) {\n",
       "        setTimeout(display_loaded, 100)\n",
       "      }\n",
       "    }\n",
       "  \n",
       "    function run_callbacks() {\n",
       "      window._bokeh_onload_callbacks.forEach(function(callback) { callback() });\n",
       "      delete window._bokeh_onload_callbacks\n",
       "      console.info(\"Bokeh: all callbacks have finished\");\n",
       "    }\n",
       "  \n",
       "    function load_libs(js_urls, callback) {\n",
       "      window._bokeh_onload_callbacks.push(callback);\n",
       "      if (window._bokeh_is_loading > 0) {\n",
       "        console.log(\"Bokeh: BokehJS is being loaded, scheduling callback at\", now());\n",
       "        return null;\n",
       "      }\n",
       "      if (js_urls == null || js_urls.length === 0) {\n",
       "        run_callbacks();\n",
       "        return null;\n",
       "      }\n",
       "      console.log(\"Bokeh: BokehJS not loaded, scheduling load and callback at\", now());\n",
       "      window._bokeh_is_loading = js_urls.length;\n",
       "      for (var i = 0; i < js_urls.length; i++) {\n",
       "        var url = js_urls[i];\n",
       "        var s = document.createElement('script');\n",
       "        s.src = url;\n",
       "        s.async = false;\n",
       "        s.onreadystatechange = s.onload = function() {\n",
       "          window._bokeh_is_loading--;\n",
       "          if (window._bokeh_is_loading === 0) {\n",
       "            console.log(\"Bokeh: all BokehJS libraries loaded\");\n",
       "            run_callbacks()\n",
       "          }\n",
       "        };\n",
       "        s.onerror = function() {\n",
       "          console.warn(\"failed to load library \" + url);\n",
       "        };\n",
       "        console.log(\"Bokeh: injecting script tag for BokehJS library: \", url);\n",
       "        document.getElementsByTagName(\"head\")[0].appendChild(s);\n",
       "      }\n",
       "    };var element = document.getElementById(\"a7e633f1-36dc-4264-85ce-f909fab4c124\");\n",
       "    if (element == null) {\n",
       "      console.log(\"Bokeh: ERROR: autoload.js configured with elementid 'a7e633f1-36dc-4264-85ce-f909fab4c124' but no matching script tag was found. \")\n",
       "      return false;\n",
       "    }\n",
       "  \n",
       "    var js_urls = [];\n",
       "  \n",
       "    var inline_js = [\n",
       "      function(Bokeh) {\n",
       "        (function() {\n",
       "          var fn = function() {\n",
       "            var docs_json = {\"40cb2c7d-d821-44d4-9c85-7a9e1ba04867\":{\"roots\":{\"references\":[{\"attributes\":{\"line_alpha\":{\"value\":0.5},\"line_color\":{\"value\":\"grey\"},\"line_dash\":[6],\"x\":{\"field\":\"x\"},\"y\":{\"field\":\"y\"}},\"id\":\"a36f3a74-8726-493c-a4a7-74c2e81c5d4c\",\"type\":\"Line\"},{\"attributes\":{\"axis_label\":\"y\",\"formatter\":{\"id\":\"1b346b81-6e4d-4482-b92e-441f3470ec80\",\"type\":\"BasicTickFormatter\"},\"plot\":{\"id\":\"b3823924-42d9-48eb-b393-5ceb0e0ac8fb\",\"subtype\":\"Chart\",\"type\":\"Plot\"},\"ticker\":{\"id\":\"af60597c-6d6e-4404-b361-dbc9fdaa3734\",\"type\":\"BasicTicker\"}},\"id\":\"621dd060-d58c-420e-8031-9dad17b8b4c5\",\"type\":\"LinearAxis\"},{\"attributes\":{\"line_alpha\":{\"value\":0.1},\"line_color\":{\"value\":\"#1f77b4\"},\"line_dash\":[6],\"x\":{\"field\":\"x\"},\"y\":{\"field\":\"y\"}},\"id\":\"42ac2e0b-e4e2-47b0-b419-e232d8bda82d\",\"type\":\"Line\"},{\"attributes\":{\"data_source\":{\"id\":\"41a0fe6d-88b4-405d-b98d-0f89cd651aa2\",\"type\":\"ColumnDataSource\"},\"glyph\":{\"id\":\"a36f3a74-8726-493c-a4a7-74c2e81c5d4c\",\"type\":\"Line\"},\"hover_glyph\":null,\"nonselection_glyph\":{\"id\":\"42ac2e0b-e4e2-47b0-b419-e232d8bda82d\",\"type\":\"Line\"},\"selection_glyph\":null},\"id\":\"3bb0eb2a-793e-46e4-a811-9e5ade39bd2c\",\"type\":\"GlyphRenderer\"},{\"attributes\":{},\"id\":\"71318c0b-3fbb-47e5-bd8c-d4b3210ba286\",\"type\":\"BasicTicker\"},{\"attributes\":{\"callback\":null,\"column_names\":[\"x\",\"y\"],\"data\":{\"x\":[0.6969071043144703,36.84744510101859,28.704803455833115,9.77278108829861,7.298000996930432],\"y\":[63.644732909148715,80.7560646229737,83.23269822658048,62.7105132818115,88.79273362602457]}},\"id\":\"0ec7f050-4ec5-4dbd-9a8a-cf00d850484d\",\"type\":\"ColumnDataSource\"},{\"attributes\":{\"line_alpha\":{\"value\":0.5},\"line_color\":{\"value\":\"grey\"},\"line_dash\":[6],\"x\":{\"field\":\"x\"},\"y\":{\"field\":\"y\"}},\"id\":\"b50474b1-413e-4f11-abf9-cf15246c908d\",\"type\":\"Line\"},{\"attributes\":{\"line_alpha\":{\"value\":0.5},\"line_color\":{\"value\":\"grey\"},\"line_dash\":[6],\"x\":{\"field\":\"x\"},\"y\":{\"field\":\"y\"}},\"id\":\"252958b4-9432-4fed-9e90-19c26957e2fe\",\"type\":\"Line\"},{\"attributes\":{\"callback\":null,\"column_names\":[\"x\",\"y\"],\"data\":{\"x\":[39.16378779321011,24.757380788320184,80.44094620350461],\"y\":[16.644637818259255,9.196971885356264,87.50410079365795]}},\"id\":\"717432de-3bfd-4210-aaf4-242693a15a42\",\"type\":\"ColumnDataSource\"},{\"attributes\":{\"line_alpha\":{\"value\":0.1},\"line_color\":{\"value\":\"#1f77b4\"},\"line_dash\":[6],\"x\":{\"field\":\"x\"},\"y\":{\"field\":\"y\"}},\"id\":\"8f59ccf7-fe1f-4c24-be99-dd92d72fe626\",\"type\":\"Line\"},{\"attributes\":{\"data_source\":{\"id\":\"0ec7f050-4ec5-4dbd-9a8a-cf00d850484d\",\"type\":\"ColumnDataSource\"},\"glyph\":{\"id\":\"252958b4-9432-4fed-9e90-19c26957e2fe\",\"type\":\"Line\"},\"hover_glyph\":null,\"nonselection_glyph\":{\"id\":\"8f59ccf7-fe1f-4c24-be99-dd92d72fe626\",\"type\":\"Line\"},\"selection_glyph\":null},\"id\":\"e3810cdb-47b7-4e98-8235-81cbaed7faf5\",\"type\":\"GlyphRenderer\"},{\"attributes\":{\"callback\":null,\"column_names\":[\"x_values\",\"y_values\"],\"data\":{\"chart_index\":[{\"type\":\"Dropoff\"},{\"type\":\"Dropoff\"},{\"type\":\"Dropoff\"},{\"type\":\"Dropoff\"},{\"type\":\"Dropoff\"},{\"type\":\"Dropoff\"},{\"type\":\"Dropoff\"},{\"type\":\"Dropoff\"},{\"type\":\"Dropoff\"},{\"type\":\"Dropoff\"},{\"type\":\"Dropoff\"}],\"type\":[\"Dropoff\",\"Dropoff\",\"Dropoff\",\"Dropoff\",\"Dropoff\",\"Dropoff\",\"Dropoff\",\"Dropoff\",\"Dropoff\",\"Dropoff\",\"Dropoff\"],\"x_values\":{\"__ndarray__\":\"kU0D9qCTVkDWNV3+VRxRQANGnFcq30tAZvdfLCcxHUAuHi5L/LxHQNDzjJPZO0RAbWt69qmLI0DfqrSfrlU5QIy5asYKQ0NAQNZsdjgcVEAYn8UFoShQQA==\",\"dtype\":\"float64\",\"shape\":[11]},\"y_values\":{\"__ndarray__\":\"FpmScFt+VECL/nNYT0tPQNhaaBlm6VBAw43RJbwyVkAzlJSMkaI+QKaXB2Y2Q0dAhGBmGfJaT0AhU+BT+5JRQPRfUZmAcwhAgqn5L0PgVUD7gDkhxFQmQA==\",\"dtype\":\"float64\",\"shape\":[11]}}},\"id\":\"6c5e95c7-46bc-488d-81fe-894fe37c9d59\",\"type\":\"ColumnDataSource\"},{\"attributes\":{\"callback\":null,\"column_names\":[\"x\",\"y\"],\"data\":{\"x\":[11.404227063794403,36.30435533910963,30.01708654779448,47.47644939185953,64.63482803629847],\"y\":[91.72985638825892,81.57541682029955,62.212225348121066,30.635033403658053,11.16555885149909]}},\"id\":\"41a0fe6d-88b4-405d-b98d-0f89cd651aa2\",\"type\":\"ColumnDataSource\"},{\"attributes\":{\"callback\":null,\"column_names\":[\"x\",\"y\"],\"data\":{\"x\":[98.69050515943823,47.43773122742013,38.523766328918185],\"y\":[81.2020604585991,57.482089978758744,3.05639762668215]}},\"id\":\"004f42c5-921a-43d4-acdd-54214007e1a7\",\"type\":\"ColumnDataSource\"},{\"attributes\":{\"below\":[{\"id\":\"925dcab7-1a2a-42e6-b60b-6df0cb3e2d95\",\"type\":\"LinearAxis\"}],\"css_classes\":null,\"height\":600,\"left\":[{\"id\":\"621dd060-d58c-420e-8031-9dad17b8b4c5\",\"type\":\"LinearAxis\"}],\"renderers\":[{\"id\":\"d20be274-7257-4d52-8d76-7ebc2ede5d1b\",\"type\":\"BoxAnnotation\"},{\"id\":\"a146d397-9338-424c-b872-6a671a08026a\",\"type\":\"GlyphRenderer\"},{\"id\":\"760f6602-11e6-43b3-bb6b-471b5f062f6c\",\"type\":\"GlyphRenderer\"},{\"id\":\"403c1bc5-1639-49ac-9fc5-364cee925c4d\",\"type\":\"GlyphRenderer\"},{\"id\":\"9e13a84d-52c5-4d21-ba6b-a4b166f19745\",\"type\":\"Legend\"},{\"id\":\"925dcab7-1a2a-42e6-b60b-6df0cb3e2d95\",\"type\":\"LinearAxis\"},{\"id\":\"621dd060-d58c-420e-8031-9dad17b8b4c5\",\"type\":\"LinearAxis\"},{\"id\":\"f6181e13-1efc-4d78-96af-d091bf642d28\",\"type\":\"Grid\"},{\"id\":\"bf04b934-1b58-4362-8cdc-27620a4f8f34\",\"type\":\"Grid\"},{\"id\":\"192786e6-a129-4afe-b4c3-4f9e31cbebfe\",\"type\":\"GlyphRenderer\"},{\"id\":\"faf7ea4d-8095-4bb6-99de-e5a790470b6a\",\"type\":\"GlyphRenderer\"},{\"id\":\"6357d9b6-4a84-4f23-bb09-1949e8449066\",\"type\":\"GlyphRenderer\"},{\"id\":\"d430a296-8683-4b3e-b629-6cba5c1e6a5a\",\"type\":\"GlyphRenderer\"},{\"id\":\"3bb0eb2a-793e-46e4-a811-9e5ade39bd2c\",\"type\":\"GlyphRenderer\"},{\"id\":\"e3810cdb-47b7-4e98-8235-81cbaed7faf5\",\"type\":\"GlyphRenderer\"},{\"id\":\"b35052e6-f337-4e2d-a0a6-3e7fa5fc375b\",\"type\":\"GlyphRenderer\"}],\"title\":{\"id\":\"b28ad532-1dbd-4b7f-8be8-f9d539895160\",\"type\":\"Title\"},\"tool_events\":{\"id\":\"e8f02770-efe8-415d-b7bf-5132288649a0\",\"type\":\"ToolEvents\"},\"toolbar\":{\"id\":\"fd7f0b04-e4e2-417a-980e-ca8f1005f3e2\",\"type\":\"Toolbar\"},\"width\":600,\"x_mapper_type\":\"auto\",\"x_range\":{\"id\":\"e68a5f2c-c98f-41c8-8866-6045f9fd16b3\",\"type\":\"Range1d\"},\"y_mapper_type\":\"auto\",\"y_range\":{\"id\":\"e68a5f2c-c98f-41c8-8866-6045f9fd16b3\",\"type\":\"Range1d\"}},\"id\":\"b3823924-42d9-48eb-b393-5ceb0e0ac8fb\",\"subtype\":\"Chart\",\"type\":\"Plot\"},{\"attributes\":{\"line_alpha\":{\"value\":0.5},\"line_color\":{\"value\":\"grey\"},\"line_dash\":[6],\"x\":{\"field\":\"x\"},\"y\":{\"field\":\"y\"}},\"id\":\"2e0d1f8c-0a5b-4b24-9191-33efcd4af5c6\",\"type\":\"Line\"},{\"attributes\":{\"line_alpha\":{\"value\":0.1},\"line_color\":{\"value\":\"#1f77b4\"},\"line_dash\":[6],\"x\":{\"field\":\"x\"},\"y\":{\"field\":\"y\"}},\"id\":\"1fd0f237-e3e2-42fc-aa6b-95550efa7103\",\"type\":\"Line\"},{\"attributes\":{\"data_source\":{\"id\":\"004f42c5-921a-43d4-acdd-54214007e1a7\",\"type\":\"ColumnDataSource\"},\"glyph\":{\"id\":\"2e0d1f8c-0a5b-4b24-9191-33efcd4af5c6\",\"type\":\"Line\"},\"hover_glyph\":null,\"nonselection_glyph\":{\"id\":\"1fd0f237-e3e2-42fc-aa6b-95550efa7103\",\"type\":\"Line\"},\"selection_glyph\":null},\"id\":\"b35052e6-f337-4e2d-a0a6-3e7fa5fc375b\",\"type\":\"GlyphRenderer\"},{\"attributes\":{\"plot\":{\"id\":\"b3823924-42d9-48eb-b393-5ceb0e0ac8fb\",\"subtype\":\"Chart\",\"type\":\"Plot\"}},\"id\":\"f27b4b99-f0f4-4f5f-bf34-efff2184402c\",\"type\":\"WheelZoomTool\"},{\"attributes\":{\"fill_alpha\":{\"value\":0.7},\"fill_color\":{\"value\":\"#f22c40\"},\"line_color\":{\"value\":\"#f22c40\"},\"size\":{\"units\":\"screen\",\"value\":8},\"x\":{\"field\":\"x_values\"},\"y\":{\"field\":\"y_values\"}},\"id\":\"168238e6-6493-4824-acf1-7c397cb165fb\",\"type\":\"Circle\"},{\"attributes\":{\"plot\":{\"id\":\"b3823924-42d9-48eb-b393-5ceb0e0ac8fb\",\"subtype\":\"Chart\",\"type\":\"Plot\"},\"ticker\":{\"id\":\"71318c0b-3fbb-47e5-bd8c-d4b3210ba286\",\"type\":\"BasicTicker\"}},\"id\":\"f6181e13-1efc-4d78-96af-d091bf642d28\",\"type\":\"Grid\"},{\"attributes\":{\"label\":{\"value\":\"Pedicab\"},\"renderers\":[{\"id\":\"a146d397-9338-424c-b872-6a671a08026a\",\"type\":\"GlyphRenderer\"}]},\"id\":\"fca82550-1f3a-42e5-854b-440158f50eba\",\"type\":\"LegendItem\"},{\"attributes\":{\"label\":{\"value\":\"Dropoff\"},\"renderers\":[{\"id\":\"403c1bc5-1639-49ac-9fc5-364cee925c4d\",\"type\":\"GlyphRenderer\"}]},\"id\":\"871dd7db-00da-48c8-8502-1f20d86410f6\",\"type\":\"LegendItem\"},{\"attributes\":{\"label\":{\"value\":\"Pickup\"},\"renderers\":[{\"id\":\"760f6602-11e6-43b3-bb6b-471b5f062f6c\",\"type\":\"GlyphRenderer\"}]},\"id\":\"e16438e2-d3e5-48d8-804e-6a6e95de8c90\",\"type\":\"LegendItem\"},{\"attributes\":{\"plot\":null,\"text\":null},\"id\":\"b28ad532-1dbd-4b7f-8be8-f9d539895160\",\"type\":\"Title\"},{\"attributes\":{\"axis_label\":\"x\",\"formatter\":{\"id\":\"6e93fecc-bfff-4b87-bd85-f7e97ed592f8\",\"type\":\"BasicTickFormatter\"},\"plot\":{\"id\":\"b3823924-42d9-48eb-b393-5ceb0e0ac8fb\",\"subtype\":\"Chart\",\"type\":\"Plot\"},\"ticker\":{\"id\":\"71318c0b-3fbb-47e5-bd8c-d4b3210ba286\",\"type\":\"BasicTicker\"}},\"id\":\"925dcab7-1a2a-42e6-b60b-6df0cb3e2d95\",\"type\":\"LinearAxis\"},{\"attributes\":{\"data_source\":{\"id\":\"6c5e95c7-46bc-488d-81fe-894fe37c9d59\",\"type\":\"ColumnDataSource\"},\"glyph\":{\"id\":\"168238e6-6493-4824-acf1-7c397cb165fb\",\"type\":\"Circle\"},\"hover_glyph\":null,\"nonselection_glyph\":null,\"selection_glyph\":null},\"id\":\"403c1bc5-1639-49ac-9fc5-364cee925c4d\",\"type\":\"GlyphRenderer\"},{\"attributes\":{},\"id\":\"af60597c-6d6e-4404-b361-dbc9fdaa3734\",\"type\":\"BasicTicker\"},{\"attributes\":{\"dimension\":1,\"plot\":{\"id\":\"b3823924-42d9-48eb-b393-5ceb0e0ac8fb\",\"subtype\":\"Chart\",\"type\":\"Plot\"},\"ticker\":{\"id\":\"af60597c-6d6e-4404-b361-dbc9fdaa3734\",\"type\":\"BasicTicker\"}},\"id\":\"bf04b934-1b58-4362-8cdc-27620a4f8f34\",\"type\":\"Grid\"},{\"attributes\":{\"plot\":{\"id\":\"b3823924-42d9-48eb-b393-5ceb0e0ac8fb\",\"subtype\":\"Chart\",\"type\":\"Plot\"}},\"id\":\"eeda0331-c1c0-48b7-a06d-771ef17041e8\",\"type\":\"SaveTool\"},{\"attributes\":{\"line_alpha\":{\"value\":0.5},\"line_color\":{\"value\":\"grey\"},\"line_dash\":[6],\"x\":{\"field\":\"x\"},\"y\":{\"field\":\"y\"}},\"id\":\"483b6a86-296b-4723-a0c5-18a8a79809d5\",\"type\":\"Line\"},{\"attributes\":{\"plot\":{\"id\":\"b3823924-42d9-48eb-b393-5ceb0e0ac8fb\",\"subtype\":\"Chart\",\"type\":\"Plot\"}},\"id\":\"6d0ffbf9-914f-467b-8d78-8f78dc27533b\",\"type\":\"HelpTool\"},{\"attributes\":{\"line_alpha\":{\"value\":0.1},\"line_color\":{\"value\":\"#1f77b4\"},\"line_dash\":[6],\"x\":{\"field\":\"x\"},\"y\":{\"field\":\"y\"}},\"id\":\"de3a2f98-2ace-4c18-88ca-20aa5ef812d2\",\"type\":\"Line\"},{\"attributes\":{\"plot\":{\"id\":\"b3823924-42d9-48eb-b393-5ceb0e0ac8fb\",\"subtype\":\"Chart\",\"type\":\"Plot\"}},\"id\":\"89afa362-6aee-472e-a326-d9e8c5de4327\",\"type\":\"ResetTool\"},{\"attributes\":{\"overlay\":{\"id\":\"d20be274-7257-4d52-8d76-7ebc2ede5d1b\",\"type\":\"BoxAnnotation\"},\"plot\":{\"id\":\"b3823924-42d9-48eb-b393-5ceb0e0ac8fb\",\"subtype\":\"Chart\",\"type\":\"Plot\"}},\"id\":\"51b88ec5-d282-4ad4-953f-4ebdc2a8716f\",\"type\":\"BoxZoomTool\"},{\"attributes\":{\"callback\":null,\"end\":115,\"start\":-15},\"id\":\"e68a5f2c-c98f-41c8-8866-6045f9fd16b3\",\"type\":\"Range1d\"},{\"attributes\":{\"data_source\":{\"id\":\"717432de-3bfd-4210-aaf4-242693a15a42\",\"type\":\"ColumnDataSource\"},\"glyph\":{\"id\":\"b50474b1-413e-4f11-abf9-cf15246c908d\",\"type\":\"Line\"},\"hover_glyph\":null,\"nonselection_glyph\":{\"id\":\"de3a2f98-2ace-4c18-88ca-20aa5ef812d2\",\"type\":\"Line\"},\"selection_glyph\":null},\"id\":\"d430a296-8683-4b3e-b629-6cba5c1e6a5a\",\"type\":\"GlyphRenderer\"},{\"attributes\":{\"callback\":null,\"column_names\":[\"x\",\"y\"],\"data\":{\"x\":[62.74949138919593,30.11118723445332,68.65165236206843,68.4427486334092,55.74347968225995],\"y\":[16.826427825119296,27.661773897491905,38.6526214012872,62.588358933103414,67.64685664359001]}},\"id\":\"1bba4b36-31ab-405d-b134-7943030dcc9c\",\"type\":\"ColumnDataSource\"},{\"attributes\":{},\"id\":\"e8f02770-efe8-415d-b7bf-5132288649a0\",\"type\":\"ToolEvents\"},{\"attributes\":{\"plot\":{\"id\":\"b3823924-42d9-48eb-b393-5ceb0e0ac8fb\",\"subtype\":\"Chart\",\"type\":\"Plot\"}},\"id\":\"83d9fbd5-6186-4d89-9740-e71dcf53ada1\",\"type\":\"PanTool\"},{\"attributes\":{\"bottom_units\":\"screen\",\"fill_alpha\":{\"value\":0.5},\"fill_color\":{\"value\":\"lightgrey\"},\"left_units\":\"screen\",\"level\":\"overlay\",\"line_alpha\":{\"value\":1.0},\"line_color\":{\"value\":\"black\"},\"line_dash\":[4,4],\"line_width\":{\"value\":2},\"plot\":null,\"render_mode\":\"css\",\"right_units\":\"screen\",\"top_units\":\"screen\"},\"id\":\"d20be274-7257-4d52-8d76-7ebc2ede5d1b\",\"type\":\"BoxAnnotation\"},{\"attributes\":{\"line_alpha\":{\"value\":0.5},\"line_color\":{\"value\":\"grey\"},\"line_dash\":[6],\"x\":{\"field\":\"x\"},\"y\":{\"field\":\"y\"}},\"id\":\"8c3ec868-9c36-4e17-b451-043dae79488a\",\"type\":\"Line\"},{\"attributes\":{\"line_alpha\":{\"value\":0.1},\"line_color\":{\"value\":\"#1f77b4\"},\"line_dash\":[6],\"x\":{\"field\":\"x\"},\"y\":{\"field\":\"y\"}},\"id\":\"f797d02a-d2bb-40cf-941c-4b74d0960930\",\"type\":\"Line\"},{\"attributes\":{\"fill_alpha\":{\"value\":0.7},\"fill_color\":{\"value\":\"#5ab738\"},\"line_color\":{\"value\":\"#5ab738\"},\"size\":{\"units\":\"screen\",\"value\":8},\"x\":{\"field\":\"x_values\"},\"y\":{\"field\":\"y_values\"}},\"id\":\"c0e7d43f-1d7f-486b-9575-aa364426c30f\",\"type\":\"Square\"},{\"attributes\":{\"callback\":null,\"column_names\":[\"x\",\"y\"],\"data\":{\"x\":[78.28757454165242,31.549619406524787,25.334695798500316],\"y\":[19.637148825171025,11.659373624266467,70.2965898218795]}},\"id\":\"c8f9ed7d-1fb4-4771-9bda-3b05c23adc10\",\"type\":\"ColumnDataSource\"},{\"attributes\":{\"callback\":null,\"column_names\":[\"x_values\",\"y_values\"],\"data\":{\"chart_index\":[{\"type\":\"Pedicab\"},{\"type\":\"Pedicab\"},{\"type\":\"Pedicab\"},{\"type\":\"Pedicab\"},{\"type\":\"Pedicab\"},{\"type\":\"Pedicab\"},{\"type\":\"Pedicab\"}],\"type\":[\"Pedicab\",\"Pedicab\",\"Pedicab\",\"Pedicab\",\"Pedicab\",\"Pedicab\",\"Pedicab\"],\"x_values\":{\"__ndarray__\":\"dZ12Ve9fT0DM4wyfZ5JTQELWpcKRVFJAJamX//aUQ0BlT4bZ9s4mQMgurCAQTeY/amCNPDGsWEA=\",\"dtype\":\"float64\",\"shape\":[7]},\"y_values\":{\"__ndarray__\":\"TGQhxpDTMEBcy3YvHKMzQGvIVtll9khANDDr+walMEBSlpH3te5WQG65o5uG0k9A3l/9ju5MVEA=\",\"dtype\":\"float64\",\"shape\":[7]}}},\"id\":\"05af8318-11c5-4b17-8158-35f56a0eceef\",\"type\":\"ColumnDataSource\"},{\"attributes\":{},\"id\":\"6e93fecc-bfff-4b87-bd85-f7e97ed592f8\",\"type\":\"BasicTickFormatter\"},{\"attributes\":{\"data_source\":{\"id\":\"1bba4b36-31ab-405d-b134-7943030dcc9c\",\"type\":\"ColumnDataSource\"},\"glyph\":{\"id\":\"8c3ec868-9c36-4e17-b451-043dae79488a\",\"type\":\"Line\"},\"hover_glyph\":null,\"nonselection_glyph\":{\"id\":\"f797d02a-d2bb-40cf-941c-4b74d0960930\",\"type\":\"Line\"},\"selection_glyph\":null},\"id\":\"192786e6-a129-4afe-b4c3-4f9e31cbebfe\",\"type\":\"GlyphRenderer\"},{\"attributes\":{\"data_source\":{\"id\":\"05af8318-11c5-4b17-8158-35f56a0eceef\",\"type\":\"ColumnDataSource\"},\"glyph\":{\"id\":\"c0e7d43f-1d7f-486b-9575-aa364426c30f\",\"type\":\"Square\"},\"hover_glyph\":null,\"nonselection_glyph\":null,\"selection_glyph\":null},\"id\":\"a146d397-9338-424c-b872-6a671a08026a\",\"type\":\"GlyphRenderer\"},{\"attributes\":{\"line_alpha\":{\"value\":0.5},\"line_color\":{\"value\":\"grey\"},\"line_dash\":[6],\"x\":{\"field\":\"x\"},\"y\":{\"field\":\"y\"}},\"id\":\"4dca9b9c-a283-49f6-a888-3ee9e2a96608\",\"type\":\"Line\"},{\"attributes\":{\"fill_alpha\":{\"value\":0.7},\"fill_color\":{\"value\":\"#407ee7\"},\"line_color\":{\"value\":\"#407ee7\"},\"size\":{\"units\":\"screen\",\"value\":8},\"x\":{\"field\":\"x_values\"},\"y\":{\"field\":\"y_values\"}},\"id\":\"1a8b469d-129c-48a4-a526-649d5beb19b9\",\"type\":\"Triangle\"},{\"attributes\":{\"callback\":null,\"column_names\":[\"x_values\",\"y_values\"],\"data\":{\"chart_index\":[{\"type\":\"Pickup\"},{\"type\":\"Pickup\"},{\"type\":\"Pickup\"},{\"type\":\"Pickup\"},{\"type\":\"Pickup\"},{\"type\":\"Pickup\"},{\"type\":\"Pickup\"},{\"type\":\"Pickup\"},{\"type\":\"Pickup\"},{\"type\":\"Pickup\"},{\"type\":\"Pickup\"}],\"type\":[\"Pickup\",\"Pickup\",\"Pickup\",\"Pickup\",\"Pickup\",\"Pickup\",\"Pickup\",\"Pickup\",\"Pickup\",\"Pickup\",\"Pickup\"],\"x_values\":{\"__ndarray__\":\"TGTH9ryaUkB83BustClRQK61P8R2HD5A4APBFHlsQkCV+rPIXwQ+QHt/4F2pNVVAOOnQ/220PEBZRYDbs4w/QIwarZMHuEdAMnQUtePBOEBf66Ed9SZCQA==\",\"dtype\":\"float64\",\"shape\":[11]},\"y_values\":{\"__ndarray__\":\"ulLmpA4vR0BfmRsZiVNDQP4SnwNqqTtAalXfXGMwVED2x0AzKhtPQOBUQuK1eFZABkAah+TOVECRI3BrmVEnQMM/2h+1vUxAWay7f9lkIkBQMBKh02RUQA==\",\"dtype\":\"float64\",\"shape\":[11]}}},\"id\":\"5d227ee0-3541-404d-acd3-0cb9ae8efed5\",\"type\":\"ColumnDataSource\"},{\"attributes\":{\"data_source\":{\"id\":\"c8f9ed7d-1fb4-4771-9bda-3b05c23adc10\",\"type\":\"ColumnDataSource\"},\"glyph\":{\"id\":\"4dca9b9c-a283-49f6-a888-3ee9e2a96608\",\"type\":\"Line\"},\"hover_glyph\":null,\"nonselection_glyph\":{\"id\":\"af790c49-d3fb-4e88-8d2e-667848c4509f\",\"type\":\"Line\"},\"selection_glyph\":null},\"id\":\"faf7ea4d-8095-4bb6-99de-e5a790470b6a\",\"type\":\"GlyphRenderer\"},{\"attributes\":{\"line_alpha\":{\"value\":0.1},\"line_color\":{\"value\":\"#1f77b4\"},\"line_dash\":[6],\"x\":{\"field\":\"x\"},\"y\":{\"field\":\"y\"}},\"id\":\"d2012771-b82a-41b9-91a1-207bf75cbf94\",\"type\":\"Line\"},{\"attributes\":{},\"id\":\"1b346b81-6e4d-4482-b92e-441f3470ec80\",\"type\":\"BasicTickFormatter\"},{\"attributes\":{\"active_drag\":\"auto\",\"active_scroll\":\"auto\",\"active_tap\":\"auto\",\"tools\":[{\"id\":\"83d9fbd5-6186-4d89-9740-e71dcf53ada1\",\"type\":\"PanTool\"},{\"id\":\"f27b4b99-f0f4-4f5f-bf34-efff2184402c\",\"type\":\"WheelZoomTool\"},{\"id\":\"51b88ec5-d282-4ad4-953f-4ebdc2a8716f\",\"type\":\"BoxZoomTool\"},{\"id\":\"eeda0331-c1c0-48b7-a06d-771ef17041e8\",\"type\":\"SaveTool\"},{\"id\":\"89afa362-6aee-472e-a326-d9e8c5de4327\",\"type\":\"ResetTool\"},{\"id\":\"6d0ffbf9-914f-467b-8d78-8f78dc27533b\",\"type\":\"HelpTool\"}]},\"id\":\"fd7f0b04-e4e2-417a-980e-ca8f1005f3e2\",\"type\":\"Toolbar\"},{\"attributes\":{\"data_source\":{\"id\":\"5d227ee0-3541-404d-acd3-0cb9ae8efed5\",\"type\":\"ColumnDataSource\"},\"glyph\":{\"id\":\"1a8b469d-129c-48a4-a526-649d5beb19b9\",\"type\":\"Triangle\"},\"hover_glyph\":null,\"nonselection_glyph\":null,\"selection_glyph\":null},\"id\":\"760f6602-11e6-43b3-bb6b-471b5f062f6c\",\"type\":\"GlyphRenderer\"},{\"attributes\":{\"items\":[{\"id\":\"fca82550-1f3a-42e5-854b-440158f50eba\",\"type\":\"LegendItem\"},{\"id\":\"e16438e2-d3e5-48d8-804e-6a6e95de8c90\",\"type\":\"LegendItem\"},{\"id\":\"871dd7db-00da-48c8-8502-1f20d86410f6\",\"type\":\"LegendItem\"}],\"location\":\"top_left\",\"orientation\":\"horizontal\",\"plot\":{\"id\":\"b3823924-42d9-48eb-b393-5ceb0e0ac8fb\",\"subtype\":\"Chart\",\"type\":\"Plot\"}},\"id\":\"9e13a84d-52c5-4d21-ba6b-a4b166f19745\",\"type\":\"Legend\"},{\"attributes\":{\"data_source\":{\"id\":\"5a2684ff-08d9-4f1e-b1cd-739fb0bfa962\",\"type\":\"ColumnDataSource\"},\"glyph\":{\"id\":\"483b6a86-296b-4723-a0c5-18a8a79809d5\",\"type\":\"Line\"},\"hover_glyph\":null,\"nonselection_glyph\":{\"id\":\"d2012771-b82a-41b9-91a1-207bf75cbf94\",\"type\":\"Line\"},\"selection_glyph\":null},\"id\":\"6357d9b6-4a84-4f23-bb09-1949e8449066\",\"type\":\"GlyphRenderer\"},{\"attributes\":{\"line_alpha\":{\"value\":0.1},\"line_color\":{\"value\":\"#1f77b4\"},\"line_dash\":[6],\"x\":{\"field\":\"x\"},\"y\":{\"field\":\"y\"}},\"id\":\"af790c49-d3fb-4e88-8d2e-667848c4509f\",\"type\":\"Line\"},{\"attributes\":{\"callback\":null,\"column_names\":[\"x\",\"y\"],\"data\":{\"x\":[73.32139650530829,74.41778344604353,90.30669927904661,84.83846232341413,40.46757740385476],\"y\":[49.924983184217886,46.36763440366981,81.97433103862963,89.88610130765619,46.52509761210176]}},\"id\":\"5a2684ff-08d9-4f1e-b1cd-739fb0bfa962\",\"type\":\"ColumnDataSource\"}],\"root_ids\":[\"b3823924-42d9-48eb-b393-5ceb0e0ac8fb\"]},\"title\":\"Bokeh Application\",\"version\":\"0.12.4\"}};\n",
       "            var render_items = [{\"docid\":\"40cb2c7d-d821-44d4-9c85-7a9e1ba04867\",\"elementid\":\"a7e633f1-36dc-4264-85ce-f909fab4c124\",\"modelid\":\"b3823924-42d9-48eb-b393-5ceb0e0ac8fb\"}];\n",
       "            \n",
       "            Bokeh.embed.embed_items(docs_json, render_items);\n",
       "          };\n",
       "          if (document.readyState != \"loading\") fn();\n",
       "          else document.addEventListener(\"DOMContentLoaded\", fn);\n",
       "        })();\n",
       "      },\n",
       "      function(Bokeh) {\n",
       "      }\n",
       "    ];\n",
       "  \n",
       "    function run_inline_js() {\n",
       "      \n",
       "      if ((window.Bokeh !== undefined) || (force === true)) {\n",
       "        for (var i = 0; i < inline_js.length; i++) {\n",
       "          inline_js[i](window.Bokeh);\n",
       "        }if (force === true) {\n",
       "          display_loaded();\n",
       "        }} else if (Date.now() < window._bokeh_timeout) {\n",
       "        setTimeout(run_inline_js, 100);\n",
       "      } else if (!window._bokeh_failed_load) {\n",
       "        console.log(\"Bokeh: BokehJS failed to load within specified timeout.\");\n",
       "        window._bokeh_failed_load = true;\n",
       "      } else if (force !== true) {\n",
       "        var cell = $(document.getElementById(\"a7e633f1-36dc-4264-85ce-f909fab4c124\")).parents('.cell').data().cell;\n",
       "        cell.output_area.append_execute_result(NB_LOAD_WARNING)\n",
       "      }\n",
       "  \n",
       "    }\n",
       "  \n",
       "    if (window._bokeh_is_loading === 0) {\n",
       "      console.log(\"Bokeh: BokehJS loaded, going straight to plotting\");\n",
       "      run_inline_js();\n",
       "    } else {\n",
       "      load_libs(js_urls, function() {\n",
       "        console.log(\"Bokeh: BokehJS plotting callback run at\", now());\n",
       "        run_inline_js();\n",
       "      });\n",
       "    }\n",
       "  }(this));\n",
       "</script>"
      ]
     },
     "metadata": {},
     "output_type": "display_data"
    }
   ],
   "source": [
    "plot_routes()"
   ]
  },
  {
   "cell_type": "code",
   "execution_count": 115,
   "metadata": {
    "collapsed": false
   },
   "outputs": [
    {
     "name": "stdout",
     "output_type": "stream",
     "text": [
      "total cost: 649.28592\n",
      "max route length: 114.62874\n"
     ]
    }
   ],
   "source": [
    "# Only willing to accept 10% degradation in global optimality\n",
    "prm += z <= best_total_cost * 1.1\n",
    "assert prm.solve() == pulp.LpStatusOptimal\n",
    "\n",
    "print('total cost:', z.value())\n",
    "print('max route length:', z2.value())"
   ]
  },
  {
   "cell_type": "code",
   "execution_count": 116,
   "metadata": {
    "collapsed": false
   },
   "outputs": [
    {
     "data": {
      "text/html": [
       "\n",
       "\n",
       "    <div class=\"bk-root\">\n",
       "        <div class=\"bk-plotdiv\" id=\"77f796c9-6d83-459a-b64d-844019385a96\"></div>\n",
       "    </div>\n",
       "<script type=\"text/javascript\">\n",
       "  \n",
       "  (function(global) {\n",
       "    function now() {\n",
       "      return new Date();\n",
       "    }\n",
       "  \n",
       "    var force = false;\n",
       "  \n",
       "    if (typeof (window._bokeh_onload_callbacks) === \"undefined\" || force === true) {\n",
       "      window._bokeh_onload_callbacks = [];\n",
       "      window._bokeh_is_loading = undefined;\n",
       "    }\n",
       "  \n",
       "  \n",
       "    \n",
       "    if (typeof (window._bokeh_timeout) === \"undefined\" || force === true) {\n",
       "      window._bokeh_timeout = Date.now() + 0;\n",
       "      window._bokeh_failed_load = false;\n",
       "    }\n",
       "  \n",
       "    var NB_LOAD_WARNING = {'data': {'text/html':\n",
       "       \"<div style='background-color: #fdd'>\\n\"+\n",
       "       \"<p>\\n\"+\n",
       "       \"BokehJS does not appear to have successfully loaded. If loading BokehJS from CDN, this \\n\"+\n",
       "       \"may be due to a slow or bad network connection. Possible fixes:\\n\"+\n",
       "       \"</p>\\n\"+\n",
       "       \"<ul>\\n\"+\n",
       "       \"<li>re-rerun `output_notebook()` to attempt to load from CDN again, or</li>\\n\"+\n",
       "       \"<li>use INLINE resources instead, as so:</li>\\n\"+\n",
       "       \"</ul>\\n\"+\n",
       "       \"<code>\\n\"+\n",
       "       \"from bokeh.resources import INLINE\\n\"+\n",
       "       \"output_notebook(resources=INLINE)\\n\"+\n",
       "       \"</code>\\n\"+\n",
       "       \"</div>\"}};\n",
       "  \n",
       "    function display_loaded() {\n",
       "      if (window.Bokeh !== undefined) {\n",
       "        document.getElementById(\"77f796c9-6d83-459a-b64d-844019385a96\").textContent = \"BokehJS successfully loaded.\";\n",
       "      } else if (Date.now() < window._bokeh_timeout) {\n",
       "        setTimeout(display_loaded, 100)\n",
       "      }\n",
       "    }\n",
       "  \n",
       "    function run_callbacks() {\n",
       "      window._bokeh_onload_callbacks.forEach(function(callback) { callback() });\n",
       "      delete window._bokeh_onload_callbacks\n",
       "      console.info(\"Bokeh: all callbacks have finished\");\n",
       "    }\n",
       "  \n",
       "    function load_libs(js_urls, callback) {\n",
       "      window._bokeh_onload_callbacks.push(callback);\n",
       "      if (window._bokeh_is_loading > 0) {\n",
       "        console.log(\"Bokeh: BokehJS is being loaded, scheduling callback at\", now());\n",
       "        return null;\n",
       "      }\n",
       "      if (js_urls == null || js_urls.length === 0) {\n",
       "        run_callbacks();\n",
       "        return null;\n",
       "      }\n",
       "      console.log(\"Bokeh: BokehJS not loaded, scheduling load and callback at\", now());\n",
       "      window._bokeh_is_loading = js_urls.length;\n",
       "      for (var i = 0; i < js_urls.length; i++) {\n",
       "        var url = js_urls[i];\n",
       "        var s = document.createElement('script');\n",
       "        s.src = url;\n",
       "        s.async = false;\n",
       "        s.onreadystatechange = s.onload = function() {\n",
       "          window._bokeh_is_loading--;\n",
       "          if (window._bokeh_is_loading === 0) {\n",
       "            console.log(\"Bokeh: all BokehJS libraries loaded\");\n",
       "            run_callbacks()\n",
       "          }\n",
       "        };\n",
       "        s.onerror = function() {\n",
       "          console.warn(\"failed to load library \" + url);\n",
       "        };\n",
       "        console.log(\"Bokeh: injecting script tag for BokehJS library: \", url);\n",
       "        document.getElementsByTagName(\"head\")[0].appendChild(s);\n",
       "      }\n",
       "    };var element = document.getElementById(\"77f796c9-6d83-459a-b64d-844019385a96\");\n",
       "    if (element == null) {\n",
       "      console.log(\"Bokeh: ERROR: autoload.js configured with elementid '77f796c9-6d83-459a-b64d-844019385a96' but no matching script tag was found. \")\n",
       "      return false;\n",
       "    }\n",
       "  \n",
       "    var js_urls = [];\n",
       "  \n",
       "    var inline_js = [\n",
       "      function(Bokeh) {\n",
       "        (function() {\n",
       "          var fn = function() {\n",
       "            var docs_json = {\"37eb5611-6fe8-4230-9aab-ed6e2ae3f567\":{\"roots\":{\"references\":[{\"attributes\":{\"line_alpha\":{\"value\":0.1},\"line_color\":{\"value\":\"#1f77b4\"},\"line_dash\":[6],\"x\":{\"field\":\"x\"},\"y\":{\"field\":\"y\"}},\"id\":\"58fe5905-7067-43ed-a5bd-3bfdb09f1d60\",\"type\":\"Line\"},{\"attributes\":{\"line_alpha\":{\"value\":0.1},\"line_color\":{\"value\":\"#1f77b4\"},\"line_dash\":[6],\"x\":{\"field\":\"x\"},\"y\":{\"field\":\"y\"}},\"id\":\"5629ee17-7e79-4931-8fb5-1671b58827b3\",\"type\":\"Line\"},{\"attributes\":{\"fill_alpha\":{\"value\":0.7},\"fill_color\":{\"value\":\"#5ab738\"},\"line_color\":{\"value\":\"#5ab738\"},\"size\":{\"units\":\"screen\",\"value\":8},\"x\":{\"field\":\"x_values\"},\"y\":{\"field\":\"y_values\"}},\"id\":\"8e231ad1-7772-422d-87a4-bad0411e55d5\",\"type\":\"Square\"},{\"attributes\":{\"callback\":null,\"column_names\":[\"x_values\",\"y_values\"],\"data\":{\"chart_index\":[{\"type\":\"Pedicab\"},{\"type\":\"Pedicab\"},{\"type\":\"Pedicab\"},{\"type\":\"Pedicab\"},{\"type\":\"Pedicab\"},{\"type\":\"Pedicab\"},{\"type\":\"Pedicab\"}],\"type\":[\"Pedicab\",\"Pedicab\",\"Pedicab\",\"Pedicab\",\"Pedicab\",\"Pedicab\",\"Pedicab\"],\"x_values\":{\"__ndarray__\":\"dZ12Ve9fT0DM4wyfZ5JTQELWpcKRVFJAJamX//aUQ0BlT4bZ9s4mQMgurCAQTeY/amCNPDGsWEA=\",\"dtype\":\"float64\",\"shape\":[7]},\"y_values\":{\"__ndarray__\":\"TGQhxpDTMEBcy3YvHKMzQGvIVtll9khANDDr+walMEBSlpH3te5WQG65o5uG0k9A3l/9ju5MVEA=\",\"dtype\":\"float64\",\"shape\":[7]}}},\"id\":\"d322112c-03f0-470a-84e0-ec41d0bd370b\",\"type\":\"ColumnDataSource\"},{\"attributes\":{\"callback\":null,\"column_names\":[\"x\",\"y\"],\"data\":{\"x\":[39.16378779321011,24.757380788320184,30.11118723445332,55.74347968225995,80.44094620350461],\"y\":[16.644637818259255,9.196971885356264,27.661773897491905,67.64685664359001,87.50410079365795]}},\"id\":\"580a0636-6788-4ece-8b3c-ec8dfc69cb02\",\"type\":\"ColumnDataSource\"},{\"attributes\":{\"data_source\":{\"id\":\"ae22a6ef-5d19-4c29-adaa-cfe99940800d\",\"type\":\"ColumnDataSource\"},\"glyph\":{\"id\":\"48a50786-5e40-4b71-bb5d-04be40c02377\",\"type\":\"Line\"},\"hover_glyph\":null,\"nonselection_glyph\":{\"id\":\"5629ee17-7e79-4931-8fb5-1671b58827b3\",\"type\":\"Line\"},\"selection_glyph\":null},\"id\":\"97e9fae3-6a3a-4e0b-b540-ce107dd55450\",\"type\":\"GlyphRenderer\"},{\"attributes\":{\"data_source\":{\"id\":\"d322112c-03f0-470a-84e0-ec41d0bd370b\",\"type\":\"ColumnDataSource\"},\"glyph\":{\"id\":\"8e231ad1-7772-422d-87a4-bad0411e55d5\",\"type\":\"Square\"},\"hover_glyph\":null,\"nonselection_glyph\":null,\"selection_glyph\":null},\"id\":\"682f7d3d-02fd-49f2-b0c8-3971f14a6949\",\"type\":\"GlyphRenderer\"},{\"attributes\":{},\"id\":\"577391d8-90f5-4fb3-85a5-d2f3d173dd58\",\"type\":\"BasicTicker\"},{\"attributes\":{},\"id\":\"93ade024-d578-4cdb-ac0c-9e51f812ff4b\",\"type\":\"BasicTicker\"},{\"attributes\":{},\"id\":\"cc58a058-dd25-4ffe-a842-5cbae5345a8c\",\"type\":\"ToolEvents\"},{\"attributes\":{\"line_alpha\":{\"value\":0.5},\"line_color\":{\"value\":\"grey\"},\"line_dash\":[6],\"x\":{\"field\":\"x\"},\"y\":{\"field\":\"y\"}},\"id\":\"43d27372-d32b-4de5-9e76-b06ca046db88\",\"type\":\"Line\"},{\"attributes\":{\"fill_alpha\":{\"value\":0.7},\"fill_color\":{\"value\":\"#407ee7\"},\"line_color\":{\"value\":\"#407ee7\"},\"size\":{\"units\":\"screen\",\"value\":8},\"x\":{\"field\":\"x_values\"},\"y\":{\"field\":\"y_values\"}},\"id\":\"6ec9d461-1025-4c98-9313-6e3a571addfa\",\"type\":\"Triangle\"},{\"attributes\":{\"line_alpha\":{\"value\":0.1},\"line_color\":{\"value\":\"#1f77b4\"},\"line_dash\":[6],\"x\":{\"field\":\"x\"},\"y\":{\"field\":\"y\"}},\"id\":\"1278e3f2-5477-4ff9-b8f0-a217d964b14e\",\"type\":\"Line\"},{\"attributes\":{\"data_source\":{\"id\":\"ac4b1159-9779-4f09-9630-0a77ec33104d\",\"type\":\"ColumnDataSource\"},\"glyph\":{\"id\":\"6ec9d461-1025-4c98-9313-6e3a571addfa\",\"type\":\"Triangle\"},\"hover_glyph\":null,\"nonselection_glyph\":null,\"selection_glyph\":null},\"id\":\"0c44813c-5183-4435-88b9-aea6eb9ae569\",\"type\":\"GlyphRenderer\"},{\"attributes\":{\"data_source\":{\"id\":\"580a0636-6788-4ece-8b3c-ec8dfc69cb02\",\"type\":\"ColumnDataSource\"},\"glyph\":{\"id\":\"43d27372-d32b-4de5-9e76-b06ca046db88\",\"type\":\"Line\"},\"hover_glyph\":null,\"nonselection_glyph\":{\"id\":\"15be764f-3fc9-44e5-a704-3b30eec60ea5\",\"type\":\"Line\"},\"selection_glyph\":null},\"id\":\"bbb1c76c-90c4-420b-a8bf-e000dc5de307\",\"type\":\"GlyphRenderer\"},{\"attributes\":{\"data_source\":{\"id\":\"0ed112e9-3b61-489c-acd1-6eeb4088688d\",\"type\":\"ColumnDataSource\"},\"glyph\":{\"id\":\"591169d7-f597-43b8-87f1-aa0109cc6cb6\",\"type\":\"Circle\"},\"hover_glyph\":null,\"nonselection_glyph\":null,\"selection_glyph\":null},\"id\":\"533f5b98-508e-4368-a694-8d4eb94597a7\",\"type\":\"GlyphRenderer\"},{\"attributes\":{\"callback\":null,\"column_names\":[\"x_values\",\"y_values\"],\"data\":{\"chart_index\":[{\"type\":\"Dropoff\"},{\"type\":\"Dropoff\"},{\"type\":\"Dropoff\"},{\"type\":\"Dropoff\"},{\"type\":\"Dropoff\"},{\"type\":\"Dropoff\"},{\"type\":\"Dropoff\"},{\"type\":\"Dropoff\"},{\"type\":\"Dropoff\"},{\"type\":\"Dropoff\"},{\"type\":\"Dropoff\"}],\"type\":[\"Dropoff\",\"Dropoff\",\"Dropoff\",\"Dropoff\",\"Dropoff\",\"Dropoff\",\"Dropoff\",\"Dropoff\",\"Dropoff\",\"Dropoff\",\"Dropoff\"],\"x_values\":{\"__ndarray__\":\"kU0D9qCTVkDWNV3+VRxRQANGnFcq30tAZvdfLCcxHUAuHi5L/LxHQNDzjJPZO0RAbWt69qmLI0DfqrSfrlU5QIy5asYKQ0NAQNZsdjgcVEAYn8UFoShQQA==\",\"dtype\":\"float64\",\"shape\":[11]},\"y_values\":{\"__ndarray__\":\"FpmScFt+VECL/nNYT0tPQNhaaBlm6VBAw43RJbwyVkAzlJSMkaI+QKaXB2Y2Q0dAhGBmGfJaT0AhU+BT+5JRQPRfUZmAcwhAgqn5L0PgVUD7gDkhxFQmQA==\",\"dtype\":\"float64\",\"shape\":[11]}}},\"id\":\"0ed112e9-3b61-489c-acd1-6eeb4088688d\",\"type\":\"ColumnDataSource\"},{\"attributes\":{\"callback\":null,\"column_names\":[\"x\",\"y\"],\"data\":{\"x\":[73.32139650530829,47.43773122742013,38.523766328918185],\"y\":[49.924983184217886,57.482089978758744,3.05639762668215]}},\"id\":\"ae22a6ef-5d19-4c29-adaa-cfe99940800d\",\"type\":\"ColumnDataSource\"},{\"attributes\":{\"data_source\":{\"id\":\"0fc6a443-97df-412b-a3c7-f2a73c52fce6\",\"type\":\"ColumnDataSource\"},\"glyph\":{\"id\":\"028baec2-fcf1-463c-a52a-a72f1cfb1d8c\",\"type\":\"Line\"},\"hover_glyph\":null,\"nonselection_glyph\":{\"id\":\"8665848a-5d50-4474-9103-e784b0ef968e\",\"type\":\"Line\"},\"selection_glyph\":null},\"id\":\"775a4328-dbf2-4319-b450-1d87520910e6\",\"type\":\"GlyphRenderer\"},{\"attributes\":{\"callback\":null,\"column_names\":[\"x\",\"y\"],\"data\":{\"x\":[62.74949138919593,31.549619406524787,25.334695798500316],\"y\":[16.826427825119296,11.659373624266467,70.2965898218795]}},\"id\":\"d977bad2-485f-4f04-8458-9615665a6090\",\"type\":\"ColumnDataSource\"},{\"attributes\":{\"callback\":null,\"end\":115,\"start\":-15},\"id\":\"71e1d740-fe86-48e2-8555-054cf7d6bc0e\",\"type\":\"Range1d\"},{\"attributes\":{\"line_alpha\":{\"value\":0.5},\"line_color\":{\"value\":\"grey\"},\"line_dash\":[6],\"x\":{\"field\":\"x\"},\"y\":{\"field\":\"y\"}},\"id\":\"48a50786-5e40-4b71-bb5d-04be40c02377\",\"type\":\"Line\"},{\"attributes\":{\"axis_label\":\"x\",\"formatter\":{\"id\":\"8581a85c-ae47-4d75-b9bb-a0377bd01b4c\",\"type\":\"BasicTickFormatter\"},\"plot\":{\"id\":\"e751e41d-9cef-4bc7-8126-2be4a28a17c8\",\"subtype\":\"Chart\",\"type\":\"Plot\"},\"ticker\":{\"id\":\"577391d8-90f5-4fb3-85a5-d2f3d173dd58\",\"type\":\"BasicTicker\"}},\"id\":\"360e37ae-75b9-4f90-8525-b4ed9f320579\",\"type\":\"LinearAxis\"},{\"attributes\":{\"line_alpha\":{\"value\":0.5},\"line_color\":{\"value\":\"grey\"},\"line_dash\":[6],\"x\":{\"field\":\"x\"},\"y\":{\"field\":\"y\"}},\"id\":\"c9ec3739-1020-4241-bb9a-e0046ecfeed4\",\"type\":\"Line\"},{\"attributes\":{\"line_alpha\":{\"value\":0.1},\"line_color\":{\"value\":\"#1f77b4\"},\"line_dash\":[6],\"x\":{\"field\":\"x\"},\"y\":{\"field\":\"y\"}},\"id\":\"bcc59171-7814-4857-a3e2-872d32348d7a\",\"type\":\"Line\"},{\"attributes\":{\"below\":[{\"id\":\"360e37ae-75b9-4f90-8525-b4ed9f320579\",\"type\":\"LinearAxis\"}],\"css_classes\":null,\"height\":600,\"left\":[{\"id\":\"0ca7361c-cbf3-4d25-a050-71c7a99ad249\",\"type\":\"LinearAxis\"}],\"renderers\":[{\"id\":\"86cdd362-c7bd-4921-8149-30b5f25fe5e1\",\"type\":\"BoxAnnotation\"},{\"id\":\"682f7d3d-02fd-49f2-b0c8-3971f14a6949\",\"type\":\"GlyphRenderer\"},{\"id\":\"0c44813c-5183-4435-88b9-aea6eb9ae569\",\"type\":\"GlyphRenderer\"},{\"id\":\"533f5b98-508e-4368-a694-8d4eb94597a7\",\"type\":\"GlyphRenderer\"},{\"id\":\"143a3f32-4d31-4724-b690-80b718fc1b76\",\"type\":\"Legend\"},{\"id\":\"360e37ae-75b9-4f90-8525-b4ed9f320579\",\"type\":\"LinearAxis\"},{\"id\":\"0ca7361c-cbf3-4d25-a050-71c7a99ad249\",\"type\":\"LinearAxis\"},{\"id\":\"8d8cb00b-83a5-4e7e-b2a9-50c90d42994c\",\"type\":\"Grid\"},{\"id\":\"b3eb9c40-0f75-496a-a7c8-fcf53b96591f\",\"type\":\"Grid\"},{\"id\":\"b4513726-e5c6-4798-8f87-aba5e834c866\",\"type\":\"GlyphRenderer\"},{\"id\":\"06a3d77d-b2a9-4005-9f44-dcb1f1aed8d5\",\"type\":\"GlyphRenderer\"},{\"id\":\"97e9fae3-6a3a-4e0b-b540-ce107dd55450\",\"type\":\"GlyphRenderer\"},{\"id\":\"bbb1c76c-90c4-420b-a8bf-e000dc5de307\",\"type\":\"GlyphRenderer\"},{\"id\":\"d1475b24-4d26-4d16-b661-79825d9b3281\",\"type\":\"GlyphRenderer\"},{\"id\":\"5f4c6a3f-8da4-47c9-a03f-3ee686bd71bb\",\"type\":\"GlyphRenderer\"},{\"id\":\"775a4328-dbf2-4319-b450-1d87520910e6\",\"type\":\"GlyphRenderer\"}],\"title\":{\"id\":\"7f0e9040-b65e-4393-a148-293d3b801d33\",\"type\":\"Title\"},\"tool_events\":{\"id\":\"cc58a058-dd25-4ffe-a842-5cbae5345a8c\",\"type\":\"ToolEvents\"},\"toolbar\":{\"id\":\"f89a3efc-b6bb-456f-b1cd-c2f696e63b1e\",\"type\":\"Toolbar\"},\"width\":600,\"x_mapper_type\":\"auto\",\"x_range\":{\"id\":\"71e1d740-fe86-48e2-8555-054cf7d6bc0e\",\"type\":\"Range1d\"},\"y_mapper_type\":\"auto\",\"y_range\":{\"id\":\"71e1d740-fe86-48e2-8555-054cf7d6bc0e\",\"type\":\"Range1d\"}},\"id\":\"e751e41d-9cef-4bc7-8126-2be4a28a17c8\",\"subtype\":\"Chart\",\"type\":\"Plot\"},{\"attributes\":{\"data_source\":{\"id\":\"d977bad2-485f-4f04-8458-9615665a6090\",\"type\":\"ColumnDataSource\"},\"glyph\":{\"id\":\"17b52831-01cc-4996-80d9-c62287aac7f3\",\"type\":\"Line\"},\"hover_glyph\":null,\"nonselection_glyph\":{\"id\":\"1278e3f2-5477-4ff9-b8f0-a217d964b14e\",\"type\":\"Line\"},\"selection_glyph\":null},\"id\":\"b4513726-e5c6-4798-8f87-aba5e834c866\",\"type\":\"GlyphRenderer\"},{\"attributes\":{\"dimension\":1,\"plot\":{\"id\":\"e751e41d-9cef-4bc7-8126-2be4a28a17c8\",\"subtype\":\"Chart\",\"type\":\"Plot\"},\"ticker\":{\"id\":\"93ade024-d578-4cdb-ac0c-9e51f812ff4b\",\"type\":\"BasicTicker\"}},\"id\":\"b3eb9c40-0f75-496a-a7c8-fcf53b96591f\",\"type\":\"Grid\"},{\"attributes\":{},\"id\":\"8581a85c-ae47-4d75-b9bb-a0377bd01b4c\",\"type\":\"BasicTickFormatter\"},{\"attributes\":{\"plot\":{\"id\":\"e751e41d-9cef-4bc7-8126-2be4a28a17c8\",\"subtype\":\"Chart\",\"type\":\"Plot\"},\"ticker\":{\"id\":\"577391d8-90f5-4fb3-85a5-d2f3d173dd58\",\"type\":\"BasicTicker\"}},\"id\":\"8d8cb00b-83a5-4e7e-b2a9-50c90d42994c\",\"type\":\"Grid\"},{\"attributes\":{},\"id\":\"9af23203-f80a-491c-8f79-8b14f68e4227\",\"type\":\"BasicTickFormatter\"},{\"attributes\":{\"line_alpha\":{\"value\":0.5},\"line_color\":{\"value\":\"grey\"},\"line_dash\":[6],\"x\":{\"field\":\"x\"},\"y\":{\"field\":\"y\"}},\"id\":\"2fc39799-0fba-4f0b-b30a-6bdab344b9b2\",\"type\":\"Line\"},{\"attributes\":{\"label\":{\"value\":\"Pedicab\"},\"renderers\":[{\"id\":\"682f7d3d-02fd-49f2-b0c8-3971f14a6949\",\"type\":\"GlyphRenderer\"}]},\"id\":\"8be41b30-3e2e-4a93-a66a-73dc63a9f6d9\",\"type\":\"LegendItem\"},{\"attributes\":{\"data_source\":{\"id\":\"2e260255-b7a0-4056-bf5f-cab813103147\",\"type\":\"ColumnDataSource\"},\"glyph\":{\"id\":\"2fc39799-0fba-4f0b-b30a-6bdab344b9b2\",\"type\":\"Line\"},\"hover_glyph\":null,\"nonselection_glyph\":{\"id\":\"58fe5905-7067-43ed-a5bd-3bfdb09f1d60\",\"type\":\"Line\"},\"selection_glyph\":null},\"id\":\"06a3d77d-b2a9-4005-9f44-dcb1f1aed8d5\",\"type\":\"GlyphRenderer\"},{\"attributes\":{\"line_alpha\":{\"value\":0.1},\"line_color\":{\"value\":\"#1f77b4\"},\"line_dash\":[6],\"x\":{\"field\":\"x\"},\"y\":{\"field\":\"y\"}},\"id\":\"15be764f-3fc9-44e5-a704-3b30eec60ea5\",\"type\":\"Line\"},{\"attributes\":{\"line_alpha\":{\"value\":0.5},\"line_color\":{\"value\":\"grey\"},\"line_dash\":[6],\"x\":{\"field\":\"x\"},\"y\":{\"field\":\"y\"}},\"id\":\"17b52831-01cc-4996-80d9-c62287aac7f3\",\"type\":\"Line\"},{\"attributes\":{\"callback\":null,\"column_names\":[\"x\",\"y\"],\"data\":{\"x\":[78.28757454165242,68.65165236206843,74.41778344604353,68.4427486334092,90.30669927904661],\"y\":[19.637148825171025,38.6526214012872,46.36763440366981,62.588358933103414,81.97433103862963]}},\"id\":\"2e260255-b7a0-4056-bf5f-cab813103147\",\"type\":\"ColumnDataSource\"},{\"attributes\":{\"line_alpha\":{\"value\":0.1},\"line_color\":{\"value\":\"#1f77b4\"},\"line_dash\":[6],\"x\":{\"field\":\"x\"},\"y\":{\"field\":\"y\"}},\"id\":\"8665848a-5d50-4474-9103-e784b0ef968e\",\"type\":\"Line\"},{\"attributes\":{\"plot\":{\"id\":\"e751e41d-9cef-4bc7-8126-2be4a28a17c8\",\"subtype\":\"Chart\",\"type\":\"Plot\"}},\"id\":\"23b1c2d4-57f4-4dee-9dc0-62c4fe922e05\",\"type\":\"SaveTool\"},{\"attributes\":{\"callback\":null,\"column_names\":[\"x_values\",\"y_values\"],\"data\":{\"chart_index\":[{\"type\":\"Pickup\"},{\"type\":\"Pickup\"},{\"type\":\"Pickup\"},{\"type\":\"Pickup\"},{\"type\":\"Pickup\"},{\"type\":\"Pickup\"},{\"type\":\"Pickup\"},{\"type\":\"Pickup\"},{\"type\":\"Pickup\"},{\"type\":\"Pickup\"},{\"type\":\"Pickup\"}],\"type\":[\"Pickup\",\"Pickup\",\"Pickup\",\"Pickup\",\"Pickup\",\"Pickup\",\"Pickup\",\"Pickup\",\"Pickup\",\"Pickup\",\"Pickup\"],\"x_values\":{\"__ndarray__\":\"TGTH9ryaUkB83BustClRQK61P8R2HD5A4APBFHlsQkCV+rPIXwQ+QHt/4F2pNVVAOOnQ/220PEBZRYDbs4w/QIwarZMHuEdAMnQUtePBOEBf66Ed9SZCQA==\",\"dtype\":\"float64\",\"shape\":[11]},\"y_values\":{\"__ndarray__\":\"ulLmpA4vR0BfmRsZiVNDQP4SnwNqqTtAalXfXGMwVED2x0AzKhtPQOBUQuK1eFZABkAah+TOVECRI3BrmVEnQMM/2h+1vUxAWay7f9lkIkBQMBKh02RUQA==\",\"dtype\":\"float64\",\"shape\":[11]}}},\"id\":\"ac4b1159-9779-4f09-9630-0a77ec33104d\",\"type\":\"ColumnDataSource\"},{\"attributes\":{\"callback\":null,\"column_names\":[\"x\",\"y\"],\"data\":{\"x\":[11.404227063794403,36.30435533910963,30.01708654779448,47.47644939185953,64.63482803629847],\"y\":[91.72985638825892,81.57541682029955,62.212225348121066,30.635033403658053,11.16555885149909]}},\"id\":\"2b9806dc-ba12-413a-86e1-fb3723e6ba5e\",\"type\":\"ColumnDataSource\"},{\"attributes\":{\"data_source\":{\"id\":\"2b9806dc-ba12-413a-86e1-fb3723e6ba5e\",\"type\":\"ColumnDataSource\"},\"glyph\":{\"id\":\"c9ec3739-1020-4241-bb9a-e0046ecfeed4\",\"type\":\"Line\"},\"hover_glyph\":null,\"nonselection_glyph\":{\"id\":\"bcc59171-7814-4857-a3e2-872d32348d7a\",\"type\":\"Line\"},\"selection_glyph\":null},\"id\":\"d1475b24-4d26-4d16-b661-79825d9b3281\",\"type\":\"GlyphRenderer\"},{\"attributes\":{\"fill_alpha\":{\"value\":0.7},\"fill_color\":{\"value\":\"#f22c40\"},\"line_color\":{\"value\":\"#f22c40\"},\"size\":{\"units\":\"screen\",\"value\":8},\"x\":{\"field\":\"x_values\"},\"y\":{\"field\":\"y_values\"}},\"id\":\"591169d7-f597-43b8-87f1-aa0109cc6cb6\",\"type\":\"Circle\"},{\"attributes\":{\"callback\":null,\"column_names\":[\"x\",\"y\"],\"data\":{\"x\":[0.6969071043144703,36.84744510101859,28.704803455833115,7.298000996930432,9.77278108829861],\"y\":[63.644732909148715,80.7560646229737,83.23269822658048,88.79273362602457,62.7105132818115]}},\"id\":\"e869ff4f-b31d-4dc5-b1c9-09b170661c3c\",\"type\":\"ColumnDataSource\"},{\"attributes\":{\"line_alpha\":{\"value\":0.5},\"line_color\":{\"value\":\"grey\"},\"line_dash\":[6],\"x\":{\"field\":\"x\"},\"y\":{\"field\":\"y\"}},\"id\":\"85ab8ca1-b372-4efc-8747-a927c99086e9\",\"type\":\"Line\"},{\"attributes\":{\"plot\":{\"id\":\"e751e41d-9cef-4bc7-8126-2be4a28a17c8\",\"subtype\":\"Chart\",\"type\":\"Plot\"}},\"id\":\"79ce5f31-2045-4e31-8ca3-2505d761efdf\",\"type\":\"PanTool\"},{\"attributes\":{\"line_alpha\":{\"value\":0.1},\"line_color\":{\"value\":\"#1f77b4\"},\"line_dash\":[6],\"x\":{\"field\":\"x\"},\"y\":{\"field\":\"y\"}},\"id\":\"cdd3e487-f440-4af8-8653-4e2e56f20639\",\"type\":\"Line\"},{\"attributes\":{\"data_source\":{\"id\":\"e869ff4f-b31d-4dc5-b1c9-09b170661c3c\",\"type\":\"ColumnDataSource\"},\"glyph\":{\"id\":\"85ab8ca1-b372-4efc-8747-a927c99086e9\",\"type\":\"Line\"},\"hover_glyph\":null,\"nonselection_glyph\":{\"id\":\"cdd3e487-f440-4af8-8653-4e2e56f20639\",\"type\":\"Line\"},\"selection_glyph\":null},\"id\":\"5f4c6a3f-8da4-47c9-a03f-3ee686bd71bb\",\"type\":\"GlyphRenderer\"},{\"attributes\":{\"active_drag\":\"auto\",\"active_scroll\":\"auto\",\"active_tap\":\"auto\",\"tools\":[{\"id\":\"79ce5f31-2045-4e31-8ca3-2505d761efdf\",\"type\":\"PanTool\"},{\"id\":\"39d55c74-5ca0-403e-9de9-310cd2fd8d84\",\"type\":\"WheelZoomTool\"},{\"id\":\"5862babb-3e58-4bd2-987f-932ae86ae12e\",\"type\":\"BoxZoomTool\"},{\"id\":\"23b1c2d4-57f4-4dee-9dc0-62c4fe922e05\",\"type\":\"SaveTool\"},{\"id\":\"e19871f6-b297-44f3-8fa3-ca11ff6e2361\",\"type\":\"ResetTool\"},{\"id\":\"aecf7747-147b-4bb9-81e3-1f82f849c435\",\"type\":\"HelpTool\"}]},\"id\":\"f89a3efc-b6bb-456f-b1cd-c2f696e63b1e\",\"type\":\"Toolbar\"},{\"attributes\":{\"callback\":null,\"column_names\":[\"x\",\"y\"],\"data\":{\"x\":[98.69050515943823,84.83846232341413,40.46757740385476],\"y\":[81.2020604585991,89.88610130765619,46.52509761210176]}},\"id\":\"0fc6a443-97df-412b-a3c7-f2a73c52fce6\",\"type\":\"ColumnDataSource\"},{\"attributes\":{\"line_alpha\":{\"value\":0.5},\"line_color\":{\"value\":\"grey\"},\"line_dash\":[6],\"x\":{\"field\":\"x\"},\"y\":{\"field\":\"y\"}},\"id\":\"028baec2-fcf1-463c-a52a-a72f1cfb1d8c\",\"type\":\"Line\"},{\"attributes\":{\"plot\":{\"id\":\"e751e41d-9cef-4bc7-8126-2be4a28a17c8\",\"subtype\":\"Chart\",\"type\":\"Plot\"}},\"id\":\"39d55c74-5ca0-403e-9de9-310cd2fd8d84\",\"type\":\"WheelZoomTool\"},{\"attributes\":{\"label\":{\"value\":\"Pickup\"},\"renderers\":[{\"id\":\"0c44813c-5183-4435-88b9-aea6eb9ae569\",\"type\":\"GlyphRenderer\"}]},\"id\":\"28bfeae0-a9fa-4cbd-943f-09cfc093a695\",\"type\":\"LegendItem\"},{\"attributes\":{\"bottom_units\":\"screen\",\"fill_alpha\":{\"value\":0.5},\"fill_color\":{\"value\":\"lightgrey\"},\"left_units\":\"screen\",\"level\":\"overlay\",\"line_alpha\":{\"value\":1.0},\"line_color\":{\"value\":\"black\"},\"line_dash\":[4,4],\"line_width\":{\"value\":2},\"plot\":null,\"render_mode\":\"css\",\"right_units\":\"screen\",\"top_units\":\"screen\"},\"id\":\"86cdd362-c7bd-4921-8149-30b5f25fe5e1\",\"type\":\"BoxAnnotation\"},{\"attributes\":{\"plot\":{\"id\":\"e751e41d-9cef-4bc7-8126-2be4a28a17c8\",\"subtype\":\"Chart\",\"type\":\"Plot\"}},\"id\":\"e19871f6-b297-44f3-8fa3-ca11ff6e2361\",\"type\":\"ResetTool\"},{\"attributes\":{\"plot\":null,\"text\":null},\"id\":\"7f0e9040-b65e-4393-a148-293d3b801d33\",\"type\":\"Title\"},{\"attributes\":{\"items\":[{\"id\":\"8be41b30-3e2e-4a93-a66a-73dc63a9f6d9\",\"type\":\"LegendItem\"},{\"id\":\"28bfeae0-a9fa-4cbd-943f-09cfc093a695\",\"type\":\"LegendItem\"},{\"id\":\"525f27a8-0aa9-4fda-b933-9ea69078a96f\",\"type\":\"LegendItem\"}],\"location\":\"top_left\",\"orientation\":\"horizontal\",\"plot\":{\"id\":\"e751e41d-9cef-4bc7-8126-2be4a28a17c8\",\"subtype\":\"Chart\",\"type\":\"Plot\"}},\"id\":\"143a3f32-4d31-4724-b690-80b718fc1b76\",\"type\":\"Legend\"},{\"attributes\":{\"overlay\":{\"id\":\"86cdd362-c7bd-4921-8149-30b5f25fe5e1\",\"type\":\"BoxAnnotation\"},\"plot\":{\"id\":\"e751e41d-9cef-4bc7-8126-2be4a28a17c8\",\"subtype\":\"Chart\",\"type\":\"Plot\"}},\"id\":\"5862babb-3e58-4bd2-987f-932ae86ae12e\",\"type\":\"BoxZoomTool\"},{\"attributes\":{\"plot\":{\"id\":\"e751e41d-9cef-4bc7-8126-2be4a28a17c8\",\"subtype\":\"Chart\",\"type\":\"Plot\"}},\"id\":\"aecf7747-147b-4bb9-81e3-1f82f849c435\",\"type\":\"HelpTool\"},{\"attributes\":{\"axis_label\":\"y\",\"formatter\":{\"id\":\"9af23203-f80a-491c-8f79-8b14f68e4227\",\"type\":\"BasicTickFormatter\"},\"plot\":{\"id\":\"e751e41d-9cef-4bc7-8126-2be4a28a17c8\",\"subtype\":\"Chart\",\"type\":\"Plot\"},\"ticker\":{\"id\":\"93ade024-d578-4cdb-ac0c-9e51f812ff4b\",\"type\":\"BasicTicker\"}},\"id\":\"0ca7361c-cbf3-4d25-a050-71c7a99ad249\",\"type\":\"LinearAxis\"},{\"attributes\":{\"label\":{\"value\":\"Dropoff\"},\"renderers\":[{\"id\":\"533f5b98-508e-4368-a694-8d4eb94597a7\",\"type\":\"GlyphRenderer\"}]},\"id\":\"525f27a8-0aa9-4fda-b933-9ea69078a96f\",\"type\":\"LegendItem\"}],\"root_ids\":[\"e751e41d-9cef-4bc7-8126-2be4a28a17c8\"]},\"title\":\"Bokeh Application\",\"version\":\"0.12.4\"}};\n",
       "            var render_items = [{\"docid\":\"37eb5611-6fe8-4230-9aab-ed6e2ae3f567\",\"elementid\":\"77f796c9-6d83-459a-b64d-844019385a96\",\"modelid\":\"e751e41d-9cef-4bc7-8126-2be4a28a17c8\"}];\n",
       "            \n",
       "            Bokeh.embed.embed_items(docs_json, render_items);\n",
       "          };\n",
       "          if (document.readyState != \"loading\") fn();\n",
       "          else document.addEventListener(\"DOMContentLoaded\", fn);\n",
       "        })();\n",
       "      },\n",
       "      function(Bokeh) {\n",
       "      }\n",
       "    ];\n",
       "  \n",
       "    function run_inline_js() {\n",
       "      \n",
       "      if ((window.Bokeh !== undefined) || (force === true)) {\n",
       "        for (var i = 0; i < inline_js.length; i++) {\n",
       "          inline_js[i](window.Bokeh);\n",
       "        }if (force === true) {\n",
       "          display_loaded();\n",
       "        }} else if (Date.now() < window._bokeh_timeout) {\n",
       "        setTimeout(run_inline_js, 100);\n",
       "      } else if (!window._bokeh_failed_load) {\n",
       "        console.log(\"Bokeh: BokehJS failed to load within specified timeout.\");\n",
       "        window._bokeh_failed_load = true;\n",
       "      } else if (force !== true) {\n",
       "        var cell = $(document.getElementById(\"77f796c9-6d83-459a-b64d-844019385a96\")).parents('.cell').data().cell;\n",
       "        cell.output_area.append_execute_result(NB_LOAD_WARNING)\n",
       "      }\n",
       "  \n",
       "    }\n",
       "  \n",
       "    if (window._bokeh_is_loading === 0) {\n",
       "      console.log(\"Bokeh: BokehJS loaded, going straight to plotting\");\n",
       "      run_inline_js();\n",
       "    } else {\n",
       "      load_libs(js_urls, function() {\n",
       "        console.log(\"Bokeh: BokehJS plotting callback run at\", now());\n",
       "        run_inline_js();\n",
       "      });\n",
       "    }\n",
       "  }(this));\n",
       "</script>"
      ]
     },
     "metadata": {},
     "output_type": "display_data"
    }
   ],
   "source": [
    "plot_routes()"
   ]
  },
  {
   "cell_type": "markdown",
   "metadata": {
    "slideshow": {
     "slide_type": "slide"
    }
   },
   "source": [
    "## Where to find more information\n",
    "\n",
    "* [Introduction to Operations Research](http://www.mheducation.com/highered/product/M1259162982.html) by Hillier and Lieberman\n",
    "* [Linear and Nonlinear Optimization](http://bookstore.siam.org/ot108/) by Griva, Nash, and Softer\n",
    "* [Applied Integer Programming](http://www.wiley.com/WileyCDA/WileyTitle/productCd-0470373067.html) by Chen, Batson, and Dang\n",
    "* [Model Building in Mathematical Programming](http://www.wiley.com/WileyCDA/WileyTitle/productCd-1118443330.html) by Williams"
   ]
  }
 ],
 "metadata": {
  "celltoolbar": "Slideshow",
  "kernelspec": {
   "display_name": "Python 3",
   "language": "python",
   "name": "python3"
  },
  "language_info": {
   "codemirror_mode": {
    "name": "ipython",
    "version": 3
   },
   "file_extension": ".py",
   "mimetype": "text/x-python",
   "name": "python",
   "nbconvert_exporter": "python",
   "pygments_lexer": "ipython3",
   "version": "3.6.0"
  }
 },
 "nbformat": 4,
 "nbformat_minor": 2
}
