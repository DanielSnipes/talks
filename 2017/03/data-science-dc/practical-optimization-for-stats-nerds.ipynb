{
 "cells": [
  {
   "cell_type": "markdown",
   "metadata": {
    "deletable": true,
    "editable": true,
    "slideshow": {
     "slide_type": "slide"
    }
   },
   "source": [
    "# Practical Optimization for Stats Nerds\n",
    "\n",
    "[Ryan J. O'Neil](mailto:ryanjoneil@gmail.com)  \n",
    "Data Science DC  \n",
    "March 20, 2017"
   ]
  },
  {
   "cell_type": "markdown",
   "metadata": {
    "deletable": true,
    "editable": true,
    "slideshow": {
     "slide_type": "subslide"
    }
   },
   "source": [
    "## Take-aways, in case you want to skip the talk\n",
    "  \n",
    "  \n",
    "* Many statistical techniques are based on some sort of optimization.\n",
    "  "
   ]
  },
  {
   "cell_type": "markdown",
   "metadata": {
    "deletable": true,
    "editable": true,
    "slideshow": {
     "slide_type": "fragment"
    }
   },
   "source": [
    "\n",
    "* Optimization has many other uses, such as solving decision models.\n",
    "  "
   ]
  },
  {
   "cell_type": "markdown",
   "metadata": {
    "deletable": true,
    "editable": true,
    "slideshow": {
     "slide_type": "fragment"
    }
   },
   "source": [
    "\n",
    "* Learning to structure problems you already know for optimization solvers is a great way to understand them!\n"
   ]
  },
  {
   "cell_type": "markdown",
   "metadata": {
    "deletable": true,
    "editable": true,
    "slideshow": {
     "slide_type": "slide"
    }
   },
   "source": [
    "## Least Squares\n",
    "\n",
    "We observe noisy data from an unknown function. We want to infer that function."
   ]
  },
  {
   "cell_type": "markdown",
   "metadata": {
    "deletable": true,
    "editable": true,
    "slideshow": {
     "slide_type": "subslide"
    }
   },
   "source": [
    "But let's assume that, deep down, we actually know the function. That way we can generate noisy data and see if our techniques work right.\n",
    "\n",
    "#### Function:\n",
    "$$y = 3x^2 - 2x + 10 + \\epsilon$$\n",
    "\n",
    "#### Noise:\n",
    "$$\\epsilon \\sim N\\left(0, 25\\right)$$"
   ]
  },
  {
   "cell_type": "code",
   "execution_count": 1,
   "metadata": {
    "collapsed": false,
    "deletable": true,
    "editable": true,
    "slideshow": {
     "slide_type": "subslide"
    }
   },
   "outputs": [],
   "source": [
    "# Generate some random data.\n",
    "import numpy as np\n",
    "import random\n",
    "\n",
    "x = []\n",
    "y = []\n",
    "for _ in range(500):\n",
    "    xi = random.uniform(-10, 10)\n",
    "    eps = random.normalvariate(0, 25)\n",
    "    yi = 3*xi**2 - 2*xi + 10 + eps\n",
    "    \n",
    "    x.append(xi)\n",
    "    y.append(yi)\n",
    "    \n",
    "    \n",
    "x = np.array(x)\n",
    "y = np.array(y)"
   ]
  },
  {
   "cell_type": "code",
   "execution_count": 2,
   "metadata": {
    "collapsed": false,
    "deletable": true,
    "editable": true,
    "slideshow": {
     "slide_type": "subslide"
    }
   },
   "outputs": [
    {
     "data": {
      "text/html": [
       "\n",
       "    <div class=\"bk-root\">\n",
       "        <a href=\"http://bokeh.pydata.org\" target=\"_blank\" class=\"bk-logo bk-logo-small bk-logo-notebook\"></a>\n",
       "        <span id=\"6aacddad-c980-44f2-9e49-bde617855a90\">Loading BokehJS ...</span>\n",
       "    </div>"
      ]
     },
     "metadata": {},
     "output_type": "display_data"
    },
    {
     "data": {
      "application/javascript": [
       "\n",
       "(function(global) {\n",
       "  function now() {\n",
       "    return new Date();\n",
       "  }\n",
       "\n",
       "  var force = true;\n",
       "\n",
       "  if (typeof (window._bokeh_onload_callbacks) === \"undefined\" || force === true) {\n",
       "    window._bokeh_onload_callbacks = [];\n",
       "    window._bokeh_is_loading = undefined;\n",
       "  }\n",
       "\n",
       "\n",
       "  \n",
       "  if (typeof (window._bokeh_timeout) === \"undefined\" || force === true) {\n",
       "    window._bokeh_timeout = Date.now() + 5000;\n",
       "    window._bokeh_failed_load = false;\n",
       "  }\n",
       "\n",
       "  var NB_LOAD_WARNING = {'data': {'text/html':\n",
       "     \"<div style='background-color: #fdd'>\\n\"+\n",
       "     \"<p>\\n\"+\n",
       "     \"BokehJS does not appear to have successfully loaded. If loading BokehJS from CDN, this \\n\"+\n",
       "     \"may be due to a slow or bad network connection. Possible fixes:\\n\"+\n",
       "     \"</p>\\n\"+\n",
       "     \"<ul>\\n\"+\n",
       "     \"<li>re-rerun `output_notebook()` to attempt to load from CDN again, or</li>\\n\"+\n",
       "     \"<li>use INLINE resources instead, as so:</li>\\n\"+\n",
       "     \"</ul>\\n\"+\n",
       "     \"<code>\\n\"+\n",
       "     \"from bokeh.resources import INLINE\\n\"+\n",
       "     \"output_notebook(resources=INLINE)\\n\"+\n",
       "     \"</code>\\n\"+\n",
       "     \"</div>\"}};\n",
       "\n",
       "  function display_loaded() {\n",
       "    if (window.Bokeh !== undefined) {\n",
       "      document.getElementById(\"6aacddad-c980-44f2-9e49-bde617855a90\").textContent = \"BokehJS successfully loaded.\";\n",
       "    } else if (Date.now() < window._bokeh_timeout) {\n",
       "      setTimeout(display_loaded, 100)\n",
       "    }\n",
       "  }\n",
       "\n",
       "  function run_callbacks() {\n",
       "    window._bokeh_onload_callbacks.forEach(function(callback) { callback() });\n",
       "    delete window._bokeh_onload_callbacks\n",
       "    console.info(\"Bokeh: all callbacks have finished\");\n",
       "  }\n",
       "\n",
       "  function load_libs(js_urls, callback) {\n",
       "    window._bokeh_onload_callbacks.push(callback);\n",
       "    if (window._bokeh_is_loading > 0) {\n",
       "      console.log(\"Bokeh: BokehJS is being loaded, scheduling callback at\", now());\n",
       "      return null;\n",
       "    }\n",
       "    if (js_urls == null || js_urls.length === 0) {\n",
       "      run_callbacks();\n",
       "      return null;\n",
       "    }\n",
       "    console.log(\"Bokeh: BokehJS not loaded, scheduling load and callback at\", now());\n",
       "    window._bokeh_is_loading = js_urls.length;\n",
       "    for (var i = 0; i < js_urls.length; i++) {\n",
       "      var url = js_urls[i];\n",
       "      var s = document.createElement('script');\n",
       "      s.src = url;\n",
       "      s.async = false;\n",
       "      s.onreadystatechange = s.onload = function() {\n",
       "        window._bokeh_is_loading--;\n",
       "        if (window._bokeh_is_loading === 0) {\n",
       "          console.log(\"Bokeh: all BokehJS libraries loaded\");\n",
       "          run_callbacks()\n",
       "        }\n",
       "      };\n",
       "      s.onerror = function() {\n",
       "        console.warn(\"failed to load library \" + url);\n",
       "      };\n",
       "      console.log(\"Bokeh: injecting script tag for BokehJS library: \", url);\n",
       "      document.getElementsByTagName(\"head\")[0].appendChild(s);\n",
       "    }\n",
       "  };var element = document.getElementById(\"6aacddad-c980-44f2-9e49-bde617855a90\");\n",
       "  if (element == null) {\n",
       "    console.log(\"Bokeh: ERROR: autoload.js configured with elementid '6aacddad-c980-44f2-9e49-bde617855a90' but no matching script tag was found. \")\n",
       "    return false;\n",
       "  }\n",
       "\n",
       "  var js_urls = [\"https://cdn.pydata.org/bokeh/release/bokeh-0.12.4.min.js\", \"https://cdn.pydata.org/bokeh/release/bokeh-widgets-0.12.4.min.js\"];\n",
       "\n",
       "  var inline_js = [\n",
       "    function(Bokeh) {\n",
       "      Bokeh.set_log_level(\"info\");\n",
       "    },\n",
       "    \n",
       "    function(Bokeh) {\n",
       "      \n",
       "      document.getElementById(\"6aacddad-c980-44f2-9e49-bde617855a90\").textContent = \"BokehJS is loading...\";\n",
       "    },\n",
       "    function(Bokeh) {\n",
       "      console.log(\"Bokeh: injecting CSS: https://cdn.pydata.org/bokeh/release/bokeh-0.12.4.min.css\");\n",
       "      Bokeh.embed.inject_css(\"https://cdn.pydata.org/bokeh/release/bokeh-0.12.4.min.css\");\n",
       "      console.log(\"Bokeh: injecting CSS: https://cdn.pydata.org/bokeh/release/bokeh-widgets-0.12.4.min.css\");\n",
       "      Bokeh.embed.inject_css(\"https://cdn.pydata.org/bokeh/release/bokeh-widgets-0.12.4.min.css\");\n",
       "    }\n",
       "  ];\n",
       "\n",
       "  function run_inline_js() {\n",
       "    \n",
       "    if ((window.Bokeh !== undefined) || (force === true)) {\n",
       "      for (var i = 0; i < inline_js.length; i++) {\n",
       "        inline_js[i](window.Bokeh);\n",
       "      }if (force === true) {\n",
       "        display_loaded();\n",
       "      }} else if (Date.now() < window._bokeh_timeout) {\n",
       "      setTimeout(run_inline_js, 100);\n",
       "    } else if (!window._bokeh_failed_load) {\n",
       "      console.log(\"Bokeh: BokehJS failed to load within specified timeout.\");\n",
       "      window._bokeh_failed_load = true;\n",
       "    } else if (force !== true) {\n",
       "      var cell = $(document.getElementById(\"6aacddad-c980-44f2-9e49-bde617855a90\")).parents('.cell').data().cell;\n",
       "      cell.output_area.append_execute_result(NB_LOAD_WARNING)\n",
       "    }\n",
       "\n",
       "  }\n",
       "\n",
       "  if (window._bokeh_is_loading === 0) {\n",
       "    console.log(\"Bokeh: BokehJS loaded, going straight to plotting\");\n",
       "    run_inline_js();\n",
       "  } else {\n",
       "    load_libs(js_urls, function() {\n",
       "      console.log(\"Bokeh: BokehJS plotting callback run at\", now());\n",
       "      run_inline_js();\n",
       "    });\n",
       "  }\n",
       "}(this));"
      ]
     },
     "metadata": {},
     "output_type": "display_data"
    },
    {
     "data": {
      "text/html": [
       "\n",
       "\n",
       "    <div class=\"bk-root\">\n",
       "        <div class=\"bk-plotdiv\" id=\"16fe03d9-ec4d-4d12-92b4-f2ba73079bd0\"></div>\n",
       "    </div>\n",
       "<script type=\"text/javascript\">\n",
       "  \n",
       "  (function(global) {\n",
       "    function now() {\n",
       "      return new Date();\n",
       "    }\n",
       "  \n",
       "    var force = false;\n",
       "  \n",
       "    if (typeof (window._bokeh_onload_callbacks) === \"undefined\" || force === true) {\n",
       "      window._bokeh_onload_callbacks = [];\n",
       "      window._bokeh_is_loading = undefined;\n",
       "    }\n",
       "  \n",
       "  \n",
       "    \n",
       "    if (typeof (window._bokeh_timeout) === \"undefined\" || force === true) {\n",
       "      window._bokeh_timeout = Date.now() + 0;\n",
       "      window._bokeh_failed_load = false;\n",
       "    }\n",
       "  \n",
       "    var NB_LOAD_WARNING = {'data': {'text/html':\n",
       "       \"<div style='background-color: #fdd'>\\n\"+\n",
       "       \"<p>\\n\"+\n",
       "       \"BokehJS does not appear to have successfully loaded. If loading BokehJS from CDN, this \\n\"+\n",
       "       \"may be due to a slow or bad network connection. Possible fixes:\\n\"+\n",
       "       \"</p>\\n\"+\n",
       "       \"<ul>\\n\"+\n",
       "       \"<li>re-rerun `output_notebook()` to attempt to load from CDN again, or</li>\\n\"+\n",
       "       \"<li>use INLINE resources instead, as so:</li>\\n\"+\n",
       "       \"</ul>\\n\"+\n",
       "       \"<code>\\n\"+\n",
       "       \"from bokeh.resources import INLINE\\n\"+\n",
       "       \"output_notebook(resources=INLINE)\\n\"+\n",
       "       \"</code>\\n\"+\n",
       "       \"</div>\"}};\n",
       "  \n",
       "    function display_loaded() {\n",
       "      if (window.Bokeh !== undefined) {\n",
       "        document.getElementById(\"16fe03d9-ec4d-4d12-92b4-f2ba73079bd0\").textContent = \"BokehJS successfully loaded.\";\n",
       "      } else if (Date.now() < window._bokeh_timeout) {\n",
       "        setTimeout(display_loaded, 100)\n",
       "      }\n",
       "    }\n",
       "  \n",
       "    function run_callbacks() {\n",
       "      window._bokeh_onload_callbacks.forEach(function(callback) { callback() });\n",
       "      delete window._bokeh_onload_callbacks\n",
       "      console.info(\"Bokeh: all callbacks have finished\");\n",
       "    }\n",
       "  \n",
       "    function load_libs(js_urls, callback) {\n",
       "      window._bokeh_onload_callbacks.push(callback);\n",
       "      if (window._bokeh_is_loading > 0) {\n",
       "        console.log(\"Bokeh: BokehJS is being loaded, scheduling callback at\", now());\n",
       "        return null;\n",
       "      }\n",
       "      if (js_urls == null || js_urls.length === 0) {\n",
       "        run_callbacks();\n",
       "        return null;\n",
       "      }\n",
       "      console.log(\"Bokeh: BokehJS not loaded, scheduling load and callback at\", now());\n",
       "      window._bokeh_is_loading = js_urls.length;\n",
       "      for (var i = 0; i < js_urls.length; i++) {\n",
       "        var url = js_urls[i];\n",
       "        var s = document.createElement('script');\n",
       "        s.src = url;\n",
       "        s.async = false;\n",
       "        s.onreadystatechange = s.onload = function() {\n",
       "          window._bokeh_is_loading--;\n",
       "          if (window._bokeh_is_loading === 0) {\n",
       "            console.log(\"Bokeh: all BokehJS libraries loaded\");\n",
       "            run_callbacks()\n",
       "          }\n",
       "        };\n",
       "        s.onerror = function() {\n",
       "          console.warn(\"failed to load library \" + url);\n",
       "        };\n",
       "        console.log(\"Bokeh: injecting script tag for BokehJS library: \", url);\n",
       "        document.getElementsByTagName(\"head\")[0].appendChild(s);\n",
       "      }\n",
       "    };var element = document.getElementById(\"16fe03d9-ec4d-4d12-92b4-f2ba73079bd0\");\n",
       "    if (element == null) {\n",
       "      console.log(\"Bokeh: ERROR: autoload.js configured with elementid '16fe03d9-ec4d-4d12-92b4-f2ba73079bd0' but no matching script tag was found. \")\n",
       "      return false;\n",
       "    }\n",
       "  \n",
       "    var js_urls = [];\n",
       "  \n",
       "    var inline_js = [\n",
       "      function(Bokeh) {\n",
       "        (function() {\n",
       "          var fn = function() {\n",
       "            var docs_json = {\"51ace0fd-b7d2-4055-b464-396c47812bdd\":{\"roots\":{\"references\":[{\"attributes\":{\"location\":\"top_left\",\"plot\":{\"id\":\"692512a2-d314-4dec-ac3c-0272ea1d19e0\",\"subtype\":\"Chart\",\"type\":\"Plot\"}},\"id\":\"c96bee39-ed0c-477e-bef7-01f7f1067028\",\"type\":\"Legend\"},{\"attributes\":{\"callback\":null,\"end\":428.5609998670574,\"start\":-83.69290774782354},\"id\":\"f1cbd534-baba-4b86-b4f5-f8a25a949153\",\"type\":\"Range1d\"},{\"attributes\":{},\"id\":\"550ed16e-d86f-4eed-bcfb-2c7456895b1e\",\"type\":\"BasicTicker\"},{\"attributes\":{},\"id\":\"dfcc7faa-6b4b-41f1-b464-4201f846128b\",\"type\":\"BasicTickFormatter\"},{\"attributes\":{\"plot\":null,\"text\":null},\"id\":\"8970c667-c6fc-4d98-a231-37055b4a18a7\",\"type\":\"Title\"},{\"attributes\":{\"plot\":{\"id\":\"692512a2-d314-4dec-ac3c-0272ea1d19e0\",\"subtype\":\"Chart\",\"type\":\"Plot\"},\"ticker\":{\"id\":\"550ed16e-d86f-4eed-bcfb-2c7456895b1e\",\"type\":\"BasicTicker\"}},\"id\":\"d0af4ead-9a60-4027-b395-002930a945c5\",\"type\":\"Grid\"},{\"attributes\":{\"bottom_units\":\"screen\",\"fill_alpha\":{\"value\":0.5},\"fill_color\":{\"value\":\"lightgrey\"},\"left_units\":\"screen\",\"level\":\"overlay\",\"line_alpha\":{\"value\":1.0},\"line_color\":{\"value\":\"black\"},\"line_dash\":[4,4],\"line_width\":{\"value\":2},\"plot\":null,\"render_mode\":\"css\",\"right_units\":\"screen\",\"top_units\":\"screen\"},\"id\":\"5d22668d-b3b1-4d87-8fbc-e42bae568bc3\",\"type\":\"BoxAnnotation\"},{\"attributes\":{},\"id\":\"381551c0-941a-4315-a857-26f79af49b51\",\"type\":\"BasicTicker\"},{\"attributes\":{\"dimension\":1,\"plot\":{\"id\":\"692512a2-d314-4dec-ac3c-0272ea1d19e0\",\"subtype\":\"Chart\",\"type\":\"Plot\"},\"ticker\":{\"id\":\"381551c0-941a-4315-a857-26f79af49b51\",\"type\":\"BasicTicker\"}},\"id\":\"ca2639d8-91ae-48be-8370-0179f5b47702\",\"type\":\"Grid\"},{\"attributes\":{\"active_drag\":\"auto\",\"active_scroll\":\"auto\",\"active_tap\":\"auto\",\"tools\":[{\"id\":\"3f6865ac-8e80-4f5f-8214-2b41fce3becf\",\"type\":\"PanTool\"},{\"id\":\"f9038b4f-3cc0-47a2-b25f-8ea9e59d4e34\",\"type\":\"WheelZoomTool\"},{\"id\":\"48d87998-816a-47d6-959c-9039ec1a5b76\",\"type\":\"BoxZoomTool\"},{\"id\":\"331ccef2-f081-497c-81e5-15f9c46929b1\",\"type\":\"SaveTool\"},{\"id\":\"9031c58e-0093-4879-92cf-00c002ccf943\",\"type\":\"ResetTool\"},{\"id\":\"c6859057-6d3d-4f03-ac9b-abc2bf4c80e4\",\"type\":\"HelpTool\"}]},\"id\":\"15f663dd-4377-47db-9208-7f2d536701dd\",\"type\":\"Toolbar\"},{\"attributes\":{\"callback\":null,\"end\":11.988148694254617,\"start\":-11.982680876913546},\"id\":\"6c776395-83ef-459d-82b3-83d6e1a1262a\",\"type\":\"Range1d\"},{\"attributes\":{\"callback\":null,\"column_names\":[\"x_values\",\"y_values\"],\"data\":{\"chart_index\":[null,null,null,null,null,null,null,null,null,null,null,null,null,null,null,null,null,null,null,null,null,null,null,null,null,null,null,null,null,null,null,null,null,null,null,null,null,null,null,null,null,null,null,null,null,null,null,null,null,null,null,null,null,null,null,null,null,null,null,null,null,null,null,null,null,null,null,null,null,null,null,null,null,null,null,null,null,null,null,null,null,null,null,null,null,null,null,null,null,null,null,null,null,null,null,null,null,null,null,null,null,null,null,null,null,null,null,null,null,null,null,null,null,null,null,null,null,null,null,null,null,null,null,null,null,null,null,null,null,null,null,null,null,null,null,null,null,null,null,null,null,null,null,null,null,null,null,null,null,null,null,null,null,null,null,null,null,null,null,null,null,null,null,null,null,null,null,null,null,null,null,null,null,null,null,null,null,null,null,null,null,null,null,null,null,null,null,null,null,null,null,null,null,null,null,null,null,null,null,null,null,null,null,null,null,null,null,null,null,null,null,null,null,null,null,null,null,null,null,null,null,null,null,null,null,null,null,null,null,null,null,null,null,null,null,null,null,null,null,null,null,null,null,null,null,null,null,null,null,null,null,null,null,null,null,null,null,null,null,null,null,null,null,null,null,null,null,null,null,null,null,null,null,null,null,null,null,null,null,null,null,null,null,null,null,null,null,null,null,null,null,null,null,null,null,null,null,null,null,null,null,null,null,null,null,null,null,null,null,null,null,null,null,null,null,null,null,null,null,null,null,null,null,null,null,null,null,null,null,null,null,null,null,null,null,null,null,null,null,null,null,null,null,null,null,null,null,null,null,null,null,null,null,null,null,null,null,null,null,null,null,null,null,null,null,null,null,null,null,null,null,null,null,null,null,null,null,null,null,null,null,null,null,null,null,null,null,null,null,null,null,null,null,null,null,null,null,null,null,null,null,null,null,null,null,null,null,null,null,null,null,null,null,null,null,null,null,null,null,null,null,null,null,null,null,null,null,null,null,null,null,null,null,null,null,null,null,null,null,null,null,null,null,null,null,null,null,null,null,null,null,null,null,null,null,null,null,null,null,null,null,null,null,null,null,null,null,null,null,null,null,null,null,null,null,null,null,null,null,null,null,null,null,null,null,null,null,null,null,null,null,null,null,null,null,null,null,null,null,null],\"x_values\":{\"__ndarray__\":\"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\",\"dtype\":\"float64\",\"shape\":[500]},\"y_values\":{\"__ndarray__\":\"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\",\"dtype\":\"float64\",\"shape\":[500]}}},\"id\":\"903f1f17-c29a-47fc-a81f-4dc8e5d64695\",\"type\":\"ColumnDataSource\"},{\"attributes\":{},\"id\":\"052cd7c0-f335-4810-8edc-abe5a9efc6ff\",\"type\":\"BasicTickFormatter\"},{\"attributes\":{\"axis_label\":\"y\",\"formatter\":{\"id\":\"052cd7c0-f335-4810-8edc-abe5a9efc6ff\",\"type\":\"BasicTickFormatter\"},\"plot\":{\"id\":\"692512a2-d314-4dec-ac3c-0272ea1d19e0\",\"subtype\":\"Chart\",\"type\":\"Plot\"},\"ticker\":{\"id\":\"381551c0-941a-4315-a857-26f79af49b51\",\"type\":\"BasicTicker\"}},\"id\":\"9838786f-7f79-4913-a85a-4fb6569a8cd8\",\"type\":\"LinearAxis\"},{\"attributes\":{\"plot\":{\"id\":\"692512a2-d314-4dec-ac3c-0272ea1d19e0\",\"subtype\":\"Chart\",\"type\":\"Plot\"}},\"id\":\"3f6865ac-8e80-4f5f-8214-2b41fce3becf\",\"type\":\"PanTool\"},{\"attributes\":{\"plot\":{\"id\":\"692512a2-d314-4dec-ac3c-0272ea1d19e0\",\"subtype\":\"Chart\",\"type\":\"Plot\"}},\"id\":\"f9038b4f-3cc0-47a2-b25f-8ea9e59d4e34\",\"type\":\"WheelZoomTool\"},{\"attributes\":{\"overlay\":{\"id\":\"5d22668d-b3b1-4d87-8fbc-e42bae568bc3\",\"type\":\"BoxAnnotation\"},\"plot\":{\"id\":\"692512a2-d314-4dec-ac3c-0272ea1d19e0\",\"subtype\":\"Chart\",\"type\":\"Plot\"}},\"id\":\"48d87998-816a-47d6-959c-9039ec1a5b76\",\"type\":\"BoxZoomTool\"},{\"attributes\":{\"data_source\":{\"id\":\"903f1f17-c29a-47fc-a81f-4dc8e5d64695\",\"type\":\"ColumnDataSource\"},\"glyph\":{\"id\":\"fe1e8159-1a17-40c2-92d2-688b7818749f\",\"type\":\"Circle\"},\"hover_glyph\":null,\"nonselection_glyph\":null,\"selection_glyph\":null},\"id\":\"0de2260b-1a19-4023-9da2-392e2b56c648\",\"type\":\"GlyphRenderer\"},{\"attributes\":{\"plot\":{\"id\":\"692512a2-d314-4dec-ac3c-0272ea1d19e0\",\"subtype\":\"Chart\",\"type\":\"Plot\"}},\"id\":\"331ccef2-f081-497c-81e5-15f9c46929b1\",\"type\":\"SaveTool\"},{\"attributes\":{\"plot\":{\"id\":\"692512a2-d314-4dec-ac3c-0272ea1d19e0\",\"subtype\":\"Chart\",\"type\":\"Plot\"}},\"id\":\"9031c58e-0093-4879-92cf-00c002ccf943\",\"type\":\"ResetTool\"},{\"attributes\":{\"plot\":{\"id\":\"692512a2-d314-4dec-ac3c-0272ea1d19e0\",\"subtype\":\"Chart\",\"type\":\"Plot\"}},\"id\":\"c6859057-6d3d-4f03-ac9b-abc2bf4c80e4\",\"type\":\"HelpTool\"},{\"attributes\":{},\"id\":\"a4eb6ea3-01c5-4821-ab24-5d2966f6edd6\",\"type\":\"ToolEvents\"},{\"attributes\":{\"axis_label\":\"x\",\"formatter\":{\"id\":\"dfcc7faa-6b4b-41f1-b464-4201f846128b\",\"type\":\"BasicTickFormatter\"},\"plot\":{\"id\":\"692512a2-d314-4dec-ac3c-0272ea1d19e0\",\"subtype\":\"Chart\",\"type\":\"Plot\"},\"ticker\":{\"id\":\"550ed16e-d86f-4eed-bcfb-2c7456895b1e\",\"type\":\"BasicTicker\"}},\"id\":\"9b280e7f-c55a-480a-83e9-8a8f58c4f1bf\",\"type\":\"LinearAxis\"},{\"attributes\":{\"below\":[{\"id\":\"9b280e7f-c55a-480a-83e9-8a8f58c4f1bf\",\"type\":\"LinearAxis\"}],\"css_classes\":null,\"height\":400,\"left\":[{\"id\":\"9838786f-7f79-4913-a85a-4fb6569a8cd8\",\"type\":\"LinearAxis\"}],\"renderers\":[{\"id\":\"5d22668d-b3b1-4d87-8fbc-e42bae568bc3\",\"type\":\"BoxAnnotation\"},{\"id\":\"0de2260b-1a19-4023-9da2-392e2b56c648\",\"type\":\"GlyphRenderer\"},{\"id\":\"c96bee39-ed0c-477e-bef7-01f7f1067028\",\"type\":\"Legend\"},{\"id\":\"9b280e7f-c55a-480a-83e9-8a8f58c4f1bf\",\"type\":\"LinearAxis\"},{\"id\":\"9838786f-7f79-4913-a85a-4fb6569a8cd8\",\"type\":\"LinearAxis\"},{\"id\":\"d0af4ead-9a60-4027-b395-002930a945c5\",\"type\":\"Grid\"},{\"id\":\"ca2639d8-91ae-48be-8370-0179f5b47702\",\"type\":\"Grid\"}],\"title\":{\"id\":\"8970c667-c6fc-4d98-a231-37055b4a18a7\",\"type\":\"Title\"},\"tool_events\":{\"id\":\"a4eb6ea3-01c5-4821-ab24-5d2966f6edd6\",\"type\":\"ToolEvents\"},\"toolbar\":{\"id\":\"15f663dd-4377-47db-9208-7f2d536701dd\",\"type\":\"Toolbar\"},\"width\":750,\"x_mapper_type\":\"auto\",\"x_range\":{\"id\":\"6c776395-83ef-459d-82b3-83d6e1a1262a\",\"type\":\"Range1d\"},\"y_mapper_type\":\"auto\",\"y_range\":{\"id\":\"f1cbd534-baba-4b86-b4f5-f8a25a949153\",\"type\":\"Range1d\"}},\"id\":\"692512a2-d314-4dec-ac3c-0272ea1d19e0\",\"subtype\":\"Chart\",\"type\":\"Plot\"},{\"attributes\":{\"fill_alpha\":{\"value\":0.7},\"fill_color\":{\"value\":\"#f22c40\"},\"line_color\":{\"value\":\"#f22c40\"},\"size\":{\"units\":\"screen\",\"value\":8},\"x\":{\"field\":\"x_values\"},\"y\":{\"field\":\"y_values\"}},\"id\":\"fe1e8159-1a17-40c2-92d2-688b7818749f\",\"type\":\"Circle\"}],\"root_ids\":[\"692512a2-d314-4dec-ac3c-0272ea1d19e0\"]},\"title\":\"Bokeh Application\",\"version\":\"0.12.4\"}};\n",
       "            var render_items = [{\"docid\":\"51ace0fd-b7d2-4055-b464-396c47812bdd\",\"elementid\":\"16fe03d9-ec4d-4d12-92b4-f2ba73079bd0\",\"modelid\":\"692512a2-d314-4dec-ac3c-0272ea1d19e0\"}];\n",
       "            \n",
       "            Bokeh.embed.embed_items(docs_json, render_items);\n",
       "          };\n",
       "          if (document.readyState != \"loading\") fn();\n",
       "          else document.addEventListener(\"DOMContentLoaded\", fn);\n",
       "        })();\n",
       "      },\n",
       "      function(Bokeh) {\n",
       "      }\n",
       "    ];\n",
       "  \n",
       "    function run_inline_js() {\n",
       "      \n",
       "      if ((window.Bokeh !== undefined) || (force === true)) {\n",
       "        for (var i = 0; i < inline_js.length; i++) {\n",
       "          inline_js[i](window.Bokeh);\n",
       "        }if (force === true) {\n",
       "          display_loaded();\n",
       "        }} else if (Date.now() < window._bokeh_timeout) {\n",
       "        setTimeout(run_inline_js, 100);\n",
       "      } else if (!window._bokeh_failed_load) {\n",
       "        console.log(\"Bokeh: BokehJS failed to load within specified timeout.\");\n",
       "        window._bokeh_failed_load = true;\n",
       "      } else if (force !== true) {\n",
       "        var cell = $(document.getElementById(\"16fe03d9-ec4d-4d12-92b4-f2ba73079bd0\")).parents('.cell').data().cell;\n",
       "        cell.output_area.append_execute_result(NB_LOAD_WARNING)\n",
       "      }\n",
       "  \n",
       "    }\n",
       "  \n",
       "    if (window._bokeh_is_loading === 0) {\n",
       "      console.log(\"Bokeh: BokehJS loaded, going straight to plotting\");\n",
       "      run_inline_js();\n",
       "    } else {\n",
       "      load_libs(js_urls, function() {\n",
       "        console.log(\"Bokeh: BokehJS plotting callback run at\", now());\n",
       "        run_inline_js();\n",
       "      });\n",
       "    }\n",
       "  }(this));\n",
       "</script>"
      ]
     },
     "metadata": {},
     "output_type": "display_data"
    }
   ],
   "source": [
    "from bokeh.charts import Scatter, output_notebook, show\n",
    "output_notebook()\n",
    "\n",
    "scatter = Scatter({'x': x, 'y': y}, width=750, height=400)\n",
    "show(scatter)"
   ]
  },
  {
   "cell_type": "markdown",
   "metadata": {
    "deletable": true,
    "editable": true,
    "slideshow": {
     "slide_type": "slide"
    }
   },
   "source": [
    "### Least Squares the way _you_ do it...\n",
    "\n",
    "...assuming you use `scikit-learn` like every other sane Python programmer."
   ]
  },
  {
   "cell_type": "markdown",
   "metadata": {
    "deletable": true,
    "editable": true,
    "slideshow": {
     "slide_type": "subslide"
    }
   },
   "source": [
    "We looked at a chart of our data and decided to describe it with:\n",
    "\n",
    "* A quadratic term  \n",
    "* A linear term\n",
    "* An offset"
   ]
  },
  {
   "cell_type": "code",
   "execution_count": 3,
   "metadata": {
    "collapsed": false,
    "deletable": true,
    "editable": true,
    "slideshow": {
     "slide_type": "subslide"
    }
   },
   "outputs": [
    {
     "name": "stdout",
     "output_type": "stream",
     "text": [
      "[ 3.04754276 -2.27555522  7.64319348]\n"
     ]
    },
    {
     "name": "stderr",
     "output_type": "stream",
     "text": [
      "/Users/roneil/src/github.com/ryanjoneil/talks/2017/03/data-science-dc/lib/python3.6/site-packages/scipy/linalg/basic.py:884: RuntimeWarning: internal gelsd driver lwork query error, required iwork dimension not returned. This is likely the result of LAPACK bug 0038, fixed in LAPACK 3.2.2 (released July 21, 2010). Falling back to 'gelss' driver.\n",
      "  warnings.warn(mesg, RuntimeWarning)\n"
     ]
    }
   ],
   "source": [
    "from sklearn.linear_model import LinearRegression\n",
    "\n",
    "# Note: A is our feature matrix.\n",
    "#       We intentionally add a \"1\" for the offset, instead of letting \n",
    "#       sklearn do that for us. This will make sense soon.\n",
    "X = np.array([[xi**2, xi, 1] for xi in x])\n",
    "\n",
    "lin = LinearRegression(fit_intercept=False)\n",
    "lin.fit(X, y)\n",
    "\n",
    "print(lin.coef_)"
   ]
  },
  {
   "cell_type": "code",
   "execution_count": 4,
   "metadata": {
    "collapsed": false,
    "deletable": true,
    "editable": true,
    "slideshow": {
     "slide_type": "subslide"
    }
   },
   "outputs": [
    {
     "data": {
      "text/html": [
       "\n",
       "\n",
       "    <div class=\"bk-root\">\n",
       "        <div class=\"bk-plotdiv\" id=\"227ba957-58c4-49d8-b77f-a6ce32df027b\"></div>\n",
       "    </div>\n",
       "<script type=\"text/javascript\">\n",
       "  \n",
       "  (function(global) {\n",
       "    function now() {\n",
       "      return new Date();\n",
       "    }\n",
       "  \n",
       "    var force = false;\n",
       "  \n",
       "    if (typeof (window._bokeh_onload_callbacks) === \"undefined\" || force === true) {\n",
       "      window._bokeh_onload_callbacks = [];\n",
       "      window._bokeh_is_loading = undefined;\n",
       "    }\n",
       "  \n",
       "  \n",
       "    \n",
       "    if (typeof (window._bokeh_timeout) === \"undefined\" || force === true) {\n",
       "      window._bokeh_timeout = Date.now() + 0;\n",
       "      window._bokeh_failed_load = false;\n",
       "    }\n",
       "  \n",
       "    var NB_LOAD_WARNING = {'data': {'text/html':\n",
       "       \"<div style='background-color: #fdd'>\\n\"+\n",
       "       \"<p>\\n\"+\n",
       "       \"BokehJS does not appear to have successfully loaded. If loading BokehJS from CDN, this \\n\"+\n",
       "       \"may be due to a slow or bad network connection. Possible fixes:\\n\"+\n",
       "       \"</p>\\n\"+\n",
       "       \"<ul>\\n\"+\n",
       "       \"<li>re-rerun `output_notebook()` to attempt to load from CDN again, or</li>\\n\"+\n",
       "       \"<li>use INLINE resources instead, as so:</li>\\n\"+\n",
       "       \"</ul>\\n\"+\n",
       "       \"<code>\\n\"+\n",
       "       \"from bokeh.resources import INLINE\\n\"+\n",
       "       \"output_notebook(resources=INLINE)\\n\"+\n",
       "       \"</code>\\n\"+\n",
       "       \"</div>\"}};\n",
       "  \n",
       "    function display_loaded() {\n",
       "      if (window.Bokeh !== undefined) {\n",
       "        document.getElementById(\"227ba957-58c4-49d8-b77f-a6ce32df027b\").textContent = \"BokehJS successfully loaded.\";\n",
       "      } else if (Date.now() < window._bokeh_timeout) {\n",
       "        setTimeout(display_loaded, 100)\n",
       "      }\n",
       "    }\n",
       "  \n",
       "    function run_callbacks() {\n",
       "      window._bokeh_onload_callbacks.forEach(function(callback) { callback() });\n",
       "      delete window._bokeh_onload_callbacks\n",
       "      console.info(\"Bokeh: all callbacks have finished\");\n",
       "    }\n",
       "  \n",
       "    function load_libs(js_urls, callback) {\n",
       "      window._bokeh_onload_callbacks.push(callback);\n",
       "      if (window._bokeh_is_loading > 0) {\n",
       "        console.log(\"Bokeh: BokehJS is being loaded, scheduling callback at\", now());\n",
       "        return null;\n",
       "      }\n",
       "      if (js_urls == null || js_urls.length === 0) {\n",
       "        run_callbacks();\n",
       "        return null;\n",
       "      }\n",
       "      console.log(\"Bokeh: BokehJS not loaded, scheduling load and callback at\", now());\n",
       "      window._bokeh_is_loading = js_urls.length;\n",
       "      for (var i = 0; i < js_urls.length; i++) {\n",
       "        var url = js_urls[i];\n",
       "        var s = document.createElement('script');\n",
       "        s.src = url;\n",
       "        s.async = false;\n",
       "        s.onreadystatechange = s.onload = function() {\n",
       "          window._bokeh_is_loading--;\n",
       "          if (window._bokeh_is_loading === 0) {\n",
       "            console.log(\"Bokeh: all BokehJS libraries loaded\");\n",
       "            run_callbacks()\n",
       "          }\n",
       "        };\n",
       "        s.onerror = function() {\n",
       "          console.warn(\"failed to load library \" + url);\n",
       "        };\n",
       "        console.log(\"Bokeh: injecting script tag for BokehJS library: \", url);\n",
       "        document.getElementsByTagName(\"head\")[0].appendChild(s);\n",
       "      }\n",
       "    };var element = document.getElementById(\"227ba957-58c4-49d8-b77f-a6ce32df027b\");\n",
       "    if (element == null) {\n",
       "      console.log(\"Bokeh: ERROR: autoload.js configured with elementid '227ba957-58c4-49d8-b77f-a6ce32df027b' but no matching script tag was found. \")\n",
       "      return false;\n",
       "    }\n",
       "  \n",
       "    var js_urls = [];\n",
       "  \n",
       "    var inline_js = [\n",
       "      function(Bokeh) {\n",
       "        (function() {\n",
       "          var fn = function() {\n",
       "            var docs_json = {\"23919aba-8b5f-4a3b-8f8a-866c2ca5dc72\":{\"roots\":{\"references\":[{\"attributes\":{\"dimension\":1,\"plot\":{\"id\":\"6d201ce3-3675-4b8a-ab95-dad3d44039f8\",\"subtype\":\"Chart\",\"type\":\"Plot\"},\"ticker\":{\"id\":\"e283b8b1-d419-43af-a6b9-b5e90ba87d56\",\"type\":\"BasicTicker\"}},\"id\":\"7e97b948-562d-4398-83f9-477fa51179ea\",\"type\":\"Grid\"},{\"attributes\":{\"plot\":null,\"text\":null},\"id\":\"5bf14306-ba7d-4f07-b5bf-d13ca384916b\",\"type\":\"Title\"},{\"attributes\":{\"axis_label\":\"x\",\"formatter\":{\"id\":\"32d4b78d-9150-43c0-9ba5-e055c00e8e98\",\"type\":\"BasicTickFormatter\"},\"plot\":{\"id\":\"6d201ce3-3675-4b8a-ab95-dad3d44039f8\",\"subtype\":\"Chart\",\"type\":\"Plot\"},\"ticker\":{\"id\":\"b8f59b1e-6e37-4df1-be35-4613d3ae4915\",\"type\":\"BasicTicker\"}},\"id\":\"07fe29ce-984c-4c48-910d-5563a2044262\",\"type\":\"LinearAxis\"},{\"attributes\":{},\"id\":\"03f477f2-93dd-48cf-a402-aae720d72df3\",\"type\":\"BasicTickFormatter\"},{\"attributes\":{\"bottom_units\":\"screen\",\"fill_alpha\":{\"value\":0.5},\"fill_color\":{\"value\":\"lightgrey\"},\"left_units\":\"screen\",\"level\":\"overlay\",\"line_alpha\":{\"value\":1.0},\"line_color\":{\"value\":\"black\"},\"line_dash\":[4,4],\"line_width\":{\"value\":2},\"plot\":null,\"render_mode\":\"css\",\"right_units\":\"screen\",\"top_units\":\"screen\"},\"id\":\"e0779043-767a-4b6c-b170-c3fd311f9b6b\",\"type\":\"BoxAnnotation\"},{\"attributes\":{\"callback\":null,\"end\":366.91176111192516,\"start\":-25.480980401257924},\"id\":\"0e2c575b-9513-4227-93ce-55ab380d1416\",\"type\":\"Range1d\"},{\"attributes\":{\"plot\":{\"id\":\"6d201ce3-3675-4b8a-ab95-dad3d44039f8\",\"subtype\":\"Chart\",\"type\":\"Plot\"}},\"id\":\"147f4b13-3869-412a-9884-878652718167\",\"type\":\"PanTool\"},{\"attributes\":{\"axis_label\":\"y\",\"formatter\":{\"id\":\"03f477f2-93dd-48cf-a402-aae720d72df3\",\"type\":\"BasicTickFormatter\"},\"plot\":{\"id\":\"6d201ce3-3675-4b8a-ab95-dad3d44039f8\",\"subtype\":\"Chart\",\"type\":\"Plot\"},\"ticker\":{\"id\":\"e283b8b1-d419-43af-a6b9-b5e90ba87d56\",\"type\":\"BasicTicker\"}},\"id\":\"3800bec7-c025-49c8-9837-26f0abb525b4\",\"type\":\"LinearAxis\"},{\"attributes\":{\"plot\":{\"id\":\"6d201ce3-3675-4b8a-ab95-dad3d44039f8\",\"subtype\":\"Chart\",\"type\":\"Plot\"}},\"id\":\"890918a5-fdd2-4f8c-b645-f6ecd5cf59ca\",\"type\":\"WheelZoomTool\"},{\"attributes\":{\"overlay\":{\"id\":\"e0779043-767a-4b6c-b170-c3fd311f9b6b\",\"type\":\"BoxAnnotation\"},\"plot\":{\"id\":\"6d201ce3-3675-4b8a-ab95-dad3d44039f8\",\"subtype\":\"Chart\",\"type\":\"Plot\"}},\"id\":\"651c6627-0d3a-4f41-9dc2-724d20147b7d\",\"type\":\"BoxZoomTool\"},{\"attributes\":{\"plot\":{\"id\":\"6d201ce3-3675-4b8a-ab95-dad3d44039f8\",\"subtype\":\"Chart\",\"type\":\"Plot\"}},\"id\":\"b3a50b77-19e3-4b29-a7fd-c6193f563f02\",\"type\":\"SaveTool\"},{\"attributes\":{\"plot\":{\"id\":\"6d201ce3-3675-4b8a-ab95-dad3d44039f8\",\"subtype\":\"Chart\",\"type\":\"Plot\"}},\"id\":\"bcbc5333-1ead-4b1b-ad32-96eb9baf889f\",\"type\":\"ResetTool\"},{\"attributes\":{\"plot\":{\"id\":\"6d201ce3-3675-4b8a-ab95-dad3d44039f8\",\"subtype\":\"Chart\",\"type\":\"Plot\"}},\"id\":\"71bfc615-90be-4b29-ad5f-3f4fbd84a5ed\",\"type\":\"HelpTool\"},{\"attributes\":{\"data_source\":{\"id\":\"d3ab404b-eca5-4b8e-b416-cf68a98b8a5a\",\"type\":\"ColumnDataSource\"},\"glyph\":{\"id\":\"194ff430-ec9b-4305-8450-5db319244ef3\",\"type\":\"Circle\"},\"hover_glyph\":null,\"nonselection_glyph\":null,\"selection_glyph\":null},\"id\":\"1b4e7967-0957-41fe-a767-2d0b0234532d\",\"type\":\"GlyphRenderer\"},{\"attributes\":{\"fill_alpha\":{\"value\":0.7},\"fill_color\":{\"value\":\"#f22c40\"},\"line_color\":{\"value\":\"#f22c40\"},\"size\":{\"units\":\"screen\",\"value\":8},\"x\":{\"field\":\"x_values\"},\"y\":{\"field\":\"y_values\"}},\"id\":\"194ff430-ec9b-4305-8450-5db319244ef3\",\"type\":\"Circle\"},{\"attributes\":{\"callback\":null,\"end\":11.988148694254617,\"start\":-11.982680876913546},\"id\":\"fa3cc3da-24c5-4ba7-a4b0-599803e42148\",\"type\":\"Range1d\"},{\"attributes\":{\"location\":\"top_left\",\"plot\":{\"id\":\"6d201ce3-3675-4b8a-ab95-dad3d44039f8\",\"subtype\":\"Chart\",\"type\":\"Plot\"}},\"id\":\"f295ac82-3ec5-435c-a959-e07b8e46991c\",\"type\":\"Legend\"},{\"attributes\":{\"callback\":null,\"column_names\":[\"x_values\",\"y_values\"],\"data\":{\"chart_index\":[null,null,null,null,null,null,null,null,null,null,null,null,null,null,null,null,null,null,null,null,null,null,null,null,null,null,null,null,null,null,null,null,null,null,null,null,null,null,null,null,null,null,null,null,null,null,null,null,null,null,null,null,null,null,null,null,null,null,null,null,null,null,null,null,null,null,null,null,null,null,null,null,null,null,null,null,null,null,null,null,null,null,null,null,null,null,null,null,null,null,null,null,null,null,null,null,null,null,null,null,null,null,null,null,null,null,null,null,null,null,null,null,null,null,null,null,null,null,null,null,null,null,null,null,null,null,null,null,null,null,null,null,null,null,null,null,null,null,null,null,null,null,null,null,null,null,null,null,null,null,null,null,null,null,null,null,null,null,null,null,null,null,null,null,null,null,null,null,null,null,null,null,null,null,null,null,null,null,null,null,null,null,null,null,null,null,null,null,null,null,null,null,null,null,null,null,null,null,null,null,null,null,null,null,null,null,null,null,null,null,null,null,null,null,null,null,null,null,null,null,null,null,null,null,null,null,null,null,null,null,null,null,null,null,null,null,null,null,null,null,null,null,null,null,null,null,null,null,null,null,null,null,null,null,null,null,null,null,null,null,null,null,null,null,null,null,null,null,null,null,null,null,null,null,null,null,null,null,null,null,null,null,null,null,null,null,null,null,null,null,null,null,null,null,null,null,null,null,null,null,null,null,null,null,null,null,null,null,null,null,null,null,null,null,null,null,null,null,null,null,null,null,null,null,null,null,null,null,null,null,null,null,null,null,null,null,null,null,null,null,null,null,null,null,null,null,null,null,null,null,null,null,null,null,null,null,null,null,null,null,null,null,null,null,null,null,null,null,null,null,null,null,null,null,null,null,null,null,null,null,null,null,null,null,null,null,null,null,null,null,null,null,null,null,null,null,null,null,null,null,null,null,null,null,null,null,null,null,null,null,null,null,null,null,null,null,null,null,null,null,null,null,null,null,null,null,null,null,null,null,null,null,null,null,null,null,null,null,null,null,null,null,null,null,null,null,null,null,null,null,null,null,null,null,null,null,null,null,null,null,null,null,null,null,null,null,null,null,null,null,null,null,null,null,null,null,null,null,null,null,null,null,null,null,null,null,null,null,null,null,null,null,null,null,null,null,null,null,null,null],\"x_values\":{\"__ndarray__\":\"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\",\"dtype\":\"float64\",\"shape\":[500]},\"y_values\":{\"__ndarray__\":\"25gSAQElREC6EezrXfBZQBphtlm/tDNAGA6fQjpnQEDUOyNyT40dQJguq2PF+DRAwVD/wvzTHUBU17RmYINzQNgkuLw4QF9ANa14SuCBTECdvYZsGPJvQPjJ6wjzvzJANxxGgqcmakCDme6O5GYsQHlRnf/SIEZATsDQ/NKvZkBsks8iVgsjQH8x1dhUfEpAoiTGx6Z3YkAm3CJuPZ9oQDHkBAxShGJAfoqMYVCoI0BE51dsAr5pQArpQpOTAj5At0MiHH6KIUAhTwixSUteQAzQ+SfOWjdAt1VTixcncEARUWjdgDVSQG3tQi8ANh5AkFpBmaoZH0B4XzAf5KpwQJ6NQPV3/FtAdJiXbOkHXEAFnUpREONHQECPFvGC6VVA0Qp02ntXSECpj0EaIhBbQHmHrQX6hyBA9hcBv6qlWkDw/I/uDjEzQGG1oaUkZ1FAOlxF35NAY0AVdfwIkfBkQISVQojNpEBAWwZiJfmIZUB395EihR5XQGSI4C2KuSFAXcNEgQ54bkBogdOMoME1QCUm7DqBsUlAIrBtkDjHOkDsX0d4f2lKQGG24SorgGpASY6KqyvDcEAIonaQ7p8gQNHTHVxNQClAJOkmp7AZIkC/LT3Tn65kQGTv2VndW2JABM8Kq3r9ZkBENpKQL8kyQDlgH6kQukdA6apA20D8HEAGjvMSS6E3QGWbYrsiLEpA5PyxwKXHMUAiMrTjgNVmQN0A7BQ6xmhAosw5fwtEZUDdWc0JTGdcQKR22atdoXRA5aXf6TwWVEBrBMqTFhBwQGIONE2VM3BAcrcqs68sPUDU8zT6zXlpQBawyJfmRz5ALeg1AM8rX0DA+oXLs2hcQLa5IgYj1VpArNwqCcW4UUCYzfdlw+gcQDbA+C7TbG9AyLkFWW4RckAItpYkn6BTQKu50x9nMlhAge/ilIdeUEDKOjqWpf1kQP0QGiP3rGRALaTmSexFI0ASaNsJv4BEQI4uLxrI6SRAxOINJEXIYEBt0C1JJrZeQMmQbTOnO0lABm/fMUMiQEAtVt48kScdQCKBUxcv1B5AQEvFGOYoIEC8RvagzcYdQGSi61zg1TtAg5lCniWmUUDW0jnkxbhsQE4tBNNlQiZAoZhFO1YhU0CFnwvLzOooQNPFUmFZ2GJAXtwZ6Bn2LkAxzIEGcuNaQGCvUCnA9jVAZIf8s0H2PkCoTdafsnQuQLdaOjLtRERAxFdL+W9KSEC7Nwpp6jMfQKb2+R3d/3FA0Nrk+RW9YECjzuairXhoQONjyAspcF1AQFkzzrPlV0A74jro13xAQGXi5+BkuHJAQKd6zfXuNUBEf9ekM+dnQH6dDOORsTpAIusLoTg/SkCQnXK33dMwQAqt1X47tSVA/EcuemfIakCjnPT1ZJF0QOGCN+3wgXBAHOIO2hv9RUCctsAGVgZwQJghimBNhldAD8ChIrwfWECLZKWsGghNQEioeSr4YDJAw6v5GfZVcUAZsCG7HYBhQKSnLAjQVjlA8ByJN+AtWEAIdt/BufpKQDocbVdiUDVAKTTLFqHXT0BdDViLI9RCQOZhDXi5UFZA6LX0y2lxNEB2WrIv55dwQBmdtTNunmBAUatxbLmeb0Ab9UYoMPBlQKHX59YUyilAH3vhS6BDQEAb2EGqBxJpQGAdpZhv41tAGNWw/k52RkDuCRbQQdcwQCsLaJL/M2RA4m0w5C3uYUCx1t8oTihkQBLoe7AwHyJAlvtPTtrpN0Dlw3WGJ0UdQDxN7zVytDVALQ92LmAMR0A8H9+6xJs2QM6qcKLgMExAWZ1DwmP5SUBS3PDhDU9vQEy9JD9H53FA3adAroWmRkANAFBi39JqQHoCNWBlnnBAsK1sdkX7WEBvpPcnhldrQAV5sAlEqmVApLRaIuT6RUDHBSCCMF5pQEUP7argdnBAG8IDgoeWIkBUugMzDB5JQLguFvaGsWRAhGMSZ30OZkBylQiKQFUqQNGdoA2ns1BAzDfZWHqCIEDDNfMZMv1XQLrqgBJZNTJAPNHJZmhLXEDjmIbkWaheQMkDcueJrm1A2w0gRm7lTUCt+fa9QMQyQBwI1a6eUiNA1dL5DqiSUUCJ64ivZNFYQE3mgd0nuF1AA8ZIh9A9X0CJPjz9KkRLQAYSbOcZLztAlE4+X6UhcUCKkx3UkD9MQF5Zs1t7NWdAaaScIcm7QkC7neKVjyBmQJC/Ipdnh1xAq0mXn0aQaEA9WT7IDw9DQDg5nWdbGztAWFYnBv9nakCOqg2u1Q9IQHWGYhNmXGdASMZyC2b2VkBEc3y4Ro5gQMq9A9U/LFlA+7UX4XnbQkBD0Q7ocCVaQJgJcK8dK2ZATKPkBbjyIUDD05U0tBZKQK/KPjpvCWFATRr+8pReHUAHacZkeENhQB6rPwi7WHRApjfyV5G5cEA+vbN7EBMdQIC8tvHzLzJAjLqFouEqUUBCK9im0bE1QB/MVHNP4xxAVKz5KagJKkBz/kKoZJpjQEidbYHD0HRA5IDEKwZgJ0A/tS2MePxlQINCXMMcukBARnbk+DluXUBRwESU1H1yQA1KojvrjURA0vMG8mrSWEA5bdEkA6IvQJQJmdPrcVFAlACUr+d3NEDj1wTZpfMiQOTNLZ9t8j1AfAhIbtFpNkDyS2N6ADtlQFqzDOvOoSxAGGmvNlyPMkCgGBsGJ7BlQFTFgwv8/1hAgTRQKU5ic0DmALFTlaMyQHNyl/DLhR9A0E/x8nw8aUDqo+dSKBlGQFYbYRSLLjRA6SLyEVwzI0ATxe0XVp9tQGmGdLnSYU5AHU2T88rNZ0DERz8IoQNyQFtBTIJtakFA4+smpx6QM0DH390G5M90QHLrzKzb5nJAecl8aTO1ZUD8WwcnuJBQQDoi3gVx521AEX+Ve07PXUBy8RqFgHYpQOrrGQyfD2lAhsfB4DrINEBg4T+lF5FeQPQhx5cEQlNAlvuOmN05OEAXSlcip/luQKvGxLAFiURA+lgZYTGSQEAeYXBt3kdjQABdOax4HlZAYISJRqg2HUDbF4UvIDQiQAgGgqnEhEBAxYu7/kILYkDwRxlsS1BlQBgcavHcJDxArNpVwkTlHEDaXQEESTNjQOUHLZT821tAydH1r9imaUArHBGTGvYkQAdGtHMbFmRAo70zwp49KUCb7HAmhwdUQGG2LW4wDmpA4sTndRamPkCOqH2b2uVcQAuwq7qe8mFAcKS8V3nqHUBu0KN1NbpuQNtM2P4F7nBAS1Wi0U2uHUC1XO2coWRyQB82A/TlLkxAStWBOlagHUBCg8jKQoAdQFJNWxcnP3FAPiFJNc1QNUAgesiXLJRqQBKpF4QKvD9AOLtXsY7CWkBeTvwLpl9CQHThqe+8eWJA6exITD52dEB8TYs66JMqQMbVjNzFY3BAqtkf2YD4cECkV2rDgZk/QG2WPa2bmTZAe6+onWnjHECg+NMBtW5RQAFB5fkkJC1AaYm0AAHZa0D0YqwfjEtwQFd9aVYQgStAKwNklqffUkAYsd/8i8YxQJSLwJ612EJAesK5XG9yXUBu+B9Ud4Z0QFH8acxtm2hAfv7dpi3/HkAa0oxEu9UeQPjadPyWg1FAceRlRyLFcEBG0owkVCxcQOC1/ne1mR9ApVpy/ePzXEDD0hi/OddBQEGrxn2qB2BAXNRW24QyXkCpFDXFDk9xQEUfI4iSmkRAvBVzACNnHUDOVn0vWohRQH2Ww9NbNGJAZY6ltsDSIEALGdi+C4BjQKRz1IKX62dArrwQzb47MkAi/TXhkbhyQP5AX73WMWhAkR/D5SLNX0BKNe8DvLFtQClaX6Fr21xAVp1cr79xb0AE1yxtnLk5QHSyUBerulZAhz7g2WXjdEAM5veE9ZNtQLqFMcN6721AadAtdzV8Y0CaSC7K/UdgQNdjxYfv7xxAdn5Ripv/HEA+nxAcqN8cQGzSVTDeJlhAyTOjdN/2IEC7jGynOb9sQCIegRAobh1A0V3yRM5+b0CcNd4bHMhXQAZJYY3bkDBA3HHxFK4SYUBzPx+HsKFxQKzdf1NLq21AITa5s0qZb0BWIMbutZVjQAj357D3GUlAHWS0rOLCZ0DLadYyNVpMQMqPyY2hOVZA0BnDwrr6L0BrTofAXyNgQGPEdZQziU9Aqv11r2GHM0D7KnwG+9BhQM14wTRvQG1Agx07Ncb+bEBinot1qmtUQDDLxik96mtAXEt2zfgVU0CQnUILaGZeQCDCc8mNlR9AMOkSWim6SkAcZLnElwlxQNKTEUFYBnJAt4GucexAQUDFr8EqwrlFQLJzsqYldThA08kb75F/QkDG/CnUs/dMQBSwKRZyPWRACOdv1bOsUEDluIIHr55tQI1xTqa+DWBAuhBEkZV8ZkAm9GnCTBpUQLJU047Om3FA5FCWgABFNEAypfsdGxUzQP256ZJmiEZA24wS9A6GcEBBAXz9sQwlQNYQxBHZnyJAATIDwmCrZkCDfDj+lOtUQCY040iJ4z9AskLDDDl1UEAmp62WFh1JQOrjK8ouDDNAKTRC96ZTcUCf9dcNuWIjQKjbqsBW9zRA0vI8GZMnJEB3cL1qDRtsQKSyHYl7VUFA2NabH5XFIEB1Y9DfOFVnQG7pQdtgRDlAMR+A6GEMT0Duw4RLWTtxQKytNIsSIiFAZViYwHdSckDfgYVm5bRcQCqEhtaCqzBAY8ZvRSmGcUAbyh8GlA9UQLRemfmF1UFA3feej4ofT0BO/3aA6/pZQPQrNe/5xB1A/dsz6hNQQ0Aap6QGixVCQOafHZXRm1dArTInU7ffcUAixRcfB4xzQC530Mfj1VNAKk6xuYQ8MED3Q6hB/7odQE2TdhpikmRAHsqF6EHTQkBo9PDmOPQjQAzGpCTP7CFAWyhkKZ41cEC06dKRGrEiQLY0nkJ6iENAq9M0l4ImH0DQmyG8S8QmQLobWk1LF1BA9NyzAm+VR0AoqCnlCZBAQOxk2WhAy19AYje7sZqJH0AqJoIphjBXQHQWCBGmRUlA8ozLRYj5LEDSzvT9LrtDQEyU5crdDzZAd32DJjoIdEA/KIRRigBsQOrBY5jdACxAjerT7GX9JkAttOqvPh9WQDK+bSb5HTlAzGJnJUqSbEDf28xcDGBPQKh9ggsdsUlAeOGmUblNTkBfvaG+e990QDvuIDn5gmRAkQ5u32/IY0BkF7gtZ7JdQO1bKpE/vHBAIqCkI9ZkWUC8zwU7p+xaQCm2JnO6YGZA92wW/VtlYkBmQ1/6s1phQPeJa/UX72JAO3yxK9w0Y0CY8pYUsV8yQN0mSa+GFmNAfcyznwg4YkD2qm6XdepxQOK/tItTvklAzFhyfWp6UkDV4laf9XNIQA==\",\"dtype\":\"float64\",\"shape\":[500]}}},\"id\":\"d3ab404b-eca5-4b8e-b416-cf68a98b8a5a\",\"type\":\"ColumnDataSource\"},{\"attributes\":{},\"id\":\"32d4b78d-9150-43c0-9ba5-e055c00e8e98\",\"type\":\"BasicTickFormatter\"},{\"attributes\":{\"active_drag\":\"auto\",\"active_scroll\":\"auto\",\"active_tap\":\"auto\",\"tools\":[{\"id\":\"147f4b13-3869-412a-9884-878652718167\",\"type\":\"PanTool\"},{\"id\":\"890918a5-fdd2-4f8c-b645-f6ecd5cf59ca\",\"type\":\"WheelZoomTool\"},{\"id\":\"651c6627-0d3a-4f41-9dc2-724d20147b7d\",\"type\":\"BoxZoomTool\"},{\"id\":\"b3a50b77-19e3-4b29-a7fd-c6193f563f02\",\"type\":\"SaveTool\"},{\"id\":\"bcbc5333-1ead-4b1b-ad32-96eb9baf889f\",\"type\":\"ResetTool\"},{\"id\":\"71bfc615-90be-4b29-ad5f-3f4fbd84a5ed\",\"type\":\"HelpTool\"}]},\"id\":\"887a4034-8239-4e46-aa87-4012c5eda66c\",\"type\":\"Toolbar\"},{\"attributes\":{},\"id\":\"b8f59b1e-6e37-4df1-be35-4613d3ae4915\",\"type\":\"BasicTicker\"},{\"attributes\":{},\"id\":\"3b47a761-6e2a-4327-bfd5-511be37cb441\",\"type\":\"ToolEvents\"},{\"attributes\":{\"plot\":{\"id\":\"6d201ce3-3675-4b8a-ab95-dad3d44039f8\",\"subtype\":\"Chart\",\"type\":\"Plot\"},\"ticker\":{\"id\":\"b8f59b1e-6e37-4df1-be35-4613d3ae4915\",\"type\":\"BasicTicker\"}},\"id\":\"38a7b00f-5d07-487b-8481-c61cf73cd1a0\",\"type\":\"Grid\"},{\"attributes\":{\"below\":[{\"id\":\"07fe29ce-984c-4c48-910d-5563a2044262\",\"type\":\"LinearAxis\"}],\"css_classes\":null,\"height\":400,\"left\":[{\"id\":\"3800bec7-c025-49c8-9837-26f0abb525b4\",\"type\":\"LinearAxis\"}],\"renderers\":[{\"id\":\"e0779043-767a-4b6c-b170-c3fd311f9b6b\",\"type\":\"BoxAnnotation\"},{\"id\":\"1b4e7967-0957-41fe-a767-2d0b0234532d\",\"type\":\"GlyphRenderer\"},{\"id\":\"f295ac82-3ec5-435c-a959-e07b8e46991c\",\"type\":\"Legend\"},{\"id\":\"07fe29ce-984c-4c48-910d-5563a2044262\",\"type\":\"LinearAxis\"},{\"id\":\"3800bec7-c025-49c8-9837-26f0abb525b4\",\"type\":\"LinearAxis\"},{\"id\":\"38a7b00f-5d07-487b-8481-c61cf73cd1a0\",\"type\":\"Grid\"},{\"id\":\"7e97b948-562d-4398-83f9-477fa51179ea\",\"type\":\"Grid\"}],\"title\":{\"id\":\"5bf14306-ba7d-4f07-b5bf-d13ca384916b\",\"type\":\"Title\"},\"tool_events\":{\"id\":\"3b47a761-6e2a-4327-bfd5-511be37cb441\",\"type\":\"ToolEvents\"},\"toolbar\":{\"id\":\"887a4034-8239-4e46-aa87-4012c5eda66c\",\"type\":\"Toolbar\"},\"width\":750,\"x_mapper_type\":\"auto\",\"x_range\":{\"id\":\"fa3cc3da-24c5-4ba7-a4b0-599803e42148\",\"type\":\"Range1d\"},\"y_mapper_type\":\"auto\",\"y_range\":{\"id\":\"0e2c575b-9513-4227-93ce-55ab380d1416\",\"type\":\"Range1d\"}},\"id\":\"6d201ce3-3675-4b8a-ab95-dad3d44039f8\",\"subtype\":\"Chart\",\"type\":\"Plot\"},{\"attributes\":{},\"id\":\"e283b8b1-d419-43af-a6b9-b5e90ba87d56\",\"type\":\"BasicTicker\"}],\"root_ids\":[\"6d201ce3-3675-4b8a-ab95-dad3d44039f8\"]},\"title\":\"Bokeh Application\",\"version\":\"0.12.4\"}};\n",
       "            var render_items = [{\"docid\":\"23919aba-8b5f-4a3b-8f8a-866c2ca5dc72\",\"elementid\":\"227ba957-58c4-49d8-b77f-a6ce32df027b\",\"modelid\":\"6d201ce3-3675-4b8a-ab95-dad3d44039f8\"}];\n",
       "            \n",
       "            Bokeh.embed.embed_items(docs_json, render_items);\n",
       "          };\n",
       "          if (document.readyState != \"loading\") fn();\n",
       "          else document.addEventListener(\"DOMContentLoaded\", fn);\n",
       "        })();\n",
       "      },\n",
       "      function(Bokeh) {\n",
       "      }\n",
       "    ];\n",
       "  \n",
       "    function run_inline_js() {\n",
       "      \n",
       "      if ((window.Bokeh !== undefined) || (force === true)) {\n",
       "        for (var i = 0; i < inline_js.length; i++) {\n",
       "          inline_js[i](window.Bokeh);\n",
       "        }if (force === true) {\n",
       "          display_loaded();\n",
       "        }} else if (Date.now() < window._bokeh_timeout) {\n",
       "        setTimeout(run_inline_js, 100);\n",
       "      } else if (!window._bokeh_failed_load) {\n",
       "        console.log(\"Bokeh: BokehJS failed to load within specified timeout.\");\n",
       "        window._bokeh_failed_load = true;\n",
       "      } else if (force !== true) {\n",
       "        var cell = $(document.getElementById(\"227ba957-58c4-49d8-b77f-a6ce32df027b\")).parents('.cell').data().cell;\n",
       "        cell.output_area.append_execute_result(NB_LOAD_WARNING)\n",
       "      }\n",
       "  \n",
       "    }\n",
       "  \n",
       "    if (window._bokeh_is_loading === 0) {\n",
       "      console.log(\"Bokeh: BokehJS loaded, going straight to plotting\");\n",
       "      run_inline_js();\n",
       "    } else {\n",
       "      load_libs(js_urls, function() {\n",
       "        console.log(\"Bokeh: BokehJS plotting callback run at\", now());\n",
       "        run_inline_js();\n",
       "      });\n",
       "    }\n",
       "  }(this));\n",
       "</script>"
      ]
     },
     "metadata": {},
     "output_type": "display_data"
    }
   ],
   "source": [
    "# How'd we do?\n",
    "y_hat = lin.predict(X)\n",
    "scatter = Scatter({'x': x, 'y': y_hat}, width=750, height=400)\n",
    "show(scatter)"
   ]
  },
  {
   "cell_type": "markdown",
   "metadata": {
    "deletable": true,
    "editable": true,
    "slideshow": {
     "slide_type": "slide"
    }
   },
   "source": [
    "### Least Squares the way your _grandparents_ did it...\n",
    "\n",
    "...with chalk and a slab of slate."
   ]
  },
  {
   "cell_type": "markdown",
   "metadata": {
    "deletable": true,
    "editable": true,
    "slideshow": {
     "slide_type": "subslide"
    }
   },
   "source": [
    "Construct a function to calculate the sum of squared residuals...\n",
    "\n",
    "$$\n",
    "\\begin{align}\n",
    "    \\text{min}\\ f(\\beta) & = \\frac{1}{2} ||y - X \\beta||^2 \\\\\n",
    "                         & \\\\\n",
    "                         & = \\frac{1}{2} (y - X \\beta)'(y - X \\beta) \\\\\n",
    "                         & \\\\\n",
    "                         & = \\frac{1}{2} y'y - y'X\\beta + \\frac{1}{2} \\beta'X'X\\beta \\\\\n",
    "                         & \\\\\n",
    "                         & = \\frac{1}{2} y'y - y'X\\beta + \\frac{1}{2} \\beta'X'X\\beta \\\\\n",
    "                         & \\\\\n",
    "\\end{align}\n",
    "$$"
   ]
  },
  {
   "cell_type": "markdown",
   "metadata": {
    "deletable": true,
    "editable": true,
    "slideshow": {
     "slide_type": "subslide"
    }
   },
   "source": [
    "#### First Order Necessary Conditions\n",
    "\n",
    "...and take its derivative to find a closed-form solution.\n",
    "\n",
    "$$\\nabla f(\\beta) = X'X\\beta - y'X\\beta = 0$$  \n",
    "$$\\beta = (X'X)^{-1}X'y$$"
   ]
  },
  {
   "cell_type": "code",
   "execution_count": 5,
   "metadata": {
    "collapsed": false,
    "deletable": true,
    "editable": true,
    "slideshow": {
     "slide_type": "subslide"
    }
   },
   "outputs": [
    {
     "name": "stdout",
     "output_type": "stream",
     "text": [
      "[ 3.04754276 -2.27555522  7.64319348]\n"
     ]
    }
   ],
   "source": [
    "from numpy.linalg import inv\n",
    "\n",
    "# beta = (X'X)^-1 * X * y\n",
    "Xt = X.transpose()\n",
    "pseudo_inv = inv(np.matmul(Xt, X))\n",
    "beta = np.matmul(np.matmul(pseudo_inv, Xt), y)\n",
    "print(beta)"
   ]
  },
  {
   "cell_type": "code",
   "execution_count": 6,
   "metadata": {
    "collapsed": false,
    "deletable": true,
    "editable": true,
    "slideshow": {
     "slide_type": "subslide"
    }
   },
   "outputs": [
    {
     "data": {
      "text/html": [
       "\n",
       "\n",
       "    <div class=\"bk-root\">\n",
       "        <div class=\"bk-plotdiv\" id=\"2997b0f0-3d1d-4bb8-af9b-b4c9b7ec4bf5\"></div>\n",
       "    </div>\n",
       "<script type=\"text/javascript\">\n",
       "  \n",
       "  (function(global) {\n",
       "    function now() {\n",
       "      return new Date();\n",
       "    }\n",
       "  \n",
       "    var force = false;\n",
       "  \n",
       "    if (typeof (window._bokeh_onload_callbacks) === \"undefined\" || force === true) {\n",
       "      window._bokeh_onload_callbacks = [];\n",
       "      window._bokeh_is_loading = undefined;\n",
       "    }\n",
       "  \n",
       "  \n",
       "    \n",
       "    if (typeof (window._bokeh_timeout) === \"undefined\" || force === true) {\n",
       "      window._bokeh_timeout = Date.now() + 0;\n",
       "      window._bokeh_failed_load = false;\n",
       "    }\n",
       "  \n",
       "    var NB_LOAD_WARNING = {'data': {'text/html':\n",
       "       \"<div style='background-color: #fdd'>\\n\"+\n",
       "       \"<p>\\n\"+\n",
       "       \"BokehJS does not appear to have successfully loaded. If loading BokehJS from CDN, this \\n\"+\n",
       "       \"may be due to a slow or bad network connection. Possible fixes:\\n\"+\n",
       "       \"</p>\\n\"+\n",
       "       \"<ul>\\n\"+\n",
       "       \"<li>re-rerun `output_notebook()` to attempt to load from CDN again, or</li>\\n\"+\n",
       "       \"<li>use INLINE resources instead, as so:</li>\\n\"+\n",
       "       \"</ul>\\n\"+\n",
       "       \"<code>\\n\"+\n",
       "       \"from bokeh.resources import INLINE\\n\"+\n",
       "       \"output_notebook(resources=INLINE)\\n\"+\n",
       "       \"</code>\\n\"+\n",
       "       \"</div>\"}};\n",
       "  \n",
       "    function display_loaded() {\n",
       "      if (window.Bokeh !== undefined) {\n",
       "        document.getElementById(\"2997b0f0-3d1d-4bb8-af9b-b4c9b7ec4bf5\").textContent = \"BokehJS successfully loaded.\";\n",
       "      } else if (Date.now() < window._bokeh_timeout) {\n",
       "        setTimeout(display_loaded, 100)\n",
       "      }\n",
       "    }\n",
       "  \n",
       "    function run_callbacks() {\n",
       "      window._bokeh_onload_callbacks.forEach(function(callback) { callback() });\n",
       "      delete window._bokeh_onload_callbacks\n",
       "      console.info(\"Bokeh: all callbacks have finished\");\n",
       "    }\n",
       "  \n",
       "    function load_libs(js_urls, callback) {\n",
       "      window._bokeh_onload_callbacks.push(callback);\n",
       "      if (window._bokeh_is_loading > 0) {\n",
       "        console.log(\"Bokeh: BokehJS is being loaded, scheduling callback at\", now());\n",
       "        return null;\n",
       "      }\n",
       "      if (js_urls == null || js_urls.length === 0) {\n",
       "        run_callbacks();\n",
       "        return null;\n",
       "      }\n",
       "      console.log(\"Bokeh: BokehJS not loaded, scheduling load and callback at\", now());\n",
       "      window._bokeh_is_loading = js_urls.length;\n",
       "      for (var i = 0; i < js_urls.length; i++) {\n",
       "        var url = js_urls[i];\n",
       "        var s = document.createElement('script');\n",
       "        s.src = url;\n",
       "        s.async = false;\n",
       "        s.onreadystatechange = s.onload = function() {\n",
       "          window._bokeh_is_loading--;\n",
       "          if (window._bokeh_is_loading === 0) {\n",
       "            console.log(\"Bokeh: all BokehJS libraries loaded\");\n",
       "            run_callbacks()\n",
       "          }\n",
       "        };\n",
       "        s.onerror = function() {\n",
       "          console.warn(\"failed to load library \" + url);\n",
       "        };\n",
       "        console.log(\"Bokeh: injecting script tag for BokehJS library: \", url);\n",
       "        document.getElementsByTagName(\"head\")[0].appendChild(s);\n",
       "      }\n",
       "    };var element = document.getElementById(\"2997b0f0-3d1d-4bb8-af9b-b4c9b7ec4bf5\");\n",
       "    if (element == null) {\n",
       "      console.log(\"Bokeh: ERROR: autoload.js configured with elementid '2997b0f0-3d1d-4bb8-af9b-b4c9b7ec4bf5' but no matching script tag was found. \")\n",
       "      return false;\n",
       "    }\n",
       "  \n",
       "    var js_urls = [];\n",
       "  \n",
       "    var inline_js = [\n",
       "      function(Bokeh) {\n",
       "        (function() {\n",
       "          var fn = function() {\n",
       "            var docs_json = {\"8e8b2552-eeb1-4684-a243-b9ef66c589c6\":{\"roots\":{\"references\":[{\"attributes\":{\"bottom_units\":\"screen\",\"fill_alpha\":{\"value\":0.5},\"fill_color\":{\"value\":\"lightgrey\"},\"left_units\":\"screen\",\"level\":\"overlay\",\"line_alpha\":{\"value\":1.0},\"line_color\":{\"value\":\"black\"},\"line_dash\":[4,4],\"line_width\":{\"value\":2},\"plot\":null,\"render_mode\":\"css\",\"right_units\":\"screen\",\"top_units\":\"screen\"},\"id\":\"a0341e83-6653-46df-9101-15fea9cb6cb3\",\"type\":\"BoxAnnotation\"},{\"attributes\":{\"plot\":{\"id\":\"c5db0427-1cb1-474f-b31e-b492dcea304d\",\"subtype\":\"Chart\",\"type\":\"Plot\"}},\"id\":\"e77f6687-10ef-41d5-9ed0-ff280b2655bd\",\"type\":\"ResetTool\"},{\"attributes\":{\"plot\":{\"id\":\"c5db0427-1cb1-474f-b31e-b492dcea304d\",\"subtype\":\"Chart\",\"type\":\"Plot\"}},\"id\":\"21305e5a-1120-4eb1-b376-8ede4d40b389\",\"type\":\"HelpTool\"},{\"attributes\":{\"plot\":{\"id\":\"c5db0427-1cb1-474f-b31e-b492dcea304d\",\"subtype\":\"Chart\",\"type\":\"Plot\"}},\"id\":\"4c08cbae-7404-405d-ab4f-fdbcf906f99f\",\"type\":\"PanTool\"},{\"attributes\":{\"plot\":{\"id\":\"c5db0427-1cb1-474f-b31e-b492dcea304d\",\"subtype\":\"Chart\",\"type\":\"Plot\"}},\"id\":\"6de8a3bc-2f9a-4b4c-9139-04d6f3fd779e\",\"type\":\"SaveTool\"},{\"attributes\":{\"overlay\":{\"id\":\"a0341e83-6653-46df-9101-15fea9cb6cb3\",\"type\":\"BoxAnnotation\"},\"plot\":{\"id\":\"c5db0427-1cb1-474f-b31e-b492dcea304d\",\"subtype\":\"Chart\",\"type\":\"Plot\"}},\"id\":\"410c2fd7-b91f-4a76-b1c9-3d0d01ae6632\",\"type\":\"BoxZoomTool\"},{\"attributes\":{\"data_source\":{\"id\":\"02743e2b-65a2-4f52-90e5-016ee74dfe67\",\"type\":\"ColumnDataSource\"},\"glyph\":{\"id\":\"da67e178-16f1-4598-9c27-59123db2d344\",\"type\":\"Circle\"},\"hover_glyph\":null,\"nonselection_glyph\":null,\"selection_glyph\":null},\"id\":\"b26b1769-a4fe-46eb-a4af-5963a0a424db\",\"type\":\"GlyphRenderer\"},{\"attributes\":{\"fill_alpha\":{\"value\":0.7},\"fill_color\":{\"value\":\"#f22c40\"},\"line_color\":{\"value\":\"#f22c40\"},\"size\":{\"units\":\"screen\",\"value\":8},\"x\":{\"field\":\"x_values\"},\"y\":{\"field\":\"y_values\"}},\"id\":\"da67e178-16f1-4598-9c27-59123db2d344\",\"type\":\"Circle\"},{\"attributes\":{\"axis_label\":\"x\",\"formatter\":{\"id\":\"734ad739-a557-412f-aadf-77b8c650e0b4\",\"type\":\"BasicTickFormatter\"},\"plot\":{\"id\":\"c5db0427-1cb1-474f-b31e-b492dcea304d\",\"subtype\":\"Chart\",\"type\":\"Plot\"},\"ticker\":{\"id\":\"223f470d-558e-4786-afae-5d1c5306d4ea\",\"type\":\"BasicTicker\"}},\"id\":\"de131e0f-c0fb-4db5-93a0-63ac815e03b6\",\"type\":\"LinearAxis\"},{\"attributes\":{\"callback\":null,\"column_names\":[\"x_values\",\"y_values\"],\"data\":{\"chart_index\":[null,null,null,null,null,null,null,null,null,null,null,null,null,null,null,null,null,null,null,null,null,null,null,null,null,null,null,null,null,null,null,null,null,null,null,null,null,null,null,null,null,null,null,null,null,null,null,null,null,null,null,null,null,null,null,null,null,null,null,null,null,null,null,null,null,null,null,null,null,null,null,null,null,null,null,null,null,null,null,null,null,null,null,null,null,null,null,null,null,null,null,null,null,null,null,null,null,null,null,null,null,null,null,null,null,null,null,null,null,null,null,null,null,null,null,null,null,null,null,null,null,null,null,null,null,null,null,null,null,null,null,null,null,null,null,null,null,null,null,null,null,null,null,null,null,null,null,null,null,null,null,null,null,null,null,null,null,null,null,null,null,null,null,null,null,null,null,null,null,null,null,null,null,null,null,null,null,null,null,null,null,null,null,null,null,null,null,null,null,null,null,null,null,null,null,null,null,null,null,null,null,null,null,null,null,null,null,null,null,null,null,null,null,null,null,null,null,null,null,null,null,null,null,null,null,null,null,null,null,null,null,null,null,null,null,null,null,null,null,null,null,null,null,null,null,null,null,null,null,null,null,null,null,null,null,null,null,null,null,null,null,null,null,null,null,null,null,null,null,null,null,null,null,null,null,null,null,null,null,null,null,null,null,null,null,null,null,null,null,null,null,null,null,null,null,null,null,null,null,null,null,null,null,null,null,null,null,null,null,null,null,null,null,null,null,null,null,null,null,null,null,null,null,null,null,null,null,null,null,null,null,null,null,null,null,null,null,null,null,null,null,null,null,null,null,null,null,null,null,null,null,null,null,null,null,null,null,null,null,null,null,null,null,null,null,null,null,null,null,null,null,null,null,null,null,null,null,null,null,null,null,null,null,null,null,null,null,null,null,null,null,null,null,null,null,null,null,null,null,null,null,null,null,null,null,null,null,null,null,null,null,null,null,null,null,null,null,null,null,null,null,null,null,null,null,null,null,null,null,null,null,null,null,null,null,null,null,null,null,null,null,null,null,null,null,null,null,null,null,null,null,null,null,null,null,null,null,null,null,null,null,null,null,null,null,null,null,null,null,null,null,null,null,null,null,null,null,null,null,null,null,null,null,null,null,null,null,null,null,null,null,null,null,null,null,null,null,null,null,null],\"x_values\":{\"__ndarray__\":\"TM1XdhNXDUBQLgQ9nwEYQHAxsnpHLgNAUFFmcvYqCkBAkbtj3ZfBP3DaAqNO+wNAIKv8IaTm5D9KQqaw2UIjwCyLK65aXBpAYDCRMu1ZDcDwYBkmGM0iQNBNILRbJvm/NMoO2nQHIUCgtVyANzH+P0iTkfMT5wjAJO7+21DBHMDAe/0DGcDfvzQNQRG3AgzAxProrKunHEC2ULUJR4cgQBQaH3PatBnA6LIDTwbI9D9WByVWjM4ewGDPVF1Q3QhAYKgu04PH1b840fSaePcWwMwoVqEqZQVAuLfKxsvnIkC+NTPXPhERwOBoPw25i+Y/UOO/AIuf6T9UQmdKF7UhwFL+77189BXATI5wEDf2GEDcwoZs0BUQQLqx6SPlChZArDhhY7qFCsBswuXAT4YYQMCoo0pYPsu/VKwpG5JVGEDQK7he/tcCQHIE+isImxDAdK+yrlJBHUAEgNa56oAeQKR81W58YgpAWC/evtTxG8CS4sDU4qkTwHCsTxaWufE/Eqlu0dJdIkCEYHIyr3UEQDBmhqCmuBBACJCv5AxBB0BIF0P78fULwDRy1b3VSx/AVpCRRjBBI0CAAZpsiR7vP9ADc0ApSfs/SDoqWMRg8j+EJNTPa1QbwFRWfzSMlRnAeFaB/6XzH0C4zoQxnpICQFzPpRrbFArAYMTAkmbE0T8o9f//M40FQFB3AxYyzAvAEG0FMyvhAUDEI0Z4CdgfQOq2ofHYKx7A0kJcVn/AG8AMf2jhIiQWwGb5qo/N1iPAznMignIWFUAwcrIULFwhwIQCAXAD7yJAMA4B2LJ1CED+8qtKWM8gQCxzL81GBQPAJP6YnbpTGkCYHwDDXSEZQBjt6EhaaxhAFivWHMHGE0AgSYMMA1rbP5HGE5XfJyHA4h+ZPi37I0BGOS+GBNcUQI8LlnoeMRTAZA5DGMT9D8BeiCIlxo0bwPAFw2rRTx5A4FjS88qO4L+M5QualKYHwDDhgfztCeW/0MhaXrtRG0DNL4iYLSUXwPyG4R/OjxBA0F5jCCfsCUBAkMcTb1vMPwAgMZ4ZzJu/gKXq2StExL9Qy9Kf8KfkP4gtSqBtywdApMnV53C/EMDGuvseN1ggwNCEOTR9Gfg/oC24F3KRFECYQ4m9P/T6PxBi/mEJ8hxArPJPWbwoAEAwxun4S3UVwCB7AXGROP2/6DHSYtxXA8CoXOdxhOn/P2yv8H53cA1ABIB2FtM6EEAADraJO1Owv06AXD5GcyLAGC+Cj6FIG0DIrf1uQPgdwHBMr7pKlRlAwgus2nUIF0CIcVg0TUUEwAqC8Swx1yLA4BUUJUQv/b8WN1MIj5YdwJg4XxOcPAHAutmKZzTZC8D4V2TZOjEBQJCIE/nycvc/nH4R7Ph5H8CYQL5mps4jwJxveCgJHCNAuBjvNCLMCMB4+9bz0NQiQCxuSKnB2RZAykapmq0kF0CoFG8b7dQRQKB6/1LHSwJA4HdIy7+TI0AQdDcT+OgYwLR5Qz1ThQDAKFXMRIgrF0AMCkqr41cMwOgUbiQbMQRANO44nxO2EkBwV3X+EUUMQL1Dd4HEQhPAECXub9umA0BZ1ptGRqohwMcsGxoEMxjAaKYAXsm0IkAQpR45GzscwJA4bQ61ue+/CHKHH2kRBMDSoC5j910ewB4iv19E6RXAeAX31SgnCcAYgJ9bDHX2v/SqHEGH+hrAzDmdYo48HECAobsM5vEawMC90paR3tm/yA+WKxG2BUAAPK4xGLTIP8D5fZzBbQRAAC9G7UuWCcAAHmbaZPv9v9B/pkQoJQ3ARC4ZOlvREEDSpu/tb50iQKwC+HUc5CNA9Hs5Ow1LCcCGRREnnz4hQKD8LWFHLCNAVqrHfCaOF0A21ACupdQfwPjbZ1ImBh9AULZQKqvDDkCu/VsoT8YgQMlxrf1mlyHAqMWyE4Qt8z+Em9CwvRELwCDIqz0kUx5ABFb3LBdNH0DgwYVVjlP8P7p6bLNOLhNAAK+DsJfbyr+ojWGx5hMXQJAgHgIRafi/sEthp7sXFsAYtAKM5hsaQMiTrGRfISJA0MmBX7E9DsAIc7TrKSz5vwAYYt56TPQ/NEQzV9CwE0CASm/yLnoXQG2r2vX8txbA5NYZd1ZbGkCYYuCv94gMwPzM99aXdgdAjjUXdi/4IcA01pFB+5MRQDZsb0UVDSBAxFYCW5k3BsCY4F3Bz1kfQCAgnWX9LhlADtizpfwHHsDsbXkTnnwGwGgZnko/cwHAtCOZzVY8H8Dq2sxb4yUQQJZuUyVpGiBA6BHx6oqSFkDc/qeFZyIbQIokds1ppRdArq/WUfNRBsBAtXzJUhoYQFuRpFKgZBzAANR+6qqu2L/Gb2vNj70LwFSNWJuChhtAwFOg/zH5xT+QA7lWKrUbQC6xP1efsSPAWkd+xbw7I0AgUw5F3w3gP8DXRuWaYfi/viz4GIt0E0BYFO2mLGwEQGCtG+oRtNU/qOkDjhYM/D88yp1CVogawKJEgpXs7iPAiNxYNGJZ+T/IZ2aBx0McwKgQduiUdQpARpUZ3deXFsAHrdzZsrciwPgtgUcrqg1AkHerNKx6F0CQ4oC8uOb0vwyNktpHoRDAlJTTDfKqA0BQaOU+gb7zPyRsAcdY3ALA9JtFCqTZBEAPbDQ+ALobwADscwKscfK/KIvYBXhrAkD8jle1VQofQFZHMJXJkxTA6pSM/HYxI8CUXZZJNHkCQBA4wq413eo/IHlyiOd5HsDGPPF4TeEIwJC5I4iDfANAgKgG/Fwe9D98yjzfeZ4gwCCMEXzziw7A/I5KMP1AIECyf9heVXUiwKRg73BPEQtAoEfk7386+r8VKaAbe+4jwFLjP+0J8CLAvAAqDuwNH0AqrPx/hRkTQK+qCeQ4tCDAEC46MKC+GUAgWoopT377PxKy2OhgXB7AkLHSYgDI+7+QkmOl+BEaQBhCUyVnoxRAoERnvAjT/7/I98jj+AUhwG5IKh0arQfA8MigVoxYBMD0ozEZ1kYdQPX9+BtIKRPAINNFZEBK4T+g9GX8NY3yPySVkBqqRQpAkMXtDltTHEB4W77s5MUeQCBl950j8wdAAN3pD+0t1T+GTjGypzoawPCfZpHs5RXAcn15RwreIECgYlFoDIf2P/zKyqgN4R1A+Ezoh4RG+z90sTnpjg4VQADQvt2DAh/AJPpIqQkyA8BOwqCIGlwWwNRl+uAKQBxA4FA5sMxN5T9h3qRgMPMgwFwNwURwWSNAEOHCp3ou5D95UDQHFqoiwJI0yBbdIw3A8EscGv7l4z8Amx6e2jTjP/bSJ4gDhyNAMDF4fUxw/L/wVE5To1gfwLjpnhdVrQlAmHbmRNZiGEBsz4/Nk+MLQFj3555IqRxAauy/3MLAI8DYZsilspvwv6wZPs/ACiNAqHOHqVlfI0BIGjJFVJ0JQAAciLje+P2/4IiC+kis1T9ACBsJa58QwAjcwEE00/4/liSTUzuRIUA9M6Kbhn4hwGjy9CmeZv0/NU01Z4xwEcCwm2zOXM73v0YlIXqnTwbAaAeFeK2ZFsBw/nduEMkjwJt5Z8lpDx7AABcKTB6Gpr8AUF5pRm6cv1a7H6QcqBNAuAQfZE1CI0AwjO+afAYZQICxJtUwgLm/wJKBneJeGUC8tUvPeG8LQHLoub2bthfABLh4V2/pGUDrhblemBEiwCiNdDzpugfAwOlowVCd4j9nC24yQq4QwDy6OBtycxxA4Jz67F747z8CFY8okXQawOsNSj6GmR3A8IRQoedx+L8P2KNMSdciwPAfsKu3YiBADNB9epSXGkCcJshyViIiQOwZj18dVBlAUx/iLlEpIcBgz8Wvb7MGQC5vdM+0dBZAws0XkWD4I8CeSJSCVhkiQP23MM6jtiDAlMPA/EluHUCkohTAlegaQMAf6MRtRdM/QM/E3Phq0T/AGZkYLdfXP8QbCvgiKBdAOCujDt1G8D8oBULtf9ghQKD7cxT6yOI/bC2iQHKrIkCk24b5A/oWQPy+golb/wBAxGxI7PaNG0BUxcybfT8iwMoAV/0WoiDAZrFYN+U0IcAcuVjdboEdQGwVpL7jDgvAxGM3ZEs9IECYgJIeIEANwOSVYDmtMxZA/KDg5w+PAEDUqLnlQcoaQG5i4tEYnhJAQF7UPRgv+r/51KSz+ygZwKoW1Yr+/yFADLie/PfrIUDKmIgIBUQVQLB8CBVOGCDA4OCPbZSOEcDMVyYgtf8ZQMBKUEJSCes/WI3iX9oSEUAYMlOI+WgjQCK/OmzRdiLAeG2jIwLtCkBw7JktC5kIwDyLEtCNAwZAXPwx0nD+C0AemXACp88RQExxZkN+ARvAaRmy65ItEMDsG1TklBwiQJwFTbiruxfAPDjf6kOaH0BOuriQBBwSwDK6+VuKuiNAUGPMQciKA0BwzNjZdZj5vzAMST7cLQ9Ads33uGMeI0B4cjygnKP2P4AUOIWGJ92/oHxwhtW6H0CzIuck5YoSwMD6baaUvwlAhZgot3wMEMBwShMYJIUQQCB09G2UjPm/viRflygUIsAQ+M06LePgv1BknxZs+gNAON/0C2d49T/wjrXBficgwKRHHmgE/wpAgIQsL+Nvz7/cumifTjMdwGTF/ohkewDABDYdzhv2DsBrOkNvlQYiwGArwVhGrNK/alvCO0CgIsDjHQCXg0YWwKhL3wpHEwFAYkWgxT8wIsCGLLyP4BIVQKABnlbMdAXA8j4L9JR9EkBUlmC+igYYQAAIrN/eLbo/FLzrxzWrDECYbQv8xaQLQFQmXRe45xPAHON7M/bfI0BGA2l6Y0cjwOlqDjk99xHAuEWRWb6M9b8AoGestrS7PxY6AODQPxvAKgFJcyBLBsAAW69qiX/ivzDEjnLaE/I/0eb5luJxIcBQ4zoOhVfzP1A3WxIr2QxAAGUIWMAerr/g/MMAZnbpv2jmP6fQpw/AiBoYEVj6CcA8kcYC0k8KQMA+Ap3KlhpAYGkaYurn6j/+wxNr0LITwAA+yHNcLQvAuPn5gKu88r+w0PlQNwINQJjzU9d9Vv2/n4nIbBqII8CbkTplQB8gwAA4cR6v5fG/8GR2+cX16b86hVLFrCkTwMBQafXYXwZAKtJTvmBMIMCw25QvtikPwEKH6RWEuBBA8uERckg8EkCUOh2PZPYjwFgsHXAnMR5AEH9XolynHUAARIQ3GbIZQHB0S3pCPSNA8cQ8/pDDFMCxmeD/gXkVwBxZyNXPhh9AM/mOVeicGcDcaEdqwMcbQJBBXBZqAx1AaLsxEtk7GsCAvI+vYaP4vyyxoPLVJBrAG7Psy7N5GcDgEJqAjWciwJ58+iTtgAvAmnRnlq00FEDexmFN95kKwA==\",\"dtype\":\"float64\",\"shape\":[500]},\"y_values\":{\"__ndarray__\":\"15gSAQElRECzEezrXfBZQBhhtlm/tDNAFQ6fQjpnQEDnOyNyT40dQJcuq2PF+DRA0lD/wvzTHUBR17RmYINzQNAkuLw4QF9AM614SuCBTECUvYZsGPJvQPvJ6wjzvzJALhxGgqcmakCEme6O5GYsQHhRnf/SIEZAScDQ/NKvZkB1ks8iVgsjQH4x1dhUfEpAnCTGx6Z3YkAd3CJuPZ9oQC3kBAxShGJAg4qMYVCoI0A951dsAr5pQAPpQpOTAj5AwEMiHH6KIUAcTwixSUteQAjQ+SfOWjdAslVTixcncEAPUWjdgDVSQH3tQi8ANh5AoFpBmaoZH0B1XzAf5KpwQJmNQPV3/FtAbJiXbOkHXEAAnUpREONHQDqPFvGC6VVA0Ap02ntXSEChj0EaIhBbQIOHrQX6hyBA7hcBv6qlWkDu/I/uDjEzQF61oaUkZ1FANFxF35NAY0APdfwIkfBkQIGVQojNpEBAVwZiJfmIZUBz95EihR5XQGuI4C2KuSFAU8NEgQ54bkBlgdOMoME1QCAm7DqBsUlAHrBtkDjHOkDqX0d4f2lKQFu24SorgGpARY6KqyvDcEAOonaQ7p8gQNTTHVxNQClAKukmp7AZIkC6LT3Tn65kQGDv2VndW2JA/c4Kq3r9ZkBENpKQL8kyQDhgH6kQukdA+6pA20D8HEAEjvMSS6E3QGSbYrsiLEpA4vyxwKXHMUAaMrTjgNVmQNcA7BQ6xmhAnsw5fwtEZUDYWc0JTGdcQKF22atdoXRA36Xf6TwWVEBoBMqTFhBwQF4ONE2VM3BAbbcqs68sPUDL8zT6zXlpQBewyJfmRz5AI+g1AM8rX0C4+oXLs2hcQK65IgYj1VpAp9wqCcW4UUCpzfdlw+gcQC7A+C7TbG9Aw7kFWW4RckADtpYkn6BTQKe50x9nMlhAf+/ilIdeUEDEOjqWpf1kQPUQGiP3rGRANqTmSexFI0ASaNsJv4BEQJguLxrI6SRAv+INJEXIYEBo0C1JJrZeQMSQbTOnO0lAA2/fMUMiQEBAVt48kScdQDWBUxcv1B5ASkvFGOYoIEDMRvagzcYdQGCi61zg1TtAgZlCniWmUUDO0jnkxbhsQFItBNNlQiZAnJhFO1YhU0CInwvLzOooQM3FUmFZ2GJAXtwZ6Bn2LkAszIEGcuNaQGOvUCnA9jVAZYf8s0H2PkCoTdafsnQuQLNaOjLtRERAv1dL+W9KSEDONwpp6jMfQKL2+R3d/3FAy9rk+RW9YECdzuairXhoQNtjyAspcF1AOVkzzrPlV0A74jro13xAQGLi5+BkuHJARKd6zfXuNUA+f9ekM+dnQH+dDOORsTpAIesLoTg/SkCPnXK33dMwQA6t1X47tSVA9UcuemfIakCenPT1ZJF0QN2CN+3wgXBAHOIO2hv9RUCXtsAGVgZwQJEhimBNhldACMChIrwfWECFZKWsGghNQEeoeSr4YDJAv6v5GfZVcUAWsCG7HYBhQKanLAjQVjlA6ByJN+AtWEAGdt/BufpKQDgcbVdiUDVAIDTLFqHXT0BaDViLI9RCQONhDXi5UFZA5rX0y2lxNEBzWrIv55dwQBadtTNunmBARqtxbLmeb0AX9UYoMPBlQKrX59YUyilAIHvhS6BDQEAU2EGqBxJpQFodpZhv41tAGNWw/k52RkDxCRbQQdcwQCYLaJL/M2RA3W0w5C3uYUCs1t8oTihkQBzoe7AwHyJAlPtPTtrpN0D4w3WGJ0UdQDpN7zVytDVALQ92LmAMR0A/H9+6xJs2QMyqcKLgMExAVJ1DwmP5SUBJ3PDhDU9vQEe9JD9H53FA3adAroWmRkAFAFBi39JqQHYCNWBlnnBAqK1sdkX7WEBppPcnhldrQP54sAlEqmVAoLRaIuT6RUC/BSCCMF5pQEIP7argdnBAIcIDgoeWIkBTugMzDB5JQLIuFvaGsWRAfWMSZ30OZkB2lQiKQFUqQM2doA2ns1BA1jfZWHqCIEC8NfMZMv1XQL3qgBJZNTJANtHJZmhLXEDZmIbkWaheQL8DcueJrm1A2A0gRm7lTUCw+fa9QMQyQCEI1a6eUiNA0NL5DqiSUUCB64ivZNFYQEfmgd0nuF1A/MVIh9A9X0CHPjz9KkRLQAMSbOcZLztAkU4+X6UhcUCEkx3UkD9MQFZZs1t7NWdAaaScIcm7QkCzneKVjyBmQIe/Ipdnh1xApkmXn0aQaEA9WT7IDw9DQDo5nWdbGztAUlYnBv9nakCIqg2u1Q9IQG6GYhNmXGdAQcZyC2b2VkA/c3y4Ro5gQMK9A9U/LFlA+rUX4XnbQkA80Q7ocCVaQJMJcK8dK2ZAVaPkBbjyIUDB05U0tBZKQKnKPjpvCWFAYBr+8pReHUABacZkeENhQBurPwi7WHRAoTfyV5G5cEBQvbN7EBMdQIO8tvHzLzJAh7qFouEqUUBAK9im0bE1QDHMVHNP4xxAVqz5KagJKkBv/kKoZJpjQESdbYHD0HRA6IDEKwZgJ0A6tS2MePxlQIBCXMMcukBAQXbk+DluXUBNwESU1H1yQAlKojvrjURAy/MG8mrSWEBAbdEkA6IvQJIJmdPrcVFAkQCUr+d3NEDp1wTZpfMiQOXNLZ9t8j1AeQhIbtFpNkDtS2N6ADtlQGKzDOvOoSxAF2mvNlyPMkCZGBsGJ7BlQE/Fgwv8/1hAfjRQKU5ic0DkALFTlaMyQIJyl/DLhR9Ay0/x8nw8aUDqo+dSKBlGQFQbYRSLLjRA7iLyEVwzI0ANxe0XVp9tQGaGdLnSYU5AFU2T88rNZ0DBRz8IoQNyQFhBTIJtakFA5usmpx6QM0DD390G5M90QG7rzKzb5nJAcsl8aTO1ZUD3WwcnuJBQQDMi3gVx521ACH+Ve07PXUB08RqFgHYpQOXrGQyfD2lAisfB4DrINEBX4T+lF5FeQO4hx5cEQlNAmPuOmN05OEAPSlcip/luQKvGxLAFiURA+lgZYTGSQEAXYXBt3kdjQP1cOax4HlZAcISJRqg2HUDhF4UvIDQiQAUGgqnEhEBAvou7/kILYkDpRxlsS1BlQBQcavHcJDxAvtpVwkTlHEDXXQEESTNjQOAHLZT821tAwdH1r9imaUAvHBGTGvYkQAFGtHMbFmRApr0zwp49KUCW7HAmhwdUQFq2LW4wDmpA4sTndRamPkCJqH2b2uVcQAWwq7qe8mFAgKS8V3nqHUBm0KN1NbpuQNZM2P4F7nBAXFWi0U2uHUCxXO2coWRyQBw2A/TlLkxAWtWBOlagHUBTg8jKQoAdQE1NWxcnP3FAQCFJNc1QNUAZesiXLJRqQA2pF4QKvD9AMbtXsY7CWkBbTvwLpl9CQG3hqe+8eWJA5exITD52dECETYs66JMqQMHVjNzFY3BAptkf2YD4cECeV2rDgZk/QHCWPa2bmTZAja+onWnjHECd+NMBtW5RQAJB5fkkJC1AYIm0AAHZa0DxYqwfjEtwQFh9aVYQgStAKQNklqffUkAbsd/8i8YxQJSLwJ612EJAdcK5XG9yXUBq+B9Ud4Z0QEz8acxtm2hAkf7dpi3/HkAt0oxEu9UeQPLadPyWg1FAbeRlRyLFcEA/0owkVCxcQPO1/ne1mR9AnFpy/ePzXEDA0hi/OddBQD+rxn2qB2BAU9RW24QyXkCmFDXFDk9xQEUfI4iSmkRAzBVzACNnHUDMVn0vWohRQHeWw9NbNGJAbI6ltsDSIEAGGdi+C4BjQJ5z1IKX62dAsbwQzb47MkAf/TXhkbhyQPZAX73WMWhAiR/D5SLNX0BANe8DvLFtQCFaX6Fr21xAT51cr79xb0AB1yxtnLk5QG2yUBerulZAgz7g2WXjdEAD5veE9ZNtQLKFMcN6721AY9AtdzV8Y0CVSC7K/UdgQOljxYfv7xxAiH5Ripv/HEBQnxAcqN8cQGXSVTDeJlhA0DOjdN/2IECyjGynOb9sQDIegRAobh1Axl3yRM5+b0CVNd4bHMhXQAZJYY3bkDBA1nHxFK4SYUBwPx+HsKFxQKXdf1NLq21AGja5s0qZb0BQIMbutZVjQAb357D3GUlAFWS0rOLCZ0DKadYyNVpMQMOPyY2hOVZA0BnDwrr6L0BmTofAXyNgQFvEdZQziU9ArP11r2GHM0D3KnwG+9BhQMN4wTRvQG1AeR07Ncb+bEBdnot1qmtUQCrLxik96mtAWUt2zfgVU0CInUILaGZeQC/Cc8mNlR9AKukSWim6SkAYZLnElwlxQM+TEUFYBnJAtIGucexAQUDFr8EqwrlFQK9zsqYldThA0Mkb75F/QkC+/CnUs/dMQA+wKRZyPWRABudv1bOsUEDbuIIHr55tQIpxTqa+DWBAshBEkZV8ZkAj9GnCTBpUQK5U047Om3FA41CWgABFNEA2pfsdGxUzQPi56ZJmiEZA14wS9A6GcEBGAXz9sQwlQOAQxBHZnyJA+jEDwmCrZkCAfDj+lOtUQCA040iJ4z9AsELDDDl1UEAhp62WFh1JQO3jK8ouDDNAJjRC96ZTcUCo9dcNuWIjQKXbqsBW9zRA1/I8GZMnJEBwcL1qDRtsQKGyHYl7VUFA4dabH5XFIEBvY9DfOFVnQG/pQdtgRDlALh+A6GEMT0Drw4RLWTtxQLatNIsSIiFAYViYwHdSckDZgYVm5bRcQCmEhtaCqzBAYMZvRSmGcUAWyh8GlA9UQLRemfmF1UFA1feej4ofT0BG/3aA6/pZQAcsNe/5xB1A+tsz6hNQQ0AWp6QGixVCQOOfHZXRm1dAqTInU7ffcUAdxRcfB4xzQCt30Mfj1VNALk6xuYQ8MEAKRKhB/7odQEeTdhpikmRAHsqF6EHTQkBx9PDmOPQjQBLGpCTP7CFAVyhkKZ41cEC66dKRGrEiQLI0nkJ6iENAvtM0l4ImH0DZmyG8S8QmQLgbWk1LF1BA9NyzAm+VR0AlqCnlCZBAQORk2WhAy19AcDe7sZqJH0AmJoIphjBXQHMWCBGmRUlA+ozLRYj5LEDOzvT9LrtDQE+U5crdDzZAcn2DJjoIdEA5KIRRigBsQPLBY5jdACxAlurT7GX9JkAptOqvPh9WQC++bSb5HTlAxmJnJUqSbEDc28xcDGBPQKJ9ggsdsUlAcOGmUblNTkBbvaG+e990QDTuIDn5gmRAiw5u32/IY0BbF7gtZ7JdQOlbKpE/vHBAHqCkI9ZkWUC3zwU7p+xaQCK2JnO6YGZA9GwW/VtlYkBgQ1/6s1phQPGJa/UX72JAOHyxK9w0Y0Cb8pYUsV8yQNkmSa+GFmNAecyznwg4YkDzqm6XdepxQOG/tItTvklAx1hyfWp6UkDV4laf9XNIQA==\",\"dtype\":\"float64\",\"shape\":[500]}}},\"id\":\"02743e2b-65a2-4f52-90e5-016ee74dfe67\",\"type\":\"ColumnDataSource\"},{\"attributes\":{\"callback\":null,\"end\":11.988148694254617,\"start\":-11.982680876913546},\"id\":\"cbc946e6-294b-4ccd-b0b0-8d83d2fbdfc4\",\"type\":\"Range1d\"},{\"attributes\":{\"callback\":null,\"end\":366.91176111192493,\"start\":-25.480980401257888},\"id\":\"34db5c71-03da-4b68-97d4-4e6281f4afda\",\"type\":\"Range1d\"},{\"attributes\":{\"location\":\"top_left\",\"plot\":{\"id\":\"c5db0427-1cb1-474f-b31e-b492dcea304d\",\"subtype\":\"Chart\",\"type\":\"Plot\"}},\"id\":\"fe432a25-84b3-448c-9aa6-b974507f9eaf\",\"type\":\"Legend\"},{\"attributes\":{\"active_drag\":\"auto\",\"active_scroll\":\"auto\",\"active_tap\":\"auto\",\"tools\":[{\"id\":\"4c08cbae-7404-405d-ab4f-fdbcf906f99f\",\"type\":\"PanTool\"},{\"id\":\"5271b122-c2ed-470c-a128-134783083054\",\"type\":\"WheelZoomTool\"},{\"id\":\"410c2fd7-b91f-4a76-b1c9-3d0d01ae6632\",\"type\":\"BoxZoomTool\"},{\"id\":\"6de8a3bc-2f9a-4b4c-9139-04d6f3fd779e\",\"type\":\"SaveTool\"},{\"id\":\"e77f6687-10ef-41d5-9ed0-ff280b2655bd\",\"type\":\"ResetTool\"},{\"id\":\"21305e5a-1120-4eb1-b376-8ede4d40b389\",\"type\":\"HelpTool\"}]},\"id\":\"b7f3b59b-8f60-4686-a1d4-1ad39e8e99b7\",\"type\":\"Toolbar\"},{\"attributes\":{},\"id\":\"d6722dc9-3627-4ed8-8218-504bf0d2692f\",\"type\":\"ToolEvents\"},{\"attributes\":{\"axis_label\":\"y\",\"formatter\":{\"id\":\"fb5d6f5d-7566-4a1e-86a8-98b058a00ccd\",\"type\":\"BasicTickFormatter\"},\"plot\":{\"id\":\"c5db0427-1cb1-474f-b31e-b492dcea304d\",\"subtype\":\"Chart\",\"type\":\"Plot\"},\"ticker\":{\"id\":\"864cc82b-c744-4f81-a0c3-a19f9ef62df0\",\"type\":\"BasicTicker\"}},\"id\":\"91d73ccc-2121-44f9-a3f7-27acb2c6088b\",\"type\":\"LinearAxis\"},{\"attributes\":{},\"id\":\"734ad739-a557-412f-aadf-77b8c650e0b4\",\"type\":\"BasicTickFormatter\"},{\"attributes\":{\"plot\":null,\"text\":null},\"id\":\"85f76956-085c-4386-b110-0ed737535b38\",\"type\":\"Title\"},{\"attributes\":{},\"id\":\"223f470d-558e-4786-afae-5d1c5306d4ea\",\"type\":\"BasicTicker\"},{\"attributes\":{\"plot\":{\"id\":\"c5db0427-1cb1-474f-b31e-b492dcea304d\",\"subtype\":\"Chart\",\"type\":\"Plot\"},\"ticker\":{\"id\":\"223f470d-558e-4786-afae-5d1c5306d4ea\",\"type\":\"BasicTicker\"}},\"id\":\"03f709b1-5693-43b6-b277-111f017346f4\",\"type\":\"Grid\"},{\"attributes\":{},\"id\":\"864cc82b-c744-4f81-a0c3-a19f9ef62df0\",\"type\":\"BasicTicker\"},{\"attributes\":{\"dimension\":1,\"plot\":{\"id\":\"c5db0427-1cb1-474f-b31e-b492dcea304d\",\"subtype\":\"Chart\",\"type\":\"Plot\"},\"ticker\":{\"id\":\"864cc82b-c744-4f81-a0c3-a19f9ef62df0\",\"type\":\"BasicTicker\"}},\"id\":\"273011ac-a2bd-4009-a3ca-b0418e36a4d0\",\"type\":\"Grid\"},{\"attributes\":{},\"id\":\"fb5d6f5d-7566-4a1e-86a8-98b058a00ccd\",\"type\":\"BasicTickFormatter\"},{\"attributes\":{\"below\":[{\"id\":\"de131e0f-c0fb-4db5-93a0-63ac815e03b6\",\"type\":\"LinearAxis\"}],\"css_classes\":null,\"height\":400,\"left\":[{\"id\":\"91d73ccc-2121-44f9-a3f7-27acb2c6088b\",\"type\":\"LinearAxis\"}],\"renderers\":[{\"id\":\"a0341e83-6653-46df-9101-15fea9cb6cb3\",\"type\":\"BoxAnnotation\"},{\"id\":\"b26b1769-a4fe-46eb-a4af-5963a0a424db\",\"type\":\"GlyphRenderer\"},{\"id\":\"fe432a25-84b3-448c-9aa6-b974507f9eaf\",\"type\":\"Legend\"},{\"id\":\"de131e0f-c0fb-4db5-93a0-63ac815e03b6\",\"type\":\"LinearAxis\"},{\"id\":\"91d73ccc-2121-44f9-a3f7-27acb2c6088b\",\"type\":\"LinearAxis\"},{\"id\":\"03f709b1-5693-43b6-b277-111f017346f4\",\"type\":\"Grid\"},{\"id\":\"273011ac-a2bd-4009-a3ca-b0418e36a4d0\",\"type\":\"Grid\"}],\"title\":{\"id\":\"85f76956-085c-4386-b110-0ed737535b38\",\"type\":\"Title\"},\"tool_events\":{\"id\":\"d6722dc9-3627-4ed8-8218-504bf0d2692f\",\"type\":\"ToolEvents\"},\"toolbar\":{\"id\":\"b7f3b59b-8f60-4686-a1d4-1ad39e8e99b7\",\"type\":\"Toolbar\"},\"width\":750,\"x_mapper_type\":\"auto\",\"x_range\":{\"id\":\"cbc946e6-294b-4ccd-b0b0-8d83d2fbdfc4\",\"type\":\"Range1d\"},\"y_mapper_type\":\"auto\",\"y_range\":{\"id\":\"34db5c71-03da-4b68-97d4-4e6281f4afda\",\"type\":\"Range1d\"}},\"id\":\"c5db0427-1cb1-474f-b31e-b492dcea304d\",\"subtype\":\"Chart\",\"type\":\"Plot\"},{\"attributes\":{\"plot\":{\"id\":\"c5db0427-1cb1-474f-b31e-b492dcea304d\",\"subtype\":\"Chart\",\"type\":\"Plot\"}},\"id\":\"5271b122-c2ed-470c-a128-134783083054\",\"type\":\"WheelZoomTool\"}],\"root_ids\":[\"c5db0427-1cb1-474f-b31e-b492dcea304d\"]},\"title\":\"Bokeh Application\",\"version\":\"0.12.4\"}};\n",
       "            var render_items = [{\"docid\":\"8e8b2552-eeb1-4684-a243-b9ef66c589c6\",\"elementid\":\"2997b0f0-3d1d-4bb8-af9b-b4c9b7ec4bf5\",\"modelid\":\"c5db0427-1cb1-474f-b31e-b492dcea304d\"}];\n",
       "            \n",
       "            Bokeh.embed.embed_items(docs_json, render_items);\n",
       "          };\n",
       "          if (document.readyState != \"loading\") fn();\n",
       "          else document.addEventListener(\"DOMContentLoaded\", fn);\n",
       "        })();\n",
       "      },\n",
       "      function(Bokeh) {\n",
       "      }\n",
       "    ];\n",
       "  \n",
       "    function run_inline_js() {\n",
       "      \n",
       "      if ((window.Bokeh !== undefined) || (force === true)) {\n",
       "        for (var i = 0; i < inline_js.length; i++) {\n",
       "          inline_js[i](window.Bokeh);\n",
       "        }if (force === true) {\n",
       "          display_loaded();\n",
       "        }} else if (Date.now() < window._bokeh_timeout) {\n",
       "        setTimeout(run_inline_js, 100);\n",
       "      } else if (!window._bokeh_failed_load) {\n",
       "        console.log(\"Bokeh: BokehJS failed to load within specified timeout.\");\n",
       "        window._bokeh_failed_load = true;\n",
       "      } else if (force !== true) {\n",
       "        var cell = $(document.getElementById(\"2997b0f0-3d1d-4bb8-af9b-b4c9b7ec4bf5\")).parents('.cell').data().cell;\n",
       "        cell.output_area.append_execute_result(NB_LOAD_WARNING)\n",
       "      }\n",
       "  \n",
       "    }\n",
       "  \n",
       "    if (window._bokeh_is_loading === 0) {\n",
       "      console.log(\"Bokeh: BokehJS loaded, going straight to plotting\");\n",
       "      run_inline_js();\n",
       "    } else {\n",
       "      load_libs(js_urls, function() {\n",
       "        console.log(\"Bokeh: BokehJS plotting callback run at\", now());\n",
       "        run_inline_js();\n",
       "      });\n",
       "    }\n",
       "  }(this));\n",
       "</script>"
      ]
     },
     "metadata": {},
     "output_type": "display_data"
    }
   ],
   "source": [
    "# How'd grandpa and grandma do?\n",
    "y_hat = [beta[0]*xi**2 + beta[1]*xi + beta[2] for xi in x]\n",
    "scatter = Scatter({'x': x, 'y': y_hat}, width=750, height=400)\n",
    "show(scatter)"
   ]
  },
  {
   "cell_type": "markdown",
   "metadata": {
    "deletable": true,
    "editable": true,
    "slideshow": {
     "slide_type": "slide"
    }
   },
   "source": [
    "### Least Squares the way your _crazy uncle Eddie_ does it...\n",
    "\n",
    "...'cause he used to work at NASA and code in Forth."
   ]
  },
  {
   "cell_type": "markdown",
   "metadata": {
    "deletable": true,
    "editable": true,
    "slideshow": {
     "slide_type": "subslide"
    }
   },
   "source": [
    "[`cvxopt`](http://cvxopt.org/) provides a [`qp`](http://cvxopt.org/userguide/coneprog.html#quadratic-programming) method that can solve anything of this form.\n",
    "\n",
    "$$\n",
    "\\begin{align}\n",
    "    \\text{min}  \\ \\ \\ & \\ \\frac{1}{2} \\beta'P\\beta + q'\\beta \\\\\n",
    "                      & \\\\\n",
    "    \\text{s.t.} \\ \\ \\ & \\ G\\beta \\preceq h \\\\\n",
    "                      & \\\\\n",
    "                      & \\ A\\beta = b\n",
    "\\end{align}\n",
    "$$\n"
   ]
  },
  {
   "cell_type": "markdown",
   "metadata": {
    "deletable": true,
    "editable": true,
    "slideshow": {
     "slide_type": "subslide"
    }
   },
   "source": [
    "So we need to convert from \n",
    "\n",
    "$$\\frac{1}{2} \\beta'X'X\\beta - y'X\\beta + \\frac{1}{2} y'y $$\n",
    "\n",
    "to another form\n",
    "\n",
    "$$\\frac{1}{2} \\beta'P\\beta + q'\\beta$$"
   ]
  },
  {
   "cell_type": "markdown",
   "metadata": {
    "deletable": true,
    "editable": true,
    "slideshow": {
     "slide_type": "fragment"
    }
   },
   "source": [
    "which is simply\n",
    "\n",
    "$$P = X'X, q = -y$$"
   ]
  },
  {
   "cell_type": "code",
   "execution_count": 7,
   "metadata": {
    "collapsed": false,
    "deletable": true,
    "editable": true,
    "slideshow": {
     "slide_type": "subslide"
    }
   },
   "outputs": [
    {
     "name": "stdout",
     "output_type": "stream",
     "text": [
      "[ 3.05e+00]\n",
      "[-2.28e+00]\n",
      "[ 7.64e+00]\n",
      "\n"
     ]
    }
   ],
   "source": [
    "import cvxopt as cvx\n",
    "\n",
    "P = cvx.matrix(np.matmul(Xt, X))\n",
    "q = cvx.matrix(-1 * np.matmul(y.transpose(), X))\n",
    "solution = cvx.solvers.qp(P, q)\n",
    "beta = solution['x'] # unrelated to our x\n",
    "print(beta)"
   ]
  },
  {
   "cell_type": "code",
   "execution_count": 8,
   "metadata": {
    "collapsed": false,
    "deletable": true,
    "editable": true,
    "slideshow": {
     "slide_type": "subslide"
    }
   },
   "outputs": [
    {
     "data": {
      "text/html": [
       "\n",
       "\n",
       "    <div class=\"bk-root\">\n",
       "        <div class=\"bk-plotdiv\" id=\"1d9b4a54-5c7d-4fc7-8cc3-8b2670767285\"></div>\n",
       "    </div>\n",
       "<script type=\"text/javascript\">\n",
       "  \n",
       "  (function(global) {\n",
       "    function now() {\n",
       "      return new Date();\n",
       "    }\n",
       "  \n",
       "    var force = false;\n",
       "  \n",
       "    if (typeof (window._bokeh_onload_callbacks) === \"undefined\" || force === true) {\n",
       "      window._bokeh_onload_callbacks = [];\n",
       "      window._bokeh_is_loading = undefined;\n",
       "    }\n",
       "  \n",
       "  \n",
       "    \n",
       "    if (typeof (window._bokeh_timeout) === \"undefined\" || force === true) {\n",
       "      window._bokeh_timeout = Date.now() + 0;\n",
       "      window._bokeh_failed_load = false;\n",
       "    }\n",
       "  \n",
       "    var NB_LOAD_WARNING = {'data': {'text/html':\n",
       "       \"<div style='background-color: #fdd'>\\n\"+\n",
       "       \"<p>\\n\"+\n",
       "       \"BokehJS does not appear to have successfully loaded. If loading BokehJS from CDN, this \\n\"+\n",
       "       \"may be due to a slow or bad network connection. Possible fixes:\\n\"+\n",
       "       \"</p>\\n\"+\n",
       "       \"<ul>\\n\"+\n",
       "       \"<li>re-rerun `output_notebook()` to attempt to load from CDN again, or</li>\\n\"+\n",
       "       \"<li>use INLINE resources instead, as so:</li>\\n\"+\n",
       "       \"</ul>\\n\"+\n",
       "       \"<code>\\n\"+\n",
       "       \"from bokeh.resources import INLINE\\n\"+\n",
       "       \"output_notebook(resources=INLINE)\\n\"+\n",
       "       \"</code>\\n\"+\n",
       "       \"</div>\"}};\n",
       "  \n",
       "    function display_loaded() {\n",
       "      if (window.Bokeh !== undefined) {\n",
       "        document.getElementById(\"1d9b4a54-5c7d-4fc7-8cc3-8b2670767285\").textContent = \"BokehJS successfully loaded.\";\n",
       "      } else if (Date.now() < window._bokeh_timeout) {\n",
       "        setTimeout(display_loaded, 100)\n",
       "      }\n",
       "    }\n",
       "  \n",
       "    function run_callbacks() {\n",
       "      window._bokeh_onload_callbacks.forEach(function(callback) { callback() });\n",
       "      delete window._bokeh_onload_callbacks\n",
       "      console.info(\"Bokeh: all callbacks have finished\");\n",
       "    }\n",
       "  \n",
       "    function load_libs(js_urls, callback) {\n",
       "      window._bokeh_onload_callbacks.push(callback);\n",
       "      if (window._bokeh_is_loading > 0) {\n",
       "        console.log(\"Bokeh: BokehJS is being loaded, scheduling callback at\", now());\n",
       "        return null;\n",
       "      }\n",
       "      if (js_urls == null || js_urls.length === 0) {\n",
       "        run_callbacks();\n",
       "        return null;\n",
       "      }\n",
       "      console.log(\"Bokeh: BokehJS not loaded, scheduling load and callback at\", now());\n",
       "      window._bokeh_is_loading = js_urls.length;\n",
       "      for (var i = 0; i < js_urls.length; i++) {\n",
       "        var url = js_urls[i];\n",
       "        var s = document.createElement('script');\n",
       "        s.src = url;\n",
       "        s.async = false;\n",
       "        s.onreadystatechange = s.onload = function() {\n",
       "          window._bokeh_is_loading--;\n",
       "          if (window._bokeh_is_loading === 0) {\n",
       "            console.log(\"Bokeh: all BokehJS libraries loaded\");\n",
       "            run_callbacks()\n",
       "          }\n",
       "        };\n",
       "        s.onerror = function() {\n",
       "          console.warn(\"failed to load library \" + url);\n",
       "        };\n",
       "        console.log(\"Bokeh: injecting script tag for BokehJS library: \", url);\n",
       "        document.getElementsByTagName(\"head\")[0].appendChild(s);\n",
       "      }\n",
       "    };var element = document.getElementById(\"1d9b4a54-5c7d-4fc7-8cc3-8b2670767285\");\n",
       "    if (element == null) {\n",
       "      console.log(\"Bokeh: ERROR: autoload.js configured with elementid '1d9b4a54-5c7d-4fc7-8cc3-8b2670767285' but no matching script tag was found. \")\n",
       "      return false;\n",
       "    }\n",
       "  \n",
       "    var js_urls = [];\n",
       "  \n",
       "    var inline_js = [\n",
       "      function(Bokeh) {\n",
       "        (function() {\n",
       "          var fn = function() {\n",
       "            var docs_json = {\"4cf123c5-9958-4f3a-9d17-8c85ebd09db7\":{\"roots\":{\"references\":[{\"attributes\":{\"plot\":null,\"text\":null},\"id\":\"ea1f737c-dabc-4917-a9b6-d21679c0752b\",\"type\":\"Title\"},{\"attributes\":{\"plot\":{\"id\":\"da67d4c8-1c0b-4541-a082-063c15f3e468\",\"subtype\":\"Chart\",\"type\":\"Plot\"}},\"id\":\"d917bc6c-c72b-4630-a0f0-8c8be44481e7\",\"type\":\"PanTool\"},{\"attributes\":{\"plot\":{\"id\":\"da67d4c8-1c0b-4541-a082-063c15f3e468\",\"subtype\":\"Chart\",\"type\":\"Plot\"}},\"id\":\"4b3417ab-0fb6-4192-a872-cc52461f3d81\",\"type\":\"WheelZoomTool\"},{\"attributes\":{},\"id\":\"6636e2f4-6e7e-427b-a7f2-048935d2f4a2\",\"type\":\"BasicTickFormatter\"},{\"attributes\":{\"overlay\":{\"id\":\"4781daf1-dacc-44c4-81ed-7a545a33cba2\",\"type\":\"BoxAnnotation\"},\"plot\":{\"id\":\"da67d4c8-1c0b-4541-a082-063c15f3e468\",\"subtype\":\"Chart\",\"type\":\"Plot\"}},\"id\":\"dceab008-a5ae-48d1-8847-db5c6b6e701d\",\"type\":\"BoxZoomTool\"},{\"attributes\":{\"plot\":{\"id\":\"da67d4c8-1c0b-4541-a082-063c15f3e468\",\"subtype\":\"Chart\",\"type\":\"Plot\"}},\"id\":\"8c975633-5772-455e-ad36-e021fb5d2f96\",\"type\":\"SaveTool\"},{\"attributes\":{\"plot\":{\"id\":\"da67d4c8-1c0b-4541-a082-063c15f3e468\",\"subtype\":\"Chart\",\"type\":\"Plot\"}},\"id\":\"30bf386c-80c7-4fe2-8160-3c3f808e3a16\",\"type\":\"ResetTool\"},{\"attributes\":{\"plot\":{\"id\":\"da67d4c8-1c0b-4541-a082-063c15f3e468\",\"subtype\":\"Chart\",\"type\":\"Plot\"}},\"id\":\"3a71b908-6bdb-489f-ac7c-bd454ff0c0d7\",\"type\":\"HelpTool\"},{\"attributes\":{\"below\":[{\"id\":\"c90f55bb-3e93-4f86-b96f-fc6795e4fc26\",\"type\":\"LinearAxis\"}],\"css_classes\":null,\"height\":400,\"left\":[{\"id\":\"e7af7d05-eacc-4f27-904b-3d2cbd1b02b1\",\"type\":\"LinearAxis\"}],\"renderers\":[{\"id\":\"4781daf1-dacc-44c4-81ed-7a545a33cba2\",\"type\":\"BoxAnnotation\"},{\"id\":\"a35927ae-b23b-49c3-b83d-4ada7415a431\",\"type\":\"GlyphRenderer\"},{\"id\":\"d3c152f9-7bf1-4252-8bf1-b74f9ae6d816\",\"type\":\"Legend\"},{\"id\":\"c90f55bb-3e93-4f86-b96f-fc6795e4fc26\",\"type\":\"LinearAxis\"},{\"id\":\"e7af7d05-eacc-4f27-904b-3d2cbd1b02b1\",\"type\":\"LinearAxis\"},{\"id\":\"9f265496-ddfe-4a7d-9134-ecd9070e0683\",\"type\":\"Grid\"},{\"id\":\"4e1c9954-d4d7-489b-9a1a-8671f6b84f3a\",\"type\":\"Grid\"}],\"title\":{\"id\":\"ea1f737c-dabc-4917-a9b6-d21679c0752b\",\"type\":\"Title\"},\"tool_events\":{\"id\":\"4cf74ecd-7f57-4e0e-a455-fccc68936b06\",\"type\":\"ToolEvents\"},\"toolbar\":{\"id\":\"f1e1560b-2afe-4800-82f4-1b6a0807004d\",\"type\":\"Toolbar\"},\"width\":750,\"x_mapper_type\":\"auto\",\"x_range\":{\"id\":\"5d3fc76b-8122-4853-a700-2e0eb1175919\",\"type\":\"Range1d\"},\"y_mapper_type\":\"auto\",\"y_range\":{\"id\":\"efac2d15-ee1c-41b4-bd69-41c2c8bc93ba\",\"type\":\"Range1d\"}},\"id\":\"da67d4c8-1c0b-4541-a082-063c15f3e468\",\"subtype\":\"Chart\",\"type\":\"Plot\"},{\"attributes\":{\"data_source\":{\"id\":\"8c251653-ca08-4095-a892-d593fce56d2c\",\"type\":\"ColumnDataSource\"},\"glyph\":{\"id\":\"7c75e155-03ff-45ab-ad2b-21baa71cb2a7\",\"type\":\"Circle\"},\"hover_glyph\":null,\"nonselection_glyph\":null,\"selection_glyph\":null},\"id\":\"a35927ae-b23b-49c3-b83d-4ada7415a431\",\"type\":\"GlyphRenderer\"},{\"attributes\":{\"fill_alpha\":{\"value\":0.7},\"fill_color\":{\"value\":\"#f22c40\"},\"line_color\":{\"value\":\"#f22c40\"},\"size\":{\"units\":\"screen\",\"value\":8},\"x\":{\"field\":\"x_values\"},\"y\":{\"field\":\"y_values\"}},\"id\":\"7c75e155-03ff-45ab-ad2b-21baa71cb2a7\",\"type\":\"Circle\"},{\"attributes\":{\"callback\":null,\"end\":11.988148694254617,\"start\":-11.982680876913546},\"id\":\"5d3fc76b-8122-4853-a700-2e0eb1175919\",\"type\":\"Range1d\"},{\"attributes\":{\"callback\":null,\"column_names\":[\"x_values\",\"y_values\"],\"data\":{\"chart_index\":[null,null,null,null,null,null,null,null,null,null,null,null,null,null,null,null,null,null,null,null,null,null,null,null,null,null,null,null,null,null,null,null,null,null,null,null,null,null,null,null,null,null,null,null,null,null,null,null,null,null,null,null,null,null,null,null,null,null,null,null,null,null,null,null,null,null,null,null,null,null,null,null,null,null,null,null,null,null,null,null,null,null,null,null,null,null,null,null,null,null,null,null,null,null,null,null,null,null,null,null,null,null,null,null,null,null,null,null,null,null,null,null,null,null,null,null,null,null,null,null,null,null,null,null,null,null,null,null,null,null,null,null,null,null,null,null,null,null,null,null,null,null,null,null,null,null,null,null,null,null,null,null,null,null,null,null,null,null,null,null,null,null,null,null,null,null,null,null,null,null,null,null,null,null,null,null,null,null,null,null,null,null,null,null,null,null,null,null,null,null,null,null,null,null,null,null,null,null,null,null,null,null,null,null,null,null,null,null,null,null,null,null,null,null,null,null,null,null,null,null,null,null,null,null,null,null,null,null,null,null,null,null,null,null,null,null,null,null,null,null,null,null,null,null,null,null,null,null,null,null,null,null,null,null,null,null,null,null,null,null,null,null,null,null,null,null,null,null,null,null,null,null,null,null,null,null,null,null,null,null,null,null,null,null,null,null,null,null,null,null,null,null,null,null,null,null,null,null,null,null,null,null,null,null,null,null,null,null,null,null,null,null,null,null,null,null,null,null,null,null,null,null,null,null,null,null,null,null,null,null,null,null,null,null,null,null,null,null,null,null,null,null,null,null,null,null,null,null,null,null,null,null,null,null,null,null,null,null,null,null,null,null,null,null,null,null,null,null,null,null,null,null,null,null,null,null,null,null,null,null,null,null,null,null,null,null,null,null,null,null,null,null,null,null,null,null,null,null,null,null,null,null,null,null,null,null,null,null,null,null,null,null,null,null,null,null,null,null,null,null,null,null,null,null,null,null,null,null,null,null,null,null,null,null,null,null,null,null,null,null,null,null,null,null,null,null,null,null,null,null,null,null,null,null,null,null,null,null,null,null,null,null,null,null,null,null,null,null,null,null,null,null,null,null,null,null,null,null,null,null,null,null,null,null,null,null,null,null,null,null,null,null,null,null,null,null,null,null,null,null],\"x_values\":{\"__ndarray__\":\"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\",\"dtype\":\"float64\",\"shape\":[500]},\"y_values\":{\"__ndarray__\":\"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\",\"dtype\":\"float64\",\"shape\":[500]}}},\"id\":\"8c251653-ca08-4095-a892-d593fce56d2c\",\"type\":\"ColumnDataSource\"},{\"attributes\":{},\"id\":\"0a7dd867-e4b9-481d-9065-d8efd503240a\",\"type\":\"BasicTicker\"},{\"attributes\":{\"axis_label\":\"x\",\"formatter\":{\"id\":\"6636e2f4-6e7e-427b-a7f2-048935d2f4a2\",\"type\":\"BasicTickFormatter\"},\"plot\":{\"id\":\"da67d4c8-1c0b-4541-a082-063c15f3e468\",\"subtype\":\"Chart\",\"type\":\"Plot\"},\"ticker\":{\"id\":\"0a7dd867-e4b9-481d-9065-d8efd503240a\",\"type\":\"BasicTicker\"}},\"id\":\"c90f55bb-3e93-4f86-b96f-fc6795e4fc26\",\"type\":\"LinearAxis\"},{\"attributes\":{\"plot\":{\"id\":\"da67d4c8-1c0b-4541-a082-063c15f3e468\",\"subtype\":\"Chart\",\"type\":\"Plot\"},\"ticker\":{\"id\":\"0a7dd867-e4b9-481d-9065-d8efd503240a\",\"type\":\"BasicTicker\"}},\"id\":\"9f265496-ddfe-4a7d-9134-ecd9070e0683\",\"type\":\"Grid\"},{\"attributes\":{\"callback\":null,\"end\":366.91176111192544,\"start\":-25.48098040125803},\"id\":\"efac2d15-ee1c-41b4-bd69-41c2c8bc93ba\",\"type\":\"Range1d\"},{\"attributes\":{},\"id\":\"4cf74ecd-7f57-4e0e-a455-fccc68936b06\",\"type\":\"ToolEvents\"},{\"attributes\":{},\"id\":\"d6666ec7-3f1f-4de1-9d97-f741cf475e3e\",\"type\":\"BasicTicker\"},{\"attributes\":{\"location\":\"top_left\",\"plot\":{\"id\":\"da67d4c8-1c0b-4541-a082-063c15f3e468\",\"subtype\":\"Chart\",\"type\":\"Plot\"}},\"id\":\"d3c152f9-7bf1-4252-8bf1-b74f9ae6d816\",\"type\":\"Legend\"},{\"attributes\":{\"dimension\":1,\"plot\":{\"id\":\"da67d4c8-1c0b-4541-a082-063c15f3e468\",\"subtype\":\"Chart\",\"type\":\"Plot\"},\"ticker\":{\"id\":\"d6666ec7-3f1f-4de1-9d97-f741cf475e3e\",\"type\":\"BasicTicker\"}},\"id\":\"4e1c9954-d4d7-489b-9a1a-8671f6b84f3a\",\"type\":\"Grid\"},{\"attributes\":{\"active_drag\":\"auto\",\"active_scroll\":\"auto\",\"active_tap\":\"auto\",\"tools\":[{\"id\":\"d917bc6c-c72b-4630-a0f0-8c8be44481e7\",\"type\":\"PanTool\"},{\"id\":\"4b3417ab-0fb6-4192-a872-cc52461f3d81\",\"type\":\"WheelZoomTool\"},{\"id\":\"dceab008-a5ae-48d1-8847-db5c6b6e701d\",\"type\":\"BoxZoomTool\"},{\"id\":\"8c975633-5772-455e-ad36-e021fb5d2f96\",\"type\":\"SaveTool\"},{\"id\":\"30bf386c-80c7-4fe2-8160-3c3f808e3a16\",\"type\":\"ResetTool\"},{\"id\":\"3a71b908-6bdb-489f-ac7c-bd454ff0c0d7\",\"type\":\"HelpTool\"}]},\"id\":\"f1e1560b-2afe-4800-82f4-1b6a0807004d\",\"type\":\"Toolbar\"},{\"attributes\":{\"axis_label\":\"y\",\"formatter\":{\"id\":\"e40bc7b5-db6d-49bd-9eb1-be82316dfe8f\",\"type\":\"BasicTickFormatter\"},\"plot\":{\"id\":\"da67d4c8-1c0b-4541-a082-063c15f3e468\",\"subtype\":\"Chart\",\"type\":\"Plot\"},\"ticker\":{\"id\":\"d6666ec7-3f1f-4de1-9d97-f741cf475e3e\",\"type\":\"BasicTicker\"}},\"id\":\"e7af7d05-eacc-4f27-904b-3d2cbd1b02b1\",\"type\":\"LinearAxis\"},{\"attributes\":{},\"id\":\"e40bc7b5-db6d-49bd-9eb1-be82316dfe8f\",\"type\":\"BasicTickFormatter\"},{\"attributes\":{\"bottom_units\":\"screen\",\"fill_alpha\":{\"value\":0.5},\"fill_color\":{\"value\":\"lightgrey\"},\"left_units\":\"screen\",\"level\":\"overlay\",\"line_alpha\":{\"value\":1.0},\"line_color\":{\"value\":\"black\"},\"line_dash\":[4,4],\"line_width\":{\"value\":2},\"plot\":null,\"render_mode\":\"css\",\"right_units\":\"screen\",\"top_units\":\"screen\"},\"id\":\"4781daf1-dacc-44c4-81ed-7a545a33cba2\",\"type\":\"BoxAnnotation\"}],\"root_ids\":[\"da67d4c8-1c0b-4541-a082-063c15f3e468\"]},\"title\":\"Bokeh Application\",\"version\":\"0.12.4\"}};\n",
       "            var render_items = [{\"docid\":\"4cf123c5-9958-4f3a-9d17-8c85ebd09db7\",\"elementid\":\"1d9b4a54-5c7d-4fc7-8cc3-8b2670767285\",\"modelid\":\"da67d4c8-1c0b-4541-a082-063c15f3e468\"}];\n",
       "            \n",
       "            Bokeh.embed.embed_items(docs_json, render_items);\n",
       "          };\n",
       "          if (document.readyState != \"loading\") fn();\n",
       "          else document.addEventListener(\"DOMContentLoaded\", fn);\n",
       "        })();\n",
       "      },\n",
       "      function(Bokeh) {\n",
       "      }\n",
       "    ];\n",
       "  \n",
       "    function run_inline_js() {\n",
       "      \n",
       "      if ((window.Bokeh !== undefined) || (force === true)) {\n",
       "        for (var i = 0; i < inline_js.length; i++) {\n",
       "          inline_js[i](window.Bokeh);\n",
       "        }if (force === true) {\n",
       "          display_loaded();\n",
       "        }} else if (Date.now() < window._bokeh_timeout) {\n",
       "        setTimeout(run_inline_js, 100);\n",
       "      } else if (!window._bokeh_failed_load) {\n",
       "        console.log(\"Bokeh: BokehJS failed to load within specified timeout.\");\n",
       "        window._bokeh_failed_load = true;\n",
       "      } else if (force !== true) {\n",
       "        var cell = $(document.getElementById(\"1d9b4a54-5c7d-4fc7-8cc3-8b2670767285\")).parents('.cell').data().cell;\n",
       "        cell.output_area.append_execute_result(NB_LOAD_WARNING)\n",
       "      }\n",
       "  \n",
       "    }\n",
       "  \n",
       "    if (window._bokeh_is_loading === 0) {\n",
       "      console.log(\"Bokeh: BokehJS loaded, going straight to plotting\");\n",
       "      run_inline_js();\n",
       "    } else {\n",
       "      load_libs(js_urls, function() {\n",
       "        console.log(\"Bokeh: BokehJS plotting callback run at\", now());\n",
       "        run_inline_js();\n",
       "      });\n",
       "    }\n",
       "  }(this));\n",
       "</script>"
      ]
     },
     "metadata": {},
     "output_type": "display_data"
    }
   ],
   "source": [
    "# How'd Crazy Uncle Eddie do?\n",
    "y_hat = [beta[0]*xi**2 + beta[1]*xi + beta[2] for xi in x]\n",
    "scatter = Scatter({'x': x, 'y': y_hat}, width=750, height=400)\n",
    "show(scatter)"
   ]
  },
  {
   "cell_type": "markdown",
   "metadata": {
    "deletable": true,
    "editable": true,
    "slideshow": {
     "slide_type": "subslide"
    }
   },
   "source": [
    "#### So what's different about Crazy Uncle Eddie?"
   ]
  },
  {
   "cell_type": "markdown",
   "metadata": {
    "deletable": true,
    "editable": true,
    "slideshow": {
     "slide_type": "fragment"
    }
   },
   "source": [
    "Well, besides the obvious.\n",
    "\n",
    "![](images/crazy-uncle-eddie.jpg)"
   ]
  },
  {
   "cell_type": "markdown",
   "metadata": {
    "slideshow": {
     "slide_type": "subslide"
    }
   },
   "source": [
    "While all three techniques produced the _same result_, Crazy Uncle Eddie's is interesting because it is more general than the others.\n",
    "\n",
    "Crazy Eddie can solve any quadratic optimization problem, of which Least Squares is _just one instance_."
   ]
  },
  {
   "cell_type": "markdown",
   "metadata": {
    "deletable": true,
    "editable": true,
    "slideshow": {
     "slide_type": "fragment"
    }
   },
   "source": [
    "If we change the structure of the problem slightly:\n",
    "\n",
    "* We probably can't solve it with `scikit-learn`\n",
    "* Grams and Gramps have to go back to their chalkboard\n",
    "* Crazy Eddie can update the inputs to his problem and reoptimize"
   ]
  },
  {
   "cell_type": "markdown",
   "metadata": {
    "slideshow": {
     "slide_type": "slide"
    }
   },
   "source": [
    "## Example: Portfolio Optimization\n",
    "\n"
   ]
  }
 ],
 "metadata": {
  "celltoolbar": "Slideshow",
  "kernelspec": {
   "display_name": "Python 3",
   "language": "python",
   "name": "python3"
  },
  "language_info": {
   "codemirror_mode": {
    "name": "ipython",
    "version": 3
   },
   "file_extension": ".py",
   "mimetype": "text/x-python",
   "name": "python",
   "nbconvert_exporter": "python",
   "pygments_lexer": "ipython3",
   "version": "3.6.0"
  }
 },
 "nbformat": 4,
 "nbformat_minor": 2
}
