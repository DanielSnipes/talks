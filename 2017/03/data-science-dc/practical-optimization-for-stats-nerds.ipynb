{
 "cells": [
  {
   "cell_type": "markdown",
   "metadata": {
    "deletable": true,
    "editable": true,
    "slideshow": {
     "slide_type": "slide"
    }
   },
   "source": [
    "# Practical Optimization for Stats Nerds\n",
    "\n",
    "Ryan J. O'Neil  \n",
    "Data Science DC  \n",
    "March 20, 2017\n",
    "\n",
    "[ryanjoneil@gmail.com](mailto:ryanjoneil@gmail.com)  \n",
    "[https://ryanjoneil.github.io](https://ryanjoneil.github.io)  \n",
    "[@ryanjoneil](https://twitter.com/ryanjoneil)"
   ]
  },
  {
   "cell_type": "markdown",
   "metadata": {
    "deletable": true,
    "editable": true,
    "slideshow": {
     "slide_type": "subslide"
    }
   },
   "source": [
    "## What to expect\n",
    "  \n",
    "  \n",
    "* We'll take familiar models, show how they work from an optimization perspective, then show applications.  \n"
   ]
  },
  {
   "cell_type": "markdown",
   "metadata": {
    "deletable": true,
    "editable": true,
    "slideshow": {
     "slide_type": "fragment"
    }
   },
   "source": [
    "\n",
    "* Everything uses Python 3.6 and related libraries.  \n",
    "  "
   ]
  },
  {
   "cell_type": "markdown",
   "metadata": {
    "deletable": true,
    "editable": true,
    "slideshow": {
     "slide_type": "fragment"
    }
   },
   "source": [
    "\n",
    "* It might get a little technical, so...  \n",
    "  "
   ]
  },
  {
   "cell_type": "markdown",
   "metadata": {
    "deletable": true,
    "editable": true,
    "slideshow": {
     "slide_type": "subslide"
    }
   },
   "source": [
    "## Take-aways\n",
    "  \n",
    "  \n",
    "* Many statistical techniques are based on some sort of optimization.\n",
    "  "
   ]
  },
  {
   "cell_type": "markdown",
   "metadata": {
    "deletable": true,
    "editable": true,
    "slideshow": {
     "slide_type": "fragment"
    }
   },
   "source": [
    "\n",
    "* Optimization has lots of uses, such as solving decision models.\n",
    "  "
   ]
  },
  {
   "cell_type": "markdown",
   "metadata": {
    "deletable": true,
    "editable": true,
    "slideshow": {
     "slide_type": "fragment"
    }
   },
   "source": [
    "\n",
    "* Learning to structure problems you already know for optimization solvers is a great way to understand them!\n"
   ]
  },
  {
   "cell_type": "markdown",
   "metadata": {
    "deletable": true,
    "editable": true,
    "slideshow": {
     "slide_type": "slide"
    }
   },
   "source": [
    "## Least Squares\n",
    "\n",
    "We observe noisy data from an unknown function. We want to infer that function."
   ]
  },
  {
   "cell_type": "markdown",
   "metadata": {
    "deletable": true,
    "editable": true,
    "slideshow": {
     "slide_type": "subslide"
    }
   },
   "source": [
    "But let's assume that, deep down, we actually know the function. That way we can generate noisy data and see if our techniques work right.\n",
    "\n",
    "#### Function:\n",
    "$$y = 3x^2 - 2x + 10 + \\epsilon$$\n",
    "\n",
    "#### Noise:\n",
    "$$\\epsilon \\sim N\\left(0, 25\\right)$$"
   ]
  },
  {
   "cell_type": "code",
   "execution_count": 1,
   "metadata": {
    "collapsed": false,
    "deletable": true,
    "editable": true,
    "slideshow": {
     "slide_type": "subslide"
    }
   },
   "outputs": [],
   "source": [
    "# Generate some random data.\n",
    "import numpy as np\n",
    "import random\n",
    "\n",
    "# Sort the data so they're easier to plot later.\n",
    "x = [random.uniform(-10, 10) for _ in range(500)]\n",
    "x.sort()\n",
    "\n",
    "y = []\n",
    "for xi in x:\n",
    "    eps = random.normalvariate(0, 25)\n",
    "    yi = 3*xi**2 - 2*xi + 10 + eps\n",
    "    y.append(yi)\n",
    "    \n",
    "x = np.array(x)\n",
    "y = np.array(y)"
   ]
  },
  {
   "cell_type": "code",
   "execution_count": 2,
   "metadata": {
    "collapsed": false,
    "deletable": true,
    "editable": true,
    "scrolled": true,
    "slideshow": {
     "slide_type": "subslide"
    }
   },
   "outputs": [
    {
     "data": {
      "text/html": [
       "\n",
       "    <div class=\"bk-root\">\n",
       "        <a href=\"http://bokeh.pydata.org\" target=\"_blank\" class=\"bk-logo bk-logo-small bk-logo-notebook\"></a>\n",
       "        <span id=\"6b6db772-44c0-4347-b6dd-99b23884bc61\">Loading BokehJS ...</span>\n",
       "    </div>"
      ]
     },
     "metadata": {},
     "output_type": "display_data"
    },
    {
     "data": {
      "application/javascript": [
       "\n",
       "(function(global) {\n",
       "  function now() {\n",
       "    return new Date();\n",
       "  }\n",
       "\n",
       "  var force = true;\n",
       "\n",
       "  if (typeof (window._bokeh_onload_callbacks) === \"undefined\" || force === true) {\n",
       "    window._bokeh_onload_callbacks = [];\n",
       "    window._bokeh_is_loading = undefined;\n",
       "  }\n",
       "\n",
       "\n",
       "  \n",
       "  if (typeof (window._bokeh_timeout) === \"undefined\" || force === true) {\n",
       "    window._bokeh_timeout = Date.now() + 5000;\n",
       "    window._bokeh_failed_load = false;\n",
       "  }\n",
       "\n",
       "  var NB_LOAD_WARNING = {'data': {'text/html':\n",
       "     \"<div style='background-color: #fdd'>\\n\"+\n",
       "     \"<p>\\n\"+\n",
       "     \"BokehJS does not appear to have successfully loaded. If loading BokehJS from CDN, this \\n\"+\n",
       "     \"may be due to a slow or bad network connection. Possible fixes:\\n\"+\n",
       "     \"</p>\\n\"+\n",
       "     \"<ul>\\n\"+\n",
       "     \"<li>re-rerun `output_notebook()` to attempt to load from CDN again, or</li>\\n\"+\n",
       "     \"<li>use INLINE resources instead, as so:</li>\\n\"+\n",
       "     \"</ul>\\n\"+\n",
       "     \"<code>\\n\"+\n",
       "     \"from bokeh.resources import INLINE\\n\"+\n",
       "     \"output_notebook(resources=INLINE)\\n\"+\n",
       "     \"</code>\\n\"+\n",
       "     \"</div>\"}};\n",
       "\n",
       "  function display_loaded() {\n",
       "    if (window.Bokeh !== undefined) {\n",
       "      document.getElementById(\"6b6db772-44c0-4347-b6dd-99b23884bc61\").textContent = \"BokehJS successfully loaded.\";\n",
       "    } else if (Date.now() < window._bokeh_timeout) {\n",
       "      setTimeout(display_loaded, 100)\n",
       "    }\n",
       "  }\n",
       "\n",
       "  function run_callbacks() {\n",
       "    window._bokeh_onload_callbacks.forEach(function(callback) { callback() });\n",
       "    delete window._bokeh_onload_callbacks\n",
       "    console.info(\"Bokeh: all callbacks have finished\");\n",
       "  }\n",
       "\n",
       "  function load_libs(js_urls, callback) {\n",
       "    window._bokeh_onload_callbacks.push(callback);\n",
       "    if (window._bokeh_is_loading > 0) {\n",
       "      console.log(\"Bokeh: BokehJS is being loaded, scheduling callback at\", now());\n",
       "      return null;\n",
       "    }\n",
       "    if (js_urls == null || js_urls.length === 0) {\n",
       "      run_callbacks();\n",
       "      return null;\n",
       "    }\n",
       "    console.log(\"Bokeh: BokehJS not loaded, scheduling load and callback at\", now());\n",
       "    window._bokeh_is_loading = js_urls.length;\n",
       "    for (var i = 0; i < js_urls.length; i++) {\n",
       "      var url = js_urls[i];\n",
       "      var s = document.createElement('script');\n",
       "      s.src = url;\n",
       "      s.async = false;\n",
       "      s.onreadystatechange = s.onload = function() {\n",
       "        window._bokeh_is_loading--;\n",
       "        if (window._bokeh_is_loading === 0) {\n",
       "          console.log(\"Bokeh: all BokehJS libraries loaded\");\n",
       "          run_callbacks()\n",
       "        }\n",
       "      };\n",
       "      s.onerror = function() {\n",
       "        console.warn(\"failed to load library \" + url);\n",
       "      };\n",
       "      console.log(\"Bokeh: injecting script tag for BokehJS library: \", url);\n",
       "      document.getElementsByTagName(\"head\")[0].appendChild(s);\n",
       "    }\n",
       "  };var element = document.getElementById(\"6b6db772-44c0-4347-b6dd-99b23884bc61\");\n",
       "  if (element == null) {\n",
       "    console.log(\"Bokeh: ERROR: autoload.js configured with elementid '6b6db772-44c0-4347-b6dd-99b23884bc61' but no matching script tag was found. \")\n",
       "    return false;\n",
       "  }\n",
       "\n",
       "  var js_urls = [\"https://cdn.pydata.org/bokeh/release/bokeh-0.12.4.min.js\", \"https://cdn.pydata.org/bokeh/release/bokeh-widgets-0.12.4.min.js\"];\n",
       "\n",
       "  var inline_js = [\n",
       "    function(Bokeh) {\n",
       "      Bokeh.set_log_level(\"info\");\n",
       "    },\n",
       "    \n",
       "    function(Bokeh) {\n",
       "      \n",
       "      document.getElementById(\"6b6db772-44c0-4347-b6dd-99b23884bc61\").textContent = \"BokehJS is loading...\";\n",
       "    },\n",
       "    function(Bokeh) {\n",
       "      console.log(\"Bokeh: injecting CSS: https://cdn.pydata.org/bokeh/release/bokeh-0.12.4.min.css\");\n",
       "      Bokeh.embed.inject_css(\"https://cdn.pydata.org/bokeh/release/bokeh-0.12.4.min.css\");\n",
       "      console.log(\"Bokeh: injecting CSS: https://cdn.pydata.org/bokeh/release/bokeh-widgets-0.12.4.min.css\");\n",
       "      Bokeh.embed.inject_css(\"https://cdn.pydata.org/bokeh/release/bokeh-widgets-0.12.4.min.css\");\n",
       "    }\n",
       "  ];\n",
       "\n",
       "  function run_inline_js() {\n",
       "    \n",
       "    if ((window.Bokeh !== undefined) || (force === true)) {\n",
       "      for (var i = 0; i < inline_js.length; i++) {\n",
       "        inline_js[i](window.Bokeh);\n",
       "      }if (force === true) {\n",
       "        display_loaded();\n",
       "      }} else if (Date.now() < window._bokeh_timeout) {\n",
       "      setTimeout(run_inline_js, 100);\n",
       "    } else if (!window._bokeh_failed_load) {\n",
       "      console.log(\"Bokeh: BokehJS failed to load within specified timeout.\");\n",
       "      window._bokeh_failed_load = true;\n",
       "    } else if (force !== true) {\n",
       "      var cell = $(document.getElementById(\"6b6db772-44c0-4347-b6dd-99b23884bc61\")).parents('.cell').data().cell;\n",
       "      cell.output_area.append_execute_result(NB_LOAD_WARNING)\n",
       "    }\n",
       "\n",
       "  }\n",
       "\n",
       "  if (window._bokeh_is_loading === 0) {\n",
       "    console.log(\"Bokeh: BokehJS loaded, going straight to plotting\");\n",
       "    run_inline_js();\n",
       "  } else {\n",
       "    load_libs(js_urls, function() {\n",
       "      console.log(\"Bokeh: BokehJS plotting callback run at\", now());\n",
       "      run_inline_js();\n",
       "    });\n",
       "  }\n",
       "}(this));"
      ]
     },
     "metadata": {},
     "output_type": "display_data"
    },
    {
     "data": {
      "text/html": [
       "\n",
       "\n",
       "    <div class=\"bk-root\">\n",
       "        <div class=\"bk-plotdiv\" id=\"5d631262-e67e-4ee5-88a2-ba9841a8c06f\"></div>\n",
       "    </div>\n",
       "<script type=\"text/javascript\">\n",
       "  \n",
       "  (function(global) {\n",
       "    function now() {\n",
       "      return new Date();\n",
       "    }\n",
       "  \n",
       "    var force = false;\n",
       "  \n",
       "    if (typeof (window._bokeh_onload_callbacks) === \"undefined\" || force === true) {\n",
       "      window._bokeh_onload_callbacks = [];\n",
       "      window._bokeh_is_loading = undefined;\n",
       "    }\n",
       "  \n",
       "  \n",
       "    \n",
       "    if (typeof (window._bokeh_timeout) === \"undefined\" || force === true) {\n",
       "      window._bokeh_timeout = Date.now() + 0;\n",
       "      window._bokeh_failed_load = false;\n",
       "    }\n",
       "  \n",
       "    var NB_LOAD_WARNING = {'data': {'text/html':\n",
       "       \"<div style='background-color: #fdd'>\\n\"+\n",
       "       \"<p>\\n\"+\n",
       "       \"BokehJS does not appear to have successfully loaded. If loading BokehJS from CDN, this \\n\"+\n",
       "       \"may be due to a slow or bad network connection. Possible fixes:\\n\"+\n",
       "       \"</p>\\n\"+\n",
       "       \"<ul>\\n\"+\n",
       "       \"<li>re-rerun `output_notebook()` to attempt to load from CDN again, or</li>\\n\"+\n",
       "       \"<li>use INLINE resources instead, as so:</li>\\n\"+\n",
       "       \"</ul>\\n\"+\n",
       "       \"<code>\\n\"+\n",
       "       \"from bokeh.resources import INLINE\\n\"+\n",
       "       \"output_notebook(resources=INLINE)\\n\"+\n",
       "       \"</code>\\n\"+\n",
       "       \"</div>\"}};\n",
       "  \n",
       "    function display_loaded() {\n",
       "      if (window.Bokeh !== undefined) {\n",
       "        document.getElementById(\"5d631262-e67e-4ee5-88a2-ba9841a8c06f\").textContent = \"BokehJS successfully loaded.\";\n",
       "      } else if (Date.now() < window._bokeh_timeout) {\n",
       "        setTimeout(display_loaded, 100)\n",
       "      }\n",
       "    }\n",
       "  \n",
       "    function run_callbacks() {\n",
       "      window._bokeh_onload_callbacks.forEach(function(callback) { callback() });\n",
       "      delete window._bokeh_onload_callbacks\n",
       "      console.info(\"Bokeh: all callbacks have finished\");\n",
       "    }\n",
       "  \n",
       "    function load_libs(js_urls, callback) {\n",
       "      window._bokeh_onload_callbacks.push(callback);\n",
       "      if (window._bokeh_is_loading > 0) {\n",
       "        console.log(\"Bokeh: BokehJS is being loaded, scheduling callback at\", now());\n",
       "        return null;\n",
       "      }\n",
       "      if (js_urls == null || js_urls.length === 0) {\n",
       "        run_callbacks();\n",
       "        return null;\n",
       "      }\n",
       "      console.log(\"Bokeh: BokehJS not loaded, scheduling load and callback at\", now());\n",
       "      window._bokeh_is_loading = js_urls.length;\n",
       "      for (var i = 0; i < js_urls.length; i++) {\n",
       "        var url = js_urls[i];\n",
       "        var s = document.createElement('script');\n",
       "        s.src = url;\n",
       "        s.async = false;\n",
       "        s.onreadystatechange = s.onload = function() {\n",
       "          window._bokeh_is_loading--;\n",
       "          if (window._bokeh_is_loading === 0) {\n",
       "            console.log(\"Bokeh: all BokehJS libraries loaded\");\n",
       "            run_callbacks()\n",
       "          }\n",
       "        };\n",
       "        s.onerror = function() {\n",
       "          console.warn(\"failed to load library \" + url);\n",
       "        };\n",
       "        console.log(\"Bokeh: injecting script tag for BokehJS library: \", url);\n",
       "        document.getElementsByTagName(\"head\")[0].appendChild(s);\n",
       "      }\n",
       "    };var element = document.getElementById(\"5d631262-e67e-4ee5-88a2-ba9841a8c06f\");\n",
       "    if (element == null) {\n",
       "      console.log(\"Bokeh: ERROR: autoload.js configured with elementid '5d631262-e67e-4ee5-88a2-ba9841a8c06f' but no matching script tag was found. \")\n",
       "      return false;\n",
       "    }\n",
       "  \n",
       "    var js_urls = [];\n",
       "  \n",
       "    var inline_js = [\n",
       "      function(Bokeh) {\n",
       "        (function() {\n",
       "          var fn = function() {\n",
       "            var docs_json = {\"b681277e-732d-43b2-8a9d-cc47a6d07719\":{\"roots\":{\"references\":[{\"attributes\":{},\"id\":\"84740516-b100-411d-90f6-78094931ad67\",\"type\":\"BasicTicker\"},{\"attributes\":{\"callback\":null,\"end\":387.7730860670854,\"start\":-77.99581280820766},\"id\":\"551b7020-95dd-44d1-abcb-6a94f755f1c8\",\"type\":\"Range1d\"},{\"attributes\":{},\"id\":\"dc69c7ba-29ba-4e9d-8334-ff4beb63f2d8\",\"type\":\"BasicTickFormatter\"},{\"attributes\":{\"bottom_units\":\"screen\",\"fill_alpha\":{\"value\":0.5},\"fill_color\":{\"value\":\"lightgrey\"},\"left_units\":\"screen\",\"level\":\"overlay\",\"line_alpha\":{\"value\":1.0},\"line_color\":{\"value\":\"black\"},\"line_dash\":[4,4],\"line_width\":{\"value\":2},\"plot\":null,\"render_mode\":\"css\",\"right_units\":\"screen\",\"top_units\":\"screen\"},\"id\":\"bbd2eaa3-f325-44f3-bc21-fcb3a2f4526e\",\"type\":\"BoxAnnotation\"},{\"attributes\":{\"plot\":{\"id\":\"3da86e5d-3959-4ff0-94c7-0297070ab9b9\",\"subtype\":\"Chart\",\"type\":\"Plot\"},\"ticker\":{\"id\":\"84740516-b100-411d-90f6-78094931ad67\",\"type\":\"BasicTicker\"}},\"id\":\"53560610-624d-4288-a92d-a5dc358826af\",\"type\":\"Grid\"},{\"attributes\":{},\"id\":\"4fc3dc57-4223-4560-9093-d65dc8842099\",\"type\":\"BasicTicker\"},{\"attributes\":{\"callback\":null,\"end\":11.98824273175234,\"start\":-11.914371849178867},\"id\":\"67b4de93-92e8-48fb-aa3f-8ea736f5de94\",\"type\":\"Range1d\"},{\"attributes\":{\"plot\":null,\"text\":null},\"id\":\"7b305596-f9f9-4cd8-939d-d7cf25b52f09\",\"type\":\"Title\"},{\"attributes\":{\"dimension\":1,\"plot\":{\"id\":\"3da86e5d-3959-4ff0-94c7-0297070ab9b9\",\"subtype\":\"Chart\",\"type\":\"Plot\"},\"ticker\":{\"id\":\"4fc3dc57-4223-4560-9093-d65dc8842099\",\"type\":\"BasicTicker\"}},\"id\":\"00450b74-cae7-4ae3-9492-6f11681d144f\",\"type\":\"Grid\"},{\"attributes\":{},\"id\":\"e36641d6-6cbe-4c9f-8f99-26ce2c892029\",\"type\":\"BasicTickFormatter\"},{\"attributes\":{\"axis_label\":\"y\",\"formatter\":{\"id\":\"e36641d6-6cbe-4c9f-8f99-26ce2c892029\",\"type\":\"BasicTickFormatter\"},\"plot\":{\"id\":\"3da86e5d-3959-4ff0-94c7-0297070ab9b9\",\"subtype\":\"Chart\",\"type\":\"Plot\"},\"ticker\":{\"id\":\"4fc3dc57-4223-4560-9093-d65dc8842099\",\"type\":\"BasicTicker\"}},\"id\":\"36471729-e74b-485e-ba4f-0f2b81de343a\",\"type\":\"LinearAxis\"},{\"attributes\":{\"callback\":null,\"column_names\":[\"x_values\",\"y_values\"],\"data\":{\"chart_index\":[null,null,null,null,null,null,null,null,null,null,null,null,null,null,null,null,null,null,null,null,null,null,null,null,null,null,null,null,null,null,null,null,null,null,null,null,null,null,null,null,null,null,null,null,null,null,null,null,null,null,null,null,null,null,null,null,null,null,null,null,null,null,null,null,null,null,null,null,null,null,null,null,null,null,null,null,null,null,null,null,null,null,null,null,null,null,null,null,null,null,null,null,null,null,null,null,null,null,null,null,null,null,null,null,null,null,null,null,null,null,null,null,null,null,null,null,null,null,null,null,null,null,null,null,null,null,null,null,null,null,null,null,null,null,null,null,null,null,null,null,null,null,null,null,null,null,null,null,null,null,null,null,null,null,null,null,null,null,null,null,null,null,null,null,null,null,null,null,null,null,null,null,null,null,null,null,null,null,null,null,null,null,null,null,null,null,null,null,null,null,null,null,null,null,null,null,null,null,null,null,null,null,null,null,null,null,null,null,null,null,null,null,null,null,null,null,null,null,null,null,null,null,null,null,null,null,null,null,null,null,null,null,null,null,null,null,null,null,null,null,null,null,null,null,null,null,null,null,null,null,null,null,null,null,null,null,null,null,null,null,null,null,null,null,null,null,null,null,null,null,null,null,null,null,null,null,null,null,null,null,null,null,null,null,null,null,null,null,null,null,null,null,null,null,null,null,null,null,null,null,null,null,null,null,null,null,null,null,null,null,null,null,null,null,null,null,null,null,null,null,null,null,null,null,null,null,null,null,null,null,null,null,null,null,null,null,null,null,null,null,null,null,null,null,null,null,null,null,null,null,null,null,null,null,null,null,null,null,null,null,null,null,null,null,null,null,null,null,null,null,null,null,null,null,null,null,null,null,null,null,null,null,null,null,null,null,null,null,null,null,null,null,null,null,null,null,null,null,null,null,null,null,null,null,null,null,null,null,null,null,null,null,null,null,null,null,null,null,null,null,null,null,null,null,null,null,null,null,null,null,null,null,null,null,null,null,null,null,null,null,null,null,null,null,null,null,null,null,null,null,null,null,null,null,null,null,null,null,null,null,null,null,null,null,null,null,null,null,null,null,null,null,null,null,null,null,null,null,null,null,null,null,null,null,null,null,null,null,null,null,null,null,null,null,null,null,null,null,null,null],\"x_values\":{\"__ndarray__\":\"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\",\"dtype\":\"float64\",\"shape\":[500]},\"y_values\":{\"__ndarray__\":\"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\",\"dtype\":\"float64\",\"shape\":[500]}}},\"id\":\"14f38cec-10e8-4bbf-ab64-a2cefa3dc8c0\",\"type\":\"ColumnDataSource\"},{\"attributes\":{\"plot\":{\"id\":\"3da86e5d-3959-4ff0-94c7-0297070ab9b9\",\"subtype\":\"Chart\",\"type\":\"Plot\"}},\"id\":\"cb80f73e-d2cd-4e5d-852f-857477f0b728\",\"type\":\"PanTool\"},{\"attributes\":{\"plot\":{\"id\":\"3da86e5d-3959-4ff0-94c7-0297070ab9b9\",\"subtype\":\"Chart\",\"type\":\"Plot\"}},\"id\":\"a0ab985b-a7db-4f4f-b653-930abe21f900\",\"type\":\"WheelZoomTool\"},{\"attributes\":{\"overlay\":{\"id\":\"bbd2eaa3-f325-44f3-bc21-fcb3a2f4526e\",\"type\":\"BoxAnnotation\"},\"plot\":{\"id\":\"3da86e5d-3959-4ff0-94c7-0297070ab9b9\",\"subtype\":\"Chart\",\"type\":\"Plot\"}},\"id\":\"377eb232-b23d-4e35-968b-4eaefcecd1fc\",\"type\":\"BoxZoomTool\"},{\"attributes\":{\"plot\":{\"id\":\"3da86e5d-3959-4ff0-94c7-0297070ab9b9\",\"subtype\":\"Chart\",\"type\":\"Plot\"}},\"id\":\"9d6d9809-d4cd-4026-bd9e-73c924eda0e7\",\"type\":\"SaveTool\"},{\"attributes\":{\"data_source\":{\"id\":\"14f38cec-10e8-4bbf-ab64-a2cefa3dc8c0\",\"type\":\"ColumnDataSource\"},\"glyph\":{\"id\":\"f611be32-d42a-48ae-9f9a-2272a02eb2ad\",\"type\":\"Circle\"},\"hover_glyph\":null,\"nonselection_glyph\":null,\"selection_glyph\":null},\"id\":\"18175dc7-fdfb-4615-b888-4d592d78ebbe\",\"type\":\"GlyphRenderer\"},{\"attributes\":{},\"id\":\"80d20502-1610-4879-b34b-61f5338ee832\",\"type\":\"ToolEvents\"},{\"attributes\":{\"plot\":{\"id\":\"3da86e5d-3959-4ff0-94c7-0297070ab9b9\",\"subtype\":\"Chart\",\"type\":\"Plot\"}},\"id\":\"48fbc51b-ab11-4359-926e-cce6a75413bc\",\"type\":\"ResetTool\"},{\"attributes\":{\"plot\":{\"id\":\"3da86e5d-3959-4ff0-94c7-0297070ab9b9\",\"subtype\":\"Chart\",\"type\":\"Plot\"}},\"id\":\"06416612-bae6-4bf6-bbb2-f4ccc7921ad5\",\"type\":\"HelpTool\"},{\"attributes\":{\"active_drag\":\"auto\",\"active_scroll\":\"auto\",\"active_tap\":\"auto\",\"tools\":[{\"id\":\"cb80f73e-d2cd-4e5d-852f-857477f0b728\",\"type\":\"PanTool\"},{\"id\":\"a0ab985b-a7db-4f4f-b653-930abe21f900\",\"type\":\"WheelZoomTool\"},{\"id\":\"377eb232-b23d-4e35-968b-4eaefcecd1fc\",\"type\":\"BoxZoomTool\"},{\"id\":\"9d6d9809-d4cd-4026-bd9e-73c924eda0e7\",\"type\":\"SaveTool\"},{\"id\":\"48fbc51b-ab11-4359-926e-cce6a75413bc\",\"type\":\"ResetTool\"},{\"id\":\"06416612-bae6-4bf6-bbb2-f4ccc7921ad5\",\"type\":\"HelpTool\"}]},\"id\":\"d60c990d-5db5-4be6-9119-76fd92f7eac2\",\"type\":\"Toolbar\"},{\"attributes\":{\"axis_label\":\"x\",\"formatter\":{\"id\":\"dc69c7ba-29ba-4e9d-8334-ff4beb63f2d8\",\"type\":\"BasicTickFormatter\"},\"plot\":{\"id\":\"3da86e5d-3959-4ff0-94c7-0297070ab9b9\",\"subtype\":\"Chart\",\"type\":\"Plot\"},\"ticker\":{\"id\":\"84740516-b100-411d-90f6-78094931ad67\",\"type\":\"BasicTicker\"}},\"id\":\"7dcf8ab6-e750-466f-b8cf-f5bf68ce5ef0\",\"type\":\"LinearAxis\"},{\"attributes\":{\"below\":[{\"id\":\"7dcf8ab6-e750-466f-b8cf-f5bf68ce5ef0\",\"type\":\"LinearAxis\"}],\"css_classes\":null,\"height\":400,\"left\":[{\"id\":\"36471729-e74b-485e-ba4f-0f2b81de343a\",\"type\":\"LinearAxis\"}],\"renderers\":[{\"id\":\"bbd2eaa3-f325-44f3-bc21-fcb3a2f4526e\",\"type\":\"BoxAnnotation\"},{\"id\":\"18175dc7-fdfb-4615-b888-4d592d78ebbe\",\"type\":\"GlyphRenderer\"},{\"id\":\"851e4f66-33e6-4471-b691-57b115fb8417\",\"type\":\"Legend\"},{\"id\":\"7dcf8ab6-e750-466f-b8cf-f5bf68ce5ef0\",\"type\":\"LinearAxis\"},{\"id\":\"36471729-e74b-485e-ba4f-0f2b81de343a\",\"type\":\"LinearAxis\"},{\"id\":\"53560610-624d-4288-a92d-a5dc358826af\",\"type\":\"Grid\"},{\"id\":\"00450b74-cae7-4ae3-9492-6f11681d144f\",\"type\":\"Grid\"}],\"title\":{\"id\":\"7b305596-f9f9-4cd8-939d-d7cf25b52f09\",\"type\":\"Title\"},\"tool_events\":{\"id\":\"80d20502-1610-4879-b34b-61f5338ee832\",\"type\":\"ToolEvents\"},\"toolbar\":{\"id\":\"d60c990d-5db5-4be6-9119-76fd92f7eac2\",\"type\":\"Toolbar\"},\"width\":750,\"x_mapper_type\":\"auto\",\"x_range\":{\"id\":\"67b4de93-92e8-48fb-aa3f-8ea736f5de94\",\"type\":\"Range1d\"},\"y_mapper_type\":\"auto\",\"y_range\":{\"id\":\"551b7020-95dd-44d1-abcb-6a94f755f1c8\",\"type\":\"Range1d\"}},\"id\":\"3da86e5d-3959-4ff0-94c7-0297070ab9b9\",\"subtype\":\"Chart\",\"type\":\"Plot\"},{\"attributes\":{\"fill_alpha\":{\"value\":0.7},\"fill_color\":{\"value\":\"#f22c40\"},\"line_color\":{\"value\":\"#f22c40\"},\"size\":{\"units\":\"screen\",\"value\":8},\"x\":{\"field\":\"x_values\"},\"y\":{\"field\":\"y_values\"}},\"id\":\"f611be32-d42a-48ae-9f9a-2272a02eb2ad\",\"type\":\"Circle\"},{\"attributes\":{\"location\":\"top_left\",\"plot\":{\"id\":\"3da86e5d-3959-4ff0-94c7-0297070ab9b9\",\"subtype\":\"Chart\",\"type\":\"Plot\"}},\"id\":\"851e4f66-33e6-4471-b691-57b115fb8417\",\"type\":\"Legend\"}],\"root_ids\":[\"3da86e5d-3959-4ff0-94c7-0297070ab9b9\"]},\"title\":\"Bokeh Application\",\"version\":\"0.12.4\"}};\n",
       "            var render_items = [{\"docid\":\"b681277e-732d-43b2-8a9d-cc47a6d07719\",\"elementid\":\"5d631262-e67e-4ee5-88a2-ba9841a8c06f\",\"modelid\":\"3da86e5d-3959-4ff0-94c7-0297070ab9b9\"}];\n",
       "            \n",
       "            Bokeh.embed.embed_items(docs_json, render_items);\n",
       "          };\n",
       "          if (document.readyState != \"loading\") fn();\n",
       "          else document.addEventListener(\"DOMContentLoaded\", fn);\n",
       "        })();\n",
       "      },\n",
       "      function(Bokeh) {\n",
       "      }\n",
       "    ];\n",
       "  \n",
       "    function run_inline_js() {\n",
       "      \n",
       "      if ((window.Bokeh !== undefined) || (force === true)) {\n",
       "        for (var i = 0; i < inline_js.length; i++) {\n",
       "          inline_js[i](window.Bokeh);\n",
       "        }if (force === true) {\n",
       "          display_loaded();\n",
       "        }} else if (Date.now() < window._bokeh_timeout) {\n",
       "        setTimeout(run_inline_js, 100);\n",
       "      } else if (!window._bokeh_failed_load) {\n",
       "        console.log(\"Bokeh: BokehJS failed to load within specified timeout.\");\n",
       "        window._bokeh_failed_load = true;\n",
       "      } else if (force !== true) {\n",
       "        var cell = $(document.getElementById(\"5d631262-e67e-4ee5-88a2-ba9841a8c06f\")).parents('.cell').data().cell;\n",
       "        cell.output_area.append_execute_result(NB_LOAD_WARNING)\n",
       "      }\n",
       "  \n",
       "    }\n",
       "  \n",
       "    if (window._bokeh_is_loading === 0) {\n",
       "      console.log(\"Bokeh: BokehJS loaded, going straight to plotting\");\n",
       "      run_inline_js();\n",
       "    } else {\n",
       "      load_libs(js_urls, function() {\n",
       "        console.log(\"Bokeh: BokehJS plotting callback run at\", now());\n",
       "        run_inline_js();\n",
       "      });\n",
       "    }\n",
       "  }(this));\n",
       "</script>"
      ]
     },
     "metadata": {},
     "output_type": "display_data"
    }
   ],
   "source": [
    "from bokeh.charts import Scatter, output_notebook, show\n",
    "output_notebook()\n",
    "\n",
    "scatter = Scatter({'x': x, 'y': y}, width=750, height=400)\n",
    "show(scatter)"
   ]
  },
  {
   "cell_type": "markdown",
   "metadata": {
    "deletable": true,
    "editable": true,
    "slideshow": {
     "slide_type": "slide"
    }
   },
   "source": [
    "### Least Squares the way _you_ do it...\n",
    "\n",
    "...assuming you use `scikit-learn` like every other sane Python programmer."
   ]
  },
  {
   "cell_type": "markdown",
   "metadata": {
    "deletable": true,
    "editable": true,
    "slideshow": {
     "slide_type": "subslide"
    }
   },
   "source": [
    "We looked at a chart of our data and decided to describe it with:\n",
    "\n",
    "* A quadratic term  \n",
    "* A linear term\n",
    "* An offset"
   ]
  },
  {
   "cell_type": "code",
   "execution_count": 3,
   "metadata": {
    "collapsed": false,
    "deletable": true,
    "editable": true,
    "slideshow": {
     "slide_type": "subslide"
    }
   },
   "outputs": [
    {
     "name": "stdout",
     "output_type": "stream",
     "text": [
      "[  2.96303044  -2.04435695  12.44858655]\n"
     ]
    },
    {
     "name": "stderr",
     "output_type": "stream",
     "text": [
      "/Users/roneil/src/github.com/ryanjoneil/talks/2017/03/data-science-dc/lib/python3.6/site-packages/scipy/linalg/basic.py:884: RuntimeWarning: internal gelsd driver lwork query error, required iwork dimension not returned. This is likely the result of LAPACK bug 0038, fixed in LAPACK 3.2.2 (released July 21, 2010). Falling back to 'gelss' driver.\n",
      "  warnings.warn(mesg, RuntimeWarning)\n"
     ]
    }
   ],
   "source": [
    "from sklearn.linear_model import LinearRegression\n",
    "\n",
    "# Note: A is our feature matrix.\n",
    "#       We intentionally add a \"1\" for the offset, instead of letting \n",
    "#       sklearn do that for us. This will make sense soon.\n",
    "\n",
    "X = np.array([[xi**2, xi, 1] for xi in x])\n",
    "\n",
    "lin = LinearRegression(fit_intercept=False)\n",
    "lin.fit(X, y)\n",
    "\n",
    "print(lin.coef_)"
   ]
  },
  {
   "cell_type": "markdown",
   "metadata": {
    "deletable": true,
    "editable": true,
    "slideshow": {
     "slide_type": "subslide"
    }
   },
   "source": [
    "How'd we do?"
   ]
  },
  {
   "cell_type": "code",
   "execution_count": 4,
   "metadata": {
    "collapsed": false,
    "deletable": true,
    "editable": true,
    "slideshow": {
     "slide_type": "-"
    }
   },
   "outputs": [
    {
     "data": {
      "text/html": [
       "\n",
       "\n",
       "    <div class=\"bk-root\">\n",
       "        <div class=\"bk-plotdiv\" id=\"7e9b6057-6700-4cfc-ba27-ccacf399e1e2\"></div>\n",
       "    </div>\n",
       "<script type=\"text/javascript\">\n",
       "  \n",
       "  (function(global) {\n",
       "    function now() {\n",
       "      return new Date();\n",
       "    }\n",
       "  \n",
       "    var force = false;\n",
       "  \n",
       "    if (typeof (window._bokeh_onload_callbacks) === \"undefined\" || force === true) {\n",
       "      window._bokeh_onload_callbacks = [];\n",
       "      window._bokeh_is_loading = undefined;\n",
       "    }\n",
       "  \n",
       "  \n",
       "    \n",
       "    if (typeof (window._bokeh_timeout) === \"undefined\" || force === true) {\n",
       "      window._bokeh_timeout = Date.now() + 0;\n",
       "      window._bokeh_failed_load = false;\n",
       "    }\n",
       "  \n",
       "    var NB_LOAD_WARNING = {'data': {'text/html':\n",
       "       \"<div style='background-color: #fdd'>\\n\"+\n",
       "       \"<p>\\n\"+\n",
       "       \"BokehJS does not appear to have successfully loaded. If loading BokehJS from CDN, this \\n\"+\n",
       "       \"may be due to a slow or bad network connection. Possible fixes:\\n\"+\n",
       "       \"</p>\\n\"+\n",
       "       \"<ul>\\n\"+\n",
       "       \"<li>re-rerun `output_notebook()` to attempt to load from CDN again, or</li>\\n\"+\n",
       "       \"<li>use INLINE resources instead, as so:</li>\\n\"+\n",
       "       \"</ul>\\n\"+\n",
       "       \"<code>\\n\"+\n",
       "       \"from bokeh.resources import INLINE\\n\"+\n",
       "       \"output_notebook(resources=INLINE)\\n\"+\n",
       "       \"</code>\\n\"+\n",
       "       \"</div>\"}};\n",
       "  \n",
       "    function display_loaded() {\n",
       "      if (window.Bokeh !== undefined) {\n",
       "        document.getElementById(\"7e9b6057-6700-4cfc-ba27-ccacf399e1e2\").textContent = \"BokehJS successfully loaded.\";\n",
       "      } else if (Date.now() < window._bokeh_timeout) {\n",
       "        setTimeout(display_loaded, 100)\n",
       "      }\n",
       "    }\n",
       "  \n",
       "    function run_callbacks() {\n",
       "      window._bokeh_onload_callbacks.forEach(function(callback) { callback() });\n",
       "      delete window._bokeh_onload_callbacks\n",
       "      console.info(\"Bokeh: all callbacks have finished\");\n",
       "    }\n",
       "  \n",
       "    function load_libs(js_urls, callback) {\n",
       "      window._bokeh_onload_callbacks.push(callback);\n",
       "      if (window._bokeh_is_loading > 0) {\n",
       "        console.log(\"Bokeh: BokehJS is being loaded, scheduling callback at\", now());\n",
       "        return null;\n",
       "      }\n",
       "      if (js_urls == null || js_urls.length === 0) {\n",
       "        run_callbacks();\n",
       "        return null;\n",
       "      }\n",
       "      console.log(\"Bokeh: BokehJS not loaded, scheduling load and callback at\", now());\n",
       "      window._bokeh_is_loading = js_urls.length;\n",
       "      for (var i = 0; i < js_urls.length; i++) {\n",
       "        var url = js_urls[i];\n",
       "        var s = document.createElement('script');\n",
       "        s.src = url;\n",
       "        s.async = false;\n",
       "        s.onreadystatechange = s.onload = function() {\n",
       "          window._bokeh_is_loading--;\n",
       "          if (window._bokeh_is_loading === 0) {\n",
       "            console.log(\"Bokeh: all BokehJS libraries loaded\");\n",
       "            run_callbacks()\n",
       "          }\n",
       "        };\n",
       "        s.onerror = function() {\n",
       "          console.warn(\"failed to load library \" + url);\n",
       "        };\n",
       "        console.log(\"Bokeh: injecting script tag for BokehJS library: \", url);\n",
       "        document.getElementsByTagName(\"head\")[0].appendChild(s);\n",
       "      }\n",
       "    };var element = document.getElementById(\"7e9b6057-6700-4cfc-ba27-ccacf399e1e2\");\n",
       "    if (element == null) {\n",
       "      console.log(\"Bokeh: ERROR: autoload.js configured with elementid '7e9b6057-6700-4cfc-ba27-ccacf399e1e2' but no matching script tag was found. \")\n",
       "      return false;\n",
       "    }\n",
       "  \n",
       "    var js_urls = [];\n",
       "  \n",
       "    var inline_js = [\n",
       "      function(Bokeh) {\n",
       "        (function() {\n",
       "          var fn = function() {\n",
       "            var docs_json = {\"528afa46-651b-4987-a3b5-12b9b7207fbf\":{\"roots\":{\"references\":[{\"attributes\":{},\"id\":\"e4e3b98c-f06e-40f6-bfd3-cb483b340c6a\",\"type\":\"BasicTickFormatter\"},{\"attributes\":{},\"id\":\"2fb94dc5-c705-4f2c-9002-5ed6764c76e2\",\"type\":\"ToolEvents\"},{\"attributes\":{\"below\":[{\"id\":\"ba88780b-0a35-4c48-99f9-f4cd155584c2\",\"type\":\"LinearAxis\"}],\"css_classes\":null,\"height\":400,\"left\":[{\"id\":\"994710c1-9046-44ce-90e1-3339120fd4ea\",\"type\":\"LinearAxis\"}],\"renderers\":[{\"id\":\"75b8e695-dbed-4e9c-97f3-a2cee29755e5\",\"type\":\"BoxAnnotation\"},{\"id\":\"b121290f-6578-4b23-8ead-e97b8bf574ab\",\"type\":\"GlyphRenderer\"},{\"id\":\"2ee473d8-7973-4eb2-ac7f-bf7281dc2ebb\",\"type\":\"Legend\"},{\"id\":\"ba88780b-0a35-4c48-99f9-f4cd155584c2\",\"type\":\"LinearAxis\"},{\"id\":\"994710c1-9046-44ce-90e1-3339120fd4ea\",\"type\":\"LinearAxis\"},{\"id\":\"48e2a5ff-908f-4d91-8cb4-c45adb9c1e73\",\"type\":\"Grid\"},{\"id\":\"c49beed3-a02c-41cf-9a39-a259e194091f\",\"type\":\"Grid\"}],\"title\":{\"id\":\"5817dca5-7d7b-4991-952b-2a5e96d3ff34\",\"type\":\"Title\"},\"tool_events\":{\"id\":\"2fb94dc5-c705-4f2c-9002-5ed6764c76e2\",\"type\":\"ToolEvents\"},\"toolbar\":{\"id\":\"1f345bf0-d4b9-4bf2-ae31-a955ed75291c\",\"type\":\"Toolbar\"},\"width\":750,\"x_mapper_type\":\"auto\",\"x_range\":{\"id\":\"a8305af9-f096-4d43-902a-6b2e2830571c\",\"type\":\"Range1d\"},\"y_mapper_type\":\"auto\",\"y_range\":{\"id\":\"3c13b030-417c-429f-ac00-b1e7ec476d6e\",\"type\":\"Range1d\"}},\"id\":\"4124151e-dc90-47fc-8b30-78d4a0469e49\",\"subtype\":\"Chart\",\"type\":\"Plot\"},{\"attributes\":{\"plot\":null,\"text\":null},\"id\":\"5817dca5-7d7b-4991-952b-2a5e96d3ff34\",\"type\":\"Title\"},{\"attributes\":{\"active_drag\":\"auto\",\"active_scroll\":\"auto\",\"active_tap\":\"auto\",\"tools\":[{\"id\":\"7d41e6ba-6083-4786-8575-55014709c456\",\"type\":\"PanTool\"},{\"id\":\"8cfb91d6-fb07-4a0d-94e8-e26d9611d0d6\",\"type\":\"WheelZoomTool\"},{\"id\":\"15c43178-b45f-4210-b183-c1b2f3cdba12\",\"type\":\"BoxZoomTool\"},{\"id\":\"77dda609-1857-4002-a4fd-11f3f356890b\",\"type\":\"SaveTool\"},{\"id\":\"bd20ef6a-85a5-4731-8bbc-b24af311dbbf\",\"type\":\"ResetTool\"},{\"id\":\"399f33d7-2f03-4c12-aee1-43bba2ef7088\",\"type\":\"HelpTool\"}]},\"id\":\"1f345bf0-d4b9-4bf2-ae31-a955ed75291c\",\"type\":\"Toolbar\"},{\"attributes\":{\"location\":\"top_left\",\"plot\":{\"id\":\"4124151e-dc90-47fc-8b30-78d4a0469e49\",\"subtype\":\"Chart\",\"type\":\"Plot\"}},\"id\":\"2ee473d8-7973-4eb2-ac7f-bf7281dc2ebb\",\"type\":\"Legend\"},{\"attributes\":{\"callback\":null,\"column_names\":[\"x_values\",\"y_values\"],\"data\":{\"chart_index\":[null,null,null,null,null,null,null,null,null,null,null,null,null,null,null,null,null,null,null,null,null,null,null,null,null,null,null,null,null,null,null,null,null,null,null,null,null,null,null,null,null,null,null,null,null,null,null,null,null,null,null,null,null,null,null,null,null,null,null,null,null,null,null,null,null,null,null,null,null,null,null,null,null,null,null,null,null,null,null,null,null,null,null,null,null,null,null,null,null,null,null,null,null,null,null,null,null,null,null,null,null,null,null,null,null,null,null,null,null,null,null,null,null,null,null,null,null,null,null,null,null,null,null,null,null,null,null,null,null,null,null,null,null,null,null,null,null,null,null,null,null,null,null,null,null,null,null,null,null,null,null,null,null,null,null,null,null,null,null,null,null,null,null,null,null,null,null,null,null,null,null,null,null,null,null,null,null,null,null,null,null,null,null,null,null,null,null,null,null,null,null,null,null,null,null,null,null,null,null,null,null,null,null,null,null,null,null,null,null,null,null,null,null,null,null,null,null,null,null,null,null,null,null,null,null,null,null,null,null,null,null,null,null,null,null,null,null,null,null,null,null,null,null,null,null,null,null,null,null,null,null,null,null,null,null,null,null,null,null,null,null,null,null,null,null,null,null,null,null,null,null,null,null,null,null,null,null,null,null,null,null,null,null,null,null,null,null,null,null,null,null,null,null,null,null,null,null,null,null,null,null,null,null,null,null,null,null,null,null,null,null,null,null,null,null,null,null,null,null,null,null,null,null,null,null,null,null,null,null,null,null,null,null,null,null,null,null,null,null,null,null,null,null,null,null,null,null,null,null,null,null,null,null,null,null,null,null,null,null,null,null,null,null,null,null,null,null,null,null,null,null,null,null,null,null,null,null,null,null,null,null,null,null,null,null,null,null,null,null,null,null,null,null,null,null,null,null,null,null,null,null,null,null,null,null,null,null,null,null,null,null,null,null,null,null,null,null,null,null,null,null,null,null,null,null,null,null,null,null,null,null,null,null,null,null,null,null,null,null,null,null,null,null,null,null,null,null,null,null,null,null,null,null,null,null,null,null,null,null,null,null,null,null,null,null,null,null,null,null,null,null,null,null,null,null,null,null,null,null,null,null,null,null,null,null,null,null,null,null,null,null,null,null,null,null,null,null,null,null,null],\"x_values\":{\"__ndarray__\":\"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\",\"dtype\":\"float64\",\"shape\":[500]},\"y_values\":{\"__ndarray__\":\"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\",\"dtype\":\"float64\",\"shape\":[500]}}},\"id\":\"9fcff33b-984c-4e86-ba1f-a76150baeac8\",\"type\":\"ColumnDataSource\"},{\"attributes\":{\"bottom_units\":\"screen\",\"fill_alpha\":{\"value\":0.5},\"fill_color\":{\"value\":\"lightgrey\"},\"left_units\":\"screen\",\"level\":\"overlay\",\"line_alpha\":{\"value\":1.0},\"line_color\":{\"value\":\"black\"},\"line_dash\":[4,4],\"line_width\":{\"value\":2},\"plot\":null,\"render_mode\":\"css\",\"right_units\":\"screen\",\"top_units\":\"screen\"},\"id\":\"75b8e695-dbed-4e9c-97f3-a2cee29755e5\",\"type\":\"BoxAnnotation\"},{\"attributes\":{\"plot\":{\"id\":\"4124151e-dc90-47fc-8b30-78d4a0469e49\",\"subtype\":\"Chart\",\"type\":\"Plot\"}},\"id\":\"7d41e6ba-6083-4786-8575-55014709c456\",\"type\":\"PanTool\"},{\"attributes\":{},\"id\":\"363cad24-73d4-48df-b92b-0e5c8131c966\",\"type\":\"BasicTicker\"},{\"attributes\":{\"plot\":{\"id\":\"4124151e-dc90-47fc-8b30-78d4a0469e49\",\"subtype\":\"Chart\",\"type\":\"Plot\"}},\"id\":\"8cfb91d6-fb07-4a0d-94e8-e26d9611d0d6\",\"type\":\"WheelZoomTool\"},{\"attributes\":{\"overlay\":{\"id\":\"75b8e695-dbed-4e9c-97f3-a2cee29755e5\",\"type\":\"BoxAnnotation\"},\"plot\":{\"id\":\"4124151e-dc90-47fc-8b30-78d4a0469e49\",\"subtype\":\"Chart\",\"type\":\"Plot\"}},\"id\":\"15c43178-b45f-4210-b183-c1b2f3cdba12\",\"type\":\"BoxZoomTool\"},{\"attributes\":{\"plot\":{\"id\":\"4124151e-dc90-47fc-8b30-78d4a0469e49\",\"subtype\":\"Chart\",\"type\":\"Plot\"}},\"id\":\"77dda609-1857-4002-a4fd-11f3f356890b\",\"type\":\"SaveTool\"},{\"attributes\":{\"plot\":{\"id\":\"4124151e-dc90-47fc-8b30-78d4a0469e49\",\"subtype\":\"Chart\",\"type\":\"Plot\"}},\"id\":\"bd20ef6a-85a5-4731-8bbc-b24af311dbbf\",\"type\":\"ResetTool\"},{\"attributes\":{\"plot\":{\"id\":\"4124151e-dc90-47fc-8b30-78d4a0469e49\",\"subtype\":\"Chart\",\"type\":\"Plot\"}},\"id\":\"399f33d7-2f03-4c12-aee1-43bba2ef7088\",\"type\":\"HelpTool\"},{\"attributes\":{\"callback\":null,\"end\":11.98824273175234,\"start\":-11.914371849178867},\"id\":\"a8305af9-f096-4d43-902a-6b2e2830571c\",\"type\":\"Range1d\"},{\"attributes\":{\"callback\":null,\"end\":355.6961446007548,\"start\":-19.12451719497612},\"id\":\"3c13b030-417c-429f-ac00-b1e7ec476d6e\",\"type\":\"Range1d\"},{\"attributes\":{\"data_source\":{\"id\":\"9fcff33b-984c-4e86-ba1f-a76150baeac8\",\"type\":\"ColumnDataSource\"},\"glyph\":{\"id\":\"fa14f7ad-f244-410d-95ac-742e035d9cdf\",\"type\":\"Line\"},\"hover_glyph\":null,\"nonselection_glyph\":null,\"selection_glyph\":null},\"id\":\"b121290f-6578-4b23-8ead-e97b8bf574ab\",\"type\":\"GlyphRenderer\"},{\"attributes\":{\"axis_label\":\"x\",\"formatter\":{\"id\":\"afed9376-a9bb-4415-a022-ab2fb6df663a\",\"type\":\"BasicTickFormatter\"},\"plot\":{\"id\":\"4124151e-dc90-47fc-8b30-78d4a0469e49\",\"subtype\":\"Chart\",\"type\":\"Plot\"},\"ticker\":{\"id\":\"363cad24-73d4-48df-b92b-0e5c8131c966\",\"type\":\"BasicTicker\"}},\"id\":\"ba88780b-0a35-4c48-99f9-f4cd155584c2\",\"type\":\"LinearAxis\"},{\"attributes\":{\"plot\":{\"id\":\"4124151e-dc90-47fc-8b30-78d4a0469e49\",\"subtype\":\"Chart\",\"type\":\"Plot\"},\"ticker\":{\"id\":\"363cad24-73d4-48df-b92b-0e5c8131c966\",\"type\":\"BasicTicker\"}},\"id\":\"48e2a5ff-908f-4d91-8cb4-c45adb9c1e73\",\"type\":\"Grid\"},{\"attributes\":{\"line_color\":{\"value\":\"#f22c40\"},\"line_width\":{\"value\":2},\"x\":{\"field\":\"x_values\"},\"y\":{\"field\":\"y_values\"}},\"id\":\"fa14f7ad-f244-410d-95ac-742e035d9cdf\",\"type\":\"Line\"},{\"attributes\":{\"axis_label\":\"y\",\"formatter\":{\"id\":\"e4e3b98c-f06e-40f6-bfd3-cb483b340c6a\",\"type\":\"BasicTickFormatter\"},\"plot\":{\"id\":\"4124151e-dc90-47fc-8b30-78d4a0469e49\",\"subtype\":\"Chart\",\"type\":\"Plot\"},\"ticker\":{\"id\":\"7ec46a31-79ea-48c3-b05c-dad7b697f617\",\"type\":\"BasicTicker\"}},\"id\":\"994710c1-9046-44ce-90e1-3339120fd4ea\",\"type\":\"LinearAxis\"},{\"attributes\":{},\"id\":\"afed9376-a9bb-4415-a022-ab2fb6df663a\",\"type\":\"BasicTickFormatter\"},{\"attributes\":{},\"id\":\"7ec46a31-79ea-48c3-b05c-dad7b697f617\",\"type\":\"BasicTicker\"},{\"attributes\":{\"dimension\":1,\"plot\":{\"id\":\"4124151e-dc90-47fc-8b30-78d4a0469e49\",\"subtype\":\"Chart\",\"type\":\"Plot\"},\"ticker\":{\"id\":\"7ec46a31-79ea-48c3-b05c-dad7b697f617\",\"type\":\"BasicTicker\"}},\"id\":\"c49beed3-a02c-41cf-9a39-a259e194091f\",\"type\":\"Grid\"}],\"root_ids\":[\"4124151e-dc90-47fc-8b30-78d4a0469e49\"]},\"title\":\"Bokeh Application\",\"version\":\"0.12.4\"}};\n",
       "            var render_items = [{\"docid\":\"528afa46-651b-4987-a3b5-12b9b7207fbf\",\"elementid\":\"7e9b6057-6700-4cfc-ba27-ccacf399e1e2\",\"modelid\":\"4124151e-dc90-47fc-8b30-78d4a0469e49\"}];\n",
       "            \n",
       "            Bokeh.embed.embed_items(docs_json, render_items);\n",
       "          };\n",
       "          if (document.readyState != \"loading\") fn();\n",
       "          else document.addEventListener(\"DOMContentLoaded\", fn);\n",
       "        })();\n",
       "      },\n",
       "      function(Bokeh) {\n",
       "      }\n",
       "    ];\n",
       "  \n",
       "    function run_inline_js() {\n",
       "      \n",
       "      if ((window.Bokeh !== undefined) || (force === true)) {\n",
       "        for (var i = 0; i < inline_js.length; i++) {\n",
       "          inline_js[i](window.Bokeh);\n",
       "        }if (force === true) {\n",
       "          display_loaded();\n",
       "        }} else if (Date.now() < window._bokeh_timeout) {\n",
       "        setTimeout(run_inline_js, 100);\n",
       "      } else if (!window._bokeh_failed_load) {\n",
       "        console.log(\"Bokeh: BokehJS failed to load within specified timeout.\");\n",
       "        window._bokeh_failed_load = true;\n",
       "      } else if (force !== true) {\n",
       "        var cell = $(document.getElementById(\"7e9b6057-6700-4cfc-ba27-ccacf399e1e2\")).parents('.cell').data().cell;\n",
       "        cell.output_area.append_execute_result(NB_LOAD_WARNING)\n",
       "      }\n",
       "  \n",
       "    }\n",
       "  \n",
       "    if (window._bokeh_is_loading === 0) {\n",
       "      console.log(\"Bokeh: BokehJS loaded, going straight to plotting\");\n",
       "      run_inline_js();\n",
       "    } else {\n",
       "      load_libs(js_urls, function() {\n",
       "        console.log(\"Bokeh: BokehJS plotting callback run at\", now());\n",
       "        run_inline_js();\n",
       "      });\n",
       "    }\n",
       "  }(this));\n",
       "</script>"
      ]
     },
     "metadata": {},
     "output_type": "display_data"
    }
   ],
   "source": [
    "from bokeh.charts import Line\n",
    "y_hat = lin.predict(X)\n",
    "show(Line({'x': x, 'y': y_hat}, x='x', y='y', width=750, height=400))"
   ]
  },
  {
   "cell_type": "markdown",
   "metadata": {
    "deletable": true,
    "editable": true,
    "slideshow": {
     "slide_type": "slide"
    }
   },
   "source": [
    "### Least Squares the way your _grandparents_ did it...\n",
    "\n",
    "...with chalk and a slab of slate."
   ]
  },
  {
   "cell_type": "markdown",
   "metadata": {
    "deletable": true,
    "editable": true,
    "slideshow": {
     "slide_type": "subslide"
    }
   },
   "source": [
    "Construct a function to calculate the sum of squared residuals...\n",
    "\n",
    "$$\n",
    "\\begin{align}\n",
    "    \\text{min}\\ f(\\beta) & = \\frac{1}{2} ||y - X \\beta||^2 \\\\\n",
    "                         & \\\\\n",
    "                         & = \\frac{1}{2} (y - X \\beta)'(y - X \\beta) \\\\\n",
    "                         & \\\\\n",
    "                         & = \\frac{1}{2} y'y - y'X\\beta + \\frac{1}{2} \\beta'X'X\\beta \\\\\n",
    "                         & \\\\\n",
    "                         & = \\frac{1}{2} y'y - y'X\\beta + \\frac{1}{2} \\beta'X'X\\beta \\\\\n",
    "                         & \\\\\n",
    "\\end{align}\n",
    "$$"
   ]
  },
  {
   "cell_type": "markdown",
   "metadata": {
    "deletable": true,
    "editable": true,
    "slideshow": {
     "slide_type": "subslide"
    }
   },
   "source": [
    "#### First Order Necessary Conditions\n",
    "\n",
    "...and take its derivative to find a closed-form solution.\n",
    "\n",
    "$$\\nabla f(\\beta) = X'X\\beta - y'X\\beta = 0$$  \n",
    "$$\\beta = (X'X)^{-1}X'y$$"
   ]
  },
  {
   "cell_type": "code",
   "execution_count": 5,
   "metadata": {
    "collapsed": false,
    "deletable": true,
    "editable": true,
    "slideshow": {
     "slide_type": "subslide"
    }
   },
   "outputs": [
    {
     "name": "stdout",
     "output_type": "stream",
     "text": [
      "[  2.96303044  -2.04435695  12.44858655]\n"
     ]
    }
   ],
   "source": [
    "from numpy.linalg import inv\n",
    "\n",
    "# beta = (X'X)^-1 * X * y\n",
    "Xt = X.transpose()\n",
    "pseudo_inv = inv(np.matmul(Xt, X))\n",
    "beta = np.matmul(np.matmul(pseudo_inv, Xt), y)\n",
    "print(beta)"
   ]
  },
  {
   "cell_type": "markdown",
   "metadata": {
    "deletable": true,
    "editable": true,
    "slideshow": {
     "slide_type": "subslide"
    }
   },
   "source": [
    "How'd grandma and grandpa do?"
   ]
  },
  {
   "cell_type": "code",
   "execution_count": 6,
   "metadata": {
    "collapsed": false,
    "deletable": true,
    "editable": true,
    "slideshow": {
     "slide_type": "-"
    }
   },
   "outputs": [
    {
     "data": {
      "text/html": [
       "\n",
       "\n",
       "    <div class=\"bk-root\">\n",
       "        <div class=\"bk-plotdiv\" id=\"296dfd91-f332-48c9-9c35-040be3506db8\"></div>\n",
       "    </div>\n",
       "<script type=\"text/javascript\">\n",
       "  \n",
       "  (function(global) {\n",
       "    function now() {\n",
       "      return new Date();\n",
       "    }\n",
       "  \n",
       "    var force = false;\n",
       "  \n",
       "    if (typeof (window._bokeh_onload_callbacks) === \"undefined\" || force === true) {\n",
       "      window._bokeh_onload_callbacks = [];\n",
       "      window._bokeh_is_loading = undefined;\n",
       "    }\n",
       "  \n",
       "  \n",
       "    \n",
       "    if (typeof (window._bokeh_timeout) === \"undefined\" || force === true) {\n",
       "      window._bokeh_timeout = Date.now() + 0;\n",
       "      window._bokeh_failed_load = false;\n",
       "    }\n",
       "  \n",
       "    var NB_LOAD_WARNING = {'data': {'text/html':\n",
       "       \"<div style='background-color: #fdd'>\\n\"+\n",
       "       \"<p>\\n\"+\n",
       "       \"BokehJS does not appear to have successfully loaded. If loading BokehJS from CDN, this \\n\"+\n",
       "       \"may be due to a slow or bad network connection. Possible fixes:\\n\"+\n",
       "       \"</p>\\n\"+\n",
       "       \"<ul>\\n\"+\n",
       "       \"<li>re-rerun `output_notebook()` to attempt to load from CDN again, or</li>\\n\"+\n",
       "       \"<li>use INLINE resources instead, as so:</li>\\n\"+\n",
       "       \"</ul>\\n\"+\n",
       "       \"<code>\\n\"+\n",
       "       \"from bokeh.resources import INLINE\\n\"+\n",
       "       \"output_notebook(resources=INLINE)\\n\"+\n",
       "       \"</code>\\n\"+\n",
       "       \"</div>\"}};\n",
       "  \n",
       "    function display_loaded() {\n",
       "      if (window.Bokeh !== undefined) {\n",
       "        document.getElementById(\"296dfd91-f332-48c9-9c35-040be3506db8\").textContent = \"BokehJS successfully loaded.\";\n",
       "      } else if (Date.now() < window._bokeh_timeout) {\n",
       "        setTimeout(display_loaded, 100)\n",
       "      }\n",
       "    }\n",
       "  \n",
       "    function run_callbacks() {\n",
       "      window._bokeh_onload_callbacks.forEach(function(callback) { callback() });\n",
       "      delete window._bokeh_onload_callbacks\n",
       "      console.info(\"Bokeh: all callbacks have finished\");\n",
       "    }\n",
       "  \n",
       "    function load_libs(js_urls, callback) {\n",
       "      window._bokeh_onload_callbacks.push(callback);\n",
       "      if (window._bokeh_is_loading > 0) {\n",
       "        console.log(\"Bokeh: BokehJS is being loaded, scheduling callback at\", now());\n",
       "        return null;\n",
       "      }\n",
       "      if (js_urls == null || js_urls.length === 0) {\n",
       "        run_callbacks();\n",
       "        return null;\n",
       "      }\n",
       "      console.log(\"Bokeh: BokehJS not loaded, scheduling load and callback at\", now());\n",
       "      window._bokeh_is_loading = js_urls.length;\n",
       "      for (var i = 0; i < js_urls.length; i++) {\n",
       "        var url = js_urls[i];\n",
       "        var s = document.createElement('script');\n",
       "        s.src = url;\n",
       "        s.async = false;\n",
       "        s.onreadystatechange = s.onload = function() {\n",
       "          window._bokeh_is_loading--;\n",
       "          if (window._bokeh_is_loading === 0) {\n",
       "            console.log(\"Bokeh: all BokehJS libraries loaded\");\n",
       "            run_callbacks()\n",
       "          }\n",
       "        };\n",
       "        s.onerror = function() {\n",
       "          console.warn(\"failed to load library \" + url);\n",
       "        };\n",
       "        console.log(\"Bokeh: injecting script tag for BokehJS library: \", url);\n",
       "        document.getElementsByTagName(\"head\")[0].appendChild(s);\n",
       "      }\n",
       "    };var element = document.getElementById(\"296dfd91-f332-48c9-9c35-040be3506db8\");\n",
       "    if (element == null) {\n",
       "      console.log(\"Bokeh: ERROR: autoload.js configured with elementid '296dfd91-f332-48c9-9c35-040be3506db8' but no matching script tag was found. \")\n",
       "      return false;\n",
       "    }\n",
       "  \n",
       "    var js_urls = [];\n",
       "  \n",
       "    var inline_js = [\n",
       "      function(Bokeh) {\n",
       "        (function() {\n",
       "          var fn = function() {\n",
       "            var docs_json = {\"3d18477a-cf67-4e2b-a50e-5fcd6b7dcf24\":{\"roots\":{\"references\":[{\"attributes\":{\"bottom_units\":\"screen\",\"fill_alpha\":{\"value\":0.5},\"fill_color\":{\"value\":\"lightgrey\"},\"left_units\":\"screen\",\"level\":\"overlay\",\"line_alpha\":{\"value\":1.0},\"line_color\":{\"value\":\"black\"},\"line_dash\":[4,4],\"line_width\":{\"value\":2},\"plot\":null,\"render_mode\":\"css\",\"right_units\":\"screen\",\"top_units\":\"screen\"},\"id\":\"06a7a9b9-d3ad-4bc0-a377-8b3d7da5b62b\",\"type\":\"BoxAnnotation\"},{\"attributes\":{\"callback\":null,\"column_names\":[\"x_values\",\"y_values\"],\"data\":{\"chart_index\":[null,null,null,null,null,null,null,null,null,null,null,null,null,null,null,null,null,null,null,null,null,null,null,null,null,null,null,null,null,null,null,null,null,null,null,null,null,null,null,null,null,null,null,null,null,null,null,null,null,null,null,null,null,null,null,null,null,null,null,null,null,null,null,null,null,null,null,null,null,null,null,null,null,null,null,null,null,null,null,null,null,null,null,null,null,null,null,null,null,null,null,null,null,null,null,null,null,null,null,null,null,null,null,null,null,null,null,null,null,null,null,null,null,null,null,null,null,null,null,null,null,null,null,null,null,null,null,null,null,null,null,null,null,null,null,null,null,null,null,null,null,null,null,null,null,null,null,null,null,null,null,null,null,null,null,null,null,null,null,null,null,null,null,null,null,null,null,null,null,null,null,null,null,null,null,null,null,null,null,null,null,null,null,null,null,null,null,null,null,null,null,null,null,null,null,null,null,null,null,null,null,null,null,null,null,null,null,null,null,null,null,null,null,null,null,null,null,null,null,null,null,null,null,null,null,null,null,null,null,null,null,null,null,null,null,null,null,null,null,null,null,null,null,null,null,null,null,null,null,null,null,null,null,null,null,null,null,null,null,null,null,null,null,null,null,null,null,null,null,null,null,null,null,null,null,null,null,null,null,null,null,null,null,null,null,null,null,null,null,null,null,null,null,null,null,null,null,null,null,null,null,null,null,null,null,null,null,null,null,null,null,null,null,null,null,null,null,null,null,null,null,null,null,null,null,null,null,null,null,null,null,null,null,null,null,null,null,null,null,null,null,null,null,null,null,null,null,null,null,null,null,null,null,null,null,null,null,null,null,null,null,null,null,null,null,null,null,null,null,null,null,null,null,null,null,null,null,null,null,null,null,null,null,null,null,null,null,null,null,null,null,null,null,null,null,null,null,null,null,null,null,null,null,null,null,null,null,null,null,null,null,null,null,null,null,null,null,null,null,null,null,null,null,null,null,null,null,null,null,null,null,null,null,null,null,null,null,null,null,null,null,null,null,null,null,null,null,null,null,null,null,null,null,null,null,null,null,null,null,null,null,null,null,null,null,null,null,null,null,null,null,null,null,null,null,null,null,null,null,null,null,null,null,null,null,null,null,null,null,null,null,null,null,null,null,null,null,null,null,null],\"x_values\":{\"__ndarray__\":\"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\",\"dtype\":\"float64\",\"shape\":[500]},\"y_values\":{\"__ndarray__\":\"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\",\"dtype\":\"float64\",\"shape\":[500]}}},\"id\":\"45a6a165-91bc-4fb3-bc73-fc7d69061e4f\",\"type\":\"ColumnDataSource\"},{\"attributes\":{\"plot\":{\"id\":\"37a67cd4-323d-4f01-8391-c414bdbabef2\",\"subtype\":\"Chart\",\"type\":\"Plot\"}},\"id\":\"86986b0a-6219-40fb-b649-b298a36c5892\",\"type\":\"WheelZoomTool\"},{\"attributes\":{\"axis_label\":\"y\",\"formatter\":{\"id\":\"de2b8d7d-e733-4267-bf7b-e71433390100\",\"type\":\"BasicTickFormatter\"},\"plot\":{\"id\":\"37a67cd4-323d-4f01-8391-c414bdbabef2\",\"subtype\":\"Chart\",\"type\":\"Plot\"},\"ticker\":{\"id\":\"f9db2be1-fa22-42c9-9917-489120785940\",\"type\":\"BasicTicker\"}},\"id\":\"37f3b1f6-6e0f-4958-bea4-21a5c3f1580e\",\"type\":\"LinearAxis\"},{\"attributes\":{\"plot\":{\"id\":\"37a67cd4-323d-4f01-8391-c414bdbabef2\",\"subtype\":\"Chart\",\"type\":\"Plot\"}},\"id\":\"2cf3f10b-3201-4981-a62e-3f3df6c508f9\",\"type\":\"PanTool\"},{\"attributes\":{\"overlay\":{\"id\":\"06a7a9b9-d3ad-4bc0-a377-8b3d7da5b62b\",\"type\":\"BoxAnnotation\"},\"plot\":{\"id\":\"37a67cd4-323d-4f01-8391-c414bdbabef2\",\"subtype\":\"Chart\",\"type\":\"Plot\"}},\"id\":\"9484f5e4-0853-4229-8403-acdba5097de6\",\"type\":\"BoxZoomTool\"},{\"attributes\":{\"callback\":null,\"end\":11.98824273175234,\"start\":-11.914371849178867},\"id\":\"dbdae27e-fe8a-4a4a-b045-f36a7944e23f\",\"type\":\"Range1d\"},{\"attributes\":{\"plot\":{\"id\":\"37a67cd4-323d-4f01-8391-c414bdbabef2\",\"subtype\":\"Chart\",\"type\":\"Plot\"}},\"id\":\"34eb0029-f225-449f-90e6-67318040a97d\",\"type\":\"SaveTool\"},{\"attributes\":{\"active_drag\":\"auto\",\"active_scroll\":\"auto\",\"active_tap\":\"auto\",\"tools\":[{\"id\":\"2cf3f10b-3201-4981-a62e-3f3df6c508f9\",\"type\":\"PanTool\"},{\"id\":\"86986b0a-6219-40fb-b649-b298a36c5892\",\"type\":\"WheelZoomTool\"},{\"id\":\"9484f5e4-0853-4229-8403-acdba5097de6\",\"type\":\"BoxZoomTool\"},{\"id\":\"34eb0029-f225-449f-90e6-67318040a97d\",\"type\":\"SaveTool\"},{\"id\":\"e969aa23-42de-4499-b623-1583d98d03b1\",\"type\":\"ResetTool\"},{\"id\":\"d339cd59-d15b-4b10-85c1-0f0b301027e5\",\"type\":\"HelpTool\"}]},\"id\":\"b856efa8-f099-466c-a55c-4bf52314590f\",\"type\":\"Toolbar\"},{\"attributes\":{\"plot\":{\"id\":\"37a67cd4-323d-4f01-8391-c414bdbabef2\",\"subtype\":\"Chart\",\"type\":\"Plot\"}},\"id\":\"e969aa23-42de-4499-b623-1583d98d03b1\",\"type\":\"ResetTool\"},{\"attributes\":{\"plot\":null,\"text\":null},\"id\":\"d68225a1-9e3c-40f2-bc69-f6cbdd485a43\",\"type\":\"Title\"},{\"attributes\":{\"plot\":{\"id\":\"37a67cd4-323d-4f01-8391-c414bdbabef2\",\"subtype\":\"Chart\",\"type\":\"Plot\"}},\"id\":\"d339cd59-d15b-4b10-85c1-0f0b301027e5\",\"type\":\"HelpTool\"},{\"attributes\":{\"axis_label\":\"x\",\"formatter\":{\"id\":\"8a05df60-9070-40a0-9cc6-21e4323232ec\",\"type\":\"BasicTickFormatter\"},\"plot\":{\"id\":\"37a67cd4-323d-4f01-8391-c414bdbabef2\",\"subtype\":\"Chart\",\"type\":\"Plot\"},\"ticker\":{\"id\":\"441a1a84-01e4-4175-b96d-037008fd3b6b\",\"type\":\"BasicTicker\"}},\"id\":\"62249dc3-3764-4781-84fc-ccf12a24b02e\",\"type\":\"LinearAxis\"},{\"attributes\":{},\"id\":\"441a1a84-01e4-4175-b96d-037008fd3b6b\",\"type\":\"BasicTicker\"},{\"attributes\":{\"data_source\":{\"id\":\"45a6a165-91bc-4fb3-bc73-fc7d69061e4f\",\"type\":\"ColumnDataSource\"},\"glyph\":{\"id\":\"0ed696d4-a707-447d-8cba-5ca5f2c357d4\",\"type\":\"Line\"},\"hover_glyph\":null,\"nonselection_glyph\":null,\"selection_glyph\":null},\"id\":\"f961aaf2-eca7-41b9-9e58-cb3870f751f7\",\"type\":\"GlyphRenderer\"},{\"attributes\":{\"line_color\":{\"value\":\"#f22c40\"},\"line_width\":{\"value\":2},\"x\":{\"field\":\"x_values\"},\"y\":{\"field\":\"y_values\"}},\"id\":\"0ed696d4-a707-447d-8cba-5ca5f2c357d4\",\"type\":\"Line\"},{\"attributes\":{\"plot\":{\"id\":\"37a67cd4-323d-4f01-8391-c414bdbabef2\",\"subtype\":\"Chart\",\"type\":\"Plot\"},\"ticker\":{\"id\":\"441a1a84-01e4-4175-b96d-037008fd3b6b\",\"type\":\"BasicTicker\"}},\"id\":\"8ed7f099-91a9-4071-b1cc-d60524ea1638\",\"type\":\"Grid\"},{\"attributes\":{\"below\":[{\"id\":\"62249dc3-3764-4781-84fc-ccf12a24b02e\",\"type\":\"LinearAxis\"}],\"css_classes\":null,\"height\":400,\"left\":[{\"id\":\"37f3b1f6-6e0f-4958-bea4-21a5c3f1580e\",\"type\":\"LinearAxis\"}],\"renderers\":[{\"id\":\"06a7a9b9-d3ad-4bc0-a377-8b3d7da5b62b\",\"type\":\"BoxAnnotation\"},{\"id\":\"f961aaf2-eca7-41b9-9e58-cb3870f751f7\",\"type\":\"GlyphRenderer\"},{\"id\":\"60f2d1d6-9c6a-4a71-b660-57073cf6864b\",\"type\":\"Legend\"},{\"id\":\"62249dc3-3764-4781-84fc-ccf12a24b02e\",\"type\":\"LinearAxis\"},{\"id\":\"37f3b1f6-6e0f-4958-bea4-21a5c3f1580e\",\"type\":\"LinearAxis\"},{\"id\":\"8ed7f099-91a9-4071-b1cc-d60524ea1638\",\"type\":\"Grid\"},{\"id\":\"5b179b30-54cc-4352-a6e2-9a40fdee1479\",\"type\":\"Grid\"}],\"title\":{\"id\":\"d68225a1-9e3c-40f2-bc69-f6cbdd485a43\",\"type\":\"Title\"},\"tool_events\":{\"id\":\"97c6f097-15b3-49fd-8287-f61e6ef02e90\",\"type\":\"ToolEvents\"},\"toolbar\":{\"id\":\"b856efa8-f099-466c-a55c-4bf52314590f\",\"type\":\"Toolbar\"},\"width\":750,\"x_mapper_type\":\"auto\",\"x_range\":{\"id\":\"dbdae27e-fe8a-4a4a-b045-f36a7944e23f\",\"type\":\"Range1d\"},\"y_mapper_type\":\"auto\",\"y_range\":{\"id\":\"a5ed9e1f-84c8-4e9a-a585-f91db40467ec\",\"type\":\"Range1d\"}},\"id\":\"37a67cd4-323d-4f01-8391-c414bdbabef2\",\"subtype\":\"Chart\",\"type\":\"Plot\"},{\"attributes\":{},\"id\":\"f9db2be1-fa22-42c9-9917-489120785940\",\"type\":\"BasicTicker\"},{\"attributes\":{\"dimension\":1,\"plot\":{\"id\":\"37a67cd4-323d-4f01-8391-c414bdbabef2\",\"subtype\":\"Chart\",\"type\":\"Plot\"},\"ticker\":{\"id\":\"f9db2be1-fa22-42c9-9917-489120785940\",\"type\":\"BasicTicker\"}},\"id\":\"5b179b30-54cc-4352-a6e2-9a40fdee1479\",\"type\":\"Grid\"},{\"attributes\":{},\"id\":\"8a05df60-9070-40a0-9cc6-21e4323232ec\",\"type\":\"BasicTickFormatter\"},{\"attributes\":{},\"id\":\"97c6f097-15b3-49fd-8287-f61e6ef02e90\",\"type\":\"ToolEvents\"},{\"attributes\":{},\"id\":\"de2b8d7d-e733-4267-bf7b-e71433390100\",\"type\":\"BasicTickFormatter\"},{\"attributes\":{\"location\":\"top_left\",\"plot\":{\"id\":\"37a67cd4-323d-4f01-8391-c414bdbabef2\",\"subtype\":\"Chart\",\"type\":\"Plot\"}},\"id\":\"60f2d1d6-9c6a-4a71-b660-57073cf6864b\",\"type\":\"Legend\"},{\"attributes\":{\"callback\":null,\"end\":355.6961446007551,\"start\":-19.124517194976185},\"id\":\"a5ed9e1f-84c8-4e9a-a585-f91db40467ec\",\"type\":\"Range1d\"}],\"root_ids\":[\"37a67cd4-323d-4f01-8391-c414bdbabef2\"]},\"title\":\"Bokeh Application\",\"version\":\"0.12.4\"}};\n",
       "            var render_items = [{\"docid\":\"3d18477a-cf67-4e2b-a50e-5fcd6b7dcf24\",\"elementid\":\"296dfd91-f332-48c9-9c35-040be3506db8\",\"modelid\":\"37a67cd4-323d-4f01-8391-c414bdbabef2\"}];\n",
       "            \n",
       "            Bokeh.embed.embed_items(docs_json, render_items);\n",
       "          };\n",
       "          if (document.readyState != \"loading\") fn();\n",
       "          else document.addEventListener(\"DOMContentLoaded\", fn);\n",
       "        })();\n",
       "      },\n",
       "      function(Bokeh) {\n",
       "      }\n",
       "    ];\n",
       "  \n",
       "    function run_inline_js() {\n",
       "      \n",
       "      if ((window.Bokeh !== undefined) || (force === true)) {\n",
       "        for (var i = 0; i < inline_js.length; i++) {\n",
       "          inline_js[i](window.Bokeh);\n",
       "        }if (force === true) {\n",
       "          display_loaded();\n",
       "        }} else if (Date.now() < window._bokeh_timeout) {\n",
       "        setTimeout(run_inline_js, 100);\n",
       "      } else if (!window._bokeh_failed_load) {\n",
       "        console.log(\"Bokeh: BokehJS failed to load within specified timeout.\");\n",
       "        window._bokeh_failed_load = true;\n",
       "      } else if (force !== true) {\n",
       "        var cell = $(document.getElementById(\"296dfd91-f332-48c9-9c35-040be3506db8\")).parents('.cell').data().cell;\n",
       "        cell.output_area.append_execute_result(NB_LOAD_WARNING)\n",
       "      }\n",
       "  \n",
       "    }\n",
       "  \n",
       "    if (window._bokeh_is_loading === 0) {\n",
       "      console.log(\"Bokeh: BokehJS loaded, going straight to plotting\");\n",
       "      run_inline_js();\n",
       "    } else {\n",
       "      load_libs(js_urls, function() {\n",
       "        console.log(\"Bokeh: BokehJS plotting callback run at\", now());\n",
       "        run_inline_js();\n",
       "      });\n",
       "    }\n",
       "  }(this));\n",
       "</script>"
      ]
     },
     "metadata": {},
     "output_type": "display_data"
    }
   ],
   "source": [
    "y_hat = [beta[0]*xi**2 + beta[1]*xi + beta[2] for xi in x]\n",
    "show(Line({'x': x, 'y': y_hat}, x='x', y='y', width=750, height=400))"
   ]
  },
  {
   "cell_type": "markdown",
   "metadata": {
    "deletable": true,
    "editable": true,
    "slideshow": {
     "slide_type": "slide"
    }
   },
   "source": [
    "### Least Squares the way your _crazy uncle Eddie_ does it...\n",
    "\n",
    "...'cause he used to work at NASA and code in Forth."
   ]
  },
  {
   "cell_type": "markdown",
   "metadata": {
    "deletable": true,
    "editable": true,
    "slideshow": {
     "slide_type": "subslide"
    }
   },
   "source": [
    "[`cvxopt`](http://cvxopt.org/) provides a [`qp`](http://cvxopt.org/userguide/coneprog.html#quadratic-programming) method that can solve anything of this form.\n",
    "\n",
    "$$\n",
    "\\begin{align}\n",
    "    \\text{min}  \\ \\ \\ & \\ \\frac{1}{2} \\beta'P\\beta + q'\\beta \\\\\n",
    "                      & \\\\\n",
    "    \\text{s.t.} \\ \\ \\ & \\ G\\beta \\preceq h \\\\\n",
    "                      & \\\\\n",
    "                      & \\ A\\beta = b\n",
    "\\end{align}\n",
    "$$\n"
   ]
  },
  {
   "cell_type": "markdown",
   "metadata": {
    "deletable": true,
    "editable": true,
    "slideshow": {
     "slide_type": "subslide"
    }
   },
   "source": [
    "So we need to convert from \n",
    "\n",
    "$$\\frac{1}{2} \\beta'X'X\\beta - y'X\\beta + \\frac{1}{2} y'y $$\n",
    "\n",
    "to another form\n",
    "\n",
    "$$\\frac{1}{2} \\beta'P\\beta + q'\\beta$$"
   ]
  },
  {
   "cell_type": "markdown",
   "metadata": {
    "deletable": true,
    "editable": true,
    "slideshow": {
     "slide_type": "fragment"
    }
   },
   "source": [
    "which is simply\n",
    "\n",
    "$$P = X'X, q = -y$$"
   ]
  },
  {
   "cell_type": "code",
   "execution_count": 7,
   "metadata": {
    "collapsed": false,
    "deletable": true,
    "editable": true,
    "slideshow": {
     "slide_type": "subslide"
    }
   },
   "outputs": [
    {
     "name": "stdout",
     "output_type": "stream",
     "text": [
      "[ 2.96e+00]\n",
      "[-2.04e+00]\n",
      "[ 1.24e+01]\n",
      "\n"
     ]
    }
   ],
   "source": [
    "import cvxopt as cvx\n",
    "\n",
    "P = cvx.matrix(np.matmul(Xt, X))\n",
    "q = cvx.matrix(-1 * np.matmul(y.transpose(), X))\n",
    "solution = cvx.solvers.qp(P, q)\n",
    "beta = solution['x'] # unrelated to our x\n",
    "print(beta)"
   ]
  },
  {
   "cell_type": "markdown",
   "metadata": {
    "deletable": true,
    "editable": true,
    "slideshow": {
     "slide_type": "subslide"
    }
   },
   "source": [
    "How'd Crazy Uncle Eddie do?"
   ]
  },
  {
   "cell_type": "code",
   "execution_count": 8,
   "metadata": {
    "collapsed": false,
    "deletable": true,
    "editable": true,
    "slideshow": {
     "slide_type": "-"
    }
   },
   "outputs": [
    {
     "data": {
      "text/html": [
       "\n",
       "\n",
       "    <div class=\"bk-root\">\n",
       "        <div class=\"bk-plotdiv\" id=\"7d725bc4-37d1-4518-ac36-2911a5a223a1\"></div>\n",
       "    </div>\n",
       "<script type=\"text/javascript\">\n",
       "  \n",
       "  (function(global) {\n",
       "    function now() {\n",
       "      return new Date();\n",
       "    }\n",
       "  \n",
       "    var force = false;\n",
       "  \n",
       "    if (typeof (window._bokeh_onload_callbacks) === \"undefined\" || force === true) {\n",
       "      window._bokeh_onload_callbacks = [];\n",
       "      window._bokeh_is_loading = undefined;\n",
       "    }\n",
       "  \n",
       "  \n",
       "    \n",
       "    if (typeof (window._bokeh_timeout) === \"undefined\" || force === true) {\n",
       "      window._bokeh_timeout = Date.now() + 0;\n",
       "      window._bokeh_failed_load = false;\n",
       "    }\n",
       "  \n",
       "    var NB_LOAD_WARNING = {'data': {'text/html':\n",
       "       \"<div style='background-color: #fdd'>\\n\"+\n",
       "       \"<p>\\n\"+\n",
       "       \"BokehJS does not appear to have successfully loaded. If loading BokehJS from CDN, this \\n\"+\n",
       "       \"may be due to a slow or bad network connection. Possible fixes:\\n\"+\n",
       "       \"</p>\\n\"+\n",
       "       \"<ul>\\n\"+\n",
       "       \"<li>re-rerun `output_notebook()` to attempt to load from CDN again, or</li>\\n\"+\n",
       "       \"<li>use INLINE resources instead, as so:</li>\\n\"+\n",
       "       \"</ul>\\n\"+\n",
       "       \"<code>\\n\"+\n",
       "       \"from bokeh.resources import INLINE\\n\"+\n",
       "       \"output_notebook(resources=INLINE)\\n\"+\n",
       "       \"</code>\\n\"+\n",
       "       \"</div>\"}};\n",
       "  \n",
       "    function display_loaded() {\n",
       "      if (window.Bokeh !== undefined) {\n",
       "        document.getElementById(\"7d725bc4-37d1-4518-ac36-2911a5a223a1\").textContent = \"BokehJS successfully loaded.\";\n",
       "      } else if (Date.now() < window._bokeh_timeout) {\n",
       "        setTimeout(display_loaded, 100)\n",
       "      }\n",
       "    }\n",
       "  \n",
       "    function run_callbacks() {\n",
       "      window._bokeh_onload_callbacks.forEach(function(callback) { callback() });\n",
       "      delete window._bokeh_onload_callbacks\n",
       "      console.info(\"Bokeh: all callbacks have finished\");\n",
       "    }\n",
       "  \n",
       "    function load_libs(js_urls, callback) {\n",
       "      window._bokeh_onload_callbacks.push(callback);\n",
       "      if (window._bokeh_is_loading > 0) {\n",
       "        console.log(\"Bokeh: BokehJS is being loaded, scheduling callback at\", now());\n",
       "        return null;\n",
       "      }\n",
       "      if (js_urls == null || js_urls.length === 0) {\n",
       "        run_callbacks();\n",
       "        return null;\n",
       "      }\n",
       "      console.log(\"Bokeh: BokehJS not loaded, scheduling load and callback at\", now());\n",
       "      window._bokeh_is_loading = js_urls.length;\n",
       "      for (var i = 0; i < js_urls.length; i++) {\n",
       "        var url = js_urls[i];\n",
       "        var s = document.createElement('script');\n",
       "        s.src = url;\n",
       "        s.async = false;\n",
       "        s.onreadystatechange = s.onload = function() {\n",
       "          window._bokeh_is_loading--;\n",
       "          if (window._bokeh_is_loading === 0) {\n",
       "            console.log(\"Bokeh: all BokehJS libraries loaded\");\n",
       "            run_callbacks()\n",
       "          }\n",
       "        };\n",
       "        s.onerror = function() {\n",
       "          console.warn(\"failed to load library \" + url);\n",
       "        };\n",
       "        console.log(\"Bokeh: injecting script tag for BokehJS library: \", url);\n",
       "        document.getElementsByTagName(\"head\")[0].appendChild(s);\n",
       "      }\n",
       "    };var element = document.getElementById(\"7d725bc4-37d1-4518-ac36-2911a5a223a1\");\n",
       "    if (element == null) {\n",
       "      console.log(\"Bokeh: ERROR: autoload.js configured with elementid '7d725bc4-37d1-4518-ac36-2911a5a223a1' but no matching script tag was found. \")\n",
       "      return false;\n",
       "    }\n",
       "  \n",
       "    var js_urls = [];\n",
       "  \n",
       "    var inline_js = [\n",
       "      function(Bokeh) {\n",
       "        (function() {\n",
       "          var fn = function() {\n",
       "            var docs_json = {\"1116b357-d2be-4933-9c39-c99f18bbf992\":{\"roots\":{\"references\":[{\"attributes\":{\"callback\":null,\"column_names\":[\"x_values\",\"y_values\"],\"data\":{\"chart_index\":[null,null,null,null,null,null,null,null,null,null,null,null,null,null,null,null,null,null,null,null,null,null,null,null,null,null,null,null,null,null,null,null,null,null,null,null,null,null,null,null,null,null,null,null,null,null,null,null,null,null,null,null,null,null,null,null,null,null,null,null,null,null,null,null,null,null,null,null,null,null,null,null,null,null,null,null,null,null,null,null,null,null,null,null,null,null,null,null,null,null,null,null,null,null,null,null,null,null,null,null,null,null,null,null,null,null,null,null,null,null,null,null,null,null,null,null,null,null,null,null,null,null,null,null,null,null,null,null,null,null,null,null,null,null,null,null,null,null,null,null,null,null,null,null,null,null,null,null,null,null,null,null,null,null,null,null,null,null,null,null,null,null,null,null,null,null,null,null,null,null,null,null,null,null,null,null,null,null,null,null,null,null,null,null,null,null,null,null,null,null,null,null,null,null,null,null,null,null,null,null,null,null,null,null,null,null,null,null,null,null,null,null,null,null,null,null,null,null,null,null,null,null,null,null,null,null,null,null,null,null,null,null,null,null,null,null,null,null,null,null,null,null,null,null,null,null,null,null,null,null,null,null,null,null,null,null,null,null,null,null,null,null,null,null,null,null,null,null,null,null,null,null,null,null,null,null,null,null,null,null,null,null,null,null,null,null,null,null,null,null,null,null,null,null,null,null,null,null,null,null,null,null,null,null,null,null,null,null,null,null,null,null,null,null,null,null,null,null,null,null,null,null,null,null,null,null,null,null,null,null,null,null,null,null,null,null,null,null,null,null,null,null,null,null,null,null,null,null,null,null,null,null,null,null,null,null,null,null,null,null,null,null,null,null,null,null,null,null,null,null,null,null,null,null,null,null,null,null,null,null,null,null,null,null,null,null,null,null,null,null,null,null,null,null,null,null,null,null,null,null,null,null,null,null,null,null,null,null,null,null,null,null,null,null,null,null,null,null,null,null,null,null,null,null,null,null,null,null,null,null,null,null,null,null,null,null,null,null,null,null,null,null,null,null,null,null,null,null,null,null,null,null,null,null,null,null,null,null,null,null,null,null,null,null,null,null,null,null,null,null,null,null,null,null,null,null,null,null,null,null,null,null,null,null,null,null,null,null,null,null,null,null,null,null,null,null,null,null,null,null],\"x_values\":{\"__ndarray__\":\"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\",\"dtype\":\"float64\",\"shape\":[500]},\"y_values\":{\"__ndarray__\":\"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\",\"dtype\":\"float64\",\"shape\":[500]}}},\"id\":\"6eff8e5d-876f-45a7-9e4c-3f130aa0779e\",\"type\":\"ColumnDataSource\"},{\"attributes\":{\"active_drag\":\"auto\",\"active_scroll\":\"auto\",\"active_tap\":\"auto\",\"tools\":[{\"id\":\"fa77176b-1e8e-487e-b470-e27d4ccae9e4\",\"type\":\"PanTool\"},{\"id\":\"b387289b-8306-4cbd-85a1-3e4ec7c1a14f\",\"type\":\"WheelZoomTool\"},{\"id\":\"049b2ab6-0bf5-47e3-bc52-4c8310e6ac5a\",\"type\":\"BoxZoomTool\"},{\"id\":\"dde6bcb5-9f95-4216-9b4a-ea887e9bf549\",\"type\":\"SaveTool\"},{\"id\":\"742ecb28-917b-454c-9632-b2eb77fae6c3\",\"type\":\"ResetTool\"},{\"id\":\"7431e979-af3d-4790-a6af-7e45fd99f902\",\"type\":\"HelpTool\"}]},\"id\":\"1693847c-c136-4e90-b67f-a9a2c24fafaf\",\"type\":\"Toolbar\"},{\"attributes\":{\"plot\":{\"id\":\"7c0ec011-0df2-48fe-b011-ba8c7b46d22a\",\"subtype\":\"Chart\",\"type\":\"Plot\"}},\"id\":\"b387289b-8306-4cbd-85a1-3e4ec7c1a14f\",\"type\":\"WheelZoomTool\"},{\"attributes\":{\"overlay\":{\"id\":\"ee4a9f9b-b21b-41db-a2ba-ff8f5a4b7257\",\"type\":\"BoxAnnotation\"},\"plot\":{\"id\":\"7c0ec011-0df2-48fe-b011-ba8c7b46d22a\",\"subtype\":\"Chart\",\"type\":\"Plot\"}},\"id\":\"049b2ab6-0bf5-47e3-bc52-4c8310e6ac5a\",\"type\":\"BoxZoomTool\"},{\"attributes\":{\"callback\":null,\"end\":355.6961446007549,\"start\":-19.12451719497622},\"id\":\"5e54b9ca-55cc-41f5-ad71-70be8a9a4f07\",\"type\":\"Range1d\"},{\"attributes\":{\"location\":\"top_left\",\"plot\":{\"id\":\"7c0ec011-0df2-48fe-b011-ba8c7b46d22a\",\"subtype\":\"Chart\",\"type\":\"Plot\"}},\"id\":\"873bc52e-3af2-4b10-ad9b-c1507c28c820\",\"type\":\"Legend\"},{\"attributes\":{\"callback\":null,\"end\":11.98824273175234,\"start\":-11.914371849178867},\"id\":\"565fe0c3-f7a4-4e88-8154-5951fc6c897f\",\"type\":\"Range1d\"},{\"attributes\":{\"plot\":{\"id\":\"7c0ec011-0df2-48fe-b011-ba8c7b46d22a\",\"subtype\":\"Chart\",\"type\":\"Plot\"}},\"id\":\"dde6bcb5-9f95-4216-9b4a-ea887e9bf549\",\"type\":\"SaveTool\"},{\"attributes\":{\"plot\":{\"id\":\"7c0ec011-0df2-48fe-b011-ba8c7b46d22a\",\"subtype\":\"Chart\",\"type\":\"Plot\"}},\"id\":\"742ecb28-917b-454c-9632-b2eb77fae6c3\",\"type\":\"ResetTool\"},{\"attributes\":{\"plot\":{\"id\":\"7c0ec011-0df2-48fe-b011-ba8c7b46d22a\",\"subtype\":\"Chart\",\"type\":\"Plot\"}},\"id\":\"7431e979-af3d-4790-a6af-7e45fd99f902\",\"type\":\"HelpTool\"},{\"attributes\":{\"axis_label\":\"y\",\"formatter\":{\"id\":\"7b757470-1956-4f5c-832e-19598907d733\",\"type\":\"BasicTickFormatter\"},\"plot\":{\"id\":\"7c0ec011-0df2-48fe-b011-ba8c7b46d22a\",\"subtype\":\"Chart\",\"type\":\"Plot\"},\"ticker\":{\"id\":\"331e235c-2253-4dcc-ae09-5371d2ba557d\",\"type\":\"BasicTicker\"}},\"id\":\"ff884426-d7e7-4426-af96-5305011cf830\",\"type\":\"LinearAxis\"},{\"attributes\":{\"data_source\":{\"id\":\"6eff8e5d-876f-45a7-9e4c-3f130aa0779e\",\"type\":\"ColumnDataSource\"},\"glyph\":{\"id\":\"ea3789ca-5820-4cb1-8a5f-d799c55f2571\",\"type\":\"Line\"},\"hover_glyph\":null,\"nonselection_glyph\":null,\"selection_glyph\":null},\"id\":\"de7c08a4-d891-468b-b529-43a740ff1377\",\"type\":\"GlyphRenderer\"},{\"attributes\":{\"line_color\":{\"value\":\"#f22c40\"},\"line_width\":{\"value\":2},\"x\":{\"field\":\"x_values\"},\"y\":{\"field\":\"y_values\"}},\"id\":\"ea3789ca-5820-4cb1-8a5f-d799c55f2571\",\"type\":\"Line\"},{\"attributes\":{},\"id\":\"2801ffba-e951-4ed9-9eaf-07a76a3cca80\",\"type\":\"ToolEvents\"},{\"attributes\":{},\"id\":\"c95d8cdf-420b-4983-91f8-c1fff4003f97\",\"type\":\"BasicTickFormatter\"},{\"attributes\":{},\"id\":\"988f880d-61f9-4a79-9a86-84be261aa926\",\"type\":\"BasicTicker\"},{\"attributes\":{\"plot\":null,\"text\":null},\"id\":\"83097558-6fbd-41f8-ab89-f6dcc5599c69\",\"type\":\"Title\"},{\"attributes\":{\"plot\":{\"id\":\"7c0ec011-0df2-48fe-b011-ba8c7b46d22a\",\"subtype\":\"Chart\",\"type\":\"Plot\"},\"ticker\":{\"id\":\"988f880d-61f9-4a79-9a86-84be261aa926\",\"type\":\"BasicTicker\"}},\"id\":\"3435fbb4-d454-4701-a3a9-3f0238efed58\",\"type\":\"Grid\"},{\"attributes\":{\"below\":[{\"id\":\"000532ae-557c-4f69-b081-5595a7958e9f\",\"type\":\"LinearAxis\"}],\"css_classes\":null,\"height\":400,\"left\":[{\"id\":\"ff884426-d7e7-4426-af96-5305011cf830\",\"type\":\"LinearAxis\"}],\"renderers\":[{\"id\":\"ee4a9f9b-b21b-41db-a2ba-ff8f5a4b7257\",\"type\":\"BoxAnnotation\"},{\"id\":\"de7c08a4-d891-468b-b529-43a740ff1377\",\"type\":\"GlyphRenderer\"},{\"id\":\"873bc52e-3af2-4b10-ad9b-c1507c28c820\",\"type\":\"Legend\"},{\"id\":\"000532ae-557c-4f69-b081-5595a7958e9f\",\"type\":\"LinearAxis\"},{\"id\":\"ff884426-d7e7-4426-af96-5305011cf830\",\"type\":\"LinearAxis\"},{\"id\":\"3435fbb4-d454-4701-a3a9-3f0238efed58\",\"type\":\"Grid\"},{\"id\":\"f0e8201e-34ec-48cb-8b10-47cfb97ad459\",\"type\":\"Grid\"}],\"title\":{\"id\":\"83097558-6fbd-41f8-ab89-f6dcc5599c69\",\"type\":\"Title\"},\"tool_events\":{\"id\":\"2801ffba-e951-4ed9-9eaf-07a76a3cca80\",\"type\":\"ToolEvents\"},\"toolbar\":{\"id\":\"1693847c-c136-4e90-b67f-a9a2c24fafaf\",\"type\":\"Toolbar\"},\"width\":750,\"x_mapper_type\":\"auto\",\"x_range\":{\"id\":\"565fe0c3-f7a4-4e88-8154-5951fc6c897f\",\"type\":\"Range1d\"},\"y_mapper_type\":\"auto\",\"y_range\":{\"id\":\"5e54b9ca-55cc-41f5-ad71-70be8a9a4f07\",\"type\":\"Range1d\"}},\"id\":\"7c0ec011-0df2-48fe-b011-ba8c7b46d22a\",\"subtype\":\"Chart\",\"type\":\"Plot\"},{\"attributes\":{\"axis_label\":\"x\",\"formatter\":{\"id\":\"c95d8cdf-420b-4983-91f8-c1fff4003f97\",\"type\":\"BasicTickFormatter\"},\"plot\":{\"id\":\"7c0ec011-0df2-48fe-b011-ba8c7b46d22a\",\"subtype\":\"Chart\",\"type\":\"Plot\"},\"ticker\":{\"id\":\"988f880d-61f9-4a79-9a86-84be261aa926\",\"type\":\"BasicTicker\"}},\"id\":\"000532ae-557c-4f69-b081-5595a7958e9f\",\"type\":\"LinearAxis\"},{\"attributes\":{},\"id\":\"331e235c-2253-4dcc-ae09-5371d2ba557d\",\"type\":\"BasicTicker\"},{\"attributes\":{\"dimension\":1,\"plot\":{\"id\":\"7c0ec011-0df2-48fe-b011-ba8c7b46d22a\",\"subtype\":\"Chart\",\"type\":\"Plot\"},\"ticker\":{\"id\":\"331e235c-2253-4dcc-ae09-5371d2ba557d\",\"type\":\"BasicTicker\"}},\"id\":\"f0e8201e-34ec-48cb-8b10-47cfb97ad459\",\"type\":\"Grid\"},{\"attributes\":{\"bottom_units\":\"screen\",\"fill_alpha\":{\"value\":0.5},\"fill_color\":{\"value\":\"lightgrey\"},\"left_units\":\"screen\",\"level\":\"overlay\",\"line_alpha\":{\"value\":1.0},\"line_color\":{\"value\":\"black\"},\"line_dash\":[4,4],\"line_width\":{\"value\":2},\"plot\":null,\"render_mode\":\"css\",\"right_units\":\"screen\",\"top_units\":\"screen\"},\"id\":\"ee4a9f9b-b21b-41db-a2ba-ff8f5a4b7257\",\"type\":\"BoxAnnotation\"},{\"attributes\":{},\"id\":\"7b757470-1956-4f5c-832e-19598907d733\",\"type\":\"BasicTickFormatter\"},{\"attributes\":{\"plot\":{\"id\":\"7c0ec011-0df2-48fe-b011-ba8c7b46d22a\",\"subtype\":\"Chart\",\"type\":\"Plot\"}},\"id\":\"fa77176b-1e8e-487e-b470-e27d4ccae9e4\",\"type\":\"PanTool\"}],\"root_ids\":[\"7c0ec011-0df2-48fe-b011-ba8c7b46d22a\"]},\"title\":\"Bokeh Application\",\"version\":\"0.12.4\"}};\n",
       "            var render_items = [{\"docid\":\"1116b357-d2be-4933-9c39-c99f18bbf992\",\"elementid\":\"7d725bc4-37d1-4518-ac36-2911a5a223a1\",\"modelid\":\"7c0ec011-0df2-48fe-b011-ba8c7b46d22a\"}];\n",
       "            \n",
       "            Bokeh.embed.embed_items(docs_json, render_items);\n",
       "          };\n",
       "          if (document.readyState != \"loading\") fn();\n",
       "          else document.addEventListener(\"DOMContentLoaded\", fn);\n",
       "        })();\n",
       "      },\n",
       "      function(Bokeh) {\n",
       "      }\n",
       "    ];\n",
       "  \n",
       "    function run_inline_js() {\n",
       "      \n",
       "      if ((window.Bokeh !== undefined) || (force === true)) {\n",
       "        for (var i = 0; i < inline_js.length; i++) {\n",
       "          inline_js[i](window.Bokeh);\n",
       "        }if (force === true) {\n",
       "          display_loaded();\n",
       "        }} else if (Date.now() < window._bokeh_timeout) {\n",
       "        setTimeout(run_inline_js, 100);\n",
       "      } else if (!window._bokeh_failed_load) {\n",
       "        console.log(\"Bokeh: BokehJS failed to load within specified timeout.\");\n",
       "        window._bokeh_failed_load = true;\n",
       "      } else if (force !== true) {\n",
       "        var cell = $(document.getElementById(\"7d725bc4-37d1-4518-ac36-2911a5a223a1\")).parents('.cell').data().cell;\n",
       "        cell.output_area.append_execute_result(NB_LOAD_WARNING)\n",
       "      }\n",
       "  \n",
       "    }\n",
       "  \n",
       "    if (window._bokeh_is_loading === 0) {\n",
       "      console.log(\"Bokeh: BokehJS loaded, going straight to plotting\");\n",
       "      run_inline_js();\n",
       "    } else {\n",
       "      load_libs(js_urls, function() {\n",
       "        console.log(\"Bokeh: BokehJS plotting callback run at\", now());\n",
       "        run_inline_js();\n",
       "      });\n",
       "    }\n",
       "  }(this));\n",
       "</script>"
      ]
     },
     "metadata": {},
     "output_type": "display_data"
    }
   ],
   "source": [
    "y_hat = [beta[0]*xi**2 + beta[1]*xi + beta[2] for xi in x]\n",
    "show(Line({'x': x, 'y': y_hat}, x='x', y='y', width=750, height=400))"
   ]
  },
  {
   "cell_type": "markdown",
   "metadata": {
    "deletable": true,
    "editable": true,
    "slideshow": {
     "slide_type": "subslide"
    }
   },
   "source": [
    "#### So what's different about Crazy Uncle Eddie?"
   ]
  },
  {
   "cell_type": "markdown",
   "metadata": {
    "deletable": true,
    "editable": true,
    "slideshow": {
     "slide_type": "fragment"
    }
   },
   "source": [
    "Well, besides the obvious.\n",
    "\n",
    "![](images/crazy-uncle-eddie.jpg)"
   ]
  },
  {
   "cell_type": "markdown",
   "metadata": {
    "deletable": true,
    "editable": true,
    "slideshow": {
     "slide_type": "subslide"
    }
   },
   "source": [
    "While all three techniques produced the _same result_, Crazy Uncle Eddie's is interesting because it is more general than the others.\n",
    "\n",
    "Crazy Eddie can solve any quadratic optimization problem, of which Least Squares is _just one instance_."
   ]
  },
  {
   "cell_type": "markdown",
   "metadata": {
    "deletable": true,
    "editable": true,
    "slideshow": {
     "slide_type": "fragment"
    }
   },
   "source": [
    "If we change the structure of the problem slightly:\n",
    "\n",
    "* We probably can't solve it with `scikit-learn`\n",
    "* Grams and Gramps have to go back to their chalkboard\n",
    "* Crazy Eddie can update the inputs to his problem and reoptimize"
   ]
  },
  {
   "cell_type": "markdown",
   "metadata": {
    "deletable": true,
    "editable": true,
    "slideshow": {
     "slide_type": "slide"
    }
   },
   "source": [
    "## Example: Portfolio Optimization\n",
    "\n",
    "We have a big pot of money to allocate among different investments. Lucky us!"
   ]
  },
  {
   "cell_type": "markdown",
   "metadata": {
    "deletable": true,
    "editable": true,
    "slideshow": {
     "slide_type": "fragment"
    }
   },
   "source": [
    "Some investment returns are correlated. They go up and down together.\n",
    "\n",
    "Other returns are anticorrelated. They tend to do the opposite things."
   ]
  },
  {
   "cell_type": "markdown",
   "metadata": {
    "deletable": true,
    "editable": true,
    "slideshow": {
     "slide_type": "fragment"
    }
   },
   "source": [
    "How do we allocate our money to maximize our expected return, subject to our tolerance for risk?"
   ]
  },
  {
   "cell_type": "markdown",
   "metadata": {
    "deletable": true,
    "editable": true,
    "slideshow": {
     "slide_type": "subslide"
    }
   },
   "source": [
    "We'll use 100 months of [exchange rate data](http://www.federalreserve.gov/datadownload/Build.aspx?rel=H10) from the Fed, circa 2014.\n",
    "\n",
    "Since this talk isn't about data wrangling, I've already cleaned it up into the important pieces.\n",
    "\n",
    "* Expected monthly return data for each foreign currency\n",
    "* A covariance matrix for those investments"
   ]
  },
  {
   "cell_type": "markdown",
   "metadata": {
    "deletable": true,
    "editable": true,
    "slideshow": {
     "slide_type": "subslide"
    }
   },
   "source": [
    "### The Markowitz Porfolio Optimization Model\n",
    "\n",
    "#### Inputs:\n",
    "\n",
    "$$\\mu = \\text{vector of expected investment returns}$$\n",
    "\n",
    "$$\\Sigma = \\text{covariance matrix for returns}$$\n",
    "\n",
    "$$\\alpha = \\text{unitless measure of risk aversion}$$"
   ]
  },
  {
   "cell_type": "markdown",
   "metadata": {
    "deletable": true,
    "editable": true,
    "slideshow": {
     "slide_type": "fragment"
    }
   },
   "source": [
    "#### Model:\n",
    "\n",
    "$x$ tells me how much of my total budget to put in each investment.\n",
    "\n",
    "$$\n",
    "\\begin{align}\n",
    "    \\text{max}  \\ \\ \\ & \\ \\mu'x - \\alpha x \\Sigma x \\\\\n",
    "    \\text{s.t.} \\ \\ \\ & \\ e'x = 1 \\\\\n",
    "                      & \\ x \\ge 0\n",
    "\\end{align}\n",
    "$$"
   ]
  },
  {
   "cell_type": "markdown",
   "metadata": {
    "deletable": true,
    "editable": true,
    "slideshow": {
     "slide_type": "fragment"
    }
   },
   "source": [
    "But wait! This is a _maximization_ problem! The last model used $\\text{min}$.\n",
    "\n",
    "$$\n",
    "\\begin{align}\n",
    "    \\text{min}  \\ \\ \\ & \\ \\alpha x \\Sigma x - \\mu'x \\\\\n",
    "    \\text{s.t.} \\ \\ \\ & \\ e'x = 1 \\\\\n",
    "                      & \\ x \\ge 0\n",
    "\\end{align}\n",
    "$$"
   ]
  },
  {
   "cell_type": "markdown",
   "metadata": {
    "deletable": true,
    "editable": true,
    "slideshow": {
     "slide_type": "subslide"
    }
   },
   "source": [
    "The only differences between this model and the least squares model are the constraints we've added.\n",
    "\n",
    "This one forces the model to allocate all of my budget into investments:\n",
    "\n",
    "$$e'x = 1$$\n",
    "\n",
    "This one disallows the model from making negative investments:\n",
    "\n",
    "$$x \\ge 0$$"
   ]
  },
  {
   "cell_type": "code",
   "execution_count": 9,
   "metadata": {
    "collapsed": false,
    "deletable": true,
    "editable": true,
    "slideshow": {
     "slide_type": "subslide"
    }
   },
   "outputs": [
    {
     "data": {
      "text/html": [
       "<div>\n",
       "<table border=\"1\" class=\"dataframe\">\n",
       "  <thead>\n",
       "    <tr style=\"text-align: right;\">\n",
       "      <th></th>\n",
       "      <th>Unnamed: 0</th>\n",
       "      <th>mean</th>\n",
       "      <th>variance</th>\n",
       "    </tr>\n",
       "  </thead>\n",
       "  <tbody>\n",
       "    <tr>\n",
       "      <th>0</th>\n",
       "      <td>RXI$US_N.M.AL</td>\n",
       "      <td>0.152151</td>\n",
       "      <td>10.996718</td>\n",
       "    </tr>\n",
       "    <tr>\n",
       "      <th>1</th>\n",
       "      <td>RXI$US_N.M.EU</td>\n",
       "      <td>0.002683</td>\n",
       "      <td>5.928188</td>\n",
       "    </tr>\n",
       "    <tr>\n",
       "      <th>2</th>\n",
       "      <td>RXI$US_N.M.NZ</td>\n",
       "      <td>0.220217</td>\n",
       "      <td>9.690793</td>\n",
       "    </tr>\n",
       "    <tr>\n",
       "      <th>3</th>\n",
       "      <td>RXI$US_N.M.UK</td>\n",
       "      <td>-0.159779</td>\n",
       "      <td>5.098969</td>\n",
       "    </tr>\n",
       "    <tr>\n",
       "      <th>4</th>\n",
       "      <td>RXI_N.M.BZ</td>\n",
       "      <td>-0.128507</td>\n",
       "      <td>12.743632</td>\n",
       "    </tr>\n",
       "  </tbody>\n",
       "</table>\n",
       "</div>"
      ],
      "text/plain": [
       "      Unnamed: 0      mean   variance\n",
       "0  RXI$US_N.M.AL  0.152151  10.996718\n",
       "1  RXI$US_N.M.EU  0.002683   5.928188\n",
       "2  RXI$US_N.M.NZ  0.220217   9.690793\n",
       "3  RXI$US_N.M.UK -0.159779   5.098969\n",
       "4     RXI_N.M.BZ -0.128507  12.743632"
      ]
     },
     "execution_count": 9,
     "metadata": {},
     "output_type": "execute_result"
    }
   ],
   "source": [
    "# Read in the returns and covariance data.\n",
    "import pandas as pd\n",
    "exp_returns = pd.read_csv('portfolio-optimization/currency-returns.csv')\n",
    "exp_returns.head()"
   ]
  },
  {
   "cell_type": "code",
   "execution_count": 10,
   "metadata": {
    "collapsed": false,
    "deletable": true,
    "editable": true,
    "slideshow": {
     "slide_type": "subslide"
    }
   },
   "outputs": [
    {
     "data": {
      "text/html": [
       "<div>\n",
       "<table border=\"1\" class=\"dataframe\">\n",
       "  <thead>\n",
       "    <tr style=\"text-align: right;\">\n",
       "      <th></th>\n",
       "      <th>0</th>\n",
       "      <th>1</th>\n",
       "      <th>2</th>\n",
       "      <th>3</th>\n",
       "      <th>4</th>\n",
       "      <th>5</th>\n",
       "      <th>6</th>\n",
       "      <th>7</th>\n",
       "      <th>8</th>\n",
       "      <th>9</th>\n",
       "      <th>...</th>\n",
       "      <th>13</th>\n",
       "      <th>14</th>\n",
       "      <th>15</th>\n",
       "      <th>16</th>\n",
       "      <th>17</th>\n",
       "      <th>18</th>\n",
       "      <th>19</th>\n",
       "      <th>20</th>\n",
       "      <th>21</th>\n",
       "      <th>22</th>\n",
       "    </tr>\n",
       "  </thead>\n",
       "  <tbody>\n",
       "    <tr>\n",
       "      <th>0</th>\n",
       "      <td>10.996718</td>\n",
       "      <td>5.181782</td>\n",
       "      <td>8.654762</td>\n",
       "      <td>4.457704</td>\n",
       "      <td>9.789818</td>\n",
       "      <td>5.421746</td>\n",
       "      <td>0.194428</td>\n",
       "      <td>5.166875</td>\n",
       "      <td>0.028496</td>\n",
       "      <td>4.379632</td>\n",
       "      <td>...</td>\n",
       "      <td>6.494732</td>\n",
       "      <td>7.078498</td>\n",
       "      <td>7.083824</td>\n",
       "      <td>8.574515</td>\n",
       "      <td>3.287411</td>\n",
       "      <td>0.343673</td>\n",
       "      <td>4.163674</td>\n",
       "      <td>2.450772</td>\n",
       "      <td>2.381722</td>\n",
       "      <td>0.542450</td>\n",
       "    </tr>\n",
       "    <tr>\n",
       "      <th>1</th>\n",
       "      <td>5.181782</td>\n",
       "      <td>5.928188</td>\n",
       "      <td>4.487890</td>\n",
       "      <td>3.659548</td>\n",
       "      <td>4.686754</td>\n",
       "      <td>2.467804</td>\n",
       "      <td>0.313081</td>\n",
       "      <td>5.867674</td>\n",
       "      <td>0.038117</td>\n",
       "      <td>2.545200</td>\n",
       "      <td>...</td>\n",
       "      <td>2.894461</td>\n",
       "      <td>5.350733</td>\n",
       "      <td>5.515164</td>\n",
       "      <td>4.314480</td>\n",
       "      <td>2.265781</td>\n",
       "      <td>0.418269</td>\n",
       "      <td>5.173168</td>\n",
       "      <td>1.559857</td>\n",
       "      <td>1.351946</td>\n",
       "      <td>1.776855</td>\n",
       "    </tr>\n",
       "    <tr>\n",
       "      <th>2</th>\n",
       "      <td>8.654762</td>\n",
       "      <td>4.487890</td>\n",
       "      <td>9.690793</td>\n",
       "      <td>4.330531</td>\n",
       "      <td>8.130412</td>\n",
       "      <td>4.268307</td>\n",
       "      <td>0.129303</td>\n",
       "      <td>4.466514</td>\n",
       "      <td>0.017975</td>\n",
       "      <td>3.919170</td>\n",
       "      <td>...</td>\n",
       "      <td>5.536301</td>\n",
       "      <td>5.602586</td>\n",
       "      <td>6.054567</td>\n",
       "      <td>6.733828</td>\n",
       "      <td>2.811946</td>\n",
       "      <td>0.451742</td>\n",
       "      <td>3.903260</td>\n",
       "      <td>2.135899</td>\n",
       "      <td>2.569281</td>\n",
       "      <td>0.379954</td>\n",
       "    </tr>\n",
       "    <tr>\n",
       "      <th>3</th>\n",
       "      <td>4.457704</td>\n",
       "      <td>3.659548</td>\n",
       "      <td>4.330531</td>\n",
       "      <td>5.098969</td>\n",
       "      <td>4.301933</td>\n",
       "      <td>2.573100</td>\n",
       "      <td>0.137068</td>\n",
       "      <td>3.632088</td>\n",
       "      <td>0.012420</td>\n",
       "      <td>1.821456</td>\n",
       "      <td>...</td>\n",
       "      <td>2.775715</td>\n",
       "      <td>4.081803</td>\n",
       "      <td>4.233658</td>\n",
       "      <td>3.749874</td>\n",
       "      <td>1.780620</td>\n",
       "      <td>0.326828</td>\n",
       "      <td>3.335175</td>\n",
       "      <td>1.356927</td>\n",
       "      <td>1.014109</td>\n",
       "      <td>1.584577</td>\n",
       "    </tr>\n",
       "    <tr>\n",
       "      <th>4</th>\n",
       "      <td>9.789818</td>\n",
       "      <td>4.686754</td>\n",
       "      <td>8.130412</td>\n",
       "      <td>4.301933</td>\n",
       "      <td>12.743632</td>\n",
       "      <td>5.433992</td>\n",
       "      <td>0.279201</td>\n",
       "      <td>4.689891</td>\n",
       "      <td>-0.034405</td>\n",
       "      <td>5.567318</td>\n",
       "      <td>...</td>\n",
       "      <td>7.177333</td>\n",
       "      <td>7.288341</td>\n",
       "      <td>6.774689</td>\n",
       "      <td>8.761299</td>\n",
       "      <td>2.999360</td>\n",
       "      <td>0.843294</td>\n",
       "      <td>4.269524</td>\n",
       "      <td>2.163251</td>\n",
       "      <td>2.439204</td>\n",
       "      <td>0.496304</td>\n",
       "    </tr>\n",
       "  </tbody>\n",
       "</table>\n",
       "<p>5 rows × 23 columns</p>\n",
       "</div>"
      ],
      "text/plain": [
       "          0         1         2         3          4         5         6   \\\n",
       "0  10.996718  5.181782  8.654762  4.457704   9.789818  5.421746  0.194428   \n",
       "1   5.181782  5.928188  4.487890  3.659548   4.686754  2.467804  0.313081   \n",
       "2   8.654762  4.487890  9.690793  4.330531   8.130412  4.268307  0.129303   \n",
       "3   4.457704  3.659548  4.330531  5.098969   4.301933  2.573100  0.137068   \n",
       "4   9.789818  4.686754  8.130412  4.301933  12.743632  5.433992  0.279201   \n",
       "\n",
       "         7         8         9     ...           13        14        15  \\\n",
       "0  5.166875  0.028496  4.379632    ...     6.494732  7.078498  7.083824   \n",
       "1  5.867674  0.038117  2.545200    ...     2.894461  5.350733  5.515164   \n",
       "2  4.466514  0.017975  3.919170    ...     5.536301  5.602586  6.054567   \n",
       "3  3.632088  0.012420  1.821456    ...     2.775715  4.081803  4.233658   \n",
       "4  4.689891 -0.034405  5.567318    ...     7.177333  7.288341  6.774689   \n",
       "\n",
       "         16        17        18        19        20        21        22  \n",
       "0  8.574515  3.287411  0.343673  4.163674  2.450772  2.381722  0.542450  \n",
       "1  4.314480  2.265781  0.418269  5.173168  1.559857  1.351946  1.776855  \n",
       "2  6.733828  2.811946  0.451742  3.903260  2.135899  2.569281  0.379954  \n",
       "3  3.749874  1.780620  0.326828  3.335175  1.356927  1.014109  1.584577  \n",
       "4  8.761299  2.999360  0.843294  4.269524  2.163251  2.439204  0.496304  \n",
       "\n",
       "[5 rows x 23 columns]"
      ]
     },
     "execution_count": 10,
     "metadata": {},
     "output_type": "execute_result"
    }
   ],
   "source": [
    "returns_cov = pd.read_csv('portfolio-optimization/currency-covariance.csv', header=None)\n",
    "returns_cov.head()"
   ]
  },
  {
   "cell_type": "code",
   "execution_count": 11,
   "metadata": {
    "collapsed": false,
    "deletable": true,
    "editable": true,
    "slideshow": {
     "slide_type": "subslide"
    }
   },
   "outputs": [],
   "source": [
    "# A model that will return an optimal portfolio for any risk aversion.\n",
    "def portfolio(alpha):\n",
    "    P = cvx.matrix(alpha * returns_cov.as_matrix())\n",
    "    q = cvx.matrix(-exp_returns['mean'].as_matrix())\n",
    "    G = cvx.matrix(0.0, (len(q),len(q)))\n",
    "    G[::len(q)+1] = -1.0\n",
    "    h = cvx.matrix(0.0, (len(q),1))\n",
    "    A = cvx.matrix(1.0, (1,len(q)))\n",
    "    b = cvx.matrix(1.0)\n",
    "\n",
    "    solution = cvx.solvers.qp(P, q, G, h, A, b)\n",
    "    return exp_returns['mean'].dot(solution['x'])[0]"
   ]
  },
  {
   "cell_type": "code",
   "execution_count": 12,
   "metadata": {
    "collapsed": false,
    "deletable": true,
    "editable": true,
    "slideshow": {
     "slide_type": "subslide"
    }
   },
   "outputs": [
    {
     "name": "stdout",
     "output_type": "stream",
     "text": [
      "     pcost       dcost       gap    pres   dres\n",
      " 0: -1.4109e+00 -1.2870e+00  6e+01  9e+00  5e+00\n",
      " 1: -1.8207e-02 -1.2285e+00  1e+00  5e-15  8e-16\n",
      " 2: -6.2411e-02 -2.9637e-01  2e-01  7e-16  7e-16\n",
      " 3: -1.4238e-01 -3.5309e-01  2e-01  8e-16  5e-16\n",
      " 4: -2.8201e-01 -2.9496e-01  1e-02  4e-16  5e-16\n",
      " 5: -2.8688e-01 -2.8703e-01  2e-04  1e-16  3e-16\n",
      " 6: -2.8695e-01 -2.8695e-01  2e-06  3e-16  2e-16\n",
      " 7: -2.8695e-01 -2.8695e-01  2e-08  1e-16  5e-16\n",
      "Optimal solution found.\n",
      "     pcost       dcost       gap    pres   dres\n",
      " 0: -2.6295e-01 -1.3019e+00  4e+01  5e+00  6e+00\n",
      " 1: -3.1048e-02 -1.0159e+00  2e+00  2e-01  2e-01\n",
      " 2:  3.3465e-02 -3.1889e-01  5e-01  3e-02  3e-02\n",
      " 3: -1.3476e-01 -2.5385e-01  1e-01  3e-16  7e-16\n",
      " 4: -1.9154e-01 -2.0318e-01  1e-02  1e-16  7e-16\n",
      " 5: -2.0001e-01 -2.0086e-01  9e-04  5e-17  3e-16\n",
      " 6: -2.0070e-01 -2.0074e-01  4e-05  6e-17  6e-16\n",
      " 7: -2.0073e-01 -2.0073e-01  1e-06  2e-16  1e-15\n",
      " 8: -2.0073e-01 -2.0073e-01  1e-08  3e-16  5e-16\n",
      "Optimal solution found.\n",
      "     pcost       dcost       gap    pres   dres\n",
      " 0: -1.7310e-01 -1.2428e+00  4e+01  5e+00  6e+00\n",
      " 1: -4.7542e-03 -9.2263e-01  2e+00  2e-01  2e-01\n",
      " 2:  3.8252e-02 -2.6797e-01  4e-01  3e-02  3e-02\n",
      " 3: -9.4620e-02 -1.8481e-01  9e-02  1e-16  1e-15\n",
      " 4: -1.4057e-01 -1.5061e-01  1e-02  2e-16  7e-16\n",
      " 5: -1.4747e-01 -1.4833e-01  9e-04  2e-16  6e-16\n",
      " 6: -1.4822e-01 -1.4825e-01  3e-05  1e-16  4e-16\n",
      " 7: -1.4825e-01 -1.4825e-01  1e-06  2e-16  5e-16\n",
      " 8: -1.4825e-01 -1.4825e-01  2e-08  2e-16  4e-16\n",
      "Optimal solution found.\n",
      "     pcost       dcost       gap    pres   dres\n",
      " 0: -1.3049e-01 -1.1978e+00  4e+01  5e+00  6e+00\n",
      " 1:  1.0823e-02 -8.5585e-01  2e+00  2e-01  2e-01\n",
      " 2:  4.1508e-02 -2.1689e-01  4e-01  3e-02  3e-02\n",
      " 3: -6.4792e-02 -1.2939e-01  6e-02  3e-16  9e-16\n",
      " 4: -9.7828e-02 -1.0446e-01  7e-03  3e-16  1e-15\n",
      " 5: -1.0228e-01 -1.0300e-01  7e-04  2e-16  6e-16\n",
      " 6: -1.0293e-01 -1.0295e-01  2e-05  1e-16  5e-16\n",
      " 7: -1.0295e-01 -1.0295e-01  3e-07  2e-16  4e-16\n",
      " 8: -1.0295e-01 -1.0295e-01  3e-09  2e-16  5e-16\n",
      "Optimal solution found.\n",
      "     pcost       dcost       gap    pres   dres\n",
      " 0: -1.0337e-01 -1.1595e+00  3e+01  5e+00  6e+00\n",
      " 1:  2.2165e-02 -8.0202e-01  2e+00  2e-01  2e-01\n",
      " 2:  4.3501e-02 -1.6970e-01  3e-01  2e-02  2e-02\n",
      " 3: -4.8964e-02 -9.2477e-02  4e-02  2e-16  1e-15\n",
      " 4: -7.3350e-02 -7.7843e-02  4e-03  5e-17  9e-16\n",
      " 5: -7.6465e-02 -7.6904e-02  4e-04  1e-16  5e-16\n",
      " 6: -7.6868e-02 -7.6878e-02  1e-05  3e-16  3e-16\n",
      " 7: -7.6877e-02 -7.6878e-02  1e-07  1e-16  4e-16\n",
      "Optimal solution found.\n",
      "     pcost       dcost       gap    pres   dres\n",
      " 0: -8.3552e-02 -1.1256e+00  3e+01  5e+00  6e+00\n",
      " 1:  3.1025e-02 -7.5646e-01  2e+00  2e-01  2e-01\n",
      " 2:  4.4428e-02 -1.3898e-01  3e-01  2e-02  2e-02\n",
      " 3: -3.7424e-02 -7.1497e-02  3e-02  8e-17  9e-16\n",
      " 4: -5.7093e-02 -6.0638e-02  4e-03  1e-16  7e-16\n",
      " 5: -5.9609e-02 -5.9920e-02  3e-04  4e-16  4e-16\n",
      " 6: -5.9898e-02 -5.9904e-02  5e-06  2e-16  1e-15\n",
      " 7: -5.9904e-02 -5.9904e-02  5e-08  2e-16  6e-16\n",
      "Optimal solution found.\n",
      "     pcost       dcost       gap    pres   dres\n",
      " 0: -6.7880e-02 -1.0982e+00  3e+01  5e+00  6e+00\n",
      " 1:  3.8514e-02 -7.1915e-01  2e+00  2e-01  2e-01\n",
      " 2:  4.4486e-02 -1.3048e-01  3e-01  2e-02  2e-02\n",
      " 3: -2.3873e-02 -6.0193e-02  4e-02  4e-04  5e-04\n",
      " 4: -4.4365e-02 -4.8338e-02  4e-03  2e-16  7e-16\n",
      " 5: -4.7131e-02 -4.7498e-02  4e-04  3e-17  7e-16\n",
      " 6: -4.7472e-02 -4.7478e-02  6e-06  3e-16  5e-16\n",
      " 7: -4.7478e-02 -4.7478e-02  6e-08  3e-16  4e-16\n",
      "Optimal solution found.\n",
      "     pcost       dcost       gap    pres   dres\n",
      " 0: -5.4871e-02 -1.0978e+00  3e+01  5e+00  6e+00\n",
      " 1:  4.6908e-02 -7.0310e-01  2e+00  2e-01  2e-01\n",
      " 2:  4.7530e-02 -1.2405e-01  3e-01  2e-02  2e-02\n",
      " 3: -1.4964e-02 -5.0020e-02  4e-02  2e-04  3e-04\n",
      " 4: -3.4679e-02 -3.8443e-02  4e-03  1e-16  7e-16\n",
      " 5: -3.7331e-02 -3.7669e-02  3e-04  2e-16  5e-16\n",
      " 6: -3.7646e-02 -3.7652e-02  5e-06  1e-16  6e-16\n",
      " 7: -3.7651e-02 -3.7651e-02  5e-08  2e-16  4e-16\n",
      "Optimal solution found.\n",
      "     pcost       dcost       gap    pres   dres\n",
      " 0: -4.3716e-02 -1.0974e+00  3e+01  5e+00  6e+00\n",
      " 1:  5.4196e-02 -6.8865e-01  2e+00  2e-01  2e-01\n",
      " 2:  5.0246e-02 -1.1735e-01  3e-01  2e-02  2e-02\n",
      " 3: -7.9683e-03 -4.1274e-02  3e-02  1e-17  1e-15\n",
      " 4: -2.6682e-02 -3.0144e-02  3e-03  1e-16  1e-15\n",
      " 5: -2.9169e-02 -2.9464e-02  3e-04  1e-16  1e-15\n",
      " 6: -2.9445e-02 -2.9449e-02  4e-06  2e-16  7e-16\n",
      " 7: -2.9449e-02 -2.9449e-02  4e-08  8e-17  8e-16\n",
      "Optimal solution found.\n",
      "     pcost       dcost       gap    pres   dres\n",
      " 0: -3.3930e-02 -1.0969e+00  4e+01  5e+00  6e+00\n",
      " 1:  6.0601e-02 -6.7563e-01  2e+00  2e-01  2e-01\n",
      " 2:  5.2718e-02 -1.1058e-01  3e-01  2e-02  2e-02\n",
      " 3: -1.7058e-03 -3.4171e-02  3e-02  1e-16  1e-15\n",
      " 4: -1.9669e-02 -2.2968e-02  3e-03  2e-16  1e-15\n",
      " 5: -2.2073e-02 -2.2343e-02  3e-04  3e-16  7e-16\n",
      " 6: -2.2327e-02 -2.2330e-02  4e-06  6e-17  5e-16\n",
      " 7: -2.2330e-02 -2.2330e-02  4e-08  1e-16  6e-16\n",
      "Optimal solution found.\n",
      "     pcost       dcost       gap    pres   dres\n",
      " 0: -2.5201e-02 -1.0963e+00  4e+01  5e+00  6e+00\n",
      " 1:  6.6299e-02 -6.6378e-01  2e+00  2e-01  2e-01\n",
      " 2:  5.5021e-02 -1.0386e-01  3e-01  2e-02  2e-02\n",
      " 3:  3.7272e-03 -2.7715e-02  3e-02  1e-16  1e-15\n",
      " 4: -1.3351e-02 -1.6585e-02  3e-03  1e-16  8e-16\n",
      " 5: -1.5724e-02 -1.5981e-02  3e-04  2e-16  7e-16\n",
      " 6: -1.5966e-02 -1.5969e-02  4e-06  3e-16  4e-16\n",
      " 7: -1.5969e-02 -1.5969e-02  4e-08  2e-16  4e-16\n",
      "Optimal solution found.\n",
      "     pcost       dcost       gap    pres   dres\n",
      " 0: -1.7311e-02 -1.0955e+00  4e+01  5e+00  6e+00\n",
      " 1:  7.1360e-02 -6.5307e-01  2e+00  1e-01  2e-01\n",
      " 2:  5.7368e-02 -9.7504e-02  3e-01  2e-02  2e-02\n",
      " 3:  8.8197e-03 -2.1891e-02  3e-02  2e-16  1e-15\n",
      " 4: -7.5622e-03 -1.0767e-02  3e-03  2e-16  9e-16\n",
      " 5: -9.9228e-03 -1.0171e-02  2e-04  3e-16  1e-15\n",
      " 6: -1.0156e-02 -1.0160e-02  4e-06  2e-16  1e-15\n",
      " 7: -1.0159e-02 -1.0159e-02  4e-08  2e-16  5e-16\n",
      "Optimal solution found.\n",
      "     pcost       dcost       gap    pres   dres\n",
      " 0: -1.0105e-02 -1.0946e+00  4e+01  5e+00  6e+00\n",
      " 1:  7.5884e-02 -6.4354e-01  2e+00  1e-01  2e-01\n",
      " 2:  5.9679e-02 -9.1465e-02  3e-01  2e-02  2e-02\n",
      " 3:  1.3652e-02 -1.6538e-02  3e-02  3e-16  1e-15\n",
      " 4: -2.1949e-03 -5.3577e-03  3e-03  1e-16  1e-15\n",
      " 5: -4.5359e-03 -4.7750e-03  2e-04  2e-16  1e-15\n",
      " 6: -4.7597e-03 -4.7633e-03  4e-06  1e-16  5e-16\n",
      " 7: -4.7632e-03 -4.7632e-03  4e-08  1e-16  8e-16\n",
      "Optimal solution found.\n",
      "     pcost       dcost       gap    pres   dres\n",
      " 0: -3.4681e-03 -1.0935e+00  4e+01  5e+00  6e+00\n",
      " 1:  8.0049e-02 -6.3465e-01  2e+00  1e-01  2e-01\n",
      " 2:  6.1857e-02 -8.5535e-02  3e-01  2e-02  2e-02\n",
      " 3:  1.8143e-02 -1.1436e-02  3e-02  3e-16  1e-15\n",
      " 4:  2.8321e-03 -2.5884e-04  3e-03  3e-16  6e-16\n",
      " 5:  5.3004e-04  3.0346e-04  2e-04  2e-16  6e-16\n",
      " 6:  3.1844e-04  3.1486e-04  4e-06  1e-16  8e-16\n",
      " 7:  3.1496e-04  3.1492e-04  4e-08  5e-17  5e-16\n",
      "Optimal solution found.\n",
      "     pcost       dcost       gap    pres   dres\n",
      " 0:  2.6898e-03 -1.0922e+00  4e+01  5e+00  6e+00\n",
      " 1:  8.3930e-02 -6.2618e-01  2e+00  1e-01  2e-01\n",
      " 2:  6.3951e-02 -7.9724e-02  2e-01  2e-02  2e-02\n",
      " 3:  2.2378e-02 -6.5347e-03  3e-02  2e-16  1e-15\n",
      " 4:  7.5962e-03  4.5940e-03  3e-03  2e-16  7e-16\n",
      " 5:  5.3448e-03  5.1321e-03  2e-04  3e-16  9e-16\n",
      " 6:  5.1467e-03  5.1431e-03  4e-06  3e-16  6e-16\n",
      " 7:  5.1432e-03  5.1432e-03  4e-08  2e-16  7e-16\n",
      "Optimal solution found.\n",
      "     pcost       dcost       gap    pres   dres\n",
      " 0:  8.4393e-03 -1.0909e+00  4e+01  5e+00  6e+00\n",
      " 1:  8.7571e-02 -6.1808e-01  2e+00  1e-01  2e-01\n",
      " 2:  6.5997e-02 -7.4045e-02  2e-01  2e-02  2e-02\n",
      " 3:  2.6417e-02 -1.7979e-03  3e-02  8e-17  9e-16\n",
      " 4:  1.2153e-02  9.2485e-03  3e-03  1e-16  1e-15\n",
      " 5:  9.9593e-03  9.7607e-03  2e-04  8e-17  6e-16\n",
      " 6:  9.7750e-03  9.7715e-03  4e-06  2e-16  5e-16\n",
      " 7:  9.7715e-03  9.7715e-03  4e-08  1e-16  7e-16\n",
      "Optimal solution found.\n",
      "     pcost       dcost       gap    pres   dres\n",
      " 0:  1.3837e-02 -1.0893e+00  4e+01  5e+00  6e+00\n",
      " 1:  9.1007e-02 -6.1030e-01  2e+00  1e-01  2e-01\n",
      " 2:  6.8019e-02 -6.8500e-02  2e-01  2e-02  2e-02\n",
      " 3:  3.0306e-02  2.8000e-03  3e-02  1e-16  1e-15\n",
      " 4:  1.6544e-02  1.3741e-02  3e-03  1e-16  9e-16\n",
      " 5:  1.4412e-02  1.4227e-02  2e-04  3e-18  6e-16\n",
      " 6:  1.4241e-02  1.4237e-02  4e-06  1e-16  5e-16\n",
      " 7:  1.4237e-02  1.4237e-02  4e-08  1e-16  5e-16\n",
      "Optimal solution found.\n",
      "     pcost       dcost       gap    pres   dres\n",
      " 0:  1.8930e-02 -1.0877e+00  4e+01  5e+00  6e+00\n",
      " 1:  9.4269e-02 -6.0282e-01  2e+00  1e-01  2e-01\n",
      " 2:  7.0033e-02 -6.3089e-02  2e-01  1e-02  2e-02\n",
      " 3:  3.4079e-02  7.2789e-03  3e-02  1e-16  1e-15\n",
      " 4:  2.0799e-02  1.8098e-02  3e-03  1e-16  1e-15\n",
      " 5:  1.8731e-02  1.8559e-02  2e-04  5e-17  1e-15\n",
      " 6:  1.8573e-02  1.8569e-02  4e-06  2e-16  7e-16\n",
      " 7:  1.8570e-02  1.8570e-02  4e-08  2e-16  7e-16\n",
      "Optimal solution found.\n",
      "     pcost       dcost       gap    pres   dres\n",
      " 0:  2.3755e-02 -1.0860e+00  4e+01  5e+00  6e+00\n",
      " 1:  9.7380e-02 -5.9561e-01  2e+00  1e-01  2e-01\n",
      " 2:  7.2051e-02 -5.7806e-02  2e-01  1e-02  2e-02\n",
      " 3:  3.7759e-02  1.1655e-02  3e-02  3e-16  2e-15\n",
      " 4:  2.4943e-02  2.2343e-02  3e-03  1e-16  7e-16\n",
      " 5:  2.2939e-02  2.2780e-02  2e-04  1e-16  9e-16\n",
      " 6:  2.2794e-02  2.2790e-02  4e-06  1e-16  7e-16\n",
      " 7:  2.2790e-02  2.2790e-02  4e-08  2e-16  1e-15\n",
      "Optimal solution found.\n",
      "     pcost       dcost       gap    pres   dres\n",
      " 0:  2.8347e-02 -1.0842e+00  4e+01  5e+00  6e+00\n",
      " 1:  1.0036e-01 -5.8864e-01  2e+00  1e-01  2e-01\n",
      " 2:  7.4080e-02 -5.2647e-02  2e-01  1e-02  2e-02\n",
      " 3:  4.1366e-02  1.5941e-02  3e-02  3e-16  2e-15\n",
      " 4:  2.8994e-02  2.6492e-02  3e-03  2e-16  9e-16\n",
      " 5:  2.7055e-02  2.6906e-02  1e-04  9e-17  1e-15\n",
      " 6:  2.6921e-02  2.6917e-02  4e-06  2e-16  7e-16\n",
      " 7:  2.6917e-02  2.6917e-02  4e-08  2e-16  8e-16\n",
      "Optimal solution found.\n",
      "     pcost       dcost       gap    pres   dres\n",
      " 0:  3.2731e-02 -1.0823e+00  4e+01  5e+00  6e+00\n",
      " 1:  1.0323e-01 -5.8189e-01  2e+00  1e-01  2e-01\n",
      " 2:  7.6124e-02 -4.7604e-02  2e-01  1e-02  2e-02\n",
      " 3:  4.4914e-02  2.0148e-02  2e-02  1e-16  2e-15\n",
      " 4:  3.2967e-02  3.0559e-02  2e-03  1e-16  1e-15\n",
      " 5:  3.1091e-02  3.0953e-02  1e-04  8e-17  1e-15\n",
      " 6:  3.0968e-02  3.0964e-02  4e-06  1e-16  6e-16\n",
      " 7:  3.0964e-02  3.0964e-02  5e-08  3e-16  6e-16\n",
      "Optimal solution found.\n",
      "     pcost       dcost       gap    pres   dres\n",
      " 0:  3.6932e-02 -1.0803e+00  4e+01  5e+00  6e+00\n",
      " 1:  1.0601e-01 -5.7535e-01  2e+00  1e-01  2e-01\n",
      " 2:  7.8188e-02 -4.2671e-02  2e-01  1e-02  2e-02\n",
      " 3:  4.8414e-02  2.4285e-02  2e-02  1e-16  1e-15\n",
      " 4:  3.6873e-02  3.4556e-02  2e-03  1e-16  1e-15\n",
      " 5:  3.5060e-02  3.4931e-02  1e-04  1e-16  9e-16\n",
      " 6:  3.4947e-02  3.4942e-02  5e-06  1e-16  7e-16\n",
      " 7:  3.4942e-02  3.4942e-02  7e-08  3e-16  2e-15\n",
      "Optimal solution found.\n",
      "     pcost       dcost       gap    pres   dres\n",
      " 0:  4.0970e-02 -1.0782e+00  4e+01  5e+00  6e+00\n",
      " 1:  1.0870e-01 -5.6899e-01  2e+00  1e-01  2e-01\n",
      " 2:  8.0272e-02 -3.7840e-02  2e-01  1e-02  2e-02\n",
      " 3:  5.1876e-02  2.8359e-02  2e-02  5e-17  2e-15\n",
      " 4:  4.0722e-02  3.8492e-02  2e-03  3e-16  1e-15\n",
      " 5:  3.8970e-02  3.8850e-02  1e-04  1e-16  7e-16\n",
      " 6:  3.8866e-02  3.8862e-02  5e-06  6e-17  1e-15\n",
      " 7:  3.8862e-02  3.8862e-02  1e-07  2e-16  7e-16\n",
      " 8:  3.8862e-02  3.8862e-02  1e-09  1e-16  6e-16\n",
      "Optimal solution found.\n",
      "     pcost       dcost       gap    pres   dres\n",
      " 0:  4.4862e-02 -1.0761e+00  4e+01  5e+00  6e+00\n",
      " 1:  1.1131e-01 -5.6281e-01  2e+00  1e-01  2e-01\n",
      " 2:  8.2437e-02 -3.3137e-02  2e-01  1e-02  2e-02\n",
      " 3:  5.5312e-02  3.2376e-02  2e-02  6e-17  1e-15\n",
      " 4:  4.4523e-02  4.2375e-02  2e-03  6e-17  9e-16\n",
      " 5:  4.2829e-02  4.2718e-02  1e-04  1e-16  1e-15\n",
      " 6:  4.2735e-02  4.2730e-02  5e-06  1e-16  1e-15\n",
      " 7:  4.2730e-02  4.2730e-02  2e-07  1e-16  6e-16\n",
      " 8:  4.2730e-02  4.2730e-02  2e-09  1e-16  1e-15\n",
      "Optimal solution found.\n",
      "     pcost       dcost       gap    pres   dres\n",
      " 0:  4.8622e-02 -1.0739e+00  4e+01  5e+00  6e+00\n",
      " 1:  1.1386e-01 -5.5678e-01  2e+00  1e-01  2e-01\n",
      " 2:  8.4714e-02 -2.8572e-02  2e-01  1e-02  2e-02\n",
      " 3:  5.8731e-02  3.6341e-02  2e-02  1e-16  2e-15\n",
      " 4:  4.8283e-02  4.6211e-02  2e-03  1e-16  1e-15\n",
      " 5:  4.6644e-02  4.6540e-02  1e-04  1e-16  1e-15\n",
      " 6:  4.6558e-02  4.6553e-02  5e-06  2e-16  1e-15\n",
      " 7:  4.6553e-02  4.6553e-02  3e-07  2e-16  1e-15\n",
      " 8:  4.6553e-02  4.6553e-02  3e-09  2e-16  1e-15\n",
      "Optimal solution found.\n",
      "     pcost       dcost       gap    pres   dres\n",
      " 0:  5.2265e-02 -1.0717e+00  4e+01  5e+00  6e+00\n",
      " 1:  1.1636e-01 -5.5091e-01  2e+00  1e-01  2e-01\n",
      " 2:  8.7006e-02 -2.4082e-02  2e-01  1e-02  2e-02\n",
      " 3:  6.2126e-02  4.0262e-02  2e-02  4e-16  2e-15\n",
      " 4:  5.2005e-02  5.0005e-02  2e-03  3e-16  2e-15\n",
      " 5:  5.0419e-02  5.0323e-02  1e-04  1e-16  1e-15\n",
      " 6:  5.0341e-02  5.0336e-02  5e-06  1e-16  9e-16\n",
      " 7:  5.0337e-02  5.0337e-02  4e-07  2e-16  8e-16\n",
      " 8:  5.0337e-02  5.0337e-02  1e-08  1e-16  1e-15\n",
      "Optimal solution found.\n",
      "     pcost       dcost       gap    pres   dres\n",
      " 0:  5.5803e-02 -1.0694e+00  4e+01  5e+00  6e+00\n",
      " 1:  1.1880e-01 -5.4517e-01  2e+00  1e-01  2e-01\n",
      " 2:  8.9312e-02 -1.9664e-02  2e-01  1e-02  2e-02\n",
      " 3:  6.5569e-02  4.4089e-02  2e-02  4e-16  2e-15\n",
      " 4:  5.5705e-02  5.3761e-02  2e-03  1e-16  1e-15\n",
      " 5:  5.4160e-02  5.4070e-02  9e-05  1e-16  9e-16\n",
      " 6:  5.4089e-02  5.4084e-02  5e-06  2e-16  1e-15\n",
      " 7:  5.4086e-02  5.4085e-02  6e-07  3e-16  9e-16\n",
      " 8:  5.4085e-02  5.4085e-02  6e-08  2e-16  5e-16\n",
      "Optimal solution found.\n",
      "     pcost       dcost       gap    pres   dres\n",
      " 0:  5.9244e-02 -1.0671e+00  4e+01  5e+00  6e+00\n",
      " 1:  1.2120e-01 -5.3956e-01  2e+00  1e-01  2e-01\n",
      " 2:  9.1634e-02 -1.5312e-02  2e-01  1e-02  2e-02\n",
      " 3:  6.8996e-02  4.7879e-02  2e-02  3e-16  2e-15\n",
      " 4:  5.9375e-02  5.7484e-02  2e-03  1e-16  2e-15\n",
      " 5:  5.7872e-02  5.7786e-02  9e-05  1e-16  1e-15\n",
      " 6:  5.7806e-02  5.7801e-02  5e-06  2e-16  7e-16\n",
      " 7:  5.7803e-02  5.7803e-02  6e-07  1e-16  1e-15\n",
      " 8:  5.7803e-02  5.7803e-02  7e-08  2e-16  1e-15\n",
      "Optimal solution found.\n",
      "     pcost       dcost       gap    pres   dres\n",
      " 0:  6.2599e-02 -1.0647e+00  4e+01  5e+00  6e+00\n",
      " 1:  1.2357e-01 -5.3408e-01  2e+00  1e-01  2e-01\n",
      " 2:  9.3970e-02 -1.1021e-02  2e-01  1e-02  1e-02\n",
      " 3:  7.2411e-02  5.1637e-02  2e-02  5e-16  3e-15\n",
      " 4:  6.3019e-02  6.1178e-02  2e-03  1e-16  1e-15\n",
      " 5:  6.1557e-02  6.1473e-02  8e-05  5e-17  1e-15\n",
      " 6:  6.1494e-02  6.1489e-02  5e-06  2e-16  7e-16\n",
      " 7:  6.1492e-02  6.1492e-02  4e-07  2e-16  1e-15\n",
      " 8:  6.1492e-02  6.1492e-02  1e-08  6e-17  1e-15\n",
      "Optimal solution found.\n",
      "     pcost       dcost       gap    pres   dres\n",
      " 0:  6.5876e-02 -1.0623e+00  4e+01  5e+00  6e+00\n",
      " 1:  1.2589e-01 -5.2871e-01  2e+00  1e-01  2e-01\n",
      " 2:  9.6320e-02 -6.7889e-03  2e-01  1e-02  1e-02\n",
      " 3:  7.5815e-02  5.5365e-02  2e-02  2e-16  2e-15\n",
      " 4:  6.6652e-02  6.4833e-02  2e-03  1e-16  1e-15\n",
      " 5:  6.5218e-02  6.5136e-02  8e-05  6e-17  1e-15\n",
      " 6:  6.5157e-02  6.5153e-02  4e-06  1e-16  6e-16\n",
      " 7:  6.5155e-02  6.5155e-02  3e-07  2e-16  9e-16\n",
      " 8:  6.5155e-02  6.5155e-02  3e-09  2e-16  1e-15\n",
      "Optimal solution found.\n",
      "     pcost       dcost       gap    pres   dres\n",
      " 0:  6.9081e-02 -1.0599e+00  4e+01  5e+00  7e+00\n",
      " 1:  1.2820e-01 -5.2344e-01  2e+00  1e-01  2e-01\n",
      " 2:  9.8683e-02 -2.6104e-03  2e-01  1e-02  1e-02\n",
      " 3:  7.9211e-02  5.9065e-02  2e-02  2e-16  4e-15\n",
      " 4:  7.0265e-02  6.8463e-02  2e-03  2e-16  2e-15\n",
      " 5:  6.8856e-02  6.8775e-02  8e-05  2e-16  2e-15\n",
      " 6:  6.8797e-02  6.8793e-02  4e-06  2e-16  8e-16\n",
      " 7:  6.8796e-02  6.8796e-02  1e-07  1e-16  8e-16\n",
      " 8:  6.8796e-02  6.8796e-02  1e-09  4e-18  1e-15\n",
      "Optimal solution found.\n",
      "     pcost       dcost       gap    pres   dres\n",
      " 0:  7.2221e-02 -1.0574e+00  4e+01  5e+00  7e+00\n",
      " 1:  1.3047e-01 -5.1827e-01  2e+00  1e-01  2e-01\n",
      " 2:  1.0106e-01  1.5175e-03  2e-01  1e-02  1e-02\n",
      " 3:  8.2601e-02  6.2739e-02  2e-02  6e-17  3e-15\n",
      " 4:  7.3858e-02  7.2073e-02  2e-03  1e-16  2e-15\n",
      " 5:  7.2476e-02  7.2394e-02  8e-05  1e-16  7e-16\n",
      " 6:  7.2416e-02  7.2413e-02  3e-06  8e-17  1e-15\n",
      " 7:  7.2415e-02  7.2415e-02  8e-08  2e-16  1e-15\n",
      "Optimal solution found.\n",
      "     pcost       dcost       gap    pres   dres\n",
      " 0:  7.5302e-02 -1.0549e+00  4e+01  5e+00  7e+00\n",
      " 1:  1.3272e-01 -5.1320e-01  2e+00  1e-01  2e-01\n",
      " 2:  1.0342e-01  4.4485e-03  2e-01  1e-02  1e-02\n",
      " 3:  8.6093e-02  6.6277e-02  2e-02  3e-17  3e-15\n",
      " 4:  7.7451e-02  7.5661e-02  2e-03  2e-16  1e-15\n",
      " 5:  7.6078e-02  7.5995e-02  8e-05  2e-16  1e-15\n",
      " 6:  7.6017e-02  7.6014e-02  3e-06  2e-16  9e-16\n",
      " 7:  7.6016e-02  7.6016e-02  5e-08  1e-16  9e-16\n",
      "Optimal solution found.\n",
      "     pcost       dcost       gap    pres   dres\n",
      " 0:  7.8329e-02 -1.0524e+00  4e+01  5e+00  7e+00\n",
      " 1:  1.3495e-01 -5.0821e-01  2e+00  1e-01  2e-01\n",
      " 2:  1.0576e-01  6.5317e-03  2e-01  1e-02  1e-02\n",
      " 3:  8.9647e-02  6.9716e-02  2e-02  3e-16  9e-15\n",
      " 4:  8.1040e-02  7.9229e-02  2e-03  1e-16  2e-15\n",
      " 5:  7.9665e-02  7.9578e-02  9e-05  1e-16  1e-15\n",
      " 6:  7.9600e-02  7.9597e-02  3e-06  2e-16  9e-16\n",
      " 7:  7.9599e-02  7.9599e-02  3e-08  2e-16  7e-16\n",
      "Optimal solution found.\n",
      "     pcost       dcost       gap    pres   dres\n",
      " 0:  8.1307e-02 -1.0499e+00  4e+01  5e+00  7e+00\n",
      " 1:  1.3717e-01 -5.0331e-01  2e+00  1e-01  2e-01\n",
      " 2:  1.0811e-01  8.6551e-03  2e-01  1e-02  1e-02\n",
      " 3:  9.3182e-02  7.3146e-02  2e-02  2e-16  5e-15\n",
      " 4:  8.4612e-02  8.2783e-02  2e-03  2e-16  2e-15\n",
      " 5:  8.3235e-02  8.3145e-02  9e-05  2e-16  1e-15\n",
      " 6:  8.3168e-02  8.3165e-02  2e-06  2e-16  9e-16\n",
      " 7:  8.3167e-02  8.3167e-02  2e-08  1e-16  1e-15\n",
      "Optimal solution found.\n",
      "     pcost       dcost       gap    pres   dres\n",
      " 0:  8.4239e-02 -1.0473e+00  4e+01  5e+00  7e+00\n",
      " 1:  1.3937e-01 -4.9849e-01  2e+00  1e-01  2e-01\n",
      " 2:  1.1048e-01  1.0815e-02  2e-01  1e-02  1e-02\n",
      " 3:  9.6699e-02  7.6568e-02  2e-02  3e-16  5e-15\n",
      " 4:  8.8168e-02  8.6322e-02  2e-03  4e-17  1e-15\n",
      " 5:  8.6792e-02  8.6699e-02  9e-05  2e-16  1e-15\n",
      " 6:  8.6721e-02  8.6719e-02  2e-06  1e-16  1e-15\n",
      " 7:  8.6720e-02  8.6720e-02  2e-08  2e-16  9e-16\n",
      "Optimal solution found.\n",
      "     pcost       dcost       gap    pres   dres\n",
      " 0:  8.7131e-02 -1.0447e+00  4e+01  5e+00  7e+00\n",
      " 1:  1.4155e-01 -4.9374e-01  2e+00  1e-01  2e-01\n",
      " 2:  1.1285e-01  1.3010e-02  2e-01  1e-02  2e-02\n",
      " 3:  1.0020e-01  7.9982e-02  2e-02  5e-16  4e-15\n",
      " 4:  9.1709e-02  8.9848e-02  2e-03  1e-16  2e-15\n",
      " 5:  9.0335e-02  9.0239e-02  1e-04  3e-17  1e-15\n",
      " 6:  9.0261e-02  9.0260e-02  2e-06  6e-17  9e-16\n",
      " 7:  9.0260e-02  9.0260e-02  2e-08  2e-16  1e-15\n",
      "Optimal solution found.\n",
      "     pcost       dcost       gap    pres   dres\n",
      " 0:  8.9984e-02 -1.0421e+00  4e+01  5e+00  7e+00\n",
      " 1:  1.4373e-01 -4.8906e-01  2e+00  1e-01  2e-01\n",
      " 2:  1.1523e-01  1.5235e-02  2e-01  1e-02  2e-02\n",
      " 3:  1.0368e-01  8.3385e-02  2e-02  7e-07  9e-07\n",
      " 4:  9.5237e-02  9.3362e-02  2e-03  2e-08  3e-08\n",
      " 5:  9.3867e-02  9.3768e-02  1e-04  1e-10  1e-10\n",
      " 6:  9.3790e-02  9.3788e-02  2e-06  9e-13  1e-12\n",
      " 7:  9.3789e-02  9.3789e-02  2e-08  9e-15  1e-14\n",
      "Optimal solution found.\n",
      "     pcost       dcost       gap    pres   dres\n",
      " 0:  9.2802e-02 -1.0395e+00  4e+01  5e+00  7e+00\n",
      " 1:  1.4589e-01 -4.8445e-01  2e+00  1e-01  2e-01\n",
      " 2:  1.1762e-01  1.7488e-02  2e-01  1e-02  2e-02\n",
      " 3:  1.0715e-01  8.6703e-02  2e-02  2e-05  2e-05\n",
      " 4:  9.8757e-02  9.6865e-02  2e-03  6e-07  8e-07\n",
      " 5:  9.7387e-02  9.7285e-02  1e-04  3e-09  4e-09\n",
      " 6:  9.7307e-02  9.7305e-02  1e-06  3e-11  3e-11\n",
      " 7:  9.7306e-02  9.7306e-02  1e-08  3e-13  3e-13\n",
      "Optimal solution found.\n",
      "     pcost       dcost       gap    pres   dres\n",
      " 0:  9.5589e-02 -1.0369e+00  4e+01  5e+00  7e+00\n",
      " 1:  1.4804e-01 -4.7990e-01  2e+00  1e-01  2e-01\n",
      " 2:  1.2002e-01  1.9769e-02  2e-01  1e-02  2e-02\n",
      " 3:  1.1060e-01  9.0031e-02  2e-02  3e-05  4e-05\n",
      " 4:  1.0226e-01  1.0036e-01  2e-03  1e-06  1e-06\n",
      " 5:  1.0090e-01  1.0079e-01  1e-04  5e-09  7e-09\n",
      " 6:  1.0081e-01  1.0081e-01  1e-06  5e-11  6e-11\n",
      " 7:  1.0081e-01  1.0081e-01  1e-08  5e-13  6e-13\n",
      "Optimal solution found.\n",
      "     pcost       dcost       gap    pres   dres\n",
      " 0:  9.8346e-02 -1.0343e+00  4e+01  5e+00  7e+00\n",
      " 1:  1.5019e-01 -4.7542e-01  2e+00  1e-01  2e-01\n",
      " 2:  1.2243e-01  2.2073e-02  2e-01  1e-02  2e-02\n",
      " 3:  1.1404e-01  9.3364e-02  2e-02  4e-05  6e-05\n",
      " 4:  1.0576e-01  1.0384e-01  2e-03  1e-06  2e-06\n",
      " 5:  1.0440e-01  1.0429e-01  1e-04  7e-09  1e-08\n",
      " 6:  1.0431e-01  1.0431e-01  1e-06  7e-11  9e-11\n",
      " 7:  1.0431e-01  1.0431e-01  1e-08  7e-13  9e-13\n",
      "Optimal solution found.\n"
     ]
    }
   ],
   "source": [
    "risk_aversion = [ra/2.0 for ra in range(41)]\n",
    "returns = [portfolio(alpha) for alpha in risk_aversion]"
   ]
  },
  {
   "cell_type": "code",
   "execution_count": 13,
   "metadata": {
    "collapsed": false,
    "deletable": true,
    "editable": true,
    "scrolled": true,
    "slideshow": {
     "slide_type": "subslide"
    }
   },
   "outputs": [
    {
     "data": {
      "text/html": [
       "\n",
       "\n",
       "    <div class=\"bk-root\">\n",
       "        <div class=\"bk-plotdiv\" id=\"2ea66e46-f8d1-4de7-840d-4c8672d95aa8\"></div>\n",
       "    </div>\n",
       "<script type=\"text/javascript\">\n",
       "  \n",
       "  (function(global) {\n",
       "    function now() {\n",
       "      return new Date();\n",
       "    }\n",
       "  \n",
       "    var force = false;\n",
       "  \n",
       "    if (typeof (window._bokeh_onload_callbacks) === \"undefined\" || force === true) {\n",
       "      window._bokeh_onload_callbacks = [];\n",
       "      window._bokeh_is_loading = undefined;\n",
       "    }\n",
       "  \n",
       "  \n",
       "    \n",
       "    if (typeof (window._bokeh_timeout) === \"undefined\" || force === true) {\n",
       "      window._bokeh_timeout = Date.now() + 0;\n",
       "      window._bokeh_failed_load = false;\n",
       "    }\n",
       "  \n",
       "    var NB_LOAD_WARNING = {'data': {'text/html':\n",
       "       \"<div style='background-color: #fdd'>\\n\"+\n",
       "       \"<p>\\n\"+\n",
       "       \"BokehJS does not appear to have successfully loaded. If loading BokehJS from CDN, this \\n\"+\n",
       "       \"may be due to a slow or bad network connection. Possible fixes:\\n\"+\n",
       "       \"</p>\\n\"+\n",
       "       \"<ul>\\n\"+\n",
       "       \"<li>re-rerun `output_notebook()` to attempt to load from CDN again, or</li>\\n\"+\n",
       "       \"<li>use INLINE resources instead, as so:</li>\\n\"+\n",
       "       \"</ul>\\n\"+\n",
       "       \"<code>\\n\"+\n",
       "       \"from bokeh.resources import INLINE\\n\"+\n",
       "       \"output_notebook(resources=INLINE)\\n\"+\n",
       "       \"</code>\\n\"+\n",
       "       \"</div>\"}};\n",
       "  \n",
       "    function display_loaded() {\n",
       "      if (window.Bokeh !== undefined) {\n",
       "        document.getElementById(\"2ea66e46-f8d1-4de7-840d-4c8672d95aa8\").textContent = \"BokehJS successfully loaded.\";\n",
       "      } else if (Date.now() < window._bokeh_timeout) {\n",
       "        setTimeout(display_loaded, 100)\n",
       "      }\n",
       "    }\n",
       "  \n",
       "    function run_callbacks() {\n",
       "      window._bokeh_onload_callbacks.forEach(function(callback) { callback() });\n",
       "      delete window._bokeh_onload_callbacks\n",
       "      console.info(\"Bokeh: all callbacks have finished\");\n",
       "    }\n",
       "  \n",
       "    function load_libs(js_urls, callback) {\n",
       "      window._bokeh_onload_callbacks.push(callback);\n",
       "      if (window._bokeh_is_loading > 0) {\n",
       "        console.log(\"Bokeh: BokehJS is being loaded, scheduling callback at\", now());\n",
       "        return null;\n",
       "      }\n",
       "      if (js_urls == null || js_urls.length === 0) {\n",
       "        run_callbacks();\n",
       "        return null;\n",
       "      }\n",
       "      console.log(\"Bokeh: BokehJS not loaded, scheduling load and callback at\", now());\n",
       "      window._bokeh_is_loading = js_urls.length;\n",
       "      for (var i = 0; i < js_urls.length; i++) {\n",
       "        var url = js_urls[i];\n",
       "        var s = document.createElement('script');\n",
       "        s.src = url;\n",
       "        s.async = false;\n",
       "        s.onreadystatechange = s.onload = function() {\n",
       "          window._bokeh_is_loading--;\n",
       "          if (window._bokeh_is_loading === 0) {\n",
       "            console.log(\"Bokeh: all BokehJS libraries loaded\");\n",
       "            run_callbacks()\n",
       "          }\n",
       "        };\n",
       "        s.onerror = function() {\n",
       "          console.warn(\"failed to load library \" + url);\n",
       "        };\n",
       "        console.log(\"Bokeh: injecting script tag for BokehJS library: \", url);\n",
       "        document.getElementsByTagName(\"head\")[0].appendChild(s);\n",
       "      }\n",
       "    };var element = document.getElementById(\"2ea66e46-f8d1-4de7-840d-4c8672d95aa8\");\n",
       "    if (element == null) {\n",
       "      console.log(\"Bokeh: ERROR: autoload.js configured with elementid '2ea66e46-f8d1-4de7-840d-4c8672d95aa8' but no matching script tag was found. \")\n",
       "      return false;\n",
       "    }\n",
       "  \n",
       "    var js_urls = [];\n",
       "  \n",
       "    var inline_js = [\n",
       "      function(Bokeh) {\n",
       "        (function() {\n",
       "          var fn = function() {\n",
       "            var docs_json = {\"614ba497-d80f-4098-913e-f83b656ad078\":{\"roots\":{\"references\":[{\"attributes\":{},\"id\":\"a136d10b-9f13-4d97-bae0-ec57ee0432bb\",\"type\":\"BasicTicker\"},{\"attributes\":{\"active_drag\":\"auto\",\"active_scroll\":\"auto\",\"active_tap\":\"auto\",\"tools\":[{\"id\":\"b70487ab-472f-4327-83b3-3784a8292fbb\",\"type\":\"PanTool\"},{\"id\":\"1d98335d-52c0-4221-a35a-a399de27bcb9\",\"type\":\"WheelZoomTool\"},{\"id\":\"b7c8e1af-79fb-415b-b61e-f353353f131a\",\"type\":\"BoxZoomTool\"},{\"id\":\"b1f53fb4-2d25-48d8-a856-85f9e52625e4\",\"type\":\"SaveTool\"},{\"id\":\"4c17781f-e736-44ef-8615-ae7e7bf81d8e\",\"type\":\"ResetTool\"},{\"id\":\"4fd5b75d-713f-4db5-82cb-5f4af7ee8c04\",\"type\":\"HelpTool\"}]},\"id\":\"bdf5c885-c7ee-4b30-9a6a-a404cfe254d7\",\"type\":\"Toolbar\"},{\"attributes\":{\"location\":\"top_left\",\"plot\":{\"id\":\"5c54026c-2db1-4462-b75d-f5eacdc8d35c\",\"subtype\":\"Chart\",\"type\":\"Plot\"}},\"id\":\"81923027-8c7e-42d1-8069-510c11a47447\",\"type\":\"Legend\"},{\"attributes\":{\"plot\":{\"id\":\"5c54026c-2db1-4462-b75d-f5eacdc8d35c\",\"subtype\":\"Chart\",\"type\":\"Plot\"},\"ticker\":{\"id\":\"fc33cccb-9d82-4ba6-b86f-49941e981eb8\",\"type\":\"BasicTicker\"}},\"id\":\"2d127c98-a74e-4687-9500-7ed5608d0bdf\",\"type\":\"Grid\"},{\"attributes\":{\"bottom_units\":\"screen\",\"fill_alpha\":{\"value\":0.5},\"fill_color\":{\"value\":\"lightgrey\"},\"left_units\":\"screen\",\"level\":\"overlay\",\"line_alpha\":{\"value\":1.0},\"line_color\":{\"value\":\"black\"},\"line_dash\":[4,4],\"line_width\":{\"value\":2},\"plot\":null,\"render_mode\":\"css\",\"right_units\":\"screen\",\"top_units\":\"screen\"},\"id\":\"a52ad827-db55-4dea-84f8-a76b06f332f0\",\"type\":\"BoxAnnotation\"},{\"attributes\":{\"callback\":null,\"end\":0.3121062263562203,\"start\":0.010247799092838194},\"id\":\"24ad43f1-c2c0-4229-b76d-bb17a9276ade\",\"type\":\"Range1d\"},{\"attributes\":{\"plot\":{\"id\":\"5c54026c-2db1-4462-b75d-f5eacdc8d35c\",\"subtype\":\"Chart\",\"type\":\"Plot\"}},\"id\":\"4fd5b75d-713f-4db5-82cb-5f4af7ee8c04\",\"type\":\"HelpTool\"},{\"attributes\":{\"data_source\":{\"id\":\"23ce5472-1800-4e2d-85f6-5ae7fc3c9e46\",\"type\":\"ColumnDataSource\"},\"glyph\":{\"id\":\"75889602-462c-4c4c-851f-ec0e31e3ecd2\",\"type\":\"Line\"},\"hover_glyph\":null,\"nonselection_glyph\":null,\"selection_glyph\":null},\"id\":\"61b01da1-fac9-412a-9b2f-c5e6f8a421de\",\"type\":\"GlyphRenderer\"},{\"attributes\":{},\"id\":\"65a450e3-5989-4336-8a40-3b57795a94e5\",\"type\":\"BasicTickFormatter\"},{\"attributes\":{},\"id\":\"6eb1ef2f-d217-433f-b42b-6057f1205221\",\"type\":\"BasicTickFormatter\"},{\"attributes\":{\"plot\":null,\"text\":null},\"id\":\"624f8bbb-1dd5-4e01-8e90-d1d34ef1609e\",\"type\":\"Title\"},{\"attributes\":{\"overlay\":{\"id\":\"a52ad827-db55-4dea-84f8-a76b06f332f0\",\"type\":\"BoxAnnotation\"},\"plot\":{\"id\":\"5c54026c-2db1-4462-b75d-f5eacdc8d35c\",\"subtype\":\"Chart\",\"type\":\"Plot\"}},\"id\":\"b7c8e1af-79fb-415b-b61e-f353353f131a\",\"type\":\"BoxZoomTool\"},{\"attributes\":{\"below\":[{\"id\":\"004214c5-5874-44ee-8c8b-c0826cd6c97b\",\"type\":\"LinearAxis\"}],\"css_classes\":null,\"height\":400,\"left\":[{\"id\":\"d7193591-3c3e-435c-960b-72f8e5da554b\",\"type\":\"LinearAxis\"}],\"renderers\":[{\"id\":\"a52ad827-db55-4dea-84f8-a76b06f332f0\",\"type\":\"BoxAnnotation\"},{\"id\":\"61b01da1-fac9-412a-9b2f-c5e6f8a421de\",\"type\":\"GlyphRenderer\"},{\"id\":\"81923027-8c7e-42d1-8069-510c11a47447\",\"type\":\"Legend\"},{\"id\":\"004214c5-5874-44ee-8c8b-c0826cd6c97b\",\"type\":\"LinearAxis\"},{\"id\":\"d7193591-3c3e-435c-960b-72f8e5da554b\",\"type\":\"LinearAxis\"},{\"id\":\"2d127c98-a74e-4687-9500-7ed5608d0bdf\",\"type\":\"Grid\"},{\"id\":\"caa6d049-e518-451b-8ea3-8c12fffce71f\",\"type\":\"Grid\"}],\"title\":{\"id\":\"624f8bbb-1dd5-4e01-8e90-d1d34ef1609e\",\"type\":\"Title\"},\"tool_events\":{\"id\":\"87a43a91-c2d6-488f-8d38-98b70118af67\",\"type\":\"ToolEvents\"},\"toolbar\":{\"id\":\"bdf5c885-c7ee-4b30-9a6a-a404cfe254d7\",\"type\":\"Toolbar\"},\"width\":750,\"x_mapper_type\":\"auto\",\"x_range\":{\"id\":\"58f3800b-7288-4026-aedf-9dfc95709447\",\"type\":\"Range1d\"},\"y_mapper_type\":\"auto\",\"y_range\":{\"id\":\"24ad43f1-c2c0-4229-b76d-bb17a9276ade\",\"type\":\"Range1d\"}},\"id\":\"5c54026c-2db1-4462-b75d-f5eacdc8d35c\",\"subtype\":\"Chart\",\"type\":\"Plot\"},{\"attributes\":{},\"id\":\"87a43a91-c2d6-488f-8d38-98b70118af67\",\"type\":\"ToolEvents\"},{\"attributes\":{\"callback\":null,\"column_names\":[\"x_values\",\"y_values\"],\"data\":{\"chart_index\":[null,null,null,null,null,null,null,null,null,null,null,null,null,null,null,null,null,null,null,null,null,null,null,null,null,null,null,null,null,null,null,null,null,null,null,null,null,null,null,null,null],\"x_values\":{\"__ndarray__\":\"AAAAAAAAAAAAAAAAAADgPwAAAAAAAPA/AAAAAAAA+D8AAAAAAAAAQAAAAAAAAARAAAAAAAAACEAAAAAAAAAMQAAAAAAAABBAAAAAAAAAEkAAAAAAAAAUQAAAAAAAABZAAAAAAAAAGEAAAAAAAAAaQAAAAAAAABxAAAAAAAAAHkAAAAAAAAAgQAAAAAAAACFAAAAAAAAAIkAAAAAAAAAjQAAAAAAAACRAAAAAAAAAJUAAAAAAAAAmQAAAAAAAACdAAAAAAAAAKEAAAAAAAAApQAAAAAAAACpAAAAAAAAAK0AAAAAAAAAsQAAAAAAAAC1AAAAAAAAALkAAAAAAAAAvQAAAAAAAADBAAAAAAACAMEAAAAAAAAAxQAAAAAAAgDFAAAAAAAAAMkAAAAAAAIAyQAAAAAAAADNAAAAAAACAM0AAAAAAAAA0QA==\",\"dtype\":\"float64\",\"shape\":[41]},\"y_values\":{\"__ndarray__\":\"4rDpOWld0j/Lcwq9FUDQP4W02Q5FF9A/jQomY30Zyj84+MwYEUfEP5weWGLQyMA/HCpNPUrpvD/4piTVnpW5P3uQZ0/eFrc/vQZYpw8mtT/Qsn+AnZizPzsoJ6FuU7I/7BUZOHJEsT99tiB5Jl+wP7pZIsQ4Na8/QCy7nI3grT8YSJDCd7asP0u0omZzr6s/7JK/MqjFqj8tpPW5ePSpP6SeZZEzOKk/5fnMotqNqD/TWA6QCfOnP2mj5RGnZac/wKf/Twzkpj/Z4O87zGymP2W4t6CB/qU/9eC8/lCXpT/6z4+JNzalP6uCNsty26Q/Y8LUyLSGpD8Unu/xXzekP4SP8OgU7aM/jw7cQEanoz80j1dMkWWjP1KfhfmcJ6M/HGzJiBntoj9ZWKekv7WiP0GgLXBPgaI/z0Ack49Poj/ZwMVqTCCiPw==\",\"dtype\":\"float64\",\"shape\":[41]}}},\"id\":\"23ce5472-1800-4e2d-85f6-5ae7fc3c9e46\",\"type\":\"ColumnDataSource\"},{\"attributes\":{},\"id\":\"fc33cccb-9d82-4ba6-b86f-49941e981eb8\",\"type\":\"BasicTicker\"},{\"attributes\":{\"axis_label\":\"risk aversion\",\"formatter\":{\"id\":\"6eb1ef2f-d217-433f-b42b-6057f1205221\",\"type\":\"BasicTickFormatter\"},\"plot\":{\"id\":\"5c54026c-2db1-4462-b75d-f5eacdc8d35c\",\"subtype\":\"Chart\",\"type\":\"Plot\"},\"ticker\":{\"id\":\"fc33cccb-9d82-4ba6-b86f-49941e981eb8\",\"type\":\"BasicTicker\"}},\"id\":\"004214c5-5874-44ee-8c8b-c0826cd6c97b\",\"type\":\"LinearAxis\"},{\"attributes\":{\"dimension\":1,\"plot\":{\"id\":\"5c54026c-2db1-4462-b75d-f5eacdc8d35c\",\"subtype\":\"Chart\",\"type\":\"Plot\"},\"ticker\":{\"id\":\"a136d10b-9f13-4d97-bae0-ec57ee0432bb\",\"type\":\"BasicTicker\"}},\"id\":\"caa6d049-e518-451b-8ea3-8c12fffce71f\",\"type\":\"Grid\"},{\"attributes\":{\"plot\":{\"id\":\"5c54026c-2db1-4462-b75d-f5eacdc8d35c\",\"subtype\":\"Chart\",\"type\":\"Plot\"}},\"id\":\"b70487ab-472f-4327-83b3-3784a8292fbb\",\"type\":\"PanTool\"},{\"attributes\":{\"plot\":{\"id\":\"5c54026c-2db1-4462-b75d-f5eacdc8d35c\",\"subtype\":\"Chart\",\"type\":\"Plot\"}},\"id\":\"1d98335d-52c0-4221-a35a-a399de27bcb9\",\"type\":\"WheelZoomTool\"},{\"attributes\":{\"callback\":null,\"end\":22.0,\"start\":-2.0},\"id\":\"58f3800b-7288-4026-aedf-9dfc95709447\",\"type\":\"Range1d\"},{\"attributes\":{\"line_color\":{\"value\":\"#f22c40\"},\"line_width\":{\"value\":2},\"x\":{\"field\":\"x_values\"},\"y\":{\"field\":\"y_values\"}},\"id\":\"75889602-462c-4c4c-851f-ec0e31e3ecd2\",\"type\":\"Line\"},{\"attributes\":{\"plot\":{\"id\":\"5c54026c-2db1-4462-b75d-f5eacdc8d35c\",\"subtype\":\"Chart\",\"type\":\"Plot\"}},\"id\":\"4c17781f-e736-44ef-8615-ae7e7bf81d8e\",\"type\":\"ResetTool\"},{\"attributes\":{\"axis_label\":\"expected return\",\"formatter\":{\"id\":\"65a450e3-5989-4336-8a40-3b57795a94e5\",\"type\":\"BasicTickFormatter\"},\"plot\":{\"id\":\"5c54026c-2db1-4462-b75d-f5eacdc8d35c\",\"subtype\":\"Chart\",\"type\":\"Plot\"},\"ticker\":{\"id\":\"a136d10b-9f13-4d97-bae0-ec57ee0432bb\",\"type\":\"BasicTicker\"}},\"id\":\"d7193591-3c3e-435c-960b-72f8e5da554b\",\"type\":\"LinearAxis\"},{\"attributes\":{\"plot\":{\"id\":\"5c54026c-2db1-4462-b75d-f5eacdc8d35c\",\"subtype\":\"Chart\",\"type\":\"Plot\"}},\"id\":\"b1f53fb4-2d25-48d8-a856-85f9e52625e4\",\"type\":\"SaveTool\"}],\"root_ids\":[\"5c54026c-2db1-4462-b75d-f5eacdc8d35c\"]},\"title\":\"Bokeh Application\",\"version\":\"0.12.4\"}};\n",
       "            var render_items = [{\"docid\":\"614ba497-d80f-4098-913e-f83b656ad078\",\"elementid\":\"2ea66e46-f8d1-4de7-840d-4c8672d95aa8\",\"modelid\":\"5c54026c-2db1-4462-b75d-f5eacdc8d35c\"}];\n",
       "            \n",
       "            Bokeh.embed.embed_items(docs_json, render_items);\n",
       "          };\n",
       "          if (document.readyState != \"loading\") fn();\n",
       "          else document.addEventListener(\"DOMContentLoaded\", fn);\n",
       "        })();\n",
       "      },\n",
       "      function(Bokeh) {\n",
       "      }\n",
       "    ];\n",
       "  \n",
       "    function run_inline_js() {\n",
       "      \n",
       "      if ((window.Bokeh !== undefined) || (force === true)) {\n",
       "        for (var i = 0; i < inline_js.length; i++) {\n",
       "          inline_js[i](window.Bokeh);\n",
       "        }if (force === true) {\n",
       "          display_loaded();\n",
       "        }} else if (Date.now() < window._bokeh_timeout) {\n",
       "        setTimeout(run_inline_js, 100);\n",
       "      } else if (!window._bokeh_failed_load) {\n",
       "        console.log(\"Bokeh: BokehJS failed to load within specified timeout.\");\n",
       "        window._bokeh_failed_load = true;\n",
       "      } else if (force !== true) {\n",
       "        var cell = $(document.getElementById(\"2ea66e46-f8d1-4de7-840d-4c8672d95aa8\")).parents('.cell').data().cell;\n",
       "        cell.output_area.append_execute_result(NB_LOAD_WARNING)\n",
       "      }\n",
       "  \n",
       "    }\n",
       "  \n",
       "    if (window._bokeh_is_loading === 0) {\n",
       "      console.log(\"Bokeh: BokehJS loaded, going straight to plotting\");\n",
       "      run_inline_js();\n",
       "    } else {\n",
       "      load_libs(js_urls, function() {\n",
       "        console.log(\"Bokeh: BokehJS plotting callback run at\", now());\n",
       "        run_inline_js();\n",
       "      });\n",
       "    }\n",
       "  }(this));\n",
       "</script>"
      ]
     },
     "metadata": {},
     "output_type": "display_data"
    }
   ],
   "source": [
    "show(Line(\n",
    "    {'risk aversion': risk_aversion, 'expected return': returns}, \n",
    "    x='risk aversion', \n",
    "    y='expected return', \n",
    "    width=750, \n",
    "    height=400\n",
    "))"
   ]
  },
  {
   "cell_type": "markdown",
   "metadata": {
    "deletable": true,
    "editable": true,
    "slideshow": {
     "slide_type": "slide"
    }
   },
   "source": [
    "## Support Vector Machines\n",
    "\n",
    "We want to draw a line that separates two sets with as little misclassification as possible."
   ]
  },
  {
   "cell_type": "markdown",
   "metadata": {
    "deletable": true,
    "editable": true,
    "slideshow": {
     "slide_type": "subslide"
    }
   },
   "source": [
    "If $f(x) \\le 5$, the point is of type $-1$, otherwise it is type $+1$.\n",
    "\n",
    "$$f(x) = (x_1 + \\epsilon_1) - (x_2+ \\epsilon_2)$$  \n",
    "  \n",
    "$$\\epsilon_i \\sim N\\left(0, 1.25^2\\right)\\ \\forall\\ i \\in {1, 2}$$\n"
   ]
  },
  {
   "cell_type": "code",
   "execution_count": 14,
   "metadata": {
    "collapsed": false,
    "deletable": true,
    "editable": true,
    "slideshow": {
     "slide_type": "subslide"
    }
   },
   "outputs": [],
   "source": [
    "x1 = [random.uniform(0, 10) for _ in range(150)]\n",
    "x2 = [random.uniform(0, 10) for _ in range(150)]\n",
    "\n",
    "y = []\n",
    "for xi_1, xi_2 in zip(x1, x2):\n",
    "    eps_1 = random.normalvariate(0, 1.25)\n",
    "    eps_2 = random.normalvariate(0, 1.25)\n",
    "    \n",
    "    if (xi_1 + eps_1) - (xi_2 + eps_2) <= 5:\n",
    "        y.append(-1)\n",
    "    else:\n",
    "        y.append(+1)\n",
    "        \n",
    "X = np.array(list(zip(x1, x2)))\n",
    "y = np.array(y)"
   ]
  },
  {
   "cell_type": "code",
   "execution_count": 15,
   "metadata": {
    "collapsed": false,
    "deletable": true,
    "editable": true,
    "scrolled": false,
    "slideshow": {
     "slide_type": "subslide"
    }
   },
   "outputs": [
    {
     "data": {
      "text/html": [
       "\n",
       "\n",
       "    <div class=\"bk-root\">\n",
       "        <div class=\"bk-plotdiv\" id=\"29e081e8-5ceb-4651-8ac3-831b2584a5de\"></div>\n",
       "    </div>\n",
       "<script type=\"text/javascript\">\n",
       "  \n",
       "  (function(global) {\n",
       "    function now() {\n",
       "      return new Date();\n",
       "    }\n",
       "  \n",
       "    var force = false;\n",
       "  \n",
       "    if (typeof (window._bokeh_onload_callbacks) === \"undefined\" || force === true) {\n",
       "      window._bokeh_onload_callbacks = [];\n",
       "      window._bokeh_is_loading = undefined;\n",
       "    }\n",
       "  \n",
       "  \n",
       "    \n",
       "    if (typeof (window._bokeh_timeout) === \"undefined\" || force === true) {\n",
       "      window._bokeh_timeout = Date.now() + 0;\n",
       "      window._bokeh_failed_load = false;\n",
       "    }\n",
       "  \n",
       "    var NB_LOAD_WARNING = {'data': {'text/html':\n",
       "       \"<div style='background-color: #fdd'>\\n\"+\n",
       "       \"<p>\\n\"+\n",
       "       \"BokehJS does not appear to have successfully loaded. If loading BokehJS from CDN, this \\n\"+\n",
       "       \"may be due to a slow or bad network connection. Possible fixes:\\n\"+\n",
       "       \"</p>\\n\"+\n",
       "       \"<ul>\\n\"+\n",
       "       \"<li>re-rerun `output_notebook()` to attempt to load from CDN again, or</li>\\n\"+\n",
       "       \"<li>use INLINE resources instead, as so:</li>\\n\"+\n",
       "       \"</ul>\\n\"+\n",
       "       \"<code>\\n\"+\n",
       "       \"from bokeh.resources import INLINE\\n\"+\n",
       "       \"output_notebook(resources=INLINE)\\n\"+\n",
       "       \"</code>\\n\"+\n",
       "       \"</div>\"}};\n",
       "  \n",
       "    function display_loaded() {\n",
       "      if (window.Bokeh !== undefined) {\n",
       "        document.getElementById(\"29e081e8-5ceb-4651-8ac3-831b2584a5de\").textContent = \"BokehJS successfully loaded.\";\n",
       "      } else if (Date.now() < window._bokeh_timeout) {\n",
       "        setTimeout(display_loaded, 100)\n",
       "      }\n",
       "    }\n",
       "  \n",
       "    function run_callbacks() {\n",
       "      window._bokeh_onload_callbacks.forEach(function(callback) { callback() });\n",
       "      delete window._bokeh_onload_callbacks\n",
       "      console.info(\"Bokeh: all callbacks have finished\");\n",
       "    }\n",
       "  \n",
       "    function load_libs(js_urls, callback) {\n",
       "      window._bokeh_onload_callbacks.push(callback);\n",
       "      if (window._bokeh_is_loading > 0) {\n",
       "        console.log(\"Bokeh: BokehJS is being loaded, scheduling callback at\", now());\n",
       "        return null;\n",
       "      }\n",
       "      if (js_urls == null || js_urls.length === 0) {\n",
       "        run_callbacks();\n",
       "        return null;\n",
       "      }\n",
       "      console.log(\"Bokeh: BokehJS not loaded, scheduling load and callback at\", now());\n",
       "      window._bokeh_is_loading = js_urls.length;\n",
       "      for (var i = 0; i < js_urls.length; i++) {\n",
       "        var url = js_urls[i];\n",
       "        var s = document.createElement('script');\n",
       "        s.src = url;\n",
       "        s.async = false;\n",
       "        s.onreadystatechange = s.onload = function() {\n",
       "          window._bokeh_is_loading--;\n",
       "          if (window._bokeh_is_loading === 0) {\n",
       "            console.log(\"Bokeh: all BokehJS libraries loaded\");\n",
       "            run_callbacks()\n",
       "          }\n",
       "        };\n",
       "        s.onerror = function() {\n",
       "          console.warn(\"failed to load library \" + url);\n",
       "        };\n",
       "        console.log(\"Bokeh: injecting script tag for BokehJS library: \", url);\n",
       "        document.getElementsByTagName(\"head\")[0].appendChild(s);\n",
       "      }\n",
       "    };var element = document.getElementById(\"29e081e8-5ceb-4651-8ac3-831b2584a5de\");\n",
       "    if (element == null) {\n",
       "      console.log(\"Bokeh: ERROR: autoload.js configured with elementid '29e081e8-5ceb-4651-8ac3-831b2584a5de' but no matching script tag was found. \")\n",
       "      return false;\n",
       "    }\n",
       "  \n",
       "    var js_urls = [];\n",
       "  \n",
       "    var inline_js = [\n",
       "      function(Bokeh) {\n",
       "        (function() {\n",
       "          var fn = function() {\n",
       "            var docs_json = {\"548f33da-1210-4690-88b9-21eaf1bc6c68\":{\"roots\":{\"references\":[{\"attributes\":{\"label\":{\"value\":\"1\"},\"renderers\":[{\"id\":\"dd2265ba-6185-4f5d-ac5f-09582f1b3d21\",\"type\":\"GlyphRenderer\"}]},\"id\":\"2bcd443a-9192-4e52-a710-685ca9fde18d\",\"type\":\"LegendItem\"},{\"attributes\":{\"callback\":null,\"column_names\":[\"x_values\",\"y_values\"],\"data\":{\"chart_index\":[{\"y\":1},{\"y\":1},{\"y\":1},{\"y\":1},{\"y\":1},{\"y\":1},{\"y\":1},{\"y\":1},{\"y\":1},{\"y\":1},{\"y\":1},{\"y\":1},{\"y\":1},{\"y\":1},{\"y\":1},{\"y\":1},{\"y\":1},{\"y\":1},{\"y\":1},{\"y\":1},{\"y\":1},{\"y\":1},{\"y\":1},{\"y\":1},{\"y\":1},{\"y\":1},{\"y\":1}],\"x_values\":{\"__ndarray__\":\"icQ52olRIUATBiHUN+ohQD5w/uZUACFAxAHYHTj9I0AGbRJI4yMhQL7sixONOyBAX6L77sINI0AgScXe6+UYQLgskCKi9xlAoucpUGgdIECaOeLPLQQbQNamOsNp7yBA1GG0ung9I0CfNbMn8f4jQK6qvdZLFxNAI7Y17SduI0BokSjt/ZEjQPZfFN7WcCFARFuZuLmrI0AdEG49qV8fQDilB87gviBAfbCQTFmQIkDtC7oJECMfQIcdRFlMECBALBrvD1gWGUD0MGG6ONEhQH5TnE4QNCJA\",\"dtype\":\"float64\",\"shape\":[27]},\"y\":[1,1,1,1,1,1,1,1,1,1,1,1,1,1,1,1,1,1,1,1,1,1,1,1,1,1,1],\"y_values\":{\"__ndarray__\":\"jAXTXBP8DUCqaOMeItcOQOgnqRcItwJA5VZ6ymO2DkABdS7Lyhv9Pwhvwx7+CsE/I4Biatye/j/QJ5taPt2+P7wHsZPUYu8/ERhDZ4/N8D8I2EzBsIQQQJHuSjOW6xBAEDx5H2C5xT+g6Yig3ezDP2ByNwxRYMo/KvDZ+TnMHUBZ1gU1GtAOQLQ7WsJxHQlAVsgZ80LS/j+G9qlfuyQAQAysmsDtTwtAvEDWRPFU1T9qn1hih2wWQMQoNIGOiN4/3Aw++5T26j+ENgPyATzcP3Tj19+FCwZA\",\"dtype\":\"float64\",\"shape\":[27]}}},\"id\":\"53f3d310-4f1b-4191-b4ea-2803e58db8f2\",\"type\":\"ColumnDataSource\"},{\"attributes\":{\"label\":{\"value\":\"-1\"},\"renderers\":[{\"id\":\"c0453aa3-d201-4c19-a31b-155d0b18ccc3\",\"type\":\"GlyphRenderer\"}]},\"id\":\"3f03330c-4cc2-4a5d-bbf2-3e498b1bdd1f\",\"type\":\"LegendItem\"},{\"attributes\":{\"axis_label\":\"x1\",\"formatter\":{\"id\":\"e952ad27-abb1-4fdd-a958-fd75b269ba30\",\"type\":\"BasicTickFormatter\"},\"plot\":{\"id\":\"df221484-35bc-46f8-9888-3b42d88ee261\",\"subtype\":\"Chart\",\"type\":\"Plot\"},\"ticker\":{\"id\":\"e606091b-5418-4cb8-bfd6-dd491bff363e\",\"type\":\"BasicTicker\"}},\"id\":\"b44d8afa-e5e7-4b8c-90e3-aa08a93d7f54\",\"type\":\"LinearAxis\"},{\"attributes\":{\"data_source\":{\"id\":\"82b0cc53-1f86-4d0e-a9d9-f1cd7c01ee4f\",\"type\":\"ColumnDataSource\"},\"glyph\":{\"id\":\"c3043639-5ef2-44a1-a4c9-ad6678f68a20\",\"type\":\"Circle\"},\"hover_glyph\":null,\"nonselection_glyph\":null,\"selection_glyph\":null},\"id\":\"c0453aa3-d201-4c19-a31b-155d0b18ccc3\",\"type\":\"GlyphRenderer\"},{\"attributes\":{\"callback\":null,\"end\":10.995207692512583,\"start\":-0.9720812108144328},\"id\":\"e0d5abaa-043e-4b15-9332-48b6a5fc861e\",\"type\":\"Range1d\"},{\"attributes\":{\"fill_alpha\":{\"value\":0.7},\"fill_color\":{\"value\":\"orange\"},\"line_color\":{\"value\":\"orange\"},\"size\":{\"units\":\"screen\",\"value\":8},\"x\":{\"field\":\"x_values\"},\"y\":{\"field\":\"y_values\"}},\"id\":\"65d47cd6-275c-4f43-b7e4-785fb60afca5\",\"type\":\"Square\"},{\"attributes\":{\"plot\":{\"id\":\"df221484-35bc-46f8-9888-3b42d88ee261\",\"subtype\":\"Chart\",\"type\":\"Plot\"}},\"id\":\"50250077-fc1f-4607-810b-a27b55d0e759\",\"type\":\"HelpTool\"},{\"attributes\":{\"items\":[{\"id\":\"2bcd443a-9192-4e52-a710-685ca9fde18d\",\"type\":\"LegendItem\"},{\"id\":\"3f03330c-4cc2-4a5d-bbf2-3e498b1bdd1f\",\"type\":\"LegendItem\"}],\"location\":\"top_left\",\"plot\":{\"id\":\"df221484-35bc-46f8-9888-3b42d88ee261\",\"subtype\":\"Chart\",\"type\":\"Plot\"}},\"id\":\"dd75ceea-eb8a-490b-80b3-49d01694178c\",\"type\":\"Legend\"},{\"attributes\":{\"plot\":{\"id\":\"df221484-35bc-46f8-9888-3b42d88ee261\",\"subtype\":\"Chart\",\"type\":\"Plot\"}},\"id\":\"39c88d9e-93d1-4cb7-b016-790838144ae0\",\"type\":\"SaveTool\"},{\"attributes\":{},\"id\":\"e606091b-5418-4cb8-bfd6-dd491bff363e\",\"type\":\"BasicTicker\"},{\"attributes\":{\"callback\":null,\"column_names\":[\"x_values\",\"y_values\"],\"data\":{\"chart_index\":[{\"y\":-1},{\"y\":-1},{\"y\":-1},{\"y\":-1},{\"y\":-1},{\"y\":-1},{\"y\":-1},{\"y\":-1},{\"y\":-1},{\"y\":-1},{\"y\":-1},{\"y\":-1},{\"y\":-1},{\"y\":-1},{\"y\":-1},{\"y\":-1},{\"y\":-1},{\"y\":-1},{\"y\":-1},{\"y\":-1},{\"y\":-1},{\"y\":-1},{\"y\":-1},{\"y\":-1},{\"y\":-1},{\"y\":-1},{\"y\":-1},{\"y\":-1},{\"y\":-1},{\"y\":-1},{\"y\":-1},{\"y\":-1},{\"y\":-1},{\"y\":-1},{\"y\":-1},{\"y\":-1},{\"y\":-1},{\"y\":-1},{\"y\":-1},{\"y\":-1},{\"y\":-1},{\"y\":-1},{\"y\":-1},{\"y\":-1},{\"y\":-1},{\"y\":-1},{\"y\":-1},{\"y\":-1},{\"y\":-1},{\"y\":-1},{\"y\":-1},{\"y\":-1},{\"y\":-1},{\"y\":-1},{\"y\":-1},{\"y\":-1},{\"y\":-1},{\"y\":-1},{\"y\":-1},{\"y\":-1},{\"y\":-1},{\"y\":-1},{\"y\":-1},{\"y\":-1},{\"y\":-1},{\"y\":-1},{\"y\":-1},{\"y\":-1},{\"y\":-1},{\"y\":-1},{\"y\":-1},{\"y\":-1},{\"y\":-1},{\"y\":-1},{\"y\":-1},{\"y\":-1},{\"y\":-1},{\"y\":-1},{\"y\":-1},{\"y\":-1},{\"y\":-1},{\"y\":-1},{\"y\":-1},{\"y\":-1},{\"y\":-1},{\"y\":-1},{\"y\":-1},{\"y\":-1},{\"y\":-1},{\"y\":-1},{\"y\":-1},{\"y\":-1},{\"y\":-1},{\"y\":-1},{\"y\":-1},{\"y\":-1},{\"y\":-1},{\"y\":-1},{\"y\":-1},{\"y\":-1},{\"y\":-1},{\"y\":-1},{\"y\":-1},{\"y\":-1},{\"y\":-1},{\"y\":-1},{\"y\":-1},{\"y\":-1},{\"y\":-1},{\"y\":-1},{\"y\":-1},{\"y\":-1},{\"y\":-1},{\"y\":-1},{\"y\":-1},{\"y\":-1},{\"y\":-1},{\"y\":-1},{\"y\":-1},{\"y\":-1},{\"y\":-1},{\"y\":-1},{\"y\":-1}],\"x_values\":{\"__ndarray__\":\"SS4AxfXnAkAagOV6B9sVQE4hL3oE6+A/PqueHtrpE0AaWzTUrIAAQDVMHqgEPPg/bZ8BhPXZ8T98OtmvCyjeP3KNktVaz+0/aSSeMnYcIEDLwMMe5swKQMyqhVnvkdk/nP48DSSP1z8dFUTS5xgBQMDyKzXJjhZAKPODL/FXB0B4nsxkIoLNPzOvHSNXsf8/dIm2r3OQEkCioqJR3xETQBVcEDMOxvw/JJCgcDtcHkCds1Grs6ATQLfgPHIC3whA6kRC3W67IEDnezy/LXwUQALtJh3cuwhAMt+KAsi7IUCiSqEdmwAGQK0Ew+/W8xFASbx7y8z9EEDYpMzwP8zIP7ALJxkspR1A9aOUrV5aIkBwqFTyTKm4P4aFgo7fNBdAXL4Ew6Ml0z/YZdL/GZsZQNxliGot3QNArHClIOmc5D/A0Vr97lAZQI12h5ZwuRJAtc93o1OyHEBUsNbJuFkXQHQJf1A8jdE/erWNzYo+HEDslX9XRpUQQE9F/XVDUyBACDnaSiLYIUDTnARFqZAaQEBq14MozJk/EJ5YPvVLE0Ct9vvvaR8gQOzuna0Wk+s/sNR11uRjBkCQ1XsFbr7eP2SzYJ6FHwdA1HwbzwDEDUBDESrTa8wBQBfC0EOLy/o/H91EOfyYCEASLhZBO0AAQAyKalXizRFAVm1Cg3ClG0Dw4WsYpLAIQL6QolDBEvI/P/JR5VBbEkCqOtkDIJsTQKzACkAu9AhApdvYFkCLGUDYkzEIJ94TQIsDpxQ8HiJAnXUmqS7q/T/joACzMkIXQLxseGCR8BZATtAyHgM9IkAM+9UxDScKQFWYGNChNBNA+N823QFyFUB7ZCsPLpr4P1lJ2SN4VBdAsjbt/R+oGEA6GuMLn6QHQC8hxFehoSNAxlFpq69/8j9oMKMkKPoGQLpKLpYMlO0/RKv8DpuTIUA2FDV9vo0RQMcheuUizyFAHiQeP66QIUDaQYM4cP8gQCpUI0ktmRJA4IooGTl/F0D4Ecui3CoEQIjj1jWFfSBAS1Hmz+bpHEAMDDZ8if4RQNEt7XDCyyBAYHuZEtn18j9+pH1WKsQZQMlf7Ab3dhtA0Hff9RFVG0B4AN6evsbWPyNEbb9XRyJApEJ2CV1YEUC20gPpgYwXQOYE8UmRQQtATbz0blmI9T9ALJdCgXuyP1SxJUEqqhNAgGRiBfxwFEBuds3ZzqEAQJnm57Xw3wtAGUNJqIcNGUARKrshH/IjQK0pOrgoTfE/3yua/hj3HkCOruYyBCb7P+qXPDqPKgRABPBPmV204D/humeR6v4RQC6QeIfe3A5A\",\"dtype\":\"float64\",\"shape\":[123]},\"y\":[-1,-1,-1,-1,-1,-1,-1,-1,-1,-1,-1,-1,-1,-1,-1,-1,-1,-1,-1,-1,-1,-1,-1,-1,-1,-1,-1,-1,-1,-1,-1,-1,-1,-1,-1,-1,-1,-1,-1,-1,-1,-1,-1,-1,-1,-1,-1,-1,-1,-1,-1,-1,-1,-1,-1,-1,-1,-1,-1,-1,-1,-1,-1,-1,-1,-1,-1,-1,-1,-1,-1,-1,-1,-1,-1,-1,-1,-1,-1,-1,-1,-1,-1,-1,-1,-1,-1,-1,-1,-1,-1,-1,-1,-1,-1,-1,-1,-1,-1,-1,-1,-1,-1,-1,-1,-1,-1,-1,-1,-1,-1,-1,-1,-1,-1,-1,-1,-1,-1,-1,-1,-1,-1],\"y_values\":{\"__ndarray__\":\"4nrfsoD3FUC279ZhRsMKQHZ/Csiddh5AkdEpmlBWFUDVOR4nUt4iQCOS9qguNCJAUmTP8GPCEEC+AU9drAAHQLvtUw7z+RBA6BLmkTVqDUBte0o7Yl4SQMKa4D8qqxJA5CWnDfjyHECPLT1bn+MTQAXvFR368CJAss7lN5vN6z/6dUY6e4shQDGkGmjkDRBAlA12AuezEEB1JxpYIn0WQIxmgyHMvCJAEKmMani+EkD4MaCowgoiQPxwyDpBaxpAkshwR779IECtPlpZPSsfQF7RxWWzcA5A/sc4cKm+EED/A9Ecl5IhQAWp48zWHx9ALoDTNz4BC0AYDuiTOnAMQIzLwoQyYhBAqKRvN2zeIEBgpz2/KdrVP0xwrrv94R5A6sY6R39+G0AtbQjta3sKQAouVh1UlBdAV2JulRZ8H0DMJslWVGAjQFqU5uBJAhJAJA2ZP2PlE0Agk2cmU6cdQGA8u2lLChpAxLNZlb7sD0CMjdRouTQaQFb2HByVvxJA4ATEPqgJI0CMDtpQcEMKQCxap711yhxAedYHKfukIEAR+2GE5F0hQBZ/v73DShdAVEFpYGu3GkAFKWi/mikeQJ5iuuRtVBpAvk1146bcGkAaK2iQZogZQIBWBTJsw6I/PmQSC3kUFUB35GmBrIAeQBvHFmtIsBpAZUUwm8kBHkBkdtSVBScSQMgddFaeaRFAvtpkqEJT5D8C9FvgAGUSQBoHdin8LCBA3hfzVJXME0D6llkMf4IjQHTW+h95oyJAaox3dCbiEUA+q0GeUlYjQBaZQLvLSB5AYcd7HxCEEkB9MYKMF5EgQLZ0D732DSFAMzOoJ04lBUBLcw1+Wb0WQCbwOhPkux1AYrSTgWT6IkDurKf2JJXxP0vFtRktqiBAvBBIc8Sb3D8Qo4DelowgQPCvJ1DTXNc/jDWywgdmI0CDKt6vONP3P2Bj8UnoLyBAhlxQzQWqIEDIjBspTZ8CQKcU1zU6NxtAffp8qh88HUD6M5sep0UaQHBHtyo8WhhAOWuCuihvIkBOS+gaI2UHQNgEhNHbWBZAhGLU9X1M9j+eaEwVZqkdQOECq5ednRpAnj6AYnsH8z9MevKkYUYfQLbl5X2h5B5AJwJuv3UUGUDkLIlTuvkgQOJq3g5QIQBAurBPxqobC0Dw1k2h41QUQBBUdhsBTSNAOKLNH1WZHkCcikwo7ED5P3xzLz0TytE/YpkI2Ia0BUDqlJFmIbUWQCJa8RHlDwBAJuiWHeswIkDPvDLpviwTQGWYoDSt8hlAwexnserr+z8M4bJxswAQQJtXFw3nrQJA\",\"dtype\":\"float64\",\"shape\":[123]}}},\"id\":\"82b0cc53-1f86-4d0e-a9d9-f1cd7c01ee4f\",\"type\":\"ColumnDataSource\"},{\"attributes\":{\"plot\":null,\"text\":null},\"id\":\"e52123ce-c3a2-4579-a47e-73e9a1b9b208\",\"type\":\"Title\"},{\"attributes\":{\"callback\":null,\"end\":10.726698385638493,\"start\":-0.9351756280679302},\"id\":\"93584ca2-00f6-4326-86e3-995c7336a1fe\",\"type\":\"Range1d\"},{\"attributes\":{\"plot\":{\"id\":\"df221484-35bc-46f8-9888-3b42d88ee261\",\"subtype\":\"Chart\",\"type\":\"Plot\"},\"ticker\":{\"id\":\"e606091b-5418-4cb8-bfd6-dd491bff363e\",\"type\":\"BasicTicker\"}},\"id\":\"3df69df0-ece1-4fd8-b118-874ab166b1b6\",\"type\":\"Grid\"},{\"attributes\":{\"plot\":{\"id\":\"df221484-35bc-46f8-9888-3b42d88ee261\",\"subtype\":\"Chart\",\"type\":\"Plot\"}},\"id\":\"9b06ba70-66f9-4da8-bbb0-79a93ac6faad\",\"type\":\"WheelZoomTool\"},{\"attributes\":{},\"id\":\"e952ad27-abb1-4fdd-a958-fd75b269ba30\",\"type\":\"BasicTickFormatter\"},{\"attributes\":{},\"id\":\"0c51c35c-ef90-4c3d-b453-317c1d801adf\",\"type\":\"BasicTicker\"},{\"attributes\":{\"plot\":{\"id\":\"df221484-35bc-46f8-9888-3b42d88ee261\",\"subtype\":\"Chart\",\"type\":\"Plot\"}},\"id\":\"b876c7b6-1fba-408e-80ae-3abf48ddcbb1\",\"type\":\"PanTool\"},{\"attributes\":{},\"id\":\"3b5c1608-15a4-4659-89b1-3dce296667c0\",\"type\":\"BasicTickFormatter\"},{\"attributes\":{\"plot\":{\"id\":\"df221484-35bc-46f8-9888-3b42d88ee261\",\"subtype\":\"Chart\",\"type\":\"Plot\"}},\"id\":\"f69ff531-4080-4ff8-b76e-3f3f464c5eb9\",\"type\":\"ResetTool\"},{\"attributes\":{\"dimension\":1,\"plot\":{\"id\":\"df221484-35bc-46f8-9888-3b42d88ee261\",\"subtype\":\"Chart\",\"type\":\"Plot\"},\"ticker\":{\"id\":\"0c51c35c-ef90-4c3d-b453-317c1d801adf\",\"type\":\"BasicTicker\"}},\"id\":\"f6863fbf-1de2-4fcb-a23e-1ae6fdba4126\",\"type\":\"Grid\"},{\"attributes\":{\"fill_alpha\":{\"value\":0.7},\"fill_color\":{\"value\":\"lightblue\"},\"line_color\":{\"value\":\"lightblue\"},\"size\":{\"units\":\"screen\",\"value\":8},\"x\":{\"field\":\"x_values\"},\"y\":{\"field\":\"y_values\"}},\"id\":\"c3043639-5ef2-44a1-a4c9-ad6678f68a20\",\"type\":\"Circle\"},{\"attributes\":{},\"id\":\"fb39ee42-d28b-41fb-8556-d7d02d80c750\",\"type\":\"ToolEvents\"},{\"attributes\":{\"data_source\":{\"id\":\"53f3d310-4f1b-4191-b4ea-2803e58db8f2\",\"type\":\"ColumnDataSource\"},\"glyph\":{\"id\":\"65d47cd6-275c-4f43-b7e4-785fb60afca5\",\"type\":\"Square\"},\"hover_glyph\":null,\"nonselection_glyph\":null,\"selection_glyph\":null},\"id\":\"dd2265ba-6185-4f5d-ac5f-09582f1b3d21\",\"type\":\"GlyphRenderer\"},{\"attributes\":{\"overlay\":{\"id\":\"c3f92243-b2c5-4eef-84b2-a9bf83b3e7a3\",\"type\":\"BoxAnnotation\"},\"plot\":{\"id\":\"df221484-35bc-46f8-9888-3b42d88ee261\",\"subtype\":\"Chart\",\"type\":\"Plot\"}},\"id\":\"a7b827f7-cb29-4c8a-a388-46b9a2dcde25\",\"type\":\"BoxZoomTool\"},{\"attributes\":{\"below\":[{\"id\":\"b44d8afa-e5e7-4b8c-90e3-aa08a93d7f54\",\"type\":\"LinearAxis\"}],\"css_classes\":null,\"height\":400,\"left\":[{\"id\":\"80fa4782-503e-4033-bd6e-167c554b564b\",\"type\":\"LinearAxis\"}],\"renderers\":[{\"id\":\"c3f92243-b2c5-4eef-84b2-a9bf83b3e7a3\",\"type\":\"BoxAnnotation\"},{\"id\":\"dd2265ba-6185-4f5d-ac5f-09582f1b3d21\",\"type\":\"GlyphRenderer\"},{\"id\":\"c0453aa3-d201-4c19-a31b-155d0b18ccc3\",\"type\":\"GlyphRenderer\"},{\"id\":\"dd75ceea-eb8a-490b-80b3-49d01694178c\",\"type\":\"Legend\"},{\"id\":\"b44d8afa-e5e7-4b8c-90e3-aa08a93d7f54\",\"type\":\"LinearAxis\"},{\"id\":\"80fa4782-503e-4033-bd6e-167c554b564b\",\"type\":\"LinearAxis\"},{\"id\":\"3df69df0-ece1-4fd8-b118-874ab166b1b6\",\"type\":\"Grid\"},{\"id\":\"f6863fbf-1de2-4fcb-a23e-1ae6fdba4126\",\"type\":\"Grid\"}],\"title\":{\"id\":\"e52123ce-c3a2-4579-a47e-73e9a1b9b208\",\"type\":\"Title\"},\"tool_events\":{\"id\":\"fb39ee42-d28b-41fb-8556-d7d02d80c750\",\"type\":\"ToolEvents\"},\"toolbar\":{\"id\":\"362a5fb7-1070-4230-8305-413efc62ac0b\",\"type\":\"Toolbar\"},\"width\":750,\"x_mapper_type\":\"auto\",\"x_range\":{\"id\":\"e0d5abaa-043e-4b15-9332-48b6a5fc861e\",\"type\":\"Range1d\"},\"y_mapper_type\":\"auto\",\"y_range\":{\"id\":\"93584ca2-00f6-4326-86e3-995c7336a1fe\",\"type\":\"Range1d\"}},\"id\":\"df221484-35bc-46f8-9888-3b42d88ee261\",\"subtype\":\"Chart\",\"type\":\"Plot\"},{\"attributes\":{\"bottom_units\":\"screen\",\"fill_alpha\":{\"value\":0.5},\"fill_color\":{\"value\":\"lightgrey\"},\"left_units\":\"screen\",\"level\":\"overlay\",\"line_alpha\":{\"value\":1.0},\"line_color\":{\"value\":\"black\"},\"line_dash\":[4,4],\"line_width\":{\"value\":2},\"plot\":null,\"render_mode\":\"css\",\"right_units\":\"screen\",\"top_units\":\"screen\"},\"id\":\"c3f92243-b2c5-4eef-84b2-a9bf83b3e7a3\",\"type\":\"BoxAnnotation\"},{\"attributes\":{\"axis_label\":\"x2\",\"formatter\":{\"id\":\"3b5c1608-15a4-4659-89b1-3dce296667c0\",\"type\":\"BasicTickFormatter\"},\"plot\":{\"id\":\"df221484-35bc-46f8-9888-3b42d88ee261\",\"subtype\":\"Chart\",\"type\":\"Plot\"},\"ticker\":{\"id\":\"0c51c35c-ef90-4c3d-b453-317c1d801adf\",\"type\":\"BasicTicker\"}},\"id\":\"80fa4782-503e-4033-bd6e-167c554b564b\",\"type\":\"LinearAxis\"},{\"attributes\":{\"active_drag\":\"auto\",\"active_scroll\":\"auto\",\"active_tap\":\"auto\",\"tools\":[{\"id\":\"b876c7b6-1fba-408e-80ae-3abf48ddcbb1\",\"type\":\"PanTool\"},{\"id\":\"9b06ba70-66f9-4da8-bbb0-79a93ac6faad\",\"type\":\"WheelZoomTool\"},{\"id\":\"a7b827f7-cb29-4c8a-a388-46b9a2dcde25\",\"type\":\"BoxZoomTool\"},{\"id\":\"39c88d9e-93d1-4cb7-b016-790838144ae0\",\"type\":\"SaveTool\"},{\"id\":\"f69ff531-4080-4ff8-b76e-3f3f464c5eb9\",\"type\":\"ResetTool\"},{\"id\":\"50250077-fc1f-4607-810b-a27b55d0e759\",\"type\":\"HelpTool\"}]},\"id\":\"362a5fb7-1070-4230-8305-413efc62ac0b\",\"type\":\"Toolbar\"}],\"root_ids\":[\"df221484-35bc-46f8-9888-3b42d88ee261\"]},\"title\":\"Bokeh Application\",\"version\":\"0.12.4\"}};\n",
       "            var render_items = [{\"docid\":\"548f33da-1210-4690-88b9-21eaf1bc6c68\",\"elementid\":\"29e081e8-5ceb-4651-8ac3-831b2584a5de\",\"modelid\":\"df221484-35bc-46f8-9888-3b42d88ee261\"}];\n",
       "            \n",
       "            Bokeh.embed.embed_items(docs_json, render_items);\n",
       "          };\n",
       "          if (document.readyState != \"loading\") fn();\n",
       "          else document.addEventListener(\"DOMContentLoaded\", fn);\n",
       "        })();\n",
       "      },\n",
       "      function(Bokeh) {\n",
       "      }\n",
       "    ];\n",
       "  \n",
       "    function run_inline_js() {\n",
       "      \n",
       "      if ((window.Bokeh !== undefined) || (force === true)) {\n",
       "        for (var i = 0; i < inline_js.length; i++) {\n",
       "          inline_js[i](window.Bokeh);\n",
       "        }if (force === true) {\n",
       "          display_loaded();\n",
       "        }} else if (Date.now() < window._bokeh_timeout) {\n",
       "        setTimeout(run_inline_js, 100);\n",
       "      } else if (!window._bokeh_failed_load) {\n",
       "        console.log(\"Bokeh: BokehJS failed to load within specified timeout.\");\n",
       "        window._bokeh_failed_load = true;\n",
       "      } else if (force !== true) {\n",
       "        var cell = $(document.getElementById(\"29e081e8-5ceb-4651-8ac3-831b2584a5de\")).parents('.cell').data().cell;\n",
       "        cell.output_area.append_execute_result(NB_LOAD_WARNING)\n",
       "      }\n",
       "  \n",
       "    }\n",
       "  \n",
       "    if (window._bokeh_is_loading === 0) {\n",
       "      console.log(\"Bokeh: BokehJS loaded, going straight to plotting\");\n",
       "      run_inline_js();\n",
       "    } else {\n",
       "      load_libs(js_urls, function() {\n",
       "        console.log(\"Bokeh: BokehJS plotting callback run at\", now());\n",
       "        run_inline_js();\n",
       "      });\n",
       "    }\n",
       "  }(this));\n",
       "</script>"
      ]
     },
     "metadata": {},
     "output_type": "display_data"
    }
   ],
   "source": [
    "show(Scatter(\n",
    "    {'x1': x1, 'x2': x2, 'y': y}, \n",
    "    x='x1', y='x2', color='y', marker='y', palette=['lightblue', 'orange'],\n",
    "    width=750, height=400\n",
    "))"
   ]
  },
  {
   "cell_type": "markdown",
   "metadata": {
    "deletable": true,
    "editable": true,
    "slideshow": {
     "slide_type": "slide"
    }
   },
   "source": [
    "### Support Vector Machines a la `scikit-learn`"
   ]
  },
  {
   "cell_type": "code",
   "execution_count": 16,
   "metadata": {
    "collapsed": false,
    "deletable": true,
    "editable": true,
    "scrolled": true,
    "slideshow": {
     "slide_type": "subslide"
    }
   },
   "outputs": [
    {
     "data": {
      "text/plain": [
       "SVC(C=1.0, cache_size=200, class_weight=None, coef0=0.0,\n",
       "  decision_function_shape=None, degree=3, gamma='auto', kernel='linear',\n",
       "  max_iter=-1, probability=False, random_state=None, shrinking=True,\n",
       "  tol=0.001, verbose=False)"
      ]
     },
     "execution_count": 16,
     "metadata": {},
     "output_type": "execute_result"
    }
   ],
   "source": [
    "from sklearn import svm\n",
    "clf = svm.SVC(kernel='linear')\n",
    "clf.fit(X, y)"
   ]
  },
  {
   "cell_type": "markdown",
   "metadata": {
    "deletable": true,
    "editable": true,
    "slideshow": {
     "slide_type": "subslide"
    }
   },
   "source": [
    "The SVM coefficients give us a separating hyperplane with minimum classification error.\n",
    "\n",
    "$$b + w'x = 0$$"
   ]
  },
  {
   "cell_type": "code",
   "execution_count": 17,
   "metadata": {
    "collapsed": false,
    "deletable": true,
    "editable": true,
    "slideshow": {
     "slide_type": "fragment"
    }
   },
   "outputs": [
    {
     "name": "stdout",
     "output_type": "stream",
     "text": [
      "b = -3.97131883471\n",
      "w = [ 0.81202326 -0.69232047]\n"
     ]
    }
   ],
   "source": [
    "print('b =', clf.intercept_[0])\n",
    "print('w =', clf.coef_[0])"
   ]
  },
  {
   "cell_type": "markdown",
   "metadata": {
    "deletable": true,
    "editable": true,
    "slideshow": {
     "slide_type": "subslide"
    }
   },
   "source": [
    "We classify a point $x = (x_1, x_2)'$ based on which side of that hyperplane it is on.  \n",
    "  \n",
    "\n",
    "$$b + w'x \\ge 0\\ \\rightarrow\\ \\text{Type +1}$$  \n",
    "$$b + w'x < 0\\ \\rightarrow\\ \\text{Type -1}$$ "
   ]
  },
  {
   "cell_type": "code",
   "execution_count": 18,
   "metadata": {
    "collapsed": false,
    "deletable": true,
    "editable": true,
    "slideshow": {
     "slide_type": "fragment"
    }
   },
   "outputs": [
    {
     "name": "stdout",
     "output_type": "stream",
     "text": [
      "confusion matrix:\n"
     ]
    },
    {
     "data": {
      "text/plain": [
       "array([[117,   6],\n",
       "       [  5,  22]])"
      ]
     },
     "execution_count": 18,
     "metadata": {},
     "output_type": "execute_result"
    }
   ],
   "source": [
    "from sklearn import metrics\n",
    "\n",
    "y_hat = clf.predict(X)\n",
    "\n",
    "print('confusion matrix:')\n",
    "metrics.confusion_matrix(y_true=y, y_pred=y_hat)"
   ]
  },
  {
   "cell_type": "code",
   "execution_count": 19,
   "metadata": {
    "collapsed": false,
    "deletable": true,
    "editable": true,
    "slideshow": {
     "slide_type": "subslide"
    }
   },
   "outputs": [],
   "source": [
    "# We need a function to plot classifications and the separating hyperplane.\n",
    "def plot_svm_results(correct, b_val, w1_val, w2_val):\n",
    "    # Classifications\n",
    "    plot = Scatter(\n",
    "        {'x1': x1, 'x2': x2, 'y': y, 'correct': correct}, \n",
    "        x='x1', y='x2', \n",
    "        color='correct', palette=['lightgrey', 'darkred'], marker='correct',\n",
    "        width=750, height=400\n",
    "    )\n",
    "\n",
    "    # Separating hyperplane: x2 = -(b + (w1*x1)) / w2\n",
    "    hyperplane_x1 = np.linspace(0, 10)\n",
    "    hyperplane_x2 = [\n",
    "        -(b_val + (w1_val * x1_i)) / w2_val for x1_i in hyperplane_x1\n",
    "    ]\n",
    "    plot.line(hyperplane_x1, hyperplane_x2, color='darkblue')\n",
    "    show(plot)"
   ]
  },
  {
   "cell_type": "markdown",
   "metadata": {
    "deletable": true,
    "editable": true,
    "slideshow": {
     "slide_type": "subslide"
    }
   },
   "source": [
    "How'd scikit-learn do?"
   ]
  },
  {
   "cell_type": "code",
   "execution_count": 20,
   "metadata": {
    "collapsed": false,
    "deletable": true,
    "editable": true,
    "slideshow": {
     "slide_type": "-"
    }
   },
   "outputs": [
    {
     "data": {
      "text/html": [
       "\n",
       "\n",
       "    <div class=\"bk-root\">\n",
       "        <div class=\"bk-plotdiv\" id=\"7b16f577-242c-4e42-8301-02cb7bb96368\"></div>\n",
       "    </div>\n",
       "<script type=\"text/javascript\">\n",
       "  \n",
       "  (function(global) {\n",
       "    function now() {\n",
       "      return new Date();\n",
       "    }\n",
       "  \n",
       "    var force = false;\n",
       "  \n",
       "    if (typeof (window._bokeh_onload_callbacks) === \"undefined\" || force === true) {\n",
       "      window._bokeh_onload_callbacks = [];\n",
       "      window._bokeh_is_loading = undefined;\n",
       "    }\n",
       "  \n",
       "  \n",
       "    \n",
       "    if (typeof (window._bokeh_timeout) === \"undefined\" || force === true) {\n",
       "      window._bokeh_timeout = Date.now() + 0;\n",
       "      window._bokeh_failed_load = false;\n",
       "    }\n",
       "  \n",
       "    var NB_LOAD_WARNING = {'data': {'text/html':\n",
       "       \"<div style='background-color: #fdd'>\\n\"+\n",
       "       \"<p>\\n\"+\n",
       "       \"BokehJS does not appear to have successfully loaded. If loading BokehJS from CDN, this \\n\"+\n",
       "       \"may be due to a slow or bad network connection. Possible fixes:\\n\"+\n",
       "       \"</p>\\n\"+\n",
       "       \"<ul>\\n\"+\n",
       "       \"<li>re-rerun `output_notebook()` to attempt to load from CDN again, or</li>\\n\"+\n",
       "       \"<li>use INLINE resources instead, as so:</li>\\n\"+\n",
       "       \"</ul>\\n\"+\n",
       "       \"<code>\\n\"+\n",
       "       \"from bokeh.resources import INLINE\\n\"+\n",
       "       \"output_notebook(resources=INLINE)\\n\"+\n",
       "       \"</code>\\n\"+\n",
       "       \"</div>\"}};\n",
       "  \n",
       "    function display_loaded() {\n",
       "      if (window.Bokeh !== undefined) {\n",
       "        document.getElementById(\"7b16f577-242c-4e42-8301-02cb7bb96368\").textContent = \"BokehJS successfully loaded.\";\n",
       "      } else if (Date.now() < window._bokeh_timeout) {\n",
       "        setTimeout(display_loaded, 100)\n",
       "      }\n",
       "    }\n",
       "  \n",
       "    function run_callbacks() {\n",
       "      window._bokeh_onload_callbacks.forEach(function(callback) { callback() });\n",
       "      delete window._bokeh_onload_callbacks\n",
       "      console.info(\"Bokeh: all callbacks have finished\");\n",
       "    }\n",
       "  \n",
       "    function load_libs(js_urls, callback) {\n",
       "      window._bokeh_onload_callbacks.push(callback);\n",
       "      if (window._bokeh_is_loading > 0) {\n",
       "        console.log(\"Bokeh: BokehJS is being loaded, scheduling callback at\", now());\n",
       "        return null;\n",
       "      }\n",
       "      if (js_urls == null || js_urls.length === 0) {\n",
       "        run_callbacks();\n",
       "        return null;\n",
       "      }\n",
       "      console.log(\"Bokeh: BokehJS not loaded, scheduling load and callback at\", now());\n",
       "      window._bokeh_is_loading = js_urls.length;\n",
       "      for (var i = 0; i < js_urls.length; i++) {\n",
       "        var url = js_urls[i];\n",
       "        var s = document.createElement('script');\n",
       "        s.src = url;\n",
       "        s.async = false;\n",
       "        s.onreadystatechange = s.onload = function() {\n",
       "          window._bokeh_is_loading--;\n",
       "          if (window._bokeh_is_loading === 0) {\n",
       "            console.log(\"Bokeh: all BokehJS libraries loaded\");\n",
       "            run_callbacks()\n",
       "          }\n",
       "        };\n",
       "        s.onerror = function() {\n",
       "          console.warn(\"failed to load library \" + url);\n",
       "        };\n",
       "        console.log(\"Bokeh: injecting script tag for BokehJS library: \", url);\n",
       "        document.getElementsByTagName(\"head\")[0].appendChild(s);\n",
       "      }\n",
       "    };var element = document.getElementById(\"7b16f577-242c-4e42-8301-02cb7bb96368\");\n",
       "    if (element == null) {\n",
       "      console.log(\"Bokeh: ERROR: autoload.js configured with elementid '7b16f577-242c-4e42-8301-02cb7bb96368' but no matching script tag was found. \")\n",
       "      return false;\n",
       "    }\n",
       "  \n",
       "    var js_urls = [];\n",
       "  \n",
       "    var inline_js = [\n",
       "      function(Bokeh) {\n",
       "        (function() {\n",
       "          var fn = function() {\n",
       "            var docs_json = {\"60b3f591-8fa6-460d-9108-4b67c2d200c7\":{\"roots\":{\"references\":[{\"attributes\":{\"data_source\":{\"id\":\"d879779b-7d5b-41bf-80ce-8a9647e036ae\",\"type\":\"ColumnDataSource\"},\"glyph\":{\"id\":\"c960b72d-cc11-4380-8633-2ef74f9a7416\",\"type\":\"Line\"},\"hover_glyph\":null,\"nonselection_glyph\":{\"id\":\"74a729c3-c531-4f2e-8bd2-6db087e8c113\",\"type\":\"Line\"},\"selection_glyph\":null},\"id\":\"0e63518a-b77d-4b72-967f-d227fc835948\",\"type\":\"GlyphRenderer\"},{\"attributes\":{\"data_source\":{\"id\":\"b9b84d10-7711-4cc5-86bd-48cc8deea5f0\",\"type\":\"ColumnDataSource\"},\"glyph\":{\"id\":\"0fcae353-fa6a-4036-b5ed-a82fda641e04\",\"type\":\"Square\"},\"hover_glyph\":null,\"nonselection_glyph\":null,\"selection_glyph\":null},\"id\":\"b420d0de-ae86-421e-b441-fa4e57f8afa3\",\"type\":\"GlyphRenderer\"},{\"attributes\":{\"plot\":{\"id\":\"832d533b-aa46-4e85-b3af-7555dcb9c80e\",\"subtype\":\"Chart\",\"type\":\"Plot\"}},\"id\":\"3ff9758b-d6d8-4e31-89fd-32eb729e5175\",\"type\":\"ResetTool\"},{\"attributes\":{\"axis_label\":\"x1\",\"formatter\":{\"id\":\"02484433-ed41-4772-b17b-bbf9e5a348c5\",\"type\":\"BasicTickFormatter\"},\"plot\":{\"id\":\"832d533b-aa46-4e85-b3af-7555dcb9c80e\",\"subtype\":\"Chart\",\"type\":\"Plot\"},\"ticker\":{\"id\":\"311f3af3-0355-4f71-9138-5a06805223da\",\"type\":\"BasicTicker\"}},\"id\":\"80eea40e-66bb-49dd-b5f8-2501d6859bc6\",\"type\":\"LinearAxis\"},{\"attributes\":{\"label\":{\"value\":\"Incorrect\"},\"renderers\":[{\"id\":\"b420d0de-ae86-421e-b441-fa4e57f8afa3\",\"type\":\"GlyphRenderer\"}]},\"id\":\"500bdc90-7b83-4b74-b6df-5cb6702a4dbc\",\"type\":\"LegendItem\"},{\"attributes\":{\"label\":{\"value\":\"Correct\"},\"renderers\":[{\"id\":\"e846f244-e716-42a6-abb7-1ecd2e2f3829\",\"type\":\"GlyphRenderer\"}]},\"id\":\"dbc148a4-3f30-4ae3-b8d2-5c94daff726e\",\"type\":\"LegendItem\"},{\"attributes\":{},\"id\":\"311f3af3-0355-4f71-9138-5a06805223da\",\"type\":\"BasicTicker\"},{\"attributes\":{\"plot\":{\"id\":\"832d533b-aa46-4e85-b3af-7555dcb9c80e\",\"subtype\":\"Chart\",\"type\":\"Plot\"}},\"id\":\"0b7d452f-9dd3-4e79-9e8d-68dbe8f4cb1a\",\"type\":\"SaveTool\"},{\"attributes\":{\"items\":[{\"id\":\"dbc148a4-3f30-4ae3-b8d2-5c94daff726e\",\"type\":\"LegendItem\"},{\"id\":\"500bdc90-7b83-4b74-b6df-5cb6702a4dbc\",\"type\":\"LegendItem\"}],\"location\":\"top_left\",\"plot\":{\"id\":\"832d533b-aa46-4e85-b3af-7555dcb9c80e\",\"subtype\":\"Chart\",\"type\":\"Plot\"}},\"id\":\"f5876f5e-3eef-4287-a284-81f6ea1f40d1\",\"type\":\"Legend\"},{\"attributes\":{\"data_source\":{\"id\":\"14f82515-a461-4fb3-b2b5-a0a67c7e8fea\",\"type\":\"ColumnDataSource\"},\"glyph\":{\"id\":\"f2f9d58e-ec10-48bb-9689-3c929584064d\",\"type\":\"Circle\"},\"hover_glyph\":null,\"nonselection_glyph\":null,\"selection_glyph\":null},\"id\":\"e846f244-e716-42a6-abb7-1ecd2e2f3829\",\"type\":\"GlyphRenderer\"},{\"attributes\":{\"fill_alpha\":{\"value\":0.7},\"fill_color\":{\"value\":\"lightgrey\"},\"line_color\":{\"value\":\"lightgrey\"},\"size\":{\"units\":\"screen\",\"value\":8},\"x\":{\"field\":\"x_values\"},\"y\":{\"field\":\"y_values\"}},\"id\":\"f2f9d58e-ec10-48bb-9689-3c929584064d\",\"type\":\"Circle\"},{\"attributes\":{\"plot\":{\"id\":\"832d533b-aa46-4e85-b3af-7555dcb9c80e\",\"subtype\":\"Chart\",\"type\":\"Plot\"}},\"id\":\"495b599a-5aaa-4f6c-9c4d-598a8a2299a2\",\"type\":\"WheelZoomTool\"},{\"attributes\":{\"overlay\":{\"id\":\"11e1e134-41e9-4abc-aa20-55d7e0e2ea4e\",\"type\":\"BoxAnnotation\"},\"plot\":{\"id\":\"832d533b-aa46-4e85-b3af-7555dcb9c80e\",\"subtype\":\"Chart\",\"type\":\"Plot\"}},\"id\":\"fc7aa427-eb39-44b4-abad-b6fe0bea6f71\",\"type\":\"BoxZoomTool\"},{\"attributes\":{\"axis_label\":\"x2\",\"formatter\":{\"id\":\"8c14310c-e32f-4106-b0cf-345bb535c311\",\"type\":\"BasicTickFormatter\"},\"plot\":{\"id\":\"832d533b-aa46-4e85-b3af-7555dcb9c80e\",\"subtype\":\"Chart\",\"type\":\"Plot\"},\"ticker\":{\"id\":\"e20264a8-1772-4117-a5c9-d574d4e9aefd\",\"type\":\"BasicTicker\"}},\"id\":\"65bb2125-22dc-488b-95f1-f918bc24bf06\",\"type\":\"LinearAxis\"},{\"attributes\":{\"fill_alpha\":{\"value\":0.7},\"fill_color\":{\"value\":\"darkred\"},\"line_color\":{\"value\":\"darkred\"},\"size\":{\"units\":\"screen\",\"value\":8},\"x\":{\"field\":\"x_values\"},\"y\":{\"field\":\"y_values\"}},\"id\":\"0fcae353-fa6a-4036-b5ed-a82fda641e04\",\"type\":\"Square\"},{\"attributes\":{\"plot\":{\"id\":\"832d533b-aa46-4e85-b3af-7555dcb9c80e\",\"subtype\":\"Chart\",\"type\":\"Plot\"}},\"id\":\"d1ed67f2-450e-469a-921f-2f8785cf93bf\",\"type\":\"HelpTool\"},{\"attributes\":{\"line_alpha\":{\"value\":0.1},\"line_color\":{\"value\":\"#1f77b4\"},\"x\":{\"field\":\"x\"},\"y\":{\"field\":\"y\"}},\"id\":\"74a729c3-c531-4f2e-8bd2-6db087e8c113\",\"type\":\"Line\"},{\"attributes\":{\"active_drag\":\"auto\",\"active_scroll\":\"auto\",\"active_tap\":\"auto\",\"tools\":[{\"id\":\"e12c37ec-0669-4831-96f1-1288b69b1ccb\",\"type\":\"PanTool\"},{\"id\":\"495b599a-5aaa-4f6c-9c4d-598a8a2299a2\",\"type\":\"WheelZoomTool\"},{\"id\":\"fc7aa427-eb39-44b4-abad-b6fe0bea6f71\",\"type\":\"BoxZoomTool\"},{\"id\":\"0b7d452f-9dd3-4e79-9e8d-68dbe8f4cb1a\",\"type\":\"SaveTool\"},{\"id\":\"3ff9758b-d6d8-4e31-89fd-32eb729e5175\",\"type\":\"ResetTool\"},{\"id\":\"d1ed67f2-450e-469a-921f-2f8785cf93bf\",\"type\":\"HelpTool\"}]},\"id\":\"c453748f-114c-41fe-bd8a-43c728b8b224\",\"type\":\"Toolbar\"},{\"attributes\":{\"callback\":null,\"column_names\":[\"x_values\",\"y_values\"],\"data\":{\"chart_index\":[{\"correct\":\"Incorrect\"},{\"correct\":\"Incorrect\"},{\"correct\":\"Incorrect\"},{\"correct\":\"Incorrect\"},{\"correct\":\"Incorrect\"},{\"correct\":\"Incorrect\"},{\"correct\":\"Incorrect\"},{\"correct\":\"Incorrect\"},{\"correct\":\"Incorrect\"},{\"correct\":\"Incorrect\"},{\"correct\":\"Incorrect\"}],\"correct\":[\"Incorrect\",\"Incorrect\",\"Incorrect\",\"Incorrect\",\"Incorrect\",\"Incorrect\",\"Incorrect\",\"Incorrect\",\"Incorrect\",\"Incorrect\",\"Incorrect\"],\"x_values\":{\"__ndarray__\":\"aSSeMnYcIEAy34oCyLshQJo54s8tBBtA1qY6w2nvIECuqr3WSxcTQCO2Ne0nbiNATtAyHgM9IkDaQYM4cP8gQNB33/URVRtA7Qu6CRAjH0ARKrshH/IjQA==\",\"dtype\":\"float64\",\"shape\":[11]},\"y_values\":{\"__ndarray__\":\"6BLmkTVqDUD+xzhwqb4QQAjYTMGwhBBAke5KM5brEEBgcjcMUWDKPyrw2fk5zB1AYcd7HxCEEkDIjBspTZ8CQJ4+gGJ7B/M/ap9YYodsFkDqlJFmIbUWQA==\",\"dtype\":\"float64\",\"shape\":[11]}}},\"id\":\"b9b84d10-7711-4cc5-86bd-48cc8deea5f0\",\"type\":\"ColumnDataSource\"},{\"attributes\":{\"plot\":{\"id\":\"832d533b-aa46-4e85-b3af-7555dcb9c80e\",\"subtype\":\"Chart\",\"type\":\"Plot\"},\"ticker\":{\"id\":\"311f3af3-0355-4f71-9138-5a06805223da\",\"type\":\"BasicTicker\"}},\"id\":\"a0d01a90-9e96-43d0-8750-e3864e60a9c1\",\"type\":\"Grid\"},{\"attributes\":{\"below\":[{\"id\":\"80eea40e-66bb-49dd-b5f8-2501d6859bc6\",\"type\":\"LinearAxis\"}],\"css_classes\":null,\"height\":400,\"left\":[{\"id\":\"65bb2125-22dc-488b-95f1-f918bc24bf06\",\"type\":\"LinearAxis\"}],\"renderers\":[{\"id\":\"11e1e134-41e9-4abc-aa20-55d7e0e2ea4e\",\"type\":\"BoxAnnotation\"},{\"id\":\"e846f244-e716-42a6-abb7-1ecd2e2f3829\",\"type\":\"GlyphRenderer\"},{\"id\":\"b420d0de-ae86-421e-b441-fa4e57f8afa3\",\"type\":\"GlyphRenderer\"},{\"id\":\"f5876f5e-3eef-4287-a284-81f6ea1f40d1\",\"type\":\"Legend\"},{\"id\":\"80eea40e-66bb-49dd-b5f8-2501d6859bc6\",\"type\":\"LinearAxis\"},{\"id\":\"65bb2125-22dc-488b-95f1-f918bc24bf06\",\"type\":\"LinearAxis\"},{\"id\":\"a0d01a90-9e96-43d0-8750-e3864e60a9c1\",\"type\":\"Grid\"},{\"id\":\"b4502cad-07cc-4ecb-898c-382916ea78c6\",\"type\":\"Grid\"},{\"id\":\"0e63518a-b77d-4b72-967f-d227fc835948\",\"type\":\"GlyphRenderer\"}],\"title\":{\"id\":\"0b7e7e56-6510-4e39-b45a-4b5611fd02a3\",\"type\":\"Title\"},\"tool_events\":{\"id\":\"0015a9fe-e87c-42d1-9e93-499584f2758c\",\"type\":\"ToolEvents\"},\"toolbar\":{\"id\":\"c453748f-114c-41fe-bd8a-43c728b8b224\",\"type\":\"Toolbar\"},\"width\":750,\"x_mapper_type\":\"auto\",\"x_range\":{\"id\":\"9c358611-8207-461c-a238-b718467d43b4\",\"type\":\"Range1d\"},\"y_mapper_type\":\"auto\",\"y_range\":{\"id\":\"998bacd1-c552-47bc-b2f5-6b13274de46c\",\"type\":\"Range1d\"}},\"id\":\"832d533b-aa46-4e85-b3af-7555dcb9c80e\",\"subtype\":\"Chart\",\"type\":\"Plot\"},{\"attributes\":{},\"id\":\"e20264a8-1772-4117-a5c9-d574d4e9aefd\",\"type\":\"BasicTicker\"},{\"attributes\":{\"bottom_units\":\"screen\",\"fill_alpha\":{\"value\":0.5},\"fill_color\":{\"value\":\"lightgrey\"},\"left_units\":\"screen\",\"level\":\"overlay\",\"line_alpha\":{\"value\":1.0},\"line_color\":{\"value\":\"black\"},\"line_dash\":[4,4],\"line_width\":{\"value\":2},\"plot\":null,\"render_mode\":\"css\",\"right_units\":\"screen\",\"top_units\":\"screen\"},\"id\":\"11e1e134-41e9-4abc-aa20-55d7e0e2ea4e\",\"type\":\"BoxAnnotation\"},{\"attributes\":{\"dimension\":1,\"plot\":{\"id\":\"832d533b-aa46-4e85-b3af-7555dcb9c80e\",\"subtype\":\"Chart\",\"type\":\"Plot\"},\"ticker\":{\"id\":\"e20264a8-1772-4117-a5c9-d574d4e9aefd\",\"type\":\"BasicTicker\"}},\"id\":\"b4502cad-07cc-4ecb-898c-382916ea78c6\",\"type\":\"Grid\"},{\"attributes\":{\"callback\":null,\"end\":10.995207692512583,\"start\":-0.9720812108144328},\"id\":\"9c358611-8207-461c-a238-b718467d43b4\",\"type\":\"Range1d\"},{\"attributes\":{\"callback\":null,\"column_names\":[\"x_values\",\"y_values\"],\"data\":{\"chart_index\":[{\"correct\":\"Correct\"},{\"correct\":\"Correct\"},{\"correct\":\"Correct\"},{\"correct\":\"Correct\"},{\"correct\":\"Correct\"},{\"correct\":\"Correct\"},{\"correct\":\"Correct\"},{\"correct\":\"Correct\"},{\"correct\":\"Correct\"},{\"correct\":\"Correct\"},{\"correct\":\"Correct\"},{\"correct\":\"Correct\"},{\"correct\":\"Correct\"},{\"correct\":\"Correct\"},{\"correct\":\"Correct\"},{\"correct\":\"Correct\"},{\"correct\":\"Correct\"},{\"correct\":\"Correct\"},{\"correct\":\"Correct\"},{\"correct\":\"Correct\"},{\"correct\":\"Correct\"},{\"correct\":\"Correct\"},{\"correct\":\"Correct\"},{\"correct\":\"Correct\"},{\"correct\":\"Correct\"},{\"correct\":\"Correct\"},{\"correct\":\"Correct\"},{\"correct\":\"Correct\"},{\"correct\":\"Correct\"},{\"correct\":\"Correct\"},{\"correct\":\"Correct\"},{\"correct\":\"Correct\"},{\"correct\":\"Correct\"},{\"correct\":\"Correct\"},{\"correct\":\"Correct\"},{\"correct\":\"Correct\"},{\"correct\":\"Correct\"},{\"correct\":\"Correct\"},{\"correct\":\"Correct\"},{\"correct\":\"Correct\"},{\"correct\":\"Correct\"},{\"correct\":\"Correct\"},{\"correct\":\"Correct\"},{\"correct\":\"Correct\"},{\"correct\":\"Correct\"},{\"correct\":\"Correct\"},{\"correct\":\"Correct\"},{\"correct\":\"Correct\"},{\"correct\":\"Correct\"},{\"correct\":\"Correct\"},{\"correct\":\"Correct\"},{\"correct\":\"Correct\"},{\"correct\":\"Correct\"},{\"correct\":\"Correct\"},{\"correct\":\"Correct\"},{\"correct\":\"Correct\"},{\"correct\":\"Correct\"},{\"correct\":\"Correct\"},{\"correct\":\"Correct\"},{\"correct\":\"Correct\"},{\"correct\":\"Correct\"},{\"correct\":\"Correct\"},{\"correct\":\"Correct\"},{\"correct\":\"Correct\"},{\"correct\":\"Correct\"},{\"correct\":\"Correct\"},{\"correct\":\"Correct\"},{\"correct\":\"Correct\"},{\"correct\":\"Correct\"},{\"correct\":\"Correct\"},{\"correct\":\"Correct\"},{\"correct\":\"Correct\"},{\"correct\":\"Correct\"},{\"correct\":\"Correct\"},{\"correct\":\"Correct\"},{\"correct\":\"Correct\"},{\"correct\":\"Correct\"},{\"correct\":\"Correct\"},{\"correct\":\"Correct\"},{\"correct\":\"Correct\"},{\"correct\":\"Correct\"},{\"correct\":\"Correct\"},{\"correct\":\"Correct\"},{\"correct\":\"Correct\"},{\"correct\":\"Correct\"},{\"correct\":\"Correct\"},{\"correct\":\"Correct\"},{\"correct\":\"Correct\"},{\"correct\":\"Correct\"},{\"correct\":\"Correct\"},{\"correct\":\"Correct\"},{\"correct\":\"Correct\"},{\"correct\":\"Correct\"},{\"correct\":\"Correct\"},{\"correct\":\"Correct\"},{\"correct\":\"Correct\"},{\"correct\":\"Correct\"},{\"correct\":\"Correct\"},{\"correct\":\"Correct\"},{\"correct\":\"Correct\"},{\"correct\":\"Correct\"},{\"correct\":\"Correct\"},{\"correct\":\"Correct\"},{\"correct\":\"Correct\"},{\"correct\":\"Correct\"},{\"correct\":\"Correct\"},{\"correct\":\"Correct\"},{\"correct\":\"Correct\"},{\"correct\":\"Correct\"},{\"correct\":\"Correct\"},{\"correct\":\"Correct\"},{\"correct\":\"Correct\"},{\"correct\":\"Correct\"},{\"correct\":\"Correct\"},{\"correct\":\"Correct\"},{\"correct\":\"Correct\"},{\"correct\":\"Correct\"},{\"correct\":\"Correct\"},{\"correct\":\"Correct\"},{\"correct\":\"Correct\"},{\"correct\":\"Correct\"},{\"correct\":\"Correct\"},{\"correct\":\"Correct\"},{\"correct\":\"Correct\"},{\"correct\":\"Correct\"},{\"correct\":\"Correct\"},{\"correct\":\"Correct\"},{\"correct\":\"Correct\"},{\"correct\":\"Correct\"},{\"correct\":\"Correct\"},{\"correct\":\"Correct\"},{\"correct\":\"Correct\"},{\"correct\":\"Correct\"},{\"correct\":\"Correct\"},{\"correct\":\"Correct\"},{\"correct\":\"Correct\"},{\"correct\":\"Correct\"},{\"correct\":\"Correct\"},{\"correct\":\"Correct\"}],\"correct\":[\"Correct\",\"Correct\",\"Correct\",\"Correct\",\"Correct\",\"Correct\",\"Correct\",\"Correct\",\"Correct\",\"Correct\",\"Correct\",\"Correct\",\"Correct\",\"Correct\",\"Correct\",\"Correct\",\"Correct\",\"Correct\",\"Correct\",\"Correct\",\"Correct\",\"Correct\",\"Correct\",\"Correct\",\"Correct\",\"Correct\",\"Correct\",\"Correct\",\"Correct\",\"Correct\",\"Correct\",\"Correct\",\"Correct\",\"Correct\",\"Correct\",\"Correct\",\"Correct\",\"Correct\",\"Correct\",\"Correct\",\"Correct\",\"Correct\",\"Correct\",\"Correct\",\"Correct\",\"Correct\",\"Correct\",\"Correct\",\"Correct\",\"Correct\",\"Correct\",\"Correct\",\"Correct\",\"Correct\",\"Correct\",\"Correct\",\"Correct\",\"Correct\",\"Correct\",\"Correct\",\"Correct\",\"Correct\",\"Correct\",\"Correct\",\"Correct\",\"Correct\",\"Correct\",\"Correct\",\"Correct\",\"Correct\",\"Correct\",\"Correct\",\"Correct\",\"Correct\",\"Correct\",\"Correct\",\"Correct\",\"Correct\",\"Correct\",\"Correct\",\"Correct\",\"Correct\",\"Correct\",\"Correct\",\"Correct\",\"Correct\",\"Correct\",\"Correct\",\"Correct\",\"Correct\",\"Correct\",\"Correct\",\"Correct\",\"Correct\",\"Correct\",\"Correct\",\"Correct\",\"Correct\",\"Correct\",\"Correct\",\"Correct\",\"Correct\",\"Correct\",\"Correct\",\"Correct\",\"Correct\",\"Correct\",\"Correct\",\"Correct\",\"Correct\",\"Correct\",\"Correct\",\"Correct\",\"Correct\",\"Correct\",\"Correct\",\"Correct\",\"Correct\",\"Correct\",\"Correct\",\"Correct\",\"Correct\",\"Correct\",\"Correct\",\"Correct\",\"Correct\",\"Correct\",\"Correct\",\"Correct\",\"Correct\",\"Correct\",\"Correct\",\"Correct\",\"Correct\",\"Correct\",\"Correct\",\"Correct\",\"Correct\",\"Correct\"],\"x_values\":{\"__ndarray__\":\"icQ52olRIUBJLgDF9ecCQBqA5XoH2xVATiEvegTr4D8+q54e2ukTQBpbNNSsgABANUweqAQ8+D9tnwGE9dnxP3w62a8LKN4/co2S1VrP7T/LwMMe5swKQBMGIdQ36iFAPnD+5lQAIUDMqoVZ75HZP5z+PA0kj9c/xAHYHTj9I0AdFUTS5xgBQMDyKzXJjhZAKPODL/FXB0B4nsxkIoLNPwZtEkjjIyFAM68dI1ex/z90ibavc5ASQKKiolHfERNAFVwQMw7G/D8kkKBwO1weQJ2zUauzoBNAt+A8cgLfCEDqRELdbrsgQOd7PL8tfBRAAu0mHdy7CEC+7IsTjTsgQKJKoR2bAAZArQTD79bzEUBfovvuwg0jQEm8e8vM/RBA2KTM8D/MyD+wCycZLKUdQPWjlK1eWiJAcKhU8kypuD+GhYKO3zQXQFy+BMOjJdM/IEnF3uvlGEDYZdL/GZsZQNxliGot3QNArHClIOmc5D/A0Vr97lAZQI12h5ZwuRJAtc93o1OyHEBUsNbJuFkXQHQJf1A8jdE/erWNzYo+HEC4LJAiovcZQOyVf1dGlRBAT0X9dUNTIECi5ylQaB0gQAg52koi2CFA05wERamQGkBAateDKMyZPxCeWD71SxNArfb772kfIEDs7p2tFpPrP7DUddbkYwZAkNV7BW6+3j9ks2CehR8HQNR8G88AxA1A1GG0ung9I0BDESrTa8wBQBfC0EOLy/o/nzWzJ/H+I0Af3UQ5/JgIQBIuFkE7QABADIpqVeLNEUBWbUKDcKUbQPDhaxiksAhAvpCiUMES8j8/8lHlUFsSQKo62QMgmxNArMAKQC70CECl29gWQIsZQNiTMQgn3hNAiwOnFDweIkCddSapLur9P2iRKO39kSNA46AAszJCF0C8bHhgkfAWQAz71TENJwpAVZgY0KE0E0D43zbdAXIVQHtkKw8umvg/WUnZI3hUF0CyNu39H6gYQDoa4wufpAdA9l8U3tZwIUAvIcRXoaEjQMZRaauvf/I/aDCjJCj6BkBEW5m4uasjQLpKLpYMlO0/HRBuPalfH0BEq/wOm5MhQDYUNX2+jRFAxyF65SLPIUAeJB4/rpAhQCpUI0ktmRJA4IooGTl/F0A4pQfO4L4gQPgRy6LcKgRAiOPWNYV9IEBLUebP5ukcQAwMNnyJ/hFA0S3tcMLLIEBge5kS2fXyP36kfVYqxBlAyV/sBvd2G0B9sJBMWZAiQHgA3p6+xtY/I0Rtv1dHIkCHHURZTBAgQKRCdgldWBFAttID6YGMF0DmBPFJkUELQE289G5ZiPU/QCyXQoF7sj9UsSVBKqoTQIBkYgX8cBRALBrvD1gWGUD0MGG6ONEhQG52zdnOoQBAmebntfDfC0AZQ0mohw0ZQK0pOrgoTfE/3yua/hj3HkCOruYyBCb7P35TnE4QNCJA6pc8Oo8qBEAE8E+ZXbTgP+G6Z5Hq/hFALpB4h97cDkA=\",\"dtype\":\"float64\",\"shape\":[139]},\"y_values\":{\"__ndarray__\":\"jAXTXBP8DUDiet+ygPcVQLbv1mFGwwpAdn8KyJ12HkCR0SmaUFYVQNU5HidS3iJAI5L2qC40IkBSZM/wY8IQQL4BT12sAAdAu+1TDvP5EEBte0o7Yl4SQKpo4x4i1w5A6CepFwi3AkDCmuA/KqsSQOQlpw348hxA5VZ6ymO2DkCPLT1bn+MTQAXvFR368CJAss7lN5vN6z/6dUY6e4shQAF1LsvKG/0/MaQaaOQNEECUDXYC57MQQHUnGlgifRZAjGaDIcy8IkAQqYxqeL4SQPgxoKjCCiJA/HDIOkFrGkCSyHBHvv0gQK0+Wlk9Kx9AXtHFZbNwDkAIb8Me/grBP/8D0RyXkiFABanjzNYfH0AjgGJq3J7+Py6A0zc+AQtAGA7okzpwDECMy8KEMmIQQKikbzds3iBAYKc9vyna1T9McK67/eEeQOrGOkd/fhtA0CebWj7dvj8tbQjta3sKQAouVh1UlBdAV2JulRZ8H0DMJslWVGAjQFqU5uBJAhJAJA2ZP2PlE0Agk2cmU6cdQGA8u2lLChpAxLNZlb7sD0C8B7GT1GLvP4yN1Gi5NBpAVvYcHJW/EkARGENnj83wP+AExD6oCSNAjA7aUHBDCkAsWqe9dcocQHnWByn7pCBAEfthhORdIUAWf7+9w0oXQFRBaWBrtxpABSlov5opHkCeYrrkbVQaQL5NdeOm3BpAEDx5H2C5xT8aK2iQZogZQIBWBTJsw6I/oOmIoN3swz8+ZBILeRQVQHfkaYGsgB5AG8cWa0iwGkBlRTCbyQEeQGR21JUFJxJAyB10Vp5pEUC+2mSoQlPkPwL0W+AAZRJAGgd2KfwsIEDeF/NUlcwTQPqWWQx/giNAdNb6H3mjIkBqjHd0JuIRQFnWBTUa0A5APqtBnlJWI0AWmUC7y0geQH0xgowXkSBAtnQPvfYNIUAzM6gnTiUFQEtzDX5ZvRZAJvA6E+S7HUBitJOBZPoiQO6sp/YklfE/tDtawnEdCUBLxbUZLaogQLwQSHPEm9w/EKOA3paMIEBWyBnzQtL+P/CvJ1DTXNc/hvapX7skAECMNbLCB2YjQIMq3q840/c/YGPxSegvIECGXFDNBaogQKcU1zU6NxtAffp8qh88HUAMrJrA7U8LQPozmx6nRRpAcEe3KjxaGEA5a4K6KG8iQE5L6BojZQdA2ASE0dtYFkCEYtT1fUz2P55oTBVmqR1A4QKrl52dGkC8QNZE8VTVP0x68qRhRh9AtuXlfaHkHkDEKDSBjojePycCbr91FBlA5CyJU7r5IEDiat4OUCEAQLqwT8aqGwtA8NZNoeNUFEAQVHYbAU0jQDiizR9VmR5A3Aw++5T26j+ENgPyATzcP5yKTCjsQPk/fHMvPRPK0T9imQjYhrQFQCJa8RHlDwBAJuiWHeswIkDPvDLpviwTQHTj19+FCwZAZZigNK3yGUDB7Gex6uv7PwzhsnGzABBAm1cXDeetAkA=\",\"dtype\":\"float64\",\"shape\":[139]}}},\"id\":\"14f82515-a461-4fb3-b2b5-a0a67c7e8fea\",\"type\":\"ColumnDataSource\"},{\"attributes\":{\"callback\":null,\"column_names\":[\"x\",\"y\"],\"data\":{\"x\":{\"__ndarray__\":\"AAAAAAAAAACIxvrQWB/KP4jG+tBYH9o/5hS8nIKX4z+IxvrQWB/qPxW8nIKXU/A/5hS8nIKX8z+3bdu2bdv2P4jG+tBYH/o/WR8a60Nj/T8VvJyCl1MAQH5orA+N9QFA5hS8nIKXA0BOwcspeDkFQLdt27Zt2wZAIBrrQ2N9CECIxvrQWB8KQPByCl5OwQtAWR8a60NjDUDCyyl4OQUPQBW8nIKXUxBASZIkSZIkEUB+aKwPjfURQLI+NNaHxhJA5hS8nIKXE0Aa60NjfWgUQE7Byyl4ORVAg5dT8HIKFkC3bdu2bdsWQOtDY31orBdAIBrrQ2N9GEBU8HIKXk4ZQIjG+tBYHxpAvJyCl1PwGkDwcgpeTsEbQCVJkiRJkhxAWR8a60NjHUCN9aGxPjQeQMLLKXg5BR9A9qGxPjTWH0AVvJyCl1MgQC+n4OUUvCBASZIkSZIkIUBjfWisD40hQH5orA+N9SFAmFPwcgpeIkCyPjTWh8YiQMwpeDkFLyNA5hS8nIKXI0AAAAAAAAAkQA==\",\"dtype\":\"float64\",\"shape\":[50]},\"y\":[-5.7362435803162235,-5.4968760614419265,-5.25750854256763,-5.018141023693333,-4.778773504819036,-4.5394059859447395,-4.300038467070443,-4.0606709481961465,-3.8213034293218495,-3.5819359104475526,-3.3425683915732556,-3.1032008726989586,-2.8638333538246625,-2.624465834950366,-2.385098316076069,-2.145730797201772,-1.9063632783274755,-1.6669957594531792,-1.4276282405788816,-1.1882607217045846,-0.9488932028302883,-0.709525683955992,-0.4701581650816944,-0.23079064620739806,0.008576872666898256,0.24794439154119458,0.48731191041549154,0.7266794292897885,0.9660469481640854,1.2054144670383824,1.4447819859126794,1.6841495047869763,1.923517023661272,2.162884542535569,2.4022520614098646,2.641619580284163,2.88098709915846,3.1203546180327555,3.359722136907054,3.5990896557813494,3.8384571746556464,4.0778246935299425,4.3171922124042394,4.556559731278536,4.795927250152834,5.035294769027131,5.274662287901427,5.514029806775724,5.7533973256500195,5.992764844524317]}},\"id\":\"d879779b-7d5b-41bf-80ce-8a9647e036ae\",\"type\":\"ColumnDataSource\"},{\"attributes\":{},\"id\":\"8c14310c-e32f-4106-b0cf-345bb535c311\",\"type\":\"BasicTickFormatter\"},{\"attributes\":{\"line_color\":{\"value\":\"darkblue\"},\"x\":{\"field\":\"x\"},\"y\":{\"field\":\"y\"}},\"id\":\"c960b72d-cc11-4380-8633-2ef74f9a7416\",\"type\":\"Line\"},{\"attributes\":{\"callback\":null,\"end\":10.726698385638493,\"start\":-0.9351756280679302},\"id\":\"998bacd1-c552-47bc-b2f5-6b13274de46c\",\"type\":\"Range1d\"},{\"attributes\":{\"plot\":{\"id\":\"832d533b-aa46-4e85-b3af-7555dcb9c80e\",\"subtype\":\"Chart\",\"type\":\"Plot\"}},\"id\":\"e12c37ec-0669-4831-96f1-1288b69b1ccb\",\"type\":\"PanTool\"},{\"attributes\":{},\"id\":\"02484433-ed41-4772-b17b-bbf9e5a348c5\",\"type\":\"BasicTickFormatter\"},{\"attributes\":{},\"id\":\"0015a9fe-e87c-42d1-9e93-499584f2758c\",\"type\":\"ToolEvents\"},{\"attributes\":{\"plot\":null,\"text\":null},\"id\":\"0b7e7e56-6510-4e39-b45a-4b5611fd02a3\",\"type\":\"Title\"}],\"root_ids\":[\"832d533b-aa46-4e85-b3af-7555dcb9c80e\"]},\"title\":\"Bokeh Application\",\"version\":\"0.12.4\"}};\n",
       "            var render_items = [{\"docid\":\"60b3f591-8fa6-460d-9108-4b67c2d200c7\",\"elementid\":\"7b16f577-242c-4e42-8301-02cb7bb96368\",\"modelid\":\"832d533b-aa46-4e85-b3af-7555dcb9c80e\"}];\n",
       "            \n",
       "            Bokeh.embed.embed_items(docs_json, render_items);\n",
       "          };\n",
       "          if (document.readyState != \"loading\") fn();\n",
       "          else document.addEventListener(\"DOMContentLoaded\", fn);\n",
       "        })();\n",
       "      },\n",
       "      function(Bokeh) {\n",
       "      }\n",
       "    ];\n",
       "  \n",
       "    function run_inline_js() {\n",
       "      \n",
       "      if ((window.Bokeh !== undefined) || (force === true)) {\n",
       "        for (var i = 0; i < inline_js.length; i++) {\n",
       "          inline_js[i](window.Bokeh);\n",
       "        }if (force === true) {\n",
       "          display_loaded();\n",
       "        }} else if (Date.now() < window._bokeh_timeout) {\n",
       "        setTimeout(run_inline_js, 100);\n",
       "      } else if (!window._bokeh_failed_load) {\n",
       "        console.log(\"Bokeh: BokehJS failed to load within specified timeout.\");\n",
       "        window._bokeh_failed_load = true;\n",
       "      } else if (force !== true) {\n",
       "        var cell = $(document.getElementById(\"7b16f577-242c-4e42-8301-02cb7bb96368\")).parents('.cell').data().cell;\n",
       "        cell.output_area.append_execute_result(NB_LOAD_WARNING)\n",
       "      }\n",
       "  \n",
       "    }\n",
       "  \n",
       "    if (window._bokeh_is_loading === 0) {\n",
       "      console.log(\"Bokeh: BokehJS loaded, going straight to plotting\");\n",
       "      run_inline_js();\n",
       "    } else {\n",
       "      load_libs(js_urls, function() {\n",
       "        console.log(\"Bokeh: BokehJS plotting callback run at\", now());\n",
       "        run_inline_js();\n",
       "      });\n",
       "    }\n",
       "  }(this));\n",
       "</script>"
      ]
     },
     "metadata": {},
     "output_type": "display_data"
    }
   ],
   "source": [
    "correct = ['Correct' if yi == yh_i else 'Incorrect' for yi, yh_i in zip(y, y_hat)]\n",
    "plot_svm_results(correct, clf.intercept_[0], clf.coef_[0][0], clf.coef_[0][1])"
   ]
  },
  {
   "cell_type": "markdown",
   "metadata": {
    "deletable": true,
    "editable": true,
    "slideshow": {
     "slide_type": "slide"
    }
   },
   "source": [
    "### Support Vector Machines a la Linear Optimization"
   ]
  },
  {
   "cell_type": "markdown",
   "metadata": {
    "deletable": true,
    "editable": true,
    "slideshow": {
     "slide_type": "subslide"
    }
   },
   "source": [
    "[`PuLP`](https://github.com/coin-or/pulp/) is a modeling tool that lets us solve anything of this form.\n",
    "\n",
    "$$\n",
    "\\begin{align}\n",
    "    \\text{min}  \\ \\ \\ & \\ c'x \\\\\n",
    "    \\text{s.t.} \\ \\ \\ & \\ A x = b \\\\\n",
    "                      & \\ x \\ge 0\n",
    "\\end{align}\n",
    "$$\n",
    "\n",
    "Where $c$ and $b$ are input vectors, $A$ is an input matrix, and $x$ is a vector of real-valued decision variables."
   ]
  },
  {
   "cell_type": "markdown",
   "metadata": {
    "deletable": true,
    "editable": true,
    "slideshow": {
     "slide_type": "fragment"
    }
   },
   "source": [
    "Linear Optimization is well solved. You can assume that a linear optimizer is robust and fast for any model in that form."
   ]
  },
  {
   "cell_type": "markdown",
   "metadata": {
    "deletable": true,
    "editable": true,
    "slideshow": {
     "slide_type": "fragment"
    }
   },
   "source": [
    "PuLP can also solve discrete models, which are not so computationally easy."
   ]
  },
  {
   "cell_type": "markdown",
   "metadata": {
    "deletable": true,
    "editable": true,
    "slideshow": {
     "slide_type": "subslide"
    }
   },
   "source": [
    "How do we get our SVM problem into a linear optimizer?\n",
    "\n",
    "#### Inputs:\n",
    "\n",
    "$$(x_{i1}, x_{i2})' = \\text{column vector of inputs for observation}\\ i$$  \n",
    "  \n",
    "$$y_i \\in \\{+1, -1\\} = \\text{known classification of observation}\\ i $$ "
   ]
  },
  {
   "cell_type": "markdown",
   "metadata": {
    "deletable": true,
    "editable": true,
    "slideshow": {
     "slide_type": "fragment"
    }
   },
   "source": [
    "#### Model:\n",
    "\n",
    "The decision variables $b$, $w_1$, and $w_2$, give us a separating hyperplane $b + w'x = 0$.\n",
    "\n",
    "For each _misclassified_ observation $i$, $\\xi_i$ is its classification error. We find the best hyperplane by minimizing total error.\n",
    "\n",
    "$$\n",
    "\\begin{align}\n",
    "    \\text{min}  \\ \\ \\ & \\ \\sum_i \\xi_i \\ & \\ \\\\\n",
    "    \\text{s.t.} \\ \\ \\ & \\ b + w_1 x_{i1} + w_2 x_{i2} \\le -1 + \\xi_i\\ & \\ \\forall\\ y_i = -1 \\\\\n",
    "                      & \\ b + w_1 x_{i1} + w_2 x_{i2} \\ge +1 - \\xi_i\\ & \\ \\forall\\ y_i = +1 \\\\\n",
    "                      & \\ \\xi \\ge 0\n",
    "\\end{align}\n",
    "$$"
   ]
  },
  {
   "cell_type": "markdown",
   "metadata": {
    "deletable": true,
    "editable": true,
    "slideshow": {
     "slide_type": "subslide"
    }
   },
   "source": [
    "We can simplify the model by multiplying each constraint by $y_i$.\n",
    "\n",
    "$$\n",
    "\\begin{align}\n",
    "    \\text{min}  \\ \\ \\ & \\ \\sum_i \\xi_i \\\\\n",
    "    \\text{s.t.} \\ \\ \\ & \\ y_i (b + w_1 x_{i1} + w_2 x_{i2}) \\ge 1 - \\xi_i\\ \\forall\\ i \\\\\n",
    "                      & \\ \\xi \\ge 0\n",
    "\\end{align}\n",
    "$$"
   ]
  },
  {
   "cell_type": "markdown",
   "metadata": {
    "deletable": true,
    "editable": true,
    "slideshow": {
     "slide_type": "subslide"
    }
   },
   "source": [
    "But wait! Constraints like $a'x \\ge b$ aren't in the form you gave us!"
   ]
  },
  {
   "cell_type": "markdown",
   "metadata": {
    "deletable": true,
    "editable": true,
    "slideshow": {
     "slide_type": "fragment"
    }
   },
   "source": [
    "That's OK. They get converted by the optimizer.\n",
    "\n",
    "$$a'x - e = b$$\n",
    "$$e \\ge 0$$"
   ]
  },
  {
   "cell_type": "markdown",
   "metadata": {
    "deletable": true,
    "editable": true,
    "slideshow": {
     "slide_type": "fragment"
    }
   },
   "source": [
    "So do constraints of the form $a'x \\le b$.\n",
    "\n",
    "$$a'x + s = b$$\n",
    "$$s \\ge 0$$"
   ]
  },
  {
   "cell_type": "markdown",
   "metadata": {
    "deletable": true,
    "editable": true,
    "slideshow": {
     "slide_type": "fragment"
    }
   },
   "source": [
    "As do any variables that are unrestricted in sign.\n",
    "\n",
    "$$x_i = x_i^+ - x_i^-$$\n",
    "$$x_i^+, x_i^- \\ge 0$$"
   ]
  },
  {
   "cell_type": "markdown",
   "metadata": {
    "deletable": true,
    "editable": true,
    "slideshow": {
     "slide_type": "fragment"
    }
   },
   "source": [
    "As long as your objective function is linear and your constraints are linear and of the form $=$, $\\le$, or $\\ge$, you can solve it with a linear optimizer."
   ]
  },
  {
   "cell_type": "markdown",
   "metadata": {
    "deletable": true,
    "editable": true,
    "slideshow": {
     "slide_type": "subslide"
    }
   },
   "source": [
    "Let's get hacking. First make variables for the separating hyperplane.\n",
    "\n",
    "Note these are _unrestricted in sign_."
   ]
  },
  {
   "cell_type": "code",
   "execution_count": 21,
   "metadata": {
    "collapsed": true,
    "deletable": true,
    "editable": true
   },
   "outputs": [],
   "source": [
    "import pulp\n",
    "\n",
    "b = pulp.LpVariable('b')\n",
    "w1 = pulp.LpVariable('w1')\n",
    "w2 = pulp.LpVariable('w2')"
   ]
  },
  {
   "cell_type": "markdown",
   "metadata": {
    "deletable": true,
    "editable": true,
    "slideshow": {
     "slide_type": "subslide"
    }
   },
   "source": [
    "We also need variables for the classification errors. \n",
    "\n",
    "These are nonnegative since we only want to penalize errors, not reward the model for correct classifiations."
   ]
  },
  {
   "cell_type": "code",
   "execution_count": 22,
   "metadata": {
    "collapsed": false,
    "deletable": true,
    "editable": true
   },
   "outputs": [],
   "source": [
    "errors = []\n",
    "for i in range(len(y)):\n",
    "    e = pulp.LpVariable('e_%d' % i, lowBound=0) # lowBound=0 means >=0\n",
    "    errors.append(e)"
   ]
  },
  {
   "cell_type": "markdown",
   "metadata": {
    "deletable": true,
    "editable": true,
    "slideshow": {
     "slide_type": "subslide"
    }
   },
   "source": [
    "Build a model that records classification error based on the separating hyperplane in the appropriate variables."
   ]
  },
  {
   "cell_type": "code",
   "execution_count": 23,
   "metadata": {
    "collapsed": true,
    "deletable": true,
    "editable": true
   },
   "outputs": [],
   "source": [
    "m = pulp.LpProblem(sense=pulp.LpMinimize)\n",
    "\n",
    "for x_i1, x_i2, y_i, e_i in zip(x1, x2, y, errors):\n",
    "    m += y_i * (b + w1 * x_i1 + w2 * x_i2) >= (1 - e_i)"
   ]
  },
  {
   "cell_type": "markdown",
   "metadata": {
    "deletable": true,
    "editable": true,
    "slideshow": {
     "slide_type": "subslide"
    }
   },
   "source": [
    "So far the model represents the feasible region of all possible separating hyperplanes.\n",
    "\n",
    "We want the _best_ one."
   ]
  },
  {
   "cell_type": "code",
   "execution_count": 24,
   "metadata": {
    "collapsed": false,
    "deletable": true,
    "editable": true
   },
   "outputs": [
    {
     "name": "stdout",
     "output_type": "stream",
     "text": [
      "b = -4.5736166\n",
      "w = [0.90999981, -0.75235816]\n"
     ]
    }
   ],
   "source": [
    "m.setObjective(sum(errors))\n",
    "assert m.solve() == pulp.LpStatusOptimal\n",
    "\n",
    "print('b =', b.value())\n",
    "print('w =', [w1.value(), w2.value()])"
   ]
  },
  {
   "cell_type": "markdown",
   "metadata": {
    "deletable": true,
    "editable": true,
    "slideshow": {
     "slide_type": "subslide"
    }
   },
   "source": [
    "We don't have a predict function, so let's build one."
   ]
  },
  {
   "cell_type": "code",
   "execution_count": 25,
   "metadata": {
    "collapsed": false,
    "deletable": true,
    "editable": true
   },
   "outputs": [
    {
     "name": "stdout",
     "output_type": "stream",
     "text": [
      "confusion matrix:\n"
     ]
    },
    {
     "data": {
      "text/plain": [
       "array([[118,   5],\n",
       "       [  5,  22]])"
      ]
     },
     "execution_count": 25,
     "metadata": {},
     "output_type": "execute_result"
    }
   ],
   "source": [
    "def classify(xi_1, xi_2):\n",
    "    if b.value() + (w1.value() * xi_1) + (w2.value() * xi_2) >= 0:\n",
    "        return +1\n",
    "    return -1\n",
    "\n",
    "y_hat = [classify(xi_1, xi_2) for xi_1, xi_2 in zip(x1, x2)]\n",
    "\n",
    "print('confusion matrix:')\n",
    "metrics.confusion_matrix(y_true=y, y_pred=y_hat)"
   ]
  },
  {
   "cell_type": "markdown",
   "metadata": {
    "deletable": true,
    "editable": true,
    "slideshow": {
     "slide_type": "subslide"
    }
   },
   "source": [
    "How'd the linear optimizer do?"
   ]
  },
  {
   "cell_type": "code",
   "execution_count": 26,
   "metadata": {
    "collapsed": false,
    "deletable": true,
    "editable": true
   },
   "outputs": [
    {
     "data": {
      "text/html": [
       "\n",
       "\n",
       "    <div class=\"bk-root\">\n",
       "        <div class=\"bk-plotdiv\" id=\"b12de1ec-3c65-4c97-bb4d-5d98344f9d6a\"></div>\n",
       "    </div>\n",
       "<script type=\"text/javascript\">\n",
       "  \n",
       "  (function(global) {\n",
       "    function now() {\n",
       "      return new Date();\n",
       "    }\n",
       "  \n",
       "    var force = false;\n",
       "  \n",
       "    if (typeof (window._bokeh_onload_callbacks) === \"undefined\" || force === true) {\n",
       "      window._bokeh_onload_callbacks = [];\n",
       "      window._bokeh_is_loading = undefined;\n",
       "    }\n",
       "  \n",
       "  \n",
       "    \n",
       "    if (typeof (window._bokeh_timeout) === \"undefined\" || force === true) {\n",
       "      window._bokeh_timeout = Date.now() + 0;\n",
       "      window._bokeh_failed_load = false;\n",
       "    }\n",
       "  \n",
       "    var NB_LOAD_WARNING = {'data': {'text/html':\n",
       "       \"<div style='background-color: #fdd'>\\n\"+\n",
       "       \"<p>\\n\"+\n",
       "       \"BokehJS does not appear to have successfully loaded. If loading BokehJS from CDN, this \\n\"+\n",
       "       \"may be due to a slow or bad network connection. Possible fixes:\\n\"+\n",
       "       \"</p>\\n\"+\n",
       "       \"<ul>\\n\"+\n",
       "       \"<li>re-rerun `output_notebook()` to attempt to load from CDN again, or</li>\\n\"+\n",
       "       \"<li>use INLINE resources instead, as so:</li>\\n\"+\n",
       "       \"</ul>\\n\"+\n",
       "       \"<code>\\n\"+\n",
       "       \"from bokeh.resources import INLINE\\n\"+\n",
       "       \"output_notebook(resources=INLINE)\\n\"+\n",
       "       \"</code>\\n\"+\n",
       "       \"</div>\"}};\n",
       "  \n",
       "    function display_loaded() {\n",
       "      if (window.Bokeh !== undefined) {\n",
       "        document.getElementById(\"b12de1ec-3c65-4c97-bb4d-5d98344f9d6a\").textContent = \"BokehJS successfully loaded.\";\n",
       "      } else if (Date.now() < window._bokeh_timeout) {\n",
       "        setTimeout(display_loaded, 100)\n",
       "      }\n",
       "    }\n",
       "  \n",
       "    function run_callbacks() {\n",
       "      window._bokeh_onload_callbacks.forEach(function(callback) { callback() });\n",
       "      delete window._bokeh_onload_callbacks\n",
       "      console.info(\"Bokeh: all callbacks have finished\");\n",
       "    }\n",
       "  \n",
       "    function load_libs(js_urls, callback) {\n",
       "      window._bokeh_onload_callbacks.push(callback);\n",
       "      if (window._bokeh_is_loading > 0) {\n",
       "        console.log(\"Bokeh: BokehJS is being loaded, scheduling callback at\", now());\n",
       "        return null;\n",
       "      }\n",
       "      if (js_urls == null || js_urls.length === 0) {\n",
       "        run_callbacks();\n",
       "        return null;\n",
       "      }\n",
       "      console.log(\"Bokeh: BokehJS not loaded, scheduling load and callback at\", now());\n",
       "      window._bokeh_is_loading = js_urls.length;\n",
       "      for (var i = 0; i < js_urls.length; i++) {\n",
       "        var url = js_urls[i];\n",
       "        var s = document.createElement('script');\n",
       "        s.src = url;\n",
       "        s.async = false;\n",
       "        s.onreadystatechange = s.onload = function() {\n",
       "          window._bokeh_is_loading--;\n",
       "          if (window._bokeh_is_loading === 0) {\n",
       "            console.log(\"Bokeh: all BokehJS libraries loaded\");\n",
       "            run_callbacks()\n",
       "          }\n",
       "        };\n",
       "        s.onerror = function() {\n",
       "          console.warn(\"failed to load library \" + url);\n",
       "        };\n",
       "        console.log(\"Bokeh: injecting script tag for BokehJS library: \", url);\n",
       "        document.getElementsByTagName(\"head\")[0].appendChild(s);\n",
       "      }\n",
       "    };var element = document.getElementById(\"b12de1ec-3c65-4c97-bb4d-5d98344f9d6a\");\n",
       "    if (element == null) {\n",
       "      console.log(\"Bokeh: ERROR: autoload.js configured with elementid 'b12de1ec-3c65-4c97-bb4d-5d98344f9d6a' but no matching script tag was found. \")\n",
       "      return false;\n",
       "    }\n",
       "  \n",
       "    var js_urls = [];\n",
       "  \n",
       "    var inline_js = [\n",
       "      function(Bokeh) {\n",
       "        (function() {\n",
       "          var fn = function() {\n",
       "            var docs_json = {\"b7fa6789-df30-474f-8210-a2b8449b18e9\":{\"roots\":{\"references\":[{\"attributes\":{\"fill_alpha\":{\"value\":0.7},\"fill_color\":{\"value\":\"darkred\"},\"line_color\":{\"value\":\"darkred\"},\"size\":{\"units\":\"screen\",\"value\":8},\"x\":{\"field\":\"x_values\"},\"y\":{\"field\":\"y_values\"}},\"id\":\"60edfdf6-2455-42e3-83bc-5ec0ee191b7d\",\"type\":\"Square\"},{\"attributes\":{\"data_source\":{\"id\":\"9820301e-f5e6-4e80-a51c-628966583fe7\",\"type\":\"ColumnDataSource\"},\"glyph\":{\"id\":\"f8b154bb-53f7-4bd0-8bf3-3d0cfd9fc950\",\"type\":\"Circle\"},\"hover_glyph\":null,\"nonselection_glyph\":null,\"selection_glyph\":null},\"id\":\"38141229-a0b8-4e57-87e2-4cdbc0980c98\",\"type\":\"GlyphRenderer\"},{\"attributes\":{\"dimension\":1,\"plot\":{\"id\":\"d58673e3-b45e-471b-80d7-94522a051c7a\",\"subtype\":\"Chart\",\"type\":\"Plot\"},\"ticker\":{\"id\":\"c21337f5-f2da-4948-942b-a827923ad0fe\",\"type\":\"BasicTicker\"}},\"id\":\"6e782d83-154a-4c46-b9c0-e58fece2e975\",\"type\":\"Grid\"},{\"attributes\":{\"below\":[{\"id\":\"aca3077b-c06e-4cd9-bcf5-167db6d476ac\",\"type\":\"LinearAxis\"}],\"css_classes\":null,\"height\":400,\"left\":[{\"id\":\"aa1a1e57-7cd7-47bf-9821-04facd2dd26a\",\"type\":\"LinearAxis\"}],\"renderers\":[{\"id\":\"71bdeede-efb7-4823-91ac-0a45b23824a8\",\"type\":\"BoxAnnotation\"},{\"id\":\"38141229-a0b8-4e57-87e2-4cdbc0980c98\",\"type\":\"GlyphRenderer\"},{\"id\":\"f3bd6818-8c27-4e6a-b176-b29f733e3e07\",\"type\":\"GlyphRenderer\"},{\"id\":\"f80e7c50-34b5-4e0e-bec5-1b9dca4bf4af\",\"type\":\"Legend\"},{\"id\":\"aca3077b-c06e-4cd9-bcf5-167db6d476ac\",\"type\":\"LinearAxis\"},{\"id\":\"aa1a1e57-7cd7-47bf-9821-04facd2dd26a\",\"type\":\"LinearAxis\"},{\"id\":\"06e5c0ea-10ff-4d75-9d1e-049558cec05d\",\"type\":\"Grid\"},{\"id\":\"6e782d83-154a-4c46-b9c0-e58fece2e975\",\"type\":\"Grid\"},{\"id\":\"927b0e9c-c2fa-43d6-8d1a-8b565513cfa1\",\"type\":\"GlyphRenderer\"}],\"title\":{\"id\":\"e071f40e-0618-4bb9-80a3-edb5614ecdd8\",\"type\":\"Title\"},\"tool_events\":{\"id\":\"b7076a66-03e3-4394-b351-6ed0716e593f\",\"type\":\"ToolEvents\"},\"toolbar\":{\"id\":\"861d03b5-9784-49a6-b924-6cc0b6b658dc\",\"type\":\"Toolbar\"},\"width\":750,\"x_mapper_type\":\"auto\",\"x_range\":{\"id\":\"53cb8167-9771-43d3-9ad8-bbaac8e641e7\",\"type\":\"Range1d\"},\"y_mapper_type\":\"auto\",\"y_range\":{\"id\":\"3225d23e-d754-4229-9626-27a8571412ea\",\"type\":\"Range1d\"}},\"id\":\"d58673e3-b45e-471b-80d7-94522a051c7a\",\"subtype\":\"Chart\",\"type\":\"Plot\"},{\"attributes\":{},\"id\":\"9307b76a-ce4a-4e6d-bf0a-175af4e3ce11\",\"type\":\"BasicTickFormatter\"},{\"attributes\":{\"line_color\":{\"value\":\"darkblue\"},\"x\":{\"field\":\"x\"},\"y\":{\"field\":\"y\"}},\"id\":\"7f76a35b-c5f6-4e1e-8369-dd204749be4b\",\"type\":\"Line\"},{\"attributes\":{},\"id\":\"2f2c285d-3110-443e-b774-1aec64f2be3f\",\"type\":\"BasicTickFormatter\"},{\"attributes\":{\"plot\":{\"id\":\"d58673e3-b45e-471b-80d7-94522a051c7a\",\"subtype\":\"Chart\",\"type\":\"Plot\"},\"ticker\":{\"id\":\"ac1ae8d1-c5f8-4375-8963-d634f25fe717\",\"type\":\"BasicTicker\"}},\"id\":\"06e5c0ea-10ff-4d75-9d1e-049558cec05d\",\"type\":\"Grid\"},{\"attributes\":{\"plot\":null,\"text\":null},\"id\":\"e071f40e-0618-4bb9-80a3-edb5614ecdd8\",\"type\":\"Title\"},{\"attributes\":{\"data_source\":{\"id\":\"8055947b-852b-4210-a1e5-3e26a910e7b3\",\"type\":\"ColumnDataSource\"},\"glyph\":{\"id\":\"60edfdf6-2455-42e3-83bc-5ec0ee191b7d\",\"type\":\"Square\"},\"hover_glyph\":null,\"nonselection_glyph\":null,\"selection_glyph\":null},\"id\":\"f3bd6818-8c27-4e6a-b176-b29f733e3e07\",\"type\":\"GlyphRenderer\"},{\"attributes\":{\"active_drag\":\"auto\",\"active_scroll\":\"auto\",\"active_tap\":\"auto\",\"tools\":[{\"id\":\"5347399b-ed70-4dda-b788-4bbb451bf656\",\"type\":\"PanTool\"},{\"id\":\"efaec06a-80cc-4d62-a60a-b7254d9141bc\",\"type\":\"WheelZoomTool\"},{\"id\":\"ee2fcfa2-6386-4566-9db9-2074e61cad5e\",\"type\":\"BoxZoomTool\"},{\"id\":\"fc4b2560-49a7-4a92-9a9c-2ab1fd7d7b55\",\"type\":\"SaveTool\"},{\"id\":\"f58089ff-7b03-4d54-bd57-0c9ae1ac9c09\",\"type\":\"ResetTool\"},{\"id\":\"6868ed88-5079-4fca-a67b-a4c3a18ac355\",\"type\":\"HelpTool\"}]},\"id\":\"861d03b5-9784-49a6-b924-6cc0b6b658dc\",\"type\":\"Toolbar\"},{\"attributes\":{\"callback\":null,\"end\":10.726698385638493,\"start\":-0.9351756280679302},\"id\":\"3225d23e-d754-4229-9626-27a8571412ea\",\"type\":\"Range1d\"},{\"attributes\":{\"bottom_units\":\"screen\",\"fill_alpha\":{\"value\":0.5},\"fill_color\":{\"value\":\"lightgrey\"},\"left_units\":\"screen\",\"level\":\"overlay\",\"line_alpha\":{\"value\":1.0},\"line_color\":{\"value\":\"black\"},\"line_dash\":[4,4],\"line_width\":{\"value\":2},\"plot\":null,\"render_mode\":\"css\",\"right_units\":\"screen\",\"top_units\":\"screen\"},\"id\":\"71bdeede-efb7-4823-91ac-0a45b23824a8\",\"type\":\"BoxAnnotation\"},{\"attributes\":{},\"id\":\"c21337f5-f2da-4948-942b-a827923ad0fe\",\"type\":\"BasicTicker\"},{\"attributes\":{\"fill_alpha\":{\"value\":0.7},\"fill_color\":{\"value\":\"lightgrey\"},\"line_color\":{\"value\":\"lightgrey\"},\"size\":{\"units\":\"screen\",\"value\":8},\"x\":{\"field\":\"x_values\"},\"y\":{\"field\":\"y_values\"}},\"id\":\"f8b154bb-53f7-4bd0-8bf3-3d0cfd9fc950\",\"type\":\"Circle\"},{\"attributes\":{\"label\":{\"value\":\"Incorrect\"},\"renderers\":[{\"id\":\"f3bd6818-8c27-4e6a-b176-b29f733e3e07\",\"type\":\"GlyphRenderer\"}]},\"id\":\"3a0e6442-d80a-4135-9146-80a4361c40ae\",\"type\":\"LegendItem\"},{\"attributes\":{\"plot\":{\"id\":\"d58673e3-b45e-471b-80d7-94522a051c7a\",\"subtype\":\"Chart\",\"type\":\"Plot\"}},\"id\":\"5347399b-ed70-4dda-b788-4bbb451bf656\",\"type\":\"PanTool\"},{\"attributes\":{},\"id\":\"b7076a66-03e3-4394-b351-6ed0716e593f\",\"type\":\"ToolEvents\"},{\"attributes\":{\"line_alpha\":{\"value\":0.1},\"line_color\":{\"value\":\"#1f77b4\"},\"x\":{\"field\":\"x\"},\"y\":{\"field\":\"y\"}},\"id\":\"f58f8031-1a29-4105-b424-774b2edfc937\",\"type\":\"Line\"},{\"attributes\":{\"axis_label\":\"x2\",\"formatter\":{\"id\":\"9307b76a-ce4a-4e6d-bf0a-175af4e3ce11\",\"type\":\"BasicTickFormatter\"},\"plot\":{\"id\":\"d58673e3-b45e-471b-80d7-94522a051c7a\",\"subtype\":\"Chart\",\"type\":\"Plot\"},\"ticker\":{\"id\":\"c21337f5-f2da-4948-942b-a827923ad0fe\",\"type\":\"BasicTicker\"}},\"id\":\"aa1a1e57-7cd7-47bf-9821-04facd2dd26a\",\"type\":\"LinearAxis\"},{\"attributes\":{\"items\":[{\"id\":\"276f2125-4716-48dc-a009-bfed98be5aec\",\"type\":\"LegendItem\"},{\"id\":\"3a0e6442-d80a-4135-9146-80a4361c40ae\",\"type\":\"LegendItem\"}],\"location\":\"top_left\",\"plot\":{\"id\":\"d58673e3-b45e-471b-80d7-94522a051c7a\",\"subtype\":\"Chart\",\"type\":\"Plot\"}},\"id\":\"f80e7c50-34b5-4e0e-bec5-1b9dca4bf4af\",\"type\":\"Legend\"},{\"attributes\":{\"plot\":{\"id\":\"d58673e3-b45e-471b-80d7-94522a051c7a\",\"subtype\":\"Chart\",\"type\":\"Plot\"}},\"id\":\"fc4b2560-49a7-4a92-9a9c-2ab1fd7d7b55\",\"type\":\"SaveTool\"},{\"attributes\":{\"plot\":{\"id\":\"d58673e3-b45e-471b-80d7-94522a051c7a\",\"subtype\":\"Chart\",\"type\":\"Plot\"}},\"id\":\"f58089ff-7b03-4d54-bd57-0c9ae1ac9c09\",\"type\":\"ResetTool\"},{\"attributes\":{\"callback\":null,\"end\":10.995207692512583,\"start\":-0.9720812108144328},\"id\":\"53cb8167-9771-43d3-9ad8-bbaac8e641e7\",\"type\":\"Range1d\"},{\"attributes\":{\"plot\":{\"id\":\"d58673e3-b45e-471b-80d7-94522a051c7a\",\"subtype\":\"Chart\",\"type\":\"Plot\"}},\"id\":\"6868ed88-5079-4fca-a67b-a4c3a18ac355\",\"type\":\"HelpTool\"},{\"attributes\":{\"axis_label\":\"x1\",\"formatter\":{\"id\":\"2f2c285d-3110-443e-b774-1aec64f2be3f\",\"type\":\"BasicTickFormatter\"},\"plot\":{\"id\":\"d58673e3-b45e-471b-80d7-94522a051c7a\",\"subtype\":\"Chart\",\"type\":\"Plot\"},\"ticker\":{\"id\":\"ac1ae8d1-c5f8-4375-8963-d634f25fe717\",\"type\":\"BasicTicker\"}},\"id\":\"aca3077b-c06e-4cd9-bcf5-167db6d476ac\",\"type\":\"LinearAxis\"},{\"attributes\":{\"callback\":null,\"column_names\":[\"x\",\"y\"],\"data\":{\"x\":{\"__ndarray__\":\"AAAAAAAAAACIxvrQWB/KP4jG+tBYH9o/5hS8nIKX4z+IxvrQWB/qPxW8nIKXU/A/5hS8nIKX8z+3bdu2bdv2P4jG+tBYH/o/WR8a60Nj/T8VvJyCl1MAQH5orA+N9QFA5hS8nIKXA0BOwcspeDkFQLdt27Zt2wZAIBrrQ2N9CECIxvrQWB8KQPByCl5OwQtAWR8a60NjDUDCyyl4OQUPQBW8nIKXUxBASZIkSZIkEUB+aKwPjfURQLI+NNaHxhJA5hS8nIKXE0Aa60NjfWgUQE7Byyl4ORVAg5dT8HIKFkC3bdu2bdsWQOtDY31orBdAIBrrQ2N9GEBU8HIKXk4ZQIjG+tBYHxpAvJyCl1PwGkDwcgpeTsEbQCVJkiRJkhxAWR8a60NjHUCN9aGxPjQeQMLLKXg5BR9A9qGxPjTWH0AVvJyCl1MgQC+n4OUUvCBASZIkSZIkIUBjfWisD40hQH5orA+N9SFAmFPwcgpeIkCyPjTWh8YiQMwpeDkFLyNA5hS8nIKXI0AAAAAAAAAkQA==\",\"dtype\":\"float64\",\"shape\":[50]},\"y\":[-5.7362435803162235,-5.4968760614419265,-5.25750854256763,-5.018141023693333,-4.778773504819036,-4.5394059859447395,-4.300038467070443,-4.0606709481961465,-3.8213034293218495,-3.5819359104475526,-3.3425683915732556,-3.1032008726989586,-2.8638333538246625,-2.624465834950366,-2.385098316076069,-2.145730797201772,-1.9063632783274755,-1.6669957594531792,-1.4276282405788816,-1.1882607217045846,-0.9488932028302883,-0.709525683955992,-0.4701581650816944,-0.23079064620739806,0.008576872666898256,0.24794439154119458,0.48731191041549154,0.7266794292897885,0.9660469481640854,1.2054144670383824,1.4447819859126794,1.6841495047869763,1.923517023661272,2.162884542535569,2.4022520614098646,2.641619580284163,2.88098709915846,3.1203546180327555,3.359722136907054,3.5990896557813494,3.8384571746556464,4.0778246935299425,4.3171922124042394,4.556559731278536,4.795927250152834,5.035294769027131,5.274662287901427,5.514029806775724,5.7533973256500195,5.992764844524317]}},\"id\":\"b9d30699-f347-44a2-b350-6cbdf016c3b4\",\"type\":\"ColumnDataSource\"},{\"attributes\":{},\"id\":\"ac1ae8d1-c5f8-4375-8963-d634f25fe717\",\"type\":\"BasicTicker\"},{\"attributes\":{\"callback\":null,\"column_names\":[\"x_values\",\"y_values\"],\"data\":{\"chart_index\":[{\"correct\":\"Correct\"},{\"correct\":\"Correct\"},{\"correct\":\"Correct\"},{\"correct\":\"Correct\"},{\"correct\":\"Correct\"},{\"correct\":\"Correct\"},{\"correct\":\"Correct\"},{\"correct\":\"Correct\"},{\"correct\":\"Correct\"},{\"correct\":\"Correct\"},{\"correct\":\"Correct\"},{\"correct\":\"Correct\"},{\"correct\":\"Correct\"},{\"correct\":\"Correct\"},{\"correct\":\"Correct\"},{\"correct\":\"Correct\"},{\"correct\":\"Correct\"},{\"correct\":\"Correct\"},{\"correct\":\"Correct\"},{\"correct\":\"Correct\"},{\"correct\":\"Correct\"},{\"correct\":\"Correct\"},{\"correct\":\"Correct\"},{\"correct\":\"Correct\"},{\"correct\":\"Correct\"},{\"correct\":\"Correct\"},{\"correct\":\"Correct\"},{\"correct\":\"Correct\"},{\"correct\":\"Correct\"},{\"correct\":\"Correct\"},{\"correct\":\"Correct\"},{\"correct\":\"Correct\"},{\"correct\":\"Correct\"},{\"correct\":\"Correct\"},{\"correct\":\"Correct\"},{\"correct\":\"Correct\"},{\"correct\":\"Correct\"},{\"correct\":\"Correct\"},{\"correct\":\"Correct\"},{\"correct\":\"Correct\"},{\"correct\":\"Correct\"},{\"correct\":\"Correct\"},{\"correct\":\"Correct\"},{\"correct\":\"Correct\"},{\"correct\":\"Correct\"},{\"correct\":\"Correct\"},{\"correct\":\"Correct\"},{\"correct\":\"Correct\"},{\"correct\":\"Correct\"},{\"correct\":\"Correct\"},{\"correct\":\"Correct\"},{\"correct\":\"Correct\"},{\"correct\":\"Correct\"},{\"correct\":\"Correct\"},{\"correct\":\"Correct\"},{\"correct\":\"Correct\"},{\"correct\":\"Correct\"},{\"correct\":\"Correct\"},{\"correct\":\"Correct\"},{\"correct\":\"Correct\"},{\"correct\":\"Correct\"},{\"correct\":\"Correct\"},{\"correct\":\"Correct\"},{\"correct\":\"Correct\"},{\"correct\":\"Correct\"},{\"correct\":\"Correct\"},{\"correct\":\"Correct\"},{\"correct\":\"Correct\"},{\"correct\":\"Correct\"},{\"correct\":\"Correct\"},{\"correct\":\"Correct\"},{\"correct\":\"Correct\"},{\"correct\":\"Correct\"},{\"correct\":\"Correct\"},{\"correct\":\"Correct\"},{\"correct\":\"Correct\"},{\"correct\":\"Correct\"},{\"correct\":\"Correct\"},{\"correct\":\"Correct\"},{\"correct\":\"Correct\"},{\"correct\":\"Correct\"},{\"correct\":\"Correct\"},{\"correct\":\"Correct\"},{\"correct\":\"Correct\"},{\"correct\":\"Correct\"},{\"correct\":\"Correct\"},{\"correct\":\"Correct\"},{\"correct\":\"Correct\"},{\"correct\":\"Correct\"},{\"correct\":\"Correct\"},{\"correct\":\"Correct\"},{\"correct\":\"Correct\"},{\"correct\":\"Correct\"},{\"correct\":\"Correct\"},{\"correct\":\"Correct\"},{\"correct\":\"Correct\"},{\"correct\":\"Correct\"},{\"correct\":\"Correct\"},{\"correct\":\"Correct\"},{\"correct\":\"Correct\"},{\"correct\":\"Correct\"},{\"correct\":\"Correct\"},{\"correct\":\"Correct\"},{\"correct\":\"Correct\"},{\"correct\":\"Correct\"},{\"correct\":\"Correct\"},{\"correct\":\"Correct\"},{\"correct\":\"Correct\"},{\"correct\":\"Correct\"},{\"correct\":\"Correct\"},{\"correct\":\"Correct\"},{\"correct\":\"Correct\"},{\"correct\":\"Correct\"},{\"correct\":\"Correct\"},{\"correct\":\"Correct\"},{\"correct\":\"Correct\"},{\"correct\":\"Correct\"},{\"correct\":\"Correct\"},{\"correct\":\"Correct\"},{\"correct\":\"Correct\"},{\"correct\":\"Correct\"},{\"correct\":\"Correct\"},{\"correct\":\"Correct\"},{\"correct\":\"Correct\"},{\"correct\":\"Correct\"},{\"correct\":\"Correct\"},{\"correct\":\"Correct\"},{\"correct\":\"Correct\"},{\"correct\":\"Correct\"},{\"correct\":\"Correct\"},{\"correct\":\"Correct\"},{\"correct\":\"Correct\"},{\"correct\":\"Correct\"},{\"correct\":\"Correct\"},{\"correct\":\"Correct\"},{\"correct\":\"Correct\"},{\"correct\":\"Correct\"},{\"correct\":\"Correct\"},{\"correct\":\"Correct\"},{\"correct\":\"Correct\"}],\"correct\":[\"Correct\",\"Correct\",\"Correct\",\"Correct\",\"Correct\",\"Correct\",\"Correct\",\"Correct\",\"Correct\",\"Correct\",\"Correct\",\"Correct\",\"Correct\",\"Correct\",\"Correct\",\"Correct\",\"Correct\",\"Correct\",\"Correct\",\"Correct\",\"Correct\",\"Correct\",\"Correct\",\"Correct\",\"Correct\",\"Correct\",\"Correct\",\"Correct\",\"Correct\",\"Correct\",\"Correct\",\"Correct\",\"Correct\",\"Correct\",\"Correct\",\"Correct\",\"Correct\",\"Correct\",\"Correct\",\"Correct\",\"Correct\",\"Correct\",\"Correct\",\"Correct\",\"Correct\",\"Correct\",\"Correct\",\"Correct\",\"Correct\",\"Correct\",\"Correct\",\"Correct\",\"Correct\",\"Correct\",\"Correct\",\"Correct\",\"Correct\",\"Correct\",\"Correct\",\"Correct\",\"Correct\",\"Correct\",\"Correct\",\"Correct\",\"Correct\",\"Correct\",\"Correct\",\"Correct\",\"Correct\",\"Correct\",\"Correct\",\"Correct\",\"Correct\",\"Correct\",\"Correct\",\"Correct\",\"Correct\",\"Correct\",\"Correct\",\"Correct\",\"Correct\",\"Correct\",\"Correct\",\"Correct\",\"Correct\",\"Correct\",\"Correct\",\"Correct\",\"Correct\",\"Correct\",\"Correct\",\"Correct\",\"Correct\",\"Correct\",\"Correct\",\"Correct\",\"Correct\",\"Correct\",\"Correct\",\"Correct\",\"Correct\",\"Correct\",\"Correct\",\"Correct\",\"Correct\",\"Correct\",\"Correct\",\"Correct\",\"Correct\",\"Correct\",\"Correct\",\"Correct\",\"Correct\",\"Correct\",\"Correct\",\"Correct\",\"Correct\",\"Correct\",\"Correct\",\"Correct\",\"Correct\",\"Correct\",\"Correct\",\"Correct\",\"Correct\",\"Correct\",\"Correct\",\"Correct\",\"Correct\",\"Correct\",\"Correct\",\"Correct\",\"Correct\",\"Correct\",\"Correct\",\"Correct\",\"Correct\",\"Correct\",\"Correct\",\"Correct\"],\"x_values\":{\"__ndarray__\":\"icQ52olRIUBJLgDF9ecCQBqA5XoH2xVATiEvegTr4D8+q54e2ukTQBpbNNSsgABANUweqAQ8+D9tnwGE9dnxP3w62a8LKN4/co2S1VrP7T9pJJ4ydhwgQMvAwx7mzApAEwYh1DfqIUA+cP7mVAAhQMyqhVnvkdk/nP48DSSP1z/EAdgdOP0jQB0VRNLnGAFAwPIrNcmOFkAo84Mv8VcHQHiezGQigs0/Bm0SSOMjIUAzrx0jV7H/P3SJtq9zkBJAoqKiUd8RE0AVXBAzDsb8PySQoHA7XB5AnbNRq7OgE0C34DxyAt8IQOpEQt1uuyBA53s8vy18FEAC7SYd3LsIQL7sixONOyBAokqhHZsABkCtBMPv1vMRQF+i++7CDSNASbx7y8z9EEDYpMzwP8zIP7ALJxkspR1A9aOUrV5aIkBwqFTyTKm4P4aFgo7fNBdAXL4Ew6Ml0z8gScXe6+UYQNhl0v8ZmxlA3GWIai3dA0CscKUg6ZzkP8DRWv3uUBlAjXaHlnC5EkC1z3ejU7IcQFSw1sm4WRdAdAl/UDyN0T96tY3Nij4cQLgskCKi9xlA7JV/V0aVEEBPRf11Q1MgQKLnKVBoHSBACDnaSiLYIUDTnARFqZAaQEBq14MozJk/EJ5YPvVLE0Ct9vvvaR8gQOzuna0Wk+s/sNR11uRjBkCQ1XsFbr7eP2SzYJ6FHwdA1HwbzwDEDUDUYbS6eD0jQEMRKtNrzAFAF8LQQ4vL+j+fNbMn8f4jQB/dRDn8mAhAEi4WQTtAAEAMimpV4s0RQFZtQoNwpRtA8OFrGKSwCEC+kKJQwRLyPz/yUeVQWxJAqjrZAyCbE0CswApALvQIQKXb2BZAixlA2JMxCCfeE0CLA6cUPB4iQJ11Jqku6v0/aJEo7f2RI0DjoACzMkIXQLxseGCR8BZADPvVMQ0nCkBVmBjQoTQTQPjfNt0BchVAe2QrDy6a+D9ZSdkjeFQXQLI27f0fqBhAOhrjC5+kB0D2XxTe1nAhQC8hxFehoSNAxlFpq69/8j9oMKMkKPoGQERbmbi5qyNAukoulgyU7T8dEG49qV8fQESr/A6bkyFANhQ1fb6NEUDHIXrlIs8hQB4kHj+ukCFAKlQjSS2ZEkDgiigZOX8XQDilB87gviBA+BHLotwqBECI49Y1hX0gQEtR5s/m6RxADAw2fIn+EUDRLe1wwssgQGB7mRLZ9fI/fqR9VirEGUDJX+wG93YbQH2wkExZkCJAeADenr7G1j8jRG2/V0ciQIcdRFlMECBApEJ2CV1YEUC20gPpgYwXQOYE8UmRQQtATbz0blmI9T9ALJdCgXuyP1SxJUEqqhNAgGRiBfxwFEAsGu8PWBYZQPQwYbo40SFAbnbN2c6hAECZ5ue18N8LQBlDSaiHDRlArSk6uChN8T/fK5r+GPceQI6u5jIEJvs/flOcThA0IkDqlzw6jyoEQATwT5ldtOA/4bpnker+EUAukHiH3twOQA==\",\"dtype\":\"float64\",\"shape\":[140]},\"y_values\":{\"__ndarray__\":\"jAXTXBP8DUDiet+ygPcVQLbv1mFGwwpAdn8KyJ12HkCR0SmaUFYVQNU5HidS3iJAI5L2qC40IkBSZM/wY8IQQL4BT12sAAdAu+1TDvP5EEDoEuaRNWoNQG17SjtiXhJAqmjjHiLXDkDoJ6kXCLcCQMKa4D8qqxJA5CWnDfjyHEDlVnrKY7YOQI8tPVuf4xNABe8VHfrwIkCyzuU3m83rP/p1Rjp7iyFAAXUuy8ob/T8xpBpo5A0QQJQNdgLnsxBAdScaWCJ9FkCMZoMhzLwiQBCpjGp4vhJA+DGgqMIKIkD8cMg6QWsaQJLIcEe+/SBArT5aWT0rH0Be0cVls3AOQAhvwx7+CsE//wPRHJeSIUAFqePM1h8fQCOAYmrcnv4/LoDTNz4BC0AYDuiTOnAMQIzLwoQyYhBAqKRvN2zeIEBgpz2/KdrVP0xwrrv94R5A6sY6R39+G0DQJ5taPt2+Py1tCO1rewpACi5WHVSUF0BXYm6VFnwfQMwmyVZUYCNAWpTm4EkCEkAkDZk/Y+UTQCCTZyZTpx1AYDy7aUsKGkDEs1mVvuwPQLwHsZPUYu8/jI3UaLk0GkBW9hwclb8SQBEYQ2ePzfA/4ATEPqgJI0CMDtpQcEMKQCxap711yhxAedYHKfukIEAR+2GE5F0hQBZ/v73DShdAVEFpYGu3GkAFKWi/mikeQJ5iuuRtVBpAvk1146bcGkAQPHkfYLnFPxoraJBmiBlAgFYFMmzDoj+g6Yig3ezDPz5kEgt5FBVAd+RpgayAHkAbxxZrSLAaQGVFMJvJAR5AZHbUlQUnEkDIHXRWnmkRQL7aZKhCU+Q/AvRb4ABlEkAaB3Yp/CwgQN4X81SVzBNA+pZZDH+CI0B01vofeaMiQGqMd3Qm4hFAWdYFNRrQDkA+q0GeUlYjQBaZQLvLSB5AfTGCjBeRIEC2dA+99g0hQDMzqCdOJQVAS3MNflm9FkAm8DoT5LsdQGK0k4Fk+iJA7qyn9iSV8T+0O1rCcR0JQEvFtRktqiBAvBBIc8Sb3D8Qo4DelowgQFbIGfNC0v4/8K8nUNNc1z+G9qlfuyQAQIw1ssIHZiNAgyrerzjT9z9gY/FJ6C8gQIZcUM0FqiBApxTXNTo3G0B9+nyqHzwdQAysmsDtTwtA+jObHqdFGkBwR7cqPFoYQDlrgroobyJATkvoGiNlB0DYBITR21gWQIRi1PV9TPY/nmhMFWapHUDhAquXnZ0aQLxA1kTxVNU/THrypGFGH0C25eV9oeQeQMQoNIGOiN4/JwJuv3UUGUDkLIlTuvkgQOJq3g5QIQBAurBPxqobC0Dw1k2h41QUQBBUdhsBTSNAOKLNH1WZHkDcDD77lPbqP4Q2A/IBPNw/nIpMKOxA+T98cy89E8rRP2KZCNiGtAVAIlrxEeUPAEAm6JYd6zAiQM+8Mum+LBNAdOPX34ULBkBlmKA0rfIZQMHsZ7Hq6/s/DOGycbMAEECbVxcN560CQA==\",\"dtype\":\"float64\",\"shape\":[140]}}},\"id\":\"9820301e-f5e6-4e80-a51c-628966583fe7\",\"type\":\"ColumnDataSource\"},{\"attributes\":{\"label\":{\"value\":\"Correct\"},\"renderers\":[{\"id\":\"38141229-a0b8-4e57-87e2-4cdbc0980c98\",\"type\":\"GlyphRenderer\"}]},\"id\":\"276f2125-4716-48dc-a009-bfed98be5aec\",\"type\":\"LegendItem\"},{\"attributes\":{\"data_source\":{\"id\":\"b9d30699-f347-44a2-b350-6cbdf016c3b4\",\"type\":\"ColumnDataSource\"},\"glyph\":{\"id\":\"7f76a35b-c5f6-4e1e-8369-dd204749be4b\",\"type\":\"Line\"},\"hover_glyph\":null,\"nonselection_glyph\":{\"id\":\"f58f8031-1a29-4105-b424-774b2edfc937\",\"type\":\"Line\"},\"selection_glyph\":null},\"id\":\"927b0e9c-c2fa-43d6-8d1a-8b565513cfa1\",\"type\":\"GlyphRenderer\"},{\"attributes\":{\"plot\":{\"id\":\"d58673e3-b45e-471b-80d7-94522a051c7a\",\"subtype\":\"Chart\",\"type\":\"Plot\"}},\"id\":\"efaec06a-80cc-4d62-a60a-b7254d9141bc\",\"type\":\"WheelZoomTool\"},{\"attributes\":{\"overlay\":{\"id\":\"71bdeede-efb7-4823-91ac-0a45b23824a8\",\"type\":\"BoxAnnotation\"},\"plot\":{\"id\":\"d58673e3-b45e-471b-80d7-94522a051c7a\",\"subtype\":\"Chart\",\"type\":\"Plot\"}},\"id\":\"ee2fcfa2-6386-4566-9db9-2074e61cad5e\",\"type\":\"BoxZoomTool\"},{\"attributes\":{\"callback\":null,\"column_names\":[\"x_values\",\"y_values\"],\"data\":{\"chart_index\":[{\"correct\":\"Incorrect\"},{\"correct\":\"Incorrect\"},{\"correct\":\"Incorrect\"},{\"correct\":\"Incorrect\"},{\"correct\":\"Incorrect\"},{\"correct\":\"Incorrect\"},{\"correct\":\"Incorrect\"},{\"correct\":\"Incorrect\"},{\"correct\":\"Incorrect\"},{\"correct\":\"Incorrect\"}],\"correct\":[\"Incorrect\",\"Incorrect\",\"Incorrect\",\"Incorrect\",\"Incorrect\",\"Incorrect\",\"Incorrect\",\"Incorrect\",\"Incorrect\",\"Incorrect\"],\"x_values\":{\"__ndarray__\":\"Mt+KAsi7IUCaOeLPLQQbQNamOsNp7yBArqq91ksXE0AjtjXtJ24jQE7QMh4DPSJA2kGDOHD/IEDQd9/1EVUbQO0LugkQIx9AESq7IR/yI0A=\",\"dtype\":\"float64\",\"shape\":[10]},\"y_values\":{\"__ndarray__\":\"/sc4cKm+EEAI2EzBsIQQQJHuSjOW6xBAYHI3DFFgyj8q8Nn5OcwdQGHHex8QhBJAyIwbKU2fAkCePoBiewfzP2qfWGKHbBZA6pSRZiG1FkA=\",\"dtype\":\"float64\",\"shape\":[10]}}},\"id\":\"8055947b-852b-4210-a1e5-3e26a910e7b3\",\"type\":\"ColumnDataSource\"}],\"root_ids\":[\"d58673e3-b45e-471b-80d7-94522a051c7a\"]},\"title\":\"Bokeh Application\",\"version\":\"0.12.4\"}};\n",
       "            var render_items = [{\"docid\":\"b7fa6789-df30-474f-8210-a2b8449b18e9\",\"elementid\":\"b12de1ec-3c65-4c97-bb4d-5d98344f9d6a\",\"modelid\":\"d58673e3-b45e-471b-80d7-94522a051c7a\"}];\n",
       "            \n",
       "            Bokeh.embed.embed_items(docs_json, render_items);\n",
       "          };\n",
       "          if (document.readyState != \"loading\") fn();\n",
       "          else document.addEventListener(\"DOMContentLoaded\", fn);\n",
       "        })();\n",
       "      },\n",
       "      function(Bokeh) {\n",
       "      }\n",
       "    ];\n",
       "  \n",
       "    function run_inline_js() {\n",
       "      \n",
       "      if ((window.Bokeh !== undefined) || (force === true)) {\n",
       "        for (var i = 0; i < inline_js.length; i++) {\n",
       "          inline_js[i](window.Bokeh);\n",
       "        }if (force === true) {\n",
       "          display_loaded();\n",
       "        }} else if (Date.now() < window._bokeh_timeout) {\n",
       "        setTimeout(run_inline_js, 100);\n",
       "      } else if (!window._bokeh_failed_load) {\n",
       "        console.log(\"Bokeh: BokehJS failed to load within specified timeout.\");\n",
       "        window._bokeh_failed_load = true;\n",
       "      } else if (force !== true) {\n",
       "        var cell = $(document.getElementById(\"b12de1ec-3c65-4c97-bb4d-5d98344f9d6a\")).parents('.cell').data().cell;\n",
       "        cell.output_area.append_execute_result(NB_LOAD_WARNING)\n",
       "      }\n",
       "  \n",
       "    }\n",
       "  \n",
       "    if (window._bokeh_is_loading === 0) {\n",
       "      console.log(\"Bokeh: BokehJS loaded, going straight to plotting\");\n",
       "      run_inline_js();\n",
       "    } else {\n",
       "      load_libs(js_urls, function() {\n",
       "        console.log(\"Bokeh: BokehJS plotting callback run at\", now());\n",
       "        run_inline_js();\n",
       "      });\n",
       "    }\n",
       "  }(this));\n",
       "</script>"
      ]
     },
     "metadata": {},
     "output_type": "display_data"
    }
   ],
   "source": [
    "correct = ['Correct' if yi == yh_i else 'Incorrect' for yi, yh_i in zip(y, y_hat)]\n",
    "plot_svm_results(correct, clf.intercept_[0], clf.coef_[0][0], clf.coef_[0][1])"
   ]
  },
  {
   "cell_type": "markdown",
   "metadata": {
    "deletable": true,
    "editable": true,
    "slideshow": {
     "slide_type": "slide"
    }
   },
   "source": [
    "## Example: TODO"
   ]
  },
  {
   "cell_type": "markdown",
   "metadata": {
    "deletable": true,
    "editable": true,
    "slideshow": {
     "slide_type": "slide"
    }
   },
   "source": [
    "## Clustering\n",
    "\n",
    "We have a set of unclassified data and we want to cluster it around logical centers."
   ]
  },
  {
   "cell_type": "markdown",
   "metadata": {
    "deletable": true,
    "editable": true,
    "slideshow": {
     "slide_type": "subslide"
    }
   },
   "source": [
    "We generate 25 points around each center $(x_{10}, x_{20}) \\in \\{(0.25, 0.25), (0.30, 0.70), (0.70, 0.70)\\}$.\n",
    "\n",
    "$$x_{1i} = x_{10} + \\epsilon$$  \n",
    "  \n",
    "$$x_{2i} = x_{20} + \\epsilon$$\n",
    "  \n",
    "$$\\epsilon \\sim N\\left(0, 0.1^2\\right)$$\n"
   ]
  },
  {
   "cell_type": "code",
   "execution_count": 63,
   "metadata": {
    "collapsed": false,
    "deletable": true,
    "editable": true,
    "slideshow": {
     "slide_type": "subslide"
    }
   },
   "outputs": [
    {
     "name": "stdout",
     "output_type": "stream",
     "text": [
      "[[ 0.16961385  0.36411851]\n",
      " [ 0.29737469  0.23793085]\n",
      " [ 0.15757397  0.21184346]\n",
      " [ 0.07964538  0.22505561]\n",
      " [ 0.12515562  0.41541544]\n",
      " [ 0.20528182  0.31765827]\n",
      " [ 0.36367725  0.25412824]\n",
      " [ 0.29755469  0.56012328]\n",
      " [ 0.33705046  0.9131883 ]\n",
      " [ 0.38421215  0.62354143]\n",
      " [ 0.47591878  0.58184334]\n",
      " [ 0.20383314  0.73158754]\n",
      " [ 0.27217979  0.5199338 ]\n",
      " [ 0.29355071  0.53669217]\n",
      " [ 0.69679631  0.74496645]\n",
      " [ 0.53376476  0.68741489]\n",
      " [ 0.68788184  0.78142607]\n",
      " [ 0.87738428  0.6621332 ]\n",
      " [ 0.74802847  0.74658748]\n",
      " [ 0.72744616  0.75550145]\n",
      " [ 0.73544547  0.71722598]]\n"
     ]
    }
   ],
   "source": [
    "centers = [(0.25, 0.25), (0.30, 0.70), (0.70, 0.70)]\n",
    "\n",
    "x1 = []\n",
    "x2 = []\n",
    "for x10, x20 in centers:\n",
    "    for _ in range(7):\n",
    "        eps_x1 = random.normalvariate(0, 0.1)\n",
    "        eps_x2 = random.normalvariate(0, 0.1)\n",
    "\n",
    "        x1i = min(max(0.0, x10+eps_x1), 1.0)\n",
    "        x2i = min(max(0.0, x20+eps_x2), 1.0)\n",
    "        \n",
    "        x1.append(x1i)\n",
    "        x2.append(x2i)\n",
    "        \n",
    "X = np.array(list(zip(x1, x2)))"
   ]
  },
  {
   "cell_type": "code",
   "execution_count": 64,
   "metadata": {
    "collapsed": false,
    "deletable": true,
    "editable": true,
    "scrolled": true,
    "slideshow": {
     "slide_type": "subslide"
    }
   },
   "outputs": [
    {
     "data": {
      "text/html": [
       "\n",
       "\n",
       "    <div class=\"bk-root\">\n",
       "        <div class=\"bk-plotdiv\" id=\"20571da8-a8ef-4d3c-bf0b-2052c4a57716\"></div>\n",
       "    </div>\n",
       "<script type=\"text/javascript\">\n",
       "  \n",
       "  (function(global) {\n",
       "    function now() {\n",
       "      return new Date();\n",
       "    }\n",
       "  \n",
       "    var force = false;\n",
       "  \n",
       "    if (typeof (window._bokeh_onload_callbacks) === \"undefined\" || force === true) {\n",
       "      window._bokeh_onload_callbacks = [];\n",
       "      window._bokeh_is_loading = undefined;\n",
       "    }\n",
       "  \n",
       "  \n",
       "    \n",
       "    if (typeof (window._bokeh_timeout) === \"undefined\" || force === true) {\n",
       "      window._bokeh_timeout = Date.now() + 0;\n",
       "      window._bokeh_failed_load = false;\n",
       "    }\n",
       "  \n",
       "    var NB_LOAD_WARNING = {'data': {'text/html':\n",
       "       \"<div style='background-color: #fdd'>\\n\"+\n",
       "       \"<p>\\n\"+\n",
       "       \"BokehJS does not appear to have successfully loaded. If loading BokehJS from CDN, this \\n\"+\n",
       "       \"may be due to a slow or bad network connection. Possible fixes:\\n\"+\n",
       "       \"</p>\\n\"+\n",
       "       \"<ul>\\n\"+\n",
       "       \"<li>re-rerun `output_notebook()` to attempt to load from CDN again, or</li>\\n\"+\n",
       "       \"<li>use INLINE resources instead, as so:</li>\\n\"+\n",
       "       \"</ul>\\n\"+\n",
       "       \"<code>\\n\"+\n",
       "       \"from bokeh.resources import INLINE\\n\"+\n",
       "       \"output_notebook(resources=INLINE)\\n\"+\n",
       "       \"</code>\\n\"+\n",
       "       \"</div>\"}};\n",
       "  \n",
       "    function display_loaded() {\n",
       "      if (window.Bokeh !== undefined) {\n",
       "        document.getElementById(\"20571da8-a8ef-4d3c-bf0b-2052c4a57716\").textContent = \"BokehJS successfully loaded.\";\n",
       "      } else if (Date.now() < window._bokeh_timeout) {\n",
       "        setTimeout(display_loaded, 100)\n",
       "      }\n",
       "    }\n",
       "  \n",
       "    function run_callbacks() {\n",
       "      window._bokeh_onload_callbacks.forEach(function(callback) { callback() });\n",
       "      delete window._bokeh_onload_callbacks\n",
       "      console.info(\"Bokeh: all callbacks have finished\");\n",
       "    }\n",
       "  \n",
       "    function load_libs(js_urls, callback) {\n",
       "      window._bokeh_onload_callbacks.push(callback);\n",
       "      if (window._bokeh_is_loading > 0) {\n",
       "        console.log(\"Bokeh: BokehJS is being loaded, scheduling callback at\", now());\n",
       "        return null;\n",
       "      }\n",
       "      if (js_urls == null || js_urls.length === 0) {\n",
       "        run_callbacks();\n",
       "        return null;\n",
       "      }\n",
       "      console.log(\"Bokeh: BokehJS not loaded, scheduling load and callback at\", now());\n",
       "      window._bokeh_is_loading = js_urls.length;\n",
       "      for (var i = 0; i < js_urls.length; i++) {\n",
       "        var url = js_urls[i];\n",
       "        var s = document.createElement('script');\n",
       "        s.src = url;\n",
       "        s.async = false;\n",
       "        s.onreadystatechange = s.onload = function() {\n",
       "          window._bokeh_is_loading--;\n",
       "          if (window._bokeh_is_loading === 0) {\n",
       "            console.log(\"Bokeh: all BokehJS libraries loaded\");\n",
       "            run_callbacks()\n",
       "          }\n",
       "        };\n",
       "        s.onerror = function() {\n",
       "          console.warn(\"failed to load library \" + url);\n",
       "        };\n",
       "        console.log(\"Bokeh: injecting script tag for BokehJS library: \", url);\n",
       "        document.getElementsByTagName(\"head\")[0].appendChild(s);\n",
       "      }\n",
       "    };var element = document.getElementById(\"20571da8-a8ef-4d3c-bf0b-2052c4a57716\");\n",
       "    if (element == null) {\n",
       "      console.log(\"Bokeh: ERROR: autoload.js configured with elementid '20571da8-a8ef-4d3c-bf0b-2052c4a57716' but no matching script tag was found. \")\n",
       "      return false;\n",
       "    }\n",
       "  \n",
       "    var js_urls = [];\n",
       "  \n",
       "    var inline_js = [\n",
       "      function(Bokeh) {\n",
       "        (function() {\n",
       "          var fn = function() {\n",
       "            var docs_json = {\"bbbfd8b4-3f63-4d1d-984d-b6120a3e4dbb\":{\"roots\":{\"references\":[{\"attributes\":{\"plot\":{\"id\":\"d08d9377-2ba9-4a56-9541-d617c0f5fe66\",\"subtype\":\"Chart\",\"type\":\"Plot\"}},\"id\":\"a12fc704-a9ef-4c87-ab33-ea188632a0db\",\"type\":\"WheelZoomTool\"},{\"attributes\":{\"plot\":{\"id\":\"d08d9377-2ba9-4a56-9541-d617c0f5fe66\",\"subtype\":\"Chart\",\"type\":\"Plot\"},\"ticker\":{\"id\":\"62d0a3dd-c21d-49b9-b75b-413f844151eb\",\"type\":\"BasicTicker\"}},\"id\":\"92981622-1dde-40cb-a95b-8e3ac887526d\",\"type\":\"Grid\"},{\"attributes\":{},\"id\":\"b12b39b9-f9a1-4c8a-bcdd-243350d9b356\",\"type\":\"BasicTicker\"},{\"attributes\":{\"dimension\":1,\"plot\":{\"id\":\"d08d9377-2ba9-4a56-9541-d617c0f5fe66\",\"subtype\":\"Chart\",\"type\":\"Plot\"},\"ticker\":{\"id\":\"b12b39b9-f9a1-4c8a-bcdd-243350d9b356\",\"type\":\"BasicTicker\"}},\"id\":\"935af33f-ba8a-4f07-881b-ae97fc69569d\",\"type\":\"Grid\"},{\"attributes\":{\"callback\":null,\"column_names\":[\"x_values\",\"y_values\"],\"data\":{\"chart_index\":[null,null,null,null,null,null,null,null,null,null,null,null,null,null,null,null,null,null,null,null,null],\"x_values\":{\"__ndarray__\":\"WoZ8FOi1xT+MCH7dLwjTPxi5ZUBiK8Q/tiYIvqNjtD/ExploGQXAP/XaPbesRso/DJ5B7XxG1z8JL+3RIgvTPxQdjBc8ktU/HGAqku6W2D+HRBMQdHXeP+Q6EEg0F8o/etq8ymRr0T+9KGfoiMnSP1RpNsUnTOY/9G/v15kU4T85AMvFIAPmPxbntzSIE+w/E78/adnv5z90agArPUfnPz4uy+7EiOc/\",\"dtype\":\"float64\",\"shape\":[21]},\"y_values\":{\"__ndarray__\":\"gMuHtLdN1z9vnT+nhHTOP6biw7mvHcs/6d1AR5/OzD8qvz2gKpbaP+W/tlqDVNQ/zKRnFaND0D8oYsCmh+zhPwL3JqrWOO0//ulxJw304z/viiPvdZ7iP8ZCQkYqaec/5hsON0yj4D9ac2EOlSzhPxC59eHD1uc/498ng03/5T9gH188cQHpP7amKPUxMOU/uBP6agvk5z/iqCpfES3oPxo37OOD8+Y/\",\"dtype\":\"float64\",\"shape\":[21]}}},\"id\":\"fae6c691-d2e1-432a-b6e7-84c2449dfe19\",\"type\":\"ColumnDataSource\"},{\"attributes\":{},\"id\":\"c4322067-7e03-4579-a0ed-85aabade11e4\",\"type\":\"BasicTickFormatter\"},{\"attributes\":{\"callback\":null,\"end\":0.9833227815540466,\"start\":0.14170897392593895},\"id\":\"df5e4c14-1015-4744-8329-c54c52706dd4\",\"type\":\"Range1d\"},{\"attributes\":{\"location\":\"top_left\",\"plot\":{\"id\":\"d08d9377-2ba9-4a56-9541-d617c0f5fe66\",\"subtype\":\"Chart\",\"type\":\"Plot\"}},\"id\":\"09b69da7-9d23-4082-b538-98a6bd7f09d1\",\"type\":\"Legend\"},{\"attributes\":{},\"id\":\"62d0a3dd-c21d-49b9-b75b-413f844151eb\",\"type\":\"BasicTicker\"},{\"attributes\":{},\"id\":\"fa59c1e1-452f-4937-894d-ea4a9eba88b8\",\"type\":\"BasicTickFormatter\"},{\"attributes\":{\"plot\":null,\"text\":null},\"id\":\"5bc88cb5-364a-45ad-b2b0-c3a23fdb78d6\",\"type\":\"Title\"},{\"attributes\":{\"below\":[{\"id\":\"a43c7b92-9f4b-4f18-95d0-8ebd6328ac43\",\"type\":\"LinearAxis\"}],\"css_classes\":null,\"height\":400,\"left\":[{\"id\":\"cb3ed63a-2fd9-4d39-a066-8f781607e224\",\"type\":\"LinearAxis\"}],\"renderers\":[{\"id\":\"4ba3751b-217c-42c4-bc73-06258ad95a72\",\"type\":\"BoxAnnotation\"},{\"id\":\"cb7d7133-8c43-4a2e-adbb-66d9373c1cf0\",\"type\":\"GlyphRenderer\"},{\"id\":\"09b69da7-9d23-4082-b538-98a6bd7f09d1\",\"type\":\"Legend\"},{\"id\":\"a43c7b92-9f4b-4f18-95d0-8ebd6328ac43\",\"type\":\"LinearAxis\"},{\"id\":\"cb3ed63a-2fd9-4d39-a066-8f781607e224\",\"type\":\"LinearAxis\"},{\"id\":\"92981622-1dde-40cb-a95b-8e3ac887526d\",\"type\":\"Grid\"},{\"id\":\"935af33f-ba8a-4f07-881b-ae97fc69569d\",\"type\":\"Grid\"}],\"title\":{\"id\":\"5bc88cb5-364a-45ad-b2b0-c3a23fdb78d6\",\"type\":\"Title\"},\"tool_events\":{\"id\":\"00c33de7-d76c-473a-b707-06e34a8f5a08\",\"type\":\"ToolEvents\"},\"toolbar\":{\"id\":\"59ad1cef-6f7f-4dae-9e95-bf6ef983963b\",\"type\":\"Toolbar\"},\"width\":750,\"x_mapper_type\":\"auto\",\"x_range\":{\"id\":\"333ea9cc-620d-43a7-bf97-3492c575e857\",\"type\":\"Range1d\"},\"y_mapper_type\":\"auto\",\"y_range\":{\"id\":\"df5e4c14-1015-4744-8329-c54c52706dd4\",\"type\":\"Range1d\"}},\"id\":\"d08d9377-2ba9-4a56-9541-d617c0f5fe66\",\"subtype\":\"Chart\",\"type\":\"Plot\"},{\"attributes\":{},\"id\":\"00c33de7-d76c-473a-b707-06e34a8f5a08\",\"type\":\"ToolEvents\"},{\"attributes\":{\"active_drag\":\"auto\",\"active_scroll\":\"auto\",\"active_tap\":\"auto\",\"tools\":[{\"id\":\"4264a42a-f8d2-4609-9486-2fdf1a5bd6b6\",\"type\":\"PanTool\"},{\"id\":\"a12fc704-a9ef-4c87-ab33-ea188632a0db\",\"type\":\"WheelZoomTool\"},{\"id\":\"86739a3f-5867-458e-af5e-440bd30072d6\",\"type\":\"BoxZoomTool\"},{\"id\":\"52aac29a-d111-4692-89a9-dc8a110519e3\",\"type\":\"SaveTool\"},{\"id\":\"1435b9c6-7e7b-4b1e-ab6b-8ed7c1cd44e6\",\"type\":\"ResetTool\"},{\"id\":\"c16c40e9-4aa0-4727-a445-a110acef8d5a\",\"type\":\"HelpTool\"}]},\"id\":\"59ad1cef-6f7f-4dae-9e95-bf6ef983963b\",\"type\":\"Toolbar\"},{\"attributes\":{\"bottom_units\":\"screen\",\"fill_alpha\":{\"value\":0.5},\"fill_color\":{\"value\":\"lightgrey\"},\"left_units\":\"screen\",\"level\":\"overlay\",\"line_alpha\":{\"value\":1.0},\"line_color\":{\"value\":\"black\"},\"line_dash\":[4,4],\"line_width\":{\"value\":2},\"plot\":null,\"render_mode\":\"css\",\"right_units\":\"screen\",\"top_units\":\"screen\"},\"id\":\"4ba3751b-217c-42c4-bc73-06258ad95a72\",\"type\":\"BoxAnnotation\"},{\"attributes\":{\"axis_label\":\"x1\",\"formatter\":{\"id\":\"c4322067-7e03-4579-a0ed-85aabade11e4\",\"type\":\"BasicTickFormatter\"},\"plot\":{\"id\":\"d08d9377-2ba9-4a56-9541-d617c0f5fe66\",\"subtype\":\"Chart\",\"type\":\"Plot\"},\"ticker\":{\"id\":\"62d0a3dd-c21d-49b9-b75b-413f844151eb\",\"type\":\"BasicTicker\"}},\"id\":\"a43c7b92-9f4b-4f18-95d0-8ebd6328ac43\",\"type\":\"LinearAxis\"},{\"attributes\":{\"plot\":{\"id\":\"d08d9377-2ba9-4a56-9541-d617c0f5fe66\",\"subtype\":\"Chart\",\"type\":\"Plot\"}},\"id\":\"1435b9c6-7e7b-4b1e-ab6b-8ed7c1cd44e6\",\"type\":\"ResetTool\"},{\"attributes\":{\"callback\":null,\"end\":0.9571581743933425,\"start\":-0.00012851048718931501},\"id\":\"333ea9cc-620d-43a7-bf97-3492c575e857\",\"type\":\"Range1d\"},{\"attributes\":{\"plot\":{\"id\":\"d08d9377-2ba9-4a56-9541-d617c0f5fe66\",\"subtype\":\"Chart\",\"type\":\"Plot\"}},\"id\":\"c16c40e9-4aa0-4727-a445-a110acef8d5a\",\"type\":\"HelpTool\"},{\"attributes\":{\"axis_label\":\"x2\",\"formatter\":{\"id\":\"fa59c1e1-452f-4937-894d-ea4a9eba88b8\",\"type\":\"BasicTickFormatter\"},\"plot\":{\"id\":\"d08d9377-2ba9-4a56-9541-d617c0f5fe66\",\"subtype\":\"Chart\",\"type\":\"Plot\"},\"ticker\":{\"id\":\"b12b39b9-f9a1-4c8a-bcdd-243350d9b356\",\"type\":\"BasicTicker\"}},\"id\":\"cb3ed63a-2fd9-4d39-a066-8f781607e224\",\"type\":\"LinearAxis\"},{\"attributes\":{\"fill_alpha\":{\"value\":0.7},\"fill_color\":{\"value\":\"#f22c40\"},\"line_color\":{\"value\":\"#f22c40\"},\"size\":{\"units\":\"screen\",\"value\":8},\"x\":{\"field\":\"x_values\"},\"y\":{\"field\":\"y_values\"}},\"id\":\"2fbd0077-a160-445a-b477-cec8b8aaf972\",\"type\":\"Circle\"},{\"attributes\":{\"plot\":{\"id\":\"d08d9377-2ba9-4a56-9541-d617c0f5fe66\",\"subtype\":\"Chart\",\"type\":\"Plot\"}},\"id\":\"52aac29a-d111-4692-89a9-dc8a110519e3\",\"type\":\"SaveTool\"},{\"attributes\":{\"data_source\":{\"id\":\"fae6c691-d2e1-432a-b6e7-84c2449dfe19\",\"type\":\"ColumnDataSource\"},\"glyph\":{\"id\":\"2fbd0077-a160-445a-b477-cec8b8aaf972\",\"type\":\"Circle\"},\"hover_glyph\":null,\"nonselection_glyph\":null,\"selection_glyph\":null},\"id\":\"cb7d7133-8c43-4a2e-adbb-66d9373c1cf0\",\"type\":\"GlyphRenderer\"},{\"attributes\":{\"overlay\":{\"id\":\"4ba3751b-217c-42c4-bc73-06258ad95a72\",\"type\":\"BoxAnnotation\"},\"plot\":{\"id\":\"d08d9377-2ba9-4a56-9541-d617c0f5fe66\",\"subtype\":\"Chart\",\"type\":\"Plot\"}},\"id\":\"86739a3f-5867-458e-af5e-440bd30072d6\",\"type\":\"BoxZoomTool\"},{\"attributes\":{\"plot\":{\"id\":\"d08d9377-2ba9-4a56-9541-d617c0f5fe66\",\"subtype\":\"Chart\",\"type\":\"Plot\"}},\"id\":\"4264a42a-f8d2-4609-9486-2fdf1a5bd6b6\",\"type\":\"PanTool\"}],\"root_ids\":[\"d08d9377-2ba9-4a56-9541-d617c0f5fe66\"]},\"title\":\"Bokeh Application\",\"version\":\"0.12.4\"}};\n",
       "            var render_items = [{\"docid\":\"bbbfd8b4-3f63-4d1d-984d-b6120a3e4dbb\",\"elementid\":\"20571da8-a8ef-4d3c-bf0b-2052c4a57716\",\"modelid\":\"d08d9377-2ba9-4a56-9541-d617c0f5fe66\"}];\n",
       "            \n",
       "            Bokeh.embed.embed_items(docs_json, render_items);\n",
       "          };\n",
       "          if (document.readyState != \"loading\") fn();\n",
       "          else document.addEventListener(\"DOMContentLoaded\", fn);\n",
       "        })();\n",
       "      },\n",
       "      function(Bokeh) {\n",
       "      }\n",
       "    ];\n",
       "  \n",
       "    function run_inline_js() {\n",
       "      \n",
       "      if ((window.Bokeh !== undefined) || (force === true)) {\n",
       "        for (var i = 0; i < inline_js.length; i++) {\n",
       "          inline_js[i](window.Bokeh);\n",
       "        }if (force === true) {\n",
       "          display_loaded();\n",
       "        }} else if (Date.now() < window._bokeh_timeout) {\n",
       "        setTimeout(run_inline_js, 100);\n",
       "      } else if (!window._bokeh_failed_load) {\n",
       "        console.log(\"Bokeh: BokehJS failed to load within specified timeout.\");\n",
       "        window._bokeh_failed_load = true;\n",
       "      } else if (force !== true) {\n",
       "        var cell = $(document.getElementById(\"20571da8-a8ef-4d3c-bf0b-2052c4a57716\")).parents('.cell').data().cell;\n",
       "        cell.output_area.append_execute_result(NB_LOAD_WARNING)\n",
       "      }\n",
       "  \n",
       "    }\n",
       "  \n",
       "    if (window._bokeh_is_loading === 0) {\n",
       "      console.log(\"Bokeh: BokehJS loaded, going straight to plotting\");\n",
       "      run_inline_js();\n",
       "    } else {\n",
       "      load_libs(js_urls, function() {\n",
       "        console.log(\"Bokeh: BokehJS plotting callback run at\", now());\n",
       "        run_inline_js();\n",
       "      });\n",
       "    }\n",
       "  }(this));\n",
       "</script>"
      ]
     },
     "metadata": {},
     "output_type": "display_data"
    }
   ],
   "source": [
    "show(Scatter({'x1': x1, 'x2': x2}, x='x1', y='x2', width=750, height=400))"
   ]
  },
  {
   "cell_type": "markdown",
   "metadata": {
    "collapsed": true,
    "deletable": true,
    "editable": true,
    "slideshow": {
     "slide_type": "slide"
    }
   },
   "source": [
    "### Clustering a la `scikit-learn`"
   ]
  },
  {
   "cell_type": "code",
   "execution_count": 96,
   "metadata": {
    "collapsed": false,
    "slideshow": {
     "slide_type": "subslide"
    }
   },
   "outputs": [
    {
     "data": {
      "text/plain": [
       "KMeans(algorithm='auto', copy_x=True, init='k-means++', max_iter=300,\n",
       "    n_clusters=3, n_init=10, n_jobs=1, precompute_distances='auto',\n",
       "    random_state=None, tol=0.0001, verbose=0)"
      ]
     },
     "execution_count": 96,
     "metadata": {},
     "output_type": "execute_result"
    }
   ],
   "source": [
    "from sklearn.cluster import KMeans\n",
    "clust = KMeans(n_clusters=3)\n",
    "clust.fit(X)"
   ]
  },
  {
   "cell_type": "code",
   "execution_count": 97,
   "metadata": {
    "collapsed": false,
    "slideshow": {
     "slide_type": "subslide"
    }
   },
   "outputs": [
    {
     "data": {
      "text/plain": [
       "array([[ 0.32347139,  0.63812998],\n",
       "       [ 0.71524961,  0.72789364],\n",
       "       [ 0.19976037,  0.28945005]])"
      ]
     },
     "execution_count": 97,
     "metadata": {},
     "output_type": "execute_result"
    }
   ],
   "source": [
    "clust.cluster_centers_"
   ]
  },
  {
   "cell_type": "code",
   "execution_count": 95,
   "metadata": {
    "collapsed": true,
    "slideshow": {
     "slide_type": "subslide"
    }
   },
   "outputs": [],
   "source": [
    "def plot_clusters(clusters, cluster_centers):\n",
    "    plot = Scatter(\n",
    "        {'x': x, 'y': y, 'clusters': clusters},\n",
    "        x='x', y='y',\n",
    "        color='clusters', marker='clusters', \n",
    "        width=750, height=400\n",
    "    )\n",
    "\n",
    "    for x10, x20 in cluster_centers:\n",
    "        plot.circle(x10, x20, alpha=0.5, color='grey', size=15)\n",
    "\n",
    "    show(plot)"
   ]
  },
  {
   "cell_type": "code",
   "execution_count": 98,
   "metadata": {
    "collapsed": false,
    "slideshow": {
     "slide_type": "subslide"
    }
   },
   "outputs": [
    {
     "data": {
      "text/html": [
       "\n",
       "\n",
       "    <div class=\"bk-root\">\n",
       "        <div class=\"bk-plotdiv\" id=\"18282070-916a-4450-bf41-1d0a3637e6d5\"></div>\n",
       "    </div>\n",
       "<script type=\"text/javascript\">\n",
       "  \n",
       "  (function(global) {\n",
       "    function now() {\n",
       "      return new Date();\n",
       "    }\n",
       "  \n",
       "    var force = false;\n",
       "  \n",
       "    if (typeof (window._bokeh_onload_callbacks) === \"undefined\" || force === true) {\n",
       "      window._bokeh_onload_callbacks = [];\n",
       "      window._bokeh_is_loading = undefined;\n",
       "    }\n",
       "  \n",
       "  \n",
       "    \n",
       "    if (typeof (window._bokeh_timeout) === \"undefined\" || force === true) {\n",
       "      window._bokeh_timeout = Date.now() + 0;\n",
       "      window._bokeh_failed_load = false;\n",
       "    }\n",
       "  \n",
       "    var NB_LOAD_WARNING = {'data': {'text/html':\n",
       "       \"<div style='background-color: #fdd'>\\n\"+\n",
       "       \"<p>\\n\"+\n",
       "       \"BokehJS does not appear to have successfully loaded. If loading BokehJS from CDN, this \\n\"+\n",
       "       \"may be due to a slow or bad network connection. Possible fixes:\\n\"+\n",
       "       \"</p>\\n\"+\n",
       "       \"<ul>\\n\"+\n",
       "       \"<li>re-rerun `output_notebook()` to attempt to load from CDN again, or</li>\\n\"+\n",
       "       \"<li>use INLINE resources instead, as so:</li>\\n\"+\n",
       "       \"</ul>\\n\"+\n",
       "       \"<code>\\n\"+\n",
       "       \"from bokeh.resources import INLINE\\n\"+\n",
       "       \"output_notebook(resources=INLINE)\\n\"+\n",
       "       \"</code>\\n\"+\n",
       "       \"</div>\"}};\n",
       "  \n",
       "    function display_loaded() {\n",
       "      if (window.Bokeh !== undefined) {\n",
       "        document.getElementById(\"18282070-916a-4450-bf41-1d0a3637e6d5\").textContent = \"BokehJS successfully loaded.\";\n",
       "      } else if (Date.now() < window._bokeh_timeout) {\n",
       "        setTimeout(display_loaded, 100)\n",
       "      }\n",
       "    }\n",
       "  \n",
       "    function run_callbacks() {\n",
       "      window._bokeh_onload_callbacks.forEach(function(callback) { callback() });\n",
       "      delete window._bokeh_onload_callbacks\n",
       "      console.info(\"Bokeh: all callbacks have finished\");\n",
       "    }\n",
       "  \n",
       "    function load_libs(js_urls, callback) {\n",
       "      window._bokeh_onload_callbacks.push(callback);\n",
       "      if (window._bokeh_is_loading > 0) {\n",
       "        console.log(\"Bokeh: BokehJS is being loaded, scheduling callback at\", now());\n",
       "        return null;\n",
       "      }\n",
       "      if (js_urls == null || js_urls.length === 0) {\n",
       "        run_callbacks();\n",
       "        return null;\n",
       "      }\n",
       "      console.log(\"Bokeh: BokehJS not loaded, scheduling load and callback at\", now());\n",
       "      window._bokeh_is_loading = js_urls.length;\n",
       "      for (var i = 0; i < js_urls.length; i++) {\n",
       "        var url = js_urls[i];\n",
       "        var s = document.createElement('script');\n",
       "        s.src = url;\n",
       "        s.async = false;\n",
       "        s.onreadystatechange = s.onload = function() {\n",
       "          window._bokeh_is_loading--;\n",
       "          if (window._bokeh_is_loading === 0) {\n",
       "            console.log(\"Bokeh: all BokehJS libraries loaded\");\n",
       "            run_callbacks()\n",
       "          }\n",
       "        };\n",
       "        s.onerror = function() {\n",
       "          console.warn(\"failed to load library \" + url);\n",
       "        };\n",
       "        console.log(\"Bokeh: injecting script tag for BokehJS library: \", url);\n",
       "        document.getElementsByTagName(\"head\")[0].appendChild(s);\n",
       "      }\n",
       "    };var element = document.getElementById(\"18282070-916a-4450-bf41-1d0a3637e6d5\");\n",
       "    if (element == null) {\n",
       "      console.log(\"Bokeh: ERROR: autoload.js configured with elementid '18282070-916a-4450-bf41-1d0a3637e6d5' but no matching script tag was found. \")\n",
       "      return false;\n",
       "    }\n",
       "  \n",
       "    var js_urls = [];\n",
       "  \n",
       "    var inline_js = [\n",
       "      function(Bokeh) {\n",
       "        (function() {\n",
       "          var fn = function() {\n",
       "            var docs_json = {\"e1403659-bff0-49c2-bbba-25165936680a\":{\"roots\":{\"references\":[{\"attributes\":{\"items\":[{\"id\":\"efc65adc-7b93-4c4c-bc6a-055bbc102581\",\"type\":\"LegendItem\"},{\"id\":\"538979de-051d-476e-b987-cc84a4aa823f\",\"type\":\"LegendItem\"},{\"id\":\"eb7eb6d7-293a-440a-bbe1-745604b806ed\",\"type\":\"LegendItem\"}],\"location\":\"top_left\",\"plot\":{\"id\":\"d7e99037-c7bc-4c23-92b7-4fdd1d32db92\",\"subtype\":\"Chart\",\"type\":\"Plot\"}},\"id\":\"4bb5110f-e80c-4ceb-8d9f-c4c26d3f964e\",\"type\":\"Legend\"},{\"attributes\":{\"label\":{\"value\":\"1\"},\"renderers\":[{\"id\":\"73fa0dd3-a3a4-478a-b0d1-4dbe586dec54\",\"type\":\"GlyphRenderer\"}]},\"id\":\"eb7eb6d7-293a-440a-bbe1-745604b806ed\",\"type\":\"LegendItem\"},{\"attributes\":{\"plot\":{\"id\":\"d7e99037-c7bc-4c23-92b7-4fdd1d32db92\",\"subtype\":\"Chart\",\"type\":\"Plot\"}},\"id\":\"053d8b08-c2a4-4f53-81af-1dc69841548c\",\"type\":\"WheelZoomTool\"},{\"attributes\":{\"below\":[{\"id\":\"1938f9ae-a71f-4cd5-91b5-ff803febf769\",\"type\":\"LinearAxis\"}],\"css_classes\":null,\"height\":400,\"left\":[{\"id\":\"7f6d98ac-4194-4ad4-b3fc-592f881c838b\",\"type\":\"LinearAxis\"}],\"renderers\":[{\"id\":\"55dce6a0-c958-47f5-ae8d-d3128d4ae6f4\",\"type\":\"BoxAnnotation\"},{\"id\":\"64ee6424-d44d-422b-981d-c31eb96c8be0\",\"type\":\"GlyphRenderer\"},{\"id\":\"ce0ac3bb-f3f5-499f-a8bd-d47267124280\",\"type\":\"GlyphRenderer\"},{\"id\":\"73fa0dd3-a3a4-478a-b0d1-4dbe586dec54\",\"type\":\"GlyphRenderer\"},{\"id\":\"4bb5110f-e80c-4ceb-8d9f-c4c26d3f964e\",\"type\":\"Legend\"},{\"id\":\"1938f9ae-a71f-4cd5-91b5-ff803febf769\",\"type\":\"LinearAxis\"},{\"id\":\"7f6d98ac-4194-4ad4-b3fc-592f881c838b\",\"type\":\"LinearAxis\"},{\"id\":\"72dd86d0-a28c-448e-857e-465c41dd0134\",\"type\":\"Grid\"},{\"id\":\"d4e581c0-d27e-4f57-aa03-b201ec5328f9\",\"type\":\"Grid\"},{\"id\":\"d64a66f9-5a78-4a3d-b12b-c937cac1c973\",\"type\":\"GlyphRenderer\"},{\"id\":\"0f611abe-b846-47bb-869c-7d967c2ce139\",\"type\":\"GlyphRenderer\"},{\"id\":\"56d947b4-4e0a-4e32-8e2f-92d23308ba4a\",\"type\":\"GlyphRenderer\"}],\"title\":{\"id\":\"40924cb2-f885-4235-b372-706353cc17bd\",\"type\":\"Title\"},\"tool_events\":{\"id\":\"4a224081-ecec-4cd7-9062-838fd2125a3d\",\"type\":\"ToolEvents\"},\"toolbar\":{\"id\":\"984f7aab-6e95-4490-9241-00e8ce7e55fd\",\"type\":\"Toolbar\"},\"width\":750,\"x_mapper_type\":\"auto\",\"x_range\":{\"id\":\"d3ffb98c-c296-4a2c-9f01-7cfd018b57dc\",\"type\":\"Range1d\"},\"y_mapper_type\":\"auto\",\"y_range\":{\"id\":\"428e2863-31db-4cf1-9271-7c71ae9b3595\",\"type\":\"Range1d\"}},\"id\":\"d7e99037-c7bc-4c23-92b7-4fdd1d32db92\",\"subtype\":\"Chart\",\"type\":\"Plot\"},{\"attributes\":{\"plot\":{\"id\":\"d7e99037-c7bc-4c23-92b7-4fdd1d32db92\",\"subtype\":\"Chart\",\"type\":\"Plot\"}},\"id\":\"25c3b1a2-9c98-4ff6-a3b1-9dccf75e97c1\",\"type\":\"HelpTool\"},{\"attributes\":{\"data_source\":{\"id\":\"ffeba2a4-f18f-45bb-9927-54d3c0422451\",\"type\":\"ColumnDataSource\"},\"glyph\":{\"id\":\"d7838996-6391-4157-8a9e-d8d9a6f521be\",\"type\":\"Circle\"},\"hover_glyph\":null,\"nonselection_glyph\":{\"id\":\"d832d059-9b0a-4f13-8f0c-f56bbc2214b9\",\"type\":\"Circle\"},\"selection_glyph\":null},\"id\":\"d64a66f9-5a78-4a3d-b12b-c937cac1c973\",\"type\":\"GlyphRenderer\"},{\"attributes\":{},\"id\":\"4a224081-ecec-4cd7-9062-838fd2125a3d\",\"type\":\"ToolEvents\"},{\"attributes\":{\"callback\":null,\"column_names\":[\"x_values\",\"y_values\"],\"data\":{\"chart_index\":[{\"clusters\":0},{\"clusters\":0},{\"clusters\":0},{\"clusters\":0},{\"clusters\":0},{\"clusters\":0},{\"clusters\":0}],\"clusters\":[0,0,0,0,0,0,0],\"x_values\":{\"__ndarray__\":\"fplW7SZf0z/MzOTAedXQP6kVe0V81t4/gBUUfcTw1z8brbzxJgjSP9bjU+txedA/lg4HBoCd1j8=\",\"dtype\":\"float64\",\"shape\":[7]},\"y_values\":{\"__ndarray__\":\"iIWV7nQ54T+PpigRTX7pP+kWge0U5+M/o/Mr2Qhc5j+WRyMinYbqP3TTqkUU0uQ/4mMSqxh/5T8=\",\"dtype\":\"float64\",\"shape\":[7]}}},\"id\":\"4182f569-53e3-479e-a0b9-83014af2b74b\",\"type\":\"ColumnDataSource\"},{\"attributes\":{\"callback\":null,\"column_names\":[\"x_values\",\"y_values\"],\"data\":{\"chart_index\":[{\"clusters\":2},{\"clusters\":2},{\"clusters\":2},{\"clusters\":2},{\"clusters\":2},{\"clusters\":2},{\"clusters\":2}],\"clusters\":[2,2,2,2,2,2,2],\"x_values\":{\"__ndarray__\":\"uebGRv+b0T/W95/cqQXTP7p8lw0v/NM/tppRgb8X1z+0Shk3DT/WP11c6gua88k/Su+2Icb50D8=\",\"dtype\":\"float64\",\"shape\":[7]},\"y_values\":{\"__ndarray__\":\"JPOHsyfgtT9nJWH6I9fTP06dmXRcmMw/lP+Pg9Eg1j9UVJbQGnbYP2yyT3IwnNU/ZJjU1bkszT8=\",\"dtype\":\"float64\",\"shape\":[7]}}},\"id\":\"6d3db49f-1c28-4184-bf3f-c5375cb9c36a\",\"type\":\"ColumnDataSource\"},{\"attributes\":{\"active_drag\":\"auto\",\"active_scroll\":\"auto\",\"active_tap\":\"auto\",\"tools\":[{\"id\":\"2b6fe2c5-16f9-4b44-8014-febebe4f1249\",\"type\":\"PanTool\"},{\"id\":\"053d8b08-c2a4-4f53-81af-1dc69841548c\",\"type\":\"WheelZoomTool\"},{\"id\":\"a2f4ed9c-a1a1-4b36-b607-136a02ac82e8\",\"type\":\"BoxZoomTool\"},{\"id\":\"510634bf-f271-4bae-a97f-2449832d46c5\",\"type\":\"SaveTool\"},{\"id\":\"1dbea2a0-e6a4-46f2-b88a-3e9896e1c049\",\"type\":\"ResetTool\"},{\"id\":\"25c3b1a2-9c98-4ff6-a3b1-9dccf75e97c1\",\"type\":\"HelpTool\"}]},\"id\":\"984f7aab-6e95-4490-9241-00e8ce7e55fd\",\"type\":\"Toolbar\"},{\"attributes\":{},\"id\":\"6643242d-e1f2-42f9-a8f4-115c6c3b7082\",\"type\":\"BasicTicker\"},{\"attributes\":{\"axis_label\":\"x\",\"formatter\":{\"id\":\"11e8f391-b1c7-45c4-9233-24c18dac6574\",\"type\":\"BasicTickFormatter\"},\"plot\":{\"id\":\"d7e99037-c7bc-4c23-92b7-4fdd1d32db92\",\"subtype\":\"Chart\",\"type\":\"Plot\"},\"ticker\":{\"id\":\"6643242d-e1f2-42f9-a8f4-115c6c3b7082\",\"type\":\"BasicTicker\"}},\"id\":\"1938f9ae-a71f-4cd5-91b5-ff803febf769\",\"type\":\"LinearAxis\"},{\"attributes\":{\"bottom_units\":\"screen\",\"fill_alpha\":{\"value\":0.5},\"fill_color\":{\"value\":\"lightgrey\"},\"left_units\":\"screen\",\"level\":\"overlay\",\"line_alpha\":{\"value\":1.0},\"line_color\":{\"value\":\"black\"},\"line_dash\":[4,4],\"line_width\":{\"value\":2},\"plot\":null,\"render_mode\":\"css\",\"right_units\":\"screen\",\"top_units\":\"screen\"},\"id\":\"55dce6a0-c958-47f5-ae8d-d3128d4ae6f4\",\"type\":\"BoxAnnotation\"},{\"attributes\":{\"callback\":null},\"id\":\"9e1458a3-694b-49af-b8aa-6d84155c4619\",\"type\":\"ColumnDataSource\"},{\"attributes\":{\"fill_alpha\":{\"value\":0.1},\"fill_color\":{\"value\":\"#1f77b4\"},\"line_alpha\":{\"value\":0.1},\"line_color\":{\"value\":\"#1f77b4\"},\"size\":{\"units\":\"screen\",\"value\":15},\"x\":{\"value\":0.19976036737801267},\"y\":{\"value\":0.28945005272966157}},\"id\":\"09c195be-6e1b-49d8-95de-c3f473e664b4\",\"type\":\"Circle\"},{\"attributes\":{\"fill_alpha\":{\"value\":0.5},\"fill_color\":{\"value\":\"grey\"},\"line_alpha\":{\"value\":0.5},\"line_color\":{\"value\":\"grey\"},\"size\":{\"units\":\"screen\",\"value\":15},\"x\":{\"value\":0.32347138903063644},\"y\":{\"value\":0.6381299802187645}},\"id\":\"d7838996-6391-4157-8a9e-d8d9a6f521be\",\"type\":\"Circle\"},{\"attributes\":{},\"id\":\"11e8f391-b1c7-45c4-9233-24c18dac6574\",\"type\":\"BasicTickFormatter\"},{\"attributes\":{\"overlay\":{\"id\":\"55dce6a0-c958-47f5-ae8d-d3128d4ae6f4\",\"type\":\"BoxAnnotation\"},\"plot\":{\"id\":\"d7e99037-c7bc-4c23-92b7-4fdd1d32db92\",\"subtype\":\"Chart\",\"type\":\"Plot\"}},\"id\":\"a2f4ed9c-a1a1-4b36-b607-136a02ac82e8\",\"type\":\"BoxZoomTool\"},{\"attributes\":{\"axis_label\":\"y\",\"formatter\":{\"id\":\"b6f8ba73-f7d6-4c2a-863a-a2c33b8aa9a4\",\"type\":\"BasicTickFormatter\"},\"plot\":{\"id\":\"d7e99037-c7bc-4c23-92b7-4fdd1d32db92\",\"subtype\":\"Chart\",\"type\":\"Plot\"},\"ticker\":{\"id\":\"0706dd45-430d-4b37-9a02-c6597b29860f\",\"type\":\"BasicTicker\"}},\"id\":\"7f6d98ac-4194-4ad4-b3fc-592f881c838b\",\"type\":\"LinearAxis\"},{\"attributes\":{\"callback\":null,\"end\":0.903280425271865,\"start\":0.011103508755078137},\"id\":\"428e2863-31db-4cf1-9271-7c71ae9b3595\",\"type\":\"Range1d\"},{\"attributes\":{\"callback\":null,\"column_names\":[\"x_values\",\"y_values\"],\"data\":{\"chart_index\":[{\"clusters\":1},{\"clusters\":1},{\"clusters\":1},{\"clusters\":1},{\"clusters\":1},{\"clusters\":1},{\"clusters\":1}],\"clusters\":[1,1,1,1,1,1,1],\"x_values\":{\"__ndarray__\":\"OozXGo1o4z866Lw3ZmfmP3qYz6Tj7+w/iUo2oOXC5z9a/gT90T/jP2IGD8Pmo+Q/XX0myNdM5T8=\",\"dtype\":\"float64\",\"shape\":[7]},\"y_values\":{\"__ndarray__\":\"e0exFHJf5T+6JH7fSlDqP8Vyv+9w7+U/Cxr2pRz+5D8JnIB8CvPnP5yyUXTCPOI/8p3BRdLK4T8=\",\"dtype\":\"float64\",\"shape\":[7]}}},\"id\":\"e6bce399-bdc0-4f2d-873d-00abe2c5ff10\",\"type\":\"ColumnDataSource\"},{\"attributes\":{\"dimension\":1,\"plot\":{\"id\":\"d7e99037-c7bc-4c23-92b7-4fdd1d32db92\",\"subtype\":\"Chart\",\"type\":\"Plot\"},\"ticker\":{\"id\":\"0706dd45-430d-4b37-9a02-c6597b29860f\",\"type\":\"BasicTicker\"}},\"id\":\"d4e581c0-d27e-4f57-aa03-b201ec5328f9\",\"type\":\"Grid\"},{\"attributes\":{\"data_source\":{\"id\":\"e175bfa0-70a4-4484-b4ef-4c0eda6af67b\",\"type\":\"ColumnDataSource\"},\"glyph\":{\"id\":\"9b57815e-830d-4dbb-b434-e87c34ad2197\",\"type\":\"Circle\"},\"hover_glyph\":null,\"nonselection_glyph\":{\"id\":\"8b5744cd-5ce3-40cb-82f6-4000858bc7f9\",\"type\":\"Circle\"},\"selection_glyph\":null},\"id\":\"0f611abe-b846-47bb-869c-7d967c2ce139\",\"type\":\"GlyphRenderer\"},{\"attributes\":{\"plot\":{\"id\":\"d7e99037-c7bc-4c23-92b7-4fdd1d32db92\",\"subtype\":\"Chart\",\"type\":\"Plot\"}},\"id\":\"2b6fe2c5-16f9-4b44-8014-febebe4f1249\",\"type\":\"PanTool\"},{\"attributes\":{\"fill_alpha\":{\"value\":0.5},\"fill_color\":{\"value\":\"grey\"},\"line_alpha\":{\"value\":0.5},\"line_color\":{\"value\":\"grey\"},\"size\":{\"units\":\"screen\",\"value\":15},\"x\":{\"value\":0.19976036737801267},\"y\":{\"value\":0.28945005272966157}},\"id\":\"b6a212ed-83f7-4542-97c7-5af49545d2cb\",\"type\":\"Circle\"},{\"attributes\":{\"label\":{\"value\":\"2\"},\"renderers\":[{\"id\":\"64ee6424-d44d-422b-981d-c31eb96c8be0\",\"type\":\"GlyphRenderer\"}]},\"id\":\"efc65adc-7b93-4c4c-bc6a-055bbc102581\",\"type\":\"LegendItem\"},{\"attributes\":{\"fill_alpha\":{\"value\":0.7},\"fill_color\":{\"value\":\"#f22c40\"},\"line_color\":{\"value\":\"#f22c40\"},\"size\":{\"units\":\"screen\",\"value\":8},\"x\":{\"field\":\"x_values\"},\"y\":{\"field\":\"y_values\"}},\"id\":\"47ece844-991f-4dc4-bb0d-1c8c88b60d93\",\"type\":\"Circle\"},{\"attributes\":{\"plot\":null,\"text\":null},\"id\":\"40924cb2-f885-4235-b372-706353cc17bd\",\"type\":\"Title\"},{\"attributes\":{\"data_source\":{\"id\":\"e6bce399-bdc0-4f2d-873d-00abe2c5ff10\",\"type\":\"ColumnDataSource\"},\"glyph\":{\"id\":\"740174e6-b632-429a-a88b-35029804e544\",\"type\":\"Square\"},\"hover_glyph\":null,\"nonselection_glyph\":null,\"selection_glyph\":null},\"id\":\"73fa0dd3-a3a4-478a-b0d1-4dbe586dec54\",\"type\":\"GlyphRenderer\"},{\"attributes\":{\"callback\":null},\"id\":\"e175bfa0-70a4-4484-b4ef-4c0eda6af67b\",\"type\":\"ColumnDataSource\"},{\"attributes\":{},\"id\":\"b6f8ba73-f7d6-4c2a-863a-a2c33b8aa9a4\",\"type\":\"BasicTickFormatter\"},{\"attributes\":{},\"id\":\"0706dd45-430d-4b37-9a02-c6597b29860f\",\"type\":\"BasicTicker\"},{\"attributes\":{\"fill_alpha\":{\"value\":0.1},\"fill_color\":{\"value\":\"#1f77b4\"},\"line_alpha\":{\"value\":0.1},\"line_color\":{\"value\":\"#1f77b4\"},\"size\":{\"units\":\"screen\",\"value\":15},\"x\":{\"value\":0.32347138903063644},\"y\":{\"value\":0.6381299802187645}},\"id\":\"d832d059-9b0a-4f13-8f0c-f56bbc2214b9\",\"type\":\"Circle\"},{\"attributes\":{\"plot\":{\"id\":\"d7e99037-c7bc-4c23-92b7-4fdd1d32db92\",\"subtype\":\"Chart\",\"type\":\"Plot\"},\"ticker\":{\"id\":\"6643242d-e1f2-42f9-a8f4-115c6c3b7082\",\"type\":\"BasicTicker\"}},\"id\":\"72dd86d0-a28c-448e-857e-465c41dd0134\",\"type\":\"Grid\"},{\"attributes\":{\"data_source\":{\"id\":\"4182f569-53e3-479e-a0b9-83014af2b74b\",\"type\":\"ColumnDataSource\"},\"glyph\":{\"id\":\"47ece844-991f-4dc4-bb0d-1c8c88b60d93\",\"type\":\"Circle\"},\"hover_glyph\":null,\"nonselection_glyph\":null,\"selection_glyph\":null},\"id\":\"ce0ac3bb-f3f5-499f-a8bd-d47267124280\",\"type\":\"GlyphRenderer\"},{\"attributes\":{\"fill_alpha\":{\"value\":0.7},\"fill_color\":{\"value\":\"#407ee7\"},\"line_color\":{\"value\":\"#407ee7\"},\"size\":{\"units\":\"screen\",\"value\":8},\"x\":{\"field\":\"x_values\"},\"y\":{\"field\":\"y_values\"}},\"id\":\"d4c9c0ab-df26-442a-809f-7e7c7ce42ca2\",\"type\":\"Triangle\"},{\"attributes\":{\"plot\":{\"id\":\"d7e99037-c7bc-4c23-92b7-4fdd1d32db92\",\"subtype\":\"Chart\",\"type\":\"Plot\"}},\"id\":\"510634bf-f271-4bae-a97f-2449832d46c5\",\"type\":\"SaveTool\"},{\"attributes\":{\"data_source\":{\"id\":\"9e1458a3-694b-49af-b8aa-6d84155c4619\",\"type\":\"ColumnDataSource\"},\"glyph\":{\"id\":\"b6a212ed-83f7-4542-97c7-5af49545d2cb\",\"type\":\"Circle\"},\"hover_glyph\":null,\"nonselection_glyph\":{\"id\":\"09c195be-6e1b-49d8-95de-c3f473e664b4\",\"type\":\"Circle\"},\"selection_glyph\":null},\"id\":\"56d947b4-4e0a-4e32-8e2f-92d23308ba4a\",\"type\":\"GlyphRenderer\"},{\"attributes\":{\"plot\":{\"id\":\"d7e99037-c7bc-4c23-92b7-4fdd1d32db92\",\"subtype\":\"Chart\",\"type\":\"Plot\"}},\"id\":\"1dbea2a0-e6a4-46f2-b88a-3e9896e1c049\",\"type\":\"ResetTool\"},{\"attributes\":{\"fill_alpha\":{\"value\":0.7},\"fill_color\":{\"value\":\"#5ab738\"},\"line_color\":{\"value\":\"#5ab738\"},\"size\":{\"units\":\"screen\",\"value\":8},\"x\":{\"field\":\"x_values\"},\"y\":{\"field\":\"y_values\"}},\"id\":\"740174e6-b632-429a-a88b-35029804e544\",\"type\":\"Square\"},{\"attributes\":{\"callback\":null,\"end\":0.9744370255509869,\"start\":0.1325929634192264},\"id\":\"d3ffb98c-c296-4a2c-9f01-7cfd018b57dc\",\"type\":\"Range1d\"},{\"attributes\":{\"fill_alpha\":{\"value\":0.5},\"fill_color\":{\"value\":\"grey\"},\"line_alpha\":{\"value\":0.5},\"line_color\":{\"value\":\"grey\"},\"size\":{\"units\":\"screen\",\"value\":15},\"x\":{\"value\":0.715249613646816},\"y\":{\"value\":0.727893643270699}},\"id\":\"9b57815e-830d-4dbb-b434-e87c34ad2197\",\"type\":\"Circle\"},{\"attributes\":{\"label\":{\"value\":\"0\"},\"renderers\":[{\"id\":\"ce0ac3bb-f3f5-499f-a8bd-d47267124280\",\"type\":\"GlyphRenderer\"}]},\"id\":\"538979de-051d-476e-b987-cc84a4aa823f\",\"type\":\"LegendItem\"},{\"attributes\":{\"data_source\":{\"id\":\"6d3db49f-1c28-4184-bf3f-c5375cb9c36a\",\"type\":\"ColumnDataSource\"},\"glyph\":{\"id\":\"d4c9c0ab-df26-442a-809f-7e7c7ce42ca2\",\"type\":\"Triangle\"},\"hover_glyph\":null,\"nonselection_glyph\":null,\"selection_glyph\":null},\"id\":\"64ee6424-d44d-422b-981d-c31eb96c8be0\",\"type\":\"GlyphRenderer\"},{\"attributes\":{\"callback\":null},\"id\":\"ffeba2a4-f18f-45bb-9927-54d3c0422451\",\"type\":\"ColumnDataSource\"},{\"attributes\":{\"fill_alpha\":{\"value\":0.1},\"fill_color\":{\"value\":\"#1f77b4\"},\"line_alpha\":{\"value\":0.1},\"line_color\":{\"value\":\"#1f77b4\"},\"size\":{\"units\":\"screen\",\"value\":15},\"x\":{\"value\":0.715249613646816},\"y\":{\"value\":0.727893643270699}},\"id\":\"8b5744cd-5ce3-40cb-82f6-4000858bc7f9\",\"type\":\"Circle\"}],\"root_ids\":[\"d7e99037-c7bc-4c23-92b7-4fdd1d32db92\"]},\"title\":\"Bokeh Application\",\"version\":\"0.12.4\"}};\n",
       "            var render_items = [{\"docid\":\"e1403659-bff0-49c2-bbba-25165936680a\",\"elementid\":\"18282070-916a-4450-bf41-1d0a3637e6d5\",\"modelid\":\"d7e99037-c7bc-4c23-92b7-4fdd1d32db92\"}];\n",
       "            \n",
       "            Bokeh.embed.embed_items(docs_json, render_items);\n",
       "          };\n",
       "          if (document.readyState != \"loading\") fn();\n",
       "          else document.addEventListener(\"DOMContentLoaded\", fn);\n",
       "        })();\n",
       "      },\n",
       "      function(Bokeh) {\n",
       "      }\n",
       "    ];\n",
       "  \n",
       "    function run_inline_js() {\n",
       "      \n",
       "      if ((window.Bokeh !== undefined) || (force === true)) {\n",
       "        for (var i = 0; i < inline_js.length; i++) {\n",
       "          inline_js[i](window.Bokeh);\n",
       "        }if (force === true) {\n",
       "          display_loaded();\n",
       "        }} else if (Date.now() < window._bokeh_timeout) {\n",
       "        setTimeout(run_inline_js, 100);\n",
       "      } else if (!window._bokeh_failed_load) {\n",
       "        console.log(\"Bokeh: BokehJS failed to load within specified timeout.\");\n",
       "        window._bokeh_failed_load = true;\n",
       "      } else if (force !== true) {\n",
       "        var cell = $(document.getElementById(\"18282070-916a-4450-bf41-1d0a3637e6d5\")).parents('.cell').data().cell;\n",
       "        cell.output_area.append_execute_result(NB_LOAD_WARNING)\n",
       "      }\n",
       "  \n",
       "    }\n",
       "  \n",
       "    if (window._bokeh_is_loading === 0) {\n",
       "      console.log(\"Bokeh: BokehJS loaded, going straight to plotting\");\n",
       "      run_inline_js();\n",
       "    } else {\n",
       "      load_libs(js_urls, function() {\n",
       "        console.log(\"Bokeh: BokehJS plotting callback run at\", now());\n",
       "        run_inline_js();\n",
       "      });\n",
       "    }\n",
       "  }(this));\n",
       "</script>"
      ]
     },
     "metadata": {},
     "output_type": "display_data"
    }
   ],
   "source": [
    "plot_clusters(clust.predict(X), clust.cluster_centers_)"
   ]
  },
  {
   "cell_type": "markdown",
   "metadata": {
    "collapsed": true,
    "deletable": true,
    "editable": true,
    "slideshow": {
     "slide_type": "slide"
    }
   },
   "source": [
    "### Clustering a la Mixed Integer Linear Optimization"
   ]
  },
  {
   "cell_type": "code",
   "execution_count": 86,
   "metadata": {
    "collapsed": false,
    "deletable": true,
    "editable": true,
    "slideshow": {
     "slide_type": "subslide"
    }
   },
   "outputs": [],
   "source": [
    "# Decision variables = locations of cluster centers\n",
    "w = []\n",
    "for j in range(len(centers)):\n",
    "    x10 = pulp.LpVariable('x_10%d' % j, lowBound=0, upBound=1)\n",
    "    x20 = pulp.LpVariable('x_20%d' % j, lowBound=0, upBound=1)\n",
    "    w.append([x10, x20])"
   ]
  },
  {
   "cell_type": "code",
   "execution_count": 87,
   "metadata": {
    "collapsed": false,
    "deletable": true,
    "editable": true,
    "slideshow": {
     "slide_type": "subslide"
    }
   },
   "outputs": [],
   "source": [
    "# Decision variables = do we associate point i with cluster j?\n",
    "v = []\n",
    "for i in range(len(x1)):\n",
    "    vi = []\n",
    "    for j in range(len(w)):\n",
    "        vij = pulp.LpVariable('v_%d%d' % (i, j), cat=pulp.LpBinary)\n",
    "        vi.append(vij)\n",
    "    v.append(vi)"
   ]
  },
  {
   "cell_type": "code",
   "execution_count": 88,
   "metadata": {
    "collapsed": true,
    "deletable": true,
    "editable": true,
    "slideshow": {
     "slide_type": "subslide"
    }
   },
   "outputs": [],
   "source": [
    "# Each point is associated with exactly one cluster\n",
    "m = pulp.LpProblem(sense=pulp.LpMinimize)\n",
    "for vi in v:\n",
    "    m += sum(vi) == 1"
   ]
  },
  {
   "cell_type": "code",
   "execution_count": 89,
   "metadata": {
    "collapsed": false,
    "deletable": true,
    "editable": true,
    "slideshow": {
     "slide_type": "subslide"
    }
   },
   "outputs": [],
   "source": [
    "distances = []\n",
    "for i, (vi, x1i, x2i), in enumerate(zip(v, x1, x2)):\n",
    "    for j, (wj, vij) in enumerate(zip(w, vi)):\n",
    "        x10, x20 = wj\n",
    "        \n",
    "        dx1 = pulp.LpVariable('dx_1%d%d' % (i, j), lowBound=0, upBound=1)\n",
    "        dx2 = pulp.LpVariable('dx_2%d%d' % (i, j), lowBound=0, upBound=1)\n",
    "    \n",
    "        m += dx1 >= (x1i - x10) - (1 - vij)\n",
    "        m += dx1 >= (x10 - x1i) - (1 - vij)\n",
    "\n",
    "        m += dx2 >= (x2i - x20) - (1 - vij)\n",
    "        m += dx2 >= (x20 - x2i) - (1 - vij)\n",
    "        \n",
    "        distances.extend([dx1, dx2])"
   ]
  },
  {
   "cell_type": "code",
   "execution_count": 90,
   "metadata": {
    "collapsed": true,
    "deletable": true,
    "editable": true,
    "slideshow": {
     "slide_type": "subslide"
    }
   },
   "outputs": [],
   "source": [
    "# Symmetry elimination\n",
    "for j, (x0_1, _) in enumerate(w):\n",
    "    for j2, (x0_2, _) in enumerate(w[j+1:]):\n",
    "        m += x0_1 <= x0_2"
   ]
  },
  {
   "cell_type": "code",
   "execution_count": 91,
   "metadata": {
    "collapsed": false,
    "deletable": true,
    "editable": true,
    "slideshow": {
     "slide_type": "subslide"
    }
   },
   "outputs": [],
   "source": [
    "m.setObjective(sum(distances))\n",
    "assert m.solve() == pulp.LpStatusOptimal"
   ]
  },
  {
   "cell_type": "code",
   "execution_count": 92,
   "metadata": {
    "collapsed": false,
    "slideshow": {
     "slide_type": "subslide"
    }
   },
   "outputs": [
    {
     "name": "stdout",
     "output_type": "stream",
     "text": [
      "[0.16961385, 0.25412824]\n",
      "[0.29755469, 0.58184334]\n",
      "[0.72744616, 0.74496645]\n"
     ]
    }
   ],
   "source": [
    "cluster_centers = []\n",
    "for wj in w:\n",
    "    cluster_centers.append([wj[0].value(), wj[1].value()])\n",
    "\n",
    "for c in cluster_centers:\n",
    "    print(c)"
   ]
  },
  {
   "cell_type": "code",
   "execution_count": 93,
   "metadata": {
    "collapsed": false,
    "deletable": true,
    "editable": true,
    "slideshow": {
     "slide_type": "subslide"
    }
   },
   "outputs": [],
   "source": [
    "clusters = []\n",
    "for vi in v:\n",
    "    for c, vij in zip([0, 1, 2], vi):\n",
    "        if vij.value() > 0.5:\n",
    "            clusters.append(c)\n",
    "            break"
   ]
  },
  {
   "cell_type": "code",
   "execution_count": 99,
   "metadata": {
    "collapsed": false,
    "deletable": true,
    "editable": true,
    "slideshow": {
     "slide_type": "subslide"
    }
   },
   "outputs": [
    {
     "data": {
      "text/html": [
       "\n",
       "\n",
       "    <div class=\"bk-root\">\n",
       "        <div class=\"bk-plotdiv\" id=\"ef19659d-36ce-437e-8efb-fd3531a4ccec\"></div>\n",
       "    </div>\n",
       "<script type=\"text/javascript\">\n",
       "  \n",
       "  (function(global) {\n",
       "    function now() {\n",
       "      return new Date();\n",
       "    }\n",
       "  \n",
       "    var force = false;\n",
       "  \n",
       "    if (typeof (window._bokeh_onload_callbacks) === \"undefined\" || force === true) {\n",
       "      window._bokeh_onload_callbacks = [];\n",
       "      window._bokeh_is_loading = undefined;\n",
       "    }\n",
       "  \n",
       "  \n",
       "    \n",
       "    if (typeof (window._bokeh_timeout) === \"undefined\" || force === true) {\n",
       "      window._bokeh_timeout = Date.now() + 0;\n",
       "      window._bokeh_failed_load = false;\n",
       "    }\n",
       "  \n",
       "    var NB_LOAD_WARNING = {'data': {'text/html':\n",
       "       \"<div style='background-color: #fdd'>\\n\"+\n",
       "       \"<p>\\n\"+\n",
       "       \"BokehJS does not appear to have successfully loaded. If loading BokehJS from CDN, this \\n\"+\n",
       "       \"may be due to a slow or bad network connection. Possible fixes:\\n\"+\n",
       "       \"</p>\\n\"+\n",
       "       \"<ul>\\n\"+\n",
       "       \"<li>re-rerun `output_notebook()` to attempt to load from CDN again, or</li>\\n\"+\n",
       "       \"<li>use INLINE resources instead, as so:</li>\\n\"+\n",
       "       \"</ul>\\n\"+\n",
       "       \"<code>\\n\"+\n",
       "       \"from bokeh.resources import INLINE\\n\"+\n",
       "       \"output_notebook(resources=INLINE)\\n\"+\n",
       "       \"</code>\\n\"+\n",
       "       \"</div>\"}};\n",
       "  \n",
       "    function display_loaded() {\n",
       "      if (window.Bokeh !== undefined) {\n",
       "        document.getElementById(\"ef19659d-36ce-437e-8efb-fd3531a4ccec\").textContent = \"BokehJS successfully loaded.\";\n",
       "      } else if (Date.now() < window._bokeh_timeout) {\n",
       "        setTimeout(display_loaded, 100)\n",
       "      }\n",
       "    }\n",
       "  \n",
       "    function run_callbacks() {\n",
       "      window._bokeh_onload_callbacks.forEach(function(callback) { callback() });\n",
       "      delete window._bokeh_onload_callbacks\n",
       "      console.info(\"Bokeh: all callbacks have finished\");\n",
       "    }\n",
       "  \n",
       "    function load_libs(js_urls, callback) {\n",
       "      window._bokeh_onload_callbacks.push(callback);\n",
       "      if (window._bokeh_is_loading > 0) {\n",
       "        console.log(\"Bokeh: BokehJS is being loaded, scheduling callback at\", now());\n",
       "        return null;\n",
       "      }\n",
       "      if (js_urls == null || js_urls.length === 0) {\n",
       "        run_callbacks();\n",
       "        return null;\n",
       "      }\n",
       "      console.log(\"Bokeh: BokehJS not loaded, scheduling load and callback at\", now());\n",
       "      window._bokeh_is_loading = js_urls.length;\n",
       "      for (var i = 0; i < js_urls.length; i++) {\n",
       "        var url = js_urls[i];\n",
       "        var s = document.createElement('script');\n",
       "        s.src = url;\n",
       "        s.async = false;\n",
       "        s.onreadystatechange = s.onload = function() {\n",
       "          window._bokeh_is_loading--;\n",
       "          if (window._bokeh_is_loading === 0) {\n",
       "            console.log(\"Bokeh: all BokehJS libraries loaded\");\n",
       "            run_callbacks()\n",
       "          }\n",
       "        };\n",
       "        s.onerror = function() {\n",
       "          console.warn(\"failed to load library \" + url);\n",
       "        };\n",
       "        console.log(\"Bokeh: injecting script tag for BokehJS library: \", url);\n",
       "        document.getElementsByTagName(\"head\")[0].appendChild(s);\n",
       "      }\n",
       "    };var element = document.getElementById(\"ef19659d-36ce-437e-8efb-fd3531a4ccec\");\n",
       "    if (element == null) {\n",
       "      console.log(\"Bokeh: ERROR: autoload.js configured with elementid 'ef19659d-36ce-437e-8efb-fd3531a4ccec' but no matching script tag was found. \")\n",
       "      return false;\n",
       "    }\n",
       "  \n",
       "    var js_urls = [];\n",
       "  \n",
       "    var inline_js = [\n",
       "      function(Bokeh) {\n",
       "        (function() {\n",
       "          var fn = function() {\n",
       "            var docs_json = {\"5688ca38-5f41-426c-b281-be50661daed9\":{\"roots\":{\"references\":[{\"attributes\":{\"plot\":{\"id\":\"16e0dafa-0e57-4f60-a6ac-44c9361793f1\",\"subtype\":\"Chart\",\"type\":\"Plot\"}},\"id\":\"686c57f6-2aa3-42e7-afd8-c1116dddb1ed\",\"type\":\"PanTool\"},{\"attributes\":{\"data_source\":{\"id\":\"413b7fbd-9da6-43a7-93e9-5b4005b66744\",\"type\":\"ColumnDataSource\"},\"glyph\":{\"id\":\"543d9a39-2a7b-47f3-82ca-e1615804d4e1\",\"type\":\"Circle\"},\"hover_glyph\":null,\"nonselection_glyph\":{\"id\":\"5e893847-a53f-4602-b7eb-99b8b2fc06d9\",\"type\":\"Circle\"},\"selection_glyph\":null},\"id\":\"da21190d-2a49-46c9-8982-0cb08a976efb\",\"type\":\"GlyphRenderer\"},{\"attributes\":{\"plot\":{\"id\":\"16e0dafa-0e57-4f60-a6ac-44c9361793f1\",\"subtype\":\"Chart\",\"type\":\"Plot\"}},\"id\":\"cf258485-6482-4680-ac05-cd786e00e9fc\",\"type\":\"WheelZoomTool\"},{\"attributes\":{\"label\":{\"value\":\"0\"},\"renderers\":[{\"id\":\"83659b2c-b118-4ff3-a916-1490c3b974fe\",\"type\":\"GlyphRenderer\"}]},\"id\":\"146e897c-bf9e-4152-8609-2f77503697cf\",\"type\":\"LegendItem\"},{\"attributes\":{},\"id\":\"43e7c961-7092-4395-ba11-70fad252512e\",\"type\":\"BasicTickFormatter\"},{\"attributes\":{\"bottom_units\":\"screen\",\"fill_alpha\":{\"value\":0.5},\"fill_color\":{\"value\":\"lightgrey\"},\"left_units\":\"screen\",\"level\":\"overlay\",\"line_alpha\":{\"value\":1.0},\"line_color\":{\"value\":\"black\"},\"line_dash\":[4,4],\"line_width\":{\"value\":2},\"plot\":null,\"render_mode\":\"css\",\"right_units\":\"screen\",\"top_units\":\"screen\"},\"id\":\"769bd820-170b-4a57-aabf-8adf183e425d\",\"type\":\"BoxAnnotation\"},{\"attributes\":{\"fill_alpha\":{\"value\":0.5},\"fill_color\":{\"value\":\"grey\"},\"line_alpha\":{\"value\":0.5},\"line_color\":{\"value\":\"grey\"},\"size\":{\"units\":\"screen\",\"value\":15},\"x\":{\"value\":0.16961385},\"y\":{\"value\":0.25412824}},\"id\":\"543d9a39-2a7b-47f3-82ca-e1615804d4e1\",\"type\":\"Circle\"},{\"attributes\":{\"callback\":null,\"column_names\":[\"x_values\",\"y_values\"],\"data\":{\"chart_index\":[{\"clusters\":1},{\"clusters\":1},{\"clusters\":1},{\"clusters\":1},{\"clusters\":1},{\"clusters\":1},{\"clusters\":1}],\"clusters\":[1,1,1,1,1,1,1],\"x_values\":{\"__ndarray__\":\"fplW7SZf0z/MzOTAedXQP6kVe0V81t4/gBUUfcTw1z8brbzxJgjSP9bjU+txedA/lg4HBoCd1j8=\",\"dtype\":\"float64\",\"shape\":[7]},\"y_values\":{\"__ndarray__\":\"iIWV7nQ54T+PpigRTX7pP+kWge0U5+M/o/Mr2Qhc5j+WRyMinYbqP3TTqkUU0uQ/4mMSqxh/5T8=\",\"dtype\":\"float64\",\"shape\":[7]}}},\"id\":\"7401c722-8969-4af5-a9f9-cb876cbca3d6\",\"type\":\"ColumnDataSource\"},{\"attributes\":{\"fill_alpha\":{\"value\":0.7},\"fill_color\":{\"value\":\"#407ee7\"},\"line_color\":{\"value\":\"#407ee7\"},\"size\":{\"units\":\"screen\",\"value\":8},\"x\":{\"field\":\"x_values\"},\"y\":{\"field\":\"y_values\"}},\"id\":\"80b86042-6afa-4859-a305-c979df2008f9\",\"type\":\"Triangle\"},{\"attributes\":{\"overlay\":{\"id\":\"769bd820-170b-4a57-aabf-8adf183e425d\",\"type\":\"BoxAnnotation\"},\"plot\":{\"id\":\"16e0dafa-0e57-4f60-a6ac-44c9361793f1\",\"subtype\":\"Chart\",\"type\":\"Plot\"}},\"id\":\"4c5b957b-6ba0-4bca-b90b-2c2727fe1f47\",\"type\":\"BoxZoomTool\"},{\"attributes\":{\"data_source\":{\"id\":\"914ee34e-436a-47c2-98df-5ba617f48817\",\"type\":\"ColumnDataSource\"},\"glyph\":{\"id\":\"80b86042-6afa-4859-a305-c979df2008f9\",\"type\":\"Triangle\"},\"hover_glyph\":null,\"nonselection_glyph\":null,\"selection_glyph\":null},\"id\":\"36a74ff2-a7b2-4735-828d-f4cfa87533a4\",\"type\":\"GlyphRenderer\"},{\"attributes\":{\"plot\":{\"id\":\"16e0dafa-0e57-4f60-a6ac-44c9361793f1\",\"subtype\":\"Chart\",\"type\":\"Plot\"}},\"id\":\"ea132522-1d57-40e5-bf5b-d8c3f9f226a4\",\"type\":\"ResetTool\"},{\"attributes\":{\"callback\":null,\"end\":0.903280425271865,\"start\":0.011103508755078137},\"id\":\"987c9cfb-bc06-4959-94d2-c12be9ba0283\",\"type\":\"Range1d\"},{\"attributes\":{},\"id\":\"aec63c71-d669-48ff-9c0c-98a8f7c4f026\",\"type\":\"BasicTicker\"},{\"attributes\":{\"items\":[{\"id\":\"146e897c-bf9e-4152-8609-2f77503697cf\",\"type\":\"LegendItem\"},{\"id\":\"807c2edc-0943-441f-8d81-619ca2f1a9d6\",\"type\":\"LegendItem\"},{\"id\":\"7313ef61-6f8a-4fe0-a56d-159dbe04cc29\",\"type\":\"LegendItem\"}],\"location\":\"top_left\",\"plot\":{\"id\":\"16e0dafa-0e57-4f60-a6ac-44c9361793f1\",\"subtype\":\"Chart\",\"type\":\"Plot\"}},\"id\":\"624fc1b1-cbfe-4f79-89a1-310acbdd8a85\",\"type\":\"Legend\"},{\"attributes\":{\"axis_label\":\"y\",\"formatter\":{\"id\":\"928b0498-8944-470d-9501-8e392e20efe3\",\"type\":\"BasicTickFormatter\"},\"plot\":{\"id\":\"16e0dafa-0e57-4f60-a6ac-44c9361793f1\",\"subtype\":\"Chart\",\"type\":\"Plot\"},\"ticker\":{\"id\":\"3b70cfdf-ba4c-4a87-9b15-7782000bcfe9\",\"type\":\"BasicTicker\"}},\"id\":\"a74fe987-c180-4408-9486-e76436f90258\",\"type\":\"LinearAxis\"},{\"attributes\":{\"plot\":{\"id\":\"16e0dafa-0e57-4f60-a6ac-44c9361793f1\",\"subtype\":\"Chart\",\"type\":\"Plot\"},\"ticker\":{\"id\":\"aec63c71-d669-48ff-9c0c-98a8f7c4f026\",\"type\":\"BasicTicker\"}},\"id\":\"27508b71-01d3-44be-8244-5f3c1c821647\",\"type\":\"Grid\"},{\"attributes\":{\"callback\":null},\"id\":\"413b7fbd-9da6-43a7-93e9-5b4005b66744\",\"type\":\"ColumnDataSource\"},{\"attributes\":{},\"id\":\"928b0498-8944-470d-9501-8e392e20efe3\",\"type\":\"BasicTickFormatter\"},{\"attributes\":{\"dimension\":1,\"plot\":{\"id\":\"16e0dafa-0e57-4f60-a6ac-44c9361793f1\",\"subtype\":\"Chart\",\"type\":\"Plot\"},\"ticker\":{\"id\":\"3b70cfdf-ba4c-4a87-9b15-7782000bcfe9\",\"type\":\"BasicTicker\"}},\"id\":\"552046bb-bc1d-4c7f-9433-52d27c6eb5c6\",\"type\":\"Grid\"},{\"attributes\":{\"callback\":null,\"end\":0.9744370255509869,\"start\":0.1325929634192264},\"id\":\"0865e742-f735-41aa-b96e-8c4624776393\",\"type\":\"Range1d\"},{\"attributes\":{\"fill_alpha\":{\"value\":0.1},\"fill_color\":{\"value\":\"#1f77b4\"},\"line_alpha\":{\"value\":0.1},\"line_color\":{\"value\":\"#1f77b4\"},\"size\":{\"units\":\"screen\",\"value\":15},\"x\":{\"value\":0.16961385},\"y\":{\"value\":0.25412824}},\"id\":\"5e893847-a53f-4602-b7eb-99b8b2fc06d9\",\"type\":\"Circle\"},{\"attributes\":{\"fill_alpha\":{\"value\":0.5},\"fill_color\":{\"value\":\"grey\"},\"line_alpha\":{\"value\":0.5},\"line_color\":{\"value\":\"grey\"},\"size\":{\"units\":\"screen\",\"value\":15},\"x\":{\"value\":0.29755469},\"y\":{\"value\":0.58184334}},\"id\":\"478ea0d7-a95b-4e6f-9e57-f56f0ae0c88e\",\"type\":\"Circle\"},{\"attributes\":{\"callback\":null},\"id\":\"f1eb7f08-ef02-4a05-af16-d41f741f6e4a\",\"type\":\"ColumnDataSource\"},{\"attributes\":{\"data_source\":{\"id\":\"f1eb7f08-ef02-4a05-af16-d41f741f6e4a\",\"type\":\"ColumnDataSource\"},\"glyph\":{\"id\":\"478ea0d7-a95b-4e6f-9e57-f56f0ae0c88e\",\"type\":\"Circle\"},\"hover_glyph\":null,\"nonselection_glyph\":{\"id\":\"a7bf2c85-8bd6-48a1-84a6-d7eab79fa559\",\"type\":\"Circle\"},\"selection_glyph\":null},\"id\":\"eb5444c9-4a7c-4af1-b070-ad35b5172055\",\"type\":\"GlyphRenderer\"},{\"attributes\":{\"fill_alpha\":{\"value\":0.7},\"fill_color\":{\"value\":\"#5ab738\"},\"line_color\":{\"value\":\"#5ab738\"},\"size\":{\"units\":\"screen\",\"value\":8},\"x\":{\"field\":\"x_values\"},\"y\":{\"field\":\"y_values\"}},\"id\":\"7dbffb81-ae59-40a2-87ad-6be17a791dff\",\"type\":\"Square\"},{\"attributes\":{\"fill_alpha\":{\"value\":0.1},\"fill_color\":{\"value\":\"#1f77b4\"},\"line_alpha\":{\"value\":0.1},\"line_color\":{\"value\":\"#1f77b4\"},\"size\":{\"units\":\"screen\",\"value\":15},\"x\":{\"value\":0.29755469},\"y\":{\"value\":0.58184334}},\"id\":\"a7bf2c85-8bd6-48a1-84a6-d7eab79fa559\",\"type\":\"Circle\"},{\"attributes\":{\"callback\":null,\"column_names\":[\"x_values\",\"y_values\"],\"data\":{\"chart_index\":[{\"clusters\":2},{\"clusters\":2},{\"clusters\":2},{\"clusters\":2},{\"clusters\":2},{\"clusters\":2},{\"clusters\":2}],\"clusters\":[2,2,2,2,2,2,2],\"x_values\":{\"__ndarray__\":\"OozXGo1o4z866Lw3ZmfmP3qYz6Tj7+w/iUo2oOXC5z9a/gT90T/jP2IGD8Pmo+Q/XX0myNdM5T8=\",\"dtype\":\"float64\",\"shape\":[7]},\"y_values\":{\"__ndarray__\":\"e0exFHJf5T+6JH7fSlDqP8Vyv+9w7+U/Cxr2pRz+5D8JnIB8CvPnP5yyUXTCPOI/8p3BRdLK4T8=\",\"dtype\":\"float64\",\"shape\":[7]}}},\"id\":\"914ee34e-436a-47c2-98df-5ba617f48817\",\"type\":\"ColumnDataSource\"},{\"attributes\":{\"callback\":null},\"id\":\"2b12dc68-506e-46fc-8119-151cc44ffbb3\",\"type\":\"ColumnDataSource\"},{\"attributes\":{\"axis_label\":\"x\",\"formatter\":{\"id\":\"43e7c961-7092-4395-ba11-70fad252512e\",\"type\":\"BasicTickFormatter\"},\"plot\":{\"id\":\"16e0dafa-0e57-4f60-a6ac-44c9361793f1\",\"subtype\":\"Chart\",\"type\":\"Plot\"},\"ticker\":{\"id\":\"aec63c71-d669-48ff-9c0c-98a8f7c4f026\",\"type\":\"BasicTicker\"}},\"id\":\"2ad07c19-44f9-4775-bd2e-1f28b12ec26f\",\"type\":\"LinearAxis\"},{\"attributes\":{\"fill_alpha\":{\"value\":0.5},\"fill_color\":{\"value\":\"grey\"},\"line_alpha\":{\"value\":0.5},\"line_color\":{\"value\":\"grey\"},\"size\":{\"units\":\"screen\",\"value\":15},\"x\":{\"value\":0.72744616},\"y\":{\"value\":0.74496645}},\"id\":\"680ff168-3f8b-4a73-8902-cb5b688aca0b\",\"type\":\"Circle\"},{\"attributes\":{\"fill_alpha\":{\"value\":0.1},\"fill_color\":{\"value\":\"#1f77b4\"},\"line_alpha\":{\"value\":0.1},\"line_color\":{\"value\":\"#1f77b4\"},\"size\":{\"units\":\"screen\",\"value\":15},\"x\":{\"value\":0.72744616},\"y\":{\"value\":0.74496645}},\"id\":\"81abc7a6-f317-4b06-b4d3-89aa983422d7\",\"type\":\"Circle\"},{\"attributes\":{\"data_source\":{\"id\":\"2b12dc68-506e-46fc-8119-151cc44ffbb3\",\"type\":\"ColumnDataSource\"},\"glyph\":{\"id\":\"680ff168-3f8b-4a73-8902-cb5b688aca0b\",\"type\":\"Circle\"},\"hover_glyph\":null,\"nonselection_glyph\":{\"id\":\"81abc7a6-f317-4b06-b4d3-89aa983422d7\",\"type\":\"Circle\"},\"selection_glyph\":null},\"id\":\"8ccb0a47-1ec4-4b74-9885-3da9d7bd99a0\",\"type\":\"GlyphRenderer\"},{\"attributes\":{\"plot\":{\"id\":\"16e0dafa-0e57-4f60-a6ac-44c9361793f1\",\"subtype\":\"Chart\",\"type\":\"Plot\"}},\"id\":\"754df064-ea9d-4d9c-b4a9-832944324610\",\"type\":\"SaveTool\"},{\"attributes\":{\"plot\":{\"id\":\"16e0dafa-0e57-4f60-a6ac-44c9361793f1\",\"subtype\":\"Chart\",\"type\":\"Plot\"}},\"id\":\"4bb36416-61fb-4229-8f14-09e56699426d\",\"type\":\"HelpTool\"},{\"attributes\":{\"active_drag\":\"auto\",\"active_scroll\":\"auto\",\"active_tap\":\"auto\",\"tools\":[{\"id\":\"686c57f6-2aa3-42e7-afd8-c1116dddb1ed\",\"type\":\"PanTool\"},{\"id\":\"cf258485-6482-4680-ac05-cd786e00e9fc\",\"type\":\"WheelZoomTool\"},{\"id\":\"4c5b957b-6ba0-4bca-b90b-2c2727fe1f47\",\"type\":\"BoxZoomTool\"},{\"id\":\"754df064-ea9d-4d9c-b4a9-832944324610\",\"type\":\"SaveTool\"},{\"id\":\"ea132522-1d57-40e5-bf5b-d8c3f9f226a4\",\"type\":\"ResetTool\"},{\"id\":\"4bb36416-61fb-4229-8f14-09e56699426d\",\"type\":\"HelpTool\"}]},\"id\":\"418ffd25-59d6-4c03-8151-44b0732c42f9\",\"type\":\"Toolbar\"},{\"attributes\":{\"fill_alpha\":{\"value\":0.7},\"fill_color\":{\"value\":\"#f22c40\"},\"line_color\":{\"value\":\"#f22c40\"},\"size\":{\"units\":\"screen\",\"value\":8},\"x\":{\"field\":\"x_values\"},\"y\":{\"field\":\"y_values\"}},\"id\":\"1a0333db-9435-42ea-8e82-c2e40c4fad23\",\"type\":\"Circle\"},{\"attributes\":{\"plot\":null,\"text\":null},\"id\":\"8b1c54e6-6638-4799-b334-a20699b7af6e\",\"type\":\"Title\"},{\"attributes\":{\"below\":[{\"id\":\"2ad07c19-44f9-4775-bd2e-1f28b12ec26f\",\"type\":\"LinearAxis\"}],\"css_classes\":null,\"height\":400,\"left\":[{\"id\":\"a74fe987-c180-4408-9486-e76436f90258\",\"type\":\"LinearAxis\"}],\"renderers\":[{\"id\":\"769bd820-170b-4a57-aabf-8adf183e425d\",\"type\":\"BoxAnnotation\"},{\"id\":\"83659b2c-b118-4ff3-a916-1490c3b974fe\",\"type\":\"GlyphRenderer\"},{\"id\":\"fe646a30-8213-4e90-8ae7-bdd7b80ea072\",\"type\":\"GlyphRenderer\"},{\"id\":\"36a74ff2-a7b2-4735-828d-f4cfa87533a4\",\"type\":\"GlyphRenderer\"},{\"id\":\"624fc1b1-cbfe-4f79-89a1-310acbdd8a85\",\"type\":\"Legend\"},{\"id\":\"2ad07c19-44f9-4775-bd2e-1f28b12ec26f\",\"type\":\"LinearAxis\"},{\"id\":\"a74fe987-c180-4408-9486-e76436f90258\",\"type\":\"LinearAxis\"},{\"id\":\"27508b71-01d3-44be-8244-5f3c1c821647\",\"type\":\"Grid\"},{\"id\":\"552046bb-bc1d-4c7f-9433-52d27c6eb5c6\",\"type\":\"Grid\"},{\"id\":\"da21190d-2a49-46c9-8982-0cb08a976efb\",\"type\":\"GlyphRenderer\"},{\"id\":\"eb5444c9-4a7c-4af1-b070-ad35b5172055\",\"type\":\"GlyphRenderer\"},{\"id\":\"8ccb0a47-1ec4-4b74-9885-3da9d7bd99a0\",\"type\":\"GlyphRenderer\"}],\"title\":{\"id\":\"8b1c54e6-6638-4799-b334-a20699b7af6e\",\"type\":\"Title\"},\"tool_events\":{\"id\":\"d74d9dbc-eeaa-465a-ae07-46f0547425f4\",\"type\":\"ToolEvents\"},\"toolbar\":{\"id\":\"418ffd25-59d6-4c03-8151-44b0732c42f9\",\"type\":\"Toolbar\"},\"width\":750,\"x_mapper_type\":\"auto\",\"x_range\":{\"id\":\"0865e742-f735-41aa-b96e-8c4624776393\",\"type\":\"Range1d\"},\"y_mapper_type\":\"auto\",\"y_range\":{\"id\":\"987c9cfb-bc06-4959-94d2-c12be9ba0283\",\"type\":\"Range1d\"}},\"id\":\"16e0dafa-0e57-4f60-a6ac-44c9361793f1\",\"subtype\":\"Chart\",\"type\":\"Plot\"},{\"attributes\":{\"label\":{\"value\":\"2\"},\"renderers\":[{\"id\":\"36a74ff2-a7b2-4735-828d-f4cfa87533a4\",\"type\":\"GlyphRenderer\"}]},\"id\":\"7313ef61-6f8a-4fe0-a56d-159dbe04cc29\",\"type\":\"LegendItem\"},{\"attributes\":{\"data_source\":{\"id\":\"7401c722-8969-4af5-a9f9-cb876cbca3d6\",\"type\":\"ColumnDataSource\"},\"glyph\":{\"id\":\"7dbffb81-ae59-40a2-87ad-6be17a791dff\",\"type\":\"Square\"},\"hover_glyph\":null,\"nonselection_glyph\":null,\"selection_glyph\":null},\"id\":\"fe646a30-8213-4e90-8ae7-bdd7b80ea072\",\"type\":\"GlyphRenderer\"},{\"attributes\":{},\"id\":\"d74d9dbc-eeaa-465a-ae07-46f0547425f4\",\"type\":\"ToolEvents\"},{\"attributes\":{},\"id\":\"3b70cfdf-ba4c-4a87-9b15-7782000bcfe9\",\"type\":\"BasicTicker\"},{\"attributes\":{\"callback\":null,\"column_names\":[\"x_values\",\"y_values\"],\"data\":{\"chart_index\":[{\"clusters\":0},{\"clusters\":0},{\"clusters\":0},{\"clusters\":0},{\"clusters\":0},{\"clusters\":0},{\"clusters\":0}],\"clusters\":[0,0,0,0,0,0,0],\"x_values\":{\"__ndarray__\":\"uebGRv+b0T/W95/cqQXTP7p8lw0v/NM/tppRgb8X1z+0Shk3DT/WP11c6gua88k/Su+2Icb50D8=\",\"dtype\":\"float64\",\"shape\":[7]},\"y_values\":{\"__ndarray__\":\"JPOHsyfgtT9nJWH6I9fTP06dmXRcmMw/lP+Pg9Eg1j9UVJbQGnbYP2yyT3IwnNU/ZJjU1bkszT8=\",\"dtype\":\"float64\",\"shape\":[7]}}},\"id\":\"4f2a486a-7384-4140-bdd7-cea71ac74bf6\",\"type\":\"ColumnDataSource\"},{\"attributes\":{\"label\":{\"value\":\"1\"},\"renderers\":[{\"id\":\"fe646a30-8213-4e90-8ae7-bdd7b80ea072\",\"type\":\"GlyphRenderer\"}]},\"id\":\"807c2edc-0943-441f-8d81-619ca2f1a9d6\",\"type\":\"LegendItem\"},{\"attributes\":{\"data_source\":{\"id\":\"4f2a486a-7384-4140-bdd7-cea71ac74bf6\",\"type\":\"ColumnDataSource\"},\"glyph\":{\"id\":\"1a0333db-9435-42ea-8e82-c2e40c4fad23\",\"type\":\"Circle\"},\"hover_glyph\":null,\"nonselection_glyph\":null,\"selection_glyph\":null},\"id\":\"83659b2c-b118-4ff3-a916-1490c3b974fe\",\"type\":\"GlyphRenderer\"}],\"root_ids\":[\"16e0dafa-0e57-4f60-a6ac-44c9361793f1\"]},\"title\":\"Bokeh Application\",\"version\":\"0.12.4\"}};\n",
       "            var render_items = [{\"docid\":\"5688ca38-5f41-426c-b281-be50661daed9\",\"elementid\":\"ef19659d-36ce-437e-8efb-fd3531a4ccec\",\"modelid\":\"16e0dafa-0e57-4f60-a6ac-44c9361793f1\"}];\n",
       "            \n",
       "            Bokeh.embed.embed_items(docs_json, render_items);\n",
       "          };\n",
       "          if (document.readyState != \"loading\") fn();\n",
       "          else document.addEventListener(\"DOMContentLoaded\", fn);\n",
       "        })();\n",
       "      },\n",
       "      function(Bokeh) {\n",
       "      }\n",
       "    ];\n",
       "  \n",
       "    function run_inline_js() {\n",
       "      \n",
       "      if ((window.Bokeh !== undefined) || (force === true)) {\n",
       "        for (var i = 0; i < inline_js.length; i++) {\n",
       "          inline_js[i](window.Bokeh);\n",
       "        }if (force === true) {\n",
       "          display_loaded();\n",
       "        }} else if (Date.now() < window._bokeh_timeout) {\n",
       "        setTimeout(run_inline_js, 100);\n",
       "      } else if (!window._bokeh_failed_load) {\n",
       "        console.log(\"Bokeh: BokehJS failed to load within specified timeout.\");\n",
       "        window._bokeh_failed_load = true;\n",
       "      } else if (force !== true) {\n",
       "        var cell = $(document.getElementById(\"ef19659d-36ce-437e-8efb-fd3531a4ccec\")).parents('.cell').data().cell;\n",
       "        cell.output_area.append_execute_result(NB_LOAD_WARNING)\n",
       "      }\n",
       "  \n",
       "    }\n",
       "  \n",
       "    if (window._bokeh_is_loading === 0) {\n",
       "      console.log(\"Bokeh: BokehJS loaded, going straight to plotting\");\n",
       "      run_inline_js();\n",
       "    } else {\n",
       "      load_libs(js_urls, function() {\n",
       "        console.log(\"Bokeh: BokehJS plotting callback run at\", now());\n",
       "        run_inline_js();\n",
       "      });\n",
       "    }\n",
       "  }(this));\n",
       "</script>"
      ]
     },
     "metadata": {},
     "output_type": "display_data"
    }
   ],
   "source": [
    "plot_clusters(clusters, cluster_centers)"
   ]
  },
  {
   "cell_type": "code",
   "execution_count": null,
   "metadata": {
    "collapsed": true,
    "deletable": true,
    "editable": true
   },
   "outputs": [],
   "source": []
  },
  {
   "cell_type": "code",
   "execution_count": null,
   "metadata": {
    "collapsed": true,
    "deletable": true,
    "editable": true
   },
   "outputs": [],
   "source": []
  },
  {
   "cell_type": "code",
   "execution_count": null,
   "metadata": {
    "collapsed": true,
    "deletable": true,
    "editable": true
   },
   "outputs": [],
   "source": []
  },
  {
   "cell_type": "code",
   "execution_count": null,
   "metadata": {
    "collapsed": true,
    "deletable": true,
    "editable": true
   },
   "outputs": [],
   "source": []
  },
  {
   "cell_type": "markdown",
   "metadata": {
    "deletable": true,
    "editable": true,
    "slideshow": {
     "slide_type": "slide"
    }
   },
   "source": [
    "## Example: Ride Sharing"
   ]
  }
 ],
 "metadata": {
  "celltoolbar": "Slideshow",
  "kernelspec": {
   "display_name": "Python 3",
   "language": "python",
   "name": "python3"
  },
  "language_info": {
   "codemirror_mode": {
    "name": "ipython",
    "version": 3
   },
   "file_extension": ".py",
   "mimetype": "text/x-python",
   "name": "python",
   "nbconvert_exporter": "python",
   "pygments_lexer": "ipython3",
   "version": "3.6.0"
  }
 },
 "nbformat": 4,
 "nbformat_minor": 2
}
