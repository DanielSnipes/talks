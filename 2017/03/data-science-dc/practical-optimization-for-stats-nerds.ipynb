{
 "cells": [
  {
   "cell_type": "markdown",
   "metadata": {
    "deletable": true,
    "editable": true,
    "slideshow": {
     "slide_type": "slide"
    }
   },
   "source": [
    "# Practical Optimization for Stats Nerds\n",
    "\n",
    "Ryan J. O'Neil  \n",
    "Data Science DC  \n",
    "March 20, 2017\n",
    "\n",
    "[ryanjoneil@gmail.com](mailto:ryanjoneil@gmail.com)  \n",
    "[https://ryanjoneil.github.io](https://ryanjoneil.github.io)  \n",
    "[@ryanjoneil](https://twitter.com/ryanjoneil)"
   ]
  },
  {
   "cell_type": "markdown",
   "metadata": {
    "deletable": true,
    "editable": true,
    "slideshow": {
     "slide_type": "subslide"
    }
   },
   "source": [
    "## What to expect\n",
    "  \n",
    "  \n",
    "* We'll take familiar models, show how they work from an optimization perspective, then show applications.  \n"
   ]
  },
  {
   "cell_type": "markdown",
   "metadata": {
    "deletable": true,
    "editable": true,
    "slideshow": {
     "slide_type": "fragment"
    }
   },
   "source": [
    "\n",
    "* Everything uses Python 3.6 and related libraries.  \n",
    "  "
   ]
  },
  {
   "cell_type": "markdown",
   "metadata": {
    "deletable": true,
    "editable": true,
    "slideshow": {
     "slide_type": "fragment"
    }
   },
   "source": [
    "\n",
    "* It might get a little technical, so...  \n",
    "  "
   ]
  },
  {
   "cell_type": "markdown",
   "metadata": {
    "deletable": true,
    "editable": true,
    "slideshow": {
     "slide_type": "subslide"
    }
   },
   "source": [
    "## Take-aways\n",
    "  \n",
    "  \n",
    "* Many statistical techniques are based on some sort of optimization.\n",
    "  "
   ]
  },
  {
   "cell_type": "markdown",
   "metadata": {
    "deletable": true,
    "editable": true,
    "slideshow": {
     "slide_type": "fragment"
    }
   },
   "source": [
    "\n",
    "* Optimization has lots of uses, such as solving decision models.\n",
    "  "
   ]
  },
  {
   "cell_type": "markdown",
   "metadata": {
    "deletable": true,
    "editable": true,
    "slideshow": {
     "slide_type": "fragment"
    }
   },
   "source": [
    "\n",
    "* Learning to structure problems you already know for optimization solvers is a great way to understand them!\n"
   ]
  },
  {
   "cell_type": "markdown",
   "metadata": {
    "deletable": true,
    "editable": true,
    "slideshow": {
     "slide_type": "slide"
    }
   },
   "source": [
    "## Least Squares\n",
    "\n",
    "We observe noisy data from an unknown function. We want to infer that function."
   ]
  },
  {
   "cell_type": "markdown",
   "metadata": {
    "deletable": true,
    "editable": true,
    "slideshow": {
     "slide_type": "subslide"
    }
   },
   "source": [
    "But let's assume that, deep down, we actually know the function. That way we can generate noisy data and see if our techniques work right.\n",
    "\n",
    "#### Function:\n",
    "$$y = 3x^2 - 2x + 10 + \\epsilon$$\n",
    "\n",
    "#### Noise:\n",
    "$$\\epsilon \\sim N\\left(0, 25\\right)$$"
   ]
  },
  {
   "cell_type": "code",
   "execution_count": 1,
   "metadata": {
    "collapsed": false,
    "deletable": true,
    "editable": true,
    "slideshow": {
     "slide_type": "subslide"
    }
   },
   "outputs": [],
   "source": [
    "# Generate some random data.\n",
    "import numpy as np\n",
    "import random\n",
    "\n",
    "# Sort the data so they're easier to plot later.\n",
    "x = [random.uniform(-10, 10) for _ in range(500)]\n",
    "x.sort()\n",
    "\n",
    "y = []\n",
    "for xi in x:\n",
    "    eps = random.normalvariate(0, 25)\n",
    "    yi = 3*xi**2 - 2*xi + 10 + eps\n",
    "    y.append(yi)\n",
    "    \n",
    "x = np.array(x)\n",
    "y = np.array(y)"
   ]
  },
  {
   "cell_type": "code",
   "execution_count": 2,
   "metadata": {
    "collapsed": false,
    "deletable": true,
    "editable": true,
    "scrolled": true,
    "slideshow": {
     "slide_type": "subslide"
    }
   },
   "outputs": [
    {
     "data": {
      "text/html": [
       "\n",
       "    <div class=\"bk-root\">\n",
       "        <a href=\"http://bokeh.pydata.org\" target=\"_blank\" class=\"bk-logo bk-logo-small bk-logo-notebook\"></a>\n",
       "        <span id=\"7361c638-746f-4519-b1a6-2d84d5bcf061\">Loading BokehJS ...</span>\n",
       "    </div>"
      ]
     },
     "metadata": {},
     "output_type": "display_data"
    },
    {
     "data": {
      "application/javascript": [
       "\n",
       "(function(global) {\n",
       "  function now() {\n",
       "    return new Date();\n",
       "  }\n",
       "\n",
       "  var force = true;\n",
       "\n",
       "  if (typeof (window._bokeh_onload_callbacks) === \"undefined\" || force === true) {\n",
       "    window._bokeh_onload_callbacks = [];\n",
       "    window._bokeh_is_loading = undefined;\n",
       "  }\n",
       "\n",
       "\n",
       "  \n",
       "  if (typeof (window._bokeh_timeout) === \"undefined\" || force === true) {\n",
       "    window._bokeh_timeout = Date.now() + 5000;\n",
       "    window._bokeh_failed_load = false;\n",
       "  }\n",
       "\n",
       "  var NB_LOAD_WARNING = {'data': {'text/html':\n",
       "     \"<div style='background-color: #fdd'>\\n\"+\n",
       "     \"<p>\\n\"+\n",
       "     \"BokehJS does not appear to have successfully loaded. If loading BokehJS from CDN, this \\n\"+\n",
       "     \"may be due to a slow or bad network connection. Possible fixes:\\n\"+\n",
       "     \"</p>\\n\"+\n",
       "     \"<ul>\\n\"+\n",
       "     \"<li>re-rerun `output_notebook()` to attempt to load from CDN again, or</li>\\n\"+\n",
       "     \"<li>use INLINE resources instead, as so:</li>\\n\"+\n",
       "     \"</ul>\\n\"+\n",
       "     \"<code>\\n\"+\n",
       "     \"from bokeh.resources import INLINE\\n\"+\n",
       "     \"output_notebook(resources=INLINE)\\n\"+\n",
       "     \"</code>\\n\"+\n",
       "     \"</div>\"}};\n",
       "\n",
       "  function display_loaded() {\n",
       "    if (window.Bokeh !== undefined) {\n",
       "      document.getElementById(\"7361c638-746f-4519-b1a6-2d84d5bcf061\").textContent = \"BokehJS successfully loaded.\";\n",
       "    } else if (Date.now() < window._bokeh_timeout) {\n",
       "      setTimeout(display_loaded, 100)\n",
       "    }\n",
       "  }\n",
       "\n",
       "  function run_callbacks() {\n",
       "    window._bokeh_onload_callbacks.forEach(function(callback) { callback() });\n",
       "    delete window._bokeh_onload_callbacks\n",
       "    console.info(\"Bokeh: all callbacks have finished\");\n",
       "  }\n",
       "\n",
       "  function load_libs(js_urls, callback) {\n",
       "    window._bokeh_onload_callbacks.push(callback);\n",
       "    if (window._bokeh_is_loading > 0) {\n",
       "      console.log(\"Bokeh: BokehJS is being loaded, scheduling callback at\", now());\n",
       "      return null;\n",
       "    }\n",
       "    if (js_urls == null || js_urls.length === 0) {\n",
       "      run_callbacks();\n",
       "      return null;\n",
       "    }\n",
       "    console.log(\"Bokeh: BokehJS not loaded, scheduling load and callback at\", now());\n",
       "    window._bokeh_is_loading = js_urls.length;\n",
       "    for (var i = 0; i < js_urls.length; i++) {\n",
       "      var url = js_urls[i];\n",
       "      var s = document.createElement('script');\n",
       "      s.src = url;\n",
       "      s.async = false;\n",
       "      s.onreadystatechange = s.onload = function() {\n",
       "        window._bokeh_is_loading--;\n",
       "        if (window._bokeh_is_loading === 0) {\n",
       "          console.log(\"Bokeh: all BokehJS libraries loaded\");\n",
       "          run_callbacks()\n",
       "        }\n",
       "      };\n",
       "      s.onerror = function() {\n",
       "        console.warn(\"failed to load library \" + url);\n",
       "      };\n",
       "      console.log(\"Bokeh: injecting script tag for BokehJS library: \", url);\n",
       "      document.getElementsByTagName(\"head\")[0].appendChild(s);\n",
       "    }\n",
       "  };var element = document.getElementById(\"7361c638-746f-4519-b1a6-2d84d5bcf061\");\n",
       "  if (element == null) {\n",
       "    console.log(\"Bokeh: ERROR: autoload.js configured with elementid '7361c638-746f-4519-b1a6-2d84d5bcf061' but no matching script tag was found. \")\n",
       "    return false;\n",
       "  }\n",
       "\n",
       "  var js_urls = [\"https://cdn.pydata.org/bokeh/release/bokeh-0.12.4.min.js\", \"https://cdn.pydata.org/bokeh/release/bokeh-widgets-0.12.4.min.js\"];\n",
       "\n",
       "  var inline_js = [\n",
       "    function(Bokeh) {\n",
       "      Bokeh.set_log_level(\"info\");\n",
       "    },\n",
       "    \n",
       "    function(Bokeh) {\n",
       "      \n",
       "      document.getElementById(\"7361c638-746f-4519-b1a6-2d84d5bcf061\").textContent = \"BokehJS is loading...\";\n",
       "    },\n",
       "    function(Bokeh) {\n",
       "      console.log(\"Bokeh: injecting CSS: https://cdn.pydata.org/bokeh/release/bokeh-0.12.4.min.css\");\n",
       "      Bokeh.embed.inject_css(\"https://cdn.pydata.org/bokeh/release/bokeh-0.12.4.min.css\");\n",
       "      console.log(\"Bokeh: injecting CSS: https://cdn.pydata.org/bokeh/release/bokeh-widgets-0.12.4.min.css\");\n",
       "      Bokeh.embed.inject_css(\"https://cdn.pydata.org/bokeh/release/bokeh-widgets-0.12.4.min.css\");\n",
       "    }\n",
       "  ];\n",
       "\n",
       "  function run_inline_js() {\n",
       "    \n",
       "    if ((window.Bokeh !== undefined) || (force === true)) {\n",
       "      for (var i = 0; i < inline_js.length; i++) {\n",
       "        inline_js[i](window.Bokeh);\n",
       "      }if (force === true) {\n",
       "        display_loaded();\n",
       "      }} else if (Date.now() < window._bokeh_timeout) {\n",
       "      setTimeout(run_inline_js, 100);\n",
       "    } else if (!window._bokeh_failed_load) {\n",
       "      console.log(\"Bokeh: BokehJS failed to load within specified timeout.\");\n",
       "      window._bokeh_failed_load = true;\n",
       "    } else if (force !== true) {\n",
       "      var cell = $(document.getElementById(\"7361c638-746f-4519-b1a6-2d84d5bcf061\")).parents('.cell').data().cell;\n",
       "      cell.output_area.append_execute_result(NB_LOAD_WARNING)\n",
       "    }\n",
       "\n",
       "  }\n",
       "\n",
       "  if (window._bokeh_is_loading === 0) {\n",
       "    console.log(\"Bokeh: BokehJS loaded, going straight to plotting\");\n",
       "    run_inline_js();\n",
       "  } else {\n",
       "    load_libs(js_urls, function() {\n",
       "      console.log(\"Bokeh: BokehJS plotting callback run at\", now());\n",
       "      run_inline_js();\n",
       "    });\n",
       "  }\n",
       "}(this));"
      ]
     },
     "metadata": {},
     "output_type": "display_data"
    },
    {
     "data": {
      "text/html": [
       "\n",
       "\n",
       "    <div class=\"bk-root\">\n",
       "        <div class=\"bk-plotdiv\" id=\"14fcd8c4-da4d-403d-b853-190741bf933f\"></div>\n",
       "    </div>\n",
       "<script type=\"text/javascript\">\n",
       "  \n",
       "  (function(global) {\n",
       "    function now() {\n",
       "      return new Date();\n",
       "    }\n",
       "  \n",
       "    var force = false;\n",
       "  \n",
       "    if (typeof (window._bokeh_onload_callbacks) === \"undefined\" || force === true) {\n",
       "      window._bokeh_onload_callbacks = [];\n",
       "      window._bokeh_is_loading = undefined;\n",
       "    }\n",
       "  \n",
       "  \n",
       "    \n",
       "    if (typeof (window._bokeh_timeout) === \"undefined\" || force === true) {\n",
       "      window._bokeh_timeout = Date.now() + 0;\n",
       "      window._bokeh_failed_load = false;\n",
       "    }\n",
       "  \n",
       "    var NB_LOAD_WARNING = {'data': {'text/html':\n",
       "       \"<div style='background-color: #fdd'>\\n\"+\n",
       "       \"<p>\\n\"+\n",
       "       \"BokehJS does not appear to have successfully loaded. If loading BokehJS from CDN, this \\n\"+\n",
       "       \"may be due to a slow or bad network connection. Possible fixes:\\n\"+\n",
       "       \"</p>\\n\"+\n",
       "       \"<ul>\\n\"+\n",
       "       \"<li>re-rerun `output_notebook()` to attempt to load from CDN again, or</li>\\n\"+\n",
       "       \"<li>use INLINE resources instead, as so:</li>\\n\"+\n",
       "       \"</ul>\\n\"+\n",
       "       \"<code>\\n\"+\n",
       "       \"from bokeh.resources import INLINE\\n\"+\n",
       "       \"output_notebook(resources=INLINE)\\n\"+\n",
       "       \"</code>\\n\"+\n",
       "       \"</div>\"}};\n",
       "  \n",
       "    function display_loaded() {\n",
       "      if (window.Bokeh !== undefined) {\n",
       "        document.getElementById(\"14fcd8c4-da4d-403d-b853-190741bf933f\").textContent = \"BokehJS successfully loaded.\";\n",
       "      } else if (Date.now() < window._bokeh_timeout) {\n",
       "        setTimeout(display_loaded, 100)\n",
       "      }\n",
       "    }\n",
       "  \n",
       "    function run_callbacks() {\n",
       "      window._bokeh_onload_callbacks.forEach(function(callback) { callback() });\n",
       "      delete window._bokeh_onload_callbacks\n",
       "      console.info(\"Bokeh: all callbacks have finished\");\n",
       "    }\n",
       "  \n",
       "    function load_libs(js_urls, callback) {\n",
       "      window._bokeh_onload_callbacks.push(callback);\n",
       "      if (window._bokeh_is_loading > 0) {\n",
       "        console.log(\"Bokeh: BokehJS is being loaded, scheduling callback at\", now());\n",
       "        return null;\n",
       "      }\n",
       "      if (js_urls == null || js_urls.length === 0) {\n",
       "        run_callbacks();\n",
       "        return null;\n",
       "      }\n",
       "      console.log(\"Bokeh: BokehJS not loaded, scheduling load and callback at\", now());\n",
       "      window._bokeh_is_loading = js_urls.length;\n",
       "      for (var i = 0; i < js_urls.length; i++) {\n",
       "        var url = js_urls[i];\n",
       "        var s = document.createElement('script');\n",
       "        s.src = url;\n",
       "        s.async = false;\n",
       "        s.onreadystatechange = s.onload = function() {\n",
       "          window._bokeh_is_loading--;\n",
       "          if (window._bokeh_is_loading === 0) {\n",
       "            console.log(\"Bokeh: all BokehJS libraries loaded\");\n",
       "            run_callbacks()\n",
       "          }\n",
       "        };\n",
       "        s.onerror = function() {\n",
       "          console.warn(\"failed to load library \" + url);\n",
       "        };\n",
       "        console.log(\"Bokeh: injecting script tag for BokehJS library: \", url);\n",
       "        document.getElementsByTagName(\"head\")[0].appendChild(s);\n",
       "      }\n",
       "    };var element = document.getElementById(\"14fcd8c4-da4d-403d-b853-190741bf933f\");\n",
       "    if (element == null) {\n",
       "      console.log(\"Bokeh: ERROR: autoload.js configured with elementid '14fcd8c4-da4d-403d-b853-190741bf933f' but no matching script tag was found. \")\n",
       "      return false;\n",
       "    }\n",
       "  \n",
       "    var js_urls = [];\n",
       "  \n",
       "    var inline_js = [\n",
       "      function(Bokeh) {\n",
       "        (function() {\n",
       "          var fn = function() {\n",
       "            var docs_json = {\"79ef149b-371a-4551-af80-c5661923dea2\":{\"roots\":{\"references\":[{\"attributes\":{\"callback\":null,\"end\":417.9368839467554,\"start\":-82.3635543133606},\"id\":\"eb5ef8ad-3466-4b25-bdc2-4cd02d5f77ce\",\"type\":\"Range1d\"},{\"attributes\":{},\"id\":\"bf6c9a55-70e4-4c1c-ada4-38f40ea5fcc8\",\"type\":\"BasicTicker\"},{\"attributes\":{\"bottom_units\":\"screen\",\"fill_alpha\":{\"value\":0.5},\"fill_color\":{\"value\":\"lightgrey\"},\"left_units\":\"screen\",\"level\":\"overlay\",\"line_alpha\":{\"value\":1.0},\"line_color\":{\"value\":\"black\"},\"line_dash\":[4,4],\"line_width\":{\"value\":2},\"plot\":null,\"render_mode\":\"css\",\"right_units\":\"screen\",\"top_units\":\"screen\"},\"id\":\"546ccf32-2035-47d0-849a-bdae221f848d\",\"type\":\"BoxAnnotation\"},{\"attributes\":{},\"id\":\"6e49cfcd-89ad-48dc-90c6-6bc35c4caed3\",\"type\":\"BasicTickFormatter\"},{\"attributes\":{\"plot\":{\"id\":\"8f0bb7a1-febe-4ab4-9172-fad2fc1d5172\",\"subtype\":\"Chart\",\"type\":\"Plot\"},\"ticker\":{\"id\":\"bf6c9a55-70e4-4c1c-ada4-38f40ea5fcc8\",\"type\":\"BasicTicker\"}},\"id\":\"93e9791d-6ef6-49ac-b172-5215deaf7135\",\"type\":\"Grid\"},{\"attributes\":{\"plot\":null,\"text\":null},\"id\":\"132bbfff-77dc-44dc-b7b2-ece8648ebeab\",\"type\":\"Title\"},{\"attributes\":{},\"id\":\"e68f528f-b130-4fbb-bad6-8c0178677ad1\",\"type\":\"BasicTicker\"},{\"attributes\":{\"callback\":null,\"end\":11.938097919392096,\"start\":-11.93517599770053},\"id\":\"1868f26e-9088-4473-aff1-83240bcabb33\",\"type\":\"Range1d\"},{\"attributes\":{\"dimension\":1,\"plot\":{\"id\":\"8f0bb7a1-febe-4ab4-9172-fad2fc1d5172\",\"subtype\":\"Chart\",\"type\":\"Plot\"},\"ticker\":{\"id\":\"e68f528f-b130-4fbb-bad6-8c0178677ad1\",\"type\":\"BasicTicker\"}},\"id\":\"79e31619-c971-4a09-b0bc-558fd0d1ac2a\",\"type\":\"Grid\"},{\"attributes\":{\"axis_label\":\"y\",\"formatter\":{\"id\":\"6e49cfcd-89ad-48dc-90c6-6bc35c4caed3\",\"type\":\"BasicTickFormatter\"},\"plot\":{\"id\":\"8f0bb7a1-febe-4ab4-9172-fad2fc1d5172\",\"subtype\":\"Chart\",\"type\":\"Plot\"},\"ticker\":{\"id\":\"e68f528f-b130-4fbb-bad6-8c0178677ad1\",\"type\":\"BasicTicker\"}},\"id\":\"e8095613-8d8c-43e8-b412-a870de458b17\",\"type\":\"LinearAxis\"},{\"attributes\":{\"callback\":null,\"column_names\":[\"x_values\",\"y_values\"],\"data\":{\"chart_index\":[null,null,null,null,null,null,null,null,null,null,null,null,null,null,null,null,null,null,null,null,null,null,null,null,null,null,null,null,null,null,null,null,null,null,null,null,null,null,null,null,null,null,null,null,null,null,null,null,null,null,null,null,null,null,null,null,null,null,null,null,null,null,null,null,null,null,null,null,null,null,null,null,null,null,null,null,null,null,null,null,null,null,null,null,null,null,null,null,null,null,null,null,null,null,null,null,null,null,null,null,null,null,null,null,null,null,null,null,null,null,null,null,null,null,null,null,null,null,null,null,null,null,null,null,null,null,null,null,null,null,null,null,null,null,null,null,null,null,null,null,null,null,null,null,null,null,null,null,null,null,null,null,null,null,null,null,null,null,null,null,null,null,null,null,null,null,null,null,null,null,null,null,null,null,null,null,null,null,null,null,null,null,null,null,null,null,null,null,null,null,null,null,null,null,null,null,null,null,null,null,null,null,null,null,null,null,null,null,null,null,null,null,null,null,null,null,null,null,null,null,null,null,null,null,null,null,null,null,null,null,null,null,null,null,null,null,null,null,null,null,null,null,null,null,null,null,null,null,null,null,null,null,null,null,null,null,null,null,null,null,null,null,null,null,null,null,null,null,null,null,null,null,null,null,null,null,null,null,null,null,null,null,null,null,null,null,null,null,null,null,null,null,null,null,null,null,null,null,null,null,null,null,null,null,null,null,null,null,null,null,null,null,null,null,null,null,null,null,null,null,null,null,null,null,null,null,null,null,null,null,null,null,null,null,null,null,null,null,null,null,null,null,null,null,null,null,null,null,null,null,null,null,null,null,null,null,null,null,null,null,null,null,null,null,null,null,null,null,null,null,null,null,null,null,null,null,null,null,null,null,null,null,null,null,null,null,null,null,null,null,null,null,null,null,null,null,null,null,null,null,null,null,null,null,null,null,null,null,null,null,null,null,null,null,null,null,null,null,null,null,null,null,null,null,null,null,null,null,null,null,null,null,null,null,null,null,null,null,null,null,null,null,null,null,null,null,null,null,null,null,null,null,null,null,null,null,null,null,null,null,null,null,null,null,null,null,null,null,null,null,null,null,null,null,null,null,null,null,null,null,null,null,null,null,null,null,null,null,null,null,null,null,null,null,null,null,null,null,null,null],\"x_values\":{\"__ndarray__\":\"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\",\"dtype\":\"float64\",\"shape\":[500]},\"y_values\":{\"__ndarray__\":\"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\",\"dtype\":\"float64\",\"shape\":[500]}}},\"id\":\"20e78916-96b0-4476-bf8f-82f2168914e1\",\"type\":\"ColumnDataSource\"},{\"attributes\":{\"plot\":{\"id\":\"8f0bb7a1-febe-4ab4-9172-fad2fc1d5172\",\"subtype\":\"Chart\",\"type\":\"Plot\"}},\"id\":\"9e4280ab-64cc-41d5-a0ee-80fba33ab2dc\",\"type\":\"PanTool\"},{\"attributes\":{},\"id\":\"5575b56d-c90d-4894-83da-44608e8aceb9\",\"type\":\"BasicTickFormatter\"},{\"attributes\":{\"plot\":{\"id\":\"8f0bb7a1-febe-4ab4-9172-fad2fc1d5172\",\"subtype\":\"Chart\",\"type\":\"Plot\"}},\"id\":\"073a7282-f7e1-46e8-a1b8-33615aeab971\",\"type\":\"WheelZoomTool\"},{\"attributes\":{\"overlay\":{\"id\":\"546ccf32-2035-47d0-849a-bdae221f848d\",\"type\":\"BoxAnnotation\"},\"plot\":{\"id\":\"8f0bb7a1-febe-4ab4-9172-fad2fc1d5172\",\"subtype\":\"Chart\",\"type\":\"Plot\"}},\"id\":\"88b36777-68cf-4de6-8bdb-37d9a27e4fcc\",\"type\":\"BoxZoomTool\"},{\"attributes\":{\"plot\":{\"id\":\"8f0bb7a1-febe-4ab4-9172-fad2fc1d5172\",\"subtype\":\"Chart\",\"type\":\"Plot\"}},\"id\":\"54587b11-6df5-46a1-95ec-bc45353964f3\",\"type\":\"SaveTool\"},{\"attributes\":{\"plot\":{\"id\":\"8f0bb7a1-febe-4ab4-9172-fad2fc1d5172\",\"subtype\":\"Chart\",\"type\":\"Plot\"}},\"id\":\"793996c0-4408-4773-86b4-406bc66cab8b\",\"type\":\"ResetTool\"},{\"attributes\":{\"data_source\":{\"id\":\"20e78916-96b0-4476-bf8f-82f2168914e1\",\"type\":\"ColumnDataSource\"},\"glyph\":{\"id\":\"dd1bc771-1268-47da-bc22-f128f8ad42de\",\"type\":\"Circle\"},\"hover_glyph\":null,\"nonselection_glyph\":null,\"selection_glyph\":null},\"id\":\"b1353bf4-fbd3-4dfd-b1a2-6e405461d8c7\",\"type\":\"GlyphRenderer\"},{\"attributes\":{\"plot\":{\"id\":\"8f0bb7a1-febe-4ab4-9172-fad2fc1d5172\",\"subtype\":\"Chart\",\"type\":\"Plot\"}},\"id\":\"ffd5db2c-b819-4b47-9f37-2d48a4e87047\",\"type\":\"HelpTool\"},{\"attributes\":{},\"id\":\"03d01fa4-01f7-4789-a8e7-5a182fb664a5\",\"type\":\"ToolEvents\"},{\"attributes\":{\"axis_label\":\"x\",\"formatter\":{\"id\":\"5575b56d-c90d-4894-83da-44608e8aceb9\",\"type\":\"BasicTickFormatter\"},\"plot\":{\"id\":\"8f0bb7a1-febe-4ab4-9172-fad2fc1d5172\",\"subtype\":\"Chart\",\"type\":\"Plot\"},\"ticker\":{\"id\":\"bf6c9a55-70e4-4c1c-ada4-38f40ea5fcc8\",\"type\":\"BasicTicker\"}},\"id\":\"5f16cd50-730c-4794-9afd-ec4ff2f20db9\",\"type\":\"LinearAxis\"},{\"attributes\":{\"active_drag\":\"auto\",\"active_scroll\":\"auto\",\"active_tap\":\"auto\",\"tools\":[{\"id\":\"9e4280ab-64cc-41d5-a0ee-80fba33ab2dc\",\"type\":\"PanTool\"},{\"id\":\"073a7282-f7e1-46e8-a1b8-33615aeab971\",\"type\":\"WheelZoomTool\"},{\"id\":\"88b36777-68cf-4de6-8bdb-37d9a27e4fcc\",\"type\":\"BoxZoomTool\"},{\"id\":\"54587b11-6df5-46a1-95ec-bc45353964f3\",\"type\":\"SaveTool\"},{\"id\":\"793996c0-4408-4773-86b4-406bc66cab8b\",\"type\":\"ResetTool\"},{\"id\":\"ffd5db2c-b819-4b47-9f37-2d48a4e87047\",\"type\":\"HelpTool\"}]},\"id\":\"0b4668dc-4923-4843-89e4-ba740f4b02de\",\"type\":\"Toolbar\"},{\"attributes\":{\"below\":[{\"id\":\"5f16cd50-730c-4794-9afd-ec4ff2f20db9\",\"type\":\"LinearAxis\"}],\"css_classes\":null,\"height\":400,\"left\":[{\"id\":\"e8095613-8d8c-43e8-b412-a870de458b17\",\"type\":\"LinearAxis\"}],\"renderers\":[{\"id\":\"546ccf32-2035-47d0-849a-bdae221f848d\",\"type\":\"BoxAnnotation\"},{\"id\":\"b1353bf4-fbd3-4dfd-b1a2-6e405461d8c7\",\"type\":\"GlyphRenderer\"},{\"id\":\"3df6b409-bd8a-4f9a-bfdd-78627f9f714c\",\"type\":\"Legend\"},{\"id\":\"5f16cd50-730c-4794-9afd-ec4ff2f20db9\",\"type\":\"LinearAxis\"},{\"id\":\"e8095613-8d8c-43e8-b412-a870de458b17\",\"type\":\"LinearAxis\"},{\"id\":\"93e9791d-6ef6-49ac-b172-5215deaf7135\",\"type\":\"Grid\"},{\"id\":\"79e31619-c971-4a09-b0bc-558fd0d1ac2a\",\"type\":\"Grid\"}],\"title\":{\"id\":\"132bbfff-77dc-44dc-b7b2-ece8648ebeab\",\"type\":\"Title\"},\"tool_events\":{\"id\":\"03d01fa4-01f7-4789-a8e7-5a182fb664a5\",\"type\":\"ToolEvents\"},\"toolbar\":{\"id\":\"0b4668dc-4923-4843-89e4-ba740f4b02de\",\"type\":\"Toolbar\"},\"width\":750,\"x_mapper_type\":\"auto\",\"x_range\":{\"id\":\"1868f26e-9088-4473-aff1-83240bcabb33\",\"type\":\"Range1d\"},\"y_mapper_type\":\"auto\",\"y_range\":{\"id\":\"eb5ef8ad-3466-4b25-bdc2-4cd02d5f77ce\",\"type\":\"Range1d\"}},\"id\":\"8f0bb7a1-febe-4ab4-9172-fad2fc1d5172\",\"subtype\":\"Chart\",\"type\":\"Plot\"},{\"attributes\":{\"fill_alpha\":{\"value\":0.7},\"fill_color\":{\"value\":\"#f22c40\"},\"line_color\":{\"value\":\"#f22c40\"},\"size\":{\"units\":\"screen\",\"value\":8},\"x\":{\"field\":\"x_values\"},\"y\":{\"field\":\"y_values\"}},\"id\":\"dd1bc771-1268-47da-bc22-f128f8ad42de\",\"type\":\"Circle\"},{\"attributes\":{\"location\":\"top_left\",\"plot\":{\"id\":\"8f0bb7a1-febe-4ab4-9172-fad2fc1d5172\",\"subtype\":\"Chart\",\"type\":\"Plot\"}},\"id\":\"3df6b409-bd8a-4f9a-bfdd-78627f9f714c\",\"type\":\"Legend\"}],\"root_ids\":[\"8f0bb7a1-febe-4ab4-9172-fad2fc1d5172\"]},\"title\":\"Bokeh Application\",\"version\":\"0.12.4\"}};\n",
       "            var render_items = [{\"docid\":\"79ef149b-371a-4551-af80-c5661923dea2\",\"elementid\":\"14fcd8c4-da4d-403d-b853-190741bf933f\",\"modelid\":\"8f0bb7a1-febe-4ab4-9172-fad2fc1d5172\"}];\n",
       "            \n",
       "            Bokeh.embed.embed_items(docs_json, render_items);\n",
       "          };\n",
       "          if (document.readyState != \"loading\") fn();\n",
       "          else document.addEventListener(\"DOMContentLoaded\", fn);\n",
       "        })();\n",
       "      },\n",
       "      function(Bokeh) {\n",
       "      }\n",
       "    ];\n",
       "  \n",
       "    function run_inline_js() {\n",
       "      \n",
       "      if ((window.Bokeh !== undefined) || (force === true)) {\n",
       "        for (var i = 0; i < inline_js.length; i++) {\n",
       "          inline_js[i](window.Bokeh);\n",
       "        }if (force === true) {\n",
       "          display_loaded();\n",
       "        }} else if (Date.now() < window._bokeh_timeout) {\n",
       "        setTimeout(run_inline_js, 100);\n",
       "      } else if (!window._bokeh_failed_load) {\n",
       "        console.log(\"Bokeh: BokehJS failed to load within specified timeout.\");\n",
       "        window._bokeh_failed_load = true;\n",
       "      } else if (force !== true) {\n",
       "        var cell = $(document.getElementById(\"14fcd8c4-da4d-403d-b853-190741bf933f\")).parents('.cell').data().cell;\n",
       "        cell.output_area.append_execute_result(NB_LOAD_WARNING)\n",
       "      }\n",
       "  \n",
       "    }\n",
       "  \n",
       "    if (window._bokeh_is_loading === 0) {\n",
       "      console.log(\"Bokeh: BokehJS loaded, going straight to plotting\");\n",
       "      run_inline_js();\n",
       "    } else {\n",
       "      load_libs(js_urls, function() {\n",
       "        console.log(\"Bokeh: BokehJS plotting callback run at\", now());\n",
       "        run_inline_js();\n",
       "      });\n",
       "    }\n",
       "  }(this));\n",
       "</script>"
      ]
     },
     "metadata": {},
     "output_type": "display_data"
    }
   ],
   "source": [
    "from bokeh.charts import Scatter, output_notebook, show\n",
    "output_notebook()\n",
    "\n",
    "scatter = Scatter({'x': x, 'y': y}, width=750, height=400)\n",
    "show(scatter)"
   ]
  },
  {
   "cell_type": "markdown",
   "metadata": {
    "deletable": true,
    "editable": true,
    "slideshow": {
     "slide_type": "slide"
    }
   },
   "source": [
    "### Least Squares the way _you_ do it...\n",
    "\n",
    "...assuming you use `scikit-learn` like every other sane Python programmer."
   ]
  },
  {
   "cell_type": "markdown",
   "metadata": {
    "deletable": true,
    "editable": true,
    "slideshow": {
     "slide_type": "subslide"
    }
   },
   "source": [
    "We looked at a chart of our data and decided to describe it with:\n",
    "\n",
    "* A quadratic term  \n",
    "* A linear term\n",
    "* An offset"
   ]
  },
  {
   "cell_type": "code",
   "execution_count": 3,
   "metadata": {
    "collapsed": false,
    "deletable": true,
    "editable": true,
    "slideshow": {
     "slide_type": "subslide"
    }
   },
   "outputs": [
    {
     "name": "stdout",
     "output_type": "stream",
     "text": [
      "[ 3.04977922 -2.04176715  9.27825073]\n"
     ]
    },
    {
     "name": "stderr",
     "output_type": "stream",
     "text": [
      "/Users/roneil/src/github.com/ryanjoneil/talks/2017/03/data-science-dc/lib/python3.6/site-packages/scipy/linalg/basic.py:884: RuntimeWarning: internal gelsd driver lwork query error, required iwork dimension not returned. This is likely the result of LAPACK bug 0038, fixed in LAPACK 3.2.2 (released July 21, 2010). Falling back to 'gelss' driver.\n",
      "  warnings.warn(mesg, RuntimeWarning)\n"
     ]
    }
   ],
   "source": [
    "from sklearn.linear_model import LinearRegression\n",
    "\n",
    "# Note: A is our feature matrix.\n",
    "#       We intentionally add a \"1\" for the offset, instead of letting \n",
    "#       sklearn do that for us. This will make sense soon.\n",
    "\n",
    "X = np.array([[xi**2, xi, 1] for xi in x])\n",
    "\n",
    "lin = LinearRegression(fit_intercept=False)\n",
    "lin.fit(X, y)\n",
    "\n",
    "print(lin.coef_)"
   ]
  },
  {
   "cell_type": "markdown",
   "metadata": {
    "deletable": true,
    "editable": true,
    "slideshow": {
     "slide_type": "subslide"
    }
   },
   "source": [
    "How'd we do?"
   ]
  },
  {
   "cell_type": "code",
   "execution_count": 4,
   "metadata": {
    "collapsed": false,
    "deletable": true,
    "editable": true,
    "slideshow": {
     "slide_type": "-"
    }
   },
   "outputs": [
    {
     "data": {
      "text/html": [
       "\n",
       "\n",
       "    <div class=\"bk-root\">\n",
       "        <div class=\"bk-plotdiv\" id=\"d1c09aa4-249b-42f3-9ae7-96b3a767722f\"></div>\n",
       "    </div>\n",
       "<script type=\"text/javascript\">\n",
       "  \n",
       "  (function(global) {\n",
       "    function now() {\n",
       "      return new Date();\n",
       "    }\n",
       "  \n",
       "    var force = false;\n",
       "  \n",
       "    if (typeof (window._bokeh_onload_callbacks) === \"undefined\" || force === true) {\n",
       "      window._bokeh_onload_callbacks = [];\n",
       "      window._bokeh_is_loading = undefined;\n",
       "    }\n",
       "  \n",
       "  \n",
       "    \n",
       "    if (typeof (window._bokeh_timeout) === \"undefined\" || force === true) {\n",
       "      window._bokeh_timeout = Date.now() + 0;\n",
       "      window._bokeh_failed_load = false;\n",
       "    }\n",
       "  \n",
       "    var NB_LOAD_WARNING = {'data': {'text/html':\n",
       "       \"<div style='background-color: #fdd'>\\n\"+\n",
       "       \"<p>\\n\"+\n",
       "       \"BokehJS does not appear to have successfully loaded. If loading BokehJS from CDN, this \\n\"+\n",
       "       \"may be due to a slow or bad network connection. Possible fixes:\\n\"+\n",
       "       \"</p>\\n\"+\n",
       "       \"<ul>\\n\"+\n",
       "       \"<li>re-rerun `output_notebook()` to attempt to load from CDN again, or</li>\\n\"+\n",
       "       \"<li>use INLINE resources instead, as so:</li>\\n\"+\n",
       "       \"</ul>\\n\"+\n",
       "       \"<code>\\n\"+\n",
       "       \"from bokeh.resources import INLINE\\n\"+\n",
       "       \"output_notebook(resources=INLINE)\\n\"+\n",
       "       \"</code>\\n\"+\n",
       "       \"</div>\"}};\n",
       "  \n",
       "    function display_loaded() {\n",
       "      if (window.Bokeh !== undefined) {\n",
       "        document.getElementById(\"d1c09aa4-249b-42f3-9ae7-96b3a767722f\").textContent = \"BokehJS successfully loaded.\";\n",
       "      } else if (Date.now() < window._bokeh_timeout) {\n",
       "        setTimeout(display_loaded, 100)\n",
       "      }\n",
       "    }\n",
       "  \n",
       "    function run_callbacks() {\n",
       "      window._bokeh_onload_callbacks.forEach(function(callback) { callback() });\n",
       "      delete window._bokeh_onload_callbacks\n",
       "      console.info(\"Bokeh: all callbacks have finished\");\n",
       "    }\n",
       "  \n",
       "    function load_libs(js_urls, callback) {\n",
       "      window._bokeh_onload_callbacks.push(callback);\n",
       "      if (window._bokeh_is_loading > 0) {\n",
       "        console.log(\"Bokeh: BokehJS is being loaded, scheduling callback at\", now());\n",
       "        return null;\n",
       "      }\n",
       "      if (js_urls == null || js_urls.length === 0) {\n",
       "        run_callbacks();\n",
       "        return null;\n",
       "      }\n",
       "      console.log(\"Bokeh: BokehJS not loaded, scheduling load and callback at\", now());\n",
       "      window._bokeh_is_loading = js_urls.length;\n",
       "      for (var i = 0; i < js_urls.length; i++) {\n",
       "        var url = js_urls[i];\n",
       "        var s = document.createElement('script');\n",
       "        s.src = url;\n",
       "        s.async = false;\n",
       "        s.onreadystatechange = s.onload = function() {\n",
       "          window._bokeh_is_loading--;\n",
       "          if (window._bokeh_is_loading === 0) {\n",
       "            console.log(\"Bokeh: all BokehJS libraries loaded\");\n",
       "            run_callbacks()\n",
       "          }\n",
       "        };\n",
       "        s.onerror = function() {\n",
       "          console.warn(\"failed to load library \" + url);\n",
       "        };\n",
       "        console.log(\"Bokeh: injecting script tag for BokehJS library: \", url);\n",
       "        document.getElementsByTagName(\"head\")[0].appendChild(s);\n",
       "      }\n",
       "    };var element = document.getElementById(\"d1c09aa4-249b-42f3-9ae7-96b3a767722f\");\n",
       "    if (element == null) {\n",
       "      console.log(\"Bokeh: ERROR: autoload.js configured with elementid 'd1c09aa4-249b-42f3-9ae7-96b3a767722f' but no matching script tag was found. \")\n",
       "      return false;\n",
       "    }\n",
       "  \n",
       "    var js_urls = [];\n",
       "  \n",
       "    var inline_js = [\n",
       "      function(Bokeh) {\n",
       "        (function() {\n",
       "          var fn = function() {\n",
       "            var docs_json = {\"ed22c9a8-d4c0-4786-8d51-c3b1a83097a6\":{\"roots\":{\"references\":[{\"attributes\":{\"plot\":{\"id\":\"c9df6f18-a85b-48d1-9659-abbca83adf6a\",\"subtype\":\"Chart\",\"type\":\"Plot\"}},\"id\":\"b62abaed-a644-4b32-9f30-ccc886e5f1a6\",\"type\":\"PanTool\"},{\"attributes\":{\"bottom_units\":\"screen\",\"fill_alpha\":{\"value\":0.5},\"fill_color\":{\"value\":\"lightgrey\"},\"left_units\":\"screen\",\"level\":\"overlay\",\"line_alpha\":{\"value\":1.0},\"line_color\":{\"value\":\"black\"},\"line_dash\":[4,4],\"line_width\":{\"value\":2},\"plot\":null,\"render_mode\":\"css\",\"right_units\":\"screen\",\"top_units\":\"screen\"},\"id\":\"4a51cf18-48b6-4c6a-a285-ef5de2c47610\",\"type\":\"BoxAnnotation\"},{\"attributes\":{\"plot\":{\"id\":\"c9df6f18-a85b-48d1-9659-abbca83adf6a\",\"subtype\":\"Chart\",\"type\":\"Plot\"}},\"id\":\"c8042973-9df2-47be-b9ce-0855104f04fe\",\"type\":\"WheelZoomTool\"},{\"attributes\":{\"overlay\":{\"id\":\"4a51cf18-48b6-4c6a-a285-ef5de2c47610\",\"type\":\"BoxAnnotation\"},\"plot\":{\"id\":\"c9df6f18-a85b-48d1-9659-abbca83adf6a\",\"subtype\":\"Chart\",\"type\":\"Plot\"}},\"id\":\"fc257353-2e2b-4efe-8354-2f7e821db685\",\"type\":\"BoxZoomTool\"},{\"attributes\":{\"plot\":{\"id\":\"c9df6f18-a85b-48d1-9659-abbca83adf6a\",\"subtype\":\"Chart\",\"type\":\"Plot\"}},\"id\":\"bca1d000-c565-45d4-81bb-d119cf615a88\",\"type\":\"SaveTool\"},{\"attributes\":{\"plot\":{\"id\":\"c9df6f18-a85b-48d1-9659-abbca83adf6a\",\"subtype\":\"Chart\",\"type\":\"Plot\"}},\"id\":\"bb6d8ba1-6ec1-4161-b884-83fe5c1abdf9\",\"type\":\"ResetTool\"},{\"attributes\":{\"plot\":{\"id\":\"c9df6f18-a85b-48d1-9659-abbca83adf6a\",\"subtype\":\"Chart\",\"type\":\"Plot\"}},\"id\":\"fea3517f-62ea-49be-858c-343876edb9b0\",\"type\":\"HelpTool\"},{\"attributes\":{\"plot\":null,\"text\":null},\"id\":\"4fe52fa7-5eb3-4459-b0da-51396035420c\",\"type\":\"Title\"},{\"attributes\":{\"active_drag\":\"auto\",\"active_scroll\":\"auto\",\"active_tap\":\"auto\",\"tools\":[{\"id\":\"b62abaed-a644-4b32-9f30-ccc886e5f1a6\",\"type\":\"PanTool\"},{\"id\":\"c8042973-9df2-47be-b9ce-0855104f04fe\",\"type\":\"WheelZoomTool\"},{\"id\":\"fc257353-2e2b-4efe-8354-2f7e821db685\",\"type\":\"BoxZoomTool\"},{\"id\":\"bca1d000-c565-45d4-81bb-d119cf615a88\",\"type\":\"SaveTool\"},{\"id\":\"bb6d8ba1-6ec1-4161-b884-83fe5c1abdf9\",\"type\":\"ResetTool\"},{\"id\":\"fea3517f-62ea-49be-858c-343876edb9b0\",\"type\":\"HelpTool\"}]},\"id\":\"ab8a36d1-8cb7-4444-9544-8b120ea194d5\",\"type\":\"Toolbar\"},{\"attributes\":{\"axis_label\":\"x\",\"formatter\":{\"id\":\"1df1d45a-cc52-436d-902d-3fab7208b8d0\",\"type\":\"BasicTickFormatter\"},\"plot\":{\"id\":\"c9df6f18-a85b-48d1-9659-abbca83adf6a\",\"subtype\":\"Chart\",\"type\":\"Plot\"},\"ticker\":{\"id\":\"918f8e36-9d0d-4f15-9a67-98df85ee9853\",\"type\":\"BasicTicker\"}},\"id\":\"9f2844c5-3576-4cb9-be01-ebf936d6a35c\",\"type\":\"LinearAxis\"},{\"attributes\":{\"data_source\":{\"id\":\"9410edc3-0f6b-4cb0-adff-4908fccea2aa\",\"type\":\"ColumnDataSource\"},\"glyph\":{\"id\":\"ce6a992a-7136-439f-b74b-ca6c26356b9c\",\"type\":\"Line\"},\"hover_glyph\":null,\"nonselection_glyph\":null,\"selection_glyph\":null},\"id\":\"4652c2d3-fc3b-46b7-95ff-1ef210371a80\",\"type\":\"GlyphRenderer\"},{\"attributes\":{\"below\":[{\"id\":\"9f2844c5-3576-4cb9-be01-ebf936d6a35c\",\"type\":\"LinearAxis\"}],\"css_classes\":null,\"height\":400,\"left\":[{\"id\":\"a0fe9cf2-0017-44c5-88b3-05301513a3d7\",\"type\":\"LinearAxis\"}],\"renderers\":[{\"id\":\"4a51cf18-48b6-4c6a-a285-ef5de2c47610\",\"type\":\"BoxAnnotation\"},{\"id\":\"4652c2d3-fc3b-46b7-95ff-1ef210371a80\",\"type\":\"GlyphRenderer\"},{\"id\":\"d417737e-83a3-449c-8e62-11446e8a95d7\",\"type\":\"Legend\"},{\"id\":\"9f2844c5-3576-4cb9-be01-ebf936d6a35c\",\"type\":\"LinearAxis\"},{\"id\":\"a0fe9cf2-0017-44c5-88b3-05301513a3d7\",\"type\":\"LinearAxis\"},{\"id\":\"b28a4ae3-ee71-450c-a76f-51bb246f49a6\",\"type\":\"Grid\"},{\"id\":\"c83ac76e-da3a-41be-9d92-d65858fc166f\",\"type\":\"Grid\"}],\"title\":{\"id\":\"4fe52fa7-5eb3-4459-b0da-51396035420c\",\"type\":\"Title\"},\"tool_events\":{\"id\":\"d481dbf6-adc8-4eaf-865f-e6f0b70f7ee0\",\"type\":\"ToolEvents\"},\"toolbar\":{\"id\":\"ab8a36d1-8cb7-4444-9544-8b120ea194d5\",\"type\":\"Toolbar\"},\"width\":750,\"x_mapper_type\":\"auto\",\"x_range\":{\"id\":\"16dba198-78c6-4754-8465-c61475704fe2\",\"type\":\"Range1d\"},\"y_mapper_type\":\"auto\",\"y_range\":{\"id\":\"5dab7f8e-922a-4ba1-9399-31fc4132dc5a\",\"type\":\"Range1d\"}},\"id\":\"c9df6f18-a85b-48d1-9659-abbca83adf6a\",\"subtype\":\"Chart\",\"type\":\"Plot\"},{\"attributes\":{\"line_color\":{\"value\":\"#f22c40\"},\"line_width\":{\"value\":2},\"x\":{\"field\":\"x_values\"},\"y\":{\"field\":\"y_values\"}},\"id\":\"ce6a992a-7136-439f-b74b-ca6c26356b9c\",\"type\":\"Line\"},{\"attributes\":{},\"id\":\"9de90633-5665-4dde-a116-e37dffcc8989\",\"type\":\"BasicTickFormatter\"},{\"attributes\":{\"callback\":null,\"end\":363.49474375008435,\"start\":-23.29580930352416},\"id\":\"5dab7f8e-922a-4ba1-9399-31fc4132dc5a\",\"type\":\"Range1d\"},{\"attributes\":{\"callback\":null,\"column_names\":[\"x_values\",\"y_values\"],\"data\":{\"chart_index\":[null,null,null,null,null,null,null,null,null,null,null,null,null,null,null,null,null,null,null,null,null,null,null,null,null,null,null,null,null,null,null,null,null,null,null,null,null,null,null,null,null,null,null,null,null,null,null,null,null,null,null,null,null,null,null,null,null,null,null,null,null,null,null,null,null,null,null,null,null,null,null,null,null,null,null,null,null,null,null,null,null,null,null,null,null,null,null,null,null,null,null,null,null,null,null,null,null,null,null,null,null,null,null,null,null,null,null,null,null,null,null,null,null,null,null,null,null,null,null,null,null,null,null,null,null,null,null,null,null,null,null,null,null,null,null,null,null,null,null,null,null,null,null,null,null,null,null,null,null,null,null,null,null,null,null,null,null,null,null,null,null,null,null,null,null,null,null,null,null,null,null,null,null,null,null,null,null,null,null,null,null,null,null,null,null,null,null,null,null,null,null,null,null,null,null,null,null,null,null,null,null,null,null,null,null,null,null,null,null,null,null,null,null,null,null,null,null,null,null,null,null,null,null,null,null,null,null,null,null,null,null,null,null,null,null,null,null,null,null,null,null,null,null,null,null,null,null,null,null,null,null,null,null,null,null,null,null,null,null,null,null,null,null,null,null,null,null,null,null,null,null,null,null,null,null,null,null,null,null,null,null,null,null,null,null,null,null,null,null,null,null,null,null,null,null,null,null,null,null,null,null,null,null,null,null,null,null,null,null,null,null,null,null,null,null,null,null,null,null,null,null,null,null,null,null,null,null,null,null,null,null,null,null,null,null,null,null,null,null,null,null,null,null,null,null,null,null,null,null,null,null,null,null,null,null,null,null,null,null,null,null,null,null,null,null,null,null,null,null,null,null,null,null,null,null,null,null,null,null,null,null,null,null,null,null,null,null,null,null,null,null,null,null,null,null,null,null,null,null,null,null,null,null,null,null,null,null,null,null,null,null,null,null,null,null,null,null,null,null,null,null,null,null,null,null,null,null,null,null,null,null,null,null,null,null,null,null,null,null,null,null,null,null,null,null,null,null,null,null,null,null,null,null,null,null,null,null,null,null,null,null,null,null,null,null,null,null,null,null,null,null,null,null,null,null,null,null,null,null,null,null,null,null,null,null,null,null,null,null,null,null,null,null,null,null,null,null,null,null,null],\"x_values\":{\"__ndarray__\":\"tNw7kzfkI8D44X94t9MjwFm9zj32xCPAEZKnqMejI8CbQHinrJAjwAhSiGxqfSPAZFKVdMRgI8CfAJ/RK2AjwGdk4yl1WCPAfvaB28xWI8BAgCrQtycjwN/U4X3oJiPA/mwbXtMZI8CZyBCMWA8jwMK1YU+HDiPAyJ5SOskAI8DWWsFfZdUiwN3kH9WSwSLA/GPDU+pnIsCzJYoSelIiwJJcaM/6SSLAkkiNBNQ0IsA0hH3MdzIiwOUjniMoGSLAnKE+o2AYIsArlqeNHvwhwPEhoLNK9yHAHqK7or/1IcD242KA2OAhwMy4I0dOxSHAkSRnii6bIcDadmFke44hwJ73rN+RfSHA+e31lj5MIcCtPRC3yPAgwOYUHEuT7yDAPNyuALPMIMDQtp3Iyq4gwP8QFEBnpSDAtflw6c+jIMCs/dFaZKIgwInz6WHyjiDA6o82kiB1IMD8HlF/30wgwJpQnDY+MSDAR60//oEwIMBwAmmXRxggwF4/JB254x/A2NeoxObTH8BQzXaUl6EewGwju6Flmx7ALYLGYPJtHsCE16Wrt2AewB2dGr3FKh7AeXqbh/YpHsC6cyibeR4ewJEJLEtPDR7AVOJRRtQMHsDylL6oWQMewNafGLo0Ax7AymYAXXDMHcCQT9eeUnEdwNHkwkIBUx3AqA6BpkItHcA6xTUuggodwBGFnzQYBh3AXMAd9Un+HMC4b2WrVbwcwA0sRpsjUBzAOxKbDnOxG8DA0FCKSIwbwLjwhSl+iBvAbarIzMh4G8BMTn5elkwbwI6LrmVk5hrAICn+n67lGsD+AKVXZuAawBiStSwg0hrAv37kWTnBGsB0H8zCAlUawEgHz3gSSBrAMC2AHqw/GsDM0UhtmQwawClvWSLtBxrAlE2CqWQAGsCGRr5qA6AZwGQp7W7YfhnAkNfEK894GcAadyL4yAsZwHZWBK8+BxnAXHZRpQDfGMBFnG5rjPAXwLQIydKQ5xfAILFDbXTnF8DiC1dnM+IXwAbL0QCU2BfAvWxGlASyF8AmtfAk8owXwIQ4M/3CRxfAcpPPxWroFsBOjKdrIM8WwAq+GI11yxbAMqmEQ6umFsDg5UtJzW0WwKB7qDtKZhbAjqWMJYqCFcDqpBvfomYVwCasLAqJYhXAvqpvje0tFcDGXjMJnhMVwDap6BTEChXAEZjfmlX+FMAeq1KVDfUUwFQFZA4KixTACg/8cClwFMAQbqAvwA0UwNq6LHAW3hPAAIJBev7KE8DsqzKS86UTwGsmDH3/nxPAEcKOrhgZE8DhfEsDfqkSwIuAN3mjphLAXH2GP+5sEsBG79XHjGkRwL9U4E4WDxDAMDALb1aCD8DM4kmIgX4PwISQF1g78w7A5q9sxiDUDsCkploU3WcOwDIRBPSgKA7AgHeoMqvHDcBObMaYdHwNwFwFavejdQ3A6gW5zoRADcAgEtEFDu8MwORXNDS4HgzAmrU0+jv8C8C+TKQ3+U8LwFRVYNmp7gnAgF3l17LiCcBokS9dWb8JwGzE9q2nZAnAxJmV46pfCcBw2n/YO00JwBSsDkOc2QjAjP+eJRd/CMD+HbTzeWgIwGKWq+M+YgjAAgZnGmpoB8DQq+2esq8GwHiDgfbV9AXABJJ6cm2VBcDUH8ihYGkFwPCnlCxCSgXAxPO/XpAlBcCooWxSvRsFwH5R+ad8EQXAbDId49D8BMCq8qfDK+kEwPb5yrNhfwTAaFwgeLlbBMDQZBC0600EwOwyGbjjSQTA3snQbj1UA8BEjnQyFnYCwOhtK4L1GwLAzHzeCSHsAcAAElb2lOIBwBK2Yj0OtAHArOUuSkAnAcAMtO0ksAcBwAwQV+Vj9wDAcnD19STAAMAq2ydiq74AwFIvNKkSnADAGBGC8elt/79AlZ3Yamj/vwhJU5wQTv+/IH11yhcS/7/YJt/6YHL+v6Dp238ujf2/AOsTd8xZ/b/oCwC8hyD9vzBGLYQLWfy/EOWq1+JI+7+4j4u2eUT6v4Cgng+Os/i/WMufU80Q+L/I8aAyQxD4vwB6nLniAPi/CNDA4P/t978I4ojTZrP3v+AgsMt8GPe/0B4dsgDD9r8gTKCJXLf1v1gMFP/eqvW/gMqjmOAK9b/A8TR6Oyr0v7CK4t26PPO/SMpbz13S8b+AzGHuOMrxvwBACfiBmvG/INeAKytf8b9wLo9cxwDwv/DnHL5LMeu/wCrAEmT16b9AFQx97yrpv9AWNKDYU+i/IFJaGgU+57+Ag697eBPnv2Dtl4BbguS/sLMui07B47+AMQZkiFzhvwDqjQg4bN+/YKPD0cMX3b9AGnxCQ0Dcv0BXkruZQ9q/AMna9Oqf2b8AIhB9O5/Zv2BnrIm65dS/gCuN2fP+0L9AOnCR7STIvwDOku0CcMe/ANblSW1axb8AA1DYXJy/v4Buhlim672/AFVZ0zS3sr+ADxKmksSwvwCxkLts9aO/AGwQUBUzjL8AUGQ6H2JivwA0PQUkGaI/gIXRG+7vxz8Aw7gwcdrLP0BeSmcs7c0/YNyD2AjE0D+gZ/6ANhfUPwDCqkuE9tU/wEZ4x+Nc1j/A0SqFIfjWP4Br5pv1T9c/QF1Ulym12D8QWfnaH6rhP8CKv3rNjOI/oMeX6fkW4z+gTaSUI4TjP8BX7ZiX3OU/cNyrIOpJ5j+QZ0u4bPXmP/AViDEDfOc/0BsdAspj6D+A+6fENhbpPwA6AFowHOo/gJxQVYFQ6z8wYzSZnhHsP8CmW+nI0e4/gJrU79cw8D8QiXXEaz/wP7DzxV98z/A/IFGQDOKA8z+QIWGsuz30PxDVmQpqO/U/cPVCNufe9T9YO52E+ob3P/h+xrixzfg/WJMjn9vc+D84qvMQYmv5P+BemW/bcvk/QBzNVwKv+T/4jqBBbrb6P1hy94N1WPs/UHrpF3VS/D/QayVgGK78P1AkKv/rEf0/0DEqrrPy/z8YYWHXZnMAQOy0h6aN8ABAyFstP4srAUB40AOJb5cBQCgkU6n67gFAGJLmY9L4AUAEkBWH8m4CQDSkcFOLowJAeN9bCf7OAkBM8zWIsBIDQBgk0rbWNgNAEH4tmKhdA0BAEnZ0fmUDQNxo992AqwNAmD9BTRq6A0DwhIEZLQAEQICa39OjUQRAkKXrqkt2BEAcOEVh74gEQPhiYIODrwRA4FlSKbyzBEBUVJNQ1S8FQNwc9u6OoAVAUI79A4CxBUCwo1ekItYFQIx3sYEHfQZAhCs5pOp/BkBwLxW3pf8GQHTzQ22LawdAMBUNqZF0B0Dosgywmq4HQJzN51PJAAhAEDjRadAHCEC8satxT7IIQGwOwtMR3whAnI1kB6IJCUAgYuoxRBEJQGCkTBQmRQlAwPCGk3B6CUDAmJTAuZcJQDiVQNu2qAlAcA/tIIcZCkBAFflLPTMKQPQPTQO+TwpALLa7U21kCkDIFmt97mgKQBhtWU+OiwpACDYk4yHWCkB8o6wmPj8LQIww5t0AbAtA5NJ2FsW2C0A8U9E8FF8MQGBmF8lyygxA8HLxkT5pDUBQaWYYusgNQCSA/OOryQ1AQHRfaerkDUBgld+Pb+UNQEQqtzGtWw5AeIYrmCZaD0C4Av/nHwAQQER7uFbVGBBAxMbOJVMoEEASK5uSczIQQFTdIpxlURBAIhJqE4hyEECWlGQ4eocQQORffmh/7xBAkMIUpKgjEUBQh4FRY0ARQMbEmB2YUxFAgKelD/5xEUCQagWjRLcRQKLuLr5Y0RFA1nxJLjzfEUBOT1p2pw8SQB4J9sghKRJAog+1jiWREkBwjtjSlEwTQMqTGimWrxNAnMqbWhvbE0BUznjLCDAUQIAJBW2MghRAmNDIf9KhFEAQSfpKssMUQBSb3pSG/hRAsEiTW/4XFUBMi7NctxsVQNQLb+OOdxVAil0Lql+MFUDIy93DVZsVQJQc0KB5JhZAZIvZmHU8FkDiT9H8+FcWQATef9B7khZAimryrNfLFkBsYb4UFfgWQIjhENqSEBdA0EIsnDs4F0CekzGe7HIXQIiX79VEqBdArnl4O2fIF0AMwh89jDwYQHBKY/o0jxhAxP4+jqSaGEAsn2ssfL0YQEw2XVcf0hhAhGhtQ1fiGEBkbGmfaSIZQHTIV1tHKBlARMZm1sQuGUCALpr5PW4ZQJDAhUnIohlAaF0j6qLVGUAYvYTYD+gZQDAB4Zq7/RlA2J/WbVsbGkBYa3s0omAaQPSgrSo91xpAKJqpRg7qGkB8To4JOyEbQFT4RXd6LxtACK2nMck4G0BQsQr3STobQEzZEOGrRBtAeO1rPBVIG0AwBAUd7V4bQODlIDbWfBtANCfKFYGNG0AwshHn0SYcQIB7KbAjMBxAeO+aX8YwHEB4EIjBQDQcQHTMUdGLcxxA/MPZS3eIHEDEBb5PmaMcQOiSGEOAsxxAgFrqX9QDHUDMUsFfAB8dQNSAERDtLB1A/AK6gkouHUCETK9SRDodQIDzs+buSR1AZC9zmuZeHUDci3xbD2UdQIyTxwakpR1APE1ZyD63HUBIR1Mn/NIdQMh1Ypxp4x1AwBffLW3lHUDkpvDYh/odQCA6SLG0iR5AKAk+3SK6HkB4LsyBwwQfQNSXj+8eEB9ABPLJcCVPH0C80MjDzlMfQFxWBEDBXx9AaMk1uHFhH0D45rGJM2gfQFwfgAeBix9A3PyLQcC6H0Bs+RVOoe0fQCjC9X4PAyBAMFIVt90lIEBUogVJiEIgQHJJjfLbSCBANlxod81YIECWbz0JnIcgQI51kvRuiiBAMkTKRHSVIEBehcxNRaYgQFBSMv37viBA0CPo4Q3BIEBKlpduvsIgQMKwgIWW3iBA5EROxujeIEDsrV7adeMgQPaYwRun4yBAfCNmMQoCIUAISG2nWAkhQHpJLOmaMyFAGG/dRuI3IUAA630z+HQhQNw8x5pkeiFA+MjjxXSXIUCW6aLGL80hQEDGGYC7BSJAZmC0AFEMIkBgEetoXhciQI6de3MxNSJAttJbqFRzIkC2Ni+1CIwiQBYNHwvOkiJAhruMbQ6bIkBMKkm8hKciQC5mZWSHqyJARL64ODSwIkA+Sqdqh7EiQJKXmlXLxCJAYDx2q5rFIkACQ/SsDdIiQCwlY0Hb0iJAYGhs9M3ZIkCKPuJZ1uwiQD6ILDT18SJAECoj40cSI0BoGR2kRhgjQJZdTRCtGyNA8KSXinMcI0BKWgJK+ysjQIYzchCzLCNABmXpxuc3I0Dgf7pe+TcjQFY597IoRiNAVMYe4dpOI0AStT4BVE8jQHCcwykreiNA4rT4vyGXI0Acw1OYs58jQPSwblTcrSNAHLO9sjPUI0BcE6iOtuUjQA==\",\"dtype\":\"float64\",\"shape\":[500]},\"y_values\":{\"__ndarray__\":\"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\",\"dtype\":\"float64\",\"shape\":[500]}}},\"id\":\"9410edc3-0f6b-4cb0-adff-4908fccea2aa\",\"type\":\"ColumnDataSource\"},{\"attributes\":{\"location\":\"top_left\",\"plot\":{\"id\":\"c9df6f18-a85b-48d1-9659-abbca83adf6a\",\"subtype\":\"Chart\",\"type\":\"Plot\"}},\"id\":\"d417737e-83a3-449c-8e62-11446e8a95d7\",\"type\":\"Legend\"},{\"attributes\":{\"axis_label\":\"y\",\"formatter\":{\"id\":\"9de90633-5665-4dde-a116-e37dffcc8989\",\"type\":\"BasicTickFormatter\"},\"plot\":{\"id\":\"c9df6f18-a85b-48d1-9659-abbca83adf6a\",\"subtype\":\"Chart\",\"type\":\"Plot\"},\"ticker\":{\"id\":\"c08c7317-0f49-4669-8639-844c9d58b915\",\"type\":\"BasicTicker\"}},\"id\":\"a0fe9cf2-0017-44c5-88b3-05301513a3d7\",\"type\":\"LinearAxis\"},{\"attributes\":{},\"id\":\"1df1d45a-cc52-436d-902d-3fab7208b8d0\",\"type\":\"BasicTickFormatter\"},{\"attributes\":{},\"id\":\"918f8e36-9d0d-4f15-9a67-98df85ee9853\",\"type\":\"BasicTicker\"},{\"attributes\":{\"callback\":null,\"end\":11.938097919392096,\"start\":-11.93517599770053},\"id\":\"16dba198-78c6-4754-8465-c61475704fe2\",\"type\":\"Range1d\"},{\"attributes\":{\"plot\":{\"id\":\"c9df6f18-a85b-48d1-9659-abbca83adf6a\",\"subtype\":\"Chart\",\"type\":\"Plot\"},\"ticker\":{\"id\":\"918f8e36-9d0d-4f15-9a67-98df85ee9853\",\"type\":\"BasicTicker\"}},\"id\":\"b28a4ae3-ee71-450c-a76f-51bb246f49a6\",\"type\":\"Grid\"},{\"attributes\":{},\"id\":\"d481dbf6-adc8-4eaf-865f-e6f0b70f7ee0\",\"type\":\"ToolEvents\"},{\"attributes\":{},\"id\":\"c08c7317-0f49-4669-8639-844c9d58b915\",\"type\":\"BasicTicker\"},{\"attributes\":{\"dimension\":1,\"plot\":{\"id\":\"c9df6f18-a85b-48d1-9659-abbca83adf6a\",\"subtype\":\"Chart\",\"type\":\"Plot\"},\"ticker\":{\"id\":\"c08c7317-0f49-4669-8639-844c9d58b915\",\"type\":\"BasicTicker\"}},\"id\":\"c83ac76e-da3a-41be-9d92-d65858fc166f\",\"type\":\"Grid\"}],\"root_ids\":[\"c9df6f18-a85b-48d1-9659-abbca83adf6a\"]},\"title\":\"Bokeh Application\",\"version\":\"0.12.4\"}};\n",
       "            var render_items = [{\"docid\":\"ed22c9a8-d4c0-4786-8d51-c3b1a83097a6\",\"elementid\":\"d1c09aa4-249b-42f3-9ae7-96b3a767722f\",\"modelid\":\"c9df6f18-a85b-48d1-9659-abbca83adf6a\"}];\n",
       "            \n",
       "            Bokeh.embed.embed_items(docs_json, render_items);\n",
       "          };\n",
       "          if (document.readyState != \"loading\") fn();\n",
       "          else document.addEventListener(\"DOMContentLoaded\", fn);\n",
       "        })();\n",
       "      },\n",
       "      function(Bokeh) {\n",
       "      }\n",
       "    ];\n",
       "  \n",
       "    function run_inline_js() {\n",
       "      \n",
       "      if ((window.Bokeh !== undefined) || (force === true)) {\n",
       "        for (var i = 0; i < inline_js.length; i++) {\n",
       "          inline_js[i](window.Bokeh);\n",
       "        }if (force === true) {\n",
       "          display_loaded();\n",
       "        }} else if (Date.now() < window._bokeh_timeout) {\n",
       "        setTimeout(run_inline_js, 100);\n",
       "      } else if (!window._bokeh_failed_load) {\n",
       "        console.log(\"Bokeh: BokehJS failed to load within specified timeout.\");\n",
       "        window._bokeh_failed_load = true;\n",
       "      } else if (force !== true) {\n",
       "        var cell = $(document.getElementById(\"d1c09aa4-249b-42f3-9ae7-96b3a767722f\")).parents('.cell').data().cell;\n",
       "        cell.output_area.append_execute_result(NB_LOAD_WARNING)\n",
       "      }\n",
       "  \n",
       "    }\n",
       "  \n",
       "    if (window._bokeh_is_loading === 0) {\n",
       "      console.log(\"Bokeh: BokehJS loaded, going straight to plotting\");\n",
       "      run_inline_js();\n",
       "    } else {\n",
       "      load_libs(js_urls, function() {\n",
       "        console.log(\"Bokeh: BokehJS plotting callback run at\", now());\n",
       "        run_inline_js();\n",
       "      });\n",
       "    }\n",
       "  }(this));\n",
       "</script>"
      ]
     },
     "metadata": {},
     "output_type": "display_data"
    }
   ],
   "source": [
    "from bokeh.charts import Line\n",
    "y_hat = lin.predict(X)\n",
    "show(Line({'x': x, 'y': y_hat}, x='x', y='y', width=750, height=400))"
   ]
  },
  {
   "cell_type": "markdown",
   "metadata": {
    "deletable": true,
    "editable": true,
    "slideshow": {
     "slide_type": "slide"
    }
   },
   "source": [
    "### Least Squares the way your _grandparents_ did it...\n",
    "\n",
    "...with chalk and a slab of slate."
   ]
  },
  {
   "cell_type": "markdown",
   "metadata": {
    "deletable": true,
    "editable": true,
    "slideshow": {
     "slide_type": "subslide"
    }
   },
   "source": [
    "Construct a function to calculate the sum of squared residuals...\n",
    "\n",
    "$$\n",
    "\\begin{align}\n",
    "    \\text{min}\\ f(\\beta) & = \\frac{1}{2} ||y - X \\beta||^2 \\\\\n",
    "                         & \\\\\n",
    "                         & = \\frac{1}{2} (y - X \\beta)'(y - X \\beta) \\\\\n",
    "                         & \\\\\n",
    "                         & = \\frac{1}{2} y'y - y'X\\beta + \\frac{1}{2} \\beta'X'X\\beta \\\\\n",
    "                         & \\\\\n",
    "                         & = \\frac{1}{2} y'y - y'X\\beta + \\frac{1}{2} \\beta'X'X\\beta \\\\\n",
    "                         & \\\\\n",
    "\\end{align}\n",
    "$$"
   ]
  },
  {
   "cell_type": "markdown",
   "metadata": {
    "deletable": true,
    "editable": true,
    "slideshow": {
     "slide_type": "subslide"
    }
   },
   "source": [
    "#### First Order Necessary Conditions\n",
    "\n",
    "...and take its derivative to find a closed-form solution.\n",
    "\n",
    "$$\\nabla f(\\beta) = X'X\\beta - y'X\\beta = 0$$  \n",
    "$$\\beta = (X'X)^{-1}X'y$$"
   ]
  },
  {
   "cell_type": "code",
   "execution_count": 5,
   "metadata": {
    "collapsed": false,
    "deletable": true,
    "editable": true,
    "slideshow": {
     "slide_type": "subslide"
    }
   },
   "outputs": [
    {
     "name": "stdout",
     "output_type": "stream",
     "text": [
      "[ 3.04977922 -2.04176715  9.27825073]\n"
     ]
    }
   ],
   "source": [
    "from numpy.linalg import inv\n",
    "\n",
    "# beta = (X'X)^-1 * X * y\n",
    "Xt = X.transpose()\n",
    "pseudo_inv = inv(np.matmul(Xt, X))\n",
    "beta = np.matmul(np.matmul(pseudo_inv, Xt), y)\n",
    "print(beta)"
   ]
  },
  {
   "cell_type": "markdown",
   "metadata": {
    "deletable": true,
    "editable": true,
    "slideshow": {
     "slide_type": "subslide"
    }
   },
   "source": [
    "How'd grandma and grandpa do?"
   ]
  },
  {
   "cell_type": "code",
   "execution_count": 6,
   "metadata": {
    "collapsed": false,
    "deletable": true,
    "editable": true,
    "slideshow": {
     "slide_type": "-"
    }
   },
   "outputs": [
    {
     "data": {
      "text/html": [
       "\n",
       "\n",
       "    <div class=\"bk-root\">\n",
       "        <div class=\"bk-plotdiv\" id=\"abe18991-d23f-4ec2-b6eb-417048952766\"></div>\n",
       "    </div>\n",
       "<script type=\"text/javascript\">\n",
       "  \n",
       "  (function(global) {\n",
       "    function now() {\n",
       "      return new Date();\n",
       "    }\n",
       "  \n",
       "    var force = false;\n",
       "  \n",
       "    if (typeof (window._bokeh_onload_callbacks) === \"undefined\" || force === true) {\n",
       "      window._bokeh_onload_callbacks = [];\n",
       "      window._bokeh_is_loading = undefined;\n",
       "    }\n",
       "  \n",
       "  \n",
       "    \n",
       "    if (typeof (window._bokeh_timeout) === \"undefined\" || force === true) {\n",
       "      window._bokeh_timeout = Date.now() + 0;\n",
       "      window._bokeh_failed_load = false;\n",
       "    }\n",
       "  \n",
       "    var NB_LOAD_WARNING = {'data': {'text/html':\n",
       "       \"<div style='background-color: #fdd'>\\n\"+\n",
       "       \"<p>\\n\"+\n",
       "       \"BokehJS does not appear to have successfully loaded. If loading BokehJS from CDN, this \\n\"+\n",
       "       \"may be due to a slow or bad network connection. Possible fixes:\\n\"+\n",
       "       \"</p>\\n\"+\n",
       "       \"<ul>\\n\"+\n",
       "       \"<li>re-rerun `output_notebook()` to attempt to load from CDN again, or</li>\\n\"+\n",
       "       \"<li>use INLINE resources instead, as so:</li>\\n\"+\n",
       "       \"</ul>\\n\"+\n",
       "       \"<code>\\n\"+\n",
       "       \"from bokeh.resources import INLINE\\n\"+\n",
       "       \"output_notebook(resources=INLINE)\\n\"+\n",
       "       \"</code>\\n\"+\n",
       "       \"</div>\"}};\n",
       "  \n",
       "    function display_loaded() {\n",
       "      if (window.Bokeh !== undefined) {\n",
       "        document.getElementById(\"abe18991-d23f-4ec2-b6eb-417048952766\").textContent = \"BokehJS successfully loaded.\";\n",
       "      } else if (Date.now() < window._bokeh_timeout) {\n",
       "        setTimeout(display_loaded, 100)\n",
       "      }\n",
       "    }\n",
       "  \n",
       "    function run_callbacks() {\n",
       "      window._bokeh_onload_callbacks.forEach(function(callback) { callback() });\n",
       "      delete window._bokeh_onload_callbacks\n",
       "      console.info(\"Bokeh: all callbacks have finished\");\n",
       "    }\n",
       "  \n",
       "    function load_libs(js_urls, callback) {\n",
       "      window._bokeh_onload_callbacks.push(callback);\n",
       "      if (window._bokeh_is_loading > 0) {\n",
       "        console.log(\"Bokeh: BokehJS is being loaded, scheduling callback at\", now());\n",
       "        return null;\n",
       "      }\n",
       "      if (js_urls == null || js_urls.length === 0) {\n",
       "        run_callbacks();\n",
       "        return null;\n",
       "      }\n",
       "      console.log(\"Bokeh: BokehJS not loaded, scheduling load and callback at\", now());\n",
       "      window._bokeh_is_loading = js_urls.length;\n",
       "      for (var i = 0; i < js_urls.length; i++) {\n",
       "        var url = js_urls[i];\n",
       "        var s = document.createElement('script');\n",
       "        s.src = url;\n",
       "        s.async = false;\n",
       "        s.onreadystatechange = s.onload = function() {\n",
       "          window._bokeh_is_loading--;\n",
       "          if (window._bokeh_is_loading === 0) {\n",
       "            console.log(\"Bokeh: all BokehJS libraries loaded\");\n",
       "            run_callbacks()\n",
       "          }\n",
       "        };\n",
       "        s.onerror = function() {\n",
       "          console.warn(\"failed to load library \" + url);\n",
       "        };\n",
       "        console.log(\"Bokeh: injecting script tag for BokehJS library: \", url);\n",
       "        document.getElementsByTagName(\"head\")[0].appendChild(s);\n",
       "      }\n",
       "    };var element = document.getElementById(\"abe18991-d23f-4ec2-b6eb-417048952766\");\n",
       "    if (element == null) {\n",
       "      console.log(\"Bokeh: ERROR: autoload.js configured with elementid 'abe18991-d23f-4ec2-b6eb-417048952766' but no matching script tag was found. \")\n",
       "      return false;\n",
       "    }\n",
       "  \n",
       "    var js_urls = [];\n",
       "  \n",
       "    var inline_js = [\n",
       "      function(Bokeh) {\n",
       "        (function() {\n",
       "          var fn = function() {\n",
       "            var docs_json = {\"388430e8-8cf0-475d-a124-e77703e7ef46\":{\"roots\":{\"references\":[{\"attributes\":{\"callback\":null,\"column_names\":[\"x_values\",\"y_values\"],\"data\":{\"chart_index\":[null,null,null,null,null,null,null,null,null,null,null,null,null,null,null,null,null,null,null,null,null,null,null,null,null,null,null,null,null,null,null,null,null,null,null,null,null,null,null,null,null,null,null,null,null,null,null,null,null,null,null,null,null,null,null,null,null,null,null,null,null,null,null,null,null,null,null,null,null,null,null,null,null,null,null,null,null,null,null,null,null,null,null,null,null,null,null,null,null,null,null,null,null,null,null,null,null,null,null,null,null,null,null,null,null,null,null,null,null,null,null,null,null,null,null,null,null,null,null,null,null,null,null,null,null,null,null,null,null,null,null,null,null,null,null,null,null,null,null,null,null,null,null,null,null,null,null,null,null,null,null,null,null,null,null,null,null,null,null,null,null,null,null,null,null,null,null,null,null,null,null,null,null,null,null,null,null,null,null,null,null,null,null,null,null,null,null,null,null,null,null,null,null,null,null,null,null,null,null,null,null,null,null,null,null,null,null,null,null,null,null,null,null,null,null,null,null,null,null,null,null,null,null,null,null,null,null,null,null,null,null,null,null,null,null,null,null,null,null,null,null,null,null,null,null,null,null,null,null,null,null,null,null,null,null,null,null,null,null,null,null,null,null,null,null,null,null,null,null,null,null,null,null,null,null,null,null,null,null,null,null,null,null,null,null,null,null,null,null,null,null,null,null,null,null,null,null,null,null,null,null,null,null,null,null,null,null,null,null,null,null,null,null,null,null,null,null,null,null,null,null,null,null,null,null,null,null,null,null,null,null,null,null,null,null,null,null,null,null,null,null,null,null,null,null,null,null,null,null,null,null,null,null,null,null,null,null,null,null,null,null,null,null,null,null,null,null,null,null,null,null,null,null,null,null,null,null,null,null,null,null,null,null,null,null,null,null,null,null,null,null,null,null,null,null,null,null,null,null,null,null,null,null,null,null,null,null,null,null,null,null,null,null,null,null,null,null,null,null,null,null,null,null,null,null,null,null,null,null,null,null,null,null,null,null,null,null,null,null,null,null,null,null,null,null,null,null,null,null,null,null,null,null,null,null,null,null,null,null,null,null,null,null,null,null,null,null,null,null,null,null,null,null,null,null,null,null,null,null,null,null,null,null,null,null,null,null,null,null,null,null,null,null,null,null,null,null,null,null,null],\"x_values\":{\"__ndarray__\":\"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\",\"dtype\":\"float64\",\"shape\":[500]},\"y_values\":{\"__ndarray__\":\"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\",\"dtype\":\"float64\",\"shape\":[500]}}},\"id\":\"9949acd8-8398-4b2b-b26a-af4d45576ca6\",\"type\":\"ColumnDataSource\"},{\"attributes\":{\"axis_label\":\"x\",\"formatter\":{\"id\":\"f282fe71-9796-4d4e-a5dc-10dd22dce863\",\"type\":\"BasicTickFormatter\"},\"plot\":{\"id\":\"ec63995a-52c9-487c-a5f5-9d4e79fa237d\",\"subtype\":\"Chart\",\"type\":\"Plot\"},\"ticker\":{\"id\":\"9f6c599f-4bed-4d6c-8e74-d78d8caf4b8d\",\"type\":\"BasicTicker\"}},\"id\":\"c9f5fbb3-24ab-4cb9-9772-51f39a437fce\",\"type\":\"LinearAxis\"},{\"attributes\":{\"data_source\":{\"id\":\"9949acd8-8398-4b2b-b26a-af4d45576ca6\",\"type\":\"ColumnDataSource\"},\"glyph\":{\"id\":\"0839ebe7-5d10-47f8-aa78-ce3fe4f7d4b2\",\"type\":\"Line\"},\"hover_glyph\":null,\"nonselection_glyph\":null,\"selection_glyph\":null},\"id\":\"e8afc981-7ca2-43aa-8d8d-0be39c65742b\",\"type\":\"GlyphRenderer\"},{\"attributes\":{\"line_color\":{\"value\":\"#f22c40\"},\"line_width\":{\"value\":2},\"x\":{\"field\":\"x_values\"},\"y\":{\"field\":\"y_values\"}},\"id\":\"0839ebe7-5d10-47f8-aa78-ce3fe4f7d4b2\",\"type\":\"Line\"},{\"attributes\":{},\"id\":\"71bbe90d-dc5e-410d-9c57-2ecaa1affca7\",\"type\":\"BasicTickFormatter\"},{\"attributes\":{\"callback\":null,\"end\":11.938097919392096,\"start\":-11.93517599770053},\"id\":\"bf0d620d-a6a5-49e9-9e18-579cf83ec59c\",\"type\":\"Range1d\"},{\"attributes\":{\"bottom_units\":\"screen\",\"fill_alpha\":{\"value\":0.5},\"fill_color\":{\"value\":\"lightgrey\"},\"left_units\":\"screen\",\"level\":\"overlay\",\"line_alpha\":{\"value\":1.0},\"line_color\":{\"value\":\"black\"},\"line_dash\":[4,4],\"line_width\":{\"value\":2},\"plot\":null,\"render_mode\":\"css\",\"right_units\":\"screen\",\"top_units\":\"screen\"},\"id\":\"85c36da7-5538-4e13-831e-5e0dbbaa98a8\",\"type\":\"BoxAnnotation\"},{\"attributes\":{\"location\":\"top_left\",\"plot\":{\"id\":\"ec63995a-52c9-487c-a5f5-9d4e79fa237d\",\"subtype\":\"Chart\",\"type\":\"Plot\"}},\"id\":\"3e52e480-a5e4-4e83-8e29-8b592bd2c053\",\"type\":\"Legend\"},{\"attributes\":{\"axis_label\":\"y\",\"formatter\":{\"id\":\"71bbe90d-dc5e-410d-9c57-2ecaa1affca7\",\"type\":\"BasicTickFormatter\"},\"plot\":{\"id\":\"ec63995a-52c9-487c-a5f5-9d4e79fa237d\",\"subtype\":\"Chart\",\"type\":\"Plot\"},\"ticker\":{\"id\":\"8709cf31-3416-4ac9-b9e9-cbfd80ca8f4e\",\"type\":\"BasicTicker\"}},\"id\":\"85676dc6-934d-4b79-a535-78b3baf86cb4\",\"type\":\"LinearAxis\"},{\"attributes\":{},\"id\":\"f282fe71-9796-4d4e-a5dc-10dd22dce863\",\"type\":\"BasicTickFormatter\"},{\"attributes\":{},\"id\":\"9f6c599f-4bed-4d6c-8e74-d78d8caf4b8d\",\"type\":\"BasicTicker\"},{\"attributes\":{\"plot\":{\"id\":\"ec63995a-52c9-487c-a5f5-9d4e79fa237d\",\"subtype\":\"Chart\",\"type\":\"Plot\"},\"ticker\":{\"id\":\"9f6c599f-4bed-4d6c-8e74-d78d8caf4b8d\",\"type\":\"BasicTicker\"}},\"id\":\"a56090dd-4f2e-49cf-97f1-3321d36a2609\",\"type\":\"Grid\"},{\"attributes\":{},\"id\":\"8709cf31-3416-4ac9-b9e9-cbfd80ca8f4e\",\"type\":\"BasicTicker\"},{\"attributes\":{\"dimension\":1,\"plot\":{\"id\":\"ec63995a-52c9-487c-a5f5-9d4e79fa237d\",\"subtype\":\"Chart\",\"type\":\"Plot\"},\"ticker\":{\"id\":\"8709cf31-3416-4ac9-b9e9-cbfd80ca8f4e\",\"type\":\"BasicTicker\"}},\"id\":\"112fd0ea-8113-41ae-8008-066afd79cdc0\",\"type\":\"Grid\"},{\"attributes\":{\"callback\":null,\"end\":363.49474375008407,\"start\":-23.295809303524102},\"id\":\"c1259ea8-36fc-4897-a43a-43723bc91ec2\",\"type\":\"Range1d\"},{\"attributes\":{},\"id\":\"2a377da8-dfe7-44c1-956c-fcb6e5690bb9\",\"type\":\"ToolEvents\"},{\"attributes\":{\"plot\":{\"id\":\"ec63995a-52c9-487c-a5f5-9d4e79fa237d\",\"subtype\":\"Chart\",\"type\":\"Plot\"}},\"id\":\"c53a271f-7e65-4052-830d-d65157e3b6dd\",\"type\":\"SaveTool\"},{\"attributes\":{\"plot\":{\"id\":\"ec63995a-52c9-487c-a5f5-9d4e79fa237d\",\"subtype\":\"Chart\",\"type\":\"Plot\"}},\"id\":\"796acc48-83c9-4f62-8079-5cf2b7af9846\",\"type\":\"HelpTool\"},{\"attributes\":{\"plot\":{\"id\":\"ec63995a-52c9-487c-a5f5-9d4e79fa237d\",\"subtype\":\"Chart\",\"type\":\"Plot\"}},\"id\":\"67b60cc8-dc31-4c23-a273-e1905eeb9e82\",\"type\":\"ResetTool\"},{\"attributes\":{\"active_drag\":\"auto\",\"active_scroll\":\"auto\",\"active_tap\":\"auto\",\"tools\":[{\"id\":\"c7b1da33-ed22-42e3-b9c9-fce1cf5fff07\",\"type\":\"PanTool\"},{\"id\":\"1a2dd225-d698-4e2e-848c-05dc38ec3e08\",\"type\":\"WheelZoomTool\"},{\"id\":\"c1c05f6d-46dd-4c27-b192-f148817f4eeb\",\"type\":\"BoxZoomTool\"},{\"id\":\"c53a271f-7e65-4052-830d-d65157e3b6dd\",\"type\":\"SaveTool\"},{\"id\":\"67b60cc8-dc31-4c23-a273-e1905eeb9e82\",\"type\":\"ResetTool\"},{\"id\":\"796acc48-83c9-4f62-8079-5cf2b7af9846\",\"type\":\"HelpTool\"}]},\"id\":\"a1452260-1540-4b91-ba48-7b29ece47561\",\"type\":\"Toolbar\"},{\"attributes\":{\"overlay\":{\"id\":\"85c36da7-5538-4e13-831e-5e0dbbaa98a8\",\"type\":\"BoxAnnotation\"},\"plot\":{\"id\":\"ec63995a-52c9-487c-a5f5-9d4e79fa237d\",\"subtype\":\"Chart\",\"type\":\"Plot\"}},\"id\":\"c1c05f6d-46dd-4c27-b192-f148817f4eeb\",\"type\":\"BoxZoomTool\"},{\"attributes\":{\"plot\":{\"id\":\"ec63995a-52c9-487c-a5f5-9d4e79fa237d\",\"subtype\":\"Chart\",\"type\":\"Plot\"}},\"id\":\"c7b1da33-ed22-42e3-b9c9-fce1cf5fff07\",\"type\":\"PanTool\"},{\"attributes\":{\"plot\":null,\"text\":null},\"id\":\"e8cd3979-a2cf-49b7-9eaf-fdef364146bb\",\"type\":\"Title\"},{\"attributes\":{\"below\":[{\"id\":\"c9f5fbb3-24ab-4cb9-9772-51f39a437fce\",\"type\":\"LinearAxis\"}],\"css_classes\":null,\"height\":400,\"left\":[{\"id\":\"85676dc6-934d-4b79-a535-78b3baf86cb4\",\"type\":\"LinearAxis\"}],\"renderers\":[{\"id\":\"85c36da7-5538-4e13-831e-5e0dbbaa98a8\",\"type\":\"BoxAnnotation\"},{\"id\":\"e8afc981-7ca2-43aa-8d8d-0be39c65742b\",\"type\":\"GlyphRenderer\"},{\"id\":\"3e52e480-a5e4-4e83-8e29-8b592bd2c053\",\"type\":\"Legend\"},{\"id\":\"c9f5fbb3-24ab-4cb9-9772-51f39a437fce\",\"type\":\"LinearAxis\"},{\"id\":\"85676dc6-934d-4b79-a535-78b3baf86cb4\",\"type\":\"LinearAxis\"},{\"id\":\"a56090dd-4f2e-49cf-97f1-3321d36a2609\",\"type\":\"Grid\"},{\"id\":\"112fd0ea-8113-41ae-8008-066afd79cdc0\",\"type\":\"Grid\"}],\"title\":{\"id\":\"e8cd3979-a2cf-49b7-9eaf-fdef364146bb\",\"type\":\"Title\"},\"tool_events\":{\"id\":\"2a377da8-dfe7-44c1-956c-fcb6e5690bb9\",\"type\":\"ToolEvents\"},\"toolbar\":{\"id\":\"a1452260-1540-4b91-ba48-7b29ece47561\",\"type\":\"Toolbar\"},\"width\":750,\"x_mapper_type\":\"auto\",\"x_range\":{\"id\":\"bf0d620d-a6a5-49e9-9e18-579cf83ec59c\",\"type\":\"Range1d\"},\"y_mapper_type\":\"auto\",\"y_range\":{\"id\":\"c1259ea8-36fc-4897-a43a-43723bc91ec2\",\"type\":\"Range1d\"}},\"id\":\"ec63995a-52c9-487c-a5f5-9d4e79fa237d\",\"subtype\":\"Chart\",\"type\":\"Plot\"},{\"attributes\":{\"plot\":{\"id\":\"ec63995a-52c9-487c-a5f5-9d4e79fa237d\",\"subtype\":\"Chart\",\"type\":\"Plot\"}},\"id\":\"1a2dd225-d698-4e2e-848c-05dc38ec3e08\",\"type\":\"WheelZoomTool\"}],\"root_ids\":[\"ec63995a-52c9-487c-a5f5-9d4e79fa237d\"]},\"title\":\"Bokeh Application\",\"version\":\"0.12.4\"}};\n",
       "            var render_items = [{\"docid\":\"388430e8-8cf0-475d-a124-e77703e7ef46\",\"elementid\":\"abe18991-d23f-4ec2-b6eb-417048952766\",\"modelid\":\"ec63995a-52c9-487c-a5f5-9d4e79fa237d\"}];\n",
       "            \n",
       "            Bokeh.embed.embed_items(docs_json, render_items);\n",
       "          };\n",
       "          if (document.readyState != \"loading\") fn();\n",
       "          else document.addEventListener(\"DOMContentLoaded\", fn);\n",
       "        })();\n",
       "      },\n",
       "      function(Bokeh) {\n",
       "      }\n",
       "    ];\n",
       "  \n",
       "    function run_inline_js() {\n",
       "      \n",
       "      if ((window.Bokeh !== undefined) || (force === true)) {\n",
       "        for (var i = 0; i < inline_js.length; i++) {\n",
       "          inline_js[i](window.Bokeh);\n",
       "        }if (force === true) {\n",
       "          display_loaded();\n",
       "        }} else if (Date.now() < window._bokeh_timeout) {\n",
       "        setTimeout(run_inline_js, 100);\n",
       "      } else if (!window._bokeh_failed_load) {\n",
       "        console.log(\"Bokeh: BokehJS failed to load within specified timeout.\");\n",
       "        window._bokeh_failed_load = true;\n",
       "      } else if (force !== true) {\n",
       "        var cell = $(document.getElementById(\"abe18991-d23f-4ec2-b6eb-417048952766\")).parents('.cell').data().cell;\n",
       "        cell.output_area.append_execute_result(NB_LOAD_WARNING)\n",
       "      }\n",
       "  \n",
       "    }\n",
       "  \n",
       "    if (window._bokeh_is_loading === 0) {\n",
       "      console.log(\"Bokeh: BokehJS loaded, going straight to plotting\");\n",
       "      run_inline_js();\n",
       "    } else {\n",
       "      load_libs(js_urls, function() {\n",
       "        console.log(\"Bokeh: BokehJS plotting callback run at\", now());\n",
       "        run_inline_js();\n",
       "      });\n",
       "    }\n",
       "  }(this));\n",
       "</script>"
      ]
     },
     "metadata": {},
     "output_type": "display_data"
    }
   ],
   "source": [
    "y_hat = [beta[0]*xi**2 + beta[1]*xi + beta[2] for xi in x]\n",
    "show(Line({'x': x, 'y': y_hat}, x='x', y='y', width=750, height=400))"
   ]
  },
  {
   "cell_type": "markdown",
   "metadata": {
    "deletable": true,
    "editable": true,
    "slideshow": {
     "slide_type": "slide"
    }
   },
   "source": [
    "### Least Squares the way your _crazy uncle Eddie_ does it...\n",
    "\n",
    "...'cause he used to work at NASA and code in Forth."
   ]
  },
  {
   "cell_type": "markdown",
   "metadata": {
    "deletable": true,
    "editable": true,
    "slideshow": {
     "slide_type": "subslide"
    }
   },
   "source": [
    "[`cvxopt`](http://cvxopt.org/) provides a [`qp`](http://cvxopt.org/userguide/coneprog.html#quadratic-programming) method that can solve anything of this form.\n",
    "\n",
    "$$\n",
    "\\begin{align}\n",
    "    \\text{min}  \\ \\ \\ & \\ \\frac{1}{2} \\beta'P\\beta + q'\\beta \\\\\n",
    "                      & \\\\\n",
    "    \\text{s.t.} \\ \\ \\ & \\ G\\beta \\preceq h \\\\\n",
    "                      & \\\\\n",
    "                      & \\ A\\beta = b\n",
    "\\end{align}\n",
    "$$\n"
   ]
  },
  {
   "cell_type": "markdown",
   "metadata": {
    "deletable": true,
    "editable": true,
    "slideshow": {
     "slide_type": "subslide"
    }
   },
   "source": [
    "So we need to convert from \n",
    "\n",
    "$$\\frac{1}{2} \\beta'X'X\\beta - y'X\\beta + \\frac{1}{2} y'y $$\n",
    "\n",
    "to another form\n",
    "\n",
    "$$\\frac{1}{2} \\beta'P\\beta + q'\\beta$$"
   ]
  },
  {
   "cell_type": "markdown",
   "metadata": {
    "deletable": true,
    "editable": true,
    "slideshow": {
     "slide_type": "fragment"
    }
   },
   "source": [
    "which is simply\n",
    "\n",
    "$$P = X'X, q = -y$$"
   ]
  },
  {
   "cell_type": "code",
   "execution_count": 7,
   "metadata": {
    "collapsed": false,
    "deletable": true,
    "editable": true,
    "slideshow": {
     "slide_type": "subslide"
    }
   },
   "outputs": [
    {
     "name": "stdout",
     "output_type": "stream",
     "text": [
      "[ 3.05e+00]\n",
      "[-2.04e+00]\n",
      "[ 9.28e+00]\n",
      "\n"
     ]
    }
   ],
   "source": [
    "import cvxopt as cvx\n",
    "\n",
    "P = cvx.matrix(np.matmul(Xt, X))\n",
    "q = cvx.matrix(-1 * np.matmul(y.transpose(), X))\n",
    "solution = cvx.solvers.qp(P, q)\n",
    "beta = solution['x'] # unrelated to our x\n",
    "print(beta)"
   ]
  },
  {
   "cell_type": "markdown",
   "metadata": {
    "deletable": true,
    "editable": true,
    "slideshow": {
     "slide_type": "subslide"
    }
   },
   "source": [
    "How'd Crazy Uncle Eddie do?"
   ]
  },
  {
   "cell_type": "code",
   "execution_count": 8,
   "metadata": {
    "collapsed": false,
    "deletable": true,
    "editable": true,
    "slideshow": {
     "slide_type": "-"
    }
   },
   "outputs": [
    {
     "data": {
      "text/html": [
       "\n",
       "\n",
       "    <div class=\"bk-root\">\n",
       "        <div class=\"bk-plotdiv\" id=\"20c890d2-1b6b-4ac3-b42d-1c9ca979b5b8\"></div>\n",
       "    </div>\n",
       "<script type=\"text/javascript\">\n",
       "  \n",
       "  (function(global) {\n",
       "    function now() {\n",
       "      return new Date();\n",
       "    }\n",
       "  \n",
       "    var force = false;\n",
       "  \n",
       "    if (typeof (window._bokeh_onload_callbacks) === \"undefined\" || force === true) {\n",
       "      window._bokeh_onload_callbacks = [];\n",
       "      window._bokeh_is_loading = undefined;\n",
       "    }\n",
       "  \n",
       "  \n",
       "    \n",
       "    if (typeof (window._bokeh_timeout) === \"undefined\" || force === true) {\n",
       "      window._bokeh_timeout = Date.now() + 0;\n",
       "      window._bokeh_failed_load = false;\n",
       "    }\n",
       "  \n",
       "    var NB_LOAD_WARNING = {'data': {'text/html':\n",
       "       \"<div style='background-color: #fdd'>\\n\"+\n",
       "       \"<p>\\n\"+\n",
       "       \"BokehJS does not appear to have successfully loaded. If loading BokehJS from CDN, this \\n\"+\n",
       "       \"may be due to a slow or bad network connection. Possible fixes:\\n\"+\n",
       "       \"</p>\\n\"+\n",
       "       \"<ul>\\n\"+\n",
       "       \"<li>re-rerun `output_notebook()` to attempt to load from CDN again, or</li>\\n\"+\n",
       "       \"<li>use INLINE resources instead, as so:</li>\\n\"+\n",
       "       \"</ul>\\n\"+\n",
       "       \"<code>\\n\"+\n",
       "       \"from bokeh.resources import INLINE\\n\"+\n",
       "       \"output_notebook(resources=INLINE)\\n\"+\n",
       "       \"</code>\\n\"+\n",
       "       \"</div>\"}};\n",
       "  \n",
       "    function display_loaded() {\n",
       "      if (window.Bokeh !== undefined) {\n",
       "        document.getElementById(\"20c890d2-1b6b-4ac3-b42d-1c9ca979b5b8\").textContent = \"BokehJS successfully loaded.\";\n",
       "      } else if (Date.now() < window._bokeh_timeout) {\n",
       "        setTimeout(display_loaded, 100)\n",
       "      }\n",
       "    }\n",
       "  \n",
       "    function run_callbacks() {\n",
       "      window._bokeh_onload_callbacks.forEach(function(callback) { callback() });\n",
       "      delete window._bokeh_onload_callbacks\n",
       "      console.info(\"Bokeh: all callbacks have finished\");\n",
       "    }\n",
       "  \n",
       "    function load_libs(js_urls, callback) {\n",
       "      window._bokeh_onload_callbacks.push(callback);\n",
       "      if (window._bokeh_is_loading > 0) {\n",
       "        console.log(\"Bokeh: BokehJS is being loaded, scheduling callback at\", now());\n",
       "        return null;\n",
       "      }\n",
       "      if (js_urls == null || js_urls.length === 0) {\n",
       "        run_callbacks();\n",
       "        return null;\n",
       "      }\n",
       "      console.log(\"Bokeh: BokehJS not loaded, scheduling load and callback at\", now());\n",
       "      window._bokeh_is_loading = js_urls.length;\n",
       "      for (var i = 0; i < js_urls.length; i++) {\n",
       "        var url = js_urls[i];\n",
       "        var s = document.createElement('script');\n",
       "        s.src = url;\n",
       "        s.async = false;\n",
       "        s.onreadystatechange = s.onload = function() {\n",
       "          window._bokeh_is_loading--;\n",
       "          if (window._bokeh_is_loading === 0) {\n",
       "            console.log(\"Bokeh: all BokehJS libraries loaded\");\n",
       "            run_callbacks()\n",
       "          }\n",
       "        };\n",
       "        s.onerror = function() {\n",
       "          console.warn(\"failed to load library \" + url);\n",
       "        };\n",
       "        console.log(\"Bokeh: injecting script tag for BokehJS library: \", url);\n",
       "        document.getElementsByTagName(\"head\")[0].appendChild(s);\n",
       "      }\n",
       "    };var element = document.getElementById(\"20c890d2-1b6b-4ac3-b42d-1c9ca979b5b8\");\n",
       "    if (element == null) {\n",
       "      console.log(\"Bokeh: ERROR: autoload.js configured with elementid '20c890d2-1b6b-4ac3-b42d-1c9ca979b5b8' but no matching script tag was found. \")\n",
       "      return false;\n",
       "    }\n",
       "  \n",
       "    var js_urls = [];\n",
       "  \n",
       "    var inline_js = [\n",
       "      function(Bokeh) {\n",
       "        (function() {\n",
       "          var fn = function() {\n",
       "            var docs_json = {\"8ff5c4ee-9745-4100-b6c5-98f4b8025f14\":{\"roots\":{\"references\":[{\"attributes\":{\"plot\":{\"id\":\"61e77dfd-9ad1-4f85-ab61-d05aa396b8e4\",\"subtype\":\"Chart\",\"type\":\"Plot\"}},\"id\":\"fda0415a-97c2-42d9-a454-9715d33b596e\",\"type\":\"WheelZoomTool\"},{\"attributes\":{\"overlay\":{\"id\":\"a74feaf9-c80c-4ab6-afb0-083ea345a595\",\"type\":\"BoxAnnotation\"},\"plot\":{\"id\":\"61e77dfd-9ad1-4f85-ab61-d05aa396b8e4\",\"subtype\":\"Chart\",\"type\":\"Plot\"}},\"id\":\"5d5181e5-de5e-438d-b616-823c82500474\",\"type\":\"BoxZoomTool\"},{\"attributes\":{\"plot\":{\"id\":\"61e77dfd-9ad1-4f85-ab61-d05aa396b8e4\",\"subtype\":\"Chart\",\"type\":\"Plot\"}},\"id\":\"40ab1f05-9c4b-47b0-9e1a-3fead2f47e82\",\"type\":\"SaveTool\"},{\"attributes\":{\"callback\":null,\"column_names\":[\"x_values\",\"y_values\"],\"data\":{\"chart_index\":[null,null,null,null,null,null,null,null,null,null,null,null,null,null,null,null,null,null,null,null,null,null,null,null,null,null,null,null,null,null,null,null,null,null,null,null,null,null,null,null,null,null,null,null,null,null,null,null,null,null,null,null,null,null,null,null,null,null,null,null,null,null,null,null,null,null,null,null,null,null,null,null,null,null,null,null,null,null,null,null,null,null,null,null,null,null,null,null,null,null,null,null,null,null,null,null,null,null,null,null,null,null,null,null,null,null,null,null,null,null,null,null,null,null,null,null,null,null,null,null,null,null,null,null,null,null,null,null,null,null,null,null,null,null,null,null,null,null,null,null,null,null,null,null,null,null,null,null,null,null,null,null,null,null,null,null,null,null,null,null,null,null,null,null,null,null,null,null,null,null,null,null,null,null,null,null,null,null,null,null,null,null,null,null,null,null,null,null,null,null,null,null,null,null,null,null,null,null,null,null,null,null,null,null,null,null,null,null,null,null,null,null,null,null,null,null,null,null,null,null,null,null,null,null,null,null,null,null,null,null,null,null,null,null,null,null,null,null,null,null,null,null,null,null,null,null,null,null,null,null,null,null,null,null,null,null,null,null,null,null,null,null,null,null,null,null,null,null,null,null,null,null,null,null,null,null,null,null,null,null,null,null,null,null,null,null,null,null,null,null,null,null,null,null,null,null,null,null,null,null,null,null,null,null,null,null,null,null,null,null,null,null,null,null,null,null,null,null,null,null,null,null,null,null,null,null,null,null,null,null,null,null,null,null,null,null,null,null,null,null,null,null,null,null,null,null,null,null,null,null,null,null,null,null,null,null,null,null,null,null,null,null,null,null,null,null,null,null,null,null,null,null,null,null,null,null,null,null,null,null,null,null,null,null,null,null,null,null,null,null,null,null,null,null,null,null,null,null,null,null,null,null,null,null,null,null,null,null,null,null,null,null,null,null,null,null,null,null,null,null,null,null,null,null,null,null,null,null,null,null,null,null,null,null,null,null,null,null,null,null,null,null,null,null,null,null,null,null,null,null,null,null,null,null,null,null,null,null,null,null,null,null,null,null,null,null,null,null,null,null,null,null,null,null,null,null,null,null,null,null,null,null,null,null,null,null,null,null,null,null,null,null,null,null,null,null,null,null,null,null],\"x_values\":{\"__ndarray__\":\"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\",\"dtype\":\"float64\",\"shape\":[500]},\"y_values\":{\"__ndarray__\":\"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\",\"dtype\":\"float64\",\"shape\":[500]}}},\"id\":\"a438ec19-3393-4e19-98e3-b48391b3fb11\",\"type\":\"ColumnDataSource\"},{\"attributes\":{\"below\":[{\"id\":\"9435e733-6bc2-4476-87e8-2bf76ed06147\",\"type\":\"LinearAxis\"}],\"css_classes\":null,\"height\":400,\"left\":[{\"id\":\"e5fb7b29-c0d3-4474-9eaa-e458e01c15c4\",\"type\":\"LinearAxis\"}],\"renderers\":[{\"id\":\"a74feaf9-c80c-4ab6-afb0-083ea345a595\",\"type\":\"BoxAnnotation\"},{\"id\":\"d348b6a8-e6fc-44ec-b34d-35a4123a2a4e\",\"type\":\"GlyphRenderer\"},{\"id\":\"c9e93335-095e-4d2f-afa9-44dcaf18d957\",\"type\":\"Legend\"},{\"id\":\"9435e733-6bc2-4476-87e8-2bf76ed06147\",\"type\":\"LinearAxis\"},{\"id\":\"e5fb7b29-c0d3-4474-9eaa-e458e01c15c4\",\"type\":\"LinearAxis\"},{\"id\":\"7c991232-ef5e-4e41-b0c6-b16927b6859b\",\"type\":\"Grid\"},{\"id\":\"0b0d720a-476c-4357-8a06-16e638a32c12\",\"type\":\"Grid\"}],\"title\":{\"id\":\"736fc296-67e2-4cd9-90c2-7796b7d8f905\",\"type\":\"Title\"},\"tool_events\":{\"id\":\"3e7f4017-597b-4b88-83d1-480bc139c46d\",\"type\":\"ToolEvents\"},\"toolbar\":{\"id\":\"391cab84-ee56-45af-99e1-03b1f8a86774\",\"type\":\"Toolbar\"},\"width\":750,\"x_mapper_type\":\"auto\",\"x_range\":{\"id\":\"72589645-1bd2-43ff-a55d-4883ad55d98b\",\"type\":\"Range1d\"},\"y_mapper_type\":\"auto\",\"y_range\":{\"id\":\"6108af59-fef9-4419-8df1-382bf00ca65d\",\"type\":\"Range1d\"}},\"id\":\"61e77dfd-9ad1-4f85-ab61-d05aa396b8e4\",\"subtype\":\"Chart\",\"type\":\"Plot\"},{\"attributes\":{\"data_source\":{\"id\":\"a438ec19-3393-4e19-98e3-b48391b3fb11\",\"type\":\"ColumnDataSource\"},\"glyph\":{\"id\":\"08145379-458a-4538-b19f-7931a0236547\",\"type\":\"Line\"},\"hover_glyph\":null,\"nonselection_glyph\":null,\"selection_glyph\":null},\"id\":\"d348b6a8-e6fc-44ec-b34d-35a4123a2a4e\",\"type\":\"GlyphRenderer\"},{\"attributes\":{\"line_color\":{\"value\":\"#f22c40\"},\"line_width\":{\"value\":2},\"x\":{\"field\":\"x_values\"},\"y\":{\"field\":\"y_values\"}},\"id\":\"08145379-458a-4538-b19f-7931a0236547\",\"type\":\"Line\"},{\"attributes\":{},\"id\":\"5d753201-4292-4700-a7eb-440ec266d2c1\",\"type\":\"BasicTickFormatter\"},{\"attributes\":{\"callback\":null,\"end\":363.4947437500836,\"start\":-23.29580930352392},\"id\":\"6108af59-fef9-4419-8df1-382bf00ca65d\",\"type\":\"Range1d\"},{\"attributes\":{\"plot\":{\"id\":\"61e77dfd-9ad1-4f85-ab61-d05aa396b8e4\",\"subtype\":\"Chart\",\"type\":\"Plot\"}},\"id\":\"05dbb903-77cd-4e35-8141-c5501214b0b8\",\"type\":\"HelpTool\"},{\"attributes\":{\"axis_label\":\"y\",\"formatter\":{\"id\":\"5d753201-4292-4700-a7eb-440ec266d2c1\",\"type\":\"BasicTickFormatter\"},\"plot\":{\"id\":\"61e77dfd-9ad1-4f85-ab61-d05aa396b8e4\",\"subtype\":\"Chart\",\"type\":\"Plot\"},\"ticker\":{\"id\":\"6a8b0a99-e4c0-49cd-ae42-62acf9221637\",\"type\":\"BasicTicker\"}},\"id\":\"e5fb7b29-c0d3-4474-9eaa-e458e01c15c4\",\"type\":\"LinearAxis\"},{\"attributes\":{},\"id\":\"ead0f981-d1de-4940-aeea-cc8846cf0c85\",\"type\":\"BasicTickFormatter\"},{\"attributes\":{},\"id\":\"b16540cc-127e-4083-8298-3025ec14aa0b\",\"type\":\"BasicTicker\"},{\"attributes\":{\"plot\":{\"id\":\"61e77dfd-9ad1-4f85-ab61-d05aa396b8e4\",\"subtype\":\"Chart\",\"type\":\"Plot\"},\"ticker\":{\"id\":\"b16540cc-127e-4083-8298-3025ec14aa0b\",\"type\":\"BasicTicker\"}},\"id\":\"7c991232-ef5e-4e41-b0c6-b16927b6859b\",\"type\":\"Grid\"},{\"attributes\":{},\"id\":\"6a8b0a99-e4c0-49cd-ae42-62acf9221637\",\"type\":\"BasicTicker\"},{\"attributes\":{\"callback\":null,\"end\":11.938097919392096,\"start\":-11.93517599770053},\"id\":\"72589645-1bd2-43ff-a55d-4883ad55d98b\",\"type\":\"Range1d\"},{\"attributes\":{\"dimension\":1,\"plot\":{\"id\":\"61e77dfd-9ad1-4f85-ab61-d05aa396b8e4\",\"subtype\":\"Chart\",\"type\":\"Plot\"},\"ticker\":{\"id\":\"6a8b0a99-e4c0-49cd-ae42-62acf9221637\",\"type\":\"BasicTicker\"}},\"id\":\"0b0d720a-476c-4357-8a06-16e638a32c12\",\"type\":\"Grid\"},{\"attributes\":{\"location\":\"top_left\",\"plot\":{\"id\":\"61e77dfd-9ad1-4f85-ab61-d05aa396b8e4\",\"subtype\":\"Chart\",\"type\":\"Plot\"}},\"id\":\"c9e93335-095e-4d2f-afa9-44dcaf18d957\",\"type\":\"Legend\"},{\"attributes\":{},\"id\":\"3e7f4017-597b-4b88-83d1-480bc139c46d\",\"type\":\"ToolEvents\"},{\"attributes\":{\"plot\":{\"id\":\"61e77dfd-9ad1-4f85-ab61-d05aa396b8e4\",\"subtype\":\"Chart\",\"type\":\"Plot\"}},\"id\":\"9dcbb19d-e814-44b2-92ef-74705e1891e6\",\"type\":\"ResetTool\"},{\"attributes\":{\"axis_label\":\"x\",\"formatter\":{\"id\":\"ead0f981-d1de-4940-aeea-cc8846cf0c85\",\"type\":\"BasicTickFormatter\"},\"plot\":{\"id\":\"61e77dfd-9ad1-4f85-ab61-d05aa396b8e4\",\"subtype\":\"Chart\",\"type\":\"Plot\"},\"ticker\":{\"id\":\"b16540cc-127e-4083-8298-3025ec14aa0b\",\"type\":\"BasicTicker\"}},\"id\":\"9435e733-6bc2-4476-87e8-2bf76ed06147\",\"type\":\"LinearAxis\"},{\"attributes\":{\"plot\":{\"id\":\"61e77dfd-9ad1-4f85-ab61-d05aa396b8e4\",\"subtype\":\"Chart\",\"type\":\"Plot\"}},\"id\":\"c2028815-df18-4331-958a-40bdb3773677\",\"type\":\"PanTool\"},{\"attributes\":{\"plot\":null,\"text\":null},\"id\":\"736fc296-67e2-4cd9-90c2-7796b7d8f905\",\"type\":\"Title\"},{\"attributes\":{\"active_drag\":\"auto\",\"active_scroll\":\"auto\",\"active_tap\":\"auto\",\"tools\":[{\"id\":\"c2028815-df18-4331-958a-40bdb3773677\",\"type\":\"PanTool\"},{\"id\":\"fda0415a-97c2-42d9-a454-9715d33b596e\",\"type\":\"WheelZoomTool\"},{\"id\":\"5d5181e5-de5e-438d-b616-823c82500474\",\"type\":\"BoxZoomTool\"},{\"id\":\"40ab1f05-9c4b-47b0-9e1a-3fead2f47e82\",\"type\":\"SaveTool\"},{\"id\":\"9dcbb19d-e814-44b2-92ef-74705e1891e6\",\"type\":\"ResetTool\"},{\"id\":\"05dbb903-77cd-4e35-8141-c5501214b0b8\",\"type\":\"HelpTool\"}]},\"id\":\"391cab84-ee56-45af-99e1-03b1f8a86774\",\"type\":\"Toolbar\"},{\"attributes\":{\"bottom_units\":\"screen\",\"fill_alpha\":{\"value\":0.5},\"fill_color\":{\"value\":\"lightgrey\"},\"left_units\":\"screen\",\"level\":\"overlay\",\"line_alpha\":{\"value\":1.0},\"line_color\":{\"value\":\"black\"},\"line_dash\":[4,4],\"line_width\":{\"value\":2},\"plot\":null,\"render_mode\":\"css\",\"right_units\":\"screen\",\"top_units\":\"screen\"},\"id\":\"a74feaf9-c80c-4ab6-afb0-083ea345a595\",\"type\":\"BoxAnnotation\"}],\"root_ids\":[\"61e77dfd-9ad1-4f85-ab61-d05aa396b8e4\"]},\"title\":\"Bokeh Application\",\"version\":\"0.12.4\"}};\n",
       "            var render_items = [{\"docid\":\"8ff5c4ee-9745-4100-b6c5-98f4b8025f14\",\"elementid\":\"20c890d2-1b6b-4ac3-b42d-1c9ca979b5b8\",\"modelid\":\"61e77dfd-9ad1-4f85-ab61-d05aa396b8e4\"}];\n",
       "            \n",
       "            Bokeh.embed.embed_items(docs_json, render_items);\n",
       "          };\n",
       "          if (document.readyState != \"loading\") fn();\n",
       "          else document.addEventListener(\"DOMContentLoaded\", fn);\n",
       "        })();\n",
       "      },\n",
       "      function(Bokeh) {\n",
       "      }\n",
       "    ];\n",
       "  \n",
       "    function run_inline_js() {\n",
       "      \n",
       "      if ((window.Bokeh !== undefined) || (force === true)) {\n",
       "        for (var i = 0; i < inline_js.length; i++) {\n",
       "          inline_js[i](window.Bokeh);\n",
       "        }if (force === true) {\n",
       "          display_loaded();\n",
       "        }} else if (Date.now() < window._bokeh_timeout) {\n",
       "        setTimeout(run_inline_js, 100);\n",
       "      } else if (!window._bokeh_failed_load) {\n",
       "        console.log(\"Bokeh: BokehJS failed to load within specified timeout.\");\n",
       "        window._bokeh_failed_load = true;\n",
       "      } else if (force !== true) {\n",
       "        var cell = $(document.getElementById(\"20c890d2-1b6b-4ac3-b42d-1c9ca979b5b8\")).parents('.cell').data().cell;\n",
       "        cell.output_area.append_execute_result(NB_LOAD_WARNING)\n",
       "      }\n",
       "  \n",
       "    }\n",
       "  \n",
       "    if (window._bokeh_is_loading === 0) {\n",
       "      console.log(\"Bokeh: BokehJS loaded, going straight to plotting\");\n",
       "      run_inline_js();\n",
       "    } else {\n",
       "      load_libs(js_urls, function() {\n",
       "        console.log(\"Bokeh: BokehJS plotting callback run at\", now());\n",
       "        run_inline_js();\n",
       "      });\n",
       "    }\n",
       "  }(this));\n",
       "</script>"
      ]
     },
     "metadata": {},
     "output_type": "display_data"
    }
   ],
   "source": [
    "y_hat = [beta[0]*xi**2 + beta[1]*xi + beta[2] for xi in x]\n",
    "show(Line({'x': x, 'y': y_hat}, x='x', y='y', width=750, height=400))"
   ]
  },
  {
   "cell_type": "markdown",
   "metadata": {
    "deletable": true,
    "editable": true,
    "slideshow": {
     "slide_type": "subslide"
    }
   },
   "source": [
    "#### So what's different about Crazy Uncle Eddie?"
   ]
  },
  {
   "cell_type": "markdown",
   "metadata": {
    "deletable": true,
    "editable": true,
    "slideshow": {
     "slide_type": "fragment"
    }
   },
   "source": [
    "Well, besides the obvious.\n",
    "\n",
    "![](images/crazy-uncle-eddie.jpg)"
   ]
  },
  {
   "cell_type": "markdown",
   "metadata": {
    "deletable": true,
    "editable": true,
    "slideshow": {
     "slide_type": "subslide"
    }
   },
   "source": [
    "While all three techniques produced the _same result_, Crazy Uncle Eddie's is interesting because it is more general than the others.\n",
    "\n",
    "Crazy Eddie can solve any quadratic optimization problem, of which Least Squares is _just one instance_."
   ]
  },
  {
   "cell_type": "markdown",
   "metadata": {
    "deletable": true,
    "editable": true,
    "slideshow": {
     "slide_type": "fragment"
    }
   },
   "source": [
    "If we change the structure of the problem slightly:\n",
    "\n",
    "* We probably can't solve it with `scikit-learn`\n",
    "* Grams and Gramps have to go back to their chalkboard\n",
    "* Crazy Eddie can update the inputs to his problem and reoptimize"
   ]
  },
  {
   "cell_type": "markdown",
   "metadata": {
    "deletable": true,
    "editable": true,
    "slideshow": {
     "slide_type": "slide"
    }
   },
   "source": [
    "## Example: Portfolio Optimization\n",
    "\n",
    "We have a big pot of money to allocate among different investments. Lucky us!"
   ]
  },
  {
   "cell_type": "markdown",
   "metadata": {
    "deletable": true,
    "editable": true,
    "slideshow": {
     "slide_type": "fragment"
    }
   },
   "source": [
    "Some investment returns are correlated. They go up and down together.\n",
    "\n",
    "Other returns are anticorrelated. They tend to do the opposite things."
   ]
  },
  {
   "cell_type": "markdown",
   "metadata": {
    "deletable": true,
    "editable": true,
    "slideshow": {
     "slide_type": "fragment"
    }
   },
   "source": [
    "How do we allocate our money to maximize our expected return, subject to our tolerance for risk?"
   ]
  },
  {
   "cell_type": "markdown",
   "metadata": {
    "deletable": true,
    "editable": true,
    "slideshow": {
     "slide_type": "subslide"
    }
   },
   "source": [
    "We'll use 100 months of [exchange rate data](http://www.federalreserve.gov/datadownload/Build.aspx?rel=H10) from the Fed, circa 2014.\n",
    "\n",
    "Since this talk isn't about data wrangling, I've already cleaned it up into the important pieces.\n",
    "\n",
    "* Expected monthly return data for each foreign currency\n",
    "* A covariance matrix for those investments"
   ]
  },
  {
   "cell_type": "markdown",
   "metadata": {
    "deletable": true,
    "editable": true,
    "slideshow": {
     "slide_type": "subslide"
    }
   },
   "source": [
    "### The Markowitz Porfolio Optimization Model\n",
    "\n",
    "#### Inputs:\n",
    "\n",
    "$$\\mu = \\text{vector of expected investment returns}$$\n",
    "\n",
    "$$\\Sigma = \\text{covariance matrix for returns}$$\n",
    "\n",
    "$$\\alpha = \\text{unitless measure of risk aversion}$$"
   ]
  },
  {
   "cell_type": "markdown",
   "metadata": {
    "deletable": true,
    "editable": true,
    "slideshow": {
     "slide_type": "fragment"
    }
   },
   "source": [
    "#### Model:\n",
    "\n",
    "$x$ tells me how much of my total budget to put in each investment.\n",
    "\n",
    "$$\n",
    "\\begin{align}\n",
    "    \\text{max}  \\ \\ \\ & \\ \\mu'x - \\alpha x \\Sigma x \\\\\n",
    "    \\text{s.t.} \\ \\ \\ & \\ e'x = 1 \\\\\n",
    "                      & \\ x \\ge 0\n",
    "\\end{align}\n",
    "$$"
   ]
  },
  {
   "cell_type": "markdown",
   "metadata": {
    "deletable": true,
    "editable": true,
    "slideshow": {
     "slide_type": "fragment"
    }
   },
   "source": [
    "But wait! This is a _maximization_ problem! The last model used $\\text{min}$.\n",
    "\n",
    "$$\n",
    "\\begin{align}\n",
    "    \\text{min}  \\ \\ \\ & \\ \\alpha x \\Sigma x - \\mu'x \\\\\n",
    "    \\text{s.t.} \\ \\ \\ & \\ e'x = 1 \\\\\n",
    "                      & \\ x \\ge 0\n",
    "\\end{align}\n",
    "$$"
   ]
  },
  {
   "cell_type": "markdown",
   "metadata": {
    "deletable": true,
    "editable": true,
    "slideshow": {
     "slide_type": "subslide"
    }
   },
   "source": [
    "The only differences between this model and the least squares model are the constraints we've added.\n",
    "\n",
    "This one forces the model to allocate all of my budget into investments:\n",
    "\n",
    "$$e'x = 1$$\n",
    "\n",
    "This one disallows the model from making negative investments:\n",
    "\n",
    "$$x \\ge 0$$"
   ]
  },
  {
   "cell_type": "code",
   "execution_count": 9,
   "metadata": {
    "collapsed": false,
    "deletable": true,
    "editable": true,
    "slideshow": {
     "slide_type": "subslide"
    }
   },
   "outputs": [
    {
     "data": {
      "text/html": [
       "<div>\n",
       "<table border=\"1\" class=\"dataframe\">\n",
       "  <thead>\n",
       "    <tr style=\"text-align: right;\">\n",
       "      <th></th>\n",
       "      <th>Unnamed: 0</th>\n",
       "      <th>mean</th>\n",
       "      <th>variance</th>\n",
       "    </tr>\n",
       "  </thead>\n",
       "  <tbody>\n",
       "    <tr>\n",
       "      <th>0</th>\n",
       "      <td>RXI$US_N.M.AL</td>\n",
       "      <td>0.152151</td>\n",
       "      <td>10.996718</td>\n",
       "    </tr>\n",
       "    <tr>\n",
       "      <th>1</th>\n",
       "      <td>RXI$US_N.M.EU</td>\n",
       "      <td>0.002683</td>\n",
       "      <td>5.928188</td>\n",
       "    </tr>\n",
       "    <tr>\n",
       "      <th>2</th>\n",
       "      <td>RXI$US_N.M.NZ</td>\n",
       "      <td>0.220217</td>\n",
       "      <td>9.690793</td>\n",
       "    </tr>\n",
       "    <tr>\n",
       "      <th>3</th>\n",
       "      <td>RXI$US_N.M.UK</td>\n",
       "      <td>-0.159779</td>\n",
       "      <td>5.098969</td>\n",
       "    </tr>\n",
       "    <tr>\n",
       "      <th>4</th>\n",
       "      <td>RXI_N.M.BZ</td>\n",
       "      <td>-0.128507</td>\n",
       "      <td>12.743632</td>\n",
       "    </tr>\n",
       "  </tbody>\n",
       "</table>\n",
       "</div>"
      ],
      "text/plain": [
       "      Unnamed: 0      mean   variance\n",
       "0  RXI$US_N.M.AL  0.152151  10.996718\n",
       "1  RXI$US_N.M.EU  0.002683   5.928188\n",
       "2  RXI$US_N.M.NZ  0.220217   9.690793\n",
       "3  RXI$US_N.M.UK -0.159779   5.098969\n",
       "4     RXI_N.M.BZ -0.128507  12.743632"
      ]
     },
     "execution_count": 9,
     "metadata": {},
     "output_type": "execute_result"
    }
   ],
   "source": [
    "# Read in the returns and covariance data.\n",
    "import pandas as pd\n",
    "exp_returns = pd.read_csv('portfolio-optimization/currency-returns.csv')\n",
    "exp_returns.head()"
   ]
  },
  {
   "cell_type": "code",
   "execution_count": 10,
   "metadata": {
    "collapsed": false,
    "deletable": true,
    "editable": true,
    "slideshow": {
     "slide_type": "subslide"
    }
   },
   "outputs": [
    {
     "data": {
      "text/html": [
       "<div>\n",
       "<table border=\"1\" class=\"dataframe\">\n",
       "  <thead>\n",
       "    <tr style=\"text-align: right;\">\n",
       "      <th></th>\n",
       "      <th>0</th>\n",
       "      <th>1</th>\n",
       "      <th>2</th>\n",
       "      <th>3</th>\n",
       "      <th>4</th>\n",
       "      <th>5</th>\n",
       "      <th>6</th>\n",
       "      <th>7</th>\n",
       "      <th>8</th>\n",
       "      <th>9</th>\n",
       "      <th>...</th>\n",
       "      <th>13</th>\n",
       "      <th>14</th>\n",
       "      <th>15</th>\n",
       "      <th>16</th>\n",
       "      <th>17</th>\n",
       "      <th>18</th>\n",
       "      <th>19</th>\n",
       "      <th>20</th>\n",
       "      <th>21</th>\n",
       "      <th>22</th>\n",
       "    </tr>\n",
       "  </thead>\n",
       "  <tbody>\n",
       "    <tr>\n",
       "      <th>0</th>\n",
       "      <td>10.996718</td>\n",
       "      <td>5.181782</td>\n",
       "      <td>8.654762</td>\n",
       "      <td>4.457704</td>\n",
       "      <td>9.789818</td>\n",
       "      <td>5.421746</td>\n",
       "      <td>0.194428</td>\n",
       "      <td>5.166875</td>\n",
       "      <td>0.028496</td>\n",
       "      <td>4.379632</td>\n",
       "      <td>...</td>\n",
       "      <td>6.494732</td>\n",
       "      <td>7.078498</td>\n",
       "      <td>7.083824</td>\n",
       "      <td>8.574515</td>\n",
       "      <td>3.287411</td>\n",
       "      <td>0.343673</td>\n",
       "      <td>4.163674</td>\n",
       "      <td>2.450772</td>\n",
       "      <td>2.381722</td>\n",
       "      <td>0.542450</td>\n",
       "    </tr>\n",
       "    <tr>\n",
       "      <th>1</th>\n",
       "      <td>5.181782</td>\n",
       "      <td>5.928188</td>\n",
       "      <td>4.487890</td>\n",
       "      <td>3.659548</td>\n",
       "      <td>4.686754</td>\n",
       "      <td>2.467804</td>\n",
       "      <td>0.313081</td>\n",
       "      <td>5.867674</td>\n",
       "      <td>0.038117</td>\n",
       "      <td>2.545200</td>\n",
       "      <td>...</td>\n",
       "      <td>2.894461</td>\n",
       "      <td>5.350733</td>\n",
       "      <td>5.515164</td>\n",
       "      <td>4.314480</td>\n",
       "      <td>2.265781</td>\n",
       "      <td>0.418269</td>\n",
       "      <td>5.173168</td>\n",
       "      <td>1.559857</td>\n",
       "      <td>1.351946</td>\n",
       "      <td>1.776855</td>\n",
       "    </tr>\n",
       "    <tr>\n",
       "      <th>2</th>\n",
       "      <td>8.654762</td>\n",
       "      <td>4.487890</td>\n",
       "      <td>9.690793</td>\n",
       "      <td>4.330531</td>\n",
       "      <td>8.130412</td>\n",
       "      <td>4.268307</td>\n",
       "      <td>0.129303</td>\n",
       "      <td>4.466514</td>\n",
       "      <td>0.017975</td>\n",
       "      <td>3.919170</td>\n",
       "      <td>...</td>\n",
       "      <td>5.536301</td>\n",
       "      <td>5.602586</td>\n",
       "      <td>6.054567</td>\n",
       "      <td>6.733828</td>\n",
       "      <td>2.811946</td>\n",
       "      <td>0.451742</td>\n",
       "      <td>3.903260</td>\n",
       "      <td>2.135899</td>\n",
       "      <td>2.569281</td>\n",
       "      <td>0.379954</td>\n",
       "    </tr>\n",
       "    <tr>\n",
       "      <th>3</th>\n",
       "      <td>4.457704</td>\n",
       "      <td>3.659548</td>\n",
       "      <td>4.330531</td>\n",
       "      <td>5.098969</td>\n",
       "      <td>4.301933</td>\n",
       "      <td>2.573100</td>\n",
       "      <td>0.137068</td>\n",
       "      <td>3.632088</td>\n",
       "      <td>0.012420</td>\n",
       "      <td>1.821456</td>\n",
       "      <td>...</td>\n",
       "      <td>2.775715</td>\n",
       "      <td>4.081803</td>\n",
       "      <td>4.233658</td>\n",
       "      <td>3.749874</td>\n",
       "      <td>1.780620</td>\n",
       "      <td>0.326828</td>\n",
       "      <td>3.335175</td>\n",
       "      <td>1.356927</td>\n",
       "      <td>1.014109</td>\n",
       "      <td>1.584577</td>\n",
       "    </tr>\n",
       "    <tr>\n",
       "      <th>4</th>\n",
       "      <td>9.789818</td>\n",
       "      <td>4.686754</td>\n",
       "      <td>8.130412</td>\n",
       "      <td>4.301933</td>\n",
       "      <td>12.743632</td>\n",
       "      <td>5.433992</td>\n",
       "      <td>0.279201</td>\n",
       "      <td>4.689891</td>\n",
       "      <td>-0.034405</td>\n",
       "      <td>5.567318</td>\n",
       "      <td>...</td>\n",
       "      <td>7.177333</td>\n",
       "      <td>7.288341</td>\n",
       "      <td>6.774689</td>\n",
       "      <td>8.761299</td>\n",
       "      <td>2.999360</td>\n",
       "      <td>0.843294</td>\n",
       "      <td>4.269524</td>\n",
       "      <td>2.163251</td>\n",
       "      <td>2.439204</td>\n",
       "      <td>0.496304</td>\n",
       "    </tr>\n",
       "  </tbody>\n",
       "</table>\n",
       "<p>5 rows × 23 columns</p>\n",
       "</div>"
      ],
      "text/plain": [
       "          0         1         2         3          4         5         6   \\\n",
       "0  10.996718  5.181782  8.654762  4.457704   9.789818  5.421746  0.194428   \n",
       "1   5.181782  5.928188  4.487890  3.659548   4.686754  2.467804  0.313081   \n",
       "2   8.654762  4.487890  9.690793  4.330531   8.130412  4.268307  0.129303   \n",
       "3   4.457704  3.659548  4.330531  5.098969   4.301933  2.573100  0.137068   \n",
       "4   9.789818  4.686754  8.130412  4.301933  12.743632  5.433992  0.279201   \n",
       "\n",
       "         7         8         9     ...           13        14        15  \\\n",
       "0  5.166875  0.028496  4.379632    ...     6.494732  7.078498  7.083824   \n",
       "1  5.867674  0.038117  2.545200    ...     2.894461  5.350733  5.515164   \n",
       "2  4.466514  0.017975  3.919170    ...     5.536301  5.602586  6.054567   \n",
       "3  3.632088  0.012420  1.821456    ...     2.775715  4.081803  4.233658   \n",
       "4  4.689891 -0.034405  5.567318    ...     7.177333  7.288341  6.774689   \n",
       "\n",
       "         16        17        18        19        20        21        22  \n",
       "0  8.574515  3.287411  0.343673  4.163674  2.450772  2.381722  0.542450  \n",
       "1  4.314480  2.265781  0.418269  5.173168  1.559857  1.351946  1.776855  \n",
       "2  6.733828  2.811946  0.451742  3.903260  2.135899  2.569281  0.379954  \n",
       "3  3.749874  1.780620  0.326828  3.335175  1.356927  1.014109  1.584577  \n",
       "4  8.761299  2.999360  0.843294  4.269524  2.163251  2.439204  0.496304  \n",
       "\n",
       "[5 rows x 23 columns]"
      ]
     },
     "execution_count": 10,
     "metadata": {},
     "output_type": "execute_result"
    }
   ],
   "source": [
    "returns_cov = pd.read_csv('portfolio-optimization/currency-covariance.csv', header=None)\n",
    "returns_cov.head()"
   ]
  },
  {
   "cell_type": "code",
   "execution_count": 11,
   "metadata": {
    "collapsed": false,
    "deletable": true,
    "editable": true,
    "slideshow": {
     "slide_type": "subslide"
    }
   },
   "outputs": [],
   "source": [
    "# A model that will return an optimal portfolio for any risk aversion.\n",
    "def portfolio(alpha):\n",
    "    P = cvx.matrix(alpha * returns_cov.as_matrix())\n",
    "    q = cvx.matrix(-exp_returns['mean'].as_matrix())\n",
    "    G = cvx.matrix(0.0, (len(q),len(q)))\n",
    "    G[::len(q)+1] = -1.0\n",
    "    h = cvx.matrix(0.0, (len(q),1))\n",
    "    A = cvx.matrix(1.0, (1,len(q)))\n",
    "    b = cvx.matrix(1.0)\n",
    "\n",
    "    solution = cvx.solvers.qp(P, q, G, h, A, b)\n",
    "    return exp_returns['mean'].dot(solution['x'])[0]"
   ]
  },
  {
   "cell_type": "code",
   "execution_count": 12,
   "metadata": {
    "collapsed": false,
    "deletable": true,
    "editable": true,
    "slideshow": {
     "slide_type": "subslide"
    }
   },
   "outputs": [
    {
     "name": "stdout",
     "output_type": "stream",
     "text": [
      "     pcost       dcost       gap    pres   dres\n",
      " 0: -1.4109e+00 -1.2870e+00  6e+01  9e+00  5e+00\n",
      " 1: -1.8207e-02 -1.2285e+00  1e+00  5e-15  8e-16\n",
      " 2: -6.2411e-02 -2.9637e-01  2e-01  7e-16  7e-16\n",
      " 3: -1.4238e-01 -3.5309e-01  2e-01  8e-16  5e-16\n",
      " 4: -2.8201e-01 -2.9496e-01  1e-02  4e-16  5e-16\n",
      " 5: -2.8688e-01 -2.8703e-01  2e-04  1e-16  3e-16\n",
      " 6: -2.8695e-01 -2.8695e-01  2e-06  3e-16  2e-16\n",
      " 7: -2.8695e-01 -2.8695e-01  2e-08  1e-16  5e-16\n",
      "Optimal solution found.\n",
      "     pcost       dcost       gap    pres   dres\n",
      " 0: -2.6295e-01 -1.3019e+00  4e+01  5e+00  6e+00\n",
      " 1: -3.1048e-02 -1.0159e+00  2e+00  2e-01  2e-01\n",
      " 2:  3.3465e-02 -3.1889e-01  5e-01  3e-02  3e-02\n",
      " 3: -1.3476e-01 -2.5385e-01  1e-01  3e-16  7e-16\n",
      " 4: -1.9154e-01 -2.0318e-01  1e-02  1e-16  7e-16\n",
      " 5: -2.0001e-01 -2.0086e-01  9e-04  5e-17  3e-16\n",
      " 6: -2.0070e-01 -2.0074e-01  4e-05  6e-17  6e-16\n",
      " 7: -2.0073e-01 -2.0073e-01  1e-06  2e-16  1e-15\n",
      " 8: -2.0073e-01 -2.0073e-01  1e-08  3e-16  5e-16\n",
      "Optimal solution found.\n",
      "     pcost       dcost       gap    pres   dres\n",
      " 0: -1.7310e-01 -1.2428e+00  4e+01  5e+00  6e+00\n",
      " 1: -4.7542e-03 -9.2263e-01  2e+00  2e-01  2e-01\n",
      " 2:  3.8252e-02 -2.6797e-01  4e-01  3e-02  3e-02\n",
      " 3: -9.4620e-02 -1.8481e-01  9e-02  1e-16  1e-15\n",
      " 4: -1.4057e-01 -1.5061e-01  1e-02  3e-16  5e-16\n",
      " 5: -1.4747e-01 -1.4833e-01  9e-04  1e-16  6e-16\n",
      " 6: -1.4822e-01 -1.4825e-01  3e-05  1e-16  5e-16\n",
      " 7: -1.4825e-01 -1.4825e-01  1e-06  2e-16  4e-16\n",
      " 8: -1.4825e-01 -1.4825e-01  2e-08  2e-16  5e-16\n",
      "Optimal solution found.\n",
      "     pcost       dcost       gap    pres   dres\n",
      " 0: -1.3049e-01 -1.1978e+00  4e+01  5e+00  6e+00\n",
      " 1:  1.0823e-02 -8.5585e-01  2e+00  2e-01  2e-01\n",
      " 2:  4.1508e-02 -2.1689e-01  4e-01  3e-02  3e-02\n",
      " 3: -6.4792e-02 -1.2939e-01  6e-02  3e-16  9e-16\n",
      " 4: -9.7828e-02 -1.0446e-01  7e-03  3e-16  1e-15\n",
      " 5: -1.0228e-01 -1.0300e-01  7e-04  2e-16  6e-16\n",
      " 6: -1.0293e-01 -1.0295e-01  2e-05  1e-16  5e-16\n",
      " 7: -1.0295e-01 -1.0295e-01  3e-07  2e-16  4e-16\n",
      " 8: -1.0295e-01 -1.0295e-01  3e-09  2e-16  5e-16\n",
      "Optimal solution found.\n",
      "     pcost       dcost       gap    pres   dres\n",
      " 0: -1.0337e-01 -1.1595e+00  3e+01  5e+00  6e+00\n",
      " 1:  2.2165e-02 -8.0202e-01  2e+00  2e-01  2e-01\n",
      " 2:  4.3501e-02 -1.6970e-01  3e-01  2e-02  2e-02\n",
      " 3: -4.8964e-02 -9.2477e-02  4e-02  2e-16  9e-16\n",
      " 4: -7.3350e-02 -7.7843e-02  4e-03  1e-16  5e-16\n",
      " 5: -7.6465e-02 -7.6904e-02  4e-04  1e-16  4e-16\n",
      " 6: -7.6868e-02 -7.6878e-02  1e-05  3e-16  6e-16\n",
      " 7: -7.6877e-02 -7.6878e-02  1e-07  2e-16  4e-16\n",
      "Optimal solution found.\n",
      "     pcost       dcost       gap    pres   dres\n",
      " 0: -8.3552e-02 -1.1256e+00  3e+01  5e+00  6e+00\n",
      " 1:  3.1025e-02 -7.5646e-01  2e+00  2e-01  2e-01\n",
      " 2:  4.4428e-02 -1.3898e-01  3e-01  2e-02  2e-02\n",
      " 3: -3.7424e-02 -7.1497e-02  3e-02  8e-17  9e-16\n",
      " 4: -5.7093e-02 -6.0638e-02  4e-03  1e-16  7e-16\n",
      " 5: -5.9609e-02 -5.9920e-02  3e-04  4e-16  4e-16\n",
      " 6: -5.9898e-02 -5.9904e-02  5e-06  2e-16  1e-15\n",
      " 7: -5.9904e-02 -5.9904e-02  5e-08  2e-16  6e-16\n",
      "Optimal solution found.\n",
      "     pcost       dcost       gap    pres   dres\n",
      " 0: -6.7880e-02 -1.0982e+00  3e+01  5e+00  6e+00\n",
      " 1:  3.8514e-02 -7.1915e-01  2e+00  2e-01  2e-01\n",
      " 2:  4.4486e-02 -1.3048e-01  3e-01  2e-02  2e-02\n",
      " 3: -2.3873e-02 -6.0193e-02  4e-02  4e-04  5e-04\n",
      " 4: -4.4365e-02 -4.8338e-02  4e-03  1e-16  7e-16\n",
      " 5: -4.7131e-02 -4.7498e-02  4e-04  1e-16  5e-16\n",
      " 6: -4.7472e-02 -4.7478e-02  6e-06  3e-16  4e-16\n",
      " 7: -4.7478e-02 -4.7478e-02  6e-08  3e-16  4e-16\n",
      "Optimal solution found.\n",
      "     pcost       dcost       gap    pres   dres\n",
      " 0: -5.4871e-02 -1.0978e+00  3e+01  5e+00  6e+00\n",
      " 1:  4.6908e-02 -7.0310e-01  2e+00  2e-01  2e-01\n",
      " 2:  4.7530e-02 -1.2405e-01  3e-01  2e-02  2e-02\n",
      " 3: -1.4964e-02 -5.0020e-02  4e-02  2e-04  3e-04\n",
      " 4: -3.4679e-02 -3.8443e-02  4e-03  1e-16  7e-16\n",
      " 5: -3.7331e-02 -3.7669e-02  3e-04  2e-16  5e-16\n",
      " 6: -3.7646e-02 -3.7652e-02  5e-06  1e-16  4e-16\n",
      " 7: -3.7651e-02 -3.7651e-02  5e-08  6e-17  4e-16\n",
      "Optimal solution found.\n",
      "     pcost       dcost       gap    pres   dres\n",
      " 0: -4.3716e-02 -1.0974e+00  3e+01  5e+00  6e+00\n",
      " 1:  5.4196e-02 -6.8865e-01  2e+00  2e-01  2e-01\n",
      " 2:  5.0246e-02 -1.1735e-01  3e-01  2e-02  2e-02\n",
      " 3: -7.9683e-03 -4.1274e-02  3e-02  1e-17  1e-15\n",
      " 4: -2.6682e-02 -3.0144e-02  3e-03  1e-16  7e-16\n",
      " 5: -2.9169e-02 -2.9464e-02  3e-04  1e-16  9e-16\n",
      " 6: -2.9445e-02 -2.9449e-02  4e-06  2e-16  5e-16\n",
      " 7: -2.9449e-02 -2.9449e-02  4e-08  2e-16  5e-16\n",
      "Optimal solution found.\n",
      "     pcost       dcost       gap    pres   dres\n",
      " 0: -3.3930e-02 -1.0969e+00  4e+01  5e+00  6e+00\n",
      " 1:  6.0601e-02 -6.7563e-01  2e+00  2e-01  2e-01\n",
      " 2:  5.2718e-02 -1.1058e-01  3e-01  2e-02  2e-02\n",
      " 3: -1.7058e-03 -3.4171e-02  3e-02  1e-16  1e-15\n",
      " 4: -1.9669e-02 -2.2968e-02  3e-03  2e-16  1e-15\n",
      " 5: -2.2073e-02 -2.2343e-02  3e-04  1e-16  5e-16\n",
      " 6: -2.2327e-02 -2.2330e-02  4e-06  1e-16  4e-16\n",
      " 7: -2.2330e-02 -2.2330e-02  4e-08  1e-16  6e-16\n",
      "Optimal solution found.\n",
      "     pcost       dcost       gap    pres   dres\n",
      " 0: -2.5201e-02 -1.0963e+00  4e+01  5e+00  6e+00\n",
      " 1:  6.6299e-02 -6.6378e-01  2e+00  2e-01  2e-01\n",
      " 2:  5.5021e-02 -1.0386e-01  3e-01  2e-02  2e-02\n",
      " 3:  3.7272e-03 -2.7715e-02  3e-02  1e-16  1e-15\n",
      " 4: -1.3351e-02 -1.6585e-02  3e-03  1e-16  8e-16\n",
      " 5: -1.5724e-02 -1.5981e-02  3e-04  2e-16  7e-16\n",
      " 6: -1.5966e-02 -1.5969e-02  4e-06  3e-16  5e-16\n",
      " 7: -1.5969e-02 -1.5969e-02  4e-08  2e-16  4e-16\n",
      "Optimal solution found.\n",
      "     pcost       dcost       gap    pres   dres\n",
      " 0: -1.7311e-02 -1.0955e+00  4e+01  5e+00  6e+00\n",
      " 1:  7.1360e-02 -6.5307e-01  2e+00  1e-01  2e-01\n",
      " 2:  5.7368e-02 -9.7504e-02  3e-01  2e-02  2e-02\n",
      " 3:  8.8197e-03 -2.1891e-02  3e-02  2e-16  1e-15\n",
      " 4: -7.5622e-03 -1.0767e-02  3e-03  2e-16  8e-16\n",
      " 5: -9.9228e-03 -1.0171e-02  2e-04  3e-16  1e-15\n",
      " 6: -1.0156e-02 -1.0160e-02  4e-06  2e-16  1e-15\n",
      " 7: -1.0159e-02 -1.0159e-02  4e-08  2e-16  6e-16\n",
      "Optimal solution found.\n",
      "     pcost       dcost       gap    pres   dres\n",
      " 0: -1.0105e-02 -1.0946e+00  4e+01  5e+00  6e+00\n",
      " 1:  7.5884e-02 -6.4354e-01  2e+00  1e-01  2e-01\n",
      " 2:  5.9679e-02 -9.1465e-02  3e-01  2e-02  2e-02\n",
      " 3:  1.3652e-02 -1.6538e-02  3e-02  4e-16  9e-16\n",
      " 4: -2.1949e-03 -5.3577e-03  3e-03  1e-16  9e-16\n",
      " 5: -4.5359e-03 -4.7750e-03  2e-04  6e-17  7e-16\n",
      " 6: -4.7597e-03 -4.7633e-03  4e-06  1e-16  7e-16\n",
      " 7: -4.7632e-03 -4.7632e-03  4e-08  1e-16  1e-15\n",
      "Optimal solution found.\n",
      "     pcost       dcost       gap    pres   dres\n",
      " 0: -3.4681e-03 -1.0935e+00  4e+01  5e+00  6e+00\n",
      " 1:  8.0049e-02 -6.3465e-01  2e+00  1e-01  2e-01\n",
      " 2:  6.1857e-02 -8.5535e-02  3e-01  2e-02  2e-02\n",
      " 3:  1.8143e-02 -1.1436e-02  3e-02  3e-16  1e-15\n",
      " 4:  2.8321e-03 -2.5884e-04  3e-03  3e-16  7e-16\n",
      " 5:  5.3004e-04  3.0346e-04  2e-04  2e-16  6e-16\n",
      " 6:  3.1844e-04  3.1486e-04  4e-06  1e-16  9e-16\n",
      " 7:  3.1496e-04  3.1492e-04  4e-08  5e-17  4e-16\n",
      "Optimal solution found.\n",
      "     pcost       dcost       gap    pres   dres\n",
      " 0:  2.6898e-03 -1.0922e+00  4e+01  5e+00  6e+00\n",
      " 1:  8.3930e-02 -6.2618e-01  2e+00  1e-01  2e-01\n",
      " 2:  6.3951e-02 -7.9724e-02  2e-01  2e-02  2e-02\n",
      " 3:  2.2378e-02 -6.5347e-03  3e-02  2e-16  1e-15\n",
      " 4:  7.5962e-03  4.5940e-03  3e-03  2e-16  7e-16\n",
      " 5:  5.3448e-03  5.1321e-03  2e-04  3e-16  9e-16\n",
      " 6:  5.1467e-03  5.1431e-03  4e-06  3e-16  6e-16\n",
      " 7:  5.1432e-03  5.1432e-03  4e-08  2e-16  7e-16\n",
      "Optimal solution found.\n",
      "     pcost       dcost       gap    pres   dres\n",
      " 0:  8.4393e-03 -1.0909e+00  4e+01  5e+00  6e+00\n",
      " 1:  8.7571e-02 -6.1808e-01  2e+00  1e-01  2e-01\n",
      " 2:  6.5997e-02 -7.4045e-02  2e-01  2e-02  2e-02\n",
      " 3:  2.6417e-02 -1.7979e-03  3e-02  7e-17  1e-15\n",
      " 4:  1.2153e-02  9.2485e-03  3e-03  5e-17  1e-15\n",
      " 5:  9.9593e-03  9.7607e-03  2e-04  2e-16  8e-16\n",
      " 6:  9.7750e-03  9.7715e-03  4e-06  1e-16  9e-16\n",
      " 7:  9.7715e-03  9.7715e-03  4e-08  8e-17  7e-16\n",
      "Optimal solution found.\n",
      "     pcost       dcost       gap    pres   dres\n",
      " 0:  1.3837e-02 -1.0893e+00  4e+01  5e+00  6e+00\n",
      " 1:  9.1007e-02 -6.1030e-01  2e+00  1e-01  2e-01\n",
      " 2:  6.8019e-02 -6.8500e-02  2e-01  2e-02  2e-02\n",
      " 3:  3.0306e-02  2.8000e-03  3e-02  1e-16  1e-15\n",
      " 4:  1.6544e-02  1.3741e-02  3e-03  1e-16  8e-16\n",
      " 5:  1.4412e-02  1.4227e-02  2e-04  3e-16  7e-16\n",
      " 6:  1.4241e-02  1.4237e-02  4e-06  2e-16  8e-16\n",
      " 7:  1.4237e-02  1.4237e-02  4e-08  2e-16  5e-16\n",
      "Optimal solution found.\n",
      "     pcost       dcost       gap    pres   dres\n",
      " 0:  1.8930e-02 -1.0877e+00  4e+01  5e+00  6e+00\n",
      " 1:  9.4269e-02 -6.0282e-01  2e+00  1e-01  2e-01\n",
      " 2:  7.0033e-02 -6.3089e-02  2e-01  1e-02  2e-02\n",
      " 3:  3.4079e-02  7.2789e-03  3e-02  1e-16  6e-16\n",
      " 4:  2.0799e-02  1.8098e-02  3e-03  2e-16  9e-16\n",
      " 5:  1.8731e-02  1.8559e-02  2e-04  6e-17  1e-15\n",
      " 6:  1.8573e-02  1.8569e-02  4e-06  2e-16  6e-16\n",
      " 7:  1.8570e-02  1.8570e-02  4e-08  2e-16  6e-16\n",
      "Optimal solution found.\n",
      "     pcost       dcost       gap    pres   dres\n",
      " 0:  2.3755e-02 -1.0860e+00  4e+01  5e+00  6e+00\n",
      " 1:  9.7380e-02 -5.9561e-01  2e+00  1e-01  2e-01\n",
      " 2:  7.2051e-02 -5.7806e-02  2e-01  1e-02  2e-02\n",
      " 3:  3.7759e-02  1.1655e-02  3e-02  3e-16  1e-15\n",
      " 4:  2.4943e-02  2.2343e-02  3e-03  1e-16  1e-15\n",
      " 5:  2.2939e-02  2.2780e-02  2e-04  8e-17  7e-16\n",
      " 6:  2.2794e-02  2.2790e-02  4e-06  7e-17  5e-16\n",
      " 7:  2.2790e-02  2.2790e-02  4e-08  2e-16  1e-15\n",
      "Optimal solution found.\n",
      "     pcost       dcost       gap    pres   dres\n",
      " 0:  2.8347e-02 -1.0842e+00  4e+01  5e+00  6e+00\n",
      " 1:  1.0036e-01 -5.8864e-01  2e+00  1e-01  2e-01\n",
      " 2:  7.4080e-02 -5.2647e-02  2e-01  1e-02  2e-02\n",
      " 3:  4.1366e-02  1.5941e-02  3e-02  3e-16  2e-15\n",
      " 4:  2.8994e-02  2.6492e-02  3e-03  2e-16  8e-16\n",
      " 5:  2.7055e-02  2.6906e-02  1e-04  2e-16  1e-15\n",
      " 6:  2.6921e-02  2.6917e-02  4e-06  1e-16  5e-16\n",
      " 7:  2.6917e-02  2.6917e-02  4e-08  2e-16  6e-16\n",
      "Optimal solution found.\n",
      "     pcost       dcost       gap    pres   dres\n",
      " 0:  3.2731e-02 -1.0823e+00  4e+01  5e+00  6e+00\n",
      " 1:  1.0323e-01 -5.8189e-01  2e+00  1e-01  2e-01\n",
      " 2:  7.6124e-02 -4.7604e-02  2e-01  1e-02  2e-02\n",
      " 3:  4.4914e-02  2.0148e-02  2e-02  1e-16  2e-15\n",
      " 4:  3.2967e-02  3.0559e-02  2e-03  1e-16  1e-15\n",
      " 5:  3.1091e-02  3.0953e-02  1e-04  8e-17  1e-15\n",
      " 6:  3.0968e-02  3.0964e-02  4e-06  1e-16  6e-16\n",
      " 7:  3.0964e-02  3.0964e-02  5e-08  3e-16  6e-16\n",
      "Optimal solution found.\n",
      "     pcost       dcost       gap    pres   dres\n",
      " 0:  3.6932e-02 -1.0803e+00  4e+01  5e+00  6e+00\n",
      " 1:  1.0601e-01 -5.7535e-01  2e+00  1e-01  2e-01\n",
      " 2:  7.8188e-02 -4.2671e-02  2e-01  1e-02  2e-02\n",
      " 3:  4.8414e-02  2.4285e-02  2e-02  1e-16  1e-15\n",
      " 4:  3.6873e-02  3.4556e-02  2e-03  1e-16  1e-15\n",
      " 5:  3.5060e-02  3.4931e-02  1e-04  1e-16  9e-16\n",
      " 6:  3.4947e-02  3.4942e-02  5e-06  1e-16  7e-16\n",
      " 7:  3.4942e-02  3.4942e-02  7e-08  3e-16  2e-15\n",
      "Optimal solution found.\n",
      "     pcost       dcost       gap    pres   dres\n",
      " 0:  4.0970e-02 -1.0782e+00  4e+01  5e+00  6e+00\n",
      " 1:  1.0870e-01 -5.6899e-01  2e+00  1e-01  2e-01\n",
      " 2:  8.0272e-02 -3.7840e-02  2e-01  1e-02  2e-02\n",
      " 3:  5.1876e-02  2.8359e-02  2e-02  5e-17  2e-15\n",
      " 4:  4.0722e-02  3.8492e-02  2e-03  3e-16  1e-15\n",
      " 5:  3.8970e-02  3.8850e-02  1e-04  1e-16  7e-16\n",
      " 6:  3.8866e-02  3.8862e-02  5e-06  6e-17  1e-15\n",
      " 7:  3.8862e-02  3.8862e-02  1e-07  2e-16  7e-16\n",
      " 8:  3.8862e-02  3.8862e-02  1e-09  1e-16  6e-16\n",
      "Optimal solution found.\n",
      "     pcost       dcost       gap    pres   dres\n",
      " 0:  4.4862e-02 -1.0761e+00  4e+01  5e+00  6e+00\n",
      " 1:  1.1131e-01 -5.6281e-01  2e+00  1e-01  2e-01\n",
      " 2:  8.2437e-02 -3.3137e-02  2e-01  1e-02  2e-02\n",
      " 3:  5.5312e-02  3.2376e-02  2e-02  6e-17  1e-15\n",
      " 4:  4.4523e-02  4.2375e-02  2e-03  6e-17  9e-16\n",
      " 5:  4.2829e-02  4.2718e-02  1e-04  1e-16  1e-15\n",
      " 6:  4.2735e-02  4.2730e-02  5e-06  1e-16  1e-15\n",
      " 7:  4.2730e-02  4.2730e-02  2e-07  1e-16  6e-16\n",
      " 8:  4.2730e-02  4.2730e-02  2e-09  1e-16  1e-15\n",
      "Optimal solution found.\n",
      "     pcost       dcost       gap    pres   dres\n",
      " 0:  4.8622e-02 -1.0739e+00  4e+01  5e+00  6e+00\n",
      " 1:  1.1386e-01 -5.5678e-01  2e+00  1e-01  2e-01\n",
      " 2:  8.4714e-02 -2.8572e-02  2e-01  1e-02  2e-02\n",
      " 3:  5.8731e-02  3.6341e-02  2e-02  1e-16  2e-15\n",
      " 4:  4.8283e-02  4.6211e-02  2e-03  1e-16  1e-15\n",
      " 5:  4.6644e-02  4.6540e-02  1e-04  1e-16  1e-15\n",
      " 6:  4.6558e-02  4.6553e-02  5e-06  1e-16  1e-15\n",
      " 7:  4.6553e-02  4.6553e-02  3e-07  2e-16  1e-15\n",
      " 8:  4.6553e-02  4.6553e-02  3e-09  2e-16  8e-16\n",
      "Optimal solution found.\n",
      "     pcost       dcost       gap    pres   dres\n",
      " 0:  5.2265e-02 -1.0717e+00  4e+01  5e+00  6e+00\n",
      " 1:  1.1636e-01 -5.5091e-01  2e+00  1e-01  2e-01\n",
      " 2:  8.7006e-02 -2.4082e-02  2e-01  1e-02  2e-02\n",
      " 3:  6.2126e-02  4.0262e-02  2e-02  4e-16  2e-15\n",
      " 4:  5.2005e-02  5.0005e-02  2e-03  3e-16  2e-15\n",
      " 5:  5.0419e-02  5.0323e-02  1e-04  1e-16  1e-15\n",
      " 6:  5.0341e-02  5.0336e-02  5e-06  1e-16  9e-16\n",
      " 7:  5.0337e-02  5.0337e-02  4e-07  2e-16  8e-16\n",
      " 8:  5.0337e-02  5.0337e-02  1e-08  1e-16  1e-15\n",
      "Optimal solution found.\n",
      "     pcost       dcost       gap    pres   dres\n",
      " 0:  5.5803e-02 -1.0694e+00  4e+01  5e+00  6e+00\n",
      " 1:  1.1880e-01 -5.4517e-01  2e+00  1e-01  2e-01\n",
      " 2:  8.9312e-02 -1.9664e-02  2e-01  1e-02  2e-02\n",
      " 3:  6.5569e-02  4.4089e-02  2e-02  2e-16  2e-15\n",
      " 4:  5.5705e-02  5.3761e-02  2e-03  3e-17  1e-15\n",
      " 5:  5.4160e-02  5.4070e-02  9e-05  1e-16  8e-16\n",
      " 6:  5.4089e-02  5.4084e-02  5e-06  2e-16  9e-16\n",
      " 7:  5.4086e-02  5.4085e-02  6e-07  2e-16  1e-15\n",
      " 8:  5.4085e-02  5.4085e-02  6e-08  1e-16  1e-15\n",
      "Optimal solution found.\n",
      "     pcost       dcost       gap    pres   dres\n",
      " 0:  5.9244e-02 -1.0671e+00  4e+01  5e+00  6e+00\n",
      " 1:  1.2120e-01 -5.3956e-01  2e+00  1e-01  2e-01\n",
      " 2:  9.1634e-02 -1.5312e-02  2e-01  1e-02  2e-02\n",
      " 3:  6.8996e-02  4.7879e-02  2e-02  3e-16  2e-15\n",
      " 4:  5.9375e-02  5.7484e-02  2e-03  1e-16  2e-15\n",
      " 5:  5.7872e-02  5.7786e-02  9e-05  1e-16  1e-15\n",
      " 6:  5.7806e-02  5.7801e-02  5e-06  2e-16  7e-16\n",
      " 7:  5.7803e-02  5.7803e-02  6e-07  1e-16  1e-15\n",
      " 8:  5.7803e-02  5.7803e-02  7e-08  2e-16  1e-15\n",
      "Optimal solution found.\n",
      "     pcost       dcost       gap    pres   dres\n",
      " 0:  6.2599e-02 -1.0647e+00  4e+01  5e+00  6e+00\n",
      " 1:  1.2357e-01 -5.3408e-01  2e+00  1e-01  2e-01\n",
      " 2:  9.3970e-02 -1.1021e-02  2e-01  1e-02  1e-02\n",
      " 3:  7.2411e-02  5.1637e-02  2e-02  5e-16  2e-15\n",
      " 4:  6.3019e-02  6.1178e-02  2e-03  8e-17  2e-15\n",
      " 5:  6.1557e-02  6.1473e-02  8e-05  2e-16  8e-16\n",
      " 6:  6.1494e-02  6.1489e-02  5e-06  2e-16  8e-16\n",
      " 7:  6.1492e-02  6.1492e-02  4e-07  7e-17  1e-15\n",
      " 8:  6.1492e-02  6.1492e-02  1e-08  6e-17  1e-15\n",
      "Optimal solution found.\n",
      "     pcost       dcost       gap    pres   dres\n",
      " 0:  6.5876e-02 -1.0623e+00  4e+01  5e+00  6e+00\n",
      " 1:  1.2589e-01 -5.2871e-01  2e+00  1e-01  2e-01\n",
      " 2:  9.6320e-02 -6.7889e-03  2e-01  1e-02  1e-02\n",
      " 3:  7.5815e-02  5.5365e-02  2e-02  2e-16  2e-15\n",
      " 4:  6.6652e-02  6.4833e-02  2e-03  1e-16  1e-15\n",
      " 5:  6.5218e-02  6.5136e-02  8e-05  1e-16  1e-15\n",
      " 6:  6.5157e-02  6.5153e-02  4e-06  1e-16  7e-16\n",
      " 7:  6.5155e-02  6.5155e-02  3e-07  3e-16  1e-15\n",
      " 8:  6.5155e-02  6.5155e-02  3e-09  1e-16  2e-15\n",
      "Optimal solution found.\n",
      "     pcost       dcost       gap    pres   dres\n",
      " 0:  6.9081e-02 -1.0599e+00  4e+01  5e+00  7e+00\n",
      " 1:  1.2820e-01 -5.2344e-01  2e+00  1e-01  2e-01\n",
      " 2:  9.8683e-02 -2.6104e-03  2e-01  1e-02  1e-02\n",
      " 3:  7.9211e-02  5.9065e-02  2e-02  2e-16  4e-15\n",
      " 4:  7.0265e-02  6.8463e-02  2e-03  1e-16  2e-15\n",
      " 5:  6.8856e-02  6.8775e-02  8e-05  1e-16  2e-15\n",
      " 6:  6.8797e-02  6.8793e-02  4e-06  2e-16  8e-16\n",
      " 7:  6.8796e-02  6.8796e-02  1e-07  3e-16  9e-16\n",
      " 8:  6.8796e-02  6.8796e-02  1e-09  3e-17  2e-15\n",
      "Optimal solution found.\n",
      "     pcost       dcost       gap    pres   dres\n",
      " 0:  7.2221e-02 -1.0574e+00  4e+01  5e+00  7e+00\n",
      " 1:  1.3047e-01 -5.1827e-01  2e+00  1e-01  2e-01\n",
      " 2:  1.0106e-01  1.5175e-03  2e-01  1e-02  1e-02\n",
      " 3:  8.2601e-02  6.2739e-02  2e-02  1e-16  4e-15\n",
      " 4:  7.3858e-02  7.2073e-02  2e-03  1e-16  2e-15\n",
      " 5:  7.2476e-02  7.2394e-02  8e-05  1e-16  1e-15\n",
      " 6:  7.2416e-02  7.2413e-02  3e-06  2e-16  1e-15\n",
      " 7:  7.2415e-02  7.2415e-02  8e-08  1e-16  9e-16\n",
      "Optimal solution found.\n",
      "     pcost       dcost       gap    pres   dres\n",
      " 0:  7.5302e-02 -1.0549e+00  4e+01  5e+00  7e+00\n",
      " 1:  1.3272e-01 -5.1320e-01  2e+00  1e-01  2e-01\n",
      " 2:  1.0342e-01  4.4485e-03  2e-01  1e-02  1e-02\n",
      " 3:  8.6093e-02  6.6277e-02  2e-02  3e-17  3e-15\n",
      " 4:  7.7451e-02  7.5661e-02  2e-03  2e-16  2e-15\n",
      " 5:  7.6078e-02  7.5995e-02  8e-05  1e-16  1e-15\n",
      " 6:  7.6017e-02  7.6014e-02  3e-06  1e-16  1e-15\n",
      " 7:  7.6016e-02  7.6016e-02  5e-08  1e-16  1e-15\n",
      "Optimal solution found.\n",
      "     pcost       dcost       gap    pres   dres\n",
      " 0:  7.8329e-02 -1.0524e+00  4e+01  5e+00  7e+00\n",
      " 1:  1.3495e-01 -5.0821e-01  2e+00  1e-01  2e-01\n",
      " 2:  1.0576e-01  6.5317e-03  2e-01  1e-02  1e-02\n",
      " 3:  8.9647e-02  6.9716e-02  2e-02  3e-16  9e-15\n",
      " 4:  8.1040e-02  7.9229e-02  2e-03  1e-16  2e-15\n",
      " 5:  7.9665e-02  7.9578e-02  9e-05  1e-16  1e-15\n",
      " 6:  7.9600e-02  7.9597e-02  3e-06  2e-16  1e-15\n",
      " 7:  7.9599e-02  7.9599e-02  3e-08  2e-16  9e-16\n",
      "Optimal solution found.\n",
      "     pcost       dcost       gap    pres   dres\n",
      " 0:  8.1307e-02 -1.0499e+00  4e+01  5e+00  7e+00\n",
      " 1:  1.3717e-01 -5.0331e-01  2e+00  1e-01  2e-01\n",
      " 2:  1.0811e-01  8.6551e-03  2e-01  1e-02  1e-02\n",
      " 3:  9.3182e-02  7.3146e-02  2e-02  1e-16  6e-15\n",
      " 4:  8.4612e-02  8.2783e-02  2e-03  2e-16  1e-15\n",
      " 5:  8.3235e-02  8.3145e-02  9e-05  1e-16  1e-15\n",
      " 6:  8.3168e-02  8.3165e-02  2e-06  2e-16  2e-15\n",
      " 7:  8.3167e-02  8.3167e-02  2e-08  1e-16  9e-16\n",
      "Optimal solution found.\n",
      "     pcost       dcost       gap    pres   dres\n",
      " 0:  8.4239e-02 -1.0473e+00  4e+01  5e+00  7e+00\n",
      " 1:  1.3937e-01 -4.9849e-01  2e+00  1e-01  2e-01\n",
      " 2:  1.1048e-01  1.0815e-02  2e-01  1e-02  1e-02\n",
      " 3:  9.6699e-02  7.6568e-02  2e-02  3e-16  5e-15\n",
      " 4:  8.8168e-02  8.6322e-02  2e-03  4e-17  1e-15\n",
      " 5:  8.6792e-02  8.6699e-02  9e-05  2e-16  1e-15\n",
      " 6:  8.6721e-02  8.6719e-02  2e-06  1e-16  1e-15\n",
      " 7:  8.6720e-02  8.6720e-02  2e-08  2e-16  9e-16\n",
      "Optimal solution found.\n",
      "     pcost       dcost       gap    pres   dres\n",
      " 0:  8.7131e-02 -1.0447e+00  4e+01  5e+00  7e+00\n",
      " 1:  1.4155e-01 -4.9374e-01  2e+00  1e-01  2e-01\n",
      " 2:  1.1285e-01  1.3010e-02  2e-01  1e-02  2e-02\n",
      " 3:  1.0020e-01  7.9982e-02  2e-02  5e-16  4e-15\n",
      " 4:  9.1709e-02  8.9848e-02  2e-03  1e-16  1e-15\n",
      " 5:  9.0335e-02  9.0239e-02  1e-04  5e-18  1e-15\n",
      " 6:  9.0261e-02  9.0260e-02  2e-06  3e-17  1e-15\n",
      " 7:  9.0260e-02  9.0260e-02  2e-08  4e-16  1e-15\n",
      "Optimal solution found.\n",
      "     pcost       dcost       gap    pres   dres\n",
      " 0:  8.9984e-02 -1.0421e+00  4e+01  5e+00  7e+00\n",
      " 1:  1.4373e-01 -4.8906e-01  2e+00  1e-01  2e-01\n",
      " 2:  1.1523e-01  1.5235e-02  2e-01  1e-02  2e-02\n",
      " 3:  1.0368e-01  8.3385e-02  2e-02  7e-07  9e-07\n",
      " 4:  9.5237e-02  9.3362e-02  2e-03  2e-08  3e-08\n",
      " 5:  9.3867e-02  9.3768e-02  1e-04  1e-10  1e-10\n",
      " 6:  9.3790e-02  9.3788e-02  2e-06  9e-13  1e-12\n",
      " 7:  9.3789e-02  9.3789e-02  2e-08  9e-15  1e-14\n",
      "Optimal solution found.\n",
      "     pcost       dcost       gap    pres   dres\n",
      " 0:  9.2802e-02 -1.0395e+00  4e+01  5e+00  7e+00\n",
      " 1:  1.4589e-01 -4.8445e-01  2e+00  1e-01  2e-01\n",
      " 2:  1.1762e-01  1.7488e-02  2e-01  1e-02  2e-02\n",
      " 3:  1.0715e-01  8.6703e-02  2e-02  2e-05  2e-05\n",
      " 4:  9.8757e-02  9.6865e-02  2e-03  6e-07  8e-07\n",
      " 5:  9.7387e-02  9.7285e-02  1e-04  3e-09  4e-09\n",
      " 6:  9.7307e-02  9.7305e-02  1e-06  3e-11  3e-11\n",
      " 7:  9.7306e-02  9.7306e-02  1e-08  3e-13  3e-13\n",
      "Optimal solution found.\n",
      "     pcost       dcost       gap    pres   dres\n",
      " 0:  9.5589e-02 -1.0369e+00  4e+01  5e+00  7e+00\n",
      " 1:  1.4804e-01 -4.7990e-01  2e+00  1e-01  2e-01\n",
      " 2:  1.2002e-01  1.9769e-02  2e-01  1e-02  2e-02\n",
      " 3:  1.1060e-01  9.0031e-02  2e-02  3e-05  4e-05\n",
      " 4:  1.0226e-01  1.0036e-01  2e-03  1e-06  1e-06\n",
      " 5:  1.0090e-01  1.0079e-01  1e-04  5e-09  7e-09\n",
      " 6:  1.0081e-01  1.0081e-01  1e-06  5e-11  6e-11\n",
      " 7:  1.0081e-01  1.0081e-01  1e-08  5e-13  6e-13\n",
      "Optimal solution found.\n",
      "     pcost       dcost       gap    pres   dres\n",
      " 0:  9.8346e-02 -1.0343e+00  4e+01  5e+00  7e+00\n",
      " 1:  1.5019e-01 -4.7542e-01  2e+00  1e-01  2e-01\n",
      " 2:  1.2243e-01  2.2073e-02  2e-01  1e-02  2e-02\n",
      " 3:  1.1404e-01  9.3364e-02  2e-02  4e-05  6e-05\n",
      " 4:  1.0576e-01  1.0384e-01  2e-03  1e-06  2e-06\n",
      " 5:  1.0440e-01  1.0429e-01  1e-04  7e-09  1e-08\n",
      " 6:  1.0431e-01  1.0431e-01  1e-06  7e-11  9e-11\n",
      " 7:  1.0431e-01  1.0431e-01  1e-08  7e-13  9e-13\n",
      "Optimal solution found.\n"
     ]
    }
   ],
   "source": [
    "risk_aversion = [ra/2.0 for ra in range(41)]\n",
    "returns = [portfolio(alpha) for alpha in risk_aversion]"
   ]
  },
  {
   "cell_type": "code",
   "execution_count": 13,
   "metadata": {
    "collapsed": false,
    "deletable": true,
    "editable": true,
    "scrolled": true,
    "slideshow": {
     "slide_type": "subslide"
    }
   },
   "outputs": [
    {
     "data": {
      "text/html": [
       "\n",
       "\n",
       "    <div class=\"bk-root\">\n",
       "        <div class=\"bk-plotdiv\" id=\"d8d173db-1fdc-4e7b-b43b-5b107ab2ecba\"></div>\n",
       "    </div>\n",
       "<script type=\"text/javascript\">\n",
       "  \n",
       "  (function(global) {\n",
       "    function now() {\n",
       "      return new Date();\n",
       "    }\n",
       "  \n",
       "    var force = false;\n",
       "  \n",
       "    if (typeof (window._bokeh_onload_callbacks) === \"undefined\" || force === true) {\n",
       "      window._bokeh_onload_callbacks = [];\n",
       "      window._bokeh_is_loading = undefined;\n",
       "    }\n",
       "  \n",
       "  \n",
       "    \n",
       "    if (typeof (window._bokeh_timeout) === \"undefined\" || force === true) {\n",
       "      window._bokeh_timeout = Date.now() + 0;\n",
       "      window._bokeh_failed_load = false;\n",
       "    }\n",
       "  \n",
       "    var NB_LOAD_WARNING = {'data': {'text/html':\n",
       "       \"<div style='background-color: #fdd'>\\n\"+\n",
       "       \"<p>\\n\"+\n",
       "       \"BokehJS does not appear to have successfully loaded. If loading BokehJS from CDN, this \\n\"+\n",
       "       \"may be due to a slow or bad network connection. Possible fixes:\\n\"+\n",
       "       \"</p>\\n\"+\n",
       "       \"<ul>\\n\"+\n",
       "       \"<li>re-rerun `output_notebook()` to attempt to load from CDN again, or</li>\\n\"+\n",
       "       \"<li>use INLINE resources instead, as so:</li>\\n\"+\n",
       "       \"</ul>\\n\"+\n",
       "       \"<code>\\n\"+\n",
       "       \"from bokeh.resources import INLINE\\n\"+\n",
       "       \"output_notebook(resources=INLINE)\\n\"+\n",
       "       \"</code>\\n\"+\n",
       "       \"</div>\"}};\n",
       "  \n",
       "    function display_loaded() {\n",
       "      if (window.Bokeh !== undefined) {\n",
       "        document.getElementById(\"d8d173db-1fdc-4e7b-b43b-5b107ab2ecba\").textContent = \"BokehJS successfully loaded.\";\n",
       "      } else if (Date.now() < window._bokeh_timeout) {\n",
       "        setTimeout(display_loaded, 100)\n",
       "      }\n",
       "    }\n",
       "  \n",
       "    function run_callbacks() {\n",
       "      window._bokeh_onload_callbacks.forEach(function(callback) { callback() });\n",
       "      delete window._bokeh_onload_callbacks\n",
       "      console.info(\"Bokeh: all callbacks have finished\");\n",
       "    }\n",
       "  \n",
       "    function load_libs(js_urls, callback) {\n",
       "      window._bokeh_onload_callbacks.push(callback);\n",
       "      if (window._bokeh_is_loading > 0) {\n",
       "        console.log(\"Bokeh: BokehJS is being loaded, scheduling callback at\", now());\n",
       "        return null;\n",
       "      }\n",
       "      if (js_urls == null || js_urls.length === 0) {\n",
       "        run_callbacks();\n",
       "        return null;\n",
       "      }\n",
       "      console.log(\"Bokeh: BokehJS not loaded, scheduling load and callback at\", now());\n",
       "      window._bokeh_is_loading = js_urls.length;\n",
       "      for (var i = 0; i < js_urls.length; i++) {\n",
       "        var url = js_urls[i];\n",
       "        var s = document.createElement('script');\n",
       "        s.src = url;\n",
       "        s.async = false;\n",
       "        s.onreadystatechange = s.onload = function() {\n",
       "          window._bokeh_is_loading--;\n",
       "          if (window._bokeh_is_loading === 0) {\n",
       "            console.log(\"Bokeh: all BokehJS libraries loaded\");\n",
       "            run_callbacks()\n",
       "          }\n",
       "        };\n",
       "        s.onerror = function() {\n",
       "          console.warn(\"failed to load library \" + url);\n",
       "        };\n",
       "        console.log(\"Bokeh: injecting script tag for BokehJS library: \", url);\n",
       "        document.getElementsByTagName(\"head\")[0].appendChild(s);\n",
       "      }\n",
       "    };var element = document.getElementById(\"d8d173db-1fdc-4e7b-b43b-5b107ab2ecba\");\n",
       "    if (element == null) {\n",
       "      console.log(\"Bokeh: ERROR: autoload.js configured with elementid 'd8d173db-1fdc-4e7b-b43b-5b107ab2ecba' but no matching script tag was found. \")\n",
       "      return false;\n",
       "    }\n",
       "  \n",
       "    var js_urls = [];\n",
       "  \n",
       "    var inline_js = [\n",
       "      function(Bokeh) {\n",
       "        (function() {\n",
       "          var fn = function() {\n",
       "            var docs_json = {\"ae172ec9-ac62-4003-82bb-ccd4cca81f14\":{\"roots\":{\"references\":[{\"attributes\":{\"callback\":null,\"column_names\":[\"x_values\",\"y_values\"],\"data\":{\"chart_index\":[null,null,null,null,null,null,null,null,null,null,null,null,null,null,null,null,null,null,null,null,null,null,null,null,null,null,null,null,null,null,null,null,null,null,null,null,null,null,null,null,null],\"x_values\":{\"__ndarray__\":\"AAAAAAAAAAAAAAAAAADgPwAAAAAAAPA/AAAAAAAA+D8AAAAAAAAAQAAAAAAAAARAAAAAAAAACEAAAAAAAAAMQAAAAAAAABBAAAAAAAAAEkAAAAAAAAAUQAAAAAAAABZAAAAAAAAAGEAAAAAAAAAaQAAAAAAAABxAAAAAAAAAHkAAAAAAAAAgQAAAAAAAACFAAAAAAAAAIkAAAAAAAAAjQAAAAAAAACRAAAAAAAAAJUAAAAAAAAAmQAAAAAAAACdAAAAAAAAAKEAAAAAAAAApQAAAAAAAACpAAAAAAAAAK0AAAAAAAAAsQAAAAAAAAC1AAAAAAAAALkAAAAAAAAAvQAAAAAAAADBAAAAAAACAMEAAAAAAAAAxQAAAAAAAgDFAAAAAAAAAMkAAAAAAAIAyQAAAAAAAADNAAAAAAACAM0AAAAAAAAA0QA==\",\"dtype\":\"float64\",\"shape\":[41]},\"y_values\":{\"__ndarray__\":\"47DpOWld0j/Lcwq9FUDQP4W02Q5FF9A/jQomY30Zyj84+MwYEUfEP5weWGLQyMA/HCpNPUrpvD/5piTVnpW5P3uQZ0/eFrc/vQZYpw8mtT/Qsn+AnZizPzsoJ6FuU7I/6xUZOHJEsT99tiB5Jl+wP7pZIsQ4Na8/QCy7nI3grT8YSJDCd7asP0u0omZzr6s/7JK/MqjFqj8tpPW5ePSpP6SeZZEzOKk/5fnMotqNqD/TWA6QCfOnP2mj5RGnZac/wKf/Twzkpj/Z4O87zGymP2W4t6CB/qU/9eC8/lCXpT/7z4+JNzalP6qCNsty26Q/YsLUyLSGpD8Unu/xXzekP4SP8OgU7aM/jw7cQEanoz8zj1dMkWWjP1KfhfmcJ6M/HGzJiBntoj9ZWKekv7WiP0GgLXBPgaI/0EAck49Poj/awMVqTCCiPw==\",\"dtype\":\"float64\",\"shape\":[41]}}},\"id\":\"d59e0a0e-77c7-4aa8-8fda-8b233b50008f\",\"type\":\"ColumnDataSource\"},{\"attributes\":{\"callback\":null,\"end\":22.0,\"start\":-2.0},\"id\":\"bb102221-52d6-4c9f-9e1d-c036b6973861\",\"type\":\"Range1d\"},{\"attributes\":{},\"id\":\"a544511f-e3e6-4749-8e7d-16ca92a3cc09\",\"type\":\"BasicTickFormatter\"},{\"attributes\":{\"data_source\":{\"id\":\"d59e0a0e-77c7-4aa8-8fda-8b233b50008f\",\"type\":\"ColumnDataSource\"},\"glyph\":{\"id\":\"fa8092f3-73ba-414a-a0b2-198246625e85\",\"type\":\"Line\"},\"hover_glyph\":null,\"nonselection_glyph\":null,\"selection_glyph\":null},\"id\":\"fd0ffc09-6f3b-418a-91c4-577008b8ad74\",\"type\":\"GlyphRenderer\"},{\"attributes\":{\"plot\":{\"id\":\"50f8c488-0170-415c-b0ff-026d1891b90c\",\"subtype\":\"Chart\",\"type\":\"Plot\"}},\"id\":\"9044bbba-b859-46d6-a518-1816abe40ad4\",\"type\":\"ResetTool\"},{\"attributes\":{\"plot\":{\"id\":\"50f8c488-0170-415c-b0ff-026d1891b90c\",\"subtype\":\"Chart\",\"type\":\"Plot\"}},\"id\":\"a51d6f09-a5bb-45d5-b422-124734f27775\",\"type\":\"SaveTool\"},{\"attributes\":{\"plot\":{\"id\":\"50f8c488-0170-415c-b0ff-026d1891b90c\",\"subtype\":\"Chart\",\"type\":\"Plot\"},\"ticker\":{\"id\":\"6caf6fe0-5994-454a-899d-f1c509927236\",\"type\":\"BasicTicker\"}},\"id\":\"8596a74a-d4ab-4448-a006-c3bdfac0ae5a\",\"type\":\"Grid\"},{\"attributes\":{\"axis_label\":\"risk aversion\",\"formatter\":{\"id\":\"a544511f-e3e6-4749-8e7d-16ca92a3cc09\",\"type\":\"BasicTickFormatter\"},\"plot\":{\"id\":\"50f8c488-0170-415c-b0ff-026d1891b90c\",\"subtype\":\"Chart\",\"type\":\"Plot\"},\"ticker\":{\"id\":\"6caf6fe0-5994-454a-899d-f1c509927236\",\"type\":\"BasicTicker\"}},\"id\":\"a4a5882e-586c-475a-bbdd-b230f065f381\",\"type\":\"LinearAxis\"},{\"attributes\":{\"below\":[{\"id\":\"a4a5882e-586c-475a-bbdd-b230f065f381\",\"type\":\"LinearAxis\"}],\"css_classes\":null,\"height\":400,\"left\":[{\"id\":\"934c59ce-32f8-435e-992c-31083deedcbe\",\"type\":\"LinearAxis\"}],\"renderers\":[{\"id\":\"6c0c939e-8925-4d16-bf55-6667bca44bb5\",\"type\":\"BoxAnnotation\"},{\"id\":\"fd0ffc09-6f3b-418a-91c4-577008b8ad74\",\"type\":\"GlyphRenderer\"},{\"id\":\"1b37cc20-829f-45bc-befc-b1ce44061c22\",\"type\":\"Legend\"},{\"id\":\"a4a5882e-586c-475a-bbdd-b230f065f381\",\"type\":\"LinearAxis\"},{\"id\":\"934c59ce-32f8-435e-992c-31083deedcbe\",\"type\":\"LinearAxis\"},{\"id\":\"8596a74a-d4ab-4448-a006-c3bdfac0ae5a\",\"type\":\"Grid\"},{\"id\":\"8ce50388-f0f8-4a46-8c0e-03888f6221a3\",\"type\":\"Grid\"}],\"title\":{\"id\":\"3af19f7a-c7fa-4319-97f6-5b375c12aa9f\",\"type\":\"Title\"},\"tool_events\":{\"id\":\"761dfb17-13aa-4d73-8c05-a0528f9dd345\",\"type\":\"ToolEvents\"},\"toolbar\":{\"id\":\"08d0c318-d4ae-4f47-a4cc-f85739feda5b\",\"type\":\"Toolbar\"},\"width\":750,\"x_mapper_type\":\"auto\",\"x_range\":{\"id\":\"bb102221-52d6-4c9f-9e1d-c036b6973861\",\"type\":\"Range1d\"},\"y_mapper_type\":\"auto\",\"y_range\":{\"id\":\"5c18da2b-741c-483b-adef-683e683b2dcd\",\"type\":\"Range1d\"}},\"id\":\"50f8c488-0170-415c-b0ff-026d1891b90c\",\"subtype\":\"Chart\",\"type\":\"Plot\"},{\"attributes\":{\"callback\":null,\"end\":0.3121062263562204,\"start\":0.010247799092838197},\"id\":\"5c18da2b-741c-483b-adef-683e683b2dcd\",\"type\":\"Range1d\"},{\"attributes\":{},\"id\":\"6caf6fe0-5994-454a-899d-f1c509927236\",\"type\":\"BasicTicker\"},{\"attributes\":{},\"id\":\"761dfb17-13aa-4d73-8c05-a0528f9dd345\",\"type\":\"ToolEvents\"},{\"attributes\":{\"plot\":{\"id\":\"50f8c488-0170-415c-b0ff-026d1891b90c\",\"subtype\":\"Chart\",\"type\":\"Plot\"}},\"id\":\"e95f0210-c6c3-4d3a-a597-071c763f3c20\",\"type\":\"WheelZoomTool\"},{\"attributes\":{\"overlay\":{\"id\":\"6c0c939e-8925-4d16-bf55-6667bca44bb5\",\"type\":\"BoxAnnotation\"},\"plot\":{\"id\":\"50f8c488-0170-415c-b0ff-026d1891b90c\",\"subtype\":\"Chart\",\"type\":\"Plot\"}},\"id\":\"122d7712-54f4-49b7-9c05-ceb3414865eb\",\"type\":\"BoxZoomTool\"},{\"attributes\":{\"location\":\"top_left\",\"plot\":{\"id\":\"50f8c488-0170-415c-b0ff-026d1891b90c\",\"subtype\":\"Chart\",\"type\":\"Plot\"}},\"id\":\"1b37cc20-829f-45bc-befc-b1ce44061c22\",\"type\":\"Legend\"},{\"attributes\":{\"axis_label\":\"expected return\",\"formatter\":{\"id\":\"59943277-1d15-4dad-bcd7-f15f82da1fa8\",\"type\":\"BasicTickFormatter\"},\"plot\":{\"id\":\"50f8c488-0170-415c-b0ff-026d1891b90c\",\"subtype\":\"Chart\",\"type\":\"Plot\"},\"ticker\":{\"id\":\"606a886c-2672-4d3c-a720-3b9646ae846d\",\"type\":\"BasicTicker\"}},\"id\":\"934c59ce-32f8-435e-992c-31083deedcbe\",\"type\":\"LinearAxis\"},{\"attributes\":{\"plot\":{\"id\":\"50f8c488-0170-415c-b0ff-026d1891b90c\",\"subtype\":\"Chart\",\"type\":\"Plot\"}},\"id\":\"4f1162e3-93ad-43d9-9ab2-bf61534ad154\",\"type\":\"HelpTool\"},{\"attributes\":{\"plot\":{\"id\":\"50f8c488-0170-415c-b0ff-026d1891b90c\",\"subtype\":\"Chart\",\"type\":\"Plot\"}},\"id\":\"f69154d6-8423-4399-9c2f-bacae7cc3e83\",\"type\":\"PanTool\"},{\"attributes\":{},\"id\":\"606a886c-2672-4d3c-a720-3b9646ae846d\",\"type\":\"BasicTicker\"},{\"attributes\":{\"bottom_units\":\"screen\",\"fill_alpha\":{\"value\":0.5},\"fill_color\":{\"value\":\"lightgrey\"},\"left_units\":\"screen\",\"level\":\"overlay\",\"line_alpha\":{\"value\":1.0},\"line_color\":{\"value\":\"black\"},\"line_dash\":[4,4],\"line_width\":{\"value\":2},\"plot\":null,\"render_mode\":\"css\",\"right_units\":\"screen\",\"top_units\":\"screen\"},\"id\":\"6c0c939e-8925-4d16-bf55-6667bca44bb5\",\"type\":\"BoxAnnotation\"},{\"attributes\":{\"line_color\":{\"value\":\"#f22c40\"},\"line_width\":{\"value\":2},\"x\":{\"field\":\"x_values\"},\"y\":{\"field\":\"y_values\"}},\"id\":\"fa8092f3-73ba-414a-a0b2-198246625e85\",\"type\":\"Line\"},{\"attributes\":{\"dimension\":1,\"plot\":{\"id\":\"50f8c488-0170-415c-b0ff-026d1891b90c\",\"subtype\":\"Chart\",\"type\":\"Plot\"},\"ticker\":{\"id\":\"606a886c-2672-4d3c-a720-3b9646ae846d\",\"type\":\"BasicTicker\"}},\"id\":\"8ce50388-f0f8-4a46-8c0e-03888f6221a3\",\"type\":\"Grid\"},{\"attributes\":{\"plot\":null,\"text\":null},\"id\":\"3af19f7a-c7fa-4319-97f6-5b375c12aa9f\",\"type\":\"Title\"},{\"attributes\":{\"active_drag\":\"auto\",\"active_scroll\":\"auto\",\"active_tap\":\"auto\",\"tools\":[{\"id\":\"f69154d6-8423-4399-9c2f-bacae7cc3e83\",\"type\":\"PanTool\"},{\"id\":\"e95f0210-c6c3-4d3a-a597-071c763f3c20\",\"type\":\"WheelZoomTool\"},{\"id\":\"122d7712-54f4-49b7-9c05-ceb3414865eb\",\"type\":\"BoxZoomTool\"},{\"id\":\"a51d6f09-a5bb-45d5-b422-124734f27775\",\"type\":\"SaveTool\"},{\"id\":\"9044bbba-b859-46d6-a518-1816abe40ad4\",\"type\":\"ResetTool\"},{\"id\":\"4f1162e3-93ad-43d9-9ab2-bf61534ad154\",\"type\":\"HelpTool\"}]},\"id\":\"08d0c318-d4ae-4f47-a4cc-f85739feda5b\",\"type\":\"Toolbar\"},{\"attributes\":{},\"id\":\"59943277-1d15-4dad-bcd7-f15f82da1fa8\",\"type\":\"BasicTickFormatter\"}],\"root_ids\":[\"50f8c488-0170-415c-b0ff-026d1891b90c\"]},\"title\":\"Bokeh Application\",\"version\":\"0.12.4\"}};\n",
       "            var render_items = [{\"docid\":\"ae172ec9-ac62-4003-82bb-ccd4cca81f14\",\"elementid\":\"d8d173db-1fdc-4e7b-b43b-5b107ab2ecba\",\"modelid\":\"50f8c488-0170-415c-b0ff-026d1891b90c\"}];\n",
       "            \n",
       "            Bokeh.embed.embed_items(docs_json, render_items);\n",
       "          };\n",
       "          if (document.readyState != \"loading\") fn();\n",
       "          else document.addEventListener(\"DOMContentLoaded\", fn);\n",
       "        })();\n",
       "      },\n",
       "      function(Bokeh) {\n",
       "      }\n",
       "    ];\n",
       "  \n",
       "    function run_inline_js() {\n",
       "      \n",
       "      if ((window.Bokeh !== undefined) || (force === true)) {\n",
       "        for (var i = 0; i < inline_js.length; i++) {\n",
       "          inline_js[i](window.Bokeh);\n",
       "        }if (force === true) {\n",
       "          display_loaded();\n",
       "        }} else if (Date.now() < window._bokeh_timeout) {\n",
       "        setTimeout(run_inline_js, 100);\n",
       "      } else if (!window._bokeh_failed_load) {\n",
       "        console.log(\"Bokeh: BokehJS failed to load within specified timeout.\");\n",
       "        window._bokeh_failed_load = true;\n",
       "      } else if (force !== true) {\n",
       "        var cell = $(document.getElementById(\"d8d173db-1fdc-4e7b-b43b-5b107ab2ecba\")).parents('.cell').data().cell;\n",
       "        cell.output_area.append_execute_result(NB_LOAD_WARNING)\n",
       "      }\n",
       "  \n",
       "    }\n",
       "  \n",
       "    if (window._bokeh_is_loading === 0) {\n",
       "      console.log(\"Bokeh: BokehJS loaded, going straight to plotting\");\n",
       "      run_inline_js();\n",
       "    } else {\n",
       "      load_libs(js_urls, function() {\n",
       "        console.log(\"Bokeh: BokehJS plotting callback run at\", now());\n",
       "        run_inline_js();\n",
       "      });\n",
       "    }\n",
       "  }(this));\n",
       "</script>"
      ]
     },
     "metadata": {},
     "output_type": "display_data"
    }
   ],
   "source": [
    "show(Line(\n",
    "    {'risk aversion': risk_aversion, 'expected return': returns}, \n",
    "    x='risk aversion', \n",
    "    y='expected return', \n",
    "    width=750, \n",
    "    height=400\n",
    "))"
   ]
  },
  {
   "cell_type": "markdown",
   "metadata": {
    "deletable": true,
    "editable": true,
    "slideshow": {
     "slide_type": "slide"
    }
   },
   "source": [
    "## Support Vector Machines\n",
    "\n",
    "We want to draw a line that separates two sets with as little misclassification as possible."
   ]
  },
  {
   "cell_type": "markdown",
   "metadata": {
    "deletable": true,
    "editable": true,
    "slideshow": {
     "slide_type": "subslide"
    }
   },
   "source": [
    "If $f(x) \\le 5$, the point is of type $-1$, otherwise it is type $+1$.\n",
    "\n",
    "$$f(x) = (x_1 + \\epsilon_1) - (x_2+ \\epsilon_2)$$  \n",
    "  \n",
    "$$\\epsilon_i \\sim N\\left(0, 1.25^2\\right)\\ \\forall\\ i \\in {1, 2}$$\n"
   ]
  },
  {
   "cell_type": "code",
   "execution_count": 14,
   "metadata": {
    "collapsed": false,
    "deletable": true,
    "editable": true,
    "slideshow": {
     "slide_type": "subslide"
    }
   },
   "outputs": [],
   "source": [
    "x1 = [random.uniform(0, 10) for _ in range(150)]\n",
    "x2 = [random.uniform(0, 10) for _ in range(150)]\n",
    "\n",
    "y = []\n",
    "for xi_1, xi_2 in zip(x1, x2):\n",
    "    eps_1 = random.normalvariate(0, 1.25)\n",
    "    eps_2 = random.normalvariate(0, 1.25)\n",
    "    \n",
    "    if (xi_1 + eps_1) - (xi_2 + eps_2) <= 5:\n",
    "        y.append(-1)\n",
    "    else:\n",
    "        y.append(+1)\n",
    "        \n",
    "X = np.array(list(zip(x1, x2)))\n",
    "y = np.array(y)"
   ]
  },
  {
   "cell_type": "code",
   "execution_count": 15,
   "metadata": {
    "collapsed": false,
    "deletable": true,
    "editable": true,
    "scrolled": false,
    "slideshow": {
     "slide_type": "subslide"
    }
   },
   "outputs": [
    {
     "data": {
      "text/html": [
       "\n",
       "\n",
       "    <div class=\"bk-root\">\n",
       "        <div class=\"bk-plotdiv\" id=\"f3ec49f1-5202-4f1d-b174-5afa4a848a8e\"></div>\n",
       "    </div>\n",
       "<script type=\"text/javascript\">\n",
       "  \n",
       "  (function(global) {\n",
       "    function now() {\n",
       "      return new Date();\n",
       "    }\n",
       "  \n",
       "    var force = false;\n",
       "  \n",
       "    if (typeof (window._bokeh_onload_callbacks) === \"undefined\" || force === true) {\n",
       "      window._bokeh_onload_callbacks = [];\n",
       "      window._bokeh_is_loading = undefined;\n",
       "    }\n",
       "  \n",
       "  \n",
       "    \n",
       "    if (typeof (window._bokeh_timeout) === \"undefined\" || force === true) {\n",
       "      window._bokeh_timeout = Date.now() + 0;\n",
       "      window._bokeh_failed_load = false;\n",
       "    }\n",
       "  \n",
       "    var NB_LOAD_WARNING = {'data': {'text/html':\n",
       "       \"<div style='background-color: #fdd'>\\n\"+\n",
       "       \"<p>\\n\"+\n",
       "       \"BokehJS does not appear to have successfully loaded. If loading BokehJS from CDN, this \\n\"+\n",
       "       \"may be due to a slow or bad network connection. Possible fixes:\\n\"+\n",
       "       \"</p>\\n\"+\n",
       "       \"<ul>\\n\"+\n",
       "       \"<li>re-rerun `output_notebook()` to attempt to load from CDN again, or</li>\\n\"+\n",
       "       \"<li>use INLINE resources instead, as so:</li>\\n\"+\n",
       "       \"</ul>\\n\"+\n",
       "       \"<code>\\n\"+\n",
       "       \"from bokeh.resources import INLINE\\n\"+\n",
       "       \"output_notebook(resources=INLINE)\\n\"+\n",
       "       \"</code>\\n\"+\n",
       "       \"</div>\"}};\n",
       "  \n",
       "    function display_loaded() {\n",
       "      if (window.Bokeh !== undefined) {\n",
       "        document.getElementById(\"f3ec49f1-5202-4f1d-b174-5afa4a848a8e\").textContent = \"BokehJS successfully loaded.\";\n",
       "      } else if (Date.now() < window._bokeh_timeout) {\n",
       "        setTimeout(display_loaded, 100)\n",
       "      }\n",
       "    }\n",
       "  \n",
       "    function run_callbacks() {\n",
       "      window._bokeh_onload_callbacks.forEach(function(callback) { callback() });\n",
       "      delete window._bokeh_onload_callbacks\n",
       "      console.info(\"Bokeh: all callbacks have finished\");\n",
       "    }\n",
       "  \n",
       "    function load_libs(js_urls, callback) {\n",
       "      window._bokeh_onload_callbacks.push(callback);\n",
       "      if (window._bokeh_is_loading > 0) {\n",
       "        console.log(\"Bokeh: BokehJS is being loaded, scheduling callback at\", now());\n",
       "        return null;\n",
       "      }\n",
       "      if (js_urls == null || js_urls.length === 0) {\n",
       "        run_callbacks();\n",
       "        return null;\n",
       "      }\n",
       "      console.log(\"Bokeh: BokehJS not loaded, scheduling load and callback at\", now());\n",
       "      window._bokeh_is_loading = js_urls.length;\n",
       "      for (var i = 0; i < js_urls.length; i++) {\n",
       "        var url = js_urls[i];\n",
       "        var s = document.createElement('script');\n",
       "        s.src = url;\n",
       "        s.async = false;\n",
       "        s.onreadystatechange = s.onload = function() {\n",
       "          window._bokeh_is_loading--;\n",
       "          if (window._bokeh_is_loading === 0) {\n",
       "            console.log(\"Bokeh: all BokehJS libraries loaded\");\n",
       "            run_callbacks()\n",
       "          }\n",
       "        };\n",
       "        s.onerror = function() {\n",
       "          console.warn(\"failed to load library \" + url);\n",
       "        };\n",
       "        console.log(\"Bokeh: injecting script tag for BokehJS library: \", url);\n",
       "        document.getElementsByTagName(\"head\")[0].appendChild(s);\n",
       "      }\n",
       "    };var element = document.getElementById(\"f3ec49f1-5202-4f1d-b174-5afa4a848a8e\");\n",
       "    if (element == null) {\n",
       "      console.log(\"Bokeh: ERROR: autoload.js configured with elementid 'f3ec49f1-5202-4f1d-b174-5afa4a848a8e' but no matching script tag was found. \")\n",
       "      return false;\n",
       "    }\n",
       "  \n",
       "    var js_urls = [];\n",
       "  \n",
       "    var inline_js = [\n",
       "      function(Bokeh) {\n",
       "        (function() {\n",
       "          var fn = function() {\n",
       "            var docs_json = {\"34d1b414-f407-4438-b275-91d7ac134625\":{\"roots\":{\"references\":[{\"attributes\":{\"data_source\":{\"id\":\"a05fbc74-d375-424a-863b-20ae5294d241\",\"type\":\"ColumnDataSource\"},\"glyph\":{\"id\":\"9fdf4e45-4fb1-4a0a-b465-6f165705f250\",\"type\":\"Circle\"},\"hover_glyph\":null,\"nonselection_glyph\":null,\"selection_glyph\":null},\"id\":\"771b79d8-f0f0-4a42-876a-892eb67d3783\",\"type\":\"GlyphRenderer\"},{\"attributes\":{},\"id\":\"2d1c03de-d03c-4c98-a553-8b47751084d4\",\"type\":\"BasicTicker\"},{\"attributes\":{\"fill_alpha\":{\"value\":0.7},\"fill_color\":{\"value\":\"lightblue\"},\"line_color\":{\"value\":\"lightblue\"},\"size\":{\"units\":\"screen\",\"value\":8},\"x\":{\"field\":\"x_values\"},\"y\":{\"field\":\"y_values\"}},\"id\":\"9fdf4e45-4fb1-4a0a-b465-6f165705f250\",\"type\":\"Circle\"},{\"attributes\":{\"overlay\":{\"id\":\"f85beafe-ca0e-46a7-ac26-89b7bb4a6758\",\"type\":\"BoxAnnotation\"},\"plot\":{\"id\":\"6dd0cdc0-d85b-45e9-a6d2-cc94a0b78e84\",\"subtype\":\"Chart\",\"type\":\"Plot\"}},\"id\":\"c904ee03-23b5-41ae-9b74-20dcf2b7fb26\",\"type\":\"BoxZoomTool\"},{\"attributes\":{\"label\":{\"value\":\"-1\"},\"renderers\":[{\"id\":\"771b79d8-f0f0-4a42-876a-892eb67d3783\",\"type\":\"GlyphRenderer\"}]},\"id\":\"366a65ee-b74d-406a-8ca4-1b0b0563f7de\",\"type\":\"LegendItem\"},{\"attributes\":{\"callback\":null,\"column_names\":[\"x_values\",\"y_values\"],\"data\":{\"chart_index\":[{\"y\":1},{\"y\":1},{\"y\":1},{\"y\":1},{\"y\":1},{\"y\":1},{\"y\":1},{\"y\":1},{\"y\":1},{\"y\":1}],\"x_values\":{\"__ndarray__\":\"iAKpYgs1FUBA5BPTnFIgQGkQU7//lx5AsfH3rTgNIkAnNpwm10YhQBFOJhrCwhdALMXgk3NhFED6ii6x1QEhQAlRK2gojCBAN8Pm7enSH0A=\",\"dtype\":\"float64\",\"shape\":[10]},\"y\":[1,1,1,1,1,1,1,1,1,1],\"y_values\":{\"__ndarray__\":\"ptk0HfvA/D9A6HGEw7i+P4KABvFw5AtA0Ec2oC4GGkCKbJPXBIYAQGyydfn/uuE/LApcK6I67z9eILYjhHYJQG3GKXZmCwpAkGLQVyEYuj8=\",\"dtype\":\"float64\",\"shape\":[10]}}},\"id\":\"2134c12a-7c21-4a7f-8b94-1cdec3a19c5e\",\"type\":\"ColumnDataSource\"},{\"attributes\":{\"axis_label\":\"x1\",\"formatter\":{\"id\":\"f41d4fcf-8203-4d24-848e-1525f1043d0a\",\"type\":\"BasicTickFormatter\"},\"plot\":{\"id\":\"6dd0cdc0-d85b-45e9-a6d2-cc94a0b78e84\",\"subtype\":\"Chart\",\"type\":\"Plot\"},\"ticker\":{\"id\":\"2d1c03de-d03c-4c98-a553-8b47751084d4\",\"type\":\"BasicTicker\"}},\"id\":\"3d7167ee-15c5-4949-b367-0e28e822bd8f\",\"type\":\"LinearAxis\"},{\"attributes\":{\"callback\":null,\"column_names\":[\"x_values\",\"y_values\"],\"data\":{\"chart_index\":[{\"y\":-1},{\"y\":-1},{\"y\":-1},{\"y\":-1},{\"y\":-1},{\"y\":-1},{\"y\":-1},{\"y\":-1},{\"y\":-1},{\"y\":-1},{\"y\":-1},{\"y\":-1},{\"y\":-1},{\"y\":-1},{\"y\":-1},{\"y\":-1},{\"y\":-1},{\"y\":-1},{\"y\":-1},{\"y\":-1},{\"y\":-1},{\"y\":-1},{\"y\":-1},{\"y\":-1},{\"y\":-1},{\"y\":-1},{\"y\":-1},{\"y\":-1},{\"y\":-1},{\"y\":-1},{\"y\":-1},{\"y\":-1},{\"y\":-1},{\"y\":-1},{\"y\":-1},{\"y\":-1},{\"y\":-1},{\"y\":-1},{\"y\":-1},{\"y\":-1},{\"y\":-1},{\"y\":-1},{\"y\":-1},{\"y\":-1},{\"y\":-1},{\"y\":-1},{\"y\":-1},{\"y\":-1},{\"y\":-1},{\"y\":-1},{\"y\":-1},{\"y\":-1},{\"y\":-1},{\"y\":-1},{\"y\":-1},{\"y\":-1},{\"y\":-1},{\"y\":-1},{\"y\":-1},{\"y\":-1},{\"y\":-1},{\"y\":-1},{\"y\":-1},{\"y\":-1},{\"y\":-1},{\"y\":-1},{\"y\":-1},{\"y\":-1},{\"y\":-1},{\"y\":-1},{\"y\":-1},{\"y\":-1},{\"y\":-1},{\"y\":-1},{\"y\":-1},{\"y\":-1},{\"y\":-1},{\"y\":-1},{\"y\":-1},{\"y\":-1},{\"y\":-1},{\"y\":-1},{\"y\":-1},{\"y\":-1},{\"y\":-1},{\"y\":-1},{\"y\":-1},{\"y\":-1},{\"y\":-1},{\"y\":-1},{\"y\":-1},{\"y\":-1},{\"y\":-1},{\"y\":-1},{\"y\":-1},{\"y\":-1},{\"y\":-1},{\"y\":-1},{\"y\":-1},{\"y\":-1},{\"y\":-1},{\"y\":-1},{\"y\":-1},{\"y\":-1},{\"y\":-1},{\"y\":-1},{\"y\":-1},{\"y\":-1},{\"y\":-1},{\"y\":-1},{\"y\":-1},{\"y\":-1},{\"y\":-1},{\"y\":-1},{\"y\":-1},{\"y\":-1},{\"y\":-1},{\"y\":-1},{\"y\":-1},{\"y\":-1},{\"y\":-1},{\"y\":-1},{\"y\":-1},{\"y\":-1},{\"y\":-1},{\"y\":-1},{\"y\":-1},{\"y\":-1},{\"y\":-1},{\"y\":-1},{\"y\":-1},{\"y\":-1},{\"y\":-1},{\"y\":-1},{\"y\":-1},{\"y\":-1},{\"y\":-1},{\"y\":-1},{\"y\":-1},{\"y\":-1}],\"x_values\":{\"__ndarray__\":\"5muevVoG6T+E4bcywlnbP+514gwmpxRAX8Xr7kQF9j9N1kMTOHPxP5LOHwjyRyJAltAyzvLUHUBmi/+mpGDyP3VbiTuPYPY/bhyAifdaHUDNj70Uq78WQO3Q3tLPdB9AA0CTTvGdGUAwTBlUltXDP16yOQSHyhhAMLkE8LUKIECwoAShHmwbQOWiZNUyQRBArwvHFAmQ9j8u3WNVQg8WQEB7Q9uo2wlAb0YAo8bSEkCWw4JZKrQLQLjstwvd2eI/nrgDVOlRIUDctbHKorgVQHgoV/w8IANAHyqlRVebGkBwxTGIa5QUQEYtqj71gARARlJfcsRwE0CDyYn/UkgWQH7BNvhhDCFAWJKm1z3lIED21PuDS04ZQHB3N2yu1/E/7DBCQJPEEUB+dm8ilRL9P1TQNdihMR5AkIQXhzffH0AmuPcDzdQIQLGyOl1BUAhATOAmlf/HHUDGvZnAaJIiQKjjcTfKccE/tg6E7VamI0AjEk8/g10jQIZ5LXwDgSNANeK+2GvBIkAvQAH8vlL9Pwt0LSK4YRJAHvMPARJeHkAIC/i8pmwiQDc3uXBouwFAQriESfGtDECyDT62ZSoVQCD3+jZxuRZA5gOjQvMH4j9h8yU0aWAEQJShcQ8g4xxAfqHIoAzEIECg2v60cnsNQGWNP5HfBBNA3vqv+U7zDEAeeA9xl4wjQKINPtzN0hBAVsbLlkGhCUAomHTXrccHQKB0bsG1BhdAfvbeupz6HED7rFlJFI0hQFGCeOMMrQtAAvoOgodLEEBX8h9uCRD0P0HDAZebZxlAzhZCflOrGEArvulq2AcYQJPbWOkQNPQ/BtrNWjiUH0BqFk/7ajAfQGTOTIgm8+U/y/e+R+v8C0DVdQ8ZooUeQACTV5+D/x9A3icz4jCPGUBubaEJit8hQPilgadNNxRAxvO6IslFFECGvwezudAAQJgKN5ZjCANAxlBo2lCtHEDiNc/my9YYQMrMz3M4pRtAV0/dITUAIUBAZ0rS7WOSPyr5Tc70ABNAc8xZUnOUEUDPcuyPM10PQBg82GsR8v0/N9Xytdq8E0A+a2PeOpEEQLUcEOp0L/w/6l6/O8vM6T92yvsLtbYiQC+6OB/d9wFAF2tDYosuHUADabTekSQTQIbF18O4Ww9AyvAfCyUgEECXG1e7EFERQF4XZ3oCJQNACquSfkRwHUC2rSzBxQIVQMpzdXN4Sfw/vBDk+hFuFkDJcVY5FGz0P+jUcVzLdvk/hcHqmgpJIECC8snYL1oDQCBhk9u65hhApnO2kgMNFkDp9qZ/OiAdQGe4ZmQyMxVAALs/7ceRIEB8BJQrOgUjQKFxQTpnUvI/9o77sT8kGkAf5XG660P9PyagDNeNZCBA2WdJ7sMJI0BJ6ZtKk/0fQMD0hHzqweo/9gGDjZ5i7j8y0eYXiWACQKemTc8KKCNAzC4pUqJbAUAq1JbOZyMGQMxtawnTywhANk5lNyIfGkCCi2ReV/YVQA==\",\"dtype\":\"float64\",\"shape\":[140]},\"y\":[-1,-1,-1,-1,-1,-1,-1,-1,-1,-1,-1,-1,-1,-1,-1,-1,-1,-1,-1,-1,-1,-1,-1,-1,-1,-1,-1,-1,-1,-1,-1,-1,-1,-1,-1,-1,-1,-1,-1,-1,-1,-1,-1,-1,-1,-1,-1,-1,-1,-1,-1,-1,-1,-1,-1,-1,-1,-1,-1,-1,-1,-1,-1,-1,-1,-1,-1,-1,-1,-1,-1,-1,-1,-1,-1,-1,-1,-1,-1,-1,-1,-1,-1,-1,-1,-1,-1,-1,-1,-1,-1,-1,-1,-1,-1,-1,-1,-1,-1,-1,-1,-1,-1,-1,-1,-1,-1,-1,-1,-1,-1,-1,-1,-1,-1,-1,-1,-1,-1,-1,-1,-1,-1,-1,-1,-1,-1,-1,-1,-1,-1,-1,-1,-1,-1,-1,-1,-1,-1,-1],\"y_values\":{\"__ndarray__\":\"gjKjELvSFkDvaipakYYYQG1S4srHkRVAiC+c8oTfFUAj+fUAwAMgQOYdKqkNvBtAGiNOPez2IkBOzIGrNMQjQI/fx0OD/yBA9VkjdcudIkAuVLnIW84PQCijTeO3siJA5eFHRqEaEkA1xI3+GwUYQBmFuf3/pvI/CFQu3dShEkBSqj/DRqYhQKbDEnnHmgFA5UbG1P1nIEBqpxgx3j70P0G8iXHNaRxAFNaTXbzoIEBqicoS0NMWQEZMxNvktPA//Om7Ad+6FUDYLlpkhGYcQIj0l6XbJcI/MSaLAYc/GUB/yHR2LPIWQFjXvp2thCFAKPsamVTuFkD9Lc+4LwMQQKbrLUUFsB9A5X7/2vLRH0B1oQzdNvgLQA6phhPsmhZAtO3GMSy9IEBm2BJQPP70P5KkpOTV5SBAOkYkDaUZB0CJn05aWoIbQGAXokQzBwBAgAZylbUW9D9orEAGERIgQCBX8g/LzAFAJjP6EE7CGEDwTLDGgS4ZQHbD5vpF7gZAoA+wHaKlAED8Fgb9CZsjQLOSlXe6XRhAkyvVlEM1IkCalkOLSpcjQOTu2SHFhgVAijTrd5smI0DBkeSLwWkLQLucAOx9cBRA5IyesWwxGkBUI7hQk0QjQFPaFuP6xA1AOtcnA9ntIECVYQ4xVioiQETox9G2FgpAe9o9YJ9aEkBrqDJ/Ev0jQEPbRa2FUB1Acnd0jnTlI0DeTYfH0AgeQIjbpalwmwBAB7lTEVSsEUCyGAutJPEcQED8Wr16AbY/dtWWTa3cEEDqKA/AHC4CQLK0pi/v9BZAVjJixzz3B0CFXRRmIoUVQC3tys+XLRxA7l7g17chD0BgYxeuHmcjQB3IPGqm2fE/jLe++yxc+T+N61QpIusjQEMySTW1IRtAuEmrt9V3FkDihObQ5CscQBIZcRaNdRRAd2RoRALjHkCQ5jDfym0bQOkFXJHDcRBAgNTFuu3KIkAyc71SGy4RQCykwff88hRAJF+RgwLhIkB0WHMb2DEiQCifI8ok1RBAU5BX5pMN/z/hx5EI6vsiQDseq4HpZhZAmo57yivi/j+VkVaoieoiQGuGBf2+jCFAdOYDLfm6GUCC7ZR9ixEAQKxqVzC9MxRAdob8BsyGIkC1ZqIeHLQfQGsihmzz8hBA8Mqs3y1NA0A0C6Mpj6YYQJHP0jUs5hFA0agUOmUOGUB3phKNhnYZQKOfq3W9rBJAXqXUHPS9D0CqLnGSiA7uPx56eiU2YhhAs6E54AzEH0B45JSYsH0UQAZfN7b16RZAF3nN23d8I0CaIs62Rm4WQE027HPUgBxAoLv11NhCIECuFsCo+HwgQDi42BnLjSJAnzm6kDjVEEDqGu05tCEPQK1vEV7x+SBAWTGrcBoeHUCUmBT8YKMfQPX402iRaxlArNsOYHYqAECKNuGIDQsMQOTtawAn3RBAkI+ryFoDC0CKP8gXO5gTQJjNlgx5TB5AxlkXOY1AI0Cc0GO5ypQhQA==\",\"dtype\":\"float64\",\"shape\":[140]}}},\"id\":\"a05fbc74-d375-424a-863b-20ae5294d241\",\"type\":\"ColumnDataSource\"},{\"attributes\":{\"fill_alpha\":{\"value\":0.7},\"fill_color\":{\"value\":\"orange\"},\"line_color\":{\"value\":\"orange\"},\"size\":{\"units\":\"screen\",\"value\":8},\"x\":{\"field\":\"x_values\"},\"y\":{\"field\":\"y_values\"}},\"id\":\"eb4f351a-4290-459d-8b3c-a8e1722c5d55\",\"type\":\"Square\"},{\"attributes\":{},\"id\":\"f41d4fcf-8203-4d24-848e-1525f1043d0a\",\"type\":\"BasicTickFormatter\"},{\"attributes\":{\"data_source\":{\"id\":\"2134c12a-7c21-4a7f-8b94-1cdec3a19c5e\",\"type\":\"ColumnDataSource\"},\"glyph\":{\"id\":\"eb4f351a-4290-459d-8b3c-a8e1722c5d55\",\"type\":\"Square\"},\"hover_glyph\":null,\"nonselection_glyph\":null,\"selection_glyph\":null},\"id\":\"3436a169-4b79-42bb-adaf-14892a40c67c\",\"type\":\"GlyphRenderer\"},{\"attributes\":{\"bottom_units\":\"screen\",\"fill_alpha\":{\"value\":0.5},\"fill_color\":{\"value\":\"lightgrey\"},\"left_units\":\"screen\",\"level\":\"overlay\",\"line_alpha\":{\"value\":1.0},\"line_color\":{\"value\":\"black\"},\"line_dash\":[4,4],\"line_width\":{\"value\":2},\"plot\":null,\"render_mode\":\"css\",\"right_units\":\"screen\",\"top_units\":\"screen\"},\"id\":\"f85beafe-ca0e-46a7-ac26-89b7bb4a6758\",\"type\":\"BoxAnnotation\"},{\"attributes\":{\"plot\":{\"id\":\"6dd0cdc0-d85b-45e9-a6d2-cc94a0b78e84\",\"subtype\":\"Chart\",\"type\":\"Plot\"}},\"id\":\"82f995b8-01b8-4a4d-b1b9-ebf97cf1cd6e\",\"type\":\"PanTool\"},{\"attributes\":{},\"id\":\"08f3575a-4516-46bd-b16d-12f80fda68a4\",\"type\":\"ToolEvents\"},{\"attributes\":{\"callback\":null,\"end\":10.985113911918898,\"start\":-0.9048720923815717},\"id\":\"09e74825-e6d5-4c98-a974-877b41aecd8d\",\"type\":\"Range1d\"},{\"attributes\":{},\"id\":\"6be9ea13-329a-4c17-8dc2-77ac3f2d1f92\",\"type\":\"BasicTicker\"},{\"attributes\":{\"plot\":{\"id\":\"6dd0cdc0-d85b-45e9-a6d2-cc94a0b78e84\",\"subtype\":\"Chart\",\"type\":\"Plot\"}},\"id\":\"4f70c5a4-dd49-4be4-88f9-d298b0dc12a0\",\"type\":\"SaveTool\"},{\"attributes\":{\"label\":{\"value\":\"1\"},\"renderers\":[{\"id\":\"3436a169-4b79-42bb-adaf-14892a40c67c\",\"type\":\"GlyphRenderer\"}]},\"id\":\"8cd89a46-c082-48c2-85e7-7275719e4beb\",\"type\":\"LegendItem\"},{\"attributes\":{\"plot\":null,\"text\":null},\"id\":\"b39403cb-ba95-4007-9c56-936e9f13a9b6\",\"type\":\"Title\"},{\"attributes\":{\"active_drag\":\"auto\",\"active_scroll\":\"auto\",\"active_tap\":\"auto\",\"tools\":[{\"id\":\"82f995b8-01b8-4a4d-b1b9-ebf97cf1cd6e\",\"type\":\"PanTool\"},{\"id\":\"6e765229-fba6-43f2-8fc7-0ad330e81a0f\",\"type\":\"WheelZoomTool\"},{\"id\":\"c904ee03-23b5-41ae-9b74-20dcf2b7fb26\",\"type\":\"BoxZoomTool\"},{\"id\":\"4f70c5a4-dd49-4be4-88f9-d298b0dc12a0\",\"type\":\"SaveTool\"},{\"id\":\"ea352755-e87d-4f89-a4d5-4391bfd98949\",\"type\":\"ResetTool\"},{\"id\":\"2dcf9f24-bee5-41ce-ab2c-d76c364bbf53\",\"type\":\"HelpTool\"}]},\"id\":\"9a55e479-4978-4ced-aa0c-f2279210670c\",\"type\":\"Toolbar\"},{\"attributes\":{\"axis_label\":\"x2\",\"formatter\":{\"id\":\"f520bbea-1451-405e-9d55-5a3aeb1eea61\",\"type\":\"BasicTickFormatter\"},\"plot\":{\"id\":\"6dd0cdc0-d85b-45e9-a6d2-cc94a0b78e84\",\"subtype\":\"Chart\",\"type\":\"Plot\"},\"ticker\":{\"id\":\"6be9ea13-329a-4c17-8dc2-77ac3f2d1f92\",\"type\":\"BasicTicker\"}},\"id\":\"6e4500e6-3f2c-40e8-8e3c-dc1ccaaa1988\",\"type\":\"LinearAxis\"},{\"attributes\":{\"plot\":{\"id\":\"6dd0cdc0-d85b-45e9-a6d2-cc94a0b78e84\",\"subtype\":\"Chart\",\"type\":\"Plot\"},\"ticker\":{\"id\":\"2d1c03de-d03c-4c98-a553-8b47751084d4\",\"type\":\"BasicTicker\"}},\"id\":\"60451b4b-4857-4795-ab28-c3e440f20ea6\",\"type\":\"Grid\"},{\"attributes\":{},\"id\":\"f520bbea-1451-405e-9d55-5a3aeb1eea61\",\"type\":\"BasicTickFormatter\"},{\"attributes\":{\"plot\":{\"id\":\"6dd0cdc0-d85b-45e9-a6d2-cc94a0b78e84\",\"subtype\":\"Chart\",\"type\":\"Plot\"}},\"id\":\"ea352755-e87d-4f89-a4d5-4391bfd98949\",\"type\":\"ResetTool\"},{\"attributes\":{\"plot\":{\"id\":\"6dd0cdc0-d85b-45e9-a6d2-cc94a0b78e84\",\"subtype\":\"Chart\",\"type\":\"Plot\"}},\"id\":\"2dcf9f24-bee5-41ce-ab2c-d76c364bbf53\",\"type\":\"HelpTool\"},{\"attributes\":{\"plot\":{\"id\":\"6dd0cdc0-d85b-45e9-a6d2-cc94a0b78e84\",\"subtype\":\"Chart\",\"type\":\"Plot\"}},\"id\":\"6e765229-fba6-43f2-8fc7-0ad330e81a0f\",\"type\":\"WheelZoomTool\"},{\"attributes\":{\"items\":[{\"id\":\"366a65ee-b74d-406a-8ca4-1b0b0563f7de\",\"type\":\"LegendItem\"},{\"id\":\"8cd89a46-c082-48c2-85e7-7275719e4beb\",\"type\":\"LegendItem\"}],\"location\":\"top_left\",\"plot\":{\"id\":\"6dd0cdc0-d85b-45e9-a6d2-cc94a0b78e84\",\"subtype\":\"Chart\",\"type\":\"Plot\"}},\"id\":\"ee07f661-3d36-457d-b8f3-e185f37a11eb\",\"type\":\"Legend\"},{\"attributes\":{\"dimension\":1,\"plot\":{\"id\":\"6dd0cdc0-d85b-45e9-a6d2-cc94a0b78e84\",\"subtype\":\"Chart\",\"type\":\"Plot\"},\"ticker\":{\"id\":\"6be9ea13-329a-4c17-8dc2-77ac3f2d1f92\",\"type\":\"BasicTicker\"}},\"id\":\"b9e91e63-c74e-465c-a24e-9f5f7d4fabe2\",\"type\":\"Grid\"},{\"attributes\":{\"below\":[{\"id\":\"3d7167ee-15c5-4949-b367-0e28e822bd8f\",\"type\":\"LinearAxis\"}],\"css_classes\":null,\"height\":400,\"left\":[{\"id\":\"6e4500e6-3f2c-40e8-8e3c-dc1ccaaa1988\",\"type\":\"LinearAxis\"}],\"renderers\":[{\"id\":\"f85beafe-ca0e-46a7-ac26-89b7bb4a6758\",\"type\":\"BoxAnnotation\"},{\"id\":\"771b79d8-f0f0-4a42-876a-892eb67d3783\",\"type\":\"GlyphRenderer\"},{\"id\":\"3436a169-4b79-42bb-adaf-14892a40c67c\",\"type\":\"GlyphRenderer\"},{\"id\":\"ee07f661-3d36-457d-b8f3-e185f37a11eb\",\"type\":\"Legend\"},{\"id\":\"3d7167ee-15c5-4949-b367-0e28e822bd8f\",\"type\":\"LinearAxis\"},{\"id\":\"6e4500e6-3f2c-40e8-8e3c-dc1ccaaa1988\",\"type\":\"LinearAxis\"},{\"id\":\"60451b4b-4857-4795-ab28-c3e440f20ea6\",\"type\":\"Grid\"},{\"id\":\"b9e91e63-c74e-465c-a24e-9f5f7d4fabe2\",\"type\":\"Grid\"}],\"title\":{\"id\":\"b39403cb-ba95-4007-9c56-936e9f13a9b6\",\"type\":\"Title\"},\"tool_events\":{\"id\":\"08f3575a-4516-46bd-b16d-12f80fda68a4\",\"type\":\"ToolEvents\"},\"toolbar\":{\"id\":\"9a55e479-4978-4ced-aa0c-f2279210670c\",\"type\":\"Toolbar\"},\"width\":750,\"x_mapper_type\":\"auto\",\"x_range\":{\"id\":\"d75b4629-cc1b-4cc7-98dd-ba772a53e78f\",\"type\":\"Range1d\"},\"y_mapper_type\":\"auto\",\"y_range\":{\"id\":\"09e74825-e6d5-4c98-a974-877b41aecd8d\",\"type\":\"Range1d\"}},\"id\":\"6dd0cdc0-d85b-45e9-a6d2-cc94a0b78e84\",\"subtype\":\"Chart\",\"type\":\"Plot\"},{\"attributes\":{\"callback\":null,\"end\":10.805574219714464,\"start\":-0.9627329394158319},\"id\":\"d75b4629-cc1b-4cc7-98dd-ba772a53e78f\",\"type\":\"Range1d\"}],\"root_ids\":[\"6dd0cdc0-d85b-45e9-a6d2-cc94a0b78e84\"]},\"title\":\"Bokeh Application\",\"version\":\"0.12.4\"}};\n",
       "            var render_items = [{\"docid\":\"34d1b414-f407-4438-b275-91d7ac134625\",\"elementid\":\"f3ec49f1-5202-4f1d-b174-5afa4a848a8e\",\"modelid\":\"6dd0cdc0-d85b-45e9-a6d2-cc94a0b78e84\"}];\n",
       "            \n",
       "            Bokeh.embed.embed_items(docs_json, render_items);\n",
       "          };\n",
       "          if (document.readyState != \"loading\") fn();\n",
       "          else document.addEventListener(\"DOMContentLoaded\", fn);\n",
       "        })();\n",
       "      },\n",
       "      function(Bokeh) {\n",
       "      }\n",
       "    ];\n",
       "  \n",
       "    function run_inline_js() {\n",
       "      \n",
       "      if ((window.Bokeh !== undefined) || (force === true)) {\n",
       "        for (var i = 0; i < inline_js.length; i++) {\n",
       "          inline_js[i](window.Bokeh);\n",
       "        }if (force === true) {\n",
       "          display_loaded();\n",
       "        }} else if (Date.now() < window._bokeh_timeout) {\n",
       "        setTimeout(run_inline_js, 100);\n",
       "      } else if (!window._bokeh_failed_load) {\n",
       "        console.log(\"Bokeh: BokehJS failed to load within specified timeout.\");\n",
       "        window._bokeh_failed_load = true;\n",
       "      } else if (force !== true) {\n",
       "        var cell = $(document.getElementById(\"f3ec49f1-5202-4f1d-b174-5afa4a848a8e\")).parents('.cell').data().cell;\n",
       "        cell.output_area.append_execute_result(NB_LOAD_WARNING)\n",
       "      }\n",
       "  \n",
       "    }\n",
       "  \n",
       "    if (window._bokeh_is_loading === 0) {\n",
       "      console.log(\"Bokeh: BokehJS loaded, going straight to plotting\");\n",
       "      run_inline_js();\n",
       "    } else {\n",
       "      load_libs(js_urls, function() {\n",
       "        console.log(\"Bokeh: BokehJS plotting callback run at\", now());\n",
       "        run_inline_js();\n",
       "      });\n",
       "    }\n",
       "  }(this));\n",
       "</script>"
      ]
     },
     "metadata": {},
     "output_type": "display_data"
    }
   ],
   "source": [
    "show(Scatter(\n",
    "    {'x1': x1, 'x2': x2, 'y': y}, \n",
    "    x='x1', y='x2', color='y', marker='y', palette=['lightblue', 'orange'],\n",
    "    width=750, height=400\n",
    "))"
   ]
  },
  {
   "cell_type": "markdown",
   "metadata": {
    "deletable": true,
    "editable": true,
    "slideshow": {
     "slide_type": "slide"
    }
   },
   "source": [
    "### Support Vector Machines a la `scikit-learn`"
   ]
  },
  {
   "cell_type": "code",
   "execution_count": 16,
   "metadata": {
    "collapsed": false,
    "deletable": true,
    "editable": true,
    "scrolled": true,
    "slideshow": {
     "slide_type": "subslide"
    }
   },
   "outputs": [
    {
     "data": {
      "text/plain": [
       "SVC(C=1.0, cache_size=200, class_weight=None, coef0=0.0,\n",
       "  decision_function_shape=None, degree=3, gamma='auto', kernel='linear',\n",
       "  max_iter=-1, probability=False, random_state=None, shrinking=True,\n",
       "  tol=0.001, verbose=False)"
      ]
     },
     "execution_count": 16,
     "metadata": {},
     "output_type": "execute_result"
    }
   ],
   "source": [
    "from sklearn import svm\n",
    "clf = svm.SVC(kernel='linear')\n",
    "clf.fit(X, y)"
   ]
  },
  {
   "cell_type": "markdown",
   "metadata": {
    "deletable": true,
    "editable": true,
    "slideshow": {
     "slide_type": "subslide"
    }
   },
   "source": [
    "The SVM coefficients give us a separating hyperplane with minimum classification error.\n",
    "\n",
    "$$b + w'x = 0$$"
   ]
  },
  {
   "cell_type": "code",
   "execution_count": 17,
   "metadata": {
    "collapsed": false,
    "deletable": true,
    "editable": true,
    "slideshow": {
     "slide_type": "fragment"
    }
   },
   "outputs": [
    {
     "name": "stdout",
     "output_type": "stream",
     "text": [
      "b = -1.00015611688\n",
      "w = [ 0.00013977 -0.00025048]\n"
     ]
    }
   ],
   "source": [
    "print('b =', clf.intercept_[0])\n",
    "print('w =', clf.coef_[0])"
   ]
  },
  {
   "cell_type": "markdown",
   "metadata": {
    "deletable": true,
    "editable": true,
    "slideshow": {
     "slide_type": "subslide"
    }
   },
   "source": [
    "We classify a point $x = (x_1, x_2)'$ based on which side of that hyperplane it is on.  \n",
    "  \n",
    "\n",
    "$$b + w'x \\ge 0\\ \\rightarrow\\ \\text{Type +1}$$  \n",
    "$$b + w'x < 0\\ \\rightarrow\\ \\text{Type -1}$$ "
   ]
  },
  {
   "cell_type": "code",
   "execution_count": 18,
   "metadata": {
    "collapsed": false,
    "deletable": true,
    "editable": true,
    "slideshow": {
     "slide_type": "fragment"
    }
   },
   "outputs": [
    {
     "name": "stdout",
     "output_type": "stream",
     "text": [
      "confusion matrix:\n"
     ]
    },
    {
     "data": {
      "text/plain": [
       "array([[140,   0],\n",
       "       [ 10,   0]])"
      ]
     },
     "execution_count": 18,
     "metadata": {},
     "output_type": "execute_result"
    }
   ],
   "source": [
    "from sklearn import metrics\n",
    "\n",
    "y_hat = clf.predict(X)\n",
    "\n",
    "print('confusion matrix:')\n",
    "metrics.confusion_matrix(y_true=y, y_pred=y_hat)"
   ]
  },
  {
   "cell_type": "code",
   "execution_count": 19,
   "metadata": {
    "collapsed": false,
    "deletable": true,
    "editable": true,
    "slideshow": {
     "slide_type": "subslide"
    }
   },
   "outputs": [],
   "source": [
    "# We need a function to plot classifications and the separating hyperplane.\n",
    "def plot_svm_results(correct, b_val, w1_val, w2_val):\n",
    "    # Classifications\n",
    "    plot = Scatter(\n",
    "        {'x1': x1, 'x2': x2, 'y': y, 'correct': correct}, \n",
    "        x='x1', y='x2', \n",
    "        color='correct', palette=['lightgrey', 'darkred'], marker='correct',\n",
    "        width=750, height=400\n",
    "    )\n",
    "\n",
    "    # Separating hyperplane: x2 = -(b + (w1*x1)) / w2\n",
    "    hyperplane_x1 = np.linspace(0, 10)\n",
    "    hyperplane_x2 = [\n",
    "        -(b_val + (w1_val * x1_i)) / w2_val for x1_i in hyperplane_x1\n",
    "    ]\n",
    "    plot.line(hyperplane_x1, hyperplane_x2, color='darkblue')\n",
    "    show(plot)"
   ]
  },
  {
   "cell_type": "markdown",
   "metadata": {
    "deletable": true,
    "editable": true,
    "slideshow": {
     "slide_type": "subslide"
    }
   },
   "source": [
    "How'd scikit-learn do?"
   ]
  },
  {
   "cell_type": "code",
   "execution_count": 20,
   "metadata": {
    "collapsed": false,
    "deletable": true,
    "editable": true,
    "slideshow": {
     "slide_type": "-"
    }
   },
   "outputs": [
    {
     "data": {
      "text/html": [
       "\n",
       "\n",
       "    <div class=\"bk-root\">\n",
       "        <div class=\"bk-plotdiv\" id=\"b50ab0f4-a896-4bcb-8f9c-21350715ec5f\"></div>\n",
       "    </div>\n",
       "<script type=\"text/javascript\">\n",
       "  \n",
       "  (function(global) {\n",
       "    function now() {\n",
       "      return new Date();\n",
       "    }\n",
       "  \n",
       "    var force = false;\n",
       "  \n",
       "    if (typeof (window._bokeh_onload_callbacks) === \"undefined\" || force === true) {\n",
       "      window._bokeh_onload_callbacks = [];\n",
       "      window._bokeh_is_loading = undefined;\n",
       "    }\n",
       "  \n",
       "  \n",
       "    \n",
       "    if (typeof (window._bokeh_timeout) === \"undefined\" || force === true) {\n",
       "      window._bokeh_timeout = Date.now() + 0;\n",
       "      window._bokeh_failed_load = false;\n",
       "    }\n",
       "  \n",
       "    var NB_LOAD_WARNING = {'data': {'text/html':\n",
       "       \"<div style='background-color: #fdd'>\\n\"+\n",
       "       \"<p>\\n\"+\n",
       "       \"BokehJS does not appear to have successfully loaded. If loading BokehJS from CDN, this \\n\"+\n",
       "       \"may be due to a slow or bad network connection. Possible fixes:\\n\"+\n",
       "       \"</p>\\n\"+\n",
       "       \"<ul>\\n\"+\n",
       "       \"<li>re-rerun `output_notebook()` to attempt to load from CDN again, or</li>\\n\"+\n",
       "       \"<li>use INLINE resources instead, as so:</li>\\n\"+\n",
       "       \"</ul>\\n\"+\n",
       "       \"<code>\\n\"+\n",
       "       \"from bokeh.resources import INLINE\\n\"+\n",
       "       \"output_notebook(resources=INLINE)\\n\"+\n",
       "       \"</code>\\n\"+\n",
       "       \"</div>\"}};\n",
       "  \n",
       "    function display_loaded() {\n",
       "      if (window.Bokeh !== undefined) {\n",
       "        document.getElementById(\"b50ab0f4-a896-4bcb-8f9c-21350715ec5f\").textContent = \"BokehJS successfully loaded.\";\n",
       "      } else if (Date.now() < window._bokeh_timeout) {\n",
       "        setTimeout(display_loaded, 100)\n",
       "      }\n",
       "    }\n",
       "  \n",
       "    function run_callbacks() {\n",
       "      window._bokeh_onload_callbacks.forEach(function(callback) { callback() });\n",
       "      delete window._bokeh_onload_callbacks\n",
       "      console.info(\"Bokeh: all callbacks have finished\");\n",
       "    }\n",
       "  \n",
       "    function load_libs(js_urls, callback) {\n",
       "      window._bokeh_onload_callbacks.push(callback);\n",
       "      if (window._bokeh_is_loading > 0) {\n",
       "        console.log(\"Bokeh: BokehJS is being loaded, scheduling callback at\", now());\n",
       "        return null;\n",
       "      }\n",
       "      if (js_urls == null || js_urls.length === 0) {\n",
       "        run_callbacks();\n",
       "        return null;\n",
       "      }\n",
       "      console.log(\"Bokeh: BokehJS not loaded, scheduling load and callback at\", now());\n",
       "      window._bokeh_is_loading = js_urls.length;\n",
       "      for (var i = 0; i < js_urls.length; i++) {\n",
       "        var url = js_urls[i];\n",
       "        var s = document.createElement('script');\n",
       "        s.src = url;\n",
       "        s.async = false;\n",
       "        s.onreadystatechange = s.onload = function() {\n",
       "          window._bokeh_is_loading--;\n",
       "          if (window._bokeh_is_loading === 0) {\n",
       "            console.log(\"Bokeh: all BokehJS libraries loaded\");\n",
       "            run_callbacks()\n",
       "          }\n",
       "        };\n",
       "        s.onerror = function() {\n",
       "          console.warn(\"failed to load library \" + url);\n",
       "        };\n",
       "        console.log(\"Bokeh: injecting script tag for BokehJS library: \", url);\n",
       "        document.getElementsByTagName(\"head\")[0].appendChild(s);\n",
       "      }\n",
       "    };var element = document.getElementById(\"b50ab0f4-a896-4bcb-8f9c-21350715ec5f\");\n",
       "    if (element == null) {\n",
       "      console.log(\"Bokeh: ERROR: autoload.js configured with elementid 'b50ab0f4-a896-4bcb-8f9c-21350715ec5f' but no matching script tag was found. \")\n",
       "      return false;\n",
       "    }\n",
       "  \n",
       "    var js_urls = [];\n",
       "  \n",
       "    var inline_js = [\n",
       "      function(Bokeh) {\n",
       "        (function() {\n",
       "          var fn = function() {\n",
       "            var docs_json = {\"5e427e4e-e7c0-454a-a777-2c134e754408\":{\"roots\":{\"references\":[{\"attributes\":{\"plot\":{\"id\":\"cd31f0a6-437f-498d-a632-3bf19e84ad6d\",\"subtype\":\"Chart\",\"type\":\"Plot\"}},\"id\":\"73c65d90-e8ac-4673-8a13-6c4c45037b3f\",\"type\":\"WheelZoomTool\"},{\"attributes\":{\"data_source\":{\"id\":\"10010256-6f2e-4090-a040-60439b1ac96c\",\"type\":\"ColumnDataSource\"},\"glyph\":{\"id\":\"652b81c9-173e-4468-a5c7-174c085fabe7\",\"type\":\"Line\"},\"hover_glyph\":null,\"nonselection_glyph\":{\"id\":\"50249285-df14-41b7-827b-b679cc974af9\",\"type\":\"Line\"},\"selection_glyph\":null},\"id\":\"058c9cbf-5d0e-4c71-ab26-9ea21d95a842\",\"type\":\"GlyphRenderer\"},{\"attributes\":{\"plot\":{\"id\":\"cd31f0a6-437f-498d-a632-3bf19e84ad6d\",\"subtype\":\"Chart\",\"type\":\"Plot\"}},\"id\":\"77953b1a-367c-4bad-ac07-329e6433b6d6\",\"type\":\"PanTool\"},{\"attributes\":{},\"id\":\"d75faa4f-c581-497b-8196-481b182af6a1\",\"type\":\"BasicTicker\"},{\"attributes\":{\"plot\":{\"id\":\"cd31f0a6-437f-498d-a632-3bf19e84ad6d\",\"subtype\":\"Chart\",\"type\":\"Plot\"},\"ticker\":{\"id\":\"d75faa4f-c581-497b-8196-481b182af6a1\",\"type\":\"BasicTicker\"}},\"id\":\"bda3d726-69ad-4d75-8b6f-80cefdab9d70\",\"type\":\"Grid\"},{\"attributes\":{\"callback\":null,\"column_names\":[\"x_values\",\"y_values\"],\"data\":{\"chart_index\":[{\"correct\":\"Correct\"},{\"correct\":\"Correct\"},{\"correct\":\"Correct\"},{\"correct\":\"Correct\"},{\"correct\":\"Correct\"},{\"correct\":\"Correct\"},{\"correct\":\"Correct\"},{\"correct\":\"Correct\"},{\"correct\":\"Correct\"},{\"correct\":\"Correct\"},{\"correct\":\"Correct\"},{\"correct\":\"Correct\"},{\"correct\":\"Correct\"},{\"correct\":\"Correct\"},{\"correct\":\"Correct\"},{\"correct\":\"Correct\"},{\"correct\":\"Correct\"},{\"correct\":\"Correct\"},{\"correct\":\"Correct\"},{\"correct\":\"Correct\"},{\"correct\":\"Correct\"},{\"correct\":\"Correct\"},{\"correct\":\"Correct\"},{\"correct\":\"Correct\"},{\"correct\":\"Correct\"},{\"correct\":\"Correct\"},{\"correct\":\"Correct\"},{\"correct\":\"Correct\"},{\"correct\":\"Correct\"},{\"correct\":\"Correct\"},{\"correct\":\"Correct\"},{\"correct\":\"Correct\"},{\"correct\":\"Correct\"},{\"correct\":\"Correct\"},{\"correct\":\"Correct\"},{\"correct\":\"Correct\"},{\"correct\":\"Correct\"},{\"correct\":\"Correct\"},{\"correct\":\"Correct\"},{\"correct\":\"Correct\"},{\"correct\":\"Correct\"},{\"correct\":\"Correct\"},{\"correct\":\"Correct\"},{\"correct\":\"Correct\"},{\"correct\":\"Correct\"},{\"correct\":\"Correct\"},{\"correct\":\"Correct\"},{\"correct\":\"Correct\"},{\"correct\":\"Correct\"},{\"correct\":\"Correct\"},{\"correct\":\"Correct\"},{\"correct\":\"Correct\"},{\"correct\":\"Correct\"},{\"correct\":\"Correct\"},{\"correct\":\"Correct\"},{\"correct\":\"Correct\"},{\"correct\":\"Correct\"},{\"correct\":\"Correct\"},{\"correct\":\"Correct\"},{\"correct\":\"Correct\"},{\"correct\":\"Correct\"},{\"correct\":\"Correct\"},{\"correct\":\"Correct\"},{\"correct\":\"Correct\"},{\"correct\":\"Correct\"},{\"correct\":\"Correct\"},{\"correct\":\"Correct\"},{\"correct\":\"Correct\"},{\"correct\":\"Correct\"},{\"correct\":\"Correct\"},{\"correct\":\"Correct\"},{\"correct\":\"Correct\"},{\"correct\":\"Correct\"},{\"correct\":\"Correct\"},{\"correct\":\"Correct\"},{\"correct\":\"Correct\"},{\"correct\":\"Correct\"},{\"correct\":\"Correct\"},{\"correct\":\"Correct\"},{\"correct\":\"Correct\"},{\"correct\":\"Correct\"},{\"correct\":\"Correct\"},{\"correct\":\"Correct\"},{\"correct\":\"Correct\"},{\"correct\":\"Correct\"},{\"correct\":\"Correct\"},{\"correct\":\"Correct\"},{\"correct\":\"Correct\"},{\"correct\":\"Correct\"},{\"correct\":\"Correct\"},{\"correct\":\"Correct\"},{\"correct\":\"Correct\"},{\"correct\":\"Correct\"},{\"correct\":\"Correct\"},{\"correct\":\"Correct\"},{\"correct\":\"Correct\"},{\"correct\":\"Correct\"},{\"correct\":\"Correct\"},{\"correct\":\"Correct\"},{\"correct\":\"Correct\"},{\"correct\":\"Correct\"},{\"correct\":\"Correct\"},{\"correct\":\"Correct\"},{\"correct\":\"Correct\"},{\"correct\":\"Correct\"},{\"correct\":\"Correct\"},{\"correct\":\"Correct\"},{\"correct\":\"Correct\"},{\"correct\":\"Correct\"},{\"correct\":\"Correct\"},{\"correct\":\"Correct\"},{\"correct\":\"Correct\"},{\"correct\":\"Correct\"},{\"correct\":\"Correct\"},{\"correct\":\"Correct\"},{\"correct\":\"Correct\"},{\"correct\":\"Correct\"},{\"correct\":\"Correct\"},{\"correct\":\"Correct\"},{\"correct\":\"Correct\"},{\"correct\":\"Correct\"},{\"correct\":\"Correct\"},{\"correct\":\"Correct\"},{\"correct\":\"Correct\"},{\"correct\":\"Correct\"},{\"correct\":\"Correct\"},{\"correct\":\"Correct\"},{\"correct\":\"Correct\"},{\"correct\":\"Correct\"},{\"correct\":\"Correct\"},{\"correct\":\"Correct\"},{\"correct\":\"Correct\"},{\"correct\":\"Correct\"},{\"correct\":\"Correct\"},{\"correct\":\"Correct\"},{\"correct\":\"Correct\"},{\"correct\":\"Correct\"},{\"correct\":\"Correct\"},{\"correct\":\"Correct\"},{\"correct\":\"Correct\"}],\"correct\":[\"Correct\",\"Correct\",\"Correct\",\"Correct\",\"Correct\",\"Correct\",\"Correct\",\"Correct\",\"Correct\",\"Correct\",\"Correct\",\"Correct\",\"Correct\",\"Correct\",\"Correct\",\"Correct\",\"Correct\",\"Correct\",\"Correct\",\"Correct\",\"Correct\",\"Correct\",\"Correct\",\"Correct\",\"Correct\",\"Correct\",\"Correct\",\"Correct\",\"Correct\",\"Correct\",\"Correct\",\"Correct\",\"Correct\",\"Correct\",\"Correct\",\"Correct\",\"Correct\",\"Correct\",\"Correct\",\"Correct\",\"Correct\",\"Correct\",\"Correct\",\"Correct\",\"Correct\",\"Correct\",\"Correct\",\"Correct\",\"Correct\",\"Correct\",\"Correct\",\"Correct\",\"Correct\",\"Correct\",\"Correct\",\"Correct\",\"Correct\",\"Correct\",\"Correct\",\"Correct\",\"Correct\",\"Correct\",\"Correct\",\"Correct\",\"Correct\",\"Correct\",\"Correct\",\"Correct\",\"Correct\",\"Correct\",\"Correct\",\"Correct\",\"Correct\",\"Correct\",\"Correct\",\"Correct\",\"Correct\",\"Correct\",\"Correct\",\"Correct\",\"Correct\",\"Correct\",\"Correct\",\"Correct\",\"Correct\",\"Correct\",\"Correct\",\"Correct\",\"Correct\",\"Correct\",\"Correct\",\"Correct\",\"Correct\",\"Correct\",\"Correct\",\"Correct\",\"Correct\",\"Correct\",\"Correct\",\"Correct\",\"Correct\",\"Correct\",\"Correct\",\"Correct\",\"Correct\",\"Correct\",\"Correct\",\"Correct\",\"Correct\",\"Correct\",\"Correct\",\"Correct\",\"Correct\",\"Correct\",\"Correct\",\"Correct\",\"Correct\",\"Correct\",\"Correct\",\"Correct\",\"Correct\",\"Correct\",\"Correct\",\"Correct\",\"Correct\",\"Correct\",\"Correct\",\"Correct\",\"Correct\",\"Correct\",\"Correct\",\"Correct\",\"Correct\",\"Correct\",\"Correct\",\"Correct\",\"Correct\",\"Correct\",\"Correct\",\"Correct\"],\"x_values\":{\"__ndarray__\":\"5muevVoG6T+E4bcywlnbP+514gwmpxRAX8Xr7kQF9j9N1kMTOHPxP5LOHwjyRyJAltAyzvLUHUBmi/+mpGDyP3VbiTuPYPY/bhyAifdaHUDNj70Uq78WQO3Q3tLPdB9AA0CTTvGdGUAwTBlUltXDP16yOQSHyhhAMLkE8LUKIECwoAShHmwbQOWiZNUyQRBArwvHFAmQ9j8u3WNVQg8WQEB7Q9uo2wlAb0YAo8bSEkCWw4JZKrQLQLjstwvd2eI/nrgDVOlRIUDctbHKorgVQHgoV/w8IANAHyqlRVebGkBwxTGIa5QUQEYtqj71gARARlJfcsRwE0CDyYn/UkgWQH7BNvhhDCFAWJKm1z3lIED21PuDS04ZQHB3N2yu1/E/7DBCQJPEEUB+dm8ilRL9P1TQNdihMR5AkIQXhzffH0AmuPcDzdQIQLGyOl1BUAhATOAmlf/HHUDGvZnAaJIiQKjjcTfKccE/tg6E7VamI0AjEk8/g10jQIZ5LXwDgSNANeK+2GvBIkAvQAH8vlL9Pwt0LSK4YRJAHvMPARJeHkAIC/i8pmwiQDc3uXBouwFAQriESfGtDECyDT62ZSoVQCD3+jZxuRZA5gOjQvMH4j9h8yU0aWAEQJShcQ8g4xxAfqHIoAzEIECg2v60cnsNQGWNP5HfBBNA3vqv+U7zDEAeeA9xl4wjQKINPtzN0hBAVsbLlkGhCUAomHTXrccHQKB0bsG1BhdAfvbeupz6HED7rFlJFI0hQFGCeOMMrQtAAvoOgodLEEBX8h9uCRD0P0HDAZebZxlAzhZCflOrGEArvulq2AcYQJPbWOkQNPQ/BtrNWjiUH0BqFk/7ajAfQGTOTIgm8+U/y/e+R+v8C0DVdQ8ZooUeQACTV5+D/x9A3icz4jCPGUBubaEJit8hQPilgadNNxRAxvO6IslFFECGvwezudAAQJgKN5ZjCANAxlBo2lCtHEDiNc/my9YYQMrMz3M4pRtAV0/dITUAIUBAZ0rS7WOSPyr5Tc70ABNAc8xZUnOUEUDPcuyPM10PQBg82GsR8v0/N9Xytdq8E0A+a2PeOpEEQLUcEOp0L/w/6l6/O8vM6T92yvsLtbYiQC+6OB/d9wFAF2tDYosuHUADabTekSQTQIbF18O4Ww9AyvAfCyUgEECXG1e7EFERQF4XZ3oCJQNACquSfkRwHUC2rSzBxQIVQMpzdXN4Sfw/vBDk+hFuFkDJcVY5FGz0P+jUcVzLdvk/hcHqmgpJIECC8snYL1oDQCBhk9u65hhApnO2kgMNFkDp9qZ/OiAdQGe4ZmQyMxVAALs/7ceRIEB8BJQrOgUjQKFxQTpnUvI/9o77sT8kGkAf5XG660P9PyagDNeNZCBA2WdJ7sMJI0BJ6ZtKk/0fQMD0hHzqweo/9gGDjZ5i7j8y0eYXiWACQKemTc8KKCNAzC4pUqJbAUAq1JbOZyMGQMxtawnTywhANk5lNyIfGkCCi2ReV/YVQA==\",\"dtype\":\"float64\",\"shape\":[140]},\"y_values\":{\"__ndarray__\":\"gjKjELvSFkDvaipakYYYQG1S4srHkRVAiC+c8oTfFUAj+fUAwAMgQOYdKqkNvBtAGiNOPez2IkBOzIGrNMQjQI/fx0OD/yBA9VkjdcudIkAuVLnIW84PQCijTeO3siJA5eFHRqEaEkA1xI3+GwUYQBmFuf3/pvI/CFQu3dShEkBSqj/DRqYhQKbDEnnHmgFA5UbG1P1nIEBqpxgx3j70P0G8iXHNaRxAFNaTXbzoIEBqicoS0NMWQEZMxNvktPA//Om7Ad+6FUDYLlpkhGYcQIj0l6XbJcI/MSaLAYc/GUB/yHR2LPIWQFjXvp2thCFAKPsamVTuFkD9Lc+4LwMQQKbrLUUFsB9A5X7/2vLRH0B1oQzdNvgLQA6phhPsmhZAtO3GMSy9IEBm2BJQPP70P5KkpOTV5SBAOkYkDaUZB0CJn05aWoIbQGAXokQzBwBAgAZylbUW9D9orEAGERIgQCBX8g/LzAFAJjP6EE7CGEDwTLDGgS4ZQHbD5vpF7gZAoA+wHaKlAED8Fgb9CZsjQLOSlXe6XRhAkyvVlEM1IkCalkOLSpcjQOTu2SHFhgVAijTrd5smI0DBkeSLwWkLQLucAOx9cBRA5IyesWwxGkBUI7hQk0QjQFPaFuP6xA1AOtcnA9ntIECVYQ4xVioiQETox9G2FgpAe9o9YJ9aEkBrqDJ/Ev0jQEPbRa2FUB1Acnd0jnTlI0DeTYfH0AgeQIjbpalwmwBAB7lTEVSsEUCyGAutJPEcQED8Wr16AbY/dtWWTa3cEEDqKA/AHC4CQLK0pi/v9BZAVjJixzz3B0CFXRRmIoUVQC3tys+XLRxA7l7g17chD0BgYxeuHmcjQB3IPGqm2fE/jLe++yxc+T+N61QpIusjQEMySTW1IRtAuEmrt9V3FkDihObQ5CscQBIZcRaNdRRAd2RoRALjHkCQ5jDfym0bQOkFXJHDcRBAgNTFuu3KIkAyc71SGy4RQCykwff88hRAJF+RgwLhIkB0WHMb2DEiQCifI8ok1RBAU5BX5pMN/z/hx5EI6vsiQDseq4HpZhZAmo57yivi/j+VkVaoieoiQGuGBf2+jCFAdOYDLfm6GUCC7ZR9ixEAQKxqVzC9MxRAdob8BsyGIkC1ZqIeHLQfQGsihmzz8hBA8Mqs3y1NA0A0C6Mpj6YYQJHP0jUs5hFA0agUOmUOGUB3phKNhnYZQKOfq3W9rBJAXqXUHPS9D0CqLnGSiA7uPx56eiU2YhhAs6E54AzEH0B45JSYsH0UQAZfN7b16RZAF3nN23d8I0CaIs62Rm4WQE027HPUgBxAoLv11NhCIECuFsCo+HwgQDi42BnLjSJAnzm6kDjVEEDqGu05tCEPQK1vEV7x+SBAWTGrcBoeHUCUmBT8YKMfQPX402iRaxlArNsOYHYqAECKNuGIDQsMQOTtawAn3RBAkI+ryFoDC0CKP8gXO5gTQJjNlgx5TB5AxlkXOY1AI0Cc0GO5ypQhQA==\",\"dtype\":\"float64\",\"shape\":[140]}}},\"id\":\"2d906489-baa6-4d90-b443-44ed4687d2e7\",\"type\":\"ColumnDataSource\"},{\"attributes\":{\"plot\":null,\"text\":null},\"id\":\"724056c0-58ed-49a2-8889-b5ccc72ea0db\",\"type\":\"Title\"},{\"attributes\":{\"callback\":null,\"end\":10.805574219714464,\"start\":-0.9627329394158319},\"id\":\"198fd240-2a37-48bd-a5f3-5713addebead\",\"type\":\"Range1d\"},{\"attributes\":{\"data_source\":{\"id\":\"2d906489-baa6-4d90-b443-44ed4687d2e7\",\"type\":\"ColumnDataSource\"},\"glyph\":{\"id\":\"a5564efa-a935-441b-a5d6-d3126e906bc6\",\"type\":\"Circle\"},\"hover_glyph\":null,\"nonselection_glyph\":null,\"selection_glyph\":null},\"id\":\"a8fd49b2-cae9-4e72-bbd6-f25f4f807877\",\"type\":\"GlyphRenderer\"},{\"attributes\":{\"fill_alpha\":{\"value\":0.7},\"fill_color\":{\"value\":\"lightgrey\"},\"line_color\":{\"value\":\"lightgrey\"},\"size\":{\"units\":\"screen\",\"value\":8},\"x\":{\"field\":\"x_values\"},\"y\":{\"field\":\"y_values\"}},\"id\":\"a5564efa-a935-441b-a5d6-d3126e906bc6\",\"type\":\"Circle\"},{\"attributes\":{\"line_alpha\":{\"value\":0.1},\"line_color\":{\"value\":\"#1f77b4\"},\"x\":{\"field\":\"x\"},\"y\":{\"field\":\"y\"}},\"id\":\"50249285-df14-41b7-827b-b679cc974af9\",\"type\":\"Line\"},{\"attributes\":{},\"id\":\"843c0ad9-4c98-464b-a119-53133f4b663d\",\"type\":\"BasicTickFormatter\"},{\"attributes\":{\"bottom_units\":\"screen\",\"fill_alpha\":{\"value\":0.5},\"fill_color\":{\"value\":\"lightgrey\"},\"left_units\":\"screen\",\"level\":\"overlay\",\"line_alpha\":{\"value\":1.0},\"line_color\":{\"value\":\"black\"},\"line_dash\":[4,4],\"line_width\":{\"value\":2},\"plot\":null,\"render_mode\":\"css\",\"right_units\":\"screen\",\"top_units\":\"screen\"},\"id\":\"8c00fc4b-f1d3-455b-943e-82468e5cba02\",\"type\":\"BoxAnnotation\"},{\"attributes\":{\"fill_alpha\":{\"value\":0.7},\"fill_color\":{\"value\":\"darkred\"},\"line_color\":{\"value\":\"darkred\"},\"size\":{\"units\":\"screen\",\"value\":8},\"x\":{\"field\":\"x_values\"},\"y\":{\"field\":\"y_values\"}},\"id\":\"91160de2-a131-46d1-a4ca-24e43147edad\",\"type\":\"Square\"},{\"attributes\":{\"callback\":null,\"end\":10.985113911918898,\"start\":-0.9048720923815717},\"id\":\"46f70218-bb80-4feb-b1bf-55a3b48dcb96\",\"type\":\"Range1d\"},{\"attributes\":{\"active_drag\":\"auto\",\"active_scroll\":\"auto\",\"active_tap\":\"auto\",\"tools\":[{\"id\":\"77953b1a-367c-4bad-ac07-329e6433b6d6\",\"type\":\"PanTool\"},{\"id\":\"73c65d90-e8ac-4673-8a13-6c4c45037b3f\",\"type\":\"WheelZoomTool\"},{\"id\":\"971374d3-035a-4eb2-b3dd-90220849c24c\",\"type\":\"BoxZoomTool\"},{\"id\":\"c3d75ade-8d66-40ea-a310-dd360aaedaea\",\"type\":\"SaveTool\"},{\"id\":\"6b9c8cd9-b2f8-496b-81c6-60eb420ece5d\",\"type\":\"ResetTool\"},{\"id\":\"01bce3cd-b23f-430a-9c0d-7aa7a368884a\",\"type\":\"HelpTool\"}]},\"id\":\"8d51fd6a-cb69-4a81-afd3-02c07f3d6527\",\"type\":\"Toolbar\"},{\"attributes\":{},\"id\":\"ae100bb6-e821-43d2-aada-bf430a0f25cf\",\"type\":\"BasicTicker\"},{\"attributes\":{\"axis_label\":\"x1\",\"formatter\":{\"id\":\"843c0ad9-4c98-464b-a119-53133f4b663d\",\"type\":\"BasicTickFormatter\"},\"plot\":{\"id\":\"cd31f0a6-437f-498d-a632-3bf19e84ad6d\",\"subtype\":\"Chart\",\"type\":\"Plot\"},\"ticker\":{\"id\":\"d75faa4f-c581-497b-8196-481b182af6a1\",\"type\":\"BasicTicker\"}},\"id\":\"abc52f63-8909-431b-9161-6838e99dcb17\",\"type\":\"LinearAxis\"},{\"attributes\":{\"line_color\":{\"value\":\"darkblue\"},\"x\":{\"field\":\"x\"},\"y\":{\"field\":\"y\"}},\"id\":\"652b81c9-173e-4468-a5c7-174c085fabe7\",\"type\":\"Line\"},{\"attributes\":{\"axis_label\":\"x2\",\"formatter\":{\"id\":\"14d5a2c8-dc24-4867-94b7-695d1f9145cd\",\"type\":\"BasicTickFormatter\"},\"plot\":{\"id\":\"cd31f0a6-437f-498d-a632-3bf19e84ad6d\",\"subtype\":\"Chart\",\"type\":\"Plot\"},\"ticker\":{\"id\":\"ae100bb6-e821-43d2-aada-bf430a0f25cf\",\"type\":\"BasicTicker\"}},\"id\":\"4bde21f5-bc36-4d55-bfa5-2b021de79b10\",\"type\":\"LinearAxis\"},{\"attributes\":{\"label\":{\"value\":\"Correct\"},\"renderers\":[{\"id\":\"a8fd49b2-cae9-4e72-bbd6-f25f4f807877\",\"type\":\"GlyphRenderer\"}]},\"id\":\"a99380b1-f807-4cb1-8382-b3a662dc6e8d\",\"type\":\"LegendItem\"},{\"attributes\":{\"callback\":null,\"column_names\":[\"x\",\"y\"],\"data\":{\"x\":{\"__ndarray__\":\"AAAAAAAAAACIxvrQWB/KP4jG+tBYH9o/5hS8nIKX4z+IxvrQWB/qPxW8nIKXU/A/5hS8nIKX8z+3bdu2bdv2P4jG+tBYH/o/WR8a60Nj/T8VvJyCl1MAQH5orA+N9QFA5hS8nIKXA0BOwcspeDkFQLdt27Zt2wZAIBrrQ2N9CECIxvrQWB8KQPByCl5OwQtAWR8a60NjDUDCyyl4OQUPQBW8nIKXUxBASZIkSZIkEUB+aKwPjfURQLI+NNaHxhJA5hS8nIKXE0Aa60NjfWgUQE7Byyl4ORVAg5dT8HIKFkC3bdu2bdsWQOtDY31orBdAIBrrQ2N9GEBU8HIKXk4ZQIjG+tBYHxpAvJyCl1PwGkDwcgpeTsEbQCVJkiRJkhxAWR8a60NjHUCN9aGxPjQeQMLLKXg5BR9A9qGxPjTWH0AVvJyCl1MgQC+n4OUUvCBASZIkSZIkIUBjfWisD40hQH5orA+N9SFAmFPwcgpeIkCyPjTWh8YiQMwpeDkFLyNA5hS8nIKXI0AAAAAAAAAkQA==\",\"dtype\":\"float64\",\"shape\":[50]},\"y\":[-3993.0138531544662,-3992.899970164198,-3992.7860871739294,-3992.6722041836615,-3992.558321193393,-3992.4444382031247,-3992.330555212857,-3992.216672222588,-3992.1027892323195,-3991.9889062420516,-3991.875023251783,-3991.761140261515,-3991.647257271247,-3991.5333742809785,-3991.41949129071,-3991.305608300442,-3991.1917253101738,-3991.0778423199054,-3990.9639593296374,-3990.8500763393686,-3990.7361933491,-3990.6223103588322,-3990.508427368564,-3990.3945443782954,-3990.2806613880275,-3990.166778397759,-3990.052895407491,-3989.939012417223,-3989.8251294269544,-3989.7112464366865,-3989.597363446418,-3989.483480456149,-3989.3695974658813,-3989.255714475613,-3989.1418314853445,-3989.0279484950765,-3988.914065504808,-3988.8001825145398,-3988.686299524272,-3988.5724165340034,-3988.458533543735,-3988.344650553467,-3988.2307675631987,-3988.11688457293,-3988.003001582662,-3987.8891185923935,-3987.775235602125,-3987.661352611857,-3987.547469621589,-3987.4335866313204]}},\"id\":\"10010256-6f2e-4090-a040-60439b1ac96c\",\"type\":\"ColumnDataSource\"},{\"attributes\":{\"plot\":{\"id\":\"cd31f0a6-437f-498d-a632-3bf19e84ad6d\",\"subtype\":\"Chart\",\"type\":\"Plot\"}},\"id\":\"01bce3cd-b23f-430a-9c0d-7aa7a368884a\",\"type\":\"HelpTool\"},{\"attributes\":{\"label\":{\"value\":\"Incorrect\"},\"renderers\":[{\"id\":\"d05d7a1a-76a8-4742-929e-c67775ce8725\",\"type\":\"GlyphRenderer\"}]},\"id\":\"3a771196-a2e9-40e5-b099-f419113d05b3\",\"type\":\"LegendItem\"},{\"attributes\":{\"plot\":{\"id\":\"cd31f0a6-437f-498d-a632-3bf19e84ad6d\",\"subtype\":\"Chart\",\"type\":\"Plot\"}},\"id\":\"6b9c8cd9-b2f8-496b-81c6-60eb420ece5d\",\"type\":\"ResetTool\"},{\"attributes\":{\"plot\":{\"id\":\"cd31f0a6-437f-498d-a632-3bf19e84ad6d\",\"subtype\":\"Chart\",\"type\":\"Plot\"}},\"id\":\"c3d75ade-8d66-40ea-a310-dd360aaedaea\",\"type\":\"SaveTool\"},{\"attributes\":{},\"id\":\"14d5a2c8-dc24-4867-94b7-695d1f9145cd\",\"type\":\"BasicTickFormatter\"},{\"attributes\":{\"overlay\":{\"id\":\"8c00fc4b-f1d3-455b-943e-82468e5cba02\",\"type\":\"BoxAnnotation\"},\"plot\":{\"id\":\"cd31f0a6-437f-498d-a632-3bf19e84ad6d\",\"subtype\":\"Chart\",\"type\":\"Plot\"}},\"id\":\"971374d3-035a-4eb2-b3dd-90220849c24c\",\"type\":\"BoxZoomTool\"},{\"attributes\":{\"below\":[{\"id\":\"abc52f63-8909-431b-9161-6838e99dcb17\",\"type\":\"LinearAxis\"}],\"css_classes\":null,\"height\":400,\"left\":[{\"id\":\"4bde21f5-bc36-4d55-bfa5-2b021de79b10\",\"type\":\"LinearAxis\"}],\"renderers\":[{\"id\":\"8c00fc4b-f1d3-455b-943e-82468e5cba02\",\"type\":\"BoxAnnotation\"},{\"id\":\"a8fd49b2-cae9-4e72-bbd6-f25f4f807877\",\"type\":\"GlyphRenderer\"},{\"id\":\"d05d7a1a-76a8-4742-929e-c67775ce8725\",\"type\":\"GlyphRenderer\"},{\"id\":\"2112ab4a-ba64-4444-afa3-f8601084ac97\",\"type\":\"Legend\"},{\"id\":\"abc52f63-8909-431b-9161-6838e99dcb17\",\"type\":\"LinearAxis\"},{\"id\":\"4bde21f5-bc36-4d55-bfa5-2b021de79b10\",\"type\":\"LinearAxis\"},{\"id\":\"bda3d726-69ad-4d75-8b6f-80cefdab9d70\",\"type\":\"Grid\"},{\"id\":\"19ee04db-d5c4-41ea-88e2-4a813913f52c\",\"type\":\"Grid\"},{\"id\":\"058c9cbf-5d0e-4c71-ab26-9ea21d95a842\",\"type\":\"GlyphRenderer\"}],\"title\":{\"id\":\"724056c0-58ed-49a2-8889-b5ccc72ea0db\",\"type\":\"Title\"},\"tool_events\":{\"id\":\"c30e802f-8ce8-47ee-83ed-50ba2f867eeb\",\"type\":\"ToolEvents\"},\"toolbar\":{\"id\":\"8d51fd6a-cb69-4a81-afd3-02c07f3d6527\",\"type\":\"Toolbar\"},\"width\":750,\"x_mapper_type\":\"auto\",\"x_range\":{\"id\":\"198fd240-2a37-48bd-a5f3-5713addebead\",\"type\":\"Range1d\"},\"y_mapper_type\":\"auto\",\"y_range\":{\"id\":\"46f70218-bb80-4feb-b1bf-55a3b48dcb96\",\"type\":\"Range1d\"}},\"id\":\"cd31f0a6-437f-498d-a632-3bf19e84ad6d\",\"subtype\":\"Chart\",\"type\":\"Plot\"},{\"attributes\":{\"callback\":null,\"column_names\":[\"x_values\",\"y_values\"],\"data\":{\"chart_index\":[{\"correct\":\"Incorrect\"},{\"correct\":\"Incorrect\"},{\"correct\":\"Incorrect\"},{\"correct\":\"Incorrect\"},{\"correct\":\"Incorrect\"},{\"correct\":\"Incorrect\"},{\"correct\":\"Incorrect\"},{\"correct\":\"Incorrect\"},{\"correct\":\"Incorrect\"},{\"correct\":\"Incorrect\"}],\"correct\":[\"Incorrect\",\"Incorrect\",\"Incorrect\",\"Incorrect\",\"Incorrect\",\"Incorrect\",\"Incorrect\",\"Incorrect\",\"Incorrect\",\"Incorrect\"],\"x_values\":{\"__ndarray__\":\"iAKpYgs1FUBA5BPTnFIgQGkQU7//lx5AsfH3rTgNIkAnNpwm10YhQBFOJhrCwhdALMXgk3NhFED6ii6x1QEhQAlRK2gojCBAN8Pm7enSH0A=\",\"dtype\":\"float64\",\"shape\":[10]},\"y_values\":{\"__ndarray__\":\"ptk0HfvA/D9A6HGEw7i+P4KABvFw5AtA0Ec2oC4GGkCKbJPXBIYAQGyydfn/uuE/LApcK6I67z9eILYjhHYJQG3GKXZmCwpAkGLQVyEYuj8=\",\"dtype\":\"float64\",\"shape\":[10]}}},\"id\":\"81ce403b-b2cb-4b4e-a1b1-5211e226088b\",\"type\":\"ColumnDataSource\"},{\"attributes\":{},\"id\":\"c30e802f-8ce8-47ee-83ed-50ba2f867eeb\",\"type\":\"ToolEvents\"},{\"attributes\":{\"data_source\":{\"id\":\"81ce403b-b2cb-4b4e-a1b1-5211e226088b\",\"type\":\"ColumnDataSource\"},\"glyph\":{\"id\":\"91160de2-a131-46d1-a4ca-24e43147edad\",\"type\":\"Square\"},\"hover_glyph\":null,\"nonselection_glyph\":null,\"selection_glyph\":null},\"id\":\"d05d7a1a-76a8-4742-929e-c67775ce8725\",\"type\":\"GlyphRenderer\"},{\"attributes\":{\"dimension\":1,\"plot\":{\"id\":\"cd31f0a6-437f-498d-a632-3bf19e84ad6d\",\"subtype\":\"Chart\",\"type\":\"Plot\"},\"ticker\":{\"id\":\"ae100bb6-e821-43d2-aada-bf430a0f25cf\",\"type\":\"BasicTicker\"}},\"id\":\"19ee04db-d5c4-41ea-88e2-4a813913f52c\",\"type\":\"Grid\"},{\"attributes\":{\"items\":[{\"id\":\"a99380b1-f807-4cb1-8382-b3a662dc6e8d\",\"type\":\"LegendItem\"},{\"id\":\"3a771196-a2e9-40e5-b099-f419113d05b3\",\"type\":\"LegendItem\"}],\"location\":\"top_left\",\"plot\":{\"id\":\"cd31f0a6-437f-498d-a632-3bf19e84ad6d\",\"subtype\":\"Chart\",\"type\":\"Plot\"}},\"id\":\"2112ab4a-ba64-4444-afa3-f8601084ac97\",\"type\":\"Legend\"}],\"root_ids\":[\"cd31f0a6-437f-498d-a632-3bf19e84ad6d\"]},\"title\":\"Bokeh Application\",\"version\":\"0.12.4\"}};\n",
       "            var render_items = [{\"docid\":\"5e427e4e-e7c0-454a-a777-2c134e754408\",\"elementid\":\"b50ab0f4-a896-4bcb-8f9c-21350715ec5f\",\"modelid\":\"cd31f0a6-437f-498d-a632-3bf19e84ad6d\"}];\n",
       "            \n",
       "            Bokeh.embed.embed_items(docs_json, render_items);\n",
       "          };\n",
       "          if (document.readyState != \"loading\") fn();\n",
       "          else document.addEventListener(\"DOMContentLoaded\", fn);\n",
       "        })();\n",
       "      },\n",
       "      function(Bokeh) {\n",
       "      }\n",
       "    ];\n",
       "  \n",
       "    function run_inline_js() {\n",
       "      \n",
       "      if ((window.Bokeh !== undefined) || (force === true)) {\n",
       "        for (var i = 0; i < inline_js.length; i++) {\n",
       "          inline_js[i](window.Bokeh);\n",
       "        }if (force === true) {\n",
       "          display_loaded();\n",
       "        }} else if (Date.now() < window._bokeh_timeout) {\n",
       "        setTimeout(run_inline_js, 100);\n",
       "      } else if (!window._bokeh_failed_load) {\n",
       "        console.log(\"Bokeh: BokehJS failed to load within specified timeout.\");\n",
       "        window._bokeh_failed_load = true;\n",
       "      } else if (force !== true) {\n",
       "        var cell = $(document.getElementById(\"b50ab0f4-a896-4bcb-8f9c-21350715ec5f\")).parents('.cell').data().cell;\n",
       "        cell.output_area.append_execute_result(NB_LOAD_WARNING)\n",
       "      }\n",
       "  \n",
       "    }\n",
       "  \n",
       "    if (window._bokeh_is_loading === 0) {\n",
       "      console.log(\"Bokeh: BokehJS loaded, going straight to plotting\");\n",
       "      run_inline_js();\n",
       "    } else {\n",
       "      load_libs(js_urls, function() {\n",
       "        console.log(\"Bokeh: BokehJS plotting callback run at\", now());\n",
       "        run_inline_js();\n",
       "      });\n",
       "    }\n",
       "  }(this));\n",
       "</script>"
      ]
     },
     "metadata": {},
     "output_type": "display_data"
    }
   ],
   "source": [
    "correct = ['Correct' if yi == yh_i else 'Incorrect' for yi, yh_i in zip(y, y_hat)]\n",
    "plot_svm_results(correct, clf.intercept_[0], clf.coef_[0][0], clf.coef_[0][1])"
   ]
  },
  {
   "cell_type": "markdown",
   "metadata": {
    "deletable": true,
    "editable": true,
    "slideshow": {
     "slide_type": "slide"
    }
   },
   "source": [
    "### Support Vector Machines a la Linear Optimization"
   ]
  },
  {
   "cell_type": "markdown",
   "metadata": {
    "deletable": true,
    "editable": true,
    "slideshow": {
     "slide_type": "subslide"
    }
   },
   "source": [
    "[`PuLP`](https://github.com/coin-or/pulp/) is a modeling tool that lets us solve anything of this form.\n",
    "\n",
    "$$\n",
    "\\begin{align}\n",
    "    \\text{min}  \\ \\ \\ & \\ c'x \\\\\n",
    "    \\text{s.t.} \\ \\ \\ & \\ A x = b \\\\\n",
    "                      & \\ x \\ge 0\n",
    "\\end{align}\n",
    "$$\n",
    "\n",
    "Where $c$ and $b$ are input vectors, $A$ is an input matrix, and $x$ is a vector of real-valued decision variables."
   ]
  },
  {
   "cell_type": "markdown",
   "metadata": {
    "deletable": true,
    "editable": true,
    "slideshow": {
     "slide_type": "fragment"
    }
   },
   "source": [
    "Linear Optimization is well solved. You can assume that a linear optimizer is robust and fast for any model in that form."
   ]
  },
  {
   "cell_type": "markdown",
   "metadata": {
    "deletable": true,
    "editable": true,
    "slideshow": {
     "slide_type": "fragment"
    }
   },
   "source": [
    "PuLP can also solve discrete models, which are not so computationally easy."
   ]
  },
  {
   "cell_type": "markdown",
   "metadata": {
    "deletable": true,
    "editable": true,
    "slideshow": {
     "slide_type": "subslide"
    }
   },
   "source": [
    "How do we get our SVM problem into a linear optimizer?\n",
    "\n",
    "#### Inputs:\n",
    "\n",
    "$$(x_{i1}, x_{i2})' = \\text{column vector of inputs for observation}\\ i$$  \n",
    "  \n",
    "$$y_i \\in \\{+1, -1\\} = \\text{known classification of observation}\\ i $$ "
   ]
  },
  {
   "cell_type": "markdown",
   "metadata": {
    "deletable": true,
    "editable": true,
    "slideshow": {
     "slide_type": "fragment"
    }
   },
   "source": [
    "#### Model:\n",
    "\n",
    "The decision variables $b$, $w_1$, and $w_2$, give us a separating hyperplane $b + w'x = 0$.\n",
    "\n",
    "For each _misclassified_ observation $i$, $\\xi_i$ is its classification error. We find the best hyperplane by minimizing total error.\n",
    "\n",
    "$$\n",
    "\\begin{align}\n",
    "    \\text{min}  \\ \\ \\ & \\ \\sum_i \\xi_i \\ & \\ \\\\\n",
    "    \\text{s.t.} \\ \\ \\ & \\ b + w_1 x_{i1} + w_2 x_{i2} \\le -1 + \\xi_i\\ & \\ \\forall\\ y_i = -1 \\\\\n",
    "                      & \\ b + w_1 x_{i1} + w_2 x_{i2} \\ge +1 - \\xi_i\\ & \\ \\forall\\ y_i = +1 \\\\\n",
    "                      & \\ \\xi \\ge 0\n",
    "\\end{align}\n",
    "$$"
   ]
  },
  {
   "cell_type": "markdown",
   "metadata": {
    "deletable": true,
    "editable": true,
    "slideshow": {
     "slide_type": "subslide"
    }
   },
   "source": [
    "We can simplify the model by multiplying each constraint by $y_i$.\n",
    "\n",
    "$$\n",
    "\\begin{align}\n",
    "    \\text{min}  \\ \\ \\ & \\ \\sum_i \\xi_i \\\\\n",
    "    \\text{s.t.} \\ \\ \\ & \\ y_i (b + w_1 x_{i1} + w_2 x_{i2}) \\ge 1 - \\xi_i\\ \\forall\\ i \\\\\n",
    "                      & \\ \\xi \\ge 0\n",
    "\\end{align}\n",
    "$$"
   ]
  },
  {
   "cell_type": "markdown",
   "metadata": {
    "deletable": true,
    "editable": true,
    "slideshow": {
     "slide_type": "subslide"
    }
   },
   "source": [
    "But wait! Constraints like $a'x \\ge b$ aren't in the form you gave us!"
   ]
  },
  {
   "cell_type": "markdown",
   "metadata": {
    "deletable": true,
    "editable": true,
    "slideshow": {
     "slide_type": "fragment"
    }
   },
   "source": [
    "That's OK. They get converted by the optimizer.\n",
    "\n",
    "$$a'x - e = b$$\n",
    "$$e \\ge 0$$"
   ]
  },
  {
   "cell_type": "markdown",
   "metadata": {
    "deletable": true,
    "editable": true,
    "slideshow": {
     "slide_type": "fragment"
    }
   },
   "source": [
    "So do constraints of the form $a'x \\le b$.\n",
    "\n",
    "$$a'x + s = b$$\n",
    "$$s \\ge 0$$"
   ]
  },
  {
   "cell_type": "markdown",
   "metadata": {
    "deletable": true,
    "editable": true,
    "slideshow": {
     "slide_type": "fragment"
    }
   },
   "source": [
    "As do any variables that are unrestricted in sign.\n",
    "\n",
    "$$x_i = x_i^+ - x_i^-$$\n",
    "$$x_i^+, x_i^- \\ge 0$$"
   ]
  },
  {
   "cell_type": "markdown",
   "metadata": {
    "deletable": true,
    "editable": true,
    "slideshow": {
     "slide_type": "fragment"
    }
   },
   "source": [
    "As long as your objective function is linear and your constraints are linear and of the form $=$, $\\le$, or $\\ge$, you can solve it with a linear optimizer."
   ]
  },
  {
   "cell_type": "markdown",
   "metadata": {
    "deletable": true,
    "editable": true,
    "slideshow": {
     "slide_type": "subslide"
    }
   },
   "source": [
    "Let's get hacking. First make variables for the separating hyperplane.\n",
    "\n",
    "Note these are _unrestricted in sign_."
   ]
  },
  {
   "cell_type": "code",
   "execution_count": 21,
   "metadata": {
    "collapsed": true,
    "deletable": true,
    "editable": true
   },
   "outputs": [],
   "source": [
    "import pulp\n",
    "\n",
    "b = pulp.LpVariable('b')\n",
    "w1 = pulp.LpVariable('w1')\n",
    "w2 = pulp.LpVariable('w2')"
   ]
  },
  {
   "cell_type": "markdown",
   "metadata": {
    "deletable": true,
    "editable": true,
    "slideshow": {
     "slide_type": "subslide"
    }
   },
   "source": [
    "We also need variables for the classification errors. \n",
    "\n",
    "These are nonnegative since we only want to penalize errors, not reward the model for correct classifiations."
   ]
  },
  {
   "cell_type": "code",
   "execution_count": 22,
   "metadata": {
    "collapsed": false,
    "deletable": true,
    "editable": true
   },
   "outputs": [],
   "source": [
    "errors = []\n",
    "for i in range(len(y)):\n",
    "    e = pulp.LpVariable('e_%d' % i, lowBound=0) # lowBound=0 means >=0\n",
    "    errors.append(e)"
   ]
  },
  {
   "cell_type": "markdown",
   "metadata": {
    "deletable": true,
    "editable": true,
    "slideshow": {
     "slide_type": "subslide"
    }
   },
   "source": [
    "Build a model that records classification error based on the separating hyperplane in the appropriate variables."
   ]
  },
  {
   "cell_type": "code",
   "execution_count": 23,
   "metadata": {
    "collapsed": true,
    "deletable": true,
    "editable": true
   },
   "outputs": [],
   "source": [
    "m = pulp.LpProblem(sense=pulp.LpMinimize)\n",
    "\n",
    "for x_i1, x_i2, y_i, e_i in zip(x1, x2, y, errors):\n",
    "    m += y_i * (b + w1 * x_i1 + w2 * x_i2) >= (1 - e_i)"
   ]
  },
  {
   "cell_type": "markdown",
   "metadata": {
    "deletable": true,
    "editable": true,
    "slideshow": {
     "slide_type": "subslide"
    }
   },
   "source": [
    "So far the model represents the feasible region of all possible separating hyperplanes.\n",
    "\n",
    "We want the _best_ one."
   ]
  },
  {
   "cell_type": "code",
   "execution_count": 24,
   "metadata": {
    "collapsed": false,
    "deletable": true,
    "editable": true
   },
   "outputs": [
    {
     "name": "stdout",
     "output_type": "stream",
     "text": [
      "b = -1.0\n",
      "w = [0.0, 0.0]\n"
     ]
    }
   ],
   "source": [
    "m.setObjective(sum(errors))\n",
    "assert m.solve() == pulp.LpStatusOptimal\n",
    "\n",
    "print('b =', b.value())\n",
    "print('w =', [w1.value(), w2.value()])"
   ]
  },
  {
   "cell_type": "markdown",
   "metadata": {
    "deletable": true,
    "editable": true,
    "slideshow": {
     "slide_type": "subslide"
    }
   },
   "source": [
    "We don't have a predict function, so let's build one."
   ]
  },
  {
   "cell_type": "code",
   "execution_count": 25,
   "metadata": {
    "collapsed": false,
    "deletable": true,
    "editable": true
   },
   "outputs": [
    {
     "name": "stdout",
     "output_type": "stream",
     "text": [
      "confusion matrix:\n"
     ]
    },
    {
     "data": {
      "text/plain": [
       "array([[140,   0],\n",
       "       [ 10,   0]])"
      ]
     },
     "execution_count": 25,
     "metadata": {},
     "output_type": "execute_result"
    }
   ],
   "source": [
    "def classify(xi_1, xi_2):\n",
    "    if b.value() + (w1.value() * xi_1) + (w2.value() * xi_2) >= 0:\n",
    "        return +1\n",
    "    return -1\n",
    "\n",
    "y_hat = [classify(xi_1, xi_2) for xi_1, xi_2 in zip(x1, x2)]\n",
    "\n",
    "print('confusion matrix:')\n",
    "metrics.confusion_matrix(y_true=y, y_pred=y_hat)"
   ]
  },
  {
   "cell_type": "markdown",
   "metadata": {
    "deletable": true,
    "editable": true,
    "slideshow": {
     "slide_type": "subslide"
    }
   },
   "source": [
    "How'd the linear optimizer do?"
   ]
  },
  {
   "cell_type": "code",
   "execution_count": 26,
   "metadata": {
    "collapsed": false,
    "deletable": true,
    "editable": true
   },
   "outputs": [
    {
     "data": {
      "text/html": [
       "\n",
       "\n",
       "    <div class=\"bk-root\">\n",
       "        <div class=\"bk-plotdiv\" id=\"2d21bc0f-9243-4d54-ad18-53767f8e3232\"></div>\n",
       "    </div>\n",
       "<script type=\"text/javascript\">\n",
       "  \n",
       "  (function(global) {\n",
       "    function now() {\n",
       "      return new Date();\n",
       "    }\n",
       "  \n",
       "    var force = false;\n",
       "  \n",
       "    if (typeof (window._bokeh_onload_callbacks) === \"undefined\" || force === true) {\n",
       "      window._bokeh_onload_callbacks = [];\n",
       "      window._bokeh_is_loading = undefined;\n",
       "    }\n",
       "  \n",
       "  \n",
       "    \n",
       "    if (typeof (window._bokeh_timeout) === \"undefined\" || force === true) {\n",
       "      window._bokeh_timeout = Date.now() + 0;\n",
       "      window._bokeh_failed_load = false;\n",
       "    }\n",
       "  \n",
       "    var NB_LOAD_WARNING = {'data': {'text/html':\n",
       "       \"<div style='background-color: #fdd'>\\n\"+\n",
       "       \"<p>\\n\"+\n",
       "       \"BokehJS does not appear to have successfully loaded. If loading BokehJS from CDN, this \\n\"+\n",
       "       \"may be due to a slow or bad network connection. Possible fixes:\\n\"+\n",
       "       \"</p>\\n\"+\n",
       "       \"<ul>\\n\"+\n",
       "       \"<li>re-rerun `output_notebook()` to attempt to load from CDN again, or</li>\\n\"+\n",
       "       \"<li>use INLINE resources instead, as so:</li>\\n\"+\n",
       "       \"</ul>\\n\"+\n",
       "       \"<code>\\n\"+\n",
       "       \"from bokeh.resources import INLINE\\n\"+\n",
       "       \"output_notebook(resources=INLINE)\\n\"+\n",
       "       \"</code>\\n\"+\n",
       "       \"</div>\"}};\n",
       "  \n",
       "    function display_loaded() {\n",
       "      if (window.Bokeh !== undefined) {\n",
       "        document.getElementById(\"2d21bc0f-9243-4d54-ad18-53767f8e3232\").textContent = \"BokehJS successfully loaded.\";\n",
       "      } else if (Date.now() < window._bokeh_timeout) {\n",
       "        setTimeout(display_loaded, 100)\n",
       "      }\n",
       "    }\n",
       "  \n",
       "    function run_callbacks() {\n",
       "      window._bokeh_onload_callbacks.forEach(function(callback) { callback() });\n",
       "      delete window._bokeh_onload_callbacks\n",
       "      console.info(\"Bokeh: all callbacks have finished\");\n",
       "    }\n",
       "  \n",
       "    function load_libs(js_urls, callback) {\n",
       "      window._bokeh_onload_callbacks.push(callback);\n",
       "      if (window._bokeh_is_loading > 0) {\n",
       "        console.log(\"Bokeh: BokehJS is being loaded, scheduling callback at\", now());\n",
       "        return null;\n",
       "      }\n",
       "      if (js_urls == null || js_urls.length === 0) {\n",
       "        run_callbacks();\n",
       "        return null;\n",
       "      }\n",
       "      console.log(\"Bokeh: BokehJS not loaded, scheduling load and callback at\", now());\n",
       "      window._bokeh_is_loading = js_urls.length;\n",
       "      for (var i = 0; i < js_urls.length; i++) {\n",
       "        var url = js_urls[i];\n",
       "        var s = document.createElement('script');\n",
       "        s.src = url;\n",
       "        s.async = false;\n",
       "        s.onreadystatechange = s.onload = function() {\n",
       "          window._bokeh_is_loading--;\n",
       "          if (window._bokeh_is_loading === 0) {\n",
       "            console.log(\"Bokeh: all BokehJS libraries loaded\");\n",
       "            run_callbacks()\n",
       "          }\n",
       "        };\n",
       "        s.onerror = function() {\n",
       "          console.warn(\"failed to load library \" + url);\n",
       "        };\n",
       "        console.log(\"Bokeh: injecting script tag for BokehJS library: \", url);\n",
       "        document.getElementsByTagName(\"head\")[0].appendChild(s);\n",
       "      }\n",
       "    };var element = document.getElementById(\"2d21bc0f-9243-4d54-ad18-53767f8e3232\");\n",
       "    if (element == null) {\n",
       "      console.log(\"Bokeh: ERROR: autoload.js configured with elementid '2d21bc0f-9243-4d54-ad18-53767f8e3232' but no matching script tag was found. \")\n",
       "      return false;\n",
       "    }\n",
       "  \n",
       "    var js_urls = [];\n",
       "  \n",
       "    var inline_js = [\n",
       "      function(Bokeh) {\n",
       "        (function() {\n",
       "          var fn = function() {\n",
       "            var docs_json = {\"4c1be02f-d608-4747-ac5c-0fe9d0305136\":{\"roots\":{\"references\":[{\"attributes\":{\"callback\":null,\"column_names\":[\"x_values\",\"y_values\"],\"data\":{\"chart_index\":[{\"correct\":\"Incorrect\"},{\"correct\":\"Incorrect\"},{\"correct\":\"Incorrect\"},{\"correct\":\"Incorrect\"},{\"correct\":\"Incorrect\"},{\"correct\":\"Incorrect\"},{\"correct\":\"Incorrect\"},{\"correct\":\"Incorrect\"},{\"correct\":\"Incorrect\"},{\"correct\":\"Incorrect\"}],\"correct\":[\"Incorrect\",\"Incorrect\",\"Incorrect\",\"Incorrect\",\"Incorrect\",\"Incorrect\",\"Incorrect\",\"Incorrect\",\"Incorrect\",\"Incorrect\"],\"x_values\":{\"__ndarray__\":\"iAKpYgs1FUBA5BPTnFIgQGkQU7//lx5AsfH3rTgNIkAnNpwm10YhQBFOJhrCwhdALMXgk3NhFED6ii6x1QEhQAlRK2gojCBAN8Pm7enSH0A=\",\"dtype\":\"float64\",\"shape\":[10]},\"y_values\":{\"__ndarray__\":\"ptk0HfvA/D9A6HGEw7i+P4KABvFw5AtA0Ec2oC4GGkCKbJPXBIYAQGyydfn/uuE/LApcK6I67z9eILYjhHYJQG3GKXZmCwpAkGLQVyEYuj8=\",\"dtype\":\"float64\",\"shape\":[10]}}},\"id\":\"4c64c924-48aa-4e44-a9c5-76b472e9f7f8\",\"type\":\"ColumnDataSource\"},{\"attributes\":{\"plot\":{\"id\":\"51dde70a-d1ba-41a3-aef0-8ac11fc4a02e\",\"subtype\":\"Chart\",\"type\":\"Plot\"},\"ticker\":{\"id\":\"c410be58-99b5-465d-9e90-69515b7a681e\",\"type\":\"BasicTicker\"}},\"id\":\"3f3e2c9a-b7b4-48d4-b336-d1fe696a7b48\",\"type\":\"Grid\"},{\"attributes\":{\"plot\":null,\"text\":null},\"id\":\"46809cbc-7776-4117-9e94-508a37e7d7c9\",\"type\":\"Title\"},{\"attributes\":{},\"id\":\"291a5d0e-d9db-4d28-b0f6-ddd91f7dc558\",\"type\":\"ToolEvents\"},{\"attributes\":{\"dimension\":1,\"plot\":{\"id\":\"51dde70a-d1ba-41a3-aef0-8ac11fc4a02e\",\"subtype\":\"Chart\",\"type\":\"Plot\"},\"ticker\":{\"id\":\"e9262dac-5b17-4168-84cc-69f940edf2cd\",\"type\":\"BasicTicker\"}},\"id\":\"3c23fa5e-a5ba-49ba-9da3-33b30258c0c1\",\"type\":\"Grid\"},{\"attributes\":{\"fill_alpha\":{\"value\":0.7},\"fill_color\":{\"value\":\"darkred\"},\"line_color\":{\"value\":\"darkred\"},\"size\":{\"units\":\"screen\",\"value\":8},\"x\":{\"field\":\"x_values\"},\"y\":{\"field\":\"y_values\"}},\"id\":\"c66488fd-684f-49cc-8386-d5771a9b24c6\",\"type\":\"Square\"},{\"attributes\":{\"data_source\":{\"id\":\"4c64c924-48aa-4e44-a9c5-76b472e9f7f8\",\"type\":\"ColumnDataSource\"},\"glyph\":{\"id\":\"c66488fd-684f-49cc-8386-d5771a9b24c6\",\"type\":\"Square\"},\"hover_glyph\":null,\"nonselection_glyph\":null,\"selection_glyph\":null},\"id\":\"b328ef48-5632-4741-8a43-1eb988ab7243\",\"type\":\"GlyphRenderer\"},{\"attributes\":{\"active_drag\":\"auto\",\"active_scroll\":\"auto\",\"active_tap\":\"auto\",\"tools\":[{\"id\":\"e7d4c368-8645-41f4-9666-1910c47da5ba\",\"type\":\"PanTool\"},{\"id\":\"e6104e1a-6be0-4f9e-84bc-553ec943f68e\",\"type\":\"WheelZoomTool\"},{\"id\":\"3f9e74e7-524b-496d-ba51-542d2af764ac\",\"type\":\"BoxZoomTool\"},{\"id\":\"33a5af9b-e684-4edc-b3b4-bf607f3014a7\",\"type\":\"SaveTool\"},{\"id\":\"441798cb-5b68-4c69-8d1f-4e5a772fd487\",\"type\":\"ResetTool\"},{\"id\":\"a1c247a0-5bb8-4369-9bc5-3847f74a3ee0\",\"type\":\"HelpTool\"}]},\"id\":\"38f85721-4883-4d81-a4a4-7a511820af61\",\"type\":\"Toolbar\"},{\"attributes\":{\"line_alpha\":{\"value\":0.1},\"line_color\":{\"value\":\"#1f77b4\"},\"x\":{\"field\":\"x\"},\"y\":{\"field\":\"y\"}},\"id\":\"c525b14a-f15f-4fd6-a519-44b40b715d95\",\"type\":\"Line\"},{\"attributes\":{\"line_color\":{\"value\":\"darkblue\"},\"x\":{\"field\":\"x\"},\"y\":{\"field\":\"y\"}},\"id\":\"3d401c03-6bd4-4e95-a225-86b240ab364d\",\"type\":\"Line\"},{\"attributes\":{},\"id\":\"e9262dac-5b17-4168-84cc-69f940edf2cd\",\"type\":\"BasicTicker\"},{\"attributes\":{\"callback\":null,\"column_names\":[\"x\",\"y\"],\"data\":{\"x\":{\"__ndarray__\":\"AAAAAAAAAACIxvrQWB/KP4jG+tBYH9o/5hS8nIKX4z+IxvrQWB/qPxW8nIKXU/A/5hS8nIKX8z+3bdu2bdv2P4jG+tBYH/o/WR8a60Nj/T8VvJyCl1MAQH5orA+N9QFA5hS8nIKXA0BOwcspeDkFQLdt27Zt2wZAIBrrQ2N9CECIxvrQWB8KQPByCl5OwQtAWR8a60NjDUDCyyl4OQUPQBW8nIKXUxBASZIkSZIkEUB+aKwPjfURQLI+NNaHxhJA5hS8nIKXE0Aa60NjfWgUQE7Byyl4ORVAg5dT8HIKFkC3bdu2bdsWQOtDY31orBdAIBrrQ2N9GEBU8HIKXk4ZQIjG+tBYHxpAvJyCl1PwGkDwcgpeTsEbQCVJkiRJkhxAWR8a60NjHUCN9aGxPjQeQMLLKXg5BR9A9qGxPjTWH0AVvJyCl1MgQC+n4OUUvCBASZIkSZIkIUBjfWisD40hQH5orA+N9SFAmFPwcgpeIkCyPjTWh8YiQMwpeDkFLyNA5hS8nIKXI0AAAAAAAAAkQA==\",\"dtype\":\"float64\",\"shape\":[50]},\"y\":[-3993.0138531544662,-3992.899970164198,-3992.7860871739294,-3992.6722041836615,-3992.558321193393,-3992.4444382031247,-3992.330555212857,-3992.216672222588,-3992.1027892323195,-3991.9889062420516,-3991.875023251783,-3991.761140261515,-3991.647257271247,-3991.5333742809785,-3991.41949129071,-3991.305608300442,-3991.1917253101738,-3991.0778423199054,-3990.9639593296374,-3990.8500763393686,-3990.7361933491,-3990.6223103588322,-3990.508427368564,-3990.3945443782954,-3990.2806613880275,-3990.166778397759,-3990.052895407491,-3989.939012417223,-3989.8251294269544,-3989.7112464366865,-3989.597363446418,-3989.483480456149,-3989.3695974658813,-3989.255714475613,-3989.1418314853445,-3989.0279484950765,-3988.914065504808,-3988.8001825145398,-3988.686299524272,-3988.5724165340034,-3988.458533543735,-3988.344650553467,-3988.2307675631987,-3988.11688457293,-3988.003001582662,-3987.8891185923935,-3987.775235602125,-3987.661352611857,-3987.547469621589,-3987.4335866313204]}},\"id\":\"74cb6c4c-c406-4c5c-886d-c380444fa5b3\",\"type\":\"ColumnDataSource\"},{\"attributes\":{\"callback\":null,\"column_names\":[\"x_values\",\"y_values\"],\"data\":{\"chart_index\":[{\"correct\":\"Correct\"},{\"correct\":\"Correct\"},{\"correct\":\"Correct\"},{\"correct\":\"Correct\"},{\"correct\":\"Correct\"},{\"correct\":\"Correct\"},{\"correct\":\"Correct\"},{\"correct\":\"Correct\"},{\"correct\":\"Correct\"},{\"correct\":\"Correct\"},{\"correct\":\"Correct\"},{\"correct\":\"Correct\"},{\"correct\":\"Correct\"},{\"correct\":\"Correct\"},{\"correct\":\"Correct\"},{\"correct\":\"Correct\"},{\"correct\":\"Correct\"},{\"correct\":\"Correct\"},{\"correct\":\"Correct\"},{\"correct\":\"Correct\"},{\"correct\":\"Correct\"},{\"correct\":\"Correct\"},{\"correct\":\"Correct\"},{\"correct\":\"Correct\"},{\"correct\":\"Correct\"},{\"correct\":\"Correct\"},{\"correct\":\"Correct\"},{\"correct\":\"Correct\"},{\"correct\":\"Correct\"},{\"correct\":\"Correct\"},{\"correct\":\"Correct\"},{\"correct\":\"Correct\"},{\"correct\":\"Correct\"},{\"correct\":\"Correct\"},{\"correct\":\"Correct\"},{\"correct\":\"Correct\"},{\"correct\":\"Correct\"},{\"correct\":\"Correct\"},{\"correct\":\"Correct\"},{\"correct\":\"Correct\"},{\"correct\":\"Correct\"},{\"correct\":\"Correct\"},{\"correct\":\"Correct\"},{\"correct\":\"Correct\"},{\"correct\":\"Correct\"},{\"correct\":\"Correct\"},{\"correct\":\"Correct\"},{\"correct\":\"Correct\"},{\"correct\":\"Correct\"},{\"correct\":\"Correct\"},{\"correct\":\"Correct\"},{\"correct\":\"Correct\"},{\"correct\":\"Correct\"},{\"correct\":\"Correct\"},{\"correct\":\"Correct\"},{\"correct\":\"Correct\"},{\"correct\":\"Correct\"},{\"correct\":\"Correct\"},{\"correct\":\"Correct\"},{\"correct\":\"Correct\"},{\"correct\":\"Correct\"},{\"correct\":\"Correct\"},{\"correct\":\"Correct\"},{\"correct\":\"Correct\"},{\"correct\":\"Correct\"},{\"correct\":\"Correct\"},{\"correct\":\"Correct\"},{\"correct\":\"Correct\"},{\"correct\":\"Correct\"},{\"correct\":\"Correct\"},{\"correct\":\"Correct\"},{\"correct\":\"Correct\"},{\"correct\":\"Correct\"},{\"correct\":\"Correct\"},{\"correct\":\"Correct\"},{\"correct\":\"Correct\"},{\"correct\":\"Correct\"},{\"correct\":\"Correct\"},{\"correct\":\"Correct\"},{\"correct\":\"Correct\"},{\"correct\":\"Correct\"},{\"correct\":\"Correct\"},{\"correct\":\"Correct\"},{\"correct\":\"Correct\"},{\"correct\":\"Correct\"},{\"correct\":\"Correct\"},{\"correct\":\"Correct\"},{\"correct\":\"Correct\"},{\"correct\":\"Correct\"},{\"correct\":\"Correct\"},{\"correct\":\"Correct\"},{\"correct\":\"Correct\"},{\"correct\":\"Correct\"},{\"correct\":\"Correct\"},{\"correct\":\"Correct\"},{\"correct\":\"Correct\"},{\"correct\":\"Correct\"},{\"correct\":\"Correct\"},{\"correct\":\"Correct\"},{\"correct\":\"Correct\"},{\"correct\":\"Correct\"},{\"correct\":\"Correct\"},{\"correct\":\"Correct\"},{\"correct\":\"Correct\"},{\"correct\":\"Correct\"},{\"correct\":\"Correct\"},{\"correct\":\"Correct\"},{\"correct\":\"Correct\"},{\"correct\":\"Correct\"},{\"correct\":\"Correct\"},{\"correct\":\"Correct\"},{\"correct\":\"Correct\"},{\"correct\":\"Correct\"},{\"correct\":\"Correct\"},{\"correct\":\"Correct\"},{\"correct\":\"Correct\"},{\"correct\":\"Correct\"},{\"correct\":\"Correct\"},{\"correct\":\"Correct\"},{\"correct\":\"Correct\"},{\"correct\":\"Correct\"},{\"correct\":\"Correct\"},{\"correct\":\"Correct\"},{\"correct\":\"Correct\"},{\"correct\":\"Correct\"},{\"correct\":\"Correct\"},{\"correct\":\"Correct\"},{\"correct\":\"Correct\"},{\"correct\":\"Correct\"},{\"correct\":\"Correct\"},{\"correct\":\"Correct\"},{\"correct\":\"Correct\"},{\"correct\":\"Correct\"},{\"correct\":\"Correct\"},{\"correct\":\"Correct\"},{\"correct\":\"Correct\"},{\"correct\":\"Correct\"},{\"correct\":\"Correct\"},{\"correct\":\"Correct\"},{\"correct\":\"Correct\"}],\"correct\":[\"Correct\",\"Correct\",\"Correct\",\"Correct\",\"Correct\",\"Correct\",\"Correct\",\"Correct\",\"Correct\",\"Correct\",\"Correct\",\"Correct\",\"Correct\",\"Correct\",\"Correct\",\"Correct\",\"Correct\",\"Correct\",\"Correct\",\"Correct\",\"Correct\",\"Correct\",\"Correct\",\"Correct\",\"Correct\",\"Correct\",\"Correct\",\"Correct\",\"Correct\",\"Correct\",\"Correct\",\"Correct\",\"Correct\",\"Correct\",\"Correct\",\"Correct\",\"Correct\",\"Correct\",\"Correct\",\"Correct\",\"Correct\",\"Correct\",\"Correct\",\"Correct\",\"Correct\",\"Correct\",\"Correct\",\"Correct\",\"Correct\",\"Correct\",\"Correct\",\"Correct\",\"Correct\",\"Correct\",\"Correct\",\"Correct\",\"Correct\",\"Correct\",\"Correct\",\"Correct\",\"Correct\",\"Correct\",\"Correct\",\"Correct\",\"Correct\",\"Correct\",\"Correct\",\"Correct\",\"Correct\",\"Correct\",\"Correct\",\"Correct\",\"Correct\",\"Correct\",\"Correct\",\"Correct\",\"Correct\",\"Correct\",\"Correct\",\"Correct\",\"Correct\",\"Correct\",\"Correct\",\"Correct\",\"Correct\",\"Correct\",\"Correct\",\"Correct\",\"Correct\",\"Correct\",\"Correct\",\"Correct\",\"Correct\",\"Correct\",\"Correct\",\"Correct\",\"Correct\",\"Correct\",\"Correct\",\"Correct\",\"Correct\",\"Correct\",\"Correct\",\"Correct\",\"Correct\",\"Correct\",\"Correct\",\"Correct\",\"Correct\",\"Correct\",\"Correct\",\"Correct\",\"Correct\",\"Correct\",\"Correct\",\"Correct\",\"Correct\",\"Correct\",\"Correct\",\"Correct\",\"Correct\",\"Correct\",\"Correct\",\"Correct\",\"Correct\",\"Correct\",\"Correct\",\"Correct\",\"Correct\",\"Correct\",\"Correct\",\"Correct\",\"Correct\",\"Correct\",\"Correct\",\"Correct\",\"Correct\",\"Correct\",\"Correct\",\"Correct\"],\"x_values\":{\"__ndarray__\":\"5muevVoG6T+E4bcywlnbP+514gwmpxRAX8Xr7kQF9j9N1kMTOHPxP5LOHwjyRyJAltAyzvLUHUBmi/+mpGDyP3VbiTuPYPY/bhyAifdaHUDNj70Uq78WQO3Q3tLPdB9AA0CTTvGdGUAwTBlUltXDP16yOQSHyhhAMLkE8LUKIECwoAShHmwbQOWiZNUyQRBArwvHFAmQ9j8u3WNVQg8WQEB7Q9uo2wlAb0YAo8bSEkCWw4JZKrQLQLjstwvd2eI/nrgDVOlRIUDctbHKorgVQHgoV/w8IANAHyqlRVebGkBwxTGIa5QUQEYtqj71gARARlJfcsRwE0CDyYn/UkgWQH7BNvhhDCFAWJKm1z3lIED21PuDS04ZQHB3N2yu1/E/7DBCQJPEEUB+dm8ilRL9P1TQNdihMR5AkIQXhzffH0AmuPcDzdQIQLGyOl1BUAhATOAmlf/HHUDGvZnAaJIiQKjjcTfKccE/tg6E7VamI0AjEk8/g10jQIZ5LXwDgSNANeK+2GvBIkAvQAH8vlL9Pwt0LSK4YRJAHvMPARJeHkAIC/i8pmwiQDc3uXBouwFAQriESfGtDECyDT62ZSoVQCD3+jZxuRZA5gOjQvMH4j9h8yU0aWAEQJShcQ8g4xxAfqHIoAzEIECg2v60cnsNQGWNP5HfBBNA3vqv+U7zDEAeeA9xl4wjQKINPtzN0hBAVsbLlkGhCUAomHTXrccHQKB0bsG1BhdAfvbeupz6HED7rFlJFI0hQFGCeOMMrQtAAvoOgodLEEBX8h9uCRD0P0HDAZebZxlAzhZCflOrGEArvulq2AcYQJPbWOkQNPQ/BtrNWjiUH0BqFk/7ajAfQGTOTIgm8+U/y/e+R+v8C0DVdQ8ZooUeQACTV5+D/x9A3icz4jCPGUBubaEJit8hQPilgadNNxRAxvO6IslFFECGvwezudAAQJgKN5ZjCANAxlBo2lCtHEDiNc/my9YYQMrMz3M4pRtAV0/dITUAIUBAZ0rS7WOSPyr5Tc70ABNAc8xZUnOUEUDPcuyPM10PQBg82GsR8v0/N9Xytdq8E0A+a2PeOpEEQLUcEOp0L/w/6l6/O8vM6T92yvsLtbYiQC+6OB/d9wFAF2tDYosuHUADabTekSQTQIbF18O4Ww9AyvAfCyUgEECXG1e7EFERQF4XZ3oCJQNACquSfkRwHUC2rSzBxQIVQMpzdXN4Sfw/vBDk+hFuFkDJcVY5FGz0P+jUcVzLdvk/hcHqmgpJIECC8snYL1oDQCBhk9u65hhApnO2kgMNFkDp9qZ/OiAdQGe4ZmQyMxVAALs/7ceRIEB8BJQrOgUjQKFxQTpnUvI/9o77sT8kGkAf5XG660P9PyagDNeNZCBA2WdJ7sMJI0BJ6ZtKk/0fQMD0hHzqweo/9gGDjZ5i7j8y0eYXiWACQKemTc8KKCNAzC4pUqJbAUAq1JbOZyMGQMxtawnTywhANk5lNyIfGkCCi2ReV/YVQA==\",\"dtype\":\"float64\",\"shape\":[140]},\"y_values\":{\"__ndarray__\":\"gjKjELvSFkDvaipakYYYQG1S4srHkRVAiC+c8oTfFUAj+fUAwAMgQOYdKqkNvBtAGiNOPez2IkBOzIGrNMQjQI/fx0OD/yBA9VkjdcudIkAuVLnIW84PQCijTeO3siJA5eFHRqEaEkA1xI3+GwUYQBmFuf3/pvI/CFQu3dShEkBSqj/DRqYhQKbDEnnHmgFA5UbG1P1nIEBqpxgx3j70P0G8iXHNaRxAFNaTXbzoIEBqicoS0NMWQEZMxNvktPA//Om7Ad+6FUDYLlpkhGYcQIj0l6XbJcI/MSaLAYc/GUB/yHR2LPIWQFjXvp2thCFAKPsamVTuFkD9Lc+4LwMQQKbrLUUFsB9A5X7/2vLRH0B1oQzdNvgLQA6phhPsmhZAtO3GMSy9IEBm2BJQPP70P5KkpOTV5SBAOkYkDaUZB0CJn05aWoIbQGAXokQzBwBAgAZylbUW9D9orEAGERIgQCBX8g/LzAFAJjP6EE7CGEDwTLDGgS4ZQHbD5vpF7gZAoA+wHaKlAED8Fgb9CZsjQLOSlXe6XRhAkyvVlEM1IkCalkOLSpcjQOTu2SHFhgVAijTrd5smI0DBkeSLwWkLQLucAOx9cBRA5IyesWwxGkBUI7hQk0QjQFPaFuP6xA1AOtcnA9ntIECVYQ4xVioiQETox9G2FgpAe9o9YJ9aEkBrqDJ/Ev0jQEPbRa2FUB1Acnd0jnTlI0DeTYfH0AgeQIjbpalwmwBAB7lTEVSsEUCyGAutJPEcQED8Wr16AbY/dtWWTa3cEEDqKA/AHC4CQLK0pi/v9BZAVjJixzz3B0CFXRRmIoUVQC3tys+XLRxA7l7g17chD0BgYxeuHmcjQB3IPGqm2fE/jLe++yxc+T+N61QpIusjQEMySTW1IRtAuEmrt9V3FkDihObQ5CscQBIZcRaNdRRAd2RoRALjHkCQ5jDfym0bQOkFXJHDcRBAgNTFuu3KIkAyc71SGy4RQCykwff88hRAJF+RgwLhIkB0WHMb2DEiQCifI8ok1RBAU5BX5pMN/z/hx5EI6vsiQDseq4HpZhZAmo57yivi/j+VkVaoieoiQGuGBf2+jCFAdOYDLfm6GUCC7ZR9ixEAQKxqVzC9MxRAdob8BsyGIkC1ZqIeHLQfQGsihmzz8hBA8Mqs3y1NA0A0C6Mpj6YYQJHP0jUs5hFA0agUOmUOGUB3phKNhnYZQKOfq3W9rBJAXqXUHPS9D0CqLnGSiA7uPx56eiU2YhhAs6E54AzEH0B45JSYsH0UQAZfN7b16RZAF3nN23d8I0CaIs62Rm4WQE027HPUgBxAoLv11NhCIECuFsCo+HwgQDi42BnLjSJAnzm6kDjVEEDqGu05tCEPQK1vEV7x+SBAWTGrcBoeHUCUmBT8YKMfQPX402iRaxlArNsOYHYqAECKNuGIDQsMQOTtawAn3RBAkI+ryFoDC0CKP8gXO5gTQJjNlgx5TB5AxlkXOY1AI0Cc0GO5ypQhQA==\",\"dtype\":\"float64\",\"shape\":[140]}}},\"id\":\"b129d450-5d06-4da6-b460-9f59c516ef4e\",\"type\":\"ColumnDataSource\"},{\"attributes\":{\"data_source\":{\"id\":\"74cb6c4c-c406-4c5c-886d-c380444fa5b3\",\"type\":\"ColumnDataSource\"},\"glyph\":{\"id\":\"3d401c03-6bd4-4e95-a225-86b240ab364d\",\"type\":\"Line\"},\"hover_glyph\":null,\"nonselection_glyph\":{\"id\":\"c525b14a-f15f-4fd6-a519-44b40b715d95\",\"type\":\"Line\"},\"selection_glyph\":null},\"id\":\"e3d743e3-1dbc-4eee-ad3b-6ca58e92e97a\",\"type\":\"GlyphRenderer\"},{\"attributes\":{\"data_source\":{\"id\":\"b129d450-5d06-4da6-b460-9f59c516ef4e\",\"type\":\"ColumnDataSource\"},\"glyph\":{\"id\":\"52015bab-686a-4a77-b8c4-d2aed278a503\",\"type\":\"Circle\"},\"hover_glyph\":null,\"nonselection_glyph\":null,\"selection_glyph\":null},\"id\":\"2beb7ee9-1833-457f-b6b2-d8e416a7ab85\",\"type\":\"GlyphRenderer\"},{\"attributes\":{\"bottom_units\":\"screen\",\"fill_alpha\":{\"value\":0.5},\"fill_color\":{\"value\":\"lightgrey\"},\"left_units\":\"screen\",\"level\":\"overlay\",\"line_alpha\":{\"value\":1.0},\"line_color\":{\"value\":\"black\"},\"line_dash\":[4,4],\"line_width\":{\"value\":2},\"plot\":null,\"render_mode\":\"css\",\"right_units\":\"screen\",\"top_units\":\"screen\"},\"id\":\"fc5bdbba-6cb5-4303-aa3c-6380d5c45e92\",\"type\":\"BoxAnnotation\"},{\"attributes\":{\"below\":[{\"id\":\"cdd62cbb-9981-4923-8fd7-894ca9509efb\",\"type\":\"LinearAxis\"}],\"css_classes\":null,\"height\":400,\"left\":[{\"id\":\"0a1c376d-5305-4b5b-aa6a-a2edd9f835be\",\"type\":\"LinearAxis\"}],\"renderers\":[{\"id\":\"fc5bdbba-6cb5-4303-aa3c-6380d5c45e92\",\"type\":\"BoxAnnotation\"},{\"id\":\"2beb7ee9-1833-457f-b6b2-d8e416a7ab85\",\"type\":\"GlyphRenderer\"},{\"id\":\"b328ef48-5632-4741-8a43-1eb988ab7243\",\"type\":\"GlyphRenderer\"},{\"id\":\"50cd434d-91bf-48c8-908a-975d002d3023\",\"type\":\"Legend\"},{\"id\":\"cdd62cbb-9981-4923-8fd7-894ca9509efb\",\"type\":\"LinearAxis\"},{\"id\":\"0a1c376d-5305-4b5b-aa6a-a2edd9f835be\",\"type\":\"LinearAxis\"},{\"id\":\"3f3e2c9a-b7b4-48d4-b336-d1fe696a7b48\",\"type\":\"Grid\"},{\"id\":\"3c23fa5e-a5ba-49ba-9da3-33b30258c0c1\",\"type\":\"Grid\"},{\"id\":\"e3d743e3-1dbc-4eee-ad3b-6ca58e92e97a\",\"type\":\"GlyphRenderer\"}],\"title\":{\"id\":\"46809cbc-7776-4117-9e94-508a37e7d7c9\",\"type\":\"Title\"},\"tool_events\":{\"id\":\"291a5d0e-d9db-4d28-b0f6-ddd91f7dc558\",\"type\":\"ToolEvents\"},\"toolbar\":{\"id\":\"38f85721-4883-4d81-a4a4-7a511820af61\",\"type\":\"Toolbar\"},\"width\":750,\"x_mapper_type\":\"auto\",\"x_range\":{\"id\":\"6b2b4d65-1226-418e-807e-1a9fbc6613e2\",\"type\":\"Range1d\"},\"y_mapper_type\":\"auto\",\"y_range\":{\"id\":\"7cb9d59d-5e12-4222-a09a-d3e60d332394\",\"type\":\"Range1d\"}},\"id\":\"51dde70a-d1ba-41a3-aef0-8ac11fc4a02e\",\"subtype\":\"Chart\",\"type\":\"Plot\"},{\"attributes\":{\"callback\":null,\"end\":10.805574219714464,\"start\":-0.9627329394158319},\"id\":\"6b2b4d65-1226-418e-807e-1a9fbc6613e2\",\"type\":\"Range1d\"},{\"attributes\":{\"label\":{\"value\":\"Incorrect\"},\"renderers\":[{\"id\":\"b328ef48-5632-4741-8a43-1eb988ab7243\",\"type\":\"GlyphRenderer\"}]},\"id\":\"51a0a9e7-595e-4e3d-896b-0789007a0377\",\"type\":\"LegendItem\"},{\"attributes\":{\"plot\":{\"id\":\"51dde70a-d1ba-41a3-aef0-8ac11fc4a02e\",\"subtype\":\"Chart\",\"type\":\"Plot\"}},\"id\":\"e7d4c368-8645-41f4-9666-1910c47da5ba\",\"type\":\"PanTool\"},{\"attributes\":{\"items\":[{\"id\":\"0481b26d-9e0b-423e-8915-5d3d3d36fc74\",\"type\":\"LegendItem\"},{\"id\":\"51a0a9e7-595e-4e3d-896b-0789007a0377\",\"type\":\"LegendItem\"}],\"location\":\"top_left\",\"plot\":{\"id\":\"51dde70a-d1ba-41a3-aef0-8ac11fc4a02e\",\"subtype\":\"Chart\",\"type\":\"Plot\"}},\"id\":\"50cd434d-91bf-48c8-908a-975d002d3023\",\"type\":\"Legend\"},{\"attributes\":{},\"id\":\"f268608b-d059-40cb-b117-83d3864f3b96\",\"type\":\"BasicTickFormatter\"},{\"attributes\":{\"axis_label\":\"x2\",\"formatter\":{\"id\":\"7087becd-8b16-4c5f-acfb-f9b3e441c177\",\"type\":\"BasicTickFormatter\"},\"plot\":{\"id\":\"51dde70a-d1ba-41a3-aef0-8ac11fc4a02e\",\"subtype\":\"Chart\",\"type\":\"Plot\"},\"ticker\":{\"id\":\"e9262dac-5b17-4168-84cc-69f940edf2cd\",\"type\":\"BasicTicker\"}},\"id\":\"0a1c376d-5305-4b5b-aa6a-a2edd9f835be\",\"type\":\"LinearAxis\"},{\"attributes\":{\"plot\":{\"id\":\"51dde70a-d1ba-41a3-aef0-8ac11fc4a02e\",\"subtype\":\"Chart\",\"type\":\"Plot\"}},\"id\":\"e6104e1a-6be0-4f9e-84bc-553ec943f68e\",\"type\":\"WheelZoomTool\"},{\"attributes\":{\"overlay\":{\"id\":\"fc5bdbba-6cb5-4303-aa3c-6380d5c45e92\",\"type\":\"BoxAnnotation\"},\"plot\":{\"id\":\"51dde70a-d1ba-41a3-aef0-8ac11fc4a02e\",\"subtype\":\"Chart\",\"type\":\"Plot\"}},\"id\":\"3f9e74e7-524b-496d-ba51-542d2af764ac\",\"type\":\"BoxZoomTool\"},{\"attributes\":{\"plot\":{\"id\":\"51dde70a-d1ba-41a3-aef0-8ac11fc4a02e\",\"subtype\":\"Chart\",\"type\":\"Plot\"}},\"id\":\"33a5af9b-e684-4edc-b3b4-bf607f3014a7\",\"type\":\"SaveTool\"},{\"attributes\":{\"plot\":{\"id\":\"51dde70a-d1ba-41a3-aef0-8ac11fc4a02e\",\"subtype\":\"Chart\",\"type\":\"Plot\"}},\"id\":\"441798cb-5b68-4c69-8d1f-4e5a772fd487\",\"type\":\"ResetTool\"},{\"attributes\":{\"plot\":{\"id\":\"51dde70a-d1ba-41a3-aef0-8ac11fc4a02e\",\"subtype\":\"Chart\",\"type\":\"Plot\"}},\"id\":\"a1c247a0-5bb8-4369-9bc5-3847f74a3ee0\",\"type\":\"HelpTool\"},{\"attributes\":{\"axis_label\":\"x1\",\"formatter\":{\"id\":\"f268608b-d059-40cb-b117-83d3864f3b96\",\"type\":\"BasicTickFormatter\"},\"plot\":{\"id\":\"51dde70a-d1ba-41a3-aef0-8ac11fc4a02e\",\"subtype\":\"Chart\",\"type\":\"Plot\"},\"ticker\":{\"id\":\"c410be58-99b5-465d-9e90-69515b7a681e\",\"type\":\"BasicTicker\"}},\"id\":\"cdd62cbb-9981-4923-8fd7-894ca9509efb\",\"type\":\"LinearAxis\"},{\"attributes\":{},\"id\":\"c410be58-99b5-465d-9e90-69515b7a681e\",\"type\":\"BasicTicker\"},{\"attributes\":{},\"id\":\"7087becd-8b16-4c5f-acfb-f9b3e441c177\",\"type\":\"BasicTickFormatter\"},{\"attributes\":{\"callback\":null,\"end\":10.985113911918898,\"start\":-0.9048720923815717},\"id\":\"7cb9d59d-5e12-4222-a09a-d3e60d332394\",\"type\":\"Range1d\"},{\"attributes\":{\"label\":{\"value\":\"Correct\"},\"renderers\":[{\"id\":\"2beb7ee9-1833-457f-b6b2-d8e416a7ab85\",\"type\":\"GlyphRenderer\"}]},\"id\":\"0481b26d-9e0b-423e-8915-5d3d3d36fc74\",\"type\":\"LegendItem\"},{\"attributes\":{\"fill_alpha\":{\"value\":0.7},\"fill_color\":{\"value\":\"lightgrey\"},\"line_color\":{\"value\":\"lightgrey\"},\"size\":{\"units\":\"screen\",\"value\":8},\"x\":{\"field\":\"x_values\"},\"y\":{\"field\":\"y_values\"}},\"id\":\"52015bab-686a-4a77-b8c4-d2aed278a503\",\"type\":\"Circle\"}],\"root_ids\":[\"51dde70a-d1ba-41a3-aef0-8ac11fc4a02e\"]},\"title\":\"Bokeh Application\",\"version\":\"0.12.4\"}};\n",
       "            var render_items = [{\"docid\":\"4c1be02f-d608-4747-ac5c-0fe9d0305136\",\"elementid\":\"2d21bc0f-9243-4d54-ad18-53767f8e3232\",\"modelid\":\"51dde70a-d1ba-41a3-aef0-8ac11fc4a02e\"}];\n",
       "            \n",
       "            Bokeh.embed.embed_items(docs_json, render_items);\n",
       "          };\n",
       "          if (document.readyState != \"loading\") fn();\n",
       "          else document.addEventListener(\"DOMContentLoaded\", fn);\n",
       "        })();\n",
       "      },\n",
       "      function(Bokeh) {\n",
       "      }\n",
       "    ];\n",
       "  \n",
       "    function run_inline_js() {\n",
       "      \n",
       "      if ((window.Bokeh !== undefined) || (force === true)) {\n",
       "        for (var i = 0; i < inline_js.length; i++) {\n",
       "          inline_js[i](window.Bokeh);\n",
       "        }if (force === true) {\n",
       "          display_loaded();\n",
       "        }} else if (Date.now() < window._bokeh_timeout) {\n",
       "        setTimeout(run_inline_js, 100);\n",
       "      } else if (!window._bokeh_failed_load) {\n",
       "        console.log(\"Bokeh: BokehJS failed to load within specified timeout.\");\n",
       "        window._bokeh_failed_load = true;\n",
       "      } else if (force !== true) {\n",
       "        var cell = $(document.getElementById(\"2d21bc0f-9243-4d54-ad18-53767f8e3232\")).parents('.cell').data().cell;\n",
       "        cell.output_area.append_execute_result(NB_LOAD_WARNING)\n",
       "      }\n",
       "  \n",
       "    }\n",
       "  \n",
       "    if (window._bokeh_is_loading === 0) {\n",
       "      console.log(\"Bokeh: BokehJS loaded, going straight to plotting\");\n",
       "      run_inline_js();\n",
       "    } else {\n",
       "      load_libs(js_urls, function() {\n",
       "        console.log(\"Bokeh: BokehJS plotting callback run at\", now());\n",
       "        run_inline_js();\n",
       "      });\n",
       "    }\n",
       "  }(this));\n",
       "</script>"
      ]
     },
     "metadata": {},
     "output_type": "display_data"
    }
   ],
   "source": [
    "correct = ['Correct' if yi == yh_i else 'Incorrect' for yi, yh_i in zip(y, y_hat)]\n",
    "plot_svm_results(correct, clf.intercept_[0], clf.coef_[0][0], clf.coef_[0][1])"
   ]
  },
  {
   "cell_type": "markdown",
   "metadata": {
    "deletable": true,
    "editable": true,
    "slideshow": {
     "slide_type": "slide"
    }
   },
   "source": [
    "## Example: TODO"
   ]
  },
  {
   "cell_type": "markdown",
   "metadata": {
    "deletable": true,
    "editable": true,
    "slideshow": {
     "slide_type": "slide"
    }
   },
   "source": [
    "## Clustering\n",
    "\n",
    "We have a set of unclassified data and we want to cluster it around logical centers."
   ]
  },
  {
   "cell_type": "markdown",
   "metadata": {
    "deletable": true,
    "editable": true,
    "slideshow": {
     "slide_type": "subslide"
    }
   },
   "source": [
    "We generate 25 points around each center $(x_{10}, x_{20}) \\in \\{(0.25, 0.25), (0.30, 0.70), (0.70, 0.70)\\}$.\n",
    "\n",
    "$$x_{1i} = x_{10} + \\epsilon$$  \n",
    "  \n",
    "$$x_{2i} = x_{20} + \\epsilon$$\n",
    "  \n",
    "$$\\epsilon \\sim N\\left(0, 0.1^2\\right)$$\n"
   ]
  },
  {
   "cell_type": "code",
   "execution_count": 27,
   "metadata": {
    "collapsed": false,
    "deletable": true,
    "editable": true,
    "slideshow": {
     "slide_type": "subslide"
    }
   },
   "outputs": [],
   "source": [
    "centers = [(0.25, 0.25), (0.30, 0.70), (0.70, 0.70)]\n",
    "\n",
    "x1 = []\n",
    "x2 = []\n",
    "for x10, x20 in centers:\n",
    "    for _ in range(7):\n",
    "        eps_x1 = random.normalvariate(0, 0.1)\n",
    "        eps_x2 = random.normalvariate(0, 0.1)\n",
    "\n",
    "        x1i = min(max(0.0, x10+eps_x1), 1.0)\n",
    "        x2i = min(max(0.0, x20+eps_x2), 1.0)\n",
    "        \n",
    "        x1.append(x1i)\n",
    "        x2.append(x2i)\n",
    "        \n",
    "X = np.array(list(zip(x1, x2)))"
   ]
  },
  {
   "cell_type": "code",
   "execution_count": 28,
   "metadata": {
    "collapsed": false,
    "deletable": true,
    "editable": true,
    "scrolled": true,
    "slideshow": {
     "slide_type": "subslide"
    }
   },
   "outputs": [
    {
     "data": {
      "text/html": [
       "\n",
       "\n",
       "    <div class=\"bk-root\">\n",
       "        <div class=\"bk-plotdiv\" id=\"bc71f83c-3094-4ec5-a0e3-35355b7397a2\"></div>\n",
       "    </div>\n",
       "<script type=\"text/javascript\">\n",
       "  \n",
       "  (function(global) {\n",
       "    function now() {\n",
       "      return new Date();\n",
       "    }\n",
       "  \n",
       "    var force = false;\n",
       "  \n",
       "    if (typeof (window._bokeh_onload_callbacks) === \"undefined\" || force === true) {\n",
       "      window._bokeh_onload_callbacks = [];\n",
       "      window._bokeh_is_loading = undefined;\n",
       "    }\n",
       "  \n",
       "  \n",
       "    \n",
       "    if (typeof (window._bokeh_timeout) === \"undefined\" || force === true) {\n",
       "      window._bokeh_timeout = Date.now() + 0;\n",
       "      window._bokeh_failed_load = false;\n",
       "    }\n",
       "  \n",
       "    var NB_LOAD_WARNING = {'data': {'text/html':\n",
       "       \"<div style='background-color: #fdd'>\\n\"+\n",
       "       \"<p>\\n\"+\n",
       "       \"BokehJS does not appear to have successfully loaded. If loading BokehJS from CDN, this \\n\"+\n",
       "       \"may be due to a slow or bad network connection. Possible fixes:\\n\"+\n",
       "       \"</p>\\n\"+\n",
       "       \"<ul>\\n\"+\n",
       "       \"<li>re-rerun `output_notebook()` to attempt to load from CDN again, or</li>\\n\"+\n",
       "       \"<li>use INLINE resources instead, as so:</li>\\n\"+\n",
       "       \"</ul>\\n\"+\n",
       "       \"<code>\\n\"+\n",
       "       \"from bokeh.resources import INLINE\\n\"+\n",
       "       \"output_notebook(resources=INLINE)\\n\"+\n",
       "       \"</code>\\n\"+\n",
       "       \"</div>\"}};\n",
       "  \n",
       "    function display_loaded() {\n",
       "      if (window.Bokeh !== undefined) {\n",
       "        document.getElementById(\"bc71f83c-3094-4ec5-a0e3-35355b7397a2\").textContent = \"BokehJS successfully loaded.\";\n",
       "      } else if (Date.now() < window._bokeh_timeout) {\n",
       "        setTimeout(display_loaded, 100)\n",
       "      }\n",
       "    }\n",
       "  \n",
       "    function run_callbacks() {\n",
       "      window._bokeh_onload_callbacks.forEach(function(callback) { callback() });\n",
       "      delete window._bokeh_onload_callbacks\n",
       "      console.info(\"Bokeh: all callbacks have finished\");\n",
       "    }\n",
       "  \n",
       "    function load_libs(js_urls, callback) {\n",
       "      window._bokeh_onload_callbacks.push(callback);\n",
       "      if (window._bokeh_is_loading > 0) {\n",
       "        console.log(\"Bokeh: BokehJS is being loaded, scheduling callback at\", now());\n",
       "        return null;\n",
       "      }\n",
       "      if (js_urls == null || js_urls.length === 0) {\n",
       "        run_callbacks();\n",
       "        return null;\n",
       "      }\n",
       "      console.log(\"Bokeh: BokehJS not loaded, scheduling load and callback at\", now());\n",
       "      window._bokeh_is_loading = js_urls.length;\n",
       "      for (var i = 0; i < js_urls.length; i++) {\n",
       "        var url = js_urls[i];\n",
       "        var s = document.createElement('script');\n",
       "        s.src = url;\n",
       "        s.async = false;\n",
       "        s.onreadystatechange = s.onload = function() {\n",
       "          window._bokeh_is_loading--;\n",
       "          if (window._bokeh_is_loading === 0) {\n",
       "            console.log(\"Bokeh: all BokehJS libraries loaded\");\n",
       "            run_callbacks()\n",
       "          }\n",
       "        };\n",
       "        s.onerror = function() {\n",
       "          console.warn(\"failed to load library \" + url);\n",
       "        };\n",
       "        console.log(\"Bokeh: injecting script tag for BokehJS library: \", url);\n",
       "        document.getElementsByTagName(\"head\")[0].appendChild(s);\n",
       "      }\n",
       "    };var element = document.getElementById(\"bc71f83c-3094-4ec5-a0e3-35355b7397a2\");\n",
       "    if (element == null) {\n",
       "      console.log(\"Bokeh: ERROR: autoload.js configured with elementid 'bc71f83c-3094-4ec5-a0e3-35355b7397a2' but no matching script tag was found. \")\n",
       "      return false;\n",
       "    }\n",
       "  \n",
       "    var js_urls = [];\n",
       "  \n",
       "    var inline_js = [\n",
       "      function(Bokeh) {\n",
       "        (function() {\n",
       "          var fn = function() {\n",
       "            var docs_json = {\"1c4617aa-f4de-4925-98cd-d8c9ba9567f0\":{\"roots\":{\"references\":[{\"attributes\":{},\"id\":\"95975f20-899b-43bb-8dfa-8e83c601c19d\",\"type\":\"BasicTickFormatter\"},{\"attributes\":{\"axis_label\":\"x2\",\"formatter\":{\"id\":\"70612b76-dfb6-414c-91bd-0bfddb2d94c7\",\"type\":\"BasicTickFormatter\"},\"plot\":{\"id\":\"731a4ba2-e305-4e45-a25a-21c47e732234\",\"subtype\":\"Chart\",\"type\":\"Plot\"},\"ticker\":{\"id\":\"3cf41661-7e61-44f0-9ea4-7198921e7b0b\",\"type\":\"BasicTicker\"}},\"id\":\"66d39d66-1ea1-4cbf-a000-24734d001e11\",\"type\":\"LinearAxis\"},{\"attributes\":{},\"id\":\"6c315108-3b9d-416c-be26-dc498a6ac650\",\"type\":\"ToolEvents\"},{\"attributes\":{\"callback\":null,\"end\":0.9642357693345615,\"start\":0.010450087948536135},\"id\":\"3a21b657-507b-4911-9b92-d891b9fc17da\",\"type\":\"Range1d\"},{\"attributes\":{},\"id\":\"07016042-4ac7-4b80-86f1-db3625242c4e\",\"type\":\"BasicTicker\"},{\"attributes\":{\"callback\":null,\"end\":0.9744310742037013,\"start\":0.03732844314802011},\"id\":\"c4dcc7d0-f6c2-4c93-888d-eae09221f17d\",\"type\":\"Range1d\"},{\"attributes\":{\"dimension\":1,\"plot\":{\"id\":\"731a4ba2-e305-4e45-a25a-21c47e732234\",\"subtype\":\"Chart\",\"type\":\"Plot\"},\"ticker\":{\"id\":\"3cf41661-7e61-44f0-9ea4-7198921e7b0b\",\"type\":\"BasicTicker\"}},\"id\":\"30ad8171-6974-4850-803b-bf9118e9dab2\",\"type\":\"Grid\"},{\"attributes\":{\"below\":[{\"id\":\"f3bfabca-2aae-4ecd-880c-ddc9f74b7636\",\"type\":\"LinearAxis\"}],\"css_classes\":null,\"height\":400,\"left\":[{\"id\":\"66d39d66-1ea1-4cbf-a000-24734d001e11\",\"type\":\"LinearAxis\"}],\"renderers\":[{\"id\":\"eedc1920-119f-400e-88d4-93a09231c8c5\",\"type\":\"BoxAnnotation\"},{\"id\":\"7c546dd0-35cd-4b29-a7b4-404c47595ccc\",\"type\":\"GlyphRenderer\"},{\"id\":\"ce2bfcbe-f6bc-4fcc-8ed5-a68d35938d0d\",\"type\":\"Legend\"},{\"id\":\"f3bfabca-2aae-4ecd-880c-ddc9f74b7636\",\"type\":\"LinearAxis\"},{\"id\":\"66d39d66-1ea1-4cbf-a000-24734d001e11\",\"type\":\"LinearAxis\"},{\"id\":\"50f0ade3-c39e-4e6c-a15f-c0619e1d7fc1\",\"type\":\"Grid\"},{\"id\":\"30ad8171-6974-4850-803b-bf9118e9dab2\",\"type\":\"Grid\"}],\"title\":{\"id\":\"516d6731-a459-4495-877c-47c68277b8a4\",\"type\":\"Title\"},\"tool_events\":{\"id\":\"6c315108-3b9d-416c-be26-dc498a6ac650\",\"type\":\"ToolEvents\"},\"toolbar\":{\"id\":\"76c59111-70e2-4f23-b29b-12643806e41f\",\"type\":\"Toolbar\"},\"width\":750,\"x_mapper_type\":\"auto\",\"x_range\":{\"id\":\"3a21b657-507b-4911-9b92-d891b9fc17da\",\"type\":\"Range1d\"},\"y_mapper_type\":\"auto\",\"y_range\":{\"id\":\"c4dcc7d0-f6c2-4c93-888d-eae09221f17d\",\"type\":\"Range1d\"}},\"id\":\"731a4ba2-e305-4e45-a25a-21c47e732234\",\"subtype\":\"Chart\",\"type\":\"Plot\"},{\"attributes\":{\"location\":\"top_left\",\"plot\":{\"id\":\"731a4ba2-e305-4e45-a25a-21c47e732234\",\"subtype\":\"Chart\",\"type\":\"Plot\"}},\"id\":\"ce2bfcbe-f6bc-4fcc-8ed5-a68d35938d0d\",\"type\":\"Legend\"},{\"attributes\":{\"callback\":null,\"column_names\":[\"x_values\",\"y_values\"],\"data\":{\"chart_index\":[null,null,null,null,null,null,null,null,null,null,null,null,null,null,null,null,null,null,null,null,null],\"x_values\":{\"__ndarray__\":\"aYFMvWE3yj+Tcn+nV0fIP/rU8XuB49U/UJnh4Pj/3D/rbVGfGbrEP/QRjWzd38Y/xHWoQezsyD/UbPhY7VnZP0Cu6yCmgdc/eciRl5oi0z8envMgupvRP6RPnfxPyNg/kjZkaswFtz+B6Y9/yVDSP5AQeYgsH+M/XwQWaXDn4j96qxAS9xvmP9b4RGQMLOI/cS2pMH9Q5T+soCsD6tfjP+Nr0NfmT+w/\",\"dtype\":\"float64\",\"shape\":[21]},\"y_values\":{\"__ndarray__\":\"yj6NrVjZ3T8KdaXKL4y9P7RNmn+5QdU/J6kkbR4t0j9hBewAA33WP5TeGnwVZMg/XYczzqyH1T9yktYgJDjlP2p5eYXPruw/0vbmJbHm6z+ICwHXAibiPxZZ+eovOeY/GCNz8sbX5D+Pjfe3f9DkP9pAYakOHeg/Lscqf0rc6D9tEXHodizpPyDhEf3kZOY/2STZSaEH5j9+3eboD2jnP7Rmg1GFn90/\",\"dtype\":\"float64\",\"shape\":[21]}}},\"id\":\"7cd49f15-234e-4278-bb04-7547c086103e\",\"type\":\"ColumnDataSource\"},{\"attributes\":{\"axis_label\":\"x1\",\"formatter\":{\"id\":\"95975f20-899b-43bb-8dfa-8e83c601c19d\",\"type\":\"BasicTickFormatter\"},\"plot\":{\"id\":\"731a4ba2-e305-4e45-a25a-21c47e732234\",\"subtype\":\"Chart\",\"type\":\"Plot\"},\"ticker\":{\"id\":\"07016042-4ac7-4b80-86f1-db3625242c4e\",\"type\":\"BasicTicker\"}},\"id\":\"f3bfabca-2aae-4ecd-880c-ddc9f74b7636\",\"type\":\"LinearAxis\"},{\"attributes\":{\"plot\":null,\"text\":null},\"id\":\"516d6731-a459-4495-877c-47c68277b8a4\",\"type\":\"Title\"},{\"attributes\":{\"fill_alpha\":{\"value\":0.7},\"fill_color\":{\"value\":\"#f22c40\"},\"line_color\":{\"value\":\"#f22c40\"},\"size\":{\"units\":\"screen\",\"value\":8},\"x\":{\"field\":\"x_values\"},\"y\":{\"field\":\"y_values\"}},\"id\":\"ca725ed5-09ec-4a62-a3db-cf63975458f5\",\"type\":\"Circle\"},{\"attributes\":{\"active_drag\":\"auto\",\"active_scroll\":\"auto\",\"active_tap\":\"auto\",\"tools\":[{\"id\":\"a5e30193-4e4d-43ca-b87f-88e8143d65ca\",\"type\":\"PanTool\"},{\"id\":\"52ee19b0-5a9c-44b6-b7ac-e7c3274f9acb\",\"type\":\"WheelZoomTool\"},{\"id\":\"20be1ceb-f12e-41af-a4d1-13b28e87c948\",\"type\":\"BoxZoomTool\"},{\"id\":\"453dbf16-55b2-4c0b-952c-c4612beb70fe\",\"type\":\"SaveTool\"},{\"id\":\"0fe5b0fb-2402-43f0-950d-408c0dfcac7c\",\"type\":\"ResetTool\"},{\"id\":\"4355b77f-02a7-4c67-a924-9013b9b44d18\",\"type\":\"HelpTool\"}]},\"id\":\"76c59111-70e2-4f23-b29b-12643806e41f\",\"type\":\"Toolbar\"},{\"attributes\":{\"plot\":{\"id\":\"731a4ba2-e305-4e45-a25a-21c47e732234\",\"subtype\":\"Chart\",\"type\":\"Plot\"},\"ticker\":{\"id\":\"07016042-4ac7-4b80-86f1-db3625242c4e\",\"type\":\"BasicTicker\"}},\"id\":\"50f0ade3-c39e-4e6c-a15f-c0619e1d7fc1\",\"type\":\"Grid\"},{\"attributes\":{},\"id\":\"70612b76-dfb6-414c-91bd-0bfddb2d94c7\",\"type\":\"BasicTickFormatter\"},{\"attributes\":{},\"id\":\"3cf41661-7e61-44f0-9ea4-7198921e7b0b\",\"type\":\"BasicTicker\"},{\"attributes\":{\"data_source\":{\"id\":\"7cd49f15-234e-4278-bb04-7547c086103e\",\"type\":\"ColumnDataSource\"},\"glyph\":{\"id\":\"ca725ed5-09ec-4a62-a3db-cf63975458f5\",\"type\":\"Circle\"},\"hover_glyph\":null,\"nonselection_glyph\":null,\"selection_glyph\":null},\"id\":\"7c546dd0-35cd-4b29-a7b4-404c47595ccc\",\"type\":\"GlyphRenderer\"},{\"attributes\":{\"bottom_units\":\"screen\",\"fill_alpha\":{\"value\":0.5},\"fill_color\":{\"value\":\"lightgrey\"},\"left_units\":\"screen\",\"level\":\"overlay\",\"line_alpha\":{\"value\":1.0},\"line_color\":{\"value\":\"black\"},\"line_dash\":[4,4],\"line_width\":{\"value\":2},\"plot\":null,\"render_mode\":\"css\",\"right_units\":\"screen\",\"top_units\":\"screen\"},\"id\":\"eedc1920-119f-400e-88d4-93a09231c8c5\",\"type\":\"BoxAnnotation\"},{\"attributes\":{\"plot\":{\"id\":\"731a4ba2-e305-4e45-a25a-21c47e732234\",\"subtype\":\"Chart\",\"type\":\"Plot\"}},\"id\":\"a5e30193-4e4d-43ca-b87f-88e8143d65ca\",\"type\":\"PanTool\"},{\"attributes\":{\"plot\":{\"id\":\"731a4ba2-e305-4e45-a25a-21c47e732234\",\"subtype\":\"Chart\",\"type\":\"Plot\"}},\"id\":\"52ee19b0-5a9c-44b6-b7ac-e7c3274f9acb\",\"type\":\"WheelZoomTool\"},{\"attributes\":{\"overlay\":{\"id\":\"eedc1920-119f-400e-88d4-93a09231c8c5\",\"type\":\"BoxAnnotation\"},\"plot\":{\"id\":\"731a4ba2-e305-4e45-a25a-21c47e732234\",\"subtype\":\"Chart\",\"type\":\"Plot\"}},\"id\":\"20be1ceb-f12e-41af-a4d1-13b28e87c948\",\"type\":\"BoxZoomTool\"},{\"attributes\":{\"plot\":{\"id\":\"731a4ba2-e305-4e45-a25a-21c47e732234\",\"subtype\":\"Chart\",\"type\":\"Plot\"}},\"id\":\"453dbf16-55b2-4c0b-952c-c4612beb70fe\",\"type\":\"SaveTool\"},{\"attributes\":{\"plot\":{\"id\":\"731a4ba2-e305-4e45-a25a-21c47e732234\",\"subtype\":\"Chart\",\"type\":\"Plot\"}},\"id\":\"0fe5b0fb-2402-43f0-950d-408c0dfcac7c\",\"type\":\"ResetTool\"},{\"attributes\":{\"plot\":{\"id\":\"731a4ba2-e305-4e45-a25a-21c47e732234\",\"subtype\":\"Chart\",\"type\":\"Plot\"}},\"id\":\"4355b77f-02a7-4c67-a924-9013b9b44d18\",\"type\":\"HelpTool\"}],\"root_ids\":[\"731a4ba2-e305-4e45-a25a-21c47e732234\"]},\"title\":\"Bokeh Application\",\"version\":\"0.12.4\"}};\n",
       "            var render_items = [{\"docid\":\"1c4617aa-f4de-4925-98cd-d8c9ba9567f0\",\"elementid\":\"bc71f83c-3094-4ec5-a0e3-35355b7397a2\",\"modelid\":\"731a4ba2-e305-4e45-a25a-21c47e732234\"}];\n",
       "            \n",
       "            Bokeh.embed.embed_items(docs_json, render_items);\n",
       "          };\n",
       "          if (document.readyState != \"loading\") fn();\n",
       "          else document.addEventListener(\"DOMContentLoaded\", fn);\n",
       "        })();\n",
       "      },\n",
       "      function(Bokeh) {\n",
       "      }\n",
       "    ];\n",
       "  \n",
       "    function run_inline_js() {\n",
       "      \n",
       "      if ((window.Bokeh !== undefined) || (force === true)) {\n",
       "        for (var i = 0; i < inline_js.length; i++) {\n",
       "          inline_js[i](window.Bokeh);\n",
       "        }if (force === true) {\n",
       "          display_loaded();\n",
       "        }} else if (Date.now() < window._bokeh_timeout) {\n",
       "        setTimeout(run_inline_js, 100);\n",
       "      } else if (!window._bokeh_failed_load) {\n",
       "        console.log(\"Bokeh: BokehJS failed to load within specified timeout.\");\n",
       "        window._bokeh_failed_load = true;\n",
       "      } else if (force !== true) {\n",
       "        var cell = $(document.getElementById(\"bc71f83c-3094-4ec5-a0e3-35355b7397a2\")).parents('.cell').data().cell;\n",
       "        cell.output_area.append_execute_result(NB_LOAD_WARNING)\n",
       "      }\n",
       "  \n",
       "    }\n",
       "  \n",
       "    if (window._bokeh_is_loading === 0) {\n",
       "      console.log(\"Bokeh: BokehJS loaded, going straight to plotting\");\n",
       "      run_inline_js();\n",
       "    } else {\n",
       "      load_libs(js_urls, function() {\n",
       "        console.log(\"Bokeh: BokehJS plotting callback run at\", now());\n",
       "        run_inline_js();\n",
       "      });\n",
       "    }\n",
       "  }(this));\n",
       "</script>"
      ]
     },
     "metadata": {},
     "output_type": "display_data"
    }
   ],
   "source": [
    "show(Scatter({'x1': x1, 'x2': x2}, x='x1', y='x2', width=750, height=400))"
   ]
  },
  {
   "cell_type": "markdown",
   "metadata": {
    "collapsed": true,
    "deletable": true,
    "editable": true,
    "slideshow": {
     "slide_type": "slide"
    }
   },
   "source": [
    "### Clustering a la `scikit-learn`"
   ]
  },
  {
   "cell_type": "code",
   "execution_count": 29,
   "metadata": {
    "collapsed": false,
    "slideshow": {
     "slide_type": "subslide"
    }
   },
   "outputs": [
    {
     "data": {
      "text/plain": [
       "KMeans(algorithm='auto', copy_x=True, init='k-means++', max_iter=300,\n",
       "    n_clusters=3, n_init=10, n_jobs=1, precompute_distances='auto',\n",
       "    random_state=None, tol=0.0001, verbose=0)"
      ]
     },
     "execution_count": 29,
     "metadata": {},
     "output_type": "execute_result"
    }
   ],
   "source": [
    "from sklearn.cluster import KMeans\n",
    "clust = KMeans(n_clusters=3)\n",
    "clust.fit(X)"
   ]
  },
  {
   "cell_type": "code",
   "execution_count": 30,
   "metadata": {
    "collapsed": false,
    "slideshow": {
     "slide_type": "subslide"
    }
   },
   "outputs": [
    {
     "data": {
      "text/plain": [
       "array([[ 0.24642756,  0.29661312],\n",
       "       [ 0.65971923,  0.69995396],\n",
       "       [ 0.30012256,  0.71353791]])"
      ]
     },
     "execution_count": 30,
     "metadata": {},
     "output_type": "execute_result"
    }
   ],
   "source": [
    "clust.cluster_centers_"
   ]
  },
  {
   "cell_type": "code",
   "execution_count": 38,
   "metadata": {
    "collapsed": true,
    "slideshow": {
     "slide_type": "subslide"
    }
   },
   "outputs": [],
   "source": [
    "def plot_clusters(clusters, cluster_centers):\n",
    "    plot = Scatter(\n",
    "        {'x1': x1, 'x2': x2, 'clusters': clusters},\n",
    "        x='x1', y='x2',\n",
    "        color='clusters', marker='clusters', \n",
    "        width=750, height=400\n",
    "    )\n",
    "\n",
    "    for x10, x20 in cluster_centers:\n",
    "        plot.circle(x10, x20, alpha=0.5, color='grey', size=15)\n",
    "\n",
    "    show(plot)"
   ]
  },
  {
   "cell_type": "code",
   "execution_count": 39,
   "metadata": {
    "collapsed": false,
    "slideshow": {
     "slide_type": "subslide"
    }
   },
   "outputs": [
    {
     "data": {
      "text/html": [
       "\n",
       "\n",
       "    <div class=\"bk-root\">\n",
       "        <div class=\"bk-plotdiv\" id=\"e28f3bae-2f6a-46a0-91f4-0f678e640111\"></div>\n",
       "    </div>\n",
       "<script type=\"text/javascript\">\n",
       "  \n",
       "  (function(global) {\n",
       "    function now() {\n",
       "      return new Date();\n",
       "    }\n",
       "  \n",
       "    var force = false;\n",
       "  \n",
       "    if (typeof (window._bokeh_onload_callbacks) === \"undefined\" || force === true) {\n",
       "      window._bokeh_onload_callbacks = [];\n",
       "      window._bokeh_is_loading = undefined;\n",
       "    }\n",
       "  \n",
       "  \n",
       "    \n",
       "    if (typeof (window._bokeh_timeout) === \"undefined\" || force === true) {\n",
       "      window._bokeh_timeout = Date.now() + 0;\n",
       "      window._bokeh_failed_load = false;\n",
       "    }\n",
       "  \n",
       "    var NB_LOAD_WARNING = {'data': {'text/html':\n",
       "       \"<div style='background-color: #fdd'>\\n\"+\n",
       "       \"<p>\\n\"+\n",
       "       \"BokehJS does not appear to have successfully loaded. If loading BokehJS from CDN, this \\n\"+\n",
       "       \"may be due to a slow or bad network connection. Possible fixes:\\n\"+\n",
       "       \"</p>\\n\"+\n",
       "       \"<ul>\\n\"+\n",
       "       \"<li>re-rerun `output_notebook()` to attempt to load from CDN again, or</li>\\n\"+\n",
       "       \"<li>use INLINE resources instead, as so:</li>\\n\"+\n",
       "       \"</ul>\\n\"+\n",
       "       \"<code>\\n\"+\n",
       "       \"from bokeh.resources import INLINE\\n\"+\n",
       "       \"output_notebook(resources=INLINE)\\n\"+\n",
       "       \"</code>\\n\"+\n",
       "       \"</div>\"}};\n",
       "  \n",
       "    function display_loaded() {\n",
       "      if (window.Bokeh !== undefined) {\n",
       "        document.getElementById(\"e28f3bae-2f6a-46a0-91f4-0f678e640111\").textContent = \"BokehJS successfully loaded.\";\n",
       "      } else if (Date.now() < window._bokeh_timeout) {\n",
       "        setTimeout(display_loaded, 100)\n",
       "      }\n",
       "    }\n",
       "  \n",
       "    function run_callbacks() {\n",
       "      window._bokeh_onload_callbacks.forEach(function(callback) { callback() });\n",
       "      delete window._bokeh_onload_callbacks\n",
       "      console.info(\"Bokeh: all callbacks have finished\");\n",
       "    }\n",
       "  \n",
       "    function load_libs(js_urls, callback) {\n",
       "      window._bokeh_onload_callbacks.push(callback);\n",
       "      if (window._bokeh_is_loading > 0) {\n",
       "        console.log(\"Bokeh: BokehJS is being loaded, scheduling callback at\", now());\n",
       "        return null;\n",
       "      }\n",
       "      if (js_urls == null || js_urls.length === 0) {\n",
       "        run_callbacks();\n",
       "        return null;\n",
       "      }\n",
       "      console.log(\"Bokeh: BokehJS not loaded, scheduling load and callback at\", now());\n",
       "      window._bokeh_is_loading = js_urls.length;\n",
       "      for (var i = 0; i < js_urls.length; i++) {\n",
       "        var url = js_urls[i];\n",
       "        var s = document.createElement('script');\n",
       "        s.src = url;\n",
       "        s.async = false;\n",
       "        s.onreadystatechange = s.onload = function() {\n",
       "          window._bokeh_is_loading--;\n",
       "          if (window._bokeh_is_loading === 0) {\n",
       "            console.log(\"Bokeh: all BokehJS libraries loaded\");\n",
       "            run_callbacks()\n",
       "          }\n",
       "        };\n",
       "        s.onerror = function() {\n",
       "          console.warn(\"failed to load library \" + url);\n",
       "        };\n",
       "        console.log(\"Bokeh: injecting script tag for BokehJS library: \", url);\n",
       "        document.getElementsByTagName(\"head\")[0].appendChild(s);\n",
       "      }\n",
       "    };var element = document.getElementById(\"e28f3bae-2f6a-46a0-91f4-0f678e640111\");\n",
       "    if (element == null) {\n",
       "      console.log(\"Bokeh: ERROR: autoload.js configured with elementid 'e28f3bae-2f6a-46a0-91f4-0f678e640111' but no matching script tag was found. \")\n",
       "      return false;\n",
       "    }\n",
       "  \n",
       "    var js_urls = [];\n",
       "  \n",
       "    var inline_js = [\n",
       "      function(Bokeh) {\n",
       "        (function() {\n",
       "          var fn = function() {\n",
       "            var docs_json = {\"bc759441-9196-4db2-b2c5-c18fdcc3c2e1\":{\"roots\":{\"references\":[{\"attributes\":{\"bottom_units\":\"screen\",\"fill_alpha\":{\"value\":0.5},\"fill_color\":{\"value\":\"lightgrey\"},\"left_units\":\"screen\",\"level\":\"overlay\",\"line_alpha\":{\"value\":1.0},\"line_color\":{\"value\":\"black\"},\"line_dash\":[4,4],\"line_width\":{\"value\":2},\"plot\":null,\"render_mode\":\"css\",\"right_units\":\"screen\",\"top_units\":\"screen\"},\"id\":\"d967434c-28d3-46f5-8995-a978eed7a6d8\",\"type\":\"BoxAnnotation\"},{\"attributes\":{},\"id\":\"81b2fa8f-96fc-4054-a1df-de05680108f7\",\"type\":\"BasicTicker\"},{\"attributes\":{\"label\":{\"value\":\"0\"},\"renderers\":[{\"id\":\"95a28abc-caf8-4053-8beb-0674f39f264b\",\"type\":\"GlyphRenderer\"}]},\"id\":\"098e027b-25b6-4b48-8ce9-42f183859854\",\"type\":\"LegendItem\"},{\"attributes\":{\"plot\":null,\"text\":null},\"id\":\"a8f427d7-9b7c-4db4-8d14-c65a74f30ff9\",\"type\":\"Title\"},{\"attributes\":{\"plot\":{\"id\":\"6256235d-8616-41eb-8a4d-a1b38e2ce164\",\"subtype\":\"Chart\",\"type\":\"Plot\"}},\"id\":\"aae68783-3995-4015-acba-437a0b427ef2\",\"type\":\"PanTool\"},{\"attributes\":{\"axis_label\":\"x1\",\"formatter\":{\"id\":\"b58ff722-1d8a-4de1-b7db-6438bec30a53\",\"type\":\"BasicTickFormatter\"},\"plot\":{\"id\":\"6256235d-8616-41eb-8a4d-a1b38e2ce164\",\"subtype\":\"Chart\",\"type\":\"Plot\"},\"ticker\":{\"id\":\"6f111bcb-a5a0-4dcd-9c93-ae326dea7823\",\"type\":\"BasicTicker\"}},\"id\":\"04299d71-f00e-4651-8309-01ea1dc8f021\",\"type\":\"LinearAxis\"},{\"attributes\":{\"items\":[{\"id\":\"098e027b-25b6-4b48-8ce9-42f183859854\",\"type\":\"LegendItem\"},{\"id\":\"ab943cc2-46c3-4407-9646-fc30400b87b7\",\"type\":\"LegendItem\"},{\"id\":\"e02fd86c-6897-430f-9e6b-4c03ff0f0a75\",\"type\":\"LegendItem\"}],\"location\":\"top_left\",\"plot\":{\"id\":\"6256235d-8616-41eb-8a4d-a1b38e2ce164\",\"subtype\":\"Chart\",\"type\":\"Plot\"}},\"id\":\"5d70ee58-688d-4c50-8226-dc470ea1db6c\",\"type\":\"Legend\"},{\"attributes\":{\"label\":{\"value\":\"2\"},\"renderers\":[{\"id\":\"daaef298-7bee-4b44-808e-95041be3ba6f\",\"type\":\"GlyphRenderer\"}]},\"id\":\"ab943cc2-46c3-4407-9646-fc30400b87b7\",\"type\":\"LegendItem\"},{\"attributes\":{\"plot\":{\"id\":\"6256235d-8616-41eb-8a4d-a1b38e2ce164\",\"subtype\":\"Chart\",\"type\":\"Plot\"}},\"id\":\"be6db54d-12f0-411e-a19d-6aca231ff5b9\",\"type\":\"WheelZoomTool\"},{\"attributes\":{\"overlay\":{\"id\":\"d967434c-28d3-46f5-8995-a978eed7a6d8\",\"type\":\"BoxAnnotation\"},\"plot\":{\"id\":\"6256235d-8616-41eb-8a4d-a1b38e2ce164\",\"subtype\":\"Chart\",\"type\":\"Plot\"}},\"id\":\"478e0725-0b0f-4605-a438-3f32608d07a1\",\"type\":\"BoxZoomTool\"},{\"attributes\":{\"callback\":null,\"column_names\":[\"x_values\",\"y_values\"],\"data\":{\"chart_index\":[{\"clusters\":1},{\"clusters\":1},{\"clusters\":1},{\"clusters\":1},{\"clusters\":1},{\"clusters\":1},{\"clusters\":1}],\"clusters\":[1,1,1,1,1,1,1],\"x_values\":{\"__ndarray__\":\"kBB5iCwf4z9fBBZpcOfiP3qrEBL3G+Y/1vhEZAws4j9xLakwf1DlP6ygKwPq1+M/42vQ1+ZP7D8=\",\"dtype\":\"float64\",\"shape\":[7]},\"y_values\":{\"__ndarray__\":\"2kBhqQ4d6D8uxyp/StzoP20Rceh2LOk/IOER/eRk5j/ZJNlJoQfmP37d5ugPaOc/tGaDUYWf3T8=\",\"dtype\":\"float64\",\"shape\":[7]}}},\"id\":\"f7bea51a-935c-443e-a852-e8fea7199b8a\",\"type\":\"ColumnDataSource\"},{\"attributes\":{\"plot\":{\"id\":\"6256235d-8616-41eb-8a4d-a1b38e2ce164\",\"subtype\":\"Chart\",\"type\":\"Plot\"}},\"id\":\"58aad6d9-c1e4-4d95-a0d2-275d40695359\",\"type\":\"SaveTool\"},{\"attributes\":{\"plot\":{\"id\":\"6256235d-8616-41eb-8a4d-a1b38e2ce164\",\"subtype\":\"Chart\",\"type\":\"Plot\"}},\"id\":\"1f109c5b-d7f3-404c-9ccf-54340ff2fd69\",\"type\":\"ResetTool\"},{\"attributes\":{},\"id\":\"10b2308b-2344-44ca-9d8d-819346876709\",\"type\":\"ToolEvents\"},{\"attributes\":{\"plot\":{\"id\":\"6256235d-8616-41eb-8a4d-a1b38e2ce164\",\"subtype\":\"Chart\",\"type\":\"Plot\"}},\"id\":\"1603f9d8-9ca7-48d5-8949-9942fe062932\",\"type\":\"HelpTool\"},{\"attributes\":{},\"id\":\"e2c6fbf7-cc73-4f34-bac2-8b179c437334\",\"type\":\"BasicTickFormatter\"},{\"attributes\":{\"label\":{\"value\":\"1\"},\"renderers\":[{\"id\":\"e2d2a233-9268-4222-ac1d-2bcefa0800ae\",\"type\":\"GlyphRenderer\"}]},\"id\":\"e02fd86c-6897-430f-9e6b-4c03ff0f0a75\",\"type\":\"LegendItem\"},{\"attributes\":{},\"id\":\"6f111bcb-a5a0-4dcd-9c93-ae326dea7823\",\"type\":\"BasicTicker\"},{\"attributes\":{\"fill_alpha\":{\"value\":0.7},\"fill_color\":{\"value\":\"#5ab738\"},\"line_color\":{\"value\":\"#5ab738\"},\"size\":{\"units\":\"screen\",\"value\":8},\"x\":{\"field\":\"x_values\"},\"y\":{\"field\":\"y_values\"}},\"id\":\"0ce86aee-de86-4971-956f-3bd744addc3c\",\"type\":\"Square\"},{\"attributes\":{\"callback\":null},\"id\":\"dc171620-0d70-43d3-817a-e628dc223535\",\"type\":\"ColumnDataSource\"},{\"attributes\":{\"fill_alpha\":{\"value\":0.1},\"fill_color\":{\"value\":\"#1f77b4\"},\"line_alpha\":{\"value\":0.1},\"line_color\":{\"value\":\"#1f77b4\"},\"size\":{\"units\":\"screen\",\"value\":15},\"x\":{\"value\":0.6597192254286972},\"y\":{\"value\":0.699953958808628}},\"id\":\"45cab577-7830-48ad-b482-2f7d923d46cb\",\"type\":\"Circle\"},{\"attributes\":{\"fill_alpha\":{\"value\":0.5},\"fill_color\":{\"value\":\"grey\"},\"line_alpha\":{\"value\":0.5},\"line_color\":{\"value\":\"grey\"},\"size\":{\"units\":\"screen\",\"value\":15},\"x\":{\"value\":0.2464275602235113},\"y\":{\"value\":0.29661311769791393}},\"id\":\"fe6c6255-1fda-4e14-bfe2-e4eaabf3c44c\",\"type\":\"Circle\"},{\"attributes\":{\"fill_alpha\":{\"value\":0.7},\"fill_color\":{\"value\":\"#f22c40\"},\"line_color\":{\"value\":\"#f22c40\"},\"size\":{\"units\":\"screen\",\"value\":8},\"x\":{\"field\":\"x_values\"},\"y\":{\"field\":\"y_values\"}},\"id\":\"d660a8aa-29f7-4d9e-8ee1-52905f33ba72\",\"type\":\"Circle\"},{\"attributes\":{\"callback\":null},\"id\":\"448fa568-32ba-43ba-b425-f22079c0ca02\",\"type\":\"ColumnDataSource\"},{\"attributes\":{\"data_source\":{\"id\":\"ba59f53f-5dca-4612-849c-b0bd219749e7\",\"type\":\"ColumnDataSource\"},\"glyph\":{\"id\":\"d660a8aa-29f7-4d9e-8ee1-52905f33ba72\",\"type\":\"Circle\"},\"hover_glyph\":null,\"nonselection_glyph\":null,\"selection_glyph\":null},\"id\":\"95a28abc-caf8-4053-8beb-0674f39f264b\",\"type\":\"GlyphRenderer\"},{\"attributes\":{\"plot\":{\"id\":\"6256235d-8616-41eb-8a4d-a1b38e2ce164\",\"subtype\":\"Chart\",\"type\":\"Plot\"},\"ticker\":{\"id\":\"6f111bcb-a5a0-4dcd-9c93-ae326dea7823\",\"type\":\"BasicTicker\"}},\"id\":\"03fd168a-c1e6-495c-8022-77e0c0f0302e\",\"type\":\"Grid\"},{\"attributes\":{\"callback\":null,\"column_names\":[\"x_values\",\"y_values\"],\"data\":{\"chart_index\":[{\"clusters\":0},{\"clusters\":0},{\"clusters\":0},{\"clusters\":0},{\"clusters\":0},{\"clusters\":0},{\"clusters\":0}],\"clusters\":[0,0,0,0,0,0,0],\"x_values\":{\"__ndarray__\":\"aYFMvWE3yj+Tcn+nV0fIP/rU8XuB49U/UJnh4Pj/3D/rbVGfGbrEP/QRjWzd38Y/xHWoQezsyD8=\",\"dtype\":\"float64\",\"shape\":[7]},\"y_values\":{\"__ndarray__\":\"yj6NrVjZ3T8KdaXKL4y9P7RNmn+5QdU/J6kkbR4t0j9hBewAA33WP5TeGnwVZMg/XYczzqyH1T8=\",\"dtype\":\"float64\",\"shape\":[7]}}},\"id\":\"ba59f53f-5dca-4612-849c-b0bd219749e7\",\"type\":\"ColumnDataSource\"},{\"attributes\":{\"data_source\":{\"id\":\"448fa568-32ba-43ba-b425-f22079c0ca02\",\"type\":\"ColumnDataSource\"},\"glyph\":{\"id\":\"375e6d74-7c9a-47de-983f-1cb053643bbf\",\"type\":\"Circle\"},\"hover_glyph\":null,\"nonselection_glyph\":{\"id\":\"45cab577-7830-48ad-b482-2f7d923d46cb\",\"type\":\"Circle\"},\"selection_glyph\":null},\"id\":\"7cb8303c-7de3-49fe-a904-0293df1809bf\",\"type\":\"GlyphRenderer\"},{\"attributes\":{\"data_source\":{\"id\":\"f7bea51a-935c-443e-a852-e8fea7199b8a\",\"type\":\"ColumnDataSource\"},\"glyph\":{\"id\":\"0ce86aee-de86-4971-956f-3bd744addc3c\",\"type\":\"Square\"},\"hover_glyph\":null,\"nonselection_glyph\":null,\"selection_glyph\":null},\"id\":\"e2d2a233-9268-4222-ac1d-2bcefa0800ae\",\"type\":\"GlyphRenderer\"},{\"attributes\":{\"callback\":null,\"column_names\":[\"x_values\",\"y_values\"],\"data\":{\"chart_index\":[{\"clusters\":2},{\"clusters\":2},{\"clusters\":2},{\"clusters\":2},{\"clusters\":2},{\"clusters\":2},{\"clusters\":2}],\"clusters\":[2,2,2,2,2,2,2],\"x_values\":{\"__ndarray__\":\"1Gz4WO1Z2T9ArusgpoHXP3nIkZeaItM/Hp7zILqb0T+kT538T8jYP5I2ZGrMBbc/gemPf8lQ0j8=\",\"dtype\":\"float64\",\"shape\":[7]},\"y_values\":{\"__ndarray__\":\"cpLWICQ45T9qeXmFz67sP9L25iWx5us/iAsB1wIm4j8WWfnqLznmPxgjc/LG1+Q/j433t3/Q5D8=\",\"dtype\":\"float64\",\"shape\":[7]}}},\"id\":\"5651f784-9dfb-4eaa-a3fd-b25789ede2f6\",\"type\":\"ColumnDataSource\"},{\"attributes\":{\"fill_alpha\":{\"value\":0.7},\"fill_color\":{\"value\":\"#407ee7\"},\"line_color\":{\"value\":\"#407ee7\"},\"size\":{\"units\":\"screen\",\"value\":8},\"x\":{\"field\":\"x_values\"},\"y\":{\"field\":\"y_values\"}},\"id\":\"b484828e-898d-4759-be85-eb31bfc77b95\",\"type\":\"Triangle\"},{\"attributes\":{\"fill_alpha\":{\"value\":0.1},\"fill_color\":{\"value\":\"#1f77b4\"},\"line_alpha\":{\"value\":0.1},\"line_color\":{\"value\":\"#1f77b4\"},\"size\":{\"units\":\"screen\",\"value\":15},\"x\":{\"value\":0.2464275602235113},\"y\":{\"value\":0.29661311769791393}},\"id\":\"054da7cd-1edb-4767-ba9a-c24fa5776a08\",\"type\":\"Circle\"},{\"attributes\":{\"data_source\":{\"id\":\"5651f784-9dfb-4eaa-a3fd-b25789ede2f6\",\"type\":\"ColumnDataSource\"},\"glyph\":{\"id\":\"b484828e-898d-4759-be85-eb31bfc77b95\",\"type\":\"Triangle\"},\"hover_glyph\":null,\"nonselection_glyph\":null,\"selection_glyph\":null},\"id\":\"daaef298-7bee-4b44-808e-95041be3ba6f\",\"type\":\"GlyphRenderer\"},{\"attributes\":{\"fill_alpha\":{\"value\":0.5},\"fill_color\":{\"value\":\"grey\"},\"line_alpha\":{\"value\":0.5},\"line_color\":{\"value\":\"grey\"},\"size\":{\"units\":\"screen\",\"value\":15},\"x\":{\"value\":0.6597192254286972},\"y\":{\"value\":0.699953958808628}},\"id\":\"375e6d74-7c9a-47de-983f-1cb053643bbf\",\"type\":\"Circle\"},{\"attributes\":{\"callback\":null},\"id\":\"9861b1e3-297c-412e-8485-29b37cd1aad2\",\"type\":\"ColumnDataSource\"},{\"attributes\":{\"data_source\":{\"id\":\"dc171620-0d70-43d3-817a-e628dc223535\",\"type\":\"ColumnDataSource\"},\"glyph\":{\"id\":\"fe6c6255-1fda-4e14-bfe2-e4eaabf3c44c\",\"type\":\"Circle\"},\"hover_glyph\":null,\"nonselection_glyph\":{\"id\":\"054da7cd-1edb-4767-ba9a-c24fa5776a08\",\"type\":\"Circle\"},\"selection_glyph\":null},\"id\":\"e69ff9bd-619e-4941-8bb9-42bddf8dfdae\",\"type\":\"GlyphRenderer\"},{\"attributes\":{},\"id\":\"b58ff722-1d8a-4de1-b7db-6438bec30a53\",\"type\":\"BasicTickFormatter\"},{\"attributes\":{\"dimension\":1,\"plot\":{\"id\":\"6256235d-8616-41eb-8a4d-a1b38e2ce164\",\"subtype\":\"Chart\",\"type\":\"Plot\"},\"ticker\":{\"id\":\"81b2fa8f-96fc-4054-a1df-de05680108f7\",\"type\":\"BasicTicker\"}},\"id\":\"ba43da19-5c26-482e-9c3a-eb7ae27aa39b\",\"type\":\"Grid\"},{\"attributes\":{\"fill_alpha\":{\"value\":0.1},\"fill_color\":{\"value\":\"#1f77b4\"},\"line_alpha\":{\"value\":0.1},\"line_color\":{\"value\":\"#1f77b4\"},\"size\":{\"units\":\"screen\",\"value\":15},\"x\":{\"value\":0.30012256029283524},\"y\":{\"value\":0.7135379124458721}},\"id\":\"d6a24706-719b-4dc2-a55f-0c2320fe917b\",\"type\":\"Circle\"},{\"attributes\":{\"fill_alpha\":{\"value\":0.5},\"fill_color\":{\"value\":\"grey\"},\"line_alpha\":{\"value\":0.5},\"line_color\":{\"value\":\"grey\"},\"size\":{\"units\":\"screen\",\"value\":15},\"x\":{\"value\":0.30012256029283524},\"y\":{\"value\":0.7135379124458721}},\"id\":\"62320704-1a3d-4bcf-821d-0ea9df2da837\",\"type\":\"Circle\"},{\"attributes\":{\"data_source\":{\"id\":\"9861b1e3-297c-412e-8485-29b37cd1aad2\",\"type\":\"ColumnDataSource\"},\"glyph\":{\"id\":\"62320704-1a3d-4bcf-821d-0ea9df2da837\",\"type\":\"Circle\"},\"hover_glyph\":null,\"nonselection_glyph\":{\"id\":\"d6a24706-719b-4dc2-a55f-0c2320fe917b\",\"type\":\"Circle\"},\"selection_glyph\":null},\"id\":\"c8b2a0dd-6120-40c9-a941-62175c3b3fe3\",\"type\":\"GlyphRenderer\"},{\"attributes\":{\"axis_label\":\"x2\",\"formatter\":{\"id\":\"e2c6fbf7-cc73-4f34-bac2-8b179c437334\",\"type\":\"BasicTickFormatter\"},\"plot\":{\"id\":\"6256235d-8616-41eb-8a4d-a1b38e2ce164\",\"subtype\":\"Chart\",\"type\":\"Plot\"},\"ticker\":{\"id\":\"81b2fa8f-96fc-4054-a1df-de05680108f7\",\"type\":\"BasicTicker\"}},\"id\":\"5aeadb4e-4c34-4761-87e7-33363db5994a\",\"type\":\"LinearAxis\"},{\"attributes\":{\"callback\":null,\"end\":0.9744310742037013,\"start\":0.03732844314802011},\"id\":\"745c5107-5a0f-4fee-8cb5-02d44ba04a93\",\"type\":\"Range1d\"},{\"attributes\":{\"active_drag\":\"auto\",\"active_scroll\":\"auto\",\"active_tap\":\"auto\",\"tools\":[{\"id\":\"aae68783-3995-4015-acba-437a0b427ef2\",\"type\":\"PanTool\"},{\"id\":\"be6db54d-12f0-411e-a19d-6aca231ff5b9\",\"type\":\"WheelZoomTool\"},{\"id\":\"478e0725-0b0f-4605-a438-3f32608d07a1\",\"type\":\"BoxZoomTool\"},{\"id\":\"58aad6d9-c1e4-4d95-a0d2-275d40695359\",\"type\":\"SaveTool\"},{\"id\":\"1f109c5b-d7f3-404c-9ccf-54340ff2fd69\",\"type\":\"ResetTool\"},{\"id\":\"1603f9d8-9ca7-48d5-8949-9942fe062932\",\"type\":\"HelpTool\"}]},\"id\":\"b9257975-4ce8-45cf-81c3-2e2188549ee6\",\"type\":\"Toolbar\"},{\"attributes\":{\"below\":[{\"id\":\"04299d71-f00e-4651-8309-01ea1dc8f021\",\"type\":\"LinearAxis\"}],\"css_classes\":null,\"height\":400,\"left\":[{\"id\":\"5aeadb4e-4c34-4761-87e7-33363db5994a\",\"type\":\"LinearAxis\"}],\"renderers\":[{\"id\":\"d967434c-28d3-46f5-8995-a978eed7a6d8\",\"type\":\"BoxAnnotation\"},{\"id\":\"95a28abc-caf8-4053-8beb-0674f39f264b\",\"type\":\"GlyphRenderer\"},{\"id\":\"daaef298-7bee-4b44-808e-95041be3ba6f\",\"type\":\"GlyphRenderer\"},{\"id\":\"e2d2a233-9268-4222-ac1d-2bcefa0800ae\",\"type\":\"GlyphRenderer\"},{\"id\":\"5d70ee58-688d-4c50-8226-dc470ea1db6c\",\"type\":\"Legend\"},{\"id\":\"04299d71-f00e-4651-8309-01ea1dc8f021\",\"type\":\"LinearAxis\"},{\"id\":\"5aeadb4e-4c34-4761-87e7-33363db5994a\",\"type\":\"LinearAxis\"},{\"id\":\"03fd168a-c1e6-495c-8022-77e0c0f0302e\",\"type\":\"Grid\"},{\"id\":\"ba43da19-5c26-482e-9c3a-eb7ae27aa39b\",\"type\":\"Grid\"},{\"id\":\"e69ff9bd-619e-4941-8bb9-42bddf8dfdae\",\"type\":\"GlyphRenderer\"},{\"id\":\"7cb8303c-7de3-49fe-a904-0293df1809bf\",\"type\":\"GlyphRenderer\"},{\"id\":\"c8b2a0dd-6120-40c9-a941-62175c3b3fe3\",\"type\":\"GlyphRenderer\"}],\"title\":{\"id\":\"a8f427d7-9b7c-4db4-8d14-c65a74f30ff9\",\"type\":\"Title\"},\"tool_events\":{\"id\":\"10b2308b-2344-44ca-9d8d-819346876709\",\"type\":\"ToolEvents\"},\"toolbar\":{\"id\":\"b9257975-4ce8-45cf-81c3-2e2188549ee6\",\"type\":\"Toolbar\"},\"width\":750,\"x_mapper_type\":\"auto\",\"x_range\":{\"id\":\"2a01f4cd-a0ff-43e8-b91d-c77ed69e7464\",\"type\":\"Range1d\"},\"y_mapper_type\":\"auto\",\"y_range\":{\"id\":\"745c5107-5a0f-4fee-8cb5-02d44ba04a93\",\"type\":\"Range1d\"}},\"id\":\"6256235d-8616-41eb-8a4d-a1b38e2ce164\",\"subtype\":\"Chart\",\"type\":\"Plot\"},{\"attributes\":{\"callback\":null,\"end\":0.9642357693345615,\"start\":0.010450087948536135},\"id\":\"2a01f4cd-a0ff-43e8-b91d-c77ed69e7464\",\"type\":\"Range1d\"}],\"root_ids\":[\"6256235d-8616-41eb-8a4d-a1b38e2ce164\"]},\"title\":\"Bokeh Application\",\"version\":\"0.12.4\"}};\n",
       "            var render_items = [{\"docid\":\"bc759441-9196-4db2-b2c5-c18fdcc3c2e1\",\"elementid\":\"e28f3bae-2f6a-46a0-91f4-0f678e640111\",\"modelid\":\"6256235d-8616-41eb-8a4d-a1b38e2ce164\"}];\n",
       "            \n",
       "            Bokeh.embed.embed_items(docs_json, render_items);\n",
       "          };\n",
       "          if (document.readyState != \"loading\") fn();\n",
       "          else document.addEventListener(\"DOMContentLoaded\", fn);\n",
       "        })();\n",
       "      },\n",
       "      function(Bokeh) {\n",
       "      }\n",
       "    ];\n",
       "  \n",
       "    function run_inline_js() {\n",
       "      \n",
       "      if ((window.Bokeh !== undefined) || (force === true)) {\n",
       "        for (var i = 0; i < inline_js.length; i++) {\n",
       "          inline_js[i](window.Bokeh);\n",
       "        }if (force === true) {\n",
       "          display_loaded();\n",
       "        }} else if (Date.now() < window._bokeh_timeout) {\n",
       "        setTimeout(run_inline_js, 100);\n",
       "      } else if (!window._bokeh_failed_load) {\n",
       "        console.log(\"Bokeh: BokehJS failed to load within specified timeout.\");\n",
       "        window._bokeh_failed_load = true;\n",
       "      } else if (force !== true) {\n",
       "        var cell = $(document.getElementById(\"e28f3bae-2f6a-46a0-91f4-0f678e640111\")).parents('.cell').data().cell;\n",
       "        cell.output_area.append_execute_result(NB_LOAD_WARNING)\n",
       "      }\n",
       "  \n",
       "    }\n",
       "  \n",
       "    if (window._bokeh_is_loading === 0) {\n",
       "      console.log(\"Bokeh: BokehJS loaded, going straight to plotting\");\n",
       "      run_inline_js();\n",
       "    } else {\n",
       "      load_libs(js_urls, function() {\n",
       "        console.log(\"Bokeh: BokehJS plotting callback run at\", now());\n",
       "        run_inline_js();\n",
       "      });\n",
       "    }\n",
       "  }(this));\n",
       "</script>"
      ]
     },
     "metadata": {},
     "output_type": "display_data"
    }
   ],
   "source": [
    "plot_clusters(clust.predict(X), clust.cluster_centers_)"
   ]
  },
  {
   "cell_type": "markdown",
   "metadata": {
    "collapsed": true,
    "deletable": true,
    "editable": true,
    "slideshow": {
     "slide_type": "slide"
    }
   },
   "source": [
    "### Clustering a la Mixed Integer Linear Optimization"
   ]
  },
  {
   "cell_type": "code",
   "execution_count": 40,
   "metadata": {
    "collapsed": false,
    "deletable": true,
    "editable": true,
    "slideshow": {
     "slide_type": "subslide"
    }
   },
   "outputs": [],
   "source": [
    "# Decision variables = locations of cluster centers\n",
    "w = []\n",
    "for j in range(len(centers)):\n",
    "    x10 = pulp.LpVariable('x_10%d' % j, lowBound=0, upBound=1)\n",
    "    x20 = pulp.LpVariable('x_20%d' % j, lowBound=0, upBound=1)\n",
    "    w.append([x10, x20])"
   ]
  },
  {
   "cell_type": "code",
   "execution_count": 41,
   "metadata": {
    "collapsed": false,
    "deletable": true,
    "editable": true,
    "slideshow": {
     "slide_type": "subslide"
    }
   },
   "outputs": [],
   "source": [
    "# Decision variables = do we associate point i with cluster j?\n",
    "v = []\n",
    "for i in range(len(x1)):\n",
    "    vi = []\n",
    "    for j in range(len(w)):\n",
    "        vij = pulp.LpVariable('v_%d%d' % (i, j), cat=pulp.LpBinary)\n",
    "        vi.append(vij)\n",
    "    v.append(vi)"
   ]
  },
  {
   "cell_type": "code",
   "execution_count": 42,
   "metadata": {
    "collapsed": true,
    "deletable": true,
    "editable": true,
    "slideshow": {
     "slide_type": "subslide"
    }
   },
   "outputs": [],
   "source": [
    "# Each point is associated with exactly one cluster\n",
    "m = pulp.LpProblem(sense=pulp.LpMinimize)\n",
    "for vi in v:\n",
    "    m += sum(vi) >= 1"
   ]
  },
  {
   "cell_type": "code",
   "execution_count": 43,
   "metadata": {
    "collapsed": false,
    "deletable": true,
    "editable": true,
    "slideshow": {
     "slide_type": "subslide"
    }
   },
   "outputs": [],
   "source": [
    "distances = []\n",
    "for i, (vi, x1i, x2i), in enumerate(zip(v, x1, x2)):\n",
    "    for j, (wj, vij) in enumerate(zip(w, vi)):\n",
    "        x10, x20 = wj\n",
    "        \n",
    "        dx1 = pulp.LpVariable('dx_1%d%d' % (i, j), lowBound=0, upBound=1)\n",
    "        dx2 = pulp.LpVariable('dx_2%d%d' % (i, j), lowBound=0, upBound=1)\n",
    "    \n",
    "        m += dx1 >= (x1i - x10) - (1 - vij)\n",
    "        m += dx1 >= (x10 - x1i) - (1 - vij)\n",
    "\n",
    "        m += dx2 >= (x2i - x20) - (1 - vij)\n",
    "        m += dx2 >= (x20 - x2i) - (1 - vij)\n",
    "        \n",
    "        distances.extend([dx1, dx2])"
   ]
  },
  {
   "cell_type": "code",
   "execution_count": 44,
   "metadata": {
    "collapsed": true,
    "deletable": true,
    "editable": true,
    "slideshow": {
     "slide_type": "subslide"
    }
   },
   "outputs": [],
   "source": [
    "# Symmetry elimination\n",
    "for j, (x0_1, _) in enumerate(w):\n",
    "    for j2, (x0_2, _) in enumerate(w[j+1:]):\n",
    "        m += x0_1 <= x0_2"
   ]
  },
  {
   "cell_type": "code",
   "execution_count": 45,
   "metadata": {
    "collapsed": false,
    "deletable": true,
    "editable": true,
    "slideshow": {
     "slide_type": "subslide"
    }
   },
   "outputs": [],
   "source": [
    "m.setObjective(sum(distances))\n",
    "assert m.solve() == pulp.LpStatusOptimal"
   ]
  },
  {
   "cell_type": "code",
   "execution_count": 46,
   "metadata": {
    "collapsed": false,
    "slideshow": {
     "slide_type": "subslide"
    }
   },
   "outputs": [
    {
     "name": "stdout",
     "output_type": "stream",
     "text": [
      "[0.19473031, 0.33213651]\n",
      "[0.29898705, 0.66310316]\n",
      "[0.6201067, 0.7314529]\n"
     ]
    }
   ],
   "source": [
    "cluster_centers = []\n",
    "for wj in w:\n",
    "    cluster_centers.append([wj[0].value(), wj[1].value()])\n",
    "\n",
    "for c in cluster_centers:\n",
    "    print(c)"
   ]
  },
  {
   "cell_type": "code",
   "execution_count": 47,
   "metadata": {
    "collapsed": false,
    "deletable": true,
    "editable": true,
    "slideshow": {
     "slide_type": "subslide"
    }
   },
   "outputs": [],
   "source": [
    "clusters = []\n",
    "for vi in v:\n",
    "    for c, vij in zip([0, 1, 2], vi):\n",
    "        if vij.value() > 0.5:\n",
    "            clusters.append(c)\n",
    "            break"
   ]
  },
  {
   "cell_type": "code",
   "execution_count": 48,
   "metadata": {
    "collapsed": false,
    "deletable": true,
    "editable": true,
    "slideshow": {
     "slide_type": "subslide"
    }
   },
   "outputs": [
    {
     "data": {
      "text/html": [
       "\n",
       "\n",
       "    <div class=\"bk-root\">\n",
       "        <div class=\"bk-plotdiv\" id=\"f003b0dd-a8ce-49f7-b7f7-3b65cc73ac87\"></div>\n",
       "    </div>\n",
       "<script type=\"text/javascript\">\n",
       "  \n",
       "  (function(global) {\n",
       "    function now() {\n",
       "      return new Date();\n",
       "    }\n",
       "  \n",
       "    var force = false;\n",
       "  \n",
       "    if (typeof (window._bokeh_onload_callbacks) === \"undefined\" || force === true) {\n",
       "      window._bokeh_onload_callbacks = [];\n",
       "      window._bokeh_is_loading = undefined;\n",
       "    }\n",
       "  \n",
       "  \n",
       "    \n",
       "    if (typeof (window._bokeh_timeout) === \"undefined\" || force === true) {\n",
       "      window._bokeh_timeout = Date.now() + 0;\n",
       "      window._bokeh_failed_load = false;\n",
       "    }\n",
       "  \n",
       "    var NB_LOAD_WARNING = {'data': {'text/html':\n",
       "       \"<div style='background-color: #fdd'>\\n\"+\n",
       "       \"<p>\\n\"+\n",
       "       \"BokehJS does not appear to have successfully loaded. If loading BokehJS from CDN, this \\n\"+\n",
       "       \"may be due to a slow or bad network connection. Possible fixes:\\n\"+\n",
       "       \"</p>\\n\"+\n",
       "       \"<ul>\\n\"+\n",
       "       \"<li>re-rerun `output_notebook()` to attempt to load from CDN again, or</li>\\n\"+\n",
       "       \"<li>use INLINE resources instead, as so:</li>\\n\"+\n",
       "       \"</ul>\\n\"+\n",
       "       \"<code>\\n\"+\n",
       "       \"from bokeh.resources import INLINE\\n\"+\n",
       "       \"output_notebook(resources=INLINE)\\n\"+\n",
       "       \"</code>\\n\"+\n",
       "       \"</div>\"}};\n",
       "  \n",
       "    function display_loaded() {\n",
       "      if (window.Bokeh !== undefined) {\n",
       "        document.getElementById(\"f003b0dd-a8ce-49f7-b7f7-3b65cc73ac87\").textContent = \"BokehJS successfully loaded.\";\n",
       "      } else if (Date.now() < window._bokeh_timeout) {\n",
       "        setTimeout(display_loaded, 100)\n",
       "      }\n",
       "    }\n",
       "  \n",
       "    function run_callbacks() {\n",
       "      window._bokeh_onload_callbacks.forEach(function(callback) { callback() });\n",
       "      delete window._bokeh_onload_callbacks\n",
       "      console.info(\"Bokeh: all callbacks have finished\");\n",
       "    }\n",
       "  \n",
       "    function load_libs(js_urls, callback) {\n",
       "      window._bokeh_onload_callbacks.push(callback);\n",
       "      if (window._bokeh_is_loading > 0) {\n",
       "        console.log(\"Bokeh: BokehJS is being loaded, scheduling callback at\", now());\n",
       "        return null;\n",
       "      }\n",
       "      if (js_urls == null || js_urls.length === 0) {\n",
       "        run_callbacks();\n",
       "        return null;\n",
       "      }\n",
       "      console.log(\"Bokeh: BokehJS not loaded, scheduling load and callback at\", now());\n",
       "      window._bokeh_is_loading = js_urls.length;\n",
       "      for (var i = 0; i < js_urls.length; i++) {\n",
       "        var url = js_urls[i];\n",
       "        var s = document.createElement('script');\n",
       "        s.src = url;\n",
       "        s.async = false;\n",
       "        s.onreadystatechange = s.onload = function() {\n",
       "          window._bokeh_is_loading--;\n",
       "          if (window._bokeh_is_loading === 0) {\n",
       "            console.log(\"Bokeh: all BokehJS libraries loaded\");\n",
       "            run_callbacks()\n",
       "          }\n",
       "        };\n",
       "        s.onerror = function() {\n",
       "          console.warn(\"failed to load library \" + url);\n",
       "        };\n",
       "        console.log(\"Bokeh: injecting script tag for BokehJS library: \", url);\n",
       "        document.getElementsByTagName(\"head\")[0].appendChild(s);\n",
       "      }\n",
       "    };var element = document.getElementById(\"f003b0dd-a8ce-49f7-b7f7-3b65cc73ac87\");\n",
       "    if (element == null) {\n",
       "      console.log(\"Bokeh: ERROR: autoload.js configured with elementid 'f003b0dd-a8ce-49f7-b7f7-3b65cc73ac87' but no matching script tag was found. \")\n",
       "      return false;\n",
       "    }\n",
       "  \n",
       "    var js_urls = [];\n",
       "  \n",
       "    var inline_js = [\n",
       "      function(Bokeh) {\n",
       "        (function() {\n",
       "          var fn = function() {\n",
       "            var docs_json = {\"3e1f03a6-6c70-4fc1-8874-c49fd92f486f\":{\"roots\":{\"references\":[{\"attributes\":{},\"id\":\"3a954e4d-33f2-40f2-bc06-6d09287e894f\",\"type\":\"BasicTickFormatter\"},{\"attributes\":{\"plot\":{\"id\":\"307c3036-ecf3-4d18-8886-9de8230dc501\",\"subtype\":\"Chart\",\"type\":\"Plot\"}},\"id\":\"89776e9f-2711-4c07-a782-2e243014abf0\",\"type\":\"HelpTool\"},{\"attributes\":{\"callback\":null,\"column_names\":[\"x_values\",\"y_values\"],\"data\":{\"chart_index\":[{\"clusters\":0},{\"clusters\":0},{\"clusters\":0},{\"clusters\":0},{\"clusters\":0},{\"clusters\":0},{\"clusters\":0}],\"clusters\":[0,0,0,0,0,0,0],\"x_values\":{\"__ndarray__\":\"aYFMvWE3yj+Tcn+nV0fIP/rU8XuB49U/UJnh4Pj/3D/rbVGfGbrEP/QRjWzd38Y/xHWoQezsyD8=\",\"dtype\":\"float64\",\"shape\":[7]},\"y_values\":{\"__ndarray__\":\"yj6NrVjZ3T8KdaXKL4y9P7RNmn+5QdU/J6kkbR4t0j9hBewAA33WP5TeGnwVZMg/XYczzqyH1T8=\",\"dtype\":\"float64\",\"shape\":[7]}}},\"id\":\"049ba68b-f06d-41db-8b35-93d3f7dbe0d3\",\"type\":\"ColumnDataSource\"},{\"attributes\":{\"overlay\":{\"id\":\"12ed36f9-fa4e-4807-9df5-661a38546a72\",\"type\":\"BoxAnnotation\"},\"plot\":{\"id\":\"307c3036-ecf3-4d18-8886-9de8230dc501\",\"subtype\":\"Chart\",\"type\":\"Plot\"}},\"id\":\"a40a8490-b1ac-4753-a153-d6f21f80ee4f\",\"type\":\"BoxZoomTool\"},{\"attributes\":{\"label\":{\"value\":\"0\"},\"renderers\":[{\"id\":\"3db85070-4d0d-4cc0-9f8a-2c7015214882\",\"type\":\"GlyphRenderer\"}]},\"id\":\"052574ee-9160-4064-9f83-f6d77f0161f9\",\"type\":\"LegendItem\"},{\"attributes\":{\"data_source\":{\"id\":\"04a9007d-663b-4a8d-8142-21c6b9dfd3db\",\"type\":\"ColumnDataSource\"},\"glyph\":{\"id\":\"620cf59d-583c-47ae-b310-fef6bf7e981a\",\"type\":\"Circle\"},\"hover_glyph\":null,\"nonselection_glyph\":{\"id\":\"9ca4e9a7-b79d-4f99-aa06-866771e22862\",\"type\":\"Circle\"},\"selection_glyph\":null},\"id\":\"deb7c47d-c93f-4118-89fc-a73f802f0b60\",\"type\":\"GlyphRenderer\"},{\"attributes\":{\"plot\":{\"id\":\"307c3036-ecf3-4d18-8886-9de8230dc501\",\"subtype\":\"Chart\",\"type\":\"Plot\"}},\"id\":\"77ad0cd7-3225-4f10-9a0c-d00a590bf049\",\"type\":\"ResetTool\"},{\"attributes\":{\"plot\":{\"id\":\"307c3036-ecf3-4d18-8886-9de8230dc501\",\"subtype\":\"Chart\",\"type\":\"Plot\"}},\"id\":\"2defb9f9-8694-43f2-bbe9-42d38466712e\",\"type\":\"WheelZoomTool\"},{\"attributes\":{\"plot\":{\"id\":\"307c3036-ecf3-4d18-8886-9de8230dc501\",\"subtype\":\"Chart\",\"type\":\"Plot\"}},\"id\":\"dcbd1fc8-bbdf-4456-8abe-2790ec15949c\",\"type\":\"SaveTool\"},{\"attributes\":{\"items\":[{\"id\":\"052574ee-9160-4064-9f83-f6d77f0161f9\",\"type\":\"LegendItem\"},{\"id\":\"edd86f9b-83be-48a1-a311-41818036b0b4\",\"type\":\"LegendItem\"},{\"id\":\"f0f27931-c112-496b-acf5-eaadcc4d5836\",\"type\":\"LegendItem\"}],\"location\":\"top_left\",\"plot\":{\"id\":\"307c3036-ecf3-4d18-8886-9de8230dc501\",\"subtype\":\"Chart\",\"type\":\"Plot\"}},\"id\":\"63737910-bf77-45f7-ae93-240c3fecbee8\",\"type\":\"Legend\"},{\"attributes\":{\"plot\":{\"id\":\"307c3036-ecf3-4d18-8886-9de8230dc501\",\"subtype\":\"Chart\",\"type\":\"Plot\"}},\"id\":\"31ed4057-7b48-4f59-886e-95ebd3fab381\",\"type\":\"PanTool\"},{\"attributes\":{},\"id\":\"ad1ae038-a409-43f8-b9f7-6d44c92d21c2\",\"type\":\"ToolEvents\"},{\"attributes\":{\"data_source\":{\"id\":\"049ba68b-f06d-41db-8b35-93d3f7dbe0d3\",\"type\":\"ColumnDataSource\"},\"glyph\":{\"id\":\"4a71bbae-1300-4eff-8886-af76a6d12375\",\"type\":\"Circle\"},\"hover_glyph\":null,\"nonselection_glyph\":null,\"selection_glyph\":null},\"id\":\"3db85070-4d0d-4cc0-9f8a-2c7015214882\",\"type\":\"GlyphRenderer\"},{\"attributes\":{\"active_drag\":\"auto\",\"active_scroll\":\"auto\",\"active_tap\":\"auto\",\"tools\":[{\"id\":\"31ed4057-7b48-4f59-886e-95ebd3fab381\",\"type\":\"PanTool\"},{\"id\":\"2defb9f9-8694-43f2-bbe9-42d38466712e\",\"type\":\"WheelZoomTool\"},{\"id\":\"a40a8490-b1ac-4753-a153-d6f21f80ee4f\",\"type\":\"BoxZoomTool\"},{\"id\":\"dcbd1fc8-bbdf-4456-8abe-2790ec15949c\",\"type\":\"SaveTool\"},{\"id\":\"77ad0cd7-3225-4f10-9a0c-d00a590bf049\",\"type\":\"ResetTool\"},{\"id\":\"89776e9f-2711-4c07-a782-2e243014abf0\",\"type\":\"HelpTool\"}]},\"id\":\"c40b5d3e-e033-46bb-9393-c75de4580c20\",\"type\":\"Toolbar\"},{\"attributes\":{\"fill_alpha\":{\"value\":0.1},\"fill_color\":{\"value\":\"#1f77b4\"},\"line_alpha\":{\"value\":0.1},\"line_color\":{\"value\":\"#1f77b4\"},\"size\":{\"units\":\"screen\",\"value\":15},\"x\":{\"value\":0.6201067},\"y\":{\"value\":0.7314529}},\"id\":\"9ca4e9a7-b79d-4f99-aa06-866771e22862\",\"type\":\"Circle\"},{\"attributes\":{\"bottom_units\":\"screen\",\"fill_alpha\":{\"value\":0.5},\"fill_color\":{\"value\":\"lightgrey\"},\"left_units\":\"screen\",\"level\":\"overlay\",\"line_alpha\":{\"value\":1.0},\"line_color\":{\"value\":\"black\"},\"line_dash\":[4,4],\"line_width\":{\"value\":2},\"plot\":null,\"render_mode\":\"css\",\"right_units\":\"screen\",\"top_units\":\"screen\"},\"id\":\"12ed36f9-fa4e-4807-9df5-661a38546a72\",\"type\":\"BoxAnnotation\"},{\"attributes\":{\"label\":{\"value\":\"1\"},\"renderers\":[{\"id\":\"b61c0fd5-974d-45da-ade2-431c83bdf3c2\",\"type\":\"GlyphRenderer\"}]},\"id\":\"edd86f9b-83be-48a1-a311-41818036b0b4\",\"type\":\"LegendItem\"},{\"attributes\":{\"fill_alpha\":{\"value\":0.5},\"fill_color\":{\"value\":\"grey\"},\"line_alpha\":{\"value\":0.5},\"line_color\":{\"value\":\"grey\"},\"size\":{\"units\":\"screen\",\"value\":15},\"x\":{\"value\":0.29898705},\"y\":{\"value\":0.66310316}},\"id\":\"e1d30f42-77c7-4498-9f5d-2c42c6490094\",\"type\":\"Circle\"},{\"attributes\":{},\"id\":\"c705d157-0290-48c4-96eb-be5c71f6b0db\",\"type\":\"BasicTicker\"},{\"attributes\":{\"below\":[{\"id\":\"ff659007-aef7-4bfe-8eef-2fff9e8f6fca\",\"type\":\"LinearAxis\"}],\"css_classes\":null,\"height\":400,\"left\":[{\"id\":\"73d954b9-19a8-4cbc-ba6c-7adbde405862\",\"type\":\"LinearAxis\"}],\"renderers\":[{\"id\":\"12ed36f9-fa4e-4807-9df5-661a38546a72\",\"type\":\"BoxAnnotation\"},{\"id\":\"3db85070-4d0d-4cc0-9f8a-2c7015214882\",\"type\":\"GlyphRenderer\"},{\"id\":\"b61c0fd5-974d-45da-ade2-431c83bdf3c2\",\"type\":\"GlyphRenderer\"},{\"id\":\"0a87d413-f280-4e60-a7e7-9f56c2038084\",\"type\":\"GlyphRenderer\"},{\"id\":\"63737910-bf77-45f7-ae93-240c3fecbee8\",\"type\":\"Legend\"},{\"id\":\"ff659007-aef7-4bfe-8eef-2fff9e8f6fca\",\"type\":\"LinearAxis\"},{\"id\":\"73d954b9-19a8-4cbc-ba6c-7adbde405862\",\"type\":\"LinearAxis\"},{\"id\":\"e1a11256-e3c6-48c6-8e0b-c7c132838484\",\"type\":\"Grid\"},{\"id\":\"2ec0afc3-a46b-464c-90ef-09e7e3014262\",\"type\":\"Grid\"},{\"id\":\"5dd363e5-4908-494e-a70a-0d380a0c17ea\",\"type\":\"GlyphRenderer\"},{\"id\":\"d6ab2e62-dea1-469c-8050-b10c47af68b4\",\"type\":\"GlyphRenderer\"},{\"id\":\"deb7c47d-c93f-4118-89fc-a73f802f0b60\",\"type\":\"GlyphRenderer\"}],\"title\":{\"id\":\"04be3c3a-fd4a-4902-9d9e-4569de6591e2\",\"type\":\"Title\"},\"tool_events\":{\"id\":\"ad1ae038-a409-43f8-b9f7-6d44c92d21c2\",\"type\":\"ToolEvents\"},\"toolbar\":{\"id\":\"c40b5d3e-e033-46bb-9393-c75de4580c20\",\"type\":\"Toolbar\"},\"width\":750,\"x_mapper_type\":\"auto\",\"x_range\":{\"id\":\"7a2c8aff-64ea-4f47-9578-509dcc82dbce\",\"type\":\"Range1d\"},\"y_mapper_type\":\"auto\",\"y_range\":{\"id\":\"2a20542e-a5b9-44a7-807f-04a4c47bd516\",\"type\":\"Range1d\"}},\"id\":\"307c3036-ecf3-4d18-8886-9de8230dc501\",\"subtype\":\"Chart\",\"type\":\"Plot\"},{\"attributes\":{\"callback\":null,\"end\":0.9642357693345615,\"start\":0.010450087948536135},\"id\":\"7a2c8aff-64ea-4f47-9578-509dcc82dbce\",\"type\":\"Range1d\"},{\"attributes\":{\"fill_alpha\":{\"value\":0.7},\"fill_color\":{\"value\":\"#f22c40\"},\"line_color\":{\"value\":\"#f22c40\"},\"size\":{\"units\":\"screen\",\"value\":8},\"x\":{\"field\":\"x_values\"},\"y\":{\"field\":\"y_values\"}},\"id\":\"4a71bbae-1300-4eff-8886-af76a6d12375\",\"type\":\"Circle\"},{\"attributes\":{\"label\":{\"value\":\"2\"},\"renderers\":[{\"id\":\"0a87d413-f280-4e60-a7e7-9f56c2038084\",\"type\":\"GlyphRenderer\"}]},\"id\":\"f0f27931-c112-496b-acf5-eaadcc4d5836\",\"type\":\"LegendItem\"},{\"attributes\":{\"fill_alpha\":{\"value\":0.1},\"fill_color\":{\"value\":\"#1f77b4\"},\"line_alpha\":{\"value\":0.1},\"line_color\":{\"value\":\"#1f77b4\"},\"size\":{\"units\":\"screen\",\"value\":15},\"x\":{\"value\":0.29898705},\"y\":{\"value\":0.66310316}},\"id\":\"778e2ddc-770e-4bc9-8150-0841ce0befbb\",\"type\":\"Circle\"},{\"attributes\":{\"callback\":null},\"id\":\"04a9007d-663b-4a8d-8142-21c6b9dfd3db\",\"type\":\"ColumnDataSource\"},{\"attributes\":{},\"id\":\"6425e7a3-a4a1-41db-be26-6d064ccdb36a\",\"type\":\"BasicTickFormatter\"},{\"attributes\":{\"data_source\":{\"id\":\"f26f2da0-114e-4455-8567-13069584b3be\",\"type\":\"ColumnDataSource\"},\"glyph\":{\"id\":\"ca6ef64c-846a-472f-8064-974f2e122a0c\",\"type\":\"Square\"},\"hover_glyph\":null,\"nonselection_glyph\":null,\"selection_glyph\":null},\"id\":\"b61c0fd5-974d-45da-ade2-431c83bdf3c2\",\"type\":\"GlyphRenderer\"},{\"attributes\":{\"callback\":null,\"end\":0.9744310742037013,\"start\":0.03732844314802011},\"id\":\"2a20542e-a5b9-44a7-807f-04a4c47bd516\",\"type\":\"Range1d\"},{\"attributes\":{\"plot\":null,\"text\":null},\"id\":\"04be3c3a-fd4a-4902-9d9e-4569de6591e2\",\"type\":\"Title\"},{\"attributes\":{\"callback\":null},\"id\":\"4cf966f0-07b3-4411-9e0c-fae3e0226c26\",\"type\":\"ColumnDataSource\"},{\"attributes\":{\"data_source\":{\"id\":\"4cf966f0-07b3-4411-9e0c-fae3e0226c26\",\"type\":\"ColumnDataSource\"},\"glyph\":{\"id\":\"e1d30f42-77c7-4498-9f5d-2c42c6490094\",\"type\":\"Circle\"},\"hover_glyph\":null,\"nonselection_glyph\":{\"id\":\"778e2ddc-770e-4bc9-8150-0841ce0befbb\",\"type\":\"Circle\"},\"selection_glyph\":null},\"id\":\"d6ab2e62-dea1-469c-8050-b10c47af68b4\",\"type\":\"GlyphRenderer\"},{\"attributes\":{},\"id\":\"eb30d45b-eb37-412d-9230-00ba7deb91c5\",\"type\":\"BasicTicker\"},{\"attributes\":{\"fill_alpha\":{\"value\":0.1},\"fill_color\":{\"value\":\"#1f77b4\"},\"line_alpha\":{\"value\":0.1},\"line_color\":{\"value\":\"#1f77b4\"},\"size\":{\"units\":\"screen\",\"value\":15},\"x\":{\"value\":0.19473031},\"y\":{\"value\":0.33213651}},\"id\":\"8611eb3e-56c3-4d59-8761-60c8ad313376\",\"type\":\"Circle\"},{\"attributes\":{\"dimension\":1,\"plot\":{\"id\":\"307c3036-ecf3-4d18-8886-9de8230dc501\",\"subtype\":\"Chart\",\"type\":\"Plot\"},\"ticker\":{\"id\":\"c705d157-0290-48c4-96eb-be5c71f6b0db\",\"type\":\"BasicTicker\"}},\"id\":\"2ec0afc3-a46b-464c-90ef-09e7e3014262\",\"type\":\"Grid\"},{\"attributes\":{\"axis_label\":\"x2\",\"formatter\":{\"id\":\"6425e7a3-a4a1-41db-be26-6d064ccdb36a\",\"type\":\"BasicTickFormatter\"},\"plot\":{\"id\":\"307c3036-ecf3-4d18-8886-9de8230dc501\",\"subtype\":\"Chart\",\"type\":\"Plot\"},\"ticker\":{\"id\":\"c705d157-0290-48c4-96eb-be5c71f6b0db\",\"type\":\"BasicTicker\"}},\"id\":\"73d954b9-19a8-4cbc-ba6c-7adbde405862\",\"type\":\"LinearAxis\"},{\"attributes\":{\"callback\":null,\"column_names\":[\"x_values\",\"y_values\"],\"data\":{\"chart_index\":[{\"clusters\":2},{\"clusters\":2},{\"clusters\":2},{\"clusters\":2},{\"clusters\":2},{\"clusters\":2},{\"clusters\":2}],\"clusters\":[2,2,2,2,2,2,2],\"x_values\":{\"__ndarray__\":\"kBB5iCwf4z9fBBZpcOfiP3qrEBL3G+Y/1vhEZAws4j9xLakwf1DlP6ygKwPq1+M/42vQ1+ZP7D8=\",\"dtype\":\"float64\",\"shape\":[7]},\"y_values\":{\"__ndarray__\":\"2kBhqQ4d6D8uxyp/StzoP20Rceh2LOk/IOER/eRk5j/ZJNlJoQfmP37d5ugPaOc/tGaDUYWf3T8=\",\"dtype\":\"float64\",\"shape\":[7]}}},\"id\":\"a7e7f546-d83a-4b08-8c80-5f174db5be60\",\"type\":\"ColumnDataSource\"},{\"attributes\":{\"axis_label\":\"x1\",\"formatter\":{\"id\":\"3a954e4d-33f2-40f2-bc06-6d09287e894f\",\"type\":\"BasicTickFormatter\"},\"plot\":{\"id\":\"307c3036-ecf3-4d18-8886-9de8230dc501\",\"subtype\":\"Chart\",\"type\":\"Plot\"},\"ticker\":{\"id\":\"eb30d45b-eb37-412d-9230-00ba7deb91c5\",\"type\":\"BasicTicker\"}},\"id\":\"ff659007-aef7-4bfe-8eef-2fff9e8f6fca\",\"type\":\"LinearAxis\"},{\"attributes\":{\"callback\":null,\"column_names\":[\"x_values\",\"y_values\"],\"data\":{\"chart_index\":[{\"clusters\":1},{\"clusters\":1},{\"clusters\":1},{\"clusters\":1},{\"clusters\":1},{\"clusters\":1},{\"clusters\":1}],\"clusters\":[1,1,1,1,1,1,1],\"x_values\":{\"__ndarray__\":\"1Gz4WO1Z2T9ArusgpoHXP3nIkZeaItM/Hp7zILqb0T+kT538T8jYP5I2ZGrMBbc/gemPf8lQ0j8=\",\"dtype\":\"float64\",\"shape\":[7]},\"y_values\":{\"__ndarray__\":\"cpLWICQ45T9qeXmFz67sP9L25iWx5us/iAsB1wIm4j8WWfnqLznmPxgjc/LG1+Q/j433t3/Q5D8=\",\"dtype\":\"float64\",\"shape\":[7]}}},\"id\":\"f26f2da0-114e-4455-8567-13069584b3be\",\"type\":\"ColumnDataSource\"},{\"attributes\":{\"data_source\":{\"id\":\"a7e7f546-d83a-4b08-8c80-5f174db5be60\",\"type\":\"ColumnDataSource\"},\"glyph\":{\"id\":\"bdff11d7-13e6-45b6-ae23-5f27d9324cc9\",\"type\":\"Triangle\"},\"hover_glyph\":null,\"nonselection_glyph\":null,\"selection_glyph\":null},\"id\":\"0a87d413-f280-4e60-a7e7-9f56c2038084\",\"type\":\"GlyphRenderer\"},{\"attributes\":{\"fill_alpha\":{\"value\":0.7},\"fill_color\":{\"value\":\"#407ee7\"},\"line_color\":{\"value\":\"#407ee7\"},\"size\":{\"units\":\"screen\",\"value\":8},\"x\":{\"field\":\"x_values\"},\"y\":{\"field\":\"y_values\"}},\"id\":\"bdff11d7-13e6-45b6-ae23-5f27d9324cc9\",\"type\":\"Triangle\"},{\"attributes\":{\"callback\":null},\"id\":\"2f05b47e-f341-49a3-8e99-4462e33247ba\",\"type\":\"ColumnDataSource\"},{\"attributes\":{\"plot\":{\"id\":\"307c3036-ecf3-4d18-8886-9de8230dc501\",\"subtype\":\"Chart\",\"type\":\"Plot\"},\"ticker\":{\"id\":\"eb30d45b-eb37-412d-9230-00ba7deb91c5\",\"type\":\"BasicTicker\"}},\"id\":\"e1a11256-e3c6-48c6-8e0b-c7c132838484\",\"type\":\"Grid\"},{\"attributes\":{\"data_source\":{\"id\":\"2f05b47e-f341-49a3-8e99-4462e33247ba\",\"type\":\"ColumnDataSource\"},\"glyph\":{\"id\":\"2cb9f7ab-e136-4c4d-ba99-9fe02d67e000\",\"type\":\"Circle\"},\"hover_glyph\":null,\"nonselection_glyph\":{\"id\":\"8611eb3e-56c3-4d59-8761-60c8ad313376\",\"type\":\"Circle\"},\"selection_glyph\":null},\"id\":\"5dd363e5-4908-494e-a70a-0d380a0c17ea\",\"type\":\"GlyphRenderer\"},{\"attributes\":{\"fill_alpha\":{\"value\":0.7},\"fill_color\":{\"value\":\"#5ab738\"},\"line_color\":{\"value\":\"#5ab738\"},\"size\":{\"units\":\"screen\",\"value\":8},\"x\":{\"field\":\"x_values\"},\"y\":{\"field\":\"y_values\"}},\"id\":\"ca6ef64c-846a-472f-8064-974f2e122a0c\",\"type\":\"Square\"},{\"attributes\":{\"fill_alpha\":{\"value\":0.5},\"fill_color\":{\"value\":\"grey\"},\"line_alpha\":{\"value\":0.5},\"line_color\":{\"value\":\"grey\"},\"size\":{\"units\":\"screen\",\"value\":15},\"x\":{\"value\":0.19473031},\"y\":{\"value\":0.33213651}},\"id\":\"2cb9f7ab-e136-4c4d-ba99-9fe02d67e000\",\"type\":\"Circle\"},{\"attributes\":{\"fill_alpha\":{\"value\":0.5},\"fill_color\":{\"value\":\"grey\"},\"line_alpha\":{\"value\":0.5},\"line_color\":{\"value\":\"grey\"},\"size\":{\"units\":\"screen\",\"value\":15},\"x\":{\"value\":0.6201067},\"y\":{\"value\":0.7314529}},\"id\":\"620cf59d-583c-47ae-b310-fef6bf7e981a\",\"type\":\"Circle\"}],\"root_ids\":[\"307c3036-ecf3-4d18-8886-9de8230dc501\"]},\"title\":\"Bokeh Application\",\"version\":\"0.12.4\"}};\n",
       "            var render_items = [{\"docid\":\"3e1f03a6-6c70-4fc1-8874-c49fd92f486f\",\"elementid\":\"f003b0dd-a8ce-49f7-b7f7-3b65cc73ac87\",\"modelid\":\"307c3036-ecf3-4d18-8886-9de8230dc501\"}];\n",
       "            \n",
       "            Bokeh.embed.embed_items(docs_json, render_items);\n",
       "          };\n",
       "          if (document.readyState != \"loading\") fn();\n",
       "          else document.addEventListener(\"DOMContentLoaded\", fn);\n",
       "        })();\n",
       "      },\n",
       "      function(Bokeh) {\n",
       "      }\n",
       "    ];\n",
       "  \n",
       "    function run_inline_js() {\n",
       "      \n",
       "      if ((window.Bokeh !== undefined) || (force === true)) {\n",
       "        for (var i = 0; i < inline_js.length; i++) {\n",
       "          inline_js[i](window.Bokeh);\n",
       "        }if (force === true) {\n",
       "          display_loaded();\n",
       "        }} else if (Date.now() < window._bokeh_timeout) {\n",
       "        setTimeout(run_inline_js, 100);\n",
       "      } else if (!window._bokeh_failed_load) {\n",
       "        console.log(\"Bokeh: BokehJS failed to load within specified timeout.\");\n",
       "        window._bokeh_failed_load = true;\n",
       "      } else if (force !== true) {\n",
       "        var cell = $(document.getElementById(\"f003b0dd-a8ce-49f7-b7f7-3b65cc73ac87\")).parents('.cell').data().cell;\n",
       "        cell.output_area.append_execute_result(NB_LOAD_WARNING)\n",
       "      }\n",
       "  \n",
       "    }\n",
       "  \n",
       "    if (window._bokeh_is_loading === 0) {\n",
       "      console.log(\"Bokeh: BokehJS loaded, going straight to plotting\");\n",
       "      run_inline_js();\n",
       "    } else {\n",
       "      load_libs(js_urls, function() {\n",
       "        console.log(\"Bokeh: BokehJS plotting callback run at\", now());\n",
       "        run_inline_js();\n",
       "      });\n",
       "    }\n",
       "  }(this));\n",
       "</script>"
      ]
     },
     "metadata": {},
     "output_type": "display_data"
    }
   ],
   "source": [
    "plot_clusters(clusters, cluster_centers)"
   ]
  },
  {
   "cell_type": "markdown",
   "metadata": {
    "deletable": true,
    "editable": true,
    "slideshow": {
     "slide_type": "slide"
    }
   },
   "source": [
    "## Example: Ride Sharing"
   ]
  }
 ],
 "metadata": {
  "celltoolbar": "Slideshow",
  "kernelspec": {
   "display_name": "Python 3",
   "language": "python",
   "name": "python3"
  },
  "language_info": {
   "codemirror_mode": {
    "name": "ipython",
    "version": 3
   },
   "file_extension": ".py",
   "mimetype": "text/x-python",
   "name": "python",
   "nbconvert_exporter": "python",
   "pygments_lexer": "ipython3",
   "version": "3.6.0"
  }
 },
 "nbformat": 4,
 "nbformat_minor": 2
}
