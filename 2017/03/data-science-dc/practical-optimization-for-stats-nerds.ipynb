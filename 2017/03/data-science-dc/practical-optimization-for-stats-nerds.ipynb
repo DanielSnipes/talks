{
 "cells": [
  {
   "cell_type": "markdown",
   "metadata": {
    "deletable": true,
    "editable": true,
    "slideshow": {
     "slide_type": "slide"
    }
   },
   "source": [
    "# Practical Optimization for Stats Nerds\n",
    "\n",
    "Ryan J. O'Neil  \n",
    "Data Science DC  \n",
    "March 20, 2017\n",
    "\n",
    "[ryanjoneil@gmail.com](mailto:ryanjoneil@gmail.com)  \n",
    "[https://ryanjoneil.github.io](https://ryanjoneil.github.io)  \n",
    "[@ryanjoneil](https://twitter.com/ryanjoneil)"
   ]
  },
  {
   "cell_type": "markdown",
   "metadata": {
    "deletable": true,
    "editable": true,
    "slideshow": {
     "slide_type": "subslide"
    }
   },
   "source": [
    "## What to expect\n",
    "  \n",
    "  \n",
    "* We'll take familiar models, show how they work from an optimization perspective, then show applications.  \n"
   ]
  },
  {
   "cell_type": "markdown",
   "metadata": {
    "deletable": true,
    "editable": true,
    "slideshow": {
     "slide_type": "fragment"
    }
   },
   "source": [
    "\n",
    "* This talk is (mostly) about model formulation.  \n",
    "  "
   ]
  },
  {
   "cell_type": "markdown",
   "metadata": {
    "deletable": true,
    "editable": true,
    "slideshow": {
     "slide_type": "fragment"
    }
   },
   "source": [
    "\n",
    "* It might get a little technical, so...  \n",
    "  "
   ]
  },
  {
   "cell_type": "markdown",
   "metadata": {
    "deletable": true,
    "editable": true,
    "slideshow": {
     "slide_type": "subslide"
    }
   },
   "source": [
    "## Take-aways\n",
    "  \n",
    "  \n",
    "* Many statistical techniques are based on some sort of optimization.\n",
    "  "
   ]
  },
  {
   "cell_type": "markdown",
   "metadata": {
    "deletable": true,
    "editable": true,
    "slideshow": {
     "slide_type": "fragment"
    }
   },
   "source": [
    "\n",
    "* Optimization has lots of uses, such as solving decision models.\n",
    "  "
   ]
  },
  {
   "cell_type": "markdown",
   "metadata": {
    "deletable": true,
    "editable": true,
    "slideshow": {
     "slide_type": "fragment"
    }
   },
   "source": [
    "\n",
    "* Learning to structure problems you already know for optimization solvers is a great way to understand them!\n"
   ]
  },
  {
   "cell_type": "markdown",
   "metadata": {
    "deletable": true,
    "editable": true,
    "slideshow": {
     "slide_type": "slide"
    }
   },
   "source": [
    "## Model 1: Least Squares\n",
    "\n",
    "We observe noisy data from an unknown function. We want to infer that function."
   ]
  },
  {
   "cell_type": "markdown",
   "metadata": {
    "deletable": true,
    "editable": true,
    "slideshow": {
     "slide_type": "subslide"
    }
   },
   "source": [
    "But let's assume that, deep down, we actually know the function. That way we can generate noisy data and see if our techniques work right.\n",
    "\n",
    "#### Function:\n",
    "$$y = 3x^2 - 2x + 10 + \\epsilon$$\n",
    "\n",
    "#### Noise:\n",
    "$$\\epsilon \\sim N\\left(0, 25\\right)$$"
   ]
  },
  {
   "cell_type": "code",
   "execution_count": 1,
   "metadata": {
    "collapsed": false,
    "deletable": true,
    "editable": true,
    "slideshow": {
     "slide_type": "subslide"
    }
   },
   "outputs": [],
   "source": [
    "# Generate some random data.\n",
    "import numpy as np\n",
    "import random\n",
    "\n",
    "# Sort the data so they're easier to plot later.\n",
    "x = [random.uniform(-10, 10) for _ in range(500)]\n",
    "x.sort()\n",
    "\n",
    "y = []\n",
    "for xi in x:\n",
    "    eps = random.normalvariate(0, 25)\n",
    "    yi = 3*xi**2 - 2*xi + 10 + eps\n",
    "    y.append(yi)\n",
    "    \n",
    "x = np.array(x)\n",
    "y = np.array(y)"
   ]
  },
  {
   "cell_type": "code",
   "execution_count": 2,
   "metadata": {
    "collapsed": false,
    "deletable": true,
    "editable": true,
    "scrolled": true,
    "slideshow": {
     "slide_type": "subslide"
    }
   },
   "outputs": [
    {
     "data": {
      "text/html": [
       "\n",
       "    <div class=\"bk-root\">\n",
       "        <a href=\"http://bokeh.pydata.org\" target=\"_blank\" class=\"bk-logo bk-logo-small bk-logo-notebook\"></a>\n",
       "        <span id=\"fd3b7306-6c00-48ea-8c83-69f920fd5123\">Loading BokehJS ...</span>\n",
       "    </div>"
      ]
     },
     "metadata": {},
     "output_type": "display_data"
    },
    {
     "data": {
      "application/javascript": [
       "\n",
       "(function(global) {\n",
       "  function now() {\n",
       "    return new Date();\n",
       "  }\n",
       "\n",
       "  var force = true;\n",
       "\n",
       "  if (typeof (window._bokeh_onload_callbacks) === \"undefined\" || force === true) {\n",
       "    window._bokeh_onload_callbacks = [];\n",
       "    window._bokeh_is_loading = undefined;\n",
       "  }\n",
       "\n",
       "\n",
       "  \n",
       "  if (typeof (window._bokeh_timeout) === \"undefined\" || force === true) {\n",
       "    window._bokeh_timeout = Date.now() + 5000;\n",
       "    window._bokeh_failed_load = false;\n",
       "  }\n",
       "\n",
       "  var NB_LOAD_WARNING = {'data': {'text/html':\n",
       "     \"<div style='background-color: #fdd'>\\n\"+\n",
       "     \"<p>\\n\"+\n",
       "     \"BokehJS does not appear to have successfully loaded. If loading BokehJS from CDN, this \\n\"+\n",
       "     \"may be due to a slow or bad network connection. Possible fixes:\\n\"+\n",
       "     \"</p>\\n\"+\n",
       "     \"<ul>\\n\"+\n",
       "     \"<li>re-rerun `output_notebook()` to attempt to load from CDN again, or</li>\\n\"+\n",
       "     \"<li>use INLINE resources instead, as so:</li>\\n\"+\n",
       "     \"</ul>\\n\"+\n",
       "     \"<code>\\n\"+\n",
       "     \"from bokeh.resources import INLINE\\n\"+\n",
       "     \"output_notebook(resources=INLINE)\\n\"+\n",
       "     \"</code>\\n\"+\n",
       "     \"</div>\"}};\n",
       "\n",
       "  function display_loaded() {\n",
       "    if (window.Bokeh !== undefined) {\n",
       "      document.getElementById(\"fd3b7306-6c00-48ea-8c83-69f920fd5123\").textContent = \"BokehJS successfully loaded.\";\n",
       "    } else if (Date.now() < window._bokeh_timeout) {\n",
       "      setTimeout(display_loaded, 100)\n",
       "    }\n",
       "  }\n",
       "\n",
       "  function run_callbacks() {\n",
       "    window._bokeh_onload_callbacks.forEach(function(callback) { callback() });\n",
       "    delete window._bokeh_onload_callbacks\n",
       "    console.info(\"Bokeh: all callbacks have finished\");\n",
       "  }\n",
       "\n",
       "  function load_libs(js_urls, callback) {\n",
       "    window._bokeh_onload_callbacks.push(callback);\n",
       "    if (window._bokeh_is_loading > 0) {\n",
       "      console.log(\"Bokeh: BokehJS is being loaded, scheduling callback at\", now());\n",
       "      return null;\n",
       "    }\n",
       "    if (js_urls == null || js_urls.length === 0) {\n",
       "      run_callbacks();\n",
       "      return null;\n",
       "    }\n",
       "    console.log(\"Bokeh: BokehJS not loaded, scheduling load and callback at\", now());\n",
       "    window._bokeh_is_loading = js_urls.length;\n",
       "    for (var i = 0; i < js_urls.length; i++) {\n",
       "      var url = js_urls[i];\n",
       "      var s = document.createElement('script');\n",
       "      s.src = url;\n",
       "      s.async = false;\n",
       "      s.onreadystatechange = s.onload = function() {\n",
       "        window._bokeh_is_loading--;\n",
       "        if (window._bokeh_is_loading === 0) {\n",
       "          console.log(\"Bokeh: all BokehJS libraries loaded\");\n",
       "          run_callbacks()\n",
       "        }\n",
       "      };\n",
       "      s.onerror = function() {\n",
       "        console.warn(\"failed to load library \" + url);\n",
       "      };\n",
       "      console.log(\"Bokeh: injecting script tag for BokehJS library: \", url);\n",
       "      document.getElementsByTagName(\"head\")[0].appendChild(s);\n",
       "    }\n",
       "  };var element = document.getElementById(\"fd3b7306-6c00-48ea-8c83-69f920fd5123\");\n",
       "  if (element == null) {\n",
       "    console.log(\"Bokeh: ERROR: autoload.js configured with elementid 'fd3b7306-6c00-48ea-8c83-69f920fd5123' but no matching script tag was found. \")\n",
       "    return false;\n",
       "  }\n",
       "\n",
       "  var js_urls = [\"https://cdn.pydata.org/bokeh/release/bokeh-0.12.4.min.js\", \"https://cdn.pydata.org/bokeh/release/bokeh-widgets-0.12.4.min.js\"];\n",
       "\n",
       "  var inline_js = [\n",
       "    function(Bokeh) {\n",
       "      Bokeh.set_log_level(\"info\");\n",
       "    },\n",
       "    \n",
       "    function(Bokeh) {\n",
       "      \n",
       "      document.getElementById(\"fd3b7306-6c00-48ea-8c83-69f920fd5123\").textContent = \"BokehJS is loading...\";\n",
       "    },\n",
       "    function(Bokeh) {\n",
       "      console.log(\"Bokeh: injecting CSS: https://cdn.pydata.org/bokeh/release/bokeh-0.12.4.min.css\");\n",
       "      Bokeh.embed.inject_css(\"https://cdn.pydata.org/bokeh/release/bokeh-0.12.4.min.css\");\n",
       "      console.log(\"Bokeh: injecting CSS: https://cdn.pydata.org/bokeh/release/bokeh-widgets-0.12.4.min.css\");\n",
       "      Bokeh.embed.inject_css(\"https://cdn.pydata.org/bokeh/release/bokeh-widgets-0.12.4.min.css\");\n",
       "    }\n",
       "  ];\n",
       "\n",
       "  function run_inline_js() {\n",
       "    \n",
       "    if ((window.Bokeh !== undefined) || (force === true)) {\n",
       "      for (var i = 0; i < inline_js.length; i++) {\n",
       "        inline_js[i](window.Bokeh);\n",
       "      }if (force === true) {\n",
       "        display_loaded();\n",
       "      }} else if (Date.now() < window._bokeh_timeout) {\n",
       "      setTimeout(run_inline_js, 100);\n",
       "    } else if (!window._bokeh_failed_load) {\n",
       "      console.log(\"Bokeh: BokehJS failed to load within specified timeout.\");\n",
       "      window._bokeh_failed_load = true;\n",
       "    } else if (force !== true) {\n",
       "      var cell = $(document.getElementById(\"fd3b7306-6c00-48ea-8c83-69f920fd5123\")).parents('.cell').data().cell;\n",
       "      cell.output_area.append_execute_result(NB_LOAD_WARNING)\n",
       "    }\n",
       "\n",
       "  }\n",
       "\n",
       "  if (window._bokeh_is_loading === 0) {\n",
       "    console.log(\"Bokeh: BokehJS loaded, going straight to plotting\");\n",
       "    run_inline_js();\n",
       "  } else {\n",
       "    load_libs(js_urls, function() {\n",
       "      console.log(\"Bokeh: BokehJS plotting callback run at\", now());\n",
       "      run_inline_js();\n",
       "    });\n",
       "  }\n",
       "}(this));"
      ]
     },
     "metadata": {},
     "output_type": "display_data"
    },
    {
     "data": {
      "text/html": [
       "\n",
       "\n",
       "    <div class=\"bk-root\">\n",
       "        <div class=\"bk-plotdiv\" id=\"a5ab4a7f-a776-40e9-9795-9f82475732da\"></div>\n",
       "    </div>\n",
       "<script type=\"text/javascript\">\n",
       "  \n",
       "  (function(global) {\n",
       "    function now() {\n",
       "      return new Date();\n",
       "    }\n",
       "  \n",
       "    var force = false;\n",
       "  \n",
       "    if (typeof (window._bokeh_onload_callbacks) === \"undefined\" || force === true) {\n",
       "      window._bokeh_onload_callbacks = [];\n",
       "      window._bokeh_is_loading = undefined;\n",
       "    }\n",
       "  \n",
       "  \n",
       "    \n",
       "    if (typeof (window._bokeh_timeout) === \"undefined\" || force === true) {\n",
       "      window._bokeh_timeout = Date.now() + 0;\n",
       "      window._bokeh_failed_load = false;\n",
       "    }\n",
       "  \n",
       "    var NB_LOAD_WARNING = {'data': {'text/html':\n",
       "       \"<div style='background-color: #fdd'>\\n\"+\n",
       "       \"<p>\\n\"+\n",
       "       \"BokehJS does not appear to have successfully loaded. If loading BokehJS from CDN, this \\n\"+\n",
       "       \"may be due to a slow or bad network connection. Possible fixes:\\n\"+\n",
       "       \"</p>\\n\"+\n",
       "       \"<ul>\\n\"+\n",
       "       \"<li>re-rerun `output_notebook()` to attempt to load from CDN again, or</li>\\n\"+\n",
       "       \"<li>use INLINE resources instead, as so:</li>\\n\"+\n",
       "       \"</ul>\\n\"+\n",
       "       \"<code>\\n\"+\n",
       "       \"from bokeh.resources import INLINE\\n\"+\n",
       "       \"output_notebook(resources=INLINE)\\n\"+\n",
       "       \"</code>\\n\"+\n",
       "       \"</div>\"}};\n",
       "  \n",
       "    function display_loaded() {\n",
       "      if (window.Bokeh !== undefined) {\n",
       "        document.getElementById(\"a5ab4a7f-a776-40e9-9795-9f82475732da\").textContent = \"BokehJS successfully loaded.\";\n",
       "      } else if (Date.now() < window._bokeh_timeout) {\n",
       "        setTimeout(display_loaded, 100)\n",
       "      }\n",
       "    }\n",
       "  \n",
       "    function run_callbacks() {\n",
       "      window._bokeh_onload_callbacks.forEach(function(callback) { callback() });\n",
       "      delete window._bokeh_onload_callbacks\n",
       "      console.info(\"Bokeh: all callbacks have finished\");\n",
       "    }\n",
       "  \n",
       "    function load_libs(js_urls, callback) {\n",
       "      window._bokeh_onload_callbacks.push(callback);\n",
       "      if (window._bokeh_is_loading > 0) {\n",
       "        console.log(\"Bokeh: BokehJS is being loaded, scheduling callback at\", now());\n",
       "        return null;\n",
       "      }\n",
       "      if (js_urls == null || js_urls.length === 0) {\n",
       "        run_callbacks();\n",
       "        return null;\n",
       "      }\n",
       "      console.log(\"Bokeh: BokehJS not loaded, scheduling load and callback at\", now());\n",
       "      window._bokeh_is_loading = js_urls.length;\n",
       "      for (var i = 0; i < js_urls.length; i++) {\n",
       "        var url = js_urls[i];\n",
       "        var s = document.createElement('script');\n",
       "        s.src = url;\n",
       "        s.async = false;\n",
       "        s.onreadystatechange = s.onload = function() {\n",
       "          window._bokeh_is_loading--;\n",
       "          if (window._bokeh_is_loading === 0) {\n",
       "            console.log(\"Bokeh: all BokehJS libraries loaded\");\n",
       "            run_callbacks()\n",
       "          }\n",
       "        };\n",
       "        s.onerror = function() {\n",
       "          console.warn(\"failed to load library \" + url);\n",
       "        };\n",
       "        console.log(\"Bokeh: injecting script tag for BokehJS library: \", url);\n",
       "        document.getElementsByTagName(\"head\")[0].appendChild(s);\n",
       "      }\n",
       "    };var element = document.getElementById(\"a5ab4a7f-a776-40e9-9795-9f82475732da\");\n",
       "    if (element == null) {\n",
       "      console.log(\"Bokeh: ERROR: autoload.js configured with elementid 'a5ab4a7f-a776-40e9-9795-9f82475732da' but no matching script tag was found. \")\n",
       "      return false;\n",
       "    }\n",
       "  \n",
       "    var js_urls = [];\n",
       "  \n",
       "    var inline_js = [\n",
       "      function(Bokeh) {\n",
       "        (function() {\n",
       "          var fn = function() {\n",
       "            var docs_json = {\"36508523-1564-4234-b81b-33840491d3b7\":{\"roots\":{\"references\":[{\"attributes\":{},\"id\":\"0fca7dc9-45e4-475e-a6b7-5c21170db62c\",\"type\":\"BasicTicker\"},{\"attributes\":{\"callback\":null,\"end\":397.5994569742759,\"start\":-84.0539475297763},\"id\":\"f0901e7a-a496-4b4a-bd75-ccc64528671e\",\"type\":\"Range1d\"},{\"attributes\":{},\"id\":\"5b8abcb2-d2d7-4cf9-b419-b14430a9d455\",\"type\":\"BasicTickFormatter\"},{\"attributes\":{\"bottom_units\":\"screen\",\"fill_alpha\":{\"value\":0.5},\"fill_color\":{\"value\":\"lightgrey\"},\"left_units\":\"screen\",\"level\":\"overlay\",\"line_alpha\":{\"value\":1.0},\"line_color\":{\"value\":\"black\"},\"line_dash\":[4,4],\"line_width\":{\"value\":2},\"plot\":null,\"render_mode\":\"css\",\"right_units\":\"screen\",\"top_units\":\"screen\"},\"id\":\"453e1401-8b16-4d07-9216-433e45d48f69\",\"type\":\"BoxAnnotation\"},{\"attributes\":{\"plot\":{\"id\":\"ecaea36c-504f-4442-95d5-93296d03e930\",\"subtype\":\"Chart\",\"type\":\"Plot\"},\"ticker\":{\"id\":\"0fca7dc9-45e4-475e-a6b7-5c21170db62c\",\"type\":\"BasicTicker\"}},\"id\":\"87ca5289-90a3-447f-862b-8298e8e41646\",\"type\":\"Grid\"},{\"attributes\":{},\"id\":\"45fd6697-8152-4f0c-941c-9129eb5fb7d7\",\"type\":\"BasicTicker\"},{\"attributes\":{\"plot\":null,\"text\":null},\"id\":\"aac7040f-fcdd-4605-8c1e-f7f3e962a8ee\",\"type\":\"Title\"},{\"attributes\":{\"dimension\":1,\"plot\":{\"id\":\"ecaea36c-504f-4442-95d5-93296d03e930\",\"subtype\":\"Chart\",\"type\":\"Plot\"},\"ticker\":{\"id\":\"45fd6697-8152-4f0c-941c-9129eb5fb7d7\",\"type\":\"BasicTicker\"}},\"id\":\"10a7eb87-65e7-45f9-a36f-abd4924812b3\",\"type\":\"Grid\"},{\"attributes\":{\"callback\":null,\"end\":11.98018599874285,\"start\":-11.997818649025739},\"id\":\"8842c9c0-dd50-485a-99aa-0d112d0f9091\",\"type\":\"Range1d\"},{\"attributes\":{\"callback\":null,\"column_names\":[\"x_values\",\"y_values\"],\"data\":{\"chart_index\":[null,null,null,null,null,null,null,null,null,null,null,null,null,null,null,null,null,null,null,null,null,null,null,null,null,null,null,null,null,null,null,null,null,null,null,null,null,null,null,null,null,null,null,null,null,null,null,null,null,null,null,null,null,null,null,null,null,null,null,null,null,null,null,null,null,null,null,null,null,null,null,null,null,null,null,null,null,null,null,null,null,null,null,null,null,null,null,null,null,null,null,null,null,null,null,null,null,null,null,null,null,null,null,null,null,null,null,null,null,null,null,null,null,null,null,null,null,null,null,null,null,null,null,null,null,null,null,null,null,null,null,null,null,null,null,null,null,null,null,null,null,null,null,null,null,null,null,null,null,null,null,null,null,null,null,null,null,null,null,null,null,null,null,null,null,null,null,null,null,null,null,null,null,null,null,null,null,null,null,null,null,null,null,null,null,null,null,null,null,null,null,null,null,null,null,null,null,null,null,null,null,null,null,null,null,null,null,null,null,null,null,null,null,null,null,null,null,null,null,null,null,null,null,null,null,null,null,null,null,null,null,null,null,null,null,null,null,null,null,null,null,null,null,null,null,null,null,null,null,null,null,null,null,null,null,null,null,null,null,null,null,null,null,null,null,null,null,null,null,null,null,null,null,null,null,null,null,null,null,null,null,null,null,null,null,null,null,null,null,null,null,null,null,null,null,null,null,null,null,null,null,null,null,null,null,null,null,null,null,null,null,null,null,null,null,null,null,null,null,null,null,null,null,null,null,null,null,null,null,null,null,null,null,null,null,null,null,null,null,null,null,null,null,null,null,null,null,null,null,null,null,null,null,null,null,null,null,null,null,null,null,null,null,null,null,null,null,null,null,null,null,null,null,null,null,null,null,null,null,null,null,null,null,null,null,null,null,null,null,null,null,null,null,null,null,null,null,null,null,null,null,null,null,null,null,null,null,null,null,null,null,null,null,null,null,null,null,null,null,null,null,null,null,null,null,null,null,null,null,null,null,null,null,null,null,null,null,null,null,null,null,null,null,null,null,null,null,null,null,null,null,null,null,null,null,null,null,null,null,null,null,null,null,null,null,null,null,null,null,null,null,null,null,null,null,null,null,null,null,null,null,null,null,null,null,null,null,null,null,null,null,null,null,null,null,null,null,null,null,null],\"x_values\":{\"__ndarray__\":\"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\",\"dtype\":\"float64\",\"shape\":[500]},\"y_values\":{\"__ndarray__\":\"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\",\"dtype\":\"float64\",\"shape\":[500]}}},\"id\":\"e0411b8c-6eeb-42a9-9788-ebf83a541840\",\"type\":\"ColumnDataSource\"},{\"attributes\":{\"axis_label\":\"y\",\"formatter\":{\"id\":\"1c65d9b3-64a2-4bff-84ff-50222b387a36\",\"type\":\"BasicTickFormatter\"},\"plot\":{\"id\":\"ecaea36c-504f-4442-95d5-93296d03e930\",\"subtype\":\"Chart\",\"type\":\"Plot\"},\"ticker\":{\"id\":\"45fd6697-8152-4f0c-941c-9129eb5fb7d7\",\"type\":\"BasicTicker\"}},\"id\":\"f599599f-1ed1-407f-bdf8-94b838494164\",\"type\":\"LinearAxis\"},{\"attributes\":{},\"id\":\"1c65d9b3-64a2-4bff-84ff-50222b387a36\",\"type\":\"BasicTickFormatter\"},{\"attributes\":{\"plot\":{\"id\":\"ecaea36c-504f-4442-95d5-93296d03e930\",\"subtype\":\"Chart\",\"type\":\"Plot\"}},\"id\":\"a062b9c8-3102-4226-8cbb-e3d49e9ddd6e\",\"type\":\"PanTool\"},{\"attributes\":{\"plot\":{\"id\":\"ecaea36c-504f-4442-95d5-93296d03e930\",\"subtype\":\"Chart\",\"type\":\"Plot\"}},\"id\":\"a2c6b0c6-3c29-46ec-97a3-284707cbef46\",\"type\":\"WheelZoomTool\"},{\"attributes\":{\"overlay\":{\"id\":\"453e1401-8b16-4d07-9216-433e45d48f69\",\"type\":\"BoxAnnotation\"},\"plot\":{\"id\":\"ecaea36c-504f-4442-95d5-93296d03e930\",\"subtype\":\"Chart\",\"type\":\"Plot\"}},\"id\":\"7815786e-9229-4246-a55c-95b836541ad2\",\"type\":\"BoxZoomTool\"},{\"attributes\":{\"plot\":{\"id\":\"ecaea36c-504f-4442-95d5-93296d03e930\",\"subtype\":\"Chart\",\"type\":\"Plot\"}},\"id\":\"0d0c502d-ece0-4e36-a0f1-e91220c02735\",\"type\":\"SaveTool\"},{\"attributes\":{\"data_source\":{\"id\":\"e0411b8c-6eeb-42a9-9788-ebf83a541840\",\"type\":\"ColumnDataSource\"},\"glyph\":{\"id\":\"864e3060-1c72-402d-955d-b69c78290b1e\",\"type\":\"Circle\"},\"hover_glyph\":null,\"nonselection_glyph\":null,\"selection_glyph\":null},\"id\":\"10bb8338-342d-443f-ba52-e1fee9075614\",\"type\":\"GlyphRenderer\"},{\"attributes\":{\"plot\":{\"id\":\"ecaea36c-504f-4442-95d5-93296d03e930\",\"subtype\":\"Chart\",\"type\":\"Plot\"}},\"id\":\"0b846acf-5a85-4a53-b621-aaa94c619f45\",\"type\":\"ResetTool\"},{\"attributes\":{},\"id\":\"33b710a9-0589-4d86-a16e-92e0897732db\",\"type\":\"ToolEvents\"},{\"attributes\":{\"plot\":{\"id\":\"ecaea36c-504f-4442-95d5-93296d03e930\",\"subtype\":\"Chart\",\"type\":\"Plot\"}},\"id\":\"5a4e3dc9-4b3b-490a-aa50-3e1bbfc6f6ad\",\"type\":\"HelpTool\"},{\"attributes\":{\"active_drag\":\"auto\",\"active_scroll\":\"auto\",\"active_tap\":\"auto\",\"tools\":[{\"id\":\"a062b9c8-3102-4226-8cbb-e3d49e9ddd6e\",\"type\":\"PanTool\"},{\"id\":\"a2c6b0c6-3c29-46ec-97a3-284707cbef46\",\"type\":\"WheelZoomTool\"},{\"id\":\"7815786e-9229-4246-a55c-95b836541ad2\",\"type\":\"BoxZoomTool\"},{\"id\":\"0d0c502d-ece0-4e36-a0f1-e91220c02735\",\"type\":\"SaveTool\"},{\"id\":\"0b846acf-5a85-4a53-b621-aaa94c619f45\",\"type\":\"ResetTool\"},{\"id\":\"5a4e3dc9-4b3b-490a-aa50-3e1bbfc6f6ad\",\"type\":\"HelpTool\"}]},\"id\":\"4f358c6d-7478-413a-9b43-7215e7387e16\",\"type\":\"Toolbar\"},{\"attributes\":{\"axis_label\":\"x\",\"formatter\":{\"id\":\"5b8abcb2-d2d7-4cf9-b419-b14430a9d455\",\"type\":\"BasicTickFormatter\"},\"plot\":{\"id\":\"ecaea36c-504f-4442-95d5-93296d03e930\",\"subtype\":\"Chart\",\"type\":\"Plot\"},\"ticker\":{\"id\":\"0fca7dc9-45e4-475e-a6b7-5c21170db62c\",\"type\":\"BasicTicker\"}},\"id\":\"8f437a59-88c9-4e3b-a031-a3549e01e97b\",\"type\":\"LinearAxis\"},{\"attributes\":{\"below\":[{\"id\":\"8f437a59-88c9-4e3b-a031-a3549e01e97b\",\"type\":\"LinearAxis\"}],\"css_classes\":null,\"height\":400,\"left\":[{\"id\":\"f599599f-1ed1-407f-bdf8-94b838494164\",\"type\":\"LinearAxis\"}],\"renderers\":[{\"id\":\"453e1401-8b16-4d07-9216-433e45d48f69\",\"type\":\"BoxAnnotation\"},{\"id\":\"10bb8338-342d-443f-ba52-e1fee9075614\",\"type\":\"GlyphRenderer\"},{\"id\":\"4a0b5044-e1d8-447e-97ca-ff8dc3f6fb00\",\"type\":\"Legend\"},{\"id\":\"8f437a59-88c9-4e3b-a031-a3549e01e97b\",\"type\":\"LinearAxis\"},{\"id\":\"f599599f-1ed1-407f-bdf8-94b838494164\",\"type\":\"LinearAxis\"},{\"id\":\"87ca5289-90a3-447f-862b-8298e8e41646\",\"type\":\"Grid\"},{\"id\":\"10a7eb87-65e7-45f9-a36f-abd4924812b3\",\"type\":\"Grid\"}],\"title\":{\"id\":\"aac7040f-fcdd-4605-8c1e-f7f3e962a8ee\",\"type\":\"Title\"},\"tool_events\":{\"id\":\"33b710a9-0589-4d86-a16e-92e0897732db\",\"type\":\"ToolEvents\"},\"toolbar\":{\"id\":\"4f358c6d-7478-413a-9b43-7215e7387e16\",\"type\":\"Toolbar\"},\"width\":750,\"x_mapper_type\":\"auto\",\"x_range\":{\"id\":\"8842c9c0-dd50-485a-99aa-0d112d0f9091\",\"type\":\"Range1d\"},\"y_mapper_type\":\"auto\",\"y_range\":{\"id\":\"f0901e7a-a496-4b4a-bd75-ccc64528671e\",\"type\":\"Range1d\"}},\"id\":\"ecaea36c-504f-4442-95d5-93296d03e930\",\"subtype\":\"Chart\",\"type\":\"Plot\"},{\"attributes\":{\"fill_alpha\":{\"value\":0.7},\"fill_color\":{\"value\":\"#f22c40\"},\"line_color\":{\"value\":\"#f22c40\"},\"size\":{\"units\":\"screen\",\"value\":8},\"x\":{\"field\":\"x_values\"},\"y\":{\"field\":\"y_values\"}},\"id\":\"864e3060-1c72-402d-955d-b69c78290b1e\",\"type\":\"Circle\"},{\"attributes\":{\"location\":\"top_left\",\"plot\":{\"id\":\"ecaea36c-504f-4442-95d5-93296d03e930\",\"subtype\":\"Chart\",\"type\":\"Plot\"}},\"id\":\"4a0b5044-e1d8-447e-97ca-ff8dc3f6fb00\",\"type\":\"Legend\"}],\"root_ids\":[\"ecaea36c-504f-4442-95d5-93296d03e930\"]},\"title\":\"Bokeh Application\",\"version\":\"0.12.4\"}};\n",
       "            var render_items = [{\"docid\":\"36508523-1564-4234-b81b-33840491d3b7\",\"elementid\":\"a5ab4a7f-a776-40e9-9795-9f82475732da\",\"modelid\":\"ecaea36c-504f-4442-95d5-93296d03e930\"}];\n",
       "            \n",
       "            Bokeh.embed.embed_items(docs_json, render_items);\n",
       "          };\n",
       "          if (document.readyState != \"loading\") fn();\n",
       "          else document.addEventListener(\"DOMContentLoaded\", fn);\n",
       "        })();\n",
       "      },\n",
       "      function(Bokeh) {\n",
       "      }\n",
       "    ];\n",
       "  \n",
       "    function run_inline_js() {\n",
       "      \n",
       "      if ((window.Bokeh !== undefined) || (force === true)) {\n",
       "        for (var i = 0; i < inline_js.length; i++) {\n",
       "          inline_js[i](window.Bokeh);\n",
       "        }if (force === true) {\n",
       "          display_loaded();\n",
       "        }} else if (Date.now() < window._bokeh_timeout) {\n",
       "        setTimeout(run_inline_js, 100);\n",
       "      } else if (!window._bokeh_failed_load) {\n",
       "        console.log(\"Bokeh: BokehJS failed to load within specified timeout.\");\n",
       "        window._bokeh_failed_load = true;\n",
       "      } else if (force !== true) {\n",
       "        var cell = $(document.getElementById(\"a5ab4a7f-a776-40e9-9795-9f82475732da\")).parents('.cell').data().cell;\n",
       "        cell.output_area.append_execute_result(NB_LOAD_WARNING)\n",
       "      }\n",
       "  \n",
       "    }\n",
       "  \n",
       "    if (window._bokeh_is_loading === 0) {\n",
       "      console.log(\"Bokeh: BokehJS loaded, going straight to plotting\");\n",
       "      run_inline_js();\n",
       "    } else {\n",
       "      load_libs(js_urls, function() {\n",
       "        console.log(\"Bokeh: BokehJS plotting callback run at\", now());\n",
       "        run_inline_js();\n",
       "      });\n",
       "    }\n",
       "  }(this));\n",
       "</script>"
      ]
     },
     "metadata": {},
     "output_type": "display_data"
    }
   ],
   "source": [
    "from bokeh.charts import Scatter, output_notebook, show\n",
    "output_notebook()\n",
    "\n",
    "scatter = Scatter({'x': x, 'y': y}, width=750, height=400)\n",
    "show(scatter)"
   ]
  },
  {
   "cell_type": "markdown",
   "metadata": {
    "deletable": true,
    "editable": true,
    "slideshow": {
     "slide_type": "slide"
    }
   },
   "source": [
    "### Least Squares the way _you_ do it...\n",
    "\n",
    "...assuming you use `scikit-learn` like every other sane Python programmer."
   ]
  },
  {
   "cell_type": "markdown",
   "metadata": {
    "deletable": true,
    "editable": true,
    "slideshow": {
     "slide_type": "subslide"
    }
   },
   "source": [
    "We looked at a chart of our data and decided to describe it with:\n",
    "\n",
    "* A quadratic term  \n",
    "* A linear term\n",
    "* An offset"
   ]
  },
  {
   "cell_type": "code",
   "execution_count": 3,
   "metadata": {
    "collapsed": false,
    "deletable": true,
    "editable": true,
    "slideshow": {
     "slide_type": "subslide"
    }
   },
   "outputs": [
    {
     "name": "stdout",
     "output_type": "stream",
     "text": [
      "[  2.98259014  -2.25266697  10.66100195]\n"
     ]
    },
    {
     "name": "stderr",
     "output_type": "stream",
     "text": [
      "/Users/roneil/src/github.com/ryanjoneil/talks/2017/03/data-science-dc/lib/python3.6/site-packages/scipy/linalg/basic.py:884: RuntimeWarning: internal gelsd driver lwork query error, required iwork dimension not returned. This is likely the result of LAPACK bug 0038, fixed in LAPACK 3.2.2 (released July 21, 2010). Falling back to 'gelss' driver.\n",
      "  warnings.warn(mesg, RuntimeWarning)\n"
     ]
    }
   ],
   "source": [
    "from sklearn.linear_model import LinearRegression\n",
    "\n",
    "# Note: A is our feature matrix.\n",
    "#       We intentionally add a \"1\" for the offset, instead of letting \n",
    "#       sklearn do that for us. This will make sense soon.\n",
    "\n",
    "X = np.array([[xi**2, xi, 1] for xi in x])\n",
    "\n",
    "lin = LinearRegression(fit_intercept=False)\n",
    "lin.fit(X, y)\n",
    "\n",
    "print(lin.coef_)"
   ]
  },
  {
   "cell_type": "markdown",
   "metadata": {
    "deletable": true,
    "editable": true,
    "slideshow": {
     "slide_type": "subslide"
    }
   },
   "source": [
    "How'd we do?"
   ]
  },
  {
   "cell_type": "code",
   "execution_count": 4,
   "metadata": {
    "collapsed": false,
    "deletable": true,
    "editable": true,
    "slideshow": {
     "slide_type": "-"
    }
   },
   "outputs": [
    {
     "data": {
      "text/html": [
       "\n",
       "\n",
       "    <div class=\"bk-root\">\n",
       "        <div class=\"bk-plotdiv\" id=\"cf948893-e628-45f2-9080-9bf6c02d200e\"></div>\n",
       "    </div>\n",
       "<script type=\"text/javascript\">\n",
       "  \n",
       "  (function(global) {\n",
       "    function now() {\n",
       "      return new Date();\n",
       "    }\n",
       "  \n",
       "    var force = false;\n",
       "  \n",
       "    if (typeof (window._bokeh_onload_callbacks) === \"undefined\" || force === true) {\n",
       "      window._bokeh_onload_callbacks = [];\n",
       "      window._bokeh_is_loading = undefined;\n",
       "    }\n",
       "  \n",
       "  \n",
       "    \n",
       "    if (typeof (window._bokeh_timeout) === \"undefined\" || force === true) {\n",
       "      window._bokeh_timeout = Date.now() + 0;\n",
       "      window._bokeh_failed_load = false;\n",
       "    }\n",
       "  \n",
       "    var NB_LOAD_WARNING = {'data': {'text/html':\n",
       "       \"<div style='background-color: #fdd'>\\n\"+\n",
       "       \"<p>\\n\"+\n",
       "       \"BokehJS does not appear to have successfully loaded. If loading BokehJS from CDN, this \\n\"+\n",
       "       \"may be due to a slow or bad network connection. Possible fixes:\\n\"+\n",
       "       \"</p>\\n\"+\n",
       "       \"<ul>\\n\"+\n",
       "       \"<li>re-rerun `output_notebook()` to attempt to load from CDN again, or</li>\\n\"+\n",
       "       \"<li>use INLINE resources instead, as so:</li>\\n\"+\n",
       "       \"</ul>\\n\"+\n",
       "       \"<code>\\n\"+\n",
       "       \"from bokeh.resources import INLINE\\n\"+\n",
       "       \"output_notebook(resources=INLINE)\\n\"+\n",
       "       \"</code>\\n\"+\n",
       "       \"</div>\"}};\n",
       "  \n",
       "    function display_loaded() {\n",
       "      if (window.Bokeh !== undefined) {\n",
       "        document.getElementById(\"cf948893-e628-45f2-9080-9bf6c02d200e\").textContent = \"BokehJS successfully loaded.\";\n",
       "      } else if (Date.now() < window._bokeh_timeout) {\n",
       "        setTimeout(display_loaded, 100)\n",
       "      }\n",
       "    }\n",
       "  \n",
       "    function run_callbacks() {\n",
       "      window._bokeh_onload_callbacks.forEach(function(callback) { callback() });\n",
       "      delete window._bokeh_onload_callbacks\n",
       "      console.info(\"Bokeh: all callbacks have finished\");\n",
       "    }\n",
       "  \n",
       "    function load_libs(js_urls, callback) {\n",
       "      window._bokeh_onload_callbacks.push(callback);\n",
       "      if (window._bokeh_is_loading > 0) {\n",
       "        console.log(\"Bokeh: BokehJS is being loaded, scheduling callback at\", now());\n",
       "        return null;\n",
       "      }\n",
       "      if (js_urls == null || js_urls.length === 0) {\n",
       "        run_callbacks();\n",
       "        return null;\n",
       "      }\n",
       "      console.log(\"Bokeh: BokehJS not loaded, scheduling load and callback at\", now());\n",
       "      window._bokeh_is_loading = js_urls.length;\n",
       "      for (var i = 0; i < js_urls.length; i++) {\n",
       "        var url = js_urls[i];\n",
       "        var s = document.createElement('script');\n",
       "        s.src = url;\n",
       "        s.async = false;\n",
       "        s.onreadystatechange = s.onload = function() {\n",
       "          window._bokeh_is_loading--;\n",
       "          if (window._bokeh_is_loading === 0) {\n",
       "            console.log(\"Bokeh: all BokehJS libraries loaded\");\n",
       "            run_callbacks()\n",
       "          }\n",
       "        };\n",
       "        s.onerror = function() {\n",
       "          console.warn(\"failed to load library \" + url);\n",
       "        };\n",
       "        console.log(\"Bokeh: injecting script tag for BokehJS library: \", url);\n",
       "        document.getElementsByTagName(\"head\")[0].appendChild(s);\n",
       "      }\n",
       "    };var element = document.getElementById(\"cf948893-e628-45f2-9080-9bf6c02d200e\");\n",
       "    if (element == null) {\n",
       "      console.log(\"Bokeh: ERROR: autoload.js configured with elementid 'cf948893-e628-45f2-9080-9bf6c02d200e' but no matching script tag was found. \")\n",
       "      return false;\n",
       "    }\n",
       "  \n",
       "    var js_urls = [];\n",
       "  \n",
       "    var inline_js = [\n",
       "      function(Bokeh) {\n",
       "        (function() {\n",
       "          var fn = function() {\n",
       "            var docs_json = {\"c8c0daca-4818-4f79-a9bd-6457fed1b611\":{\"roots\":{\"references\":[{\"attributes\":{\"plot\":null,\"text\":null},\"id\":\"e5c79e38-02df-4f50-b1c8-5464865eb58a\",\"type\":\"Title\"},{\"attributes\":{},\"id\":\"f3af6496-2bc2-42f3-b9da-7e013d389954\",\"type\":\"BasicTickFormatter\"},{\"attributes\":{\"axis_label\":\"x\",\"formatter\":{\"id\":\"c24bc669-8c14-495e-a71e-56177add6faa\",\"type\":\"BasicTickFormatter\"},\"plot\":{\"id\":\"c531beee-8d2a-4c76-8930-6670575b0bff\",\"subtype\":\"Chart\",\"type\":\"Plot\"},\"ticker\":{\"id\":\"e60d4c33-737a-4434-9790-1190278703a6\",\"type\":\"BasicTicker\"}},\"id\":\"1b4cc58d-deb2-49de-933f-f55a5639f68e\",\"type\":\"LinearAxis\"},{\"attributes\":{\"callback\":null,\"end\":11.98018599874285,\"start\":-11.997818649025739},\"id\":\"3ad00299-3aaf-490a-97b0-eb101e6c66ca\",\"type\":\"Range1d\"},{\"attributes\":{\"bottom_units\":\"screen\",\"fill_alpha\":{\"value\":0.5},\"fill_color\":{\"value\":\"lightgrey\"},\"left_units\":\"screen\",\"level\":\"overlay\",\"line_alpha\":{\"value\":1.0},\"line_color\":{\"value\":\"black\"},\"line_dash\":[4,4],\"line_width\":{\"value\":2},\"plot\":null,\"render_mode\":\"css\",\"right_units\":\"screen\",\"top_units\":\"screen\"},\"id\":\"167d7a10-2712-49fe-959f-09635ea7ea31\",\"type\":\"BoxAnnotation\"},{\"attributes\":{\"plot\":{\"id\":\"c531beee-8d2a-4c76-8930-6670575b0bff\",\"subtype\":\"Chart\",\"type\":\"Plot\"}},\"id\":\"ac4931e9-5d39-4341-8b8a-fb1668b08324\",\"type\":\"PanTool\"},{\"attributes\":{\"location\":\"top_left\",\"plot\":{\"id\":\"c531beee-8d2a-4c76-8930-6670575b0bff\",\"subtype\":\"Chart\",\"type\":\"Plot\"}},\"id\":\"63b7bee3-5a0e-42a0-92c7-765bf49178b0\",\"type\":\"Legend\"},{\"attributes\":{\"plot\":{\"id\":\"c531beee-8d2a-4c76-8930-6670575b0bff\",\"subtype\":\"Chart\",\"type\":\"Plot\"}},\"id\":\"0189b853-17af-421b-8e38-2b4e9f0115ba\",\"type\":\"WheelZoomTool\"},{\"attributes\":{\"overlay\":{\"id\":\"167d7a10-2712-49fe-959f-09635ea7ea31\",\"type\":\"BoxAnnotation\"},\"plot\":{\"id\":\"c531beee-8d2a-4c76-8930-6670575b0bff\",\"subtype\":\"Chart\",\"type\":\"Plot\"}},\"id\":\"0904b861-4d3f-4878-8d5b-d016ceea8ac8\",\"type\":\"BoxZoomTool\"},{\"attributes\":{\"plot\":{\"id\":\"c531beee-8d2a-4c76-8930-6670575b0bff\",\"subtype\":\"Chart\",\"type\":\"Plot\"}},\"id\":\"0a211a69-f3ba-41a9-b91f-e335022bb7ba\",\"type\":\"SaveTool\"},{\"attributes\":{\"active_drag\":\"auto\",\"active_scroll\":\"auto\",\"active_tap\":\"auto\",\"tools\":[{\"id\":\"ac4931e9-5d39-4341-8b8a-fb1668b08324\",\"type\":\"PanTool\"},{\"id\":\"0189b853-17af-421b-8e38-2b4e9f0115ba\",\"type\":\"WheelZoomTool\"},{\"id\":\"0904b861-4d3f-4878-8d5b-d016ceea8ac8\",\"type\":\"BoxZoomTool\"},{\"id\":\"0a211a69-f3ba-41a9-b91f-e335022bb7ba\",\"type\":\"SaveTool\"},{\"id\":\"57f0a404-b359-46c2-a711-7b85189b0b8b\",\"type\":\"ResetTool\"},{\"id\":\"c3482e50-b247-4a7b-8136-747eef6e7efb\",\"type\":\"HelpTool\"}]},\"id\":\"ee4e7326-9f7f-46e2-9d67-591a6e3534a9\",\"type\":\"Toolbar\"},{\"attributes\":{\"plot\":{\"id\":\"c531beee-8d2a-4c76-8930-6670575b0bff\",\"subtype\":\"Chart\",\"type\":\"Plot\"}},\"id\":\"57f0a404-b359-46c2-a711-7b85189b0b8b\",\"type\":\"ResetTool\"},{\"attributes\":{\"plot\":{\"id\":\"c531beee-8d2a-4c76-8930-6670575b0bff\",\"subtype\":\"Chart\",\"type\":\"Plot\"}},\"id\":\"c3482e50-b247-4a7b-8136-747eef6e7efb\",\"type\":\"HelpTool\"},{\"attributes\":{},\"id\":\"51795bdd-b390-4e8e-9486-87732598a2fd\",\"type\":\"ToolEvents\"},{\"attributes\":{\"line_color\":{\"value\":\"#f22c40\"},\"line_width\":{\"value\":2},\"x\":{\"field\":\"x_values\"},\"y\":{\"field\":\"y_values\"}},\"id\":\"d650f363-ae26-4504-97d0-36fad85d3bc2\",\"type\":\"Line\"},{\"attributes\":{\"below\":[{\"id\":\"1b4cc58d-deb2-49de-933f-f55a5639f68e\",\"type\":\"LinearAxis\"}],\"css_classes\":null,\"height\":400,\"left\":[{\"id\":\"a18a2f7f-540e-4c80-80f0-7df692d50299\",\"type\":\"LinearAxis\"}],\"renderers\":[{\"id\":\"167d7a10-2712-49fe-959f-09635ea7ea31\",\"type\":\"BoxAnnotation\"},{\"id\":\"8281dca9-5133-4747-8dca-c9e3f6c055b4\",\"type\":\"GlyphRenderer\"},{\"id\":\"63b7bee3-5a0e-42a0-92c7-765bf49178b0\",\"type\":\"Legend\"},{\"id\":\"1b4cc58d-deb2-49de-933f-f55a5639f68e\",\"type\":\"LinearAxis\"},{\"id\":\"a18a2f7f-540e-4c80-80f0-7df692d50299\",\"type\":\"LinearAxis\"},{\"id\":\"e2c2f78d-1b9a-47bc-86d9-60970627c48f\",\"type\":\"Grid\"},{\"id\":\"6f8f18a8-9574-4ded-91ce-054ca31bc4f2\",\"type\":\"Grid\"}],\"title\":{\"id\":\"e5c79e38-02df-4f50-b1c8-5464865eb58a\",\"type\":\"Title\"},\"tool_events\":{\"id\":\"51795bdd-b390-4e8e-9486-87732598a2fd\",\"type\":\"ToolEvents\"},\"toolbar\":{\"id\":\"ee4e7326-9f7f-46e2-9d67-591a6e3534a9\",\"type\":\"Toolbar\"},\"width\":750,\"x_mapper_type\":\"auto\",\"x_range\":{\"id\":\"3ad00299-3aaf-490a-97b0-eb101e6c66ca\",\"type\":\"Range1d\"},\"y_mapper_type\":\"auto\",\"y_range\":{\"id\":\"6ea4adbf-ef7a-4c3f-9603-6e5fabaf74d1\",\"type\":\"Range1d\"}},\"id\":\"c531beee-8d2a-4c76-8930-6670575b0bff\",\"subtype\":\"Chart\",\"type\":\"Plot\"},{\"attributes\":{\"data_source\":{\"id\":\"ed06e69d-94d3-4103-a5c5-2a837b15eb5a\",\"type\":\"ColumnDataSource\"},\"glyph\":{\"id\":\"d650f363-ae26-4504-97d0-36fad85d3bc2\",\"type\":\"Line\"},\"hover_glyph\":null,\"nonselection_glyph\":null,\"selection_glyph\":null},\"id\":\"8281dca9-5133-4747-8dca-c9e3f6c055b4\",\"type\":\"GlyphRenderer\"},{\"attributes\":{\"callback\":null,\"end\":363.5439719873726,\"start\":-21.88227850691915},\"id\":\"6ea4adbf-ef7a-4c3f-9603-6e5fabaf74d1\",\"type\":\"Range1d\"},{\"attributes\":{\"callback\":null,\"column_names\":[\"x_values\",\"y_values\"],\"data\":{\"chart_index\":[null,null,null,null,null,null,null,null,null,null,null,null,null,null,null,null,null,null,null,null,null,null,null,null,null,null,null,null,null,null,null,null,null,null,null,null,null,null,null,null,null,null,null,null,null,null,null,null,null,null,null,null,null,null,null,null,null,null,null,null,null,null,null,null,null,null,null,null,null,null,null,null,null,null,null,null,null,null,null,null,null,null,null,null,null,null,null,null,null,null,null,null,null,null,null,null,null,null,null,null,null,null,null,null,null,null,null,null,null,null,null,null,null,null,null,null,null,null,null,null,null,null,null,null,null,null,null,null,null,null,null,null,null,null,null,null,null,null,null,null,null,null,null,null,null,null,null,null,null,null,null,null,null,null,null,null,null,null,null,null,null,null,null,null,null,null,null,null,null,null,null,null,null,null,null,null,null,null,null,null,null,null,null,null,null,null,null,null,null,null,null,null,null,null,null,null,null,null,null,null,null,null,null,null,null,null,null,null,null,null,null,null,null,null,null,null,null,null,null,null,null,null,null,null,null,null,null,null,null,null,null,null,null,null,null,null,null,null,null,null,null,null,null,null,null,null,null,null,null,null,null,null,null,null,null,null,null,null,null,null,null,null,null,null,null,null,null,null,null,null,null,null,null,null,null,null,null,null,null,null,null,null,null,null,null,null,null,null,null,null,null,null,null,null,null,null,null,null,null,null,null,null,null,null,null,null,null,null,null,null,null,null,null,null,null,null,null,null,null,null,null,null,null,null,null,null,null,null,null,null,null,null,null,null,null,null,null,null,null,null,null,null,null,null,null,null,null,null,null,null,null,null,null,null,null,null,null,null,null,null,null,null,null,null,null,null,null,null,null,null,null,null,null,null,null,null,null,null,null,null,null,null,null,null,null,null,null,null,null,null,null,null,null,null,null,null,null,null,null,null,null,null,null,null,null,null,null,null,null,null,null,null,null,null,null,null,null,null,null,null,null,null,null,null,null,null,null,null,null,null,null,null,null,null,null,null,null,null,null,null,null,null,null,null,null,null,null,null,null,null,null,null,null,null,null,null,null,null,null,null,null,null,null,null,null,null,null,null,null,null,null,null,null,null,null,null,null,null,null,null,null,null,null,null,null,null,null,null,null,null,null,null,null,null,null,null,null,null,null,null],\"x_values\":{\"__ndarray__\":\"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\",\"dtype\":\"float64\",\"shape\":[500]},\"y_values\":{\"__ndarray__\":\"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\",\"dtype\":\"float64\",\"shape\":[500]}}},\"id\":\"ed06e69d-94d3-4103-a5c5-2a837b15eb5a\",\"type\":\"ColumnDataSource\"},{\"attributes\":{\"axis_label\":\"y\",\"formatter\":{\"id\":\"f3af6496-2bc2-42f3-b9da-7e013d389954\",\"type\":\"BasicTickFormatter\"},\"plot\":{\"id\":\"c531beee-8d2a-4c76-8930-6670575b0bff\",\"subtype\":\"Chart\",\"type\":\"Plot\"},\"ticker\":{\"id\":\"124a8cb9-d825-4b78-b3f4-3b99ade8320a\",\"type\":\"BasicTicker\"}},\"id\":\"a18a2f7f-540e-4c80-80f0-7df692d50299\",\"type\":\"LinearAxis\"},{\"attributes\":{},\"id\":\"c24bc669-8c14-495e-a71e-56177add6faa\",\"type\":\"BasicTickFormatter\"},{\"attributes\":{},\"id\":\"e60d4c33-737a-4434-9790-1190278703a6\",\"type\":\"BasicTicker\"},{\"attributes\":{\"plot\":{\"id\":\"c531beee-8d2a-4c76-8930-6670575b0bff\",\"subtype\":\"Chart\",\"type\":\"Plot\"},\"ticker\":{\"id\":\"e60d4c33-737a-4434-9790-1190278703a6\",\"type\":\"BasicTicker\"}},\"id\":\"e2c2f78d-1b9a-47bc-86d9-60970627c48f\",\"type\":\"Grid\"},{\"attributes\":{},\"id\":\"124a8cb9-d825-4b78-b3f4-3b99ade8320a\",\"type\":\"BasicTicker\"},{\"attributes\":{\"dimension\":1,\"plot\":{\"id\":\"c531beee-8d2a-4c76-8930-6670575b0bff\",\"subtype\":\"Chart\",\"type\":\"Plot\"},\"ticker\":{\"id\":\"124a8cb9-d825-4b78-b3f4-3b99ade8320a\",\"type\":\"BasicTicker\"}},\"id\":\"6f8f18a8-9574-4ded-91ce-054ca31bc4f2\",\"type\":\"Grid\"}],\"root_ids\":[\"c531beee-8d2a-4c76-8930-6670575b0bff\"]},\"title\":\"Bokeh Application\",\"version\":\"0.12.4\"}};\n",
       "            var render_items = [{\"docid\":\"c8c0daca-4818-4f79-a9bd-6457fed1b611\",\"elementid\":\"cf948893-e628-45f2-9080-9bf6c02d200e\",\"modelid\":\"c531beee-8d2a-4c76-8930-6670575b0bff\"}];\n",
       "            \n",
       "            Bokeh.embed.embed_items(docs_json, render_items);\n",
       "          };\n",
       "          if (document.readyState != \"loading\") fn();\n",
       "          else document.addEventListener(\"DOMContentLoaded\", fn);\n",
       "        })();\n",
       "      },\n",
       "      function(Bokeh) {\n",
       "      }\n",
       "    ];\n",
       "  \n",
       "    function run_inline_js() {\n",
       "      \n",
       "      if ((window.Bokeh !== undefined) || (force === true)) {\n",
       "        for (var i = 0; i < inline_js.length; i++) {\n",
       "          inline_js[i](window.Bokeh);\n",
       "        }if (force === true) {\n",
       "          display_loaded();\n",
       "        }} else if (Date.now() < window._bokeh_timeout) {\n",
       "        setTimeout(run_inline_js, 100);\n",
       "      } else if (!window._bokeh_failed_load) {\n",
       "        console.log(\"Bokeh: BokehJS failed to load within specified timeout.\");\n",
       "        window._bokeh_failed_load = true;\n",
       "      } else if (force !== true) {\n",
       "        var cell = $(document.getElementById(\"cf948893-e628-45f2-9080-9bf6c02d200e\")).parents('.cell').data().cell;\n",
       "        cell.output_area.append_execute_result(NB_LOAD_WARNING)\n",
       "      }\n",
       "  \n",
       "    }\n",
       "  \n",
       "    if (window._bokeh_is_loading === 0) {\n",
       "      console.log(\"Bokeh: BokehJS loaded, going straight to plotting\");\n",
       "      run_inline_js();\n",
       "    } else {\n",
       "      load_libs(js_urls, function() {\n",
       "        console.log(\"Bokeh: BokehJS plotting callback run at\", now());\n",
       "        run_inline_js();\n",
       "      });\n",
       "    }\n",
       "  }(this));\n",
       "</script>"
      ]
     },
     "metadata": {},
     "output_type": "display_data"
    }
   ],
   "source": [
    "from bokeh.charts import Line\n",
    "y_hat = lin.predict(X)\n",
    "show(Line({'x': x, 'y': y_hat}, x='x', y='y', width=750, height=400))"
   ]
  },
  {
   "cell_type": "markdown",
   "metadata": {
    "deletable": true,
    "editable": true,
    "slideshow": {
     "slide_type": "slide"
    }
   },
   "source": [
    "### Least Squares the way your _grandparents_ did it...\n",
    "\n",
    "...with chalk and a slab of slate."
   ]
  },
  {
   "cell_type": "markdown",
   "metadata": {
    "deletable": true,
    "editable": true,
    "slideshow": {
     "slide_type": "subslide"
    }
   },
   "source": [
    "Construct a function to calculate the sum of squared residuals...\n",
    "\n",
    "$$\n",
    "\\begin{align}\n",
    "    \\text{min}\\ f(\\beta) & = \\frac{1}{2} ||y - X \\beta||^2 \\\\\n",
    "                         & \\\\\n",
    "                         & = \\frac{1}{2} (y - X \\beta)'(y - X \\beta) \\\\\n",
    "                         & \\\\\n",
    "                         & = \\frac{1}{2} y'y - y'X\\beta + \\frac{1}{2} \\beta'X'X\\beta \\\\\n",
    "                         & \\\\\n",
    "                         & = \\frac{1}{2} y'y - y'X\\beta + \\frac{1}{2} \\beta'X'X\\beta \\\\\n",
    "                         & \\\\\n",
    "\\end{align}\n",
    "$$"
   ]
  },
  {
   "cell_type": "markdown",
   "metadata": {
    "deletable": true,
    "editable": true,
    "slideshow": {
     "slide_type": "subslide"
    }
   },
   "source": [
    "#### First Order Necessary Conditions\n",
    "\n",
    "...and take its derivative to find a closed-form solution.\n",
    "\n",
    "$$\\nabla f(\\beta) = X'X\\beta - y'X\\beta = 0$$  \n",
    "$$\\beta = (X'X)^{-1}X'y$$"
   ]
  },
  {
   "cell_type": "code",
   "execution_count": 5,
   "metadata": {
    "collapsed": false,
    "deletable": true,
    "editable": true,
    "slideshow": {
     "slide_type": "subslide"
    }
   },
   "outputs": [
    {
     "name": "stdout",
     "output_type": "stream",
     "text": [
      "[  2.98259014  -2.25266697  10.66100195]\n"
     ]
    }
   ],
   "source": [
    "from numpy.linalg import inv\n",
    "\n",
    "# beta = (X'X)^-1 * X * y\n",
    "Xt = X.transpose()\n",
    "pseudo_inv = inv(np.matmul(Xt, X))\n",
    "beta = np.matmul(np.matmul(pseudo_inv, Xt), y)\n",
    "print(beta)"
   ]
  },
  {
   "cell_type": "markdown",
   "metadata": {
    "deletable": true,
    "editable": true,
    "slideshow": {
     "slide_type": "subslide"
    }
   },
   "source": [
    "How'd grandma and grandpa do?"
   ]
  },
  {
   "cell_type": "code",
   "execution_count": 6,
   "metadata": {
    "collapsed": false,
    "deletable": true,
    "editable": true,
    "slideshow": {
     "slide_type": "-"
    }
   },
   "outputs": [
    {
     "data": {
      "text/html": [
       "\n",
       "\n",
       "    <div class=\"bk-root\">\n",
       "        <div class=\"bk-plotdiv\" id=\"ec703084-1258-41e6-8e8d-a31884171514\"></div>\n",
       "    </div>\n",
       "<script type=\"text/javascript\">\n",
       "  \n",
       "  (function(global) {\n",
       "    function now() {\n",
       "      return new Date();\n",
       "    }\n",
       "  \n",
       "    var force = false;\n",
       "  \n",
       "    if (typeof (window._bokeh_onload_callbacks) === \"undefined\" || force === true) {\n",
       "      window._bokeh_onload_callbacks = [];\n",
       "      window._bokeh_is_loading = undefined;\n",
       "    }\n",
       "  \n",
       "  \n",
       "    \n",
       "    if (typeof (window._bokeh_timeout) === \"undefined\" || force === true) {\n",
       "      window._bokeh_timeout = Date.now() + 0;\n",
       "      window._bokeh_failed_load = false;\n",
       "    }\n",
       "  \n",
       "    var NB_LOAD_WARNING = {'data': {'text/html':\n",
       "       \"<div style='background-color: #fdd'>\\n\"+\n",
       "       \"<p>\\n\"+\n",
       "       \"BokehJS does not appear to have successfully loaded. If loading BokehJS from CDN, this \\n\"+\n",
       "       \"may be due to a slow or bad network connection. Possible fixes:\\n\"+\n",
       "       \"</p>\\n\"+\n",
       "       \"<ul>\\n\"+\n",
       "       \"<li>re-rerun `output_notebook()` to attempt to load from CDN again, or</li>\\n\"+\n",
       "       \"<li>use INLINE resources instead, as so:</li>\\n\"+\n",
       "       \"</ul>\\n\"+\n",
       "       \"<code>\\n\"+\n",
       "       \"from bokeh.resources import INLINE\\n\"+\n",
       "       \"output_notebook(resources=INLINE)\\n\"+\n",
       "       \"</code>\\n\"+\n",
       "       \"</div>\"}};\n",
       "  \n",
       "    function display_loaded() {\n",
       "      if (window.Bokeh !== undefined) {\n",
       "        document.getElementById(\"ec703084-1258-41e6-8e8d-a31884171514\").textContent = \"BokehJS successfully loaded.\";\n",
       "      } else if (Date.now() < window._bokeh_timeout) {\n",
       "        setTimeout(display_loaded, 100)\n",
       "      }\n",
       "    }\n",
       "  \n",
       "    function run_callbacks() {\n",
       "      window._bokeh_onload_callbacks.forEach(function(callback) { callback() });\n",
       "      delete window._bokeh_onload_callbacks\n",
       "      console.info(\"Bokeh: all callbacks have finished\");\n",
       "    }\n",
       "  \n",
       "    function load_libs(js_urls, callback) {\n",
       "      window._bokeh_onload_callbacks.push(callback);\n",
       "      if (window._bokeh_is_loading > 0) {\n",
       "        console.log(\"Bokeh: BokehJS is being loaded, scheduling callback at\", now());\n",
       "        return null;\n",
       "      }\n",
       "      if (js_urls == null || js_urls.length === 0) {\n",
       "        run_callbacks();\n",
       "        return null;\n",
       "      }\n",
       "      console.log(\"Bokeh: BokehJS not loaded, scheduling load and callback at\", now());\n",
       "      window._bokeh_is_loading = js_urls.length;\n",
       "      for (var i = 0; i < js_urls.length; i++) {\n",
       "        var url = js_urls[i];\n",
       "        var s = document.createElement('script');\n",
       "        s.src = url;\n",
       "        s.async = false;\n",
       "        s.onreadystatechange = s.onload = function() {\n",
       "          window._bokeh_is_loading--;\n",
       "          if (window._bokeh_is_loading === 0) {\n",
       "            console.log(\"Bokeh: all BokehJS libraries loaded\");\n",
       "            run_callbacks()\n",
       "          }\n",
       "        };\n",
       "        s.onerror = function() {\n",
       "          console.warn(\"failed to load library \" + url);\n",
       "        };\n",
       "        console.log(\"Bokeh: injecting script tag for BokehJS library: \", url);\n",
       "        document.getElementsByTagName(\"head\")[0].appendChild(s);\n",
       "      }\n",
       "    };var element = document.getElementById(\"ec703084-1258-41e6-8e8d-a31884171514\");\n",
       "    if (element == null) {\n",
       "      console.log(\"Bokeh: ERROR: autoload.js configured with elementid 'ec703084-1258-41e6-8e8d-a31884171514' but no matching script tag was found. \")\n",
       "      return false;\n",
       "    }\n",
       "  \n",
       "    var js_urls = [];\n",
       "  \n",
       "    var inline_js = [\n",
       "      function(Bokeh) {\n",
       "        (function() {\n",
       "          var fn = function() {\n",
       "            var docs_json = {\"8d6e6917-9d3a-4466-8bfe-d2642beee015\":{\"roots\":{\"references\":[{\"attributes\":{\"bottom_units\":\"screen\",\"fill_alpha\":{\"value\":0.5},\"fill_color\":{\"value\":\"lightgrey\"},\"left_units\":\"screen\",\"level\":\"overlay\",\"line_alpha\":{\"value\":1.0},\"line_color\":{\"value\":\"black\"},\"line_dash\":[4,4],\"line_width\":{\"value\":2},\"plot\":null,\"render_mode\":\"css\",\"right_units\":\"screen\",\"top_units\":\"screen\"},\"id\":\"d68e53d1-b556-4dd1-8681-71382ac08c2a\",\"type\":\"BoxAnnotation\"},{\"attributes\":{\"plot\":{\"id\":\"a8166160-f232-447a-bdb3-4557dbf2e1fe\",\"subtype\":\"Chart\",\"type\":\"Plot\"}},\"id\":\"9043440b-f2a3-4057-8ed1-be3e4fb2fce3\",\"type\":\"SaveTool\"},{\"attributes\":{\"plot\":{\"id\":\"a8166160-f232-447a-bdb3-4557dbf2e1fe\",\"subtype\":\"Chart\",\"type\":\"Plot\"}},\"id\":\"1271f89f-c384-41f3-822b-cf317917e370\",\"type\":\"WheelZoomTool\"},{\"attributes\":{\"plot\":{\"id\":\"a8166160-f232-447a-bdb3-4557dbf2e1fe\",\"subtype\":\"Chart\",\"type\":\"Plot\"}},\"id\":\"4e5d9480-3c88-47fa-b7bb-e9a087c1f1b6\",\"type\":\"ResetTool\"},{\"attributes\":{\"overlay\":{\"id\":\"d68e53d1-b556-4dd1-8681-71382ac08c2a\",\"type\":\"BoxAnnotation\"},\"plot\":{\"id\":\"a8166160-f232-447a-bdb3-4557dbf2e1fe\",\"subtype\":\"Chart\",\"type\":\"Plot\"}},\"id\":\"fb4344b4-feba-43c9-a402-32115427b5e3\",\"type\":\"BoxZoomTool\"},{\"attributes\":{\"plot\":{\"id\":\"a8166160-f232-447a-bdb3-4557dbf2e1fe\",\"subtype\":\"Chart\",\"type\":\"Plot\"}},\"id\":\"503aedf6-d6d3-472c-b436-cb9e51c675a5\",\"type\":\"HelpTool\"},{\"attributes\":{\"callback\":null,\"end\":11.98018599874285,\"start\":-11.997818649025739},\"id\":\"7789242f-b0a0-4153-9672-c0151db496f6\",\"type\":\"Range1d\"},{\"attributes\":{\"callback\":null,\"column_names\":[\"x_values\",\"y_values\"],\"data\":{\"chart_index\":[null,null,null,null,null,null,null,null,null,null,null,null,null,null,null,null,null,null,null,null,null,null,null,null,null,null,null,null,null,null,null,null,null,null,null,null,null,null,null,null,null,null,null,null,null,null,null,null,null,null,null,null,null,null,null,null,null,null,null,null,null,null,null,null,null,null,null,null,null,null,null,null,null,null,null,null,null,null,null,null,null,null,null,null,null,null,null,null,null,null,null,null,null,null,null,null,null,null,null,null,null,null,null,null,null,null,null,null,null,null,null,null,null,null,null,null,null,null,null,null,null,null,null,null,null,null,null,null,null,null,null,null,null,null,null,null,null,null,null,null,null,null,null,null,null,null,null,null,null,null,null,null,null,null,null,null,null,null,null,null,null,null,null,null,null,null,null,null,null,null,null,null,null,null,null,null,null,null,null,null,null,null,null,null,null,null,null,null,null,null,null,null,null,null,null,null,null,null,null,null,null,null,null,null,null,null,null,null,null,null,null,null,null,null,null,null,null,null,null,null,null,null,null,null,null,null,null,null,null,null,null,null,null,null,null,null,null,null,null,null,null,null,null,null,null,null,null,null,null,null,null,null,null,null,null,null,null,null,null,null,null,null,null,null,null,null,null,null,null,null,null,null,null,null,null,null,null,null,null,null,null,null,null,null,null,null,null,null,null,null,null,null,null,null,null,null,null,null,null,null,null,null,null,null,null,null,null,null,null,null,null,null,null,null,null,null,null,null,null,null,null,null,null,null,null,null,null,null,null,null,null,null,null,null,null,null,null,null,null,null,null,null,null,null,null,null,null,null,null,null,null,null,null,null,null,null,null,null,null,null,null,null,null,null,null,null,null,null,null,null,null,null,null,null,null,null,null,null,null,null,null,null,null,null,null,null,null,null,null,null,null,null,null,null,null,null,null,null,null,null,null,null,null,null,null,null,null,null,null,null,null,null,null,null,null,null,null,null,null,null,null,null,null,null,null,null,null,null,null,null,null,null,null,null,null,null,null,null,null,null,null,null,null,null,null,null,null,null,null,null,null,null,null,null,null,null,null,null,null,null,null,null,null,null,null,null,null,null,null,null,null,null,null,null,null,null,null,null,null,null,null,null,null,null,null,null,null,null,null,null,null,null,null,null,null,null,null,null,null,null],\"x_values\":{\"__ndarray__\":\"qDl4VdL/I8AXST0yifcjwHstRTnM8yPAuEc9jvrAI8DSB7OfbLgjwGcH9qS7jCPAZbg4HE10I8AJ+OYxtXMjwIY9ozuTaiPArOXlZe9TI8AMmGD3qj8jwIDcmb2YICPAVYmu8+4II8BFDgetzvMiwCGN1Ue+1yLAxprxHsDNIsCMCahJcb0iwLux5iLIuCLAjOHiT56wIsBQ7+3Y5JwiwPTCE0DrhyLAnBlDtatOIsChf9A4Pk0iwC/dwDgkRiLAfGU9wywhIsBgAUt7uAMiwHnqfu3k9iHAcnx4sWW8IcDjuAvse6chwGEHgZ8AnCHAFOh2qwN7IcBasJ/9qnkhwPL/FhqLUCHA8njiD0FKIcBmHT2FuR8hwBADS71CyyDAOqvR/tzFIMC+pzBW1psgwAqXHGbXWSDA7POhfZM8IMCuL69ANDwgwA63q2VYMyDAoEnyG0kgIMBnayNX2QAgwEvl149t/R/A5AOwWGD9H8A44xsDhZsfwGoIk/VEWh/A1rfHgMUUH8Cc5pB83/gewOCFFOuXzR7AmougsI5eHsCCT3Q//UoewGAY58VFQR7A4I92hWBAHsD2gm6lZS0ewIbDUTsKJh7AC7d/vCIlHsAwsp6uDxEewMSMZe1Yux3AxlNYcei5HcAUBtRWnJkdwLMyu59Clh3AElpoDdI4HcByi0Z9nuocwMK4zIAE5BzA/pp8sDvGHMAUb9e8Za4cwMIzuw7GrRzAR7KpBugaHMACy1nWju4bwAE3j9VW1xvAsIDRmz68G8CuNUt/T6wbwEGgWy7HkxvAFM7D2ElBG8DABleYZiQbwFwKTJoFIRvA/GvSg9WNGsDkSGkwa2AawMvMiOihDRrA4x19MCoNGsDcCUFkJsQZwFRPD51suxnAQGTSeMGWGcBrnV69uo4ZwNIAU8XdYRnAhNW+WvcrGcDMekAACiMZwF0QYH7HGRnAxjf/AA7sGMAoFcfNtLgYwN7lRkPisxjArI5cNiWdGMDOK6X5OVEYwMUZssqjTBjAeZqtU/MWGMDmmvPIthQYwIzfIfmb8BfAUDAfz8noF8B4a34JWd0XwAhZMx++yxfAtVk0Qja+F8B6wbGAPLsXwKpBFWiOpRfA4St0pfd5F8CVRBYDcHYXwHCN0zS1UhfAmo+QZnpFF8BYY6lkriIXwFXZfn+FHRfAaAJHKQ7+FsDZLm1P9fIWwJiWvQTVwRbANOFroUqYFsD2/+5iB4gWwPZCjGzihBbAtpZy4Zd0FsAuw0j3GBUWwISCQDmRDRbACkpsjDXxFcAQa22QHNkVwNp9sDglghXAv1FrDWd3FcCkacZ7k3AVwGZDbahJOhXAoBFPaR4IFcDKgb6PVQAVwH5hjFv93xTAf/6xbAXMFMCCOR5mvMgUwHyjap25ZhTANK9haEc2FMBcoN0EBy4UwBHEekaPJRTAo3wkRwz6E8CqAxxGsPETwN2dIX+W0BPADgun1cyYE8Doufl1u3ETwHjZHaZtXRPAKYYGf0gzE8AAfYI8AxwTwDS7ANwN3hLA2JynNb2rEsCTxh72z0oSwJf6UvGuOxLARYWYAJ8iEsCqbQHMFOoRwFj4QYr70BHAmiVDpuKUEcAaUS7EzmARwNpUy8sY9BDARb8K0T2pEMCiFAnT3KUQwO92KgtwYRDAYkJ0QoQnEMCscrwx/SEQwO+dRIrWEhDAFilagIL9D8D4w5EtXskPwEgIkrRH7Q7AZOKRcau/DsBqVM09CbkOwIyJRZD3dw7A3ANU+qphDsCsNGzeQ1UOwMi/WOJ5MA7AGFCWoGgrDsAYmaRVgPcNwICuFtiDVA3A/G7zNnlBDcBaR2wJORANwAKEBR6kswzARHlvxsNaDMBoL11VANULwGj5EsqAowvARKtGrAB0C8BQERt2ITULwPzM0QM0FwvAyoVTFqeTCsDaES5Uk1cKwNYk+WAwhAnA7PxRZWlgCcB69P7Gb/cIwNBEiZ7fygjAOv9YldV7CMC8CGB0ZHcIwFJI44hdagjAsAwy4JhhCMC298Kh8vEHwDQWYutnowbAOOzLhviCBsCcb5/npikGwGSZMC342wXAAIfiLk+PBcBkmvGRxPkEwNhH0jKqOgTAEEypU/XyA8Bsw+ahj9cDwF7zKKSd1QPAlJACQUSpA8AkVurWjKUDwBZyuzIIhwPAbIHeK7UHA8AsofU5OfcCwAyaJosdQgHA4KteoArwAMAgybP8eu8AwHAFGzmwywDAPuThGz1lAMA4Xj6jtgwAwLCm1pZBq/+/oHjtp4mV/r9Q+PxATQz+v1CAT2eMdvy/MOLDI7Uv/L8wO49R4yf7v3ir7CGsY/W/QF11ODM69b8AfKl1Hcf0v0DtmNBWmvO/CGho97lL8794ldI3fffwvxBKdu4rcvC/gIFmdvmK7r+AJ+4yPy/uv7ALY44cS+2/gG/k/N7K7L/gw8YLJ2bsv6Cgy26wOey/YMr+tzzu67/wxTMghOjrv3Bx4Lejweu/gHZyX2UQ5r8g9ROfsUPlv+A3vvm6D+W/EGKtJCNE5L8gHGJDwH/jv/B0QlsReeK/QO0Lhl5l4b8gX4MFxoffv8B+y7DXQN6/AK35UyMU3r8Ay4h5rbPYv8C6mQt3kdi/IIZO28iZ0b8AtGgwxZPQv8AmZLDNjtC/wK2EZEsGzL8Ahf4vUmzLvwC6NJFCwsq/gMiuTn7Byr9AQ1p4sSjKvwAm87m+q8S/AOlE+Fhuq78ATAT8EOKqv4DjQm0eIrM/QJx0R1bswT8A3Otyq//EP0A7w/z2RMU/APzNELzlzj9gm2RNAjHQP8C9V30hx9M/IJw7WJpK2T9AXiUThbTaP8CFZXwMKtw/YBZ1U1mq3D+AYH69e0TgP3BoKUd3t+M/kGaHjPmP5T9AJQlRi0zpP+Do+nm13es/ADthjoDX7D8AAM8lvgjtP4AH4JkGde4/8AsedV+77j+QJEopN3zwP9ipIKSVrvA/GOkdT+H88D/wbsfLyXPxP3hI8YKrR/I/QEgQy7Zo8j+gJoBqN3XzP3hdImogZ/Q/sKeTNDf/9D+Qj7XcMKz2PwjKWx+9Gvc/cEXWmUm/9z+wZf56ONH3PxiNxPsAofg/4FPuVbY8+T8gNT7Px3X5P7BpKxmwzPo/UEqVFXzh+j+gfsNkS4T7P8h3g/y+3/s/INFwi0ZN/D+o1ew0nXH8P/BXY/ZpFv0/KN98Umrz/T8AKpH7wQr+P6C4tJxrUv8/aOkt0YEBAEDgeS7pJRYAQGD1yM1TRwBAwAcrOP+QAEDgATUDu5wBQIAeUqyAoAFA6LbFqqwgAkDsFSz6LiwCQNiF+mNmOQJAdMOKM1D8AkBAkuRZHB4DQAAni2kIKQNAfF9NSHk1A0D8xFqmXEwDQMj7ng2QZwNAAC4JvbiMA0DsGzz0IBAEQMSNogwCBQVAmHAUH7gfBUAw7loDxSYFQLBDWzecQgVAfPKpJFNPBUBYuC3bxoIFQEwHRIoWzwZAuMq3wxkhB0A0S6vX/T0HQMAZF6FRYwhA8CiN0Tp9CEBI7qgCL/MIQLSRvnZhmwlAQBXYGJy2CUB00WYkYyAKQEj5PUs7qApAgKgczEKyCkBU/K3nmP0KQNw63bk90AtAiGiiwfxzDUBMhps5W4UNQFzmsW+eqA1AeMGxxQGyDUCIU7UvN8kNQABWgj/fFw5AzJwgL3EbDkAMQ+vGhGsOQCC4hOvJfA5A2JJXNcHFDkDYEOk3V4gPQOR6D00emA9AoPhWhIAgEEB+vGKnKXAQQACc6uW9cBBA1E7V65d3EEDA0f0KjI4QQIzLwXeOAhFA7N84zQUvEUBqLJFJEH8RQEy2Q1vB6BFAUNn/SMMyEkAcRV3kJV0SQASaepsstBJAICV47AcdE0CWzPcrHTwTQK5stpG7PxNA2Lac30SZE0Cy1AiURZ8TQELiTrmtoxNA7mXEoxbJE0AaVm34DQoUQB7FxMAKFhRAOBa2cgkqFEAmpg+QwkkUQKSKVqoFUhRAHmR5b31+FEACP/TjvIoUQEJz232CTRVAFi8Bi2hsFUD8hFiVX54VQGxiIf+QahZAShXXmAalFkA0FzFHCL4WQBYk69YpvhZAgCoICs3CFkBIHEqatM0WQJr+B9XQ5hZABCgeFMbrFkCOExQKmAIXQCbgyNPYjBdATCn5giCcF0BgU2Lq+AwYQBBokr+iFBhA7OZpjdwoGEAQCa9feU8YQFBZJT6UWRhAlP037UhsGEBAXvkBBnkYQPRRXrjkkBhASBY5zn6RGEBIFDoZFGIZQFxuR0l8aRlARJw/od5qGUDQK4tj2HEZQNgIm1EAdhlAEG1m3b8OGkBgZyAnXx0aQFSP253oZxpAxHgoM6F6GkC0FtM27McaQPyO9iEoBRtACPPKOScaG0DQ/ZZrTsMbQNyHjEku/RtAhDq/U5uBHEC4erMZ4IocQCBzk1j1nhxAdC9ktY/THEAousrYQtUcQDwgaZSuDR1A6FeRJEEuHUA4bGhf5jwdQPyVTBvLRB1AIJjUgglWHUCcTZEOJWAdQCyzb3xuhB1AuD94TpSQHUBAiI1kn54dQBDVkRgJux1A7PvOMhbwHUDkokJfcPgdQMTvSpcRDh5ASPtENw1SHkAoaRsz8qseQKAmrzMpwR5A3PrTigTDHkDQvXN/rMweQLDjin2Czh5AmGgfEDwwH0DAVkIWTmkfQOS1QNoEbB9ACJffSliFH0AoNpD74ZofQHD+6Us9rB9AxGy/hzfHH0BEBpPFe/gfQOgaWVCl+B9AkC4H/jADIEAIQ4UMLg0gQLBZtvSBECBAuEozSf4gIEAerquIsDMgQDzDAux6OSBAtqNQlIhHIECWRGCh0VwgQCReX8vdbyBAENwzjkrPIEBMRtFkkewgQKjMypOzASFAeB34548hIUC02oTwfighQA51M6dLMSFAWtjx9mRGIUCQatpFG2EhQOoRxsk6aCFASKMHZrlyIUCqawQoe4MhQFTCC7ouhCFAuiH096OQIUCA/x/Mr5YhQBKpRO79tCFAWKSq4iXCIUBme2axG9IhQGStHvxE0iFAYkQAzuvYIUDccdb9ivIhQJBlDpsG9yFAZgvz96sGIkDejuKLgDQiQFw6m90oaCJAIuIBvEZ7IkAkoKHyc4giQETIwIAojyJA3LSBOFOdIkAQeFInu50iQGhYSCGfpiJAuoCk2BHIIkDaxN5VVNYiQLayTKTp3SJAqitBEzX9IkAYt+dWYjwjQJjxcjI4TCNALiK9sPJ3I0CQ70M5874jQACq7WczxiNAOnI656DRI0BKGKRQJtYjQJCrgF/04SNAdrI3AUv2I0CSnOcvy/YjQA==\",\"dtype\":\"float64\",\"shape\":[500]},\"y_values\":{\"__ndarray__\":\"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\",\"dtype\":\"float64\",\"shape\":[500]}}},\"id\":\"2dd27b7f-cc56-4f35-ae9a-7b3fc0e25eac\",\"type\":\"ColumnDataSource\"},{\"attributes\":{\"axis_label\":\"x\",\"formatter\":{\"id\":\"20e564ab-cf08-4067-b037-2fab3f614a09\",\"type\":\"BasicTickFormatter\"},\"plot\":{\"id\":\"a8166160-f232-447a-bdb3-4557dbf2e1fe\",\"subtype\":\"Chart\",\"type\":\"Plot\"},\"ticker\":{\"id\":\"e78778c3-22e2-4c34-bb76-4cb9b74350f9\",\"type\":\"BasicTicker\"}},\"id\":\"c728f31b-7a9a-4f71-b2d5-d5bcb950e8d0\",\"type\":\"LinearAxis\"},{\"attributes\":{\"data_source\":{\"id\":\"2dd27b7f-cc56-4f35-ae9a-7b3fc0e25eac\",\"type\":\"ColumnDataSource\"},\"glyph\":{\"id\":\"aff4fb10-6247-48e3-8c69-c603406c3d40\",\"type\":\"Line\"},\"hover_glyph\":null,\"nonselection_glyph\":null,\"selection_glyph\":null},\"id\":\"c973ba9e-0f82-4679-956c-554a34ab8fde\",\"type\":\"GlyphRenderer\"},{\"attributes\":{\"line_color\":{\"value\":\"#f22c40\"},\"line_width\":{\"value\":2},\"x\":{\"field\":\"x_values\"},\"y\":{\"field\":\"y_values\"}},\"id\":\"aff4fb10-6247-48e3-8c69-c603406c3d40\",\"type\":\"Line\"},{\"attributes\":{\"location\":\"top_left\",\"plot\":{\"id\":\"a8166160-f232-447a-bdb3-4557dbf2e1fe\",\"subtype\":\"Chart\",\"type\":\"Plot\"}},\"id\":\"d1c3a06c-efdd-46d9-a3f0-776524c8b09f\",\"type\":\"Legend\"},{\"attributes\":{},\"id\":\"15ed59e4-d6a7-4363-accb-189fdc4902f3\",\"type\":\"ToolEvents\"},{\"attributes\":{\"axis_label\":\"y\",\"formatter\":{\"id\":\"c6833921-83fa-4ba7-b4c1-32d597e78634\",\"type\":\"BasicTickFormatter\"},\"plot\":{\"id\":\"a8166160-f232-447a-bdb3-4557dbf2e1fe\",\"subtype\":\"Chart\",\"type\":\"Plot\"},\"ticker\":{\"id\":\"3b218a2a-fc8d-4011-9942-3b3621e5adef\",\"type\":\"BasicTicker\"}},\"id\":\"f3ff46cb-1188-4b29-93df-0b4de7d0b0cc\",\"type\":\"LinearAxis\"},{\"attributes\":{},\"id\":\"20e564ab-cf08-4067-b037-2fab3f614a09\",\"type\":\"BasicTickFormatter\"},{\"attributes\":{},\"id\":\"e78778c3-22e2-4c34-bb76-4cb9b74350f9\",\"type\":\"BasicTicker\"},{\"attributes\":{\"plot\":{\"id\":\"a8166160-f232-447a-bdb3-4557dbf2e1fe\",\"subtype\":\"Chart\",\"type\":\"Plot\"},\"ticker\":{\"id\":\"e78778c3-22e2-4c34-bb76-4cb9b74350f9\",\"type\":\"BasicTicker\"}},\"id\":\"c288947d-d0ff-4533-bfe3-1a558e5d76d7\",\"type\":\"Grid\"},{\"attributes\":{},\"id\":\"3b218a2a-fc8d-4011-9942-3b3621e5adef\",\"type\":\"BasicTicker\"},{\"attributes\":{\"dimension\":1,\"plot\":{\"id\":\"a8166160-f232-447a-bdb3-4557dbf2e1fe\",\"subtype\":\"Chart\",\"type\":\"Plot\"},\"ticker\":{\"id\":\"3b218a2a-fc8d-4011-9942-3b3621e5adef\",\"type\":\"BasicTicker\"}},\"id\":\"e6153998-f21f-44ad-b25f-558c2346921b\",\"type\":\"Grid\"},{\"attributes\":{\"below\":[{\"id\":\"c728f31b-7a9a-4f71-b2d5-d5bcb950e8d0\",\"type\":\"LinearAxis\"}],\"css_classes\":null,\"height\":400,\"left\":[{\"id\":\"f3ff46cb-1188-4b29-93df-0b4de7d0b0cc\",\"type\":\"LinearAxis\"}],\"renderers\":[{\"id\":\"d68e53d1-b556-4dd1-8681-71382ac08c2a\",\"type\":\"BoxAnnotation\"},{\"id\":\"c973ba9e-0f82-4679-956c-554a34ab8fde\",\"type\":\"GlyphRenderer\"},{\"id\":\"d1c3a06c-efdd-46d9-a3f0-776524c8b09f\",\"type\":\"Legend\"},{\"id\":\"c728f31b-7a9a-4f71-b2d5-d5bcb950e8d0\",\"type\":\"LinearAxis\"},{\"id\":\"f3ff46cb-1188-4b29-93df-0b4de7d0b0cc\",\"type\":\"LinearAxis\"},{\"id\":\"c288947d-d0ff-4533-bfe3-1a558e5d76d7\",\"type\":\"Grid\"},{\"id\":\"e6153998-f21f-44ad-b25f-558c2346921b\",\"type\":\"Grid\"}],\"title\":{\"id\":\"506e767f-ebdf-44bb-b612-642f5156aeb7\",\"type\":\"Title\"},\"tool_events\":{\"id\":\"15ed59e4-d6a7-4363-accb-189fdc4902f3\",\"type\":\"ToolEvents\"},\"toolbar\":{\"id\":\"f9296d4c-ebb9-43a8-9296-29df8bae4757\",\"type\":\"Toolbar\"},\"width\":750,\"x_mapper_type\":\"auto\",\"x_range\":{\"id\":\"7789242f-b0a0-4153-9672-c0151db496f6\",\"type\":\"Range1d\"},\"y_mapper_type\":\"auto\",\"y_range\":{\"id\":\"4f3422f9-a357-4828-8cd2-4a79172bcfde\",\"type\":\"Range1d\"}},\"id\":\"a8166160-f232-447a-bdb3-4557dbf2e1fe\",\"subtype\":\"Chart\",\"type\":\"Plot\"},{\"attributes\":{},\"id\":\"c6833921-83fa-4ba7-b4c1-32d597e78634\",\"type\":\"BasicTickFormatter\"},{\"attributes\":{\"plot\":{\"id\":\"a8166160-f232-447a-bdb3-4557dbf2e1fe\",\"subtype\":\"Chart\",\"type\":\"Plot\"}},\"id\":\"102b3cd6-af2e-45b4-8524-a5c73ef2b1a5\",\"type\":\"PanTool\"},{\"attributes\":{\"active_drag\":\"auto\",\"active_scroll\":\"auto\",\"active_tap\":\"auto\",\"tools\":[{\"id\":\"102b3cd6-af2e-45b4-8524-a5c73ef2b1a5\",\"type\":\"PanTool\"},{\"id\":\"1271f89f-c384-41f3-822b-cf317917e370\",\"type\":\"WheelZoomTool\"},{\"id\":\"fb4344b4-feba-43c9-a402-32115427b5e3\",\"type\":\"BoxZoomTool\"},{\"id\":\"9043440b-f2a3-4057-8ed1-be3e4fb2fce3\",\"type\":\"SaveTool\"},{\"id\":\"4e5d9480-3c88-47fa-b7bb-e9a087c1f1b6\",\"type\":\"ResetTool\"},{\"id\":\"503aedf6-d6d3-472c-b436-cb9e51c675a5\",\"type\":\"HelpTool\"}]},\"id\":\"f9296d4c-ebb9-43a8-9296-29df8bae4757\",\"type\":\"Toolbar\"},{\"attributes\":{\"plot\":null,\"text\":null},\"id\":\"506e767f-ebdf-44bb-b612-642f5156aeb7\",\"type\":\"Title\"},{\"attributes\":{\"callback\":null,\"end\":363.5439719873724,\"start\":-21.88227850691915},\"id\":\"4f3422f9-a357-4828-8cd2-4a79172bcfde\",\"type\":\"Range1d\"}],\"root_ids\":[\"a8166160-f232-447a-bdb3-4557dbf2e1fe\"]},\"title\":\"Bokeh Application\",\"version\":\"0.12.4\"}};\n",
       "            var render_items = [{\"docid\":\"8d6e6917-9d3a-4466-8bfe-d2642beee015\",\"elementid\":\"ec703084-1258-41e6-8e8d-a31884171514\",\"modelid\":\"a8166160-f232-447a-bdb3-4557dbf2e1fe\"}];\n",
       "            \n",
       "            Bokeh.embed.embed_items(docs_json, render_items);\n",
       "          };\n",
       "          if (document.readyState != \"loading\") fn();\n",
       "          else document.addEventListener(\"DOMContentLoaded\", fn);\n",
       "        })();\n",
       "      },\n",
       "      function(Bokeh) {\n",
       "      }\n",
       "    ];\n",
       "  \n",
       "    function run_inline_js() {\n",
       "      \n",
       "      if ((window.Bokeh !== undefined) || (force === true)) {\n",
       "        for (var i = 0; i < inline_js.length; i++) {\n",
       "          inline_js[i](window.Bokeh);\n",
       "        }if (force === true) {\n",
       "          display_loaded();\n",
       "        }} else if (Date.now() < window._bokeh_timeout) {\n",
       "        setTimeout(run_inline_js, 100);\n",
       "      } else if (!window._bokeh_failed_load) {\n",
       "        console.log(\"Bokeh: BokehJS failed to load within specified timeout.\");\n",
       "        window._bokeh_failed_load = true;\n",
       "      } else if (force !== true) {\n",
       "        var cell = $(document.getElementById(\"ec703084-1258-41e6-8e8d-a31884171514\")).parents('.cell').data().cell;\n",
       "        cell.output_area.append_execute_result(NB_LOAD_WARNING)\n",
       "      }\n",
       "  \n",
       "    }\n",
       "  \n",
       "    if (window._bokeh_is_loading === 0) {\n",
       "      console.log(\"Bokeh: BokehJS loaded, going straight to plotting\");\n",
       "      run_inline_js();\n",
       "    } else {\n",
       "      load_libs(js_urls, function() {\n",
       "        console.log(\"Bokeh: BokehJS plotting callback run at\", now());\n",
       "        run_inline_js();\n",
       "      });\n",
       "    }\n",
       "  }(this));\n",
       "</script>"
      ]
     },
     "metadata": {},
     "output_type": "display_data"
    }
   ],
   "source": [
    "y_hat = [beta[0]*xi**2 + beta[1]*xi + beta[2] for xi in x]\n",
    "show(Line({'x': x, 'y': y_hat}, x='x', y='y', width=750, height=400))"
   ]
  },
  {
   "cell_type": "markdown",
   "metadata": {
    "deletable": true,
    "editable": true,
    "slideshow": {
     "slide_type": "slide"
    }
   },
   "source": [
    "### Least Squares the way your _crazy uncle Eddie_ does it...\n",
    "\n",
    "...'cause he used to work at NASA and code in Forth."
   ]
  },
  {
   "cell_type": "markdown",
   "metadata": {
    "deletable": true,
    "editable": true,
    "slideshow": {
     "slide_type": "subslide"
    }
   },
   "source": [
    "[`cvxopt`](http://cvxopt.org/) provides a [`qp`](http://cvxopt.org/userguide/coneprog.html#quadratic-programming) method that can solve anything of this form.\n",
    "\n",
    "$$\n",
    "\\begin{align}\n",
    "    \\text{min}  \\ \\ \\ & \\ \\frac{1}{2} \\beta'P\\beta + q'\\beta \\\\\n",
    "                      & \\\\\n",
    "    \\text{s.t.} \\ \\ \\ & \\ G\\beta \\preceq h \\\\\n",
    "                      & \\\\\n",
    "                      & \\ A\\beta = b\n",
    "\\end{align}\n",
    "$$\n"
   ]
  },
  {
   "cell_type": "markdown",
   "metadata": {
    "deletable": true,
    "editable": true,
    "slideshow": {
     "slide_type": "subslide"
    }
   },
   "source": [
    "So we need to convert from \n",
    "\n",
    "$$\\frac{1}{2} \\beta'X'X\\beta - y'X\\beta + \\frac{1}{2} y'y $$\n",
    "\n",
    "to another form\n",
    "\n",
    "$$\\frac{1}{2} \\beta'P\\beta + q'\\beta$$"
   ]
  },
  {
   "cell_type": "markdown",
   "metadata": {
    "deletable": true,
    "editable": true,
    "slideshow": {
     "slide_type": "fragment"
    }
   },
   "source": [
    "which is simply\n",
    "\n",
    "$$P = X'X, q = -y'X$$"
   ]
  },
  {
   "cell_type": "code",
   "execution_count": 7,
   "metadata": {
    "collapsed": false,
    "deletable": true,
    "editable": true,
    "slideshow": {
     "slide_type": "subslide"
    }
   },
   "outputs": [
    {
     "name": "stdout",
     "output_type": "stream",
     "text": [
      "[ 2.98e+00]\n",
      "[-2.25e+00]\n",
      "[ 1.07e+01]\n",
      "\n"
     ]
    }
   ],
   "source": [
    "import cvxopt as cvx\n",
    "\n",
    "P = cvx.matrix(np.matmul(Xt, X))\n",
    "q = cvx.matrix(-1 * np.matmul(y.transpose(), X))\n",
    "solution = cvx.solvers.qp(P, q)\n",
    "beta = solution['x'] # unrelated to our x\n",
    "print(beta)"
   ]
  },
  {
   "cell_type": "markdown",
   "metadata": {
    "deletable": true,
    "editable": true,
    "slideshow": {
     "slide_type": "subslide"
    }
   },
   "source": [
    "How'd Crazy Uncle Eddie do?"
   ]
  },
  {
   "cell_type": "code",
   "execution_count": 8,
   "metadata": {
    "collapsed": false,
    "deletable": true,
    "editable": true,
    "slideshow": {
     "slide_type": "-"
    }
   },
   "outputs": [
    {
     "data": {
      "text/html": [
       "\n",
       "\n",
       "    <div class=\"bk-root\">\n",
       "        <div class=\"bk-plotdiv\" id=\"96dfc983-2be9-46e9-8bc2-8039a7e18075\"></div>\n",
       "    </div>\n",
       "<script type=\"text/javascript\">\n",
       "  \n",
       "  (function(global) {\n",
       "    function now() {\n",
       "      return new Date();\n",
       "    }\n",
       "  \n",
       "    var force = false;\n",
       "  \n",
       "    if (typeof (window._bokeh_onload_callbacks) === \"undefined\" || force === true) {\n",
       "      window._bokeh_onload_callbacks = [];\n",
       "      window._bokeh_is_loading = undefined;\n",
       "    }\n",
       "  \n",
       "  \n",
       "    \n",
       "    if (typeof (window._bokeh_timeout) === \"undefined\" || force === true) {\n",
       "      window._bokeh_timeout = Date.now() + 0;\n",
       "      window._bokeh_failed_load = false;\n",
       "    }\n",
       "  \n",
       "    var NB_LOAD_WARNING = {'data': {'text/html':\n",
       "       \"<div style='background-color: #fdd'>\\n\"+\n",
       "       \"<p>\\n\"+\n",
       "       \"BokehJS does not appear to have successfully loaded. If loading BokehJS from CDN, this \\n\"+\n",
       "       \"may be due to a slow or bad network connection. Possible fixes:\\n\"+\n",
       "       \"</p>\\n\"+\n",
       "       \"<ul>\\n\"+\n",
       "       \"<li>re-rerun `output_notebook()` to attempt to load from CDN again, or</li>\\n\"+\n",
       "       \"<li>use INLINE resources instead, as so:</li>\\n\"+\n",
       "       \"</ul>\\n\"+\n",
       "       \"<code>\\n\"+\n",
       "       \"from bokeh.resources import INLINE\\n\"+\n",
       "       \"output_notebook(resources=INLINE)\\n\"+\n",
       "       \"</code>\\n\"+\n",
       "       \"</div>\"}};\n",
       "  \n",
       "    function display_loaded() {\n",
       "      if (window.Bokeh !== undefined) {\n",
       "        document.getElementById(\"96dfc983-2be9-46e9-8bc2-8039a7e18075\").textContent = \"BokehJS successfully loaded.\";\n",
       "      } else if (Date.now() < window._bokeh_timeout) {\n",
       "        setTimeout(display_loaded, 100)\n",
       "      }\n",
       "    }\n",
       "  \n",
       "    function run_callbacks() {\n",
       "      window._bokeh_onload_callbacks.forEach(function(callback) { callback() });\n",
       "      delete window._bokeh_onload_callbacks\n",
       "      console.info(\"Bokeh: all callbacks have finished\");\n",
       "    }\n",
       "  \n",
       "    function load_libs(js_urls, callback) {\n",
       "      window._bokeh_onload_callbacks.push(callback);\n",
       "      if (window._bokeh_is_loading > 0) {\n",
       "        console.log(\"Bokeh: BokehJS is being loaded, scheduling callback at\", now());\n",
       "        return null;\n",
       "      }\n",
       "      if (js_urls == null || js_urls.length === 0) {\n",
       "        run_callbacks();\n",
       "        return null;\n",
       "      }\n",
       "      console.log(\"Bokeh: BokehJS not loaded, scheduling load and callback at\", now());\n",
       "      window._bokeh_is_loading = js_urls.length;\n",
       "      for (var i = 0; i < js_urls.length; i++) {\n",
       "        var url = js_urls[i];\n",
       "        var s = document.createElement('script');\n",
       "        s.src = url;\n",
       "        s.async = false;\n",
       "        s.onreadystatechange = s.onload = function() {\n",
       "          window._bokeh_is_loading--;\n",
       "          if (window._bokeh_is_loading === 0) {\n",
       "            console.log(\"Bokeh: all BokehJS libraries loaded\");\n",
       "            run_callbacks()\n",
       "          }\n",
       "        };\n",
       "        s.onerror = function() {\n",
       "          console.warn(\"failed to load library \" + url);\n",
       "        };\n",
       "        console.log(\"Bokeh: injecting script tag for BokehJS library: \", url);\n",
       "        document.getElementsByTagName(\"head\")[0].appendChild(s);\n",
       "      }\n",
       "    };var element = document.getElementById(\"96dfc983-2be9-46e9-8bc2-8039a7e18075\");\n",
       "    if (element == null) {\n",
       "      console.log(\"Bokeh: ERROR: autoload.js configured with elementid '96dfc983-2be9-46e9-8bc2-8039a7e18075' but no matching script tag was found. \")\n",
       "      return false;\n",
       "    }\n",
       "  \n",
       "    var js_urls = [];\n",
       "  \n",
       "    var inline_js = [\n",
       "      function(Bokeh) {\n",
       "        (function() {\n",
       "          var fn = function() {\n",
       "            var docs_json = {\"0a234067-bd26-470a-8dcc-26a4d976df5a\":{\"roots\":{\"references\":[{\"attributes\":{\"plot\":{\"id\":\"2209c3dd-a82b-43e6-9655-d15fdaea2a9f\",\"subtype\":\"Chart\",\"type\":\"Plot\"}},\"id\":\"153789d1-da2c-4021-a8df-3078749325cf\",\"type\":\"PanTool\"},{\"attributes\":{\"location\":\"top_left\",\"plot\":{\"id\":\"2209c3dd-a82b-43e6-9655-d15fdaea2a9f\",\"subtype\":\"Chart\",\"type\":\"Plot\"}},\"id\":\"38f7cd19-d9f5-4fd4-8c4e-74e41d12f3f6\",\"type\":\"Legend\"},{\"attributes\":{\"plot\":{\"id\":\"2209c3dd-a82b-43e6-9655-d15fdaea2a9f\",\"subtype\":\"Chart\",\"type\":\"Plot\"}},\"id\":\"6dfbe6d3-49bc-46f6-b92d-5ea67e7d6354\",\"type\":\"WheelZoomTool\"},{\"attributes\":{\"overlay\":{\"id\":\"a30a8ae2-c3e5-4427-9409-0e46207a990f\",\"type\":\"BoxAnnotation\"},\"plot\":{\"id\":\"2209c3dd-a82b-43e6-9655-d15fdaea2a9f\",\"subtype\":\"Chart\",\"type\":\"Plot\"}},\"id\":\"685ee0a3-9302-499b-9252-5a652ba2f185\",\"type\":\"BoxZoomTool\"},{\"attributes\":{\"plot\":{\"id\":\"2209c3dd-a82b-43e6-9655-d15fdaea2a9f\",\"subtype\":\"Chart\",\"type\":\"Plot\"}},\"id\":\"3d03e925-364a-4106-b7b2-fbe2e074ac75\",\"type\":\"SaveTool\"},{\"attributes\":{\"plot\":{\"id\":\"2209c3dd-a82b-43e6-9655-d15fdaea2a9f\",\"subtype\":\"Chart\",\"type\":\"Plot\"}},\"id\":\"7033a32b-48be-4420-a263-c9cd465b0905\",\"type\":\"ResetTool\"},{\"attributes\":{\"plot\":{\"id\":\"2209c3dd-a82b-43e6-9655-d15fdaea2a9f\",\"subtype\":\"Chart\",\"type\":\"Plot\"}},\"id\":\"e93ff9fc-9696-4728-99d3-47cc557f46b8\",\"type\":\"HelpTool\"},{\"attributes\":{},\"id\":\"18c81df5-bb1a-4d93-bfb8-83e2f773de2e\",\"type\":\"BasicTickFormatter\"},{\"attributes\":{\"callback\":null,\"column_names\":[\"x_values\",\"y_values\"],\"data\":{\"chart_index\":[null,null,null,null,null,null,null,null,null,null,null,null,null,null,null,null,null,null,null,null,null,null,null,null,null,null,null,null,null,null,null,null,null,null,null,null,null,null,null,null,null,null,null,null,null,null,null,null,null,null,null,null,null,null,null,null,null,null,null,null,null,null,null,null,null,null,null,null,null,null,null,null,null,null,null,null,null,null,null,null,null,null,null,null,null,null,null,null,null,null,null,null,null,null,null,null,null,null,null,null,null,null,null,null,null,null,null,null,null,null,null,null,null,null,null,null,null,null,null,null,null,null,null,null,null,null,null,null,null,null,null,null,null,null,null,null,null,null,null,null,null,null,null,null,null,null,null,null,null,null,null,null,null,null,null,null,null,null,null,null,null,null,null,null,null,null,null,null,null,null,null,null,null,null,null,null,null,null,null,null,null,null,null,null,null,null,null,null,null,null,null,null,null,null,null,null,null,null,null,null,null,null,null,null,null,null,null,null,null,null,null,null,null,null,null,null,null,null,null,null,null,null,null,null,null,null,null,null,null,null,null,null,null,null,null,null,null,null,null,null,null,null,null,null,null,null,null,null,null,null,null,null,null,null,null,null,null,null,null,null,null,null,null,null,null,null,null,null,null,null,null,null,null,null,null,null,null,null,null,null,null,null,null,null,null,null,null,null,null,null,null,null,null,null,null,null,null,null,null,null,null,null,null,null,null,null,null,null,null,null,null,null,null,null,null,null,null,null,null,null,null,null,null,null,null,null,null,null,null,null,null,null,null,null,null,null,null,null,null,null,null,null,null,null,null,null,null,null,null,null,null,null,null,null,null,null,null,null,null,null,null,null,null,null,null,null,null,null,null,null,null,null,null,null,null,null,null,null,null,null,null,null,null,null,null,null,null,null,null,null,null,null,null,null,null,null,null,null,null,null,null,null,null,null,null,null,null,null,null,null,null,null,null,null,null,null,null,null,null,null,null,null,null,null,null,null,null,null,null,null,null,null,null,null,null,null,null,null,null,null,null,null,null,null,null,null,null,null,null,null,null,null,null,null,null,null,null,null,null,null,null,null,null,null,null,null,null,null,null,null,null,null,null,null,null,null,null,null,null,null,null,null,null,null,null,null,null,null,null,null,null,null,null,null,null,null,null,null,null,null],\"x_values\":{\"__ndarray__\":\"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\",\"dtype\":\"float64\",\"shape\":[500]},\"y_values\":{\"__ndarray__\":\"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\",\"dtype\":\"float64\",\"shape\":[500]}}},\"id\":\"0569812f-b81a-48ca-bd45-0704cf542912\",\"type\":\"ColumnDataSource\"},{\"attributes\":{\"below\":[{\"id\":\"bde468d6-a932-4f40-8e82-3234c6086abe\",\"type\":\"LinearAxis\"}],\"css_classes\":null,\"height\":400,\"left\":[{\"id\":\"5ccfa9b7-5ee5-42ba-9b03-511dee08eb0c\",\"type\":\"LinearAxis\"}],\"renderers\":[{\"id\":\"a30a8ae2-c3e5-4427-9409-0e46207a990f\",\"type\":\"BoxAnnotation\"},{\"id\":\"14380f4f-1c18-4851-9951-97194b91f678\",\"type\":\"GlyphRenderer\"},{\"id\":\"38f7cd19-d9f5-4fd4-8c4e-74e41d12f3f6\",\"type\":\"Legend\"},{\"id\":\"bde468d6-a932-4f40-8e82-3234c6086abe\",\"type\":\"LinearAxis\"},{\"id\":\"5ccfa9b7-5ee5-42ba-9b03-511dee08eb0c\",\"type\":\"LinearAxis\"},{\"id\":\"e9bd45a1-e310-4479-8ce2-cf5f2055bc1a\",\"type\":\"Grid\"},{\"id\":\"c2d6e7e3-a664-49da-93b1-d542de918a2a\",\"type\":\"Grid\"}],\"title\":{\"id\":\"9bcea6e5-91c8-4195-a9b7-1bd7fd963bcd\",\"type\":\"Title\"},\"tool_events\":{\"id\":\"868d043c-699a-4879-ad54-37c31c0fb4ed\",\"type\":\"ToolEvents\"},\"toolbar\":{\"id\":\"82d92e5c-de67-4ca9-bbc8-46a9eaa3aa9c\",\"type\":\"Toolbar\"},\"width\":750,\"x_mapper_type\":\"auto\",\"x_range\":{\"id\":\"625632eb-fbc2-4fc3-966d-cbfdcd40b25f\",\"type\":\"Range1d\"},\"y_mapper_type\":\"auto\",\"y_range\":{\"id\":\"1e5de5e9-ede9-480b-91c8-2430a98e7f27\",\"type\":\"Range1d\"}},\"id\":\"2209c3dd-a82b-43e6-9655-d15fdaea2a9f\",\"subtype\":\"Chart\",\"type\":\"Plot\"},{\"attributes\":{\"data_source\":{\"id\":\"0569812f-b81a-48ca-bd45-0704cf542912\",\"type\":\"ColumnDataSource\"},\"glyph\":{\"id\":\"94ae3f8d-a999-4067-9f98-9465d34c796c\",\"type\":\"Line\"},\"hover_glyph\":null,\"nonselection_glyph\":null,\"selection_glyph\":null},\"id\":\"14380f4f-1c18-4851-9951-97194b91f678\",\"type\":\"GlyphRenderer\"},{\"attributes\":{},\"id\":\"868d043c-699a-4879-ad54-37c31c0fb4ed\",\"type\":\"ToolEvents\"},{\"attributes\":{\"line_color\":{\"value\":\"#f22c40\"},\"line_width\":{\"value\":2},\"x\":{\"field\":\"x_values\"},\"y\":{\"field\":\"y_values\"}},\"id\":\"94ae3f8d-a999-4067-9f98-9465d34c796c\",\"type\":\"Line\"},{\"attributes\":{\"callback\":null,\"end\":363.543971987373,\"start\":-21.88227850691928},\"id\":\"1e5de5e9-ede9-480b-91c8-2430a98e7f27\",\"type\":\"Range1d\"},{\"attributes\":{\"axis_label\":\"y\",\"formatter\":{\"id\":\"5e703690-2ee4-4fe0-a1fe-7dd030b72827\",\"type\":\"BasicTickFormatter\"},\"plot\":{\"id\":\"2209c3dd-a82b-43e6-9655-d15fdaea2a9f\",\"subtype\":\"Chart\",\"type\":\"Plot\"},\"ticker\":{\"id\":\"85902978-b3a3-4ae6-baf6-21d3031c8c61\",\"type\":\"BasicTicker\"}},\"id\":\"5ccfa9b7-5ee5-42ba-9b03-511dee08eb0c\",\"type\":\"LinearAxis\"},{\"attributes\":{\"plot\":null,\"text\":null},\"id\":\"9bcea6e5-91c8-4195-a9b7-1bd7fd963bcd\",\"type\":\"Title\"},{\"attributes\":{},\"id\":\"ea776791-991a-4b7d-8532-e5b1e760d47f\",\"type\":\"BasicTicker\"},{\"attributes\":{\"axis_label\":\"x\",\"formatter\":{\"id\":\"18c81df5-bb1a-4d93-bfb8-83e2f773de2e\",\"type\":\"BasicTickFormatter\"},\"plot\":{\"id\":\"2209c3dd-a82b-43e6-9655-d15fdaea2a9f\",\"subtype\":\"Chart\",\"type\":\"Plot\"},\"ticker\":{\"id\":\"ea776791-991a-4b7d-8532-e5b1e760d47f\",\"type\":\"BasicTicker\"}},\"id\":\"bde468d6-a932-4f40-8e82-3234c6086abe\",\"type\":\"LinearAxis\"},{\"attributes\":{\"active_drag\":\"auto\",\"active_scroll\":\"auto\",\"active_tap\":\"auto\",\"tools\":[{\"id\":\"153789d1-da2c-4021-a8df-3078749325cf\",\"type\":\"PanTool\"},{\"id\":\"6dfbe6d3-49bc-46f6-b92d-5ea67e7d6354\",\"type\":\"WheelZoomTool\"},{\"id\":\"685ee0a3-9302-499b-9252-5a652ba2f185\",\"type\":\"BoxZoomTool\"},{\"id\":\"3d03e925-364a-4106-b7b2-fbe2e074ac75\",\"type\":\"SaveTool\"},{\"id\":\"7033a32b-48be-4420-a263-c9cd465b0905\",\"type\":\"ResetTool\"},{\"id\":\"e93ff9fc-9696-4728-99d3-47cc557f46b8\",\"type\":\"HelpTool\"}]},\"id\":\"82d92e5c-de67-4ca9-bbc8-46a9eaa3aa9c\",\"type\":\"Toolbar\"},{\"attributes\":{\"plot\":{\"id\":\"2209c3dd-a82b-43e6-9655-d15fdaea2a9f\",\"subtype\":\"Chart\",\"type\":\"Plot\"},\"ticker\":{\"id\":\"ea776791-991a-4b7d-8532-e5b1e760d47f\",\"type\":\"BasicTicker\"}},\"id\":\"e9bd45a1-e310-4479-8ce2-cf5f2055bc1a\",\"type\":\"Grid\"},{\"attributes\":{},\"id\":\"85902978-b3a3-4ae6-baf6-21d3031c8c61\",\"type\":\"BasicTicker\"},{\"attributes\":{\"dimension\":1,\"plot\":{\"id\":\"2209c3dd-a82b-43e6-9655-d15fdaea2a9f\",\"subtype\":\"Chart\",\"type\":\"Plot\"},\"ticker\":{\"id\":\"85902978-b3a3-4ae6-baf6-21d3031c8c61\",\"type\":\"BasicTicker\"}},\"id\":\"c2d6e7e3-a664-49da-93b1-d542de918a2a\",\"type\":\"Grid\"},{\"attributes\":{\"callback\":null,\"end\":11.98018599874285,\"start\":-11.997818649025739},\"id\":\"625632eb-fbc2-4fc3-966d-cbfdcd40b25f\",\"type\":\"Range1d\"},{\"attributes\":{\"bottom_units\":\"screen\",\"fill_alpha\":{\"value\":0.5},\"fill_color\":{\"value\":\"lightgrey\"},\"left_units\":\"screen\",\"level\":\"overlay\",\"line_alpha\":{\"value\":1.0},\"line_color\":{\"value\":\"black\"},\"line_dash\":[4,4],\"line_width\":{\"value\":2},\"plot\":null,\"render_mode\":\"css\",\"right_units\":\"screen\",\"top_units\":\"screen\"},\"id\":\"a30a8ae2-c3e5-4427-9409-0e46207a990f\",\"type\":\"BoxAnnotation\"},{\"attributes\":{},\"id\":\"5e703690-2ee4-4fe0-a1fe-7dd030b72827\",\"type\":\"BasicTickFormatter\"}],\"root_ids\":[\"2209c3dd-a82b-43e6-9655-d15fdaea2a9f\"]},\"title\":\"Bokeh Application\",\"version\":\"0.12.4\"}};\n",
       "            var render_items = [{\"docid\":\"0a234067-bd26-470a-8dcc-26a4d976df5a\",\"elementid\":\"96dfc983-2be9-46e9-8bc2-8039a7e18075\",\"modelid\":\"2209c3dd-a82b-43e6-9655-d15fdaea2a9f\"}];\n",
       "            \n",
       "            Bokeh.embed.embed_items(docs_json, render_items);\n",
       "          };\n",
       "          if (document.readyState != \"loading\") fn();\n",
       "          else document.addEventListener(\"DOMContentLoaded\", fn);\n",
       "        })();\n",
       "      },\n",
       "      function(Bokeh) {\n",
       "      }\n",
       "    ];\n",
       "  \n",
       "    function run_inline_js() {\n",
       "      \n",
       "      if ((window.Bokeh !== undefined) || (force === true)) {\n",
       "        for (var i = 0; i < inline_js.length; i++) {\n",
       "          inline_js[i](window.Bokeh);\n",
       "        }if (force === true) {\n",
       "          display_loaded();\n",
       "        }} else if (Date.now() < window._bokeh_timeout) {\n",
       "        setTimeout(run_inline_js, 100);\n",
       "      } else if (!window._bokeh_failed_load) {\n",
       "        console.log(\"Bokeh: BokehJS failed to load within specified timeout.\");\n",
       "        window._bokeh_failed_load = true;\n",
       "      } else if (force !== true) {\n",
       "        var cell = $(document.getElementById(\"96dfc983-2be9-46e9-8bc2-8039a7e18075\")).parents('.cell').data().cell;\n",
       "        cell.output_area.append_execute_result(NB_LOAD_WARNING)\n",
       "      }\n",
       "  \n",
       "    }\n",
       "  \n",
       "    if (window._bokeh_is_loading === 0) {\n",
       "      console.log(\"Bokeh: BokehJS loaded, going straight to plotting\");\n",
       "      run_inline_js();\n",
       "    } else {\n",
       "      load_libs(js_urls, function() {\n",
       "        console.log(\"Bokeh: BokehJS plotting callback run at\", now());\n",
       "        run_inline_js();\n",
       "      });\n",
       "    }\n",
       "  }(this));\n",
       "</script>"
      ]
     },
     "metadata": {},
     "output_type": "display_data"
    }
   ],
   "source": [
    "y_hat = [beta[0]*xi**2 + beta[1]*xi + beta[2] for xi in x]\n",
    "show(Line({'x': x, 'y': y_hat}, x='x', y='y', width=750, height=400))"
   ]
  },
  {
   "cell_type": "markdown",
   "metadata": {
    "deletable": true,
    "editable": true,
    "slideshow": {
     "slide_type": "subslide"
    }
   },
   "source": [
    "#### So what's different about Crazy Uncle Eddie?"
   ]
  },
  {
   "cell_type": "markdown",
   "metadata": {
    "deletable": true,
    "editable": true,
    "slideshow": {
     "slide_type": "fragment"
    }
   },
   "source": [
    "Well, besides the obvious.\n",
    "\n",
    "![](https://ryanjoneil.github.io/static/images/2017/03/data-science-dc/crazy-uncle-eddie.jpg)"
   ]
  },
  {
   "cell_type": "markdown",
   "metadata": {
    "deletable": true,
    "editable": true,
    "slideshow": {
     "slide_type": "subslide"
    }
   },
   "source": [
    "While all three techniques produced the _same result_, Crazy Uncle Eddie's is interesting because it is more general than the others.\n",
    "\n",
    "Crazy Eddie can solve any quadratic optimization problem, of which Least Squares is _just one instance_."
   ]
  },
  {
   "cell_type": "markdown",
   "metadata": {
    "deletable": true,
    "editable": true,
    "slideshow": {
     "slide_type": "fragment"
    }
   },
   "source": [
    "If we change the structure of the problem slightly:\n",
    "\n",
    "* We probably can't solve it with `scikit-learn`\n",
    "* Grams and Gramps have to go back to their chalkboard\n",
    "* Crazy Eddie can update the inputs to his problem and reoptimize"
   ]
  },
  {
   "cell_type": "markdown",
   "metadata": {
    "deletable": true,
    "editable": true,
    "slideshow": {
     "slide_type": "slide"
    }
   },
   "source": [
    "## Application 1: Portfolio Optimization\n",
    "\n",
    "We have a big pot of money to allocate among different investments. Lucky us!"
   ]
  },
  {
   "cell_type": "markdown",
   "metadata": {
    "deletable": true,
    "editable": true,
    "slideshow": {
     "slide_type": "fragment"
    }
   },
   "source": [
    "Some investment returns are correlated. They go up and down together.\n",
    "\n",
    "Other returns are anticorrelated. They tend to do the opposite things."
   ]
  },
  {
   "cell_type": "markdown",
   "metadata": {
    "deletable": true,
    "editable": true,
    "slideshow": {
     "slide_type": "fragment"
    }
   },
   "source": [
    "How do we allocate our money to maximize our expected return, subject to our tolerance for risk?"
   ]
  },
  {
   "cell_type": "markdown",
   "metadata": {
    "deletable": true,
    "editable": true,
    "slideshow": {
     "slide_type": "subslide"
    }
   },
   "source": [
    "We'll use 100 months of [exchange rate data](http://www.federalreserve.gov/datadownload/Build.aspx?rel=H10) from the Fed, circa 2014.\n",
    "\n",
    "Since this talk isn't about data wrangling, I've already cleaned it up into the important pieces.\n",
    "\n",
    "* Expected monthly return data for each foreign currency\n",
    "* A covariance matrix for those investments"
   ]
  },
  {
   "cell_type": "markdown",
   "metadata": {
    "deletable": true,
    "editable": true,
    "slideshow": {
     "slide_type": "subslide"
    }
   },
   "source": [
    "### The Markowitz Porfolio Optimization Model\n",
    "\n",
    "#### Inputs:\n",
    "\n",
    "$$\\mu = \\text{vector of expected investment returns}$$\n",
    "\n",
    "$$\\Sigma = \\text{covariance matrix for returns}$$\n",
    "\n",
    "$$\\alpha = \\text{unitless measure of risk aversion}$$"
   ]
  },
  {
   "cell_type": "markdown",
   "metadata": {
    "deletable": true,
    "editable": true,
    "slideshow": {
     "slide_type": "fragment"
    }
   },
   "source": [
    "#### Model:\n",
    "\n",
    "$x$ tells me how much of my total budget to put in each investment.\n",
    "\n",
    "$$\n",
    "\\begin{align}\n",
    "    \\text{max}  \\ \\ \\ & \\ \\mu'x - \\alpha x \\Sigma x \\\\\n",
    "    \\text{s.t.} \\ \\ \\ & \\ e'x = 1 \\\\\n",
    "                      & \\ x \\ge 0\n",
    "\\end{align}\n",
    "$$"
   ]
  },
  {
   "cell_type": "markdown",
   "metadata": {
    "deletable": true,
    "editable": true,
    "slideshow": {
     "slide_type": "fragment"
    }
   },
   "source": [
    "But wait! This is a _maximization_ problem! The last model used $\\text{min}$.\n",
    "\n",
    "$$\n",
    "\\begin{align}\n",
    "    \\text{min}  \\ \\ \\ & \\ \\alpha x \\Sigma x - \\mu'x \\\\\n",
    "    \\text{s.t.} \\ \\ \\ & \\ e'x = 1 \\\\\n",
    "                      & \\ x \\ge 0\n",
    "\\end{align}\n",
    "$$"
   ]
  },
  {
   "cell_type": "markdown",
   "metadata": {
    "deletable": true,
    "editable": true,
    "slideshow": {
     "slide_type": "subslide"
    }
   },
   "source": [
    "The only differences between this model and the least squares model are the constraints we've added.\n",
    "\n",
    "This one forces the model to allocate all of my budget into investments:\n",
    "\n",
    "$$e'x = 1$$\n",
    "\n",
    "This one disallows the model from making negative investments:\n",
    "\n",
    "$$x \\ge 0$$"
   ]
  },
  {
   "cell_type": "code",
   "execution_count": 9,
   "metadata": {
    "collapsed": false,
    "deletable": true,
    "editable": true,
    "slideshow": {
     "slide_type": "subslide"
    }
   },
   "outputs": [
    {
     "data": {
      "text/html": [
       "<div>\n",
       "<table border=\"1\" class=\"dataframe\">\n",
       "  <thead>\n",
       "    <tr style=\"text-align: right;\">\n",
       "      <th></th>\n",
       "      <th>Unnamed: 0</th>\n",
       "      <th>mean</th>\n",
       "      <th>variance</th>\n",
       "    </tr>\n",
       "  </thead>\n",
       "  <tbody>\n",
       "    <tr>\n",
       "      <th>0</th>\n",
       "      <td>RXI$US_N.M.AL</td>\n",
       "      <td>0.152151</td>\n",
       "      <td>10.996718</td>\n",
       "    </tr>\n",
       "    <tr>\n",
       "      <th>1</th>\n",
       "      <td>RXI$US_N.M.EU</td>\n",
       "      <td>0.002683</td>\n",
       "      <td>5.928188</td>\n",
       "    </tr>\n",
       "    <tr>\n",
       "      <th>2</th>\n",
       "      <td>RXI$US_N.M.NZ</td>\n",
       "      <td>0.220217</td>\n",
       "      <td>9.690793</td>\n",
       "    </tr>\n",
       "    <tr>\n",
       "      <th>3</th>\n",
       "      <td>RXI$US_N.M.UK</td>\n",
       "      <td>-0.159779</td>\n",
       "      <td>5.098969</td>\n",
       "    </tr>\n",
       "    <tr>\n",
       "      <th>4</th>\n",
       "      <td>RXI_N.M.BZ</td>\n",
       "      <td>-0.128507</td>\n",
       "      <td>12.743632</td>\n",
       "    </tr>\n",
       "  </tbody>\n",
       "</table>\n",
       "</div>"
      ],
      "text/plain": [
       "      Unnamed: 0      mean   variance\n",
       "0  RXI$US_N.M.AL  0.152151  10.996718\n",
       "1  RXI$US_N.M.EU  0.002683   5.928188\n",
       "2  RXI$US_N.M.NZ  0.220217   9.690793\n",
       "3  RXI$US_N.M.UK -0.159779   5.098969\n",
       "4     RXI_N.M.BZ -0.128507  12.743632"
      ]
     },
     "execution_count": 9,
     "metadata": {},
     "output_type": "execute_result"
    }
   ],
   "source": [
    "# Read in the returns and covariance data.\n",
    "import pandas as pd\n",
    "exp_returns = pd.read_csv('portfolio-optimization/currency-returns.csv')\n",
    "exp_returns.head()"
   ]
  },
  {
   "cell_type": "code",
   "execution_count": 10,
   "metadata": {
    "collapsed": false,
    "deletable": true,
    "editable": true,
    "slideshow": {
     "slide_type": "subslide"
    }
   },
   "outputs": [
    {
     "data": {
      "text/html": [
       "<div>\n",
       "<table border=\"1\" class=\"dataframe\">\n",
       "  <thead>\n",
       "    <tr style=\"text-align: right;\">\n",
       "      <th></th>\n",
       "      <th>0</th>\n",
       "      <th>1</th>\n",
       "      <th>2</th>\n",
       "      <th>3</th>\n",
       "      <th>4</th>\n",
       "      <th>5</th>\n",
       "      <th>6</th>\n",
       "      <th>7</th>\n",
       "      <th>8</th>\n",
       "      <th>9</th>\n",
       "      <th>...</th>\n",
       "      <th>13</th>\n",
       "      <th>14</th>\n",
       "      <th>15</th>\n",
       "      <th>16</th>\n",
       "      <th>17</th>\n",
       "      <th>18</th>\n",
       "      <th>19</th>\n",
       "      <th>20</th>\n",
       "      <th>21</th>\n",
       "      <th>22</th>\n",
       "    </tr>\n",
       "  </thead>\n",
       "  <tbody>\n",
       "    <tr>\n",
       "      <th>0</th>\n",
       "      <td>10.996718</td>\n",
       "      <td>5.181782</td>\n",
       "      <td>8.654762</td>\n",
       "      <td>4.457704</td>\n",
       "      <td>9.789818</td>\n",
       "      <td>5.421746</td>\n",
       "      <td>0.194428</td>\n",
       "      <td>5.166875</td>\n",
       "      <td>0.028496</td>\n",
       "      <td>4.379632</td>\n",
       "      <td>...</td>\n",
       "      <td>6.494732</td>\n",
       "      <td>7.078498</td>\n",
       "      <td>7.083824</td>\n",
       "      <td>8.574515</td>\n",
       "      <td>3.287411</td>\n",
       "      <td>0.343673</td>\n",
       "      <td>4.163674</td>\n",
       "      <td>2.450772</td>\n",
       "      <td>2.381722</td>\n",
       "      <td>0.542450</td>\n",
       "    </tr>\n",
       "    <tr>\n",
       "      <th>1</th>\n",
       "      <td>5.181782</td>\n",
       "      <td>5.928188</td>\n",
       "      <td>4.487890</td>\n",
       "      <td>3.659548</td>\n",
       "      <td>4.686754</td>\n",
       "      <td>2.467804</td>\n",
       "      <td>0.313081</td>\n",
       "      <td>5.867674</td>\n",
       "      <td>0.038117</td>\n",
       "      <td>2.545200</td>\n",
       "      <td>...</td>\n",
       "      <td>2.894461</td>\n",
       "      <td>5.350733</td>\n",
       "      <td>5.515164</td>\n",
       "      <td>4.314480</td>\n",
       "      <td>2.265781</td>\n",
       "      <td>0.418269</td>\n",
       "      <td>5.173168</td>\n",
       "      <td>1.559857</td>\n",
       "      <td>1.351946</td>\n",
       "      <td>1.776855</td>\n",
       "    </tr>\n",
       "    <tr>\n",
       "      <th>2</th>\n",
       "      <td>8.654762</td>\n",
       "      <td>4.487890</td>\n",
       "      <td>9.690793</td>\n",
       "      <td>4.330531</td>\n",
       "      <td>8.130412</td>\n",
       "      <td>4.268307</td>\n",
       "      <td>0.129303</td>\n",
       "      <td>4.466514</td>\n",
       "      <td>0.017975</td>\n",
       "      <td>3.919170</td>\n",
       "      <td>...</td>\n",
       "      <td>5.536301</td>\n",
       "      <td>5.602586</td>\n",
       "      <td>6.054567</td>\n",
       "      <td>6.733828</td>\n",
       "      <td>2.811946</td>\n",
       "      <td>0.451742</td>\n",
       "      <td>3.903260</td>\n",
       "      <td>2.135899</td>\n",
       "      <td>2.569281</td>\n",
       "      <td>0.379954</td>\n",
       "    </tr>\n",
       "    <tr>\n",
       "      <th>3</th>\n",
       "      <td>4.457704</td>\n",
       "      <td>3.659548</td>\n",
       "      <td>4.330531</td>\n",
       "      <td>5.098969</td>\n",
       "      <td>4.301933</td>\n",
       "      <td>2.573100</td>\n",
       "      <td>0.137068</td>\n",
       "      <td>3.632088</td>\n",
       "      <td>0.012420</td>\n",
       "      <td>1.821456</td>\n",
       "      <td>...</td>\n",
       "      <td>2.775715</td>\n",
       "      <td>4.081803</td>\n",
       "      <td>4.233658</td>\n",
       "      <td>3.749874</td>\n",
       "      <td>1.780620</td>\n",
       "      <td>0.326828</td>\n",
       "      <td>3.335175</td>\n",
       "      <td>1.356927</td>\n",
       "      <td>1.014109</td>\n",
       "      <td>1.584577</td>\n",
       "    </tr>\n",
       "    <tr>\n",
       "      <th>4</th>\n",
       "      <td>9.789818</td>\n",
       "      <td>4.686754</td>\n",
       "      <td>8.130412</td>\n",
       "      <td>4.301933</td>\n",
       "      <td>12.743632</td>\n",
       "      <td>5.433992</td>\n",
       "      <td>0.279201</td>\n",
       "      <td>4.689891</td>\n",
       "      <td>-0.034405</td>\n",
       "      <td>5.567318</td>\n",
       "      <td>...</td>\n",
       "      <td>7.177333</td>\n",
       "      <td>7.288341</td>\n",
       "      <td>6.774689</td>\n",
       "      <td>8.761299</td>\n",
       "      <td>2.999360</td>\n",
       "      <td>0.843294</td>\n",
       "      <td>4.269524</td>\n",
       "      <td>2.163251</td>\n",
       "      <td>2.439204</td>\n",
       "      <td>0.496304</td>\n",
       "    </tr>\n",
       "  </tbody>\n",
       "</table>\n",
       "<p>5 rows × 23 columns</p>\n",
       "</div>"
      ],
      "text/plain": [
       "          0         1         2         3          4         5         6   \\\n",
       "0  10.996718  5.181782  8.654762  4.457704   9.789818  5.421746  0.194428   \n",
       "1   5.181782  5.928188  4.487890  3.659548   4.686754  2.467804  0.313081   \n",
       "2   8.654762  4.487890  9.690793  4.330531   8.130412  4.268307  0.129303   \n",
       "3   4.457704  3.659548  4.330531  5.098969   4.301933  2.573100  0.137068   \n",
       "4   9.789818  4.686754  8.130412  4.301933  12.743632  5.433992  0.279201   \n",
       "\n",
       "         7         8         9     ...           13        14        15  \\\n",
       "0  5.166875  0.028496  4.379632    ...     6.494732  7.078498  7.083824   \n",
       "1  5.867674  0.038117  2.545200    ...     2.894461  5.350733  5.515164   \n",
       "2  4.466514  0.017975  3.919170    ...     5.536301  5.602586  6.054567   \n",
       "3  3.632088  0.012420  1.821456    ...     2.775715  4.081803  4.233658   \n",
       "4  4.689891 -0.034405  5.567318    ...     7.177333  7.288341  6.774689   \n",
       "\n",
       "         16        17        18        19        20        21        22  \n",
       "0  8.574515  3.287411  0.343673  4.163674  2.450772  2.381722  0.542450  \n",
       "1  4.314480  2.265781  0.418269  5.173168  1.559857  1.351946  1.776855  \n",
       "2  6.733828  2.811946  0.451742  3.903260  2.135899  2.569281  0.379954  \n",
       "3  3.749874  1.780620  0.326828  3.335175  1.356927  1.014109  1.584577  \n",
       "4  8.761299  2.999360  0.843294  4.269524  2.163251  2.439204  0.496304  \n",
       "\n",
       "[5 rows x 23 columns]"
      ]
     },
     "execution_count": 10,
     "metadata": {},
     "output_type": "execute_result"
    }
   ],
   "source": [
    "returns_cov = pd.read_csv('portfolio-optimization/currency-covariance.csv', header=None)\n",
    "returns_cov.head()"
   ]
  },
  {
   "cell_type": "code",
   "execution_count": 11,
   "metadata": {
    "collapsed": false,
    "deletable": true,
    "editable": true,
    "slideshow": {
     "slide_type": "subslide"
    }
   },
   "outputs": [],
   "source": [
    "# A model that will return an optimal portfolio for any risk aversion.\n",
    "def portfolio(alpha):\n",
    "    P = cvx.matrix(alpha * returns_cov.as_matrix())\n",
    "    q = cvx.matrix(-exp_returns['mean'].as_matrix())\n",
    "    G = cvx.matrix(0.0, (len(q),len(q)))\n",
    "    G[::len(q)+1] = -1.0\n",
    "    h = cvx.matrix(0.0, (len(q),1))\n",
    "    A = cvx.matrix(1.0, (1,len(q)))\n",
    "    b = cvx.matrix(1.0)\n",
    "\n",
    "    solution = cvx.solvers.qp(P, q, G, h, A, b)\n",
    "    return exp_returns['mean'].dot(solution['x'])[0]"
   ]
  },
  {
   "cell_type": "code",
   "execution_count": 12,
   "metadata": {
    "collapsed": false,
    "deletable": true,
    "editable": true,
    "slideshow": {
     "slide_type": "subslide"
    }
   },
   "outputs": [
    {
     "name": "stdout",
     "output_type": "stream",
     "text": [
      "     pcost       dcost       gap    pres   dres\n",
      " 0: -1.4109e+00 -1.2870e+00  6e+01  9e+00  5e+00\n",
      " 1: -1.8207e-02 -1.2285e+00  1e+00  5e-15  8e-16\n",
      " 2: -6.2411e-02 -2.9637e-01  2e-01  7e-16  7e-16\n",
      " 3: -1.4238e-01 -3.5309e-01  2e-01  8e-16  5e-16\n",
      " 4: -2.8201e-01 -2.9496e-01  1e-02  4e-16  5e-16\n",
      " 5: -2.8688e-01 -2.8703e-01  2e-04  1e-16  3e-16\n",
      " 6: -2.8695e-01 -2.8695e-01  2e-06  3e-16  2e-16\n",
      " 7: -2.8695e-01 -2.8695e-01  2e-08  1e-16  5e-16\n",
      "Optimal solution found.\n",
      "     pcost       dcost       gap    pres   dres\n",
      " 0: -2.6295e-01 -1.3019e+00  4e+01  5e+00  6e+00\n",
      " 1: -3.1048e-02 -1.0159e+00  2e+00  2e-01  2e-01\n",
      " 2:  3.3465e-02 -3.1889e-01  5e-01  3e-02  3e-02\n",
      " 3: -1.3476e-01 -2.5385e-01  1e-01  3e-16  7e-16\n",
      " 4: -1.9154e-01 -2.0318e-01  1e-02  1e-16  7e-16\n",
      " 5: -2.0001e-01 -2.0086e-01  9e-04  5e-17  3e-16\n",
      " 6: -2.0070e-01 -2.0074e-01  4e-05  6e-17  6e-16\n",
      " 7: -2.0073e-01 -2.0073e-01  1e-06  2e-16  1e-15\n",
      " 8: -2.0073e-01 -2.0073e-01  1e-08  3e-16  5e-16\n",
      "Optimal solution found.\n",
      "     pcost       dcost       gap    pres   dres\n",
      " 0: -1.7310e-01 -1.2428e+00  4e+01  5e+00  6e+00\n",
      " 1: -4.7542e-03 -9.2263e-01  2e+00  2e-01  2e-01\n",
      " 2:  3.8252e-02 -2.6797e-01  4e-01  3e-02  3e-02\n",
      " 3: -9.4620e-02 -1.8481e-01  9e-02  1e-16  1e-15\n",
      " 4: -1.4057e-01 -1.5061e-01  1e-02  3e-16  5e-16\n",
      " 5: -1.4747e-01 -1.4833e-01  9e-04  1e-16  6e-16\n",
      " 6: -1.4822e-01 -1.4825e-01  3e-05  1e-16  5e-16\n",
      " 7: -1.4825e-01 -1.4825e-01  1e-06  2e-16  4e-16\n",
      " 8: -1.4825e-01 -1.4825e-01  2e-08  2e-16  5e-16\n",
      "Optimal solution found.\n",
      "     pcost       dcost       gap    pres   dres\n",
      " 0: -1.3049e-01 -1.1978e+00  4e+01  5e+00  6e+00\n",
      " 1:  1.0823e-02 -8.5585e-01  2e+00  2e-01  2e-01\n",
      " 2:  4.1508e-02 -2.1689e-01  4e-01  3e-02  3e-02\n",
      " 3: -6.4792e-02 -1.2939e-01  6e-02  2e-16  8e-16\n",
      " 4: -9.7828e-02 -1.0446e-01  7e-03  3e-16  9e-16\n",
      " 5: -1.0228e-01 -1.0300e-01  7e-04  2e-16  5e-16\n",
      " 6: -1.0293e-01 -1.0295e-01  2e-05  1e-16  4e-16\n",
      " 7: -1.0295e-01 -1.0295e-01  3e-07  1e-16  5e-16\n",
      " 8: -1.0295e-01 -1.0295e-01  3e-09  1e-16  3e-16\n",
      "Optimal solution found.\n",
      "     pcost       dcost       gap    pres   dres\n",
      " 0: -1.0337e-01 -1.1595e+00  3e+01  5e+00  6e+00\n",
      " 1:  2.2165e-02 -8.0202e-01  2e+00  2e-01  2e-01\n",
      " 2:  4.3501e-02 -1.6970e-01  3e-01  2e-02  2e-02\n",
      " 3: -4.8964e-02 -9.2477e-02  4e-02  2e-16  1e-15\n",
      " 4: -7.3350e-02 -7.7843e-02  4e-03  5e-17  1e-15\n",
      " 5: -7.6465e-02 -7.6904e-02  4e-04  1e-16  6e-16\n",
      " 6: -7.6868e-02 -7.6878e-02  1e-05  3e-16  3e-16\n",
      " 7: -7.6877e-02 -7.6878e-02  1e-07  1e-16  5e-16\n",
      "Optimal solution found.\n",
      "     pcost       dcost       gap    pres   dres\n",
      " 0: -8.3552e-02 -1.1256e+00  3e+01  5e+00  6e+00\n",
      " 1:  3.1025e-02 -7.5646e-01  2e+00  2e-01  2e-01\n",
      " 2:  4.4428e-02 -1.3898e-01  3e-01  2e-02  2e-02\n",
      " 3: -3.7424e-02 -7.1497e-02  3e-02  8e-17  9e-16\n",
      " 4: -5.7093e-02 -6.0638e-02  4e-03  1e-16  8e-16\n",
      " 5: -5.9609e-02 -5.9920e-02  3e-04  4e-16  5e-16\n",
      " 6: -5.9898e-02 -5.9904e-02  5e-06  2e-16  8e-16\n",
      " 7: -5.9904e-02 -5.9904e-02  5e-08  2e-16  5e-16\n",
      "Optimal solution found.\n",
      "     pcost       dcost       gap    pres   dres\n",
      " 0: -6.7880e-02 -1.0982e+00  3e+01  5e+00  6e+00\n",
      " 1:  3.8514e-02 -7.1915e-01  2e+00  2e-01  2e-01\n",
      " 2:  4.4486e-02 -1.3048e-01  3e-01  2e-02  2e-02\n",
      " 3: -2.3873e-02 -6.0193e-02  4e-02  4e-04  5e-04\n",
      " 4: -4.4365e-02 -4.8338e-02  4e-03  2e-16  7e-16\n",
      " 5: -4.7131e-02 -4.7498e-02  4e-04  6e-17  7e-16\n",
      " 6: -4.7472e-02 -4.7478e-02  6e-06  3e-16  5e-16\n",
      " 7: -4.7478e-02 -4.7478e-02  6e-08  3e-16  4e-16\n",
      "Optimal solution found.\n",
      "     pcost       dcost       gap    pres   dres\n",
      " 0: -5.4871e-02 -1.0978e+00  3e+01  5e+00  6e+00\n",
      " 1:  4.6908e-02 -7.0310e-01  2e+00  2e-01  2e-01\n",
      " 2:  4.7530e-02 -1.2405e-01  3e-01  2e-02  2e-02\n",
      " 3: -1.4964e-02 -5.0020e-02  4e-02  2e-04  3e-04\n",
      " 4: -3.4679e-02 -3.8443e-02  4e-03  1e-16  7e-16\n",
      " 5: -3.7331e-02 -3.7669e-02  3e-04  2e-16  6e-16\n",
      " 6: -3.7646e-02 -3.7652e-02  5e-06  1e-16  6e-16\n",
      " 7: -3.7651e-02 -3.7651e-02  5e-08  2e-16  4e-16\n",
      "Optimal solution found.\n",
      "     pcost       dcost       gap    pres   dres\n",
      " 0: -4.3716e-02 -1.0974e+00  3e+01  5e+00  6e+00\n",
      " 1:  5.4196e-02 -6.8865e-01  2e+00  2e-01  2e-01\n",
      " 2:  5.0246e-02 -1.1735e-01  3e-01  2e-02  2e-02\n",
      " 3: -7.9683e-03 -4.1274e-02  3e-02  1e-17  1e-15\n",
      " 4: -2.6682e-02 -3.0144e-02  3e-03  1e-16  7e-16\n",
      " 5: -2.9169e-02 -2.9464e-02  3e-04  1e-16  9e-16\n",
      " 6: -2.9445e-02 -2.9449e-02  4e-06  2e-16  5e-16\n",
      " 7: -2.9449e-02 -2.9449e-02  4e-08  2e-16  5e-16\n",
      "Optimal solution found.\n",
      "     pcost       dcost       gap    pres   dres\n",
      " 0: -3.3930e-02 -1.0969e+00  4e+01  5e+00  6e+00\n",
      " 1:  6.0601e-02 -6.7563e-01  2e+00  2e-01  2e-01\n",
      " 2:  5.2718e-02 -1.1058e-01  3e-01  2e-02  2e-02\n",
      " 3: -1.7058e-03 -3.4171e-02  3e-02  1e-16  1e-15\n",
      " 4: -1.9669e-02 -2.2968e-02  3e-03  1e-16  1e-15\n",
      " 5: -2.2073e-02 -2.2343e-02  3e-04  1e-16  7e-16\n",
      " 6: -2.2327e-02 -2.2330e-02  4e-06  1e-16  6e-16\n",
      " 7: -2.2330e-02 -2.2330e-02  4e-08  2e-16  6e-16\n",
      "Optimal solution found.\n",
      "     pcost       dcost       gap    pres   dres\n",
      " 0: -2.5201e-02 -1.0963e+00  4e+01  5e+00  6e+00\n",
      " 1:  6.6299e-02 -6.6378e-01  2e+00  2e-01  2e-01\n",
      " 2:  5.5021e-02 -1.0386e-01  3e-01  2e-02  2e-02\n",
      " 3:  3.7272e-03 -2.7715e-02  3e-02  1e-16  1e-15\n",
      " 4: -1.3351e-02 -1.6585e-02  3e-03  1e-16  8e-16\n",
      " 5: -1.5724e-02 -1.5981e-02  3e-04  2e-16  7e-16\n",
      " 6: -1.5966e-02 -1.5969e-02  4e-06  3e-16  4e-16\n",
      " 7: -1.5969e-02 -1.5969e-02  4e-08  2e-16  4e-16\n",
      "Optimal solution found.\n",
      "     pcost       dcost       gap    pres   dres\n",
      " 0: -1.7311e-02 -1.0955e+00  4e+01  5e+00  6e+00\n",
      " 1:  7.1360e-02 -6.5307e-01  2e+00  1e-01  2e-01\n",
      " 2:  5.7368e-02 -9.7504e-02  3e-01  2e-02  2e-02\n",
      " 3:  8.8197e-03 -2.1891e-02  3e-02  2e-16  1e-15\n",
      " 4: -7.5622e-03 -1.0767e-02  3e-03  1e-16  8e-16\n",
      " 5: -9.9228e-03 -1.0171e-02  2e-04  3e-16  2e-15\n",
      " 6: -1.0156e-02 -1.0160e-02  4e-06  2e-16  6e-16\n",
      " 7: -1.0159e-02 -1.0159e-02  4e-08  2e-16  6e-16\n",
      "Optimal solution found.\n",
      "     pcost       dcost       gap    pres   dres\n",
      " 0: -1.0105e-02 -1.0946e+00  4e+01  5e+00  6e+00\n",
      " 1:  7.5884e-02 -6.4354e-01  2e+00  1e-01  2e-01\n",
      " 2:  5.9679e-02 -9.1465e-02  3e-01  2e-02  2e-02\n",
      " 3:  1.3652e-02 -1.6538e-02  3e-02  4e-16  9e-16\n",
      " 4: -2.1949e-03 -5.3577e-03  3e-03  1e-16  9e-16\n",
      " 5: -4.5359e-03 -4.7750e-03  2e-04  6e-17  7e-16\n",
      " 6: -4.7597e-03 -4.7633e-03  4e-06  1e-16  7e-16\n",
      " 7: -4.7632e-03 -4.7632e-03  4e-08  1e-16  1e-15\n",
      "Optimal solution found.\n",
      "     pcost       dcost       gap    pres   dres\n",
      " 0: -3.4681e-03 -1.0935e+00  4e+01  5e+00  6e+00\n",
      " 1:  8.0049e-02 -6.3465e-01  2e+00  1e-01  2e-01\n",
      " 2:  6.1857e-02 -8.5535e-02  3e-01  2e-02  2e-02\n",
      " 3:  1.8143e-02 -1.1436e-02  3e-02  3e-16  1e-15\n",
      " 4:  2.8321e-03 -2.5884e-04  3e-03  3e-16  6e-16\n",
      " 5:  5.3004e-04  3.0346e-04  2e-04  2e-16  6e-16\n",
      " 6:  3.1844e-04  3.1486e-04  4e-06  1e-16  8e-16\n",
      " 7:  3.1496e-04  3.1492e-04  4e-08  5e-17  5e-16\n",
      "Optimal solution found.\n",
      "     pcost       dcost       gap    pres   dres\n",
      " 0:  2.6898e-03 -1.0922e+00  4e+01  5e+00  6e+00\n",
      " 1:  8.3930e-02 -6.2618e-01  2e+00  1e-01  2e-01\n",
      " 2:  6.3951e-02 -7.9724e-02  2e-01  2e-02  2e-02\n",
      " 3:  2.2378e-02 -6.5347e-03  3e-02  2e-16  1e-15\n",
      " 4:  7.5962e-03  4.5940e-03  3e-03  2e-16  7e-16\n",
      " 5:  5.3448e-03  5.1321e-03  2e-04  3e-16  9e-16\n",
      " 6:  5.1467e-03  5.1431e-03  4e-06  3e-16  6e-16\n",
      " 7:  5.1432e-03  5.1432e-03  4e-08  2e-16  7e-16\n",
      "Optimal solution found.\n",
      "     pcost       dcost       gap    pres   dres\n",
      " 0:  8.4393e-03 -1.0909e+00  4e+01  5e+00  6e+00\n",
      " 1:  8.7571e-02 -6.1808e-01  2e+00  1e-01  2e-01\n",
      " 2:  6.5997e-02 -7.4045e-02  2e-01  2e-02  2e-02\n",
      " 3:  2.6417e-02 -1.7979e-03  3e-02  7e-17  1e-15\n",
      " 4:  1.2153e-02  9.2485e-03  3e-03  5e-17  1e-15\n",
      " 5:  9.9593e-03  9.7607e-03  2e-04  2e-16  8e-16\n",
      " 6:  9.7750e-03  9.7715e-03  4e-06  1e-16  9e-16\n",
      " 7:  9.7715e-03  9.7715e-03  4e-08  8e-17  7e-16\n",
      "Optimal solution found.\n",
      "     pcost       dcost       gap    pres   dres\n",
      " 0:  1.3837e-02 -1.0893e+00  4e+01  5e+00  6e+00\n",
      " 1:  9.1007e-02 -6.1030e-01  2e+00  1e-01  2e-01\n",
      " 2:  6.8019e-02 -6.8500e-02  2e-01  2e-02  2e-02\n",
      " 3:  3.0306e-02  2.8000e-03  3e-02  1e-16  1e-15\n",
      " 4:  1.6544e-02  1.3741e-02  3e-03  1e-16  9e-16\n",
      " 5:  1.4412e-02  1.4227e-02  2e-04  3e-18  6e-16\n",
      " 6:  1.4241e-02  1.4237e-02  4e-06  1e-16  5e-16\n",
      " 7:  1.4237e-02  1.4237e-02  4e-08  1e-16  5e-16\n",
      "Optimal solution found.\n",
      "     pcost       dcost       gap    pres   dres\n",
      " 0:  1.8930e-02 -1.0877e+00  4e+01  5e+00  6e+00\n",
      " 1:  9.4269e-02 -6.0282e-01  2e+00  1e-01  2e-01\n",
      " 2:  7.0033e-02 -6.3089e-02  2e-01  1e-02  2e-02\n",
      " 3:  3.4079e-02  7.2789e-03  3e-02  1e-16  8e-16\n",
      " 4:  2.0799e-02  1.8098e-02  3e-03  1e-16  9e-16\n",
      " 5:  1.8731e-02  1.8559e-02  2e-04  6e-17  7e-16\n",
      " 6:  1.8573e-02  1.8569e-02  4e-06  2e-16  1e-15\n",
      " 7:  1.8570e-02  1.8570e-02  4e-08  6e-17  6e-16\n",
      "Optimal solution found.\n",
      "     pcost       dcost       gap    pres   dres\n",
      " 0:  2.3755e-02 -1.0860e+00  4e+01  5e+00  6e+00\n",
      " 1:  9.7380e-02 -5.9561e-01  2e+00  1e-01  2e-01\n",
      " 2:  7.2051e-02 -5.7806e-02  2e-01  1e-02  2e-02\n",
      " 3:  3.7759e-02  1.1655e-02  3e-02  3e-16  1e-15\n",
      " 4:  2.4943e-02  2.2343e-02  3e-03  1e-16  1e-15\n",
      " 5:  2.2939e-02  2.2780e-02  2e-04  8e-17  7e-16\n",
      " 6:  2.2794e-02  2.2790e-02  4e-06  7e-17  5e-16\n",
      " 7:  2.2790e-02  2.2790e-02  4e-08  2e-16  1e-15\n",
      "Optimal solution found.\n",
      "     pcost       dcost       gap    pres   dres\n",
      " 0:  2.8347e-02 -1.0842e+00  4e+01  5e+00  6e+00\n",
      " 1:  1.0036e-01 -5.8864e-01  2e+00  1e-01  2e-01\n",
      " 2:  7.4080e-02 -5.2647e-02  2e-01  1e-02  2e-02\n",
      " 3:  4.1366e-02  1.5941e-02  3e-02  3e-16  2e-15\n",
      " 4:  2.8994e-02  2.6492e-02  3e-03  2e-16  7e-16\n",
      " 5:  2.7055e-02  2.6906e-02  1e-04  2e-16  2e-15\n",
      " 6:  2.6921e-02  2.6917e-02  4e-06  2e-16  8e-16\n",
      " 7:  2.6917e-02  2.6917e-02  4e-08  2e-18  6e-16\n",
      "Optimal solution found.\n",
      "     pcost       dcost       gap    pres   dres\n",
      " 0:  3.2731e-02 -1.0823e+00  4e+01  5e+00  6e+00\n",
      " 1:  1.0323e-01 -5.8189e-01  2e+00  1e-01  2e-01\n",
      " 2:  7.6124e-02 -4.7604e-02  2e-01  1e-02  2e-02\n",
      " 3:  4.4914e-02  2.0148e-02  2e-02  1e-16  1e-15\n",
      " 4:  3.2967e-02  3.0559e-02  2e-03  1e-16  1e-15\n",
      " 5:  3.1091e-02  3.0953e-02  1e-04  2e-16  1e-15\n",
      " 6:  3.0968e-02  3.0964e-02  4e-06  4e-17  7e-16\n",
      " 7:  3.0964e-02  3.0964e-02  5e-08  1e-16  9e-16\n",
      "Optimal solution found.\n",
      "     pcost       dcost       gap    pres   dres\n",
      " 0:  3.6932e-02 -1.0803e+00  4e+01  5e+00  6e+00\n",
      " 1:  1.0601e-01 -5.7535e-01  2e+00  1e-01  2e-01\n",
      " 2:  7.8188e-02 -4.2671e-02  2e-01  1e-02  2e-02\n",
      " 3:  4.8414e-02  2.4285e-02  2e-02  1e-16  1e-15\n",
      " 4:  3.6873e-02  3.4556e-02  2e-03  1e-16  9e-16\n",
      " 5:  3.5060e-02  3.4931e-02  1e-04  1e-16  7e-16\n",
      " 6:  3.4947e-02  3.4942e-02  5e-06  1e-16  7e-16\n",
      " 7:  3.4942e-02  3.4942e-02  7e-08  3e-16  2e-15\n",
      "Optimal solution found.\n",
      "     pcost       dcost       gap    pres   dres\n",
      " 0:  4.0970e-02 -1.0782e+00  4e+01  5e+00  6e+00\n",
      " 1:  1.0870e-01 -5.6899e-01  2e+00  1e-01  2e-01\n",
      " 2:  8.0272e-02 -3.7840e-02  2e-01  1e-02  2e-02\n",
      " 3:  5.1876e-02  2.8359e-02  2e-02  2e-16  2e-15\n",
      " 4:  4.0722e-02  3.8492e-02  2e-03  3e-16  1e-15\n",
      " 5:  3.8970e-02  3.8850e-02  1e-04  2e-16  1e-15\n",
      " 6:  3.8866e-02  3.8862e-02  5e-06  6e-17  7e-16\n",
      " 7:  3.8862e-02  3.8862e-02  1e-07  2e-16  5e-16\n",
      " 8:  3.8862e-02  3.8862e-02  1e-09  1e-16  7e-16\n",
      "Optimal solution found.\n",
      "     pcost       dcost       gap    pres   dres\n",
      " 0:  4.4862e-02 -1.0761e+00  4e+01  5e+00  6e+00\n",
      " 1:  1.1131e-01 -5.6281e-01  2e+00  1e-01  2e-01\n",
      " 2:  8.2437e-02 -3.3137e-02  2e-01  1e-02  2e-02\n",
      " 3:  5.5312e-02  3.2376e-02  2e-02  2e-16  2e-15\n",
      " 4:  4.4523e-02  4.2375e-02  2e-03  6e-17  1e-15\n",
      " 5:  4.2829e-02  4.2718e-02  1e-04  3e-17  1e-15\n",
      " 6:  4.2735e-02  4.2730e-02  5e-06  3e-17  1e-15\n",
      " 7:  4.2730e-02  4.2730e-02  2e-07  1e-16  8e-16\n",
      " 8:  4.2730e-02  4.2730e-02  2e-09  2e-16  8e-16\n",
      "Optimal solution found.\n",
      "     pcost       dcost       gap    pres   dres\n",
      " 0:  4.8622e-02 -1.0739e+00  4e+01  5e+00  6e+00\n",
      " 1:  1.1386e-01 -5.5678e-01  2e+00  1e-01  2e-01\n",
      " 2:  8.4714e-02 -2.8572e-02  2e-01  1e-02  2e-02\n",
      " 3:  5.8731e-02  3.6341e-02  2e-02  1e-16  2e-15\n",
      " 4:  4.8283e-02  4.6211e-02  2e-03  1e-16  1e-15\n",
      " 5:  4.6644e-02  4.6540e-02  1e-04  1e-16  1e-15\n",
      " 6:  4.6558e-02  4.6553e-02  5e-06  1e-16  1e-15\n",
      " 7:  4.6553e-02  4.6553e-02  3e-07  2e-16  1e-15\n",
      " 8:  4.6553e-02  4.6553e-02  3e-09  2e-16  8e-16\n",
      "Optimal solution found.\n",
      "     pcost       dcost       gap    pres   dres\n",
      " 0:  5.2265e-02 -1.0717e+00  4e+01  5e+00  6e+00\n",
      " 1:  1.1636e-01 -5.5091e-01  2e+00  1e-01  2e-01\n",
      " 2:  8.7006e-02 -2.4082e-02  2e-01  1e-02  2e-02\n",
      " 3:  6.2126e-02  4.0262e-02  2e-02  4e-16  2e-15\n",
      " 4:  5.2005e-02  5.0005e-02  2e-03  3e-16  2e-15\n",
      " 5:  5.0419e-02  5.0323e-02  1e-04  1e-16  1e-15\n",
      " 6:  5.0341e-02  5.0336e-02  5e-06  1e-16  9e-16\n",
      " 7:  5.0337e-02  5.0337e-02  4e-07  2e-16  8e-16\n",
      " 8:  5.0337e-02  5.0337e-02  1e-08  1e-16  1e-15\n",
      "Optimal solution found.\n",
      "     pcost       dcost       gap    pres   dres\n",
      " 0:  5.5803e-02 -1.0694e+00  4e+01  5e+00  6e+00\n",
      " 1:  1.1880e-01 -5.4517e-01  2e+00  1e-01  2e-01\n",
      " 2:  8.9312e-02 -1.9664e-02  2e-01  1e-02  2e-02\n",
      " 3:  6.5569e-02  4.4089e-02  2e-02  4e-16  2e-15\n",
      " 4:  5.5705e-02  5.3761e-02  2e-03  1e-16  1e-15\n",
      " 5:  5.4160e-02  5.4070e-02  9e-05  1e-16  8e-16\n",
      " 6:  5.4089e-02  5.4084e-02  5e-06  2e-16  9e-16\n",
      " 7:  5.4086e-02  5.4085e-02  6e-07  1e-16  1e-15\n",
      " 8:  5.4085e-02  5.4085e-02  6e-08  3e-16  1e-15\n",
      "Optimal solution found.\n",
      "     pcost       dcost       gap    pres   dres\n",
      " 0:  5.9244e-02 -1.0671e+00  4e+01  5e+00  6e+00\n",
      " 1:  1.2120e-01 -5.3956e-01  2e+00  1e-01  2e-01\n",
      " 2:  9.1634e-02 -1.5312e-02  2e-01  1e-02  2e-02\n",
      " 3:  6.8996e-02  4.7879e-02  2e-02  3e-16  2e-15\n",
      " 4:  5.9375e-02  5.7484e-02  2e-03  1e-16  2e-15\n",
      " 5:  5.7872e-02  5.7786e-02  9e-05  1e-16  1e-15\n",
      " 6:  5.7806e-02  5.7801e-02  5e-06  2e-16  7e-16\n",
      " 7:  5.7803e-02  5.7803e-02  6e-07  1e-16  1e-15\n",
      " 8:  5.7803e-02  5.7803e-02  7e-08  2e-16  1e-15\n",
      "Optimal solution found.\n",
      "     pcost       dcost       gap    pres   dres\n",
      " 0:  6.2599e-02 -1.0647e+00  4e+01  5e+00  6e+00\n",
      " 1:  1.2357e-01 -5.3408e-01  2e+00  1e-01  2e-01\n",
      " 2:  9.3970e-02 -1.1021e-02  2e-01  1e-02  1e-02\n",
      " 3:  7.2411e-02  5.1637e-02  2e-02  5e-16  2e-15\n",
      " 4:  6.3019e-02  6.1178e-02  2e-03  8e-17  2e-15\n",
      " 5:  6.1557e-02  6.1473e-02  8e-05  2e-16  8e-16\n",
      " 6:  6.1494e-02  6.1489e-02  5e-06  2e-16  8e-16\n",
      " 7:  6.1492e-02  6.1492e-02  4e-07  7e-17  1e-15\n",
      " 8:  6.1492e-02  6.1492e-02  1e-08  6e-17  1e-15\n",
      "Optimal solution found.\n",
      "     pcost       dcost       gap    pres   dres\n",
      " 0:  6.5876e-02 -1.0623e+00  4e+01  5e+00  6e+00\n",
      " 1:  1.2589e-01 -5.2871e-01  2e+00  1e-01  2e-01\n",
      " 2:  9.6320e-02 -6.7889e-03  2e-01  1e-02  1e-02\n",
      " 3:  7.5815e-02  5.5365e-02  2e-02  2e-16  2e-15\n",
      " 4:  6.6652e-02  6.4833e-02  2e-03  1e-16  1e-15\n",
      " 5:  6.5218e-02  6.5136e-02  8e-05  1e-16  1e-15\n",
      " 6:  6.5157e-02  6.5153e-02  4e-06  1e-16  7e-16\n",
      " 7:  6.5155e-02  6.5155e-02  3e-07  3e-16  1e-15\n",
      " 8:  6.5155e-02  6.5155e-02  3e-09  1e-16  2e-15\n",
      "Optimal solution found.\n",
      "     pcost       dcost       gap    pres   dres\n",
      " 0:  6.9081e-02 -1.0599e+00  4e+01  5e+00  7e+00\n",
      " 1:  1.2820e-01 -5.2344e-01  2e+00  1e-01  2e-01\n",
      " 2:  9.8683e-02 -2.6104e-03  2e-01  1e-02  1e-02\n",
      " 3:  7.9211e-02  5.9065e-02  2e-02  2e-16  4e-15\n",
      " 4:  7.0265e-02  6.8463e-02  2e-03  1e-16  2e-15\n",
      " 5:  6.8856e-02  6.8775e-02  8e-05  1e-16  2e-15\n",
      " 6:  6.8797e-02  6.8793e-02  4e-06  2e-16  8e-16\n",
      " 7:  6.8796e-02  6.8796e-02  1e-07  3e-16  9e-16\n",
      " 8:  6.8796e-02  6.8796e-02  1e-09  3e-17  2e-15\n",
      "Optimal solution found.\n",
      "     pcost       dcost       gap    pres   dres\n",
      " 0:  7.2221e-02 -1.0574e+00  4e+01  5e+00  7e+00\n",
      " 1:  1.3047e-01 -5.1827e-01  2e+00  1e-01  2e-01\n",
      " 2:  1.0106e-01  1.5175e-03  2e-01  1e-02  1e-02\n",
      " 3:  8.2601e-02  6.2739e-02  2e-02  6e-17  4e-15\n",
      " 4:  7.3858e-02  7.2073e-02  2e-03  1e-16  2e-15\n",
      " 5:  7.2476e-02  7.2394e-02  8e-05  1e-16  1e-15\n",
      " 6:  7.2416e-02  7.2413e-02  3e-06  1e-16  1e-15\n",
      " 7:  7.2415e-02  7.2415e-02  8e-08  2e-16  8e-16\n",
      "Optimal solution found.\n",
      "     pcost       dcost       gap    pres   dres\n",
      " 0:  7.5302e-02 -1.0549e+00  4e+01  5e+00  7e+00\n",
      " 1:  1.3272e-01 -5.1320e-01  2e+00  1e-01  2e-01\n",
      " 2:  1.0342e-01  4.4485e-03  2e-01  1e-02  1e-02\n",
      " 3:  8.6093e-02  6.6277e-02  2e-02  1e-16  3e-15\n",
      " 4:  7.7451e-02  7.5661e-02  2e-03  2e-16  1e-15\n",
      " 5:  7.6078e-02  7.5995e-02  8e-05  1e-16  2e-15\n",
      " 6:  7.6017e-02  7.6014e-02  3e-06  1e-16  1e-15\n",
      " 7:  7.6016e-02  7.6016e-02  5e-08  2e-16  1e-15\n",
      "Optimal solution found.\n",
      "     pcost       dcost       gap    pres   dres\n",
      " 0:  7.8329e-02 -1.0524e+00  4e+01  5e+00  7e+00\n",
      " 1:  1.3495e-01 -5.0821e-01  2e+00  1e-01  2e-01\n",
      " 2:  1.0576e-01  6.5317e-03  2e-01  1e-02  1e-02\n",
      " 3:  8.9647e-02  6.9716e-02  2e-02  3e-16  9e-15\n",
      " 4:  8.1040e-02  7.9229e-02  2e-03  1e-16  2e-15\n",
      " 5:  7.9665e-02  7.9578e-02  9e-05  1e-16  1e-15\n",
      " 6:  7.9600e-02  7.9597e-02  3e-06  2e-16  1e-15\n",
      " 7:  7.9599e-02  7.9599e-02  3e-08  2e-16  8e-16\n",
      "Optimal solution found.\n",
      "     pcost       dcost       gap    pres   dres\n",
      " 0:  8.1307e-02 -1.0499e+00  4e+01  5e+00  7e+00\n",
      " 1:  1.3717e-01 -5.0331e-01  2e+00  1e-01  2e-01\n",
      " 2:  1.0811e-01  8.6551e-03  2e-01  1e-02  1e-02\n",
      " 3:  9.3182e-02  7.3146e-02  2e-02  1e-16  6e-15\n",
      " 4:  8.4612e-02  8.2783e-02  2e-03  2e-16  1e-15\n",
      " 5:  8.3235e-02  8.3145e-02  9e-05  1e-16  1e-15\n",
      " 6:  8.3168e-02  8.3165e-02  2e-06  2e-16  2e-15\n",
      " 7:  8.3167e-02  8.3167e-02  2e-08  1e-16  9e-16\n",
      "Optimal solution found.\n",
      "     pcost       dcost       gap    pres   dres\n",
      " 0:  8.4239e-02 -1.0473e+00  4e+01  5e+00  7e+00\n",
      " 1:  1.3937e-01 -4.9849e-01  2e+00  1e-01  2e-01\n",
      " 2:  1.1048e-01  1.0815e-02  2e-01  1e-02  1e-02\n",
      " 3:  9.6699e-02  7.6568e-02  2e-02  3e-16  4e-15\n",
      " 4:  8.8168e-02  8.6322e-02  2e-03  1e-16  1e-15\n",
      " 5:  8.6792e-02  8.6699e-02  9e-05  2e-16  1e-15\n",
      " 6:  8.6721e-02  8.6719e-02  2e-06  1e-16  1e-15\n",
      " 7:  8.6720e-02  8.6720e-02  2e-08  2e-16  9e-16\n",
      "Optimal solution found.\n",
      "     pcost       dcost       gap    pres   dres\n",
      " 0:  8.7131e-02 -1.0447e+00  4e+01  5e+00  7e+00\n",
      " 1:  1.4155e-01 -4.9374e-01  2e+00  1e-01  2e-01\n",
      " 2:  1.1285e-01  1.3010e-02  2e-01  1e-02  2e-02\n",
      " 3:  1.0020e-01  7.9982e-02  2e-02  5e-16  4e-15\n",
      " 4:  9.1709e-02  8.9848e-02  2e-03  1e-16  1e-15\n",
      " 5:  9.0335e-02  9.0239e-02  1e-04  5e-18  1e-15\n",
      " 6:  9.0261e-02  9.0260e-02  2e-06  6e-17  8e-16\n",
      " 7:  9.0260e-02  9.0260e-02  2e-08  4e-16  1e-15\n",
      "Optimal solution found.\n",
      "     pcost       dcost       gap    pres   dres\n",
      " 0:  8.9984e-02 -1.0421e+00  4e+01  5e+00  7e+00\n",
      " 1:  1.4373e-01 -4.8906e-01  2e+00  1e-01  2e-01\n",
      " 2:  1.1523e-01  1.5235e-02  2e-01  1e-02  2e-02\n",
      " 3:  1.0368e-01  8.3385e-02  2e-02  7e-07  9e-07\n",
      " 4:  9.5237e-02  9.3362e-02  2e-03  2e-08  3e-08\n",
      " 5:  9.3867e-02  9.3768e-02  1e-04  1e-10  1e-10\n",
      " 6:  9.3790e-02  9.3788e-02  2e-06  9e-13  1e-12\n",
      " 7:  9.3789e-02  9.3789e-02  2e-08  9e-15  1e-14\n",
      "Optimal solution found.\n",
      "     pcost       dcost       gap    pres   dres\n",
      " 0:  9.2802e-02 -1.0395e+00  4e+01  5e+00  7e+00\n",
      " 1:  1.4589e-01 -4.8445e-01  2e+00  1e-01  2e-01\n",
      " 2:  1.1762e-01  1.7488e-02  2e-01  1e-02  2e-02\n",
      " 3:  1.0715e-01  8.6703e-02  2e-02  2e-05  2e-05\n",
      " 4:  9.8757e-02  9.6865e-02  2e-03  6e-07  8e-07\n",
      " 5:  9.7387e-02  9.7285e-02  1e-04  3e-09  4e-09\n",
      " 6:  9.7307e-02  9.7305e-02  1e-06  3e-11  3e-11\n",
      " 7:  9.7306e-02  9.7306e-02  1e-08  3e-13  3e-13\n",
      "Optimal solution found.\n",
      "     pcost       dcost       gap    pres   dres\n",
      " 0:  9.5589e-02 -1.0369e+00  4e+01  5e+00  7e+00\n",
      " 1:  1.4804e-01 -4.7990e-01  2e+00  1e-01  2e-01\n",
      " 2:  1.2002e-01  1.9769e-02  2e-01  1e-02  2e-02\n",
      " 3:  1.1060e-01  9.0031e-02  2e-02  3e-05  4e-05\n",
      " 4:  1.0226e-01  1.0036e-01  2e-03  1e-06  1e-06\n",
      " 5:  1.0090e-01  1.0079e-01  1e-04  5e-09  7e-09\n",
      " 6:  1.0081e-01  1.0081e-01  1e-06  5e-11  6e-11\n",
      " 7:  1.0081e-01  1.0081e-01  1e-08  5e-13  6e-13\n",
      "Optimal solution found.\n",
      "     pcost       dcost       gap    pres   dres\n",
      " 0:  9.8346e-02 -1.0343e+00  4e+01  5e+00  7e+00\n",
      " 1:  1.5019e-01 -4.7542e-01  2e+00  1e-01  2e-01\n",
      " 2:  1.2243e-01  2.2073e-02  2e-01  1e-02  2e-02\n",
      " 3:  1.1404e-01  9.3364e-02  2e-02  4e-05  6e-05\n",
      " 4:  1.0576e-01  1.0384e-01  2e-03  1e-06  2e-06\n",
      " 5:  1.0440e-01  1.0429e-01  1e-04  7e-09  1e-08\n",
      " 6:  1.0431e-01  1.0431e-01  1e-06  7e-11  9e-11\n",
      " 7:  1.0431e-01  1.0431e-01  1e-08  7e-13  9e-13\n",
      "Optimal solution found.\n"
     ]
    }
   ],
   "source": [
    "risk_aversion = [ra/2.0 for ra in range(41)]\n",
    "returns = [portfolio(alpha) for alpha in risk_aversion]"
   ]
  },
  {
   "cell_type": "code",
   "execution_count": 13,
   "metadata": {
    "collapsed": false,
    "deletable": true,
    "editable": true,
    "scrolled": true,
    "slideshow": {
     "slide_type": "subslide"
    }
   },
   "outputs": [
    {
     "data": {
      "text/html": [
       "\n",
       "\n",
       "    <div class=\"bk-root\">\n",
       "        <div class=\"bk-plotdiv\" id=\"e8701694-0547-4329-b4e0-153a3624ce59\"></div>\n",
       "    </div>\n",
       "<script type=\"text/javascript\">\n",
       "  \n",
       "  (function(global) {\n",
       "    function now() {\n",
       "      return new Date();\n",
       "    }\n",
       "  \n",
       "    var force = false;\n",
       "  \n",
       "    if (typeof (window._bokeh_onload_callbacks) === \"undefined\" || force === true) {\n",
       "      window._bokeh_onload_callbacks = [];\n",
       "      window._bokeh_is_loading = undefined;\n",
       "    }\n",
       "  \n",
       "  \n",
       "    \n",
       "    if (typeof (window._bokeh_timeout) === \"undefined\" || force === true) {\n",
       "      window._bokeh_timeout = Date.now() + 0;\n",
       "      window._bokeh_failed_load = false;\n",
       "    }\n",
       "  \n",
       "    var NB_LOAD_WARNING = {'data': {'text/html':\n",
       "       \"<div style='background-color: #fdd'>\\n\"+\n",
       "       \"<p>\\n\"+\n",
       "       \"BokehJS does not appear to have successfully loaded. If loading BokehJS from CDN, this \\n\"+\n",
       "       \"may be due to a slow or bad network connection. Possible fixes:\\n\"+\n",
       "       \"</p>\\n\"+\n",
       "       \"<ul>\\n\"+\n",
       "       \"<li>re-rerun `output_notebook()` to attempt to load from CDN again, or</li>\\n\"+\n",
       "       \"<li>use INLINE resources instead, as so:</li>\\n\"+\n",
       "       \"</ul>\\n\"+\n",
       "       \"<code>\\n\"+\n",
       "       \"from bokeh.resources import INLINE\\n\"+\n",
       "       \"output_notebook(resources=INLINE)\\n\"+\n",
       "       \"</code>\\n\"+\n",
       "       \"</div>\"}};\n",
       "  \n",
       "    function display_loaded() {\n",
       "      if (window.Bokeh !== undefined) {\n",
       "        document.getElementById(\"e8701694-0547-4329-b4e0-153a3624ce59\").textContent = \"BokehJS successfully loaded.\";\n",
       "      } else if (Date.now() < window._bokeh_timeout) {\n",
       "        setTimeout(display_loaded, 100)\n",
       "      }\n",
       "    }\n",
       "  \n",
       "    function run_callbacks() {\n",
       "      window._bokeh_onload_callbacks.forEach(function(callback) { callback() });\n",
       "      delete window._bokeh_onload_callbacks\n",
       "      console.info(\"Bokeh: all callbacks have finished\");\n",
       "    }\n",
       "  \n",
       "    function load_libs(js_urls, callback) {\n",
       "      window._bokeh_onload_callbacks.push(callback);\n",
       "      if (window._bokeh_is_loading > 0) {\n",
       "        console.log(\"Bokeh: BokehJS is being loaded, scheduling callback at\", now());\n",
       "        return null;\n",
       "      }\n",
       "      if (js_urls == null || js_urls.length === 0) {\n",
       "        run_callbacks();\n",
       "        return null;\n",
       "      }\n",
       "      console.log(\"Bokeh: BokehJS not loaded, scheduling load and callback at\", now());\n",
       "      window._bokeh_is_loading = js_urls.length;\n",
       "      for (var i = 0; i < js_urls.length; i++) {\n",
       "        var url = js_urls[i];\n",
       "        var s = document.createElement('script');\n",
       "        s.src = url;\n",
       "        s.async = false;\n",
       "        s.onreadystatechange = s.onload = function() {\n",
       "          window._bokeh_is_loading--;\n",
       "          if (window._bokeh_is_loading === 0) {\n",
       "            console.log(\"Bokeh: all BokehJS libraries loaded\");\n",
       "            run_callbacks()\n",
       "          }\n",
       "        };\n",
       "        s.onerror = function() {\n",
       "          console.warn(\"failed to load library \" + url);\n",
       "        };\n",
       "        console.log(\"Bokeh: injecting script tag for BokehJS library: \", url);\n",
       "        document.getElementsByTagName(\"head\")[0].appendChild(s);\n",
       "      }\n",
       "    };var element = document.getElementById(\"e8701694-0547-4329-b4e0-153a3624ce59\");\n",
       "    if (element == null) {\n",
       "      console.log(\"Bokeh: ERROR: autoload.js configured with elementid 'e8701694-0547-4329-b4e0-153a3624ce59' but no matching script tag was found. \")\n",
       "      return false;\n",
       "    }\n",
       "  \n",
       "    var js_urls = [];\n",
       "  \n",
       "    var inline_js = [\n",
       "      function(Bokeh) {\n",
       "        (function() {\n",
       "          var fn = function() {\n",
       "            var docs_json = {\"bde3add3-8b25-4764-b3ea-aa9e4016b137\":{\"roots\":{\"references\":[{\"attributes\":{\"bottom_units\":\"screen\",\"fill_alpha\":{\"value\":0.5},\"fill_color\":{\"value\":\"lightgrey\"},\"left_units\":\"screen\",\"level\":\"overlay\",\"line_alpha\":{\"value\":1.0},\"line_color\":{\"value\":\"black\"},\"line_dash\":[4,4],\"line_width\":{\"value\":2},\"plot\":null,\"render_mode\":\"css\",\"right_units\":\"screen\",\"top_units\":\"screen\"},\"id\":\"39d4952d-448f-4f68-8094-0dbbef82a40a\",\"type\":\"BoxAnnotation\"},{\"attributes\":{\"location\":\"top_left\",\"plot\":{\"id\":\"fd9c596f-b294-41b3-9e85-768029192f3e\",\"subtype\":\"Chart\",\"type\":\"Plot\"}},\"id\":\"092b8792-8190-489f-b4bf-b8157a684b7d\",\"type\":\"Legend\"},{\"attributes\":{},\"id\":\"5a1c620a-d332-4803-ba05-441c1d802429\",\"type\":\"BasicTickFormatter\"},{\"attributes\":{\"axis_label\":\"risk aversion\",\"formatter\":{\"id\":\"5a1c620a-d332-4803-ba05-441c1d802429\",\"type\":\"BasicTickFormatter\"},\"plot\":{\"id\":\"fd9c596f-b294-41b3-9e85-768029192f3e\",\"subtype\":\"Chart\",\"type\":\"Plot\"},\"ticker\":{\"id\":\"88ed1e58-3fa9-486c-9282-d8abb492dae7\",\"type\":\"BasicTicker\"}},\"id\":\"0220085b-8d8c-4256-9f45-d36c23ffd787\",\"type\":\"LinearAxis\"},{\"attributes\":{\"callback\":null,\"end\":0.3121062263562203,\"start\":0.0102477990928382},\"id\":\"5e513dcc-e097-45ad-8275-e613545146e4\",\"type\":\"Range1d\"},{\"attributes\":{},\"id\":\"8643a612-fca4-4eda-a233-4a10755e2b98\",\"type\":\"ToolEvents\"},{\"attributes\":{\"below\":[{\"id\":\"0220085b-8d8c-4256-9f45-d36c23ffd787\",\"type\":\"LinearAxis\"}],\"css_classes\":null,\"height\":400,\"left\":[{\"id\":\"78e231aa-f5d5-4893-ba88-7577d9bbdb44\",\"type\":\"LinearAxis\"}],\"renderers\":[{\"id\":\"39d4952d-448f-4f68-8094-0dbbef82a40a\",\"type\":\"BoxAnnotation\"},{\"id\":\"4ed214d2-dfb4-4857-94e3-8b6caa47ca73\",\"type\":\"GlyphRenderer\"},{\"id\":\"092b8792-8190-489f-b4bf-b8157a684b7d\",\"type\":\"Legend\"},{\"id\":\"0220085b-8d8c-4256-9f45-d36c23ffd787\",\"type\":\"LinearAxis\"},{\"id\":\"78e231aa-f5d5-4893-ba88-7577d9bbdb44\",\"type\":\"LinearAxis\"},{\"id\":\"12143ab0-c119-4a04-af5c-782d1c9637b6\",\"type\":\"Grid\"},{\"id\":\"792a2444-da54-47c5-a0a8-16c41c4c8863\",\"type\":\"Grid\"}],\"title\":{\"id\":\"5750abd4-3e57-4e59-b217-be48661d44c5\",\"type\":\"Title\"},\"tool_events\":{\"id\":\"8643a612-fca4-4eda-a233-4a10755e2b98\",\"type\":\"ToolEvents\"},\"toolbar\":{\"id\":\"b90be607-1b57-4471-b9db-eb2bb7ceb055\",\"type\":\"Toolbar\"},\"width\":750,\"x_mapper_type\":\"auto\",\"x_range\":{\"id\":\"a4a82683-1879-4334-bf84-3bd9607fb3d2\",\"type\":\"Range1d\"},\"y_mapper_type\":\"auto\",\"y_range\":{\"id\":\"5e513dcc-e097-45ad-8275-e613545146e4\",\"type\":\"Range1d\"}},\"id\":\"fd9c596f-b294-41b3-9e85-768029192f3e\",\"subtype\":\"Chart\",\"type\":\"Plot\"},{\"attributes\":{\"plot\":null,\"text\":null},\"id\":\"5750abd4-3e57-4e59-b217-be48661d44c5\",\"type\":\"Title\"},{\"attributes\":{\"active_drag\":\"auto\",\"active_scroll\":\"auto\",\"active_tap\":\"auto\",\"tools\":[{\"id\":\"4c0983ef-8eb3-41dc-9e4b-ae5b342a36db\",\"type\":\"PanTool\"},{\"id\":\"6155edca-9574-495e-a03f-b5778e1a162c\",\"type\":\"WheelZoomTool\"},{\"id\":\"6e939b00-efdb-40bc-a6b3-7940a8759aa3\",\"type\":\"BoxZoomTool\"},{\"id\":\"3d862122-7407-4f32-8cb5-3b67a29ce404\",\"type\":\"SaveTool\"},{\"id\":\"dea46f7e-bbcf-4360-9468-b6e19ee03211\",\"type\":\"ResetTool\"},{\"id\":\"59b34775-9ed4-4ecb-ac06-9ede726765df\",\"type\":\"HelpTool\"}]},\"id\":\"b90be607-1b57-4471-b9db-eb2bb7ceb055\",\"type\":\"Toolbar\"},{\"attributes\":{\"axis_label\":\"expected return\",\"formatter\":{\"id\":\"355e58aa-7380-4c47-a63f-972074b85784\",\"type\":\"BasicTickFormatter\"},\"plot\":{\"id\":\"fd9c596f-b294-41b3-9e85-768029192f3e\",\"subtype\":\"Chart\",\"type\":\"Plot\"},\"ticker\":{\"id\":\"e5f56d4d-4692-4774-a119-94a31d5927d7\",\"type\":\"BasicTicker\"}},\"id\":\"78e231aa-f5d5-4893-ba88-7577d9bbdb44\",\"type\":\"LinearAxis\"},{\"attributes\":{\"plot\":{\"id\":\"fd9c596f-b294-41b3-9e85-768029192f3e\",\"subtype\":\"Chart\",\"type\":\"Plot\"}},\"id\":\"4c0983ef-8eb3-41dc-9e4b-ae5b342a36db\",\"type\":\"PanTool\"},{\"attributes\":{},\"id\":\"88ed1e58-3fa9-486c-9282-d8abb492dae7\",\"type\":\"BasicTicker\"},{\"attributes\":{\"plot\":{\"id\":\"fd9c596f-b294-41b3-9e85-768029192f3e\",\"subtype\":\"Chart\",\"type\":\"Plot\"}},\"id\":\"3d862122-7407-4f32-8cb5-3b67a29ce404\",\"type\":\"SaveTool\"},{\"attributes\":{\"dimension\":1,\"plot\":{\"id\":\"fd9c596f-b294-41b3-9e85-768029192f3e\",\"subtype\":\"Chart\",\"type\":\"Plot\"},\"ticker\":{\"id\":\"e5f56d4d-4692-4774-a119-94a31d5927d7\",\"type\":\"BasicTicker\"}},\"id\":\"792a2444-da54-47c5-a0a8-16c41c4c8863\",\"type\":\"Grid\"},{\"attributes\":{},\"id\":\"e5f56d4d-4692-4774-a119-94a31d5927d7\",\"type\":\"BasicTicker\"},{\"attributes\":{\"data_source\":{\"id\":\"0425043e-58d6-4909-b51f-ea6eebd2113c\",\"type\":\"ColumnDataSource\"},\"glyph\":{\"id\":\"81348908-f5ea-4000-8616-a19dabeb57a8\",\"type\":\"Line\"},\"hover_glyph\":null,\"nonselection_glyph\":null,\"selection_glyph\":null},\"id\":\"4ed214d2-dfb4-4857-94e3-8b6caa47ca73\",\"type\":\"GlyphRenderer\"},{\"attributes\":{},\"id\":\"355e58aa-7380-4c47-a63f-972074b85784\",\"type\":\"BasicTickFormatter\"},{\"attributes\":{\"callback\":null,\"column_names\":[\"x_values\",\"y_values\"],\"data\":{\"chart_index\":[null,null,null,null,null,null,null,null,null,null,null,null,null,null,null,null,null,null,null,null,null,null,null,null,null,null,null,null,null,null,null,null,null,null,null,null,null,null,null,null,null],\"x_values\":{\"__ndarray__\":\"AAAAAAAAAAAAAAAAAADgPwAAAAAAAPA/AAAAAAAA+D8AAAAAAAAAQAAAAAAAAARAAAAAAAAACEAAAAAAAAAMQAAAAAAAABBAAAAAAAAAEkAAAAAAAAAUQAAAAAAAABZAAAAAAAAAGEAAAAAAAAAaQAAAAAAAABxAAAAAAAAAHkAAAAAAAAAgQAAAAAAAACFAAAAAAAAAIkAAAAAAAAAjQAAAAAAAACRAAAAAAAAAJUAAAAAAAAAmQAAAAAAAACdAAAAAAAAAKEAAAAAAAAApQAAAAAAAACpAAAAAAAAAK0AAAAAAAAAsQAAAAAAAAC1AAAAAAAAALkAAAAAAAAAvQAAAAAAAADBAAAAAAACAMEAAAAAAAAAxQAAAAAAAgDFAAAAAAAAAMkAAAAAAAIAyQAAAAAAAADNAAAAAAACAM0AAAAAAAAA0QA==\",\"dtype\":\"float64\",\"shape\":[41]},\"y_values\":{\"__ndarray__\":\"4rDpOWld0j/Lcwq9FUDQP4W02Q5FF9A/jgomY30Zyj84+MwYEUfEP5weWGLQyMA/HCpNPUrpvD/4piTVnpW5P3uQZ0/eFrc/vQZYpw8mtT/Qsn+AnZizPzsoJ6FuU7I/6xUZOHJEsT99tiB5Jl+wP7pZIsQ4Na8/QCy7nI3grT8YSJDCd7asP0u0omZzr6s/7JK/MqjFqj8tpPW5ePSpP6SeZZEzOKk/5fnMotqNqD/TWA6QCfOnP2qj5RGnZac/wKf/Twzkpj/Z4O87zGymP2S4t6CB/qU/9eC8/lCXpT/7z4+JNzalP6qCNsty26Q/YsLUyLSGpD8Unu/xXzekP4SP8OgU7aM/jw7cQEanoz8zj1dMkWWjP1KfhfmcJ6M/HGzJiBntoj9ZWKekv7WiP0GgLXBPgaI/z0Ack49Poj/awMVqTCCiPw==\",\"dtype\":\"float64\",\"shape\":[41]}}},\"id\":\"0425043e-58d6-4909-b51f-ea6eebd2113c\",\"type\":\"ColumnDataSource\"},{\"attributes\":{\"plot\":{\"id\":\"fd9c596f-b294-41b3-9e85-768029192f3e\",\"subtype\":\"Chart\",\"type\":\"Plot\"}},\"id\":\"dea46f7e-bbcf-4360-9468-b6e19ee03211\",\"type\":\"ResetTool\"},{\"attributes\":{\"plot\":{\"id\":\"fd9c596f-b294-41b3-9e85-768029192f3e\",\"subtype\":\"Chart\",\"type\":\"Plot\"}},\"id\":\"59b34775-9ed4-4ecb-ac06-9ede726765df\",\"type\":\"HelpTool\"},{\"attributes\":{\"plot\":{\"id\":\"fd9c596f-b294-41b3-9e85-768029192f3e\",\"subtype\":\"Chart\",\"type\":\"Plot\"},\"ticker\":{\"id\":\"88ed1e58-3fa9-486c-9282-d8abb492dae7\",\"type\":\"BasicTicker\"}},\"id\":\"12143ab0-c119-4a04-af5c-782d1c9637b6\",\"type\":\"Grid\"},{\"attributes\":{\"callback\":null,\"end\":22.0,\"start\":-2.0},\"id\":\"a4a82683-1879-4334-bf84-3bd9607fb3d2\",\"type\":\"Range1d\"},{\"attributes\":{\"plot\":{\"id\":\"fd9c596f-b294-41b3-9e85-768029192f3e\",\"subtype\":\"Chart\",\"type\":\"Plot\"}},\"id\":\"6155edca-9574-495e-a03f-b5778e1a162c\",\"type\":\"WheelZoomTool\"},{\"attributes\":{\"overlay\":{\"id\":\"39d4952d-448f-4f68-8094-0dbbef82a40a\",\"type\":\"BoxAnnotation\"},\"plot\":{\"id\":\"fd9c596f-b294-41b3-9e85-768029192f3e\",\"subtype\":\"Chart\",\"type\":\"Plot\"}},\"id\":\"6e939b00-efdb-40bc-a6b3-7940a8759aa3\",\"type\":\"BoxZoomTool\"},{\"attributes\":{\"line_color\":{\"value\":\"#f22c40\"},\"line_width\":{\"value\":2},\"x\":{\"field\":\"x_values\"},\"y\":{\"field\":\"y_values\"}},\"id\":\"81348908-f5ea-4000-8616-a19dabeb57a8\",\"type\":\"Line\"}],\"root_ids\":[\"fd9c596f-b294-41b3-9e85-768029192f3e\"]},\"title\":\"Bokeh Application\",\"version\":\"0.12.4\"}};\n",
       "            var render_items = [{\"docid\":\"bde3add3-8b25-4764-b3ea-aa9e4016b137\",\"elementid\":\"e8701694-0547-4329-b4e0-153a3624ce59\",\"modelid\":\"fd9c596f-b294-41b3-9e85-768029192f3e\"}];\n",
       "            \n",
       "            Bokeh.embed.embed_items(docs_json, render_items);\n",
       "          };\n",
       "          if (document.readyState != \"loading\") fn();\n",
       "          else document.addEventListener(\"DOMContentLoaded\", fn);\n",
       "        })();\n",
       "      },\n",
       "      function(Bokeh) {\n",
       "      }\n",
       "    ];\n",
       "  \n",
       "    function run_inline_js() {\n",
       "      \n",
       "      if ((window.Bokeh !== undefined) || (force === true)) {\n",
       "        for (var i = 0; i < inline_js.length; i++) {\n",
       "          inline_js[i](window.Bokeh);\n",
       "        }if (force === true) {\n",
       "          display_loaded();\n",
       "        }} else if (Date.now() < window._bokeh_timeout) {\n",
       "        setTimeout(run_inline_js, 100);\n",
       "      } else if (!window._bokeh_failed_load) {\n",
       "        console.log(\"Bokeh: BokehJS failed to load within specified timeout.\");\n",
       "        window._bokeh_failed_load = true;\n",
       "      } else if (force !== true) {\n",
       "        var cell = $(document.getElementById(\"e8701694-0547-4329-b4e0-153a3624ce59\")).parents('.cell').data().cell;\n",
       "        cell.output_area.append_execute_result(NB_LOAD_WARNING)\n",
       "      }\n",
       "  \n",
       "    }\n",
       "  \n",
       "    if (window._bokeh_is_loading === 0) {\n",
       "      console.log(\"Bokeh: BokehJS loaded, going straight to plotting\");\n",
       "      run_inline_js();\n",
       "    } else {\n",
       "      load_libs(js_urls, function() {\n",
       "        console.log(\"Bokeh: BokehJS plotting callback run at\", now());\n",
       "        run_inline_js();\n",
       "      });\n",
       "    }\n",
       "  }(this));\n",
       "</script>"
      ]
     },
     "metadata": {},
     "output_type": "display_data"
    }
   ],
   "source": [
    "show(Line(\n",
    "    {'risk aversion': risk_aversion, 'expected return': returns}, \n",
    "    x='risk aversion', \n",
    "    y='expected return', \n",
    "    width=750, \n",
    "    height=400\n",
    "))"
   ]
  },
  {
   "cell_type": "markdown",
   "metadata": {
    "deletable": true,
    "editable": true,
    "slideshow": {
     "slide_type": "slide"
    }
   },
   "source": [
    "## Model 2: Support Vector Machines\n",
    "\n",
    "We want to draw a line that separates two sets with as little misclassification as possible."
   ]
  },
  {
   "cell_type": "markdown",
   "metadata": {
    "deletable": true,
    "editable": true,
    "slideshow": {
     "slide_type": "subslide"
    }
   },
   "source": [
    "If $f(x) \\le 5$, the point is of type $-1$, otherwise it is type $+1$.\n",
    "\n",
    "$$f(x) = (x_1 + \\epsilon_1) - (x_2+ \\epsilon_2)$$  \n",
    "  \n",
    "$$\\epsilon_i \\sim N\\left(0, 1.25^2\\right)\\ \\forall\\ i \\in {1, 2}$$\n"
   ]
  },
  {
   "cell_type": "code",
   "execution_count": 14,
   "metadata": {
    "collapsed": false,
    "deletable": true,
    "editable": true,
    "slideshow": {
     "slide_type": "subslide"
    }
   },
   "outputs": [],
   "source": [
    "x1 = [random.uniform(0, 10) for _ in range(150)]\n",
    "x2 = [random.uniform(0, 10) for _ in range(150)]\n",
    "\n",
    "y = []\n",
    "for xi_1, xi_2 in zip(x1, x2):\n",
    "    eps_1 = random.normalvariate(0, 1.25)\n",
    "    eps_2 = random.normalvariate(0, 1.25)\n",
    "    \n",
    "    if (xi_1 + eps_1) - (xi_2 + eps_2) <= 5:\n",
    "        y.append(-1)\n",
    "    else:\n",
    "        y.append(+1)\n",
    "        \n",
    "X = np.array(list(zip(x1, x2)))\n",
    "y = np.array(y)"
   ]
  },
  {
   "cell_type": "code",
   "execution_count": 15,
   "metadata": {
    "collapsed": false,
    "deletable": true,
    "editable": true,
    "scrolled": false,
    "slideshow": {
     "slide_type": "subslide"
    }
   },
   "outputs": [
    {
     "data": {
      "text/html": [
       "\n",
       "\n",
       "    <div class=\"bk-root\">\n",
       "        <div class=\"bk-plotdiv\" id=\"19da7a85-4208-4718-8a1f-e665b6ed888c\"></div>\n",
       "    </div>\n",
       "<script type=\"text/javascript\">\n",
       "  \n",
       "  (function(global) {\n",
       "    function now() {\n",
       "      return new Date();\n",
       "    }\n",
       "  \n",
       "    var force = false;\n",
       "  \n",
       "    if (typeof (window._bokeh_onload_callbacks) === \"undefined\" || force === true) {\n",
       "      window._bokeh_onload_callbacks = [];\n",
       "      window._bokeh_is_loading = undefined;\n",
       "    }\n",
       "  \n",
       "  \n",
       "    \n",
       "    if (typeof (window._bokeh_timeout) === \"undefined\" || force === true) {\n",
       "      window._bokeh_timeout = Date.now() + 0;\n",
       "      window._bokeh_failed_load = false;\n",
       "    }\n",
       "  \n",
       "    var NB_LOAD_WARNING = {'data': {'text/html':\n",
       "       \"<div style='background-color: #fdd'>\\n\"+\n",
       "       \"<p>\\n\"+\n",
       "       \"BokehJS does not appear to have successfully loaded. If loading BokehJS from CDN, this \\n\"+\n",
       "       \"may be due to a slow or bad network connection. Possible fixes:\\n\"+\n",
       "       \"</p>\\n\"+\n",
       "       \"<ul>\\n\"+\n",
       "       \"<li>re-rerun `output_notebook()` to attempt to load from CDN again, or</li>\\n\"+\n",
       "       \"<li>use INLINE resources instead, as so:</li>\\n\"+\n",
       "       \"</ul>\\n\"+\n",
       "       \"<code>\\n\"+\n",
       "       \"from bokeh.resources import INLINE\\n\"+\n",
       "       \"output_notebook(resources=INLINE)\\n\"+\n",
       "       \"</code>\\n\"+\n",
       "       \"</div>\"}};\n",
       "  \n",
       "    function display_loaded() {\n",
       "      if (window.Bokeh !== undefined) {\n",
       "        document.getElementById(\"19da7a85-4208-4718-8a1f-e665b6ed888c\").textContent = \"BokehJS successfully loaded.\";\n",
       "      } else if (Date.now() < window._bokeh_timeout) {\n",
       "        setTimeout(display_loaded, 100)\n",
       "      }\n",
       "    }\n",
       "  \n",
       "    function run_callbacks() {\n",
       "      window._bokeh_onload_callbacks.forEach(function(callback) { callback() });\n",
       "      delete window._bokeh_onload_callbacks\n",
       "      console.info(\"Bokeh: all callbacks have finished\");\n",
       "    }\n",
       "  \n",
       "    function load_libs(js_urls, callback) {\n",
       "      window._bokeh_onload_callbacks.push(callback);\n",
       "      if (window._bokeh_is_loading > 0) {\n",
       "        console.log(\"Bokeh: BokehJS is being loaded, scheduling callback at\", now());\n",
       "        return null;\n",
       "      }\n",
       "      if (js_urls == null || js_urls.length === 0) {\n",
       "        run_callbacks();\n",
       "        return null;\n",
       "      }\n",
       "      console.log(\"Bokeh: BokehJS not loaded, scheduling load and callback at\", now());\n",
       "      window._bokeh_is_loading = js_urls.length;\n",
       "      for (var i = 0; i < js_urls.length; i++) {\n",
       "        var url = js_urls[i];\n",
       "        var s = document.createElement('script');\n",
       "        s.src = url;\n",
       "        s.async = false;\n",
       "        s.onreadystatechange = s.onload = function() {\n",
       "          window._bokeh_is_loading--;\n",
       "          if (window._bokeh_is_loading === 0) {\n",
       "            console.log(\"Bokeh: all BokehJS libraries loaded\");\n",
       "            run_callbacks()\n",
       "          }\n",
       "        };\n",
       "        s.onerror = function() {\n",
       "          console.warn(\"failed to load library \" + url);\n",
       "        };\n",
       "        console.log(\"Bokeh: injecting script tag for BokehJS library: \", url);\n",
       "        document.getElementsByTagName(\"head\")[0].appendChild(s);\n",
       "      }\n",
       "    };var element = document.getElementById(\"19da7a85-4208-4718-8a1f-e665b6ed888c\");\n",
       "    if (element == null) {\n",
       "      console.log(\"Bokeh: ERROR: autoload.js configured with elementid '19da7a85-4208-4718-8a1f-e665b6ed888c' but no matching script tag was found. \")\n",
       "      return false;\n",
       "    }\n",
       "  \n",
       "    var js_urls = [];\n",
       "  \n",
       "    var inline_js = [\n",
       "      function(Bokeh) {\n",
       "        (function() {\n",
       "          var fn = function() {\n",
       "            var docs_json = {\"9ad72fd5-e02e-4712-afd2-199aac1a47a6\":{\"roots\":{\"references\":[{\"attributes\":{\"plot\":null,\"text\":null},\"id\":\"a508282d-dbf8-45a7-836a-1a49540e8054\",\"type\":\"Title\"},{\"attributes\":{},\"id\":\"89e01d49-4f8c-4ecf-a940-9c879692d8ae\",\"type\":\"BasicTickFormatter\"},{\"attributes\":{},\"id\":\"137d5f16-5943-4f21-88dc-995f837bdc9d\",\"type\":\"BasicTicker\"},{\"attributes\":{\"callback\":null,\"end\":10.98985219725301,\"start\":-0.921907827012665},\"id\":\"aa355137-eeca-441d-bfcd-1e153167be5a\",\"type\":\"Range1d\"},{\"attributes\":{\"plot\":{\"id\":\"d8a54464-58e0-4b61-b23e-fbe4ef5e8e9c\",\"subtype\":\"Chart\",\"type\":\"Plot\"}},\"id\":\"a34b04ef-d2b5-49ae-a13f-4b66cea6420f\",\"type\":\"PanTool\"},{\"attributes\":{\"data_source\":{\"id\":\"622ecf96-8db1-4a30-9603-3d993d23ddc7\",\"type\":\"ColumnDataSource\"},\"glyph\":{\"id\":\"1abb4ad3-f191-4841-8269-6ff06ff34c04\",\"type\":\"Square\"},\"hover_glyph\":null,\"nonselection_glyph\":null,\"selection_glyph\":null},\"id\":\"afad6918-70de-4890-91b8-6c1a7152d91e\",\"type\":\"GlyphRenderer\"},{\"attributes\":{\"callback\":null,\"column_names\":[\"x_values\",\"y_values\"],\"data\":{\"chart_index\":[{\"y\":1},{\"y\":1},{\"y\":1},{\"y\":1},{\"y\":1},{\"y\":1},{\"y\":1},{\"y\":1},{\"y\":1},{\"y\":1},{\"y\":1},{\"y\":1},{\"y\":1},{\"y\":1},{\"y\":1},{\"y\":1},{\"y\":1},{\"y\":1},{\"y\":1},{\"y\":1},{\"y\":1},{\"y\":1},{\"y\":1},{\"y\":1},{\"y\":1},{\"y\":1},{\"y\":1},{\"y\":1},{\"y\":1},{\"y\":1},{\"y\":1}],\"x_values\":{\"__ndarray__\":\"ajdrgseZFUCqIzLX83MLQGnUsZ43qhFA78Qy0NORIUDfGfsE2YEhQGjO2brMSSFAcQLg83DtIUC6xJy4r9odQKsw4Qml0yFAu7iMIMD7I0BdVVOIRtoZQMMP2VgWiiJAtSUZuZH+I0BBaE+tIrwbQMew5kcR2yBAGGMKDOfrIEDOXzNxRY0gQKyycr+lhCFAnrpxgR0WIECkyE0aDnYZQHKS/XuqTyJAcxoSOBgwI0BSCdLPG2YWQLwon5pTcRZAAG/cfhxMIkDmGN2v8vscQL7IMG6Hah9AOtd0v3ixFkCsPQ3p+tIVQAGYKK/IdR1APM8P0dRbGEA=\",\"dtype\":\"float64\",\"shape\":[31]},\"y\":[1,1,1,1,1,1,1,1,1,1,1,1,1,1,1,1,1,1,1,1,1,1,1,1,1,1,1,1,1,1,1],\"y_values\":{\"__ndarray__\":\"Yz740Pbh9j8mrjs7ivvlP6rREl1H9uw/ec9P/FrL8j9avltS/dDvPyDsSty8n+A/aBI9X1Cr7z94IYQvD9YNQKAd2b/um7k/7GJEmgCU1T/2dhTaHSYFQFuPpkJCKxhAJGVGPbk+DEDgL2+fwxHmPyJN3x9mURFAnLLVwomCAUAkM1keFSIXQAyCw7guqxlAPyU/ir6s+z94XVipr/PrP04/akxMQxRAekoK0sDnF0Ar1aLxcooDQMyV5QjRndg/CI2t9PyGB0DAqAJ7CXu8P2Nk5OZ96v0/YTqD4W6JAUDI3WpXbFrMP5ZPrFafwwtAyEtGig5LAEA=\",\"dtype\":\"float64\",\"shape\":[31]}}},\"id\":\"622ecf96-8db1-4a30-9603-3d993d23ddc7\",\"type\":\"ColumnDataSource\"},{\"attributes\":{},\"id\":\"e87f9bc8-e756-4157-a23e-57950574218c\",\"type\":\"ToolEvents\"},{\"attributes\":{\"plot\":{\"id\":\"d8a54464-58e0-4b61-b23e-fbe4ef5e8e9c\",\"subtype\":\"Chart\",\"type\":\"Plot\"},\"ticker\":{\"id\":\"b0b04999-b160-49d7-9060-54a42edaf734\",\"type\":\"BasicTicker\"}},\"id\":\"7c00ba31-6b45-48d2-bd98-54944679319e\",\"type\":\"Grid\"},{\"attributes\":{\"label\":{\"value\":\"-1\"},\"renderers\":[{\"id\":\"1be9b814-3a30-4b43-b709-17c628418410\",\"type\":\"GlyphRenderer\"}]},\"id\":\"b63b4bb0-85c7-457d-a615-535c88486f91\",\"type\":\"LegendItem\"},{\"attributes\":{\"active_drag\":\"auto\",\"active_scroll\":\"auto\",\"active_tap\":\"auto\",\"tools\":[{\"id\":\"a34b04ef-d2b5-49ae-a13f-4b66cea6420f\",\"type\":\"PanTool\"},{\"id\":\"5acf3e2b-9ab4-4ed4-aafd-b66544d9711e\",\"type\":\"WheelZoomTool\"},{\"id\":\"b27c1a29-2af3-46ca-a663-77a4979d3b62\",\"type\":\"BoxZoomTool\"},{\"id\":\"e11c4cd8-012b-4f05-afe3-3fa954c87e94\",\"type\":\"SaveTool\"},{\"id\":\"06f5722f-387f-442f-a243-72ef41644916\",\"type\":\"ResetTool\"},{\"id\":\"e3192708-22af-4b98-972e-eb40b4126a16\",\"type\":\"HelpTool\"}]},\"id\":\"1f4975b4-5936-46f3-b141-888b04ba305b\",\"type\":\"Toolbar\"},{\"attributes\":{\"axis_label\":\"x2\",\"formatter\":{\"id\":\"89e01d49-4f8c-4ecf-a940-9c879692d8ae\",\"type\":\"BasicTickFormatter\"},\"plot\":{\"id\":\"d8a54464-58e0-4b61-b23e-fbe4ef5e8e9c\",\"subtype\":\"Chart\",\"type\":\"Plot\"},\"ticker\":{\"id\":\"137d5f16-5943-4f21-88dc-995f837bdc9d\",\"type\":\"BasicTicker\"}},\"id\":\"af8fe860-3b6e-4ff5-b3c1-e88614a95b89\",\"type\":\"LinearAxis\"},{\"attributes\":{\"label\":{\"value\":\"1\"},\"renderers\":[{\"id\":\"afad6918-70de-4890-91b8-6c1a7152d91e\",\"type\":\"GlyphRenderer\"}]},\"id\":\"567f9244-0679-40d0-878c-7bcb157fe408\",\"type\":\"LegendItem\"},{\"attributes\":{\"plot\":{\"id\":\"d8a54464-58e0-4b61-b23e-fbe4ef5e8e9c\",\"subtype\":\"Chart\",\"type\":\"Plot\"}},\"id\":\"5acf3e2b-9ab4-4ed4-aafd-b66544d9711e\",\"type\":\"WheelZoomTool\"},{\"attributes\":{},\"id\":\"e661c30b-f3e8-4938-b2c3-ad9c6c96df49\",\"type\":\"BasicTickFormatter\"},{\"attributes\":{\"callback\":null,\"end\":10.989786803550235,\"start\":-0.8899417899100986},\"id\":\"88b73ded-b7c5-4db7-ab07-3084061445b5\",\"type\":\"Range1d\"},{\"attributes\":{\"axis_label\":\"x1\",\"formatter\":{\"id\":\"e661c30b-f3e8-4938-b2c3-ad9c6c96df49\",\"type\":\"BasicTickFormatter\"},\"plot\":{\"id\":\"d8a54464-58e0-4b61-b23e-fbe4ef5e8e9c\",\"subtype\":\"Chart\",\"type\":\"Plot\"},\"ticker\":{\"id\":\"b0b04999-b160-49d7-9060-54a42edaf734\",\"type\":\"BasicTicker\"}},\"id\":\"966115ce-effd-48a8-8182-13924eef1477\",\"type\":\"LinearAxis\"},{\"attributes\":{\"fill_alpha\":{\"value\":0.7},\"fill_color\":{\"value\":\"orange\"},\"line_color\":{\"value\":\"orange\"},\"size\":{\"units\":\"screen\",\"value\":8},\"x\":{\"field\":\"x_values\"},\"y\":{\"field\":\"y_values\"}},\"id\":\"1abb4ad3-f191-4841-8269-6ff06ff34c04\",\"type\":\"Square\"},{\"attributes\":{\"data_source\":{\"id\":\"985754b5-ffd9-499c-873e-a6e68f74e2ad\",\"type\":\"ColumnDataSource\"},\"glyph\":{\"id\":\"4c225a0d-b0db-409f-99a6-2cd896f4b29f\",\"type\":\"Circle\"},\"hover_glyph\":null,\"nonselection_glyph\":null,\"selection_glyph\":null},\"id\":\"1be9b814-3a30-4b43-b709-17c628418410\",\"type\":\"GlyphRenderer\"},{\"attributes\":{\"items\":[{\"id\":\"567f9244-0679-40d0-878c-7bcb157fe408\",\"type\":\"LegendItem\"},{\"id\":\"b63b4bb0-85c7-457d-a615-535c88486f91\",\"type\":\"LegendItem\"}],\"location\":\"top_left\",\"plot\":{\"id\":\"d8a54464-58e0-4b61-b23e-fbe4ef5e8e9c\",\"subtype\":\"Chart\",\"type\":\"Plot\"}},\"id\":\"207bbe5d-20f4-4b73-b7b2-a3f5d868aee8\",\"type\":\"Legend\"},{\"attributes\":{\"callback\":null,\"column_names\":[\"x_values\",\"y_values\"],\"data\":{\"chart_index\":[{\"y\":-1},{\"y\":-1},{\"y\":-1},{\"y\":-1},{\"y\":-1},{\"y\":-1},{\"y\":-1},{\"y\":-1},{\"y\":-1},{\"y\":-1},{\"y\":-1},{\"y\":-1},{\"y\":-1},{\"y\":-1},{\"y\":-1},{\"y\":-1},{\"y\":-1},{\"y\":-1},{\"y\":-1},{\"y\":-1},{\"y\":-1},{\"y\":-1},{\"y\":-1},{\"y\":-1},{\"y\":-1},{\"y\":-1},{\"y\":-1},{\"y\":-1},{\"y\":-1},{\"y\":-1},{\"y\":-1},{\"y\":-1},{\"y\":-1},{\"y\":-1},{\"y\":-1},{\"y\":-1},{\"y\":-1},{\"y\":-1},{\"y\":-1},{\"y\":-1},{\"y\":-1},{\"y\":-1},{\"y\":-1},{\"y\":-1},{\"y\":-1},{\"y\":-1},{\"y\":-1},{\"y\":-1},{\"y\":-1},{\"y\":-1},{\"y\":-1},{\"y\":-1},{\"y\":-1},{\"y\":-1},{\"y\":-1},{\"y\":-1},{\"y\":-1},{\"y\":-1},{\"y\":-1},{\"y\":-1},{\"y\":-1},{\"y\":-1},{\"y\":-1},{\"y\":-1},{\"y\":-1},{\"y\":-1},{\"y\":-1},{\"y\":-1},{\"y\":-1},{\"y\":-1},{\"y\":-1},{\"y\":-1},{\"y\":-1},{\"y\":-1},{\"y\":-1},{\"y\":-1},{\"y\":-1},{\"y\":-1},{\"y\":-1},{\"y\":-1},{\"y\":-1},{\"y\":-1},{\"y\":-1},{\"y\":-1},{\"y\":-1},{\"y\":-1},{\"y\":-1},{\"y\":-1},{\"y\":-1},{\"y\":-1},{\"y\":-1},{\"y\":-1},{\"y\":-1},{\"y\":-1},{\"y\":-1},{\"y\":-1},{\"y\":-1},{\"y\":-1},{\"y\":-1},{\"y\":-1},{\"y\":-1},{\"y\":-1},{\"y\":-1},{\"y\":-1},{\"y\":-1},{\"y\":-1},{\"y\":-1},{\"y\":-1},{\"y\":-1},{\"y\":-1},{\"y\":-1},{\"y\":-1},{\"y\":-1},{\"y\":-1},{\"y\":-1},{\"y\":-1},{\"y\":-1},{\"y\":-1},{\"y\":-1}],\"x_values\":{\"__ndarray__\":\"Qx4TTDHdEkCy1zgEDX4KQBiol2/tmQVA6KWDlXT6BEDsbPx6C0HqP1/Jx9evrwlAsJt+vNOQC0CGoAzGHFsTQI+ZQGXGGR5AZx9c0nSCE0AR1ZWW9lUjQCBbB/+hm/0/ILUr0BX+FUA7kpbCpqgfQA+ePRw7pRNAamOMDgik/T9AwiJZgkHTP9luUKNM/xdAbxio2EmOHkBCsOxuI5DyP7DmmF86UhdADS2nuoPRI0DYHAV2BZ3AP9ghSazhSRJAgI6asXxfFEAMqDWvm/ojQJj7VVE2jcA/OOZFNg3bI0D+QdYwkkscQKBSjtPwG7I/qp8RVAXrCUDIDu/q2/TUPwyH/SrHXtk/xELlTBgEEkANcgm6ytcaQFJegFstdhVANEewwgVOEUAUBHOJy0cCQEbzBSDkK+M/9ENAwF9vEUBz2f0GjvogQBAk2vTDOBhAEw21BiJoIEA5RskUve0gQLOqm2eDfiJAr1bwoyt1D0BQ3Jd0FX++PyUoR8yEXANAYWVIyoczIEA+jaCbhRchQM6ugB6TMu4/Pq2sH8Re9j+Z5IRwkjQVQFKtqYoauCFAxNId3CJX3T/c4GNrQcYEQH6y1AtS9Os/HHAmnXzLGkA/S8ZmHzsXQFdXVAQeKRtAAt2qhq5s/z9KHjC1UucNQESYYq2JOvg/faFVZODzIEDQh8gsmYLEP6Mxqy/7mxdAvI1PxNeA3D/T3IUAGuETQIAtJZXAA8o/Kpr8B8S1DEB+bCJEyJnvP2aMXFhGAQFAoJD4EYa5GUBke5zyqQMeQG2SQRYYFfc/0V5KJdiW9D8tF7PyM80ZQDStn3MBXyBApynE61Q0HkBcgUEVNsYAQA54Tm8fXQxAh+sHGNeVGUAgYo9DLpATQJLX6xa6PhpAZBFdyCYSEkA3sorSxrAVQEYXRnVtGBpAcdTT9pqjD0DKLOX47owBQEoPZYqjCQxAVeImTpH6IEA7vWXtHiQWQBQ/QmHcMBJATYM9ErgtHkDQdxy1e4PkP34pFBDr2QFAbcCAloNWFEBCXtK4XiIUQP2SisTAV/w/5hQ+pNQhGUCAa2cQKh0ZQBYDGz6o1QdAqlFnommmGUAs49hXZZcDQBau6cyfxfA/ZAbDMHsxCEBI/MX8m6EaQPcJZ/0l1CJA21KkkdskIEDOD0ndAechQJFut+yewRRAqn0zR7waEkD+me0B7Q4SQJTtBTUdN9w/+BMUl29rGUBkuu/Y4uwDQFHQGSIOCCFA8oql4Jh7AkDvAqg+rvMiQA==\",\"dtype\":\"float64\",\"shape\":[119]},\"y\":[-1,-1,-1,-1,-1,-1,-1,-1,-1,-1,-1,-1,-1,-1,-1,-1,-1,-1,-1,-1,-1,-1,-1,-1,-1,-1,-1,-1,-1,-1,-1,-1,-1,-1,-1,-1,-1,-1,-1,-1,-1,-1,-1,-1,-1,-1,-1,-1,-1,-1,-1,-1,-1,-1,-1,-1,-1,-1,-1,-1,-1,-1,-1,-1,-1,-1,-1,-1,-1,-1,-1,-1,-1,-1,-1,-1,-1,-1,-1,-1,-1,-1,-1,-1,-1,-1,-1,-1,-1,-1,-1,-1,-1,-1,-1,-1,-1,-1,-1,-1,-1,-1,-1,-1,-1,-1,-1,-1,-1,-1,-1,-1,-1,-1,-1,-1,-1,-1,-1],\"y_values\":{\"__ndarray__\":\"fS99UgTZHkATXrimua0jQL1M8rn9SSFAfLHHYV07CEDX/44m3OkiQHphKKyEhw1APio5M47UGkA7UMYTMVQAQOMJ6alfaCFAcrYccMBZH0DL4LLmxvMcQIetjPFODgNAzJ4loPniD0DoYkNFcDYhQNdKQGxcsv0/sB0rTOgb2z+2KetduSjoP2eIvkQUkvs/X03EriSKCEDioW3N9tDkP07e9uEDWQNAQp09szlgHED2vcSzVzYFQCiafqzUJsI/29j7qeks9z+jJvRAVxMgQAa8S4re9xFAzLgtZvklG0CquBmGsx4UQLRJ2b+2EgtAzm4w9O2lFEAjIkV6upIgQJQeArZCYug/DnmNtTISI0DbZtTLjj4JQGoy1mdISgBA8r4lSw4VIUCOo8FQBo4UQPYZIP+KpiBAKND+f8EgGkDC77pBLJ4hQHoBhX8fkvk/dHv6Q8j2HkDJf3648mkYQLaBhuEuvBlAAFBKsCxMBECAfhBzRmYFQEn2+EiuAyJA6mHrXGewG0AnWRhvdKohQMITsebFDA1AQ0bgo45sEUCXz8dZsmsjQAZZJFMkFyBA0tKG6XPFEkBLwKJudv8hQGDprZsEPhhACJSkmo6gC0AZoDOYYjIYQAD4CExDFgtAyiQwpyMLAkAsBRsZCIwXQAejmqURryFA6EXdkKjZIEDyYFpppW/1P6aDqXkPlPk//GzIsFNUFkBe26TzP3IdQH7u+yNYmglA82Ws79xsFkB6oelzqo0FQKbddcQNhxhAf7s/ddVxH0Dm6VPsI1YiQGm/gBXmfBRARXCIgrdX9z9R34+drhIIQJoVW/8INBFADx0xvHS6GkC0/Ccg4JEcQDAR/Z6vhBlA0Af2hcaZCUAGi7VvkmwSQB7srvibDBRAvf35nbMZFkCVo+qYwSkTQFYEUfg/6BRAAOgLhLGsIUDrq/DEaZkdQFkkEwg3/h5A8mFzSkdLIUBWzzgF5/8jQLAL6iHHiSNAJHILsv2VCEDqxcEeA4QdQKxIMotKUh5AcJo/S9DRCkAoWrTiqgwjQHBH4+LxnBBAAPM88DtRH0Cg6v9kDesOQCQZdTcSWghAWrNgRfM2GUCzfhrCd9EXQBSGpgemfuA/fGSq1wHOAEB6pYptdh8SQPY5U0D4xyNAE5xXsnw5IUBpuYTctegQQMAYmPQ/nNM/dC0I4Yc6B0ADUUnxqMsVQC3QMeLC7QVAvpX+LctvAkD2nJjfDiz5PyLmOpxvhBBAgrBgpQQ7I0C5M9WeOXYTQA==\",\"dtype\":\"float64\",\"shape\":[119]}}},\"id\":\"985754b5-ffd9-499c-873e-a6e68f74e2ad\",\"type\":\"ColumnDataSource\"},{\"attributes\":{},\"id\":\"b0b04999-b160-49d7-9060-54a42edaf734\",\"type\":\"BasicTicker\"},{\"attributes\":{\"plot\":{\"id\":\"d8a54464-58e0-4b61-b23e-fbe4ef5e8e9c\",\"subtype\":\"Chart\",\"type\":\"Plot\"}},\"id\":\"e3192708-22af-4b98-972e-eb40b4126a16\",\"type\":\"HelpTool\"},{\"attributes\":{\"fill_alpha\":{\"value\":0.7},\"fill_color\":{\"value\":\"lightblue\"},\"line_color\":{\"value\":\"lightblue\"},\"size\":{\"units\":\"screen\",\"value\":8},\"x\":{\"field\":\"x_values\"},\"y\":{\"field\":\"y_values\"}},\"id\":\"4c225a0d-b0db-409f-99a6-2cd896f4b29f\",\"type\":\"Circle\"},{\"attributes\":{\"bottom_units\":\"screen\",\"fill_alpha\":{\"value\":0.5},\"fill_color\":{\"value\":\"lightgrey\"},\"left_units\":\"screen\",\"level\":\"overlay\",\"line_alpha\":{\"value\":1.0},\"line_color\":{\"value\":\"black\"},\"line_dash\":[4,4],\"line_width\":{\"value\":2},\"plot\":null,\"render_mode\":\"css\",\"right_units\":\"screen\",\"top_units\":\"screen\"},\"id\":\"2235a659-1c73-49d1-9bd3-ed17cb4f7157\",\"type\":\"BoxAnnotation\"},{\"attributes\":{\"plot\":{\"id\":\"d8a54464-58e0-4b61-b23e-fbe4ef5e8e9c\",\"subtype\":\"Chart\",\"type\":\"Plot\"}},\"id\":\"06f5722f-387f-442f-a243-72ef41644916\",\"type\":\"ResetTool\"},{\"attributes\":{\"dimension\":1,\"plot\":{\"id\":\"d8a54464-58e0-4b61-b23e-fbe4ef5e8e9c\",\"subtype\":\"Chart\",\"type\":\"Plot\"},\"ticker\":{\"id\":\"137d5f16-5943-4f21-88dc-995f837bdc9d\",\"type\":\"BasicTicker\"}},\"id\":\"412b6b57-89d7-415c-8ff5-244742a4c053\",\"type\":\"Grid\"},{\"attributes\":{\"plot\":{\"id\":\"d8a54464-58e0-4b61-b23e-fbe4ef5e8e9c\",\"subtype\":\"Chart\",\"type\":\"Plot\"}},\"id\":\"e11c4cd8-012b-4f05-afe3-3fa954c87e94\",\"type\":\"SaveTool\"},{\"attributes\":{\"overlay\":{\"id\":\"2235a659-1c73-49d1-9bd3-ed17cb4f7157\",\"type\":\"BoxAnnotation\"},\"plot\":{\"id\":\"d8a54464-58e0-4b61-b23e-fbe4ef5e8e9c\",\"subtype\":\"Chart\",\"type\":\"Plot\"}},\"id\":\"b27c1a29-2af3-46ca-a663-77a4979d3b62\",\"type\":\"BoxZoomTool\"},{\"attributes\":{\"below\":[{\"id\":\"966115ce-effd-48a8-8182-13924eef1477\",\"type\":\"LinearAxis\"}],\"css_classes\":null,\"height\":500,\"left\":[{\"id\":\"af8fe860-3b6e-4ff5-b3c1-e88614a95b89\",\"type\":\"LinearAxis\"}],\"renderers\":[{\"id\":\"2235a659-1c73-49d1-9bd3-ed17cb4f7157\",\"type\":\"BoxAnnotation\"},{\"id\":\"afad6918-70de-4890-91b8-6c1a7152d91e\",\"type\":\"GlyphRenderer\"},{\"id\":\"1be9b814-3a30-4b43-b709-17c628418410\",\"type\":\"GlyphRenderer\"},{\"id\":\"207bbe5d-20f4-4b73-b7b2-a3f5d868aee8\",\"type\":\"Legend\"},{\"id\":\"966115ce-effd-48a8-8182-13924eef1477\",\"type\":\"LinearAxis\"},{\"id\":\"af8fe860-3b6e-4ff5-b3c1-e88614a95b89\",\"type\":\"LinearAxis\"},{\"id\":\"7c00ba31-6b45-48d2-bd98-54944679319e\",\"type\":\"Grid\"},{\"id\":\"412b6b57-89d7-415c-8ff5-244742a4c053\",\"type\":\"Grid\"}],\"title\":{\"id\":\"a508282d-dbf8-45a7-836a-1a49540e8054\",\"type\":\"Title\"},\"tool_events\":{\"id\":\"e87f9bc8-e756-4157-a23e-57950574218c\",\"type\":\"ToolEvents\"},\"toolbar\":{\"id\":\"1f4975b4-5936-46f3-b141-888b04ba305b\",\"type\":\"Toolbar\"},\"width\":500,\"x_mapper_type\":\"auto\",\"x_range\":{\"id\":\"aa355137-eeca-441d-bfcd-1e153167be5a\",\"type\":\"Range1d\"},\"y_mapper_type\":\"auto\",\"y_range\":{\"id\":\"88b73ded-b7c5-4db7-ab07-3084061445b5\",\"type\":\"Range1d\"}},\"id\":\"d8a54464-58e0-4b61-b23e-fbe4ef5e8e9c\",\"subtype\":\"Chart\",\"type\":\"Plot\"}],\"root_ids\":[\"d8a54464-58e0-4b61-b23e-fbe4ef5e8e9c\"]},\"title\":\"Bokeh Application\",\"version\":\"0.12.4\"}};\n",
       "            var render_items = [{\"docid\":\"9ad72fd5-e02e-4712-afd2-199aac1a47a6\",\"elementid\":\"19da7a85-4208-4718-8a1f-e665b6ed888c\",\"modelid\":\"d8a54464-58e0-4b61-b23e-fbe4ef5e8e9c\"}];\n",
       "            \n",
       "            Bokeh.embed.embed_items(docs_json, render_items);\n",
       "          };\n",
       "          if (document.readyState != \"loading\") fn();\n",
       "          else document.addEventListener(\"DOMContentLoaded\", fn);\n",
       "        })();\n",
       "      },\n",
       "      function(Bokeh) {\n",
       "      }\n",
       "    ];\n",
       "  \n",
       "    function run_inline_js() {\n",
       "      \n",
       "      if ((window.Bokeh !== undefined) || (force === true)) {\n",
       "        for (var i = 0; i < inline_js.length; i++) {\n",
       "          inline_js[i](window.Bokeh);\n",
       "        }if (force === true) {\n",
       "          display_loaded();\n",
       "        }} else if (Date.now() < window._bokeh_timeout) {\n",
       "        setTimeout(run_inline_js, 100);\n",
       "      } else if (!window._bokeh_failed_load) {\n",
       "        console.log(\"Bokeh: BokehJS failed to load within specified timeout.\");\n",
       "        window._bokeh_failed_load = true;\n",
       "      } else if (force !== true) {\n",
       "        var cell = $(document.getElementById(\"19da7a85-4208-4718-8a1f-e665b6ed888c\")).parents('.cell').data().cell;\n",
       "        cell.output_area.append_execute_result(NB_LOAD_WARNING)\n",
       "      }\n",
       "  \n",
       "    }\n",
       "  \n",
       "    if (window._bokeh_is_loading === 0) {\n",
       "      console.log(\"Bokeh: BokehJS loaded, going straight to plotting\");\n",
       "      run_inline_js();\n",
       "    } else {\n",
       "      load_libs(js_urls, function() {\n",
       "        console.log(\"Bokeh: BokehJS plotting callback run at\", now());\n",
       "        run_inline_js();\n",
       "      });\n",
       "    }\n",
       "  }(this));\n",
       "</script>"
      ]
     },
     "metadata": {},
     "output_type": "display_data"
    }
   ],
   "source": [
    "show(Scatter(\n",
    "    {'x1': x1, 'x2': x2, 'y': y}, \n",
    "    x='x1', y='x2', color='y', marker='y', palette=['lightblue', 'orange'],\n",
    "    width=500, height=500\n",
    "))"
   ]
  },
  {
   "cell_type": "markdown",
   "metadata": {
    "deletable": true,
    "editable": true,
    "slideshow": {
     "slide_type": "slide"
    }
   },
   "source": [
    "### Support Vector Machines a la `scikit-learn`"
   ]
  },
  {
   "cell_type": "code",
   "execution_count": 16,
   "metadata": {
    "collapsed": false,
    "deletable": true,
    "editable": true,
    "scrolled": true,
    "slideshow": {
     "slide_type": "subslide"
    }
   },
   "outputs": [
    {
     "data": {
      "text/plain": [
       "SVC(C=1.0, cache_size=200, class_weight=None, coef0=0.0,\n",
       "  decision_function_shape=None, degree=3, gamma='auto', kernel='linear',\n",
       "  max_iter=-1, probability=False, random_state=None, shrinking=True,\n",
       "  tol=0.001, verbose=False)"
      ]
     },
     "execution_count": 16,
     "metadata": {},
     "output_type": "execute_result"
    }
   ],
   "source": [
    "from sklearn import svm\n",
    "clf = svm.SVC(kernel='linear')\n",
    "clf.fit(X, y)"
   ]
  },
  {
   "cell_type": "markdown",
   "metadata": {
    "deletable": true,
    "editable": true,
    "slideshow": {
     "slide_type": "subslide"
    }
   },
   "source": [
    "The SVM coefficients give us a separating hyperplane with minimum classification error.\n",
    "\n",
    "$$b + w'x = 0$$"
   ]
  },
  {
   "cell_type": "code",
   "execution_count": 17,
   "metadata": {
    "collapsed": false,
    "deletable": true,
    "editable": true,
    "slideshow": {
     "slide_type": "fragment"
    }
   },
   "outputs": [
    {
     "name": "stdout",
     "output_type": "stream",
     "text": [
      "b = -3.36050577816\n",
      "w = [ 0.67262893 -0.60681053]\n"
     ]
    }
   ],
   "source": [
    "print('b =', clf.intercept_[0])\n",
    "print('w =', clf.coef_[0])"
   ]
  },
  {
   "cell_type": "markdown",
   "metadata": {
    "deletable": true,
    "editable": true,
    "slideshow": {
     "slide_type": "subslide"
    }
   },
   "source": [
    "We classify a point $x = (x_1, x_2)'$ based on which side of that hyperplane it is on.  \n",
    "  \n",
    "\n",
    "$$b + w'x \\ge 0\\ \\rightarrow\\ \\text{Type +1}$$  \n",
    "$$b + w'x < 0\\ \\rightarrow\\ \\text{Type -1}$$ "
   ]
  },
  {
   "cell_type": "code",
   "execution_count": 18,
   "metadata": {
    "collapsed": false,
    "deletable": true,
    "editable": true,
    "slideshow": {
     "slide_type": "fragment"
    }
   },
   "outputs": [
    {
     "name": "stdout",
     "output_type": "stream",
     "text": [
      "confusion matrix:\n"
     ]
    },
    {
     "data": {
      "text/plain": [
       "array([[117,   2],\n",
       "       [ 15,  16]])"
      ]
     },
     "execution_count": 18,
     "metadata": {},
     "output_type": "execute_result"
    }
   ],
   "source": [
    "from sklearn import metrics\n",
    "\n",
    "y_hat = clf.predict(X)\n",
    "\n",
    "print('confusion matrix:')\n",
    "metrics.confusion_matrix(y_true=y, y_pred=y_hat)"
   ]
  },
  {
   "cell_type": "code",
   "execution_count": 19,
   "metadata": {
    "collapsed": false,
    "deletable": true,
    "editable": true,
    "slideshow": {
     "slide_type": "subslide"
    }
   },
   "outputs": [],
   "source": [
    "# We need a function to plot classifications and the separating hyperplane.\n",
    "def plot_svm_results(correct, b_val, w1_val, w2_val):\n",
    "    # Classifications\n",
    "    plot = Scatter(\n",
    "        {'x1': x1, 'x2': x2, 'y': y, 'correct': correct}, \n",
    "        x='x1', y='x2', \n",
    "        color='correct', palette=['lightgrey', 'darkred'], marker='correct',\n",
    "        width=500, height=500\n",
    "    )\n",
    "\n",
    "    # Separating hyperplane: x2 = -(b + (w1*x1)) / w2\n",
    "    hyperplane_x1 = np.linspace(0, 10)\n",
    "    hyperplane_x2 = [\n",
    "        -(b_val + (w1_val * x1_i)) / w2_val for x1_i in hyperplane_x1\n",
    "    ]\n",
    "    plot.line(hyperplane_x1, hyperplane_x2, color='darkblue')\n",
    "    show(plot)"
   ]
  },
  {
   "cell_type": "markdown",
   "metadata": {
    "deletable": true,
    "editable": true,
    "slideshow": {
     "slide_type": "subslide"
    }
   },
   "source": [
    "How'd scikit-learn do?"
   ]
  },
  {
   "cell_type": "code",
   "execution_count": 20,
   "metadata": {
    "collapsed": false,
    "deletable": true,
    "editable": true,
    "slideshow": {
     "slide_type": "-"
    }
   },
   "outputs": [
    {
     "data": {
      "text/html": [
       "\n",
       "\n",
       "    <div class=\"bk-root\">\n",
       "        <div class=\"bk-plotdiv\" id=\"683874b5-d058-43cc-8b9a-463155a500ed\"></div>\n",
       "    </div>\n",
       "<script type=\"text/javascript\">\n",
       "  \n",
       "  (function(global) {\n",
       "    function now() {\n",
       "      return new Date();\n",
       "    }\n",
       "  \n",
       "    var force = false;\n",
       "  \n",
       "    if (typeof (window._bokeh_onload_callbacks) === \"undefined\" || force === true) {\n",
       "      window._bokeh_onload_callbacks = [];\n",
       "      window._bokeh_is_loading = undefined;\n",
       "    }\n",
       "  \n",
       "  \n",
       "    \n",
       "    if (typeof (window._bokeh_timeout) === \"undefined\" || force === true) {\n",
       "      window._bokeh_timeout = Date.now() + 0;\n",
       "      window._bokeh_failed_load = false;\n",
       "    }\n",
       "  \n",
       "    var NB_LOAD_WARNING = {'data': {'text/html':\n",
       "       \"<div style='background-color: #fdd'>\\n\"+\n",
       "       \"<p>\\n\"+\n",
       "       \"BokehJS does not appear to have successfully loaded. If loading BokehJS from CDN, this \\n\"+\n",
       "       \"may be due to a slow or bad network connection. Possible fixes:\\n\"+\n",
       "       \"</p>\\n\"+\n",
       "       \"<ul>\\n\"+\n",
       "       \"<li>re-rerun `output_notebook()` to attempt to load from CDN again, or</li>\\n\"+\n",
       "       \"<li>use INLINE resources instead, as so:</li>\\n\"+\n",
       "       \"</ul>\\n\"+\n",
       "       \"<code>\\n\"+\n",
       "       \"from bokeh.resources import INLINE\\n\"+\n",
       "       \"output_notebook(resources=INLINE)\\n\"+\n",
       "       \"</code>\\n\"+\n",
       "       \"</div>\"}};\n",
       "  \n",
       "    function display_loaded() {\n",
       "      if (window.Bokeh !== undefined) {\n",
       "        document.getElementById(\"683874b5-d058-43cc-8b9a-463155a500ed\").textContent = \"BokehJS successfully loaded.\";\n",
       "      } else if (Date.now() < window._bokeh_timeout) {\n",
       "        setTimeout(display_loaded, 100)\n",
       "      }\n",
       "    }\n",
       "  \n",
       "    function run_callbacks() {\n",
       "      window._bokeh_onload_callbacks.forEach(function(callback) { callback() });\n",
       "      delete window._bokeh_onload_callbacks\n",
       "      console.info(\"Bokeh: all callbacks have finished\");\n",
       "    }\n",
       "  \n",
       "    function load_libs(js_urls, callback) {\n",
       "      window._bokeh_onload_callbacks.push(callback);\n",
       "      if (window._bokeh_is_loading > 0) {\n",
       "        console.log(\"Bokeh: BokehJS is being loaded, scheduling callback at\", now());\n",
       "        return null;\n",
       "      }\n",
       "      if (js_urls == null || js_urls.length === 0) {\n",
       "        run_callbacks();\n",
       "        return null;\n",
       "      }\n",
       "      console.log(\"Bokeh: BokehJS not loaded, scheduling load and callback at\", now());\n",
       "      window._bokeh_is_loading = js_urls.length;\n",
       "      for (var i = 0; i < js_urls.length; i++) {\n",
       "        var url = js_urls[i];\n",
       "        var s = document.createElement('script');\n",
       "        s.src = url;\n",
       "        s.async = false;\n",
       "        s.onreadystatechange = s.onload = function() {\n",
       "          window._bokeh_is_loading--;\n",
       "          if (window._bokeh_is_loading === 0) {\n",
       "            console.log(\"Bokeh: all BokehJS libraries loaded\");\n",
       "            run_callbacks()\n",
       "          }\n",
       "        };\n",
       "        s.onerror = function() {\n",
       "          console.warn(\"failed to load library \" + url);\n",
       "        };\n",
       "        console.log(\"Bokeh: injecting script tag for BokehJS library: \", url);\n",
       "        document.getElementsByTagName(\"head\")[0].appendChild(s);\n",
       "      }\n",
       "    };var element = document.getElementById(\"683874b5-d058-43cc-8b9a-463155a500ed\");\n",
       "    if (element == null) {\n",
       "      console.log(\"Bokeh: ERROR: autoload.js configured with elementid '683874b5-d058-43cc-8b9a-463155a500ed' but no matching script tag was found. \")\n",
       "      return false;\n",
       "    }\n",
       "  \n",
       "    var js_urls = [];\n",
       "  \n",
       "    var inline_js = [\n",
       "      function(Bokeh) {\n",
       "        (function() {\n",
       "          var fn = function() {\n",
       "            var docs_json = {\"323ba6e8-c99b-49a7-acc5-3d4aee0db92c\":{\"roots\":{\"references\":[{\"attributes\":{\"label\":{\"value\":\"Correct\"},\"renderers\":[{\"id\":\"748c641d-4e82-4751-884e-cfc62d77294a\",\"type\":\"GlyphRenderer\"}]},\"id\":\"64b2ee12-e7e1-49c7-aa24-232fb91fe732\",\"type\":\"LegendItem\"},{\"attributes\":{\"data_source\":{\"id\":\"e2ac06f7-33f6-4166-a178-c213e705951d\",\"type\":\"ColumnDataSource\"},\"glyph\":{\"id\":\"38f23cb3-a1e0-410c-946e-5431ef6234fd\",\"type\":\"Line\"},\"hover_glyph\":null,\"nonselection_glyph\":{\"id\":\"8007e6bf-c88d-4aec-b9e2-e66d5a5a3d9d\",\"type\":\"Line\"},\"selection_glyph\":null},\"id\":\"52c825f0-c41e-4024-a2c0-6a4737793db5\",\"type\":\"GlyphRenderer\"},{\"attributes\":{\"plot\":{\"id\":\"4077f23d-eceb-4be2-a05f-51928c91421f\",\"subtype\":\"Chart\",\"type\":\"Plot\"}},\"id\":\"9e5078f6-072e-4960-818b-0acf425c1e71\",\"type\":\"SaveTool\"},{\"attributes\":{\"fill_alpha\":{\"value\":0.7},\"fill_color\":{\"value\":\"darkred\"},\"line_color\":{\"value\":\"darkred\"},\"size\":{\"units\":\"screen\",\"value\":8},\"x\":{\"field\":\"x_values\"},\"y\":{\"field\":\"y_values\"}},\"id\":\"d4c42950-dbf0-4e44-ad33-2106857d41a0\",\"type\":\"Square\"},{\"attributes\":{\"plot\":{\"id\":\"4077f23d-eceb-4be2-a05f-51928c91421f\",\"subtype\":\"Chart\",\"type\":\"Plot\"}},\"id\":\"a85adc48-768f-42d5-95b0-7bed3c1aa934\",\"type\":\"ResetTool\"},{\"attributes\":{\"overlay\":{\"id\":\"2491b36c-2c10-426e-bfe2-1ac24ba47120\",\"type\":\"BoxAnnotation\"},\"plot\":{\"id\":\"4077f23d-eceb-4be2-a05f-51928c91421f\",\"subtype\":\"Chart\",\"type\":\"Plot\"}},\"id\":\"967d6227-eeea-45f3-97c3-a30649e62b55\",\"type\":\"BoxZoomTool\"},{\"attributes\":{\"plot\":{\"id\":\"4077f23d-eceb-4be2-a05f-51928c91421f\",\"subtype\":\"Chart\",\"type\":\"Plot\"}},\"id\":\"422f722d-d381-4c84-8b14-b3edfc2ed329\",\"type\":\"WheelZoomTool\"},{\"attributes\":{\"callback\":null,\"end\":10.98985219725301,\"start\":-0.921907827012665},\"id\":\"f62505e1-f4a5-43f2-a721-6aac32fa107d\",\"type\":\"Range1d\"},{\"attributes\":{\"items\":[{\"id\":\"ae22bd4e-9510-4158-b45b-12287eb6bbc0\",\"type\":\"LegendItem\"},{\"id\":\"64b2ee12-e7e1-49c7-aa24-232fb91fe732\",\"type\":\"LegendItem\"}],\"location\":\"top_left\",\"plot\":{\"id\":\"4077f23d-eceb-4be2-a05f-51928c91421f\",\"subtype\":\"Chart\",\"type\":\"Plot\"}},\"id\":\"2e9119cc-9b63-4ee0-9f20-ba8070a1637d\",\"type\":\"Legend\"},{\"attributes\":{\"callback\":null,\"column_names\":[\"x_values\",\"y_values\"],\"data\":{\"chart_index\":[{\"correct\":\"Incorrect\"},{\"correct\":\"Incorrect\"},{\"correct\":\"Incorrect\"},{\"correct\":\"Incorrect\"},{\"correct\":\"Incorrect\"},{\"correct\":\"Incorrect\"},{\"correct\":\"Incorrect\"},{\"correct\":\"Incorrect\"},{\"correct\":\"Incorrect\"},{\"correct\":\"Incorrect\"},{\"correct\":\"Incorrect\"},{\"correct\":\"Incorrect\"},{\"correct\":\"Incorrect\"},{\"correct\":\"Incorrect\"},{\"correct\":\"Incorrect\"},{\"correct\":\"Incorrect\"},{\"correct\":\"Incorrect\"}],\"correct\":[\"Incorrect\",\"Incorrect\",\"Incorrect\",\"Incorrect\",\"Incorrect\",\"Incorrect\",\"Incorrect\",\"Incorrect\",\"Incorrect\",\"Incorrect\",\"Incorrect\",\"Incorrect\",\"Incorrect\",\"Incorrect\",\"Incorrect\",\"Incorrect\",\"Incorrect\"],\"x_values\":{\"__ndarray__\":\"ajdrgseZFUCqIzLX83MLQGnUsZ43qhFAusScuK/aHUBdVVOIRtoZQMMP2VgWiiJAx7DmRxHbIEDOXzNxRY0gQKyycr+lhCFAcpL9e6pPIkBzGhI4GDAjQFIJ0s8bZhZAOtd0v3ixFkDOD0ndAechQAGYKK/IdR1APM8P0dRbGEDvAqg+rvMiQA==\",\"dtype\":\"float64\",\"shape\":[17]},\"y_values\":{\"__ndarray__\":\"Yz740Pbh9j8mrjs7ivvlP6rREl1H9uw/eCGELw/WDUD2dhTaHSYFQFuPpkJCKxhAIk3fH2ZREUAkM1keFSIXQAyCw7guqxlATj9qTExDFEB6SgrSwOcXQCvVovFyigNAYTqD4W6JAUBpuYTctegQQJZPrFafwwtAyEtGig5LAEC5M9WeOXYTQA==\",\"dtype\":\"float64\",\"shape\":[17]}}},\"id\":\"045e238e-10df-47fd-beae-eb74432687fb\",\"type\":\"ColumnDataSource\"},{\"attributes\":{\"callback\":null,\"end\":10.989786803550235,\"start\":-0.8899417899100986},\"id\":\"ace553e1-5c81-45ff-9cf7-73d0e7ce6a79\",\"type\":\"Range1d\"},{\"attributes\":{},\"id\":\"2f2ef428-b52b-4239-b4f9-e9080589e6f0\",\"type\":\"BasicTicker\"},{\"attributes\":{\"plot\":{\"id\":\"4077f23d-eceb-4be2-a05f-51928c91421f\",\"subtype\":\"Chart\",\"type\":\"Plot\"}},\"id\":\"c6644124-0203-4e86-8c31-a15cf89aaade\",\"type\":\"HelpTool\"},{\"attributes\":{\"fill_alpha\":{\"value\":0.7},\"fill_color\":{\"value\":\"lightgrey\"},\"line_color\":{\"value\":\"lightgrey\"},\"size\":{\"units\":\"screen\",\"value\":8},\"x\":{\"field\":\"x_values\"},\"y\":{\"field\":\"y_values\"}},\"id\":\"312bbfef-4c50-4459-81ea-ef8b85a360ec\",\"type\":\"Circle\"},{\"attributes\":{\"data_source\":{\"id\":\"dac1843d-4ab5-44eb-a7a4-c8b4dd45e720\",\"type\":\"ColumnDataSource\"},\"glyph\":{\"id\":\"312bbfef-4c50-4459-81ea-ef8b85a360ec\",\"type\":\"Circle\"},\"hover_glyph\":null,\"nonselection_glyph\":null,\"selection_glyph\":null},\"id\":\"748c641d-4e82-4751-884e-cfc62d77294a\",\"type\":\"GlyphRenderer\"},{\"attributes\":{\"plot\":null,\"text\":null},\"id\":\"3c36b585-ae62-4b33-ae42-5ee9562fd21c\",\"type\":\"Title\"},{\"attributes\":{},\"id\":\"0c30fbd6-7fef-426f-9b26-3d02fd93c080\",\"type\":\"BasicTicker\"},{\"attributes\":{\"plot\":{\"id\":\"4077f23d-eceb-4be2-a05f-51928c91421f\",\"subtype\":\"Chart\",\"type\":\"Plot\"},\"ticker\":{\"id\":\"2f2ef428-b52b-4239-b4f9-e9080589e6f0\",\"type\":\"BasicTicker\"}},\"id\":\"836c66c0-e211-4baf-b740-523992069df3\",\"type\":\"Grid\"},{\"attributes\":{\"plot\":{\"id\":\"4077f23d-eceb-4be2-a05f-51928c91421f\",\"subtype\":\"Chart\",\"type\":\"Plot\"}},\"id\":\"e9ed3617-ed59-47c8-a495-7c60bfe74da9\",\"type\":\"PanTool\"},{\"attributes\":{\"axis_label\":\"x2\",\"formatter\":{\"id\":\"92bdeb6e-dfec-4734-bbdb-1c92ba81873f\",\"type\":\"BasicTickFormatter\"},\"plot\":{\"id\":\"4077f23d-eceb-4be2-a05f-51928c91421f\",\"subtype\":\"Chart\",\"type\":\"Plot\"},\"ticker\":{\"id\":\"0c30fbd6-7fef-426f-9b26-3d02fd93c080\",\"type\":\"BasicTicker\"}},\"id\":\"622a3879-77af-414c-ab98-d7e4bbdaebb7\",\"type\":\"LinearAxis\"},{\"attributes\":{\"axis_label\":\"x1\",\"formatter\":{\"id\":\"55c3636e-10d7-4ab5-af11-0d5005f7eaaf\",\"type\":\"BasicTickFormatter\"},\"plot\":{\"id\":\"4077f23d-eceb-4be2-a05f-51928c91421f\",\"subtype\":\"Chart\",\"type\":\"Plot\"},\"ticker\":{\"id\":\"2f2ef428-b52b-4239-b4f9-e9080589e6f0\",\"type\":\"BasicTicker\"}},\"id\":\"55648bd9-ae6b-4df0-94f8-a5b4cd4dfe4a\",\"type\":\"LinearAxis\"},{\"attributes\":{\"line_color\":{\"value\":\"darkblue\"},\"x\":{\"field\":\"x\"},\"y\":{\"field\":\"y\"}},\"id\":\"38f23cb3-a1e0-410c-946e-5431ef6234fd\",\"type\":\"Line\"},{\"attributes\":{\"line_alpha\":{\"value\":0.1},\"line_color\":{\"value\":\"#1f77b4\"},\"x\":{\"field\":\"x\"},\"y\":{\"field\":\"y\"}},\"id\":\"8007e6bf-c88d-4aec-b9e2-e66d5a5a3d9d\",\"type\":\"Line\"},{\"attributes\":{},\"id\":\"55c3636e-10d7-4ab5-af11-0d5005f7eaaf\",\"type\":\"BasicTickFormatter\"},{\"attributes\":{\"callback\":null,\"column_names\":[\"x_values\",\"y_values\"],\"data\":{\"chart_index\":[{\"correct\":\"Correct\"},{\"correct\":\"Correct\"},{\"correct\":\"Correct\"},{\"correct\":\"Correct\"},{\"correct\":\"Correct\"},{\"correct\":\"Correct\"},{\"correct\":\"Correct\"},{\"correct\":\"Correct\"},{\"correct\":\"Correct\"},{\"correct\":\"Correct\"},{\"correct\":\"Correct\"},{\"correct\":\"Correct\"},{\"correct\":\"Correct\"},{\"correct\":\"Correct\"},{\"correct\":\"Correct\"},{\"correct\":\"Correct\"},{\"correct\":\"Correct\"},{\"correct\":\"Correct\"},{\"correct\":\"Correct\"},{\"correct\":\"Correct\"},{\"correct\":\"Correct\"},{\"correct\":\"Correct\"},{\"correct\":\"Correct\"},{\"correct\":\"Correct\"},{\"correct\":\"Correct\"},{\"correct\":\"Correct\"},{\"correct\":\"Correct\"},{\"correct\":\"Correct\"},{\"correct\":\"Correct\"},{\"correct\":\"Correct\"},{\"correct\":\"Correct\"},{\"correct\":\"Correct\"},{\"correct\":\"Correct\"},{\"correct\":\"Correct\"},{\"correct\":\"Correct\"},{\"correct\":\"Correct\"},{\"correct\":\"Correct\"},{\"correct\":\"Correct\"},{\"correct\":\"Correct\"},{\"correct\":\"Correct\"},{\"correct\":\"Correct\"},{\"correct\":\"Correct\"},{\"correct\":\"Correct\"},{\"correct\":\"Correct\"},{\"correct\":\"Correct\"},{\"correct\":\"Correct\"},{\"correct\":\"Correct\"},{\"correct\":\"Correct\"},{\"correct\":\"Correct\"},{\"correct\":\"Correct\"},{\"correct\":\"Correct\"},{\"correct\":\"Correct\"},{\"correct\":\"Correct\"},{\"correct\":\"Correct\"},{\"correct\":\"Correct\"},{\"correct\":\"Correct\"},{\"correct\":\"Correct\"},{\"correct\":\"Correct\"},{\"correct\":\"Correct\"},{\"correct\":\"Correct\"},{\"correct\":\"Correct\"},{\"correct\":\"Correct\"},{\"correct\":\"Correct\"},{\"correct\":\"Correct\"},{\"correct\":\"Correct\"},{\"correct\":\"Correct\"},{\"correct\":\"Correct\"},{\"correct\":\"Correct\"},{\"correct\":\"Correct\"},{\"correct\":\"Correct\"},{\"correct\":\"Correct\"},{\"correct\":\"Correct\"},{\"correct\":\"Correct\"},{\"correct\":\"Correct\"},{\"correct\":\"Correct\"},{\"correct\":\"Correct\"},{\"correct\":\"Correct\"},{\"correct\":\"Correct\"},{\"correct\":\"Correct\"},{\"correct\":\"Correct\"},{\"correct\":\"Correct\"},{\"correct\":\"Correct\"},{\"correct\":\"Correct\"},{\"correct\":\"Correct\"},{\"correct\":\"Correct\"},{\"correct\":\"Correct\"},{\"correct\":\"Correct\"},{\"correct\":\"Correct\"},{\"correct\":\"Correct\"},{\"correct\":\"Correct\"},{\"correct\":\"Correct\"},{\"correct\":\"Correct\"},{\"correct\":\"Correct\"},{\"correct\":\"Correct\"},{\"correct\":\"Correct\"},{\"correct\":\"Correct\"},{\"correct\":\"Correct\"},{\"correct\":\"Correct\"},{\"correct\":\"Correct\"},{\"correct\":\"Correct\"},{\"correct\":\"Correct\"},{\"correct\":\"Correct\"},{\"correct\":\"Correct\"},{\"correct\":\"Correct\"},{\"correct\":\"Correct\"},{\"correct\":\"Correct\"},{\"correct\":\"Correct\"},{\"correct\":\"Correct\"},{\"correct\":\"Correct\"},{\"correct\":\"Correct\"},{\"correct\":\"Correct\"},{\"correct\":\"Correct\"},{\"correct\":\"Correct\"},{\"correct\":\"Correct\"},{\"correct\":\"Correct\"},{\"correct\":\"Correct\"},{\"correct\":\"Correct\"},{\"correct\":\"Correct\"},{\"correct\":\"Correct\"},{\"correct\":\"Correct\"},{\"correct\":\"Correct\"},{\"correct\":\"Correct\"},{\"correct\":\"Correct\"},{\"correct\":\"Correct\"},{\"correct\":\"Correct\"},{\"correct\":\"Correct\"},{\"correct\":\"Correct\"},{\"correct\":\"Correct\"},{\"correct\":\"Correct\"},{\"correct\":\"Correct\"},{\"correct\":\"Correct\"},{\"correct\":\"Correct\"},{\"correct\":\"Correct\"}],\"correct\":[\"Correct\",\"Correct\",\"Correct\",\"Correct\",\"Correct\",\"Correct\",\"Correct\",\"Correct\",\"Correct\",\"Correct\",\"Correct\",\"Correct\",\"Correct\",\"Correct\",\"Correct\",\"Correct\",\"Correct\",\"Correct\",\"Correct\",\"Correct\",\"Correct\",\"Correct\",\"Correct\",\"Correct\",\"Correct\",\"Correct\",\"Correct\",\"Correct\",\"Correct\",\"Correct\",\"Correct\",\"Correct\",\"Correct\",\"Correct\",\"Correct\",\"Correct\",\"Correct\",\"Correct\",\"Correct\",\"Correct\",\"Correct\",\"Correct\",\"Correct\",\"Correct\",\"Correct\",\"Correct\",\"Correct\",\"Correct\",\"Correct\",\"Correct\",\"Correct\",\"Correct\",\"Correct\",\"Correct\",\"Correct\",\"Correct\",\"Correct\",\"Correct\",\"Correct\",\"Correct\",\"Correct\",\"Correct\",\"Correct\",\"Correct\",\"Correct\",\"Correct\",\"Correct\",\"Correct\",\"Correct\",\"Correct\",\"Correct\",\"Correct\",\"Correct\",\"Correct\",\"Correct\",\"Correct\",\"Correct\",\"Correct\",\"Correct\",\"Correct\",\"Correct\",\"Correct\",\"Correct\",\"Correct\",\"Correct\",\"Correct\",\"Correct\",\"Correct\",\"Correct\",\"Correct\",\"Correct\",\"Correct\",\"Correct\",\"Correct\",\"Correct\",\"Correct\",\"Correct\",\"Correct\",\"Correct\",\"Correct\",\"Correct\",\"Correct\",\"Correct\",\"Correct\",\"Correct\",\"Correct\",\"Correct\",\"Correct\",\"Correct\",\"Correct\",\"Correct\",\"Correct\",\"Correct\",\"Correct\",\"Correct\",\"Correct\",\"Correct\",\"Correct\",\"Correct\",\"Correct\",\"Correct\",\"Correct\",\"Correct\",\"Correct\",\"Correct\",\"Correct\",\"Correct\",\"Correct\",\"Correct\",\"Correct\",\"Correct\",\"Correct\",\"Correct\"],\"x_values\":{\"__ndarray__\":\"Qx4TTDHdEkCy1zgEDX4KQBiol2/tmQVA6KWDlXT6BEDsbPx6C0HqP1/Jx9evrwlAsJt+vNOQC0CGoAzGHFsTQO/EMtDTkSFA3xn7BNmBIUCPmUBlxhkeQGcfXNJ0ghNAEdWVlvZVI0Boztm6zEkhQCBbB/+hm/0/cQLg83DtIUAgtSvQFf4VQDuSlsKmqB9AD549HDulE0BqY4wOCKT9P0DCIlmCQdM/2W5Qo0z/F0BvGKjYSY4eQEKw7G4jkPI/sOaYXzpSF0ANLae6g9EjQNgcBXYFncA/2CFJrOFJEkCAjpqxfF8UQAyoNa+b+iNAmPtVUTaNwD845kU2DdsjQP5B1jCSSxxAoFKO0/Absj+qnxFUBesJQMgO7+rb9NQ/DIf9Ksde2T/EQuVMGAQSQKsw4Qml0yFAu7iMIMD7I0ANcgm6ytcaQFJegFstdhVANEewwgVOEUAUBHOJy0cCQEbzBSDkK+M/9ENAwF9vEUBz2f0GjvogQBAk2vTDOBhAEw21BiJoIEA5RskUve0gQLOqm2eDfiJAr1bwoyt1D0BQ3Jd0FX++PyUoR8yEXANAYWVIyoczIEA+jaCbhRchQM6ugB6TMu4/Pq2sH8Re9j+Z5IRwkjQVQFKtqYoauCFAxNId3CJX3T/c4GNrQcYEQH6y1AtS9Os/HHAmnXzLGkA/S8ZmHzsXQFdXVAQeKRtAAt2qhq5s/z+1JRm5kf4jQEoeMLVS5w1ARJhirYk6+D99oVVk4PMgQNCHyCyZgsQ/ozGrL/ubF0BBaE+tIrwbQLyNT8TXgNw/09yFABrhE0CALSWVwAPKPyqa/AfEtQxAfmwiRMiZ7z8YYwoM5+sgQGaMXFhGAQFAoJD4EYa5GUBke5zyqQMeQG2SQRYYFfc/0V5KJdiW9D8tF7PyM80ZQDStn3MBXyBAnrpxgR0WIECnKcTrVDQeQKTITRoOdhlAXIFBFTbGAEAOeE5vH10MQIfrBxjXlRlAIGKPQy6QE0CS1+sWuj4aQLwon5pTcRZAZBFdyCYSEkA3sorSxrAVQABv3H4cTCJARhdGdW0YGkBx1NP2mqMPQMos5fjujAFASg9liqMJDEBV4iZOkfogQDu9Ze0eJBZAFD9CYdwwEkBNgz0SuC0eQNB3HLV7g+Q/fikUEOvZAUDmGN2v8vscQL7IMG6Hah9AbcCAloNWFEBCXtK4XiIUQP2SisTAV/w/5hQ+pNQhGUCAa2cQKh0ZQBYDGz6o1QdAqlFnommmGUAs49hXZZcDQBau6cyfxfA/ZAbDMHsxCEBI/MX8m6EaQPcJZ/0l1CJArD0N6frSFUDbUqSR2yQgQJFut+yewRRAqn0zR7waEkD+me0B7Q4SQJTtBTUdN9w/+BMUl29rGUBkuu/Y4uwDQFHQGSIOCCFA8oql4Jh7AkA=\",\"dtype\":\"float64\",\"shape\":[133]},\"y_values\":{\"__ndarray__\":\"fS99UgTZHkATXrimua0jQL1M8rn9SSFAfLHHYV07CEDX/44m3OkiQHphKKyEhw1APio5M47UGkA7UMYTMVQAQHnPT/xay/I/Wr5bUv3Q7z/jCempX2ghQHK2HHDAWR9Ay+Cy5sbzHEAg7ErcvJ/gP4etjPFODgNAaBI9X1Cr7z/MniWg+eIPQOhiQ0VwNiFA10pAbFyy/T+wHStM6BvbP7Yp6125KOg/Z4i+RBSS+z9fTcSuJIoIQOKhbc320OQ/Tt724QNZA0BCnT2zOWAcQPa9xLNXNgVAKJp+rNQmwj/b2Pup6Sz3P6Mm9EBXEyBABrxLit73EUDMuC1m+SUbQKq4GYazHhRAtEnZv7YSC0DObjD07aUUQCMiRXq6kiBAlB4CtkJi6D8OeY21MhIjQKAd2b/um7k/7GJEmgCU1T/bZtTLjj4JQGoy1mdISgBA8r4lSw4VIUCOo8FQBo4UQPYZIP+KpiBAKND+f8EgGkDC77pBLJ4hQHoBhX8fkvk/dHv6Q8j2HkDJf3648mkYQLaBhuEuvBlAAFBKsCxMBECAfhBzRmYFQEn2+EiuAyJA6mHrXGewG0AnWRhvdKohQMITsebFDA1AQ0bgo45sEUCXz8dZsmsjQAZZJFMkFyBA0tKG6XPFEkBLwKJudv8hQGDprZsEPhhACJSkmo6gC0AZoDOYYjIYQAD4CExDFgtAyiQwpyMLAkAkZUY9uT4MQCwFGxkIjBdAB6OapRGvIUDoRd2QqNkgQPJgWmmlb/U/poOpeQ+U+T/gL2+fwxHmP/xsyLBTVBZAXtuk8z9yHUB+7vsjWJoJQPNlrO/cbBZAeqHpc6qNBUCcstXCiYIBQKbddcQNhxhAf7s/ddVxH0Dm6VPsI1YiQGm/gBXmfBRARXCIgrdX9z9R34+drhIIQJoVW/8INBFAPyU/ir6s+z8PHTG8dLoaQHhdWKmv8+s/tPwnIOCRHEAwEf2er4QZQNAH9oXGmQlABou1b5JsEkAe7K74mwwUQMyV5QjRndg/vf35nbMZFkCVo+qYwSkTQAiNrfT8hgdAVgRR+D/oFEAA6AuEsawhQOur8MRpmR1AWSQTCDf+HkDyYXNKR0shQFbPOAXn/yNAsAvqIceJI0Akcguy/ZUIQOrFwR4DhB1ArEgyi0pSHkDAqAJ7CXu8P2Nk5OZ96v0/cJo/S9DRCkAoWrTiqgwjQHBH4+LxnBBAAPM88DtRH0Cg6v9kDesOQCQZdTcSWghAWrNgRfM2GUCzfhrCd9EXQBSGpgemfuA/fGSq1wHOAEB6pYptdh8SQPY5U0D4xyNAyN1qV2xazD8TnFeyfDkhQMAYmPQ/nNM/dC0I4Yc6B0ADUUnxqMsVQC3QMeLC7QVAvpX+LctvAkD2nJjfDiz5PyLmOpxvhBBAgrBgpQQ7I0A=\",\"dtype\":\"float64\",\"shape\":[133]}}},\"id\":\"dac1843d-4ab5-44eb-a7a4-c8b4dd45e720\",\"type\":\"ColumnDataSource\"},{\"attributes\":{\"below\":[{\"id\":\"55648bd9-ae6b-4df0-94f8-a5b4cd4dfe4a\",\"type\":\"LinearAxis\"}],\"css_classes\":null,\"height\":500,\"left\":[{\"id\":\"622a3879-77af-414c-ab98-d7e4bbdaebb7\",\"type\":\"LinearAxis\"}],\"renderers\":[{\"id\":\"2491b36c-2c10-426e-bfe2-1ac24ba47120\",\"type\":\"BoxAnnotation\"},{\"id\":\"145071be-827c-432c-8f48-25ee0fcd5690\",\"type\":\"GlyphRenderer\"},{\"id\":\"748c641d-4e82-4751-884e-cfc62d77294a\",\"type\":\"GlyphRenderer\"},{\"id\":\"2e9119cc-9b63-4ee0-9f20-ba8070a1637d\",\"type\":\"Legend\"},{\"id\":\"55648bd9-ae6b-4df0-94f8-a5b4cd4dfe4a\",\"type\":\"LinearAxis\"},{\"id\":\"622a3879-77af-414c-ab98-d7e4bbdaebb7\",\"type\":\"LinearAxis\"},{\"id\":\"836c66c0-e211-4baf-b740-523992069df3\",\"type\":\"Grid\"},{\"id\":\"8ba6a468-ec06-4a5c-a3d4-fc396f1f41ed\",\"type\":\"Grid\"},{\"id\":\"52c825f0-c41e-4024-a2c0-6a4737793db5\",\"type\":\"GlyphRenderer\"}],\"title\":{\"id\":\"3c36b585-ae62-4b33-ae42-5ee9562fd21c\",\"type\":\"Title\"},\"tool_events\":{\"id\":\"4a572a4d-f286-45c6-bb75-7b3d0d9fa27f\",\"type\":\"ToolEvents\"},\"toolbar\":{\"id\":\"a36ef371-2a78-4889-b654-b66cda02e64e\",\"type\":\"Toolbar\"},\"width\":500,\"x_mapper_type\":\"auto\",\"x_range\":{\"id\":\"f62505e1-f4a5-43f2-a721-6aac32fa107d\",\"type\":\"Range1d\"},\"y_mapper_type\":\"auto\",\"y_range\":{\"id\":\"ace553e1-5c81-45ff-9cf7-73d0e7ce6a79\",\"type\":\"Range1d\"}},\"id\":\"4077f23d-eceb-4be2-a05f-51928c91421f\",\"subtype\":\"Chart\",\"type\":\"Plot\"},{\"attributes\":{\"dimension\":1,\"plot\":{\"id\":\"4077f23d-eceb-4be2-a05f-51928c91421f\",\"subtype\":\"Chart\",\"type\":\"Plot\"},\"ticker\":{\"id\":\"0c30fbd6-7fef-426f-9b26-3d02fd93c080\",\"type\":\"BasicTicker\"}},\"id\":\"8ba6a468-ec06-4a5c-a3d4-fc396f1f41ed\",\"type\":\"Grid\"},{\"attributes\":{\"data_source\":{\"id\":\"045e238e-10df-47fd-beae-eb74432687fb\",\"type\":\"ColumnDataSource\"},\"glyph\":{\"id\":\"d4c42950-dbf0-4e44-ad33-2106857d41a0\",\"type\":\"Square\"},\"hover_glyph\":null,\"nonselection_glyph\":null,\"selection_glyph\":null},\"id\":\"145071be-827c-432c-8f48-25ee0fcd5690\",\"type\":\"GlyphRenderer\"},{\"attributes\":{\"callback\":null,\"column_names\":[\"x\",\"y\"],\"data\":{\"x\":{\"__ndarray__\":\"AAAAAAAAAACIxvrQWB/KP4jG+tBYH9o/5hS8nIKX4z+IxvrQWB/qPxW8nIKXU/A/5hS8nIKX8z+3bdu2bdv2P4jG+tBYH/o/WR8a60Nj/T8VvJyCl1MAQH5orA+N9QFA5hS8nIKXA0BOwcspeDkFQLdt27Zt2wZAIBrrQ2N9CECIxvrQWB8KQPByCl5OwQtAWR8a60NjDUDCyyl4OQUPQBW8nIKXUxBASZIkSZIkEUB+aKwPjfURQLI+NNaHxhJA5hS8nIKXE0Aa60NjfWgUQE7Byyl4ORVAg5dT8HIKFkC3bdu2bdsWQOtDY31orBdAIBrrQ2N9GEBU8HIKXk4ZQIjG+tBYHxpAvJyCl1PwGkDwcgpeTsEbQCVJkiRJkhxAWR8a60NjHUCN9aGxPjQeQMLLKXg5BR9A9qGxPjTWH0AVvJyCl1MgQC+n4OUUvCBASZIkSZIkIUBjfWisD40hQH5orA+N9SFAmFPwcgpeIkCyPjTWh8YiQMwpeDkFLyNA5hS8nIKXI0AAAAAAAAAkQA==\",\"dtype\":\"float64\",\"shape\":[50]},\"y\":[-5.537982016967768,-5.311764435789252,-5.085546854610737,-4.8593292734322215,-4.633111692253705,-4.406894111075189,-4.180676529896674,-3.954458948718158,-3.7282413675396424,-3.5020237863611263,-3.275806205182611,-3.049588624004095,-2.8233710428255794,-2.5971534616470646,-2.3709358804685485,-2.144718299290032,-1.9185007181115172,-1.6922831369330018,-1.4660655557544855,-1.2398479745759698,-1.0136303933974544,-0.7874128122189388,-0.5611952310404225,-0.33497764986190687,-0.10876006868339132,0.11745751249512351,0.3436750936736391,0.5698926748521553,0.796110256030671,1.0223278372091866,1.2485454183877036,1.4747629995662184,1.7009805807447331,1.9271981619232494,2.1534157431017644,2.3796333242802805,2.605850905458797,2.832068486637312,3.058286067815828,3.2845036489943444,3.510721230172859,3.736938811351374,3.9631563925298905,4.189373973708405,4.415591554886923,4.641809136065437,4.868026717243954,5.094244298422469,5.320461879600985,5.5466794607795]}},\"id\":\"e2ac06f7-33f6-4166-a178-c213e705951d\",\"type\":\"ColumnDataSource\"},{\"attributes\":{},\"id\":\"92bdeb6e-dfec-4734-bbdb-1c92ba81873f\",\"type\":\"BasicTickFormatter\"},{\"attributes\":{\"label\":{\"value\":\"Incorrect\"},\"renderers\":[{\"id\":\"145071be-827c-432c-8f48-25ee0fcd5690\",\"type\":\"GlyphRenderer\"}]},\"id\":\"ae22bd4e-9510-4158-b45b-12287eb6bbc0\",\"type\":\"LegendItem\"},{\"attributes\":{\"bottom_units\":\"screen\",\"fill_alpha\":{\"value\":0.5},\"fill_color\":{\"value\":\"lightgrey\"},\"left_units\":\"screen\",\"level\":\"overlay\",\"line_alpha\":{\"value\":1.0},\"line_color\":{\"value\":\"black\"},\"line_dash\":[4,4],\"line_width\":{\"value\":2},\"plot\":null,\"render_mode\":\"css\",\"right_units\":\"screen\",\"top_units\":\"screen\"},\"id\":\"2491b36c-2c10-426e-bfe2-1ac24ba47120\",\"type\":\"BoxAnnotation\"},{\"attributes\":{},\"id\":\"4a572a4d-f286-45c6-bb75-7b3d0d9fa27f\",\"type\":\"ToolEvents\"},{\"attributes\":{\"active_drag\":\"auto\",\"active_scroll\":\"auto\",\"active_tap\":\"auto\",\"tools\":[{\"id\":\"e9ed3617-ed59-47c8-a495-7c60bfe74da9\",\"type\":\"PanTool\"},{\"id\":\"422f722d-d381-4c84-8b14-b3edfc2ed329\",\"type\":\"WheelZoomTool\"},{\"id\":\"967d6227-eeea-45f3-97c3-a30649e62b55\",\"type\":\"BoxZoomTool\"},{\"id\":\"9e5078f6-072e-4960-818b-0acf425c1e71\",\"type\":\"SaveTool\"},{\"id\":\"a85adc48-768f-42d5-95b0-7bed3c1aa934\",\"type\":\"ResetTool\"},{\"id\":\"c6644124-0203-4e86-8c31-a15cf89aaade\",\"type\":\"HelpTool\"}]},\"id\":\"a36ef371-2a78-4889-b654-b66cda02e64e\",\"type\":\"Toolbar\"}],\"root_ids\":[\"4077f23d-eceb-4be2-a05f-51928c91421f\"]},\"title\":\"Bokeh Application\",\"version\":\"0.12.4\"}};\n",
       "            var render_items = [{\"docid\":\"323ba6e8-c99b-49a7-acc5-3d4aee0db92c\",\"elementid\":\"683874b5-d058-43cc-8b9a-463155a500ed\",\"modelid\":\"4077f23d-eceb-4be2-a05f-51928c91421f\"}];\n",
       "            \n",
       "            Bokeh.embed.embed_items(docs_json, render_items);\n",
       "          };\n",
       "          if (document.readyState != \"loading\") fn();\n",
       "          else document.addEventListener(\"DOMContentLoaded\", fn);\n",
       "        })();\n",
       "      },\n",
       "      function(Bokeh) {\n",
       "      }\n",
       "    ];\n",
       "  \n",
       "    function run_inline_js() {\n",
       "      \n",
       "      if ((window.Bokeh !== undefined) || (force === true)) {\n",
       "        for (var i = 0; i < inline_js.length; i++) {\n",
       "          inline_js[i](window.Bokeh);\n",
       "        }if (force === true) {\n",
       "          display_loaded();\n",
       "        }} else if (Date.now() < window._bokeh_timeout) {\n",
       "        setTimeout(run_inline_js, 100);\n",
       "      } else if (!window._bokeh_failed_load) {\n",
       "        console.log(\"Bokeh: BokehJS failed to load within specified timeout.\");\n",
       "        window._bokeh_failed_load = true;\n",
       "      } else if (force !== true) {\n",
       "        var cell = $(document.getElementById(\"683874b5-d058-43cc-8b9a-463155a500ed\")).parents('.cell').data().cell;\n",
       "        cell.output_area.append_execute_result(NB_LOAD_WARNING)\n",
       "      }\n",
       "  \n",
       "    }\n",
       "  \n",
       "    if (window._bokeh_is_loading === 0) {\n",
       "      console.log(\"Bokeh: BokehJS loaded, going straight to plotting\");\n",
       "      run_inline_js();\n",
       "    } else {\n",
       "      load_libs(js_urls, function() {\n",
       "        console.log(\"Bokeh: BokehJS plotting callback run at\", now());\n",
       "        run_inline_js();\n",
       "      });\n",
       "    }\n",
       "  }(this));\n",
       "</script>"
      ]
     },
     "metadata": {},
     "output_type": "display_data"
    }
   ],
   "source": [
    "correct = ['Correct' if yi == yh_i else 'Incorrect' for yi, yh_i in zip(y, y_hat)]\n",
    "plot_svm_results(correct, clf.intercept_[0], clf.coef_[0][0], clf.coef_[0][1])"
   ]
  },
  {
   "cell_type": "markdown",
   "metadata": {
    "deletable": true,
    "editable": true,
    "slideshow": {
     "slide_type": "slide"
    }
   },
   "source": [
    "### Support Vector Machines a la Linear Optimization"
   ]
  },
  {
   "cell_type": "markdown",
   "metadata": {
    "deletable": true,
    "editable": true,
    "slideshow": {
     "slide_type": "subslide"
    }
   },
   "source": [
    "[`PuLP`](https://github.com/coin-or/pulp/) is a modeling tool that lets us solve anything of this form.\n",
    "\n",
    "$$\n",
    "\\begin{align}\n",
    "    \\text{min}  \\ \\ \\ & \\ c'x \\\\\n",
    "    \\text{s.t.} \\ \\ \\ & \\ A x = b \\\\\n",
    "                      & \\ x \\ge 0\n",
    "\\end{align}\n",
    "$$\n",
    "\n",
    "Where $c$ and $b$ are input vectors, $A$ is an input matrix, and $x$ is a vector of real-valued decision variables."
   ]
  },
  {
   "cell_type": "markdown",
   "metadata": {
    "deletable": true,
    "editable": true,
    "slideshow": {
     "slide_type": "fragment"
    }
   },
   "source": [
    "Linear Optimization is well solved. You can assume that a linear optimizer is robust and fast for any model in that form."
   ]
  },
  {
   "cell_type": "markdown",
   "metadata": {
    "deletable": true,
    "editable": true,
    "slideshow": {
     "slide_type": "fragment"
    }
   },
   "source": [
    "PuLP can also solve discrete models, which are not so computationally easy."
   ]
  },
  {
   "cell_type": "markdown",
   "metadata": {
    "deletable": true,
    "editable": true,
    "slideshow": {
     "slide_type": "subslide"
    }
   },
   "source": [
    "How do we get our SVM problem into a linear optimizer?\n",
    "\n",
    "#### Inputs:\n",
    "\n",
    "$$(x_{i1}, x_{i2})' = \\text{column vector of inputs for observation}\\ i$$  \n",
    "  \n",
    "$$y_i \\in \\{+1, -1\\} = \\text{known classification of observation}\\ i $$ "
   ]
  },
  {
   "cell_type": "markdown",
   "metadata": {
    "deletable": true,
    "editable": true,
    "slideshow": {
     "slide_type": "fragment"
    }
   },
   "source": [
    "#### Model:\n",
    "\n",
    "The decision variables $b$, $w_1$, and $w_2$, give us a separating hyperplane $b + w'x = 0$.\n",
    "\n",
    "For each _misclassified_ observation $i$, $\\xi_i$ is its classification error. We find the best hyperplane by minimizing total error.\n",
    "\n",
    "$$\n",
    "\\begin{align}\n",
    "    \\text{min}  \\ \\ \\ & \\ \\sum_i \\xi_i \\ & \\ \\\\\n",
    "    \\text{s.t.} \\ \\ \\ & \\ b + w_1 x_{i1} + w_2 x_{i2} \\le -1 + \\xi_i\\ & \\ \\forall\\ y_i = -1 \\\\\n",
    "                      & \\ b + w_1 x_{i1} + w_2 x_{i2} \\ge +1 - \\xi_i\\ & \\ \\forall\\ y_i = +1 \\\\\n",
    "                      & \\ \\xi \\ge 0\n",
    "\\end{align}\n",
    "$$"
   ]
  },
  {
   "cell_type": "markdown",
   "metadata": {
    "deletable": true,
    "editable": true,
    "slideshow": {
     "slide_type": "subslide"
    }
   },
   "source": [
    "We can simplify the model by multiplying each constraint by $y_i$.\n",
    "\n",
    "$$\n",
    "\\begin{align}\n",
    "    \\text{min}  \\ \\ \\ & \\ \\sum_i \\xi_i \\\\\n",
    "    \\text{s.t.} \\ \\ \\ & \\ y_i (b + w_1 x_{i1} + w_2 x_{i2}) \\ge 1 - \\xi_i\\ \\forall\\ i \\\\\n",
    "                      & \\ \\xi \\ge 0\n",
    "\\end{align}\n",
    "$$"
   ]
  },
  {
   "cell_type": "markdown",
   "metadata": {
    "deletable": true,
    "editable": true,
    "slideshow": {
     "slide_type": "subslide"
    }
   },
   "source": [
    "But wait! Constraints like $a'x \\ge b$ aren't in the form you gave us!"
   ]
  },
  {
   "cell_type": "markdown",
   "metadata": {
    "deletable": true,
    "editable": true,
    "slideshow": {
     "slide_type": "fragment"
    }
   },
   "source": [
    "That's OK. They get converted by the optimizer.\n",
    "\n",
    "$$a'x - e = b$$\n",
    "$$e \\ge 0$$"
   ]
  },
  {
   "cell_type": "markdown",
   "metadata": {
    "deletable": true,
    "editable": true,
    "slideshow": {
     "slide_type": "fragment"
    }
   },
   "source": [
    "So do constraints of the form $a'x \\le b$.\n",
    "\n",
    "$$a'x + s = b$$\n",
    "$$s \\ge 0$$"
   ]
  },
  {
   "cell_type": "markdown",
   "metadata": {
    "deletable": true,
    "editable": true,
    "slideshow": {
     "slide_type": "fragment"
    }
   },
   "source": [
    "As do any variables that are unrestricted in sign.\n",
    "\n",
    "$$x_i = x_i^+ - x_i^-$$\n",
    "$$x_i^+, x_i^- \\ge 0$$"
   ]
  },
  {
   "cell_type": "markdown",
   "metadata": {
    "deletable": true,
    "editable": true,
    "slideshow": {
     "slide_type": "fragment"
    }
   },
   "source": [
    "As long as your objective function is linear and your constraints are linear and of the form $=$, $\\le$, or $\\ge$, you can solve it with a linear optimizer."
   ]
  },
  {
   "cell_type": "markdown",
   "metadata": {
    "deletable": true,
    "editable": true,
    "slideshow": {
     "slide_type": "subslide"
    }
   },
   "source": [
    "Let's get hacking. First make variables for the separating hyperplane.\n",
    "\n",
    "Note these are _unrestricted in sign_."
   ]
  },
  {
   "cell_type": "code",
   "execution_count": 21,
   "metadata": {
    "collapsed": true,
    "deletable": true,
    "editable": true
   },
   "outputs": [],
   "source": [
    "import pulp\n",
    "\n",
    "b = pulp.LpVariable('b')\n",
    "w1 = pulp.LpVariable('w1')\n",
    "w2 = pulp.LpVariable('w2')"
   ]
  },
  {
   "cell_type": "markdown",
   "metadata": {
    "deletable": true,
    "editable": true,
    "slideshow": {
     "slide_type": "subslide"
    }
   },
   "source": [
    "We also need variables for the classification errors. \n",
    "\n",
    "These are nonnegative since we only want to penalize errors, not reward the model for correct classifiations."
   ]
  },
  {
   "cell_type": "code",
   "execution_count": 22,
   "metadata": {
    "collapsed": false,
    "deletable": true,
    "editable": true
   },
   "outputs": [],
   "source": [
    "errors = []\n",
    "for i in range(len(y)):\n",
    "    e = pulp.LpVariable('e_%d' % i, lowBound=0) # lowBound=0 means >=0\n",
    "    errors.append(e)"
   ]
  },
  {
   "cell_type": "markdown",
   "metadata": {
    "deletable": true,
    "editable": true,
    "slideshow": {
     "slide_type": "subslide"
    }
   },
   "source": [
    "Build a model that records classification error based on the separating hyperplane in the appropriate variables."
   ]
  },
  {
   "cell_type": "code",
   "execution_count": 23,
   "metadata": {
    "collapsed": true,
    "deletable": true,
    "editable": true
   },
   "outputs": [],
   "source": [
    "m = pulp.LpProblem(sense=pulp.LpMinimize)\n",
    "\n",
    "for x_i1, x_i2, y_i, e_i in zip(x1, x2, y, errors):\n",
    "    m += y_i * (b + w1 * x_i1 + w2 * x_i2) >= (1 - e_i)"
   ]
  },
  {
   "cell_type": "markdown",
   "metadata": {
    "deletable": true,
    "editable": true,
    "slideshow": {
     "slide_type": "subslide"
    }
   },
   "source": [
    "So far the model represents the feasible region of all possible separating hyperplanes.\n",
    "\n",
    "We want the _best_ one."
   ]
  },
  {
   "cell_type": "code",
   "execution_count": 24,
   "metadata": {
    "collapsed": false,
    "deletable": true,
    "editable": true
   },
   "outputs": [
    {
     "name": "stdout",
     "output_type": "stream",
     "text": [
      "b = -3.5456539\n",
      "w = [0.71991737, -0.64676861]\n"
     ]
    }
   ],
   "source": [
    "m.setObjective(sum(errors))\n",
    "assert m.solve() == pulp.LpStatusOptimal\n",
    "\n",
    "print('b =', b.value())\n",
    "print('w =', [w1.value(), w2.value()])"
   ]
  },
  {
   "cell_type": "markdown",
   "metadata": {
    "deletable": true,
    "editable": true,
    "slideshow": {
     "slide_type": "subslide"
    }
   },
   "source": [
    "We don't have a predict function, so let's build one."
   ]
  },
  {
   "cell_type": "code",
   "execution_count": 25,
   "metadata": {
    "collapsed": false,
    "deletable": true,
    "editable": true
   },
   "outputs": [
    {
     "name": "stdout",
     "output_type": "stream",
     "text": [
      "confusion matrix:\n"
     ]
    },
    {
     "data": {
      "text/plain": [
       "array([[117,   2],\n",
       "       [ 15,  16]])"
      ]
     },
     "execution_count": 25,
     "metadata": {},
     "output_type": "execute_result"
    }
   ],
   "source": [
    "def classify(xi_1, xi_2):\n",
    "    if b.value() + (w1.value() * xi_1) + (w2.value() * xi_2) >= 0:\n",
    "        return +1\n",
    "    return -1\n",
    "\n",
    "y_hat = [classify(xi_1, xi_2) for xi_1, xi_2 in zip(x1, x2)]\n",
    "\n",
    "print('confusion matrix:')\n",
    "metrics.confusion_matrix(y_true=y, y_pred=y_hat)"
   ]
  },
  {
   "cell_type": "markdown",
   "metadata": {
    "deletable": true,
    "editable": true,
    "slideshow": {
     "slide_type": "subslide"
    }
   },
   "source": [
    "How'd the linear optimizer do?"
   ]
  },
  {
   "cell_type": "code",
   "execution_count": 26,
   "metadata": {
    "collapsed": false,
    "deletable": true,
    "editable": true
   },
   "outputs": [
    {
     "data": {
      "text/html": [
       "\n",
       "\n",
       "    <div class=\"bk-root\">\n",
       "        <div class=\"bk-plotdiv\" id=\"7a2ad4d8-f39f-42fd-861b-ecbf9050a611\"></div>\n",
       "    </div>\n",
       "<script type=\"text/javascript\">\n",
       "  \n",
       "  (function(global) {\n",
       "    function now() {\n",
       "      return new Date();\n",
       "    }\n",
       "  \n",
       "    var force = false;\n",
       "  \n",
       "    if (typeof (window._bokeh_onload_callbacks) === \"undefined\" || force === true) {\n",
       "      window._bokeh_onload_callbacks = [];\n",
       "      window._bokeh_is_loading = undefined;\n",
       "    }\n",
       "  \n",
       "  \n",
       "    \n",
       "    if (typeof (window._bokeh_timeout) === \"undefined\" || force === true) {\n",
       "      window._bokeh_timeout = Date.now() + 0;\n",
       "      window._bokeh_failed_load = false;\n",
       "    }\n",
       "  \n",
       "    var NB_LOAD_WARNING = {'data': {'text/html':\n",
       "       \"<div style='background-color: #fdd'>\\n\"+\n",
       "       \"<p>\\n\"+\n",
       "       \"BokehJS does not appear to have successfully loaded. If loading BokehJS from CDN, this \\n\"+\n",
       "       \"may be due to a slow or bad network connection. Possible fixes:\\n\"+\n",
       "       \"</p>\\n\"+\n",
       "       \"<ul>\\n\"+\n",
       "       \"<li>re-rerun `output_notebook()` to attempt to load from CDN again, or</li>\\n\"+\n",
       "       \"<li>use INLINE resources instead, as so:</li>\\n\"+\n",
       "       \"</ul>\\n\"+\n",
       "       \"<code>\\n\"+\n",
       "       \"from bokeh.resources import INLINE\\n\"+\n",
       "       \"output_notebook(resources=INLINE)\\n\"+\n",
       "       \"</code>\\n\"+\n",
       "       \"</div>\"}};\n",
       "  \n",
       "    function display_loaded() {\n",
       "      if (window.Bokeh !== undefined) {\n",
       "        document.getElementById(\"7a2ad4d8-f39f-42fd-861b-ecbf9050a611\").textContent = \"BokehJS successfully loaded.\";\n",
       "      } else if (Date.now() < window._bokeh_timeout) {\n",
       "        setTimeout(display_loaded, 100)\n",
       "      }\n",
       "    }\n",
       "  \n",
       "    function run_callbacks() {\n",
       "      window._bokeh_onload_callbacks.forEach(function(callback) { callback() });\n",
       "      delete window._bokeh_onload_callbacks\n",
       "      console.info(\"Bokeh: all callbacks have finished\");\n",
       "    }\n",
       "  \n",
       "    function load_libs(js_urls, callback) {\n",
       "      window._bokeh_onload_callbacks.push(callback);\n",
       "      if (window._bokeh_is_loading > 0) {\n",
       "        console.log(\"Bokeh: BokehJS is being loaded, scheduling callback at\", now());\n",
       "        return null;\n",
       "      }\n",
       "      if (js_urls == null || js_urls.length === 0) {\n",
       "        run_callbacks();\n",
       "        return null;\n",
       "      }\n",
       "      console.log(\"Bokeh: BokehJS not loaded, scheduling load and callback at\", now());\n",
       "      window._bokeh_is_loading = js_urls.length;\n",
       "      for (var i = 0; i < js_urls.length; i++) {\n",
       "        var url = js_urls[i];\n",
       "        var s = document.createElement('script');\n",
       "        s.src = url;\n",
       "        s.async = false;\n",
       "        s.onreadystatechange = s.onload = function() {\n",
       "          window._bokeh_is_loading--;\n",
       "          if (window._bokeh_is_loading === 0) {\n",
       "            console.log(\"Bokeh: all BokehJS libraries loaded\");\n",
       "            run_callbacks()\n",
       "          }\n",
       "        };\n",
       "        s.onerror = function() {\n",
       "          console.warn(\"failed to load library \" + url);\n",
       "        };\n",
       "        console.log(\"Bokeh: injecting script tag for BokehJS library: \", url);\n",
       "        document.getElementsByTagName(\"head\")[0].appendChild(s);\n",
       "      }\n",
       "    };var element = document.getElementById(\"7a2ad4d8-f39f-42fd-861b-ecbf9050a611\");\n",
       "    if (element == null) {\n",
       "      console.log(\"Bokeh: ERROR: autoload.js configured with elementid '7a2ad4d8-f39f-42fd-861b-ecbf9050a611' but no matching script tag was found. \")\n",
       "      return false;\n",
       "    }\n",
       "  \n",
       "    var js_urls = [];\n",
       "  \n",
       "    var inline_js = [\n",
       "      function(Bokeh) {\n",
       "        (function() {\n",
       "          var fn = function() {\n",
       "            var docs_json = {\"481224a5-77b1-4423-8aa3-bbe08e121cfb\":{\"roots\":{\"references\":[{\"attributes\":{\"dimension\":1,\"plot\":{\"id\":\"8c3f61a3-2a53-4d30-9036-2e38435890b8\",\"subtype\":\"Chart\",\"type\":\"Plot\"},\"ticker\":{\"id\":\"4010b39c-f2dc-4602-bf92-8a5821c7e934\",\"type\":\"BasicTicker\"}},\"id\":\"135fc993-0e74-4d14-9b2f-2a153b01d0d2\",\"type\":\"Grid\"},{\"attributes\":{\"fill_alpha\":{\"value\":0.7},\"fill_color\":{\"value\":\"lightgrey\"},\"line_color\":{\"value\":\"lightgrey\"},\"size\":{\"units\":\"screen\",\"value\":8},\"x\":{\"field\":\"x_values\"},\"y\":{\"field\":\"y_values\"}},\"id\":\"30aceee6-9fb8-4c6b-92a8-4a1c56e62aff\",\"type\":\"Circle\"},{\"attributes\":{},\"id\":\"6e160b4e-e40c-4707-9d6e-19ab66c1731c\",\"type\":\"ToolEvents\"},{\"attributes\":{\"callback\":null,\"column_names\":[\"x\",\"y\"],\"data\":{\"x\":{\"__ndarray__\":\"AAAAAAAAAACIxvrQWB/KP4jG+tBYH9o/5hS8nIKX4z+IxvrQWB/qPxW8nIKXU/A/5hS8nIKX8z+3bdu2bdv2P4jG+tBYH/o/WR8a60Nj/T8VvJyCl1MAQH5orA+N9QFA5hS8nIKXA0BOwcspeDkFQLdt27Zt2wZAIBrrQ2N9CECIxvrQWB8KQPByCl5OwQtAWR8a60NjDUDCyyl4OQUPQBW8nIKXUxBASZIkSZIkEUB+aKwPjfURQLI+NNaHxhJA5hS8nIKXE0Aa60NjfWgUQE7Byyl4ORVAg5dT8HIKFkC3bdu2bdsWQOtDY31orBdAIBrrQ2N9GEBU8HIKXk4ZQIjG+tBYHxpAvJyCl1PwGkDwcgpeTsEbQCVJkiRJkhxAWR8a60NjHUCN9aGxPjQeQMLLKXg5BR9A9qGxPjTWH0AVvJyCl1MgQC+n4OUUvCBASZIkSZIkIUBjfWisD40hQH5orA+N9SFAmFPwcgpeIkCyPjTWh8YiQMwpeDkFLyNA5hS8nIKXI0AAAAAAAAAkQA==\",\"dtype\":\"float64\",\"shape\":[50]},\"y\":[-5.482105725570077,-5.254942703164122,-5.027779680758169,-4.800616658352213,-4.57345363594626,-4.346290613540305,-4.119127591134351,-3.8919645687283966,-3.6648015463224417,-3.4376385239164873,-3.2104755015105333,-2.9833124791045784,-2.7561494566986244,-2.5289864342926704,-2.301823411886716,-2.074660389480761,-1.8474973670748074,-1.6203343446688527,-1.3931713222628979,-1.1660082998569432,-0.9388452774509893,-0.7116822550450354,-0.48451923263908,-0.257356210233126,-0.030193187827172042,0.19696983457878192,0.4241328569847366,0.6512958793906912,0.8784589017966452,1.1056219242026,1.3327849466085546,1.5599479690145093,1.7871109914204626,2.0142740138264172,2.2414370362323717,2.4686000586383265,2.695763081044281,2.9229261034502345,3.1500891258561903,3.377252148262144,3.6044151706680982,3.831578193074052,4.058741215480007,4.285904237885961,4.513067260291917,4.74023028269787,4.967393305103825,5.19455632750978,5.421719349915733,5.648882372321688]}},\"id\":\"e26caffe-79ec-4ecf-8609-7e05eaab8c2c\",\"type\":\"ColumnDataSource\"},{\"attributes\":{},\"id\":\"4010b39c-f2dc-4602-bf92-8a5821c7e934\",\"type\":\"BasicTicker\"},{\"attributes\":{\"active_drag\":\"auto\",\"active_scroll\":\"auto\",\"active_tap\":\"auto\",\"tools\":[{\"id\":\"296441ef-43dc-4440-9dde-d50859555d34\",\"type\":\"PanTool\"},{\"id\":\"777441c2-5852-417f-92eb-103600e857d6\",\"type\":\"WheelZoomTool\"},{\"id\":\"641afa1f-fa42-4d55-83d4-91797919591f\",\"type\":\"BoxZoomTool\"},{\"id\":\"f78fade9-7dcc-4e0b-9426-e87b68f3c321\",\"type\":\"SaveTool\"},{\"id\":\"3d9a4e47-1039-4c39-89c8-601b5e77055d\",\"type\":\"ResetTool\"},{\"id\":\"1c2f024c-592b-4d45-bd5e-7cdcd872b581\",\"type\":\"HelpTool\"}]},\"id\":\"2e99c571-d27b-4ac3-a4f5-cbf9c1a9ec5c\",\"type\":\"Toolbar\"},{\"attributes\":{\"plot\":{\"id\":\"8c3f61a3-2a53-4d30-9036-2e38435890b8\",\"subtype\":\"Chart\",\"type\":\"Plot\"},\"ticker\":{\"id\":\"2d055a44-5a23-46ec-a3a0-fb8a5fed74b6\",\"type\":\"BasicTicker\"}},\"id\":\"68b67385-1051-4d39-90a8-e4d59807d9df\",\"type\":\"Grid\"},{\"attributes\":{\"bottom_units\":\"screen\",\"fill_alpha\":{\"value\":0.5},\"fill_color\":{\"value\":\"lightgrey\"},\"left_units\":\"screen\",\"level\":\"overlay\",\"line_alpha\":{\"value\":1.0},\"line_color\":{\"value\":\"black\"},\"line_dash\":[4,4],\"line_width\":{\"value\":2},\"plot\":null,\"render_mode\":\"css\",\"right_units\":\"screen\",\"top_units\":\"screen\"},\"id\":\"648c92d0-d37f-4474-bada-3c5558ecf9f1\",\"type\":\"BoxAnnotation\"},{\"attributes\":{\"data_source\":{\"id\":\"9d68a5ab-4935-4fd4-bde0-74f4f46d4a80\",\"type\":\"ColumnDataSource\"},\"glyph\":{\"id\":\"30aceee6-9fb8-4c6b-92a8-4a1c56e62aff\",\"type\":\"Circle\"},\"hover_glyph\":null,\"nonselection_glyph\":null,\"selection_glyph\":null},\"id\":\"d19f8454-f3c2-4f40-9efc-9fc051ec3ff6\",\"type\":\"GlyphRenderer\"},{\"attributes\":{\"plot\":null,\"text\":null},\"id\":\"6c28ae0a-d1d8-46f7-b67d-cccf80e27736\",\"type\":\"Title\"},{\"attributes\":{\"label\":{\"value\":\"Incorrect\"},\"renderers\":[{\"id\":\"53e715b7-33bc-4955-938d-de188a400456\",\"type\":\"GlyphRenderer\"}]},\"id\":\"84b66183-415d-4513-9783-6c75ceb2ef36\",\"type\":\"LegendItem\"},{\"attributes\":{\"axis_label\":\"x2\",\"formatter\":{\"id\":\"9ccb40eb-a802-4d3c-8da6-a9abbdfbbdcc\",\"type\":\"BasicTickFormatter\"},\"plot\":{\"id\":\"8c3f61a3-2a53-4d30-9036-2e38435890b8\",\"subtype\":\"Chart\",\"type\":\"Plot\"},\"ticker\":{\"id\":\"4010b39c-f2dc-4602-bf92-8a5821c7e934\",\"type\":\"BasicTicker\"}},\"id\":\"2e76c3bf-1e40-43c5-ac90-026f2734363e\",\"type\":\"LinearAxis\"},{\"attributes\":{\"plot\":{\"id\":\"8c3f61a3-2a53-4d30-9036-2e38435890b8\",\"subtype\":\"Chart\",\"type\":\"Plot\"}},\"id\":\"296441ef-43dc-4440-9dde-d50859555d34\",\"type\":\"PanTool\"},{\"attributes\":{\"label\":{\"value\":\"Correct\"},\"renderers\":[{\"id\":\"d19f8454-f3c2-4f40-9efc-9fc051ec3ff6\",\"type\":\"GlyphRenderer\"}]},\"id\":\"68c280a1-240b-4bec-bfb4-f2fc65661b60\",\"type\":\"LegendItem\"},{\"attributes\":{\"axis_label\":\"x1\",\"formatter\":{\"id\":\"47e91c88-5363-4f15-8de1-08fd5f56d507\",\"type\":\"BasicTickFormatter\"},\"plot\":{\"id\":\"8c3f61a3-2a53-4d30-9036-2e38435890b8\",\"subtype\":\"Chart\",\"type\":\"Plot\"},\"ticker\":{\"id\":\"2d055a44-5a23-46ec-a3a0-fb8a5fed74b6\",\"type\":\"BasicTicker\"}},\"id\":\"9d381c26-e783-498a-b835-6fe1743473f9\",\"type\":\"LinearAxis\"},{\"attributes\":{\"plot\":{\"id\":\"8c3f61a3-2a53-4d30-9036-2e38435890b8\",\"subtype\":\"Chart\",\"type\":\"Plot\"}},\"id\":\"777441c2-5852-417f-92eb-103600e857d6\",\"type\":\"WheelZoomTool\"},{\"attributes\":{\"overlay\":{\"id\":\"648c92d0-d37f-4474-bada-3c5558ecf9f1\",\"type\":\"BoxAnnotation\"},\"plot\":{\"id\":\"8c3f61a3-2a53-4d30-9036-2e38435890b8\",\"subtype\":\"Chart\",\"type\":\"Plot\"}},\"id\":\"641afa1f-fa42-4d55-83d4-91797919591f\",\"type\":\"BoxZoomTool\"},{\"attributes\":{\"plot\":{\"id\":\"8c3f61a3-2a53-4d30-9036-2e38435890b8\",\"subtype\":\"Chart\",\"type\":\"Plot\"}},\"id\":\"f78fade9-7dcc-4e0b-9426-e87b68f3c321\",\"type\":\"SaveTool\"},{\"attributes\":{\"plot\":{\"id\":\"8c3f61a3-2a53-4d30-9036-2e38435890b8\",\"subtype\":\"Chart\",\"type\":\"Plot\"}},\"id\":\"3d9a4e47-1039-4c39-89c8-601b5e77055d\",\"type\":\"ResetTool\"},{\"attributes\":{\"plot\":{\"id\":\"8c3f61a3-2a53-4d30-9036-2e38435890b8\",\"subtype\":\"Chart\",\"type\":\"Plot\"}},\"id\":\"1c2f024c-592b-4d45-bd5e-7cdcd872b581\",\"type\":\"HelpTool\"},{\"attributes\":{},\"id\":\"2d055a44-5a23-46ec-a3a0-fb8a5fed74b6\",\"type\":\"BasicTicker\"},{\"attributes\":{\"line_alpha\":{\"value\":0.1},\"line_color\":{\"value\":\"#1f77b4\"},\"x\":{\"field\":\"x\"},\"y\":{\"field\":\"y\"}},\"id\":\"d1d77a48-310c-4810-a4cd-bff411ce00c3\",\"type\":\"Line\"},{\"attributes\":{\"line_color\":{\"value\":\"darkblue\"},\"x\":{\"field\":\"x\"},\"y\":{\"field\":\"y\"}},\"id\":\"f4246cb2-5b7d-47da-be05-71ae8c9b38d5\",\"type\":\"Line\"},{\"attributes\":{\"fill_alpha\":{\"value\":0.7},\"fill_color\":{\"value\":\"darkred\"},\"line_color\":{\"value\":\"darkred\"},\"size\":{\"units\":\"screen\",\"value\":8},\"x\":{\"field\":\"x_values\"},\"y\":{\"field\":\"y_values\"}},\"id\":\"0003c662-2e0c-4da4-aee9-c7312b40ab7b\",\"type\":\"Square\"},{\"attributes\":{\"data_source\":{\"id\":\"af47e568-9991-4e20-bb73-ddfebb9f5f58\",\"type\":\"ColumnDataSource\"},\"glyph\":{\"id\":\"0003c662-2e0c-4da4-aee9-c7312b40ab7b\",\"type\":\"Square\"},\"hover_glyph\":null,\"nonselection_glyph\":null,\"selection_glyph\":null},\"id\":\"53e715b7-33bc-4955-938d-de188a400456\",\"type\":\"GlyphRenderer\"},{\"attributes\":{\"callback\":null,\"column_names\":[\"x_values\",\"y_values\"],\"data\":{\"chart_index\":[{\"correct\":\"Incorrect\"},{\"correct\":\"Incorrect\"},{\"correct\":\"Incorrect\"},{\"correct\":\"Incorrect\"},{\"correct\":\"Incorrect\"},{\"correct\":\"Incorrect\"},{\"correct\":\"Incorrect\"},{\"correct\":\"Incorrect\"},{\"correct\":\"Incorrect\"},{\"correct\":\"Incorrect\"},{\"correct\":\"Incorrect\"},{\"correct\":\"Incorrect\"},{\"correct\":\"Incorrect\"},{\"correct\":\"Incorrect\"},{\"correct\":\"Incorrect\"},{\"correct\":\"Incorrect\"},{\"correct\":\"Incorrect\"}],\"correct\":[\"Incorrect\",\"Incorrect\",\"Incorrect\",\"Incorrect\",\"Incorrect\",\"Incorrect\",\"Incorrect\",\"Incorrect\",\"Incorrect\",\"Incorrect\",\"Incorrect\",\"Incorrect\",\"Incorrect\",\"Incorrect\",\"Incorrect\",\"Incorrect\",\"Incorrect\"],\"x_values\":{\"__ndarray__\":\"ajdrgseZFUCqIzLX83MLQGnUsZ43qhFAusScuK/aHUBdVVOIRtoZQMMP2VgWiiJAx7DmRxHbIEDOXzNxRY0gQKyycr+lhCFAcpL9e6pPIkBzGhI4GDAjQFIJ0s8bZhZAOtd0v3ixFkDOD0ndAechQAGYKK/IdR1APM8P0dRbGEDvAqg+rvMiQA==\",\"dtype\":\"float64\",\"shape\":[17]},\"y_values\":{\"__ndarray__\":\"Yz740Pbh9j8mrjs7ivvlP6rREl1H9uw/eCGELw/WDUD2dhTaHSYFQFuPpkJCKxhAIk3fH2ZREUAkM1keFSIXQAyCw7guqxlATj9qTExDFEB6SgrSwOcXQCvVovFyigNAYTqD4W6JAUBpuYTctegQQJZPrFafwwtAyEtGig5LAEC5M9WeOXYTQA==\",\"dtype\":\"float64\",\"shape\":[17]}}},\"id\":\"af47e568-9991-4e20-bb73-ddfebb9f5f58\",\"type\":\"ColumnDataSource\"},{\"attributes\":{\"callback\":null,\"end\":10.98985219725301,\"start\":-0.921907827012665},\"id\":\"9c8c2cb5-dd3a-4aba-a518-c4538895a870\",\"type\":\"Range1d\"},{\"attributes\":{\"data_source\":{\"id\":\"e26caffe-79ec-4ecf-8609-7e05eaab8c2c\",\"type\":\"ColumnDataSource\"},\"glyph\":{\"id\":\"f4246cb2-5b7d-47da-be05-71ae8c9b38d5\",\"type\":\"Line\"},\"hover_glyph\":null,\"nonselection_glyph\":{\"id\":\"d1d77a48-310c-4810-a4cd-bff411ce00c3\",\"type\":\"Line\"},\"selection_glyph\":null},\"id\":\"d15adcaa-ff76-4673-a333-82640d86f734\",\"type\":\"GlyphRenderer\"},{\"attributes\":{},\"id\":\"47e91c88-5363-4f15-8de1-08fd5f56d507\",\"type\":\"BasicTickFormatter\"},{\"attributes\":{\"below\":[{\"id\":\"9d381c26-e783-498a-b835-6fe1743473f9\",\"type\":\"LinearAxis\"}],\"css_classes\":null,\"height\":500,\"left\":[{\"id\":\"2e76c3bf-1e40-43c5-ac90-026f2734363e\",\"type\":\"LinearAxis\"}],\"renderers\":[{\"id\":\"648c92d0-d37f-4474-bada-3c5558ecf9f1\",\"type\":\"BoxAnnotation\"},{\"id\":\"53e715b7-33bc-4955-938d-de188a400456\",\"type\":\"GlyphRenderer\"},{\"id\":\"d19f8454-f3c2-4f40-9efc-9fc051ec3ff6\",\"type\":\"GlyphRenderer\"},{\"id\":\"122a3252-40c1-495e-bad0-07b92827f275\",\"type\":\"Legend\"},{\"id\":\"9d381c26-e783-498a-b835-6fe1743473f9\",\"type\":\"LinearAxis\"},{\"id\":\"2e76c3bf-1e40-43c5-ac90-026f2734363e\",\"type\":\"LinearAxis\"},{\"id\":\"68b67385-1051-4d39-90a8-e4d59807d9df\",\"type\":\"Grid\"},{\"id\":\"135fc993-0e74-4d14-9b2f-2a153b01d0d2\",\"type\":\"Grid\"},{\"id\":\"d15adcaa-ff76-4673-a333-82640d86f734\",\"type\":\"GlyphRenderer\"}],\"title\":{\"id\":\"6c28ae0a-d1d8-46f7-b67d-cccf80e27736\",\"type\":\"Title\"},\"tool_events\":{\"id\":\"6e160b4e-e40c-4707-9d6e-19ab66c1731c\",\"type\":\"ToolEvents\"},\"toolbar\":{\"id\":\"2e99c571-d27b-4ac3-a4f5-cbf9c1a9ec5c\",\"type\":\"Toolbar\"},\"width\":500,\"x_mapper_type\":\"auto\",\"x_range\":{\"id\":\"9c8c2cb5-dd3a-4aba-a518-c4538895a870\",\"type\":\"Range1d\"},\"y_mapper_type\":\"auto\",\"y_range\":{\"id\":\"fd9b926e-a188-4f8f-bfec-abb2f1c2d5a2\",\"type\":\"Range1d\"}},\"id\":\"8c3f61a3-2a53-4d30-9036-2e38435890b8\",\"subtype\":\"Chart\",\"type\":\"Plot\"},{\"attributes\":{},\"id\":\"9ccb40eb-a802-4d3c-8da6-a9abbdfbbdcc\",\"type\":\"BasicTickFormatter\"},{\"attributes\":{\"callback\":null,\"column_names\":[\"x_values\",\"y_values\"],\"data\":{\"chart_index\":[{\"correct\":\"Correct\"},{\"correct\":\"Correct\"},{\"correct\":\"Correct\"},{\"correct\":\"Correct\"},{\"correct\":\"Correct\"},{\"correct\":\"Correct\"},{\"correct\":\"Correct\"},{\"correct\":\"Correct\"},{\"correct\":\"Correct\"},{\"correct\":\"Correct\"},{\"correct\":\"Correct\"},{\"correct\":\"Correct\"},{\"correct\":\"Correct\"},{\"correct\":\"Correct\"},{\"correct\":\"Correct\"},{\"correct\":\"Correct\"},{\"correct\":\"Correct\"},{\"correct\":\"Correct\"},{\"correct\":\"Correct\"},{\"correct\":\"Correct\"},{\"correct\":\"Correct\"},{\"correct\":\"Correct\"},{\"correct\":\"Correct\"},{\"correct\":\"Correct\"},{\"correct\":\"Correct\"},{\"correct\":\"Correct\"},{\"correct\":\"Correct\"},{\"correct\":\"Correct\"},{\"correct\":\"Correct\"},{\"correct\":\"Correct\"},{\"correct\":\"Correct\"},{\"correct\":\"Correct\"},{\"correct\":\"Correct\"},{\"correct\":\"Correct\"},{\"correct\":\"Correct\"},{\"correct\":\"Correct\"},{\"correct\":\"Correct\"},{\"correct\":\"Correct\"},{\"correct\":\"Correct\"},{\"correct\":\"Correct\"},{\"correct\":\"Correct\"},{\"correct\":\"Correct\"},{\"correct\":\"Correct\"},{\"correct\":\"Correct\"},{\"correct\":\"Correct\"},{\"correct\":\"Correct\"},{\"correct\":\"Correct\"},{\"correct\":\"Correct\"},{\"correct\":\"Correct\"},{\"correct\":\"Correct\"},{\"correct\":\"Correct\"},{\"correct\":\"Correct\"},{\"correct\":\"Correct\"},{\"correct\":\"Correct\"},{\"correct\":\"Correct\"},{\"correct\":\"Correct\"},{\"correct\":\"Correct\"},{\"correct\":\"Correct\"},{\"correct\":\"Correct\"},{\"correct\":\"Correct\"},{\"correct\":\"Correct\"},{\"correct\":\"Correct\"},{\"correct\":\"Correct\"},{\"correct\":\"Correct\"},{\"correct\":\"Correct\"},{\"correct\":\"Correct\"},{\"correct\":\"Correct\"},{\"correct\":\"Correct\"},{\"correct\":\"Correct\"},{\"correct\":\"Correct\"},{\"correct\":\"Correct\"},{\"correct\":\"Correct\"},{\"correct\":\"Correct\"},{\"correct\":\"Correct\"},{\"correct\":\"Correct\"},{\"correct\":\"Correct\"},{\"correct\":\"Correct\"},{\"correct\":\"Correct\"},{\"correct\":\"Correct\"},{\"correct\":\"Correct\"},{\"correct\":\"Correct\"},{\"correct\":\"Correct\"},{\"correct\":\"Correct\"},{\"correct\":\"Correct\"},{\"correct\":\"Correct\"},{\"correct\":\"Correct\"},{\"correct\":\"Correct\"},{\"correct\":\"Correct\"},{\"correct\":\"Correct\"},{\"correct\":\"Correct\"},{\"correct\":\"Correct\"},{\"correct\":\"Correct\"},{\"correct\":\"Correct\"},{\"correct\":\"Correct\"},{\"correct\":\"Correct\"},{\"correct\":\"Correct\"},{\"correct\":\"Correct\"},{\"correct\":\"Correct\"},{\"correct\":\"Correct\"},{\"correct\":\"Correct\"},{\"correct\":\"Correct\"},{\"correct\":\"Correct\"},{\"correct\":\"Correct\"},{\"correct\":\"Correct\"},{\"correct\":\"Correct\"},{\"correct\":\"Correct\"},{\"correct\":\"Correct\"},{\"correct\":\"Correct\"},{\"correct\":\"Correct\"},{\"correct\":\"Correct\"},{\"correct\":\"Correct\"},{\"correct\":\"Correct\"},{\"correct\":\"Correct\"},{\"correct\":\"Correct\"},{\"correct\":\"Correct\"},{\"correct\":\"Correct\"},{\"correct\":\"Correct\"},{\"correct\":\"Correct\"},{\"correct\":\"Correct\"},{\"correct\":\"Correct\"},{\"correct\":\"Correct\"},{\"correct\":\"Correct\"},{\"correct\":\"Correct\"},{\"correct\":\"Correct\"},{\"correct\":\"Correct\"},{\"correct\":\"Correct\"},{\"correct\":\"Correct\"},{\"correct\":\"Correct\"},{\"correct\":\"Correct\"},{\"correct\":\"Correct\"},{\"correct\":\"Correct\"},{\"correct\":\"Correct\"},{\"correct\":\"Correct\"}],\"correct\":[\"Correct\",\"Correct\",\"Correct\",\"Correct\",\"Correct\",\"Correct\",\"Correct\",\"Correct\",\"Correct\",\"Correct\",\"Correct\",\"Correct\",\"Correct\",\"Correct\",\"Correct\",\"Correct\",\"Correct\",\"Correct\",\"Correct\",\"Correct\",\"Correct\",\"Correct\",\"Correct\",\"Correct\",\"Correct\",\"Correct\",\"Correct\",\"Correct\",\"Correct\",\"Correct\",\"Correct\",\"Correct\",\"Correct\",\"Correct\",\"Correct\",\"Correct\",\"Correct\",\"Correct\",\"Correct\",\"Correct\",\"Correct\",\"Correct\",\"Correct\",\"Correct\",\"Correct\",\"Correct\",\"Correct\",\"Correct\",\"Correct\",\"Correct\",\"Correct\",\"Correct\",\"Correct\",\"Correct\",\"Correct\",\"Correct\",\"Correct\",\"Correct\",\"Correct\",\"Correct\",\"Correct\",\"Correct\",\"Correct\",\"Correct\",\"Correct\",\"Correct\",\"Correct\",\"Correct\",\"Correct\",\"Correct\",\"Correct\",\"Correct\",\"Correct\",\"Correct\",\"Correct\",\"Correct\",\"Correct\",\"Correct\",\"Correct\",\"Correct\",\"Correct\",\"Correct\",\"Correct\",\"Correct\",\"Correct\",\"Correct\",\"Correct\",\"Correct\",\"Correct\",\"Correct\",\"Correct\",\"Correct\",\"Correct\",\"Correct\",\"Correct\",\"Correct\",\"Correct\",\"Correct\",\"Correct\",\"Correct\",\"Correct\",\"Correct\",\"Correct\",\"Correct\",\"Correct\",\"Correct\",\"Correct\",\"Correct\",\"Correct\",\"Correct\",\"Correct\",\"Correct\",\"Correct\",\"Correct\",\"Correct\",\"Correct\",\"Correct\",\"Correct\",\"Correct\",\"Correct\",\"Correct\",\"Correct\",\"Correct\",\"Correct\",\"Correct\",\"Correct\",\"Correct\",\"Correct\",\"Correct\",\"Correct\",\"Correct\",\"Correct\",\"Correct\"],\"x_values\":{\"__ndarray__\":\"Qx4TTDHdEkCy1zgEDX4KQBiol2/tmQVA6KWDlXT6BEDsbPx6C0HqP1/Jx9evrwlAsJt+vNOQC0CGoAzGHFsTQO/EMtDTkSFA3xn7BNmBIUCPmUBlxhkeQGcfXNJ0ghNAEdWVlvZVI0Boztm6zEkhQCBbB/+hm/0/cQLg83DtIUAgtSvQFf4VQDuSlsKmqB9AD549HDulE0BqY4wOCKT9P0DCIlmCQdM/2W5Qo0z/F0BvGKjYSY4eQEKw7G4jkPI/sOaYXzpSF0ANLae6g9EjQNgcBXYFncA/2CFJrOFJEkCAjpqxfF8UQAyoNa+b+iNAmPtVUTaNwD845kU2DdsjQP5B1jCSSxxAoFKO0/Absj+qnxFUBesJQMgO7+rb9NQ/DIf9Ksde2T/EQuVMGAQSQKsw4Qml0yFAu7iMIMD7I0ANcgm6ytcaQFJegFstdhVANEewwgVOEUAUBHOJy0cCQEbzBSDkK+M/9ENAwF9vEUBz2f0GjvogQBAk2vTDOBhAEw21BiJoIEA5RskUve0gQLOqm2eDfiJAr1bwoyt1D0BQ3Jd0FX++PyUoR8yEXANAYWVIyoczIEA+jaCbhRchQM6ugB6TMu4/Pq2sH8Re9j+Z5IRwkjQVQFKtqYoauCFAxNId3CJX3T/c4GNrQcYEQH6y1AtS9Os/HHAmnXzLGkA/S8ZmHzsXQFdXVAQeKRtAAt2qhq5s/z+1JRm5kf4jQEoeMLVS5w1ARJhirYk6+D99oVVk4PMgQNCHyCyZgsQ/ozGrL/ubF0BBaE+tIrwbQLyNT8TXgNw/09yFABrhE0CALSWVwAPKPyqa/AfEtQxAfmwiRMiZ7z8YYwoM5+sgQGaMXFhGAQFAoJD4EYa5GUBke5zyqQMeQG2SQRYYFfc/0V5KJdiW9D8tF7PyM80ZQDStn3MBXyBAnrpxgR0WIECnKcTrVDQeQKTITRoOdhlAXIFBFTbGAEAOeE5vH10MQIfrBxjXlRlAIGKPQy6QE0CS1+sWuj4aQLwon5pTcRZAZBFdyCYSEkA3sorSxrAVQABv3H4cTCJARhdGdW0YGkBx1NP2mqMPQMos5fjujAFASg9liqMJDEBV4iZOkfogQDu9Ze0eJBZAFD9CYdwwEkBNgz0SuC0eQNB3HLV7g+Q/fikUEOvZAUDmGN2v8vscQL7IMG6Hah9AbcCAloNWFEBCXtK4XiIUQP2SisTAV/w/5hQ+pNQhGUCAa2cQKh0ZQBYDGz6o1QdAqlFnommmGUAs49hXZZcDQBau6cyfxfA/ZAbDMHsxCEBI/MX8m6EaQPcJZ/0l1CJArD0N6frSFUDbUqSR2yQgQJFut+yewRRAqn0zR7waEkD+me0B7Q4SQJTtBTUdN9w/+BMUl29rGUBkuu/Y4uwDQFHQGSIOCCFA8oql4Jh7AkA=\",\"dtype\":\"float64\",\"shape\":[133]},\"y_values\":{\"__ndarray__\":\"fS99UgTZHkATXrimua0jQL1M8rn9SSFAfLHHYV07CEDX/44m3OkiQHphKKyEhw1APio5M47UGkA7UMYTMVQAQHnPT/xay/I/Wr5bUv3Q7z/jCempX2ghQHK2HHDAWR9Ay+Cy5sbzHEAg7ErcvJ/gP4etjPFODgNAaBI9X1Cr7z/MniWg+eIPQOhiQ0VwNiFA10pAbFyy/T+wHStM6BvbP7Yp6125KOg/Z4i+RBSS+z9fTcSuJIoIQOKhbc320OQ/Tt724QNZA0BCnT2zOWAcQPa9xLNXNgVAKJp+rNQmwj/b2Pup6Sz3P6Mm9EBXEyBABrxLit73EUDMuC1m+SUbQKq4GYazHhRAtEnZv7YSC0DObjD07aUUQCMiRXq6kiBAlB4CtkJi6D8OeY21MhIjQKAd2b/um7k/7GJEmgCU1T/bZtTLjj4JQGoy1mdISgBA8r4lSw4VIUCOo8FQBo4UQPYZIP+KpiBAKND+f8EgGkDC77pBLJ4hQHoBhX8fkvk/dHv6Q8j2HkDJf3648mkYQLaBhuEuvBlAAFBKsCxMBECAfhBzRmYFQEn2+EiuAyJA6mHrXGewG0AnWRhvdKohQMITsebFDA1AQ0bgo45sEUCXz8dZsmsjQAZZJFMkFyBA0tKG6XPFEkBLwKJudv8hQGDprZsEPhhACJSkmo6gC0AZoDOYYjIYQAD4CExDFgtAyiQwpyMLAkAkZUY9uT4MQCwFGxkIjBdAB6OapRGvIUDoRd2QqNkgQPJgWmmlb/U/poOpeQ+U+T/gL2+fwxHmP/xsyLBTVBZAXtuk8z9yHUB+7vsjWJoJQPNlrO/cbBZAeqHpc6qNBUCcstXCiYIBQKbddcQNhxhAf7s/ddVxH0Dm6VPsI1YiQGm/gBXmfBRARXCIgrdX9z9R34+drhIIQJoVW/8INBFAPyU/ir6s+z8PHTG8dLoaQHhdWKmv8+s/tPwnIOCRHEAwEf2er4QZQNAH9oXGmQlABou1b5JsEkAe7K74mwwUQMyV5QjRndg/vf35nbMZFkCVo+qYwSkTQAiNrfT8hgdAVgRR+D/oFEAA6AuEsawhQOur8MRpmR1AWSQTCDf+HkDyYXNKR0shQFbPOAXn/yNAsAvqIceJI0Akcguy/ZUIQOrFwR4DhB1ArEgyi0pSHkDAqAJ7CXu8P2Nk5OZ96v0/cJo/S9DRCkAoWrTiqgwjQHBH4+LxnBBAAPM88DtRH0Cg6v9kDesOQCQZdTcSWghAWrNgRfM2GUCzfhrCd9EXQBSGpgemfuA/fGSq1wHOAEB6pYptdh8SQPY5U0D4xyNAyN1qV2xazD8TnFeyfDkhQMAYmPQ/nNM/dC0I4Yc6B0ADUUnxqMsVQC3QMeLC7QVAvpX+LctvAkD2nJjfDiz5PyLmOpxvhBBAgrBgpQQ7I0A=\",\"dtype\":\"float64\",\"shape\":[133]}}},\"id\":\"9d68a5ab-4935-4fd4-bde0-74f4f46d4a80\",\"type\":\"ColumnDataSource\"},{\"attributes\":{\"items\":[{\"id\":\"84b66183-415d-4513-9783-6c75ceb2ef36\",\"type\":\"LegendItem\"},{\"id\":\"68c280a1-240b-4bec-bfb4-f2fc65661b60\",\"type\":\"LegendItem\"}],\"location\":\"top_left\",\"plot\":{\"id\":\"8c3f61a3-2a53-4d30-9036-2e38435890b8\",\"subtype\":\"Chart\",\"type\":\"Plot\"}},\"id\":\"122a3252-40c1-495e-bad0-07b92827f275\",\"type\":\"Legend\"},{\"attributes\":{\"callback\":null,\"end\":10.989786803550235,\"start\":-0.8899417899100986},\"id\":\"fd9b926e-a188-4f8f-bfec-abb2f1c2d5a2\",\"type\":\"Range1d\"}],\"root_ids\":[\"8c3f61a3-2a53-4d30-9036-2e38435890b8\"]},\"title\":\"Bokeh Application\",\"version\":\"0.12.4\"}};\n",
       "            var render_items = [{\"docid\":\"481224a5-77b1-4423-8aa3-bbe08e121cfb\",\"elementid\":\"7a2ad4d8-f39f-42fd-861b-ecbf9050a611\",\"modelid\":\"8c3f61a3-2a53-4d30-9036-2e38435890b8\"}];\n",
       "            \n",
       "            Bokeh.embed.embed_items(docs_json, render_items);\n",
       "          };\n",
       "          if (document.readyState != \"loading\") fn();\n",
       "          else document.addEventListener(\"DOMContentLoaded\", fn);\n",
       "        })();\n",
       "      },\n",
       "      function(Bokeh) {\n",
       "      }\n",
       "    ];\n",
       "  \n",
       "    function run_inline_js() {\n",
       "      \n",
       "      if ((window.Bokeh !== undefined) || (force === true)) {\n",
       "        for (var i = 0; i < inline_js.length; i++) {\n",
       "          inline_js[i](window.Bokeh);\n",
       "        }if (force === true) {\n",
       "          display_loaded();\n",
       "        }} else if (Date.now() < window._bokeh_timeout) {\n",
       "        setTimeout(run_inline_js, 100);\n",
       "      } else if (!window._bokeh_failed_load) {\n",
       "        console.log(\"Bokeh: BokehJS failed to load within specified timeout.\");\n",
       "        window._bokeh_failed_load = true;\n",
       "      } else if (force !== true) {\n",
       "        var cell = $(document.getElementById(\"7a2ad4d8-f39f-42fd-861b-ecbf9050a611\")).parents('.cell').data().cell;\n",
       "        cell.output_area.append_execute_result(NB_LOAD_WARNING)\n",
       "      }\n",
       "  \n",
       "    }\n",
       "  \n",
       "    if (window._bokeh_is_loading === 0) {\n",
       "      console.log(\"Bokeh: BokehJS loaded, going straight to plotting\");\n",
       "      run_inline_js();\n",
       "    } else {\n",
       "      load_libs(js_urls, function() {\n",
       "        console.log(\"Bokeh: BokehJS plotting callback run at\", now());\n",
       "        run_inline_js();\n",
       "      });\n",
       "    }\n",
       "  }(this));\n",
       "</script>"
      ]
     },
     "metadata": {},
     "output_type": "display_data"
    }
   ],
   "source": [
    "correct = ['Correct' if yi == yh_i else 'Incorrect' for yi, yh_i in zip(y, y_hat)]\n",
    "plot_svm_results(correct, b.value(), w1.value(), w2.value())"
   ]
  },
  {
   "cell_type": "markdown",
   "metadata": {
    "deletable": true,
    "editable": true,
    "slideshow": {
     "slide_type": "slide"
    }
   },
   "source": [
    "## Interlude: Problem Shapes"
   ]
  },
  {
   "cell_type": "markdown",
   "metadata": {
    "deletable": true,
    "editable": true,
    "slideshow": {
     "slide_type": "subslide"
    }
   },
   "source": [
    "In Linear Algebra 101 we learned to solve problems that look like this.\n",
    "\n",
    "$$Ax = b$$\n",
    "\n",
    "$$\n",
    "\\begin{bmatrix} \\cdot & \\cdot \\\\ \\cdot & \\cdot \\end{bmatrix}\n",
    "\\begin{bmatrix} \\cdot \\\\ \\cdot \\end{bmatrix}\n",
    "=\n",
    "\\begin{bmatrix} \\cdot \\\\ \\cdot \\end{bmatrix}\n",
    "$$"
   ]
  },
  {
   "cell_type": "markdown",
   "metadata": {
    "deletable": true,
    "editable": true,
    "slideshow": {
     "slide_type": "subslide"
    }
   },
   "source": [
    "Many statistical inference problems are overdetermined and unsolvable directly.\n",
    "\n",
    "$$\n",
    "\\begin{bmatrix} \n",
    "    \\cdot & \\cdot \\\\ \n",
    "    \\cdot & \\cdot \\\\ \n",
    "    \\cdot & \\cdot \\\\ \n",
    "    \\cdot & \\cdot \\\\ \n",
    "    \\cdot & \\cdot \\\\ \n",
    "    \\cdot & \\cdot \\\\ \n",
    "    \\cdot & \\cdot \\\\ \n",
    "    \\cdot & \\cdot \\\\ \n",
    "    \\cdot & \\cdot \\\\ \n",
    "    \\cdot & \\cdot\n",
    "\\end{bmatrix}\n",
    "\\begin{bmatrix} \\cdot \\\\ \\cdot \\end{bmatrix}\n",
    "=\n",
    "\\begin{bmatrix} \n",
    "    \\cdot \\\\ \n",
    "    \\cdot \\\\ \n",
    "    \\cdot \\\\ \n",
    "    \\cdot \\\\ \n",
    "    \\cdot \\\\ \n",
    "    \\cdot \\\\ \n",
    "    \\cdot \\\\ \n",
    "    \\cdot \\\\ \n",
    "    \\cdot \\\\ \n",
    "    \\cdot \n",
    "\\end{bmatrix}\n",
    "$$"
   ]
  },
  {
   "cell_type": "markdown",
   "metadata": {
    "deletable": true,
    "editable": true,
    "slideshow": {
     "slide_type": "subslide"
    }
   },
   "source": [
    "Decision models tend to involve a large number of potential actions in relation to the constraint set.\n",
    "\n",
    "$$\n",
    "\\begin{bmatrix} \n",
    "    \\cdot & \\cdot & \\cdot & \\cdot & \\cdot & \\cdot & \\cdot & \\cdot & \\cdot & \\cdot \\\\ \n",
    "    \\cdot & \\cdot & \\cdot & \\cdot & \\cdot & \\cdot & \\cdot & \\cdot & \\cdot & \\cdot\n",
    "\\end{bmatrix}\n",
    "\\begin{bmatrix} \n",
    "    \\cdot \\\\ \n",
    "    \\cdot \\\\ \n",
    "    \\cdot \\\\ \n",
    "    \\cdot \\\\ \n",
    "    \\cdot \\\\ \n",
    "    \\cdot \\\\ \n",
    "    \\cdot \\\\ \n",
    "    \\cdot \\\\ \n",
    "    \\cdot \\\\ \n",
    "    \\cdot \n",
    "\\end{bmatrix}\n",
    "=\n",
    "\\begin{bmatrix} \n",
    "    \\cdot \\\\ \n",
    "    \\cdot\n",
    "\\end{bmatrix}\n",
    "$$"
   ]
  },
  {
   "cell_type": "markdown",
   "metadata": {
    "deletable": true,
    "editable": true,
    "slideshow": {
     "slide_type": "subslide"
    }
   },
   "source": [
    "In both cases, we start with a problem we can't solve easily and reformulate it as something we can.\n",
    "\n",
    "For statistical inference, we solve a secondary problem that minimizes error against the observed data.\n",
    "\n",
    "For decision models, we choose a set of actions to take _(i.e. a basis)_ and solve the remaining system."
   ]
  },
  {
   "cell_type": "markdown",
   "metadata": {
    "deletable": true,
    "editable": true,
    "slideshow": {
     "slide_type": "slide"
    }
   },
   "source": [
    "## Model 3: Clustering\n",
    "\n",
    "We have a set of unclassified data and we want to cluster it around logical centers."
   ]
  },
  {
   "cell_type": "markdown",
   "metadata": {
    "deletable": true,
    "editable": true,
    "slideshow": {
     "slide_type": "subslide"
    }
   },
   "source": [
    "We generate 25 points around each center $(x_{10}, x_{20}) \\in \\{(0.3, 0.3), (0.3, 0.7), (0.7, 0.7)\\}$.\n",
    "\n",
    "$$x_{1i} = x_{10} + \\epsilon$$  \n",
    "  \n",
    "$$x_{2i} = x_{20} + \\epsilon$$\n",
    "  \n",
    "$$\\epsilon \\sim N\\left(0, 0.2^2\\right)$$\n"
   ]
  },
  {
   "cell_type": "code",
   "execution_count": 27,
   "metadata": {
    "collapsed": false,
    "deletable": true,
    "editable": true,
    "slideshow": {
     "slide_type": "subslide"
    }
   },
   "outputs": [],
   "source": [
    "centers = [(0.3, 0.3), (0.3, 0.7), (0.7, 0.7)]\n",
    "\n",
    "x1 = []\n",
    "x2 = []\n",
    "for x10, x20 in centers:\n",
    "    for _ in range(7):\n",
    "        eps_x1 = random.normalvariate(0, 0.2)\n",
    "        eps_x2 = random.normalvariate(0, 0.2)\n",
    "\n",
    "        x1i = min(max(0.0, x10+eps_x1), 1.0)\n",
    "        x2i = min(max(0.0, x20+eps_x2), 1.0)\n",
    "        \n",
    "        x1.append(x1i)\n",
    "        x2.append(x2i)\n",
    "        \n",
    "X = np.array(list(zip(x1, x2)))"
   ]
  },
  {
   "cell_type": "code",
   "execution_count": 28,
   "metadata": {
    "collapsed": false,
    "deletable": true,
    "editable": true,
    "scrolled": true,
    "slideshow": {
     "slide_type": "subslide"
    }
   },
   "outputs": [
    {
     "data": {
      "text/html": [
       "\n",
       "\n",
       "    <div class=\"bk-root\">\n",
       "        <div class=\"bk-plotdiv\" id=\"0901a20e-a507-4a4c-8efd-9c87c2fab5b6\"></div>\n",
       "    </div>\n",
       "<script type=\"text/javascript\">\n",
       "  \n",
       "  (function(global) {\n",
       "    function now() {\n",
       "      return new Date();\n",
       "    }\n",
       "  \n",
       "    var force = false;\n",
       "  \n",
       "    if (typeof (window._bokeh_onload_callbacks) === \"undefined\" || force === true) {\n",
       "      window._bokeh_onload_callbacks = [];\n",
       "      window._bokeh_is_loading = undefined;\n",
       "    }\n",
       "  \n",
       "  \n",
       "    \n",
       "    if (typeof (window._bokeh_timeout) === \"undefined\" || force === true) {\n",
       "      window._bokeh_timeout = Date.now() + 0;\n",
       "      window._bokeh_failed_load = false;\n",
       "    }\n",
       "  \n",
       "    var NB_LOAD_WARNING = {'data': {'text/html':\n",
       "       \"<div style='background-color: #fdd'>\\n\"+\n",
       "       \"<p>\\n\"+\n",
       "       \"BokehJS does not appear to have successfully loaded. If loading BokehJS from CDN, this \\n\"+\n",
       "       \"may be due to a slow or bad network connection. Possible fixes:\\n\"+\n",
       "       \"</p>\\n\"+\n",
       "       \"<ul>\\n\"+\n",
       "       \"<li>re-rerun `output_notebook()` to attempt to load from CDN again, or</li>\\n\"+\n",
       "       \"<li>use INLINE resources instead, as so:</li>\\n\"+\n",
       "       \"</ul>\\n\"+\n",
       "       \"<code>\\n\"+\n",
       "       \"from bokeh.resources import INLINE\\n\"+\n",
       "       \"output_notebook(resources=INLINE)\\n\"+\n",
       "       \"</code>\\n\"+\n",
       "       \"</div>\"}};\n",
       "  \n",
       "    function display_loaded() {\n",
       "      if (window.Bokeh !== undefined) {\n",
       "        document.getElementById(\"0901a20e-a507-4a4c-8efd-9c87c2fab5b6\").textContent = \"BokehJS successfully loaded.\";\n",
       "      } else if (Date.now() < window._bokeh_timeout) {\n",
       "        setTimeout(display_loaded, 100)\n",
       "      }\n",
       "    }\n",
       "  \n",
       "    function run_callbacks() {\n",
       "      window._bokeh_onload_callbacks.forEach(function(callback) { callback() });\n",
       "      delete window._bokeh_onload_callbacks\n",
       "      console.info(\"Bokeh: all callbacks have finished\");\n",
       "    }\n",
       "  \n",
       "    function load_libs(js_urls, callback) {\n",
       "      window._bokeh_onload_callbacks.push(callback);\n",
       "      if (window._bokeh_is_loading > 0) {\n",
       "        console.log(\"Bokeh: BokehJS is being loaded, scheduling callback at\", now());\n",
       "        return null;\n",
       "      }\n",
       "      if (js_urls == null || js_urls.length === 0) {\n",
       "        run_callbacks();\n",
       "        return null;\n",
       "      }\n",
       "      console.log(\"Bokeh: BokehJS not loaded, scheduling load and callback at\", now());\n",
       "      window._bokeh_is_loading = js_urls.length;\n",
       "      for (var i = 0; i < js_urls.length; i++) {\n",
       "        var url = js_urls[i];\n",
       "        var s = document.createElement('script');\n",
       "        s.src = url;\n",
       "        s.async = false;\n",
       "        s.onreadystatechange = s.onload = function() {\n",
       "          window._bokeh_is_loading--;\n",
       "          if (window._bokeh_is_loading === 0) {\n",
       "            console.log(\"Bokeh: all BokehJS libraries loaded\");\n",
       "            run_callbacks()\n",
       "          }\n",
       "        };\n",
       "        s.onerror = function() {\n",
       "          console.warn(\"failed to load library \" + url);\n",
       "        };\n",
       "        console.log(\"Bokeh: injecting script tag for BokehJS library: \", url);\n",
       "        document.getElementsByTagName(\"head\")[0].appendChild(s);\n",
       "      }\n",
       "    };var element = document.getElementById(\"0901a20e-a507-4a4c-8efd-9c87c2fab5b6\");\n",
       "    if (element == null) {\n",
       "      console.log(\"Bokeh: ERROR: autoload.js configured with elementid '0901a20e-a507-4a4c-8efd-9c87c2fab5b6' but no matching script tag was found. \")\n",
       "      return false;\n",
       "    }\n",
       "  \n",
       "    var js_urls = [];\n",
       "  \n",
       "    var inline_js = [\n",
       "      function(Bokeh) {\n",
       "        (function() {\n",
       "          var fn = function() {\n",
       "            var docs_json = {\"5461b035-2ffc-41e1-a759-5262311c71a2\":{\"roots\":{\"references\":[{\"attributes\":{\"fill_alpha\":{\"value\":0.7},\"fill_color\":{\"value\":\"#f22c40\"},\"line_color\":{\"value\":\"#f22c40\"},\"size\":{\"units\":\"screen\",\"value\":8},\"x\":{\"field\":\"x_values\"},\"y\":{\"field\":\"y_values\"}},\"id\":\"014a6a11-b85e-41b8-8930-bfb670c405ec\",\"type\":\"Circle\"},{\"attributes\":{},\"id\":\"72b5c196-7f6e-4bdf-aa9b-2a9e4a3ebbf2\",\"type\":\"BasicTicker\"},{\"attributes\":{},\"id\":\"4beca611-ee7a-41bc-b8df-6560b548a25a\",\"type\":\"BasicTickFormatter\"},{\"attributes\":{\"below\":[{\"id\":\"247fac5a-716a-46b8-b592-549e80dce3b2\",\"type\":\"LinearAxis\"}],\"css_classes\":null,\"height\":500,\"left\":[{\"id\":\"ecd8dcf9-f41c-4fe8-aa24-8a8bf4003e45\",\"type\":\"LinearAxis\"}],\"renderers\":[{\"id\":\"ada25c0a-c8dc-4383-9788-a39df23fbd87\",\"type\":\"BoxAnnotation\"},{\"id\":\"0ca22800-269e-4ba6-9081-6737484b78da\",\"type\":\"GlyphRenderer\"},{\"id\":\"3cd93fec-a54f-4931-9851-8fb43414af14\",\"type\":\"Legend\"},{\"id\":\"247fac5a-716a-46b8-b592-549e80dce3b2\",\"type\":\"LinearAxis\"},{\"id\":\"ecd8dcf9-f41c-4fe8-aa24-8a8bf4003e45\",\"type\":\"LinearAxis\"},{\"id\":\"53308b1e-b469-4445-a25e-aa959e1bd876\",\"type\":\"Grid\"},{\"id\":\"4123d868-0405-4fb7-9d69-a9e299be8f35\",\"type\":\"Grid\"}],\"title\":{\"id\":\"4f863e81-0cb2-499c-9e85-8aa955bd91c0\",\"type\":\"Title\"},\"tool_events\":{\"id\":\"1872ec6f-135b-4b08-bf15-18ddb39e8208\",\"type\":\"ToolEvents\"},\"toolbar\":{\"id\":\"c2097b8b-c478-4dae-ab26-525c9e8830bc\",\"type\":\"Toolbar\"},\"width\":500,\"x_mapper_type\":\"auto\",\"x_range\":{\"id\":\"8a8b1379-9334-413c-8980-f490e46c1178\",\"type\":\"Range1d\"},\"y_mapper_type\":\"auto\",\"y_range\":{\"id\":\"3d5cfc67-551e-4572-a911-18372ea2a580\",\"type\":\"Range1d\"}},\"id\":\"eaf61227-6fbd-461a-b5c0-bd2ebe503495\",\"subtype\":\"Chart\",\"type\":\"Plot\"},{\"attributes\":{\"callback\":null,\"end\":0.8862225813011381,\"start\":0.10439130949577743},\"id\":\"3d5cfc67-551e-4572-a911-18372ea2a580\",\"type\":\"Range1d\"},{\"attributes\":{\"plot\":null,\"text\":null},\"id\":\"4f863e81-0cb2-499c-9e85-8aa955bd91c0\",\"type\":\"Title\"},{\"attributes\":{},\"id\":\"1872ec6f-135b-4b08-bf15-18ddb39e8208\",\"type\":\"ToolEvents\"},{\"attributes\":{\"active_drag\":\"auto\",\"active_scroll\":\"auto\",\"active_tap\":\"auto\",\"tools\":[{\"id\":\"079d0735-28da-48ff-8793-bbbf0a12f6f1\",\"type\":\"PanTool\"},{\"id\":\"0bcf81d1-53dc-4765-8d9a-7e98e991d059\",\"type\":\"WheelZoomTool\"},{\"id\":\"a6fb0451-54b1-4799-9fbb-e1f0144dc646\",\"type\":\"BoxZoomTool\"},{\"id\":\"8c54084e-7681-4ef6-abce-4928f26e9299\",\"type\":\"SaveTool\"},{\"id\":\"0331d296-bd79-4650-9e00-9a3f48fdcf58\",\"type\":\"ResetTool\"},{\"id\":\"5dd8e810-e489-47b3-9b9e-1540cd2cb6c3\",\"type\":\"HelpTool\"}]},\"id\":\"c2097b8b-c478-4dae-ab26-525c9e8830bc\",\"type\":\"Toolbar\"},{\"attributes\":{},\"id\":\"4f7d97c3-4c18-4997-9167-826cd418b32e\",\"type\":\"BasicTickFormatter\"},{\"attributes\":{},\"id\":\"a0338a4a-3da9-46e6-a271-f0a0a8243ebd\",\"type\":\"BasicTicker\"},{\"attributes\":{\"plot\":{\"id\":\"eaf61227-6fbd-461a-b5c0-bd2ebe503495\",\"subtype\":\"Chart\",\"type\":\"Plot\"},\"ticker\":{\"id\":\"72b5c196-7f6e-4bdf-aa9b-2a9e4a3ebbf2\",\"type\":\"BasicTicker\"}},\"id\":\"53308b1e-b469-4445-a25e-aa959e1bd876\",\"type\":\"Grid\"},{\"attributes\":{\"bottom_units\":\"screen\",\"fill_alpha\":{\"value\":0.5},\"fill_color\":{\"value\":\"lightgrey\"},\"left_units\":\"screen\",\"level\":\"overlay\",\"line_alpha\":{\"value\":1.0},\"line_color\":{\"value\":\"black\"},\"line_dash\":[4,4],\"line_width\":{\"value\":2},\"plot\":null,\"render_mode\":\"css\",\"right_units\":\"screen\",\"top_units\":\"screen\"},\"id\":\"ada25c0a-c8dc-4383-9788-a39df23fbd87\",\"type\":\"BoxAnnotation\"},{\"attributes\":{\"location\":\"top_left\",\"plot\":{\"id\":\"eaf61227-6fbd-461a-b5c0-bd2ebe503495\",\"subtype\":\"Chart\",\"type\":\"Plot\"}},\"id\":\"3cd93fec-a54f-4931-9851-8fb43414af14\",\"type\":\"Legend\"},{\"attributes\":{\"plot\":{\"id\":\"eaf61227-6fbd-461a-b5c0-bd2ebe503495\",\"subtype\":\"Chart\",\"type\":\"Plot\"}},\"id\":\"079d0735-28da-48ff-8793-bbbf0a12f6f1\",\"type\":\"PanTool\"},{\"attributes\":{\"plot\":{\"id\":\"eaf61227-6fbd-461a-b5c0-bd2ebe503495\",\"subtype\":\"Chart\",\"type\":\"Plot\"}},\"id\":\"0bcf81d1-53dc-4765-8d9a-7e98e991d059\",\"type\":\"WheelZoomTool\"},{\"attributes\":{\"overlay\":{\"id\":\"ada25c0a-c8dc-4383-9788-a39df23fbd87\",\"type\":\"BoxAnnotation\"},\"plot\":{\"id\":\"eaf61227-6fbd-461a-b5c0-bd2ebe503495\",\"subtype\":\"Chart\",\"type\":\"Plot\"}},\"id\":\"a6fb0451-54b1-4799-9fbb-e1f0144dc646\",\"type\":\"BoxZoomTool\"},{\"attributes\":{\"callback\":null,\"end\":1.1,\"start\":-0.1},\"id\":\"8a8b1379-9334-413c-8980-f490e46c1178\",\"type\":\"Range1d\"},{\"attributes\":{\"plot\":{\"id\":\"eaf61227-6fbd-461a-b5c0-bd2ebe503495\",\"subtype\":\"Chart\",\"type\":\"Plot\"}},\"id\":\"8c54084e-7681-4ef6-abce-4928f26e9299\",\"type\":\"SaveTool\"},{\"attributes\":{\"data_source\":{\"id\":\"bfb547f1-b9c3-4530-bea9-651bfa315b6d\",\"type\":\"ColumnDataSource\"},\"glyph\":{\"id\":\"014a6a11-b85e-41b8-8930-bfb670c405ec\",\"type\":\"Circle\"},\"hover_glyph\":null,\"nonselection_glyph\":null,\"selection_glyph\":null},\"id\":\"0ca22800-269e-4ba6-9081-6737484b78da\",\"type\":\"GlyphRenderer\"},{\"attributes\":{\"plot\":{\"id\":\"eaf61227-6fbd-461a-b5c0-bd2ebe503495\",\"subtype\":\"Chart\",\"type\":\"Plot\"}},\"id\":\"0331d296-bd79-4650-9e00-9a3f48fdcf58\",\"type\":\"ResetTool\"},{\"attributes\":{\"plot\":{\"id\":\"eaf61227-6fbd-461a-b5c0-bd2ebe503495\",\"subtype\":\"Chart\",\"type\":\"Plot\"}},\"id\":\"5dd8e810-e489-47b3-9b9e-1540cd2cb6c3\",\"type\":\"HelpTool\"},{\"attributes\":{\"axis_label\":\"x2\",\"formatter\":{\"id\":\"4beca611-ee7a-41bc-b8df-6560b548a25a\",\"type\":\"BasicTickFormatter\"},\"plot\":{\"id\":\"eaf61227-6fbd-461a-b5c0-bd2ebe503495\",\"subtype\":\"Chart\",\"type\":\"Plot\"},\"ticker\":{\"id\":\"a0338a4a-3da9-46e6-a271-f0a0a8243ebd\",\"type\":\"BasicTicker\"}},\"id\":\"ecd8dcf9-f41c-4fe8-aa24-8a8bf4003e45\",\"type\":\"LinearAxis\"},{\"attributes\":{\"dimension\":1,\"plot\":{\"id\":\"eaf61227-6fbd-461a-b5c0-bd2ebe503495\",\"subtype\":\"Chart\",\"type\":\"Plot\"},\"ticker\":{\"id\":\"a0338a4a-3da9-46e6-a271-f0a0a8243ebd\",\"type\":\"BasicTicker\"}},\"id\":\"4123d868-0405-4fb7-9d69-a9e299be8f35\",\"type\":\"Grid\"},{\"attributes\":{\"axis_label\":\"x1\",\"formatter\":{\"id\":\"4f7d97c3-4c18-4997-9167-826cd418b32e\",\"type\":\"BasicTickFormatter\"},\"plot\":{\"id\":\"eaf61227-6fbd-461a-b5c0-bd2ebe503495\",\"subtype\":\"Chart\",\"type\":\"Plot\"},\"ticker\":{\"id\":\"72b5c196-7f6e-4bdf-aa9b-2a9e4a3ebbf2\",\"type\":\"BasicTicker\"}},\"id\":\"247fac5a-716a-46b8-b592-549e80dce3b2\",\"type\":\"LinearAxis\"},{\"attributes\":{\"callback\":null,\"column_names\":[\"x_values\",\"y_values\"],\"data\":{\"chart_index\":[null,null,null,null,null,null,null,null,null,null,null,null,null,null,null,null,null,null,null,null,null],\"x_values\":{\"__ndarray__\":\"zpb+n6IB1z+215nh85bCPze0sQndiuA/lhHZHocF3z8IgV2kcL3EPwAAAAAAAAAAsuVNZqIewj+0TuloBmfgP+TsJff2l88/AAAAAAAAAADDEpfTACbNP5mDfCu/RNk/Xt3d2x0E4T8Wrs4IvxTgP1LQ3OoXdek/3f18/FW95z+67Mw6zHbNP3teHPsq0es/A/BKniOP6T8AAAAAAADwP/CvVaWQ8eQ/\",\"dtype\":\"float64\",\"shape\":[21]},\"y_values\":{\"__ndarray__\":\"5szv5AEHyD/08LyNbSDoP8yeN+Iul9c/SJydiFU0yj9SbVaH3k3PPxY7g3Q/WN0/4nNKvwEx4j8I5naKNEbqP296VemMfug/ckD9vLAd0j/rdobO8TvoP/la+kFCWeg/qpiyEAdq4z+xxoGItTrmPx1fel2KuNg/zKsLBK+M5z+7HknjGwHiP/A4HHKds8U/SzcwJ1hf5T+zGW8g8a3hP3E9rQXmVuY/\",\"dtype\":\"float64\",\"shape\":[21]}}},\"id\":\"bfb547f1-b9c3-4530-bea9-651bfa315b6d\",\"type\":\"ColumnDataSource\"}],\"root_ids\":[\"eaf61227-6fbd-461a-b5c0-bd2ebe503495\"]},\"title\":\"Bokeh Application\",\"version\":\"0.12.4\"}};\n",
       "            var render_items = [{\"docid\":\"5461b035-2ffc-41e1-a759-5262311c71a2\",\"elementid\":\"0901a20e-a507-4a4c-8efd-9c87c2fab5b6\",\"modelid\":\"eaf61227-6fbd-461a-b5c0-bd2ebe503495\"}];\n",
       "            \n",
       "            Bokeh.embed.embed_items(docs_json, render_items);\n",
       "          };\n",
       "          if (document.readyState != \"loading\") fn();\n",
       "          else document.addEventListener(\"DOMContentLoaded\", fn);\n",
       "        })();\n",
       "      },\n",
       "      function(Bokeh) {\n",
       "      }\n",
       "    ];\n",
       "  \n",
       "    function run_inline_js() {\n",
       "      \n",
       "      if ((window.Bokeh !== undefined) || (force === true)) {\n",
       "        for (var i = 0; i < inline_js.length; i++) {\n",
       "          inline_js[i](window.Bokeh);\n",
       "        }if (force === true) {\n",
       "          display_loaded();\n",
       "        }} else if (Date.now() < window._bokeh_timeout) {\n",
       "        setTimeout(run_inline_js, 100);\n",
       "      } else if (!window._bokeh_failed_load) {\n",
       "        console.log(\"Bokeh: BokehJS failed to load within specified timeout.\");\n",
       "        window._bokeh_failed_load = true;\n",
       "      } else if (force !== true) {\n",
       "        var cell = $(document.getElementById(\"0901a20e-a507-4a4c-8efd-9c87c2fab5b6\")).parents('.cell').data().cell;\n",
       "        cell.output_area.append_execute_result(NB_LOAD_WARNING)\n",
       "      }\n",
       "  \n",
       "    }\n",
       "  \n",
       "    if (window._bokeh_is_loading === 0) {\n",
       "      console.log(\"Bokeh: BokehJS loaded, going straight to plotting\");\n",
       "      run_inline_js();\n",
       "    } else {\n",
       "      load_libs(js_urls, function() {\n",
       "        console.log(\"Bokeh: BokehJS plotting callback run at\", now());\n",
       "        run_inline_js();\n",
       "      });\n",
       "    }\n",
       "  }(this));\n",
       "</script>"
      ]
     },
     "metadata": {},
     "output_type": "display_data"
    }
   ],
   "source": [
    "show(Scatter({'x1': x1, 'x2': x2}, x='x1', y='x2', width=500, height=500))"
   ]
  },
  {
   "cell_type": "markdown",
   "metadata": {
    "collapsed": true,
    "deletable": true,
    "editable": true,
    "slideshow": {
     "slide_type": "slide"
    }
   },
   "source": [
    "### Clustering a la `scikit-learn`"
   ]
  },
  {
   "cell_type": "markdown",
   "metadata": {
    "deletable": true,
    "editable": true,
    "slideshow": {
     "slide_type": "subslide"
    }
   },
   "source": [
    "Assume we know a prioi how many clusters there are."
   ]
  },
  {
   "cell_type": "code",
   "execution_count": 29,
   "metadata": {
    "collapsed": false,
    "deletable": true,
    "editable": true,
    "slideshow": {
     "slide_type": "-"
    }
   },
   "outputs": [
    {
     "data": {
      "text/plain": [
       "KMeans(algorithm='auto', copy_x=True, init='k-means++', max_iter=300,\n",
       "    n_clusters=3, n_init=10, n_jobs=1, precompute_distances='auto',\n",
       "    random_state=None, tol=0.0001, verbose=0)"
      ]
     },
     "execution_count": 29,
     "metadata": {},
     "output_type": "execute_result"
    }
   ],
   "source": [
    "from sklearn.cluster import KMeans\n",
    "clust = KMeans(n_clusters=3)\n",
    "clust.fit(X)"
   ]
  },
  {
   "cell_type": "markdown",
   "metadata": {
    "deletable": true,
    "editable": true,
    "slideshow": {
     "slide_type": "subslide"
    }
   },
   "source": [
    "The `KMeans` model has two outputs:\n",
    "\n",
    "* The center point of each cluster\n",
    "* Which cluster each point is assigned to"
   ]
  },
  {
   "cell_type": "code",
   "execution_count": 30,
   "metadata": {
    "collapsed": false,
    "deletable": true,
    "editable": true,
    "slideshow": {
     "slide_type": "-"
    }
   },
   "outputs": [
    {
     "data": {
      "text/plain": [
       "array([[ 0.80998334,  0.53503504],\n",
       "       [ 0.32591213,  0.69901855],\n",
       "       [ 0.25386159,  0.29119595]])"
      ]
     },
     "execution_count": 30,
     "metadata": {},
     "output_type": "execute_result"
    }
   ],
   "source": [
    "clust.cluster_centers_"
   ]
  },
  {
   "cell_type": "markdown",
   "metadata": {
    "deletable": true,
    "editable": true,
    "slideshow": {
     "slide_type": "subslide"
    }
   },
   "source": [
    "We need a function to easily plot clustering results."
   ]
  },
  {
   "cell_type": "code",
   "execution_count": 31,
   "metadata": {
    "collapsed": true,
    "deletable": true,
    "editable": true,
    "slideshow": {
     "slide_type": "-"
    }
   },
   "outputs": [],
   "source": [
    "def plot_clusters(clusters, cluster_centers):\n",
    "    plot = Scatter(\n",
    "        {'x1': x1, 'x2': x2, 'clusters': clusters},\n",
    "        x='x1', y='x2',\n",
    "        color='clusters', marker='clusters', \n",
    "        width=500, height=500\n",
    "    )\n",
    "\n",
    "    for x10, x20 in cluster_centers:\n",
    "        plot.circle(x10, x20, alpha=0.5, color='grey', size=15)\n",
    "\n",
    "    show(plot)"
   ]
  },
  {
   "cell_type": "markdown",
   "metadata": {
    "deletable": true,
    "editable": true,
    "slideshow": {
     "slide_type": "subslide"
    }
   },
   "source": [
    "How'd `scikit-learn` do?"
   ]
  },
  {
   "cell_type": "code",
   "execution_count": 32,
   "metadata": {
    "collapsed": false,
    "deletable": true,
    "editable": true,
    "slideshow": {
     "slide_type": "-"
    }
   },
   "outputs": [
    {
     "data": {
      "text/html": [
       "\n",
       "\n",
       "    <div class=\"bk-root\">\n",
       "        <div class=\"bk-plotdiv\" id=\"d392a1e3-b889-44ef-ac4d-0cb9a2b1d558\"></div>\n",
       "    </div>\n",
       "<script type=\"text/javascript\">\n",
       "  \n",
       "  (function(global) {\n",
       "    function now() {\n",
       "      return new Date();\n",
       "    }\n",
       "  \n",
       "    var force = false;\n",
       "  \n",
       "    if (typeof (window._bokeh_onload_callbacks) === \"undefined\" || force === true) {\n",
       "      window._bokeh_onload_callbacks = [];\n",
       "      window._bokeh_is_loading = undefined;\n",
       "    }\n",
       "  \n",
       "  \n",
       "    \n",
       "    if (typeof (window._bokeh_timeout) === \"undefined\" || force === true) {\n",
       "      window._bokeh_timeout = Date.now() + 0;\n",
       "      window._bokeh_failed_load = false;\n",
       "    }\n",
       "  \n",
       "    var NB_LOAD_WARNING = {'data': {'text/html':\n",
       "       \"<div style='background-color: #fdd'>\\n\"+\n",
       "       \"<p>\\n\"+\n",
       "       \"BokehJS does not appear to have successfully loaded. If loading BokehJS from CDN, this \\n\"+\n",
       "       \"may be due to a slow or bad network connection. Possible fixes:\\n\"+\n",
       "       \"</p>\\n\"+\n",
       "       \"<ul>\\n\"+\n",
       "       \"<li>re-rerun `output_notebook()` to attempt to load from CDN again, or</li>\\n\"+\n",
       "       \"<li>use INLINE resources instead, as so:</li>\\n\"+\n",
       "       \"</ul>\\n\"+\n",
       "       \"<code>\\n\"+\n",
       "       \"from bokeh.resources import INLINE\\n\"+\n",
       "       \"output_notebook(resources=INLINE)\\n\"+\n",
       "       \"</code>\\n\"+\n",
       "       \"</div>\"}};\n",
       "  \n",
       "    function display_loaded() {\n",
       "      if (window.Bokeh !== undefined) {\n",
       "        document.getElementById(\"d392a1e3-b889-44ef-ac4d-0cb9a2b1d558\").textContent = \"BokehJS successfully loaded.\";\n",
       "      } else if (Date.now() < window._bokeh_timeout) {\n",
       "        setTimeout(display_loaded, 100)\n",
       "      }\n",
       "    }\n",
       "  \n",
       "    function run_callbacks() {\n",
       "      window._bokeh_onload_callbacks.forEach(function(callback) { callback() });\n",
       "      delete window._bokeh_onload_callbacks\n",
       "      console.info(\"Bokeh: all callbacks have finished\");\n",
       "    }\n",
       "  \n",
       "    function load_libs(js_urls, callback) {\n",
       "      window._bokeh_onload_callbacks.push(callback);\n",
       "      if (window._bokeh_is_loading > 0) {\n",
       "        console.log(\"Bokeh: BokehJS is being loaded, scheduling callback at\", now());\n",
       "        return null;\n",
       "      }\n",
       "      if (js_urls == null || js_urls.length === 0) {\n",
       "        run_callbacks();\n",
       "        return null;\n",
       "      }\n",
       "      console.log(\"Bokeh: BokehJS not loaded, scheduling load and callback at\", now());\n",
       "      window._bokeh_is_loading = js_urls.length;\n",
       "      for (var i = 0; i < js_urls.length; i++) {\n",
       "        var url = js_urls[i];\n",
       "        var s = document.createElement('script');\n",
       "        s.src = url;\n",
       "        s.async = false;\n",
       "        s.onreadystatechange = s.onload = function() {\n",
       "          window._bokeh_is_loading--;\n",
       "          if (window._bokeh_is_loading === 0) {\n",
       "            console.log(\"Bokeh: all BokehJS libraries loaded\");\n",
       "            run_callbacks()\n",
       "          }\n",
       "        };\n",
       "        s.onerror = function() {\n",
       "          console.warn(\"failed to load library \" + url);\n",
       "        };\n",
       "        console.log(\"Bokeh: injecting script tag for BokehJS library: \", url);\n",
       "        document.getElementsByTagName(\"head\")[0].appendChild(s);\n",
       "      }\n",
       "    };var element = document.getElementById(\"d392a1e3-b889-44ef-ac4d-0cb9a2b1d558\");\n",
       "    if (element == null) {\n",
       "      console.log(\"Bokeh: ERROR: autoload.js configured with elementid 'd392a1e3-b889-44ef-ac4d-0cb9a2b1d558' but no matching script tag was found. \")\n",
       "      return false;\n",
       "    }\n",
       "  \n",
       "    var js_urls = [];\n",
       "  \n",
       "    var inline_js = [\n",
       "      function(Bokeh) {\n",
       "        (function() {\n",
       "          var fn = function() {\n",
       "            var docs_json = {\"188fa4d7-dd2a-4703-a964-38c0aeb4bfb8\":{\"roots\":{\"references\":[{\"attributes\":{\"fill_alpha\":{\"value\":0.7},\"fill_color\":{\"value\":\"#5ab738\"},\"line_color\":{\"value\":\"#5ab738\"},\"size\":{\"units\":\"screen\",\"value\":8},\"x\":{\"field\":\"x_values\"},\"y\":{\"field\":\"y_values\"}},\"id\":\"5e61b1c7-7627-4816-b1fe-84f852536202\",\"type\":\"Square\"},{\"attributes\":{\"callback\":null,\"column_names\":[\"x_values\",\"y_values\"],\"data\":{\"chart_index\":[{\"clusters\":2},{\"clusters\":2},{\"clusters\":2},{\"clusters\":2},{\"clusters\":2},{\"clusters\":2}],\"clusters\":[2,2,2,2,2,2],\"x_values\":{\"__ndarray__\":\"zpb+n6IB1z83tLEJ3YrgP5YR2R6HBd8/CIFdpHC9xD8AAAAAAAAAAAAAAAAAAAAA\",\"dtype\":\"float64\",\"shape\":[6]},\"y_values\":{\"__ndarray__\":\"5szv5AEHyD/MnjfiLpfXP0icnYhVNMo/Um1Wh95Nzz8WO4N0P1jdP3JA/bywHdI/\",\"dtype\":\"float64\",\"shape\":[6]}}},\"id\":\"a447f1f5-8643-4493-b5b8-ea7a472f86ac\",\"type\":\"ColumnDataSource\"},{\"attributes\":{\"fill_alpha\":{\"value\":0.7},\"fill_color\":{\"value\":\"#407ee7\"},\"line_color\":{\"value\":\"#407ee7\"},\"size\":{\"units\":\"screen\",\"value\":8},\"x\":{\"field\":\"x_values\"},\"y\":{\"field\":\"y_values\"}},\"id\":\"f2f56972-1259-4fcc-b2f2-7d6011afd459\",\"type\":\"Triangle\"},{\"attributes\":{\"data_source\":{\"id\":\"a447f1f5-8643-4493-b5b8-ea7a472f86ac\",\"type\":\"ColumnDataSource\"},\"glyph\":{\"id\":\"f2f56972-1259-4fcc-b2f2-7d6011afd459\",\"type\":\"Triangle\"},\"hover_glyph\":null,\"nonselection_glyph\":null,\"selection_glyph\":null},\"id\":\"f732629b-d86d-4d4d-aa55-c2b234c369d2\",\"type\":\"GlyphRenderer\"},{\"attributes\":{},\"id\":\"847bec36-ad67-4f4d-9c7f-35ff68e3307f\",\"type\":\"BasicTickFormatter\"},{\"attributes\":{\"callback\":null,\"column_names\":[\"x_values\",\"y_values\"],\"data\":{\"chart_index\":[{\"clusters\":1},{\"clusters\":1},{\"clusters\":1},{\"clusters\":1},{\"clusters\":1},{\"clusters\":1},{\"clusters\":1},{\"clusters\":1},{\"clusters\":1}],\"clusters\":[1,1,1,1,1,1,1,1,1],\"x_values\":{\"__ndarray__\":\"tteZ4fOWwj+y5U1moh7CP7RO6WgGZ+A/5Owl9/aXzz/DEpfTACbNP5mDfCu/RNk/Xt3d2x0E4T8Wrs4IvxTgP7rszDrMds0/\",\"dtype\":\"float64\",\"shape\":[9]},\"y_values\":{\"__ndarray__\":\"9PC8jW0g6D/ic0q/ATHiPwjmdoo0Ruo/b3pV6Yx+6D/rdobO8TvoP/la+kFCWeg/qpiyEAdq4z+xxoGItTrmP7seSeMbAeI/\",\"dtype\":\"float64\",\"shape\":[9]}}},\"id\":\"458a79cc-278c-4601-a0ec-2cc0e84a7163\",\"type\":\"ColumnDataSource\"},{\"attributes\":{\"dimension\":1,\"plot\":{\"id\":\"1db31647-7f6e-4252-8287-910fc08661a5\",\"subtype\":\"Chart\",\"type\":\"Plot\"},\"ticker\":{\"id\":\"aba99c40-9fa3-4770-845a-2080cd0baf78\",\"type\":\"BasicTicker\"}},\"id\":\"4340793b-2638-4d60-b1c8-00dd60eccee4\",\"type\":\"Grid\"},{\"attributes\":{\"data_source\":{\"id\":\"07c5d0f0-1aac-41c9-ba18-fe4c7dcc0e5b\",\"type\":\"ColumnDataSource\"},\"glyph\":{\"id\":\"0cb9cc81-d8e6-4b41-b9d3-2ca72246c103\",\"type\":\"Circle\"},\"hover_glyph\":null,\"nonselection_glyph\":{\"id\":\"cdf4b21d-d39b-4edc-8525-a3a9fa1a3ccb\",\"type\":\"Circle\"},\"selection_glyph\":null},\"id\":\"24862384-6af6-4ae7-9194-613384b01e97\",\"type\":\"GlyphRenderer\"},{\"attributes\":{\"callback\":null},\"id\":\"bf903b9a-8be9-467b-ae41-4f006ec93825\",\"type\":\"ColumnDataSource\"},{\"attributes\":{},\"id\":\"43603d7a-3d01-40a3-89a2-b80f2b41bdc9\",\"type\":\"BasicTickFormatter\"},{\"attributes\":{\"fill_alpha\":{\"value\":0.1},\"fill_color\":{\"value\":\"#1f77b4\"},\"line_alpha\":{\"value\":0.1},\"line_color\":{\"value\":\"#1f77b4\"},\"size\":{\"units\":\"screen\",\"value\":15},\"x\":{\"value\":0.3259121292766496},\"y\":{\"value\":0.6990185474812647}},\"id\":\"cdf4b21d-d39b-4edc-8525-a3a9fa1a3ccb\",\"type\":\"Circle\"},{\"attributes\":{},\"id\":\"a1e27aa8-8c47-4781-9684-369fb0f9f147\",\"type\":\"BasicTicker\"},{\"attributes\":{\"fill_alpha\":{\"value\":0.1},\"fill_color\":{\"value\":\"#1f77b4\"},\"line_alpha\":{\"value\":0.1},\"line_color\":{\"value\":\"#1f77b4\"},\"size\":{\"units\":\"screen\",\"value\":15},\"x\":{\"value\":0.809983344776264},\"y\":{\"value\":0.5350350429028292}},\"id\":\"866a8d3f-9b6f-4a17-b289-7de7be4d2bb8\",\"type\":\"Circle\"},{\"attributes\":{\"fill_alpha\":{\"value\":0.5},\"fill_color\":{\"value\":\"grey\"},\"line_alpha\":{\"value\":0.5},\"line_color\":{\"value\":\"grey\"},\"size\":{\"units\":\"screen\",\"value\":15},\"x\":{\"value\":0.809983344776264},\"y\":{\"value\":0.5350350429028292}},\"id\":\"3dd8a595-68ef-4d36-95e8-07c8f3d531a7\",\"type\":\"Circle\"},{\"attributes\":{\"fill_alpha\":{\"value\":0.1},\"fill_color\":{\"value\":\"#1f77b4\"},\"line_alpha\":{\"value\":0.1},\"line_color\":{\"value\":\"#1f77b4\"},\"size\":{\"units\":\"screen\",\"value\":15},\"x\":{\"value\":0.2538615919049442},\"y\":{\"value\":0.2911959511172255}},\"id\":\"6b875bc8-39a4-417c-84e8-1703e1bc9995\",\"type\":\"Circle\"},{\"attributes\":{\"fill_alpha\":{\"value\":0.5},\"fill_color\":{\"value\":\"grey\"},\"line_alpha\":{\"value\":0.5},\"line_color\":{\"value\":\"grey\"},\"size\":{\"units\":\"screen\",\"value\":15},\"x\":{\"value\":0.2538615919049442},\"y\":{\"value\":0.2911959511172255}},\"id\":\"7c13e7ef-601c-4ab7-a3cf-bad960b2cfb9\",\"type\":\"Circle\"},{\"attributes\":{\"data_source\":{\"id\":\"efd6ba3b-49b1-4eda-b9e9-d82e0125a7d8\",\"type\":\"ColumnDataSource\"},\"glyph\":{\"id\":\"93a631a5-2c22-471e-ba33-a372a7d5fa5b\",\"type\":\"Circle\"},\"hover_glyph\":null,\"nonselection_glyph\":null,\"selection_glyph\":null},\"id\":\"21121c6e-bb08-4b5c-8930-f16ab3eeae04\",\"type\":\"GlyphRenderer\"},{\"attributes\":{\"plot\":{\"id\":\"1db31647-7f6e-4252-8287-910fc08661a5\",\"subtype\":\"Chart\",\"type\":\"Plot\"},\"ticker\":{\"id\":\"a1e27aa8-8c47-4781-9684-369fb0f9f147\",\"type\":\"BasicTicker\"}},\"id\":\"72619567-8b2a-4f2d-be9f-50e8d8fab486\",\"type\":\"Grid\"},{\"attributes\":{\"axis_label\":\"x1\",\"formatter\":{\"id\":\"847bec36-ad67-4f4d-9c7f-35ff68e3307f\",\"type\":\"BasicTickFormatter\"},\"plot\":{\"id\":\"1db31647-7f6e-4252-8287-910fc08661a5\",\"subtype\":\"Chart\",\"type\":\"Plot\"},\"ticker\":{\"id\":\"a1e27aa8-8c47-4781-9684-369fb0f9f147\",\"type\":\"BasicTicker\"}},\"id\":\"25671cbe-7fd3-40f6-8f3b-b1465c2cbf03\",\"type\":\"LinearAxis\"},{\"attributes\":{\"label\":{\"value\":\"1\"},\"renderers\":[{\"id\":\"1cf1ef1d-9c24-4f5d-a092-dc53eb1c453c\",\"type\":\"GlyphRenderer\"}]},\"id\":\"5d9730c7-861a-4e55-bcb5-e6903aa95d3a\",\"type\":\"LegendItem\"},{\"attributes\":{\"callback\":null},\"id\":\"07c5d0f0-1aac-41c9-ba18-fe4c7dcc0e5b\",\"type\":\"ColumnDataSource\"},{\"attributes\":{\"fill_alpha\":{\"value\":0.5},\"fill_color\":{\"value\":\"grey\"},\"line_alpha\":{\"value\":0.5},\"line_color\":{\"value\":\"grey\"},\"size\":{\"units\":\"screen\",\"value\":15},\"x\":{\"value\":0.3259121292766496},\"y\":{\"value\":0.6990185474812647}},\"id\":\"0cb9cc81-d8e6-4b41-b9d3-2ca72246c103\",\"type\":\"Circle\"},{\"attributes\":{},\"id\":\"25c22533-7079-48c0-bfeb-d651923c12ae\",\"type\":\"ToolEvents\"},{\"attributes\":{\"data_source\":{\"id\":\"458a79cc-278c-4601-a0ec-2cc0e84a7163\",\"type\":\"ColumnDataSource\"},\"glyph\":{\"id\":\"5e61b1c7-7627-4816-b1fe-84f852536202\",\"type\":\"Square\"},\"hover_glyph\":null,\"nonselection_glyph\":null,\"selection_glyph\":null},\"id\":\"1cf1ef1d-9c24-4f5d-a092-dc53eb1c453c\",\"type\":\"GlyphRenderer\"},{\"attributes\":{\"below\":[{\"id\":\"25671cbe-7fd3-40f6-8f3b-b1465c2cbf03\",\"type\":\"LinearAxis\"}],\"css_classes\":null,\"height\":500,\"left\":[{\"id\":\"d57b8de0-1e6a-47e6-b8fe-994674a8c370\",\"type\":\"LinearAxis\"}],\"renderers\":[{\"id\":\"877da851-a1e6-4df3-b9f7-64a8e6a88bcd\",\"type\":\"BoxAnnotation\"},{\"id\":\"f732629b-d86d-4d4d-aa55-c2b234c369d2\",\"type\":\"GlyphRenderer\"},{\"id\":\"1cf1ef1d-9c24-4f5d-a092-dc53eb1c453c\",\"type\":\"GlyphRenderer\"},{\"id\":\"21121c6e-bb08-4b5c-8930-f16ab3eeae04\",\"type\":\"GlyphRenderer\"},{\"id\":\"38272404-6a17-4281-a600-10a33000c470\",\"type\":\"Legend\"},{\"id\":\"25671cbe-7fd3-40f6-8f3b-b1465c2cbf03\",\"type\":\"LinearAxis\"},{\"id\":\"d57b8de0-1e6a-47e6-b8fe-994674a8c370\",\"type\":\"LinearAxis\"},{\"id\":\"72619567-8b2a-4f2d-be9f-50e8d8fab486\",\"type\":\"Grid\"},{\"id\":\"4340793b-2638-4d60-b1c8-00dd60eccee4\",\"type\":\"Grid\"},{\"id\":\"930020bd-32f1-451c-bbec-4531fe8c900b\",\"type\":\"GlyphRenderer\"},{\"id\":\"24862384-6af6-4ae7-9194-613384b01e97\",\"type\":\"GlyphRenderer\"},{\"id\":\"f920aff4-f726-4f89-bb1a-cfc844e2bbd2\",\"type\":\"GlyphRenderer\"}],\"title\":{\"id\":\"7d29a736-09bf-4f9a-a146-600b3023c82d\",\"type\":\"Title\"},\"tool_events\":{\"id\":\"25c22533-7079-48c0-bfeb-d651923c12ae\",\"type\":\"ToolEvents\"},\"toolbar\":{\"id\":\"df216a4b-89fe-4af6-b2a4-e2e58cd893b8\",\"type\":\"Toolbar\"},\"width\":500,\"x_mapper_type\":\"auto\",\"x_range\":{\"id\":\"5b2a5ca8-84cb-4501-9ea3-bfce2c34645a\",\"type\":\"Range1d\"},\"y_mapper_type\":\"auto\",\"y_range\":{\"id\":\"b290c477-e223-4ad0-9da2-cb7f2442eb35\",\"type\":\"Range1d\"}},\"id\":\"1db31647-7f6e-4252-8287-910fc08661a5\",\"subtype\":\"Chart\",\"type\":\"Plot\"},{\"attributes\":{\"data_source\":{\"id\":\"bf903b9a-8be9-467b-ae41-4f006ec93825\",\"type\":\"ColumnDataSource\"},\"glyph\":{\"id\":\"7c13e7ef-601c-4ab7-a3cf-bad960b2cfb9\",\"type\":\"Circle\"},\"hover_glyph\":null,\"nonselection_glyph\":{\"id\":\"6b875bc8-39a4-417c-84e8-1703e1bc9995\",\"type\":\"Circle\"},\"selection_glyph\":null},\"id\":\"f920aff4-f726-4f89-bb1a-cfc844e2bbd2\",\"type\":\"GlyphRenderer\"},{\"attributes\":{\"overlay\":{\"id\":\"877da851-a1e6-4df3-b9f7-64a8e6a88bcd\",\"type\":\"BoxAnnotation\"},\"plot\":{\"id\":\"1db31647-7f6e-4252-8287-910fc08661a5\",\"subtype\":\"Chart\",\"type\":\"Plot\"}},\"id\":\"80a90b63-4add-4c4b-9940-7f4f35a2c3cd\",\"type\":\"BoxZoomTool\"},{\"attributes\":{\"fill_alpha\":{\"value\":0.7},\"fill_color\":{\"value\":\"#f22c40\"},\"line_color\":{\"value\":\"#f22c40\"},\"size\":{\"units\":\"screen\",\"value\":8},\"x\":{\"field\":\"x_values\"},\"y\":{\"field\":\"y_values\"}},\"id\":\"93a631a5-2c22-471e-ba33-a372a7d5fa5b\",\"type\":\"Circle\"},{\"attributes\":{\"label\":{\"value\":\"2\"},\"renderers\":[{\"id\":\"f732629b-d86d-4d4d-aa55-c2b234c369d2\",\"type\":\"GlyphRenderer\"}]},\"id\":\"44fe42c9-abf3-431d-862d-c240eb65ca60\",\"type\":\"LegendItem\"},{\"attributes\":{\"plot\":{\"id\":\"1db31647-7f6e-4252-8287-910fc08661a5\",\"subtype\":\"Chart\",\"type\":\"Plot\"}},\"id\":\"8bd28911-1170-4a24-b9a8-2fcc07a8e0d1\",\"type\":\"SaveTool\"},{\"attributes\":{\"label\":{\"value\":\"0\"},\"renderers\":[{\"id\":\"21121c6e-bb08-4b5c-8930-f16ab3eeae04\",\"type\":\"GlyphRenderer\"}]},\"id\":\"7c5059c3-6429-43c7-afc4-c05271be1e54\",\"type\":\"LegendItem\"},{\"attributes\":{\"plot\":{\"id\":\"1db31647-7f6e-4252-8287-910fc08661a5\",\"subtype\":\"Chart\",\"type\":\"Plot\"}},\"id\":\"140d11d4-7970-4235-b7f6-8983e493b776\",\"type\":\"WheelZoomTool\"},{\"attributes\":{\"bottom_units\":\"screen\",\"fill_alpha\":{\"value\":0.5},\"fill_color\":{\"value\":\"lightgrey\"},\"left_units\":\"screen\",\"level\":\"overlay\",\"line_alpha\":{\"value\":1.0},\"line_color\":{\"value\":\"black\"},\"line_dash\":[4,4],\"line_width\":{\"value\":2},\"plot\":null,\"render_mode\":\"css\",\"right_units\":\"screen\",\"top_units\":\"screen\"},\"id\":\"877da851-a1e6-4df3-b9f7-64a8e6a88bcd\",\"type\":\"BoxAnnotation\"},{\"attributes\":{\"plot\":{\"id\":\"1db31647-7f6e-4252-8287-910fc08661a5\",\"subtype\":\"Chart\",\"type\":\"Plot\"}},\"id\":\"ca171751-e642-4453-9f4f-0e0187df107d\",\"type\":\"ResetTool\"},{\"attributes\":{\"plot\":{\"id\":\"1db31647-7f6e-4252-8287-910fc08661a5\",\"subtype\":\"Chart\",\"type\":\"Plot\"}},\"id\":\"72f96e5d-e743-4814-a9e9-7223c50ed06b\",\"type\":\"HelpTool\"},{\"attributes\":{\"axis_label\":\"x2\",\"formatter\":{\"id\":\"43603d7a-3d01-40a3-89a2-b80f2b41bdc9\",\"type\":\"BasicTickFormatter\"},\"plot\":{\"id\":\"1db31647-7f6e-4252-8287-910fc08661a5\",\"subtype\":\"Chart\",\"type\":\"Plot\"},\"ticker\":{\"id\":\"aba99c40-9fa3-4770-845a-2080cd0baf78\",\"type\":\"BasicTicker\"}},\"id\":\"d57b8de0-1e6a-47e6-b8fe-994674a8c370\",\"type\":\"LinearAxis\"},{\"attributes\":{\"plot\":null,\"text\":null},\"id\":\"7d29a736-09bf-4f9a-a146-600b3023c82d\",\"type\":\"Title\"},{\"attributes\":{\"active_drag\":\"auto\",\"active_scroll\":\"auto\",\"active_tap\":\"auto\",\"tools\":[{\"id\":\"d6ed85d5-9195-43e2-b79a-785b4e7d6997\",\"type\":\"PanTool\"},{\"id\":\"140d11d4-7970-4235-b7f6-8983e493b776\",\"type\":\"WheelZoomTool\"},{\"id\":\"80a90b63-4add-4c4b-9940-7f4f35a2c3cd\",\"type\":\"BoxZoomTool\"},{\"id\":\"8bd28911-1170-4a24-b9a8-2fcc07a8e0d1\",\"type\":\"SaveTool\"},{\"id\":\"ca171751-e642-4453-9f4f-0e0187df107d\",\"type\":\"ResetTool\"},{\"id\":\"72f96e5d-e743-4814-a9e9-7223c50ed06b\",\"type\":\"HelpTool\"}]},\"id\":\"df216a4b-89fe-4af6-b2a4-e2e58cd893b8\",\"type\":\"Toolbar\"},{\"attributes\":{},\"id\":\"aba99c40-9fa3-4770-845a-2080cd0baf78\",\"type\":\"BasicTicker\"},{\"attributes\":{\"callback\":null},\"id\":\"e99fecca-3929-4184-8a6a-a7b138dea25d\",\"type\":\"ColumnDataSource\"},{\"attributes\":{\"callback\":null,\"end\":0.8862225813011381,\"start\":0.10439130949577743},\"id\":\"b290c477-e223-4ad0-9da2-cb7f2442eb35\",\"type\":\"Range1d\"},{\"attributes\":{\"data_source\":{\"id\":\"e99fecca-3929-4184-8a6a-a7b138dea25d\",\"type\":\"ColumnDataSource\"},\"glyph\":{\"id\":\"3dd8a595-68ef-4d36-95e8-07c8f3d531a7\",\"type\":\"Circle\"},\"hover_glyph\":null,\"nonselection_glyph\":{\"id\":\"866a8d3f-9b6f-4a17-b289-7de7be4d2bb8\",\"type\":\"Circle\"},\"selection_glyph\":null},\"id\":\"930020bd-32f1-451c-bbec-4531fe8c900b\",\"type\":\"GlyphRenderer\"},{\"attributes\":{\"callback\":null,\"end\":1.1,\"start\":-0.1},\"id\":\"5b2a5ca8-84cb-4501-9ea3-bfce2c34645a\",\"type\":\"Range1d\"},{\"attributes\":{\"items\":[{\"id\":\"44fe42c9-abf3-431d-862d-c240eb65ca60\",\"type\":\"LegendItem\"},{\"id\":\"5d9730c7-861a-4e55-bcb5-e6903aa95d3a\",\"type\":\"LegendItem\"},{\"id\":\"7c5059c3-6429-43c7-afc4-c05271be1e54\",\"type\":\"LegendItem\"}],\"location\":\"top_left\",\"plot\":{\"id\":\"1db31647-7f6e-4252-8287-910fc08661a5\",\"subtype\":\"Chart\",\"type\":\"Plot\"}},\"id\":\"38272404-6a17-4281-a600-10a33000c470\",\"type\":\"Legend\"},{\"attributes\":{\"plot\":{\"id\":\"1db31647-7f6e-4252-8287-910fc08661a5\",\"subtype\":\"Chart\",\"type\":\"Plot\"}},\"id\":\"d6ed85d5-9195-43e2-b79a-785b4e7d6997\",\"type\":\"PanTool\"},{\"attributes\":{\"callback\":null,\"column_names\":[\"x_values\",\"y_values\"],\"data\":{\"chart_index\":[{\"clusters\":0},{\"clusters\":0},{\"clusters\":0},{\"clusters\":0},{\"clusters\":0},{\"clusters\":0}],\"clusters\":[0,0,0,0,0,0],\"x_values\":{\"__ndarray__\":\"UtDc6hd16T/d/Xz8Vb3nP3teHPsq0es/A/BKniOP6T8AAAAAAADwP/CvVaWQ8eQ/\",\"dtype\":\"float64\",\"shape\":[6]},\"y_values\":{\"__ndarray__\":\"HV96XYq42D/MqwsEr4znP/A4HHKds8U/SzcwJ1hf5T+zGW8g8a3hP3E9rQXmVuY/\",\"dtype\":\"float64\",\"shape\":[6]}}},\"id\":\"efd6ba3b-49b1-4eda-b9e9-d82e0125a7d8\",\"type\":\"ColumnDataSource\"}],\"root_ids\":[\"1db31647-7f6e-4252-8287-910fc08661a5\"]},\"title\":\"Bokeh Application\",\"version\":\"0.12.4\"}};\n",
       "            var render_items = [{\"docid\":\"188fa4d7-dd2a-4703-a964-38c0aeb4bfb8\",\"elementid\":\"d392a1e3-b889-44ef-ac4d-0cb9a2b1d558\",\"modelid\":\"1db31647-7f6e-4252-8287-910fc08661a5\"}];\n",
       "            \n",
       "            Bokeh.embed.embed_items(docs_json, render_items);\n",
       "          };\n",
       "          if (document.readyState != \"loading\") fn();\n",
       "          else document.addEventListener(\"DOMContentLoaded\", fn);\n",
       "        })();\n",
       "      },\n",
       "      function(Bokeh) {\n",
       "      }\n",
       "    ];\n",
       "  \n",
       "    function run_inline_js() {\n",
       "      \n",
       "      if ((window.Bokeh !== undefined) || (force === true)) {\n",
       "        for (var i = 0; i < inline_js.length; i++) {\n",
       "          inline_js[i](window.Bokeh);\n",
       "        }if (force === true) {\n",
       "          display_loaded();\n",
       "        }} else if (Date.now() < window._bokeh_timeout) {\n",
       "        setTimeout(run_inline_js, 100);\n",
       "      } else if (!window._bokeh_failed_load) {\n",
       "        console.log(\"Bokeh: BokehJS failed to load within specified timeout.\");\n",
       "        window._bokeh_failed_load = true;\n",
       "      } else if (force !== true) {\n",
       "        var cell = $(document.getElementById(\"d392a1e3-b889-44ef-ac4d-0cb9a2b1d558\")).parents('.cell').data().cell;\n",
       "        cell.output_area.append_execute_result(NB_LOAD_WARNING)\n",
       "      }\n",
       "  \n",
       "    }\n",
       "  \n",
       "    if (window._bokeh_is_loading === 0) {\n",
       "      console.log(\"Bokeh: BokehJS loaded, going straight to plotting\");\n",
       "      run_inline_js();\n",
       "    } else {\n",
       "      load_libs(js_urls, function() {\n",
       "        console.log(\"Bokeh: BokehJS plotting callback run at\", now());\n",
       "        run_inline_js();\n",
       "      });\n",
       "    }\n",
       "  }(this));\n",
       "</script>"
      ]
     },
     "metadata": {},
     "output_type": "display_data"
    }
   ],
   "source": [
    "plot_clusters(clust.predict(X), clust.cluster_centers_)"
   ]
  },
  {
   "cell_type": "markdown",
   "metadata": {
    "collapsed": true,
    "deletable": true,
    "editable": true,
    "slideshow": {
     "slide_type": "slide"
    }
   },
   "source": [
    "### Clustering a la Mixed Integer Linear Optimization"
   ]
  },
  {
   "cell_type": "markdown",
   "metadata": {
    "deletable": true,
    "editable": true,
    "slideshow": {
     "slide_type": "subslide"
    }
   },
   "source": [
    "Let's extend the linar optimization model support the concept of binary variables.\n",
    "\n",
    "$$\n",
    "\\begin{align}\n",
    "    \\text{min}  \\ \\ \\ & \\ c'x + d'y \\\\\n",
    "    \\text{s.t.} \\ \\ \\ & \\ A x + D y = b \\\\\n",
    "                      & \\ x \\ge 0 \\\\\n",
    "                      & \\ y \\in \\{0, 1\\}\n",
    "\\end{align}\n",
    "$$\n",
    "\n",
    "$y$ is a vector of variables which can only take values $0$ or $1$. These represent discrete decisions and allow logical relationships among them."
   ]
  },
  {
   "cell_type": "markdown",
   "metadata": {
    "deletable": true,
    "editable": true,
    "slideshow": {
     "slide_type": "fragment"
    }
   },
   "source": [
    "Discrete optimization is very powerful, but not well solved the way linear optimization is. Model solvability is highly dependent on formulation."
   ]
  },
  {
   "cell_type": "markdown",
   "metadata": {
    "deletable": true,
    "editable": true,
    "slideshow": {
     "slide_type": "subslide"
    }
   },
   "source": [
    "What's a clustering model look like with binary variables?\n",
    "\n",
    "#### Inputs:\n",
    "\n",
    "$$(x_{1i}, x_{2i}) = \\text{location of observed point} \\in [0, 1]\\ \\forall\\ i$$\n"
   ]
  },
  {
   "cell_type": "markdown",
   "metadata": {
    "deletable": true,
    "editable": true,
    "slideshow": {
     "slide_type": "fragment"
    }
   },
   "source": [
    "#### Model:\n",
    "\n",
    "We need to make two major types of decisions:\n",
    "\n",
    "* Where are the cluster centers, $\\{w_1, w_2, w_3\\}$?\n",
    "* Which cluster is each point assigned to? $v_{ij} = 1$ if point $i$ is part of cluster $j$, $0$ if not."
   ]
  },
  {
   "cell_type": "markdown",
   "metadata": {
    "deletable": true,
    "editable": true,
    "slideshow": {
     "slide_type": "subslide"
    }
   },
   "source": [
    "We minimize total [taxicab distance](https://en.wikipedia.org/wiki/Taxicab_geometry) from each point to its assigned cluster\n",
    "\n",
    "* $d_{x_{1}i}$ is the distance from point $i$ to its cluster center along the $x_1$ axis\n",
    "* $d_{x_{2}i}$ is the distance from point $i$ to its cluster center along the $x_2$ axis\n",
    "\n",
    "$$\n",
    "\\begin{align}\n",
    "    \\text{min}  \\ \\ \\ & \\ \\sum_i (d_{x_{1}i} + d_{x_{2}i}) \\ & \\ \\\\\n",
    "    \\text{s.t.} \\ \\ \\ & \\ \\sum_j v_{ij} = 1 & \\ \\forall\\ i \\\\\n",
    "                      & \\ d_{x_{1}i} \\ge (x_{1i} - w_{j1}) - (1 - v_{ij}) & \\ \\forall\\ i, j \\\\\n",
    "                      & \\ d_{x_{1}i} \\ge (w_{j1} - x_{1i}) - (1 - v_{ij}) & \\ \\forall\\ i, j \\\\\n",
    "                      & \\ d_{x_{2}i} \\ge (x_{2i} - w_{j2}) - (1 - v_{ij}) & \\ \\forall\\ i, j \\\\\n",
    "                      & \\ d_{x_{2}i} \\ge (w_{j2} - x_{2i}) - (1 - v_{ij}) & \\ \\forall\\ i, j \\\\\n",
    "                      & \\ 0 \\le d_x \\le 1 \\\\\n",
    "                      & v_{ij} \\in \\{0, 1\\}\n",
    "\\end{align}\n",
    "$$"
   ]
  },
  {
   "cell_type": "markdown",
   "metadata": {
    "deletable": true,
    "editable": true,
    "slideshow": {
     "slide_type": "subslide"
    }
   },
   "source": [
    "Primary decision variables = locations of cluster centers"
   ]
  },
  {
   "cell_type": "code",
   "execution_count": 33,
   "metadata": {
    "collapsed": false,
    "deletable": true,
    "editable": true,
    "slideshow": {
     "slide_type": "-"
    }
   },
   "outputs": [],
   "source": [
    "w = []\n",
    "for j in range(len(centers)):\n",
    "    x10 = pulp.LpVariable('x_10%d' % j, lowBound=0, upBound=1)\n",
    "    x20 = pulp.LpVariable('x_20%d' % j, lowBound=0, upBound=1)\n",
    "    w.append([x10, x20])"
   ]
  },
  {
   "cell_type": "markdown",
   "metadata": {
    "deletable": true,
    "editable": true,
    "slideshow": {
     "slide_type": "subslide"
    }
   },
   "source": [
    "Secondary decision variables = do we associate point $i$ with cluster $j$?"
   ]
  },
  {
   "cell_type": "code",
   "execution_count": 34,
   "metadata": {
    "collapsed": false,
    "deletable": true,
    "editable": true,
    "slideshow": {
     "slide_type": "-"
    }
   },
   "outputs": [],
   "source": [
    "v = []\n",
    "for i in range(len(x1)):\n",
    "    vi = []\n",
    "    for j in range(len(w)):\n",
    "        vij = pulp.LpVariable('v_%d%d' % (i, j), cat=pulp.LpBinary)\n",
    "        vi.append(vij)\n",
    "    v.append(vi)"
   ]
  },
  {
   "cell_type": "markdown",
   "metadata": {
    "deletable": true,
    "editable": true,
    "slideshow": {
     "slide_type": "subslide"
    }
   },
   "source": [
    "Each point is associated with exactly one cluster."
   ]
  },
  {
   "cell_type": "code",
   "execution_count": 35,
   "metadata": {
    "collapsed": true,
    "deletable": true,
    "editable": true,
    "slideshow": {
     "slide_type": "-"
    }
   },
   "outputs": [],
   "source": [
    "m = pulp.LpProblem(sense=pulp.LpMinimize)\n",
    "for vi in v:\n",
    "    m += sum(vi) == 1"
   ]
  },
  {
   "cell_type": "markdown",
   "metadata": {
    "deletable": true,
    "editable": true,
    "slideshow": {
     "slide_type": "subslide"
    }
   },
   "source": [
    "Make a list of taxicab distance variables to guide the optimizer."
   ]
  },
  {
   "cell_type": "code",
   "execution_count": 36,
   "metadata": {
    "collapsed": false,
    "deletable": true,
    "editable": true,
    "slideshow": {
     "slide_type": "-"
    }
   },
   "outputs": [],
   "source": [
    "distances = []\n",
    "for i, (vi, x1i, x2i), in enumerate(zip(v, x1, x2)):\n",
    "    for j, (wj, vij) in enumerate(zip(w, vi)):\n",
    "        x10, x20 = wj\n",
    "        \n",
    "        dx1 = pulp.LpVariable('dx_1%d%d' % (i, j), lowBound=0, upBound=1)\n",
    "        dx2 = pulp.LpVariable('dx_2%d%d' % (i, j), lowBound=0, upBound=1)\n",
    "    \n",
    "        m += dx1 >= (x1i - x10) - (1 - vij)\n",
    "        m += dx1 >= (x10 - x1i) - (1 - vij)\n",
    "\n",
    "        m += dx2 >= (x2i - x20) - (1 - vij)\n",
    "        m += dx2 >= (x20 - x2i) - (1 - vij)\n",
    "        \n",
    "        distances.extend([dx1, dx2])"
   ]
  },
  {
   "cell_type": "markdown",
   "metadata": {
    "deletable": true,
    "editable": true,
    "slideshow": {
     "slide_type": "subslide"
    }
   },
   "source": [
    "__WARNING WARNING WARNING__\n",
    "\n",
    "Symmetry elimination is beyond the scope of this talk.\n",
    "\n",
    "We don't technically need it to solve this model, but it sure can help."
   ]
  },
  {
   "cell_type": "code",
   "execution_count": 37,
   "metadata": {
    "collapsed": true,
    "deletable": true,
    "editable": true,
    "slideshow": {
     "slide_type": "-"
    }
   },
   "outputs": [],
   "source": [
    "for j, (x01_1, x02_1) in enumerate(w):\n",
    "    for x01_2, x02_2 in w[j+1:]:\n",
    "        m += x01_1 + x02_1 <= x01_2 + x02_2"
   ]
  },
  {
   "cell_type": "markdown",
   "metadata": {
    "deletable": true,
    "editable": true,
    "slideshow": {
     "slide_type": "subslide"
    }
   },
   "source": [
    "Total distance from points to their cluster centers is our objective function."
   ]
  },
  {
   "cell_type": "code",
   "execution_count": 38,
   "metadata": {
    "collapsed": false,
    "deletable": true,
    "editable": true,
    "slideshow": {
     "slide_type": "-"
    }
   },
   "outputs": [],
   "source": [
    "m.setObjective(sum(distances))\n",
    "assert m.solve() == pulp.LpStatusOptimal"
   ]
  },
  {
   "cell_type": "code",
   "execution_count": 39,
   "metadata": {
    "collapsed": false,
    "deletable": true,
    "editable": true,
    "slideshow": {
     "slide_type": "fragment"
    }
   },
   "outputs": [
    {
     "name": "stdout",
     "output_type": "stream",
     "text": [
      "[0.35947481, 0.24456388]\n",
      "[0.23018792, 0.75395849]\n",
      "[0.79554363, 0.60669282]\n"
     ]
    }
   ],
   "source": [
    "cluster_centers = []\n",
    "for wj in w:\n",
    "    cluster_centers.append([wj[0].value(), wj[1].value()])\n",
    "\n",
    "for c in cluster_centers:\n",
    "    print(c)"
   ]
  },
  {
   "cell_type": "markdown",
   "metadata": {
    "deletable": true,
    "editable": true,
    "slideshow": {
     "slide_type": "subslide"
    }
   },
   "source": [
    "There's no predict method, so we yank that information out of the $v_{ij}$ variables."
   ]
  },
  {
   "cell_type": "code",
   "execution_count": 40,
   "metadata": {
    "collapsed": false,
    "deletable": true,
    "editable": true,
    "slideshow": {
     "slide_type": "-"
    }
   },
   "outputs": [],
   "source": [
    "clusters = []\n",
    "for vi in v:\n",
    "    for c, vij in zip([0, 1, 2], vi):\n",
    "        if vij.value() > 0.5:\n",
    "            clusters.append(c)\n",
    "            break"
   ]
  },
  {
   "cell_type": "markdown",
   "metadata": {
    "deletable": true,
    "editable": true,
    "slideshow": {
     "slide_type": "subslide"
    }
   },
   "source": [
    "How'd mixed integer optimization do?"
   ]
  },
  {
   "cell_type": "code",
   "execution_count": 41,
   "metadata": {
    "collapsed": false,
    "deletable": true,
    "editable": true,
    "slideshow": {
     "slide_type": "-"
    }
   },
   "outputs": [
    {
     "data": {
      "text/html": [
       "\n",
       "\n",
       "    <div class=\"bk-root\">\n",
       "        <div class=\"bk-plotdiv\" id=\"5a5e0724-fad4-4e4c-9571-68347dd46465\"></div>\n",
       "    </div>\n",
       "<script type=\"text/javascript\">\n",
       "  \n",
       "  (function(global) {\n",
       "    function now() {\n",
       "      return new Date();\n",
       "    }\n",
       "  \n",
       "    var force = false;\n",
       "  \n",
       "    if (typeof (window._bokeh_onload_callbacks) === \"undefined\" || force === true) {\n",
       "      window._bokeh_onload_callbacks = [];\n",
       "      window._bokeh_is_loading = undefined;\n",
       "    }\n",
       "  \n",
       "  \n",
       "    \n",
       "    if (typeof (window._bokeh_timeout) === \"undefined\" || force === true) {\n",
       "      window._bokeh_timeout = Date.now() + 0;\n",
       "      window._bokeh_failed_load = false;\n",
       "    }\n",
       "  \n",
       "    var NB_LOAD_WARNING = {'data': {'text/html':\n",
       "       \"<div style='background-color: #fdd'>\\n\"+\n",
       "       \"<p>\\n\"+\n",
       "       \"BokehJS does not appear to have successfully loaded. If loading BokehJS from CDN, this \\n\"+\n",
       "       \"may be due to a slow or bad network connection. Possible fixes:\\n\"+\n",
       "       \"</p>\\n\"+\n",
       "       \"<ul>\\n\"+\n",
       "       \"<li>re-rerun `output_notebook()` to attempt to load from CDN again, or</li>\\n\"+\n",
       "       \"<li>use INLINE resources instead, as so:</li>\\n\"+\n",
       "       \"</ul>\\n\"+\n",
       "       \"<code>\\n\"+\n",
       "       \"from bokeh.resources import INLINE\\n\"+\n",
       "       \"output_notebook(resources=INLINE)\\n\"+\n",
       "       \"</code>\\n\"+\n",
       "       \"</div>\"}};\n",
       "  \n",
       "    function display_loaded() {\n",
       "      if (window.Bokeh !== undefined) {\n",
       "        document.getElementById(\"5a5e0724-fad4-4e4c-9571-68347dd46465\").textContent = \"BokehJS successfully loaded.\";\n",
       "      } else if (Date.now() < window._bokeh_timeout) {\n",
       "        setTimeout(display_loaded, 100)\n",
       "      }\n",
       "    }\n",
       "  \n",
       "    function run_callbacks() {\n",
       "      window._bokeh_onload_callbacks.forEach(function(callback) { callback() });\n",
       "      delete window._bokeh_onload_callbacks\n",
       "      console.info(\"Bokeh: all callbacks have finished\");\n",
       "    }\n",
       "  \n",
       "    function load_libs(js_urls, callback) {\n",
       "      window._bokeh_onload_callbacks.push(callback);\n",
       "      if (window._bokeh_is_loading > 0) {\n",
       "        console.log(\"Bokeh: BokehJS is being loaded, scheduling callback at\", now());\n",
       "        return null;\n",
       "      }\n",
       "      if (js_urls == null || js_urls.length === 0) {\n",
       "        run_callbacks();\n",
       "        return null;\n",
       "      }\n",
       "      console.log(\"Bokeh: BokehJS not loaded, scheduling load and callback at\", now());\n",
       "      window._bokeh_is_loading = js_urls.length;\n",
       "      for (var i = 0; i < js_urls.length; i++) {\n",
       "        var url = js_urls[i];\n",
       "        var s = document.createElement('script');\n",
       "        s.src = url;\n",
       "        s.async = false;\n",
       "        s.onreadystatechange = s.onload = function() {\n",
       "          window._bokeh_is_loading--;\n",
       "          if (window._bokeh_is_loading === 0) {\n",
       "            console.log(\"Bokeh: all BokehJS libraries loaded\");\n",
       "            run_callbacks()\n",
       "          }\n",
       "        };\n",
       "        s.onerror = function() {\n",
       "          console.warn(\"failed to load library \" + url);\n",
       "        };\n",
       "        console.log(\"Bokeh: injecting script tag for BokehJS library: \", url);\n",
       "        document.getElementsByTagName(\"head\")[0].appendChild(s);\n",
       "      }\n",
       "    };var element = document.getElementById(\"5a5e0724-fad4-4e4c-9571-68347dd46465\");\n",
       "    if (element == null) {\n",
       "      console.log(\"Bokeh: ERROR: autoload.js configured with elementid '5a5e0724-fad4-4e4c-9571-68347dd46465' but no matching script tag was found. \")\n",
       "      return false;\n",
       "    }\n",
       "  \n",
       "    var js_urls = [];\n",
       "  \n",
       "    var inline_js = [\n",
       "      function(Bokeh) {\n",
       "        (function() {\n",
       "          var fn = function() {\n",
       "            var docs_json = {\"675f4abb-3098-4d50-91c2-eef033868778\":{\"roots\":{\"references\":[{\"attributes\":{\"data_source\":{\"id\":\"71f2fde3-64a4-4180-827c-1859749469a1\",\"type\":\"ColumnDataSource\"},\"glyph\":{\"id\":\"c33d9b50-07fe-4367-b910-6d3e915f015a\",\"type\":\"Circle\"},\"hover_glyph\":null,\"nonselection_glyph\":{\"id\":\"fa107554-f7d0-4068-817e-f37809ac2be8\",\"type\":\"Circle\"},\"selection_glyph\":null},\"id\":\"5d23160e-797d-41d0-8ee8-ebfd3e8d1ad2\",\"type\":\"GlyphRenderer\"},{\"attributes\":{\"plot\":{\"id\":\"e7117e22-df1d-4206-b028-bccf2f109bb3\",\"subtype\":\"Chart\",\"type\":\"Plot\"}},\"id\":\"467a386d-3091-44cc-84b1-c349aba5debe\",\"type\":\"PanTool\"},{\"attributes\":{\"callback\":null,\"column_names\":[\"x_values\",\"y_values\"],\"data\":{\"chart_index\":[{\"clusters\":2},{\"clusters\":2},{\"clusters\":2},{\"clusters\":2},{\"clusters\":2},{\"clusters\":2},{\"clusters\":2}],\"clusters\":[2,2,2,2,2,2,2],\"x_values\":{\"__ndarray__\":\"Xt3d2x0E4T9S0NzqF3XpP939fPxVvec/e14c+yrR6z8D8EqeI4/pPwAAAAAAAPA/8K9VpZDx5D8=\",\"dtype\":\"float64\",\"shape\":[7]},\"y_values\":{\"__ndarray__\":\"qpiyEAdq4z8dX3pdirjYP8yrCwSvjOc/8Dgccp2zxT9LNzAnWF/lP7MZbyDxreE/cT2tBeZW5j8=\",\"dtype\":\"float64\",\"shape\":[7]}}},\"id\":\"0c90d5d6-5b1f-4bbe-9930-6972e078c40c\",\"type\":\"ColumnDataSource\"},{\"attributes\":{\"fill_alpha\":{\"value\":0.1},\"fill_color\":{\"value\":\"#1f77b4\"},\"line_alpha\":{\"value\":0.1},\"line_color\":{\"value\":\"#1f77b4\"},\"size\":{\"units\":\"screen\",\"value\":15},\"x\":{\"value\":0.79554363},\"y\":{\"value\":0.60669282}},\"id\":\"0ef5d309-6e3f-494e-b125-a57ae9646afe\",\"type\":\"Circle\"},{\"attributes\":{},\"id\":\"a5c8446b-7a11-44ad-a314-9ff215c9c9b1\",\"type\":\"BasicTickFormatter\"},{\"attributes\":{\"fill_alpha\":{\"value\":0.5},\"fill_color\":{\"value\":\"grey\"},\"line_alpha\":{\"value\":0.5},\"line_color\":{\"value\":\"grey\"},\"size\":{\"units\":\"screen\",\"value\":15},\"x\":{\"value\":0.79554363},\"y\":{\"value\":0.60669282}},\"id\":\"4ffcc450-5b39-4829-b3d9-bd96a7104ea2\",\"type\":\"Circle\"},{\"attributes\":{\"plot\":{\"id\":\"e7117e22-df1d-4206-b028-bccf2f109bb3\",\"subtype\":\"Chart\",\"type\":\"Plot\"},\"ticker\":{\"id\":\"14def72d-1920-43da-be18-aa8e6d290bc9\",\"type\":\"BasicTicker\"}},\"id\":\"7aa6164c-690c-4e82-9fcb-4a9bf64e69b9\",\"type\":\"Grid\"},{\"attributes\":{\"callback\":null,\"column_names\":[\"x_values\",\"y_values\"],\"data\":{\"chart_index\":[{\"clusters\":1},{\"clusters\":1},{\"clusters\":1},{\"clusters\":1},{\"clusters\":1},{\"clusters\":1},{\"clusters\":1},{\"clusters\":1},{\"clusters\":1}],\"clusters\":[1,1,1,1,1,1,1,1,1],\"x_values\":{\"__ndarray__\":\"tteZ4fOWwj8AAAAAAAAAALLlTWaiHsI/tE7paAZn4D/k7CX39pfPP8MSl9MAJs0/mYN8K79E2T8Wrs4IvxTgP7rszDrMds0/\",\"dtype\":\"float64\",\"shape\":[9]},\"y_values\":{\"__ndarray__\":\"9PC8jW0g6D8WO4N0P1jdP+JzSr8BMeI/COZ2ijRG6j9velXpjH7oP+t2hs7xO+g/+Vr6QUJZ6D+xxoGItTrmP7seSeMbAeI/\",\"dtype\":\"float64\",\"shape\":[9]}}},\"id\":\"85d581be-4289-40b0-861b-8fb15571d056\",\"type\":\"ColumnDataSource\"},{\"attributes\":{\"below\":[{\"id\":\"029944dd-0402-4b44-bd5f-8330c74fbe73\",\"type\":\"LinearAxis\"}],\"css_classes\":null,\"height\":500,\"left\":[{\"id\":\"dadb07ef-a4a9-42e5-be35-5ade9730d7b8\",\"type\":\"LinearAxis\"}],\"renderers\":[{\"id\":\"5623711a-d153-4a97-9302-9ab2a352327f\",\"type\":\"BoxAnnotation\"},{\"id\":\"50174226-e5bf-4039-85a2-2caa0cae11c8\",\"type\":\"GlyphRenderer\"},{\"id\":\"05967eb3-cd1d-43e7-886f-c37b1ab142ee\",\"type\":\"GlyphRenderer\"},{\"id\":\"8514f6bb-d5f0-464a-8e23-4cadcd3d4630\",\"type\":\"GlyphRenderer\"},{\"id\":\"f1e84cdc-caf7-4c7d-aeb8-1b31634d9f1c\",\"type\":\"Legend\"},{\"id\":\"029944dd-0402-4b44-bd5f-8330c74fbe73\",\"type\":\"LinearAxis\"},{\"id\":\"dadb07ef-a4a9-42e5-be35-5ade9730d7b8\",\"type\":\"LinearAxis\"},{\"id\":\"7aa6164c-690c-4e82-9fcb-4a9bf64e69b9\",\"type\":\"Grid\"},{\"id\":\"c4aaa519-e5e4-41fd-97b6-03789a8119d8\",\"type\":\"Grid\"},{\"id\":\"5d23160e-797d-41d0-8ee8-ebfd3e8d1ad2\",\"type\":\"GlyphRenderer\"},{\"id\":\"74c08766-6cba-40f9-a68c-c5cf562f17c2\",\"type\":\"GlyphRenderer\"},{\"id\":\"354774b3-9a9e-4e3b-a60c-4f8b13ae9f26\",\"type\":\"GlyphRenderer\"}],\"title\":{\"id\":\"85d2bab2-eb20-498d-a2df-723c3ee4cdad\",\"type\":\"Title\"},\"tool_events\":{\"id\":\"8f9c39f0-a1cc-413a-913d-311868995a12\",\"type\":\"ToolEvents\"},\"toolbar\":{\"id\":\"c025545d-b8e6-4e6a-a147-49f9cede79d5\",\"type\":\"Toolbar\"},\"width\":500,\"x_mapper_type\":\"auto\",\"x_range\":{\"id\":\"920f6001-8de1-4bb2-91d6-fe2499693357\",\"type\":\"Range1d\"},\"y_mapper_type\":\"auto\",\"y_range\":{\"id\":\"bafcf846-db2b-44a8-96e1-d36ab22c8f45\",\"type\":\"Range1d\"}},\"id\":\"e7117e22-df1d-4206-b028-bccf2f109bb3\",\"subtype\":\"Chart\",\"type\":\"Plot\"},{\"attributes\":{\"data_source\":{\"id\":\"0fda6c0e-b54b-482e-ada8-a2ed05573a13\",\"type\":\"ColumnDataSource\"},\"glyph\":{\"id\":\"4ffcc450-5b39-4829-b3d9-bd96a7104ea2\",\"type\":\"Circle\"},\"hover_glyph\":null,\"nonselection_glyph\":{\"id\":\"0ef5d309-6e3f-494e-b125-a57ae9646afe\",\"type\":\"Circle\"},\"selection_glyph\":null},\"id\":\"354774b3-9a9e-4e3b-a60c-4f8b13ae9f26\",\"type\":\"GlyphRenderer\"},{\"attributes\":{\"data_source\":{\"id\":\"de40c99d-595b-47ce-8518-8753d76d219d\",\"type\":\"ColumnDataSource\"},\"glyph\":{\"id\":\"0e966514-46a8-499d-aab5-ae46cd6debf3\",\"type\":\"Circle\"},\"hover_glyph\":null,\"nonselection_glyph\":{\"id\":\"fa9cf3bc-702a-4c45-80e9-f7f43066a2d8\",\"type\":\"Circle\"},\"selection_glyph\":null},\"id\":\"74c08766-6cba-40f9-a68c-c5cf562f17c2\",\"type\":\"GlyphRenderer\"},{\"attributes\":{\"callback\":null},\"id\":\"71f2fde3-64a4-4180-827c-1859749469a1\",\"type\":\"ColumnDataSource\"},{\"attributes\":{\"label\":{\"value\":\"0\"},\"renderers\":[{\"id\":\"50174226-e5bf-4039-85a2-2caa0cae11c8\",\"type\":\"GlyphRenderer\"}]},\"id\":\"adac0780-64e9-4418-991d-81a903813f28\",\"type\":\"LegendItem\"},{\"attributes\":{\"items\":[{\"id\":\"adac0780-64e9-4418-991d-81a903813f28\",\"type\":\"LegendItem\"},{\"id\":\"9c8ceab4-d040-4be9-9027-10965cfe092d\",\"type\":\"LegendItem\"},{\"id\":\"17ac44ff-ec52-4e5f-bf9e-6cb52d33e473\",\"type\":\"LegendItem\"}],\"location\":\"top_left\",\"plot\":{\"id\":\"e7117e22-df1d-4206-b028-bccf2f109bb3\",\"subtype\":\"Chart\",\"type\":\"Plot\"}},\"id\":\"f1e84cdc-caf7-4c7d-aeb8-1b31634d9f1c\",\"type\":\"Legend\"},{\"attributes\":{\"fill_alpha\":{\"value\":0.7},\"fill_color\":{\"value\":\"#5ab738\"},\"line_color\":{\"value\":\"#5ab738\"},\"size\":{\"units\":\"screen\",\"value\":8},\"x\":{\"field\":\"x_values\"},\"y\":{\"field\":\"y_values\"}},\"id\":\"61b54194-b6f0-45e1-b967-21ab310c079f\",\"type\":\"Square\"},{\"attributes\":{\"data_source\":{\"id\":\"85d581be-4289-40b0-861b-8fb15571d056\",\"type\":\"ColumnDataSource\"},\"glyph\":{\"id\":\"61b54194-b6f0-45e1-b967-21ab310c079f\",\"type\":\"Square\"},\"hover_glyph\":null,\"nonselection_glyph\":null,\"selection_glyph\":null},\"id\":\"05967eb3-cd1d-43e7-886f-c37b1ab142ee\",\"type\":\"GlyphRenderer\"},{\"attributes\":{\"fill_alpha\":{\"value\":0.7},\"fill_color\":{\"value\":\"#407ee7\"},\"line_color\":{\"value\":\"#407ee7\"},\"size\":{\"units\":\"screen\",\"value\":8},\"x\":{\"field\":\"x_values\"},\"y\":{\"field\":\"y_values\"}},\"id\":\"7df80440-3893-4dec-a292-b975165cc95d\",\"type\":\"Triangle\"},{\"attributes\":{\"data_source\":{\"id\":\"0c90d5d6-5b1f-4bbe-9930-6972e078c40c\",\"type\":\"ColumnDataSource\"},\"glyph\":{\"id\":\"7df80440-3893-4dec-a292-b975165cc95d\",\"type\":\"Triangle\"},\"hover_glyph\":null,\"nonselection_glyph\":null,\"selection_glyph\":null},\"id\":\"8514f6bb-d5f0-464a-8e23-4cadcd3d4630\",\"type\":\"GlyphRenderer\"},{\"attributes\":{\"fill_alpha\":{\"value\":0.5},\"fill_color\":{\"value\":\"grey\"},\"line_alpha\":{\"value\":0.5},\"line_color\":{\"value\":\"grey\"},\"size\":{\"units\":\"screen\",\"value\":15},\"x\":{\"value\":0.23018792},\"y\":{\"value\":0.75395849}},\"id\":\"0e966514-46a8-499d-aab5-ae46cd6debf3\",\"type\":\"Circle\"},{\"attributes\":{\"callback\":null,\"end\":0.8862225813011381,\"start\":0.10439130949577743},\"id\":\"bafcf846-db2b-44a8-96e1-d36ab22c8f45\",\"type\":\"Range1d\"},{\"attributes\":{\"axis_label\":\"x2\",\"formatter\":{\"id\":\"34d3128e-249d-4a1f-8738-eb5cf40d79f6\",\"type\":\"BasicTickFormatter\"},\"plot\":{\"id\":\"e7117e22-df1d-4206-b028-bccf2f109bb3\",\"subtype\":\"Chart\",\"type\":\"Plot\"},\"ticker\":{\"id\":\"9ac6df2f-693e-4a29-ac4e-4d376229a7c4\",\"type\":\"BasicTicker\"}},\"id\":\"dadb07ef-a4a9-42e5-be35-5ade9730d7b8\",\"type\":\"LinearAxis\"},{\"attributes\":{\"callback\":null,\"end\":1.1,\"start\":-0.1},\"id\":\"920f6001-8de1-4bb2-91d6-fe2499693357\",\"type\":\"Range1d\"},{\"attributes\":{},\"id\":\"8f9c39f0-a1cc-413a-913d-311868995a12\",\"type\":\"ToolEvents\"},{\"attributes\":{\"callback\":null,\"column_names\":[\"x_values\",\"y_values\"],\"data\":{\"chart_index\":[{\"clusters\":0},{\"clusters\":0},{\"clusters\":0},{\"clusters\":0},{\"clusters\":0}],\"clusters\":[0,0,0,0,0],\"x_values\":{\"__ndarray__\":\"zpb+n6IB1z83tLEJ3YrgP5YR2R6HBd8/CIFdpHC9xD8AAAAAAAAAAA==\",\"dtype\":\"float64\",\"shape\":[5]},\"y_values\":{\"__ndarray__\":\"5szv5AEHyD/MnjfiLpfXP0icnYhVNMo/Um1Wh95Nzz9yQP28sB3SPw==\",\"dtype\":\"float64\",\"shape\":[5]}}},\"id\":\"6cf68944-9c1a-4128-b485-278d56a27a78\",\"type\":\"ColumnDataSource\"},{\"attributes\":{\"fill_alpha\":{\"value\":0.1},\"fill_color\":{\"value\":\"#1f77b4\"},\"line_alpha\":{\"value\":0.1},\"line_color\":{\"value\":\"#1f77b4\"},\"size\":{\"units\":\"screen\",\"value\":15},\"x\":{\"value\":0.35947481},\"y\":{\"value\":0.24456388}},\"id\":\"fa107554-f7d0-4068-817e-f37809ac2be8\",\"type\":\"Circle\"},{\"attributes\":{\"plot\":{\"id\":\"e7117e22-df1d-4206-b028-bccf2f109bb3\",\"subtype\":\"Chart\",\"type\":\"Plot\"}},\"id\":\"b0438c78-366a-42ab-8263-29b8c0311bef\",\"type\":\"SaveTool\"},{\"attributes\":{\"plot\":null,\"text\":null},\"id\":\"85d2bab2-eb20-498d-a2df-723c3ee4cdad\",\"type\":\"Title\"},{\"attributes\":{\"data_source\":{\"id\":\"6cf68944-9c1a-4128-b485-278d56a27a78\",\"type\":\"ColumnDataSource\"},\"glyph\":{\"id\":\"5cba78ad-83e7-403f-bf95-7bbde710d50c\",\"type\":\"Circle\"},\"hover_glyph\":null,\"nonselection_glyph\":null,\"selection_glyph\":null},\"id\":\"50174226-e5bf-4039-85a2-2caa0cae11c8\",\"type\":\"GlyphRenderer\"},{\"attributes\":{\"plot\":{\"id\":\"e7117e22-df1d-4206-b028-bccf2f109bb3\",\"subtype\":\"Chart\",\"type\":\"Plot\"}},\"id\":\"12f3b363-17b2-434f-9fa4-73929e09e5e9\",\"type\":\"WheelZoomTool\"},{\"attributes\":{\"bottom_units\":\"screen\",\"fill_alpha\":{\"value\":0.5},\"fill_color\":{\"value\":\"lightgrey\"},\"left_units\":\"screen\",\"level\":\"overlay\",\"line_alpha\":{\"value\":1.0},\"line_color\":{\"value\":\"black\"},\"line_dash\":[4,4],\"line_width\":{\"value\":2},\"plot\":null,\"render_mode\":\"css\",\"right_units\":\"screen\",\"top_units\":\"screen\"},\"id\":\"5623711a-d153-4a97-9302-9ab2a352327f\",\"type\":\"BoxAnnotation\"},{\"attributes\":{\"label\":{\"value\":\"2\"},\"renderers\":[{\"id\":\"8514f6bb-d5f0-464a-8e23-4cadcd3d4630\",\"type\":\"GlyphRenderer\"}]},\"id\":\"17ac44ff-ec52-4e5f-bf9e-6cb52d33e473\",\"type\":\"LegendItem\"},{\"attributes\":{},\"id\":\"34d3128e-249d-4a1f-8738-eb5cf40d79f6\",\"type\":\"BasicTickFormatter\"},{\"attributes\":{\"overlay\":{\"id\":\"5623711a-d153-4a97-9302-9ab2a352327f\",\"type\":\"BoxAnnotation\"},\"plot\":{\"id\":\"e7117e22-df1d-4206-b028-bccf2f109bb3\",\"subtype\":\"Chart\",\"type\":\"Plot\"}},\"id\":\"3f7218fa-d90a-4d03-9152-3e69768c07d9\",\"type\":\"BoxZoomTool\"},{\"attributes\":{\"dimension\":1,\"plot\":{\"id\":\"e7117e22-df1d-4206-b028-bccf2f109bb3\",\"subtype\":\"Chart\",\"type\":\"Plot\"},\"ticker\":{\"id\":\"9ac6df2f-693e-4a29-ac4e-4d376229a7c4\",\"type\":\"BasicTicker\"}},\"id\":\"c4aaa519-e5e4-41fd-97b6-03789a8119d8\",\"type\":\"Grid\"},{\"attributes\":{\"fill_alpha\":{\"value\":0.7},\"fill_color\":{\"value\":\"#f22c40\"},\"line_color\":{\"value\":\"#f22c40\"},\"size\":{\"units\":\"screen\",\"value\":8},\"x\":{\"field\":\"x_values\"},\"y\":{\"field\":\"y_values\"}},\"id\":\"5cba78ad-83e7-403f-bf95-7bbde710d50c\",\"type\":\"Circle\"},{\"attributes\":{\"active_drag\":\"auto\",\"active_scroll\":\"auto\",\"active_tap\":\"auto\",\"tools\":[{\"id\":\"467a386d-3091-44cc-84b1-c349aba5debe\",\"type\":\"PanTool\"},{\"id\":\"12f3b363-17b2-434f-9fa4-73929e09e5e9\",\"type\":\"WheelZoomTool\"},{\"id\":\"3f7218fa-d90a-4d03-9152-3e69768c07d9\",\"type\":\"BoxZoomTool\"},{\"id\":\"b0438c78-366a-42ab-8263-29b8c0311bef\",\"type\":\"SaveTool\"},{\"id\":\"5c708e77-2a92-40a6-948c-81890fa76aaa\",\"type\":\"ResetTool\"},{\"id\":\"5dc75d50-6a15-450a-8870-38644bcf4445\",\"type\":\"HelpTool\"}]},\"id\":\"c025545d-b8e6-4e6a-a147-49f9cede79d5\",\"type\":\"Toolbar\"},{\"attributes\":{},\"id\":\"14def72d-1920-43da-be18-aa8e6d290bc9\",\"type\":\"BasicTicker\"},{\"attributes\":{\"plot\":{\"id\":\"e7117e22-df1d-4206-b028-bccf2f109bb3\",\"subtype\":\"Chart\",\"type\":\"Plot\"}},\"id\":\"5c708e77-2a92-40a6-948c-81890fa76aaa\",\"type\":\"ResetTool\"},{\"attributes\":{\"callback\":null},\"id\":\"0fda6c0e-b54b-482e-ada8-a2ed05573a13\",\"type\":\"ColumnDataSource\"},{\"attributes\":{\"callback\":null},\"id\":\"de40c99d-595b-47ce-8518-8753d76d219d\",\"type\":\"ColumnDataSource\"},{\"attributes\":{},\"id\":\"9ac6df2f-693e-4a29-ac4e-4d376229a7c4\",\"type\":\"BasicTicker\"},{\"attributes\":{\"plot\":{\"id\":\"e7117e22-df1d-4206-b028-bccf2f109bb3\",\"subtype\":\"Chart\",\"type\":\"Plot\"}},\"id\":\"5dc75d50-6a15-450a-8870-38644bcf4445\",\"type\":\"HelpTool\"},{\"attributes\":{\"label\":{\"value\":\"1\"},\"renderers\":[{\"id\":\"05967eb3-cd1d-43e7-886f-c37b1ab142ee\",\"type\":\"GlyphRenderer\"}]},\"id\":\"9c8ceab4-d040-4be9-9027-10965cfe092d\",\"type\":\"LegendItem\"},{\"attributes\":{\"fill_alpha\":{\"value\":0.5},\"fill_color\":{\"value\":\"grey\"},\"line_alpha\":{\"value\":0.5},\"line_color\":{\"value\":\"grey\"},\"size\":{\"units\":\"screen\",\"value\":15},\"x\":{\"value\":0.35947481},\"y\":{\"value\":0.24456388}},\"id\":\"c33d9b50-07fe-4367-b910-6d3e915f015a\",\"type\":\"Circle\"},{\"attributes\":{\"fill_alpha\":{\"value\":0.1},\"fill_color\":{\"value\":\"#1f77b4\"},\"line_alpha\":{\"value\":0.1},\"line_color\":{\"value\":\"#1f77b4\"},\"size\":{\"units\":\"screen\",\"value\":15},\"x\":{\"value\":0.23018792},\"y\":{\"value\":0.75395849}},\"id\":\"fa9cf3bc-702a-4c45-80e9-f7f43066a2d8\",\"type\":\"Circle\"},{\"attributes\":{\"axis_label\":\"x1\",\"formatter\":{\"id\":\"a5c8446b-7a11-44ad-a314-9ff215c9c9b1\",\"type\":\"BasicTickFormatter\"},\"plot\":{\"id\":\"e7117e22-df1d-4206-b028-bccf2f109bb3\",\"subtype\":\"Chart\",\"type\":\"Plot\"},\"ticker\":{\"id\":\"14def72d-1920-43da-be18-aa8e6d290bc9\",\"type\":\"BasicTicker\"}},\"id\":\"029944dd-0402-4b44-bd5f-8330c74fbe73\",\"type\":\"LinearAxis\"}],\"root_ids\":[\"e7117e22-df1d-4206-b028-bccf2f109bb3\"]},\"title\":\"Bokeh Application\",\"version\":\"0.12.4\"}};\n",
       "            var render_items = [{\"docid\":\"675f4abb-3098-4d50-91c2-eef033868778\",\"elementid\":\"5a5e0724-fad4-4e4c-9571-68347dd46465\",\"modelid\":\"e7117e22-df1d-4206-b028-bccf2f109bb3\"}];\n",
       "            \n",
       "            Bokeh.embed.embed_items(docs_json, render_items);\n",
       "          };\n",
       "          if (document.readyState != \"loading\") fn();\n",
       "          else document.addEventListener(\"DOMContentLoaded\", fn);\n",
       "        })();\n",
       "      },\n",
       "      function(Bokeh) {\n",
       "      }\n",
       "    ];\n",
       "  \n",
       "    function run_inline_js() {\n",
       "      \n",
       "      if ((window.Bokeh !== undefined) || (force === true)) {\n",
       "        for (var i = 0; i < inline_js.length; i++) {\n",
       "          inline_js[i](window.Bokeh);\n",
       "        }if (force === true) {\n",
       "          display_loaded();\n",
       "        }} else if (Date.now() < window._bokeh_timeout) {\n",
       "        setTimeout(run_inline_js, 100);\n",
       "      } else if (!window._bokeh_failed_load) {\n",
       "        console.log(\"Bokeh: BokehJS failed to load within specified timeout.\");\n",
       "        window._bokeh_failed_load = true;\n",
       "      } else if (force !== true) {\n",
       "        var cell = $(document.getElementById(\"5a5e0724-fad4-4e4c-9571-68347dd46465\")).parents('.cell').data().cell;\n",
       "        cell.output_area.append_execute_result(NB_LOAD_WARNING)\n",
       "      }\n",
       "  \n",
       "    }\n",
       "  \n",
       "    if (window._bokeh_is_loading === 0) {\n",
       "      console.log(\"Bokeh: BokehJS loaded, going straight to plotting\");\n",
       "      run_inline_js();\n",
       "    } else {\n",
       "      load_libs(js_urls, function() {\n",
       "        console.log(\"Bokeh: BokehJS plotting callback run at\", now());\n",
       "        run_inline_js();\n",
       "      });\n",
       "    }\n",
       "  }(this));\n",
       "</script>"
      ]
     },
     "metadata": {},
     "output_type": "display_data"
    }
   ],
   "source": [
    "plot_clusters(clusters, cluster_centers)"
   ]
  },
  {
   "cell_type": "markdown",
   "metadata": {
    "deletable": true,
    "editable": true,
    "slideshow": {
     "slide_type": "subslide"
    }
   },
   "source": [
    "Hmmm. That model took a while to solve. What gives?\n",
    "\n",
    "* When we introduce discrete choices into models, we lose the characteristics that make them easy to solve.\n",
    "* This matter a _lot less_ now that it did in the 90s.\n",
    "* But effective formulation of discrete models is still _(may always be?)_ an art.\n",
    "\n",
    "Let's look at something more realistic."
   ]
  },
  {
   "cell_type": "markdown",
   "metadata": {
    "deletable": true,
    "editable": true,
    "slideshow": {
     "slide_type": "slide"
    }
   },
   "source": [
    "## Application 2: Pedicab Sharing\n",
    "\n",
    "Peuber is the Uber of pedicabs."
   ]
  },
  {
   "cell_type": "markdown",
   "metadata": {
    "deletable": true,
    "editable": true,
    "slideshow": {
     "slide_type": "subslide"
    }
   },
   "source": [
    "We have 7 pedicabs in our fleet and 11 customer requesting service. It's a prime day for Peuber!"
   ]
  },
  {
   "cell_type": "code",
   "execution_count": 42,
   "metadata": {
    "collapsed": true,
    "deletable": true,
    "editable": true
   },
   "outputs": [],
   "source": [
    "pedicabs = range(7)\n",
    "customers = range(11)"
   ]
  },
  {
   "cell_type": "markdown",
   "metadata": {
    "deletable": true,
    "editable": true,
    "slideshow": {
     "slide_type": "subslide"
    }
   },
   "source": [
    "Generate locations for each of these."
   ]
  },
  {
   "cell_type": "code",
   "execution_count": 43,
   "metadata": {
    "collapsed": false,
    "deletable": true,
    "editable": true,
    "slideshow": {
     "slide_type": "-"
    }
   },
   "outputs": [],
   "source": [
    "rng = lambda: random.uniform(0, 100)\n",
    "\n",
    "pedicab_locations = [(rng(), rng()) for _ in pedicabs]\n",
    "pickup_locations = [(rng(), rng()) for _ in customers]\n",
    "dropoff_locations = [(rng(), rng()) for _ in customers]"
   ]
  },
  {
   "cell_type": "markdown",
   "metadata": {
    "deletable": true,
    "editable": true,
    "slideshow": {
     "slide_type": "subslide"
    }
   },
   "source": [
    "This function will help us visualize the routing problem and its solutions."
   ]
  },
  {
   "cell_type": "code",
   "execution_count": 44,
   "metadata": {
    "collapsed": true,
    "deletable": true,
    "editable": true
   },
   "outputs": [],
   "source": [
    "from bokeh.models import Range1d\n",
    "\n",
    "def build_pedicabs_and_customers_plot():\n",
    "    all_points = pedicab_locations + pickup_locations + dropoff_locations\n",
    "    point_types = ['Pedicab'] * len(pedicabs) + \\\n",
    "                  ['Pickup'] * len(customers) + \\\n",
    "                  ['Dropoff'] * len(customers)\n",
    "\n",
    "    plot = Scatter(\n",
    "        {\n",
    "            'x': [l[0] for l in all_points],\n",
    "            'y': [l[1] for l in all_points],\n",
    "            'type': point_types\n",
    "        },\n",
    "        x='x', y='y',\n",
    "        color='type', marker='type',\n",
    "        width=600, height=600\n",
    "    )\n",
    "\n",
    "    plot.legend.orientation = \"horizontal\"\n",
    "    plot.x_range = plot.y_range = Range1d(-15, 115)\n",
    "\n",
    "    return plot"
   ]
  },
  {
   "cell_type": "markdown",
   "metadata": {
    "deletable": true,
    "editable": true,
    "slideshow": {
     "slide_type": "subslide"
    }
   },
   "source": [
    "So what's our problem look like right now?"
   ]
  },
  {
   "cell_type": "code",
   "execution_count": 45,
   "metadata": {
    "collapsed": false,
    "deletable": true,
    "editable": true
   },
   "outputs": [],
   "source": [
    "plot = build_pedicabs_and_customers_plot()\n",
    "\n",
    "# Connect pickups to dropoffs\n",
    "for p, d in zip(pickup_locations, dropoff_locations):\n",
    "    plot.line(\n",
    "        [p[0], d[0]], [p[1], d[1]], \n",
    "        line_alpha=0.5, \n",
    "        line_color='grey', \n",
    "        line_dash='dashed'\n",
    "    )"
   ]
  },
  {
   "cell_type": "code",
   "execution_count": 46,
   "metadata": {
    "collapsed": false,
    "deletable": true,
    "editable": true,
    "slideshow": {
     "slide_type": "subslide"
    }
   },
   "outputs": [
    {
     "data": {
      "text/html": [
       "\n",
       "\n",
       "    <div class=\"bk-root\">\n",
       "        <div class=\"bk-plotdiv\" id=\"466a0ff4-8560-491a-b0ba-1c73ffda8efe\"></div>\n",
       "    </div>\n",
       "<script type=\"text/javascript\">\n",
       "  \n",
       "  (function(global) {\n",
       "    function now() {\n",
       "      return new Date();\n",
       "    }\n",
       "  \n",
       "    var force = false;\n",
       "  \n",
       "    if (typeof (window._bokeh_onload_callbacks) === \"undefined\" || force === true) {\n",
       "      window._bokeh_onload_callbacks = [];\n",
       "      window._bokeh_is_loading = undefined;\n",
       "    }\n",
       "  \n",
       "  \n",
       "    \n",
       "    if (typeof (window._bokeh_timeout) === \"undefined\" || force === true) {\n",
       "      window._bokeh_timeout = Date.now() + 0;\n",
       "      window._bokeh_failed_load = false;\n",
       "    }\n",
       "  \n",
       "    var NB_LOAD_WARNING = {'data': {'text/html':\n",
       "       \"<div style='background-color: #fdd'>\\n\"+\n",
       "       \"<p>\\n\"+\n",
       "       \"BokehJS does not appear to have successfully loaded. If loading BokehJS from CDN, this \\n\"+\n",
       "       \"may be due to a slow or bad network connection. Possible fixes:\\n\"+\n",
       "       \"</p>\\n\"+\n",
       "       \"<ul>\\n\"+\n",
       "       \"<li>re-rerun `output_notebook()` to attempt to load from CDN again, or</li>\\n\"+\n",
       "       \"<li>use INLINE resources instead, as so:</li>\\n\"+\n",
       "       \"</ul>\\n\"+\n",
       "       \"<code>\\n\"+\n",
       "       \"from bokeh.resources import INLINE\\n\"+\n",
       "       \"output_notebook(resources=INLINE)\\n\"+\n",
       "       \"</code>\\n\"+\n",
       "       \"</div>\"}};\n",
       "  \n",
       "    function display_loaded() {\n",
       "      if (window.Bokeh !== undefined) {\n",
       "        document.getElementById(\"466a0ff4-8560-491a-b0ba-1c73ffda8efe\").textContent = \"BokehJS successfully loaded.\";\n",
       "      } else if (Date.now() < window._bokeh_timeout) {\n",
       "        setTimeout(display_loaded, 100)\n",
       "      }\n",
       "    }\n",
       "  \n",
       "    function run_callbacks() {\n",
       "      window._bokeh_onload_callbacks.forEach(function(callback) { callback() });\n",
       "      delete window._bokeh_onload_callbacks\n",
       "      console.info(\"Bokeh: all callbacks have finished\");\n",
       "    }\n",
       "  \n",
       "    function load_libs(js_urls, callback) {\n",
       "      window._bokeh_onload_callbacks.push(callback);\n",
       "      if (window._bokeh_is_loading > 0) {\n",
       "        console.log(\"Bokeh: BokehJS is being loaded, scheduling callback at\", now());\n",
       "        return null;\n",
       "      }\n",
       "      if (js_urls == null || js_urls.length === 0) {\n",
       "        run_callbacks();\n",
       "        return null;\n",
       "      }\n",
       "      console.log(\"Bokeh: BokehJS not loaded, scheduling load and callback at\", now());\n",
       "      window._bokeh_is_loading = js_urls.length;\n",
       "      for (var i = 0; i < js_urls.length; i++) {\n",
       "        var url = js_urls[i];\n",
       "        var s = document.createElement('script');\n",
       "        s.src = url;\n",
       "        s.async = false;\n",
       "        s.onreadystatechange = s.onload = function() {\n",
       "          window._bokeh_is_loading--;\n",
       "          if (window._bokeh_is_loading === 0) {\n",
       "            console.log(\"Bokeh: all BokehJS libraries loaded\");\n",
       "            run_callbacks()\n",
       "          }\n",
       "        };\n",
       "        s.onerror = function() {\n",
       "          console.warn(\"failed to load library \" + url);\n",
       "        };\n",
       "        console.log(\"Bokeh: injecting script tag for BokehJS library: \", url);\n",
       "        document.getElementsByTagName(\"head\")[0].appendChild(s);\n",
       "      }\n",
       "    };var element = document.getElementById(\"466a0ff4-8560-491a-b0ba-1c73ffda8efe\");\n",
       "    if (element == null) {\n",
       "      console.log(\"Bokeh: ERROR: autoload.js configured with elementid '466a0ff4-8560-491a-b0ba-1c73ffda8efe' but no matching script tag was found. \")\n",
       "      return false;\n",
       "    }\n",
       "  \n",
       "    var js_urls = [];\n",
       "  \n",
       "    var inline_js = [\n",
       "      function(Bokeh) {\n",
       "        (function() {\n",
       "          var fn = function() {\n",
       "            var docs_json = {\"13ee89cf-3f37-422f-920c-dfbe44037e3f\":{\"roots\":{\"references\":[{\"attributes\":{\"line_alpha\":{\"value\":0.5},\"line_color\":{\"value\":\"grey\"},\"line_dash\":[6],\"x\":{\"field\":\"x\"},\"y\":{\"field\":\"y\"}},\"id\":\"dd9670bc-1e3d-4142-abfc-53e4a18d16c0\",\"type\":\"Line\"},{\"attributes\":{\"callback\":null,\"column_names\":[\"x\",\"y\"],\"data\":{\"x\":[97.6555280455148,17.436826762243584],\"y\":[81.06989553099451,40.794622578900295]}},\"id\":\"15f30a85-f012-4c88-9cf7-0fc52c8fcfee\",\"type\":\"ColumnDataSource\"},{\"attributes\":{\"line_alpha\":{\"value\":0.1},\"line_color\":{\"value\":\"#1f77b4\"},\"line_dash\":[6],\"x\":{\"field\":\"x\"},\"y\":{\"field\":\"y\"}},\"id\":\"15b85c8c-4d25-4c1e-87e2-a815cf22530d\",\"type\":\"Line\"},{\"attributes\":{\"items\":[{\"id\":\"01171ef9-6efb-46fb-b706-41e8751a3b87\",\"type\":\"LegendItem\"},{\"id\":\"33ebf8d5-2805-435e-a0f6-d4e3f43b4256\",\"type\":\"LegendItem\"},{\"id\":\"5aa74616-aaf1-4f4c-ae4b-38bca42f323a\",\"type\":\"LegendItem\"}],\"location\":\"top_left\",\"orientation\":\"horizontal\",\"plot\":{\"id\":\"73204a7d-0219-48de-b94c-34ee81cdf7f5\",\"subtype\":\"Chart\",\"type\":\"Plot\"}},\"id\":\"585402ac-d09d-4267-bac7-9a4acc42a2ce\",\"type\":\"Legend\"},{\"attributes\":{\"data_source\":{\"id\":\"74f303ea-3d24-470f-93b7-fa70976c02e7\",\"type\":\"ColumnDataSource\"},\"glyph\":{\"id\":\"dd9670bc-1e3d-4142-abfc-53e4a18d16c0\",\"type\":\"Line\"},\"hover_glyph\":null,\"nonselection_glyph\":{\"id\":\"15b85c8c-4d25-4c1e-87e2-a815cf22530d\",\"type\":\"Line\"},\"selection_glyph\":null},\"id\":\"4f60c041-b267-4361-9f95-674f8a58035f\",\"type\":\"GlyphRenderer\"},{\"attributes\":{\"line_alpha\":{\"value\":0.1},\"line_color\":{\"value\":\"#1f77b4\"},\"line_dash\":[6],\"x\":{\"field\":\"x\"},\"y\":{\"field\":\"y\"}},\"id\":\"8f126784-7602-4fe9-8a85-d50457123ab6\",\"type\":\"Line\"},{\"attributes\":{\"callback\":null,\"column_names\":[\"x\",\"y\"],\"data\":{\"x\":[92.28275870175034,37.625988555403445],\"y\":[83.8266239297685,11.344953603057274]}},\"id\":\"4f40e3f1-d1ef-4800-8b44-04d4087aeaaa\",\"type\":\"ColumnDataSource\"},{\"attributes\":{\"line_alpha\":{\"value\":0.1},\"line_color\":{\"value\":\"#1f77b4\"},\"line_dash\":[6],\"x\":{\"field\":\"x\"},\"y\":{\"field\":\"y\"}},\"id\":\"1cb67f19-6311-4c22-bbf0-6cb95a40e99e\",\"type\":\"Line\"},{\"attributes\":{\"callback\":null,\"column_names\":[\"x\",\"y\"],\"data\":{\"x\":[34.81912394955794,91.14682122527454],\"y\":[82.41582025101003,13.344628791473124]}},\"id\":\"b929742a-e42b-4726-995f-6716d821bb4a\",\"type\":\"ColumnDataSource\"},{\"attributes\":{\"data_source\":{\"id\":\"4f40e3f1-d1ef-4800-8b44-04d4087aeaaa\",\"type\":\"ColumnDataSource\"},\"glyph\":{\"id\":\"a64f998b-6c0a-46dc-bbfe-6038ea44d70f\",\"type\":\"Line\"},\"hover_glyph\":null,\"nonselection_glyph\":{\"id\":\"1cb67f19-6311-4c22-bbf0-6cb95a40e99e\",\"type\":\"Line\"},\"selection_glyph\":null},\"id\":\"b051e37d-4473-462b-90aa-f62dc3c10c14\",\"type\":\"GlyphRenderer\"},{\"attributes\":{\"callback\":null,\"column_names\":[\"x\",\"y\"],\"data\":{\"x\":[54.7944432163778,8.863347330414728],\"y\":[7.290334764179541,96.42040288397546]}},\"id\":\"63247763-1867-4d29-bbdd-12ea2404c908\",\"type\":\"ColumnDataSource\"},{\"attributes\":{\"line_alpha\":{\"value\":0.5},\"line_color\":{\"value\":\"grey\"},\"line_dash\":[6],\"x\":{\"field\":\"x\"},\"y\":{\"field\":\"y\"}},\"id\":\"a64f998b-6c0a-46dc-bbfe-6038ea44d70f\",\"type\":\"Line\"},{\"attributes\":{\"line_alpha\":{\"value\":0.5},\"line_color\":{\"value\":\"grey\"},\"line_dash\":[6],\"x\":{\"field\":\"x\"},\"y\":{\"field\":\"y\"}},\"id\":\"00731f01-aa23-46f9-9652-d1f4be4fe2e5\",\"type\":\"Line\"},{\"attributes\":{\"data_source\":{\"id\":\"b9703dc1-5b88-48c7-8ae0-000a160d16de\",\"type\":\"ColumnDataSource\"},\"glyph\":{\"id\":\"acf1289b-8237-4866-b1b1-6fdd2dde2441\",\"type\":\"Line\"},\"hover_glyph\":null,\"nonselection_glyph\":{\"id\":\"49e5d8b8-b678-4d0d-bec7-62a7a8e04905\",\"type\":\"Line\"},\"selection_glyph\":null},\"id\":\"a3ef0f6c-7ee0-4b2e-b02e-6ef544d09dc7\",\"type\":\"GlyphRenderer\"},{\"attributes\":{\"label\":{\"value\":\"Dropoff\"},\"renderers\":[{\"id\":\"a912c014-7848-4a02-a6f1-51d9850d1bdc\",\"type\":\"GlyphRenderer\"}]},\"id\":\"5aa74616-aaf1-4f4c-ae4b-38bca42f323a\",\"type\":\"LegendItem\"},{\"attributes\":{\"line_alpha\":{\"value\":0.5},\"line_color\":{\"value\":\"grey\"},\"line_dash\":[6],\"x\":{\"field\":\"x\"},\"y\":{\"field\":\"y\"}},\"id\":\"96257b98-ebda-47e2-8035-d575a0869f84\",\"type\":\"Line\"},{\"attributes\":{\"plot\":{\"id\":\"73204a7d-0219-48de-b94c-34ee81cdf7f5\",\"subtype\":\"Chart\",\"type\":\"Plot\"}},\"id\":\"a4516e03-52cd-4753-9b3c-54ce8579b0ea\",\"type\":\"PanTool\"},{\"attributes\":{\"line_alpha\":{\"value\":0.1},\"line_color\":{\"value\":\"#1f77b4\"},\"line_dash\":[6],\"x\":{\"field\":\"x\"},\"y\":{\"field\":\"y\"}},\"id\":\"b9501ef1-f70a-4122-bbd2-dff923d42915\",\"type\":\"Line\"},{\"attributes\":{\"data_source\":{\"id\":\"15f30a85-f012-4c88-9cf7-0fc52c8fcfee\",\"type\":\"ColumnDataSource\"},\"glyph\":{\"id\":\"96257b98-ebda-47e2-8035-d575a0869f84\",\"type\":\"Line\"},\"hover_glyph\":null,\"nonselection_glyph\":{\"id\":\"b9501ef1-f70a-4122-bbd2-dff923d42915\",\"type\":\"Line\"},\"selection_glyph\":null},\"id\":\"c2b816aa-f047-42ec-bb5c-6abcfa1c273e\",\"type\":\"GlyphRenderer\"},{\"attributes\":{\"below\":[{\"id\":\"85e82a76-54f7-427f-8a0c-ca7d7da5714e\",\"type\":\"LinearAxis\"}],\"css_classes\":null,\"height\":600,\"left\":[{\"id\":\"389548c1-4fd4-4bc0-aaf2-1e9f8e41a3d5\",\"type\":\"LinearAxis\"}],\"renderers\":[{\"id\":\"02c2a143-9f99-49ef-a67f-a29daf1b731d\",\"type\":\"BoxAnnotation\"},{\"id\":\"3328090f-5dfb-414e-afe5-5f03adea5d58\",\"type\":\"GlyphRenderer\"},{\"id\":\"9861c45f-ade3-412a-a364-6079250336f5\",\"type\":\"GlyphRenderer\"},{\"id\":\"a912c014-7848-4a02-a6f1-51d9850d1bdc\",\"type\":\"GlyphRenderer\"},{\"id\":\"585402ac-d09d-4267-bac7-9a4acc42a2ce\",\"type\":\"Legend\"},{\"id\":\"85e82a76-54f7-427f-8a0c-ca7d7da5714e\",\"type\":\"LinearAxis\"},{\"id\":\"389548c1-4fd4-4bc0-aaf2-1e9f8e41a3d5\",\"type\":\"LinearAxis\"},{\"id\":\"9cdd160f-93a6-400d-a5ff-248f1065ee07\",\"type\":\"Grid\"},{\"id\":\"3c6a7407-a68f-4ab3-96e7-4f703ffe8c5c\",\"type\":\"Grid\"},{\"id\":\"122ee9bd-d5f9-4e86-a525-318d2eafed0d\",\"type\":\"GlyphRenderer\"},{\"id\":\"4f60c041-b267-4361-9f95-674f8a58035f\",\"type\":\"GlyphRenderer\"},{\"id\":\"b051e37d-4473-462b-90aa-f62dc3c10c14\",\"type\":\"GlyphRenderer\"},{\"id\":\"19316322-992a-41fe-bd9d-bcf379cddbf2\",\"type\":\"GlyphRenderer\"},{\"id\":\"3f7bd233-9950-4b99-ac7e-ead51ab0d34d\",\"type\":\"GlyphRenderer\"},{\"id\":\"b7c1903b-a2a7-4324-bb0b-7b4d5a113fbe\",\"type\":\"GlyphRenderer\"},{\"id\":\"3511f39c-a6c0-4bd2-934e-d2091c2cb43f\",\"type\":\"GlyphRenderer\"},{\"id\":\"1a7b6924-216c-4d60-8906-ef2edfb670e1\",\"type\":\"GlyphRenderer\"},{\"id\":\"c2b816aa-f047-42ec-bb5c-6abcfa1c273e\",\"type\":\"GlyphRenderer\"},{\"id\":\"a3ef0f6c-7ee0-4b2e-b02e-6ef544d09dc7\",\"type\":\"GlyphRenderer\"},{\"id\":\"82e5ad3f-3593-41f1-aaa6-0a0c7bd46931\",\"type\":\"GlyphRenderer\"}],\"title\":{\"id\":\"6767bab7-95fe-45ac-8926-8c5c305258b7\",\"type\":\"Title\"},\"tool_events\":{\"id\":\"b185868e-4f63-4761-8874-1c2789d7a314\",\"type\":\"ToolEvents\"},\"toolbar\":{\"id\":\"9e570803-a7e1-420f-ba1e-87f03f7782c0\",\"type\":\"Toolbar\"},\"width\":600,\"x_mapper_type\":\"auto\",\"x_range\":{\"id\":\"1c78dd9c-2cf8-42b8-912e-32ab1ff5c7a9\",\"type\":\"Range1d\"},\"y_mapper_type\":\"auto\",\"y_range\":{\"id\":\"1c78dd9c-2cf8-42b8-912e-32ab1ff5c7a9\",\"type\":\"Range1d\"}},\"id\":\"73204a7d-0219-48de-b94c-34ee81cdf7f5\",\"subtype\":\"Chart\",\"type\":\"Plot\"},{\"attributes\":{\"line_alpha\":{\"value\":0.1},\"line_color\":{\"value\":\"#1f77b4\"},\"line_dash\":[6],\"x\":{\"field\":\"x\"},\"y\":{\"field\":\"y\"}},\"id\":\"550345b1-5e9d-4935-88ee-31a764d02216\",\"type\":\"Line\"},{\"attributes\":{\"line_alpha\":{\"value\":0.1},\"line_color\":{\"value\":\"#1f77b4\"},\"line_dash\":[6],\"x\":{\"field\":\"x\"},\"y\":{\"field\":\"y\"}},\"id\":\"7969ff00-67b1-47a6-a2f7-d4f5b7ffe889\",\"type\":\"Line\"},{\"attributes\":{\"data_source\":{\"id\":\"63247763-1867-4d29-bbdd-12ea2404c908\",\"type\":\"ColumnDataSource\"},\"glyph\":{\"id\":\"00731f01-aa23-46f9-9652-d1f4be4fe2e5\",\"type\":\"Line\"},\"hover_glyph\":null,\"nonselection_glyph\":{\"id\":\"550345b1-5e9d-4935-88ee-31a764d02216\",\"type\":\"Line\"},\"selection_glyph\":null},\"id\":\"19316322-992a-41fe-bd9d-bcf379cddbf2\",\"type\":\"GlyphRenderer\"},{\"attributes\":{\"label\":{\"value\":\"Pedicab\"},\"renderers\":[{\"id\":\"3328090f-5dfb-414e-afe5-5f03adea5d58\",\"type\":\"GlyphRenderer\"}]},\"id\":\"01171ef9-6efb-46fb-b706-41e8751a3b87\",\"type\":\"LegendItem\"},{\"attributes\":{\"callback\":null,\"column_names\":[\"x\",\"y\"],\"data\":{\"x\":[12.09291096842927,24.058404318736105],\"y\":[63.00739058197195,35.495041114583806]}},\"id\":\"8c5605ec-b40e-4d9a-847e-7aee2eb231ed\",\"type\":\"ColumnDataSource\"},{\"attributes\":{\"line_alpha\":{\"value\":0.5},\"line_color\":{\"value\":\"grey\"},\"line_dash\":[6],\"x\":{\"field\":\"x\"},\"y\":{\"field\":\"y\"}},\"id\":\"e9423938-c964-44fb-94cb-6217a16fa447\",\"type\":\"Line\"},{\"attributes\":{\"callback\":null,\"column_names\":[\"x\",\"y\"],\"data\":{\"x\":[30.239453666634862,44.68951238637714],\"y\":[76.56737580421353,43.65996243954946]}},\"id\":\"b9703dc1-5b88-48c7-8ae0-000a160d16de\",\"type\":\"ColumnDataSource\"},{\"attributes\":{\"line_alpha\":{\"value\":0.5},\"line_color\":{\"value\":\"grey\"},\"line_dash\":[6],\"x\":{\"field\":\"x\"},\"y\":{\"field\":\"y\"}},\"id\":\"38e4e027-8aff-4b5a-b4a1-2e17e42cb5cf\",\"type\":\"Line\"},{\"attributes\":{\"label\":{\"value\":\"Pickup\"},\"renderers\":[{\"id\":\"9861c45f-ade3-412a-a364-6079250336f5\",\"type\":\"GlyphRenderer\"}]},\"id\":\"33ebf8d5-2805-435e-a0f6-d4e3f43b4256\",\"type\":\"LegendItem\"},{\"attributes\":{\"line_alpha\":{\"value\":0.5},\"line_color\":{\"value\":\"grey\"},\"line_dash\":[6],\"x\":{\"field\":\"x\"},\"y\":{\"field\":\"y\"}},\"id\":\"acf1289b-8237-4866-b1b1-6fdd2dde2441\",\"type\":\"Line\"},{\"attributes\":{\"callback\":null,\"column_names\":[\"x\",\"y\"],\"data\":{\"x\":[39.38064695380642,96.30073781150556],\"y\":[68.61070721389656,29.155816989088667]}},\"id\":\"09671241-3a48-49fb-8ae9-87d76e6b3835\",\"type\":\"ColumnDataSource\"},{\"attributes\":{\"data_source\":{\"id\":\"5dd13f00-74f0-44d1-b431-835e097a260a\",\"type\":\"ColumnDataSource\"},\"glyph\":{\"id\":\"343eec61-8867-4eb5-a00f-23cec6bfe759\",\"type\":\"Triangle\"},\"hover_glyph\":null,\"nonselection_glyph\":null,\"selection_glyph\":null},\"id\":\"9861c45f-ade3-412a-a364-6079250336f5\",\"type\":\"GlyphRenderer\"},{\"attributes\":{\"line_alpha\":{\"value\":0.1},\"line_color\":{\"value\":\"#1f77b4\"},\"line_dash\":[6],\"x\":{\"field\":\"x\"},\"y\":{\"field\":\"y\"}},\"id\":\"49e5d8b8-b678-4d0d-bec7-62a7a8e04905\",\"type\":\"Line\"},{\"attributes\":{\"line_alpha\":{\"value\":0.1},\"line_color\":{\"value\":\"#1f77b4\"},\"line_dash\":[6],\"x\":{\"field\":\"x\"},\"y\":{\"field\":\"y\"}},\"id\":\"220cba24-5b5c-4c9c-b77c-edb316983326\",\"type\":\"Line\"},{\"attributes\":{\"fill_alpha\":{\"value\":0.7},\"fill_color\":{\"value\":\"#407ee7\"},\"line_color\":{\"value\":\"#407ee7\"},\"size\":{\"units\":\"screen\",\"value\":8},\"x\":{\"field\":\"x_values\"},\"y\":{\"field\":\"y_values\"}},\"id\":\"343eec61-8867-4eb5-a00f-23cec6bfe759\",\"type\":\"Triangle\"},{\"attributes\":{\"data_source\":{\"id\":\"8c5605ec-b40e-4d9a-847e-7aee2eb231ed\",\"type\":\"ColumnDataSource\"},\"glyph\":{\"id\":\"e9423938-c964-44fb-94cb-6217a16fa447\",\"type\":\"Line\"},\"hover_glyph\":null,\"nonselection_glyph\":{\"id\":\"7969ff00-67b1-47a6-a2f7-d4f5b7ffe889\",\"type\":\"Line\"},\"selection_glyph\":null},\"id\":\"3f7bd233-9950-4b99-ac7e-ead51ab0d34d\",\"type\":\"GlyphRenderer\"},{\"attributes\":{\"callback\":null,\"column_names\":[\"x_values\",\"y_values\"],\"data\":{\"chart_index\":[{\"type\":\"Pickup\"},{\"type\":\"Pickup\"},{\"type\":\"Pickup\"},{\"type\":\"Pickup\"},{\"type\":\"Pickup\"},{\"type\":\"Pickup\"},{\"type\":\"Pickup\"},{\"type\":\"Pickup\"},{\"type\":\"Pickup\"},{\"type\":\"Pickup\"},{\"type\":\"Pickup\"}],\"type\":[\"Pickup\",\"Pickup\",\"Pickup\",\"Pickup\",\"Pickup\",\"Pickup\",\"Pickup\",\"Pickup\",\"Pickup\",\"Pickup\",\"Pickup\"],\"x_values\":{\"__ndarray__\":\"X353kSBUMkByYacBino8QFYr9LcYEldAlG+4ULBlS0DTr8UGki8oQD2IBP8hsE9AyP4okeEb0z9hXLcN2WhBQDNG5yv0aVhAoRrj1Uw9PkDW9RQKubBDQA==\",\"dtype\":\"float64\",\"shape\":[11]},\"y_values\":{\"__ndarray__\":\"q+4VeRr7MEBQhQaWzE30P5ccDmjn9FRACCw0hE0pHUAY77Es8oBPQHzNNHXbKjNAnF9jkdvmSUCRxorMnJpUQIPwGit5RFRA4uia4k8kU0B9x7XTFSdRQA==\",\"dtype\":\"float64\",\"shape\":[11]}}},\"id\":\"5dd13f00-74f0-44d1-b431-835e097a260a\",\"type\":\"ColumnDataSource\"},{\"attributes\":{},\"id\":\"b185868e-4f63-4761-8874-1c2789d7a314\",\"type\":\"ToolEvents\"},{\"attributes\":{\"data_source\":{\"id\":\"09671241-3a48-49fb-8ae9-87d76e6b3835\",\"type\":\"ColumnDataSource\"},\"glyph\":{\"id\":\"38e4e027-8aff-4b5a-b4a1-2e17e42cb5cf\",\"type\":\"Line\"},\"hover_glyph\":null,\"nonselection_glyph\":{\"id\":\"220cba24-5b5c-4c9c-b77c-edb316983326\",\"type\":\"Line\"},\"selection_glyph\":null},\"id\":\"82e5ad3f-3593-41f1-aaa6-0a0c7bd46931\",\"type\":\"GlyphRenderer\"},{\"attributes\":{\"line_alpha\":{\"value\":0.1},\"line_color\":{\"value\":\"#1f77b4\"},\"line_dash\":[6],\"x\":{\"field\":\"x\"},\"y\":{\"field\":\"y\"}},\"id\":\"39812205-f516-4051-8638-cdc19a55d748\",\"type\":\"Line\"},{\"attributes\":{\"overlay\":{\"id\":\"02c2a143-9f99-49ef-a67f-a29daf1b731d\",\"type\":\"BoxAnnotation\"},\"plot\":{\"id\":\"73204a7d-0219-48de-b94c-34ee81cdf7f5\",\"subtype\":\"Chart\",\"type\":\"Plot\"}},\"id\":\"b7d0a565-a014-44c8-802d-170ebf3698ad\",\"type\":\"BoxZoomTool\"},{\"attributes\":{\"active_drag\":\"auto\",\"active_scroll\":\"auto\",\"active_tap\":\"auto\",\"tools\":[{\"id\":\"a4516e03-52cd-4753-9b3c-54ce8579b0ea\",\"type\":\"PanTool\"},{\"id\":\"a34b1fa3-4b98-4d94-8380-8ec87d76076f\",\"type\":\"WheelZoomTool\"},{\"id\":\"b7d0a565-a014-44c8-802d-170ebf3698ad\",\"type\":\"BoxZoomTool\"},{\"id\":\"d886e0dc-a54e-483c-bc38-d71bc23f19c3\",\"type\":\"SaveTool\"},{\"id\":\"348e39ea-5043-488d-a1ef-84584eccd2c8\",\"type\":\"ResetTool\"},{\"id\":\"157d007f-2270-4fc3-952b-b35ba23b5bb3\",\"type\":\"HelpTool\"}]},\"id\":\"9e570803-a7e1-420f-ba1e-87f03f7782c0\",\"type\":\"Toolbar\"},{\"attributes\":{\"plot\":{\"id\":\"73204a7d-0219-48de-b94c-34ee81cdf7f5\",\"subtype\":\"Chart\",\"type\":\"Plot\"}},\"id\":\"a34b1fa3-4b98-4d94-8380-8ec87d76076f\",\"type\":\"WheelZoomTool\"},{\"attributes\":{\"line_alpha\":{\"value\":0.5},\"line_color\":{\"value\":\"grey\"},\"line_dash\":[6],\"x\":{\"field\":\"x\"},\"y\":{\"field\":\"y\"}},\"id\":\"66bf1559-f814-4a65-841b-f6f222d6f081\",\"type\":\"Line\"},{\"attributes\":{\"plot\":null,\"text\":null},\"id\":\"6767bab7-95fe-45ac-8926-8c5c305258b7\",\"type\":\"Title\"},{\"attributes\":{\"data_source\":{\"id\":\"b929742a-e42b-4726-995f-6716d821bb4a\",\"type\":\"ColumnDataSource\"},\"glyph\":{\"id\":\"66bf1559-f814-4a65-841b-f6f222d6f081\",\"type\":\"Line\"},\"hover_glyph\":null,\"nonselection_glyph\":{\"id\":\"39812205-f516-4051-8638-cdc19a55d748\",\"type\":\"Line\"},\"selection_glyph\":null},\"id\":\"1a7b6924-216c-4d60-8906-ef2edfb670e1\",\"type\":\"GlyphRenderer\"},{\"attributes\":{},\"id\":\"6579fbca-170c-425b-a2bd-ab662269b4ea\",\"type\":\"BasicTicker\"},{\"attributes\":{\"callback\":null,\"column_names\":[\"x_values\",\"y_values\"],\"data\":{\"chart_index\":[{\"type\":\"Pedicab\"},{\"type\":\"Pedicab\"},{\"type\":\"Pedicab\"},{\"type\":\"Pedicab\"},{\"type\":\"Pedicab\"},{\"type\":\"Pedicab\"},{\"type\":\"Pedicab\"}],\"type\":[\"Pedicab\",\"Pedicab\",\"Pedicab\",\"Pedicab\",\"Pedicab\",\"Pedicab\",\"Pedicab\"],\"x_values\":{\"__ndarray__\":\"gmO2LMe7QEDXZjE/TMU/QJBiMUK3wzhAaAkG+CjaQUBBcpVxgHZAQMnSEP1WrTFAPC2rXTxNUEA=\",\"dtype\":\"float64\",\"shape\":[7]},\"y_values\":{\"__ndarray__\":\"xKCrBhwRPEDKBjbS4TRLQAEc8Q9OUTtA+z5pIK4jPEDyFWYobeBMQOhOEJEnp0ZAOjz7RkxyTUA=\",\"dtype\":\"float64\",\"shape\":[7]}}},\"id\":\"86c0154e-3e85-4d81-9e44-06138c88138e\",\"type\":\"ColumnDataSource\"},{\"attributes\":{\"data_source\":{\"id\":\"a94bb56c-f5a3-4e86-9e4b-e80eb60f24b1\",\"type\":\"ColumnDataSource\"},\"glyph\":{\"id\":\"06d08e60-27e8-4908-9532-a93a7a037608\",\"type\":\"Line\"},\"hover_glyph\":null,\"nonselection_glyph\":{\"id\":\"7f1cbf3b-b74e-4fce-b8a0-03712e027353\",\"type\":\"Line\"},\"selection_glyph\":null},\"id\":\"b7c1903b-a2a7-4324-bb0b-7b4d5a113fbe\",\"type\":\"GlyphRenderer\"},{\"attributes\":{\"plot\":{\"id\":\"73204a7d-0219-48de-b94c-34ee81cdf7f5\",\"subtype\":\"Chart\",\"type\":\"Plot\"}},\"id\":\"157d007f-2270-4fc3-952b-b35ba23b5bb3\",\"type\":\"HelpTool\"},{\"attributes\":{\"line_alpha\":{\"value\":0.5},\"line_color\":{\"value\":\"grey\"},\"line_dash\":[6],\"x\":{\"field\":\"x\"},\"y\":{\"field\":\"y\"}},\"id\":\"8b4c0304-693b-46d0-aef2-ee7f49afb7cf\",\"type\":\"Line\"},{\"attributes\":{\"axis_label\":\"x\",\"formatter\":{\"id\":\"2f5cb6f1-c9bc-4e4f-94f6-6f9babc8ede2\",\"type\":\"BasicTickFormatter\"},\"plot\":{\"id\":\"73204a7d-0219-48de-b94c-34ee81cdf7f5\",\"subtype\":\"Chart\",\"type\":\"Plot\"},\"ticker\":{\"id\":\"995c5e73-da45-4a62-a453-c0f0cc17c78b\",\"type\":\"BasicTicker\"}},\"id\":\"85e82a76-54f7-427f-8a0c-ca7d7da5714e\",\"type\":\"LinearAxis\"},{\"attributes\":{\"callback\":null,\"column_names\":[\"x\",\"y\"],\"data\":{\"x\":[0.298576728589961,18.36573676368227],\"y\":[51.80357568123074,80.30099720873307]}},\"id\":\"c5bd7a47-f8b4-4bdc-8e7c-d4270bfe931c\",\"type\":\"ColumnDataSource\"},{\"attributes\":{\"plot\":{\"id\":\"73204a7d-0219-48de-b94c-34ee81cdf7f5\",\"subtype\":\"Chart\",\"type\":\"Plot\"}},\"id\":\"d886e0dc-a54e-483c-bc38-d71bc23f19c3\",\"type\":\"SaveTool\"},{\"attributes\":{\"axis_label\":\"y\",\"formatter\":{\"id\":\"30268844-6f2d-4ef4-a387-a790fa0a953c\",\"type\":\"BasicTickFormatter\"},\"plot\":{\"id\":\"73204a7d-0219-48de-b94c-34ee81cdf7f5\",\"subtype\":\"Chart\",\"type\":\"Plot\"},\"ticker\":{\"id\":\"6579fbca-170c-425b-a2bd-ab662269b4ea\",\"type\":\"BasicTicker\"}},\"id\":\"389548c1-4fd4-4bc0-aaf2-1e9f8e41a3d5\",\"type\":\"LinearAxis\"},{\"attributes\":{\"data_source\":{\"id\":\"9aa119b3-16c5-4b02-a342-5eac3e32fdab\",\"type\":\"ColumnDataSource\"},\"glyph\":{\"id\":\"d13e4ff0-be60-4e53-afb7-39956abee636\",\"type\":\"Circle\"},\"hover_glyph\":null,\"nonselection_glyph\":null,\"selection_glyph\":null},\"id\":\"a912c014-7848-4a02-a6f1-51d9850d1bdc\",\"type\":\"GlyphRenderer\"},{\"attributes\":{\"plot\":{\"id\":\"73204a7d-0219-48de-b94c-34ee81cdf7f5\",\"subtype\":\"Chart\",\"type\":\"Plot\"}},\"id\":\"348e39ea-5043-488d-a1ef-84584eccd2c8\",\"type\":\"ResetTool\"},{\"attributes\":{\"line_alpha\":{\"value\":0.5},\"line_color\":{\"value\":\"grey\"},\"line_dash\":[6],\"x\":{\"field\":\"x\"},\"y\":{\"field\":\"y\"}},\"id\":\"0e950aa6-464f-4ae2-9a93-5534fc531d4f\",\"type\":\"Line\"},{\"attributes\":{\"data_source\":{\"id\":\"86c0154e-3e85-4d81-9e44-06138c88138e\",\"type\":\"ColumnDataSource\"},\"glyph\":{\"id\":\"11c0ca68-ad38-41ec-b039-c2aa4533e459\",\"type\":\"Square\"},\"hover_glyph\":null,\"nonselection_glyph\":null,\"selection_glyph\":null},\"id\":\"3328090f-5dfb-414e-afe5-5f03adea5d58\",\"type\":\"GlyphRenderer\"},{\"attributes\":{},\"id\":\"2f5cb6f1-c9bc-4e4f-94f6-6f9babc8ede2\",\"type\":\"BasicTickFormatter\"},{\"attributes\":{},\"id\":\"30268844-6f2d-4ef4-a387-a790fa0a953c\",\"type\":\"BasicTickFormatter\"},{\"attributes\":{\"line_alpha\":{\"value\":0.5},\"line_color\":{\"value\":\"grey\"},\"line_dash\":[6],\"x\":{\"field\":\"x\"},\"y\":{\"field\":\"y\"}},\"id\":\"06d08e60-27e8-4908-9532-a93a7a037608\",\"type\":\"Line\"},{\"attributes\":{\"data_source\":{\"id\":\"c5bd7a47-f8b4-4bdc-8e7c-d4270bfe931c\",\"type\":\"ColumnDataSource\"},\"glyph\":{\"id\":\"8b4c0304-693b-46d0-aef2-ee7f49afb7cf\",\"type\":\"Line\"},\"hover_glyph\":null,\"nonselection_glyph\":{\"id\":\"8f126784-7602-4fe9-8a85-d50457123ab6\",\"type\":\"Line\"},\"selection_glyph\":null},\"id\":\"3511f39c-a6c0-4bd2-934e-d2091c2cb43f\",\"type\":\"GlyphRenderer\"},{\"attributes\":{\"line_alpha\":{\"value\":0.1},\"line_color\":{\"value\":\"#1f77b4\"},\"line_dash\":[6],\"x\":{\"field\":\"x\"},\"y\":{\"field\":\"y\"}},\"id\":\"fdcdaed4-14b7-48d0-a59a-7dd3d1d842c6\",\"type\":\"Line\"},{\"attributes\":{\"callback\":null,\"column_names\":[\"x\",\"y\"],\"data\":{\"x\":[28.478668311466613,73.16035110384227],\"y\":[1.268993936573981,57.60804546988187]}},\"id\":\"74f303ea-3d24-470f-93b7-fa70976c02e7\",\"type\":\"ColumnDataSource\"},{\"attributes\":{\"callback\":null,\"column_names\":[\"x\",\"y\"],\"data\":{\"x\":[63.37603748055742,31.37289450489231],\"y\":[19.167411160842207,50.40497036456672]}},\"id\":\"a94bb56c-f5a3-4e86-9e4b-e80eb60f24b1\",\"type\":\"ColumnDataSource\"},{\"attributes\":{\"fill_alpha\":{\"value\":0.7},\"fill_color\":{\"value\":\"#5ab738\"},\"line_color\":{\"value\":\"#5ab738\"},\"size\":{\"units\":\"screen\",\"value\":8},\"x\":{\"field\":\"x_values\"},\"y\":{\"field\":\"y_values\"}},\"id\":\"11c0ca68-ad38-41ec-b039-c2aa4533e459\",\"type\":\"Square\"},{\"attributes\":{\"line_alpha\":{\"value\":0.1},\"line_color\":{\"value\":\"#1f77b4\"},\"line_dash\":[6],\"x\":{\"field\":\"x\"},\"y\":{\"field\":\"y\"}},\"id\":\"7f1cbf3b-b74e-4fce-b8a0-03712e027353\",\"type\":\"Line\"},{\"attributes\":{\"callback\":null,\"column_names\":[\"x\",\"y\"],\"data\":{\"x\":[18.328621951745273,70.16545593416383],\"y\":[16.980872695784154,25.593166496215638]}},\"id\":\"130c3862-d392-4b82-a55e-ca49cbdacf18\",\"type\":\"ColumnDataSource\"},{\"attributes\":{\"bottom_units\":\"screen\",\"fill_alpha\":{\"value\":0.5},\"fill_color\":{\"value\":\"lightgrey\"},\"left_units\":\"screen\",\"level\":\"overlay\",\"line_alpha\":{\"value\":1.0},\"line_color\":{\"value\":\"black\"},\"line_dash\":[4,4],\"line_width\":{\"value\":2},\"plot\":null,\"render_mode\":\"css\",\"right_units\":\"screen\",\"top_units\":\"screen\"},\"id\":\"02c2a143-9f99-49ef-a67f-a29daf1b731d\",\"type\":\"BoxAnnotation\"},{\"attributes\":{},\"id\":\"995c5e73-da45-4a62-a453-c0f0cc17c78b\",\"type\":\"BasicTicker\"},{\"attributes\":{\"plot\":{\"id\":\"73204a7d-0219-48de-b94c-34ee81cdf7f5\",\"subtype\":\"Chart\",\"type\":\"Plot\"},\"ticker\":{\"id\":\"995c5e73-da45-4a62-a453-c0f0cc17c78b\",\"type\":\"BasicTicker\"}},\"id\":\"9cdd160f-93a6-400d-a5ff-248f1065ee07\",\"type\":\"Grid\"},{\"attributes\":{\"data_source\":{\"id\":\"130c3862-d392-4b82-a55e-ca49cbdacf18\",\"type\":\"ColumnDataSource\"},\"glyph\":{\"id\":\"0e950aa6-464f-4ae2-9a93-5534fc531d4f\",\"type\":\"Line\"},\"hover_glyph\":null,\"nonselection_glyph\":{\"id\":\"fdcdaed4-14b7-48d0-a59a-7dd3d1d842c6\",\"type\":\"Line\"},\"selection_glyph\":null},\"id\":\"122ee9bd-d5f9-4e86-a525-318d2eafed0d\",\"type\":\"GlyphRenderer\"},{\"attributes\":{\"callback\":null,\"end\":115,\"start\":-15},\"id\":\"1c78dd9c-2cf8-42b8-912e-32ab1ff5c7a9\",\"type\":\"Range1d\"},{\"attributes\":{\"callback\":null,\"column_names\":[\"x_values\",\"y_values\"],\"data\":{\"chart_index\":[{\"type\":\"Dropoff\"},{\"type\":\"Dropoff\"},{\"type\":\"Dropoff\"},{\"type\":\"Dropoff\"},{\"type\":\"Dropoff\"},{\"type\":\"Dropoff\"},{\"type\":\"Dropoff\"},{\"type\":\"Dropoff\"},{\"type\":\"Dropoff\"},{\"type\":\"Dropoff\"},{\"type\":\"Dropoff\"}],\"type\":[\"Dropoff\",\"Dropoff\",\"Dropoff\",\"Dropoff\",\"Dropoff\",\"Dropoff\",\"Dropoff\",\"Dropoff\",\"Dropoff\",\"Dropoff\",\"Dropoff\"],\"x_values\":{\"__ndarray__\":\"a4p81JaKUUBTuEYxQ0pSQGWQmmQg0EJAuXBKqQi6IUCv6t6V8w44QN9epwN2Xz9A0vWu7KBdMkBrOtqEZclWQJDa8eDTbzFAn9Ye8UFYRkCRRc5JPxNYQA==\",\"dtype\":\"float64\",\"shape\":[11]},\"y_values\":{\"__ndarray__\":\"PlRuwtmXOUDSzxdv1M1MQGaJN8KdsCZAZXR/4ecaWEALqNqBXb9BQObUoxHWM0lAiOzLiUMTVEAuRlkvc7AqQB2FUjG2ZURABjozpnnURUAJTEif4yc9QA==\",\"dtype\":\"float64\",\"shape\":[11]}}},\"id\":\"9aa119b3-16c5-4b02-a342-5eac3e32fdab\",\"type\":\"ColumnDataSource\"},{\"attributes\":{\"dimension\":1,\"plot\":{\"id\":\"73204a7d-0219-48de-b94c-34ee81cdf7f5\",\"subtype\":\"Chart\",\"type\":\"Plot\"},\"ticker\":{\"id\":\"6579fbca-170c-425b-a2bd-ab662269b4ea\",\"type\":\"BasicTicker\"}},\"id\":\"3c6a7407-a68f-4ab3-96e7-4f703ffe8c5c\",\"type\":\"Grid\"},{\"attributes\":{\"fill_alpha\":{\"value\":0.7},\"fill_color\":{\"value\":\"#f22c40\"},\"line_color\":{\"value\":\"#f22c40\"},\"size\":{\"units\":\"screen\",\"value\":8},\"x\":{\"field\":\"x_values\"},\"y\":{\"field\":\"y_values\"}},\"id\":\"d13e4ff0-be60-4e53-afb7-39956abee636\",\"type\":\"Circle\"}],\"root_ids\":[\"73204a7d-0219-48de-b94c-34ee81cdf7f5\"]},\"title\":\"Bokeh Application\",\"version\":\"0.12.4\"}};\n",
       "            var render_items = [{\"docid\":\"13ee89cf-3f37-422f-920c-dfbe44037e3f\",\"elementid\":\"466a0ff4-8560-491a-b0ba-1c73ffda8efe\",\"modelid\":\"73204a7d-0219-48de-b94c-34ee81cdf7f5\"}];\n",
       "            \n",
       "            Bokeh.embed.embed_items(docs_json, render_items);\n",
       "          };\n",
       "          if (document.readyState != \"loading\") fn();\n",
       "          else document.addEventListener(\"DOMContentLoaded\", fn);\n",
       "        })();\n",
       "      },\n",
       "      function(Bokeh) {\n",
       "      }\n",
       "    ];\n",
       "  \n",
       "    function run_inline_js() {\n",
       "      \n",
       "      if ((window.Bokeh !== undefined) || (force === true)) {\n",
       "        for (var i = 0; i < inline_js.length; i++) {\n",
       "          inline_js[i](window.Bokeh);\n",
       "        }if (force === true) {\n",
       "          display_loaded();\n",
       "        }} else if (Date.now() < window._bokeh_timeout) {\n",
       "        setTimeout(run_inline_js, 100);\n",
       "      } else if (!window._bokeh_failed_load) {\n",
       "        console.log(\"Bokeh: BokehJS failed to load within specified timeout.\");\n",
       "        window._bokeh_failed_load = true;\n",
       "      } else if (force !== true) {\n",
       "        var cell = $(document.getElementById(\"466a0ff4-8560-491a-b0ba-1c73ffda8efe\")).parents('.cell').data().cell;\n",
       "        cell.output_area.append_execute_result(NB_LOAD_WARNING)\n",
       "      }\n",
       "  \n",
       "    }\n",
       "  \n",
       "    if (window._bokeh_is_loading === 0) {\n",
       "      console.log(\"Bokeh: BokehJS loaded, going straight to plotting\");\n",
       "      run_inline_js();\n",
       "    } else {\n",
       "      load_libs(js_urls, function() {\n",
       "        console.log(\"Bokeh: BokehJS plotting callback run at\", now());\n",
       "        run_inline_js();\n",
       "      });\n",
       "    }\n",
       "  }(this));\n",
       "</script>"
      ]
     },
     "metadata": {},
     "output_type": "display_data"
    }
   ],
   "source": [
    "show(plot)"
   ]
  },
  {
   "cell_type": "markdown",
   "metadata": {
    "deletable": true,
    "editable": true,
    "slideshow": {
     "slide_type": "subslide"
    }
   },
   "source": [
    "[Column generation](https://en.wikipedia.org/wiki/Column_generation) is a popular technique for solving problems like this. We generate columns _(i.e. binary variables)_ which are pre-defined routes.\n",
    "\n",
    "* $\\Omega = \\{\\text{set of allowable routes}\\}$\n",
    "* $\\Omega_i = \\{\\text{set of routes covering customer i}\\}$\n",
    "* $\\Omega_j = \\{\\text{set of routes involving pedicab j}\\}$\n",
    "* $c_r = \\{\\text{cost of route r}\\}$\n",
    "* $x_r = 1$ if we use route $r$, and $0$ otherwise."
   ]
  },
  {
   "cell_type": "markdown",
   "metadata": {
    "deletable": true,
    "editable": true,
    "slideshow": {
     "slide_type": "fragment"
    }
   },
   "source": [
    "Our model minimizes overall cost while covering each customer and assigning no more than one route to each pedicab.\n",
    "\n",
    "$$\n",
    "\\begin{align}\n",
    "    \\text{min}  \\ \\ \\ & \\ \\sum_r c_r x_r \\ & \\ \\\\\n",
    "    \\text{s.t.} \\ \\ \\ & \\ \\sum_{r \\in \\Omega_i} x_r = 1 & \\ \\forall\\ i \\\\\n",
    "                      & \\ \\sum_{r \\in \\Omega_j} x_r \\le 1 & \\ \\forall\\ j \\\\\n",
    "                      & x_r \\in \\{0, 1\\}\n",
    "\\end{align}\n",
    "$$"
   ]
  },
  {
   "cell_type": "markdown",
   "metadata": {
    "deletable": true,
    "editable": true,
    "slideshow": {
     "slide_type": "subslide"
    }
   },
   "source": [
    "We need to track routes, their costs, and what actors they are associated with."
   ]
  },
  {
   "cell_type": "code",
   "execution_count": 47,
   "metadata": {
    "collapsed": false,
    "deletable": true,
    "editable": true
   },
   "outputs": [],
   "source": [
    "from collections import defaultdict\n",
    "import math\n",
    "\n",
    "l2 = lambda pt1, pt2: math.sqrt(sum((x1-x2)**2 for x1, x2 in zip(pt1, pt2)))\n",
    "\n",
    "routes = []\n",
    "route_costs = {}\n",
    "\n",
    "routes_by_pedicab = defaultdict(list)\n",
    "routes_by_customer = defaultdict(list)\n",
    "\n",
    "def add_route(pedicab, customers, locations):\n",
    "    stops = [pedicab_locations[pedicab]] + list(locations)\n",
    "    \n",
    "    route_num = len(routes)\n",
    "    \n",
    "    routes.append(stops)\n",
    "    route_costs[route_num] = sum(l2(s1, s2) for s1, s2 in zip(stops, stops[1:]))\n",
    "    \n",
    "    routes_by_pedicab[pedicab].append(route_num)\n",
    "    for cust in customers:\n",
    "        routes_by_customer[cust].append(route_num)"
   ]
  },
  {
   "cell_type": "markdown",
   "metadata": {
    "deletable": true,
    "editable": true,
    "slideshow": {
     "slide_type": "subslide"
    }
   },
   "source": [
    "Generate $\\Omega$! Let's assume we're not interested in assigning more than 2 customers to any pedicab."
   ]
  },
  {
   "cell_type": "code",
   "execution_count": 48,
   "metadata": {
    "collapsed": false,
    "deletable": true,
    "editable": true
   },
   "outputs": [
    {
     "data": {
      "text/plain": [
       "2387"
      ]
     },
     "execution_count": 48,
     "metadata": {},
     "output_type": "execute_result"
    }
   ],
   "source": [
    "from itertools import permutations\n",
    "\n",
    "pickups_dropoffs = list(zip(pickup_locations, dropoff_locations))\n",
    "\n",
    "for cab in pedicabs:\n",
    "    # Single-customer routes\n",
    "    for cust in customers:\n",
    "        add_route(cab, [cust], pickups_dropoffs[cust])\n",
    "\n",
    "    # Doubles\n",
    "    for c1, c2 in permutations(customers, 2):\n",
    "        p1, d1 = pickups_dropoffs[c1]\n",
    "        p2, d2 = pickups_dropoffs[c2]\n",
    "        \n",
    "        add_route(cab, [c1, c2], [p1, p2, d1, d2])\n",
    "        add_route(cab, [c1, c2], [p1, p2, d2, d1])\n",
    "        add_route(cab, [c1, c2], [p1, d1, p2, d2])\n",
    "     \n",
    "len(routes)"
   ]
  },
  {
   "cell_type": "markdown",
   "metadata": {
    "deletable": true,
    "editable": true,
    "slideshow": {
     "slide_type": "subslide"
    }
   },
   "source": [
    "Binary variables indicate which routes to use."
   ]
  },
  {
   "cell_type": "code",
   "execution_count": 49,
   "metadata": {
    "collapsed": false,
    "deletable": true,
    "editable": true
   },
   "outputs": [],
   "source": [
    "x = []\n",
    "for r in range(len(routes)):\n",
    "    x.append(pulp.LpVariable('x%d' % r, cat=pulp.LpBinary))"
   ]
  },
  {
   "cell_type": "markdown",
   "metadata": {
    "deletable": true,
    "editable": true,
    "slideshow": {
     "slide_type": "subslide"
    }
   },
   "source": [
    "The entire constraint set to the problem:"
   ]
  },
  {
   "cell_type": "code",
   "execution_count": 50,
   "metadata": {
    "collapsed": false,
    "deletable": true,
    "editable": true
   },
   "outputs": [],
   "source": [
    "prm = pulp.LpProblem('Pedicab Routing Model', sense=pulp.LpMinimize)\n",
    "\n",
    "# No more than one route assigned to each cab\n",
    "for cab_routes in routes_by_pedicab.values():\n",
    "    prm += sum(x[r] for r in cab_routes) <= 1\n",
    "    \n",
    "# Each customer is picked up by exactly one pedicab\n",
    "for cust_routes in routes_by_customer.values():\n",
    "    prm += sum(x[r] for r in cust_routes) == 1"
   ]
  },
  {
   "cell_type": "markdown",
   "metadata": {
    "deletable": true,
    "editable": true,
    "slideshow": {
     "slide_type": "subslide"
    }
   },
   "source": [
    "Objective = minimize total distance."
   ]
  },
  {
   "cell_type": "code",
   "execution_count": 51,
   "metadata": {
    "collapsed": false,
    "deletable": true,
    "editable": true
   },
   "outputs": [
    {
     "name": "stdout",
     "output_type": "stream",
     "text": [
      "total cost: 692.04026\n"
     ]
    }
   ],
   "source": [
    "z = pulp.LpVariable('z', lowBound=0)\n",
    "prm += z == sum(route_costs[r] * x[r] for r in range(len(routes)))\n",
    "\n",
    "prm.setObjective(z)\n",
    "assert prm.solve() == pulp.LpStatusOptimal\n",
    "\n",
    "best_total_cost = z.value()\n",
    "print('total cost:', best_total_cost)"
   ]
  },
  {
   "cell_type": "markdown",
   "metadata": {
    "deletable": true,
    "editable": true,
    "slideshow": {
     "slide_type": "subslide"
    }
   },
   "source": [
    "We need a function to plot solutions."
   ]
  },
  {
   "cell_type": "code",
   "execution_count": 52,
   "metadata": {
    "collapsed": true,
    "deletable": true,
    "editable": true
   },
   "outputs": [],
   "source": [
    "def plot_routes():\n",
    "    plot = build_pedicabs_and_customers_plot()\n",
    "\n",
    "    # Show \n",
    "    for r, stops in enumerate(routes):\n",
    "        if x[r].value() < 0.5:\n",
    "            continue\n",
    "\n",
    "        plot.line(\n",
    "            [s[0] for s in stops], \n",
    "            [s[1] for s in stops], \n",
    "            line_alpha=0.5, \n",
    "            line_color='grey', \n",
    "            line_dash='dashed'\n",
    "        )\n",
    "    \n",
    "    show(plot)"
   ]
  },
  {
   "cell_type": "code",
   "execution_count": 53,
   "metadata": {
    "collapsed": false,
    "deletable": true,
    "editable": true,
    "slideshow": {
     "slide_type": "subslide"
    }
   },
   "outputs": [
    {
     "data": {
      "text/html": [
       "\n",
       "\n",
       "    <div class=\"bk-root\">\n",
       "        <div class=\"bk-plotdiv\" id=\"b7b8a46b-18a0-466f-8817-420a83deeadd\"></div>\n",
       "    </div>\n",
       "<script type=\"text/javascript\">\n",
       "  \n",
       "  (function(global) {\n",
       "    function now() {\n",
       "      return new Date();\n",
       "    }\n",
       "  \n",
       "    var force = false;\n",
       "  \n",
       "    if (typeof (window._bokeh_onload_callbacks) === \"undefined\" || force === true) {\n",
       "      window._bokeh_onload_callbacks = [];\n",
       "      window._bokeh_is_loading = undefined;\n",
       "    }\n",
       "  \n",
       "  \n",
       "    \n",
       "    if (typeof (window._bokeh_timeout) === \"undefined\" || force === true) {\n",
       "      window._bokeh_timeout = Date.now() + 0;\n",
       "      window._bokeh_failed_load = false;\n",
       "    }\n",
       "  \n",
       "    var NB_LOAD_WARNING = {'data': {'text/html':\n",
       "       \"<div style='background-color: #fdd'>\\n\"+\n",
       "       \"<p>\\n\"+\n",
       "       \"BokehJS does not appear to have successfully loaded. If loading BokehJS from CDN, this \\n\"+\n",
       "       \"may be due to a slow or bad network connection. Possible fixes:\\n\"+\n",
       "       \"</p>\\n\"+\n",
       "       \"<ul>\\n\"+\n",
       "       \"<li>re-rerun `output_notebook()` to attempt to load from CDN again, or</li>\\n\"+\n",
       "       \"<li>use INLINE resources instead, as so:</li>\\n\"+\n",
       "       \"</ul>\\n\"+\n",
       "       \"<code>\\n\"+\n",
       "       \"from bokeh.resources import INLINE\\n\"+\n",
       "       \"output_notebook(resources=INLINE)\\n\"+\n",
       "       \"</code>\\n\"+\n",
       "       \"</div>\"}};\n",
       "  \n",
       "    function display_loaded() {\n",
       "      if (window.Bokeh !== undefined) {\n",
       "        document.getElementById(\"b7b8a46b-18a0-466f-8817-420a83deeadd\").textContent = \"BokehJS successfully loaded.\";\n",
       "      } else if (Date.now() < window._bokeh_timeout) {\n",
       "        setTimeout(display_loaded, 100)\n",
       "      }\n",
       "    }\n",
       "  \n",
       "    function run_callbacks() {\n",
       "      window._bokeh_onload_callbacks.forEach(function(callback) { callback() });\n",
       "      delete window._bokeh_onload_callbacks\n",
       "      console.info(\"Bokeh: all callbacks have finished\");\n",
       "    }\n",
       "  \n",
       "    function load_libs(js_urls, callback) {\n",
       "      window._bokeh_onload_callbacks.push(callback);\n",
       "      if (window._bokeh_is_loading > 0) {\n",
       "        console.log(\"Bokeh: BokehJS is being loaded, scheduling callback at\", now());\n",
       "        return null;\n",
       "      }\n",
       "      if (js_urls == null || js_urls.length === 0) {\n",
       "        run_callbacks();\n",
       "        return null;\n",
       "      }\n",
       "      console.log(\"Bokeh: BokehJS not loaded, scheduling load and callback at\", now());\n",
       "      window._bokeh_is_loading = js_urls.length;\n",
       "      for (var i = 0; i < js_urls.length; i++) {\n",
       "        var url = js_urls[i];\n",
       "        var s = document.createElement('script');\n",
       "        s.src = url;\n",
       "        s.async = false;\n",
       "        s.onreadystatechange = s.onload = function() {\n",
       "          window._bokeh_is_loading--;\n",
       "          if (window._bokeh_is_loading === 0) {\n",
       "            console.log(\"Bokeh: all BokehJS libraries loaded\");\n",
       "            run_callbacks()\n",
       "          }\n",
       "        };\n",
       "        s.onerror = function() {\n",
       "          console.warn(\"failed to load library \" + url);\n",
       "        };\n",
       "        console.log(\"Bokeh: injecting script tag for BokehJS library: \", url);\n",
       "        document.getElementsByTagName(\"head\")[0].appendChild(s);\n",
       "      }\n",
       "    };var element = document.getElementById(\"b7b8a46b-18a0-466f-8817-420a83deeadd\");\n",
       "    if (element == null) {\n",
       "      console.log(\"Bokeh: ERROR: autoload.js configured with elementid 'b7b8a46b-18a0-466f-8817-420a83deeadd' but no matching script tag was found. \")\n",
       "      return false;\n",
       "    }\n",
       "  \n",
       "    var js_urls = [];\n",
       "  \n",
       "    var inline_js = [\n",
       "      function(Bokeh) {\n",
       "        (function() {\n",
       "          var fn = function() {\n",
       "            var docs_json = {\"5831f7c4-ec09-4c06-bd21-edebd27ff91d\":{\"roots\":{\"references\":[{\"attributes\":{\"callback\":null,\"end\":115,\"start\":-15},\"id\":\"3c087d90-0c24-4ace-bd9c-9a1cb0e6f9ca\",\"type\":\"Range1d\"},{\"attributes\":{\"label\":{\"value\":\"Dropoff\"},\"renderers\":[{\"id\":\"cef2c638-1360-4e20-be9e-bf92032e7a99\",\"type\":\"GlyphRenderer\"}]},\"id\":\"1481ef5b-7728-4748-b4c0-eea1b32c1c55\",\"type\":\"LegendItem\"},{\"attributes\":{\"plot\":{\"id\":\"8dc9009e-4198-487b-9d90-7bcaaf876331\",\"subtype\":\"Chart\",\"type\":\"Plot\"}},\"id\":\"8c540368-a2d2-4f3a-8e73-f8dec7ac061b\",\"type\":\"PanTool\"},{\"attributes\":{\"plot\":{\"id\":\"8dc9009e-4198-487b-9d90-7bcaaf876331\",\"subtype\":\"Chart\",\"type\":\"Plot\"},\"ticker\":{\"id\":\"642517e8-5551-4d71-ba1d-adbb9cfc3dd7\",\"type\":\"BasicTicker\"}},\"id\":\"c1d4d7db-ec96-4770-af8f-f90c9f7cf1d7\",\"type\":\"Grid\"},{\"attributes\":{\"callback\":null,\"column_names\":[\"x\",\"y\"],\"data\":{\"x\":[31.770694684563605,30.239453666634862,12.09291096842927,24.058404318736105,44.68951238637714],\"y\":[54.41314151418699,76.56737580421353,63.00739058197195,35.495041114583806,43.65996243954946]}},\"id\":\"d18ab115-22af-426f-8a66-34ceefdf9181\",\"type\":\"ColumnDataSource\"},{\"attributes\":{\"plot\":null,\"text\":null},\"id\":\"d026220c-b8a1-4d6b-889d-2a27b44f397e\",\"type\":\"Title\"},{\"attributes\":{\"line_alpha\":{\"value\":0.5},\"line_color\":{\"value\":\"grey\"},\"line_dash\":[6],\"x\":{\"field\":\"x\"},\"y\":{\"field\":\"y\"}},\"id\":\"95d590ac-1a18-4615-8bb1-ba833a83a4f2\",\"type\":\"Line\"},{\"attributes\":{\"bottom_units\":\"screen\",\"fill_alpha\":{\"value\":0.5},\"fill_color\":{\"value\":\"lightgrey\"},\"left_units\":\"screen\",\"level\":\"overlay\",\"line_alpha\":{\"value\":1.0},\"line_color\":{\"value\":\"black\"},\"line_dash\":[4,4],\"line_width\":{\"value\":2},\"plot\":null,\"render_mode\":\"css\",\"right_units\":\"screen\",\"top_units\":\"screen\"},\"id\":\"294f845e-4285-41a5-bd83-b0b644fc0049\",\"type\":\"BoxAnnotation\"},{\"attributes\":{\"items\":[{\"id\":\"d1d052b7-4201-446b-b8b0-21899e1737f8\",\"type\":\"LegendItem\"},{\"id\":\"1e8e741c-463d-423d-9e56-bd69be14a8b3\",\"type\":\"LegendItem\"},{\"id\":\"1481ef5b-7728-4748-b4c0-eea1b32c1c55\",\"type\":\"LegendItem\"}],\"location\":\"top_left\",\"orientation\":\"horizontal\",\"plot\":{\"id\":\"8dc9009e-4198-487b-9d90-7bcaaf876331\",\"subtype\":\"Chart\",\"type\":\"Plot\"}},\"id\":\"ed1b2a50-2999-4d36-ad68-2be00955ff9e\",\"type\":\"Legend\"},{\"attributes\":{\"axis_label\":\"y\",\"formatter\":{\"id\":\"66536852-7761-4c66-b5de-381b336472f7\",\"type\":\"BasicTickFormatter\"},\"plot\":{\"id\":\"8dc9009e-4198-487b-9d90-7bcaaf876331\",\"subtype\":\"Chart\",\"type\":\"Plot\"},\"ticker\":{\"id\":\"48af9086-7b27-4fa6-b6dd-313505e4e560\",\"type\":\"BasicTicker\"}},\"id\":\"dc676e88-9a9f-4829-bc51-1ee3a47413e2\",\"type\":\"LinearAxis\"},{\"attributes\":{\"data_source\":{\"id\":\"b434e3bc-e7d2-41de-80a0-4f2a762c1493\",\"type\":\"ColumnDataSource\"},\"glyph\":{\"id\":\"250f4882-5ef1-476d-893b-51b15a4e7ff3\",\"type\":\"Line\"},\"hover_glyph\":null,\"nonselection_glyph\":{\"id\":\"5b629490-b141-4da7-a5a4-94bb7ae4ab0c\",\"type\":\"Line\"},\"selection_glyph\":null},\"id\":\"c45f5db1-8742-4439-af4f-cb3c8eac4edb\",\"type\":\"GlyphRenderer\"},{\"attributes\":{\"data_source\":{\"id\":\"b1b4ff8b-1635-45a9-a340-f7e6702e22db\",\"type\":\"ColumnDataSource\"},\"glyph\":{\"id\":\"dd0098fd-2ecb-4b0f-a50c-039fbc4afbf4\",\"type\":\"Circle\"},\"hover_glyph\":null,\"nonselection_glyph\":null,\"selection_glyph\":null},\"id\":\"cef2c638-1360-4e20-be9e-bf92032e7a99\",\"type\":\"GlyphRenderer\"},{\"attributes\":{\"data_source\":{\"id\":\"05ccc3a6-80f5-49ef-adb3-cb8fdd5e76b5\",\"type\":\"ColumnDataSource\"},\"glyph\":{\"id\":\"953cdcc4-3f74-4436-85ec-dd72c257eb01\",\"type\":\"Line\"},\"hover_glyph\":null,\"nonselection_glyph\":{\"id\":\"7e36e0d1-a891-4854-a68a-77f155c367a4\",\"type\":\"Line\"},\"selection_glyph\":null},\"id\":\"ac5828ae-7424-4f12-ad0a-61aac0641035\",\"type\":\"GlyphRenderer\"},{\"attributes\":{\"data_source\":{\"id\":\"afeed748-1756-4636-88b6-ffc2f998c981\",\"type\":\"ColumnDataSource\"},\"glyph\":{\"id\":\"75c1b7bc-a158-4321-8c4b-98d4ae9b585a\",\"type\":\"Line\"},\"hover_glyph\":null,\"nonselection_glyph\":{\"id\":\"1827e9ce-ec55-4480-a9f5-957ed65c8c93\",\"type\":\"Line\"},\"selection_glyph\":null},\"id\":\"4be1b443-1757-4fa1-aafe-bb2ebac3e5eb\",\"type\":\"GlyphRenderer\"},{\"attributes\":{\"plot\":{\"id\":\"8dc9009e-4198-487b-9d90-7bcaaf876331\",\"subtype\":\"Chart\",\"type\":\"Plot\"}},\"id\":\"7c1ad28e-eb0b-4959-a88d-ece1002c9b80\",\"type\":\"WheelZoomTool\"},{\"attributes\":{},\"id\":\"f18b2338-2c73-4a4c-a13b-00694cae715e\",\"type\":\"BasicTickFormatter\"},{\"attributes\":{\"overlay\":{\"id\":\"294f845e-4285-41a5-bd83-b0b644fc0049\",\"type\":\"BoxAnnotation\"},\"plot\":{\"id\":\"8dc9009e-4198-487b-9d90-7bcaaf876331\",\"subtype\":\"Chart\",\"type\":\"Plot\"}},\"id\":\"d547401f-4179-4f38-ad1a-32e1e2de5eb4\",\"type\":\"BoxZoomTool\"},{\"attributes\":{\"label\":{\"value\":\"Pickup\"},\"renderers\":[{\"id\":\"959e3871-285f-4dd3-99d8-34b03d474edf\",\"type\":\"GlyphRenderer\"}]},\"id\":\"1e8e741c-463d-423d-9e56-bd69be14a8b3\",\"type\":\"LegendItem\"},{\"attributes\":{\"plot\":{\"id\":\"8dc9009e-4198-487b-9d90-7bcaaf876331\",\"subtype\":\"Chart\",\"type\":\"Plot\"}},\"id\":\"9c2c2bf6-8317-4ecf-8921-cda49c052231\",\"type\":\"ResetTool\"},{\"attributes\":{\"plot\":{\"id\":\"8dc9009e-4198-487b-9d90-7bcaaf876331\",\"subtype\":\"Chart\",\"type\":\"Plot\"}},\"id\":\"026551fb-9b08-45f3-b485-df2de4112c89\",\"type\":\"HelpTool\"},{\"attributes\":{\"callback\":null,\"column_names\":[\"x_values\",\"y_values\"],\"data\":{\"chart_index\":[{\"type\":\"Dropoff\"},{\"type\":\"Dropoff\"},{\"type\":\"Dropoff\"},{\"type\":\"Dropoff\"},{\"type\":\"Dropoff\"},{\"type\":\"Dropoff\"},{\"type\":\"Dropoff\"},{\"type\":\"Dropoff\"},{\"type\":\"Dropoff\"},{\"type\":\"Dropoff\"},{\"type\":\"Dropoff\"}],\"type\":[\"Dropoff\",\"Dropoff\",\"Dropoff\",\"Dropoff\",\"Dropoff\",\"Dropoff\",\"Dropoff\",\"Dropoff\",\"Dropoff\",\"Dropoff\",\"Dropoff\"],\"x_values\":{\"__ndarray__\":\"a4p81JaKUUBTuEYxQ0pSQGWQmmQg0EJAuXBKqQi6IUCv6t6V8w44QN9epwN2Xz9A0vWu7KBdMkBrOtqEZclWQJDa8eDTbzFAn9Ye8UFYRkCRRc5JPxNYQA==\",\"dtype\":\"float64\",\"shape\":[11]},\"y_values\":{\"__ndarray__\":\"PlRuwtmXOUDSzxdv1M1MQGaJN8KdsCZAZXR/4ecaWEALqNqBXb9BQObUoxHWM0lAiOzLiUMTVEAuRlkvc7AqQB2FUjG2ZURABjozpnnURUAJTEif4yc9QA==\",\"dtype\":\"float64\",\"shape\":[11]}}},\"id\":\"b1b4ff8b-1635-45a9-a340-f7e6702e22db\",\"type\":\"ColumnDataSource\"},{\"attributes\":{},\"id\":\"66536852-7761-4c66-b5de-381b336472f7\",\"type\":\"BasicTickFormatter\"},{\"attributes\":{\"data_source\":{\"id\":\"8a7a8fd0-06b1-42b4-88f4-8f5a8adeb8de\",\"type\":\"ColumnDataSource\"},\"glyph\":{\"id\":\"103848c6-3fff-40e5-ba2b-8e6b822ec258\",\"type\":\"Line\"},\"hover_glyph\":null,\"nonselection_glyph\":{\"id\":\"89f3817e-3fcd-4873-9590-50d77af988b5\",\"type\":\"Line\"},\"selection_glyph\":null},\"id\":\"5c21e6c1-ea0b-4160-aec6-500c1be8e8f1\",\"type\":\"GlyphRenderer\"},{\"attributes\":{\"line_alpha\":{\"value\":0.5},\"line_color\":{\"value\":\"grey\"},\"line_dash\":[6],\"x\":{\"field\":\"x\"},\"y\":{\"field\":\"y\"}},\"id\":\"103848c6-3fff-40e5-ba2b-8e6b822ec258\",\"type\":\"Line\"},{\"attributes\":{},\"id\":\"642517e8-5551-4d71-ba1d-adbb9cfc3dd7\",\"type\":\"BasicTicker\"},{\"attributes\":{\"line_alpha\":{\"value\":0.1},\"line_color\":{\"value\":\"#1f77b4\"},\"line_dash\":[6],\"x\":{\"field\":\"x\"},\"y\":{\"field\":\"y\"}},\"id\":\"b1022887-b2ba-4707-8744-3f19c8a3abd5\",\"type\":\"Line\"},{\"attributes\":{\"plot\":{\"id\":\"8dc9009e-4198-487b-9d90-7bcaaf876331\",\"subtype\":\"Chart\",\"type\":\"Plot\"}},\"id\":\"1ed806c9-4276-4c6c-98a3-5f605a08f3a9\",\"type\":\"SaveTool\"},{\"attributes\":{\"callback\":null,\"column_names\":[\"x\",\"y\"],\"data\":{\"x\":[32.92579479024108,39.38064695380642,34.81912394955794,96.30073781150556,91.14682122527454],\"y\":[57.75333123192458,68.61070721389656,82.41582025101003,29.155816989088667,13.344628791473124]}},\"id\":\"b434e3bc-e7d2-41de-80a0-4f2a762c1493\",\"type\":\"ColumnDataSource\"},{\"attributes\":{\"line_alpha\":{\"value\":0.5},\"line_color\":{\"value\":\"grey\"},\"line_dash\":[6],\"x\":{\"field\":\"x\"},\"y\":{\"field\":\"y\"}},\"id\":\"250f4882-5ef1-476d-893b-51b15a4e7ff3\",\"type\":\"Line\"},{\"attributes\":{\"callback\":null,\"column_names\":[\"x\",\"y\"],\"data\":{\"x\":[35.704375269839886,54.7944432163778,63.37603748055742,31.37289450489231,8.863347330414728],\"y\":[28.139375711150006,7.290334764179541,19.167411160842207,50.40497036456672,96.42040288397546]}},\"id\":\"05ccc3a6-80f5-49ef-adb3-cb8fdd5e76b5\",\"type\":\"ColumnDataSource\"},{\"attributes\":{\"line_alpha\":{\"value\":0.5},\"line_color\":{\"value\":\"grey\"},\"line_dash\":[6],\"x\":{\"field\":\"x\"},\"y\":{\"field\":\"y\"}},\"id\":\"953cdcc4-3f74-4436-85ec-dd72c257eb01\",\"type\":\"Line\"},{\"attributes\":{\"callback\":null,\"column_names\":[\"x\",\"y\"],\"data\":{\"x\":[65.20680944172358,97.6555280455148,92.28275870175034,17.436826762243584,37.625988555403445],\"y\":[58.8929527975783,81.06989553099451,83.8266239297685,40.794622578900295,11.344953603057274]}},\"id\":\"8a7a8fd0-06b1-42b4-88f4-8f5a8adeb8de\",\"type\":\"ColumnDataSource\"},{\"attributes\":{\"data_source\":{\"id\":\"827d5feb-0d7a-4163-9704-89d749040e3f\",\"type\":\"ColumnDataSource\"},\"glyph\":{\"id\":\"71ed534c-a6d9-4e6d-88d1-e65d1c5751d5\",\"type\":\"Square\"},\"hover_glyph\":null,\"nonselection_glyph\":null,\"selection_glyph\":null},\"id\":\"96efd2c0-7702-4dd3-bf96-a4d9ee9cd17e\",\"type\":\"GlyphRenderer\"},{\"attributes\":{\"data_source\":{\"id\":\"ffb66133-31a8-439e-b497-e78b7ab0a81c\",\"type\":\"ColumnDataSource\"},\"glyph\":{\"id\":\"f2fd0f5c-1a60-4ad6-bc91-1aac420c242a\",\"type\":\"Triangle\"},\"hover_glyph\":null,\"nonselection_glyph\":null,\"selection_glyph\":null},\"id\":\"959e3871-285f-4dd3-99d8-34b03d474edf\",\"type\":\"GlyphRenderer\"},{\"attributes\":{},\"id\":\"48af9086-7b27-4fa6-b6dd-313505e4e560\",\"type\":\"BasicTicker\"},{\"attributes\":{\"line_alpha\":{\"value\":0.5},\"line_color\":{\"value\":\"grey\"},\"line_dash\":[6],\"x\":{\"field\":\"x\"},\"y\":{\"field\":\"y\"}},\"id\":\"75c1b7bc-a158-4321-8c4b-98d4ae9b585a\",\"type\":\"Line\"},{\"attributes\":{\"active_drag\":\"auto\",\"active_scroll\":\"auto\",\"active_tap\":\"auto\",\"tools\":[{\"id\":\"8c540368-a2d2-4f3a-8e73-f8dec7ac061b\",\"type\":\"PanTool\"},{\"id\":\"7c1ad28e-eb0b-4959-a88d-ece1002c9b80\",\"type\":\"WheelZoomTool\"},{\"id\":\"d547401f-4179-4f38-ad1a-32e1e2de5eb4\",\"type\":\"BoxZoomTool\"},{\"id\":\"1ed806c9-4276-4c6c-98a3-5f605a08f3a9\",\"type\":\"SaveTool\"},{\"id\":\"9c2c2bf6-8317-4ecf-8921-cda49c052231\",\"type\":\"ResetTool\"},{\"id\":\"026551fb-9b08-45f3-b485-df2de4112c89\",\"type\":\"HelpTool\"}]},\"id\":\"9c5378f1-d20a-4269-af20-15105de83966\",\"type\":\"Toolbar\"},{\"attributes\":{\"data_source\":{\"id\":\"3b2fb5ac-d640-4dfd-b10b-8f46d05c9e88\",\"type\":\"ColumnDataSource\"},\"glyph\":{\"id\":\"5b34b843-6a67-4872-9921-f34c09c96617\",\"type\":\"Line\"},\"hover_glyph\":null,\"nonselection_glyph\":{\"id\":\"b1022887-b2ba-4707-8744-3f19c8a3abd5\",\"type\":\"Line\"},\"selection_glyph\":null},\"id\":\"c02273a2-2911-48d1-a92c-8f136f358950\",\"type\":\"GlyphRenderer\"},{\"attributes\":{},\"id\":\"b812c15a-fddf-4b53-9061-9b59aa29b8e8\",\"type\":\"ToolEvents\"},{\"attributes\":{\"fill_alpha\":{\"value\":0.7},\"fill_color\":{\"value\":\"#5ab738\"},\"line_color\":{\"value\":\"#5ab738\"},\"size\":{\"units\":\"screen\",\"value\":8},\"x\":{\"field\":\"x_values\"},\"y\":{\"field\":\"y_values\"}},\"id\":\"71ed534c-a6d9-4e6d-88d1-e65d1c5751d5\",\"type\":\"Square\"},{\"attributes\":{\"fill_alpha\":{\"value\":0.7},\"fill_color\":{\"value\":\"#407ee7\"},\"line_color\":{\"value\":\"#407ee7\"},\"size\":{\"units\":\"screen\",\"value\":8},\"x\":{\"field\":\"x_values\"},\"y\":{\"field\":\"y_values\"}},\"id\":\"f2fd0f5c-1a60-4ad6-bc91-1aac420c242a\",\"type\":\"Triangle\"},{\"attributes\":{\"label\":{\"value\":\"Pedicab\"},\"renderers\":[{\"id\":\"96efd2c0-7702-4dd3-bf96-a4d9ee9cd17e\",\"type\":\"GlyphRenderer\"}]},\"id\":\"d1d052b7-4201-446b-b8b0-21899e1737f8\",\"type\":\"LegendItem\"},{\"attributes\":{\"callback\":null,\"column_names\":[\"x_values\",\"y_values\"],\"data\":{\"chart_index\":[{\"type\":\"Pickup\"},{\"type\":\"Pickup\"},{\"type\":\"Pickup\"},{\"type\":\"Pickup\"},{\"type\":\"Pickup\"},{\"type\":\"Pickup\"},{\"type\":\"Pickup\"},{\"type\":\"Pickup\"},{\"type\":\"Pickup\"},{\"type\":\"Pickup\"},{\"type\":\"Pickup\"}],\"type\":[\"Pickup\",\"Pickup\",\"Pickup\",\"Pickup\",\"Pickup\",\"Pickup\",\"Pickup\",\"Pickup\",\"Pickup\",\"Pickup\",\"Pickup\"],\"x_values\":{\"__ndarray__\":\"X353kSBUMkByYacBino8QFYr9LcYEldAlG+4ULBlS0DTr8UGki8oQD2IBP8hsE9AyP4okeEb0z9hXLcN2WhBQDNG5yv0aVhAoRrj1Uw9PkDW9RQKubBDQA==\",\"dtype\":\"float64\",\"shape\":[11]},\"y_values\":{\"__ndarray__\":\"q+4VeRr7MEBQhQaWzE30P5ccDmjn9FRACCw0hE0pHUAY77Es8oBPQHzNNHXbKjNAnF9jkdvmSUCRxorMnJpUQIPwGit5RFRA4uia4k8kU0B9x7XTFSdRQA==\",\"dtype\":\"float64\",\"shape\":[11]}}},\"id\":\"ffb66133-31a8-439e-b497-e78b7ab0a81c\",\"type\":\"ColumnDataSource\"},{\"attributes\":{\"callback\":null,\"column_names\":[\"x\",\"y\"],\"data\":{\"x\":[24.764515053803336,18.328621951745273,28.478668311466613,70.16545593416383,73.16035110384227],\"y\":[27.3175973857542,16.980872695784154,1.268993936573981,25.593166496215638,57.60804546988187]}},\"id\":\"afeed748-1756-4636-88b6-ffc2f998c981\",\"type\":\"ColumnDataSource\"},{\"attributes\":{\"line_alpha\":{\"value\":0.1},\"line_color\":{\"value\":\"#1f77b4\"},\"line_dash\":[6],\"x\":{\"field\":\"x\"},\"y\":{\"field\":\"y\"}},\"id\":\"7e36e0d1-a891-4854-a68a-77f155c367a4\",\"type\":\"Line\"},{\"attributes\":{\"callback\":null,\"column_names\":[\"x_values\",\"y_values\"],\"data\":{\"chart_index\":[{\"type\":\"Pedicab\"},{\"type\":\"Pedicab\"},{\"type\":\"Pedicab\"},{\"type\":\"Pedicab\"},{\"type\":\"Pedicab\"},{\"type\":\"Pedicab\"},{\"type\":\"Pedicab\"}],\"type\":[\"Pedicab\",\"Pedicab\",\"Pedicab\",\"Pedicab\",\"Pedicab\",\"Pedicab\",\"Pedicab\"],\"x_values\":{\"__ndarray__\":\"gmO2LMe7QEDXZjE/TMU/QJBiMUK3wzhAaAkG+CjaQUBBcpVxgHZAQMnSEP1WrTFAPC2rXTxNUEA=\",\"dtype\":\"float64\",\"shape\":[7]},\"y_values\":{\"__ndarray__\":\"xKCrBhwRPEDKBjbS4TRLQAEc8Q9OUTtA+z5pIK4jPEDyFWYobeBMQOhOEJEnp0ZAOjz7RkxyTUA=\",\"dtype\":\"float64\",\"shape\":[7]}}},\"id\":\"827d5feb-0d7a-4163-9704-89d749040e3f\",\"type\":\"ColumnDataSource\"},{\"attributes\":{\"fill_alpha\":{\"value\":0.7},\"fill_color\":{\"value\":\"#f22c40\"},\"line_color\":{\"value\":\"#f22c40\"},\"size\":{\"units\":\"screen\",\"value\":8},\"x\":{\"field\":\"x_values\"},\"y\":{\"field\":\"y_values\"}},\"id\":\"dd0098fd-2ecb-4b0f-a50c-039fbc4afbf4\",\"type\":\"Circle\"},{\"attributes\":{\"data_source\":{\"id\":\"d18ab115-22af-426f-8a66-34ceefdf9181\",\"type\":\"ColumnDataSource\"},\"glyph\":{\"id\":\"95d590ac-1a18-4615-8bb1-ba833a83a4f2\",\"type\":\"Line\"},\"hover_glyph\":null,\"nonselection_glyph\":{\"id\":\"502eb831-347b-4b83-a913-c8bd0203946a\",\"type\":\"Line\"},\"selection_glyph\":null},\"id\":\"5f10aebe-a1a0-4846-a961-1f6ce340bcbd\",\"type\":\"GlyphRenderer\"},{\"attributes\":{\"line_alpha\":{\"value\":0.1},\"line_color\":{\"value\":\"#1f77b4\"},\"line_dash\":[6],\"x\":{\"field\":\"x\"},\"y\":{\"field\":\"y\"}},\"id\":\"5b629490-b141-4da7-a5a4-94bb7ae4ab0c\",\"type\":\"Line\"},{\"attributes\":{\"below\":[{\"id\":\"43d081a5-1e3c-4077-b585-c249dec2051c\",\"type\":\"LinearAxis\"}],\"css_classes\":null,\"height\":600,\"left\":[{\"id\":\"dc676e88-9a9f-4829-bc51-1ee3a47413e2\",\"type\":\"LinearAxis\"}],\"renderers\":[{\"id\":\"294f845e-4285-41a5-bd83-b0b644fc0049\",\"type\":\"BoxAnnotation\"},{\"id\":\"96efd2c0-7702-4dd3-bf96-a4d9ee9cd17e\",\"type\":\"GlyphRenderer\"},{\"id\":\"959e3871-285f-4dd3-99d8-34b03d474edf\",\"type\":\"GlyphRenderer\"},{\"id\":\"cef2c638-1360-4e20-be9e-bf92032e7a99\",\"type\":\"GlyphRenderer\"},{\"id\":\"ed1b2a50-2999-4d36-ad68-2be00955ff9e\",\"type\":\"Legend\"},{\"id\":\"43d081a5-1e3c-4077-b585-c249dec2051c\",\"type\":\"LinearAxis\"},{\"id\":\"dc676e88-9a9f-4829-bc51-1ee3a47413e2\",\"type\":\"LinearAxis\"},{\"id\":\"c1d4d7db-ec96-4770-af8f-f90c9f7cf1d7\",\"type\":\"Grid\"},{\"id\":\"01efcdda-4b8b-48e3-85f3-c68f6b6ab4a8\",\"type\":\"Grid\"},{\"id\":\"5f10aebe-a1a0-4846-a961-1f6ce340bcbd\",\"type\":\"GlyphRenderer\"},{\"id\":\"4be1b443-1757-4fa1-aafe-bb2ebac3e5eb\",\"type\":\"GlyphRenderer\"},{\"id\":\"ac5828ae-7424-4f12-ad0a-61aac0641035\",\"type\":\"GlyphRenderer\"},{\"id\":\"c45f5db1-8742-4439-af4f-cb3c8eac4edb\",\"type\":\"GlyphRenderer\"},{\"id\":\"c02273a2-2911-48d1-a92c-8f136f358950\",\"type\":\"GlyphRenderer\"},{\"id\":\"5c21e6c1-ea0b-4160-aec6-500c1be8e8f1\",\"type\":\"GlyphRenderer\"}],\"title\":{\"id\":\"d026220c-b8a1-4d6b-889d-2a27b44f397e\",\"type\":\"Title\"},\"tool_events\":{\"id\":\"b812c15a-fddf-4b53-9061-9b59aa29b8e8\",\"type\":\"ToolEvents\"},\"toolbar\":{\"id\":\"9c5378f1-d20a-4269-af20-15105de83966\",\"type\":\"Toolbar\"},\"width\":600,\"x_mapper_type\":\"auto\",\"x_range\":{\"id\":\"3c087d90-0c24-4ace-bd9c-9a1cb0e6f9ca\",\"type\":\"Range1d\"},\"y_mapper_type\":\"auto\",\"y_range\":{\"id\":\"3c087d90-0c24-4ace-bd9c-9a1cb0e6f9ca\",\"type\":\"Range1d\"}},\"id\":\"8dc9009e-4198-487b-9d90-7bcaaf876331\",\"subtype\":\"Chart\",\"type\":\"Plot\"},{\"attributes\":{\"dimension\":1,\"plot\":{\"id\":\"8dc9009e-4198-487b-9d90-7bcaaf876331\",\"subtype\":\"Chart\",\"type\":\"Plot\"},\"ticker\":{\"id\":\"48af9086-7b27-4fa6-b6dd-313505e4e560\",\"type\":\"BasicTicker\"}},\"id\":\"01efcdda-4b8b-48e3-85f3-c68f6b6ab4a8\",\"type\":\"Grid\"},{\"attributes\":{\"axis_label\":\"x\",\"formatter\":{\"id\":\"f18b2338-2c73-4a4c-a13b-00694cae715e\",\"type\":\"BasicTickFormatter\"},\"plot\":{\"id\":\"8dc9009e-4198-487b-9d90-7bcaaf876331\",\"subtype\":\"Chart\",\"type\":\"Plot\"},\"ticker\":{\"id\":\"642517e8-5551-4d71-ba1d-adbb9cfc3dd7\",\"type\":\"BasicTicker\"}},\"id\":\"43d081a5-1e3c-4077-b585-c249dec2051c\",\"type\":\"LinearAxis\"},{\"attributes\":{\"line_alpha\":{\"value\":0.1},\"line_color\":{\"value\":\"#1f77b4\"},\"line_dash\":[6],\"x\":{\"field\":\"x\"},\"y\":{\"field\":\"y\"}},\"id\":\"502eb831-347b-4b83-a913-c8bd0203946a\",\"type\":\"Line\"},{\"attributes\":{\"line_alpha\":{\"value\":0.1},\"line_color\":{\"value\":\"#1f77b4\"},\"line_dash\":[6],\"x\":{\"field\":\"x\"},\"y\":{\"field\":\"y\"}},\"id\":\"1827e9ce-ec55-4480-a9f5-957ed65c8c93\",\"type\":\"Line\"},{\"attributes\":{\"callback\":null,\"column_names\":[\"x\",\"y\"],\"data\":{\"x\":[17.6771085897515,0.298576728589961,18.36573676368227],\"y\":[45.30589497848797,51.80357568123074,80.30099720873307]}},\"id\":\"3b2fb5ac-d640-4dfd-b10b-8f46d05c9e88\",\"type\":\"ColumnDataSource\"},{\"attributes\":{\"line_alpha\":{\"value\":0.1},\"line_color\":{\"value\":\"#1f77b4\"},\"line_dash\":[6],\"x\":{\"field\":\"x\"},\"y\":{\"field\":\"y\"}},\"id\":\"89f3817e-3fcd-4873-9590-50d77af988b5\",\"type\":\"Line\"},{\"attributes\":{\"line_alpha\":{\"value\":0.5},\"line_color\":{\"value\":\"grey\"},\"line_dash\":[6],\"x\":{\"field\":\"x\"},\"y\":{\"field\":\"y\"}},\"id\":\"5b34b843-6a67-4872-9921-f34c09c96617\",\"type\":\"Line\"}],\"root_ids\":[\"8dc9009e-4198-487b-9d90-7bcaaf876331\"]},\"title\":\"Bokeh Application\",\"version\":\"0.12.4\"}};\n",
       "            var render_items = [{\"docid\":\"5831f7c4-ec09-4c06-bd21-edebd27ff91d\",\"elementid\":\"b7b8a46b-18a0-466f-8817-420a83deeadd\",\"modelid\":\"8dc9009e-4198-487b-9d90-7bcaaf876331\"}];\n",
       "            \n",
       "            Bokeh.embed.embed_items(docs_json, render_items);\n",
       "          };\n",
       "          if (document.readyState != \"loading\") fn();\n",
       "          else document.addEventListener(\"DOMContentLoaded\", fn);\n",
       "        })();\n",
       "      },\n",
       "      function(Bokeh) {\n",
       "      }\n",
       "    ];\n",
       "  \n",
       "    function run_inline_js() {\n",
       "      \n",
       "      if ((window.Bokeh !== undefined) || (force === true)) {\n",
       "        for (var i = 0; i < inline_js.length; i++) {\n",
       "          inline_js[i](window.Bokeh);\n",
       "        }if (force === true) {\n",
       "          display_loaded();\n",
       "        }} else if (Date.now() < window._bokeh_timeout) {\n",
       "        setTimeout(run_inline_js, 100);\n",
       "      } else if (!window._bokeh_failed_load) {\n",
       "        console.log(\"Bokeh: BokehJS failed to load within specified timeout.\");\n",
       "        window._bokeh_failed_load = true;\n",
       "      } else if (force !== true) {\n",
       "        var cell = $(document.getElementById(\"b7b8a46b-18a0-466f-8817-420a83deeadd\")).parents('.cell').data().cell;\n",
       "        cell.output_area.append_execute_result(NB_LOAD_WARNING)\n",
       "      }\n",
       "  \n",
       "    }\n",
       "  \n",
       "    if (window._bokeh_is_loading === 0) {\n",
       "      console.log(\"Bokeh: BokehJS loaded, going straight to plotting\");\n",
       "      run_inline_js();\n",
       "    } else {\n",
       "      load_libs(js_urls, function() {\n",
       "        console.log(\"Bokeh: BokehJS plotting callback run at\", now());\n",
       "        run_inline_js();\n",
       "      });\n",
       "    }\n",
       "  }(this));\n",
       "</script>"
      ]
     },
     "metadata": {},
     "output_type": "display_data"
    }
   ],
   "source": [
    "plot_routes()"
   ]
  },
  {
   "cell_type": "markdown",
   "metadata": {
    "deletable": true,
    "editable": true,
    "slideshow": {
     "slide_type": "subslide"
    }
   },
   "source": [
    "Some of our pedicabs complain that they have to travel much farther than others. Let's fix that by minimizing the maximum trip length."
   ]
  },
  {
   "cell_type": "code",
   "execution_count": 54,
   "metadata": {
    "collapsed": false,
    "deletable": true,
    "editable": true
   },
   "outputs": [
    {
     "name": "stdout",
     "output_type": "stream",
     "text": [
      "total cost: 916.95713\n",
      "max route length: 155.61076\n"
     ]
    }
   ],
   "source": [
    "z2 = pulp.LpVariable('z2', lowBound=0)\n",
    "for r in range(len(routes)):\n",
    "    prm += z2 >= route_costs[r] * x[r]\n",
    "\n",
    "prm.setObjective(z2)\n",
    "assert prm.solve() == pulp.LpStatusOptimal\n",
    "\n",
    "print('total cost:', z.value())\n",
    "print('max route length:', z2.value())"
   ]
  },
  {
   "cell_type": "code",
   "execution_count": 55,
   "metadata": {
    "collapsed": false,
    "deletable": true,
    "editable": true,
    "slideshow": {
     "slide_type": "subslide"
    }
   },
   "outputs": [
    {
     "data": {
      "text/html": [
       "\n",
       "\n",
       "    <div class=\"bk-root\">\n",
       "        <div class=\"bk-plotdiv\" id=\"4d1c6074-0970-40f1-af59-6cf0ad97b79f\"></div>\n",
       "    </div>\n",
       "<script type=\"text/javascript\">\n",
       "  \n",
       "  (function(global) {\n",
       "    function now() {\n",
       "      return new Date();\n",
       "    }\n",
       "  \n",
       "    var force = false;\n",
       "  \n",
       "    if (typeof (window._bokeh_onload_callbacks) === \"undefined\" || force === true) {\n",
       "      window._bokeh_onload_callbacks = [];\n",
       "      window._bokeh_is_loading = undefined;\n",
       "    }\n",
       "  \n",
       "  \n",
       "    \n",
       "    if (typeof (window._bokeh_timeout) === \"undefined\" || force === true) {\n",
       "      window._bokeh_timeout = Date.now() + 0;\n",
       "      window._bokeh_failed_load = false;\n",
       "    }\n",
       "  \n",
       "    var NB_LOAD_WARNING = {'data': {'text/html':\n",
       "       \"<div style='background-color: #fdd'>\\n\"+\n",
       "       \"<p>\\n\"+\n",
       "       \"BokehJS does not appear to have successfully loaded. If loading BokehJS from CDN, this \\n\"+\n",
       "       \"may be due to a slow or bad network connection. Possible fixes:\\n\"+\n",
       "       \"</p>\\n\"+\n",
       "       \"<ul>\\n\"+\n",
       "       \"<li>re-rerun `output_notebook()` to attempt to load from CDN again, or</li>\\n\"+\n",
       "       \"<li>use INLINE resources instead, as so:</li>\\n\"+\n",
       "       \"</ul>\\n\"+\n",
       "       \"<code>\\n\"+\n",
       "       \"from bokeh.resources import INLINE\\n\"+\n",
       "       \"output_notebook(resources=INLINE)\\n\"+\n",
       "       \"</code>\\n\"+\n",
       "       \"</div>\"}};\n",
       "  \n",
       "    function display_loaded() {\n",
       "      if (window.Bokeh !== undefined) {\n",
       "        document.getElementById(\"4d1c6074-0970-40f1-af59-6cf0ad97b79f\").textContent = \"BokehJS successfully loaded.\";\n",
       "      } else if (Date.now() < window._bokeh_timeout) {\n",
       "        setTimeout(display_loaded, 100)\n",
       "      }\n",
       "    }\n",
       "  \n",
       "    function run_callbacks() {\n",
       "      window._bokeh_onload_callbacks.forEach(function(callback) { callback() });\n",
       "      delete window._bokeh_onload_callbacks\n",
       "      console.info(\"Bokeh: all callbacks have finished\");\n",
       "    }\n",
       "  \n",
       "    function load_libs(js_urls, callback) {\n",
       "      window._bokeh_onload_callbacks.push(callback);\n",
       "      if (window._bokeh_is_loading > 0) {\n",
       "        console.log(\"Bokeh: BokehJS is being loaded, scheduling callback at\", now());\n",
       "        return null;\n",
       "      }\n",
       "      if (js_urls == null || js_urls.length === 0) {\n",
       "        run_callbacks();\n",
       "        return null;\n",
       "      }\n",
       "      console.log(\"Bokeh: BokehJS not loaded, scheduling load and callback at\", now());\n",
       "      window._bokeh_is_loading = js_urls.length;\n",
       "      for (var i = 0; i < js_urls.length; i++) {\n",
       "        var url = js_urls[i];\n",
       "        var s = document.createElement('script');\n",
       "        s.src = url;\n",
       "        s.async = false;\n",
       "        s.onreadystatechange = s.onload = function() {\n",
       "          window._bokeh_is_loading--;\n",
       "          if (window._bokeh_is_loading === 0) {\n",
       "            console.log(\"Bokeh: all BokehJS libraries loaded\");\n",
       "            run_callbacks()\n",
       "          }\n",
       "        };\n",
       "        s.onerror = function() {\n",
       "          console.warn(\"failed to load library \" + url);\n",
       "        };\n",
       "        console.log(\"Bokeh: injecting script tag for BokehJS library: \", url);\n",
       "        document.getElementsByTagName(\"head\")[0].appendChild(s);\n",
       "      }\n",
       "    };var element = document.getElementById(\"4d1c6074-0970-40f1-af59-6cf0ad97b79f\");\n",
       "    if (element == null) {\n",
       "      console.log(\"Bokeh: ERROR: autoload.js configured with elementid '4d1c6074-0970-40f1-af59-6cf0ad97b79f' but no matching script tag was found. \")\n",
       "      return false;\n",
       "    }\n",
       "  \n",
       "    var js_urls = [];\n",
       "  \n",
       "    var inline_js = [\n",
       "      function(Bokeh) {\n",
       "        (function() {\n",
       "          var fn = function() {\n",
       "            var docs_json = {\"eb3e5063-27bb-430e-8259-1a06cce2f7d6\":{\"roots\":{\"references\":[{\"attributes\":{\"plot\":null,\"text\":null},\"id\":\"19429b93-69ca-46e0-b37a-bcb4890fa5d3\",\"type\":\"Title\"},{\"attributes\":{\"plot\":{\"id\":\"f41caf80-92e9-42f5-a10a-5d55963cb98d\",\"subtype\":\"Chart\",\"type\":\"Plot\"}},\"id\":\"c9b7a19c-0b2a-4c80-8e44-246be03e45e5\",\"type\":\"HelpTool\"},{\"attributes\":{\"dimension\":1,\"plot\":{\"id\":\"f41caf80-92e9-42f5-a10a-5d55963cb98d\",\"subtype\":\"Chart\",\"type\":\"Plot\"},\"ticker\":{\"id\":\"fdbe7080-cb5f-4086-b06f-d790941b5501\",\"type\":\"BasicTicker\"}},\"id\":\"2b10d86a-c22a-48c7-9f5a-f8e257ae0c22\",\"type\":\"Grid\"},{\"attributes\":{\"bottom_units\":\"screen\",\"fill_alpha\":{\"value\":0.5},\"fill_color\":{\"value\":\"lightgrey\"},\"left_units\":\"screen\",\"level\":\"overlay\",\"line_alpha\":{\"value\":1.0},\"line_color\":{\"value\":\"black\"},\"line_dash\":[4,4],\"line_width\":{\"value\":2},\"plot\":null,\"render_mode\":\"css\",\"right_units\":\"screen\",\"top_units\":\"screen\"},\"id\":\"42ab9fce-fc68-4058-a9d4-bfcfb6807112\",\"type\":\"BoxAnnotation\"},{\"attributes\":{\"plot\":{\"id\":\"f41caf80-92e9-42f5-a10a-5d55963cb98d\",\"subtype\":\"Chart\",\"type\":\"Plot\"}},\"id\":\"72d3359b-7445-4792-96ee-d843ecfd97c2\",\"type\":\"PanTool\"},{\"attributes\":{\"label\":{\"value\":\"Dropoff\"},\"renderers\":[{\"id\":\"6adea002-b254-4877-bc6d-ce068502c117\",\"type\":\"GlyphRenderer\"}]},\"id\":\"54ca11a7-a989-46b4-bb69-858aa4c0f6ed\",\"type\":\"LegendItem\"},{\"attributes\":{\"overlay\":{\"id\":\"42ab9fce-fc68-4058-a9d4-bfcfb6807112\",\"type\":\"BoxAnnotation\"},\"plot\":{\"id\":\"f41caf80-92e9-42f5-a10a-5d55963cb98d\",\"subtype\":\"Chart\",\"type\":\"Plot\"}},\"id\":\"6399c788-88f8-48a0-afaf-735144c97417\",\"type\":\"BoxZoomTool\"},{\"attributes\":{\"below\":[{\"id\":\"fdcaa4ee-a4bc-48e3-82f2-86ffc84e38e3\",\"type\":\"LinearAxis\"}],\"css_classes\":null,\"height\":600,\"left\":[{\"id\":\"1f9428d7-7d0f-4e76-8a8f-1281720f5707\",\"type\":\"LinearAxis\"}],\"renderers\":[{\"id\":\"42ab9fce-fc68-4058-a9d4-bfcfb6807112\",\"type\":\"BoxAnnotation\"},{\"id\":\"d866ba8d-b1db-4130-bf3c-8a3004384132\",\"type\":\"GlyphRenderer\"},{\"id\":\"1e8e9c67-6f67-47b6-bad6-f24301f3eb8c\",\"type\":\"GlyphRenderer\"},{\"id\":\"6adea002-b254-4877-bc6d-ce068502c117\",\"type\":\"GlyphRenderer\"},{\"id\":\"dab937f3-25d1-40fe-9944-e9a026f2cc4e\",\"type\":\"Legend\"},{\"id\":\"fdcaa4ee-a4bc-48e3-82f2-86ffc84e38e3\",\"type\":\"LinearAxis\"},{\"id\":\"1f9428d7-7d0f-4e76-8a8f-1281720f5707\",\"type\":\"LinearAxis\"},{\"id\":\"f793f4bf-c929-4e7a-bde7-a7af6b8cdd91\",\"type\":\"Grid\"},{\"id\":\"2b10d86a-c22a-48c7-9f5a-f8e257ae0c22\",\"type\":\"Grid\"},{\"id\":\"d2990a6f-ed3f-4a0f-856d-e169c73df34b\",\"type\":\"GlyphRenderer\"},{\"id\":\"9b7e5266-4e1d-41c1-bfd9-930d42568ae4\",\"type\":\"GlyphRenderer\"},{\"id\":\"1a131996-82fd-4be5-a719-7dfa5f4e9673\",\"type\":\"GlyphRenderer\"},{\"id\":\"206bab1d-d1d3-483d-a1d3-fe63a350e0a8\",\"type\":\"GlyphRenderer\"},{\"id\":\"7a992130-ab7f-4d01-a862-c6b4f24fd6ca\",\"type\":\"GlyphRenderer\"},{\"id\":\"5bdcfd46-2055-4eaf-a604-720419e91f3c\",\"type\":\"GlyphRenderer\"},{\"id\":\"3e61dc73-e122-4fe0-a864-c2b4bb573997\",\"type\":\"GlyphRenderer\"}],\"title\":{\"id\":\"19429b93-69ca-46e0-b37a-bcb4890fa5d3\",\"type\":\"Title\"},\"tool_events\":{\"id\":\"b908ad2b-d630-4f35-8d34-467dfc08eebd\",\"type\":\"ToolEvents\"},\"toolbar\":{\"id\":\"96571551-f3f8-4aba-aa7a-5b1c96a53e8a\",\"type\":\"Toolbar\"},\"width\":600,\"x_mapper_type\":\"auto\",\"x_range\":{\"id\":\"ef6dd440-676c-47f1-9ec7-90200eadb3a3\",\"type\":\"Range1d\"},\"y_mapper_type\":\"auto\",\"y_range\":{\"id\":\"ef6dd440-676c-47f1-9ec7-90200eadb3a3\",\"type\":\"Range1d\"}},\"id\":\"f41caf80-92e9-42f5-a10a-5d55963cb98d\",\"subtype\":\"Chart\",\"type\":\"Plot\"},{\"attributes\":{\"callback\":null,\"end\":115,\"start\":-15},\"id\":\"ef6dd440-676c-47f1-9ec7-90200eadb3a3\",\"type\":\"Range1d\"},{\"attributes\":{\"callback\":null,\"column_names\":[\"x\",\"y\"],\"data\":{\"x\":[33.46701582818697,28.478668311466613,18.328621951745273,70.16545593416383,73.16035110384227],\"y\":[28.066833893681874,1.268993936573981,16.980872695784154,25.593166496215638,57.60804546988187]}},\"id\":\"0c6e2e12-9371-47fb-b336-25aed556c80e\",\"type\":\"ColumnDataSource\"},{\"attributes\":{},\"id\":\"18823c40-ba4d-47a7-97f5-71b5df70f29b\",\"type\":\"BasicTicker\"},{\"attributes\":{\"plot\":{\"id\":\"f41caf80-92e9-42f5-a10a-5d55963cb98d\",\"subtype\":\"Chart\",\"type\":\"Plot\"}},\"id\":\"b381574d-52bc-4c8d-b416-00e3442ec5c3\",\"type\":\"WheelZoomTool\"},{\"attributes\":{\"callback\":null,\"column_names\":[\"x_values\",\"y_values\"],\"data\":{\"chart_index\":[{\"type\":\"Dropoff\"},{\"type\":\"Dropoff\"},{\"type\":\"Dropoff\"},{\"type\":\"Dropoff\"},{\"type\":\"Dropoff\"},{\"type\":\"Dropoff\"},{\"type\":\"Dropoff\"},{\"type\":\"Dropoff\"},{\"type\":\"Dropoff\"},{\"type\":\"Dropoff\"},{\"type\":\"Dropoff\"}],\"type\":[\"Dropoff\",\"Dropoff\",\"Dropoff\",\"Dropoff\",\"Dropoff\",\"Dropoff\",\"Dropoff\",\"Dropoff\",\"Dropoff\",\"Dropoff\",\"Dropoff\"],\"x_values\":{\"__ndarray__\":\"a4p81JaKUUBTuEYxQ0pSQGWQmmQg0EJAuXBKqQi6IUCv6t6V8w44QN9epwN2Xz9A0vWu7KBdMkBrOtqEZclWQJDa8eDTbzFAn9Ye8UFYRkCRRc5JPxNYQA==\",\"dtype\":\"float64\",\"shape\":[11]},\"y_values\":{\"__ndarray__\":\"PlRuwtmXOUDSzxdv1M1MQGaJN8KdsCZAZXR/4ecaWEALqNqBXb9BQObUoxHWM0lAiOzLiUMTVEAuRlkvc7AqQB2FUjG2ZURABjozpnnURUAJTEif4yc9QA==\",\"dtype\":\"float64\",\"shape\":[11]}}},\"id\":\"b3af874b-2f6e-4e08-9b32-fa14381366c4\",\"type\":\"ColumnDataSource\"},{\"attributes\":{\"line_alpha\":{\"value\":0.1},\"line_color\":{\"value\":\"#1f77b4\"},\"line_dash\":[6],\"x\":{\"field\":\"x\"},\"y\":{\"field\":\"y\"}},\"id\":\"c4cf3431-76bf-48a3-a58d-5d16a2e4fdbf\",\"type\":\"Line\"},{\"attributes\":{\"data_source\":{\"id\":\"b36c8055-4170-41b0-947f-f2c78be00bba\",\"type\":\"ColumnDataSource\"},\"glyph\":{\"id\":\"c6f10c85-c909-49fb-a397-927f6e011b2e\",\"type\":\"Line\"},\"hover_glyph\":null,\"nonselection_glyph\":{\"id\":\"054d56a3-decf-4e77-832a-f75661f7898f\",\"type\":\"Line\"},\"selection_glyph\":null},\"id\":\"1a131996-82fd-4be5-a719-7dfa5f4e9673\",\"type\":\"GlyphRenderer\"},{\"attributes\":{\"fill_alpha\":{\"value\":0.7},\"fill_color\":{\"value\":\"#5ab738\"},\"line_color\":{\"value\":\"#5ab738\"},\"size\":{\"units\":\"screen\",\"value\":8},\"x\":{\"field\":\"x_values\"},\"y\":{\"field\":\"y_values\"}},\"id\":\"d656d679-d5b9-4c25-af4f-7239bf86e2e7\",\"type\":\"Square\"},{\"attributes\":{\"plot\":{\"id\":\"f41caf80-92e9-42f5-a10a-5d55963cb98d\",\"subtype\":\"Chart\",\"type\":\"Plot\"}},\"id\":\"87c4b1ac-1c30-414a-a3ba-04970a84b998\",\"type\":\"SaveTool\"},{\"attributes\":{\"line_alpha\":{\"value\":0.1},\"line_color\":{\"value\":\"#1f77b4\"},\"line_dash\":[6],\"x\":{\"field\":\"x\"},\"y\":{\"field\":\"y\"}},\"id\":\"8f842f25-33c0-44c3-964b-99323db31168\",\"type\":\"Line\"},{\"attributes\":{\"callback\":null,\"column_names\":[\"x_values\",\"y_values\"],\"data\":{\"chart_index\":[{\"type\":\"Pedicab\"},{\"type\":\"Pedicab\"},{\"type\":\"Pedicab\"},{\"type\":\"Pedicab\"},{\"type\":\"Pedicab\"},{\"type\":\"Pedicab\"},{\"type\":\"Pedicab\"}],\"type\":[\"Pedicab\",\"Pedicab\",\"Pedicab\",\"Pedicab\",\"Pedicab\",\"Pedicab\",\"Pedicab\"],\"x_values\":{\"__ndarray__\":\"gmO2LMe7QEDXZjE/TMU/QJBiMUK3wzhAaAkG+CjaQUBBcpVxgHZAQMnSEP1WrTFAPC2rXTxNUEA=\",\"dtype\":\"float64\",\"shape\":[7]},\"y_values\":{\"__ndarray__\":\"xKCrBhwRPEDKBjbS4TRLQAEc8Q9OUTtA+z5pIK4jPEDyFWYobeBMQOhOEJEnp0ZAOjz7RkxyTUA=\",\"dtype\":\"float64\",\"shape\":[7]}}},\"id\":\"43479a58-5f03-4629-afe7-2dfb5a64e9f5\",\"type\":\"ColumnDataSource\"},{\"attributes\":{\"items\":[{\"id\":\"55fa0a66-c094-4c5d-9bd3-81ae48c16d11\",\"type\":\"LegendItem\"},{\"id\":\"c7bf1b3e-4867-49c6-87f1-276ff9207011\",\"type\":\"LegendItem\"},{\"id\":\"54ca11a7-a989-46b4-bb69-858aa4c0f6ed\",\"type\":\"LegendItem\"}],\"location\":\"top_left\",\"orientation\":\"horizontal\",\"plot\":{\"id\":\"f41caf80-92e9-42f5-a10a-5d55963cb98d\",\"subtype\":\"Chart\",\"type\":\"Plot\"}},\"id\":\"dab937f3-25d1-40fe-9944-e9a026f2cc4e\",\"type\":\"Legend\"},{\"attributes\":{\"line_alpha\":{\"value\":0.5},\"line_color\":{\"value\":\"grey\"},\"line_dash\":[6],\"x\":{\"field\":\"x\"},\"y\":{\"field\":\"y\"}},\"id\":\"2bc2a9fd-a30d-4b30-8f40-b042e9396355\",\"type\":\"Line\"},{\"attributes\":{\"callback\":null,\"column_names\":[\"x\",\"y\"],\"data\":{\"x\":[35.704375269839886,63.37603748055742,31.37289450489231,30.239453666634862,44.68951238637714],\"y\":[28.139375711150006,19.167411160842207,50.40497036456672,76.56737580421353,43.65996243954946]}},\"id\":\"6987a056-9630-4684-8099-0e2ffa34b736\",\"type\":\"ColumnDataSource\"},{\"attributes\":{\"data_source\":{\"id\":\"43479a58-5f03-4629-afe7-2dfb5a64e9f5\",\"type\":\"ColumnDataSource\"},\"glyph\":{\"id\":\"d656d679-d5b9-4c25-af4f-7239bf86e2e7\",\"type\":\"Square\"},\"hover_glyph\":null,\"nonselection_glyph\":null,\"selection_glyph\":null},\"id\":\"d866ba8d-b1db-4130-bf3c-8a3004384132\",\"type\":\"GlyphRenderer\"},{\"attributes\":{\"callback\":null,\"column_names\":[\"x\",\"y\"],\"data\":{\"x\":[24.764515053803336,54.7944432163778,8.863347330414728],\"y\":[27.3175973857542,7.290334764179541,96.42040288397546]}},\"id\":\"b36c8055-4170-41b0-947f-f2c78be00bba\",\"type\":\"ColumnDataSource\"},{\"attributes\":{\"fill_alpha\":{\"value\":0.7},\"fill_color\":{\"value\":\"#407ee7\"},\"line_color\":{\"value\":\"#407ee7\"},\"size\":{\"units\":\"screen\",\"value\":8},\"x\":{\"field\":\"x_values\"},\"y\":{\"field\":\"y_values\"}},\"id\":\"bed883dc-052a-4eef-a6a7-dc6a6259462a\",\"type\":\"Triangle\"},{\"attributes\":{},\"id\":\"b908ad2b-d630-4f35-8d34-467dfc08eebd\",\"type\":\"ToolEvents\"},{\"attributes\":{\"line_alpha\":{\"value\":0.5},\"line_color\":{\"value\":\"grey\"},\"line_dash\":[6],\"x\":{\"field\":\"x\"},\"y\":{\"field\":\"y\"}},\"id\":\"3f464c02-22cf-4c71-a3f0-aa932f596170\",\"type\":\"Line\"},{\"attributes\":{\"active_drag\":\"auto\",\"active_scroll\":\"auto\",\"active_tap\":\"auto\",\"tools\":[{\"id\":\"72d3359b-7445-4792-96ee-d843ecfd97c2\",\"type\":\"PanTool\"},{\"id\":\"b381574d-52bc-4c8d-b416-00e3442ec5c3\",\"type\":\"WheelZoomTool\"},{\"id\":\"6399c788-88f8-48a0-afaf-735144c97417\",\"type\":\"BoxZoomTool\"},{\"id\":\"87c4b1ac-1c30-414a-a3ba-04970a84b998\",\"type\":\"SaveTool\"},{\"id\":\"0999f006-35e2-4ed8-aaef-4111d9aea563\",\"type\":\"ResetTool\"},{\"id\":\"c9b7a19c-0b2a-4c80-8e44-246be03e45e5\",\"type\":\"HelpTool\"}]},\"id\":\"96571551-f3f8-4aba-aa7a-5b1c96a53e8a\",\"type\":\"Toolbar\"},{\"attributes\":{\"data_source\":{\"id\":\"e5afcc13-57d7-4860-904d-4aa220c04db9\",\"type\":\"ColumnDataSource\"},\"glyph\":{\"id\":\"bed883dc-052a-4eef-a6a7-dc6a6259462a\",\"type\":\"Triangle\"},\"hover_glyph\":null,\"nonselection_glyph\":null,\"selection_glyph\":null},\"id\":\"1e8e9c67-6f67-47b6-bad6-f24301f3eb8c\",\"type\":\"GlyphRenderer\"},{\"attributes\":{\"data_source\":{\"id\":\"6987a056-9630-4684-8099-0e2ffa34b736\",\"type\":\"ColumnDataSource\"},\"glyph\":{\"id\":\"2bc2a9fd-a30d-4b30-8f40-b042e9396355\",\"type\":\"Line\"},\"hover_glyph\":null,\"nonselection_glyph\":{\"id\":\"a16d7659-4531-44f9-bd77-86aac9a1bfb7\",\"type\":\"Line\"},\"selection_glyph\":null},\"id\":\"206bab1d-d1d3-483d-a1d3-fe63a350e0a8\",\"type\":\"GlyphRenderer\"},{\"attributes\":{\"data_source\":{\"id\":\"fd343975-b978-4d18-9a1e-4e3e5e65a3b9\",\"type\":\"ColumnDataSource\"},\"glyph\":{\"id\":\"3f464c02-22cf-4c71-a3f0-aa932f596170\",\"type\":\"Line\"},\"hover_glyph\":null,\"nonselection_glyph\":{\"id\":\"c4cf3431-76bf-48a3-a58d-5d16a2e4fdbf\",\"type\":\"Line\"},\"selection_glyph\":null},\"id\":\"9b7e5266-4e1d-41c1-bfd9-930d42568ae4\",\"type\":\"GlyphRenderer\"},{\"attributes\":{\"axis_label\":\"y\",\"formatter\":{\"id\":\"877dd651-ba07-4f76-9ac5-be4170e6a8a6\",\"type\":\"BasicTickFormatter\"},\"plot\":{\"id\":\"f41caf80-92e9-42f5-a10a-5d55963cb98d\",\"subtype\":\"Chart\",\"type\":\"Plot\"},\"ticker\":{\"id\":\"fdbe7080-cb5f-4086-b06f-d790941b5501\",\"type\":\"BasicTicker\"}},\"id\":\"1f9428d7-7d0f-4e76-8a8f-1281720f5707\",\"type\":\"LinearAxis\"},{\"attributes\":{\"line_alpha\":{\"value\":0.1},\"line_color\":{\"value\":\"#1f77b4\"},\"line_dash\":[6],\"x\":{\"field\":\"x\"},\"y\":{\"field\":\"y\"}},\"id\":\"054d56a3-decf-4e77-832a-f75661f7898f\",\"type\":\"Line\"},{\"attributes\":{\"line_alpha\":{\"value\":0.5},\"line_color\":{\"value\":\"grey\"},\"line_dash\":[6],\"x\":{\"field\":\"x\"},\"y\":{\"field\":\"y\"}},\"id\":\"c6f10c85-c909-49fb-a397-927f6e011b2e\",\"type\":\"Line\"},{\"attributes\":{\"data_source\":{\"id\":\"8c23b818-6fd4-41cc-8a93-274332454d0f\",\"type\":\"ColumnDataSource\"},\"glyph\":{\"id\":\"24a7da47-7293-4440-800a-e7adf6349491\",\"type\":\"Line\"},\"hover_glyph\":null,\"nonselection_glyph\":{\"id\":\"8f842f25-33c0-44c3-964b-99323db31168\",\"type\":\"Line\"},\"selection_glyph\":null},\"id\":\"7a992130-ab7f-4d01-a862-c6b4f24fd6ca\",\"type\":\"GlyphRenderer\"},{\"attributes\":{\"callback\":null,\"column_names\":[\"x\",\"y\"],\"data\":{\"x\":[17.6771085897515,0.298576728589961,18.36573676368227,12.09291096842927,24.058404318736105],\"y\":[45.30589497848797,51.80357568123074,80.30099720873307,63.00739058197195,35.495041114583806]}},\"id\":\"333e216c-0296-47ad-8b52-223d2a40426c\",\"type\":\"ColumnDataSource\"},{\"attributes\":{\"plot\":{\"id\":\"f41caf80-92e9-42f5-a10a-5d55963cb98d\",\"subtype\":\"Chart\",\"type\":\"Plot\"}},\"id\":\"0999f006-35e2-4ed8-aaef-4111d9aea563\",\"type\":\"ResetTool\"},{\"attributes\":{\"line_alpha\":{\"value\":0.5},\"line_color\":{\"value\":\"grey\"},\"line_dash\":[6],\"x\":{\"field\":\"x\"},\"y\":{\"field\":\"y\"}},\"id\":\"c169187e-c4fc-4f9f-8520-c1fc716ba04d\",\"type\":\"Line\"},{\"attributes\":{\"data_source\":{\"id\":\"b3af874b-2f6e-4e08-9b32-fa14381366c4\",\"type\":\"ColumnDataSource\"},\"glyph\":{\"id\":\"eecf2045-9232-4b3a-90b8-d80047fe5cf2\",\"type\":\"Circle\"},\"hover_glyph\":null,\"nonselection_glyph\":null,\"selection_glyph\":null},\"id\":\"6adea002-b254-4877-bc6d-ce068502c117\",\"type\":\"GlyphRenderer\"},{\"attributes\":{\"line_alpha\":{\"value\":0.1},\"line_color\":{\"value\":\"#1f77b4\"},\"line_dash\":[6],\"x\":{\"field\":\"x\"},\"y\":{\"field\":\"y\"}},\"id\":\"cf6c739c-223c-474f-8c19-1f34744c7423\",\"type\":\"Line\"},{\"attributes\":{\"data_source\":{\"id\":\"0c6e2e12-9371-47fb-b336-25aed556c80e\",\"type\":\"ColumnDataSource\"},\"glyph\":{\"id\":\"c169187e-c4fc-4f9f-8520-c1fc716ba04d\",\"type\":\"Line\"},\"hover_glyph\":null,\"nonselection_glyph\":{\"id\":\"cf6c739c-223c-474f-8c19-1f34744c7423\",\"type\":\"Line\"},\"selection_glyph\":null},\"id\":\"d2990a6f-ed3f-4a0f-856d-e169c73df34b\",\"type\":\"GlyphRenderer\"},{\"attributes\":{},\"id\":\"93ed0aed-9e80-4f33-b2a1-8c259e1a1035\",\"type\":\"BasicTickFormatter\"},{\"attributes\":{},\"id\":\"877dd651-ba07-4f76-9ac5-be4170e6a8a6\",\"type\":\"BasicTickFormatter\"},{\"attributes\":{\"line_alpha\":{\"value\":0.1},\"line_color\":{\"value\":\"#1f77b4\"},\"line_dash\":[6],\"x\":{\"field\":\"x\"},\"y\":{\"field\":\"y\"}},\"id\":\"a16d7659-4531-44f9-bd77-86aac9a1bfb7\",\"type\":\"Line\"},{\"attributes\":{\"axis_label\":\"x\",\"formatter\":{\"id\":\"93ed0aed-9e80-4f33-b2a1-8c259e1a1035\",\"type\":\"BasicTickFormatter\"},\"plot\":{\"id\":\"f41caf80-92e9-42f5-a10a-5d55963cb98d\",\"subtype\":\"Chart\",\"type\":\"Plot\"},\"ticker\":{\"id\":\"18823c40-ba4d-47a7-97f5-71b5df70f29b\",\"type\":\"BasicTicker\"}},\"id\":\"fdcaa4ee-a4bc-48e3-82f2-86ffc84e38e3\",\"type\":\"LinearAxis\"},{\"attributes\":{\"fill_alpha\":{\"value\":0.7},\"fill_color\":{\"value\":\"#f22c40\"},\"line_color\":{\"value\":\"#f22c40\"},\"size\":{\"units\":\"screen\",\"value\":8},\"x\":{\"field\":\"x_values\"},\"y\":{\"field\":\"y_values\"}},\"id\":\"eecf2045-9232-4b3a-90b8-d80047fe5cf2\",\"type\":\"Circle\"},{\"attributes\":{\"callback\":null,\"column_names\":[\"x_values\",\"y_values\"],\"data\":{\"chart_index\":[{\"type\":\"Pickup\"},{\"type\":\"Pickup\"},{\"type\":\"Pickup\"},{\"type\":\"Pickup\"},{\"type\":\"Pickup\"},{\"type\":\"Pickup\"},{\"type\":\"Pickup\"},{\"type\":\"Pickup\"},{\"type\":\"Pickup\"},{\"type\":\"Pickup\"},{\"type\":\"Pickup\"}],\"type\":[\"Pickup\",\"Pickup\",\"Pickup\",\"Pickup\",\"Pickup\",\"Pickup\",\"Pickup\",\"Pickup\",\"Pickup\",\"Pickup\",\"Pickup\"],\"x_values\":{\"__ndarray__\":\"X353kSBUMkByYacBino8QFYr9LcYEldAlG+4ULBlS0DTr8UGki8oQD2IBP8hsE9AyP4okeEb0z9hXLcN2WhBQDNG5yv0aVhAoRrj1Uw9PkDW9RQKubBDQA==\",\"dtype\":\"float64\",\"shape\":[11]},\"y_values\":{\"__ndarray__\":\"q+4VeRr7MEBQhQaWzE30P5ccDmjn9FRACCw0hE0pHUAY77Es8oBPQHzNNHXbKjNAnF9jkdvmSUCRxorMnJpUQIPwGit5RFRA4uia4k8kU0B9x7XTFSdRQA==\",\"dtype\":\"float64\",\"shape\":[11]}}},\"id\":\"e5afcc13-57d7-4860-904d-4aa220c04db9\",\"type\":\"ColumnDataSource\"},{\"attributes\":{\"plot\":{\"id\":\"f41caf80-92e9-42f5-a10a-5d55963cb98d\",\"subtype\":\"Chart\",\"type\":\"Plot\"},\"ticker\":{\"id\":\"18823c40-ba4d-47a7-97f5-71b5df70f29b\",\"type\":\"BasicTicker\"}},\"id\":\"f793f4bf-c929-4e7a-bde7-a7af6b8cdd91\",\"type\":\"Grid\"},{\"attributes\":{\"label\":{\"value\":\"Pickup\"},\"renderers\":[{\"id\":\"1e8e9c67-6f67-47b6-bad6-f24301f3eb8c\",\"type\":\"GlyphRenderer\"}]},\"id\":\"c7bf1b3e-4867-49c6-87f1-276ff9207011\",\"type\":\"LegendItem\"},{\"attributes\":{\"line_alpha\":{\"value\":0.5},\"line_color\":{\"value\":\"grey\"},\"line_dash\":[6],\"x\":{\"field\":\"x\"},\"y\":{\"field\":\"y\"}},\"id\":\"3142e003-f053-438e-bc3b-cbf76b9b0a29\",\"type\":\"Line\"},{\"attributes\":{\"callback\":null,\"column_names\":[\"x\",\"y\"],\"data\":{\"x\":[31.770694684563605,39.38064695380642,34.81912394955794,96.30073781150556,91.14682122527454],\"y\":[54.41314151418699,68.61070721389656,82.41582025101003,29.155816989088667,13.344628791473124]}},\"id\":\"fd343975-b978-4d18-9a1e-4e3e5e65a3b9\",\"type\":\"ColumnDataSource\"},{\"attributes\":{\"line_alpha\":{\"value\":0.1},\"line_color\":{\"value\":\"#1f77b4\"},\"line_dash\":[6],\"x\":{\"field\":\"x\"},\"y\":{\"field\":\"y\"}},\"id\":\"69406984-07ff-43cd-bf74-eae50dbc0282\",\"type\":\"Line\"},{\"attributes\":{\"data_source\":{\"id\":\"333e216c-0296-47ad-8b52-223d2a40426c\",\"type\":\"ColumnDataSource\"},\"glyph\":{\"id\":\"3142e003-f053-438e-bc3b-cbf76b9b0a29\",\"type\":\"Line\"},\"hover_glyph\":null,\"nonselection_glyph\":{\"id\":\"69406984-07ff-43cd-bf74-eae50dbc0282\",\"type\":\"Line\"},\"selection_glyph\":null},\"id\":\"5bdcfd46-2055-4eaf-a604-720419e91f3c\",\"type\":\"GlyphRenderer\"},{\"attributes\":{},\"id\":\"fdbe7080-cb5f-4086-b06f-d790941b5501\",\"type\":\"BasicTicker\"},{\"attributes\":{\"callback\":null,\"column_names\":[\"x\",\"y\"],\"data\":{\"x\":[65.20680944172358,97.6555280455148,17.436826762243584],\"y\":[58.8929527975783,81.06989553099451,40.794622578900295]}},\"id\":\"6ea61f4f-6b45-406b-b86a-ca9fd48785e5\",\"type\":\"ColumnDataSource\"},{\"attributes\":{\"line_alpha\":{\"value\":0.5},\"line_color\":{\"value\":\"grey\"},\"line_dash\":[6],\"x\":{\"field\":\"x\"},\"y\":{\"field\":\"y\"}},\"id\":\"f96d6ab3-66c6-4f90-8c01-abf7bf44e734\",\"type\":\"Line\"},{\"attributes\":{\"line_alpha\":{\"value\":0.1},\"line_color\":{\"value\":\"#1f77b4\"},\"line_dash\":[6],\"x\":{\"field\":\"x\"},\"y\":{\"field\":\"y\"}},\"id\":\"f19bdfde-2043-4356-8d71-6bab31e9f42c\",\"type\":\"Line\"},{\"attributes\":{\"data_source\":{\"id\":\"6ea61f4f-6b45-406b-b86a-ca9fd48785e5\",\"type\":\"ColumnDataSource\"},\"glyph\":{\"id\":\"f96d6ab3-66c6-4f90-8c01-abf7bf44e734\",\"type\":\"Line\"},\"hover_glyph\":null,\"nonselection_glyph\":{\"id\":\"f19bdfde-2043-4356-8d71-6bab31e9f42c\",\"type\":\"Line\"},\"selection_glyph\":null},\"id\":\"3e61dc73-e122-4fe0-a864-c2b4bb573997\",\"type\":\"GlyphRenderer\"},{\"attributes\":{\"callback\":null,\"column_names\":[\"x\",\"y\"],\"data\":{\"x\":[32.92579479024108,92.28275870175034,37.625988555403445],\"y\":[57.75333123192458,83.8266239297685,11.344953603057274]}},\"id\":\"8c23b818-6fd4-41cc-8a93-274332454d0f\",\"type\":\"ColumnDataSource\"},{\"attributes\":{\"line_alpha\":{\"value\":0.5},\"line_color\":{\"value\":\"grey\"},\"line_dash\":[6],\"x\":{\"field\":\"x\"},\"y\":{\"field\":\"y\"}},\"id\":\"24a7da47-7293-4440-800a-e7adf6349491\",\"type\":\"Line\"},{\"attributes\":{\"label\":{\"value\":\"Pedicab\"},\"renderers\":[{\"id\":\"d866ba8d-b1db-4130-bf3c-8a3004384132\",\"type\":\"GlyphRenderer\"}]},\"id\":\"55fa0a66-c094-4c5d-9bd3-81ae48c16d11\",\"type\":\"LegendItem\"}],\"root_ids\":[\"f41caf80-92e9-42f5-a10a-5d55963cb98d\"]},\"title\":\"Bokeh Application\",\"version\":\"0.12.4\"}};\n",
       "            var render_items = [{\"docid\":\"eb3e5063-27bb-430e-8259-1a06cce2f7d6\",\"elementid\":\"4d1c6074-0970-40f1-af59-6cf0ad97b79f\",\"modelid\":\"f41caf80-92e9-42f5-a10a-5d55963cb98d\"}];\n",
       "            \n",
       "            Bokeh.embed.embed_items(docs_json, render_items);\n",
       "          };\n",
       "          if (document.readyState != \"loading\") fn();\n",
       "          else document.addEventListener(\"DOMContentLoaded\", fn);\n",
       "        })();\n",
       "      },\n",
       "      function(Bokeh) {\n",
       "      }\n",
       "    ];\n",
       "  \n",
       "    function run_inline_js() {\n",
       "      \n",
       "      if ((window.Bokeh !== undefined) || (force === true)) {\n",
       "        for (var i = 0; i < inline_js.length; i++) {\n",
       "          inline_js[i](window.Bokeh);\n",
       "        }if (force === true) {\n",
       "          display_loaded();\n",
       "        }} else if (Date.now() < window._bokeh_timeout) {\n",
       "        setTimeout(run_inline_js, 100);\n",
       "      } else if (!window._bokeh_failed_load) {\n",
       "        console.log(\"Bokeh: BokehJS failed to load within specified timeout.\");\n",
       "        window._bokeh_failed_load = true;\n",
       "      } else if (force !== true) {\n",
       "        var cell = $(document.getElementById(\"4d1c6074-0970-40f1-af59-6cf0ad97b79f\")).parents('.cell').data().cell;\n",
       "        cell.output_area.append_execute_result(NB_LOAD_WARNING)\n",
       "      }\n",
       "  \n",
       "    }\n",
       "  \n",
       "    if (window._bokeh_is_loading === 0) {\n",
       "      console.log(\"Bokeh: BokehJS loaded, going straight to plotting\");\n",
       "      run_inline_js();\n",
       "    } else {\n",
       "      load_libs(js_urls, function() {\n",
       "        console.log(\"Bokeh: BokehJS plotting callback run at\", now());\n",
       "        run_inline_js();\n",
       "      });\n",
       "    }\n",
       "  }(this));\n",
       "</script>"
      ]
     },
     "metadata": {},
     "output_type": "display_data"
    }
   ],
   "source": [
    "plot_routes()"
   ]
  },
  {
   "cell_type": "markdown",
   "metadata": {
    "deletable": true,
    "editable": true,
    "slideshow": {
     "slide_type": "subslide"
    }
   },
   "source": [
    "That can hurt our global solution a lot. What if we are willing to accept a 10% cut to the global solution for more balance among individual routes?"
   ]
  },
  {
   "cell_type": "code",
   "execution_count": 56,
   "metadata": {
    "collapsed": false,
    "deletable": true,
    "editable": true
   },
   "outputs": [
    {
     "name": "stdout",
     "output_type": "stream",
     "text": [
      "total cost: 710.47738\n",
      "max route length: 167.38201\n"
     ]
    }
   ],
   "source": [
    "# Only willing to accept 10% degradation in global optimality\n",
    "prm += z <= best_total_cost * 1.1\n",
    "assert prm.solve() == pulp.LpStatusOptimal\n",
    "\n",
    "print('total cost:', z.value())\n",
    "print('max route length:', z2.value())"
   ]
  },
  {
   "cell_type": "code",
   "execution_count": 57,
   "metadata": {
    "collapsed": false,
    "deletable": true,
    "editable": true,
    "slideshow": {
     "slide_type": "subslide"
    }
   },
   "outputs": [
    {
     "data": {
      "text/html": [
       "\n",
       "\n",
       "    <div class=\"bk-root\">\n",
       "        <div class=\"bk-plotdiv\" id=\"14664351-4b25-4549-b436-0a13fdbeeed5\"></div>\n",
       "    </div>\n",
       "<script type=\"text/javascript\">\n",
       "  \n",
       "  (function(global) {\n",
       "    function now() {\n",
       "      return new Date();\n",
       "    }\n",
       "  \n",
       "    var force = false;\n",
       "  \n",
       "    if (typeof (window._bokeh_onload_callbacks) === \"undefined\" || force === true) {\n",
       "      window._bokeh_onload_callbacks = [];\n",
       "      window._bokeh_is_loading = undefined;\n",
       "    }\n",
       "  \n",
       "  \n",
       "    \n",
       "    if (typeof (window._bokeh_timeout) === \"undefined\" || force === true) {\n",
       "      window._bokeh_timeout = Date.now() + 0;\n",
       "      window._bokeh_failed_load = false;\n",
       "    }\n",
       "  \n",
       "    var NB_LOAD_WARNING = {'data': {'text/html':\n",
       "       \"<div style='background-color: #fdd'>\\n\"+\n",
       "       \"<p>\\n\"+\n",
       "       \"BokehJS does not appear to have successfully loaded. If loading BokehJS from CDN, this \\n\"+\n",
       "       \"may be due to a slow or bad network connection. Possible fixes:\\n\"+\n",
       "       \"</p>\\n\"+\n",
       "       \"<ul>\\n\"+\n",
       "       \"<li>re-rerun `output_notebook()` to attempt to load from CDN again, or</li>\\n\"+\n",
       "       \"<li>use INLINE resources instead, as so:</li>\\n\"+\n",
       "       \"</ul>\\n\"+\n",
       "       \"<code>\\n\"+\n",
       "       \"from bokeh.resources import INLINE\\n\"+\n",
       "       \"output_notebook(resources=INLINE)\\n\"+\n",
       "       \"</code>\\n\"+\n",
       "       \"</div>\"}};\n",
       "  \n",
       "    function display_loaded() {\n",
       "      if (window.Bokeh !== undefined) {\n",
       "        document.getElementById(\"14664351-4b25-4549-b436-0a13fdbeeed5\").textContent = \"BokehJS successfully loaded.\";\n",
       "      } else if (Date.now() < window._bokeh_timeout) {\n",
       "        setTimeout(display_loaded, 100)\n",
       "      }\n",
       "    }\n",
       "  \n",
       "    function run_callbacks() {\n",
       "      window._bokeh_onload_callbacks.forEach(function(callback) { callback() });\n",
       "      delete window._bokeh_onload_callbacks\n",
       "      console.info(\"Bokeh: all callbacks have finished\");\n",
       "    }\n",
       "  \n",
       "    function load_libs(js_urls, callback) {\n",
       "      window._bokeh_onload_callbacks.push(callback);\n",
       "      if (window._bokeh_is_loading > 0) {\n",
       "        console.log(\"Bokeh: BokehJS is being loaded, scheduling callback at\", now());\n",
       "        return null;\n",
       "      }\n",
       "      if (js_urls == null || js_urls.length === 0) {\n",
       "        run_callbacks();\n",
       "        return null;\n",
       "      }\n",
       "      console.log(\"Bokeh: BokehJS not loaded, scheduling load and callback at\", now());\n",
       "      window._bokeh_is_loading = js_urls.length;\n",
       "      for (var i = 0; i < js_urls.length; i++) {\n",
       "        var url = js_urls[i];\n",
       "        var s = document.createElement('script');\n",
       "        s.src = url;\n",
       "        s.async = false;\n",
       "        s.onreadystatechange = s.onload = function() {\n",
       "          window._bokeh_is_loading--;\n",
       "          if (window._bokeh_is_loading === 0) {\n",
       "            console.log(\"Bokeh: all BokehJS libraries loaded\");\n",
       "            run_callbacks()\n",
       "          }\n",
       "        };\n",
       "        s.onerror = function() {\n",
       "          console.warn(\"failed to load library \" + url);\n",
       "        };\n",
       "        console.log(\"Bokeh: injecting script tag for BokehJS library: \", url);\n",
       "        document.getElementsByTagName(\"head\")[0].appendChild(s);\n",
       "      }\n",
       "    };var element = document.getElementById(\"14664351-4b25-4549-b436-0a13fdbeeed5\");\n",
       "    if (element == null) {\n",
       "      console.log(\"Bokeh: ERROR: autoload.js configured with elementid '14664351-4b25-4549-b436-0a13fdbeeed5' but no matching script tag was found. \")\n",
       "      return false;\n",
       "    }\n",
       "  \n",
       "    var js_urls = [];\n",
       "  \n",
       "    var inline_js = [\n",
       "      function(Bokeh) {\n",
       "        (function() {\n",
       "          var fn = function() {\n",
       "            var docs_json = {\"632bf613-282f-4512-9b03-b4e825f47a29\":{\"roots\":{\"references\":[{\"attributes\":{},\"id\":\"ec25ef23-0dd2-4ba4-9481-c8353629ec13\",\"type\":\"BasicTickFormatter\"},{\"attributes\":{\"fill_alpha\":{\"value\":0.7},\"fill_color\":{\"value\":\"#407ee7\"},\"line_color\":{\"value\":\"#407ee7\"},\"size\":{\"units\":\"screen\",\"value\":8},\"x\":{\"field\":\"x_values\"},\"y\":{\"field\":\"y_values\"}},\"id\":\"42c29f3a-d5d7-4118-8df2-ad2fa7da3e70\",\"type\":\"Triangle\"},{\"attributes\":{\"line_alpha\":{\"value\":0.1},\"line_color\":{\"value\":\"#1f77b4\"},\"line_dash\":[6],\"x\":{\"field\":\"x\"},\"y\":{\"field\":\"y\"}},\"id\":\"54de88a2-e14f-4dd0-9c9a-56a96ade047d\",\"type\":\"Line\"},{\"attributes\":{\"data_source\":{\"id\":\"527b3753-dc4b-427d-b04d-74cbb0160ae5\",\"type\":\"ColumnDataSource\"},\"glyph\":{\"id\":\"8ebe6f71-c7d2-413b-8914-043f2f8eb790\",\"type\":\"Square\"},\"hover_glyph\":null,\"nonselection_glyph\":null,\"selection_glyph\":null},\"id\":\"fd59863b-221a-4e71-9528-0478749b2909\",\"type\":\"GlyphRenderer\"},{\"attributes\":{\"data_source\":{\"id\":\"0f6beaef-b7fd-4cd3-8305-d021b3c75632\",\"type\":\"ColumnDataSource\"},\"glyph\":{\"id\":\"42c29f3a-d5d7-4118-8df2-ad2fa7da3e70\",\"type\":\"Triangle\"},\"hover_glyph\":null,\"nonselection_glyph\":null,\"selection_glyph\":null},\"id\":\"695526b4-d904-4b27-8a0d-fb5051cec456\",\"type\":\"GlyphRenderer\"},{\"attributes\":{\"line_alpha\":{\"value\":0.5},\"line_color\":{\"value\":\"grey\"},\"line_dash\":[6],\"x\":{\"field\":\"x\"},\"y\":{\"field\":\"y\"}},\"id\":\"3a73c8c4-0b67-4748-9c50-d0153502b87d\",\"type\":\"Line\"},{\"attributes\":{\"line_alpha\":{\"value\":0.5},\"line_color\":{\"value\":\"grey\"},\"line_dash\":[6],\"x\":{\"field\":\"x\"},\"y\":{\"field\":\"y\"}},\"id\":\"cdac8c03-6d46-4e97-81d8-28b8d9e78bcb\",\"type\":\"Line\"},{\"attributes\":{\"data_source\":{\"id\":\"a3241897-c6fc-40d5-822c-32728fc92b72\",\"type\":\"ColumnDataSource\"},\"glyph\":{\"id\":\"3a73c8c4-0b67-4748-9c50-d0153502b87d\",\"type\":\"Line\"},\"hover_glyph\":null,\"nonselection_glyph\":{\"id\":\"4a691d10-78d9-474e-bd4f-3c76188d0ea5\",\"type\":\"Line\"},\"selection_glyph\":null},\"id\":\"c0a5d906-dff5-4a7e-871c-915bccb869ba\",\"type\":\"GlyphRenderer\"},{\"attributes\":{\"fill_alpha\":{\"value\":0.7},\"fill_color\":{\"value\":\"#5ab738\"},\"line_color\":{\"value\":\"#5ab738\"},\"size\":{\"units\":\"screen\",\"value\":8},\"x\":{\"field\":\"x_values\"},\"y\":{\"field\":\"y_values\"}},\"id\":\"8ebe6f71-c7d2-413b-8914-043f2f8eb790\",\"type\":\"Square\"},{\"attributes\":{\"line_alpha\":{\"value\":0.1},\"line_color\":{\"value\":\"#1f77b4\"},\"line_dash\":[6],\"x\":{\"field\":\"x\"},\"y\":{\"field\":\"y\"}},\"id\":\"d2bb7ac3-da22-468b-943f-99fe4ea80d08\",\"type\":\"Line\"},{\"attributes\":{\"callback\":null,\"column_names\":[\"x\",\"y\"],\"data\":{\"x\":[17.6771085897515,0.298576728589961,18.36573676368227],\"y\":[45.30589497848797,51.80357568123074,80.30099720873307]}},\"id\":\"7f859865-e70e-44b9-9ca9-07529a990214\",\"type\":\"ColumnDataSource\"},{\"attributes\":{\"data_source\":{\"id\":\"8b137c98-c5be-4ba6-a459-7e5511a38c71\",\"type\":\"ColumnDataSource\"},\"glyph\":{\"id\":\"cdac8c03-6d46-4e97-81d8-28b8d9e78bcb\",\"type\":\"Line\"},\"hover_glyph\":null,\"nonselection_glyph\":{\"id\":\"54de88a2-e14f-4dd0-9c9a-56a96ade047d\",\"type\":\"Line\"},\"selection_glyph\":null},\"id\":\"ec531acb-a1e0-433f-9bb1-2e8cfa4e7700\",\"type\":\"GlyphRenderer\"},{\"attributes\":{\"plot\":null,\"text\":null},\"id\":\"daee4f72-4eb9-42b0-b2dc-8812d114424f\",\"type\":\"Title\"},{\"attributes\":{\"callback\":null,\"column_names\":[\"x\",\"y\"],\"data\":{\"x\":[35.704375269839886,54.7944432163778,63.37603748055742,31.37289450489231,8.863347330414728],\"y\":[28.139375711150006,7.290334764179541,19.167411160842207,50.40497036456672,96.42040288397546]}},\"id\":\"71701d84-a8e2-4235-b7ba-1ba3117a5172\",\"type\":\"ColumnDataSource\"},{\"attributes\":{},\"id\":\"a9a921ea-4a2f-4ab2-b27f-93a9dd98330e\",\"type\":\"ToolEvents\"},{\"attributes\":{},\"id\":\"e1d98905-8bbe-402d-a9cc-555f50a792d3\",\"type\":\"BasicTicker\"},{\"attributes\":{\"line_alpha\":{\"value\":0.5},\"line_color\":{\"value\":\"grey\"},\"line_dash\":[6],\"x\":{\"field\":\"x\"},\"y\":{\"field\":\"y\"}},\"id\":\"292d6e0f-d0e7-4f2f-9e95-c8aa9c1a04e1\",\"type\":\"Line\"},{\"attributes\":{\"label\":{\"value\":\"Dropoff\"},\"renderers\":[{\"id\":\"bd33b5b4-4c71-4076-9188-611465b75ec3\",\"type\":\"GlyphRenderer\"}]},\"id\":\"02a13c48-1d62-49a0-bbad-34b856674e85\",\"type\":\"LegendItem\"},{\"attributes\":{\"line_alpha\":{\"value\":0.1},\"line_color\":{\"value\":\"#1f77b4\"},\"line_dash\":[6],\"x\":{\"field\":\"x\"},\"y\":{\"field\":\"y\"}},\"id\":\"f52b8199-d2ae-47d0-9216-1e3b1ab63b25\",\"type\":\"Line\"},{\"attributes\":{\"data_source\":{\"id\":\"71701d84-a8e2-4235-b7ba-1ba3117a5172\",\"type\":\"ColumnDataSource\"},\"glyph\":{\"id\":\"292d6e0f-d0e7-4f2f-9e95-c8aa9c1a04e1\",\"type\":\"Line\"},\"hover_glyph\":null,\"nonselection_glyph\":{\"id\":\"f52b8199-d2ae-47d0-9216-1e3b1ab63b25\",\"type\":\"Line\"},\"selection_glyph\":null},\"id\":\"ebc8414a-5b4c-4edb-abf5-e430397027e3\",\"type\":\"GlyphRenderer\"},{\"attributes\":{\"callback\":null,\"column_names\":[\"x\",\"y\"],\"data\":{\"x\":[32.92579479024108,34.81912394955794,39.38064695380642,96.30073781150556,91.14682122527454],\"y\":[57.75333123192458,82.41582025101003,68.61070721389656,29.155816989088667,13.344628791473124]}},\"id\":\"a3241897-c6fc-40d5-822c-32728fc92b72\",\"type\":\"ColumnDataSource\"},{\"attributes\":{\"line_alpha\":{\"value\":0.5},\"line_color\":{\"value\":\"grey\"},\"line_dash\":[6],\"x\":{\"field\":\"x\"},\"y\":{\"field\":\"y\"}},\"id\":\"2deaae67-ae9a-4742-9e93-06418d7f6a8d\",\"type\":\"Line\"},{\"attributes\":{\"below\":[{\"id\":\"02491729-c06f-4826-9b38-1abbe45d9b49\",\"type\":\"LinearAxis\"}],\"css_classes\":null,\"height\":600,\"left\":[{\"id\":\"107a6133-ea0e-4384-bc35-dab3a6691ce1\",\"type\":\"LinearAxis\"}],\"renderers\":[{\"id\":\"969508e5-fdb3-41b0-bec5-142bdbb8f2dd\",\"type\":\"BoxAnnotation\"},{\"id\":\"fd59863b-221a-4e71-9528-0478749b2909\",\"type\":\"GlyphRenderer\"},{\"id\":\"695526b4-d904-4b27-8a0d-fb5051cec456\",\"type\":\"GlyphRenderer\"},{\"id\":\"bd33b5b4-4c71-4076-9188-611465b75ec3\",\"type\":\"GlyphRenderer\"},{\"id\":\"32d1b5a0-5afd-4a00-afb6-4ac2214a6c12\",\"type\":\"Legend\"},{\"id\":\"02491729-c06f-4826-9b38-1abbe45d9b49\",\"type\":\"LinearAxis\"},{\"id\":\"107a6133-ea0e-4384-bc35-dab3a6691ce1\",\"type\":\"LinearAxis\"},{\"id\":\"b8dc7cf1-68c8-4b29-b02c-0fc5f4b7354f\",\"type\":\"Grid\"},{\"id\":\"7823c831-3702-4f7e-998b-49bceb6db397\",\"type\":\"Grid\"},{\"id\":\"32364b52-a243-4aa0-921e-6a59c3941a6a\",\"type\":\"GlyphRenderer\"},{\"id\":\"ec531acb-a1e0-433f-9bb1-2e8cfa4e7700\",\"type\":\"GlyphRenderer\"},{\"id\":\"ebc8414a-5b4c-4edb-abf5-e430397027e3\",\"type\":\"GlyphRenderer\"},{\"id\":\"c0a5d906-dff5-4a7e-871c-915bccb869ba\",\"type\":\"GlyphRenderer\"},{\"id\":\"e0578794-1d53-435d-8d8c-302b64dd7e9d\",\"type\":\"GlyphRenderer\"},{\"id\":\"0f51e865-b9f5-432c-90e4-03ade2463f92\",\"type\":\"GlyphRenderer\"}],\"title\":{\"id\":\"daee4f72-4eb9-42b0-b2dc-8812d114424f\",\"type\":\"Title\"},\"tool_events\":{\"id\":\"a9a921ea-4a2f-4ab2-b27f-93a9dd98330e\",\"type\":\"ToolEvents\"},\"toolbar\":{\"id\":\"8e5db5a3-1334-449a-88e3-d76120099d4f\",\"type\":\"Toolbar\"},\"width\":600,\"x_mapper_type\":\"auto\",\"x_range\":{\"id\":\"b09f9f85-3ef6-490b-8b10-daf481985157\",\"type\":\"Range1d\"},\"y_mapper_type\":\"auto\",\"y_range\":{\"id\":\"b09f9f85-3ef6-490b-8b10-daf481985157\",\"type\":\"Range1d\"}},\"id\":\"7ff943ca-15c1-4481-ad9b-f19bf3ca6561\",\"subtype\":\"Chart\",\"type\":\"Plot\"},{\"attributes\":{\"callback\":null,\"column_names\":[\"x_values\",\"y_values\"],\"data\":{\"chart_index\":[{\"type\":\"Pickup\"},{\"type\":\"Pickup\"},{\"type\":\"Pickup\"},{\"type\":\"Pickup\"},{\"type\":\"Pickup\"},{\"type\":\"Pickup\"},{\"type\":\"Pickup\"},{\"type\":\"Pickup\"},{\"type\":\"Pickup\"},{\"type\":\"Pickup\"},{\"type\":\"Pickup\"}],\"type\":[\"Pickup\",\"Pickup\",\"Pickup\",\"Pickup\",\"Pickup\",\"Pickup\",\"Pickup\",\"Pickup\",\"Pickup\",\"Pickup\",\"Pickup\"],\"x_values\":{\"__ndarray__\":\"X353kSBUMkByYacBino8QFYr9LcYEldAlG+4ULBlS0DTr8UGki8oQD2IBP8hsE9AyP4okeEb0z9hXLcN2WhBQDNG5yv0aVhAoRrj1Uw9PkDW9RQKubBDQA==\",\"dtype\":\"float64\",\"shape\":[11]},\"y_values\":{\"__ndarray__\":\"q+4VeRr7MEBQhQaWzE30P5ccDmjn9FRACCw0hE0pHUAY77Es8oBPQHzNNHXbKjNAnF9jkdvmSUCRxorMnJpUQIPwGit5RFRA4uia4k8kU0B9x7XTFSdRQA==\",\"dtype\":\"float64\",\"shape\":[11]}}},\"id\":\"0f6beaef-b7fd-4cd3-8305-d021b3c75632\",\"type\":\"ColumnDataSource\"},{\"attributes\":{\"line_alpha\":{\"value\":0.1},\"line_color\":{\"value\":\"#1f77b4\"},\"line_dash\":[6],\"x\":{\"field\":\"x\"},\"y\":{\"field\":\"y\"}},\"id\":\"4a691d10-78d9-474e-bd4f-3c76188d0ea5\",\"type\":\"Line\"},{\"attributes\":{\"callback\":null,\"end\":115,\"start\":-15},\"id\":\"b09f9f85-3ef6-490b-8b10-daf481985157\",\"type\":\"Range1d\"},{\"attributes\":{\"line_alpha\":{\"value\":0.5},\"line_color\":{\"value\":\"grey\"},\"line_dash\":[6],\"x\":{\"field\":\"x\"},\"y\":{\"field\":\"y\"}},\"id\":\"e81769ed-f697-4899-bbfb-94a41f259687\",\"type\":\"Line\"},{\"attributes\":{\"callback\":null,\"column_names\":[\"x_values\",\"y_values\"],\"data\":{\"chart_index\":[{\"type\":\"Dropoff\"},{\"type\":\"Dropoff\"},{\"type\":\"Dropoff\"},{\"type\":\"Dropoff\"},{\"type\":\"Dropoff\"},{\"type\":\"Dropoff\"},{\"type\":\"Dropoff\"},{\"type\":\"Dropoff\"},{\"type\":\"Dropoff\"},{\"type\":\"Dropoff\"},{\"type\":\"Dropoff\"}],\"type\":[\"Dropoff\",\"Dropoff\",\"Dropoff\",\"Dropoff\",\"Dropoff\",\"Dropoff\",\"Dropoff\",\"Dropoff\",\"Dropoff\",\"Dropoff\",\"Dropoff\"],\"x_values\":{\"__ndarray__\":\"a4p81JaKUUBTuEYxQ0pSQGWQmmQg0EJAuXBKqQi6IUCv6t6V8w44QN9epwN2Xz9A0vWu7KBdMkBrOtqEZclWQJDa8eDTbzFAn9Ye8UFYRkCRRc5JPxNYQA==\",\"dtype\":\"float64\",\"shape\":[11]},\"y_values\":{\"__ndarray__\":\"PlRuwtmXOUDSzxdv1M1MQGaJN8KdsCZAZXR/4ecaWEALqNqBXb9BQObUoxHWM0lAiOzLiUMTVEAuRlkvc7AqQB2FUjG2ZURABjozpnnURUAJTEif4yc9QA==\",\"dtype\":\"float64\",\"shape\":[11]}}},\"id\":\"fca4b44c-3914-4ef2-b6dd-e449416fea12\",\"type\":\"ColumnDataSource\"},{\"attributes\":{\"line_alpha\":{\"value\":0.1},\"line_color\":{\"value\":\"#1f77b4\"},\"line_dash\":[6],\"x\":{\"field\":\"x\"},\"y\":{\"field\":\"y\"}},\"id\":\"26f9cc7e-9f6d-40af-a002-ced654b0bc19\",\"type\":\"Line\"},{\"attributes\":{\"data_source\":{\"id\":\"7f859865-e70e-44b9-9ca9-07529a990214\",\"type\":\"ColumnDataSource\"},\"glyph\":{\"id\":\"e81769ed-f697-4899-bbfb-94a41f259687\",\"type\":\"Line\"},\"hover_glyph\":null,\"nonselection_glyph\":{\"id\":\"26f9cc7e-9f6d-40af-a002-ced654b0bc19\",\"type\":\"Line\"},\"selection_glyph\":null},\"id\":\"e0578794-1d53-435d-8d8c-302b64dd7e9d\",\"type\":\"GlyphRenderer\"},{\"attributes\":{\"line_alpha\":{\"value\":0.1},\"line_color\":{\"value\":\"#1f77b4\"},\"line_dash\":[6],\"x\":{\"field\":\"x\"},\"y\":{\"field\":\"y\"}},\"id\":\"20b49f78-278a-419d-a052-260ddda58eea\",\"type\":\"Line\"},{\"attributes\":{\"data_source\":{\"id\":\"2001a58d-45af-45c6-ae8c-d174961f30b9\",\"type\":\"ColumnDataSource\"},\"glyph\":{\"id\":\"2deaae67-ae9a-4742-9e93-06418d7f6a8d\",\"type\":\"Line\"},\"hover_glyph\":null,\"nonselection_glyph\":{\"id\":\"20b49f78-278a-419d-a052-260ddda58eea\",\"type\":\"Line\"},\"selection_glyph\":null},\"id\":\"0f51e865-b9f5-432c-90e4-03ade2463f92\",\"type\":\"GlyphRenderer\"},{\"attributes\":{},\"id\":\"db099ab0-4a05-4b06-9d23-686375f8ef7d\",\"type\":\"BasicTickFormatter\"},{\"attributes\":{\"line_alpha\":{\"value\":0.5},\"line_color\":{\"value\":\"grey\"},\"line_dash\":[6],\"x\":{\"field\":\"x\"},\"y\":{\"field\":\"y\"}},\"id\":\"f32c62d3-b3b0-401d-ab43-9bf6d44fc854\",\"type\":\"Line\"},{\"attributes\":{\"axis_label\":\"y\",\"formatter\":{\"id\":\"ec25ef23-0dd2-4ba4-9481-c8353629ec13\",\"type\":\"BasicTickFormatter\"},\"plot\":{\"id\":\"7ff943ca-15c1-4481-ad9b-f19bf3ca6561\",\"subtype\":\"Chart\",\"type\":\"Plot\"},\"ticker\":{\"id\":\"e1d98905-8bbe-402d-a9cc-555f50a792d3\",\"type\":\"BasicTicker\"}},\"id\":\"107a6133-ea0e-4384-bc35-dab3a6691ce1\",\"type\":\"LinearAxis\"},{\"attributes\":{\"dimension\":1,\"plot\":{\"id\":\"7ff943ca-15c1-4481-ad9b-f19bf3ca6561\",\"subtype\":\"Chart\",\"type\":\"Plot\"},\"ticker\":{\"id\":\"e1d98905-8bbe-402d-a9cc-555f50a792d3\",\"type\":\"BasicTicker\"}},\"id\":\"7823c831-3702-4f7e-998b-49bceb6db397\",\"type\":\"Grid\"},{\"attributes\":{\"overlay\":{\"id\":\"969508e5-fdb3-41b0-bec5-142bdbb8f2dd\",\"type\":\"BoxAnnotation\"},\"plot\":{\"id\":\"7ff943ca-15c1-4481-ad9b-f19bf3ca6561\",\"subtype\":\"Chart\",\"type\":\"Plot\"}},\"id\":\"a11a818a-eca1-499f-86f6-1bb778dc121a\",\"type\":\"BoxZoomTool\"},{\"attributes\":{\"active_drag\":\"auto\",\"active_scroll\":\"auto\",\"active_tap\":\"auto\",\"tools\":[{\"id\":\"dcc3ebf9-d67a-4a7b-ab26-fadd2514ada9\",\"type\":\"PanTool\"},{\"id\":\"39a82763-e86f-4c0c-b451-f224c739cc04\",\"type\":\"WheelZoomTool\"},{\"id\":\"a11a818a-eca1-499f-86f6-1bb778dc121a\",\"type\":\"BoxZoomTool\"},{\"id\":\"343f5116-b4c9-442e-8463-c4bd1dad8f9e\",\"type\":\"SaveTool\"},{\"id\":\"312ebfe3-b548-4daf-b8d9-84e0ce710164\",\"type\":\"ResetTool\"},{\"id\":\"34b6931a-6801-4563-babc-3566e1498324\",\"type\":\"HelpTool\"}]},\"id\":\"8e5db5a3-1334-449a-88e3-d76120099d4f\",\"type\":\"Toolbar\"},{\"attributes\":{\"callback\":null,\"column_names\":[\"x\",\"y\"],\"data\":{\"x\":[31.770694684563605,30.239453666634862,12.09291096842927,24.058404318736105,44.68951238637714],\"y\":[54.41314151418699,76.56737580421353,63.00739058197195,35.495041114583806,43.65996243954946]}},\"id\":\"d927d7a6-3452-49e9-8255-839db7108533\",\"type\":\"ColumnDataSource\"},{\"attributes\":{\"plot\":{\"id\":\"7ff943ca-15c1-4481-ad9b-f19bf3ca6561\",\"subtype\":\"Chart\",\"type\":\"Plot\"},\"ticker\":{\"id\":\"f240acd2-3bc2-421e-86c4-ce5481e67505\",\"type\":\"BasicTicker\"}},\"id\":\"b8dc7cf1-68c8-4b29-b02c-0fc5f4b7354f\",\"type\":\"Grid\"},{\"attributes\":{\"data_source\":{\"id\":\"d927d7a6-3452-49e9-8255-839db7108533\",\"type\":\"ColumnDataSource\"},\"glyph\":{\"id\":\"f32c62d3-b3b0-401d-ab43-9bf6d44fc854\",\"type\":\"Line\"},\"hover_glyph\":null,\"nonselection_glyph\":{\"id\":\"d2bb7ac3-da22-468b-943f-99fe4ea80d08\",\"type\":\"Line\"},\"selection_glyph\":null},\"id\":\"32364b52-a243-4aa0-921e-6a59c3941a6a\",\"type\":\"GlyphRenderer\"},{\"attributes\":{\"data_source\":{\"id\":\"fca4b44c-3914-4ef2-b6dd-e449416fea12\",\"type\":\"ColumnDataSource\"},\"glyph\":{\"id\":\"a1447a4e-65aa-47d9-86b7-652c7d7fa977\",\"type\":\"Circle\"},\"hover_glyph\":null,\"nonselection_glyph\":null,\"selection_glyph\":null},\"id\":\"bd33b5b4-4c71-4076-9188-611465b75ec3\",\"type\":\"GlyphRenderer\"},{\"attributes\":{\"fill_alpha\":{\"value\":0.7},\"fill_color\":{\"value\":\"#f22c40\"},\"line_color\":{\"value\":\"#f22c40\"},\"size\":{\"units\":\"screen\",\"value\":8},\"x\":{\"field\":\"x_values\"},\"y\":{\"field\":\"y_values\"}},\"id\":\"a1447a4e-65aa-47d9-86b7-652c7d7fa977\",\"type\":\"Circle\"},{\"attributes\":{},\"id\":\"f240acd2-3bc2-421e-86c4-ce5481e67505\",\"type\":\"BasicTicker\"},{\"attributes\":{\"label\":{\"value\":\"Pedicab\"},\"renderers\":[{\"id\":\"fd59863b-221a-4e71-9528-0478749b2909\",\"type\":\"GlyphRenderer\"}]},\"id\":\"822cc152-eb5c-4d76-9b0f-f77d2c1d8f28\",\"type\":\"LegendItem\"},{\"attributes\":{\"callback\":null,\"column_names\":[\"x\",\"y\"],\"data\":{\"x\":[65.20680944172358,97.6555280455148,92.28275870175034,17.436826762243584,37.625988555403445],\"y\":[58.8929527975783,81.06989553099451,83.8266239297685,40.794622578900295,11.344953603057274]}},\"id\":\"2001a58d-45af-45c6-ae8c-d174961f30b9\",\"type\":\"ColumnDataSource\"},{\"attributes\":{\"plot\":{\"id\":\"7ff943ca-15c1-4481-ad9b-f19bf3ca6561\",\"subtype\":\"Chart\",\"type\":\"Plot\"}},\"id\":\"39a82763-e86f-4c0c-b451-f224c739cc04\",\"type\":\"WheelZoomTool\"},{\"attributes\":{\"items\":[{\"id\":\"822cc152-eb5c-4d76-9b0f-f77d2c1d8f28\",\"type\":\"LegendItem\"},{\"id\":\"58eb2c88-e087-4a94-978d-e6759c5a057c\",\"type\":\"LegendItem\"},{\"id\":\"02a13c48-1d62-49a0-bbad-34b856674e85\",\"type\":\"LegendItem\"}],\"location\":\"top_left\",\"orientation\":\"horizontal\",\"plot\":{\"id\":\"7ff943ca-15c1-4481-ad9b-f19bf3ca6561\",\"subtype\":\"Chart\",\"type\":\"Plot\"}},\"id\":\"32d1b5a0-5afd-4a00-afb6-4ac2214a6c12\",\"type\":\"Legend\"},{\"attributes\":{\"plot\":{\"id\":\"7ff943ca-15c1-4481-ad9b-f19bf3ca6561\",\"subtype\":\"Chart\",\"type\":\"Plot\"}},\"id\":\"343f5116-b4c9-442e-8463-c4bd1dad8f9e\",\"type\":\"SaveTool\"},{\"attributes\":{\"plot\":{\"id\":\"7ff943ca-15c1-4481-ad9b-f19bf3ca6561\",\"subtype\":\"Chart\",\"type\":\"Plot\"}},\"id\":\"dcc3ebf9-d67a-4a7b-ab26-fadd2514ada9\",\"type\":\"PanTool\"},{\"attributes\":{\"bottom_units\":\"screen\",\"fill_alpha\":{\"value\":0.5},\"fill_color\":{\"value\":\"lightgrey\"},\"left_units\":\"screen\",\"level\":\"overlay\",\"line_alpha\":{\"value\":1.0},\"line_color\":{\"value\":\"black\"},\"line_dash\":[4,4],\"line_width\":{\"value\":2},\"plot\":null,\"render_mode\":\"css\",\"right_units\":\"screen\",\"top_units\":\"screen\"},\"id\":\"969508e5-fdb3-41b0-bec5-142bdbb8f2dd\",\"type\":\"BoxAnnotation\"},{\"attributes\":{\"callback\":null,\"column_names\":[\"x_values\",\"y_values\"],\"data\":{\"chart_index\":[{\"type\":\"Pedicab\"},{\"type\":\"Pedicab\"},{\"type\":\"Pedicab\"},{\"type\":\"Pedicab\"},{\"type\":\"Pedicab\"},{\"type\":\"Pedicab\"},{\"type\":\"Pedicab\"}],\"type\":[\"Pedicab\",\"Pedicab\",\"Pedicab\",\"Pedicab\",\"Pedicab\",\"Pedicab\",\"Pedicab\"],\"x_values\":{\"__ndarray__\":\"gmO2LMe7QEDXZjE/TMU/QJBiMUK3wzhAaAkG+CjaQUBBcpVxgHZAQMnSEP1WrTFAPC2rXTxNUEA=\",\"dtype\":\"float64\",\"shape\":[7]},\"y_values\":{\"__ndarray__\":\"xKCrBhwRPEDKBjbS4TRLQAEc8Q9OUTtA+z5pIK4jPEDyFWYobeBMQOhOEJEnp0ZAOjz7RkxyTUA=\",\"dtype\":\"float64\",\"shape\":[7]}}},\"id\":\"527b3753-dc4b-427d-b04d-74cbb0160ae5\",\"type\":\"ColumnDataSource\"},{\"attributes\":{\"plot\":{\"id\":\"7ff943ca-15c1-4481-ad9b-f19bf3ca6561\",\"subtype\":\"Chart\",\"type\":\"Plot\"}},\"id\":\"312ebfe3-b548-4daf-b8d9-84e0ce710164\",\"type\":\"ResetTool\"},{\"attributes\":{\"plot\":{\"id\":\"7ff943ca-15c1-4481-ad9b-f19bf3ca6561\",\"subtype\":\"Chart\",\"type\":\"Plot\"}},\"id\":\"34b6931a-6801-4563-babc-3566e1498324\",\"type\":\"HelpTool\"},{\"attributes\":{\"axis_label\":\"x\",\"formatter\":{\"id\":\"db099ab0-4a05-4b06-9d23-686375f8ef7d\",\"type\":\"BasicTickFormatter\"},\"plot\":{\"id\":\"7ff943ca-15c1-4481-ad9b-f19bf3ca6561\",\"subtype\":\"Chart\",\"type\":\"Plot\"},\"ticker\":{\"id\":\"f240acd2-3bc2-421e-86c4-ce5481e67505\",\"type\":\"BasicTicker\"}},\"id\":\"02491729-c06f-4826-9b38-1abbe45d9b49\",\"type\":\"LinearAxis\"},{\"attributes\":{\"label\":{\"value\":\"Pickup\"},\"renderers\":[{\"id\":\"695526b4-d904-4b27-8a0d-fb5051cec456\",\"type\":\"GlyphRenderer\"}]},\"id\":\"58eb2c88-e087-4a94-978d-e6759c5a057c\",\"type\":\"LegendItem\"},{\"attributes\":{\"callback\":null,\"column_names\":[\"x\",\"y\"],\"data\":{\"x\":[24.764515053803336,28.478668311466613,18.328621951745273,70.16545593416383,73.16035110384227],\"y\":[27.3175973857542,1.268993936573981,16.980872695784154,25.593166496215638,57.60804546988187]}},\"id\":\"8b137c98-c5be-4ba6-a459-7e5511a38c71\",\"type\":\"ColumnDataSource\"}],\"root_ids\":[\"7ff943ca-15c1-4481-ad9b-f19bf3ca6561\"]},\"title\":\"Bokeh Application\",\"version\":\"0.12.4\"}};\n",
       "            var render_items = [{\"docid\":\"632bf613-282f-4512-9b03-b4e825f47a29\",\"elementid\":\"14664351-4b25-4549-b436-0a13fdbeeed5\",\"modelid\":\"7ff943ca-15c1-4481-ad9b-f19bf3ca6561\"}];\n",
       "            \n",
       "            Bokeh.embed.embed_items(docs_json, render_items);\n",
       "          };\n",
       "          if (document.readyState != \"loading\") fn();\n",
       "          else document.addEventListener(\"DOMContentLoaded\", fn);\n",
       "        })();\n",
       "      },\n",
       "      function(Bokeh) {\n",
       "      }\n",
       "    ];\n",
       "  \n",
       "    function run_inline_js() {\n",
       "      \n",
       "      if ((window.Bokeh !== undefined) || (force === true)) {\n",
       "        for (var i = 0; i < inline_js.length; i++) {\n",
       "          inline_js[i](window.Bokeh);\n",
       "        }if (force === true) {\n",
       "          display_loaded();\n",
       "        }} else if (Date.now() < window._bokeh_timeout) {\n",
       "        setTimeout(run_inline_js, 100);\n",
       "      } else if (!window._bokeh_failed_load) {\n",
       "        console.log(\"Bokeh: BokehJS failed to load within specified timeout.\");\n",
       "        window._bokeh_failed_load = true;\n",
       "      } else if (force !== true) {\n",
       "        var cell = $(document.getElementById(\"14664351-4b25-4549-b436-0a13fdbeeed5\")).parents('.cell').data().cell;\n",
       "        cell.output_area.append_execute_result(NB_LOAD_WARNING)\n",
       "      }\n",
       "  \n",
       "    }\n",
       "  \n",
       "    if (window._bokeh_is_loading === 0) {\n",
       "      console.log(\"Bokeh: BokehJS loaded, going straight to plotting\");\n",
       "      run_inline_js();\n",
       "    } else {\n",
       "      load_libs(js_urls, function() {\n",
       "        console.log(\"Bokeh: BokehJS plotting callback run at\", now());\n",
       "        run_inline_js();\n",
       "      });\n",
       "    }\n",
       "  }(this));\n",
       "</script>"
      ]
     },
     "metadata": {},
     "output_type": "display_data"
    }
   ],
   "source": [
    "plot_routes()"
   ]
  },
  {
   "cell_type": "markdown",
   "metadata": {
    "deletable": true,
    "editable": true,
    "slideshow": {
     "slide_type": "slide"
    }
   },
   "source": [
    "## Where to find more information\n",
    "\n",
    "* [Introduction to Operations Research](http://www.mheducation.com/highered/product/M1259162982.html) by Hillier and Lieberman\n",
    "* [Linear and Nonlinear Optimization](http://bookstore.siam.org/ot108/) by Griva, Nash, and Softer\n",
    "* [Applied Integer Programming](http://www.wiley.com/WileyCDA/WileyTitle/productCd-0470373067.html) by Chen, Batson, and Dang\n",
    "* [Model Building in Mathematical Programming](http://www.wiley.com/WileyCDA/WileyTitle/productCd-1118443330.html) by Williams"
   ]
  }
 ],
 "metadata": {
  "celltoolbar": "Slideshow",
  "kernelspec": {
   "display_name": "Python 3",
   "language": "python",
   "name": "python3"
  },
  "language_info": {
   "codemirror_mode": {
    "name": "ipython",
    "version": 3
   },
   "file_extension": ".py",
   "mimetype": "text/x-python",
   "name": "python",
   "nbconvert_exporter": "python",
   "pygments_lexer": "ipython3",
   "version": "3.6.0"
  }
 },
 "nbformat": 4,
 "nbformat_minor": 2
}
